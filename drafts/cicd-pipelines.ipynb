{
 "cells": [
  {
   "cell_type": "markdown",
   "metadata": {},
   "source": [
    "# Continuous Integration and Deployment Pipelines"
   ]
  },
  {
   "cell_type": "markdown",
   "metadata": {},
   "source": [
    "CICD = cont integration and cont deployment\n",
    "\n",
    "automating stages of development and deployment\n",
    "\n",
    "(ci) build -> test -> merge -> | (cd) -> automatic release to repo -> (cdep) automatic deploy to prod\n",
    "\n",
    "automating means no person needs to run a script or ssh into a machine (error prone)\n",
    "system always in a releasable state -> react to issue quickly\n",
    "faster release cycle -> on a regular basis -> chance of breaking something reduced (easier to integrate since changes around model are also small)\n",
    "visibility across company (audit log)\n",
    "\n",
    "managed ci cd platform\n",
    "hosted platform (circle ci)\n",
    "run on their service with free tier\n"
   ]
  },
  {
   "cell_type": "markdown",
   "metadata": {},
   "source": [
    "## CircleCI"
   ]
  },
  {
   "cell_type": "markdown",
   "metadata": {},
   "source": [
    "Third party. thus, no need to run in your own infra\n",
    "good all around tool with a free tier.\n",
    "login with github\n",
    "setup project\n"
   ]
  },
  {
   "cell_type": "markdown",
   "metadata": {},
   "source": [
    "step1: automating train, test, and deployment\n",
    "recall: tox -e train, tox (for testing)\n",
    "        git push heroku main\n",
    "\n",
    "step2: env variables in circleci, heroku_api_key, herouku_app_name, pip_extra_index_url\n",
    " this tells circleci where to connect in heroku\n",
    " pip_extra_index_url install dependencies in a package index server\n",
    "\n",
    "step3: env variables in heroku"
   ]
  },
  {
   "cell_type": "markdown",
   "metadata": {},
   "source": [
    "### config file\n",
    "1. create .circleci/config.yml in the root of repo\n",
    "2. preface all jobs with directory\n",
    "3. workflows\n",
    "    - test\n",
    "    - deploy to heroku (make sure tests pass first)\n",
    "4. uploading model (later)\n"
   ]
  },
  {
   "cell_type": "code",
   "execution_count": null,
   "metadata": {},
   "outputs": [],
   "source": []
  }
 ],
 "metadata": {
  "interpreter": {
   "hash": "a55a0d1272a360f93e747858d443ec26da69f69eac36db3e567a961ca624a861"
  },
  "kernelspec": {
   "display_name": "Python 3.9.12 ('ml')",
   "language": "python",
   "name": "python3"
  },
  "language_info": {
   "name": "python",
   "version": "3.9.12"
  },
  "orig_nbformat": 4
 },
 "nbformat": 4,
 "nbformat_minor": 2
}
