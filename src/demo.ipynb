{
 "cells": [
  {
   "cell_type": "markdown",
   "metadata": {},
   "source": [
    "# Use cases of the `inefficient-networks` helper package"
   ]
  },
  {
   "cell_type": "code",
   "execution_count": 2,
   "metadata": {},
   "outputs": [],
   "source": [
    "from ineff import utils\n",
    "from ineff.config import config"
   ]
  },
  {
   "cell_type": "markdown",
   "metadata": {},
   "source": [
    "## Downloading from Kaggle datasets"
   ]
  },
  {
   "cell_type": "code",
   "execution_count": 2,
   "metadata": {},
   "outputs": [
    {
     "name": "stderr",
     "output_type": "stream",
     "text": [
      "  0%|          | 0.00/52.4M [00:00<?, ?B/s]"
     ]
    },
    {
     "name": "stdout",
     "output_type": "stream",
     "text": [
      "Downloading kumarmanoj-bag-of-words-meets-bags-of-popcorn.zip to /Users/particle1331/code/inefficient-networks/package/inefficient_networks/data\n"
     ]
    },
    {
     "name": "stderr",
     "output_type": "stream",
     "text": [
      " 99%|█████████▉| 52.0M/52.4M [00:14<00:00, 3.97MB/s]"
     ]
    },
    {
     "name": "stdout",
     "output_type": "stream",
     "text": [
      "\n",
      "Archive:  /Users/particle1331/code/inefficient-networks/package/inefficient_networks/data/kumarmanoj-bag-of-words-meets-bags-of-popcorn.zip\n",
      "  inflating: /Users/particle1331/code/inefficient-networks/package/inefficient_networks/data/kumarmanoj-bag-of-words-meets-bags-of-popcorn/labeledTrainData.tsv  "
     ]
    },
    {
     "name": "stderr",
     "output_type": "stream",
     "text": [
      "100%|██████████| 52.4M/52.4M [00:14<00:00, 3.72MB/s]\n"
     ]
    },
    {
     "name": "stdout",
     "output_type": "stream",
     "text": [
      "\n",
      "  inflating: /Users/particle1331/code/inefficient-networks/package/inefficient_networks/data/kumarmanoj-bag-of-words-meets-bags-of-popcorn/sampleSubmission.csv  \n",
      "  inflating: /Users/particle1331/code/inefficient-networks/package/inefficient_networks/data/kumarmanoj-bag-of-words-meets-bags-of-popcorn/testData.tsv  \n",
      "  inflating: /Users/particle1331/code/inefficient-networks/package/inefficient_networks/data/kumarmanoj-bag-of-words-meets-bags-of-popcorn/unlabeledTrainData.tsv  \n"
     ]
    }
   ],
   "source": [
    "utils.download_kaggle_dataset(\"ymanojkumar023/kumarmanoj-bag-of-words-meets-bags-of-popcorn\")"
   ]
  },
  {
   "cell_type": "markdown",
   "metadata": {},
   "source": [
    "## Downloading data from a Kaggle competition"
   ]
  },
  {
   "cell_type": "code",
   "execution_count": 8,
   "metadata": {},
   "outputs": [
    {
     "name": "stdout",
     "output_type": "stream",
     "text": [
      "Downloading house-prices-advanced-regression-techniques.zip to /Users/particle1331/code/inefficient-networks/package/inefficient_networks/data\n",
      "\n"
     ]
    },
    {
     "name": "stderr",
     "output_type": "stream",
     "text": [
      "100%|██████████| 199k/199k [00:00<00:00, 1.86MB/s]\n"
     ]
    }
   ],
   "source": [
    "utils.download_kaggle_competition(\"house-prices-advanced-regression-techniques\")"
   ]
  },
  {
   "cell_type": "markdown",
   "metadata": {},
   "source": [
    "## Configured save paths"
   ]
  },
  {
   "cell_type": "code",
   "execution_count": 4,
   "metadata": {},
   "outputs": [
    {
     "data": {
      "text/plain": [
       "PosixPath('/Users/particle1331/code/inefficient-networks/package/inefficient_networks/trained_models')"
      ]
     },
     "execution_count": 4,
     "metadata": {},
     "output_type": "execute_result"
    }
   ],
   "source": [
    "config.TRAINED_MODELS_DIR"
   ]
  },
  {
   "cell_type": "code",
   "execution_count": 5,
   "metadata": {},
   "outputs": [
    {
     "data": {
      "text/plain": [
       "PosixPath('/Users/particle1331/code/inefficient-networks/package/inefficient_networks/data')"
      ]
     },
     "execution_count": 5,
     "metadata": {},
     "output_type": "execute_result"
    }
   ],
   "source": [
    "config.DATASET_DIR"
   ]
  },
  {
   "cell_type": "markdown",
   "metadata": {},
   "source": [
    "## Using the `config` object"
   ]
  },
  {
   "cell_type": "code",
   "execution_count": 3,
   "metadata": {},
   "outputs": [
    {
     "data": {
      "text/plain": [
       "[PhysicalDevice(name='/physical_device:CPU:0', device_type='CPU'),\n",
       " PhysicalDevice(name='/physical_device:GPU:0', device_type='GPU')]"
      ]
     },
     "execution_count": 3,
     "metadata": {},
     "output_type": "execute_result"
    }
   ],
   "source": [
    "# Setting format of matplotlib images\n",
    "config.set_matplotlib(format=\"svg\")\n",
    "\n",
    "# Ignoring warnings\n",
    "config.set_ignore_warnings()\n",
    "\n",
    "# Setting TF, numpy, and python random seeds\n",
    "config.set_tensorflow_seeds(seed=42)\n",
    "\n",
    "# List TF devices\n",
    "config.list_tensorflow_devices()"
   ]
  },
  {
   "cell_type": "code",
   "execution_count": null,
   "metadata": {},
   "outputs": [],
   "source": []
  }
 ],
 "metadata": {
  "interpreter": {
   "hash": "a55a0d1272a360f93e747858d443ec26da69f69eac36db3e567a961ca624a861"
  },
  "kernelspec": {
   "display_name": "Python 3.8.12 ('ml')",
   "language": "python",
   "name": "python3"
  },
  "language_info": {
   "codemirror_mode": {
    "name": "ipython",
    "version": 3
   },
   "file_extension": ".py",
   "mimetype": "text/x-python",
   "name": "python",
   "nbconvert_exporter": "python",
   "pygments_lexer": "ipython3",
   "version": "3.9.12"
  },
  "orig_nbformat": 4
 },
 "nbformat": 4,
 "nbformat_minor": 2
}
