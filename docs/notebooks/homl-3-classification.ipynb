{
 "cells": [
  {
   "cell_type": "markdown",
   "id": "23b29c80-0e6b-42bf-8b4a-02e70f2d64e1",
   "metadata": {},
   "source": [
    "# Classification"
   ]
  },
  {
   "cell_type": "markdown",
   "id": "2e16091c-060c-4244-b057-099f8c0e1262",
   "metadata": {},
   "source": [
    "## MNIST"
   ]
  },
  {
   "cell_type": "markdown",
   "id": "bec20b56-571b-4848-92bd-3113062f7aab",
   "metadata": {},
   "source": [
    "In this chapter we will be using the **MNIST dataset**, which is a set of 70,000 small\n",
    "images of digits handwritten by high school students and employees of the US Census Bureau. Each image is labeled with the digit it represents. This set has been studied so much that it is often called the \"hello world\" of Machine Learning: whenever\n",
    "people come up with a new classification algorithm they are curious to see how it will\n",
    "perform on MNIST, and anyone who learns machine learning tackles this dataset\n",
    "sooner or later."
   ]
  },
  {
   "cell_type": "code",
   "execution_count": 1,
   "id": "5c9dbc42-2b42-4124-a47d-b853a52c8618",
   "metadata": {},
   "outputs": [
    {
     "data": {
      "text/plain": [
       "dict_keys(['data', 'target', 'frame', 'categories', 'feature_names', 'target_names', 'DESCR', 'details', 'url'])"
      ]
     },
     "execution_count": 1,
     "metadata": {},
     "output_type": "execute_result"
    }
   ],
   "source": [
    "from sklearn.datasets import fetch_openml\n",
    "\n",
    "mnist = fetch_openml('mnist_784', version=1)\n",
    "mnist.keys()"
   ]
  },
  {
   "cell_type": "code",
   "execution_count": 1,
   "id": "04dbea8e-b424-49a6-8481-a49acb32e61d",
   "metadata": {},
   "outputs": [
    {
     "ename": "SyntaxError",
     "evalue": "invalid syntax (<ipython-input-1-d0dbb68a68a2>, line 1)",
     "output_type": "error",
     "traceback": [
      "\u001b[0;36m  File \u001b[0;32m\"<ipython-input-1-d0dbb68a68a2>\"\u001b[0;36m, line \u001b[0;32m1\u001b[0m\n\u001b[0;31m    90 10\u001b[0m\n\u001b[0m        ^\u001b[0m\n\u001b[0;31mSyntaxError\u001b[0m\u001b[0;31m:\u001b[0m invalid syntax\n"
     ]
    }
   ],
   "source": [
    "900 20  \n",
    "  2 30\n",
    "\n",
    "FPR = 20 / (900 + 20)\n",
    "TPR = 30 / ()\n",
    "\n",
    "AUC not good for imbalanced data."
   ]
  },
  {
   "cell_type": "code",
   "execution_count": null,
   "id": "a5e542c4-2f10-4166-8546-70a66dfee838",
   "metadata": {},
   "outputs": [],
   "source": []
  }
 ],
 "metadata": {
  "kernelspec": {
   "display_name": "Python 3.7.11 (homl)",
   "language": "python",
   "name": "homl"
  },
  "language_info": {
   "codemirror_mode": {
    "name": "ipython",
    "version": 3
   },
   "file_extension": ".py",
   "mimetype": "text/x-python",
   "name": "python",
   "nbconvert_exporter": "python",
   "pygments_lexer": "ipython3",
   "version": "3.7.11"
  }
 },
 "nbformat": 4,
 "nbformat_minor": 5
}
