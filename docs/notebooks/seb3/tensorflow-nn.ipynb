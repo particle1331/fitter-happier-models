{
 "cells": [
  {
   "cell_type": "markdown",
   "metadata": {},
   "source": [
    "# Training NNs in TensorFlow"
   ]
  },
  {
   "cell_type": "markdown",
   "metadata": {},
   "source": [
    "```{admonition} Attribution\n",
    "The following notebook follows chapter 13 of raschka\n",
    "```"
   ]
  },
  {
   "cell_type": "markdown",
   "metadata": {},
   "source": [
    "- how tf improves training performance\n",
    "- `tf.data` (Tensorflow Dataset API): input pipelines + efficient model training\n",
    "- optimized ML code\n",
    "- activiation functions\n",
    "- tf.keras = convenient high level wrapper around TF used to implement common DL architectures"
   ]
  },
  {
   "cell_type": "markdown",
   "metadata": {},
   "source": []
  },
  {
   "cell_type": "code",
   "execution_count": null,
   "metadata": {},
   "outputs": [],
   "source": []
  }
 ],
 "metadata": {
  "language_info": {
   "name": "python"
  },
  "orig_nbformat": 4
 },
 "nbformat": 4,
 "nbformat_minor": 2
}
