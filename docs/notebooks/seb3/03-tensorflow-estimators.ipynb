{
 "cells": [
  {
   "cell_type": "markdown",
   "metadata": {},
   "source": [
    "# TensorFlow Estimators"
   ]
  },
  {
   "cell_type": "markdown",
   "metadata": {},
   "source": [
    "```{admonition} Attribution\n",
    "This notebook builds on Chapter 14: *Going Deeper – The Mechanics of TensorFlow* of {cite}`RaschkaMirjalili2019`.\n",
    "```"
   ]
  },
  {
   "cell_type": "markdown",
   "metadata": {},
   "source": [
    "The `tf.estimator` API\n",
    "encapsulates the underlying steps in machine learning tasks, such as training,\n",
    "inference, and evaluation. Estimators are more encapsulated but also\n",
    "more scalable when compared to the previous approaches that we have covered\n",
    "in the previous notebook. Also, the `tf.estimator` API adds support for running models on\n",
    "multiple platforms without requiring major code changes, which makes them more\n",
    "suitable for the so-called \"production phase\" in industry applications. \n",
    "\n",
    "In addition,\n",
    "TensorFlow comes with a selection of off-the-shelf estimators for common machine\n",
    "learning and deep learning architectures that are useful for comparison studies, for\n",
    "example, to quickly assess whether a certain approach is applicable to a particular\n",
    "dataset or problem."
   ]
  },
  {
   "cell_type": "markdown",
   "metadata": {},
   "source": [
    "## Working with feature columns"
   ]
  },
  {
   "cell_type": "markdown",
   "metadata": {},
   "source": [
    "Note that while numeric data can be either continuous or discrete,\n",
    "in the context of the TensorFlow API, \"numeric\" data specifically refers to continuous\n",
    "data of the floating point type. Sometimes, feature sets are comprised of a mixture of different feature types. While TensorFlow Estimators were designed to handle all these different types of features, we must specify how each feature should be interpreted by the Estimator. For example, consider a scenario with a set of seven different features, as shown in the following figure:"
   ]
  },
  {
   "cell_type": "markdown",
   "metadata": {},
   "source": [
    "The features shown in the figure (model year, cylinders, displacement, horsepower, weight, acceleration, and origin) were obtained from the Auto MPG dataset, which is a common machine learning benchmark dataset for predicting the fuel efficiency of a car in miles per gallon (MPG). The full dataset and its description are available from UCI's machine learning repository at https://archive.ics.uci.edu/ml/ datasets/auto+mpg."
   ]
  },
  {
   "cell_type": "markdown",
   "metadata": {},
   "source": []
  }
 ],
 "metadata": {
  "language_info": {
   "name": "python"
  },
  "orig_nbformat": 4
 },
 "nbformat": 4,
 "nbformat_minor": 2
}
