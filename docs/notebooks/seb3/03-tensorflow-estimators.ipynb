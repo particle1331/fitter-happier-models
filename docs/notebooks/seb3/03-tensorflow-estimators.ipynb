{
 "cells": [
  {
   "cell_type": "markdown",
   "metadata": {},
   "source": [
    "# TensorFlow Estimators"
   ]
  },
  {
   "cell_type": "markdown",
   "metadata": {},
   "source": [
    "```{admonition} Attribution\n",
    "This notebook builds on Chapter 14: *Going Deeper – The Mechanics of TensorFlow* of {cite}`RaschkaMirjalili2019`.\n",
    "```"
   ]
  },
  {
   "cell_type": "markdown",
   "metadata": {},
   "source": [
    "The `tf.estimator` API\n",
    "encapsulates the underlying steps in machine learning tasks, such as training,\n",
    "inference, and evaluation. Estimators are more encapsulated but also\n",
    "more scalable when compared to the previous approaches that we have covered\n",
    "in the previous notebook. Also, the `tf.estimator` API adds support for running models on\n",
    "multiple platforms without requiring major code changes, which makes them more\n",
    "suitable for the so-called \"production phase\" in industry applications. In addition,\n",
    "TensorFlow comes with a selection of off-the-shelf estimators for common machine\n",
    "learning and deep learning architectures that are useful for comparison studies, for\n",
    "example, to quickly assess whether a certain approach is applicable to a particular\n",
    "dataset or problem."
   ]
  },
  {
   "cell_type": "markdown",
   "metadata": {},
   "source": [
    "## Working with feature columns"
   ]
  },
  {
   "cell_type": "markdown",
   "metadata": {},
   "source": [
    "Note that while numeric data can be either continuous or discrete,\n",
    "in the context of the TensorFlow API, \"numeric\" data specifically refers to continuous\n",
    "data of the floating point type."
   ]
  },
  {
   "cell_type": "markdown",
   "metadata": {},
   "source": []
  }
 ],
 "metadata": {
  "language_info": {
   "name": "python"
  },
  "orig_nbformat": 4
 },
 "nbformat": 4,
 "nbformat_minor": 2
}
