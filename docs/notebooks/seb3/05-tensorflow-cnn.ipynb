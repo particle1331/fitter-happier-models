{
 "cells": [
  {
   "cell_type": "markdown",
   "metadata": {},
   "source": [
    "# Convolutional Neural Networks"
   ]
  },
  {
   "cell_type": "markdown",
   "metadata": {},
   "source": [
    "In this notebook, we will learn about\n",
    "**convolutional neural networks** (**CNN**) for image classification. We will start\n",
    "by discussing the basic building blocks of CNNs, using a bottom-up approach.\n",
    "Then, we will take a deeper dive into the CNN architecture and explore how to\n",
    "implement CNNs in TensorFlow."
   ]
  },
  {
   "cell_type": "markdown",
   "metadata": {},
   "source": [
    "## Building blocks of CNNs"
   ]
  },
  {
   "cell_type": "markdown",
   "metadata": {},
   "source": [
    "We will discuss the broader concept of CNNs and why\n",
    "convolutional architectures are often described as \"feature extraction layers.\" Then,\n",
    "we will delve into the theoretical definition of the type of convolution operation that\n",
    "is commonly used in CNNs and walk through examples for computing convolutions\n",
    "in one and two dimensions."
   ]
  },
  {
   "cell_type": "markdown",
   "metadata": {},
   "source": [
    "### Understanding CNNs and feature hierarchies"
   ]
  },
  {
   "cell_type": "markdown",
   "metadata": {},
   "source": [
    "Certain types of multilayer NNs, and in particular, deep convolutional NNs,\n",
    "construct a so-called feature hierarchy by combining the low-level features in a\n",
    "layer-wise fashion to form high-level features. For example, if we're dealing with\n",
    "images, then low-level features, such as edges and blobs, are extracted from the\n",
    "earlier layers, which are combined together to form high-level features. These high-level features can form more complex shapes, such as the general contours of objects. \n",
    "For this reason, it's common\n",
    "to consider CNN layers as feature extractors: the early layers (those right after the\n",
    "input layer) extract low-level features from raw data, and the later layers (often fully\n",
    "connected layers like in a MLP) use these features to predict\n",
    "a continuous target value or class label."
   ]
  },
  {
   "cell_type": "markdown",
   "metadata": {},
   "source": [
    "A CNN computes **feature maps** from an input\n",
    "image, where each element comes from a local patch of pixels in the input image. This local patch of pixels is referred to as the local receptive field. CNNs will usually\n",
    "perform very well on image-related tasks, and this is largely due to two important ideas:\n",
    "\n",
    "* **Sparse connectivity**: A single element in the feature map is connected to only\n",
    "a small patch of pixels.\n",
    "\n",
    "* **Parameter-sharing**: The same weights are used for different patches of the\n",
    "input image."
   ]
  },
  {
   "cell_type": "markdown",
   "metadata": {},
   "source": [
    "Note that this is very different from connecting to the whole\n",
    "input image as in the case of perceptrons. As a direct consequence of these two ideas, replacing a conventional, fully connected\n",
    "MLP with a convolution layer substantially decreases the number of weights\n",
    "in the network and we will see an improvement in the ability to capture\n",
    "salient features. In the context of image data, it makes sense to assume that nearby\n",
    "pixels are typically more relevant to each other than pixels that are far away from\n",
    "each other."
   ]
  },
  {
   "cell_type": "markdown",
   "metadata": {},
   "source": [
    "### Discrete convolutions"
   ]
  },
  {
   "cell_type": "markdown",
   "metadata": {},
   "source": [
    "A **discrete convolution** (or simply **convolution**) is a fundamental operation in\n",
    "a CNN. Therefore, it's important to understand how this operation works. In\n",
    "this section, we will cover the mathematical definition and discuss some of the\n",
    "naive algorithms to compute convolutions of vectors and matrices (one and two-dimensional tensors)."
   ]
  },
  {
   "cell_type": "markdown",
   "metadata": {},
   "source": [
    "#### Discrete convolutions in one dimension"
   ]
  },
  {
   "cell_type": "markdown",
   "metadata": {},
   "source": [
    "A discrete convolution for two vectors $\\boldsymbol x$ (signal) and $\\boldsymbol w$ (kernel)is defined as follows:\n",
    "\n",
    "$$\\boldsymbol y = \\boldsymbol x * \\boldsymbol w \\quad\\rightarrow\\quad y_i = \\sum_{k=-\\infty}^{+\\infty} x_{i-k} w_k$$\n",
    "\n"
   ]
  },
  {
   "cell_type": "markdown",
   "metadata": {},
   "source": []
  }
 ],
 "metadata": {
  "interpreter": {
   "hash": "a55a0d1272a360f93e747858d443ec26da69f69eac36db3e567a961ca624a861"
  },
  "kernelspec": {
   "display_name": "Python 3.8.12 ('ml')",
   "language": "python",
   "name": "python3"
  },
  "language_info": {
   "codemirror_mode": {
    "name": "ipython",
    "version": 3
   },
   "file_extension": ".py",
   "mimetype": "text/x-python",
   "name": "python",
   "nbconvert_exporter": "python",
   "pygments_lexer": "ipython3",
   "version": "3.8.12"
  },
  "orig_nbformat": 4
 },
 "nbformat": 4,
 "nbformat_minor": 2
}
