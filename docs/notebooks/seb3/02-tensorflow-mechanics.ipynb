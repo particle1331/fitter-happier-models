{
 "cells": [
  {
   "cell_type": "markdown",
   "metadata": {},
   "source": [
    "# Mechanics of TensorFlow"
   ]
  },
  {
   "cell_type": "markdown",
   "metadata": {},
   "source": [
    "```{admonition} Attribution\n",
    "This notebook builds on Chapter 14: *Going Deeper – The Mechanics of TensorFlow* of {cite}`RaschkaMirjalili2019`.\n",
    "```"
   ]
  },
  {
   "cell_type": "markdown",
   "metadata": {},
   "source": [
    "Now that we have some hands-on experience with TensorFlow neural network\n",
    "training and machine learning, it's time to take a deeper dive into the TensorFlow\n",
    "library and explore its rich set of features, which will allow us to implement more\n",
    "advanced deep learning models."
   ]
  },
  {
   "cell_type": "code",
   "execution_count": 1,
   "metadata": {},
   "outputs": [
    {
     "name": "stdout",
     "output_type": "stream",
     "text": [
      "2.7.0\n",
      "[PhysicalDevice(name='/physical_device:GPU:0', device_type='GPU')]\n"
     ]
    }
   ],
   "source": [
    "import tensorflow as tf\n",
    "\n",
    "print(tf.__version__)\n",
    "print(tf.config.list_physical_devices('GPU'))"
   ]
  },
  {
   "cell_type": "markdown",
   "metadata": {},
   "source": [
    "## Improving computational performance with static graph execution"
   ]
  },
  {
   "cell_type": "markdown",
   "metadata": {},
   "source": [
    "Computations via the eager execution (dynamic graph) mode are not as efficient \n",
    "as the static graph execution in TensorFlow v1.x. TensorFlow v2 provides \n",
    "a tool called **AutoGraph** that can automatically transform Python code into \n",
    "TensorFlow's graph code for faster execution. In addition, TensorFlow provides \n",
    "a simple mechanism for compiling a normal Python function to a static TensorFlow \n",
    "graph in order to make the computations more efficient: `graph_function = tf.function(eager_function)` or using the `@tf.function` decorator."
   ]
  },
  {
   "cell_type": "markdown",
   "metadata": {},
   "source": [
    "### Specifying input signature and static graph tracing "
   ]
  },
  {
   "cell_type": "markdown",
   "metadata": {},
   "source": [
    "Note that while TensorFlow graphs strictly speaking require static types and shapes, \n",
    "`tf.function` readily supports such a dynamic typing capability (through separate static graphs will be created under the hood). For example, let's call this function \n",
    "with the following inputs:"
   ]
  },
  {
   "cell_type": "code",
   "execution_count": 2,
   "metadata": {},
   "outputs": [
    {
     "name": "stdout",
     "output_type": "stream",
     "text": [
      "Metal device set to: Apple M1\n",
      "\n",
      "systemMemory: 8.00 GB\n",
      "maxCacheSize: 2.67 GB\n",
      "\n",
      "Scalar Inputs: 6\n",
      "Rank 1 Inputs: [1, 2, 3]\n",
      "Rank 2 Inputs: [[1], [2], [3]]\n"
     ]
    },
    {
     "name": "stderr",
     "output_type": "stream",
     "text": [
      "2022-02-02 03:54:31.369548: I tensorflow/core/common_runtime/pluggable_device/pluggable_device_factory.cc:305] Could not identify NUMA node of platform GPU ID 0, defaulting to 0. Your kernel may not have been built with NUMA support.\n",
      "2022-02-02 03:54:31.369669: I tensorflow/core/common_runtime/pluggable_device/pluggable_device_factory.cc:271] Created TensorFlow device (/job:localhost/replica:0/task:0/device:GPU:0 with 0 MB memory) -> physical PluggableDevice (device: 0, name: METAL, pci bus id: <undefined>)\n",
      "2022-02-02 03:54:31.374468: W tensorflow/core/platform/profile_utils/cpu_utils.cc:128] Failed to get CPU frequency: 0 Hz\n",
      "2022-02-02 03:54:31.380096: I tensorflow/core/grappler/optimizers/custom_graph_optimizer_registry.cc:112] Plugin optimizer for device_type GPU is enabled.\n",
      "2022-02-02 03:54:31.384048: I tensorflow/core/grappler/optimizers/custom_graph_optimizer_registry.cc:112] Plugin optimizer for device_type GPU is enabled.\n"
     ]
    }
   ],
   "source": [
    "def f(x, y, z):\n",
    "    return x + y + z\n",
    "\n",
    "f_graph = tf.function(f)\n",
    "tf.print('Scalar Inputs:', f_graph(1, 2, 3))\n",
    "tf.print('Rank 1 Inputs:', f_graph([1], [2], [3]))\n",
    "tf.print('Rank 2 Inputs:', f_graph([[1]], [[2]], [[3]]))"
   ]
  },
  {
   "cell_type": "markdown",
   "metadata": {},
   "source": [
    "Here, TensorFlow uses a **tracing mechanism** to construct a graph based on the input arguments. For this tracing mechanism, TensorFlow generates a tuple of keys based on the input signatures\n",
    "given for calling the function. The generated keys are as follows:\n",
    "* For `tf.Tensor` arguments, the key is based on their shapes and `dtypes`.\n",
    "* For Python types, such as lists, their `id()` is used to generate cache keys.\n",
    "* For Python primitive values, the cache keys are based on the input values."
   ]
  },
  {
   "cell_type": "markdown",
   "metadata": {},
   "source": [
    "Upon calling such a decorated function, TensorFlow will check whether a graph with\n",
    "the corresponding key has already been generated. If such a graph does not exist,\n",
    "TensorFlow will generate a new graph and store the new key. \n",
    "If we want to limit the way a function can be called, we can specify its input signature\n",
    "via a tuple of `tf.TensorSpec` objects when defining the function. For example, let's\n",
    "take the previous function and modify it so that only rank 1 tensors of\n",
    "type `tf.int32` are allowed:"
   ]
  },
  {
   "cell_type": "code",
   "execution_count": 3,
   "metadata": {},
   "outputs": [
    {
     "name": "stdout",
     "output_type": "stream",
     "text": [
      "Rank 1 Inputs: [6]\n"
     ]
    },
    {
     "name": "stderr",
     "output_type": "stream",
     "text": [
      "2022-02-02 03:54:31.418140: I tensorflow/core/grappler/optimizers/custom_graph_optimizer_registry.cc:112] Plugin optimizer for device_type GPU is enabled.\n"
     ]
    }
   ],
   "source": [
    "def f(x, y, z):\n",
    "    return x + y + z\n",
    "\n",
    "f_graph = tf.function(f, input_signature=(\n",
    "    tf.TensorSpec(shape=[None], dtype=tf.int32),\n",
    "    tf.TensorSpec(shape=[None], dtype=tf.int32),\n",
    "    tf.TensorSpec(shape=[None], dtype=tf.int32)\n",
    "    )\n",
    ")\n",
    "\n",
    "tf.print('Rank 1 Inputs:', f_graph([1], [2], [3]))"
   ]
  },
  {
   "cell_type": "markdown",
   "metadata": {},
   "source": [
    "We get an error if we pass a tensor with different shape:"
   ]
  },
  {
   "cell_type": "code",
   "execution_count": 4,
   "metadata": {},
   "outputs": [
    {
     "name": "stdout",
     "output_type": "stream",
     "text": [
      "Python inputs incompatible with input_signature:\n",
      "  inputs: (\n",
      "    [[1]],\n",
      "    [[2]],\n",
      "    [[3]])\n",
      "  input_signature: (\n",
      "    TensorSpec(shape=(None,), dtype=tf.int32, name=None),\n",
      "    TensorSpec(shape=(None,), dtype=tf.int32, name=None),\n",
      "    TensorSpec(shape=(None,), dtype=tf.int32, name=None)).\n"
     ]
    }
   ],
   "source": [
    "try:\n",
    "    tf.print('Rank 1 Inputs:', f_graph([[1]], [[2]], [[3]]))\n",
    "except Exception as e:\n",
    "    print(e)"
   ]
  },
  {
   "cell_type": "markdown",
   "metadata": {},
   "source": [
    "### Timing static execution runs"
   ]
  },
  {
   "cell_type": "markdown",
   "metadata": {},
   "source": [
    "In this section, we define a function that takes in an eager function `f` and plots the timings for evaluating `f` eagerly on `x` versus evaluating on its static graph version `tf.function(f)`. As discussed above, the static graph is built after \"warming up\" once on `x` with its particular shape and type through TensorFlow's tracing mechanism."
   ]
  },
  {
   "cell_type": "code",
   "execution_count": 5,
   "metadata": {},
   "outputs": [],
   "source": [
    "import matplotlib.pyplot as plt\n",
    "import numpy as np\n",
    "from timeit import timeit\n",
    "\n",
    "def compare_timings(f, x, n):\n",
    "    # Define functions\n",
    "    eager_function = f\n",
    "    graph_function = tf.function(f)\n",
    "\n",
    "    # Timing\n",
    "    graph_time = timeit(lambda: graph_function(x), number=n)\n",
    "    eager_time = timeit(lambda: eager_function(x), number=n)\n",
    "    \n",
    "    return {\n",
    "        'graph': graph_time,\n",
    "        'eager': eager_time\n",
    "    }"
   ]
  },
  {
   "cell_type": "markdown",
   "metadata": {},
   "source": [
    "```{margin}\n",
    "For further info on TF 2.x's tracing mechanism, refer to [this guide](https://www.tensorflow.org/guide/function#tracing).\n",
    "```"
   ]
  },
  {
   "cell_type": "markdown",
   "metadata": {},
   "source": [
    "Note that if we fail to persist the static graph, we get the following warning, as well as practically an endless loop. The error message also highlights cases where we make inefficient use of tracing. (Recall the rules above for generating keys for static graphs based on the input.)\n",
    "\n",
    "> WARNING:tensorflow:6 out of the last 6 calls to <keras.engine.sequential.Sequential object at 0x28575dfa0> triggered tf.function retracing. Tracing is expensive and the excessive number of tracings could be due to (1) creating @tf.function repeatedly in a loop, (2) passing tensors with different shapes, (3) passing Python objects instead of tensors. For (1), please define your @tf.function outside of the loop."
   ]
  },
  {
   "cell_type": "markdown",
   "metadata": {},
   "source": [
    "Comparing static graph execution with eager execution on a dense network:"
   ]
  },
  {
   "cell_type": "code",
   "execution_count": 6,
   "metadata": {},
   "outputs": [
    {
     "name": "stderr",
     "output_type": "stream",
     "text": [
      "2022-02-02 03:54:31.922522: I tensorflow/core/grappler/optimizers/custom_graph_optimizer_registry.cc:112] Plugin optimizer for device_type GPU is enabled.\n"
     ]
    }
   ],
   "source": [
    "from tensorflow.keras.layers import Flatten, Dense\n",
    "\n",
    "# Model building\n",
    "model = tf.keras.Sequential()\n",
    "model.add(Flatten())\n",
    "model.add(Dense(256, \"relu\"))\n",
    "model.add(Dense(256, \"relu\"))\n",
    "model.add(Dense(256, \"relu\"))\n",
    "model.add(Dense(10, \"softmax\"))\n",
    "\n",
    "# Define input + functions\n",
    "u = tf.random.uniform([100, 28, 28])\n",
    "mlp_times = compare_timings(model, u, n=10000);"
   ]
  },
  {
   "cell_type": "markdown",
   "metadata": {},
   "source": [
    "Comparing timings with convolution operations:"
   ]
  },
  {
   "cell_type": "code",
   "execution_count": 7,
   "metadata": {},
   "outputs": [
    {
     "name": "stderr",
     "output_type": "stream",
     "text": [
      "2022-02-02 03:54:44.270931: I tensorflow/core/grappler/optimizers/custom_graph_optimizer_registry.cc:112] Plugin optimizer for device_type GPU is enabled.\n"
     ]
    }
   ],
   "source": [
    "from tensorflow.keras.layers import Conv2D, AveragePooling2D\n",
    "\n",
    "# Build model\n",
    "conv_model = tf.keras.Sequential()\n",
    "conv_model.add(Conv2D(filters=6, kernel_size=(3, 3), activation='relu', input_shape=(28, 28, 1)))\n",
    "conv_model.add(AveragePooling2D())\n",
    "conv_model.add(Conv2D(filters=16, kernel_size=(3, 3), activation='relu'))\n",
    "conv_model.add(AveragePooling2D())\n",
    "\n",
    "# Plot timings\n",
    "u = tf.random.uniform([100, 28, 28, 1])\n",
    "conv_times = compare_timings(conv_model, u, n=10000);"
   ]
  },
  {
   "cell_type": "markdown",
   "metadata": {},
   "source": [
    "Comparing timings on many extremely small operations:"
   ]
  },
  {
   "cell_type": "code",
   "execution_count": 8,
   "metadata": {},
   "outputs": [
    {
     "name": "stderr",
     "output_type": "stream",
     "text": [
      "2022-02-02 03:54:52.953082: I tensorflow/core/grappler/optimizers/custom_graph_optimizer_registry.cc:112] Plugin optimizer for device_type GPU is enabled.\n"
     ]
    }
   ],
   "source": [
    "def small_dense_layer(x):\n",
    "    w = tf.random.uniform(shape=(3, 1), dtype=tf.float16)\n",
    "    b = tf.random.uniform(shape=(1,), dtype=tf.float16)\n",
    "    return tf.add(tf.matmul(x, w), b)\n",
    "\n",
    "# Plot timings\n",
    "x = tf.random.uniform(shape=(1, 3), dtype=tf.float16)\n",
    "small_times = compare_timings(small_dense_layer, x, n=10000);"
   ]
  },
  {
   "cell_type": "code",
   "execution_count": 9,
   "metadata": {},
   "outputs": [
    {
     "data": {
      "image/png": "[encoded data removed]",
      "text/plain": [
       "<Figure size 432x288 with 1 Axes>"
      ]
     },
     "metadata": {
      "needs_background": "light"
     },
     "output_type": "display_data"
    }
   ],
   "source": [
    "models = ['mlp','conv','small']\n",
    "eager = [eval(m + '_times')['eager'] for m in models]\n",
    "graph = [eval(m + '_times')['graph'] for m in models]\n",
    "x = np.arange(len(models))\n",
    "\n",
    "\n",
    "plt.bar(x + 0.1, eager, width=0.2, label='eager')\n",
    "plt.bar(x - 0.1, graph, width=0.2, label='graph')\n",
    "plt.xticks(x, models)\n",
    "plt.ylabel(\"Time (s)\")\n",
    "plt.title(\"Time for 10,000 executions.\")\n",
    "plt.legend();"
   ]
  },
  {
   "cell_type": "markdown",
   "metadata": {},
   "source": [
    "The above results show that graph execution can be faster can be faster than eager code, especially for graphs with expensive operations. But for graphs with few expensive operations (like convolutions), you may not see much speedup or even worse with many cheap operations. Perhaps because there is overhead in the tracing mechanism for static graphs and alternating between TensorFlow and Python abstractions."
   ]
  },
  {
   "cell_type": "markdown",
   "metadata": {},
   "source": [
    "## TensorFlow `Variable` for storing and updating model parameters"
   ]
  },
  {
   "cell_type": "markdown",
   "metadata": {},
   "source": [
    "In the context of TensorFlow, a `Variable` is a special `Tensor` object\n",
    "that allows us to store and update the parameters of our models during training.\n",
    "A `Variable` can be created by just calling the `tf.Variable` class on user-specified\n",
    "initial values. "
   ]
  },
  {
   "cell_type": "code",
   "execution_count": 10,
   "metadata": {},
   "outputs": [
    {
     "name": "stdout",
     "output_type": "stream",
     "text": [
      "<tf.Variable 'var_a:0' shape=() dtype=float32, numpy=3.0>\n",
      "<tf.Variable 'var_b:0' shape=(3,) dtype=int32, numpy=array([1, 2, 3], dtype=int32)>\n",
      "<tf.Variable 'Variable:0' shape=(1,) dtype=string, numpy=array([b'c'], dtype=object)>\n"
     ]
    }
   ],
   "source": [
    "a = tf.Variable(initial_value=3.0, name='var_a') # float32 by default.\n",
    "b = tf.Variable(initial_value=[1, 2, 3], name='var_b')\n",
    "c = tf.Variable(initial_value=['c'], dtype=tf.string)\n",
    "\n",
    "print(a)\n",
    "print(b)\n",
    "print(c)"
   ]
  },
  {
   "cell_type": "markdown",
   "metadata": {},
   "source": [
    "Note that initial value is required. Variables have an attribute called `trainable`, which, by default, is set to `True`. Higher-level APIs such as Keras will use this attribute to manage the trainable variables and non-trainable ones. You can define a non-trainable `Variable` as follows:"
   ]
  },
  {
   "cell_type": "code",
   "execution_count": 11,
   "metadata": {},
   "outputs": [
    {
     "name": "stdout",
     "output_type": "stream",
     "text": [
      "False\n"
     ]
    }
   ],
   "source": [
    "w = tf.Variable(3.0, trainable=False)\n",
    "print(w.trainable)"
   ]
  },
  {
   "cell_type": "markdown",
   "metadata": {},
   "source": [
    "### Modifying the value of a variable"
   ]
  },
  {
   "cell_type": "markdown",
   "metadata": {},
   "source": [
    "The values of a `Variable` can be efficiently modified by running some operations\n",
    "such as `.assign()`, `.assign_add()` and related methods. When the `read_value` argument is set to `True` (default), these operations will automatically return the new values after updating the current values of the `Variable`."
   ]
  },
  {
   "cell_type": "code",
   "execution_count": 12,
   "metadata": {},
   "outputs": [
    {
     "data": {
      "text/plain": [
       "<tf.Variable 'UnreadVariable' shape=() dtype=float32, numpy=0.0>"
      ]
     },
     "execution_count": 12,
     "metadata": {},
     "output_type": "execute_result"
    }
   ],
   "source": [
    "w.assign(0.0, read_value=True)"
   ]
  },
  {
   "cell_type": "markdown",
   "metadata": {},
   "source": [
    "Setting the `read_value` to `False` will suppress the automatic return of the updated value but the `Variable` will still be updated in place."
   ]
  },
  {
   "cell_type": "code",
   "execution_count": 13,
   "metadata": {},
   "outputs": [
    {
     "name": "stdout",
     "output_type": "stream",
     "text": [
      "None\n",
      "-1\n"
     ]
    }
   ],
   "source": [
    "tf.print(w.assign_add(-1.0, read_value=False))\n",
    "tf.print(w)"
   ]
  },
  {
   "cell_type": "markdown",
   "metadata": {},
   "source": [
    "### Xavier (or Glorot) initialization"
   ]
  },
  {
   "cell_type": "markdown",
   "metadata": {},
   "source": [
    "Recall that to break symmetry, and to promote adequate gradient flow, we have to properly initialize the weights of neural networks. See [Optimization and Initialization](https://particle1331.github.io/steepest-ascent/notebooks/pytorch-uva/03-pytorch-optim-init.html) for a detailed discussion. Let $n = n_\\text{in} + n_\\text{out},$ two heuristics for weight initialization are **Glorot uniform** with $w_i \\sim U[-a, a]$ where $a^2 = {{6}n^{-1}}$ and **Glorot normal** with $w_i \\sim \\mathcal{N}(0, \\sigma)$ where $\\sigma^2 = {{2}n^{-1}}.$ These and many other standard initialization schemes are implemented in `tf.keras.initializers`."
   ]
  },
  {
   "cell_type": "code",
   "execution_count": 14,
   "metadata": {},
   "outputs": [],
   "source": [
    "import seaborn as sns \n",
    "import numpy as np\n",
    "import warnings\n",
    "from functools import partial\n",
    "warnings.filterwarnings(\"ignore\")\n",
    "\n",
    "fan_in = 600\n",
    "fan_out = 3000\n",
    "\n",
    "def plot_init(init, dist, init_label, dist_label):\n",
    "    init_data = init(shape=(fan_in, fan_out))\n",
    "    init_data = tf.reshape(init_data, -1)\n",
    "    sns.distplot(init_data, label=init_label)\n",
    "\n",
    "    # Plot reconstruction\n",
    "    t = np.linspace(-1, 1, 100000)\n",
    "    glorot_s = np.sqrt(2/(fan_in + fan_out))\n",
    "    plt.plot(t, dist(t), label=dist_label)\n",
    "    plt.legend()\n",
    "    plt.xlim(-0.15, 0.15);"
   ]
  },
  {
   "cell_type": "markdown",
   "metadata": {},
   "source": [
    "Plotting:"
   ]
  },
  {
   "cell_type": "code",
   "execution_count": 15,
   "metadata": {},
   "outputs": [
    {
     "data": {
      "image/png": "[encoded data removed]",
      "text/plain": [
       "<Figure size 432x288 with 1 Axes>"
      ]
     },
     "metadata": {
      "needs_background": "light"
     },
     "output_type": "display_data"
    }
   ],
   "source": [
    "\n",
    "def Gaussian(x, u, s):\n",
    "    return np.exp( -0.5*((x-u)/s)**2 ) / (s*np.sqrt(2*np.pi))\n",
    "\n",
    "s = np.sqrt(2/(fan_in + fan_out))\n",
    "dist = partial(Gaussian, u=0, s=s)\n",
    "init = tf.keras.initializers.GlorotNormal()\n",
    "plot_init(init, dist, \"TF Glorot\", \"Gaussian\")"
   ]
  },
  {
   "cell_type": "code",
   "execution_count": 16,
   "metadata": {},
   "outputs": [
    {
     "data": {
      "image/png": "[encoded data removed]",
      "text/plain": [
       "<Figure size 432x288 with 1 Axes>"
      ]
     },
     "metadata": {
      "needs_background": "light"
     },
     "output_type": "display_data"
    }
   ],
   "source": [
    "@np.vectorize\n",
    "def Uniform(x, u, a):\n",
    "    return (np.abs(x-u) <= a).astype(int) / (2  * a)\n",
    "\n",
    "a = np.sqrt(6/(fan_in + fan_out))\n",
    "dist = partial(Uniform, u=0, a=a)\n",
    "init = tf.keras.initializers.GlorotUniform()\n",
    "plot_init(init, dist, \"TF Glorot\", \"Uniform\")"
   ]
  },
  {
   "cell_type": "markdown",
   "metadata": {},
   "source": [
    "### Initializing a TensorFlow module"
   ]
  },
  {
   "cell_type": "markdown",
   "metadata": {},
   "source": [
    "Now, to put this into the context of a more practical use case, let's see how we can\n",
    "define and initialize a `Variable` inside the base `tf.Module` class. We will define two variables:\n",
    "a trainable one and a non-trainable one. Subclassing the `tf.Module` class gives us direct\n",
    "access to all variables defined in a given object via the `.variables` attribute."
   ]
  },
  {
   "cell_type": "code",
   "execution_count": 17,
   "metadata": {},
   "outputs": [
    {
     "name": "stdout",
     "output_type": "stream",
     "text": [
      "All module variables: [TensorShape([2, 3]), TensorShape([1, 2])]\n",
      "Trainable variables: [TensorShape([2, 3])]\n"
     ]
    },
    {
     "name": "stderr",
     "output_type": "stream",
     "text": [
      "2022-02-02 03:55:00.805030: W tensorflow/python/util/util.cc:368] Sets are not currently considered sequences, but this may change in the future, so consider avoiding using them.\n"
     ]
    }
   ],
   "source": [
    "class MyModule(tf.Module):\n",
    "    def __init__(self):\n",
    "        init = tf.keras.initializers.GlorotNormal()\n",
    "        self.w1 = tf.Variable(init(shape=(2, 3)), trainable=True)\n",
    "        self.w2 = tf.Variable(init(shape=(1, 2)), trainable=False)\n",
    "\n",
    "\n",
    "m = MyModule()\n",
    "print(\"All module variables:\", [v.shape for v in m.variables])\n",
    "print(\"Trainable variables:\", [v.shape for v in m.trainable_variables])"
   ]
  },
  {
   "cell_type": "markdown",
   "metadata": {},
   "source": [
    "### Variables and TF functions\n",
    "\n",
    "When we define a TensorFlow `Variable` inside a normal function (not decorated),\n",
    "a new `Variable` will be created and initialized each time the\n",
    "function is called. However, `tf.function` will try to reuse the `Variable` based\n",
    "on tracing and graph creation. Therefore, TensorFlow does not allow the creation\n",
    "of a `Variable` inside a decorated function."
   ]
  },
  {
   "cell_type": "code",
   "execution_count": 18,
   "metadata": {},
   "outputs": [
    {
     "name": "stdout",
     "output_type": "stream",
     "text": [
      "in user code:\n",
      "\n",
      "    File \"/var/folders/jq/9vsvd9252_349lsng_5gc_jw0000gn/T/ipykernel_94545/2632006634.py\", line 3, in f  *\n",
      "        w = tf.Variable([3.0])\n",
      "\n",
      "    ValueError: tf.function only supports singleton tf.Variables created on the first call. Make sure the tf.Variable is only created once or created outside tf.function. See https://www.tensorflow.org/guide/function#creating_tfvariables for more information.\n",
      "\n"
     ]
    }
   ],
   "source": [
    "@tf.function\n",
    "def f(x):\n",
    "    w = tf.Variable([3.0])\n",
    "    return x * w\n",
    "\n",
    "# Testing\n",
    "try:\n",
    "    f(1.0)\n",
    "except Exception as e:\n",
    "    print(e)"
   ]
  },
  {
   "cell_type": "markdown",
   "metadata": {},
   "source": [
    "One way to avoid this problem is to define the `Variable` outside of the decorated\n",
    "function and use it inside the function. Or better yet, define a class which manages this dependency in a separate namespace."
   ]
  },
  {
   "cell_type": "code",
   "execution_count": 19,
   "metadata": {},
   "outputs": [
    {
     "name": "stdout",
     "output_type": "stream",
     "text": [
      "[3]\n"
     ]
    },
    {
     "name": "stderr",
     "output_type": "stream",
     "text": [
      "2022-02-02 03:55:00.889327: I tensorflow/core/grappler/optimizers/custom_graph_optimizer_registry.cc:112] Plugin optimizer for device_type GPU is enabled.\n"
     ]
    }
   ],
   "source": [
    "# Declare variable outside function\n",
    "w = tf.Variable([3.0])\n",
    "\n",
    "@tf.function\n",
    "def f(x):\n",
    "    return x * w\n",
    "\n",
    "# Testing\n",
    "try:\n",
    "    tf.print(f(1.0))\n",
    "except Exception as e:\n",
    "    print(e)"
   ]
  },
  {
   "cell_type": "markdown",
   "metadata": {},
   "source": [
    "## Computing gradients via automatic differentiation and `GradientTape`"
   ]
  },
  {
   "cell_type": "markdown",
   "metadata": {},
   "source": [
    "TensorFlow supports automatic differentiation, which can be thought of as an\n",
    "implementation of the chain rule for computing gradients of nested functions.\n",
    "When we define a series of operations that results in some output or even intermediate\n",
    "tensors, TensorFlow provides a context for calculating gradients of these computed\n",
    "tensors with respect to its dependent nodes in the computation graph. "
   ]
  },
  {
   "cell_type": "markdown",
   "metadata": {},
   "source": [
    "### Computing the gradients of the loss with respect to trainable variables"
   ]
  },
  {
   "cell_type": "markdown",
   "metadata": {},
   "source": [
    "In order to compute these gradients, we have to \"record\" the computations via `tf.GradientTape`. Note that the shape of `tape.gradient(loss, w)` is the same as that of `w`.  "
   ]
  },
  {
   "cell_type": "code",
   "execution_count": 26,
   "metadata": {},
   "outputs": [
    {
     "name": "stdout",
     "output_type": "stream",
     "text": [
      "∂(loss)/∂w = -0.559999764\n",
      "[-0.559999764]\n"
     ]
    }
   ],
   "source": [
    "# scope outside tf.GradientTape\n",
    "w = tf.Variable(1.0)\n",
    "b = tf.Variable(0.5)\n",
    "\n",
    "# data\n",
    "x = tf.convert_to_tensor([1.4])\n",
    "y = tf.convert_to_tensor([2.1])\n",
    "\n",
    "with tf.GradientTape() as tape:\n",
    "    z = tf.add(tf.multiply(w, x), b)\n",
    "    loss = tf.reduce_sum(tf.square(y - z))\n",
    "\n",
    "grad = tape.gradient(loss, w)\n",
    "tf.print(\"∂(loss)/∂w =\", grad)\n",
    "tf.print(2 * (y - w*x - b) * (-x)) # symbolic"
   ]
  },
  {
   "cell_type": "markdown",
   "metadata": {},
   "source": [
    "It turns out that TF supports stacking gradient tapes which allow us to compute **second derivatives**:"
   ]
  },
  {
   "cell_type": "code",
   "execution_count": 18,
   "metadata": {},
   "outputs": [
    {
     "name": "stdout",
     "output_type": "stream",
     "text": [
      "∂²(loss)/∂w² = 3.91999984\n",
      "[3.91999984]\n"
     ]
    }
   ],
   "source": [
    "with tf.GradientTape() as outer_tape:\n",
    "    with tf.GradientTape() as inner_tape:\n",
    "        z = tf.add(tf.multiply(w, x), b)\n",
    "        loss = tf.reduce_sum(tf.square(y - z))\n",
    "\n",
    "    grad_w = inner_tape.gradient(loss, w)\n",
    "grad_ww = outer_tape.gradient(grad_w, w)\n",
    "\n",
    "tf.print(\"∂²(loss)/∂w² =\", grad_ww)\n",
    "tf.print(2 * (-x) * (-x)) # symbolic"
   ]
  },
  {
   "cell_type": "markdown",
   "metadata": {},
   "source": [
    "### Computing gradients with respect to nontrainable tensors"
   ]
  },
  {
   "cell_type": "markdown",
   "metadata": {},
   "source": [
    "`GradientTape` automatically supports the gradients for trainable variables.\n",
    "For non-trainable variables[^refadversarial] and other `Tensor` objects, we need to add\n",
    "`tape.watch()` to monitor those as well.\n",
    "\n",
    "[^refadversarial]: Computing gradients of the loss with respect to the input\n",
    "example is used for generating adversarial examples."
   ]
  },
  {
   "cell_type": "code",
   "execution_count": 27,
   "metadata": {},
   "outputs": [
    {
     "name": "stdout",
     "output_type": "stream",
     "text": [
      "∂(loss)/∂x = [-0.399999857]\n",
      "[-0.399999857]\n"
     ]
    }
   ],
   "source": [
    "with tf.GradientTape() as tape:\n",
    "    tape.watch(x) # <-\n",
    "    z = tf.add(tf.multiply(w, x), b)\n",
    "    loss = tf.reduce_sum(tf.square(y - z))\n",
    "\n",
    "grad = tape.gradient(loss, x)\n",
    "tf.print(\"∂(loss)/∂x =\", grad)\n",
    "tf.print(2 * (y - w*x - b) * (-w)) # check symbolic"
   ]
  },
  {
   "cell_type": "markdown",
   "metadata": {},
   "source": [
    "### Keeping resources for multiple gradient computations"
   ]
  },
  {
   "cell_type": "markdown",
   "metadata": {},
   "source": [
    "When we monitor the computations in the context of `tf.GradientTape`,\n",
    "the tape will keep the resources only for a single gradient computation by default. That is,\n",
    "after calling `tape.gradient()` once, the resources will be released and the tape will\n",
    "be cleared. If we want to compute more than one gradient, we need to make the tape persistent. However, note that having persistent tapes is less memory efficient."
   ]
  },
  {
   "cell_type": "code",
   "execution_count": 25,
   "metadata": {},
   "outputs": [
    {
     "name": "stdout",
     "output_type": "stream",
     "text": [
      "∂(loss)/∂w = -0.559999764\n",
      "A non-persistent GradientTape can only be used to compute one set of gradients (or jacobians)\n"
     ]
    }
   ],
   "source": [
    "with tf.GradientTape() as tape:\n",
    "    tape.watch(x)\n",
    "    z = tf.add(tf.multiply(w, x), b)\n",
    "    loss = tf.reduce_sum(tf.square(y - z))\n",
    "\n",
    "try:\n",
    "    tf.print(\"∂(loss)/∂w =\", tape.gradient(loss, w))\n",
    "    tf.print(\"∂(loss)/∂x =\", tape.gradient(loss, x))\n",
    "except Exception as e:\n",
    "    print(e)"
   ]
  },
  {
   "cell_type": "code",
   "execution_count": 26,
   "metadata": {},
   "outputs": [
    {
     "name": "stdout",
     "output_type": "stream",
     "text": [
      "∂(loss)/∂w = -0.559999764\n",
      "∂(loss)/∂x = [-0.399999857]\n"
     ]
    }
   ],
   "source": [
    "with tf.GradientTape(persistent=True) as tape:\n",
    "    tape.watch(x)\n",
    "    z = tf.add(tf.multiply(w, x), b)\n",
    "    loss = tf.reduce_sum(tf.square(y - z))\n",
    "\n",
    "tf.print(\"∂(loss)/∂w =\", tape.gradient(loss, w))\n",
    "tf.print(\"∂(loss)/∂x =\", tape.gradient(loss, x)) # grad_x has same shape as x"
   ]
  },
  {
   "cell_type": "markdown",
   "metadata": {},
   "source": [
    "### Applying optimizer step to update model parameters"
   ]
  },
  {
   "cell_type": "markdown",
   "metadata": {},
   "source": [
    "If we are computing gradients of a loss term with respect to the parameters\n",
    "of a model, we typically want to update the weights according to some rule defined by an optimization algorithm. We can do this for optimization algorithms implemented in Keras using `.apply_gradients`:"
   ]
  },
  {
   "cell_type": "code",
   "execution_count": 27,
   "metadata": {},
   "outputs": [
    {
     "name": "stdout",
     "output_type": "stream",
     "text": [
      "w = 1\n",
      "b = 0.5\n",
      "λ = 0.1\n",
      "grad_[w, b] = [-0.559999764, -0.399999857]\n",
      "\n",
      "w - λ·∂(loss)/∂w ≟ 1.056\n",
      "b - λ·∂(loss)/∂b ≟ 0.539999962\n"
     ]
    }
   ],
   "source": [
    "grad_w = tape.gradient(loss, w)\n",
    "grad_b = tape.gradient(loss, b)\n",
    "lr = 0.1\n",
    "tf.print('w =', w)\n",
    "tf.print('b =', b)\n",
    "tf.print('λ =', lr)\n",
    "tf.print('grad_[w, b] =', [grad_w, grad_b])\n",
    "\n",
    "# Define keras optimizer; apply optimizer step\n",
    "optimizer = tf.keras.optimizers.SGD(learning_rate=lr)\n",
    "optimizer.apply_gradients(zip([grad_w, grad_b], [w, b]))\n",
    "\n",
    "# Print updates\n",
    "tf.print()\n",
    "tf.print('w - λ·∂(loss)/∂w ≟', w)\n",
    "tf.print('b - λ·∂(loss)/∂b ≟', b)"
   ]
  },
  {
   "cell_type": "markdown",
   "metadata": {},
   "source": [
    "Checks out nicely."
   ]
  },
  {
   "cell_type": "markdown",
   "metadata": {},
   "source": [
    "## Simplifying implementations of common architectures via the Keras API"
   ]
  },
  {
   "cell_type": "markdown",
   "metadata": {},
   "source": [
    "Keras is a high-level NN API and was originally developed to run on top of other\n",
    "libraries such as TensorFlow and Theano. Keras provides a user-friendly and\n",
    "modular programming interface that allows easy prototyping and the building of\n",
    "complex models in just a few lines of code. \n",
    "In TensorFlow 2.0, `tf.keras` has become the primary and recommended approach\n",
    "for implementing models. \n",
    "This has the advantage that it supports TensorFlow specific functionalities, \n",
    "such as dataset pipelines using `tf.data`, which you learned about in the previous notebook."
   ]
  },
  {
   "cell_type": "markdown",
   "metadata": {},
   "source": [
    "### Stacking layers with `tf.keras.Sequential`"
   ]
  },
  {
   "cell_type": "markdown",
   "metadata": {},
   "source": [
    "The most commonly used approach for \n",
    "building an neural network in TensorFlow is through `tf.keras.Sequential()`, which allows \n",
    "stacking layers to form a network. The layers can be added one by one using the `.add()` method to a model defined as `tf.keras.Sequential()`. Alternatively, if we have a list of layers `layers`, then we can define a model using `tf.keras.Sequential(layers)`. "
   ]
  },
  {
   "cell_type": "code",
   "execution_count": 28,
   "metadata": {},
   "outputs": [
    {
     "name": "stdout",
     "output_type": "stream",
     "text": [
      "Model: \"sequential_2\"\n",
      "_________________________________________________________________\n",
      " Layer (type)                Output Shape              Param #   \n",
      "=================================================================\n",
      " dense_4 (Dense)             (None, 16)                80        \n",
      "                                                                 \n",
      " dense_5 (Dense)             (None, 32)                544       \n",
      "                                                                 \n",
      " dense_6 (Dense)             (None, 1)                 33        \n",
      "                                                                 \n",
      "=================================================================\n",
      "Total params: 657\n",
      "Trainable params: 657\n",
      "Non-trainable params: 0\n",
      "_________________________________________________________________\n"
     ]
    }
   ],
   "source": [
    "from tensorflow.keras.layers import Dense\n",
    "\n",
    "# Create model\n",
    "model = tf.keras.Sequential()\n",
    "model.add(Dense(units=16, activation='relu'))\n",
    "model.add(Dense(units=32, activation='relu'))\n",
    "model.add(Dense(units=1, activation='relu'))\n",
    "\n",
    "# Build model\n",
    "model.build(input_shape=(None, 4))\n",
    "model.summary()"
   ]
  },
  {
   "cell_type": "markdown",
   "metadata": {},
   "source": [
    "Once variables (or model parameters) are created, we can access both\n",
    "trainable and non-trainable variables as follows:"
   ]
  },
  {
   "cell_type": "code",
   "execution_count": 29,
   "metadata": {},
   "outputs": [
    {
     "name": "stdout",
     "output_type": "stream",
     "text": [
      "dense_4/kernel:0     True    (4, 16)\n",
      "dense_4/bias:0       True    (16,)\n",
      "dense_5/kernel:0     True    (16, 32)\n",
      "dense_5/bias:0       True    (32,)\n",
      "dense_6/kernel:0     True    (32, 1)\n",
      "dense_6/bias:0       True    (1,)\n"
     ]
    }
   ],
   "source": [
    "for v in model.variables:\n",
    "    print(f'{v.name:20s} {str(v.trainable):7} {v.shape}')"
   ]
  },
  {
   "cell_type": "markdown",
   "metadata": {},
   "source": [
    "### Regularization and initialization of layers"
   ]
  },
  {
   "cell_type": "markdown",
   "metadata": {},
   "source": [
    "We can configure these layers, for example, by applying different activation\n",
    "functions, variable initializers, or regularization methods to the parameters.\n",
    "Regularizers allow you to apply penalties on layer parameters or layer activity during optimization. These penalties are summed into the loss function that the network optimizes. Note that for Keras, regularization penalties are applied on a per-layer basis. The `Dense` layer (as well as other layers such as `Conv1D`, `Conv2D`, and `Conv3D`) exposes three keyword arguments:\n",
    "\n",
    "* `kernel_regularizer`: Regularizer to apply a penalty on the layer's kernel\n",
    "* `bias_regularizer`: Regularizer to apply a penalty on the layer's bias\n",
    "* `activity_regularizer`: Regularizer to apply a penalty on the layer's output\n",
    "\n",
    "<br>"
   ]
  },
  {
   "cell_type": "code",
   "execution_count": 30,
   "metadata": {},
   "outputs": [
    {
     "name": "stdout",
     "output_type": "stream",
     "text": [
      "Model: \"sequential_3\"\n",
      "_________________________________________________________________\n",
      " Layer (type)                Output Shape              Param #   \n",
      "=================================================================\n",
      " dense_7 (Dense)             (None, 16)                80        \n",
      "                                                                 \n",
      "=================================================================\n",
      "Total params: 80\n",
      "Trainable params: 80\n",
      "Non-trainable params: 0\n",
      "_________________________________________________________________\n"
     ]
    }
   ],
   "source": [
    "import tensorflow.keras.initializers as init\n",
    "import tensorflow.keras.regularizers as regularizers\n",
    "import tensorflow.keras.optimizers as optim\n",
    "\n",
    "\n",
    "# Create model\n",
    "model = tf.keras.Sequential()\n",
    "model.add(\n",
    "    Dense(\n",
    "        units=16, \n",
    "        activation='relu',\n",
    "        kernel_initializer=init.glorot_uniform(),\n",
    "        bias_initializer=init.Constant(2.0),\n",
    "        kernel_regularizer=regularizers.l1\n",
    "    )\n",
    ")\n",
    "\n",
    "# Build model\n",
    "model.build(input_shape=(None, 4))\n",
    "model.summary()"
   ]
  },
  {
   "cell_type": "markdown",
   "metadata": {},
   "source": [
    "### Compiling Keras models (optimizer, loss, metrics)"
   ]
  },
  {
   "cell_type": "markdown",
   "metadata": {},
   "source": [
    "Compiling prepares the model for training via `model.fit()`. In this example, we will compile the model using the SGD optimizer, cross-entropy\n",
    "loss for binary classification, and a specific list of metrics, including accuracy,\n",
    "precision, and recall:"
   ]
  },
  {
   "cell_type": "code",
   "execution_count": 31,
   "metadata": {},
   "outputs": [],
   "source": [
    "model.compile(\n",
    "    optimizer=optim.SGD(learning_rate=0.001),\n",
    "    loss=tf.keras.losses.BinaryCrossentropy(),\n",
    "    metrics=[\n",
    "        tf.keras.metrics.Accuracy(),\n",
    "        tf.keras.metrics.Precision(),\n",
    "        tf.keras.metrics.Recall()\n",
    "    ]\n",
    ")"
   ]
  },
  {
   "cell_type": "markdown",
   "metadata": {},
   "source": [
    "#### API for losses\n",
    "\n",
    "The API for loss functions can be tricky. Computing the cross-entropy loss by providing the logits, instead of the class-membership probabilities, is usually preferred due to numerical stability reasons. If we provide logits as inputs to the loss function and set\n",
    "`from_logits=True`, the respective TensorFlow function uses a more efficient\n",
    "implementation to compute the loss and derivative of the loss with respect to\n",
    "the weights. This is possible since certain mathematical terms cancel and thus\n",
    "don't have to be computed explicitly when providing logits as inputs.  The default behavior in Keras is `from_logits=False`, so that the outputs of the model must be probabilities in $[0, 1]$, e.g. with a final sigmoid node."
   ]
  },
  {
   "cell_type": "markdown",
   "metadata": {},
   "source": [
    "```{figure} ../../img/loss-logits-keras.png\n",
    "---\n",
    "name: loss-logits-keras\n",
    "width: 45em\n",
    "---\n",
    "\n",
    "Keras API for loss functions.\n",
    "```"
   ]
  },
  {
   "cell_type": "markdown",
   "metadata": {},
   "source": [
    "### Solving the XOR problem"
   ]
  },
  {
   "cell_type": "markdown",
   "metadata": {},
   "source": [
    "**Dataset**. The XOR is the smallest dataset that is not linearly separable (also the most historically interesting relative to its size {cite}`Minsky1969`). Our version of the XOR dataset is generated by adding Gaussian noise to points `(-1, -1)`, `(-1, 1)`, `(1, -1)` and `(1, 1)`. Points generated from `(1, 1)` and `(-1, -1)` will be labeled `1` otherwise `0`. A dataset of size 200 points will be generated with half used for validation."
   ]
  },
  {
   "cell_type": "code",
   "execution_count": 32,
   "metadata": {},
   "outputs": [
    {
     "data": {
      "image/png": "[encoded data removed]",
      "text/plain": [
       "<Figure size 432x432 with 1 Axes>"
      ]
     },
     "metadata": {
      "needs_background": "light"
     },
     "output_type": "display_data"
    }
   ],
   "source": [
    "import tensorflow as tf\n",
    "import numpy as np\n",
    "import matplotlib.pyplot as plt\n",
    "\n",
    "tf.random.set_seed(42)\n",
    "np.random.seed(42)\n",
    "\n",
    "# Create dataset\n",
    "X = []\n",
    "Y = []\n",
    "for p in [(1, 1), (-1, -1), (-1, 1), (1, -1)]:\n",
    "    x = np.array(p) + np.random.normal(0, 0.3, size=(50, 2)) \n",
    "    y = int(p[0] * p[1] > 0) * np.ones(50)\n",
    "    X.append(x)\n",
    "    Y.append(y)\n",
    "\n",
    "X = np.concatenate(X)\n",
    "Y = np.concatenate(Y)\n",
    "\n",
    "# Train-test split\n",
    "indices = list(range(200))\n",
    "np.random.shuffle(indices)\n",
    "valid = indices[:100]\n",
    "train = indices[100:]\n",
    "X_valid, y_valid = X[valid, :], Y[valid]\n",
    "X_train, y_train = X[train, :], Y[train]\n",
    "\n",
    "# Visualize dataset\n",
    "fig = plt.figure(figsize=(6, 6))\n",
    "plt.scatter(X_train[y_train==0, 0], X_train[y_train==0, 1], s=40, edgecolor='black', label=0)\n",
    "plt.scatter(X_train[y_train==1, 0], X_train[y_train==1, 1], s=40, edgecolor='black', label=1)\n",
    "plt.legend();"
   ]
  },
  {
   "cell_type": "markdown",
   "metadata": {},
   "source": [
    "<br>\n",
    "\n",
    "**Network architecture**. As a general rule of thumb, the more layers we have,\n",
    "and the more neurons we have in each layer, the larger the capacity of the model\n",
    "will be. While having more parameters means the network can fit more complex functions, larger models are usually harder to train (and are prone to overfitting). Model capacity can be increased by increasing:\n",
    "\n",
    "* **Width.** \n",
    "The universal approximation theorem states that a feedforward NN with a single hidden \n",
    "layer and a sufficiently large number of hidden units can approximate any continuous function\n",
    "to arbitrary accuracy. But this doesn't apply to the current task which is a classification problem. Indeed, we need a network of at least depth 2 to properly classify the dataset.\n",
    "<br><br>\n",
    "\n",
    "* **Depth.** The advantage of making a network deeper rather than wider is \n",
    "that fewer parameters are required to achieve a comparable model capacity. \n",
    "However, a downside of deep (versus wide) models is that deep models are prone\n",
    "to vanishing and exploding gradients, which make them harder to train.\n",
    "<br><br>"
   ]
  },
  {
   "cell_type": "markdown",
   "metadata": {},
   "source": [
    "As mentioned, from the geometry of the dataset, we have to use a network that has at least depth 2, so its not linear. However, since the dataset is small, we want the network to be not too wide (and not too deep), so the model does not overfit on the dataset."
   ]
  },
  {
   "cell_type": "code",
   "execution_count": 33,
   "metadata": {},
   "outputs": [],
   "source": [
    "model = tf.keras.Sequential()\n",
    "model.add(tf.keras.layers.Dense(units=4, activation='tanh'))\n",
    "model.add(tf.keras.layers.Dense(units=1, activation='sigmoid'))"
   ]
  },
  {
   "cell_type": "markdown",
   "metadata": {},
   "source": [
    "Keras provides a method named \n",
    "`.summary()` for models that are instantiated from `tf.keras.Model`, which allows \n",
    "us to get a summary of the model components layer by layer and the number of \n",
    "parameters in each layer. In order to be able to \n",
    "call `model.summary()`, we first need to specify the dimensionality of the input \n",
    "(the number of features) to this model. We can do this by calling `model.build()`\n",
    "with the expected shape of the input data:"
   ]
  },
  {
   "cell_type": "code",
   "execution_count": 34,
   "metadata": {},
   "outputs": [
    {
     "name": "stdout",
     "output_type": "stream",
     "text": [
      "Model: \"sequential_4\"\n",
      "_________________________________________________________________\n",
      " Layer (type)                Output Shape              Param #   \n",
      "=================================================================\n",
      " dense_8 (Dense)             (None, 4)                 12        \n",
      "                                                                 \n",
      " dense_9 (Dense)             (None, 1)                 5         \n",
      "                                                                 \n",
      "=================================================================\n",
      "Total params: 17\n",
      "Trainable params: 17\n",
      "Non-trainable params: 0\n",
      "_________________________________________________________________\n"
     ]
    }
   ],
   "source": [
    "model.build(input_shape=(None, 2))\n",
    "model.summary()"
   ]
  },
  {
   "cell_type": "markdown",
   "metadata": {},
   "source": [
    "`None` is used as a placeholder for the first dimension of the input to make room for arbitrary batch sizes. Alternatively, we could have set `input_shape` in the first `Dense` layer to avoid having to build the model."
   ]
  },
  {
   "cell_type": "markdown",
   "metadata": {},
   "source": [
    "<br>\n",
    "\n",
    "**Model training**. In the previous notebook, we trained a linear regression model by writing a custom \n",
    "function, `train()`, and applied stochastic gradient descent optimization. However, \n",
    "writing the `train()` function can be a repeatable task across different projects. The \n",
    "TensorFlow Keras API provides a convenient `.fit()` method that can be called \n",
    "on an instantiated model."
   ]
  },
  {
   "cell_type": "code",
   "execution_count": 35,
   "metadata": {},
   "outputs": [
    {
     "name": "stderr",
     "output_type": "stream",
     "text": [
      "2022-02-02 03:55:01.536099: I tensorflow/core/grappler/optimizers/custom_graph_optimizer_registry.cc:112] Plugin optimizer for device_type GPU is enabled.\n",
      "2022-02-02 03:55:01.759583: I tensorflow/core/grappler/optimizers/custom_graph_optimizer_registry.cc:112] Plugin optimizer for device_type GPU is enabled.\n"
     ]
    }
   ],
   "source": [
    "model.compile(\n",
    "    optimizer=optim.SGD(),\n",
    "    loss=tf.keras.losses.BinaryCrossentropy(),\n",
    "    metrics=[tf.keras.metrics.BinaryAccuracy()]\n",
    ")\n",
    "\n",
    "hist = model.fit(\n",
    "    X_train, y_train, # fit accepts numpy arrays\n",
    "    validation_data=(X_valid, y_valid),\n",
    "    epochs=200,\n",
    "    batch_size=2, verbose=0\n",
    ")"
   ]
  },
  {
   "cell_type": "markdown",
   "metadata": {},
   "source": [
    "```{margin}\n",
    "Refer to the [Keras developer guides](https://keras.io/guides/), if more precise control of the details of the training process is needed.\n",
    "```\n",
    "\n",
    "The `fit` method handles the low-level details (regularization, callbacks, metrics, etc.) of training consistently across different implementations. Moreover, this is designed to be performant by exploiting AutoGraph. Hence, it is recommended to use `fit` for most use-cases (as well as other built-ins such as `evaluate` and `predict` for inference)."
   ]
  },
  {
   "cell_type": "markdown",
   "metadata": {},
   "source": [
    "<br>\n",
    "\n",
    "**Results**. The `fit()` method returns a dictionary containing data on how the model trained. We will use this to generate visualizations of the training process. To further evaluate the model, we also look at its decision boundaries. "
   ]
  },
  {
   "cell_type": "code",
   "execution_count": 36,
   "metadata": {},
   "outputs": [
    {
     "data": {
      "text/plain": [
       "dict_keys(['loss', 'binary_accuracy', 'val_loss', 'val_binary_accuracy'])"
      ]
     },
     "execution_count": 36,
     "metadata": {},
     "output_type": "execute_result"
    }
   ],
   "source": [
    "hist.history.keys()"
   ]
  },
  {
   "cell_type": "code",
   "execution_count": 37,
   "metadata": {},
   "outputs": [
    {
     "name": "stdout",
     "output_type": "stream",
     "text": [
      "4/4 [==============================] - 0s 7ms/step - loss: 0.0385 - binary_accuracy: 1.0000\n"
     ]
    },
    {
     "name": "stderr",
     "output_type": "stream",
     "text": [
      "2022-02-02 03:55:43.169334: I tensorflow/core/grappler/optimizers/custom_graph_optimizer_registry.cc:112] Plugin optimizer for device_type GPU is enabled.\n",
      "2022-02-02 03:55:43.293934: I tensorflow/core/grappler/optimizers/custom_graph_optimizer_registry.cc:112] Plugin optimizer for device_type GPU is enabled.\n"
     ]
    },
    {
     "data": {
      "image/png": "[encoded data removed]",
      "text/plain": [
       "<Figure size 864x216 with 3 Axes>"
      ]
     },
     "metadata": {
      "needs_background": "light"
     },
     "output_type": "display_data"
    }
   ],
   "source": [
    "from mlxtend.plotting import plot_decision_regions\n",
    "\n",
    "def plot_training_history(hist):\n",
    "    _, ax = plt.subplots(1, 3, figsize=(12, 3))\n",
    "\n",
    "    ax[0].plot(range(200), hist.history['loss'], label='train loss')\n",
    "    ax[0].plot(range(200), hist.history['val_loss'], label='valid loss')\n",
    "    ax[0].legend()\n",
    "\n",
    "    ax[1].plot(range(200), hist.history['binary_accuracy'], label='train acc.')\n",
    "    ax[1].plot(range(200), hist.history['val_binary_accuracy'], label='valid acc.')\n",
    "    ax[1].legend();\n",
    "\n",
    "    ax[2] = plot_decision_regions(X=X_valid, y=y_valid.astype(np.int_), clf=model, legend=2)\n",
    "    return ax\n",
    "\n",
    "model.evaluate(X_valid, y_valid)\n",
    "plot_training_history(hist);"
   ]
  },
  {
   "cell_type": "markdown",
   "metadata": {},
   "source": [
    "To see model confidence, we can look at the prediction probability at each point in $[-1, 1]^2.$"
   ]
  },
  {
   "cell_type": "code",
   "execution_count": 38,
   "metadata": {},
   "outputs": [
    {
     "name": "stderr",
     "output_type": "stream",
     "text": [
      "Clipping input data to the valid range for imshow with RGB data ([0..1] for floats or [0..255] for integers).\n"
     ]
    },
    {
     "data": {
      "image/png": "[encoded data removed]",
      "text/plain": [
       "<Figure size 432x432 with 1 Axes>"
      ]
     },
     "metadata": {
      "needs_background": "light"
     },
     "output_type": "display_data"
    }
   ],
   "source": [
    "from matplotlib.colors import to_rgba\n",
    "\n",
    "# Plot valid set points\n",
    "def plot_decision_gradient(model):\n",
    "    fig = plt.figure(figsize=(6, 6))\n",
    "    plt.scatter(X_valid[y_valid==0, 0], X_valid[y_valid==0, 1], s=40, edgecolor='black', label=0)\n",
    "    plt.scatter(X_valid[y_valid==1, 0], X_valid[y_valid==1, 1], s=40, edgecolor='black', label=1)\n",
    "\n",
    "    # Plot decision gradient\n",
    "    c0 = np.array(to_rgba(\"C0\"))\n",
    "    c1 = np.array(to_rgba(\"C1\"))\n",
    "    x1 = np.arange(-2, 2, step=0.01)\n",
    "    x2 = np.arange(-2, 2, step=0.01)\n",
    "\n",
    "    xx1, xx2 = np.meshgrid(x1, x2)\n",
    "    model_inputs = np.stack([xx1, xx2], axis=-1)\n",
    "    preds = model(model_inputs.reshape(-1, 2)).numpy().reshape(400, 400, 1)\n",
    "    output_image = (1 - preds) * c0 + preds * c1 # blending\n",
    "    plt.imshow(output_image, origin='lower', extent=(-2, 2, -2, 2));\n",
    "\n",
    "# Plotting\n",
    "plot_decision_gradient(model);"
   ]
  },
  {
   "cell_type": "markdown",
   "metadata": {},
   "source": [
    "### Making model building more flexible with Keras' functional API"
   ]
  },
  {
   "cell_type": "markdown",
   "metadata": {},
   "source": [
    "In the previous example, we used the Keras `Sequential` class to create a fully\n",
    "connected NN with multiple layers. This is a very common and convenient way of\n",
    "building models. However, it unfortunately doesn't allow us to create more complex\n",
    "models that have multiple input, output, or intermediate branches. That's where\n",
    "Keras' so-called functional API comes in handy."
   ]
  },
  {
   "cell_type": "code",
   "execution_count": 39,
   "metadata": {},
   "outputs": [
    {
     "name": "stdout",
     "output_type": "stream",
     "text": [
      "Model: \"model\"\n",
      "_________________________________________________________________\n",
      " Layer (type)                Output Shape              Param #   \n",
      "=================================================================\n",
      " input_1 (InputLayer)        [(None, 2)]               0         \n",
      "                                                                 \n",
      " dense_10 (Dense)            (None, 4)                 12        \n",
      "                                                                 \n",
      " dense_11 (Dense)            (None, 1)                 5         \n",
      "                                                                 \n",
      "=================================================================\n",
      "Total params: 17\n",
      "Trainable params: 17\n",
      "Non-trainable params: 0\n",
      "_________________________________________________________________\n"
     ]
    }
   ],
   "source": [
    "# Specify input and output\n",
    "x = tf.keras.Input(shape=(2,))\n",
    "H1 = Dense(units=4, input_shape=(2,), activation='tanh')(x)\n",
    "H2 = Dense(units=1, activation='sigmoid')(H1)\n",
    "\n",
    "# Build model\n",
    "model = tf.keras.Model(inputs=x, outputs=H2)\n",
    "model.summary() # compile, fit, etc. also works"
   ]
  },
  {
   "cell_type": "markdown",
   "metadata": {},
   "source": [
    "### Implementing models based on Keras' `Model` class"
   ]
  },
  {
   "cell_type": "markdown",
   "metadata": {},
   "source": [
    "An alternative way to build complex models is by subclassing `tf.keras.Model`. A model derived from `tf.keras.Model` inherits methods such as `build()`, `compile()`, and `fit()`. Therefore, once we define an instance of this new class, we can compile and train it like any other model built using Keras."
   ]
  },
  {
   "cell_type": "code",
   "execution_count": 40,
   "metadata": {},
   "outputs": [
    {
     "name": "stdout",
     "output_type": "stream",
     "text": [
      "Model: \"my_model\"\n",
      "_________________________________________________________________\n",
      " Layer (type)                Output Shape              Param #   \n",
      "=================================================================\n",
      " dense_12 (Dense)            multiple                  12        \n",
      "                                                                 \n",
      " dense_13 (Dense)            multiple                  5         \n",
      "                                                                 \n",
      "=================================================================\n",
      "Total params: 17\n",
      "Trainable params: 17\n",
      "Non-trainable params: 0\n",
      "_________________________________________________________________\n"
     ]
    }
   ],
   "source": [
    "class MyModel(tf.keras.Model):\n",
    "    def __init__(self):\n",
    "        super().__init__()\n",
    "        self.dense1 = Dense(units=4, activation='tanh')\n",
    "        self.dense2 = Dense(units=1, activation='sigmoid')\n",
    "\n",
    "    def call(self, x):\n",
    "        h1 = self.dense1(x)\n",
    "        out = self.dense2(h1)\n",
    "        return out\n",
    "\n",
    "\n",
    "# Build model and model summary\n",
    "model = MyModel()\n",
    "model.build(input_shape=(None, 2))\n",
    "model.summary()"
   ]
  },
  {
   "cell_type": "markdown",
   "metadata": {},
   "source": [
    "### Creating custom Keras layers"
   ]
  },
  {
   "cell_type": "markdown",
   "metadata": {},
   "source": [
    "Notice that we've been using Keras layers in defining our models. In cases where we want to define a new layer that is not already supported by Keras,\n",
    "we can define a new class derived from the `tf.keras.layers.Layer` class. \n",
    "This is especially useful when designing a new layer or customizing an existing layer.\n",
    "\n",
    "For a custom class we have to define `__init__()`, `call()`. For variables that we want to delay initialization, we can delegate it to the `build()` method for late variable creation. We can also define `get_config()` for serialization, which means that a model\n",
    "using our custom layer can be efficiently saved using TensorFlow's model saving\n",
    "and loading capabilities. "
   ]
  },
  {
   "cell_type": "markdown",
   "metadata": {},
   "source": [
    "<br>\n",
    "\n",
    "**Implementation**. To illustrate the concept of implementing custom layers, let's consider a simple\n",
    "example. We define a new linear layer that computes $(\\mathbf x + \\boldsymbol{\\varepsilon}) \\cdot \\mathbf w + \\boldsymbol {b}$\n",
    "where $\\boldsymbol\\varepsilon$ refers to a random variable as noise, then passes the result to a ReLU nonlinearity. We assume that $\\mathbf x$ is a rank 2 tensor with shape `(B, d)` where `B` is the batch size and `d` is the size of the (flattened) inputs. "
   ]
  },
  {
   "cell_type": "code",
   "execution_count": 41,
   "metadata": {},
   "outputs": [],
   "source": [
    "class NoisyLinear(tf.keras.layers.Layer):\n",
    "    def __init__(self, output_dim, noise_stddev=0.1, **kwargs):\n",
    "        self.output_dim = output_dim\n",
    "        self.noise_stddev = noise_stddev\n",
    "        super().__init__(**kwargs)\n",
    "\n",
    "    def build(self, input_shape):\n",
    "        self.w = self.add_weight(\n",
    "            name='weights', \n",
    "            shape=(input_shape[1], self.output_dim),\n",
    "            initializer='random_normal',\n",
    "            trainable=True\n",
    "        )\n",
    "\n",
    "        self.b = self.add_weight(\n",
    "            name='bias',\n",
    "            shape=(self.output_dim,),\n",
    "            initializer='zeros',\n",
    "            trainable=True\n",
    "        )\n",
    "    \n",
    "    def call(self, x, training=False):\n",
    "        if training:\n",
    "            noise = tf.random.normal(\n",
    "                shape=x.shape, \n",
    "                mean=0.0, \n",
    "                stddev=self.noise_stddev\n",
    "            )\n",
    "        else:\n",
    "            noise = tf.zeros_like(x)\n",
    "        \n",
    "        z = tf.matmul(x + noise, self.w) + self.b\n",
    "        return tf.keras.activations.relu(z)\n",
    "\n",
    "    def get_config(self):\n",
    "        config = super().get_config()\n",
    "        config.update({\n",
    "            \"output_dim\": self.output_dim,\n",
    "            \"noise_stddev\": self.noise_stddev\n",
    "        })\n",
    "        return config"
   ]
  },
  {
   "cell_type": "markdown",
   "metadata": {},
   "source": [
    "Notice that in the `call()` method, we have used an\n",
    "additional argument, `training=False`. In the context of Keras, the training\n",
    "argument is a special Boolean argument that distinguishes whether a model or layer\n",
    "is used during training (for example, via `fit()`) or only for prediction or evaluation (for example, via `predict()`); prediction is sometimes also called \"inference\".  \n",
    "\n",
    "One of the main differences between training and prediction is that during prediction, we do\n",
    "not require gradients. Also, there are certain methods that behave differently in\n",
    "training and prediction modes such as **dropout** and **batch normalization**. In the case of `NoisyLinear`, we only add noise during training, and not during inference."
   ]
  },
  {
   "cell_type": "code",
   "execution_count": 42,
   "metadata": {},
   "outputs": [
    {
     "name": "stdout",
     "output_type": "stream",
     "text": [
      "[[-0.010030563]\n",
      " [-0.0636793]\n",
      " [0.0242050495]\n",
      " [0.0539674945]]\n",
      "[0]\n"
     ]
    }
   ],
   "source": [
    "noisy_layer = NoisyLinear(output_dim=1)\n",
    "noisy_layer.build(input_shape=(None, 4))\n",
    "\n",
    "tf.print(noisy_layer.w)\n",
    "tf.print(noisy_layer.b)"
   ]
  },
  {
   "cell_type": "markdown",
   "metadata": {},
   "source": [
    "Let's look at the outputs:"
   ]
  },
  {
   "cell_type": "code",
   "execution_count": 43,
   "metadata": {},
   "outputs": [
    {
     "data": {
      "image/png": "[encoded data removed]",
      "text/plain": [
       "<Figure size 432x288 with 1 Axes>"
      ]
     },
     "metadata": {
      "needs_background": "light"
     },
     "output_type": "display_data"
    }
   ],
   "source": [
    "noise = []\n",
    "noisy_layer = NoisyLinear(output_dim=1)\n",
    "\n",
    "x = tf.zeros(shape=(1, 1))\n",
    "for i in range(10000):\n",
    "    noise.append((noisy_layer(x, training=True) - noisy_layer.b) / noisy_layer.w)\n",
    "\n",
    "# Plot distribution\n",
    "sns.distplot(noise);"
   ]
  },
  {
   "cell_type": "markdown",
   "metadata": {},
   "source": [
    "Looks OK, the ReLU clips the output to the positive x-axis. Removing zero, we expect the distribution to look like a half-Gaussian."
   ]
  },
  {
   "cell_type": "code",
   "execution_count": 44,
   "metadata": {},
   "outputs": [
    {
     "data": {
      "image/png": "[encoded data removed]",
      "text/plain": [
       "<Figure size 432x288 with 1 Axes>"
      ]
     },
     "metadata": {
      "needs_background": "light"
     },
     "output_type": "display_data"
    }
   ],
   "source": [
    "sns.distplot([t for t in noise if t.numpy()[0, 0] > 0]);"
   ]
  },
  {
   "cell_type": "markdown",
   "metadata": {},
   "source": [
    "Testing the `.config` method."
   ]
  },
  {
   "cell_type": "code",
   "execution_count": 45,
   "metadata": {},
   "outputs": [
    {
     "name": "stdout",
     "output_type": "stream",
     "text": [
      "{'name': 'noisy_linear_1', 'trainable': True, 'dtype': 'float32', 'output_dim': 1, 'noise_stddev': 0.1}\n",
      "[[0.00302205025]]\n",
      "[[0.00127642462]]\n"
     ]
    }
   ],
   "source": [
    "# Re-building from config:\n",
    "config = noisy_layer.get_config()\n",
    "new_layer = NoisyLinear.from_config(config)\n",
    "print(config)\n",
    "\n",
    "# Output can be different since random state is not saved\n",
    "x = tf.zeros(shape=(1, 1))\n",
    "tf.print(noisy_layer(x, training=True))\n",
    "tf.print(new_layer(x, training=True))"
   ]
  },
  {
   "cell_type": "markdown",
   "metadata": {},
   "source": [
    "Testing call outside training:"
   ]
  },
  {
   "cell_type": "code",
   "execution_count": 46,
   "metadata": {},
   "outputs": [
    {
     "name": "stdout",
     "output_type": "stream",
     "text": [
      "tf.Tensor([[0.]], shape=(1, 1), dtype=float32)\n"
     ]
    }
   ],
   "source": [
    "s = 0\n",
    "for i in range(10):\n",
    "    s += noisy_layer(tf.zeros(shape=(1, 1)))\n",
    "\n",
    "print(s)"
   ]
  },
  {
   "cell_type": "markdown",
   "metadata": {},
   "source": [
    "<br>\n",
    "\n",
    "**Remodelling**. In this section, we will add `NoisyLinear` to our previous model for XOR. Note that noise should be scaled depending on the magnitude of the input. In our case, the input features vary between $-1$ to $1,$ so we set $\\sigma = 0.3$ in the noisy linear for it to have considerable effect."
   ]
  },
  {
   "cell_type": "code",
   "execution_count": 47,
   "metadata": {},
   "outputs": [
    {
     "name": "stdout",
     "output_type": "stream",
     "text": [
      "Model: \"sequential_5\"\n",
      "_________________________________________________________________\n",
      " Layer (type)                Output Shape              Param #   \n",
      "=================================================================\n",
      " noisy_linear_2 (NoisyLinear  (None, 4)                12        \n",
      " )                                                               \n",
      "                                                                 \n",
      " dense_14 (Dense)            (None, 4)                 20        \n",
      "                                                                 \n",
      " dense_15 (Dense)            (None, 1)                 5         \n",
      "                                                                 \n",
      "=================================================================\n",
      "Total params: 37\n",
      "Trainable params: 37\n",
      "Non-trainable params: 0\n",
      "_________________________________________________________________\n"
     ]
    }
   ],
   "source": [
    "model = tf.keras.Sequential()\n",
    "model.add(NoisyLinear(output_dim=4, noise_stddev=0.3))\n",
    "model.add(tf.keras.layers.Dense(units=4, input_shape=(2,), activation='tanh'))\n",
    "model.add(tf.keras.layers.Dense(units=1, activation='sigmoid'))\n",
    "\n",
    "model.build(input_shape=(None, 2))\n",
    "model.summary()"
   ]
  },
  {
   "cell_type": "code",
   "execution_count": 48,
   "metadata": {},
   "outputs": [
    {
     "name": "stderr",
     "output_type": "stream",
     "text": [
      "2022-02-02 03:56:04.247175: I tensorflow/core/grappler/optimizers/custom_graph_optimizer_registry.cc:112] Plugin optimizer for device_type GPU is enabled.\n",
      "2022-02-02 03:56:04.475838: I tensorflow/core/grappler/optimizers/custom_graph_optimizer_registry.cc:112] Plugin optimizer for device_type GPU is enabled.\n"
     ]
    }
   ],
   "source": [
    "model.compile(\n",
    "    optimizer=optim.SGD(),\n",
    "    loss=tf.keras.losses.BinaryCrossentropy(from_logits=False),\n",
    "    metrics=[tf.keras.metrics.BinaryAccuracy()]\n",
    ")\n",
    "\n",
    "hist = model.fit(\n",
    "    X_train, y_train, # fit accepts numpy arrays\n",
    "    validation_data=(X_valid, y_valid),\n",
    "    epochs=200,\n",
    "    batch_size=2, verbose=0\n",
    ")"
   ]
  },
  {
   "cell_type": "code",
   "execution_count": 49,
   "metadata": {},
   "outputs": [
    {
     "name": "stderr",
     "output_type": "stream",
     "text": [
      "2022-02-02 03:56:48.989295: I tensorflow/core/grappler/optimizers/custom_graph_optimizer_registry.cc:112] Plugin optimizer for device_type GPU is enabled.\n"
     ]
    },
    {
     "data": {
      "image/png": "[encoded data removed]",
      "text/plain": [
       "<Figure size 864x216 with 3 Axes>"
      ]
     },
     "metadata": {
      "needs_background": "light"
     },
     "output_type": "display_data"
    }
   ],
   "source": [
    "plot_training_history(hist);"
   ]
  },
  {
   "cell_type": "code",
   "execution_count": 50,
   "metadata": {},
   "outputs": [
    {
     "name": "stdout",
     "output_type": "stream",
     "text": [
      "4/4 [==============================] - 0s 8ms/step - loss: 0.0095 - binary_accuracy: 1.0000\n"
     ]
    },
    {
     "name": "stderr",
     "output_type": "stream",
     "text": [
      "2022-02-02 03:56:56.342711: I tensorflow/core/grappler/optimizers/custom_graph_optimizer_registry.cc:112] Plugin optimizer for device_type GPU is enabled.\n"
     ]
    },
    {
     "data": {
      "text/plain": [
       "[0.009478285908699036, 1.0]"
      ]
     },
     "execution_count": 50,
     "metadata": {},
     "output_type": "execute_result"
    }
   ],
   "source": [
    "model.evaluate(X_valid, y_valid)"
   ]
  },
  {
   "cell_type": "markdown",
   "metadata": {},
   "source": [
    "Notice that the training curve is noisier than before since we added a large amount of noise. On the other hand, the validation curves are not noisy at all. This shows Keras automatically sets `training` to `False` during evaluation. Also note that while the validation performance is perfect, it seems to generalize worse since the decision boundaries are too sharp."
   ]
  },
  {
   "cell_type": "code",
   "execution_count": 51,
   "metadata": {},
   "outputs": [
    {
     "name": "stderr",
     "output_type": "stream",
     "text": [
      "Clipping input data to the valid range for imshow with RGB data ([0..1] for floats or [0..255] for integers).\n"
     ]
    },
    {
     "data": {
      "image/png": "[encoded data removed]",
      "text/plain": [
       "<Figure size 432x432 with 1 Axes>"
      ]
     },
     "metadata": {
      "needs_background": "light"
     },
     "output_type": "display_data"
    }
   ],
   "source": [
    "plot_decision_gradient(model); # surprisingly sharp"
   ]
  },
  {
   "cell_type": "markdown",
   "metadata": {},
   "source": [
    "### Saving and loading models"
   ]
  },
  {
   "cell_type": "markdown",
   "metadata": {},
   "source": [
    "We can save and load a model for checkpointing as follows:"
   ]
  },
  {
   "cell_type": "code",
   "execution_count": 52,
   "metadata": {},
   "outputs": [],
   "source": [
    "model.save('model.h5', \n",
    "    overwrite=True, \n",
    "    include_optimizer=True, # also save state of optimizer \n",
    "    save_format='h5'\n",
    ")"
   ]
  },
  {
   "cell_type": "markdown",
   "metadata": {},
   "source": [
    "Testing load. Note that custom layers need to be taken particular care of."
   ]
  },
  {
   "cell_type": "code",
   "execution_count": 53,
   "metadata": {},
   "outputs": [
    {
     "name": "stdout",
     "output_type": "stream",
     "text": [
      "Model: \"sequential_5\"\n",
      "_________________________________________________________________\n",
      " Layer (type)                Output Shape              Param #   \n",
      "=================================================================\n",
      " noisy_linear_2 (NoisyLinear  (None, 4)                12        \n",
      " )                                                               \n",
      "                                                                 \n",
      " dense_14 (Dense)            (None, 4)                 20        \n",
      "                                                                 \n",
      " dense_15 (Dense)            (None, 1)                 5         \n",
      "                                                                 \n",
      "=================================================================\n",
      "Total params: 37\n",
      "Trainable params: 37\n",
      "Non-trainable params: 0\n",
      "_________________________________________________________________\n"
     ]
    }
   ],
   "source": [
    "model_load = tf.keras.models.load_model(\n",
    "    'model.h5', \n",
    "    custom_objects={'NoisyLinear': NoisyLinear}\n",
    ")\n",
    "\n",
    "model_load.summary()"
   ]
  },
  {
   "cell_type": "markdown",
   "metadata": {},
   "source": [
    "We can also save the network architecture as a JSON file."
   ]
  },
  {
   "cell_type": "code",
   "execution_count": 54,
   "metadata": {},
   "outputs": [
    {
     "name": "stdout",
     "output_type": "stream",
     "text": [
      "{\n",
      "  \"class_name\": \"Sequential\",\n",
      "  \"config\": {\n",
      "    \"name\": \"sequential_5\",\n",
      "    \"layers\": [\n",
      "      {\n",
      "        \"class_name\": \"InputLayer\",\n",
      "        \"config\": {\n",
      "          \"batch_input_shape\": [\n",
      "            null,\n",
      "            2\n",
      "          ],\n",
      "          \"dtype\": \"float32\",\n",
      "          \"sparse\": false,\n",
      "          \"ragged\": false,\n",
      "          \"name\": \"noisy_linear_2_input\"\n",
      "        }\n",
      "      },\n",
      "      {\n",
      "        \"class_name\": \"NoisyLinear\",\n",
      "        \"config\": {\n",
      "          \"name\": \"noisy_linear_2\",\n",
      "          \"trainable\": true,\n",
      "          \"dtype\": \"float32\",\n",
      "          \"output_dim\": 4,\n",
      "          \"noise_stddev\": 0.3\n",
      "        }\n",
      "      },\n",
      "      {\n",
      "        \"class_name\": \"Dense\",\n",
      "        \"config\": {\n",
      "          \"name\": \"dense_14\",\n",
      "          \"trainable\": true,\n",
      "          \"batch_input_shape\": [\n",
      "            null,\n",
      "            2\n",
      "          ],\n",
      "          \"dtype\": \"float32\",\n",
      "          \"units\": 4,\n",
      "          \"activation\": \"tanh\",\n",
      "          \"use_bias\": true,\n",
      "          \"kernel_initializer\": {\n",
      "            \"class_name\": \"GlorotUniform\",\n",
      "            \"config\": {\n",
      "              \"seed\": null\n",
      "            }\n",
      "          },\n",
      "          \"bias_initializer\": {\n",
      "            \"class_name\": \"Zeros\",\n",
      "            \"config\": {}\n",
      "          },\n",
      "          \"kernel_regularizer\": null,\n",
      "          \"bias_regularizer\": null,\n",
      "          \"activity_regularizer\": null,\n",
      "          \"kernel_constraint\": null,\n",
      "          \"bias_constraint\": null\n",
      "        }\n",
      "      },\n",
      "      {\n",
      "        \"class_name\": \"Dense\",\n",
      "        \"config\": {\n",
      "          \"name\": \"dense_15\",\n",
      "          \"trainable\": true,\n",
      "          \"dtype\": \"float32\",\n",
      "          \"units\": 1,\n",
      "          \"activation\": \"sigmoid\",\n",
      "          \"use_bias\": true,\n",
      "          \"kernel_initializer\": {\n",
      "            \"class_name\": \"GlorotUniform\",\n",
      "            \"config\": {\n",
      "              \"seed\": null\n",
      "            }\n",
      "          },\n",
      "          \"bias_initializer\": {\n",
      "            \"class_name\": \"Zeros\",\n",
      "            \"config\": {}\n",
      "          },\n",
      "          \"kernel_regularizer\": null,\n",
      "          \"bias_regularizer\": null,\n",
      "          \"activity_regularizer\": null,\n",
      "          \"kernel_constraint\": null,\n",
      "          \"bias_constraint\": null\n",
      "        }\n",
      "      }\n",
      "    ]\n",
      "  },\n",
      "  \"keras_version\": \"2.7.0\",\n",
      "  \"backend\": \"tensorflow\"\n",
      "}\n"
     ]
    }
   ],
   "source": [
    "import json\n",
    "\n",
    "json_object = json.loads(model_load.to_json())\n",
    "print(json.dumps(json_object, indent=2))"
   ]
  },
  {
   "cell_type": "code",
   "execution_count": null,
   "metadata": {},
   "outputs": [],
   "source": []
  }
 ],
 "metadata": {
  "interpreter": {
   "hash": "a55a0d1272a360f93e747858d443ec26da69f69eac36db3e567a961ca624a861"
  },
  "kernelspec": {
   "display_name": "Python 3.9.9 64-bit ('ml': conda)",
   "language": "python",
   "name": "python3"
  },
  "language_info": {
   "codemirror_mode": {
    "name": "ipython",
    "version": 3
   },
   "file_extension": ".py",
   "mimetype": "text/x-python",
   "name": "python",
   "nbconvert_exporter": "python",
   "pygments_lexer": "ipython3",
   "version": "3.8.12"
  },
  "orig_nbformat": 4
 },
 "nbformat": 4,
 "nbformat_minor": 2
}
