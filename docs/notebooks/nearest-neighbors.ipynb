{
 "cells": [
  {
   "cell_type": "markdown",
   "source": [
    "# Nearest Neighbors Methods"
   ],
   "metadata": {}
  },
  {
   "cell_type": "markdown",
   "source": [
    "While nearest neighbor algorithms are not as popular as they once were, they are still widely\n",
    "used in practice, and it is highly recommended that to consider KNN in classification projects as a predictive performance benchmark &mdash; especially, when you are trying to develop more sophisticated models.\n",
    "\n",
    "In this notebook, we focus mostly on two algorithms, the Nearest Neighbor (NN) algorithm\n",
    "and the $k$-Nearest Neighbor (KNN) algorithm. NN is just a special case of KNN where $k = 1.$\n",
    "We will use the abbreviation NN if we talk about concepts that do not apply to KNN in general. Otherwise, we will use KNN to refer to nearest neighbor algorithms in general, regardless of the value of $k.$"
   ],
   "metadata": {}
  },
  {
   "cell_type": "code",
   "execution_count": null,
   "source": [],
   "outputs": [],
   "metadata": {}
  }
 ],
 "metadata": {
  "orig_nbformat": 4,
  "language_info": {
   "name": "python"
  }
 },
 "nbformat": 4,
 "nbformat_minor": 2
}