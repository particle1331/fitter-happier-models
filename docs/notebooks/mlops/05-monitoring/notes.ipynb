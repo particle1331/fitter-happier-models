{
 "cells": [
  {
   "cell_type": "markdown",
   "metadata": {},
   "source": [
    "# Model Monitoring"
   ]
  },
  {
   "cell_type": "markdown",
   "metadata": {},
   "source": [
    "![Status](https://img.shields.io/static/v1.svg?label=Status&message=Finished&color=brightgreen)\n",
    "[![Source](https://img.shields.io/static/v1.svg?label=GitHub&message=Source&color=181717&logo=GitHub)](https://github.com/particle1331/inefficient-networks/blob/master/docs/notebooks/mlops/04-deployment)\n",
    "[![Stars](https://img.shields.io/github/stars/particle1331/inefficient-networks?style=social)](https://github.com/particle1331/inefficient-networks)\n",
    "\n",
    "```text\n",
    "𝗔𝘂𝘁𝗵𝗼𝗿: Ron Medina\n",
    "𝗟𝗮𝘀𝘁 𝗠𝗼𝗱𝗶𝗳𝗶𝗲𝗱: 2022/07/09\n",
    "𝗗𝗲𝘀𝗰𝗿𝗶𝗽𝘁𝗶𝗼𝗻: Monitoring ML web services and batch jobs using Evidently.\n",
    "𝗔𝘁𝘁𝗿𝗶𝗯𝘂𝘁𝗶𝗼𝗻: Notes for Module 5 of the MLOps Zoomcamp by DataTalks.Club (https://github.com/DataTalksClub/mlops-zoomcamp/).\n",
    "```\n",
    "\n",
    "---"
   ]
  },
  {
   "cell_type": "markdown",
   "metadata": {},
   "source": [
    "## Introduction\n",
    "\n",
    "Monitoring is a critical but often overlooked phase of the model life cycle[^ref]. During training, a model studies past examples. But a production model works with new data which sooner or later deviates from training data. Change in test and training data distribution is known as **concept drift** which eventually causes model degradation. Another issue for production models is that data pipelines just break: we can have malformed data, database outages, missing values, and so on. If a model receives wrong or unusual input, it will make an unreliable prediction. The effects can range from [silly product recommendations](https://twitter.com/GirlFromBlupo/status/982156453396996096) to [laying off 25% of company staff](https://www.fiddler.ai/blog/zillow-offers-a-case-for-model-risk-management) after a [$328M quarterly loss](https://www.seattletimes.com/business/real-estate/zillow-to-close-its-home-flipping-division-lay-off-25-of-staff/). In the latter case, impact on downstream business KPIs can only be noticed once damage has already been done.\n",
    "\n",
    "[^ref]: This introduction is based on the blog post [Machine Learning Monitoring, Part 1: What It Is and How It Differs](https://evidentlyai.com/blog/machine-learning-monitoring-what-it-is-and-how-it-differs) by [Evidently AI](https://evidentlyai.com/)."
   ]
  },
  {
   "cell_type": "markdown",
   "metadata": {},
   "source": [
    "Hence, to operate ML models in production successfully, we need real-time view of model performance. \n",
    "These should include: tests on model correctness, feature and target drift, predict probability drift, data outage, schema change, underperforming segments, and so on. Adding visibility to the production models give us better chances of\n",
    "finding out what causes change in model performance. Note that this can be implemented along with more traditional monitoring of software services such as health checks for broken components, CPU and memory utilization, latency, and so on. Monitoring data-based services adds an extra layer of complexity.\n",
    "\n",
    "Monitoring thus becomes a critical component that connects production with modeling. If we detect a quality drop, we can trigger retraining or step back into the research phase to issue a model remake. Here quality drop can be measured in terms of usual technical metrics such as precision and recall. But these values are interpreted in the context of machine learning as a decision-making tool that should serve our business goals."
   ]
  },
  {
   "cell_type": "markdown",
   "metadata": {},
   "source": [
    "```{margin}\n",
    "[`evidentlyai.com/blog`](https://evidentlyai.com/blog/machine-learning-monitoring-what-it-is-and-how-it-differs)\n",
    "```\n",
    "```{figure} ../../../img/model_lifecycle_2.png\n",
    "---\n",
    "width: 40em\n",
    "---\n",
    "Monitoring as part of model lifecycle that connects production to the research phase of a project.\n",
    "```"
   ]
  },
  {
   "cell_type": "code",
   "execution_count": null,
   "metadata": {},
   "outputs": [],
   "source": []
  }
 ],
 "metadata": {
  "kernelspec": {
   "display_name": "Python 3.9.12 ('ml')",
   "language": "python",
   "name": "python3"
  },
  "language_info": {
   "codemirror_mode": {
    "name": "ipython",
    "version": 3
   },
   "file_extension": ".py",
   "mimetype": "text/x-python",
   "name": "python",
   "nbconvert_exporter": "python",
   "pygments_lexer": "ipython3",
   "version": "3.9.12"
  },
  "orig_nbformat": 4,
  "vscode": {
   "interpreter": {
    "hash": "a55a0d1272a360f93e747858d443ec26da69f69eac36db3e567a961ca624a861"
   }
  }
 },
 "nbformat": 4,
 "nbformat_minor": 2
}
