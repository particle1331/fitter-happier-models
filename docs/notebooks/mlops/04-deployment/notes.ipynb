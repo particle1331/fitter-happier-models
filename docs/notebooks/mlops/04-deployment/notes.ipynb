{
 "cells": [
  {
   "cell_type": "markdown",
   "metadata": {},
   "source": [
    "# Model Deployment"
   ]
  },
  {
   "cell_type": "markdown",
   "metadata": {},
   "source": [
    "![Status](https://img.shields.io/static/v1.svg?label=Status&message=Ongoing&color=orange)\n",
    "\n",
    "<!-- Place this tag where you want the button to render. -->\n",
    "<a class=\"github-button\" href=\"https://github.com/particle1331/steepest-ascent\" data-color-scheme=\"no-preference: dark; light: light; dark: dark;\" data-icon=\"octicon-star\" data-size=\"large\" data-show-count=\"true\" aria-label=\"Star particle1331/steepest-ascent on GitHub\">Star</a>\n",
    "<!-- Place this tag in your head or just before your close body tag. -->\n",
    "<script async defer src=\"https://buttons.github.io/buttons.js\"></script> \n"
   ]
  },
  {
   "cell_type": "markdown",
   "metadata": {},
   "source": [
    "In this module, we will look into deploying the ride duration model which has been our working example in the modules. Deploying means that other applications can get predictions from our model. We will look at three modes of deployment: **online** deployment, **offline** or batch deployment, and **streaming**. \n",
    "\n",
    "In online mode, our service must be up all the time. To do this, we implement a web service which takes in HTTP requests and sends out predictions. In offline or mode, we have a service running regularly, but not necessarily all the time. This can make predictions for a batch of examples that runs periodically using workflow orchestration. Finally, we look at how to implement a streaming service, i.e. a machine learning service that listens to a stream of events and reacts to it using AWS Kinesis and AWS Lambda."
   ]
  },
  {
   "cell_type": "markdown",
   "metadata": {},
   "source": [
    "```{margin}\n",
    "⚠️ **Attribution:** These are notes for [Module 4: Model Deployment](https://github.com/DataTalksClub/mlops-zoomcamp/blob/main/04-deployment) of the [MLOps Zoomcamp](https://github.com/DataTalksClub/mlops-zoomcamp). The MLOps Zoomcamp is a free course from [DataTalks.Club](https://github.com/DataTalksClub).\n",
    "```\n"
   ]
  },
  {
   "cell_type": "markdown",
   "metadata": {},
   "source": [
    "## Deploying models with Flask and Docker\n",
    "\n",
    "In this section, we develop a web server using Flask for serving model predictions. The model is obtained from an S3 artifacts store and predicts on data sent to the service by the backend. We will containerize this application using Docker. This container can be deployed anywhere where Docker is supported such as Kubernetes and Elastic Beanstalk."
   ]
  },
  {
   "cell_type": "markdown",
   "metadata": {},
   "source": [
    "### Model package"
   ]
  },
  {
   "cell_type": "markdown",
   "metadata": {},
   "source": [
    "Here we will package code for model prediction that will be used by the Flask application. This can also be used for offline model training or batch scoring. The directory structure of our project would look like:\n",
    "\n",
    "```\n",
    "deployment/\n",
    "├── app/\n",
    "│   └── main.py\n",
    "├── ride_duration/\n",
    "│   ├── __init__.py\n",
    "│   ├── predict.py\n",
    "│   ├── utils.py\n",
    "│   └── VERSION\n",
    "├── .env\n",
    "├── Dockerfile\n",
    "├── Pipfile\n",
    "├── MANIFEST.in\n",
    "├── Pipfile.lock\n",
    "├── setup.py\n",
    "├── test.py\n",
    "├── train.py\n",
    "└── pyproject.toml\n",
    "```"
   ]
  },
  {
   "cell_type": "markdown",
   "metadata": {},
   "source": [
    "First we create [`setup.py`](https://github.com/particle1331/inefficient-networks/blob/92b7232fbbba4e17a10ce6a55a37725d32371f0b/docs/notebooks/mlops/04-deployment/setup.py) and [`pyproject.toml`](https://github.com/particle1331/inefficient-networks/blob/217134c84bb323452bf0dc3e8b6a6a04fea8f06b/docs/notebooks/mlops/04-deployment/pyproject.toml) for packaging. Refer to the links to see the complete code. For `setup.py` you only have to change the package metadata (or just leave them blank) and set `install_requires` to `[]`. This list will be later filled using a tool that integrates with Pipenv which we will use for package management.\n",
    "\n",
    "```{margin}\n",
    "[`setup.py`](https://github.com/particle1331/inefficient-networks/blob/92b7232fbbba4e17a10ce6a55a37725d32371f0b/docs/notebooks/mlops/04-deployment/setup.py)\n",
    "```\n",
    "```python\n",
    "from pathlib import Path\n",
    "from setuptools import find_packages, setup\n",
    "\n",
    "\n",
    "# Package meta-data.\n",
    "NAME = \"ride-duration-prediction\"\n",
    "DESCRIPTION = \"\"\n",
    "URL = \"\"\n",
    "EMAIL = \"\"\n",
    "AUTHOR = \"\"\n",
    "REQUIRES_PYTHON = \">=3.9.0\"\n",
    "\n",
    "\n",
    "# The rest you shouldn't have to touch too much. Except for install_requires=[]. \n",
    "# Perhaps also the License and Trove Classifiers if publishing to PyPI (public).\n",
    "...\n",
    "\n",
    "setup(\n",
    "    ...\n",
    "    install_requires=[],             \n",
    "    ...\n",
    "    license=\"MIT\",\n",
    "    classifiers=[\n",
    "        # Trove classifiers\n",
    "        \"License :: OSI Approved :: MIT License\",\n",
    "        \"Programming Language :: Python :: 3.9\",\n",
    "        \"Programming Language :: Python :: Implementation :: CPython\",\n",
    "        \"Programming Language :: Python :: Implementation :: PyPy\",\n",
    "    ],\n",
    ")\n",
    "```"
   ]
  },
  {
   "cell_type": "markdown",
   "metadata": {},
   "source": [
    "Additionally, we can include [`MANIFEST.in`](https://github.com/particle1331/inefficient-networks/blob/217134c84bb323452bf0dc3e8b6a6a04fea8f06b/docs/notebooks/mlops/04-deployment/MANIFEST.in) file to specify the files included in the source distribution of the package. The full list can be viewed in the `SOURCES.txt` file of the generated `egg-info` folder after building the package."
   ]
  },
  {
   "cell_type": "markdown",
   "metadata": {},
   "source": [
    "```{margin}\n",
    "[`MANIFEST.in`](https://github.com/particle1331/inefficient-networks/blob/217134c84bb323452bf0dc3e8b6a6a04fea8f06b/docs/notebooks/mlops/04-deployment/MANIFEST.in)\n",
    "```\n",
    "```\n",
    "include ride_duration/*.py\n",
    "include ride_duration/VERSION\n",
    "\n",
    "recursive-exclude * __pycache__\n",
    "recursive-exclude * *.py[co]\n",
    "```"
   ]
  },
  {
   "cell_type": "markdown",
   "metadata": {},
   "source": [
    "### Pipenv"
   ]
  },
  {
   "cell_type": "markdown",
   "metadata": {},
   "source": [
    "To manage our projects package dependencies, we will use [Pipenv](https://pipenv.pypa.io/en/latest/). Notice that we get `Pipfile` which supersedes the usual requirements file, and also a `Pipfile.lock` containing hashes of downloaded packages that ensure reproducible builds. "
   ]
  },
  {
   "cell_type": "markdown",
   "metadata": {},
   "source": [
    "```bash\n",
    "pipenv install scikit-learn==1.0.2 flask pandas mlflow boto3 --python=3.9\n",
    "pipenv install --dev requests\n",
    "pipenv install --dev pipenv-setup\n",
    "```"
   ]
  },
  {
   "cell_type": "markdown",
   "metadata": {},
   "source": [
    "Next we install the model package locally. Here we use `pipenv-setup sync` to update `install_requires` in the `setup` script according to the packages installed using Pipenv. This makes sure there are no dependency conflicts when using the package.\n",
    "\n",
    "```bash\n",
    "pipenv-setup sync\n",
    "pipenv install -e .\n",
    "```\n",
    "\n",
    "Our `Pipfile` should now look like the following. Note that `ride-duration-prediction` is installed in editable mode which is okay since the underlying code is still in development.\n",
    "\n",
    "```{margin}\n",
    "[`Pipfile`](https://github.com/particle1331/inefficient-networks/blob/32bb7aecb5b6c4999becba323d6695eb97f3cd3a/docs/notebooks/mlops/04-deployment/Pipfile)\n",
    "```\n",
    "```ini\n",
    "[[source]]\n",
    "url = \"https://pypi.org/simple\"\n",
    "verify_ssl = true\n",
    "name = \"pypi\"\n",
    "\n",
    "[packages]\n",
    "scikit-learn = \"==1.0.2\"\n",
    "flask = \"*\"\n",
    "pandas = \"*\"\n",
    "mlflow = \"*\"\n",
    "boto3 = \"*\"\n",
    "ride-duration-prediction = {editable = true, path = \".\"}\n",
    "\n",
    "[dev-packages]\n",
    "requests = \"*\"\n",
    "pipenv-setup = \"*\"\n",
    "\n",
    "[requires]\n",
    "python_version = \"3.9\"\n",
    "```"
   ]
  },
  {
   "cell_type": "markdown",
   "metadata": {},
   "source": [
    "### Environmental variables"
   ]
  },
  {
   "cell_type": "markdown",
   "metadata": {},
   "source": [
    "AWS credentials and other environmental variables that we will use later are saved in a `.env` file in the same directory as Pipfile. These are automatically detected and loaded by Pipenv when calling `pipenv shell`. However, the shell must be restarted whenever the `.env` file is modified."
   ]
  },
  {
   "cell_type": "markdown",
   "metadata": {},
   "source": [
    "```bash\n",
    "# .env\n",
    "EXPERIMENT_ID=1\n",
    "MODEL_RUN_ID=f4e2242a53a3410d89c061d1958ae70a\n",
    "AWS_ACCESS_KEY_ID=A*************LI\n",
    "AWS_SECRET_ACCESS_KEY=N*********************+9\n",
    "```"
   ]
  },
  {
   "cell_type": "markdown",
   "metadata": {},
   "source": [
    "### Model package scripts"
   ]
  },
  {
   "cell_type": "markdown",
   "metadata": {},
   "source": [
    "In the following script of the model package, we define helper functions for model training and inference. This includes the usual `load_training_dataframe` function which creates the target features (ride duration in minutes) and filters it to some range, i.e. `[1, 60]`, and `prepare_features` for creating the `PU_DO` combination feature IDs of pick-up and drop-off points."
   ]
  },
  {
   "cell_type": "markdown",
   "metadata": {},
   "source": [
    "```{margin}\n",
    "[`utils.py`](https://github.com/particle1331/inefficient-networks/blob/217134c84bb323452bf0dc3e8b6a6a04fea8f06b/docs/notebooks/mlops/04-deployment/ride_duration/utils.py)\n",
    "```\n",
    "```python\n",
    "def load_training_dataframe(file_path, y_min=1, y_max=60):\n",
    "    \"\"\"Load data from disk and preprocess for training.\"\"\"\n",
    "    \n",
    "    # Load data from disk\n",
    "    data = pd.read_parquet(file_path)\n",
    "\n",
    "    # Create target column and filter outliers\n",
    "    data['duration'] = data.lpep_dropoff_datetime - data.lpep_pickup_datetime\n",
    "    data['duration'] = data.duration.dt.total_seconds() / 60\n",
    "    data = data[(data.duration >= y_min) & (data.duration <= y_max)]\n",
    "\n",
    "    return data\n",
    "\n",
    "\n",
    "def prepare_features(input_data):\n",
    "    \"\"\"Prepare features for dict vectorizer.\"\"\"\n",
    "\n",
    "    X = pd.DataFrame(input_data)\n",
    "    X['PU_DO'] = X['PULocationID'].astype(str) + '_' + X['DOLocationID'].astype(str)\n",
    "    X = X[['PU_DO', 'trip_distance']].to_dict(orient='records')\n",
    "    \n",
    "    return X\n",
    "```"
   ]
  },
  {
   "cell_type": "markdown",
   "metadata": {},
   "source": [
    "Note that this package expects models that are pipelines such as (see **Appendix** below):\n",
    "\n",
    "```python\n",
    "pipeline = make_pipeline(\n",
    "    DictVectorizer(), \n",
    "    RandomForestRegressor(**params, n_jobs=-1)\n",
    ")\n",
    "```\n",
    "\n",
    "This avoids having to load the preprocessor separately from the artifacts store. Thus, our models expect `prepare_features(input_data)` where `input_data` can be a `DataFrame` with rows containing ride or a list of ride features dictionaries (e.g. obtained as a JSON payload)."
   ]
  },
  {
   "cell_type": "markdown",
   "metadata": {},
   "source": [
    "**Predict.** The `load_model()` function in `predict.py` is of interest. The model is loaded directly from the S3 artifacts store. This ensures that we always get a model assuming the following environmental variables are properly configured."
   ]
  },
  {
   "cell_type": "markdown",
   "metadata": {},
   "source": [
    "```{margin}\n",
    "[`predict.py`](https://github.com/particle1331/inefficient-networks/blob/6015767edcbf1fa019b57ca3138ebb900c71a6a9/docs/notebooks/mlops/04-deployment/ride_duration/predict.py)\n",
    "```\n",
    "```python\n",
    "...\n",
    "from ride_duration.utils import package_dir, prepare_features\n",
    "\n",
    "\n",
    "def load_model(experiment_id, run_id):\n",
    "    \"\"\"Get model from our S3 artifacts store.\"\"\"\n",
    "\n",
    "    source = f\"s3://mlflow-models-ron/{experiment_id}/{run_id}/artifacts/model\"\n",
    "    model = mlflow.pyfunc.load_model(source)\n",
    "\n",
    "    return model\n",
    "\n",
    "\n",
    "def make_prediction(model, input_data: Union[list[dict], pd.DataFrame]):\n",
    "    \"\"\"Make prediction from features dict or DataFrame.\"\"\"\n",
    "    \n",
    "    X = prepare_features(input_data)\n",
    "    preds = model.predict(X)\n",
    "\n",
    "    return preds\n",
    "```"
   ]
  },
  {
   "cell_type": "markdown",
   "metadata": {},
   "source": [
    "Note that we can also load the latest **production version** directly from the model registry as follows (no need to specify a run and experiment ID). But one issue is that starting of the Flask server can fail whenever the request the tracking server is down.\n",
    "\n",
    "```python\n",
    "TRACKING_URI = f\"http://{TRACKING_SERVER_HOST}:5000\"\n",
    "\n",
    "# Fetch production model from client\n",
    "mlflow.set_tracking_uri(TRACKING_URI)\n",
    "client = MlflowClient(tracking_uri=TRACKING_URI)\n",
    "prod_model = client.get_latest_versions(name='NYCRideDurationModel', stages=['Production'])[0]\n",
    "\n",
    "run_id = prod_model.run_id\n",
    "source = prod_model.source\n",
    "model = mlflow.pyfunc.load_model(source)\n",
    "```"
   ]
  },
  {
   "cell_type": "markdown",
   "metadata": {},
   "source": [
    "Testing out the `load_model()` function:\n",
    "\n",
    "```bash\n",
    "❯ python\n",
    "Python 3.9.13 | packaged by conda-forge | (main, May 27 2022, 17:01:00)\n",
    "[Clang 13.0.1 ] on darwin\n",
    "Type \"help\", \"copyright\", \"credits\" or \"license\" for more information.\n",
    ">>> import os\n",
    ">>> from ride_duration.predict import load_model\n",
    ">>> model = load_model(os.getenv(\"EXPERIMENT_ID\"), os.getenv(\"MODEL_RUN_ID\"))\n",
    ">>> model\n",
    "mlflow.pyfunc.loaded_model:\n",
    "  artifact_path: model\n",
    "  flavor: mlflow.sklearn\n",
    "  run_id: f4e2242a53a3410d89c061d1958ae70a\n",
    "```"
   ]
  },
  {
   "cell_type": "markdown",
   "metadata": {},
   "source": [
    "<br>"
   ]
  },
  {
   "cell_type": "markdown",
   "metadata": {},
   "source": [
    "```{figure} ../../../img/s3-artifacts-ss.png\n",
    "---\n",
    "---\n",
    "Artifacts store for model runs of experiment 1.\n",
    "```"
   ]
  },
  {
   "cell_type": "markdown",
   "metadata": {},
   "source": [
    "### Serving predictions using Flask"
   ]
  },
  {
   "cell_type": "markdown",
   "metadata": {},
   "source": [
    "For our Flask application, we simply define an endpoint that serves the model predictions. The model loads when the server starts (i.e. we don't load it every time we make a prediction). Then, there is a single `predict_endpoint` which expects a singleton JSON payload, otherwise it only predicts on the first entry. For versioning, we return the run ID of the model is returned along with its prediction.\n",
    "\n",
    "```{margin}\n",
    "[`app/main.py`](https://github.com/particle1331/inefficient-networks/blob/57234281467bfcd332e27252b45aa460395a6227/docs/notebooks/mlops/04-deployment/app/main.py)\n",
    "```\n",
    "```python\n",
    "...\n",
    "from ride_duration.predict import load_model, make_prediction\n",
    "from flask import Flask, request, jsonify\n",
    "\n",
    "\n",
    "# Load model with run ID and experiment ID defined in the env.\n",
    "RUN_ID = os.getenv(\"MODEL_RUN_ID\")\n",
    "EXPERIMENT_ID = os.getenv(\"EXPERIMENT_ID\")\n",
    "model = load_model(run_id=RUN_ID, experiment_id=EXPERIMENT_ID)\n",
    "\n",
    "app = Flask('duration-prediction')\n",
    "\n",
    "\n",
    "@app.route('/predict', methods=['POST'])\n",
    "def predict_endpoint():\n",
    "    \"\"\"Predict duration of a single ride using NYCRideDurationModel.\"\"\"\n",
    "    \n",
    "    ride = request.get_json()\n",
    "    preds = make_prediction(model, ride)\n",
    "\n",
    "    return jsonify({\n",
    "        'duration': float(preds[0]),\n",
    "        'model_version': RUN_ID,\n",
    "    })\n",
    "\n",
    "\n",
    "if __name__ == \"__main__\":\n",
    "    app.run(debug=True, host='0.0.0.0', port=9696)\n",
    "```"
   ]
  },
  {
   "cell_type": "markdown",
   "metadata": {},
   "source": [
    "We also define a script for testing the endpoint. Note that this same script can be used without modification to test remote hosts using port forwarding."
   ]
  },
  {
   "cell_type": "markdown",
   "metadata": {},
   "source": [
    "```{margin}\n",
    "[`test.py`](https://github.com/particle1331/inefficient-networks/blob/217134c84bb323452bf0dc3e8b6a6a04fea8f06b/docs/notebooks/mlops/04-deployment/test.py)\n",
    "```\n",
    "```python\n",
    "import json\n",
    "import requests\n",
    "\n",
    "\n",
    "ride = [{\n",
    "    'PULocationID': 130,\n",
    "    'DOLocationID': 205,\n",
    "    'trip_distance': 3.66,\n",
    "}]\n",
    "\n",
    "\n",
    "if __name__ == \"__main__\":\n",
    "    \n",
    "    host = 'http://0.0.0.0:9696'\n",
    "    url = f'{host}/predict'\n",
    "    response = requests.post(url, json=ride)\n",
    "    result = response.json()\n",
    "    \n",
    "    print(result)\n",
    "```"
   ]
  },
  {
   "cell_type": "markdown",
   "metadata": {},
   "source": [
    "### Dockerfile"
   ]
  },
  {
   "cell_type": "markdown",
   "metadata": {},
   "source": [
    "For our `Dockerfile`, we start by installing Pipenv. Next we copy `Pipfile` and `Pipfile.lock` as well as files for installing the model package. We also copy the files for the web service. Finally, we install everything using Pipenv, expose the `9696` endpoint, and configure the entrypoint (i.e. serve the main app on `0.0.0.0:9696`)."
   ]
  },
  {
   "cell_type": "markdown",
   "metadata": {},
   "source": [
    "```{margin}\n",
    "[`Dockerfile`](https://github.com/particle1331/inefficient-networks/blob/69fc955d08a8bbb8d214cc753af35250c34f4a27/docs/notebooks/mlops/04-deployment/Dockerfile)\n",
    "```\n",
    "```Dockerfile\n",
    "FROM python:3.9.13-slim\n",
    "\n",
    "RUN pip install -U pip\n",
    "RUN pip install pipenv\n",
    "\n",
    "WORKDIR /app\n",
    "\n",
    "COPY [ \"Pipfile\", \"Pipfile.lock\",  \"./\"]\n",
    "COPY [ \"setup.py\", \"pyproject.toml\", \"MANIFEST.in\",  \"./\"]\n",
    "COPY [ \"ride_duration\",  \"./ride_duration\"]\n",
    "COPY [ \"app\",  \"./app\"]\n",
    "\n",
    "RUN pipenv install --system --deploy\n",
    "\n",
    "EXPOSE 9696\n",
    "\n",
    "# https://stackoverflow.com/a/71092624/1091950\n",
    "ENTRYPOINT [ \"gunicorn\", \"--bind=0.0.0.0:9696\", \"--timeout=600\", \"app.main:app\" ]\n",
    "```"
   ]
  },
  {
   "cell_type": "markdown",
   "metadata": {},
   "source": [
    "Building the image:"
   ]
  },
  {
   "cell_type": "markdown",
   "metadata": {},
   "source": [
    "```bash\n",
    "docker build -t ride-duration-prediction-service:v1 .\n",
    "```\n",
    "```bash\n",
    "[+] Building 72.3s (13/13) FINISHED\n",
    " => [internal] load build definition from Dockerfile               0.1s\n",
    " => => transferring dockerfile: 388B                               0.0s\n",
    " => [internal] load .dockerignore                                  0.1s\n",
    " => => transferring context: 2B                                    0.0s\n",
    " => [internal] load metadata for docker.io/library/python:3.9.13-  3.4s\n",
    " => [internal] load build context                                  0.1s\n",
    " => => transferring context: 80.02kB                               0.1s\n",
    " => [1/8] FROM docker.io/library/python:3.9.13-slim@sha256:451ccc  0.0s\n",
    " => CACHED [2/8] RUN pip install -U pip                            0.0s\n",
    " => CACHED [3/8] RUN pip install pipenv                            0.0s\n",
    " => CACHED [4/8] WORKDIR /app                                      0.0s\n",
    " => [5/8] COPY [ Pipfile, Pipfile.lock, setup.py, pyproject.toml,  0.1s\n",
    " => [6/8] COPY [ ride_duration,  ./ride_duration]                  0.1s\n",
    " => [7/8] COPY [ app,  ./app]                                      0.0s\n",
    " => [8/8] RUN pipenv install --system --deploy                    64.8s\n",
    " => exporting to image                                             3.6s\n",
    " => => exporting layers                                            3.6s\n",
    " => => writing image sha256:1b2da34ca1b3504d45df527049f788a485713  0.0s\n",
    " => => naming to docker.io/library/ride-duration-prediction-servi  0.0s\n",
    "```\n",
    "\n",
    "Running the container (we load the environmental variables into the container with `--env-file .env`):\n",
    "\n",
    "```bash\n",
    "docker run --env-file .env -it --rm -p 9696:9696 ride-duration-prediction-service:v1\n",
    "```\n",
    "```\n",
    "[2022-06-20 11:12:08 +0000] [1] [INFO] Starting gunicorn 20.1.0\n",
    "[2022-06-20 11:12:08 +0000] [1] [INFO] Listening at: http://0.0.0.0:9696 (1)\n",
    "[2022-06-20 11:12:08 +0000] [1] [INFO] Using worker: sync\n",
    "[2022-06-20 11:12:08 +0000] [9] [INFO] Booting worker with pid: 9\n",
    "Downloading model f4e2242a53a3410d89c061d1958ae70a from S3...\n",
    "2022/06/20 11:22:28 WARNING mlflow.pyfunc: Detected one or more mismatches between the model's dependencies and the current Python environment:\n",
    " - psutil (current: uninstalled, required: psutil==5.9.1)\n",
    "To fix the mismatches, call `mlflow.pyfunc.get_model_dependencies(model_uri)` to fetch the model's environment and install dependencies using the resulting environment file.\n",
    "```"
   ]
  },
  {
   "cell_type": "markdown",
   "metadata": {},
   "source": [
    "Looks like there is a mismatch between the training environment and the current one. Running the test script in another terminal to see if it still works:"
   ]
  },
  {
   "cell_type": "markdown",
   "metadata": {},
   "source": [
    "```bash\n",
    "❯ python test.py\n",
    "{'duration': 18.210770674183355, 'model_version': 'f4e2242a53a3410d89c061d1958ae70a'}\n",
    "```"
   ]
  },
  {
   "cell_type": "markdown",
   "metadata": {},
   "source": [
    "Note that after the initial loading time, the next predictions are returned instantaneously. Have to make sure that the model is loaded only once. "
   ]
  },
  {
   "cell_type": "markdown",
   "metadata": {},
   "source": [
    "## Streaming: Deploying models with Kinesis and Lambda\n",
    "\n",
    "A streaming service consists of **producers** and **consumers**. Producers push events to the event stream which are consumed by consuming services that react to this stream. Recall that a web service exhibits a 1-1 relationship so that there is explicit connection between user and service. On the other hand, the relationship between producing and consuming services can be 1-many or many-many. There is only implicit connection since we don't know which consumers will react or how many. This setup can be scaled to many services or models.\n",
    "\n",
    "For example, when a user uses our ride hailing app, the backend can send an event to the stream containing all information about this ride. Then, services will react on this event, e.g. one consuming service predicts tip and sends a push notification to user asking for the tip. And consuming services which makes better ride duration prediction but takes more time to make a prediction can update the prediction that was initially given to the user by the online web service. "
   ]
  },
  {
   "cell_type": "code",
   "execution_count": null,
   "metadata": {},
   "outputs": [],
   "source": []
  },
  {
   "cell_type": "markdown",
   "metadata": {},
   "source": [
    "## Deploying batch predictions\n",
    "\n",
    "For use cases that do not require the responsiveness of a web service, we can implement an offline service that makes batch predictions. Typically, offline services are expected to be done between fixed time periods, e.g. daily, weekly, or monthly. A critical element of this is **workflow orchestration** where we regularly pull from a database, make predictions on that data, then write the predictions on a database, or to a file that is uploaded to S3, or it can be pushed to an analytics dashboard thereby refreshing it. "
   ]
  },
  {
   "cell_type": "markdown",
   "metadata": {},
   "source": [
    "```\n",
    "=== TODO (waiting for new video with orchestration :) ===\n",
    "```"
   ]
  },
  {
   "cell_type": "markdown",
   "metadata": {},
   "source": [
    "<!-- ### Scoring script\n",
    "\n",
    "```{margin}\n",
    "[`score.py`](https://github.com/particle1331/inefficient-networks/blob/217134c84bb323452bf0dc3e8b6a6a04fea8f06b/docs/notebooks/mlops/04-deployment/score.py)\n",
    "```\n",
    "```python\n",
    "from ride_duration.utils import load_training_dataframe\n",
    "from ride_duration.predict import load_model, make_prediction\n",
    "\n",
    "\n",
    "def generate_uuids(n):\n",
    "    ride_ids = []\n",
    "    for i in range(n):\n",
    "        ride_ids.append(str(uuid.uuid4()))\n",
    "    return ride_ids\n",
    "\n",
    "\n",
    "def apply_model(\n",
    "    input_file: str, \n",
    "    run_id: str, \n",
    "    output_file: str\n",
    ") -> None:\n",
    "    \n",
    "    print(f'Reading the data from {input_file}...')\n",
    "    df = load_training_dataframe(input_file)\n",
    "    df['ride_id'] = generate_uuids(len(df))\n",
    "\n",
    "    print(f'Loading the model with RUN_ID={run_id}...')\n",
    "    model = load_model()\n",
    "\n",
    "    print(f'Applying the model...')\n",
    "    preds = make_prediction(model, df)\n",
    "\n",
    "    print(f'Saving the result to {output_file}...')\n",
    "    df_result = pd.DataFrame()\n",
    "    df_result['ride_id'] = df['ride_id']\n",
    "    df_result['lpep_pickup_datetime'] = df['lpep_pickup_datetime']\n",
    "    df_result['PULocationID'] = df['PULocationID']\n",
    "    df_result['DOLocationID'] = df['DOLocationID']\n",
    "    df_result['actual_duration'] = df['duration']\n",
    "    df_result['predicted_duration'] = preds\n",
    "    df_result['diff'] = df_result['actual_duration'] - df_result['predicted_duration']\n",
    "    df_result['model_version'] = run_id\n",
    "    df_result.to_parquet(output_file, index=False)\n",
    "\n",
    "\n",
    "def run(taxi_type: str, year: int, month: int, run_id: str) -> None:\n",
    "\n",
    "    source_url = 'https://s3.amazonaws.com/nyc-tlc/trip+data'\n",
    "    input_file = f'{source_url}/{taxi_type}_tripdata_{year:04d}-{month:02d}.parquet'\n",
    "    output_file = f'output/{taxi_type}/{year:04d}-{month:02d}.parquet'\n",
    "\n",
    "    apply_model(\n",
    "        input_file=input_file,\n",
    "        run_id=run_id,\n",
    "        output_file=output_file\n",
    "    )\n",
    "\n",
    "\n",
    "if __name__ == '__main__':\n",
    "\n",
    "    import argparse\n",
    "    parser = argparse.ArgumentParser()\n",
    "    parser.add_argument(\"--taxi_type\", default='green', type=str)\n",
    "    parser.add_argument(\"--year\", default=2021, type=int)\n",
    "    parser.add_argument(\"--month\", default=1, type=int)\n",
    "    parser.add_argument(\"--run_id\", type=str)\n",
    "    parser.add_argument(\"--experiment_id\", type=int)\n",
    "    args = parser.parse_args()\n",
    "    \n",
    "    run(\n",
    "        taxi_type=args.taxi_type,\n",
    "        year=args.year,\n",
    "        month=args.month,\n",
    "        run_id=args.run_id\n",
    "    )\n",
    "``` -->"
   ]
  },
  {
   "cell_type": "markdown",
   "metadata": {},
   "source": [
    "<!-- ```bash\n",
    "pipenv install --dev python-dotenv\n",
    "python score.py\n",
    "``` -->"
   ]
  },
  {
   "cell_type": "markdown",
   "metadata": {},
   "source": [
    "## Appendix: Train script"
   ]
  },
  {
   "cell_type": "markdown",
   "metadata": {},
   "source": [
    "For training models that we use to serve predictions in our API, we use the following script. This trains a model using the `ride_duration` package (which ensures smooth integration with the Flask API) and logs the trained model to a remote MLflow tracking server. The tracking server host is provided as a command line argument."
   ]
  },
  {
   "cell_type": "markdown",
   "metadata": {},
   "source": [
    "```{margin}\n",
    "[`train.py`](https://github.com/particle1331/inefficient-networks/blob/217134c84bb323452bf0dc3e8b6a6a04fea8f06b/docs/notebooks/mlops/04-deployment/train.py)\n",
    "```\n",
    "```python\n",
    "import mlflow \n",
    "import joblib\n",
    "\n",
    "from sklearn.ensemble import RandomForestRegressor\n",
    "from sklearn.metrics import mean_squared_error\n",
    "from sklearn.feature_extraction import DictVectorizer\n",
    "from sklearn.pipeline import make_pipeline\n",
    "\n",
    "from ride_duration.utils import load_training_dataframe, prepare_features\n",
    "\n",
    "\n",
    "def setup(tracking_server_host):\n",
    "    TRACKING_URI = f\"http://{tracking_server_host}:5000\"\n",
    "    mlflow.set_tracking_uri(TRACKING_URI)\n",
    "    mlflow.set_experiment(\"nyc-taxi-experiment\")\n",
    "\n",
    "\n",
    "def run_training(X_train, y_train, X_valid, y_valid):\n",
    "    with mlflow.start_run():\n",
    "        params = {\n",
    "            'n_estimators': 100,\n",
    "            'max_depth': 20\n",
    "        }\n",
    "        \n",
    "        pipeline = make_pipeline(\n",
    "            DictVectorizer(), \n",
    "            RandomForestRegressor(**params, n_jobs=-1)\n",
    "        )\n",
    "        \n",
    "        pipeline.fit(X_train, y_train)\n",
    "        y_pred = pipeline.predict(X_valid)\n",
    "        rmse = mean_squared_error(y_valid, y_pred, squared=False)\n",
    "        \n",
    "        mlflow.log_params(params)\n",
    "        mlflow.log_metric(\"rmse_valid\", rmse)\n",
    "        mlflow.sklearn.log_model(pipeline, artifact_path='model')\n",
    "\n",
    "\n",
    "if __name__ == \"__main__\":\n",
    "\n",
    "    import argparse\n",
    "    parser = argparse.ArgumentParser()\n",
    "    parser.add_argument(\"--tracking-server-host\", type=str)\n",
    "    parser.add_argument(\"--train_path\", type=str)\n",
    "    parser.add_argument(\"--valid_path\", type=str)\n",
    "    args = parser.parse_args()\n",
    "\n",
    "    # Getting data from disk\n",
    "    train_data = load_training_dataframe(args.train_path)\n",
    "    valid_data = load_training_dataframe(args.valid_path)\n",
    "\n",
    "    # Preprocessing dataset\n",
    "    X_train = prepare_features(train_data.drop(['duration'], axis=1))\n",
    "    X_valid = prepare_features(valid_data.drop(['duration'], axis=1))\n",
    "    y_train = train_data.duration.values\n",
    "    y_valid = valid_data.duration.values\n",
    "\n",
    "    # Push training to server\n",
    "    setup(args.tracking_server_host)\n",
    "    run_training(X_train, y_train, X_valid, y_valid)\n",
    "```"
   ]
  },
  {
   "cell_type": "markdown",
   "metadata": {},
   "source": []
  }
 ],
 "metadata": {
  "kernelspec": {
   "display_name": "Python 3.9.12 ('ml')",
   "language": "python",
   "name": "python3"
  },
  "language_info": {
   "codemirror_mode": {
    "name": "ipython",
    "version": 3
   },
   "file_extension": ".py",
   "mimetype": "text/x-python",
   "name": "python",
   "nbconvert_exporter": "python",
   "pygments_lexer": "ipython3",
   "version": "3.9.12"
  },
  "orig_nbformat": 4,
  "vscode": {
   "interpreter": {
    "hash": "a55a0d1272a360f93e747858d443ec26da69f69eac36db3e567a961ca624a861"
   }
  }
 },
 "nbformat": 4,
 "nbformat_minor": 2
}
