{
 "cells": [
  {
   "cell_type": "markdown",
   "metadata": {},
   "source": [
    "# Model Deployment"
   ]
  },
  {
   "cell_type": "markdown",
   "metadata": {},
   "source": [
    "In this module, we will look into deploying the ride duration model which has been our working example in the modules. Deploying means that other applications can get predictions from our model. We will look at three modes of deployment: **online** deployment, **offline** or batch deployment, and **streaming**. \n",
    "\n",
    "In online mode, our service must be up all the time. To do this, we implement a web service which takes in HTTP requests and sends out predictions. In offline or mode, we have a service running regularly, but not necessarily all the time. This can make predictions for a batch of examples that runs periodically using workflow orchestration. Finally, we look at how to implement a streaming service, i.e. a machine learning service that listens to a stream of events and reacts to it using AWS Kinesis and AWS Lambda."
   ]
  },
  {
   "cell_type": "markdown",
   "metadata": {},
   "source": [
    "```{margin}\n",
    "⚠️ **Attribution:** These are notes for [Module 4: Model Deployment](https://github.com/DataTalksClub/mlops-zoomcamp/blob/main/04-deployment) of the [MLOps Zoomcamp](https://github.com/DataTalksClub/mlops-zoomcamp). The MLOps Zoomcamp is a free course from [DataTalks.Club](https://github.com/DataTalksClub).\n",
    "```\n"
   ]
  },
  {
   "cell_type": "markdown",
   "metadata": {},
   "source": [
    "## Deploying the model as a web service\n",
    "\n",
    "In this section, we develop a Flask prediction API that serves predictions using a trained model from our MLflow artifacts store or model registry. This will take in requests from the backend containing information of a ride which will be used by the model to make a prediction. Finally, we containerize this application using Docker. This container can be deployed anywhere where Docker is supported such as Kubernetes and Elastic Beanstalk."
   ]
  },
  {
   "cell_type": "markdown",
   "metadata": {},
   "source": [
    "### Model package"
   ]
  },
  {
   "cell_type": "markdown",
   "metadata": {},
   "source": [
    "We start by packaging code for model prediction that will be used by the Flask application. This can also be used for offline model training. The directory structure of our project would look like:\n",
    "\n",
    "```\n",
    "deployment/\n",
    "├── app/\n",
    "│   └── main.py\n",
    "├── ride_duration/\n",
    "│   ├── __init__.py\n",
    "│   ├── predict.py\n",
    "│   ├── utils.py\n",
    "│   └── VERSION\n",
    "├── Dockerfile\n",
    "├── Pipfile\n",
    "├── MANIFEST.in\n",
    "├── Pipfile.lock\n",
    "├── setup.py\n",
    "├── test.py\n",
    "├── train.py\n",
    "└── pyproject.toml\n",
    "```"
   ]
  },
  {
   "cell_type": "markdown",
   "metadata": {},
   "source": [
    "First we create `setup.py` and `pyproject.toml` for packaging. Refer to the links to see the complete code. For `setup.py` you only have to change the package metadata (or just leave them blank) and set `install_requires` to `[]`. This list will be later filled using a tool that integrates with Pipenv which we will use for package management.\n",
    "\n",
    "```python\n",
    "from pathlib import Path\n",
    "from setuptools import find_packages, setup\n",
    "\n",
    "\n",
    "# Package meta-data.\n",
    "NAME = \"ride-duration-prediction\"\n",
    "DESCRIPTION = \"\"\n",
    "URL = \"\"\n",
    "EMAIL = \"\"\n",
    "AUTHOR = \"\"\n",
    "REQUIRES_PYTHON = \">=3.9.0\"\n",
    "\n",
    "\n",
    "# The rest you shouldn't have to touch too much. Except for install_requires=[]. \n",
    "# Perhaps also the License and Trove Classifiers if publishing to PyPI (public).\n",
    "...\n",
    "\n",
    "setup(\n",
    "    ...\n",
    "    install_requires=[],             \n",
    "    ...\n",
    "    license=\"MIT\",\n",
    "    classifiers=[\n",
    "        # Trove classifiers\n",
    "        \"License :: OSI Approved :: MIT License\",\n",
    "        \"Programming Language :: Python :: 3.9\",\n",
    "        \"Programming Language :: Python :: Implementation :: CPython\",\n",
    "        \"Programming Language :: Python :: Implementation :: PyPy\",\n",
    "    ],\n",
    ")\n",
    "```"
   ]
  },
  {
   "cell_type": "code",
   "execution_count": null,
   "metadata": {},
   "outputs": [],
   "source": []
  },
  {
   "cell_type": "code",
   "execution_count": null,
   "metadata": {},
   "outputs": [],
   "source": []
  },
  {
   "cell_type": "markdown",
   "metadata": {},
   "source": [
    "```bash\n",
    "pipenv install scikit-learn==1.0.2 flask pandas mlflow --python=3.9\n",
    "pipenv install\n",
    "pipenv install --dev requests\n",
    "pipenv install --dev pipenv-setup\n",
    "pipenv-setup sync\n",
    "```"
   ]
  },
  {
   "cell_type": "code",
   "execution_count": 3,
   "metadata": {},
   "outputs": [],
   "source": [
    "from setuptools import find_packages, setup\n"
   ]
  },
  {
   "cell_type": "code",
   "execution_count": 5,
   "metadata": {},
   "outputs": [
    {
     "name": "stdout",
     "output_type": "stream",
     "text": [
      "\u001b[0;31mSignature:\u001b[0m \u001b[0msetup\u001b[0m\u001b[0;34m(\u001b[0m\u001b[0;34m**\u001b[0m\u001b[0mattrs\u001b[0m\u001b[0;34m)\u001b[0m\u001b[0;34m\u001b[0m\u001b[0;34m\u001b[0m\u001b[0m\n",
      "\u001b[0;31mDocstring:\u001b[0m\n",
      "The gateway to the Distutils: do everything your setup script needs\n",
      "to do, in a highly flexible and user-driven way.  Briefly: create a\n",
      "Distribution instance; find and parse config files; parse the command\n",
      "line; run each Distutils command found there, customized by the options\n",
      "supplied to 'setup()' (as keyword arguments), in config files, and on\n",
      "the command line.\n",
      "\n",
      "The Distribution instance might be an instance of a class supplied via\n",
      "the 'distclass' keyword argument to 'setup'; if no such class is\n",
      "supplied, then the Distribution class (in dist.py) is instantiated.\n",
      "All other arguments to 'setup' (except for 'cmdclass') are used to set\n",
      "attributes of the Distribution instance.\n",
      "\n",
      "The 'cmdclass' argument, if supplied, is a dictionary mapping command\n",
      "names to command classes.  Each command encountered on the command line\n",
      "will be turned into a command class, which is in turn instantiated; any\n",
      "class found in 'cmdclass' is used in place of the default, which is\n",
      "(for command 'foo_bar') class 'foo_bar' in module\n",
      "'distutils.command.foo_bar'.  The command class must provide a\n",
      "'user_options' attribute which is a list of option specifiers for\n",
      "'distutils.fancy_getopt'.  Any command-line options between the current\n",
      "and the next command are used to set attributes of the current command\n",
      "object.\n",
      "\n",
      "When the entire command-line has been successfully parsed, calls the\n",
      "'run()' method on each command object in turn.  This method will be\n",
      "driven entirely by the Distribution object (which each command object\n",
      "has a reference to, thanks to its constructor), and the\n",
      "command-specific options that became attributes of each command\n",
      "object.\n",
      "\u001b[0;31mSource:\u001b[0m   \n",
      "\u001b[0;32mdef\u001b[0m \u001b[0msetup\u001b[0m\u001b[0;34m(\u001b[0m\u001b[0;34m**\u001b[0m\u001b[0mattrs\u001b[0m\u001b[0;34m)\u001b[0m\u001b[0;34m:\u001b[0m\u001b[0;34m\u001b[0m\n",
      "\u001b[0;34m\u001b[0m    \u001b[0;31m# Make sure we have any requirements needed to interpret 'attrs'.\u001b[0m\u001b[0;34m\u001b[0m\n",
      "\u001b[0;34m\u001b[0m    \u001b[0mlogging\u001b[0m\u001b[0;34m.\u001b[0m\u001b[0mconfigure\u001b[0m\u001b[0;34m(\u001b[0m\u001b[0;34m)\u001b[0m\u001b[0;34m\u001b[0m\n",
      "\u001b[0;34m\u001b[0m    \u001b[0m_install_setup_requires\u001b[0m\u001b[0;34m(\u001b[0m\u001b[0mattrs\u001b[0m\u001b[0;34m)\u001b[0m\u001b[0;34m\u001b[0m\n",
      "\u001b[0;34m\u001b[0m    \u001b[0;32mreturn\u001b[0m \u001b[0mdistutils\u001b[0m\u001b[0;34m.\u001b[0m\u001b[0mcore\u001b[0m\u001b[0;34m.\u001b[0m\u001b[0msetup\u001b[0m\u001b[0;34m(\u001b[0m\u001b[0;34m**\u001b[0m\u001b[0mattrs\u001b[0m\u001b[0;34m)\u001b[0m\u001b[0;34m\u001b[0m\u001b[0;34m\u001b[0m\u001b[0m\n",
      "\u001b[0;31mFile:\u001b[0m      ~/miniforge3/envs/ml/lib/python3.9/site-packages/setuptools/__init__.py\n",
      "\u001b[0;31mType:\u001b[0m      function\n"
     ]
    }
   ],
   "source": [
    "setup??"
   ]
  },
  {
   "cell_type": "markdown",
   "metadata": {},
   "source": [
    "## Deploying batch predictions\n",
    "\n",
    "Suppose we need regular predictions, e.g. daily, hourly, or monthly &mdash; periods where there is a lot of downtime. For example, making predictions on collected data for the sake of analytics or making reports, or predicting churn for our customer base. \n",
    "\n",
    "These use cases do not require the responsiveness of a web service. Hence, we can implement an offline service that makes batch predictions. For example, we can orchestrate a workflow in prefect for making batch predictions on some data that we pull from a database, then we can write the predictions on a database, upload a predictions file to S3, or push predictions to an analytics dashboard."
   ]
  },
  {
   "cell_type": "markdown",
   "metadata": {},
   "source": [
    "## Machine learning for streaming\n",
    "\n",
    "\n",
    "streaming\n",
    "- producer and consumers\n",
    "- producer pushes event to event stream and consumers wil read from this stream.\n",
    "- and react to these events. \n",
    "- recall web service: 1-1 relationship (explicit connection between user and service)\n",
    "- 1-many  / many - many. \n",
    "- user -> producer=backend -> send event containing all info about ride ->\n",
    "     services will react on this event\n",
    "\n",
    "- e.g. one consuming service predict tip -> send push notif to user asking for tip.\n",
    "- duration prediction (web service) = okay pred\n",
    "- streaming service, better ride duration prediction -> update prediction. \n",
    "- only implicit connection, we dont know which consumer will react, how many\n",
    "- example: content moderation\n",
    "    - user -> video -> event -> C1 (copyright)\n",
    "                             -> C2 (NSFW)        -> prediction stream -> decision service\n",
    "                             -> C2 (violence)          \n",
    "\n",
    "- can be scaled to infinitely many services or models (in principle)"
   ]
  },
  {
   "cell_type": "markdown",
   "metadata": {},
   "source": [
    "## Deploying a model as a web service"
   ]
  },
  {
   "cell_type": "markdown",
   "metadata": {},
   "source": [
    "```\n",
    "app\n",
    "data\n",
    "ride_duration\n",
    "|- VERSION\n",
    "|- __init__.py\n",
    "Dockerfile\n",
    "setup.py\n",
    "project.toml\n",
    "MANIFEST.in\n",
    "```"
   ]
  },
  {
   "cell_type": "code",
   "execution_count": null,
   "metadata": {},
   "outputs": [],
   "source": [
    "edit pipfile -> pipenv install\n"
   ]
  },
  {
   "cell_type": "code",
   "execution_count": 28,
   "metadata": {},
   "outputs": [
    {
     "name": "stdout",
     "output_type": "stream",
     "text": [
      "{\n",
      "    \"duration\": 12.265893072879651\n",
      "}\n"
     ]
    }
   ],
   "source": [
    "import requests\n",
    "import json\n",
    "\n",
    "ride = [{\n",
    "    'VendorID': 2,\n",
    "    'store_and_fwd_flag': 'N',\n",
    "    'RatecodeID': 1.0,\n",
    "    'PULocationID': 130,\n",
    "    'DOLocationID': 205,\n",
    "    'passenger_count': 5.0,\n",
    "    'trip_distance': 3.66,\n",
    "    'fare_amount': 14.0,\n",
    "    'extra': 0.5,\n",
    "    'mta_tax': 0.5,\n",
    "    'tip_amount': 10.0,\n",
    "    'tolls_amount': 0.0,\n",
    "    'ehail_fee': None,\n",
    "    'improvement_surcharge': 0.3,\n",
    "    'total_amount': 25.3,\n",
    "    'payment_type': 1.0,\n",
    "    'trip_type': 1.0,\n",
    "    'congestion_surcharge': 0.0\n",
    "}]\n",
    "\n",
    "\n",
    "host = 'http://192.168.254.180:9696'\n",
    "url = f'{host}/predict'\n",
    "response = requests.post(url, json=ride)\n",
    "result = response.json()\n",
    "print(json.dumps(result, indent=4))"
   ]
  },
  {
   "cell_type": "markdown",
   "metadata": {},
   "source": [
    "```bash\n",
    "```"
   ]
  },
  {
   "cell_type": "code",
   "execution_count": null,
   "metadata": {},
   "outputs": [],
   "source": [
    "get model from mlflow registry using run id\n",
    "problematic if server goes down\n",
    "we become dependent on tracking server.\n",
    "-> go directly to artifact root. \n"
   ]
  },
  {
   "cell_type": "code",
   "execution_count": null,
   "metadata": {},
   "outputs": [],
   "source": []
  },
  {
   "cell_type": "markdown",
   "metadata": {},
   "source": []
  },
  {
   "cell_type": "code",
   "execution_count": 10,
   "metadata": {},
   "outputs": [
    {
     "name": "stdout",
     "output_type": "stream",
     "text": [
      "{\n",
      "    \"duration\": 12.265893072879651\n",
      "}\n"
     ]
    }
   ],
   "source": [
    "import requests\n",
    "import json\n",
    "\n",
    "ride = [{\n",
    "    'PULocationID': 130,\n",
    "    'DOLocationID': 205,\n",
    "    'trip_distance': 3.66,\n",
    "}]\n",
    "\n",
    "\n",
    "host = 'http://0.0.0.0:9696'\n",
    "url = f'{host}/predict'\n",
    "response = requests.post(url, json=ride)\n",
    "result = response.json()\n",
    "\n",
    "print(json.dumps(result, indent=4))\n"
   ]
  },
  {
   "cell_type": "code",
   "execution_count": 8,
   "metadata": {},
   "outputs": [
    {
     "data": {
      "text/html": [
       "<div>\n",
       "<style scoped>\n",
       "    .dataframe tbody tr th:only-of-type {\n",
       "        vertical-align: middle;\n",
       "    }\n",
       "\n",
       "    .dataframe tbody tr th {\n",
       "        vertical-align: top;\n",
       "    }\n",
       "\n",
       "    .dataframe thead th {\n",
       "        text-align: right;\n",
       "    }\n",
       "</style>\n",
       "<table border=\"1\" class=\"dataframe\">\n",
       "  <thead>\n",
       "    <tr style=\"text-align: right;\">\n",
       "      <th></th>\n",
       "      <th>VendorID</th>\n",
       "      <th>lpep_pickup_datetime</th>\n",
       "      <th>lpep_dropoff_datetime</th>\n",
       "      <th>store_and_fwd_flag</th>\n",
       "      <th>RatecodeID</th>\n",
       "      <th>PULocationID</th>\n",
       "      <th>DOLocationID</th>\n",
       "      <th>passenger_count</th>\n",
       "      <th>trip_distance</th>\n",
       "      <th>fare_amount</th>\n",
       "      <th>extra</th>\n",
       "      <th>mta_tax</th>\n",
       "      <th>tip_amount</th>\n",
       "      <th>tolls_amount</th>\n",
       "      <th>ehail_fee</th>\n",
       "      <th>improvement_surcharge</th>\n",
       "      <th>total_amount</th>\n",
       "      <th>payment_type</th>\n",
       "      <th>trip_type</th>\n",
       "      <th>congestion_surcharge</th>\n",
       "    </tr>\n",
       "  </thead>\n",
       "  <tbody>\n",
       "    <tr>\n",
       "      <th>0</th>\n",
       "      <td>2</td>\n",
       "      <td>2021-01-01 00:15:56</td>\n",
       "      <td>2021-01-01 00:19:52</td>\n",
       "      <td>N</td>\n",
       "      <td>1.0</td>\n",
       "      <td>43</td>\n",
       "      <td>151</td>\n",
       "      <td>1.0</td>\n",
       "      <td>1.01</td>\n",
       "      <td>5.50</td>\n",
       "      <td>0.50</td>\n",
       "      <td>0.5</td>\n",
       "      <td>0.00</td>\n",
       "      <td>0.00</td>\n",
       "      <td>None</td>\n",
       "      <td>0.3</td>\n",
       "      <td>6.80</td>\n",
       "      <td>2.0</td>\n",
       "      <td>1.0</td>\n",
       "      <td>0.00</td>\n",
       "    </tr>\n",
       "    <tr>\n",
       "      <th>1</th>\n",
       "      <td>2</td>\n",
       "      <td>2021-01-01 00:25:59</td>\n",
       "      <td>2021-01-01 00:34:44</td>\n",
       "      <td>N</td>\n",
       "      <td>1.0</td>\n",
       "      <td>166</td>\n",
       "      <td>239</td>\n",
       "      <td>1.0</td>\n",
       "      <td>2.53</td>\n",
       "      <td>10.00</td>\n",
       "      <td>0.50</td>\n",
       "      <td>0.5</td>\n",
       "      <td>2.81</td>\n",
       "      <td>0.00</td>\n",
       "      <td>None</td>\n",
       "      <td>0.3</td>\n",
       "      <td>16.86</td>\n",
       "      <td>1.0</td>\n",
       "      <td>1.0</td>\n",
       "      <td>2.75</td>\n",
       "    </tr>\n",
       "    <tr>\n",
       "      <th>2</th>\n",
       "      <td>2</td>\n",
       "      <td>2021-01-01 00:45:57</td>\n",
       "      <td>2021-01-01 00:51:55</td>\n",
       "      <td>N</td>\n",
       "      <td>1.0</td>\n",
       "      <td>41</td>\n",
       "      <td>42</td>\n",
       "      <td>1.0</td>\n",
       "      <td>1.12</td>\n",
       "      <td>6.00</td>\n",
       "      <td>0.50</td>\n",
       "      <td>0.5</td>\n",
       "      <td>1.00</td>\n",
       "      <td>0.00</td>\n",
       "      <td>None</td>\n",
       "      <td>0.3</td>\n",
       "      <td>8.30</td>\n",
       "      <td>1.0</td>\n",
       "      <td>1.0</td>\n",
       "      <td>0.00</td>\n",
       "    </tr>\n",
       "    <tr>\n",
       "      <th>3</th>\n",
       "      <td>2</td>\n",
       "      <td>2020-12-31 23:57:51</td>\n",
       "      <td>2021-01-01 00:04:56</td>\n",
       "      <td>N</td>\n",
       "      <td>1.0</td>\n",
       "      <td>168</td>\n",
       "      <td>75</td>\n",
       "      <td>1.0</td>\n",
       "      <td>1.99</td>\n",
       "      <td>8.00</td>\n",
       "      <td>0.50</td>\n",
       "      <td>0.5</td>\n",
       "      <td>0.00</td>\n",
       "      <td>0.00</td>\n",
       "      <td>None</td>\n",
       "      <td>0.3</td>\n",
       "      <td>9.30</td>\n",
       "      <td>2.0</td>\n",
       "      <td>1.0</td>\n",
       "      <td>0.00</td>\n",
       "    </tr>\n",
       "    <tr>\n",
       "      <th>4</th>\n",
       "      <td>2</td>\n",
       "      <td>2021-01-01 00:16:36</td>\n",
       "      <td>2021-01-01 00:16:40</td>\n",
       "      <td>N</td>\n",
       "      <td>2.0</td>\n",
       "      <td>265</td>\n",
       "      <td>265</td>\n",
       "      <td>3.0</td>\n",
       "      <td>0.00</td>\n",
       "      <td>-52.00</td>\n",
       "      <td>0.00</td>\n",
       "      <td>-0.5</td>\n",
       "      <td>0.00</td>\n",
       "      <td>0.00</td>\n",
       "      <td>None</td>\n",
       "      <td>-0.3</td>\n",
       "      <td>-52.80</td>\n",
       "      <td>3.0</td>\n",
       "      <td>1.0</td>\n",
       "      <td>0.00</td>\n",
       "    </tr>\n",
       "    <tr>\n",
       "      <th>...</th>\n",
       "      <td>...</td>\n",
       "      <td>...</td>\n",
       "      <td>...</td>\n",
       "      <td>...</td>\n",
       "      <td>...</td>\n",
       "      <td>...</td>\n",
       "      <td>...</td>\n",
       "      <td>...</td>\n",
       "      <td>...</td>\n",
       "      <td>...</td>\n",
       "      <td>...</td>\n",
       "      <td>...</td>\n",
       "      <td>...</td>\n",
       "      <td>...</td>\n",
       "      <td>...</td>\n",
       "      <td>...</td>\n",
       "      <td>...</td>\n",
       "      <td>...</td>\n",
       "      <td>...</td>\n",
       "      <td>...</td>\n",
       "    </tr>\n",
       "    <tr>\n",
       "      <th>76513</th>\n",
       "      <td>2</td>\n",
       "      <td>2021-01-31 21:38:00</td>\n",
       "      <td>2021-01-31 22:16:00</td>\n",
       "      <td>None</td>\n",
       "      <td>NaN</td>\n",
       "      <td>81</td>\n",
       "      <td>90</td>\n",
       "      <td>NaN</td>\n",
       "      <td>17.63</td>\n",
       "      <td>56.23</td>\n",
       "      <td>2.75</td>\n",
       "      <td>0.0</td>\n",
       "      <td>0.00</td>\n",
       "      <td>6.12</td>\n",
       "      <td>None</td>\n",
       "      <td>0.3</td>\n",
       "      <td>65.40</td>\n",
       "      <td>NaN</td>\n",
       "      <td>NaN</td>\n",
       "      <td>NaN</td>\n",
       "    </tr>\n",
       "    <tr>\n",
       "      <th>76514</th>\n",
       "      <td>2</td>\n",
       "      <td>2021-01-31 22:43:00</td>\n",
       "      <td>2021-01-31 23:21:00</td>\n",
       "      <td>None</td>\n",
       "      <td>NaN</td>\n",
       "      <td>35</td>\n",
       "      <td>213</td>\n",
       "      <td>NaN</td>\n",
       "      <td>18.36</td>\n",
       "      <td>46.66</td>\n",
       "      <td>0.00</td>\n",
       "      <td>0.0</td>\n",
       "      <td>12.20</td>\n",
       "      <td>6.12</td>\n",
       "      <td>None</td>\n",
       "      <td>0.3</td>\n",
       "      <td>65.28</td>\n",
       "      <td>NaN</td>\n",
       "      <td>NaN</td>\n",
       "      <td>NaN</td>\n",
       "    </tr>\n",
       "    <tr>\n",
       "      <th>76515</th>\n",
       "      <td>2</td>\n",
       "      <td>2021-01-31 22:16:00</td>\n",
       "      <td>2021-01-31 22:27:00</td>\n",
       "      <td>None</td>\n",
       "      <td>NaN</td>\n",
       "      <td>74</td>\n",
       "      <td>69</td>\n",
       "      <td>NaN</td>\n",
       "      <td>2.50</td>\n",
       "      <td>18.95</td>\n",
       "      <td>2.75</td>\n",
       "      <td>0.0</td>\n",
       "      <td>0.00</td>\n",
       "      <td>0.00</td>\n",
       "      <td>None</td>\n",
       "      <td>0.3</td>\n",
       "      <td>22.00</td>\n",
       "      <td>NaN</td>\n",
       "      <td>NaN</td>\n",
       "      <td>NaN</td>\n",
       "    </tr>\n",
       "    <tr>\n",
       "      <th>76516</th>\n",
       "      <td>2</td>\n",
       "      <td>2021-01-31 23:10:00</td>\n",
       "      <td>2021-01-31 23:37:00</td>\n",
       "      <td>None</td>\n",
       "      <td>NaN</td>\n",
       "      <td>168</td>\n",
       "      <td>215</td>\n",
       "      <td>NaN</td>\n",
       "      <td>14.48</td>\n",
       "      <td>48.87</td>\n",
       "      <td>2.75</td>\n",
       "      <td>0.0</td>\n",
       "      <td>0.00</td>\n",
       "      <td>6.12</td>\n",
       "      <td>None</td>\n",
       "      <td>0.3</td>\n",
       "      <td>58.04</td>\n",
       "      <td>NaN</td>\n",
       "      <td>NaN</td>\n",
       "      <td>NaN</td>\n",
       "    </tr>\n",
       "    <tr>\n",
       "      <th>76517</th>\n",
       "      <td>2</td>\n",
       "      <td>2021-01-31 23:25:00</td>\n",
       "      <td>2021-01-31 23:35:00</td>\n",
       "      <td>None</td>\n",
       "      <td>NaN</td>\n",
       "      <td>119</td>\n",
       "      <td>244</td>\n",
       "      <td>NaN</td>\n",
       "      <td>1.81</td>\n",
       "      <td>15.45</td>\n",
       "      <td>2.75</td>\n",
       "      <td>0.0</td>\n",
       "      <td>0.00</td>\n",
       "      <td>0.00</td>\n",
       "      <td>None</td>\n",
       "      <td>0.3</td>\n",
       "      <td>18.50</td>\n",
       "      <td>NaN</td>\n",
       "      <td>NaN</td>\n",
       "      <td>NaN</td>\n",
       "    </tr>\n",
       "  </tbody>\n",
       "</table>\n",
       "<p>76518 rows × 20 columns</p>\n",
       "</div>"
      ],
      "text/plain": [
       "       VendorID lpep_pickup_datetime lpep_dropoff_datetime store_and_fwd_flag  \\\n",
       "0             2  2021-01-01 00:15:56   2021-01-01 00:19:52                  N   \n",
       "1             2  2021-01-01 00:25:59   2021-01-01 00:34:44                  N   \n",
       "2             2  2021-01-01 00:45:57   2021-01-01 00:51:55                  N   \n",
       "3             2  2020-12-31 23:57:51   2021-01-01 00:04:56                  N   \n",
       "4             2  2021-01-01 00:16:36   2021-01-01 00:16:40                  N   \n",
       "...         ...                  ...                   ...                ...   \n",
       "76513         2  2021-01-31 21:38:00   2021-01-31 22:16:00               None   \n",
       "76514         2  2021-01-31 22:43:00   2021-01-31 23:21:00               None   \n",
       "76515         2  2021-01-31 22:16:00   2021-01-31 22:27:00               None   \n",
       "76516         2  2021-01-31 23:10:00   2021-01-31 23:37:00               None   \n",
       "76517         2  2021-01-31 23:25:00   2021-01-31 23:35:00               None   \n",
       "\n",
       "       RatecodeID  PULocationID  DOLocationID  passenger_count  trip_distance  \\\n",
       "0             1.0            43           151              1.0           1.01   \n",
       "1             1.0           166           239              1.0           2.53   \n",
       "2             1.0            41            42              1.0           1.12   \n",
       "3             1.0           168            75              1.0           1.99   \n",
       "4             2.0           265           265              3.0           0.00   \n",
       "...           ...           ...           ...              ...            ...   \n",
       "76513         NaN            81            90              NaN          17.63   \n",
       "76514         NaN            35           213              NaN          18.36   \n",
       "76515         NaN            74            69              NaN           2.50   \n",
       "76516         NaN           168           215              NaN          14.48   \n",
       "76517         NaN           119           244              NaN           1.81   \n",
       "\n",
       "       fare_amount  extra  mta_tax  tip_amount  tolls_amount ehail_fee  \\\n",
       "0             5.50   0.50      0.5        0.00          0.00      None   \n",
       "1            10.00   0.50      0.5        2.81          0.00      None   \n",
       "2             6.00   0.50      0.5        1.00          0.00      None   \n",
       "3             8.00   0.50      0.5        0.00          0.00      None   \n",
       "4           -52.00   0.00     -0.5        0.00          0.00      None   \n",
       "...            ...    ...      ...         ...           ...       ...   \n",
       "76513        56.23   2.75      0.0        0.00          6.12      None   \n",
       "76514        46.66   0.00      0.0       12.20          6.12      None   \n",
       "76515        18.95   2.75      0.0        0.00          0.00      None   \n",
       "76516        48.87   2.75      0.0        0.00          6.12      None   \n",
       "76517        15.45   2.75      0.0        0.00          0.00      None   \n",
       "\n",
       "       improvement_surcharge  total_amount  payment_type  trip_type  \\\n",
       "0                        0.3          6.80           2.0        1.0   \n",
       "1                        0.3         16.86           1.0        1.0   \n",
       "2                        0.3          8.30           1.0        1.0   \n",
       "3                        0.3          9.30           2.0        1.0   \n",
       "4                       -0.3        -52.80           3.0        1.0   \n",
       "...                      ...           ...           ...        ...   \n",
       "76513                    0.3         65.40           NaN        NaN   \n",
       "76514                    0.3         65.28           NaN        NaN   \n",
       "76515                    0.3         22.00           NaN        NaN   \n",
       "76516                    0.3         58.04           NaN        NaN   \n",
       "76517                    0.3         18.50           NaN        NaN   \n",
       "\n",
       "       congestion_surcharge  \n",
       "0                      0.00  \n",
       "1                      2.75  \n",
       "2                      0.00  \n",
       "3                      0.00  \n",
       "4                      0.00  \n",
       "...                     ...  \n",
       "76513                   NaN  \n",
       "76514                   NaN  \n",
       "76515                   NaN  \n",
       "76516                   NaN  \n",
       "76517                   NaN  \n",
       "\n",
       "[76518 rows x 20 columns]"
      ]
     },
     "execution_count": 8,
     "metadata": {},
     "output_type": "execute_result"
    }
   ],
   "source": [
    "import pandas as pd\n",
    "\n",
    "df = pd.read_parquet('data/green_tripdata_2021-01.parquet')\n",
    "df"
   ]
  },
  {
   "cell_type": "code",
   "execution_count": 25,
   "metadata": {},
   "outputs": [
    {
     "data": {
      "text/plain": [
       "array([ 6.67431673, 13.79195043,  6.96578162, ..., 13.79195043,\n",
       "       36.27351977, 10.71632294])"
      ]
     },
     "execution_count": 25,
     "metadata": {},
     "output_type": "execute_result"
    }
   ],
   "source": [
    "from ride_duration.predict import load_model\n",
    "from ride_duration.predict import make_prediction\n",
    "\n",
    "model = load_model(run_id='f4e2242a53a3410d89c061d1958ae70a')\n",
    "make_prediction(model, df)"
   ]
  },
  {
   "cell_type": "code",
   "execution_count": 48,
   "metadata": {},
   "outputs": [
    {
     "data": {
      "text/plain": [
       "<ModelVersion: creation_timestamp=1655460227751, current_stage='Production', description='', last_updated_timestamp=1655460239062, name='NYCRideDurationModel', run_id='f4e2242a53a3410d89c061d1958ae70a', run_link='', source='s3://mlflow-models-ron/1/f4e2242a53a3410d89c061d1958ae70a/artifacts/model', status='READY', status_message='', tags={}, user_id='', version='1'>"
      ]
     },
     "execution_count": 48,
     "metadata": {},
     "output_type": "execute_result"
    }
   ],
   "source": [
    "client.get_latest_versions(name='NYCRideDurationModel', stages=['Production'])[0]"
   ]
  },
  {
   "cell_type": "code",
   "execution_count": 26,
   "metadata": {},
   "outputs": [
    {
     "data": {
      "text/plain": [
       "array([ 6.67431673, 13.79195043,  6.96578162, ..., 13.79195043,\n",
       "       36.27351977, 10.71632294])"
      ]
     },
     "execution_count": 26,
     "metadata": {},
     "output_type": "execute_result"
    }
   ],
   "source": [
    "model = mlflow.pyfunc.load_model('models:/NYCRideDurationModel/Production')\n",
    "make_prediction(model, df)"
   ]
  },
  {
   "cell_type": "code",
   "execution_count": 7,
   "metadata": {},
   "outputs": [
    {
     "data": {
      "text/html": [
       "<div>\n",
       "<style scoped>\n",
       "    .dataframe tbody tr th:only-of-type {\n",
       "        vertical-align: middle;\n",
       "    }\n",
       "\n",
       "    .dataframe tbody tr th {\n",
       "        vertical-align: top;\n",
       "    }\n",
       "\n",
       "    .dataframe thead th {\n",
       "        text-align: right;\n",
       "    }\n",
       "</style>\n",
       "<table border=\"1\" class=\"dataframe\">\n",
       "  <thead>\n",
       "    <tr style=\"text-align: right;\">\n",
       "      <th></th>\n",
       "      <th>ride_id</th>\n",
       "      <th>lpep_pickup_datetime</th>\n",
       "      <th>PULocationID</th>\n",
       "      <th>DOLocationID</th>\n",
       "      <th>actual_duration</th>\n",
       "      <th>predicted_duration</th>\n",
       "      <th>diff</th>\n",
       "      <th>model_version</th>\n",
       "    </tr>\n",
       "  </thead>\n",
       "  <tbody>\n",
       "    <tr>\n",
       "      <th>0</th>\n",
       "      <td>d685e8a5-3374-453d-acb2-20fb17445dad</td>\n",
       "      <td>2021-01-01 00:15:56</td>\n",
       "      <td>43</td>\n",
       "      <td>151</td>\n",
       "      <td>3.933333</td>\n",
       "      <td>4.403834</td>\n",
       "      <td>-0.470501</td>\n",
       "      <td>e1efc53e9bd149078b0c12aeaa6365df</td>\n",
       "    </tr>\n",
       "    <tr>\n",
       "      <th>1</th>\n",
       "      <td>488137c5-c8f9-44aa-9995-884d16800d0a</td>\n",
       "      <td>2021-01-01 00:25:59</td>\n",
       "      <td>166</td>\n",
       "      <td>239</td>\n",
       "      <td>8.750000</td>\n",
       "      <td>8.830572</td>\n",
       "      <td>-0.080572</td>\n",
       "      <td>e1efc53e9bd149078b0c12aeaa6365df</td>\n",
       "    </tr>\n",
       "    <tr>\n",
       "      <th>2</th>\n",
       "      <td>c8a71eb8-dc60-4223-b81c-520d1e4726f6</td>\n",
       "      <td>2021-01-01 00:45:57</td>\n",
       "      <td>41</td>\n",
       "      <td>42</td>\n",
       "      <td>5.966667</td>\n",
       "      <td>6.819916</td>\n",
       "      <td>-0.853250</td>\n",
       "      <td>e1efc53e9bd149078b0c12aeaa6365df</td>\n",
       "    </tr>\n",
       "    <tr>\n",
       "      <th>3</th>\n",
       "      <td>572f288d-f6d7-44e2-bca0-a17e0f920914</td>\n",
       "      <td>2020-12-31 23:57:51</td>\n",
       "      <td>168</td>\n",
       "      <td>75</td>\n",
       "      <td>7.083333</td>\n",
       "      <td>13.923927</td>\n",
       "      <td>-6.840594</td>\n",
       "      <td>e1efc53e9bd149078b0c12aeaa6365df</td>\n",
       "    </tr>\n",
       "    <tr>\n",
       "      <th>4</th>\n",
       "      <td>15c5da8f-13fa-4047-8566-8c25865943ee</td>\n",
       "      <td>2021-01-01 00:26:31</td>\n",
       "      <td>75</td>\n",
       "      <td>75</td>\n",
       "      <td>2.316667</td>\n",
       "      <td>6.735151</td>\n",
       "      <td>-4.418484</td>\n",
       "      <td>e1efc53e9bd149078b0c12aeaa6365df</td>\n",
       "    </tr>\n",
       "    <tr>\n",
       "      <th>...</th>\n",
       "      <td>...</td>\n",
       "      <td>...</td>\n",
       "      <td>...</td>\n",
       "      <td>...</td>\n",
       "      <td>...</td>\n",
       "      <td>...</td>\n",
       "      <td>...</td>\n",
       "      <td>...</td>\n",
       "    </tr>\n",
       "    <tr>\n",
       "      <th>73903</th>\n",
       "      <td>23134189-8855-476f-8f66-ab3d6f93ee0c</td>\n",
       "      <td>2021-01-31 21:38:00</td>\n",
       "      <td>81</td>\n",
       "      <td>90</td>\n",
       "      <td>38.000000</td>\n",
       "      <td>40.089000</td>\n",
       "      <td>-2.089000</td>\n",
       "      <td>e1efc53e9bd149078b0c12aeaa6365df</td>\n",
       "    </tr>\n",
       "    <tr>\n",
       "      <th>73904</th>\n",
       "      <td>11b8fc14-744b-4d74-9048-39a2651dd7c9</td>\n",
       "      <td>2021-01-31 22:43:00</td>\n",
       "      <td>35</td>\n",
       "      <td>213</td>\n",
       "      <td>38.000000</td>\n",
       "      <td>31.554369</td>\n",
       "      <td>6.445631</td>\n",
       "      <td>e1efc53e9bd149078b0c12aeaa6365df</td>\n",
       "    </tr>\n",
       "    <tr>\n",
       "      <th>73905</th>\n",
       "      <td>494fc2dc-8b72-49f1-99df-7243c0bf0506</td>\n",
       "      <td>2021-01-31 22:16:00</td>\n",
       "      <td>74</td>\n",
       "      <td>69</td>\n",
       "      <td>11.000000</td>\n",
       "      <td>17.447926</td>\n",
       "      <td>-6.447926</td>\n",
       "      <td>e1efc53e9bd149078b0c12aeaa6365df</td>\n",
       "    </tr>\n",
       "    <tr>\n",
       "      <th>73906</th>\n",
       "      <td>4b5220e3-005f-41ac-b4a3-503806f5e127</td>\n",
       "      <td>2021-01-31 23:10:00</td>\n",
       "      <td>168</td>\n",
       "      <td>215</td>\n",
       "      <td>27.000000</td>\n",
       "      <td>33.382096</td>\n",
       "      <td>-6.382096</td>\n",
       "      <td>e1efc53e9bd149078b0c12aeaa6365df</td>\n",
       "    </tr>\n",
       "    <tr>\n",
       "      <th>73907</th>\n",
       "      <td>c81c3b92-29b0-4823-a8c6-b93bcbf69faf</td>\n",
       "      <td>2021-01-31 23:25:00</td>\n",
       "      <td>119</td>\n",
       "      <td>244</td>\n",
       "      <td>10.000000</td>\n",
       "      <td>13.173604</td>\n",
       "      <td>-3.173604</td>\n",
       "      <td>e1efc53e9bd149078b0c12aeaa6365df</td>\n",
       "    </tr>\n",
       "  </tbody>\n",
       "</table>\n",
       "<p>73908 rows × 8 columns</p>\n",
       "</div>"
      ],
      "text/plain": [
       "                                    ride_id lpep_pickup_datetime  \\\n",
       "0      d685e8a5-3374-453d-acb2-20fb17445dad  2021-01-01 00:15:56   \n",
       "1      488137c5-c8f9-44aa-9995-884d16800d0a  2021-01-01 00:25:59   \n",
       "2      c8a71eb8-dc60-4223-b81c-520d1e4726f6  2021-01-01 00:45:57   \n",
       "3      572f288d-f6d7-44e2-bca0-a17e0f920914  2020-12-31 23:57:51   \n",
       "4      15c5da8f-13fa-4047-8566-8c25865943ee  2021-01-01 00:26:31   \n",
       "...                                     ...                  ...   \n",
       "73903  23134189-8855-476f-8f66-ab3d6f93ee0c  2021-01-31 21:38:00   \n",
       "73904  11b8fc14-744b-4d74-9048-39a2651dd7c9  2021-01-31 22:43:00   \n",
       "73905  494fc2dc-8b72-49f1-99df-7243c0bf0506  2021-01-31 22:16:00   \n",
       "73906  4b5220e3-005f-41ac-b4a3-503806f5e127  2021-01-31 23:10:00   \n",
       "73907  c81c3b92-29b0-4823-a8c6-b93bcbf69faf  2021-01-31 23:25:00   \n",
       "\n",
       "       PULocationID  DOLocationID  actual_duration  predicted_duration  \\\n",
       "0                43           151         3.933333            4.403834   \n",
       "1               166           239         8.750000            8.830572   \n",
       "2                41            42         5.966667            6.819916   \n",
       "3               168            75         7.083333           13.923927   \n",
       "4                75            75         2.316667            6.735151   \n",
       "...             ...           ...              ...                 ...   \n",
       "73903            81            90        38.000000           40.089000   \n",
       "73904            35           213        38.000000           31.554369   \n",
       "73905            74            69        11.000000           17.447926   \n",
       "73906           168           215        27.000000           33.382096   \n",
       "73907           119           244        10.000000           13.173604   \n",
       "\n",
       "           diff                     model_version  \n",
       "0     -0.470501  e1efc53e9bd149078b0c12aeaa6365df  \n",
       "1     -0.080572  e1efc53e9bd149078b0c12aeaa6365df  \n",
       "2     -0.853250  e1efc53e9bd149078b0c12aeaa6365df  \n",
       "3     -6.840594  e1efc53e9bd149078b0c12aeaa6365df  \n",
       "4     -4.418484  e1efc53e9bd149078b0c12aeaa6365df  \n",
       "...         ...                               ...  \n",
       "73903 -2.089000  e1efc53e9bd149078b0c12aeaa6365df  \n",
       "73904  6.445631  e1efc53e9bd149078b0c12aeaa6365df  \n",
       "73905 -6.447926  e1efc53e9bd149078b0c12aeaa6365df  \n",
       "73906 -6.382096  e1efc53e9bd149078b0c12aeaa6365df  \n",
       "73907 -3.173604  e1efc53e9bd149078b0c12aeaa6365df  \n",
       "\n",
       "[73908 rows x 8 columns]"
      ]
     },
     "execution_count": 7,
     "metadata": {},
     "output_type": "execute_result"
    }
   ],
   "source": [
    "pd.read_parquet('output/green/2021-01.parquet')"
   ]
  },
  {
   "cell_type": "markdown",
   "metadata": {},
   "source": [
    "```\n",
    "mlflow server -h 0.0.0.0 -p 5000\n",
    "    --backend-store-uri=sqlite:///mlflow.db \\\n",
    "    --default-artifact-root=s3://mlflow-models-ron/\n",
    "```"
   ]
  },
  {
   "cell_type": "code",
   "execution_count": 4,
   "metadata": {},
   "outputs": [],
   "source": [
    "import mlflow\n",
    "from mlflow.tracking import MlflowClient\n",
    "\n",
    "\n",
    "TRACKING_SERVER_HOST = \"ec2-3-93-179-24.compute-1.amazonaws.com\"\n",
    "TRACKING_URI = f\"http://{TRACKING_SERVER_HOST}:5000\"\n",
    "\n",
    "mlflow.set_tracking_uri(TRACKING_URI)\n"
   ]
  },
  {
   "cell_type": "code",
   "execution_count": 5,
   "metadata": {},
   "outputs": [
    {
     "data": {
      "text/plain": [
       "[<Experiment: artifact_location='s3://mlflow-models-ron/0', experiment_id='0', lifecycle_stage='active', name='Default', tags={}>]"
      ]
     },
     "execution_count": 5,
     "metadata": {},
     "output_type": "execute_result"
    }
   ],
   "source": [
    "client = MlflowClient(tracking_uri=TRACKING_URI)\n",
    "client.list_experiments()"
   ]
  },
  {
   "cell_type": "markdown",
   "metadata": {},
   "source": [
    "- run training\n",
    "- can be accessed locally. but make sure environment is configured. "
   ]
  },
  {
   "cell_type": "code",
   "execution_count": 58,
   "metadata": {},
   "outputs": [],
   "source": [
    "!export TRACKING_SERVER_HOST=ec2-52-90-170-113.compute-1.amazonaws.com"
   ]
  },
  {
   "cell_type": "code",
   "execution_count": 2,
   "metadata": {},
   "outputs": [],
   "source": [
    "TRACKING_SERVER_HOST = os.getenv('TRACKING_SERVER_HOST')\n",
    "TRACKING_SERVER_HOST"
   ]
  },
  {
   "cell_type": "code",
   "execution_count": 5,
   "metadata": {},
   "outputs": [],
   "source": [
    "import requests\n",
    "import os\n",
    "\n",
    "TRACKING_SERVER_HOST = \"ec2-52-90-170-113.compute-1.amazonaws.com\"\n",
    "TRACKING_URI = f\"http://{TRACKING_SERVER_HOST}:5000\"\n",
    "\n",
    "response = requests.head(TRACKING_URI)\n",
    "if response.status_code != 200:\n",
    "    raise Exception(f\"Tracking server unavailable: HTTP response code {response.status_code}\")"
   ]
  },
  {
   "cell_type": "code",
   "execution_count": 4,
   "metadata": {},
   "outputs": [
    {
     "data": {
      "text/plain": [
       "200"
      ]
     },
     "execution_count": 4,
     "metadata": {},
     "output_type": "execute_result"
    }
   ],
   "source": [
    "response.status_code"
   ]
  },
  {
   "cell_type": "markdown",
   "metadata": {},
   "source": [
    "## Streaming"
   ]
  },
  {
   "cell_type": "markdown",
   "metadata": {},
   "source": [
    "* Scenario\n",
    "* Creating the role\n",
    "* Create a Lambda function, test it\n",
    "* Create a Kinesis stream\n",
    "* Connect the function to the stream\n",
    "* Send the records\n",
    "\n",
    "Links\n",
    "* [Tutorial: Using Amazon Lambda with Amazon Kinesis](https://docs.amazonaws.cn/en_us/lambda/latest/dg/with-kinesis-example.html)\n"
   ]
  },
  {
   "cell_type": "code",
   "execution_count": 2,
   "metadata": {},
   "outputs": [
    {
     "name": "stderr",
     "output_type": "stream",
     "text": [
      "/Users/particle1331/miniforge3/envs/ml/lib/python3.9/site-packages/_distutils_hack/__init__.py:30: UserWarning: Setuptools is replacing distutils.\n",
      "  warnings.warn(\"Setuptools is replacing distutils.\")\n"
     ]
    }
   ],
   "source": []
  },
  {
   "cell_type": "code",
   "execution_count": null,
   "metadata": {},
   "outputs": [],
   "source": []
  }
 ],
 "metadata": {
  "kernelspec": {
   "display_name": "Python 3.9.12 ('ml')",
   "language": "python",
   "name": "python3"
  },
  "language_info": {
   "codemirror_mode": {
    "name": "ipython",
    "version": 3
   },
   "file_extension": ".py",
   "mimetype": "text/x-python",
   "name": "python",
   "nbconvert_exporter": "python",
   "pygments_lexer": "ipython3",
   "version": "3.9.12"
  },
  "orig_nbformat": 4,
  "vscode": {
   "interpreter": {
    "hash": "a55a0d1272a360f93e747858d443ec26da69f69eac36db3e567a961ca624a861"
   }
  }
 },
 "nbformat": 4,
 "nbformat_minor": 2
}
