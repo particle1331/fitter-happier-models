{
 "cells": [
  {
   "cell_type": "code",
   "execution_count": null,
   "metadata": {},
   "outputs": [],
   "source": []
  },
  {
   "cell_type": "markdown",
   "metadata": {},
   "source": [
    "This module covers [infrastructure as code](https://en.wikipedia.org/wiki/Infrastructure_as_code) (IaC) using [Terraform](https://www.terraform.io/) and CI/CD pipelines with [GitHub Actions](https://github.com/features/actions)."
   ]
  },
  {
   "cell_type": "markdown",
   "metadata": {},
   "source": []
  }
 ],
 "metadata": {
  "language_info": {
   "name": "python"
  },
  "orig_nbformat": 4
 },
 "nbformat": 4,
 "nbformat_minor": 2
}
