{
 "cells": [
  {
   "cell_type": "markdown",
   "metadata": {},
   "source": [
    "# Experiment Tracking and Model Management"
   ]
  },
  {
   "cell_type": "markdown",
   "metadata": {},
   "source": [
    "![Status](https://img.shields.io/static/v1.svg?label=Status&message=Finished&color=green)\n",
    "\n",
    "<!-- Place this tag where you want the button to render. -->\n",
    "<a class=\"github-button\" href=\"https://github.com/particle1331/steepest-ascent\" data-color-scheme=\"no-preference: dark; light: light; dark: dark;\" data-icon=\"octicon-star\" data-size=\"large\" data-show-count=\"true\" aria-label=\"Star particle1331/steepest-ascent on GitHub\">Star</a>\n",
    "<!-- Place this tag in your head or just before your close body tag. -->\n",
    "<script async defer src=\"https://buttons.github.io/buttons.js\"></script> \n"
   ]
  },
  {
   "cell_type": "markdown",
   "metadata": {},
   "source": [
    "In this module, we will look **experiment tracking** and **model management**. A machine learning experiment is defined as a session or process of making machine learning models. Experiment tracking is the process of keeping track of all relevant information in an experiments. This includes source code, environment, data, models, hyperparameters, and so on which are important for reproducing the experiment as well as for making actual predictions. \n",
    "\n",
    "From experience, we know that manual tracking, e.g. with spreadsheets, is error prone, not standardized, has low visibility, and difficult for teams to collaborate over. As an alternative, we will experiment tracking platforms such as [MLFlow](https://mlflow.org/). MLFlow has four main components: tracking, models, model registry, and projects. In this course, we only be cover the first three. \n",
    "\n",
    "```{margin}\n",
    "⚠️ **Attribution:** These are notes for [Module 2](https://github.com/DataTalksClub/mlops-zoomcamp/tree/main/02-experiment-tracking) of the [MLOps Zoomcamp](https://github.com/DataTalksClub/mlops-zoomcamp). The MLOps Zoomcamp is a free course from [DataTalks.Club](https://github.com/DataTalksClub).\n",
    "```\n",
    "\n",
    "As we have seen with our previous prototyping, having the ability to reproduce results is important since we want to have the same results when deploying the model in different environments. Using experiment tracking and model management platforms allows us to have better chance at reproducing our results, as well as aid in organization (staging and deploying models) and optimization (finding the best models). "
   ]
  },
  {
   "cell_type": "markdown",
   "metadata": {},
   "source": [
    "## Getting started: MLFlow UI"
   ]
  },
  {
   "cell_type": "markdown",
   "metadata": {},
   "source": [
    "We can run the MLFlow UI with an SQLite backend as follows:"
   ]
  },
  {
   "cell_type": "markdown",
   "metadata": {},
   "source": [
    "\n",
    "```bash\n",
    "$ mlflow ui --backend-store-uri sqlite:///mlflow.db\n",
    "\n",
    "[2022-05-26 19:35:22 +0800] [92498] [INFO] Starting gunicorn 20.1.0\n",
    "[2022-05-26 19:35:22 +0800] [92498] [INFO] Listening at: http://127.0.0.1:5000 (92498)\n",
    "[2022-05-26 19:35:22 +0800] [92498] [INFO] Using worker: sync\n",
    "[2022-05-26 19:35:22 +0800] [92499] [INFO] Booting worker with pid: 92499\n",
    "```"
   ]
  },
  {
   "cell_type": "markdown",
   "metadata": {},
   "source": [
    "For our experiment, we will use our code and data from [Module 1](https://particle1331.github.io/inefficient-networks/notebooks/mlops/1-intro.html). So before doing any run, we either create an **experiment** or connect a run to it if the experiment already exists. This also sets the experiment tracking backend. The same one that is visualized in the UI above."
   ]
  },
  {
   "cell_type": "markdown",
   "metadata": {},
   "source": [
    "```{margin}\n",
    "[`experiment_lr.py`](https://github.com/particle1331/inefficient-networks/blob/mlops/docs/notebooks/mlops/2-mlflow/experiment_lr.py#L23-L25)\n",
    "```\n",
    "\n",
    "```python\n",
    "import mlflow\n",
    "\n",
    "mlflow.set_tracking_uri(\"sqlite:///mlflow.db\")\n",
    "mlflow.set_experiment(\"nyc-taxi-experiment\")\n",
    "```"
   ]
  },
  {
   "cell_type": "markdown",
   "metadata": {},
   "source": [
    "The next section of the code executes a **single run** of the experiment. Note the logging at the end of the script. Everything that runs inside the following context is a single run:"
   ]
  },
  {
   "cell_type": "markdown",
   "metadata": {},
   "source": [
    "```{margin}\n",
    "[`experiment_lr.py`](https://github.com/particle1331/inefficient-networks/blob/mlops/docs/notebooks/mlops/2-mlflow/experiment_lr.py#L29-L52)\n",
    "```\n",
    "```python\n",
    "with mlflow.start_run():\n",
    "\n",
    "    model = LinearRegression()\n",
    "    model.fit(X_train, y_train)\n",
    "\n",
    "    # Logging\n",
    "    rmse_train = mean_squared_error(y_train, model.predict(X_train), squared=False)\n",
    "    rmse_valid = mean_squared_error(y_valid, model.predict(X_valid), squared=False)\n",
    "\n",
    "    fig = plot_duration_distribution(model, X_train, y_train, X_valid, y_valid)\n",
    "    fig.savefig('plot.svg')\n",
    "\n",
    "    mlflow.set_tag('author', 'particle')\n",
    "    mlflow.set_tag('model', 'baseline')\n",
    "    \n",
    "    mlflow.log_param('train_data_path', train_data_path)\n",
    "    mlflow.log_param('valid_data_path', valid_data_path)\n",
    "    \n",
    "    mlflow.log_metric('rmse_train', rmse_train)\n",
    "    mlflow.log_metric('rmse_valid', rmse_valid)\n",
    "    \n",
    "    mlflow.log_artifact(artifacts / 'plot.svg')\n",
    "    mlflow.log_artifact(artifacts / 'preprocessor.pkl', artifact_path='preprocessing')\n",
    "```"
   ]
  },
  {
   "cell_type": "markdown",
   "metadata": {},
   "source": [
    "After running this script, we see in the UI as a single run under the `nyc-tax-experiment` experiment. MLFlow is able to obtain the version from `git` and the user from the system, i.e. the user that is currently logged in. The other values are obtained from the logs. "
   ]
  },
  {
   "cell_type": "markdown",
   "metadata": {},
   "source": [
    "```{figure} ../../../img/single-run-mlflow.png\n",
    "```"
   ]
  },
  {
   "cell_type": "markdown",
   "metadata": {},
   "source": [
    "If we click on the run, we can see all details about it that were logged. Shown here are the date of the run, the user that executed it, total runtime, the source code used, as well as the git commit hash. Hence, it is best practice to always commit before running experiments. This ties your runs with a specific version of the code. Status `FINISHED` indicates that the script successfully ran. These are useful metadata."
   ]
  },
  {
   "cell_type": "markdown",
   "metadata": {},
   "source": [
    "```{figure} ../../../img/mlflow-single-run.png\n",
    "```"
   ]
  },
  {
   "cell_type": "markdown",
   "metadata": {},
   "source": [
    "Regarding the details of the trained model, we have parameters which here include only the path of the dataset for training and validation (only paths, no versioning). Most importantly, we can see the logged RMSEs `5.7` (train) and `7.759` (valid). The plot of the distributions of the true and predicted distributions which we logged as a training artifact is also conveniently displayed here. Finally, we log the preprocessor as **artifact** which will be needed for preprocessing test data during inference."
   ]
  },
  {
   "cell_type": "markdown",
   "metadata": {},
   "source": [
    "## Experiment tracking"
   ]
  },
  {
   "cell_type": "markdown",
   "metadata": {},
   "source": [
    "In this section, we go deeper into experiment tracking with MLFlow. We show how to iterate over different models and different parameters. This really just involves wrapping the run function in a loop. The nontrivial part is how to construct the sequence of parameters to loop over. For this we use [Hyperopt](https://hyperopt.github.io/hyperopt/) which implements the [TPE algorithm](https://proceedings.neurips.cc/paper/2011/file/86e8f7ab32cfd12577bc2619bc635690-Paper.pdf). We also look at **autologging** which makes logging simpler for frameworks with MLFlow integration (also automates things like logging intermediate values which are awesome)."
   ]
  },
  {
   "cell_type": "markdown",
   "metadata": {},
   "source": [
    "### Using scikit-learn models"
   ]
  },
  {
   "cell_type": "markdown",
   "metadata": {},
   "source": [
    "To evaluate different models, we will define a `run` function that takes in parameters that define and configure a run of the experiment. Then, we define a `main` function that controls the runs that will be executed. Here the `model_class` parameter controls which scikit-learn model is used to model the dataset. Note that this connects to the same tracking URI and same experiment."
   ]
  },
  {
   "cell_type": "markdown",
   "metadata": {},
   "source": [
    "```{margin}\n",
    "[`experiment_sklearn.py`](https://github.com/particle1331/inefficient-networks/blob/mlops/docs/notebooks/mlops/2-mlflow/experiment_sklearn.py)\n",
    "```\n",
    "```python\n",
    "def setup():\n",
    "    \n",
    "    [...]\n",
    "\n",
    "    mlflow.set_tracking_uri(\"sqlite:///mlflow.db\")\n",
    "    mlflow.set_experiment(\"nyc-taxi-experiment\")\n",
    "    mlflow.sklearn.autolog()\n",
    "\n",
    "\n",
    "def run(model_class):\n",
    "    with mlflow.start_run():\n",
    "\n",
    "        model = model_class()\n",
    "        model.fit(X_train, y_train)\n",
    "\n",
    "    [...]\n",
    "\n",
    "\n",
    "def main():\n",
    "    for model_class in [\n",
    "        Ridge,\n",
    "        RandomForestRegressor, \n",
    "        GradientBoostingRegressor,\n",
    "    ]:\n",
    "        run(model_class)\n",
    "\n",
    "\n",
    "if __name__ == \"__main__\":\n",
    "    setup()\n",
    "    main()\n",
    "```"
   ]
  },
  {
   "cell_type": "markdown",
   "metadata": {},
   "source": [
    "`GradientBoostingRegressor` has the best validation score:"
   ]
  },
  {
   "cell_type": "markdown",
   "metadata": {},
   "source": [
    "```{figure} ../../../img/sklearn-results.png\n",
    "```"
   ]
  },
  {
   "cell_type": "markdown",
   "metadata": {},
   "source": [
    "### XGBoost"
   ]
  },
  {
   "cell_type": "markdown",
   "metadata": {},
   "source": [
    "From the previous runs, so far Gradient Boosted Trees has the best performance on this task. So we try out XGBoost next. In this section, we will also show how to select the best model in an experiment. \n",
    "\n",
    "As before, we will define a `setup` function which sets up the required datasets and connections, define a run function (here named `objective`), and a `main` function to facilitate the runs. Here the parameters are sampled using the TPE algorithm implemented in Hyperopt, we had to define the search space in the `search_space` dictionary. Finally, we defined command line arguments so we can easily control the details of the runs in the command line."
   ]
  },
  {
   "cell_type": "markdown",
   "metadata": {},
   "source": [
    "```{margin}\n",
    "[`experiment_xgboost.py`](https://github.com/particle1331/inefficient-networks/blob/mlops/docs/notebooks/mlops/2-mlflow/experiment_xgboost.py)\n",
    "```\n",
    "```python\n",
    "def setup(autolog):\n",
    "\n",
    "    [...]\n",
    "\n",
    "    xgb_train = xgb.DMatrix(X_train, label=y_train)\n",
    "    xgb_valid = xgb.DMatrix(X_valid, label=y_valid)\n",
    "\n",
    "    # Set experiment\n",
    "    mlflow.set_tracking_uri(\"sqlite:///mlflow.db\")\n",
    "    mlflow.set_experiment(\"nyc-taxi-experiment\")\n",
    "    mlflow.xgboost.autolog(disable=not(autolog))\n",
    "\n",
    "\n",
    "def objective(params, autolog):\n",
    "    \"\"\"Compute validation RMSE (one trial = one run).\"\"\"\n",
    "\n",
    "    with mlflow.start_run():\n",
    "        \n",
    "        model = xgb.train(\n",
    "            params=params,\n",
    "            dtrain=xgb_train,\n",
    "            num_boost_round=1000,\n",
    "            evals=[(xgb_valid, 'validation')],\n",
    "            early_stopping_rounds=50\n",
    "        )\n",
    "\n",
    "        # Logging\n",
    "        [...]\n",
    "\n",
    "        if not autolog:\n",
    "            mlflow.xgboost.log_model(model, 'model')\n",
    "            mlflow.log_params(params)\n",
    "\n",
    "    return {'loss': rmse_valid, 'status': STATUS_OK}\n",
    "\n",
    "\n",
    "search_space = {\n",
    "    'max_depth': scope.int(hp.quniform('max_depth', 4, 100, 1)),\n",
    "    'learning_rate': hp.loguniform('learning_rate', -3, 0),\n",
    "    'reg_alpha': hp.loguniform('reg_alpha', -5, -1),\n",
    "    'reg_lambda': hp.loguniform('reg_lambda', -6, -1),\n",
    "    'min_child_weight': hp.loguniform('min_child_weight', -1, 3),\n",
    "    'objective': 'reg:squarederror',\n",
    "    'seed': 42\n",
    "}\n",
    "\n",
    "\n",
    "def main(autolog, num_runs):\n",
    "    best_result = fmin(\n",
    "        fn=partial(objective, autolog=autolog),\n",
    "        space=search_space,\n",
    "        algo=tpe.suggest,\n",
    "        max_evals=num_runs,\n",
    "        trials=Trials()\n",
    "    )\n",
    "\n",
    "\n",
    "if __name__ == \"__main__\":\n",
    "    \n",
    "    import argparse\n",
    "\n",
    "    parser = argparse.ArgumentParser()\n",
    "    parser.add_argument(\"--autolog\", choices=[\"False\", \"True\"])\n",
    "    parser.add_argument(\"--num_runs\", default=1, type=int)\n",
    "    \n",
    "    args = parser.parse_args()\n",
    "    \n",
    "    # Experiment runs\n",
    "    autolog = (args.autolog == 'True')\n",
    "    setup(autolog=autolog)\n",
    "    main(autolog=autolog, num_runs=args.num_runs)\n",
    "```"
   ]
  },
  {
   "cell_type": "markdown",
   "metadata": {},
   "source": [
    "Let's look at the details of a single XGBoost run with autologging, this plots all 14 parameters of XGBoost (much more than what we have in our search space). Also, as before we have feature importances and the `MLModel` file along with the environments files. Moreover the best and stopped iterations are saved (early stopped). We can also view the intermediate values:"
   ]
  },
  {
   "cell_type": "markdown",
   "metadata": {},
   "source": [
    "```{figure} ../../../img/xgboost-run.png\n",
    "```"
   ]
  },
  {
   "cell_type": "markdown",
   "metadata": {},
   "source": [
    "```{figure} ../../../img/xgboost-intermediate.png\n",
    "```"
   ]
  },
  {
   "cell_type": "markdown",
   "metadata": {},
   "source": [
    "We executed 30 runs of the XGBoost model (+1 with autologging). This can be analyzed using the compare button after selecting the results with the search query `tags.model = 'xgboost'`. Below we analyze the runs with the parallel coordinate plot. First, we have the specify the parameters and the metric. Then, we can use filters to filter out ranges that result in low objective values. "
   ]
  },
  {
   "cell_type": "markdown",
   "metadata": {},
   "source": [
    "```{figure} ../../../img/xgboost-parallel.png\n",
    "```\n",
    "\n",
    "In the other tabs, we also have scatter and contour interactive [plotly](https://plotly.com/) plots:\n",
    "\n",
    "```{figure} ../../../img/xgboost-scatter.png\n",
    "```\n",
    "\n",
    "```{figure} ../../../img/xgboost-contour.png\n",
    "```"
   ]
  },
  {
   "cell_type": "markdown",
   "metadata": {},
   "source": [
    "To select the best model, first we filter with `tags.model = 'xgboost' and metrics.rmse_valid < 6.4` and order by ascending validation RMSE. This latter operation can be done by simply clicking the column header. Then, we can order be descending `rmse_train` so we get models that overfit less, or we can look at the train duration as well as inference time (not logged). These requirements should be weighed against production requirements."
   ]
  },
  {
   "cell_type": "markdown",
   "metadata": {},
   "source": [
    "```{figure} ../../../img/xgboost-select.png\n",
    "```"
   ]
  },
  {
   "cell_type": "markdown",
   "metadata": {},
   "source": [
    "## Model management"
   ]
  },
  {
   "cell_type": "markdown",
   "metadata": {},
   "source": [
    "In this section, we look at **model management**. In addition to experiment tracking, part of model management is to do model versioning and model deployment. Model management using file systems (which typically just involve a file name and date modified) is error prone. There is no versioning and no model lineage. Mode lineage refers to all associations between a model and all components involved in its creation.\n",
    "\n",
    "**Reading**\n",
    "* [Model and data lineage in machine learning experimentation](https://aws.amazon.com/blogs/machine-learning/model-and-data-lineage-in-machine-learning-experimentation/)"
   ]
  },
  {
   "cell_type": "markdown",
   "metadata": {},
   "source": [
    "### Autologging"
   ]
  },
  {
   "cell_type": "markdown",
   "metadata": {},
   "source": [
    "Recall that the default parameters of the `LinearRegression` model that we used in the first run that we did were not logged. To log these (and more) without doing much work, MLFlow provides the method `mlflow.sklearn.autolog()`. This also automatically logs useful information specific to the framework such all hyperparameters of the model and `estimator_class`. Model artifacts are also saved which can be used to easily deploy trained models tracked using MLFlow. "
   ]
  },
  {
   "cell_type": "markdown",
   "metadata": {},
   "source": [
    "```{figure} ../../../img/autologging-2.png\n",
    "```"
   ]
  },
  {
   "cell_type": "markdown",
   "metadata": {},
   "source": [
    "```{figure} ../../../img/autologging-1.png\n",
    "```"
   ]
  },
  {
   "cell_type": "markdown",
   "metadata": {},
   "source": [
    "`MLModel` stores information about the model, flavors, path (where model lives), and helps serve model as a Python function or a framework model. Also, package versions are stated in both `conda.yaml` and `requirements.txt` files Note that Python version used to train the model is also included. (Note that framework autologging also performs particular things such as save feature importance artifact for XGBoost.)"
   ]
  },
  {
   "cell_type": "markdown",
   "metadata": {},
   "source": [
    "### Inference"
   ]
  },
  {
   "cell_type": "markdown",
   "metadata": {},
   "source": [
    "In the following code, we try to perform inference on \"new data\" using the logged model and artifacts. \n",
    "Note that new data has no labels when processed for inference. Since we can't compute metrics, we will check output distribution to show correctness. Recall that the training set used is filtered to include rides  between 1 and 60 minutes in duration. So the following distribution should be close, but not identical:"
   ]
  },
  {
   "cell_type": "code",
   "execution_count": 59,
   "metadata": {},
   "outputs": [
    {
     "data": {
      "image/svg+xml": "<?xml version=\"1.0\" encoding=\"utf-8\" standalone=\"no\"?>\n<!DOCTYPE svg PUBLIC \"-//W3C//DTD SVG 1.1//EN\"\n  \"http://www.w3.org/Graphics/SVG/1.1/DTD/svg11.dtd\">\n<svg xmlns:xlink=\"http://www.w3.org/1999/xlink\" width=\"392.14375pt\" height=\"248.518125pt\" viewBox=\"0 0 392.14375 248.518125\" xmlns=\"http://www.w3.org/2000/svg\" version=\"1.1\">\n <metadata>\n  <rdf:RDF xmlns:dc=\"http://purl.org/dc/elements/1.1/\" xmlns:cc=\"http://creativecommons.org/ns#\" xmlns:rdf=\"http://www.w3.org/1999/02/22-rdf-syntax-ns#\">\n   <cc:Work>\n    <dc:type rdf:resource=\"http://purl.org/dc/dcmitype/StillImage\"/>\n    <dc:date>2022-05-29T19:10:03.669534</dc:date>\n    <dc:format>image/svg+xml</dc:format>\n    <dc:creator>\n     <cc:Agent>\n      <dc:title>Matplotlib v3.5.2, https://matplotlib.org/</dc:title>\n     </cc:Agent>\n    </dc:creator>\n   </cc:Work>\n  </rdf:RDF>\n </metadata>\n <defs>\n  <style type=\"text/css\">*{stroke-linejoin: round; stroke-linecap: butt}</style>\n </defs>\n <g id=\"figure_1\">\n  <g id=\"patch_1\">\n   <path d=\"M 0 248.518125 \nL 392.14375 248.518125 \nL 392.14375 0 \nL 0 0 \nL 0 248.518125 \nz\n\" style=\"fill: none\"/>\n  </g>\n  <g id=\"axes_1\">\n   <g id=\"patch_2\">\n    <path d=\"M 50.14375 224.64 \nL 384.94375 224.64 \nL 384.94375 7.2 \nL 50.14375 7.2 \nz\n\" style=\"fill: #ffffff\"/>\n   </g>\n   <g id=\"patch_3\">\n    <path d=\"M 65.361932 224.64 \nL 68.56576 224.64 \nL 68.56576 224.565696 \nL 65.361932 224.565696 \nz\n\" clip-path=\"url(#pc6f9b3eab1)\" style=\"fill: #1f77b4; fill-opacity: 0.5; stroke: #000000; stroke-width: 0.320383; stroke-linejoin: miter\"/>\n   </g>\n   <g id=\"patch_4\">\n    <path d=\"M 68.56576 224.64 \nL 71.769587 224.64 \nL 71.769587 224.64 \nL 68.56576 224.64 \nz\n\" clip-path=\"url(#pc6f9b3eab1)\" style=\"fill: #1f77b4; fill-opacity: 0.5; stroke: #000000; stroke-width: 0.320383; stroke-linejoin: miter\"/>\n   </g>\n   <g id=\"patch_5\">\n    <path d=\"M 71.769587 224.64 \nL 74.973415 224.64 \nL 74.973415 224.417087 \nL 71.769587 224.417087 \nz\n\" clip-path=\"url(#pc6f9b3eab1)\" style=\"fill: #1f77b4; fill-opacity: 0.5; stroke: #000000; stroke-width: 0.320383; stroke-linejoin: miter\"/>\n   </g>\n   <g id=\"patch_6\">\n    <path d=\"M 74.973415 224.64 \nL 78.177243 224.64 \nL 78.177243 223.971262 \nL 74.973415 223.971262 \nz\n\" clip-path=\"url(#pc6f9b3eab1)\" style=\"fill: #1f77b4; fill-opacity: 0.5; stroke: #000000; stroke-width: 0.320383; stroke-linejoin: miter\"/>\n   </g>\n   <g id=\"patch_7\">\n    <path d=\"M 78.177243 224.64 \nL 81.381071 224.64 \nL 81.381071 224.491392 \nL 78.177243 224.491392 \nz\n\" clip-path=\"url(#pc6f9b3eab1)\" style=\"fill: #1f77b4; fill-opacity: 0.5; stroke: #000000; stroke-width: 0.320383; stroke-linejoin: miter\"/>\n   </g>\n   <g id=\"patch_8\">\n    <path d=\"M 81.381071 224.64 \nL 84.584898 224.64 \nL 84.584898 223.74835 \nL 81.381071 223.74835 \nz\n\" clip-path=\"url(#pc6f9b3eab1)\" style=\"fill: #1f77b4; fill-opacity: 0.5; stroke: #000000; stroke-width: 0.320383; stroke-linejoin: miter\"/>\n   </g>\n   <g id=\"patch_9\">\n    <path d=\"M 84.584898 224.64 \nL 87.788726 224.64 \nL 87.788726 222.410875 \nL 84.584898 222.410875 \nz\n\" clip-path=\"url(#pc6f9b3eab1)\" style=\"fill: #1f77b4; fill-opacity: 0.5; stroke: #000000; stroke-width: 0.320383; stroke-linejoin: miter\"/>\n   </g>\n   <g id=\"patch_10\">\n    <path d=\"M 87.788726 224.64 \nL 90.992554 224.64 \nL 90.992554 222.485179 \nL 87.788726 222.485179 \nz\n\" clip-path=\"url(#pc6f9b3eab1)\" style=\"fill: #1f77b4; fill-opacity: 0.5; stroke: #000000; stroke-width: 0.320383; stroke-linejoin: miter\"/>\n   </g>\n   <g id=\"patch_11\">\n    <path d=\"M 90.992554 224.64 \nL 94.196382 224.64 \nL 94.196382 221.444921 \nL 90.992554 221.444921 \nz\n\" clip-path=\"url(#pc6f9b3eab1)\" style=\"fill: #1f77b4; fill-opacity: 0.5; stroke: #000000; stroke-width: 0.320383; stroke-linejoin: miter\"/>\n   </g>\n   <g id=\"patch_12\">\n    <path d=\"M 94.196382 224.64 \nL 97.400209 224.64 \nL 97.400209 220.924792 \nL 94.196382 220.924792 \nz\n\" clip-path=\"url(#pc6f9b3eab1)\" style=\"fill: #1f77b4; fill-opacity: 0.5; stroke: #000000; stroke-width: 0.320383; stroke-linejoin: miter\"/>\n   </g>\n   <g id=\"patch_13\">\n    <path d=\"M 97.400209 224.64 \nL 100.604037 224.64 \nL 100.604037 216.317933 \nL 97.400209 216.317933 \nz\n\" clip-path=\"url(#pc6f9b3eab1)\" style=\"fill: #1f77b4; fill-opacity: 0.5; stroke: #000000; stroke-width: 0.320383; stroke-linejoin: miter\"/>\n   </g>\n   <g id=\"patch_14\">\n    <path d=\"M 100.604037 224.64 \nL 103.807865 224.64 \nL 103.807865 198.336325 \nL 100.604037 198.336325 \nz\n\" clip-path=\"url(#pc6f9b3eab1)\" style=\"fill: #1f77b4; fill-opacity: 0.5; stroke: #000000; stroke-width: 0.320383; stroke-linejoin: miter\"/>\n   </g>\n   <g id=\"patch_15\">\n    <path d=\"M 103.807865 224.64 \nL 107.011693 224.64 \nL 107.011693 196.850241 \nL 103.807865 196.850241 \nz\n\" clip-path=\"url(#pc6f9b3eab1)\" style=\"fill: #1f77b4; fill-opacity: 0.5; stroke: #000000; stroke-width: 0.320383; stroke-linejoin: miter\"/>\n   </g>\n   <g id=\"patch_16\">\n    <path d=\"M 107.011693 224.64 \nL 110.21552 224.64 \nL 110.21552 165.048058 \nL 107.011693 165.048058 \nz\n\" clip-path=\"url(#pc6f9b3eab1)\" style=\"fill: #1f77b4; fill-opacity: 0.5; stroke: #000000; stroke-width: 0.320383; stroke-linejoin: miter\"/>\n   </g>\n   <g id=\"patch_17\">\n    <path d=\"M 110.21552 224.64 \nL 113.419348 224.64 \nL 113.419348 123.289116 \nL 110.21552 123.289116 \nz\n\" clip-path=\"url(#pc6f9b3eab1)\" style=\"fill: #1f77b4; fill-opacity: 0.5; stroke: #000000; stroke-width: 0.320383; stroke-linejoin: miter\"/>\n   </g>\n   <g id=\"patch_18\">\n    <path d=\"M 113.419348 224.64 \nL 116.623176 224.64 \nL 116.623176 88.440461 \nL 113.419348 88.440461 \nz\n\" clip-path=\"url(#pc6f9b3eab1)\" style=\"fill: #1f77b4; fill-opacity: 0.5; stroke: #000000; stroke-width: 0.320383; stroke-linejoin: miter\"/>\n   </g>\n   <g id=\"patch_19\">\n    <path d=\"M 116.623176 224.64 \nL 119.827004 224.64 \nL 119.827004 69.34429 \nL 116.623176 69.34429 \nz\n\" clip-path=\"url(#pc6f9b3eab1)\" style=\"fill: #1f77b4; fill-opacity: 0.5; stroke: #000000; stroke-width: 0.320383; stroke-linejoin: miter\"/>\n   </g>\n   <g id=\"patch_20\">\n    <path d=\"M 119.827004 224.64 \nL 123.030831 224.64 \nL 123.030831 51.065465 \nL 119.827004 51.065465 \nz\n\" clip-path=\"url(#pc6f9b3eab1)\" style=\"fill: #1f77b4; fill-opacity: 0.5; stroke: #000000; stroke-width: 0.320383; stroke-linejoin: miter\"/>\n   </g>\n   <g id=\"patch_21\">\n    <path d=\"M 123.030831 224.64 \nL 126.234659 224.64 \nL 126.234659 59.461836 \nL 123.030831 59.461836 \nz\n\" clip-path=\"url(#pc6f9b3eab1)\" style=\"fill: #1f77b4; fill-opacity: 0.5; stroke: #000000; stroke-width: 0.320383; stroke-linejoin: miter\"/>\n   </g>\n   <g id=\"patch_22\">\n    <path d=\"M 126.234659 224.64 \nL 129.438487 224.64 \nL 129.438487 20.675061 \nL 126.234659 20.675061 \nz\n\" clip-path=\"url(#pc6f9b3eab1)\" style=\"fill: #1f77b4; fill-opacity: 0.5; stroke: #000000; stroke-width: 0.320383; stroke-linejoin: miter\"/>\n   </g>\n   <g id=\"patch_23\">\n    <path d=\"M 129.438487 224.64 \nL 132.642315 224.64 \nL 132.642315 25.430527 \nL 129.438487 25.430527 \nz\n\" clip-path=\"url(#pc6f9b3eab1)\" style=\"fill: #1f77b4; fill-opacity: 0.5; stroke: #000000; stroke-width: 0.320383; stroke-linejoin: miter\"/>\n   </g>\n   <g id=\"patch_24\">\n    <path d=\"M 132.642315 224.64 \nL 135.846142 224.64 \nL 135.846142 17.554286 \nL 132.642315 17.554286 \nz\n\" clip-path=\"url(#pc6f9b3eab1)\" style=\"fill: #1f77b4; fill-opacity: 0.5; stroke: #000000; stroke-width: 0.320383; stroke-linejoin: miter\"/>\n   </g>\n   <g id=\"patch_25\">\n    <path d=\"M 135.846142 224.64 \nL 139.04997 224.64 \nL 139.04997 34.792853 \nL 135.846142 34.792853 \nz\n\" clip-path=\"url(#pc6f9b3eab1)\" style=\"fill: #1f77b4; fill-opacity: 0.5; stroke: #000000; stroke-width: 0.320383; stroke-linejoin: miter\"/>\n   </g>\n   <g id=\"patch_26\">\n    <path d=\"M 139.04997 224.64 \nL 142.253798 224.64 \nL 142.253798 52.477244 \nL 139.04997 52.477244 \nz\n\" clip-path=\"url(#pc6f9b3eab1)\" style=\"fill: #1f77b4; fill-opacity: 0.5; stroke: #000000; stroke-width: 0.320383; stroke-linejoin: miter\"/>\n   </g>\n   <g id=\"patch_27\">\n    <path d=\"M 142.253798 224.64 \nL 145.457626 224.64 \nL 145.457626 64.217303 \nL 142.253798 64.217303 \nz\n\" clip-path=\"url(#pc6f9b3eab1)\" style=\"fill: #1f77b4; fill-opacity: 0.5; stroke: #000000; stroke-width: 0.320383; stroke-linejoin: miter\"/>\n   </g>\n   <g id=\"patch_28\">\n    <path d=\"M 145.457626 224.64 \nL 148.661453 224.64 \nL 148.661453 70.830374 \nL 145.457626 70.830374 \nz\n\" clip-path=\"url(#pc6f9b3eab1)\" style=\"fill: #1f77b4; fill-opacity: 0.5; stroke: #000000; stroke-width: 0.320383; stroke-linejoin: miter\"/>\n   </g>\n   <g id=\"patch_29\">\n    <path d=\"M 148.661453 224.64 \nL 151.865281 224.64 \nL 151.865281 60.799311 \nL 148.661453 60.799311 \nz\n\" clip-path=\"url(#pc6f9b3eab1)\" style=\"fill: #1f77b4; fill-opacity: 0.5; stroke: #000000; stroke-width: 0.320383; stroke-linejoin: miter\"/>\n   </g>\n   <g id=\"patch_30\">\n    <path d=\"M 151.865281 224.64 \nL 155.069109 224.64 \nL 155.069109 77.814965 \nL 151.865281 77.814965 \nz\n\" clip-path=\"url(#pc6f9b3eab1)\" style=\"fill: #1f77b4; fill-opacity: 0.5; stroke: #000000; stroke-width: 0.320383; stroke-linejoin: miter\"/>\n   </g>\n   <g id=\"patch_31\">\n    <path d=\"M 155.069109 224.64 \nL 158.272937 224.64 \nL 158.272937 78.706615 \nL 155.069109 78.706615 \nz\n\" clip-path=\"url(#pc6f9b3eab1)\" style=\"fill: #1f77b4; fill-opacity: 0.5; stroke: #000000; stroke-width: 0.320383; stroke-linejoin: miter\"/>\n   </g>\n   <g id=\"patch_32\">\n    <path d=\"M 158.272937 224.64 \nL 161.476764 224.64 \nL 161.476764 101.07217 \nL 158.272937 101.07217 \nz\n\" clip-path=\"url(#pc6f9b3eab1)\" style=\"fill: #1f77b4; fill-opacity: 0.5; stroke: #000000; stroke-width: 0.320383; stroke-linejoin: miter\"/>\n   </g>\n   <g id=\"patch_33\">\n    <path d=\"M 161.476764 224.64 \nL 164.680592 224.64 \nL 164.680592 87.771724 \nL 161.476764 87.771724 \nz\n\" clip-path=\"url(#pc6f9b3eab1)\" style=\"fill: #1f77b4; fill-opacity: 0.5; stroke: #000000; stroke-width: 0.320383; stroke-linejoin: miter\"/>\n   </g>\n   <g id=\"patch_34\">\n    <path d=\"M 164.680592 224.64 \nL 167.88442 224.64 \nL 167.88442 116.527437 \nL 164.680592 116.527437 \nz\n\" clip-path=\"url(#pc6f9b3eab1)\" style=\"fill: #1f77b4; fill-opacity: 0.5; stroke: #000000; stroke-width: 0.320383; stroke-linejoin: miter\"/>\n   </g>\n   <g id=\"patch_35\">\n    <path d=\"M 167.88442 224.64 \nL 171.088248 224.64 \nL 171.088248 90.669586 \nL 167.88442 90.669586 \nz\n\" clip-path=\"url(#pc6f9b3eab1)\" style=\"fill: #1f77b4; fill-opacity: 0.5; stroke: #000000; stroke-width: 0.320383; stroke-linejoin: miter\"/>\n   </g>\n   <g id=\"patch_36\">\n    <path d=\"M 171.088248 224.64 \nL 174.292075 224.64 \nL 174.292075 93.790361 \nL 171.088248 93.790361 \nz\n\" clip-path=\"url(#pc6f9b3eab1)\" style=\"fill: #1f77b4; fill-opacity: 0.5; stroke: #000000; stroke-width: 0.320383; stroke-linejoin: miter\"/>\n   </g>\n   <g id=\"patch_37\">\n    <path d=\"M 174.292075 224.64 \nL 177.495903 224.64 \nL 177.495903 112.886532 \nL 174.292075 112.886532 \nz\n\" clip-path=\"url(#pc6f9b3eab1)\" style=\"fill: #1f77b4; fill-opacity: 0.5; stroke: #000000; stroke-width: 0.320383; stroke-linejoin: miter\"/>\n   </g>\n   <g id=\"patch_38\">\n    <path d=\"M 177.495903 224.64 \nL 180.699731 224.64 \nL 180.699731 106.42207 \nL 177.495903 106.42207 \nz\n\" clip-path=\"url(#pc6f9b3eab1)\" style=\"fill: #1f77b4; fill-opacity: 0.5; stroke: #000000; stroke-width: 0.320383; stroke-linejoin: miter\"/>\n   </g>\n   <g id=\"patch_39\">\n    <path d=\"M 180.699731 224.64 \nL 183.903559 224.64 \nL 183.903559 132.057008 \nL 180.699731 132.057008 \nz\n\" clip-path=\"url(#pc6f9b3eab1)\" style=\"fill: #1f77b4; fill-opacity: 0.5; stroke: #000000; stroke-width: 0.320383; stroke-linejoin: miter\"/>\n   </g>\n   <g id=\"patch_40\">\n    <path d=\"M 183.903559 224.64 \nL 187.107386 224.64 \nL 187.107386 134.211828 \nL 183.903559 134.211828 \nz\n\" clip-path=\"url(#pc6f9b3eab1)\" style=\"fill: #1f77b4; fill-opacity: 0.5; stroke: #000000; stroke-width: 0.320383; stroke-linejoin: miter\"/>\n   </g>\n   <g id=\"patch_41\">\n    <path d=\"M 187.107386 224.64 \nL 190.311214 224.64 \nL 190.311214 21.19519 \nL 187.107386 21.19519 \nz\n\" clip-path=\"url(#pc6f9b3eab1)\" style=\"fill: #1f77b4; fill-opacity: 0.5; stroke: #000000; stroke-width: 0.320383; stroke-linejoin: miter\"/>\n   </g>\n   <g id=\"patch_42\">\n    <path d=\"M 190.311214 224.64 \nL 193.515042 224.64 \nL 193.515042 114.001095 \nL 190.311214 114.001095 \nz\n\" clip-path=\"url(#pc6f9b3eab1)\" style=\"fill: #1f77b4; fill-opacity: 0.5; stroke: #000000; stroke-width: 0.320383; stroke-linejoin: miter\"/>\n   </g>\n   <g id=\"patch_43\">\n    <path d=\"M 193.515042 224.64 \nL 196.71887 224.64 \nL 196.71887 117.493391 \nL 193.515042 117.493391 \nz\n\" clip-path=\"url(#pc6f9b3eab1)\" style=\"fill: #1f77b4; fill-opacity: 0.5; stroke: #000000; stroke-width: 0.320383; stroke-linejoin: miter\"/>\n   </g>\n   <g id=\"patch_44\">\n    <path d=\"M 196.71887 224.64 \nL 199.922697 224.64 \nL 199.922697 121.357207 \nL 196.71887 121.357207 \nz\n\" clip-path=\"url(#pc6f9b3eab1)\" style=\"fill: #1f77b4; fill-opacity: 0.5; stroke: #000000; stroke-width: 0.320383; stroke-linejoin: miter\"/>\n   </g>\n   <g id=\"patch_45\">\n    <path d=\"M 199.922697 224.64 \nL 203.126525 224.64 \nL 203.126525 128.936233 \nL 199.922697 128.936233 \nz\n\" clip-path=\"url(#pc6f9b3eab1)\" style=\"fill: #1f77b4; fill-opacity: 0.5; stroke: #000000; stroke-width: 0.320383; stroke-linejoin: miter\"/>\n   </g>\n   <g id=\"patch_46\">\n    <path d=\"M 203.126525 224.64 \nL 206.330353 224.64 \nL 206.330353 117.567695 \nL 203.126525 117.567695 \nz\n\" clip-path=\"url(#pc6f9b3eab1)\" style=\"fill: #1f77b4; fill-opacity: 0.5; stroke: #000000; stroke-width: 0.320383; stroke-linejoin: miter\"/>\n   </g>\n   <g id=\"patch_47\">\n    <path d=\"M 206.330353 224.64 \nL 209.534181 224.64 \nL 209.534181 151.153179 \nL 206.330353 151.153179 \nz\n\" clip-path=\"url(#pc6f9b3eab1)\" style=\"fill: #1f77b4; fill-opacity: 0.5; stroke: #000000; stroke-width: 0.320383; stroke-linejoin: miter\"/>\n   </g>\n   <g id=\"patch_48\">\n    <path d=\"M 209.534181 224.64 \nL 212.738008 224.64 \nL 212.738008 133.17157 \nL 209.534181 133.17157 \nz\n\" clip-path=\"url(#pc6f9b3eab1)\" style=\"fill: #1f77b4; fill-opacity: 0.5; stroke: #000000; stroke-width: 0.320383; stroke-linejoin: miter\"/>\n   </g>\n   <g id=\"patch_49\">\n    <path d=\"M 212.738008 224.64 \nL 215.941836 224.64 \nL 215.941836 135.103478 \nL 212.738008 135.103478 \nz\n\" clip-path=\"url(#pc6f9b3eab1)\" style=\"fill: #1f77b4; fill-opacity: 0.5; stroke: #000000; stroke-width: 0.320383; stroke-linejoin: miter\"/>\n   </g>\n   <g id=\"patch_50\">\n    <path d=\"M 215.941836 224.64 \nL 219.145664 224.64 \nL 219.145664 149.22127 \nL 215.941836 149.22127 \nz\n\" clip-path=\"url(#pc6f9b3eab1)\" style=\"fill: #1f77b4; fill-opacity: 0.5; stroke: #000000; stroke-width: 0.320383; stroke-linejoin: miter\"/>\n   </g>\n   <g id=\"patch_51\">\n    <path d=\"M 219.145664 224.64 \nL 222.349492 224.64 \nL 222.349492 148.478229 \nL 219.145664 148.478229 \nz\n\" clip-path=\"url(#pc6f9b3eab1)\" style=\"fill: #1f77b4; fill-opacity: 0.5; stroke: #000000; stroke-width: 0.320383; stroke-linejoin: miter\"/>\n   </g>\n   <g id=\"patch_52\">\n    <path d=\"M 222.349492 224.64 \nL 225.553319 224.64 \nL 225.553319 160.515504 \nL 222.349492 160.515504 \nz\n\" clip-path=\"url(#pc6f9b3eab1)\" style=\"fill: #1f77b4; fill-opacity: 0.5; stroke: #000000; stroke-width: 0.320383; stroke-linejoin: miter\"/>\n   </g>\n   <g id=\"patch_53\">\n    <path d=\"M 225.553319 224.64 \nL 228.757147 224.64 \nL 228.757147 166.311229 \nL 225.553319 166.311229 \nz\n\" clip-path=\"url(#pc6f9b3eab1)\" style=\"fill: #1f77b4; fill-opacity: 0.5; stroke: #000000; stroke-width: 0.320383; stroke-linejoin: miter\"/>\n   </g>\n   <g id=\"patch_54\">\n    <path d=\"M 228.757147 224.64 \nL 231.960975 224.64 \nL 231.960975 167.500095 \nL 228.757147 167.500095 \nz\n\" clip-path=\"url(#pc6f9b3eab1)\" style=\"fill: #1f77b4; fill-opacity: 0.5; stroke: #000000; stroke-width: 0.320383; stroke-linejoin: miter\"/>\n   </g>\n   <g id=\"patch_55\">\n    <path d=\"M 231.960975 224.64 \nL 235.164803 224.64 \nL 235.164803 191.500341 \nL 231.960975 191.500341 \nz\n\" clip-path=\"url(#pc6f9b3eab1)\" style=\"fill: #1f77b4; fill-opacity: 0.5; stroke: #000000; stroke-width: 0.320383; stroke-linejoin: miter\"/>\n   </g>\n   <g id=\"patch_56\">\n    <path d=\"M 235.164803 224.64 \nL 238.36863 224.64 \nL 238.36863 189.568433 \nL 235.164803 189.568433 \nz\n\" clip-path=\"url(#pc6f9b3eab1)\" style=\"fill: #1f77b4; fill-opacity: 0.5; stroke: #000000; stroke-width: 0.320383; stroke-linejoin: miter\"/>\n   </g>\n   <g id=\"patch_57\">\n    <path d=\"M 238.36863 224.64 \nL 241.572458 224.64 \nL 241.572458 189.568433 \nL 238.36863 189.568433 \nz\n\" clip-path=\"url(#pc6f9b3eab1)\" style=\"fill: #1f77b4; fill-opacity: 0.5; stroke: #000000; stroke-width: 0.320383; stroke-linejoin: miter\"/>\n   </g>\n   <g id=\"patch_58\">\n    <path d=\"M 241.572458 224.64 \nL 244.776286 224.64 \nL 244.776286 197.444675 \nL 241.572458 197.444675 \nz\n\" clip-path=\"url(#pc6f9b3eab1)\" style=\"fill: #1f77b4; fill-opacity: 0.5; stroke: #000000; stroke-width: 0.320383; stroke-linejoin: miter\"/>\n   </g>\n   <g id=\"patch_59\">\n    <path d=\"M 244.776286 224.64 \nL 247.980114 224.64 \nL 247.980114 187.859437 \nL 244.776286 187.859437 \nz\n\" clip-path=\"url(#pc6f9b3eab1)\" style=\"fill: #1f77b4; fill-opacity: 0.5; stroke: #000000; stroke-width: 0.320383; stroke-linejoin: miter\"/>\n   </g>\n   <g id=\"patch_60\">\n    <path d=\"M 247.980114 224.64 \nL 251.183941 224.64 \nL 251.183941 194.695421 \nL 247.980114 194.695421 \nz\n\" clip-path=\"url(#pc6f9b3eab1)\" style=\"fill: #1f77b4; fill-opacity: 0.5; stroke: #000000; stroke-width: 0.320383; stroke-linejoin: miter\"/>\n   </g>\n   <g id=\"patch_61\">\n    <path d=\"M 251.183941 224.64 \nL 254.387769 224.64 \nL 254.387769 187.1907 \nL 251.183941 187.1907 \nz\n\" clip-path=\"url(#pc6f9b3eab1)\" style=\"fill: #1f77b4; fill-opacity: 0.5; stroke: #000000; stroke-width: 0.320383; stroke-linejoin: miter\"/>\n   </g>\n   <g id=\"patch_62\">\n    <path d=\"M 254.387769 224.64 \nL 257.591597 224.64 \nL 257.591597 192.317687 \nL 254.387769 192.317687 \nz\n\" clip-path=\"url(#pc6f9b3eab1)\" style=\"fill: #1f77b4; fill-opacity: 0.5; stroke: #000000; stroke-width: 0.320383; stroke-linejoin: miter\"/>\n   </g>\n   <g id=\"patch_63\">\n    <path d=\"M 257.591597 224.64 \nL 260.795425 224.64 \nL 260.795425 198.187716 \nL 257.591597 198.187716 \nz\n\" clip-path=\"url(#pc6f9b3eab1)\" style=\"fill: #1f77b4; fill-opacity: 0.5; stroke: #000000; stroke-width: 0.320383; stroke-linejoin: miter\"/>\n   </g>\n   <g id=\"patch_64\">\n    <path d=\"M 260.795425 224.64 \nL 263.999252 224.64 \nL 263.999252 194.100987 \nL 260.795425 194.100987 \nz\n\" clip-path=\"url(#pc6f9b3eab1)\" style=\"fill: #1f77b4; fill-opacity: 0.5; stroke: #000000; stroke-width: 0.320383; stroke-linejoin: miter\"/>\n   </g>\n   <g id=\"patch_65\">\n    <path d=\"M 263.999252 224.64 \nL 267.20308 224.64 \nL 267.20308 195.438462 \nL 263.999252 195.438462 \nz\n\" clip-path=\"url(#pc6f9b3eab1)\" style=\"fill: #1f77b4; fill-opacity: 0.5; stroke: #000000; stroke-width: 0.320383; stroke-linejoin: miter\"/>\n   </g>\n   <g id=\"patch_66\">\n    <path d=\"M 267.20308 224.64 \nL 270.406908 224.64 \nL 270.406908 197.667587 \nL 267.20308 197.667587 \nz\n\" clip-path=\"url(#pc6f9b3eab1)\" style=\"fill: #1f77b4; fill-opacity: 0.5; stroke: #000000; stroke-width: 0.320383; stroke-linejoin: miter\"/>\n   </g>\n   <g id=\"patch_67\">\n    <path d=\"M 270.406908 224.64 \nL 273.610736 224.64 \nL 273.610736 191.574646 \nL 270.406908 191.574646 \nz\n\" clip-path=\"url(#pc6f9b3eab1)\" style=\"fill: #1f77b4; fill-opacity: 0.5; stroke: #000000; stroke-width: 0.320383; stroke-linejoin: miter\"/>\n   </g>\n   <g id=\"patch_68\">\n    <path d=\"M 273.610736 224.64 \nL 276.814563 224.64 \nL 276.814563 197.147458 \nL 273.610736 197.147458 \nz\n\" clip-path=\"url(#pc6f9b3eab1)\" style=\"fill: #1f77b4; fill-opacity: 0.5; stroke: #000000; stroke-width: 0.320383; stroke-linejoin: miter\"/>\n   </g>\n   <g id=\"patch_69\">\n    <path d=\"M 276.814563 224.64 \nL 280.018391 224.64 \nL 280.018391 192.466296 \nL 276.814563 192.466296 \nz\n\" clip-path=\"url(#pc6f9b3eab1)\" style=\"fill: #1f77b4; fill-opacity: 0.5; stroke: #000000; stroke-width: 0.320383; stroke-linejoin: miter\"/>\n   </g>\n   <g id=\"patch_70\">\n    <path d=\"M 280.018391 224.64 \nL 283.222219 224.64 \nL 283.222219 195.958591 \nL 280.018391 195.958591 \nz\n\" clip-path=\"url(#pc6f9b3eab1)\" style=\"fill: #1f77b4; fill-opacity: 0.5; stroke: #000000; stroke-width: 0.320383; stroke-linejoin: miter\"/>\n   </g>\n   <g id=\"patch_71\">\n    <path d=\"M 283.222219 224.64 \nL 286.426047 224.64 \nL 286.426047 195.289854 \nL 283.222219 195.289854 \nz\n\" clip-path=\"url(#pc6f9b3eab1)\" style=\"fill: #1f77b4; fill-opacity: 0.5; stroke: #000000; stroke-width: 0.320383; stroke-linejoin: miter\"/>\n   </g>\n   <g id=\"patch_72\">\n    <path d=\"M 286.426047 224.64 \nL 289.629874 224.64 \nL 289.629874 199.748104 \nL 286.426047 199.748104 \nz\n\" clip-path=\"url(#pc6f9b3eab1)\" style=\"fill: #1f77b4; fill-opacity: 0.5; stroke: #000000; stroke-width: 0.320383; stroke-linejoin: miter\"/>\n   </g>\n   <g id=\"patch_73\">\n    <path d=\"M 289.629874 224.64 \nL 292.833702 224.64 \nL 292.833702 202.868879 \nL 289.629874 202.868879 \nz\n\" clip-path=\"url(#pc6f9b3eab1)\" style=\"fill: #1f77b4; fill-opacity: 0.5; stroke: #000000; stroke-width: 0.320383; stroke-linejoin: miter\"/>\n   </g>\n   <g id=\"patch_74\">\n    <path d=\"M 292.833702 224.64 \nL 296.03753 224.64 \nL 296.03753 206.955608 \nL 292.833702 206.955608 \nz\n\" clip-path=\"url(#pc6f9b3eab1)\" style=\"fill: #1f77b4; fill-opacity: 0.5; stroke: #000000; stroke-width: 0.320383; stroke-linejoin: miter\"/>\n   </g>\n   <g id=\"patch_75\">\n    <path d=\"M 296.03753 224.64 \nL 299.241358 224.64 \nL 299.241358 204.13205 \nL 296.03753 204.13205 \nz\n\" clip-path=\"url(#pc6f9b3eab1)\" style=\"fill: #1f77b4; fill-opacity: 0.5; stroke: #000000; stroke-width: 0.320383; stroke-linejoin: miter\"/>\n   </g>\n   <g id=\"patch_76\">\n    <path d=\"M 299.241358 224.64 \nL 302.445185 224.64 \nL 302.445185 210.150687 \nL 299.241358 210.150687 \nz\n\" clip-path=\"url(#pc6f9b3eab1)\" style=\"fill: #1f77b4; fill-opacity: 0.5; stroke: #000000; stroke-width: 0.320383; stroke-linejoin: miter\"/>\n   </g>\n   <g id=\"patch_77\">\n    <path d=\"M 302.445185 224.64 \nL 305.649013 224.64 \nL 305.649013 210.819425 \nL 302.445185 210.819425 \nz\n\" clip-path=\"url(#pc6f9b3eab1)\" style=\"fill: #1f77b4; fill-opacity: 0.5; stroke: #000000; stroke-width: 0.320383; stroke-linejoin: miter\"/>\n   </g>\n   <g id=\"patch_78\">\n    <path d=\"M 305.649013 224.64 \nL 308.852841 224.64 \nL 308.852841 215.946412 \nL 305.649013 215.946412 \nz\n\" clip-path=\"url(#pc6f9b3eab1)\" style=\"fill: #1f77b4; fill-opacity: 0.5; stroke: #000000; stroke-width: 0.320383; stroke-linejoin: miter\"/>\n   </g>\n   <g id=\"patch_79\">\n    <path d=\"M 308.852841 224.64 \nL 312.056669 224.64 \nL 312.056669 215.500587 \nL 308.852841 215.500587 \nz\n\" clip-path=\"url(#pc6f9b3eab1)\" style=\"fill: #1f77b4; fill-opacity: 0.5; stroke: #000000; stroke-width: 0.320383; stroke-linejoin: miter\"/>\n   </g>\n   <g id=\"patch_80\">\n    <path d=\"M 312.056669 224.64 \nL 315.260496 224.64 \nL 315.260496 215.129067 \nL 312.056669 215.129067 \nz\n\" clip-path=\"url(#pc6f9b3eab1)\" style=\"fill: #1f77b4; fill-opacity: 0.5; stroke: #000000; stroke-width: 0.320383; stroke-linejoin: miter\"/>\n   </g>\n   <g id=\"patch_81\">\n    <path d=\"M 315.260496 224.64 \nL 318.464324 224.64 \nL 318.464324 216.912367 \nL 315.260496 216.912367 \nz\n\" clip-path=\"url(#pc6f9b3eab1)\" style=\"fill: #1f77b4; fill-opacity: 0.5; stroke: #000000; stroke-width: 0.320383; stroke-linejoin: miter\"/>\n   </g>\n   <g id=\"patch_82\">\n    <path d=\"M 318.464324 224.64 \nL 321.668152 224.64 \nL 321.668152 217.060975 \nL 318.464324 217.060975 \nz\n\" clip-path=\"url(#pc6f9b3eab1)\" style=\"fill: #1f77b4; fill-opacity: 0.5; stroke: #000000; stroke-width: 0.320383; stroke-linejoin: miter\"/>\n   </g>\n   <g id=\"patch_83\">\n    <path d=\"M 321.668152 224.64 \nL 324.87198 224.64 \nL 324.87198 218.101233 \nL 321.668152 218.101233 \nz\n\" clip-path=\"url(#pc6f9b3eab1)\" style=\"fill: #1f77b4; fill-opacity: 0.5; stroke: #000000; stroke-width: 0.320383; stroke-linejoin: miter\"/>\n   </g>\n   <g id=\"patch_84\">\n    <path d=\"M 324.87198 224.64 \nL 328.075807 224.64 \nL 328.075807 219.661621 \nL 324.87198 219.661621 \nz\n\" clip-path=\"url(#pc6f9b3eab1)\" style=\"fill: #1f77b4; fill-opacity: 0.5; stroke: #000000; stroke-width: 0.320383; stroke-linejoin: miter\"/>\n   </g>\n   <g id=\"patch_85\">\n    <path d=\"M 328.075807 224.64 \nL 331.279635 224.64 \nL 331.279635 219.364404 \nL 328.075807 219.364404 \nz\n\" clip-path=\"url(#pc6f9b3eab1)\" style=\"fill: #1f77b4; fill-opacity: 0.5; stroke: #000000; stroke-width: 0.320383; stroke-linejoin: miter\"/>\n   </g>\n   <g id=\"patch_86\">\n    <path d=\"M 331.279635 224.64 \nL 334.483463 224.64 \nL 334.483463 221.444921 \nL 331.279635 221.444921 \nz\n\" clip-path=\"url(#pc6f9b3eab1)\" style=\"fill: #1f77b4; fill-opacity: 0.5; stroke: #000000; stroke-width: 0.320383; stroke-linejoin: miter\"/>\n   </g>\n   <g id=\"patch_87\">\n    <path d=\"M 334.483463 224.64 \nL 337.687291 224.64 \nL 337.687291 222.262267 \nL 334.483463 222.262267 \nz\n\" clip-path=\"url(#pc6f9b3eab1)\" style=\"fill: #1f77b4; fill-opacity: 0.5; stroke: #000000; stroke-width: 0.320383; stroke-linejoin: miter\"/>\n   </g>\n   <g id=\"patch_88\">\n    <path d=\"M 337.687291 224.64 \nL 340.891118 224.64 \nL 340.891118 222.782396 \nL 337.687291 222.782396 \nz\n\" clip-path=\"url(#pc6f9b3eab1)\" style=\"fill: #1f77b4; fill-opacity: 0.5; stroke: #000000; stroke-width: 0.320383; stroke-linejoin: miter\"/>\n   </g>\n   <g id=\"patch_89\">\n    <path d=\"M 340.891118 224.64 \nL 344.094946 224.64 \nL 344.094946 223.153917 \nL 340.891118 223.153917 \nz\n\" clip-path=\"url(#pc6f9b3eab1)\" style=\"fill: #1f77b4; fill-opacity: 0.5; stroke: #000000; stroke-width: 0.320383; stroke-linejoin: miter\"/>\n   </g>\n   <g id=\"patch_90\">\n    <path d=\"M 344.094946 224.64 \nL 347.298774 224.64 \nL 347.298774 223.896958 \nL 344.094946 223.896958 \nz\n\" clip-path=\"url(#pc6f9b3eab1)\" style=\"fill: #1f77b4; fill-opacity: 0.5; stroke: #000000; stroke-width: 0.320383; stroke-linejoin: miter\"/>\n   </g>\n   <g id=\"patch_91\">\n    <path d=\"M 347.298774 224.64 \nL 350.502602 224.64 \nL 350.502602 223.153917 \nL 347.298774 223.153917 \nz\n\" clip-path=\"url(#pc6f9b3eab1)\" style=\"fill: #1f77b4; fill-opacity: 0.5; stroke: #000000; stroke-width: 0.320383; stroke-linejoin: miter\"/>\n   </g>\n   <g id=\"patch_92\">\n    <path d=\"M 350.502602 224.64 \nL 353.706429 224.64 \nL 353.706429 223.822654 \nL 350.502602 223.822654 \nz\n\" clip-path=\"url(#pc6f9b3eab1)\" style=\"fill: #1f77b4; fill-opacity: 0.5; stroke: #000000; stroke-width: 0.320383; stroke-linejoin: miter\"/>\n   </g>\n   <g id=\"patch_93\">\n    <path d=\"M 353.706429 224.64 \nL 356.910257 224.64 \nL 356.910257 224.194175 \nL 353.706429 224.194175 \nz\n\" clip-path=\"url(#pc6f9b3eab1)\" style=\"fill: #1f77b4; fill-opacity: 0.5; stroke: #000000; stroke-width: 0.320383; stroke-linejoin: miter\"/>\n   </g>\n   <g id=\"patch_94\">\n    <path d=\"M 356.910257 224.64 \nL 360.114085 224.64 \nL 360.114085 224.565696 \nL 356.910257 224.565696 \nz\n\" clip-path=\"url(#pc6f9b3eab1)\" style=\"fill: #1f77b4; fill-opacity: 0.5; stroke: #000000; stroke-width: 0.320383; stroke-linejoin: miter\"/>\n   </g>\n   <g id=\"patch_95\">\n    <path d=\"M 360.114085 224.64 \nL 363.317913 224.64 \nL 363.317913 224.417087 \nL 360.114085 224.417087 \nz\n\" clip-path=\"url(#pc6f9b3eab1)\" style=\"fill: #1f77b4; fill-opacity: 0.5; stroke: #000000; stroke-width: 0.320383; stroke-linejoin: miter\"/>\n   </g>\n   <g id=\"patch_96\">\n    <path d=\"M 363.317913 224.64 \nL 366.52174 224.64 \nL 366.52174 224.64 \nL 363.317913 224.64 \nz\n\" clip-path=\"url(#pc6f9b3eab1)\" style=\"fill: #1f77b4; fill-opacity: 0.5; stroke: #000000; stroke-width: 0.320383; stroke-linejoin: miter\"/>\n   </g>\n   <g id=\"patch_97\">\n    <path d=\"M 366.52174 224.64 \nL 369.725568 224.64 \nL 369.725568 224.565696 \nL 366.52174 224.565696 \nz\n\" clip-path=\"url(#pc6f9b3eab1)\" style=\"fill: #1f77b4; fill-opacity: 0.5; stroke: #000000; stroke-width: 0.320383; stroke-linejoin: miter\"/>\n   </g>\n   <g id=\"matplotlib.axis_1\">\n    <g id=\"xtick_1\">\n     <g id=\"line2d_1\">\n      <defs>\n       <path id=\"m1c38cafea7\" d=\"M 0 0 \nL 0 3.5 \n\" style=\"stroke: #000000; stroke-width: 0.8\"/>\n      </defs>\n      <g>\n       <use xlink:href=\"#m1c38cafea7\" x=\"94.587032\" y=\"224.64\" style=\"stroke: #000000; stroke-width: 0.8\"/>\n      </g>\n     </g>\n     <g id=\"text_1\">\n      <!-- 0 -->\n      <g transform=\"translate(91.405782 239.238437)scale(0.1 -0.1)\">\n       <defs>\n        <path id=\"DejaVuSans-30\" d=\"M 2034 4250 \nQ 1547 4250 1301 3770 \nQ 1056 3291 1056 2328 \nQ 1056 1369 1301 889 \nQ 1547 409 2034 409 \nQ 2525 409 2770 889 \nQ 3016 1369 3016 2328 \nQ 3016 3291 2770 3770 \nQ 2525 4250 2034 4250 \nz\nM 2034 4750 \nQ 2819 4750 3233 4129 \nQ 3647 3509 3647 2328 \nQ 3647 1150 3233 529 \nQ 2819 -91 2034 -91 \nQ 1250 -91 836 529 \nQ 422 1150 422 2328 \nQ 422 3509 836 4129 \nQ 1250 4750 2034 4750 \nz\n\" transform=\"scale(0.015625)\"/>\n       </defs>\n       <use xlink:href=\"#DejaVuSans-30\"/>\n      </g>\n     </g>\n    </g>\n    <g id=\"xtick_2\">\n     <g id=\"line2d_2\">\n      <g>\n       <use xlink:href=\"#m1c38cafea7\" x=\"141.517122\" y=\"224.64\" style=\"stroke: #000000; stroke-width: 0.8\"/>\n      </g>\n     </g>\n     <g id=\"text_2\">\n      <!-- 10 -->\n      <g transform=\"translate(135.154622 239.238437)scale(0.1 -0.1)\">\n       <defs>\n        <path id=\"DejaVuSans-31\" d=\"M 794 531 \nL 1825 531 \nL 1825 4091 \nL 703 3866 \nL 703 4441 \nL 1819 4666 \nL 2450 4666 \nL 2450 531 \nL 3481 531 \nL 3481 0 \nL 794 0 \nL 794 531 \nz\n\" transform=\"scale(0.015625)\"/>\n       </defs>\n       <use xlink:href=\"#DejaVuSans-31\"/>\n       <use xlink:href=\"#DejaVuSans-30\" x=\"63.623047\"/>\n      </g>\n     </g>\n    </g>\n    <g id=\"xtick_3\">\n     <g id=\"line2d_3\">\n      <g>\n       <use xlink:href=\"#m1c38cafea7\" x=\"188.447212\" y=\"224.64\" style=\"stroke: #000000; stroke-width: 0.8\"/>\n      </g>\n     </g>\n     <g id=\"text_3\">\n      <!-- 20 -->\n      <g transform=\"translate(182.084712 239.238437)scale(0.1 -0.1)\">\n       <defs>\n        <path id=\"DejaVuSans-32\" d=\"M 1228 531 \nL 3431 531 \nL 3431 0 \nL 469 0 \nL 469 531 \nQ 828 903 1448 1529 \nQ 2069 2156 2228 2338 \nQ 2531 2678 2651 2914 \nQ 2772 3150 2772 3378 \nQ 2772 3750 2511 3984 \nQ 2250 4219 1831 4219 \nQ 1534 4219 1204 4116 \nQ 875 4013 500 3803 \nL 500 4441 \nQ 881 4594 1212 4672 \nQ 1544 4750 1819 4750 \nQ 2544 4750 2975 4387 \nQ 3406 4025 3406 3419 \nQ 3406 3131 3298 2873 \nQ 3191 2616 2906 2266 \nQ 2828 2175 2409 1742 \nQ 1991 1309 1228 531 \nz\n\" transform=\"scale(0.015625)\"/>\n       </defs>\n       <use xlink:href=\"#DejaVuSans-32\"/>\n       <use xlink:href=\"#DejaVuSans-30\" x=\"63.623047\"/>\n      </g>\n     </g>\n    </g>\n    <g id=\"xtick_4\">\n     <g id=\"line2d_4\">\n      <g>\n       <use xlink:href=\"#m1c38cafea7\" x=\"235.377301\" y=\"224.64\" style=\"stroke: #000000; stroke-width: 0.8\"/>\n      </g>\n     </g>\n     <g id=\"text_4\">\n      <!-- 30 -->\n      <g transform=\"translate(229.014801 239.238437)scale(0.1 -0.1)\">\n       <defs>\n        <path id=\"DejaVuSans-33\" d=\"M 2597 2516 \nQ 3050 2419 3304 2112 \nQ 3559 1806 3559 1356 \nQ 3559 666 3084 287 \nQ 2609 -91 1734 -91 \nQ 1441 -91 1130 -33 \nQ 819 25 488 141 \nL 488 750 \nQ 750 597 1062 519 \nQ 1375 441 1716 441 \nQ 2309 441 2620 675 \nQ 2931 909 2931 1356 \nQ 2931 1769 2642 2001 \nQ 2353 2234 1838 2234 \nL 1294 2234 \nL 1294 2753 \nL 1863 2753 \nQ 2328 2753 2575 2939 \nQ 2822 3125 2822 3475 \nQ 2822 3834 2567 4026 \nQ 2313 4219 1838 4219 \nQ 1578 4219 1281 4162 \nQ 984 4106 628 3988 \nL 628 4550 \nQ 988 4650 1302 4700 \nQ 1616 4750 1894 4750 \nQ 2613 4750 3031 4423 \nQ 3450 4097 3450 3541 \nQ 3450 3153 3228 2886 \nQ 3006 2619 2597 2516 \nz\n\" transform=\"scale(0.015625)\"/>\n       </defs>\n       <use xlink:href=\"#DejaVuSans-33\"/>\n       <use xlink:href=\"#DejaVuSans-30\" x=\"63.623047\"/>\n      </g>\n     </g>\n    </g>\n    <g id=\"xtick_5\">\n     <g id=\"line2d_5\">\n      <g>\n       <use xlink:href=\"#m1c38cafea7\" x=\"282.307391\" y=\"224.64\" style=\"stroke: #000000; stroke-width: 0.8\"/>\n      </g>\n     </g>\n     <g id=\"text_5\">\n      <!-- 40 -->\n      <g transform=\"translate(275.944891 239.238437)scale(0.1 -0.1)\">\n       <defs>\n        <path id=\"DejaVuSans-34\" d=\"M 2419 4116 \nL 825 1625 \nL 2419 1625 \nL 2419 4116 \nz\nM 2253 4666 \nL 3047 4666 \nL 3047 1625 \nL 3713 1625 \nL 3713 1100 \nL 3047 1100 \nL 3047 0 \nL 2419 0 \nL 2419 1100 \nL 313 1100 \nL 313 1709 \nL 2253 4666 \nz\n\" transform=\"scale(0.015625)\"/>\n       </defs>\n       <use xlink:href=\"#DejaVuSans-34\"/>\n       <use xlink:href=\"#DejaVuSans-30\" x=\"63.623047\"/>\n      </g>\n     </g>\n    </g>\n    <g id=\"xtick_6\">\n     <g id=\"line2d_6\">\n      <g>\n       <use xlink:href=\"#m1c38cafea7\" x=\"329.237481\" y=\"224.64\" style=\"stroke: #000000; stroke-width: 0.8\"/>\n      </g>\n     </g>\n     <g id=\"text_6\">\n      <!-- 50 -->\n      <g transform=\"translate(322.874981 239.238437)scale(0.1 -0.1)\">\n       <defs>\n        <path id=\"DejaVuSans-35\" d=\"M 691 4666 \nL 3169 4666 \nL 3169 4134 \nL 1269 4134 \nL 1269 2991 \nQ 1406 3038 1543 3061 \nQ 1681 3084 1819 3084 \nQ 2600 3084 3056 2656 \nQ 3513 2228 3513 1497 \nQ 3513 744 3044 326 \nQ 2575 -91 1722 -91 \nQ 1428 -91 1123 -41 \nQ 819 9 494 109 \nL 494 744 \nQ 775 591 1075 516 \nQ 1375 441 1709 441 \nQ 2250 441 2565 725 \nQ 2881 1009 2881 1497 \nQ 2881 1984 2565 2268 \nQ 2250 2553 1709 2553 \nQ 1456 2553 1204 2497 \nQ 953 2441 691 2322 \nL 691 4666 \nz\n\" transform=\"scale(0.015625)\"/>\n       </defs>\n       <use xlink:href=\"#DejaVuSans-35\"/>\n       <use xlink:href=\"#DejaVuSans-30\" x=\"63.623047\"/>\n      </g>\n     </g>\n    </g>\n    <g id=\"xtick_7\">\n     <g id=\"line2d_7\">\n      <g>\n       <use xlink:href=\"#m1c38cafea7\" x=\"376.167571\" y=\"224.64\" style=\"stroke: #000000; stroke-width: 0.8\"/>\n      </g>\n     </g>\n     <g id=\"text_7\">\n      <!-- 60 -->\n      <g transform=\"translate(369.805071 239.238437)scale(0.1 -0.1)\">\n       <defs>\n        <path id=\"DejaVuSans-36\" d=\"M 2113 2584 \nQ 1688 2584 1439 2293 \nQ 1191 2003 1191 1497 \nQ 1191 994 1439 701 \nQ 1688 409 2113 409 \nQ 2538 409 2786 701 \nQ 3034 994 3034 1497 \nQ 3034 2003 2786 2293 \nQ 2538 2584 2113 2584 \nz\nM 3366 4563 \nL 3366 3988 \nQ 3128 4100 2886 4159 \nQ 2644 4219 2406 4219 \nQ 1781 4219 1451 3797 \nQ 1122 3375 1075 2522 \nQ 1259 2794 1537 2939 \nQ 1816 3084 2150 3084 \nQ 2853 3084 3261 2657 \nQ 3669 2231 3669 1497 \nQ 3669 778 3244 343 \nQ 2819 -91 2113 -91 \nQ 1303 -91 875 529 \nQ 447 1150 447 2328 \nQ 447 3434 972 4092 \nQ 1497 4750 2381 4750 \nQ 2619 4750 2861 4703 \nQ 3103 4656 3366 4563 \nz\n\" transform=\"scale(0.015625)\"/>\n       </defs>\n       <use xlink:href=\"#DejaVuSans-36\"/>\n       <use xlink:href=\"#DejaVuSans-30\" x=\"63.623047\"/>\n      </g>\n     </g>\n    </g>\n   </g>\n   <g id=\"matplotlib.axis_2\">\n    <g id=\"ytick_1\">\n     <g id=\"line2d_8\">\n      <defs>\n       <path id=\"m2272723ad4\" d=\"M 0 0 \nL -3.5 0 \n\" style=\"stroke: #000000; stroke-width: 0.8\"/>\n      </defs>\n      <g>\n       <use xlink:href=\"#m2272723ad4\" x=\"50.14375\" y=\"224.64\" style=\"stroke: #000000; stroke-width: 0.8\"/>\n      </g>\n     </g>\n     <g id=\"text_8\">\n      <!-- 0.00 -->\n      <g transform=\"translate(20.878125 228.439219)scale(0.1 -0.1)\">\n       <defs>\n        <path id=\"DejaVuSans-2e\" d=\"M 684 794 \nL 1344 794 \nL 1344 0 \nL 684 0 \nL 684 794 \nz\n\" transform=\"scale(0.015625)\"/>\n       </defs>\n       <use xlink:href=\"#DejaVuSans-30\"/>\n       <use xlink:href=\"#DejaVuSans-2e\" x=\"63.623047\"/>\n       <use xlink:href=\"#DejaVuSans-30\" x=\"95.410156\"/>\n       <use xlink:href=\"#DejaVuSans-30\" x=\"159.033203\"/>\n      </g>\n     </g>\n    </g>\n    <g id=\"ytick_2\">\n     <g id=\"line2d_9\">\n      <g>\n       <use xlink:href=\"#m2272723ad4\" x=\"50.14375\" y=\"185.82545\" style=\"stroke: #000000; stroke-width: 0.8\"/>\n      </g>\n     </g>\n     <g id=\"text_9\">\n      <!-- 0.01 -->\n      <g transform=\"translate(20.878125 189.624669)scale(0.1 -0.1)\">\n       <use xlink:href=\"#DejaVuSans-30\"/>\n       <use xlink:href=\"#DejaVuSans-2e\" x=\"63.623047\"/>\n       <use xlink:href=\"#DejaVuSans-30\" x=\"95.410156\"/>\n       <use xlink:href=\"#DejaVuSans-31\" x=\"159.033203\"/>\n      </g>\n     </g>\n    </g>\n    <g id=\"ytick_3\">\n     <g id=\"line2d_10\">\n      <g>\n       <use xlink:href=\"#m2272723ad4\" x=\"50.14375\" y=\"147.0109\" style=\"stroke: #000000; stroke-width: 0.8\"/>\n      </g>\n     </g>\n     <g id=\"text_10\">\n      <!-- 0.02 -->\n      <g transform=\"translate(20.878125 150.810119)scale(0.1 -0.1)\">\n       <use xlink:href=\"#DejaVuSans-30\"/>\n       <use xlink:href=\"#DejaVuSans-2e\" x=\"63.623047\"/>\n       <use xlink:href=\"#DejaVuSans-30\" x=\"95.410156\"/>\n       <use xlink:href=\"#DejaVuSans-32\" x=\"159.033203\"/>\n      </g>\n     </g>\n    </g>\n    <g id=\"ytick_4\">\n     <g id=\"line2d_11\">\n      <g>\n       <use xlink:href=\"#m2272723ad4\" x=\"50.14375\" y=\"108.19635\" style=\"stroke: #000000; stroke-width: 0.8\"/>\n      </g>\n     </g>\n     <g id=\"text_11\">\n      <!-- 0.03 -->\n      <g transform=\"translate(20.878125 111.995569)scale(0.1 -0.1)\">\n       <use xlink:href=\"#DejaVuSans-30\"/>\n       <use xlink:href=\"#DejaVuSans-2e\" x=\"63.623047\"/>\n       <use xlink:href=\"#DejaVuSans-30\" x=\"95.410156\"/>\n       <use xlink:href=\"#DejaVuSans-33\" x=\"159.033203\"/>\n      </g>\n     </g>\n    </g>\n    <g id=\"ytick_5\">\n     <g id=\"line2d_12\">\n      <g>\n       <use xlink:href=\"#m2272723ad4\" x=\"50.14375\" y=\"69.3818\" style=\"stroke: #000000; stroke-width: 0.8\"/>\n      </g>\n     </g>\n     <g id=\"text_12\">\n      <!-- 0.04 -->\n      <g transform=\"translate(20.878125 73.181019)scale(0.1 -0.1)\">\n       <use xlink:href=\"#DejaVuSans-30\"/>\n       <use xlink:href=\"#DejaVuSans-2e\" x=\"63.623047\"/>\n       <use xlink:href=\"#DejaVuSans-30\" x=\"95.410156\"/>\n       <use xlink:href=\"#DejaVuSans-34\" x=\"159.033203\"/>\n      </g>\n     </g>\n    </g>\n    <g id=\"ytick_6\">\n     <g id=\"line2d_13\">\n      <g>\n       <use xlink:href=\"#m2272723ad4\" x=\"50.14375\" y=\"30.56725\" style=\"stroke: #000000; stroke-width: 0.8\"/>\n      </g>\n     </g>\n     <g id=\"text_13\">\n      <!-- 0.05 -->\n      <g transform=\"translate(20.878125 34.366469)scale(0.1 -0.1)\">\n       <use xlink:href=\"#DejaVuSans-30\"/>\n       <use xlink:href=\"#DejaVuSans-2e\" x=\"63.623047\"/>\n       <use xlink:href=\"#DejaVuSans-30\" x=\"95.410156\"/>\n       <use xlink:href=\"#DejaVuSans-35\" x=\"159.033203\"/>\n      </g>\n     </g>\n    </g>\n    <g id=\"text_14\">\n     <!-- Density -->\n     <g transform=\"translate(14.798438 134.928594)rotate(-90)scale(0.1 -0.1)\">\n      <defs>\n       <path id=\"DejaVuSans-44\" d=\"M 1259 4147 \nL 1259 519 \nL 2022 519 \nQ 2988 519 3436 956 \nQ 3884 1394 3884 2338 \nQ 3884 3275 3436 3711 \nQ 2988 4147 2022 4147 \nL 1259 4147 \nz\nM 628 4666 \nL 1925 4666 \nQ 3281 4666 3915 4102 \nQ 4550 3538 4550 2338 \nQ 4550 1131 3912 565 \nQ 3275 0 1925 0 \nL 628 0 \nL 628 4666 \nz\n\" transform=\"scale(0.015625)\"/>\n       <path id=\"DejaVuSans-65\" d=\"M 3597 1894 \nL 3597 1613 \nL 953 1613 \nQ 991 1019 1311 708 \nQ 1631 397 2203 397 \nQ 2534 397 2845 478 \nQ 3156 559 3463 722 \nL 3463 178 \nQ 3153 47 2828 -22 \nQ 2503 -91 2169 -91 \nQ 1331 -91 842 396 \nQ 353 884 353 1716 \nQ 353 2575 817 3079 \nQ 1281 3584 2069 3584 \nQ 2775 3584 3186 3129 \nQ 3597 2675 3597 1894 \nz\nM 3022 2063 \nQ 3016 2534 2758 2815 \nQ 2500 3097 2075 3097 \nQ 1594 3097 1305 2825 \nQ 1016 2553 972 2059 \nL 3022 2063 \nz\n\" transform=\"scale(0.015625)\"/>\n       <path id=\"DejaVuSans-6e\" d=\"M 3513 2113 \nL 3513 0 \nL 2938 0 \nL 2938 2094 \nQ 2938 2591 2744 2837 \nQ 2550 3084 2163 3084 \nQ 1697 3084 1428 2787 \nQ 1159 2491 1159 1978 \nL 1159 0 \nL 581 0 \nL 581 3500 \nL 1159 3500 \nL 1159 2956 \nQ 1366 3272 1645 3428 \nQ 1925 3584 2291 3584 \nQ 2894 3584 3203 3211 \nQ 3513 2838 3513 2113 \nz\n\" transform=\"scale(0.015625)\"/>\n       <path id=\"DejaVuSans-73\" d=\"M 2834 3397 \nL 2834 2853 \nQ 2591 2978 2328 3040 \nQ 2066 3103 1784 3103 \nQ 1356 3103 1142 2972 \nQ 928 2841 928 2578 \nQ 928 2378 1081 2264 \nQ 1234 2150 1697 2047 \nL 1894 2003 \nQ 2506 1872 2764 1633 \nQ 3022 1394 3022 966 \nQ 3022 478 2636 193 \nQ 2250 -91 1575 -91 \nQ 1294 -91 989 -36 \nQ 684 19 347 128 \nL 347 722 \nQ 666 556 975 473 \nQ 1284 391 1588 391 \nQ 1994 391 2212 530 \nQ 2431 669 2431 922 \nQ 2431 1156 2273 1281 \nQ 2116 1406 1581 1522 \nL 1381 1569 \nQ 847 1681 609 1914 \nQ 372 2147 372 2553 \nQ 372 3047 722 3315 \nQ 1072 3584 1716 3584 \nQ 2034 3584 2315 3537 \nQ 2597 3491 2834 3397 \nz\n\" transform=\"scale(0.015625)\"/>\n       <path id=\"DejaVuSans-69\" d=\"M 603 3500 \nL 1178 3500 \nL 1178 0 \nL 603 0 \nL 603 3500 \nz\nM 603 4863 \nL 1178 4863 \nL 1178 4134 \nL 603 4134 \nL 603 4863 \nz\n\" transform=\"scale(0.015625)\"/>\n       <path id=\"DejaVuSans-74\" d=\"M 1172 4494 \nL 1172 3500 \nL 2356 3500 \nL 2356 3053 \nL 1172 3053 \nL 1172 1153 \nQ 1172 725 1289 603 \nQ 1406 481 1766 481 \nL 2356 481 \nL 2356 0 \nL 1766 0 \nQ 1100 0 847 248 \nQ 594 497 594 1153 \nL 594 3053 \nL 172 3053 \nL 172 3500 \nL 594 3500 \nL 594 4494 \nL 1172 4494 \nz\n\" transform=\"scale(0.015625)\"/>\n       <path id=\"DejaVuSans-79\" d=\"M 2059 -325 \nQ 1816 -950 1584 -1140 \nQ 1353 -1331 966 -1331 \nL 506 -1331 \nL 506 -850 \nL 844 -850 \nQ 1081 -850 1212 -737 \nQ 1344 -625 1503 -206 \nL 1606 56 \nL 191 3500 \nL 800 3500 \nL 1894 763 \nL 2988 3500 \nL 3597 3500 \nL 2059 -325 \nz\n\" transform=\"scale(0.015625)\"/>\n      </defs>\n      <use xlink:href=\"#DejaVuSans-44\"/>\n      <use xlink:href=\"#DejaVuSans-65\" x=\"77.001953\"/>\n      <use xlink:href=\"#DejaVuSans-6e\" x=\"138.525391\"/>\n      <use xlink:href=\"#DejaVuSans-73\" x=\"201.904297\"/>\n      <use xlink:href=\"#DejaVuSans-69\" x=\"254.003906\"/>\n      <use xlink:href=\"#DejaVuSans-74\" x=\"281.787109\"/>\n      <use xlink:href=\"#DejaVuSans-79\" x=\"320.996094\"/>\n     </g>\n    </g>\n   </g>\n   <g id=\"line2d_14\">\n    <path d=\"M 65.361932 224.589849 \nL 73.009259 224.404968 \nL 77.597656 224.116027 \nL 82.186052 223.556825 \nL 85.244983 222.977598 \nL 88.303914 222.158935 \nL 89.83338 221.582196 \nL 91.362845 220.803725 \nL 92.892311 219.716914 \nL 94.421776 218.184741 \nL 95.951242 216.046893 \nL 97.480708 213.131228 \nL 99.010173 209.266018 \nL 100.539639 204.289157 \nL 102.069104 198.053834 \nL 103.59857 190.436031 \nL 105.128035 181.352736 \nL 106.657501 170.796225 \nL 108.186966 158.878878 \nL 111.245897 132.206308 \nL 114.304828 105.185074 \nL 115.834294 92.947262 \nL 117.363759 82.071517 \nL 118.893225 72.656219 \nL 120.42269 64.572093 \nL 121.952156 57.549409 \nL 123.481621 51.308469 \nL 125.011087 45.682309 \nL 126.540552 40.682905 \nL 128.070018 36.488705 \nL 129.599483 33.36771 \nL 131.128949 31.575201 \nL 132.658414 31.266156 \nL 134.18788 32.445099 \nL 135.717345 34.956775 \nL 137.246811 38.511118 \nL 140.305742 47.235758 \nL 143.364673 55.834738 \nL 144.894138 59.606693 \nL 147.953069 66.166366 \nL 154.070931 78.398992 \nL 160.188793 91.182826 \nL 161.718259 93.837331 \nL 163.247724 96.023729 \nL 164.77719 97.704569 \nL 166.306655 98.935194 \nL 170.895052 101.6129 \nL 172.424517 102.82139 \nL 173.953983 104.376901 \nL 177.012914 108.1077 \nL 178.54238 109.680448 \nL 180.071845 110.461145 \nL 181.601311 110.022271 \nL 183.130776 108.174129 \nL 184.660242 105.140125 \nL 186.189707 101.602784 \nL 187.719173 98.548281 \nL 189.248638 96.943098 \nL 190.778104 97.385339 \nL 192.307569 99.903282 \nL 193.837035 103.99555 \nL 196.895966 113.769907 \nL 198.425431 118.166352 \nL 199.954897 121.869787 \nL 201.484362 124.943651 \nL 203.013828 127.565894 \nL 204.543293 129.895036 \nL 206.072759 132.004082 \nL 207.602224 133.897626 \nL 210.661155 137.122852 \nL 212.190621 138.669132 \nL 213.720086 140.394896 \nL 215.249552 142.43534 \nL 216.779017 144.838511 \nL 218.308483 147.567124 \nL 221.367414 153.68529 \nL 224.426345 160.383892 \nL 227.485276 167.662758 \nL 232.073672 178.84527 \nL 233.603138 182.124063 \nL 235.132603 184.945876 \nL 236.662069 187.236132 \nL 238.191534 188.980725 \nL 239.721 190.214586 \nL 241.250465 191.003505 \nL 242.779931 191.429704 \nL 244.309396 191.584849 \nL 247.368327 191.479483 \nL 248.897793 191.419388 \nL 250.427258 191.470986 \nL 251.956724 191.690467 \nL 253.486189 192.094475 \nL 256.54512 193.299512 \nL 259.604052 194.475173 \nL 261.133517 194.847506 \nL 262.662983 195.029825 \nL 264.192448 195.041162 \nL 271.839776 194.580061 \nL 274.898707 194.827476 \nL 277.957638 195.289286 \nL 281.016569 196.063595 \nL 282.546034 196.630628 \nL 284.0755 197.332535 \nL 287.134431 199.110517 \nL 290.193362 201.265948 \nL 303.958551 211.522123 \nL 307.017482 213.414626 \nL 308.546948 214.138774 \nL 310.076413 214.710884 \nL 313.135344 215.542506 \nL 317.723741 216.692372 \nL 333.018396 221.083862 \nL 337.606792 222.201442 \nL 340.665724 222.774146 \nL 345.25412 223.354417 \nL 352.901448 223.912622 \nL 362.078241 224.457994 \nL 369.725568 224.596123 \nL 369.725568 224.596123 \n\" clip-path=\"url(#pc6f9b3eab1)\" style=\"fill: none; stroke: #1f77b4; stroke-width: 1.5; stroke-linecap: square\"/>\n   </g>\n   <g id=\"patch_98\">\n    <path d=\"M 50.14375 224.64 \nL 50.14375 7.2 \n\" style=\"fill: none; stroke: #000000; stroke-width: 0.8; stroke-linejoin: miter; stroke-linecap: square\"/>\n   </g>\n   <g id=\"patch_99\">\n    <path d=\"M 384.94375 224.64 \nL 384.94375 7.2 \n\" style=\"fill: none; stroke: #000000; stroke-width: 0.8; stroke-linejoin: miter; stroke-linecap: square\"/>\n   </g>\n   <g id=\"patch_100\">\n    <path d=\"M 50.14375 224.64 \nL 384.94375 224.64 \n\" style=\"fill: none; stroke: #000000; stroke-width: 0.8; stroke-linejoin: miter; stroke-linecap: square\"/>\n   </g>\n   <g id=\"patch_101\">\n    <path d=\"M 50.14375 7.2 \nL 384.94375 7.2 \n\" style=\"fill: none; stroke: #000000; stroke-width: 0.8; stroke-linejoin: miter; stroke-linecap: square\"/>\n   </g>\n  </g>\n </g>\n <defs>\n  <clipPath id=\"pc6f9b3eab1\">\n   <rect x=\"50.14375\" y=\"7.2\" width=\"334.8\" height=\"217.44\"/>\n  </clipPath>\n </defs>\n</svg>\n",
      "text/plain": [
       "<Figure size 432x288 with 1 Axes>"
      ]
     },
     "metadata": {
      "needs_background": "light"
     },
     "output_type": "display_data"
    }
   ],
   "source": [
    "import matplotlib.pyplot as plt\n",
    "import seaborn as sns\n",
    "import pandas as pd\n",
    "import mlflow\n",
    "import joblib\n",
    "\n",
    "from matplotlib_inline import backend_inline\n",
    "backend_inline.set_matplotlib_formats('svg')\n",
    "\n",
    "from pandas.core.common import SettingWithCopyWarning\n",
    "import warnings\n",
    "warnings.simplefilter(action=\"ignore\", category=SettingWithCopyWarning)\n",
    "\n",
    "from utils import runs, data_path\n",
    "\n",
    "\n",
    "# Configure paths to run\n",
    "run_path = runs / '1' / 'f46f9fedb22c4411b6e265f8e65edbe3'\n",
    "model_path = run_path / 'artifacts' / 'model'\n",
    "model_artifacts_path = run_path / 'artifacts' / 'preprocessing'\n",
    "valid_data_path = data_path / 'green_tripdata_2021-01.parquet'\n",
    "\n",
    "# Preprocessing test data\n",
    "feature_pipe = joblib.load(model_artifacts_path / 'preprocessor.pkl')\n",
    "X = feature_pipe.transform(pd.read_parquet(valid_data_path))\n",
    "\n",
    "# Make inference using MLFlow file\n",
    "loaded_model = mlflow.pyfunc.load_model(model_path)\n",
    "sns.histplot(loaded_model.predict(X),  color='C0', stat='density', kde=True);"
   ]
  },
  {
   "cell_type": "markdown",
   "metadata": {},
   "source": [
    "**Remarks.** In general, we use `mlflow.<framework>.autolog()` to activate autologging. For frameworks not supported by MLFlow, we can simply log models using `mlflow.log_artifact` on saved pickle files, e.g. using `joblib`. "
   ]
  },
  {
   "cell_type": "markdown",
   "metadata": {},
   "source": [
    "## Model registry"
   ]
  },
  {
   "cell_type": "markdown",
   "metadata": {},
   "source": [
    "New model -> good performance -> plz deploy. \n",
    "\n",
    "what has changed? is there any preprocessing needed? what is the environment, what are the dependencies? \n",
    "\n",
    "back and fort communication with data scientist.\n",
    "\n",
    "what if incident in prod, need rollback, need to go to email inbox. imagine its not possible to run this model again, have to retrain from scratch. but what if retraining information is lost, no idea of env used, which dataset, and so on. \n",
    "\n",
    "recall we have tracking server, which stored experiment runs. model registry has stages. staging -> prod -> archive. DS only decides which models are ready for prod. deployment engineer not responsible. \n",
    "\n",
    "then if we want rollback, we can go back from archive to prod. note that model registry not deployment. it just labels models. need to compliment with ci/cd. in order to do actual deployment. \n",
    "\n"
   ]
  },
  {
   "cell_type": "markdown",
   "metadata": {},
   "source": [
    "comparing models: \n",
    "- look at duration, and model size, rmse\n"
   ]
  },
  {
   "cell_type": "markdown",
   "metadata": {},
   "source": [
    "information you need to consider"
   ]
  },
  {
   "cell_type": "code",
   "execution_count": null,
   "metadata": {},
   "outputs": [],
   "source": []
  },
  {
   "cell_type": "code",
   "execution_count": null,
   "metadata": {},
   "outputs": [],
   "source": []
  },
  {
   "cell_type": "code",
   "execution_count": null,
   "metadata": {},
   "outputs": [],
   "source": []
  },
  {
   "cell_type": "code",
   "execution_count": 99,
   "metadata": {},
   "outputs": [],
   "source": [
    "from sklearn.base import BaseEstimator, TransformerMixin\n",
    "\n",
    "\n",
    "class ConvertToString(BaseEstimator, TransformerMixin):\n",
    "    \"\"\"Convert columns of DataFrame to type string.\"\"\"\n",
    "\n",
    "    def __init__(self, features):\n",
    "        self.features = features\n",
    "\n",
    "    def fit(self, X, y=None):\n",
    "        return self\n",
    "\n",
    "    def transform(self, X):\n",
    "        X[self.features] = X[self.features].astype(str)\n",
    "        return X\n",
    "\n",
    "\n",
    "class AddPickupDropoffPair(BaseEstimator, TransformerMixin):\n",
    "    \"\"\"Add product of pickup and dropoff locations.\"\"\"\n",
    "\n",
    "    def fit(self, X, y=None):\n",
    "        return self\n",
    "\n",
    "    def transform(self, X):\n",
    "        X['PU_DO'] = X['PULocationID'].astype(str) + '_' + X['DOLocationID'].astype(str)\n",
    "        return X\n",
    "\n",
    "\n",
    "class ConvertToDict(BaseEstimator, TransformerMixin):\n",
    "    \"\"\"Convert tabular data to feature dictionaries.\"\"\"\n",
    "\n",
    "    def fit(self, X, y=None):\n",
    "        return self\n",
    "\n",
    "    def transform(self, X):\n",
    "        return X.to_dict(orient='records')\n",
    "\n",
    "\n",
    "class SelectFeatures(BaseEstimator, TransformerMixin):\n",
    "    \"\"\"Convert tabular data to feature dictionaries.\"\"\"\n",
    "\n",
    "    def __init__(self, features):\n",
    "        self.features = features\n",
    "\n",
    "    def fit(self, X, y=None):\n",
    "        return self\n",
    "\n",
    "    def transform(self, X):\n",
    "        return X[self.features]\n",
    "\n",
    "\n",
    "def preprocess_train_targets(data):\n",
    "    \"\"\"Derive target and filter outliers.\"\"\"\n",
    "\n",
    "    # Create target column and filter outliers\n",
    "    data['duration'] = data.lpep_dropoff_datetime - data.lpep_pickup_datetime\n",
    "    data['duration'] = data.duration.dt.total_seconds() / 60\n",
    "    \n",
    "    X = data[(data.duration >= 1) & (data.duration <= 60)]\n",
    "    y = X.duration.values\n",
    "    \n",
    "    return X, y\n"
   ]
  },
  {
   "cell_type": "code",
   "execution_count": 117,
   "metadata": {},
   "outputs": [
    {
     "data": {
      "text/plain": [
       "<73908x13221 sparse matrix of type '<class 'numpy.float64'>'\n",
       "\twith 147816 stored elements in Compressed Sparse Row format>"
      ]
     },
     "execution_count": 117,
     "metadata": {},
     "output_type": "execute_result"
    }
   ],
   "source": [
    "from sklearn.pipeline import make_pipeline\n",
    "from sklearn.feature_extraction import DictVectorizer\n",
    "\n",
    "categorical = ['PU_DO']\n",
    "numerical = ['trip_distance']\n",
    "\n",
    "pipe = make_pipeline(\n",
    "    AddPickupDropoffPair(),\n",
    "    ConvertToString(categorical),\n",
    "    SelectFeatures(categorical + numerical),\n",
    "    ConvertToDict(),\n",
    "    DictVectorizer(),\n",
    ")\n",
    "\n",
    "train_data_path =  '../data/green_tripdata_2021-01.parquet'\n",
    "X_train, y_train = preprocess_train_targets(pd.read_parquet(train_data_path))\n",
    "\n",
    "pipe.fit_transform(X_train)"
   ]
  },
  {
   "cell_type": "code",
   "execution_count": 116,
   "metadata": {},
   "outputs": [
    {
     "data": {
      "text/plain": [
       "13221"
      ]
     },
     "execution_count": 116,
     "metadata": {},
     "output_type": "execute_result"
    }
   ],
   "source": [
    "AddPickupDropoffPair().transform(X_train)['PU_DO'].nunique() + 1"
   ]
  },
  {
   "cell_type": "code",
   "execution_count": 110,
   "metadata": {},
   "outputs": [
    {
     "data": {
      "text/plain": [
       "13221"
      ]
     },
     "execution_count": 110,
     "metadata": {},
     "output_type": "execute_result"
    }
   ],
   "source": [
    "len(pipe.named_steps['dictvectorizer'].feature_names_)"
   ]
  },
  {
   "cell_type": "code",
   "execution_count": null,
   "metadata": {},
   "outputs": [],
   "source": []
  }
 ],
 "metadata": {
  "interpreter": {
   "hash": "c69054bf84d6ad36c63a02b926ed0729b159d9b327d6020e8e7aee9c3ae1ac1f"
  },
  "kernelspec": {
   "display_name": "Python 3.9.12 ('mlops')",
   "language": "python",
   "name": "python3"
  },
  "language_info": {
   "codemirror_mode": {
    "name": "ipython",
    "version": 3
   },
   "file_extension": ".py",
   "mimetype": "text/x-python",
   "name": "python",
   "nbconvert_exporter": "python",
   "pygments_lexer": "ipython3",
   "version": "3.9.12"
  },
  "orig_nbformat": 4
 },
 "nbformat": 4,
 "nbformat_minor": 2
}
