{
 "cells": [
  {
   "cell_type": "markdown",
   "metadata": {},
   "source": [
    "# Experiment Tracking and Model Management"
   ]
  },
  {
   "cell_type": "markdown",
   "metadata": {},
   "source": [
    "![Status](https://img.shields.io/static/v1.svg?label=Status&message=Finished&color=green)\n",
    "\n",
    "<!-- Place this tag where you want the button to render. -->\n",
    "<a class=\"github-button\" href=\"https://github.com/particle1331/steepest-ascent\" data-color-scheme=\"no-preference: dark; light: light; dark: dark;\" data-icon=\"octicon-star\" data-size=\"large\" data-show-count=\"true\" aria-label=\"Star particle1331/steepest-ascent on GitHub\">Star</a>\n",
    "<!-- Place this tag in your head or just before your close body tag. -->\n",
    "<script async defer src=\"https://buttons.github.io/buttons.js\"></script> \n"
   ]
  },
  {
   "cell_type": "markdown",
   "metadata": {},
   "source": [
    "In this module, we will look **experiment tracking** and **model management**. A machine learning experiment is defined as a session or process of making machine learning models. Experiment tracking is the process of keeping track of all relevant information in an experiments. This includes source code, environment, data, models, hyperparameters, and so on which are important for reproducing the experiment as well as for making actual predictions. \n",
    "\n",
    "From experience, we know that manual tracking, e.g. with spreadsheets, is error prone, not standardized, has low visibility, and difficult for teams to collaborate over. As an alternative, we will experiment tracking platforms such as [MLFlow](https://mlflow.org/). MLFlow has four main components: tracking, models, model registry, and projects. In this course, we only be cover the first three. \n",
    "\n",
    "```{margin}\n",
    "⚠️ **Attribution:** These are notes for [Module 2](https://github.com/DataTalksClub/mlops-zoomcamp/tree/main/02-experiment-tracking) of the [MLOps Zoomcamp](https://github.com/DataTalksClub/mlops-zoomcamp). The MLOps Zoomcamp is a free course from [DataTalks.Club](https://github.com/DataTalksClub).\n",
    "```\n",
    "\n",
    "As we have seen with our previous prototyping, having the ability to reproduce results is important since we want to have the same results when deploying the model in different environments. Using experiment tracking and model management platforms allows us to have better chance at reproducing our results, as well as aid in organization (staging and deploying models) and optimization (finding the best models). "
   ]
  },
  {
   "cell_type": "markdown",
   "metadata": {},
   "source": [
    "## Getting started: MLFlow UI"
   ]
  },
  {
   "cell_type": "markdown",
   "metadata": {},
   "source": [
    "We can run the MLFlow UI with an SQLite backend as follows:"
   ]
  },
  {
   "cell_type": "markdown",
   "metadata": {},
   "source": [
    "\n",
    "```bash\n",
    "$ mlflow ui --backend-store-uri sqlite:///mlflow.db\n",
    "\n",
    "[2022-05-26 19:35:22 +0800] [92498] [INFO] Starting gunicorn 20.1.0\n",
    "[2022-05-26 19:35:22 +0800] [92498] [INFO] Listening at: http://127.0.0.1:5000 (92498)\n",
    "[2022-05-26 19:35:22 +0800] [92498] [INFO] Using worker: sync\n",
    "[2022-05-26 19:35:22 +0800] [92499] [INFO] Booting worker with pid: 92499\n",
    "```"
   ]
  },
  {
   "cell_type": "markdown",
   "metadata": {},
   "source": [
    "For our experiment, we will use our code and data from [Module 1](https://particle1331.github.io/inefficient-networks/notebooks/mlops/1-intro.html). So before doing any run, we either create an **experiment** or connect a run to it if the experiment already exists. This also sets the experiment tracking backend. The same one that is visualized in the UI above."
   ]
  },
  {
   "cell_type": "markdown",
   "metadata": {},
   "source": [
    "```{margin}\n",
    "[`experiment_lr.py`](https://github.com/particle1331/inefficient-networks/blob/mlops/docs/notebooks/mlops/2-mlflow/experiment_lr.py#L19-L21)\n",
    "```\n",
    "\n",
    "```python\n",
    "import mlflow\n",
    "\n",
    "mlflow.set_tracking_uri(\"sqlite:///mlflow.db\")\n",
    "mlflow.set_experiment(\"nyc-taxi-experiment\")\n",
    "```"
   ]
  },
  {
   "cell_type": "markdown",
   "metadata": {},
   "source": [
    "The next section of the code executes a **single run** of the experiment. Note the logging at the end of the script. Everything that runs inside the following context is a single run:"
   ]
  },
  {
   "cell_type": "markdown",
   "metadata": {},
   "source": [
    "```{margin}\n",
    "[`experiment_lr.py`](https://github.com/particle1331/inefficient-networks/blob/mlops/docs/notebooks/mlops/2-mlflow/experiment_lr.py#L25-L53)\n",
    "```\n",
    "```python\n",
    "with mlflow.start_run():\n",
    "\n",
    "    # Train model\n",
    "    model = LinearRegression()\n",
    "    model.fit(X_train, y_train)\n",
    "\n",
    "    # MLFlow logging\n",
    "    mlflow.set_tag('author', 'particle')\n",
    "    mlflow.set_tag('model', 'sklearn')\n",
    "    \n",
    "    mlflow.log_param('train_data_path', train_data_path)\n",
    "    mlflow.log_param('valid_data_path', valid_data_path)\n",
    "    \n",
    "    rmse_train = mean_squared_error(y_train, model.predict(X_train), squared=False)\n",
    "    rmse_valid = mean_squared_error(y_valid, model.predict(X_valid), squared=False)\n",
    "    mlflow.log_metric('rmse_train', rmse_train)\n",
    "    mlflow.log_metric('rmse_valid', rmse_valid)\n",
    "    \n",
    "    mlflow.log_artifact(ARTIFACTS_DIR / 'dict_vectorizer.pkl', artifact_path='preprocessing')\n",
    "    mlflow.log_artifact(ARTIFACTS_DIR / 'transforms.pkl',      artifact_path='preprocessing')\n",
    "    mlflow.log_artifact(ARTIFACTS_DIR / 'categorical.pkl',     artifact_path='preprocessing')\n",
    "    mlflow.log_artifact(ARTIFACTS_DIR / 'numerical.pkl',       artifact_path='preprocessing')\n",
    "    \n",
    "    fig = plot_duration_distribution(model, X_train, y_train, X_valid, y_valid)\n",
    "    fig.savefig('plot.svg')\n",
    "    mlflow.log_artifact(ARTIFACTS_DIR / 'plot.svg')\n",
    "```"
   ]
  },
  {
   "cell_type": "markdown",
   "metadata": {},
   "source": [
    "After running this script, we see in the UI as a single run under the `nyc-tax-experiment` experiment. MLFlow is able to obtain the version from `git` and the user from the system, i.e. the user that is currently logged in. The other values are obtained from the logs. "
   ]
  },
  {
   "cell_type": "markdown",
   "metadata": {},
   "source": [
    "```{figure} ../../../img/single-run-mlflow.png\n",
    "```"
   ]
  },
  {
   "cell_type": "markdown",
   "metadata": {},
   "source": [
    "If we click on the run, we can see all details about it that were logged. Shown here are the date of the run, the user that executed it, total runtime, the source code used, as well as the git commit hash. Hence, it is best practice to always commit before running experiments. This ties your runs with a specific version of the code. Status `FINISHED` indicates that the script successfully ran. These are useful metadata."
   ]
  },
  {
   "cell_type": "markdown",
   "metadata": {},
   "source": [
    "```{figure} ../../../img/mlflow-single-run.png\n",
    "```"
   ]
  },
  {
   "cell_type": "markdown",
   "metadata": {},
   "source": [
    "Regarding the details of the trained model, we have parameters which here include only the path of the dataset for training and validation (only paths, no versioning). Most importantly, we can see the logged RMSEs `5.7` (train) and `7.759` (valid). The plot of the distributions of the true and predicted distributions which we logged as a training artifact is also conveniently displayed here. Finally, we log **preprocessing artifacts** which will be needed for reproducing the preprocessing performed on the raw data."
   ]
  },
  {
   "cell_type": "markdown",
   "metadata": {},
   "source": [
    "## Experiment tracking"
   ]
  },
  {
   "cell_type": "markdown",
   "metadata": {},
   "source": [
    "In this section, we switch to a more complex XGBoost model and perform hyperparameter optimization using [Hyperopt](https://hyperopt.github.io/hyperopt/). We show how this looks in MLFlow. Note that it is easy to select the best models in an experiment by simply clicking the column header of the metrics. We also look at **auto logging** which makes logging simpler for frameworks with MLFlow integration."
   ]
  },
  {
   "cell_type": "markdown",
   "metadata": {},
   "source": [
    "### Using scikit-learn models"
   ]
  },
  {
   "cell_type": "markdown",
   "metadata": {},
   "source": [
    "To evaluate different models, we will define a `run` function that takes in parameters that define and configure a run of the experiment. Then, we define a `main` function that controls the runs that will be executed. Here the `model_class` parameter controls which scikit-learn model is used to model the dataset. Note that this connects to the same tracking URI and same experiment."
   ]
  },
  {
   "cell_type": "markdown",
   "metadata": {},
   "source": [
    "```{margin}\n",
    "[`experiment_sklearn.py`](https://github.com/particle1331/inefficient-networks/blob/mlops/docs/notebooks/mlops/2-mlflow/experiment_sklearn.py)\n",
    "```\n",
    "```python\n",
    "def setup():\n",
    "    \n",
    "    [...]\n",
    "\n",
    "    # Set experiment\n",
    "    mlflow.set_tracking_uri(\"sqlite:///mlflow.db\")\n",
    "    mlflow.set_experiment(\"nyc-taxi-experiment\")\n",
    "    mlflow.sklearn.autolog()\n",
    "\n",
    "\n",
    "def run(model_class):\n",
    "    with mlflow.start_run():\n",
    "\n",
    "        # Train model\n",
    "        model = model_class()\n",
    "        model.fit(X_train, y_train)\n",
    "\n",
    "    [...]\n",
    "\n",
    "\n",
    "def main():\n",
    "    for model_class in [\n",
    "        Ridge,\n",
    "        RandomForestRegressor, \n",
    "        GradientBoostingRegressor,\n",
    "    ]:\n",
    "        run(model_class)\n",
    "```"
   ]
  },
  {
   "cell_type": "markdown",
   "metadata": {},
   "source": [
    "`GradientBoostingRegressor` has the best validation score:"
   ]
  },
  {
   "cell_type": "markdown",
   "metadata": {},
   "source": [
    "```{figure} ../../../img/sklearn-results.png\n",
    "```"
   ]
  },
  {
   "cell_type": "markdown",
   "metadata": {},
   "source": [
    "### Tracking XGBoost runs"
   ]
  },
  {
   "cell_type": "markdown",
   "metadata": {},
   "source": [
    "From the previous runs, so far Gradient Boosted Trees has the best performance on this task. So we will try to optimize XGBoost on this dataset. In this section, we will show how to select the best model for the task. "
   ]
  },
  {
   "cell_type": "markdown",
   "metadata": {},
   "source": [
    "```{margin}\n",
    "[`experiment_sklearn.py`](https://github.com/particle1331/inefficient-networks/blob/mlops/docs/notebooks/mlops/2-mlflow/experiment_sklearn.py)\n",
    "```\n",
    "```python\n",
    "def run(model_class):\n",
    "    with mlflow.start_run():\n",
    "\n",
    "        # Train model\n",
    "        model = model_class()\n",
    "        model.fit(X_train, y_train)\n",
    "\n",
    "    # [...]\n",
    "\n",
    "\n",
    "def main():\n",
    "    for model_class in [\n",
    "        Ridge,\n",
    "        RandomForestRegressor, \n",
    "        GradientBoostingRegressor,\n",
    "    ]:\n",
    "        run(model_class)\n",
    "```"
   ]
  },
  {
   "cell_type": "markdown",
   "metadata": {},
   "source": [
    "## Model management"
   ]
  },
  {
   "cell_type": "markdown",
   "metadata": {},
   "source": [
    "In this section, we look at **model management**. In addition to experiment tracking, part of model management is to do model versioning and model deployment. Model management using file systems (which typically just involve a file name and date modified) is error prone. There is no versioning and no model lineage. Mode lineage refers to all associations between a model and all components involved in its creation.\n",
    "\n",
    "**Reading**\n",
    "* [Model and data lineage in machine learning experimentation](https://aws.amazon.com/blogs/machine-learning/model-and-data-lineage-in-machine-learning-experimentation/)"
   ]
  },
  {
   "cell_type": "markdown",
   "metadata": {},
   "source": [
    "### Autologging"
   ]
  },
  {
   "cell_type": "markdown",
   "metadata": {},
   "source": [
    "Recall that the default parameters of the `LinearRegression` model that we used in the first run that we did were not logged. To log these (and more) without doing much work, MLFlow provides the method `mlflow.sklearn.autolog()`. This also automatically logs useful information specific to the framework such all hyperparameters of the model and `estimator_class`. Model artifacts are also saved which can be used to easily deploy trained models tracked using MLFlow. "
   ]
  },
  {
   "cell_type": "markdown",
   "metadata": {},
   "source": [
    "```{figure} ../../../img/autologging-2.png\n",
    "```"
   ]
  },
  {
   "cell_type": "markdown",
   "metadata": {},
   "source": [
    "```{figure} ../../../img/autologging-1.png\n",
    "```"
   ]
  },
  {
   "cell_type": "markdown",
   "metadata": {},
   "source": [
    "`MLModel` stores information about the model, flavors, path (where model lives), and helps serve model as a Python function or a framework model. Also, package versions are stated in both `conda.yaml` and `requirements.txt` files Note that Python version used to train the model is also included. (Note that framework autologging also performs particular things such as save feature importance artifact for XGBoost.)"
   ]
  },
  {
   "cell_type": "markdown",
   "metadata": {},
   "source": [
    "### Inference"
   ]
  },
  {
   "cell_type": "markdown",
   "metadata": {},
   "source": [
    "In the following code, we try to perform inference on \"new data\" using the logged model and artifacts. \n",
    "Note that new data has no labels when processed for inference. Since we can't compute metrics, we will check output distribution to show correctness. Recall that the training set used is filtered to include rides  between 1 and 60 minutes in duration. So the following distribution should be close, but not identical:"
   ]
  },
  {
   "cell_type": "code",
   "execution_count": 41,
   "metadata": {},
   "outputs": [
    {
     "data": {
      "image/svg+xml": "<?xml version=\"1.0\" encoding=\"utf-8\" standalone=\"no\"?>\n<!DOCTYPE svg PUBLIC \"-//W3C//DTD SVG 1.1//EN\"\n  \"http://www.w3.org/Graphics/SVG/1.1/DTD/svg11.dtd\">\n<svg xmlns:xlink=\"http://www.w3.org/1999/xlink\" width=\"395.328125pt\" height=\"249.994083pt\" viewBox=\"0 0 395.328125 249.994083\" xmlns=\"http://www.w3.org/2000/svg\" version=\"1.1\">\n <metadata>\n  <rdf:RDF xmlns:dc=\"http://purl.org/dc/elements/1.1/\" xmlns:cc=\"http://creativecommons.org/ns#\" xmlns:rdf=\"http://www.w3.org/1999/02/22-rdf-syntax-ns#\">\n   <cc:Work>\n    <dc:type rdf:resource=\"http://purl.org/dc/dcmitype/StillImage\"/>\n    <dc:date>2022-05-29T17:30:11.153296</dc:date>\n    <dc:format>image/svg+xml</dc:format>\n    <dc:creator>\n     <cc:Agent>\n      <dc:title>Matplotlib v3.5.2, https://matplotlib.org/</dc:title>\n     </cc:Agent>\n    </dc:creator>\n   </cc:Work>\n  </rdf:RDF>\n </metadata>\n <defs>\n  <style type=\"text/css\">*{stroke-linejoin: round; stroke-linecap: butt}</style>\n </defs>\n <g id=\"figure_1\">\n  <g id=\"patch_1\">\n   <path d=\"M 0 249.994083 \nL 395.328125 249.994083 \nL 395.328125 0 \nL 0 0 \nL 0 249.994083 \nz\n\" style=\"fill: none\"/>\n  </g>\n  <g id=\"axes_1\">\n   <g id=\"patch_2\">\n    <path d=\"M 53.328125 226.115958 \nL 388.128125 226.115958 \nL 388.128125 8.675958 \nL 53.328125 8.675958 \nz\n\" style=\"fill: #ffffff\"/>\n   </g>\n   <g id=\"patch_3\">\n    <path d=\"M 68.546307 226.115958 \nL 71.966123 226.115958 \nL 71.966123 226.044252 \nL 68.546307 226.044252 \nz\n\" clip-path=\"url(#pbfcad84fbf)\" style=\"fill: #1f77b4; fill-opacity: 0.75; stroke: #000000; stroke-width: 0.341982; stroke-linejoin: miter\"/>\n   </g>\n   <g id=\"patch_4\">\n    <path d=\"M 71.966123 226.115958 \nL 75.385939 226.115958 \nL 75.385939 226.115958 \nL 71.966123 226.115958 \nz\n\" clip-path=\"url(#pbfcad84fbf)\" style=\"fill: #1f77b4; fill-opacity: 0.75; stroke: #000000; stroke-width: 0.341982; stroke-linejoin: miter\"/>\n   </g>\n   <g id=\"patch_5\">\n    <path d=\"M 75.385939 226.115958 \nL 78.805755 226.115958 \nL 78.805755 226.115958 \nL 75.385939 226.115958 \nz\n\" clip-path=\"url(#pbfcad84fbf)\" style=\"fill: #1f77b4; fill-opacity: 0.75; stroke: #000000; stroke-width: 0.341982; stroke-linejoin: miter\"/>\n   </g>\n   <g id=\"patch_6\">\n    <path d=\"M 78.805755 226.115958 \nL 82.225571 226.115958 \nL 82.225571 226.044252 \nL 78.805755 226.044252 \nz\n\" clip-path=\"url(#pbfcad84fbf)\" style=\"fill: #1f77b4; fill-opacity: 0.75; stroke: #000000; stroke-width: 0.341982; stroke-linejoin: miter\"/>\n   </g>\n   <g id=\"patch_7\">\n    <path d=\"M 82.225571 226.115958 \nL 85.645388 226.115958 \nL 85.645388 225.972547 \nL 82.225571 225.972547 \nz\n\" clip-path=\"url(#pbfcad84fbf)\" style=\"fill: #1f77b4; fill-opacity: 0.75; stroke: #000000; stroke-width: 0.341982; stroke-linejoin: miter\"/>\n   </g>\n   <g id=\"patch_8\">\n    <path d=\"M 85.645388 226.115958 \nL 89.065204 226.115958 \nL 89.065204 226.044252 \nL 85.645388 226.044252 \nz\n\" clip-path=\"url(#pbfcad84fbf)\" style=\"fill: #1f77b4; fill-opacity: 0.75; stroke: #000000; stroke-width: 0.341982; stroke-linejoin: miter\"/>\n   </g>\n   <g id=\"patch_9\">\n    <path d=\"M 89.065204 226.115958 \nL 92.48502 226.115958 \nL 92.48502 223.176029 \nL 89.065204 223.176029 \nz\n\" clip-path=\"url(#pbfcad84fbf)\" style=\"fill: #1f77b4; fill-opacity: 0.75; stroke: #000000; stroke-width: 0.341982; stroke-linejoin: miter\"/>\n   </g>\n   <g id=\"patch_10\">\n    <path d=\"M 92.48502 226.115958 \nL 95.904836 226.115958 \nL 95.904836 205.751573 \nL 92.48502 205.751573 \nz\n\" clip-path=\"url(#pbfcad84fbf)\" style=\"fill: #1f77b4; fill-opacity: 0.75; stroke: #000000; stroke-width: 0.341982; stroke-linejoin: miter\"/>\n   </g>\n   <g id=\"patch_11\">\n    <path d=\"M 95.904836 226.115958 \nL 99.324652 226.115958 \nL 99.324652 138.276623 \nL 95.904836 138.276623 \nz\n\" clip-path=\"url(#pbfcad84fbf)\" style=\"fill: #1f77b4; fill-opacity: 0.75; stroke: #000000; stroke-width: 0.341982; stroke-linejoin: miter\"/>\n   </g>\n   <g id=\"patch_12\">\n    <path d=\"M 99.324652 226.115958 \nL 102.744468 226.115958 \nL 102.744468 149.319282 \nL 99.324652 149.319282 \nz\n\" clip-path=\"url(#pbfcad84fbf)\" style=\"fill: #1f77b4; fill-opacity: 0.75; stroke: #000000; stroke-width: 0.341982; stroke-linejoin: miter\"/>\n   </g>\n   <g id=\"patch_13\">\n    <path d=\"M 102.744468 226.115958 \nL 106.164284 226.115958 \nL 106.164284 117.195182 \nL 102.744468 117.195182 \nz\n\" clip-path=\"url(#pbfcad84fbf)\" style=\"fill: #1f77b4; fill-opacity: 0.75; stroke: #000000; stroke-width: 0.341982; stroke-linejoin: miter\"/>\n   </g>\n   <g id=\"patch_14\">\n    <path d=\"M 106.164284 226.115958 \nL 109.5841 226.115958 \nL 109.5841 78.187347 \nL 106.164284 78.187347 \nz\n\" clip-path=\"url(#pbfcad84fbf)\" style=\"fill: #1f77b4; fill-opacity: 0.75; stroke: #000000; stroke-width: 0.341982; stroke-linejoin: miter\"/>\n   </g>\n   <g id=\"patch_15\">\n    <path d=\"M 109.5841 226.115958 \nL 113.003917 226.115958 \nL 113.003917 79.979986 \nL 109.5841 79.979986 \nz\n\" clip-path=\"url(#pbfcad84fbf)\" style=\"fill: #1f77b4; fill-opacity: 0.75; stroke: #000000; stroke-width: 0.341982; stroke-linejoin: miter\"/>\n   </g>\n   <g id=\"patch_16\">\n    <path d=\"M 113.003917 226.115958 \nL 116.423733 226.115958 \nL 116.423733 101.348249 \nL 113.003917 101.348249 \nz\n\" clip-path=\"url(#pbfcad84fbf)\" style=\"fill: #1f77b4; fill-opacity: 0.75; stroke: #000000; stroke-width: 0.341982; stroke-linejoin: miter\"/>\n   </g>\n   <g id=\"patch_17\">\n    <path d=\"M 116.423733 226.115958 \nL 119.843549 226.115958 \nL 119.843549 25.196924 \nL 116.423733 25.196924 \nz\n\" clip-path=\"url(#pbfcad84fbf)\" style=\"fill: #1f77b4; fill-opacity: 0.75; stroke: #000000; stroke-width: 0.341982; stroke-linejoin: miter\"/>\n   </g>\n   <g id=\"patch_18\">\n    <path d=\"M 119.843549 226.115958 \nL 123.263365 226.115958 \nL 123.263365 69.797794 \nL 119.843549 69.797794 \nz\n\" clip-path=\"url(#pbfcad84fbf)\" style=\"fill: #1f77b4; fill-opacity: 0.75; stroke: #000000; stroke-width: 0.341982; stroke-linejoin: miter\"/>\n   </g>\n   <g id=\"patch_19\">\n    <path d=\"M 123.263365 226.115958 \nL 126.683181 226.115958 \nL 126.683181 19.030244 \nL 123.263365 19.030244 \nz\n\" clip-path=\"url(#pbfcad84fbf)\" style=\"fill: #1f77b4; fill-opacity: 0.75; stroke: #000000; stroke-width: 0.341982; stroke-linejoin: miter\"/>\n   </g>\n   <g id=\"patch_20\">\n    <path d=\"M 126.683181 226.115958 \nL 130.102997 226.115958 \nL 130.102997 37.888811 \nL 126.683181 37.888811 \nz\n\" clip-path=\"url(#pbfcad84fbf)\" style=\"fill: #1f77b4; fill-opacity: 0.75; stroke: #000000; stroke-width: 0.341982; stroke-linejoin: miter\"/>\n   </g>\n   <g id=\"patch_21\">\n    <path d=\"M 130.102997 226.115958 \nL 133.522813 226.115958 \nL 133.522813 77.111763 \nL 130.102997 77.111763 \nz\n\" clip-path=\"url(#pbfcad84fbf)\" style=\"fill: #1f77b4; fill-opacity: 0.75; stroke: #000000; stroke-width: 0.341982; stroke-linejoin: miter\"/>\n   </g>\n   <g id=\"patch_22\">\n    <path d=\"M 133.522813 226.115958 \nL 136.94263 226.115958 \nL 136.94263 58.683429 \nL 133.522813 58.683429 \nz\n\" clip-path=\"url(#pbfcad84fbf)\" style=\"fill: #1f77b4; fill-opacity: 0.75; stroke: #000000; stroke-width: 0.341982; stroke-linejoin: miter\"/>\n   </g>\n   <g id=\"patch_23\">\n    <path d=\"M 136.94263 226.115958 \nL 140.362446 226.115958 \nL 140.362446 77.685408 \nL 136.94263 77.685408 \nz\n\" clip-path=\"url(#pbfcad84fbf)\" style=\"fill: #1f77b4; fill-opacity: 0.75; stroke: #000000; stroke-width: 0.341982; stroke-linejoin: miter\"/>\n   </g>\n   <g id=\"patch_24\">\n    <path d=\"M 140.362446 226.115958 \nL 143.782262 226.115958 \nL 143.782262 53.305511 \nL 140.362446 53.305511 \nz\n\" clip-path=\"url(#pbfcad84fbf)\" style=\"fill: #1f77b4; fill-opacity: 0.75; stroke: #000000; stroke-width: 0.341982; stroke-linejoin: miter\"/>\n   </g>\n   <g id=\"patch_25\">\n    <path d=\"M 143.782262 226.115958 \nL 147.202078 226.115958 \nL 147.202078 106.36764 \nL 143.782262 106.36764 \nz\n\" clip-path=\"url(#pbfcad84fbf)\" style=\"fill: #1f77b4; fill-opacity: 0.75; stroke: #000000; stroke-width: 0.341982; stroke-linejoin: miter\"/>\n   </g>\n   <g id=\"patch_26\">\n    <path d=\"M 147.202078 226.115958 \nL 150.621894 226.115958 \nL 150.621894 83.708677 \nL 147.202078 83.708677 \nz\n\" clip-path=\"url(#pbfcad84fbf)\" style=\"fill: #1f77b4; fill-opacity: 0.75; stroke: #000000; stroke-width: 0.341982; stroke-linejoin: miter\"/>\n   </g>\n   <g id=\"patch_27\">\n    <path d=\"M 150.621894 226.115958 \nL 154.04171 226.115958 \nL 154.04171 86.648605 \nL 150.621894 86.648605 \nz\n\" clip-path=\"url(#pbfcad84fbf)\" style=\"fill: #1f77b4; fill-opacity: 0.75; stroke: #000000; stroke-width: 0.341982; stroke-linejoin: miter\"/>\n   </g>\n   <g id=\"patch_28\">\n    <path d=\"M 154.04171 226.115958 \nL 157.461526 226.115958 \nL 157.461526 82.776504 \nL 154.04171 82.776504 \nz\n\" clip-path=\"url(#pbfcad84fbf)\" style=\"fill: #1f77b4; fill-opacity: 0.75; stroke: #000000; stroke-width: 0.341982; stroke-linejoin: miter\"/>\n   </g>\n   <g id=\"patch_29\">\n    <path d=\"M 157.461526 226.115958 \nL 160.881343 226.115958 \nL 160.881343 109.881213 \nL 157.461526 109.881213 \nz\n\" clip-path=\"url(#pbfcad84fbf)\" style=\"fill: #1f77b4; fill-opacity: 0.75; stroke: #000000; stroke-width: 0.341982; stroke-linejoin: miter\"/>\n   </g>\n   <g id=\"patch_30\">\n    <path d=\"M 160.881343 226.115958 \nL 164.301159 226.115958 \nL 164.301159 139.065384 \nL 160.881343 139.065384 \nz\n\" clip-path=\"url(#pbfcad84fbf)\" style=\"fill: #1f77b4; fill-opacity: 0.75; stroke: #000000; stroke-width: 0.341982; stroke-linejoin: miter\"/>\n   </g>\n   <g id=\"patch_31\">\n    <path d=\"M 164.301159 226.115958 \nL 167.720975 226.115958 \nL 167.720975 96.400564 \nL 164.301159 96.400564 \nz\n\" clip-path=\"url(#pbfcad84fbf)\" style=\"fill: #1f77b4; fill-opacity: 0.75; stroke: #000000; stroke-width: 0.341982; stroke-linejoin: miter\"/>\n   </g>\n   <g id=\"patch_32\">\n    <path d=\"M 167.720975 226.115958 \nL 171.140791 226.115958 \nL 171.140791 126.373497 \nL 167.720975 126.373497 \nz\n\" clip-path=\"url(#pbfcad84fbf)\" style=\"fill: #1f77b4; fill-opacity: 0.75; stroke: #000000; stroke-width: 0.341982; stroke-linejoin: miter\"/>\n   </g>\n   <g id=\"patch_33\">\n    <path d=\"M 171.140791 226.115958 \nL 174.560607 226.115958 \nL 174.560607 68.148566 \nL 171.140791 68.148566 \nz\n\" clip-path=\"url(#pbfcad84fbf)\" style=\"fill: #1f77b4; fill-opacity: 0.75; stroke: #000000; stroke-width: 0.341982; stroke-linejoin: miter\"/>\n   </g>\n   <g id=\"patch_34\">\n    <path d=\"M 174.560607 226.115958 \nL 177.980423 226.115958 \nL 177.980423 141.431668 \nL 174.560607 141.431668 \nz\n\" clip-path=\"url(#pbfcad84fbf)\" style=\"fill: #1f77b4; fill-opacity: 0.75; stroke: #000000; stroke-width: 0.341982; stroke-linejoin: miter\"/>\n   </g>\n   <g id=\"patch_35\">\n    <path d=\"M 177.980423 226.115958 \nL 181.400239 226.115958 \nL 181.400239 41.330679 \nL 177.980423 41.330679 \nz\n\" clip-path=\"url(#pbfcad84fbf)\" style=\"fill: #1f77b4; fill-opacity: 0.75; stroke: #000000; stroke-width: 0.341982; stroke-linejoin: miter\"/>\n   </g>\n   <g id=\"patch_36\">\n    <path d=\"M 181.400239 226.115958 \nL 184.820056 226.115958 \nL 184.820056 142.005313 \nL 181.400239 142.005313 \nz\n\" clip-path=\"url(#pbfcad84fbf)\" style=\"fill: #1f77b4; fill-opacity: 0.75; stroke: #000000; stroke-width: 0.341982; stroke-linejoin: miter\"/>\n   </g>\n   <g id=\"patch_37\">\n    <path d=\"M 184.820056 226.115958 \nL 188.239872 226.115958 \nL 188.239872 137.631273 \nL 184.820056 137.631273 \nz\n\" clip-path=\"url(#pbfcad84fbf)\" style=\"fill: #1f77b4; fill-opacity: 0.75; stroke: #000000; stroke-width: 0.341982; stroke-linejoin: miter\"/>\n   </g>\n   <g id=\"patch_38\">\n    <path d=\"M 188.239872 226.115958 \nL 191.659688 226.115958 \nL 191.659688 148.458815 \nL 188.239872 148.458815 \nz\n\" clip-path=\"url(#pbfcad84fbf)\" style=\"fill: #1f77b4; fill-opacity: 0.75; stroke: #000000; stroke-width: 0.341982; stroke-linejoin: miter\"/>\n   </g>\n   <g id=\"patch_39\">\n    <path d=\"M 191.659688 226.115958 \nL 195.079504 226.115958 \nL 195.079504 49.361704 \nL 191.659688 49.361704 \nz\n\" clip-path=\"url(#pbfcad84fbf)\" style=\"fill: #1f77b4; fill-opacity: 0.75; stroke: #000000; stroke-width: 0.341982; stroke-linejoin: miter\"/>\n   </g>\n   <g id=\"patch_40\">\n    <path d=\"M 195.079504 226.115958 \nL 198.49932 226.115958 \nL 198.49932 141.933607 \nL 195.079504 141.933607 \nz\n\" clip-path=\"url(#pbfcad84fbf)\" style=\"fill: #1f77b4; fill-opacity: 0.75; stroke: #000000; stroke-width: 0.341982; stroke-linejoin: miter\"/>\n   </g>\n   <g id=\"patch_41\">\n    <path d=\"M 198.49932 226.115958 \nL 201.919136 226.115958 \nL 201.919136 122.859923 \nL 198.49932 122.859923 \nz\n\" clip-path=\"url(#pbfcad84fbf)\" style=\"fill: #1f77b4; fill-opacity: 0.75; stroke: #000000; stroke-width: 0.341982; stroke-linejoin: miter\"/>\n   </g>\n   <g id=\"patch_42\">\n    <path d=\"M 201.919136 226.115958 \nL 205.338952 226.115958 \nL 205.338952 193.274802 \nL 201.919136 193.274802 \nz\n\" clip-path=\"url(#pbfcad84fbf)\" style=\"fill: #1f77b4; fill-opacity: 0.75; stroke: #000000; stroke-width: 0.341982; stroke-linejoin: miter\"/>\n   </g>\n   <g id=\"patch_43\">\n    <path d=\"M 205.338952 226.115958 \nL 208.758769 226.115958 \nL 208.758769 153.047972 \nL 205.338952 153.047972 \nz\n\" clip-path=\"url(#pbfcad84fbf)\" style=\"fill: #1f77b4; fill-opacity: 0.75; stroke: #000000; stroke-width: 0.341982; stroke-linejoin: miter\"/>\n   </g>\n   <g id=\"patch_44\">\n    <path d=\"M 208.758769 226.115958 \nL 212.178585 226.115958 \nL 212.178585 128.452958 \nL 208.758769 128.452958 \nz\n\" clip-path=\"url(#pbfcad84fbf)\" style=\"fill: #1f77b4; fill-opacity: 0.75; stroke: #000000; stroke-width: 0.341982; stroke-linejoin: miter\"/>\n   </g>\n   <g id=\"patch_45\">\n    <path d=\"M 212.178585 226.115958 \nL 215.598401 226.115958 \nL 215.598401 140.284379 \nL 212.178585 140.284379 \nz\n\" clip-path=\"url(#pbfcad84fbf)\" style=\"fill: #1f77b4; fill-opacity: 0.75; stroke: #000000; stroke-width: 0.341982; stroke-linejoin: miter\"/>\n   </g>\n   <g id=\"patch_46\">\n    <path d=\"M 215.598401 226.115958 \nL 219.018217 226.115958 \nL 219.018217 120.350228 \nL 215.598401 120.350228 \nz\n\" clip-path=\"url(#pbfcad84fbf)\" style=\"fill: #1f77b4; fill-opacity: 0.75; stroke: #000000; stroke-width: 0.341982; stroke-linejoin: miter\"/>\n   </g>\n   <g id=\"patch_47\">\n    <path d=\"M 219.018217 226.115958 \nL 222.438033 226.115958 \nL 222.438033 191.051929 \nL 219.018217 191.051929 \nz\n\" clip-path=\"url(#pbfcad84fbf)\" style=\"fill: #1f77b4; fill-opacity: 0.75; stroke: #000000; stroke-width: 0.341982; stroke-linejoin: miter\"/>\n   </g>\n   <g id=\"patch_48\">\n    <path d=\"M 222.438033 226.115958 \nL 225.857849 226.115958 \nL 225.857849 174.487941 \nL 222.438033 174.487941 \nz\n\" clip-path=\"url(#pbfcad84fbf)\" style=\"fill: #1f77b4; fill-opacity: 0.75; stroke: #000000; stroke-width: 0.341982; stroke-linejoin: miter\"/>\n   </g>\n   <g id=\"patch_49\">\n    <path d=\"M 225.857849 226.115958 \nL 229.277665 226.115958 \nL 229.277665 171.261189 \nL 225.857849 171.261189 \nz\n\" clip-path=\"url(#pbfcad84fbf)\" style=\"fill: #1f77b4; fill-opacity: 0.75; stroke: #000000; stroke-width: 0.341982; stroke-linejoin: miter\"/>\n   </g>\n   <g id=\"patch_50\">\n    <path d=\"M 229.277665 226.115958 \nL 232.697481 226.115958 \nL 232.697481 180.511209 \nL 229.277665 180.511209 \nz\n\" clip-path=\"url(#pbfcad84fbf)\" style=\"fill: #1f77b4; fill-opacity: 0.75; stroke: #000000; stroke-width: 0.341982; stroke-linejoin: miter\"/>\n   </g>\n   <g id=\"patch_51\">\n    <path d=\"M 232.697481 226.115958 \nL 236.117298 226.115958 \nL 236.117298 192.270924 \nL 232.697481 192.270924 \nz\n\" clip-path=\"url(#pbfcad84fbf)\" style=\"fill: #1f77b4; fill-opacity: 0.75; stroke: #000000; stroke-width: 0.341982; stroke-linejoin: miter\"/>\n   </g>\n   <g id=\"patch_52\">\n    <path d=\"M 236.117298 226.115958 \nL 239.537114 226.115958 \nL 239.537114 199.226366 \nL 236.117298 199.226366 \nz\n\" clip-path=\"url(#pbfcad84fbf)\" style=\"fill: #1f77b4; fill-opacity: 0.75; stroke: #000000; stroke-width: 0.341982; stroke-linejoin: miter\"/>\n   </g>\n   <g id=\"patch_53\">\n    <path d=\"M 239.537114 226.115958 \nL 242.95693 226.115958 \nL 242.95693 156.776662 \nL 239.537114 156.776662 \nz\n\" clip-path=\"url(#pbfcad84fbf)\" style=\"fill: #1f77b4; fill-opacity: 0.75; stroke: #000000; stroke-width: 0.341982; stroke-linejoin: miter\"/>\n   </g>\n   <g id=\"patch_54\">\n    <path d=\"M 242.95693 226.115958 \nL 246.376746 226.115958 \nL 246.376746 201.449239 \nL 242.95693 201.449239 \nz\n\" clip-path=\"url(#pbfcad84fbf)\" style=\"fill: #1f77b4; fill-opacity: 0.75; stroke: #000000; stroke-width: 0.341982; stroke-linejoin: miter\"/>\n   </g>\n   <g id=\"patch_55\">\n    <path d=\"M 246.376746 226.115958 \nL 249.796562 226.115958 \nL 249.796562 211.989959 \nL 246.376746 211.989959 \nz\n\" clip-path=\"url(#pbfcad84fbf)\" style=\"fill: #1f77b4; fill-opacity: 0.75; stroke: #000000; stroke-width: 0.341982; stroke-linejoin: miter\"/>\n   </g>\n   <g id=\"patch_56\">\n    <path d=\"M 249.796562 226.115958 \nL 253.216378 226.115958 \nL 253.216378 180.367798 \nL 249.796562 180.367798 \nz\n\" clip-path=\"url(#pbfcad84fbf)\" style=\"fill: #1f77b4; fill-opacity: 0.75; stroke: #000000; stroke-width: 0.341982; stroke-linejoin: miter\"/>\n   </g>\n   <g id=\"patch_57\">\n    <path d=\"M 253.216378 226.115958 \nL 256.636194 226.115958 \nL 256.636194 195.641087 \nL 253.216378 195.641087 \nz\n\" clip-path=\"url(#pbfcad84fbf)\" style=\"fill: #1f77b4; fill-opacity: 0.75; stroke: #000000; stroke-width: 0.341982; stroke-linejoin: miter\"/>\n   </g>\n   <g id=\"patch_58\">\n    <path d=\"M 256.636194 226.115958 \nL 260.056011 226.115958 \nL 260.056011 206.396924 \nL 256.636194 206.396924 \nz\n\" clip-path=\"url(#pbfcad84fbf)\" style=\"fill: #1f77b4; fill-opacity: 0.75; stroke: #000000; stroke-width: 0.341982; stroke-linejoin: miter\"/>\n   </g>\n   <g id=\"patch_59\">\n    <path d=\"M 260.056011 226.115958 \nL 263.475827 226.115958 \nL 263.475827 206.540335 \nL 260.056011 206.540335 \nz\n\" clip-path=\"url(#pbfcad84fbf)\" style=\"fill: #1f77b4; fill-opacity: 0.75; stroke: #000000; stroke-width: 0.341982; stroke-linejoin: miter\"/>\n   </g>\n   <g id=\"patch_60\">\n    <path d=\"M 263.475827 226.115958 \nL 266.895643 226.115958 \nL 266.895643 197.36202 \nL 263.475827 197.36202 \nz\n\" clip-path=\"url(#pbfcad84fbf)\" style=\"fill: #1f77b4; fill-opacity: 0.75; stroke: #000000; stroke-width: 0.341982; stroke-linejoin: miter\"/>\n   </g>\n   <g id=\"patch_61\">\n    <path d=\"M 266.895643 226.115958 \nL 270.315459 226.115958 \nL 270.315459 188.112001 \nL 266.895643 188.112001 \nz\n\" clip-path=\"url(#pbfcad84fbf)\" style=\"fill: #1f77b4; fill-opacity: 0.75; stroke: #000000; stroke-width: 0.341982; stroke-linejoin: miter\"/>\n   </g>\n   <g id=\"patch_62\">\n    <path d=\"M 270.315459 226.115958 \nL 273.735275 226.115958 \nL 273.735275 195.42597 \nL 270.315459 195.42597 \nz\n\" clip-path=\"url(#pbfcad84fbf)\" style=\"fill: #1f77b4; fill-opacity: 0.75; stroke: #000000; stroke-width: 0.341982; stroke-linejoin: miter\"/>\n   </g>\n   <g id=\"patch_63\">\n    <path d=\"M 273.735275 226.115958 \nL 277.155091 226.115958 \nL 277.155091 205.106223 \nL 273.735275 205.106223 \nz\n\" clip-path=\"url(#pbfcad84fbf)\" style=\"fill: #1f77b4; fill-opacity: 0.75; stroke: #000000; stroke-width: 0.341982; stroke-linejoin: miter\"/>\n   </g>\n   <g id=\"patch_64\">\n    <path d=\"M 277.155091 226.115958 \nL 280.574907 226.115958 \nL 280.574907 185.674011 \nL 277.155091 185.674011 \nz\n\" clip-path=\"url(#pbfcad84fbf)\" style=\"fill: #1f77b4; fill-opacity: 0.75; stroke: #000000; stroke-width: 0.341982; stroke-linejoin: miter\"/>\n   </g>\n   <g id=\"patch_65\">\n    <path d=\"M 280.574907 226.115958 \nL 283.994724 226.115958 \nL 283.994724 199.871716 \nL 280.574907 199.871716 \nz\n\" clip-path=\"url(#pbfcad84fbf)\" style=\"fill: #1f77b4; fill-opacity: 0.75; stroke: #000000; stroke-width: 0.341982; stroke-linejoin: miter\"/>\n   </g>\n   <g id=\"patch_66\">\n    <path d=\"M 283.994724 226.115958 \nL 287.41454 226.115958 \nL 287.41454 207.25739 \nL 283.994724 207.25739 \nz\n\" clip-path=\"url(#pbfcad84fbf)\" style=\"fill: #1f77b4; fill-opacity: 0.75; stroke: #000000; stroke-width: 0.341982; stroke-linejoin: miter\"/>\n   </g>\n   <g id=\"patch_67\">\n    <path d=\"M 287.41454 226.115958 \nL 290.834356 226.115958 \nL 290.834356 189.187584 \nL 287.41454 189.187584 \nz\n\" clip-path=\"url(#pbfcad84fbf)\" style=\"fill: #1f77b4; fill-opacity: 0.75; stroke: #000000; stroke-width: 0.341982; stroke-linejoin: miter\"/>\n   </g>\n   <g id=\"patch_68\">\n    <path d=\"M 290.834356 226.115958 \nL 294.254172 226.115958 \nL 294.254172 192.701158 \nL 290.834356 192.701158 \nz\n\" clip-path=\"url(#pbfcad84fbf)\" style=\"fill: #1f77b4; fill-opacity: 0.75; stroke: #000000; stroke-width: 0.341982; stroke-linejoin: miter\"/>\n   </g>\n   <g id=\"patch_69\">\n    <path d=\"M 294.254172 226.115958 \nL 297.673988 226.115958 \nL 297.673988 213.352365 \nL 294.254172 213.352365 \nz\n\" clip-path=\"url(#pbfcad84fbf)\" style=\"fill: #1f77b4; fill-opacity: 0.75; stroke: #000000; stroke-width: 0.341982; stroke-linejoin: miter\"/>\n   </g>\n   <g id=\"patch_70\">\n    <path d=\"M 297.673988 226.115958 \nL 301.093804 226.115958 \nL 301.093804 202.381411 \nL 297.673988 202.381411 \nz\n\" clip-path=\"url(#pbfcad84fbf)\" style=\"fill: #1f77b4; fill-opacity: 0.75; stroke: #000000; stroke-width: 0.341982; stroke-linejoin: miter\"/>\n   </g>\n   <g id=\"patch_71\">\n    <path d=\"M 301.093804 226.115958 \nL 304.51362 226.115958 \nL 304.51362 202.88335 \nL 301.093804 202.88335 \nz\n\" clip-path=\"url(#pbfcad84fbf)\" style=\"fill: #1f77b4; fill-opacity: 0.75; stroke: #000000; stroke-width: 0.341982; stroke-linejoin: miter\"/>\n   </g>\n   <g id=\"patch_72\">\n    <path d=\"M 304.51362 226.115958 \nL 307.933437 226.115958 \nL 307.933437 190.765107 \nL 304.51362 190.765107 \nz\n\" clip-path=\"url(#pbfcad84fbf)\" style=\"fill: #1f77b4; fill-opacity: 0.75; stroke: #000000; stroke-width: 0.341982; stroke-linejoin: miter\"/>\n   </g>\n   <g id=\"patch_73\">\n    <path d=\"M 307.933437 226.115958 \nL 311.353253 226.115958 \nL 311.353253 218.013227 \nL 307.933437 218.013227 \nz\n\" clip-path=\"url(#pbfcad84fbf)\" style=\"fill: #1f77b4; fill-opacity: 0.75; stroke: #000000; stroke-width: 0.341982; stroke-linejoin: miter\"/>\n   </g>\n   <g id=\"patch_74\">\n    <path d=\"M 311.353253 226.115958 \nL 314.773069 226.115958 \nL 314.773069 217.726405 \nL 311.353253 217.726405 \nz\n\" clip-path=\"url(#pbfcad84fbf)\" style=\"fill: #1f77b4; fill-opacity: 0.75; stroke: #000000; stroke-width: 0.341982; stroke-linejoin: miter\"/>\n   </g>\n   <g id=\"patch_75\">\n    <path d=\"M 314.773069 226.115958 \nL 318.192885 226.115958 \nL 318.192885 205.894984 \nL 314.773069 205.894984 \nz\n\" clip-path=\"url(#pbfcad84fbf)\" style=\"fill: #1f77b4; fill-opacity: 0.75; stroke: #000000; stroke-width: 0.341982; stroke-linejoin: miter\"/>\n   </g>\n   <g id=\"patch_76\">\n    <path d=\"M 318.192885 226.115958 \nL 321.612701 226.115958 \nL 321.612701 219.949278 \nL 318.192885 219.949278 \nz\n\" clip-path=\"url(#pbfcad84fbf)\" style=\"fill: #1f77b4; fill-opacity: 0.75; stroke: #000000; stroke-width: 0.341982; stroke-linejoin: miter\"/>\n   </g>\n   <g id=\"patch_77\">\n    <path d=\"M 321.612701 226.115958 \nL 325.032517 226.115958 \nL 325.032517 219.949278 \nL 321.612701 219.949278 \nz\n\" clip-path=\"url(#pbfcad84fbf)\" style=\"fill: #1f77b4; fill-opacity: 0.75; stroke: #000000; stroke-width: 0.341982; stroke-linejoin: miter\"/>\n   </g>\n   <g id=\"patch_78\">\n    <path d=\"M 325.032517 226.115958 \nL 328.452333 226.115958 \nL 328.452333 216.50741 \nL 325.032517 216.50741 \nz\n\" clip-path=\"url(#pbfcad84fbf)\" style=\"fill: #1f77b4; fill-opacity: 0.75; stroke: #000000; stroke-width: 0.341982; stroke-linejoin: miter\"/>\n   </g>\n   <g id=\"patch_79\">\n    <path d=\"M 328.452333 226.115958 \nL 331.87215 226.115958 \nL 331.87215 218.156639 \nL 328.452333 218.156639 \nz\n\" clip-path=\"url(#pbfcad84fbf)\" style=\"fill: #1f77b4; fill-opacity: 0.75; stroke: #000000; stroke-width: 0.341982; stroke-linejoin: miter\"/>\n   </g>\n   <g id=\"patch_80\">\n    <path d=\"M 331.87215 226.115958 \nL 335.291966 226.115958 \nL 335.291966 197.075198 \nL 331.87215 197.075198 \nz\n\" clip-path=\"url(#pbfcad84fbf)\" style=\"fill: #1f77b4; fill-opacity: 0.75; stroke: #000000; stroke-width: 0.341982; stroke-linejoin: miter\"/>\n   </g>\n   <g id=\"patch_81\">\n    <path d=\"M 335.291966 226.115958 \nL 338.711782 226.115958 \nL 338.711782 219.447339 \nL 335.291966 219.447339 \nz\n\" clip-path=\"url(#pbfcad84fbf)\" style=\"fill: #1f77b4; fill-opacity: 0.75; stroke: #000000; stroke-width: 0.341982; stroke-linejoin: miter\"/>\n   </g>\n   <g id=\"patch_82\">\n    <path d=\"M 338.711782 226.115958 \nL 342.131598 226.115958 \nL 342.131598 220.522923 \nL 338.711782 220.522923 \nz\n\" clip-path=\"url(#pbfcad84fbf)\" style=\"fill: #1f77b4; fill-opacity: 0.75; stroke: #000000; stroke-width: 0.341982; stroke-linejoin: miter\"/>\n   </g>\n   <g id=\"patch_83\">\n    <path d=\"M 342.131598 226.115958 \nL 345.551414 226.115958 \nL 345.551414 220.092689 \nL 342.131598 220.092689 \nz\n\" clip-path=\"url(#pbfcad84fbf)\" style=\"fill: #1f77b4; fill-opacity: 0.75; stroke: #000000; stroke-width: 0.341982; stroke-linejoin: miter\"/>\n   </g>\n   <g id=\"patch_84\">\n    <path d=\"M 345.551414 226.115958 \nL 348.97123 226.115958 \nL 348.97123 222.602385 \nL 345.551414 222.602385 \nz\n\" clip-path=\"url(#pbfcad84fbf)\" style=\"fill: #1f77b4; fill-opacity: 0.75; stroke: #000000; stroke-width: 0.341982; stroke-linejoin: miter\"/>\n   </g>\n   <g id=\"patch_85\">\n    <path d=\"M 348.97123 226.115958 \nL 352.391046 226.115958 \nL 352.391046 223.606263 \nL 348.97123 223.606263 \nz\n\" clip-path=\"url(#pbfcad84fbf)\" style=\"fill: #1f77b4; fill-opacity: 0.75; stroke: #000000; stroke-width: 0.341982; stroke-linejoin: miter\"/>\n   </g>\n   <g id=\"patch_86\">\n    <path d=\"M 352.391046 226.115958 \nL 355.810862 226.115958 \nL 355.810862 225.327197 \nL 352.391046 225.327197 \nz\n\" clip-path=\"url(#pbfcad84fbf)\" style=\"fill: #1f77b4; fill-opacity: 0.75; stroke: #000000; stroke-width: 0.341982; stroke-linejoin: miter\"/>\n   </g>\n   <g id=\"patch_87\">\n    <path d=\"M 355.810862 226.115958 \nL 359.230679 226.115958 \nL 359.230679 224.753552 \nL 355.810862 224.753552 \nz\n\" clip-path=\"url(#pbfcad84fbf)\" style=\"fill: #1f77b4; fill-opacity: 0.75; stroke: #000000; stroke-width: 0.341982; stroke-linejoin: miter\"/>\n   </g>\n   <g id=\"patch_88\">\n    <path d=\"M 359.230679 226.115958 \nL 362.650495 226.115958 \nL 362.650495 224.681846 \nL 359.230679 224.681846 \nz\n\" clip-path=\"url(#pbfcad84fbf)\" style=\"fill: #1f77b4; fill-opacity: 0.75; stroke: #000000; stroke-width: 0.341982; stroke-linejoin: miter\"/>\n   </g>\n   <g id=\"patch_89\">\n    <path d=\"M 362.650495 226.115958 \nL 366.070311 226.115958 \nL 366.070311 225.685724 \nL 362.650495 225.685724 \nz\n\" clip-path=\"url(#pbfcad84fbf)\" style=\"fill: #1f77b4; fill-opacity: 0.75; stroke: #000000; stroke-width: 0.341982; stroke-linejoin: miter\"/>\n   </g>\n   <g id=\"patch_90\">\n    <path d=\"M 366.070311 226.115958 \nL 369.490127 226.115958 \nL 369.490127 225.829136 \nL 366.070311 225.829136 \nz\n\" clip-path=\"url(#pbfcad84fbf)\" style=\"fill: #1f77b4; fill-opacity: 0.75; stroke: #000000; stroke-width: 0.341982; stroke-linejoin: miter\"/>\n   </g>\n   <g id=\"patch_91\">\n    <path d=\"M 369.490127 226.115958 \nL 372.909943 226.115958 \nL 372.909943 225.614019 \nL 369.490127 225.614019 \nz\n\" clip-path=\"url(#pbfcad84fbf)\" style=\"fill: #1f77b4; fill-opacity: 0.75; stroke: #000000; stroke-width: 0.341982; stroke-linejoin: miter\"/>\n   </g>\n   <g id=\"patch_92\">\n    <path d=\"M 92.067944 226.115958 \nL 95.451582 226.115958 \nL 95.451582 219.160517 \nL 92.067944 219.160517 \nz\n\" clip-path=\"url(#pbfcad84fbf)\" style=\"fill: #ff7f0e; fill-opacity: 0.75; stroke: #000000; stroke-width: 0.338364; stroke-linejoin: miter\"/>\n   </g>\n   <g id=\"patch_93\">\n    <path d=\"M 95.451582 226.115958 \nL 98.835221 226.115958 \nL 98.835221 187.036417 \nL 95.451582 187.036417 \nz\n\" clip-path=\"url(#pbfcad84fbf)\" style=\"fill: #ff7f0e; fill-opacity: 0.75; stroke: #000000; stroke-width: 0.338364; stroke-linejoin: miter\"/>\n   </g>\n   <g id=\"patch_94\">\n    <path d=\"M 98.835221 226.115958 \nL 102.218859 226.115958 \nL 102.218859 135.4084 \nL 98.835221 135.4084 \nz\n\" clip-path=\"url(#pbfcad84fbf)\" style=\"fill: #ff7f0e; fill-opacity: 0.75; stroke: #000000; stroke-width: 0.338364; stroke-linejoin: miter\"/>\n   </g>\n   <g id=\"patch_95\">\n    <path d=\"M 102.218859 226.115958 \nL 105.602498 226.115958 \nL 105.602498 114.326959 \nL 102.218859 114.326959 \nz\n\" clip-path=\"url(#pbfcad84fbf)\" style=\"fill: #ff7f0e; fill-opacity: 0.75; stroke: #000000; stroke-width: 0.338364; stroke-linejoin: miter\"/>\n   </g>\n   <g id=\"patch_96\">\n    <path d=\"M 105.602498 226.115958 \nL 108.986137 226.115958 \nL 108.986137 88.082717 \nL 105.602498 88.082717 \nz\n\" clip-path=\"url(#pbfcad84fbf)\" style=\"fill: #ff7f0e; fill-opacity: 0.75; stroke: #000000; stroke-width: 0.338364; stroke-linejoin: miter\"/>\n   </g>\n   <g id=\"patch_97\">\n    <path d=\"M 108.986137 226.115958 \nL 112.369775 226.115958 \nL 112.369775 102.567244 \nL 108.986137 102.567244 \nz\n\" clip-path=\"url(#pbfcad84fbf)\" style=\"fill: #ff7f0e; fill-opacity: 0.75; stroke: #000000; stroke-width: 0.338364; stroke-linejoin: miter\"/>\n   </g>\n   <g id=\"patch_98\">\n    <path d=\"M 112.369775 226.115958 \nL 115.753414 226.115958 \nL 115.753414 79.76487 \nL 112.369775 79.76487 \nz\n\" clip-path=\"url(#pbfcad84fbf)\" style=\"fill: #ff7f0e; fill-opacity: 0.75; stroke: #000000; stroke-width: 0.338364; stroke-linejoin: miter\"/>\n   </g>\n   <g id=\"patch_99\">\n    <path d=\"M 115.753414 226.115958 \nL 119.137052 226.115958 \nL 119.137052 65.495459 \nL 115.753414 65.495459 \nz\n\" clip-path=\"url(#pbfcad84fbf)\" style=\"fill: #ff7f0e; fill-opacity: 0.75; stroke: #000000; stroke-width: 0.338364; stroke-linejoin: miter\"/>\n   </g>\n   <g id=\"patch_100\">\n    <path d=\"M 119.137052 226.115958 \nL 122.520691 226.115958 \nL 122.520691 52.301633 \nL 119.137052 52.301633 \nz\n\" clip-path=\"url(#pbfcad84fbf)\" style=\"fill: #ff7f0e; fill-opacity: 0.75; stroke: #000000; stroke-width: 0.338364; stroke-linejoin: miter\"/>\n   </g>\n   <g id=\"patch_101\">\n    <path d=\"M 122.520691 226.115958 \nL 125.904329 226.115958 \nL 125.904329 40.613623 \nL 122.520691 40.613623 \nz\n\" clip-path=\"url(#pbfcad84fbf)\" style=\"fill: #ff7f0e; fill-opacity: 0.75; stroke: #000000; stroke-width: 0.338364; stroke-linejoin: miter\"/>\n   </g>\n   <g id=\"patch_102\">\n    <path d=\"M 125.904329 226.115958 \nL 129.287968 226.115958 \nL 129.287968 30.789959 \nL 125.904329 30.789959 \nz\n\" clip-path=\"url(#pbfcad84fbf)\" style=\"fill: #ff7f0e; fill-opacity: 0.75; stroke: #000000; stroke-width: 0.338364; stroke-linejoin: miter\"/>\n   </g>\n   <g id=\"patch_103\">\n    <path d=\"M 129.287968 226.115958 \nL 132.671606 226.115958 \nL 132.671606 78.689286 \nL 129.287968 78.689286 \nz\n\" clip-path=\"url(#pbfcad84fbf)\" style=\"fill: #ff7f0e; fill-opacity: 0.75; stroke: #000000; stroke-width: 0.338364; stroke-linejoin: miter\"/>\n   </g>\n   <g id=\"patch_104\">\n    <path d=\"M 132.671606 226.115958 \nL 136.055245 226.115958 \nL 136.055245 55.958617 \nL 132.671606 55.958617 \nz\n\" clip-path=\"url(#pbfcad84fbf)\" style=\"fill: #ff7f0e; fill-opacity: 0.75; stroke: #000000; stroke-width: 0.338364; stroke-linejoin: miter\"/>\n   </g>\n   <g id=\"patch_105\">\n    <path d=\"M 136.055245 226.115958 \nL 139.438883 226.115958 \nL 139.438883 71.948962 \nL 136.055245 71.948962 \nz\n\" clip-path=\"url(#pbfcad84fbf)\" style=\"fill: #ff7f0e; fill-opacity: 0.75; stroke: #000000; stroke-width: 0.338364; stroke-linejoin: miter\"/>\n   </g>\n   <g id=\"patch_106\">\n    <path d=\"M 139.438883 226.115958 \nL 142.822522 226.115958 \nL 142.822522 98.91026 \nL 139.438883 98.91026 \nz\n\" clip-path=\"url(#pbfcad84fbf)\" style=\"fill: #ff7f0e; fill-opacity: 0.75; stroke: #000000; stroke-width: 0.338364; stroke-linejoin: miter\"/>\n   </g>\n   <g id=\"patch_107\">\n    <path d=\"M 142.822522 226.115958 \nL 146.206161 226.115958 \nL 146.206161 61.766769 \nL 142.822522 61.766769 \nz\n\" clip-path=\"url(#pbfcad84fbf)\" style=\"fill: #ff7f0e; fill-opacity: 0.75; stroke: #000000; stroke-width: 0.338364; stroke-linejoin: miter\"/>\n   </g>\n   <g id=\"patch_108\">\n    <path d=\"M 146.206161 226.115958 \nL 149.589799 226.115958 \nL 149.589799 91.237762 \nL 146.206161 91.237762 \nz\n\" clip-path=\"url(#pbfcad84fbf)\" style=\"fill: #ff7f0e; fill-opacity: 0.75; stroke: #000000; stroke-width: 0.338364; stroke-linejoin: miter\"/>\n   </g>\n   <g id=\"patch_109\">\n    <path d=\"M 149.589799 226.115958 \nL 152.973438 226.115958 \nL 152.973438 105.220351 \nL 149.589799 105.220351 \nz\n\" clip-path=\"url(#pbfcad84fbf)\" style=\"fill: #ff7f0e; fill-opacity: 0.75; stroke: #000000; stroke-width: 0.338364; stroke-linejoin: miter\"/>\n   </g>\n   <g id=\"patch_110\">\n    <path d=\"M 152.973438 226.115958 \nL 156.357076 226.115958 \nL 156.357076 86.720311 \nL 152.973438 86.720311 \nz\n\" clip-path=\"url(#pbfcad84fbf)\" style=\"fill: #ff7f0e; fill-opacity: 0.75; stroke: #000000; stroke-width: 0.338364; stroke-linejoin: miter\"/>\n   </g>\n   <g id=\"patch_111\">\n    <path d=\"M 156.357076 226.115958 \nL 159.740715 226.115958 \nL 159.740715 139.78244 \nL 156.357076 139.78244 \nz\n\" clip-path=\"url(#pbfcad84fbf)\" style=\"fill: #ff7f0e; fill-opacity: 0.75; stroke: #000000; stroke-width: 0.338364; stroke-linejoin: miter\"/>\n   </g>\n   <g id=\"patch_112\">\n    <path d=\"M 159.740715 226.115958 \nL 163.124353 226.115958 \nL 163.124353 112.319203 \nL 159.740715 112.319203 \nz\n\" clip-path=\"url(#pbfcad84fbf)\" style=\"fill: #ff7f0e; fill-opacity: 0.75; stroke: #000000; stroke-width: 0.338364; stroke-linejoin: miter\"/>\n   </g>\n   <g id=\"patch_113\">\n    <path d=\"M 163.124353 226.115958 \nL 166.507992 226.115958 \nL 166.507992 108.375396 \nL 163.124353 108.375396 \nz\n\" clip-path=\"url(#pbfcad84fbf)\" style=\"fill: #ff7f0e; fill-opacity: 0.75; stroke: #000000; stroke-width: 0.338364; stroke-linejoin: miter\"/>\n   </g>\n   <g id=\"patch_114\">\n    <path d=\"M 166.507992 226.115958 \nL 169.89163 226.115958 \nL 169.89163 125.799852 \nL 166.507992 125.799852 \nz\n\" clip-path=\"url(#pbfcad84fbf)\" style=\"fill: #ff7f0e; fill-opacity: 0.75; stroke: #000000; stroke-width: 0.338364; stroke-linejoin: miter\"/>\n   </g>\n   <g id=\"patch_115\">\n    <path d=\"M 169.89163 226.115958 \nL 173.275269 226.115958 \nL 173.275269 105.72229 \nL 169.89163 105.72229 \nz\n\" clip-path=\"url(#pbfcad84fbf)\" style=\"fill: #ff7f0e; fill-opacity: 0.75; stroke: #000000; stroke-width: 0.338364; stroke-linejoin: miter\"/>\n   </g>\n   <g id=\"patch_116\">\n    <path d=\"M 173.275269 226.115958 \nL 176.658907 226.115958 \nL 176.658907 82.704798 \nL 173.275269 82.704798 \nz\n\" clip-path=\"url(#pbfcad84fbf)\" style=\"fill: #ff7f0e; fill-opacity: 0.75; stroke: #000000; stroke-width: 0.338364; stroke-linejoin: miter\"/>\n   </g>\n   <g id=\"patch_117\">\n    <path d=\"M 176.658907 226.115958 \nL 180.042546 226.115958 \nL 180.042546 95.755214 \nL 176.658907 95.755214 \nz\n\" clip-path=\"url(#pbfcad84fbf)\" style=\"fill: #ff7f0e; fill-opacity: 0.75; stroke: #000000; stroke-width: 0.338364; stroke-linejoin: miter\"/>\n   </g>\n   <g id=\"patch_118\">\n    <path d=\"M 180.042546 226.115958 \nL 183.426185 226.115958 \nL 183.426185 108.231985 \nL 180.042546 108.231985 \nz\n\" clip-path=\"url(#pbfcad84fbf)\" style=\"fill: #ff7f0e; fill-opacity: 0.75; stroke: #000000; stroke-width: 0.338364; stroke-linejoin: miter\"/>\n   </g>\n   <g id=\"patch_119\">\n    <path d=\"M 183.426185 226.115958 \nL 186.809823 226.115958 \nL 186.809823 181.515087 \nL 183.426185 181.515087 \nz\n\" clip-path=\"url(#pbfcad84fbf)\" style=\"fill: #ff7f0e; fill-opacity: 0.75; stroke: #000000; stroke-width: 0.338364; stroke-linejoin: miter\"/>\n   </g>\n   <g id=\"patch_120\">\n    <path d=\"M 186.809823 226.115958 \nL 190.193462 226.115958 \nL 190.193462 109.952919 \nL 186.809823 109.952919 \nz\n\" clip-path=\"url(#pbfcad84fbf)\" style=\"fill: #ff7f0e; fill-opacity: 0.75; stroke: #000000; stroke-width: 0.338364; stroke-linejoin: miter\"/>\n   </g>\n   <g id=\"patch_121\">\n    <path d=\"M 190.193462 226.115958 \nL 193.5771 226.115958 \nL 193.5771 102.710655 \nL 190.193462 102.710655 \nz\n\" clip-path=\"url(#pbfcad84fbf)\" style=\"fill: #ff7f0e; fill-opacity: 0.75; stroke: #000000; stroke-width: 0.338364; stroke-linejoin: miter\"/>\n   </g>\n   <g id=\"patch_122\">\n    <path d=\"M 193.5771 226.115958 \nL 196.960739 226.115958 \nL 196.960739 104.575 \nL 193.5771 104.575 \nz\n\" clip-path=\"url(#pbfcad84fbf)\" style=\"fill: #ff7f0e; fill-opacity: 0.75; stroke: #000000; stroke-width: 0.338364; stroke-linejoin: miter\"/>\n   </g>\n   <g id=\"patch_123\">\n    <path d=\"M 196.960739 226.115958 \nL 200.344377 226.115958 \nL 200.344377 137.631273 \nL 196.960739 137.631273 \nz\n\" clip-path=\"url(#pbfcad84fbf)\" style=\"fill: #ff7f0e; fill-opacity: 0.75; stroke: #000000; stroke-width: 0.338364; stroke-linejoin: miter\"/>\n   </g>\n   <g id=\"patch_124\">\n    <path d=\"M 200.344377 226.115958 \nL 203.728016 226.115958 \nL 203.728016 155.629373 \nL 200.344377 155.629373 \nz\n\" clip-path=\"url(#pbfcad84fbf)\" style=\"fill: #ff7f0e; fill-opacity: 0.75; stroke: #000000; stroke-width: 0.338364; stroke-linejoin: miter\"/>\n   </g>\n   <g id=\"patch_125\">\n    <path d=\"M 203.728016 226.115958 \nL 207.111654 226.115958 \nL 207.111654 193.63333 \nL 203.728016 193.63333 \nz\n\" clip-path=\"url(#pbfcad84fbf)\" style=\"fill: #ff7f0e; fill-opacity: 0.75; stroke: #000000; stroke-width: 0.338364; stroke-linejoin: miter\"/>\n   </g>\n   <g id=\"patch_126\">\n    <path d=\"M 207.111654 226.115958 \nL 210.495293 226.115958 \nL 210.495293 111.38703 \nL 207.111654 111.38703 \nz\n\" clip-path=\"url(#pbfcad84fbf)\" style=\"fill: #ff7f0e; fill-opacity: 0.75; stroke: #000000; stroke-width: 0.338364; stroke-linejoin: miter\"/>\n   </g>\n   <g id=\"patch_127\">\n    <path d=\"M 210.495293 226.115958 \nL 213.878932 226.115958 \nL 213.878932 171.834834 \nL 210.495293 171.834834 \nz\n\" clip-path=\"url(#pbfcad84fbf)\" style=\"fill: #ff7f0e; fill-opacity: 0.75; stroke: #000000; stroke-width: 0.338364; stroke-linejoin: miter\"/>\n   </g>\n   <g id=\"patch_128\">\n    <path d=\"M 213.878932 226.115958 \nL 217.26257 226.115958 \nL 217.26257 69.367561 \nL 213.878932 69.367561 \nz\n\" clip-path=\"url(#pbfcad84fbf)\" style=\"fill: #ff7f0e; fill-opacity: 0.75; stroke: #000000; stroke-width: 0.338364; stroke-linejoin: miter\"/>\n   </g>\n   <g id=\"patch_129\">\n    <path d=\"M 217.26257 226.115958 \nL 220.646209 226.115958 \nL 220.646209 184.741838 \nL 217.26257 184.741838 \nz\n\" clip-path=\"url(#pbfcad84fbf)\" style=\"fill: #ff7f0e; fill-opacity: 0.75; stroke: #000000; stroke-width: 0.338364; stroke-linejoin: miter\"/>\n   </g>\n   <g id=\"patch_130\">\n    <path d=\"M 220.646209 226.115958 \nL 224.029847 226.115958 \nL 224.029847 176.639108 \nL 220.646209 176.639108 \nz\n\" clip-path=\"url(#pbfcad84fbf)\" style=\"fill: #ff7f0e; fill-opacity: 0.75; stroke: #000000; stroke-width: 0.338364; stroke-linejoin: miter\"/>\n   </g>\n   <g id=\"patch_131\">\n    <path d=\"M 224.029847 226.115958 \nL 227.413486 226.115958 \nL 227.413486 168.464672 \nL 224.029847 168.464672 \nz\n\" clip-path=\"url(#pbfcad84fbf)\" style=\"fill: #ff7f0e; fill-opacity: 0.75; stroke: #000000; stroke-width: 0.338364; stroke-linejoin: miter\"/>\n   </g>\n   <g id=\"patch_132\">\n    <path d=\"M 227.413486 226.115958 \nL 230.797124 226.115958 \nL 230.797124 208.619797 \nL 227.413486 208.619797 \nz\n\" clip-path=\"url(#pbfcad84fbf)\" style=\"fill: #ff7f0e; fill-opacity: 0.75; stroke: #000000; stroke-width: 0.338364; stroke-linejoin: miter\"/>\n   </g>\n   <g id=\"patch_133\">\n    <path d=\"M 230.797124 226.115958 \nL 234.180763 226.115958 \nL 234.180763 174.631352 \nL 230.797124 174.631352 \nz\n\" clip-path=\"url(#pbfcad84fbf)\" style=\"fill: #ff7f0e; fill-opacity: 0.75; stroke: #000000; stroke-width: 0.338364; stroke-linejoin: miter\"/>\n   </g>\n   <g id=\"patch_134\">\n    <path d=\"M 234.180763 226.115958 \nL 237.564401 226.115958 \nL 237.564401 196.286437 \nL 234.180763 196.286437 \nz\n\" clip-path=\"url(#pbfcad84fbf)\" style=\"fill: #ff7f0e; fill-opacity: 0.75; stroke: #000000; stroke-width: 0.338364; stroke-linejoin: miter\"/>\n   </g>\n   <g id=\"patch_135\">\n    <path d=\"M 237.564401 226.115958 \nL 240.94804 226.115958 \nL 240.94804 201.807766 \nL 237.564401 201.807766 \nz\n\" clip-path=\"url(#pbfcad84fbf)\" style=\"fill: #ff7f0e; fill-opacity: 0.75; stroke: #000000; stroke-width: 0.338364; stroke-linejoin: miter\"/>\n   </g>\n   <g id=\"patch_136\">\n    <path d=\"M 240.94804 226.115958 \nL 244.331678 226.115958 \nL 244.331678 163.516987 \nL 240.94804 163.516987 \nz\n\" clip-path=\"url(#pbfcad84fbf)\" style=\"fill: #ff7f0e; fill-opacity: 0.75; stroke: #000000; stroke-width: 0.338364; stroke-linejoin: miter\"/>\n   </g>\n   <g id=\"patch_137\">\n    <path d=\"M 244.331678 226.115958 \nL 247.715317 226.115958 \nL 247.715317 203.026761 \nL 244.331678 203.026761 \nz\n\" clip-path=\"url(#pbfcad84fbf)\" style=\"fill: #ff7f0e; fill-opacity: 0.75; stroke: #000000; stroke-width: 0.338364; stroke-linejoin: miter\"/>\n   </g>\n   <g id=\"patch_138\">\n    <path d=\"M 247.715317 226.115958 \nL 251.098956 226.115958 \nL 251.098956 201.019005 \nL 247.715317 201.019005 \nz\n\" clip-path=\"url(#pbfcad84fbf)\" style=\"fill: #ff7f0e; fill-opacity: 0.75; stroke: #000000; stroke-width: 0.338364; stroke-linejoin: miter\"/>\n   </g>\n   <g id=\"patch_139\">\n    <path d=\"M 251.098956 226.115958 \nL 254.482594 226.115958 \nL 254.482594 193.489919 \nL 251.098956 193.489919 \nz\n\" clip-path=\"url(#pbfcad84fbf)\" style=\"fill: #ff7f0e; fill-opacity: 0.75; stroke: #000000; stroke-width: 0.338364; stroke-linejoin: miter\"/>\n   </g>\n   <g id=\"patch_140\">\n    <path d=\"M 254.482594 226.115958 \nL 257.866233 226.115958 \nL 257.866233 198.150782 \nL 254.482594 198.150782 \nz\n\" clip-path=\"url(#pbfcad84fbf)\" style=\"fill: #ff7f0e; fill-opacity: 0.75; stroke: #000000; stroke-width: 0.338364; stroke-linejoin: miter\"/>\n   </g>\n   <g id=\"patch_141\">\n    <path d=\"M 257.866233 226.115958 \nL 261.249871 226.115958 \nL 261.249871 202.811645 \nL 257.866233 202.811645 \nz\n\" clip-path=\"url(#pbfcad84fbf)\" style=\"fill: #ff7f0e; fill-opacity: 0.75; stroke: #000000; stroke-width: 0.338364; stroke-linejoin: miter\"/>\n   </g>\n   <g id=\"patch_142\">\n    <path d=\"M 261.249871 226.115958 \nL 264.63351 226.115958 \nL 264.63351 212.491898 \nL 261.249871 212.491898 \nz\n\" clip-path=\"url(#pbfcad84fbf)\" style=\"fill: #ff7f0e; fill-opacity: 0.75; stroke: #000000; stroke-width: 0.338364; stroke-linejoin: miter\"/>\n   </g>\n   <g id=\"patch_143\">\n    <path d=\"M 264.63351 226.115958 \nL 268.017148 226.115958 \nL 268.017148 195.497675 \nL 264.63351 195.497675 \nz\n\" clip-path=\"url(#pbfcad84fbf)\" style=\"fill: #ff7f0e; fill-opacity: 0.75; stroke: #000000; stroke-width: 0.338364; stroke-linejoin: miter\"/>\n   </g>\n   <g id=\"patch_144\">\n    <path d=\"M 268.017148 226.115958 \nL 271.400787 226.115958 \nL 271.400787 191.482163 \nL 268.017148 191.482163 \nz\n\" clip-path=\"url(#pbfcad84fbf)\" style=\"fill: #ff7f0e; fill-opacity: 0.75; stroke: #000000; stroke-width: 0.338364; stroke-linejoin: miter\"/>\n   </g>\n   <g id=\"patch_145\">\n    <path d=\"M 271.400787 226.115958 \nL 274.784425 226.115958 \nL 274.784425 194.852325 \nL 271.400787 194.852325 \nz\n\" clip-path=\"url(#pbfcad84fbf)\" style=\"fill: #ff7f0e; fill-opacity: 0.75; stroke: #000000; stroke-width: 0.338364; stroke-linejoin: miter\"/>\n   </g>\n   <g id=\"patch_146\">\n    <path d=\"M 274.784425 226.115958 \nL 278.168064 226.115958 \nL 278.168064 189.402701 \nL 274.784425 189.402701 \nz\n\" clip-path=\"url(#pbfcad84fbf)\" style=\"fill: #ff7f0e; fill-opacity: 0.75; stroke: #000000; stroke-width: 0.338364; stroke-linejoin: miter\"/>\n   </g>\n   <g id=\"patch_147\">\n    <path d=\"M 278.168064 226.115958 \nL 281.551702 226.115958 \nL 281.551702 208.046152 \nL 278.168064 208.046152 \nz\n\" clip-path=\"url(#pbfcad84fbf)\" style=\"fill: #ff7f0e; fill-opacity: 0.75; stroke: #000000; stroke-width: 0.338364; stroke-linejoin: miter\"/>\n   </g>\n   <g id=\"patch_148\">\n    <path d=\"M 281.551702 226.115958 \nL 284.935341 226.115958 \nL 284.935341 194.422092 \nL 281.551702 194.422092 \nz\n\" clip-path=\"url(#pbfcad84fbf)\" style=\"fill: #ff7f0e; fill-opacity: 0.75; stroke: #000000; stroke-width: 0.338364; stroke-linejoin: miter\"/>\n   </g>\n   <g id=\"patch_149\">\n    <path d=\"M 284.935341 226.115958 \nL 288.31898 226.115958 \nL 288.31898 203.958934 \nL 284.935341 203.958934 \nz\n\" clip-path=\"url(#pbfcad84fbf)\" style=\"fill: #ff7f0e; fill-opacity: 0.75; stroke: #000000; stroke-width: 0.338364; stroke-linejoin: miter\"/>\n   </g>\n   <g id=\"patch_150\">\n    <path d=\"M 288.31898 226.115958 \nL 291.702618 226.115958 \nL 291.702618 197.935665 \nL 288.31898 197.935665 \nz\n\" clip-path=\"url(#pbfcad84fbf)\" style=\"fill: #ff7f0e; fill-opacity: 0.75; stroke: #000000; stroke-width: 0.338364; stroke-linejoin: miter\"/>\n   </g>\n   <g id=\"patch_151\">\n    <path d=\"M 291.702618 226.115958 \nL 295.086257 226.115958 \nL 295.086257 201.019005 \nL 291.702618 201.019005 \nz\n\" clip-path=\"url(#pbfcad84fbf)\" style=\"fill: #ff7f0e; fill-opacity: 0.75; stroke: #000000; stroke-width: 0.338364; stroke-linejoin: miter\"/>\n   </g>\n   <g id=\"patch_152\">\n    <path d=\"M 295.086257 226.115958 \nL 298.469895 226.115958 \nL 298.469895 215.646943 \nL 295.086257 215.646943 \nz\n\" clip-path=\"url(#pbfcad84fbf)\" style=\"fill: #ff7f0e; fill-opacity: 0.75; stroke: #000000; stroke-width: 0.338364; stroke-linejoin: miter\"/>\n   </g>\n   <g id=\"patch_153\">\n    <path d=\"M 298.469895 226.115958 \nL 301.853534 226.115958 \nL 301.853534 205.894984 \nL 298.469895 205.894984 \nz\n\" clip-path=\"url(#pbfcad84fbf)\" style=\"fill: #ff7f0e; fill-opacity: 0.75; stroke: #000000; stroke-width: 0.338364; stroke-linejoin: miter\"/>\n   </g>\n   <g id=\"patch_154\">\n    <path d=\"M 301.853534 226.115958 \nL 305.237172 226.115958 \nL 305.237172 182.877493 \nL 301.853534 182.877493 \nz\n\" clip-path=\"url(#pbfcad84fbf)\" style=\"fill: #ff7f0e; fill-opacity: 0.75; stroke: #000000; stroke-width: 0.338364; stroke-linejoin: miter\"/>\n   </g>\n   <g id=\"patch_155\">\n    <path d=\"M 305.237172 226.115958 \nL 308.620811 226.115958 \nL 308.620811 218.9454 \nL 305.237172 218.9454 \nz\n\" clip-path=\"url(#pbfcad84fbf)\" style=\"fill: #ff7f0e; fill-opacity: 0.75; stroke: #000000; stroke-width: 0.338364; stroke-linejoin: miter\"/>\n   </g>\n   <g id=\"patch_156\">\n    <path d=\"M 308.620811 226.115958 \nL 312.004449 226.115958 \nL 312.004449 218.371755 \nL 308.620811 218.371755 \nz\n\" clip-path=\"url(#pbfcad84fbf)\" style=\"fill: #ff7f0e; fill-opacity: 0.75; stroke: #000000; stroke-width: 0.338364; stroke-linejoin: miter\"/>\n   </g>\n   <g id=\"patch_157\">\n    <path d=\"M 312.004449 226.115958 \nL 315.388088 226.115958 \nL 315.388088 218.084933 \nL 312.004449 218.084933 \nz\n\" clip-path=\"url(#pbfcad84fbf)\" style=\"fill: #ff7f0e; fill-opacity: 0.75; stroke: #000000; stroke-width: 0.338364; stroke-linejoin: miter\"/>\n   </g>\n   <g id=\"patch_158\">\n    <path d=\"M 315.388088 226.115958 \nL 318.771726 226.115958 \nL 318.771726 210.627553 \nL 315.388088 210.627553 \nz\n\" clip-path=\"url(#pbfcad84fbf)\" style=\"fill: #ff7f0e; fill-opacity: 0.75; stroke: #000000; stroke-width: 0.338364; stroke-linejoin: miter\"/>\n   </g>\n   <g id=\"patch_159\">\n    <path d=\"M 318.771726 226.115958 \nL 322.155365 226.115958 \nL 322.155365 220.379512 \nL 318.771726 220.379512 \nz\n\" clip-path=\"url(#pbfcad84fbf)\" style=\"fill: #ff7f0e; fill-opacity: 0.75; stroke: #000000; stroke-width: 0.338364; stroke-linejoin: miter\"/>\n   </g>\n   <g id=\"patch_160\">\n    <path d=\"M 322.155365 226.115958 \nL 325.539004 226.115958 \nL 325.539004 221.096567 \nL 322.155365 221.096567 \nz\n\" clip-path=\"url(#pbfcad84fbf)\" style=\"fill: #ff7f0e; fill-opacity: 0.75; stroke: #000000; stroke-width: 0.338364; stroke-linejoin: miter\"/>\n   </g>\n   <g id=\"patch_161\">\n    <path d=\"M 325.539004 226.115958 \nL 328.922642 226.115958 \nL 328.922642 219.303928 \nL 325.539004 219.303928 \nz\n\" clip-path=\"url(#pbfcad84fbf)\" style=\"fill: #ff7f0e; fill-opacity: 0.75; stroke: #000000; stroke-width: 0.338364; stroke-linejoin: miter\"/>\n   </g>\n   <g id=\"patch_162\">\n    <path d=\"M 328.922642 226.115958 \nL 332.306281 226.115958 \nL 332.306281 219.232222 \nL 328.922642 219.232222 \nz\n\" clip-path=\"url(#pbfcad84fbf)\" style=\"fill: #ff7f0e; fill-opacity: 0.75; stroke: #000000; stroke-width: 0.338364; stroke-linejoin: miter\"/>\n   </g>\n   <g id=\"patch_163\">\n    <path d=\"M 332.306281 226.115958 \nL 335.689919 226.115958 \nL 335.689919 205.894984 \nL 332.306281 205.894984 \nz\n\" clip-path=\"url(#pbfcad84fbf)\" style=\"fill: #ff7f0e; fill-opacity: 0.75; stroke: #000000; stroke-width: 0.338364; stroke-linejoin: miter\"/>\n   </g>\n   <g id=\"patch_164\">\n    <path d=\"M 335.689919 226.115958 \nL 339.073558 226.115958 \nL 339.073558 221.526801 \nL 335.689919 221.526801 \nz\n\" clip-path=\"url(#pbfcad84fbf)\" style=\"fill: #ff7f0e; fill-opacity: 0.75; stroke: #000000; stroke-width: 0.338364; stroke-linejoin: miter\"/>\n   </g>\n   <g id=\"patch_165\">\n    <path d=\"M 339.073558 226.115958 \nL 342.457196 226.115958 \nL 342.457196 221.598506 \nL 339.073558 221.598506 \nz\n\" clip-path=\"url(#pbfcad84fbf)\" style=\"fill: #ff7f0e; fill-opacity: 0.75; stroke: #000000; stroke-width: 0.338364; stroke-linejoin: miter\"/>\n   </g>\n   <g id=\"patch_166\">\n    <path d=\"M 342.457196 226.115958 \nL 345.840835 226.115958 \nL 345.840835 221.598506 \nL 342.457196 221.598506 \nz\n\" clip-path=\"url(#pbfcad84fbf)\" style=\"fill: #ff7f0e; fill-opacity: 0.75; stroke: #000000; stroke-width: 0.338364; stroke-linejoin: miter\"/>\n   </g>\n   <g id=\"patch_167\">\n    <path d=\"M 345.840835 226.115958 \nL 349.224473 226.115958 \nL 349.224473 223.893085 \nL 345.840835 223.893085 \nz\n\" clip-path=\"url(#pbfcad84fbf)\" style=\"fill: #ff7f0e; fill-opacity: 0.75; stroke: #000000; stroke-width: 0.338364; stroke-linejoin: miter\"/>\n   </g>\n   <g id=\"patch_168\">\n    <path d=\"M 349.224473 226.115958 \nL 352.608112 226.115958 \nL 352.608112 224.395024 \nL 349.224473 224.395024 \nz\n\" clip-path=\"url(#pbfcad84fbf)\" style=\"fill: #ff7f0e; fill-opacity: 0.75; stroke: #000000; stroke-width: 0.338364; stroke-linejoin: miter\"/>\n   </g>\n   <g id=\"patch_169\">\n    <path d=\"M 352.608112 226.115958 \nL 355.99175 226.115958 \nL 355.99175 225.614019 \nL 352.608112 225.614019 \nz\n\" clip-path=\"url(#pbfcad84fbf)\" style=\"fill: #ff7f0e; fill-opacity: 0.75; stroke: #000000; stroke-width: 0.338364; stroke-linejoin: miter\"/>\n   </g>\n   <g id=\"patch_170\">\n    <path d=\"M 355.99175 226.115958 \nL 359.375389 226.115958 \nL 359.375389 225.040374 \nL 355.99175 225.040374 \nz\n\" clip-path=\"url(#pbfcad84fbf)\" style=\"fill: #ff7f0e; fill-opacity: 0.75; stroke: #000000; stroke-width: 0.338364; stroke-linejoin: miter\"/>\n   </g>\n   <g id=\"patch_171\">\n    <path d=\"M 359.375389 226.115958 \nL 362.759028 226.115958 \nL 362.759028 225.040374 \nL 359.375389 225.040374 \nz\n\" clip-path=\"url(#pbfcad84fbf)\" style=\"fill: #ff7f0e; fill-opacity: 0.75; stroke: #000000; stroke-width: 0.338364; stroke-linejoin: miter\"/>\n   </g>\n   <g id=\"patch_172\">\n    <path d=\"M 362.759028 226.115958 \nL 366.142666 226.115958 \nL 366.142666 225.972547 \nL 362.759028 225.972547 \nz\n\" clip-path=\"url(#pbfcad84fbf)\" style=\"fill: #ff7f0e; fill-opacity: 0.75; stroke: #000000; stroke-width: 0.338364; stroke-linejoin: miter\"/>\n   </g>\n   <g id=\"patch_173\">\n    <path d=\"M 366.142666 226.115958 \nL 369.526305 226.115958 \nL 369.526305 225.972547 \nL 366.142666 225.972547 \nz\n\" clip-path=\"url(#pbfcad84fbf)\" style=\"fill: #ff7f0e; fill-opacity: 0.75; stroke: #000000; stroke-width: 0.338364; stroke-linejoin: miter\"/>\n   </g>\n   <g id=\"patch_174\">\n    <path d=\"M 369.526305 226.115958 \nL 372.909943 226.115958 \nL 372.909943 225.75743 \nL 369.526305 225.75743 \nz\n\" clip-path=\"url(#pbfcad84fbf)\" style=\"fill: #ff7f0e; fill-opacity: 0.75; stroke: #000000; stroke-width: 0.338364; stroke-linejoin: miter\"/>\n   </g>\n   <g id=\"matplotlib.axis_1\">\n    <g id=\"xtick_1\">\n     <g id=\"line2d_1\">\n      <defs>\n       <path id=\"m0035f9f95d\" d=\"M 0 0 \nL 0 3.5 \n\" style=\"stroke: #000000; stroke-width: 0.8\"/>\n      </defs>\n      <g>\n       <use xlink:href=\"#m0035f9f95d\" x=\"82.462991\" y=\"226.115958\" style=\"stroke: #000000; stroke-width: 0.8\"/>\n      </g>\n     </g>\n     <g id=\"text_1\">\n      <!-- 0 -->\n      <g transform=\"translate(79.281741 240.714395)scale(0.1 -0.1)\">\n       <defs>\n        <path id=\"DejaVuSans-30\" d=\"M 2034 4250 \nQ 1547 4250 1301 3770 \nQ 1056 3291 1056 2328 \nQ 1056 1369 1301 889 \nQ 1547 409 2034 409 \nQ 2525 409 2770 889 \nQ 3016 1369 3016 2328 \nQ 3016 3291 2770 3770 \nQ 2525 4250 2034 4250 \nz\nM 2034 4750 \nQ 2819 4750 3233 4129 \nQ 3647 3509 3647 2328 \nQ 3647 1150 3233 529 \nQ 2819 -91 2034 -91 \nQ 1250 -91 836 529 \nQ 422 1150 422 2328 \nQ 422 3509 836 4129 \nQ 1250 4750 2034 4750 \nz\n\" transform=\"scale(0.015625)\"/>\n       </defs>\n       <use xlink:href=\"#DejaVuSans-30\"/>\n      </g>\n     </g>\n    </g>\n    <g id=\"xtick_2\">\n     <g id=\"line2d_2\">\n      <g>\n       <use xlink:href=\"#m0035f9f95d\" x=\"135.379887\" y=\"226.115958\" style=\"stroke: #000000; stroke-width: 0.8\"/>\n      </g>\n     </g>\n     <g id=\"text_2\">\n      <!-- 10 -->\n      <g transform=\"translate(129.017387 240.714395)scale(0.1 -0.1)\">\n       <defs>\n        <path id=\"DejaVuSans-31\" d=\"M 794 531 \nL 1825 531 \nL 1825 4091 \nL 703 3866 \nL 703 4441 \nL 1819 4666 \nL 2450 4666 \nL 2450 531 \nL 3481 531 \nL 3481 0 \nL 794 0 \nL 794 531 \nz\n\" transform=\"scale(0.015625)\"/>\n       </defs>\n       <use xlink:href=\"#DejaVuSans-31\"/>\n       <use xlink:href=\"#DejaVuSans-30\" x=\"63.623047\"/>\n      </g>\n     </g>\n    </g>\n    <g id=\"xtick_3\">\n     <g id=\"line2d_3\">\n      <g>\n       <use xlink:href=\"#m0035f9f95d\" x=\"188.296783\" y=\"226.115958\" style=\"stroke: #000000; stroke-width: 0.8\"/>\n      </g>\n     </g>\n     <g id=\"text_3\">\n      <!-- 20 -->\n      <g transform=\"translate(181.934283 240.714395)scale(0.1 -0.1)\">\n       <defs>\n        <path id=\"DejaVuSans-32\" d=\"M 1228 531 \nL 3431 531 \nL 3431 0 \nL 469 0 \nL 469 531 \nQ 828 903 1448 1529 \nQ 2069 2156 2228 2338 \nQ 2531 2678 2651 2914 \nQ 2772 3150 2772 3378 \nQ 2772 3750 2511 3984 \nQ 2250 4219 1831 4219 \nQ 1534 4219 1204 4116 \nQ 875 4013 500 3803 \nL 500 4441 \nQ 881 4594 1212 4672 \nQ 1544 4750 1819 4750 \nQ 2544 4750 2975 4387 \nQ 3406 4025 3406 3419 \nQ 3406 3131 3298 2873 \nQ 3191 2616 2906 2266 \nQ 2828 2175 2409 1742 \nQ 1991 1309 1228 531 \nz\n\" transform=\"scale(0.015625)\"/>\n       </defs>\n       <use xlink:href=\"#DejaVuSans-32\"/>\n       <use xlink:href=\"#DejaVuSans-30\" x=\"63.623047\"/>\n      </g>\n     </g>\n    </g>\n    <g id=\"xtick_4\">\n     <g id=\"line2d_4\">\n      <g>\n       <use xlink:href=\"#m0035f9f95d\" x=\"241.21368\" y=\"226.115958\" style=\"stroke: #000000; stroke-width: 0.8\"/>\n      </g>\n     </g>\n     <g id=\"text_4\">\n      <!-- 30 -->\n      <g transform=\"translate(234.85118 240.714395)scale(0.1 -0.1)\">\n       <defs>\n        <path id=\"DejaVuSans-33\" d=\"M 2597 2516 \nQ 3050 2419 3304 2112 \nQ 3559 1806 3559 1356 \nQ 3559 666 3084 287 \nQ 2609 -91 1734 -91 \nQ 1441 -91 1130 -33 \nQ 819 25 488 141 \nL 488 750 \nQ 750 597 1062 519 \nQ 1375 441 1716 441 \nQ 2309 441 2620 675 \nQ 2931 909 2931 1356 \nQ 2931 1769 2642 2001 \nQ 2353 2234 1838 2234 \nL 1294 2234 \nL 1294 2753 \nL 1863 2753 \nQ 2328 2753 2575 2939 \nQ 2822 3125 2822 3475 \nQ 2822 3834 2567 4026 \nQ 2313 4219 1838 4219 \nQ 1578 4219 1281 4162 \nQ 984 4106 628 3988 \nL 628 4550 \nQ 988 4650 1302 4700 \nQ 1616 4750 1894 4750 \nQ 2613 4750 3031 4423 \nQ 3450 4097 3450 3541 \nQ 3450 3153 3228 2886 \nQ 3006 2619 2597 2516 \nz\n\" transform=\"scale(0.015625)\"/>\n       </defs>\n       <use xlink:href=\"#DejaVuSans-33\"/>\n       <use xlink:href=\"#DejaVuSans-30\" x=\"63.623047\"/>\n      </g>\n     </g>\n    </g>\n    <g id=\"xtick_5\">\n     <g id=\"line2d_5\">\n      <g>\n       <use xlink:href=\"#m0035f9f95d\" x=\"294.130576\" y=\"226.115958\" style=\"stroke: #000000; stroke-width: 0.8\"/>\n      </g>\n     </g>\n     <g id=\"text_5\">\n      <!-- 40 -->\n      <g transform=\"translate(287.768076 240.714395)scale(0.1 -0.1)\">\n       <defs>\n        <path id=\"DejaVuSans-34\" d=\"M 2419 4116 \nL 825 1625 \nL 2419 1625 \nL 2419 4116 \nz\nM 2253 4666 \nL 3047 4666 \nL 3047 1625 \nL 3713 1625 \nL 3713 1100 \nL 3047 1100 \nL 3047 0 \nL 2419 0 \nL 2419 1100 \nL 313 1100 \nL 313 1709 \nL 2253 4666 \nz\n\" transform=\"scale(0.015625)\"/>\n       </defs>\n       <use xlink:href=\"#DejaVuSans-34\"/>\n       <use xlink:href=\"#DejaVuSans-30\" x=\"63.623047\"/>\n      </g>\n     </g>\n    </g>\n    <g id=\"xtick_6\">\n     <g id=\"line2d_6\">\n      <g>\n       <use xlink:href=\"#m0035f9f95d\" x=\"347.047472\" y=\"226.115958\" style=\"stroke: #000000; stroke-width: 0.8\"/>\n      </g>\n     </g>\n     <g id=\"text_6\">\n      <!-- 50 -->\n      <g transform=\"translate(340.684972 240.714395)scale(0.1 -0.1)\">\n       <defs>\n        <path id=\"DejaVuSans-35\" d=\"M 691 4666 \nL 3169 4666 \nL 3169 4134 \nL 1269 4134 \nL 1269 2991 \nQ 1406 3038 1543 3061 \nQ 1681 3084 1819 3084 \nQ 2600 3084 3056 2656 \nQ 3513 2228 3513 1497 \nQ 3513 744 3044 326 \nQ 2575 -91 1722 -91 \nQ 1428 -91 1123 -41 \nQ 819 9 494 109 \nL 494 744 \nQ 775 591 1075 516 \nQ 1375 441 1709 441 \nQ 2250 441 2565 725 \nQ 2881 1009 2881 1497 \nQ 2881 1984 2565 2268 \nQ 2250 2553 1709 2553 \nQ 1456 2553 1204 2497 \nQ 953 2441 691 2322 \nL 691 4666 \nz\n\" transform=\"scale(0.015625)\"/>\n       </defs>\n       <use xlink:href=\"#DejaVuSans-35\"/>\n       <use xlink:href=\"#DejaVuSans-30\" x=\"63.623047\"/>\n      </g>\n     </g>\n    </g>\n   </g>\n   <g id=\"matplotlib.axis_2\">\n    <g id=\"ytick_1\">\n     <g id=\"line2d_7\">\n      <defs>\n       <path id=\"me6b888892e\" d=\"M 0 0 \nL -3.5 0 \n\" style=\"stroke: #000000; stroke-width: 0.8\"/>\n      </defs>\n      <g>\n       <use xlink:href=\"#me6b888892e\" x=\"53.328125\" y=\"226.115958\" style=\"stroke: #000000; stroke-width: 0.8\"/>\n      </g>\n     </g>\n     <g id=\"text_7\">\n      <!-- 0 -->\n      <g transform=\"translate(39.965625 229.915177)scale(0.1 -0.1)\">\n       <use xlink:href=\"#DejaVuSans-30\"/>\n      </g>\n     </g>\n    </g>\n    <g id=\"ytick_2\">\n     <g id=\"line2d_8\">\n      <g>\n       <use xlink:href=\"#me6b888892e\" x=\"53.328125\" y=\"190.263168\" style=\"stroke: #000000; stroke-width: 0.8\"/>\n      </g>\n     </g>\n     <g id=\"text_8\">\n      <!-- 500 -->\n      <g transform=\"translate(27.240625 194.062387)scale(0.1 -0.1)\">\n       <use xlink:href=\"#DejaVuSans-35\"/>\n       <use xlink:href=\"#DejaVuSans-30\" x=\"63.623047\"/>\n       <use xlink:href=\"#DejaVuSans-30\" x=\"127.246094\"/>\n      </g>\n     </g>\n    </g>\n    <g id=\"ytick_3\">\n     <g id=\"line2d_9\">\n      <g>\n       <use xlink:href=\"#me6b888892e\" x=\"53.328125\" y=\"154.410378\" style=\"stroke: #000000; stroke-width: 0.8\"/>\n      </g>\n     </g>\n     <g id=\"text_9\">\n      <!-- 1000 -->\n      <g transform=\"translate(20.878125 158.209597)scale(0.1 -0.1)\">\n       <use xlink:href=\"#DejaVuSans-31\"/>\n       <use xlink:href=\"#DejaVuSans-30\" x=\"63.623047\"/>\n       <use xlink:href=\"#DejaVuSans-30\" x=\"127.246094\"/>\n       <use xlink:href=\"#DejaVuSans-30\" x=\"190.869141\"/>\n      </g>\n     </g>\n    </g>\n    <g id=\"ytick_4\">\n     <g id=\"line2d_10\">\n      <g>\n       <use xlink:href=\"#me6b888892e\" x=\"53.328125\" y=\"118.557588\" style=\"stroke: #000000; stroke-width: 0.8\"/>\n      </g>\n     </g>\n     <g id=\"text_10\">\n      <!-- 1500 -->\n      <g transform=\"translate(20.878125 122.356807)scale(0.1 -0.1)\">\n       <use xlink:href=\"#DejaVuSans-31\"/>\n       <use xlink:href=\"#DejaVuSans-35\" x=\"63.623047\"/>\n       <use xlink:href=\"#DejaVuSans-30\" x=\"127.246094\"/>\n       <use xlink:href=\"#DejaVuSans-30\" x=\"190.869141\"/>\n      </g>\n     </g>\n    </g>\n    <g id=\"ytick_5\">\n     <g id=\"line2d_11\">\n      <g>\n       <use xlink:href=\"#me6b888892e\" x=\"53.328125\" y=\"82.704798\" style=\"stroke: #000000; stroke-width: 0.8\"/>\n      </g>\n     </g>\n     <g id=\"text_11\">\n      <!-- 2000 -->\n      <g transform=\"translate(20.878125 86.504017)scale(0.1 -0.1)\">\n       <use xlink:href=\"#DejaVuSans-32\"/>\n       <use xlink:href=\"#DejaVuSans-30\" x=\"63.623047\"/>\n       <use xlink:href=\"#DejaVuSans-30\" x=\"127.246094\"/>\n       <use xlink:href=\"#DejaVuSans-30\" x=\"190.869141\"/>\n      </g>\n     </g>\n    </g>\n    <g id=\"ytick_6\">\n     <g id=\"line2d_12\">\n      <g>\n       <use xlink:href=\"#me6b888892e\" x=\"53.328125\" y=\"46.852009\" style=\"stroke: #000000; stroke-width: 0.8\"/>\n      </g>\n     </g>\n     <g id=\"text_12\">\n      <!-- 2500 -->\n      <g transform=\"translate(20.878125 50.651227)scale(0.1 -0.1)\">\n       <use xlink:href=\"#DejaVuSans-32\"/>\n       <use xlink:href=\"#DejaVuSans-35\" x=\"63.623047\"/>\n       <use xlink:href=\"#DejaVuSans-30\" x=\"127.246094\"/>\n       <use xlink:href=\"#DejaVuSans-30\" x=\"190.869141\"/>\n      </g>\n     </g>\n    </g>\n    <g id=\"ytick_7\">\n     <g id=\"line2d_13\">\n      <g>\n       <use xlink:href=\"#me6b888892e\" x=\"53.328125\" y=\"10.999219\" style=\"stroke: #000000; stroke-width: 0.8\"/>\n      </g>\n     </g>\n     <g id=\"text_13\">\n      <!-- 3000 -->\n      <g transform=\"translate(20.878125 14.798437)scale(0.1 -0.1)\">\n       <use xlink:href=\"#DejaVuSans-33\"/>\n       <use xlink:href=\"#DejaVuSans-30\" x=\"63.623047\"/>\n       <use xlink:href=\"#DejaVuSans-30\" x=\"127.246094\"/>\n       <use xlink:href=\"#DejaVuSans-30\" x=\"190.869141\"/>\n      </g>\n     </g>\n    </g>\n    <g id=\"text_14\">\n     <!-- Count -->\n     <g transform=\"translate(14.798438 132.244395)rotate(-90)scale(0.1 -0.1)\">\n      <defs>\n       <path id=\"DejaVuSans-43\" d=\"M 4122 4306 \nL 4122 3641 \nQ 3803 3938 3442 4084 \nQ 3081 4231 2675 4231 \nQ 1875 4231 1450 3742 \nQ 1025 3253 1025 2328 \nQ 1025 1406 1450 917 \nQ 1875 428 2675 428 \nQ 3081 428 3442 575 \nQ 3803 722 4122 1019 \nL 4122 359 \nQ 3791 134 3420 21 \nQ 3050 -91 2638 -91 \nQ 1578 -91 968 557 \nQ 359 1206 359 2328 \nQ 359 3453 968 4101 \nQ 1578 4750 2638 4750 \nQ 3056 4750 3426 4639 \nQ 3797 4528 4122 4306 \nz\n\" transform=\"scale(0.015625)\"/>\n       <path id=\"DejaVuSans-6f\" d=\"M 1959 3097 \nQ 1497 3097 1228 2736 \nQ 959 2375 959 1747 \nQ 959 1119 1226 758 \nQ 1494 397 1959 397 \nQ 2419 397 2687 759 \nQ 2956 1122 2956 1747 \nQ 2956 2369 2687 2733 \nQ 2419 3097 1959 3097 \nz\nM 1959 3584 \nQ 2709 3584 3137 3096 \nQ 3566 2609 3566 1747 \nQ 3566 888 3137 398 \nQ 2709 -91 1959 -91 \nQ 1206 -91 779 398 \nQ 353 888 353 1747 \nQ 353 2609 779 3096 \nQ 1206 3584 1959 3584 \nz\n\" transform=\"scale(0.015625)\"/>\n       <path id=\"DejaVuSans-75\" d=\"M 544 1381 \nL 544 3500 \nL 1119 3500 \nL 1119 1403 \nQ 1119 906 1312 657 \nQ 1506 409 1894 409 \nQ 2359 409 2629 706 \nQ 2900 1003 2900 1516 \nL 2900 3500 \nL 3475 3500 \nL 3475 0 \nL 2900 0 \nL 2900 538 \nQ 2691 219 2414 64 \nQ 2138 -91 1772 -91 \nQ 1169 -91 856 284 \nQ 544 659 544 1381 \nz\nM 1991 3584 \nL 1991 3584 \nz\n\" transform=\"scale(0.015625)\"/>\n       <path id=\"DejaVuSans-6e\" d=\"M 3513 2113 \nL 3513 0 \nL 2938 0 \nL 2938 2094 \nQ 2938 2591 2744 2837 \nQ 2550 3084 2163 3084 \nQ 1697 3084 1428 2787 \nQ 1159 2491 1159 1978 \nL 1159 0 \nL 581 0 \nL 581 3500 \nL 1159 3500 \nL 1159 2956 \nQ 1366 3272 1645 3428 \nQ 1925 3584 2291 3584 \nQ 2894 3584 3203 3211 \nQ 3513 2838 3513 2113 \nz\n\" transform=\"scale(0.015625)\"/>\n       <path id=\"DejaVuSans-74\" d=\"M 1172 4494 \nL 1172 3500 \nL 2356 3500 \nL 2356 3053 \nL 1172 3053 \nL 1172 1153 \nQ 1172 725 1289 603 \nQ 1406 481 1766 481 \nL 2356 481 \nL 2356 0 \nL 1766 0 \nQ 1100 0 847 248 \nQ 594 497 594 1153 \nL 594 3053 \nL 172 3053 \nL 172 3500 \nL 594 3500 \nL 594 4494 \nL 1172 4494 \nz\n\" transform=\"scale(0.015625)\"/>\n      </defs>\n      <use xlink:href=\"#DejaVuSans-43\"/>\n      <use xlink:href=\"#DejaVuSans-6f\" x=\"69.824219\"/>\n      <use xlink:href=\"#DejaVuSans-75\" x=\"131.005859\"/>\n      <use xlink:href=\"#DejaVuSans-6e\" x=\"194.384766\"/>\n      <use xlink:href=\"#DejaVuSans-74\" x=\"257.763672\"/>\n     </g>\n    </g>\n   </g>\n   <g id=\"patch_175\">\n    <path d=\"M 53.328125 226.115958 \nL 53.328125 8.675958 \n\" style=\"fill: none; stroke: #000000; stroke-width: 0.8; stroke-linejoin: miter; stroke-linecap: square\"/>\n   </g>\n   <g id=\"patch_176\">\n    <path d=\"M 388.128125 226.115958 \nL 388.128125 8.675958 \n\" style=\"fill: none; stroke: #000000; stroke-width: 0.8; stroke-linejoin: miter; stroke-linecap: square\"/>\n   </g>\n   <g id=\"patch_177\">\n    <path d=\"M 53.328125 226.115958 \nL 388.128125 226.115958 \n\" style=\"fill: none; stroke: #000000; stroke-width: 0.8; stroke-linejoin: miter; stroke-linecap: square\"/>\n   </g>\n   <g id=\"patch_178\">\n    <path d=\"M 53.328125 8.675958 \nL 388.128125 8.675958 \n\" style=\"fill: none; stroke: #000000; stroke-width: 0.8; stroke-linejoin: miter; stroke-linecap: square\"/>\n   </g>\n   <g id=\"legend_1\">\n    <g id=\"patch_179\">\n     <path d=\"M 302.310938 46.032208 \nL 381.128125 46.032208 \nQ 383.128125 46.032208 383.128125 44.032208 \nL 383.128125 15.675958 \nQ 383.128125 13.675958 381.128125 13.675958 \nL 302.310938 13.675958 \nQ 300.310938 13.675958 300.310938 15.675958 \nL 300.310938 44.032208 \nQ 300.310938 46.032208 302.310938 46.032208 \nz\n\" style=\"fill: #ffffff; opacity: 0.8; stroke: #cccccc; stroke-linejoin: miter\"/>\n    </g>\n    <g id=\"patch_180\">\n     <path d=\"M 304.310938 25.274395 \nL 324.310938 25.274395 \nL 324.310938 18.274395 \nL 304.310938 18.274395 \nz\n\" style=\"fill: #1f77b4; fill-opacity: 0.75; stroke: #000000; stroke-width: 0.341982; stroke-linejoin: miter\"/>\n    </g>\n    <g id=\"text_15\">\n     <!-- inference -->\n     <g transform=\"translate(332.310938 25.274395)scale(0.1 -0.1)\">\n      <defs>\n       <path id=\"DejaVuSans-69\" d=\"M 603 3500 \nL 1178 3500 \nL 1178 0 \nL 603 0 \nL 603 3500 \nz\nM 603 4863 \nL 1178 4863 \nL 1178 4134 \nL 603 4134 \nL 603 4863 \nz\n\" transform=\"scale(0.015625)\"/>\n       <path id=\"DejaVuSans-66\" d=\"M 2375 4863 \nL 2375 4384 \nL 1825 4384 \nQ 1516 4384 1395 4259 \nQ 1275 4134 1275 3809 \nL 1275 3500 \nL 2222 3500 \nL 2222 3053 \nL 1275 3053 \nL 1275 0 \nL 697 0 \nL 697 3053 \nL 147 3053 \nL 147 3500 \nL 697 3500 \nL 697 3744 \nQ 697 4328 969 4595 \nQ 1241 4863 1831 4863 \nL 2375 4863 \nz\n\" transform=\"scale(0.015625)\"/>\n       <path id=\"DejaVuSans-65\" d=\"M 3597 1894 \nL 3597 1613 \nL 953 1613 \nQ 991 1019 1311 708 \nQ 1631 397 2203 397 \nQ 2534 397 2845 478 \nQ 3156 559 3463 722 \nL 3463 178 \nQ 3153 47 2828 -22 \nQ 2503 -91 2169 -91 \nQ 1331 -91 842 396 \nQ 353 884 353 1716 \nQ 353 2575 817 3079 \nQ 1281 3584 2069 3584 \nQ 2775 3584 3186 3129 \nQ 3597 2675 3597 1894 \nz\nM 3022 2063 \nQ 3016 2534 2758 2815 \nQ 2500 3097 2075 3097 \nQ 1594 3097 1305 2825 \nQ 1016 2553 972 2059 \nL 3022 2063 \nz\n\" transform=\"scale(0.015625)\"/>\n       <path id=\"DejaVuSans-72\" d=\"M 2631 2963 \nQ 2534 3019 2420 3045 \nQ 2306 3072 2169 3072 \nQ 1681 3072 1420 2755 \nQ 1159 2438 1159 1844 \nL 1159 0 \nL 581 0 \nL 581 3500 \nL 1159 3500 \nL 1159 2956 \nQ 1341 3275 1631 3429 \nQ 1922 3584 2338 3584 \nQ 2397 3584 2469 3576 \nQ 2541 3569 2628 3553 \nL 2631 2963 \nz\n\" transform=\"scale(0.015625)\"/>\n       <path id=\"DejaVuSans-63\" d=\"M 3122 3366 \nL 3122 2828 \nQ 2878 2963 2633 3030 \nQ 2388 3097 2138 3097 \nQ 1578 3097 1268 2742 \nQ 959 2388 959 1747 \nQ 959 1106 1268 751 \nQ 1578 397 2138 397 \nQ 2388 397 2633 464 \nQ 2878 531 3122 666 \nL 3122 134 \nQ 2881 22 2623 -34 \nQ 2366 -91 2075 -91 \nQ 1284 -91 818 406 \nQ 353 903 353 1747 \nQ 353 2603 823 3093 \nQ 1294 3584 2113 3584 \nQ 2378 3584 2631 3529 \nQ 2884 3475 3122 3366 \nz\n\" transform=\"scale(0.015625)\"/>\n      </defs>\n      <use xlink:href=\"#DejaVuSans-69\"/>\n      <use xlink:href=\"#DejaVuSans-6e\" x=\"27.783203\"/>\n      <use xlink:href=\"#DejaVuSans-66\" x=\"91.162109\"/>\n      <use xlink:href=\"#DejaVuSans-65\" x=\"126.367188\"/>\n      <use xlink:href=\"#DejaVuSans-72\" x=\"187.890625\"/>\n      <use xlink:href=\"#DejaVuSans-65\" x=\"226.753906\"/>\n      <use xlink:href=\"#DejaVuSans-6e\" x=\"288.277344\"/>\n      <use xlink:href=\"#DejaVuSans-63\" x=\"351.65625\"/>\n      <use xlink:href=\"#DejaVuSans-65\" x=\"406.636719\"/>\n     </g>\n    </g>\n    <g id=\"patch_181\">\n     <path d=\"M 304.310938 39.95252 \nL 324.310938 39.95252 \nL 324.310938 32.95252 \nL 304.310938 32.95252 \nz\n\" style=\"fill: #ff7f0e; fill-opacity: 0.75; stroke: #000000; stroke-width: 0.338364; stroke-linejoin: miter\"/>\n    </g>\n    <g id=\"text_16\">\n     <!-- training -->\n     <g transform=\"translate(332.310938 39.95252)scale(0.1 -0.1)\">\n      <defs>\n       <path id=\"DejaVuSans-61\" d=\"M 2194 1759 \nQ 1497 1759 1228 1600 \nQ 959 1441 959 1056 \nQ 959 750 1161 570 \nQ 1363 391 1709 391 \nQ 2188 391 2477 730 \nQ 2766 1069 2766 1631 \nL 2766 1759 \nL 2194 1759 \nz\nM 3341 1997 \nL 3341 0 \nL 2766 0 \nL 2766 531 \nQ 2569 213 2275 61 \nQ 1981 -91 1556 -91 \nQ 1019 -91 701 211 \nQ 384 513 384 1019 \nQ 384 1609 779 1909 \nQ 1175 2209 1959 2209 \nL 2766 2209 \nL 2766 2266 \nQ 2766 2663 2505 2880 \nQ 2244 3097 1772 3097 \nQ 1472 3097 1187 3025 \nQ 903 2953 641 2809 \nL 641 3341 \nQ 956 3463 1253 3523 \nQ 1550 3584 1831 3584 \nQ 2591 3584 2966 3190 \nQ 3341 2797 3341 1997 \nz\n\" transform=\"scale(0.015625)\"/>\n       <path id=\"DejaVuSans-67\" d=\"M 2906 1791 \nQ 2906 2416 2648 2759 \nQ 2391 3103 1925 3103 \nQ 1463 3103 1205 2759 \nQ 947 2416 947 1791 \nQ 947 1169 1205 825 \nQ 1463 481 1925 481 \nQ 2391 481 2648 825 \nQ 2906 1169 2906 1791 \nz\nM 3481 434 \nQ 3481 -459 3084 -895 \nQ 2688 -1331 1869 -1331 \nQ 1566 -1331 1297 -1286 \nQ 1028 -1241 775 -1147 \nL 775 -588 \nQ 1028 -725 1275 -790 \nQ 1522 -856 1778 -856 \nQ 2344 -856 2625 -561 \nQ 2906 -266 2906 331 \nL 2906 616 \nQ 2728 306 2450 153 \nQ 2172 0 1784 0 \nQ 1141 0 747 490 \nQ 353 981 353 1791 \nQ 353 2603 747 3093 \nQ 1141 3584 1784 3584 \nQ 2172 3584 2450 3431 \nQ 2728 3278 2906 2969 \nL 2906 3500 \nL 3481 3500 \nL 3481 434 \nz\n\" transform=\"scale(0.015625)\"/>\n      </defs>\n      <use xlink:href=\"#DejaVuSans-74\"/>\n      <use xlink:href=\"#DejaVuSans-72\" x=\"39.208984\"/>\n      <use xlink:href=\"#DejaVuSans-61\" x=\"80.322266\"/>\n      <use xlink:href=\"#DejaVuSans-69\" x=\"141.601562\"/>\n      <use xlink:href=\"#DejaVuSans-6e\" x=\"169.384766\"/>\n      <use xlink:href=\"#DejaVuSans-69\" x=\"232.763672\"/>\n      <use xlink:href=\"#DejaVuSans-6e\" x=\"260.546875\"/>\n      <use xlink:href=\"#DejaVuSans-67\" x=\"323.925781\"/>\n     </g>\n    </g>\n   </g>\n  </g>\n </g>\n <defs>\n  <clipPath id=\"pbfcad84fbf\">\n   <rect x=\"53.328125\" y=\"8.675958\" width=\"334.8\" height=\"217.44\"/>\n  </clipPath>\n </defs>\n</svg>\n",
      "text/plain": [
       "<Figure size 432x288 with 1 Axes>"
      ]
     },
     "metadata": {
      "needs_background": "light"
     },
     "output_type": "display_data"
    }
   ],
   "source": [
    "import matplotlib.pyplot as plt\n",
    "import seaborn as sns\n",
    "import pandas as pd\n",
    "import mlflow\n",
    "import joblib\n",
    "\n",
    "from matplotlib_inline import backend_inline\n",
    "backend_inline.set_matplotlib_formats('svg')\n",
    "\n",
    "from pandas.core.common import SettingWithCopyWarning\n",
    "import warnings\n",
    "warnings.simplefilter(action=\"ignore\", category=SettingWithCopyWarning)\n",
    "\n",
    "from utils import runs, data_path, preprocess_datasets\n",
    "\n",
    "\n",
    "# Configure paths to run\n",
    "run_path = runs / '1' / 'bb8e77c1d3914c759e711d1ce1ebf41a'\n",
    "model_path = run_path / 'artifacts' / 'model'\n",
    "model_artifacts_path = run_path / 'artifacts' / 'preprocessing'\n",
    "train_data_path = data_path / 'green_tripdata_2021-01.parquet'\n",
    "valid_data_path = data_path / 'green_tripdata_2021-02.parquet'\n",
    "\n",
    "# Load preprocessing pipeline\n",
    "feature_pipe = joblib.load(model_artifacts_path / 'preprocessor.pkl')\n",
    "\n",
    "# Preprocessing new data\n",
    "X_train_ = feature_pipe.transform(pd.read_parquet(train_data_path))\n",
    "X_valid_ = feature_pipe.transform(pd.read_parquet(valid_data_path))\n",
    "\n",
    "# Load model using MLFlow (!)\n",
    "loaded_model = mlflow.pyfunc.load_model(model_path)\n",
    "\n",
    "# Checking if similar distribution; loading training data for comparision\n",
    "X_train, y_train, X_valid, y_valid = preprocess_datasets(train_data_path, valid_data_path)\n",
    "\n",
    "sns.histplot(loaded_model.predict(X_train_), color='C0', label='inference')\n",
    "sns.histplot(loaded_model.predict(X_train),  color='C1', label='training')\n",
    "plt.legend();"
   ]
  },
  {
   "cell_type": "markdown",
   "metadata": {},
   "source": [
    "**Remarks.** In general, we use `mlflow.<framework>.autolog()` to activate autologging. For frameworks not supported by MLFlow, we can simply log models using `mlflow.log_artifact` on saved pickle files, e.g. using `joblib`. "
   ]
  },
  {
   "cell_type": "markdown",
   "metadata": {},
   "source": [
    "## Model registry"
   ]
  },
  {
   "cell_type": "markdown",
   "metadata": {},
   "source": [
    "New model -> good performance -> plz deploy. \n",
    "\n",
    "what has changed? is there any preprocessing needed? what is the environment, what are the dependencies? \n",
    "\n",
    "back and fort communication with data scientist.\n",
    "\n",
    "what if incident in prod, need rollback, need to go to email inbox. imagine its not possible to run this model again, have to retrain from scratch. but what if retraining information is lost, no idea of env used, which dataset, and so on. \n",
    "\n",
    "recall we have tracking server, which stored experiment runs. model registry has stages. staging -> prod -> archive. DS only decides which models are ready for prod. deployment engineer not responsible. \n",
    "\n",
    "then if we want rollback, we can go back from archive to prod. note that model registry not deployment. it just labels models. need to compliment with ci/cd. in order to do actual deployment. \n",
    "\n"
   ]
  },
  {
   "cell_type": "markdown",
   "metadata": {},
   "source": [
    "comparing models: \n",
    "- look at duration, and model size, rmse\n"
   ]
  },
  {
   "cell_type": "markdown",
   "metadata": {},
   "source": [
    "information you need to consider"
   ]
  },
  {
   "cell_type": "code",
   "execution_count": null,
   "metadata": {},
   "outputs": [],
   "source": []
  },
  {
   "cell_type": "code",
   "execution_count": null,
   "metadata": {},
   "outputs": [],
   "source": []
  },
  {
   "cell_type": "code",
   "execution_count": null,
   "metadata": {},
   "outputs": [],
   "source": []
  },
  {
   "cell_type": "code",
   "execution_count": 99,
   "metadata": {},
   "outputs": [],
   "source": [
    "from sklearn.base import BaseEstimator, TransformerMixin\n",
    "\n",
    "\n",
    "class ConvertToString(BaseEstimator, TransformerMixin):\n",
    "    \"\"\"Convert columns of DataFrame to type string.\"\"\"\n",
    "\n",
    "    def __init__(self, features):\n",
    "        self.features = features\n",
    "\n",
    "    def fit(self, X, y=None):\n",
    "        return self\n",
    "\n",
    "    def transform(self, X):\n",
    "        X[self.features] = X[self.features].astype(str)\n",
    "        return X\n",
    "\n",
    "\n",
    "class AddPickupDropoffPair(BaseEstimator, TransformerMixin):\n",
    "    \"\"\"Add product of pickup and dropoff locations.\"\"\"\n",
    "\n",
    "    def fit(self, X, y=None):\n",
    "        return self\n",
    "\n",
    "    def transform(self, X):\n",
    "        X['PU_DO'] = X['PULocationID'].astype(str) + '_' + X['DOLocationID'].astype(str)\n",
    "        return X\n",
    "\n",
    "\n",
    "class ConvertToDict(BaseEstimator, TransformerMixin):\n",
    "    \"\"\"Convert tabular data to feature dictionaries.\"\"\"\n",
    "\n",
    "    def fit(self, X, y=None):\n",
    "        return self\n",
    "\n",
    "    def transform(self, X):\n",
    "        return X.to_dict(orient='records')\n",
    "\n",
    "\n",
    "class SelectFeatures(BaseEstimator, TransformerMixin):\n",
    "    \"\"\"Convert tabular data to feature dictionaries.\"\"\"\n",
    "\n",
    "    def __init__(self, features):\n",
    "        self.features = features\n",
    "\n",
    "    def fit(self, X, y=None):\n",
    "        return self\n",
    "\n",
    "    def transform(self, X):\n",
    "        return X[self.features]\n",
    "\n",
    "\n",
    "def preprocess_train_targets(data):\n",
    "    \"\"\"Derive target and filter outliers.\"\"\"\n",
    "\n",
    "    # Create target column and filter outliers\n",
    "    data['duration'] = data.lpep_dropoff_datetime - data.lpep_pickup_datetime\n",
    "    data['duration'] = data.duration.dt.total_seconds() / 60\n",
    "    \n",
    "    X = data[(data.duration >= 1) & (data.duration <= 60)]\n",
    "    y = X.duration.values\n",
    "    \n",
    "    return X, y\n"
   ]
  },
  {
   "cell_type": "code",
   "execution_count": 117,
   "metadata": {},
   "outputs": [
    {
     "data": {
      "text/plain": [
       "<73908x13221 sparse matrix of type '<class 'numpy.float64'>'\n",
       "\twith 147816 stored elements in Compressed Sparse Row format>"
      ]
     },
     "execution_count": 117,
     "metadata": {},
     "output_type": "execute_result"
    }
   ],
   "source": [
    "from sklearn.pipeline import make_pipeline\n",
    "from sklearn.feature_extraction import DictVectorizer\n",
    "\n",
    "categorical = ['PU_DO']\n",
    "numerical = ['trip_distance']\n",
    "\n",
    "pipe = make_pipeline(\n",
    "    AddPickupDropoffPair(),\n",
    "    ConvertToString(categorical),\n",
    "    SelectFeatures(categorical + numerical),\n",
    "    ConvertToDict(),\n",
    "    DictVectorizer(),\n",
    ")\n",
    "\n",
    "train_data_path =  '../data/green_tripdata_2021-01.parquet'\n",
    "X_train, y_train = preprocess_train_targets(pd.read_parquet(train_data_path))\n",
    "\n",
    "pipe.fit_transform(X_train)"
   ]
  },
  {
   "cell_type": "code",
   "execution_count": 116,
   "metadata": {},
   "outputs": [
    {
     "data": {
      "text/plain": [
       "13221"
      ]
     },
     "execution_count": 116,
     "metadata": {},
     "output_type": "execute_result"
    }
   ],
   "source": [
    "AddPickupDropoffPair().transform(X_train)['PU_DO'].nunique() + 1"
   ]
  },
  {
   "cell_type": "code",
   "execution_count": 110,
   "metadata": {},
   "outputs": [
    {
     "data": {
      "text/plain": [
       "13221"
      ]
     },
     "execution_count": 110,
     "metadata": {},
     "output_type": "execute_result"
    }
   ],
   "source": [
    "len(pipe.named_steps['dictvectorizer'].feature_names_)"
   ]
  },
  {
   "cell_type": "code",
   "execution_count": null,
   "metadata": {},
   "outputs": [],
   "source": []
  }
 ],
 "metadata": {
  "interpreter": {
   "hash": "c69054bf84d6ad36c63a02b926ed0729b159d9b327d6020e8e7aee9c3ae1ac1f"
  },
  "kernelspec": {
   "display_name": "Python 3.9.12 ('mlops')",
   "language": "python",
   "name": "python3"
  },
  "language_info": {
   "codemirror_mode": {
    "name": "ipython",
    "version": 3
   },
   "file_extension": ".py",
   "mimetype": "text/x-python",
   "name": "python",
   "nbconvert_exporter": "python",
   "pygments_lexer": "ipython3",
   "version": "3.9.12"
  },
  "orig_nbformat": 4
 },
 "nbformat": 4,
 "nbformat_minor": 2
}
