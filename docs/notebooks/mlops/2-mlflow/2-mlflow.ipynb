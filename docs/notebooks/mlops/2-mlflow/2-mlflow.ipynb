{
 "cells": [
  {
   "cell_type": "markdown",
   "metadata": {},
   "source": [
    "# Experiment Tracking and Model Management"
   ]
  },
  {
   "cell_type": "markdown",
   "metadata": {},
   "source": [
    "![Status](https://img.shields.io/static/v1.svg?label=Status&message=Finished&color=green)\n",
    "\n",
    "<!-- Place this tag where you want the button to render. -->\n",
    "<a class=\"github-button\" href=\"https://github.com/particle1331/steepest-ascent\" data-color-scheme=\"no-preference: dark; light: light; dark: dark;\" data-icon=\"octicon-star\" data-size=\"large\" data-show-count=\"true\" aria-label=\"Star particle1331/steepest-ascent on GitHub\">Star</a>\n",
    "<!-- Place this tag in your head or just before your close body tag. -->\n",
    "<script async defer src=\"https://buttons.github.io/buttons.js\"></script> \n"
   ]
  },
  {
   "cell_type": "markdown",
   "metadata": {},
   "source": [
    "In this module, we will look **experiment tracking** and **model management**. A machine learning experiment is defined as a session or process of making machine learning models. Experiment tracking is the process of keeping track of all relevant information in an experiments. This includes source code, environment, data, models, hyperparameters, and so on which are important for reproducing the experiment as well as for making actual predictions. \n",
    "\n",
    "From experience, we know that manual tracking, e.g. with spreadsheets, is error prone, not standardized, has low visibility, and difficult for teams to collaborate over. As an alternative, we will experiment tracking platforms such as [MLFlow](https://mlflow.org/). MLFlow has four main components: tracking, models, model registry, and projects. In this course, we only be cover the first three. \n",
    "\n",
    "```{margin}\n",
    "⚠️ **Attribution:** These are notes for [Module 2](https://github.com/DataTalksClub/mlops-zoomcamp/tree/main/02-experiment-tracking) of the [MLOps Zoomcamp](https://github.com/DataTalksClub/mlops-zoomcamp). The MLOps Zoomcamp is a free course from [DataTalks.Club](https://github.com/DataTalksClub).\n",
    "```\n",
    "\n",
    "As we have seen with our previous prototyping, having the ability to reproduce results is important since we want to have the same results when deploying the model in different environments. Using experiment tracking and model management platforms allows us to have better chance at reproducing our results, as well as aid in organization (staging and deploying models) and optimization (finding the best models). "
   ]
  },
  {
   "cell_type": "markdown",
   "metadata": {},
   "source": [
    "## Getting started: MLFlow UI"
   ]
  },
  {
   "cell_type": "markdown",
   "metadata": {},
   "source": [
    "We can run the MLFlow UI with an SQLite backend as follows:"
   ]
  },
  {
   "cell_type": "markdown",
   "metadata": {},
   "source": [
    "\n",
    "```bash\n",
    "$ mlflow ui --backend-store-uri sqlite:///mlflow.db\n",
    "\n",
    "[2022-05-26 19:35:22 +0800] [92498] [INFO] Starting gunicorn 20.1.0\n",
    "[2022-05-26 19:35:22 +0800] [92498] [INFO] Listening at: http://127.0.0.1:5000 (92498)\n",
    "[2022-05-26 19:35:22 +0800] [92498] [INFO] Using worker: sync\n",
    "[2022-05-26 19:35:22 +0800] [92499] [INFO] Booting worker with pid: 92499\n",
    "```"
   ]
  },
  {
   "cell_type": "markdown",
   "metadata": {},
   "source": [
    "For our experiment, we will use our code and data from [Module 1](https://particle1331.github.io/inefficient-networks/notebooks/mlops/1-intro.html). So before doing any run, we either create an **experiment** or connect a run to it if the experiment already exists. This also sets the experiment tracking backend. The same one that is visualized in the UI above."
   ]
  },
  {
   "cell_type": "markdown",
   "metadata": {},
   "source": [
    "```{margin}\n",
    "[`experiment_lr.py`](https://github.com/particle1331/inefficient-networks/blob/mlops/docs/notebooks/mlops/2-mlflow/experiment_lr.py#L19-L21)\n",
    "```\n",
    "\n",
    "```python\n",
    "import mlflow\n",
    "\n",
    "mlflow.set_tracking_uri(\"sqlite:///mlflow.db\")\n",
    "mlflow.set_experiment(\"nyc-taxi-experiment\")\n",
    "```"
   ]
  },
  {
   "cell_type": "markdown",
   "metadata": {},
   "source": [
    "The next section of the code executes a **single run** of the experiment. Note the logging at the end of the script. Everything that runs inside the following context is a single run:"
   ]
  },
  {
   "cell_type": "markdown",
   "metadata": {},
   "source": [
    "```{margin}\n",
    "[`experiment_lr.py`](https://github.com/particle1331/inefficient-networks/blob/mlops/docs/notebooks/mlops/2-mlflow/experiment_lr.py#L25-L53)\n",
    "```\n",
    "```python\n",
    "with mlflow.start_run():\n",
    "\n",
    "    # Train model\n",
    "    model = LinearRegression()\n",
    "    model.fit(X_train, y_train)\n",
    "\n",
    "    # Plot predictions vs ground truth\n",
    "    fig = plot_duration_distribution(model, X_train, y_train, X_valid, y_valid)\n",
    "    fig.savefig('plot.svg')\n",
    "\n",
    "    # Print metric\n",
    "    rmse_train = mean_squared_error(y_train, model.predict(X_train), squared=False)\n",
    "    rmse_valid = mean_squared_error(y_valid, model.predict(X_valid), squared=False)\n",
    "\n",
    "    # Logging\n",
    "    mlflow.set_tag('author', 'particle')\n",
    "    mlflow.set_tag('model', 'sklearn')\n",
    "    \n",
    "    mlflow.log_param('train_data_path', train_data_path)\n",
    "    mlflow.log_param('valid_data_path', valid_data_path)\n",
    "    \n",
    "    mlflow.log_metric('rmse_train', rmse_train)\n",
    "    mlflow.log_metric('rmse_valid', rmse_valid)\n",
    "    \n",
    "    mlflow.log_artifact(ARTIFACTS_DIR / 'dict_vectorizer.pkl', artifact_path='preprocessing')\n",
    "    mlflow.log_artifact(ARTIFACTS_DIR / 'transforms.pkl', artifact_path='preprocessing')\n",
    "    mlflow.log_artifact(ARTIFACTS_DIR / 'categorical.pkl', artifact_path='preprocessing')\n",
    "    mlflow.log_artifact(ARTIFACTS_DIR / 'numerical.pkl', artifact_path='preprocessing')\n",
    "    mlflow.log_artifact(ARTIFACTS_DIR / 'plot.svg')\n",
    "```"
   ]
  },
  {
   "cell_type": "markdown",
   "metadata": {},
   "source": [
    "This will reflect in the UI as a single run in the `nyc-tax-experiment` experiment. MLFlow is able to obtain the version from `git` and the user from the system, i.e. the user that is currently logged in. The other values are obtained from the logs. "
   ]
  },
  {
   "cell_type": "markdown",
   "metadata": {},
   "source": [
    "```{figure} ../../../img/single-run-mlflow.png\n",
    "```"
   ]
  },
  {
   "cell_type": "markdown",
   "metadata": {},
   "source": [
    "If we click on the run, we can see more details about it that we logged. Shown here are the date of the run, the user that executed it, total run time, the source code used, as well as the git commit for this code. Status `FINISHED` indicates that the script successfully ran. These are useful metadata."
   ]
  },
  {
   "cell_type": "markdown",
   "metadata": {},
   "source": [
    "```{figure} ../../../img/single-run-mlflow-details.png\n",
    "```"
   ]
  },
  {
   "cell_type": "markdown",
   "metadata": {},
   "source": [
    "Regarding the details of the trained model, we have parameters for the data used (only paths, no versioning). Most importantly, we can see the logged RMSEs `5.7` (train) and `7.759` (valid). The plot of the distributions of the true and predicted distributions, which we logged as a training artifact, is also conveniently displayed here. Last, but not least, we log the artifacts that will be needed for reproducing the preprocessing performed on the raw data."
   ]
  },
  {
   "cell_type": "markdown",
   "metadata": {},
   "source": [
    "```{figure} ../../../img/mlflow-filter-tags.png\n",
    "```"
   ]
  },
  {
   "cell_type": "markdown",
   "metadata": {},
   "source": [
    "## Experiment tracking"
   ]
  },
  {
   "cell_type": "markdown",
   "metadata": {},
   "source": [
    "In this section, we switch to a more complex XGBoost model and perform hyperparameter optimization using [Hyperopt](https://hyperopt.github.io/hyperopt/). We show how this looks in MLFlow. Note that it is easy to select the best models in an experiment by simply clicking the column header of the metrics. We also look at **auto logging** which makes logging simpler for frameworks with MLFlow integration."
   ]
  },
  {
   "cell_type": "markdown",
   "metadata": {},
   "source": [
    "```{margin}\n",
    "[`experiment_xgb.py`](https://github.com/particle1331/inefficient-networks/blob/mlops/docs/notebooks/mlops/2-mlflow/experiment_xgb.py)\n",
    "```\n",
    "```python\n",
    "mlflow.set_tracking_uri(\"sqlite:///mlflow.db\")\n",
    "mlflow.set_experiment(\"nyc-taxi-experiment\")\n",
    "mlflow.xgboost.autolog(disable=True)\n",
    "\n",
    "\n",
    "def objective(params):\n",
    "    \"\"\"Compute RMSE. One trial = one run.\"\"\"\n",
    "    \n",
    "    with mlflow.start_run(run_name='xgb'):\n",
    "        \n",
    "        booster = xgb.train(\n",
    "            params=params,\n",
    "            dtrain=xgb_train,\n",
    "            num_boost_round=1000,\n",
    "            evals=[(xgb_valid, 'validation')],\n",
    "            early_stopping_rounds=50\n",
    "        )\n",
    "\n",
    "        rmse_valid = mean_squared_error(y_valid, booster.predict(xgb_valid), squared=False)\n",
    "        rmse_train = mean_squared_error(y_train, booster.predict(xgb_train), squared=False)\n",
    "        \n",
    "        mlflow.log_params(params)\n",
    "        mlflow.log_metric(\"rmse_valid\", rmse_valid)\n",
    "        mlflow.log_metric(\"rmse_train\", rmse_train)\n",
    "        mlflow.xgboost.log_model(booster, 'xgb-model')\n",
    "        mlflow.set_tag('model', 'xgboost')\n",
    "\n",
    "    return {'loss': rmse_valid, 'status': STATUS_OK}\n",
    "\n",
    "\n",
    "search_space = {\n",
    "    'max_depth': scope.int(hp.quniform('max_depth', 4, 100, 1)),\n",
    "    'learning_rate': hp.loguniform('learning_rate', -3, 0),\n",
    "    'reg_alpha': hp.loguniform('reg_alpha', -5, -1),\n",
    "    'reg_lambda': hp.loguniform('reg_lambda', -6, -1),\n",
    "    'min_child_weight': hp.loguniform('min_child_weight', -1, 3),\n",
    "    'objective': 'reg:squarederror',\n",
    "    'seed': 42\n",
    "}\n",
    "\n",
    "\n",
    "# Perform 50 runs with TPE algo\n",
    "best_result = fmin(\n",
    "    fn=objective,\n",
    "    space=search_space,\n",
    "    algo=tpe.suggest,\n",
    "    max_evals=50,\n",
    "    trials=Trials()\n",
    ")\n",
    "\n",
    "```"
   ]
  },
  {
   "cell_type": "markdown",
   "metadata": {},
   "source": [
    "### Trying out different models\n",
    "Note that we section the code in three parts: 1) a `setup` function which sets up the information used in the runs, 2) a `run` function which executes a single run, and 3) a `main` function which executes multiple runs of the `run` function. \n"
   ]
  },
  {
   "cell_type": "markdown",
   "metadata": {},
   "source": [
    "we wont use autolog for xgbooist to make the runs faster. but it can be used by \n"
   ]
  },
  {
   "cell_type": "markdown",
   "metadata": {},
   "source": [
    "always commit before running experiments. this ties your experiment with a specific commit or version of the source code."
   ]
  },
  {
   "cell_type": "markdown",
   "metadata": {},
   "source": [
    "## Model management"
   ]
  },
  {
   "cell_type": "markdown",
   "metadata": {},
   "source": [
    "In this section, we look at **model management**. In addition to experiment tracking, part of model management is to do model versioning and model deployment. Model management using file systems (which typically just involve a file name and date modified) is error prone. There is no versioning and no model lineage. Mode lineage refers to all associations between a model and all components involved in its creation.\n",
    "\n",
    "**Reading**\n",
    "* [Model and data lineage in machine learning experimentation](https://aws.amazon.com/blogs/machine-learning/model-and-data-lineage-in-machine-learning-experimentation/)"
   ]
  },
  {
   "cell_type": "markdown",
   "metadata": {},
   "source": [
    "1. Most basic:\n",
    "* `log_artifact(path, artifact_path)`\n",
    "\n",
    "artifact path is simply the path relative to the experiment run folder where MLFlow will save the artifact. Recall we previously saved the plot distribution as artifact.  "
   ]
  },
  {
   "cell_type": "markdown",
   "metadata": {},
   "source": [
    "2. `<framework>.log_model`\n",
    "\n",
    "either python function, or flavor.\n",
    "\n",
    "MLFLow model format can be deployed to different platforms. \n"
   ]
  },
  {
   "cell_type": "markdown",
   "metadata": {},
   "source": [
    "mlflow.log_model\n",
    "\n",
    "MLModel stores information about the model, flavors, path (where model lives), serves model as python function or an xgboost model. versions are stated, as well as conda yaml file or requirements for describing environment of model. \n",
    "\n",
    "we can also log the preprocessor, \n",
    "\n",
    "also feature importances are saved, here importance is set for each combination of pu and do location id.  "
   ]
  },
  {
   "cell_type": "markdown",
   "metadata": {},
   "source": [
    "## Model registry"
   ]
  },
  {
   "cell_type": "markdown",
   "metadata": {},
   "source": [
    "New model -> good performance -> plz deploy. \n",
    "\n",
    "what has changed? is there any preprocessing needed? what is the environment, what are the dependencies? \n",
    "\n",
    "back and fort communication with data scientist.\n",
    "\n",
    "what if incident in prod, need rollback, need to go to email inbox. imagine its not possible to run this model again, have to retrain from scratch. but what if retraining information is lost, no idea of env used, which dataset, and so on. \n",
    "\n",
    "recall we have tracking server, which stored experiment runs. model registry has stages. staging -> prod -> archive. DS only decides which models are ready for prod. deployment engineer not responsible. \n",
    "\n",
    "then if we want rollback, we can go back from archive to prod. note that model registry not deployment. it just labels models. need to compliment with ci/cd. in order to do actual deployment. \n",
    "\n"
   ]
  },
  {
   "cell_type": "markdown",
   "metadata": {},
   "source": [
    "comparing models: \n",
    "- look at duration, and model size, rmse\n"
   ]
  },
  {
   "cell_type": "markdown",
   "metadata": {},
   "source": [
    "information you need to consider"
   ]
  },
  {
   "cell_type": "code",
   "execution_count": 2,
   "metadata": {},
   "outputs": [
    {
     "data": {
      "text/plain": [
       "(73908, 17350)"
      ]
     },
     "execution_count": 2,
     "metadata": {},
     "output_type": "execute_result"
    }
   ],
   "source": [
    "\n",
    "from utils import set_datasets, plot_duration_distribution\n",
    "\n",
    "from sklearn.ensemble import RandomForestRegressor, GradientBoostingRegressor, ExtraTreesRegressor\n",
    "from sklearn.linear_model import Lasso, Ridge\n",
    "from sklearn.metrics import mean_squared_error\n",
    "\n",
    "import mlflow\n",
    "\n",
    "\n",
    "# Set datasets\n",
    "train_data_path = '../data/green_tripdata_2021-01.parquet'\n",
    "valid_data_path = '../data/green_tripdata_2021-02.parquet'\n",
    "X_train, y_train, X_valid, y_valid = set_datasets(train_data_path, valid_data_path)\n",
    "\n",
    "X_train.shape"
   ]
  },
  {
   "cell_type": "code",
   "execution_count": 22,
   "metadata": {},
   "outputs": [],
   "source": [
    "from utils import RUNS_DIR, preprocess_test, DATA_DIR\n",
    "import pandas as pd\n",
    "import joblib\n",
    "import mlflow\n",
    "\n",
    "run_path = RUNS_DIR / '1' / 'faade249567549fca12e910b59b6469d'\n",
    "model_path = run_path / 'artifacts' / 'model'\n",
    "model_artifacts_path = run_path / 'artifacts' / 'preprocessing'\n",
    "\n",
    "dv = joblib.load(model_artifacts_path / 'dict_vectorizer.pkl')\n",
    "transforms = joblib.load(model_artifacts_path / 'transforms.pkl')\n",
    "categorical = joblib.load(model_artifacts_path / 'categorical.pkl')\n",
    "numerical = joblib.load(model_artifacts_path / 'numerical.pkl')\n",
    "\n",
    "train_data_path = DATA_DIR / 'green_tripdata_2021-01.parquet'\n",
    "valid_data_path = DATA_DIR / 'green_tripdata_2021-02.parquet'\n",
    "\n",
    "train_data = preprocess_test(pd.read_parquet(train_data_path), dv, transforms, categorical, numerical)\n",
    "valid_data = preprocess_test(pd.read_parquet(valid_data_path), dv, transforms, categorical, numerical)"
   ]
  },
  {
   "cell_type": "code",
   "execution_count": 42,
   "metadata": {},
   "outputs": [
    {
     "name": "stderr",
     "output_type": "stream",
     "text": [
      "/Users/particle1331/code/inefficient-networks/docs/notebooks/mlops/2-mlflow/utils.py:20: SettingWithCopyWarning: \n",
      "A value is trying to be set on a copy of a slice from a DataFrame.\n",
      "Try using .loc[row_indexer,col_indexer] = value instead\n",
      "\n",
      "See the caveats in the documentation: https://pandas.pydata.org/pandas-docs/stable/user_guide/indexing.html#returning-a-view-versus-a-copy\n",
      "  df['PU_DO'] = df['PULocationID'].astype(str) + '_' + df['DOLocationID'].astype(str)\n",
      "/Users/particle1331/code/inefficient-networks/docs/notebooks/mlops/2-mlflow/utils.py:53: SettingWithCopyWarning: \n",
      "A value is trying to be set on a copy of a slice from a DataFrame.\n",
      "Try using .loc[row_indexer,col_indexer] = value instead\n",
      "\n",
      "See the caveats in the documentation: https://pandas.pydata.org/pandas-docs/stable/user_guide/indexing.html#returning-a-view-versus-a-copy\n",
      "  df[categorical] = df[categorical].astype(str)\n",
      "/Users/particle1331/code/inefficient-networks/docs/notebooks/mlops/2-mlflow/utils.py:20: SettingWithCopyWarning: \n",
      "A value is trying to be set on a copy of a slice from a DataFrame.\n",
      "Try using .loc[row_indexer,col_indexer] = value instead\n",
      "\n",
      "See the caveats in the documentation: https://pandas.pydata.org/pandas-docs/stable/user_guide/indexing.html#returning-a-view-versus-a-copy\n",
      "  df['PU_DO'] = df['PULocationID'].astype(str) + '_' + df['DOLocationID'].astype(str)\n",
      "/Users/particle1331/code/inefficient-networks/docs/notebooks/mlops/2-mlflow/utils.py:53: SettingWithCopyWarning: \n",
      "A value is trying to be set on a copy of a slice from a DataFrame.\n",
      "Try using .loc[row_indexer,col_indexer] = value instead\n",
      "\n",
      "See the caveats in the documentation: https://pandas.pydata.org/pandas-docs/stable/user_guide/indexing.html#returning-a-view-versus-a-copy\n",
      "  df[categorical] = df[categorical].astype(str)\n"
     ]
    }
   ],
   "source": [
    "from utils import set_datasets\n",
    "\n",
    "# Set datasets\n",
    "train_data_path = '../data/green_tripdata_2021-01.parquet'\n",
    "valid_data_path = '../data/green_tripdata_2021-02.parquet'\n",
    "\n",
    "X_train, y_train, X_valid, y_valid = set_datasets(train_data_path, valid_data_path)"
   ]
  },
  {
   "cell_type": "code",
   "execution_count": 41,
   "metadata": {},
   "outputs": [
    {
     "name": "stdout",
     "output_type": "stream",
     "text": [
      "4.272621269941186\n",
      "6.43557380916725\n"
     ]
    }
   ],
   "source": [
    "from sklearn.metrics import mean_squared_error\n",
    "\n",
    "loaded_model = mlflow.pyfunc.load_model(model_path)\n",
    "\n",
    "print(mean_squared_error(y_train, loaded_model.predict(X_train), squared=False))\n",
    "print(mean_squared_error(y_valid, loaded_model.predict(X_valid), squared=False))"
   ]
  },
  {
   "cell_type": "code",
   "execution_count": 47,
   "metadata": {},
   "outputs": [
    {
     "data": {
      "text/plain": [
       "<AxesSubplot:ylabel='Count'>"
      ]
     },
     "execution_count": 47,
     "metadata": {},
     "output_type": "execute_result"
    },
    {
     "data": {
      "image/png": "[encoded data removed]",
      "text/plain": [
       "<Figure size 432x288 with 1 Axes>"
      ]
     },
     "metadata": {
      "needs_background": "light"
     },
     "output_type": "display_data"
    }
   ],
   "source": [
    "from sklearn.metrics import mean_squared_error\n",
    "import seaborn as sns\n",
    "\n",
    "sns.histplot(loaded_model.predict(train_data), color='C0')\n",
    "sns.histplot(loaded_model.predict(X_train), color='C1')\n",
    "# Recall X_train has been filtered to include only rides with duration (0, 60) minutes."
   ]
  },
  {
   "cell_type": "code",
   "execution_count": 48,
   "metadata": {},
   "outputs": [
    {
     "data": {
      "text/plain": [
       "<AxesSubplot:ylabel='Count'>"
      ]
     },
     "execution_count": 48,
     "metadata": {},
     "output_type": "execute_result"
    },
    {
     "data": {
      "image/png": "[encoded data removed]",
      "text/plain": [
       "<Figure size 432x288 with 1 Axes>"
      ]
     },
     "metadata": {
      "needs_background": "light"
     },
     "output_type": "display_data"
    }
   ],
   "source": [
    "sns.histplot(loaded_model.predict(valid_data), color='C0')\n",
    "sns.histplot(loaded_model.predict(X_valid), color='C1') "
   ]
  },
  {
   "cell_type": "code",
   "execution_count": null,
   "metadata": {},
   "outputs": [],
   "source": []
  }
 ],
 "metadata": {
  "interpreter": {
   "hash": "c69054bf84d6ad36c63a02b926ed0729b159d9b327d6020e8e7aee9c3ae1ac1f"
  },
  "kernelspec": {
   "display_name": "Python 3.9.12 ('mlops')",
   "language": "python",
   "name": "python3"
  },
  "language_info": {
   "codemirror_mode": {
    "name": "ipython",
    "version": 3
   },
   "file_extension": ".py",
   "mimetype": "text/x-python",
   "name": "python",
   "nbconvert_exporter": "python",
   "pygments_lexer": "ipython3",
   "version": "3.9.12"
  },
  "orig_nbformat": 4
 },
 "nbformat": 4,
 "nbformat_minor": 2
}
