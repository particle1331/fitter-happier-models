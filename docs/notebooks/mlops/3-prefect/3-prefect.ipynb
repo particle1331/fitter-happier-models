{
 "cells": [
  {
   "cell_type": "markdown",
   "metadata": {},
   "source": [
    "# Orchestration and ML Pipelines"
   ]
  },
  {
   "cell_type": "markdown",
   "metadata": {},
   "source": [
    "![Status](https://img.shields.io/static/v1.svg?label=Status&message=Ongoing&color=orange)\n",
    "\n",
    "<!-- Place this tag where you want the button to render. -->\n",
    "<a class=\"github-button\" href=\"https://github.com/particle1331/steepest-ascent\" data-color-scheme=\"no-preference: dark; light: light; dark: dark;\" data-icon=\"octicon-star\" data-size=\"large\" data-show-count=\"true\" aria-label=\"Star particle1331/steepest-ascent on GitHub\">Star</a>\n",
    "<!-- Place this tag in your head or just before your close body tag. -->\n",
    "<script async defer src=\"https://buttons.github.io/buttons.js\"></script> \n"
   ]
  },
  {
   "cell_type": "markdown",
   "metadata": {},
   "source": [
    "in the previous module we learned about experiment tracking and model registry.\n",
    "specifically we discussed how to get a candidate model and promote it from staging to production.\n",
    "in this module, we learn How to automate this process\n",
    "put in schedule and automate with workflow orchestration specifically prefect. "
   ]
  },
  {
   "cell_type": "markdown",
   "metadata": {},
   "source": [
    "workflow orchestration definition 3:40\n",
    "\n",
    "eliminate negative engineering\n",
    "\n",
    "prefect\n",
    "\n",
    "before: DAG\n",
    "\n",
    "observability \n",
    "\n",
    "\n",
    "===\n",
    "\n",
    "attach observability to each function\n",
    "\n",
    "model decay over time = drift\n",
    "\n",
    "    - regularly retrain\n",
    "    - already have script tools for scheduling\n",
    "    - want to compare metrics against prod => promote staging to prod\n",
    "\n",
    "https://thumb.tildacdn.com/tild3462-6534-4732-a462-643534313536/-/format/webp/model_decay_retraini.png\n",
    "\n",
    "\n",
    "parameter validation prefect\n",
    "\n"
   ]
  },
  {
   "cell_type": "markdown",
   "metadata": {},
   "source": [
    "```{margin}\n",
    "⚠️ **Attribution:** These are notes for [Module 3](https://github.com/DataTalksClub/mlops-zoomcamp/tree/main/03-orchestration) of the [MLOps Zoomcamp](https://github.com/DataTalksClub/mlops-zoomcamp). The MLOps Zoomcamp is a free course from [DataTalks.Club](https://github.com/DataTalksClub).\n",
    "```"
   ]
  },
  {
   "cell_type": "markdown",
   "metadata": {},
   "source": [
    "## Introduction to Prefect 2.0"
   ]
  },
  {
   "cell_type": "markdown",
   "metadata": {},
   "source": []
  }
 ],
 "metadata": {
  "interpreter": {
   "hash": "c69054bf84d6ad36c63a02b926ed0729b159d9b327d6020e8e7aee9c3ae1ac1f"
  },
  "kernelspec": {
   "display_name": "Python 3.9.13 ('mlops')",
   "language": "python",
   "name": "python3"
  },
  "language_info": {
   "name": "python",
   "version": "3.9.13"
  },
  "orig_nbformat": 4
 },
 "nbformat": 4,
 "nbformat_minor": 2
}
