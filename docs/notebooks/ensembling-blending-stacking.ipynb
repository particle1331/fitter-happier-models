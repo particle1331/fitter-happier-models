{
 "cells": [
  {
   "cell_type": "markdown",
   "source": [
    "# Ensembling: Blending and Stacking"
   ],
   "metadata": {
    "papermill": {
     "duration": 0.043191,
     "end_time": "2021-08-25T05:24:32.396308",
     "exception": false,
     "start_time": "2021-08-25T05:24:32.353117",
     "status": "completed"
    },
    "tags": []
   }
  },
  {
   "cell_type": "markdown",
   "source": [
    "In this notebook, we implement stacking of machine learning models. Stacking several uncorrelated models is known to generalize better than individual models. Stacking mainly requires good cross-validation strategy between levels of prediction. In particular, we will demostrate that maintaining the same cross-validation folds between levels minimizes overfitting."
   ],
   "metadata": {
    "papermill": {
     "duration": 0.042908,
     "end_time": "2021-08-25T05:24:32.483710",
     "exception": false,
     "start_time": "2021-08-25T05:24:32.440802",
     "status": "completed"
    },
    "tags": []
   }
  },
  {
   "cell_type": "code",
   "execution_count": 1,
   "source": [
    "import pandas as pd\n",
    "import numpy as np\n",
    "from scipy.optimize import minimize, fmin\n",
    "from xgboost import XGBClassifier\n",
    "\n",
    "from sklearn import model_selection, linear_model, metrics, decomposition, ensemble\n",
    "from sklearn.preprocessing import StandardScaler\n",
    "from sklearn.feature_extraction.text import TfidfVectorizer, CountVectorizer\n",
    "from sklearn.pipeline import Pipeline, make_pipeline\n",
    "from sklearn.compose import ColumnTransformer\n",
    "from sklearn.base import BaseEstimator, TransformerMixin, ClassifierMixin\n",
    "\n",
    "from functools import partial\n",
    "from typing import List\n",
    "import warnings\n",
    "import random\n",
    "\n",
    "\n",
    "warnings.simplefilter(action='ignore')\n",
    "NUM_FOLDS = 5"
   ],
   "outputs": [],
   "metadata": {
    "_cell_guid": "b1076dfc-b9ad-4769-8c92-a6c4dae69d19",
    "_uuid": "8f2839f25d086af736a60e9eeb907d3b93b6e0e5",
    "execution": {
     "iopub.execute_input": "2021-08-25T05:24:32.583403Z",
     "iopub.status.busy": "2021-08-25T05:24:32.582724Z",
     "iopub.status.idle": "2021-08-25T05:24:33.985018Z",
     "shell.execute_reply": "2021-08-25T05:24:33.984316Z",
     "shell.execute_reply.started": "2021-08-25T04:50:13.207941Z"
    },
    "papermill": {
     "duration": 1.458677,
     "end_time": "2021-08-25T05:24:33.985203",
     "exception": false,
     "start_time": "2021-08-25T05:24:32.526526",
     "status": "completed"
    },
    "tags": []
   }
  },
  {
   "cell_type": "markdown",
   "source": [
    "## Dataset"
   ],
   "metadata": {
    "papermill": {
     "duration": 0.041678,
     "end_time": "2021-08-25T05:24:34.069526",
     "exception": false,
     "start_time": "2021-08-25T05:24:34.027848",
     "status": "completed"
    },
    "tags": []
   }
  },
  {
   "cell_type": "markdown",
   "source": [
    "We do not really care too much about the dataset. The dataset used here is particularly nice. No issues. Idea is that we have text data in the form of a movie review, along with its sentiment classification. We will build a **sentiment classifier** using an ensemble of three models."
   ],
   "metadata": {
    "papermill": {
     "duration": 0.041795,
     "end_time": "2021-08-25T05:24:34.152993",
     "exception": false,
     "start_time": "2021-08-25T05:24:34.111198",
     "status": "completed"
    },
    "tags": []
   }
  },
  {
   "cell_type": "code",
   "execution_count": 2,
   "source": [
    "df = pd.read_csv('../input/kumarmanoj-bag-of-words-meets-bags-of-popcorn/labeledTrainData.tsv', sep='\\t')\n",
    "df.head()"
   ],
   "outputs": [
    {
     "output_type": "execute_result",
     "data": {
      "text/plain": [
       "       id  sentiment                                             review\n",
       "0  5814_8          1  With all this stuff going down at the moment w...\n",
       "1  2381_9          1  \\The Classic War of the Worlds\\\" by Timothy Hi...\n",
       "2  7759_3          0  The film starts with a manager (Nicholas Bell)...\n",
       "3  3630_4          0  It must be assumed that those who praised this...\n",
       "4  9495_8          1  Superbly trashy and wondrously unpretentious 8..."
      ],
      "text/html": [
       "<div>\n",
       "<style scoped>\n",
       "    .dataframe tbody tr th:only-of-type {\n",
       "        vertical-align: middle;\n",
       "    }\n",
       "\n",
       "    .dataframe tbody tr th {\n",
       "        vertical-align: top;\n",
       "    }\n",
       "\n",
       "    .dataframe thead th {\n",
       "        text-align: right;\n",
       "    }\n",
       "</style>\n",
       "<table border=\"1\" class=\"dataframe\">\n",
       "  <thead>\n",
       "    <tr style=\"text-align: right;\">\n",
       "      <th></th>\n",
       "      <th>id</th>\n",
       "      <th>sentiment</th>\n",
       "      <th>review</th>\n",
       "    </tr>\n",
       "  </thead>\n",
       "  <tbody>\n",
       "    <tr>\n",
       "      <th>0</th>\n",
       "      <td>5814_8</td>\n",
       "      <td>1</td>\n",
       "      <td>With all this stuff going down at the moment w...</td>\n",
       "    </tr>\n",
       "    <tr>\n",
       "      <th>1</th>\n",
       "      <td>2381_9</td>\n",
       "      <td>1</td>\n",
       "      <td>\\The Classic War of the Worlds\\\" by Timothy Hi...</td>\n",
       "    </tr>\n",
       "    <tr>\n",
       "      <th>2</th>\n",
       "      <td>7759_3</td>\n",
       "      <td>0</td>\n",
       "      <td>The film starts with a manager (Nicholas Bell)...</td>\n",
       "    </tr>\n",
       "    <tr>\n",
       "      <th>3</th>\n",
       "      <td>3630_4</td>\n",
       "      <td>0</td>\n",
       "      <td>It must be assumed that those who praised this...</td>\n",
       "    </tr>\n",
       "    <tr>\n",
       "      <th>4</th>\n",
       "      <td>9495_8</td>\n",
       "      <td>1</td>\n",
       "      <td>Superbly trashy and wondrously unpretentious 8...</td>\n",
       "    </tr>\n",
       "  </tbody>\n",
       "</table>\n",
       "</div>"
      ]
     },
     "metadata": {},
     "execution_count": 2
    }
   ],
   "metadata": {
    "execution": {
     "iopub.execute_input": "2021-08-25T05:24:34.242795Z",
     "iopub.status.busy": "2021-08-25T05:24:34.241932Z",
     "iopub.status.idle": "2021-08-25T05:24:35.245096Z",
     "shell.execute_reply": "2021-08-25T05:24:35.245622Z",
     "shell.execute_reply.started": "2021-08-25T04:50:13.755590Z"
    },
    "papermill": {
     "duration": 1.050901,
     "end_time": "2021-08-25T05:24:35.245833",
     "exception": false,
     "start_time": "2021-08-25T05:24:34.194932",
     "status": "completed"
    },
    "tags": []
   }
  },
  {
   "cell_type": "markdown",
   "source": [
    "### Train and test split"
   ],
   "metadata": {
    "papermill": {
     "duration": 0.042609,
     "end_time": "2021-08-25T05:24:35.331840",
     "exception": false,
     "start_time": "2021-08-25T05:24:35.289231",
     "status": "completed"
    },
    "tags": []
   }
  },
  {
   "cell_type": "code",
   "execution_count": 3,
   "source": [
    "df_train, df_test = model_selection.train_test_split(df, test_size=0.20)\n",
    "print(df_train.shape, df_test.shape)"
   ],
   "outputs": [
    {
     "output_type": "stream",
     "name": "stdout",
     "text": [
      "(20000, 3) (5000, 3)\n"
     ]
    }
   ],
   "metadata": {
    "execution": {
     "iopub.execute_input": "2021-08-25T05:24:35.420817Z",
     "iopub.status.busy": "2021-08-25T05:24:35.420155Z",
     "iopub.status.idle": "2021-08-25T05:24:35.431414Z",
     "shell.execute_reply": "2021-08-25T05:24:35.432064Z",
     "shell.execute_reply.started": "2021-08-25T04:50:14.153836Z"
    },
    "papermill": {
     "duration": 0.057532,
     "end_time": "2021-08-25T05:24:35.432258",
     "exception": false,
     "start_time": "2021-08-25T05:24:35.374726",
     "status": "completed"
    },
    "tags": []
   }
  },
  {
   "cell_type": "markdown",
   "source": [
    "### Cross-validation folds"
   ],
   "metadata": {
    "papermill": {
     "duration": 0.043332,
     "end_time": "2021-08-25T05:24:35.518862",
     "exception": false,
     "start_time": "2021-08-25T05:24:35.475530",
     "status": "completed"
    },
    "tags": []
   }
  },
  {
   "cell_type": "markdown",
   "source": [
    "Here we create cross-validation folds. Very important for evaluating models, and creating Level 1 features that are not overfitted."
   ],
   "metadata": {
    "papermill": {
     "duration": 0.042668,
     "end_time": "2021-08-25T05:24:35.606390",
     "exception": false,
     "start_time": "2021-08-25T05:24:35.563722",
     "status": "completed"
    },
    "tags": []
   }
  },
  {
   "cell_type": "code",
   "execution_count": 4,
   "source": [
    "df_train.loc[:, 'kfold'] = -1 \n",
    "df_train = df_train.sample(frac=1.0).reset_index(drop=True)\n",
    "y = df_train['sentiment'].values\n",
    "\n",
    "skf = model_selection.StratifiedKFold(n_splits=NUM_FOLDS+1)\n",
    "for f, (t_, v_) in enumerate(skf.split(X=df_train, y=y)):\n",
    "    df_train.loc[v_, \"kfold\"] = f"
   ],
   "outputs": [],
   "metadata": {
    "execution": {
     "iopub.execute_input": "2021-08-25T05:24:35.703106Z",
     "iopub.status.busy": "2021-08-25T05:24:35.701907Z",
     "iopub.status.idle": "2021-08-25T05:24:35.727072Z",
     "shell.execute_reply": "2021-08-25T05:24:35.726508Z",
     "shell.execute_reply.started": "2021-08-25T04:50:14.168945Z"
    },
    "papermill": {
     "duration": 0.077843,
     "end_time": "2021-08-25T05:24:35.727222",
     "exception": false,
     "start_time": "2021-08-25T05:24:35.649379",
     "status": "completed"
    },
    "tags": []
   }
  },
  {
   "cell_type": "code",
   "execution_count": 5,
   "source": [
    "df_train.kfold.value_counts()"
   ],
   "outputs": [
    {
     "output_type": "execute_result",
     "data": {
      "text/plain": [
       "0    3334\n",
       "1    3334\n",
       "2    3333\n",
       "3    3333\n",
       "4    3333\n",
       "5    3333\n",
       "Name: kfold, dtype: int64"
      ]
     },
     "metadata": {},
     "execution_count": 5
    }
   ],
   "metadata": {
    "execution": {
     "iopub.execute_input": "2021-08-25T05:24:35.821517Z",
     "iopub.status.busy": "2021-08-25T05:24:35.820823Z",
     "iopub.status.idle": "2021-08-25T05:24:35.827604Z",
     "shell.execute_reply": "2021-08-25T05:24:35.828074Z",
     "shell.execute_reply.started": "2021-08-25T04:50:14.195736Z"
    },
    "papermill": {
     "duration": 0.057671,
     "end_time": "2021-08-25T05:24:35.828261",
     "exception": false,
     "start_time": "2021-08-25T05:24:35.770590",
     "status": "completed"
    },
    "tags": []
   }
  },
  {
   "cell_type": "markdown",
   "source": [
    "## Stacking"
   ],
   "metadata": {
    "papermill": {
     "duration": 0.043496,
     "end_time": "2021-08-25T05:24:35.915597",
     "exception": false,
     "start_time": "2021-08-25T05:24:35.872101",
     "status": "completed"
    },
    "tags": []
   }
  },
  {
   "cell_type": "markdown",
   "source": [
    "We define a class that automates training and prediction of stacked models. Several models can be trained on the training set whose predict probabilities can be used as feature for a further metamodel called a **stacker**. Observe that this process can be iterated to several more levels. To avoid creating meta features that are overfitted to the train set, the meta features are generated by out-of-fold (OOF) training and prediction of the models on the features of the previous level. This requires defining cross-validation folds. The same cross-validation folds will be used to generate metafeatures at deeper levels. This will be justified later. \n",
    "\n",
    "After generating metafeatures, the models will be retrained on the whole training set (not just on train folds). This increases accuracy of prediction on the test set. Finally, prediction on the test set will simulate conditions when the model was trained &mdash; essentially the test set acts like an extra validation fold.\n",
    "\n",
    "\n",
    ":::{note}\n",
    "Alternatively, we could make predictions on the test dataset using each base model immediately after it gets fitted on each fold. In our case, this would generate test-set predictions for five of each base models. Then, we would average the predictions per model to generate our level 1 meta features.\n",
    "\n",
    "One benefit to this is that it’s less time consuming than the first approach (since we don’t have to retrain each model on the full training dataset). It also helps that our train meta features and test meta features should follow a similar distribution. However, the test meta features are likely more accurate in the first approach since each base model was trained on the full training dataset (as opposed to 80% of the training dataset, five times in the 2nd approach).\n",
    ":::\n",
    "\n"
   ],
   "metadata": {
    "papermill": {
     "duration": 0.043947,
     "end_time": "2021-08-25T05:24:36.003197",
     "exception": false,
     "start_time": "2021-08-25T05:24:35.959250",
     "status": "completed"
    },
    "tags": []
   }
  },
  {
   "cell_type": "markdown",
   "source": [
    "### Implementation"
   ],
   "metadata": {
    "papermill": {
     "duration": 0.044259,
     "end_time": "2021-08-25T05:24:36.091261",
     "exception": false,
     "start_time": "2021-08-25T05:24:36.047002",
     "status": "completed"
    },
    "tags": []
   }
  },
  {
   "cell_type": "code",
   "execution_count": 6,
   "source": [
    "class StackingClassifier:\n",
    "    \"\"\"Implements model stacking for classification.\"\"\"\n",
    "    \n",
    "    def __init__(self, model_dict_list):\n",
    "        \"\"\"Initialize by passing `model_dict` which is a list of dictionaries \n",
    "        of name-model pairs for each level.\"\"\"\n",
    "        \n",
    "        self.model_dict_list = model_dict_list\n",
    "        self.cv_scores_ = {}\n",
    "        self.metafeatures_ = None\n",
    "        \n",
    "    def fit(self, df):\n",
    "        \"\"\"Fit classifier. This assumes `df` is a DataFrame with \"id\", \"kfold\", \n",
    "        \"sentiment\" (target) columns, followed by features columns.\"\"\"\n",
    "        \n",
    "        df = df.copy()\n",
    "        \n",
    "        # Iterating over all stacking levels\n",
    "        metafeatures = []\n",
    "        for m in range(len(self.model_dict_list)):\n",
    "            \n",
    "            # Get models in current layer\n",
    "            model_dict = self.model_dict_list[m]\n",
    "            level = m + 1\n",
    "            \n",
    "            # Identify feature columns, i.e. preds of prev. layer\n",
    "            if m == 0:\n",
    "                feature_cols = ['review']\n",
    "            else:\n",
    "                prev_level_names = self.model_dict_list[m-1].keys()\n",
    "                feature_cols = [f'{name}_{level-1}' for name in prev_level_names]\n",
    "            \n",
    "            # Iterate over models in the current layer\n",
    "            for model_name in model_dict.keys():\n",
    "                print(f'\\nLevel {level} preds: {model_name}')\n",
    "                self.cv_scores_[f'{model_name}_{level}'] = []\n",
    "                model = model_dict[model_name]\n",
    "                \n",
    "                # Generate feature for next layer models from OOF preds\n",
    "                oof_preds = []\n",
    "                for j in range(df.kfold.nunique()):\n",
    "                    oof_pred, oof_auc = self._oof_pred(df, feature_cols, model, \n",
    "                                                        model_name, fold=j, level=level)\n",
    "                    oof_preds.append(oof_pred)\n",
    "                    self.cv_scores_[f'{model_name}_{level}'].append(oof_auc)\n",
    "                \n",
    "                pred = pd.concat(oof_preds)\n",
    "                df = df.merge(pred[['id', f'{model_name}_{level}']], on='id', how='left')   \n",
    "                metafeatures.append(f'{model_name}_{level}')\n",
    "        \n",
    "                # Train models on entire feature columns for inference\n",
    "                model.fit(df[feature_cols], df.sentiment.values)\n",
    "        \n",
    "        self.metafeatures_ = df[metafeatures]\n",
    "        return self\n",
    "        \n",
    "    def predict_proba(self, test_df):\n",
    "        \"\"\"Return classification probabilities.\"\"\"\n",
    "        \n",
    "        test_df = test_df.copy()\n",
    "        \n",
    "        # Iterate over layers to make predictions\n",
    "        for m in range(len(self.model_dict_list)):\n",
    "            \n",
    "            # Get models for current layer\n",
    "            model_dict = self.model_dict_list[m]\n",
    "            level = m + 1\n",
    "            \n",
    "            # Get feature columns to use for prediction\n",
    "            if m == 0:\n",
    "                feature_cols = ['review']\n",
    "            else:\n",
    "                prev_names = self.model_dict_list[m-1].keys()\n",
    "                feature_cols = [f\"{model_name}_{level-1}\" for model_name in prev_names]\n",
    "\n",
    "            # Append predictions to test DataFrame\n",
    "            for model_name in model_dict.keys():\n",
    "                model = model_dict[model_name]\n",
    "                pred = model.predict_proba(test_df[feature_cols])[:, 1] \n",
    "                test_df.loc[:, f\"{model_name}_{level}\"] = pred\n",
    "                    \n",
    "        # Return last predictions\n",
    "        return np.c_[1 - pred, pred]\n",
    "        \n",
    "    def _oof_pred(self, df, feature_cols, model, model_name, fold, level):\n",
    "        \"Train on K-1 folds, predict on fold K. Return OOF predictions with IDs.\"\n",
    "\n",
    "        # Get folds; include ID and target cols, and feature cols\n",
    "        df_trn = df[df.kfold != fold][['id', 'sentiment']+feature_cols]\n",
    "        df_oof = df[df.kfold == fold][['id', 'sentiment']+feature_cols]\n",
    "        \n",
    "        # Fit model. \n",
    "        model.fit(df_trn[feature_cols], df_trn.sentiment.values)\n",
    "        oof_pred = model.predict_proba(df_oof[feature_cols])[:, 1] \n",
    "        auc = metrics.roc_auc_score(df_oof.sentiment.values, oof_pred)\n",
    "        print(f\"fold={fold}, auc={auc}\")\n",
    "\n",
    "        # Return OOF predictions with ids\n",
    "        df_oof.loc[:, f\"{model_name}_{level}\"] = oof_pred\n",
    "        return df_oof[[\"id\", f\"{model_name}_{level}\"]], auc"
   ],
   "outputs": [],
   "metadata": {
    "execution": {
     "iopub.execute_input": "2021-08-25T05:24:36.199362Z",
     "iopub.status.busy": "2021-08-25T05:24:36.187075Z",
     "iopub.status.idle": "2021-08-25T05:24:36.202502Z",
     "shell.execute_reply": "2021-08-25T05:24:36.201940Z",
     "shell.execute_reply.started": "2021-08-25T04:50:14.205990Z"
    },
    "papermill": {
     "duration": 0.067336,
     "end_time": "2021-08-25T05:24:36.202652",
     "exception": false,
     "start_time": "2021-08-25T05:24:36.135316",
     "status": "completed"
    },
    "tags": []
   }
  },
  {
   "cell_type": "markdown",
   "source": [
    "### Blending"
   ],
   "metadata": {
    "papermill": {
     "duration": 0.042941,
     "end_time": "2021-08-25T05:24:36.289237",
     "exception": false,
     "start_time": "2021-08-25T05:24:36.246296",
     "status": "completed"
    },
    "tags": []
   }
  },
  {
   "cell_type": "markdown",
   "source": [
    "Let's start with a simple stacked model where we simply perform a weighted average of the prediction probabilities. This method is called **blending**. We will use three base models to generate probabilities. Hopefully these are uncorrelated:\n",
    "1. Logistic Regression + TF-IDF\n",
    "2. Logistic Regression + Count Vectorizer\n",
    "3. Random Forest + TF-IDF + SVD"
   ],
   "metadata": {
    "execution": {
     "iopub.execute_input": "2021-08-23T17:34:52.241474Z",
     "iopub.status.busy": "2021-08-23T17:34:52.240952Z",
     "iopub.status.idle": "2021-08-23T17:34:52.256728Z",
     "shell.execute_reply": "2021-08-23T17:34:52.255385Z",
     "shell.execute_reply.started": "2021-08-23T17:34:52.241439Z"
    },
    "papermill": {
     "duration": 0.04338,
     "end_time": "2021-08-25T05:24:36.376446",
     "exception": false,
     "start_time": "2021-08-25T05:24:36.333066",
     "status": "completed"
    },
    "tags": []
   }
  },
  {
   "cell_type": "code",
   "execution_count": 7,
   "source": [
    "class ReviewColumnExtractor(BaseEstimator, ClassifierMixin):\n",
    "    \"\"\"Extract text column, e.g. letting X = df_train[['review']]\n",
    "    as train dataset for TfidfVectorizer and CountVectorizer does\n",
    "    not work as expected.\"\"\"\n",
    "    \n",
    "    def __init__(self):\n",
    "        pass\n",
    "    \n",
    "    def fit(self, X, y=None):\n",
    "        return self\n",
    "    \n",
    "    def transform(self, X):\n",
    "        return X.review"
   ],
   "outputs": [],
   "metadata": {
    "execution": {
     "iopub.execute_input": "2021-08-25T05:24:36.470772Z",
     "iopub.status.busy": "2021-08-25T05:24:36.470032Z",
     "iopub.status.idle": "2021-08-25T05:24:36.473526Z",
     "shell.execute_reply": "2021-08-25T05:24:36.472882Z",
     "shell.execute_reply.started": "2021-08-25T04:50:14.230655Z"
    },
    "papermill": {
     "duration": 0.053303,
     "end_time": "2021-08-25T05:24:36.473674",
     "exception": false,
     "start_time": "2021-08-25T05:24:36.420371",
     "status": "completed"
    },
    "tags": []
   }
  },
  {
   "cell_type": "markdown",
   "source": [
    "Initialize base models:"
   ],
   "metadata": {
    "papermill": {
     "duration": 0.045187,
     "end_time": "2021-08-25T05:24:36.562247",
     "exception": false,
     "start_time": "2021-08-25T05:24:36.517060",
     "status": "completed"
    },
    "tags": []
   }
  },
  {
   "cell_type": "code",
   "execution_count": 8,
   "source": [
    "# logistic regression + tfidf\n",
    "lr = make_pipeline(\n",
    "    ReviewColumnExtractor(),\n",
    "    TfidfVectorizer(max_features=1000),\n",
    "    linear_model.LogisticRegression()\n",
    ")\n",
    "\n",
    "# logistic regression + count vectorizer\n",
    "lr_cnt = make_pipeline(\n",
    "    ReviewColumnExtractor(),\n",
    "    CountVectorizer(),\n",
    "    linear_model.LogisticRegression(solver='liblinear')\n",
    ")\n",
    "\n",
    "# random forest + decomposed (svd) tfidf features\n",
    "rf_svd = make_pipeline(\n",
    "    ReviewColumnExtractor(),\n",
    "    TfidfVectorizer(max_features=None),\n",
    "    decomposition.TruncatedSVD(n_components=120),\n",
    "    ensemble.RandomForestClassifier(n_estimators=100, n_jobs=-1)\n",
    ")"
   ],
   "outputs": [],
   "metadata": {
    "execution": {
     "iopub.execute_input": "2021-08-25T05:24:36.657978Z",
     "iopub.status.busy": "2021-08-25T05:24:36.657177Z",
     "iopub.status.idle": "2021-08-25T05:24:36.660278Z",
     "shell.execute_reply": "2021-08-25T05:24:36.659779Z",
     "shell.execute_reply.started": "2021-08-25T04:50:14.252313Z"
    },
    "papermill": {
     "duration": 0.054259,
     "end_time": "2021-08-25T05:24:36.660427",
     "exception": false,
     "start_time": "2021-08-25T05:24:36.606168",
     "status": "completed"
    },
    "tags": []
   }
  },
  {
   "cell_type": "markdown",
   "source": [
    "Run training:"
   ],
   "metadata": {
    "papermill": {
     "duration": 0.043308,
     "end_time": "2021-08-25T05:24:36.747089",
     "exception": false,
     "start_time": "2021-08-25T05:24:36.703781",
     "status": "completed"
    },
    "tags": []
   }
  },
  {
   "cell_type": "code",
   "execution_count": 9,
   "source": [
    "basemodels = {'lr': lr, 'lr_cnt': lr_cnt, 'rf_svd': rf_svd}\n",
    "stack = StackingClassifier([basemodels])\n",
    "stack.fit(df_train)"
   ],
   "outputs": [
    {
     "output_type": "stream",
     "name": "stdout",
     "text": [
      "\n",
      "Level 1 preds: lr\n",
      "fold=0, auc=0.9326974667897375\n",
      "fold=1, auc=0.9305912263371819\n",
      "fold=2, auc=0.9314926437228593\n",
      "fold=3, auc=0.9297315300912423\n",
      "fold=4, auc=0.9382512008411288\n",
      "fold=5, auc=0.9399409336544222\n",
      "\n",
      "Level 1 preds: lr_cnt\n",
      "fold=0, auc=0.9434262303046005\n",
      "fold=1, auc=0.9408910408311246\n",
      "fold=2, auc=0.9414767285270882\n",
      "fold=3, auc=0.9383336573984057\n",
      "fold=4, auc=0.9433242595113098\n",
      "fold=5, auc=0.9465986801170668\n",
      "\n",
      "Level 1 preds: rf_svd\n",
      "fold=0, auc=0.8682010950435157\n",
      "fold=1, auc=0.8747441869670749\n",
      "fold=2, auc=0.8765477707923752\n",
      "fold=3, auc=0.8670578852233529\n",
      "fold=4, auc=0.8757421090154903\n",
      "fold=5, auc=0.8927856169631746\n"
     ]
    },
    {
     "output_type": "execute_result",
     "data": {
      "text/plain": [
       "<__main__.StackingClassifier at 0x7f6681ce8790>"
      ]
     },
     "metadata": {},
     "execution_count": 9
    }
   ],
   "metadata": {
    "execution": {
     "iopub.execute_input": "2021-08-25T05:24:36.841339Z",
     "iopub.status.busy": "2021-08-25T05:24:36.840291Z",
     "iopub.status.idle": "2021-08-25T05:29:02.326897Z",
     "shell.execute_reply": "2021-08-25T05:29:02.327416Z",
     "shell.execute_reply.started": "2021-08-25T04:50:14.267573Z"
    },
    "papermill": {
     "duration": 265.536154,
     "end_time": "2021-08-25T05:29:02.327619",
     "exception": false,
     "start_time": "2021-08-25T05:24:36.791465",
     "status": "completed"
    },
    "tags": []
   }
  },
  {
   "cell_type": "markdown",
   "source": [
    "Check if basemodels are uncorrelated:"
   ],
   "metadata": {
    "papermill": {
     "duration": 0.049309,
     "end_time": "2021-08-25T05:29:02.426813",
     "exception": false,
     "start_time": "2021-08-25T05:29:02.377504",
     "status": "completed"
    },
    "tags": []
   }
  },
  {
   "cell_type": "code",
   "execution_count": 10,
   "source": [
    "stack.metafeatures_.corr()"
   ],
   "outputs": [
    {
     "output_type": "execute_result",
     "data": {
      "text/plain": [
       "              lr_1  lr_cnt_1  rf_svd_1\n",
       "lr_1      1.000000  0.885412  0.829367\n",
       "lr_cnt_1  0.885412  1.000000  0.720183\n",
       "rf_svd_1  0.829367  0.720183  1.000000"
      ],
      "text/html": [
       "<div>\n",
       "<style scoped>\n",
       "    .dataframe tbody tr th:only-of-type {\n",
       "        vertical-align: middle;\n",
       "    }\n",
       "\n",
       "    .dataframe tbody tr th {\n",
       "        vertical-align: top;\n",
       "    }\n",
       "\n",
       "    .dataframe thead th {\n",
       "        text-align: right;\n",
       "    }\n",
       "</style>\n",
       "<table border=\"1\" class=\"dataframe\">\n",
       "  <thead>\n",
       "    <tr style=\"text-align: right;\">\n",
       "      <th></th>\n",
       "      <th>lr_1</th>\n",
       "      <th>lr_cnt_1</th>\n",
       "      <th>rf_svd_1</th>\n",
       "    </tr>\n",
       "  </thead>\n",
       "  <tbody>\n",
       "    <tr>\n",
       "      <th>lr_1</th>\n",
       "      <td>1.000000</td>\n",
       "      <td>0.885412</td>\n",
       "      <td>0.829367</td>\n",
       "    </tr>\n",
       "    <tr>\n",
       "      <th>lr_cnt_1</th>\n",
       "      <td>0.885412</td>\n",
       "      <td>1.000000</td>\n",
       "      <td>0.720183</td>\n",
       "    </tr>\n",
       "    <tr>\n",
       "      <th>rf_svd_1</th>\n",
       "      <td>0.829367</td>\n",
       "      <td>0.720183</td>\n",
       "      <td>1.000000</td>\n",
       "    </tr>\n",
       "  </tbody>\n",
       "</table>\n",
       "</div>"
      ]
     },
     "metadata": {},
     "execution_count": 10
    }
   ],
   "metadata": {
    "execution": {
     "iopub.execute_input": "2021-08-25T05:29:02.529372Z",
     "iopub.status.busy": "2021-08-25T05:29:02.528698Z",
     "iopub.status.idle": "2021-08-25T05:29:02.541730Z",
     "shell.execute_reply": "2021-08-25T05:29:02.541030Z",
     "shell.execute_reply.started": "2021-08-25T04:56:14.462427Z"
    },
    "papermill": {
     "duration": 0.065366,
     "end_time": "2021-08-25T05:29:02.541873",
     "exception": false,
     "start_time": "2021-08-25T05:29:02.476507",
     "status": "completed"
    },
    "tags": []
   }
  },
  {
   "cell_type": "code",
   "execution_count": 11,
   "source": [
    "stack.metafeatures_.head()"
   ],
   "outputs": [
    {
     "output_type": "execute_result",
     "data": {
      "text/plain": [
       "       lr_1      lr_cnt_1  rf_svd_1\n",
       "0  0.539645  1.822147e-04      0.33\n",
       "1  0.021941  3.281505e-08      0.20\n",
       "2  0.096344  5.746724e-02      0.33\n",
       "3  0.132560  4.019862e-02      0.30\n",
       "4  0.444376  7.969099e-02      0.57"
      ],
      "text/html": [
       "<div>\n",
       "<style scoped>\n",
       "    .dataframe tbody tr th:only-of-type {\n",
       "        vertical-align: middle;\n",
       "    }\n",
       "\n",
       "    .dataframe tbody tr th {\n",
       "        vertical-align: top;\n",
       "    }\n",
       "\n",
       "    .dataframe thead th {\n",
       "        text-align: right;\n",
       "    }\n",
       "</style>\n",
       "<table border=\"1\" class=\"dataframe\">\n",
       "  <thead>\n",
       "    <tr style=\"text-align: right;\">\n",
       "      <th></th>\n",
       "      <th>lr_1</th>\n",
       "      <th>lr_cnt_1</th>\n",
       "      <th>rf_svd_1</th>\n",
       "    </tr>\n",
       "  </thead>\n",
       "  <tbody>\n",
       "    <tr>\n",
       "      <th>0</th>\n",
       "      <td>0.539645</td>\n",
       "      <td>1.822147e-04</td>\n",
       "      <td>0.33</td>\n",
       "    </tr>\n",
       "    <tr>\n",
       "      <th>1</th>\n",
       "      <td>0.021941</td>\n",
       "      <td>3.281505e-08</td>\n",
       "      <td>0.20</td>\n",
       "    </tr>\n",
       "    <tr>\n",
       "      <th>2</th>\n",
       "      <td>0.096344</td>\n",
       "      <td>5.746724e-02</td>\n",
       "      <td>0.33</td>\n",
       "    </tr>\n",
       "    <tr>\n",
       "      <th>3</th>\n",
       "      <td>0.132560</td>\n",
       "      <td>4.019862e-02</td>\n",
       "      <td>0.30</td>\n",
       "    </tr>\n",
       "    <tr>\n",
       "      <th>4</th>\n",
       "      <td>0.444376</td>\n",
       "      <td>7.969099e-02</td>\n",
       "      <td>0.57</td>\n",
       "    </tr>\n",
       "  </tbody>\n",
       "</table>\n",
       "</div>"
      ]
     },
     "metadata": {},
     "execution_count": 11
    }
   ],
   "metadata": {
    "execution": {
     "iopub.execute_input": "2021-08-25T05:29:02.653754Z",
     "iopub.status.busy": "2021-08-25T05:29:02.653080Z",
     "iopub.status.idle": "2021-08-25T05:29:02.655692Z",
     "shell.execute_reply": "2021-08-25T05:29:02.656256Z",
     "shell.execute_reply.started": "2021-08-25T04:56:14.480361Z"
    },
    "papermill": {
     "duration": 0.064271,
     "end_time": "2021-08-25T05:29:02.656422",
     "exception": false,
     "start_time": "2021-08-25T05:29:02.592151",
     "status": "completed"
    },
    "tags": []
   }
  },
  {
   "cell_type": "markdown",
   "source": [
    "We can also check scores of the base models on each validation fold. This informs us of the stability of the folds and the cross-validation performance of the base models. "
   ],
   "metadata": {
    "papermill": {
     "duration": 0.050436,
     "end_time": "2021-08-25T05:29:02.758225",
     "exception": false,
     "start_time": "2021-08-25T05:29:02.707789",
     "status": "completed"
    },
    "tags": []
   }
  },
  {
   "cell_type": "code",
   "execution_count": 12,
   "source": [
    "pd.DataFrame(stack.cv_scores_).describe().loc[['mean', 'std']]"
   ],
   "outputs": [
    {
     "output_type": "execute_result",
     "data": {
      "text/plain": [
       "          lr_1  lr_cnt_1  rf_svd_1\n",
       "mean  0.933784  0.942342  0.875846\n",
       "std   0.004264  0.002799  0.009212"
      ],
      "text/html": [
       "<div>\n",
       "<style scoped>\n",
       "    .dataframe tbody tr th:only-of-type {\n",
       "        vertical-align: middle;\n",
       "    }\n",
       "\n",
       "    .dataframe tbody tr th {\n",
       "        vertical-align: top;\n",
       "    }\n",
       "\n",
       "    .dataframe thead th {\n",
       "        text-align: right;\n",
       "    }\n",
       "</style>\n",
       "<table border=\"1\" class=\"dataframe\">\n",
       "  <thead>\n",
       "    <tr style=\"text-align: right;\">\n",
       "      <th></th>\n",
       "      <th>lr_1</th>\n",
       "      <th>lr_cnt_1</th>\n",
       "      <th>rf_svd_1</th>\n",
       "    </tr>\n",
       "  </thead>\n",
       "  <tbody>\n",
       "    <tr>\n",
       "      <th>mean</th>\n",
       "      <td>0.933784</td>\n",
       "      <td>0.942342</td>\n",
       "      <td>0.875846</td>\n",
       "    </tr>\n",
       "    <tr>\n",
       "      <th>std</th>\n",
       "      <td>0.004264</td>\n",
       "      <td>0.002799</td>\n",
       "      <td>0.009212</td>\n",
       "    </tr>\n",
       "  </tbody>\n",
       "</table>\n",
       "</div>"
      ]
     },
     "metadata": {},
     "execution_count": 12
    }
   ],
   "metadata": {
    "execution": {
     "iopub.execute_input": "2021-08-25T05:29:02.863083Z",
     "iopub.status.busy": "2021-08-25T05:29:02.862383Z",
     "iopub.status.idle": "2021-08-25T05:29:02.886068Z",
     "shell.execute_reply": "2021-08-25T05:29:02.885562Z",
     "shell.execute_reply.started": "2021-08-25T04:56:14.497115Z"
    },
    "papermill": {
     "duration": 0.077227,
     "end_time": "2021-08-25T05:29:02.886214",
     "exception": false,
     "start_time": "2021-08-25T05:29:02.808987",
     "status": "completed"
    },
    "tags": []
   }
  },
  {
   "cell_type": "markdown",
   "source": [
    "Let us try to blend the probabilities using some hand-designed coefficients."
   ],
   "metadata": {
    "papermill": {
     "duration": 0.051017,
     "end_time": "2021-08-25T05:29:02.988376",
     "exception": false,
     "start_time": "2021-08-25T05:29:02.937359",
     "status": "completed"
    },
    "tags": []
   }
  },
  {
   "cell_type": "code",
   "execution_count": 13,
   "source": [
    "target = df_train.sentiment.values\n",
    "\n",
    "# roc is scale invariant, so we dont bother dividing by total weights\n",
    "avg_preds = (stack.metafeatures_ * [1, 1, 1]).sum(axis=1)\n",
    "wtd_preds = (stack.metafeatures_ * [1, 3, 1]).sum(axis=1)\n",
    "rank_avg_preds = (stack.metafeatures_.rank() * [1, 1, 1]).sum(axis=1)\n",
    "rank_wtd_preds = (stack.metafeatures_.rank() * [1, 3, 1]).sum(axis=1)\n",
    "\n",
    "# Calculate AUC over combined OOF preds\n",
    "print(f\"Train OOF-AUC (averaged):     \", metrics.roc_auc_score(target, avg_preds))\n",
    "print(f\"Train OOF-AUC (wtd. avg):     \", metrics.roc_auc_score(target, wtd_preds))\n",
    "print(f\"Train OOF-AUC (rank avg):     \", metrics.roc_auc_score(target, rank_avg_preds)) \n",
    "print(f\"Train OOF-AUC (wtd. rank avg):\", metrics.roc_auc_score(target, rank_wtd_preds))"
   ],
   "outputs": [
    {
     "output_type": "stream",
     "name": "stdout",
     "text": [
      "Train OOF-AUC (averaged):      0.9460842847619846\n",
      "Train OOF-AUC (wtd. avg):      0.9470485459287407\n",
      "Train OOF-AUC (rank avg):      0.9417130844728324\n",
      "Train OOF-AUC (wtd. rank avg): 0.9476407216452732\n"
     ]
    }
   ],
   "metadata": {
    "execution": {
     "iopub.execute_input": "2021-08-25T05:29:03.101320Z",
     "iopub.status.busy": "2021-08-25T05:29:03.100680Z",
     "iopub.status.idle": "2021-08-25T05:29:03.157548Z",
     "shell.execute_reply": "2021-08-25T05:29:03.156884Z",
     "shell.execute_reply.started": "2021-08-25T04:56:14.525564Z"
    },
    "papermill": {
     "duration": 0.117588,
     "end_time": "2021-08-25T05:29:03.157689",
     "exception": false,
     "start_time": "2021-08-25T05:29:03.040101",
     "status": "completed"
    },
    "tags": []
   }
  },
  {
   "cell_type": "markdown",
   "source": [
    "Since these coefficients are hand-designed, we may want to devise a strategy for automatically finding the optimal coefficients for blending. This is accomplished by the folowing class."
   ],
   "metadata": {
    "papermill": {
     "duration": 0.051642,
     "end_time": "2021-08-25T05:29:03.261430",
     "exception": false,
     "start_time": "2021-08-25T05:29:03.209788",
     "status": "completed"
    },
    "tags": []
   }
  },
  {
   "cell_type": "code",
   "execution_count": 14,
   "source": [
    "class Blender(BaseEstimator, ClassifierMixin):\n",
    "    \"\"\"Implement blending that maximizes AUC score.\"\"\"\n",
    "    \n",
    "    def __init__(self, rank=False):\n",
    "        self.coef_ = None\n",
    "        self.rank = rank\n",
    "\n",
    "    def fit(self, X, y):\n",
    "        \"\"\"Find optimal blending coefficients.\"\"\"\n",
    "        \n",
    "        if self.rank:\n",
    "            X = X.rank()\n",
    "\n",
    "        self.coef_ = self._optimize_auc(X, y)\n",
    "        return self\n",
    "\n",
    "    def predict_proba(self, X):\n",
    "        \"\"\"Return blended probabilities for class 0 and class 1.\"\"\"\n",
    "        \n",
    "        if self.rank:\n",
    "            X = X.rank()\n",
    "            \n",
    "        pred = np.sum(X * self.coef_, axis=1)\n",
    "        return np.c_[1 - pred, pred]\n",
    "\n",
    "    def _auc(self, coef, X, y):\n",
    "        \"\"\"Calculate AUC of blended predict probas.\"\"\"\n",
    "\n",
    "        auc = metrics.roc_auc_score(y, np.sum(X * coef, axis=1))\n",
    "        return -1.0 * auc # min -auc = max auc\n",
    "    \n",
    "    def _optimize_auc(self, X, y):\n",
    "        \"\"\"Maximize AUC as a bound-constrained optimization problem using Nelder-Mead \n",
    "        method with Dirichlet init. \n",
    "        \n",
    "        Reference: \n",
    "        https://docs.scipy.org/doc/scipy/reference/generated/scipy.optimize.minimize.html\n",
    "        \"\"\"\n",
    "        partial_loss = partial(self._auc, X=X, y=y) \n",
    "        init_coef = np.random.dirichlet(np.ones(X.shape[1]))\n",
    "        return minimize(partial_loss, init_coef, \n",
    "                        method='Nelder-Mead', \n",
    "                        bounds=[(0, 1), (0, 1), (0, 1)])['x']"
   ],
   "outputs": [],
   "metadata": {
    "execution": {
     "iopub.execute_input": "2021-08-25T05:29:03.377043Z",
     "iopub.status.busy": "2021-08-25T05:29:03.376234Z",
     "iopub.status.idle": "2021-08-25T05:29:03.379903Z",
     "shell.execute_reply": "2021-08-25T05:29:03.379340Z",
     "shell.execute_reply.started": "2021-08-25T04:56:14.602005Z"
    },
    "papermill": {
     "duration": 0.067038,
     "end_time": "2021-08-25T05:29:03.380043",
     "exception": false,
     "start_time": "2021-08-25T05:29:03.313005",
     "status": "completed"
    },
    "tags": []
   }
  },
  {
   "cell_type": "markdown",
   "source": [
    "This implementation uses `partial` from `functools` and `minimize` from `scipy.optimize` to minimize the coefficients constained in $(0, 1).$ The initial values of the coefficient are drawn from a Dirichlet distribution $\\operatorname{Dir}(\\boldsymbol{\\alpha})$ with $\\boldsymbol{\\alpha} = [1, 1, 1].$"
   ],
   "metadata": {
    "papermill": {
     "duration": 0.051135,
     "end_time": "2021-08-25T05:29:03.482364",
     "exception": false,
     "start_time": "2021-08-25T05:29:03.431229",
     "status": "completed"
    },
    "tags": []
   }
  },
  {
   "cell_type": "code",
   "execution_count": 15,
   "source": [
    "target = df_train.sentiment.values\n",
    "\n",
    "# Blended predictions\n",
    "blender = Blender()\n",
    "blender.fit(stack.metafeatures_, target)\n",
    "combined_oof_preds = (stack.metafeatures_ * blender.coef_).sum(axis=1)\n",
    "\n",
    "# Blended ranked predictions\n",
    "blender_rk = Blender(rank=True)\n",
    "blender_rk.fit(stack.metafeatures_, target)\n",
    "combined_oof_rk_preds = (stack.metafeatures_.rank() * blender_rk.coef_).sum(axis=1)\n",
    "\n",
    "print(f\"Train OOF-AUC (Blended):    \", metrics.roc_auc_score(target, combined_oof_preds))\n",
    "print(f\"Train OOF-AUC (Blended rk.):\", metrics.roc_auc_score(target, combined_oof_rk_preds))"
   ],
   "outputs": [
    {
     "output_type": "stream",
     "name": "stdout",
     "text": [
      "Train OOF-AUC (Blended):     0.9476361466397374\n",
      "Train OOF-AUC (Blended rk.): 0.9485857377887428\n"
     ]
    }
   ],
   "metadata": {
    "execution": {
     "iopub.execute_input": "2021-08-25T05:29:03.593947Z",
     "iopub.status.busy": "2021-08-25T05:29:03.593243Z",
     "iopub.status.idle": "2021-08-25T05:29:05.666862Z",
     "shell.execute_reply": "2021-08-25T05:29:05.667342Z",
     "shell.execute_reply.started": "2021-08-25T04:56:14.617723Z"
    },
    "papermill": {
     "duration": 2.133792,
     "end_time": "2021-08-25T05:29:05.667546",
     "exception": false,
     "start_time": "2021-08-25T05:29:03.533754",
     "status": "completed"
    },
    "tags": []
   }
  },
  {
   "cell_type": "markdown",
   "source": [
    "Note that this is not the same as train AUC. However, this is a better approximation of the test AUC. Calculating the AUC on the entire out-of-fold predictions involves tracking the rows of the confusion matrix, which is the sum of the confusion matrix of each fold, over all thresholds. On the other hand, the latter approach tracks each confusion matrix separately, then averages the individual AUCs. The two should be similar to cross-validation scores if error is well-distributed between folds &mdash; and we are blending probabilities. [^ref]\n",
    "\n",
    "[^ref]: For some reason OOF-AUC is bad when blending ranking models, e.g. linear regression, with usual classifiers, even after transforming predict probabilities to rank."
   ],
   "metadata": {
    "papermill": {
     "duration": 0.051458,
     "end_time": "2021-08-25T05:29:05.770877",
     "exception": false,
     "start_time": "2021-08-25T05:29:05.719419",
     "status": "completed"
    },
    "tags": []
   }
  },
  {
   "cell_type": "code",
   "execution_count": 16,
   "source": [
    "# Inference\n",
    "test_target = df_test.sentiment.values\n",
    "test_features = []\n",
    "for model_name in basemodels.keys():\n",
    "    test_features.append(basemodels[model_name].predict_proba(df_test)[:, 1])\n",
    "\n",
    "test_pred = (pd.DataFrame(np.c_[test_features].T) * blender.coef_).sum(axis=1)\n",
    "test_rk_pred = (pd.DataFrame(np.c_[test_features].T) * blender_rk.coef_).sum(axis=1)\n",
    "print('Test AUC (Blended):    ', metrics.roc_auc_score(test_target, test_pred))\n",
    "print('Test AUC (Blended rk.):', metrics.roc_auc_score(test_target, test_rk_pred))"
   ],
   "outputs": [
    {
     "output_type": "stream",
     "name": "stdout",
     "text": [
      "Test AUC (Blended):     0.9509649706818324\n",
      "Test AUC (Blended rk.): 0.951006091477931\n"
     ]
    }
   ],
   "metadata": {
    "execution": {
     "iopub.execute_input": "2021-08-25T05:29:05.892235Z",
     "iopub.status.busy": "2021-08-25T05:29:05.887098Z",
     "iopub.status.idle": "2021-08-25T05:29:10.155675Z",
     "shell.execute_reply": "2021-08-25T05:29:10.156155Z",
     "shell.execute_reply.started": "2021-08-25T04:56:17.274935Z"
    },
    "papermill": {
     "duration": 4.333456,
     "end_time": "2021-08-25T05:29:10.156338",
     "exception": false,
     "start_time": "2021-08-25T05:29:05.822882",
     "status": "completed"
    },
    "tags": []
   }
  },
  {
   "cell_type": "markdown",
   "source": [
    ":::{tip}\n",
    "Using blended **rank probabilities** is a good trick when optimizing AUC score. Here individual probabilities are replaced by their rank index. Recall that AUC only cares about the predict probability of a randomly chosen negative examples to be assigned lower predict proba than a randomly chosen positive example. Note that this only works for ensembles; for single models using rank probabilities does not affect AUC score.\n",
    ":::"
   ],
   "metadata": {
    "papermill": {
     "duration": 0.051986,
     "end_time": "2021-08-25T05:29:10.260625",
     "exception": false,
     "start_time": "2021-08-25T05:29:10.208639",
     "status": "completed"
    },
    "tags": []
   }
  },
  {
   "cell_type": "markdown",
   "source": [
    "### XGB Metamodel"
   ],
   "metadata": {
    "papermill": {
     "duration": 0.052289,
     "end_time": "2021-08-25T05:29:10.365292",
     "exception": false,
     "start_time": "2021-08-25T05:29:10.313003",
     "status": "completed"
    },
    "tags": []
   }
  },
  {
   "cell_type": "markdown",
   "source": [
    "Blending can be easily generalized to more complex machine learning model that learns and predicts with the metafeatures using more complex algorithms. For example, we can use `XGBoostClassifier`."
   ],
   "metadata": {
    "papermill": {
     "duration": 0.051887,
     "end_time": "2021-08-25T05:29:10.469215",
     "exception": false,
     "start_time": "2021-08-25T05:29:10.417328",
     "status": "completed"
    },
    "tags": []
   }
  },
  {
   "cell_type": "code",
   "execution_count": 17,
   "source": [
    "basemodels = {'lr': lr, 'lr_cnt': lr_cnt, 'rf_svd': rf_svd}\n",
    "metamodel = {'xgb': XGBClassifier(eval_metric=\"logloss\", use_label_encoder=False)}\n",
    "stack = StackingClassifier([basemodels, metamodel])\n",
    "stack.fit(df_train)"
   ],
   "outputs": [
    {
     "output_type": "stream",
     "name": "stdout",
     "text": [
      "\n",
      "Level 1 preds: lr\n",
      "fold=0, auc=0.9326974667897375\n",
      "fold=1, auc=0.9305912263371819\n",
      "fold=2, auc=0.9314926437228593\n",
      "fold=3, auc=0.9297315300912423\n",
      "fold=4, auc=0.9382512008411288\n",
      "fold=5, auc=0.9399409336544222\n",
      "\n",
      "Level 1 preds: lr_cnt\n",
      "fold=0, auc=0.9434262303046005\n",
      "fold=1, auc=0.9408910408311246\n",
      "fold=2, auc=0.9414767285270882\n",
      "fold=3, auc=0.9383336573984057\n",
      "fold=4, auc=0.9433242595113098\n",
      "fold=5, auc=0.9465986801170668\n",
      "\n",
      "Level 1 preds: rf_svd\n",
      "fold=0, auc=0.8733202345545066\n",
      "fold=1, auc=0.8745307920262982\n",
      "fold=2, auc=0.8763648540626957\n",
      "fold=3, auc=0.8699146988715334\n",
      "fold=4, auc=0.8803735390066325\n",
      "fold=5, auc=0.8931037413006406\n",
      "\n",
      "Level 2 preds: xgb\n",
      "fold=0, auc=0.9454984643121254\n",
      "fold=1, auc=0.9406952788618457\n",
      "fold=2, auc=0.9426680277399703\n",
      "fold=3, auc=0.9384420391614636\n",
      "fold=4, auc=0.9461787326895241\n",
      "fold=5, auc=0.9478819796515647\n"
     ]
    },
    {
     "output_type": "execute_result",
     "data": {
      "text/plain": [
       "<__main__.StackingClassifier at 0x7f6682215d50>"
      ]
     },
     "metadata": {},
     "execution_count": 17
    }
   ],
   "metadata": {
    "execution": {
     "iopub.execute_input": "2021-08-25T05:29:10.580122Z",
     "iopub.status.busy": "2021-08-25T05:29:10.578490Z",
     "iopub.status.idle": "2021-08-25T05:33:42.221907Z",
     "shell.execute_reply": "2021-08-25T05:33:42.222365Z",
     "shell.execute_reply.started": "2021-08-25T04:56:21.917203Z"
    },
    "papermill": {
     "duration": 271.700866,
     "end_time": "2021-08-25T05:33:42.222567",
     "exception": false,
     "start_time": "2021-08-25T05:29:10.521701",
     "status": "completed"
    },
    "tags": []
   }
  },
  {
   "cell_type": "code",
   "execution_count": 18,
   "source": [
    "y_train = df_train.sentiment.values\n",
    "y_test = df_test.sentiment.values\n",
    "\n",
    "print(f\"Train AUC (XGB stack):\", metrics.roc_auc_score(y_train, stack.predict_proba(df_train)[:, 1]))\n",
    "print(f\"Test AUC  (XGB stack):\", metrics.roc_auc_score(y_test, stack.predict_proba(df_test)[:, 1]))"
   ],
   "outputs": [
    {
     "output_type": "stream",
     "name": "stdout",
     "text": [
      "Train AUC (XGB stack): 0.9994775193677985\n",
      "Test AUC  (XGB stack): 0.9473919415079876\n"
     ]
    }
   ],
   "metadata": {
    "execution": {
     "iopub.execute_input": "2021-08-25T05:33:42.357520Z",
     "iopub.status.busy": "2021-08-25T05:33:42.349507Z",
     "iopub.status.idle": "2021-08-25T05:34:03.518068Z",
     "shell.execute_reply": "2021-08-25T05:34:03.519122Z",
     "shell.execute_reply.started": "2021-08-25T05:03:04.232151Z"
    },
    "papermill": {
     "duration": 21.236097,
     "end_time": "2021-08-25T05:34:03.519350",
     "exception": false,
     "start_time": "2021-08-25T05:33:42.283253",
     "status": "completed"
    },
    "tags": []
   }
  },
  {
   "cell_type": "code",
   "execution_count": 19,
   "source": [
    "pd.DataFrame(stack.cv_scores_).describe().loc[['mean', 'std']]"
   ],
   "outputs": [
    {
     "output_type": "execute_result",
     "data": {
      "text/plain": [
       "          lr_1  lr_cnt_1  rf_svd_1     xgb_2\n",
       "mean  0.933784  0.942342  0.877935  0.943561\n",
       "std   0.004264  0.002799  0.008194  0.003591"
      ],
      "text/html": [
       "<div>\n",
       "<style scoped>\n",
       "    .dataframe tbody tr th:only-of-type {\n",
       "        vertical-align: middle;\n",
       "    }\n",
       "\n",
       "    .dataframe tbody tr th {\n",
       "        vertical-align: top;\n",
       "    }\n",
       "\n",
       "    .dataframe thead th {\n",
       "        text-align: right;\n",
       "    }\n",
       "</style>\n",
       "<table border=\"1\" class=\"dataframe\">\n",
       "  <thead>\n",
       "    <tr style=\"text-align: right;\">\n",
       "      <th></th>\n",
       "      <th>lr_1</th>\n",
       "      <th>lr_cnt_1</th>\n",
       "      <th>rf_svd_1</th>\n",
       "      <th>xgb_2</th>\n",
       "    </tr>\n",
       "  </thead>\n",
       "  <tbody>\n",
       "    <tr>\n",
       "      <th>mean</th>\n",
       "      <td>0.933784</td>\n",
       "      <td>0.942342</td>\n",
       "      <td>0.877935</td>\n",
       "      <td>0.943561</td>\n",
       "    </tr>\n",
       "    <tr>\n",
       "      <th>std</th>\n",
       "      <td>0.004264</td>\n",
       "      <td>0.002799</td>\n",
       "      <td>0.008194</td>\n",
       "      <td>0.003591</td>\n",
       "    </tr>\n",
       "  </tbody>\n",
       "</table>\n",
       "</div>"
      ]
     },
     "metadata": {},
     "execution_count": 19
    }
   ],
   "metadata": {
    "execution": {
     "iopub.execute_input": "2021-08-25T05:34:03.676105Z",
     "iopub.status.busy": "2021-08-25T05:34:03.673837Z",
     "iopub.status.idle": "2021-08-25T05:34:03.691884Z",
     "shell.execute_reply": "2021-08-25T05:34:03.692388Z",
     "shell.execute_reply.started": "2021-08-25T05:03:28.135805Z"
    },
    "papermill": {
     "duration": 0.102779,
     "end_time": "2021-08-25T05:34:03.692574",
     "exception": false,
     "start_time": "2021-08-25T05:34:03.589795",
     "status": "completed"
    },
    "tags": []
   }
  },
  {
   "cell_type": "markdown",
   "source": [
    "Observe that cross-validated AUC scores is indicative of test performance. Meanwhile, train AUC is useless. A better estimate is the mean cross-validation AUC score. If we assume that each fold has the same error distribution, then this should approximate the test AUC which can be thought of as predicting on another fold. Indeed, the above results supports this."
   ],
   "metadata": {
    "papermill": {
     "duration": 0.074551,
     "end_time": "2021-08-25T05:34:03.844439",
     "exception": false,
     "start_time": "2021-08-25T05:34:03.769888",
     "status": "completed"
    },
    "tags": []
   }
  },
  {
   "cell_type": "markdown",
   "source": [
    "### Conclusion\n",
    "\n",
    "The above examples of building ensembles with **blending** or **stacking** (e.g. with XGBoost) show that stacked models significantly outperform single models."
   ],
   "metadata": {
    "papermill": {
     "duration": 0.061911,
     "end_time": "2021-08-25T05:34:03.968291",
     "exception": false,
     "start_time": "2021-08-25T05:34:03.906380",
     "status": "completed"
    },
    "tags": []
   }
  },
  {
   "cell_type": "markdown",
   "source": [
    "## Experiment: CV Folds"
   ],
   "metadata": {
    "papermill": {
     "duration": 0.061718,
     "end_time": "2021-08-25T05:34:04.143822",
     "exception": false,
     "start_time": "2021-08-25T05:34:04.082104",
     "status": "completed"
    },
    "tags": []
   }
  },
  {
   "cell_type": "markdown",
   "source": [
    "Consider stacking three levels of models where level three is just a single classifier. Our current implementation does this by keeping the same cross-validation folds when training the level 2 models [^ref2]. It is unclear whether using same folds between levels 1 and 2 affect generalization error. To check this empirically, we compute cv scores with folds unshuffled (the usual) and shuffled (new) for training models in level 2. We also calculate test set AUC. If CV scores decrease and test AUC decrease, while overall train AUC increases, then this indicates using a different validation fold between levels results in overfitting.\n",
    "\n",
    "Here we have level two features from the three metamodels. We blend the predict probabilities of each metamodel optimizing AUC as before.\n",
    "\n",
    "[^ref2]: GM Abishek Thakur recommends keeping the same folds in [AAAMLP](https://github.com/abhishekkrthakur/approachingalmost/blob/master/AAAMLP.pdf)."
   ],
   "metadata": {
    "papermill": {
     "duration": 0.067269,
     "end_time": "2021-08-25T05:34:04.273319",
     "exception": false,
     "start_time": "2021-08-25T05:34:04.206050",
     "status": "completed"
    },
    "tags": []
   }
  },
  {
   "cell_type": "code",
   "execution_count": 20,
   "source": [
    "class LinearRegressionClassifier(BaseEstimator, ClassifierMixin):\n",
    "    \"\"\"Linear regression for model-based AUC optimization.\n",
    "    Note that we transform probabilities to rank probabilities!\"\"\"\n",
    "    \n",
    "    def __init__(self): \n",
    "        self.lr = linear_model.LinearRegression()\n",
    "        \n",
    "    def fit(self, X, y):\n",
    "        self.lr.fit(pd.DataFrame(X).rank(), y)\n",
    "        return self\n",
    "        \n",
    "    def predict_proba(self, X):\n",
    "        return np.c_[[0]*len(X), self.lr.predict(pd.DataFrame(X).rank())]"
   ],
   "outputs": [],
   "metadata": {
    "execution": {
     "iopub.execute_input": "2021-08-25T05:34:04.400839Z",
     "iopub.status.busy": "2021-08-25T05:34:04.400171Z",
     "iopub.status.idle": "2021-08-25T05:34:04.406301Z",
     "shell.execute_reply": "2021-08-25T05:34:04.406860Z",
     "shell.execute_reply.started": "2021-08-25T05:03:28.177114Z"
    },
    "papermill": {
     "duration": 0.071609,
     "end_time": "2021-08-25T05:34:04.407031",
     "exception": false,
     "start_time": "2021-08-25T05:34:04.335422",
     "status": "completed"
    },
    "tags": []
   }
  },
  {
   "cell_type": "markdown",
   "source": [
    "Define models for stacking."
   ],
   "metadata": {
    "papermill": {
     "duration": 0.06239,
     "end_time": "2021-08-25T05:34:04.531601",
     "exception": false,
     "start_time": "2021-08-25T05:34:04.469211",
     "status": "completed"
    },
    "tags": []
   }
  },
  {
   "cell_type": "code",
   "execution_count": 21,
   "source": [
    "# Base models\n",
    "level1 = {\n",
    "    'lr': make_pipeline(\n",
    "        ReviewColumnExtractor(),\n",
    "        TfidfVectorizer(max_features=1000),\n",
    "        linear_model.LogisticRegression()\n",
    "    ), \n",
    "    \n",
    "    'lr_cnt': make_pipeline(\n",
    "        ReviewColumnExtractor(),\n",
    "        CountVectorizer(),\n",
    "        linear_model.LogisticRegression(solver='liblinear')\n",
    "    ), \n",
    "    \n",
    "    'rf_svd': make_pipeline(\n",
    "        ReviewColumnExtractor(),\n",
    "        TfidfVectorizer(max_features=None),\n",
    "        decomposition.TruncatedSVD(n_components=120),\n",
    "        ensemble.RandomForestClassifier(n_estimators=100, n_jobs=-1)\n",
    "    )\n",
    "}\n",
    "\n",
    "# Meta models\n",
    "level2 = {\n",
    "    'lr': linear_model.LogisticRegression(),\n",
    "    'linreg': make_pipeline(\n",
    "        StandardScaler(), \n",
    "        LinearRegressionClassifier()\n",
    "    ),\n",
    "    'xgb': XGBClassifier(eval_metric=\"logloss\", use_label_encoder=False)\n",
    "}\n",
    "\n",
    "# Blender head: rank true for linear regression\n",
    "level3 = {'blender': Blender(rank=True)}"
   ],
   "outputs": [],
   "metadata": {
    "execution": {
     "iopub.execute_input": "2021-08-25T05:34:04.658928Z",
     "iopub.status.busy": "2021-08-25T05:34:04.658262Z",
     "iopub.status.idle": "2021-08-25T05:34:04.665775Z",
     "shell.execute_reply": "2021-08-25T05:34:04.666229Z",
     "shell.execute_reply.started": "2021-08-25T05:03:28.191816Z"
    },
    "papermill": {
     "duration": 0.072664,
     "end_time": "2021-08-25T05:34:04.666405",
     "exception": false,
     "start_time": "2021-08-25T05:34:04.593741",
     "status": "completed"
    },
    "tags": []
   }
  },
  {
   "cell_type": "markdown",
   "source": [
    "### Same Folds"
   ],
   "metadata": {
    "papermill": {
     "duration": 0.062647,
     "end_time": "2021-08-25T05:34:04.791138",
     "exception": false,
     "start_time": "2021-08-25T05:34:04.728491",
     "status": "completed"
    },
    "tags": []
   }
  },
  {
   "cell_type": "code",
   "execution_count": 22,
   "source": [
    "# Run training of stack models\n",
    "stack = StackingClassifier([level1, level2, level3])\n",
    "stack.fit(df_train)"
   ],
   "outputs": [
    {
     "output_type": "stream",
     "name": "stdout",
     "text": [
      "\n",
      "Level 1 preds: lr\n",
      "fold=0, auc=0.9326974667897375\n",
      "fold=1, auc=0.9305912263371819\n",
      "fold=2, auc=0.9314926437228593\n",
      "fold=3, auc=0.9297315300912423\n",
      "fold=4, auc=0.9382512008411288\n",
      "fold=5, auc=0.9399409336544222\n",
      "\n",
      "Level 1 preds: lr_cnt\n",
      "fold=0, auc=0.9434262303046005\n",
      "fold=1, auc=0.9408910408311246\n",
      "fold=2, auc=0.9414767285270882\n",
      "fold=3, auc=0.9383336573984057\n",
      "fold=4, auc=0.9433242595113098\n",
      "fold=5, auc=0.9465986801170668\n",
      "\n",
      "Level 1 preds: rf_svd\n",
      "fold=0, auc=0.8721807487535469\n",
      "fold=1, auc=0.8720771100639285\n",
      "fold=2, auc=0.8757782962818934\n",
      "fold=3, auc=0.8727353252533109\n",
      "fold=4, auc=0.8765929598663412\n",
      "fold=5, auc=0.8891460008872194\n",
      "\n",
      "Level 2 preds: lr\n",
      "fold=0, auc=0.9479262366020904\n",
      "fold=1, auc=0.9436137155729726\n",
      "fold=2, auc=0.9449654690661884\n",
      "fold=3, auc=0.942613836858441\n",
      "fold=4, auc=0.9495247045606757\n",
      "fold=5, auc=0.9522381406415634\n",
      "\n",
      "Level 2 preds: linreg\n",
      "fold=0, auc=0.9494545474173994\n",
      "fold=1, auc=0.9463655386962757\n",
      "fold=2, auc=0.9472238425475834\n",
      "fold=3, auc=0.9443360626813864\n",
      "fold=4, auc=0.9508566120076911\n",
      "fold=5, auc=0.9536114583813431\n",
      "\n",
      "Level 2 preds: xgb\n",
      "fold=0, auc=0.9452139977005166\n",
      "fold=1, auc=0.9395388798025107\n",
      "fold=2, auc=0.9428669676871116\n",
      "fold=3, auc=0.9389054522148047\n",
      "fold=4, auc=0.9458892345582993\n",
      "fold=5, auc=0.9482856212840484\n",
      "\n",
      "Level 3 preds: blender\n",
      "fold=0, auc=0.9496193617224175\n",
      "fold=1, auc=0.9463720161143768\n",
      "fold=2, auc=0.947232484282844\n",
      "fold=3, auc=0.9444574070473352\n",
      "fold=4, auc=0.9510827374136727\n",
      "fold=5, auc=0.9538203006175969\n"
     ]
    },
    {
     "output_type": "execute_result",
     "data": {
      "text/plain": [
       "<__main__.StackingClassifier at 0x7f667c34fad0>"
      ]
     },
     "metadata": {},
     "execution_count": 22
    }
   ],
   "metadata": {
    "execution": {
     "iopub.execute_input": "2021-08-25T05:34:04.919436Z",
     "iopub.status.busy": "2021-08-25T05:34:04.918783Z",
     "iopub.status.idle": "2021-08-25T05:38:50.648350Z",
     "shell.execute_reply": "2021-08-25T05:38:50.647777Z",
     "shell.execute_reply.started": "2021-08-25T05:03:28.210385Z"
    },
    "papermill": {
     "duration": 285.794941,
     "end_time": "2021-08-25T05:38:50.648600",
     "exception": false,
     "start_time": "2021-08-25T05:34:04.853659",
     "status": "completed"
    },
    "tags": []
   }
  },
  {
   "cell_type": "code",
   "execution_count": 23,
   "source": [
    "same_train_auc = metrics.roc_auc_score(y_train, stack.predict_proba(df_train)[:, 1])\n",
    "same_test_auc = metrics.roc_auc_score(y_test, stack.predict_proba(df_test)[:, 1])\n",
    "\n",
    "print(f\"Train AUC (same):\", same_train_auc)\n",
    "print(f\"Test AUC  (same):\", same_test_auc)\n",
    "\n",
    "pd.DataFrame(stack.cv_scores_).describe().loc[['mean', 'std']]"
   ],
   "outputs": [
    {
     "output_type": "stream",
     "name": "stdout",
     "text": [
      "Train AUC (same): 0.9935437821879763\n",
      "Test AUC  (same): 0.95178018646441\n"
     ]
    },
    {
     "output_type": "execute_result",
     "data": {
      "text/plain": [
       "          lr_1  lr_cnt_1  rf_svd_1      lr_2  linreg_2     xgb_2  blender_3\n",
       "mean  0.933784  0.942342  0.876418  0.946814  0.948641  0.943450   0.948764\n",
       "std   0.004264  0.002799  0.006524  0.003723  0.003346  0.003708   0.003414"
      ],
      "text/html": [
       "<div>\n",
       "<style scoped>\n",
       "    .dataframe tbody tr th:only-of-type {\n",
       "        vertical-align: middle;\n",
       "    }\n",
       "\n",
       "    .dataframe tbody tr th {\n",
       "        vertical-align: top;\n",
       "    }\n",
       "\n",
       "    .dataframe thead th {\n",
       "        text-align: right;\n",
       "    }\n",
       "</style>\n",
       "<table border=\"1\" class=\"dataframe\">\n",
       "  <thead>\n",
       "    <tr style=\"text-align: right;\">\n",
       "      <th></th>\n",
       "      <th>lr_1</th>\n",
       "      <th>lr_cnt_1</th>\n",
       "      <th>rf_svd_1</th>\n",
       "      <th>lr_2</th>\n",
       "      <th>linreg_2</th>\n",
       "      <th>xgb_2</th>\n",
       "      <th>blender_3</th>\n",
       "    </tr>\n",
       "  </thead>\n",
       "  <tbody>\n",
       "    <tr>\n",
       "      <th>mean</th>\n",
       "      <td>0.933784</td>\n",
       "      <td>0.942342</td>\n",
       "      <td>0.876418</td>\n",
       "      <td>0.946814</td>\n",
       "      <td>0.948641</td>\n",
       "      <td>0.943450</td>\n",
       "      <td>0.948764</td>\n",
       "    </tr>\n",
       "    <tr>\n",
       "      <th>std</th>\n",
       "      <td>0.004264</td>\n",
       "      <td>0.002799</td>\n",
       "      <td>0.006524</td>\n",
       "      <td>0.003723</td>\n",
       "      <td>0.003346</td>\n",
       "      <td>0.003708</td>\n",
       "      <td>0.003414</td>\n",
       "    </tr>\n",
       "  </tbody>\n",
       "</table>\n",
       "</div>"
      ]
     },
     "metadata": {},
     "execution_count": 23
    }
   ],
   "metadata": {
    "execution": {
     "iopub.execute_input": "2021-08-25T05:38:50.802429Z",
     "iopub.status.busy": "2021-08-25T05:38:50.801427Z",
     "iopub.status.idle": "2021-08-25T05:39:12.302515Z",
     "shell.execute_reply": "2021-08-25T05:39:12.303325Z",
     "shell.execute_reply.started": "2021-08-25T05:10:27.833751Z"
    },
    "papermill": {
     "duration": 21.581825,
     "end_time": "2021-08-25T05:39:12.303618",
     "exception": false,
     "start_time": "2021-08-25T05:38:50.721793",
     "status": "completed"
    },
    "tags": []
   }
  },
  {
   "cell_type": "code",
   "execution_count": 24,
   "source": [
    "experiment_results = {\n",
    "    'same': {'train': same_train_auc, 'test': same_test_auc}\n",
    "}"
   ],
   "outputs": [],
   "metadata": {
    "execution": {
     "iopub.execute_input": "2021-08-25T05:39:12.458355Z",
     "iopub.status.busy": "2021-08-25T05:39:12.457765Z",
     "iopub.status.idle": "2021-08-25T05:39:12.461315Z",
     "shell.execute_reply": "2021-08-25T05:39:12.461843Z",
     "shell.execute_reply.started": "2021-08-25T05:10:51.497245Z"
    },
    "papermill": {
     "duration": 0.081404,
     "end_time": "2021-08-25T05:39:12.462006",
     "exception": false,
     "start_time": "2021-08-25T05:39:12.380602",
     "status": "completed"
    },
    "tags": []
   }
  },
  {
   "cell_type": "markdown",
   "source": [
    "### Different Folds"
   ],
   "metadata": {
    "papermill": {
     "duration": 0.075305,
     "end_time": "2021-08-25T05:39:12.612154",
     "exception": false,
     "start_time": "2021-08-25T05:39:12.536849",
     "status": "completed"
    },
    "tags": []
   }
  },
  {
   "cell_type": "markdown",
   "source": [
    "Now we train the same model except the folds are shuffled beyond training the level 1 models simulating the use of different cross-validation folds when training higher level models."
   ],
   "metadata": {
    "papermill": {
     "duration": 0.074858,
     "end_time": "2021-08-25T05:39:12.761762",
     "exception": false,
     "start_time": "2021-08-25T05:39:12.686904",
     "status": "completed"
    },
    "tags": []
   }
  },
  {
   "cell_type": "code",
   "execution_count": 25,
   "source": [
    "class StackingClassifierShuffledCV:\n",
    "    \"\"\"Implements model stacking for classification.\"\"\"\n",
    "    \n",
    "    def __init__(self, model_dict_list):\n",
    "        \"\"\"Initialize by passing `model_dict` which is a list of dictionaries \n",
    "        of name-model pairs for each level.\"\"\"\n",
    "        \n",
    "        self.model_dict_list = model_dict_list\n",
    "        self.cv_scores_ = {}\n",
    "        self.metafeatures_ = None\n",
    "        \n",
    "    def fit(self, df):\n",
    "        \"\"\"Fit classifier. This assumes `df` is a DataFrame with \"id\", \"kfold\", \n",
    "        \"sentiment\" (target) columns, followed by features columns.\"\"\"\n",
    "        \n",
    "        df = df.copy()\n",
    "        \n",
    "        # Iterating over all stacking levels\n",
    "        metafeatures = []\n",
    "        for m in range(len(self.model_dict_list)):\n",
    "            \n",
    "            # Get models in current layer\n",
    "            model_dict = self.model_dict_list[m]\n",
    "            level = m + 1\n",
    "            \n",
    "            # Identify feature columns, i.e. preds of prev. layer\n",
    "            if m == 0:\n",
    "                feature_cols = ['review']\n",
    "            else:\n",
    "                prev_level_names = self.model_dict_list[m-1].keys()\n",
    "                feature_cols = [f'{name}_{level-1}' for name in prev_level_names]\n",
    "                \n",
    "                # Shuffle folds for level 2 models and up <---------- <!> SHUFFLE FOLDS HERE <!>\n",
    "                df['kfold'] = random.sample(df.kfold.tolist(), len(df))\n",
    "            \n",
    "            # Iterate over models in the current layer\n",
    "            for model_name in model_dict.keys():\n",
    "                print(f'\\nLevel {level} preds: {model_name}')\n",
    "                self.cv_scores_[f'{model_name}_{level}'] = []\n",
    "                model = model_dict[model_name]\n",
    "                \n",
    "                # Generate feature for next layer models from OOF preds\n",
    "                oof_preds = []\n",
    "                for j in range(df.kfold.nunique()):\n",
    "                    oof_pred, oof_auc = self._oof_pred(df, feature_cols, model, \n",
    "                                                        model_name, fold=j, level=level)\n",
    "                    oof_preds.append(oof_pred)\n",
    "                    self.cv_scores_[f'{model_name}_{level}'].append(oof_auc)\n",
    "                \n",
    "                pred = pd.concat(oof_preds)\n",
    "                df = df.merge(pred[['id', f'{model_name}_{level}']], on='id', how='left')   \n",
    "                metafeatures.append(f'{model_name}_{level}')\n",
    "        \n",
    "                # Train models on entire feature columns for inference\n",
    "                model.fit(df[feature_cols], df.sentiment.values)\n",
    "        \n",
    "        self.metafeatures_ = df[metafeatures]\n",
    "        return self\n",
    "        \n",
    "    def predict_proba(self, test_df):\n",
    "        \"\"\"Return classification probabilities.\"\"\"\n",
    "        \n",
    "        test_df = test_df.copy()\n",
    "        \n",
    "        # Iterate over layers to make predictions\n",
    "        for m in range(len(self.model_dict_list)):\n",
    "            \n",
    "            # Get models for current layer\n",
    "            model_dict = self.model_dict_list[m]\n",
    "            level = m + 1\n",
    "            \n",
    "            # Get feature columns to use for prediction\n",
    "            if m == 0:\n",
    "                feature_cols = ['review']\n",
    "            else:\n",
    "                prev_names = self.model_dict_list[m-1].keys()\n",
    "                feature_cols = [f\"{model_name}_{level-1}\" for model_name in prev_names]\n",
    "\n",
    "            # Append predictions to test DataFrame\n",
    "            for model_name in model_dict.keys():\n",
    "                model = model_dict[model_name]\n",
    "                pred = model.predict_proba(test_df[feature_cols])[:, 1] \n",
    "                test_df.loc[:, f\"{model_name}_{level}\"] = pred\n",
    "                    \n",
    "        # Return last predictions\n",
    "        return np.c_[1 - pred, pred]\n",
    "        \n",
    "    def _oof_pred(self, df, feature_cols, model, model_name, fold, level):\n",
    "        \"Train on K-1 folds, predict on fold K. Return OOF predictions with IDs.\"\n",
    "\n",
    "        # Get folds; include ID and target cols, and feature cols\n",
    "        df_trn = df[df.kfold != fold][['id', 'sentiment']+feature_cols]\n",
    "        df_oof = df[df.kfold == fold][['id', 'sentiment']+feature_cols]\n",
    "        \n",
    "        # Fit model. \n",
    "        model.fit(df_trn[feature_cols], df_trn.sentiment.values)\n",
    "        oof_pred = model.predict_proba(df_oof[feature_cols])[:, 1] \n",
    "        auc = metrics.roc_auc_score(df_oof.sentiment.values, oof_pred)\n",
    "        print(f\"fold={fold}, auc={auc}\")\n",
    "\n",
    "        # Return OOF predictions with ids\n",
    "        df_oof.loc[:, f\"{model_name}_{level}\"] = oof_pred\n",
    "        return df_oof[[\"id\", f\"{model_name}_{level}\"]], auc"
   ],
   "outputs": [],
   "metadata": {
    "execution": {
     "iopub.execute_input": "2021-08-25T05:39:12.918033Z",
     "iopub.status.busy": "2021-08-25T05:39:12.917027Z",
     "iopub.status.idle": "2021-08-25T05:39:12.937337Z",
     "shell.execute_reply": "2021-08-25T05:39:12.938037Z",
     "shell.execute_reply.started": "2021-08-25T05:10:51.505879Z"
    },
    "papermill": {
     "duration": 0.100583,
     "end_time": "2021-08-25T05:39:12.938271",
     "exception": false,
     "start_time": "2021-08-25T05:39:12.837688",
     "status": "completed"
    },
    "tags": []
   }
  },
  {
   "cell_type": "markdown",
   "source": [
    ":::{danger}\n",
    "The implementation of `StackingClassifier` has a side-effect: models inside the dictionaries are trained. Hence, if we train another model using the same model dictionaries (as we do here in defining `stack_shuffled`), then the models inside the dictionaries will be retrained using a different algorithm. This means calling `stack.predict_proba(df_test)` will yield **different results** before and after training `stack_shuffled`! As usual, the stateful approach is error prone. We can modify the `StackingClassifier` to instead save a list of model dictionaries that are *clones* of the models. This allows all state to be localized within the  stacked model.\n",
    ":::"
   ],
   "metadata": {
    "papermill": {
     "duration": 0.075412,
     "end_time": "2021-08-25T05:39:13.090746",
     "exception": false,
     "start_time": "2021-08-25T05:39:13.015334",
     "status": "completed"
    },
    "tags": []
   }
  },
  {
   "cell_type": "markdown",
   "source": [
    "Start training the stacked model with shuffling of folds:"
   ],
   "metadata": {
    "papermill": {
     "duration": 0.079803,
     "end_time": "2021-08-25T05:39:13.245114",
     "exception": false,
     "start_time": "2021-08-25T05:39:13.165311",
     "status": "completed"
    },
    "tags": []
   }
  },
  {
   "cell_type": "code",
   "execution_count": 26,
   "source": [
    "stack_shuffled = StackingClassifierShuffledCV([level1, level2, level3])\n",
    "stack_shuffled.fit(df_train)"
   ],
   "outputs": [
    {
     "output_type": "stream",
     "name": "stdout",
     "text": [
      "\n",
      "Level 1 preds: lr\n",
      "fold=0, auc=0.9326974667897375\n",
      "fold=1, auc=0.9305912263371819\n",
      "fold=2, auc=0.9314926437228593\n",
      "fold=3, auc=0.9297315300912423\n",
      "fold=4, auc=0.9382512008411288\n",
      "fold=5, auc=0.9399409336544222\n",
      "\n",
      "Level 1 preds: lr_cnt\n",
      "fold=0, auc=0.9434262303046005\n",
      "fold=1, auc=0.9408910408311246\n",
      "fold=2, auc=0.9414767285270882\n",
      "fold=3, auc=0.9383336573984057\n",
      "fold=4, auc=0.9433242595113098\n",
      "fold=5, auc=0.9465986801170668\n",
      "\n",
      "Level 1 preds: rf_svd\n",
      "fold=0, auc=0.8675384191861124\n",
      "fold=1, auc=0.8687864017402663\n",
      "fold=2, auc=0.8722368051504742\n",
      "fold=3, auc=0.8772427103362356\n",
      "fold=4, auc=0.8726489079007065\n",
      "fold=5, auc=0.8905835916255703\n",
      "\n",
      "Level 2 preds: lr\n",
      "fold=0, auc=0.942901339541024\n",
      "fold=1, auc=0.9446014465629732\n",
      "fold=2, auc=0.9425162900768309\n",
      "fold=3, auc=0.9514138780449157\n",
      "fold=4, auc=0.9500220808121704\n",
      "fold=5, auc=0.948158473901658\n",
      "\n",
      "Level 2 preds: linreg\n",
      "fold=0, auc=0.945126289864743\n",
      "fold=1, auc=0.9482408884384377\n",
      "fold=2, auc=0.9446378722224024\n",
      "fold=3, auc=0.9520156585372882\n",
      "fold=4, auc=0.9503167317804483\n",
      "fold=5, auc=0.9503027486915709\n",
      "\n",
      "Level 2 preds: xgb\n",
      "fold=0, auc=0.9392988419245136\n",
      "fold=1, auc=0.9419411484397044\n",
      "fold=2, auc=0.9381917204266217\n",
      "fold=3, auc=0.9479652544692374\n",
      "fold=4, auc=0.9454679583281403\n",
      "fold=5, auc=0.944153042075044\n",
      "\n",
      "Level 3 preds: blender\n",
      "fold=0, auc=0.9470608896937521\n",
      "fold=1, auc=0.9504606132696536\n",
      "fold=2, auc=0.9487506172127573\n",
      "fold=3, auc=0.9476501889311616\n",
      "fold=4, auc=0.9491190947079421\n",
      "fold=5, auc=0.9473449396351318\n"
     ]
    },
    {
     "output_type": "execute_result",
     "data": {
      "text/plain": [
       "<__main__.StackingClassifierShuffledCV at 0x7f667eb96810>"
      ]
     },
     "metadata": {},
     "execution_count": 26
    }
   ],
   "metadata": {
    "execution": {
     "iopub.execute_input": "2021-08-25T05:39:13.417825Z",
     "iopub.status.busy": "2021-08-25T05:39:13.416876Z",
     "iopub.status.idle": "2021-08-25T05:43:57.396147Z",
     "shell.execute_reply": "2021-08-25T05:43:57.396777Z",
     "shell.execute_reply.started": "2021-08-25T05:10:51.539329Z"
    },
    "papermill": {
     "duration": 284.057523,
     "end_time": "2021-08-25T05:43:57.396984",
     "exception": false,
     "start_time": "2021-08-25T05:39:13.339461",
     "status": "completed"
    },
    "tags": []
   }
  },
  {
   "cell_type": "code",
   "execution_count": 27,
   "source": [
    "shuffled_train_auc = metrics.roc_auc_score(y_train, stack_shuffled.predict_proba(df_train)[:, 1])\n",
    "shuffled_test_auc = metrics.roc_auc_score(y_test, stack_shuffled.predict_proba(df_test)[:, 1])\n",
    "\n",
    "print(f\"Train AUC (shuffled):\", shuffled_train_auc)\n",
    "print(f\"Test AUC  (shuffled):\", shuffled_test_auc)\n",
    "\n",
    "experiment_results['shuffled'] = {'train': shuffled_train_auc, 'test': shuffled_test_auc}"
   ],
   "outputs": [
    {
     "output_type": "stream",
     "name": "stdout",
     "text": [
      "Train AUC (shuffled): 0.995129994107293\n",
      "Test AUC  (shuffled): 0.9515432218767755\n"
     ]
    }
   ],
   "metadata": {
    "execution": {
     "iopub.execute_input": "2021-08-25T05:43:57.574585Z",
     "iopub.status.busy": "2021-08-25T05:43:57.573940Z",
     "iopub.status.idle": "2021-08-25T05:44:19.059016Z",
     "shell.execute_reply": "2021-08-25T05:44:19.059991Z",
     "shell.execute_reply.started": "2021-08-25T05:17:32.706323Z"
    },
    "papermill": {
     "duration": 21.575819,
     "end_time": "2021-08-25T05:44:19.060272",
     "exception": false,
     "start_time": "2021-08-25T05:43:57.484453",
     "status": "completed"
    },
    "tags": []
   }
  },
  {
   "cell_type": "code",
   "execution_count": 28,
   "source": [
    "pd.DataFrame(experiment_results)"
   ],
   "outputs": [
    {
     "output_type": "execute_result",
     "data": {
      "text/plain": [
       "           same  shuffled\n",
       "train  0.993544  0.995130\n",
       "test   0.951780  0.951543"
      ],
      "text/html": [
       "<div>\n",
       "<style scoped>\n",
       "    .dataframe tbody tr th:only-of-type {\n",
       "        vertical-align: middle;\n",
       "    }\n",
       "\n",
       "    .dataframe tbody tr th {\n",
       "        vertical-align: top;\n",
       "    }\n",
       "\n",
       "    .dataframe thead th {\n",
       "        text-align: right;\n",
       "    }\n",
       "</style>\n",
       "<table border=\"1\" class=\"dataframe\">\n",
       "  <thead>\n",
       "    <tr style=\"text-align: right;\">\n",
       "      <th></th>\n",
       "      <th>same</th>\n",
       "      <th>shuffled</th>\n",
       "    </tr>\n",
       "  </thead>\n",
       "  <tbody>\n",
       "    <tr>\n",
       "      <th>train</th>\n",
       "      <td>0.993544</td>\n",
       "      <td>0.995130</td>\n",
       "    </tr>\n",
       "    <tr>\n",
       "      <th>test</th>\n",
       "      <td>0.951780</td>\n",
       "      <td>0.951543</td>\n",
       "    </tr>\n",
       "  </tbody>\n",
       "</table>\n",
       "</div>"
      ]
     },
     "metadata": {},
     "execution_count": 28
    }
   ],
   "metadata": {
    "execution": {
     "iopub.execute_input": "2021-08-25T05:44:19.263002Z",
     "iopub.status.busy": "2021-08-25T05:44:19.261985Z",
     "iopub.status.idle": "2021-08-25T05:44:19.266613Z",
     "shell.execute_reply": "2021-08-25T05:44:19.267092Z",
     "shell.execute_reply.started": "2021-08-25T05:18:00.264758Z"
    },
    "papermill": {
     "duration": 0.102144,
     "end_time": "2021-08-25T05:44:19.267262",
     "exception": false,
     "start_time": "2021-08-25T05:44:19.165118",
     "status": "completed"
    },
    "tags": []
   }
  },
  {
   "cell_type": "markdown",
   "source": [
    "Observe that the train AUC increased while test score decreased when using different folds between layers which indicates overfitting. Moreover, if we look at CV scores we see significant decrease in performance for `linreg_2`, `xgb_2`, and `blender_3` $(\\sim 2 \\times 10^{-4})$. On the other hand, standard deviation is generally higher with shuffling which indicates worse fold stability."
   ],
   "metadata": {
    "papermill": {
     "duration": 0.086989,
     "end_time": "2021-08-25T05:44:19.441225",
     "exception": false,
     "start_time": "2021-08-25T05:44:19.354236",
     "status": "completed"
    },
    "tags": []
   }
  },
  {
   "cell_type": "code",
   "execution_count": 29,
   "source": [
    "# Shuffled CV scores\n",
    "pd.DataFrame(stack_shuffled.cv_scores_).describe().loc[['mean', 'std']]"
   ],
   "outputs": [
    {
     "output_type": "execute_result",
     "data": {
      "text/plain": [
       "          lr_1  lr_cnt_1  rf_svd_1      lr_2  linreg_2     xgb_2  blender_3\n",
       "mean  0.933784  0.942342  0.874839  0.946602  0.948440  0.942836   0.948398\n",
       "std   0.004264  0.002799  0.008428  0.003786  0.003008  0.003738   0.001293"
      ],
      "text/html": [
       "<div>\n",
       "<style scoped>\n",
       "    .dataframe tbody tr th:only-of-type {\n",
       "        vertical-align: middle;\n",
       "    }\n",
       "\n",
       "    .dataframe tbody tr th {\n",
       "        vertical-align: top;\n",
       "    }\n",
       "\n",
       "    .dataframe thead th {\n",
       "        text-align: right;\n",
       "    }\n",
       "</style>\n",
       "<table border=\"1\" class=\"dataframe\">\n",
       "  <thead>\n",
       "    <tr style=\"text-align: right;\">\n",
       "      <th></th>\n",
       "      <th>lr_1</th>\n",
       "      <th>lr_cnt_1</th>\n",
       "      <th>rf_svd_1</th>\n",
       "      <th>lr_2</th>\n",
       "      <th>linreg_2</th>\n",
       "      <th>xgb_2</th>\n",
       "      <th>blender_3</th>\n",
       "    </tr>\n",
       "  </thead>\n",
       "  <tbody>\n",
       "    <tr>\n",
       "      <th>mean</th>\n",
       "      <td>0.933784</td>\n",
       "      <td>0.942342</td>\n",
       "      <td>0.874839</td>\n",
       "      <td>0.946602</td>\n",
       "      <td>0.948440</td>\n",
       "      <td>0.942836</td>\n",
       "      <td>0.948398</td>\n",
       "    </tr>\n",
       "    <tr>\n",
       "      <th>std</th>\n",
       "      <td>0.004264</td>\n",
       "      <td>0.002799</td>\n",
       "      <td>0.008428</td>\n",
       "      <td>0.003786</td>\n",
       "      <td>0.003008</td>\n",
       "      <td>0.003738</td>\n",
       "      <td>0.001293</td>\n",
       "    </tr>\n",
       "  </tbody>\n",
       "</table>\n",
       "</div>"
      ]
     },
     "metadata": {},
     "execution_count": 29
    }
   ],
   "metadata": {
    "execution": {
     "iopub.execute_input": "2021-08-25T05:44:19.646673Z",
     "iopub.status.busy": "2021-08-25T05:44:19.645732Z",
     "iopub.status.idle": "2021-08-25T05:44:19.650002Z",
     "shell.execute_reply": "2021-08-25T05:44:19.649512Z",
     "shell.execute_reply.started": "2021-08-25T05:23:41.508152Z"
    },
    "papermill": {
     "duration": 0.122251,
     "end_time": "2021-08-25T05:44:19.650143",
     "exception": false,
     "start_time": "2021-08-25T05:44:19.527892",
     "status": "completed"
    },
    "tags": []
   }
  },
  {
   "cell_type": "code",
   "execution_count": 30,
   "source": [
    "# Same CV scores\n",
    "pd.DataFrame(stack.cv_scores_).describe().loc[['mean', 'std']]"
   ],
   "outputs": [
    {
     "output_type": "execute_result",
     "data": {
      "text/plain": [
       "          lr_1  lr_cnt_1  rf_svd_1      lr_2  linreg_2     xgb_2  blender_3\n",
       "mean  0.933784  0.942342  0.876418  0.946814  0.948641  0.943450   0.948764\n",
       "std   0.004264  0.002799  0.006524  0.003723  0.003346  0.003708   0.003414"
      ],
      "text/html": [
       "<div>\n",
       "<style scoped>\n",
       "    .dataframe tbody tr th:only-of-type {\n",
       "        vertical-align: middle;\n",
       "    }\n",
       "\n",
       "    .dataframe tbody tr th {\n",
       "        vertical-align: top;\n",
       "    }\n",
       "\n",
       "    .dataframe thead th {\n",
       "        text-align: right;\n",
       "    }\n",
       "</style>\n",
       "<table border=\"1\" class=\"dataframe\">\n",
       "  <thead>\n",
       "    <tr style=\"text-align: right;\">\n",
       "      <th></th>\n",
       "      <th>lr_1</th>\n",
       "      <th>lr_cnt_1</th>\n",
       "      <th>rf_svd_1</th>\n",
       "      <th>lr_2</th>\n",
       "      <th>linreg_2</th>\n",
       "      <th>xgb_2</th>\n",
       "      <th>blender_3</th>\n",
       "    </tr>\n",
       "  </thead>\n",
       "  <tbody>\n",
       "    <tr>\n",
       "      <th>mean</th>\n",
       "      <td>0.933784</td>\n",
       "      <td>0.942342</td>\n",
       "      <td>0.876418</td>\n",
       "      <td>0.946814</td>\n",
       "      <td>0.948641</td>\n",
       "      <td>0.943450</td>\n",
       "      <td>0.948764</td>\n",
       "    </tr>\n",
       "    <tr>\n",
       "      <th>std</th>\n",
       "      <td>0.004264</td>\n",
       "      <td>0.002799</td>\n",
       "      <td>0.006524</td>\n",
       "      <td>0.003723</td>\n",
       "      <td>0.003346</td>\n",
       "      <td>0.003708</td>\n",
       "      <td>0.003414</td>\n",
       "    </tr>\n",
       "  </tbody>\n",
       "</table>\n",
       "</div>"
      ]
     },
     "metadata": {},
     "execution_count": 30
    }
   ],
   "metadata": {
    "execution": {
     "iopub.execute_input": "2021-08-25T05:44:19.841279Z",
     "iopub.status.busy": "2021-08-25T05:44:19.839125Z",
     "iopub.status.idle": "2021-08-25T05:44:19.860979Z",
     "shell.execute_reply": "2021-08-25T05:44:19.860375Z",
     "shell.execute_reply.started": "2021-08-25T05:23:45.559933Z"
    },
    "papermill": {
     "duration": 0.123152,
     "end_time": "2021-08-25T05:44:19.861115",
     "exception": false,
     "start_time": "2021-08-25T05:44:19.737963",
     "status": "completed"
    },
    "tags": []
   }
  },
  {
   "cell_type": "markdown",
   "source": [
    "### Conclusion\n",
    "\n",
    "Empirical results above strongly indicate that we should use the **same folds** across levels of stacking. The following theoretical example shows that, when using different folds, overfitting can happen due to the second stage model taking advantage of a certain relationship between ground truth and first stage predictions, without this structure generalizing well to the test set.\n",
    "\n",
    "Consider a dataset $\\{(x_1, t_1), (x_2, t_2) \\ldots, (x_{10}, t_{10})\\}$ with five folds such that the first fold is $F_1 = (x_1, x_2)$. Let $x_1 {\\mapsto} y_1$ and $x_2 \\mapsto y_2$ where the mapping is trained on $F_{\\neg 1} = (x_3, \\ldots, x_{10}).$ We can think of modelling on $F_{\\neg 1}$ as defining some rule or distribution that the points in $F_1$ are compared against. Suppose we reshuffle folds in the next level such that the first fold is $G_1 = (y_1, y_{10}).$ Then, the model trained on $G_{\\neg 1} = (y_2, \\ldots y_9)$  overfits slightly since $y_2$ is modelled using the ground truths $(x_3, t_3), \\ldots, (x_{9}, t_9).$ This doesn't happen if we have kept the same cross-validation folds. Overfitting can be observed at the fold level, by noticing that validation scores with shuffled folds are generally lower.\n",
    "\n",
    "Theoretically (as mentioned in the [Kaggle Guide to Model Stacking](https://datasciblog.github.io/2016/12/27/a-kagglers-guide-to-model-stacking-in-practice/)), there is always some leakage if you train a second level model on the same training set, which you used to derive the first stage predictions. This is because you used the ground truth to get those first stage predictions, and now you take those predictions as input, and try to predict the same ground truth. However, this leakage doesn't seem to be significant in practice."
   ],
   "metadata": {
    "papermill": {
     "duration": 0.089536,
     "end_time": "2021-08-25T05:44:20.039854",
     "exception": false,
     "start_time": "2021-08-25T05:44:19.950318",
     "status": "completed"
    },
    "tags": []
   }
  },
  {
   "cell_type": "markdown",
   "source": [
    "## TODO\n",
    "\n",
    "* Parallelize stacker training [using joblib](https://www.youtube.com/watch?v=Ny3O4VpACkc&ab_channel=AbhishekThakur).\n",
    "* Modify `StackingClassifier` to keep a dictionary of model clones. "
   ],
   "metadata": {
    "papermill": {
     "duration": 0.089412,
     "end_time": "2021-08-25T05:44:20.217637",
     "exception": false,
     "start_time": "2021-08-25T05:44:20.128225",
     "status": "completed"
    },
    "tags": []
   }
  },
  {
   "cell_type": "code",
   "execution_count": null,
   "source": [],
   "outputs": [],
   "metadata": {
    "papermill": {
     "duration": 0.087629,
     "end_time": "2021-08-25T05:44:20.393304",
     "exception": false,
     "start_time": "2021-08-25T05:44:20.305675",
     "status": "completed"
    },
    "tags": []
   }
  }
 ],
 "metadata": {
  "kernelspec": {
   "display_name": "Python 3",
   "language": "python",
   "name": "python3"
  },
  "language_info": {
   "codemirror_mode": {
    "name": "ipython",
    "version": 3
   },
   "file_extension": ".py",
   "mimetype": "text/x-python",
   "name": "python",
   "nbconvert_exporter": "python",
   "pygments_lexer": "ipython3",
   "version": "3.7.10"
  },
  "papermill": {
   "default_parameters": {},
   "duration": 1198.354253,
   "end_time": "2021-08-25T05:44:21.970880",
   "environment_variables": {},
   "exception": null,
   "input_path": "__notebook__.ipynb",
   "output_path": "__notebook__.ipynb",
   "parameters": {},
   "start_time": "2021-08-25T05:24:23.616627",
   "version": "2.3.3"
  }
 },
 "nbformat": 4,
 "nbformat_minor": 5
}