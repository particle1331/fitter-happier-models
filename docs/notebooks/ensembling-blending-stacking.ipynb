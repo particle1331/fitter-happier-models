{
 "cells": [
  {
   "cell_type": "markdown",
   "source": [
    "# Ensembling: Blending and Stacking"
   ],
   "metadata": {
    "papermill": {
     "duration": 0.059211,
     "end_time": "2021-08-30T05:54:27.026407",
     "exception": false,
     "start_time": "2021-08-30T05:54:26.967196",
     "status": "completed"
    },
    "tags": []
   }
  },
  {
   "cell_type": "markdown",
   "source": [
    "In this notebook, we implement stacking of machine learning models. Stacking several uncorrelated models is known to generalize better than individual models. Stacking mainly requires good cross-validation strategy between levels of prediction. In particular, we will demostrate that maintaining the same cross-validation folds between levels minimizes overfitting."
   ],
   "metadata": {
    "papermill": {
     "duration": 0.057282,
     "end_time": "2021-08-30T05:54:27.143439",
     "exception": false,
     "start_time": "2021-08-30T05:54:27.086157",
     "status": "completed"
    },
    "tags": []
   }
  },
  {
   "cell_type": "code",
   "execution_count": 1,
   "source": [
    "import pandas as pd\n",
    "import numpy as np\n",
    "import time\n",
    "import joblib\n",
    "import random\n",
    "from joblib import Parallel, delayed\n",
    "from scipy.optimize import minimize\n",
    "from xgboost import XGBClassifier\n",
    "\n",
    "from sklearn import model_selection, linear_model, metrics, decomposition, ensemble\n",
    "from sklearn.preprocessing import StandardScaler\n",
    "from sklearn.feature_extraction.text import TfidfVectorizer, CountVectorizer\n",
    "from sklearn.pipeline import Pipeline, make_pipeline\n",
    "from sklearn.compose import ColumnTransformer\n",
    "from sklearn.base import BaseEstimator, TransformerMixin, ClassifierMixin, clone\n",
    "\n",
    "from tqdm.notebook import tqdm as tqdm\n",
    "from functools import partial, reduce\n",
    "from typing import List\n",
    "import warnings\n",
    "warnings.simplefilter(action='ignore')\n",
    "\n",
    "\n",
    "NUM_FOLDS = 5"
   ],
   "outputs": [],
   "metadata": {
    "_cell_guid": "b1076dfc-b9ad-4769-8c92-a6c4dae69d19",
    "_uuid": "8f2839f25d086af736a60e9eeb907d3b93b6e0e5",
    "execution": {
     "iopub.execute_input": "2021-08-30T05:54:27.273668Z",
     "iopub.status.busy": "2021-08-30T05:54:27.272905Z",
     "iopub.status.idle": "2021-08-30T05:54:28.919822Z",
     "shell.execute_reply": "2021-08-30T05:54:28.918795Z",
     "shell.execute_reply.started": "2021-08-29T21:33:18.777515Z"
    },
    "papermill": {
     "duration": 1.720527,
     "end_time": "2021-08-30T05:54:28.920038",
     "exception": false,
     "start_time": "2021-08-30T05:54:27.199511",
     "status": "completed"
    },
    "tags": []
   }
  },
  {
   "cell_type": "markdown",
   "source": [
    "## Dataset"
   ],
   "metadata": {
    "papermill": {
     "duration": 0.056489,
     "end_time": "2021-08-30T05:54:29.033515",
     "exception": false,
     "start_time": "2021-08-30T05:54:28.977026",
     "status": "completed"
    },
    "tags": []
   }
  },
  {
   "cell_type": "markdown",
   "source": [
    "We do not really care too much about the dataset. The dataset used here is particularly nice. No issues. Idea is that we have text data in the form of a movie review, along with its sentiment classification. We will build a **sentiment classifier** using an ensemble of three models."
   ],
   "metadata": {
    "papermill": {
     "duration": 0.055652,
     "end_time": "2021-08-30T05:54:29.145101",
     "exception": false,
     "start_time": "2021-08-30T05:54:29.089449",
     "status": "completed"
    },
    "tags": []
   }
  },
  {
   "cell_type": "code",
   "execution_count": 2,
   "source": [
    "df = pd.read_csv('../input/kumarmanoj-bag-of-words-meets-bags-of-popcorn/labeledTrainData.tsv', sep='\\t')\n",
    "df.head()"
   ],
   "outputs": [
    {
     "output_type": "execute_result",
     "data": {
      "text/plain": [
       "       id  sentiment                                             review\n",
       "0  5814_8          1  With all this stuff going down at the moment w...\n",
       "1  2381_9          1  \\The Classic War of the Worlds\\\" by Timothy Hi...\n",
       "2  7759_3          0  The film starts with a manager (Nicholas Bell)...\n",
       "3  3630_4          0  It must be assumed that those who praised this...\n",
       "4  9495_8          1  Superbly trashy and wondrously unpretentious 8..."
      ],
      "text/html": [
       "<div>\n",
       "<style scoped>\n",
       "    .dataframe tbody tr th:only-of-type {\n",
       "        vertical-align: middle;\n",
       "    }\n",
       "\n",
       "    .dataframe tbody tr th {\n",
       "        vertical-align: top;\n",
       "    }\n",
       "\n",
       "    .dataframe thead th {\n",
       "        text-align: right;\n",
       "    }\n",
       "</style>\n",
       "<table border=\"1\" class=\"dataframe\">\n",
       "  <thead>\n",
       "    <tr style=\"text-align: right;\">\n",
       "      <th></th>\n",
       "      <th>id</th>\n",
       "      <th>sentiment</th>\n",
       "      <th>review</th>\n",
       "    </tr>\n",
       "  </thead>\n",
       "  <tbody>\n",
       "    <tr>\n",
       "      <th>0</th>\n",
       "      <td>5814_8</td>\n",
       "      <td>1</td>\n",
       "      <td>With all this stuff going down at the moment w...</td>\n",
       "    </tr>\n",
       "    <tr>\n",
       "      <th>1</th>\n",
       "      <td>2381_9</td>\n",
       "      <td>1</td>\n",
       "      <td>\\The Classic War of the Worlds\\\" by Timothy Hi...</td>\n",
       "    </tr>\n",
       "    <tr>\n",
       "      <th>2</th>\n",
       "      <td>7759_3</td>\n",
       "      <td>0</td>\n",
       "      <td>The film starts with a manager (Nicholas Bell)...</td>\n",
       "    </tr>\n",
       "    <tr>\n",
       "      <th>3</th>\n",
       "      <td>3630_4</td>\n",
       "      <td>0</td>\n",
       "      <td>It must be assumed that those who praised this...</td>\n",
       "    </tr>\n",
       "    <tr>\n",
       "      <th>4</th>\n",
       "      <td>9495_8</td>\n",
       "      <td>1</td>\n",
       "      <td>Superbly trashy and wondrously unpretentious 8...</td>\n",
       "    </tr>\n",
       "  </tbody>\n",
       "</table>\n",
       "</div>"
      ]
     },
     "metadata": {},
     "execution_count": 2
    }
   ],
   "metadata": {
    "execution": {
     "iopub.execute_input": "2021-08-30T05:54:29.263086Z",
     "iopub.status.busy": "2021-08-30T05:54:29.262368Z",
     "iopub.status.idle": "2021-08-30T05:54:30.163852Z",
     "shell.execute_reply": "2021-08-30T05:54:30.163121Z",
     "shell.execute_reply.started": "2021-08-29T21:33:20.690936Z"
    },
    "papermill": {
     "duration": 0.963146,
     "end_time": "2021-08-30T05:54:30.164013",
     "exception": false,
     "start_time": "2021-08-30T05:54:29.200867",
     "status": "completed"
    },
    "tags": []
   }
  },
  {
   "cell_type": "markdown",
   "source": [
    "### Train and test split"
   ],
   "metadata": {
    "papermill": {
     "duration": 0.057269,
     "end_time": "2021-08-30T05:54:30.279189",
     "exception": false,
     "start_time": "2021-08-30T05:54:30.221920",
     "status": "completed"
    },
    "tags": []
   }
  },
  {
   "cell_type": "code",
   "execution_count": 3,
   "source": [
    "df_train, df_test = model_selection.train_test_split(df, test_size=0.20)\n",
    "print(df_train.shape, df_test.shape)"
   ],
   "outputs": [
    {
     "output_type": "stream",
     "name": "stdout",
     "text": [
      "(20000, 3) (5000, 3)\n"
     ]
    }
   ],
   "metadata": {
    "execution": {
     "iopub.execute_input": "2021-08-30T05:54:30.401122Z",
     "iopub.status.busy": "2021-08-30T05:54:30.400039Z",
     "iopub.status.idle": "2021-08-30T05:54:30.411273Z",
     "shell.execute_reply": "2021-08-30T05:54:30.410640Z",
     "shell.execute_reply.started": "2021-08-29T21:33:22.493351Z"
    },
    "papermill": {
     "duration": 0.075737,
     "end_time": "2021-08-30T05:54:30.411451",
     "exception": false,
     "start_time": "2021-08-30T05:54:30.335714",
     "status": "completed"
    },
    "tags": []
   }
  },
  {
   "cell_type": "markdown",
   "source": [
    "### Cross-validation folds"
   ],
   "metadata": {
    "papermill": {
     "duration": 0.056548,
     "end_time": "2021-08-30T05:54:30.524894",
     "exception": false,
     "start_time": "2021-08-30T05:54:30.468346",
     "status": "completed"
    },
    "tags": []
   }
  },
  {
   "cell_type": "markdown",
   "source": [
    "Here we create cross-validation folds. Very important for evaluating models, and creating Level 1 features that are not overfitted."
   ],
   "metadata": {
    "papermill": {
     "duration": 0.056793,
     "end_time": "2021-08-30T05:54:30.638685",
     "exception": false,
     "start_time": "2021-08-30T05:54:30.581892",
     "status": "completed"
    },
    "tags": []
   }
  },
  {
   "cell_type": "code",
   "execution_count": 4,
   "source": [
    "df_train.loc[:, 'kfold'] = -1 \n",
    "df_train = df_train.sample(frac=1.0).reset_index(drop=True)\n",
    "y = df_train['sentiment'].values\n",
    "\n",
    "skf = model_selection.StratifiedKFold(n_splits=NUM_FOLDS)\n",
    "for f, (t_, v_) in enumerate(skf.split(X=df_train, y=y)):\n",
    "    df_train.loc[v_, \"kfold\"] = f"
   ],
   "outputs": [],
   "metadata": {
    "execution": {
     "iopub.execute_input": "2021-08-30T05:54:30.765911Z",
     "iopub.status.busy": "2021-08-30T05:54:30.764591Z",
     "iopub.status.idle": "2021-08-30T05:54:30.789152Z",
     "shell.execute_reply": "2021-08-30T05:54:30.789699Z",
     "shell.execute_reply.started": "2021-08-29T21:33:23.83282Z"
    },
    "papermill": {
     "duration": 0.09332,
     "end_time": "2021-08-30T05:54:30.789951",
     "exception": false,
     "start_time": "2021-08-30T05:54:30.696631",
     "status": "completed"
    },
    "tags": []
   }
  },
  {
   "cell_type": "code",
   "execution_count": 5,
   "source": [
    "df_train.kfold.value_counts()"
   ],
   "outputs": [
    {
     "output_type": "execute_result",
     "data": {
      "text/plain": [
       "0    4000\n",
       "1    4000\n",
       "2    4000\n",
       "3    4000\n",
       "4    4000\n",
       "Name: kfold, dtype: int64"
      ]
     },
     "metadata": {},
     "execution_count": 5
    }
   ],
   "metadata": {
    "execution": {
     "iopub.execute_input": "2021-08-30T05:54:30.911331Z",
     "iopub.status.busy": "2021-08-30T05:54:30.910597Z",
     "iopub.status.idle": "2021-08-30T05:54:30.921415Z",
     "shell.execute_reply": "2021-08-30T05:54:30.921943Z",
     "shell.execute_reply.started": "2021-08-29T21:33:25.577048Z"
    },
    "papermill": {
     "duration": 0.071883,
     "end_time": "2021-08-30T05:54:30.922165",
     "exception": false,
     "start_time": "2021-08-30T05:54:30.850282",
     "status": "completed"
    },
    "tags": []
   }
  },
  {
   "cell_type": "markdown",
   "source": [
    "## Stacking and Blending"
   ],
   "metadata": {
    "papermill": {
     "duration": 0.057182,
     "end_time": "2021-08-30T05:54:31.036852",
     "exception": false,
     "start_time": "2021-08-30T05:54:30.979670",
     "status": "completed"
    },
    "tags": []
   }
  },
  {
   "cell_type": "markdown",
   "source": [
    "We define a class that automates training and prediction of stacked models. Several models can be trained on the training set whose predict probabilities can be used as feature for a further metamodel called a **stacker**. Observe that this process can be iterated to several more levels. To avoid creating meta features that are overfitted to the train set, the meta features are generated by out-of-fold (OOF) training and prediction of the models on the features of the previous level. This requires defining cross-validation folds. The same cross-validation folds will be used to generate metafeatures at deeper levels. This will be justified later. \n",
    "\n",
    "After generating metafeatures, the models will be retrained on the whole training set (not just on train folds). This increases accuracy of prediction on the test set. Finally, prediction on the test set will simulate conditions when the model was trained &mdash; essentially the test set acts like an extra validation fold.\n",
    "\n",
    "\n",
    ":::{note}\n",
    "Alternatively, we could make predictions on the test dataset using each base model immediately after it gets fitted on each fold. In our case, this would generate test-set predictions for five of each base models. Then, we would average the predictions per model to generate our level 1 meta features.\n",
    "\n",
    "One benefit to this is that it’s less time consuming than the first approach (since we don’t have to retrain each model on the full training dataset). It also helps that our train meta features and test meta features should follow a similar distribution. However, the test meta features are likely more accurate in the first approach since each base model was trained on the full training dataset (as opposed to 80% of the training dataset, five times in the 2nd approach).\n",
    ":::\n",
    "\n"
   ],
   "metadata": {
    "papermill": {
     "duration": 0.057169,
     "end_time": "2021-08-30T05:54:31.151881",
     "exception": false,
     "start_time": "2021-08-30T05:54:31.094712",
     "status": "completed"
    },
    "tags": []
   }
  },
  {
   "cell_type": "markdown",
   "source": [
    "### Implementation"
   ],
   "metadata": {
    "papermill": {
     "duration": 0.056807,
     "end_time": "2021-08-30T05:54:31.265724",
     "exception": false,
     "start_time": "2021-08-30T05:54:31.208917",
     "status": "completed"
    },
    "tags": []
   }
  },
  {
   "cell_type": "code",
   "execution_count": 6,
   "source": [
    "class StackingClassifier:\n",
    "    \"\"\"Implements model stacking for classification.\"\"\"\n",
    "    \n",
    "    def __init__(self, model_dict_list, verbose=True):\n",
    "        \"\"\"Initialize by passing a list of dictionaries of name-model pairs \n",
    "        for each level.\"\"\"\n",
    "        \n",
    "        self.model_dict_list = model_dict_list\n",
    "        self.cv_scores_ = {}\n",
    "        self.metafeatures_ = None\n",
    "        self.verbose = verbose\n",
    "        \n",
    "    def fit(self, df):\n",
    "        \"\"\"Fit classifier. This assumes `df` is a DataFrame with \"id\", \"kfold\", \n",
    "        \"sentiment\" (target) columns, followed by features columns.\"\"\"\n",
    "                \n",
    "        # Iterating over all stacking levels\n",
    "        df = df.copy()\n",
    "        metafeatures = []\n",
    "        for m in range(len(self.model_dict_list)):\n",
    "            \n",
    "            # Get models in current layer\n",
    "            model_dict = self.model_dict_list[m]\n",
    "            level = m + 1\n",
    "            \n",
    "            # Identify feature columns, i.e. preds of prev. layer\n",
    "            if m == 0:\n",
    "                feature_cols = ['review']\n",
    "            else:\n",
    "                prev_level_names = self.model_dict_list[m-1].keys()\n",
    "                feature_cols = [f'{name}_{level-1}' for name in prev_level_names]\n",
    "            \n",
    "            # Iterate over models in the current layer\n",
    "            for model_name in model_dict.keys():\n",
    "                if self.verbose:\n",
    "                    print(f'\\nLevel {level} preds: {model_name}')\n",
    "                self.cv_scores_[f'{model_name}_{level}'] = []\n",
    "                model = model_dict[model_name]\n",
    "                \n",
    "                # Generate feature for next layer models from OOF preds\n",
    "                oof_preds = []\n",
    "                for j in range(df.kfold.nunique()):\n",
    "                    oof_pred, oof_auc = self._oof_pred(df, feature_cols, model, \n",
    "                                                        model_name, fold=j, level=level)\n",
    "                    oof_preds.append(oof_pred)\n",
    "                    self.cv_scores_[f'{model_name}_{level}'].append(oof_auc)\n",
    "                \n",
    "                pred = pd.concat(oof_preds)\n",
    "                df = df.merge(pred[['id', f'{model_name}_{level}']], on='id', how='left')   \n",
    "                metafeatures.append(f'{model_name}_{level}')\n",
    "        \n",
    "                # Train models on entire feature columns for inference\n",
    "                model.fit(df[feature_cols], df.sentiment.values)\n",
    "        \n",
    "        self.metafeatures_ = df[metafeatures]\n",
    "        return self\n",
    "        \n",
    "    def predict_proba(self, test_df):\n",
    "        \"\"\"Return classification probabilities.\"\"\"\n",
    "        \n",
    "        test_df = test_df.copy()\n",
    "        \n",
    "        # Iterate over layers to make predictions\n",
    "        for m in range(len(self.model_dict_list)):\n",
    "            \n",
    "            # Get models for current layer\n",
    "            model_dict = self.model_dict_list[m]\n",
    "            level = m + 1\n",
    "            \n",
    "            # Get feature columns to use for prediction\n",
    "            if m == 0:\n",
    "                feature_cols = ['review']\n",
    "            else:\n",
    "                prev_names = self.model_dict_list[m-1].keys()\n",
    "                feature_cols = [f\"{model_name}_{level-1}\" for model_name in prev_names]\n",
    "\n",
    "            # Append predictions to test DataFrame\n",
    "            for model_name in model_dict.keys():\n",
    "                model = model_dict[model_name]\n",
    "                pred = model.predict_proba(test_df[feature_cols])[:, 1] \n",
    "                test_df.loc[:, f\"{model_name}_{level}\"] = pred\n",
    "                    \n",
    "        # Return last predictions\n",
    "        return np.c_[1 - pred, pred]\n",
    "        \n",
    "    def _oof_pred(self, df, feature_cols, model, model_name, fold, level):\n",
    "        \"Train on K-1 folds, predict on fold K. Return OOF predictions with IDs.\"\n",
    "\n",
    "        # Get folds; include ID and target cols, and feature cols\n",
    "        df_trn = df[df.kfold != fold][['id', 'sentiment']+feature_cols]\n",
    "        df_oof = df[df.kfold == fold][['id', 'sentiment']+feature_cols]\n",
    "        \n",
    "        # Fit model.\n",
    "        model.fit(df_trn[feature_cols], df_trn.sentiment.values)\n",
    "        oof_pred = model.predict_proba(df_oof[feature_cols])[:, 1] \n",
    "        auc = metrics.roc_auc_score(df_oof.sentiment.values, oof_pred)\n",
    "        if self.verbose:\n",
    "            print(f\"fold={fold}, auc={auc}\")\n",
    "\n",
    "        # Return OOF predictions with ids\n",
    "        df_oof.loc[:, f\"{model_name}_{level}\"] = oof_pred\n",
    "        return df_oof[[\"id\", f\"{model_name}_{level}\"]], auc"
   ],
   "outputs": [],
   "metadata": {
    "execution": {
     "iopub.execute_input": "2021-08-30T05:54:31.384471Z",
     "iopub.status.busy": "2021-08-30T05:54:31.383687Z",
     "iopub.status.idle": "2021-08-30T05:54:31.405435Z",
     "shell.execute_reply": "2021-08-30T05:54:31.405977Z",
     "shell.execute_reply.started": "2021-08-29T21:34:38.673926Z"
    },
    "papermill": {
     "duration": 0.083227,
     "end_time": "2021-08-30T05:54:31.406219",
     "exception": false,
     "start_time": "2021-08-30T05:54:31.322992",
     "status": "completed"
    },
    "tags": []
   }
  },
  {
   "cell_type": "markdown",
   "source": [
    "### Blending"
   ],
   "metadata": {
    "papermill": {
     "duration": 0.056842,
     "end_time": "2021-08-30T05:54:31.519842",
     "exception": false,
     "start_time": "2021-08-30T05:54:31.463000",
     "status": "completed"
    },
    "tags": []
   }
  },
  {
   "cell_type": "markdown",
   "source": [
    "Let's start with a simple stacked model where we simply perform a weighted average of the prediction probabilities. This method is called **blending**. We will use three base models to generate probabilities. Hopefully these are uncorrelated:\n",
    "1. Logistic Regression + TF-IDF\n",
    "2. Logistic Regression + Count Vectorizer\n",
    "3. Random Forest + TF-IDF + SVD"
   ],
   "metadata": {
    "execution": {
     "iopub.execute_input": "2021-08-23T17:34:52.241474Z",
     "iopub.status.busy": "2021-08-23T17:34:52.240952Z",
     "iopub.status.idle": "2021-08-23T17:34:52.256728Z",
     "shell.execute_reply": "2021-08-23T17:34:52.255385Z",
     "shell.execute_reply.started": "2021-08-23T17:34:52.241439Z"
    },
    "papermill": {
     "duration": 0.056898,
     "end_time": "2021-08-30T05:54:31.634548",
     "exception": false,
     "start_time": "2021-08-30T05:54:31.577650",
     "status": "completed"
    },
    "tags": []
   }
  },
  {
   "cell_type": "code",
   "execution_count": 7,
   "source": [
    "class ReviewColumnExtractor(BaseEstimator, ClassifierMixin):\n",
    "    \"\"\"Extract text column, e.g. letting X = df_train[['review']]\n",
    "    as train dataset for TfidfVectorizer and CountVectorizer does\n",
    "    not work as expected.\"\"\"\n",
    "    \n",
    "    def __init__(self):\n",
    "        pass\n",
    "    \n",
    "    def fit(self, X, y=None):\n",
    "        return self\n",
    "    \n",
    "    def transform(self, X):\n",
    "        return X.review"
   ],
   "outputs": [],
   "metadata": {
    "execution": {
     "iopub.execute_input": "2021-08-30T05:54:31.754238Z",
     "iopub.status.busy": "2021-08-30T05:54:31.753481Z",
     "iopub.status.idle": "2021-08-30T05:54:31.758383Z",
     "shell.execute_reply": "2021-08-30T05:54:31.758900Z",
     "shell.execute_reply.started": "2021-08-29T21:34:40.028804Z"
    },
    "papermill": {
     "duration": 0.066463,
     "end_time": "2021-08-30T05:54:31.759121",
     "exception": false,
     "start_time": "2021-08-30T05:54:31.692658",
     "status": "completed"
    },
    "tags": []
   }
  },
  {
   "cell_type": "markdown",
   "source": [
    "Initialize base models:"
   ],
   "metadata": {
    "papermill": {
     "duration": 0.059037,
     "end_time": "2021-08-30T05:54:31.875968",
     "exception": false,
     "start_time": "2021-08-30T05:54:31.816931",
     "status": "completed"
    },
    "tags": []
   }
  },
  {
   "cell_type": "code",
   "execution_count": 8,
   "source": [
    "lr = make_pipeline(\n",
    "    ReviewColumnExtractor(),\n",
    "    TfidfVectorizer(max_features=1000),\n",
    "    linear_model.LogisticRegression()\n",
    ")\n",
    "\n",
    "lr_cnt = make_pipeline(\n",
    "    ReviewColumnExtractor(),\n",
    "    CountVectorizer(),\n",
    "    linear_model.LogisticRegression(solver='liblinear')\n",
    ")\n",
    "\n",
    "rf_svd = make_pipeline(\n",
    "    ReviewColumnExtractor(),\n",
    "    TfidfVectorizer(max_features=None),\n",
    "    decomposition.TruncatedSVD(n_components=120),\n",
    "    ensemble.RandomForestClassifier(n_estimators=100, n_jobs=-1, random_state=42)\n",
    ")"
   ],
   "outputs": [],
   "metadata": {
    "execution": {
     "iopub.execute_input": "2021-08-30T05:54:31.994616Z",
     "iopub.status.busy": "2021-08-30T05:54:31.993802Z",
     "iopub.status.idle": "2021-08-30T05:54:32.000663Z",
     "shell.execute_reply": "2021-08-30T05:54:32.001242Z",
     "shell.execute_reply.started": "2021-08-29T21:34:41.0447Z"
    },
    "papermill": {
     "duration": 0.068139,
     "end_time": "2021-08-30T05:54:32.001470",
     "exception": false,
     "start_time": "2021-08-30T05:54:31.933331",
     "status": "completed"
    },
    "tags": []
   }
  },
  {
   "cell_type": "markdown",
   "source": [
    "Run training:"
   ],
   "metadata": {
    "papermill": {
     "duration": 0.06067,
     "end_time": "2021-08-30T05:54:32.119576",
     "exception": false,
     "start_time": "2021-08-30T05:54:32.058906",
     "status": "completed"
    },
    "tags": []
   }
  },
  {
   "cell_type": "code",
   "execution_count": 9,
   "source": [
    "basemodels = {'lr': lr, 'lr_cnt': lr_cnt, 'rf_svd': rf_svd}\n",
    "stack = StackingClassifier([basemodels])\n",
    "stack.fit(df_train)"
   ],
   "outputs": [
    {
     "output_type": "stream",
     "name": "stdout",
     "text": [
      "\n",
      "Level 1 preds: lr\n",
      "fold=0, auc=0.935408483852121\n",
      "fold=1, auc=0.9348064837016209\n",
      "fold=2, auc=0.9421081921081921\n",
      "fold=3, auc=0.9339369339369339\n",
      "fold=4, auc=0.9282464282464282\n",
      "\n",
      "Level 1 preds: lr_cnt\n",
      "fold=0, auc=0.9432962358240589\n",
      "fold=1, auc=0.9477042369260591\n",
      "fold=2, auc=0.9484371984371985\n",
      "fold=3, auc=0.945093695093695\n",
      "fold=4, auc=0.9360944360944361\n",
      "\n",
      "Level 1 preds: rf_svd\n",
      "fold=0, auc=0.8857182214295554\n",
      "fold=1, auc=0.8764332191083047\n",
      "fold=2, auc=0.886909636909637\n",
      "fold=3, auc=0.8699118699118699\n",
      "fold=4, auc=0.8746972496972496\n"
     ]
    },
    {
     "output_type": "execute_result",
     "data": {
      "text/plain": [
       "<__main__.StackingClassifier at 0x7f4126d6cf90>"
      ]
     },
     "metadata": {},
     "execution_count": 9
    }
   ],
   "metadata": {
    "execution": {
     "iopub.execute_input": "2021-08-30T05:54:32.239888Z",
     "iopub.status.busy": "2021-08-30T05:54:32.239058Z",
     "iopub.status.idle": "2021-08-30T05:58:51.916745Z",
     "shell.execute_reply": "2021-08-30T05:58:51.917388Z",
     "shell.execute_reply.started": "2021-08-29T21:34:42.151299Z"
    },
    "papermill": {
     "duration": 259.740793,
     "end_time": "2021-08-30T05:58:51.917622",
     "exception": false,
     "start_time": "2021-08-30T05:54:32.176829",
     "status": "completed"
    },
    "tags": []
   }
  },
  {
   "cell_type": "markdown",
   "source": [
    "Check if basemodels are uncorrelated:"
   ],
   "metadata": {
    "papermill": {
     "duration": 0.062333,
     "end_time": "2021-08-30T05:58:52.045344",
     "exception": false,
     "start_time": "2021-08-30T05:58:51.983011",
     "status": "completed"
    },
    "tags": []
   }
  },
  {
   "cell_type": "code",
   "execution_count": 10,
   "source": [
    "stack.metafeatures_.corr()"
   ],
   "outputs": [
    {
     "output_type": "execute_result",
     "data": {
      "text/plain": [
       "              lr_1  lr_cnt_1  rf_svd_1\n",
       "lr_1      1.000000  0.888748  0.831120\n",
       "lr_cnt_1  0.888748  1.000000  0.725899\n",
       "rf_svd_1  0.831120  0.725899  1.000000"
      ],
      "text/html": [
       "<div>\n",
       "<style scoped>\n",
       "    .dataframe tbody tr th:only-of-type {\n",
       "        vertical-align: middle;\n",
       "    }\n",
       "\n",
       "    .dataframe tbody tr th {\n",
       "        vertical-align: top;\n",
       "    }\n",
       "\n",
       "    .dataframe thead th {\n",
       "        text-align: right;\n",
       "    }\n",
       "</style>\n",
       "<table border=\"1\" class=\"dataframe\">\n",
       "  <thead>\n",
       "    <tr style=\"text-align: right;\">\n",
       "      <th></th>\n",
       "      <th>lr_1</th>\n",
       "      <th>lr_cnt_1</th>\n",
       "      <th>rf_svd_1</th>\n",
       "    </tr>\n",
       "  </thead>\n",
       "  <tbody>\n",
       "    <tr>\n",
       "      <th>lr_1</th>\n",
       "      <td>1.000000</td>\n",
       "      <td>0.888748</td>\n",
       "      <td>0.831120</td>\n",
       "    </tr>\n",
       "    <tr>\n",
       "      <th>lr_cnt_1</th>\n",
       "      <td>0.888748</td>\n",
       "      <td>1.000000</td>\n",
       "      <td>0.725899</td>\n",
       "    </tr>\n",
       "    <tr>\n",
       "      <th>rf_svd_1</th>\n",
       "      <td>0.831120</td>\n",
       "      <td>0.725899</td>\n",
       "      <td>1.000000</td>\n",
       "    </tr>\n",
       "  </tbody>\n",
       "</table>\n",
       "</div>"
      ]
     },
     "metadata": {},
     "execution_count": 10
    }
   ],
   "metadata": {
    "execution": {
     "iopub.execute_input": "2021-08-30T05:58:52.175568Z",
     "iopub.status.busy": "2021-08-30T05:58:52.174842Z",
     "iopub.status.idle": "2021-08-30T05:58:52.188845Z",
     "shell.execute_reply": "2021-08-30T05:58:52.189439Z"
    },
    "papermill": {
     "duration": 0.081707,
     "end_time": "2021-08-30T05:58:52.189652",
     "exception": false,
     "start_time": "2021-08-30T05:58:52.107945",
     "status": "completed"
    },
    "tags": []
   }
  },
  {
   "cell_type": "markdown",
   "source": [
    "The model saves learned probabilistic features:"
   ],
   "metadata": {
    "papermill": {
     "duration": 0.062842,
     "end_time": "2021-08-30T05:58:52.316002",
     "exception": false,
     "start_time": "2021-08-30T05:58:52.253160",
     "status": "completed"
    },
    "tags": []
   }
  },
  {
   "cell_type": "code",
   "execution_count": 11,
   "source": [
    "stack.metafeatures_.head()"
   ],
   "outputs": [
    {
     "output_type": "execute_result",
     "data": {
      "text/plain": [
       "       lr_1  lr_cnt_1  rf_svd_1\n",
       "0  0.830411  0.999716      0.69\n",
       "1  0.649919  0.999999      0.53\n",
       "2  0.865389  0.952598      0.63\n",
       "3  0.209188  0.005921      0.29\n",
       "4  0.815459  0.996732      0.38"
      ],
      "text/html": [
       "<div>\n",
       "<style scoped>\n",
       "    .dataframe tbody tr th:only-of-type {\n",
       "        vertical-align: middle;\n",
       "    }\n",
       "\n",
       "    .dataframe tbody tr th {\n",
       "        vertical-align: top;\n",
       "    }\n",
       "\n",
       "    .dataframe thead th {\n",
       "        text-align: right;\n",
       "    }\n",
       "</style>\n",
       "<table border=\"1\" class=\"dataframe\">\n",
       "  <thead>\n",
       "    <tr style=\"text-align: right;\">\n",
       "      <th></th>\n",
       "      <th>lr_1</th>\n",
       "      <th>lr_cnt_1</th>\n",
       "      <th>rf_svd_1</th>\n",
       "    </tr>\n",
       "  </thead>\n",
       "  <tbody>\n",
       "    <tr>\n",
       "      <th>0</th>\n",
       "      <td>0.830411</td>\n",
       "      <td>0.999716</td>\n",
       "      <td>0.69</td>\n",
       "    </tr>\n",
       "    <tr>\n",
       "      <th>1</th>\n",
       "      <td>0.649919</td>\n",
       "      <td>0.999999</td>\n",
       "      <td>0.53</td>\n",
       "    </tr>\n",
       "    <tr>\n",
       "      <th>2</th>\n",
       "      <td>0.865389</td>\n",
       "      <td>0.952598</td>\n",
       "      <td>0.63</td>\n",
       "    </tr>\n",
       "    <tr>\n",
       "      <th>3</th>\n",
       "      <td>0.209188</td>\n",
       "      <td>0.005921</td>\n",
       "      <td>0.29</td>\n",
       "    </tr>\n",
       "    <tr>\n",
       "      <th>4</th>\n",
       "      <td>0.815459</td>\n",
       "      <td>0.996732</td>\n",
       "      <td>0.38</td>\n",
       "    </tr>\n",
       "  </tbody>\n",
       "</table>\n",
       "</div>"
      ]
     },
     "metadata": {},
     "execution_count": 11
    }
   ],
   "metadata": {
    "execution": {
     "iopub.execute_input": "2021-08-30T05:58:52.446368Z",
     "iopub.status.busy": "2021-08-30T05:58:52.445627Z",
     "iopub.status.idle": "2021-08-30T05:58:52.457549Z",
     "shell.execute_reply": "2021-08-30T05:58:52.458049Z",
     "shell.execute_reply.started": "2021-08-28T07:33:30.19683Z"
    },
    "papermill": {
     "duration": 0.079177,
     "end_time": "2021-08-30T05:58:52.458267",
     "exception": false,
     "start_time": "2021-08-30T05:58:52.379090",
     "status": "completed"
    },
    "tags": []
   }
  },
  {
   "cell_type": "markdown",
   "source": [
    "We can also check scores of the base models on each validation fold. This informs us of the stability of the folds and the cross-validation performance of the base models. "
   ],
   "metadata": {
    "papermill": {
     "duration": 0.063848,
     "end_time": "2021-08-30T05:58:52.586347",
     "exception": false,
     "start_time": "2021-08-30T05:58:52.522499",
     "status": "completed"
    },
    "tags": []
   }
  },
  {
   "cell_type": "code",
   "execution_count": 12,
   "source": [
    "pd.DataFrame(stack.cv_scores_).describe().loc[['mean', 'std']]"
   ],
   "outputs": [
    {
     "output_type": "execute_result",
     "data": {
      "text/plain": [
       "          lr_1  lr_cnt_1  rf_svd_1\n",
       "mean  0.934901  0.944125  0.878734\n",
       "std   0.004935  0.004938  0.007332"
      ],
      "text/html": [
       "<div>\n",
       "<style scoped>\n",
       "    .dataframe tbody tr th:only-of-type {\n",
       "        vertical-align: middle;\n",
       "    }\n",
       "\n",
       "    .dataframe tbody tr th {\n",
       "        vertical-align: top;\n",
       "    }\n",
       "\n",
       "    .dataframe thead th {\n",
       "        text-align: right;\n",
       "    }\n",
       "</style>\n",
       "<table border=\"1\" class=\"dataframe\">\n",
       "  <thead>\n",
       "    <tr style=\"text-align: right;\">\n",
       "      <th></th>\n",
       "      <th>lr_1</th>\n",
       "      <th>lr_cnt_1</th>\n",
       "      <th>rf_svd_1</th>\n",
       "    </tr>\n",
       "  </thead>\n",
       "  <tbody>\n",
       "    <tr>\n",
       "      <th>mean</th>\n",
       "      <td>0.934901</td>\n",
       "      <td>0.944125</td>\n",
       "      <td>0.878734</td>\n",
       "    </tr>\n",
       "    <tr>\n",
       "      <th>std</th>\n",
       "      <td>0.004935</td>\n",
       "      <td>0.004938</td>\n",
       "      <td>0.007332</td>\n",
       "    </tr>\n",
       "  </tbody>\n",
       "</table>\n",
       "</div>"
      ]
     },
     "metadata": {},
     "execution_count": 12
    }
   ],
   "metadata": {
    "execution": {
     "iopub.execute_input": "2021-08-30T05:58:52.719902Z",
     "iopub.status.busy": "2021-08-30T05:58:52.719224Z",
     "iopub.status.idle": "2021-08-30T05:58:52.744693Z",
     "shell.execute_reply": "2021-08-30T05:58:52.745191Z",
     "shell.execute_reply.started": "2021-08-28T07:33:30.217546Z"
    },
    "papermill": {
     "duration": 0.093971,
     "end_time": "2021-08-30T05:58:52.745437",
     "exception": false,
     "start_time": "2021-08-30T05:58:52.651466",
     "status": "completed"
    },
    "tags": []
   }
  },
  {
   "cell_type": "markdown",
   "source": [
    "Let's try to blend the probabilities using some hand-designed coefficients."
   ],
   "metadata": {
    "papermill": {
     "duration": 0.063949,
     "end_time": "2021-08-30T05:58:52.874414",
     "exception": false,
     "start_time": "2021-08-30T05:58:52.810465",
     "status": "completed"
    },
    "tags": []
   }
  },
  {
   "cell_type": "code",
   "execution_count": 13,
   "source": [
    "target = df_train.sentiment.values\n",
    "\n",
    "# roc is scale invariant, so we dont bother dividing by total weights\n",
    "avg_preds = (stack.metafeatures_ * [1, 1, 1]).sum(axis=1)\n",
    "wtd_preds = (stack.metafeatures_ * [1, 3, 1]).sum(axis=1)\n",
    "rank_avg_preds = (stack.metafeatures_.rank() * [1, 1, 1]).sum(axis=1)\n",
    "rank_wtd_preds = (stack.metafeatures_.rank() * [1, 3, 1]).sum(axis=1)\n",
    "\n",
    "# Calculate AUC over combined OOF preds\n",
    "print(f\"Train OOF-AUC (averaged):     \", metrics.roc_auc_score(target, avg_preds))\n",
    "print(f\"Train OOF-AUC (wtd. avg):     \", metrics.roc_auc_score(target, wtd_preds))\n",
    "print(f\"Train OOF-AUC (rank avg):     \", metrics.roc_auc_score(target, rank_avg_preds)) \n",
    "print(f\"Train OOF-AUC (wtd. rank avg):\", metrics.roc_auc_score(target, rank_wtd_preds))"
   ],
   "outputs": [
    {
     "output_type": "stream",
     "name": "stdout",
     "text": [
      "Train OOF-AUC (averaged):      0.9477839565817322\n",
      "Train OOF-AUC (wtd. avg):      0.9489263573128687\n",
      "Train OOF-AUC (rank avg):      0.94323259366886\n",
      "Train OOF-AUC (wtd. rank avg): 0.9490437473879982\n"
     ]
    }
   ],
   "metadata": {
    "execution": {
     "iopub.execute_input": "2021-08-30T05:58:53.017613Z",
     "iopub.status.busy": "2021-08-30T05:58:53.016818Z",
     "iopub.status.idle": "2021-08-30T05:58:53.078840Z",
     "shell.execute_reply": "2021-08-30T05:58:53.078106Z",
     "shell.execute_reply.started": "2021-08-28T07:33:30.252452Z"
    },
    "papermill": {
     "duration": 0.140223,
     "end_time": "2021-08-30T05:58:53.079020",
     "exception": false,
     "start_time": "2021-08-30T05:58:52.938797",
     "status": "completed"
    },
    "tags": []
   }
  },
  {
   "cell_type": "markdown",
   "source": [
    "Since these coefficients are hand-designed, we may want to devise a strategy for automatically finding the optimal coefficients for blending. This is accomplished by the folowing class."
   ],
   "metadata": {
    "papermill": {
     "duration": 0.066146,
     "end_time": "2021-08-30T05:58:53.211520",
     "exception": false,
     "start_time": "2021-08-30T05:58:53.145374",
     "status": "completed"
    },
    "tags": []
   }
  },
  {
   "cell_type": "code",
   "execution_count": 14,
   "source": [
    "class Blender(BaseEstimator, ClassifierMixin):\n",
    "    \"\"\"Implement blending that maximizes AUC score.\"\"\"\n",
    "    \n",
    "    def __init__(self, rank=False, random_state=42):\n",
    "        self.coef_ = None\n",
    "        self.rank = rank\n",
    "        self.random_state = random_state\n",
    "\n",
    "    def fit(self, X, y):\n",
    "        \"\"\"Find optimal blending coefficients.\"\"\"\n",
    "        \n",
    "        if self.rank:\n",
    "            X = X.rank()\n",
    "\n",
    "        self.coef_ = self._optimize_auc(X, y)\n",
    "        return self\n",
    "\n",
    "    def predict_proba(self, X):\n",
    "        \"\"\"Return blended probabilities for class 0 and class 1.\"\"\"\n",
    "        \n",
    "        if self.rank:\n",
    "            X = X.rank()\n",
    "            \n",
    "        pred = np.sum(X * self.coef_, axis=1)\n",
    "        return np.c_[1 - pred, pred]\n",
    "\n",
    "    def _auc(self, coef, X, y):\n",
    "        \"\"\"Calculate AUC of blended predict probas.\"\"\"\n",
    "\n",
    "        auc = metrics.roc_auc_score(y, np.sum(X * coef, axis=1))\n",
    "        return -1.0 * auc # min -auc = max auc\n",
    "    \n",
    "    def _optimize_auc(self, X, y):\n",
    "        \"\"\"Maximize AUC as a bound-constrained optimization problem using Nelder-Mead \n",
    "        method with Dirichlet init. \n",
    "        \n",
    "        Reference: \n",
    "        https://docs.scipy.org/doc/scipy/reference/generated/scipy.optimize.minimize.html\n",
    "        \"\"\"\n",
    "        partial_loss = partial(self._auc, X=X, y=y) \n",
    "        rng = np.random.RandomState(self.random_state)\n",
    "        init_coef = rng.dirichlet(np.ones(X.shape[1]))\n",
    "        return minimize(partial_loss, init_coef, \n",
    "                        method='Nelder-Mead', \n",
    "                        bounds=[(0, 1)]*X.shape[1])['x']"
   ],
   "outputs": [],
   "metadata": {
    "execution": {
     "iopub.execute_input": "2021-08-30T05:58:53.355263Z",
     "iopub.status.busy": "2021-08-30T05:58:53.354502Z",
     "iopub.status.idle": "2021-08-30T05:58:53.356605Z",
     "shell.execute_reply": "2021-08-30T05:58:53.357041Z",
     "shell.execute_reply.started": "2021-08-29T21:33:37.731449Z"
    },
    "papermill": {
     "duration": 0.080703,
     "end_time": "2021-08-30T05:58:53.357258",
     "exception": false,
     "start_time": "2021-08-30T05:58:53.276555",
     "status": "completed"
    },
    "tags": []
   }
  },
  {
   "cell_type": "markdown",
   "source": [
    "This implementation uses `partial` from `functools` and `minimize` from `scipy.optimize` to minimize the coefficients constained in $(0, 1).$ The initial values of the coefficient are drawn from a Dirichlet distribution $\\operatorname{Dir}(\\boldsymbol{\\alpha})$ with $\\boldsymbol{\\alpha} = [1, 1, 1].$"
   ],
   "metadata": {
    "papermill": {
     "duration": 0.064692,
     "end_time": "2021-08-30T05:58:53.486826",
     "exception": false,
     "start_time": "2021-08-30T05:58:53.422134",
     "status": "completed"
    },
    "tags": []
   }
  },
  {
   "cell_type": "code",
   "execution_count": 15,
   "source": [
    "target = df_train.sentiment.values\n",
    "\n",
    "# Blended predictions\n",
    "blender = Blender()\n",
    "blender.fit(stack.metafeatures_, target)\n",
    "combined_oof_preds = (stack.metafeatures_ * blender.coef_).sum(axis=1)\n",
    "\n",
    "# Blended ranked predictions\n",
    "blender_rk = Blender(rank=True)\n",
    "blender_rk.fit(stack.metafeatures_, target)\n",
    "combined_oof_rk_preds = (stack.metafeatures_.rank() * blender_rk.coef_).sum(axis=1)\n",
    "\n",
    "print(f\"Train OOF-AUC (Blended):    \", metrics.roc_auc_score(target, combined_oof_preds))\n",
    "print(f\"Train OOF-AUC (Blended rk.):\", metrics.roc_auc_score(target, combined_oof_rk_preds))"
   ],
   "outputs": [
    {
     "output_type": "stream",
     "name": "stdout",
     "text": [
      "Train OOF-AUC (Blended):     0.9493579175890672\n",
      "Train OOF-AUC (Blended rk.): 0.9498664579145331\n"
     ]
    }
   ],
   "metadata": {
    "execution": {
     "iopub.execute_input": "2021-08-30T05:58:53.621007Z",
     "iopub.status.busy": "2021-08-30T05:58:53.620219Z",
     "iopub.status.idle": "2021-08-30T05:58:55.736669Z",
     "shell.execute_reply": "2021-08-30T05:58:55.737302Z",
     "shell.execute_reply.started": "2021-08-28T07:33:30.324358Z"
    },
    "papermill": {
     "duration": 2.185701,
     "end_time": "2021-08-30T05:58:55.737564",
     "exception": false,
     "start_time": "2021-08-30T05:58:53.551863",
     "status": "completed"
    },
    "tags": []
   }
  },
  {
   "cell_type": "markdown",
   "source": [
    "Note that Train OOF-AUC is not the same as train AUC. However, this should be a better approximation of the test AUC. Calculating the AUC on the entire out-of-fold predictions involves tracking the rows of the confusion matrix, which is the sum of the confusion matrix of each fold, over all thresholds. On the other hand, the latter approach tracks each confusion matrix separately, then averages the individual AUCs. The two should be similar to cross-validation scores if error is well-distributed between folds &mdash; and we are blending probabilities. [^ref]\n",
    "\n",
    "[^ref]: For some reason OOF-AUC is bad when blending ranking models, e.g. linear regression, with usual classifiers, even after transforming predict probabilities to rank."
   ],
   "metadata": {
    "papermill": {
     "duration": 0.066044,
     "end_time": "2021-08-30T05:58:55.869592",
     "exception": false,
     "start_time": "2021-08-30T05:58:55.803548",
     "status": "completed"
    },
    "tags": []
   }
  },
  {
   "cell_type": "code",
   "execution_count": 16,
   "source": [
    "# Inference\n",
    "test_target = df_test.sentiment.values\n",
    "test_features = []\n",
    "for model_name in basemodels.keys():\n",
    "    test_features.append(basemodels[model_name].predict_proba(df_test)[:, 1])\n",
    "\n",
    "test_pred = (pd.DataFrame(np.c_[test_features].T) * blender.coef_).sum(axis=1)\n",
    "test_rk_pred = (pd.DataFrame(np.c_[test_features].T) * blender_rk.coef_).sum(axis=1)\n",
    "print('Test AUC (Blended):    ', metrics.roc_auc_score(test_target, test_pred))\n",
    "print('Test AUC (Blended rk.):', metrics.roc_auc_score(test_target, test_rk_pred))"
   ],
   "outputs": [
    {
     "output_type": "stream",
     "name": "stdout",
     "text": [
      "Test AUC (Blended):     0.9478908264020622\n",
      "Test AUC (Blended rk.): 0.9478913064069776\n"
     ]
    }
   ],
   "metadata": {
    "execution": {
     "iopub.execute_input": "2021-08-30T05:58:56.042350Z",
     "iopub.status.busy": "2021-08-30T05:58:56.037215Z",
     "iopub.status.idle": "2021-08-30T05:59:00.512582Z",
     "shell.execute_reply": "2021-08-30T05:59:00.511926Z",
     "shell.execute_reply.started": "2021-08-28T07:33:32.164389Z"
    },
    "papermill": {
     "duration": 4.577095,
     "end_time": "2021-08-30T05:59:00.512783",
     "exception": false,
     "start_time": "2021-08-30T05:58:55.935688",
     "status": "completed"
    },
    "tags": []
   }
  },
  {
   "cell_type": "markdown",
   "source": [
    ":::{tip}\n",
    "Using blended **rank probabilities** is a good trick when optimizing AUC score. Here individual probabilities are replaced by their rank index. Recall that AUC only cares about the predict probability of a randomly chosen negative examples to be assigned lower predict proba than a randomly chosen positive example. Note that this only works for ensembles; for single models using rank probabilities does not affect AUC score.\n",
    ":::"
   ],
   "metadata": {
    "papermill": {
     "duration": 0.065295,
     "end_time": "2021-08-30T05:59:00.645575",
     "exception": false,
     "start_time": "2021-08-30T05:59:00.580280",
     "status": "completed"
    },
    "tags": []
   }
  },
  {
   "cell_type": "markdown",
   "source": [
    "### XGB Metamodel"
   ],
   "metadata": {
    "papermill": {
     "duration": 0.066109,
     "end_time": "2021-08-30T05:59:00.777850",
     "exception": false,
     "start_time": "2021-08-30T05:59:00.711741",
     "status": "completed"
    },
    "tags": []
   }
  },
  {
   "cell_type": "markdown",
   "source": [
    "Blending can be easily generalized to more complex machine learning model that learns and predicts with the metafeatures using more complex algorithms. For example, we can use `XGBoostClassifier`."
   ],
   "metadata": {
    "papermill": {
     "duration": 0.065629,
     "end_time": "2021-08-30T05:59:00.909504",
     "exception": false,
     "start_time": "2021-08-30T05:59:00.843875",
     "status": "completed"
    },
    "tags": []
   }
  },
  {
   "cell_type": "code",
   "execution_count": 17,
   "source": [
    "basemodels = {'lr': lr, 'lr_cnt': lr_cnt, 'rf_svd': rf_svd}\n",
    "metamodel = {'xgb': XGBClassifier(eval_metric=\"logloss\", use_label_encoder=False)}\n",
    "stack = StackingClassifier([basemodels, metamodel])\n",
    "stack.fit(df_train)"
   ],
   "outputs": [
    {
     "output_type": "stream",
     "name": "stdout",
     "text": [
      "\n",
      "Level 1 preds: lr\n",
      "fold=0, auc=0.935408483852121\n",
      "fold=1, auc=0.9348064837016209\n",
      "fold=2, auc=0.9421081921081921\n",
      "fold=3, auc=0.9339369339369339\n",
      "fold=4, auc=0.9282464282464282\n",
      "\n",
      "Level 1 preds: lr_cnt\n",
      "fold=0, auc=0.9432962358240589\n",
      "fold=1, auc=0.9477042369260591\n",
      "fold=2, auc=0.9484371984371985\n",
      "fold=3, auc=0.945093695093695\n",
      "fold=4, auc=0.9360944360944361\n",
      "\n",
      "Level 1 preds: rf_svd\n",
      "fold=0, auc=0.8854135963533991\n",
      "fold=1, auc=0.8771230942807736\n",
      "fold=2, auc=0.882949882949883\n",
      "fold=3, auc=0.8682824932824932\n",
      "fold=4, auc=0.870939870939871\n",
      "\n",
      "Level 2 preds: xgb\n",
      "fold=0, auc=0.9450343612585903\n",
      "fold=1, auc=0.9459216114804029\n",
      "fold=2, auc=0.9506855756855757\n",
      "fold=3, auc=0.9444283194283194\n",
      "fold=4, auc=0.9393175643175643\n"
     ]
    },
    {
     "output_type": "execute_result",
     "data": {
      "text/plain": [
       "<__main__.StackingClassifier at 0x7f4126daad90>"
      ]
     },
     "metadata": {},
     "execution_count": 17
    }
   ],
   "metadata": {
    "execution": {
     "iopub.execute_input": "2021-08-30T05:59:01.052937Z",
     "iopub.status.busy": "2021-08-30T05:59:01.052012Z",
     "iopub.status.idle": "2021-08-30T06:03:24.576226Z",
     "shell.execute_reply": "2021-08-30T06:03:24.575359Z",
     "shell.execute_reply.started": "2021-08-28T07:33:34.815063Z"
    },
    "papermill": {
     "duration": 263.600979,
     "end_time": "2021-08-30T06:03:24.576418",
     "exception": false,
     "start_time": "2021-08-30T05:59:00.975439",
     "status": "completed"
    },
    "tags": []
   }
  },
  {
   "cell_type": "code",
   "execution_count": 18,
   "source": [
    "y_train = df_train.sentiment.values\n",
    "y_test = df_test.sentiment.values\n",
    "\n",
    "print(f\"Train AUC (XGB stack):\", metrics.roc_auc_score(y_train, stack.predict_proba(df_train)[:, 1]))\n",
    "print(f\"Test AUC  (XGB stack):\", metrics.roc_auc_score(y_test, stack.predict_proba(df_test)[:, 1]))"
   ],
   "outputs": [
    {
     "output_type": "stream",
     "name": "stdout",
     "text": [
      "Train AUC (XGB stack): 0.9995912697384126\n",
      "Test AUC  (XGB stack): 0.9438695052237334\n"
     ]
    }
   ],
   "metadata": {
    "execution": {
     "iopub.execute_input": "2021-08-30T06:03:24.803455Z",
     "iopub.status.busy": "2021-08-30T06:03:24.802710Z",
     "iopub.status.idle": "2021-08-30T06:03:47.257585Z",
     "shell.execute_reply": "2021-08-30T06:03:47.258152Z",
     "shell.execute_reply.started": "2021-08-28T07:36:32.430144Z"
    },
    "papermill": {
     "duration": 22.607947,
     "end_time": "2021-08-30T06:03:47.258402",
     "exception": false,
     "start_time": "2021-08-30T06:03:24.650455",
     "status": "completed"
    },
    "tags": []
   }
  },
  {
   "cell_type": "code",
   "execution_count": 19,
   "source": [
    "pd.DataFrame(stack.cv_scores_).describe().loc[['mean', 'std']]"
   ],
   "outputs": [
    {
     "output_type": "execute_result",
     "data": {
      "text/plain": [
       "          lr_1  lr_cnt_1  rf_svd_1     xgb_2\n",
       "mean  0.934901  0.944125  0.876942  0.945077\n",
       "std   0.004935  0.004938  0.007398  0.004055"
      ],
      "text/html": [
       "<div>\n",
       "<style scoped>\n",
       "    .dataframe tbody tr th:only-of-type {\n",
       "        vertical-align: middle;\n",
       "    }\n",
       "\n",
       "    .dataframe tbody tr th {\n",
       "        vertical-align: top;\n",
       "    }\n",
       "\n",
       "    .dataframe thead th {\n",
       "        text-align: right;\n",
       "    }\n",
       "</style>\n",
       "<table border=\"1\" class=\"dataframe\">\n",
       "  <thead>\n",
       "    <tr style=\"text-align: right;\">\n",
       "      <th></th>\n",
       "      <th>lr_1</th>\n",
       "      <th>lr_cnt_1</th>\n",
       "      <th>rf_svd_1</th>\n",
       "      <th>xgb_2</th>\n",
       "    </tr>\n",
       "  </thead>\n",
       "  <tbody>\n",
       "    <tr>\n",
       "      <th>mean</th>\n",
       "      <td>0.934901</td>\n",
       "      <td>0.944125</td>\n",
       "      <td>0.876942</td>\n",
       "      <td>0.945077</td>\n",
       "    </tr>\n",
       "    <tr>\n",
       "      <th>std</th>\n",
       "      <td>0.004935</td>\n",
       "      <td>0.004938</td>\n",
       "      <td>0.007398</td>\n",
       "      <td>0.004055</td>\n",
       "    </tr>\n",
       "  </tbody>\n",
       "</table>\n",
       "</div>"
      ]
     },
     "metadata": {},
     "execution_count": 19
    }
   ],
   "metadata": {
    "execution": {
     "iopub.execute_input": "2021-08-30T06:03:47.420947Z",
     "iopub.status.busy": "2021-08-30T06:03:47.415871Z",
     "iopub.status.idle": "2021-08-30T06:03:47.438478Z",
     "shell.execute_reply": "2021-08-30T06:03:47.437876Z",
     "shell.execute_reply.started": "2021-08-28T07:36:45.008245Z"
    },
    "papermill": {
     "duration": 0.106324,
     "end_time": "2021-08-30T06:03:47.438651",
     "exception": false,
     "start_time": "2021-08-30T06:03:47.332327",
     "status": "completed"
    },
    "tags": []
   }
  },
  {
   "cell_type": "markdown",
   "source": [
    "Observe that cross-validated AUC scores is indicative of test performance. Meanwhile, train AUC is useless. A better estimate is the mean cross-validation AUC score. If we assume that each fold has the same error distribution, then this should approximate the test AUC which can be thought of as predicting on another fold. Indeed, the above results supports this."
   ],
   "metadata": {
    "papermill": {
     "duration": 0.073681,
     "end_time": "2021-08-30T06:03:47.586874",
     "exception": false,
     "start_time": "2021-08-30T06:03:47.513193",
     "status": "completed"
    },
    "tags": []
   }
  },
  {
   "cell_type": "markdown",
   "source": [
    "### Conclusion\n",
    "\n",
    "The above examples of building ensembles with **blending** or **stacking** (e.g. with XGBoost) show that stacked models significantly outperform single models."
   ],
   "metadata": {
    "papermill": {
     "duration": 0.073625,
     "end_time": "2021-08-30T06:03:47.735456",
     "exception": false,
     "start_time": "2021-08-30T06:03:47.661831",
     "status": "completed"
    },
    "tags": []
   }
  },
  {
   "cell_type": "markdown",
   "source": [
    "## Experiment: CV Folds"
   ],
   "metadata": {
    "papermill": {
     "duration": 0.073786,
     "end_time": "2021-08-30T06:03:47.884206",
     "exception": false,
     "start_time": "2021-08-30T06:03:47.810420",
     "status": "completed"
    },
    "tags": []
   }
  },
  {
   "cell_type": "markdown",
   "source": [
    "Consider stacking three levels of models. Our current implementation does this by keeping the same cross-validation folds when training the level 2 models [^ref2]. It is unclear whether using same folds between levels 1 and 2 affect generalization error. To check this empirically, we compute CV scores with fold indices shuffled after each level. This simulates changing fold assignments for each training example betweel levels. We calculate train and test set AUCs, as well as CV scores.\n",
    "\n",
    "[^ref2]: GM Abishek Thakur recommends keeping the same folds in [AAAMLP](https://github.com/abhishekkrthakur/approachingalmost/blob/master/AAAMLP.pdf)."
   ],
   "metadata": {
    "papermill": {
     "duration": 0.074419,
     "end_time": "2021-08-30T06:03:48.034659",
     "exception": false,
     "start_time": "2021-08-30T06:03:47.960240",
     "status": "completed"
    },
    "tags": []
   }
  },
  {
   "cell_type": "code",
   "execution_count": 20,
   "source": [
    "class LinearRegressionClassifier(BaseEstimator, ClassifierMixin):\n",
    "    \"\"\"Linear regression for model-based AUC optimization.\n",
    "    Note that we transform probabilities to rank probabilities!\"\"\"\n",
    "    \n",
    "    def __init__(self): \n",
    "        self.lr = linear_model.LinearRegression()\n",
    "        \n",
    "    def fit(self, X, y):\n",
    "        self.lr.fit(pd.DataFrame(X).rank(), y)\n",
    "        return self\n",
    "        \n",
    "    def predict_proba(self, X):\n",
    "        return np.c_[[0]*len(X), self.lr.predict(pd.DataFrame(X).rank())]"
   ],
   "outputs": [],
   "metadata": {
    "execution": {
     "iopub.execute_input": "2021-08-30T06:03:48.194200Z",
     "iopub.status.busy": "2021-08-30T06:03:48.193029Z",
     "iopub.status.idle": "2021-08-30T06:03:48.196489Z",
     "shell.execute_reply": "2021-08-30T06:03:48.195826Z",
     "shell.execute_reply.started": "2021-08-29T21:34:08.418813Z"
    },
    "papermill": {
     "duration": 0.086419,
     "end_time": "2021-08-30T06:03:48.196665",
     "exception": false,
     "start_time": "2021-08-30T06:03:48.110246",
     "status": "completed"
    },
    "tags": []
   }
  },
  {
   "cell_type": "markdown",
   "source": [
    "Define models for stacking."
   ],
   "metadata": {
    "papermill": {
     "duration": 0.075135,
     "end_time": "2021-08-30T06:03:48.346106",
     "exception": false,
     "start_time": "2021-08-30T06:03:48.270971",
     "status": "completed"
    },
    "tags": []
   }
  },
  {
   "cell_type": "code",
   "execution_count": 21,
   "source": [
    "# Base models\n",
    "level1 = {\n",
    "    'lr': make_pipeline(\n",
    "        ReviewColumnExtractor(),\n",
    "        TfidfVectorizer(max_features=1000),\n",
    "        linear_model.LogisticRegression(random_state=42)\n",
    "    ), \n",
    "    \n",
    "    'lr_cnt': make_pipeline(\n",
    "        ReviewColumnExtractor(),\n",
    "        CountVectorizer(),\n",
    "        linear_model.LogisticRegression(solver='liblinear', \n",
    "                                        random_state=42)\n",
    "    ), \n",
    "}\n",
    "\n",
    "# Meta models\n",
    "level2 = {\n",
    "    'lr': linear_model.LogisticRegression(random_state=42),\n",
    "    \n",
    "    'linreg': make_pipeline(\n",
    "        StandardScaler(), \n",
    "        LinearRegressionClassifier()\n",
    "    ),\n",
    "    \n",
    "    'xgb': XGBClassifier(eval_metric=\"logloss\", \n",
    "                         use_label_encoder=False, \n",
    "                         random_state=42)\n",
    "}\n",
    "\n",
    "# Blender head: rank true for linear regression\n",
    "level3 = {'blender': Blender(rank=True, random_state=42)}"
   ],
   "outputs": [],
   "metadata": {
    "execution": {
     "iopub.execute_input": "2021-08-30T06:03:48.530546Z",
     "iopub.status.busy": "2021-08-30T06:03:48.529247Z",
     "iopub.status.idle": "2021-08-30T06:03:48.533435Z",
     "shell.execute_reply": "2021-08-30T06:03:48.534475Z",
     "shell.execute_reply.started": "2021-08-29T21:34:55.784998Z"
    },
    "papermill": {
     "duration": 0.111279,
     "end_time": "2021-08-30T06:03:48.534801",
     "exception": false,
     "start_time": "2021-08-30T06:03:48.423522",
     "status": "completed"
    },
    "tags": []
   }
  },
  {
   "cell_type": "markdown",
   "source": [
    "### Same Folds"
   ],
   "metadata": {
    "papermill": {
     "duration": 0.075131,
     "end_time": "2021-08-30T06:03:48.687561",
     "exception": false,
     "start_time": "2021-08-30T06:03:48.612430",
     "status": "completed"
    },
    "tags": []
   }
  },
  {
   "cell_type": "markdown",
   "source": [
    "Run the experiment many times."
   ],
   "metadata": {
    "papermill": {
     "duration": 0.074811,
     "end_time": "2021-08-30T06:03:48.837330",
     "exception": false,
     "start_time": "2021-08-30T06:03:48.762519",
     "status": "completed"
    },
    "tags": []
   }
  },
  {
   "cell_type": "code",
   "execution_count": 22,
   "source": [
    "NUM_RUNS = 5\n",
    "same_train_auc = []\n",
    "same_test_auc = []\n",
    "\n",
    "for i in tqdm(range(NUM_RUNS)):\n",
    "    \n",
    "    # Run training of stack models\n",
    "    stack = StackingClassifier([level1, level2, level3], verbose=False)\n",
    "    stack.fit(df_train)\n",
    "    \n",
    "    # Record results\n",
    "    train_score = metrics.roc_auc_score(df_train.sentiment, stack.predict_proba(df_train)[:, 1])\n",
    "    test_score  = metrics.roc_auc_score(df_test.sentiment,  stack.predict_proba(df_test )[:, 1])\n",
    "    same_train_auc.append(train_score)\n",
    "    same_test_auc .append(test_score )\n",
    "\n",
    "    if i == 0:\n",
    "        cv_results  = pd.DataFrame(stack.cv_scores_).describe().loc[['mean', 'std']]\n",
    "    else:\n",
    "        cv_results += pd.DataFrame(stack.cv_scores_).describe().loc[['mean', 'std']]\n",
    "        \n",
    "# Convert to arrays\n",
    "same_train_auc = np.array(same_train_auc)\n",
    "same_test_auc  = np.array(same_test_auc )"
   ],
   "outputs": [
    {
     "output_type": "display_data",
     "data": {
      "text/plain": [
       "  0%|          | 0/5 [00:00<?, ?it/s]"
      ],
      "application/vnd.jupyter.widget-view+json": {
       "model_id": "8ddce72fab9542cda6bc8a9bfd9a1347",
       "version_major": 2,
       "version_minor": 0
      }
     },
     "metadata": {}
    }
   ],
   "metadata": {
    "execution": {
     "iopub.execute_input": "2021-08-30T06:03:48.993110Z",
     "iopub.status.busy": "2021-08-30T06:03:48.991948Z",
     "iopub.status.idle": "2021-08-30T06:17:02.701708Z",
     "shell.execute_reply": "2021-08-30T06:17:02.699963Z"
    },
    "papermill": {
     "duration": 793.790314,
     "end_time": "2021-08-30T06:17:02.701884",
     "exception": false,
     "start_time": "2021-08-30T06:03:48.911570",
     "status": "completed"
    },
    "tags": []
   }
  },
  {
   "cell_type": "code",
   "execution_count": 23,
   "source": [
    "experiment_results = {}\n",
    "experiment_results['same'] = {\n",
    "    'train_mean': same_train_auc.mean(), \n",
    "    'train_std':  same_train_auc.std(),\n",
    "    'test_mean':  same_test_auc .mean(),\n",
    "    'test_std':   same_test_auc .std(),\n",
    "}"
   ],
   "outputs": [],
   "metadata": {
    "execution": {
     "iopub.execute_input": "2021-08-30T06:17:02.860679Z",
     "iopub.status.busy": "2021-08-30T06:17:02.859950Z",
     "iopub.status.idle": "2021-08-30T06:17:02.861998Z",
     "shell.execute_reply": "2021-08-30T06:17:02.862561Z"
    },
    "papermill": {
     "duration": 0.085349,
     "end_time": "2021-08-30T06:17:02.862768",
     "exception": false,
     "start_time": "2021-08-30T06:17:02.777419",
     "status": "completed"
    },
    "tags": []
   }
  },
  {
   "cell_type": "markdown",
   "source": [
    "### Shuffled Folds"
   ],
   "metadata": {
    "papermill": {
     "duration": 0.076066,
     "end_time": "2021-08-30T06:17:03.013855",
     "exception": false,
     "start_time": "2021-08-30T06:17:02.937789",
     "status": "completed"
    },
    "tags": []
   }
  },
  {
   "cell_type": "markdown",
   "source": [
    "Now we train the same model except the folds are shuffled beyond training the level 1 models simulating the use of different cross-validation folds when training higher level models."
   ],
   "metadata": {
    "papermill": {
     "duration": 0.076691,
     "end_time": "2021-08-30T06:17:03.165552",
     "exception": false,
     "start_time": "2021-08-30T06:17:03.088861",
     "status": "completed"
    },
    "tags": []
   }
  },
  {
   "cell_type": "code",
   "execution_count": 24,
   "source": [
    "class StackingClassifierShuffledCV:\n",
    "    \"\"\"Implements model stacking for classification.\"\"\"\n",
    "    \n",
    "    def __init__(self, model_dict_list, verbose=True):\n",
    "        \"\"\"Initialize by passing a list of dictionaries of name-model pairs \n",
    "        for each level.\"\"\"\n",
    "        \n",
    "        self.model_dict_list = model_dict_list\n",
    "        self.cv_scores_ = {}\n",
    "        self.metafeatures_ = None\n",
    "        self.verbose = verbose\n",
    "        \n",
    "    def fit(self, df):\n",
    "        \"\"\"Fit classifier. This assumes `df` is a DataFrame with \"id\", \"kfold\", \n",
    "        \"sentiment\" (target) columns, followed by features columns.\"\"\"\n",
    "                \n",
    "        # Iterating over all stacking levels\n",
    "        df = df.copy()\n",
    "        metafeatures = []\n",
    "        for m in range(len(self.model_dict_list)):\n",
    "            \n",
    "            # Get models in current layer\n",
    "            model_dict = self.model_dict_list[m]\n",
    "            level = m + 1\n",
    "            \n",
    "            # Identify feature columns, i.e. preds of prev. layer\n",
    "            if m == 0:\n",
    "                feature_cols = ['review']\n",
    "            else:\n",
    "                prev_level_names = self.model_dict_list[m-1].keys()\n",
    "                feature_cols = [f'{name}_{level-1}' for name in prev_level_names]\n",
    "                df['kfold'] = random.sample(df.kfold.tolist(), len(df)) # SHUFFLE FOLDS HERE <!>\n",
    "            \n",
    "            # Iterate over models in the current layer\n",
    "            for model_name in model_dict.keys():\n",
    "                if self.verbose:\n",
    "                    print(f'\\nLevel {level} preds: {model_name}')\n",
    "                self.cv_scores_[f'{model_name}_{level}'] = []\n",
    "                model = model_dict[model_name]\n",
    "                \n",
    "                # Generate feature for next layer models from OOF preds\n",
    "                oof_preds = []\n",
    "                for j in range(df.kfold.nunique()):\n",
    "                    oof_pred, oof_auc = self._oof_pred(df, feature_cols, model, \n",
    "                                                        model_name, fold=j, level=level)\n",
    "                    oof_preds.append(oof_pred)\n",
    "                    self.cv_scores_[f'{model_name}_{level}'].append(oof_auc)\n",
    "                \n",
    "                pred = pd.concat(oof_preds)\n",
    "                df = df.merge(pred[['id', f'{model_name}_{level}']], on='id', how='left')   \n",
    "                metafeatures.append(f'{model_name}_{level}')\n",
    "        \n",
    "                # Train models on entire feature columns for inference\n",
    "                model.fit(df[feature_cols], df.sentiment.values)\n",
    "        \n",
    "        self.metafeatures_ = df[metafeatures]\n",
    "        return self\n",
    "        \n",
    "    def predict_proba(self, test_df):\n",
    "        \"\"\"Return classification probabilities.\"\"\"\n",
    "        \n",
    "        test_df = test_df.copy()\n",
    "        \n",
    "        # Iterate over layers to make predictions\n",
    "        for m in range(len(self.model_dict_list)):\n",
    "            \n",
    "            # Get models for current layer\n",
    "            model_dict = self.model_dict_list[m]\n",
    "            level = m + 1\n",
    "            \n",
    "            # Get feature columns to use for prediction\n",
    "            if m == 0:\n",
    "                feature_cols = ['review']\n",
    "            else:\n",
    "                prev_names = self.model_dict_list[m-1].keys()\n",
    "                feature_cols = [f\"{model_name}_{level-1}\" for model_name in prev_names]\n",
    "\n",
    "            # Append predictions to test DataFrame\n",
    "            for model_name in model_dict.keys():\n",
    "                model = model_dict[model_name]\n",
    "                pred = model.predict_proba(test_df[feature_cols])[:, 1] \n",
    "                test_df.loc[:, f\"{model_name}_{level}\"] = pred\n",
    "                    \n",
    "        # Return last predictions\n",
    "        return np.c_[1 - pred, pred]\n",
    "        \n",
    "    def _oof_pred(self, df, feature_cols, model, model_name, fold, level):\n",
    "        \"Train on K-1 folds, predict on fold K. Return OOF predictions with IDs.\"\n",
    "\n",
    "        # Get folds; include ID and target cols, and feature cols\n",
    "        df_trn = df[df.kfold != fold][['id', 'sentiment']+feature_cols]\n",
    "        df_oof = df[df.kfold == fold][['id', 'sentiment']+feature_cols]\n",
    "        \n",
    "        # Fit model.\n",
    "        model.fit(df_trn[feature_cols], df_trn.sentiment.values)\n",
    "        oof_pred = model.predict_proba(df_oof[feature_cols])[:, 1] \n",
    "        auc = metrics.roc_auc_score(df_oof.sentiment.values, oof_pred)\n",
    "        if self.verbose:\n",
    "            print(f\"fold={fold}, auc={auc}\")\n",
    "\n",
    "        # Return OOF predictions with ids\n",
    "        df_oof.loc[:, f\"{model_name}_{level}\"] = oof_pred\n",
    "        return df_oof[[\"id\", f\"{model_name}_{level}\"]], auc"
   ],
   "outputs": [],
   "metadata": {
    "execution": {
     "iopub.execute_input": "2021-08-30T06:17:03.319637Z",
     "iopub.status.busy": "2021-08-30T06:17:03.318849Z",
     "iopub.status.idle": "2021-08-30T06:17:03.340507Z",
     "shell.execute_reply": "2021-08-30T06:17:03.341065Z"
    },
    "papermill": {
     "duration": 0.100877,
     "end_time": "2021-08-30T06:17:03.341322",
     "exception": false,
     "start_time": "2021-08-30T06:17:03.240445",
     "status": "completed"
    },
    "tags": []
   }
  },
  {
   "cell_type": "markdown",
   "source": [
    ":::{danger}\n",
    "The implementation of `StackingClassifier` has a side-effect: models inside the dictionaries are trained. Hence, if we train another model using the same model dictionaries (as we do here in defining `stack_shuffled`), then the models inside the dictionaries will be retrained using a different algorithm. This means calling `stack.predict_proba(df_test)` will yield **different results** before and after training `stack_shuffled`! As usual, the stateful approach is error prone. We can modify the `StackingClassifier` to instead save a list of model dictionaries that are *clones* of the models. This allows all state to be localized within the  stacked model.\n",
    ":::"
   ],
   "metadata": {
    "papermill": {
     "duration": 0.076583,
     "end_time": "2021-08-30T06:17:03.492622",
     "exception": false,
     "start_time": "2021-08-30T06:17:03.416039",
     "status": "completed"
    },
    "tags": []
   }
  },
  {
   "cell_type": "markdown",
   "source": [
    "Start training the stacked model with shuffling of folds:"
   ],
   "metadata": {
    "papermill": {
     "duration": 0.076861,
     "end_time": "2021-08-30T06:17:03.646720",
     "exception": false,
     "start_time": "2021-08-30T06:17:03.569859",
     "status": "completed"
    },
    "tags": []
   }
  },
  {
   "cell_type": "code",
   "execution_count": 25,
   "source": [
    "shuffled_train_auc = []\n",
    "shuffled_test_auc  = []\n",
    "\n",
    "for i in tqdm(range(NUM_RUNS)):\n",
    "    \n",
    "    # Run training of stack models\n",
    "    stack = StackingClassifierShuffledCV([level1, level2, level3], verbose=False)\n",
    "    stack.fit(df_train)\n",
    "    \n",
    "    # Record results\n",
    "    train_score = metrics.roc_auc_score(df_train.sentiment, stack.predict_proba(df_train)[:, 1])\n",
    "    test_score  = metrics.roc_auc_score(df_test.sentiment,  stack.predict_proba(df_test )[:, 1])\n",
    "    shuffled_train_auc.append(train_score)\n",
    "    shuffled_test_auc .append(test_score )\n",
    "\n",
    "    if i == 0:\n",
    "        shuffled_cv_results  = pd.DataFrame(stack.cv_scores_).describe().loc[['mean', 'std']]\n",
    "    else:\n",
    "        shuffled_cv_results += pd.DataFrame(stack.cv_scores_).describe().loc[['mean', 'std']]\n",
    "        \n",
    "# Convert to arrays\n",
    "shuffled_train_auc = np.array(shuffled_train_auc)\n",
    "shuffled_test_auc  = np.array(shuffled_test_auc )"
   ],
   "outputs": [
    {
     "output_type": "display_data",
     "data": {
      "text/plain": [
       "  0%|          | 0/5 [00:00<?, ?it/s]"
      ],
      "application/vnd.jupyter.widget-view+json": {
       "model_id": "dfb6a1094936418c8bfbd2cfc6f5abd8",
       "version_major": 2,
       "version_minor": 0
      }
     },
     "metadata": {}
    }
   ],
   "metadata": {
    "execution": {
     "iopub.execute_input": "2021-08-30T06:17:03.801971Z",
     "iopub.status.busy": "2021-08-30T06:17:03.801173Z",
     "iopub.status.idle": "2021-08-30T06:30:20.123382Z",
     "shell.execute_reply": "2021-08-30T06:30:20.121650Z"
    },
    "papermill": {
     "duration": 796.400882,
     "end_time": "2021-08-30T06:30:20.123561",
     "exception": false,
     "start_time": "2021-08-30T06:17:03.722679",
     "status": "completed"
    },
    "tags": []
   }
  },
  {
   "cell_type": "code",
   "execution_count": 26,
   "source": [
    "experiment_results['shuffled'] = {\n",
    "    'train_mean': shuffled_train_auc.mean(), \n",
    "    'train_std':  shuffled_train_auc.std(),\n",
    "    'test_mean':  shuffled_test_auc .mean(),\n",
    "    'test_std':   shuffled_test_auc .std(),\n",
    "}"
   ],
   "outputs": [],
   "metadata": {
    "execution": {
     "iopub.execute_input": "2021-08-30T06:30:20.285685Z",
     "iopub.status.busy": "2021-08-30T06:30:20.284793Z",
     "iopub.status.idle": "2021-08-30T06:30:20.286835Z",
     "shell.execute_reply": "2021-08-30T06:30:20.286280Z"
    },
    "papermill": {
     "duration": 0.086803,
     "end_time": "2021-08-30T06:30:20.286990",
     "exception": false,
     "start_time": "2021-08-30T06:30:20.200187",
     "status": "completed"
    },
    "tags": []
   }
  },
  {
   "cell_type": "code",
   "execution_count": 27,
   "source": [
    "pd.DataFrame(experiment_results)"
   ],
   "outputs": [
    {
     "output_type": "execute_result",
     "data": {
      "text/plain": [
       "                    same  shuffled\n",
       "train_mean  9.924016e-01  0.992848\n",
       "train_std   1.110223e-16  0.000429\n",
       "test_mean   9.483152e-01  0.948315\n",
       "test_std    0.000000e+00  0.000022"
      ],
      "text/html": [
       "<div>\n",
       "<style scoped>\n",
       "    .dataframe tbody tr th:only-of-type {\n",
       "        vertical-align: middle;\n",
       "    }\n",
       "\n",
       "    .dataframe tbody tr th {\n",
       "        vertical-align: top;\n",
       "    }\n",
       "\n",
       "    .dataframe thead th {\n",
       "        text-align: right;\n",
       "    }\n",
       "</style>\n",
       "<table border=\"1\" class=\"dataframe\">\n",
       "  <thead>\n",
       "    <tr style=\"text-align: right;\">\n",
       "      <th></th>\n",
       "      <th>same</th>\n",
       "      <th>shuffled</th>\n",
       "    </tr>\n",
       "  </thead>\n",
       "  <tbody>\n",
       "    <tr>\n",
       "      <th>train_mean</th>\n",
       "      <td>9.924016e-01</td>\n",
       "      <td>0.992848</td>\n",
       "    </tr>\n",
       "    <tr>\n",
       "      <th>train_std</th>\n",
       "      <td>1.110223e-16</td>\n",
       "      <td>0.000429</td>\n",
       "    </tr>\n",
       "    <tr>\n",
       "      <th>test_mean</th>\n",
       "      <td>9.483152e-01</td>\n",
       "      <td>0.948315</td>\n",
       "    </tr>\n",
       "    <tr>\n",
       "      <th>test_std</th>\n",
       "      <td>0.000000e+00</td>\n",
       "      <td>0.000022</td>\n",
       "    </tr>\n",
       "  </tbody>\n",
       "</table>\n",
       "</div>"
      ]
     },
     "metadata": {},
     "execution_count": 27
    }
   ],
   "metadata": {
    "execution": {
     "iopub.execute_input": "2021-08-30T06:30:20.451435Z",
     "iopub.status.busy": "2021-08-30T06:30:20.450669Z",
     "iopub.status.idle": "2021-08-30T06:30:20.454402Z",
     "shell.execute_reply": "2021-08-30T06:30:20.453809Z"
    },
    "papermill": {
     "duration": 0.091676,
     "end_time": "2021-08-30T06:30:20.454561",
     "exception": false,
     "start_time": "2021-08-30T06:30:20.362885",
     "status": "completed"
    },
    "tags": []
   }
  },
  {
   "cell_type": "markdown",
   "source": [
    "Observe that the train AUC increased while test score decreased when using different folds between layers which indicates overfitting. However, if we look at cv scores, we see that while the mean of scores is higher for same cross-validation folds, the spread of values is larger compared to the shuffled folds."
   ],
   "metadata": {
    "papermill": {
     "duration": 0.076515,
     "end_time": "2021-08-30T06:30:20.607471",
     "exception": false,
     "start_time": "2021-08-30T06:30:20.530956",
     "status": "completed"
    },
    "tags": []
   }
  },
  {
   "cell_type": "code",
   "execution_count": 28,
   "source": [
    "# Shuffled CV scores\n",
    "shuffled_cv_results / NUM_RUNS"
   ],
   "outputs": [
    {
     "output_type": "execute_result",
     "data": {
      "text/plain": [
       "          lr_1  lr_cnt_1      lr_2  linreg_2     xgb_2  blender_3\n",
       "mean  0.934901  0.944125  0.948279  0.949361  0.945230   0.949464\n",
       "std   0.004935  0.004938  0.002985  0.002963  0.003097   0.002746"
      ],
      "text/html": [
       "<div>\n",
       "<style scoped>\n",
       "    .dataframe tbody tr th:only-of-type {\n",
       "        vertical-align: middle;\n",
       "    }\n",
       "\n",
       "    .dataframe tbody tr th {\n",
       "        vertical-align: top;\n",
       "    }\n",
       "\n",
       "    .dataframe thead th {\n",
       "        text-align: right;\n",
       "    }\n",
       "</style>\n",
       "<table border=\"1\" class=\"dataframe\">\n",
       "  <thead>\n",
       "    <tr style=\"text-align: right;\">\n",
       "      <th></th>\n",
       "      <th>lr_1</th>\n",
       "      <th>lr_cnt_1</th>\n",
       "      <th>lr_2</th>\n",
       "      <th>linreg_2</th>\n",
       "      <th>xgb_2</th>\n",
       "      <th>blender_3</th>\n",
       "    </tr>\n",
       "  </thead>\n",
       "  <tbody>\n",
       "    <tr>\n",
       "      <th>mean</th>\n",
       "      <td>0.934901</td>\n",
       "      <td>0.944125</td>\n",
       "      <td>0.948279</td>\n",
       "      <td>0.949361</td>\n",
       "      <td>0.945230</td>\n",
       "      <td>0.949464</td>\n",
       "    </tr>\n",
       "    <tr>\n",
       "      <th>std</th>\n",
       "      <td>0.004935</td>\n",
       "      <td>0.004938</td>\n",
       "      <td>0.002985</td>\n",
       "      <td>0.002963</td>\n",
       "      <td>0.003097</td>\n",
       "      <td>0.002746</td>\n",
       "    </tr>\n",
       "  </tbody>\n",
       "</table>\n",
       "</div>"
      ]
     },
     "metadata": {},
     "execution_count": 28
    }
   ],
   "metadata": {
    "execution": {
     "iopub.execute_input": "2021-08-30T06:30:20.764260Z",
     "iopub.status.busy": "2021-08-30T06:30:20.763580Z",
     "iopub.status.idle": "2021-08-30T06:30:20.777427Z",
     "shell.execute_reply": "2021-08-30T06:30:20.777943Z"
    },
    "papermill": {
     "duration": 0.094091,
     "end_time": "2021-08-30T06:30:20.778142",
     "exception": false,
     "start_time": "2021-08-30T06:30:20.684051",
     "status": "completed"
    },
    "tags": []
   }
  },
  {
   "cell_type": "code",
   "execution_count": 29,
   "source": [
    "# Same CV scores\n",
    "cv_results / NUM_RUNS"
   ],
   "outputs": [
    {
     "output_type": "execute_result",
     "data": {
      "text/plain": [
       "          lr_1  lr_cnt_1      lr_2  linreg_2     xgb_2  blender_3\n",
       "mean  0.934901  0.944125  0.948298  0.949398  0.945144   0.949624\n",
       "std   0.004935  0.004938  0.004481  0.004642  0.003903   0.004561"
      ],
      "text/html": [
       "<div>\n",
       "<style scoped>\n",
       "    .dataframe tbody tr th:only-of-type {\n",
       "        vertical-align: middle;\n",
       "    }\n",
       "\n",
       "    .dataframe tbody tr th {\n",
       "        vertical-align: top;\n",
       "    }\n",
       "\n",
       "    .dataframe thead th {\n",
       "        text-align: right;\n",
       "    }\n",
       "</style>\n",
       "<table border=\"1\" class=\"dataframe\">\n",
       "  <thead>\n",
       "    <tr style=\"text-align: right;\">\n",
       "      <th></th>\n",
       "      <th>lr_1</th>\n",
       "      <th>lr_cnt_1</th>\n",
       "      <th>lr_2</th>\n",
       "      <th>linreg_2</th>\n",
       "      <th>xgb_2</th>\n",
       "      <th>blender_3</th>\n",
       "    </tr>\n",
       "  </thead>\n",
       "  <tbody>\n",
       "    <tr>\n",
       "      <th>mean</th>\n",
       "      <td>0.934901</td>\n",
       "      <td>0.944125</td>\n",
       "      <td>0.948298</td>\n",
       "      <td>0.949398</td>\n",
       "      <td>0.945144</td>\n",
       "      <td>0.949624</td>\n",
       "    </tr>\n",
       "    <tr>\n",
       "      <th>std</th>\n",
       "      <td>0.004935</td>\n",
       "      <td>0.004938</td>\n",
       "      <td>0.004481</td>\n",
       "      <td>0.004642</td>\n",
       "      <td>0.003903</td>\n",
       "      <td>0.004561</td>\n",
       "    </tr>\n",
       "  </tbody>\n",
       "</table>\n",
       "</div>"
      ]
     },
     "metadata": {},
     "execution_count": 29
    }
   ],
   "metadata": {
    "execution": {
     "iopub.execute_input": "2021-08-30T06:30:20.936710Z",
     "iopub.status.busy": "2021-08-30T06:30:20.935973Z",
     "iopub.status.idle": "2021-08-30T06:30:20.948992Z",
     "shell.execute_reply": "2021-08-30T06:30:20.949561Z"
    },
    "papermill": {
     "duration": 0.094737,
     "end_time": "2021-08-30T06:30:20.949790",
     "exception": false,
     "start_time": "2021-08-30T06:30:20.855053",
     "status": "completed"
    },
    "tags": []
   }
  },
  {
   "cell_type": "markdown",
   "source": [
    "### Conclusion\n",
    "\n",
    "Empirical results above suggest that we should use the **same folds** across levels of stacking to maximize score. The following theoretical example shows that, when using different folds, overfitting can happen due to the second stage model taking advantage of a certain relationship between ground truth and first stage predictions, without this structure generalizing well to the test set.\n",
    "\n",
    "Consider a dataset $\\{(x_1, t_1), (x_2, t_2) \\ldots, (x_{10}, t_{10})\\}$ with five folds such that the first fold is $F_1 = \\{x_1, x_2\\}$. Let $x_1 {\\mapsto} y_1$ and $x_2 \\mapsto y_2$ where the mapping is trained on $F_{\\neg 1} = \\{x_3, \\ldots, x_{10}\\}.$ We can think of modelling on $F_{\\neg 1}$ as defining some rule or distribution that the points in $F_1$ are compared against. Suppose we reshuffle folds in the next level such that the first fold is $G_1 = \\{y_1, y_{10}\\}.$ Then, the model trained on $G_{\\neg 1} = \\{y_2, \\ldots y_9\\}$  overfits slightly since $y_2$ is modelled using the ground truths $(x_3, t_3), \\ldots, (x_{9}, t_9).$ Note that this asymmetry does not apply to the other values $y_3, \\ldots, y_9$ in $G_{\\neg 1}.$ Keeping the same cross-validation scores allow all instances in the train fold are equivalent and prevents any such asymmetry from occurring. \n",
    "\n",
    "Theoretically (as mentioned in the [Kaggle Guide to Model Stacking](https://datasciblog.github.io/2016/12/27/a-kagglers-guide-to-model-stacking-in-practice/)), there is always some leakage if you train a second level model on the same training set, which you used to derive the first stage predictions. This is because you used the ground truth to get those first stage predictions, and now you take those predictions as input, and try to predict the same ground truth. However, this leakage doesn't seem to be significant in practice."
   ],
   "metadata": {
    "papermill": {
     "duration": 0.077199,
     "end_time": "2021-08-30T06:30:21.104335",
     "exception": false,
     "start_time": "2021-08-30T06:30:21.027136",
     "status": "completed"
    },
    "tags": []
   }
  },
  {
   "cell_type": "markdown",
   "source": [
    "## Parallelizing Model Training\n"
   ],
   "metadata": {
    "papermill": {
     "duration": 0.077934,
     "end_time": "2021-08-30T06:30:21.260681",
     "exception": false,
     "start_time": "2021-08-30T06:30:21.182747",
     "status": "completed"
    },
    "tags": []
   }
  },
  {
   "cell_type": "markdown",
   "source": [
    "Generating features require training one model for each fold. This is very slow. Note that each training process is independent of the other (they only use static features from the previous level), so in principle can be easily parallelized. For this task, we parallelize only the training on cross-validation folds. During inference, parallelizing results in worse times, likely due to overhead. \n",
    "\n",
    "We implement parallelizing training on CV folds using `joblib.Parallel`. Some remarks:\n",
    "\n",
    "* Setting `backend='loky'` is important. Locally (Mojave 10.14.6), setting `backend='multiprocessing'` with an XGBoost classifier causes training to hang. In a Kaggle kernel, `multiprocessing` doesn't seem to work at all, even without using an XGBoost model. Using the `loky` backend seems to work consistently across platforms. \n",
    "\n",
    "+++\n",
    "\n",
    "* Setting `nthread=1` for XGBClassifier decreases train trime from ~250s to ~100s with backend `loky` and `n_jobs=-1`. Note that the former time is way worse than sequential evaluation. \n",
    "\n",
    "+++\n",
    "\n",
    "* Joblib pickles every object used inside `Parallel`. Best to use stateless objects. Careful about shared memory. Using `n_jobs=1` turns off parallel computing for debugging.\n",
    "\n",
    "Note that we will start **cloning** models in the `model_dict_list` inside the `StackingCLassifierParallel` object to avoid leaking state outside the object instance. Results below show that there is significant speed up with parallelization using the `loky` backend. Consider this implementation the current stable version of our implementation of stacking."
   ],
   "metadata": {
    "papermill": {
     "duration": 0.07711,
     "end_time": "2021-08-30T06:30:21.415561",
     "exception": false,
     "start_time": "2021-08-30T06:30:21.338451",
     "status": "completed"
    },
    "tags": []
   }
  },
  {
   "cell_type": "code",
   "execution_count": 30,
   "source": [
    "class StackingClassifierParallel(BaseEstimator, ClassifierMixin):\n",
    "    \"\"\"Implements model stacking for classification.\"\"\"\n",
    "    \n",
    "    def __init__(self, model_dict_list, n_jobs=1, backend='loky'):\n",
    "        \"\"\"Initialize by passing `model_dict` which is a list of dictionaries \n",
    "        of name-model pairs for each level. Models should have inter-level\n",
    "        unique names.\"\"\"\n",
    "        \n",
    "        self.model_dict_list = [\n",
    "            { name: clone(model_dict[name]) for name in model_dict } \n",
    "            for model_dict in model_dict_list\n",
    "        ]\n",
    "        self.cv_scores_ = {}\n",
    "        self.metafeatures_ = None\n",
    "        self.n_jobs = n_jobs\n",
    "        self.backend = backend\n",
    "    \n",
    "    def fit(self, df):\n",
    "        \"\"\"Fit classifier. Assumes `df` is a DataFrame with 'id', 'kfold', and \n",
    "        'sentiment' (target) columns, followed by features columns.\"\"\"\n",
    "        \n",
    "        # Iterating over all stacking levels\n",
    "        df = df.copy()\n",
    "        metafeatures = []\n",
    "        for m in tqdm(range(len(self.model_dict_list)), leave=False):\n",
    "            \n",
    "            # Get models in current layer\n",
    "            model_dict = self.model_dict_list[m]\n",
    "            level = m + 1\n",
    "            \n",
    "            # Identify feature columns, i.e. preds of prev. layer\n",
    "            if m == 0:\n",
    "                feature_cols = ['review']\n",
    "            else:\n",
    "                prev_level_names = self.model_dict_list[m-1].keys()\n",
    "                feature_cols = [f'{name}_{level-1}' for name in prev_level_names]\n",
    "            \n",
    "            # Parallel context manager. Prevents discarding of workers for each model\n",
    "            with Parallel(n_jobs=self.n_jobs, backend=self.backend, verbose=1) as parallel:\n",
    "                \n",
    "                # Iterate over models in the current layer\n",
    "                for model_name in tqdm(model_dict.keys(), leave=False):\n",
    "                    \n",
    "                    # Generate feature for next layer models from OOF preds\n",
    "                    # Cloning the model here releases the weights from prev. fit.\n",
    "                    model = model_dict[model_name]\n",
    "                    out = parallel(delayed(self._predict_fold)(\n",
    "                            df, feature_cols, fold,\n",
    "                            model_name, clone(model),\n",
    "                            level\n",
    "                        ) for fold in df.kfold.unique()\n",
    "                    )\n",
    "\n",
    "                    # Load all OOF predictions and AUCs\n",
    "                    fold_preds, cv_scores = list(zip(*out))\n",
    "                    \n",
    "                    # Assign cv scores for model and append predictions to df\n",
    "                    self.cv_scores_[f'{model_name}_{level}'] = cv_scores\n",
    "                    pred_df = pd.concat(fold_preds)\n",
    "                    df = df.merge(pred_df, how='left', on='id')\n",
    "                    metafeatures.append(f'{model_name}_{level}')\n",
    "                    \n",
    "                    # Refit model on entire feature columns for inference\n",
    "                    model.fit(df[feature_cols], df.sentiment)\n",
    "                    \n",
    "        # Save learned metafeatures\n",
    "        self.metafeatures_ = df[metafeatures]\n",
    "        return self\n",
    "    \n",
    "    def predict_proba(self, df):\n",
    "        \"\"\"Return classification probabilities.\"\"\"\n",
    "        \n",
    "        # Iterate over layers to make predictions\n",
    "        df = df.copy()\n",
    "        for m in range(len(self.model_dict_list)):\n",
    "            \n",
    "            # Get models for current layer\n",
    "            model_dict = self.model_dict_list[m]\n",
    "            level = m + 1\n",
    "            \n",
    "            # Get feature columns to use for prediction\n",
    "            if m == 0:\n",
    "                feature_cols = ['review']\n",
    "            else:\n",
    "                prev_names = self.model_dict_list[m-1].keys()\n",
    "                feature_cols = [f\"{model_name}_{level-1}\" for model_name in prev_names]\n",
    "\n",
    "            # Append predictions to test DataFrame\n",
    "            for model_name in model_dict.keys():\n",
    "                model = model_dict[model_name]\n",
    "                pred = model.predict_proba(df[feature_cols])[:, 1] \n",
    "                df.loc[:, f\"{model_name}_{level}\"] = pred\n",
    "                    \n",
    "        # Return last predictions\n",
    "        return np.c_[1 - pred, pred]\n",
    "\n",
    "    def _predict_fold(self, df, feature_cols, fold, model_name, model, level):\n",
    "        \"Make out-of-fold predictions. Return predict probas and AUC.\"\n",
    "        \n",
    "        X_train = df[df.kfold != fold][feature_cols]\n",
    "        y_train = df[df.kfold != fold].sentiment.values\n",
    "        \n",
    "        X_valid = df[df.kfold == fold][feature_cols] \n",
    "        y_valid = df[df.kfold == fold].sentiment.values\n",
    "        pred_id = df[df.kfold == fold].id\n",
    "\n",
    "        # Fit model\n",
    "        model.fit(X_train, y_train)\n",
    "        \n",
    "        # Return fold predictions along with fold AUC\n",
    "        pred = model.predict_proba(X_valid)[:, 1] \n",
    "        auc = metrics.roc_auc_score(y_valid, pred)\n",
    "        return pd.DataFrame({\"id\": pred_id, f\"{model_name}_{level}\": pred}), auc"
   ],
   "outputs": [],
   "metadata": {
    "execution": {
     "iopub.execute_input": "2021-08-30T06:30:21.596277Z",
     "iopub.status.busy": "2021-08-30T06:30:21.595458Z",
     "iopub.status.idle": "2021-08-30T06:30:21.599146Z",
     "shell.execute_reply": "2021-08-30T06:30:21.598619Z",
     "shell.execute_reply.started": "2021-08-28T07:43:48.475907Z"
    },
    "papermill": {
     "duration": 0.106073,
     "end_time": "2021-08-30T06:30:21.599348",
     "exception": false,
     "start_time": "2021-08-30T06:30:21.493275",
     "status": "completed"
    },
    "tags": []
   }
  },
  {
   "cell_type": "markdown",
   "source": [
    "Define the models that we will use at each level."
   ],
   "metadata": {
    "papermill": {
     "duration": 0.077469,
     "end_time": "2021-08-30T06:30:21.754202",
     "exception": false,
     "start_time": "2021-08-30T06:30:21.676733",
     "status": "completed"
    },
    "tags": []
   }
  },
  {
   "cell_type": "code",
   "execution_count": 31,
   "source": [
    "# Base models\n",
    "level1 = {\n",
    "    'lr': make_pipeline(\n",
    "        ReviewColumnExtractor(),\n",
    "        TfidfVectorizer(max_features=1000),\n",
    "        linear_model.LogisticRegression(random_state=42)\n",
    "    ), \n",
    "    \n",
    "    'lr_cnt': make_pipeline(\n",
    "        ReviewColumnExtractor(),\n",
    "        CountVectorizer(), \n",
    "        linear_model.LogisticRegression(solver='liblinear', random_state=42)\n",
    "    ), \n",
    "}\n",
    "\n",
    "# Meta models\n",
    "level2 = {\n",
    "    'lr': linear_model.LogisticRegression(),\n",
    "    'linreg': make_pipeline(StandardScaler(), LinearRegressionClassifier()),\n",
    "    'xgb': XGBClassifier(eval_metric=\"logloss\", use_label_encoder=False, nthread=1, random_state=42)\n",
    "}\n",
    "\n",
    "# Meta models\n",
    "level3 = {\n",
    "    'linreg': make_pipeline(StandardScaler(), LinearRegressionClassifier()),\n",
    "    'xgb': XGBClassifier(eval_metric=\"logloss\", use_label_encoder=False, nthread=1)\n",
    "}\n",
    "\n",
    "# Blender head: rank true for linear reg.\n",
    "level4 = {'blender': Blender(rank=True, random_state=42)}"
   ],
   "outputs": [],
   "metadata": {
    "execution": {
     "iopub.execute_input": "2021-08-30T06:30:21.921618Z",
     "iopub.status.busy": "2021-08-30T06:30:21.920848Z",
     "iopub.status.idle": "2021-08-30T06:30:21.924236Z",
     "shell.execute_reply": "2021-08-30T06:30:21.923673Z",
     "shell.execute_reply.started": "2021-08-28T07:43:48.495868Z"
    },
    "papermill": {
     "duration": 0.090767,
     "end_time": "2021-08-30T06:30:21.924420",
     "exception": false,
     "start_time": "2021-08-30T06:30:21.833653",
     "status": "completed"
    },
    "tags": []
   }
  },
  {
   "cell_type": "markdown",
   "source": [
    ":::{caution}\n",
    "Setting `nthread=1` for `XGBClassifier` decreases train time for the parallel stacker from ~250s to ~100s. This goes from worse to better than sequential. \n",
    "\n",
    "See also https://github.com/dmlc/xgboost/issues/2163 and other related issues.\n",
    ":::"
   ],
   "metadata": {
    "papermill": {
     "duration": 0.079272,
     "end_time": "2021-08-30T06:30:22.082780",
     "exception": false,
     "start_time": "2021-08-30T06:30:22.003508",
     "status": "completed"
    },
    "tags": []
   }
  },
  {
   "cell_type": "markdown",
   "source": [
    "Start with timing experiments."
   ],
   "metadata": {
    "papermill": {
     "duration": 0.077216,
     "end_time": "2021-08-30T06:30:22.237627",
     "exception": false,
     "start_time": "2021-08-30T06:30:22.160411",
     "status": "completed"
    },
    "tags": []
   }
  },
  {
   "cell_type": "code",
   "execution_count": 32,
   "source": [
    "model_dict_list = [level1, level2, level3, level4]"
   ],
   "outputs": [],
   "metadata": {
    "execution": {
     "iopub.execute_input": "2021-08-30T06:30:22.398043Z",
     "iopub.status.busy": "2021-08-30T06:30:22.397321Z",
     "iopub.status.idle": "2021-08-30T06:30:22.400014Z",
     "shell.execute_reply": "2021-08-30T06:30:22.400483Z",
     "shell.execute_reply.started": "2021-08-28T07:43:48.518918Z"
    },
    "papermill": {
     "duration": 0.085747,
     "end_time": "2021-08-30T06:30:22.400699",
     "exception": false,
     "start_time": "2021-08-30T06:30:22.314952",
     "status": "completed"
    },
    "tags": []
   }
  },
  {
   "cell_type": "code",
   "execution_count": 33,
   "source": [
    "times = []\n",
    "for i in range(3):\n",
    "    start_time = time.time()\n",
    "    stack_parallel = StackingClassifierParallel(model_dict_list, n_jobs=-1)\n",
    "    stack_parallel.fit(df_train)\n",
    "    times.append(time.time() - start_time)\n",
    "    \n",
    "times = np.array(times)\n",
    "times.mean(), times.std()"
   ],
   "outputs": [
    {
     "output_type": "display_data",
     "data": {
      "text/plain": [
       "  0%|          | 0/4 [00:00<?, ?it/s]"
      ],
      "application/vnd.jupyter.widget-view+json": {
       "model_id": "edfd64dbc1b74fc3932e5877085f1939",
       "version_major": 2,
       "version_minor": 0
      }
     },
     "metadata": {}
    },
    {
     "output_type": "display_data",
     "data": {
      "text/plain": [
       "  0%|          | 0/2 [00:00<?, ?it/s]"
      ],
      "application/vnd.jupyter.widget-view+json": {
       "model_id": "80e33761aaae47e983b2c0fc3921f0e2",
       "version_major": 2,
       "version_minor": 0
      }
     },
     "metadata": {}
    },
    {
     "output_type": "stream",
     "name": "stderr",
     "text": [
      "[Parallel(n_jobs=-1)]: Using backend LokyBackend with 4 concurrent workers.\n",
      "[Parallel(n_jobs=-1)]: Done   5 out of   5 | elapsed:   19.6s finished\n",
      "[Parallel(n_jobs=-1)]: Using backend LokyBackend with 4 concurrent workers.\n",
      "[Parallel(n_jobs=-1)]: Done   5 out of   5 | elapsed:   36.7s finished\n"
     ]
    },
    {
     "output_type": "display_data",
     "data": {
      "text/plain": [
       "  0%|          | 0/3 [00:00<?, ?it/s]"
      ],
      "application/vnd.jupyter.widget-view+json": {
       "model_id": "87a51cc8d1c649d48d965585f24e1338",
       "version_major": 2,
       "version_minor": 0
      }
     },
     "metadata": {}
    },
    {
     "output_type": "stream",
     "name": "stderr",
     "text": [
      "[Parallel(n_jobs=-1)]: Using backend LokyBackend with 4 concurrent workers.\n",
      "[Parallel(n_jobs=-1)]: Done   5 out of   5 | elapsed:    5.3s finished\n",
      "[Parallel(n_jobs=-1)]: Using backend LokyBackend with 4 concurrent workers.\n",
      "[Parallel(n_jobs=-1)]: Done   5 out of   5 | elapsed:    5.5s finished\n",
      "[Parallel(n_jobs=-1)]: Using backend LokyBackend with 4 concurrent workers.\n",
      "[Parallel(n_jobs=-1)]: Done   5 out of   5 | elapsed:    6.7s finished\n"
     ]
    },
    {
     "output_type": "display_data",
     "data": {
      "text/plain": [
       "  0%|          | 0/2 [00:00<?, ?it/s]"
      ],
      "application/vnd.jupyter.widget-view+json": {
       "model_id": "023485850ae8441a8c0edcc03973243b",
       "version_major": 2,
       "version_minor": 0
      }
     },
     "metadata": {}
    },
    {
     "output_type": "stream",
     "name": "stderr",
     "text": [
      "[Parallel(n_jobs=-1)]: Using backend LokyBackend with 4 concurrent workers.\n",
      "[Parallel(n_jobs=-1)]: Done   5 out of   5 | elapsed:    5.6s finished\n",
      "[Parallel(n_jobs=-1)]: Using backend LokyBackend with 4 concurrent workers.\n",
      "[Parallel(n_jobs=-1)]: Done   5 out of   5 | elapsed:    7.3s finished\n"
     ]
    },
    {
     "output_type": "display_data",
     "data": {
      "text/plain": [
       "  0%|          | 0/1 [00:00<?, ?it/s]"
      ],
      "application/vnd.jupyter.widget-view+json": {
       "model_id": "27f1eafb201b4ea19fe73411bb6990e5",
       "version_major": 2,
       "version_minor": 0
      }
     },
     "metadata": {}
    },
    {
     "output_type": "stream",
     "name": "stderr",
     "text": [
      "[Parallel(n_jobs=-1)]: Using backend LokyBackend with 4 concurrent workers.\n",
      "[Parallel(n_jobs=-1)]: Done   5 out of   5 | elapsed:    6.3s finished\n"
     ]
    },
    {
     "output_type": "display_data",
     "data": {
      "text/plain": [
       "  0%|          | 0/4 [00:00<?, ?it/s]"
      ],
      "application/vnd.jupyter.widget-view+json": {
       "model_id": "1fd5bb6535fe4152a6a438e774ecfbb7",
       "version_major": 2,
       "version_minor": 0
      }
     },
     "metadata": {}
    },
    {
     "output_type": "display_data",
     "data": {
      "text/plain": [
       "  0%|          | 0/2 [00:00<?, ?it/s]"
      ],
      "application/vnd.jupyter.widget-view+json": {
       "model_id": "675e7f4535334e7f809a1c9cc1741143",
       "version_major": 2,
       "version_minor": 0
      }
     },
     "metadata": {}
    },
    {
     "output_type": "stream",
     "name": "stderr",
     "text": [
      "[Parallel(n_jobs=-1)]: Using backend LokyBackend with 4 concurrent workers.\n",
      "[Parallel(n_jobs=-1)]: Done   5 out of   5 | elapsed:   16.3s finished\n",
      "[Parallel(n_jobs=-1)]: Using backend LokyBackend with 4 concurrent workers.\n",
      "[Parallel(n_jobs=-1)]: Done   5 out of   5 | elapsed:   36.9s finished\n"
     ]
    },
    {
     "output_type": "display_data",
     "data": {
      "text/plain": [
       "  0%|          | 0/3 [00:00<?, ?it/s]"
      ],
      "application/vnd.jupyter.widget-view+json": {
       "model_id": "dbfabad5c8e8468d89f47bc561efd12e",
       "version_major": 2,
       "version_minor": 0
      }
     },
     "metadata": {}
    },
    {
     "output_type": "stream",
     "name": "stderr",
     "text": [
      "[Parallel(n_jobs=-1)]: Using backend LokyBackend with 4 concurrent workers.\n",
      "[Parallel(n_jobs=-1)]: Done   5 out of   5 | elapsed:    5.3s finished\n",
      "[Parallel(n_jobs=-1)]: Using backend LokyBackend with 4 concurrent workers.\n",
      "[Parallel(n_jobs=-1)]: Done   5 out of   5 | elapsed:    5.3s finished\n",
      "[Parallel(n_jobs=-1)]: Using backend LokyBackend with 4 concurrent workers.\n",
      "[Parallel(n_jobs=-1)]: Done   5 out of   5 | elapsed:    6.5s finished\n"
     ]
    },
    {
     "output_type": "display_data",
     "data": {
      "text/plain": [
       "  0%|          | 0/2 [00:00<?, ?it/s]"
      ],
      "application/vnd.jupyter.widget-view+json": {
       "model_id": "8075388bf2cb4e8f9ac3186fd15831b7",
       "version_major": 2,
       "version_minor": 0
      }
     },
     "metadata": {}
    },
    {
     "output_type": "stream",
     "name": "stderr",
     "text": [
      "[Parallel(n_jobs=-1)]: Using backend LokyBackend with 4 concurrent workers.\n",
      "[Parallel(n_jobs=-1)]: Done   5 out of   5 | elapsed:    5.6s finished\n",
      "[Parallel(n_jobs=-1)]: Using backend LokyBackend with 4 concurrent workers.\n",
      "[Parallel(n_jobs=-1)]: Done   5 out of   5 | elapsed:    7.6s finished\n"
     ]
    },
    {
     "output_type": "display_data",
     "data": {
      "text/plain": [
       "  0%|          | 0/1 [00:00<?, ?it/s]"
      ],
      "application/vnd.jupyter.widget-view+json": {
       "model_id": "a74a0d8621d24bdc98c81d65c3de6ad0",
       "version_major": 2,
       "version_minor": 0
      }
     },
     "metadata": {}
    },
    {
     "output_type": "stream",
     "name": "stderr",
     "text": [
      "[Parallel(n_jobs=-1)]: Using backend LokyBackend with 4 concurrent workers.\n",
      "[Parallel(n_jobs=-1)]: Done   5 out of   5 | elapsed:    6.3s finished\n"
     ]
    },
    {
     "output_type": "display_data",
     "data": {
      "text/plain": [
       "  0%|          | 0/4 [00:00<?, ?it/s]"
      ],
      "application/vnd.jupyter.widget-view+json": {
       "model_id": "9483d5c74228400d9b31542314631dce",
       "version_major": 2,
       "version_minor": 0
      }
     },
     "metadata": {}
    },
    {
     "output_type": "display_data",
     "data": {
      "text/plain": [
       "  0%|          | 0/2 [00:00<?, ?it/s]"
      ],
      "application/vnd.jupyter.widget-view+json": {
       "model_id": "39354a6c058146f5a1fd84ad3d330100",
       "version_major": 2,
       "version_minor": 0
      }
     },
     "metadata": {}
    },
    {
     "output_type": "stream",
     "name": "stderr",
     "text": [
      "[Parallel(n_jobs=-1)]: Using backend LokyBackend with 4 concurrent workers.\n",
      "[Parallel(n_jobs=-1)]: Done   5 out of   5 | elapsed:   16.2s finished\n",
      "[Parallel(n_jobs=-1)]: Using backend LokyBackend with 4 concurrent workers.\n",
      "[Parallel(n_jobs=-1)]: Done   5 out of   5 | elapsed:   36.9s finished\n"
     ]
    },
    {
     "output_type": "display_data",
     "data": {
      "text/plain": [
       "  0%|          | 0/3 [00:00<?, ?it/s]"
      ],
      "application/vnd.jupyter.widget-view+json": {
       "model_id": "45f66ee887584938884804c2fa04163e",
       "version_major": 2,
       "version_minor": 0
      }
     },
     "metadata": {}
    },
    {
     "output_type": "stream",
     "name": "stderr",
     "text": [
      "[Parallel(n_jobs=-1)]: Using backend LokyBackend with 4 concurrent workers.\n",
      "[Parallel(n_jobs=-1)]: Done   5 out of   5 | elapsed:    5.4s finished\n",
      "[Parallel(n_jobs=-1)]: Using backend LokyBackend with 4 concurrent workers.\n",
      "[Parallel(n_jobs=-1)]: Done   5 out of   5 | elapsed:    5.4s finished\n",
      "[Parallel(n_jobs=-1)]: Using backend LokyBackend with 4 concurrent workers.\n",
      "[Parallel(n_jobs=-1)]: Done   5 out of   5 | elapsed:    6.6s finished\n"
     ]
    },
    {
     "output_type": "display_data",
     "data": {
      "text/plain": [
       "  0%|          | 0/2 [00:00<?, ?it/s]"
      ],
      "application/vnd.jupyter.widget-view+json": {
       "model_id": "d29825ddbd2b4fbfa9f5659c2cbcb12d",
       "version_major": 2,
       "version_minor": 0
      }
     },
     "metadata": {}
    },
    {
     "output_type": "stream",
     "name": "stderr",
     "text": [
      "[Parallel(n_jobs=-1)]: Using backend LokyBackend with 4 concurrent workers.\n",
      "[Parallel(n_jobs=-1)]: Done   5 out of   5 | elapsed:    5.5s finished\n",
      "[Parallel(n_jobs=-1)]: Using backend LokyBackend with 4 concurrent workers.\n",
      "[Parallel(n_jobs=-1)]: Done   5 out of   5 | elapsed:    7.7s finished\n"
     ]
    },
    {
     "output_type": "display_data",
     "data": {
      "text/plain": [
       "  0%|          | 0/1 [00:00<?, ?it/s]"
      ],
      "application/vnd.jupyter.widget-view+json": {
       "model_id": "a25c7b382ff042c282bc52ae9d7309df",
       "version_major": 2,
       "version_minor": 0
      }
     },
     "metadata": {}
    },
    {
     "output_type": "stream",
     "name": "stderr",
     "text": [
      "[Parallel(n_jobs=-1)]: Using backend LokyBackend with 4 concurrent workers.\n",
      "[Parallel(n_jobs=-1)]: Done   5 out of   5 | elapsed:    6.3s finished\n"
     ]
    },
    {
     "output_type": "execute_result",
     "data": {
      "text/plain": [
       "(121.40519380569458, 1.4494119313232572)"
      ]
     },
     "metadata": {},
     "execution_count": 33
    }
   ],
   "metadata": {
    "execution": {
     "iopub.execute_input": "2021-08-30T06:30:22.597106Z",
     "iopub.status.busy": "2021-08-30T06:30:22.567728Z",
     "iopub.status.idle": "2021-08-30T06:36:26.785706Z",
     "shell.execute_reply": "2021-08-30T06:36:26.786211Z",
     "shell.execute_reply.started": "2021-08-28T07:43:48.541215Z"
    },
    "papermill": {
     "duration": 364.307059,
     "end_time": "2021-08-30T06:36:26.786446",
     "exception": false,
     "start_time": "2021-08-30T06:30:22.479387",
     "status": "completed"
    },
    "tags": []
   }
  },
  {
   "cell_type": "code",
   "execution_count": 34,
   "source": [
    "times = []\n",
    "for i in range(3):\n",
    "    start_time = time.time()\n",
    "    stack = StackingClassifier(model_dict_list)\n",
    "    stack.fit(df_train)\n",
    "    times.append(time.time() - start_time)\n",
    "    \n",
    "times = np.array(times)\n",
    "times.mean(), times.std()"
   ],
   "outputs": [
    {
     "output_type": "stream",
     "name": "stdout",
     "text": [
      "\n",
      "Level 1 preds: lr\n",
      "fold=0, auc=0.935408483852121\n",
      "fold=1, auc=0.9348064837016209\n",
      "fold=2, auc=0.9421081921081921\n",
      "fold=3, auc=0.9339369339369339\n",
      "fold=4, auc=0.9282464282464282\n",
      "\n",
      "Level 1 preds: lr_cnt\n",
      "fold=0, auc=0.9432962358240589\n",
      "fold=1, auc=0.9477042369260591\n",
      "fold=2, auc=0.9484371984371985\n",
      "fold=3, auc=0.945093695093695\n",
      "fold=4, auc=0.9360944360944361\n",
      "\n",
      "Level 2 preds: lr\n",
      "fold=0, auc=0.947956736989184\n",
      "fold=1, auc=0.9491119872779968\n",
      "fold=2, auc=0.9543014543014543\n",
      "fold=3, auc=0.9484136984136985\n",
      "fold=4, auc=0.9417046917046917\n",
      "\n",
      "Level 2 preds: linreg\n",
      "fold=0, auc=0.9488732372183093\n",
      "fold=1, auc=0.951178487794622\n",
      "fold=2, auc=0.9550009550009549\n",
      "fold=3, auc=0.9496999496999498\n",
      "fold=4, auc=0.9422389422389422\n",
      "\n",
      "Level 2 preds: xgb\n",
      "fold=0, auc=0.9450191112547779\n",
      "fold=1, auc=0.9460573615143403\n",
      "fold=2, auc=0.9494060744060744\n",
      "fold=3, auc=0.9464370714370715\n",
      "fold=4, auc=0.9387995637995638\n",
      "\n",
      "Level 3 preds: linreg\n",
      "fold=0, auc=0.9490357372589344\n",
      "fold=1, auc=0.950797987699497\n",
      "fold=2, auc=0.9551532051532052\n",
      "fold=3, auc=0.9498726998727\n",
      "fold=4, auc=0.9428459428459429\n",
      "\n",
      "Level 3 preds: xgb\n",
      "fold=0, auc=0.9450353612588404\n",
      "fold=1, auc=0.9469719867429967\n",
      "fold=2, auc=0.9497249497249497\n",
      "fold=3, auc=0.9450223200223199\n",
      "fold=4, auc=0.9370605620605622\n",
      "\n",
      "Level 4 preds: blender\n",
      "fold=0, auc=0.9490364872591217\n",
      "fold=1, auc=0.9507659876914969\n",
      "fold=2, auc=0.9551457051457052\n",
      "fold=3, auc=0.94986944986945\n",
      "fold=4, auc=0.9428484428484428\n",
      "\n",
      "Level 1 preds: lr\n",
      "fold=0, auc=0.935408483852121\n",
      "fold=1, auc=0.9348064837016209\n",
      "fold=2, auc=0.9421081921081921\n",
      "fold=3, auc=0.9339369339369339\n",
      "fold=4, auc=0.9282464282464282\n",
      "\n",
      "Level 1 preds: lr_cnt\n",
      "fold=0, auc=0.9432962358240589\n",
      "fold=1, auc=0.9477042369260591\n",
      "fold=2, auc=0.9484371984371985\n",
      "fold=3, auc=0.945093695093695\n",
      "fold=4, auc=0.9360944360944361\n",
      "\n",
      "Level 2 preds: lr\n",
      "fold=0, auc=0.947956736989184\n",
      "fold=1, auc=0.9491119872779968\n",
      "fold=2, auc=0.9543014543014543\n",
      "fold=3, auc=0.9484136984136985\n",
      "fold=4, auc=0.9417046917046917\n",
      "\n",
      "Level 2 preds: linreg\n",
      "fold=0, auc=0.9488732372183093\n",
      "fold=1, auc=0.951178487794622\n",
      "fold=2, auc=0.9550009550009549\n",
      "fold=3, auc=0.9496999496999498\n",
      "fold=4, auc=0.9422389422389422\n",
      "\n",
      "Level 2 preds: xgb\n",
      "fold=0, auc=0.9450191112547779\n",
      "fold=1, auc=0.9460573615143403\n",
      "fold=2, auc=0.9494060744060744\n",
      "fold=3, auc=0.9464370714370715\n",
      "fold=4, auc=0.9387995637995638\n",
      "\n",
      "Level 3 preds: linreg\n",
      "fold=0, auc=0.9490357372589344\n",
      "fold=1, auc=0.950797987699497\n",
      "fold=2, auc=0.9551532051532052\n",
      "fold=3, auc=0.9498726998727\n",
      "fold=4, auc=0.9428459428459429\n",
      "\n",
      "Level 3 preds: xgb\n",
      "fold=0, auc=0.9450353612588404\n",
      "fold=1, auc=0.9469719867429967\n",
      "fold=2, auc=0.9497249497249497\n",
      "fold=3, auc=0.9450223200223199\n",
      "fold=4, auc=0.9370605620605622\n",
      "\n",
      "Level 4 preds: blender\n",
      "fold=0, auc=0.9490364872591217\n",
      "fold=1, auc=0.9507659876914969\n",
      "fold=2, auc=0.9551457051457052\n",
      "fold=3, auc=0.94986944986945\n",
      "fold=4, auc=0.9428484428484428\n",
      "\n",
      "Level 1 preds: lr\n",
      "fold=0, auc=0.935408483852121\n",
      "fold=1, auc=0.9348064837016209\n",
      "fold=2, auc=0.9421081921081921\n",
      "fold=3, auc=0.9339369339369339\n",
      "fold=4, auc=0.9282464282464282\n",
      "\n",
      "Level 1 preds: lr_cnt\n",
      "fold=0, auc=0.9432962358240589\n",
      "fold=1, auc=0.9477042369260591\n",
      "fold=2, auc=0.9484371984371985\n",
      "fold=3, auc=0.945093695093695\n",
      "fold=4, auc=0.9360944360944361\n",
      "\n",
      "Level 2 preds: lr\n",
      "fold=0, auc=0.947956736989184\n",
      "fold=1, auc=0.9491119872779968\n",
      "fold=2, auc=0.9543014543014543\n",
      "fold=3, auc=0.9484136984136985\n",
      "fold=4, auc=0.9417046917046917\n",
      "\n",
      "Level 2 preds: linreg\n",
      "fold=0, auc=0.9488732372183093\n",
      "fold=1, auc=0.951178487794622\n",
      "fold=2, auc=0.9550009550009549\n",
      "fold=3, auc=0.9496999496999498\n",
      "fold=4, auc=0.9422389422389422\n",
      "\n",
      "Level 2 preds: xgb\n",
      "fold=0, auc=0.9450191112547779\n",
      "fold=1, auc=0.9460573615143403\n",
      "fold=2, auc=0.9494060744060744\n",
      "fold=3, auc=0.9464370714370715\n",
      "fold=4, auc=0.9387995637995638\n",
      "\n",
      "Level 3 preds: linreg\n",
      "fold=0, auc=0.9490357372589344\n",
      "fold=1, auc=0.950797987699497\n",
      "fold=2, auc=0.9551532051532052\n",
      "fold=3, auc=0.9498726998727\n",
      "fold=4, auc=0.9428459428459429\n",
      "\n",
      "Level 3 preds: xgb\n",
      "fold=0, auc=0.9450353612588404\n",
      "fold=1, auc=0.9469719867429967\n",
      "fold=2, auc=0.9497249497249497\n",
      "fold=3, auc=0.9450223200223199\n",
      "fold=4, auc=0.9370605620605622\n",
      "\n",
      "Level 4 preds: blender\n",
      "fold=0, auc=0.9490364872591217\n",
      "fold=1, auc=0.9507659876914969\n",
      "fold=2, auc=0.9551457051457052\n",
      "fold=3, auc=0.94986944986945\n",
      "fold=4, auc=0.9428484428484428\n"
     ]
    },
    {
     "output_type": "execute_result",
     "data": {
      "text/plain": [
       "(154.09294215838113, 0.8956691414277855)"
      ]
     },
     "metadata": {},
     "execution_count": 34
    }
   ],
   "metadata": {
    "execution": {
     "iopub.execute_input": "2021-08-30T06:36:27.007742Z",
     "iopub.status.busy": "2021-08-30T06:36:26.990830Z",
     "iopub.status.idle": "2021-08-30T06:44:09.275282Z",
     "shell.execute_reply": "2021-08-30T06:44:09.274578Z",
     "shell.execute_reply.started": "2021-08-28T07:48:06.083941Z"
    },
    "papermill": {
     "duration": 462.39149,
     "end_time": "2021-08-30T06:44:09.275467",
     "exception": false,
     "start_time": "2021-08-30T06:36:26.883977",
     "status": "completed"
    },
    "tags": []
   }
  },
  {
   "cell_type": "markdown",
   "source": [
    "Observe that parallel training has a ~20% speed up over sequential training!"
   ],
   "metadata": {
    "papermill": {
     "duration": 0.128961,
     "end_time": "2021-08-30T06:44:09.536704",
     "exception": false,
     "start_time": "2021-08-30T06:44:09.407743",
     "status": "completed"
    },
    "tags": []
   }
  },
  {
   "cell_type": "markdown",
   "source": [
    "Testing if predictions agree:"
   ],
   "metadata": {
    "papermill": {
     "duration": 0.12818,
     "end_time": "2021-08-30T06:44:09.794440",
     "exception": false,
     "start_time": "2021-08-30T06:44:09.666260",
     "status": "completed"
    },
    "tags": []
   }
  },
  {
   "cell_type": "code",
   "execution_count": 35,
   "source": [
    "times = []\n",
    "for i in range(3):\n",
    "    start_time = time.time()\n",
    "    parallel_pred = stack_parallel.predict_proba(df_test)[:, 1]\n",
    "    times.append(time.time() - start_time)\n",
    "    \n",
    "times = np.array(times)\n",
    "times.mean(), times.std()"
   ],
   "outputs": [
    {
     "output_type": "execute_result",
     "data": {
      "text/plain": [
       "(2.9814700285593667, 0.04484930409238955)"
      ]
     },
     "metadata": {},
     "execution_count": 35
    }
   ],
   "metadata": {
    "execution": {
     "iopub.execute_input": "2021-08-30T06:44:10.061803Z",
     "iopub.status.busy": "2021-08-30T06:44:10.060939Z",
     "iopub.status.idle": "2021-08-30T06:44:19.010893Z",
     "shell.execute_reply": "2021-08-30T06:44:19.011816Z",
     "shell.execute_reply.started": "2021-08-28T07:53:43.084147Z"
    },
    "papermill": {
     "duration": 9.089316,
     "end_time": "2021-08-30T06:44:19.012190",
     "exception": false,
     "start_time": "2021-08-30T06:44:09.922874",
     "status": "completed"
    },
    "tags": []
   }
  },
  {
   "cell_type": "code",
   "execution_count": 36,
   "source": [
    "times = []\n",
    "for i in range(3):\n",
    "    start_time = time.time()\n",
    "    usual_pred = stack.predict_proba(df_test)[:, 1]\n",
    "    times.append(time.time() - start_time)\n",
    "    \n",
    "times = np.array(times)\n",
    "times.mean(), times.std()"
   ],
   "outputs": [
    {
     "output_type": "execute_result",
     "data": {
      "text/plain": [
       "(2.958096981048584, 0.0031837037109286163)"
      ]
     },
     "metadata": {},
     "execution_count": 36
    }
   ],
   "metadata": {
    "execution": {
     "iopub.execute_input": "2021-08-30T06:44:19.343380Z",
     "iopub.status.busy": "2021-08-30T06:44:19.332899Z",
     "iopub.status.idle": "2021-08-30T06:44:28.191112Z",
     "shell.execute_reply": "2021-08-30T06:44:28.192023Z",
     "shell.execute_reply.started": "2021-08-28T07:53:49.994716Z"
    },
    "papermill": {
     "duration": 9.018607,
     "end_time": "2021-08-30T06:44:28.192374",
     "exception": false,
     "start_time": "2021-08-30T06:44:19.173767",
     "status": "completed"
    },
    "tags": []
   }
  },
  {
   "cell_type": "code",
   "execution_count": 37,
   "source": [
    "print('parallel AUC:', metrics.roc_auc_score(df_test.sentiment, parallel_pred))\n",
    "print('usual AUC:   ', metrics.roc_auc_score(df_test.sentiment, usual_pred))"
   ],
   "outputs": [
    {
     "output_type": "stream",
     "name": "stdout",
     "text": [
      "parallel AUC: 0.9481989895576532\n",
      "usual AUC:    0.9482473100524548\n"
     ]
    }
   ],
   "metadata": {
    "execution": {
     "iopub.execute_input": "2021-08-30T06:44:28.486253Z",
     "iopub.status.busy": "2021-08-30T06:44:28.485555Z",
     "iopub.status.idle": "2021-08-30T06:44:28.497716Z",
     "shell.execute_reply": "2021-08-30T06:44:28.497110Z",
     "shell.execute_reply.started": "2021-08-28T07:53:58.523377Z"
    },
    "papermill": {
     "duration": 0.146716,
     "end_time": "2021-08-30T06:44:28.497896",
     "exception": false,
     "start_time": "2021-08-30T06:44:28.351180",
     "status": "completed"
    },
    "tags": []
   }
  },
  {
   "cell_type": "markdown",
   "source": [
    "Testing if the results agree at the fold level:"
   ],
   "metadata": {
    "papermill": {
     "duration": 0.130618,
     "end_time": "2021-08-30T06:44:28.761385",
     "exception": false,
     "start_time": "2021-08-30T06:44:28.630767",
     "status": "completed"
    },
    "tags": []
   }
  },
  {
   "cell_type": "code",
   "execution_count": 38,
   "source": [
    "# parallel\n",
    "pd.DataFrame(stack_parallel.cv_scores_).describe().loc[['mean', 'std']]"
   ],
   "outputs": [
    {
     "output_type": "execute_result",
     "data": {
      "text/plain": [
       "          lr_1  lr_cnt_1      lr_2  linreg_2     xgb_2  linreg_3     xgb_3  \\\n",
       "mean  0.934901  0.944123  0.948296  0.949398  0.945122  0.949542  0.944967   \n",
       "std   0.004935  0.004935  0.004481  0.004639  0.003481  0.004384  0.004823   \n",
       "\n",
       "      blender_4  \n",
       "mean   0.949534  \n",
       "std    0.004386  "
      ],
      "text/html": [
       "<div>\n",
       "<style scoped>\n",
       "    .dataframe tbody tr th:only-of-type {\n",
       "        vertical-align: middle;\n",
       "    }\n",
       "\n",
       "    .dataframe tbody tr th {\n",
       "        vertical-align: top;\n",
       "    }\n",
       "\n",
       "    .dataframe thead th {\n",
       "        text-align: right;\n",
       "    }\n",
       "</style>\n",
       "<table border=\"1\" class=\"dataframe\">\n",
       "  <thead>\n",
       "    <tr style=\"text-align: right;\">\n",
       "      <th></th>\n",
       "      <th>lr_1</th>\n",
       "      <th>lr_cnt_1</th>\n",
       "      <th>lr_2</th>\n",
       "      <th>linreg_2</th>\n",
       "      <th>xgb_2</th>\n",
       "      <th>linreg_3</th>\n",
       "      <th>xgb_3</th>\n",
       "      <th>blender_4</th>\n",
       "    </tr>\n",
       "  </thead>\n",
       "  <tbody>\n",
       "    <tr>\n",
       "      <th>mean</th>\n",
       "      <td>0.934901</td>\n",
       "      <td>0.944123</td>\n",
       "      <td>0.948296</td>\n",
       "      <td>0.949398</td>\n",
       "      <td>0.945122</td>\n",
       "      <td>0.949542</td>\n",
       "      <td>0.944967</td>\n",
       "      <td>0.949534</td>\n",
       "    </tr>\n",
       "    <tr>\n",
       "      <th>std</th>\n",
       "      <td>0.004935</td>\n",
       "      <td>0.004935</td>\n",
       "      <td>0.004481</td>\n",
       "      <td>0.004639</td>\n",
       "      <td>0.003481</td>\n",
       "      <td>0.004384</td>\n",
       "      <td>0.004823</td>\n",
       "      <td>0.004386</td>\n",
       "    </tr>\n",
       "  </tbody>\n",
       "</table>\n",
       "</div>"
      ]
     },
     "metadata": {},
     "execution_count": 38
    }
   ],
   "metadata": {
    "execution": {
     "iopub.execute_input": "2021-08-30T06:44:29.042228Z",
     "iopub.status.busy": "2021-08-30T06:44:29.030375Z",
     "iopub.status.idle": "2021-08-30T06:44:29.064765Z",
     "shell.execute_reply": "2021-08-30T06:44:29.063991Z",
     "shell.execute_reply.started": "2021-08-28T07:53:58.538458Z"
    },
    "papermill": {
     "duration": 0.174124,
     "end_time": "2021-08-30T06:44:29.064933",
     "exception": false,
     "start_time": "2021-08-30T06:44:28.890809",
     "status": "completed"
    },
    "tags": []
   }
  },
  {
   "cell_type": "code",
   "execution_count": 39,
   "source": [
    "# sequential\n",
    "pd.DataFrame(stack.cv_scores_).describe().loc[['mean', 'std']]"
   ],
   "outputs": [
    {
     "output_type": "execute_result",
     "data": {
      "text/plain": [
       "          lr_1  lr_cnt_1      lr_2  linreg_2     xgb_2  linreg_3     xgb_3  \\\n",
       "mean  0.934901  0.944125  0.948298  0.949398  0.945144  0.949541  0.944763   \n",
       "std   0.004935  0.004938  0.004481  0.004642  0.003903  0.004423  0.004716   \n",
       "\n",
       "      blender_4  \n",
       "mean   0.949533  \n",
       "std    0.004418  "
      ],
      "text/html": [
       "<div>\n",
       "<style scoped>\n",
       "    .dataframe tbody tr th:only-of-type {\n",
       "        vertical-align: middle;\n",
       "    }\n",
       "\n",
       "    .dataframe tbody tr th {\n",
       "        vertical-align: top;\n",
       "    }\n",
       "\n",
       "    .dataframe thead th {\n",
       "        text-align: right;\n",
       "    }\n",
       "</style>\n",
       "<table border=\"1\" class=\"dataframe\">\n",
       "  <thead>\n",
       "    <tr style=\"text-align: right;\">\n",
       "      <th></th>\n",
       "      <th>lr_1</th>\n",
       "      <th>lr_cnt_1</th>\n",
       "      <th>lr_2</th>\n",
       "      <th>linreg_2</th>\n",
       "      <th>xgb_2</th>\n",
       "      <th>linreg_3</th>\n",
       "      <th>xgb_3</th>\n",
       "      <th>blender_4</th>\n",
       "    </tr>\n",
       "  </thead>\n",
       "  <tbody>\n",
       "    <tr>\n",
       "      <th>mean</th>\n",
       "      <td>0.934901</td>\n",
       "      <td>0.944125</td>\n",
       "      <td>0.948298</td>\n",
       "      <td>0.949398</td>\n",
       "      <td>0.945144</td>\n",
       "      <td>0.949541</td>\n",
       "      <td>0.944763</td>\n",
       "      <td>0.949533</td>\n",
       "    </tr>\n",
       "    <tr>\n",
       "      <th>std</th>\n",
       "      <td>0.004935</td>\n",
       "      <td>0.004938</td>\n",
       "      <td>0.004481</td>\n",
       "      <td>0.004642</td>\n",
       "      <td>0.003903</td>\n",
       "      <td>0.004423</td>\n",
       "      <td>0.004716</td>\n",
       "      <td>0.004418</td>\n",
       "    </tr>\n",
       "  </tbody>\n",
       "</table>\n",
       "</div>"
      ]
     },
     "metadata": {},
     "execution_count": 39
    }
   ],
   "metadata": {
    "execution": {
     "iopub.execute_input": "2021-08-30T06:44:29.342190Z",
     "iopub.status.busy": "2021-08-30T06:44:29.337511Z",
     "iopub.status.idle": "2021-08-30T06:44:29.369692Z",
     "shell.execute_reply": "2021-08-30T06:44:29.369117Z",
     "shell.execute_reply.started": "2021-08-28T07:53:58.584584Z"
    },
    "papermill": {
     "duration": 0.172657,
     "end_time": "2021-08-30T06:44:29.369885",
     "exception": false,
     "start_time": "2021-08-30T06:44:29.197228",
     "status": "completed"
    },
    "tags": []
   }
  },
  {
   "cell_type": "markdown",
   "source": [
    "Checking if the two learned different model weights (previously I forgot to clone the models in `model_dict_list` so the models learned the same weights):"
   ],
   "metadata": {
    "papermill": {
     "duration": 0.130286,
     "end_time": "2021-08-30T06:44:29.632172",
     "exception": false,
     "start_time": "2021-08-30T06:44:29.501886",
     "status": "completed"
    },
    "tags": []
   }
  },
  {
   "cell_type": "code",
   "execution_count": 40,
   "source": [
    "print(stack_parallel.model_dict_list[3]['blender'].coef_)\n",
    "print(stack.model_dict_list[3]['blender'].coef_)"
   ],
   "outputs": [
    {
     "output_type": "stream",
     "name": "stdout",
     "text": [
      "[ 0.26022385 -0.00150484]\n",
      "[ 0.25856748 -0.00204217]\n"
     ]
    }
   ],
   "metadata": {
    "execution": {
     "iopub.execute_input": "2021-08-30T06:44:29.901946Z",
     "iopub.status.busy": "2021-08-30T06:44:29.901187Z",
     "iopub.status.idle": "2021-08-30T06:44:29.904899Z",
     "shell.execute_reply": "2021-08-30T06:44:29.905386Z",
     "shell.execute_reply.started": "2021-08-28T07:53:58.618054Z"
    },
    "papermill": {
     "duration": 0.142372,
     "end_time": "2021-08-30T06:44:29.905614",
     "exception": false,
     "start_time": "2021-08-30T06:44:29.763242",
     "status": "completed"
    },
    "tags": []
   }
  },
  {
   "cell_type": "code",
   "execution_count": 41,
   "source": [
    "stack_parallel.metafeatures_.head()"
   ],
   "outputs": [
    {
     "output_type": "execute_result",
     "data": {
      "text/plain": [
       "       lr_1  lr_cnt_1      lr_2  linreg_2     xgb_2  linreg_3     xgb_3  \\\n",
       "0  0.830411  0.999715  0.940972  0.091677  0.957805  0.095576  0.997882   \n",
       "1  0.649919  0.999999  0.885638  0.085748  0.903252  0.070906  0.961036   \n",
       "2  0.865389  0.952606  0.940872  0.051268  0.759027  0.063793  0.957414   \n",
       "3  0.209188  0.005925  0.062271 -0.102864  0.041555 -0.088847  0.049510   \n",
       "4  0.815459  0.996735  0.937029  0.070447  0.968837  0.082726  0.916480   \n",
       "\n",
       "    blender_4  \n",
       "0  831.638265  \n",
       "1  762.919991  \n",
       "2  741.906520  \n",
       "3  286.679626  \n",
       "4  799.852847  "
      ],
      "text/html": [
       "<div>\n",
       "<style scoped>\n",
       "    .dataframe tbody tr th:only-of-type {\n",
       "        vertical-align: middle;\n",
       "    }\n",
       "\n",
       "    .dataframe tbody tr th {\n",
       "        vertical-align: top;\n",
       "    }\n",
       "\n",
       "    .dataframe thead th {\n",
       "        text-align: right;\n",
       "    }\n",
       "</style>\n",
       "<table border=\"1\" class=\"dataframe\">\n",
       "  <thead>\n",
       "    <tr style=\"text-align: right;\">\n",
       "      <th></th>\n",
       "      <th>lr_1</th>\n",
       "      <th>lr_cnt_1</th>\n",
       "      <th>lr_2</th>\n",
       "      <th>linreg_2</th>\n",
       "      <th>xgb_2</th>\n",
       "      <th>linreg_3</th>\n",
       "      <th>xgb_3</th>\n",
       "      <th>blender_4</th>\n",
       "    </tr>\n",
       "  </thead>\n",
       "  <tbody>\n",
       "    <tr>\n",
       "      <th>0</th>\n",
       "      <td>0.830411</td>\n",
       "      <td>0.999715</td>\n",
       "      <td>0.940972</td>\n",
       "      <td>0.091677</td>\n",
       "      <td>0.957805</td>\n",
       "      <td>0.095576</td>\n",
       "      <td>0.997882</td>\n",
       "      <td>831.638265</td>\n",
       "    </tr>\n",
       "    <tr>\n",
       "      <th>1</th>\n",
       "      <td>0.649919</td>\n",
       "      <td>0.999999</td>\n",
       "      <td>0.885638</td>\n",
       "      <td>0.085748</td>\n",
       "      <td>0.903252</td>\n",
       "      <td>0.070906</td>\n",
       "      <td>0.961036</td>\n",
       "      <td>762.919991</td>\n",
       "    </tr>\n",
       "    <tr>\n",
       "      <th>2</th>\n",
       "      <td>0.865389</td>\n",
       "      <td>0.952606</td>\n",
       "      <td>0.940872</td>\n",
       "      <td>0.051268</td>\n",
       "      <td>0.759027</td>\n",
       "      <td>0.063793</td>\n",
       "      <td>0.957414</td>\n",
       "      <td>741.906520</td>\n",
       "    </tr>\n",
       "    <tr>\n",
       "      <th>3</th>\n",
       "      <td>0.209188</td>\n",
       "      <td>0.005925</td>\n",
       "      <td>0.062271</td>\n",
       "      <td>-0.102864</td>\n",
       "      <td>0.041555</td>\n",
       "      <td>-0.088847</td>\n",
       "      <td>0.049510</td>\n",
       "      <td>286.679626</td>\n",
       "    </tr>\n",
       "    <tr>\n",
       "      <th>4</th>\n",
       "      <td>0.815459</td>\n",
       "      <td>0.996735</td>\n",
       "      <td>0.937029</td>\n",
       "      <td>0.070447</td>\n",
       "      <td>0.968837</td>\n",
       "      <td>0.082726</td>\n",
       "      <td>0.916480</td>\n",
       "      <td>799.852847</td>\n",
       "    </tr>\n",
       "  </tbody>\n",
       "</table>\n",
       "</div>"
      ]
     },
     "metadata": {},
     "execution_count": 41
    }
   ],
   "metadata": {
    "execution": {
     "iopub.execute_input": "2021-08-30T06:44:30.188889Z",
     "iopub.status.busy": "2021-08-30T06:44:30.188035Z",
     "iopub.status.idle": "2021-08-30T06:44:30.193379Z",
     "shell.execute_reply": "2021-08-30T06:44:30.192750Z",
     "shell.execute_reply.started": "2021-08-28T07:53:58.625971Z"
    },
    "papermill": {
     "duration": 0.154873,
     "end_time": "2021-08-30T06:44:30.193551",
     "exception": false,
     "start_time": "2021-08-30T06:44:30.038678",
     "status": "completed"
    },
    "tags": []
   }
  },
  {
   "cell_type": "code",
   "execution_count": 42,
   "source": [
    "stack.metafeatures_.head()"
   ],
   "outputs": [
    {
     "output_type": "execute_result",
     "data": {
      "text/plain": [
       "       lr_1  lr_cnt_1      lr_2  linreg_2     xgb_2  linreg_3     xgb_3  \\\n",
       "0  0.830411  0.999716  0.940971  0.091679  0.961496  0.095929  0.992587   \n",
       "1  0.649919  0.999999  0.885644  0.085754  0.934175  0.072787  0.949495   \n",
       "2  0.865389  0.952598  0.940868  0.051267  0.786626  0.063910  0.928105   \n",
       "3  0.209188  0.005921  0.062270 -0.102863  0.041536 -0.088853  0.051232   \n",
       "4  0.815459  0.996732  0.937028  0.070448  0.956573  0.081564  0.909145   \n",
       "\n",
       "    blender_4  \n",
       "0  837.532726  \n",
       "1  771.347888  \n",
       "2  744.778776  \n",
       "3  288.942894  \n",
       "4  797.931596  "
      ],
      "text/html": [
       "<div>\n",
       "<style scoped>\n",
       "    .dataframe tbody tr th:only-of-type {\n",
       "        vertical-align: middle;\n",
       "    }\n",
       "\n",
       "    .dataframe tbody tr th {\n",
       "        vertical-align: top;\n",
       "    }\n",
       "\n",
       "    .dataframe thead th {\n",
       "        text-align: right;\n",
       "    }\n",
       "</style>\n",
       "<table border=\"1\" class=\"dataframe\">\n",
       "  <thead>\n",
       "    <tr style=\"text-align: right;\">\n",
       "      <th></th>\n",
       "      <th>lr_1</th>\n",
       "      <th>lr_cnt_1</th>\n",
       "      <th>lr_2</th>\n",
       "      <th>linreg_2</th>\n",
       "      <th>xgb_2</th>\n",
       "      <th>linreg_3</th>\n",
       "      <th>xgb_3</th>\n",
       "      <th>blender_4</th>\n",
       "    </tr>\n",
       "  </thead>\n",
       "  <tbody>\n",
       "    <tr>\n",
       "      <th>0</th>\n",
       "      <td>0.830411</td>\n",
       "      <td>0.999716</td>\n",
       "      <td>0.940971</td>\n",
       "      <td>0.091679</td>\n",
       "      <td>0.961496</td>\n",
       "      <td>0.095929</td>\n",
       "      <td>0.992587</td>\n",
       "      <td>837.532726</td>\n",
       "    </tr>\n",
       "    <tr>\n",
       "      <th>1</th>\n",
       "      <td>0.649919</td>\n",
       "      <td>0.999999</td>\n",
       "      <td>0.885644</td>\n",
       "      <td>0.085754</td>\n",
       "      <td>0.934175</td>\n",
       "      <td>0.072787</td>\n",
       "      <td>0.949495</td>\n",
       "      <td>771.347888</td>\n",
       "    </tr>\n",
       "    <tr>\n",
       "      <th>2</th>\n",
       "      <td>0.865389</td>\n",
       "      <td>0.952598</td>\n",
       "      <td>0.940868</td>\n",
       "      <td>0.051267</td>\n",
       "      <td>0.786626</td>\n",
       "      <td>0.063910</td>\n",
       "      <td>0.928105</td>\n",
       "      <td>744.778776</td>\n",
       "    </tr>\n",
       "    <tr>\n",
       "      <th>3</th>\n",
       "      <td>0.209188</td>\n",
       "      <td>0.005921</td>\n",
       "      <td>0.062270</td>\n",
       "      <td>-0.102863</td>\n",
       "      <td>0.041536</td>\n",
       "      <td>-0.088853</td>\n",
       "      <td>0.051232</td>\n",
       "      <td>288.942894</td>\n",
       "    </tr>\n",
       "    <tr>\n",
       "      <th>4</th>\n",
       "      <td>0.815459</td>\n",
       "      <td>0.996732</td>\n",
       "      <td>0.937028</td>\n",
       "      <td>0.070448</td>\n",
       "      <td>0.956573</td>\n",
       "      <td>0.081564</td>\n",
       "      <td>0.909145</td>\n",
       "      <td>797.931596</td>\n",
       "    </tr>\n",
       "  </tbody>\n",
       "</table>\n",
       "</div>"
      ]
     },
     "metadata": {},
     "execution_count": 42
    }
   ],
   "metadata": {
    "execution": {
     "iopub.execute_input": "2021-08-30T06:44:30.492607Z",
     "iopub.status.busy": "2021-08-30T06:44:30.484810Z",
     "iopub.status.idle": "2021-08-30T06:44:30.502032Z",
     "shell.execute_reply": "2021-08-30T06:44:30.503040Z",
     "shell.execute_reply.started": "2021-08-28T07:53:58.654963Z"
    },
    "papermill": {
     "duration": 0.17839,
     "end_time": "2021-08-30T06:44:30.503275",
     "exception": false,
     "start_time": "2021-08-30T06:44:30.324885",
     "status": "completed"
    },
    "tags": []
   }
  },
  {
   "cell_type": "code",
   "execution_count": null,
   "source": [],
   "outputs": [],
   "metadata": {
    "papermill": {
     "duration": 0.131644,
     "end_time": "2021-08-30T06:44:30.783991",
     "exception": false,
     "start_time": "2021-08-30T06:44:30.652347",
     "status": "completed"
    },
    "tags": []
   }
  }
 ],
 "metadata": {
  "kernelspec": {
   "display_name": "Python 3",
   "language": "python",
   "name": "python3"
  },
  "language_info": {
   "codemirror_mode": {
    "name": "ipython",
    "version": 3
   },
   "file_extension": ".py",
   "mimetype": "text/x-python",
   "name": "python",
   "nbconvert_exporter": "python",
   "pygments_lexer": "ipython3",
   "version": "3.7.10"
  },
  "papermill": {
   "default_parameters": {},
   "duration": 3014.238741,
   "end_time": "2021-08-30T06:44:32.134392",
   "environment_variables": {},
   "exception": null,
   "input_path": "__notebook__.ipynb",
   "output_path": "__notebook__.ipynb",
   "parameters": {},
   "start_time": "2021-08-30T05:54:17.895651",
   "version": "2.3.3"
  },
  "widgets": {
   "application/vnd.jupyter.widget-state+json": {
    "state": {
     "01271d01695949cb894ddb25af850ac2": {
      "model_module": "@jupyter-widgets/controls",
      "model_module_version": "1.5.0",
      "model_name": "HTMLModel",
      "state": {
       "_dom_classes": [],
       "_model_module": "@jupyter-widgets/controls",
       "_model_module_version": "1.5.0",
       "_model_name": "HTMLModel",
       "_view_count": null,
       "_view_module": "@jupyter-widgets/controls",
       "_view_module_version": "1.5.0",
       "_view_name": "HTMLView",
       "description": "",
       "description_tooltip": null,
       "layout": "IPY_MODEL_a62b7947c35e4246be37e6994e86bcb0",
       "placeholder": "​",
       "style": "IPY_MODEL_63873061cdf64a5abf3b19cdf722c59d",
       "value": "100%"
      }
     },
     "01ea0296656c4b399c9fbfae00770c3e": {
      "model_module": "@jupyter-widgets/controls",
      "model_module_version": "1.5.0",
      "model_name": "FloatProgressModel",
      "state": {
       "_dom_classes": [],
       "_model_module": "@jupyter-widgets/controls",
       "_model_module_version": "1.5.0",
       "_model_name": "FloatProgressModel",
       "_view_count": null,
       "_view_module": "@jupyter-widgets/controls",
       "_view_module_version": "1.5.0",
       "_view_name": "ProgressView",
       "bar_style": "",
       "description": "",
       "description_tooltip": null,
       "layout": "IPY_MODEL_c0d9ae4b4cc845f09d898d84aa4d041e",
       "max": 1,
       "min": 0,
       "orientation": "horizontal",
       "style": "IPY_MODEL_70b15dfa4d304e20b61f89f8260619f8",
       "value": 1
      }
     },
     "023485850ae8441a8c0edcc03973243b": {
      "model_module": "@jupyter-widgets/controls",
      "model_module_version": "1.5.0",
      "model_name": "HBoxModel",
      "state": {
       "_dom_classes": [],
       "_model_module": "@jupyter-widgets/controls",
       "_model_module_version": "1.5.0",
       "_model_name": "HBoxModel",
       "_view_count": null,
       "_view_module": "@jupyter-widgets/controls",
       "_view_module_version": "1.5.0",
       "_view_name": "HBoxView",
       "box_style": "",
       "children": [
        "IPY_MODEL_d134036967984fe79f2d09390c3cd54b",
        "IPY_MODEL_8c3970c1115142a0b807db3b0a54cf7e",
        "IPY_MODEL_3fdfc630617d4227aaa0e8cde5a59e38"
       ],
       "layout": "IPY_MODEL_06ec4746e9714e89aa761217e6823270"
      }
     },
     "048b6920324f4037a0edb1f1eccc0d73": {
      "model_module": "@jupyter-widgets/controls",
      "model_module_version": "1.5.0",
      "model_name": "DescriptionStyleModel",
      "state": {
       "_model_module": "@jupyter-widgets/controls",
       "_model_module_version": "1.5.0",
       "_model_name": "DescriptionStyleModel",
       "_view_count": null,
       "_view_module": "@jupyter-widgets/base",
       "_view_module_version": "1.2.0",
       "_view_name": "StyleView",
       "description_width": ""
      }
     },
     "05641d54725747f5b224cf189f3ab846": {
      "model_module": "@jupyter-widgets/controls",
      "model_module_version": "1.5.0",
      "model_name": "HTMLModel",
      "state": {
       "_dom_classes": [],
       "_model_module": "@jupyter-widgets/controls",
       "_model_module_version": "1.5.0",
       "_model_name": "HTMLModel",
       "_view_count": null,
       "_view_module": "@jupyter-widgets/controls",
       "_view_module_version": "1.5.0",
       "_view_name": "HTMLView",
       "description": "",
       "description_tooltip": null,
       "layout": "IPY_MODEL_ec85171009284585a5461c0c0924bb5f",
       "placeholder": "​",
       "style": "IPY_MODEL_048b6920324f4037a0edb1f1eccc0d73",
       "value": " 3/3 [00:19&lt;00:00,  6.65s/it]"
      }
     },
     "06ec4746e9714e89aa761217e6823270": {
      "model_module": "@jupyter-widgets/base",
      "model_module_version": "1.2.0",
      "model_name": "LayoutModel",
      "state": {
       "_model_module": "@jupyter-widgets/base",
       "_model_module_version": "1.2.0",
       "_model_name": "LayoutModel",
       "_view_count": null,
       "_view_module": "@jupyter-widgets/base",
       "_view_module_version": "1.2.0",
       "_view_name": "LayoutView",
       "align_content": null,
       "align_items": null,
       "align_self": null,
       "border": null,
       "bottom": null,
       "display": null,
       "flex": null,
       "flex_flow": null,
       "grid_area": null,
       "grid_auto_columns": null,
       "grid_auto_flow": null,
       "grid_auto_rows": null,
       "grid_column": null,
       "grid_gap": null,
       "grid_row": null,
       "grid_template_areas": null,
       "grid_template_columns": null,
       "grid_template_rows": null,
       "height": null,
       "justify_content": null,
       "justify_items": null,
       "left": null,
       "margin": null,
       "max_height": null,
       "max_width": null,
       "min_height": null,
       "min_width": null,
       "object_fit": null,
       "object_position": null,
       "order": null,
       "overflow": null,
       "overflow_x": null,
       "overflow_y": null,
       "padding": null,
       "right": null,
       "top": null,
       "visibility": null,
       "width": null
      }
     },
     "073423abeb704c0485cf6573f3cdeed2": {
      "model_module": "@jupyter-widgets/controls",
      "model_module_version": "1.5.0",
      "model_name": "FloatProgressModel",
      "state": {
       "_dom_classes": [],
       "_model_module": "@jupyter-widgets/controls",
       "_model_module_version": "1.5.0",
       "_model_name": "FloatProgressModel",
       "_view_count": null,
       "_view_module": "@jupyter-widgets/controls",
       "_view_module_version": "1.5.0",
       "_view_name": "ProgressView",
       "bar_style": "",
       "description": "",
       "description_tooltip": null,
       "layout": "IPY_MODEL_8b3dfea530fa430c8a96f83147b3555b",
       "max": 2,
       "min": 0,
       "orientation": "horizontal",
       "style": "IPY_MODEL_b078731448be42ef837326d2998732f4",
       "value": 2
      }
     },
     "0b07651a77534449b206169894d702cf": {
      "model_module": "@jupyter-widgets/controls",
      "model_module_version": "1.5.0",
      "model_name": "HTMLModel",
      "state": {
       "_dom_classes": [],
       "_model_module": "@jupyter-widgets/controls",
       "_model_module_version": "1.5.0",
       "_model_name": "HTMLModel",
       "_view_count": null,
       "_view_module": "@jupyter-widgets/controls",
       "_view_module_version": "1.5.0",
       "_view_name": "HTMLView",
       "description": "",
       "description_tooltip": null,
       "layout": "IPY_MODEL_4daa19bcd5294a86a9f3ea57719164d7",
       "placeholder": "​",
       "style": "IPY_MODEL_7fa65ca3f5bf47b18d526ca93993480e",
       "value": "100%"
      }
     },
     "0d3bbc8d5b524ac49cd76936201aaded": {
      "model_module": "@jupyter-widgets/base",
      "model_module_version": "1.2.0",
      "model_name": "LayoutModel",
      "state": {
       "_model_module": "@jupyter-widgets/base",
       "_model_module_version": "1.2.0",
       "_model_name": "LayoutModel",
       "_view_count": null,
       "_view_module": "@jupyter-widgets/base",
       "_view_module_version": "1.2.0",
       "_view_name": "LayoutView",
       "align_content": null,
       "align_items": null,
       "align_self": null,
       "border": null,
       "bottom": null,
       "display": null,
       "flex": null,
       "flex_flow": null,
       "grid_area": null,
       "grid_auto_columns": null,
       "grid_auto_flow": null,
       "grid_auto_rows": null,
       "grid_column": null,
       "grid_gap": null,
       "grid_row": null,
       "grid_template_areas": null,
       "grid_template_columns": null,
       "grid_template_rows": null,
       "height": null,
       "justify_content": null,
       "justify_items": null,
       "left": null,
       "margin": null,
       "max_height": null,
       "max_width": null,
       "min_height": null,
       "min_width": null,
       "object_fit": null,
       "object_position": null,
       "order": null,
       "overflow": null,
       "overflow_x": null,
       "overflow_y": null,
       "padding": null,
       "right": null,
       "top": null,
       "visibility": null,
       "width": null
      }
     },
     "0d617f2f9b12488caa1f4174b12c8927": {
      "model_module": "@jupyter-widgets/base",
      "model_module_version": "1.2.0",
      "model_name": "LayoutModel",
      "state": {
       "_model_module": "@jupyter-widgets/base",
       "_model_module_version": "1.2.0",
       "_model_name": "LayoutModel",
       "_view_count": null,
       "_view_module": "@jupyter-widgets/base",
       "_view_module_version": "1.2.0",
       "_view_name": "LayoutView",
       "align_content": null,
       "align_items": null,
       "align_self": null,
       "border": null,
       "bottom": null,
       "display": null,
       "flex": null,
       "flex_flow": null,
       "grid_area": null,
       "grid_auto_columns": null,
       "grid_auto_flow": null,
       "grid_auto_rows": null,
       "grid_column": null,
       "grid_gap": null,
       "grid_row": null,
       "grid_template_areas": null,
       "grid_template_columns": null,
       "grid_template_rows": null,
       "height": null,
       "justify_content": null,
       "justify_items": null,
       "left": null,
       "margin": null,
       "max_height": null,
       "max_width": null,
       "min_height": null,
       "min_width": null,
       "object_fit": null,
       "object_position": null,
       "order": null,
       "overflow": null,
       "overflow_x": null,
       "overflow_y": null,
       "padding": null,
       "right": null,
       "top": null,
       "visibility": null,
       "width": null
      }
     },
     "1103ef189db54743b1cc8402e1f1a284": {
      "model_module": "@jupyter-widgets/controls",
      "model_module_version": "1.5.0",
      "model_name": "HTMLModel",
      "state": {
       "_dom_classes": [],
       "_model_module": "@jupyter-widgets/controls",
       "_model_module_version": "1.5.0",
       "_model_name": "HTMLModel",
       "_view_count": null,
       "_view_module": "@jupyter-widgets/controls",
       "_view_module_version": "1.5.0",
       "_view_name": "HTMLView",
       "description": "",
       "description_tooltip": null,
       "layout": "IPY_MODEL_a9784e3643de42beae81b23817c2c778",
       "placeholder": "​",
       "style": "IPY_MODEL_bdb97938352241878d31206d0124cca3",
       "value": "100%"
      }
     },
     "140df8b71b614c9c99764691a7ab5250": {
      "model_module": "@jupyter-widgets/base",
      "model_module_version": "1.2.0",
      "model_name": "LayoutModel",
      "state": {
       "_model_module": "@jupyter-widgets/base",
       "_model_module_version": "1.2.0",
       "_model_name": "LayoutModel",
       "_view_count": null,
       "_view_module": "@jupyter-widgets/base",
       "_view_module_version": "1.2.0",
       "_view_name": "LayoutView",
       "align_content": null,
       "align_items": null,
       "align_self": null,
       "border": null,
       "bottom": null,
       "display": null,
       "flex": null,
       "flex_flow": null,
       "grid_area": null,
       "grid_auto_columns": null,
       "grid_auto_flow": null,
       "grid_auto_rows": null,
       "grid_column": null,
       "grid_gap": null,
       "grid_row": null,
       "grid_template_areas": null,
       "grid_template_columns": null,
       "grid_template_rows": null,
       "height": null,
       "justify_content": null,
       "justify_items": null,
       "left": null,
       "margin": null,
       "max_height": null,
       "max_width": null,
       "min_height": null,
       "min_width": null,
       "object_fit": null,
       "object_position": null,
       "order": null,
       "overflow": null,
       "overflow_x": null,
       "overflow_y": null,
       "padding": null,
       "right": null,
       "top": null,
       "visibility": null,
       "width": null
      }
     },
     "149b8383ac6748a19598c518cb4d39d0": {
      "model_module": "@jupyter-widgets/base",
      "model_module_version": "1.2.0",
      "model_name": "LayoutModel",
      "state": {
       "_model_module": "@jupyter-widgets/base",
       "_model_module_version": "1.2.0",
       "_model_name": "LayoutModel",
       "_view_count": null,
       "_view_module": "@jupyter-widgets/base",
       "_view_module_version": "1.2.0",
       "_view_name": "LayoutView",
       "align_content": null,
       "align_items": null,
       "align_self": null,
       "border": null,
       "bottom": null,
       "display": null,
       "flex": null,
       "flex_flow": null,
       "grid_area": null,
       "grid_auto_columns": null,
       "grid_auto_flow": null,
       "grid_auto_rows": null,
       "grid_column": null,
       "grid_gap": null,
       "grid_row": null,
       "grid_template_areas": null,
       "grid_template_columns": null,
       "grid_template_rows": null,
       "height": null,
       "justify_content": null,
       "justify_items": null,
       "left": null,
       "margin": null,
       "max_height": null,
       "max_width": null,
       "min_height": null,
       "min_width": null,
       "object_fit": null,
       "object_position": null,
       "order": null,
       "overflow": null,
       "overflow_x": null,
       "overflow_y": null,
       "padding": null,
       "right": null,
       "top": null,
       "visibility": null,
       "width": null
      }
     },
     "15e7eadecdf84bc3bdfd73ebcd234309": {
      "model_module": "@jupyter-widgets/base",
      "model_module_version": "1.2.0",
      "model_name": "LayoutModel",
      "state": {
       "_model_module": "@jupyter-widgets/base",
       "_model_module_version": "1.2.0",
       "_model_name": "LayoutModel",
       "_view_count": null,
       "_view_module": "@jupyter-widgets/base",
       "_view_module_version": "1.2.0",
       "_view_name": "LayoutView",
       "align_content": null,
       "align_items": null,
       "align_self": null,
       "border": null,
       "bottom": null,
       "display": null,
       "flex": null,
       "flex_flow": null,
       "grid_area": null,
       "grid_auto_columns": null,
       "grid_auto_flow": null,
       "grid_auto_rows": null,
       "grid_column": null,
       "grid_gap": null,
       "grid_row": null,
       "grid_template_areas": null,
       "grid_template_columns": null,
       "grid_template_rows": null,
       "height": null,
       "justify_content": null,
       "justify_items": null,
       "left": null,
       "margin": null,
       "max_height": null,
       "max_width": null,
       "min_height": null,
       "min_width": null,
       "object_fit": null,
       "object_position": null,
       "order": null,
       "overflow": null,
       "overflow_x": null,
       "overflow_y": null,
       "padding": null,
       "right": null,
       "top": null,
       "visibility": null,
       "width": null
      }
     },
     "1660e30ebb6b43119e7195fd5291473f": {
      "model_module": "@jupyter-widgets/controls",
      "model_module_version": "1.5.0",
      "model_name": "ProgressStyleModel",
      "state": {
       "_model_module": "@jupyter-widgets/controls",
       "_model_module_version": "1.5.0",
       "_model_name": "ProgressStyleModel",
       "_view_count": null,
       "_view_module": "@jupyter-widgets/base",
       "_view_module_version": "1.2.0",
       "_view_name": "StyleView",
       "bar_color": null,
       "description_width": ""
      }
     },
     "1679aada879e4b36a378e56a6f414146": {
      "model_module": "@jupyter-widgets/base",
      "model_module_version": "1.2.0",
      "model_name": "LayoutModel",
      "state": {
       "_model_module": "@jupyter-widgets/base",
       "_model_module_version": "1.2.0",
       "_model_name": "LayoutModel",
       "_view_count": null,
       "_view_module": "@jupyter-widgets/base",
       "_view_module_version": "1.2.0",
       "_view_name": "LayoutView",
       "align_content": null,
       "align_items": null,
       "align_self": null,
       "border": null,
       "bottom": null,
       "display": null,
       "flex": null,
       "flex_flow": null,
       "grid_area": null,
       "grid_auto_columns": null,
       "grid_auto_flow": null,
       "grid_auto_rows": null,
       "grid_column": null,
       "grid_gap": null,
       "grid_row": null,
       "grid_template_areas": null,
       "grid_template_columns": null,
       "grid_template_rows": null,
       "height": null,
       "justify_content": null,
       "justify_items": null,
       "left": null,
       "margin": null,
       "max_height": null,
       "max_width": null,
       "min_height": null,
       "min_width": null,
       "object_fit": null,
       "object_position": null,
       "order": null,
       "overflow": null,
       "overflow_x": null,
       "overflow_y": null,
       "padding": null,
       "right": null,
       "top": null,
       "visibility": null,
       "width": null
      }
     },
     "169df21288ca4ccbbf9ecad27975ed0c": {
      "model_module": "@jupyter-widgets/controls",
      "model_module_version": "1.5.0",
      "model_name": "HTMLModel",
      "state": {
       "_dom_classes": [],
       "_model_module": "@jupyter-widgets/controls",
       "_model_module_version": "1.5.0",
       "_model_name": "HTMLModel",
       "_view_count": null,
       "_view_module": "@jupyter-widgets/controls",
       "_view_module_version": "1.5.0",
       "_view_name": "HTMLView",
       "description": "",
       "description_tooltip": null,
       "layout": "IPY_MODEL_d9f76bb47d5c4bfc99917e3fae040e1d",
       "placeholder": "​",
       "style": "IPY_MODEL_531d3561c9e74717b1f677e410fe7157",
       "value": " 2/2 [00:15&lt;00:00,  7.84s/it]"
      }
     },
     "199b1ce32c32475faec19e7dbe9abaf5": {
      "model_module": "@jupyter-widgets/controls",
      "model_module_version": "1.5.0",
      "model_name": "HTMLModel",
      "state": {
       "_dom_classes": [],
       "_model_module": "@jupyter-widgets/controls",
       "_model_module_version": "1.5.0",
       "_model_name": "HTMLModel",
       "_view_count": null,
       "_view_module": "@jupyter-widgets/controls",
       "_view_module_version": "1.5.0",
       "_view_name": "HTMLView",
       "description": "",
       "description_tooltip": null,
       "layout": "IPY_MODEL_fbbafe3f6c514dd69c052ada070d7fdc",
       "placeholder": "​",
       "style": "IPY_MODEL_941dcd308cfd49499cfd0ea2b76f5d0f",
       "value": " 4/4 [02:00&lt;00:00, 21.32s/it]"
      }
     },
     "1a74eaff9d6045b5a08c16ad71668e05": {
      "model_module": "@jupyter-widgets/controls",
      "model_module_version": "1.5.0",
      "model_name": "DescriptionStyleModel",
      "state": {
       "_model_module": "@jupyter-widgets/controls",
       "_model_module_version": "1.5.0",
       "_model_name": "DescriptionStyleModel",
       "_view_count": null,
       "_view_module": "@jupyter-widgets/base",
       "_view_module_version": "1.2.0",
       "_view_name": "StyleView",
       "description_width": ""
      }
     },
     "1c6e708f2e0844e2a42383a999162c17": {
      "model_module": "@jupyter-widgets/base",
      "model_module_version": "1.2.0",
      "model_name": "LayoutModel",
      "state": {
       "_model_module": "@jupyter-widgets/base",
       "_model_module_version": "1.2.0",
       "_model_name": "LayoutModel",
       "_view_count": null,
       "_view_module": "@jupyter-widgets/base",
       "_view_module_version": "1.2.0",
       "_view_name": "LayoutView",
       "align_content": null,
       "align_items": null,
       "align_self": null,
       "border": null,
       "bottom": null,
       "display": null,
       "flex": null,
       "flex_flow": null,
       "grid_area": null,
       "grid_auto_columns": null,
       "grid_auto_flow": null,
       "grid_auto_rows": null,
       "grid_column": null,
       "grid_gap": null,
       "grid_row": null,
       "grid_template_areas": null,
       "grid_template_columns": null,
       "grid_template_rows": null,
       "height": null,
       "justify_content": null,
       "justify_items": null,
       "left": null,
       "margin": null,
       "max_height": null,
       "max_width": null,
       "min_height": null,
       "min_width": null,
       "object_fit": null,
       "object_position": null,
       "order": null,
       "overflow": null,
       "overflow_x": null,
       "overflow_y": null,
       "padding": null,
       "right": null,
       "top": null,
       "visibility": null,
       "width": null
      }
     },
     "1d3e5ced52ed4d1f8606658e6536b10b": {
      "model_module": "@jupyter-widgets/controls",
      "model_module_version": "1.5.0",
      "model_name": "DescriptionStyleModel",
      "state": {
       "_model_module": "@jupyter-widgets/controls",
       "_model_module_version": "1.5.0",
       "_model_name": "DescriptionStyleModel",
       "_view_count": null,
       "_view_module": "@jupyter-widgets/base",
       "_view_module_version": "1.2.0",
       "_view_name": "StyleView",
       "description_width": ""
      }
     },
     "1f7b520865eb4ce19721c519ed0f995a": {
      "model_module": "@jupyter-widgets/base",
      "model_module_version": "1.2.0",
      "model_name": "LayoutModel",
      "state": {
       "_model_module": "@jupyter-widgets/base",
       "_model_module_version": "1.2.0",
       "_model_name": "LayoutModel",
       "_view_count": null,
       "_view_module": "@jupyter-widgets/base",
       "_view_module_version": "1.2.0",
       "_view_name": "LayoutView",
       "align_content": null,
       "align_items": null,
       "align_self": null,
       "border": null,
       "bottom": null,
       "display": null,
       "flex": null,
       "flex_flow": null,
       "grid_area": null,
       "grid_auto_columns": null,
       "grid_auto_flow": null,
       "grid_auto_rows": null,
       "grid_column": null,
       "grid_gap": null,
       "grid_row": null,
       "grid_template_areas": null,
       "grid_template_columns": null,
       "grid_template_rows": null,
       "height": null,
       "justify_content": null,
       "justify_items": null,
       "left": null,
       "margin": null,
       "max_height": null,
       "max_width": null,
       "min_height": null,
       "min_width": null,
       "object_fit": null,
       "object_position": null,
       "order": null,
       "overflow": null,
       "overflow_x": null,
       "overflow_y": null,
       "padding": null,
       "right": null,
       "top": null,
       "visibility": null,
       "width": null
      }
     },
     "1fd5bb6535fe4152a6a438e774ecfbb7": {
      "model_module": "@jupyter-widgets/controls",
      "model_module_version": "1.5.0",
      "model_name": "HBoxModel",
      "state": {
       "_dom_classes": [],
       "_model_module": "@jupyter-widgets/controls",
       "_model_module_version": "1.5.0",
       "_model_name": "HBoxModel",
       "_view_count": null,
       "_view_module": "@jupyter-widgets/controls",
       "_view_module_version": "1.5.0",
       "_view_name": "HBoxView",
       "box_style": "",
       "children": [
        "IPY_MODEL_e5192c0b584e4517ac67df6b790bc445",
        "IPY_MODEL_ce1fd2a46a244b67b0da505372c1d010",
        "IPY_MODEL_199b1ce32c32475faec19e7dbe9abaf5"
       ],
       "layout": "IPY_MODEL_8b58305c1cfd4a40a4ed732e2e8cdc84"
      }
     },
     "2196a705261442aca6e3dcc032b6eb86": {
      "model_module": "@jupyter-widgets/controls",
      "model_module_version": "1.5.0",
      "model_name": "DescriptionStyleModel",
      "state": {
       "_model_module": "@jupyter-widgets/controls",
       "_model_module_version": "1.5.0",
       "_model_name": "DescriptionStyleModel",
       "_view_count": null,
       "_view_module": "@jupyter-widgets/base",
       "_view_module_version": "1.2.0",
       "_view_name": "StyleView",
       "description_width": ""
      }
     },
     "222a82d0e5394d8f99237ab393af026a": {
      "model_module": "@jupyter-widgets/controls",
      "model_module_version": "1.5.0",
      "model_name": "FloatProgressModel",
      "state": {
       "_dom_classes": [],
       "_model_module": "@jupyter-widgets/controls",
       "_model_module_version": "1.5.0",
       "_model_name": "FloatProgressModel",
       "_view_count": null,
       "_view_module": "@jupyter-widgets/controls",
       "_view_module_version": "1.5.0",
       "_view_name": "ProgressView",
       "bar_style": "",
       "description": "",
       "description_tooltip": null,
       "layout": "IPY_MODEL_ceb646562a3846bfbda1e930a98382e2",
       "max": 4,
       "min": 0,
       "orientation": "horizontal",
       "style": "IPY_MODEL_4b389382f3214d54a70109361a1ed777",
       "value": 4
      }
     },
     "225ec041be324e55be140ca486db88d0": {
      "model_module": "@jupyter-widgets/controls",
      "model_module_version": "1.5.0",
      "model_name": "DescriptionStyleModel",
      "state": {
       "_model_module": "@jupyter-widgets/controls",
       "_model_module_version": "1.5.0",
       "_model_name": "DescriptionStyleModel",
       "_view_count": null,
       "_view_module": "@jupyter-widgets/base",
       "_view_module_version": "1.2.0",
       "_view_name": "StyleView",
       "description_width": ""
      }
     },
     "23ae5158047b433f8eed0f1920e8d04e": {
      "model_module": "@jupyter-widgets/base",
      "model_module_version": "1.2.0",
      "model_name": "LayoutModel",
      "state": {
       "_model_module": "@jupyter-widgets/base",
       "_model_module_version": "1.2.0",
       "_model_name": "LayoutModel",
       "_view_count": null,
       "_view_module": "@jupyter-widgets/base",
       "_view_module_version": "1.2.0",
       "_view_name": "LayoutView",
       "align_content": null,
       "align_items": null,
       "align_self": null,
       "border": null,
       "bottom": null,
       "display": null,
       "flex": null,
       "flex_flow": null,
       "grid_area": null,
       "grid_auto_columns": null,
       "grid_auto_flow": null,
       "grid_auto_rows": null,
       "grid_column": null,
       "grid_gap": null,
       "grid_row": null,
       "grid_template_areas": null,
       "grid_template_columns": null,
       "grid_template_rows": null,
       "height": null,
       "justify_content": null,
       "justify_items": null,
       "left": null,
       "margin": null,
       "max_height": null,
       "max_width": null,
       "min_height": null,
       "min_width": null,
       "object_fit": null,
       "object_position": null,
       "order": null,
       "overflow": null,
       "overflow_x": null,
       "overflow_y": null,
       "padding": null,
       "right": null,
       "top": null,
       "visibility": null,
       "width": null
      }
     },
     "256ecbb11fa841c6898e836133178692": {
      "model_module": "@jupyter-widgets/base",
      "model_module_version": "1.2.0",
      "model_name": "LayoutModel",
      "state": {
       "_model_module": "@jupyter-widgets/base",
       "_model_module_version": "1.2.0",
       "_model_name": "LayoutModel",
       "_view_count": null,
       "_view_module": "@jupyter-widgets/base",
       "_view_module_version": "1.2.0",
       "_view_name": "LayoutView",
       "align_content": null,
       "align_items": null,
       "align_self": null,
       "border": null,
       "bottom": null,
       "display": null,
       "flex": null,
       "flex_flow": null,
       "grid_area": null,
       "grid_auto_columns": null,
       "grid_auto_flow": null,
       "grid_auto_rows": null,
       "grid_column": null,
       "grid_gap": null,
       "grid_row": null,
       "grid_template_areas": null,
       "grid_template_columns": null,
       "grid_template_rows": null,
       "height": null,
       "justify_content": null,
       "justify_items": null,
       "left": null,
       "margin": null,
       "max_height": null,
       "max_width": null,
       "min_height": null,
       "min_width": null,
       "object_fit": null,
       "object_position": null,
       "order": null,
       "overflow": null,
       "overflow_x": null,
       "overflow_y": null,
       "padding": null,
       "right": null,
       "top": null,
       "visibility": null,
       "width": null
      }
     },
     "273d4795d628438a92e4bd68b9c48f9a": {
      "model_module": "@jupyter-widgets/controls",
      "model_module_version": "1.5.0",
      "model_name": "DescriptionStyleModel",
      "state": {
       "_model_module": "@jupyter-widgets/controls",
       "_model_module_version": "1.5.0",
       "_model_name": "DescriptionStyleModel",
       "_view_count": null,
       "_view_module": "@jupyter-widgets/base",
       "_view_module_version": "1.2.0",
       "_view_name": "StyleView",
       "description_width": ""
      }
     },
     "27f1eafb201b4ea19fe73411bb6990e5": {
      "model_module": "@jupyter-widgets/controls",
      "model_module_version": "1.5.0",
      "model_name": "HBoxModel",
      "state": {
       "_dom_classes": [],
       "_model_module": "@jupyter-widgets/controls",
       "_model_module_version": "1.5.0",
       "_model_name": "HBoxModel",
       "_view_count": null,
       "_view_module": "@jupyter-widgets/controls",
       "_view_module_version": "1.5.0",
       "_view_name": "HBoxView",
       "box_style": "",
       "children": [
        "IPY_MODEL_01271d01695949cb894ddb25af850ac2",
        "IPY_MODEL_01ea0296656c4b399c9fbfae00770c3e",
        "IPY_MODEL_50174bcb553b4458b117f1bd9af1a5ba"
       ],
       "layout": "IPY_MODEL_2a864095cbfb454aad42854501539366"
      }
     },
     "29e62566f614428ea796bf7cb070e08b": {
      "model_module": "@jupyter-widgets/controls",
      "model_module_version": "1.5.0",
      "model_name": "HTMLModel",
      "state": {
       "_dom_classes": [],
       "_model_module": "@jupyter-widgets/controls",
       "_model_module_version": "1.5.0",
       "_model_name": "HTMLModel",
       "_view_count": null,
       "_view_module": "@jupyter-widgets/controls",
       "_view_module_version": "1.5.0",
       "_view_name": "HTMLView",
       "description": "",
       "description_tooltip": null,
       "layout": "IPY_MODEL_8e9284fa38264bc0a89da03ac893c3ba",
       "placeholder": "​",
       "style": "IPY_MODEL_6599df59363f429b8d00168e998c1616",
       "value": " 4/4 [02:00&lt;00:00, 21.36s/it]"
      }
     },
     "2a864095cbfb454aad42854501539366": {
      "model_module": "@jupyter-widgets/base",
      "model_module_version": "1.2.0",
      "model_name": "LayoutModel",
      "state": {
       "_model_module": "@jupyter-widgets/base",
       "_model_module_version": "1.2.0",
       "_model_name": "LayoutModel",
       "_view_count": null,
       "_view_module": "@jupyter-widgets/base",
       "_view_module_version": "1.2.0",
       "_view_name": "LayoutView",
       "align_content": null,
       "align_items": null,
       "align_self": null,
       "border": null,
       "bottom": null,
       "display": null,
       "flex": null,
       "flex_flow": null,
       "grid_area": null,
       "grid_auto_columns": null,
       "grid_auto_flow": null,
       "grid_auto_rows": null,
       "grid_column": null,
       "grid_gap": null,
       "grid_row": null,
       "grid_template_areas": null,
       "grid_template_columns": null,
       "grid_template_rows": null,
       "height": null,
       "justify_content": null,
       "justify_items": null,
       "left": null,
       "margin": null,
       "max_height": null,
       "max_width": null,
       "min_height": null,
       "min_width": null,
       "object_fit": null,
       "object_position": null,
       "order": null,
       "overflow": null,
       "overflow_x": null,
       "overflow_y": null,
       "padding": null,
       "right": null,
       "top": null,
       "visibility": null,
       "width": null
      }
     },
     "2bfe1d474ed74bf88b33587380fb3fce": {
      "model_module": "@jupyter-widgets/controls",
      "model_module_version": "1.5.0",
      "model_name": "HTMLModel",
      "state": {
       "_dom_classes": [],
       "_model_module": "@jupyter-widgets/controls",
       "_model_module_version": "1.5.0",
       "_model_name": "HTMLModel",
       "_view_count": null,
       "_view_module": "@jupyter-widgets/controls",
       "_view_module_version": "1.5.0",
       "_view_name": "HTMLView",
       "description": "",
       "description_tooltip": null,
       "layout": "IPY_MODEL_ae50b1806b164b18998e7aa885948d4f",
       "placeholder": "​",
       "style": "IPY_MODEL_8d3e351f0db74f178e9a26737f6bfe0b",
       "value": " 2/2 [01:22&lt;00:00, 43.85s/it]"
      }
     },
     "2d171374b7984723878833ce65210332": {
      "model_module": "@jupyter-widgets/base",
      "model_module_version": "1.2.0",
      "model_name": "LayoutModel",
      "state": {
       "_model_module": "@jupyter-widgets/base",
       "_model_module_version": "1.2.0",
       "_model_name": "LayoutModel",
       "_view_count": null,
       "_view_module": "@jupyter-widgets/base",
       "_view_module_version": "1.2.0",
       "_view_name": "LayoutView",
       "align_content": null,
       "align_items": null,
       "align_self": null,
       "border": null,
       "bottom": null,
       "display": null,
       "flex": null,
       "flex_flow": null,
       "grid_area": null,
       "grid_auto_columns": null,
       "grid_auto_flow": null,
       "grid_auto_rows": null,
       "grid_column": null,
       "grid_gap": null,
       "grid_row": null,
       "grid_template_areas": null,
       "grid_template_columns": null,
       "grid_template_rows": null,
       "height": null,
       "justify_content": null,
       "justify_items": null,
       "left": null,
       "margin": null,
       "max_height": null,
       "max_width": null,
       "min_height": null,
       "min_width": null,
       "object_fit": null,
       "object_position": null,
       "order": null,
       "overflow": null,
       "overflow_x": null,
       "overflow_y": null,
       "padding": null,
       "right": null,
       "top": null,
       "visibility": null,
       "width": null
      }
     },
     "2f5888f62dcd4f3d8fe57581a190d028": {
      "model_module": "@jupyter-widgets/base",
      "model_module_version": "1.2.0",
      "model_name": "LayoutModel",
      "state": {
       "_model_module": "@jupyter-widgets/base",
       "_model_module_version": "1.2.0",
       "_model_name": "LayoutModel",
       "_view_count": null,
       "_view_module": "@jupyter-widgets/base",
       "_view_module_version": "1.2.0",
       "_view_name": "LayoutView",
       "align_content": null,
       "align_items": null,
       "align_self": null,
       "border": null,
       "bottom": null,
       "display": null,
       "flex": null,
       "flex_flow": null,
       "grid_area": null,
       "grid_auto_columns": null,
       "grid_auto_flow": null,
       "grid_auto_rows": null,
       "grid_column": null,
       "grid_gap": null,
       "grid_row": null,
       "grid_template_areas": null,
       "grid_template_columns": null,
       "grid_template_rows": null,
       "height": null,
       "justify_content": null,
       "justify_items": null,
       "left": null,
       "margin": null,
       "max_height": null,
       "max_width": null,
       "min_height": null,
       "min_width": null,
       "object_fit": null,
       "object_position": null,
       "order": null,
       "overflow": null,
       "overflow_x": null,
       "overflow_y": null,
       "padding": null,
       "right": null,
       "top": null,
       "visibility": null,
       "width": null
      }
     },
     "34ec0b964ce74619b05efccd7c843431": {
      "model_module": "@jupyter-widgets/controls",
      "model_module_version": "1.5.0",
      "model_name": "FloatProgressModel",
      "state": {
       "_dom_classes": [],
       "_model_module": "@jupyter-widgets/controls",
       "_model_module_version": "1.5.0",
       "_model_name": "FloatProgressModel",
       "_view_count": null,
       "_view_module": "@jupyter-widgets/controls",
       "_view_module_version": "1.5.0",
       "_view_name": "ProgressView",
       "bar_style": "",
       "description": "",
       "description_tooltip": null,
       "layout": "IPY_MODEL_46a8a09541944ebb8313a1c17f1374b3",
       "max": 2,
       "min": 0,
       "orientation": "horizontal",
       "style": "IPY_MODEL_f7f7100290814ddfb2fb6ea34d0f435e",
       "value": 2
      }
     },
     "368d9124af1346d7aa5d6da5bc7e4671": {
      "model_module": "@jupyter-widgets/base",
      "model_module_version": "1.2.0",
      "model_name": "LayoutModel",
      "state": {
       "_model_module": "@jupyter-widgets/base",
       "_model_module_version": "1.2.0",
       "_model_name": "LayoutModel",
       "_view_count": null,
       "_view_module": "@jupyter-widgets/base",
       "_view_module_version": "1.2.0",
       "_view_name": "LayoutView",
       "align_content": null,
       "align_items": null,
       "align_self": null,
       "border": null,
       "bottom": null,
       "display": null,
       "flex": null,
       "flex_flow": null,
       "grid_area": null,
       "grid_auto_columns": null,
       "grid_auto_flow": null,
       "grid_auto_rows": null,
       "grid_column": null,
       "grid_gap": null,
       "grid_row": null,
       "grid_template_areas": null,
       "grid_template_columns": null,
       "grid_template_rows": null,
       "height": null,
       "justify_content": null,
       "justify_items": null,
       "left": null,
       "margin": null,
       "max_height": null,
       "max_width": null,
       "min_height": null,
       "min_width": null,
       "object_fit": null,
       "object_position": null,
       "order": null,
       "overflow": null,
       "overflow_x": null,
       "overflow_y": null,
       "padding": null,
       "right": null,
       "top": null,
       "visibility": null,
       "width": null
      }
     },
     "38c87de190b149fd807ab84fcbf14435": {
      "model_module": "@jupyter-widgets/base",
      "model_module_version": "1.2.0",
      "model_name": "LayoutModel",
      "state": {
       "_model_module": "@jupyter-widgets/base",
       "_model_module_version": "1.2.0",
       "_model_name": "LayoutModel",
       "_view_count": null,
       "_view_module": "@jupyter-widgets/base",
       "_view_module_version": "1.2.0",
       "_view_name": "LayoutView",
       "align_content": null,
       "align_items": null,
       "align_self": null,
       "border": null,
       "bottom": null,
       "display": null,
       "flex": null,
       "flex_flow": null,
       "grid_area": null,
       "grid_auto_columns": null,
       "grid_auto_flow": null,
       "grid_auto_rows": null,
       "grid_column": null,
       "grid_gap": null,
       "grid_row": null,
       "grid_template_areas": null,
       "grid_template_columns": null,
       "grid_template_rows": null,
       "height": null,
       "justify_content": null,
       "justify_items": null,
       "left": null,
       "margin": null,
       "max_height": null,
       "max_width": null,
       "min_height": null,
       "min_width": null,
       "object_fit": null,
       "object_position": null,
       "order": null,
       "overflow": null,
       "overflow_x": null,
       "overflow_y": null,
       "padding": null,
       "right": null,
       "top": null,
       "visibility": null,
       "width": null
      }
     },
     "39354a6c058146f5a1fd84ad3d330100": {
      "model_module": "@jupyter-widgets/controls",
      "model_module_version": "1.5.0",
      "model_name": "HBoxModel",
      "state": {
       "_dom_classes": [],
       "_model_module": "@jupyter-widgets/controls",
       "_model_module_version": "1.5.0",
       "_model_name": "HBoxModel",
       "_view_count": null,
       "_view_module": "@jupyter-widgets/controls",
       "_view_module_version": "1.5.0",
       "_view_name": "HBoxView",
       "box_style": "",
       "children": [
        "IPY_MODEL_91c244c639284247b49ede3892a7c7ee",
        "IPY_MODEL_bffa77d5ba13496987648675ad5d97f7",
        "IPY_MODEL_8d5c274378ea49dea8da633d4bc0f92a"
       ],
       "layout": "IPY_MODEL_6fbaf2a392d44c2389b623fe30194bcb"
      }
     },
     "3a46fbee68f845ef9a73b22b4335b06d": {
      "model_module": "@jupyter-widgets/controls",
      "model_module_version": "1.5.0",
      "model_name": "DescriptionStyleModel",
      "state": {
       "_model_module": "@jupyter-widgets/controls",
       "_model_module_version": "1.5.0",
       "_model_name": "DescriptionStyleModel",
       "_view_count": null,
       "_view_module": "@jupyter-widgets/base",
       "_view_module_version": "1.2.0",
       "_view_name": "StyleView",
       "description_width": ""
      }
     },
     "3dfdd006574242a6a2f8f1f816d432f1": {
      "model_module": "@jupyter-widgets/controls",
      "model_module_version": "1.5.0",
      "model_name": "DescriptionStyleModel",
      "state": {
       "_model_module": "@jupyter-widgets/controls",
       "_model_module_version": "1.5.0",
       "_model_name": "DescriptionStyleModel",
       "_view_count": null,
       "_view_module": "@jupyter-widgets/base",
       "_view_module_version": "1.2.0",
       "_view_name": "StyleView",
       "description_width": ""
      }
     },
     "3fdfc630617d4227aaa0e8cde5a59e38": {
      "model_module": "@jupyter-widgets/controls",
      "model_module_version": "1.5.0",
      "model_name": "HTMLModel",
      "state": {
       "_dom_classes": [],
       "_model_module": "@jupyter-widgets/controls",
       "_model_module_version": "1.5.0",
       "_model_name": "HTMLModel",
       "_view_count": null,
       "_view_module": "@jupyter-widgets/controls",
       "_view_module_version": "1.5.0",
       "_view_name": "HTMLView",
       "description": "",
       "description_tooltip": null,
       "layout": "IPY_MODEL_afba8eaaabe34d28b1ff6ecaf855d008",
       "placeholder": "​",
       "style": "IPY_MODEL_656e45aab5294c86b492395f7d533baf",
       "value": " 2/2 [00:14&lt;00:00,  7.67s/it]"
      }
     },
     "4198995451564836b0ca21b3eddb095e": {
      "model_module": "@jupyter-widgets/controls",
      "model_module_version": "1.5.0",
      "model_name": "HTMLModel",
      "state": {
       "_dom_classes": [],
       "_model_module": "@jupyter-widgets/controls",
       "_model_module_version": "1.5.0",
       "_model_name": "HTMLModel",
       "_view_count": null,
       "_view_module": "@jupyter-widgets/controls",
       "_view_module_version": "1.5.0",
       "_view_name": "HTMLView",
       "description": "",
       "description_tooltip": null,
       "layout": "IPY_MODEL_2f5888f62dcd4f3d8fe57581a190d028",
       "placeholder": "​",
       "style": "IPY_MODEL_e52f002d2d4542a4918c4d76987888df",
       "value": "100%"
      }
     },
     "4536c71b8ea24b86b1c16baa78279196": {
      "model_module": "@jupyter-widgets/base",
      "model_module_version": "1.2.0",
      "model_name": "LayoutModel",
      "state": {
       "_model_module": "@jupyter-widgets/base",
       "_model_module_version": "1.2.0",
       "_model_name": "LayoutModel",
       "_view_count": null,
       "_view_module": "@jupyter-widgets/base",
       "_view_module_version": "1.2.0",
       "_view_name": "LayoutView",
       "align_content": null,
       "align_items": null,
       "align_self": null,
       "border": null,
       "bottom": null,
       "display": null,
       "flex": null,
       "flex_flow": null,
       "grid_area": null,
       "grid_auto_columns": null,
       "grid_auto_flow": null,
       "grid_auto_rows": null,
       "grid_column": null,
       "grid_gap": null,
       "grid_row": null,
       "grid_template_areas": null,
       "grid_template_columns": null,
       "grid_template_rows": null,
       "height": null,
       "justify_content": null,
       "justify_items": null,
       "left": null,
       "margin": null,
       "max_height": null,
       "max_width": null,
       "min_height": null,
       "min_width": null,
       "object_fit": null,
       "object_position": null,
       "order": null,
       "overflow": null,
       "overflow_x": null,
       "overflow_y": null,
       "padding": null,
       "right": null,
       "top": null,
       "visibility": null,
       "width": null
      }
     },
     "45f66ee887584938884804c2fa04163e": {
      "model_module": "@jupyter-widgets/controls",
      "model_module_version": "1.5.0",
      "model_name": "HBoxModel",
      "state": {
       "_dom_classes": [],
       "_model_module": "@jupyter-widgets/controls",
       "_model_module_version": "1.5.0",
       "_model_name": "HBoxModel",
       "_view_count": null,
       "_view_module": "@jupyter-widgets/controls",
       "_view_module_version": "1.5.0",
       "_view_name": "HBoxView",
       "box_style": "",
       "children": [
        "IPY_MODEL_f85582518e9d43ffa78363104112acff",
        "IPY_MODEL_6c7fcaed55f9426a8568cfb0dc37df40",
        "IPY_MODEL_ea3c422edbcb4d7792006eeb884bccf1"
       ],
       "layout": "IPY_MODEL_368d9124af1346d7aa5d6da5bc7e4671"
      }
     },
     "46a8a09541944ebb8313a1c17f1374b3": {
      "model_module": "@jupyter-widgets/base",
      "model_module_version": "1.2.0",
      "model_name": "LayoutModel",
      "state": {
       "_model_module": "@jupyter-widgets/base",
       "_model_module_version": "1.2.0",
       "_model_name": "LayoutModel",
       "_view_count": null,
       "_view_module": "@jupyter-widgets/base",
       "_view_module_version": "1.2.0",
       "_view_name": "LayoutView",
       "align_content": null,
       "align_items": null,
       "align_self": null,
       "border": null,
       "bottom": null,
       "display": null,
       "flex": null,
       "flex_flow": null,
       "grid_area": null,
       "grid_auto_columns": null,
       "grid_auto_flow": null,
       "grid_auto_rows": null,
       "grid_column": null,
       "grid_gap": null,
       "grid_row": null,
       "grid_template_areas": null,
       "grid_template_columns": null,
       "grid_template_rows": null,
       "height": null,
       "justify_content": null,
       "justify_items": null,
       "left": null,
       "margin": null,
       "max_height": null,
       "max_width": null,
       "min_height": null,
       "min_width": null,
       "object_fit": null,
       "object_position": null,
       "order": null,
       "overflow": null,
       "overflow_x": null,
       "overflow_y": null,
       "padding": null,
       "right": null,
       "top": null,
       "visibility": null,
       "width": null
      }
     },
     "472ed455420a44a08b1ec82bb3b3f3a6": {
      "model_module": "@jupyter-widgets/controls",
      "model_module_version": "1.5.0",
      "model_name": "FloatProgressModel",
      "state": {
       "_dom_classes": [],
       "_model_module": "@jupyter-widgets/controls",
       "_model_module_version": "1.5.0",
       "_model_name": "FloatProgressModel",
       "_view_count": null,
       "_view_module": "@jupyter-widgets/controls",
       "_view_module_version": "1.5.0",
       "_view_name": "ProgressView",
       "bar_style": "success",
       "description": "",
       "description_tooltip": null,
       "layout": "IPY_MODEL_7486c0e8e6a54adfb0983b7ea4122461",
       "max": 5,
       "min": 0,
       "orientation": "horizontal",
       "style": "IPY_MODEL_d0f4337f4a784f1aa670c24a5b443dad",
       "value": 5
      }
     },
     "48177c86f66e4f5e9e662c01d482b44f": {
      "model_module": "@jupyter-widgets/controls",
      "model_module_version": "1.5.0",
      "model_name": "HTMLModel",
      "state": {
       "_dom_classes": [],
       "_model_module": "@jupyter-widgets/controls",
       "_model_module_version": "1.5.0",
       "_model_name": "HTMLModel",
       "_view_count": null,
       "_view_module": "@jupyter-widgets/controls",
       "_view_module_version": "1.5.0",
       "_view_name": "HTMLView",
       "description": "",
       "description_tooltip": null,
       "layout": "IPY_MODEL_a0bb08730be44084bd03c2683182bf1b",
       "placeholder": "​",
       "style": "IPY_MODEL_dad56a68bbcd44b6980c5646df654a41",
       "value": " 2/2 [00:15&lt;00:00,  7.85s/it]"
      }
     },
     "48d0852952364d50ac481574304434cc": {
      "model_module": "@jupyter-widgets/base",
      "model_module_version": "1.2.0",
      "model_name": "LayoutModel",
      "state": {
       "_model_module": "@jupyter-widgets/base",
       "_model_module_version": "1.2.0",
       "_model_name": "LayoutModel",
       "_view_count": null,
       "_view_module": "@jupyter-widgets/base",
       "_view_module_version": "1.2.0",
       "_view_name": "LayoutView",
       "align_content": null,
       "align_items": null,
       "align_self": null,
       "border": null,
       "bottom": null,
       "display": null,
       "flex": null,
       "flex_flow": null,
       "grid_area": null,
       "grid_auto_columns": null,
       "grid_auto_flow": null,
       "grid_auto_rows": null,
       "grid_column": null,
       "grid_gap": null,
       "grid_row": null,
       "grid_template_areas": null,
       "grid_template_columns": null,
       "grid_template_rows": null,
       "height": null,
       "justify_content": null,
       "justify_items": null,
       "left": null,
       "margin": null,
       "max_height": null,
       "max_width": null,
       "min_height": null,
       "min_width": null,
       "object_fit": null,
       "object_position": null,
       "order": null,
       "overflow": null,
       "overflow_x": null,
       "overflow_y": null,
       "padding": null,
       "right": null,
       "top": null,
       "visibility": null,
       "width": null
      }
     },
     "49bd1f9098444efa99ae9e309b25b74e": {
      "model_module": "@jupyter-widgets/controls",
      "model_module_version": "1.5.0",
      "model_name": "DescriptionStyleModel",
      "state": {
       "_model_module": "@jupyter-widgets/controls",
       "_model_module_version": "1.5.0",
       "_model_name": "DescriptionStyleModel",
       "_view_count": null,
       "_view_module": "@jupyter-widgets/base",
       "_view_module_version": "1.2.0",
       "_view_name": "StyleView",
       "description_width": ""
      }
     },
     "4b25d2ff13114b5487ae2b9d30528619": {
      "model_module": "@jupyter-widgets/controls",
      "model_module_version": "1.5.0",
      "model_name": "HTMLModel",
      "state": {
       "_dom_classes": [],
       "_model_module": "@jupyter-widgets/controls",
       "_model_module_version": "1.5.0",
       "_model_name": "HTMLModel",
       "_view_count": null,
       "_view_module": "@jupyter-widgets/controls",
       "_view_module_version": "1.5.0",
       "_view_name": "HTMLView",
       "description": "",
       "description_tooltip": null,
       "layout": "IPY_MODEL_6438b5803d3049cc952fd23a3a6c19ab",
       "placeholder": "​",
       "style": "IPY_MODEL_49bd1f9098444efa99ae9e309b25b74e",
       "value": "100%"
      }
     },
     "4b389382f3214d54a70109361a1ed777": {
      "model_module": "@jupyter-widgets/controls",
      "model_module_version": "1.5.0",
      "model_name": "ProgressStyleModel",
      "state": {
       "_model_module": "@jupyter-widgets/controls",
       "_model_module_version": "1.5.0",
       "_model_name": "ProgressStyleModel",
       "_view_count": null,
       "_view_module": "@jupyter-widgets/base",
       "_view_module_version": "1.2.0",
       "_view_name": "StyleView",
       "bar_color": null,
       "description_width": ""
      }
     },
     "4daa19bcd5294a86a9f3ea57719164d7": {
      "model_module": "@jupyter-widgets/base",
      "model_module_version": "1.2.0",
      "model_name": "LayoutModel",
      "state": {
       "_model_module": "@jupyter-widgets/base",
       "_model_module_version": "1.2.0",
       "_model_name": "LayoutModel",
       "_view_count": null,
       "_view_module": "@jupyter-widgets/base",
       "_view_module_version": "1.2.0",
       "_view_name": "LayoutView",
       "align_content": null,
       "align_items": null,
       "align_self": null,
       "border": null,
       "bottom": null,
       "display": null,
       "flex": null,
       "flex_flow": null,
       "grid_area": null,
       "grid_auto_columns": null,
       "grid_auto_flow": null,
       "grid_auto_rows": null,
       "grid_column": null,
       "grid_gap": null,
       "grid_row": null,
       "grid_template_areas": null,
       "grid_template_columns": null,
       "grid_template_rows": null,
       "height": null,
       "justify_content": null,
       "justify_items": null,
       "left": null,
       "margin": null,
       "max_height": null,
       "max_width": null,
       "min_height": null,
       "min_width": null,
       "object_fit": null,
       "object_position": null,
       "order": null,
       "overflow": null,
       "overflow_x": null,
       "overflow_y": null,
       "padding": null,
       "right": null,
       "top": null,
       "visibility": null,
       "width": null
      }
     },
     "4f29030959dd45de8050b673e41e3eb9": {
      "model_module": "@jupyter-widgets/controls",
      "model_module_version": "1.5.0",
      "model_name": "DescriptionStyleModel",
      "state": {
       "_model_module": "@jupyter-widgets/controls",
       "_model_module_version": "1.5.0",
       "_model_name": "DescriptionStyleModel",
       "_view_count": null,
       "_view_module": "@jupyter-widgets/base",
       "_view_module_version": "1.2.0",
       "_view_name": "StyleView",
       "description_width": ""
      }
     },
     "50174bcb553b4458b117f1bd9af1a5ba": {
      "model_module": "@jupyter-widgets/controls",
      "model_module_version": "1.5.0",
      "model_name": "HTMLModel",
      "state": {
       "_dom_classes": [],
       "_model_module": "@jupyter-widgets/controls",
       "_model_module_version": "1.5.0",
       "_model_name": "HTMLModel",
       "_view_count": null,
       "_view_module": "@jupyter-widgets/controls",
       "_view_module_version": "1.5.0",
       "_view_name": "HTMLView",
       "description": "",
       "description_tooltip": null,
       "layout": "IPY_MODEL_1679aada879e4b36a378e56a6f414146",
       "placeholder": "​",
       "style": "IPY_MODEL_6bc5f05b9e3a4c319154671af785b13f",
       "value": " 1/1 [00:07&lt;00:00,  7.13s/it]"
      }
     },
     "531d3561c9e74717b1f677e410fe7157": {
      "model_module": "@jupyter-widgets/controls",
      "model_module_version": "1.5.0",
      "model_name": "DescriptionStyleModel",
      "state": {
       "_model_module": "@jupyter-widgets/controls",
       "_model_module_version": "1.5.0",
       "_model_name": "DescriptionStyleModel",
       "_view_count": null,
       "_view_module": "@jupyter-widgets/base",
       "_view_module_version": "1.2.0",
       "_view_name": "StyleView",
       "description_width": ""
      }
     },
     "54460bb53de3427888f6ac6926bce8c1": {
      "model_module": "@jupyter-widgets/base",
      "model_module_version": "1.2.0",
      "model_name": "LayoutModel",
      "state": {
       "_model_module": "@jupyter-widgets/base",
       "_model_module_version": "1.2.0",
       "_model_name": "LayoutModel",
       "_view_count": null,
       "_view_module": "@jupyter-widgets/base",
       "_view_module_version": "1.2.0",
       "_view_name": "LayoutView",
       "align_content": null,
       "align_items": null,
       "align_self": null,
       "border": null,
       "bottom": null,
       "display": null,
       "flex": null,
       "flex_flow": null,
       "grid_area": null,
       "grid_auto_columns": null,
       "grid_auto_flow": null,
       "grid_auto_rows": null,
       "grid_column": null,
       "grid_gap": null,
       "grid_row": null,
       "grid_template_areas": null,
       "grid_template_columns": null,
       "grid_template_rows": null,
       "height": null,
       "justify_content": null,
       "justify_items": null,
       "left": null,
       "margin": null,
       "max_height": null,
       "max_width": null,
       "min_height": null,
       "min_width": null,
       "object_fit": null,
       "object_position": null,
       "order": null,
       "overflow": null,
       "overflow_x": null,
       "overflow_y": null,
       "padding": null,
       "right": null,
       "top": null,
       "visibility": null,
       "width": null
      }
     },
     "54a4b3fde454451f84bcf8c193337187": {
      "model_module": "@jupyter-widgets/controls",
      "model_module_version": "1.5.0",
      "model_name": "DescriptionStyleModel",
      "state": {
       "_model_module": "@jupyter-widgets/controls",
       "_model_module_version": "1.5.0",
       "_model_name": "DescriptionStyleModel",
       "_view_count": null,
       "_view_module": "@jupyter-widgets/base",
       "_view_module_version": "1.2.0",
       "_view_name": "StyleView",
       "description_width": ""
      }
     },
     "54ed98aba9b24bacbd4e7a525edfbbb8": {
      "model_module": "@jupyter-widgets/base",
      "model_module_version": "1.2.0",
      "model_name": "LayoutModel",
      "state": {
       "_model_module": "@jupyter-widgets/base",
       "_model_module_version": "1.2.0",
       "_model_name": "LayoutModel",
       "_view_count": null,
       "_view_module": "@jupyter-widgets/base",
       "_view_module_version": "1.2.0",
       "_view_name": "LayoutView",
       "align_content": null,
       "align_items": null,
       "align_self": null,
       "border": null,
       "bottom": null,
       "display": null,
       "flex": null,
       "flex_flow": null,
       "grid_area": null,
       "grid_auto_columns": null,
       "grid_auto_flow": null,
       "grid_auto_rows": null,
       "grid_column": null,
       "grid_gap": null,
       "grid_row": null,
       "grid_template_areas": null,
       "grid_template_columns": null,
       "grid_template_rows": null,
       "height": null,
       "justify_content": null,
       "justify_items": null,
       "left": null,
       "margin": null,
       "max_height": null,
       "max_width": null,
       "min_height": null,
       "min_width": null,
       "object_fit": null,
       "object_position": null,
       "order": null,
       "overflow": null,
       "overflow_x": null,
       "overflow_y": null,
       "padding": null,
       "right": null,
       "top": null,
       "visibility": null,
       "width": null
      }
     },
     "57b6a59370ef446e8d3ac4e8fd68f319": {
      "model_module": "@jupyter-widgets/controls",
      "model_module_version": "1.5.0",
      "model_name": "DescriptionStyleModel",
      "state": {
       "_model_module": "@jupyter-widgets/controls",
       "_model_module_version": "1.5.0",
       "_model_name": "DescriptionStyleModel",
       "_view_count": null,
       "_view_module": "@jupyter-widgets/base",
       "_view_module_version": "1.2.0",
       "_view_name": "StyleView",
       "description_width": ""
      }
     },
     "58156d77f8ab4834844d9aeb78bd7398": {
      "model_module": "@jupyter-widgets/controls",
      "model_module_version": "1.5.0",
      "model_name": "HTMLModel",
      "state": {
       "_dom_classes": [],
       "_model_module": "@jupyter-widgets/controls",
       "_model_module_version": "1.5.0",
       "_model_name": "HTMLModel",
       "_view_count": null,
       "_view_module": "@jupyter-widgets/controls",
       "_view_module_version": "1.5.0",
       "_view_name": "HTMLView",
       "description": "",
       "description_tooltip": null,
       "layout": "IPY_MODEL_f4878439c9e64384ad6c61d5803ce52c",
       "placeholder": "​",
       "style": "IPY_MODEL_57b6a59370ef446e8d3ac4e8fd68f319",
       "value": " 3/3 [00:18&lt;00:00,  6.55s/it]"
      }
     },
     "584225dec7e8471eb68707a5973fa7b0": {
      "model_module": "@jupyter-widgets/controls",
      "model_module_version": "1.5.0",
      "model_name": "HTMLModel",
      "state": {
       "_dom_classes": [],
       "_model_module": "@jupyter-widgets/controls",
       "_model_module_version": "1.5.0",
       "_model_name": "HTMLModel",
       "_view_count": null,
       "_view_module": "@jupyter-widgets/controls",
       "_view_module_version": "1.5.0",
       "_view_name": "HTMLView",
       "description": "",
       "description_tooltip": null,
       "layout": "IPY_MODEL_d435c26cac054b9784c2bb15acbf8635",
       "placeholder": "​",
       "style": "IPY_MODEL_5add7ccd44c94bf094281ff4f2373009",
       "value": " 1/1 [00:07&lt;00:00,  7.06s/it]"
      }
     },
     "59b7127c54c049d5a6923f9908201bf9": {
      "model_module": "@jupyter-widgets/base",
      "model_module_version": "1.2.0",
      "model_name": "LayoutModel",
      "state": {
       "_model_module": "@jupyter-widgets/base",
       "_model_module_version": "1.2.0",
       "_model_name": "LayoutModel",
       "_view_count": null,
       "_view_module": "@jupyter-widgets/base",
       "_view_module_version": "1.2.0",
       "_view_name": "LayoutView",
       "align_content": null,
       "align_items": null,
       "align_self": null,
       "border": null,
       "bottom": null,
       "display": null,
       "flex": null,
       "flex_flow": null,
       "grid_area": null,
       "grid_auto_columns": null,
       "grid_auto_flow": null,
       "grid_auto_rows": null,
       "grid_column": null,
       "grid_gap": null,
       "grid_row": null,
       "grid_template_areas": null,
       "grid_template_columns": null,
       "grid_template_rows": null,
       "height": null,
       "justify_content": null,
       "justify_items": null,
       "left": null,
       "margin": null,
       "max_height": null,
       "max_width": null,
       "min_height": null,
       "min_width": null,
       "object_fit": null,
       "object_position": null,
       "order": null,
       "overflow": null,
       "overflow_x": null,
       "overflow_y": null,
       "padding": null,
       "right": null,
       "top": null,
       "visibility": null,
       "width": null
      }
     },
     "5add7ccd44c94bf094281ff4f2373009": {
      "model_module": "@jupyter-widgets/controls",
      "model_module_version": "1.5.0",
      "model_name": "DescriptionStyleModel",
      "state": {
       "_model_module": "@jupyter-widgets/controls",
       "_model_module_version": "1.5.0",
       "_model_name": "DescriptionStyleModel",
       "_view_count": null,
       "_view_module": "@jupyter-widgets/base",
       "_view_module_version": "1.2.0",
       "_view_name": "StyleView",
       "description_width": ""
      }
     },
     "5c7e3adbbe274b73bc61a57f11a7da51": {
      "model_module": "@jupyter-widgets/base",
      "model_module_version": "1.2.0",
      "model_name": "LayoutModel",
      "state": {
       "_model_module": "@jupyter-widgets/base",
       "_model_module_version": "1.2.0",
       "_model_name": "LayoutModel",
       "_view_count": null,
       "_view_module": "@jupyter-widgets/base",
       "_view_module_version": "1.2.0",
       "_view_name": "LayoutView",
       "align_content": null,
       "align_items": null,
       "align_self": null,
       "border": null,
       "bottom": null,
       "display": null,
       "flex": null,
       "flex_flow": null,
       "grid_area": null,
       "grid_auto_columns": null,
       "grid_auto_flow": null,
       "grid_auto_rows": null,
       "grid_column": null,
       "grid_gap": null,
       "grid_row": null,
       "grid_template_areas": null,
       "grid_template_columns": null,
       "grid_template_rows": null,
       "height": null,
       "justify_content": null,
       "justify_items": null,
       "left": null,
       "margin": null,
       "max_height": null,
       "max_width": null,
       "min_height": null,
       "min_width": null,
       "object_fit": null,
       "object_position": null,
       "order": null,
       "overflow": null,
       "overflow_x": null,
       "overflow_y": null,
       "padding": null,
       "right": null,
       "top": null,
       "visibility": null,
       "width": null
      }
     },
     "5db1ec7ca31c42f3b8015e4b0be26424": {
      "model_module": "@jupyter-widgets/base",
      "model_module_version": "1.2.0",
      "model_name": "LayoutModel",
      "state": {
       "_model_module": "@jupyter-widgets/base",
       "_model_module_version": "1.2.0",
       "_model_name": "LayoutModel",
       "_view_count": null,
       "_view_module": "@jupyter-widgets/base",
       "_view_module_version": "1.2.0",
       "_view_name": "LayoutView",
       "align_content": null,
       "align_items": null,
       "align_self": null,
       "border": null,
       "bottom": null,
       "display": null,
       "flex": null,
       "flex_flow": null,
       "grid_area": null,
       "grid_auto_columns": null,
       "grid_auto_flow": null,
       "grid_auto_rows": null,
       "grid_column": null,
       "grid_gap": null,
       "grid_row": null,
       "grid_template_areas": null,
       "grid_template_columns": null,
       "grid_template_rows": null,
       "height": null,
       "justify_content": null,
       "justify_items": null,
       "left": null,
       "margin": null,
       "max_height": null,
       "max_width": null,
       "min_height": null,
       "min_width": null,
       "object_fit": null,
       "object_position": null,
       "order": null,
       "overflow": null,
       "overflow_x": null,
       "overflow_y": null,
       "padding": null,
       "right": null,
       "top": null,
       "visibility": null,
       "width": null
      }
     },
     "5dfafa605ffa404eb68c7db3d8ae8520": {
      "model_module": "@jupyter-widgets/base",
      "model_module_version": "1.2.0",
      "model_name": "LayoutModel",
      "state": {
       "_model_module": "@jupyter-widgets/base",
       "_model_module_version": "1.2.0",
       "_model_name": "LayoutModel",
       "_view_count": null,
       "_view_module": "@jupyter-widgets/base",
       "_view_module_version": "1.2.0",
       "_view_name": "LayoutView",
       "align_content": null,
       "align_items": null,
       "align_self": null,
       "border": null,
       "bottom": null,
       "display": null,
       "flex": null,
       "flex_flow": null,
       "grid_area": null,
       "grid_auto_columns": null,
       "grid_auto_flow": null,
       "grid_auto_rows": null,
       "grid_column": null,
       "grid_gap": null,
       "grid_row": null,
       "grid_template_areas": null,
       "grid_template_columns": null,
       "grid_template_rows": null,
       "height": null,
       "justify_content": null,
       "justify_items": null,
       "left": null,
       "margin": null,
       "max_height": null,
       "max_width": null,
       "min_height": null,
       "min_width": null,
       "object_fit": null,
       "object_position": null,
       "order": null,
       "overflow": null,
       "overflow_x": null,
       "overflow_y": null,
       "padding": null,
       "right": null,
       "top": null,
       "visibility": null,
       "width": null
      }
     },
     "634fba37775748adbe6422e90a66e66a": {
      "model_module": "@jupyter-widgets/controls",
      "model_module_version": "1.5.0",
      "model_name": "ProgressStyleModel",
      "state": {
       "_model_module": "@jupyter-widgets/controls",
       "_model_module_version": "1.5.0",
       "_model_name": "ProgressStyleModel",
       "_view_count": null,
       "_view_module": "@jupyter-widgets/base",
       "_view_module_version": "1.2.0",
       "_view_name": "StyleView",
       "bar_color": null,
       "description_width": ""
      }
     },
     "63873061cdf64a5abf3b19cdf722c59d": {
      "model_module": "@jupyter-widgets/controls",
      "model_module_version": "1.5.0",
      "model_name": "DescriptionStyleModel",
      "state": {
       "_model_module": "@jupyter-widgets/controls",
       "_model_module_version": "1.5.0",
       "_model_name": "DescriptionStyleModel",
       "_view_count": null,
       "_view_module": "@jupyter-widgets/base",
       "_view_module_version": "1.2.0",
       "_view_name": "StyleView",
       "description_width": ""
      }
     },
     "6438b5803d3049cc952fd23a3a6c19ab": {
      "model_module": "@jupyter-widgets/base",
      "model_module_version": "1.2.0",
      "model_name": "LayoutModel",
      "state": {
       "_model_module": "@jupyter-widgets/base",
       "_model_module_version": "1.2.0",
       "_model_name": "LayoutModel",
       "_view_count": null,
       "_view_module": "@jupyter-widgets/base",
       "_view_module_version": "1.2.0",
       "_view_name": "LayoutView",
       "align_content": null,
       "align_items": null,
       "align_self": null,
       "border": null,
       "bottom": null,
       "display": null,
       "flex": null,
       "flex_flow": null,
       "grid_area": null,
       "grid_auto_columns": null,
       "grid_auto_flow": null,
       "grid_auto_rows": null,
       "grid_column": null,
       "grid_gap": null,
       "grid_row": null,
       "grid_template_areas": null,
       "grid_template_columns": null,
       "grid_template_rows": null,
       "height": null,
       "justify_content": null,
       "justify_items": null,
       "left": null,
       "margin": null,
       "max_height": null,
       "max_width": null,
       "min_height": null,
       "min_width": null,
       "object_fit": null,
       "object_position": null,
       "order": null,
       "overflow": null,
       "overflow_x": null,
       "overflow_y": null,
       "padding": null,
       "right": null,
       "top": null,
       "visibility": null,
       "width": null
      }
     },
     "656e45aab5294c86b492395f7d533baf": {
      "model_module": "@jupyter-widgets/controls",
      "model_module_version": "1.5.0",
      "model_name": "DescriptionStyleModel",
      "state": {
       "_model_module": "@jupyter-widgets/controls",
       "_model_module_version": "1.5.0",
       "_model_name": "DescriptionStyleModel",
       "_view_count": null,
       "_view_module": "@jupyter-widgets/base",
       "_view_module_version": "1.2.0",
       "_view_name": "StyleView",
       "description_width": ""
      }
     },
     "6599df59363f429b8d00168e998c1616": {
      "model_module": "@jupyter-widgets/controls",
      "model_module_version": "1.5.0",
      "model_name": "DescriptionStyleModel",
      "state": {
       "_model_module": "@jupyter-widgets/controls",
       "_model_module_version": "1.5.0",
       "_model_name": "DescriptionStyleModel",
       "_view_count": null,
       "_view_module": "@jupyter-widgets/base",
       "_view_module_version": "1.2.0",
       "_view_name": "StyleView",
       "description_width": ""
      }
     },
     "661386ea481e4d8eb3e5f6318a5455f0": {
      "model_module": "@jupyter-widgets/controls",
      "model_module_version": "1.5.0",
      "model_name": "ProgressStyleModel",
      "state": {
       "_model_module": "@jupyter-widgets/controls",
       "_model_module_version": "1.5.0",
       "_model_name": "ProgressStyleModel",
       "_view_count": null,
       "_view_module": "@jupyter-widgets/base",
       "_view_module_version": "1.2.0",
       "_view_name": "StyleView",
       "bar_color": null,
       "description_width": ""
      }
     },
     "668b8bf568064ed9891f3d2b66b77da3": {
      "model_module": "@jupyter-widgets/base",
      "model_module_version": "1.2.0",
      "model_name": "LayoutModel",
      "state": {
       "_model_module": "@jupyter-widgets/base",
       "_model_module_version": "1.2.0",
       "_model_name": "LayoutModel",
       "_view_count": null,
       "_view_module": "@jupyter-widgets/base",
       "_view_module_version": "1.2.0",
       "_view_name": "LayoutView",
       "align_content": null,
       "align_items": null,
       "align_self": null,
       "border": null,
       "bottom": null,
       "display": null,
       "flex": null,
       "flex_flow": null,
       "grid_area": null,
       "grid_auto_columns": null,
       "grid_auto_flow": null,
       "grid_auto_rows": null,
       "grid_column": null,
       "grid_gap": null,
       "grid_row": null,
       "grid_template_areas": null,
       "grid_template_columns": null,
       "grid_template_rows": null,
       "height": null,
       "justify_content": null,
       "justify_items": null,
       "left": null,
       "margin": null,
       "max_height": null,
       "max_width": null,
       "min_height": null,
       "min_width": null,
       "object_fit": null,
       "object_position": null,
       "order": null,
       "overflow": null,
       "overflow_x": null,
       "overflow_y": null,
       "padding": null,
       "right": null,
       "top": null,
       "visibility": null,
       "width": null
      }
     },
     "675e7f4535334e7f809a1c9cc1741143": {
      "model_module": "@jupyter-widgets/controls",
      "model_module_version": "1.5.0",
      "model_name": "HBoxModel",
      "state": {
       "_dom_classes": [],
       "_model_module": "@jupyter-widgets/controls",
       "_model_module_version": "1.5.0",
       "_model_name": "HBoxModel",
       "_view_count": null,
       "_view_module": "@jupyter-widgets/controls",
       "_view_module_version": "1.5.0",
       "_view_name": "HBoxView",
       "box_style": "",
       "children": [
        "IPY_MODEL_4198995451564836b0ca21b3eddb095e",
        "IPY_MODEL_34ec0b964ce74619b05efccd7c843431",
        "IPY_MODEL_9c51229425a145dc9a15617dd8dd6d90"
       ],
       "layout": "IPY_MODEL_f4259bf64f214d5c9a3b0cd5d7e72f83"
      }
     },
     "69003af9dc2549f68a3aa8b0620e19a2": {
      "model_module": "@jupyter-widgets/base",
      "model_module_version": "1.2.0",
      "model_name": "LayoutModel",
      "state": {
       "_model_module": "@jupyter-widgets/base",
       "_model_module_version": "1.2.0",
       "_model_name": "LayoutModel",
       "_view_count": null,
       "_view_module": "@jupyter-widgets/base",
       "_view_module_version": "1.2.0",
       "_view_name": "LayoutView",
       "align_content": null,
       "align_items": null,
       "align_self": null,
       "border": null,
       "bottom": null,
       "display": null,
       "flex": null,
       "flex_flow": null,
       "grid_area": null,
       "grid_auto_columns": null,
       "grid_auto_flow": null,
       "grid_auto_rows": null,
       "grid_column": null,
       "grid_gap": null,
       "grid_row": null,
       "grid_template_areas": null,
       "grid_template_columns": null,
       "grid_template_rows": null,
       "height": null,
       "justify_content": null,
       "justify_items": null,
       "left": null,
       "margin": null,
       "max_height": null,
       "max_width": null,
       "min_height": null,
       "min_width": null,
       "object_fit": null,
       "object_position": null,
       "order": null,
       "overflow": null,
       "overflow_x": null,
       "overflow_y": null,
       "padding": null,
       "right": null,
       "top": null,
       "visibility": null,
       "width": null
      }
     },
     "6bc5f05b9e3a4c319154671af785b13f": {
      "model_module": "@jupyter-widgets/controls",
      "model_module_version": "1.5.0",
      "model_name": "DescriptionStyleModel",
      "state": {
       "_model_module": "@jupyter-widgets/controls",
       "_model_module_version": "1.5.0",
       "_model_name": "DescriptionStyleModel",
       "_view_count": null,
       "_view_module": "@jupyter-widgets/base",
       "_view_module_version": "1.2.0",
       "_view_name": "StyleView",
       "description_width": ""
      }
     },
     "6c7fcaed55f9426a8568cfb0dc37df40": {
      "model_module": "@jupyter-widgets/controls",
      "model_module_version": "1.5.0",
      "model_name": "FloatProgressModel",
      "state": {
       "_dom_classes": [],
       "_model_module": "@jupyter-widgets/controls",
       "_model_module_version": "1.5.0",
       "_model_name": "FloatProgressModel",
       "_view_count": null,
       "_view_module": "@jupyter-widgets/controls",
       "_view_module_version": "1.5.0",
       "_view_name": "ProgressView",
       "bar_style": "",
       "description": "",
       "description_tooltip": null,
       "layout": "IPY_MODEL_149b8383ac6748a19598c518cb4d39d0",
       "max": 3,
       "min": 0,
       "orientation": "horizontal",
       "style": "IPY_MODEL_951a3e9506df48118ae42aaf142bb553",
       "value": 3
      }
     },
     "6fbaf2a392d44c2389b623fe30194bcb": {
      "model_module": "@jupyter-widgets/base",
      "model_module_version": "1.2.0",
      "model_name": "LayoutModel",
      "state": {
       "_model_module": "@jupyter-widgets/base",
       "_model_module_version": "1.2.0",
       "_model_name": "LayoutModel",
       "_view_count": null,
       "_view_module": "@jupyter-widgets/base",
       "_view_module_version": "1.2.0",
       "_view_name": "LayoutView",
       "align_content": null,
       "align_items": null,
       "align_self": null,
       "border": null,
       "bottom": null,
       "display": null,
       "flex": null,
       "flex_flow": null,
       "grid_area": null,
       "grid_auto_columns": null,
       "grid_auto_flow": null,
       "grid_auto_rows": null,
       "grid_column": null,
       "grid_gap": null,
       "grid_row": null,
       "grid_template_areas": null,
       "grid_template_columns": null,
       "grid_template_rows": null,
       "height": null,
       "justify_content": null,
       "justify_items": null,
       "left": null,
       "margin": null,
       "max_height": null,
       "max_width": null,
       "min_height": null,
       "min_width": null,
       "object_fit": null,
       "object_position": null,
       "order": null,
       "overflow": null,
       "overflow_x": null,
       "overflow_y": null,
       "padding": null,
       "right": null,
       "top": null,
       "visibility": null,
       "width": null
      }
     },
     "70b15dfa4d304e20b61f89f8260619f8": {
      "model_module": "@jupyter-widgets/controls",
      "model_module_version": "1.5.0",
      "model_name": "ProgressStyleModel",
      "state": {
       "_model_module": "@jupyter-widgets/controls",
       "_model_module_version": "1.5.0",
       "_model_name": "ProgressStyleModel",
       "_view_count": null,
       "_view_module": "@jupyter-widgets/base",
       "_view_module_version": "1.2.0",
       "_view_name": "StyleView",
       "bar_color": null,
       "description_width": ""
      }
     },
     "731c9ab36de54393a58c4d546ceb61fe": {
      "model_module": "@jupyter-widgets/controls",
      "model_module_version": "1.5.0",
      "model_name": "ProgressStyleModel",
      "state": {
       "_model_module": "@jupyter-widgets/controls",
       "_model_module_version": "1.5.0",
       "_model_name": "ProgressStyleModel",
       "_view_count": null,
       "_view_module": "@jupyter-widgets/base",
       "_view_module_version": "1.2.0",
       "_view_name": "StyleView",
       "bar_color": null,
       "description_width": ""
      }
     },
     "734cc13d536c4cc0a2e9bf0251c5a2d7": {
      "model_module": "@jupyter-widgets/base",
      "model_module_version": "1.2.0",
      "model_name": "LayoutModel",
      "state": {
       "_model_module": "@jupyter-widgets/base",
       "_model_module_version": "1.2.0",
       "_model_name": "LayoutModel",
       "_view_count": null,
       "_view_module": "@jupyter-widgets/base",
       "_view_module_version": "1.2.0",
       "_view_name": "LayoutView",
       "align_content": null,
       "align_items": null,
       "align_self": null,
       "border": null,
       "bottom": null,
       "display": null,
       "flex": null,
       "flex_flow": null,
       "grid_area": null,
       "grid_auto_columns": null,
       "grid_auto_flow": null,
       "grid_auto_rows": null,
       "grid_column": null,
       "grid_gap": null,
       "grid_row": null,
       "grid_template_areas": null,
       "grid_template_columns": null,
       "grid_template_rows": null,
       "height": null,
       "justify_content": null,
       "justify_items": null,
       "left": null,
       "margin": null,
       "max_height": null,
       "max_width": null,
       "min_height": null,
       "min_width": null,
       "object_fit": null,
       "object_position": null,
       "order": null,
       "overflow": null,
       "overflow_x": null,
       "overflow_y": null,
       "padding": null,
       "right": null,
       "top": null,
       "visibility": null,
       "width": null
      }
     },
     "7486c0e8e6a54adfb0983b7ea4122461": {
      "model_module": "@jupyter-widgets/base",
      "model_module_version": "1.2.0",
      "model_name": "LayoutModel",
      "state": {
       "_model_module": "@jupyter-widgets/base",
       "_model_module_version": "1.2.0",
       "_model_name": "LayoutModel",
       "_view_count": null,
       "_view_module": "@jupyter-widgets/base",
       "_view_module_version": "1.2.0",
       "_view_name": "LayoutView",
       "align_content": null,
       "align_items": null,
       "align_self": null,
       "border": null,
       "bottom": null,
       "display": null,
       "flex": null,
       "flex_flow": null,
       "grid_area": null,
       "grid_auto_columns": null,
       "grid_auto_flow": null,
       "grid_auto_rows": null,
       "grid_column": null,
       "grid_gap": null,
       "grid_row": null,
       "grid_template_areas": null,
       "grid_template_columns": null,
       "grid_template_rows": null,
       "height": null,
       "justify_content": null,
       "justify_items": null,
       "left": null,
       "margin": null,
       "max_height": null,
       "max_width": null,
       "min_height": null,
       "min_width": null,
       "object_fit": null,
       "object_position": null,
       "order": null,
       "overflow": null,
       "overflow_x": null,
       "overflow_y": null,
       "padding": null,
       "right": null,
       "top": null,
       "visibility": null,
       "width": null
      }
     },
     "75d3db6fd7714057a886e9686810d89d": {
      "model_module": "@jupyter-widgets/base",
      "model_module_version": "1.2.0",
      "model_name": "LayoutModel",
      "state": {
       "_model_module": "@jupyter-widgets/base",
       "_model_module_version": "1.2.0",
       "_model_name": "LayoutModel",
       "_view_count": null,
       "_view_module": "@jupyter-widgets/base",
       "_view_module_version": "1.2.0",
       "_view_name": "LayoutView",
       "align_content": null,
       "align_items": null,
       "align_self": null,
       "border": null,
       "bottom": null,
       "display": null,
       "flex": null,
       "flex_flow": null,
       "grid_area": null,
       "grid_auto_columns": null,
       "grid_auto_flow": null,
       "grid_auto_rows": null,
       "grid_column": null,
       "grid_gap": null,
       "grid_row": null,
       "grid_template_areas": null,
       "grid_template_columns": null,
       "grid_template_rows": null,
       "height": null,
       "justify_content": null,
       "justify_items": null,
       "left": null,
       "margin": null,
       "max_height": null,
       "max_width": null,
       "min_height": null,
       "min_width": null,
       "object_fit": null,
       "object_position": null,
       "order": null,
       "overflow": null,
       "overflow_x": null,
       "overflow_y": null,
       "padding": null,
       "right": null,
       "top": null,
       "visibility": null,
       "width": null
      }
     },
     "7d7cf546154d4c5e824d1d7cad210bd7": {
      "model_module": "@jupyter-widgets/controls",
      "model_module_version": "1.5.0",
      "model_name": "HTMLModel",
      "state": {
       "_dom_classes": [],
       "_model_module": "@jupyter-widgets/controls",
       "_model_module_version": "1.5.0",
       "_model_name": "HTMLModel",
       "_view_count": null,
       "_view_module": "@jupyter-widgets/controls",
       "_view_module_version": "1.5.0",
       "_view_name": "HTMLView",
       "description": "",
       "description_tooltip": null,
       "layout": "IPY_MODEL_e7f1538613d04eec8d16faae9eb3d26f",
       "placeholder": "​",
       "style": "IPY_MODEL_8c3caee219284c3cab9aa1629fb4d44c",
       "value": "100%"
      }
     },
     "7e927831cecf495594f8080c3e5c3c67": {
      "model_module": "@jupyter-widgets/controls",
      "model_module_version": "1.5.0",
      "model_name": "HTMLModel",
      "state": {
       "_dom_classes": [],
       "_model_module": "@jupyter-widgets/controls",
       "_model_module_version": "1.5.0",
       "_model_name": "HTMLModel",
       "_view_count": null,
       "_view_module": "@jupyter-widgets/controls",
       "_view_module_version": "1.5.0",
       "_view_name": "HTMLView",
       "description": "",
       "description_tooltip": null,
       "layout": "IPY_MODEL_cdbf8049a31d4470b90227b5b18611d7",
       "placeholder": "​",
       "style": "IPY_MODEL_2196a705261442aca6e3dcc032b6eb86",
       "value": "100%"
      }
     },
     "7fa65ca3f5bf47b18d526ca93993480e": {
      "model_module": "@jupyter-widgets/controls",
      "model_module_version": "1.5.0",
      "model_name": "DescriptionStyleModel",
      "state": {
       "_model_module": "@jupyter-widgets/controls",
       "_model_module_version": "1.5.0",
       "_model_name": "DescriptionStyleModel",
       "_view_count": null,
       "_view_module": "@jupyter-widgets/base",
       "_view_module_version": "1.2.0",
       "_view_name": "StyleView",
       "description_width": ""
      }
     },
     "8075388bf2cb4e8f9ac3186fd15831b7": {
      "model_module": "@jupyter-widgets/controls",
      "model_module_version": "1.5.0",
      "model_name": "HBoxModel",
      "state": {
       "_dom_classes": [],
       "_model_module": "@jupyter-widgets/controls",
       "_model_module_version": "1.5.0",
       "_model_name": "HBoxModel",
       "_view_count": null,
       "_view_module": "@jupyter-widgets/controls",
       "_view_module_version": "1.5.0",
       "_view_name": "HBoxView",
       "box_style": "",
       "children": [
        "IPY_MODEL_b59bc9469fa24a00a971373f2dd89105",
        "IPY_MODEL_a09e534d37c84fbf8f53d1ac7b5fd8af",
        "IPY_MODEL_169df21288ca4ccbbf9ecad27975ed0c"
       ],
       "layout": "IPY_MODEL_f63660e0ad9142a095baa8563cb1224f"
      }
     },
     "80e33761aaae47e983b2c0fc3921f0e2": {
      "model_module": "@jupyter-widgets/controls",
      "model_module_version": "1.5.0",
      "model_name": "HBoxModel",
      "state": {
       "_dom_classes": [],
       "_model_module": "@jupyter-widgets/controls",
       "_model_module_version": "1.5.0",
       "_model_name": "HBoxModel",
       "_view_count": null,
       "_view_module": "@jupyter-widgets/controls",
       "_view_module_version": "1.5.0",
       "_view_name": "HBoxView",
       "box_style": "",
       "children": [
        "IPY_MODEL_89537a86ebc64b88be1d3fbaf1a551ce",
        "IPY_MODEL_b2929eda406a4a37bc0f279ad04d2150",
        "IPY_MODEL_2bfe1d474ed74bf88b33587380fb3fce"
       ],
       "layout": "IPY_MODEL_a4f57628b4bb48a2aa6d1ff48c356419"
      }
     },
     "817551027c4a4adfa9b4db52d72fb237": {
      "model_module": "@jupyter-widgets/controls",
      "model_module_version": "1.5.0",
      "model_name": "ProgressStyleModel",
      "state": {
       "_model_module": "@jupyter-widgets/controls",
       "_model_module_version": "1.5.0",
       "_model_name": "ProgressStyleModel",
       "_view_count": null,
       "_view_module": "@jupyter-widgets/base",
       "_view_module_version": "1.2.0",
       "_view_name": "StyleView",
       "bar_color": null,
       "description_width": ""
      }
     },
     "841f6f50fe074827a014105ff60469f6": {
      "model_module": "@jupyter-widgets/controls",
      "model_module_version": "1.5.0",
      "model_name": "ProgressStyleModel",
      "state": {
       "_model_module": "@jupyter-widgets/controls",
       "_model_module_version": "1.5.0",
       "_model_name": "ProgressStyleModel",
       "_view_count": null,
       "_view_module": "@jupyter-widgets/base",
       "_view_module_version": "1.2.0",
       "_view_name": "StyleView",
       "bar_color": null,
       "description_width": ""
      }
     },
     "87a51cc8d1c649d48d965585f24e1338": {
      "model_module": "@jupyter-widgets/controls",
      "model_module_version": "1.5.0",
      "model_name": "HBoxModel",
      "state": {
       "_dom_classes": [],
       "_model_module": "@jupyter-widgets/controls",
       "_model_module_version": "1.5.0",
       "_model_name": "HBoxModel",
       "_view_count": null,
       "_view_module": "@jupyter-widgets/controls",
       "_view_module_version": "1.5.0",
       "_view_name": "HBoxView",
       "box_style": "",
       "children": [
        "IPY_MODEL_8dc5a3c4b3e848479d4f1aecbcba3e5e",
        "IPY_MODEL_94eef3502c9948da84eec33682aa13c8",
        "IPY_MODEL_05641d54725747f5b224cf189f3ab846"
       ],
       "layout": "IPY_MODEL_734cc13d536c4cc0a2e9bf0251c5a2d7"
      }
     },
     "89537a86ebc64b88be1d3fbaf1a551ce": {
      "model_module": "@jupyter-widgets/controls",
      "model_module_version": "1.5.0",
      "model_name": "HTMLModel",
      "state": {
       "_dom_classes": [],
       "_model_module": "@jupyter-widgets/controls",
       "_model_module_version": "1.5.0",
       "_model_name": "HTMLModel",
       "_view_count": null,
       "_view_module": "@jupyter-widgets/controls",
       "_view_module_version": "1.5.0",
       "_view_name": "HTMLView",
       "description": "",
       "description_tooltip": null,
       "layout": "IPY_MODEL_a0e3250ed2af4cf08aad8d876278554a",
       "placeholder": "​",
       "style": "IPY_MODEL_225ec041be324e55be140ca486db88d0",
       "value": "100%"
      }
     },
     "89b77911bd744771b2df206286fb2a84": {
      "model_module": "@jupyter-widgets/base",
      "model_module_version": "1.2.0",
      "model_name": "LayoutModel",
      "state": {
       "_model_module": "@jupyter-widgets/base",
       "_model_module_version": "1.2.0",
       "_model_name": "LayoutModel",
       "_view_count": null,
       "_view_module": "@jupyter-widgets/base",
       "_view_module_version": "1.2.0",
       "_view_name": "LayoutView",
       "align_content": null,
       "align_items": null,
       "align_self": null,
       "border": null,
       "bottom": null,
       "display": null,
       "flex": null,
       "flex_flow": null,
       "grid_area": null,
       "grid_auto_columns": null,
       "grid_auto_flow": null,
       "grid_auto_rows": null,
       "grid_column": null,
       "grid_gap": null,
       "grid_row": null,
       "grid_template_areas": null,
       "grid_template_columns": null,
       "grid_template_rows": null,
       "height": null,
       "justify_content": null,
       "justify_items": null,
       "left": null,
       "margin": null,
       "max_height": null,
       "max_width": null,
       "min_height": null,
       "min_width": null,
       "object_fit": null,
       "object_position": null,
       "order": null,
       "overflow": null,
       "overflow_x": null,
       "overflow_y": null,
       "padding": null,
       "right": null,
       "top": null,
       "visibility": null,
       "width": null
      }
     },
     "8b3dfea530fa430c8a96f83147b3555b": {
      "model_module": "@jupyter-widgets/base",
      "model_module_version": "1.2.0",
      "model_name": "LayoutModel",
      "state": {
       "_model_module": "@jupyter-widgets/base",
       "_model_module_version": "1.2.0",
       "_model_name": "LayoutModel",
       "_view_count": null,
       "_view_module": "@jupyter-widgets/base",
       "_view_module_version": "1.2.0",
       "_view_name": "LayoutView",
       "align_content": null,
       "align_items": null,
       "align_self": null,
       "border": null,
       "bottom": null,
       "display": null,
       "flex": null,
       "flex_flow": null,
       "grid_area": null,
       "grid_auto_columns": null,
       "grid_auto_flow": null,
       "grid_auto_rows": null,
       "grid_column": null,
       "grid_gap": null,
       "grid_row": null,
       "grid_template_areas": null,
       "grid_template_columns": null,
       "grid_template_rows": null,
       "height": null,
       "justify_content": null,
       "justify_items": null,
       "left": null,
       "margin": null,
       "max_height": null,
       "max_width": null,
       "min_height": null,
       "min_width": null,
       "object_fit": null,
       "object_position": null,
       "order": null,
       "overflow": null,
       "overflow_x": null,
       "overflow_y": null,
       "padding": null,
       "right": null,
       "top": null,
       "visibility": null,
       "width": null
      }
     },
     "8b58305c1cfd4a40a4ed732e2e8cdc84": {
      "model_module": "@jupyter-widgets/base",
      "model_module_version": "1.2.0",
      "model_name": "LayoutModel",
      "state": {
       "_model_module": "@jupyter-widgets/base",
       "_model_module_version": "1.2.0",
       "_model_name": "LayoutModel",
       "_view_count": null,
       "_view_module": "@jupyter-widgets/base",
       "_view_module_version": "1.2.0",
       "_view_name": "LayoutView",
       "align_content": null,
       "align_items": null,
       "align_self": null,
       "border": null,
       "bottom": null,
       "display": null,
       "flex": null,
       "flex_flow": null,
       "grid_area": null,
       "grid_auto_columns": null,
       "grid_auto_flow": null,
       "grid_auto_rows": null,
       "grid_column": null,
       "grid_gap": null,
       "grid_row": null,
       "grid_template_areas": null,
       "grid_template_columns": null,
       "grid_template_rows": null,
       "height": null,
       "justify_content": null,
       "justify_items": null,
       "left": null,
       "margin": null,
       "max_height": null,
       "max_width": null,
       "min_height": null,
       "min_width": null,
       "object_fit": null,
       "object_position": null,
       "order": null,
       "overflow": null,
       "overflow_x": null,
       "overflow_y": null,
       "padding": null,
       "right": null,
       "top": null,
       "visibility": null,
       "width": null
      }
     },
     "8bad984850a940b0bd15679c857a8342": {
      "model_module": "@jupyter-widgets/controls",
      "model_module_version": "1.5.0",
      "model_name": "DescriptionStyleModel",
      "state": {
       "_model_module": "@jupyter-widgets/controls",
       "_model_module_version": "1.5.0",
       "_model_name": "DescriptionStyleModel",
       "_view_count": null,
       "_view_module": "@jupyter-widgets/base",
       "_view_module_version": "1.2.0",
       "_view_name": "StyleView",
       "description_width": ""
      }
     },
     "8c3970c1115142a0b807db3b0a54cf7e": {
      "model_module": "@jupyter-widgets/controls",
      "model_module_version": "1.5.0",
      "model_name": "FloatProgressModel",
      "state": {
       "_dom_classes": [],
       "_model_module": "@jupyter-widgets/controls",
       "_model_module_version": "1.5.0",
       "_model_name": "FloatProgressModel",
       "_view_count": null,
       "_view_module": "@jupyter-widgets/controls",
       "_view_module_version": "1.5.0",
       "_view_name": "ProgressView",
       "bar_style": "",
       "description": "",
       "description_tooltip": null,
       "layout": "IPY_MODEL_5db1ec7ca31c42f3b8015e4b0be26424",
       "max": 2,
       "min": 0,
       "orientation": "horizontal",
       "style": "IPY_MODEL_99539a0993264cf69ff37cc95bcbc861",
       "value": 2
      }
     },
     "8c3caee219284c3cab9aa1629fb4d44c": {
      "model_module": "@jupyter-widgets/controls",
      "model_module_version": "1.5.0",
      "model_name": "DescriptionStyleModel",
      "state": {
       "_model_module": "@jupyter-widgets/controls",
       "_model_module_version": "1.5.0",
       "_model_name": "DescriptionStyleModel",
       "_view_count": null,
       "_view_module": "@jupyter-widgets/base",
       "_view_module_version": "1.2.0",
       "_view_name": "StyleView",
       "description_width": ""
      }
     },
     "8d3e351f0db74f178e9a26737f6bfe0b": {
      "model_module": "@jupyter-widgets/controls",
      "model_module_version": "1.5.0",
      "model_name": "DescriptionStyleModel",
      "state": {
       "_model_module": "@jupyter-widgets/controls",
       "_model_module_version": "1.5.0",
       "_model_name": "DescriptionStyleModel",
       "_view_count": null,
       "_view_module": "@jupyter-widgets/base",
       "_view_module_version": "1.2.0",
       "_view_name": "StyleView",
       "description_width": ""
      }
     },
     "8d5c274378ea49dea8da633d4bc0f92a": {
      "model_module": "@jupyter-widgets/controls",
      "model_module_version": "1.5.0",
      "model_name": "HTMLModel",
      "state": {
       "_dom_classes": [],
       "_model_module": "@jupyter-widgets/controls",
       "_model_module_version": "1.5.0",
       "_model_name": "HTMLModel",
       "_view_count": null,
       "_view_module": "@jupyter-widgets/controls",
       "_view_module_version": "1.5.0",
       "_view_name": "HTMLView",
       "description": "",
       "description_tooltip": null,
       "layout": "IPY_MODEL_b824bdb031294df0b6fbf99ed7c556ef",
       "placeholder": "​",
       "style": "IPY_MODEL_b830149aaf8a4516bc760143421ed224",
       "value": " 2/2 [01:19&lt;00:00, 42.70s/it]"
      }
     },
     "8dc5a3c4b3e848479d4f1aecbcba3e5e": {
      "model_module": "@jupyter-widgets/controls",
      "model_module_version": "1.5.0",
      "model_name": "HTMLModel",
      "state": {
       "_dom_classes": [],
       "_model_module": "@jupyter-widgets/controls",
       "_model_module_version": "1.5.0",
       "_model_name": "HTMLModel",
       "_view_count": null,
       "_view_module": "@jupyter-widgets/controls",
       "_view_module_version": "1.5.0",
       "_view_name": "HTMLView",
       "description": "",
       "description_tooltip": null,
       "layout": "IPY_MODEL_a63dfd6961c04d28946cd4d0bef145b4",
       "placeholder": "​",
       "style": "IPY_MODEL_1d3e5ced52ed4d1f8606658e6536b10b",
       "value": "100%"
      }
     },
     "8ddce72fab9542cda6bc8a9bfd9a1347": {
      "model_module": "@jupyter-widgets/controls",
      "model_module_version": "1.5.0",
      "model_name": "HBoxModel",
      "state": {
       "_dom_classes": [],
       "_model_module": "@jupyter-widgets/controls",
       "_model_module_version": "1.5.0",
       "_model_name": "HBoxModel",
       "_view_count": null,
       "_view_module": "@jupyter-widgets/controls",
       "_view_module_version": "1.5.0",
       "_view_name": "HBoxView",
       "box_style": "",
       "children": [
        "IPY_MODEL_0b07651a77534449b206169894d702cf",
        "IPY_MODEL_472ed455420a44a08b1ec82bb3b3f3a6",
        "IPY_MODEL_c576ae179baf4a59a686dcb4d3b61cf3"
       ],
       "layout": "IPY_MODEL_140df8b71b614c9c99764691a7ab5250"
      }
     },
     "8e9284fa38264bc0a89da03ac893c3ba": {
      "model_module": "@jupyter-widgets/base",
      "model_module_version": "1.2.0",
      "model_name": "LayoutModel",
      "state": {
       "_model_module": "@jupyter-widgets/base",
       "_model_module_version": "1.2.0",
       "_model_name": "LayoutModel",
       "_view_count": null,
       "_view_module": "@jupyter-widgets/base",
       "_view_module_version": "1.2.0",
       "_view_name": "LayoutView",
       "align_content": null,
       "align_items": null,
       "align_self": null,
       "border": null,
       "bottom": null,
       "display": null,
       "flex": null,
       "flex_flow": null,
       "grid_area": null,
       "grid_auto_columns": null,
       "grid_auto_flow": null,
       "grid_auto_rows": null,
       "grid_column": null,
       "grid_gap": null,
       "grid_row": null,
       "grid_template_areas": null,
       "grid_template_columns": null,
       "grid_template_rows": null,
       "height": null,
       "justify_content": null,
       "justify_items": null,
       "left": null,
       "margin": null,
       "max_height": null,
       "max_width": null,
       "min_height": null,
       "min_width": null,
       "object_fit": null,
       "object_position": null,
       "order": null,
       "overflow": null,
       "overflow_x": null,
       "overflow_y": null,
       "padding": null,
       "right": null,
       "top": null,
       "visibility": null,
       "width": null
      }
     },
     "8f0693f5c94743feb00073f4ca4ddc0d": {
      "model_module": "@jupyter-widgets/controls",
      "model_module_version": "1.5.0",
      "model_name": "HTMLModel",
      "state": {
       "_dom_classes": [],
       "_model_module": "@jupyter-widgets/controls",
       "_model_module_version": "1.5.0",
       "_model_name": "HTMLModel",
       "_view_count": null,
       "_view_module": "@jupyter-widgets/controls",
       "_view_module_version": "1.5.0",
       "_view_name": "HTMLView",
       "description": "",
       "description_tooltip": null,
       "layout": "IPY_MODEL_23ae5158047b433f8eed0f1920e8d04e",
       "placeholder": "​",
       "style": "IPY_MODEL_8bad984850a940b0bd15679c857a8342",
       "value": "100%"
      }
     },
     "91c244c639284247b49ede3892a7c7ee": {
      "model_module": "@jupyter-widgets/controls",
      "model_module_version": "1.5.0",
      "model_name": "HTMLModel",
      "state": {
       "_dom_classes": [],
       "_model_module": "@jupyter-widgets/controls",
       "_model_module_version": "1.5.0",
       "_model_name": "HTMLModel",
       "_view_count": null,
       "_view_module": "@jupyter-widgets/controls",
       "_view_module_version": "1.5.0",
       "_view_name": "HTMLView",
       "description": "",
       "description_tooltip": null,
       "layout": "IPY_MODEL_e50e87c6a188474da71277242eb107a8",
       "placeholder": "​",
       "style": "IPY_MODEL_3dfdd006574242a6a2f8f1f816d432f1",
       "value": "100%"
      }
     },
     "941dcd308cfd49499cfd0ea2b76f5d0f": {
      "model_module": "@jupyter-widgets/controls",
      "model_module_version": "1.5.0",
      "model_name": "DescriptionStyleModel",
      "state": {
       "_model_module": "@jupyter-widgets/controls",
       "_model_module_version": "1.5.0",
       "_model_name": "DescriptionStyleModel",
       "_view_count": null,
       "_view_module": "@jupyter-widgets/base",
       "_view_module_version": "1.2.0",
       "_view_name": "StyleView",
       "description_width": ""
      }
     },
     "94782e1dfa1a47e89822943bc82218d4": {
      "model_module": "@jupyter-widgets/controls",
      "model_module_version": "1.5.0",
      "model_name": "DescriptionStyleModel",
      "state": {
       "_model_module": "@jupyter-widgets/controls",
       "_model_module_version": "1.5.0",
       "_model_name": "DescriptionStyleModel",
       "_view_count": null,
       "_view_module": "@jupyter-widgets/base",
       "_view_module_version": "1.2.0",
       "_view_name": "StyleView",
       "description_width": ""
      }
     },
     "9483d5c74228400d9b31542314631dce": {
      "model_module": "@jupyter-widgets/controls",
      "model_module_version": "1.5.0",
      "model_name": "HBoxModel",
      "state": {
       "_dom_classes": [],
       "_model_module": "@jupyter-widgets/controls",
       "_model_module_version": "1.5.0",
       "_model_name": "HBoxModel",
       "_view_count": null,
       "_view_module": "@jupyter-widgets/controls",
       "_view_module_version": "1.5.0",
       "_view_name": "HBoxView",
       "box_style": "",
       "children": [
        "IPY_MODEL_dc01d5e4aebc4c52bf43a11752aee485",
        "IPY_MODEL_222a82d0e5394d8f99237ab393af026a",
        "IPY_MODEL_29e62566f614428ea796bf7cb070e08b"
       ],
       "layout": "IPY_MODEL_48d0852952364d50ac481574304434cc"
      }
     },
     "94eef3502c9948da84eec33682aa13c8": {
      "model_module": "@jupyter-widgets/controls",
      "model_module_version": "1.5.0",
      "model_name": "FloatProgressModel",
      "state": {
       "_dom_classes": [],
       "_model_module": "@jupyter-widgets/controls",
       "_model_module_version": "1.5.0",
       "_model_name": "FloatProgressModel",
       "_view_count": null,
       "_view_module": "@jupyter-widgets/controls",
       "_view_module_version": "1.5.0",
       "_view_name": "ProgressView",
       "bar_style": "",
       "description": "",
       "description_tooltip": null,
       "layout": "IPY_MODEL_b631075cf31a410bae2887b10f4d47f9",
       "max": 3,
       "min": 0,
       "orientation": "horizontal",
       "style": "IPY_MODEL_fef2d0b1d0ff484596f7dd5935a205ff",
       "value": 3
      }
     },
     "951a3e9506df48118ae42aaf142bb553": {
      "model_module": "@jupyter-widgets/controls",
      "model_module_version": "1.5.0",
      "model_name": "ProgressStyleModel",
      "state": {
       "_model_module": "@jupyter-widgets/controls",
       "_model_module_version": "1.5.0",
       "_model_name": "ProgressStyleModel",
       "_view_count": null,
       "_view_module": "@jupyter-widgets/base",
       "_view_module_version": "1.2.0",
       "_view_name": "StyleView",
       "bar_color": null,
       "description_width": ""
      }
     },
     "98e4a197e1e143a19952f5dd3231bf09": {
      "model_module": "@jupyter-widgets/controls",
      "model_module_version": "1.5.0",
      "model_name": "FloatProgressModel",
      "state": {
       "_dom_classes": [],
       "_model_module": "@jupyter-widgets/controls",
       "_model_module_version": "1.5.0",
       "_model_name": "FloatProgressModel",
       "_view_count": null,
       "_view_module": "@jupyter-widgets/controls",
       "_view_module_version": "1.5.0",
       "_view_name": "ProgressView",
       "bar_style": "",
       "description": "",
       "description_tooltip": null,
       "layout": "IPY_MODEL_668b8bf568064ed9891f3d2b66b77da3",
       "max": 3,
       "min": 0,
       "orientation": "horizontal",
       "style": "IPY_MODEL_1660e30ebb6b43119e7195fd5291473f",
       "value": 3
      }
     },
     "99539a0993264cf69ff37cc95bcbc861": {
      "model_module": "@jupyter-widgets/controls",
      "model_module_version": "1.5.0",
      "model_name": "ProgressStyleModel",
      "state": {
       "_model_module": "@jupyter-widgets/controls",
       "_model_module_version": "1.5.0",
       "_model_name": "ProgressStyleModel",
       "_view_count": null,
       "_view_module": "@jupyter-widgets/base",
       "_view_module_version": "1.2.0",
       "_view_name": "StyleView",
       "bar_color": null,
       "description_width": ""
      }
     },
     "9c51229425a145dc9a15617dd8dd6d90": {
      "model_module": "@jupyter-widgets/controls",
      "model_module_version": "1.5.0",
      "model_name": "HTMLModel",
      "state": {
       "_dom_classes": [],
       "_model_module": "@jupyter-widgets/controls",
       "_model_module_version": "1.5.0",
       "_model_name": "HTMLModel",
       "_view_count": null,
       "_view_module": "@jupyter-widgets/controls",
       "_view_module_version": "1.5.0",
       "_view_name": "HTMLView",
       "description": "",
       "description_tooltip": null,
       "layout": "IPY_MODEL_b4e1c8b55e914b25bcff5c2ce84a7bc7",
       "placeholder": "​",
       "style": "IPY_MODEL_273d4795d628438a92e4bd68b9c48f9a",
       "value": " 2/2 [01:19&lt;00:00, 42.67s/it]"
      }
     },
     "a05b735121184fefa05840d80fcac717": {
      "model_module": "@jupyter-widgets/controls",
      "model_module_version": "1.5.0",
      "model_name": "FloatProgressModel",
      "state": {
       "_dom_classes": [],
       "_model_module": "@jupyter-widgets/controls",
       "_model_module_version": "1.5.0",
       "_model_name": "FloatProgressModel",
       "_view_count": null,
       "_view_module": "@jupyter-widgets/controls",
       "_view_module_version": "1.5.0",
       "_view_name": "ProgressView",
       "bar_style": "",
       "description": "",
       "description_tooltip": null,
       "layout": "IPY_MODEL_89b77911bd744771b2df206286fb2a84",
       "max": 4,
       "min": 0,
       "orientation": "horizontal",
       "style": "IPY_MODEL_634fba37775748adbe6422e90a66e66a",
       "value": 4
      }
     },
     "a09e534d37c84fbf8f53d1ac7b5fd8af": {
      "model_module": "@jupyter-widgets/controls",
      "model_module_version": "1.5.0",
      "model_name": "FloatProgressModel",
      "state": {
       "_dom_classes": [],
       "_model_module": "@jupyter-widgets/controls",
       "_model_module_version": "1.5.0",
       "_model_name": "FloatProgressModel",
       "_view_count": null,
       "_view_module": "@jupyter-widgets/controls",
       "_view_module_version": "1.5.0",
       "_view_name": "ProgressView",
       "bar_style": "",
       "description": "",
       "description_tooltip": null,
       "layout": "IPY_MODEL_5dfafa605ffa404eb68c7db3d8ae8520",
       "max": 2,
       "min": 0,
       "orientation": "horizontal",
       "style": "IPY_MODEL_731c9ab36de54393a58c4d546ceb61fe",
       "value": 2
      }
     },
     "a0bb08730be44084bd03c2683182bf1b": {
      "model_module": "@jupyter-widgets/base",
      "model_module_version": "1.2.0",
      "model_name": "LayoutModel",
      "state": {
       "_model_module": "@jupyter-widgets/base",
       "_model_module_version": "1.2.0",
       "_model_name": "LayoutModel",
       "_view_count": null,
       "_view_module": "@jupyter-widgets/base",
       "_view_module_version": "1.2.0",
       "_view_name": "LayoutView",
       "align_content": null,
       "align_items": null,
       "align_self": null,
       "border": null,
       "bottom": null,
       "display": null,
       "flex": null,
       "flex_flow": null,
       "grid_area": null,
       "grid_auto_columns": null,
       "grid_auto_flow": null,
       "grid_auto_rows": null,
       "grid_column": null,
       "grid_gap": null,
       "grid_row": null,
       "grid_template_areas": null,
       "grid_template_columns": null,
       "grid_template_rows": null,
       "height": null,
       "justify_content": null,
       "justify_items": null,
       "left": null,
       "margin": null,
       "max_height": null,
       "max_width": null,
       "min_height": null,
       "min_width": null,
       "object_fit": null,
       "object_position": null,
       "order": null,
       "overflow": null,
       "overflow_x": null,
       "overflow_y": null,
       "padding": null,
       "right": null,
       "top": null,
       "visibility": null,
       "width": null
      }
     },
     "a0e3250ed2af4cf08aad8d876278554a": {
      "model_module": "@jupyter-widgets/base",
      "model_module_version": "1.2.0",
      "model_name": "LayoutModel",
      "state": {
       "_model_module": "@jupyter-widgets/base",
       "_model_module_version": "1.2.0",
       "_model_name": "LayoutModel",
       "_view_count": null,
       "_view_module": "@jupyter-widgets/base",
       "_view_module_version": "1.2.0",
       "_view_name": "LayoutView",
       "align_content": null,
       "align_items": null,
       "align_self": null,
       "border": null,
       "bottom": null,
       "display": null,
       "flex": null,
       "flex_flow": null,
       "grid_area": null,
       "grid_auto_columns": null,
       "grid_auto_flow": null,
       "grid_auto_rows": null,
       "grid_column": null,
       "grid_gap": null,
       "grid_row": null,
       "grid_template_areas": null,
       "grid_template_columns": null,
       "grid_template_rows": null,
       "height": null,
       "justify_content": null,
       "justify_items": null,
       "left": null,
       "margin": null,
       "max_height": null,
       "max_width": null,
       "min_height": null,
       "min_width": null,
       "object_fit": null,
       "object_position": null,
       "order": null,
       "overflow": null,
       "overflow_x": null,
       "overflow_y": null,
       "padding": null,
       "right": null,
       "top": null,
       "visibility": null,
       "width": null
      }
     },
     "a1c2f8de926d4eb68106a0bf6ac8765e": {
      "model_module": "@jupyter-widgets/controls",
      "model_module_version": "1.5.0",
      "model_name": "DescriptionStyleModel",
      "state": {
       "_model_module": "@jupyter-widgets/controls",
       "_model_module_version": "1.5.0",
       "_model_name": "DescriptionStyleModel",
       "_view_count": null,
       "_view_module": "@jupyter-widgets/base",
       "_view_module_version": "1.2.0",
       "_view_name": "StyleView",
       "description_width": ""
      }
     },
     "a25c7b382ff042c282bc52ae9d7309df": {
      "model_module": "@jupyter-widgets/controls",
      "model_module_version": "1.5.0",
      "model_name": "HBoxModel",
      "state": {
       "_dom_classes": [],
       "_model_module": "@jupyter-widgets/controls",
       "_model_module_version": "1.5.0",
       "_model_name": "HBoxModel",
       "_view_count": null,
       "_view_module": "@jupyter-widgets/controls",
       "_view_module_version": "1.5.0",
       "_view_name": "HBoxView",
       "box_style": "",
       "children": [
        "IPY_MODEL_8f0693f5c94743feb00073f4ca4ddc0d",
        "IPY_MODEL_bd72993d51634a78a5f7cb44e380f4d4",
        "IPY_MODEL_584225dec7e8471eb68707a5973fa7b0"
       ],
       "layout": "IPY_MODEL_cf3f0c4fa9254e48976c6862ef3fe397"
      }
     },
     "a4f57628b4bb48a2aa6d1ff48c356419": {
      "model_module": "@jupyter-widgets/base",
      "model_module_version": "1.2.0",
      "model_name": "LayoutModel",
      "state": {
       "_model_module": "@jupyter-widgets/base",
       "_model_module_version": "1.2.0",
       "_model_name": "LayoutModel",
       "_view_count": null,
       "_view_module": "@jupyter-widgets/base",
       "_view_module_version": "1.2.0",
       "_view_name": "LayoutView",
       "align_content": null,
       "align_items": null,
       "align_self": null,
       "border": null,
       "bottom": null,
       "display": null,
       "flex": null,
       "flex_flow": null,
       "grid_area": null,
       "grid_auto_columns": null,
       "grid_auto_flow": null,
       "grid_auto_rows": null,
       "grid_column": null,
       "grid_gap": null,
       "grid_row": null,
       "grid_template_areas": null,
       "grid_template_columns": null,
       "grid_template_rows": null,
       "height": null,
       "justify_content": null,
       "justify_items": null,
       "left": null,
       "margin": null,
       "max_height": null,
       "max_width": null,
       "min_height": null,
       "min_width": null,
       "object_fit": null,
       "object_position": null,
       "order": null,
       "overflow": null,
       "overflow_x": null,
       "overflow_y": null,
       "padding": null,
       "right": null,
       "top": null,
       "visibility": null,
       "width": null
      }
     },
     "a62b7947c35e4246be37e6994e86bcb0": {
      "model_module": "@jupyter-widgets/base",
      "model_module_version": "1.2.0",
      "model_name": "LayoutModel",
      "state": {
       "_model_module": "@jupyter-widgets/base",
       "_model_module_version": "1.2.0",
       "_model_name": "LayoutModel",
       "_view_count": null,
       "_view_module": "@jupyter-widgets/base",
       "_view_module_version": "1.2.0",
       "_view_name": "LayoutView",
       "align_content": null,
       "align_items": null,
       "align_self": null,
       "border": null,
       "bottom": null,
       "display": null,
       "flex": null,
       "flex_flow": null,
       "grid_area": null,
       "grid_auto_columns": null,
       "grid_auto_flow": null,
       "grid_auto_rows": null,
       "grid_column": null,
       "grid_gap": null,
       "grid_row": null,
       "grid_template_areas": null,
       "grid_template_columns": null,
       "grid_template_rows": null,
       "height": null,
       "justify_content": null,
       "justify_items": null,
       "left": null,
       "margin": null,
       "max_height": null,
       "max_width": null,
       "min_height": null,
       "min_width": null,
       "object_fit": null,
       "object_position": null,
       "order": null,
       "overflow": null,
       "overflow_x": null,
       "overflow_y": null,
       "padding": null,
       "right": null,
       "top": null,
       "visibility": null,
       "width": null
      }
     },
     "a63dfd6961c04d28946cd4d0bef145b4": {
      "model_module": "@jupyter-widgets/base",
      "model_module_version": "1.2.0",
      "model_name": "LayoutModel",
      "state": {
       "_model_module": "@jupyter-widgets/base",
       "_model_module_version": "1.2.0",
       "_model_name": "LayoutModel",
       "_view_count": null,
       "_view_module": "@jupyter-widgets/base",
       "_view_module_version": "1.2.0",
       "_view_name": "LayoutView",
       "align_content": null,
       "align_items": null,
       "align_self": null,
       "border": null,
       "bottom": null,
       "display": null,
       "flex": null,
       "flex_flow": null,
       "grid_area": null,
       "grid_auto_columns": null,
       "grid_auto_flow": null,
       "grid_auto_rows": null,
       "grid_column": null,
       "grid_gap": null,
       "grid_row": null,
       "grid_template_areas": null,
       "grid_template_columns": null,
       "grid_template_rows": null,
       "height": null,
       "justify_content": null,
       "justify_items": null,
       "left": null,
       "margin": null,
       "max_height": null,
       "max_width": null,
       "min_height": null,
       "min_width": null,
       "object_fit": null,
       "object_position": null,
       "order": null,
       "overflow": null,
       "overflow_x": null,
       "overflow_y": null,
       "padding": null,
       "right": null,
       "top": null,
       "visibility": null,
       "width": null
      }
     },
     "a701039d25b842b5b0dd6b931d86c078": {
      "model_module": "@jupyter-widgets/controls",
      "model_module_version": "1.5.0",
      "model_name": "DescriptionStyleModel",
      "state": {
       "_model_module": "@jupyter-widgets/controls",
       "_model_module_version": "1.5.0",
       "_model_name": "DescriptionStyleModel",
       "_view_count": null,
       "_view_module": "@jupyter-widgets/base",
       "_view_module_version": "1.2.0",
       "_view_name": "StyleView",
       "description_width": ""
      }
     },
     "a74a0d8621d24bdc98c81d65c3de6ad0": {
      "model_module": "@jupyter-widgets/controls",
      "model_module_version": "1.5.0",
      "model_name": "HBoxModel",
      "state": {
       "_dom_classes": [],
       "_model_module": "@jupyter-widgets/controls",
       "_model_module_version": "1.5.0",
       "_model_name": "HBoxModel",
       "_view_count": null,
       "_view_module": "@jupyter-widgets/controls",
       "_view_module_version": "1.5.0",
       "_view_name": "HBoxView",
       "box_style": "",
       "children": [
        "IPY_MODEL_7e927831cecf495594f8080c3e5c3c67",
        "IPY_MODEL_ee3f4e9866ed4102b0c8dd4815135858",
        "IPY_MODEL_b5f01c1ed69645f8bc17f6d6f39f2372"
       ],
       "layout": "IPY_MODEL_5c7e3adbbe274b73bc61a57f11a7da51"
      }
     },
     "a9784b036b554c3a99f5c05b5466acc8": {
      "model_module": "@jupyter-widgets/controls",
      "model_module_version": "1.5.0",
      "model_name": "HTMLModel",
      "state": {
       "_dom_classes": [],
       "_model_module": "@jupyter-widgets/controls",
       "_model_module_version": "1.5.0",
       "_model_name": "HTMLModel",
       "_view_count": null,
       "_view_module": "@jupyter-widgets/controls",
       "_view_module_version": "1.5.0",
       "_view_name": "HTMLView",
       "description": "",
       "description_tooltip": null,
       "layout": "IPY_MODEL_0d617f2f9b12488caa1f4174b12c8927",
       "placeholder": "​",
       "style": "IPY_MODEL_1a74eaff9d6045b5a08c16ad71668e05",
       "value": " 5/5 [13:16&lt;00:00, 159.63s/it]"
      }
     },
     "a9784e3643de42beae81b23817c2c778": {
      "model_module": "@jupyter-widgets/base",
      "model_module_version": "1.2.0",
      "model_name": "LayoutModel",
      "state": {
       "_model_module": "@jupyter-widgets/base",
       "_model_module_version": "1.2.0",
       "_model_name": "LayoutModel",
       "_view_count": null,
       "_view_module": "@jupyter-widgets/base",
       "_view_module_version": "1.2.0",
       "_view_name": "LayoutView",
       "align_content": null,
       "align_items": null,
       "align_self": null,
       "border": null,
       "bottom": null,
       "display": null,
       "flex": null,
       "flex_flow": null,
       "grid_area": null,
       "grid_auto_columns": null,
       "grid_auto_flow": null,
       "grid_auto_rows": null,
       "grid_column": null,
       "grid_gap": null,
       "grid_row": null,
       "grid_template_areas": null,
       "grid_template_columns": null,
       "grid_template_rows": null,
       "height": null,
       "justify_content": null,
       "justify_items": null,
       "left": null,
       "margin": null,
       "max_height": null,
       "max_width": null,
       "min_height": null,
       "min_width": null,
       "object_fit": null,
       "object_position": null,
       "order": null,
       "overflow": null,
       "overflow_x": null,
       "overflow_y": null,
       "padding": null,
       "right": null,
       "top": null,
       "visibility": null,
       "width": null
      }
     },
     "ae50b1806b164b18998e7aa885948d4f": {
      "model_module": "@jupyter-widgets/base",
      "model_module_version": "1.2.0",
      "model_name": "LayoutModel",
      "state": {
       "_model_module": "@jupyter-widgets/base",
       "_model_module_version": "1.2.0",
       "_model_name": "LayoutModel",
       "_view_count": null,
       "_view_module": "@jupyter-widgets/base",
       "_view_module_version": "1.2.0",
       "_view_name": "LayoutView",
       "align_content": null,
       "align_items": null,
       "align_self": null,
       "border": null,
       "bottom": null,
       "display": null,
       "flex": null,
       "flex_flow": null,
       "grid_area": null,
       "grid_auto_columns": null,
       "grid_auto_flow": null,
       "grid_auto_rows": null,
       "grid_column": null,
       "grid_gap": null,
       "grid_row": null,
       "grid_template_areas": null,
       "grid_template_columns": null,
       "grid_template_rows": null,
       "height": null,
       "justify_content": null,
       "justify_items": null,
       "left": null,
       "margin": null,
       "max_height": null,
       "max_width": null,
       "min_height": null,
       "min_width": null,
       "object_fit": null,
       "object_position": null,
       "order": null,
       "overflow": null,
       "overflow_x": null,
       "overflow_y": null,
       "padding": null,
       "right": null,
       "top": null,
       "visibility": null,
       "width": null
      }
     },
     "ae5d3672485a49bb9f79ef064ccd062f": {
      "model_module": "@jupyter-widgets/controls",
      "model_module_version": "1.5.0",
      "model_name": "ProgressStyleModel",
      "state": {
       "_model_module": "@jupyter-widgets/controls",
       "_model_module_version": "1.5.0",
       "_model_name": "ProgressStyleModel",
       "_view_count": null,
       "_view_module": "@jupyter-widgets/base",
       "_view_module_version": "1.2.0",
       "_view_name": "StyleView",
       "bar_color": null,
       "description_width": ""
      }
     },
     "aea3281acaea4660a0f21df9704a1cc3": {
      "model_module": "@jupyter-widgets/controls",
      "model_module_version": "1.5.0",
      "model_name": "DescriptionStyleModel",
      "state": {
       "_model_module": "@jupyter-widgets/controls",
       "_model_module_version": "1.5.0",
       "_model_name": "DescriptionStyleModel",
       "_view_count": null,
       "_view_module": "@jupyter-widgets/base",
       "_view_module_version": "1.2.0",
       "_view_name": "StyleView",
       "description_width": ""
      }
     },
     "afba8eaaabe34d28b1ff6ecaf855d008": {
      "model_module": "@jupyter-widgets/base",
      "model_module_version": "1.2.0",
      "model_name": "LayoutModel",
      "state": {
       "_model_module": "@jupyter-widgets/base",
       "_model_module_version": "1.2.0",
       "_model_name": "LayoutModel",
       "_view_count": null,
       "_view_module": "@jupyter-widgets/base",
       "_view_module_version": "1.2.0",
       "_view_name": "LayoutView",
       "align_content": null,
       "align_items": null,
       "align_self": null,
       "border": null,
       "bottom": null,
       "display": null,
       "flex": null,
       "flex_flow": null,
       "grid_area": null,
       "grid_auto_columns": null,
       "grid_auto_flow": null,
       "grid_auto_rows": null,
       "grid_column": null,
       "grid_gap": null,
       "grid_row": null,
       "grid_template_areas": null,
       "grid_template_columns": null,
       "grid_template_rows": null,
       "height": null,
       "justify_content": null,
       "justify_items": null,
       "left": null,
       "margin": null,
       "max_height": null,
       "max_width": null,
       "min_height": null,
       "min_width": null,
       "object_fit": null,
       "object_position": null,
       "order": null,
       "overflow": null,
       "overflow_x": null,
       "overflow_y": null,
       "padding": null,
       "right": null,
       "top": null,
       "visibility": null,
       "width": null
      }
     },
     "b078731448be42ef837326d2998732f4": {
      "model_module": "@jupyter-widgets/controls",
      "model_module_version": "1.5.0",
      "model_name": "ProgressStyleModel",
      "state": {
       "_model_module": "@jupyter-widgets/controls",
       "_model_module_version": "1.5.0",
       "_model_name": "ProgressStyleModel",
       "_view_count": null,
       "_view_module": "@jupyter-widgets/base",
       "_view_module_version": "1.2.0",
       "_view_name": "StyleView",
       "bar_color": null,
       "description_width": ""
      }
     },
     "b2929eda406a4a37bc0f279ad04d2150": {
      "model_module": "@jupyter-widgets/controls",
      "model_module_version": "1.5.0",
      "model_name": "FloatProgressModel",
      "state": {
       "_dom_classes": [],
       "_model_module": "@jupyter-widgets/controls",
       "_model_module_version": "1.5.0",
       "_model_name": "FloatProgressModel",
       "_view_count": null,
       "_view_module": "@jupyter-widgets/controls",
       "_view_module_version": "1.5.0",
       "_view_name": "ProgressView",
       "bar_style": "",
       "description": "",
       "description_tooltip": null,
       "layout": "IPY_MODEL_54ed98aba9b24bacbd4e7a525edfbbb8",
       "max": 2,
       "min": 0,
       "orientation": "horizontal",
       "style": "IPY_MODEL_841f6f50fe074827a014105ff60469f6",
       "value": 2
      }
     },
     "b4e1c8b55e914b25bcff5c2ce84a7bc7": {
      "model_module": "@jupyter-widgets/base",
      "model_module_version": "1.2.0",
      "model_name": "LayoutModel",
      "state": {
       "_model_module": "@jupyter-widgets/base",
       "_model_module_version": "1.2.0",
       "_model_name": "LayoutModel",
       "_view_count": null,
       "_view_module": "@jupyter-widgets/base",
       "_view_module_version": "1.2.0",
       "_view_name": "LayoutView",
       "align_content": null,
       "align_items": null,
       "align_self": null,
       "border": null,
       "bottom": null,
       "display": null,
       "flex": null,
       "flex_flow": null,
       "grid_area": null,
       "grid_auto_columns": null,
       "grid_auto_flow": null,
       "grid_auto_rows": null,
       "grid_column": null,
       "grid_gap": null,
       "grid_row": null,
       "grid_template_areas": null,
       "grid_template_columns": null,
       "grid_template_rows": null,
       "height": null,
       "justify_content": null,
       "justify_items": null,
       "left": null,
       "margin": null,
       "max_height": null,
       "max_width": null,
       "min_height": null,
       "min_width": null,
       "object_fit": null,
       "object_position": null,
       "order": null,
       "overflow": null,
       "overflow_x": null,
       "overflow_y": null,
       "padding": null,
       "right": null,
       "top": null,
       "visibility": null,
       "width": null
      }
     },
     "b51a78fa4aad4fab881e9bcd736f5634": {
      "model_module": "@jupyter-widgets/controls",
      "model_module_version": "1.5.0",
      "model_name": "HTMLModel",
      "state": {
       "_dom_classes": [],
       "_model_module": "@jupyter-widgets/controls",
       "_model_module_version": "1.5.0",
       "_model_name": "HTMLModel",
       "_view_count": null,
       "_view_module": "@jupyter-widgets/controls",
       "_view_module_version": "1.5.0",
       "_view_name": "HTMLView",
       "description": "",
       "description_tooltip": null,
       "layout": "IPY_MODEL_75d3db6fd7714057a886e9686810d89d",
       "placeholder": "​",
       "style": "IPY_MODEL_3a46fbee68f845ef9a73b22b4335b06d",
       "value": "100%"
      }
     },
     "b59bc9469fa24a00a971373f2dd89105": {
      "model_module": "@jupyter-widgets/controls",
      "model_module_version": "1.5.0",
      "model_name": "HTMLModel",
      "state": {
       "_dom_classes": [],
       "_model_module": "@jupyter-widgets/controls",
       "_model_module_version": "1.5.0",
       "_model_name": "HTMLModel",
       "_view_count": null,
       "_view_module": "@jupyter-widgets/controls",
       "_view_module_version": "1.5.0",
       "_view_name": "HTMLView",
       "description": "",
       "description_tooltip": null,
       "layout": "IPY_MODEL_1f7b520865eb4ce19721c519ed0f995a",
       "placeholder": "​",
       "style": "IPY_MODEL_f1ea5e1742c74561a51f71b3d4bd3f45",
       "value": "100%"
      }
     },
     "b5f01c1ed69645f8bc17f6d6f39f2372": {
      "model_module": "@jupyter-widgets/controls",
      "model_module_version": "1.5.0",
      "model_name": "HTMLModel",
      "state": {
       "_dom_classes": [],
       "_model_module": "@jupyter-widgets/controls",
       "_model_module_version": "1.5.0",
       "_model_name": "HTMLModel",
       "_view_count": null,
       "_view_module": "@jupyter-widgets/controls",
       "_view_module_version": "1.5.0",
       "_view_name": "HTMLView",
       "description": "",
       "description_tooltip": null,
       "layout": "IPY_MODEL_0d3bbc8d5b524ac49cd76936201aaded",
       "placeholder": "​",
       "style": "IPY_MODEL_a1c2f8de926d4eb68106a0bf6ac8765e",
       "value": " 1/1 [00:07&lt;00:00,  7.05s/it]"
      }
     },
     "b631075cf31a410bae2887b10f4d47f9": {
      "model_module": "@jupyter-widgets/base",
      "model_module_version": "1.2.0",
      "model_name": "LayoutModel",
      "state": {
       "_model_module": "@jupyter-widgets/base",
       "_model_module_version": "1.2.0",
       "_model_name": "LayoutModel",
       "_view_count": null,
       "_view_module": "@jupyter-widgets/base",
       "_view_module_version": "1.2.0",
       "_view_name": "LayoutView",
       "align_content": null,
       "align_items": null,
       "align_self": null,
       "border": null,
       "bottom": null,
       "display": null,
       "flex": null,
       "flex_flow": null,
       "grid_area": null,
       "grid_auto_columns": null,
       "grid_auto_flow": null,
       "grid_auto_rows": null,
       "grid_column": null,
       "grid_gap": null,
       "grid_row": null,
       "grid_template_areas": null,
       "grid_template_columns": null,
       "grid_template_rows": null,
       "height": null,
       "justify_content": null,
       "justify_items": null,
       "left": null,
       "margin": null,
       "max_height": null,
       "max_width": null,
       "min_height": null,
       "min_width": null,
       "object_fit": null,
       "object_position": null,
       "order": null,
       "overflow": null,
       "overflow_x": null,
       "overflow_y": null,
       "padding": null,
       "right": null,
       "top": null,
       "visibility": null,
       "width": null
      }
     },
     "b73d362af54c43b7891e03046d5b5262": {
      "model_module": "@jupyter-widgets/controls",
      "model_module_version": "1.5.0",
      "model_name": "FloatProgressModel",
      "state": {
       "_dom_classes": [],
       "_model_module": "@jupyter-widgets/controls",
       "_model_module_version": "1.5.0",
       "_model_name": "FloatProgressModel",
       "_view_count": null,
       "_view_module": "@jupyter-widgets/controls",
       "_view_module_version": "1.5.0",
       "_view_name": "ProgressView",
       "bar_style": "success",
       "description": "",
       "description_tooltip": null,
       "layout": "IPY_MODEL_38c87de190b149fd807ab84fcbf14435",
       "max": 5,
       "min": 0,
       "orientation": "horizontal",
       "style": "IPY_MODEL_f52d5bd30b17427fb0d3d19256628e8a",
       "value": 5
      }
     },
     "b824bdb031294df0b6fbf99ed7c556ef": {
      "model_module": "@jupyter-widgets/base",
      "model_module_version": "1.2.0",
      "model_name": "LayoutModel",
      "state": {
       "_model_module": "@jupyter-widgets/base",
       "_model_module_version": "1.2.0",
       "_model_name": "LayoutModel",
       "_view_count": null,
       "_view_module": "@jupyter-widgets/base",
       "_view_module_version": "1.2.0",
       "_view_name": "LayoutView",
       "align_content": null,
       "align_items": null,
       "align_self": null,
       "border": null,
       "bottom": null,
       "display": null,
       "flex": null,
       "flex_flow": null,
       "grid_area": null,
       "grid_auto_columns": null,
       "grid_auto_flow": null,
       "grid_auto_rows": null,
       "grid_column": null,
       "grid_gap": null,
       "grid_row": null,
       "grid_template_areas": null,
       "grid_template_columns": null,
       "grid_template_rows": null,
       "height": null,
       "justify_content": null,
       "justify_items": null,
       "left": null,
       "margin": null,
       "max_height": null,
       "max_width": null,
       "min_height": null,
       "min_width": null,
       "object_fit": null,
       "object_position": null,
       "order": null,
       "overflow": null,
       "overflow_x": null,
       "overflow_y": null,
       "padding": null,
       "right": null,
       "top": null,
       "visibility": null,
       "width": null
      }
     },
     "b830149aaf8a4516bc760143421ed224": {
      "model_module": "@jupyter-widgets/controls",
      "model_module_version": "1.5.0",
      "model_name": "DescriptionStyleModel",
      "state": {
       "_model_module": "@jupyter-widgets/controls",
       "_model_module_version": "1.5.0",
       "_model_name": "DescriptionStyleModel",
       "_view_count": null,
       "_view_module": "@jupyter-widgets/base",
       "_view_module_version": "1.2.0",
       "_view_name": "StyleView",
       "description_width": ""
      }
     },
     "bd72993d51634a78a5f7cb44e380f4d4": {
      "model_module": "@jupyter-widgets/controls",
      "model_module_version": "1.5.0",
      "model_name": "FloatProgressModel",
      "state": {
       "_dom_classes": [],
       "_model_module": "@jupyter-widgets/controls",
       "_model_module_version": "1.5.0",
       "_model_name": "FloatProgressModel",
       "_view_count": null,
       "_view_module": "@jupyter-widgets/controls",
       "_view_module_version": "1.5.0",
       "_view_name": "ProgressView",
       "bar_style": "",
       "description": "",
       "description_tooltip": null,
       "layout": "IPY_MODEL_59b7127c54c049d5a6923f9908201bf9",
       "max": 1,
       "min": 0,
       "orientation": "horizontal",
       "style": "IPY_MODEL_817551027c4a4adfa9b4db52d72fb237",
       "value": 1
      }
     },
     "bdb97938352241878d31206d0124cca3": {
      "model_module": "@jupyter-widgets/controls",
      "model_module_version": "1.5.0",
      "model_name": "DescriptionStyleModel",
      "state": {
       "_model_module": "@jupyter-widgets/controls",
       "_model_module_version": "1.5.0",
       "_model_name": "DescriptionStyleModel",
       "_view_count": null,
       "_view_module": "@jupyter-widgets/base",
       "_view_module_version": "1.2.0",
       "_view_name": "StyleView",
       "description_width": ""
      }
     },
     "bef1b27f093e432196494b5eb3f3b93d": {
      "model_module": "@jupyter-widgets/base",
      "model_module_version": "1.2.0",
      "model_name": "LayoutModel",
      "state": {
       "_model_module": "@jupyter-widgets/base",
       "_model_module_version": "1.2.0",
       "_model_name": "LayoutModel",
       "_view_count": null,
       "_view_module": "@jupyter-widgets/base",
       "_view_module_version": "1.2.0",
       "_view_name": "LayoutView",
       "align_content": null,
       "align_items": null,
       "align_self": null,
       "border": null,
       "bottom": null,
       "display": null,
       "flex": null,
       "flex_flow": null,
       "grid_area": null,
       "grid_auto_columns": null,
       "grid_auto_flow": null,
       "grid_auto_rows": null,
       "grid_column": null,
       "grid_gap": null,
       "grid_row": null,
       "grid_template_areas": null,
       "grid_template_columns": null,
       "grid_template_rows": null,
       "height": null,
       "justify_content": null,
       "justify_items": null,
       "left": null,
       "margin": null,
       "max_height": null,
       "max_width": null,
       "min_height": null,
       "min_width": null,
       "object_fit": null,
       "object_position": null,
       "order": null,
       "overflow": null,
       "overflow_x": null,
       "overflow_y": null,
       "padding": null,
       "right": null,
       "top": null,
       "visibility": null,
       "width": null
      }
     },
     "bffa77d5ba13496987648675ad5d97f7": {
      "model_module": "@jupyter-widgets/controls",
      "model_module_version": "1.5.0",
      "model_name": "FloatProgressModel",
      "state": {
       "_dom_classes": [],
       "_model_module": "@jupyter-widgets/controls",
       "_model_module_version": "1.5.0",
       "_model_name": "FloatProgressModel",
       "_view_count": null,
       "_view_module": "@jupyter-widgets/controls",
       "_view_module_version": "1.5.0",
       "_view_name": "ProgressView",
       "bar_style": "",
       "description": "",
       "description_tooltip": null,
       "layout": "IPY_MODEL_e64e911ca65147aabe37b8267bff3aa0",
       "max": 2,
       "min": 0,
       "orientation": "horizontal",
       "style": "IPY_MODEL_661386ea481e4d8eb3e5f6318a5455f0",
       "value": 2
      }
     },
     "c0d9ae4b4cc845f09d898d84aa4d041e": {
      "model_module": "@jupyter-widgets/base",
      "model_module_version": "1.2.0",
      "model_name": "LayoutModel",
      "state": {
       "_model_module": "@jupyter-widgets/base",
       "_model_module_version": "1.2.0",
       "_model_name": "LayoutModel",
       "_view_count": null,
       "_view_module": "@jupyter-widgets/base",
       "_view_module_version": "1.2.0",
       "_view_name": "LayoutView",
       "align_content": null,
       "align_items": null,
       "align_self": null,
       "border": null,
       "bottom": null,
       "display": null,
       "flex": null,
       "flex_flow": null,
       "grid_area": null,
       "grid_auto_columns": null,
       "grid_auto_flow": null,
       "grid_auto_rows": null,
       "grid_column": null,
       "grid_gap": null,
       "grid_row": null,
       "grid_template_areas": null,
       "grid_template_columns": null,
       "grid_template_rows": null,
       "height": null,
       "justify_content": null,
       "justify_items": null,
       "left": null,
       "margin": null,
       "max_height": null,
       "max_width": null,
       "min_height": null,
       "min_width": null,
       "object_fit": null,
       "object_position": null,
       "order": null,
       "overflow": null,
       "overflow_x": null,
       "overflow_y": null,
       "padding": null,
       "right": null,
       "top": null,
       "visibility": null,
       "width": null
      }
     },
     "c576ae179baf4a59a686dcb4d3b61cf3": {
      "model_module": "@jupyter-widgets/controls",
      "model_module_version": "1.5.0",
      "model_name": "HTMLModel",
      "state": {
       "_dom_classes": [],
       "_model_module": "@jupyter-widgets/controls",
       "_model_module_version": "1.5.0",
       "_model_name": "HTMLModel",
       "_view_count": null,
       "_view_module": "@jupyter-widgets/controls",
       "_view_module_version": "1.5.0",
       "_view_name": "HTMLView",
       "description": "",
       "description_tooltip": null,
       "layout": "IPY_MODEL_2d171374b7984723878833ce65210332",
       "placeholder": "​",
       "style": "IPY_MODEL_f7bca5a490ab4f9aaf84c6d436b4f515",
       "value": " 5/5 [13:13&lt;00:00, 158.86s/it]"
      }
     },
     "c8acc7579ce84b33a89acc141a6bcfa9": {
      "model_module": "@jupyter-widgets/controls",
      "model_module_version": "1.5.0",
      "model_name": "HTMLModel",
      "state": {
       "_dom_classes": [],
       "_model_module": "@jupyter-widgets/controls",
       "_model_module_version": "1.5.0",
       "_model_name": "HTMLModel",
       "_view_count": null,
       "_view_module": "@jupyter-widgets/controls",
       "_view_module_version": "1.5.0",
       "_view_name": "HTMLView",
       "description": "",
       "description_tooltip": null,
       "layout": "IPY_MODEL_bef1b27f093e432196494b5eb3f3b93d",
       "placeholder": "​",
       "style": "IPY_MODEL_54a4b3fde454451f84bcf8c193337187",
       "value": " 4/4 [02:03&lt;00:00, 21.75s/it]"
      }
     },
     "c968cf16589f4694b8e3324ac823febe": {
      "model_module": "@jupyter-widgets/base",
      "model_module_version": "1.2.0",
      "model_name": "LayoutModel",
      "state": {
       "_model_module": "@jupyter-widgets/base",
       "_model_module_version": "1.2.0",
       "_model_name": "LayoutModel",
       "_view_count": null,
       "_view_module": "@jupyter-widgets/base",
       "_view_module_version": "1.2.0",
       "_view_name": "LayoutView",
       "align_content": null,
       "align_items": null,
       "align_self": null,
       "border": null,
       "bottom": null,
       "display": null,
       "flex": null,
       "flex_flow": null,
       "grid_area": null,
       "grid_auto_columns": null,
       "grid_auto_flow": null,
       "grid_auto_rows": null,
       "grid_column": null,
       "grid_gap": null,
       "grid_row": null,
       "grid_template_areas": null,
       "grid_template_columns": null,
       "grid_template_rows": null,
       "height": null,
       "justify_content": null,
       "justify_items": null,
       "left": null,
       "margin": null,
       "max_height": null,
       "max_width": null,
       "min_height": null,
       "min_width": null,
       "object_fit": null,
       "object_position": null,
       "order": null,
       "overflow": null,
       "overflow_x": null,
       "overflow_y": null,
       "padding": null,
       "right": null,
       "top": null,
       "visibility": null,
       "width": null
      }
     },
     "cdbf8049a31d4470b90227b5b18611d7": {
      "model_module": "@jupyter-widgets/base",
      "model_module_version": "1.2.0",
      "model_name": "LayoutModel",
      "state": {
       "_model_module": "@jupyter-widgets/base",
       "_model_module_version": "1.2.0",
       "_model_name": "LayoutModel",
       "_view_count": null,
       "_view_module": "@jupyter-widgets/base",
       "_view_module_version": "1.2.0",
       "_view_name": "LayoutView",
       "align_content": null,
       "align_items": null,
       "align_self": null,
       "border": null,
       "bottom": null,
       "display": null,
       "flex": null,
       "flex_flow": null,
       "grid_area": null,
       "grid_auto_columns": null,
       "grid_auto_flow": null,
       "grid_auto_rows": null,
       "grid_column": null,
       "grid_gap": null,
       "grid_row": null,
       "grid_template_areas": null,
       "grid_template_columns": null,
       "grid_template_rows": null,
       "height": null,
       "justify_content": null,
       "justify_items": null,
       "left": null,
       "margin": null,
       "max_height": null,
       "max_width": null,
       "min_height": null,
       "min_width": null,
       "object_fit": null,
       "object_position": null,
       "order": null,
       "overflow": null,
       "overflow_x": null,
       "overflow_y": null,
       "padding": null,
       "right": null,
       "top": null,
       "visibility": null,
       "width": null
      }
     },
     "ce1fd2a46a244b67b0da505372c1d010": {
      "model_module": "@jupyter-widgets/controls",
      "model_module_version": "1.5.0",
      "model_name": "FloatProgressModel",
      "state": {
       "_dom_classes": [],
       "_model_module": "@jupyter-widgets/controls",
       "_model_module_version": "1.5.0",
       "_model_name": "FloatProgressModel",
       "_view_count": null,
       "_view_module": "@jupyter-widgets/controls",
       "_view_module_version": "1.5.0",
       "_view_name": "ProgressView",
       "bar_style": "",
       "description": "",
       "description_tooltip": null,
       "layout": "IPY_MODEL_4536c71b8ea24b86b1c16baa78279196",
       "max": 4,
       "min": 0,
       "orientation": "horizontal",
       "style": "IPY_MODEL_ae5d3672485a49bb9f79ef064ccd062f",
       "value": 4
      }
     },
     "ceb646562a3846bfbda1e930a98382e2": {
      "model_module": "@jupyter-widgets/base",
      "model_module_version": "1.2.0",
      "model_name": "LayoutModel",
      "state": {
       "_model_module": "@jupyter-widgets/base",
       "_model_module_version": "1.2.0",
       "_model_name": "LayoutModel",
       "_view_count": null,
       "_view_module": "@jupyter-widgets/base",
       "_view_module_version": "1.2.0",
       "_view_name": "LayoutView",
       "align_content": null,
       "align_items": null,
       "align_self": null,
       "border": null,
       "bottom": null,
       "display": null,
       "flex": null,
       "flex_flow": null,
       "grid_area": null,
       "grid_auto_columns": null,
       "grid_auto_flow": null,
       "grid_auto_rows": null,
       "grid_column": null,
       "grid_gap": null,
       "grid_row": null,
       "grid_template_areas": null,
       "grid_template_columns": null,
       "grid_template_rows": null,
       "height": null,
       "justify_content": null,
       "justify_items": null,
       "left": null,
       "margin": null,
       "max_height": null,
       "max_width": null,
       "min_height": null,
       "min_width": null,
       "object_fit": null,
       "object_position": null,
       "order": null,
       "overflow": null,
       "overflow_x": null,
       "overflow_y": null,
       "padding": null,
       "right": null,
       "top": null,
       "visibility": null,
       "width": null
      }
     },
     "cf3f0c4fa9254e48976c6862ef3fe397": {
      "model_module": "@jupyter-widgets/base",
      "model_module_version": "1.2.0",
      "model_name": "LayoutModel",
      "state": {
       "_model_module": "@jupyter-widgets/base",
       "_model_module_version": "1.2.0",
       "_model_name": "LayoutModel",
       "_view_count": null,
       "_view_module": "@jupyter-widgets/base",
       "_view_module_version": "1.2.0",
       "_view_name": "LayoutView",
       "align_content": null,
       "align_items": null,
       "align_self": null,
       "border": null,
       "bottom": null,
       "display": null,
       "flex": null,
       "flex_flow": null,
       "grid_area": null,
       "grid_auto_columns": null,
       "grid_auto_flow": null,
       "grid_auto_rows": null,
       "grid_column": null,
       "grid_gap": null,
       "grid_row": null,
       "grid_template_areas": null,
       "grid_template_columns": null,
       "grid_template_rows": null,
       "height": null,
       "justify_content": null,
       "justify_items": null,
       "left": null,
       "margin": null,
       "max_height": null,
       "max_width": null,
       "min_height": null,
       "min_width": null,
       "object_fit": null,
       "object_position": null,
       "order": null,
       "overflow": null,
       "overflow_x": null,
       "overflow_y": null,
       "padding": null,
       "right": null,
       "top": null,
       "visibility": null,
       "width": null
      }
     },
     "d0f4337f4a784f1aa670c24a5b443dad": {
      "model_module": "@jupyter-widgets/controls",
      "model_module_version": "1.5.0",
      "model_name": "ProgressStyleModel",
      "state": {
       "_model_module": "@jupyter-widgets/controls",
       "_model_module_version": "1.5.0",
       "_model_name": "ProgressStyleModel",
       "_view_count": null,
       "_view_module": "@jupyter-widgets/base",
       "_view_module_version": "1.2.0",
       "_view_name": "StyleView",
       "bar_color": null,
       "description_width": ""
      }
     },
     "d134036967984fe79f2d09390c3cd54b": {
      "model_module": "@jupyter-widgets/controls",
      "model_module_version": "1.5.0",
      "model_name": "HTMLModel",
      "state": {
       "_dom_classes": [],
       "_model_module": "@jupyter-widgets/controls",
       "_model_module_version": "1.5.0",
       "_model_name": "HTMLModel",
       "_view_count": null,
       "_view_module": "@jupyter-widgets/controls",
       "_view_module_version": "1.5.0",
       "_view_name": "HTMLView",
       "description": "",
       "description_tooltip": null,
       "layout": "IPY_MODEL_1c6e708f2e0844e2a42383a999162c17",
       "placeholder": "​",
       "style": "IPY_MODEL_aea3281acaea4660a0f21df9704a1cc3",
       "value": "100%"
      }
     },
     "d29825ddbd2b4fbfa9f5659c2cbcb12d": {
      "model_module": "@jupyter-widgets/controls",
      "model_module_version": "1.5.0",
      "model_name": "HBoxModel",
      "state": {
       "_dom_classes": [],
       "_model_module": "@jupyter-widgets/controls",
       "_model_module_version": "1.5.0",
       "_model_name": "HBoxModel",
       "_view_count": null,
       "_view_module": "@jupyter-widgets/controls",
       "_view_module_version": "1.5.0",
       "_view_name": "HBoxView",
       "box_style": "",
       "children": [
        "IPY_MODEL_7d7cf546154d4c5e824d1d7cad210bd7",
        "IPY_MODEL_073423abeb704c0485cf6573f3cdeed2",
        "IPY_MODEL_48177c86f66e4f5e9e662c01d482b44f"
       ],
       "layout": "IPY_MODEL_e16ff89ba4ef4d21b18c9e4fb05db738"
      }
     },
     "d435c26cac054b9784c2bb15acbf8635": {
      "model_module": "@jupyter-widgets/base",
      "model_module_version": "1.2.0",
      "model_name": "LayoutModel",
      "state": {
       "_model_module": "@jupyter-widgets/base",
       "_model_module_version": "1.2.0",
       "_model_name": "LayoutModel",
       "_view_count": null,
       "_view_module": "@jupyter-widgets/base",
       "_view_module_version": "1.2.0",
       "_view_name": "LayoutView",
       "align_content": null,
       "align_items": null,
       "align_self": null,
       "border": null,
       "bottom": null,
       "display": null,
       "flex": null,
       "flex_flow": null,
       "grid_area": null,
       "grid_auto_columns": null,
       "grid_auto_flow": null,
       "grid_auto_rows": null,
       "grid_column": null,
       "grid_gap": null,
       "grid_row": null,
       "grid_template_areas": null,
       "grid_template_columns": null,
       "grid_template_rows": null,
       "height": null,
       "justify_content": null,
       "justify_items": null,
       "left": null,
       "margin": null,
       "max_height": null,
       "max_width": null,
       "min_height": null,
       "min_width": null,
       "object_fit": null,
       "object_position": null,
       "order": null,
       "overflow": null,
       "overflow_x": null,
       "overflow_y": null,
       "padding": null,
       "right": null,
       "top": null,
       "visibility": null,
       "width": null
      }
     },
     "d9f76bb47d5c4bfc99917e3fae040e1d": {
      "model_module": "@jupyter-widgets/base",
      "model_module_version": "1.2.0",
      "model_name": "LayoutModel",
      "state": {
       "_model_module": "@jupyter-widgets/base",
       "_model_module_version": "1.2.0",
       "_model_name": "LayoutModel",
       "_view_count": null,
       "_view_module": "@jupyter-widgets/base",
       "_view_module_version": "1.2.0",
       "_view_name": "LayoutView",
       "align_content": null,
       "align_items": null,
       "align_self": null,
       "border": null,
       "bottom": null,
       "display": null,
       "flex": null,
       "flex_flow": null,
       "grid_area": null,
       "grid_auto_columns": null,
       "grid_auto_flow": null,
       "grid_auto_rows": null,
       "grid_column": null,
       "grid_gap": null,
       "grid_row": null,
       "grid_template_areas": null,
       "grid_template_columns": null,
       "grid_template_rows": null,
       "height": null,
       "justify_content": null,
       "justify_items": null,
       "left": null,
       "margin": null,
       "max_height": null,
       "max_width": null,
       "min_height": null,
       "min_width": null,
       "object_fit": null,
       "object_position": null,
       "order": null,
       "overflow": null,
       "overflow_x": null,
       "overflow_y": null,
       "padding": null,
       "right": null,
       "top": null,
       "visibility": null,
       "width": null
      }
     },
     "dad56a68bbcd44b6980c5646df654a41": {
      "model_module": "@jupyter-widgets/controls",
      "model_module_version": "1.5.0",
      "model_name": "DescriptionStyleModel",
      "state": {
       "_model_module": "@jupyter-widgets/controls",
       "_model_module_version": "1.5.0",
       "_model_name": "DescriptionStyleModel",
       "_view_count": null,
       "_view_module": "@jupyter-widgets/base",
       "_view_module_version": "1.2.0",
       "_view_name": "StyleView",
       "description_width": ""
      }
     },
     "db3515f8f08441e4b99485c1b404e256": {
      "model_module": "@jupyter-widgets/base",
      "model_module_version": "1.2.0",
      "model_name": "LayoutModel",
      "state": {
       "_model_module": "@jupyter-widgets/base",
       "_model_module_version": "1.2.0",
       "_model_name": "LayoutModel",
       "_view_count": null,
       "_view_module": "@jupyter-widgets/base",
       "_view_module_version": "1.2.0",
       "_view_name": "LayoutView",
       "align_content": null,
       "align_items": null,
       "align_self": null,
       "border": null,
       "bottom": null,
       "display": null,
       "flex": null,
       "flex_flow": null,
       "grid_area": null,
       "grid_auto_columns": null,
       "grid_auto_flow": null,
       "grid_auto_rows": null,
       "grid_column": null,
       "grid_gap": null,
       "grid_row": null,
       "grid_template_areas": null,
       "grid_template_columns": null,
       "grid_template_rows": null,
       "height": null,
       "justify_content": null,
       "justify_items": null,
       "left": null,
       "margin": null,
       "max_height": null,
       "max_width": null,
       "min_height": null,
       "min_width": null,
       "object_fit": null,
       "object_position": null,
       "order": null,
       "overflow": null,
       "overflow_x": null,
       "overflow_y": null,
       "padding": null,
       "right": null,
       "top": null,
       "visibility": null,
       "width": null
      }
     },
     "dbfabad5c8e8468d89f47bc561efd12e": {
      "model_module": "@jupyter-widgets/controls",
      "model_module_version": "1.5.0",
      "model_name": "HBoxModel",
      "state": {
       "_dom_classes": [],
       "_model_module": "@jupyter-widgets/controls",
       "_model_module_version": "1.5.0",
       "_model_name": "HBoxModel",
       "_view_count": null,
       "_view_module": "@jupyter-widgets/controls",
       "_view_module_version": "1.5.0",
       "_view_name": "HBoxView",
       "box_style": "",
       "children": [
        "IPY_MODEL_4b25d2ff13114b5487ae2b9d30528619",
        "IPY_MODEL_98e4a197e1e143a19952f5dd3231bf09",
        "IPY_MODEL_58156d77f8ab4834844d9aeb78bd7398"
       ],
       "layout": "IPY_MODEL_f2e9c5efe6a745a8b0d566f11f0f6234"
      }
     },
     "dc01d5e4aebc4c52bf43a11752aee485": {
      "model_module": "@jupyter-widgets/controls",
      "model_module_version": "1.5.0",
      "model_name": "HTMLModel",
      "state": {
       "_dom_classes": [],
       "_model_module": "@jupyter-widgets/controls",
       "_model_module_version": "1.5.0",
       "_model_name": "HTMLModel",
       "_view_count": null,
       "_view_module": "@jupyter-widgets/controls",
       "_view_module_version": "1.5.0",
       "_view_name": "HTMLView",
       "description": "",
       "description_tooltip": null,
       "layout": "IPY_MODEL_db3515f8f08441e4b99485c1b404e256",
       "placeholder": "​",
       "style": "IPY_MODEL_eccf0283a9b846baabdc1510edccfbe0",
       "value": "100%"
      }
     },
     "dfb6a1094936418c8bfbd2cfc6f5abd8": {
      "model_module": "@jupyter-widgets/controls",
      "model_module_version": "1.5.0",
      "model_name": "HBoxModel",
      "state": {
       "_dom_classes": [],
       "_model_module": "@jupyter-widgets/controls",
       "_model_module_version": "1.5.0",
       "_model_name": "HBoxModel",
       "_view_count": null,
       "_view_module": "@jupyter-widgets/controls",
       "_view_module_version": "1.5.0",
       "_view_name": "HBoxView",
       "box_style": "",
       "children": [
        "IPY_MODEL_b51a78fa4aad4fab881e9bcd736f5634",
        "IPY_MODEL_b73d362af54c43b7891e03046d5b5262",
        "IPY_MODEL_a9784b036b554c3a99f5c05b5466acc8"
       ],
       "layout": "IPY_MODEL_69003af9dc2549f68a3aa8b0620e19a2"
      }
     },
     "e16ff89ba4ef4d21b18c9e4fb05db738": {
      "model_module": "@jupyter-widgets/base",
      "model_module_version": "1.2.0",
      "model_name": "LayoutModel",
      "state": {
       "_model_module": "@jupyter-widgets/base",
       "_model_module_version": "1.2.0",
       "_model_name": "LayoutModel",
       "_view_count": null,
       "_view_module": "@jupyter-widgets/base",
       "_view_module_version": "1.2.0",
       "_view_name": "LayoutView",
       "align_content": null,
       "align_items": null,
       "align_self": null,
       "border": null,
       "bottom": null,
       "display": null,
       "flex": null,
       "flex_flow": null,
       "grid_area": null,
       "grid_auto_columns": null,
       "grid_auto_flow": null,
       "grid_auto_rows": null,
       "grid_column": null,
       "grid_gap": null,
       "grid_row": null,
       "grid_template_areas": null,
       "grid_template_columns": null,
       "grid_template_rows": null,
       "height": null,
       "justify_content": null,
       "justify_items": null,
       "left": null,
       "margin": null,
       "max_height": null,
       "max_width": null,
       "min_height": null,
       "min_width": null,
       "object_fit": null,
       "object_position": null,
       "order": null,
       "overflow": null,
       "overflow_x": null,
       "overflow_y": null,
       "padding": null,
       "right": null,
       "top": null,
       "visibility": null,
       "width": null
      }
     },
     "e50e87c6a188474da71277242eb107a8": {
      "model_module": "@jupyter-widgets/base",
      "model_module_version": "1.2.0",
      "model_name": "LayoutModel",
      "state": {
       "_model_module": "@jupyter-widgets/base",
       "_model_module_version": "1.2.0",
       "_model_name": "LayoutModel",
       "_view_count": null,
       "_view_module": "@jupyter-widgets/base",
       "_view_module_version": "1.2.0",
       "_view_name": "LayoutView",
       "align_content": null,
       "align_items": null,
       "align_self": null,
       "border": null,
       "bottom": null,
       "display": null,
       "flex": null,
       "flex_flow": null,
       "grid_area": null,
       "grid_auto_columns": null,
       "grid_auto_flow": null,
       "grid_auto_rows": null,
       "grid_column": null,
       "grid_gap": null,
       "grid_row": null,
       "grid_template_areas": null,
       "grid_template_columns": null,
       "grid_template_rows": null,
       "height": null,
       "justify_content": null,
       "justify_items": null,
       "left": null,
       "margin": null,
       "max_height": null,
       "max_width": null,
       "min_height": null,
       "min_width": null,
       "object_fit": null,
       "object_position": null,
       "order": null,
       "overflow": null,
       "overflow_x": null,
       "overflow_y": null,
       "padding": null,
       "right": null,
       "top": null,
       "visibility": null,
       "width": null
      }
     },
     "e5192c0b584e4517ac67df6b790bc445": {
      "model_module": "@jupyter-widgets/controls",
      "model_module_version": "1.5.0",
      "model_name": "HTMLModel",
      "state": {
       "_dom_classes": [],
       "_model_module": "@jupyter-widgets/controls",
       "_model_module_version": "1.5.0",
       "_model_name": "HTMLModel",
       "_view_count": null,
       "_view_module": "@jupyter-widgets/controls",
       "_view_module_version": "1.5.0",
       "_view_name": "HTMLView",
       "description": "",
       "description_tooltip": null,
       "layout": "IPY_MODEL_54460bb53de3427888f6ac6926bce8c1",
       "placeholder": "​",
       "style": "IPY_MODEL_4f29030959dd45de8050b673e41e3eb9",
       "value": "100%"
      }
     },
     "e52f002d2d4542a4918c4d76987888df": {
      "model_module": "@jupyter-widgets/controls",
      "model_module_version": "1.5.0",
      "model_name": "DescriptionStyleModel",
      "state": {
       "_model_module": "@jupyter-widgets/controls",
       "_model_module_version": "1.5.0",
       "_model_name": "DescriptionStyleModel",
       "_view_count": null,
       "_view_module": "@jupyter-widgets/base",
       "_view_module_version": "1.2.0",
       "_view_name": "StyleView",
       "description_width": ""
      }
     },
     "e64e911ca65147aabe37b8267bff3aa0": {
      "model_module": "@jupyter-widgets/base",
      "model_module_version": "1.2.0",
      "model_name": "LayoutModel",
      "state": {
       "_model_module": "@jupyter-widgets/base",
       "_model_module_version": "1.2.0",
       "_model_name": "LayoutModel",
       "_view_count": null,
       "_view_module": "@jupyter-widgets/base",
       "_view_module_version": "1.2.0",
       "_view_name": "LayoutView",
       "align_content": null,
       "align_items": null,
       "align_self": null,
       "border": null,
       "bottom": null,
       "display": null,
       "flex": null,
       "flex_flow": null,
       "grid_area": null,
       "grid_auto_columns": null,
       "grid_auto_flow": null,
       "grid_auto_rows": null,
       "grid_column": null,
       "grid_gap": null,
       "grid_row": null,
       "grid_template_areas": null,
       "grid_template_columns": null,
       "grid_template_rows": null,
       "height": null,
       "justify_content": null,
       "justify_items": null,
       "left": null,
       "margin": null,
       "max_height": null,
       "max_width": null,
       "min_height": null,
       "min_width": null,
       "object_fit": null,
       "object_position": null,
       "order": null,
       "overflow": null,
       "overflow_x": null,
       "overflow_y": null,
       "padding": null,
       "right": null,
       "top": null,
       "visibility": null,
       "width": null
      }
     },
     "e7f1538613d04eec8d16faae9eb3d26f": {
      "model_module": "@jupyter-widgets/base",
      "model_module_version": "1.2.0",
      "model_name": "LayoutModel",
      "state": {
       "_model_module": "@jupyter-widgets/base",
       "_model_module_version": "1.2.0",
       "_model_name": "LayoutModel",
       "_view_count": null,
       "_view_module": "@jupyter-widgets/base",
       "_view_module_version": "1.2.0",
       "_view_name": "LayoutView",
       "align_content": null,
       "align_items": null,
       "align_self": null,
       "border": null,
       "bottom": null,
       "display": null,
       "flex": null,
       "flex_flow": null,
       "grid_area": null,
       "grid_auto_columns": null,
       "grid_auto_flow": null,
       "grid_auto_rows": null,
       "grid_column": null,
       "grid_gap": null,
       "grid_row": null,
       "grid_template_areas": null,
       "grid_template_columns": null,
       "grid_template_rows": null,
       "height": null,
       "justify_content": null,
       "justify_items": null,
       "left": null,
       "margin": null,
       "max_height": null,
       "max_width": null,
       "min_height": null,
       "min_width": null,
       "object_fit": null,
       "object_position": null,
       "order": null,
       "overflow": null,
       "overflow_x": null,
       "overflow_y": null,
       "padding": null,
       "right": null,
       "top": null,
       "visibility": null,
       "width": null
      }
     },
     "ea3c422edbcb4d7792006eeb884bccf1": {
      "model_module": "@jupyter-widgets/controls",
      "model_module_version": "1.5.0",
      "model_name": "HTMLModel",
      "state": {
       "_dom_classes": [],
       "_model_module": "@jupyter-widgets/controls",
       "_model_module_version": "1.5.0",
       "_model_name": "HTMLModel",
       "_view_count": null,
       "_view_module": "@jupyter-widgets/controls",
       "_view_module_version": "1.5.0",
       "_view_name": "HTMLView",
       "description": "",
       "description_tooltip": null,
       "layout": "IPY_MODEL_256ecbb11fa841c6898e836133178692",
       "placeholder": "​",
       "style": "IPY_MODEL_94782e1dfa1a47e89822943bc82218d4",
       "value": " 3/3 [00:18&lt;00:00,  6.60s/it]"
      }
     },
     "ec85171009284585a5461c0c0924bb5f": {
      "model_module": "@jupyter-widgets/base",
      "model_module_version": "1.2.0",
      "model_name": "LayoutModel",
      "state": {
       "_model_module": "@jupyter-widgets/base",
       "_model_module_version": "1.2.0",
       "_model_name": "LayoutModel",
       "_view_count": null,
       "_view_module": "@jupyter-widgets/base",
       "_view_module_version": "1.2.0",
       "_view_name": "LayoutView",
       "align_content": null,
       "align_items": null,
       "align_self": null,
       "border": null,
       "bottom": null,
       "display": null,
       "flex": null,
       "flex_flow": null,
       "grid_area": null,
       "grid_auto_columns": null,
       "grid_auto_flow": null,
       "grid_auto_rows": null,
       "grid_column": null,
       "grid_gap": null,
       "grid_row": null,
       "grid_template_areas": null,
       "grid_template_columns": null,
       "grid_template_rows": null,
       "height": null,
       "justify_content": null,
       "justify_items": null,
       "left": null,
       "margin": null,
       "max_height": null,
       "max_width": null,
       "min_height": null,
       "min_width": null,
       "object_fit": null,
       "object_position": null,
       "order": null,
       "overflow": null,
       "overflow_x": null,
       "overflow_y": null,
       "padding": null,
       "right": null,
       "top": null,
       "visibility": null,
       "width": null
      }
     },
     "eccf0283a9b846baabdc1510edccfbe0": {
      "model_module": "@jupyter-widgets/controls",
      "model_module_version": "1.5.0",
      "model_name": "DescriptionStyleModel",
      "state": {
       "_model_module": "@jupyter-widgets/controls",
       "_model_module_version": "1.5.0",
       "_model_name": "DescriptionStyleModel",
       "_view_count": null,
       "_view_module": "@jupyter-widgets/base",
       "_view_module_version": "1.2.0",
       "_view_name": "StyleView",
       "description_width": ""
      }
     },
     "ed0221024a634d1fa3bd785d99640b01": {
      "model_module": "@jupyter-widgets/controls",
      "model_module_version": "1.5.0",
      "model_name": "ProgressStyleModel",
      "state": {
       "_model_module": "@jupyter-widgets/controls",
       "_model_module_version": "1.5.0",
       "_model_name": "ProgressStyleModel",
       "_view_count": null,
       "_view_module": "@jupyter-widgets/base",
       "_view_module_version": "1.2.0",
       "_view_name": "StyleView",
       "bar_color": null,
       "description_width": ""
      }
     },
     "edfd64dbc1b74fc3932e5877085f1939": {
      "model_module": "@jupyter-widgets/controls",
      "model_module_version": "1.5.0",
      "model_name": "HBoxModel",
      "state": {
       "_dom_classes": [],
       "_model_module": "@jupyter-widgets/controls",
       "_model_module_version": "1.5.0",
       "_model_name": "HBoxModel",
       "_view_count": null,
       "_view_module": "@jupyter-widgets/controls",
       "_view_module_version": "1.5.0",
       "_view_name": "HBoxView",
       "box_style": "",
       "children": [
        "IPY_MODEL_1103ef189db54743b1cc8402e1f1a284",
        "IPY_MODEL_a05b735121184fefa05840d80fcac717",
        "IPY_MODEL_c8acc7579ce84b33a89acc141a6bcfa9"
       ],
       "layout": "IPY_MODEL_15e7eadecdf84bc3bdfd73ebcd234309"
      }
     },
     "ee3f4e9866ed4102b0c8dd4815135858": {
      "model_module": "@jupyter-widgets/controls",
      "model_module_version": "1.5.0",
      "model_name": "FloatProgressModel",
      "state": {
       "_dom_classes": [],
       "_model_module": "@jupyter-widgets/controls",
       "_model_module_version": "1.5.0",
       "_model_name": "FloatProgressModel",
       "_view_count": null,
       "_view_module": "@jupyter-widgets/controls",
       "_view_module_version": "1.5.0",
       "_view_name": "ProgressView",
       "bar_style": "",
       "description": "",
       "description_tooltip": null,
       "layout": "IPY_MODEL_f0295ce982984ced9d0361c14d91fc45",
       "max": 1,
       "min": 0,
       "orientation": "horizontal",
       "style": "IPY_MODEL_ed0221024a634d1fa3bd785d99640b01",
       "value": 1
      }
     },
     "f0295ce982984ced9d0361c14d91fc45": {
      "model_module": "@jupyter-widgets/base",
      "model_module_version": "1.2.0",
      "model_name": "LayoutModel",
      "state": {
       "_model_module": "@jupyter-widgets/base",
       "_model_module_version": "1.2.0",
       "_model_name": "LayoutModel",
       "_view_count": null,
       "_view_module": "@jupyter-widgets/base",
       "_view_module_version": "1.2.0",
       "_view_name": "LayoutView",
       "align_content": null,
       "align_items": null,
       "align_self": null,
       "border": null,
       "bottom": null,
       "display": null,
       "flex": null,
       "flex_flow": null,
       "grid_area": null,
       "grid_auto_columns": null,
       "grid_auto_flow": null,
       "grid_auto_rows": null,
       "grid_column": null,
       "grid_gap": null,
       "grid_row": null,
       "grid_template_areas": null,
       "grid_template_columns": null,
       "grid_template_rows": null,
       "height": null,
       "justify_content": null,
       "justify_items": null,
       "left": null,
       "margin": null,
       "max_height": null,
       "max_width": null,
       "min_height": null,
       "min_width": null,
       "object_fit": null,
       "object_position": null,
       "order": null,
       "overflow": null,
       "overflow_x": null,
       "overflow_y": null,
       "padding": null,
       "right": null,
       "top": null,
       "visibility": null,
       "width": null
      }
     },
     "f1ea5e1742c74561a51f71b3d4bd3f45": {
      "model_module": "@jupyter-widgets/controls",
      "model_module_version": "1.5.0",
      "model_name": "DescriptionStyleModel",
      "state": {
       "_model_module": "@jupyter-widgets/controls",
       "_model_module_version": "1.5.0",
       "_model_name": "DescriptionStyleModel",
       "_view_count": null,
       "_view_module": "@jupyter-widgets/base",
       "_view_module_version": "1.2.0",
       "_view_name": "StyleView",
       "description_width": ""
      }
     },
     "f2e9c5efe6a745a8b0d566f11f0f6234": {
      "model_module": "@jupyter-widgets/base",
      "model_module_version": "1.2.0",
      "model_name": "LayoutModel",
      "state": {
       "_model_module": "@jupyter-widgets/base",
       "_model_module_version": "1.2.0",
       "_model_name": "LayoutModel",
       "_view_count": null,
       "_view_module": "@jupyter-widgets/base",
       "_view_module_version": "1.2.0",
       "_view_name": "LayoutView",
       "align_content": null,
       "align_items": null,
       "align_self": null,
       "border": null,
       "bottom": null,
       "display": null,
       "flex": null,
       "flex_flow": null,
       "grid_area": null,
       "grid_auto_columns": null,
       "grid_auto_flow": null,
       "grid_auto_rows": null,
       "grid_column": null,
       "grid_gap": null,
       "grid_row": null,
       "grid_template_areas": null,
       "grid_template_columns": null,
       "grid_template_rows": null,
       "height": null,
       "justify_content": null,
       "justify_items": null,
       "left": null,
       "margin": null,
       "max_height": null,
       "max_width": null,
       "min_height": null,
       "min_width": null,
       "object_fit": null,
       "object_position": null,
       "order": null,
       "overflow": null,
       "overflow_x": null,
       "overflow_y": null,
       "padding": null,
       "right": null,
       "top": null,
       "visibility": null,
       "width": null
      }
     },
     "f4259bf64f214d5c9a3b0cd5d7e72f83": {
      "model_module": "@jupyter-widgets/base",
      "model_module_version": "1.2.0",
      "model_name": "LayoutModel",
      "state": {
       "_model_module": "@jupyter-widgets/base",
       "_model_module_version": "1.2.0",
       "_model_name": "LayoutModel",
       "_view_count": null,
       "_view_module": "@jupyter-widgets/base",
       "_view_module_version": "1.2.0",
       "_view_name": "LayoutView",
       "align_content": null,
       "align_items": null,
       "align_self": null,
       "border": null,
       "bottom": null,
       "display": null,
       "flex": null,
       "flex_flow": null,
       "grid_area": null,
       "grid_auto_columns": null,
       "grid_auto_flow": null,
       "grid_auto_rows": null,
       "grid_column": null,
       "grid_gap": null,
       "grid_row": null,
       "grid_template_areas": null,
       "grid_template_columns": null,
       "grid_template_rows": null,
       "height": null,
       "justify_content": null,
       "justify_items": null,
       "left": null,
       "margin": null,
       "max_height": null,
       "max_width": null,
       "min_height": null,
       "min_width": null,
       "object_fit": null,
       "object_position": null,
       "order": null,
       "overflow": null,
       "overflow_x": null,
       "overflow_y": null,
       "padding": null,
       "right": null,
       "top": null,
       "visibility": null,
       "width": null
      }
     },
     "f4878439c9e64384ad6c61d5803ce52c": {
      "model_module": "@jupyter-widgets/base",
      "model_module_version": "1.2.0",
      "model_name": "LayoutModel",
      "state": {
       "_model_module": "@jupyter-widgets/base",
       "_model_module_version": "1.2.0",
       "_model_name": "LayoutModel",
       "_view_count": null,
       "_view_module": "@jupyter-widgets/base",
       "_view_module_version": "1.2.0",
       "_view_name": "LayoutView",
       "align_content": null,
       "align_items": null,
       "align_self": null,
       "border": null,
       "bottom": null,
       "display": null,
       "flex": null,
       "flex_flow": null,
       "grid_area": null,
       "grid_auto_columns": null,
       "grid_auto_flow": null,
       "grid_auto_rows": null,
       "grid_column": null,
       "grid_gap": null,
       "grid_row": null,
       "grid_template_areas": null,
       "grid_template_columns": null,
       "grid_template_rows": null,
       "height": null,
       "justify_content": null,
       "justify_items": null,
       "left": null,
       "margin": null,
       "max_height": null,
       "max_width": null,
       "min_height": null,
       "min_width": null,
       "object_fit": null,
       "object_position": null,
       "order": null,
       "overflow": null,
       "overflow_x": null,
       "overflow_y": null,
       "padding": null,
       "right": null,
       "top": null,
       "visibility": null,
       "width": null
      }
     },
     "f52d5bd30b17427fb0d3d19256628e8a": {
      "model_module": "@jupyter-widgets/controls",
      "model_module_version": "1.5.0",
      "model_name": "ProgressStyleModel",
      "state": {
       "_model_module": "@jupyter-widgets/controls",
       "_model_module_version": "1.5.0",
       "_model_name": "ProgressStyleModel",
       "_view_count": null,
       "_view_module": "@jupyter-widgets/base",
       "_view_module_version": "1.2.0",
       "_view_name": "StyleView",
       "bar_color": null,
       "description_width": ""
      }
     },
     "f63660e0ad9142a095baa8563cb1224f": {
      "model_module": "@jupyter-widgets/base",
      "model_module_version": "1.2.0",
      "model_name": "LayoutModel",
      "state": {
       "_model_module": "@jupyter-widgets/base",
       "_model_module_version": "1.2.0",
       "_model_name": "LayoutModel",
       "_view_count": null,
       "_view_module": "@jupyter-widgets/base",
       "_view_module_version": "1.2.0",
       "_view_name": "LayoutView",
       "align_content": null,
       "align_items": null,
       "align_self": null,
       "border": null,
       "bottom": null,
       "display": null,
       "flex": null,
       "flex_flow": null,
       "grid_area": null,
       "grid_auto_columns": null,
       "grid_auto_flow": null,
       "grid_auto_rows": null,
       "grid_column": null,
       "grid_gap": null,
       "grid_row": null,
       "grid_template_areas": null,
       "grid_template_columns": null,
       "grid_template_rows": null,
       "height": null,
       "justify_content": null,
       "justify_items": null,
       "left": null,
       "margin": null,
       "max_height": null,
       "max_width": null,
       "min_height": null,
       "min_width": null,
       "object_fit": null,
       "object_position": null,
       "order": null,
       "overflow": null,
       "overflow_x": null,
       "overflow_y": null,
       "padding": null,
       "right": null,
       "top": null,
       "visibility": null,
       "width": null
      }
     },
     "f7bca5a490ab4f9aaf84c6d436b4f515": {
      "model_module": "@jupyter-widgets/controls",
      "model_module_version": "1.5.0",
      "model_name": "DescriptionStyleModel",
      "state": {
       "_model_module": "@jupyter-widgets/controls",
       "_model_module_version": "1.5.0",
       "_model_name": "DescriptionStyleModel",
       "_view_count": null,
       "_view_module": "@jupyter-widgets/base",
       "_view_module_version": "1.2.0",
       "_view_name": "StyleView",
       "description_width": ""
      }
     },
     "f7f7100290814ddfb2fb6ea34d0f435e": {
      "model_module": "@jupyter-widgets/controls",
      "model_module_version": "1.5.0",
      "model_name": "ProgressStyleModel",
      "state": {
       "_model_module": "@jupyter-widgets/controls",
       "_model_module_version": "1.5.0",
       "_model_name": "ProgressStyleModel",
       "_view_count": null,
       "_view_module": "@jupyter-widgets/base",
       "_view_module_version": "1.2.0",
       "_view_name": "StyleView",
       "bar_color": null,
       "description_width": ""
      }
     },
     "f85582518e9d43ffa78363104112acff": {
      "model_module": "@jupyter-widgets/controls",
      "model_module_version": "1.5.0",
      "model_name": "HTMLModel",
      "state": {
       "_dom_classes": [],
       "_model_module": "@jupyter-widgets/controls",
       "_model_module_version": "1.5.0",
       "_model_name": "HTMLModel",
       "_view_count": null,
       "_view_module": "@jupyter-widgets/controls",
       "_view_module_version": "1.5.0",
       "_view_name": "HTMLView",
       "description": "",
       "description_tooltip": null,
       "layout": "IPY_MODEL_c968cf16589f4694b8e3324ac823febe",
       "placeholder": "​",
       "style": "IPY_MODEL_a701039d25b842b5b0dd6b931d86c078",
       "value": "100%"
      }
     },
     "fbbafe3f6c514dd69c052ada070d7fdc": {
      "model_module": "@jupyter-widgets/base",
      "model_module_version": "1.2.0",
      "model_name": "LayoutModel",
      "state": {
       "_model_module": "@jupyter-widgets/base",
       "_model_module_version": "1.2.0",
       "_model_name": "LayoutModel",
       "_view_count": null,
       "_view_module": "@jupyter-widgets/base",
       "_view_module_version": "1.2.0",
       "_view_name": "LayoutView",
       "align_content": null,
       "align_items": null,
       "align_self": null,
       "border": null,
       "bottom": null,
       "display": null,
       "flex": null,
       "flex_flow": null,
       "grid_area": null,
       "grid_auto_columns": null,
       "grid_auto_flow": null,
       "grid_auto_rows": null,
       "grid_column": null,
       "grid_gap": null,
       "grid_row": null,
       "grid_template_areas": null,
       "grid_template_columns": null,
       "grid_template_rows": null,
       "height": null,
       "justify_content": null,
       "justify_items": null,
       "left": null,
       "margin": null,
       "max_height": null,
       "max_width": null,
       "min_height": null,
       "min_width": null,
       "object_fit": null,
       "object_position": null,
       "order": null,
       "overflow": null,
       "overflow_x": null,
       "overflow_y": null,
       "padding": null,
       "right": null,
       "top": null,
       "visibility": null,
       "width": null
      }
     },
     "fef2d0b1d0ff484596f7dd5935a205ff": {
      "model_module": "@jupyter-widgets/controls",
      "model_module_version": "1.5.0",
      "model_name": "ProgressStyleModel",
      "state": {
       "_model_module": "@jupyter-widgets/controls",
       "_model_module_version": "1.5.0",
       "_model_name": "ProgressStyleModel",
       "_view_count": null,
       "_view_module": "@jupyter-widgets/base",
       "_view_module_version": "1.2.0",
       "_view_name": "StyleView",
       "bar_color": null,
       "description_width": ""
      }
     }
    },
    "version_major": 2,
    "version_minor": 0
   }
  }
 },
 "nbformat": 4,
 "nbformat_minor": 5
}