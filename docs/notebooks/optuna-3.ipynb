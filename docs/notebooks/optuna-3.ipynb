{
 "cells": [
  {
   "cell_type": "markdown",
   "id": "7dcf067a",
   "metadata": {
    "id": "Q-bCjQI4cMwJ",
    "papermill": {
     "duration": 0.035613,
     "end_time": "2021-09-24T11:29:48.060826",
     "exception": false,
     "start_time": "2021-09-24T11:29:48.025213",
     "status": "completed"
    },
    "tags": []
   },
   "source": [
    "# Model Tuning with Optuna"
   ]
  },
  {
   "cell_type": "markdown",
   "id": "7caebb71",
   "metadata": {
    "id": "1NK-oxLtcMwV",
    "papermill": {
     "duration": 0.032707,
     "end_time": "2021-09-24T11:29:48.127022",
     "exception": false,
     "start_time": "2021-09-24T11:29:48.094315",
     "status": "completed"
    },
    "tags": []
   },
   "source": [
    "\"With great models, comes the great problem of optimizing hyperparameters.\" - GM Abishek Thakur {cite}`AAAMLP`\n",
    "\n",
    "Hyperparameters are **non-learnable parameters** of a model that determine its architecture. The correct choice of hyperparameters could mean the difference between convergence to or divergence from a solution. In this notebook, we look at **Optuna** an open-source library that provides a framework for solving this task. From the docs:"
   ]
  },
  {
   "cell_type": "markdown",
   "id": "2f86070a",
   "metadata": {
    "id": "jE2gyvfOcMwZ",
    "papermill": {
     "duration": 0.033137,
     "end_time": "2021-09-24T11:29:48.193168",
     "exception": false,
     "start_time": "2021-09-24T11:29:48.160031",
     "status": "completed"
    },
    "tags": []
   },
   "source": [
    "```{figure} ../img/optuna.png\n",
    "---\n",
    "width: 25em\n",
    "name: optuna\n",
    "---\n",
    "```"
   ]
  },
  {
   "cell_type": "markdown",
   "id": "5bd9a6f2",
   "metadata": {
    "id": "8Ht_p93LcMwa",
    "papermill": {
     "duration": 0.032408,
     "end_time": "2021-09-24T11:29:48.258341",
     "exception": false,
     "start_time": "2021-09-24T11:29:48.225933",
     "status": "completed"
    },
    "tags": []
   },
   "source": [
    "> **Optuna** is an automatic hyperparameter optimization software framework, particularly designed for machine learning. It features an imperative, *define-by-run* style user API. Thanks to our *define-by-run* API, the code written with Optuna enjoys high modularity, and the user of Optuna can dynamically construct the search spaces for the hyperparameters.\n",
    "\n",
    "\n",
    "- [Optuna FAQ](https://optuna.readthedocs.io/en/stable/faq.html)\n",
    "- [Optuna docs](https://optuna.readthedocs.io/en/stable/index.html#)\n",
    "- [Optuna paper](https://arxiv.org/abs/1907.10902)"
   ]
  },
  {
   "cell_type": "markdown",
   "id": "a6a6201d",
   "metadata": {
    "id": "klJlBflxcMwb",
    "papermill": {
     "duration": 0.033005,
     "end_time": "2021-09-24T11:29:48.323848",
     "exception": false,
     "start_time": "2021-09-24T11:29:48.290843",
     "status": "completed"
    },
    "tags": []
   },
   "source": [
    "## Basics with scikit-learn"
   ]
  },
  {
   "cell_type": "markdown",
   "id": "32fc20cc",
   "metadata": {
    "id": "RTOBy10ecMwb",
    "papermill": {
     "duration": 0.032208,
     "end_time": "2021-09-24T11:29:48.388423",
     "exception": false,
     "start_time": "2021-09-24T11:29:48.356215",
     "status": "completed"
    },
    "tags": []
   },
   "source": [
    "Optuna is a black-box optimizer, which means it only needs an objective function, which is any function that returns a numerical value, to evaluate the performance of the its parameters, and decide where to sample in upcoming trials. An optimization problem is framed in the Optuna API using two basic concepts: `study` and `trial`. \n",
    "\n",
    "A study is conceptually an optimization based on an objective function, while a trial is a single execution of an objective function. The combination of hyperparameters for each trial is sampled according to some sampling algorithm defined by the study. \n",
    "\n",
    "In the following code example, the search space is constructed within imperative Python code, e.g. inside conditionals or loops. On the other hand, recall that for `GridSearchCV` and `RandomSearchCV` in scikit-learn, we had to define the entire search space before running the search algorithm."
   ]
  },
  {
   "cell_type": "markdown",
   "id": "b48ce708",
   "metadata": {
    "id": "_HmNJmtscMwc",
    "papermill": {
     "duration": 0.032116,
     "end_time": "2021-09-24T11:29:48.453082",
     "exception": false,
     "start_time": "2021-09-24T11:29:48.420966",
     "status": "completed"
    },
    "tags": []
   },
   "source": [
    "```{tip}\n",
    "Always perform model evaluation on a dataset within a cross-validation framework!\n",
    "```"
   ]
  },
  {
   "cell_type": "code",
   "execution_count": 1,
   "id": "ddf80103",
   "metadata": {
    "execution": {
     "iopub.execute_input": "2021-09-24T11:29:48.524231Z",
     "iopub.status.busy": "2021-09-24T11:29:48.522734Z",
     "iopub.status.idle": "2021-09-24T11:29:53.056323Z",
     "shell.execute_reply": "2021-09-24T11:29:53.056922Z",
     "shell.execute_reply.started": "2021-09-24T06:38:22.118935Z"
    },
    "id": "7MYKq1Y9cMwd",
    "outputId": "752c9e7d-36e7-49b3-b86a-e2983093a076",
    "papermill": {
     "duration": 4.571713,
     "end_time": "2021-09-24T11:29:53.057252",
     "exception": false,
     "start_time": "2021-09-24T11:29:48.485539",
     "status": "completed"
    },
    "tags": []
   },
   "outputs": [
    {
     "name": "stderr",
     "output_type": "stream",
     "text": [
      "\u001b[32m[I 2021-09-24 11:29:50,026]\u001b[0m A new study created in memory with name: no-name-2d606271-6d4c-489e-a235-9c6746f1c686\u001b[0m\n",
      "\u001b[32m[I 2021-09-24 11:29:52,609]\u001b[0m Trial 0 finished with value: 0.9473063188945815 and parameters: {'classifier': 'RandomForest', 'rf_max_depth': 2.8982480705948657}. Best is trial 0 with value: 0.9473063188945815.\u001b[0m\n",
      "\u001b[32m[I 2021-09-24 11:29:52,773]\u001b[0m Trial 1 finished with value: 0.9543393882937432 and parameters: {'classifier': 'RandomForest', 'rf_max_depth': 2.65207861748158}. Best is trial 1 with value: 0.9543393882937432.\u001b[0m\n",
      "\u001b[32m[I 2021-09-24 11:29:52,910]\u001b[0m Trial 2 finished with value: 0.9578636857630801 and parameters: {'classifier': 'RandomForest', 'rf_max_depth': 3.8508775286255155}. Best is trial 2 with value: 0.9578636857630801.\u001b[0m\n",
      "\u001b[32m[I 2021-09-24 11:29:52,993]\u001b[0m Trial 3 finished with value: 0.6274181027790716 and parameters: {'classifier': 'SVC', 'svc_c': 19.927910245186048}. Best is trial 2 with value: 0.9578636857630801.\u001b[0m\n",
      "\u001b[32m[I 2021-09-24 11:29:53,050]\u001b[0m Trial 4 finished with value: 0.6274181027790716 and parameters: {'classifier': 'SVC', 'svc_c': 8.386117601015206e-10}. Best is trial 2 with value: 0.9578636857630801.\u001b[0m\n"
     ]
    }
   ],
   "source": [
    "import optuna\n",
    "import pandas as pd\n",
    "from sklearn import ensemble, svm\n",
    "from sklearn import datasets\n",
    "from sklearn import model_selection\n",
    "from functools import partial\n",
    "import joblib\n",
    "\n",
    "\n",
    "# [1] Define an objective function to be maximized.\n",
    "def objective(trial, X, y):\n",
    "    \n",
    "    # [2] Suggest values for the hyperparameters using trial object.\n",
    "    clf_name = trial.suggest_categorical('classifier', ['SVC', 'RandomForest'])\n",
    "    if clf_name == 'SVC':\n",
    "        svc_c = trial.suggest_loguniform('svc_c', 1e-10, 1e10)\n",
    "        clf = svm.SVC(C=svc_c, gamma='auto')\n",
    "    else:\n",
    "        rf_max_depth = int(trial.suggest_loguniform('rf_max_depth', 2, 32))\n",
    "        clf = ensemble.RandomForestClassifier(max_depth=rf_max_depth, n_estimators=10)\n",
    "\n",
    "    score = model_selection.cross_val_score(clf, X, y, n_jobs=-1, cv=5)\n",
    "    return score.mean()\n",
    "\n",
    "# [3] Create a study object and optimize the objective function.\n",
    "X, y = datasets.load_breast_cancer(return_X_y=True)\n",
    "study = optuna.create_study(direction=\"maximize\")\n",
    "study.optimize(partial(objective, X=X, y=y), n_trials=5)"
   ]
  },
  {
   "cell_type": "markdown",
   "id": "5c25d96c",
   "metadata": {
    "id": "nsGUAer5cMwg",
    "papermill": {
     "duration": 0.034816,
     "end_time": "2021-09-24T11:29:53.127842",
     "exception": false,
     "start_time": "2021-09-24T11:29:53.093026",
     "status": "completed"
    },
    "tags": []
   },
   "source": [
    "The `study` object saves the result of evaluating the objective each trial &mdash; which is essentially some choice of hyperparameters to evaluate. In the above study, the problem of model selection is framed as a hyperparameter optimization problem. Here we choose between an SVM-based algorithm or Random Forest."
   ]
  },
  {
   "cell_type": "code",
   "execution_count": 2,
   "id": "b22f7900",
   "metadata": {
    "execution": {
     "iopub.execute_input": "2021-09-24T11:29:53.215102Z",
     "iopub.status.busy": "2021-09-24T11:29:53.211844Z",
     "iopub.status.idle": "2021-09-24T11:29:53.233690Z",
     "shell.execute_reply": "2021-09-24T11:29:53.233289Z",
     "shell.execute_reply.started": "2021-09-24T06:38:25.864493Z"
    },
    "id": "-e2vQKKTcMwh",
    "outputId": "bdca7478-d429-431f-fbe0-2963d500e735",
    "papermill": {
     "duration": 0.071629,
     "end_time": "2021-09-24T11:29:53.233796",
     "exception": false,
     "start_time": "2021-09-24T11:29:53.162167",
     "status": "completed"
    },
    "tags": []
   },
   "outputs": [
    {
     "data": {
      "text/html": [
       "<div>\n",
       "<style scoped>\n",
       "    .dataframe tbody tr th:only-of-type {\n",
       "        vertical-align: middle;\n",
       "    }\n",
       "\n",
       "    .dataframe tbody tr th {\n",
       "        vertical-align: top;\n",
       "    }\n",
       "\n",
       "    .dataframe thead th {\n",
       "        text-align: right;\n",
       "    }\n",
       "</style>\n",
       "<table border=\"1\" class=\"dataframe\">\n",
       "  <thead>\n",
       "    <tr style=\"text-align: right;\">\n",
       "      <th></th>\n",
       "      <th>number</th>\n",
       "      <th>value</th>\n",
       "      <th>datetime_start</th>\n",
       "      <th>datetime_complete</th>\n",
       "      <th>duration</th>\n",
       "      <th>params_classifier</th>\n",
       "      <th>params_rf_max_depth</th>\n",
       "      <th>params_svc_c</th>\n",
       "      <th>state</th>\n",
       "    </tr>\n",
       "  </thead>\n",
       "  <tbody>\n",
       "    <tr>\n",
       "      <th>0</th>\n",
       "      <td>0</td>\n",
       "      <td>0.947306</td>\n",
       "      <td>2021-09-24 11:29:50.030744</td>\n",
       "      <td>2021-09-24 11:29:52.608696</td>\n",
       "      <td>0 days 00:00:02.577952</td>\n",
       "      <td>RandomForest</td>\n",
       "      <td>2.898248</td>\n",
       "      <td>NaN</td>\n",
       "      <td>COMPLETE</td>\n",
       "    </tr>\n",
       "    <tr>\n",
       "      <th>1</th>\n",
       "      <td>1</td>\n",
       "      <td>0.954339</td>\n",
       "      <td>2021-09-24 11:29:52.610776</td>\n",
       "      <td>2021-09-24 11:29:52.773269</td>\n",
       "      <td>0 days 00:00:00.162493</td>\n",
       "      <td>RandomForest</td>\n",
       "      <td>2.652079</td>\n",
       "      <td>NaN</td>\n",
       "      <td>COMPLETE</td>\n",
       "    </tr>\n",
       "    <tr>\n",
       "      <th>2</th>\n",
       "      <td>2</td>\n",
       "      <td>0.957864</td>\n",
       "      <td>2021-09-24 11:29:52.774571</td>\n",
       "      <td>2021-09-24 11:29:52.910607</td>\n",
       "      <td>0 days 00:00:00.136036</td>\n",
       "      <td>RandomForest</td>\n",
       "      <td>3.850878</td>\n",
       "      <td>NaN</td>\n",
       "      <td>COMPLETE</td>\n",
       "    </tr>\n",
       "    <tr>\n",
       "      <th>3</th>\n",
       "      <td>3</td>\n",
       "      <td>0.627418</td>\n",
       "      <td>2021-09-24 11:29:52.911607</td>\n",
       "      <td>2021-09-24 11:29:52.992990</td>\n",
       "      <td>0 days 00:00:00.081383</td>\n",
       "      <td>SVC</td>\n",
       "      <td>NaN</td>\n",
       "      <td>1.992791e+01</td>\n",
       "      <td>COMPLETE</td>\n",
       "    </tr>\n",
       "    <tr>\n",
       "      <th>4</th>\n",
       "      <td>4</td>\n",
       "      <td>0.627418</td>\n",
       "      <td>2021-09-24 11:29:52.994038</td>\n",
       "      <td>2021-09-24 11:29:53.049727</td>\n",
       "      <td>0 days 00:00:00.055689</td>\n",
       "      <td>SVC</td>\n",
       "      <td>NaN</td>\n",
       "      <td>8.386118e-10</td>\n",
       "      <td>COMPLETE</td>\n",
       "    </tr>\n",
       "  </tbody>\n",
       "</table>\n",
       "</div>"
      ],
      "text/plain": [
       "   number     value             datetime_start          datetime_complete  \\\n",
       "0       0  0.947306 2021-09-24 11:29:50.030744 2021-09-24 11:29:52.608696   \n",
       "1       1  0.954339 2021-09-24 11:29:52.610776 2021-09-24 11:29:52.773269   \n",
       "2       2  0.957864 2021-09-24 11:29:52.774571 2021-09-24 11:29:52.910607   \n",
       "3       3  0.627418 2021-09-24 11:29:52.911607 2021-09-24 11:29:52.992990   \n",
       "4       4  0.627418 2021-09-24 11:29:52.994038 2021-09-24 11:29:53.049727   \n",
       "\n",
       "                duration params_classifier  params_rf_max_depth  params_svc_c  \\\n",
       "0 0 days 00:00:02.577952      RandomForest             2.898248           NaN   \n",
       "1 0 days 00:00:00.162493      RandomForest             2.652079           NaN   \n",
       "2 0 days 00:00:00.136036      RandomForest             3.850878           NaN   \n",
       "3 0 days 00:00:00.081383               SVC                  NaN  1.992791e+01   \n",
       "4 0 days 00:00:00.055689               SVC                  NaN  8.386118e-10   \n",
       "\n",
       "      state  \n",
       "0  COMPLETE  \n",
       "1  COMPLETE  \n",
       "2  COMPLETE  \n",
       "3  COMPLETE  \n",
       "4  COMPLETE  "
      ]
     },
     "execution_count": 2,
     "metadata": {},
     "output_type": "execute_result"
    }
   ],
   "source": [
    "study.trials_dataframe().head()"
   ]
  },
  {
   "cell_type": "markdown",
   "id": "4f96857b",
   "metadata": {
    "id": "hJFdE1kwcMwi",
    "papermill": {
     "duration": 0.034419,
     "end_time": "2021-09-24T11:29:53.303768",
     "exception": false,
     "start_time": "2021-09-24T11:29:53.269349",
     "status": "completed"
    },
    "tags": []
   },
   "source": [
    "### Fine tuning Random Forest"
   ]
  },
  {
   "cell_type": "markdown",
   "id": "8819a559",
   "metadata": {
    "id": "x20Gt3wccMwj",
    "papermill": {
     "duration": 0.034396,
     "end_time": "2021-09-24T11:29:53.372865",
     "exception": false,
     "start_time": "2021-09-24T11:29:53.338469",
     "status": "completed"
    },
    "tags": []
   },
   "source": [
    "Here we focus on tuning a single Random Forest model. Then, plot the accuracy for each pair of hyperparameters."
   ]
  },
  {
   "cell_type": "code",
   "execution_count": 3,
   "id": "786ac925",
   "metadata": {
    "execution": {
     "iopub.execute_input": "2021-09-24T11:29:53.450718Z",
     "iopub.status.busy": "2021-09-24T11:29:53.449984Z",
     "iopub.status.idle": "2021-09-24T11:33:33.527622Z",
     "shell.execute_reply": "2021-09-24T11:33:33.527993Z",
     "shell.execute_reply.started": "2021-09-24T06:38:25.902762Z"
    },
    "id": "F2o11RCLcMwk",
    "outputId": "6f8a7e09-4d08-48ba-be23-0242d11538cf",
    "papermill": {
     "duration": 220.120833,
     "end_time": "2021-09-24T11:33:33.528185",
     "exception": false,
     "start_time": "2021-09-24T11:29:53.407352",
     "status": "completed"
    },
    "tags": []
   },
   "outputs": [
    {
     "name": "stderr",
     "output_type": "stream",
     "text": [
      "\u001b[32m[I 2021-09-24 11:29:53,446]\u001b[0m A new study created in memory with name: no-name-619d4e0a-ef41-46b0-b946-b0dfb448bade\u001b[0m\n",
      "\u001b[32m[I 2021-09-24 11:29:57,467]\u001b[0m Trial 0 finished with value: 0.9666511411271541 and parameters: {'max_depth': 82, 'max_features': 0.529268461595396, 'n_estimators': 333}. Best is trial 0 with value: 0.9666511411271541.\u001b[0m\n",
      "\u001b[32m[I 2021-09-24 11:29:58,727]\u001b[0m Trial 1 finished with value: 0.9578326346840551 and parameters: {'max_depth': 3, 'max_features': 0.43110407775958504, 'n_estimators': 130}. Best is trial 0 with value: 0.9666511411271541.\u001b[0m\n",
      "\u001b[32m[I 2021-09-24 11:30:02,624]\u001b[0m Trial 2 finished with value: 0.9613879832324173 and parameters: {'max_depth': 43, 'max_features': 0.6423626247990405, 'n_estimators': 275}. Best is trial 0 with value: 0.9666511411271541.\u001b[0m\n",
      "\u001b[32m[I 2021-09-24 11:30:08,774]\u001b[0m Trial 3 finished with value: 0.9508150908244062 and parameters: {'max_depth': 2, 'max_features': 0.675742634555383, 'n_estimators': 574}. Best is trial 0 with value: 0.9666511411271541.\u001b[0m\n",
      "\u001b[32m[I 2021-09-24 11:30:17,763]\u001b[0m Trial 4 finished with value: 0.9596180717279925 and parameters: {'max_depth': 103, 'max_features': 0.5366893869318167, 'n_estimators': 695}. Best is trial 0 with value: 0.9666511411271541.\u001b[0m\n",
      "\u001b[32m[I 2021-09-24 11:30:23,031]\u001b[0m Trial 5 finished with value: 0.9525694767893184 and parameters: {'max_depth': 2, 'max_features': 0.5127039655008042, 'n_estimators': 571}. Best is trial 0 with value: 0.9666511411271541.\u001b[0m\n",
      "\u001b[32m[I 2021-09-24 11:30:27,903]\u001b[0m Trial 6 finished with value: 0.9543393882937432 and parameters: {'max_depth': 5, 'max_features': 0.7766103769093737, 'n_estimators': 274}. Best is trial 0 with value: 0.9666511411271541.\u001b[0m\n",
      "\u001b[32m[I 2021-09-24 11:30:32,441]\u001b[0m Trial 7 finished with value: 0.9543238627542306 and parameters: {'max_depth': 3, 'max_features': 0.8136415469240569, 'n_estimators': 357}. Best is trial 0 with value: 0.9666511411271541.\u001b[0m\n",
      "\u001b[32m[I 2021-09-24 11:30:37,965]\u001b[0m Trial 8 finished with value: 0.9596025461884802 and parameters: {'max_depth': 9, 'max_features': 0.14498527318181312, 'n_estimators': 647}. Best is trial 0 with value: 0.9666511411271541.\u001b[0m\n",
      "\u001b[32m[I 2021-09-24 11:30:40,059]\u001b[0m Trial 9 finished with value: 0.9578792113025928 and parameters: {'max_depth': 17, 'max_features': 0.7471363262045614, 'n_estimators': 140}. Best is trial 0 with value: 0.9666511411271541.\u001b[0m\n",
      "\u001b[32m[I 2021-09-24 11:30:44,548]\u001b[0m Trial 10 finished with value: 0.95960254618848 and parameters: {'max_depth': 116, 'max_features': 0.27673597403532846, 'n_estimators': 465}. Best is trial 0 with value: 0.9666511411271541.\u001b[0m\n",
      "\u001b[32m[I 2021-09-24 11:30:50,039]\u001b[0m Trial 11 finished with value: 0.9578792113025927 and parameters: {'max_depth': 39, 'max_features': 0.9709210314088654, 'n_estimators': 301}. Best is trial 0 with value: 0.9666511411271541.\u001b[0m\n",
      "\u001b[32m[I 2021-09-24 11:30:54,412]\u001b[0m Trial 12 finished with value: 0.95960254618848 and parameters: {'max_depth': 46, 'max_features': 0.35608868854052805, 'n_estimators': 423}. Best is trial 0 with value: 0.9666511411271541.\u001b[0m\n",
      "\u001b[32m[I 2021-09-24 11:30:57,968]\u001b[0m Trial 13 finished with value: 0.9578792113025927 and parameters: {'max_depth': 41, 'max_features': 0.6278958702696066, 'n_estimators': 227}. Best is trial 0 with value: 0.9666511411271541.\u001b[0m\n",
      "\u001b[32m[I 2021-09-24 11:31:04,940]\u001b[0m Trial 14 finished with value: 0.9578792113025927 and parameters: {'max_depth': 21, 'max_features': 0.8797827079426295, 'n_estimators': 412}. Best is trial 0 with value: 0.9666511411271541.\u001b[0m\n",
      "\u001b[32m[I 2021-09-24 11:31:07,545]\u001b[0m Trial 15 finished with value: 0.9613879832324173 and parameters: {'max_depth': 70, 'max_features': 0.6075302498553088, 'n_estimators': 194}. Best is trial 0 with value: 0.9666511411271541.\u001b[0m\n",
      "\u001b[32m[I 2021-09-24 11:31:16,880]\u001b[0m Trial 16 finished with value: 0.95960254618848 and parameters: {'max_depth': 24, 'max_features': 0.43632491156247677, 'n_estimators': 781}. Best is trial 0 with value: 0.9666511411271541.\u001b[0m\n",
      "\u001b[32m[I 2021-09-24 11:31:18,591]\u001b[0m Trial 17 finished with value: 0.9666356155876418 and parameters: {'max_depth': 87, 'max_features': 0.2504118685127142, 'n_estimators': 183}. Best is trial 0 with value: 0.9666511411271541.\u001b[0m\n",
      "\u001b[32m[I 2021-09-24 11:31:21,576]\u001b[0m Trial 18 finished with value: 0.95960254618848 and parameters: {'max_depth': 10, 'max_features': 0.10977577056108148, 'n_estimators': 343}. Best is trial 0 with value: 0.9666511411271541.\u001b[0m\n",
      "\u001b[32m[I 2021-09-24 11:31:23,569]\u001b[0m Trial 19 finished with value: 0.9596180717279925 and parameters: {'max_depth': 76, 'max_features': 0.2773791747193444, 'n_estimators': 204}. Best is trial 0 with value: 0.9666511411271541.\u001b[0m\n",
      "\u001b[32m[I 2021-09-24 11:31:27,906]\u001b[0m Trial 20 finished with value: 0.95960254618848 and parameters: {'max_depth': 68, 'max_features': 0.2161745066748183, 'n_estimators': 481}. Best is trial 0 with value: 0.9666511411271541.\u001b[0m\n",
      "\u001b[32m[I 2021-09-24 11:31:31,874]\u001b[0m Trial 21 finished with value: 0.9613724576929048 and parameters: {'max_depth': 30, 'max_features': 0.44771334799767626, 'n_estimators': 272}. Best is trial 0 with value: 0.9666511411271541.\u001b[0m\n",
      "\u001b[32m[I 2021-09-24 11:31:37,079]\u001b[0m Trial 22 finished with value: 0.959633597267505 and parameters: {'max_depth': 55, 'max_features': 0.7067137123798534, 'n_estimators': 364}. Best is trial 0 with value: 0.9666511411271541.\u001b[0m\n",
      "\u001b[32m[I 2021-09-24 11:31:38,570]\u001b[0m Trial 23 finished with value: 0.9631268436578171 and parameters: {'max_depth': 128, 'max_features': 0.5940533948258165, 'n_estimators': 112}. Best is trial 0 with value: 0.9666511411271541.\u001b[0m\n",
      "\u001b[32m[I 2021-09-24 11:31:39,808]\u001b[0m Trial 24 finished with value: 0.9613569321533924 and parameters: {'max_depth': 124, 'max_features': 0.3209119721339019, 'n_estimators': 122}. Best is trial 0 with value: 0.9666511411271541.\u001b[0m\n",
      "\u001b[32m[I 2021-09-24 11:31:42,358]\u001b[0m Trial 25 finished with value: 0.9613879832324173 and parameters: {'max_depth': 89, 'max_features': 0.5511066525945021, 'n_estimators': 182}. Best is trial 0 with value: 0.9666511411271541.\u001b[0m\n",
      "\u001b[32m[I 2021-09-24 11:31:43,652]\u001b[0m Trial 26 finished with value: 0.9613724576929048 and parameters: {'max_depth': 63, 'max_features': 0.37283436637623385, 'n_estimators': 104}. Best is trial 0 with value: 0.9666511411271541.\u001b[0m\n",
      "\u001b[32m[I 2021-09-24 11:31:45,683]\u001b[0m Trial 27 finished with value: 0.9595870206489675 and parameters: {'max_depth': 126, 'max_features': 0.18130268144404255, 'n_estimators': 225}. Best is trial 0 with value: 0.9666511411271541.\u001b[0m\n",
      "\u001b[32m[I 2021-09-24 11:31:47,460]\u001b[0m Trial 28 finished with value: 0.9613724576929048 and parameters: {'max_depth': 86, 'max_features': 0.4885148336559436, 'n_estimators': 142}. Best is trial 0 with value: 0.9666511411271541.\u001b[0m\n",
      "\u001b[32m[I 2021-09-24 11:31:49,675]\u001b[0m Trial 29 finished with value: 0.9613724576929048 and parameters: {'max_depth': 30, 'max_features': 0.5944937727404338, 'n_estimators': 171}. Best is trial 0 with value: 0.9666511411271541.\u001b[0m\n",
      "\u001b[32m[I 2021-09-24 11:31:53,308]\u001b[0m Trial 30 finished with value: 0.9613724576929048 and parameters: {'max_depth': 10, 'max_features': 0.40190976067600415, 'n_estimators': 317}. Best is trial 0 with value: 0.9666511411271541.\u001b[0m\n",
      "\u001b[32m[I 2021-09-24 11:31:54,728]\u001b[0m Trial 31 finished with value: 0.9578636857630801 and parameters: {'max_depth': 90, 'max_features': 0.5804122823516391, 'n_estimators': 100}. Best is trial 0 with value: 0.9666511411271541.\u001b[0m\n",
      "\u001b[32m[I 2021-09-24 11:31:57,553]\u001b[0m Trial 32 finished with value: 0.9596180717279925 and parameters: {'max_depth': 54, 'max_features': 0.49225104125994545, 'n_estimators': 239}. Best is trial 0 with value: 0.9666511411271541.\u001b[0m\n",
      "\u001b[32m[I 2021-09-24 11:32:01,657]\u001b[0m Trial 33 finished with value: 0.9613724576929048 and parameters: {'max_depth': 98, 'max_features': 0.6731954800598449, 'n_estimators': 266}. Best is trial 0 with value: 0.9666511411271541.\u001b[0m\n",
      "\u001b[32m[I 2021-09-24 11:32:03,937]\u001b[0m Trial 34 finished with value: 0.959633597267505 and parameters: {'max_depth': 34, 'max_features': 0.6711636696701189, 'n_estimators': 162}. Best is trial 0 with value: 0.9666511411271541.\u001b[0m\n",
      "\u001b[32m[I 2021-09-24 11:32:09,898]\u001b[0m Trial 35 finished with value: 0.959633597267505 and parameters: {'max_depth': 45, 'max_features': 0.7320700514092767, 'n_estimators': 395}. Best is trial 0 with value: 0.9666511411271541.\u001b[0m\n",
      "\u001b[32m[I 2021-09-24 11:32:18,432]\u001b[0m Trial 36 finished with value: 0.9613724576929048 and parameters: {'max_depth': 56, 'max_features': 0.8208249303396054, 'n_estimators': 530}. Best is trial 0 with value: 0.9666511411271541.\u001b[0m\n",
      "\u001b[32m[I 2021-09-24 11:32:22,153]\u001b[0m Trial 37 finished with value: 0.9613879832324173 and parameters: {'max_depth': 107, 'max_features': 0.5410935086721329, 'n_estimators': 293}. Best is trial 0 with value: 0.9666511411271541.\u001b[0m\n",
      "\u001b[32m[I 2021-09-24 11:32:24,144]\u001b[0m Trial 38 finished with value: 0.9631423691973297 and parameters: {'max_depth': 82, 'max_features': 0.5471602621815144, 'n_estimators': 158}. Best is trial 0 with value: 0.9666511411271541.\u001b[0m\n",
      "\u001b[32m[I 2021-09-24 11:32:25,890]\u001b[0m Trial 39 finished with value: 0.9613724576929048 and parameters: {'max_depth': 7, 'max_features': 0.49226007238688796, 'n_estimators': 145}. Best is trial 0 with value: 0.9666511411271541.\u001b[0m\n",
      "\u001b[32m[I 2021-09-24 11:32:28,568]\u001b[0m Trial 40 finished with value: 0.9613724576929048 and parameters: {'max_depth': 83, 'max_features': 0.24301810862455078, 'n_estimators': 255}. Best is trial 0 with value: 0.9666511411271541.\u001b[0m\n",
      "\u001b[32m[I 2021-09-24 11:32:31,409]\u001b[0m Trial 41 finished with value: 0.9614035087719298 and parameters: {'max_depth': 72, 'max_features': 0.6405516835833728, 'n_estimators': 206}. Best is trial 0 with value: 0.9666511411271541.\u001b[0m\n",
      "\u001b[32m[I 2021-09-24 11:32:34,720]\u001b[0m Trial 42 finished with value: 0.9631578947368421 and parameters: {'max_depth': 70, 'max_features': 0.6520790857548414, 'n_estimators': 200}. Best is trial 0 with value: 0.9666511411271541.\u001b[0m\n",
      "\u001b[32m[I 2021-09-24 11:32:36,965]\u001b[0m Trial 43 finished with value: 0.9613724576929048 and parameters: {'max_depth': 103, 'max_features': 0.5679925915142259, 'n_estimators': 173}. Best is trial 0 with value: 0.9666511411271541.\u001b[0m\n",
      "\u001b[32m[I 2021-09-24 11:32:39,069]\u001b[0m Trial 44 finished with value: 0.959633597267505 and parameters: {'max_depth': 51, 'max_features': 0.701785702477188, 'n_estimators': 125}. Best is trial 0 with value: 0.9666511411271541.\u001b[0m\n",
      "\u001b[32m[I 2021-09-24 11:32:43,550]\u001b[0m Trial 45 finished with value: 0.9543393882937432 and parameters: {'max_depth': 4, 'max_features': 0.7694127465397826, 'n_estimators': 323}. Best is trial 0 with value: 0.9666511411271541.\u001b[0m\n",
      "\u001b[32m[I 2021-09-24 11:32:46,250]\u001b[0m Trial 46 finished with value: 0.9666511411271541 and parameters: {'max_depth': 128, 'max_features': 0.5232275456481973, 'n_estimators': 215}. Best is trial 0 with value: 0.9666511411271541.\u001b[0m\n",
      "\u001b[32m[I 2021-09-24 11:32:49,107]\u001b[0m Trial 47 finished with value: 0.9631268436578171 and parameters: {'max_depth': 65, 'max_features': 0.44400913463552344, 'n_estimators': 223}. Best is trial 0 with value: 0.9666511411271541.\u001b[0m\n",
      "\u001b[32m[I 2021-09-24 11:32:55,357]\u001b[0m Trial 48 finished with value: 0.9561092997981678 and parameters: {'max_depth': 15, 'max_features': 0.920993998540967, 'n_estimators': 374}. Best is trial 0 with value: 0.9666511411271541.\u001b[0m\n",
      "\u001b[32m[I 2021-09-24 11:32:58,261]\u001b[0m Trial 49 finished with value: 0.9613724576929048 and parameters: {'max_depth': 38, 'max_features': 0.3112121255652732, 'n_estimators': 292}. Best is trial 0 with value: 0.9666511411271541.\u001b[0m\n",
      "\u001b[32m[I 2021-09-24 11:33:01,699]\u001b[0m Trial 50 finished with value: 0.968421052631579 and parameters: {'max_depth': 102, 'max_features': 0.5177271508851232, 'n_estimators': 257}. Best is trial 50 with value: 0.968421052631579.\u001b[0m\n",
      "\u001b[32m[I 2021-09-24 11:33:04,908]\u001b[0m Trial 51 finished with value: 0.9666511411271541 and parameters: {'max_depth': 102, 'max_features': 0.5277315383318874, 'n_estimators': 249}. Best is trial 50 with value: 0.968421052631579.\u001b[0m\n",
      "\u001b[32m[I 2021-09-24 11:33:08,309]\u001b[0m Trial 52 finished with value: 0.9666511411271541 and parameters: {'max_depth': 114, 'max_features': 0.5064367515463305, 'n_estimators': 249}. Best is trial 50 with value: 0.968421052631579.\u001b[0m\n",
      "\u001b[32m[I 2021-09-24 11:33:11,331]\u001b[0m Trial 53 finished with value: 0.9631423691973297 and parameters: {'max_depth': 101, 'max_features': 0.39862002575369004, 'n_estimators': 253}. Best is trial 50 with value: 0.968421052631579.\u001b[0m\n",
      "\u001b[32m[I 2021-09-24 11:33:14,854]\u001b[0m Trial 54 finished with value: 0.9648967551622418 and parameters: {'max_depth': 107, 'max_features': 0.5128413861623162, 'n_estimators': 288}. Best is trial 50 with value: 0.968421052631579.\u001b[0m\n",
      "\u001b[32m[I 2021-09-24 11:33:18,732]\u001b[0m Trial 55 finished with value: 0.9596180717279925 and parameters: {'max_depth': 128, 'max_features': 0.4595225778981402, 'n_estimators': 337}. Best is trial 50 with value: 0.968421052631579.\u001b[0m\n",
      "\u001b[32m[I 2021-09-24 11:33:21,549]\u001b[0m Trial 56 finished with value: 0.9613724576929048 and parameters: {'max_depth': 97, 'max_features': 0.41151922067892793, 'n_estimators': 233}. Best is trial 50 with value: 0.968421052631579.\u001b[0m\n",
      "\u001b[32m[I 2021-09-24 11:33:24,522]\u001b[0m Trial 57 finished with value: 0.9525694767893184 and parameters: {'max_depth': 2, 'max_features': 0.5140929847118635, 'n_estimators': 310}. Best is trial 50 with value: 0.968421052631579.\u001b[0m\n",
      "\u001b[32m[I 2021-09-24 11:33:30,364]\u001b[0m Trial 58 finished with value: 0.9613724576929048 and parameters: {'max_depth': 61, 'max_features': 0.6206743386678042, 'n_estimators': 431}. Best is trial 50 with value: 0.968421052631579.\u001b[0m\n",
      "\u001b[32m[I 2021-09-24 11:33:33,521]\u001b[0m Trial 59 finished with value: 0.9631423691973297 and parameters: {'max_depth': 113, 'max_features': 0.37271429227672426, 'n_estimators': 267}. Best is trial 50 with value: 0.968421052631579.\u001b[0m\n"
     ]
    }
   ],
   "source": [
    "def objective(trial):\n",
    "    \n",
    "    max_depth = trial.suggest_int('max_depth', 2, 128, log=True)    \n",
    "    max_features = trial.suggest_float('max_features', 0.1, 1.0)    \n",
    "    n_estimators = trial.suggest_int('n_estimators', 100, 800)\n",
    "    \n",
    "    clf = ensemble.RandomForestClassifier(\n",
    "        max_depth=max_depth,\n",
    "        n_estimators=n_estimators,\n",
    "        max_features=max_features,\n",
    "        random_state=42)   \n",
    "    \n",
    "    score = model_selection.cross_val_score(clf, X, y, n_jobs=-1, cv=5)\n",
    "    return score.mean()\n",
    "\n",
    "\n",
    "study = optuna.create_study(direction=\"maximize\")\n",
    "study.optimize(objective, n_trials=60)"
   ]
  },
  {
   "cell_type": "code",
   "execution_count": 4,
   "id": "05516781",
   "metadata": {
    "execution": {
     "iopub.execute_input": "2021-09-24T11:33:33.633920Z",
     "iopub.status.busy": "2021-09-24T11:33:33.633287Z",
     "iopub.status.idle": "2021-09-24T11:33:33.635889Z",
     "shell.execute_reply": "2021-09-24T11:33:33.636336Z",
     "shell.execute_reply.started": "2021-09-24T06:41:32.095939Z"
    },
    "id": "5feGzBJTcMwm",
    "outputId": "46394246-610d-45b1-e921-3f2ceac18324",
    "papermill": {
     "duration": 0.057373,
     "end_time": "2021-09-24T11:33:33.636454",
     "exception": false,
     "start_time": "2021-09-24T11:33:33.579081",
     "status": "completed"
    },
    "tags": []
   },
   "outputs": [
    {
     "data": {
      "text/plain": [
       "{'max_depth': 102, 'max_features': 0.5177271508851232, 'n_estimators': 257}"
      ]
     },
     "execution_count": 4,
     "metadata": {},
     "output_type": "execute_result"
    }
   ],
   "source": [
    "study.best_params"
   ]
  },
  {
   "cell_type": "code",
   "execution_count": 5,
   "id": "5e8f7f20",
   "metadata": {
    "execution": {
     "iopub.execute_input": "2021-09-24T11:33:33.740343Z",
     "iopub.status.busy": "2021-09-24T11:33:33.739656Z",
     "iopub.status.idle": "2021-09-24T11:33:33.742878Z",
     "shell.execute_reply": "2021-09-24T11:33:33.742500Z",
     "shell.execute_reply.started": "2021-09-24T06:41:32.104554Z"
    },
    "id": "CzKJQni3iEiD",
    "outputId": "0a7e4c81-cd77-4542-af94-017deb19267e",
    "papermill": {
     "duration": 0.05683,
     "end_time": "2021-09-24T11:33:33.742976",
     "exception": false,
     "start_time": "2021-09-24T11:33:33.686146",
     "status": "completed"
    },
    "tags": []
   },
   "outputs": [
    {
     "data": {
      "text/plain": [
       "0.968421052631579"
      ]
     },
     "execution_count": 5,
     "metadata": {},
     "output_type": "execute_result"
    }
   ],
   "source": [
    "study.best_value"
   ]
  },
  {
   "cell_type": "markdown",
   "id": "e349a561",
   "metadata": {
    "id": "FqulVaLvfkD1",
    "papermill": {
     "duration": 0.05009,
     "end_time": "2021-09-24T11:33:33.843177",
     "exception": false,
     "start_time": "2021-09-24T11:33:33.793087",
     "status": "completed"
    },
    "tags": []
   },
   "source": [
    "### Sampling algorithms"
   ]
  },
  {
   "cell_type": "code",
   "execution_count": 6,
   "id": "8d54cfee",
   "metadata": {
    "execution": {
     "iopub.execute_input": "2021-09-24T11:33:33.965155Z",
     "iopub.status.busy": "2021-09-24T11:33:33.964530Z",
     "iopub.status.idle": "2021-09-24T11:33:34.578108Z",
     "shell.execute_reply": "2021-09-24T11:33:34.577671Z",
     "shell.execute_reply.started": "2021-09-24T06:41:32.117211Z"
    },
    "id": "aJMDs6zccMwl",
    "outputId": "9927d215-69dc-4f90-c65a-4300593bb966",
    "papermill": {
     "duration": 0.684946,
     "end_time": "2021-09-24T11:33:34.578269",
     "exception": false,
     "start_time": "2021-09-24T11:33:33.893323",
     "status": "completed"
    },
    "tags": []
   },
   "outputs": [
    {
     "data": {
      "image/png": "[encoded data removed]",
      "text/plain": [
       "<Figure size 1152x288 with 4 Axes>"
      ]
     },
     "metadata": {
      "needs_background": "light"
     },
     "output_type": "display_data"
    }
   ],
   "source": [
    "import matplotlib.pyplot as plt\n",
    "fig, axes = plt.subplots(nrows=1, ncols=3)\n",
    "\n",
    "def plot_results(study, p1, p2, j, cb):\n",
    "    study.trials_dataframe().plot(\n",
    "        kind='scatter', ax=axes[j], x=p1, y=p2,\n",
    "        c='value', s=60, cmap=plt.get_cmap(\"jet\"), \n",
    "        colorbar=cb, label=\"accuracy\", figsize=(16, 4)\n",
    "    )\n",
    "\n",
    "plot_results(study, 'params_max_depth',    'params_n_estimators', j=0, cb=False)\n",
    "plot_results(study, 'params_max_depth',    'params_max_features', j=1, cb=False)\n",
    "plot_results(study, 'params_n_estimators', 'params_max_features', j=2, cb=True);"
   ]
  },
  {
   "cell_type": "markdown",
   "id": "099fd200",
   "metadata": {
    "id": "Ttvy3BEAcMwm",
    "papermill": {
     "duration": 0.051817,
     "end_time": "2021-09-24T11:33:34.682402",
     "exception": false,
     "start_time": "2021-09-24T11:33:34.630585",
     "status": "completed"
    },
    "tags": []
   },
   "source": [
    "**Figure.** TPE in action. Optuna uses  **Tree-structured Parzen Estimater (TPE)** {cite}`bergstra` as the default sampler which is a form of Bayesian optimization. Observe that the hyperparameter space is searched more efficiently than a random search with the sampler choosing points closer to previous good results. Samplers are specified when creating a study: \n",
    "\n",
    "```python\n",
    "study = create_study(direction=\"maximize\", sampler=optuna.samplers.TPESampler())\n",
    "```\n",
    "\n",
    "From the [docs](https://optuna.readthedocs.io/en/stable/reference/generated/optuna.samplers.TPESampler.html#optuna.samplers.TPESampler):\n",
    "\n",
    "> On each trial, for each parameter, TPE fits one Gaussian Mixture Model (GMM) `l(x)` to the set of parameter values associated with the best objective values, and another GMM `g(x)` to the remaining parameter values. It chooses the parameter value `x` that maximizes the ratio `l(x)/g(x)`.\n",
    "\n",
    "Thus, TPE samples every hyperparameter **independently** &mdash; no explicit hyperparameter interactions are considered when sampling future trials, although other parameters implicitly affect objective value. Optuna also implements old friends random and grid search in the following samplers:\n",
    "- `optuna.samplers.GridSampler`\n",
    "- `optuna.samplers.RandomSampler`"
   ]
  },
  {
   "cell_type": "markdown",
   "id": "27be65b2",
   "metadata": {
    "id": "DN6cMax5fkD2",
    "papermill": {
     "duration": 0.052153,
     "end_time": "2021-09-24T11:33:34.786253",
     "exception": false,
     "start_time": "2021-09-24T11:33:34.734100",
     "status": "completed"
    },
    "tags": []
   },
   "source": [
    "Results from the [paper](https://arxiv.org/pdf/1907.10902.pdf) {cite}`akiba2019optuna`:"
   ]
  },
  {
   "cell_type": "markdown",
   "id": "ad8cc1bf",
   "metadata": {
    "id": "MRbOyHBvfkD3",
    "papermill": {
     "duration": 0.052577,
     "end_time": "2021-09-24T11:33:34.891307",
     "exception": false,
     "start_time": "2021-09-24T11:33:34.838730",
     "status": "completed"
    },
    "tags": []
   },
   "source": [
    "```{figure} ../img/fig9-optuna.png\n",
    "---\n",
    "width: 35em\n",
    "name: fig9-optuna\n",
    "---\n",
    "```"
   ]
  },
  {
   "cell_type": "markdown",
   "id": "a7c68c17",
   "metadata": {
    "id": "yi5gn3PZfkD4",
    "papermill": {
     "duration": 0.052143,
     "end_time": "2021-09-24T11:33:34.996030",
     "exception": false,
     "start_time": "2021-09-24T11:33:34.943887",
     "status": "completed"
    },
    "tags": []
   },
   "source": [
    "```{figure} ../img/fig10-optuna.png\n",
    "---\n",
    "width: 35em\n",
    "name: fig10-optuna\n",
    "---\n",
    "```"
   ]
  },
  {
   "cell_type": "markdown",
   "id": "a143f28a",
   "metadata": {
    "id": "Yx-tL9u0c5eK",
    "papermill": {
     "duration": 0.05177,
     "end_time": "2021-09-24T11:33:35.100182",
     "exception": false,
     "start_time": "2021-09-24T11:33:35.048412",
     "status": "completed"
    },
    "tags": []
   },
   "source": [
    "```{figure} ../img/optuna-results.png\n",
    "---\n",
    "width: 35em\n",
    "name: optuna-results\n",
    "---\n",
    "```"
   ]
  },
  {
   "cell_type": "markdown",
   "id": "09dc17f2",
   "metadata": {
    "id": "AVSTHUFifkD4",
    "papermill": {
     "duration": 0.051622,
     "end_time": "2021-09-24T11:33:35.203649",
     "exception": false,
     "start_time": "2021-09-24T11:33:35.152027",
     "status": "completed"
    },
    "tags": []
   },
   "source": [
    "<br>\n",
    "\n",
    "<br>\n",
    "\n",
    "**TPE+CMA-ES** sampling can be implemented as follows:"
   ]
  },
  {
   "cell_type": "code",
   "execution_count": 7,
   "id": "241e1a9c",
   "metadata": {
    "execution": {
     "iopub.execute_input": "2021-09-24T11:33:35.313682Z",
     "iopub.status.busy": "2021-09-24T11:33:35.312900Z",
     "iopub.status.idle": "2021-09-24T11:33:35.315305Z",
     "shell.execute_reply": "2021-09-24T11:33:35.314873Z",
     "shell.execute_reply.started": "2021-09-24T06:41:32.767183Z"
    },
    "id": "sMS3blPQfkD5",
    "papermill": {
     "duration": 0.059736,
     "end_time": "2021-09-24T11:33:35.315406",
     "exception": false,
     "start_time": "2021-09-24T11:33:35.255670",
     "status": "completed"
    },
    "tags": []
   },
   "outputs": [],
   "source": [
    "sampler = optuna.samplers.CmaEsSampler(\n",
    "    warn_independent_sampling=False,\n",
    "    independent_sampler=optuna.samplers.TPESampler()\n",
    ")"
   ]
  },
  {
   "cell_type": "markdown",
   "id": "7386307d",
   "metadata": {
    "id": "Hm4sWHu3fkD6",
    "papermill": {
     "duration": 0.051669,
     "end_time": "2021-09-24T11:33:35.418719",
     "exception": false,
     "start_time": "2021-09-24T11:33:35.367050",
     "status": "completed"
    },
    "tags": []
   },
   "source": [
    "This uses the CMA-ES algorithm {cite}`hansen2016cma` with TPE for searching dynamically constructed hyperparameters (as CMA-ES requires that parameters are specified prior to the optimization). "
   ]
  },
  {
   "cell_type": "markdown",
   "id": "49a60e12",
   "metadata": {
    "id": "AN93Al8mcMwp",
    "papermill": {
     "duration": 0.051668,
     "end_time": "2021-09-24T11:33:35.523001",
     "exception": false,
     "start_time": "2021-09-24T11:33:35.471333",
     "status": "completed"
    },
    "tags": []
   },
   "source": [
    "### Visualizations"
   ]
  },
  {
   "cell_type": "markdown",
   "id": "644653f9",
   "metadata": {
    "id": "YZ2Pxq8UcMwq",
    "papermill": {
     "duration": 0.052033,
     "end_time": "2021-09-24T11:33:35.627362",
     "exception": false,
     "start_time": "2021-09-24T11:33:35.575329",
     "status": "completed"
    },
    "tags": []
   },
   "source": [
    "Optuna provides visualization functions in the `optuna.visualization` library [^ref4]. The following plot shows the best objective value found as the trials progress. The increasing trend in accuracy indicates that the TPE sampler is working well, i.e. the search algorithm learns from previous trials.\n",
    "\n",
    "[^ref4]: See [Optuna dashboard](https://github.com/optuna/optuna-dashboard) which displays the same plots that are updated in real-time."
   ]
  },
  {
   "cell_type": "code",
   "execution_count": null,
   "id": "94dce1ed",
   "metadata": {},
   "outputs": [],
   "source": [
    "optuna.visualization.plot_optimization_history(study)"
   ]
  },
  {
   "cell_type": "markdown",
   "id": "2c74c800",
   "metadata": {},
   "source": [
    "```{figure} ../img/optuna-1.png\n",
    "```"
   ]
  },
  {
   "cell_type": "markdown",
   "id": "363dd7eb",
   "metadata": {
    "id": "TjeqUb4ycMws",
    "papermill": {
     "duration": 0.05289,
     "end_time": "2021-09-24T11:33:35.940582",
     "exception": false,
     "start_time": "2021-09-24T11:33:35.887692",
     "status": "completed"
    },
    "tags": []
   },
   "source": [
    "The **parallel coordinate plot** gives us a feel of how the hyperparameters interact. For instance, `max_features` around 0.5 with `n_estimators` around 280 and `max_depth` around 20 generally perform well. This setting includes the best performing hyperparameters. To isolate subsets of lines, use the interactive capabilities of the plot below by dragging on each axis to restrict it."
   ]
  },
  {
   "cell_type": "code",
   "execution_count": null,
   "id": "b3288c8a",
   "metadata": {},
   "outputs": [],
   "source": [
    "optuna.visualization.plot_parallel_coordinate(study)"
   ]
  },
  {
   "cell_type": "markdown",
   "id": "97ee4e0d",
   "metadata": {},
   "source": [
    "```{figure} ../img/optuna-2.png\n",
    "```"
   ]
  },
  {
   "cell_type": "markdown",
   "id": "60913311",
   "metadata": {
    "id": "JnLBWNAycMwt",
    "papermill": {
     "duration": 0.053326,
     "end_time": "2021-09-24T11:33:36.221143",
     "exception": false,
     "start_time": "2021-09-24T11:33:36.167817",
     "status": "completed"
    },
    "tags": []
   },
   "source": [
    "**Slice plots** project the path of the optimizer in the hyperparameter space on each dimension, then shift along the $y$-axis according on its objective value. A large spread of dark dots indicate that a large range of values of that hyperparameter is feasible even at later stages. Meanwhile, a small spread means that the sampler focuses on a small part of the search space &mdash; in this case, other hyperparameters implicitly improve the objective. For example, the parameter `max_features` is explored at a wide range even at later trials. Hence, we think of this feature as important. Indeed, the importance plot below supports this."
   ]
  },
  {
   "cell_type": "code",
   "execution_count": null,
   "id": "a99f51f4",
   "metadata": {},
   "outputs": [],
   "source": [
    "optuna.visualization.plot_slice(study, params=['n_estimators', 'max_depth', 'max_features'])"
   ]
  },
  {
   "cell_type": "markdown",
   "id": "4de35b00",
   "metadata": {
    "execution": {
     "iopub.execute_input": "2021-09-24T11:33:36.338329Z",
     "iopub.status.busy": "2021-09-24T11:33:36.337582Z",
     "iopub.status.idle": "2021-09-24T11:33:36.567991Z",
     "shell.execute_reply": "2021-09-24T11:33:36.564603Z",
     "shell.execute_reply.started": "2021-09-24T06:41:32.967621Z"
    },
    "id": "PWjlffH3cMwu",
    "outputId": "6e7d716e-22f4-46ae-ca4d-58991287c26e",
    "papermill": {
     "duration": 0.29366,
     "end_time": "2021-09-24T11:33:36.568187",
     "exception": false,
     "start_time": "2021-09-24T11:33:36.274527",
     "status": "completed"
    },
    "tags": []
   },
   "source": [
    "```{figure} ../img/optuna-3.png\n",
    "```"
   ]
  },
  {
   "cell_type": "markdown",
   "id": "4cc3e4d3",
   "metadata": {
    "id": "iII1pxdlcMwv",
    "papermill": {
     "duration": 0.085395,
     "end_time": "2021-09-24T11:33:36.745752",
     "exception": false,
     "start_time": "2021-09-24T11:33:36.660357",
     "status": "completed"
    },
    "tags": []
   },
   "source": [
    "By default, the **hyperparameter importance evaluator** in Optuna is `optuna.importance.FanovaImportanceEvaluator`. This takes as input performance data gathered with different hyperparameter settings of the algorithm, fits a random forest to capture the relationship between hyperparameters and performance, and then applies functional ANOVA to assess how important each of the hyperparameters and each low-order interaction of hyperparameters is to performance {cite}`pmlr-v32-hutter14`. From the [docs](https://optuna.readthedocs.io/en/stable/reference/generated/optuna.importance.FanovaImportanceEvaluator.html):\n",
    "\n",
    "> The performance of fANOVA depends on the prediction performance of the underlying random forest model. In order to obtain high prediction performance, it is necessary to cover a wide range of the hyperparameter search space. It is recommended to use an exploration-oriented sampler such as `RandomSampler`."
   ]
  },
  {
   "cell_type": "code",
   "execution_count": null,
   "id": "69ad2cf8",
   "metadata": {},
   "outputs": [],
   "source": [
    "fig = optuna.visualization.plot_param_importances(study)\n",
    "fig.update_layout(width=600, height=350)\n",
    "fig.show()"
   ]
  },
  {
   "cell_type": "markdown",
   "id": "59eb9a90",
   "metadata": {},
   "source": [
    "```{figure} ../img/optuna-4.png\n",
    "```"
   ]
  },
  {
   "cell_type": "markdown",
   "id": "2de2be50",
   "metadata": {
    "id": "q1pnFEAUcMwx",
    "papermill": {
     "duration": 0.05466,
     "end_time": "2021-09-24T11:33:38.348580",
     "exception": false,
     "start_time": "2021-09-24T11:33:38.293920",
     "status": "completed"
    },
    "tags": []
   },
   "source": [
    "To visualize interactions of any pair of hyperparameters, we use **contour plots.** The contour plots indicate regions of high and low objective value."
   ]
  },
  {
   "cell_type": "code",
   "execution_count": null,
   "id": "879d0f81",
   "metadata": {},
   "outputs": [],
   "source": [
    "fig = optuna.visualization.plot_contour(study, params=[\"max_depth\", \"max_features\"])\n",
    "fig.update_layout(width=550, height=500)\n",
    "fig.show()"
   ]
  },
  {
   "cell_type": "markdown",
   "id": "a48d618c",
   "metadata": {},
   "source": [
    "```{figure} ../img/optuna-5.png\n",
    "```"
   ]
  },
  {
   "cell_type": "markdown",
   "id": "1d0ae784",
   "metadata": {
    "id": "RoOMjA7fcMw2",
    "papermill": {
     "duration": 0.05679,
     "end_time": "2021-09-24T11:33:38.663262",
     "exception": false,
     "start_time": "2021-09-24T11:33:38.606472",
     "status": "completed"
    },
    "tags": []
   },
   "source": [
    "## Neural networks"
   ]
  },
  {
   "cell_type": "markdown",
   "id": "eb71439f",
   "metadata": {
    "id": "uFQlLZWfcMw2",
    "papermill": {
     "duration": 0.05581,
     "end_time": "2021-09-24T11:33:38.774545",
     "exception": false,
     "start_time": "2021-09-24T11:33:38.718735",
     "status": "completed"
    },
    "tags": []
   },
   "source": [
    "As noted above, we should always perform tuning within a cross-validation framework. However, with neural networks, doing 5-fold CV would require too much compute time &mdash; hence, too much resources, e.g. GPU usage. Instead, we perform tuning on a hold-out validation set and hope for the best. "
   ]
  },
  {
   "cell_type": "code",
   "execution_count": 13,
   "id": "2f4a6243",
   "metadata": {
    "execution": {
     "iopub.execute_input": "2021-09-24T11:33:38.890515Z",
     "iopub.status.busy": "2021-09-24T11:33:38.887730Z",
     "iopub.status.idle": "2021-09-24T11:33:43.487425Z",
     "shell.execute_reply": "2021-09-24T11:33:43.486924Z",
     "shell.execute_reply.started": "2021-09-24T06:41:34.457146Z"
    },
    "id": "nmb20AphcMw2",
    "papermill": {
     "duration": 4.657762,
     "end_time": "2021-09-24T11:33:43.487569",
     "exception": false,
     "start_time": "2021-09-24T11:33:38.829807",
     "status": "completed"
    },
    "tags": []
   },
   "outputs": [],
   "source": [
    "import torch\n",
    "import torch.nn as nn\n",
    "import torch.optim as optim\n",
    "import torch.nn.functional as F\n",
    "import torchvision.transforms as transforms\n",
    "import torchvision.datasets as datasets\n",
    "from torch.utils.data import Dataset, DataLoader\n",
    "\n",
    "from sklearn import model_selection\n",
    "from sklearn.datasets import fetch_openml\n",
    "\n",
    "from tqdm import tqdm\n",
    "import optuna\n",
    "import numpy as np"
   ]
  },
  {
   "cell_type": "markdown",
   "id": "c65328ee",
   "metadata": {
    "id": "6r6ehhdjcMw3",
    "papermill": {
     "duration": 0.057558,
     "end_time": "2021-09-24T11:33:43.603079",
     "exception": false,
     "start_time": "2021-09-24T11:33:43.545521",
     "status": "completed"
    },
    "tags": []
   },
   "source": [
    "Define a simple network."
   ]
  },
  {
   "cell_type": "code",
   "execution_count": 14,
   "id": "a243f2e4",
   "metadata": {
    "execution": {
     "iopub.execute_input": "2021-09-24T11:33:43.724642Z",
     "iopub.status.busy": "2021-09-24T11:33:43.723958Z",
     "iopub.status.idle": "2021-09-24T11:33:43.727108Z",
     "shell.execute_reply": "2021-09-24T11:33:43.726721Z",
     "shell.execute_reply.started": "2021-09-24T06:41:39.013416Z"
    },
    "id": "JsALWtW9cMw4",
    "papermill": {
     "duration": 0.067926,
     "end_time": "2021-09-24T11:33:43.727237",
     "exception": false,
     "start_time": "2021-09-24T11:33:43.659311",
     "status": "completed"
    },
    "tags": []
   },
   "outputs": [],
   "source": [
    "class MLPClassifier(nn.Module):\n",
    "    \"\"\"\n",
    "    Neural network with multiple hidden fully-connected layers with ReLU \n",
    "    activation and dropout.\n",
    "    \"\"\"\n",
    "    \n",
    "    def __init__(self, input_size, num_classes, n_layers, out_features, drop_rate):\n",
    "        super().__init__()\n",
    "        layers = []\n",
    "        in_features = input_size\n",
    "        for i in range(n_layers):\n",
    "\n",
    "            m = nn.Linear(in_features, out_features[i])\n",
    "            nn.init.kaiming_normal_(m.weight)\n",
    "            nn.init.constant_(m.bias, 0)\n",
    "\n",
    "            layers.append(m)\n",
    "            layers.append(nn.ReLU())\n",
    "            layers.append(nn.Dropout(drop_rate))\n",
    "\n",
    "            in_features = out_features[i]\n",
    "\n",
    "        layers.append(nn.Linear(in_features, num_classes))\n",
    "        self.net = nn.Sequential(*layers)\n",
    "\n",
    "    def forward(self, x):\n",
    "        return self.net(x)"
   ]
  },
  {
   "cell_type": "markdown",
   "id": "a36be9e4",
   "metadata": {
    "id": "SBCd4FoBcMw6",
    "papermill": {
     "duration": 0.055769,
     "end_time": "2021-09-24T11:33:43.839454",
     "exception": false,
     "start_time": "2021-09-24T11:33:43.783685",
     "status": "completed"
    },
    "tags": []
   },
   "source": [
    "We also define a `Dataset` class for MNIST."
   ]
  },
  {
   "cell_type": "code",
   "execution_count": 15,
   "id": "7fc72135",
   "metadata": {
    "execution": {
     "iopub.execute_input": "2021-09-24T11:33:43.956841Z",
     "iopub.status.busy": "2021-09-24T11:33:43.955331Z",
     "iopub.status.idle": "2021-09-24T11:33:43.957477Z",
     "shell.execute_reply": "2021-09-24T11:33:43.957876Z",
     "shell.execute_reply.started": "2021-09-24T06:41:39.024829Z"
    },
    "id": "R_Hp-YoCcMw6",
    "papermill": {
     "duration": 0.063134,
     "end_time": "2021-09-24T11:33:43.957994",
     "exception": false,
     "start_time": "2021-09-24T11:33:43.894860",
     "status": "completed"
    },
    "tags": []
   },
   "outputs": [],
   "source": [
    "class MNISTDataset(Dataset):\n",
    "    def __init__(self, features, targets, transform=None):\n",
    "        self.features = features\n",
    "        self.targets = targets\n",
    "        self.transform = transform\n",
    "        \n",
    "    def __len__(self):\n",
    "        return self.features.shape[0]\n",
    "    \n",
    "    def __getitem__(self, i):\n",
    "        X = self.features[i, :]\n",
    "        y = self.targets[i]\n",
    "        \n",
    "        if self.transform is not None:\n",
    "            X = self.transform(X)\n",
    "            \n",
    "        return X, y"
   ]
  },
  {
   "cell_type": "markdown",
   "id": "3178ed95",
   "metadata": {
    "id": "U7GrtPtEcMw6",
    "papermill": {
     "duration": 0.055604,
     "end_time": "2021-09-24T11:33:44.069605",
     "exception": false,
     "start_time": "2021-09-24T11:33:44.014001",
     "status": "completed"
    },
    "tags": []
   },
   "source": [
    "Define a trainer for the neural network model. This will handle all loss and metric evaluation, as well as backpropagation."
   ]
  },
  {
   "cell_type": "code",
   "execution_count": 16,
   "id": "77be758e",
   "metadata": {
    "execution": {
     "iopub.execute_input": "2021-09-24T11:33:44.192805Z",
     "iopub.status.busy": "2021-09-24T11:33:44.192161Z",
     "iopub.status.idle": "2021-09-24T11:33:44.194315Z",
     "shell.execute_reply": "2021-09-24T11:33:44.194742Z",
     "shell.execute_reply.started": "2021-09-24T06:41:39.037011Z"
    },
    "id": "BJ30iSjfcMw7",
    "papermill": {
     "duration": 0.069592,
     "end_time": "2021-09-24T11:33:44.194866",
     "exception": false,
     "start_time": "2021-09-24T11:33:44.125274",
     "status": "completed"
    },
    "tags": []
   },
   "outputs": [],
   "source": [
    "class Engine:\n",
    "    \"\"\"Neural network trainer.\"\"\"\n",
    "    \n",
    "    def __init__(self, model, device, optimizer):\n",
    "        self.model = model\n",
    "        self.device = device\n",
    "        self.optimizer = optimizer \n",
    "\n",
    "    @staticmethod\n",
    "    def loss_fn(outputs, targets):\n",
    "        return nn.CrossEntropyLoss()(outputs, targets)\n",
    "        \n",
    "    def train(self, data_loader):\n",
    "        \"\"\"Train model on one epoch. Return train loss.\"\"\"\n",
    "        \n",
    "        self.model.train()\n",
    "        loss = 0\n",
    "        for i, (data, targets) in enumerate(data_loader):\n",
    "            data = data.to(self.device).reshape(data.shape[0], -1).float()\n",
    "            targets = targets.to(self.device).long()\n",
    "            \n",
    "            # Forward pass\n",
    "            outputs = self.model(data)\n",
    "            J = self.loss_fn(outputs, targets)\n",
    "            \n",
    "            # Backward pass\n",
    "            self.optimizer.zero_grad()\n",
    "            J.backward()\n",
    "            self.optimizer.step()\n",
    "\n",
    "            # Cumulative loss\n",
    "            loss += (J.detach().item() - loss) / (i + 1)\n",
    "\n",
    "        return loss\n",
    "\n",
    "\n",
    "    def eval(self, data_loader):\n",
    "        \"\"\"Return validation loss and validation accuracy.\"\"\"\n",
    "        \n",
    "        self.model.eval()\n",
    "        num_correct = 0\n",
    "        num_samples = 0\n",
    "        loss = 0.0\n",
    "        with torch.no_grad():\n",
    "            for i, (data, targets) in enumerate(data_loader):\n",
    "                data = data.to(self.device).float()\n",
    "                targets = targets.to(self.device)\n",
    "                \n",
    "                # Forward pass\n",
    "                data = data.reshape(data.shape[0], -1)\n",
    "                out = self.model(data)\n",
    "                J = self.loss_fn(out, targets)\n",
    "                _, preds = out.max(dim=1)\n",
    "\n",
    "                # Cumulative metrics\n",
    "                loss += (J.detach().item() - loss) / (i + 1)\n",
    "                num_correct += (preds == targets).sum().item()\n",
    "                num_samples += preds.shape[0]\n",
    "\n",
    "        acc = num_correct / num_samples\n",
    "        return loss, acc"
   ]
  },
  {
   "cell_type": "markdown",
   "id": "f55cf2eb",
   "metadata": {
    "id": "L1WBd1fkcMw7",
    "papermill": {
     "duration": 0.055269,
     "end_time": "2021-09-24T11:33:44.305564",
     "exception": false,
     "start_time": "2021-09-24T11:33:44.250295",
     "status": "completed"
    },
    "tags": []
   },
   "source": [
    "Some config and setup prior to training. For our dataset, we use MNIST which we get from scikit-learn."
   ]
  },
  {
   "cell_type": "code",
   "execution_count": 17,
   "id": "6f1e6b96",
   "metadata": {
    "execution": {
     "iopub.execute_input": "2021-09-24T11:33:44.470513Z",
     "iopub.status.busy": "2021-09-24T11:33:44.469630Z",
     "iopub.status.idle": "2021-09-24T11:34:24.020926Z",
     "shell.execute_reply": "2021-09-24T11:34:24.019969Z",
     "shell.execute_reply.started": "2021-09-24T06:41:39.052463Z"
    },
    "id": "YlBXgYj8cMw7",
    "papermill": {
     "duration": 39.66028,
     "end_time": "2021-09-24T11:34:24.021076",
     "exception": false,
     "start_time": "2021-09-24T11:33:44.360796",
     "status": "completed"
    },
    "tags": []
   },
   "outputs": [],
   "source": [
    "# Config\n",
    "RANDOM_STATE = 42\n",
    "DEVICE = 'cuda' if torch.cuda.is_available() else 'cpu'\n",
    "EPOCHS = 100\n",
    "PATIENCE = 5\n",
    "INPUT_SIZE = 784\n",
    "NUM_CLASSES = 10\n",
    "\n",
    "# Fetch data\n",
    "MNIST = fetch_openml(\"mnist_784\")\n",
    "X = MNIST['data'].reshape(-1, 28, 28)\n",
    "y = MNIST['target'].astype(int)\n",
    "\n",
    "# Create folds\n",
    "cv = model_selection.StratifiedKFold(n_splits=5)\n",
    "trn_, val_ = next(iter(cv.split(X=X, y=y)))\n",
    "\n",
    "# Get train and valid data loaders\n",
    "train_dataset = MNISTDataset(X[trn_, :], y[trn_], transform=transforms.ToTensor())\n",
    "valid_dataset = MNISTDataset(X[val_, :], y[val_], transform=transforms.ToTensor())"
   ]
  },
  {
   "cell_type": "markdown",
   "id": "7f08bf71",
   "metadata": {
    "id": "gjqSuZqpcMw8",
    "papermill": {
     "duration": 0.055633,
     "end_time": "2021-09-24T11:34:24.133060",
     "exception": false,
     "start_time": "2021-09-24T11:34:24.077427",
     "status": "completed"
    },
    "tags": []
   },
   "source": [
    "### Intermediate values"
   ]
  },
  {
   "cell_type": "markdown",
   "id": "5abb0e6e",
   "metadata": {
    "id": "vSFEodb0cMw9",
    "papermill": {
     "duration": 0.055744,
     "end_time": "2021-09-24T11:34:24.244148",
     "exception": false,
     "start_time": "2021-09-24T11:34:24.188404",
     "status": "completed"
    },
    "tags": []
   },
   "source": [
    "Finally, we set up the `study` instance and its objective function. Note that the search space is dynamically constructed depending on the number of layers (i.e. an earlier suggestion for a hyperparameter). During training, we perform early stopping on validation loss. If no new minimum val. loss is found after 5 epochs, then the minimum val. loss is returned as the objective [^ref3].\n",
    "\n",
    "Computing intermediate values allow us to **prune** unpromising trials to conserve resources. The default pruner in Optuna is [`optuna.pruners.MedianPruner`](https://optuna.readthedocs.io/en/stable/reference/generated/optuna.pruners.MedianPruner.html) which prunes a trial if its best intermediate result as of the current step (e.g. current best valid loss) is worse than the median of all intermediate results of previous trials *at the current step*. Hence, the best intermediate result of a pruned trial is less than the best intermediate result of 1/2 of the other trials as of that step. In our case, if the minimum val. loss does not improve too quickly, then the trial is pruned. Of course, the validation loss could descend rapidly at later steps, but the median pruner does not bet on this happening.\n",
    "\n",
    "[^ref3]: In practice, we save the best model parameters at this point."
   ]
  },
  {
   "cell_type": "code",
   "execution_count": 18,
   "id": "f324b736",
   "metadata": {
    "execution": {
     "iopub.execute_input": "2021-09-24T11:34:24.366866Z",
     "iopub.status.busy": "2021-09-24T11:34:24.366018Z",
     "iopub.status.idle": "2021-09-24T11:34:24.367984Z",
     "shell.execute_reply": "2021-09-24T11:34:24.368441Z",
     "shell.execute_reply.started": "2021-09-24T07:38:00.996731Z"
    },
    "id": "YDsmzBW_cMw-",
    "outputId": "92e70039-530d-488e-ad61-573a5b442025",
    "papermill": {
     "duration": 0.06926,
     "end_time": "2021-09-24T11:34:24.368567",
     "exception": false,
     "start_time": "2021-09-24T11:34:24.299307",
     "status": "completed"
    },
    "tags": []
   },
   "outputs": [],
   "source": [
    "def define_model(trial):\n",
    "  \n",
    "    # Optimize the # of layers, hidden units and dropout ratio in each layer.\n",
    "    n_layers = trial.suggest_int(\"n_layers\", 1, 3)\n",
    "    out_features = []\n",
    "    drop_rate = trial.suggest_float('dropout_rate', 0.2, 0.5)\n",
    "    for i in range(n_layers):\n",
    "        out_features.append(trial.suggest_int(\"n_units_l{}\".format(i), 4, 128))\n",
    "\n",
    "    return MLPClassifier(INPUT_SIZE, NUM_CLASSES, n_layers, out_features, drop_rate)\n",
    "\n",
    "\n",
    "def objective(trial):\n",
    "\n",
    "    model = define_model(trial).to(DEVICE)\n",
    "    batch_size = trial.suggest_int('batch_size', 8, 512, log=True)\n",
    "    learning_rate = trial.suggest_loguniform('lr', 1e-5, 1e-1)\n",
    "    weight_decay = trial.suggest_float('weight_decay', 0.0, 0.5)\n",
    "    optimizer = optim.Adam(model.parameters(), lr=learning_rate, weight_decay=weight_decay)\n",
    "    scheduler = optim.lr_scheduler.ReduceLROnPlateau(optimizer, factor=0.1, patience=3)\n",
    "    engine = Engine(model, DEVICE, optimizer)\n",
    "\n",
    "    # Init. dataloaders\n",
    "    train_loader = DataLoader(dataset=train_dataset, batch_size=batch_size, shuffle=True)\n",
    "    valid_loader = DataLoader(dataset=valid_dataset, batch_size=batch_size, shuffle=True)\n",
    "    \n",
    "    # Run training\n",
    "    best_loss = np.inf\n",
    "    patience = PATIENCE\n",
    "    for epoch in tqdm(range(EPOCHS), total=EPOCHS, leave=False):\n",
    "\n",
    "        # Train and validation step\n",
    "        train_loss = engine.train(train_loader)\n",
    "        valid_loss, valid_acc = engine.eval(valid_loader)\n",
    "\n",
    "        # Reduce learning rate\n",
    "        if scheduler is not None:\n",
    "            scheduler.step(valid_loss)\n",
    "            \n",
    "        # Early stopping\n",
    "        if valid_loss < best_loss:\n",
    "            best_loss = valid_loss\n",
    "            patience = PATIENCE\n",
    "        else:\n",
    "            patience -= 1\n",
    "            if patience == 0:\n",
    "                break\n",
    "    \n",
    "        # Pruning unpromising trials\n",
    "        trial.report(valid_loss, step=epoch)\n",
    "        if trial.should_prune():\n",
    "            raise optuna.TrialPruned()\n",
    "\n",
    "    return best_loss"
   ]
  },
  {
   "cell_type": "markdown",
   "id": "072f2be0",
   "metadata": {},
   "source": [
    "Create and run optimization problem:"
   ]
  },
  {
   "cell_type": "code",
   "execution_count": 19,
   "id": "4a880a35",
   "metadata": {
    "execution": {
     "iopub.execute_input": "2021-09-24T11:34:24.484778Z",
     "iopub.status.busy": "2021-09-24T11:34:24.482905Z",
     "iopub.status.idle": "2021-09-24T17:47:11.694618Z",
     "shell.execute_reply": "2021-09-24T17:47:11.694161Z"
    },
    "papermill": {
     "duration": 22367.270599,
     "end_time": "2021-09-24T17:47:11.694751",
     "exception": false,
     "start_time": "2021-09-24T11:34:24.424152",
     "status": "completed"
    },
    "tags": []
   },
   "outputs": [
    {
     "name": "stderr",
     "output_type": "stream",
     "text": [
      "\u001b[32m[I 2021-09-24 11:34:24,483]\u001b[0m A new study created in memory with name: no-name-b84346e3-9073-48d5-8898-34304d2b2f9b\u001b[0m\n",
      "\u001b[32m[I 2021-09-24 11:38:41,878]\u001b[0m Trial 0 finished with value: 0.11474966414111941 and parameters: {'n_layers': 1, 'dropout_rate': 0.24599262265910607, 'n_units_l0': 35, 'batch_size': 39, 'lr': 0.006251127869766061, 'weight_decay': 0.13248092845274495}. Best is trial 0 with value: 0.11474966414111941.\u001b[0m\n",
      "\u001b[32m[I 2021-09-24 11:39:13,076]\u001b[0m Trial 1 finished with value: 2.3011930521498325 and parameters: {'n_layers': 1, 'dropout_rate': 0.35192530711927283, 'n_units_l0': 46, 'batch_size': 149, 'lr': 0.05985035055971591, 'weight_decay': 0.029813511058424946}. Best is trial 0 with value: 0.11474966414111941.\u001b[0m\n",
      "\u001b[32m[I 2021-09-24 11:41:51,311]\u001b[0m Trial 2 finished with value: 0.09335579332851231 and parameters: {'n_layers': 1, 'dropout_rate': 0.3107180119337716, 'n_units_l0': 98, 'batch_size': 167, 'lr': 3.083402320344934e-05, 'weight_decay': 0.04143501418919471}. Best is trial 2 with value: 0.09335579332851231.\u001b[0m\n",
      "\u001b[32m[I 2021-09-24 11:42:26,272]\u001b[0m Trial 3 finished with value: 0.14297820917434156 and parameters: {'n_layers': 2, 'dropout_rate': 0.20129218710710806, 'n_units_l0': 115, 'n_units_l1': 37, 'batch_size': 264, 'lr': 0.0004398542932381236, 'weight_decay': 0.21740333989982757}. Best is trial 2 with value: 0.09335579332851231.\u001b[0m\n",
      "\u001b[32m[I 2021-09-24 11:45:57,436]\u001b[0m Trial 4 finished with value: 0.06796971144191678 and parameters: {'n_layers': 1, 'dropout_rate': 0.25142622051207786, 'n_units_l0': 104, 'batch_size': 93, 'lr': 0.05588394139188088, 'weight_decay': 0.06210093119063331}. Best is trial 4 with value: 0.06796971144191678.\u001b[0m\n",
      "\u001b[32m[I 2021-09-24 11:53:44,380]\u001b[0m Trial 5 pruned. \u001b[0m\n",
      "\u001b[32m[I 2021-09-24 11:59:39,794]\u001b[0m Trial 6 finished with value: 0.13493606604739805 and parameters: {'n_layers': 2, 'dropout_rate': 0.3066757553178228, 'n_units_l0': 70, 'n_units_l1': 25, 'batch_size': 27, 'lr': 0.009618083975187413, 'weight_decay': 0.11274685632707554}. Best is trial 4 with value: 0.06796971144191678.\u001b[0m\n",
      "\u001b[32m[I 2021-09-24 12:00:08,550]\u001b[0m Trial 7 pruned. \u001b[0m\n",
      "\u001b[32m[I 2021-09-24 12:00:43,769]\u001b[0m Trial 8 pruned. \u001b[0m\n",
      "\u001b[32m[I 2021-09-24 12:01:49,274]\u001b[0m Trial 9 pruned. \u001b[0m\n",
      "\u001b[32m[I 2021-09-24 12:02:32,388]\u001b[0m Trial 10 pruned. \u001b[0m\n",
      "\u001b[32m[I 2021-09-24 12:03:15,718]\u001b[0m Trial 11 pruned. \u001b[0m\n",
      "\u001b[32m[I 2021-09-24 12:07:41,280]\u001b[0m Trial 12 finished with value: 0.06893561434948674 and parameters: {'n_layers': 1, 'dropout_rate': 0.2718404762056824, 'n_units_l0': 126, 'batch_size': 20, 'lr': 0.0001533641686329211, 'weight_decay': 0.09188289779137647}. Best is trial 4 with value: 0.06796971144191678.\u001b[0m\n",
      "\u001b[32m[I 2021-09-24 12:13:30,957]\u001b[0m Trial 13 finished with value: 0.12530744148684403 and parameters: {'n_layers': 2, 'dropout_rate': 0.2603394230700395, 'n_units_l0': 124, 'n_units_l1': 125, 'batch_size': 20, 'lr': 0.0001587063095181716, 'weight_decay': 0.17715298391659942}. Best is trial 4 with value: 0.06796971144191678.\u001b[0m\n",
      "\u001b[32m[I 2021-09-24 12:19:47,134]\u001b[0m Trial 14 finished with value: 0.07422930791148279 and parameters: {'n_layers': 1, 'dropout_rate': 0.3789107121543924, 'n_units_l0': 127, 'batch_size': 12, 'lr': 0.0001917634556112472, 'weight_decay': 0.07957520686214387}. Best is trial 4 with value: 0.06796971144191678.\u001b[0m\n",
      "\u001b[32m[I 2021-09-24 12:20:48,406]\u001b[0m Trial 15 pruned. \u001b[0m\n",
      "\u001b[32m[I 2021-09-24 12:27:06,164]\u001b[0m Trial 16 finished with value: 0.07054196249966309 and parameters: {'n_layers': 1, 'dropout_rate': 0.28250908640937245, 'n_units_l0': 108, 'batch_size': 22, 'lr': 0.002050780338505462, 'weight_decay': 0.08744936771871246}. Best is trial 4 with value: 0.06796971144191678.\u001b[0m\n",
      "\u001b[32m[I 2021-09-24 12:29:07,368]\u001b[0m Trial 17 pruned. \u001b[0m\n",
      "\u001b[32m[I 2021-09-24 12:32:09,242]\u001b[0m Trial 18 pruned. \u001b[0m\n",
      "\u001b[32m[I 2021-09-24 12:33:13,735]\u001b[0m Trial 19 pruned. \u001b[0m\n",
      "\u001b[32m[I 2021-09-24 12:42:00,708]\u001b[0m Trial 20 finished with value: 0.06964475855716902 and parameters: {'n_layers': 1, 'dropout_rate': 0.22868599695114364, 'n_units_l0': 94, 'batch_size': 8, 'lr': 5.992514712710925e-05, 'weight_decay': 0.06638107509973984}. Best is trial 4 with value: 0.06796971144191678.\u001b[0m\n",
      "\u001b[32m[I 2021-09-24 12:52:27,415]\u001b[0m Trial 21 finished with value: 0.06874225154831322 and parameters: {'n_layers': 1, 'dropout_rate': 0.22787588007488505, 'n_units_l0': 90, 'batch_size': 8, 'lr': 4.821797728383265e-05, 'weight_decay': 0.05836032653949748}. Best is trial 4 with value: 0.06796971144191678.\u001b[0m\n",
      "\u001b[32m[I 2021-09-24 12:58:54,268]\u001b[0m Trial 22 finished with value: 0.07803227866170948 and parameters: {'n_layers': 1, 'dropout_rate': 0.23476988507325774, 'n_units_l0': 80, 'batch_size': 13, 'lr': 0.0003366555562566057, 'weight_decay': 0.09950016402229674}. Best is trial 4 with value: 0.06796971144191678.\u001b[0m\n",
      "\u001b[32m[I 2021-09-24 13:02:37,891]\u001b[0m Trial 23 pruned. \u001b[0m\n",
      "\u001b[32m[I 2021-09-24 13:06:44,794]\u001b[0m Trial 24 finished with value: 0.06036433232919263 and parameters: {'n_layers': 1, 'dropout_rate': 0.21995601410970386, 'n_units_l0': 120, 'batch_size': 29, 'lr': 7.148974154848755e-05, 'weight_decay': 0.052830323595411996}. Best is trial 24 with value: 0.06036433232919263.\u001b[0m\n",
      "\u001b[32m[I 2021-09-24 13:08:10,412]\u001b[0m Trial 25 pruned. \u001b[0m\n",
      "\u001b[32m[I 2021-09-24 13:08:51,149]\u001b[0m Trial 26 pruned. \u001b[0m\n",
      "\u001b[32m[I 2021-09-24 13:10:35,356]\u001b[0m Trial 27 pruned. \u001b[0m\n",
      "\u001b[32m[I 2021-09-24 13:11:43,271]\u001b[0m Trial 28 pruned. \u001b[0m\n",
      "\u001b[32m[I 2021-09-24 13:13:14,104]\u001b[0m Trial 29 pruned. \u001b[0m\n",
      "\u001b[32m[I 2021-09-24 13:13:52,281]\u001b[0m Trial 30 pruned. \u001b[0m\n",
      "\u001b[32m[I 2021-09-24 13:18:24,006]\u001b[0m Trial 31 finished with value: 0.06803164674519473 and parameters: {'n_layers': 1, 'dropout_rate': 0.2621674723839307, 'n_units_l0': 119, 'batch_size': 19, 'lr': 0.00024785110615252215, 'weight_decay': 0.0719462133854191}. Best is trial 24 with value: 0.06036433232919263.\u001b[0m\n",
      "\u001b[32m[I 2021-09-24 13:22:00,472]\u001b[0m Trial 32 finished with value: 0.0629406809732651 and parameters: {'n_layers': 1, 'dropout_rate': 0.21362066330819665, 'n_units_l0': 119, 'batch_size': 16, 'lr': 8.544622483731574e-05, 'weight_decay': 0.055371368857656846}. Best is trial 24 with value: 0.06036433232919263.\u001b[0m\n",
      "\u001b[32m[I 2021-09-24 13:24:43,045]\u001b[0m Trial 33 pruned. \u001b[0m\n",
      "\u001b[32m[I 2021-09-24 13:29:09,174]\u001b[0m Trial 34 finished with value: 0.06739585597261379 and parameters: {'n_layers': 1, 'dropout_rate': 0.25276599448550563, 'n_units_l0': 103, 'batch_size': 29, 'lr': 0.0003360772581941491, 'weight_decay': 0.03565766000976005}. Best is trial 24 with value: 0.06036433232919263.\u001b[0m\n",
      "\u001b[32m[I 2021-09-24 13:30:51,181]\u001b[0m Trial 35 pruned. \u001b[0m\n",
      "\u001b[32m[I 2021-09-24 13:33:39,242]\u001b[0m Trial 36 finished with value: 0.06845777289226986 and parameters: {'n_layers': 1, 'dropout_rate': 0.2999963849107737, 'n_units_l0': 115, 'batch_size': 43, 'lr': 0.0004429015394300859, 'weight_decay': 0.0350969696385402}. Best is trial 24 with value: 0.06036433232919263.\u001b[0m\n",
      "\u001b[32m[I 2021-09-24 13:34:36,210]\u001b[0m Trial 37 pruned. \u001b[0m\n",
      "\u001b[32m[I 2021-09-24 13:35:41,161]\u001b[0m Trial 38 pruned. \u001b[0m\n",
      "\u001b[32m[I 2021-09-24 13:38:03,268]\u001b[0m Trial 39 pruned. \u001b[0m\n",
      "\u001b[32m[I 2021-09-24 13:38:35,144]\u001b[0m Trial 40 pruned. \u001b[0m\n",
      "\u001b[32m[I 2021-09-24 13:46:03,329]\u001b[0m Trial 41 finished with value: 0.06537991919841152 and parameters: {'n_layers': 1, 'dropout_rate': 0.26842633379315184, 'n_units_l0': 121, 'batch_size': 17, 'lr': 0.00020554389878908134, 'weight_decay': 0.06460651412204921}. Best is trial 24 with value: 0.06036433232919263.\u001b[0m\n",
      "\u001b[32m[I 2021-09-24 13:51:48,381]\u001b[0m Trial 42 finished with value: 0.07143466282379203 and parameters: {'n_layers': 1, 'dropout_rate': 0.2678296043508913, 'n_units_l0': 113, 'batch_size': 10, 'lr': 0.0002991033678490027, 'weight_decay': 0.0554155936852916}. Best is trial 24 with value: 0.06036433232919263.\u001b[0m\n",
      "\u001b[32m[I 2021-09-24 13:54:23,511]\u001b[0m Trial 43 pruned. \u001b[0m\n",
      "\u001b[32m[I 2021-09-24 13:54:48,541]\u001b[0m Trial 44 pruned. \u001b[0m\n",
      "\u001b[32m[I 2021-09-24 13:56:01,637]\u001b[0m Trial 45 pruned. \u001b[0m\n",
      "\u001b[32m[I 2021-09-24 13:59:12,581]\u001b[0m Trial 46 pruned. \u001b[0m\n",
      "\u001b[32m[I 2021-09-24 14:01:42,636]\u001b[0m Trial 47 pruned. \u001b[0m\n",
      "\u001b[32m[I 2021-09-24 14:03:06,976]\u001b[0m Trial 48 pruned. \u001b[0m\n",
      "\u001b[32m[I 2021-09-24 14:07:13,924]\u001b[0m Trial 49 pruned. \u001b[0m\n",
      "\u001b[32m[I 2021-09-24 14:10:50,756]\u001b[0m Trial 50 pruned. \u001b[0m\n",
      "\u001b[32m[I 2021-09-24 14:15:39,560]\u001b[0m Trial 51 finished with value: 0.07133160523371765 and parameters: {'n_layers': 1, 'dropout_rate': 0.26316131029424006, 'n_units_l0': 120, 'batch_size': 20, 'lr': 0.00032623131542145774, 'weight_decay': 0.06938069030944229}. Best is trial 24 with value: 0.06036433232919263.\u001b[0m\n",
      "\u001b[32m[I 2021-09-24 14:18:28,486]\u001b[0m Trial 52 pruned. \u001b[0m\n",
      "\u001b[32m[I 2021-09-24 14:20:40,268]\u001b[0m Trial 53 pruned. \u001b[0m\n",
      "\u001b[32m[I 2021-09-24 14:22:14,466]\u001b[0m Trial 54 pruned. \u001b[0m\n",
      "\u001b[32m[I 2021-09-24 14:25:44,298]\u001b[0m Trial 55 pruned. \u001b[0m\n",
      "\u001b[32m[I 2021-09-24 14:29:20,549]\u001b[0m Trial 56 finished with value: 0.06777157078433949 and parameters: {'n_layers': 1, 'dropout_rate': 0.22742056311943515, 'n_units_l0': 105, 'batch_size': 18, 'lr': 0.00014487001347103363, 'weight_decay': 0.039735032518638275}. Best is trial 24 with value: 0.06036433232919263.\u001b[0m\n",
      "\u001b[32m[I 2021-09-24 14:30:10,794]\u001b[0m Trial 57 pruned. \u001b[0m\n",
      "\u001b[32m[I 2021-09-24 14:33:39,754]\u001b[0m Trial 58 pruned. \u001b[0m\n",
      "\u001b[32m[I 2021-09-24 14:34:07,362]\u001b[0m Trial 59 pruned. \u001b[0m\n",
      "\u001b[32m[I 2021-09-24 14:35:24,910]\u001b[0m Trial 60 pruned. \u001b[0m\n",
      "\u001b[32m[I 2021-09-24 14:42:24,073]\u001b[0m Trial 61 finished with value: 0.06296793403939503 and parameters: {'n_layers': 1, 'dropout_rate': 0.21311456902248202, 'n_units_l0': 117, 'batch_size': 18, 'lr': 4.3261991731785606e-05, 'weight_decay': 0.061512520561871606}. Best is trial 24 with value: 0.06036433232919263.\u001b[0m\n",
      "\u001b[32m[I 2021-09-24 14:44:30,147]\u001b[0m Trial 62 pruned. \u001b[0m\n",
      "\u001b[32m[I 2021-09-24 14:50:09,667]\u001b[0m Trial 63 finished with value: 0.06418423184127983 and parameters: {'n_layers': 1, 'dropout_rate': 0.22194297471795352, 'n_units_l0': 125, 'batch_size': 16, 'lr': 6.810610392133626e-05, 'weight_decay': 0.040432820248316334}. Best is trial 24 with value: 0.06036433232919263.\u001b[0m\n",
      "\u001b[32m[I 2021-09-24 14:55:33,582]\u001b[0m Trial 64 finished with value: 0.06437652494550485 and parameters: {'n_layers': 1, 'dropout_rate': 0.20956360014553785, 'n_units_l0': 124, 'batch_size': 16, 'lr': 7.869632778953134e-05, 'weight_decay': 0.04518548430123401}. Best is trial 24 with value: 0.06036433232919263.\u001b[0m\n",
      "\u001b[32m[I 2021-09-24 15:03:10,886]\u001b[0m Trial 65 finished with value: 0.06398282306612854 and parameters: {'n_layers': 1, 'dropout_rate': 0.20842005000225772, 'n_units_l0': 126, 'batch_size': 10, 'lr': 6.779000683573505e-05, 'weight_decay': 0.05758605824372517}. Best is trial 24 with value: 0.06036433232919263.\u001b[0m\n",
      "\u001b[32m[I 2021-09-24 15:09:11,560]\u001b[0m Trial 66 finished with value: 0.0672568497359287 and parameters: {'n_layers': 1, 'dropout_rate': 0.20797383930237773, 'n_units_l0': 125, 'batch_size': 9, 'lr': 6.835227855492769e-05, 'weight_decay': 0.08677235171207137}. Best is trial 24 with value: 0.06036433232919263.\u001b[0m\n",
      "\u001b[32m[I 2021-09-24 15:14:08,720]\u001b[0m Trial 67 pruned. \u001b[0m\n",
      "\u001b[32m[I 2021-09-24 15:17:55,456]\u001b[0m Trial 68 pruned. \u001b[0m\n",
      "\u001b[32m[I 2021-09-24 15:21:15,284]\u001b[0m Trial 69 pruned. \u001b[0m\n",
      "\u001b[32m[I 2021-09-24 15:25:48,379]\u001b[0m Trial 70 pruned. \u001b[0m\n",
      "\u001b[32m[I 2021-09-24 15:34:03,957]\u001b[0m Trial 71 finished with value: 0.06467919083827854 and parameters: {'n_layers': 1, 'dropout_rate': 0.2020846199277508, 'n_units_l0': 126, 'batch_size': 9, 'lr': 7.19596176137361e-05, 'weight_decay': 0.08540126209821351}. Best is trial 24 with value: 0.06036433232919263.\u001b[0m\n",
      "\u001b[32m[I 2021-09-24 15:41:56,950]\u001b[0m Trial 72 finished with value: 0.06390591170739052 and parameters: {'n_layers': 1, 'dropout_rate': 0.22034651341049163, 'n_units_l0': 125, 'batch_size': 12, 'lr': 7.734206174925659e-05, 'weight_decay': 0.0811922816465587}. Best is trial 24 with value: 0.06036433232919263.\u001b[0m\n",
      "\u001b[32m[I 2021-09-24 15:47:47,775]\u001b[0m Trial 73 finished with value: 0.07056152102173942 and parameters: {'n_layers': 1, 'dropout_rate': 0.2007121819417366, 'n_units_l0': 128, 'batch_size': 12, 'lr': 0.00010369266578623083, 'weight_decay': 0.11977957811458997}. Best is trial 24 with value: 0.06036433232919263.\u001b[0m\n",
      "\u001b[32m[I 2021-09-24 15:59:38,193]\u001b[0m Trial 74 finished with value: 0.0643518588870681 and parameters: {'n_layers': 1, 'dropout_rate': 0.21923483585802833, 'n_units_l0': 125, 'batch_size': 9, 'lr': 7.905252735000366e-05, 'weight_decay': 0.0788920878995273}. Best is trial 24 with value: 0.06036433232919263.\u001b[0m\n",
      "\u001b[32m[I 2021-09-24 16:03:25,540]\u001b[0m Trial 75 pruned. \u001b[0m\n",
      "\u001b[32m[I 2021-09-24 16:09:53,486]\u001b[0m Trial 76 pruned. \u001b[0m\n",
      "\u001b[32m[I 2021-09-24 16:13:08,132]\u001b[0m Trial 77 pruned. \u001b[0m\n",
      "\u001b[32m[I 2021-09-24 16:17:14,544]\u001b[0m Trial 78 pruned. \u001b[0m\n",
      "\u001b[32m[I 2021-09-24 16:20:05,605]\u001b[0m Trial 79 pruned. \u001b[0m\n",
      "\u001b[32m[I 2021-09-24 16:22:50,967]\u001b[0m Trial 80 pruned. \u001b[0m\n",
      "\u001b[32m[I 2021-09-24 16:27:48,299]\u001b[0m Trial 81 pruned. \u001b[0m\n",
      "\u001b[32m[I 2021-09-24 16:41:05,682]\u001b[0m Trial 82 finished with value: 0.06010235227431918 and parameters: {'n_layers': 1, 'dropout_rate': 0.21323910910793853, 'n_units_l0': 126, 'batch_size': 9, 'lr': 5.9320148437874136e-05, 'weight_decay': 0.06341845484721026}. Best is trial 82 with value: 0.06010235227431918.\u001b[0m\n",
      "\u001b[32m[I 2021-09-24 16:45:04,258]\u001b[0m Trial 83 pruned. \u001b[0m\n",
      "\u001b[32m[I 2021-09-24 16:50:34,099]\u001b[0m Trial 84 finished with value: 0.06241849882921814 and parameters: {'n_layers': 1, 'dropout_rate': 0.21383541268451947, 'n_units_l0': 123, 'batch_size': 14, 'lr': 0.00011477051757021908, 'weight_decay': 0.03129219381035438}. Best is trial 82 with value: 0.06010235227431918.\u001b[0m\n",
      "\u001b[32m[I 2021-09-24 16:55:36,126]\u001b[0m Trial 85 pruned. \u001b[0m\n",
      "\u001b[32m[I 2021-09-24 16:58:50,404]\u001b[0m Trial 86 pruned. \u001b[0m\n",
      "\u001b[32m[I 2021-09-24 17:04:53,802]\u001b[0m Trial 87 finished with value: 0.06906022244499986 and parameters: {'n_layers': 1, 'dropout_rate': 0.23624060093785298, 'n_units_l0': 121, 'batch_size': 10, 'lr': 4.093719240687643e-05, 'weight_decay': 0.10017466387519858}. Best is trial 82 with value: 0.06010235227431918.\u001b[0m\n",
      "\u001b[32m[I 2021-09-24 17:08:22,281]\u001b[0m Trial 88 pruned. \u001b[0m\n",
      "\u001b[32m[I 2021-09-24 17:11:24,859]\u001b[0m Trial 89 pruned. \u001b[0m\n",
      "\u001b[32m[I 2021-09-24 17:16:32,861]\u001b[0m Trial 90 finished with value: 0.06586533983609569 and parameters: {'n_layers': 1, 'dropout_rate': 0.21556894608176436, 'n_units_l0': 107, 'batch_size': 19, 'lr': 0.00017060381544332465, 'weight_decay': 0.05762632667538328}. Best is trial 82 with value: 0.06010235227431918.\u001b[0m\n",
      "\u001b[32m[I 2021-09-24 17:22:05,866]\u001b[0m Trial 91 finished with value: 0.06224763643806462 and parameters: {'n_layers': 1, 'dropout_rate': 0.2095226914080728, 'n_units_l0': 123, 'batch_size': 16, 'lr': 7.493570371463329e-05, 'weight_decay': 0.041768812768226214}. Best is trial 82 with value: 0.06010235227431918.\u001b[0m\n",
      "\u001b[32m[I 2021-09-24 17:23:53,939]\u001b[0m Trial 92 pruned. \u001b[0m\n",
      "\u001b[32m[I 2021-09-24 17:26:36,527]\u001b[0m Trial 93 pruned. \u001b[0m\n",
      "\u001b[32m[I 2021-09-24 17:29:39,256]\u001b[0m Trial 94 pruned. \u001b[0m\n",
      "\u001b[32m[I 2021-09-24 17:32:12,513]\u001b[0m Trial 95 pruned. \u001b[0m\n",
      "\u001b[32m[I 2021-09-24 17:35:40,863]\u001b[0m Trial 96 pruned. \u001b[0m\n",
      "\u001b[32m[I 2021-09-24 17:39:47,275]\u001b[0m Trial 97 pruned. \u001b[0m\n",
      "\u001b[32m[I 2021-09-24 17:44:50,361]\u001b[0m Trial 98 pruned. \u001b[0m\n",
      "\u001b[32m[I 2021-09-24 17:47:10,822]\u001b[0m Trial 99 pruned. \u001b[0m\n"
     ]
    }
   ],
   "source": [
    "pruner = optuna.pruners.MedianPruner(n_startup_trials=5, n_warmup_steps=20, n_min_trials=3)\n",
    "study = optuna.create_study(direction=\"minimize\", pruner=pruner)\n",
    "study.optimize(objective, n_trials=100)"
   ]
  },
  {
   "cell_type": "code",
   "execution_count": 20,
   "id": "b4f81fc6",
   "metadata": {
    "execution": {
     "iopub.execute_input": "2021-09-24T17:47:13.481240Z",
     "iopub.status.busy": "2021-09-24T17:47:13.471027Z",
     "iopub.status.idle": "2021-09-24T17:47:13.493034Z",
     "shell.execute_reply": "2021-09-24T17:47:13.493487Z"
    },
    "id": "MZ33X-NacMw8",
    "outputId": "b5f5135f-c67b-4e69-bfa2-8963b3ce86ef",
    "papermill": {
     "duration": 0.93041,
     "end_time": "2021-09-24T17:47:13.493628",
     "exception": false,
     "start_time": "2021-09-24T17:47:12.563218",
     "status": "completed"
    },
    "tags": []
   },
   "outputs": [
    {
     "name": "stdout",
     "output_type": "stream",
     "text": [
      "Study statistics: \n",
      "  Number of finished trials:\t 100\n",
      "  Number of pruned trials:\t 64\n",
      "  Number of complete trials:\t 36\n",
      "\n",
      "Best trial:\n",
      "  Value:  0.06010235227431918\n",
      "  Params: \n",
      "    n_layers: 1\n",
      "    dropout_rate: 0.21323910910793853\n",
      "    n_units_l0: 126\n",
      "    batch_size: 9\n",
      "    lr: 5.9320148437874136e-05\n",
      "    weight_decay: 0.06341845484721026\n"
     ]
    }
   ],
   "source": [
    "from optuna.trial import TrialState\n",
    "\n",
    "pruned_trials = study.get_trials(deepcopy=False, states=[TrialState.PRUNED])\n",
    "complete_trials = study.get_trials(deepcopy=False, states=[TrialState.COMPLETE])\n",
    "\n",
    "print(\"Study statistics: \")\n",
    "print(\"  Number of finished trials:\\t\", len(study.trials))\n",
    "print(\"  Number of pruned trials:\\t\", len(pruned_trials))\n",
    "print(\"  Number of complete trials:\\t\", len(complete_trials))\n",
    "\n",
    "print(\"\\nBest trial:\")\n",
    "trial = study.best_trial\n",
    "\n",
    "print(\"  Value: \", trial.value)\n",
    "print(\"  Params: \")\n",
    "for key, value in trial.params.items():\n",
    "    print(\"    {}: {}\".format(key, value))"
   ]
  },
  {
   "cell_type": "markdown",
   "id": "889ac6ac",
   "metadata": {
    "id": "1kXDduuNcMw_",
    "papermill": {
     "duration": 0.867917,
     "end_time": "2021-09-24T17:47:15.224913",
     "exception": false,
     "start_time": "2021-09-24T17:47:14.356996",
     "status": "completed"
    },
    "tags": []
   },
   "source": [
    "Trials either early stops (gradient descent loses momentum) or gets pruned (expected to not improve even if gradient descent continues). Pruning starts after 5 trials, i.e. `n_startup_trials=5`. This is so that the pruner obtains enough information about the general behavior of the gradient descent optimizer before starting to prune.\n",
    "\n",
    "We set `n_warmup_steps=20` allowing each trial to train the network for 20 epochs before pruning, so that the completed trials will not be dominated by networks that descend quickly, but to shallow minimas. For example, shallow networks that possibly overfits the validation set. However, this comes at the price of wasting resources for training 21 epochs for at least half of the number of trials. Still, only 3 out of 36 completed trials have two hidden layers, and no trials with three hidden layers. These results show that networks with one hidden layer performs best at this scale. To encourage deeper networks that train slower, we can increase the scale of training to `n_warmup_steps=50` with higher max epochs. An alternative approach would be to create a separate study for each fixed depth, to test whether deeper networks perform better.\n",
    "\n",
    "Finally, we set `n_min_trials=3` so that a higher number of trials at later steps can continue until it early stops or reaches max epochs."
   ]
  },
  {
   "cell_type": "code",
   "execution_count": null,
   "id": "6d43d119",
   "metadata": {},
   "outputs": [],
   "source": [
    "optuna.visualization.plot_intermediate_values(study)"
   ]
  },
  {
   "cell_type": "markdown",
   "id": "ba2cee19",
   "metadata": {},
   "source": [
    "```{figure} ../img/optuna-6.png\n",
    "```"
   ]
  },
  {
   "cell_type": "code",
   "execution_count": null,
   "id": "d303eecd",
   "metadata": {},
   "outputs": [],
   "source": [
    "optuna.visualization.plot_optimization_history(study)"
   ]
  },
  {
   "cell_type": "markdown",
   "id": "7d319b69",
   "metadata": {},
   "source": [
    "```{figure} ../img/optuna-7b.png\n",
    "```"
   ]
  },
  {
   "cell_type": "markdown",
   "id": "bd6a0bab",
   "metadata": {
    "id": "I1v_xkn-cMxC",
    "papermill": {
     "duration": 0.879727,
     "end_time": "2021-09-24T17:47:20.675183",
     "exception": false,
     "start_time": "2021-09-24T17:47:19.795456",
     "status": "completed"
    },
    "tags": []
   },
   "source": [
    "### Hyperparameter interactions"
   ]
  },
  {
   "cell_type": "markdown",
   "id": "05b9ee98",
   "metadata": {
    "id": "hHlDxIRDfkEO",
    "papermill": {
     "duration": 0.870051,
     "end_time": "2021-09-24T17:47:22.653547",
     "exception": false,
     "start_time": "2021-09-24T17:47:21.783496",
     "status": "completed"
    },
    "tags": []
   },
   "source": [
    "We look at which combinations of hyperparameters work well from the parallel coordinate plot. Note that there is something weird going on here. For example, trials with `n_layers=1` has coordinates in axes where they should have no values, e.g. `n_units_l1` and `n_units_l2`. This is a known issue for parallel plots, e.g. [#1809](https://github.com/optuna/optuna/issues/1809). Turns out, lines with dynamically constructed parameters with NaNs should be skipped by plotter. Moreover, trials with NaN values are excluded from the parameter importance computation which limits its usefulness. "
   ]
  },
  {
   "cell_type": "code",
   "execution_count": null,
   "id": "ac8251b0",
   "metadata": {},
   "outputs": [],
   "source": [
    "optuna.visualization.plot_parallel_coordinate(study)"
   ]
  },
  {
   "cell_type": "markdown",
   "id": "7babc6df",
   "metadata": {},
   "source": [
    "```{figure} ../img/optuna-8.png\n",
    "```"
   ]
  },
  {
   "cell_type": "code",
   "execution_count": 24,
   "id": "cc1d1348",
   "metadata": {
    "execution": {
     "iopub.execute_input": "2021-09-24T17:47:26.209489Z",
     "iopub.status.busy": "2021-09-24T17:47:26.208825Z",
     "iopub.status.idle": "2021-09-24T17:47:26.211888Z",
     "shell.execute_reply": "2021-09-24T17:47:26.212306Z"
    },
    "id": "zGTKvWzrYkuj",
    "outputId": "8b8e516f-b241-4b49-e372-899d4d062948",
    "papermill": {
     "duration": 0.902849,
     "end_time": "2021-09-24T17:47:26.212446",
     "exception": false,
     "start_time": "2021-09-24T17:47:25.309597",
     "status": "completed"
    },
    "tags": []
   },
   "outputs": [
    {
     "data": {
      "text/html": [
       "<div>\n",
       "<style scoped>\n",
       "    .dataframe tbody tr th:only-of-type {\n",
       "        vertical-align: middle;\n",
       "    }\n",
       "\n",
       "    .dataframe tbody tr th {\n",
       "        vertical-align: top;\n",
       "    }\n",
       "\n",
       "    .dataframe thead th {\n",
       "        text-align: right;\n",
       "    }\n",
       "</style>\n",
       "<table border=\"1\" class=\"dataframe\">\n",
       "  <thead>\n",
       "    <tr style=\"text-align: right;\">\n",
       "      <th></th>\n",
       "      <th>number</th>\n",
       "      <th>value</th>\n",
       "      <th>datetime_start</th>\n",
       "      <th>datetime_complete</th>\n",
       "      <th>duration</th>\n",
       "      <th>params_batch_size</th>\n",
       "      <th>params_dropout_rate</th>\n",
       "      <th>params_lr</th>\n",
       "      <th>params_n_layers</th>\n",
       "      <th>params_n_units_l0</th>\n",
       "      <th>params_n_units_l1</th>\n",
       "      <th>params_n_units_l2</th>\n",
       "      <th>params_weight_decay</th>\n",
       "      <th>state</th>\n",
       "    </tr>\n",
       "  </thead>\n",
       "  <tbody>\n",
       "    <tr>\n",
       "      <th>0</th>\n",
       "      <td>0</td>\n",
       "      <td>0.114750</td>\n",
       "      <td>2021-09-24 11:34:24.485876</td>\n",
       "      <td>2021-09-24 11:38:41.877682</td>\n",
       "      <td>0 days 00:04:17.391806</td>\n",
       "      <td>39</td>\n",
       "      <td>0.245993</td>\n",
       "      <td>0.006251</td>\n",
       "      <td>1</td>\n",
       "      <td>35</td>\n",
       "      <td>NaN</td>\n",
       "      <td>NaN</td>\n",
       "      <td>0.132481</td>\n",
       "      <td>COMPLETE</td>\n",
       "    </tr>\n",
       "    <tr>\n",
       "      <th>1</th>\n",
       "      <td>1</td>\n",
       "      <td>2.301193</td>\n",
       "      <td>2021-09-24 11:38:41.879230</td>\n",
       "      <td>2021-09-24 11:39:13.075574</td>\n",
       "      <td>0 days 00:00:31.196344</td>\n",
       "      <td>149</td>\n",
       "      <td>0.351925</td>\n",
       "      <td>0.059850</td>\n",
       "      <td>1</td>\n",
       "      <td>46</td>\n",
       "      <td>NaN</td>\n",
       "      <td>NaN</td>\n",
       "      <td>0.029814</td>\n",
       "      <td>COMPLETE</td>\n",
       "    </tr>\n",
       "    <tr>\n",
       "      <th>2</th>\n",
       "      <td>2</td>\n",
       "      <td>0.093356</td>\n",
       "      <td>2021-09-24 11:39:13.079756</td>\n",
       "      <td>2021-09-24 11:41:51.309917</td>\n",
       "      <td>0 days 00:02:38.230161</td>\n",
       "      <td>167</td>\n",
       "      <td>0.310718</td>\n",
       "      <td>0.000031</td>\n",
       "      <td>1</td>\n",
       "      <td>98</td>\n",
       "      <td>NaN</td>\n",
       "      <td>NaN</td>\n",
       "      <td>0.041435</td>\n",
       "      <td>COMPLETE</td>\n",
       "    </tr>\n",
       "    <tr>\n",
       "      <th>3</th>\n",
       "      <td>3</td>\n",
       "      <td>0.142978</td>\n",
       "      <td>2021-09-24 11:41:51.311933</td>\n",
       "      <td>2021-09-24 11:42:26.271232</td>\n",
       "      <td>0 days 00:00:34.959299</td>\n",
       "      <td>264</td>\n",
       "      <td>0.201292</td>\n",
       "      <td>0.000440</td>\n",
       "      <td>2</td>\n",
       "      <td>115</td>\n",
       "      <td>37.0</td>\n",
       "      <td>NaN</td>\n",
       "      <td>0.217403</td>\n",
       "      <td>COMPLETE</td>\n",
       "    </tr>\n",
       "    <tr>\n",
       "      <th>4</th>\n",
       "      <td>4</td>\n",
       "      <td>0.067970</td>\n",
       "      <td>2021-09-24 11:42:26.273244</td>\n",
       "      <td>2021-09-24 11:45:57.436182</td>\n",
       "      <td>0 days 00:03:31.162938</td>\n",
       "      <td>93</td>\n",
       "      <td>0.251426</td>\n",
       "      <td>0.055884</td>\n",
       "      <td>1</td>\n",
       "      <td>104</td>\n",
       "      <td>NaN</td>\n",
       "      <td>NaN</td>\n",
       "      <td>0.062101</td>\n",
       "      <td>COMPLETE</td>\n",
       "    </tr>\n",
       "  </tbody>\n",
       "</table>\n",
       "</div>"
      ],
      "text/plain": [
       "   number     value             datetime_start          datetime_complete  \\\n",
       "0       0  0.114750 2021-09-24 11:34:24.485876 2021-09-24 11:38:41.877682   \n",
       "1       1  2.301193 2021-09-24 11:38:41.879230 2021-09-24 11:39:13.075574   \n",
       "2       2  0.093356 2021-09-24 11:39:13.079756 2021-09-24 11:41:51.309917   \n",
       "3       3  0.142978 2021-09-24 11:41:51.311933 2021-09-24 11:42:26.271232   \n",
       "4       4  0.067970 2021-09-24 11:42:26.273244 2021-09-24 11:45:57.436182   \n",
       "\n",
       "                duration  params_batch_size  params_dropout_rate  params_lr  \\\n",
       "0 0 days 00:04:17.391806                 39             0.245993   0.006251   \n",
       "1 0 days 00:00:31.196344                149             0.351925   0.059850   \n",
       "2 0 days 00:02:38.230161                167             0.310718   0.000031   \n",
       "3 0 days 00:00:34.959299                264             0.201292   0.000440   \n",
       "4 0 days 00:03:31.162938                 93             0.251426   0.055884   \n",
       "\n",
       "   params_n_layers  params_n_units_l0  params_n_units_l1  params_n_units_l2  \\\n",
       "0                1                 35                NaN                NaN   \n",
       "1                1                 46                NaN                NaN   \n",
       "2                1                 98                NaN                NaN   \n",
       "3                2                115               37.0                NaN   \n",
       "4                1                104                NaN                NaN   \n",
       "\n",
       "   params_weight_decay     state  \n",
       "0             0.132481  COMPLETE  \n",
       "1             0.029814  COMPLETE  \n",
       "2             0.041435  COMPLETE  \n",
       "3             0.217403  COMPLETE  \n",
       "4             0.062101  COMPLETE  "
      ]
     },
     "execution_count": 24,
     "metadata": {},
     "output_type": "execute_result"
    }
   ],
   "source": [
    "study.trials_dataframe().head()"
   ]
  },
  {
   "cell_type": "code",
   "execution_count": 25,
   "id": "061a7773",
   "metadata": {
    "execution": {
     "iopub.execute_input": "2021-09-24T17:47:27.972954Z",
     "iopub.status.busy": "2021-09-24T17:47:27.972186Z",
     "iopub.status.idle": "2021-09-24T17:47:27.993750Z",
     "shell.execute_reply": "2021-09-24T17:47:27.994443Z"
    },
    "id": "FnYWhE5cec4Q",
    "outputId": "ae4419c2-08d8-4000-d1d8-7544cc3e0e2b",
    "papermill": {
     "duration": 0.906156,
     "end_time": "2021-09-24T17:47:27.994591",
     "exception": false,
     "start_time": "2021-09-24T17:47:27.088435",
     "status": "completed"
    },
    "tags": []
   },
   "outputs": [
    {
     "data": {
      "text/plain": [
       "1    33\n",
       "2     3\n",
       "Name: params_n_layers, dtype: int64"
      ]
     },
     "execution_count": 25,
     "metadata": {},
     "output_type": "execute_result"
    }
   ],
   "source": [
    "study.trials_dataframe().query(\"state=='COMPLETE'\").params_n_layers.value_counts()"
   ]
  },
  {
   "cell_type": "markdown",
   "id": "c1db6ab4",
   "metadata": {
    "id": "HkA_kYbvc5eh",
    "papermill": {
     "duration": 0.86839,
     "end_time": "2021-09-24T17:47:29.733775",
     "exception": false,
     "start_time": "2021-09-24T17:47:28.865385",
     "status": "completed"
    },
    "tags": []
   },
   "source": [
    "Instead, we can look at each subset of trials for different values of `n_layers`. The resulting trials have no NaN parameters since the paramaters are sampled after a value for `n_layers` has been suggested. Looks like `n_layers=1` works best."
   ]
  },
  {
   "cell_type": "code",
   "execution_count": null,
   "id": "fd69be1a",
   "metadata": {},
   "outputs": [],
   "source": [
    "import warnings\n",
    "warnings.simplefilter(action='ignore', category=FutureWarning)\n",
    "\n",
    "# Isolate a study for each value of n_layers\n",
    "studies = [optuna.create_study() for j in range(3)]\n",
    "for j in range(3):\n",
    "    studies[j].add_trials([t for t in study.trials if t.params['n_layers'] == j+1])\n",
    "    fig = optuna.visualization.plot_parallel_coordinate(studies[j])\n",
    "    fig.show()"
   ]
  },
  {
   "cell_type": "markdown",
   "id": "9df618ab",
   "metadata": {},
   "source": [
    "```{figure} ../img/optuna-9.png\n",
    "```"
   ]
  },
  {
   "cell_type": "markdown",
   "id": "25021091",
   "metadata": {
    "execution": {
     "iopub.execute_input": "2021-09-24T17:47:31.498900Z",
     "iopub.status.busy": "2021-09-24T17:47:31.498048Z",
     "iopub.status.idle": "2021-09-24T17:47:31.636015Z",
     "shell.execute_reply": "2021-09-24T17:47:31.636446Z"
    },
    "id": "THs6gM21Ykuj",
    "outputId": "1f23fc71-6c7c-4acf-f819-199ea69f2a0d",
    "papermill": {
     "duration": 1.018434,
     "end_time": "2021-09-24T17:47:31.636592",
     "exception": false,
     "start_time": "2021-09-24T17:47:30.618158",
     "status": "completed"
    },
    "tags": []
   },
   "source": [
    "```{figure} ../img/optuna-10.png\n",
    "```"
   ]
  },
  {
   "cell_type": "markdown",
   "id": "abc86ebf",
   "metadata": {},
   "source": [
    "```{figure} ../img/optuna-11.png\n",
    "```"
   ]
  },
  {
   "cell_type": "markdown",
   "id": "61d73e52",
   "metadata": {
    "id": "wwToT9Spc5ei",
    "papermill": {
     "duration": 1.235117,
     "end_time": "2021-09-24T17:47:33.979662",
     "exception": false,
     "start_time": "2021-09-24T17:47:32.744545",
     "status": "completed"
    },
    "tags": []
   },
   "source": [
    "From the following contour plot, we see that a low batch size, low dropout rate, and low learning rate is generally favored by the search algorithm. These are mostly for a network with a single hidden layer. From the above parallel plot, a hidden layer of size around 90 looks good. "
   ]
  },
  {
   "cell_type": "code",
   "execution_count": null,
   "id": "9f3c1cc9",
   "metadata": {},
   "outputs": [],
   "source": [
    "fig = optuna.visualization.plot_contour(study, params=['batch_size', 'lr', 'dropout_rate'])\n",
    "fig.update_layout(autosize=False, width=1200, height=1200)\n",
    "fig.show()"
   ]
  },
  {
   "cell_type": "markdown",
   "id": "bca7049a",
   "metadata": {},
   "source": [
    "```{figure} ../img/optuna-12c.png\n",
    "```"
   ]
  },
  {
   "cell_type": "markdown",
   "id": "839de630",
   "metadata": {},
   "source": [
    "In conclusion, the search results look disappointing, i.e. the trials form a single cluster. This is because the network is too similar even with different hyperparameters. And a deeper network with only 128 neurons maximum width for learning 10 classes of images having 784 pixels cannot generalize well. Or, at least, not as fast as networks with a single hidden layer due to pruning."
   ]
  },
  {
   "cell_type": "markdown",
   "id": "c1342d06",
   "metadata": {
    "id": "cE-8JzvCcMxJ",
    "papermill": {
     "duration": 0.942818,
     "end_time": "2021-09-24T17:47:38.411416",
     "exception": false,
     "start_time": "2021-09-24T17:47:37.468598",
     "status": "completed"
    },
    "tags": []
   },
   "source": [
    "## Appendix: Hyperparameters of commonly used models"
   ]
  },
  {
   "cell_type": "markdown",
   "id": "78ffdb8f",
   "metadata": {
    "id": "A5eopYOBcMxJ",
    "papermill": {
     "duration": 0.911823,
     "end_time": "2021-09-24T17:47:40.202063",
     "exception": false,
     "start_time": "2021-09-24T17:47:39.290240",
     "status": "completed"
    },
    "tags": []
   },
   "source": [
    "<br>"
   ]
  },
  {
   "cell_type": "markdown",
   "id": "55fb4bf5",
   "metadata": {
    "id": "YaEeJGwecMxJ",
    "papermill": {
     "duration": 0.875658,
     "end_time": "2021-09-24T17:47:41.954949",
     "exception": false,
     "start_time": "2021-09-24T17:47:41.079291",
     "status": "completed"
    },
    "tags": []
   },
   "source": [
    "```{figure} ../img/hyp.png\n",
    "---\n",
    "name: hyp\n",
    "---\n",
    "Table from p. 184 of {cite}`AAAMLP`. **RS**$^*$ implies random search should be better.\n",
    "```"
   ]
  },
  {
   "cell_type": "markdown",
   "id": "f936840a",
   "metadata": {},
   "source": [
    "### Auto XGBoost\n",
    "\n",
    "The following search space is used to tune XGBoost in the [autoxgb](https://github.com/abhishekkrthakur/autoxgb) package:\n",
    "\n",
    "```python\n",
    "#https://github.com/abhishekkrthakur/autoxgb/blob/main/src/autoxgb/params.py\n",
    "def get_params(trial, model_config):\n",
    "    \n",
    "    params = {\n",
    "        \"learning_rate\": trial.suggest_float(\"learning_rate\", 1e-2, 0.25, log=True),\n",
    "        \"reg_lambda\": trial.suggest_float(\"reg_lambda\", 1e-8, 100.0, log=True),\n",
    "        \"reg_alpha\": trial.suggest_float(\"reg_alpha\", 1e-8, 100.0, log=True),\n",
    "        \"subsample\": trial.suggest_float(\"subsample\", 0.1, 1.0),\n",
    "        \"colsample_bytree\": trial.suggest_float(\"colsample_bytree\", 0.1, 1.0),\n",
    "        \"max_depth\": trial.suggest_int(\"max_depth\", 1, 9),\n",
    "        \"early_stopping_rounds\": trial.suggest_int(\"early_stopping_rounds\", 100, 500),\n",
    "        \"n_estimators\": trial.suggest_categorical(\"n_estimators\", [7000, 15000, 20000]),\n",
    "    }\n",
    "    \n",
    "    if model_config.use_gpu:\n",
    "        params[\"tree_method\"] = \"gpu_hist\"\n",
    "        params[\"gpu_id\"] = 0\n",
    "        params[\"predictor\"] = \"gpu_predictor\"\n",
    "    else:\n",
    "        params[\"tree_method\"] = trial.suggest_categorical(\"tree_method\", [\"exact\", \"approx\", \"hist\"])\n",
    "        params[\"booster\"] = trial.suggest_categorical(\"booster\", [\"gbtree\", \"gblinear\"])\n",
    "        if params[\"booster\"] == \"gbtree\":\n",
    "            params[\"gamma\"] = trial.suggest_float(\"gamma\", 1e-8, 1.0, log=True)\n",
    "            params[\"grow_policy\"] = trial.suggest_categorical(\"grow_policy\", [\"depthwise\", \"lossguide\"])\n",
    "\n",
    "    return params\n",
    "```"
   ]
  },
  {
   "cell_type": "markdown",
   "id": "835cff19",
   "metadata": {},
   "source": []
  }
 ],
 "metadata": {
  "kernelspec": {
   "display_name": "Python 3",
   "language": "python",
   "name": "python3"
  },
  "language_info": {
   "codemirror_mode": {
    "name": "ipython",
    "version": 3
   },
   "file_extension": ".py",
   "mimetype": "text/x-python",
   "name": "python",
   "nbconvert_exporter": "python",
   "pygments_lexer": "ipython3",
   "version": "3.7.10"
  },
  "papermill": {
   "default_parameters": {},
   "duration": 22682.612621,
   "end_time": "2021-09-24T17:47:44.510440",
   "environment_variables": {},
   "exception": null,
   "input_path": "__notebook__.ipynb",
   "output_path": "__notebook__.ipynb",
   "parameters": {},
   "start_time": "2021-09-24T11:29:41.897819",
   "version": "2.3.3"
  }
 },
 "nbformat": 4,
 "nbformat_minor": 5
}
