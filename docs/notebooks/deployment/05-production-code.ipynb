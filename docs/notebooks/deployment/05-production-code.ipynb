{
 "cells": [
  {
   "cell_type": "markdown",
   "metadata": {},
   "source": [
    "# Packaging Production Code"
   ]
  },
  {
   "cell_type": "markdown",
   "metadata": {},
   "source": [
    "```{note}\n",
    "Code for this section can be found in [`model-deployment/05-production/`](https://github.com/particle1331/model-deployment/tree/main/05-production).\n",
    "```"
   ]
  },
  {
   "cell_type": "markdown",
   "metadata": {},
   "source": [
    "Production code is designed to be deployed to end users as opposed to research code, which\n",
    "is for experimentation, building proof of concepts, and research code tends to be more short term in nature. \n",
    "On the other hand, with production code, we have some new considerations:\n",
    "\n",
    "- **Testability and maintainability** are huge.\n",
    "We want to divide up our code into modules which are more extensible and easier to test.\n",
    "We separate config from code where possible, and we ensure that functionality is tested and documented. We also look to ensure that our code adheres to standards like PEP 8 so that it's easy for others to\n",
    "read.  \n",
    "\n",
    "+++\n",
    "\n",
    "- **Scalability and performance** are also important areas to consider.\n",
    "With our production code, the code needs to be ready to be deployed to infrastructure that can be scaled. And in modern web applications, this typically means containerisation for vertical or horizontal scaling. And we'll be looking at that more in later sections.\n",
    "Where appropriate, we might also refactor inefficient parts of the code base.  \n",
    "\n",
    "+++\n",
    "\n",
    "- Finally, we have to look at **reproducibility**.\n",
    "The code resides under version control with clear processes for tracking releases and release versions, requirements, files, mark which dependencies and which versions are used by the code.\n",
    "\n",
    "```{margin}\n",
    "A **module** is basically just a Python file and a **package** is a\n",
    "collection of modules.\n",
    "```\n",
    "\n",
    "So that's a quick overview of some of the key considerations with production code. In this article, we will be packaging up our machine learning model into what's called the Python package. But a package has certain standardized files which have to be present so that it can be published and then installed in other Python applications.\n",
    "Packaging allows us to wrap our train model and make it available to other consuming applications as a dependency, but with the additional benefits of version control, clear metadata and reproducibility."
   ]
  },
  {
   "cell_type": "markdown",
   "metadata": {},
   "source": [
    "## Code overview"
   ]
  },
  {
   "cell_type": "markdown",
   "metadata": {},
   "source": [
    "Now, in order to create a package, we'll have to follow certain Python standards and conventions and\n",
    "we'll go into those in detail in this section.\n",
    "We'll end up with a package structure that looks like this.\n",
    "And by the time we get to the end of this section, all of this will be familiar.\n",
    "\n",
    "```\n",
    ".\n",
    "├── regression_model\n",
    "│   ├── config\n",
    "│   ├── datasets\n",
    "│   ├── processing\n",
    "│   │   ├── __init__.py\n",
    "│   │   ├── data_manager.py\n",
    "│   │   ├── features.py\n",
    "│   │   └── validation.py\n",
    "│   ├── trained_models\n",
    "│   ├── pipeline.py\n",
    "│   ├── predict.py\n",
    "│   ├── train_pipeline.py\n",
    "│   ├── config.yml\n",
    "│   └── VERSION\n",
    "├── requirements\n",
    "│   ├── requirements.txt\n",
    "│   └── test_requirements.txt\n",
    "├── tests\n",
    "│   ├── conftest.py\n",
    "│   ├── test_features.py\n",
    "│   └── test_prediction.py\n",
    "├── MANIFEST.in\n",
    "├── mypy.ini\n",
    "├── pyproject.toml\n",
    "├── setup.py\n",
    "└── tox.ini\n",
    "```"
   ]
  },
  {
   "cell_type": "markdown",
   "metadata": {},
   "source": [
    "Some of these files here the `MANIFEST.in`, `pyproject.toml`, `setup.py`, `mypy.ini` and `tox.ini` file are all things that we're using, either for packaging or for configuring things like linting and type checking. These are kinds of tooling configurations and will be coming back to discuss these in more detail below. We have a `requirements` directory, which is where we formalize the dependencies for our package and also for testing it. And we have a couple of sample tests in the `tests` directory.  \n",
    "\n",
    "\n",
    "The `regression_model` directory is where the majority of our functionality is. In this directory, we have three key files `train_pipeline.py`, `predict.py` and `pipeline.py`.\n",
    "These are sort of top level files for the key bits of functionality of the package. The `processing` directory contains different helper functions. We have the datasets that we need to train and test the models in the `datasets` directory. The `trained_models` directory is where we save the models that we're persisting\n",
    "here as a pickle file so that it can be loaded in and accessed in the future. Finally, `config` contains the core configurations module which reads the `config.yml` file.\n"
   ]
  },
  {
   "cell_type": "markdown",
   "metadata": {},
   "source": [
    "## Understanding the code structure"
   ]
  },
  {
   "cell_type": "markdown",
   "metadata": {},
   "source": [
    "So basically, there are three ways that we broadly speaking use to determine how to create the structure for the production code.\n",
    "Those three are conventions, packaging mandatory files and software engineering best practices, and we'll go into each of these and provide some examples.\n",
    "\n",
    "### Conventions\n",
    "\n",
    "So conventions are things that you don't have to do.\n",
    "You're not going to get something like a Python syntax error if you don't do it.\n",
    "But projects tend to adhere to some sort of convention in a particular area.\n",
    "For example, the most obvious one is PEP 8, which is the Python style guide.\n",
    "This provides loads of guidelines on how to write Python code.\n",
    "Similar to that, we add a few linting tools into our project a bit later in the section.\n",
    "Those will also be opinionated and want you to adhere to certain conventions.\n",
    "And that can be really useful.\n",
    "\n",
    "\n",
    "### Mandatory files\n",
    "\n",
    "Next up, we have things that once we've made a certain decision, we then have to do so.\n",
    "We've made the decision to package our model into a Python package once we've made that decision. Then, there are certain files that are required in order to do that, like the `setup.py` file and the `MANIFEST.in` file.\n",
    "You have to have these files in order to publish a Python package, so certain decisions basically get made for us in terms of the structure and the files we need.\n",
    "Again, broadly speaking, packaging is a really easy way for us to embed our model as a dependency in an application that runs.\n",
    "There are other ways that you can persist and share your models.\n",
    "But a Python package is a nice, easy way for us.\n",
    "To do this makes it easy to version, makes it really easy to install into our consuming application."
   ]
  },
  {
   "cell_type": "markdown",
   "metadata": {},
   "source": [
    "### Best practices \n",
    "\n",
    "```{margin}\n",
    "**End user functionality** \n",
    "```\n",
    "\n",
    "Software engineering best practices can be separated into two broad categories. First, we have the stuff that is relevant for the end user of your package.\n",
    "In our case, imagine that we published this package now as the end user, perhaps creating my application,\n",
    "and I want to make predictions using this machine learning model package that I've installed.\n",
    "In my application code, I'm going to import things like the ability to predict, right?\n",
    "And that will come from the predict module. I don't want to also import all the training functions. In fact, that might be confusing for me.\n",
    "So here we have a predict and a train separation and that feeds into just general software engineering good practices."
   ]
  },
  {
   "cell_type": "markdown",
   "metadata": {},
   "source": [
    "```{margin}\n",
    "**Testing and maintainability** \n",
    "```\n",
    "\n",
    "The second broad category relates to testing and maintanability.\n",
    "For testing, you want to think about, can you write a single unit test for one specific bit\n",
    "of functionality?\n",
    "The most extreme case of this production code would be that we put almost everything in a single file, right?\n",
    "Now, I think everybody intuitively knows that that would be messy and hard to maintain.\n",
    "But you then continue that thread and keep following it.\n",
    "And what you start to arrive at is this idea of separation of concerns, tests, ability.\n",
    "For example, if we look at the `data_manager.py`,\n",
    "we have a function for saving the pipeline and we have a function for removing old pipelines.\n",
    "Now these could be one single function. But we choose not to have them as one function because now in a unit test, we can test removing old\n",
    "pipelines as well as saving any pipeline. This makes testing a specific discrete unit of functionality a lot easier."
   ]
  },
  {
   "cell_type": "markdown",
   "metadata": {},
   "source": [
    "This leads to separation\n",
    "of concerns, which leads to modularity.\n",
    "And as the name implies, separation of concerns is about designing software systems so that different\n",
    "areas of functionality are separated.\n",
    "For example, this is why we have different modules for the `data_manager.py` module, which deals with loading the training data, and then we have the validation module in `validation.py`,\n",
    "which deals with testing that our inputs to the model are correct.\n",
    "Now you could easily have these in the same module, but we choose to separate them because they're doing different things. And again, that links to testability. This is related to the [SOLID principles](https://en.wikipedia.org/wiki/SOLID) where the first stands for single responsibility which again means that \n",
    "a class or module should have one job. Here we have `predict.py` only dealing with prediction and `train_pipeline.py` dealing with training models.\n",
    "This is just engineering good practice that links to maintainability.\n",
    "\n",
    "Imagine you want to modify this package, you're going to create a pull request.\n",
    "And if you're the person reviewing this pull request and everything is all in one file, it's really difficult for you to track what's changed and understand exactly what you need to be reviewing. On the other hand, if the change is made in just a single small module, which only has code related to one area in it, it's way easier for you to immediately get the context, follow the flow of the\n",
    "program and review that pull request.\n",
    "So, this is the long term health of your code and making it nice and easy for maintainers.\n",
    "You can apply similar thought processes when you're deciding how to structure your own projects. \n",
    "\n",
    "Another best practice related to maintainability is optimizing for readability. \n",
    "The [principle of least astonishment](https://en.wikipedia.org/wiki/Principle_of_least_astonishment) is one that is very useful.\n",
    "You go into the code base, you look at the directories and the principle of least astonishment applies to a lot to naming. Do modules do what you expect them to do when you read the names and the same for classes and functions?\n",
    "A good way to think about this is to imagine that the person who's going to maintain your code after you is a psychopath who knows where you live.\n",
    "\n",
    "\n",
    "```{note}\n",
    "Follow a standard where possible (PEP 8), pick a linting tool and then stick with it.\n",
    "In our case, publishing models as packages gives us a nice structure to work with. This is a recommended starting point until you get to some more complex applications where publishing as a package may not be possible. At that point, it might be time to find a new standard.\n",
    "Established conventions usually adhere to good practices, but not always.\n",
    "And learning when an established convention actually isn't the right choice for you takes a lot of time and practice. But that's something to work towards.\n",
    "```"
   ]
  },
  {
   "cell_type": "markdown",
   "metadata": {},
   "source": [
    "## Package requirements"
   ]
  },
  {
   "cell_type": "markdown",
   "metadata": {},
   "source": [
    "We have this `requirements` directory with two requirements files inside it.\n",
    "Let's start with the `requirements.txt` file.\n",
    "We have some comments at the top explaining some of the choices we've made here.\n",
    "And then from line four onwards, starting at non-pay, we define the dependencies of our projects as\n",
    "well as the version numbers of each of these dependencies which we were willing to accept, so which\n",
    "is compatible with our particular package.\n",
    "\n",
    "```{margin}\n",
    "[`requirements/requirements.txt`](https://github.com/particle1331/model-deployment/blob/main/05-production/requirements/requirements.txt)\n",
    "```\n",
    "\n",
    "\n",
    "```\n",
    "# We use compatible release functionality (see PEP 440 here: https://www.python.org/dev/peps/pep-0440/#compatible-release)\n",
    "# to specify acceptable version ranges of our project dependencies. This gives us the flexibility to keep up with small\n",
    "# updates/fixes, whilst ensuring we don't install a major update which could introduce backwards incompatible changes.\n",
    "numpy>=1.22.0,<1.23.0\n",
    "pandas>=1.4.0,<1.5.0\n",
    "pydantic>=1.8.1,<1.9.0\n",
    "scikit-learn>=1.0.0,<1.1.0\n",
    "strictyaml>=1.3.2,<1.4.0\n",
    "ruamel.yaml==0.16.12\n",
    "feature-engine>=1.0.2,<1.1.0\n",
    "joblib>=1.0.1,<1.1.0\n",
    "```\n",
    "\n",
    "\n",
    "Now, these versions all adhere to what's known as [semantic versioning](https://www.geeksforgeeks.org/introduction-semantic-versioning/). For example, we have version `4.3.0`\n",
    "You have a major version `4` followed by a period followed by the minor version `3`, followed by a period followed by what's known as a patch version `0` (bug fix).\n",
    "And for a well maintained package, you'd expect that a minor version increment does not break the API\n",
    "and a major version increment is likely to break the API.\n",
    "But you have to be a bit careful because some less well maintain packages may actually introduce breaking\n",
    "changes, even in a minor version bump.\n",
    "So what we've done in our requirements file is play it quite conservatively.\n",
    "We're alowing patches but not minor version increases. And it's up to you and your projects, how much risk you want to take.\n",
    "\n",
    "We've split the requirements into these two files because there will be scenarios where we don't actually need to install these test requirements because these are only required when we want to test our package or when we want to run style checks, linting and type checks.\n",
    "\n",
    "```{margin}\n",
    "[`requirements/test_requirements.txt`](https://github.com/particle1331/model-deployment/blob/main/05-production/requirements/test_requirements.txt)\n",
    "```\n",
    "\n",
    "```\n",
    "# Install requirements.txt along with others\n",
    "-r requirements.txt\n",
    "\n",
    "# Testing requirements\n",
    "pytest>=6.2.3,<6.3.0\n",
    "\n",
    "# Repo maintenance tooling\n",
    "black==20.8b1\n",
    "flake8>=3.9.0,<3.10.0\n",
    "mypy==0.812\n",
    "isort==5.8.0\n",
    "```\n",
    "\n",
    "\n",
    "These two files are really important.\n",
    "If we don't define which versions of our dependencies we expect, then it can result in our package becoming very brittle and broken.\n",
    "The most basic error in a package would be that you didn't have a requirement to file.\n",
    "That would just mean that when somebody else tried to install and use the package, it would fail because it wouldn't have its necessary dependencies.\n",
    "A more likely scenario is that we neglect to include a version, and if there is no version specified, Pip is just going to assume you want the latest version of a particular dependency. And it may well be that that version has progressed and it's released new features, a new major version perhaps, and it's got breaking changes in the API.\n",
    "And that means that your package or our package in this case is going to break.\n",
    "So it's really important for us to define these versions.\n",
    "\n",
    "\n",
    "This `requirements.txt` approach to managing our projects dependencies is probably the most basic way of doing dependency management in Python.\n",
    "Nothing wrong with it at all. Many of the biggest python open source projects out there use this exact approach. However, just to avoid confusion.\n",
    "Poetry or Pipenv, then the the file used to define dependencies changes depending on which dependency manager you're working with. But the principle.\n",
    "Of defining your dependencies and specifying the version ranges remains the same across all of the tools. So focus on the principle, not so much on the exact syntax."
   ]
  },
  {
   "cell_type": "markdown",
   "metadata": {},
   "source": [
    "## Working with tox"
   ]
  },
  {
   "cell_type": "markdown",
   "metadata": {},
   "source": [
    "\n",
    "Now what we're going to do is see our package in action on some of its main commands.\n",
    "To start, if we've just cloned the repository and we have a look at our `trained_models` directory, which is one of the directories inside the `regression_model` directory, you can see that we just have the `__init__.py` file. There are no other files inside train models right now. We can generate a trained model serialized as a `.pkl` file by running:\n",
    "\n",
    "```\n",
    "tox -e train\n",
    "``` \n",
    "\n",
    "\n",
    "What happened here is that we've used `tox` to trigger our train pipeline script.\n",
    "So what's `tox`? How does it work? `tox` is a generic virtual environment management and test command line tool.\n",
    "For our purposes here, this means that with `tox`, we don't have to worry about different operating systems. We can run `tox` on Windows, macOS, Linux and get the same behavior across the platforms. We don't have to worry about things like setting up Python paths, configuring environment variables. We do all of that stuff inside our `tox.ini` file.\n",
    "So it's a really powerful way for us to be able to run tests of different versions of Python.\n",
    "Set up environment variables get over operating system differences.\n",
    "This is a great tool, and it's worth adding to your toolbox to get started with tox.\n"
   ]
  },
  {
   "cell_type": "markdown",
   "metadata": {},
   "source": [
    "```\n",
    "$ pip install tox\n",
    "```"
   ]
  },
  {
   "cell_type": "markdown",
   "metadata": {},
   "source": [
    "Once that's set up, then we're going to start using tox and all our tox configuration is in the `tox.ini` file. There's a few comments at the top here explaining more about tox, \n",
    "what it is and why we're using it. There's quite a lot happening in our `tox.ini` file.\n",
    "\n",
    "```{margin}\n",
    "[`05-production/tox.ini`](https://github.com/particle1331/model-deployment/blob/main/05-production/tox.ini)\n",
    "```\n",
    "\n",
    "```\n",
    "# Tox is a generic virtualenv management and test command line tool. Its goal is to\n",
    "# standardize testing in Python. We will be using it extensively in this course.\n",
    "\n",
    "# Using Tox we can (on multiple operating systems):\n",
    "# + Eliminate PYTHONPATH challenges when running scripts/tests\n",
    "# + Eliminate virtualenv setup confusion\n",
    "# + Streamline steps such as model training, model publishing\n",
    "\n",
    "\n",
    "[tox]\n",
    "envlist = test_package, typechecks, stylechecks, lint\n",
    "skipsdist = True\n",
    "\n",
    "\n",
    "[testenv]\n",
    "install_command = pip install {opts} {packages}\n",
    "\n",
    "\n",
    "[testenv:test_package]\n",
    "deps =\n",
    "\t-rrequirements/test_requirements.txt\n",
    "\n",
    "setenv =\n",
    "\tPYTHONPATH=.\n",
    "\tPYTHONHASHSEED=0\n",
    "\n",
    "commands =\n",
    "\tpython regression_model/train_pipeline.py\n",
    "\tpytest -s -v tests/\n",
    "\n",
    "\n",
    "[testenv:train]\n",
    "envdir \t = {toxworkdir}/test_package\n",
    "deps \t = {[testenv:test_package]deps}\n",
    "setenv \t = {[testenv:test_package]setenv}\n",
    "commands = \n",
    "\tpython regression_model/train_pipeline.py\n",
    "\n",
    "# ...\n",
    "```"
   ]
  },
  {
   "cell_type": "markdown",
   "metadata": {},
   "source": [
    "Let me break it down a bit for you. Every time you see something in square brackets like this, this is a different tox environment and an environment is something which is going to set up a virtual environment in your `.tox` hidden directory. We can run commands within a specific environment, and we can also inherit commands and dependencies from other environments. So this is a sort of foundational unit when we're working with tox."
   ]
  },
  {
   "cell_type": "markdown",
   "metadata": {},
   "source": [
    "Here, we have the default `tox` environment and a default `testenv` environment.\n",
    "And what this means is that if we just run the `tox` command on its own, it's going to run all the commands in these different environments (`test_package`, `typechecks`, `stylechecks`, and `lint`). You will see that these names corresponds to environments defined further in the file. Continuing, we set `skipsdist=True` since we don't want to build the package. The `testenv` is almost like a base class, if you think of inheritance (using the `:` syntax). And so this `install_command` is going to be consistent whenever we inherit from this base environment."
   ]
  },
  {
   "cell_type": "markdown",
   "metadata": {},
   "source": [
    "For `test_package` environment which inherits from `testenv`, we define `deps` and that tells `tox` that for this particular environment, we're going to need to install `requirements/test_requirements.txt` with flag `-r`. This also sets environmental variables `PYTHONPATH=.` for the root directory and `PYTHONHASHSEED=0` to disable setting hash seed to a random integer for test commands. Finally, the following two commands are run:\n",
    "\n",
    "```\n",
    "$ python regression_model/train_pipeline.py\n",
    "$ pytest -s -v tests\n",
    "```\n",
    "\n",
    "Here `-s` means to disable all capturing and `-v` to get verbose outputs. You can test this by running the following script in the terminal:\n",
    "\n",
    "```\n",
    "$ tox -e test_package\n",
    "test_package installed: appdirs==1.4.4,attrs==21.4.0,black==20.8b1,click==8.0.4,feature-engine==1.0.2,flake8==3.9.2,iniconfig==1.1.1,isort==5.8.0,joblib==1.0.1,mccabe==0.6.1,mypy==0.812,mypy-extensions==0.4.3,numpy==1.22.3,packaging==21.3,pandas==1.4.1,pathspec==0.9.0,patsy==0.5.2,pluggy==1.0.0,py==1.11.0,pycodestyle==2.7.0,pydantic==1.8.2,pyflakes==2.3.1,pyparsing==3.0.7,pytest==6.2.5,python-dateutil==2.8.2,pytz==2021.3,regex==2022.3.2,ruamel.yaml==0.16.12,ruamel.yaml.clib==0.2.6,scikit-learn==1.0.2,scipy==1.8.0,six==1.16.0,statsmodels==0.13.2,strictyaml==1.3.2,threadpoolctl==3.1.0,toml==0.10.2,typed-ast==1.4.3,typing_extensions==4.1.1\n",
    "test_package run-test-pre: PYTHONHASHSEED='0'\n",
    "test_package run-test: commands[0] | python regression_model/train_pipeline.py\n",
    "test_package run-test: commands[1] | pytest -s -v tests/\n",
    "============================= test session starts ==============================\n",
    "platform darwin -- Python 3.8.12, pytest-6.2.5, py-1.11.0, pluggy-1.0.0 -- /Users/particle1331/code/model-deployment/05-production/.tox/test_package/bin/python\n",
    "cachedir: .tox/test_package/.pytest_cache\n",
    "rootdir: /Users/particle1331/code/model-deployment/05-production, configfile: pyproject.toml\n",
    "collected 2 items\n",
    "\n",
    "tests/test_features.py::test_temporal_variable_transformer PASSED\n",
    "tests/test_prediction.py::test_make_prediction PASSED\n",
    "\n",
    "============================== 2 passed in 0.19s ===============================\n",
    "___________________________________ summary ____________________________________\n",
    "  test_package: commands succeeded\n",
    "  congratulations :)\n",
    "```"
   ]
  },
  {
   "cell_type": "markdown",
   "metadata": {},
   "source": [
    "Next, we have the `train` environment. Notice that we set `envdir={toxworkdir}/test_package` which tells tox to recreate the `test_package` environment in the hidden `.tox` directory. This is to save time. Furthermore, setting `deps={[testenv:test_package]deps}` installs `test_requirements.txt` instead of `requirements.txt`. This saves time, though strictly speaking, the train script should not require tooling libraries such as `mypy`, `isort`, etc. After setting up the environment, the training pipeline is triggered without running the tests:"
   ]
  },
  {
   "cell_type": "markdown",
   "metadata": {},
   "source": [
    "```\n",
    "$ tox -e train\n",
    "train installed: appdirs==1.4.4,attrs==21.4.0,black==20.8b1,click==8.0.4,feature-engine==1.0.2,flake8==3.9.2,iniconfig==1.1.1,isort==5.8.0,joblib==1.0.1,mccabe==0.6.1,mypy==0.812,mypy-extensions==0.4.3,numpy==1.22.3,packaging==21.3,pandas==1.4.1,pathspec==0.9.0,patsy==0.5.2,pluggy==1.0.0,py==1.11.0,pycodestyle==2.7.0,pydantic==1.8.2,pyflakes==2.3.1,pyparsing==3.0.7,pytest==6.2.5,python-dateutil==2.8.2,pytz==2021.3,regex==2022.3.2,ruamel.yaml==0.16.12,ruamel.yaml.clib==0.2.6,scikit-learn==1.0.2,scipy==1.8.0,six==1.16.0,statsmodels==0.13.2,strictyaml==1.3.2,threadpoolctl==3.1.0,toml==0.10.2,typed-ast==1.4.3,typing_extensions==4.1.1\n",
    "train run-test-pre: PYTHONHASHSEED='0'\n",
    "train run-test: commands[0] | python regression_model/train_pipeline.py\n",
    "___________________________________ summary ____________________________________\n",
    "  train: commands succeeded\n",
    "  congratulations :)\n",
    "```"
   ]
  },
  {
   "cell_type": "markdown",
   "metadata": {},
   "source": [
    "If you look at the source, we also have tox commands to run our type checks, style checks. These are using bits of tooling that will be getting into later in the section. But it's just a really elegant way for us to make sure that our Python code adheres to things like PEP 8\n",
    "and has a consistent style that makes it really easy for other programmers to work with.\n",
    "These have the same pattern as the `train` environment. Recall that simply running `tox` runs `test_package`, `typechecks`, `stylechecks`, and `lint`."
   ]
  },
  {
   "cell_type": "code",
   "execution_count": null,
   "metadata": {},
   "outputs": [],
   "source": []
  }
 ],
 "metadata": {
  "interpreter": {
   "hash": "a55a0d1272a360f93e747858d443ec26da69f69eac36db3e567a961ca624a861"
  },
  "kernelspec": {
   "display_name": "Python 3.8.12 ('ml')",
   "language": "python",
   "name": "python3"
  },
  "language_info": {
   "codemirror_mode": {
    "name": "ipython",
    "version": 3
   },
   "file_extension": ".py",
   "mimetype": "text/x-python",
   "name": "python",
   "nbconvert_exporter": "python",
   "pygments_lexer": "ipython3",
   "version": "3.8.12"
  },
  "orig_nbformat": 4
 },
 "nbformat": 4,
 "nbformat_minor": 2
}
