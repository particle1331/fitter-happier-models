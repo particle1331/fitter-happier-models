{
 "cells": [
  {
   "cell_type": "markdown",
   "metadata": {},
   "source": [
    "# Prediction Serving REST API"
   ]
  },
  {
   "cell_type": "markdown",
   "metadata": {},
   "source": [
    "![Status](https://img.shields.io/static/v1.svg?label=Status&message=Doing&color=orange)"
   ]
  },
  {
   "cell_type": "markdown",
   "metadata": {},
   "source": [
    "An [**API**](https://en.wikipedia.org/wiki/API) (Application Programming Interface) is a contract between the information provider and information user. And a [**REST API**](https://restfulapi.net/) is an API that adheres to the **RE**presentational **S**tate **T**ransfer (**REST**) architectural style. \n",
    "For our purposes we will be interested two aspects of the REST architecture: 1) having a uniform interface for transferring [resources](https://restfulapi.net/resource-naming/) between client and server, and 2) that each request from the client to the server must be [stateless](https://ruben.verborgh.org/blog/2012/08/24/rest-wheres-my-state/). \n",
    "In particular, looking at a request provides us all the context used by the server to process the interaction. Note that this does not necessarily mean that the result of this interaction is is deterministic (or has a functional form). "
   ]
  },
  {
   "cell_type": "markdown",
   "metadata": {},
   "source": [
    "In this notebook, we will develop an API that exposes a single POST endpoint that serves prediction from the regression model described in the previous article. This can be consumed by an application as a dependency or as a [separate microservice](https://aws.amazon.com/microservices/). Note that while we will keep REST principles in mind, we only loosely adhere to them. In particular, we will use [FastAPI](https://fastapi.tiangolo.com/) as the web framework for developing our application. "
   ]
  },
  {
   "cell_type": "markdown",
   "metadata": {},
   "source": [
    "## Running the REST API"
   ]
  },
  {
   "cell_type": "markdown",
   "metadata": {},
   "source": [
    "### Overview"
   ]
  },
  {
   "cell_type": "markdown",
   "metadata": {},
   "source": [
    "```\n",
    ".\n",
    "├── app/\n",
    "│   ├── schemas/\n",
    "│   │   ├── __init__.py\n",
    "│   │   ├── health.py\n",
    "│   │   └── predict.py\n",
    "│   ├── tests/\n",
    "|   |   ├── __init__.py\n",
    "|   |   ├── conftest.py\n",
    "|   |   └── test_api.py\n",
    "│   ├── __init__.py\n",
    "│   ├── api.py\n",
    "│   ├── config.py\n",
    "│   ├── main.py\n",
    "├── Procfile\n",
    "├── mypy.ini\n",
    "├── tox.ini\n",
    "├── requirements.txt\n",
    "├── runtime.txt\n",
    "└── test_requirements.txt\n",
    "```"
   ]
  },
  {
   "cell_type": "markdown",
   "metadata": {},
   "source": []
  }
 ],
 "metadata": {
  "language_info": {
   "name": "python"
  },
  "orig_nbformat": 4
 },
 "nbformat": 4,
 "nbformat_minor": 2
}
