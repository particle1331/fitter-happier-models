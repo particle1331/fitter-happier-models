{
 "cells": [
  {
   "cell_type": "markdown",
   "metadata": {},
   "source": [
    "# Dependency Injections"
   ]
  },
  {
   "cell_type": "markdown",
   "metadata": {},
   "source": [
    "```{admonition} Attribution\n",
    "This notebook follows Chapter 5: *Dependency Injections in FastAPI* of {cite}`Voron2021`. Source files for running the background local servers can be found [here](https://github.com/particle1331/machine-learning/tree/master/docs/notebooks/fastapi/src/chapter5).\n",
    "```"
   ]
  },
  {
   "cell_type": "markdown",
   "metadata": {},
   "source": [
    "This notebook focuses on one of the most interesting parts of FastAPI: **dependency\n",
    "injections**. This is a powerful and readable approach to reuse logic across\n",
    "a project. An authentication system, a query parameters' validator, or a rate-limiter are typical use cases for dependencies. A dependency injection can even call another one recursively, allowing you to build high-level blocks from basic features. \n",
    "\n",
    "By the end of this chapter, you'll be able to create your own dependencies for FastAPI and use them at several levels of your project."
   ]
  },
  {
   "cell_type": "markdown",
   "metadata": {},
   "source": [
    "## What is dependency injection?"
   ]
  },
  {
   "cell_type": "markdown",
   "metadata": {},
   "source": [
    "A **dependency** is a way to wrap some logic that will retrieve some subvalues or instantiate subobjects, make something with them, and finally return a value that will be injected into the endpoint calling it. The responsibility of developers is then to only provide a declaration of how an object should be created, and let the system resolve all the dependency chains and create the actual objects at runtime."
   ]
  },
  {
   "cell_type": "markdown",
   "metadata": {},
   "source": [
    "Using dependency injections allow for cleaner code by separation of concern between the logic of the endpoint and more generic logic (which can be used in several other endpoints in the project, at different scopes as we shall see), and more readable code since you know what the endpoint expects in the request data without reading the function's code. Finally, in the case of FastAPI, it's used to generate the OpenAPI schema so that the automatic documentation can clearly show which parameters are expected for this endpoint."
   ]
  },
  {
   "cell_type": "markdown",
   "metadata": {},
   "source": [
    "```python\n",
    "# 01_dependency_injection.py\n",
    "@app.get('/')\n",
    "async def header(user_agent: str = Header(...)):\n",
    "    return {\"user_agent\": user_agent}\n",
    "```"
   ]
  },
  {
   "cell_type": "markdown",
   "metadata": {},
   "source": [
    "The `header` endpoint returns the header as a JSON response:"
   ]
  },
  {
   "cell_type": "code",
   "execution_count": 22,
   "metadata": {},
   "outputs": [
    {
     "name": "stdout",
     "output_type": "stream",
     "text": [
      "\u001b[32mGET\u001b[39;49;00m \u001b[04m\u001b[36m/\u001b[39;49;00m \u001b[34mHTTP\u001b[39;49;00m/\u001b[34m1.1\u001b[39;49;00m\n",
      "\u001b[36mAccept\u001b[39;49;00m: */*\n",
      "\u001b[36mAccept-Encoding\u001b[39;49;00m: gzip, deflate, br\n",
      "\u001b[36mConnection\u001b[39;49;00m: keep-alive\n",
      "\u001b[36mHost\u001b[39;49;00m: localhost:8000\n",
      "\u001b[36mUser-Agent\u001b[39;49;00m: HTTPie/2.6.0\n",
      "\n",
      "\n",
      "\n",
      "\u001b[34mHTTP\u001b[39;49;00m/\u001b[34m1.1\u001b[39;49;00m \u001b[34m200\u001b[39;49;00m \u001b[36mOK\u001b[39;49;00m\n",
      "\u001b[36mcontent-length\u001b[39;49;00m: 29\n",
      "\u001b[36mcontent-type\u001b[39;49;00m: application/json\n",
      "\u001b[36mdate\u001b[39;49;00m: Fri, 21 Jan 2022 18:30:26 GMT\n",
      "\u001b[36mserver\u001b[39;49;00m: uvicorn\n",
      "\n",
      "{\u001b[37m\u001b[39;49;00m\n",
      "\u001b[37m    \u001b[39;49;00m\u001b[94m\"user_agent\"\u001b[39;49;00m:\u001b[37m \u001b[39;49;00m\u001b[33m\"HTTPie/2.6.0\"\u001b[39;49;00m\u001b[37m\u001b[39;49;00m\n",
      "}\u001b[37m\u001b[39;49;00m\n",
      "\n",
      "\n"
     ]
    }
   ],
   "source": [
    "!http -v :8000"
   ]
  },
  {
   "cell_type": "markdown",
   "metadata": {},
   "source": [
    "Internally, the `Header` function has some logic to automatically get the request object, check for the required header, return its value, or raise an error if it's not present. From our perspective, we don't know how it handled the required objects for this operation: we just assigned it to a variable `user_agent` with type `str`. The code for the endpoint reflects the endpoint logic: get the request header. If used well, dependency injections can make the code effortlessly readable and overwhelmingly powerful."
   ]
  },
  {
   "cell_type": "markdown",
   "metadata": {},
   "source": [
    "## Creating and using a function dependency"
   ]
  },
  {
   "cell_type": "markdown",
   "metadata": {},
   "source": [
    "A dependency can be defined either with any callable object, e.g. functions."
   ]
  },
  {
   "cell_type": "markdown",
   "metadata": {},
   "source": [
    "```python\n",
    "# 02_function_dependency.py\n",
    "from fastapi import FastAPI, Depends\n",
    "from typing import Tuple\n",
    "app = FastAPI()\n",
    "\n",
    "async def pagination(skip: int = 0, limit: int = 10) -> Tuple[int, int]:\n",
    "    return (skip, limit)\n",
    "\n",
    "@app.get(\"/items\")\n",
    "async def list_items(p: Tuple[int, int] = Depends(pagination)):\n",
    "    skip, limit = p\n",
    "    return {\"skip\": skip, \"limit\": limit}\n",
    "```"
   ]
  },
  {
   "cell_type": "markdown",
   "metadata": {},
   "source": [
    "FastAPI will recursively handle the arguments on the dependency and match them with the request data, such as query parameters or headers, if needed. The path function `list_items` uses the pagination dependency via the `Depends` function. The `Depends` function takes a callable and executes it when the endpoint is called. The subdependencies are automatically discovered\n",
    "and executed. This allows us to make the following query:"
   ]
  },
  {
   "cell_type": "code",
   "execution_count": 24,
   "metadata": {},
   "outputs": [
    {
     "name": "stdout",
     "output_type": "stream",
     "text": [
      "\u001b[34mHTTP\u001b[39;49;00m/\u001b[34m1.1\u001b[39;49;00m \u001b[34m200\u001b[39;49;00m \u001b[36mOK\u001b[39;49;00m\n",
      "\u001b[36mcontent-length\u001b[39;49;00m: 20\n",
      "\u001b[36mcontent-type\u001b[39;49;00m: application/json\n",
      "\u001b[36mdate\u001b[39;49;00m: Fri, 21 Jan 2022 18:44:53 GMT\n",
      "\u001b[36mserver\u001b[39;49;00m: uvicorn\n",
      "\n",
      "{\u001b[37m\u001b[39;49;00m\n",
      "\u001b[37m    \u001b[39;49;00m\u001b[94m\"limit\"\u001b[39;49;00m:\u001b[37m \u001b[39;49;00m\u001b[34m5\u001b[39;49;00m,\u001b[37m\u001b[39;49;00m\n",
      "\u001b[37m    \u001b[39;49;00m\u001b[94m\"skip\"\u001b[39;49;00m:\u001b[37m \u001b[39;49;00m\u001b[34m3\u001b[39;49;00m\u001b[37m\u001b[39;49;00m\n",
      "}\u001b[37m\u001b[39;49;00m\n",
      "\n",
      "\n"
     ]
    }
   ],
   "source": [
    "!http :8000/items skip==3 limit==5"
   ]
  },
  {
   "cell_type": "markdown",
   "metadata": {},
   "source": [
    "Now `pagination` can be used in multiple places. So we don't have to repeat the same query parameters in all functions! If we decide to change the API, then we only have to change in one place. Moreover, we can add further validation on the query parameters, e.g. `limit: int = Query(..., ge=0, le=1000)`. The code on our path operation functions doesn't have to change: we have a clear separation of concern between the logic of the endpoint and the more generic logic for the\n",
    "pagination parameters."
   ]
  },
  {
   "cell_type": "markdown",
   "metadata": {},
   "source": [
    "### Get an object or raise a 404 error"
   ]
  },
  {
   "cell_type": "markdown",
   "metadata": {},
   "source": [
    "When dealing with databases checking whether an object exists in the database is a common pattern. This is a perfect use case for a dependency."
   ]
  },
  {
   "cell_type": "markdown",
   "metadata": {},
   "source": [
    "```python\n",
    "# 03_function_dependency.py\n",
    "...\n",
    "\n",
    "posts = {\n",
    "    1: Post(id=1, title=\"Post #1\"),\n",
    "    2: Post(id=2, title=\"Post #2\"),\n",
    "}\n",
    "\n",
    "async def get_post_or_404(id: int) -> Post:\n",
    "    try:\n",
    "        return db.posts[id]\n",
    "    except KeyError:\n",
    "        raise HTTPException(status_code=status.HTTP_404_NOT_FOUND)\n",
    "\n",
    "\n",
    "@app.get(\"/posts/{id}\")\n",
    "async def get_post(post: Post = Depends(get_post_or_404)):\n",
    "    return post\n",
    "```"
   ]
  },
  {
   "cell_type": "markdown",
   "metadata": {},
   "source": [
    "The path parameter `id` is passed to the dependency which results in a `post` object being injected into the endpoint."
   ]
  },
  {
   "cell_type": "code",
   "execution_count": 32,
   "metadata": {},
   "outputs": [
    {
     "name": "stdout",
     "output_type": "stream",
     "text": [
      "\u001b[34mHTTP\u001b[39;49;00m/\u001b[34m1.1\u001b[39;49;00m \u001b[34m200\u001b[39;49;00m \u001b[36mOK\u001b[39;49;00m\n",
      "\u001b[36mcontent-length\u001b[39;49;00m: 26\n",
      "\u001b[36mcontent-type\u001b[39;49;00m: application/json\n",
      "\u001b[36mdate\u001b[39;49;00m: Fri, 21 Jan 2022 22:05:43 GMT\n",
      "\u001b[36mserver\u001b[39;49;00m: uvicorn\n",
      "\n",
      "{\u001b[37m\u001b[39;49;00m\n",
      "\u001b[37m    \u001b[39;49;00m\u001b[94m\"id\"\u001b[39;49;00m:\u001b[37m \u001b[39;49;00m\u001b[34m2\u001b[39;49;00m,\u001b[37m\u001b[39;49;00m\n",
      "\u001b[37m    \u001b[39;49;00m\u001b[94m\"title\"\u001b[39;49;00m:\u001b[37m \u001b[39;49;00m\u001b[33m\"Post #2\"\u001b[39;49;00m\u001b[37m\u001b[39;49;00m\n",
      "}\u001b[37m\u001b[39;49;00m\n",
      "\n",
      "\n"
     ]
    }
   ],
   "source": [
    "!http :8000/posts/2"
   ]
  },
  {
   "cell_type": "markdown",
   "metadata": {},
   "source": [
    "For a missing post we get `404 Not Found`:"
   ]
  },
  {
   "cell_type": "code",
   "execution_count": 31,
   "metadata": {},
   "outputs": [
    {
     "name": "stdout",
     "output_type": "stream",
     "text": [
      "\u001b[34mHTTP\u001b[39;49;00m/\u001b[34m1.1\u001b[39;49;00m \u001b[34m404\u001b[39;49;00m \u001b[36mNot Found\u001b[39;49;00m\n",
      "\u001b[36mcontent-length\u001b[39;49;00m: 22\n",
      "\u001b[36mcontent-type\u001b[39;49;00m: application/json\n",
      "\u001b[36mdate\u001b[39;49;00m: Fri, 21 Jan 2022 22:05:35 GMT\n",
      "\u001b[36mserver\u001b[39;49;00m: uvicorn\n",
      "\n",
      "{\u001b[37m\u001b[39;49;00m\n",
      "\u001b[37m    \u001b[39;49;00m\u001b[94m\"detail\"\u001b[39;49;00m:\u001b[37m \u001b[39;49;00m\u001b[33m\"Not Found\"\u001b[39;49;00m\u001b[37m\u001b[39;49;00m\n",
      "}\u001b[37m\u001b[39;49;00m\n",
      "\n",
      "\n"
     ]
    }
   ],
   "source": [
    "!http :8000/posts/3"
   ]
  },
  {
   "cell_type": "markdown",
   "metadata": {},
   "source": [
    "In addition to getting posts from the DB, we can now use this for when we have to update and delete posts. The key takeaway in this example is that you can raise errors in your dependencies. This can be useful when checking preconditions before your endpoint logic is executed, e.g. checking for existence of keys before retrieval."
   ]
  },
  {
   "cell_type": "markdown",
   "metadata": {},
   "source": [
    "## Creating and using a parameterized dependency with a class "
   ]
  },
  {
   "cell_type": "markdown",
   "metadata": {},
   "source": [
    "In the previous section, we defined dependencies as regular functions, which works well\n",
    "in most cases. Still, you may need to set some parameters on a dependency to finely tune\n",
    "its behavior. Since the arguments of the function are set by the dependency injection\n",
    "system, we can't add an argument to the function.\n",
    "In the pagination example, we added some logic to cap the limit value at 100.\n",
    "If we wanted to set this maximum limit dynamically, how would we do that?"
   ]
  },
  {
   "cell_type": "markdown",
   "metadata": {},
   "source": [
    "The solution is to create a class that will be used as a dependency with an `__init__` function to set attributes, and a `__call__` method to define the dependency logic. That is all that `Depends` requires for a dependency: being a callable."
   ]
  },
  {
   "cell_type": "markdown",
   "metadata": {},
   "source": [
    "```python\n",
    "# 04_class_dependency.py\n",
    "class Pagination:\n",
    "    def __init__(self, maximum_limit: int = 100):\n",
    "        self.maximum_limit = maximum_limit\n",
    "    \n",
    "    async def __call__(self,\n",
    "        skip: int = Query(0, ge=0), limit: int = Query(10, ge=0),\n",
    "    ) -> Tuple[int, int]:\n",
    "        capped_limit = min(self.maximum_limit, limit)\n",
    "        return (skip, capped_limit)\n",
    "```"
   ]
  },
  {
   "cell_type": "markdown",
   "metadata": {},
   "source": [
    "The logic of the `__call__` function is the same logic as the `pagination` function defined above. The only difference here is that we have `maximum_limit` as a class attribute. In the example below,we hardcoded the value 50, but we could very well pull it from a configuration file\n",
    "or an environment variable."
   ]
  },
  {
   "cell_type": "markdown",
   "metadata": {},
   "source": [
    "```python\n",
    "pagination = Pagination(maximum_limit=50)\n",
    "\n",
    "@app.get(\"/items\")\n",
    "async def list_items(p: Tuple[int, int] = Depends(pagination)):\n",
    "    skip, limit = p\n",
    "    return {\"skip\": skip, \"limit\": limit}\n",
    "```"
   ]
  },
  {
   "cell_type": "code",
   "execution_count": 37,
   "metadata": {},
   "outputs": [
    {
     "name": "stdout",
     "output_type": "stream",
     "text": [
      "\u001b[34mHTTP\u001b[39;49;00m/\u001b[34m1.1\u001b[39;49;00m \u001b[34m200\u001b[39;49;00m \u001b[36mOK\u001b[39;49;00m\n",
      "\u001b[36mcontent-length\u001b[39;49;00m: 21\n",
      "\u001b[36mcontent-type\u001b[39;49;00m: application/json\n",
      "\u001b[36mdate\u001b[39;49;00m: Fri, 21 Jan 2022 22:24:00 GMT\n",
      "\u001b[36mserver\u001b[39;49;00m: uvicorn\n",
      "\n",
      "{\u001b[37m\u001b[39;49;00m\n",
      "\u001b[37m    \u001b[39;49;00m\u001b[94m\"limit\"\u001b[39;49;00m:\u001b[37m \u001b[39;49;00m\u001b[34m50\u001b[39;49;00m,\u001b[37m\u001b[39;49;00m\n",
      "\u001b[37m    \u001b[39;49;00m\u001b[94m\"skip\"\u001b[39;49;00m:\u001b[37m \u001b[39;49;00m\u001b[34m3\u001b[39;49;00m\u001b[37m\u001b[39;49;00m\n",
      "}\u001b[37m\u001b[39;49;00m\n",
      "\n",
      "\n"
     ]
    }
   ],
   "source": [
    "!http :8000/items skip==3 limit==600"
   ]
  },
  {
   "cell_type": "markdown",
   "metadata": {},
   "source": [
    "The other advantage of a class dependency is that it can **maintain local values in memory**.\n",
    "This property can be very useful if we have to make some heavy initialization logic, such\n",
    "as loading a machine learning model, for example, that we want to do **only once at startup**.\n",
    "Then, the callable part just has to call the loaded model to make the prediction, which\n",
    "should be quite fast. For example, a recommender system which serves hundreds of requests per second must be loaded at the start of the server, instead of at every prediction. "
   ]
  },
  {
   "cell_type": "markdown",
   "metadata": {},
   "source": [
    "### Use class methods as dependencies"
   ]
  },
  {
   "cell_type": "markdown",
   "metadata": {},
   "source": [
    "As we said, `Depends` only needs a callable object. So you can pass class methods which can be very useful if you have common parameters or methods that makes sense to be put together in one class. For example, you could have one pretrained machine learning model made with Scikit-learn. Before applying the inference, you may want to apply different preprocess steps depending on the specifics of the input data."
   ]
  },
  {
   "cell_type": "markdown",
   "metadata": {},
   "source": [
    "## Using dependencies at a path, router, and global level"
   ]
  },
  {
   "cell_type": "markdown",
   "metadata": {},
   "source": [
    "As we said, dependencies are the recommended way to create building blocks in a FastAPI\n",
    "project, allowing you to reuse logic across endpoints while maintaining maximum code\n",
    "readability. Until now, we've applied them on a single endpoint, but couldn't we expand\n",
    "this approach to a whole router? Or even a whole FastAPI application? Actually, we can!"
   ]
  },
  {
   "cell_type": "markdown",
   "metadata": {},
   "source": [
    "The main motivation for this is to be able to apply some global request validation or\n",
    "perform side logic on several routes without the need to add the dependency on each\n",
    "endpoint. Typically, an authentication method or a rate-limiter could be very good\n",
    "candidates for this use case. Consider the following dependency which raises a `403 Forbidden` whenever a request does not have the secret header. (Please note that this approach is only for the sake of the example. There are better ways to secure your API.)"
   ]
  },
  {
   "cell_type": "markdown",
   "metadata": {},
   "source": [
    "```python\n",
    "def secret_header(secret_header: Optional[str] = Header(None)) -> None:\n",
    "    if (not secret_header) or (secret_header != \"SECRET_VALUE\"):\n",
    "        raise HTTPException(status.HTTP_403_FORBIDDEN)\n",
    "```"
   ]
  },
  {
   "cell_type": "markdown",
   "metadata": {},
   "source": [
    "### Using a dependency on a path decorator"
   ]
  },
  {
   "cell_type": "markdown",
   "metadata": {},
   "source": [
    "Note that we're not returning a value in the `secret_header` function. So we can't really assign its output to a parameter. FastAPI allows dependencies to be specified in the path decorator which we can do instead. (See also flow chart below.)"
   ]
  },
  {
   "cell_type": "markdown",
   "metadata": {},
   "source": [
    "```python\n",
    "@app.get(\"/protected-route\", dependencies=[Depends(secret_header)]) # Add > 1 deps\n",
    "async def protected_route():\n",
    "    return {\"hello\": \"world\"}\n",
    "```"
   ]
  },
  {
   "cell_type": "markdown",
   "metadata": {},
   "source": [
    "### Using a dependency on a whole router"
   ]
  },
  {
   "cell_type": "markdown",
   "metadata": {},
   "source": [
    "If we want to protect a whole router, we can use:\n",
    "\n",
    "```python\n",
    "router = APIRouter(dependencies=[Depends(secret_header)])\n",
    "app.include_router(router, prefix=\"/router\")\n",
    "```\n",
    "\n",
    "or \n",
    "\n",
    "```python\n",
    "router = APIRouter()\n",
    "app.include_router(router, prefix=\"/router\", dependencies=[Depends(secret_header)])\n",
    "```"
   ]
  },
  {
   "cell_type": "markdown",
   "metadata": {},
   "source": [
    "The choice between the two is a stylistic one. See flow chart below."
   ]
  },
  {
   "cell_type": "code",
   "execution_count": 59,
   "metadata": {},
   "outputs": [
    {
     "name": "stdout",
     "output_type": "stream",
     "text": [
      "\u001b[32mGET\u001b[39;49;00m \u001b[04m\u001b[36m/protected-route\u001b[39;49;00m \u001b[34mHTTP\u001b[39;49;00m/\u001b[34m1.1\u001b[39;49;00m\n",
      "\u001b[36mAccept\u001b[39;49;00m: */*\n",
      "\u001b[36mAccept-Encoding\u001b[39;49;00m: gzip, deflate, br\n",
      "\u001b[36mConnection\u001b[39;49;00m: keep-alive\n",
      "\u001b[36mHost\u001b[39;49;00m: localhost:8000\n",
      "\u001b[36mSecret-Header\u001b[39;49;00m: SECRET_VALUE\n",
      "\u001b[36mUser-Agent\u001b[39;49;00m: HTTPie/2.6.0\n",
      "\n",
      "\n",
      "\n",
      "\u001b[34mHTTP\u001b[39;49;00m/\u001b[34m1.1\u001b[39;49;00m \u001b[34m200\u001b[39;49;00m \u001b[36mOK\u001b[39;49;00m\n",
      "\u001b[36mcontent-length\u001b[39;49;00m: 17\n",
      "\u001b[36mcontent-type\u001b[39;49;00m: application/json\n",
      "\u001b[36mdate\u001b[39;49;00m: Fri, 21 Jan 2022 23:35:41 GMT\n",
      "\u001b[36mserver\u001b[39;49;00m: uvicorn\n",
      "\n",
      "{\u001b[37m\u001b[39;49;00m\n",
      "\u001b[37m    \u001b[39;49;00m\u001b[94m\"hello\"\u001b[39;49;00m:\u001b[37m \u001b[39;49;00m\u001b[33m\"world\"\u001b[39;49;00m\u001b[37m\u001b[39;49;00m\n",
      "}\u001b[37m\u001b[39;49;00m\n",
      "\n",
      "\n"
     ]
    }
   ],
   "source": [
    "!http -v :8000/protected-route \"Secret-Header: SECRET_VALUE\""
   ]
  },
  {
   "cell_type": "markdown",
   "metadata": {},
   "source": [
    "Trying to access the endpoint without the secret header:"
   ]
  },
  {
   "cell_type": "code",
   "execution_count": 63,
   "metadata": {},
   "outputs": [
    {
     "name": "stdout",
     "output_type": "stream",
     "text": [
      "\u001b[34mHTTP\u001b[39;49;00m/\u001b[34m1.1\u001b[39;49;00m \u001b[34m403\u001b[39;49;00m \u001b[36mForbidden\u001b[39;49;00m\n",
      "\u001b[36mcontent-length\u001b[39;49;00m: 22\n",
      "\u001b[36mcontent-type\u001b[39;49;00m: application/json\n",
      "\u001b[36mdate\u001b[39;49;00m: Fri, 21 Jan 2022 23:36:09 GMT\n",
      "\u001b[36mserver\u001b[39;49;00m: uvicorn\n",
      "\n",
      "{\u001b[37m\u001b[39;49;00m\n",
      "\u001b[37m    \u001b[39;49;00m\u001b[94m\"detail\"\u001b[39;49;00m:\u001b[37m \u001b[39;49;00m\u001b[33m\"Forbidden\"\u001b[39;49;00m\u001b[37m\u001b[39;49;00m\n",
      "}\u001b[37m\u001b[39;49;00m\n",
      "\n",
      "\n"
     ]
    }
   ],
   "source": [
    "!http :8000/protected-route"
   ]
  },
  {
   "cell_type": "markdown",
   "metadata": {},
   "source": [
    "Testing out the two versions of the routers:"
   ]
  },
  {
   "cell_type": "code",
   "execution_count": 60,
   "metadata": {},
   "outputs": [
    {
     "name": "stdout",
     "output_type": "stream",
     "text": [
      "\u001b[34mHTTP\u001b[39;49;00m/\u001b[34m1.1\u001b[39;49;00m \u001b[34m200\u001b[39;49;00m \u001b[36mOK\u001b[39;49;00m\n",
      "\u001b[36mcontent-length\u001b[39;49;00m: 19\n",
      "\u001b[36mcontent-type\u001b[39;49;00m: application/json\n",
      "\u001b[36mdate\u001b[39;49;00m: Fri, 21 Jan 2022 23:35:42 GMT\n",
      "\u001b[36mserver\u001b[39;49;00m: uvicorn\n",
      "\n",
      "{\u001b[37m\u001b[39;49;00m\n",
      "\u001b[37m    \u001b[39;49;00m\u001b[94m\"route\"\u001b[39;49;00m:\u001b[37m \u001b[39;49;00m\u001b[33m\"route-1\"\u001b[39;49;00m\u001b[37m\u001b[39;49;00m\n",
      "}\u001b[37m\u001b[39;49;00m\n",
      "\n",
      "\n"
     ]
    }
   ],
   "source": [
    "!http :8000/router/v1/route-1 \"Secret-Header: SECRET_VALUE\""
   ]
  },
  {
   "cell_type": "code",
   "execution_count": 61,
   "metadata": {},
   "outputs": [
    {
     "name": "stdout",
     "output_type": "stream",
     "text": [
      "\u001b[34mHTTP\u001b[39;49;00m/\u001b[34m1.1\u001b[39;49;00m \u001b[34m200\u001b[39;49;00m \u001b[36mOK\u001b[39;49;00m\n",
      "\u001b[36mcontent-length\u001b[39;49;00m: 19\n",
      "\u001b[36mcontent-type\u001b[39;49;00m: application/json\n",
      "\u001b[36mdate\u001b[39;49;00m: Fri, 21 Jan 2022 23:35:44 GMT\n",
      "\u001b[36mserver\u001b[39;49;00m: uvicorn\n",
      "\n",
      "{\u001b[37m\u001b[39;49;00m\n",
      "\u001b[37m    \u001b[39;49;00m\u001b[94m\"route\"\u001b[39;49;00m:\u001b[37m \u001b[39;49;00m\u001b[33m\"route-1\"\u001b[39;49;00m\u001b[37m\u001b[39;49;00m\n",
      "}\u001b[37m\u001b[39;49;00m\n",
      "\n",
      "\n"
     ]
    }
   ],
   "source": [
    "!http :8000/router/v2/route-1 \"Secret-Header: SECRET_VALUE\""
   ]
  },
  {
   "cell_type": "markdown",
   "metadata": {},
   "source": [
    "Let's try without the secret header on a router endpoint:"
   ]
  },
  {
   "cell_type": "code",
   "execution_count": 65,
   "metadata": {},
   "outputs": [
    {
     "name": "stdout",
     "output_type": "stream",
     "text": [
      "\u001b[34mHTTP\u001b[39;49;00m/\u001b[34m1.1\u001b[39;49;00m \u001b[34m403\u001b[39;49;00m \u001b[36mForbidden\u001b[39;49;00m\n",
      "\u001b[36mcontent-length\u001b[39;49;00m: 22\n",
      "\u001b[36mcontent-type\u001b[39;49;00m: application/json\n",
      "\u001b[36mdate\u001b[39;49;00m: Fri, 21 Jan 2022 23:36:59 GMT\n",
      "\u001b[36mserver\u001b[39;49;00m: uvicorn\n",
      "\n",
      "{\u001b[37m\u001b[39;49;00m\n",
      "\u001b[37m    \u001b[39;49;00m\u001b[94m\"detail\"\u001b[39;49;00m:\u001b[37m \u001b[39;49;00m\u001b[33m\"Forbidden\"\u001b[39;49;00m\u001b[37m\u001b[39;49;00m\n",
      "}\u001b[37m\u001b[39;49;00m\n",
      "\n",
      "\n"
     ]
    }
   ],
   "source": [
    "!http :8000/router/v2/route-1"
   ]
  },
  {
   "cell_type": "markdown",
   "metadata": {},
   "source": [
    "### Use a dependency on a whole application "
   ]
  },
  {
   "cell_type": "markdown",
   "metadata": {},
   "source": [
    "Similar to the router syntax, we simply pass a list of dependencies. This is a **global** dependency injection."
   ]
  },
  {
   "cell_type": "markdown",
   "metadata": {},
   "source": [
    "```python\n",
    "app = FastAPI(dependencies=[Depends(secret_header)])\n",
    "```"
   ]
  },
  {
   "cell_type": "markdown",
   "metadata": {},
   "source": [
    "The following tree is a guide to determine what level should you inject your dependencies:"
   ]
  },
  {
   "cell_type": "markdown",
   "metadata": {},
   "source": [
    "```{figure} ../../img/dependency-tree.png\n",
    "---\n",
    "name: dependency-tree\n",
    "---\n",
    "At which level should I inject my dependency?\n",
    "```"
   ]
  },
  {
   "cell_type": "markdown",
   "metadata": {},
   "source": []
  }
 ],
 "metadata": {
  "interpreter": {
   "hash": "a55a0d1272a360f93e747858d443ec26da69f69eac36db3e567a961ca624a861"
  },
  "kernelspec": {
   "display_name": "Python 3.8.12 64-bit ('ml': conda)",
   "language": "python",
   "name": "python3"
  },
  "language_info": {
   "codemirror_mode": {
    "name": "ipython",
    "version": 3
   },
   "file_extension": ".py",
   "mimetype": "text/x-python",
   "name": "python",
   "nbconvert_exporter": "python",
   "pygments_lexer": "ipython3",
   "version": "3.8.12"
  },
  "orig_nbformat": 4
 },
 "nbformat": 4,
 "nbformat_minor": 2
}
