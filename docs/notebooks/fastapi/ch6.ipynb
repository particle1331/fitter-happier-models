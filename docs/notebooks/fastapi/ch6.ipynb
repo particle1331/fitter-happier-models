{
 "cells": [
  {
   "cell_type": "markdown",
   "metadata": {},
   "source": [
    "# Databases and Asynchronous ORMs"
   ]
  },
  {
   "cell_type": "markdown",
   "metadata": {},
   "source": [
    "The main goal of a REST API is, of course, to read and write data. So far, we've solely\n",
    "worked with the tools given by Python and FastAPI, allowing us to build reliable\n",
    "endpoints to process and answer requests. However, we haven't been able to effectively\n",
    "retrieve and persist that information: we missed a **database**. \n",
    "\n",
    "In this notebook we will deal with interacting with databases and related libraries inside FastAPI. Note that FastAPI is completely agnostic regarding databases and leaves integration of any system to the developer. We will review three different approaches to integrate a database:\n",
    "(1) using basic **SQL queries**, (2) using **Object-Relational Mapping** (**ORM**), and (3) using a **NoSQL database**."
   ]
  },
  {
   "cell_type": "markdown",
   "metadata": {},
   "source": [
    "## An overview of relational and NoSQL databases"
   ]
  },
  {
   "cell_type": "markdown",
   "metadata": {},
   "source": [
    "The role of a database is to store data in a structured way, preserve the integrity of the\n",
    "data, and offer a query language that enables you to retrieve this data when an application\n",
    "needs it. Nowadays, when it comes to choosing a database for your web project, you have two main\n",
    "choices: relational databases, with their associated SQL query language, and NoSQL\n",
    "databases, named in opposition to the first category. In this section, we'll outline the main characteristics and\n",
    "features of those two database families and try to give you some insights into choosing the\n",
    "right one for your project."
   ]
  },
  {
   "cell_type": "markdown",
   "metadata": {},
   "source": [
    "### Relational databases"
   ]
  },
  {
   "cell_type": "markdown",
   "metadata": {},
   "source": [
    "Relational databases implement the relational model: each entity, or object, of the\n",
    "application is stored in **tables**. Each table has several **columns** containing attributes of the entity. One of the key points of relational databases is, as their name suggests, relationships. Each\n",
    "table can be in relation to others, with rows referring to other rows in other tables. \n",
    "\n",
    "The main motivation behind this is to avoid duplication. Indeed, it wouldn't be very\n",
    "efficient to repeat an object's attributes in each related to it. If it needs to be modified\n",
    "at some point, we would have to go through each related entity, which is error-prone and puts data\n",
    "consistency at risk. This is why we prefer to references to entities using unique identifiers. \n",
    "\n",
    "To do this, each row in a relational database has an identifier, called a **primary key**. This is\n",
    "unique in the table and will allow you to uniquely identify this row. Therefore, it's possible\n",
    "to use this key in another table to reference it. We call it a **foreign key**: the key is foreign in\n",
    "the sense that it refers to another table. Relational databases are designed to perform **join queries** efficiently, which will return all the relevant records\n",
    "based on the foreign keys. However, those operations can become expensive if the schema is more complex. This is why it's important to carefully design a relational schema and its queries."
   ]
  },
  {
   "cell_type": "markdown",
   "metadata": {},
   "source": [
    "### NoSQL databases"
   ]
  },
  {
   "cell_type": "markdown",
   "metadata": {},
   "source": [
    "Most of the time when we talk about \"NoSQL databases\", we are implicitly referring to document-oriented databases. They are the ones that interest us in this notebook. Document-oriented databases move away from the relational architecture and try to store\n",
    "all the information of a given object inside a single **document**. As such, performing a join\n",
    "query is much rarer and usually more difficult.\n",
    "\n",
    "Those documents are stored in **collections**. Contrary to relational databases, documents\n",
    "in a collection might not have all of the same attributes: while tables in relational\n",
    "databases have a defined schema, collections accept any kind of document. In order to retrieve all of the information about a user and their hobbies, a single document can be retrieved from the database. No joins are required, resulting in faster queries.\n",
    "\n",
    "```\n",
    "{\n",
    "   \"_id\": 1,\n",
    "   \"first_name\": \"Leslie\",\n",
    "   \"last_name\": \"Yepp\",\n",
    "   \"cell\": \"8125552344\",\n",
    "   \"city\": \"Pawnee\",\n",
    "   \"hobbies\": [\"scrapbooking\", \"eating waffles\", \"working\"]\n",
    "}\n",
    "```\n",
    "\n",
    "This was main motivation behind the development of document-oriented databases: increase the query performance by limiting the need to\n",
    "look at several collections. "
   ]
  },
  {
   "cell_type": "markdown",
   "metadata": {},
   "source": [
    "### Which one should you choose?\n",
    "\n",
    "For small and medium-sized applications, the choice doesn't really matter: both relational\n",
    "databases and document-oriented databases are very optimized and will deliver awesome\n",
    "performance at such scales. But here are some\n",
    "elements for you to think about:\n",
    "\n",
    "* Relational databases are very good for storing structured data with a lot of relationships\n",
    "between the entities. Besides, they maintain data consistency at all costs, even in the event\n",
    "of errors or hardware failures. However, you'll have to precisely define your schema and\n",
    "consider a migration system to update your schema if your needs evolve.\n",
    "\n",
    "+++\n",
    "\n",
    "* On the other hand, document-oriented databases don't require you to define a schema:\n",
    "they accept any document structure, so it can be convenient if your data is highly variable\n",
    "or if your project is not mature enough. The downside of this is that they are far less picky\n",
    "in terms of data consistency, which could result in data loss or inconsistencies.\n",
    "\n",
    "+++\n",
    "\n"
   ]
  },
  {
   "cell_type": "markdown",
   "metadata": {},
   "source": [
    "## Communicating with a SQL database with SQLAlchemy"
   ]
  },
  {
   "cell_type": "markdown",
   "metadata": {},
   "source": [
    "To begin, we will discuss how to work with a relational database using the SQLAlchemy\n",
    "library. Note that we will only consider the core part of the library, which\n",
    "only provides the tools to abstract communication with a SQL database. We won't\n",
    "consider the ORM part, as, in the next section, we'll focus on another ORM: Tortoise. We will combine SQLAlchemy with the `databases` library by Encode, the same team\n",
    "behind Starlette, which provides an asynchronous connection layer for SQLAlchemy:"
   ]
  },
  {
   "cell_type": "markdown",
   "metadata": {},
   "source": [
    "```{figure} ../../img/sqlalch-encode.png\n",
    "---\n",
    "name: sqlalch-encode\n",
    "---\n",
    "\n",
    "\n",
    "```"
   ]
  },
  {
   "cell_type": "markdown",
   "metadata": {},
   "source": [
    "### Creating the table schema"
   ]
  },
  {
   "cell_type": "markdown",
   "metadata": {},
   "source": [
    "First, you need to define the SQL schema for your tables: the name, the columns, and their\n",
    "associated types and properties. In the following example, you can view the definition of the\n",
    "`posts` table:"
   ]
  },
  {
   "cell_type": "code",
   "execution_count": 3,
   "metadata": {},
   "outputs": [],
   "source": [
    "# sqlalchemy/models.py\n",
    "import sqlalchemy\n",
    "\n",
    "metadata = sqlalchemy.MetaData()\n",
    "\n",
    "posts = sqlalchemy.Table(\n",
    "    \"posts\",\n",
    "    metadata,\n",
    "    sqlalchemy.Column(\"id\", sqlalchemy.Integer, primary_key=True, autoincrement=True),\n",
    "    sqlalchemy.Column(\"publication_date\", sqlalchemy.DateTime(), nullable=False),\n",
    "    sqlalchemy.Column(\"title\", sqlalchemy.String(length=255), nullable=False),\n",
    "    sqlalchemy.Column(\"content\", sqlalchemy.Text(), nullable=False),\n",
    ")"
   ]
  },
  {
   "cell_type": "markdown",
   "metadata": {},
   "source": [
    "First, we created a `metadata` object. Its role is to keep all the information of a database\n",
    "schema together. This is why you should create it only once in your whole project and\n",
    "always use the same one throughout.\n",
    "\n",
    "Next, we defined a table using the `Table` class. The first argument is the name of the\n",
    "table, followed by the metadata object. Then, we list all of the columns that should be\n",
    "defined in our table, thanks to the `Column` class. The first argument is the name of the\n",
    "column, followed by its [type](https://docs.sqlalchemy.org/en/13/core/type_basics.html#generic-types) and [some options](https://docs.sqlalchemy.org/en/13/core/metadata.html#:~:text=sqlalchemy.schema.Column.__init__). For example, we define\n",
    "our `id` column as a primary key with auto-increment, which is quite common in\n",
    "a SQL database.\n",
    "\n",
    "We will also define the\n",
    "corresponding Pydantic models for our post entity in the same file. Since they will be used by FastAPI to\n",
    "validate the request payload, they must match the SQL definition to avoid any errors from\n",
    "the database when we try to insert a new row later."
   ]
  },
  {
   "cell_type": "code",
   "execution_count": 4,
   "metadata": {},
   "outputs": [],
   "source": [
    "# sqlalchemy/models.py\n",
    "from datetime import datetime\n",
    "from typing import Optional\n",
    "from pydantic import BaseModel, Field\n",
    "\n",
    "class PostBase(BaseModel):\n",
    "    title: str\n",
    "    content: str\n",
    "    publication_date: datetime = Field(default_factory=datetime.now)\n",
    "\n",
    "class PostPartialUpdate(BaseModel):\n",
    "    title: Optional[str] = None\n",
    "    content: Optional[str] = None\n",
    "\n",
    "class PostCreate(PostBase):\n",
    "    pass\n",
    "\n",
    "class PostDB(PostBase):\n",
    "    id: int"
   ]
  },
  {
   "cell_type": "markdown",
   "metadata": {},
   "source": [
    "### Connecting to a database"
   ]
  },
  {
   "cell_type": "markdown",
   "metadata": {},
   "source": [
    "#### Setting up connection"
   ]
  },
  {
   "cell_type": "markdown",
   "metadata": {},
   "source": [
    "Now that our table is ready, we have to set up the connection between our FastAPI app\n",
    "and the database engine."
   ]
  },
  {
   "cell_type": "code",
   "execution_count": 15,
   "metadata": {},
   "outputs": [],
   "source": [
    "# sqlalchemy/database.py\n",
    "import sqlalchemy\n",
    "from databases import Database\n",
    "\n",
    "DATABASE_URL = \"sqlite:///chapter6_sqlalchemy.db\"\n",
    "database = Database(DATABASE_URL)\n",
    "sqlalchemy_engine = sqlalchemy.create_engine(DATABASE_URL)\n",
    "\n",
    "def get_database() -> Database:\n",
    "    return database"
   ]
  },
  {
   "cell_type": "markdown",
   "metadata": {},
   "source": [
    "Observe that we instantiate a `Database` instance using the database URL. This is the connection layer provided by `databases` that will allow us to perform asynchronous queries. Notice that the standard synchronous connection established in `sqlalchemy_engine` overlaps with `database`. This will be clarified later.\n",
    "\n",
    "The function `get_database` will be used as a dependency easily retrieve the database instance in our path operation functions. Setting up a dependency like this instead of directly importing objects will benefit us during automated testing."
   ]
  },
  {
   "cell_type": "markdown",
   "metadata": {},
   "source": [
    "#### Startup and shutdown"
   ]
  },
  {
   "cell_type": "markdown",
   "metadata": {},
   "source": [
    "Now, we need to tell FastAPI to open the connection with the database when it starts\n",
    "the application and then close it when exiting. FastAPI provides two\n",
    "special decorators to perform tasks at startup and shutdown, as you can see in the\n",
    "following example:"
   ]
  },
  {
   "cell_type": "code",
   "execution_count": 20,
   "metadata": {},
   "outputs": [],
   "source": [
    "# sqlalchemy/app.py\n",
    "from fastapi import FastAPI\n",
    "# ...\n",
    "\n",
    "app = FastAPI()\n",
    "\n",
    "@app.on_event(\"startup\")\n",
    "async def startup():\n",
    "    await database.connect()\n",
    "    metadata.create_all(sqlalchemy_engine)\n",
    "\n",
    "@app.on_event(\"shutdown\")\n",
    "async def shutdown():\n",
    "    await database.disconnect()"
   ]
  },
  {
   "cell_type": "markdown",
   "metadata": {},
   "source": [
    "Additionally, you can see that we call the `create_all` method on the `metadata` object. This is the same `metadata` object we defined in the previous section and that we have\n",
    "imported here. The goal of this method is to create the table's schema inside our database.\n",
    "If we don't do that, our database would be empty and we wouldn't be able to save\n",
    "or retrieve data. This method is designed to work with a standard SQLAlchemy engine;\n",
    "this is why we instantiated `sqlalchemy_engine` earlier. It has no other use in the application; instead, we will be using `database`. "
   ]
  },
  {
   "cell_type": "code",
   "execution_count": null,
   "metadata": {},
   "outputs": [],
   "source": []
  }
 ],
 "metadata": {
  "interpreter": {
   "hash": "a55a0d1272a360f93e747858d443ec26da69f69eac36db3e567a961ca624a861"
  },
  "kernelspec": {
   "display_name": "Python 3.8.12 ('ml')",
   "language": "python",
   "name": "python3"
  },
  "language_info": {
   "codemirror_mode": {
    "name": "ipython",
    "version": 3
   },
   "file_extension": ".py",
   "mimetype": "text/x-python",
   "name": "python",
   "nbconvert_exporter": "python",
   "pygments_lexer": "ipython3",
   "version": "3.8.12"
  },
  "orig_nbformat": 4
 },
 "nbformat": 4,
 "nbformat_minor": 2
}
