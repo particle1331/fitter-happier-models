{
 "cells": [
  {
   "cell_type": "markdown",
   "metadata": {},
   "source": [
    "```{admonition} Attribution\n",
    "Notes on *Chapter 4: Managing Pydantic Data Models in FastAPI* of {cite}`Voron2021`. The source files for running the local uvicorn servers can be found [here](https://github.com/particle1331/machine-learning/tree/master/docs/notebooks/fastapi/src/chapter4).\n",
    "```"
   ]
  },
  {
   "cell_type": "markdown",
   "metadata": {},
   "source": [
    "**Goals** \n",
    "   * Defining models and their field types with Pydantic\n",
    "   * Creating model variations with class inheritance\n",
    "   * Adding custom data validation with Pydantic\n",
    "   * Working with Pydantic objects"
   ]
  },
  {
   "cell_type": "code",
   "execution_count": null,
   "metadata": {},
   "outputs": [],
   "source": []
  }
 ],
 "metadata": {
  "interpreter": {
   "hash": "19fbd03dd40cd05d53fcb3d59bf70c2c1ea089b0d5f32d55a89d34fe976eebeb"
  },
  "kernelspec": {
   "display_name": "Python 3.9.9 64-bit ('ml-cpu': conda)",
   "language": "python",
   "name": "python3"
  },
  "language_info": {
   "codemirror_mode": {
    "name": "ipython",
    "version": 3
   },
   "file_extension": ".py",
   "mimetype": "text/x-python",
   "name": "python",
   "nbconvert_exporter": "python",
   "pygments_lexer": "ipython3",
   "version": "3.9.9"
  },
  "orig_nbformat": 4
 },
 "nbformat": 4,
 "nbformat_minor": 2
}
