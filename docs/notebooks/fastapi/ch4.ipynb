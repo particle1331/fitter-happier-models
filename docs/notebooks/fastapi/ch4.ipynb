{
 "cells": [
  {
   "cell_type": "markdown",
   "metadata": {},
   "source": [
    "# Managing Pydantic Data Models in FastAPI"
   ]
  },
  {
   "cell_type": "markdown",
   "metadata": {},
   "source": [
    "```{admonition} Attribution\n",
    "Notes on *Chapter 4: Managing Pydantic Data Models in FastAPI* of {cite}`Voron2021`. The source files for running the background local servers can be found [here](https://github.com/particle1331/machine-learning/tree/master/docs/notebooks/fastapi/src/chapter4).\n",
    "```"
   ]
  },
  {
   "cell_type": "markdown",
   "metadata": {},
   "source": [
    "This chapter will cover in more detail the definition of a data model with Pydantic, the \n",
    "underlying data validation library used by FastAPI. "
   ]
  },
  {
   "cell_type": "markdown",
   "metadata": {},
   "source": [
    "**Goals** \n",
    "   * Defining models and their field types with Pydantic\n",
    "   * Creating model variations with class inheritance\n",
    "   * Adding custom data validation with Pydantic\n",
    "   * Working with Pydantic objects"
   ]
  },
  {
   "cell_type": "markdown",
   "metadata": {},
   "source": [
    "## Defining models and their field types with Pydantic"
   ]
  },
  {
   "cell_type": "markdown",
   "metadata": {},
   "source": [
    "Pydantic is a powerful library for defining data models using Python classes and type \n",
    "hints. This approach makes those classes completely compatible with static type checking."
   ]
  },
  {
   "cell_type": "markdown",
   "metadata": {},
   "source": [
    "### Standard field types"
   ]
  },
  {
   "cell_type": "markdown",
   "metadata": {},
   "source": [
    "We'll begin by defining fields with standard types, which only involve simple type hints."
   ]
  },
  {
   "cell_type": "code",
   "execution_count": 18,
   "metadata": {},
   "outputs": [],
   "source": [
    "from datetime import date\n",
    "from enum import Enum\n",
    "from typing import List\n",
    "from pydantic import BaseModel, ValidationError\n",
    "\n",
    "class Gender(str, Enum):\n",
    "    MALE = \"male\"\n",
    "    FEMALE = \"female\"\n",
    "    NON_BINARY = \"non-binary\"\n",
    "\n",
    "class Person(BaseModel):\n",
    "    id: int\n",
    "    first_name: str\n",
    "    last_name: str\n",
    "    gender: Gender\n",
    "    birthdate: date\n",
    "    interests: List[str]"
   ]
  },
  {
   "cell_type": "markdown",
   "metadata": {},
   "source": [
    "Let's instantiate one example:"
   ]
  },
  {
   "cell_type": "code",
   "execution_count": 27,
   "metadata": {},
   "outputs": [
    {
     "data": {
      "text/plain": [
       "Person(id=3, first_name='Ron', last_name='Medina', gender=<Gender.MALE: 'male'>, birthdate=datetime.date(2021, 7, 21), interests=[])"
      ]
     },
     "execution_count": 27,
     "metadata": {},
     "output_type": "execute_result"
    }
   ],
   "source": [
    "Person(\n",
    "    id=3,\n",
    "    first_name=\"Ron\", \n",
    "    last_name=\"Medina\", \n",
    "    gender=Gender.MALE,\n",
    "    birthdate=date(2021, 7, 21),\n",
    "    interests=[]\n",
    ")"
   ]
  },
  {
   "cell_type": "markdown",
   "metadata": {},
   "source": [
    "This is quite powerful, we can have quite complex field types. Moreover, the pydantic model performs automatic validation and type conversion:"
   ]
  },
  {
   "cell_type": "code",
   "execution_count": 28,
   "metadata": {},
   "outputs": [
    {
     "data": {
      "text/plain": [
       "Person(id=3, first_name='Ron', last_name='Medina', gender=<Gender.MALE: 'male'>, birthdate=datetime.date(2021, 7, 21), interests=[])"
      ]
     },
     "execution_count": 28,
     "metadata": {},
     "output_type": "execute_result"
    }
   ],
   "source": [
    "Person(\n",
    "    id=\"3\",\n",
    "    first_name=\"Ron\", \n",
    "    last_name=\"Medina\", \n",
    "    gender=\"male\",\n",
    "    birthdate=\"2021-07-21\",\n",
    "    interests=[]\n",
    ")"
   ]
  },
  {
   "cell_type": "code",
   "execution_count": null,
   "metadata": {},
   "outputs": [],
   "source": []
  }
 ],
 "metadata": {
  "interpreter": {
   "hash": "19fbd03dd40cd05d53fcb3d59bf70c2c1ea089b0d5f32d55a89d34fe976eebeb"
  },
  "kernelspec": {
   "display_name": "Python 3.9.9 64-bit ('ml-cpu': conda)",
   "language": "python",
   "name": "python3"
  },
  "language_info": {
   "codemirror_mode": {
    "name": "ipython",
    "version": 3
   },
   "file_extension": ".py",
   "mimetype": "text/x-python",
   "name": "python",
   "nbconvert_exporter": "python",
   "pygments_lexer": "ipython3",
   "version": "3.9.9"
  },
  "orig_nbformat": 4
 },
 "nbformat": 4,
 "nbformat_minor": 2
}
