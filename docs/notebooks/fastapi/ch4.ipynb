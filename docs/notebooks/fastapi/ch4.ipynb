{
 "cells": [
  {
   "cell_type": "markdown",
   "metadata": {},
   "source": [
    "# Managing Pydantic Data Models in FastAPI"
   ]
  },
  {
   "cell_type": "markdown",
   "metadata": {},
   "source": [
    "```{admonition} Attribution\n",
    "Notes on *Chapter 4: Managing Pydantic Data Models in FastAPI* of {cite}`Voron2021`. The source files for running the background local servers can be found [here](https://github.com/particle1331/machine-learning/tree/master/docs/notebooks/fastapi/src/chapter4).\n",
    "```"
   ]
  },
  {
   "cell_type": "markdown",
   "metadata": {},
   "source": [
    "This chapter will cover in more detail the definition of a data model with Pydantic, the \n",
    "underlying data validation library used by FastAPI. "
   ]
  },
  {
   "cell_type": "markdown",
   "metadata": {},
   "source": [
    "**Goals** \n",
    "   * Defining models and their field types with Pydantic\n",
    "   * Creating model variations with class inheritance\n",
    "   * Adding custom data validation with Pydantic\n",
    "   * Working with Pydantic objects"
   ]
  },
  {
   "cell_type": "markdown",
   "metadata": {},
   "source": [
    "## Defining models and their field types with Pydantic"
   ]
  },
  {
   "cell_type": "markdown",
   "metadata": {},
   "source": [
    "Pydantic is a powerful library for defining data models using Python classes and type \n",
    "hints. This approach makes those classes completely compatible with static type checking."
   ]
  },
  {
   "cell_type": "markdown",
   "metadata": {},
   "source": [
    "### Standard field types"
   ]
  },
  {
   "cell_type": "markdown",
   "metadata": {},
   "source": [
    "We'll begin by defining fields with standard types, which only involve simple type hints."
   ]
  },
  {
   "cell_type": "code",
   "execution_count": 21,
   "metadata": {},
   "outputs": [],
   "source": [
    "from datetime import date\n",
    "from enum import Enum\n",
    "from typing import List\n",
    "from pydantic import BaseModel\n",
    "\n",
    "class Gender(str, Enum):\n",
    "    MALE = \"male\"\n",
    "    FEMALE = \"female\"\n",
    "    NON_BINARY = \"non-binary\"\n",
    "\n",
    "class Address(BaseModel):\n",
    "    street_address: str\n",
    "    postal_code: str\n",
    "    city: str\n",
    "    country: str\n",
    "\n",
    "class Person(BaseModel):\n",
    "    id: int\n",
    "    first_name: str\n",
    "    last_name: str\n",
    "    address: Address\n",
    "    gender: Gender\n",
    "    birthdate: date \n",
    "    interests: List[str]"
   ]
  },
  {
   "cell_type": "markdown",
   "metadata": {},
   "source": [
    "Let's instantiate one example:"
   ]
  },
  {
   "cell_type": "code",
   "execution_count": 22,
   "metadata": {},
   "outputs": [
    {
     "data": {
      "text/plain": [
       "Person(id=3, first_name='Ron', last_name='Medina', address=Address(street_address='#1 Street', postal_code='333', city='City', country='Country'), gender=<Gender.MALE: 'male'>, birthdate=datetime.date(2021, 7, 21), interests=[])"
      ]
     },
     "execution_count": 22,
     "metadata": {},
     "output_type": "execute_result"
    }
   ],
   "source": [
    "Person(\n",
    "    id=3,\n",
    "    first_name=\"Ron\", \n",
    "    last_name=\"Medina\", \n",
    "    address=Address(\n",
    "        street_address=\"#1 Street\",\n",
    "        postal_code=\"333\",\n",
    "        city=\"City\",\n",
    "        country=\"Country\"),\n",
    "    gender=Gender.MALE,\n",
    "    birthdate=date(2021, 7, 21), # YYYY-MM-DD\n",
    "    interests=[],\n",
    ")"
   ]
  },
  {
   "cell_type": "markdown",
   "metadata": {},
   "source": [
    "This is quite powerful, we can have quite complex field types. Moreover, the pydantic model performs automatic validation and type conversion:"
   ]
  },
  {
   "cell_type": "code",
   "execution_count": 23,
   "metadata": {},
   "outputs": [
    {
     "data": {
      "text/plain": [
       "Person(id=3, first_name='Ron', last_name='Medina', address=Address(street_address='#1 Street', postal_code='333', city='City', country='Country'), gender=<Gender.MALE: 'male'>, birthdate=datetime.date(2021, 7, 21), interests=[])"
      ]
     },
     "execution_count": 23,
     "metadata": {},
     "output_type": "execute_result"
    }
   ],
   "source": [
    "Person(\n",
    "    id=\"3\",\n",
    "    first_name=\"Ron\", \n",
    "    last_name=\"Medina\", \n",
    "    gender=\"male\",\n",
    "    birthdate=\"2021-07-21\",\n",
    "    interests=[],\n",
    "    address={\n",
    "        \"street_address\": \"#1 Street\",\n",
    "        \"postal_code\": \"333\",\n",
    "        \"city\": \"City\",\n",
    "        \"country\": \"Country\",\n",
    "    }\n",
    ")"
   ]
  },
  {
   "cell_type": "markdown",
   "metadata": {},
   "source": [
    "### Optional fields and default values"
   ]
  },
  {
   "cell_type": "markdown",
   "metadata": {},
   "source": [
    "Be careful: don't assign default values that\n",
    "    are dynamic types such as datetimes. By doing so, the datetime instantiation will be \n",
    "    evaluated only once when the model is *imported*. The effect of this is that all the \n",
    "    objects you'll instantiate will then share the same value instead of having a fresh value. This is a known Python gotcha. \n"
   ]
  },
  {
   "cell_type": "code",
   "execution_count": 38,
   "metadata": {},
   "outputs": [
    {
     "name": "stdout",
     "output_type": "stream",
     "text": [
      "0.0\n"
     ]
    }
   ],
   "source": [
    "import time \n",
    "from datetime import datetime\n",
    "from typing import Optional\n",
    "\n",
    "class Post(BaseModel):\n",
    "    date_created: date = datetime.now()\n",
    "    tag: Optional[str]\n",
    "\n",
    "\n",
    "post1 = Post()\n",
    "time.sleep(3)\n",
    "post2 = Post()\n",
    "print((post1.date_created - post2.date_created).total_seconds())"
   ]
  },
  {
   "cell_type": "markdown",
   "metadata": {},
   "source": [
    "Fortunately, Pydantic provides a `Field` \n",
    "function that allows us to set some advanced options on our fields, including one to set \n",
    "a factory for creating dynamic values."
   ]
  },
  {
   "cell_type": "markdown",
   "metadata": {},
   "source": [
    "### Field validation"
   ]
  },
  {
   "cell_type": "markdown",
   "metadata": {},
   "source": [
    "It turns out that the validation for request parameters come directly from Pydantic. The syntax is very similar to the one we saw for `Path`, `Query`, and `Body`."
   ]
  },
  {
   "cell_type": "code",
   "execution_count": 30,
   "metadata": {},
   "outputs": [],
   "source": [
    "from pydantic import BaseModel, Field, ValidationError\n",
    "\n",
    "class Person(BaseModel):\n",
    "    first_name: str = Field(..., min_length=3)\n",
    "    last_name: str = Field(..., min_length=3)\n",
    "    age: Optional[int] = Field(None, ge=0, le=120)"
   ]
  },
  {
   "cell_type": "markdown",
   "metadata": {},
   "source": [
    "Let's trigger an error with first name of length zero."
   ]
  },
  {
   "cell_type": "code",
   "execution_count": 31,
   "metadata": {},
   "outputs": [
    {
     "ename": "ValidationError",
     "evalue": "1 validation error for Person\nfirst_name\n  ensure this value has at least 3 characters (type=value_error.any_str.min_length; limit_value=3)",
     "output_type": "error",
     "traceback": [
      "\u001b[0;31m---------------------------------------------------------------------------\u001b[0m",
      "\u001b[0;31mValidationError\u001b[0m                           Traceback (most recent call last)",
      "\u001b[0;32m/var/folders/jq/9vsvd9252_349lsng_5gc_jw0000gn/T/ipykernel_60241/2508798279.py\u001b[0m in \u001b[0;36m<module>\u001b[0;34m\u001b[0m\n\u001b[0;32m----> 1\u001b[0;31m \u001b[0mp\u001b[0m \u001b[0;34m=\u001b[0m \u001b[0mPerson\u001b[0m\u001b[0;34m(\u001b[0m\u001b[0mfirst_name\u001b[0m\u001b[0;34m=\u001b[0m\u001b[0;34m\"\"\u001b[0m\u001b[0;34m,\u001b[0m \u001b[0mlast_name\u001b[0m\u001b[0;34m=\u001b[0m\u001b[0;34m\"Shorttail\"\u001b[0m\u001b[0;34m)\u001b[0m\u001b[0;34m\u001b[0m\u001b[0;34m\u001b[0m\u001b[0m\n\u001b[0m",
      "\u001b[0;32m~/miniforge3/envs/ml-cpu/lib/python3.9/site-packages/pydantic/main.py\u001b[0m in \u001b[0;36m__init__\u001b[0;34m(__pydantic_self__, **data)\u001b[0m\n\u001b[1;32m    404\u001b[0m         \u001b[0mvalues\u001b[0m\u001b[0;34m,\u001b[0m \u001b[0mfields_set\u001b[0m\u001b[0;34m,\u001b[0m \u001b[0mvalidation_error\u001b[0m \u001b[0;34m=\u001b[0m \u001b[0mvalidate_model\u001b[0m\u001b[0;34m(\u001b[0m\u001b[0m__pydantic_self__\u001b[0m\u001b[0;34m.\u001b[0m\u001b[0m__class__\u001b[0m\u001b[0;34m,\u001b[0m \u001b[0mdata\u001b[0m\u001b[0;34m)\u001b[0m\u001b[0;34m\u001b[0m\u001b[0;34m\u001b[0m\u001b[0m\n\u001b[1;32m    405\u001b[0m         \u001b[0;32mif\u001b[0m \u001b[0mvalidation_error\u001b[0m\u001b[0;34m:\u001b[0m\u001b[0;34m\u001b[0m\u001b[0;34m\u001b[0m\u001b[0m\n\u001b[0;32m--> 406\u001b[0;31m             \u001b[0;32mraise\u001b[0m \u001b[0mvalidation_error\u001b[0m\u001b[0;34m\u001b[0m\u001b[0;34m\u001b[0m\u001b[0m\n\u001b[0m\u001b[1;32m    407\u001b[0m         \u001b[0;32mtry\u001b[0m\u001b[0;34m:\u001b[0m\u001b[0;34m\u001b[0m\u001b[0;34m\u001b[0m\u001b[0m\n\u001b[1;32m    408\u001b[0m             \u001b[0mobject_setattr\u001b[0m\u001b[0;34m(\u001b[0m\u001b[0m__pydantic_self__\u001b[0m\u001b[0;34m,\u001b[0m \u001b[0;34m'__dict__'\u001b[0m\u001b[0;34m,\u001b[0m \u001b[0mvalues\u001b[0m\u001b[0;34m)\u001b[0m\u001b[0;34m\u001b[0m\u001b[0;34m\u001b[0m\u001b[0m\n",
      "\u001b[0;31mValidationError\u001b[0m: 1 validation error for Person\nfirst_name\n  ensure this value has at least 3 characters (type=value_error.any_str.min_length; limit_value=3)"
     ]
    }
   ],
   "source": [
    "p = Person(first_name=\"\", last_name=\"Shorttail\")"
   ]
  },
  {
   "cell_type": "markdown",
   "metadata": {},
   "source": [
    "#### Dynamic default values"
   ]
  },
  {
   "cell_type": "markdown",
   "metadata": {},
   "source": [
    "Recall gotcha with dynamic or mutable default values. Pydantic provides the `default_factory` argument on the `Field` function to cover this use case. This argument expects you to pass a function that will be \n",
    "called during model instantiation. Thus, the resulting object will be evaluated at runtime \n",
    "each time you create a new object. "
   ]
  },
  {
   "cell_type": "code",
   "execution_count": 39,
   "metadata": {},
   "outputs": [
    {
     "name": "stdout",
     "output_type": "stream",
     "text": [
      "3.005135\n"
     ]
    }
   ],
   "source": [
    "class Post(BaseModel):\n",
    "    date_created: date = Field(default_factory=lambda: datetime.now())\n",
    "    tag: Optional[str]\n",
    "\n",
    "post1 = Post()\n",
    "time.sleep(3)\n",
    "post2 = Post()\n",
    "print((post2.date_created - post1.date_created).total_seconds())"
   ]
  },
  {
   "cell_type": "markdown",
   "metadata": {},
   "source": [
    "The factory function should have no arguments. Moreover, there is no need to set default values in the `Field` functions (which is reasonable)."
   ]
  },
  {
   "cell_type": "markdown",
   "metadata": {},
   "source": [
    "### Validating email addresses and URLs with Pydantic types"
   ]
  },
  {
   "cell_type": "markdown",
   "metadata": {},
   "source": [
    "For this to work, you may need `email-validator` which can be installed using `pip`. "
   ]
  },
  {
   "cell_type": "code",
   "execution_count": 43,
   "metadata": {},
   "outputs": [
    {
     "name": "stdout",
     "output_type": "stream",
     "text": [
      "Requirement already satisfied: email-validator in /Users/particle1331/miniforge3/envs/ml-cpu/lib/python3.9/site-packages (1.1.3)\n",
      "Requirement already satisfied: idna>=2.0.0 in /Users/particle1331/miniforge3/envs/ml-cpu/lib/python3.9/site-packages (from email-validator) (3.1)\n",
      "Requirement already satisfied: dnspython>=1.15.0 in /Users/particle1331/miniforge3/envs/ml-cpu/lib/python3.9/site-packages (from email-validator) (2.1.0)\n"
     ]
    }
   ],
   "source": [
    "!pip install email-validator"
   ]
  },
  {
   "cell_type": "code",
   "execution_count": 70,
   "metadata": {},
   "outputs": [],
   "source": [
    "from pydantic import BaseModel, EmailStr, HttpUrl, ValidationError\n",
    "\n",
    "class User(BaseModel):\n",
    "    email: EmailStr\n",
    "    website: HttpUrl"
   ]
  },
  {
   "cell_type": "markdown",
   "metadata": {},
   "source": [
    "In the following script, we use `ValidationError` as our exception class:"
   ]
  },
  {
   "cell_type": "code",
   "execution_count": 57,
   "metadata": {},
   "outputs": [
    {
     "name": "stdout",
     "output_type": "stream",
     "text": [
      "1 validation error for User\n",
      "email\n",
      "  value is not a valid email address (type=value_error.email)\n"
     ]
    }
   ],
   "source": [
    "try:\n",
    "    User(email=\"user@email,com\", website=\"https://www.example.com\")\n",
    "except ValidationError as e:\n",
    "    print(str(e))"
   ]
  },
  {
   "cell_type": "code",
   "execution_count": 60,
   "metadata": {},
   "outputs": [
    {
     "name": "stdout",
     "output_type": "stream",
     "text": [
      "1 validation error for User\n",
      "website\n",
      "  URL host invalid (type=value_error.url.host)\n"
     ]
    }
   ],
   "source": [
    "try:\n",
    "    User(email=\"user@email.com\", website=\"https://www.example,com\")\n",
    "except ValidationError as e:\n",
    "    print(str(e))"
   ]
  },
  {
   "cell_type": "markdown",
   "metadata": {},
   "source": [
    "When valid, we get the following parsing for the URL:"
   ]
  },
  {
   "cell_type": "code",
   "execution_count": 67,
   "metadata": {},
   "outputs": [
    {
     "data": {
      "text/plain": [
       "User(email='jdoe@example.com', website=HttpUrl('https://www.example.com', scheme='https', host='www.example.com', tld='com', host_type='domain'))"
      ]
     },
     "execution_count": 67,
     "metadata": {},
     "output_type": "execute_result"
    }
   ],
   "source": [
    "User(email=\"jdoe@example.com\", website=\"https://www.example.com\")"
   ]
  },
  {
   "cell_type": "markdown",
   "metadata": {},
   "source": [
    "## Creating model variations with class inheritance"
   ]
  },
  {
   "cell_type": "markdown",
   "metadata": {},
   "source": [
    "Recall in the previous notebook, we saw a case where we needed to \n",
    "define two variations of a Pydantic model in order to split between (1) the data we want to \n",
    "store in the backend and (2) the data we want to show to the user. This is a common pattern \n",
    "in FastAPI: you define one model for **creation**, one for the **response** and one for the **data** to \n",
    "store in the database."
   ]
  },
  {
   "cell_type": "code",
   "execution_count": 72,
   "metadata": {},
   "outputs": [],
   "source": [
    "class PostCreate(BaseModel):\n",
    "    title: str\n",
    "    content: str\n",
    "\n",
    "class PostPublic(BaseModel):\n",
    "    id: int\n",
    "    title: str\n",
    "    content: str\n",
    "\n",
    "class PostDB(BaseModel):\n",
    "    id: int\n",
    "    title: str\n",
    "    content: str\n",
    "    nb_views: int = 0"
   ]
  },
  {
   "cell_type": "code",
   "execution_count": null,
   "metadata": {},
   "outputs": [],
   "source": []
  },
  {
   "cell_type": "markdown",
   "metadata": {},
   "source": [
    "## Adding custom data validation with Pydantic"
   ]
  },
  {
   "cell_type": "markdown",
   "metadata": {},
   "source": [
    "### Appying validation at a field level"
   ]
  },
  {
   "cell_type": "markdown",
   "metadata": {},
   "source": [
    "### Applying validation at an object level"
   ]
  },
  {
   "cell_type": "markdown",
   "metadata": {},
   "source": [
    "### Applying validation before Pydantic parsing"
   ]
  },
  {
   "cell_type": "markdown",
   "metadata": {},
   "source": [
    "## Working with Pydantic objects"
   ]
  },
  {
   "cell_type": "markdown",
   "metadata": {},
   "source": [
    "### Converting an object into a dictionary"
   ]
  },
  {
   "cell_type": "markdown",
   "metadata": {},
   "source": [
    "### Creating an instance from a sub-class object"
   ]
  },
  {
   "cell_type": "markdown",
   "metadata": {},
   "source": [
    "### Updating an instance with a partial one"
   ]
  },
  {
   "cell_type": "markdown",
   "metadata": {},
   "source": []
  }
 ],
 "metadata": {
  "interpreter": {
   "hash": "19fbd03dd40cd05d53fcb3d59bf70c2c1ea089b0d5f32d55a89d34fe976eebeb"
  },
  "kernelspec": {
   "display_name": "Python 3.9.9 64-bit ('ml-cpu': conda)",
   "language": "python",
   "name": "python3"
  },
  "language_info": {
   "codemirror_mode": {
    "name": "ipython",
    "version": 3
   },
   "file_extension": ".py",
   "mimetype": "text/x-python",
   "name": "python",
   "nbconvert_exporter": "python",
   "pygments_lexer": "ipython3",
   "version": "3.9.9"
  },
  "orig_nbformat": 4
 },
 "nbformat": 4,
 "nbformat_minor": 2
}
