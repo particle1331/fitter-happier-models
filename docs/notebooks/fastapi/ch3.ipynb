{
 "cells": [
  {
   "cell_type": "markdown",
   "metadata": {},
   "source": [
    "# Developing a RESTful API with FastAPI"
   ]
  },
  {
   "cell_type": "markdown",
   "metadata": {},
   "source": [
    "```{admonition} Attribution\n",
    "Notes on *Chapter 3: Developing a RESTful API with FastAPI* of {cite}`Voron2021`. The source files for running the background local servers can be found [here](https://github.com/particle1331/machine-learning/tree/master/docs/notebooks/fastapi/src/chapter3).\n",
    "```"
   ]
  },
  {
   "cell_type": "markdown",
   "metadata": {},
   "source": [
    "**Goals** \n",
    "   * Create working API endpoint and test it locally with HTTPie\n",
    "   * Handling request parameters and customizing a response\n",
    "   * Structuring a bigger project with routes"
   ]
  },
  {
   "cell_type": "markdown",
   "metadata": {},
   "source": [
    "## Hello, World!"
   ]
  },
  {
   "cell_type": "markdown",
   "metadata": {},
   "source": [
    "Let us quickly create a simple endpoint which has a GET method.\n",
    "\n",
    "```python\n",
    "# main.py\n",
    "from fastapi import FastAPI\n",
    "\n",
    "app = FastAPI()\n",
    "\n",
    "@app.get(\"/\")\n",
    "async def hello_world():\n",
    "    return {\"hello\": \"world\"}\n",
    "```"
   ]
  },
  {
   "cell_type": "markdown",
   "metadata": {},
   "source": [
    "The path function `hello_world` contains our route logic for the path `/` specified in the decorator. The decorator also specifies what HTTP method this function implements. The return value is automatically handled by FastAPI to produce a proper HTTP response with a JSON payload."
   ]
  },
  {
   "cell_type": "markdown",
   "metadata": {},
   "source": [
    "Here `app` is the main application object that will wire all of the API routes. We will \n",
    "start the server in the terminal as follows: \n",
    "\n",
    "```\n",
    "$ uvicorn main:app\n",
    "INFO:     Started server process [14121]\n",
    "INFO:     Waiting for application startup.\n",
    "INFO:     Application startup complete.\n",
    "INFO:     Uvicorn running on http://127.0.0.1:8000 (Press CTRL+C to quit)\n",
    "```\n",
    "\n",
    "Then, we perform the following GET request."
   ]
  },
  {
   "cell_type": "code",
   "execution_count": 23,
   "metadata": {},
   "outputs": [
    {
     "data": {
      "text/plain": [
       "{'detail': 'Not Found'}"
      ]
     },
     "execution_count": 23,
     "metadata": {},
     "output_type": "execute_result"
    }
   ],
   "source": [
    "import requests\n",
    "root = \"http://127.0.0.1:8000\"\n",
    "path = \"/\"\n",
    "\n",
    "response = requests.get(root + path)\n",
    "response.json()"
   ]
  },
  {
   "cell_type": "markdown",
   "metadata": {},
   "source": [
    "## HTTPie"
   ]
  },
  {
   "cell_type": "markdown",
   "metadata": {},
   "source": [
    "Before delving into the details of building REST APIs, we need to have a tool for making HTTP requests. We will be using **HTTPie**, a command-line tool aimed at making HTTP\n",
    "requests with an intuitive syntax, JSON support, and syntax highlighting."
   ]
  },
  {
   "cell_type": "markdown",
   "metadata": {},
   "source": [
    "> HTTPie (pronounced *aitch*-*tee-tee-pie*) is a command-line HTTP client. Its goal is to make CLI interaction with web services as human-friendly as possible. HTTPie is designed for testing, debugging, and generally interacting with APIs & HTTP servers. The `http` & `https` commands allow for creating and sending arbitrary HTTP requests. They use simple and natural syntax and provide formatted and colorized output."
   ]
  },
  {
   "cell_type": "markdown",
   "metadata": {},
   "source": [
    "The general form of an HTTPie request is:"
   ]
  },
  {
   "cell_type": "markdown",
   "metadata": {},
   "source": [
    "```\n",
    "http [flags] [METHOD] URL [ITEM [ITEM]]\n",
    "```"
   ]
  },
  {
   "cell_type": "markdown",
   "metadata": {},
   "source": [
    "For our local server, we can call:"
   ]
  },
  {
   "cell_type": "code",
   "execution_count": 24,
   "metadata": {},
   "outputs": [
    {
     "name": "stdout",
     "output_type": "stream",
     "text": [
      "\u001b[32mGET\u001b[39;49;00m \u001b[04m\u001b[36m/\u001b[39;49;00m \u001b[34mHTTP\u001b[39;49;00m/\u001b[34m1.1\u001b[39;49;00m\n",
      "\u001b[36mAccept\u001b[39;49;00m: */*\n",
      "\u001b[36mAccept-Encoding\u001b[39;49;00m: gzip, deflate, br\n",
      "\u001b[36mConnection\u001b[39;49;00m: keep-alive\n",
      "\u001b[36mHost\u001b[39;49;00m: 127.0.0.1:8000\n",
      "\u001b[36mUser-Agent\u001b[39;49;00m: HTTPie/2.6.0\n",
      "\n",
      "\n",
      "\n",
      "\u001b[34mHTTP\u001b[39;49;00m/\u001b[34m1.1\u001b[39;49;00m \u001b[34m404\u001b[39;49;00m \u001b[36mNot Found\u001b[39;49;00m\n",
      "\u001b[36mcontent-length\u001b[39;49;00m: 22\n",
      "\u001b[36mcontent-type\u001b[39;49;00m: application/json\n",
      "\u001b[36mdate\u001b[39;49;00m: Fri, 24 Dec 2021 12:04:29 GMT\n",
      "\u001b[36mserver\u001b[39;49;00m: uvicorn\n",
      "\n",
      "{\n",
      "    \u001b[94m\"detail\"\u001b[39;49;00m: \u001b[33m\"Not Found\"\u001b[39;49;00m\n",
      "}\n",
      "\n",
      "\n"
     ]
    }
   ],
   "source": [
    "!http -v GET http://127.0.0.1:8000/"
   ]
  },
  {
   "cell_type": "markdown",
   "metadata": {},
   "source": [
    "The flag `-v` or `--verbose` is used here to print both the request and response. HTTPie also provides an `https` executable for dealing with URLs with `https://`. "
   ]
  },
  {
   "cell_type": "markdown",
   "metadata": {},
   "source": [
    "### Optional GET and POST"
   ]
  },
  {
   "cell_type": "markdown",
   "metadata": {},
   "source": [
    "The `METHOD` argument is optional, and when you don’t specify it, HTTPie defaults to:\n",
    "\n",
    "- `GET` for requests without body\n",
    "- `POST` for requests with body"
   ]
  },
  {
   "cell_type": "markdown",
   "metadata": {},
   "source": [
    "For example, the following is a GET request. "
   ]
  },
  {
   "cell_type": "code",
   "execution_count": 25,
   "metadata": {},
   "outputs": [
    {
     "name": "stdout",
     "output_type": "stream",
     "text": [
      "\u001b[32mGET\u001b[39;49;00m \u001b[04m\u001b[36m/get\u001b[39;49;00m \u001b[34mHTTP\u001b[39;49;00m/\u001b[34m1.1\u001b[39;49;00m\n",
      "\u001b[36mAccept\u001b[39;49;00m: */*\n",
      "\u001b[36mAccept-Encoding\u001b[39;49;00m: gzip, deflate, br\n",
      "\u001b[36mConnection\u001b[39;49;00m: keep-alive\n",
      "\u001b[36mHost\u001b[39;49;00m: pie.dev\n",
      "\u001b[36mUser-Agent\u001b[39;49;00m: HTTPie/2.6.0\n",
      "\n",
      "\n",
      "\n",
      "\u001b[34mHTTP\u001b[39;49;00m/\u001b[34m1.1\u001b[39;49;00m \u001b[34m200\u001b[39;49;00m \u001b[36mOK\u001b[39;49;00m\n",
      "\u001b[36mCF-Cache-Status\u001b[39;49;00m: DYNAMIC\n",
      "\u001b[36mCF-RAY\u001b[39;49;00m: 6c29b14bccd64bda-SIN\n",
      "\u001b[36mConnection\u001b[39;49;00m: keep-alive\n",
      "\u001b[36mContent-Encoding\u001b[39;49;00m: gzip\n",
      "\u001b[36mContent-Type\u001b[39;49;00m: application/json\n",
      "\u001b[36mDate\u001b[39;49;00m: Fri, 24 Dec 2021 12:04:30 GMT\n",
      "\u001b[36mNEL\u001b[39;49;00m: {\"success_fraction\":0,\"report_to\":\"cf-nel\",\"max_age\":604800}\n",
      "\u001b[36mReport-To\u001b[39;49;00m: {\"endpoints\":[{\"url\":\"https:\\/\\/a.nel.cloudflare.com\\/report\\/v3?s=zAD24HXgu8lSDbBGOPqFm1oFZmnvVMmWS1NVLW1LnovOZio62mSj7JPZaqm0mzs83zCJqTKjyTN7IjeG%2BuS2lp%2BtPcUPkFuI7QHI8uAYRQ%2BO5zques2YdY%2FE\"}],\"group\":\"cf-nel\",\"max_age\":604800}\n",
      "\u001b[36mServer\u001b[39;49;00m: cloudflare\n",
      "\u001b[36mTransfer-Encoding\u001b[39;49;00m: chunked\n",
      "\u001b[36maccess-control-allow-credentials\u001b[39;49;00m: true\n",
      "\u001b[36maccess-control-allow-origin\u001b[39;49;00m: *\n",
      "\u001b[36malt-svc\u001b[39;49;00m: h3=\":443\"; ma=86400, h3-29=\":443\"; ma=86400, h3-28=\":443\"; ma=86400, h3-27=\":443\"; ma=86400\n",
      "\n",
      "{\n",
      "    \u001b[94m\"args\"\u001b[39;49;00m: {},\n",
      "    \u001b[94m\"headers\"\u001b[39;49;00m: {\n",
      "        \u001b[94m\"Accept\"\u001b[39;49;00m: \u001b[33m\"*/*\"\u001b[39;49;00m,\n",
      "        \u001b[94m\"Accept-Encoding\"\u001b[39;49;00m: \u001b[33m\"gzip\"\u001b[39;49;00m,\n",
      "        \u001b[94m\"Cdn-Loop\"\u001b[39;49;00m: \u001b[33m\"cloudflare\"\u001b[39;49;00m,\n",
      "        \u001b[94m\"Cf-Connecting-Ip\"\u001b[39;49;00m: \u001b[33m\"180.190.33.134\"\u001b[39;49;00m,\n",
      "        \u001b[94m\"Cf-Ipcountry\"\u001b[39;49;00m: \u001b[33m\"PH\"\u001b[39;49;00m,\n",
      "        \u001b[94m\"Cf-Ray\"\u001b[39;49;00m: \u001b[33m\"6c29b14bccd64bda-FRA\"\u001b[39;49;00m,\n",
      "        \u001b[94m\"Cf-Visitor\"\u001b[39;49;00m: \u001b[33m\"{\\\"scheme\\\":\\\"http\\\"}\"\u001b[39;49;00m,\n",
      "        \u001b[94m\"Connection\"\u001b[39;49;00m: \u001b[33m\"Keep-Alive\"\u001b[39;49;00m,\n",
      "        \u001b[94m\"Host\"\u001b[39;49;00m: \u001b[33m\"pie.dev\"\u001b[39;49;00m,\n",
      "        \u001b[94m\"User-Agent\"\u001b[39;49;00m: \u001b[33m\"HTTPie/2.6.0\"\u001b[39;49;00m\n",
      "    },\n",
      "    \u001b[94m\"origin\"\u001b[39;49;00m: \u001b[33m\"180.190.33.134\"\u001b[39;49;00m,\n",
      "    \u001b[94m\"url\"\u001b[39;49;00m: \u001b[33m\"http://pie.dev/get\"\u001b[39;49;00m\n",
      "}\n",
      "\n",
      "\n"
     ]
    }
   ],
   "source": [
    "!http -v pie.dev/get "
   ]
  },
  {
   "cell_type": "markdown",
   "metadata": {},
   "source": [
    "On the other hand, the following request has data, so that the following defaults to a POST request:"
   ]
  },
  {
   "cell_type": "code",
   "execution_count": 26,
   "metadata": {},
   "outputs": [
    {
     "name": "stdout",
     "output_type": "stream",
     "text": [
      "\u001b[32mPOST\u001b[39;49;00m \u001b[04m\u001b[36m/post\u001b[39;49;00m \u001b[34mHTTP\u001b[39;49;00m/\u001b[34m1.1\u001b[39;49;00m\n",
      "\u001b[36mAccept\u001b[39;49;00m: application/json, */*;q=0.5\n",
      "\u001b[36mAccept-Encoding\u001b[39;49;00m: gzip, deflate, br\n",
      "\u001b[36mConnection\u001b[39;49;00m: keep-alive\n",
      "\u001b[36mContent-Length\u001b[39;49;00m: 18\n",
      "\u001b[36mContent-Type\u001b[39;49;00m: application/json\n",
      "\u001b[36mHost\u001b[39;49;00m: pie.dev\n",
      "\u001b[36mUser-Agent\u001b[39;49;00m: HTTPie/2.6.0\n",
      "\n",
      "{\n",
      "    \u001b[94m\"hello\"\u001b[39;49;00m: \u001b[33m\"world\"\u001b[39;49;00m\n",
      "}\n",
      "\n",
      "\n",
      "\u001b[34mHTTP\u001b[39;49;00m/\u001b[34m1.1\u001b[39;49;00m \u001b[34m200\u001b[39;49;00m \u001b[36mOK\u001b[39;49;00m\n",
      "\u001b[36mCF-Cache-Status\u001b[39;49;00m: DYNAMIC\n",
      "\u001b[36mCF-RAY\u001b[39;49;00m: 6c29b150ba524cd7-SIN\n",
      "\u001b[36mConnection\u001b[39;49;00m: keep-alive\n",
      "\u001b[36mContent-Encoding\u001b[39;49;00m: gzip\n",
      "\u001b[36mContent-Type\u001b[39;49;00m: application/json\n",
      "\u001b[36mDate\u001b[39;49;00m: Fri, 24 Dec 2021 12:04:31 GMT\n",
      "\u001b[36mNEL\u001b[39;49;00m: {\"success_fraction\":0,\"report_to\":\"cf-nel\",\"max_age\":604800}\n",
      "\u001b[36mReport-To\u001b[39;49;00m: {\"endpoints\":[{\"url\":\"https:\\/\\/a.nel.cloudflare.com\\/report\\/v3?s=UX7hVb5M77NR%2Bjko6N0LkI8Wb3sTrE2brgH5Hu2E9X2gcx9xByE9sVHYLe6ddeHWqkqQUkXFpIwDU99v4CLzHsqqjG6FeDVGvwkzA1o2cVxlzkylmI%2FjE15z\"}],\"group\":\"cf-nel\",\"max_age\":604800}\n",
      "\u001b[36mServer\u001b[39;49;00m: cloudflare\n",
      "\u001b[36mTransfer-Encoding\u001b[39;49;00m: chunked\n",
      "\u001b[36maccess-control-allow-credentials\u001b[39;49;00m: true\n",
      "\u001b[36maccess-control-allow-origin\u001b[39;49;00m: *\n",
      "\u001b[36malt-svc\u001b[39;49;00m: h3=\":443\"; ma=86400, h3-29=\":443\"; ma=86400, h3-28=\":443\"; ma=86400, h3-27=\":443\"; ma=86400\n",
      "\n",
      "{\n",
      "    \u001b[94m\"args\"\u001b[39;49;00m: {},\n",
      "    \u001b[94m\"data\"\u001b[39;49;00m: \u001b[33m\"{\\\"hello\\\": \\\"world\\\"}\"\u001b[39;49;00m,\n",
      "    \u001b[94m\"files\"\u001b[39;49;00m: {},\n",
      "    \u001b[94m\"form\"\u001b[39;49;00m: {},\n",
      "    \u001b[94m\"headers\"\u001b[39;49;00m: {\n",
      "        \u001b[94m\"Accept\"\u001b[39;49;00m: \u001b[33m\"application/json, */*;q=0.5\"\u001b[39;49;00m,\n",
      "        \u001b[94m\"Accept-Encoding\"\u001b[39;49;00m: \u001b[33m\"gzip\"\u001b[39;49;00m,\n",
      "        \u001b[94m\"Cdn-Loop\"\u001b[39;49;00m: \u001b[33m\"cloudflare\"\u001b[39;49;00m,\n",
      "        \u001b[94m\"Cf-Connecting-Ip\"\u001b[39;49;00m: \u001b[33m\"180.190.33.134\"\u001b[39;49;00m,\n",
      "        \u001b[94m\"Cf-Ipcountry\"\u001b[39;49;00m: \u001b[33m\"PH\"\u001b[39;49;00m,\n",
      "        \u001b[94m\"Cf-Ray\"\u001b[39;49;00m: \u001b[33m\"6c29b150ba524cd7-FRA\"\u001b[39;49;00m,\n",
      "        \u001b[94m\"Cf-Visitor\"\u001b[39;49;00m: \u001b[33m\"{\\\"scheme\\\":\\\"http\\\"}\"\u001b[39;49;00m,\n",
      "        \u001b[94m\"Connection\"\u001b[39;49;00m: \u001b[33m\"Keep-Alive\"\u001b[39;49;00m,\n",
      "        \u001b[94m\"Content-Length\"\u001b[39;49;00m: \u001b[33m\"18\"\u001b[39;49;00m,\n",
      "        \u001b[94m\"Content-Type\"\u001b[39;49;00m: \u001b[33m\"application/json\"\u001b[39;49;00m,\n",
      "        \u001b[94m\"Host\"\u001b[39;49;00m: \u001b[33m\"pie.dev\"\u001b[39;49;00m,\n",
      "        \u001b[94m\"User-Agent\"\u001b[39;49;00m: \u001b[33m\"HTTPie/2.6.0\"\u001b[39;49;00m\n",
      "    },\n",
      "    \u001b[94m\"json\"\u001b[39;49;00m: {\n",
      "        \u001b[94m\"hello\"\u001b[39;49;00m: \u001b[33m\"world\"\u001b[39;49;00m\n",
      "    },\n",
      "    \u001b[94m\"origin\"\u001b[39;49;00m: \u001b[33m\"180.190.33.134\"\u001b[39;49;00m,\n",
      "    \u001b[94m\"url\"\u001b[39;49;00m: \u001b[33m\"http://pie.dev/post\"\u001b[39;49;00m\n",
      "}\n",
      "\n",
      "\n"
     ]
    }
   ],
   "source": [
    "!http -v pie.dev/post hello=world"
   ]
  },
  {
   "cell_type": "markdown",
   "metadata": {},
   "source": [
    "### Querystring parameters "
   ]
  },
  {
   "cell_type": "markdown",
   "metadata": {},
   "source": [
    "HTTPie provides `param==value` syntax for appending URL querystring parameters. With that, you don’t have to worry about escaping the `&` separators for your shell. The following are equivalent:"
   ]
  },
  {
   "cell_type": "code",
   "execution_count": 27,
   "metadata": {},
   "outputs": [
    {
     "name": "stdout",
     "output_type": "stream",
     "text": [
      "\u001b[34mHTTP\u001b[39;49;00m/\u001b[34m1.1\u001b[39;49;00m \u001b[34m200\u001b[39;49;00m \u001b[36mOK\u001b[39;49;00m\n",
      "\u001b[36mAccept-Ranges\u001b[39;49;00m: bytes\n",
      "\u001b[36mAccess-Control-Allow-Origin\u001b[39;49;00m: *\n",
      "\u001b[36mAccess-Control-Expose-Headers\u001b[39;49;00m: ETag, Link, Location, Retry-After, X-GitHub-OTP, X-RateLimit-Limit, X-RateLimit-Remaining, X-RateLimit-Used, X-RateLimit-Resource, X-RateLimit-Reset, X-OAuth-Scopes, X-Accepted-OAuth-Scopes, X-Poll-Interval, X-GitHub-Media-Type, X-GitHub-SSO, X-GitHub-Request-Id, Deprecation, Sunset\n",
      "\u001b[36mCache-Control\u001b[39;49;00m: no-cache\n",
      "\u001b[36mContent-Encoding\u001b[39;49;00m: gzip\n",
      "\u001b[36mContent-Length\u001b[39;49;00m: 1557\n",
      "\u001b[36mContent-Security-Policy\u001b[39;49;00m: default-src 'none'\n",
      "\u001b[36mContent-Type\u001b[39;49;00m: application/json; charset=utf-8\n",
      "\u001b[36mDate\u001b[39;49;00m: Fri, 24 Dec 2021 12:04:32 GMT\n",
      "\u001b[36mLink\u001b[39;49;00m: <https://api.github.com/search/repositories?q=httpie&per_page=1&page=2>; rel=\"next\", <https://api.github.com/search/repositories?q=httpie&per_page=1&page=302>; rel=\"last\"\n",
      "\u001b[36mReferrer-Policy\u001b[39;49;00m: origin-when-cross-origin, strict-origin-when-cross-origin\n",
      "\u001b[36mServer\u001b[39;49;00m: GitHub.com\n",
      "\u001b[36mStrict-Transport-Security\u001b[39;49;00m: max-age=31536000; includeSubdomains; preload\n",
      "\u001b[36mVary\u001b[39;49;00m: Accept, Accept-Encoding, Accept, X-Requested-With\n",
      "\u001b[36mX-Content-Type-Options\u001b[39;49;00m: nosniff\n",
      "\u001b[36mX-Frame-Options\u001b[39;49;00m: deny\n",
      "\u001b[36mX-GitHub-Media-Type\u001b[39;49;00m: github.v3; format=json\n",
      "\u001b[36mX-GitHub-Request-Id\u001b[39;49;00m: A06E:2CCD:29674A:42FEB7:61C5B750\n",
      "\u001b[36mX-RateLimit-Limit\u001b[39;49;00m: 10\n",
      "\u001b[36mX-RateLimit-Remaining\u001b[39;49;00m: 9\n",
      "\u001b[36mX-RateLimit-Reset\u001b[39;49;00m: 1640347532\n",
      "\u001b[36mX-RateLimit-Resource\u001b[39;49;00m: search\n",
      "\u001b[36mX-RateLimit-Used\u001b[39;49;00m: 1\n",
      "\u001b[36mX-XSS-Protection\u001b[39;49;00m: 0\n",
      "\n",
      "{\n",
      "    \u001b[94m\"incomplete_results\"\u001b[39;49;00m: \u001b[34mfalse\u001b[39;49;00m,\n",
      "    \u001b[94m\"items\"\u001b[39;49;00m: [\n",
      "        {\n",
      "            \u001b[94m\"allow_forking\"\u001b[39;49;00m: \u001b[34mtrue\u001b[39;49;00m,\n",
      "            \u001b[94m\"archive_url\"\u001b[39;49;00m: \u001b[33m\"https://api.github.com/repos/httpie/httpie/{archive_format}{/ref}\"\u001b[39;49;00m,\n",
      "            \u001b[94m\"archived\"\u001b[39;49;00m: \u001b[34mfalse\u001b[39;49;00m,\n",
      "            \u001b[94m\"assignees_url\"\u001b[39;49;00m: \u001b[33m\"https://api.github.com/repos/httpie/httpie/assignees{/user}\"\u001b[39;49;00m,\n",
      "            \u001b[94m\"blobs_url\"\u001b[39;49;00m: \u001b[33m\"https://api.github.com/repos/httpie/httpie/git/blobs{/sha}\"\u001b[39;49;00m,\n",
      "            \u001b[94m\"branches_url\"\u001b[39;49;00m: \u001b[33m\"https://api.github.com/repos/httpie/httpie/branches{/branch}\"\u001b[39;49;00m,\n",
      "            \u001b[94m\"clone_url\"\u001b[39;49;00m: \u001b[33m\"https://github.com/httpie/httpie.git\"\u001b[39;49;00m,\n",
      "            \u001b[94m\"collaborators_url\"\u001b[39;49;00m: \u001b[33m\"https://api.github.com/repos/httpie/httpie/collaborators{/collaborator}\"\u001b[39;49;00m,\n",
      "            \u001b[94m\"comments_url\"\u001b[39;49;00m: \u001b[33m\"https://api.github.com/repos/httpie/httpie/comments{/number}\"\u001b[39;49;00m,\n",
      "            \u001b[94m\"commits_url\"\u001b[39;49;00m: \u001b[33m\"https://api.github.com/repos/httpie/httpie/commits{/sha}\"\u001b[39;49;00m,\n",
      "            \u001b[94m\"compare_url\"\u001b[39;49;00m: \u001b[33m\"https://api.github.com/repos/httpie/httpie/compare/{base}...{head}\"\u001b[39;49;00m,\n",
      "            \u001b[94m\"contents_url\"\u001b[39;49;00m: \u001b[33m\"https://api.github.com/repos/httpie/httpie/contents/{+path}\"\u001b[39;49;00m,\n",
      "            \u001b[94m\"contributors_url\"\u001b[39;49;00m: \u001b[33m\"https://api.github.com/repos/httpie/httpie/contributors\"\u001b[39;49;00m,\n",
      "            \u001b[94m\"created_at\"\u001b[39;49;00m: \u001b[33m\"2012-02-25T12:39:13Z\"\u001b[39;49;00m,\n",
      "            \u001b[94m\"default_branch\"\u001b[39;49;00m: \u001b[33m\"master\"\u001b[39;49;00m,\n",
      "            \u001b[94m\"deployments_url\"\u001b[39;49;00m: \u001b[33m\"https://api.github.com/repos/httpie/httpie/deployments\"\u001b[39;49;00m,\n",
      "            \u001b[94m\"description\"\u001b[39;49;00m: \u001b[33m\"As easy as /aitch-tee-tee-pie/ 🥧 Modern, user-friendly command-line HTTP client for the API era. JSON support, colors, sessions, downloads, plugins & more. https://twitter.com/httpie\"\u001b[39;49;00m,\n",
      "            \u001b[94m\"disabled\"\u001b[39;49;00m: \u001b[34mfalse\u001b[39;49;00m,\n",
      "            \u001b[94m\"downloads_url\"\u001b[39;49;00m: \u001b[33m\"https://api.github.com/repos/httpie/httpie/downloads\"\u001b[39;49;00m,\n",
      "            \u001b[94m\"events_url\"\u001b[39;49;00m: \u001b[33m\"https://api.github.com/repos/httpie/httpie/events\"\u001b[39;49;00m,\n",
      "            \u001b[94m\"fork\"\u001b[39;49;00m: \u001b[34mfalse\u001b[39;49;00m,\n",
      "            \u001b[94m\"forks\"\u001b[39;49;00m: \u001b[34m3427\u001b[39;49;00m,\n",
      "            \u001b[94m\"forks_count\"\u001b[39;49;00m: \u001b[34m3427\u001b[39;49;00m,\n",
      "            \u001b[94m\"forks_url\"\u001b[39;49;00m: \u001b[33m\"https://api.github.com/repos/httpie/httpie/forks\"\u001b[39;49;00m,\n",
      "            \u001b[94m\"full_name\"\u001b[39;49;00m: \u001b[33m\"httpie/httpie\"\u001b[39;49;00m,\n",
      "            \u001b[94m\"git_commits_url\"\u001b[39;49;00m: \u001b[33m\"https://api.github.com/repos/httpie/httpie/git/commits{/sha}\"\u001b[39;49;00m,\n",
      "            \u001b[94m\"git_refs_url\"\u001b[39;49;00m: \u001b[33m\"https://api.github.com/repos/httpie/httpie/git/refs{/sha}\"\u001b[39;49;00m,\n",
      "            \u001b[94m\"git_tags_url\"\u001b[39;49;00m: \u001b[33m\"https://api.github.com/repos/httpie/httpie/git/tags{/sha}\"\u001b[39;49;00m,\n",
      "            \u001b[94m\"git_url\"\u001b[39;49;00m: \u001b[33m\"git://github.com/httpie/httpie.git\"\u001b[39;49;00m,\n",
      "            \u001b[94m\"has_downloads\"\u001b[39;49;00m: \u001b[34mtrue\u001b[39;49;00m,\n",
      "            \u001b[94m\"has_issues\"\u001b[39;49;00m: \u001b[34mtrue\u001b[39;49;00m,\n",
      "            \u001b[94m\"has_pages\"\u001b[39;49;00m: \u001b[34mfalse\u001b[39;49;00m,\n",
      "            \u001b[94m\"has_projects\"\u001b[39;49;00m: \u001b[34mfalse\u001b[39;49;00m,\n",
      "            \u001b[94m\"has_wiki\"\u001b[39;49;00m: \u001b[34mfalse\u001b[39;49;00m,\n",
      "            \u001b[94m\"homepage\"\u001b[39;49;00m: \u001b[33m\"https://httpie.io\"\u001b[39;49;00m,\n",
      "            \u001b[94m\"hooks_url\"\u001b[39;49;00m: \u001b[33m\"https://api.github.com/repos/httpie/httpie/hooks\"\u001b[39;49;00m,\n",
      "            \u001b[94m\"html_url\"\u001b[39;49;00m: \u001b[33m\"https://github.com/httpie/httpie\"\u001b[39;49;00m,\n",
      "            \u001b[94m\"id\"\u001b[39;49;00m: \u001b[34m3544424\u001b[39;49;00m,\n",
      "            \u001b[94m\"is_template\"\u001b[39;49;00m: \u001b[34mfalse\u001b[39;49;00m,\n",
      "            \u001b[94m\"issue_comment_url\"\u001b[39;49;00m: \u001b[33m\"https://api.github.com/repos/httpie/httpie/issues/comments{/number}\"\u001b[39;49;00m,\n",
      "            \u001b[94m\"issue_events_url\"\u001b[39;49;00m: \u001b[33m\"https://api.github.com/repos/httpie/httpie/issues/events{/number}\"\u001b[39;49;00m,\n",
      "            \u001b[94m\"issues_url\"\u001b[39;49;00m: \u001b[33m\"https://api.github.com/repos/httpie/httpie/issues{/number}\"\u001b[39;49;00m,\n",
      "            \u001b[94m\"keys_url\"\u001b[39;49;00m: \u001b[33m\"https://api.github.com/repos/httpie/httpie/keys{/key_id}\"\u001b[39;49;00m,\n",
      "            \u001b[94m\"labels_url\"\u001b[39;49;00m: \u001b[33m\"https://api.github.com/repos/httpie/httpie/labels{/name}\"\u001b[39;49;00m,\n",
      "            \u001b[94m\"language\"\u001b[39;49;00m: \u001b[33m\"Python\"\u001b[39;49;00m,\n",
      "            \u001b[94m\"languages_url\"\u001b[39;49;00m: \u001b[33m\"https://api.github.com/repos/httpie/httpie/languages\"\u001b[39;49;00m,\n",
      "            \u001b[94m\"license\"\u001b[39;49;00m: {\n",
      "                \u001b[94m\"key\"\u001b[39;49;00m: \u001b[33m\"bsd-3-clause\"\u001b[39;49;00m,\n",
      "                \u001b[94m\"name\"\u001b[39;49;00m: \u001b[33m\"BSD 3-Clause \\\"New\\\" or \\\"Revised\\\" License\"\u001b[39;49;00m,\n",
      "                \u001b[94m\"node_id\"\u001b[39;49;00m: \u001b[33m\"MDc6TGljZW5zZTU=\"\u001b[39;49;00m,\n",
      "                \u001b[94m\"spdx_id\"\u001b[39;49;00m: \u001b[33m\"BSD-3-Clause\"\u001b[39;49;00m,\n",
      "                \u001b[94m\"url\"\u001b[39;49;00m: \u001b[33m\"https://api.github.com/licenses/bsd-3-clause\"\u001b[39;49;00m\n",
      "            },\n",
      "            \u001b[94m\"merges_url\"\u001b[39;49;00m: \u001b[33m\"https://api.github.com/repos/httpie/httpie/merges\"\u001b[39;49;00m,\n",
      "            \u001b[94m\"milestones_url\"\u001b[39;49;00m: \u001b[33m\"https://api.github.com/repos/httpie/httpie/milestones{/number}\"\u001b[39;49;00m,\n",
      "            \u001b[94m\"mirror_url\"\u001b[39;49;00m: \u001b[34mnull\u001b[39;49;00m,\n",
      "            \u001b[94m\"name\"\u001b[39;49;00m: \u001b[33m\"httpie\"\u001b[39;49;00m,\n",
      "            \u001b[94m\"node_id\"\u001b[39;49;00m: \u001b[33m\"MDEwOlJlcG9zaXRvcnkzNTQ0NDI0\"\u001b[39;49;00m,\n",
      "            \u001b[94m\"notifications_url\"\u001b[39;49;00m: \u001b[33m\"https://api.github.com/repos/httpie/httpie/notifications{?since,all,participating}\"\u001b[39;49;00m,\n",
      "            \u001b[94m\"open_issues\"\u001b[39;49;00m: \u001b[34m105\u001b[39;49;00m,\n",
      "            \u001b[94m\"open_issues_count\"\u001b[39;49;00m: \u001b[34m105\u001b[39;49;00m,\n",
      "            \u001b[94m\"owner\"\u001b[39;49;00m: {\n",
      "                \u001b[94m\"avatar_url\"\u001b[39;49;00m: \u001b[33m\"https://avatars.githubusercontent.com/u/24454777?v=4\"\u001b[39;49;00m,\n",
      "                \u001b[94m\"events_url\"\u001b[39;49;00m: \u001b[33m\"https://api.github.com/users/httpie/events{/privacy}\"\u001b[39;49;00m,\n",
      "                \u001b[94m\"followers_url\"\u001b[39;49;00m: \u001b[33m\"https://api.github.com/users/httpie/followers\"\u001b[39;49;00m,\n",
      "                \u001b[94m\"following_url\"\u001b[39;49;00m: \u001b[33m\"https://api.github.com/users/httpie/following{/other_user}\"\u001b[39;49;00m,\n",
      "                \u001b[94m\"gists_url\"\u001b[39;49;00m: \u001b[33m\"https://api.github.com/users/httpie/gists{/gist_id}\"\u001b[39;49;00m,\n",
      "                \u001b[94m\"gravatar_id\"\u001b[39;49;00m: \u001b[33m\"\"\u001b[39;49;00m,\n",
      "                \u001b[94m\"html_url\"\u001b[39;49;00m: \u001b[33m\"https://github.com/httpie\"\u001b[39;49;00m,\n",
      "                \u001b[94m\"id\"\u001b[39;49;00m: \u001b[34m24454777\u001b[39;49;00m,\n",
      "                \u001b[94m\"login\"\u001b[39;49;00m: \u001b[33m\"httpie\"\u001b[39;49;00m,\n",
      "                \u001b[94m\"node_id\"\u001b[39;49;00m: \u001b[33m\"MDEyOk9yZ2FuaXphdGlvbjI0NDU0Nzc3\"\u001b[39;49;00m,\n",
      "                \u001b[94m\"organizations_url\"\u001b[39;49;00m: \u001b[33m\"https://api.github.com/users/httpie/orgs\"\u001b[39;49;00m,\n",
      "                \u001b[94m\"received_events_url\"\u001b[39;49;00m: \u001b[33m\"https://api.github.com/users/httpie/received_events\"\u001b[39;49;00m,\n",
      "                \u001b[94m\"repos_url\"\u001b[39;49;00m: \u001b[33m\"https://api.github.com/users/httpie/repos\"\u001b[39;49;00m,\n",
      "                \u001b[94m\"site_admin\"\u001b[39;49;00m: \u001b[34mfalse\u001b[39;49;00m,\n",
      "                \u001b[94m\"starred_url\"\u001b[39;49;00m: \u001b[33m\"https://api.github.com/users/httpie/starred{/owner}{/repo}\"\u001b[39;49;00m,\n",
      "                \u001b[94m\"subscriptions_url\"\u001b[39;49;00m: \u001b[33m\"https://api.github.com/users/httpie/subscriptions\"\u001b[39;49;00m,\n",
      "                \u001b[94m\"type\"\u001b[39;49;00m: \u001b[33m\"Organization\"\u001b[39;49;00m,\n",
      "                \u001b[94m\"url\"\u001b[39;49;00m: \u001b[33m\"https://api.github.com/users/httpie\"\u001b[39;49;00m\n",
      "            },\n",
      "            \u001b[94m\"private\"\u001b[39;49;00m: \u001b[34mfalse\u001b[39;49;00m,\n",
      "            \u001b[94m\"pulls_url\"\u001b[39;49;00m: \u001b[33m\"https://api.github.com/repos/httpie/httpie/pulls{/number}\"\u001b[39;49;00m,\n",
      "            \u001b[94m\"pushed_at\"\u001b[39;49;00m: \u001b[33m\"2021-12-24T08:54:11Z\"\u001b[39;49;00m,\n",
      "            \u001b[94m\"releases_url\"\u001b[39;49;00m: \u001b[33m\"https://api.github.com/repos/httpie/httpie/releases{/id}\"\u001b[39;49;00m,\n",
      "            \u001b[94m\"score\"\u001b[39;49;00m: \u001b[34m1.0\u001b[39;49;00m,\n",
      "            \u001b[94m\"size\"\u001b[39;49;00m: \u001b[34m6487\u001b[39;49;00m,\n",
      "            \u001b[94m\"ssh_url\"\u001b[39;49;00m: \u001b[33m\"git@github.com:httpie/httpie.git\"\u001b[39;49;00m,\n",
      "            \u001b[94m\"stargazers_count\"\u001b[39;49;00m: \u001b[34m53108\u001b[39;49;00m,\n",
      "            \u001b[94m\"stargazers_url\"\u001b[39;49;00m: \u001b[33m\"https://api.github.com/repos/httpie/httpie/stargazers\"\u001b[39;49;00m,\n",
      "            \u001b[94m\"statuses_url\"\u001b[39;49;00m: \u001b[33m\"https://api.github.com/repos/httpie/httpie/statuses/{sha}\"\u001b[39;49;00m,\n",
      "            \u001b[94m\"subscribers_url\"\u001b[39;49;00m: \u001b[33m\"https://api.github.com/repos/httpie/httpie/subscribers\"\u001b[39;49;00m,\n",
      "            \u001b[94m\"subscription_url\"\u001b[39;49;00m: \u001b[33m\"https://api.github.com/repos/httpie/httpie/subscription\"\u001b[39;49;00m,\n",
      "            \u001b[94m\"svn_url\"\u001b[39;49;00m: \u001b[33m\"https://github.com/httpie/httpie\"\u001b[39;49;00m,\n",
      "            \u001b[94m\"tags_url\"\u001b[39;49;00m: \u001b[33m\"https://api.github.com/repos/httpie/httpie/tags\"\u001b[39;49;00m,\n",
      "            \u001b[94m\"teams_url\"\u001b[39;49;00m: \u001b[33m\"https://api.github.com/repos/httpie/httpie/teams\"\u001b[39;49;00m,\n",
      "            \u001b[94m\"topics\"\u001b[39;49;00m: [\n",
      "                \u001b[33m\"api\"\u001b[39;49;00m,\n",
      "                \u001b[33m\"api-client\"\u001b[39;49;00m,\n",
      "                \u001b[33m\"api-testing\"\u001b[39;49;00m,\n",
      "                \u001b[33m\"cli\"\u001b[39;49;00m,\n",
      "                \u001b[33m\"client\"\u001b[39;49;00m,\n",
      "                \u001b[33m\"curl\"\u001b[39;49;00m,\n",
      "                \u001b[33m\"debugging\"\u001b[39;49;00m,\n",
      "                \u001b[33m\"developer-tools\"\u001b[39;49;00m,\n",
      "                \u001b[33m\"development\"\u001b[39;49;00m,\n",
      "                \u001b[33m\"devops\"\u001b[39;49;00m,\n",
      "                \u001b[33m\"http\"\u001b[39;49;00m,\n",
      "                \u001b[33m\"http-client\"\u001b[39;49;00m,\n",
      "                \u001b[33m\"httpie\"\u001b[39;49;00m,\n",
      "                \u001b[33m\"json\"\u001b[39;49;00m,\n",
      "                \u001b[33m\"python\"\u001b[39;49;00m,\n",
      "                \u001b[33m\"rest\"\u001b[39;49;00m,\n",
      "                \u001b[33m\"rest-api\"\u001b[39;49;00m,\n",
      "                \u001b[33m\"terminal\"\u001b[39;49;00m,\n",
      "                \u001b[33m\"usability\"\u001b[39;49;00m,\n",
      "                \u001b[33m\"web\"\u001b[39;49;00m\n",
      "            ],\n",
      "            \u001b[94m\"trees_url\"\u001b[39;49;00m: \u001b[33m\"https://api.github.com/repos/httpie/httpie/git/trees{/sha}\"\u001b[39;49;00m,\n",
      "            \u001b[94m\"updated_at\"\u001b[39;49;00m: \u001b[33m\"2021-12-24T11:29:15Z\"\u001b[39;49;00m,\n",
      "            \u001b[94m\"url\"\u001b[39;49;00m: \u001b[33m\"https://api.github.com/repos/httpie/httpie\"\u001b[39;49;00m,\n",
      "            \u001b[94m\"visibility\"\u001b[39;49;00m: \u001b[33m\"public\"\u001b[39;49;00m,\n",
      "            \u001b[94m\"watchers\"\u001b[39;49;00m: \u001b[34m53108\u001b[39;49;00m,\n",
      "            \u001b[94m\"watchers_count\"\u001b[39;49;00m: \u001b[34m53108\u001b[39;49;00m\n",
      "        }\n",
      "    ],\n",
      "    \u001b[94m\"total_count\"\u001b[39;49;00m: \u001b[34m302\u001b[39;49;00m\n",
      "}\n",
      "\n",
      "\n",
      "\u001b[34mHTTP\u001b[39;49;00m/\u001b[34m1.1\u001b[39;49;00m \u001b[34m200\u001b[39;49;00m \u001b[36mOK\u001b[39;49;00m\n",
      "\u001b[36mAccept-Ranges\u001b[39;49;00m: bytes\n",
      "\u001b[36mAccess-Control-Allow-Origin\u001b[39;49;00m: *\n",
      "\u001b[36mAccess-Control-Expose-Headers\u001b[39;49;00m: ETag, Link, Location, Retry-After, X-GitHub-OTP, X-RateLimit-Limit, X-RateLimit-Remaining, X-RateLimit-Used, X-RateLimit-Resource, X-RateLimit-Reset, X-OAuth-Scopes, X-Accepted-OAuth-Scopes, X-Poll-Interval, X-GitHub-Media-Type, X-GitHub-SSO, X-GitHub-Request-Id, Deprecation, Sunset\n",
      "\u001b[36mCache-Control\u001b[39;49;00m: no-cache\n",
      "\u001b[36mContent-Encoding\u001b[39;49;00m: gzip\n",
      "\u001b[36mContent-Length\u001b[39;49;00m: 1557\n",
      "\u001b[36mContent-Security-Policy\u001b[39;49;00m: default-src 'none'\n",
      "\u001b[36mContent-Type\u001b[39;49;00m: application/json; charset=utf-8\n",
      "\u001b[36mDate\u001b[39;49;00m: Fri, 24 Dec 2021 12:04:32 GMT\n",
      "\u001b[36mLink\u001b[39;49;00m: <https://api.github.com/search/repositories?q=httpie&per_page=1&page=2>; rel=\"next\", <https://api.github.com/search/repositories?q=httpie&per_page=1&page=302>; rel=\"last\"\n",
      "\u001b[36mReferrer-Policy\u001b[39;49;00m: origin-when-cross-origin, strict-origin-when-cross-origin\n",
      "\u001b[36mServer\u001b[39;49;00m: GitHub.com\n",
      "\u001b[36mStrict-Transport-Security\u001b[39;49;00m: max-age=31536000; includeSubdomains; preload\n",
      "\u001b[36mVary\u001b[39;49;00m: Accept, Accept-Encoding, Accept, X-Requested-With\n",
      "\u001b[36mX-Content-Type-Options\u001b[39;49;00m: nosniff\n",
      "\u001b[36mX-Frame-Options\u001b[39;49;00m: deny\n",
      "\u001b[36mX-GitHub-Media-Type\u001b[39;49;00m: github.v3; format=json\n",
      "\u001b[36mX-GitHub-Request-Id\u001b[39;49;00m: A06F:6126:16DC3:564B2:61C5B751\n",
      "\u001b[36mX-RateLimit-Limit\u001b[39;49;00m: 10\n",
      "\u001b[36mX-RateLimit-Remaining\u001b[39;49;00m: 8\n",
      "\u001b[36mX-RateLimit-Reset\u001b[39;49;00m: 1640347532\n",
      "\u001b[36mX-RateLimit-Resource\u001b[39;49;00m: search\n",
      "\u001b[36mX-RateLimit-Used\u001b[39;49;00m: 2\n",
      "\u001b[36mX-XSS-Protection\u001b[39;49;00m: 0\n",
      "\n",
      "{\n",
      "    \u001b[94m\"incomplete_results\"\u001b[39;49;00m: \u001b[34mfalse\u001b[39;49;00m,\n",
      "    \u001b[94m\"items\"\u001b[39;49;00m: [\n",
      "        {\n",
      "            \u001b[94m\"allow_forking\"\u001b[39;49;00m: \u001b[34mtrue\u001b[39;49;00m,\n",
      "            \u001b[94m\"archive_url\"\u001b[39;49;00m: \u001b[33m\"https://api.github.com/repos/httpie/httpie/{archive_format}{/ref}\"\u001b[39;49;00m,\n",
      "            \u001b[94m\"archived\"\u001b[39;49;00m: \u001b[34mfalse\u001b[39;49;00m,\n",
      "            \u001b[94m\"assignees_url\"\u001b[39;49;00m: \u001b[33m\"https://api.github.com/repos/httpie/httpie/assignees{/user}\"\u001b[39;49;00m,\n",
      "            \u001b[94m\"blobs_url\"\u001b[39;49;00m: \u001b[33m\"https://api.github.com/repos/httpie/httpie/git/blobs{/sha}\"\u001b[39;49;00m,\n",
      "            \u001b[94m\"branches_url\"\u001b[39;49;00m: \u001b[33m\"https://api.github.com/repos/httpie/httpie/branches{/branch}\"\u001b[39;49;00m,\n",
      "            \u001b[94m\"clone_url\"\u001b[39;49;00m: \u001b[33m\"https://github.com/httpie/httpie.git\"\u001b[39;49;00m,\n",
      "            \u001b[94m\"collaborators_url\"\u001b[39;49;00m: \u001b[33m\"https://api.github.com/repos/httpie/httpie/collaborators{/collaborator}\"\u001b[39;49;00m,\n",
      "            \u001b[94m\"comments_url\"\u001b[39;49;00m: \u001b[33m\"https://api.github.com/repos/httpie/httpie/comments{/number}\"\u001b[39;49;00m,\n",
      "            \u001b[94m\"commits_url\"\u001b[39;49;00m: \u001b[33m\"https://api.github.com/repos/httpie/httpie/commits{/sha}\"\u001b[39;49;00m,\n",
      "            \u001b[94m\"compare_url\"\u001b[39;49;00m: \u001b[33m\"https://api.github.com/repos/httpie/httpie/compare/{base}...{head}\"\u001b[39;49;00m,\n",
      "            \u001b[94m\"contents_url\"\u001b[39;49;00m: \u001b[33m\"https://api.github.com/repos/httpie/httpie/contents/{+path}\"\u001b[39;49;00m,\n",
      "            \u001b[94m\"contributors_url\"\u001b[39;49;00m: \u001b[33m\"https://api.github.com/repos/httpie/httpie/contributors\"\u001b[39;49;00m,\n",
      "            \u001b[94m\"created_at\"\u001b[39;49;00m: \u001b[33m\"2012-02-25T12:39:13Z\"\u001b[39;49;00m,\n",
      "            \u001b[94m\"default_branch\"\u001b[39;49;00m: \u001b[33m\"master\"\u001b[39;49;00m,\n",
      "            \u001b[94m\"deployments_url\"\u001b[39;49;00m: \u001b[33m\"https://api.github.com/repos/httpie/httpie/deployments\"\u001b[39;49;00m,\n",
      "            \u001b[94m\"description\"\u001b[39;49;00m: \u001b[33m\"As easy as /aitch-tee-tee-pie/ 🥧 Modern, user-friendly command-line HTTP client for the API era. JSON support, colors, sessions, downloads, plugins & more. https://twitter.com/httpie\"\u001b[39;49;00m,\n",
      "            \u001b[94m\"disabled\"\u001b[39;49;00m: \u001b[34mfalse\u001b[39;49;00m,\n",
      "            \u001b[94m\"downloads_url\"\u001b[39;49;00m: \u001b[33m\"https://api.github.com/repos/httpie/httpie/downloads\"\u001b[39;49;00m,\n",
      "            \u001b[94m\"events_url\"\u001b[39;49;00m: \u001b[33m\"https://api.github.com/repos/httpie/httpie/events\"\u001b[39;49;00m,\n",
      "            \u001b[94m\"fork\"\u001b[39;49;00m: \u001b[34mfalse\u001b[39;49;00m,\n",
      "            \u001b[94m\"forks\"\u001b[39;49;00m: \u001b[34m3427\u001b[39;49;00m,\n",
      "            \u001b[94m\"forks_count\"\u001b[39;49;00m: \u001b[34m3427\u001b[39;49;00m,\n",
      "            \u001b[94m\"forks_url\"\u001b[39;49;00m: \u001b[33m\"https://api.github.com/repos/httpie/httpie/forks\"\u001b[39;49;00m,\n",
      "            \u001b[94m\"full_name\"\u001b[39;49;00m: \u001b[33m\"httpie/httpie\"\u001b[39;49;00m,\n",
      "            \u001b[94m\"git_commits_url\"\u001b[39;49;00m: \u001b[33m\"https://api.github.com/repos/httpie/httpie/git/commits{/sha}\"\u001b[39;49;00m,\n",
      "            \u001b[94m\"git_refs_url\"\u001b[39;49;00m: \u001b[33m\"https://api.github.com/repos/httpie/httpie/git/refs{/sha}\"\u001b[39;49;00m,\n",
      "            \u001b[94m\"git_tags_url\"\u001b[39;49;00m: \u001b[33m\"https://api.github.com/repos/httpie/httpie/git/tags{/sha}\"\u001b[39;49;00m,\n",
      "            \u001b[94m\"git_url\"\u001b[39;49;00m: \u001b[33m\"git://github.com/httpie/httpie.git\"\u001b[39;49;00m,\n",
      "            \u001b[94m\"has_downloads\"\u001b[39;49;00m: \u001b[34mtrue\u001b[39;49;00m,\n",
      "            \u001b[94m\"has_issues\"\u001b[39;49;00m: \u001b[34mtrue\u001b[39;49;00m,\n",
      "            \u001b[94m\"has_pages\"\u001b[39;49;00m: \u001b[34mfalse\u001b[39;49;00m,\n",
      "            \u001b[94m\"has_projects\"\u001b[39;49;00m: \u001b[34mfalse\u001b[39;49;00m,\n",
      "            \u001b[94m\"has_wiki\"\u001b[39;49;00m: \u001b[34mfalse\u001b[39;49;00m,\n",
      "            \u001b[94m\"homepage\"\u001b[39;49;00m: \u001b[33m\"https://httpie.io\"\u001b[39;49;00m,\n",
      "            \u001b[94m\"hooks_url\"\u001b[39;49;00m: \u001b[33m\"https://api.github.com/repos/httpie/httpie/hooks\"\u001b[39;49;00m,\n",
      "            \u001b[94m\"html_url\"\u001b[39;49;00m: \u001b[33m\"https://github.com/httpie/httpie\"\u001b[39;49;00m,\n",
      "            \u001b[94m\"id\"\u001b[39;49;00m: \u001b[34m3544424\u001b[39;49;00m,\n",
      "            \u001b[94m\"is_template\"\u001b[39;49;00m: \u001b[34mfalse\u001b[39;49;00m,\n",
      "            \u001b[94m\"issue_comment_url\"\u001b[39;49;00m: \u001b[33m\"https://api.github.com/repos/httpie/httpie/issues/comments{/number}\"\u001b[39;49;00m,\n",
      "            \u001b[94m\"issue_events_url\"\u001b[39;49;00m: \u001b[33m\"https://api.github.com/repos/httpie/httpie/issues/events{/number}\"\u001b[39;49;00m,\n",
      "            \u001b[94m\"issues_url\"\u001b[39;49;00m: \u001b[33m\"https://api.github.com/repos/httpie/httpie/issues{/number}\"\u001b[39;49;00m,\n",
      "            \u001b[94m\"keys_url\"\u001b[39;49;00m: \u001b[33m\"https://api.github.com/repos/httpie/httpie/keys{/key_id}\"\u001b[39;49;00m,\n",
      "            \u001b[94m\"labels_url\"\u001b[39;49;00m: \u001b[33m\"https://api.github.com/repos/httpie/httpie/labels{/name}\"\u001b[39;49;00m,\n",
      "            \u001b[94m\"language\"\u001b[39;49;00m: \u001b[33m\"Python\"\u001b[39;49;00m,\n",
      "            \u001b[94m\"languages_url\"\u001b[39;49;00m: \u001b[33m\"https://api.github.com/repos/httpie/httpie/languages\"\u001b[39;49;00m,\n",
      "            \u001b[94m\"license\"\u001b[39;49;00m: {\n",
      "                \u001b[94m\"key\"\u001b[39;49;00m: \u001b[33m\"bsd-3-clause\"\u001b[39;49;00m,\n",
      "                \u001b[94m\"name\"\u001b[39;49;00m: \u001b[33m\"BSD 3-Clause \\\"New\\\" or \\\"Revised\\\" License\"\u001b[39;49;00m,\n",
      "                \u001b[94m\"node_id\"\u001b[39;49;00m: \u001b[33m\"MDc6TGljZW5zZTU=\"\u001b[39;49;00m,\n",
      "                \u001b[94m\"spdx_id\"\u001b[39;49;00m: \u001b[33m\"BSD-3-Clause\"\u001b[39;49;00m,\n",
      "                \u001b[94m\"url\"\u001b[39;49;00m: \u001b[33m\"https://api.github.com/licenses/bsd-3-clause\"\u001b[39;49;00m\n",
      "            },\n",
      "            \u001b[94m\"merges_url\"\u001b[39;49;00m: \u001b[33m\"https://api.github.com/repos/httpie/httpie/merges\"\u001b[39;49;00m,\n",
      "            \u001b[94m\"milestones_url\"\u001b[39;49;00m: \u001b[33m\"https://api.github.com/repos/httpie/httpie/milestones{/number}\"\u001b[39;49;00m,\n",
      "            \u001b[94m\"mirror_url\"\u001b[39;49;00m: \u001b[34mnull\u001b[39;49;00m,\n",
      "            \u001b[94m\"name\"\u001b[39;49;00m: \u001b[33m\"httpie\"\u001b[39;49;00m,\n",
      "            \u001b[94m\"node_id\"\u001b[39;49;00m: \u001b[33m\"MDEwOlJlcG9zaXRvcnkzNTQ0NDI0\"\u001b[39;49;00m,\n",
      "            \u001b[94m\"notifications_url\"\u001b[39;49;00m: \u001b[33m\"https://api.github.com/repos/httpie/httpie/notifications{?since,all,participating}\"\u001b[39;49;00m,\n",
      "            \u001b[94m\"open_issues\"\u001b[39;49;00m: \u001b[34m105\u001b[39;49;00m,\n",
      "            \u001b[94m\"open_issues_count\"\u001b[39;49;00m: \u001b[34m105\u001b[39;49;00m,\n",
      "            \u001b[94m\"owner\"\u001b[39;49;00m: {\n",
      "                \u001b[94m\"avatar_url\"\u001b[39;49;00m: \u001b[33m\"https://avatars.githubusercontent.com/u/24454777?v=4\"\u001b[39;49;00m,\n",
      "                \u001b[94m\"events_url\"\u001b[39;49;00m: \u001b[33m\"https://api.github.com/users/httpie/events{/privacy}\"\u001b[39;49;00m,\n",
      "                \u001b[94m\"followers_url\"\u001b[39;49;00m: \u001b[33m\"https://api.github.com/users/httpie/followers\"\u001b[39;49;00m,\n",
      "                \u001b[94m\"following_url\"\u001b[39;49;00m: \u001b[33m\"https://api.github.com/users/httpie/following{/other_user}\"\u001b[39;49;00m,\n",
      "                \u001b[94m\"gists_url\"\u001b[39;49;00m: \u001b[33m\"https://api.github.com/users/httpie/gists{/gist_id}\"\u001b[39;49;00m,\n",
      "                \u001b[94m\"gravatar_id\"\u001b[39;49;00m: \u001b[33m\"\"\u001b[39;49;00m,\n",
      "                \u001b[94m\"html_url\"\u001b[39;49;00m: \u001b[33m\"https://github.com/httpie\"\u001b[39;49;00m,\n",
      "                \u001b[94m\"id\"\u001b[39;49;00m: \u001b[34m24454777\u001b[39;49;00m,\n",
      "                \u001b[94m\"login\"\u001b[39;49;00m: \u001b[33m\"httpie\"\u001b[39;49;00m,\n",
      "                \u001b[94m\"node_id\"\u001b[39;49;00m: \u001b[33m\"MDEyOk9yZ2FuaXphdGlvbjI0NDU0Nzc3\"\u001b[39;49;00m,\n",
      "                \u001b[94m\"organizations_url\"\u001b[39;49;00m: \u001b[33m\"https://api.github.com/users/httpie/orgs\"\u001b[39;49;00m,\n",
      "                \u001b[94m\"received_events_url\"\u001b[39;49;00m: \u001b[33m\"https://api.github.com/users/httpie/received_events\"\u001b[39;49;00m,\n",
      "                \u001b[94m\"repos_url\"\u001b[39;49;00m: \u001b[33m\"https://api.github.com/users/httpie/repos\"\u001b[39;49;00m,\n",
      "                \u001b[94m\"site_admin\"\u001b[39;49;00m: \u001b[34mfalse\u001b[39;49;00m,\n",
      "                \u001b[94m\"starred_url\"\u001b[39;49;00m: \u001b[33m\"https://api.github.com/users/httpie/starred{/owner}{/repo}\"\u001b[39;49;00m,\n",
      "                \u001b[94m\"subscriptions_url\"\u001b[39;49;00m: \u001b[33m\"https://api.github.com/users/httpie/subscriptions\"\u001b[39;49;00m,\n",
      "                \u001b[94m\"type\"\u001b[39;49;00m: \u001b[33m\"Organization\"\u001b[39;49;00m,\n",
      "                \u001b[94m\"url\"\u001b[39;49;00m: \u001b[33m\"https://api.github.com/users/httpie\"\u001b[39;49;00m\n",
      "            },\n",
      "            \u001b[94m\"private\"\u001b[39;49;00m: \u001b[34mfalse\u001b[39;49;00m,\n",
      "            \u001b[94m\"pulls_url\"\u001b[39;49;00m: \u001b[33m\"https://api.github.com/repos/httpie/httpie/pulls{/number}\"\u001b[39;49;00m,\n",
      "            \u001b[94m\"pushed_at\"\u001b[39;49;00m: \u001b[33m\"2021-12-24T08:54:11Z\"\u001b[39;49;00m,\n",
      "            \u001b[94m\"releases_url\"\u001b[39;49;00m: \u001b[33m\"https://api.github.com/repos/httpie/httpie/releases{/id}\"\u001b[39;49;00m,\n",
      "            \u001b[94m\"score\"\u001b[39;49;00m: \u001b[34m1.0\u001b[39;49;00m,\n",
      "            \u001b[94m\"size\"\u001b[39;49;00m: \u001b[34m6487\u001b[39;49;00m,\n",
      "            \u001b[94m\"ssh_url\"\u001b[39;49;00m: \u001b[33m\"git@github.com:httpie/httpie.git\"\u001b[39;49;00m,\n",
      "            \u001b[94m\"stargazers_count\"\u001b[39;49;00m: \u001b[34m53108\u001b[39;49;00m,\n",
      "            \u001b[94m\"stargazers_url\"\u001b[39;49;00m: \u001b[33m\"https://api.github.com/repos/httpie/httpie/stargazers\"\u001b[39;49;00m,\n",
      "            \u001b[94m\"statuses_url\"\u001b[39;49;00m: \u001b[33m\"https://api.github.com/repos/httpie/httpie/statuses/{sha}\"\u001b[39;49;00m,\n",
      "            \u001b[94m\"subscribers_url\"\u001b[39;49;00m: \u001b[33m\"https://api.github.com/repos/httpie/httpie/subscribers\"\u001b[39;49;00m,\n",
      "            \u001b[94m\"subscription_url\"\u001b[39;49;00m: \u001b[33m\"https://api.github.com/repos/httpie/httpie/subscription\"\u001b[39;49;00m,\n",
      "            \u001b[94m\"svn_url\"\u001b[39;49;00m: \u001b[33m\"https://github.com/httpie/httpie\"\u001b[39;49;00m,\n",
      "            \u001b[94m\"tags_url\"\u001b[39;49;00m: \u001b[33m\"https://api.github.com/repos/httpie/httpie/tags\"\u001b[39;49;00m,\n",
      "            \u001b[94m\"teams_url\"\u001b[39;49;00m: \u001b[33m\"https://api.github.com/repos/httpie/httpie/teams\"\u001b[39;49;00m,\n",
      "            \u001b[94m\"topics\"\u001b[39;49;00m: [\n",
      "                \u001b[33m\"api\"\u001b[39;49;00m,\n",
      "                \u001b[33m\"api-client\"\u001b[39;49;00m,\n",
      "                \u001b[33m\"api-testing\"\u001b[39;49;00m,\n",
      "                \u001b[33m\"cli\"\u001b[39;49;00m,\n",
      "                \u001b[33m\"client\"\u001b[39;49;00m,\n",
      "                \u001b[33m\"curl\"\u001b[39;49;00m,\n",
      "                \u001b[33m\"debugging\"\u001b[39;49;00m,\n",
      "                \u001b[33m\"developer-tools\"\u001b[39;49;00m,\n",
      "                \u001b[33m\"development\"\u001b[39;49;00m,\n",
      "                \u001b[33m\"devops\"\u001b[39;49;00m,\n",
      "                \u001b[33m\"http\"\u001b[39;49;00m,\n",
      "                \u001b[33m\"http-client\"\u001b[39;49;00m,\n",
      "                \u001b[33m\"httpie\"\u001b[39;49;00m,\n",
      "                \u001b[33m\"json\"\u001b[39;49;00m,\n",
      "                \u001b[33m\"python\"\u001b[39;49;00m,\n",
      "                \u001b[33m\"rest\"\u001b[39;49;00m,\n",
      "                \u001b[33m\"rest-api\"\u001b[39;49;00m,\n",
      "                \u001b[33m\"terminal\"\u001b[39;49;00m,\n",
      "                \u001b[33m\"usability\"\u001b[39;49;00m,\n",
      "                \u001b[33m\"web\"\u001b[39;49;00m\n",
      "            ],\n",
      "            \u001b[94m\"trees_url\"\u001b[39;49;00m: \u001b[33m\"https://api.github.com/repos/httpie/httpie/git/trees{/sha}\"\u001b[39;49;00m,\n",
      "            \u001b[94m\"updated_at\"\u001b[39;49;00m: \u001b[33m\"2021-12-24T11:29:15Z\"\u001b[39;49;00m,\n",
      "            \u001b[94m\"url\"\u001b[39;49;00m: \u001b[33m\"https://api.github.com/repos/httpie/httpie\"\u001b[39;49;00m,\n",
      "            \u001b[94m\"visibility\"\u001b[39;49;00m: \u001b[33m\"public\"\u001b[39;49;00m,\n",
      "            \u001b[94m\"watchers\"\u001b[39;49;00m: \u001b[34m53108\u001b[39;49;00m,\n",
      "            \u001b[94m\"watchers_count\"\u001b[39;49;00m: \u001b[34m53108\u001b[39;49;00m\n",
      "        }\n",
      "    ],\n",
      "    \u001b[94m\"total_count\"\u001b[39;49;00m: \u001b[34m302\u001b[39;49;00m\n",
      "}\n",
      "\n",
      "\n"
     ]
    }
   ],
   "source": [
    "!http https://api.github.com/search/repositories q==httpie per_page==1\n",
    "!http \"https://api.github.com/search/repositories?q=httpie&per_page=1\""
   ]
  },
  {
   "cell_type": "markdown",
   "metadata": {},
   "source": [
    "### URL shortcuts for localhost"
   ]
  },
  {
   "cell_type": "markdown",
   "metadata": {},
   "source": [
    "Shorthand for `localhost` is supported. For example, `:8000` would expand to `http://localhost:8000`. If the port is omitted, then port 80 is assumed."
   ]
  },
  {
   "cell_type": "code",
   "execution_count": 28,
   "metadata": {},
   "outputs": [
    {
     "name": "stdout",
     "output_type": "stream",
     "text": [
      "\u001b[34mHTTP\u001b[39;49;00m/\u001b[34m1.1\u001b[39;49;00m \u001b[34m404\u001b[39;49;00m \u001b[36mNot Found\u001b[39;49;00m\n",
      "\u001b[36mcontent-length\u001b[39;49;00m: 22\n",
      "\u001b[36mcontent-type\u001b[39;49;00m: application/json\n",
      "\u001b[36mdate\u001b[39;49;00m: Fri, 24 Dec 2021 12:04:33 GMT\n",
      "\u001b[36mserver\u001b[39;49;00m: uvicorn\n",
      "\n",
      "{\n",
      "    \u001b[94m\"detail\"\u001b[39;49;00m: \u001b[33m\"Not Found\"\u001b[39;49;00m\n",
      "}\n",
      "\n",
      "\n"
     ]
    }
   ],
   "source": [
    "!http :8000"
   ]
  },
  {
   "cell_type": "markdown",
   "metadata": {},
   "source": [
    "## Automatic documentation"
   ]
  },
  {
   "cell_type": "markdown",
   "metadata": {},
   "source": [
    "One of the most beloved features of FastAPI is the automatic interactive documentation.\n",
    "If you open `http://localhost:8000/docs` in your browser, you should get a web\n",
    "interface that looks similar to the following screenshot:"
   ]
  },
  {
   "cell_type": "markdown",
   "metadata": {},
   "source": [
    "```{figure} ../../img/fastapi-docs.png\n",
    "---\n",
    "width: 40em\n",
    "name: fastapi-docs\n",
    "---\n",
    "\n",
    "```"
   ]
  },
  {
   "cell_type": "markdown",
   "metadata": {},
   "source": [
    "FastAPI automatically lists all defined endpoints and provide documentation about the expected inputs and outputs. You can even try each endpoint directly in this web interface."
   ]
  },
  {
   "cell_type": "markdown",
   "metadata": {},
   "source": [
    "## Handling request parameters"
   ]
  },
  {
   "cell_type": "markdown",
   "metadata": {},
   "source": [
    "The main goal of a REST API is to provide a structured way \n",
    "   in which to interact with data. As such, it's crucial for the end user to send some \n",
    "   information to tailor the response they need, such as \n",
    "\n",
    "   - path parameters,\n",
    "   - query parameters, \n",
    "   - body payloads, or \n",
    "   - headers."
   ]
  },
  {
   "cell_type": "markdown",
   "metadata": {},
   "source": [
    "To handle them, usually, web frameworks ask you to manipulate a request object to retrieve \n",
    "   the parts you are interested in and manually apply validation. However, that's not necessary \n",
    "   with FastAPI. Indeed, it allows you to define all of your parameters declaratively. Then, \n",
    "   it'll automatically retrieve them in the request and apply validations based on the type \n",
    "   hints as we will see below."
   ]
  },
  {
   "cell_type": "markdown",
   "metadata": {},
   "source": [
    "### Path parameters"
   ]
  },
  {
   "cell_type": "markdown",
   "metadata": {},
   "source": [
    "We can have dynamic parameters in our paths which can then be passed to the path function. For example:\n",
    "\n",
    "```python\n",
    "# chapter3_path_parameters_01.py\n",
    "\n",
    "@app.get(\"/users/{id}\")\n",
    "async def get_user(id: int):\n",
    "    return {\"id\": id}\n",
    "```"
   ]
  },
  {
   "cell_type": "markdown",
   "metadata": {},
   "source": [
    "Then, we can make the following request for `id=123` (or for any other integer):"
   ]
  },
  {
   "cell_type": "code",
   "execution_count": 29,
   "metadata": {},
   "outputs": [
    {
     "name": "stdout",
     "output_type": "stream",
     "text": [
      "\u001b[34mHTTP\u001b[39;49;00m/\u001b[34m1.1\u001b[39;49;00m \u001b[34m404\u001b[39;49;00m \u001b[36mNot Found\u001b[39;49;00m\n",
      "\u001b[36mcontent-length\u001b[39;49;00m: 22\n",
      "\u001b[36mcontent-type\u001b[39;49;00m: application/json\n",
      "\u001b[36mdate\u001b[39;49;00m: Fri, 24 Dec 2021 12:04:34 GMT\n",
      "\u001b[36mserver\u001b[39;49;00m: uvicorn\n",
      "\n",
      "{\n",
      "    \u001b[94m\"detail\"\u001b[39;49;00m: \u001b[33m\"Not Found\"\u001b[39;49;00m\n",
      "}\n",
      "\n",
      "\n"
     ]
    }
   ],
   "source": [
    "!http :8000/users/123"
   ]
  },
  {
   "cell_type": "markdown",
   "metadata": {},
   "source": [
    "Notice the **type hint** in the path parameter `id`. If we pass a string into `id`, we get a response with a 422 status! Since this cannot be converted as a valid integer, the validation fails and outputs an error. All we need to do to trigger this validation is to type hint our parameter! Very cool."
   ]
  },
  {
   "cell_type": "markdown",
   "metadata": {},
   "source": [
    "#### Validation logic for path parameters\n",
    "\n",
    "**Enumeration**. In the example below, `type` is a categorical parameter with two accepted values. We inherit from the `str` type and `Enum` class to facilitate the intended typing. We simply list the property name and its actual string value. "
   ]
  },
  {
   "cell_type": "markdown",
   "metadata": {},
   "source": [
    "```python\n",
    "# chapter3_path_parameters_02.py\n",
    "\n",
    "class UserType(str, Enum):\n",
    "    STANDARD = \"standard\"\n",
    "    ADMIN = \"admin\"\n",
    "\n",
    "\n",
    "@app.get(\"/users/{type}/{id}\")\n",
    "async def get_user(id: int, type: UserType):\n",
    "    return {\"id\": id, \"type\": type}\n",
    "```\n"
   ]
  },
  {
   "cell_type": "markdown",
   "metadata": {},
   "source": [
    "Note that the actual string value is what is passed in the `type` parameter (not the property name). If we pass a value that is not in the enumeration, we get an error."
   ]
  },
  {
   "cell_type": "code",
   "execution_count": 30,
   "metadata": {},
   "outputs": [
    {
     "name": "stdout",
     "output_type": "stream",
     "text": [
      "\u001b[34mHTTP\u001b[39;49;00m/\u001b[34m1.1\u001b[39;49;00m \u001b[34m404\u001b[39;49;00m \u001b[36mNot Found\u001b[39;49;00m\n",
      "\u001b[36mcontent-length\u001b[39;49;00m: 22\n",
      "\u001b[36mcontent-type\u001b[39;49;00m: application/json\n",
      "\u001b[36mdate\u001b[39;49;00m: Fri, 24 Dec 2021 12:04:34 GMT\n",
      "\u001b[36mserver\u001b[39;49;00m: uvicorn\n",
      "\n",
      "{\n",
      "    \u001b[94m\"detail\"\u001b[39;49;00m: \u001b[33m\"Not Found\"\u001b[39;49;00m\n",
      "}\n",
      "\n",
      "\n"
     ]
    }
   ],
   "source": [
    "!http :8000/users/admin/3"
   ]
  },
  {
   "cell_type": "code",
   "execution_count": 31,
   "metadata": {},
   "outputs": [
    {
     "name": "stdout",
     "output_type": "stream",
     "text": [
      "\u001b[34mHTTP\u001b[39;49;00m/\u001b[34m1.1\u001b[39;49;00m \u001b[34m404\u001b[39;49;00m \u001b[36mNot Found\u001b[39;49;00m\n",
      "\u001b[36mcontent-length\u001b[39;49;00m: 22\n",
      "\u001b[36mcontent-type\u001b[39;49;00m: application/json\n",
      "\u001b[36mdate\u001b[39;49;00m: Fri, 24 Dec 2021 12:04:34 GMT\n",
      "\u001b[36mserver\u001b[39;49;00m: uvicorn\n",
      "\n",
      "{\n",
      "    \u001b[94m\"detail\"\u001b[39;49;00m: \u001b[33m\"Not Found\"\u001b[39;49;00m\n",
      "}\n",
      "\n",
      "\n"
     ]
    }
   ],
   "source": [
    "!http :8000/users/dog/3"
   ]
  },
  {
   "cell_type": "markdown",
   "metadata": {},
   "source": [
    "**Integer bounds**. For integers we can use the `Path` object from the `fastapi` library. In the example below, we set a lower bound to `id` so that it only takes positive values. "
   ]
  },
  {
   "cell_type": "markdown",
   "metadata": {},
   "source": [
    "```python\n",
    "#chapter3_path_parameters_03.py\n",
    "from fastapi import FastAPI, Path\n",
    "app = FastAPI()\n",
    "\n",
    "@app.get(\"/users/{id}\")\n",
    "async def get_user(id: int = Path(..., ge=1)):\n",
    "    return {\"id\": id, \"type\": type}\n",
    "```"
   ]
  },
  {
   "cell_type": "markdown",
   "metadata": {},
   "source": [
    "i.e. `id >= 1`. Other possible arguments are `gt`, `lt`, `le`, etc. The `Path` function \n",
    "requires a first argument which becomes the default argument, using `...` indicates that \n",
    "we don't want to set a default argument. \n"
   ]
  },
  {
   "cell_type": "code",
   "execution_count": 32,
   "metadata": {},
   "outputs": [
    {
     "name": "stdout",
     "output_type": "stream",
     "text": [
      "\u001b[34mHTTP\u001b[39;49;00m/\u001b[34m1.1\u001b[39;49;00m \u001b[34m404\u001b[39;49;00m \u001b[36mNot Found\u001b[39;49;00m\n",
      "\u001b[36mcontent-length\u001b[39;49;00m: 22\n",
      "\u001b[36mcontent-type\u001b[39;49;00m: application/json\n",
      "\u001b[36mdate\u001b[39;49;00m: Fri, 24 Dec 2021 12:04:35 GMT\n",
      "\u001b[36mserver\u001b[39;49;00m: uvicorn\n",
      "\n",
      "{\n",
      "    \u001b[94m\"detail\"\u001b[39;49;00m: \u001b[33m\"Not Found\"\u001b[39;49;00m\n",
      "}\n",
      "\n",
      "\n"
     ]
    }
   ],
   "source": [
    "!http :8000/users/3"
   ]
  },
  {
   "cell_type": "code",
   "execution_count": 33,
   "metadata": {},
   "outputs": [
    {
     "name": "stdout",
     "output_type": "stream",
     "text": [
      "\u001b[34mHTTP\u001b[39;49;00m/\u001b[34m1.1\u001b[39;49;00m \u001b[34m404\u001b[39;49;00m \u001b[36mNot Found\u001b[39;49;00m\n",
      "\u001b[36mcontent-length\u001b[39;49;00m: 22\n",
      "\u001b[36mcontent-type\u001b[39;49;00m: application/json\n",
      "\u001b[36mdate\u001b[39;49;00m: Fri, 24 Dec 2021 12:04:35 GMT\n",
      "\u001b[36mserver\u001b[39;49;00m: uvicorn\n",
      "\n",
      "{\n",
      "    \u001b[94m\"detail\"\u001b[39;49;00m: \u001b[33m\"Not Found\"\u001b[39;49;00m\n",
      "}\n",
      "\n",
      "\n"
     ]
    }
   ],
   "source": [
    "!http :8000/users/-1"
   ]
  },
  {
   "cell_type": "markdown",
   "metadata": {},
   "source": [
    "**Strings and regex**. We can bound string length using `min_length` and `max_length`. More generally, we can parse a string with a regular expressions in the `regex` argument.\n",
    "\n",
    "```python\n",
    "#chapter3_path_parameters_04.py\n",
    "\n",
    "@app.get(\"/username/{username}\")\n",
    "async def get_username(username: str = Path(..., min_length=1, max_length=20)):\n",
    "    return {\"username\": username}\n",
    "\n",
    "@app.get(\"/license-plates/{license}\")\n",
    "async def get_license_plate(license: str = Path(..., regex=r\"^\\w{2}-\\d{3}-\\w{2}$\")):\n",
    "    return {\"license\": license}\n",
    "```\n",
    "\n"
   ]
  },
  {
   "cell_type": "code",
   "execution_count": 34,
   "metadata": {},
   "outputs": [
    {
     "name": "stdout",
     "output_type": "stream",
     "text": [
      "\u001b[34mHTTP\u001b[39;49;00m/\u001b[34m1.1\u001b[39;49;00m \u001b[34m404\u001b[39;49;00m \u001b[36mNot Found\u001b[39;49;00m\n",
      "\u001b[36mcontent-length\u001b[39;49;00m: 22\n",
      "\u001b[36mcontent-type\u001b[39;49;00m: application/json\n",
      "\u001b[36mdate\u001b[39;49;00m: Fri, 24 Dec 2021 12:04:35 GMT\n",
      "\u001b[36mserver\u001b[39;49;00m: uvicorn\n",
      "\n",
      "{\n",
      "    \u001b[94m\"detail\"\u001b[39;49;00m: \u001b[33m\"Not Found\"\u001b[39;49;00m\n",
      "}\n",
      "\n",
      "\n"
     ]
    }
   ],
   "source": [
    "!http :8000/license-plates/AB-123-CD"
   ]
  },
  {
   "cell_type": "code",
   "execution_count": 35,
   "metadata": {},
   "outputs": [
    {
     "name": "stdout",
     "output_type": "stream",
     "text": [
      "\u001b[34mHTTP\u001b[39;49;00m/\u001b[34m1.1\u001b[39;49;00m \u001b[34m404\u001b[39;49;00m \u001b[36mNot Found\u001b[39;49;00m\n",
      "\u001b[36mcontent-length\u001b[39;49;00m: 22\n",
      "\u001b[36mcontent-type\u001b[39;49;00m: application/json\n",
      "\u001b[36mdate\u001b[39;49;00m: Fri, 24 Dec 2021 12:04:36 GMT\n",
      "\u001b[36mserver\u001b[39;49;00m: uvicorn\n",
      "\n",
      "{\n",
      "    \u001b[94m\"detail\"\u001b[39;49;00m: \u001b[33m\"Not Found\"\u001b[39;49;00m\n",
      "}\n",
      "\n",
      "\n"
     ]
    }
   ],
   "source": [
    "!http :8000/username/abcdefghijklmnopqrst # 20 characters"
   ]
  },
  {
   "cell_type": "markdown",
   "metadata": {},
   "source": [
    "```{admonition} Parameter metadata\n",
    "Data validation is not the only option accepted by the parameter function `Path`. \n",
    "You can also set options such as `title`, `description`, and `deprecated`. These will add information about the parameter \n",
    "in the automatic documentation."
   ]
  },
  {
   "cell_type": "markdown",
   "metadata": {},
   "source": [
    "### Query parameters"
   ]
  },
  {
   "cell_type": "markdown",
   "metadata": {},
   "source": [
    "Query parameters are a common way to add some dynamic parameters to a \n",
    "URL. You find them at the end of the URL in the following form: `?param1=foo&param2=bar`. \n",
    "In a REST API, they are commonly used on read endpoints to apply pagination, a filter, a \n",
    "sorting order, or selecting fields."
   ]
  },
  {
   "cell_type": "markdown",
   "metadata": {},
   "source": [
    " By default, arguments of path functions that are not path parameters are interpreted by \n",
    "    FastAPI as query parameters (i.e. without having to use the `Query` function defined \n",
    "    below)."
   ]
  },
  {
   "cell_type": "markdown",
   "metadata": {},
   "source": [
    "```python\n",
    "# chapter3_query_parameters_01.py\n",
    "\n",
    "@app.get(\"/users/{type}/{id}\")\n",
    "async def user(\n",
    "    type: UserType, \n",
    "    id: int = Path(..., ge=1), \n",
    "    page: int = 1,\n",
    "    size: int = 1):\n",
    "    return {\n",
    "        \"type\": type,\n",
    "        \"id\": id,\n",
    "        \"page\": page, \n",
    "        \"size\": size,\n",
    "    }\n",
    "```"
   ]
  },
  {
   "cell_type": "code",
   "execution_count": 36,
   "metadata": {},
   "outputs": [
    {
     "name": "stdout",
     "output_type": "stream",
     "text": [
      "\u001b[34mHTTP\u001b[39;49;00m/\u001b[34m1.1\u001b[39;49;00m \u001b[34m404\u001b[39;49;00m \u001b[36mNot Found\u001b[39;49;00m\n",
      "\u001b[36mcontent-length\u001b[39;49;00m: 22\n",
      "\u001b[36mcontent-type\u001b[39;49;00m: application/json\n",
      "\u001b[36mdate\u001b[39;49;00m: Fri, 24 Dec 2021 12:04:36 GMT\n",
      "\u001b[36mserver\u001b[39;49;00m: uvicorn\n",
      "\n",
      "{\n",
      "    \u001b[94m\"detail\"\u001b[39;49;00m: \u001b[33m\"Not Found\"\u001b[39;49;00m\n",
      "}\n",
      "\n",
      "\n"
     ]
    }
   ],
   "source": [
    "!http :8000/users/admin/1 page==0 size==3"
   ]
  },
  {
   "cell_type": "markdown",
   "metadata": {},
   "source": [
    "These parameters are optional since we defined a default value. If there is no default\n",
    "    value, then query parameter has to be supplied. If we want to validate query parameters, \n",
    "    we use the `Query` function from `fastapi`. This works in the same way as the `Path` \n",
    "    function: `page: int=1` to `page: int=Query(1, ge=1)`. Also, we can add metadata as mentioned in the above tip."
   ]
  },
  {
   "cell_type": "markdown",
   "metadata": {},
   "source": [
    "### The request body"
   ]
  },
  {
   "cell_type": "markdown",
   "metadata": {},
   "source": [
    "The body is the part of the HTTP request that contains is used to send \n",
    "    and receive data via the REST API representing documents, files, or form submissions. In a REST API, it's usually encoded in JSON and used to create structured objects in a \n",
    "    database. \n",
    "    \n",
    "    \n",
    "For the simplest cases, retrieving data from the body works exactly like query \n",
    "    parameters. The only difference is that you always have to use the `Body` function; \n",
    "    otherwise, FastAPI will look for it inside the query parameters by default. "
   ]
  },
  {
   "cell_type": "markdown",
   "metadata": {},
   "source": [
    "\n",
    "```python\n",
    "# chapter3_request_body_01.py\n",
    "@app.post(\"/users\")\n",
    "async def user(\n",
    "    name: str = Body(...), \n",
    "    age:  int = Body(...),\n",
    "):\n",
    "    return {\n",
    "        \"name\": name, \n",
    "        \"age\":  age,\n",
    "    }\n",
    "```"
   ]
  },
  {
   "cell_type": "markdown",
   "metadata": {},
   "source": [
    "To send a request body, we use the following syntax in HTTPie. Note that HTTPie automatically detects that this is a POST method since a body is present. We see that a JSON payload was sent with string parameters. Note that the value of `age` in the response is automatically converted to `int` consistent with the typing."
   ]
  },
  {
   "cell_type": "code",
   "execution_count": 37,
   "metadata": {},
   "outputs": [
    {
     "name": "stdout",
     "output_type": "stream",
     "text": [
      "\u001b[32mPOST\u001b[39;49;00m \u001b[04m\u001b[36m/users\u001b[39;49;00m \u001b[34mHTTP\u001b[39;49;00m/\u001b[34m1.1\u001b[39;49;00m\n",
      "\u001b[36mAccept\u001b[39;49;00m: application/json, */*;q=0.5\n",
      "\u001b[36mAccept-Encoding\u001b[39;49;00m: gzip, deflate, br\n",
      "\u001b[36mConnection\u001b[39;49;00m: keep-alive\n",
      "\u001b[36mContent-Length\u001b[39;49;00m: 32\n",
      "\u001b[36mContent-Type\u001b[39;49;00m: application/json\n",
      "\u001b[36mHost\u001b[39;49;00m: localhost:8000\n",
      "\u001b[36mUser-Agent\u001b[39;49;00m: HTTPie/2.6.0\n",
      "\n",
      "{\n",
      "    \u001b[94m\"age\"\u001b[39;49;00m: \u001b[33m\"-99\"\u001b[39;49;00m,\n",
      "    \u001b[94m\"name\"\u001b[39;49;00m: \u001b[33m\"Ronnie\"\u001b[39;49;00m\n",
      "}\n",
      "\n",
      "\n",
      "\u001b[34mHTTP\u001b[39;49;00m/\u001b[34m1.1\u001b[39;49;00m \u001b[34m404\u001b[39;49;00m \u001b[36mNot Found\u001b[39;49;00m\n",
      "\u001b[36mcontent-length\u001b[39;49;00m: 22\n",
      "\u001b[36mcontent-type\u001b[39;49;00m: application/json\n",
      "\u001b[36mdate\u001b[39;49;00m: Fri, 24 Dec 2021 12:04:36 GMT\n",
      "\u001b[36mserver\u001b[39;49;00m: uvicorn\n",
      "\n",
      "{\n",
      "    \u001b[94m\"detail\"\u001b[39;49;00m: \u001b[33m\"Not Found\"\u001b[39;49;00m\n",
      "}\n",
      "\n",
      "\n"
     ]
    }
   ],
   "source": [
    "!http -v :8000/users name=Ronnie age=-99"
   ]
  },
  {
   "cell_type": "markdown",
   "metadata": {},
   "source": [
    "Advanced validation and metadata through the `Body` function works in the same way as `Path` and `Query`. "
   ]
  },
  {
   "cell_type": "markdown",
   "metadata": {},
   "source": [
    "```{warning}\n",
    "For some reason, having a single `Body` parameter results in unexpected behavior. Indeed this is documented in [Issue #1097](https://github.com/tiangolo/fastapi/issues/1097). The solution is to set `embed=True` in the `Body` function for the single argument. Or defining a Pydantic model for this parameter as we will show below. This is a little inconsistent but done for the sake of backward compatibility. \n",
    "```"
   ]
  },
  {
   "cell_type": "markdown",
   "metadata": {},
   "source": [
    "#### Pydantic models"
   ]
  },
  {
   "cell_type": "markdown",
   "metadata": {},
   "source": [
    "Defining payload validations like this has some major drawbacks. First, it's quite verbose and makes the path function prototype huge, especially for bigger models with many fields. Second, usually, you'll need to reuse the data structure on other endpoints or in other parts of your application.\n",
    "\n",
    "We'd like to define the data model in one place, so that updating the model updates all other places in the code where the model is used. For this we use **pydantic models** which allows us to automatically type hint fields."
   ]
  },
  {
   "cell_type": "markdown",
   "metadata": {},
   "source": [
    "```python\n",
    "# chapter3_request_body_02.py\n",
    "from fastapi import FastAPI\n",
    "from pydantic import BaseModel\n",
    "app = FastAPI()\n",
    "\n",
    "class User(BaseModel):\n",
    "    name: str\n",
    "    age: int\n",
    "\n",
    "@app.post(\"/users\")\n",
    "async def user(user: User):\n",
    "    return user\n",
    "```"
   ]
  },
  {
   "cell_type": "code",
   "execution_count": 38,
   "metadata": {},
   "outputs": [
    {
     "name": "stdout",
     "output_type": "stream",
     "text": [
      "\u001b[34mHTTP\u001b[39;49;00m/\u001b[34m1.1\u001b[39;49;00m \u001b[34m404\u001b[39;49;00m \u001b[36mNot Found\u001b[39;49;00m\n",
      "\u001b[36mcontent-length\u001b[39;49;00m: 22\n",
      "\u001b[36mcontent-type\u001b[39;49;00m: application/json\n",
      "\u001b[36mdate\u001b[39;49;00m: Fri, 24 Dec 2021 12:04:37 GMT\n",
      "\u001b[36mserver\u001b[39;49;00m: uvicorn\n",
      "\n",
      "{\n",
      "    \u001b[94m\"detail\"\u001b[39;49;00m: \u001b[33m\"Not Found\"\u001b[39;49;00m\n",
      "}\n",
      "\n",
      "\n"
     ]
    }
   ],
   "source": [
    "!http :8000/users name=Ronnie age=-99"
   ]
  },
  {
   "cell_type": "markdown",
   "metadata": {},
   "source": [
    "Note that FastAPI automatically understands that the user data can be found in the \n",
    "    request payload and each field automatically validated based on the Pydantic model. \n",
    "    Furthermore, the Pydantic object is simply returned and FastAPI is smart enough to convert it \n",
    "    automatically into JSON to produce the HTTP response."
   ]
  },
  {
   "cell_type": "markdown",
   "metadata": {},
   "source": [
    "We can extend this to multiple objects, as well as singular body values with the `Body` \n",
    "    function. This is useful if you wish to have a single property that's not part of any \n",
    "    model."
   ]
  },
  {
   "cell_type": "markdown",
   "metadata": {},
   "source": [
    "```python\n",
    "# chapter3_request_body_03.py\n",
    "from fastapi import FastAPI, Body\n",
    "from pydantic import BaseModel\n",
    "app = FastAPI()\n",
    "\n",
    "class User(BaseModel):\n",
    "    name: str\n",
    "    age: int\n",
    "\n",
    "class Company(BaseModel):\n",
    "    name: str\n",
    "\n",
    "@app.post(\"/users\")\n",
    "async def create_user(user: User, company: Company, priority: int = Body(..., ge=1, le=3)):\n",
    "    return {\"user\": user, \"company\": company, \"priority\": priority}\n",
    "```"
   ]
  },
  {
   "cell_type": "markdown",
   "metadata": {},
   "source": [
    "This expects a properly formatted complex JSON structure as payload that can be passed using `<<<`. Also recommended is to pipe the formatted JSON. "
   ]
  },
  {
   "cell_type": "code",
   "execution_count": 39,
   "metadata": {},
   "outputs": [
    {
     "name": "stdout",
     "output_type": "stream",
     "text": [
      "\u001b[34mHTTP\u001b[39;49;00m/\u001b[34m1.1\u001b[39;49;00m \u001b[34m404\u001b[39;49;00m \u001b[36mNot Found\u001b[39;49;00m\n",
      "\u001b[36mcontent-length\u001b[39;49;00m: 22\n",
      "\u001b[36mcontent-type\u001b[39;49;00m: application/json\n",
      "\u001b[36mdate\u001b[39;49;00m: Fri, 24 Dec 2021 12:04:37 GMT\n",
      "\u001b[36mserver\u001b[39;49;00m: uvicorn\n",
      "\n",
      "{\n",
      "    \u001b[94m\"detail\"\u001b[39;49;00m: \u001b[33m\"Not Found\"\u001b[39;49;00m\n",
      "}\n",
      "\n",
      "\n"
     ]
    }
   ],
   "source": [
    "!http :8000/users <<< '{ \"user\": {\"name\": \"Ronnie\", \"age\": -99 }, \"company\": { \"name\": \"Alliance\" }, \"priority\": 1 }'\n",
    "# !echo '{\"user\": {\"name\": \"John\", \"age\": 30}, \"company\": {\"name\": \"ACME\"}, \"priority\":1}' | http POST http://localhost:8000/users"
   ]
  },
  {
   "cell_type": "markdown",
   "metadata": {},
   "source": [
    "### Form data"
   ]
  },
  {
   "cell_type": "markdown",
   "metadata": {},
   "source": [
    "We need to install `python-multipart` to handle form data."
   ]
  },
  {
   "cell_type": "markdown",
   "metadata": {},
   "source": [
    "```python\n",
    "# chapter3_form_data_01.py\n",
    "from fastapi import FastAPI, Form\n",
    "app = FastAPI()\n",
    "\n",
    "@app.post(\"/users\")\n",
    "async def create_user(name: str = Form(...), age: int = Form(...)):\n",
    "    return {\"name\": name, \"age\": age}\n",
    "```"
   ]
  },
  {
   "cell_type": "markdown",
   "metadata": {},
   "source": [
    "The only difference is we use `Form` instead of `Body`. Validation and metadata options we saw for `Path`, `Query`, and `Body` are likewise available. Note that FastAPI does not allow pydantic models to validate form data. \n",
    "\n",
    "Let us try to make a request that posts form data. The `--form` option enforces the data to be form-encoded:"
   ]
  },
  {
   "cell_type": "code",
   "execution_count": 40,
   "metadata": {},
   "outputs": [
    {
     "name": "stdout",
     "output_type": "stream",
     "text": [
      "\u001b[32mPOST\u001b[39;49;00m \u001b[04m\u001b[36m/users\u001b[39;49;00m \u001b[34mHTTP\u001b[39;49;00m/\u001b[34m1.1\u001b[39;49;00m\n",
      "\u001b[36mAccept\u001b[39;49;00m: */*\n",
      "\u001b[36mAccept-Encoding\u001b[39;49;00m: gzip, deflate, br\n",
      "\u001b[36mConnection\u001b[39;49;00m: keep-alive\n",
      "\u001b[36mContent-Length\u001b[39;49;00m: 18\n",
      "\u001b[36mContent-Type\u001b[39;49;00m: application/x-www-form-urlencoded; charset=utf-8\n",
      "\u001b[36mHost\u001b[39;49;00m: localhost:8000\n",
      "\u001b[36mUser-Agent\u001b[39;49;00m: HTTPie/2.6.0\n",
      "\n",
      "name=Ronnie&age=96\n",
      "\n",
      "\u001b[34mHTTP\u001b[39;49;00m/\u001b[34m1.1\u001b[39;49;00m \u001b[34m404\u001b[39;49;00m \u001b[36mNot Found\u001b[39;49;00m\n",
      "\u001b[36mcontent-length\u001b[39;49;00m: 22\n",
      "\u001b[36mcontent-type\u001b[39;49;00m: application/json\n",
      "\u001b[36mdate\u001b[39;49;00m: Fri, 24 Dec 2021 12:04:37 GMT\n",
      "\u001b[36mserver\u001b[39;49;00m: uvicorn\n",
      "\n",
      "{\n",
      "    \u001b[94m\"detail\"\u001b[39;49;00m: \u001b[33m\"Not Found\"\u001b[39;49;00m\n",
      "}\n",
      "\n",
      "\n"
     ]
    }
   ],
   "source": [
    "!http -v --form :8000/users name=Ronnie age=96"
   ]
  },
  {
   "cell_type": "markdown",
   "metadata": {},
   "source": [
    "Observe that `Content-Type: application/x-www-form-urlencoded; charset=utf-8` and the body data representation have changed in the request. Note also that the response for form data is still provided in JSON which is the default response by FastAPI no matter the form of input data. "
   ]
  },
  {
   "cell_type": "markdown",
   "metadata": {},
   "source": [
    "### File uploads"
   ]
  },
  {
   "cell_type": "markdown",
   "metadata": {},
   "source": [
    "To handle files, the approach is still the same: we define an argument for the \n",
    "path operation function, `file`, we add a type of hint, `bytes`, and then we use the `File` \n",
    "function as a default value for this argument. By doing this, FastAPI understands that it \n",
    "will have to retrieve raw data in a part of the body named file and return it as bytes."
   ]
  },
  {
   "cell_type": "markdown",
   "metadata": {},
   "source": [
    "```python\n",
    "# chapter3_file_uploads_01.py\n",
    "from fastapi import FastAPI, File\n",
    "app = FastAPI()\n",
    "\n",
    "@app.post(\"/files\")\n",
    "async def upload_file(file: bytes = File(...)):\n",
    "    return {\"file_size\": len(file)}\n",
    "```"
   ]
  },
  {
   "cell_type": "code",
   "execution_count": 41,
   "metadata": {},
   "outputs": [
    {
     "name": "stdout",
     "output_type": "stream",
     "text": [
      "\u001b[34mHTTP\u001b[39;49;00m/\u001b[34m1.1\u001b[39;49;00m \u001b[34m422\u001b[39;49;00m \u001b[36mUnprocessable Entity\u001b[39;49;00m\n",
      "\u001b[36mcontent-length\u001b[39;49;00m: 89\n",
      "\u001b[36mcontent-type\u001b[39;49;00m: application/json\n",
      "\u001b[36mdate\u001b[39;49;00m: Fri, 24 Dec 2021 12:04:38 GMT\n",
      "\u001b[36mserver\u001b[39;49;00m: uvicorn\n",
      "\n",
      "{\n",
      "    \u001b[94m\"detail\"\u001b[39;49;00m: [\n",
      "        {\n",
      "            \u001b[94m\"loc\"\u001b[39;49;00m: [\n",
      "                \u001b[33m\"body\"\u001b[39;49;00m,\n",
      "                \u001b[33m\"files\"\u001b[39;49;00m\n",
      "            ],\n",
      "            \u001b[94m\"msg\"\u001b[39;49;00m: \u001b[33m\"field required\"\u001b[39;49;00m,\n",
      "            \u001b[94m\"type\"\u001b[39;49;00m: \u001b[33m\"value_error.missing\"\u001b[39;49;00m\n",
      "        }\n",
      "    ]\n",
      "}\n",
      "\n",
      "\n"
     ]
    }
   ],
   "source": [
    "!http --form :8000/files file@./assets/dog.jpeg"
   ]
  },
  {
   "cell_type": "markdown",
   "metadata": {},
   "source": [
    "One drawback to this approach is that the uploaded file is entirely stored in the server's memory while the function processes the request. This will likely run into issues for larger \n",
    "    files. Besides, manipulating a bytes object is not always convenient for file handling."
   ]
  },
  {
   "cell_type": "markdown",
   "metadata": {},
   "source": [
    "**UploadFile class**. To fix this problem, FastAPI provides an `UploadFile` class. This class will store the data \n",
    "    in memory up to a certain threshold and, after this, will automatically store it on disk \n",
    "    in a temporary location. \n",
    "The exposed object instance exposes useful metadata, such as the \n",
    "    content type, and a **file-like** interface. This means that you can manipulate it as a \n",
    "    regular file in Python and that you can feed it to any function that expects a file. For example, `contents = await myfile.read()`."
   ]
  },
  {
   "cell_type": "markdown",
   "metadata": {},
   "source": [
    "```python\n",
    "# chapter3_file_uploads_02.py\n",
    "\n",
    "from fastapi import FastAPI, File, UploadFile\n",
    "from typing import List\n",
    "app = FastAPI()\n",
    "\n",
    "@app.post(\"/files\")\n",
    "async def upload_file(file: UploadFile = File(...)):\n",
    "    return {\n",
    "        \"file_name\": file.filename, \n",
    "        \"content_type\": file.content_type\n",
    "    }\n",
    "```"
   ]
  },
  {
   "cell_type": "code",
   "execution_count": 42,
   "metadata": {},
   "outputs": [
    {
     "name": "stdout",
     "output_type": "stream",
     "text": [
      "\u001b[34mHTTP\u001b[39;49;00m/\u001b[34m1.1\u001b[39;49;00m \u001b[34m422\u001b[39;49;00m \u001b[36mUnprocessable Entity\u001b[39;49;00m\n",
      "\u001b[36mcontent-length\u001b[39;49;00m: 89\n",
      "\u001b[36mcontent-type\u001b[39;49;00m: application/json\n",
      "\u001b[36mdate\u001b[39;49;00m: Fri, 24 Dec 2021 12:04:38 GMT\n",
      "\u001b[36mserver\u001b[39;49;00m: uvicorn\n",
      "\n",
      "{\n",
      "    \u001b[94m\"detail\"\u001b[39;49;00m: [\n",
      "        {\n",
      "            \u001b[94m\"loc\"\u001b[39;49;00m: [\n",
      "                \u001b[33m\"body\"\u001b[39;49;00m,\n",
      "                \u001b[33m\"files\"\u001b[39;49;00m\n",
      "            ],\n",
      "            \u001b[94m\"msg\"\u001b[39;49;00m: \u001b[33m\"field required\"\u001b[39;49;00m,\n",
      "            \u001b[94m\"type\"\u001b[39;49;00m: \u001b[33m\"value_error.missing\"\u001b[39;49;00m\n",
      "        }\n",
      "    ]\n",
      "}\n",
      "\n",
      "\n"
     ]
    }
   ],
   "source": [
    "!http --form :8000/files file@./assets/dog.jpeg"
   ]
  },
  {
   "cell_type": "markdown",
   "metadata": {},
   "source": [
    "Since `UploadFile` does not validate for specific file types, the content type is especially useful for validating the type of the uploaded file."
   ]
  },
  {
   "cell_type": "markdown",
   "metadata": {},
   "source": [
    "**Multiple files.** To upload multiple files, we can use the `List` type hint."
   ]
  },
  {
   "cell_type": "markdown",
   "metadata": {},
   "source": [
    "```python\n",
    "# chapter3_file_uploads_03.py\n",
    "@app.post(\"/files\")\n",
    "async def upload_multiple_files(files: List[UploadFile] = \n",
    "File(...)):\n",
    "    return [\n",
    "        {\n",
    "            \"file_name\": file.filename,\n",
    "            \"content_type\": file.content_type\n",
    "        }\n",
    "        for file in files\n",
    "    ]\n",
    "```"
   ]
  },
  {
   "cell_type": "markdown",
   "metadata": {},
   "source": [
    "To upload several files with HTTPie, simply repeat the argument:"
   ]
  },
  {
   "cell_type": "code",
   "execution_count": 43,
   "metadata": {},
   "outputs": [
    {
     "name": "stdout",
     "output_type": "stream",
     "text": [
      "\u001b[34mHTTP\u001b[39;49;00m/\u001b[34m1.1\u001b[39;49;00m \u001b[34m200\u001b[39;49;00m \u001b[36mOK\u001b[39;49;00m\n",
      "\u001b[36mcontent-length\u001b[39;49;00m: 107\n",
      "\u001b[36mcontent-type\u001b[39;49;00m: application/json\n",
      "\u001b[36mdate\u001b[39;49;00m: Fri, 24 Dec 2021 12:04:38 GMT\n",
      "\u001b[36mserver\u001b[39;49;00m: uvicorn\n",
      "\n",
      "[\n",
      "    {\n",
      "        \u001b[94m\"content_type\"\u001b[39;49;00m: \u001b[33m\"image/jpeg\"\u001b[39;49;00m,\n",
      "        \u001b[94m\"file_name\"\u001b[39;49;00m: \u001b[33m\"dog.jpeg\"\u001b[39;49;00m\n",
      "    },\n",
      "    {\n",
      "        \u001b[94m\"content_type\"\u001b[39;49;00m: \u001b[33m\"image/jpeg\"\u001b[39;49;00m,\n",
      "        \u001b[94m\"file_name\"\u001b[39;49;00m: \u001b[33m\"dog.jpeg\"\u001b[39;49;00m\n",
      "    }\n",
      "]\n",
      "\n",
      "\n"
     ]
    }
   ],
   "source": [
    "!http --form :8000/files files@./assets/dog.jpeg files@./assets/dog.jpeg"
   ]
  },
  {
   "cell_type": "markdown",
   "metadata": {},
   "source": [
    "### Headers and cookies"
   ]
  },
  {
   "cell_type": "markdown",
   "metadata": {},
   "source": [
    "```{margin}\n",
    "Headers and cookies can be very useful tools in which to implement some authentication \n",
    "features.\n",
    "```\n",
    "\n",
    "Besides the URL and the body, another major part of the HTTP request \n",
    "    are the headers. They contain all sorts of metadata that can be useful when handling \n",
    "    requests. A common usage is to use them for authentication, for example, via the famous \n",
    "    **cookies**."
   ]
  },
  {
   "cell_type": "markdown",
   "metadata": {},
   "source": [
    "```python\n",
    "# chapter3_headers_cookies.py\n",
    "@app.get(\"/\")\n",
    "async def get_header(hello_world: str = Header(...), coke: Optional[str] = Cookie(None)):\n",
    "    return {\"hello_world\": hello_world, \"coke\": coke}\n",
    "```"
   ]
  },
  {
   "cell_type": "code",
   "execution_count": 63,
   "metadata": {},
   "outputs": [
    {
     "name": "stdout",
     "output_type": "stream",
     "text": [
      "\u001b[32mGET\u001b[39;49;00m \u001b[04m\u001b[36m/\u001b[39;49;00m \u001b[34mHTTP\u001b[39;49;00m/\u001b[34m1.1\u001b[39;49;00m\n",
      "\u001b[36mAccept\u001b[39;49;00m: */*\n",
      "\u001b[36mAccept-Encoding\u001b[39;49;00m: gzip, deflate, br\n",
      "\u001b[36mConnection\u001b[39;49;00m: keep-alive\n",
      "\u001b[36mHello-World\u001b[39;49;00m: Hi\n",
      "\u001b[36mHost\u001b[39;49;00m: localhost:8000\n",
      "\u001b[36mUser-Agent\u001b[39;49;00m: HTTPie/2.6.0\n",
      "\n",
      "\n",
      "\n",
      "\u001b[34mHTTP\u001b[39;49;00m/\u001b[34m1.1\u001b[39;49;00m \u001b[34m200\u001b[39;49;00m \u001b[36mOK\u001b[39;49;00m\n",
      "\u001b[36mcontent-length\u001b[39;49;00m: 32\n",
      "\u001b[36mcontent-type\u001b[39;49;00m: application/json\n",
      "\u001b[36mdate\u001b[39;49;00m: Fri, 24 Dec 2021 12:16:01 GMT\n",
      "\u001b[36mserver\u001b[39;49;00m: uvicorn\n",
      "\n",
      "{\n",
      "    \u001b[94m\"coke\"\u001b[39;49;00m: \u001b[34mnull\u001b[39;49;00m,\n",
      "    \u001b[94m\"hello_world\"\u001b[39;49;00m: \u001b[33m\"Hi\"\u001b[39;49;00m\n",
      "}\n",
      "\n",
      "\n"
     ]
    }
   ],
   "source": [
    "!http -v :8000/ \"Hello-World: Hi\""
   ]
  },
  {
   "cell_type": "markdown",
   "metadata": {},
   "source": [
    "The name of the argument determines the key of the header that we \n",
    "want to retrieve. Additionally, notice that FastAPI automatically parses the header name to lowercase and snake case to get its corresponding variable in the function body. Here `\"Hello-World\"` to `hello_world`. \n",
    "\n",
    "One very special case of header is cookies. FastAPI provides another parameter function \n",
    "    that automatically parses cookies for you. Here we didn't pass anything so its value is `null`. "
   ]
  },
  {
   "cell_type": "markdown",
   "metadata": {},
   "source": [
    "### The request object"
   ]
  },
  {
   "cell_type": "markdown",
   "metadata": {},
   "source": [
    "Sometimes, you might find that you need to access a raw request object \n",
    "    with all of the data associated with it. Simply declare an argument on \n",
    "    your path operation function type hinted with the `Request` class from the FastAPI library."
   ]
  },
  {
   "cell_type": "markdown",
   "metadata": {},
   "source": [
    "```python\n",
    "from fastapi import FastAPI, Request\n",
    "app = FastAPI()\n",
    "\n",
    "@app.get(\"/random-path\")\n",
    "async def get_request_object(request: Request):\n",
    "    return {\"path\": request.url.path}\n",
    "```"
   ]
  },
  {
   "cell_type": "code",
   "execution_count": 69,
   "metadata": {},
   "outputs": [
    {
     "name": "stdout",
     "output_type": "stream",
     "text": [
      "\u001b[34mHTTP\u001b[39;49;00m/\u001b[34m1.1\u001b[39;49;00m \u001b[34m200\u001b[39;49;00m \u001b[36mOK\u001b[39;49;00m\n",
      "\u001b[36mcontent-length\u001b[39;49;00m: 23\n",
      "\u001b[36mcontent-type\u001b[39;49;00m: application/json\n",
      "\u001b[36mdate\u001b[39;49;00m: Fri, 24 Dec 2021 12:25:19 GMT\n",
      "\u001b[36mserver\u001b[39;49;00m: uvicorn\n",
      "\n",
      "{\n",
      "    \u001b[94m\"path\"\u001b[39;49;00m: \u001b[33m\"/random-path\"\u001b[39;49;00m\n",
      "}\n",
      "\n",
      "\n"
     ]
    }
   ],
   "source": [
    "!http :8000/random-path"
   ]
  },
  {
   "cell_type": "markdown",
   "metadata": {},
   "source": [
    "## Customizing the response"
   ]
  },
  {
   "cell_type": "markdown",
   "metadata": {},
   "source": [
    "Most of the time, you'll want to customize this response a \n",
    "    bit further; for instance, by changing the status code, raising validation errors, and \n",
    "    setting cookies. We will discuss the different ways FastAPI does this, from the simplest case to the most advanced one."
   ]
  },
  {
   "cell_type": "markdown",
   "metadata": {},
   "source": [
    "### Decorator parameters"
   ]
  },
  {
   "cell_type": "markdown",
   "metadata": {},
   "source": [
    "In order to \n",
    "create a new endpoint, you had to put a decorator on top of the path operation function. \n",
    "This decorator accepts a lot of options, including ones to customize the response."
   ]
  },
  {
   "cell_type": "markdown",
   "metadata": {},
   "source": [
    "#### Status code"
   ]
  },
  {
   "cell_type": "markdown",
   "metadata": {},
   "source": [
    "This is the most obvious. By default FastAPI sets `200 OK` when \n",
    "    everything goes well in executing the path operation function. Sometimes, it might be \n",
    "    useful to change this status. "
   ]
  },
  {
   "cell_type": "markdown",
   "metadata": {},
   "source": [
    "```python\n",
    "# chapter3_response_path_parameters_01.py\n",
    "from fastapi import FastAPI, status\n",
    "from pydantic import BaseModel\n",
    "app = FastAPI()\n",
    "\n",
    "class Post(BaseModel):\n",
    "    title: str\n",
    "\n",
    "# Dummy database\n",
    "posts = {}\n",
    "\n",
    "@app.post(\"/posts\", status_code=status.HTTP_201_CREATED)\n",
    "async def create_post(post: Post):\n",
    "    posts[len(posts) + 1] = post\n",
    "    return post\n",
    "\n",
    "@app.delete(\"/posts/{id}\", status_code=status.HTTP_204_NO_CONTENT)\n",
    "async def delete_post(id: int):\n",
    "    posts.pop(id, None)\n",
    "    return None\n",
    "```"
   ]
  },
  {
   "cell_type": "markdown",
   "metadata": {},
   "source": [
    "    \n",
    "For example, it's good practice in a REST API to return \n",
    "    a `201 Created` status when the execution of the endpoint ends up in the creation of \n",
    "    a new object. (We can test whether the created posts persist in memory using print statements. Indeed they do, as expected.)"
   ]
  },
  {
   "cell_type": "code",
   "execution_count": 121,
   "metadata": {},
   "outputs": [
    {
     "name": "stdout",
     "output_type": "stream",
     "text": [
      "\u001b[34mHTTP\u001b[39;49;00m/\u001b[34m1.1\u001b[39;49;00m \u001b[34m201\u001b[39;49;00m \u001b[36mCreated\u001b[39;49;00m\n",
      "\u001b[36mcontent-length\u001b[39;49;00m: 18\n",
      "\u001b[36mcontent-type\u001b[39;49;00m: application/json\n",
      "\u001b[36mdate\u001b[39;49;00m: Fri, 24 Dec 2021 21:16:58 GMT\n",
      "\u001b[36mserver\u001b[39;49;00m: uvicorn\n",
      "\n",
      "{\n",
      "    \u001b[94m\"title\"\u001b[39;49;00m: \u001b[33m\"Hello!\"\u001b[39;49;00m\n",
      "}\n",
      "\n",
      "\n"
     ]
    }
   ],
   "source": [
    "!http :8000/posts title=\"Hello!\""
   ]
  },
  {
   "cell_type": "markdown",
   "metadata": {},
   "source": [
    "Another example: nothing to return. FastAPI will take care of this \n",
    "    and return a response with an empty body. Then, we can respond with a `204 No Content` \n",
    "    status."
   ]
  },
  {
   "cell_type": "code",
   "execution_count": 122,
   "metadata": {},
   "outputs": [
    {
     "name": "stdout",
     "output_type": "stream",
     "text": [
      "\u001b[32mDELETE\u001b[39;49;00m \u001b[04m\u001b[36m/posts/1\u001b[39;49;00m \u001b[34mHTTP\u001b[39;49;00m/\u001b[34m1.1\u001b[39;49;00m\n",
      "\u001b[36mAccept\u001b[39;49;00m: */*\n",
      "\u001b[36mAccept-Encoding\u001b[39;49;00m: gzip, deflate, br\n",
      "\u001b[36mConnection\u001b[39;49;00m: keep-alive\n",
      "\u001b[36mContent-Length\u001b[39;49;00m: 0\n",
      "\u001b[36mHost\u001b[39;49;00m: localhost:8000\n",
      "\u001b[36mUser-Agent\u001b[39;49;00m: HTTPie/2.6.0\n",
      "\n",
      "\n",
      "\n",
      "\u001b[34mHTTP\u001b[39;49;00m/\u001b[34m1.1\u001b[39;49;00m \u001b[34m204\u001b[39;49;00m \u001b[36mNo Content\u001b[39;49;00m\n",
      "\u001b[36mdate\u001b[39;49;00m: Fri, 24 Dec 2021 21:17:01 GMT\n",
      "\u001b[36mserver\u001b[39;49;00m: uvicorn\n",
      "\n",
      "\n",
      "\n"
     ]
    }
   ],
   "source": [
    "!http -v DELETE :8000/posts/1"
   ]
  },
  {
   "cell_type": "markdown",
   "metadata": {},
   "source": [
    "**Remark**. This runs into an error discussed in [#2253](https://github.com/tiangolo/fastapi/issues/2253). Returning `None` has content-length 4 which seems to be the root cause of the error. A fix seems to be to return a response model with status 204. This has content-length 0."
   ]
  },
  {
   "cell_type": "markdown",
   "metadata": {},
   "source": [
    "```{warning}\n",
    "It's important to understand that this option to override the status code is \n",
    "    only useful when everything goes well. If your input data was invalid, you would still get \n",
    "    a 422 status error response.\n",
    "```"
   ]
  },
  {
   "cell_type": "markdown",
   "metadata": {},
   "source": [
    "#### The response model"
   ]
  },
  {
   "cell_type": "markdown",
   "metadata": {},
   "source": [
    "The main use case in FastAPI is to directly return a pydantic model \n",
    "    that automatically gets turned into properly formatted JSON. Quite often, you'll \n",
    "    find that there are some differences between the input data, the data you store in your \n",
    "    database, and the data you want to show to the end user. The **response model** allows us to specify the pydantic model for the response."
   ]
  },
  {
   "cell_type": "markdown",
   "metadata": {},
   "source": [
    "Suppose we have a Pydantic model `Post` which which has\n",
    "    fields `title` and `nb_views`. If we want to hide `nb_views` in a response, we\n",
    "    can create a new Pydantic model `PublicPost` that inherits from `Post` which does not include `nb_views` in its fields. Then, we set `response_model=PublicPost` in the\n",
    "    path decorator."
   ]
  },
  {
   "cell_type": "markdown",
   "metadata": {},
   "source": [
    "```python\n",
    "# chapter3_response_path_parameters_03.py\n",
    "from fastapi import FastAPI\n",
    "from pydantic import BaseModel\n",
    "app = FastAPI()\n",
    "\n",
    "class Post(BaseModel):\n",
    "    title: str\n",
    "    nb_views: int\n",
    "\n",
    "class PublicPost(BaseModel):\n",
    "    title: str\n",
    "\n",
    "# Dummy database\n",
    "posts = {\n",
    "    1: Post(title=\"Post #1\", nb_views=100),\n",
    "}\n",
    "\n",
    "@app.get(\"/posts/{id}\", response_model=PublicPost)\n",
    "async def get_post(id: int):\n",
    "    return posts[id]\n",
    "```"
   ]
  },
  {
   "cell_type": "markdown",
   "metadata": {},
   "source": [
    "Note that `posts[id]` is an instance of the pydantic model `Post` which has `nb_views`. However, the resulting JSON only shows title in the public post and not the number of views. \n",
    "\n",
    "\n",
    "The good thing is that this option is also considered by the interactive documentation, \n",
    "which will show the correct output schema to the end user &mdash; hiding `nb_views`."
   ]
  },
  {
   "cell_type": "code",
   "execution_count": 125,
   "metadata": {},
   "outputs": [
    {
     "name": "stdout",
     "output_type": "stream",
     "text": [
      "\u001b[34mHTTP\u001b[39;49;00m/\u001b[34m1.1\u001b[39;49;00m \u001b[34m200\u001b[39;49;00m \u001b[36mOK\u001b[39;49;00m\n",
      "\u001b[36mcontent-length\u001b[39;49;00m: 19\n",
      "\u001b[36mcontent-type\u001b[39;49;00m: application/json\n",
      "\u001b[36mdate\u001b[39;49;00m: Sat, 25 Dec 2021 18:03:31 GMT\n",
      "\u001b[36mserver\u001b[39;49;00m: uvicorn\n",
      "\n",
      "{\n",
      "    \u001b[94m\"title\"\u001b[39;49;00m: \u001b[33m\"Post #1\"\u001b[39;49;00m\n",
      "}\n",
      "\n",
      "\n"
     ]
    }
   ],
   "source": [
    "!http :8000/posts/1"
   ]
  },
  {
   "cell_type": "markdown",
   "metadata": {},
   "source": [
    "### The response parameter"
   ]
  },
  {
   "cell_type": "markdown",
   "metadata": {},
   "source": [
    "The body and status code are not the only interesting parts of an HTTP response. \n",
    "Sometimes, it might be useful to return some custom headers or set cookies. This can be \n",
    "done dynamically using FastAPI directly within the path operation logic by \n",
    "**injecting** the `Response` object as an argument of the path operation function."
   ]
  },
  {
   "cell_type": "markdown",
   "metadata": {},
   "source": [
    "#### Setting headers"
   ]
  },
  {
   "cell_type": "markdown",
   "metadata": {},
   "source": [
    "Sometimes, it might be useful to return some custom headers or set \n",
    "    cookies. The good thing about this approach is that it's within your \n",
    "path operation logic. That means you can dynamically set headers depending on what's \n",
    "happening in your business logic."
   ]
  },
  {
   "cell_type": "markdown",
   "metadata": {},
   "source": [
    "```python\n",
    "from fastapi import FastAPI, Response, Request\n",
    "app = FastAPI()\n",
    "\n",
    "@app.get(\"/custom-header\")\n",
    "async def custom_header(response: Response):\n",
    "    response.headers[\"Custom-Header\"] = \"Custom-Header-Value\"\n",
    "    return {\"hello\": \"world\"}\n",
    "```"
   ]
  },
  {
   "cell_type": "code",
   "execution_count": 136,
   "metadata": {},
   "outputs": [
    {
     "name": "stdout",
     "output_type": "stream",
     "text": [
      "\u001b[34mHTTP\u001b[39;49;00m/\u001b[34m1.1\u001b[39;49;00m \u001b[34m200\u001b[39;49;00m \u001b[36mOK\u001b[39;49;00m\n",
      "\u001b[36mcontent-length\u001b[39;49;00m: 17\n",
      "\u001b[36mcontent-type\u001b[39;49;00m: application/json\n",
      "\u001b[36mcustom-header\u001b[39;49;00m: Custom-Header-Value\n",
      "\u001b[36mdate\u001b[39;49;00m: Sat, 25 Dec 2021 19:11:31 GMT\n",
      "\u001b[36mserver\u001b[39;49;00m: uvicorn\n",
      "\n",
      "{\n",
      "    \u001b[94m\"hello\"\u001b[39;49;00m: \u001b[33m\"world\"\u001b[39;49;00m\n",
      "}\n",
      "\n",
      "\n"
     ]
    }
   ],
   "source": [
    "!http :8000/custom-header"
   ]
  },
  {
   "cell_type": "markdown",
   "metadata": {},
   "source": [
    "Note you don't have to return `response` (though this is the natural thing to do). You can \n",
    "    still return JSON-encodable data and FastAPI will take care of forming a proper response, \n",
    "    including the headers you've set. Therefore, the `response_model` and `status_code` options \n",
    "    we discussed are still honored [^ref].\n",
    "\n",
    "[^ref]: Assuming these are not set in the response object! The attributes of the response object **overrides** the corresponding parameters in the decorator. See warning at the end of the *Building a custom response* section. "
   ]
  },
  {
   "cell_type": "markdown",
   "metadata": {},
   "source": [
    "#### Setting cookies"
   ]
  },
  {
   "cell_type": "markdown",
   "metadata": {},
   "source": [
    "Cookies can also be particularly useful when you want to maintain the \n",
    "    user's state within the browser between each of their visits. The `Response` object exposes \n",
    "    a convenient `set_cookie` method:"
   ]
  },
  {
   "cell_type": "markdown",
   "metadata": {},
   "source": [
    "```python\n",
    "# chapter3_response_parameter_01.py\n",
    "\n",
    "@app.get(\"/custom-cookie\")\n",
    "async def custom_cookie(response: Response):\n",
    "    response.set_cookie(\"cookie-name\", \"cookie-value\", max_age=86400)\n",
    "    return {\"hello\": \"world\"}\n",
    "```"
   ]
  },
  {
   "cell_type": "markdown",
   "metadata": {},
   "source": [
    "We will see the ff. header added to the response:\n",
    "    `set-cookie: cookie-name=cookie-value; Max-Age=86400; Path=/; SameSite=lax`"
   ]
  },
  {
   "cell_type": "code",
   "execution_count": 137,
   "metadata": {},
   "outputs": [
    {
     "name": "stdout",
     "output_type": "stream",
     "text": [
      "\u001b[34mHTTP\u001b[39;49;00m/\u001b[34m1.1\u001b[39;49;00m \u001b[34m200\u001b[39;49;00m \u001b[36mOK\u001b[39;49;00m\n",
      "\u001b[36mSet-Cookie\u001b[39;49;00m: cookie-name=cookie-value; Max-Age=86400; Path=/; SameSite=lax\n",
      "\u001b[36mcontent-length\u001b[39;49;00m: 17\n",
      "\u001b[36mcontent-type\u001b[39;49;00m: application/json\n",
      "\u001b[36mdate\u001b[39;49;00m: Sat, 25 Dec 2021 19:11:39 GMT\n",
      "\u001b[36mserver\u001b[39;49;00m: uvicorn\n",
      "\u001b[36mset-cookie\u001b[39;49;00m: cookie-name=cookie-value; Max-Age=86400; Path=/; SameSite=lax\n",
      "\n",
      "{\n",
      "    \u001b[94m\"hello\"\u001b[39;49;00m: \u001b[33m\"world\"\u001b[39;49;00m\n",
      "}\n",
      "\n",
      "\n"
     ]
    }
   ],
   "source": [
    "!http :8000/custom-cookie"
   ]
  },
  {
   "cell_type": "markdown",
   "metadata": {},
   "source": [
    "#### Setting status code dynamically"
   ]
  },
  {
   "cell_type": "markdown",
   "metadata": {},
   "source": [
    "Recall we set the `status_code` parameter in the\n",
    "    path function decorator. The drawback to this approach is that it'll always be the same \n",
    "    no matter what's happening inside. This can be set dynamically in the `response` object. Again, this overrides the corresponding parameter in the decorator."
   ]
  },
  {
   "cell_type": "markdown",
   "metadata": {},
   "source": [
    "```python\n",
    "@app.put(\"/posts/{id}\")\n",
    "async def update_or_create_post(id: int, post: Post, response: Response):\n",
    "    if id not in posts.keys():\n",
    "        response.status_code = status.HTTP_201_CREATED\n",
    "    posts[id] = post\n",
    "```"
   ]
  },
  {
   "cell_type": "markdown",
   "metadata": {},
   "source": [
    "Creating a new post:"
   ]
  },
  {
   "cell_type": "code",
   "execution_count": 150,
   "metadata": {},
   "outputs": [
    {
     "name": "stdout",
     "output_type": "stream",
     "text": [
      "\u001b[34mHTTP\u001b[39;49;00m/\u001b[34m1.1\u001b[39;49;00m \u001b[34m201\u001b[39;49;00m \u001b[36mCreated\u001b[39;49;00m\n",
      "\u001b[36mcontent-length\u001b[39;49;00m: 4\n",
      "\u001b[36mcontent-type\u001b[39;49;00m: application/json\n",
      "\u001b[36mdate\u001b[39;49;00m: Sat, 25 Dec 2021 19:23:30 GMT\n",
      "\u001b[36mserver\u001b[39;49;00m: uvicorn\n",
      "\n",
      "\u001b[34mnull\u001b[39;49;00m\n",
      "\n",
      "\n"
     ]
    }
   ],
   "source": [
    "!http PUT :8000/posts/2 title=\"Post #2\" nb_views=1"
   ]
  },
  {
   "cell_type": "markdown",
   "metadata": {},
   "source": [
    "Updating an old post:"
   ]
  },
  {
   "cell_type": "code",
   "execution_count": 152,
   "metadata": {},
   "outputs": [
    {
     "name": "stdout",
     "output_type": "stream",
     "text": [
      "\u001b[34mHTTP\u001b[39;49;00m/\u001b[34m1.1\u001b[39;49;00m \u001b[34m200\u001b[39;49;00m \u001b[36mOK\u001b[39;49;00m\n",
      "\u001b[36mcontent-length\u001b[39;49;00m: 4\n",
      "\u001b[36mcontent-type\u001b[39;49;00m: application/json\n",
      "\u001b[36mdate\u001b[39;49;00m: Sat, 25 Dec 2021 19:23:38 GMT\n",
      "\u001b[36mserver\u001b[39;49;00m: uvicorn\n",
      "\n",
      "\u001b[34mnull\u001b[39;49;00m\n",
      "\n",
      "\n"
     ]
    }
   ],
   "source": [
    "!http PUT :8000/posts/1 title=\"Post #1\" nb_views=2"
   ]
  },
  {
   "cell_type": "markdown",
   "metadata": {},
   "source": [
    "Note: don't use this pattern to set error status code, e.g. `404 Not Found`. See next\n",
    "    section. Also, dynamic status codes are not detected by the automatic documentation."
   ]
  },
  {
   "cell_type": "markdown",
   "metadata": {},
   "source": [
    "### Raising HTTP errors"
   ]
  },
  {
   "cell_type": "markdown",
   "metadata": {},
   "source": [
    "Errors can happen for a lot of reasons: wrong parameters, invalid \n",
    "    payloads, or objects that don't exist anymore. That's why it's critical to detect them and \n",
    "    raise a clear and unambiguous error message to the end user so that they can correct their \n",
    "    mistake. Two places to return error: payload and status code."
   ]
  },
  {
   "cell_type": "markdown",
   "metadata": {},
   "source": [
    "```python\n",
    "# chapter3_raise_errors_01.py\n",
    "\n",
    "@app.post(\"/password\")\n",
    "async def check_password(password: str = Body(...), password_confirm: str = Body(...)):\n",
    "    if password != password_confirm:\n",
    "        raise HTTPException(\n",
    "            status.HTTP_400_BAD_REQUEST,\n",
    "            detail=\"Passwords don't match.\",\n",
    "        )\n",
    "    return {\"message\": \"Passwords match.\"}\n",
    "```"
   ]
  },
  {
   "cell_type": "code",
   "execution_count": 165,
   "metadata": {},
   "outputs": [
    {
     "name": "stdout",
     "output_type": "stream",
     "text": [
      "\u001b[34mHTTP\u001b[39;49;00m/\u001b[34m1.1\u001b[39;49;00m \u001b[34m400\u001b[39;49;00m \u001b[36mBad Request\u001b[39;49;00m\n",
      "\u001b[36mcontent-length\u001b[39;49;00m: 34\n",
      "\u001b[36mcontent-type\u001b[39;49;00m: application/json\n",
      "\u001b[36mdate\u001b[39;49;00m: Sat, 25 Dec 2021 19:42:27 GMT\n",
      "\u001b[36mserver\u001b[39;49;00m: uvicorn\n",
      "\n",
      "{\n",
      "    \u001b[94m\"detail\"\u001b[39;49;00m: \u001b[33m\"Password don't match.\"\u001b[39;49;00m\n",
      "}\n",
      "\n",
      "\n"
     ]
    }
   ],
   "source": [
    "!http :8000/password password=a123 password_confirm=A123"
   ]
  },
  {
   "cell_type": "markdown",
   "metadata": {},
   "source": [
    "Here, we do get a 400 status code and our error message has been wrapped nicely in a \n",
    "    JSON object with the detail key. This is how FastAPI handles errors by default. We can\n",
    "    make a more detailed description by returning a dictionary for the `detail` parameter:\n",
    "\n",
    "```PYTHON\n",
    "detail={\n",
    "    \"message\": \"Passwords don't match.\",\n",
    "    \"hints\": [\n",
    "        \"Check the caps lock on your keyboard\",\n",
    "        \"Try to make the password visible by clicking on the eye icon to check your typing\",\n",
    "        ],\n",
    "},\n",
    "```"
   ]
  },
  {
   "cell_type": "markdown",
   "metadata": {},
   "source": [
    "### Building a custom response"
   ]
  },
  {
   "cell_type": "markdown",
   "metadata": {},
   "source": [
    "So far, all of the methods you have seen should cover the majority of cases you'll \n",
    "encounter during the development of an API. Sometimes, however, you'll have scenarios \n",
    "where you'll need to build a complete HTTP response yourself. This is the subject of the \n",
    "next section"
   ]
  },
  {
   "cell_type": "markdown",
   "metadata": {},
   "source": [
    "Under the hood, FastAPI uses a subclass of `Response`, called \n",
    "    `JSONResponse`. Quite predictably, this response class takes care of serializing some \n",
    "    data to JSON and adding the correct `Content-Type` header."
   ]
  },
  {
   "cell_type": "markdown",
   "metadata": {},
   "source": [
    "- `HTMLResponse`: This can be used to return an HTML response.\n",
    "- `PlainTextResponse`: This can be used to return raw text.\n",
    "- `RedirectResponse`: This can be used to make a redirection.\n",
    "- `StreamingResponse`: This can be used to stream a flow of bytes.\n",
    "- `FileResponse`: This can be used to automatically build a proper file response given \n",
    "the path of a file on the local disk. "
   ]
  },
  {
   "cell_type": "markdown",
   "metadata": {},
   "source": [
    "You have two ways of using them: either setting the `response_class` argument on the \n",
    "path decorator or directly returning a response instance.\n"
   ]
  },
  {
   "cell_type": "markdown",
   "metadata": {},
   "source": [
    "#### Using the response_class argument"
   ]
  },
  {
   "cell_type": "markdown",
   "metadata": {},
   "source": [
    "```python\n",
    "@app.get(\"/html\", response_class=HTMLResponse)\n",
    "async def get_html():\n",
    "    return \"\"\"\n",
    "    <html>\n",
    "        <head>\n",
    "            <title>Hello world!</title>\n",
    "        </head>\n",
    "        <body>\n",
    "            <h1>Hello world!</h1>\n",
    "        </body>\n",
    "    </html>\n",
    "    \"\"\"\n",
    "\n",
    "@app.get(\"/text\", response_class=PlainTextResponse)\n",
    "async def text():\n",
    "    return \"Hello world!\" \n",
    "```"
   ]
  },
  {
   "cell_type": "markdown",
   "metadata": {},
   "source": [
    "#### Making a redirection"
   ]
  },
  {
   "cell_type": "markdown",
   "metadata": {},
   "source": [
    "For the rest of responses class, we have to build the response \n",
    "    instance. `RedirectResponse` is a class that helps you build an HTTP redirection, which \n",
    "    simply is an HTTP response with a Location header pointing to the new URL and a status \n",
    "    code in the `3XX` range. It simply expects the URL you wish to redirect to as the first \n",
    "    argument:\n",
    "\n",
    "```python\n",
    "@app.get(\"/redirect\")\n",
    "async def redirect():\n",
    "    return RedirectResponse(\"/new-url\") # 307 Temporary Redirect\n",
    "```"
   ]
  },
  {
   "cell_type": "markdown",
   "metadata": {},
   "source": [
    "#### Serving a file"
   ]
  },
  {
   "cell_type": "markdown",
   "metadata": {},
   "source": [
    "`FileResponse` will be useful for downloading files. This response class will automatically take care of \n",
    "    opening the file on disk and streaming the bytes along with the proper HTTP headers. We may need to install `aiofiles` as a dependency."
   ]
  },
  {
   "cell_type": "code",
   "execution_count": 2,
   "metadata": {},
   "outputs": [
    {
     "name": "stdout",
     "output_type": "stream",
     "text": [
      "Requirement already satisfied: aiofiles in /Users/particle1331/miniforge3/envs/ml-cpu/lib/python3.9/site-packages (0.8.0)\n"
     ]
    }
   ],
   "source": [
    "!pip install aiofiles"
   ]
  },
  {
   "cell_type": "markdown",
   "metadata": {},
   "source": [
    "```python\n",
    "# chapter3_custom_response_01.py\n",
    "from fastapi import FastAPI\n",
    "from fastapi.responses import FileResponse\n",
    "from pathlib import Path\n",
    "app = FastAPI()\n",
    "\n",
    "@app.get(\"/dog\")\n",
    "async def get_dog():\n",
    "    root_directory = Path(__file__).absolute().parents[2]\n",
    "    img_path = root_directory / \"assets\" / \"dog.jpeg\"\n",
    "    return FileResponse(img_path)\n",
    "```"
   ]
  },
  {
   "cell_type": "code",
   "execution_count": 174,
   "metadata": {},
   "outputs": [
    {
     "name": "stdout",
     "output_type": "stream",
     "text": [
      "\u001b[34mHTTP\u001b[39;49;00m/\u001b[34m1.1\u001b[39;49;00m \u001b[34m200\u001b[39;49;00m \u001b[36mOK\u001b[39;49;00m\n",
      "\u001b[36mcontent-length\u001b[39;49;00m: 255436\n",
      "\u001b[36mcontent-type\u001b[39;49;00m: image/jpeg\n",
      "\u001b[36mdate\u001b[39;49;00m: Sat, 25 Dec 2021 20:09:09 GMT\n",
      "\u001b[36metag\u001b[39;49;00m: fff0e1b86216561e2e7a9e5d2c06f930\n",
      "\u001b[36mlast-modified\u001b[39;49;00m: Fri, 24 Dec 2021 11:32:45 GMT\n",
      "\u001b[36mserver\u001b[39;49;00m: uvicorn\n",
      "\n",
      "\n",
      "\n",
      "+-----------------------------------------+\n",
      "| NOTE: binary data not shown in terminal |\n",
      "+-----------------------------------------+\n",
      "\n"
     ]
    }
   ],
   "source": [
    "!http :8000/dog\n",
    "# --download to download image"
   ]
  },
  {
   "cell_type": "markdown",
   "metadata": {},
   "source": [
    "In the browser, the image can be displayed:"
   ]
  },
  {
   "cell_type": "markdown",
   "metadata": {},
   "source": [
    "```{figure} ../../img/dog.png\n",
    "---\n",
    "width: 40em\n",
    "name: dog\n",
    "---\n",
    "\n",
    "```"
   ]
  },
  {
   "cell_type": "markdown",
   "metadata": {},
   "source": [
    "#### Custom responses"
   ]
  },
  {
   "cell_type": "markdown",
   "metadata": {},
   "source": [
    "Finally, if you really have a case that's not covered by the provided \n",
    "    classes, you always have the option to use the `Response` class to build exactly what you \n",
    "    need. With this class, you can set everything, including the body content and the headers.\n",
    "    The following example shows you how to return an XML response:\n",
    "\n",
    "```python\n",
    "@app.get(\"/xml\")\n",
    "async def get_xml():\n",
    "    content = \"\"\"\n",
    "        <?xml version=\"1.0\" encoding=\"UTF-8\"?>\n",
    "        <Hello>World</Hello>\n",
    "    \"\"\"\n",
    "    return Response(content=content, media_type=\"application/xml\")\n",
    "```\n"
   ]
  },
  {
   "cell_type": "markdown",
   "metadata": {},
   "source": [
    "```{warning}\n",
    "Bear in mind that when you directly return a `Response` class (or one of \n",
    "its subclasses), the parameters you set on the decorator won't have any effect. They are completely overridden by the \n",
    "`Response` object you return. If you need to customize the status code or the headers, then use the `status_code` and \n",
    "`headers` arguments when instantiating the response object.\n",
    "```"
   ]
  },
  {
   "cell_type": "markdown",
   "metadata": {},
   "source": [
    "## Structuring a bigger project with multiple routers"
   ]
  },
  {
   "cell_type": "markdown",
   "metadata": {},
   "source": [
    "When building a real-world web \n",
    "application, you're likely to have lot of code and logic: data models, API endpoints, and \n",
    "services. Of course, all of those can't live in a single file; we have to structure the \n",
    "project so that it's easy to maintain and evolve.\n",
    "\n",
    "```\n",
    ".\n",
    "└── chapter3_project/\n",
    "    ├── models/\n",
    "    │ ├── __init__.py\n",
    "    │ ├── post.py\n",
    "    │ └── user.py\n",
    "    ├── routers/\n",
    "    │ ├── __init__.py\n",
    "    │ ├── posts.py\n",
    "    │ └── users.py\n",
    "    ├── __init__.py\n",
    "    ├── app.py\n",
    "    └── db.py\n",
    "```"
   ]
  },
  {
   "cell_type": "markdown",
   "metadata": {},
   "source": [
    "Everything is the same, but you separate functionality into separate files each can be thought of as a subapplications, then connect everything together by using **routers**. "
   ]
  },
  {
   "cell_type": "markdown",
   "metadata": {},
   "source": [
    "```python\n",
    "# chapter3_project/routers/users.py\n",
    "from typing import List\n",
    "from fastapi import APIRouter, HTTPException, status\n",
    "from chapter3_project.models.user import User, UserCreate\n",
    "from chapter3_project.db import db\n",
    "router = APIRouter()\n",
    "\n",
    "@router.get(\"/\")\n",
    "async def all() -> List[User]:\n",
    "    return list(db.users.values())\n",
    "```\n",
    "\n",
    "As you can see here, instead of instantiating the FastAPI class, you instantiate the \n",
    "APIRouter class. Then, you can use it exactly the same way to decorate your path \n",
    "operation functions. Now, let's take a look at how to import this router and include it \n",
    "within a FastAPI application:\n",
    "    \n",
    "```PYTHON\n",
    "from fastapi import FastAPI\n",
    "from chapter3_project.routers.posts import router as posts_router\n",
    "from chapter3_project.routers.users import router as users_router\n",
    "\n",
    "app = FastAPI()\n",
    "\n",
    "app.include_router(posts_router, prefix=\"/posts\", tags=[\"posts\"])\n",
    "app.include_router(users_router, prefix=\"/users\", tags=[\"users\"])\n",
    "```\n",
    "\n",
    "Prefixes can also be used to provide versioned paths of your API, such as `/v1`. The \n",
    "tags argument helps you to group endpoints in the interactive documentation for better \n",
    "readability. By doing this, the posts and users endpoints will be clearly separated in \n",
    "the documentation.\n",
    "\n",
    "Once again, you can see that FastAPI is both powerful and very lightweight to use. The \n",
    "good thing about routers is that you can even nest them, that include sub-routers in \n",
    "routers that include other routers themselves. Therefore, you can have a quite complex \n",
    "routing hierarchy with very low effort.\n",
    "\n",
    "```python\n",
    "router.include_router(subrouter, prefix=\"/subrouter-url\", tags=[\"router\"])\n",
    "```\n",
    "    \n"
   ]
  },
  {
   "cell_type": "markdown",
   "metadata": {},
   "source": []
  }
 ],
 "metadata": {
  "interpreter": {
   "hash": "a9b28b0fcd5be7e4e7eff8f7cf674e5d8a777a4aa6f51979c0f0ca8ec7b00ef4"
  },
  "kernelspec": {
   "display_name": "Python 3.7.11 64-bit ('ml': conda)",
   "language": "python",
   "name": "python3"
  },
  "language_info": {
   "codemirror_mode": {
    "name": "ipython",
    "version": 3
   },
   "file_extension": ".py",
   "mimetype": "text/x-python",
   "name": "python",
   "nbconvert_exporter": "python",
   "pygments_lexer": "ipython3",
   "version": "3.9.9"
  },
  "orig_nbformat": 4
 },
 "nbformat": 4,
 "nbformat_minor": 2
}
