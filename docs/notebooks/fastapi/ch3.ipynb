{
 "cells": [
  {
   "cell_type": "markdown",
   "metadata": {},
   "source": [
    "# Developing a RESTful API with FastAPI"
   ]
  },
  {
   "cell_type": "markdown",
   "metadata": {},
   "source": [
    "```{admonition} Attribution\n",
    "Notes on Chapter 3 of {cite}`Voron2021`.\n",
    "```"
   ]
  },
  {
   "cell_type": "markdown",
   "metadata": {},
   "source": [
    "## HTTPie"
   ]
  },
  {
   "cell_type": "markdown",
   "metadata": {},
   "source": [
    "Before delving into the details of building REST APIs, we need to have a tool for making HTTP requests. We will be using HTTPie, a command-line tool aimed at making HTTP\n",
    "requests with an intuitive syntax, JSON support, and syntax highlighting."
   ]
  },
  {
   "cell_type": "markdown",
   "metadata": {},
   "source": [
    "> HTTPie (pronounced aitch-tee-tee-pie) is a command-line HTTP client. Its goal is to make CLI interaction with web services as human-friendly as possible. HTTPie is designed for testing, debugging, and generally interacting with APIs & HTTP servers. The http & https commands allow for creating and sending arbitrary HTTP requests. They use simple and natural syntax and provide formatted and colorized output."
   ]
  },
  {
   "cell_type": "markdown",
   "metadata": {},
   "source": [
    "Basic usage:"
   ]
  },
  {
   "cell_type": "code",
   "execution_count": 1,
   "metadata": {},
   "outputs": [
    {
     "name": "stdout",
     "output_type": "stream",
     "text": [
      "\u001b[34mHTTP\u001b[39;49;00m/\u001b[34m1.1\u001b[39;49;00m \u001b[34m308\u001b[39;49;00m \u001b[36mPermanent Redirect\u001b[39;49;00m\n",
      "\u001b[36mConnection\u001b[39;49;00m: keep-alive\n",
      "\u001b[36mContent-Type\u001b[39;49;00m: text/plain\n",
      "\u001b[36mDate\u001b[39;49;00m: Wed, 22 Dec 2021 17:30:50 GMT\n",
      "\u001b[36mLocation\u001b[39;49;00m: https://httpie.io/hello\n",
      "\u001b[36mRefresh\u001b[39;49;00m: 0;url=https://httpie.io/hello\n",
      "\u001b[36mTransfer-Encoding\u001b[39;49;00m: chunked\n",
      "\u001b[36mserver\u001b[39;49;00m: Vercel\n",
      "\u001b[36mx-vercel-id\u001b[39;49;00m: hkg1::m5nws-1640194250109-6bc035f01cf4\n",
      "\n",
      "Redirecting to https://httpie.io/hello (308)\n",
      "\n",
      "\n"
     ]
    }
   ],
   "source": [
    "!http httpie.io/hello"
   ]
  },
  {
   "cell_type": "markdown",
   "metadata": {},
   "source": [
    "HTTPie also provides an `https` executable for dealing with URLs with `https://`. "
   ]
  },
  {
   "cell_type": "code",
   "execution_count": null,
   "metadata": {},
   "outputs": [],
   "source": [
    "!https example.org\n",
    "# => https://example.org"
   ]
  },
  {
   "cell_type": "markdown",
   "metadata": {},
   "source": [
    "The general form of HTTPie requests is:"
   ]
  },
  {
   "cell_type": "markdown",
   "metadata": {},
   "source": [
    "```\n",
    "http [flags] [METHOD] URL [ITEM [ITEM]]\n",
    "```"
   ]
  },
  {
   "cell_type": "code",
   "execution_count": 3,
   "metadata": {},
   "outputs": [
    {
     "name": "stdout",
     "output_type": "stream",
     "text": [
      "\u001b[34mHTTP\u001b[39;49;00m/\u001b[34m1.1\u001b[39;49;00m \u001b[34m200\u001b[39;49;00m \u001b[36mOK\u001b[39;49;00m\n",
      "\u001b[36mCF-Cache-Status\u001b[39;49;00m: DYNAMIC\n",
      "\u001b[36mCF-RAY\u001b[39;49;00m: 6c1b162059954c05-SIN\n",
      "\u001b[36mConnection\u001b[39;49;00m: keep-alive\n",
      "\u001b[36mContent-Encoding\u001b[39;49;00m: gzip\n",
      "\u001b[36mContent-Type\u001b[39;49;00m: application/json\n",
      "\u001b[36mDate\u001b[39;49;00m: Wed, 22 Dec 2021 17:31:54 GMT\n",
      "\u001b[36mNEL\u001b[39;49;00m: {\"success_fraction\":0,\"report_to\":\"cf-nel\",\"max_age\":604800}\n",
      "\u001b[36mReport-To\u001b[39;49;00m: {\"endpoints\":[{\"url\":\"https:\\/\\/a.nel.cloudflare.com\\/report\\/v3?s=92qJRe8EkgvcvOuNI4OXdIblMLXRCKCKG9IADhHlnyDimWcgtnXQV3JjWwdbF8Xn%2BtcHxakJteorTI2EKVGB9KYj9fqeOPzEP8nA5hA076Ux8A5eY2IhWzGD\"}],\"group\":\"cf-nel\",\"max_age\":604800}\n",
      "\u001b[36mServer\u001b[39;49;00m: cloudflare\n",
      "\u001b[36mTransfer-Encoding\u001b[39;49;00m: chunked\n",
      "\u001b[36maccess-control-allow-credentials\u001b[39;49;00m: true\n",
      "\u001b[36maccess-control-allow-origin\u001b[39;49;00m: *\n",
      "\u001b[36malt-svc\u001b[39;49;00m: h3=\":443\"; ma=86400, h3-29=\":443\"; ma=86400, h3-28=\":443\"; ma=86400, h3-27=\":443\"; ma=86400\n",
      "\n",
      "{\n",
      "    \u001b[94m\"args\"\u001b[39;49;00m: {},\n",
      "    \u001b[94m\"data\"\u001b[39;49;00m: \u001b[33m\"\"\u001b[39;49;00m,\n",
      "    \u001b[94m\"files\"\u001b[39;49;00m: {},\n",
      "    \u001b[94m\"form\"\u001b[39;49;00m: {\n",
      "        \u001b[94m\"hello\"\u001b[39;49;00m: \u001b[33m\"World\"\u001b[39;49;00m\n",
      "    },\n",
      "    \u001b[94m\"headers\"\u001b[39;49;00m: {\n",
      "        \u001b[94m\"Accept\"\u001b[39;49;00m: \u001b[33m\"*/*\"\u001b[39;49;00m,\n",
      "        \u001b[94m\"Accept-Encoding\"\u001b[39;49;00m: \u001b[33m\"gzip\"\u001b[39;49;00m,\n",
      "        \u001b[94m\"Cdn-Loop\"\u001b[39;49;00m: \u001b[33m\"cloudflare\"\u001b[39;49;00m,\n",
      "        \u001b[94m\"Cf-Connecting-Ip\"\u001b[39;49;00m: \u001b[33m\"180.190.33.134\"\u001b[39;49;00m,\n",
      "        \u001b[94m\"Cf-Ipcountry\"\u001b[39;49;00m: \u001b[33m\"PH\"\u001b[39;49;00m,\n",
      "        \u001b[94m\"Cf-Ray\"\u001b[39;49;00m: \u001b[33m\"6c1b162059954c05-FRA\"\u001b[39;49;00m,\n",
      "        \u001b[94m\"Cf-Visitor\"\u001b[39;49;00m: \u001b[33m\"{\\\"scheme\\\":\\\"http\\\"}\"\u001b[39;49;00m,\n",
      "        \u001b[94m\"Connection\"\u001b[39;49;00m: \u001b[33m\"Keep-Alive\"\u001b[39;49;00m,\n",
      "        \u001b[94m\"Content-Length\"\u001b[39;49;00m: \u001b[33m\"11\"\u001b[39;49;00m,\n",
      "        \u001b[94m\"Content-Type\"\u001b[39;49;00m: \u001b[33m\"application/x-www-form-urlencoded; charset=utf-8\"\u001b[39;49;00m,\n",
      "        \u001b[94m\"Host\"\u001b[39;49;00m: \u001b[33m\"pie.dev\"\u001b[39;49;00m,\n",
      "        \u001b[94m\"User-Agent\"\u001b[39;49;00m: \u001b[33m\"HTTPie/2.6.0\"\u001b[39;49;00m\n",
      "    },\n",
      "    \u001b[94m\"json\"\u001b[39;49;00m: \u001b[34mnull\u001b[39;49;00m,\n",
      "    \u001b[94m\"origin\"\u001b[39;49;00m: \u001b[33m\"180.190.33.134\"\u001b[39;49;00m,\n",
      "    \u001b[94m\"url\"\u001b[39;49;00m: \u001b[33m\"http://pie.dev/post\"\u001b[39;49;00m\n",
      "}\n",
      "\n",
      "\n"
     ]
    }
   ],
   "source": [
    "!http -f POST pie.dev/post hello=World"
   ]
  },
  {
   "cell_type": "markdown",
   "metadata": {},
   "source": [
    "### Optional `GET` and `POST`"
   ]
  },
  {
   "cell_type": "markdown",
   "metadata": {},
   "source": [
    "The `METHOD` argument is optional, and when you don’t specify it, HTTPie defaults to:\n",
    "\n",
    "- `GET` for requests without body\n",
    "- `POST` for requests with body"
   ]
  },
  {
   "cell_type": "markdown",
   "metadata": {},
   "source": [
    "e.g. `http GET pie.dev/get` and `http pie.dev/get` are both `GET` requests. Here, on the other hand, we do have some data, so both commands will make the same POST request: `http POST pie.dev/post hello=world` and `http pie.dev/post hello=world`."
   ]
  },
  {
   "cell_type": "markdown",
   "metadata": {},
   "source": [
    "### Querystring parameters "
   ]
  },
  {
   "cell_type": "markdown",
   "metadata": {},
   "source": [
    "HTTPie provides `param==value` syntax for appending URL querystring parameters. With that, you don’t have to worry about escaping the `&` separators for your shell. TFAE:"
   ]
  },
  {
   "cell_type": "code",
   "execution_count": null,
   "metadata": {},
   "outputs": [],
   "source": [
    "!http https://api.github.com/search/repositories q==httpie per_page==1\n",
    "!http \"https://api.github.com/search/repositories?q=httpie&per_page=1\""
   ]
  },
  {
   "cell_type": "markdown",
   "metadata": {},
   "source": [
    "### URL shortcuts for `localhost`"
   ]
  },
  {
   "cell_type": "markdown",
   "metadata": {},
   "source": [
    "Shorthand for localhost is supported. For example, `:3000` would expand to `http://localhost:3000`. If the port is omitted, then port 80 is assumed."
   ]
  },
  {
   "cell_type": "markdown",
   "metadata": {},
   "source": []
  }
 ],
 "metadata": {
  "interpreter": {
   "hash": "a9b28b0fcd5be7e4e7eff8f7cf674e5d8a777a4aa6f51979c0f0ca8ec7b00ef4"
  },
  "kernelspec": {
   "display_name": "Python 3.7.11 64-bit ('ml': conda)",
   "language": "python",
   "name": "python3"
  },
  "language_info": {
   "codemirror_mode": {
    "name": "ipython",
    "version": 3
   },
   "file_extension": ".py",
   "mimetype": "text/x-python",
   "name": "python",
   "nbconvert_exporter": "python",
   "pygments_lexer": "ipython3",
   "version": "3.9.9"
  },
  "orig_nbformat": 4
 },
 "nbformat": 4,
 "nbformat_minor": 2
}
