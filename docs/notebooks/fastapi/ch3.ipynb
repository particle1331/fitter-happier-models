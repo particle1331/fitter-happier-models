{
 "cells": [
  {
   "cell_type": "markdown",
   "metadata": {},
   "source": [
    "# Developing a RESTful API with FastAPI"
   ]
  },
  {
   "cell_type": "markdown",
   "metadata": {},
   "source": [
    "```{admonition} Attribution\n",
    "Notes on *Chapter 3: Developing a RESTful API with FastAPI* of {cite}`Voron2021`. The source files for running the local uvicorn servers can be found [here](https://github.com/particle1331/machine-learning/tree/master/docs/notebooks/fastapi/src/chapter3).\n",
    "```"
   ]
  },
  {
   "cell_type": "markdown",
   "metadata": {},
   "source": [
    "**Goals** \n",
    "   * Create working API endpoint and test it locally with HTTPie\n",
    "   * Handling request parameters and customizing a response\n",
    "   * Structuring a bigger project with routes"
   ]
  },
  {
   "cell_type": "markdown",
   "metadata": {},
   "source": [
    "## Hello, world!"
   ]
  },
  {
   "cell_type": "markdown",
   "metadata": {},
   "source": [
    "Let us quickly create a simple endpoint which has a GET method.\n",
    "\n",
    "```python\n",
    "# main.py\n",
    "from fastapi import FastAPI\n",
    "\n",
    "app = FastAPI()\n",
    "\n",
    "@app.get(\"/\")\n",
    "async def hello_world():\n",
    "    return {\"hello\": \"world\"}\n",
    "```"
   ]
  },
  {
   "cell_type": "markdown",
   "metadata": {},
   "source": [
    "The path function `hello_world` contains our route logic for the path `/` specified in the decorator. The decorator also specifies what HTTP method this function implements. The return value is automatically handled by FastAPI to produce a proper HTTP response with a JSON payload."
   ]
  },
  {
   "cell_type": "markdown",
   "metadata": {},
   "source": [
    "Here `app` is the main application object that will wire all of the API routes. We will \n",
    "start the server in the terminal as follows: \n",
    "\n",
    "```\n",
    "$ uvicorn main:app\n",
    "INFO:     Started server process [14121]\n",
    "INFO:     Waiting for application startup.\n",
    "INFO:     Application startup complete.\n",
    "INFO:     Uvicorn running on http://127.0.0.1:8000 (Press CTRL+C to quit)\n",
    "```\n",
    "\n",
    "Then, we perform the following GET request."
   ]
  },
  {
   "cell_type": "code",
   "execution_count": 54,
   "metadata": {},
   "outputs": [
    {
     "data": {
      "text/plain": [
       "{'hello': 'world'}"
      ]
     },
     "execution_count": 54,
     "metadata": {},
     "output_type": "execute_result"
    }
   ],
   "source": [
    "import requests\n",
    "root = \"http://127.0.0.1:8000\"\n",
    "path = \"/\"\n",
    "\n",
    "response = requests.get(root + path)\n",
    "response.json()"
   ]
  },
  {
   "cell_type": "markdown",
   "metadata": {},
   "source": [
    "## HTTPie"
   ]
  },
  {
   "cell_type": "markdown",
   "metadata": {},
   "source": [
    "Before delving into the details of building REST APIs, we need to have a tool for making HTTP requests. We will be using **HTTPie**, a command-line tool aimed at making HTTP\n",
    "requests with an intuitive syntax, JSON support, and syntax highlighting."
   ]
  },
  {
   "cell_type": "markdown",
   "metadata": {},
   "source": [
    "> HTTPie (pronounced *aitch*-*tee-tee-pie*) is a command-line HTTP client. Its goal is to make CLI interaction with web services as human-friendly as possible. HTTPie is designed for testing, debugging, and generally interacting with APIs & HTTP servers. The `http` & `https` commands allow for creating and sending arbitrary HTTP requests. They use simple and natural syntax and provide formatted and colorized output."
   ]
  },
  {
   "cell_type": "markdown",
   "metadata": {},
   "source": [
    "The general form of an HTTPie request is:"
   ]
  },
  {
   "cell_type": "markdown",
   "metadata": {},
   "source": [
    "```\n",
    "http [flags] [METHOD] URL [ITEM [ITEM]]\n",
    "```"
   ]
  },
  {
   "cell_type": "markdown",
   "metadata": {},
   "source": [
    "For our local server, we can call:"
   ]
  },
  {
   "cell_type": "code",
   "execution_count": 57,
   "metadata": {},
   "outputs": [
    {
     "name": "stdout",
     "output_type": "stream",
     "text": [
      "\u001b[32mGET\u001b[39;49;00m \u001b[04m\u001b[36m/\u001b[39;49;00m \u001b[34mHTTP\u001b[39;49;00m/\u001b[34m1.1\u001b[39;49;00m\n",
      "\u001b[36mAccept\u001b[39;49;00m: */*\n",
      "\u001b[36mAccept-Encoding\u001b[39;49;00m: gzip, deflate, br\n",
      "\u001b[36mConnection\u001b[39;49;00m: keep-alive\n",
      "\u001b[36mHost\u001b[39;49;00m: 127.0.0.1:8000\n",
      "\u001b[36mUser-Agent\u001b[39;49;00m: HTTPie/2.6.0\n",
      "\n",
      "\n",
      "\n",
      "\u001b[34mHTTP\u001b[39;49;00m/\u001b[34m1.1\u001b[39;49;00m \u001b[34m200\u001b[39;49;00m \u001b[36mOK\u001b[39;49;00m\n",
      "\u001b[36mcontent-length\u001b[39;49;00m: 17\n",
      "\u001b[36mcontent-type\u001b[39;49;00m: application/json\n",
      "\u001b[36mdate\u001b[39;49;00m: Thu, 23 Dec 2021 10:51:09 GMT\n",
      "\u001b[36mserver\u001b[39;49;00m: uvicorn\n",
      "\n",
      "{\n",
      "    \u001b[94m\"hello\"\u001b[39;49;00m: \u001b[33m\"world\"\u001b[39;49;00m\n",
      "}\n",
      "\n",
      "\n"
     ]
    }
   ],
   "source": [
    "!http -v GET http://127.0.0.1:8000/"
   ]
  },
  {
   "cell_type": "markdown",
   "metadata": {},
   "source": [
    "The flag `-v` or `--verbose` is used here to print both the request and response. HTTPie also provides an `https` executable for dealing with URLs with `https://`. "
   ]
  },
  {
   "cell_type": "markdown",
   "metadata": {},
   "source": [
    "### Optional GET and POST"
   ]
  },
  {
   "cell_type": "markdown",
   "metadata": {},
   "source": [
    "The `METHOD` argument is optional, and when you don’t specify it, HTTPie defaults to:\n",
    "\n",
    "- `GET` for requests without body\n",
    "- `POST` for requests with body"
   ]
  },
  {
   "cell_type": "markdown",
   "metadata": {},
   "source": [
    "For example, the following is a GET request. "
   ]
  },
  {
   "cell_type": "code",
   "execution_count": null,
   "metadata": {},
   "outputs": [],
   "source": [
    "!http -v pie.dev/get "
   ]
  },
  {
   "cell_type": "markdown",
   "metadata": {},
   "source": [
    "On the other hand, the following request has data, so that the following defaults to a POST request:"
   ]
  },
  {
   "cell_type": "code",
   "execution_count": null,
   "metadata": {},
   "outputs": [],
   "source": [
    "!http -v pie.dev/post hello=world"
   ]
  },
  {
   "cell_type": "markdown",
   "metadata": {},
   "source": [
    "### Querystring parameters "
   ]
  },
  {
   "cell_type": "markdown",
   "metadata": {},
   "source": [
    "HTTPie provides `param==value` syntax for appending URL querystring parameters. With that, you don’t have to worry about escaping the `&` separators for your shell. The following are equivalent:"
   ]
  },
  {
   "cell_type": "code",
   "execution_count": null,
   "metadata": {},
   "outputs": [],
   "source": [
    "!http https://api.github.com/search/repositories q==httpie per_page==1\n",
    "!http \"https://api.github.com/search/repositories?q=httpie&per_page=1\""
   ]
  },
  {
   "cell_type": "markdown",
   "metadata": {},
   "source": [
    "### URL shortcuts for localhost"
   ]
  },
  {
   "cell_type": "markdown",
   "metadata": {},
   "source": [
    "Shorthand for `localhost` is supported. For example, `:8000` would expand to `http://localhost:8000`. If the port is omitted, then port 80 is assumed."
   ]
  },
  {
   "cell_type": "code",
   "execution_count": 71,
   "metadata": {},
   "outputs": [
    {
     "name": "stdout",
     "output_type": "stream",
     "text": [
      "\u001b[34mHTTP\u001b[39;49;00m/\u001b[34m1.1\u001b[39;49;00m \u001b[34m200\u001b[39;49;00m \u001b[36mOK\u001b[39;49;00m\n",
      "\u001b[36mcontent-length\u001b[39;49;00m: 17\n",
      "\u001b[36mcontent-type\u001b[39;49;00m: application/json\n",
      "\u001b[36mdate\u001b[39;49;00m: Thu, 23 Dec 2021 10:54:35 GMT\n",
      "\u001b[36mserver\u001b[39;49;00m: uvicorn\n",
      "\n",
      "{\n",
      "    \u001b[94m\"hello\"\u001b[39;49;00m: \u001b[33m\"world\"\u001b[39;49;00m\n",
      "}\n",
      "\n",
      "\n"
     ]
    }
   ],
   "source": [
    "!http :8000"
   ]
  },
  {
   "cell_type": "markdown",
   "metadata": {},
   "source": [
    "## Automatic documentation"
   ]
  },
  {
   "cell_type": "markdown",
   "metadata": {},
   "source": [
    "One of the most beloved features of FastAPI is the automatic interactive documentation.\n",
    "If you open `http://localhost:8000/docs` in your browser, you should get a web\n",
    "interface that looks similar to the following screenshot:"
   ]
  },
  {
   "cell_type": "markdown",
   "metadata": {},
   "source": [
    "```{figure} ../../img/fastapi-docs.png\n",
    "---\n",
    "width: 40em\n",
    "name: fastapi-docs\n",
    "---\n",
    "\n",
    "```"
   ]
  },
  {
   "cell_type": "markdown",
   "metadata": {},
   "source": [
    "FastAPI automatically lists all defined endpoints and provide documentation about the expected inputs and outputs. You can even try each endpoint directly in this web interface."
   ]
  },
  {
   "cell_type": "markdown",
   "metadata": {},
   "source": [
    "## Handling request parameters"
   ]
  },
  {
   "cell_type": "markdown",
   "metadata": {},
   "source": [
    "The main goal of a REST API is to provide a structured way \n",
    "   in which to interact with data. As such, it's crucial for the end user to send some \n",
    "   information to tailor the response they need, such as \n",
    "\n",
    "   - path parameters,\n",
    "   - query parameters, \n",
    "   - body payloads, or \n",
    "   - headers."
   ]
  },
  {
   "cell_type": "markdown",
   "metadata": {},
   "source": [
    "To handle them, usually, web frameworks ask you to manipulate a request object to retrieve \n",
    "   the parts you are interested in and manually apply validation. However, that's not necessary \n",
    "   with FastAPI. Indeed, it allows you to define all of your parameters declaratively. Then, \n",
    "   it'll automatically retrieve them in the request and apply validations based on the type \n",
    "   hints as we will see below."
   ]
  },
  {
   "cell_type": "markdown",
   "metadata": {},
   "source": [
    "### Path parameters"
   ]
  },
  {
   "cell_type": "markdown",
   "metadata": {},
   "source": [
    "We can have dynamic parameters in our paths which can then be passed to the path function. For example:\n",
    "\n",
    "```python\n",
    "# chapter3_path_parameters_01.py\n",
    "\n",
    "@app.get(\"/users/{id}\")\n",
    "async def get_user(id: int):\n",
    "    return {\"id\": id}\n",
    "```"
   ]
  },
  {
   "cell_type": "markdown",
   "metadata": {},
   "source": [
    "Then, we can make the following request for `id=123` (or for any other integer):"
   ]
  },
  {
   "cell_type": "code",
   "execution_count": 83,
   "metadata": {},
   "outputs": [
    {
     "name": "stdout",
     "output_type": "stream",
     "text": [
      "\u001b[34mHTTP\u001b[39;49;00m/\u001b[34m1.1\u001b[39;49;00m \u001b[34m200\u001b[39;49;00m \u001b[36mOK\u001b[39;49;00m\n",
      "\u001b[36mcontent-length\u001b[39;49;00m: 10\n",
      "\u001b[36mcontent-type\u001b[39;49;00m: application/json\n",
      "\u001b[36mdate\u001b[39;49;00m: Thu, 23 Dec 2021 14:35:30 GMT\n",
      "\u001b[36mserver\u001b[39;49;00m: uvicorn\n",
      "\n",
      "{\n",
      "    \u001b[94m\"id\"\u001b[39;49;00m: \u001b[34m123\u001b[39;49;00m\n",
      "}\n",
      "\n",
      "\n"
     ]
    }
   ],
   "source": [
    "!http :8000/users/123"
   ]
  },
  {
   "cell_type": "markdown",
   "metadata": {},
   "source": [
    "Notice the **type hint** in the path parameter `id`. If we pass a string into `id`, we get a response with a 422 status! Since this cannot be converted as a valid integer, the validation fails and outputs an error. All we need to do to trigger this validation is to type hint our parameter! Very cool."
   ]
  },
  {
   "cell_type": "markdown",
   "metadata": {},
   "source": [
    "#### Validation logic for path parameters\n",
    "\n",
    "**Enumeration**. In the example below, `type` is a categorical parameter with two accepted values. We inherit from the `str` type and `Enum` class to facilitate the intended typing. We simply list the property name and its actual string value. "
   ]
  },
  {
   "cell_type": "markdown",
   "metadata": {},
   "source": [
    "```python\n",
    "# chapter3_path_parameters_02.py\n",
    "\n",
    "class UserType(str, Enum):\n",
    "    STANDARD = \"standard\"\n",
    "    ADMIN = \"admin\"\n",
    "\n",
    "\n",
    "@app.get(\"/users/{type}/{id}\")\n",
    "async def get_user(id: int, type: UserType):\n",
    "    return {\"id\": id, \"type\": type}\n",
    "```\n"
   ]
  },
  {
   "cell_type": "markdown",
   "metadata": {},
   "source": [
    "Note that the actual string value is what is passed in the `type` parameter (not the property name). If we pass a value that is not in the enumeration, we get an error."
   ]
  },
  {
   "cell_type": "code",
   "execution_count": 119,
   "metadata": {},
   "outputs": [
    {
     "name": "stdout",
     "output_type": "stream",
     "text": [
      "\u001b[34mHTTP\u001b[39;49;00m/\u001b[34m1.1\u001b[39;49;00m \u001b[34m200\u001b[39;49;00m \u001b[36mOK\u001b[39;49;00m\n",
      "\u001b[36mcontent-length\u001b[39;49;00m: 23\n",
      "\u001b[36mcontent-type\u001b[39;49;00m: application/json\n",
      "\u001b[36mdate\u001b[39;49;00m: Fri, 24 Dec 2021 07:15:25 GMT\n",
      "\u001b[36mserver\u001b[39;49;00m: uvicorn\n",
      "\n",
      "{\n",
      "    \u001b[94m\"id\"\u001b[39;49;00m: \u001b[34m3\u001b[39;49;00m,\n",
      "    \u001b[94m\"type\"\u001b[39;49;00m: \u001b[33m\"admin\"\u001b[39;49;00m\n",
      "}\n",
      "\n",
      "\n"
     ]
    }
   ],
   "source": [
    "!http :8000/users/admin/3"
   ]
  },
  {
   "cell_type": "code",
   "execution_count": 120,
   "metadata": {},
   "outputs": [
    {
     "name": "stdout",
     "output_type": "stream",
     "text": [
      "\u001b[34mHTTP\u001b[39;49;00m/\u001b[34m1.1\u001b[39;49;00m \u001b[34m422\u001b[39;49;00m \u001b[36mUnprocessable Entity\u001b[39;49;00m\n",
      "\u001b[36mcontent-length\u001b[39;49;00m: 184\n",
      "\u001b[36mcontent-type\u001b[39;49;00m: application/json\n",
      "\u001b[36mdate\u001b[39;49;00m: Fri, 24 Dec 2021 07:15:47 GMT\n",
      "\u001b[36mserver\u001b[39;49;00m: uvicorn\n",
      "\n",
      "{\n",
      "    \u001b[94m\"detail\"\u001b[39;49;00m: [\n",
      "        {\n",
      "            \u001b[94m\"ctx\"\u001b[39;49;00m: {\n",
      "                \u001b[94m\"enum_values\"\u001b[39;49;00m: [\n",
      "                    \u001b[33m\"standard\"\u001b[39;49;00m,\n",
      "                    \u001b[33m\"admin\"\u001b[39;49;00m\n",
      "                ]\n",
      "            },\n",
      "            \u001b[94m\"loc\"\u001b[39;49;00m: [\n",
      "                \u001b[33m\"path\"\u001b[39;49;00m,\n",
      "                \u001b[33m\"type\"\u001b[39;49;00m\n",
      "            ],\n",
      "            \u001b[94m\"msg\"\u001b[39;49;00m: \u001b[33m\"value is not a valid enumeration member; permitted: 'standard', 'admin'\"\u001b[39;49;00m,\n",
      "            \u001b[94m\"type\"\u001b[39;49;00m: \u001b[33m\"type_error.enum\"\u001b[39;49;00m\n",
      "        }\n",
      "    ]\n",
      "}\n",
      "\n",
      "\n"
     ]
    }
   ],
   "source": [
    "!http :8000/users/dog/3"
   ]
  },
  {
   "cell_type": "markdown",
   "metadata": {},
   "source": [
    "**Integer bounds**. For integers we can use the `Path` object from the `fastapi` library. In the example below, we set a lower bound to `id` so that it only takes positive values. "
   ]
  },
  {
   "cell_type": "markdown",
   "metadata": {},
   "source": [
    "```python\n",
    "#chapter3_path_parameters_03.py\n",
    "from fastapi import FastAPI, Path\n",
    "app = FastAPI()\n",
    "\n",
    "@app.get(\"/users/{id}\")\n",
    "async def get_user(id: int = Path(..., ge=1)):\n",
    "    return {\"id\": id, \"type\": type}\n",
    "```"
   ]
  },
  {
   "cell_type": "markdown",
   "metadata": {},
   "source": [
    "i.e. `id >= 1`. Other possible arguments are `gt`, `lt`, `le`, etc. The `Path` function \n",
    "requires a first argument which becomes the default argument, using `...` indicates that \n",
    "we don't want to set a default argument. \n"
   ]
  },
  {
   "cell_type": "code",
   "execution_count": 127,
   "metadata": {},
   "outputs": [
    {
     "name": "stdout",
     "output_type": "stream",
     "text": [
      "\u001b[34mHTTP\u001b[39;49;00m/\u001b[34m1.1\u001b[39;49;00m \u001b[34m200\u001b[39;49;00m \u001b[36mOK\u001b[39;49;00m\n",
      "\u001b[36mcontent-length\u001b[39;49;00m: 8\n",
      "\u001b[36mcontent-type\u001b[39;49;00m: application/json\n",
      "\u001b[36mdate\u001b[39;49;00m: Fri, 24 Dec 2021 07:25:49 GMT\n",
      "\u001b[36mserver\u001b[39;49;00m: uvicorn\n",
      "\n",
      "{\n",
      "    \u001b[94m\"id\"\u001b[39;49;00m: \u001b[34m3\u001b[39;49;00m\n",
      "}\n",
      "\n",
      "\n"
     ]
    }
   ],
   "source": [
    "!http :8000/users/3"
   ]
  },
  {
   "cell_type": "code",
   "execution_count": 126,
   "metadata": {},
   "outputs": [
    {
     "name": "stdout",
     "output_type": "stream",
     "text": [
      "\u001b[34mHTTP\u001b[39;49;00m/\u001b[34m1.1\u001b[39;49;00m \u001b[34m422\u001b[39;49;00m \u001b[36mUnprocessable Entity\u001b[39;49;00m\n",
      "\u001b[36mcontent-length\u001b[39;49;00m: 149\n",
      "\u001b[36mcontent-type\u001b[39;49;00m: application/json\n",
      "\u001b[36mdate\u001b[39;49;00m: Fri, 24 Dec 2021 07:25:35 GMT\n",
      "\u001b[36mserver\u001b[39;49;00m: uvicorn\n",
      "\n",
      "{\n",
      "    \u001b[94m\"detail\"\u001b[39;49;00m: [\n",
      "        {\n",
      "            \u001b[94m\"ctx\"\u001b[39;49;00m: {\n",
      "                \u001b[94m\"limit_value\"\u001b[39;49;00m: \u001b[34m1\u001b[39;49;00m\n",
      "            },\n",
      "            \u001b[94m\"loc\"\u001b[39;49;00m: [\n",
      "                \u001b[33m\"path\"\u001b[39;49;00m,\n",
      "                \u001b[33m\"id\"\u001b[39;49;00m\n",
      "            ],\n",
      "            \u001b[94m\"msg\"\u001b[39;49;00m: \u001b[33m\"ensure this value is greater than or equal to 1\"\u001b[39;49;00m,\n",
      "            \u001b[94m\"type\"\u001b[39;49;00m: \u001b[33m\"value_error.number.not_ge\"\u001b[39;49;00m\n",
      "        }\n",
      "    ]\n",
      "}\n",
      "\n",
      "\n"
     ]
    }
   ],
   "source": [
    "!http :8000/users/-1"
   ]
  },
  {
   "cell_type": "markdown",
   "metadata": {},
   "source": [
    "**Strings and regex**. We can bound string length using `min_length` and `max_length`. More generally, we can parse a string with a regular expressions in the `regex` argument.\n",
    "\n",
    "```python\n",
    "#chapter3_path_parameters_04.py\n",
    "\n",
    "@app.get(\"/username/{username}\")\n",
    "async def get_username(username: str = Path(..., min_length=1, max_length=20)):\n",
    "    return {\"username\": username}\n",
    "\n",
    "@app.get(\"/license-plates/{license}\")\n",
    "async def get_license_plate(license: str = Path(..., regex=r\"^\\w{2}-\\d{3}-\\w{2}$\")):\n",
    "    return {\"license\": license}\n",
    "```\n",
    "\n"
   ]
  },
  {
   "cell_type": "code",
   "execution_count": 144,
   "metadata": {},
   "outputs": [
    {
     "name": "stdout",
     "output_type": "stream",
     "text": [
      "\u001b[34mHTTP\u001b[39;49;00m/\u001b[34m1.1\u001b[39;49;00m \u001b[34m200\u001b[39;49;00m \u001b[36mOK\u001b[39;49;00m\n",
      "\u001b[36mcontent-length\u001b[39;49;00m: 23\n",
      "\u001b[36mcontent-type\u001b[39;49;00m: application/json\n",
      "\u001b[36mdate\u001b[39;49;00m: Fri, 24 Dec 2021 08:40:02 GMT\n",
      "\u001b[36mserver\u001b[39;49;00m: uvicorn\n",
      "\n",
      "{\n",
      "    \u001b[94m\"license\"\u001b[39;49;00m: \u001b[33m\"AB-123-CD\"\u001b[39;49;00m\n",
      "}\n",
      "\n",
      "\n"
     ]
    }
   ],
   "source": [
    "!http :8000/license-plates/AB-123-CD"
   ]
  },
  {
   "cell_type": "code",
   "execution_count": 157,
   "metadata": {},
   "outputs": [
    {
     "name": "stdout",
     "output_type": "stream",
     "text": [
      "\u001b[34mHTTP\u001b[39;49;00m/\u001b[34m1.1\u001b[39;49;00m \u001b[34m200\u001b[39;49;00m \u001b[36mOK\u001b[39;49;00m\n",
      "\u001b[36mcontent-length\u001b[39;49;00m: 35\n",
      "\u001b[36mcontent-type\u001b[39;49;00m: application/json\n",
      "\u001b[36mdate\u001b[39;49;00m: Fri, 24 Dec 2021 08:41:16 GMT\n",
      "\u001b[36mserver\u001b[39;49;00m: uvicorn\n",
      "\n",
      "{\n",
      "    \u001b[94m\"username\"\u001b[39;49;00m: \u001b[33m\"abcdefghijklmnopqrst\"\u001b[39;49;00m\n",
      "}\n",
      "\n",
      "\n"
     ]
    }
   ],
   "source": [
    "!http :8000/username/abcdefghijklmnopqrst # 20 characters"
   ]
  },
  {
   "cell_type": "markdown",
   "metadata": {},
   "source": [
    "```{admonition} Parameter metadata\n",
    "Data validation is not the only option accepted by the parameter function `Path`. \n",
    "You can also set options such as `title`, `description`, and `deprecated`. These will add information about the parameter \n",
    "in the automatic documentation."
   ]
  },
  {
   "cell_type": "markdown",
   "metadata": {},
   "source": [
    "### Query parameters"
   ]
  },
  {
   "cell_type": "markdown",
   "metadata": {},
   "source": [
    "Query parameters are a common way to add some dynamic parameters to a \n",
    "URL. You find them at the end of the URL in the following form: `?param1=foo&param2=bar`. \n",
    "In a REST API, they are commonly used on read endpoints to apply pagination, a filter, a \n",
    "sorting order, or selecting fields."
   ]
  },
  {
   "cell_type": "markdown",
   "metadata": {},
   "source": [
    " By default, arguments of path functions that are not path parameters are interpreted by \n",
    "    FastAPI as query parameters (i.e. without having to use the `Query` function defined \n",
    "    below)."
   ]
  },
  {
   "cell_type": "markdown",
   "metadata": {},
   "source": [
    "```python\n",
    "# chapter3_query_parameters_01.py\n",
    "\n",
    "@app.get(\"/users/{type}/{id}\")\n",
    "async def user(\n",
    "    type: UserType, \n",
    "    id: int = Path(..., ge=1), \n",
    "    page: int = 1,\n",
    "    size: int = 1):\n",
    "    return {\n",
    "        \"type\": type,\n",
    "        \"id\": id,\n",
    "        \"page\": page, \n",
    "        \"size\": size,\n",
    "    }\n",
    "```"
   ]
  },
  {
   "cell_type": "code",
   "execution_count": 159,
   "metadata": {},
   "outputs": [
    {
     "name": "stdout",
     "output_type": "stream",
     "text": [
      "\u001b[34mHTTP\u001b[39;49;00m/\u001b[34m1.1\u001b[39;49;00m \u001b[34m200\u001b[39;49;00m \u001b[36mOK\u001b[39;49;00m\n",
      "\u001b[36mcontent-length\u001b[39;49;00m: 41\n",
      "\u001b[36mcontent-type\u001b[39;49;00m: application/json\n",
      "\u001b[36mdate\u001b[39;49;00m: Fri, 24 Dec 2021 09:00:59 GMT\n",
      "\u001b[36mserver\u001b[39;49;00m: uvicorn\n",
      "\n",
      "{\n",
      "    \u001b[94m\"id\"\u001b[39;49;00m: \u001b[34m1\u001b[39;49;00m,\n",
      "    \u001b[94m\"page\"\u001b[39;49;00m: \u001b[34m0\u001b[39;49;00m,\n",
      "    \u001b[94m\"size\"\u001b[39;49;00m: \u001b[34m3\u001b[39;49;00m,\n",
      "    \u001b[94m\"type\"\u001b[39;49;00m: \u001b[33m\"admin\"\u001b[39;49;00m\n",
      "}\n",
      "\n",
      "\n"
     ]
    }
   ],
   "source": [
    "!http :8000/users/admin/1 page==0 size==3"
   ]
  },
  {
   "cell_type": "markdown",
   "metadata": {},
   "source": [
    "These parameters are optional since we defined a default value. If there is no default\n",
    "    value, then query parameter has to be supplied. If we want to validate query parameters, \n",
    "    we use the `Query` function from `fastapi`. This works in the same way as the `Path` \n",
    "    function: `page: int=1` to `page: int=Query(1, ge=1)`. Also, we can add metadata as mentioned in the above tip."
   ]
  },
  {
   "cell_type": "markdown",
   "metadata": {},
   "source": [
    "### The request body"
   ]
  },
  {
   "cell_type": "markdown",
   "metadata": {},
   "source": [
    "Naturally, when it comes to sending request data, the most obvious way is to use the \n",
    "request body. Let's examine how it works with FastAPI.\n",
    "\n",
    "In a REST API, it's usually encoded in JSON and used to create structured objects in a \n",
    "    database. For the simplest cases, retrieving data from the body works exactly like query \n",
    "    parameters. The only difference is that you always have to use the `Body` function; \n",
    "    otherwise, FastAPI will look for it inside the query parameters by default. "
   ]
  },
  {
   "cell_type": "markdown",
   "metadata": {},
   "source": [
    "\n",
    "```python\n",
    "# chapter3_request_body_01.py\n",
    "@app.post(\"/users\")\n",
    "async def user(\n",
    "    name: str = Body(...), \n",
    "    age:  int = Body(...),\n",
    "):\n",
    "    return {\n",
    "        \"name\": name, \n",
    "        \"age\":  age,\n",
    "    }\n",
    "```"
   ]
  },
  {
   "cell_type": "markdown",
   "metadata": {},
   "source": [
    "To send a request body, we use the following syntax in HTTPie. Note that HTTPie automatically detects that this is a POST method since a body is present. We see that a JSON payload was sent with string parameters. Note that the value of `age` in the response is automatically converted to `int` consistent with the typing."
   ]
  },
  {
   "cell_type": "code",
   "execution_count": 170,
   "metadata": {},
   "outputs": [
    {
     "name": "stdout",
     "output_type": "stream",
     "text": [
      "\u001b[32mPOST\u001b[39;49;00m \u001b[04m\u001b[36m/users\u001b[39;49;00m \u001b[34mHTTP\u001b[39;49;00m/\u001b[34m1.1\u001b[39;49;00m\n",
      "\u001b[36mAccept\u001b[39;49;00m: application/json, */*;q=0.5\n",
      "\u001b[36mAccept-Encoding\u001b[39;49;00m: gzip, deflate, br\n",
      "\u001b[36mConnection\u001b[39;49;00m: keep-alive\n",
      "\u001b[36mContent-Length\u001b[39;49;00m: 32\n",
      "\u001b[36mContent-Type\u001b[39;49;00m: application/json\n",
      "\u001b[36mHost\u001b[39;49;00m: localhost:8000\n",
      "\u001b[36mUser-Agent\u001b[39;49;00m: HTTPie/2.6.0\n",
      "\n",
      "{\n",
      "    \u001b[94m\"age\"\u001b[39;49;00m: \u001b[33m\"-99\"\u001b[39;49;00m,\n",
      "    \u001b[94m\"name\"\u001b[39;49;00m: \u001b[33m\"Ronnie\"\u001b[39;49;00m\n",
      "}\n",
      "\n",
      "\n",
      "\u001b[34mHTTP\u001b[39;49;00m/\u001b[34m1.1\u001b[39;49;00m \u001b[34m200\u001b[39;49;00m \u001b[36mOK\u001b[39;49;00m\n",
      "\u001b[36mcontent-length\u001b[39;49;00m: 27\n",
      "\u001b[36mcontent-type\u001b[39;49;00m: application/json\n",
      "\u001b[36mdate\u001b[39;49;00m: Fri, 24 Dec 2021 09:12:04 GMT\n",
      "\u001b[36mserver\u001b[39;49;00m: uvicorn\n",
      "\n",
      "{\n",
      "    \u001b[94m\"age\"\u001b[39;49;00m: \u001b[34m-99\u001b[39;49;00m,\n",
      "    \u001b[94m\"name\"\u001b[39;49;00m: \u001b[33m\"Ronnie\"\u001b[39;49;00m\n",
      "}\n",
      "\n",
      "\n"
     ]
    }
   ],
   "source": [
    "!http -v :8000/users name=Ronnie age=-99"
   ]
  },
  {
   "cell_type": "markdown",
   "metadata": {},
   "source": [
    "Advanced validation and metadata through the `Body` function works in the same way as `Path` and `Query`. "
   ]
  },
  {
   "cell_type": "markdown",
   "metadata": {},
   "source": [
    "```{warning}\n",
    "For some reason, having a single `Body` parameter results in unexpected behavior. Indeed this is documented in [Issue #1097](https://github.com/tiangolo/fastapi/issues/1097). The solution is to set `embed=True` in the `Body` function for the single argument. Or defining a Pydantic model for this parameter as we will show below. This is a little inconsistent but done for the sake of backward compatibility. \n",
    "```"
   ]
  },
  {
   "cell_type": "markdown",
   "metadata": {},
   "source": [
    "#### Pydantic models"
   ]
  },
  {
   "cell_type": "markdown",
   "metadata": {},
   "source": [
    "Defining payload validations like this has some major drawbacks. First, it's quite verbose and makes the path function prototype huge, especially for bigger models with many fields. Second, usually, you'll need to reuse the data structure on other endpoints or in other parts of your application.\n",
    "\n",
    "We'd like to define the data model in one place, so that updating the model updates all other places in the code where the model is used. For this we use **pydantic models** which allows us to automatically type hint fields."
   ]
  },
  {
   "cell_type": "markdown",
   "metadata": {},
   "source": [
    "```python\n",
    "# chapter3_request_body_02.py\n",
    "from fastapi import FastAPI\n",
    "from pydantic import BaseModel\n",
    "app = FastAPI()\n",
    "\n",
    "class User(BaseModel):\n",
    "    name: str\n",
    "    age: int\n",
    "\n",
    "@app.post(\"/users\")\n",
    "async def user(user: User):\n",
    "    return user\n",
    "```"
   ]
  },
  {
   "cell_type": "code",
   "execution_count": 2,
   "metadata": {},
   "outputs": [
    {
     "name": "stdout",
     "output_type": "stream",
     "text": [
      "\u001b[34mHTTP\u001b[39;49;00m/\u001b[34m1.1\u001b[39;49;00m \u001b[34m200\u001b[39;49;00m \u001b[36mOK\u001b[39;49;00m\n",
      "\u001b[36mcontent-length\u001b[39;49;00m: 27\n",
      "\u001b[36mcontent-type\u001b[39;49;00m: application/json\n",
      "\u001b[36mdate\u001b[39;49;00m: Fri, 24 Dec 2021 10:07:02 GMT\n",
      "\u001b[36mserver\u001b[39;49;00m: uvicorn\n",
      "\n",
      "{\n",
      "    \u001b[94m\"age\"\u001b[39;49;00m: \u001b[34m-99\u001b[39;49;00m,\n",
      "    \u001b[94m\"name\"\u001b[39;49;00m: \u001b[33m\"Ronnie\"\u001b[39;49;00m\n",
      "}\n",
      "\n",
      "\n"
     ]
    }
   ],
   "source": [
    "!http :8000/users name=Ronnie age=-99"
   ]
  },
  {
   "cell_type": "markdown",
   "metadata": {},
   "source": [
    "Note that FastAPI automatically understands that the user data can be found in the \n",
    "    request payload and each field automatically validated based on the Pydantic model. \n",
    "    Furthermore, the Pydantic object is simply returned and FastAPI is smart enough to convert it \n",
    "    automatically into JSON to produce the HTTP response."
   ]
  },
  {
   "cell_type": "markdown",
   "metadata": {},
   "source": [
    "We can extend this to multiple objects, as well as singular body values with the `Body` \n",
    "    function. This is useful if you wish to have a single property that's not part of any \n",
    "    model."
   ]
  },
  {
   "cell_type": "markdown",
   "metadata": {},
   "source": [
    "```python\n",
    "# chapter3_request_body_03.py\n",
    "from fastapi import FastAPI, Body\n",
    "from pydantic import BaseModel\n",
    "app = FastAPI()\n",
    "\n",
    "class User(BaseModel):\n",
    "    name: str\n",
    "    age: int\n",
    "\n",
    "class Company(BaseModel):\n",
    "    name: str\n",
    "\n",
    "@app.post(\"/users\")\n",
    "async def create_user(user: User, company: Company, priority: int = Body(..., ge=1, le=3)):\n",
    "    return {\"user\": user, \"company\": company, \"priority\": priority}\n",
    "```"
   ]
  },
  {
   "cell_type": "markdown",
   "metadata": {},
   "source": [
    "This expects a properly formatted complex JSON structure as payload that can be passed using `<<<`. Also recommended is to pipe the formatted JSON. "
   ]
  },
  {
   "cell_type": "code",
   "execution_count": 11,
   "metadata": {},
   "outputs": [
    {
     "name": "stdout",
     "output_type": "stream",
     "text": [
      "\u001b[34mHTTP\u001b[39;49;00m/\u001b[34m1.1\u001b[39;49;00m \u001b[34m200\u001b[39;49;00m \u001b[36mOK\u001b[39;49;00m\n",
      "\u001b[36mcontent-length\u001b[39;49;00m: 79\n",
      "\u001b[36mcontent-type\u001b[39;49;00m: application/json\n",
      "\u001b[36mdate\u001b[39;49;00m: Fri, 24 Dec 2021 10:15:10 GMT\n",
      "\u001b[36mserver\u001b[39;49;00m: uvicorn\n",
      "\n",
      "{\n",
      "    \u001b[94m\"company\"\u001b[39;49;00m: {\n",
      "        \u001b[94m\"name\"\u001b[39;49;00m: \u001b[33m\"Alliance\"\u001b[39;49;00m\n",
      "    },\n",
      "    \u001b[94m\"priority\"\u001b[39;49;00m: \u001b[34m1\u001b[39;49;00m,\n",
      "    \u001b[94m\"user\"\u001b[39;49;00m: {\n",
      "        \u001b[94m\"age\"\u001b[39;49;00m: \u001b[34m-99\u001b[39;49;00m,\n",
      "        \u001b[94m\"name\"\u001b[39;49;00m: \u001b[33m\"Ronnie\"\u001b[39;49;00m\n",
      "    }\n",
      "}\n",
      "\n",
      "\n"
     ]
    }
   ],
   "source": [
    "!http :8000/users <<< '{ \"user\": {\"name\": \"Ronnie\", \"age\": -99 }, \"company\": { \"name\": \"Alliance\" }, \"priority\": 1 }'\n",
    "# !echo '{\"user\": {\"name\": \"John\", \"age\": 30}, \"company\": {\"name\": \"ACME\"}, \"priority\":1}' | http POST http://localhost:8000/users"
   ]
  },
  {
   "cell_type": "markdown",
   "metadata": {},
   "source": [
    "### Form data and file uploads"
   ]
  },
  {
   "cell_type": "code",
   "execution_count": null,
   "metadata": {},
   "outputs": [],
   "source": []
  }
 ],
 "metadata": {
  "interpreter": {
   "hash": "a9b28b0fcd5be7e4e7eff8f7cf674e5d8a777a4aa6f51979c0f0ca8ec7b00ef4"
  },
  "kernelspec": {
   "display_name": "Python 3.7.11 64-bit ('ml': conda)",
   "language": "python",
   "name": "python3"
  },
  "language_info": {
   "codemirror_mode": {
    "name": "ipython",
    "version": 3
   },
   "file_extension": ".py",
   "mimetype": "text/x-python",
   "name": "python",
   "nbconvert_exporter": "python",
   "pygments_lexer": "ipython3",
   "version": "3.9.9"
  },
  "orig_nbformat": 4
 },
 "nbformat": 4,
 "nbformat_minor": 2
}
