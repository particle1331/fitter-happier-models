{
 "cells": [
  {
   "cell_type": "markdown",
   "metadata": {},
   "source": [
    "# Databases and Asynchronous ORMs"
   ]
  },
  {
   "cell_type": "markdown",
   "metadata": {},
   "source": [
    "```{admonition} Attribution\n",
    "This notebook follows Chapter 6: *Databases and Asynchronous ORMs* of {cite}`Voron2021`. Source files for running the background local servers can be found [here](https://github.com/particle1331/machine-learning/tree/master/docs/notebooks/fastapi/src/chapter6).\n",
    "```"
   ]
  },
  {
   "cell_type": "markdown",
   "metadata": {},
   "source": [
    "The main goal of a REST API is, of course, to read and write data. So far, we've solely\n",
    "worked with the tools given by Python and FastAPI, allowing us to build reliable\n",
    "endpoints to process and answer requests. However, we haven't been able to effectively\n",
    "retrieve and persist that information: we missed a **database**. \n",
    "\n",
    "In this notebook we will deal with interacting with databases and related libraries inside FastAPI. Note that FastAPI is completely agnostic regarding databases and leaves integration of any system to the developer. We will review three different approaches to integrate a database:\n",
    "(1) using **basic SQL queries**, and (2) using **Object-Relational Mapping** (**ORM**)."
   ]
  },
  {
   "cell_type": "markdown",
   "metadata": {},
   "source": [
    "## An overview of relational databases"
   ]
  },
  {
   "cell_type": "markdown",
   "metadata": {},
   "source": [
    "The role of a database is to store data in a structured way, preserve the integrity of the\n",
    "data, and offer a query language that enables you to retrieve this data when an application\n",
    "needs it. Relational databases implement the relational model: each entity, or object, of the\n",
    "application is stored in **tables**. Each table has several **columns** containing attributes of the entity. One of the key points of relational databases is, as their name suggests, relationships. Each\n",
    "table can be in relation to others, with rows referring to other rows in other tables. \n",
    "\n",
    "The main motivation behind this is to avoid duplication. Indeed, it wouldn't be very\n",
    "efficient to repeat an object's attributes in each related to it. If it needs to be modified\n",
    "at some point, we would have to go through each related entity, which is error-prone and puts data\n",
    "consistency at risk. This is why we prefer to references to entities using unique identifiers. \n",
    "\n",
    "To do this, each row in a relational database has an identifier, called a **primary key**. This is\n",
    "unique in the table and will allow you to uniquely identify this row. Therefore, it's possible\n",
    "to use this key in another table to reference it. We call it a **foreign key**: the key is foreign in\n",
    "the sense that it refers to another table. Relational databases are designed to perform **join queries** efficiently, which will return all the relevant records\n",
    "based on the foreign keys. However, those operations can become expensive if the schema is more complex. This is why it's important to carefully design a relational schema and its queries."
   ]
  },
  {
   "cell_type": "markdown",
   "metadata": {},
   "source": [
    "## Communicating with a SQL database with SQLAlchemy"
   ]
  },
  {
   "cell_type": "markdown",
   "metadata": {},
   "source": [
    "To begin, we will discuss how to work with a relational database using the SQLAlchemy\n",
    "library. Note that we will only consider the core part of the library, which\n",
    "only provides the tools to abstract communication with a SQL database. We won't\n",
    "consider the ORM part, as, in the next section, we'll focus on another ORM: Tortoise. We will combine SQLAlchemy with the `databases` library by Encode, the same team\n",
    "behind Starlette, which provides an asynchronous connection layer for SQLAlchemy:"
   ]
  },
  {
   "cell_type": "markdown",
   "metadata": {},
   "source": [
    "```{figure} ../../img/sqlalch-encode.png\n",
    "---\n",
    "name: sqlalch-encode\n",
    "---\n",
    "\n",
    "\n",
    "```"
   ]
  },
  {
   "cell_type": "markdown",
   "metadata": {},
   "source": [
    "### Creating the table schema"
   ]
  },
  {
   "cell_type": "markdown",
   "metadata": {},
   "source": [
    "First, you need to define the SQL schema for your tables: the name, the columns, and their\n",
    "associated types and properties. In the following example, you can view the definition of the\n",
    "`posts` table:"
   ]
  },
  {
   "cell_type": "markdown",
   "metadata": {},
   "source": [
    "```python\n",
    "# chapter6/sqlalchemy/models.py\n",
    "\n",
    "metadata = sqlalchemy.MetaData()\n",
    "posts = sqlalchemy.Table(\n",
    "    \"posts\",\n",
    "    metadata,\n",
    "    sqlalchemy.Column(\"id\", sqlalchemy.Integer, primary_key=True, autoincrement=True),\n",
    "    sqlalchemy.Column(\"publication_date\", sqlalchemy.DateTime(), nullable=False),\n",
    "    sqlalchemy.Column(\"title\", sqlalchemy.String(length=255), nullable=False),\n",
    "    sqlalchemy.Column(\"content\", sqlalchemy.Text(), nullable=False),\n",
    ")\n",
    "```"
   ]
  },
  {
   "cell_type": "markdown",
   "metadata": {},
   "source": [
    "First, we created a `metadata` object. Its role is to keep all the information of a database\n",
    "schema together. This is why you should create it only once in your whole project and\n",
    "always use the same one throughout.\n",
    "\n",
    "Next, we defined a table using the `Table` class. The first argument is the name of the\n",
    "table, followed by the metadata object. Then, we list all of the columns that should be\n",
    "defined in our table, thanks to the `Column` class. The first argument is the name of the\n",
    "column, followed by its [type](https://docs.sqlalchemy.org/en/13/core/type_basics.html#generic-types) and [some options](https://docs.sqlalchemy.org/en/13/core/metadata.html#:~:text=sqlalchemy.schema.Column.__init__). For example, we define\n",
    "our `id` column as a primary key with auto-increment, which is quite common in\n",
    "a SQL database.\n",
    "\n",
    "We will also define the\n",
    "corresponding Pydantic models for our post entity in the same file. Since they will be used by FastAPI to\n",
    "validate the request payload, they must match the SQL definition to avoid any errors from\n",
    "the database when we try to insert a new row later."
   ]
  },
  {
   "cell_type": "markdown",
   "metadata": {},
   "source": [
    "```python\n",
    "# chapter6/sqlalchemy/models.py\n",
    "from datetime import datetime\n",
    "from typing import Optional\n",
    "from pydantic import BaseModel, Field\n",
    "\n",
    "\n",
    "class PostBase(BaseModel):\n",
    "    title: str\n",
    "    content: str\n",
    "    publication_date: datetime = Field(default_factory=datetime.now)\n",
    "\n",
    "\n",
    "class PostPartialUpdate(BaseModel):\n",
    "    title: Optional[str] = None\n",
    "    content: Optional[str] = None\n",
    "\n",
    "\n",
    "class PostCreate(PostBase):\n",
    "    pass\n",
    "\n",
    "\n",
    "class PostDB(PostBase):\n",
    "    id: int\n",
    "```"
   ]
  },
  {
   "cell_type": "markdown",
   "metadata": {},
   "source": [
    "### Connecting to a database"
   ]
  },
  {
   "cell_type": "markdown",
   "metadata": {},
   "source": [
    "#### Setting up connection"
   ]
  },
  {
   "cell_type": "markdown",
   "metadata": {},
   "source": [
    "Now that our table is ready, we have to set up the connection between our FastAPI app\n",
    "and the database engine."
   ]
  },
  {
   "cell_type": "markdown",
   "metadata": {},
   "source": [
    "```python\n",
    "# chapter6/sqlalchemy/database.py\n",
    "from sqlalchemy import create_engine\n",
    "from databases import Database\n",
    "\n",
    "\n",
    "DATABASE_URL = \"sqlite:///chapter6_sqlalchemy.db\"\n",
    "database = Database(DATABASE_URL)\n",
    "sqlalchemy_engine = create_engine(DATABASE_URL)\n",
    "\n",
    "\n",
    "def get_database() -> Database:\n",
    "    return database\n",
    "```"
   ]
  },
  {
   "cell_type": "markdown",
   "metadata": {},
   "source": [
    "Observe that we instantiate a `Database` instance using the database URL. This is the connection layer provided by `databases` that will allow us to perform asynchronous queries. Notice that the standard synchronous connection established in `sqlalchemy_engine` overlaps with `database`. The idea for this is that all our async endpoints will be using `databases`; we will only use `sqlalchemy_engine` once when creating the schema for our database. \n",
    "\n",
    "\n",
    "The function `get_database` will be used as a dependency easily retrieve the database instance in our path operation functions. Setting up a dependency like this instead of directly importing objects will benefit us during automated testing."
   ]
  },
  {
   "cell_type": "markdown",
   "metadata": {},
   "source": [
    "#### Startup and shutdown"
   ]
  },
  {
   "cell_type": "markdown",
   "metadata": {},
   "source": [
    "Now, we need to tell FastAPI to open the connection with the database when it starts\n",
    "the application and then close it when exiting. FastAPI provides two\n",
    "special decorators to perform tasks at startup and shutdown, as you can see in the\n",
    "following example:"
   ]
  },
  {
   "cell_type": "markdown",
   "metadata": {},
   "source": [
    "```python\n",
    "# chapter6/sqlalchemy/app.py\n",
    "\n",
    "app = FastAPI()\n",
    "\n",
    "\n",
    "@app.on_event(\"startup\")\n",
    "async def startup():\n",
    "    await database.connect()\n",
    "    metadata.create_all(sqlalchemy_engine)\n",
    "\n",
    "\n",
    "@app.on_event(\"shutdown\")\n",
    "async def shutdown():\n",
    "    await database.disconnect()\n",
    "```"
   ]
  },
  {
   "cell_type": "markdown",
   "metadata": {},
   "source": [
    "Additionally, you can see that we call the `create_all` method on the `metadata` object. This is the same `metadata` object we defined in the previous section and that we have\n",
    "imported here. The goal of this method is to create the table's schema inside our database.\n",
    "Otherwise, our database would be empty and we would not be able to save\n",
    "or retrieve data. This method is designed to work with a standard SQLAlchemy engine;\n",
    "this is why we instantiated `sqlalchemy_engine` earlier. It has no other use in the application; instead, we will be using `database` which works with our async endpoints. "
   ]
  },
  {
   "cell_type": "markdown",
   "metadata": {},
   "source": [
    "### Defining dependencies"
   ]
  },
  {
   "cell_type": "markdown",
   "metadata": {},
   "source": [
    "We will define two dependencies. Recall that dependency logic are injected in endpoint calls which allows them to use other arguments of the endpoints whose values may also be obtained through a dependency injection. "
   ]
  },
  {
   "cell_type": "markdown",
   "metadata": {},
   "source": [
    "```python\n",
    "# chapter6/sqlalchemy/app.py\n",
    "\n",
    "async def get_post_or_404(\n",
    "    id: int,\n",
    "    database: Database=Depends(get_database)\n",
    ") -> PostDB:\n",
    "\n",
    "    select_query = posts.select().where(posts.c.id == id) # overloaded\n",
    "    raw_post = await database.fetch_one(select_query)\n",
    "\n",
    "    if raw_post is None:\n",
    "        raise HTTPException(status_code=status.HTTP_404_NOT_FOUND)\n",
    "    return PostDB(**raw_post) # raw_post is of type dict\n",
    "\n",
    "\n",
    "async def pagination(\n",
    "    skip: int=Query(0, ge=0), limit: int=Query(10, ge=0)\n",
    ") -> Tuple[int, int]:\n",
    "    \n",
    "    capped_limit = min(100, limit)\n",
    "    return (skip, capped_limit)\n",
    "```"
   ]
  },
  {
   "cell_type": "markdown",
   "metadata": {},
   "source": [
    "Note that chained method calls are automatically transformed into SQL statements in `select_query`. Moreover, the equality operator in `posts.c.id == id` is not merely a Boolean statement but is overloaded to work with SQLAlchemy method calls. A more thorough discussion of chained method calls is presented in the following subsection."
   ]
  },
  {
   "cell_type": "code",
   "execution_count": 19,
   "metadata": {},
   "outputs": [
    {
     "data": {
      "text/plain": [
       "<sqlalchemy.sql.elements.BinaryExpression object at 0x1081285e0>"
      ]
     },
     "execution_count": 19,
     "metadata": {},
     "output_type": "execute_result"
    }
   ],
   "source": [
    "from chapter6.sqlalchemy.models import posts\n",
    "posts.c.id == 1"
   ]
  },
  {
   "cell_type": "markdown",
   "metadata": {},
   "source": [
    "Finally, observe that we have to use `await` which tells the interpreter that the async method can't continue past that point &mdash; blocked &mdash; until the awaited asynchronous process is finished."
   ]
  },
  {
   "cell_type": "markdown",
   "metadata": {},
   "source": [
    "### Making insert queries"
   ]
  },
  {
   "cell_type": "markdown",
   "metadata": {},
   "source": [
    "Now we're ready to make queries! Let's start with the INSERT queries to create new rows\n",
    "in our database. In the following example, you can view an implementation of an endpoint\n",
    "to create a new post:"
   ]
  },
  {
   "cell_type": "markdown",
   "metadata": {},
   "source": [
    "```python\n",
    "# sqlalchemy/app.py\n",
    "\n",
    "@app.post(\"/posts\", response_model=PostDB, status_code=status.HTTP_201_CREATED)\n",
    "async def create_post(\n",
    "    post: PostCreate, \n",
    "    database: Database=Depends(get_database)\n",
    ") -> PostDB:\n",
    "    \n",
    "    insert_query = posts.insert().values(post.dict())\n",
    "    post_id = await database.execute(insert_query)\n",
    "    post_db = await get_post_or_404(post_id, database)\n",
    "    \n",
    "    return post_db\n",
    "```"
   ]
  },
  {
   "cell_type": "markdown",
   "metadata": {},
   "source": [
    "This is a POST endpoint that accepts a payload following the `PostCreate` model. It also injects the database thanks to our `get_database` dependency. Interesting things begin in the body of the function:\n",
    "\n",
    "* On the first line, we build our INSERT query. Rather than writing SQL queries by hand, we rely on the SQLAlchemy expression language, which consists of **chained method calls**. Under the hood, SQLAlchemy will build a proper SQL query for our database engine. This is one of the greatest benefits of such libraries: since it produces the SQL query for you, you won't have to modify your source code if you change your database engine.\n",
    "\n",
    "+++\n",
    "\n",
    "* This query is built directly from the posts object, which is the `Table` instance that\n",
    "we defined earlier. By using this object, SQLAlchemy directly understands that the\n",
    "query concerns this table and builds the SQL accordingly. We start by calling the `insert` method. Then, we move ahead with the `values`\n",
    "method. This simply accepts a dictionary that associates the names of the columns\n",
    "with their values. Hence, we just need to call `dict()` on our Pydantic object. This\n",
    "is why it's important that our model matches the database schema.\n",
    "\n",
    "+++\n",
    "\n",
    "* On the second line, we'll actually perform the query. Thanks to `database`, we can\n",
    "execute it asynchronously. For an insert query, we'll use the `execute` method,\n",
    "which expects the query in an argument."
   ]
  },
  {
   "cell_type": "markdown",
   "metadata": {},
   "source": [
    "An INSERT query will return the primary key (here `id`) of the newly inserted row. This is very important\n",
    "because, since we allow the database to automatically increment this identifier, we don't\n",
    "know the `id` of our new post beforehand. In fact, we need it to retrieve this new row from the database afterward. By doing this, we ensure we have an exact representation of the current object in the database before\n",
    "returning it in the response. For this, we use the `get_post_or_404` dependency defined above."
   ]
  },
  {
   "cell_type": "code",
   "execution_count": 1,
   "metadata": {},
   "outputs": [
    {
     "name": "stdout",
     "output_type": "stream",
     "text": [
      "\u001b[34mHTTP\u001b[39;49;00m/\u001b[34m1.1\u001b[39;49;00m \u001b[34m201\u001b[39;49;00m \u001b[36mCreated\u001b[39;49;00m\n",
      "\u001b[36mcontent-length\u001b[39;49;00m: 98\n",
      "\u001b[36mcontent-type\u001b[39;49;00m: application/json\n",
      "\u001b[36mdate\u001b[39;49;00m: Sun, 06 Mar 2022 07:13:02 GMT\n",
      "\u001b[36mserver\u001b[39;49;00m: uvicorn\n",
      "\n",
      "{\u001b[37m\u001b[39;49;00m\n",
      "\u001b[37m    \u001b[39;49;00m\u001b[94m\"content\"\u001b[39;49;00m:\u001b[37m \u001b[39;49;00m\u001b[33m\"Content #1\"\u001b[39;49;00m,\u001b[37m\u001b[39;49;00m\n",
      "\u001b[37m    \u001b[39;49;00m\u001b[94m\"id\"\u001b[39;49;00m:\u001b[37m \u001b[39;49;00m\u001b[34m1\u001b[39;49;00m,\u001b[37m\u001b[39;49;00m\n",
      "\u001b[37m    \u001b[39;49;00m\u001b[94m\"publication_date\"\u001b[39;49;00m:\u001b[37m \u001b[39;49;00m\u001b[33m\"2022-03-06T15:13:02.889509\"\u001b[39;49;00m,\u001b[37m\u001b[39;49;00m\n",
      "\u001b[37m    \u001b[39;49;00m\u001b[94m\"title\"\u001b[39;49;00m:\u001b[37m \u001b[39;49;00m\u001b[33m\"Title #1\"\u001b[39;49;00m\u001b[37m\u001b[39;49;00m\n",
      "}\u001b[37m\u001b[39;49;00m\n",
      "\n",
      "\n"
     ]
    }
   ],
   "source": [
    "!http POST :8000/posts title=\"Title #1\" content=\"Content #1\""
   ]
  },
  {
   "cell_type": "code",
   "execution_count": 2,
   "metadata": {},
   "outputs": [
    {
     "name": "stdout",
     "output_type": "stream",
     "text": [
      "\u001b[34mHTTP\u001b[39;49;00m/\u001b[34m1.1\u001b[39;49;00m \u001b[34m201\u001b[39;49;00m \u001b[36mCreated\u001b[39;49;00m\n",
      "\u001b[36mcontent-length\u001b[39;49;00m: 98\n",
      "\u001b[36mcontent-type\u001b[39;49;00m: application/json\n",
      "\u001b[36mdate\u001b[39;49;00m: Sun, 06 Mar 2022 07:13:10 GMT\n",
      "\u001b[36mserver\u001b[39;49;00m: uvicorn\n",
      "\n",
      "{\u001b[37m\u001b[39;49;00m\n",
      "\u001b[37m    \u001b[39;49;00m\u001b[94m\"content\"\u001b[39;49;00m:\u001b[37m \u001b[39;49;00m\u001b[33m\"Content #2\"\u001b[39;49;00m,\u001b[37m\u001b[39;49;00m\n",
      "\u001b[37m    \u001b[39;49;00m\u001b[94m\"id\"\u001b[39;49;00m:\u001b[37m \u001b[39;49;00m\u001b[34m2\u001b[39;49;00m,\u001b[37m\u001b[39;49;00m\n",
      "\u001b[37m    \u001b[39;49;00m\u001b[94m\"publication_date\"\u001b[39;49;00m:\u001b[37m \u001b[39;49;00m\u001b[33m\"2022-03-06T15:13:11.119578\"\u001b[39;49;00m,\u001b[37m\u001b[39;49;00m\n",
      "\u001b[37m    \u001b[39;49;00m\u001b[94m\"title\"\u001b[39;49;00m:\u001b[37m \u001b[39;49;00m\u001b[33m\"Title #2\"\u001b[39;49;00m\u001b[37m\u001b[39;49;00m\n",
      "}\u001b[37m\u001b[39;49;00m\n",
      "\n",
      "\n"
     ]
    }
   ],
   "source": [
    "!http POST :8000/posts title=\"Title #2\" content=\"Content #2\""
   ]
  },
  {
   "cell_type": "markdown",
   "metadata": {},
   "source": [
    "### Making select queries"
   ]
  },
  {
   "cell_type": "markdown",
   "metadata": {},
   "source": [
    "Now that we can insert new data into our database, we must be able to read it! Typically,\n",
    "you'll have two kinds of read endpoints in your API: one to list objects and one to get\n",
    "a single object."
   ]
  },
  {
   "cell_type": "markdown",
   "metadata": {},
   "source": [
    "```python\n",
    "@app.get(\"/posts/{id}\", response_model=PostDB)\n",
    "async def get_post(post: PostDB=Depends(get_post_or_404)) -> PostDB:\n",
    "    return post\n",
    "```"
   ]
  },
  {
   "cell_type": "markdown",
   "metadata": {},
   "source": [
    "Recall that `get_post_or_404` has a SELECT statement inside it which is why we only need to inject that dependency and return its result. To get the list of all posts, we define the following endpoint which depends on `pagination` for offsets and limits."
   ]
  },
  {
   "cell_type": "markdown",
   "metadata": {},
   "source": [
    "```python\n",
    "# chapter6/sqlalchemy/app.py\n",
    "\n",
    "@app.get(\"/posts\")\n",
    "async def list_posts(\n",
    "    pagination: Tuple[int, int]=Depends(pagination), \n",
    "    database: Database=Depends(get_database)\n",
    ") -> List[PostDB]:\n",
    "\n",
    "    skip, limit = pagination\n",
    "    select_query = posts.select().offset(skip).limit(limit)\n",
    "    rows = await database.fetch_all(select_query)\n",
    "    results = [PostDB(**row) for row in rows]\n",
    "    \n",
    "    return results\n",
    "```"
   ]
  },
  {
   "cell_type": "code",
   "execution_count": 3,
   "metadata": {},
   "outputs": [
    {
     "name": "stdout",
     "output_type": "stream",
     "text": [
      "\u001b[34mHTTP\u001b[39;49;00m/\u001b[34m1.1\u001b[39;49;00m \u001b[34m200\u001b[39;49;00m \u001b[36mOK\u001b[39;49;00m\n",
      "\u001b[36mcontent-length\u001b[39;49;00m: 98\n",
      "\u001b[36mcontent-type\u001b[39;49;00m: application/json\n",
      "\u001b[36mdate\u001b[39;49;00m: Sun, 06 Mar 2022 07:13:17 GMT\n",
      "\u001b[36mserver\u001b[39;49;00m: uvicorn\n",
      "\n",
      "{\u001b[37m\u001b[39;49;00m\n",
      "\u001b[37m    \u001b[39;49;00m\u001b[94m\"content\"\u001b[39;49;00m:\u001b[37m \u001b[39;49;00m\u001b[33m\"Content #1\"\u001b[39;49;00m,\u001b[37m\u001b[39;49;00m\n",
      "\u001b[37m    \u001b[39;49;00m\u001b[94m\"id\"\u001b[39;49;00m:\u001b[37m \u001b[39;49;00m\u001b[34m1\u001b[39;49;00m,\u001b[37m\u001b[39;49;00m\n",
      "\u001b[37m    \u001b[39;49;00m\u001b[94m\"publication_date\"\u001b[39;49;00m:\u001b[37m \u001b[39;49;00m\u001b[33m\"2022-03-06T15:13:02.889509\"\u001b[39;49;00m,\u001b[37m\u001b[39;49;00m\n",
      "\u001b[37m    \u001b[39;49;00m\u001b[94m\"title\"\u001b[39;49;00m:\u001b[37m \u001b[39;49;00m\u001b[33m\"Title #1\"\u001b[39;49;00m\u001b[37m\u001b[39;49;00m\n",
      "}\u001b[37m\u001b[39;49;00m\n",
      "\n",
      "\n"
     ]
    }
   ],
   "source": [
    "!http GET :8000/posts/1"
   ]
  },
  {
   "cell_type": "code",
   "execution_count": 4,
   "metadata": {},
   "outputs": [
    {
     "name": "stdout",
     "output_type": "stream",
     "text": [
      "\u001b[34mHTTP\u001b[39;49;00m/\u001b[34m1.1\u001b[39;49;00m \u001b[34m200\u001b[39;49;00m \u001b[36mOK\u001b[39;49;00m\n",
      "\u001b[36mcontent-length\u001b[39;49;00m: 199\n",
      "\u001b[36mcontent-type\u001b[39;49;00m: application/json\n",
      "\u001b[36mdate\u001b[39;49;00m: Sun, 06 Mar 2022 07:13:18 GMT\n",
      "\u001b[36mserver\u001b[39;49;00m: uvicorn\n",
      "\n",
      "[\u001b[37m\u001b[39;49;00m\n",
      "\u001b[37m    \u001b[39;49;00m{\u001b[37m\u001b[39;49;00m\n",
      "\u001b[37m        \u001b[39;49;00m\u001b[94m\"content\"\u001b[39;49;00m:\u001b[37m \u001b[39;49;00m\u001b[33m\"Content #1\"\u001b[39;49;00m,\u001b[37m\u001b[39;49;00m\n",
      "\u001b[37m        \u001b[39;49;00m\u001b[94m\"id\"\u001b[39;49;00m:\u001b[37m \u001b[39;49;00m\u001b[34m1\u001b[39;49;00m,\u001b[37m\u001b[39;49;00m\n",
      "\u001b[37m        \u001b[39;49;00m\u001b[94m\"publication_date\"\u001b[39;49;00m:\u001b[37m \u001b[39;49;00m\u001b[33m\"2022-03-06T15:13:02.889509\"\u001b[39;49;00m,\u001b[37m\u001b[39;49;00m\n",
      "\u001b[37m        \u001b[39;49;00m\u001b[94m\"title\"\u001b[39;49;00m:\u001b[37m \u001b[39;49;00m\u001b[33m\"Title #1\"\u001b[39;49;00m\u001b[37m\u001b[39;49;00m\n",
      "\u001b[37m    \u001b[39;49;00m},\u001b[37m\u001b[39;49;00m\n",
      "\u001b[37m    \u001b[39;49;00m{\u001b[37m\u001b[39;49;00m\n",
      "\u001b[37m        \u001b[39;49;00m\u001b[94m\"content\"\u001b[39;49;00m:\u001b[37m \u001b[39;49;00m\u001b[33m\"Content #2\"\u001b[39;49;00m,\u001b[37m\u001b[39;49;00m\n",
      "\u001b[37m        \u001b[39;49;00m\u001b[94m\"id\"\u001b[39;49;00m:\u001b[37m \u001b[39;49;00m\u001b[34m2\u001b[39;49;00m,\u001b[37m\u001b[39;49;00m\n",
      "\u001b[37m        \u001b[39;49;00m\u001b[94m\"publication_date\"\u001b[39;49;00m:\u001b[37m \u001b[39;49;00m\u001b[33m\"2022-03-06T15:13:11.119578\"\u001b[39;49;00m,\u001b[37m\u001b[39;49;00m\n",
      "\u001b[37m        \u001b[39;49;00m\u001b[94m\"title\"\u001b[39;49;00m:\u001b[37m \u001b[39;49;00m\u001b[33m\"Title #2\"\u001b[39;49;00m\u001b[37m\u001b[39;49;00m\n",
      "\u001b[37m    \u001b[39;49;00m}\u001b[37m\u001b[39;49;00m\n",
      "]\u001b[37m\u001b[39;49;00m\n",
      "\n",
      "\n"
     ]
    }
   ],
   "source": [
    "!http GET :8000/posts"
   ]
  },
  {
   "cell_type": "markdown",
   "metadata": {},
   "source": [
    "### Making update and delete queries"
   ]
  },
  {
   "cell_type": "markdown",
   "metadata": {},
   "source": [
    "Finally, let's examine how to update and delete rows in our database. The main\n",
    "difference is how you build the query using SQLAlchemy expressions, but the rest of the\n",
    "implementation is always the same: (1) **build query**, (2) **execute**, and (3) return the **response**."
   ]
  },
  {
   "cell_type": "markdown",
   "metadata": {},
   "source": [
    "```python\n",
    "# chapter6/sqlalchemy/app.py\n",
    "\n",
    "@app.patch(\"/posts/{id}\", response_model=PostDB)\n",
    "async def update_post(\n",
    "    post_update: PostPartialUpdate,\n",
    "    post: PostDB=Depends(get_post_or_404),\n",
    "    database: Database=Depends(get_database)\n",
    ") -> PostDB:\n",
    "\n",
    "    update_query = (\n",
    "        posts.update()\n",
    "        .where(posts.c.id == post.id)                 # match post in db\n",
    "        .values(post_update.dict(exclude_unset=True)) # set update values\n",
    "    )\n",
    "\n",
    "    post_id = await database.execute(update_query)\n",
    "    post_db = await get_post_or_404(post_id, database)\n",
    "    return post_db\n",
    "\n",
    "\n",
    "@app.delete(\"/posts/{id}\", status_code=status.HTTP_204_NO_CONTENT)\n",
    "async def delete_post(\n",
    "    post: PostDB=Depends(get_post_or_404),\n",
    "    database: Database=Depends(get_database)\n",
    "):\n",
    "    delete_query = posts.delete().where(posts.c.id == post.id) # match post to delete\n",
    "    await database.execute(delete_query)\n",
    "```"
   ]
  },
  {
   "cell_type": "markdown",
   "metadata": {},
   "source": [
    "Let's test these with the existing posts:"
   ]
  },
  {
   "cell_type": "code",
   "execution_count": 5,
   "metadata": {},
   "outputs": [
    {
     "name": "stdout",
     "output_type": "stream",
     "text": [
      "\u001b[34mHTTP\u001b[39;49;00m/\u001b[34m1.1\u001b[39;49;00m \u001b[34m200\u001b[39;49;00m \u001b[36mOK\u001b[39;49;00m\n",
      "\u001b[36mcontent-length\u001b[39;49;00m: 102\n",
      "\u001b[36mcontent-type\u001b[39;49;00m: application/json\n",
      "\u001b[36mdate\u001b[39;49;00m: Sun, 06 Mar 2022 07:13:24 GMT\n",
      "\u001b[36mserver\u001b[39;49;00m: uvicorn\n",
      "\n",
      "{\u001b[37m\u001b[39;49;00m\n",
      "\u001b[37m    \u001b[39;49;00m\u001b[94m\"content\"\u001b[39;49;00m:\u001b[37m \u001b[39;49;00m\u001b[33m\"Content #1\"\u001b[39;49;00m,\u001b[37m\u001b[39;49;00m\n",
      "\u001b[37m    \u001b[39;49;00m\u001b[94m\"id\"\u001b[39;49;00m:\u001b[37m \u001b[39;49;00m\u001b[34m1\u001b[39;49;00m,\u001b[37m\u001b[39;49;00m\n",
      "\u001b[37m    \u001b[39;49;00m\u001b[94m\"publication_date\"\u001b[39;49;00m:\u001b[37m \u001b[39;49;00m\u001b[33m\"2022-03-06T15:13:02.889509\"\u001b[39;49;00m,\u001b[37m\u001b[39;49;00m\n",
      "\u001b[37m    \u001b[39;49;00m\u001b[94m\"title\"\u001b[39;49;00m:\u001b[37m \u001b[39;49;00m\u001b[33m\"New Title #1\"\u001b[39;49;00m\u001b[37m\u001b[39;49;00m\n",
      "}\u001b[37m\u001b[39;49;00m\n",
      "\n",
      "\n"
     ]
    }
   ],
   "source": [
    "!http PATCH :8000/posts/1 title=\"New Title #1\""
   ]
  },
  {
   "cell_type": "code",
   "execution_count": 6,
   "metadata": {},
   "outputs": [
    {
     "name": "stdout",
     "output_type": "stream",
     "text": [
      "\u001b[34mHTTP\u001b[39;49;00m/\u001b[34m1.1\u001b[39;49;00m \u001b[34m204\u001b[39;49;00m \u001b[36mNo Content\u001b[39;49;00m\n",
      "\u001b[36mcontent-length\u001b[39;49;00m: 4\n",
      "\u001b[36mcontent-type\u001b[39;49;00m: application/json\n",
      "\u001b[36mdate\u001b[39;49;00m: Sun, 06 Mar 2022 07:13:24 GMT\n",
      "\u001b[36mserver\u001b[39;49;00m: uvicorn\n",
      "\n",
      "\u001b[37m\u001b[39;49;00m\n",
      "\n",
      "\n"
     ]
    }
   ],
   "source": [
    "!http DELETE :8000/posts/2"
   ]
  },
  {
   "cell_type": "markdown",
   "metadata": {},
   "source": [
    "Select all posts:"
   ]
  },
  {
   "cell_type": "code",
   "execution_count": 7,
   "metadata": {},
   "outputs": [
    {
     "name": "stdout",
     "output_type": "stream",
     "text": [
      "\u001b[34mHTTP\u001b[39;49;00m/\u001b[34m1.1\u001b[39;49;00m \u001b[34m200\u001b[39;49;00m \u001b[36mOK\u001b[39;49;00m\n",
      "\u001b[36mcontent-length\u001b[39;49;00m: 104\n",
      "\u001b[36mcontent-type\u001b[39;49;00m: application/json\n",
      "\u001b[36mdate\u001b[39;49;00m: Sun, 06 Mar 2022 07:13:26 GMT\n",
      "\u001b[36mserver\u001b[39;49;00m: uvicorn\n",
      "\n",
      "[\u001b[37m\u001b[39;49;00m\n",
      "\u001b[37m    \u001b[39;49;00m{\u001b[37m\u001b[39;49;00m\n",
      "\u001b[37m        \u001b[39;49;00m\u001b[94m\"content\"\u001b[39;49;00m:\u001b[37m \u001b[39;49;00m\u001b[33m\"Content #1\"\u001b[39;49;00m,\u001b[37m\u001b[39;49;00m\n",
      "\u001b[37m        \u001b[39;49;00m\u001b[94m\"id\"\u001b[39;49;00m:\u001b[37m \u001b[39;49;00m\u001b[34m1\u001b[39;49;00m,\u001b[37m\u001b[39;49;00m\n",
      "\u001b[37m        \u001b[39;49;00m\u001b[94m\"publication_date\"\u001b[39;49;00m:\u001b[37m \u001b[39;49;00m\u001b[33m\"2022-03-06T15:13:02.889509\"\u001b[39;49;00m,\u001b[37m\u001b[39;49;00m\n",
      "\u001b[37m        \u001b[39;49;00m\u001b[94m\"title\"\u001b[39;49;00m:\u001b[37m \u001b[39;49;00m\u001b[33m\"New Title #1\"\u001b[39;49;00m\u001b[37m\u001b[39;49;00m\n",
      "\u001b[37m    \u001b[39;49;00m}\u001b[37m\u001b[39;49;00m\n",
      "]\u001b[37m\u001b[39;49;00m\n",
      "\n",
      "\n"
     ]
    }
   ],
   "source": [
    "!http :8000/posts"
   ]
  },
  {
   "cell_type": "markdown",
   "metadata": {},
   "source": [
    "### Adding relationships"
   ]
  },
  {
   "cell_type": "markdown",
   "metadata": {},
   "source": [
    "Quite often, you'll need to create entities that are linked to others.\n",
    "For example, comments are linked to the post they relate to. In this\n",
    "section, we'll examine how you can set up such relationships with SQLAlchemy. First, we need to define the table for the comments, which has a foreign key toward the\n",
    "posts table. You can view its definition in the following example:"
   ]
  },
  {
   "cell_type": "markdown",
   "metadata": {},
   "source": [
    "```python\n",
    "# chapter6/sqlalchemy_relationship/models.py\n",
    "\n",
    "comments = sqlalchemy.Table(\n",
    "    \"comments\",\n",
    "    metadata,\n",
    "    sqlalchemy.Column(\"id\", sqlalchemy.Integer, primary_key=True, autoincrement=True),\n",
    "    sqlalchemy.Column(\"post_id\", sqlalchemy.ForeignKey(\"posts.id\", ondelete=\"CASCADE\"), nullable=False),\n",
    "    sqlalchemy.Column(\"publication_date\", sqlalchemy.DateTime, nullable=False),\n",
    "    sqlalchemy.Column(\"content\", sqlalchemy.Text, nullable=False)\n",
    ")\n",
    "```"
   ]
  },
  {
   "cell_type": "markdown",
   "metadata": {},
   "source": [
    "The important point here is the `post_id` column, which is of the `ForeignKey` type.\n",
    "This is a special type that tells SQLAlchemy to automatically handle the type of the\n",
    "column and the associated constraint. We simply have to give the table and column name\n",
    "it refers to. Note that we can also specify the ON DELETE action. Here we choose `\"CASCADE\"` which means that all comments will be deleted once the parent post is deleted.\n",
    "\n",
    "Here we define Pydantic models for the comments which are quite\n",
    "straightforward. Note that `post_id` is specified in the comments base class, along with publication date and content. However, we want to highlight a new model we created `PostPublic` for the posts. This is shown in the following example:"
   ]
  },
  {
   "cell_type": "markdown",
   "metadata": {},
   "source": [
    "```python\n",
    "# chapter6/sqlalchemy_relationship/models.py\n",
    "\n",
    "class CommentBase(BaseModel):\n",
    "    post_id: int\n",
    "    content: str\n",
    "    publication_date: datetime = Field(default_factory=datetime.now)\n",
    "\n",
    "\n",
    "class CommentDB(CommentBase):\n",
    "    id: int\n",
    "\n",
    "\n",
    "class CommentCreate(CommentBase):\n",
    "    pass\n",
    "\n",
    "\n",
    "class PostPublic(PostDB):\n",
    "    comments: List[CommentDB]\n",
    "```"
   ]
  },
  {
   "cell_type": "markdown",
   "metadata": {},
   "source": [
    "In a REST API, there are some cases where it makes sense to automatically\n",
    "retrieve the associated objects of an entity. Here, it'll be convenient to get the comments\n",
    "of a post in a single request. We'll use this model when getting a single post to serialize the\n",
    "comments along with the post data."
   ]
  },
  {
   "cell_type": "markdown",
   "metadata": {},
   "source": [
    "```python\n",
    "# chapter6/sqlalchemy_relationship/app.py\n",
    "\n",
    "@app.post(\"/comments\", response_model=CommentDB, status_code=status.HTTP_201_CREATED)\n",
    "async def create_comment(\n",
    "    comment: CommentCreate,\n",
    "    database: Database=Depends(get_database),\n",
    ") -> CommentDB:\n",
    "\n",
    "    # First, we must make sure posts exist before making comment\n",
    "    select_post_query = posts.select().where(posts.c.id == comment.post_id)\n",
    "    post = await database.fetch_one(select_post_query)\n",
    "\n",
    "    if post is None:\n",
    "        raise HTTPException(\n",
    "            status_code=status.HTTP_400_BAD_REQUEST, \n",
    "            detail=f\"Post {comment.post_id} does not exist.\"\n",
    "        )\n",
    "    \n",
    "    # Now, create comment in the database\n",
    "    insert_query = comments.insert().values(comment.dict())\n",
    "    comment_id = await database.execute(insert_query)\n",
    "\n",
    "    # Build the endpoint response\n",
    "    select_query = comments.select().where(comments.c.id == comment_id)\n",
    "    raw_comment = await database.fetch_one(select_query)\n",
    "    return CommentDB(**raw_comment)\n",
    "```"
   ]
  },
  {
   "cell_type": "markdown",
   "metadata": {},
   "source": [
    "Earlier, we mentioned that we wanted to retrieve a post and its comments at the same\n",
    "time. To do this, we'll have to make a second query to retrieve the comments and then\n",
    "merge all the data together in a `PostPublic` instance. We added this logic in the\n",
    "`get_post_or_404` dependency, as you can see in the following example. Note we change the output type to `PostPublic` from `PostDB`. Note that this one change influences all other GET endpoints, though we still have to change the responses of the other endpoints to `PostPublic` to show the comments list. "
   ]
  },
  {
   "cell_type": "markdown",
   "metadata": {},
   "source": [
    "```python\n",
    "# chapter6/sqlalchemy_relationship/app.py\n",
    "\n",
    "async def get_post_or_404(\n",
    "    id: int,\n",
    "    database: Database=Depends(get_database) \n",
    ") -> PostPublic:\n",
    "\n",
    "    select_query = posts.select().where(posts.c.id == id) # overloaded\n",
    "    raw_post = await database.fetch_one(select_query)\n",
    "    if raw_post is None:\n",
    "        raise HTTPException(status_code=status.HTTP_404_NOT_FOUND)\n",
    "\n",
    "    # Here we add querying all comments for the post\n",
    "    select_post_comments_query = comments.select().where(comments.c.post_id == id)\n",
    "    raw_comments = await database.fetch_all(select_post_comments_query) # list\n",
    "    comments_list = [CommentDB(**comment) for comment in raw_comments]\n",
    "\n",
    "    return PostPublic(**raw_post, comments=comments_list)\n",
    "```"
   ]
  },
  {
   "cell_type": "code",
   "execution_count": 8,
   "metadata": {},
   "outputs": [
    {
     "name": "stdout",
     "output_type": "stream",
     "text": [
      "\u001b[34mHTTP\u001b[39;49;00m/\u001b[34m1.1\u001b[39;49;00m \u001b[34m201\u001b[39;49;00m \u001b[36mCreated\u001b[39;49;00m\n",
      "\u001b[36mcontent-length\u001b[39;49;00m: 98\n",
      "\u001b[36mcontent-type\u001b[39;49;00m: application/json\n",
      "\u001b[36mdate\u001b[39;49;00m: Sun, 06 Mar 2022 09:00:12 GMT\n",
      "\u001b[36mserver\u001b[39;49;00m: uvicorn\n",
      "\n",
      "{\u001b[37m\u001b[39;49;00m\n",
      "\u001b[37m    \u001b[39;49;00m\u001b[94m\"content\"\u001b[39;49;00m:\u001b[37m \u001b[39;49;00m\u001b[33m\"Content #1\"\u001b[39;49;00m,\u001b[37m\u001b[39;49;00m\n",
      "\u001b[37m    \u001b[39;49;00m\u001b[94m\"id\"\u001b[39;49;00m:\u001b[37m \u001b[39;49;00m\u001b[34m1\u001b[39;49;00m,\u001b[37m\u001b[39;49;00m\n",
      "\u001b[37m    \u001b[39;49;00m\u001b[94m\"publication_date\"\u001b[39;49;00m:\u001b[37m \u001b[39;49;00m\u001b[33m\"2022-03-06T17:00:12.826138\"\u001b[39;49;00m,\u001b[37m\u001b[39;49;00m\n",
      "\u001b[37m    \u001b[39;49;00m\u001b[94m\"title\"\u001b[39;49;00m:\u001b[37m \u001b[39;49;00m\u001b[33m\"Title #1\"\u001b[39;49;00m\u001b[37m\u001b[39;49;00m\n",
      "}\u001b[37m\u001b[39;49;00m\n",
      "\n",
      "\n"
     ]
    }
   ],
   "source": [
    "!http POST :8000/posts title=\"Title #1\" content=\"Content #1\""
   ]
  },
  {
   "cell_type": "code",
   "execution_count": 9,
   "metadata": {},
   "outputs": [
    {
     "name": "stdout",
     "output_type": "stream",
     "text": [
      "\u001b[34mHTTP\u001b[39;49;00m/\u001b[34m1.1\u001b[39;49;00m \u001b[34m201\u001b[39;49;00m \u001b[36mCreated\u001b[39;49;00m\n",
      "\u001b[36mcontent-length\u001b[39;49;00m: 101\n",
      "\u001b[36mcontent-type\u001b[39;49;00m: application/json\n",
      "\u001b[36mdate\u001b[39;49;00m: Sun, 06 Mar 2022 09:00:54 GMT\n",
      "\u001b[36mserver\u001b[39;49;00m: uvicorn\n",
      "\n",
      "{\u001b[37m\u001b[39;49;00m\n",
      "\u001b[37m    \u001b[39;49;00m\u001b[94m\"content\"\u001b[39;49;00m:\u001b[37m \u001b[39;49;00m\u001b[33m\"Comment for Post #1.\"\u001b[39;49;00m,\u001b[37m\u001b[39;49;00m\n",
      "\u001b[37m    \u001b[39;49;00m\u001b[94m\"id\"\u001b[39;49;00m:\u001b[37m \u001b[39;49;00m\u001b[34m1\u001b[39;49;00m,\u001b[37m\u001b[39;49;00m\n",
      "\u001b[37m    \u001b[39;49;00m\u001b[94m\"post_id\"\u001b[39;49;00m:\u001b[37m \u001b[39;49;00m\u001b[34m1\u001b[39;49;00m,\u001b[37m\u001b[39;49;00m\n",
      "\u001b[37m    \u001b[39;49;00m\u001b[94m\"publication_date\"\u001b[39;49;00m:\u001b[37m \u001b[39;49;00m\u001b[33m\"2022-03-06T17:00:54.174116\"\u001b[39;49;00m\u001b[37m\u001b[39;49;00m\n",
      "}\u001b[37m\u001b[39;49;00m\n",
      "\n",
      "\n"
     ]
    }
   ],
   "source": [
    "!http POST :8000/comments post_id=1 content=\"Comment for Post #1.\""
   ]
  },
  {
   "cell_type": "code",
   "execution_count": 10,
   "metadata": {},
   "outputs": [
    {
     "name": "stdout",
     "output_type": "stream",
     "text": [
      "\u001b[34mHTTP\u001b[39;49;00m/\u001b[34m1.1\u001b[39;49;00m \u001b[34m200\u001b[39;49;00m \u001b[36mOK\u001b[39;49;00m\n",
      "\u001b[36mcontent-length\u001b[39;49;00m: 213\n",
      "\u001b[36mcontent-type\u001b[39;49;00m: application/json\n",
      "\u001b[36mdate\u001b[39;49;00m: Sun, 06 Mar 2022 09:01:08 GMT\n",
      "\u001b[36mserver\u001b[39;49;00m: uvicorn\n",
      "\n",
      "{\u001b[37m\u001b[39;49;00m\n",
      "\u001b[37m    \u001b[39;49;00m\u001b[94m\"comments\"\u001b[39;49;00m:\u001b[37m \u001b[39;49;00m[\u001b[37m\u001b[39;49;00m\n",
      "\u001b[37m        \u001b[39;49;00m{\u001b[37m\u001b[39;49;00m\n",
      "\u001b[37m            \u001b[39;49;00m\u001b[94m\"content\"\u001b[39;49;00m:\u001b[37m \u001b[39;49;00m\u001b[33m\"Comment for Post #1.\"\u001b[39;49;00m,\u001b[37m\u001b[39;49;00m\n",
      "\u001b[37m            \u001b[39;49;00m\u001b[94m\"id\"\u001b[39;49;00m:\u001b[37m \u001b[39;49;00m\u001b[34m1\u001b[39;49;00m,\u001b[37m\u001b[39;49;00m\n",
      "\u001b[37m            \u001b[39;49;00m\u001b[94m\"post_id\"\u001b[39;49;00m:\u001b[37m \u001b[39;49;00m\u001b[34m1\u001b[39;49;00m,\u001b[37m\u001b[39;49;00m\n",
      "\u001b[37m            \u001b[39;49;00m\u001b[94m\"publication_date\"\u001b[39;49;00m:\u001b[37m \u001b[39;49;00m\u001b[33m\"2022-03-06T17:00:54.174116\"\u001b[39;49;00m\u001b[37m\u001b[39;49;00m\n",
      "\u001b[37m        \u001b[39;49;00m}\u001b[37m\u001b[39;49;00m\n",
      "\u001b[37m    \u001b[39;49;00m],\u001b[37m\u001b[39;49;00m\n",
      "\u001b[37m    \u001b[39;49;00m\u001b[94m\"content\"\u001b[39;49;00m:\u001b[37m \u001b[39;49;00m\u001b[33m\"Content #1\"\u001b[39;49;00m,\u001b[37m\u001b[39;49;00m\n",
      "\u001b[37m    \u001b[39;49;00m\u001b[94m\"id\"\u001b[39;49;00m:\u001b[37m \u001b[39;49;00m\u001b[34m1\u001b[39;49;00m,\u001b[37m\u001b[39;49;00m\n",
      "\u001b[37m    \u001b[39;49;00m\u001b[94m\"publication_date\"\u001b[39;49;00m:\u001b[37m \u001b[39;49;00m\u001b[33m\"2022-03-06T17:00:12.826138\"\u001b[39;49;00m,\u001b[37m\u001b[39;49;00m\n",
      "\u001b[37m    \u001b[39;49;00m\u001b[94m\"title\"\u001b[39;49;00m:\u001b[37m \u001b[39;49;00m\u001b[33m\"Title #1\"\u001b[39;49;00m\u001b[37m\u001b[39;49;00m\n",
      "}\u001b[37m\u001b[39;49;00m\n",
      "\n",
      "\n"
     ]
    }
   ],
   "source": [
    "!http GET :8000/posts/1"
   ]
  },
  {
   "cell_type": "markdown",
   "metadata": {},
   "source": [
    "### Setting up a database migration system with Alembic"
   ]
  },
  {
   "cell_type": "markdown",
   "metadata": {},
   "source": [
    "When developing an application, you'll likely make changes to your database schema to\n",
    "add new tables, add new columns, or modify existing ones. Of course, if your application\n",
    "is already in production, you don't want to erase all your data to recreate the schema from\n",
    "scratch: you want them to be migrated to the new schema. Tools for this task have been\n",
    "developed, and in this section, we'll learn how to set up Alembic, from the creators of\n",
    "SQLAlchemy.\n"
   ]
  },
  {
   "cell_type": "markdown",
   "metadata": {},
   "source": [
    "When starting a new project, the first thing to do is to initialize\n",
    "the migration environment, which includes a set of files and directories where Alembic\n",
    "will store its configuration and migration files. At the root of your project, run the\n",
    "following command:"
   ]
  },
  {
   "cell_type": "markdown",
   "metadata": {},
   "source": [
    "```\n",
    "$ alembic init alembic\n",
    "```"
   ]
  },
  {
   "cell_type": "markdown",
   "metadata": {},
   "source": [
    "Note that it created an `alembic.ini` file, which contains all the\n",
    "configuration options of Alembic. We'll review two important settings of this file:\n",
    "`script_location` and `sqlalchemy.url`.\n",
    "\n",
    "```\n",
    "# chapter6/sqlalchemy_relationship/alembic.ini\n",
    "\n",
    "script_location = alembic\n",
    "sqlalchemy.url = sqlite:///chapter6_sqlalchemy.db\n",
    "```"
   ]
  },
  {
   "cell_type": "markdown",
   "metadata": {},
   "source": [
    "Next, we'll focus on the `env.py` file. This is a Python script containing all the logic\n",
    "executed by Alembic to initialize the migration engine and execute the migrations. Being\n",
    "a Python script allows us to finely customize the execution of Alembic. For the time being,\n",
    "we'll keep the default one except for one thing: we'll import our metadata object."
   ]
  },
  {
   "cell_type": "markdown",
   "metadata": {},
   "source": [
    "```python\n",
    "# chapter6/sqlalchemy_relationship/alembic/env.py\n",
    "\n",
    "target_metadata = metadata\n",
    "```"
   ]
  },
  {
   "cell_type": "markdown",
   "metadata": {},
   "source": [
    "We provide the metadata object, which contains all table definitions, so the migration system will be able to automatically generate the migration scripts just\n",
    "by looking at your schema! This way, you won't have to write them from scratch.\n",
    "When you have made changes to your database schema, you can run the following\n",
    "command to generate a new migration script:\n",
    "\n",
    "```\n",
    "$ alembic revision --autogenerate -m \"Initial migration\"\n",
    "```"
   ]
  },
  {
   "cell_type": "markdown",
   "metadata": {},
   "source": [
    "```{margin}\n",
    "⚠️ You should be extremely careful when you run such commands on\n",
    "your database, especially on a production one. Very bad things can happen if you make\n",
    "a mistake, and you can lose precious data. Always test your migrations in\n",
    "a test environment and have fresh and working backups before running them on your\n",
    "production database.\n",
    "```\n",
    "\n",
    "\n",
    "It'll create a new script in the version's directory with the commands reflecting your schema\n",
    "changes. Here, we have the required operations to create our posts and comments table, with\n",
    "all of their columns and constraints. Notice that we have two functions: `upgrade` and\n",
    "`downgrade`. The first one is used to apply the migration and the second one is used to roll\n",
    "it back. This is very important because if something goes wrong during the migration,\n",
    "or if you need to revert to an older version of your application, you'll be able to do so\n",
    "without breaking your data.\n",
    "\n",
    "Finally, you can apply the migrations to your database using the following command:\n",
    "\n",
    "```\n",
    "$ alembic upgrade head\n",
    "```\n",
    "\n",
    "This will run all the migrations that have not yet been applied to your database until the\n",
    "latest. It's interesting to know that, in the process, Alembic creates a table in your database\n",
    "so that it can remember all the migrations it has applied: this is how it detects which\n",
    "scripts to run."
   ]
  },
  {
   "cell_type": "markdown",
   "metadata": {},
   "source": [
    "## Communicating with a SQL database with Tortoise ORM"
   ]
  },
  {
   "cell_type": "markdown",
   "metadata": {},
   "source": [
    "When dealing with relational databases, you might wish to abstract away the SQL\n",
    "concepts and only deal with proper objects from the programming language. That's\n",
    "the main motivation behind ORM tools. In this section, we'll examine how to work with Tortoise ORM, which is a modern and asynchronous ORM that fits nicely within a FastAPI project. "
   ]
  },
  {
   "cell_type": "markdown",
   "metadata": {},
   "source": [
    "### Creating database models"
   ]
  },
  {
   "cell_type": "markdown",
   "metadata": {},
   "source": [
    "The first step is to create the Tortoise model for your entity. This is a Python class whose\n",
    "attributes represent the columns of your table. This class will provide you static methods\n",
    "in which to perform queries, such as retrieving or creating data. Moreover, the actual\n",
    "entities of your database will be instances of this class, giving you access to its data like any\n",
    "other object. Under the hood, the role of Tortoise is to make the link between this Python\n",
    "object and the row in the database. Let's take a look at the definition of our blog post\n",
    "model in the following example:"
   ]
  },
  {
   "cell_type": "markdown",
   "metadata": {},
   "source": [
    "```{margin}\n",
    "You can find the complete list of [field classes](https://tortoise-orm.readthedocs.io/en/latest/fields.html) in the official docs.\n",
    "```"
   ]
  },
  {
   "cell_type": "markdown",
   "metadata": {},
   "source": [
    "```python\n",
    "# chapter6/tortoise/models.py\n",
    "\n",
    "class PostTortoise(Model):\n",
    "    id = fields.IntField(pk=True, generated=True)\n",
    "    publication_date = fields.DatetimeField(null=False)\n",
    "    title = fields.CharField(max_length=255, null=False)\n",
    "    content = fields.TextField(null=False)\n",
    "\n",
    "    class Meta:\n",
    "        table = \"posts\"\n",
    "```"
   ]
  },
  {
   "cell_type": "markdown",
   "metadata": {},
   "source": [
    "Notice that we also have a sub-class called `Meta`, which allows us to set some options for\n",
    "our table. Here, the table attribute allows us to control the name of the table.\n",
    "\n",
    "We also define\n",
    "the corresponding Pydantic models for our post entity. They will be used by FastAPI to\n",
    "perform data validation and serialization. As you can see in the following example,\n",
    "we added a `Config` sub-class and set an attribute called `orm_mode`. This option will allow us to transform an ORM object instance into a Pydantic object\n",
    "instance. This is essential because FastAPI is designed to work with Pydantic models,\n",
    "not ORM models."
   ]
  },
  {
   "cell_type": "markdown",
   "metadata": {},
   "source": [
    "```python\n",
    "# chapter6/tortoise/models.py\n",
    "\n",
    "class PostBase(BaseModel):\n",
    "    title: str\n",
    "    content: str\n",
    "    publication_date: datetime = Field(default_factory=datetime.now)\n",
    "\n",
    "    class Config:\n",
    "        orm_mode = True\n",
    "\n",
    "\n",
    "class PostPartialUpdate(BaseModel):\n",
    "    title: Optional[str] = None\n",
    "    content: Optional[str] = None\n",
    "\n",
    "\n",
    "class PostCreate(PostBase):\n",
    "    pass\n",
    "\n",
    "\n",
    "class PostDB(PostBase):\n",
    "    id: int\n",
    "```"
   ]
  },
  {
   "cell_type": "markdown",
   "metadata": {},
   "source": [
    "Here, we hit what is maybe the most confusing part about working with FastAPI and an\n",
    "ORM: we'll have to work with both ORM objects and Pydantic models and find ways to\n",
    "transform them back and forth."
   ]
  },
  {
   "cell_type": "markdown",
   "metadata": {},
   "source": [
    "### Setting up the Tortoise engine"
   ]
  },
  {
   "cell_type": "markdown",
   "metadata": {},
   "source": [
    "Now that we have our model ready, we have to configure the Tortoise engine to set the\n",
    "database connection string and the location of our models. To do this, Tortoise comes\n",
    "with a utility function for FastAPI that does all the required tasks for you. In particular,\n",
    "it automatically adds event handlers to open and close the connection at startup and\n",
    "shutdown; this is something we had to do by hand with SQLAlchemy."
   ]
  },
  {
   "cell_type": "markdown",
   "metadata": {},
   "source": [
    "```python\n",
    "# chapter6/tortoise/app.py\n",
    "\n",
    "TORTOISE_ORM = {\n",
    "    \"connections\": {\"default\": \"sqlite://chapter6_tortoise.db\"},\n",
    "    \"apps\": {\n",
    "        \"models\": {\n",
    "            \"models\": [\"chapter6.tortoise.models\"],\n",
    "            \"default_connection\": \"default\",\n",
    "        },\n",
    "    },\n",
    "}\n",
    "\n",
    "register_tortoise(\n",
    "    app,\n",
    "    config=TORTOISE_ORM,\n",
    "    generate_schemas=True,\n",
    "    add_exception_handlers=True,\n",
    ")\n",
    "```"
   ]
  },
  {
   "cell_type": "markdown",
   "metadata": {},
   "source": [
    "As you can see, we put the main configuration options in a variable named `TORTOISE_ORM`. Let's review its different fields:\n",
    "\n",
    "*  The connections key contains a dictionary associating a database alias to\n",
    "a connection string, which gives access to your database. It follows the standard\n",
    "convention, as explained in [the docs](https://tortoise-orm.readthedocs.io/en/latest/databases.html?highlight=db_url#db-url). In most projects, you'll probably have one database named default, but it allows\n",
    "you to set several databases if needed.\n",
    "\n",
    "+++\n",
    "\n",
    "* In the apps key, you'll be able to declare all your modules containing your Tortoise models. The first key just below apps, that is, `models`, will be the prefix with which you'll be able to refer to the associated models. Note that this name is arbitrarily chosen, but is especially important when defining foreign keys. For example, with this configuration, our `PostTortoise` model can be referred to by the name `models.PostTortoise`. It's not the actual path to your module. Underneath it, you have to list all the modules containing your models.\n",
    "Additionally, we set the corresponding database connection with the alias\n",
    "we defined earlier."
   ]
  },
  {
   "cell_type": "markdown",
   "metadata": {},
   "source": [
    "Then, we call the `register_tortoise` function that'll take care of setting up Tortoise\n",
    "for FastAPI. Setting `generate_schemas` to `True` will automatically create the table's schema\n",
    "in the database. Otherwise, our database will be empty and we won't be able to\n",
    "insert any rows. While this is useful for testing purposes, in a real-world application, you should\n",
    "have a proper migration system whose role is to make sure your database schema\n",
    "is in sync. We do this below.\n",
    "\n"
   ]
  },
  {
   "cell_type": "markdown",
   "metadata": {},
   "source": [
    "### Creating objects"
   ]
  },
  {
   "cell_type": "markdown",
   "metadata": {},
   "source": [
    "Let's start by inserting new objects inside our database. The main challenge is to transform\n",
    "the Tortoise object instance into a Pydantic model."
   ]
  },
  {
   "cell_type": "markdown",
   "metadata": {},
   "source": [
    "```python\n",
    "# chapter6/tortoise/app.py\n",
    "\n",
    "@app.post(\"/posts\", response_model=PostDB, status_code=status.HTTP_201_CREATED)\n",
    "async def create_post(post: PostCreate) -> PostDB:\n",
    "    post_tortoise = await PostTortoise.create(**post.dict())\n",
    "    return PostDB.from_orm(post_tortoise) # Recall from_orm = True\n",
    "```"
   ]
  },
  {
   "cell_type": "markdown",
   "metadata": {},
   "source": [
    "You can see that the implementation is quite straightforward compared to using SQL. Moreover, this operation is natively asynchronous!"
   ]
  },
  {
   "cell_type": "markdown",
   "metadata": {},
   "source": [
    "### Getting and filtering objects"
   ]
  },
  {
   "cell_type": "markdown",
   "metadata": {},
   "source": [
    "Usually, a REST API provides two types of endpoints to read data: one to list objects\n",
    "and one to get a specific object. This is exactly what we'll review next! In the following example, you can see how we implemented the endpoint to list objects:"
   ]
  },
  {
   "cell_type": "markdown",
   "metadata": {},
   "source": [
    "```python\n",
    "# chapter6/tortoise/app.py\n",
    "\n",
    "async def get_post_or_404(id: int) -> PostTortoise:\n",
    "    return await PostTortoise.get(id=id)\n",
    "\n",
    "\n",
    "@app.get(\"/posts\")\n",
    "async def list_posts(pagination: Tuple[int, int]=Depends(pagination)) -> List[PostDB]:\n",
    "    skip, limit = pagination\n",
    "    posts = await PostTortoise.all().offset(skip).limit(limit)\n",
    "    results = [PostDB.from_orm(post) for post in posts]\n",
    "    return results\n",
    "\n",
    "\n",
    "@app.get(\"/posts/{id}\", response_model=PostDB)\n",
    "async def get_post(post: PostTortoise=Depends(get_post_or_404)) -> PostDB:\n",
    "    return PostDB.from_orm(post)\n",
    "```"
   ]
  },
  {
   "cell_type": "markdown",
   "metadata": {},
   "source": [
    "The dependency takes the `id` in the path parameter and retrieve a single object from the database that corresponds to this identifier. The `get` method is a convenient shortcut for this: if no matching record is found, it raises the `DoesNotExist` exception. If there is more than one matching record, it raises\n",
    "`MultipleObjectsReturned`. Remember that we set up Tortoise with\n",
    "the `add_exception_handlers` option: under the hood, it adds a global handler that\n",
    "automatically catches `DoesNotExist` and builds a proper 404 error in the console."
   ]
  },
  {
   "cell_type": "markdown",
   "metadata": {},
   "source": [
    "### Updating and deleting objects"
   ]
  },
  {
   "cell_type": "markdown",
   "metadata": {},
   "source": [
    "For updating and deleting objects the logic is always\n",
    "the same; we just have to adapt the methods we call on our Tortoise object."
   ]
  },
  {
   "cell_type": "markdown",
   "metadata": {},
   "source": [
    "```python\n",
    "# chapter6/tortoise/app.py\n",
    "\n",
    "@app.patch(\"/posts/{id}\", response_model=PostDB)\n",
    "async def update_post(\n",
    "    post_update: PostPartialUpdate,\n",
    "    post: PostTortoise=Depends(get_post_or_404)\n",
    ") -> PostDB:\n",
    "\n",
    "    post.update_from_dict(post_update.dict(exclude_unset=True))\n",
    "    await post.save()\n",
    "    return PostDB.from_orm(post)\n",
    "\n",
    "\n",
    "@app.delete(\"/posts/{id}\", status_code=status.HTTP_204_NO_CONTENT)\n",
    "async def delete_post(post: PostTortoise=Depends(get_post_or_404)):\n",
    "    await post.delete()\n",
    "```"
   ]
  },
  {
   "cell_type": "markdown",
   "metadata": {},
   "source": [
    "That's almost it for the basics of working with Tortoise ORM. We only covered\n",
    "the most basic queries, but you can do far more complex things. You can find a thorough\n",
    "overview of the query language in the official documentation [here](https://tortoise-orm.readthedocs.io/en/latest/query.html#query-api)."
   ]
  },
  {
   "cell_type": "code",
   "execution_count": 13,
   "metadata": {},
   "outputs": [
    {
     "name": "stdout",
     "output_type": "stream",
     "text": [
      "\u001b[34mHTTP\u001b[39;49;00m/\u001b[34m1.1\u001b[39;49;00m \u001b[34m201\u001b[39;49;00m \u001b[36mCreated\u001b[39;49;00m\n",
      "\u001b[36mcontent-length\u001b[39;49;00m: 103\n",
      "\u001b[36mcontent-type\u001b[39;49;00m: application/json\n",
      "\u001b[36mdate\u001b[39;49;00m: Sun, 06 Mar 2022 09:33:20 GMT\n",
      "\u001b[36mserver\u001b[39;49;00m: uvicorn\n",
      "\n",
      "{\u001b[37m\u001b[39;49;00m\n",
      "\u001b[37m    \u001b[39;49;00m\u001b[94m\"content\"\u001b[39;49;00m:\u001b[37m \u001b[39;49;00m\u001b[33m\"Content #1\"\u001b[39;49;00m,\u001b[37m\u001b[39;49;00m\n",
      "\u001b[37m    \u001b[39;49;00m\u001b[94m\"id\"\u001b[39;49;00m:\u001b[37m \u001b[39;49;00m\u001b[34m1\u001b[39;49;00m,\u001b[37m\u001b[39;49;00m\n",
      "\u001b[37m    \u001b[39;49;00m\u001b[94m\"publication_date\"\u001b[39;49;00m:\u001b[37m \u001b[39;49;00m\u001b[33m\"2022-03-06T17:33:20.714966+00:00\"\u001b[39;49;00m,\u001b[37m\u001b[39;49;00m\n",
      "\u001b[37m    \u001b[39;49;00m\u001b[94m\"title\"\u001b[39;49;00m:\u001b[37m \u001b[39;49;00m\u001b[33m\"Post #1\"\u001b[39;49;00m\u001b[37m\u001b[39;49;00m\n",
      "}\u001b[37m\u001b[39;49;00m\n",
      "\n",
      "\n"
     ]
    }
   ],
   "source": [
    "!http POST :8000/posts title=\"Post #1\" content=\"Content #1\""
   ]
  },
  {
   "cell_type": "code",
   "execution_count": 14,
   "metadata": {},
   "outputs": [
    {
     "name": "stdout",
     "output_type": "stream",
     "text": [
      "\u001b[34mHTTP\u001b[39;49;00m/\u001b[34m1.1\u001b[39;49;00m \u001b[34m201\u001b[39;49;00m \u001b[36mCreated\u001b[39;49;00m\n",
      "\u001b[36mcontent-length\u001b[39;49;00m: 103\n",
      "\u001b[36mcontent-type\u001b[39;49;00m: application/json\n",
      "\u001b[36mdate\u001b[39;49;00m: Sun, 06 Mar 2022 09:33:29 GMT\n",
      "\u001b[36mserver\u001b[39;49;00m: uvicorn\n",
      "\n",
      "{\u001b[37m\u001b[39;49;00m\n",
      "\u001b[37m    \u001b[39;49;00m\u001b[94m\"content\"\u001b[39;49;00m:\u001b[37m \u001b[39;49;00m\u001b[33m\"Content #2\"\u001b[39;49;00m,\u001b[37m\u001b[39;49;00m\n",
      "\u001b[37m    \u001b[39;49;00m\u001b[94m\"id\"\u001b[39;49;00m:\u001b[37m \u001b[39;49;00m\u001b[34m2\u001b[39;49;00m,\u001b[37m\u001b[39;49;00m\n",
      "\u001b[37m    \u001b[39;49;00m\u001b[94m\"publication_date\"\u001b[39;49;00m:\u001b[37m \u001b[39;49;00m\u001b[33m\"2022-03-06T17:33:29.224391+00:00\"\u001b[39;49;00m,\u001b[37m\u001b[39;49;00m\n",
      "\u001b[37m    \u001b[39;49;00m\u001b[94m\"title\"\u001b[39;49;00m:\u001b[37m \u001b[39;49;00m\u001b[33m\"Post #2\"\u001b[39;49;00m\u001b[37m\u001b[39;49;00m\n",
      "}\u001b[37m\u001b[39;49;00m\n",
      "\n",
      "\n"
     ]
    }
   ],
   "source": [
    "!http POST :8000/posts title=\"Post #2\" content=\"Content #2\""
   ]
  },
  {
   "cell_type": "code",
   "execution_count": 15,
   "metadata": {},
   "outputs": [
    {
     "name": "stdout",
     "output_type": "stream",
     "text": [
      "\u001b[34mHTTP\u001b[39;49;00m/\u001b[34m1.1\u001b[39;49;00m \u001b[34m200\u001b[39;49;00m \u001b[36mOK\u001b[39;49;00m\n",
      "\u001b[36mcontent-length\u001b[39;49;00m: 107\n",
      "\u001b[36mcontent-type\u001b[39;49;00m: application/json\n",
      "\u001b[36mdate\u001b[39;49;00m: Sun, 06 Mar 2022 09:34:00 GMT\n",
      "\u001b[36mserver\u001b[39;49;00m: uvicorn\n",
      "\n",
      "{\u001b[37m\u001b[39;49;00m\n",
      "\u001b[37m    \u001b[39;49;00m\u001b[94m\"content\"\u001b[39;49;00m:\u001b[37m \u001b[39;49;00m\u001b[33m\"New Content #1\"\u001b[39;49;00m,\u001b[37m\u001b[39;49;00m\n",
      "\u001b[37m    \u001b[39;49;00m\u001b[94m\"id\"\u001b[39;49;00m:\u001b[37m \u001b[39;49;00m\u001b[34m1\u001b[39;49;00m,\u001b[37m\u001b[39;49;00m\n",
      "\u001b[37m    \u001b[39;49;00m\u001b[94m\"publication_date\"\u001b[39;49;00m:\u001b[37m \u001b[39;49;00m\u001b[33m\"2022-03-06T17:33:20.714966+00:00\"\u001b[39;49;00m,\u001b[37m\u001b[39;49;00m\n",
      "\u001b[37m    \u001b[39;49;00m\u001b[94m\"title\"\u001b[39;49;00m:\u001b[37m \u001b[39;49;00m\u001b[33m\"Post #1\"\u001b[39;49;00m\u001b[37m\u001b[39;49;00m\n",
      "}\u001b[37m\u001b[39;49;00m\n",
      "\n",
      "\n"
     ]
    }
   ],
   "source": [
    "!http PATCH :8000/posts/1 content=\"New Content #1\""
   ]
  },
  {
   "cell_type": "code",
   "execution_count": 16,
   "metadata": {},
   "outputs": [
    {
     "name": "stdout",
     "output_type": "stream",
     "text": [
      "\u001b[34mHTTP\u001b[39;49;00m/\u001b[34m1.1\u001b[39;49;00m \u001b[34m200\u001b[39;49;00m \u001b[36mOK\u001b[39;49;00m\n",
      "\u001b[36mcontent-length\u001b[39;49;00m: 213\n",
      "\u001b[36mcontent-type\u001b[39;49;00m: application/json\n",
      "\u001b[36mdate\u001b[39;49;00m: Sun, 06 Mar 2022 09:34:10 GMT\n",
      "\u001b[36mserver\u001b[39;49;00m: uvicorn\n",
      "\n",
      "[\u001b[37m\u001b[39;49;00m\n",
      "\u001b[37m    \u001b[39;49;00m{\u001b[37m\u001b[39;49;00m\n",
      "\u001b[37m        \u001b[39;49;00m\u001b[94m\"content\"\u001b[39;49;00m:\u001b[37m \u001b[39;49;00m\u001b[33m\"New Content #1\"\u001b[39;49;00m,\u001b[37m\u001b[39;49;00m\n",
      "\u001b[37m        \u001b[39;49;00m\u001b[94m\"id\"\u001b[39;49;00m:\u001b[37m \u001b[39;49;00m\u001b[34m1\u001b[39;49;00m,\u001b[37m\u001b[39;49;00m\n",
      "\u001b[37m        \u001b[39;49;00m\u001b[94m\"publication_date\"\u001b[39;49;00m:\u001b[37m \u001b[39;49;00m\u001b[33m\"2022-03-06T17:33:20.714966+00:00\"\u001b[39;49;00m,\u001b[37m\u001b[39;49;00m\n",
      "\u001b[37m        \u001b[39;49;00m\u001b[94m\"title\"\u001b[39;49;00m:\u001b[37m \u001b[39;49;00m\u001b[33m\"Post #1\"\u001b[39;49;00m\u001b[37m\u001b[39;49;00m\n",
      "\u001b[37m    \u001b[39;49;00m},\u001b[37m\u001b[39;49;00m\n",
      "\u001b[37m    \u001b[39;49;00m{\u001b[37m\u001b[39;49;00m\n",
      "\u001b[37m        \u001b[39;49;00m\u001b[94m\"content\"\u001b[39;49;00m:\u001b[37m \u001b[39;49;00m\u001b[33m\"Content #2\"\u001b[39;49;00m,\u001b[37m\u001b[39;49;00m\n",
      "\u001b[37m        \u001b[39;49;00m\u001b[94m\"id\"\u001b[39;49;00m:\u001b[37m \u001b[39;49;00m\u001b[34m2\u001b[39;49;00m,\u001b[37m\u001b[39;49;00m\n",
      "\u001b[37m        \u001b[39;49;00m\u001b[94m\"publication_date\"\u001b[39;49;00m:\u001b[37m \u001b[39;49;00m\u001b[33m\"2022-03-06T17:33:29.224391+00:00\"\u001b[39;49;00m,\u001b[37m\u001b[39;49;00m\n",
      "\u001b[37m        \u001b[39;49;00m\u001b[94m\"title\"\u001b[39;49;00m:\u001b[37m \u001b[39;49;00m\u001b[33m\"Post #2\"\u001b[39;49;00m\u001b[37m\u001b[39;49;00m\n",
      "\u001b[37m    \u001b[39;49;00m}\u001b[37m\u001b[39;49;00m\n",
      "]\u001b[37m\u001b[39;49;00m\n",
      "\n",
      "\n"
     ]
    }
   ],
   "source": [
    "!http :8000/posts"
   ]
  },
  {
   "cell_type": "code",
   "execution_count": 17,
   "metadata": {},
   "outputs": [
    {
     "name": "stdout",
     "output_type": "stream",
     "text": [
      "\u001b[34mHTTP\u001b[39;49;00m/\u001b[34m1.1\u001b[39;49;00m \u001b[34m204\u001b[39;49;00m \u001b[36mNo Content\u001b[39;49;00m\n",
      "\u001b[36mcontent-length\u001b[39;49;00m: 4\n",
      "\u001b[36mcontent-type\u001b[39;49;00m: application/json\n",
      "\u001b[36mdate\u001b[39;49;00m: Sun, 06 Mar 2022 09:34:24 GMT\n",
      "\u001b[36mserver\u001b[39;49;00m: uvicorn\n",
      "\n",
      "\u001b[37m\u001b[39;49;00m\n",
      "\n",
      "\n"
     ]
    }
   ],
   "source": [
    "!http DELETE :8000/posts/2"
   ]
  },
  {
   "cell_type": "code",
   "execution_count": 18,
   "metadata": {},
   "outputs": [
    {
     "name": "stdout",
     "output_type": "stream",
     "text": [
      "\u001b[34mHTTP\u001b[39;49;00m/\u001b[34m1.1\u001b[39;49;00m \u001b[34m200\u001b[39;49;00m \u001b[36mOK\u001b[39;49;00m\n",
      "\u001b[36mcontent-length\u001b[39;49;00m: 107\n",
      "\u001b[36mcontent-type\u001b[39;49;00m: application/json\n",
      "\u001b[36mdate\u001b[39;49;00m: Sun, 06 Mar 2022 09:34:31 GMT\n",
      "\u001b[36mserver\u001b[39;49;00m: uvicorn\n",
      "\n",
      "{\u001b[37m\u001b[39;49;00m\n",
      "\u001b[37m    \u001b[39;49;00m\u001b[94m\"content\"\u001b[39;49;00m:\u001b[37m \u001b[39;49;00m\u001b[33m\"New Content #1\"\u001b[39;49;00m,\u001b[37m\u001b[39;49;00m\n",
      "\u001b[37m    \u001b[39;49;00m\u001b[94m\"id\"\u001b[39;49;00m:\u001b[37m \u001b[39;49;00m\u001b[34m1\u001b[39;49;00m,\u001b[37m\u001b[39;49;00m\n",
      "\u001b[37m    \u001b[39;49;00m\u001b[94m\"publication_date\"\u001b[39;49;00m:\u001b[37m \u001b[39;49;00m\u001b[33m\"2022-03-06T17:33:20.714966+00:00\"\u001b[39;49;00m,\u001b[37m\u001b[39;49;00m\n",
      "\u001b[37m    \u001b[39;49;00m\u001b[94m\"title\"\u001b[39;49;00m:\u001b[37m \u001b[39;49;00m\u001b[33m\"Post #1\"\u001b[39;49;00m\u001b[37m\u001b[39;49;00m\n",
      "}\u001b[37m\u001b[39;49;00m\n",
      "\n",
      "\n"
     ]
    }
   ],
   "source": [
    "!http :8000/posts/1"
   ]
  },
  {
   "cell_type": "code",
   "execution_count": 19,
   "metadata": {},
   "outputs": [
    {
     "name": "stdout",
     "output_type": "stream",
     "text": [
      "\u001b[34mHTTP\u001b[39;49;00m/\u001b[34m1.1\u001b[39;49;00m \u001b[34m404\u001b[39;49;00m \u001b[36mNot Found\u001b[39;49;00m\n",
      "\u001b[36mcontent-length\u001b[39;49;00m: 34\n",
      "\u001b[36mcontent-type\u001b[39;49;00m: application/json\n",
      "\u001b[36mdate\u001b[39;49;00m: Sun, 06 Mar 2022 09:34:37 GMT\n",
      "\u001b[36mserver\u001b[39;49;00m: uvicorn\n",
      "\n",
      "{\u001b[37m\u001b[39;49;00m\n",
      "\u001b[37m    \u001b[39;49;00m\u001b[94m\"detail\"\u001b[39;49;00m:\u001b[37m \u001b[39;49;00m\u001b[33m\"Object does not exist\"\u001b[39;49;00m\u001b[37m\u001b[39;49;00m\n",
      "}\u001b[37m\u001b[39;49;00m\n",
      "\n",
      "\n"
     ]
    }
   ],
   "source": [
    "!http :8000/posts/2"
   ]
  },
  {
   "cell_type": "markdown",
   "metadata": {},
   "source": [
    "### Adding relationships"
   ]
  },
  {
   "cell_type": "markdown",
   "metadata": {},
   "source": [
    "Once again, we'll examine how\n",
    "to implement comments that are linked to posts. One of the main tasks of Tortoise, and\n",
    "ORM in general, is to ease the process of working with related entities, by automatically\n",
    "making the required JOIN queries and instantiating sub-objects."
   ]
  },
  {
   "cell_type": "markdown",
   "metadata": {},
   "source": [
    "```python\n",
    "# chapter6/tortoise_relationship/models.py\n",
    "\n",
    "class CommentTortoise(Model):\n",
    "    id = fields.IntField(pk=True, generated=True)\n",
    "    post = fields.ForeignKeyField(\n",
    "        \"models.PostTortoise\", \n",
    "        related_name=\"comments\", null=False\n",
    "    )\n",
    "    publication_date = fields.DatetimeField(null=False)\n",
    "    content = fields.TextField(null=False)\n",
    "\n",
    "    class Meta:\n",
    "        table = \"comments\"\n",
    "```"
   ]
  },
  {
   "cell_type": "markdown",
   "metadata": {},
   "source": [
    "The main point of interest here is the `post` field, which is purposely defined as a foreign\n",
    "key. The first argument is the reference to the associated model. Notice that we use the\n",
    "`models` prefix; this is the same one we defined in the Tortoise configuration that we saw\n",
    "earlier. Additionally, we set the `related_name`. This is a typical and convenient feature\n",
    "of ORM. By doing this, we'll be able to get all the comments of a given post simply by\n",
    "accessing its comments property. The action of querying the related comments, therefore,\n",
    "becomes completely *implicit*.\n",
    "\n",
    "We also define the corresponding Pydantic models:"
   ]
  },
  {
   "cell_type": "markdown",
   "metadata": {},
   "source": [
    "```python\n",
    "# chapter6/tortoise_relationship/models.py\n",
    "\n",
    "class CommentBase(BaseModel):\n",
    "    post_id: int\n",
    "    publication_date: datetime = Field(default_factory=datetime.now)\n",
    "    content: str\n",
    "\n",
    "    class Config:\n",
    "        orm_mode = True\n",
    "\n",
    "\n",
    "class CommentCreate(CommentBase):\n",
    "    pass\n",
    "\n",
    "\n",
    "class CommentDB(CommentBase):\n",
    "    id: int\n",
    "```"
   ]
  },
  {
   "cell_type": "markdown",
   "metadata": {},
   "source": [
    "Here, you can see that we have defined a `post_id` attribute. This attribute will be used in\n",
    "the request payload to set the post that we want to attach this new comment to. When you\n",
    "provide this attribute to Tortoise, it automatically understands that you are referring to the\n",
    "identifier of the foreign key field, called `post`."
   ]
  },
  {
   "cell_type": "markdown",
   "metadata": {},
   "source": [
    "In a REST API, sometimes, it makes sense to automatically retrieve the associated objects\n",
    "of an entity in one request. Here, we'll ensure that the comments of a post are returned in\n",
    "the form of a list along with the post data. To do this, we introduce a new Pydantic model,\n",
    "`PostPublic`."
   ]
  },
  {
   "cell_type": "markdown",
   "metadata": {},
   "source": [
    "```python\n",
    "# chapter6/tortoise_relationship/models.py\n",
    "\n",
    "class PostPublic(PostDB):\n",
    "    comments: List[CommentDB]\n",
    "\n",
    "    @validator(\"comments\", pre=True)\n",
    "    def fetch_comments(cls, v):\n",
    "        return list(v) # preprocess: convert to list\n",
    "```"
   ]
  },
  {
   "cell_type": "markdown",
   "metadata": {},
   "source": [
    "Earlier, we mentioned that thanks to Tortoise, we can retrieve the comments of a post by simply\n",
    "doing `post.comments`. This is convenient, but this attribute is not directly a list of data:\n",
    "it's a query set object. If we don't do anything, then, when we try to transform the ORM\n",
    "object into a `PostPublic`, Pydantic will try to parse this query set and fail. However,\n",
    "calling list on this query set forces it to output the data. That is the purpose of this\n",
    "validator. Notice that we set it with `pre=True` to make sure it's called before the built-in\n",
    "Pydantic validation."
   ]
  },
  {
   "cell_type": "markdown",
   "metadata": {},
   "source": [
    "```python\n",
    "# chapter6/tortoise_relationship/app.py\n",
    "\n",
    "@app.post(\"/comments\", response_model=CommentDB, status_code=status.HTTP_201_CREATED)\n",
    "async def create_comment(comment: CommentBase) -> CommentDB:\n",
    "    \n",
    "    # First check if post exists\n",
    "    try:\n",
    "        await PostTortoise.get(id=comment.post_id)\n",
    "    except:\n",
    "        raise HTTPException(\n",
    "            status_code=status.HTTP_400_BAD_REQUEST,\n",
    "            detail=f\"Post {id} does not exist\"\n",
    "        )\n",
    "        \n",
    "    # Create comment\n",
    "    comment_tortoise = await CommentTortoise.create(**comment.dict())\n",
    "    return CommentDB.from_orm(comment_tortoise)\n",
    "```"
   ]
  },
  {
   "cell_type": "markdown",
   "metadata": {},
   "source": [
    "Most of the logic is very similar to the create post endpoint. The main difference is that\n",
    "we first check for the existence of the post before proceeding with the comment creation.\n",
    "Indeed, we want to avoid the foreign key constraint error that could occur at the database\n",
    "level and show a clear and helpful error message to the end user instead.\n",
    "\n",
    "As we mentioned earlier, our objective is to output the comments when retrieving a single\n",
    "post. To do this, we made a small change to the `get_post_or_404`. We also make a few changes on the endpoints for selecting all posts and selecting a single post."
   ]
  },
  {
   "cell_type": "markdown",
   "metadata": {},
   "source": [
    "```python\n",
    "# chapter6/tortoise_relationship/app.py\n",
    "\n",
    "async def get_post_or_404(id: int) -> PostTortoise:\n",
    "    try:\n",
    "        return await PostTortoise.get(id=id).prefetch_related(\"comments\")\n",
    "    except DoesNotExist:\n",
    "        raise HTTPException(status_code=status.HTTP_404_NOT_FOUND)\n",
    "\n",
    "\n",
    "@app.get(\"/posts\")\n",
    "async def list_posts(pagination: Tuple[int, int] = Depends(pagination)) -> List[PostPublic]:\n",
    "    skip, limit = pagination\n",
    "    posts = await PostTortoise.all().prefetch_related(\"comments\").offset(skip).limit(limit)\n",
    "    results = [PostPublic.from_orm(post) for post in posts]\n",
    "    return results\n",
    "\n",
    "\n",
    "@app.get(\"/posts/{id}\", response_model=PostPublic)\n",
    "async def get_post(post: PostTortoise = Depends(get_post_or_404)) -> PostPublic:\n",
    "    return PostPublic.from_orm(post)\n",
    "    \n",
    "```"
   ]
  },
  {
   "cell_type": "markdown",
   "metadata": {},
   "source": [
    "For fun, we list all posts along with all its comments. Testing everything:"
   ]
  },
  {
   "cell_type": "code",
   "execution_count": 54,
   "metadata": {},
   "outputs": [
    {
     "name": "stdout",
     "output_type": "stream",
     "text": [
      "\u001b[34mHTTP\u001b[39;49;00m/\u001b[34m1.1\u001b[39;49;00m \u001b[34m201\u001b[39;49;00m \u001b[36mCreated\u001b[39;49;00m\n",
      "\u001b[36mcontent-length\u001b[39;49;00m: 101\n",
      "\u001b[36mcontent-type\u001b[39;49;00m: application/json\n",
      "\u001b[36mdate\u001b[39;49;00m: Sun, 06 Mar 2022 12:34:13 GMT\n",
      "\u001b[36mserver\u001b[39;49;00m: uvicorn\n",
      "\n",
      "{\u001b[37m\u001b[39;49;00m\n",
      "\u001b[37m    \u001b[39;49;00m\u001b[94m\"content\"\u001b[39;49;00m:\u001b[37m \u001b[39;49;00m\u001b[33m\"Hello #1\"\u001b[39;49;00m,\u001b[37m\u001b[39;49;00m\n",
      "\u001b[37m    \u001b[39;49;00m\u001b[94m\"id\"\u001b[39;49;00m:\u001b[37m \u001b[39;49;00m\u001b[34m1\u001b[39;49;00m,\u001b[37m\u001b[39;49;00m\n",
      "\u001b[37m    \u001b[39;49;00m\u001b[94m\"publication_date\"\u001b[39;49;00m:\u001b[37m \u001b[39;49;00m\u001b[33m\"2022-03-06T20:34:14.776126+00:00\"\u001b[39;49;00m,\u001b[37m\u001b[39;49;00m\n",
      "\u001b[37m    \u001b[39;49;00m\u001b[94m\"title\"\u001b[39;49;00m:\u001b[37m \u001b[39;49;00m\u001b[33m\"Post #1\"\u001b[39;49;00m\u001b[37m\u001b[39;49;00m\n",
      "}\u001b[37m\u001b[39;49;00m\n",
      "\n",
      "\n"
     ]
    }
   ],
   "source": [
    "!http POST :8000/posts title=\"Post #1\" content=\"Hello #1\""
   ]
  },
  {
   "cell_type": "code",
   "execution_count": 55,
   "metadata": {},
   "outputs": [
    {
     "name": "stdout",
     "output_type": "stream",
     "text": [
      "\u001b[34mHTTP\u001b[39;49;00m/\u001b[34m1.1\u001b[39;49;00m \u001b[34m201\u001b[39;49;00m \u001b[36mCreated\u001b[39;49;00m\n",
      "\u001b[36mcontent-length\u001b[39;49;00m: 101\n",
      "\u001b[36mcontent-type\u001b[39;49;00m: application/json\n",
      "\u001b[36mdate\u001b[39;49;00m: Sun, 06 Mar 2022 12:34:16 GMT\n",
      "\u001b[36mserver\u001b[39;49;00m: uvicorn\n",
      "\n",
      "{\u001b[37m\u001b[39;49;00m\n",
      "\u001b[37m    \u001b[39;49;00m\u001b[94m\"content\"\u001b[39;49;00m:\u001b[37m \u001b[39;49;00m\u001b[33m\"Hello #2\"\u001b[39;49;00m,\u001b[37m\u001b[39;49;00m\n",
      "\u001b[37m    \u001b[39;49;00m\u001b[94m\"id\"\u001b[39;49;00m:\u001b[37m \u001b[39;49;00m\u001b[34m2\u001b[39;49;00m,\u001b[37m\u001b[39;49;00m\n",
      "\u001b[37m    \u001b[39;49;00m\u001b[94m\"publication_date\"\u001b[39;49;00m:\u001b[37m \u001b[39;49;00m\u001b[33m\"2022-03-06T20:34:17.113035+00:00\"\u001b[39;49;00m,\u001b[37m\u001b[39;49;00m\n",
      "\u001b[37m    \u001b[39;49;00m\u001b[94m\"title\"\u001b[39;49;00m:\u001b[37m \u001b[39;49;00m\u001b[33m\"Post #2\"\u001b[39;49;00m\u001b[37m\u001b[39;49;00m\n",
      "}\u001b[37m\u001b[39;49;00m\n",
      "\n",
      "\n"
     ]
    }
   ],
   "source": [
    "!http POST :8000/posts title=\"Post #2\" content=\"Hello #2\""
   ]
  },
  {
   "cell_type": "code",
   "execution_count": 56,
   "metadata": {},
   "outputs": [
    {
     "name": "stdout",
     "output_type": "stream",
     "text": [
      "\u001b[34mHTTP\u001b[39;49;00m/\u001b[34m1.1\u001b[39;49;00m \u001b[34m200\u001b[39;49;00m \u001b[36mOK\u001b[39;49;00m\n",
      "\u001b[36mcontent-length\u001b[39;49;00m: 98\n",
      "\u001b[36mcontent-type\u001b[39;49;00m: application/json\n",
      "\u001b[36mdate\u001b[39;49;00m: Sun, 06 Mar 2022 12:34:19 GMT\n",
      "\u001b[36mserver\u001b[39;49;00m: uvicorn\n",
      "\n",
      "{\u001b[37m\u001b[39;49;00m\n",
      "\u001b[37m    \u001b[39;49;00m\u001b[94m\"content\"\u001b[39;49;00m:\u001b[37m \u001b[39;49;00m\u001b[33m\"Hi #1\"\u001b[39;49;00m,\u001b[37m\u001b[39;49;00m\n",
      "\u001b[37m    \u001b[39;49;00m\u001b[94m\"id\"\u001b[39;49;00m:\u001b[37m \u001b[39;49;00m\u001b[34m1\u001b[39;49;00m,\u001b[37m\u001b[39;49;00m\n",
      "\u001b[37m    \u001b[39;49;00m\u001b[94m\"publication_date\"\u001b[39;49;00m:\u001b[37m \u001b[39;49;00m\u001b[33m\"2022-03-06T20:34:14.776126+00:00\"\u001b[39;49;00m,\u001b[37m\u001b[39;49;00m\n",
      "\u001b[37m    \u001b[39;49;00m\u001b[94m\"title\"\u001b[39;49;00m:\u001b[37m \u001b[39;49;00m\u001b[33m\"Post #1\"\u001b[39;49;00m\u001b[37m\u001b[39;49;00m\n",
      "}\u001b[37m\u001b[39;49;00m\n",
      "\n",
      "\n"
     ]
    }
   ],
   "source": [
    "!http PATCH :8000/posts/1 content=\"Hi #1\""
   ]
  },
  {
   "cell_type": "code",
   "execution_count": 57,
   "metadata": {},
   "outputs": [
    {
     "name": "stdout",
     "output_type": "stream",
     "text": [
      "\u001b[34mHTTP\u001b[39;49;00m/\u001b[34m1.1\u001b[39;49;00m \u001b[34m204\u001b[39;49;00m \u001b[36mNo Content\u001b[39;49;00m\n",
      "\u001b[36mdate\u001b[39;49;00m: Sun, 06 Mar 2022 12:34:26 GMT\n",
      "\u001b[36mserver\u001b[39;49;00m: uvicorn\n",
      "\n",
      "\n",
      "\n"
     ]
    }
   ],
   "source": [
    "!http DELETE :8000/posts/2"
   ]
  },
  {
   "cell_type": "code",
   "execution_count": 58,
   "metadata": {},
   "outputs": [
    {
     "name": "stdout",
     "output_type": "stream",
     "text": [
      "\u001b[34mHTTP\u001b[39;49;00m/\u001b[34m1.1\u001b[39;49;00m \u001b[34m201\u001b[39;49;00m \u001b[36mCreated\u001b[39;49;00m\n",
      "\u001b[36mcontent-length\u001b[39;49;00m: 106\n",
      "\u001b[36mcontent-type\u001b[39;49;00m: application/json\n",
      "\u001b[36mdate\u001b[39;49;00m: Sun, 06 Mar 2022 12:34:31 GMT\n",
      "\u001b[36mserver\u001b[39;49;00m: uvicorn\n",
      "\n",
      "{\u001b[37m\u001b[39;49;00m\n",
      "\u001b[37m    \u001b[39;49;00m\u001b[94m\"content\"\u001b[39;49;00m:\u001b[37m \u001b[39;49;00m\u001b[33m\"Comment on Post #1.\"\u001b[39;49;00m,\u001b[37m\u001b[39;49;00m\n",
      "\u001b[37m    \u001b[39;49;00m\u001b[94m\"id\"\u001b[39;49;00m:\u001b[37m \u001b[39;49;00m\u001b[34m1\u001b[39;49;00m,\u001b[37m\u001b[39;49;00m\n",
      "\u001b[37m    \u001b[39;49;00m\u001b[94m\"post_id\"\u001b[39;49;00m:\u001b[37m \u001b[39;49;00m\u001b[34m1\u001b[39;49;00m,\u001b[37m\u001b[39;49;00m\n",
      "\u001b[37m    \u001b[39;49;00m\u001b[94m\"publication_date\"\u001b[39;49;00m:\u001b[37m \u001b[39;49;00m\u001b[33m\"2022-03-06T20:34:31.303506+00:00\"\u001b[39;49;00m\u001b[37m\u001b[39;49;00m\n",
      "}\u001b[37m\u001b[39;49;00m\n",
      "\n",
      "\n"
     ]
    }
   ],
   "source": [
    "!http POST :8000/comments post_id=1 content=\"Comment on Post #1.\""
   ]
  },
  {
   "cell_type": "code",
   "execution_count": 59,
   "metadata": {},
   "outputs": [
    {
     "name": "stdout",
     "output_type": "stream",
     "text": [
      "\u001b[34mHTTP\u001b[39;49;00m/\u001b[34m1.1\u001b[39;49;00m \u001b[34m201\u001b[39;49;00m \u001b[36mCreated\u001b[39;49;00m\n",
      "\u001b[36mcontent-length\u001b[39;49;00m: 114\n",
      "\u001b[36mcontent-type\u001b[39;49;00m: application/json\n",
      "\u001b[36mdate\u001b[39;49;00m: Sun, 06 Mar 2022 12:34:37 GMT\n",
      "\u001b[36mserver\u001b[39;49;00m: uvicorn\n",
      "\n",
      "{\u001b[37m\u001b[39;49;00m\n",
      "\u001b[37m    \u001b[39;49;00m\u001b[94m\"content\"\u001b[39;49;00m:\u001b[37m \u001b[39;49;00m\u001b[33m\"Another comment on Post #1.\"\u001b[39;49;00m,\u001b[37m\u001b[39;49;00m\n",
      "\u001b[37m    \u001b[39;49;00m\u001b[94m\"id\"\u001b[39;49;00m:\u001b[37m \u001b[39;49;00m\u001b[34m2\u001b[39;49;00m,\u001b[37m\u001b[39;49;00m\n",
      "\u001b[37m    \u001b[39;49;00m\u001b[94m\"post_id\"\u001b[39;49;00m:\u001b[37m \u001b[39;49;00m\u001b[34m1\u001b[39;49;00m,\u001b[37m\u001b[39;49;00m\n",
      "\u001b[37m    \u001b[39;49;00m\u001b[94m\"publication_date\"\u001b[39;49;00m:\u001b[37m \u001b[39;49;00m\u001b[33m\"2022-03-06T20:34:37.435434+00:00\"\u001b[39;49;00m\u001b[37m\u001b[39;49;00m\n",
      "}\u001b[37m\u001b[39;49;00m\n",
      "\n",
      "\n"
     ]
    }
   ],
   "source": [
    "!http POST :8000/comments post_id=1 content=\"Another comment on Post #1.\""
   ]
  },
  {
   "cell_type": "code",
   "execution_count": 60,
   "metadata": {},
   "outputs": [
    {
     "name": "stdout",
     "output_type": "stream",
     "text": [
      "\u001b[34mHTTP\u001b[39;49;00m/\u001b[34m1.1\u001b[39;49;00m \u001b[34m200\u001b[39;49;00m \u001b[36mOK\u001b[39;49;00m\n",
      "\u001b[36mcontent-length\u001b[39;49;00m: 333\n",
      "\u001b[36mcontent-type\u001b[39;49;00m: application/json\n",
      "\u001b[36mdate\u001b[39;49;00m: Sun, 06 Mar 2022 12:34:39 GMT\n",
      "\u001b[36mserver\u001b[39;49;00m: uvicorn\n",
      "\n",
      "{\u001b[37m\u001b[39;49;00m\n",
      "\u001b[37m    \u001b[39;49;00m\u001b[94m\"comments\"\u001b[39;49;00m:\u001b[37m \u001b[39;49;00m[\u001b[37m\u001b[39;49;00m\n",
      "\u001b[37m        \u001b[39;49;00m{\u001b[37m\u001b[39;49;00m\n",
      "\u001b[37m            \u001b[39;49;00m\u001b[94m\"content\"\u001b[39;49;00m:\u001b[37m \u001b[39;49;00m\u001b[33m\"Comment on Post #1.\"\u001b[39;49;00m,\u001b[37m\u001b[39;49;00m\n",
      "\u001b[37m            \u001b[39;49;00m\u001b[94m\"id\"\u001b[39;49;00m:\u001b[37m \u001b[39;49;00m\u001b[34m1\u001b[39;49;00m,\u001b[37m\u001b[39;49;00m\n",
      "\u001b[37m            \u001b[39;49;00m\u001b[94m\"post_id\"\u001b[39;49;00m:\u001b[37m \u001b[39;49;00m\u001b[34m1\u001b[39;49;00m,\u001b[37m\u001b[39;49;00m\n",
      "\u001b[37m            \u001b[39;49;00m\u001b[94m\"publication_date\"\u001b[39;49;00m:\u001b[37m \u001b[39;49;00m\u001b[33m\"2022-03-06T20:34:31.303506+00:00\"\u001b[39;49;00m\u001b[37m\u001b[39;49;00m\n",
      "\u001b[37m        \u001b[39;49;00m},\u001b[37m\u001b[39;49;00m\n",
      "\u001b[37m        \u001b[39;49;00m{\u001b[37m\u001b[39;49;00m\n",
      "\u001b[37m            \u001b[39;49;00m\u001b[94m\"content\"\u001b[39;49;00m:\u001b[37m \u001b[39;49;00m\u001b[33m\"Another comment on Post #1.\"\u001b[39;49;00m,\u001b[37m\u001b[39;49;00m\n",
      "\u001b[37m            \u001b[39;49;00m\u001b[94m\"id\"\u001b[39;49;00m:\u001b[37m \u001b[39;49;00m\u001b[34m2\u001b[39;49;00m,\u001b[37m\u001b[39;49;00m\n",
      "\u001b[37m            \u001b[39;49;00m\u001b[94m\"post_id\"\u001b[39;49;00m:\u001b[37m \u001b[39;49;00m\u001b[34m1\u001b[39;49;00m,\u001b[37m\u001b[39;49;00m\n",
      "\u001b[37m            \u001b[39;49;00m\u001b[94m\"publication_date\"\u001b[39;49;00m:\u001b[37m \u001b[39;49;00m\u001b[33m\"2022-03-06T20:34:37.435434+00:00\"\u001b[39;49;00m\u001b[37m\u001b[39;49;00m\n",
      "\u001b[37m        \u001b[39;49;00m}\u001b[37m\u001b[39;49;00m\n",
      "\u001b[37m    \u001b[39;49;00m],\u001b[37m\u001b[39;49;00m\n",
      "\u001b[37m    \u001b[39;49;00m\u001b[94m\"content\"\u001b[39;49;00m:\u001b[37m \u001b[39;49;00m\u001b[33m\"Hi #1\"\u001b[39;49;00m,\u001b[37m\u001b[39;49;00m\n",
      "\u001b[37m    \u001b[39;49;00m\u001b[94m\"id\"\u001b[39;49;00m:\u001b[37m \u001b[39;49;00m\u001b[34m1\u001b[39;49;00m,\u001b[37m\u001b[39;49;00m\n",
      "\u001b[37m    \u001b[39;49;00m\u001b[94m\"publication_date\"\u001b[39;49;00m:\u001b[37m \u001b[39;49;00m\u001b[33m\"2022-03-06T20:34:14.776126+00:00\"\u001b[39;49;00m,\u001b[37m\u001b[39;49;00m\n",
      "\u001b[37m    \u001b[39;49;00m\u001b[94m\"title\"\u001b[39;49;00m:\u001b[37m \u001b[39;49;00m\u001b[33m\"Post #1\"\u001b[39;49;00m\u001b[37m\u001b[39;49;00m\n",
      "}\u001b[37m\u001b[39;49;00m\n",
      "\n",
      "\n"
     ]
    }
   ],
   "source": [
    "!http :8000/posts/1"
   ]
  },
  {
   "cell_type": "code",
   "execution_count": 61,
   "metadata": {},
   "outputs": [
    {
     "name": "stdout",
     "output_type": "stream",
     "text": [
      "\u001b[34mHTTP\u001b[39;49;00m/\u001b[34m1.1\u001b[39;49;00m \u001b[34m200\u001b[39;49;00m \u001b[36mOK\u001b[39;49;00m\n",
      "\u001b[36mcontent-length\u001b[39;49;00m: 335\n",
      "\u001b[36mcontent-type\u001b[39;49;00m: application/json\n",
      "\u001b[36mdate\u001b[39;49;00m: Sun, 06 Mar 2022 12:34:42 GMT\n",
      "\u001b[36mserver\u001b[39;49;00m: uvicorn\n",
      "\n",
      "[\u001b[37m\u001b[39;49;00m\n",
      "\u001b[37m    \u001b[39;49;00m{\u001b[37m\u001b[39;49;00m\n",
      "\u001b[37m        \u001b[39;49;00m\u001b[94m\"comments\"\u001b[39;49;00m:\u001b[37m \u001b[39;49;00m[\u001b[37m\u001b[39;49;00m\n",
      "\u001b[37m            \u001b[39;49;00m{\u001b[37m\u001b[39;49;00m\n",
      "\u001b[37m                \u001b[39;49;00m\u001b[94m\"content\"\u001b[39;49;00m:\u001b[37m \u001b[39;49;00m\u001b[33m\"Comment on Post #1.\"\u001b[39;49;00m,\u001b[37m\u001b[39;49;00m\n",
      "\u001b[37m                \u001b[39;49;00m\u001b[94m\"id\"\u001b[39;49;00m:\u001b[37m \u001b[39;49;00m\u001b[34m1\u001b[39;49;00m,\u001b[37m\u001b[39;49;00m\n",
      "\u001b[37m                \u001b[39;49;00m\u001b[94m\"post_id\"\u001b[39;49;00m:\u001b[37m \u001b[39;49;00m\u001b[34m1\u001b[39;49;00m,\u001b[37m\u001b[39;49;00m\n",
      "\u001b[37m                \u001b[39;49;00m\u001b[94m\"publication_date\"\u001b[39;49;00m:\u001b[37m \u001b[39;49;00m\u001b[33m\"2022-03-06T20:34:31.303506+00:00\"\u001b[39;49;00m\u001b[37m\u001b[39;49;00m\n",
      "\u001b[37m            \u001b[39;49;00m},\u001b[37m\u001b[39;49;00m\n",
      "\u001b[37m            \u001b[39;49;00m{\u001b[37m\u001b[39;49;00m\n",
      "\u001b[37m                \u001b[39;49;00m\u001b[94m\"content\"\u001b[39;49;00m:\u001b[37m \u001b[39;49;00m\u001b[33m\"Another comment on Post #1.\"\u001b[39;49;00m,\u001b[37m\u001b[39;49;00m\n",
      "\u001b[37m                \u001b[39;49;00m\u001b[94m\"id\"\u001b[39;49;00m:\u001b[37m \u001b[39;49;00m\u001b[34m2\u001b[39;49;00m,\u001b[37m\u001b[39;49;00m\n",
      "\u001b[37m                \u001b[39;49;00m\u001b[94m\"post_id\"\u001b[39;49;00m:\u001b[37m \u001b[39;49;00m\u001b[34m1\u001b[39;49;00m,\u001b[37m\u001b[39;49;00m\n",
      "\u001b[37m                \u001b[39;49;00m\u001b[94m\"publication_date\"\u001b[39;49;00m:\u001b[37m \u001b[39;49;00m\u001b[33m\"2022-03-06T20:34:37.435434+00:00\"\u001b[39;49;00m\u001b[37m\u001b[39;49;00m\n",
      "\u001b[37m            \u001b[39;49;00m}\u001b[37m\u001b[39;49;00m\n",
      "\u001b[37m        \u001b[39;49;00m],\u001b[37m\u001b[39;49;00m\n",
      "\u001b[37m        \u001b[39;49;00m\u001b[94m\"content\"\u001b[39;49;00m:\u001b[37m \u001b[39;49;00m\u001b[33m\"Hi #1\"\u001b[39;49;00m,\u001b[37m\u001b[39;49;00m\n",
      "\u001b[37m        \u001b[39;49;00m\u001b[94m\"id\"\u001b[39;49;00m:\u001b[37m \u001b[39;49;00m\u001b[34m1\u001b[39;49;00m,\u001b[37m\u001b[39;49;00m\n",
      "\u001b[37m        \u001b[39;49;00m\u001b[94m\"publication_date\"\u001b[39;49;00m:\u001b[37m \u001b[39;49;00m\u001b[33m\"2022-03-06T20:34:14.776126+00:00\"\u001b[39;49;00m,\u001b[37m\u001b[39;49;00m\n",
      "\u001b[37m        \u001b[39;49;00m\u001b[94m\"title\"\u001b[39;49;00m:\u001b[37m \u001b[39;49;00m\u001b[33m\"Post #1\"\u001b[39;49;00m\u001b[37m\u001b[39;49;00m\n",
      "\u001b[37m    \u001b[39;49;00m}\u001b[37m\u001b[39;49;00m\n",
      "]\u001b[37m\u001b[39;49;00m\n",
      "\n",
      "\n"
     ]
    }
   ],
   "source": [
    "!http :8000/posts"
   ]
  },
  {
   "cell_type": "markdown",
   "metadata": {},
   "source": [
    "### Setting up a database migration system with Aerich"
   ]
  },
  {
   "cell_type": "markdown",
   "metadata": {},
   "source": [
    "When you make changes\n",
    "to your database schema, you want to migrate your existing data in production in a safe\n",
    "and reproducible manner. In this section, we'll demonstrate how to install and configure\n",
    "Aerich, which is a database migration tool from the creators of Tortoise.\n",
    "\n",
    "```\n",
    "$ pip install aerich\n",
    "```\n",
    "\n",
    "The first thing you need to do is declare the Aerich models in your Tortoise configuration.\n",
    "Indeed, Aerich stores some migration state information in your database. To do this, add `\"models\": [\"chapter6.tortoise_relationship.models\", \"aerich.models\"]` in `TORTOISE_ORM`. Start initializing:"
   ]
  },
  {
   "cell_type": "markdown",
   "metadata": {},
   "source": [
    "```\n",
    "$ aerich init -t chapter6.tortoise_relationship.app.TORTOISE_ORM\n",
    "$ aerich init-db\n",
    "```"
   ]
  },
  {
   "cell_type": "markdown",
   "metadata": {},
   "source": [
    "```{margin}\n",
    "⚠️ Aerich migration scripts are not cross-database compatible. This is why you should have the same database engine both in local and in production.\n",
    "\n",
    "<br>\n",
    "\n",
    "⚠️ Always review the generated scripts to make sure they correctly reflect your changes and that you don't lose data in the process. Test your migrations in a test environment and have fresh and working\n",
    "backups before running them in production.\n",
    "```\n",
    "\n",
    "During the life of your project, when you have made changes to your table's schema,\n",
    "you'll have to generate new migration scripts to reflect the changes. This is done quite\n",
    "easily using the following command. The `--name` option allows you to set a name for your migration. It will automatically generate a new migration file that reflects your changes.\n",
    "\n",
    "```\n",
    "aerich migrate --name added_new_tables\n",
    "```\n",
    "\n",
    "To apply the migrations to your database, simply run the following command:\n",
    "\n",
    "```\n",
    "aerich upgrade\n",
    "```\n"
   ]
  },
  {
   "cell_type": "markdown",
   "metadata": {},
   "source": [
    "## Conclusion\n",
    "\n",
    "As you know, databases are an essential part of every system;\n",
    "they allow you to save data in a structured way and retrieve it precisely and reliably\n",
    "thanks to powerful query languages. You are now able to leverage their power in FastAPI for relational databases. Additionally,\n",
    "you've seen the differences between working with and without an ORM to manage\n",
    "relational databases, and you have also learned about the importance of a good migration\n",
    "system when working with such databases.\n",
    "Serious things can now happen: users can send and retrieve data to and from your system.\n",
    "However, this poses a new challenge to tackle. This data needs to be protected so that\n",
    "it can remain private and secure. This is exactly what we'll discuss in the next notebook:\n",
    "how to authenticate users and set up FastAPI for maximum security."
   ]
  }
 ],
 "metadata": {
  "interpreter": {
   "hash": "a55a0d1272a360f93e747858d443ec26da69f69eac36db3e567a961ca624a861"
  },
  "kernelspec": {
   "display_name": "Python 3.8.12 ('ml')",
   "language": "python",
   "name": "python3"
  },
  "language_info": {
   "codemirror_mode": {
    "name": "ipython",
    "version": 3
   },
   "file_extension": ".py",
   "mimetype": "text/x-python",
   "name": "python",
   "nbconvert_exporter": "python",
   "pygments_lexer": "ipython3",
   "version": "3.8.12"
  },
  "orig_nbformat": 4
 },
 "nbformat": 4,
 "nbformat_minor": 2
}
