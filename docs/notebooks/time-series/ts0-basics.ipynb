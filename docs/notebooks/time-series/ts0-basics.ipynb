{
 "cells": [
  {
   "cell_type": "markdown",
   "metadata": {},
   "source": [
    "# Basics of Time Series Analysis"
   ]
  },
  {
   "cell_type": "markdown",
   "metadata": {},
   "source": [
    "```{admonition} Attribution\n",
    "This notebook is based on the kernel [TS-0: the basics\n",
    "](https://www.kaggle.com/konradb/ts-0-the-basics) by [GM Konrad Banachewicz](https://www.kaggle.com/konradb).  \n",
    "```"
   ]
  },
  {
   "cell_type": "markdown",
   "metadata": {},
   "source": [
    "This notebook summarizes some **elementary methods** for time series analysis as sometimes you don't have the time, hardware, or data to go for a transformer, and vintage methods can be your friend. "
   ]
  },
  {
   "cell_type": "markdown",
   "metadata": {},
   "source": [
    "We start by importing the necessary libraries. Most of them are familiar to anybody working with the data science, with the exception of `statsmodels` ([link](https://www.statsmodels.org/stable/index.html)). This package is a product of impressive work by [Seabold and Perktold](http://conference.scipy.org/proceedings/scipy2010/pdfs/seabold.pdf) &mdash; two people who set out to bring statistical functionality in Python into the 21st century. If you are likely to use statistics in your work and you are a Pythonista, familiarizing yourself with this library is a very good idea. \n",
    "\n",
    "In this module we are merely scratching the surface of `statsmodel` functionality, with seasonal decomposition as our primary tool.\n"
   ]
  },
  {
   "cell_type": "code",
   "execution_count": 7,
   "metadata": {},
   "outputs": [],
   "source": [
    "import pandas as pd\n",
    "import numpy as np\n",
    "from random import gauss\n",
    "from random import random\n",
    "import warnings\n",
    "import itertools\n",
    "import pathlib\n",
    "\n",
    "import statsmodels.formula.api as smf\n",
    "import statsmodels.api as sm\n",
    "from statsmodels.graphics.tsaplots import plot_acf, plot_pacf\n",
    "from statsmodels.tsa.ar_model import AR\n",
    "from statsmodels.tsa.seasonal import seasonal_decompose\n",
    "from statsmodels.tsa.stattools import adfuller\n",
    "\n",
    "import seaborn as sns\n",
    "from pandas.plotting import autocorrelation_plot\n",
    "import matplotlib.pyplot as plt\n",
    "import matplotlib_inline\n",
    "matplotlib_inline.backend_inline.set_matplotlib_formats('svg', 'pdf')"
   ]
  },
  {
   "cell_type": "markdown",
   "metadata": {},
   "source": [
    "Define a config class."
   ]
  },
  {
   "cell_type": "code",
   "execution_count": 27,
   "metadata": {},
   "outputs": [],
   "source": [
    "# config\n",
    "class CFG:\n",
    "    data_path = pathlib.Path().absolute().parents[2] / \"data\"\n",
    "    img_dim1 = 8\n",
    "    img_dim2 = 5\n",
    "    \n",
    "# adjust the parameters for displayed figures    \n",
    "plt.rcParams.update({'figure.figsize': (CFG.img_dim1, CFG.img_dim2)})"
   ]
  },
  {
   "cell_type": "markdown",
   "metadata": {},
   "source": [
    "## Groundwork"
   ]
  },
  {
   "cell_type": "markdown",
   "metadata": {},
   "source": [
    "Time series is any sequence you record over time and applications are everywhere. More formally, time series data is a sequence of data points (or observations) recorded at different time intervals - those intervals are frequently, but not always, regular (hourly, daily, weekly, monthly, quarterly etc):\n",
    "\n",
    "$$\\{X_t\\} \\quad t = 1, 2, \\ldots, T$$\n",
    "\n",
    "A strict formulation would be that a time series is a (discrete) realization of a (continuous) [stochastic process](https://en.wikipedia.org/wiki/Stochastic_process) generating the data and the underlying reason why we can infer from the former about the latter is the [Kolmogorov extension theorem](https://en.wikipedia.org/wiki/Kolmogorov_extension_theorem). The proper mathematical treatment of this theory is way beyond the scope of this notebook, so a mathematically inclinded reader is advised to look up those terms and then follow the references.\n",
    "\n",
    "Phenomena measured over time are everywhere, so a natural question is: what can we do with time series? Some of the more popular applications are:\n",
    "\n",
    "* **Interpretation.** We want to be able to make sense of diverse phenomena and capture the nature of the underlying dynamics. \n",
    "\n",
    "* **Modelling.** Understanding inherent aspects of the time series data so that we can create meaningful and accurate forecasts. \n",
    "\n",
    "* **Forecasting.** We want to know something about the future. \n",
    "\n",
    "* **Filtering or smoothing.** We want to get a better understanding of the process based on partially or fully observed sample. \n",
    "\n",
    "* **Simulation.** In certain applications calculating e.g. high quantiles of a distribution is only possible with simulation, because there is not enough historical data."
   ]
  },
  {
   "cell_type": "markdown",
   "metadata": {},
   "source": [
    "## Patterns"
   ]
  },
  {
   "cell_type": "markdown",
   "metadata": {},
   "source": [
    "The first we can do to identify patterns in a time series is separate it into components with easily understandable characteristics:\n",
    "\n",
    "$$X_t = T_t + S_t + C_t + I_t$$\n",
    "\n",
    "where $T_t$ is the **trend** shows a general direction of the time series data over a long period of time which represents a long-term progression of the series (secular variation). $S_t$ is the **seasonal component** with fixed and known period. It is observed when there is a distinct repeated pattern observed between regular intervals due to seasonal factors: annual, monthly or weekly. Obvious examples include daily power consumption patterns or annual sales of seasonal goods. $C_t$ called the **cyclical component** which represents repetitive pattern which does not occur at fixed intervals &mdash; usually observed in an economic context like business cycles. $I_t$ is the **irregular component** (residuals) consists of the fluctuations in the time series that are observed after removing trend and seasonal or cyclical variations.\n",
    "\n"
   ]
  },
  {
   "cell_type": "markdown",
   "metadata": {},
   "source": [
    "We may have different combinations of trends and seasonality. Depending on the nature of the trends and seasonality, a time series can be modeled as an additive or multiplicative time series. Each observation in the series can be expressed as either a sum or a product of the components. It is worth pointing out that an alternative to using a multiplicative decomposition is to first transform the data until the variation in the series appears to be stable over time, then use an additive decomposition. This is equivalent to using an additive decomposition with log transformed components. "
   ]
  },
  {
   "cell_type": "markdown",
   "metadata": {},
   "source": [
    "A popular implementation for calculating the fundamental decomposition can be used via the statsmodels package:"
   ]
  },
  {
   "cell_type": "code",
   "execution_count": 29,
   "metadata": {},
   "outputs": [
    {
     "name": "stdout",
     "output_type": "stream",
     "text": [
      "Help on function seasonal_decompose in module statsmodels.tsa.seasonal:\n",
      "\n",
      "seasonal_decompose(x, model='additive', filt=None, period=None, two_sided=True, extrapolate_trend=0)\n",
      "    Seasonal decomposition using moving averages.\n",
      "    \n",
      "    Parameters\n",
      "    ----------\n",
      "    x : array_like\n",
      "        Time series. If 2d, individual series are in columns. x must contain 2\n",
      "        complete cycles.\n",
      "    model : {\"additive\", \"multiplicative\"}, optional\n",
      "        Type of seasonal component. Abbreviations are accepted.\n",
      "    filt : array_like, optional\n",
      "        The filter coefficients for filtering out the seasonal component.\n",
      "        The concrete moving average method used in filtering is determined by\n",
      "        two_sided.\n",
      "    period : int, optional\n",
      "        Period of the series. Must be used if x is not a pandas object or if\n",
      "        the index of x does not have  a frequency. Overrides default\n",
      "        periodicity of x if x is a pandas object with a timeseries index.\n",
      "    two_sided : bool, optional\n",
      "        The moving average method used in filtering.\n",
      "        If True (default), a centered moving average is computed using the\n",
      "        filt. If False, the filter coefficients are for past values only.\n",
      "    extrapolate_trend : int or 'freq', optional\n",
      "        If set to > 0, the trend resulting from the convolution is\n",
      "        linear least-squares extrapolated on both ends (or the single one\n",
      "        if two_sided is False) considering this many (+1) closest points.\n",
      "        If set to 'freq', use `freq` closest points. Setting this parameter\n",
      "        results in no NaN values in trend or resid components.\n",
      "    \n",
      "    Returns\n",
      "    -------\n",
      "    DecomposeResult\n",
      "        A object with seasonal, trend, and resid attributes.\n",
      "    \n",
      "    See Also\n",
      "    --------\n",
      "    statsmodels.tsa.filters.bk_filter.bkfilter\n",
      "        Baxter-King filter.\n",
      "    statsmodels.tsa.filters.cf_filter.cffilter\n",
      "        Christiano-Fitzgerald asymmetric, random walk filter.\n",
      "    statsmodels.tsa.filters.hp_filter.hpfilter\n",
      "        Hodrick-Prescott filter.\n",
      "    statsmodels.tsa.filters.convolution_filter\n",
      "        Linear filtering via convolution.\n",
      "    statsmodels.tsa.seasonal.STL\n",
      "        Season-Trend decomposition using LOESS.\n",
      "    \n",
      "    Notes\n",
      "    -----\n",
      "    This is a naive decomposition. More sophisticated methods should\n",
      "    be preferred.\n",
      "    \n",
      "    The additive model is Y[t] = T[t] + S[t] + e[t]\n",
      "    \n",
      "    The multiplicative model is Y[t] = T[t] * S[t] * e[t]\n",
      "    \n",
      "    The results are obtained by first estimating the trend by applying\n",
      "    a convolution filter to the data. The trend is then removed from the\n",
      "    series and the average of this de-trended series for each period is\n",
      "    the returned seasonal component.\n",
      "\n"
     ]
    }
   ],
   "source": [
    "help(seasonal_decompose)"
   ]
  },
  {
   "cell_type": "code",
   "execution_count": null,
   "metadata": {},
   "outputs": [],
   "source": []
  }
 ],
 "metadata": {
  "interpreter": {
   "hash": "a55a0d1272a360f93e747858d443ec26da69f69eac36db3e567a961ca624a861"
  },
  "kernelspec": {
   "display_name": "Python 3.8.12 ('ml')",
   "language": "python",
   "name": "python3"
  },
  "language_info": {
   "codemirror_mode": {
    "name": "ipython",
    "version": 3
   },
   "file_extension": ".py",
   "mimetype": "text/x-python",
   "name": "python",
   "nbconvert_exporter": "python",
   "pygments_lexer": "ipython3",
   "version": "3.8.12"
  },
  "orig_nbformat": 4
 },
 "nbformat": 4,
 "nbformat_minor": 2
}
