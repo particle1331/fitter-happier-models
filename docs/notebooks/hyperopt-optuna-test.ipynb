{
 "cells": [
  {
   "cell_type": "markdown",
   "id": "08863df6",
   "metadata": {
    "id": "Q-bCjQI4cMwJ",
    "papermill": {
     "duration": 0.038643,
     "end_time": "2021-09-23T19:42:49.259387",
     "exception": false,
     "start_time": "2021-09-23T19:42:49.220744",
     "status": "completed"
    },
    "tags": []
   },
   "source": [
    "# Hyperparameter Tuning with Optuna"
   ]
  },
  {
   "cell_type": "markdown",
   "id": "de205526",
   "metadata": {
    "id": "1NK-oxLtcMwV",
    "papermill": {
     "duration": 0.035225,
     "end_time": "2021-09-23T19:42:49.333543",
     "exception": false,
     "start_time": "2021-09-23T19:42:49.298318",
     "status": "completed"
    },
    "tags": []
   },
   "source": [
    "\n",
    "\n",
    "With great models, comes the great problem of optimizing hyperparameters {cite}`AAAMLP`. Once a good search algorithm is established for hyperparameter optimization, the task becomes an engineering problem [^ref]. Hence, we will explore an open-source library that offers a framework for solving this task. \n",
    "\n",
    "[^ref]: Like all applied machine learning solutions."
   ]
  },
  {
   "cell_type": "markdown",
   "id": "d060f686",
   "metadata": {
    "id": "jE2gyvfOcMwZ",
    "papermill": {
     "duration": 0.034891,
     "end_time": "2021-09-23T19:42:49.403528",
     "exception": false,
     "start_time": "2021-09-23T19:42:49.368637",
     "status": "completed"
    },
    "tags": []
   },
   "source": [
    "```{figure} ../img/optuna.png\n",
    "---\n",
    "width: 25em\n",
    "name: optuna\n",
    "---\n",
    "```"
   ]
  },
  {
   "cell_type": "markdown",
   "id": "f6fb5ac3",
   "metadata": {
    "id": "8Ht_p93LcMwa",
    "papermill": {
     "duration": 0.034623,
     "end_time": "2021-09-23T19:42:49.474210",
     "exception": false,
     "start_time": "2021-09-23T19:42:49.439587",
     "status": "completed"
    },
    "tags": []
   },
   "source": [
    "> **Optuna** is an automatic hyperparameter optimization software framework, particularly designed for machine learning. It features an imperative, *define-by-run* style user API. Thanks to our *define-by-run* API, the code written with Optuna enjoys high modularity, and the user of Optuna can dynamically construct the search spaces for the hyperparameters.\n",
    "\n",
    "\n",
    "- [Optuna FAQ](https://optuna.readthedocs.io/en/stable/faq.html)\n",
    "- [Optuna docs](https://optuna.readthedocs.io/en/stable/index.html#)\n",
    "- [Optuna paper](https://arxiv.org/abs/1907.10902)"
   ]
  },
  {
   "cell_type": "markdown",
   "id": "edb4fffd",
   "metadata": {
    "id": "klJlBflxcMwb",
    "papermill": {
     "duration": 0.034419,
     "end_time": "2021-09-23T19:42:49.543637",
     "exception": false,
     "start_time": "2021-09-23T19:42:49.509218",
     "status": "completed"
    },
    "tags": []
   },
   "source": [
    "## Basics with scikit-learn"
   ]
  },
  {
   "cell_type": "markdown",
   "id": "f7fbaf29",
   "metadata": {
    "id": "RTOBy10ecMwb",
    "papermill": {
     "duration": 0.03309,
     "end_time": "2021-09-23T19:42:49.610159",
     "exception": false,
     "start_time": "2021-09-23T19:42:49.577069",
     "status": "completed"
    },
    "tags": []
   },
   "source": [
    "Optuna is a black-box optimizer, which means it only needs an objective function, which is any function that returns a numerical value, to evaluate the performance of the its parameters, and decide where to sample in upcoming trials. An optimization problem is framed in the Optuna API using two basic concepts: `study` and `trial`. \n",
    "\n",
    "A study is conceptually an optimization based on an objective function, while a trial is a single execution of an objective function. The combination of hyperparameters for each trial is sampled according to some sampling algorithm defined by the study. \n",
    "\n",
    "In the following code example, the search space is constructed within imperative Python code, e.g. inside conditionals or loops. On the other hand, recall that for `GridSearchCV` and `RandomSearchCV` in scikit-learn, we had to define the entire search space before running the search algorithm."
   ]
  },
  {
   "cell_type": "markdown",
   "id": "d6a8f93c",
   "metadata": {
    "id": "_HmNJmtscMwc",
    "papermill": {
     "duration": 0.033173,
     "end_time": "2021-09-23T19:42:49.676678",
     "exception": false,
     "start_time": "2021-09-23T19:42:49.643505",
     "status": "completed"
    },
    "tags": []
   },
   "source": [
    "````{margin}\n",
    "```{tip}\n",
    "Always perform model evaluation on a dataset within a cross-validation framework!\n",
    "```\n",
    "````"
   ]
  },
  {
   "cell_type": "code",
   "execution_count": 1,
   "id": "d1998370",
   "metadata": {
    "execution": {
     "iopub.execute_input": "2021-09-23T19:42:49.750285Z",
     "iopub.status.busy": "2021-09-23T19:42:49.748639Z",
     "iopub.status.idle": "2021-09-23T19:42:53.871239Z",
     "shell.execute_reply": "2021-09-23T19:42:53.871634Z",
     "shell.execute_reply.started": "2021-09-23T18:11:23.63992Z"
    },
    "id": "7MYKq1Y9cMwd",
    "outputId": "752c9e7d-36e7-49b3-b86a-e2983093a076",
    "papermill": {
     "duration": 4.161289,
     "end_time": "2021-09-23T19:42:53.871894",
     "exception": false,
     "start_time": "2021-09-23T19:42:49.710605",
     "status": "completed"
    },
    "tags": []
   },
   "outputs": [
    {
     "name": "stderr",
     "output_type": "stream",
     "text": [
      "\u001b[32m[I 2021-09-23 19:42:51,422]\u001b[0m A new study created in memory with name: no-name-fd444979-321f-4bd5-a1b7-4dc29abc9f99\u001b[0m\n",
      "\u001b[32m[I 2021-09-23 19:42:53,407]\u001b[0m Trial 0 finished with value: 0.6274181027790716 and parameters: {'classifier': 'SVC', 'svc_c': 1.2487078368712636e-09}. Best is trial 0 with value: 0.6274181027790716.\u001b[0m\n",
      "\u001b[32m[I 2021-09-23 19:42:53,596]\u001b[0m Trial 1 finished with value: 0.9525539512498058 and parameters: {'classifier': 'RandomForest', 'rf_max_depth': 29.778620132001404}. Best is trial 1 with value: 0.9525539512498058.\u001b[0m\n",
      "\u001b[32m[I 2021-09-23 19:42:53,701]\u001b[0m Trial 2 finished with value: 0.9683744760130415 and parameters: {'classifier': 'RandomForest', 'rf_max_depth': 10.105374911039963}. Best is trial 2 with value: 0.9683744760130415.\u001b[0m\n",
      "\u001b[32m[I 2021-09-23 19:42:53,782]\u001b[0m Trial 3 finished with value: 0.6274181027790716 and parameters: {'classifier': 'SVC', 'svc_c': 527.8480053628853}. Best is trial 2 with value: 0.9683744760130415.\u001b[0m\n",
      "\u001b[32m[I 2021-09-23 19:42:53,865]\u001b[0m Trial 4 finished with value: 0.6274181027790716 and parameters: {'classifier': 'SVC', 'svc_c': 1283670498.0976627}. Best is trial 2 with value: 0.9683744760130415.\u001b[0m\n"
     ]
    }
   ],
   "source": [
    "import optuna\n",
    "import pandas as pd\n",
    "from sklearn import ensemble, svm\n",
    "from sklearn import datasets\n",
    "from sklearn import model_selection\n",
    "from functools import partial\n",
    "import joblib\n",
    "\n",
    "\n",
    "# [1] Define an objective function to be maximized.\n",
    "def objective(trial, X, y):\n",
    "    \n",
    "    # [2] Suggest values for the hyperparameters using trial object.\n",
    "    clf_name = trial.suggest_categorical('classifier', ['SVC', 'RandomForest'])\n",
    "    if clf_name == 'SVC':\n",
    "        svc_c = trial.suggest_loguniform('svc_c', 1e-10, 1e10)\n",
    "        clf = svm.SVC(C=svc_c, gamma='auto')\n",
    "    else:\n",
    "        rf_max_depth = int(trial.suggest_loguniform('rf_max_depth', 2, 32))\n",
    "        clf = ensemble.RandomForestClassifier(max_depth=rf_max_depth, n_estimators=10)\n",
    "\n",
    "    score = model_selection.cross_val_score(clf, X, y, n_jobs=-1, cv=5)\n",
    "    return score.mean()\n",
    "\n",
    "# [3] Create a study object and optimize the objective function.\n",
    "X, y = datasets.load_breast_cancer(return_X_y=True)\n",
    "study = optuna.create_study(direction=\"maximize\")\n",
    "study.optimize(partial(objective, X=X, y=y), n_trials=5)"
   ]
  },
  {
   "cell_type": "markdown",
   "id": "0f17257d",
   "metadata": {
    "id": "nsGUAer5cMwg",
    "papermill": {
     "duration": 0.034163,
     "end_time": "2021-09-23T19:42:53.941846",
     "exception": false,
     "start_time": "2021-09-23T19:42:53.907683",
     "status": "completed"
    },
    "tags": []
   },
   "source": [
    "The `study` object saves the result of evaluating the objective each trial &mdash; which is essentially some choice of hyperparameters to evaluate. In the above study, the problem of model selection is framed as a hyperparameter optimization problem. Here we choose between an SVM-based algorithm or Random Forest."
   ]
  },
  {
   "cell_type": "code",
   "execution_count": 2,
   "id": "d017022f",
   "metadata": {
    "execution": {
     "iopub.execute_input": "2021-09-23T19:42:54.029606Z",
     "iopub.status.busy": "2021-09-23T19:42:54.022741Z",
     "iopub.status.idle": "2021-09-23T19:42:54.047958Z",
     "shell.execute_reply": "2021-09-23T19:42:54.048383Z",
     "shell.execute_reply.started": "2021-09-23T18:11:35.181963Z"
    },
    "id": "-e2vQKKTcMwh",
    "outputId": "bdca7478-d429-431f-fbe0-2963d500e735",
    "papermill": {
     "duration": 0.072411,
     "end_time": "2021-09-23T19:42:54.048508",
     "exception": false,
     "start_time": "2021-09-23T19:42:53.976097",
     "status": "completed"
    },
    "tags": []
   },
   "outputs": [
    {
     "data": {
      "text/html": [
       "<div>\n",
       "<style scoped>\n",
       "    .dataframe tbody tr th:only-of-type {\n",
       "        vertical-align: middle;\n",
       "    }\n",
       "\n",
       "    .dataframe tbody tr th {\n",
       "        vertical-align: top;\n",
       "    }\n",
       "\n",
       "    .dataframe thead th {\n",
       "        text-align: right;\n",
       "    }\n",
       "</style>\n",
       "<table border=\"1\" class=\"dataframe\">\n",
       "  <thead>\n",
       "    <tr style=\"text-align: right;\">\n",
       "      <th></th>\n",
       "      <th>number</th>\n",
       "      <th>value</th>\n",
       "      <th>datetime_start</th>\n",
       "      <th>datetime_complete</th>\n",
       "      <th>duration</th>\n",
       "      <th>params_classifier</th>\n",
       "      <th>params_rf_max_depth</th>\n",
       "      <th>params_svc_c</th>\n",
       "      <th>state</th>\n",
       "    </tr>\n",
       "  </thead>\n",
       "  <tbody>\n",
       "    <tr>\n",
       "      <th>0</th>\n",
       "      <td>0</td>\n",
       "      <td>0.627418</td>\n",
       "      <td>2021-09-23 19:42:51.424922</td>\n",
       "      <td>2021-09-23 19:42:53.407406</td>\n",
       "      <td>0 days 00:00:01.982484</td>\n",
       "      <td>SVC</td>\n",
       "      <td>NaN</td>\n",
       "      <td>1.248708e-09</td>\n",
       "      <td>COMPLETE</td>\n",
       "    </tr>\n",
       "    <tr>\n",
       "      <th>1</th>\n",
       "      <td>1</td>\n",
       "      <td>0.952554</td>\n",
       "      <td>2021-09-23 19:42:53.412240</td>\n",
       "      <td>2021-09-23 19:42:53.596166</td>\n",
       "      <td>0 days 00:00:00.183926</td>\n",
       "      <td>RandomForest</td>\n",
       "      <td>29.778620</td>\n",
       "      <td>NaN</td>\n",
       "      <td>COMPLETE</td>\n",
       "    </tr>\n",
       "    <tr>\n",
       "      <th>2</th>\n",
       "      <td>2</td>\n",
       "      <td>0.968374</td>\n",
       "      <td>2021-09-23 19:42:53.597341</td>\n",
       "      <td>2021-09-23 19:42:53.700988</td>\n",
       "      <td>0 days 00:00:00.103647</td>\n",
       "      <td>RandomForest</td>\n",
       "      <td>10.105375</td>\n",
       "      <td>NaN</td>\n",
       "      <td>COMPLETE</td>\n",
       "    </tr>\n",
       "    <tr>\n",
       "      <th>3</th>\n",
       "      <td>3</td>\n",
       "      <td>0.627418</td>\n",
       "      <td>2021-09-23 19:42:53.702042</td>\n",
       "      <td>2021-09-23 19:42:53.781806</td>\n",
       "      <td>0 days 00:00:00.079764</td>\n",
       "      <td>SVC</td>\n",
       "      <td>NaN</td>\n",
       "      <td>5.278480e+02</td>\n",
       "      <td>COMPLETE</td>\n",
       "    </tr>\n",
       "    <tr>\n",
       "      <th>4</th>\n",
       "      <td>4</td>\n",
       "      <td>0.627418</td>\n",
       "      <td>2021-09-23 19:42:53.782936</td>\n",
       "      <td>2021-09-23 19:42:53.865454</td>\n",
       "      <td>0 days 00:00:00.082518</td>\n",
       "      <td>SVC</td>\n",
       "      <td>NaN</td>\n",
       "      <td>1.283670e+09</td>\n",
       "      <td>COMPLETE</td>\n",
       "    </tr>\n",
       "  </tbody>\n",
       "</table>\n",
       "</div>"
      ],
      "text/plain": [
       "   number     value             datetime_start          datetime_complete  \\\n",
       "0       0  0.627418 2021-09-23 19:42:51.424922 2021-09-23 19:42:53.407406   \n",
       "1       1  0.952554 2021-09-23 19:42:53.412240 2021-09-23 19:42:53.596166   \n",
       "2       2  0.968374 2021-09-23 19:42:53.597341 2021-09-23 19:42:53.700988   \n",
       "3       3  0.627418 2021-09-23 19:42:53.702042 2021-09-23 19:42:53.781806   \n",
       "4       4  0.627418 2021-09-23 19:42:53.782936 2021-09-23 19:42:53.865454   \n",
       "\n",
       "                duration params_classifier  params_rf_max_depth  params_svc_c  \\\n",
       "0 0 days 00:00:01.982484               SVC                  NaN  1.248708e-09   \n",
       "1 0 days 00:00:00.183926      RandomForest            29.778620           NaN   \n",
       "2 0 days 00:00:00.103647      RandomForest            10.105375           NaN   \n",
       "3 0 days 00:00:00.079764               SVC                  NaN  5.278480e+02   \n",
       "4 0 days 00:00:00.082518               SVC                  NaN  1.283670e+09   \n",
       "\n",
       "      state  \n",
       "0  COMPLETE  \n",
       "1  COMPLETE  \n",
       "2  COMPLETE  \n",
       "3  COMPLETE  \n",
       "4  COMPLETE  "
      ]
     },
     "execution_count": 2,
     "metadata": {},
     "output_type": "execute_result"
    }
   ],
   "source": [
    "study.trials_dataframe().head()"
   ]
  },
  {
   "cell_type": "markdown",
   "id": "30ba6951",
   "metadata": {
    "id": "hJFdE1kwcMwi",
    "papermill": {
     "duration": 0.034993,
     "end_time": "2021-09-23T19:42:54.121920",
     "exception": false,
     "start_time": "2021-09-23T19:42:54.086927",
     "status": "completed"
    },
    "tags": []
   },
   "source": [
    "### Fine tuning Random Forest"
   ]
  },
  {
   "cell_type": "markdown",
   "id": "5e82adba",
   "metadata": {
    "id": "x20Gt3wccMwj",
    "papermill": {
     "duration": 0.034687,
     "end_time": "2021-09-23T19:42:54.191612",
     "exception": false,
     "start_time": "2021-09-23T19:42:54.156925",
     "status": "completed"
    },
    "tags": []
   },
   "source": [
    "Here we focus on tuning a single Random Forest model. Then, plot the accuracy for each pair of hyperparameters."
   ]
  },
  {
   "cell_type": "code",
   "execution_count": 3,
   "id": "d4f5eaff",
   "metadata": {
    "execution": {
     "iopub.execute_input": "2021-09-23T19:42:54.272455Z",
     "iopub.status.busy": "2021-09-23T19:42:54.271784Z",
     "iopub.status.idle": "2021-09-23T19:46:13.413976Z",
     "shell.execute_reply": "2021-09-23T19:46:13.413288Z",
     "shell.execute_reply.started": "2021-09-23T18:11:35.217384Z"
    },
    "id": "F2o11RCLcMwk",
    "outputId": "6f8a7e09-4d08-48ba-be23-0242d11538cf",
    "papermill": {
     "duration": 199.187324,
     "end_time": "2021-09-23T19:46:13.414140",
     "exception": false,
     "start_time": "2021-09-23T19:42:54.226816",
     "status": "completed"
    },
    "tags": []
   },
   "outputs": [
    {
     "name": "stderr",
     "output_type": "stream",
     "text": [
      "\u001b[32m[I 2021-09-23 19:42:54,268]\u001b[0m A new study created in memory with name: no-name-655d9a3d-c9cf-4bc7-b19c-1eb8356f5c93\u001b[0m\n",
      "\u001b[32m[I 2021-09-23 19:43:01,143]\u001b[0m Trial 0 finished with value: 0.9596180717279925 and parameters: {'max_depth': 23, 'max_features': 0.6685537060496468, 'n_estimators': 478}. Best is trial 0 with value: 0.9596180717279925.\u001b[0m\n",
      "\u001b[32m[I 2021-09-23 19:43:02,760]\u001b[0m Trial 1 finished with value: 0.9631268436578171 and parameters: {'max_depth': 64, 'max_features': 0.3308886522751725, 'n_estimators': 158}. Best is trial 1 with value: 0.9631268436578171.\u001b[0m\n",
      "\u001b[32m[I 2021-09-23 19:43:04,417]\u001b[0m Trial 2 finished with value: 0.9613724576929048 and parameters: {'max_depth': 6, 'max_features': 0.32065510592819363, 'n_estimators': 136}. Best is trial 1 with value: 0.9631268436578171.\u001b[0m\n",
      "\u001b[32m[I 2021-09-23 19:43:12,706]\u001b[0m Trial 3 finished with value: 0.9596180717279925 and parameters: {'max_depth': 74, 'max_features': 0.6786633768574437, 'n_estimators': 587}. Best is trial 1 with value: 0.9631268436578171.\u001b[0m\n",
      "\u001b[32m[I 2021-09-23 19:43:17,093]\u001b[0m Trial 4 finished with value: 0.9578792113025927 and parameters: {'max_depth': 50, 'max_features': 0.6156604901494676, 'n_estimators': 263}. Best is trial 1 with value: 0.9631268436578171.\u001b[0m\n",
      "\u001b[32m[I 2021-09-23 19:43:20,833]\u001b[0m Trial 5 finished with value: 0.9613569321533924 and parameters: {'max_depth': 17, 'max_features': 0.29081027898174067, 'n_estimators': 379}. Best is trial 1 with value: 0.9631268436578171.\u001b[0m\n",
      "\u001b[32m[I 2021-09-23 19:43:23,783]\u001b[0m Trial 6 finished with value: 0.95960254618848 and parameters: {'max_depth': 29, 'max_features': 0.10043288196668942, 'n_estimators': 372}. Best is trial 1 with value: 0.9631268436578171.\u001b[0m\n",
      "\u001b[32m[I 2021-09-23 19:43:31,162]\u001b[0m Trial 7 finished with value: 0.9596180717279925 and parameters: {'max_depth': 33, 'max_features': 0.7015992753508437, 'n_estimators': 489}. Best is trial 1 with value: 0.9631268436578171.\u001b[0m\n",
      "\u001b[32m[I 2021-09-23 19:43:38,456]\u001b[0m Trial 8 finished with value: 0.9578792113025927 and parameters: {'max_depth': 91, 'max_features': 0.9386762878735542, 'n_estimators': 409}. Best is trial 1 with value: 0.9631268436578171.\u001b[0m\n",
      "\u001b[32m[I 2021-09-23 19:43:44,592]\u001b[0m Trial 9 finished with value: 0.9525694767893184 and parameters: {'max_depth': 2, 'max_features': 0.38157197750630845, 'n_estimators': 696}. Best is trial 1 with value: 0.9631268436578171.\u001b[0m\n",
      "\u001b[32m[I 2021-09-23 19:43:45,831]\u001b[0m Trial 10 finished with value: 0.9631113181183046 and parameters: {'max_depth': 7, 'max_features': 0.1382891052557327, 'n_estimators': 139}. Best is trial 1 with value: 0.9631268436578171.\u001b[0m\n",
      "\u001b[32m[I 2021-09-23 19:43:46,882]\u001b[0m Trial 11 finished with value: 0.9543393882937432 and parameters: {'max_depth': 6, 'max_features': 0.12312313422300313, 'n_estimators': 129}. Best is trial 1 with value: 0.9631268436578171.\u001b[0m\n",
      "\u001b[32m[I 2021-09-23 19:43:50,674]\u001b[0m Trial 12 finished with value: 0.9631268436578171 and parameters: {'max_depth': 8, 'max_features': 0.4456702799807972, 'n_estimators': 248}. Best is trial 1 with value: 0.9631268436578171.\u001b[0m\n",
      "\u001b[32m[I 2021-09-23 19:43:53,495]\u001b[0m Trial 13 finished with value: 0.9596180717279925 and parameters: {'max_depth': 10, 'max_features': 0.4746419455948402, 'n_estimators': 230}. Best is trial 1 with value: 0.9631268436578171.\u001b[0m\n",
      "\u001b[32m[I 2021-09-23 19:43:55,993]\u001b[0m Trial 14 finished with value: 0.947290793355069 and parameters: {'max_depth': 2, 'max_features': 0.48405473323437553, 'n_estimators': 267}. Best is trial 1 with value: 0.9631268436578171.\u001b[0m\n",
      "\u001b[32m[I 2021-09-23 19:43:59,408]\u001b[0m Trial 15 finished with value: 0.9561092997981678 and parameters: {'max_depth': 4, 'max_features': 0.8429748320560098, 'n_estimators': 219}. Best is trial 1 with value: 0.9631268436578171.\u001b[0m\n",
      "\u001b[32m[I 2021-09-23 19:44:02,486]\u001b[0m Trial 16 finished with value: 0.9648812296227293 and parameters: {'max_depth': 12, 'max_features': 0.24948977435772335, 'n_estimators': 313}. Best is trial 16 with value: 0.9648812296227293.\u001b[0m\n",
      "\u001b[32m[I 2021-09-23 19:44:05,504]\u001b[0m Trial 17 finished with value: 0.95960254618848 and parameters: {'max_depth': 44, 'max_features': 0.22916753252134967, 'n_estimators': 322}. Best is trial 16 with value: 0.9648812296227293.\u001b[0m\n",
      "\u001b[32m[I 2021-09-23 19:44:10,903]\u001b[0m Trial 18 finished with value: 0.9631268436578171 and parameters: {'max_depth': 17, 'max_features': 0.24908184430961738, 'n_estimators': 548}. Best is trial 16 with value: 0.9648812296227293.\u001b[0m\n",
      "\u001b[32m[I 2021-09-23 19:44:16,108]\u001b[0m Trial 19 finished with value: 0.9613724576929048 and parameters: {'max_depth': 16, 'max_features': 0.221324961654669, 'n_estimators': 577}. Best is trial 16 with value: 0.9648812296227293.\u001b[0m\n",
      "\u001b[32m[I 2021-09-23 19:44:25,294]\u001b[0m Trial 20 finished with value: 0.9613879832324173 and parameters: {'max_depth': 104, 'max_features': 0.3738527792498183, 'n_estimators': 770}. Best is trial 16 with value: 0.9648812296227293.\u001b[0m\n",
      "\u001b[32m[I 2021-09-23 19:44:30,429]\u001b[0m Trial 21 finished with value: 0.9613724576929048 and parameters: {'max_depth': 12, 'max_features': 0.22967820856887167, 'n_estimators': 573}. Best is trial 16 with value: 0.9648812296227293.\u001b[0m\n",
      "\u001b[32m[I 2021-09-23 19:44:36,825]\u001b[0m Trial 22 finished with value: 0.9578326346840551 and parameters: {'max_depth': 4, 'max_features': 0.2913133318452013, 'n_estimators': 649}. Best is trial 16 with value: 0.9648812296227293.\u001b[0m\n",
      "\u001b[32m[I 2021-09-23 19:44:41,332]\u001b[0m Trial 23 finished with value: 0.9613569321533924 and parameters: {'max_depth': 22, 'max_features': 0.18284397464796615, 'n_estimators': 512}. Best is trial 16 with value: 0.9648812296227293.\u001b[0m\n",
      "\u001b[32m[I 2021-09-23 19:44:45,180]\u001b[0m Trial 24 finished with value: 0.9613569321533924 and parameters: {'max_depth': 61, 'max_features': 0.34969184923043384, 'n_estimators': 337}. Best is trial 16 with value: 0.9648812296227293.\u001b[0m\n",
      "\u001b[32m[I 2021-09-23 19:44:47,502]\u001b[0m Trial 25 finished with value: 0.9613569321533924 and parameters: {'max_depth': 9, 'max_features': 0.43469196796719667, 'n_estimators': 194}. Best is trial 16 with value: 0.9648812296227293.\u001b[0m\n",
      "\u001b[32m[I 2021-09-23 19:44:50,849]\u001b[0m Trial 26 finished with value: 0.9595870206489675 and parameters: {'max_depth': 4, 'max_features': 0.5603321825841134, 'n_estimators': 283}. Best is trial 16 with value: 0.9648812296227293.\u001b[0m\n",
      "\u001b[32m[I 2021-09-23 19:44:52,527]\u001b[0m Trial 27 finished with value: 0.9648812296227295 and parameters: {'max_depth': 40, 'max_features': 0.2510044536315035, 'n_estimators': 175}. Best is trial 27 with value: 0.9648812296227295.\u001b[0m\n",
      "\u001b[32m[I 2021-09-23 19:44:54,957]\u001b[0m Trial 28 finished with value: 0.9560937742586555 and parameters: {'max_depth': 39, 'max_features': 0.16730948855595468, 'n_estimators': 173}. Best is trial 27 with value: 0.9648812296227295.\u001b[0m\n",
      "\u001b[32m[I 2021-09-23 19:45:00,401]\u001b[0m Trial 29 finished with value: 0.95960254618848 and parameters: {'max_depth': 24, 'max_features': 0.44624326342761034, 'n_estimators': 448}. Best is trial 27 with value: 0.9648812296227295.\u001b[0m\n",
      "\u001b[32m[I 2021-09-23 19:45:03,274]\u001b[0m Trial 30 finished with value: 0.95960254618848 and parameters: {'max_depth': 20, 'max_features': 0.23029570364180824, 'n_estimators': 310}. Best is trial 27 with value: 0.9648812296227295.\u001b[0m\n",
      "\u001b[32m[I 2021-09-23 19:45:04,329]\u001b[0m Trial 31 finished with value: 0.9631268436578171 and parameters: {'max_depth': 13, 'max_features': 0.2791598864507336, 'n_estimators': 100}. Best is trial 27 with value: 0.9648812296227295.\u001b[0m\n",
      "\u001b[32m[I 2021-09-23 19:45:05,936]\u001b[0m Trial 32 finished with value: 0.9613569321533924 and parameters: {'max_depth': 12, 'max_features': 0.3014171000882793, 'n_estimators': 117}. Best is trial 27 with value: 0.9648812296227295.\u001b[0m\n",
      "\u001b[32m[I 2021-09-23 19:45:07,935]\u001b[0m Trial 33 finished with value: 0.9648967551622418 and parameters: {'max_depth': 128, 'max_features': 0.39890393058886386, 'n_estimators': 177}. Best is trial 33 with value: 0.9648967551622418.\u001b[0m\n",
      "\u001b[32m[I 2021-09-23 19:45:10,143]\u001b[0m Trial 34 finished with value: 0.9631423691973297 and parameters: {'max_depth': 123, 'max_features': 0.3939127340040541, 'n_estimators': 198}. Best is trial 33 with value: 0.9648967551622418.\u001b[0m\n",
      "\u001b[32m[I 2021-09-23 19:45:12,577]\u001b[0m Trial 35 finished with value: 0.9701754385964912 and parameters: {'max_depth': 78, 'max_features': 0.5308244743073206, 'n_estimators': 186}. Best is trial 35 with value: 0.9701754385964912.\u001b[0m\n",
      "\u001b[32m[I 2021-09-23 19:45:14,544]\u001b[0m Trial 36 finished with value: 0.9648812296227295 and parameters: {'max_depth': 81, 'max_features': 0.531370379049585, 'n_estimators': 154}. Best is trial 35 with value: 0.9701754385964912.\u001b[0m\n",
      "\u001b[32m[I 2021-09-23 19:45:17,143]\u001b[0m Trial 37 finished with value: 0.959633597267505 and parameters: {'max_depth': 60, 'max_features': 0.5452498680744837, 'n_estimators': 177}. Best is trial 35 with value: 0.9701754385964912.\u001b[0m\n",
      "\u001b[32m[I 2021-09-23 19:45:19,349]\u001b[0m Trial 38 finished with value: 0.9631423691973294 and parameters: {'max_depth': 81, 'max_features': 0.6114386524798769, 'n_estimators': 163}. Best is trial 35 with value: 0.9701754385964912.\u001b[0m\n",
      "\u001b[32m[I 2021-09-23 19:45:22,506]\u001b[0m Trial 39 finished with value: 0.9631578947368421 and parameters: {'max_depth': 124, 'max_features': 0.6386576076501402, 'n_estimators': 226}. Best is trial 35 with value: 0.9701754385964912.\u001b[0m\n",
      "\u001b[32m[I 2021-09-23 19:45:24,346]\u001b[0m Trial 40 finished with value: 0.9666356155876417 and parameters: {'max_depth': 67, 'max_features': 0.5296347013003299, 'n_estimators': 145}. Best is trial 35 with value: 0.9701754385964912.\u001b[0m\n",
      "\u001b[32m[I 2021-09-23 19:45:26,319]\u001b[0m Trial 41 finished with value: 0.9648812296227295 and parameters: {'max_depth': 68, 'max_features': 0.5196033961311374, 'n_estimators': 152}. Best is trial 35 with value: 0.9701754385964912.\u001b[0m\n",
      "\u001b[32m[I 2021-09-23 19:45:28,952]\u001b[0m Trial 42 finished with value: 0.9666356155876417 and parameters: {'max_depth': 70, 'max_features': 0.5318844784991548, 'n_estimators': 143}. Best is trial 35 with value: 0.9701754385964912.\u001b[0m\n",
      "\u001b[32m[I 2021-09-23 19:45:30,687]\u001b[0m Trial 43 finished with value: 0.959633597267505 and parameters: {'max_depth': 96, 'max_features': 0.7264782124611282, 'n_estimators': 118}. Best is trial 35 with value: 0.9701754385964912.\u001b[0m\n",
      "\u001b[32m[I 2021-09-23 19:45:33,364]\u001b[0m Trial 44 finished with value: 0.9613724576929048 and parameters: {'max_depth': 51, 'max_features': 0.5885184778902578, 'n_estimators': 204}. Best is trial 35 with value: 0.9701754385964912.\u001b[0m\n",
      "\u001b[32m[I 2021-09-23 19:45:35,078]\u001b[0m Trial 45 finished with value: 0.9613724576929048 and parameters: {'max_depth': 75, 'max_features': 0.4967550529799747, 'n_estimators': 142}. Best is trial 35 with value: 0.9701754385964912.\u001b[0m\n",
      "\u001b[32m[I 2021-09-23 19:45:39,266]\u001b[0m Trial 46 finished with value: 0.959633597267505 and parameters: {'max_depth': 64, 'max_features': 0.7247642307235184, 'n_estimators': 259}. Best is trial 35 with value: 0.9701754385964912.\u001b[0m\n",
      "\u001b[32m[I 2021-09-23 19:45:40,855]\u001b[0m Trial 47 finished with value: 0.9613879832324173 and parameters: {'max_depth': 104, 'max_features': 0.6710123271330696, 'n_estimators': 106}. Best is trial 35 with value: 0.9701754385964912.\u001b[0m\n",
      "\u001b[32m[I 2021-09-23 19:45:45,230]\u001b[0m Trial 48 finished with value: 0.9613724576929048 and parameters: {'max_depth': 31, 'max_features': 0.40008884561245067, 'n_estimators': 387}. Best is trial 35 with value: 0.9701754385964912.\u001b[0m\n",
      "\u001b[32m[I 2021-09-23 19:45:47,661]\u001b[0m Trial 49 finished with value: 0.9613724576929048 and parameters: {'max_depth': 50, 'max_features': 0.33217900099212516, 'n_estimators': 238}. Best is trial 35 with value: 0.9701754385964912.\u001b[0m\n",
      "\u001b[32m[I 2021-09-23 19:45:51,675]\u001b[0m Trial 50 finished with value: 0.9631268436578171 and parameters: {'max_depth': 39, 'max_features': 0.5764842284254318, 'n_estimators': 282}. Best is trial 35 with value: 0.9701754385964912.\u001b[0m\n",
      "\u001b[32m[I 2021-09-23 19:45:53,903]\u001b[0m Trial 51 finished with value: 0.959633597267505 and parameters: {'max_depth': 85, 'max_features': 0.5378590225853946, 'n_estimators': 170}. Best is trial 35 with value: 0.9701754385964912.\u001b[0m\n",
      "\u001b[32m[I 2021-09-23 19:45:55,856]\u001b[0m Trial 52 finished with value: 0.9613879832324173 and parameters: {'max_depth': 128, 'max_features': 0.6352662776903143, 'n_estimators': 139}. Best is trial 35 with value: 0.9701754385964912.\u001b[0m\n",
      "\u001b[32m[I 2021-09-23 19:45:58,917]\u001b[0m Trial 53 finished with value: 0.9596491228070174 and parameters: {'max_depth': 57, 'max_features': 0.77405551189229, 'n_estimators': 197}. Best is trial 35 with value: 0.9701754385964912.\u001b[0m\n",
      "\u001b[32m[I 2021-09-23 19:46:01,685]\u001b[0m Trial 54 finished with value: 0.9613724576929048 and parameters: {'max_depth': 74, 'max_features': 0.4983899683300539, 'n_estimators': 150}. Best is trial 35 with value: 0.9701754385964912.\u001b[0m\n",
      "\u001b[32m[I 2021-09-23 19:46:04,436]\u001b[0m Trial 55 finished with value: 0.9631268436578171 and parameters: {'max_depth': 102, 'max_features': 0.4542495001999367, 'n_estimators': 224}. Best is trial 35 with value: 0.9701754385964912.\u001b[0m\n",
      "\u001b[32m[I 2021-09-23 19:46:05,982]\u001b[0m Trial 56 finished with value: 0.9631268436578171 and parameters: {'max_depth': 42, 'max_features': 0.41795126302095137, 'n_estimators': 133}. Best is trial 35 with value: 0.9701754385964912.\u001b[0m\n",
      "\u001b[32m[I 2021-09-23 19:46:07,887]\u001b[0m Trial 57 finished with value: 0.9613724576929048 and parameters: {'max_depth': 69, 'max_features': 0.4751331640345626, 'n_estimators': 157}. Best is trial 35 with value: 0.9701754385964912.\u001b[0m\n",
      "\u001b[32m[I 2021-09-23 19:46:09,934]\u001b[0m Trial 58 finished with value: 0.95960254618848 and parameters: {'max_depth': 89, 'max_features': 0.35645026147802333, 'n_estimators': 191}. Best is trial 35 with value: 0.9701754385964912.\u001b[0m\n",
      "\u001b[32m[I 2021-09-23 19:46:13,406]\u001b[0m Trial 59 finished with value: 0.9666666666666666 and parameters: {'max_depth': 49, 'max_features': 0.5324395159282621, 'n_estimators': 251}. Best is trial 35 with value: 0.9701754385964912.\u001b[0m\n"
     ]
    }
   ],
   "source": [
    "def objective(trial):\n",
    "    \n",
    "    max_depth = trial.suggest_int('max_depth', 2, 128, log=True)    \n",
    "    max_features = trial.suggest_float('max_features', 0.1, 1.0)    \n",
    "    n_estimators = trial.suggest_int('n_estimators', 100, 800)\n",
    "    \n",
    "    clf = ensemble.RandomForestClassifier(\n",
    "        max_depth=max_depth,\n",
    "        n_estimators=n_estimators,\n",
    "        max_features=max_features,\n",
    "        random_state=42)   \n",
    "    \n",
    "    score = model_selection.cross_val_score(clf, X, y, n_jobs=-1, cv=5)\n",
    "    return score.mean()\n",
    "\n",
    "\n",
    "study = optuna.create_study(direction=\"maximize\")\n",
    "study.optimize(objective, n_trials=60)"
   ]
  },
  {
   "cell_type": "code",
   "execution_count": 4,
   "id": "37595752",
   "metadata": {
    "execution": {
     "iopub.execute_input": "2021-09-23T19:46:13.527325Z",
     "iopub.status.busy": "2021-09-23T19:46:13.526708Z",
     "iopub.status.idle": "2021-09-23T19:46:13.529342Z",
     "shell.execute_reply": "2021-09-23T19:46:13.529775Z",
     "shell.execute_reply.started": "2021-09-23T18:14:43.358084Z"
    },
    "id": "5feGzBJTcMwm",
    "outputId": "46394246-610d-45b1-e921-3f2ceac18324",
    "papermill": {
     "duration": 0.062481,
     "end_time": "2021-09-23T19:46:13.529924",
     "exception": false,
     "start_time": "2021-09-23T19:46:13.467443",
     "status": "completed"
    },
    "tags": []
   },
   "outputs": [
    {
     "data": {
      "text/plain": [
       "{'max_depth': 78, 'max_features': 0.5308244743073206, 'n_estimators': 186}"
      ]
     },
     "execution_count": 4,
     "metadata": {},
     "output_type": "execute_result"
    }
   ],
   "source": [
    "study.best_params"
   ]
  },
  {
   "cell_type": "code",
   "execution_count": 5,
   "id": "999143d8",
   "metadata": {
    "execution": {
     "iopub.execute_input": "2021-09-23T19:46:13.645547Z",
     "iopub.status.busy": "2021-09-23T19:46:13.644945Z",
     "iopub.status.idle": "2021-09-23T19:46:13.647729Z",
     "shell.execute_reply": "2021-09-23T19:46:13.648161Z",
     "shell.execute_reply.started": "2021-09-23T18:14:43.369713Z"
    },
    "id": "CzKJQni3iEiD",
    "outputId": "0a7e4c81-cd77-4542-af94-017deb19267e",
    "papermill": {
     "duration": 0.062466,
     "end_time": "2021-09-23T19:46:13.648295",
     "exception": false,
     "start_time": "2021-09-23T19:46:13.585829",
     "status": "completed"
    },
    "tags": []
   },
   "outputs": [
    {
     "data": {
      "text/plain": [
       "0.9701754385964912"
      ]
     },
     "execution_count": 5,
     "metadata": {},
     "output_type": "execute_result"
    }
   ],
   "source": [
    "study.best_value"
   ]
  },
  {
   "cell_type": "markdown",
   "id": "16ee0a00",
   "metadata": {
    "id": "FqulVaLvfkD1",
    "papermill": {
     "duration": 0.051558,
     "end_time": "2021-09-23T19:46:13.752569",
     "exception": false,
     "start_time": "2021-09-23T19:46:13.701011",
     "status": "completed"
    },
    "tags": []
   },
   "source": [
    "### Sampling algorithms"
   ]
  },
  {
   "cell_type": "code",
   "execution_count": 6,
   "id": "748ea7fb",
   "metadata": {
    "execution": {
     "iopub.execute_input": "2021-09-23T19:46:13.881125Z",
     "iopub.status.busy": "2021-09-23T19:46:13.880431Z",
     "iopub.status.idle": "2021-09-23T19:46:14.538529Z",
     "shell.execute_reply": "2021-09-23T19:46:14.538053Z",
     "shell.execute_reply.started": "2021-09-23T18:14:43.379375Z"
    },
    "id": "aJMDs6zccMwl",
    "outputId": "9927d215-69dc-4f90-c65a-4300593bb966",
    "papermill": {
     "duration": 0.733225,
     "end_time": "2021-09-23T19:46:14.538672",
     "exception": false,
     "start_time": "2021-09-23T19:46:13.805447",
     "status": "completed"
    },
    "tags": []
   },
   "outputs": [
    {
     "data": {
      "image/png": "[encoded data removed]",
      "text/plain": [
       "<Figure size 1152x288 with 4 Axes>"
      ]
     },
     "metadata": {
      "needs_background": "light"
     },
     "output_type": "display_data"
    }
   ],
   "source": [
    "import matplotlib.pyplot as plt\n",
    "fig, axes = plt.subplots(nrows=1, ncols=3)\n",
    "\n",
    "def plot_results(study, p1, p2, j, cb):\n",
    "    study.trials_dataframe().plot(\n",
    "        kind='scatter', ax=axes[j], x=p1, y=p2,\n",
    "        c='value', s=60, cmap=plt.get_cmap(\"jet\"), \n",
    "        colorbar=cb, label=\"accuracy\", figsize=(16, 4)\n",
    "    )\n",
    "\n",
    "plot_results(study, 'params_max_depth',    'params_n_estimators', j=0, cb=False)\n",
    "plot_results(study, 'params_max_depth',    'params_max_features', j=1, cb=False)\n",
    "plot_results(study, 'params_n_estimators', 'params_max_features', j=2, cb=True);"
   ]
  },
  {
   "cell_type": "markdown",
   "id": "e4161dbf",
   "metadata": {
    "id": "Ttvy3BEAcMwm",
    "papermill": {
     "duration": 0.05368,
     "end_time": "2021-09-23T19:46:14.646941",
     "exception": false,
     "start_time": "2021-09-23T19:46:14.593261",
     "status": "completed"
    },
    "tags": []
   },
   "source": [
    "**Figure.** TPE in action. Optuna uses  **Tree-structured Parzen Estimater (TPE)** {cite}`bergstra` as the default sampler which is a form of Bayesian optimization. Observe that the hyperparameter space is searched more efficiently than a random search with the sampler choosing points closer to previous good results. Samplers are specified when creating a study: \n",
    "\n",
    "```python\n",
    "study = create_study(direction=\"maximize\", sampler=optuna.samplers.TPESampler())\n",
    "```\n",
    "\n",
    "From the [docs](https://optuna.readthedocs.io/en/stable/reference/generated/optuna.samplers.TPESampler.html#optuna.samplers.TPESampler):\n",
    "\n",
    "> On each trial, for each parameter, TPE fits one Gaussian Mixture Model (GMM) `l(x)` to the set of parameter values associated with the best objective values, and another GMM `g(x)` to the remaining parameter values. It chooses the parameter value `x` that maximizes the ratio `l(x)/g(x)`.\n",
    "\n",
    "Thus, TPE samples every hyperparameter **independently** &mdash; no explicit hyperparameter interactions are considered when sampling future trials, although other parameters implicitly affect objective value. Optuna also implements old friends random and grid search in the following samplers:\n",
    "- `optuna.samplers.GridSampler`\n",
    "- `optuna.samplers.RandomSampler`"
   ]
  },
  {
   "cell_type": "markdown",
   "id": "d9cd9d62",
   "metadata": {
    "id": "DN6cMax5fkD2",
    "papermill": {
     "duration": 0.05304,
     "end_time": "2021-09-23T19:46:14.754136",
     "exception": false,
     "start_time": "2021-09-23T19:46:14.701096",
     "status": "completed"
    },
    "tags": []
   },
   "source": [
    "Results from the [paper](https://arxiv.org/pdf/1907.10902.pdf) {cite}`akiba2019optuna`:"
   ]
  },
  {
   "cell_type": "markdown",
   "id": "fdadde86",
   "metadata": {
    "id": "MRbOyHBvfkD3",
    "papermill": {
     "duration": 0.053859,
     "end_time": "2021-09-23T19:46:14.861587",
     "exception": false,
     "start_time": "2021-09-23T19:46:14.807728",
     "status": "completed"
    },
    "tags": []
   },
   "source": [
    "```{figure} ../img/fig9-optuna.png\n",
    "---\n",
    "width: 35em\n",
    "name: fig9-optuna\n",
    "---\n",
    "```"
   ]
  },
  {
   "cell_type": "markdown",
   "id": "5cb919a6",
   "metadata": {
    "id": "yi5gn3PZfkD4",
    "papermill": {
     "duration": 0.05371,
     "end_time": "2021-09-23T19:46:14.970241",
     "exception": false,
     "start_time": "2021-09-23T19:46:14.916531",
     "status": "completed"
    },
    "tags": []
   },
   "source": [
    "```{figure} ../img/fig10-optuna.png\n",
    "---\n",
    "width: 35em\n",
    "name: fig10-optuna\n",
    "---\n",
    "```"
   ]
  },
  {
   "cell_type": "markdown",
   "id": "448663f2",
   "metadata": {
    "id": "Yx-tL9u0c5eK",
    "papermill": {
     "duration": 0.052459,
     "end_time": "2021-09-23T19:46:15.076930",
     "exception": false,
     "start_time": "2021-09-23T19:46:15.024471",
     "status": "completed"
    },
    "tags": []
   },
   "source": [
    "```{figure} ../img/optuna-results.png\n",
    "---\n",
    "width: 35em\n",
    "name: optuna-results\n",
    "---\n",
    "```"
   ]
  },
  {
   "cell_type": "markdown",
   "id": "a029e80c",
   "metadata": {
    "id": "AVSTHUFifkD4",
    "papermill": {
     "duration": 0.054486,
     "end_time": "2021-09-23T19:46:15.184572",
     "exception": false,
     "start_time": "2021-09-23T19:46:15.130086",
     "status": "completed"
    },
    "tags": []
   },
   "source": [
    "<br>\n",
    "\n",
    "<br>\n",
    "\n",
    "**TPE+CMA-ES** sampling can be implemented as follows:"
   ]
  },
  {
   "cell_type": "code",
   "execution_count": 7,
   "id": "70786e0e",
   "metadata": {
    "execution": {
     "iopub.execute_input": "2021-09-23T19:46:15.299376Z",
     "iopub.status.busy": "2021-09-23T19:46:15.297668Z",
     "iopub.status.idle": "2021-09-23T19:46:15.300012Z",
     "shell.execute_reply": "2021-09-23T19:46:15.300427Z",
     "shell.execute_reply.started": "2021-09-23T18:14:44.023626Z"
    },
    "id": "sMS3blPQfkD5",
    "papermill": {
     "duration": 0.062694,
     "end_time": "2021-09-23T19:46:15.300558",
     "exception": false,
     "start_time": "2021-09-23T19:46:15.237864",
     "status": "completed"
    },
    "tags": []
   },
   "outputs": [],
   "source": [
    "sampler = optuna.samplers.CmaEsSampler(\n",
    "    warn_independent_sampling=False,\n",
    "    independent_sampler=optuna.samplers.TPESampler()\n",
    ")"
   ]
  },
  {
   "cell_type": "markdown",
   "id": "13498ce8",
   "metadata": {
    "id": "Hm4sWHu3fkD6",
    "papermill": {
     "duration": 0.053574,
     "end_time": "2021-09-23T19:46:15.409499",
     "exception": false,
     "start_time": "2021-09-23T19:46:15.355925",
     "status": "completed"
    },
    "tags": []
   },
   "source": [
    "This uses the CMA-ES algorithm {cite}`hansen2016cma` with TPE for searching dynamically constructed hyperparameters (as CMA-ES requires that parameters are specified prior to the optimization). "
   ]
  },
  {
   "cell_type": "markdown",
   "id": "ca3e261a",
   "metadata": {
    "id": "AN93Al8mcMwp",
    "papermill": {
     "duration": 0.053946,
     "end_time": "2021-09-23T19:46:15.517007",
     "exception": false,
     "start_time": "2021-09-23T19:46:15.463061",
     "status": "completed"
    },
    "tags": []
   },
   "source": [
    "### Visualizations"
   ]
  },
  {
   "cell_type": "markdown",
   "id": "629f511e",
   "metadata": {
    "id": "YZ2Pxq8UcMwq",
    "papermill": {
     "duration": 0.053118,
     "end_time": "2021-09-23T19:46:15.622540",
     "exception": false,
     "start_time": "2021-09-23T19:46:15.569422",
     "status": "completed"
    },
    "tags": []
   },
   "source": [
    "Optuna provides visualization functions in the `optuna.visualization` library [^ref4]. The following plot shows the best objective value found as the trials progress. The increasing trend in accuracy indicates that the TPE sampler is working well, i.e. the search algorithm learns from previous trials.\n",
    "\n",
    "[^ref4]: See [Optuna dashboard](https://github.com/optuna/optuna-dashboard) which displays the same plots that are updated in real-time."
   ]
  },
  {
   "cell_type": "code",
   "execution_count": 8,
   "id": "3881ba98",
   "metadata": {
    "execution": {
     "iopub.execute_input": "2021-09-23T19:46:15.733108Z",
     "iopub.status.busy": "2021-09-23T19:46:15.732517Z",
     "iopub.status.idle": "2021-09-23T19:46:15.835883Z",
     "shell.execute_reply": "2021-09-23T19:46:15.835408Z",
     "shell.execute_reply.started": "2021-09-23T18:14:44.031196Z"
    },
    "id": "eKyxRYrDcMwq",
    "outputId": "2be04ffa-4917-47bb-ddbc-f40786fc203c",
    "papermill": {
     "duration": 0.16072,
     "end_time": "2021-09-23T19:46:15.836013",
     "exception": false,
     "start_time": "2021-09-23T19:46:15.675293",
     "status": "completed"
    },
    "tags": []
   },
   "outputs": [
    {
     "data": {
      "text/html": [
       "        <script type=\"text/javascript\">\n",
       "        window.PlotlyConfig = {MathJaxConfig: 'local'};\n",
       "        if (window.MathJax) {MathJax.Hub.Config({SVG: {font: \"STIX-Web\"}});}\n",
       "        if (typeof require !== 'undefined') {\n",
       "        require.undef(\"plotly\");\n",
       "        requirejs.config({\n",
       "            paths: {\n",
       "                'plotly': ['https://cdn.plot.ly/plotly-2.4.2.min']\n",
       "            }\n",
       "        });\n",
       "        require(['plotly'], function(Plotly) {\n",
       "            window._Plotly = Plotly;\n",
       "        });\n",
       "        }\n",
       "        </script>\n",
       "        "
      ]
     },
     "metadata": {},
     "output_type": "display_data"
    },
    {
     "data": {
      "text/html": [
       "<div>                            <div id=\"dfb37f10-c556-46f6-8512-dbfa17382c2b\" class=\"plotly-graph-div\" style=\"height:525px; width:100%;\"></div>            <script type=\"text/javascript\">                require([\"plotly\"], function(Plotly) {                    window.PLOTLYENV=window.PLOTLYENV || {};                                    if (document.getElementById(\"dfb37f10-c556-46f6-8512-dbfa17382c2b\")) {                    Plotly.newPlot(                        \"dfb37f10-c556-46f6-8512-dbfa17382c2b\",                        [{\"mode\":\"markers\",\"name\":\"Objective Value\",\"type\":\"scatter\",\"x\":[0,1,2,3,4,5,6,7,8,9,10,11,12,13,14,15,16,17,18,19,20,21,22,23,24,25,26,27,28,29,30,31,32,33,34,35,36,37,38,39,40,41,42,43,44,45,46,47,48,49,50,51,52,53,54,55,56,57,58,59],\"y\":[0.9596180717279925,0.9631268436578171,0.9613724576929048,0.9596180717279925,0.9578792113025927,0.9613569321533924,0.95960254618848,0.9596180717279925,0.9578792113025927,0.9525694767893184,0.9631113181183046,0.9543393882937432,0.9631268436578171,0.9596180717279925,0.947290793355069,0.9561092997981678,0.9648812296227293,0.95960254618848,0.9631268436578171,0.9613724576929048,0.9613879832324173,0.9613724576929048,0.9578326346840551,0.9613569321533924,0.9613569321533924,0.9613569321533924,0.9595870206489675,0.9648812296227295,0.9560937742586555,0.95960254618848,0.95960254618848,0.9631268436578171,0.9613569321533924,0.9648967551622418,0.9631423691973297,0.9701754385964912,0.9648812296227295,0.959633597267505,0.9631423691973294,0.9631578947368421,0.9666356155876417,0.9648812296227295,0.9666356155876417,0.959633597267505,0.9613724576929048,0.9613724576929048,0.959633597267505,0.9613879832324173,0.9613724576929048,0.9613724576929048,0.9631268436578171,0.959633597267505,0.9613879832324173,0.9596491228070174,0.9613724576929048,0.9631268436578171,0.9631268436578171,0.9613724576929048,0.95960254618848,0.9666666666666666]},{\"name\":\"Best Value\",\"type\":\"scatter\",\"x\":[0,1,2,3,4,5,6,7,8,9,10,11,12,13,14,15,16,17,18,19,20,21,22,23,24,25,26,27,28,29,30,31,32,33,34,35,36,37,38,39,40,41,42,43,44,45,46,47,48,49,50,51,52,53,54,55,56,57,58,59],\"y\":[0.9596180717279925,0.9631268436578171,0.9631268436578171,0.9631268436578171,0.9631268436578171,0.9631268436578171,0.9631268436578171,0.9631268436578171,0.9631268436578171,0.9631268436578171,0.9631268436578171,0.9631268436578171,0.9631268436578171,0.9631268436578171,0.9631268436578171,0.9631268436578171,0.9648812296227293,0.9648812296227293,0.9648812296227293,0.9648812296227293,0.9648812296227293,0.9648812296227293,0.9648812296227293,0.9648812296227293,0.9648812296227293,0.9648812296227293,0.9648812296227293,0.9648812296227295,0.9648812296227295,0.9648812296227295,0.9648812296227295,0.9648812296227295,0.9648812296227295,0.9648967551622418,0.9648967551622418,0.9701754385964912,0.9701754385964912,0.9701754385964912,0.9701754385964912,0.9701754385964912,0.9701754385964912,0.9701754385964912,0.9701754385964912,0.9701754385964912,0.9701754385964912,0.9701754385964912,0.9701754385964912,0.9701754385964912,0.9701754385964912,0.9701754385964912,0.9701754385964912,0.9701754385964912,0.9701754385964912,0.9701754385964912,0.9701754385964912,0.9701754385964912,0.9701754385964912,0.9701754385964912,0.9701754385964912,0.9701754385964912]}],                        {\"template\":{\"data\":{\"bar\":[{\"error_x\":{\"color\":\"#2a3f5f\"},\"error_y\":{\"color\":\"#2a3f5f\"},\"marker\":{\"line\":{\"color\":\"#E5ECF6\",\"width\":0.5},\"pattern\":{\"fillmode\":\"overlay\",\"size\":10,\"solidity\":0.2}},\"type\":\"bar\"}],\"barpolar\":[{\"marker\":{\"line\":{\"color\":\"#E5ECF6\",\"width\":0.5},\"pattern\":{\"fillmode\":\"overlay\",\"size\":10,\"solidity\":0.2}},\"type\":\"barpolar\"}],\"carpet\":[{\"aaxis\":{\"endlinecolor\":\"#2a3f5f\",\"gridcolor\":\"white\",\"linecolor\":\"white\",\"minorgridcolor\":\"white\",\"startlinecolor\":\"#2a3f5f\"},\"baxis\":{\"endlinecolor\":\"#2a3f5f\",\"gridcolor\":\"white\",\"linecolor\":\"white\",\"minorgridcolor\":\"white\",\"startlinecolor\":\"#2a3f5f\"},\"type\":\"carpet\"}],\"choropleth\":[{\"colorbar\":{\"outlinewidth\":0,\"ticks\":\"\"},\"type\":\"choropleth\"}],\"contour\":[{\"colorbar\":{\"outlinewidth\":0,\"ticks\":\"\"},\"colorscale\":[[0.0,\"#0d0887\"],[0.1111111111111111,\"#46039f\"],[0.2222222222222222,\"#7201a8\"],[0.3333333333333333,\"#9c179e\"],[0.4444444444444444,\"#bd3786\"],[0.5555555555555556,\"#d8576b\"],[0.6666666666666666,\"#ed7953\"],[0.7777777777777778,\"#fb9f3a\"],[0.8888888888888888,\"#fdca26\"],[1.0,\"#f0f921\"]],\"type\":\"contour\"}],\"contourcarpet\":[{\"colorbar\":{\"outlinewidth\":0,\"ticks\":\"\"},\"type\":\"contourcarpet\"}],\"heatmap\":[{\"colorbar\":{\"outlinewidth\":0,\"ticks\":\"\"},\"colorscale\":[[0.0,\"#0d0887\"],[0.1111111111111111,\"#46039f\"],[0.2222222222222222,\"#7201a8\"],[0.3333333333333333,\"#9c179e\"],[0.4444444444444444,\"#bd3786\"],[0.5555555555555556,\"#d8576b\"],[0.6666666666666666,\"#ed7953\"],[0.7777777777777778,\"#fb9f3a\"],[0.8888888888888888,\"#fdca26\"],[1.0,\"#f0f921\"]],\"type\":\"heatmap\"}],\"heatmapgl\":[{\"colorbar\":{\"outlinewidth\":0,\"ticks\":\"\"},\"colorscale\":[[0.0,\"#0d0887\"],[0.1111111111111111,\"#46039f\"],[0.2222222222222222,\"#7201a8\"],[0.3333333333333333,\"#9c179e\"],[0.4444444444444444,\"#bd3786\"],[0.5555555555555556,\"#d8576b\"],[0.6666666666666666,\"#ed7953\"],[0.7777777777777778,\"#fb9f3a\"],[0.8888888888888888,\"#fdca26\"],[1.0,\"#f0f921\"]],\"type\":\"heatmapgl\"}],\"histogram\":[{\"marker\":{\"pattern\":{\"fillmode\":\"overlay\",\"size\":10,\"solidity\":0.2}},\"type\":\"histogram\"}],\"histogram2d\":[{\"colorbar\":{\"outlinewidth\":0,\"ticks\":\"\"},\"colorscale\":[[0.0,\"#0d0887\"],[0.1111111111111111,\"#46039f\"],[0.2222222222222222,\"#7201a8\"],[0.3333333333333333,\"#9c179e\"],[0.4444444444444444,\"#bd3786\"],[0.5555555555555556,\"#d8576b\"],[0.6666666666666666,\"#ed7953\"],[0.7777777777777778,\"#fb9f3a\"],[0.8888888888888888,\"#fdca26\"],[1.0,\"#f0f921\"]],\"type\":\"histogram2d\"}],\"histogram2dcontour\":[{\"colorbar\":{\"outlinewidth\":0,\"ticks\":\"\"},\"colorscale\":[[0.0,\"#0d0887\"],[0.1111111111111111,\"#46039f\"],[0.2222222222222222,\"#7201a8\"],[0.3333333333333333,\"#9c179e\"],[0.4444444444444444,\"#bd3786\"],[0.5555555555555556,\"#d8576b\"],[0.6666666666666666,\"#ed7953\"],[0.7777777777777778,\"#fb9f3a\"],[0.8888888888888888,\"#fdca26\"],[1.0,\"#f0f921\"]],\"type\":\"histogram2dcontour\"}],\"mesh3d\":[{\"colorbar\":{\"outlinewidth\":0,\"ticks\":\"\"},\"type\":\"mesh3d\"}],\"parcoords\":[{\"line\":{\"colorbar\":{\"outlinewidth\":0,\"ticks\":\"\"}},\"type\":\"parcoords\"}],\"pie\":[{\"automargin\":true,\"type\":\"pie\"}],\"scatter\":[{\"marker\":{\"colorbar\":{\"outlinewidth\":0,\"ticks\":\"\"}},\"type\":\"scatter\"}],\"scatter3d\":[{\"line\":{\"colorbar\":{\"outlinewidth\":0,\"ticks\":\"\"}},\"marker\":{\"colorbar\":{\"outlinewidth\":0,\"ticks\":\"\"}},\"type\":\"scatter3d\"}],\"scattercarpet\":[{\"marker\":{\"colorbar\":{\"outlinewidth\":0,\"ticks\":\"\"}},\"type\":\"scattercarpet\"}],\"scattergeo\":[{\"marker\":{\"colorbar\":{\"outlinewidth\":0,\"ticks\":\"\"}},\"type\":\"scattergeo\"}],\"scattergl\":[{\"marker\":{\"colorbar\":{\"outlinewidth\":0,\"ticks\":\"\"}},\"type\":\"scattergl\"}],\"scattermapbox\":[{\"marker\":{\"colorbar\":{\"outlinewidth\":0,\"ticks\":\"\"}},\"type\":\"scattermapbox\"}],\"scatterpolar\":[{\"marker\":{\"colorbar\":{\"outlinewidth\":0,\"ticks\":\"\"}},\"type\":\"scatterpolar\"}],\"scatterpolargl\":[{\"marker\":{\"colorbar\":{\"outlinewidth\":0,\"ticks\":\"\"}},\"type\":\"scatterpolargl\"}],\"scatterternary\":[{\"marker\":{\"colorbar\":{\"outlinewidth\":0,\"ticks\":\"\"}},\"type\":\"scatterternary\"}],\"surface\":[{\"colorbar\":{\"outlinewidth\":0,\"ticks\":\"\"},\"colorscale\":[[0.0,\"#0d0887\"],[0.1111111111111111,\"#46039f\"],[0.2222222222222222,\"#7201a8\"],[0.3333333333333333,\"#9c179e\"],[0.4444444444444444,\"#bd3786\"],[0.5555555555555556,\"#d8576b\"],[0.6666666666666666,\"#ed7953\"],[0.7777777777777778,\"#fb9f3a\"],[0.8888888888888888,\"#fdca26\"],[1.0,\"#f0f921\"]],\"type\":\"surface\"}],\"table\":[{\"cells\":{\"fill\":{\"color\":\"#EBF0F8\"},\"line\":{\"color\":\"white\"}},\"header\":{\"fill\":{\"color\":\"#C8D4E3\"},\"line\":{\"color\":\"white\"}},\"type\":\"table\"}]},\"layout\":{\"annotationdefaults\":{\"arrowcolor\":\"#2a3f5f\",\"arrowhead\":0,\"arrowwidth\":1},\"autotypenumbers\":\"strict\",\"coloraxis\":{\"colorbar\":{\"outlinewidth\":0,\"ticks\":\"\"}},\"colorscale\":{\"diverging\":[[0,\"#8e0152\"],[0.1,\"#c51b7d\"],[0.2,\"#de77ae\"],[0.3,\"#f1b6da\"],[0.4,\"#fde0ef\"],[0.5,\"#f7f7f7\"],[0.6,\"#e6f5d0\"],[0.7,\"#b8e186\"],[0.8,\"#7fbc41\"],[0.9,\"#4d9221\"],[1,\"#276419\"]],\"sequential\":[[0.0,\"#0d0887\"],[0.1111111111111111,\"#46039f\"],[0.2222222222222222,\"#7201a8\"],[0.3333333333333333,\"#9c179e\"],[0.4444444444444444,\"#bd3786\"],[0.5555555555555556,\"#d8576b\"],[0.6666666666666666,\"#ed7953\"],[0.7777777777777778,\"#fb9f3a\"],[0.8888888888888888,\"#fdca26\"],[1.0,\"#f0f921\"]],\"sequentialminus\":[[0.0,\"#0d0887\"],[0.1111111111111111,\"#46039f\"],[0.2222222222222222,\"#7201a8\"],[0.3333333333333333,\"#9c179e\"],[0.4444444444444444,\"#bd3786\"],[0.5555555555555556,\"#d8576b\"],[0.6666666666666666,\"#ed7953\"],[0.7777777777777778,\"#fb9f3a\"],[0.8888888888888888,\"#fdca26\"],[1.0,\"#f0f921\"]]},\"colorway\":[\"#636efa\",\"#EF553B\",\"#00cc96\",\"#ab63fa\",\"#FFA15A\",\"#19d3f3\",\"#FF6692\",\"#B6E880\",\"#FF97FF\",\"#FECB52\"],\"font\":{\"color\":\"#2a3f5f\"},\"geo\":{\"bgcolor\":\"white\",\"lakecolor\":\"white\",\"landcolor\":\"#E5ECF6\",\"showlakes\":true,\"showland\":true,\"subunitcolor\":\"white\"},\"hoverlabel\":{\"align\":\"left\"},\"hovermode\":\"closest\",\"mapbox\":{\"style\":\"light\"},\"paper_bgcolor\":\"white\",\"plot_bgcolor\":\"#E5ECF6\",\"polar\":{\"angularaxis\":{\"gridcolor\":\"white\",\"linecolor\":\"white\",\"ticks\":\"\"},\"bgcolor\":\"#E5ECF6\",\"radialaxis\":{\"gridcolor\":\"white\",\"linecolor\":\"white\",\"ticks\":\"\"}},\"scene\":{\"xaxis\":{\"backgroundcolor\":\"#E5ECF6\",\"gridcolor\":\"white\",\"gridwidth\":2,\"linecolor\":\"white\",\"showbackground\":true,\"ticks\":\"\",\"zerolinecolor\":\"white\"},\"yaxis\":{\"backgroundcolor\":\"#E5ECF6\",\"gridcolor\":\"white\",\"gridwidth\":2,\"linecolor\":\"white\",\"showbackground\":true,\"ticks\":\"\",\"zerolinecolor\":\"white\"},\"zaxis\":{\"backgroundcolor\":\"#E5ECF6\",\"gridcolor\":\"white\",\"gridwidth\":2,\"linecolor\":\"white\",\"showbackground\":true,\"ticks\":\"\",\"zerolinecolor\":\"white\"}},\"shapedefaults\":{\"line\":{\"color\":\"#2a3f5f\"}},\"ternary\":{\"aaxis\":{\"gridcolor\":\"white\",\"linecolor\":\"white\",\"ticks\":\"\"},\"baxis\":{\"gridcolor\":\"white\",\"linecolor\":\"white\",\"ticks\":\"\"},\"bgcolor\":\"#E5ECF6\",\"caxis\":{\"gridcolor\":\"white\",\"linecolor\":\"white\",\"ticks\":\"\"}},\"title\":{\"x\":0.05},\"xaxis\":{\"automargin\":true,\"gridcolor\":\"white\",\"linecolor\":\"white\",\"ticks\":\"\",\"title\":{\"standoff\":15},\"zerolinecolor\":\"white\",\"zerolinewidth\":2},\"yaxis\":{\"automargin\":true,\"gridcolor\":\"white\",\"linecolor\":\"white\",\"ticks\":\"\",\"title\":{\"standoff\":15},\"zerolinecolor\":\"white\",\"zerolinewidth\":2}}},\"title\":{\"text\":\"Optimization History Plot\"},\"xaxis\":{\"title\":{\"text\":\"#Trials\"}},\"yaxis\":{\"title\":{\"text\":\"Objective Value\"}}},                        {\"responsive\": true}                    ).then(function(){\n",
       "                            \n",
       "var gd = document.getElementById('dfb37f10-c556-46f6-8512-dbfa17382c2b');\n",
       "var x = new MutationObserver(function (mutations, observer) {{\n",
       "        var display = window.getComputedStyle(gd).display;\n",
       "        if (!display || display === 'none') {{\n",
       "            console.log([gd, 'removed!']);\n",
       "            Plotly.purge(gd);\n",
       "            observer.disconnect();\n",
       "        }}\n",
       "}});\n",
       "\n",
       "// Listen for the removal of the full notebook cells\n",
       "var notebookContainer = gd.closest('#notebook-container');\n",
       "if (notebookContainer) {{\n",
       "    x.observe(notebookContainer, {childList: true});\n",
       "}}\n",
       "\n",
       "// Listen for the clearing of the current output cell\n",
       "var outputEl = gd.closest('.output');\n",
       "if (outputEl) {{\n",
       "    x.observe(outputEl, {childList: true});\n",
       "}}\n",
       "\n",
       "                        })                };                });            </script>        </div>"
      ]
     },
     "metadata": {},
     "output_type": "display_data"
    }
   ],
   "source": [
    "optuna.visualization.plot_optimization_history(study)"
   ]
  },
  {
   "cell_type": "markdown",
   "id": "fb0df627",
   "metadata": {
    "id": "TjeqUb4ycMws",
    "papermill": {
     "duration": 0.064186,
     "end_time": "2021-09-23T19:46:15.964457",
     "exception": false,
     "start_time": "2021-09-23T19:46:15.900271",
     "status": "completed"
    },
    "tags": []
   },
   "source": [
    "The **parallel coordinate plot** gives us a feel of how the hyperparameters interact. For instance, `max_features` around 0.5 with `n_estimators` around 280 and `max_depth` around 20 generally perform well. This setting includes the best performing hyperparameters. To isolate subsets of lines, use the interactive capabilities of the plot below by dragging on each axis to restrict it. See {ref}`figure <optuna-restrict-rf>` immediately below."
   ]
  },
  {
   "cell_type": "code",
   "execution_count": 9,
   "id": "697dc39b",
   "metadata": {
    "execution": {
     "iopub.execute_input": "2021-09-23T19:46:16.097717Z",
     "iopub.status.busy": "2021-09-23T19:46:16.097029Z",
     "iopub.status.idle": "2021-09-23T19:46:16.152838Z",
     "shell.execute_reply": "2021-09-23T19:46:16.153353Z",
     "shell.execute_reply.started": "2021-09-23T18:14:44.141415Z"
    },
    "id": "dRj1KRqPYkuX",
    "outputId": "01e53e57-adb4-402e-d9a1-0f46b0b25e3d",
    "papermill": {
     "duration": 0.125097,
     "end_time": "2021-09-23T19:46:16.153500",
     "exception": false,
     "start_time": "2021-09-23T19:46:16.028403",
     "status": "completed"
    },
    "tags": []
   },
   "outputs": [
    {
     "data": {
      "text/html": [
       "<div>                            <div id=\"61dd36eb-49ca-4e66-8147-0412092ae95a\" class=\"plotly-graph-div\" style=\"height:525px; width:100%;\"></div>            <script type=\"text/javascript\">                require([\"plotly\"], function(Plotly) {                    window.PLOTLYENV=window.PLOTLYENV || {};                                    if (document.getElementById(\"61dd36eb-49ca-4e66-8147-0412092ae95a\")) {                    Plotly.newPlot(                        \"61dd36eb-49ca-4e66-8147-0412092ae95a\",                        [{\"dimensions\":[{\"label\":\"Objective Value\",\"range\":[0.947290793355069,0.9701754385964912],\"values\":[0.9596180717279925,0.9631268436578171,0.9613724576929048,0.9596180717279925,0.9578792113025927,0.9613569321533924,0.95960254618848,0.9596180717279925,0.9578792113025927,0.9525694767893184,0.9631113181183046,0.9543393882937432,0.9631268436578171,0.9596180717279925,0.947290793355069,0.9561092997981678,0.9648812296227293,0.95960254618848,0.9631268436578171,0.9613724576929048,0.9613879832324173,0.9613724576929048,0.9578326346840551,0.9613569321533924,0.9613569321533924,0.9613569321533924,0.9595870206489675,0.9648812296227295,0.9560937742586555,0.95960254618848,0.95960254618848,0.9631268436578171,0.9613569321533924,0.9648967551622418,0.9631423691973297,0.9701754385964912,0.9648812296227295,0.959633597267505,0.9631423691973294,0.9631578947368421,0.9666356155876417,0.9648812296227295,0.9666356155876417,0.959633597267505,0.9613724576929048,0.9613724576929048,0.959633597267505,0.9613879832324173,0.9613724576929048,0.9613724576929048,0.9631268436578171,0.959633597267505,0.9613879832324173,0.9596491228070174,0.9613724576929048,0.9631268436578171,0.9631268436578171,0.9613724576929048,0.95960254618848,0.9666666666666666]},{\"label\":\"max_depth\",\"range\":[2,128],\"values\":[23,64,6,74,50,17,29,33,91,2,7,6,8,10,2,4,12,44,17,16,104,12,4,22,61,9,4,40,39,24,20,13,12,128,123,78,81,60,81,124,67,68,70,96,51,75,64,104,31,50,39,85,128,57,74,102,42,69,89,49]},{\"label\":\"max_features\",\"range\":[0.10043288196668942,0.9386762878735542],\"values\":[0.6685537060496468,0.3308886522751725,0.32065510592819363,0.6786633768574437,0.6156604901494676,0.29081027898174067,0.10043288196668942,0.7015992753508437,0.9386762878735542,0.38157197750630845,0.1382891052557327,0.12312313422300313,0.4456702799807972,0.4746419455948402,0.48405473323437553,0.8429748320560098,0.24948977435772335,0.22916753252134967,0.24908184430961738,0.221324961654669,0.3738527792498183,0.22967820856887167,0.2913133318452013,0.18284397464796615,0.34969184923043384,0.43469196796719667,0.5603321825841134,0.2510044536315035,0.16730948855595468,0.44624326342761034,0.23029570364180824,0.2791598864507336,0.3014171000882793,0.39890393058886386,0.3939127340040541,0.5308244743073206,0.531370379049585,0.5452498680744837,0.6114386524798769,0.6386576076501402,0.5296347013003299,0.5196033961311374,0.5318844784991548,0.7264782124611282,0.5885184778902578,0.4967550529799747,0.7247642307235184,0.6710123271330696,0.40008884561245067,0.33217900099212516,0.5764842284254318,0.5378590225853946,0.6352662776903143,0.77405551189229,0.4983899683300539,0.4542495001999367,0.41795126302095137,0.4751331640345626,0.35645026147802333,0.5324395159282621]},{\"label\":\"n_estimators\",\"range\":[100,770],\"values\":[478,158,136,587,263,379,372,489,409,696,139,129,248,230,267,219,313,322,548,577,770,573,649,512,337,194,283,175,173,448,310,100,117,177,198,186,154,177,163,226,145,152,143,118,204,142,259,106,387,238,282,170,139,197,150,224,133,157,191,251]}],\"labelangle\":30,\"labelside\":\"bottom\",\"line\":{\"color\":[0.9596180717279925,0.9631268436578171,0.9613724576929048,0.9596180717279925,0.9578792113025927,0.9613569321533924,0.95960254618848,0.9596180717279925,0.9578792113025927,0.9525694767893184,0.9631113181183046,0.9543393882937432,0.9631268436578171,0.9596180717279925,0.947290793355069,0.9561092997981678,0.9648812296227293,0.95960254618848,0.9631268436578171,0.9613724576929048,0.9613879832324173,0.9613724576929048,0.9578326346840551,0.9613569321533924,0.9613569321533924,0.9613569321533924,0.9595870206489675,0.9648812296227295,0.9560937742586555,0.95960254618848,0.95960254618848,0.9631268436578171,0.9613569321533924,0.9648967551622418,0.9631423691973297,0.9701754385964912,0.9648812296227295,0.959633597267505,0.9631423691973294,0.9631578947368421,0.9666356155876417,0.9648812296227295,0.9666356155876417,0.959633597267505,0.9613724576929048,0.9613724576929048,0.959633597267505,0.9613879832324173,0.9613724576929048,0.9613724576929048,0.9631268436578171,0.959633597267505,0.9613879832324173,0.9596491228070174,0.9613724576929048,0.9631268436578171,0.9631268436578171,0.9613724576929048,0.95960254618848,0.9666666666666666],\"colorbar\":{\"title\":{\"text\":\"Objective Value\"}},\"colorscale\":[[0.0,\"rgb(247,251,255)\"],[0.125,\"rgb(222,235,247)\"],[0.25,\"rgb(198,219,239)\"],[0.375,\"rgb(158,202,225)\"],[0.5,\"rgb(107,174,214)\"],[0.625,\"rgb(66,146,198)\"],[0.75,\"rgb(33,113,181)\"],[0.875,\"rgb(8,81,156)\"],[1.0,\"rgb(8,48,107)\"]],\"reversescale\":false,\"showscale\":true},\"type\":\"parcoords\"}],                        {\"template\":{\"data\":{\"bar\":[{\"error_x\":{\"color\":\"#2a3f5f\"},\"error_y\":{\"color\":\"#2a3f5f\"},\"marker\":{\"line\":{\"color\":\"#E5ECF6\",\"width\":0.5},\"pattern\":{\"fillmode\":\"overlay\",\"size\":10,\"solidity\":0.2}},\"type\":\"bar\"}],\"barpolar\":[{\"marker\":{\"line\":{\"color\":\"#E5ECF6\",\"width\":0.5},\"pattern\":{\"fillmode\":\"overlay\",\"size\":10,\"solidity\":0.2}},\"type\":\"barpolar\"}],\"carpet\":[{\"aaxis\":{\"endlinecolor\":\"#2a3f5f\",\"gridcolor\":\"white\",\"linecolor\":\"white\",\"minorgridcolor\":\"white\",\"startlinecolor\":\"#2a3f5f\"},\"baxis\":{\"endlinecolor\":\"#2a3f5f\",\"gridcolor\":\"white\",\"linecolor\":\"white\",\"minorgridcolor\":\"white\",\"startlinecolor\":\"#2a3f5f\"},\"type\":\"carpet\"}],\"choropleth\":[{\"colorbar\":{\"outlinewidth\":0,\"ticks\":\"\"},\"type\":\"choropleth\"}],\"contour\":[{\"colorbar\":{\"outlinewidth\":0,\"ticks\":\"\"},\"colorscale\":[[0.0,\"#0d0887\"],[0.1111111111111111,\"#46039f\"],[0.2222222222222222,\"#7201a8\"],[0.3333333333333333,\"#9c179e\"],[0.4444444444444444,\"#bd3786\"],[0.5555555555555556,\"#d8576b\"],[0.6666666666666666,\"#ed7953\"],[0.7777777777777778,\"#fb9f3a\"],[0.8888888888888888,\"#fdca26\"],[1.0,\"#f0f921\"]],\"type\":\"contour\"}],\"contourcarpet\":[{\"colorbar\":{\"outlinewidth\":0,\"ticks\":\"\"},\"type\":\"contourcarpet\"}],\"heatmap\":[{\"colorbar\":{\"outlinewidth\":0,\"ticks\":\"\"},\"colorscale\":[[0.0,\"#0d0887\"],[0.1111111111111111,\"#46039f\"],[0.2222222222222222,\"#7201a8\"],[0.3333333333333333,\"#9c179e\"],[0.4444444444444444,\"#bd3786\"],[0.5555555555555556,\"#d8576b\"],[0.6666666666666666,\"#ed7953\"],[0.7777777777777778,\"#fb9f3a\"],[0.8888888888888888,\"#fdca26\"],[1.0,\"#f0f921\"]],\"type\":\"heatmap\"}],\"heatmapgl\":[{\"colorbar\":{\"outlinewidth\":0,\"ticks\":\"\"},\"colorscale\":[[0.0,\"#0d0887\"],[0.1111111111111111,\"#46039f\"],[0.2222222222222222,\"#7201a8\"],[0.3333333333333333,\"#9c179e\"],[0.4444444444444444,\"#bd3786\"],[0.5555555555555556,\"#d8576b\"],[0.6666666666666666,\"#ed7953\"],[0.7777777777777778,\"#fb9f3a\"],[0.8888888888888888,\"#fdca26\"],[1.0,\"#f0f921\"]],\"type\":\"heatmapgl\"}],\"histogram\":[{\"marker\":{\"pattern\":{\"fillmode\":\"overlay\",\"size\":10,\"solidity\":0.2}},\"type\":\"histogram\"}],\"histogram2d\":[{\"colorbar\":{\"outlinewidth\":0,\"ticks\":\"\"},\"colorscale\":[[0.0,\"#0d0887\"],[0.1111111111111111,\"#46039f\"],[0.2222222222222222,\"#7201a8\"],[0.3333333333333333,\"#9c179e\"],[0.4444444444444444,\"#bd3786\"],[0.5555555555555556,\"#d8576b\"],[0.6666666666666666,\"#ed7953\"],[0.7777777777777778,\"#fb9f3a\"],[0.8888888888888888,\"#fdca26\"],[1.0,\"#f0f921\"]],\"type\":\"histogram2d\"}],\"histogram2dcontour\":[{\"colorbar\":{\"outlinewidth\":0,\"ticks\":\"\"},\"colorscale\":[[0.0,\"#0d0887\"],[0.1111111111111111,\"#46039f\"],[0.2222222222222222,\"#7201a8\"],[0.3333333333333333,\"#9c179e\"],[0.4444444444444444,\"#bd3786\"],[0.5555555555555556,\"#d8576b\"],[0.6666666666666666,\"#ed7953\"],[0.7777777777777778,\"#fb9f3a\"],[0.8888888888888888,\"#fdca26\"],[1.0,\"#f0f921\"]],\"type\":\"histogram2dcontour\"}],\"mesh3d\":[{\"colorbar\":{\"outlinewidth\":0,\"ticks\":\"\"},\"type\":\"mesh3d\"}],\"parcoords\":[{\"line\":{\"colorbar\":{\"outlinewidth\":0,\"ticks\":\"\"}},\"type\":\"parcoords\"}],\"pie\":[{\"automargin\":true,\"type\":\"pie\"}],\"scatter\":[{\"marker\":{\"colorbar\":{\"outlinewidth\":0,\"ticks\":\"\"}},\"type\":\"scatter\"}],\"scatter3d\":[{\"line\":{\"colorbar\":{\"outlinewidth\":0,\"ticks\":\"\"}},\"marker\":{\"colorbar\":{\"outlinewidth\":0,\"ticks\":\"\"}},\"type\":\"scatter3d\"}],\"scattercarpet\":[{\"marker\":{\"colorbar\":{\"outlinewidth\":0,\"ticks\":\"\"}},\"type\":\"scattercarpet\"}],\"scattergeo\":[{\"marker\":{\"colorbar\":{\"outlinewidth\":0,\"ticks\":\"\"}},\"type\":\"scattergeo\"}],\"scattergl\":[{\"marker\":{\"colorbar\":{\"outlinewidth\":0,\"ticks\":\"\"}},\"type\":\"scattergl\"}],\"scattermapbox\":[{\"marker\":{\"colorbar\":{\"outlinewidth\":0,\"ticks\":\"\"}},\"type\":\"scattermapbox\"}],\"scatterpolar\":[{\"marker\":{\"colorbar\":{\"outlinewidth\":0,\"ticks\":\"\"}},\"type\":\"scatterpolar\"}],\"scatterpolargl\":[{\"marker\":{\"colorbar\":{\"outlinewidth\":0,\"ticks\":\"\"}},\"type\":\"scatterpolargl\"}],\"scatterternary\":[{\"marker\":{\"colorbar\":{\"outlinewidth\":0,\"ticks\":\"\"}},\"type\":\"scatterternary\"}],\"surface\":[{\"colorbar\":{\"outlinewidth\":0,\"ticks\":\"\"},\"colorscale\":[[0.0,\"#0d0887\"],[0.1111111111111111,\"#46039f\"],[0.2222222222222222,\"#7201a8\"],[0.3333333333333333,\"#9c179e\"],[0.4444444444444444,\"#bd3786\"],[0.5555555555555556,\"#d8576b\"],[0.6666666666666666,\"#ed7953\"],[0.7777777777777778,\"#fb9f3a\"],[0.8888888888888888,\"#fdca26\"],[1.0,\"#f0f921\"]],\"type\":\"surface\"}],\"table\":[{\"cells\":{\"fill\":{\"color\":\"#EBF0F8\"},\"line\":{\"color\":\"white\"}},\"header\":{\"fill\":{\"color\":\"#C8D4E3\"},\"line\":{\"color\":\"white\"}},\"type\":\"table\"}]},\"layout\":{\"annotationdefaults\":{\"arrowcolor\":\"#2a3f5f\",\"arrowhead\":0,\"arrowwidth\":1},\"autotypenumbers\":\"strict\",\"coloraxis\":{\"colorbar\":{\"outlinewidth\":0,\"ticks\":\"\"}},\"colorscale\":{\"diverging\":[[0,\"#8e0152\"],[0.1,\"#c51b7d\"],[0.2,\"#de77ae\"],[0.3,\"#f1b6da\"],[0.4,\"#fde0ef\"],[0.5,\"#f7f7f7\"],[0.6,\"#e6f5d0\"],[0.7,\"#b8e186\"],[0.8,\"#7fbc41\"],[0.9,\"#4d9221\"],[1,\"#276419\"]],\"sequential\":[[0.0,\"#0d0887\"],[0.1111111111111111,\"#46039f\"],[0.2222222222222222,\"#7201a8\"],[0.3333333333333333,\"#9c179e\"],[0.4444444444444444,\"#bd3786\"],[0.5555555555555556,\"#d8576b\"],[0.6666666666666666,\"#ed7953\"],[0.7777777777777778,\"#fb9f3a\"],[0.8888888888888888,\"#fdca26\"],[1.0,\"#f0f921\"]],\"sequentialminus\":[[0.0,\"#0d0887\"],[0.1111111111111111,\"#46039f\"],[0.2222222222222222,\"#7201a8\"],[0.3333333333333333,\"#9c179e\"],[0.4444444444444444,\"#bd3786\"],[0.5555555555555556,\"#d8576b\"],[0.6666666666666666,\"#ed7953\"],[0.7777777777777778,\"#fb9f3a\"],[0.8888888888888888,\"#fdca26\"],[1.0,\"#f0f921\"]]},\"colorway\":[\"#636efa\",\"#EF553B\",\"#00cc96\",\"#ab63fa\",\"#FFA15A\",\"#19d3f3\",\"#FF6692\",\"#B6E880\",\"#FF97FF\",\"#FECB52\"],\"font\":{\"color\":\"#2a3f5f\"},\"geo\":{\"bgcolor\":\"white\",\"lakecolor\":\"white\",\"landcolor\":\"#E5ECF6\",\"showlakes\":true,\"showland\":true,\"subunitcolor\":\"white\"},\"hoverlabel\":{\"align\":\"left\"},\"hovermode\":\"closest\",\"mapbox\":{\"style\":\"light\"},\"paper_bgcolor\":\"white\",\"plot_bgcolor\":\"#E5ECF6\",\"polar\":{\"angularaxis\":{\"gridcolor\":\"white\",\"linecolor\":\"white\",\"ticks\":\"\"},\"bgcolor\":\"#E5ECF6\",\"radialaxis\":{\"gridcolor\":\"white\",\"linecolor\":\"white\",\"ticks\":\"\"}},\"scene\":{\"xaxis\":{\"backgroundcolor\":\"#E5ECF6\",\"gridcolor\":\"white\",\"gridwidth\":2,\"linecolor\":\"white\",\"showbackground\":true,\"ticks\":\"\",\"zerolinecolor\":\"white\"},\"yaxis\":{\"backgroundcolor\":\"#E5ECF6\",\"gridcolor\":\"white\",\"gridwidth\":2,\"linecolor\":\"white\",\"showbackground\":true,\"ticks\":\"\",\"zerolinecolor\":\"white\"},\"zaxis\":{\"backgroundcolor\":\"#E5ECF6\",\"gridcolor\":\"white\",\"gridwidth\":2,\"linecolor\":\"white\",\"showbackground\":true,\"ticks\":\"\",\"zerolinecolor\":\"white\"}},\"shapedefaults\":{\"line\":{\"color\":\"#2a3f5f\"}},\"ternary\":{\"aaxis\":{\"gridcolor\":\"white\",\"linecolor\":\"white\",\"ticks\":\"\"},\"baxis\":{\"gridcolor\":\"white\",\"linecolor\":\"white\",\"ticks\":\"\"},\"bgcolor\":\"#E5ECF6\",\"caxis\":{\"gridcolor\":\"white\",\"linecolor\":\"white\",\"ticks\":\"\"}},\"title\":{\"x\":0.05},\"xaxis\":{\"automargin\":true,\"gridcolor\":\"white\",\"linecolor\":\"white\",\"ticks\":\"\",\"title\":{\"standoff\":15},\"zerolinecolor\":\"white\",\"zerolinewidth\":2},\"yaxis\":{\"automargin\":true,\"gridcolor\":\"white\",\"linecolor\":\"white\",\"ticks\":\"\",\"title\":{\"standoff\":15},\"zerolinecolor\":\"white\",\"zerolinewidth\":2}}},\"title\":{\"text\":\"Parallel Coordinate Plot\"}},                        {\"responsive\": true}                    ).then(function(){\n",
       "                            \n",
       "var gd = document.getElementById('61dd36eb-49ca-4e66-8147-0412092ae95a');\n",
       "var x = new MutationObserver(function (mutations, observer) {{\n",
       "        var display = window.getComputedStyle(gd).display;\n",
       "        if (!display || display === 'none') {{\n",
       "            console.log([gd, 'removed!']);\n",
       "            Plotly.purge(gd);\n",
       "            observer.disconnect();\n",
       "        }}\n",
       "}});\n",
       "\n",
       "// Listen for the removal of the full notebook cells\n",
       "var notebookContainer = gd.closest('#notebook-container');\n",
       "if (notebookContainer) {{\n",
       "    x.observe(notebookContainer, {childList: true});\n",
       "}}\n",
       "\n",
       "// Listen for the clearing of the current output cell\n",
       "var outputEl = gd.closest('.output');\n",
       "if (outputEl) {{\n",
       "    x.observe(outputEl, {childList: true});\n",
       "}}\n",
       "\n",
       "                        })                };                });            </script>        </div>"
      ]
     },
     "metadata": {},
     "output_type": "display_data"
    }
   ],
   "source": [
    "optuna.visualization.plot_parallel_coordinate(study)"
   ]
  },
  {
   "cell_type": "markdown",
   "id": "8dfb049d",
   "metadata": {
    "id": "a3RxLfaFc5eR",
    "papermill": {
     "duration": 0.061998,
     "end_time": "2021-09-23T19:46:16.269900",
     "exception": false,
     "start_time": "2021-09-23T19:46:16.207902",
     "status": "completed"
    },
    "tags": []
   },
   "source": [
    "```{figure} ../img/optuna-restrict-rf.png\n",
    "---\n",
    "name: optuna-restrict-rf\n",
    "---\n",
    "Using sliders to restrict values for certain parameters.\n",
    "```"
   ]
  },
  {
   "cell_type": "markdown",
   "id": "66b4d283",
   "metadata": {
    "id": "JnLBWNAycMwt",
    "papermill": {
     "duration": 0.056055,
     "end_time": "2021-09-23T19:46:16.382749",
     "exception": false,
     "start_time": "2021-09-23T19:46:16.326694",
     "status": "completed"
    },
    "tags": []
   },
   "source": [
    "**Slice plots** project the path of the optimizer in the hyperparameter space on each dimension, then shift along the $y$-axis according on its objective value. A large spread of dark dots indicate that a large range of values of that hyperparameter is feasible even at later stages. Meanwhile, a small spread means that the sampler focuses on a small part of the search space &mdash; in this case, other hyperparameters implicitly improve the objective. For example, the parameter `max_features` is explored at a wide range even at later trials. Hence, we think of this feature as important. Indeed, the importance plot below supports this."
   ]
  },
  {
   "cell_type": "code",
   "execution_count": 10,
   "id": "19054030",
   "metadata": {
    "execution": {
     "iopub.execute_input": "2021-09-23T19:46:16.509690Z",
     "iopub.status.busy": "2021-09-23T19:46:16.501834Z",
     "iopub.status.idle": "2021-09-23T19:46:16.688013Z",
     "shell.execute_reply": "2021-09-23T19:46:16.688439Z",
     "shell.execute_reply.started": "2021-09-23T18:14:44.205739Z"
    },
    "id": "PWjlffH3cMwu",
    "outputId": "6e7d716e-22f4-46ae-ca4d-58991287c26e",
    "papermill": {
     "duration": 0.245954,
     "end_time": "2021-09-23T19:46:16.688580",
     "exception": false,
     "start_time": "2021-09-23T19:46:16.442626",
     "status": "completed"
    },
    "tags": []
   },
   "outputs": [
    {
     "data": {
      "text/html": [
       "<div>                            <div id=\"f2baf3aa-9f91-4fe7-9edd-a23d7d8f493e\" class=\"plotly-graph-div\" style=\"height:525px; width:100%;\"></div>            <script type=\"text/javascript\">                require([\"plotly\"], function(Plotly) {                    window.PLOTLYENV=window.PLOTLYENV || {};                                    if (document.getElementById(\"f2baf3aa-9f91-4fe7-9edd-a23d7d8f493e\")) {                    Plotly.newPlot(                        \"f2baf3aa-9f91-4fe7-9edd-a23d7d8f493e\",                        [{\"marker\":{\"color\":[0,1,2,3,4,5,6,7,8,9,10,11,12,13,14,15,16,17,18,19,20,21,22,23,24,25,26,27,28,29,30,31,32,33,34,35,36,37,38,39,40,41,42,43,44,45,46,47,48,49,50,51,52,53,54,55,56,57,58,59],\"colorbar\":{\"title\":{\"text\":\"#Trials\"},\"x\":1.0,\"xpad\":40},\"colorscale\":[[0.0,\"rgb(247,251,255)\"],[0.125,\"rgb(222,235,247)\"],[0.25,\"rgb(198,219,239)\"],[0.375,\"rgb(158,202,225)\"],[0.5,\"rgb(107,174,214)\"],[0.625,\"rgb(66,146,198)\"],[0.75,\"rgb(33,113,181)\"],[0.875,\"rgb(8,81,156)\"],[1.0,\"rgb(8,48,107)\"]],\"line\":{\"color\":\"Grey\",\"width\":0.5},\"showscale\":true},\"mode\":\"markers\",\"showlegend\":false,\"type\":\"scatter\",\"x\":[23,64,6,74,50,17,29,33,91,2,7,6,8,10,2,4,12,44,17,16,104,12,4,22,61,9,4,40,39,24,20,13,12,128,123,78,81,60,81,124,67,68,70,96,51,75,64,104,31,50,39,85,128,57,74,102,42,69,89,49],\"xaxis\":\"x\",\"y\":[0.9596180717279925,0.9631268436578171,0.9613724576929048,0.9596180717279925,0.9578792113025927,0.9613569321533924,0.95960254618848,0.9596180717279925,0.9578792113025927,0.9525694767893184,0.9631113181183046,0.9543393882937432,0.9631268436578171,0.9596180717279925,0.947290793355069,0.9561092997981678,0.9648812296227293,0.95960254618848,0.9631268436578171,0.9613724576929048,0.9613879832324173,0.9613724576929048,0.9578326346840551,0.9613569321533924,0.9613569321533924,0.9613569321533924,0.9595870206489675,0.9648812296227295,0.9560937742586555,0.95960254618848,0.95960254618848,0.9631268436578171,0.9613569321533924,0.9648967551622418,0.9631423691973297,0.9701754385964912,0.9648812296227295,0.959633597267505,0.9631423691973294,0.9631578947368421,0.9666356155876417,0.9648812296227295,0.9666356155876417,0.959633597267505,0.9613724576929048,0.9613724576929048,0.959633597267505,0.9613879832324173,0.9613724576929048,0.9613724576929048,0.9631268436578171,0.959633597267505,0.9613879832324173,0.9596491228070174,0.9613724576929048,0.9631268436578171,0.9631268436578171,0.9613724576929048,0.95960254618848,0.9666666666666666],\"yaxis\":\"y\"},{\"marker\":{\"color\":[0,1,2,3,4,5,6,7,8,9,10,11,12,13,14,15,16,17,18,19,20,21,22,23,24,25,26,27,28,29,30,31,32,33,34,35,36,37,38,39,40,41,42,43,44,45,46,47,48,49,50,51,52,53,54,55,56,57,58,59],\"colorbar\":{\"title\":{\"text\":\"#Trials\"},\"x\":1.0,\"xpad\":40},\"colorscale\":[[0.0,\"rgb(247,251,255)\"],[0.125,\"rgb(222,235,247)\"],[0.25,\"rgb(198,219,239)\"],[0.375,\"rgb(158,202,225)\"],[0.5,\"rgb(107,174,214)\"],[0.625,\"rgb(66,146,198)\"],[0.75,\"rgb(33,113,181)\"],[0.875,\"rgb(8,81,156)\"],[1.0,\"rgb(8,48,107)\"]],\"line\":{\"color\":\"Grey\",\"width\":0.5},\"showscale\":false},\"mode\":\"markers\",\"showlegend\":false,\"type\":\"scatter\",\"x\":[0.6685537060496468,0.3308886522751725,0.32065510592819363,0.6786633768574437,0.6156604901494676,0.29081027898174067,0.10043288196668942,0.7015992753508437,0.9386762878735542,0.38157197750630845,0.1382891052557327,0.12312313422300313,0.4456702799807972,0.4746419455948402,0.48405473323437553,0.8429748320560098,0.24948977435772335,0.22916753252134967,0.24908184430961738,0.221324961654669,0.3738527792498183,0.22967820856887167,0.2913133318452013,0.18284397464796615,0.34969184923043384,0.43469196796719667,0.5603321825841134,0.2510044536315035,0.16730948855595468,0.44624326342761034,0.23029570364180824,0.2791598864507336,0.3014171000882793,0.39890393058886386,0.3939127340040541,0.5308244743073206,0.531370379049585,0.5452498680744837,0.6114386524798769,0.6386576076501402,0.5296347013003299,0.5196033961311374,0.5318844784991548,0.7264782124611282,0.5885184778902578,0.4967550529799747,0.7247642307235184,0.6710123271330696,0.40008884561245067,0.33217900099212516,0.5764842284254318,0.5378590225853946,0.6352662776903143,0.77405551189229,0.4983899683300539,0.4542495001999367,0.41795126302095137,0.4751331640345626,0.35645026147802333,0.5324395159282621],\"xaxis\":\"x2\",\"y\":[0.9596180717279925,0.9631268436578171,0.9613724576929048,0.9596180717279925,0.9578792113025927,0.9613569321533924,0.95960254618848,0.9596180717279925,0.9578792113025927,0.9525694767893184,0.9631113181183046,0.9543393882937432,0.9631268436578171,0.9596180717279925,0.947290793355069,0.9561092997981678,0.9648812296227293,0.95960254618848,0.9631268436578171,0.9613724576929048,0.9613879832324173,0.9613724576929048,0.9578326346840551,0.9613569321533924,0.9613569321533924,0.9613569321533924,0.9595870206489675,0.9648812296227295,0.9560937742586555,0.95960254618848,0.95960254618848,0.9631268436578171,0.9613569321533924,0.9648967551622418,0.9631423691973297,0.9701754385964912,0.9648812296227295,0.959633597267505,0.9631423691973294,0.9631578947368421,0.9666356155876417,0.9648812296227295,0.9666356155876417,0.959633597267505,0.9613724576929048,0.9613724576929048,0.959633597267505,0.9613879832324173,0.9613724576929048,0.9613724576929048,0.9631268436578171,0.959633597267505,0.9613879832324173,0.9596491228070174,0.9613724576929048,0.9631268436578171,0.9631268436578171,0.9613724576929048,0.95960254618848,0.9666666666666666],\"yaxis\":\"y2\"},{\"marker\":{\"color\":[0,1,2,3,4,5,6,7,8,9,10,11,12,13,14,15,16,17,18,19,20,21,22,23,24,25,26,27,28,29,30,31,32,33,34,35,36,37,38,39,40,41,42,43,44,45,46,47,48,49,50,51,52,53,54,55,56,57,58,59],\"colorbar\":{\"title\":{\"text\":\"#Trials\"},\"x\":1.0,\"xpad\":40},\"colorscale\":[[0.0,\"rgb(247,251,255)\"],[0.125,\"rgb(222,235,247)\"],[0.25,\"rgb(198,219,239)\"],[0.375,\"rgb(158,202,225)\"],[0.5,\"rgb(107,174,214)\"],[0.625,\"rgb(66,146,198)\"],[0.75,\"rgb(33,113,181)\"],[0.875,\"rgb(8,81,156)\"],[1.0,\"rgb(8,48,107)\"]],\"line\":{\"color\":\"Grey\",\"width\":0.5},\"showscale\":false},\"mode\":\"markers\",\"showlegend\":false,\"type\":\"scatter\",\"x\":[478,158,136,587,263,379,372,489,409,696,139,129,248,230,267,219,313,322,548,577,770,573,649,512,337,194,283,175,173,448,310,100,117,177,198,186,154,177,163,226,145,152,143,118,204,142,259,106,387,238,282,170,139,197,150,224,133,157,191,251],\"xaxis\":\"x3\",\"y\":[0.9596180717279925,0.9631268436578171,0.9613724576929048,0.9596180717279925,0.9578792113025927,0.9613569321533924,0.95960254618848,0.9596180717279925,0.9578792113025927,0.9525694767893184,0.9631113181183046,0.9543393882937432,0.9631268436578171,0.9596180717279925,0.947290793355069,0.9561092997981678,0.9648812296227293,0.95960254618848,0.9631268436578171,0.9613724576929048,0.9613879832324173,0.9613724576929048,0.9578326346840551,0.9613569321533924,0.9613569321533924,0.9613569321533924,0.9595870206489675,0.9648812296227295,0.9560937742586555,0.95960254618848,0.95960254618848,0.9631268436578171,0.9613569321533924,0.9648967551622418,0.9631423691973297,0.9701754385964912,0.9648812296227295,0.959633597267505,0.9631423691973294,0.9631578947368421,0.9666356155876417,0.9648812296227295,0.9666356155876417,0.959633597267505,0.9613724576929048,0.9613724576929048,0.959633597267505,0.9613879832324173,0.9613724576929048,0.9613724576929048,0.9631268436578171,0.959633597267505,0.9613879832324173,0.9596491228070174,0.9613724576929048,0.9631268436578171,0.9631268436578171,0.9613724576929048,0.95960254618848,0.9666666666666666],\"yaxis\":\"y3\"}],                        {\"template\":{\"data\":{\"bar\":[{\"error_x\":{\"color\":\"#2a3f5f\"},\"error_y\":{\"color\":\"#2a3f5f\"},\"marker\":{\"line\":{\"color\":\"#E5ECF6\",\"width\":0.5},\"pattern\":{\"fillmode\":\"overlay\",\"size\":10,\"solidity\":0.2}},\"type\":\"bar\"}],\"barpolar\":[{\"marker\":{\"line\":{\"color\":\"#E5ECF6\",\"width\":0.5},\"pattern\":{\"fillmode\":\"overlay\",\"size\":10,\"solidity\":0.2}},\"type\":\"barpolar\"}],\"carpet\":[{\"aaxis\":{\"endlinecolor\":\"#2a3f5f\",\"gridcolor\":\"white\",\"linecolor\":\"white\",\"minorgridcolor\":\"white\",\"startlinecolor\":\"#2a3f5f\"},\"baxis\":{\"endlinecolor\":\"#2a3f5f\",\"gridcolor\":\"white\",\"linecolor\":\"white\",\"minorgridcolor\":\"white\",\"startlinecolor\":\"#2a3f5f\"},\"type\":\"carpet\"}],\"choropleth\":[{\"colorbar\":{\"outlinewidth\":0,\"ticks\":\"\"},\"type\":\"choropleth\"}],\"contour\":[{\"colorbar\":{\"outlinewidth\":0,\"ticks\":\"\"},\"colorscale\":[[0.0,\"#0d0887\"],[0.1111111111111111,\"#46039f\"],[0.2222222222222222,\"#7201a8\"],[0.3333333333333333,\"#9c179e\"],[0.4444444444444444,\"#bd3786\"],[0.5555555555555556,\"#d8576b\"],[0.6666666666666666,\"#ed7953\"],[0.7777777777777778,\"#fb9f3a\"],[0.8888888888888888,\"#fdca26\"],[1.0,\"#f0f921\"]],\"type\":\"contour\"}],\"contourcarpet\":[{\"colorbar\":{\"outlinewidth\":0,\"ticks\":\"\"},\"type\":\"contourcarpet\"}],\"heatmap\":[{\"colorbar\":{\"outlinewidth\":0,\"ticks\":\"\"},\"colorscale\":[[0.0,\"#0d0887\"],[0.1111111111111111,\"#46039f\"],[0.2222222222222222,\"#7201a8\"],[0.3333333333333333,\"#9c179e\"],[0.4444444444444444,\"#bd3786\"],[0.5555555555555556,\"#d8576b\"],[0.6666666666666666,\"#ed7953\"],[0.7777777777777778,\"#fb9f3a\"],[0.8888888888888888,\"#fdca26\"],[1.0,\"#f0f921\"]],\"type\":\"heatmap\"}],\"heatmapgl\":[{\"colorbar\":{\"outlinewidth\":0,\"ticks\":\"\"},\"colorscale\":[[0.0,\"#0d0887\"],[0.1111111111111111,\"#46039f\"],[0.2222222222222222,\"#7201a8\"],[0.3333333333333333,\"#9c179e\"],[0.4444444444444444,\"#bd3786\"],[0.5555555555555556,\"#d8576b\"],[0.6666666666666666,\"#ed7953\"],[0.7777777777777778,\"#fb9f3a\"],[0.8888888888888888,\"#fdca26\"],[1.0,\"#f0f921\"]],\"type\":\"heatmapgl\"}],\"histogram\":[{\"marker\":{\"pattern\":{\"fillmode\":\"overlay\",\"size\":10,\"solidity\":0.2}},\"type\":\"histogram\"}],\"histogram2d\":[{\"colorbar\":{\"outlinewidth\":0,\"ticks\":\"\"},\"colorscale\":[[0.0,\"#0d0887\"],[0.1111111111111111,\"#46039f\"],[0.2222222222222222,\"#7201a8\"],[0.3333333333333333,\"#9c179e\"],[0.4444444444444444,\"#bd3786\"],[0.5555555555555556,\"#d8576b\"],[0.6666666666666666,\"#ed7953\"],[0.7777777777777778,\"#fb9f3a\"],[0.8888888888888888,\"#fdca26\"],[1.0,\"#f0f921\"]],\"type\":\"histogram2d\"}],\"histogram2dcontour\":[{\"colorbar\":{\"outlinewidth\":0,\"ticks\":\"\"},\"colorscale\":[[0.0,\"#0d0887\"],[0.1111111111111111,\"#46039f\"],[0.2222222222222222,\"#7201a8\"],[0.3333333333333333,\"#9c179e\"],[0.4444444444444444,\"#bd3786\"],[0.5555555555555556,\"#d8576b\"],[0.6666666666666666,\"#ed7953\"],[0.7777777777777778,\"#fb9f3a\"],[0.8888888888888888,\"#fdca26\"],[1.0,\"#f0f921\"]],\"type\":\"histogram2dcontour\"}],\"mesh3d\":[{\"colorbar\":{\"outlinewidth\":0,\"ticks\":\"\"},\"type\":\"mesh3d\"}],\"parcoords\":[{\"line\":{\"colorbar\":{\"outlinewidth\":0,\"ticks\":\"\"}},\"type\":\"parcoords\"}],\"pie\":[{\"automargin\":true,\"type\":\"pie\"}],\"scatter\":[{\"marker\":{\"colorbar\":{\"outlinewidth\":0,\"ticks\":\"\"}},\"type\":\"scatter\"}],\"scatter3d\":[{\"line\":{\"colorbar\":{\"outlinewidth\":0,\"ticks\":\"\"}},\"marker\":{\"colorbar\":{\"outlinewidth\":0,\"ticks\":\"\"}},\"type\":\"scatter3d\"}],\"scattercarpet\":[{\"marker\":{\"colorbar\":{\"outlinewidth\":0,\"ticks\":\"\"}},\"type\":\"scattercarpet\"}],\"scattergeo\":[{\"marker\":{\"colorbar\":{\"outlinewidth\":0,\"ticks\":\"\"}},\"type\":\"scattergeo\"}],\"scattergl\":[{\"marker\":{\"colorbar\":{\"outlinewidth\":0,\"ticks\":\"\"}},\"type\":\"scattergl\"}],\"scattermapbox\":[{\"marker\":{\"colorbar\":{\"outlinewidth\":0,\"ticks\":\"\"}},\"type\":\"scattermapbox\"}],\"scatterpolar\":[{\"marker\":{\"colorbar\":{\"outlinewidth\":0,\"ticks\":\"\"}},\"type\":\"scatterpolar\"}],\"scatterpolargl\":[{\"marker\":{\"colorbar\":{\"outlinewidth\":0,\"ticks\":\"\"}},\"type\":\"scatterpolargl\"}],\"scatterternary\":[{\"marker\":{\"colorbar\":{\"outlinewidth\":0,\"ticks\":\"\"}},\"type\":\"scatterternary\"}],\"surface\":[{\"colorbar\":{\"outlinewidth\":0,\"ticks\":\"\"},\"colorscale\":[[0.0,\"#0d0887\"],[0.1111111111111111,\"#46039f\"],[0.2222222222222222,\"#7201a8\"],[0.3333333333333333,\"#9c179e\"],[0.4444444444444444,\"#bd3786\"],[0.5555555555555556,\"#d8576b\"],[0.6666666666666666,\"#ed7953\"],[0.7777777777777778,\"#fb9f3a\"],[0.8888888888888888,\"#fdca26\"],[1.0,\"#f0f921\"]],\"type\":\"surface\"}],\"table\":[{\"cells\":{\"fill\":{\"color\":\"#EBF0F8\"},\"line\":{\"color\":\"white\"}},\"header\":{\"fill\":{\"color\":\"#C8D4E3\"},\"line\":{\"color\":\"white\"}},\"type\":\"table\"}]},\"layout\":{\"annotationdefaults\":{\"arrowcolor\":\"#2a3f5f\",\"arrowhead\":0,\"arrowwidth\":1},\"autotypenumbers\":\"strict\",\"coloraxis\":{\"colorbar\":{\"outlinewidth\":0,\"ticks\":\"\"}},\"colorscale\":{\"diverging\":[[0,\"#8e0152\"],[0.1,\"#c51b7d\"],[0.2,\"#de77ae\"],[0.3,\"#f1b6da\"],[0.4,\"#fde0ef\"],[0.5,\"#f7f7f7\"],[0.6,\"#e6f5d0\"],[0.7,\"#b8e186\"],[0.8,\"#7fbc41\"],[0.9,\"#4d9221\"],[1,\"#276419\"]],\"sequential\":[[0.0,\"#0d0887\"],[0.1111111111111111,\"#46039f\"],[0.2222222222222222,\"#7201a8\"],[0.3333333333333333,\"#9c179e\"],[0.4444444444444444,\"#bd3786\"],[0.5555555555555556,\"#d8576b\"],[0.6666666666666666,\"#ed7953\"],[0.7777777777777778,\"#fb9f3a\"],[0.8888888888888888,\"#fdca26\"],[1.0,\"#f0f921\"]],\"sequentialminus\":[[0.0,\"#0d0887\"],[0.1111111111111111,\"#46039f\"],[0.2222222222222222,\"#7201a8\"],[0.3333333333333333,\"#9c179e\"],[0.4444444444444444,\"#bd3786\"],[0.5555555555555556,\"#d8576b\"],[0.6666666666666666,\"#ed7953\"],[0.7777777777777778,\"#fb9f3a\"],[0.8888888888888888,\"#fdca26\"],[1.0,\"#f0f921\"]]},\"colorway\":[\"#636efa\",\"#EF553B\",\"#00cc96\",\"#ab63fa\",\"#FFA15A\",\"#19d3f3\",\"#FF6692\",\"#B6E880\",\"#FF97FF\",\"#FECB52\"],\"font\":{\"color\":\"#2a3f5f\"},\"geo\":{\"bgcolor\":\"white\",\"lakecolor\":\"white\",\"landcolor\":\"#E5ECF6\",\"showlakes\":true,\"showland\":true,\"subunitcolor\":\"white\"},\"hoverlabel\":{\"align\":\"left\"},\"hovermode\":\"closest\",\"mapbox\":{\"style\":\"light\"},\"paper_bgcolor\":\"white\",\"plot_bgcolor\":\"#E5ECF6\",\"polar\":{\"angularaxis\":{\"gridcolor\":\"white\",\"linecolor\":\"white\",\"ticks\":\"\"},\"bgcolor\":\"#E5ECF6\",\"radialaxis\":{\"gridcolor\":\"white\",\"linecolor\":\"white\",\"ticks\":\"\"}},\"scene\":{\"xaxis\":{\"backgroundcolor\":\"#E5ECF6\",\"gridcolor\":\"white\",\"gridwidth\":2,\"linecolor\":\"white\",\"showbackground\":true,\"ticks\":\"\",\"zerolinecolor\":\"white\"},\"yaxis\":{\"backgroundcolor\":\"#E5ECF6\",\"gridcolor\":\"white\",\"gridwidth\":2,\"linecolor\":\"white\",\"showbackground\":true,\"ticks\":\"\",\"zerolinecolor\":\"white\"},\"zaxis\":{\"backgroundcolor\":\"#E5ECF6\",\"gridcolor\":\"white\",\"gridwidth\":2,\"linecolor\":\"white\",\"showbackground\":true,\"ticks\":\"\",\"zerolinecolor\":\"white\"}},\"shapedefaults\":{\"line\":{\"color\":\"#2a3f5f\"}},\"ternary\":{\"aaxis\":{\"gridcolor\":\"white\",\"linecolor\":\"white\",\"ticks\":\"\"},\"baxis\":{\"gridcolor\":\"white\",\"linecolor\":\"white\",\"ticks\":\"\"},\"bgcolor\":\"#E5ECF6\",\"caxis\":{\"gridcolor\":\"white\",\"linecolor\":\"white\",\"ticks\":\"\"}},\"title\":{\"x\":0.05},\"xaxis\":{\"automargin\":true,\"gridcolor\":\"white\",\"linecolor\":\"white\",\"ticks\":\"\",\"title\":{\"standoff\":15},\"zerolinecolor\":\"white\",\"zerolinewidth\":2},\"yaxis\":{\"automargin\":true,\"gridcolor\":\"white\",\"linecolor\":\"white\",\"ticks\":\"\",\"title\":{\"standoff\":15},\"zerolinecolor\":\"white\",\"zerolinewidth\":2}}},\"title\":{\"text\":\"Slice Plot\"},\"xaxis\":{\"anchor\":\"y\",\"domain\":[0.0,0.2888888888888889],\"title\":{\"text\":\"max_depth\"}},\"xaxis2\":{\"anchor\":\"y2\",\"domain\":[0.35555555555555557,0.6444444444444445],\"title\":{\"text\":\"max_features\"}},\"xaxis3\":{\"anchor\":\"y3\",\"domain\":[0.7111111111111111,1.0],\"title\":{\"text\":\"n_estimators\"}},\"yaxis\":{\"anchor\":\"x\",\"domain\":[0.0,1.0],\"title\":{\"text\":\"Objective Value\"}},\"yaxis2\":{\"anchor\":\"x2\",\"domain\":[0.0,1.0],\"matches\":\"y\",\"showticklabels\":false},\"yaxis3\":{\"anchor\":\"x3\",\"domain\":[0.0,1.0],\"matches\":\"y\",\"showticklabels\":false}},                        {\"responsive\": true}                    ).then(function(){\n",
       "                            \n",
       "var gd = document.getElementById('f2baf3aa-9f91-4fe7-9edd-a23d7d8f493e');\n",
       "var x = new MutationObserver(function (mutations, observer) {{\n",
       "        var display = window.getComputedStyle(gd).display;\n",
       "        if (!display || display === 'none') {{\n",
       "            console.log([gd, 'removed!']);\n",
       "            Plotly.purge(gd);\n",
       "            observer.disconnect();\n",
       "        }}\n",
       "}});\n",
       "\n",
       "// Listen for the removal of the full notebook cells\n",
       "var notebookContainer = gd.closest('#notebook-container');\n",
       "if (notebookContainer) {{\n",
       "    x.observe(notebookContainer, {childList: true});\n",
       "}}\n",
       "\n",
       "// Listen for the clearing of the current output cell\n",
       "var outputEl = gd.closest('.output');\n",
       "if (outputEl) {{\n",
       "    x.observe(outputEl, {childList: true});\n",
       "}}\n",
       "\n",
       "                        })                };                });            </script>        </div>"
      ]
     },
     "metadata": {},
     "output_type": "display_data"
    }
   ],
   "source": [
    "optuna.visualization.plot_slice(study, params=['n_estimators', 'max_depth', 'max_features'])"
   ]
  },
  {
   "cell_type": "markdown",
   "id": "eadb7486",
   "metadata": {
    "id": "iII1pxdlcMwv",
    "papermill": {
     "duration": 0.056262,
     "end_time": "2021-09-23T19:46:16.801627",
     "exception": false,
     "start_time": "2021-09-23T19:46:16.745365",
     "status": "completed"
    },
    "tags": []
   },
   "source": [
    "By default, the **hyperparameter importance evaluator** in Optuna is `optuna.importance.FanovaImportanceEvaluator`. This takes as input performance data gathered with different hyperparameter settings of the algorithm, fits a random forest to capture the relationship between hyperparameters and performance, and then applies functional ANOVA to assess how important each of the hyperparameters and each low-order interaction of hyperparameters is to performance {cite}`pmlr-v32-hutter14`. From the [docs](https://optuna.readthedocs.io/en/stable/reference/generated/optuna.importance.FanovaImportanceEvaluator.html):\n",
    "\n",
    "> The performance of fANOVA depends on the prediction performance of the underlying random forest model. In order to obtain high prediction performance, it is necessary to cover a wide range of the hyperparameter search space. It is recommended to use an exploration-oriented sampler such as `RandomSampler`."
   ]
  },
  {
   "cell_type": "code",
   "execution_count": 11,
   "id": "f939ec57",
   "metadata": {
    "execution": {
     "iopub.execute_input": "2021-09-23T19:46:16.951002Z",
     "iopub.status.busy": "2021-09-23T19:46:16.937670Z",
     "iopub.status.idle": "2021-09-23T19:46:18.196576Z",
     "shell.execute_reply": "2021-09-23T19:46:18.197014Z",
     "shell.execute_reply.started": "2021-09-23T18:14:44.391083Z"
    },
    "id": "SK8u3L14cMwv",
    "outputId": "86f70ab7-06d0-4ea9-e3d8-c854a2da5f11",
    "papermill": {
     "duration": 1.339691,
     "end_time": "2021-09-23T19:46:18.197161",
     "exception": false,
     "start_time": "2021-09-23T19:46:16.857470",
     "status": "completed"
    },
    "tags": []
   },
   "outputs": [
    {
     "data": {
      "text/html": [
       "<div>                            <div id=\"c2362c57-7804-4d9b-b062-8607a6a45fab\" class=\"plotly-graph-div\" style=\"height:350px; width:600px;\"></div>            <script type=\"text/javascript\">                require([\"plotly\"], function(Plotly) {                    window.PLOTLYENV=window.PLOTLYENV || {};                                    if (document.getElementById(\"c2362c57-7804-4d9b-b062-8607a6a45fab\")) {                    Plotly.newPlot(                        \"c2362c57-7804-4d9b-b062-8607a6a45fab\",                        [{\"cliponaxis\":false,\"hovertemplate\":[\"n_estimators (IntUniformDistribution): 0.11281055949916072<extra></extra>\",\"max_depth (IntLogUniformDistribution): 0.34028095062355473<extra></extra>\",\"max_features (UniformDistribution): 0.5469084898772845<extra></extra>\"],\"marker\":{\"color\":\"rgb(66,146,198)\"},\"orientation\":\"h\",\"text\":[\"0.11281055949916072\",\"0.34028095062355473\",\"0.5469084898772845\"],\"textposition\":\"outside\",\"texttemplate\":\"%{text:.2f}\",\"type\":\"bar\",\"x\":[0.11281055949916072,0.34028095062355473,0.5469084898772845],\"y\":[\"n_estimators\",\"max_depth\",\"max_features\"]}],                        {\"height\":350,\"showlegend\":false,\"template\":{\"data\":{\"bar\":[{\"error_x\":{\"color\":\"#2a3f5f\"},\"error_y\":{\"color\":\"#2a3f5f\"},\"marker\":{\"line\":{\"color\":\"#E5ECF6\",\"width\":0.5},\"pattern\":{\"fillmode\":\"overlay\",\"size\":10,\"solidity\":0.2}},\"type\":\"bar\"}],\"barpolar\":[{\"marker\":{\"line\":{\"color\":\"#E5ECF6\",\"width\":0.5},\"pattern\":{\"fillmode\":\"overlay\",\"size\":10,\"solidity\":0.2}},\"type\":\"barpolar\"}],\"carpet\":[{\"aaxis\":{\"endlinecolor\":\"#2a3f5f\",\"gridcolor\":\"white\",\"linecolor\":\"white\",\"minorgridcolor\":\"white\",\"startlinecolor\":\"#2a3f5f\"},\"baxis\":{\"endlinecolor\":\"#2a3f5f\",\"gridcolor\":\"white\",\"linecolor\":\"white\",\"minorgridcolor\":\"white\",\"startlinecolor\":\"#2a3f5f\"},\"type\":\"carpet\"}],\"choropleth\":[{\"colorbar\":{\"outlinewidth\":0,\"ticks\":\"\"},\"type\":\"choropleth\"}],\"contour\":[{\"colorbar\":{\"outlinewidth\":0,\"ticks\":\"\"},\"colorscale\":[[0.0,\"#0d0887\"],[0.1111111111111111,\"#46039f\"],[0.2222222222222222,\"#7201a8\"],[0.3333333333333333,\"#9c179e\"],[0.4444444444444444,\"#bd3786\"],[0.5555555555555556,\"#d8576b\"],[0.6666666666666666,\"#ed7953\"],[0.7777777777777778,\"#fb9f3a\"],[0.8888888888888888,\"#fdca26\"],[1.0,\"#f0f921\"]],\"type\":\"contour\"}],\"contourcarpet\":[{\"colorbar\":{\"outlinewidth\":0,\"ticks\":\"\"},\"type\":\"contourcarpet\"}],\"heatmap\":[{\"colorbar\":{\"outlinewidth\":0,\"ticks\":\"\"},\"colorscale\":[[0.0,\"#0d0887\"],[0.1111111111111111,\"#46039f\"],[0.2222222222222222,\"#7201a8\"],[0.3333333333333333,\"#9c179e\"],[0.4444444444444444,\"#bd3786\"],[0.5555555555555556,\"#d8576b\"],[0.6666666666666666,\"#ed7953\"],[0.7777777777777778,\"#fb9f3a\"],[0.8888888888888888,\"#fdca26\"],[1.0,\"#f0f921\"]],\"type\":\"heatmap\"}],\"heatmapgl\":[{\"colorbar\":{\"outlinewidth\":0,\"ticks\":\"\"},\"colorscale\":[[0.0,\"#0d0887\"],[0.1111111111111111,\"#46039f\"],[0.2222222222222222,\"#7201a8\"],[0.3333333333333333,\"#9c179e\"],[0.4444444444444444,\"#bd3786\"],[0.5555555555555556,\"#d8576b\"],[0.6666666666666666,\"#ed7953\"],[0.7777777777777778,\"#fb9f3a\"],[0.8888888888888888,\"#fdca26\"],[1.0,\"#f0f921\"]],\"type\":\"heatmapgl\"}],\"histogram\":[{\"marker\":{\"pattern\":{\"fillmode\":\"overlay\",\"size\":10,\"solidity\":0.2}},\"type\":\"histogram\"}],\"histogram2d\":[{\"colorbar\":{\"outlinewidth\":0,\"ticks\":\"\"},\"colorscale\":[[0.0,\"#0d0887\"],[0.1111111111111111,\"#46039f\"],[0.2222222222222222,\"#7201a8\"],[0.3333333333333333,\"#9c179e\"],[0.4444444444444444,\"#bd3786\"],[0.5555555555555556,\"#d8576b\"],[0.6666666666666666,\"#ed7953\"],[0.7777777777777778,\"#fb9f3a\"],[0.8888888888888888,\"#fdca26\"],[1.0,\"#f0f921\"]],\"type\":\"histogram2d\"}],\"histogram2dcontour\":[{\"colorbar\":{\"outlinewidth\":0,\"ticks\":\"\"},\"colorscale\":[[0.0,\"#0d0887\"],[0.1111111111111111,\"#46039f\"],[0.2222222222222222,\"#7201a8\"],[0.3333333333333333,\"#9c179e\"],[0.4444444444444444,\"#bd3786\"],[0.5555555555555556,\"#d8576b\"],[0.6666666666666666,\"#ed7953\"],[0.7777777777777778,\"#fb9f3a\"],[0.8888888888888888,\"#fdca26\"],[1.0,\"#f0f921\"]],\"type\":\"histogram2dcontour\"}],\"mesh3d\":[{\"colorbar\":{\"outlinewidth\":0,\"ticks\":\"\"},\"type\":\"mesh3d\"}],\"parcoords\":[{\"line\":{\"colorbar\":{\"outlinewidth\":0,\"ticks\":\"\"}},\"type\":\"parcoords\"}],\"pie\":[{\"automargin\":true,\"type\":\"pie\"}],\"scatter\":[{\"marker\":{\"colorbar\":{\"outlinewidth\":0,\"ticks\":\"\"}},\"type\":\"scatter\"}],\"scatter3d\":[{\"line\":{\"colorbar\":{\"outlinewidth\":0,\"ticks\":\"\"}},\"marker\":{\"colorbar\":{\"outlinewidth\":0,\"ticks\":\"\"}},\"type\":\"scatter3d\"}],\"scattercarpet\":[{\"marker\":{\"colorbar\":{\"outlinewidth\":0,\"ticks\":\"\"}},\"type\":\"scattercarpet\"}],\"scattergeo\":[{\"marker\":{\"colorbar\":{\"outlinewidth\":0,\"ticks\":\"\"}},\"type\":\"scattergeo\"}],\"scattergl\":[{\"marker\":{\"colorbar\":{\"outlinewidth\":0,\"ticks\":\"\"}},\"type\":\"scattergl\"}],\"scattermapbox\":[{\"marker\":{\"colorbar\":{\"outlinewidth\":0,\"ticks\":\"\"}},\"type\":\"scattermapbox\"}],\"scatterpolar\":[{\"marker\":{\"colorbar\":{\"outlinewidth\":0,\"ticks\":\"\"}},\"type\":\"scatterpolar\"}],\"scatterpolargl\":[{\"marker\":{\"colorbar\":{\"outlinewidth\":0,\"ticks\":\"\"}},\"type\":\"scatterpolargl\"}],\"scatterternary\":[{\"marker\":{\"colorbar\":{\"outlinewidth\":0,\"ticks\":\"\"}},\"type\":\"scatterternary\"}],\"surface\":[{\"colorbar\":{\"outlinewidth\":0,\"ticks\":\"\"},\"colorscale\":[[0.0,\"#0d0887\"],[0.1111111111111111,\"#46039f\"],[0.2222222222222222,\"#7201a8\"],[0.3333333333333333,\"#9c179e\"],[0.4444444444444444,\"#bd3786\"],[0.5555555555555556,\"#d8576b\"],[0.6666666666666666,\"#ed7953\"],[0.7777777777777778,\"#fb9f3a\"],[0.8888888888888888,\"#fdca26\"],[1.0,\"#f0f921\"]],\"type\":\"surface\"}],\"table\":[{\"cells\":{\"fill\":{\"color\":\"#EBF0F8\"},\"line\":{\"color\":\"white\"}},\"header\":{\"fill\":{\"color\":\"#C8D4E3\"},\"line\":{\"color\":\"white\"}},\"type\":\"table\"}]},\"layout\":{\"annotationdefaults\":{\"arrowcolor\":\"#2a3f5f\",\"arrowhead\":0,\"arrowwidth\":1},\"autotypenumbers\":\"strict\",\"coloraxis\":{\"colorbar\":{\"outlinewidth\":0,\"ticks\":\"\"}},\"colorscale\":{\"diverging\":[[0,\"#8e0152\"],[0.1,\"#c51b7d\"],[0.2,\"#de77ae\"],[0.3,\"#f1b6da\"],[0.4,\"#fde0ef\"],[0.5,\"#f7f7f7\"],[0.6,\"#e6f5d0\"],[0.7,\"#b8e186\"],[0.8,\"#7fbc41\"],[0.9,\"#4d9221\"],[1,\"#276419\"]],\"sequential\":[[0.0,\"#0d0887\"],[0.1111111111111111,\"#46039f\"],[0.2222222222222222,\"#7201a8\"],[0.3333333333333333,\"#9c179e\"],[0.4444444444444444,\"#bd3786\"],[0.5555555555555556,\"#d8576b\"],[0.6666666666666666,\"#ed7953\"],[0.7777777777777778,\"#fb9f3a\"],[0.8888888888888888,\"#fdca26\"],[1.0,\"#f0f921\"]],\"sequentialminus\":[[0.0,\"#0d0887\"],[0.1111111111111111,\"#46039f\"],[0.2222222222222222,\"#7201a8\"],[0.3333333333333333,\"#9c179e\"],[0.4444444444444444,\"#bd3786\"],[0.5555555555555556,\"#d8576b\"],[0.6666666666666666,\"#ed7953\"],[0.7777777777777778,\"#fb9f3a\"],[0.8888888888888888,\"#fdca26\"],[1.0,\"#f0f921\"]]},\"colorway\":[\"#636efa\",\"#EF553B\",\"#00cc96\",\"#ab63fa\",\"#FFA15A\",\"#19d3f3\",\"#FF6692\",\"#B6E880\",\"#FF97FF\",\"#FECB52\"],\"font\":{\"color\":\"#2a3f5f\"},\"geo\":{\"bgcolor\":\"white\",\"lakecolor\":\"white\",\"landcolor\":\"#E5ECF6\",\"showlakes\":true,\"showland\":true,\"subunitcolor\":\"white\"},\"hoverlabel\":{\"align\":\"left\"},\"hovermode\":\"closest\",\"mapbox\":{\"style\":\"light\"},\"paper_bgcolor\":\"white\",\"plot_bgcolor\":\"#E5ECF6\",\"polar\":{\"angularaxis\":{\"gridcolor\":\"white\",\"linecolor\":\"white\",\"ticks\":\"\"},\"bgcolor\":\"#E5ECF6\",\"radialaxis\":{\"gridcolor\":\"white\",\"linecolor\":\"white\",\"ticks\":\"\"}},\"scene\":{\"xaxis\":{\"backgroundcolor\":\"#E5ECF6\",\"gridcolor\":\"white\",\"gridwidth\":2,\"linecolor\":\"white\",\"showbackground\":true,\"ticks\":\"\",\"zerolinecolor\":\"white\"},\"yaxis\":{\"backgroundcolor\":\"#E5ECF6\",\"gridcolor\":\"white\",\"gridwidth\":2,\"linecolor\":\"white\",\"showbackground\":true,\"ticks\":\"\",\"zerolinecolor\":\"white\"},\"zaxis\":{\"backgroundcolor\":\"#E5ECF6\",\"gridcolor\":\"white\",\"gridwidth\":2,\"linecolor\":\"white\",\"showbackground\":true,\"ticks\":\"\",\"zerolinecolor\":\"white\"}},\"shapedefaults\":{\"line\":{\"color\":\"#2a3f5f\"}},\"ternary\":{\"aaxis\":{\"gridcolor\":\"white\",\"linecolor\":\"white\",\"ticks\":\"\"},\"baxis\":{\"gridcolor\":\"white\",\"linecolor\":\"white\",\"ticks\":\"\"},\"bgcolor\":\"#E5ECF6\",\"caxis\":{\"gridcolor\":\"white\",\"linecolor\":\"white\",\"ticks\":\"\"}},\"title\":{\"x\":0.05},\"xaxis\":{\"automargin\":true,\"gridcolor\":\"white\",\"linecolor\":\"white\",\"ticks\":\"\",\"title\":{\"standoff\":15},\"zerolinecolor\":\"white\",\"zerolinewidth\":2},\"yaxis\":{\"automargin\":true,\"gridcolor\":\"white\",\"linecolor\":\"white\",\"ticks\":\"\",\"title\":{\"standoff\":15},\"zerolinecolor\":\"white\",\"zerolinewidth\":2}}},\"title\":{\"text\":\"Hyperparameter Importances\"},\"width\":600,\"xaxis\":{\"title\":{\"text\":\"Importance for Objective Value\"}},\"yaxis\":{\"title\":{\"text\":\"Hyperparameter\"}}},                        {\"responsive\": true}                    ).then(function(){\n",
       "                            \n",
       "var gd = document.getElementById('c2362c57-7804-4d9b-b062-8607a6a45fab');\n",
       "var x = new MutationObserver(function (mutations, observer) {{\n",
       "        var display = window.getComputedStyle(gd).display;\n",
       "        if (!display || display === 'none') {{\n",
       "            console.log([gd, 'removed!']);\n",
       "            Plotly.purge(gd);\n",
       "            observer.disconnect();\n",
       "        }}\n",
       "}});\n",
       "\n",
       "// Listen for the removal of the full notebook cells\n",
       "var notebookContainer = gd.closest('#notebook-container');\n",
       "if (notebookContainer) {{\n",
       "    x.observe(notebookContainer, {childList: true});\n",
       "}}\n",
       "\n",
       "// Listen for the clearing of the current output cell\n",
       "var outputEl = gd.closest('.output');\n",
       "if (outputEl) {{\n",
       "    x.observe(outputEl, {childList: true});\n",
       "}}\n",
       "\n",
       "                        })                };                });            </script>        </div>"
      ]
     },
     "metadata": {},
     "output_type": "display_data"
    }
   ],
   "source": [
    "fig = optuna.visualization.plot_param_importances(study)\n",
    "fig.update_layout(width=600, height=350)\n",
    "fig.show()"
   ]
  },
  {
   "cell_type": "markdown",
   "id": "ba26982e",
   "metadata": {
    "id": "q1pnFEAUcMwx",
    "papermill": {
     "duration": 0.056152,
     "end_time": "2021-09-23T19:46:18.309910",
     "exception": false,
     "start_time": "2021-09-23T19:46:18.253758",
     "status": "completed"
    },
    "tags": []
   },
   "source": [
    "To visualize interactions of any pair of hyperparameters, we use **contour plots.** The contour plots indicate regions of high and low objective value."
   ]
  },
  {
   "cell_type": "code",
   "execution_count": 12,
   "id": "0b38cf18",
   "metadata": {
    "execution": {
     "iopub.execute_input": "2021-09-23T19:46:18.445769Z",
     "iopub.status.busy": "2021-09-23T19:46:18.445071Z",
     "iopub.status.idle": "2021-09-23T19:46:18.521573Z",
     "shell.execute_reply": "2021-09-23T19:46:18.521163Z",
     "shell.execute_reply.started": "2021-09-23T18:14:45.576261Z"
    },
    "id": "DIfwjUHQcMwx",
    "outputId": "5866bd46-744e-4a61-8767-519c439391cd",
    "papermill": {
     "duration": 0.153598,
     "end_time": "2021-09-23T19:46:18.521687",
     "exception": false,
     "start_time": "2021-09-23T19:46:18.368089",
     "status": "completed"
    },
    "tags": []
   },
   "outputs": [
    {
     "data": {
      "text/html": [
       "<div>                            <div id=\"3b420ff0-18f0-46a9-8937-f8c405a41d52\" class=\"plotly-graph-div\" style=\"height:500px; width:550px;\"></div>            <script type=\"text/javascript\">                require([\"plotly\"], function(Plotly) {                    window.PLOTLYENV=window.PLOTLYENV || {};                                    if (document.getElementById(\"3b420ff0-18f0-46a9-8937-f8c405a41d52\")) {                    Plotly.newPlot(                        \"3b420ff0-18f0-46a9-8937-f8c405a41d52\",                        [{\"colorbar\":{\"title\":{\"text\":\"Objective Value\"}},\"colorscale\":[[0,\"rgb(5,10,172)\"],[0.35,\"rgb(40,60,190)\"],[0.5,\"rgb(70,100,245)\"],[0.6,\"rgb(90,120,245)\"],[0.7,\"rgb(106,137,247)\"],[1,\"rgb(220,220,220)\"]],\"connectgaps\":true,\"contours\":{\"coloring\":\"heatmap\"},\"hoverinfo\":\"none\",\"line\":{\"smoothing\":1.3},\"reversescale\":false,\"type\":\"contour\",\"x\":[-4.300000000000001,2,4,6,7,8,9,10,12,13,16,17,20,22,23,24,29,31,33,39,40,42,44,49,50,51,57,60,61,64,67,68,69,70,74,75,78,81,85,89,91,96,102,104,123,124,128,134.3],\"y\":[0.05852071167134618,0.10043288196668942,0.12312313422300313,0.1382891052557327,0.16730948855595468,0.18284397464796615,0.221324961654669,0.22916753252134967,0.22967820856887167,0.23029570364180824,0.24908184430961738,0.24948977435772335,0.2510044536315035,0.2791598864507336,0.29081027898174067,0.2913133318452013,0.3014171000882793,0.32065510592819363,0.3308886522751725,0.33217900099212516,0.34969184923043384,0.35645026147802333,0.3738527792498183,0.38157197750630845,0.3939127340040541,0.39890393058886386,0.40008884561245067,0.41795126302095137,0.43469196796719667,0.4456702799807972,0.44624326342761034,0.4542495001999367,0.4746419455948402,0.4751331640345626,0.48405473323437553,0.4967550529799747,0.4983899683300539,0.5196033961311374,0.5296347013003299,0.5308244743073206,0.531370379049585,0.5318844784991548,0.5324395159282621,0.5378590225853946,0.5452498680744837,0.5603321825841134,0.5764842284254318,0.5885184778902578,0.6114386524798769,0.6156604901494676,0.6352662776903143,0.6386576076501402,0.6685537060496468,0.6710123271330696,0.6786633768574437,0.7015992753508437,0.7247642307235184,0.7264782124611282,0.77405551189229,0.8429748320560098,0.9386762878735542,0.9805884581688974],\"z\":[[null,null,null,null,null,null,null,null,null,null,null,null,null,null,null,null,null,null,null,null,null,null,null,null,null,null,null,null,null,null,null,null,null,null,null,null,null,null,null,null,null,null,null,null,null,null,null,null],[null,null,null,null,null,null,null,null,null,null,null,null,null,null,null,null,0.95960254618848,null,null,null,null,null,null,null,null,null,null,null,null,null,null,null,null,null,null,null,null,null,null,null,null,null,null,null,null,null,null,null],[null,null,null,0.9543393882937432,null,null,null,null,null,null,null,null,null,null,null,null,null,null,null,null,null,null,null,null,null,null,null,null,null,null,null,null,null,null,null,null,null,null,null,null,null,null,null,null,null,null,null,null],[null,null,null,null,0.9631113181183046,null,null,null,null,null,null,null,null,null,null,null,null,null,null,null,null,null,null,null,null,null,null,null,null,null,null,null,null,null,null,null,null,null,null,null,null,null,null,null,null,null,null,null],[null,null,null,null,null,null,null,null,null,null,null,null,null,null,null,null,null,null,null,0.9560937742586555,null,null,null,null,null,null,null,null,null,null,null,null,null,null,null,null,null,null,null,null,null,null,null,null,null,null,null,null],[null,null,null,null,null,null,null,null,null,null,null,null,null,0.9613569321533924,null,null,null,null,null,null,null,null,null,null,null,null,null,null,null,null,null,null,null,null,null,null,null,null,null,null,null,null,null,null,null,null,null,null],[null,null,null,null,null,null,null,null,null,null,0.9613724576929048,null,null,null,null,null,null,null,null,null,null,null,null,null,null,null,null,null,null,null,null,null,null,null,null,null,null,null,null,null,null,null,null,null,null,null,null,null],[null,null,null,null,null,null,null,null,null,null,null,null,null,null,null,null,null,null,null,null,null,null,0.95960254618848,null,null,null,null,null,null,null,null,null,null,null,null,null,null,null,null,null,null,null,null,null,null,null,null,null],[null,null,null,null,null,null,null,null,0.9613724576929048,null,null,null,null,null,null,null,null,null,null,null,null,null,null,null,null,null,null,null,null,null,null,null,null,null,null,null,null,null,null,null,null,null,null,null,null,null,null,null],[null,null,null,null,null,null,null,null,null,null,null,null,0.95960254618848,null,null,null,null,null,null,null,null,null,null,null,null,null,null,null,null,null,null,null,null,null,null,null,null,null,null,null,null,null,null,null,null,null,null,null],[null,null,null,null,null,null,null,null,null,null,null,0.9631268436578171,null,null,null,null,null,null,null,null,null,null,null,null,null,null,null,null,null,null,null,null,null,null,null,null,null,null,null,null,null,null,null,null,null,null,null,null],[null,null,null,null,null,null,null,null,0.9648812296227293,null,null,null,null,null,null,null,null,null,null,null,null,null,null,null,null,null,null,null,null,null,null,null,null,null,null,null,null,null,null,null,null,null,null,null,null,null,null,null],[null,null,null,null,null,null,null,null,null,null,null,null,null,null,null,null,null,null,null,null,0.9648812296227295,null,null,null,null,null,null,null,null,null,null,null,null,null,null,null,null,null,null,null,null,null,null,null,null,null,null,null],[null,null,null,null,null,null,null,null,null,0.9631268436578171,null,null,null,null,null,null,null,null,null,null,null,null,null,null,null,null,null,null,null,null,null,null,null,null,null,null,null,null,null,null,null,null,null,null,null,null,null,null],[null,null,null,null,null,null,null,null,null,null,null,0.9613569321533924,null,null,null,null,null,null,null,null,null,null,null,null,null,null,null,null,null,null,null,null,null,null,null,null,null,null,null,null,null,null,null,null,null,null,null,null],[null,null,0.9578326346840551,null,null,null,null,null,null,null,null,null,null,null,null,null,null,null,null,null,null,null,null,null,null,null,null,null,null,null,null,null,null,null,null,null,null,null,null,null,null,null,null,null,null,null,null,null],[null,null,null,null,null,null,null,null,0.9613569321533924,null,null,null,null,null,null,null,null,null,null,null,null,null,null,null,null,null,null,null,null,null,null,null,null,null,null,null,null,null,null,null,null,null,null,null,null,null,null,null],[null,null,null,0.9613724576929048,null,null,null,null,null,null,null,null,null,null,null,null,null,null,null,null,null,null,null,null,null,null,null,null,null,null,null,null,null,null,null,null,null,null,null,null,null,null,null,null,null,null,null,null],[null,null,null,null,null,null,null,null,null,null,null,null,null,null,null,null,null,null,null,null,null,null,null,null,null,null,null,null,null,0.9631268436578171,null,null,null,null,null,null,null,null,null,null,null,null,null,null,null,null,null,null],[null,null,null,null,null,null,null,null,null,null,null,null,null,null,null,null,null,null,null,null,null,null,null,null,0.9613724576929048,null,null,null,null,null,null,null,null,null,null,null,null,null,null,null,null,null,null,null,null,null,null,null],[null,null,null,null,null,null,null,null,null,null,null,null,null,null,null,null,null,null,null,null,null,null,null,null,null,null,null,null,0.9613569321533924,null,null,null,null,null,null,null,null,null,null,null,null,null,null,null,null,null,null,null],[null,null,null,null,null,null,null,null,null,null,null,null,null,null,null,null,null,null,null,null,null,null,null,null,null,null,null,null,null,null,null,null,null,null,null,null,null,null,null,0.95960254618848,null,null,null,null,null,null,null,null],[null,null,null,null,null,null,null,null,null,null,null,null,null,null,null,null,null,null,null,null,null,null,null,null,null,null,null,null,null,null,null,null,null,null,null,null,null,null,null,null,null,null,null,0.9613879832324173,null,null,null,null],[null,0.9525694767893184,null,null,null,null,null,null,null,null,null,null,null,null,null,null,null,null,null,null,null,null,null,null,null,null,null,null,null,null,null,null,null,null,null,null,null,null,null,null,null,null,null,null,null,null,null,null],[null,null,null,null,null,null,null,null,null,null,null,null,null,null,null,null,null,null,null,null,null,null,null,null,null,null,null,null,null,null,null,null,null,null,null,null,null,null,null,null,null,null,null,null,0.9631423691973297,null,null,null],[null,null,null,null,null,null,null,null,null,null,null,null,null,null,null,null,null,null,null,null,null,null,null,null,null,null,null,null,null,null,null,null,null,null,null,null,null,null,null,null,null,null,null,null,null,null,0.9648967551622418,null],[null,null,null,null,null,null,null,null,null,null,null,null,null,null,null,null,null,0.9613724576929048,null,null,null,null,null,null,null,null,null,null,null,null,null,null,null,null,null,null,null,null,null,null,null,null,null,null,null,null,null,null],[null,null,null,null,null,null,null,null,null,null,null,null,null,null,null,null,null,null,null,null,null,0.9631268436578171,null,null,null,null,null,null,null,null,null,null,null,null,null,null,null,null,null,null,null,null,null,null,null,null,null,null],[null,null,null,null,null,null,0.9613569321533924,null,null,null,null,null,null,null,null,null,null,null,null,null,null,null,null,null,null,null,null,null,null,null,null,null,null,null,null,null,null,null,null,null,null,null,null,null,null,null,null,null],[null,null,null,null,null,0.9631268436578171,null,null,null,null,null,null,null,null,null,null,null,null,null,null,null,null,null,null,null,null,null,null,null,null,null,null,null,null,null,null,null,null,null,null,null,null,null,null,null,null,null,null],[null,null,null,null,null,null,null,null,null,null,null,null,null,null,null,0.95960254618848,null,null,null,null,null,null,null,null,null,null,null,null,null,null,null,null,null,null,null,null,null,null,null,null,null,null,null,null,null,null,null,null],[null,null,null,null,null,null,null,null,null,null,null,null,null,null,null,null,null,null,null,null,null,null,null,null,null,null,null,null,null,null,null,null,null,null,null,null,null,null,null,null,null,null,0.9631268436578171,null,null,null,null,null],[null,null,null,null,null,null,null,0.9596180717279925,null,null,null,null,null,null,null,null,null,null,null,null,null,null,null,null,null,null,null,null,null,null,null,null,null,null,null,null,null,null,null,null,null,null,null,null,null,null,null,null],[null,null,null,null,null,null,null,null,null,null,null,null,null,null,null,null,null,null,null,null,null,null,null,null,null,null,null,null,null,null,null,null,0.9613724576929048,null,null,null,null,null,null,null,null,null,null,null,null,null,null,null],[null,0.947290793355069,null,null,null,null,null,null,null,null,null,null,null,null,null,null,null,null,null,null,null,null,null,null,null,null,null,null,null,null,null,null,null,null,null,null,null,null,null,null,null,null,null,null,null,null,null,null],[null,null,null,null,null,null,null,null,null,null,null,null,null,null,null,null,null,null,null,null,null,null,null,null,null,null,null,null,null,null,null,null,null,null,null,0.9613724576929048,null,null,null,null,null,null,null,null,null,null,null,null],[null,null,null,null,null,null,null,null,null,null,null,null,null,null,null,null,null,null,null,null,null,null,null,null,null,null,null,null,null,null,null,null,null,null,0.9613724576929048,null,null,null,null,null,null,null,null,null,null,null,null,null],[null,null,null,null,null,null,null,null,null,null,null,null,null,null,null,null,null,null,null,null,null,null,null,null,null,null,null,null,null,null,null,0.9648812296227295,null,null,null,null,null,null,null,null,null,null,null,null,null,null,null,null],[null,null,null,null,null,null,null,null,null,null,null,null,null,null,null,null,null,null,null,null,null,null,null,null,null,null,null,null,null,null,0.9666356155876417,null,null,null,null,null,null,null,null,null,null,null,null,null,null,null,null,null],[null,null,null,null,null,null,null,null,null,null,null,null,null,null,null,null,null,null,null,null,null,null,null,null,null,null,null,null,null,null,null,null,null,null,null,null,0.9701754385964912,null,null,null,null,null,null,null,null,null,null,null],[null,null,null,null,null,null,null,null,null,null,null,null,null,null,null,null,null,null,null,null,null,null,null,null,null,null,null,null,null,null,null,null,null,null,null,null,null,0.9648812296227295,null,null,null,null,null,null,null,null,null,null],[null,null,null,null,null,null,null,null,null,null,null,null,null,null,null,null,null,null,null,null,null,null,null,null,null,null,null,null,null,null,null,null,null,0.9666356155876417,null,null,null,null,null,null,null,null,null,null,null,null,null,null],[null,null,null,null,null,null,null,null,null,null,null,null,null,null,null,null,null,null,null,null,null,null,null,0.9666666666666666,null,null,null,null,null,null,null,null,null,null,null,null,null,null,null,null,null,null,null,null,null,null,null,null],[null,null,null,null,null,null,null,null,null,null,null,null,null,null,null,null,null,null,null,null,null,null,null,null,null,null,null,null,null,null,null,null,null,null,null,null,null,null,0.959633597267505,null,null,null,null,null,null,null,null,null],[null,null,null,null,null,null,null,null,null,null,null,null,null,null,null,null,null,null,null,null,null,null,null,null,null,null,null,0.959633597267505,null,null,null,null,null,null,null,null,null,null,null,null,null,null,null,null,null,null,null,null],[null,null,0.9595870206489675,null,null,null,null,null,null,null,null,null,null,null,null,null,null,null,null,null,null,null,null,null,null,null,null,null,null,null,null,null,null,null,null,null,null,null,null,null,null,null,null,null,null,null,null,null],[null,null,null,null,null,null,null,null,null,null,null,null,null,null,null,null,null,null,null,0.9631268436578171,null,null,null,null,null,null,null,null,null,null,null,null,null,null,null,null,null,null,null,null,null,null,null,null,null,null,null,null],[null,null,null,null,null,null,null,null,null,null,null,null,null,null,null,null,null,null,null,null,null,null,null,null,null,0.9613724576929048,null,null,null,null,null,null,null,null,null,null,null,null,null,null,null,null,null,null,null,null,null,null],[null,null,null,null,null,null,null,null,null,null,null,null,null,null,null,null,null,null,null,null,null,null,null,null,null,null,null,null,null,null,null,null,null,null,null,null,null,0.9631423691973294,null,null,null,null,null,null,null,null,null,null],[null,null,null,null,null,null,null,null,null,null,null,null,null,null,null,null,null,null,null,null,null,null,null,null,0.9578792113025927,null,null,null,null,null,null,null,null,null,null,null,null,null,null,null,null,null,null,null,null,null,null,null],[null,null,null,null,null,null,null,null,null,null,null,null,null,null,null,null,null,null,null,null,null,null,null,null,null,null,null,null,null,null,null,null,null,null,null,null,null,null,null,null,null,null,null,null,null,null,0.9613879832324173,null],[null,null,null,null,null,null,null,null,null,null,null,null,null,null,null,null,null,null,null,null,null,null,null,null,null,null,null,null,null,null,null,null,null,null,null,null,null,null,null,null,null,null,null,null,null,0.9631578947368421,null,null],[null,null,null,null,null,null,null,null,null,null,null,null,null,null,0.9596180717279925,null,null,null,null,null,null,null,null,null,null,null,null,null,null,null,null,null,null,null,null,null,null,null,null,null,null,null,null,null,null,null,null,null],[null,null,null,null,null,null,null,null,null,null,null,null,null,null,null,null,null,null,null,null,null,null,null,null,null,null,null,null,null,null,null,null,null,null,null,null,null,null,null,null,null,null,null,0.9613879832324173,null,null,null,null],[null,null,null,null,null,null,null,null,null,null,null,null,null,null,null,null,null,null,null,null,null,null,null,null,null,null,null,null,null,null,null,null,null,null,0.9596180717279925,null,null,null,null,null,null,null,null,null,null,null,null,null],[null,null,null,null,null,null,null,null,null,null,null,null,null,null,null,null,null,null,0.9596180717279925,null,null,null,null,null,null,null,null,null,null,null,null,null,null,null,null,null,null,null,null,null,null,null,null,null,null,null,null,null],[null,null,null,null,null,null,null,null,null,null,null,null,null,null,null,null,null,null,null,null,null,null,null,null,null,null,null,null,null,0.959633597267505,null,null,null,null,null,null,null,null,null,null,null,null,null,null,null,null,null,null],[null,null,null,null,null,null,null,null,null,null,null,null,null,null,null,null,null,null,null,null,null,null,null,null,null,null,null,null,null,null,null,null,null,null,null,null,null,null,null,null,null,0.959633597267505,null,null,null,null,null,null],[null,null,null,null,null,null,null,null,null,null,null,null,null,null,null,null,null,null,null,null,null,null,null,null,null,null,0.9596491228070174,null,null,null,null,null,null,null,null,null,null,null,null,null,null,null,null,null,null,null,null,null],[null,null,0.9561092997981678,null,null,null,null,null,null,null,null,null,null,null,null,null,null,null,null,null,null,null,null,null,null,null,null,null,null,null,null,null,null,null,null,null,null,null,null,null,null,null,null,null,null,null,null,null],[null,null,null,null,null,null,null,null,null,null,null,null,null,null,null,null,null,null,null,null,null,null,null,null,null,null,null,null,null,null,null,null,null,null,null,null,null,null,null,null,0.9578792113025927,null,null,null,null,null,null,null],[null,null,null,null,null,null,null,null,null,null,null,null,null,null,null,null,null,null,null,null,null,null,null,null,null,null,null,null,null,null,null,null,null,null,null,null,null,null,null,null,null,null,null,null,null,null,null,null]]},{\"marker\":{\"color\":\"black\",\"line\":{\"color\":\"Grey\",\"width\":0.5}},\"mode\":\"markers\",\"showlegend\":false,\"type\":\"scatter\",\"x\":[23,64,6,74,50,17,29,33,91,2,7,6,8,10,2,4,12,44,17,16,104,12,4,22,61,9,4,40,39,24,20,13,12,128,123,78,81,60,81,124,67,68,70,96,51,75,64,104,31,50,39,85,128,57,74,102,42,69,89,49],\"y\":[0.6685537060496468,0.3308886522751725,0.32065510592819363,0.6786633768574437,0.6156604901494676,0.29081027898174067,0.10043288196668942,0.7015992753508437,0.9386762878735542,0.38157197750630845,0.1382891052557327,0.12312313422300313,0.4456702799807972,0.4746419455948402,0.48405473323437553,0.8429748320560098,0.24948977435772335,0.22916753252134967,0.24908184430961738,0.221324961654669,0.3738527792498183,0.22967820856887167,0.2913133318452013,0.18284397464796615,0.34969184923043384,0.43469196796719667,0.5603321825841134,0.2510044536315035,0.16730948855595468,0.44624326342761034,0.23029570364180824,0.2791598864507336,0.3014171000882793,0.39890393058886386,0.3939127340040541,0.5308244743073206,0.531370379049585,0.5452498680744837,0.6114386524798769,0.6386576076501402,0.5296347013003299,0.5196033961311374,0.5318844784991548,0.7264782124611282,0.5885184778902578,0.4967550529799747,0.7247642307235184,0.6710123271330696,0.40008884561245067,0.33217900099212516,0.5764842284254318,0.5378590225853946,0.6352662776903143,0.77405551189229,0.4983899683300539,0.4542495001999367,0.41795126302095137,0.4751331640345626,0.35645026147802333,0.5324395159282621]}],                        {\"height\":500,\"template\":{\"data\":{\"bar\":[{\"error_x\":{\"color\":\"#2a3f5f\"},\"error_y\":{\"color\":\"#2a3f5f\"},\"marker\":{\"line\":{\"color\":\"#E5ECF6\",\"width\":0.5},\"pattern\":{\"fillmode\":\"overlay\",\"size\":10,\"solidity\":0.2}},\"type\":\"bar\"}],\"barpolar\":[{\"marker\":{\"line\":{\"color\":\"#E5ECF6\",\"width\":0.5},\"pattern\":{\"fillmode\":\"overlay\",\"size\":10,\"solidity\":0.2}},\"type\":\"barpolar\"}],\"carpet\":[{\"aaxis\":{\"endlinecolor\":\"#2a3f5f\",\"gridcolor\":\"white\",\"linecolor\":\"white\",\"minorgridcolor\":\"white\",\"startlinecolor\":\"#2a3f5f\"},\"baxis\":{\"endlinecolor\":\"#2a3f5f\",\"gridcolor\":\"white\",\"linecolor\":\"white\",\"minorgridcolor\":\"white\",\"startlinecolor\":\"#2a3f5f\"},\"type\":\"carpet\"}],\"choropleth\":[{\"colorbar\":{\"outlinewidth\":0,\"ticks\":\"\"},\"type\":\"choropleth\"}],\"contour\":[{\"colorbar\":{\"outlinewidth\":0,\"ticks\":\"\"},\"colorscale\":[[0.0,\"#0d0887\"],[0.1111111111111111,\"#46039f\"],[0.2222222222222222,\"#7201a8\"],[0.3333333333333333,\"#9c179e\"],[0.4444444444444444,\"#bd3786\"],[0.5555555555555556,\"#d8576b\"],[0.6666666666666666,\"#ed7953\"],[0.7777777777777778,\"#fb9f3a\"],[0.8888888888888888,\"#fdca26\"],[1.0,\"#f0f921\"]],\"type\":\"contour\"}],\"contourcarpet\":[{\"colorbar\":{\"outlinewidth\":0,\"ticks\":\"\"},\"type\":\"contourcarpet\"}],\"heatmap\":[{\"colorbar\":{\"outlinewidth\":0,\"ticks\":\"\"},\"colorscale\":[[0.0,\"#0d0887\"],[0.1111111111111111,\"#46039f\"],[0.2222222222222222,\"#7201a8\"],[0.3333333333333333,\"#9c179e\"],[0.4444444444444444,\"#bd3786\"],[0.5555555555555556,\"#d8576b\"],[0.6666666666666666,\"#ed7953\"],[0.7777777777777778,\"#fb9f3a\"],[0.8888888888888888,\"#fdca26\"],[1.0,\"#f0f921\"]],\"type\":\"heatmap\"}],\"heatmapgl\":[{\"colorbar\":{\"outlinewidth\":0,\"ticks\":\"\"},\"colorscale\":[[0.0,\"#0d0887\"],[0.1111111111111111,\"#46039f\"],[0.2222222222222222,\"#7201a8\"],[0.3333333333333333,\"#9c179e\"],[0.4444444444444444,\"#bd3786\"],[0.5555555555555556,\"#d8576b\"],[0.6666666666666666,\"#ed7953\"],[0.7777777777777778,\"#fb9f3a\"],[0.8888888888888888,\"#fdca26\"],[1.0,\"#f0f921\"]],\"type\":\"heatmapgl\"}],\"histogram\":[{\"marker\":{\"pattern\":{\"fillmode\":\"overlay\",\"size\":10,\"solidity\":0.2}},\"type\":\"histogram\"}],\"histogram2d\":[{\"colorbar\":{\"outlinewidth\":0,\"ticks\":\"\"},\"colorscale\":[[0.0,\"#0d0887\"],[0.1111111111111111,\"#46039f\"],[0.2222222222222222,\"#7201a8\"],[0.3333333333333333,\"#9c179e\"],[0.4444444444444444,\"#bd3786\"],[0.5555555555555556,\"#d8576b\"],[0.6666666666666666,\"#ed7953\"],[0.7777777777777778,\"#fb9f3a\"],[0.8888888888888888,\"#fdca26\"],[1.0,\"#f0f921\"]],\"type\":\"histogram2d\"}],\"histogram2dcontour\":[{\"colorbar\":{\"outlinewidth\":0,\"ticks\":\"\"},\"colorscale\":[[0.0,\"#0d0887\"],[0.1111111111111111,\"#46039f\"],[0.2222222222222222,\"#7201a8\"],[0.3333333333333333,\"#9c179e\"],[0.4444444444444444,\"#bd3786\"],[0.5555555555555556,\"#d8576b\"],[0.6666666666666666,\"#ed7953\"],[0.7777777777777778,\"#fb9f3a\"],[0.8888888888888888,\"#fdca26\"],[1.0,\"#f0f921\"]],\"type\":\"histogram2dcontour\"}],\"mesh3d\":[{\"colorbar\":{\"outlinewidth\":0,\"ticks\":\"\"},\"type\":\"mesh3d\"}],\"parcoords\":[{\"line\":{\"colorbar\":{\"outlinewidth\":0,\"ticks\":\"\"}},\"type\":\"parcoords\"}],\"pie\":[{\"automargin\":true,\"type\":\"pie\"}],\"scatter\":[{\"marker\":{\"colorbar\":{\"outlinewidth\":0,\"ticks\":\"\"}},\"type\":\"scatter\"}],\"scatter3d\":[{\"line\":{\"colorbar\":{\"outlinewidth\":0,\"ticks\":\"\"}},\"marker\":{\"colorbar\":{\"outlinewidth\":0,\"ticks\":\"\"}},\"type\":\"scatter3d\"}],\"scattercarpet\":[{\"marker\":{\"colorbar\":{\"outlinewidth\":0,\"ticks\":\"\"}},\"type\":\"scattercarpet\"}],\"scattergeo\":[{\"marker\":{\"colorbar\":{\"outlinewidth\":0,\"ticks\":\"\"}},\"type\":\"scattergeo\"}],\"scattergl\":[{\"marker\":{\"colorbar\":{\"outlinewidth\":0,\"ticks\":\"\"}},\"type\":\"scattergl\"}],\"scattermapbox\":[{\"marker\":{\"colorbar\":{\"outlinewidth\":0,\"ticks\":\"\"}},\"type\":\"scattermapbox\"}],\"scatterpolar\":[{\"marker\":{\"colorbar\":{\"outlinewidth\":0,\"ticks\":\"\"}},\"type\":\"scatterpolar\"}],\"scatterpolargl\":[{\"marker\":{\"colorbar\":{\"outlinewidth\":0,\"ticks\":\"\"}},\"type\":\"scatterpolargl\"}],\"scatterternary\":[{\"marker\":{\"colorbar\":{\"outlinewidth\":0,\"ticks\":\"\"}},\"type\":\"scatterternary\"}],\"surface\":[{\"colorbar\":{\"outlinewidth\":0,\"ticks\":\"\"},\"colorscale\":[[0.0,\"#0d0887\"],[0.1111111111111111,\"#46039f\"],[0.2222222222222222,\"#7201a8\"],[0.3333333333333333,\"#9c179e\"],[0.4444444444444444,\"#bd3786\"],[0.5555555555555556,\"#d8576b\"],[0.6666666666666666,\"#ed7953\"],[0.7777777777777778,\"#fb9f3a\"],[0.8888888888888888,\"#fdca26\"],[1.0,\"#f0f921\"]],\"type\":\"surface\"}],\"table\":[{\"cells\":{\"fill\":{\"color\":\"#EBF0F8\"},\"line\":{\"color\":\"white\"}},\"header\":{\"fill\":{\"color\":\"#C8D4E3\"},\"line\":{\"color\":\"white\"}},\"type\":\"table\"}]},\"layout\":{\"annotationdefaults\":{\"arrowcolor\":\"#2a3f5f\",\"arrowhead\":0,\"arrowwidth\":1},\"autotypenumbers\":\"strict\",\"coloraxis\":{\"colorbar\":{\"outlinewidth\":0,\"ticks\":\"\"}},\"colorscale\":{\"diverging\":[[0,\"#8e0152\"],[0.1,\"#c51b7d\"],[0.2,\"#de77ae\"],[0.3,\"#f1b6da\"],[0.4,\"#fde0ef\"],[0.5,\"#f7f7f7\"],[0.6,\"#e6f5d0\"],[0.7,\"#b8e186\"],[0.8,\"#7fbc41\"],[0.9,\"#4d9221\"],[1,\"#276419\"]],\"sequential\":[[0.0,\"#0d0887\"],[0.1111111111111111,\"#46039f\"],[0.2222222222222222,\"#7201a8\"],[0.3333333333333333,\"#9c179e\"],[0.4444444444444444,\"#bd3786\"],[0.5555555555555556,\"#d8576b\"],[0.6666666666666666,\"#ed7953\"],[0.7777777777777778,\"#fb9f3a\"],[0.8888888888888888,\"#fdca26\"],[1.0,\"#f0f921\"]],\"sequentialminus\":[[0.0,\"#0d0887\"],[0.1111111111111111,\"#46039f\"],[0.2222222222222222,\"#7201a8\"],[0.3333333333333333,\"#9c179e\"],[0.4444444444444444,\"#bd3786\"],[0.5555555555555556,\"#d8576b\"],[0.6666666666666666,\"#ed7953\"],[0.7777777777777778,\"#fb9f3a\"],[0.8888888888888888,\"#fdca26\"],[1.0,\"#f0f921\"]]},\"colorway\":[\"#636efa\",\"#EF553B\",\"#00cc96\",\"#ab63fa\",\"#FFA15A\",\"#19d3f3\",\"#FF6692\",\"#B6E880\",\"#FF97FF\",\"#FECB52\"],\"font\":{\"color\":\"#2a3f5f\"},\"geo\":{\"bgcolor\":\"white\",\"lakecolor\":\"white\",\"landcolor\":\"#E5ECF6\",\"showlakes\":true,\"showland\":true,\"subunitcolor\":\"white\"},\"hoverlabel\":{\"align\":\"left\"},\"hovermode\":\"closest\",\"mapbox\":{\"style\":\"light\"},\"paper_bgcolor\":\"white\",\"plot_bgcolor\":\"#E5ECF6\",\"polar\":{\"angularaxis\":{\"gridcolor\":\"white\",\"linecolor\":\"white\",\"ticks\":\"\"},\"bgcolor\":\"#E5ECF6\",\"radialaxis\":{\"gridcolor\":\"white\",\"linecolor\":\"white\",\"ticks\":\"\"}},\"scene\":{\"xaxis\":{\"backgroundcolor\":\"#E5ECF6\",\"gridcolor\":\"white\",\"gridwidth\":2,\"linecolor\":\"white\",\"showbackground\":true,\"ticks\":\"\",\"zerolinecolor\":\"white\"},\"yaxis\":{\"backgroundcolor\":\"#E5ECF6\",\"gridcolor\":\"white\",\"gridwidth\":2,\"linecolor\":\"white\",\"showbackground\":true,\"ticks\":\"\",\"zerolinecolor\":\"white\"},\"zaxis\":{\"backgroundcolor\":\"#E5ECF6\",\"gridcolor\":\"white\",\"gridwidth\":2,\"linecolor\":\"white\",\"showbackground\":true,\"ticks\":\"\",\"zerolinecolor\":\"white\"}},\"shapedefaults\":{\"line\":{\"color\":\"#2a3f5f\"}},\"ternary\":{\"aaxis\":{\"gridcolor\":\"white\",\"linecolor\":\"white\",\"ticks\":\"\"},\"baxis\":{\"gridcolor\":\"white\",\"linecolor\":\"white\",\"ticks\":\"\"},\"bgcolor\":\"#E5ECF6\",\"caxis\":{\"gridcolor\":\"white\",\"linecolor\":\"white\",\"ticks\":\"\"}},\"title\":{\"x\":0.05},\"xaxis\":{\"automargin\":true,\"gridcolor\":\"white\",\"linecolor\":\"white\",\"ticks\":\"\",\"title\":{\"standoff\":15},\"zerolinecolor\":\"white\",\"zerolinewidth\":2},\"yaxis\":{\"automargin\":true,\"gridcolor\":\"white\",\"linecolor\":\"white\",\"ticks\":\"\",\"title\":{\"standoff\":15},\"zerolinecolor\":\"white\",\"zerolinewidth\":2}}},\"title\":{\"text\":\"Contour Plot\"},\"width\":550,\"xaxis\":{\"range\":[-4.300000000000001,134.3],\"title\":{\"text\":\"max_depth\"}},\"yaxis\":{\"range\":[0.05852071167134618,0.9805884581688974],\"title\":{\"text\":\"max_features\"}}},                        {\"responsive\": true}                    ).then(function(){\n",
       "                            \n",
       "var gd = document.getElementById('3b420ff0-18f0-46a9-8937-f8c405a41d52');\n",
       "var x = new MutationObserver(function (mutations, observer) {{\n",
       "        var display = window.getComputedStyle(gd).display;\n",
       "        if (!display || display === 'none') {{\n",
       "            console.log([gd, 'removed!']);\n",
       "            Plotly.purge(gd);\n",
       "            observer.disconnect();\n",
       "        }}\n",
       "}});\n",
       "\n",
       "// Listen for the removal of the full notebook cells\n",
       "var notebookContainer = gd.closest('#notebook-container');\n",
       "if (notebookContainer) {{\n",
       "    x.observe(notebookContainer, {childList: true});\n",
       "}}\n",
       "\n",
       "// Listen for the clearing of the current output cell\n",
       "var outputEl = gd.closest('.output');\n",
       "if (outputEl) {{\n",
       "    x.observe(outputEl, {childList: true});\n",
       "}}\n",
       "\n",
       "                        })                };                });            </script>        </div>"
      ]
     },
     "metadata": {},
     "output_type": "display_data"
    }
   ],
   "source": [
    "fig = optuna.visualization.plot_contour(study, params=[\"max_depth\", \"max_features\"])\n",
    "fig.update_layout(width=550, height=500)\n",
    "fig.show()"
   ]
  },
  {
   "cell_type": "markdown",
   "id": "b39127d8",
   "metadata": {
    "id": "RoOMjA7fcMw2",
    "papermill": {
     "duration": 0.059513,
     "end_time": "2021-09-23T19:46:18.640009",
     "exception": false,
     "start_time": "2021-09-23T19:46:18.580496",
     "status": "completed"
    },
    "tags": []
   },
   "source": [
    "## Neural networks"
   ]
  },
  {
   "cell_type": "markdown",
   "id": "71fa9d6a",
   "metadata": {
    "id": "uFQlLZWfcMw2",
    "papermill": {
     "duration": 0.057051,
     "end_time": "2021-09-23T19:46:18.754311",
     "exception": false,
     "start_time": "2021-09-23T19:46:18.697260",
     "status": "completed"
    },
    "tags": []
   },
   "source": [
    "As noted above, we should always perform tuning within a cross-validation framework. However, with neural networks, doing 5-fold CV would require too much compute time &mdash; hence, too much resources, e.g. GPU usage. Instead, we perform tuning on a hold-out validation set and hope for the best. "
   ]
  },
  {
   "cell_type": "code",
   "execution_count": 13,
   "id": "1b58c8cd",
   "metadata": {
    "execution": {
     "iopub.execute_input": "2021-09-23T19:46:18.877311Z",
     "iopub.status.busy": "2021-09-23T19:46:18.876737Z",
     "iopub.status.idle": "2021-09-23T19:46:23.385255Z",
     "shell.execute_reply": "2021-09-23T19:46:23.384724Z",
     "shell.execute_reply.started": "2021-09-23T18:14:45.663363Z"
    },
    "id": "nmb20AphcMw2",
    "papermill": {
     "duration": 4.572582,
     "end_time": "2021-09-23T19:46:23.385386",
     "exception": false,
     "start_time": "2021-09-23T19:46:18.812804",
     "status": "completed"
    },
    "tags": []
   },
   "outputs": [],
   "source": [
    "import torch\n",
    "import torch.nn as nn\n",
    "import torch.optim as optim\n",
    "import torch.nn.functional as F\n",
    "import torchvision.transforms as transforms\n",
    "import torchvision.datasets as datasets\n",
    "from torch.utils.data import Dataset, DataLoader\n",
    "\n",
    "from sklearn import model_selection\n",
    "from sklearn.datasets import fetch_openml\n",
    "\n",
    "from tqdm import tqdm\n",
    "import optuna\n",
    "import numpy as np"
   ]
  },
  {
   "cell_type": "markdown",
   "id": "bf40d29e",
   "metadata": {
    "id": "6r6ehhdjcMw3",
    "papermill": {
     "duration": 0.056027,
     "end_time": "2021-09-23T19:46:23.498942",
     "exception": false,
     "start_time": "2021-09-23T19:46:23.442915",
     "status": "completed"
    },
    "tags": []
   },
   "source": [
    "Define a simple network."
   ]
  },
  {
   "cell_type": "code",
   "execution_count": 14,
   "id": "f27fe601",
   "metadata": {
    "execution": {
     "iopub.execute_input": "2021-09-23T19:46:23.621045Z",
     "iopub.status.busy": "2021-09-23T19:46:23.620335Z",
     "iopub.status.idle": "2021-09-23T19:46:23.623071Z",
     "shell.execute_reply": "2021-09-23T19:46:23.622666Z",
     "shell.execute_reply.started": "2021-09-23T18:14:50.12842Z"
    },
    "id": "JsALWtW9cMw4",
    "papermill": {
     "duration": 0.068396,
     "end_time": "2021-09-23T19:46:23.623177",
     "exception": false,
     "start_time": "2021-09-23T19:46:23.554781",
     "status": "completed"
    },
    "tags": []
   },
   "outputs": [],
   "source": [
    "class MLPClassifier(nn.Module):\n",
    "    \"\"\"\n",
    "    Neural network with multiple hidden fully-connected layers with ReLU \n",
    "    activation and dropout.\n",
    "    \"\"\"\n",
    "    \n",
    "    def __init__(self, input_size, num_classes, n_layers, out_features, drop_rate):\n",
    "        super().__init__()\n",
    "        layers = []\n",
    "        in_features = input_size\n",
    "        for i in range(n_layers):\n",
    "\n",
    "            m = nn.Linear(in_features, out_features[i])\n",
    "            nn.init.kaiming_normal_(m.weight)\n",
    "            nn.init.constant_(m.bias, 0)\n",
    "\n",
    "            layers.append(m)\n",
    "            layers.append(nn.ReLU())\n",
    "            layers.append(nn.Dropout(drop_rate))\n",
    "\n",
    "            in_features = out_features[i]\n",
    "\n",
    "        layers.append(nn.Linear(in_features, num_classes))\n",
    "        self.net = nn.Sequential(*layers)\n",
    "\n",
    "    def forward(self, x):\n",
    "        return self.net(x)"
   ]
  },
  {
   "cell_type": "markdown",
   "id": "57ce4407",
   "metadata": {
    "id": "SBCd4FoBcMw6",
    "papermill": {
     "duration": 0.056036,
     "end_time": "2021-09-23T19:46:23.735700",
     "exception": false,
     "start_time": "2021-09-23T19:46:23.679664",
     "status": "completed"
    },
    "tags": []
   },
   "source": [
    "We also define a `Dataset` class for MNIST."
   ]
  },
  {
   "cell_type": "code",
   "execution_count": 15,
   "id": "4e2ef214",
   "metadata": {
    "execution": {
     "iopub.execute_input": "2021-09-23T19:46:23.856790Z",
     "iopub.status.busy": "2021-09-23T19:46:23.855261Z",
     "iopub.status.idle": "2021-09-23T19:46:23.857424Z",
     "shell.execute_reply": "2021-09-23T19:46:23.857828Z",
     "shell.execute_reply.started": "2021-09-23T18:14:50.138526Z"
    },
    "id": "R_Hp-YoCcMw6",
    "papermill": {
     "duration": 0.064968,
     "end_time": "2021-09-23T19:46:23.857983",
     "exception": false,
     "start_time": "2021-09-23T19:46:23.793015",
     "status": "completed"
    },
    "tags": []
   },
   "outputs": [],
   "source": [
    "class MNISTDataset(Dataset):\n",
    "    def __init__(self, features, targets, transform=None):\n",
    "        self.features = features\n",
    "        self.targets = targets\n",
    "        self.transform = transform\n",
    "        \n",
    "    def __len__(self):\n",
    "        return self.features.shape[0]\n",
    "    \n",
    "    def __getitem__(self, i):\n",
    "        X = self.features[i, :]\n",
    "        y = self.targets[i]\n",
    "        \n",
    "        if self.transform is not None:\n",
    "            X = self.transform(X)\n",
    "            \n",
    "        return X, y"
   ]
  },
  {
   "cell_type": "markdown",
   "id": "cb187cac",
   "metadata": {
    "id": "U7GrtPtEcMw6",
    "papermill": {
     "duration": 0.055719,
     "end_time": "2021-09-23T19:46:23.969522",
     "exception": false,
     "start_time": "2021-09-23T19:46:23.913803",
     "status": "completed"
    },
    "tags": []
   },
   "source": [
    "Define a trainer for the neural network model. This will handle all loss and metric evaluation, as well as backpropagation."
   ]
  },
  {
   "cell_type": "code",
   "execution_count": 16,
   "id": "53d09acf",
   "metadata": {
    "execution": {
     "iopub.execute_input": "2021-09-23T19:46:24.093757Z",
     "iopub.status.busy": "2021-09-23T19:46:24.093225Z",
     "iopub.status.idle": "2021-09-23T19:46:24.096409Z",
     "shell.execute_reply": "2021-09-23T19:46:24.097084Z",
     "shell.execute_reply.started": "2021-09-23T18:14:50.150767Z"
    },
    "id": "BJ30iSjfcMw7",
    "papermill": {
     "duration": 0.071801,
     "end_time": "2021-09-23T19:46:24.097211",
     "exception": false,
     "start_time": "2021-09-23T19:46:24.025410",
     "status": "completed"
    },
    "tags": []
   },
   "outputs": [],
   "source": [
    "class Engine:\n",
    "    \"\"\"Neural network trainer.\"\"\"\n",
    "    \n",
    "    def __init__(self, model, device, optimizer):\n",
    "        self.model = model\n",
    "        self.device = device\n",
    "        self.optimizer = optimizer \n",
    "\n",
    "    @staticmethod\n",
    "    def loss_fn(outputs, targets):\n",
    "        return nn.CrossEntropyLoss()(outputs, targets)\n",
    "        \n",
    "    def train(self, data_loader):\n",
    "        \"\"\"Train model on one epoch. Return train loss.\"\"\"\n",
    "        \n",
    "        self.model.train()\n",
    "        loss = 0\n",
    "        for i, (data, targets) in enumerate(data_loader):\n",
    "            data = data.to(self.device).reshape(data.shape[0], -1).float()\n",
    "            targets = targets.to(self.device).long()\n",
    "            \n",
    "            # Forward pass\n",
    "            outputs = self.model(data)\n",
    "            J = self.loss_fn(outputs, targets)\n",
    "            \n",
    "            # Backward pass\n",
    "            self.optimizer.zero_grad()\n",
    "            J.backward()\n",
    "            self.optimizer.step()\n",
    "\n",
    "            # Cumulative loss\n",
    "            loss += (J.detach().item() - loss) / (i + 1)\n",
    "\n",
    "        return loss\n",
    "\n",
    "\n",
    "    def eval(self, data_loader):\n",
    "        \"\"\"Return validation loss and validation accuracy.\"\"\"\n",
    "        \n",
    "        self.model.eval()\n",
    "        num_correct = 0\n",
    "        num_samples = 0\n",
    "        loss = 0.0\n",
    "        with torch.no_grad():\n",
    "            for i, (data, targets) in enumerate(data_loader):\n",
    "                data = data.to(self.device).float()\n",
    "                targets = targets.to(self.device)\n",
    "                \n",
    "                # Forward pass\n",
    "                data = data.reshape(data.shape[0], -1)\n",
    "                out = self.model(data)\n",
    "                J = self.loss_fn(out, targets)\n",
    "                _, preds = out.max(dim=1)\n",
    "\n",
    "                # Cumulative metrics\n",
    "                loss += (J.detach().item() - loss) / (i + 1)\n",
    "                num_correct += (preds == targets).sum().item()\n",
    "                num_samples += preds.shape[0]\n",
    "\n",
    "        acc = num_correct / num_samples\n",
    "        return loss, acc"
   ]
  },
  {
   "cell_type": "markdown",
   "id": "5ac6c2a0",
   "metadata": {
    "id": "L1WBd1fkcMw7",
    "papermill": {
     "duration": 0.056339,
     "end_time": "2021-09-23T19:46:24.209688",
     "exception": false,
     "start_time": "2021-09-23T19:46:24.153349",
     "status": "completed"
    },
    "tags": []
   },
   "source": [
    "Some config and setup prior to training. For our dataset, we use MNIST which we get from scikit-learn."
   ]
  },
  {
   "cell_type": "code",
   "execution_count": 17,
   "id": "04386b9d",
   "metadata": {
    "execution": {
     "iopub.execute_input": "2021-09-23T19:46:24.376357Z",
     "iopub.status.busy": "2021-09-23T19:46:24.375311Z",
     "iopub.status.idle": "2021-09-23T19:47:05.092556Z",
     "shell.execute_reply": "2021-09-23T19:47:05.093229Z",
     "shell.execute_reply.started": "2021-09-23T18:14:50.166782Z"
    },
    "id": "YlBXgYj8cMw7",
    "papermill": {
     "duration": 40.827353,
     "end_time": "2021-09-23T19:47:05.093433",
     "exception": false,
     "start_time": "2021-09-23T19:46:24.266080",
     "status": "completed"
    },
    "tags": []
   },
   "outputs": [],
   "source": [
    "# Config\n",
    "RANDOM_STATE = 42\n",
    "DEVICE = 'cuda' if torch.cuda.is_available() else 'cpu'\n",
    "EPOCHS = 100\n",
    "PATIENCE = 5\n",
    "INPUT_SIZE = 784\n",
    "NUM_CLASSES = 10\n",
    "\n",
    "# Fetch data\n",
    "MNIST = fetch_openml(\"mnist_784\")\n",
    "X = MNIST['data'].reshape(-1, 28, 28)\n",
    "y = MNIST['target'].astype(int)\n",
    "\n",
    "# Create folds\n",
    "cv = model_selection.StratifiedKFold(n_splits=5)\n",
    "trn_, val_ = next(iter(cv.split(X=X, y=y)))\n",
    "\n",
    "# Get train and valid data loaders\n",
    "train_dataset = MNISTDataset(X[trn_, :], y[trn_], transform=transforms.ToTensor())\n",
    "valid_dataset = MNISTDataset(X[val_, :], y[val_], transform=transforms.ToTensor())"
   ]
  },
  {
   "cell_type": "markdown",
   "id": "4da5110c",
   "metadata": {
    "id": "gjqSuZqpcMw8",
    "papermill": {
     "duration": 0.080107,
     "end_time": "2021-09-23T19:47:05.233338",
     "exception": false,
     "start_time": "2021-09-23T19:47:05.153231",
     "status": "completed"
    },
    "tags": []
   },
   "source": [
    "### Intermediate values"
   ]
  },
  {
   "cell_type": "markdown",
   "id": "8013b287",
   "metadata": {
    "id": "vSFEodb0cMw9",
    "papermill": {
     "duration": 0.088445,
     "end_time": "2021-09-23T19:47:05.415803",
     "exception": false,
     "start_time": "2021-09-23T19:47:05.327358",
     "status": "completed"
    },
    "tags": []
   },
   "source": [
    "Finally, we set up the `study` instance and its objective function. Note that the search space is dynamically constructed depending on the number of layers (i.e. an earlier suggestion for a hyperparameter). During training, we perform early stopping on validation loss. If no new minimum val. loss is found after 5 epochs, then the minimum val. loss is returned as the objective [^ref3].\n",
    "\n",
    "Computing intermediate values allow us to **prune** unpromising trials to conserve resources. The default pruner in Optuna is [`optuna.pruners.MedianPruner`](https://optuna.readthedocs.io/en/stable/reference/generated/optuna.pruners.MedianPruner.html) which prunes a trial if its best intermediate result as of the current step (e.g. current best valid loss) is worse than the median of all intermediate results of previous trials *at the current step*. Hence, the best intermediate result of a pruned trial is less than the best intermediate result of 1/2 of the other trials as of that step. In our case, if the minimum val. loss does not improve too quickly, then the trial is pruned. Of course, the validation loss could descend rapidly at later steps, but the median pruner does not bet on this happening.\n",
    "\n",
    "[^ref3]: In practice, we save the best model parameters at this point."
   ]
  },
  {
   "cell_type": "code",
   "execution_count": 18,
   "id": "162a9699",
   "metadata": {
    "execution": {
     "iopub.execute_input": "2021-09-23T19:47:05.634799Z",
     "iopub.status.busy": "2021-09-23T19:47:05.633971Z",
     "iopub.status.idle": "2021-09-23T21:42:20.950509Z",
     "shell.execute_reply": "2021-09-23T21:42:20.950989Z"
    },
    "id": "YDsmzBW_cMw-",
    "outputId": "92e70039-530d-488e-ad61-573a5b442025",
    "papermill": {
     "duration": 6915.443915,
     "end_time": "2021-09-23T21:42:20.951165",
     "exception": false,
     "start_time": "2021-09-23T19:47:05.507250",
     "status": "completed"
    },
    "tags": []
   },
   "outputs": [
    {
     "name": "stderr",
     "output_type": "stream",
     "text": [
      "\u001b[32m[I 2021-09-23 19:47:05,635]\u001b[0m A new study created in memory with name: no-name-16c567c8-b5db-465c-8ead-a971d6dcec49\u001b[0m\n",
      "\u001b[32m[I 2021-09-23 19:49:51,871]\u001b[0m Trial 0 finished with value: 0.12300159906347592 and parameters: {'n_layers': 1, 'dropout_rate': 0.3158539023605407, 'n_units_l0': 53, 'batch_size': 114, 'lr': 0.09642456106186041, 'weight_decay': 0.2942866490996837}. Best is trial 0 with value: 0.12300159906347592.\u001b[0m\n",
      "\u001b[32m[I 2021-09-23 19:50:22,688]\u001b[0m Trial 1 finished with value: 0.23798754679806097 and parameters: {'n_layers': 2, 'dropout_rate': 0.351322195201316, 'n_units_l0': 116, 'n_units_l1': 40, 'batch_size': 423, 'lr': 0.0015332979558061325, 'weight_decay': 0.4379572929978157}. Best is trial 0 with value: 0.12300159906347592.\u001b[0m\n",
      "\u001b[32m[I 2021-09-23 20:08:28,460]\u001b[0m Trial 2 finished with value: 0.16281519138739997 and parameters: {'n_layers': 2, 'dropout_rate': 0.3453513833279788, 'n_units_l0': 81, 'n_units_l1': 14, 'batch_size': 11, 'lr': 0.015098934385046161, 'weight_decay': 0.12652863739461595}. Best is trial 0 with value: 0.12300159906347592.\u001b[0m\n",
      "\u001b[32m[I 2021-09-23 20:10:54,564]\u001b[0m Trial 3 finished with value: 0.11184287914535504 and parameters: {'n_layers': 1, 'dropout_rate': 0.32933043478511825, 'n_units_l0': 90, 'batch_size': 154, 'lr': 2.1455848009490967e-05, 'weight_decay': 0.35411245341550385}. Best is trial 3 with value: 0.11184287914535504.\u001b[0m\n",
      "\u001b[32m[I 2021-09-23 20:20:57,550]\u001b[0m Trial 4 finished with value: 0.21651574254129094 and parameters: {'n_layers': 2, 'dropout_rate': 0.33039780511533695, 'n_units_l0': 48, 'n_units_l1': 107, 'batch_size': 14, 'lr': 1.3470600219422924e-05, 'weight_decay': 0.2957472242049232}. Best is trial 3 with value: 0.11184287914535504.\u001b[0m\n",
      "\u001b[32m[I 2021-09-23 20:21:19,420]\u001b[0m Trial 5 pruned. \u001b[0m\n",
      "\u001b[32m[I 2021-09-23 20:21:34,949]\u001b[0m Trial 6 pruned. \u001b[0m\n",
      "\u001b[32m[I 2021-09-23 20:23:53,294]\u001b[0m Trial 7 pruned. \u001b[0m\n",
      "\u001b[32m[I 2021-09-23 20:33:47,102]\u001b[0m Trial 8 finished with value: 0.11409320234786728 and parameters: {'n_layers': 1, 'dropout_rate': 0.30729240287080145, 'n_units_l0': 58, 'batch_size': 10, 'lr': 0.002699246630271282, 'weight_decay': 0.2801018891438447}. Best is trial 3 with value: 0.11184287914535504.\u001b[0m\n",
      "\u001b[32m[I 2021-09-23 20:39:55,281]\u001b[0m Trial 9 pruned. \u001b[0m\n",
      "\u001b[32m[I 2021-09-23 20:39:57,015]\u001b[0m Trial 10 pruned. \u001b[0m\n",
      "\u001b[32m[I 2021-09-23 20:42:45,213]\u001b[0m Trial 11 finished with value: 0.09494087435305124 and parameters: {'n_layers': 1, 'dropout_rate': 0.2740252588371055, 'n_units_l0': 80, 'batch_size': 61, 'lr': 0.004045007643833955, 'weight_decay': 0.20272096943345724}. Best is trial 11 with value: 0.09494087435305124.\u001b[0m\n",
      "\u001b[32m[I 2021-09-23 20:43:03,006]\u001b[0m Trial 12 pruned. \u001b[0m\n",
      "\u001b[32m[I 2021-09-23 20:43:04,494]\u001b[0m Trial 13 pruned. \u001b[0m\n",
      "\u001b[32m[I 2021-09-23 20:43:10,435]\u001b[0m Trial 14 pruned. \u001b[0m\n",
      "\u001b[32m[I 2021-09-23 20:43:11,789]\u001b[0m Trial 15 pruned. \u001b[0m\n",
      "\u001b[32m[I 2021-09-23 20:45:07,898]\u001b[0m Trial 16 finished with value: 0.12279672817750409 and parameters: {'n_layers': 1, 'dropout_rate': 0.2053318342868627, 'n_units_l0': 75, 'batch_size': 51, 'lr': 0.000672092108281761, 'weight_decay': 0.4898392553567651}. Best is trial 11 with value: 0.09494087435305124.\u001b[0m\n",
      "\u001b[32m[I 2021-09-23 20:45:10,787]\u001b[0m Trial 17 pruned. \u001b[0m\n",
      "\u001b[32m[I 2021-09-23 20:45:14,862]\u001b[0m Trial 18 pruned. \u001b[0m\n",
      "\u001b[32m[I 2021-09-23 20:45:16,439]\u001b[0m Trial 19 pruned. \u001b[0m\n",
      "\u001b[32m[I 2021-09-23 20:45:18,393]\u001b[0m Trial 20 pruned. \u001b[0m\n",
      "\u001b[32m[I 2021-09-23 20:46:02,883]\u001b[0m Trial 21 finished with value: 0.1464429818214116 and parameters: {'n_layers': 1, 'dropout_rate': 0.2888947355877797, 'n_units_l0': 62, 'batch_size': 159, 'lr': 0.002111328817634949, 'weight_decay': 0.2755679447582429}. Best is trial 11 with value: 0.09494087435305124.\u001b[0m\n",
      "\u001b[32m[I 2021-09-23 20:46:16,151]\u001b[0m Trial 22 pruned. \u001b[0m\n",
      "\u001b[32m[I 2021-09-23 20:47:01,800]\u001b[0m Trial 23 pruned. \u001b[0m\n",
      "\u001b[32m[I 2021-09-23 20:47:26,596]\u001b[0m Trial 24 pruned. \u001b[0m\n",
      "\u001b[32m[I 2021-09-23 20:47:41,939]\u001b[0m Trial 25 pruned. \u001b[0m\n",
      "\u001b[32m[I 2021-09-23 20:48:26,480]\u001b[0m Trial 26 finished with value: 0.12152141523222591 and parameters: {'n_layers': 1, 'dropout_rate': 0.37624291740716287, 'n_units_l0': 75, 'batch_size': 326, 'lr': 0.0008523303736344673, 'weight_decay': 0.3278531401206054}. Best is trial 11 with value: 0.09494087435305124.\u001b[0m\n",
      "\u001b[32m[I 2021-09-23 20:53:02,203]\u001b[0m Trial 27 finished with value: 0.0925000230835601 and parameters: {'n_layers': 1, 'dropout_rate': 0.22699498785226394, 'n_units_l0': 113, 'batch_size': 18, 'lr': 0.00017389329178689263, 'weight_decay': 0.26556213804118434}. Best is trial 27 with value: 0.0925000230835601.\u001b[0m\n",
      "\u001b[32m[I 2021-09-23 20:53:09,356]\u001b[0m Trial 28 pruned. \u001b[0m\n",
      "\u001b[32m[I 2021-09-23 20:54:18,224]\u001b[0m Trial 29 finished with value: 0.08117592570789416 and parameters: {'n_layers': 1, 'dropout_rate': 0.23170026899019033, 'n_units_l0': 126, 'batch_size': 121, 'lr': 0.0002058825439645186, 'weight_decay': 0.19845560061807097}. Best is trial 29 with value: 0.08117592570789416.\u001b[0m\n",
      "\u001b[32m[I 2021-09-23 20:56:39,260]\u001b[0m Trial 30 finished with value: 0.07954993568421377 and parameters: {'n_layers': 1, 'dropout_rate': 0.22529584259638433, 'n_units_l0': 126, 'batch_size': 38, 'lr': 0.0002215705592145656, 'weight_decay': 0.18046766041750062}. Best is trial 30 with value: 0.07954993568421377.\u001b[0m\n",
      "\u001b[32m[I 2021-09-23 20:59:00,898]\u001b[0m Trial 31 finished with value: 0.07695315656457147 and parameters: {'n_layers': 1, 'dropout_rate': 0.20008149355360638, 'n_units_l0': 126, 'batch_size': 39, 'lr': 0.0001804367860500245, 'weight_decay': 0.1788238449171621}. Best is trial 31 with value: 0.07695315656457147.\u001b[0m\n",
      "\u001b[32m[I 2021-09-23 21:01:50,862]\u001b[0m Trial 32 finished with value: 0.07632742365847435 and parameters: {'n_layers': 1, 'dropout_rate': 0.2053200861363653, 'n_units_l0': 128, 'batch_size': 38, 'lr': 0.00019290160642252273, 'weight_decay': 0.1714129886898159}. Best is trial 32 with value: 0.07632742365847435.\u001b[0m\n",
      "\u001b[32m[I 2021-09-23 21:03:39,321]\u001b[0m Trial 33 finished with value: 0.0762427039684218 and parameters: {'n_layers': 1, 'dropout_rate': 0.20149738186810884, 'n_units_l0': 128, 'batch_size': 38, 'lr': 0.0001847520121935494, 'weight_decay': 0.15163439721617653}. Best is trial 33 with value: 0.0762427039684218.\u001b[0m\n",
      "\u001b[32m[I 2021-09-23 21:03:42,824]\u001b[0m Trial 34 pruned. \u001b[0m\n",
      "\u001b[32m[I 2021-09-23 21:03:48,294]\u001b[0m Trial 35 pruned. \u001b[0m\n",
      "\u001b[32m[I 2021-09-23 21:06:10,898]\u001b[0m Trial 36 finished with value: 0.07187104103444976 and parameters: {'n_layers': 1, 'dropout_rate': 0.21752186915458838, 'n_units_l0': 128, 'batch_size': 45, 'lr': 0.00035039352547552513, 'weight_decay': 0.10519795919161423}. Best is trial 36 with value: 0.07187104103444976.\u001b[0m\n",
      "\u001b[32m[I 2021-09-23 21:09:00,494]\u001b[0m Trial 37 finished with value: 0.07784998359158629 and parameters: {'n_layers': 2, 'dropout_rate': 0.25158488976494664, 'n_units_l0': 119, 'n_units_l1': 128, 'batch_size': 51, 'lr': 0.0004377708663348637, 'weight_decay': 0.05603333007318556}. Best is trial 36 with value: 0.07187104103444976.\u001b[0m\n",
      "\u001b[32m[I 2021-09-23 21:10:08,391]\u001b[0m Trial 38 pruned. \u001b[0m\n",
      "\u001b[32m[I 2021-09-23 21:10:40,345]\u001b[0m Trial 39 pruned. \u001b[0m\n",
      "\u001b[32m[I 2021-09-23 21:10:44,111]\u001b[0m Trial 40 pruned. \u001b[0m\n",
      "\u001b[32m[I 2021-09-23 21:10:47,650]\u001b[0m Trial 41 pruned. \u001b[0m\n",
      "\u001b[32m[I 2021-09-23 21:10:51,157]\u001b[0m Trial 42 pruned. \u001b[0m\n",
      "\u001b[32m[I 2021-09-23 21:10:54,340]\u001b[0m Trial 43 pruned. \u001b[0m\n",
      "\u001b[32m[I 2021-09-23 21:11:32,785]\u001b[0m Trial 44 pruned. \u001b[0m\n",
      "\u001b[32m[I 2021-09-23 21:11:36,914]\u001b[0m Trial 45 pruned. \u001b[0m\n",
      "\u001b[32m[I 2021-09-23 21:11:43,986]\u001b[0m Trial 46 pruned. \u001b[0m\n",
      "\u001b[32m[I 2021-09-23 21:12:26,290]\u001b[0m Trial 47 pruned. \u001b[0m\n",
      "\u001b[32m[I 2021-09-23 21:12:28,992]\u001b[0m Trial 48 pruned. \u001b[0m\n",
      "\u001b[32m[I 2021-09-23 21:12:34,205]\u001b[0m Trial 49 pruned. \u001b[0m\n",
      "\u001b[32m[I 2021-09-23 21:12:40,080]\u001b[0m Trial 50 pruned. \u001b[0m\n",
      "\u001b[32m[I 2021-09-23 21:15:17,913]\u001b[0m Trial 51 finished with value: 0.08045786882788811 and parameters: {'n_layers': 1, 'dropout_rate': 0.22519668951632021, 'n_units_l0': 124, 'batch_size': 41, 'lr': 0.0002487117848317692, 'weight_decay': 0.1853632103023621}. Best is trial 36 with value: 0.07187104103444976.\u001b[0m\n",
      "\u001b[32m[I 2021-09-23 21:19:08,449]\u001b[0m Trial 52 finished with value: 0.08383903613971429 and parameters: {'n_layers': 1, 'dropout_rate': 0.21542905166473528, 'n_units_l0': 115, 'batch_size': 33, 'lr': 0.000265028745733352, 'weight_decay': 0.21849152562410187}. Best is trial 36 with value: 0.07187104103444976.\u001b[0m\n",
      "\u001b[32m[I 2021-09-23 21:20:53,824]\u001b[0m Trial 53 finished with value: 0.0707608246819326 and parameters: {'n_layers': 1, 'dropout_rate': 0.2229402156983627, 'n_units_l0': 127, 'batch_size': 67, 'lr': 0.00046273309504041093, 'weight_decay': 0.11209537252923243}. Best is trial 53 with value: 0.0707608246819326.\u001b[0m\n",
      "\u001b[32m[I 2021-09-23 21:21:06,114]\u001b[0m Trial 54 pruned. \u001b[0m\n",
      "\u001b[32m[I 2021-09-23 21:21:10,261]\u001b[0m Trial 55 pruned. \u001b[0m\n",
      "\u001b[32m[I 2021-09-23 21:21:13,338]\u001b[0m Trial 56 pruned. \u001b[0m\n",
      "\u001b[32m[I 2021-09-23 21:21:27,898]\u001b[0m Trial 57 pruned. \u001b[0m\n",
      "\u001b[32m[I 2021-09-23 21:21:42,811]\u001b[0m Trial 58 pruned. \u001b[0m\n",
      "\u001b[32m[I 2021-09-23 21:21:46,766]\u001b[0m Trial 59 pruned. \u001b[0m\n",
      "\u001b[32m[I 2021-09-23 21:21:53,158]\u001b[0m Trial 60 pruned. \u001b[0m\n",
      "\u001b[32m[I 2021-09-23 21:25:40,852]\u001b[0m Trial 61 finished with value: 0.07643958191548061 and parameters: {'n_layers': 1, 'dropout_rate': 0.22210832647778533, 'n_units_l0': 125, 'batch_size': 31, 'lr': 0.00020363497333737628, 'weight_decay': 0.16856945205298712}. Best is trial 53 with value: 0.0707608246819326.\u001b[0m\n",
      "\u001b[32m[I 2021-09-23 21:26:13,960]\u001b[0m Trial 62 pruned. \u001b[0m\n",
      "\u001b[32m[I 2021-09-23 21:26:46,556]\u001b[0m Trial 63 pruned. \u001b[0m\n",
      "\u001b[32m[I 2021-09-23 21:26:50,481]\u001b[0m Trial 64 pruned. \u001b[0m\n",
      "\u001b[32m[I 2021-09-23 21:26:54,980]\u001b[0m Trial 65 pruned. \u001b[0m\n",
      "\u001b[32m[I 2021-09-23 21:27:02,364]\u001b[0m Trial 66 pruned. \u001b[0m\n",
      "\u001b[32m[I 2021-09-23 21:27:06,134]\u001b[0m Trial 67 pruned. \u001b[0m\n",
      "\u001b[32m[I 2021-09-23 21:28:00,721]\u001b[0m Trial 68 pruned. \u001b[0m\n",
      "\u001b[32m[I 2021-09-23 21:28:06,087]\u001b[0m Trial 69 pruned. \u001b[0m\n",
      "\u001b[32m[I 2021-09-23 21:28:09,211]\u001b[0m Trial 70 pruned. \u001b[0m\n",
      "\u001b[32m[I 2021-09-23 21:28:11,738]\u001b[0m Trial 71 pruned. \u001b[0m\n",
      "\u001b[32m[I 2021-09-23 21:28:26,128]\u001b[0m Trial 72 pruned. \u001b[0m\n",
      "\u001b[32m[I 2021-09-23 21:28:30,006]\u001b[0m Trial 73 pruned. \u001b[0m\n",
      "\u001b[32m[I 2021-09-23 21:29:04,693]\u001b[0m Trial 74 pruned. \u001b[0m\n",
      "\u001b[32m[I 2021-09-23 21:29:21,883]\u001b[0m Trial 75 pruned. \u001b[0m\n",
      "\u001b[32m[I 2021-09-23 21:29:27,861]\u001b[0m Trial 76 pruned. \u001b[0m\n",
      "\u001b[32m[I 2021-09-23 21:29:31,676]\u001b[0m Trial 77 pruned. \u001b[0m\n",
      "\u001b[32m[I 2021-09-23 21:29:35,412]\u001b[0m Trial 78 pruned. \u001b[0m\n",
      "\u001b[32m[I 2021-09-23 21:29:37,830]\u001b[0m Trial 79 pruned. \u001b[0m\n",
      "\u001b[32m[I 2021-09-23 21:29:47,197]\u001b[0m Trial 80 pruned. \u001b[0m\n",
      "\u001b[32m[I 2021-09-23 21:30:45,548]\u001b[0m Trial 81 pruned. \u001b[0m\n",
      "\u001b[32m[I 2021-09-23 21:30:49,357]\u001b[0m Trial 82 pruned. \u001b[0m\n",
      "\u001b[32m[I 2021-09-23 21:30:52,513]\u001b[0m Trial 83 pruned. \u001b[0m\n",
      "\u001b[32m[I 2021-09-23 21:31:03,724]\u001b[0m Trial 84 pruned. \u001b[0m\n",
      "\u001b[32m[I 2021-09-23 21:33:13,820]\u001b[0m Trial 85 pruned. \u001b[0m\n",
      "\u001b[32m[I 2021-09-23 21:35:10,641]\u001b[0m Trial 86 finished with value: 0.06839529270986595 and parameters: {'n_layers': 1, 'dropout_rate': 0.20009250667864037, 'n_units_l0': 125, 'batch_size': 84, 'lr': 0.00041055972615636216, 'weight_decay': 0.10907103421869807}. Best is trial 86 with value: 0.06839529270986595.\u001b[0m\n",
      "\u001b[32m[I 2021-09-23 21:35:39,578]\u001b[0m Trial 87 pruned. \u001b[0m\n",
      "\u001b[32m[I 2021-09-23 21:37:00,684]\u001b[0m Trial 88 finished with value: 0.07020496851793542 and parameters: {'n_layers': 1, 'dropout_rate': 0.2010972553953743, 'n_units_l0': 126, 'batch_size': 87, 'lr': 0.0004145471753543523, 'weight_decay': 0.1233921525223666}. Best is trial 86 with value: 0.06839529270986595.\u001b[0m\n",
      "\u001b[32m[I 2021-09-23 21:37:09,524]\u001b[0m Trial 89 pruned. \u001b[0m\n",
      "\u001b[32m[I 2021-09-23 21:37:13,288]\u001b[0m Trial 90 pruned. \u001b[0m\n",
      "\u001b[32m[I 2021-09-23 21:37:17,995]\u001b[0m Trial 91 pruned. \u001b[0m\n",
      "\u001b[32m[I 2021-09-23 21:37:19,834]\u001b[0m Trial 92 pruned. \u001b[0m\n",
      "\u001b[32m[I 2021-09-23 21:38:57,947]\u001b[0m Trial 93 finished with value: 0.07436692690420327 and parameters: {'n_layers': 1, 'dropout_rate': 0.2369229972659646, 'n_units_l0': 116, 'batch_size': 85, 'lr': 0.00043110735694857385, 'weight_decay': 0.14141080372193618}. Best is trial 86 with value: 0.06839529270986595.\u001b[0m\n",
      "\u001b[32m[I 2021-09-23 21:39:08,764]\u001b[0m Trial 94 pruned. \u001b[0m\n",
      "\u001b[32m[I 2021-09-23 21:41:17,502]\u001b[0m Trial 95 finished with value: 0.07310930447119506 and parameters: {'n_layers': 1, 'dropout_rate': 0.21985202574843565, 'n_units_l0': 123, 'batch_size': 66, 'lr': 0.00043642405804699964, 'weight_decay': 0.14024139423007215}. Best is trial 86 with value: 0.06839529270986595.\u001b[0m\n",
      "\u001b[32m[I 2021-09-23 21:41:26,543]\u001b[0m Trial 96 pruned. \u001b[0m\n",
      "\u001b[32m[I 2021-09-23 21:41:44,056]\u001b[0m Trial 97 pruned. \u001b[0m\n",
      "\u001b[32m[I 2021-09-23 21:42:19,073]\u001b[0m Trial 98 pruned. \u001b[0m\n",
      "\u001b[32m[I 2021-09-23 21:42:20,943]\u001b[0m Trial 99 pruned. \u001b[0m\n"
     ]
    }
   ],
   "source": [
    "def define_model(trial):\n",
    "  \n",
    "    # Optimize the # of layers, hidden units and dropout ratio in each layer.\n",
    "    n_layers = trial.suggest_int(\"n_layers\", 1, 3)\n",
    "    out_features = []\n",
    "    drop_rate = trial.suggest_float('dropout_rate', 0.2, 0.5)\n",
    "    for i in range(n_layers):\n",
    "        out_features.append(trial.suggest_int(\"n_units_l{}\".format(i), 4, 128))\n",
    "\n",
    "    return MLPClassifier(INPUT_SIZE, NUM_CLASSES, n_layers, out_features, drop_rate)\n",
    "\n",
    "\n",
    "def objective(trial):\n",
    "\n",
    "    model = define_model(trial).to(DEVICE)\n",
    "    batch_size = trial.suggest_int('batch_size', 8, 512, log=True)\n",
    "    learning_rate = trial.suggest_loguniform('lr', 1e-5, 1e-1)\n",
    "    weight_decay = trial.suggest_float('weight_decay', 0.0, 0.5)\n",
    "    optimizer = optim.Adam(model.parameters(), lr=learning_rate, weight_decay=weight_decay)\n",
    "    scheduler = optim.lr_scheduler.ReduceLROnPlateau(optimizer, factor=0.1, patience=3)\n",
    "    engine = Engine(model, DEVICE, optimizer)\n",
    "\n",
    "    # Init. dataloaders\n",
    "    train_loader = DataLoader(dataset=train_dataset, batch_size=batch_size, shuffle=True)\n",
    "    valid_loader = DataLoader(dataset=valid_dataset, batch_size=batch_size, shuffle=True)\n",
    "    \n",
    "    # Run training\n",
    "    best_loss = np.inf\n",
    "    patience = PATIENCE\n",
    "    for epoch in tqdm(range(EPOCHS), total=EPOCHS, leave=False):\n",
    "\n",
    "        # Train and validation step\n",
    "        train_loss = engine.train(train_loader)\n",
    "        valid_loss, valid_acc = engine.eval(valid_loader)\n",
    "\n",
    "        # Reduce learning rate\n",
    "        if scheduler is not None:\n",
    "            scheduler.step(valid_loss)\n",
    "            \n",
    "        # Early stopping\n",
    "        if valid_loss < best_loss:\n",
    "            best_loss = valid_loss\n",
    "            patience = PATIENCE\n",
    "        else:\n",
    "            patience -= 1\n",
    "            if patience == 0:\n",
    "                break\n",
    "    \n",
    "        # Pruning unpromising trials\n",
    "        trial.report(valid_loss, step=epoch)\n",
    "        if trial.should_prune():\n",
    "            raise optuna.TrialPruned()\n",
    "\n",
    "    return best_loss\n",
    "\n",
    "# Create and run optimization problem \n",
    "study = optuna.create_study(direction=\"minimize\")\n",
    "study.optimize(objective, n_trials=100)"
   ]
  },
  {
   "cell_type": "code",
   "execution_count": 19,
   "id": "34960a34",
   "metadata": {
    "execution": {
     "iopub.execute_input": "2021-09-23T21:42:22.097913Z",
     "iopub.status.busy": "2021-09-23T21:42:22.097112Z",
     "iopub.status.idle": "2021-09-23T21:42:22.115915Z",
     "shell.execute_reply": "2021-09-23T21:42:22.116325Z"
    },
    "id": "MZ33X-NacMw8",
    "outputId": "b5f5135f-c67b-4e69-bfa2-8963b3ce86ef",
    "papermill": {
     "duration": 0.594936,
     "end_time": "2021-09-23T21:42:22.116458",
     "exception": false,
     "start_time": "2021-09-23T21:42:21.521522",
     "status": "completed"
    },
    "tags": []
   },
   "outputs": [
    {
     "name": "stdout",
     "output_type": "stream",
     "text": [
      "Study statistics: \n",
      "  Number of finished trials:\t 100\n",
      "  Number of pruned trials:\t 74\n",
      "  Number of complete trials:\t 26\n",
      "\n",
      "Best trial:\n",
      "  Value:  0.06839529270986595\n",
      "  Params: \n",
      "    n_layers: 1\n",
      "    dropout_rate: 0.20009250667864037\n",
      "    n_units_l0: 125\n",
      "    batch_size: 84\n",
      "    lr: 0.00041055972615636216\n",
      "    weight_decay: 0.10907103421869807\n"
     ]
    }
   ],
   "source": [
    "from optuna.trial import TrialState\n",
    "\n",
    "pruned_trials = study.get_trials(deepcopy=False, states=[TrialState.PRUNED])\n",
    "complete_trials = study.get_trials(deepcopy=False, states=[TrialState.COMPLETE])\n",
    "\n",
    "print(\"Study statistics: \")\n",
    "print(\"  Number of finished trials:\\t\", len(study.trials))\n",
    "print(\"  Number of pruned trials:\\t\", len(pruned_trials))\n",
    "print(\"  Number of complete trials:\\t\", len(complete_trials))\n",
    "\n",
    "print(\"\\nBest trial:\")\n",
    "trial = study.best_trial\n",
    "\n",
    "print(\"  Value: \", trial.value)\n",
    "print(\"  Params: \")\n",
    "for key, value in trial.params.items():\n",
    "    print(\"    {}: {}\".format(key, value))"
   ]
  },
  {
   "cell_type": "markdown",
   "id": "8cf6df6d",
   "metadata": {
    "id": "1kXDduuNcMw_",
    "papermill": {
     "duration": 0.566834,
     "end_time": "2021-09-23T21:42:23.232643",
     "exception": false,
     "start_time": "2021-09-23T21:42:22.665809",
     "status": "completed"
    },
    "tags": []
   },
   "source": [
    "Trials below either early stops (gradient descent loses momentum) or gets pruned (unlikely to improve even if gradient descent continues). Note that pruning starts at Trial 5. This can be tweaked in the `n_startup_trials=5` parameter of the pruner. In this case, pruning is disabled until the 5 trials finish in the same study. This is so that the pruner obtains enough information about the behavior of the gradient descent optimizer before starting to prune. "
   ]
  },
  {
   "cell_type": "code",
   "execution_count": 20,
   "id": "5b722191",
   "metadata": {
    "execution": {
     "iopub.execute_input": "2021-09-23T21:42:24.829477Z",
     "iopub.status.busy": "2021-09-23T21:42:24.828591Z",
     "iopub.status.idle": "2021-09-23T21:42:25.152265Z",
     "shell.execute_reply": "2021-09-23T21:42:25.152745Z"
    },
    "id": "ktKfx9tZcMxA",
    "outputId": "399d4717-bde7-44d3-a8cd-a6dddff35990",
    "papermill": {
     "duration": 1.349276,
     "end_time": "2021-09-23T21:42:25.152941",
     "exception": false,
     "start_time": "2021-09-23T21:42:23.803665",
     "status": "completed"
    },
    "tags": []
   },
   "outputs": [
    {
     "data": {
      "text/html": [
       "<div>                            <div id=\"658e9a5e-384c-45e6-a17e-35bdb16f8205\" class=\"plotly-graph-div\" style=\"height:525px; width:100%;\"></div>            <script type=\"text/javascript\">                require([\"plotly\"], function(Plotly) {                    window.PLOTLYENV=window.PLOTLYENV || {};                                    if (document.getElementById(\"658e9a5e-384c-45e6-a17e-35bdb16f8205\")) {                    Plotly.newPlot(                        \"658e9a5e-384c-45e6-a17e-35bdb16f8205\",                        [{\"marker\":{\"maxdisplayed\":10},\"mode\":\"lines+markers\",\"name\":\"Trial0\",\"type\":\"scatter\",\"x\":[0,1,2,3,4,5,6,7,8,9,10,11,12,13,14,15,16,17,18,19,20,21,22,23,24,25,26,27,28,29,30,31,32,33,34,35,36,37,38,39,40,41,42,43,44,45,46,47,48,49,50,51,52,53,54,55,56,57,58,59,60,61,62,63,64,65,66,67,68,69,70,71,72,73,74,75,76,77,78,79,80,81,82,83,84,85,86],\"y\":[4.6535628074552955,2.4496069167687646,4.103845317189284,9.984441485831411,7.002856244885827,5.381761368697253,2.0712774614008453,1.893276053715527,1.9439276951115312,2.060213946714634,1.9213935369398534,2.8084270643994094,0.5783440192055899,0.560939660886439,0.5478317001001621,0.5180204903207175,0.4499173937289696,0.4664200139724143,0.4782952845581178,0.41744309615313524,0.40106159097295474,0.3688572882636775,0.34247199003773976,0.32103436870303576,0.2925754520224363,0.2975829682214473,0.30368202815695494,0.2780256629959356,0.29480837685305883,0.2857419427453987,0.25643293202165673,0.3004434611496885,0.33492318437836033,0.28208071683965086,0.23786871220038197,0.25148415262621593,0.252314386571326,0.27264573043439444,0.26440796377213027,0.19163182777602503,0.18539627505148326,0.18410559246937436,0.18239254083454126,0.18099340693495142,0.18463006506605842,0.17133111031195966,0.17352627393433717,0.1729879040059035,0.16542491595434938,0.16456452720775838,0.15511874206424722,0.15296630591638688,0.14655951374187706,0.15111271546381272,0.14408524997714087,0.14237159738938013,0.14306618715447134,0.14300786004197308,0.14024303144798048,0.13660580801164227,0.1375537636439975,0.13884592204680285,0.13592906393171325,0.13633278954198694,0.1338543804680429,0.13347878391907467,0.13590013508389637,0.13586760018535743,0.13561088670560018,0.13473052286156795,0.12448681397287825,0.1255154440073463,0.123780003892697,0.12328001450959261,0.12373118087407055,0.12396884358268445,0.12479245962529645,0.12338291814293315,0.12321965181367181,0.12324589872505604,0.12337844082858501,0.1232531454444416,0.12300159906347592,0.12312998871008554,0.12321697511687511,0.12330249999839119,0.1232516063846708]},{\"marker\":{\"maxdisplayed\":10},\"mode\":\"lines+markers\",\"name\":\"Trial1\",\"type\":\"scatter\",\"x\":[0,1,2,3,4,5,6,7,8,9,10,11,12,13,14,15,16,17,18,19,20,21,22,23,24],\"y\":[1.804364891613231,0.5376919209957123,0.32731123706873727,0.2902625295169214,0.27035549502162376,0.2720035169931018,0.2870252960745026,0.27682987995007463,0.2772035427829798,0.24616295844316483,0.24733386583187997,0.24838470799081466,0.25052519493243275,0.2508886438958785,0.24233474319472034,0.24913391251774394,0.24598651729962406,0.24219560184899494,0.24030125930028803,0.23813885713324828,0.23798754679806097,0.24160843079580982,0.24794668528963537,0.2405765486114166,0.24509074626600044]},{\"marker\":{\"maxdisplayed\":10},\"mode\":\"lines+markers\",\"name\":\"Trial2\",\"type\":\"scatter\",\"x\":[0,1,2,3,4,5,6,7,8,9,10,11,12,13,14,15,16,17,18,19,20,21,22,23,24,25,26,27,28,29,30,31,32,33,34,35,36,37,38,39,40,41,42,43,44,45,46,47,48,49,50,51,52,53,54,55,56,57,58,59,60,61,62,63,64,65,66,67,68,69,70,71,72,73,74,75,76,77,78,79,80,81,82,83],\"y\":[2.3036658670241037,2.303581370206115,2.3023674774619445,2.3033854594309324,2.3025591255451676,2.3020126917000763,2.304184021391646,2.3021149444280398,2.3055924567666883,2.3026856121264028,0.9046816214954208,0.594426548402561,0.6842677791406118,0.6810187496894549,0.6277236910471031,0.6563504421198262,0.37925386803410494,0.29728894485329005,0.27524980599059135,0.24646838157505763,0.252048916167317,0.23434254226442314,0.24225431891269406,0.23451690831809113,0.22506561596385521,0.24215411775850096,0.22344917638881404,0.23097111088225966,0.21439113553400532,0.21245504769651008,0.21863199619778262,0.21745133534723474,0.21188294000628047,0.21688021730393062,0.23070279894279966,0.20962485968364286,0.21353328093822002,0.2242876114481029,0.20931961449471864,0.2113162009111325,0.21346882041558377,0.2084521456366993,0.21884505582888503,0.20329890575022883,0.20144980841203594,0.20304113171902502,0.21913791028453505,0.2140175583055397,0.2323733700921457,0.18036226829505142,0.17630539504658974,0.17574961258110183,0.1747565140506182,0.17441224173927286,0.17332166040869304,0.17030918809569906,0.16942285305987947,0.17213201687125476,0.17006775893864293,0.16940042550583392,0.1681387798653261,0.16999823515828696,0.17085862631169924,0.16720975781933545,0.1659771177265863,0.16960866421860546,0.1675953106114822,0.16778730242937467,0.16672390352079353,0.1646468437348843,0.16437266963897668,0.1641984129677003,0.16392031859369466,0.16410229511457305,0.1638528915932026,0.16335840188208273,0.16341391033204028,0.1636669204108717,0.162826466959011,0.16281519138739997,0.1629313047501958,0.16310930408088162,0.16428766867386588,0.16336881943692322]},{\"marker\":{\"maxdisplayed\":10},\"mode\":\"lines+markers\",\"name\":\"Trial3\",\"type\":\"scatter\",\"x\":[0,1,2,3,4,5,6,7,8,9,10,11,12,13,14,15,16,17,18,19,20,21,22,23,24,25,26,27,28,29,30,31,32,33,34,35,36,37,38,39,40,41,42,43,44,45,46,47,48,49,50,51,52,53,54,55,56,57,58,59,60,61,62,63,64,65,66,67,68,69,70,71,72,73,74,75,76,77,78,79,80,81,82,83,84,85,86,87,88,89,90,91,92],\"y\":[11.325220521989765,5.275575996755244,3.470108661022814,2.556449987076142,1.9761888312769453,1.6076353179229483,1.3709277333794054,1.2181807500975472,1.1084682810437545,1.0225442490734897,0.9421296139339823,0.8675476548435922,0.8010887012376892,0.7390504951005453,0.6853542282031132,0.6369170811805095,0.5922409138836705,0.552285027700466,0.5171654132696296,0.4794698675255199,0.43677753472066183,0.40557468445091466,0.3802758802424421,0.35431179175010097,0.33256157741441833,0.30917281706582056,0.28568530950572446,0.26466182291835216,0.24678135663270945,0.2320153679657768,0.2184395928468023,0.20687454513141085,0.198102694946331,0.1865709912809697,0.1800692283681461,0.17276780393261174,0.1668432962435942,0.1598453358798236,0.15624716362127897,0.1520914261812691,0.14838299724263151,0.1451797908642791,0.14214438408776953,0.13928986021450587,0.13726642146542833,0.13481164482104918,0.13405230596334075,0.1317616810428572,0.13123132570923032,0.1289334366364138,0.1277248087328869,0.1270859757295021,0.1258138736280111,0.1247096414995063,0.12308430819066019,0.12395040776867133,0.12320826550597673,0.12125550321006513,0.12087224337917105,0.11971409631135702,0.11831252616676656,0.11986333279164287,0.11760135793260168,0.11941007479697793,0.1177474780233352,0.11778869967047984,0.11731716978189707,0.11623488452572087,0.11695208908109876,0.11569496313785455,0.11580868871821152,0.11701472156814169,0.11548704236418339,0.11639444951663963,0.11362681128494029,0.11423880610983451,0.1138667636192762,0.11371158546471337,0.11426085225500904,0.11273056751751638,0.11242314771963999,0.1123784224983755,0.11222466322910656,0.1123911247557991,0.11224772416792073,0.11232538116010993,0.11196923345982375,0.11209584342745633,0.11184287914535504,0.11233447205561857,0.11246374654737148,0.11242629902867173,0.11212423345544835]},{\"marker\":{\"maxdisplayed\":10},\"mode\":\"lines+markers\",\"name\":\"Trial4\",\"type\":\"scatter\",\"x\":[0,1,2,3,4,5,6,7,8,9,10,11,12,13,14,15,16,17,18,19,20,21,22,23,24,25,26,27,28,29,30,31,32,33,34,35,36,37,38,39,40,41,42,43,44,45,46,47,48,49,50,51,52,53,54,55,56,57],\"y\":[2.9402430709600464,2.1303643202781686,1.9614629107713695,1.8468951228261004,1.518392343699931,0.9216073314547543,0.5371715450361366,0.3950173942744725,0.3325702604744584,0.2996597183849668,0.2844848909201095,0.27400363150797785,0.2665761626502501,0.25769611116312435,0.254923021268099,0.25160923340730346,0.2490352348200973,0.2415643256930635,0.2471160083580763,0.2426728893406687,0.23959678530041137,0.23710604773089317,0.23605066343396908,0.23589507493935538,0.23208062392286946,0.23012474897038182,0.2314943246096372,0.23003925306163714,0.22918479931354496,0.22819286322221163,0.22526979381218587,0.22891176255047324,0.22526791769452395,0.2242482425263152,0.22151044216100146,0.2234946531020107,0.22122363610845083,0.21994686332158742,0.221937802256085,0.22103239932842528,0.22294934865832336,0.21985628399532284,0.22230387215875105,0.21996120996400684,0.220873692376539,0.2195705015137791,0.21746217719838049,0.22029422160796797,0.21852375717833644,0.21794572835881276,0.21651826080866157,0.2197782448781655,0.21785619413852708,0.21651574254129094,0.21818135443795467,0.21732993063144418,0.21860338519699854,0.21725545853935177]},{\"marker\":{\"maxdisplayed\":10},\"mode\":\"lines+markers\",\"name\":\"Trial5\",\"type\":\"scatter\",\"x\":[0,1,2,3,4,5,6,7,8,9,10,11,12,13,14,15,16,17,18],\"y\":[2.1894581238428756,1.9951748172442119,1.8891703923543293,1.6365521113077799,1.4861356457074484,1.1859351714452104,0.5368377039829891,0.4544979492823283,0.42717262506484976,0.37295747001965834,0.35272372166315713,0.32335619529088344,0.30837360570828115,0.30465039014816286,0.30353717456261314,0.29945963770151135,0.2962299123406411,0.29815235286951075,0.29151817311843237]},{\"marker\":{\"maxdisplayed\":10},\"mode\":\"lines+markers\",\"name\":\"Trial6\",\"type\":\"scatter\",\"x\":[0,1],\"y\":[2.312666095282933,2.332661164133516]},{\"marker\":{\"maxdisplayed\":10},\"mode\":\"lines+markers\",\"name\":\"Trial7\",\"type\":\"scatter\",\"x\":[0,1,2,3,4,5,6,7,8,9,10,11,12,13,14,15,16],\"y\":[2.303619150943804,2.3021646391763166,2.1934806920568857,0.6374707836418351,0.504839002396576,0.4690989054030812,0.43676479199092,0.4682159281711649,0.42727386573171544,0.4323021532215925,0.41443592650878047,0.4305914401395158,0.42729307045551995,0.4221993161983079,0.4359662400458041,0.40442491588984775,0.40197993331327886]},{\"marker\":{\"maxdisplayed\":10},\"mode\":\"lines+markers\",\"name\":\"Trial8\",\"type\":\"scatter\",\"x\":[0,1,2,3,4,5,6,7,8,9,10,11,12,13,14,15,16,17,18,19,20,21,22,23,24,25,26,27,28,29,30,31,32,33,34,35,36,37,38,39,40,41,42,43,44,45,46,47,48,49,50,51,52],\"y\":[1.9477065624509557,2.0895606694902704,2.1113765421935478,2.0294933750799733,2.088443369695128,0.3857350900689401,0.25430418818158,0.24920624098158448,0.2513165269201684,0.2328833371746755,0.2186126124793995,0.30786580447356965,0.2433495856106414,0.21309164677829767,0.2181500778929329,0.2301755335448044,0.22287204877273845,0.2589360433453526,0.1555856055101111,0.14924822984978428,0.14366018026850977,0.14021180289373436,0.14246986892278046,0.13707241882262433,0.13612535248843158,0.1340705905189469,0.12852851878735247,0.12641784275790463,0.12840105210031777,0.12882095479614294,0.12564780094436323,0.12562712603722637,0.12513660568644172,0.12303729406316824,0.12508059437943841,0.1197755262124286,0.1273771240403376,0.12447792721147259,0.12614906443029356,0.12295120655534042,0.11529688183592433,0.11457223268691463,0.11484660263647258,0.11436232293847882,0.11488975874855115,0.1160304312035442,0.11452996751834037,0.11443834985739412,0.11409320234786728,0.11413099194768739,0.11426242994610225,0.11411752603823386,0.11411868468642086]},{\"marker\":{\"maxdisplayed\":10},\"mode\":\"lines+markers\",\"name\":\"Trial9\",\"type\":\"scatter\",\"x\":[0,1,2,3,4,5,6,7,8,9,10,11,12,13,14,15,16,17,18,19,20,21,22,23,24,25,26,27,28,29,30,31,32,33,34,35,36,37,38,39,40,41,42,43,44,45,46,47,48,49,50,51],\"y\":[1.2532825703302435,0.47696858080508314,0.2917183887607421,0.2392960924185217,0.2658568279876444,0.24221468323596332,0.23752486638738626,0.2271995804409095,0.23250352262289492,0.23975055363091463,0.2317477814397033,0.23633847603356684,0.18602165586707334,0.18135528970364626,0.17781435675635676,0.17973220577646679,0.17368673683526012,0.16897784839755745,0.16832729825725792,0.16875158413788494,0.16560869729267313,0.16627768805710133,0.16787248931597082,0.16983676301609152,0.16313167104535567,0.16376061463497005,0.16358480510234494,0.16788413847670486,0.16548686845017274,0.15674534558054204,0.15657218993539496,0.15622004057783537,0.1557981973109637,0.15656341382877711,0.15644568937497141,0.15530433802276228,0.1550184313366831,0.1553167527185577,0.15518488838632827,0.15484428775526154,0.1548663436578577,0.15441017647503655,0.15472115896441768,0.1554602258812794,0.15446455385846952,0.15437167991947995,0.1544052835153017,0.15471452855762505,0.15464457988407276,0.15357257166777183,0.1541724097560779,0.1543105018302686]},{\"marker\":{\"maxdisplayed\":10},\"mode\":\"lines+markers\",\"name\":\"Trial10\",\"type\":\"scatter\",\"x\":[0],\"y\":[20.808611141551616]},{\"marker\":{\"maxdisplayed\":10},\"mode\":\"lines+markers\",\"name\":\"Trial11\",\"type\":\"scatter\",\"x\":[0,1,2,3,4,5,6,7,8,9,10,11,12,13,14,15,16,17,18,19,20,21,22,23,24,25,26,27,28,29,30,31,32,33,34,35,36,37,38,39,40,41,42,43,44,45,46,47,48,49,50,51,52,53,54,55,56,57,58,59,60,61,62,63],\"y\":[0.664193971908611,0.9347085097561709,0.7164965871883476,0.9958177566528322,0.8143870713918107,0.36081815290710195,0.3804711694950643,0.3676481989414794,0.34206184045128196,0.3138826658868271,0.24881799864056334,0.22735851952887087,0.2283254550526972,0.1942482469198497,0.1988354014475708,0.20418289977571233,0.1868453774439253,0.1862765472868214,0.21910053224343318,0.19496429956153685,0.1781825017993865,0.19427790154257543,0.17187934099980015,0.1917922963266787,0.18739629603274507,0.19894357890538553,0.1969559555792291,0.13677056416383254,0.13206026634282386,0.12806077536357482,0.12953580106892013,0.12800032993697605,0.12558447048068042,0.12582526207780045,0.1205168989770438,0.12150080346542856,0.11993758985367815,0.11733759580099067,0.11401369587882708,0.11090216007812512,0.11583240309163283,0.11237187954070772,0.10879456714281571,0.1078772318670931,0.10709329749579015,0.10447622108394693,0.10339885275082093,0.10330909814523619,0.10356119692163619,0.09855136671710925,0.10233549578925186,0.09935511534466693,0.10133540337176429,0.1059323900986625,0.09682263836831503,0.09553523451575767,0.09572545202934869,0.09553158467878466,0.09511967177057394,0.09494087435305124,0.09541677363702776,0.0950992169344555,0.09524656411098395,0.09532435342021608]},{\"marker\":{\"maxdisplayed\":10},\"mode\":\"lines+markers\",\"name\":\"Trial12\",\"type\":\"scatter\",\"x\":[0,1,2,3,4,5,6],\"y\":[1.240115304164289,1.443365896763823,1.8081855143132226,2.199117954536403,2.0705678628699142,0.8229896150896902,0.627414581486997]},{\"marker\":{\"maxdisplayed\":10},\"mode\":\"lines+markers\",\"name\":\"Trial13\",\"type\":\"scatter\",\"x\":[0],\"y\":[2.9974800317715373]},{\"marker\":{\"maxdisplayed\":10},\"mode\":\"lines+markers\",\"name\":\"Trial14\",\"type\":\"scatter\",\"x\":[0,1],\"y\":[2.302144078107982,2.2919183077512075]},{\"marker\":{\"maxdisplayed\":10},\"mode\":\"lines+markers\",\"name\":\"Trial15\",\"type\":\"scatter\",\"x\":[0],\"y\":[4.437057064290632]},{\"marker\":{\"maxdisplayed\":10},\"mode\":\"lines+markers\",\"name\":\"Trial16\",\"type\":\"scatter\",\"x\":[0,1,2,3,4,5,6,7,8,9,10,11,12,13,14,15,16,17,18,19,20,21,22,23,24,25,26,27,28,29,30,31,32,33,34,35,36,37,38],\"y\":[0.341369068460031,0.23481265076182095,0.25486529800024915,0.2719383932108227,0.28811112062497574,0.26666516826911413,0.15853421605446127,0.1528846823491833,0.1512402440743012,0.14619152788411485,0.1445542238246311,0.14538699421015655,0.14789278824898322,0.1426332444562155,0.1386211209676483,0.14140764822336768,0.13953703496266492,0.13591199724511674,0.13926245566118847,0.13575559368187728,0.13739900322123014,0.14109563946723938,0.13668449022553195,0.1319772550395945,0.13653325154700072,0.13489782762121058,0.13817464863034815,0.1314069325070489,0.13637682268565357,0.13930859321897676,0.13250355423174118,0.13421208506280732,0.12347084072503169,0.12330621196465065,0.12279672817750409,0.12314318846572526,0.1235440301895142,0.12398926545950503,0.12387153910642316]},{\"marker\":{\"maxdisplayed\":10},\"mode\":\"lines+markers\",\"name\":\"Trial17\",\"type\":\"scatter\",\"x\":[0],\"y\":[2.3014261027744833]},{\"marker\":{\"maxdisplayed\":10},\"mode\":\"lines+markers\",\"name\":\"Trial18\",\"type\":\"scatter\",\"x\":[0],\"y\":[2.419908237960533]},{\"marker\":{\"maxdisplayed\":10},\"mode\":\"lines+markers\",\"name\":\"Trial19\",\"type\":\"scatter\",\"x\":[0],\"y\":[2.2476738331809876]},{\"marker\":{\"maxdisplayed\":10},\"mode\":\"lines+markers\",\"name\":\"Trial20\",\"type\":\"scatter\",\"x\":[0],\"y\":[6.32681932385336]},{\"marker\":{\"maxdisplayed\":10},\"mode\":\"lines+markers\",\"name\":\"Trial21\",\"type\":\"scatter\",\"x\":[0,1,2,3,4,5,6,7,8,9,10,11,12,13,14,15,16,17,18,19,20,21,22,23,24,25,26,27],\"y\":[0.3877620793293032,0.29359989052408186,0.3859512593304173,0.2882959531264359,0.37371475576015,0.3424660315674343,0.3241518910011548,0.3260871996538024,0.20351849538221792,0.1862772453701898,0.18442707374859396,0.17750230079956258,0.17439798085709637,0.17047847068627905,0.17059001933490298,0.16969896359055228,0.17262495083085605,0.15803861415034595,0.17991671828406586,0.16616978132155502,0.16811073843515317,0.1638747767932462,0.15119255606210635,0.1464429818214116,0.1503258515358641,0.1519129563415988,0.14794652549068585,0.14884963912073143]},{\"marker\":{\"maxdisplayed\":10},\"mode\":\"lines+markers\",\"name\":\"Trial22\",\"type\":\"scatter\",\"x\":[0],\"y\":[2.299576956340249]},{\"marker\":{\"maxdisplayed\":10},\"mode\":\"lines+markers\",\"name\":\"Trial23\",\"type\":\"scatter\",\"x\":[0,1,2,3,4,5,6,7,8,9,10,11,12,13,14,15,16,17,18,19,20,21,22,23,24,25,26,27,28,29,30,31,32,33,34,35,36],\"y\":[1.250798123223441,0.5723646167589693,0.4185849999894901,0.3205144335420764,0.31691649282465173,0.27219017458205325,0.2592294207032847,0.2606662411470803,0.24473523880754197,0.24478803027649318,0.22927503941618668,0.23590898909130872,0.24157126035009108,0.2518204231651462,0.23739308210051788,0.18855100109869122,0.18470967925932946,0.18497147852060747,0.18325421335745826,0.1797153899560169,0.17995169424280832,0.17904974657053854,0.1814031372873151,0.17676173226565733,0.1808606562565784,0.17581815789548716,0.17561688958382124,0.1741158658144425,0.17841110150424802,0.1764729076198169,0.17470781839623736,0.17732866640601844,0.16788924135723887,0.16873834160517676,0.16816548425324113,0.1675525681704891,0.16685765951263662]},{\"marker\":{\"maxdisplayed\":10},\"mode\":\"lines+markers\",\"name\":\"Trial24\",\"type\":\"scatter\",\"x\":[0,1,2,3,4,5],\"y\":[1.1955314778029658,1.4477026891218472,1.7732906518461498,2.095992981026709,2.1036387581259155,0.7188716628780102]},{\"marker\":{\"maxdisplayed\":10},\"mode\":\"lines+markers\",\"name\":\"Trial25\",\"type\":\"scatter\",\"x\":[0,1,2,3,4,5],\"y\":[1.5563551678762328,1.368583235766861,2.3022712757299235,2.957067789612237,2.301730296113987,2.3024291730189073]},{\"marker\":{\"maxdisplayed\":10},\"mode\":\"lines+markers\",\"name\":\"Trial26\",\"type\":\"scatter\",\"x\":[0,1,2,3,4,5,6,7,8,9,10,11,12,13,14,15,16,17,18,19,20,21,22,23,24,25,26,27,28,29,30,31,32,33,34,35,36],\"y\":[0.7678686699201895,0.40236444043558695,0.29203155290248783,0.23018551253995226,0.209341517194759,0.19359216631151915,0.17922848480385403,0.18964032759500102,0.18743297925522162,0.17092210435590077,0.17301234221735667,0.1609703616000885,0.1689587680752887,0.17340388859427253,0.15950462274080104,0.16352073293785724,0.1675284995242607,0.16700669603292334,0.1738497509166252,0.13018992421931996,0.12478585160055826,0.12502477422010067,0.12547768817044966,0.12517518732090333,0.12642659801383355,0.12286655968704888,0.12255338024954461,0.12253288942020994,0.1220752239920372,0.12250582943128988,0.12243371110322865,0.12211960710065312,0.12152141523222591,0.12193895885071089,0.12163710212984749,0.12237949305495552,0.12195471189049786]},{\"marker\":{\"maxdisplayed\":10},\"mode\":\"lines+markers\",\"name\":\"Trial27\",\"type\":\"scatter\",\"x\":[0,1,2,3,4,5,6,7,8,9,10,11,12,13,14,15,16,17,18,19,20,21,22,23,24,25,26,27,28,29,30,31,32,33,34,35,36,37,38,39,40],\"y\":[0.4343994580152991,0.20724530129904137,0.15989341270262358,0.14923994468613633,0.16691396224574645,0.1586317029610458,0.17151137456659382,0.1361751312038031,0.1508430220605087,0.15287730900228366,0.15220725345832292,0.16603089240828534,0.10107950839527653,0.09877955800420331,0.09827072758127041,0.09735172845460328,0.09763842897674013,0.09733511994420466,0.09866570498151483,0.09798559774692543,0.09847722930060393,0.10029407639947079,0.0934715397400988,0.09307407421642885,0.09335492532532708,0.09295614495434121,0.09306456578193979,0.09321289619186708,0.09286302619267746,0.09273871882629496,0.09304859739031575,0.09338639983859447,0.0925980050345418,0.09311881322523811,0.09289782508432019,0.09296121788606207,0.0925000230835601,0.0929454838193278,0.092979614221273,0.09278971600767645,0.09277754630127341]},{\"marker\":{\"maxdisplayed\":10},\"mode\":\"lines+markers\",\"name\":\"Trial28\",\"type\":\"scatter\",\"x\":[0],\"y\":[2.261209383668346]},{\"marker\":{\"maxdisplayed\":10},\"mode\":\"lines+markers\",\"name\":\"Trial29\",\"type\":\"scatter\",\"x\":[0,1,2,3,4,5,6,7,8,9,10,11,12,13,14,15,16,17,18,19,20,21,22,23,24,25,26,27,28,29,30,31,32,33,34,35,36,37],\"y\":[1.208384757411891,0.5761533373131837,0.4068618780965436,0.3118698009257687,0.24065933819731766,0.1959067248129125,0.1693160196380882,0.1477145204834383,0.13316378764936632,0.13644599182338546,0.12021292439372888,0.12119516667685118,0.11823721727805922,0.1086425979718052,0.11641538984559731,0.10435481009812188,0.1099216971417953,0.10086665329812418,0.1105757391658323,0.10729064920852921,0.10576309130430736,0.1116997460224505,0.08492643495315105,0.08187704287662075,0.08233190767852397,0.08298204903458728,0.08318337220056306,0.08276456633004647,0.08162694016535732,0.0814066710721316,0.08153004379108034,0.08125911913169873,0.08147739800463975,0.08117592570789416,0.08141386475221347,0.08135507575332603,0.08126470144709638,0.08121630146392968]},{\"marker\":{\"maxdisplayed\":10},\"mode\":\"lines+markers\",\"name\":\"Trial30\",\"type\":\"scatter\",\"x\":[0,1,2,3,4,5,6,7,8,9,10,11,12,13,14,15,16,17,18,19,20,21,22,23,24,25,26,27,28,29,30,31,32,33,34,35,36,37],\"y\":[0.4917889185310375,0.26861792837640597,0.1931728112024224,0.1552618623945893,0.1502707144220267,0.13932639875683955,0.1411784454766246,0.12588005287567694,0.13923898563016113,0.12983536080338645,0.13350164028879027,0.1283853235616675,0.09052625648187715,0.08660018008308312,0.08696886528848717,0.08480075062038052,0.08575289630580965,0.08704954036069798,0.08440384967126417,0.08536802956248889,0.08820770916258941,0.08536221787111388,0.08394148426640238,0.08466200948236036,0.08550556012754883,0.08546507038014528,0.08597159066406611,0.08076300735643438,0.08063462087228322,0.07998867070827337,0.07978519444356418,0.08050910404916135,0.08032133121316022,0.07954993568421377,0.08020768861152576,0.07963634938188405,0.0799732577689194,0.08008483382128684]},{\"marker\":{\"maxdisplayed\":10},\"mode\":\"lines+markers\",\"name\":\"Trial31\",\"type\":\"scatter\",\"x\":[0,1,2,3,4,5,6,7,8,9,10,11,12,13,14,15,16,17,18,19,20,21,22,23,24,25,26,27,28,29,30,31,32,33,34,35,36,37,38],\"y\":[0.6293982220683917,0.34024354295602727,0.2136010719271257,0.15156347324039196,0.1348718228544988,0.11795083026617013,0.1347333962580288,0.11297244965656553,0.11097175976738832,0.11808985738151168,0.10955949705535112,0.11057558767290003,0.10943567657889927,0.11828532015702438,0.12723088465387133,0.12300374560592525,0.11090335520217845,0.08335650637019473,0.08390874477897177,0.08112242136638319,0.08048029380401696,0.0810521508030033,0.08142493227444854,0.08232987134180399,0.08037666718716781,0.08038240845618677,0.07905422648788532,0.08205444948140703,0.08148431341088583,0.08373160940312202,0.08023740284399111,0.07764821411512567,0.07763837215628143,0.07740409099328276,0.07695315656457147,0.07732550435229965,0.07749661267540497,0.07702875602601256,0.0771086861964439]},{\"marker\":{\"maxdisplayed\":10},\"mode\":\"lines+markers\",\"name\":\"Trial32\",\"type\":\"scatter\",\"x\":[0,1,2,3,4,5,6,7,8,9,10,11,12,13,14,15,16,17,18,19,20,21,22,23,24,25,26,27,28,29,30,31,32,33,34,35,36,37,38,39,40,41,42,43,44,45],\"y\":[0.5407807597219141,0.30160402966950933,0.1912742774633232,0.14676457012026772,0.1339298000831792,0.15986400918636307,0.12965435780418236,0.13060489864540376,0.13353895743410316,0.12266115919967019,0.11893628370067294,0.10801327631614475,0.11275018168850563,0.11724071059158948,0.10856995179613191,0.15804922687606543,0.08383924587690297,0.08347436911262432,0.08401248048168172,0.0842393557642029,0.08221816179168413,0.084044306960492,0.0824196060316834,0.08321697420130175,0.08196222017958338,0.08139092873322576,0.08181151106630566,0.08039203981129418,0.08049489130697605,0.0802643748686767,0.08097738791433814,0.07961170363610957,0.08123500407787,0.07966592137482234,0.0804785005596837,0.07977422412489933,0.0771958293862701,0.0764813933819331,0.07674737054814249,0.07651106257819465,0.07657136329699582,0.07632742365847435,0.07696471697093062,0.07658923960727487,0.07643249814794846,0.07695210502460234]},{\"marker\":{\"maxdisplayed\":10},\"mode\":\"lines+markers\",\"name\":\"Trial33\",\"type\":\"scatter\",\"x\":[0,1,2,3,4,5,6,7,8,9,10,11,12,13,14,15,16,17,18,19,20,21,22,23,24,25,26,27,28],\"y\":[0.5825679538049667,0.3275082565081841,0.21554019841236813,0.15927076583152744,0.12171075731480553,0.12689500804902204,0.1203092268963414,0.12803612437684744,0.12676403338094647,0.12141820130147901,0.1291534587208353,0.07990852859928742,0.07804197340517187,0.08143681381907321,0.0801160895331261,0.08118871578739748,0.07944013257346909,0.07710856980856177,0.07680669738494639,0.07705842813623318,0.07659076619514729,0.07640616784912103,0.07642120695332198,0.07659207642214681,0.0762427039684218,0.07678819784950112,0.07656749406688135,0.07663366532705343,0.07708115481107738]},{\"marker\":{\"maxdisplayed\":10},\"mode\":\"lines+markers\",\"name\":\"Trial34\",\"type\":\"scatter\",\"x\":[0],\"y\":[0.9609201347864252]},{\"marker\":{\"maxdisplayed\":10},\"mode\":\"lines+markers\",\"name\":\"Trial35\",\"type\":\"scatter\",\"x\":[0],\"y\":[2.0061157942519467]},{\"marker\":{\"maxdisplayed\":10},\"mode\":\"lines+markers\",\"name\":\"Trial36\",\"type\":\"scatter\",\"x\":[0,1,2,3,4,5,6,7,8,9,10,11,12,13,14,15,16,17,18,19,20,21,22,23,24,25,26,27,28,29,30,31,32,33,34,35,36,37,38,39,40,41,42],\"y\":[0.45096231380907387,0.24076125849611496,0.18560018561458086,0.18622285764043534,0.14670729464612528,0.16171573655596244,0.12768452604546035,0.13296784903109368,0.14646826189112835,0.1516657887319198,0.13682475036237005,0.08860960454405406,0.08320956604513464,0.08118445092053984,0.08034078713740775,0.08009785703884868,0.08147946908287945,0.08106483983693831,0.08116068907876088,0.07996588568979256,0.0798471627267412,0.0762882877726299,0.07763721899932419,0.07979569494730246,0.07908187251245496,0.07795868693844961,0.07344183455764626,0.07255632468261934,0.07220153639858697,0.07245288585396246,0.0725024205032521,0.07220577028317329,0.07206924879499593,0.07216505842799771,0.07205593328511055,0.07276611302185282,0.07437775622701086,0.07247570474133581,0.07187104103444976,0.07323745998497218,0.07222575019841312,0.0724752327869049,0.07246350098508761]},{\"marker\":{\"maxdisplayed\":10},\"mode\":\"lines+markers\",\"name\":\"Trial37\",\"type\":\"scatter\",\"x\":[0,1,2,3,4,5,6,7,8,9,10,11,12,13,14,15,16,17,18,19,20,21,22,23,24,25,26,27,28,29,30,31,32,33,34,35,36,37,38,39,40,41,42,43,44,45,46],\"y\":[0.6136258781498132,0.3068525816093789,0.2305684114552356,0.19054818830706854,0.16761327987367453,0.17703010890632853,0.1631295931542462,0.16332069909708063,0.14920067383484412,0.14827203850854534,0.14094109834595162,0.14880246778780762,0.13799090085720464,0.13858005355027594,0.14319683709605197,0.14813139458948918,0.16746509793807157,0.09625879951160053,0.09289432368156579,0.09111583888869396,0.09062990955500448,0.09354924174364318,0.0859233962236481,0.08776786614886731,0.08600942789830943,0.0849539873901416,0.0853507934781638,0.08594008456915611,0.08549963065169071,0.08453233009034938,0.08408415370028126,0.08293087568811398,0.0852682011947036,0.08506975249641321,0.08394038004631353,0.08367827902802007,0.07985605021938685,0.07873054022477435,0.07971778841519893,0.07835234163836997,0.07813000774180345,0.07802389369430872,0.07784998359158629,0.07819422902539376,0.07869379354471509,0.07868322905322367,0.07799615753475907]},{\"marker\":{\"maxdisplayed\":10},\"mode\":\"lines+markers\",\"name\":\"Trial38\",\"type\":\"scatter\",\"x\":[0,1,2,3,4,5,6],\"y\":[0.29409296904532023,0.21742826183396344,0.23167238572594454,0.20038488583252356,0.2228043733984313,0.18210565587565528,0.19928745292196912]},{\"marker\":{\"maxdisplayed\":10},\"mode\":\"lines+markers\",\"name\":\"Trial39\",\"type\":\"scatter\",\"x\":[0,1,2,3,4,5,6],\"y\":[0.29496188492886727,0.2280967867150902,0.22530321819521495,0.20252743840310716,0.1904497734596953,0.21737082221265872,0.2019080290351993]},{\"marker\":{\"maxdisplayed\":10},\"mode\":\"lines+markers\",\"name\":\"Trial40\",\"type\":\"scatter\",\"x\":[0],\"y\":[2.442102820302049]},{\"marker\":{\"maxdisplayed\":10},\"mode\":\"lines+markers\",\"name\":\"Trial41\",\"type\":\"scatter\",\"x\":[0],\"y\":[0.7655384436122376]},{\"marker\":{\"maxdisplayed\":10},\"mode\":\"lines+markers\",\"name\":\"Trial42\",\"type\":\"scatter\",\"x\":[0],\"y\":[0.9642223848828246]},{\"marker\":{\"maxdisplayed\":10},\"mode\":\"lines+markers\",\"name\":\"Trial43\",\"type\":\"scatter\",\"x\":[0],\"y\":[1.6013820643093493]},{\"marker\":{\"maxdisplayed\":10},\"mode\":\"lines+markers\",\"name\":\"Trial44\",\"type\":\"scatter\",\"x\":[0,1,2,3,4,5,6],\"y\":[0.48644319710400785,0.23817057085009463,0.1862104000623953,0.20450254330338286,0.20211766170642442,0.1999698477617888,0.19671634002733282]},{\"marker\":{\"maxdisplayed\":10},\"mode\":\"lines+markers\",\"name\":\"Trial45\",\"type\":\"scatter\",\"x\":[0,1],\"y\":[0.6148250193003846,0.40064501479868103]},{\"marker\":{\"maxdisplayed\":10},\"mode\":\"lines+markers\",\"name\":\"Trial46\",\"type\":\"scatter\",\"x\":[0],\"y\":[0.7108617495066422]},{\"marker\":{\"maxdisplayed\":10},\"mode\":\"lines+markers\",\"name\":\"Trial47\",\"type\":\"scatter\",\"x\":[0,1,2,3,4,5,6,7,8,9,10,11,12],\"y\":[0.37531301851432114,0.23856101446271602,0.21480519167828163,0.17087615561411845,0.16805474699485307,0.16798317578668973,0.16401045462594205,0.19934953516647694,0.15908777682283795,0.17534271836913656,0.1826748306857786,0.16046124467035172,0.19011222326811636]},{\"marker\":{\"maxdisplayed\":10},\"mode\":\"lines+markers\",\"name\":\"Trial48\",\"type\":\"scatter\",\"x\":[0],\"y\":[1.828943907487683]},{\"marker\":{\"maxdisplayed\":10},\"mode\":\"lines+markers\",\"name\":\"Trial49\",\"type\":\"scatter\",\"x\":[0],\"y\":[0.8522052957113522]},{\"marker\":{\"maxdisplayed\":10},\"mode\":\"lines+markers\",\"name\":\"Trial50\",\"type\":\"scatter\",\"x\":[0],\"y\":[0.8883701833018229]},{\"marker\":{\"maxdisplayed\":10},\"mode\":\"lines+markers\",\"name\":\"Trial51\",\"type\":\"scatter\",\"x\":[0,1,2,3,4,5,6,7,8,9,10,11,12,13,14,15,16,17,18,19,20,21,22,23,24,25,26,27,28,29,30,31,32,33,34,35,36,37,38,39,40,41,42,43,44],\"y\":[0.4831800637984571,0.25512198241950385,0.1953684999389649,0.15460954111325417,0.15399527423661083,0.15140058380164959,0.13842505471759114,0.13503267646260686,0.1251642405251531,0.12193429320560475,0.1315362211398518,0.14034884344590345,0.156273604081998,0.1491410063895566,0.09119846169872217,0.08814723310414817,0.0885442433067276,0.08844433743670055,0.08582964748394682,0.08695254563245033,0.08705472910901998,0.08752066107216282,0.08451014057711326,0.08768099296582067,0.08534285801936656,0.0843486160786048,0.08689548786217624,0.08748668669695737,0.08466119935452857,0.08577695011014211,0.08135355539668936,0.08095450513201026,0.08107963680801637,0.08079017212271297,0.0807137477772626,0.08050382285711104,0.08073519130662213,0.08068863548915721,0.08059922142542507,0.08080370396468241,0.08045786882788811,0.08073732484001332,0.08047592777170628,0.08049514199530827,0.08077959630131847]},{\"marker\":{\"maxdisplayed\":10},\"mode\":\"lines+markers\",\"name\":\"Trial52\",\"type\":\"scatter\",\"x\":[0,1,2,3,4,5,6,7,8,9,10,11,12,13,14,15,16,17,18,19,20,21,22,23,24,25,26,27,28,29,30,31,32,33,34,35,36,37,38,39,40,41,42,43,44,45,46,47,48,49,50,51,52,53,54,55],\"y\":[0.40336264932856863,0.2133489333202736,0.17620909776976892,0.16004229468567416,0.15037794426083553,0.14662479255129302,0.14300960213274647,0.13781458490692516,0.14580948110888975,0.14471973390044543,0.14869075263905165,0.13719403712626765,0.1548104098417303,0.15125660458470103,0.145687819096972,0.14989368499037548,0.09894477601437006,0.09642778035910692,0.09453525508480037,0.09509530536611283,0.09288870751036005,0.09234729672179498,0.09450525584028051,0.09138326067915731,0.09195493087939466,0.09049252801739113,0.09077447880059476,0.0924156256688429,0.09002125053392612,0.09134043995838838,0.0908605817376691,0.0939080743754611,0.08955678315833202,0.08780946451074943,0.09079328291665974,0.09053244769792347,0.09022730128510918,0.08751135173089356,0.08945885198409939,0.0897477891953553,0.09014201440793619,0.08911572116262774,0.08408852155703835,0.08391273546525652,0.08408488782561,0.08437243095215634,0.08389780022642195,0.08439433544435923,0.08433062123463432,0.08452980104943411,0.08387714202351426,0.08383903613971429,0.08433910435503902,0.08450436783954503,0.08460724727086283,0.08408508952926187]},{\"marker\":{\"maxdisplayed\":10},\"mode\":\"lines+markers\",\"name\":\"Trial53\",\"type\":\"scatter\",\"x\":[0,1,2,3,4,5,6,7,8,9,10,11,12,13,14,15,16,17,18,19,20,21,22,23,24,25,26,27,28,29,30,31,32,33,34,35,36,37,38,39,40,41],\"y\":[0.42690219444949085,0.2445620498107524,0.18239553080221105,0.1640232734061314,0.14568885048610744,0.16025128325171167,0.14865920402145272,0.1352791304579762,0.13271901188819313,0.14542688012265695,0.1404685815840817,0.16350871007265655,0.1691118303383365,0.08758497135669138,0.08306372763687066,0.08513841791853809,0.08448024793710716,0.08254871648874432,0.08170448596985855,0.08606740328345144,0.08012199906730338,0.08066704335876496,0.07696461485939451,0.08000903249089941,0.07989146234913237,0.0768649650884694,0.07841841646349819,0.07996567369229274,0.07566830497145942,0.0775273396682582,0.07678964730066978,0.07742655491144458,0.07658290353706149,0.07249613526014338,0.07148185549704938,0.07107096436126019,0.07120090067992653,0.0707608246819326,0.07119333455740125,0.07143933413790883,0.07131461519525169,0.07078817434626761]},{\"marker\":{\"maxdisplayed\":10},\"mode\":\"lines+markers\",\"name\":\"Trial54\",\"type\":\"scatter\",\"x\":[0,1,2,3,4],\"y\":[0.5012831178150681,0.3219798938438083,0.25400428024775656,0.2193467037030385,0.23064560127671824]},{\"marker\":{\"maxdisplayed\":10},\"mode\":\"lines+markers\",\"name\":\"Trial55\",\"type\":\"scatter\",\"x\":[0,1],\"y\":[0.5957372159391016,0.401205023998147]},{\"marker\":{\"maxdisplayed\":10},\"mode\":\"lines+markers\",\"name\":\"Trial56\",\"type\":\"scatter\",\"x\":[0],\"y\":[2.18753282546997]},{\"marker\":{\"maxdisplayed\":10},\"mode\":\"lines+markers\",\"name\":\"Trial57\",\"type\":\"scatter\",\"x\":[0,1,2,3,4,5],\"y\":[0.33057128990371815,0.21483554292855606,0.20350320409671435,0.23598855381528738,0.22484989431250868,0.22068024841435438]},{\"marker\":{\"maxdisplayed\":10},\"mode\":\"lines+markers\",\"name\":\"Trial58\",\"type\":\"scatter\",\"x\":[0,1,2],\"y\":[0.31644877282503486,0.3647072180939306,0.3855060987756587]},{\"marker\":{\"maxdisplayed\":10},\"mode\":\"lines+markers\",\"name\":\"Trial59\",\"type\":\"scatter\",\"x\":[0],\"y\":[2.305297729296561]},{\"marker\":{\"maxdisplayed\":10},\"mode\":\"lines+markers\",\"name\":\"Trial60\",\"type\":\"scatter\",\"x\":[0,1,2],\"y\":[0.2778096215542921,0.2984833346601731,0.3362431232622283]},{\"marker\":{\"maxdisplayed\":10},\"mode\":\"lines+markers\",\"name\":\"Trial61\",\"type\":\"scatter\",\"x\":[0,1,2,3,4,5,6,7,8,9,10,11,12,13,14,15,16,17,18,19,20,21,22,23,24,25,26,27,28,29,30,31,32,33,34,35,36,37,38,39,40,41,42,43,44,45,46,47,48,49,50,51,52],\"y\":[0.4901763217902816,0.28243702459272696,0.18302338835742096,0.14014728851946054,0.15738454259688905,0.13270920785082144,0.14496907980317245,0.12113027438414242,0.12449435498029722,0.1325073839037522,0.12799767183657076,0.13643583421290456,0.09046224866781495,0.08816394498272988,0.08781367694584043,0.08808754186405576,0.0871310421879676,0.08608240032036972,0.08481913675611796,0.08365186724391463,0.08378405592391944,0.08563055394452265,0.0833270906463505,0.08271706245985887,0.08282115580143197,0.08318162638698161,0.08159809432247966,0.08350459275256207,0.08278929701165619,0.08136334257979211,0.08237445525736427,0.08176440080479451,0.08258779779740048,0.08072977894669885,0.08146276329829466,0.08035382952240284,0.08221368066888243,0.07962446341155081,0.08175220405085391,0.08089897604669502,0.08050474153617317,0.08074659792205681,0.07736171961481794,0.07692131796847627,0.07735027093594819,0.0775699386820279,0.07669488849959012,0.07708467767817027,0.07643958191548061,0.07697319653476548,0.07703539099754447,0.07723356697417844,0.07745986946124946]},{\"marker\":{\"maxdisplayed\":10},\"mode\":\"lines+markers\",\"name\":\"Trial62\",\"type\":\"scatter\",\"x\":[0,1,2,3,4,5,6,7],\"y\":[0.3996071846534811,0.2309918155209014,0.16973971324169068,0.1662824147521224,0.15808541135496743,0.15230279613805073,0.16454649133582241,0.15485950717787553]},{\"marker\":{\"maxdisplayed\":10},\"mode\":\"lines+markers\",\"name\":\"Trial63\",\"type\":\"scatter\",\"x\":[0,1,2,3,4,5,6,7,8,9,10],\"y\":[0.3380418862655477,0.1999127021656847,0.19329003129013872,0.1723127685346693,0.17671504578781574,0.1611850113484939,0.14906557908738569,0.1785592568054233,0.16919513707453343,0.1793218794902611,0.15462938540808438]},{\"marker\":{\"maxdisplayed\":10},\"mode\":\"lines+markers\",\"name\":\"Trial64\",\"type\":\"scatter\",\"x\":[0],\"y\":[0.7162105673752681]},{\"marker\":{\"maxdisplayed\":10},\"mode\":\"lines+markers\",\"name\":\"Trial65\",\"type\":\"scatter\",\"x\":[0],\"y\":[0.8446243380159131]},{\"marker\":{\"maxdisplayed\":10},\"mode\":\"lines+markers\",\"name\":\"Trial66\",\"type\":\"scatter\",\"x\":[0],\"y\":[0.9580416558769406]},{\"marker\":{\"maxdisplayed\":10},\"mode\":\"lines+markers\",\"name\":\"Trial67\",\"type\":\"scatter\",\"x\":[0],\"y\":[5.5953045772016035]},{\"marker\":{\"maxdisplayed\":10},\"mode\":\"lines+markers\",\"name\":\"Trial68\",\"type\":\"scatter\",\"x\":[0,1,2,3,4,5],\"y\":[0.3211597125990142,0.2274750731186079,0.1966417765147776,0.1875714022556123,0.20017992069186663,0.20516648499396517]},{\"marker\":{\"maxdisplayed\":10},\"mode\":\"lines+markers\",\"name\":\"Trial69\",\"type\":\"scatter\",\"x\":[0],\"y\":[113.80775109026428]},{\"marker\":{\"maxdisplayed\":10},\"mode\":\"lines+markers\",\"name\":\"Trial70\",\"type\":\"scatter\",\"x\":[0],\"y\":[0.6788014020848935]},{\"marker\":{\"maxdisplayed\":10},\"mode\":\"lines+markers\",\"name\":\"Trial71\",\"type\":\"scatter\",\"x\":[0],\"y\":[0.6703936547842794]},{\"marker\":{\"maxdisplayed\":10},\"mode\":\"lines+markers\",\"name\":\"Trial72\",\"type\":\"scatter\",\"x\":[0,1,2,3],\"y\":[0.2806220532454612,0.26548434617023786,0.24137441957146338,0.23424633868910313]},{\"marker\":{\"maxdisplayed\":10},\"mode\":\"lines+markers\",\"name\":\"Trial73\",\"type\":\"scatter\",\"x\":[0],\"y\":[0.8800741060802139]},{\"marker\":{\"maxdisplayed\":10},\"mode\":\"lines+markers\",\"name\":\"Trial74\",\"type\":\"scatter\",\"x\":[0,1,2,3,4,5,6,7],\"y\":[0.3360065165388636,0.18518162927564377,0.17806668412259424,0.17821947776172015,0.17115612118853943,0.18022679598359842,0.1652341498903595,0.1701512165293817]},{\"marker\":{\"maxdisplayed\":10},\"mode\":\"lines+markers\",\"name\":\"Trial75\",\"type\":\"scatter\",\"x\":[0,1,2,3,4,5],\"y\":[0.36805430373007614,0.23201684060421868,0.19660086816007438,0.20021850309588698,0.18793246813795772,0.20912649842825803]},{\"marker\":{\"maxdisplayed\":10},\"mode\":\"lines+markers\",\"name\":\"Trial76\",\"type\":\"scatter\",\"x\":[0],\"y\":[1.990773126040629]},{\"marker\":{\"maxdisplayed\":10},\"mode\":\"lines+markers\",\"name\":\"Trial77\",\"type\":\"scatter\",\"x\":[0],\"y\":[0.7144675583908551]},{\"marker\":{\"maxdisplayed\":10},\"mode\":\"lines+markers\",\"name\":\"Trial78\",\"type\":\"scatter\",\"x\":[0],\"y\":[1.5256646358966826]},{\"marker\":{\"maxdisplayed\":10},\"mode\":\"lines+markers\",\"name\":\"Trial79\",\"type\":\"scatter\",\"x\":[0],\"y\":[1.4305183108150972]},{\"marker\":{\"maxdisplayed\":10},\"mode\":\"lines+markers\",\"name\":\"Trial80\",\"type\":\"scatter\",\"x\":[0,1,2],\"y\":[0.5720804455952768,0.284315665435587,0.2819037863140943]},{\"marker\":{\"maxdisplayed\":10},\"mode\":\"lines+markers\",\"name\":\"Trial81\",\"type\":\"scatter\",\"x\":[0,1,2,3,4,5,6,7,8,9,10,11,12,13,14,15,16],\"y\":[0.46095098637872245,0.2633700859161059,0.1910663095319219,0.15821203093550973,0.1371792919378269,0.13681977253940975,0.1484959113237323,0.14101753912441303,0.1411487584067673,0.13312868220590013,0.13653479750289954,0.13687463204120406,0.13230252829080796,0.13170199225280896,0.15435278240580397,0.14897298725724928,0.13182208626068123]},{\"marker\":{\"maxdisplayed\":10},\"mode\":\"lines+markers\",\"name\":\"Trial82\",\"type\":\"scatter\",\"x\":[0],\"y\":[0.6531437660101801]},{\"marker\":{\"maxdisplayed\":10},\"mode\":\"lines+markers\",\"name\":\"Trial83\",\"type\":\"scatter\",\"x\":[0],\"y\":[0.9126312210135267]},{\"marker\":{\"maxdisplayed\":10},\"mode\":\"lines+markers\",\"name\":\"Trial84\",\"type\":\"scatter\",\"x\":[0,1,2],\"y\":[0.4562071013450622,0.3029729528725148,0.3003601219058036]},{\"marker\":{\"maxdisplayed\":10},\"mode\":\"lines+markers\",\"name\":\"Trial85\",\"type\":\"scatter\",\"x\":[0,1,2,3,4,5,6,7,8,9,10,11,12,13,14,15,16,17,18,19,20,21,22,23,24,25,26,27,28],\"y\":[0.46176528950138934,0.2586630774299398,0.16253475509256135,0.13291766505238195,0.14961556367591555,0.12870542994096848,0.17468201985686818,0.13077150032070786,0.13896482798808843,0.13474196610359127,0.09336902425040186,0.09165108579020043,0.0919556400254678,0.09228468435000835,0.0935077999022406,0.09339734196362105,0.08836386537595838,0.08845321642327474,0.0883269440276669,0.08818908261258623,0.08821307983361253,0.08819287094744563,0.08798382196606262,0.08799467481794238,0.08795596861934157,0.08789395776579224,0.0883689641780905,0.08835228079617576,0.08781002219342166]},{\"marker\":{\"maxdisplayed\":10},\"mode\":\"lines+markers\",\"name\":\"Trial86\",\"type\":\"scatter\",\"x\":[0,1,2,3,4,5,6,7,8,9,10,11,12,13,14,15,16,17,18,19,20,21,22,23,24,25,26,27,28,29,30,31,32,33,34,35,36,37,38,39,40,41,42,43,44,45,46,47,48,49,50,51,52],\"y\":[0.5086313592727313,0.2900630453835706,0.20922930782917368,0.16125673108070554,0.13606739394411366,0.14917686166699062,0.14054146516108942,0.12379219659609707,0.13825323792944047,0.13375653288589276,0.13332993218195646,0.12979567190911068,0.08567194245800284,0.08123788428297656,0.0816470690651568,0.07986608009316973,0.07893550628517382,0.07851555701177901,0.07858306594460669,0.07901510945381876,0.07863297841015328,0.07704936866899458,0.07944672933394858,0.07837137119275728,0.07731939362038573,0.07621483258278428,0.07665914924491843,0.07406148531970501,0.07557078831254725,0.07504253276250136,0.07641358492884806,0.0737026110793391,0.07679189159674288,0.0738435167189085,0.07248671181656109,0.07638389879313415,0.07417674469175985,0.07281620752534819,0.07327059146663739,0.06993491893834965,0.06849521675710368,0.0685158040789988,0.06928913507186728,0.06872023378560195,0.06872261256470293,0.06846386737686515,0.06851696514686248,0.06839833918590833,0.06839529270986595,0.06839987690822626,0.0684988721870555,0.06842308764173066,0.06842998248485924]},{\"marker\":{\"maxdisplayed\":10},\"mode\":\"lines+markers\",\"name\":\"Trial87\",\"type\":\"scatter\",\"x\":[0,1,2,3,4,5,6,7,8,9,10,11,12,13,14,15,16],\"y\":[0.4758812878646101,0.2721862874779047,0.20368155238090782,0.1712968697515772,0.15379714348590848,0.14775033777250957,0.15249637401133195,0.1398136716555146,0.1475817204690447,0.1354245247648043,0.14977079998774853,0.1841028411963991,0.13504454197690766,0.1388125234082633,0.15522940716176636,0.13923779699732278,0.1558991682295706]},{\"marker\":{\"maxdisplayed\":10},\"mode\":\"lines+markers\",\"name\":\"Trial88\",\"type\":\"scatter\",\"x\":[0,1,2,3,4,5,6,7,8,9,10,11,12,13,14,15,16,17,18,19,20,21,22,23,24,25,26,27,28,29,30,31,32,33,34,35,36],\"y\":[0.4689260507407397,0.26026656455504976,0.19661441031172408,0.15668042989806358,0.1461562832690174,0.16755370868612887,0.1217754619739811,0.1346345698194846,0.13825375606415802,0.12856198964143015,0.16749506913449458,0.08491982934383313,0.08205468002243999,0.08023322393874763,0.08131735848829802,0.08064104619534304,0.078409876072814,0.077720565252839,0.07695108586748749,0.07806242222070511,0.07754770876920739,0.07596155515183572,0.07733119693902893,0.07444698640625487,0.07587591473661043,0.0763403257725309,0.07717296678966247,0.07490645265148849,0.07141938356694229,0.07119686018837536,0.07128765110666895,0.07077797425922402,0.07020496851793542,0.0706151698293708,0.07087440608265973,0.07070505114630882,0.07066002976936028]},{\"marker\":{\"maxdisplayed\":10},\"mode\":\"lines+markers\",\"name\":\"Trial89\",\"type\":\"scatter\",\"x\":[0,1,2,3],\"y\":[0.31970221837239754,0.19788626979099463,0.27407345747106654,0.22683984425170292]},{\"marker\":{\"maxdisplayed\":10},\"mode\":\"lines+markers\",\"name\":\"Trial90\",\"type\":\"scatter\",\"x\":[0,1],\"y\":[0.5064960565831925,0.30780942531095584]},{\"marker\":{\"maxdisplayed\":10},\"mode\":\"lines+markers\",\"name\":\"Trial91\",\"type\":\"scatter\",\"x\":[0,1],\"y\":[0.5351875814046453,0.32160421869254385]},{\"marker\":{\"maxdisplayed\":10},\"mode\":\"lines+markers\",\"name\":\"Trial92\",\"type\":\"scatter\",\"x\":[0],\"y\":[0.7395544222090393]},{\"marker\":{\"maxdisplayed\":10},\"mode\":\"lines+markers\",\"name\":\"Trial93\",\"type\":\"scatter\",\"x\":[0,1,2,3,4,5,6,7,8,9,10,11,12,13,14,15,16,17,18,19,20,21,22,23,24,25,26,27,28,29,30,31,32,33,34,35,36,37,38,39,40,41,42,43],\"y\":[0.47937223134618806,0.2789289354826465,0.19324550637693105,0.16594724368416905,0.14443053332242103,0.13160595744848252,0.16651660720958855,0.14123963650428886,0.1331460252291326,0.1335416410005454,0.086925572094818,0.08665211038720425,0.08571924246057418,0.08789231182273592,0.08602228550748395,0.08349914853319979,0.0844742786873019,0.08650416704741394,0.0840980061866117,0.08232541439885438,0.08254422336026569,0.08269956998639937,0.08222298078577629,0.08294384980743584,0.08326372063972733,0.08066639801995325,0.07956989905938056,0.08137199787253684,0.08049834064687744,0.08025328211599228,0.08061508298146003,0.0765678034982446,0.07568730995284786,0.07552910449378418,0.07508600189943204,0.07523234874913186,0.07508106510521789,0.07499227371405466,0.07437484004732332,0.07436692690420327,0.07510021755076716,0.07526416068501547,0.07518952747976232,0.07483796567627878]},{\"marker\":{\"maxdisplayed\":10},\"mode\":\"lines+markers\",\"name\":\"Trial94\",\"type\":\"scatter\",\"x\":[0,1,2,3,4],\"y\":[0.33631316883654533,0.2135954536026038,0.19690527399129498,0.1739270045905362,0.17732876789154883]},{\"marker\":{\"maxdisplayed\":10},\"mode\":\"lines+markers\",\"name\":\"Trial95\",\"type\":\"scatter\",\"x\":[0,1,2,3,4,5,6,7,8,9,10,11,12,13,14,15,16,17,18,19,20,21,22,23,24,25,26,27,28,29,30,31,32,33,34,35,36,37,38,39,40,41,42,43,44,45,46,47,48,49],\"y\":[0.4294307546366546,0.24569428561718812,0.16163223809584493,0.16003457783883174,0.13556357862279161,0.1426275322659755,0.1369609629709115,0.15871066699337935,0.14346192457096682,0.08840680674610424,0.08558486306279062,0.08444631187149058,0.08498710966690881,0.08448289413477335,0.08230589771809434,0.08441227018186047,0.0816756473163344,0.08484680942334064,0.08233364717816243,0.08265105239662206,0.08145475850173839,0.08207830930994432,0.0781558349820405,0.08162899396246726,0.08164459344069581,0.0809845374481744,0.08068697901766204,0.07483503359759078,0.07460719175601789,0.07393262272114767,0.07456167565195211,0.07371174651657189,0.07405985712113092,0.07371990826470608,0.0748988099947152,0.0738744243559703,0.07369899176970615,0.0736663127121267,0.07452925685530816,0.07331745734901775,0.073522708162298,0.07348435581989685,0.07317006403903865,0.07320990340626785,0.07319448954325189,0.07310930447119506,0.07435105236448315,0.07350898761861904,0.07324394301900494,0.0732957404019408]},{\"marker\":{\"maxdisplayed\":10},\"mode\":\"lines+markers\",\"name\":\"Trial96\",\"type\":\"scatter\",\"x\":[0,1,2,3,4],\"y\":[0.4055712895618903,0.23481296046494363,0.18341107488618247,0.16620000579335664,0.16958407816049217]},{\"marker\":{\"maxdisplayed\":10},\"mode\":\"lines+markers\",\"name\":\"Trial97\",\"type\":\"scatter\",\"x\":[0,1,2,3,4,5,6,7],\"y\":[0.3838227137148035,0.2229391110339606,0.16759022275750352,0.16526634143826935,0.16125858838890675,0.1504226264926052,0.1796361795610428,0.1510427299176337]},{\"marker\":{\"maxdisplayed\":10},\"mode\":\"lines+markers\",\"name\":\"Trial98\",\"type\":\"scatter\",\"x\":[0,1,2,3,4,5,6,7,8,9,10,11,12,13],\"y\":[0.5053156677758296,0.2819860842096747,0.1965937325151628,0.16455079570555223,0.15585629246309052,0.1362871317344418,0.15225479873030956,0.14560013636055463,0.15209151847225644,0.13358331170449983,0.1364814570735088,0.13219914997985768,0.1325512707376023,0.1371997554104722]},{\"marker\":{\"maxdisplayed\":10},\"mode\":\"lines+markers\",\"name\":\"Trial99\",\"type\":\"scatter\",\"x\":[0],\"y\":[1.5698638459046679]}],                        {\"showlegend\":false,\"template\":{\"data\":{\"bar\":[{\"error_x\":{\"color\":\"#2a3f5f\"},\"error_y\":{\"color\":\"#2a3f5f\"},\"marker\":{\"line\":{\"color\":\"#E5ECF6\",\"width\":0.5},\"pattern\":{\"fillmode\":\"overlay\",\"size\":10,\"solidity\":0.2}},\"type\":\"bar\"}],\"barpolar\":[{\"marker\":{\"line\":{\"color\":\"#E5ECF6\",\"width\":0.5},\"pattern\":{\"fillmode\":\"overlay\",\"size\":10,\"solidity\":0.2}},\"type\":\"barpolar\"}],\"carpet\":[{\"aaxis\":{\"endlinecolor\":\"#2a3f5f\",\"gridcolor\":\"white\",\"linecolor\":\"white\",\"minorgridcolor\":\"white\",\"startlinecolor\":\"#2a3f5f\"},\"baxis\":{\"endlinecolor\":\"#2a3f5f\",\"gridcolor\":\"white\",\"linecolor\":\"white\",\"minorgridcolor\":\"white\",\"startlinecolor\":\"#2a3f5f\"},\"type\":\"carpet\"}],\"choropleth\":[{\"colorbar\":{\"outlinewidth\":0,\"ticks\":\"\"},\"type\":\"choropleth\"}],\"contour\":[{\"colorbar\":{\"outlinewidth\":0,\"ticks\":\"\"},\"colorscale\":[[0.0,\"#0d0887\"],[0.1111111111111111,\"#46039f\"],[0.2222222222222222,\"#7201a8\"],[0.3333333333333333,\"#9c179e\"],[0.4444444444444444,\"#bd3786\"],[0.5555555555555556,\"#d8576b\"],[0.6666666666666666,\"#ed7953\"],[0.7777777777777778,\"#fb9f3a\"],[0.8888888888888888,\"#fdca26\"],[1.0,\"#f0f921\"]],\"type\":\"contour\"}],\"contourcarpet\":[{\"colorbar\":{\"outlinewidth\":0,\"ticks\":\"\"},\"type\":\"contourcarpet\"}],\"heatmap\":[{\"colorbar\":{\"outlinewidth\":0,\"ticks\":\"\"},\"colorscale\":[[0.0,\"#0d0887\"],[0.1111111111111111,\"#46039f\"],[0.2222222222222222,\"#7201a8\"],[0.3333333333333333,\"#9c179e\"],[0.4444444444444444,\"#bd3786\"],[0.5555555555555556,\"#d8576b\"],[0.6666666666666666,\"#ed7953\"],[0.7777777777777778,\"#fb9f3a\"],[0.8888888888888888,\"#fdca26\"],[1.0,\"#f0f921\"]],\"type\":\"heatmap\"}],\"heatmapgl\":[{\"colorbar\":{\"outlinewidth\":0,\"ticks\":\"\"},\"colorscale\":[[0.0,\"#0d0887\"],[0.1111111111111111,\"#46039f\"],[0.2222222222222222,\"#7201a8\"],[0.3333333333333333,\"#9c179e\"],[0.4444444444444444,\"#bd3786\"],[0.5555555555555556,\"#d8576b\"],[0.6666666666666666,\"#ed7953\"],[0.7777777777777778,\"#fb9f3a\"],[0.8888888888888888,\"#fdca26\"],[1.0,\"#f0f921\"]],\"type\":\"heatmapgl\"}],\"histogram\":[{\"marker\":{\"pattern\":{\"fillmode\":\"overlay\",\"size\":10,\"solidity\":0.2}},\"type\":\"histogram\"}],\"histogram2d\":[{\"colorbar\":{\"outlinewidth\":0,\"ticks\":\"\"},\"colorscale\":[[0.0,\"#0d0887\"],[0.1111111111111111,\"#46039f\"],[0.2222222222222222,\"#7201a8\"],[0.3333333333333333,\"#9c179e\"],[0.4444444444444444,\"#bd3786\"],[0.5555555555555556,\"#d8576b\"],[0.6666666666666666,\"#ed7953\"],[0.7777777777777778,\"#fb9f3a\"],[0.8888888888888888,\"#fdca26\"],[1.0,\"#f0f921\"]],\"type\":\"histogram2d\"}],\"histogram2dcontour\":[{\"colorbar\":{\"outlinewidth\":0,\"ticks\":\"\"},\"colorscale\":[[0.0,\"#0d0887\"],[0.1111111111111111,\"#46039f\"],[0.2222222222222222,\"#7201a8\"],[0.3333333333333333,\"#9c179e\"],[0.4444444444444444,\"#bd3786\"],[0.5555555555555556,\"#d8576b\"],[0.6666666666666666,\"#ed7953\"],[0.7777777777777778,\"#fb9f3a\"],[0.8888888888888888,\"#fdca26\"],[1.0,\"#f0f921\"]],\"type\":\"histogram2dcontour\"}],\"mesh3d\":[{\"colorbar\":{\"outlinewidth\":0,\"ticks\":\"\"},\"type\":\"mesh3d\"}],\"parcoords\":[{\"line\":{\"colorbar\":{\"outlinewidth\":0,\"ticks\":\"\"}},\"type\":\"parcoords\"}],\"pie\":[{\"automargin\":true,\"type\":\"pie\"}],\"scatter\":[{\"marker\":{\"colorbar\":{\"outlinewidth\":0,\"ticks\":\"\"}},\"type\":\"scatter\"}],\"scatter3d\":[{\"line\":{\"colorbar\":{\"outlinewidth\":0,\"ticks\":\"\"}},\"marker\":{\"colorbar\":{\"outlinewidth\":0,\"ticks\":\"\"}},\"type\":\"scatter3d\"}],\"scattercarpet\":[{\"marker\":{\"colorbar\":{\"outlinewidth\":0,\"ticks\":\"\"}},\"type\":\"scattercarpet\"}],\"scattergeo\":[{\"marker\":{\"colorbar\":{\"outlinewidth\":0,\"ticks\":\"\"}},\"type\":\"scattergeo\"}],\"scattergl\":[{\"marker\":{\"colorbar\":{\"outlinewidth\":0,\"ticks\":\"\"}},\"type\":\"scattergl\"}],\"scattermapbox\":[{\"marker\":{\"colorbar\":{\"outlinewidth\":0,\"ticks\":\"\"}},\"type\":\"scattermapbox\"}],\"scatterpolar\":[{\"marker\":{\"colorbar\":{\"outlinewidth\":0,\"ticks\":\"\"}},\"type\":\"scatterpolar\"}],\"scatterpolargl\":[{\"marker\":{\"colorbar\":{\"outlinewidth\":0,\"ticks\":\"\"}},\"type\":\"scatterpolargl\"}],\"scatterternary\":[{\"marker\":{\"colorbar\":{\"outlinewidth\":0,\"ticks\":\"\"}},\"type\":\"scatterternary\"}],\"surface\":[{\"colorbar\":{\"outlinewidth\":0,\"ticks\":\"\"},\"colorscale\":[[0.0,\"#0d0887\"],[0.1111111111111111,\"#46039f\"],[0.2222222222222222,\"#7201a8\"],[0.3333333333333333,\"#9c179e\"],[0.4444444444444444,\"#bd3786\"],[0.5555555555555556,\"#d8576b\"],[0.6666666666666666,\"#ed7953\"],[0.7777777777777778,\"#fb9f3a\"],[0.8888888888888888,\"#fdca26\"],[1.0,\"#f0f921\"]],\"type\":\"surface\"}],\"table\":[{\"cells\":{\"fill\":{\"color\":\"#EBF0F8\"},\"line\":{\"color\":\"white\"}},\"header\":{\"fill\":{\"color\":\"#C8D4E3\"},\"line\":{\"color\":\"white\"}},\"type\":\"table\"}]},\"layout\":{\"annotationdefaults\":{\"arrowcolor\":\"#2a3f5f\",\"arrowhead\":0,\"arrowwidth\":1},\"autotypenumbers\":\"strict\",\"coloraxis\":{\"colorbar\":{\"outlinewidth\":0,\"ticks\":\"\"}},\"colorscale\":{\"diverging\":[[0,\"#8e0152\"],[0.1,\"#c51b7d\"],[0.2,\"#de77ae\"],[0.3,\"#f1b6da\"],[0.4,\"#fde0ef\"],[0.5,\"#f7f7f7\"],[0.6,\"#e6f5d0\"],[0.7,\"#b8e186\"],[0.8,\"#7fbc41\"],[0.9,\"#4d9221\"],[1,\"#276419\"]],\"sequential\":[[0.0,\"#0d0887\"],[0.1111111111111111,\"#46039f\"],[0.2222222222222222,\"#7201a8\"],[0.3333333333333333,\"#9c179e\"],[0.4444444444444444,\"#bd3786\"],[0.5555555555555556,\"#d8576b\"],[0.6666666666666666,\"#ed7953\"],[0.7777777777777778,\"#fb9f3a\"],[0.8888888888888888,\"#fdca26\"],[1.0,\"#f0f921\"]],\"sequentialminus\":[[0.0,\"#0d0887\"],[0.1111111111111111,\"#46039f\"],[0.2222222222222222,\"#7201a8\"],[0.3333333333333333,\"#9c179e\"],[0.4444444444444444,\"#bd3786\"],[0.5555555555555556,\"#d8576b\"],[0.6666666666666666,\"#ed7953\"],[0.7777777777777778,\"#fb9f3a\"],[0.8888888888888888,\"#fdca26\"],[1.0,\"#f0f921\"]]},\"colorway\":[\"#636efa\",\"#EF553B\",\"#00cc96\",\"#ab63fa\",\"#FFA15A\",\"#19d3f3\",\"#FF6692\",\"#B6E880\",\"#FF97FF\",\"#FECB52\"],\"font\":{\"color\":\"#2a3f5f\"},\"geo\":{\"bgcolor\":\"white\",\"lakecolor\":\"white\",\"landcolor\":\"#E5ECF6\",\"showlakes\":true,\"showland\":true,\"subunitcolor\":\"white\"},\"hoverlabel\":{\"align\":\"left\"},\"hovermode\":\"closest\",\"mapbox\":{\"style\":\"light\"},\"paper_bgcolor\":\"white\",\"plot_bgcolor\":\"#E5ECF6\",\"polar\":{\"angularaxis\":{\"gridcolor\":\"white\",\"linecolor\":\"white\",\"ticks\":\"\"},\"bgcolor\":\"#E5ECF6\",\"radialaxis\":{\"gridcolor\":\"white\",\"linecolor\":\"white\",\"ticks\":\"\"}},\"scene\":{\"xaxis\":{\"backgroundcolor\":\"#E5ECF6\",\"gridcolor\":\"white\",\"gridwidth\":2,\"linecolor\":\"white\",\"showbackground\":true,\"ticks\":\"\",\"zerolinecolor\":\"white\"},\"yaxis\":{\"backgroundcolor\":\"#E5ECF6\",\"gridcolor\":\"white\",\"gridwidth\":2,\"linecolor\":\"white\",\"showbackground\":true,\"ticks\":\"\",\"zerolinecolor\":\"white\"},\"zaxis\":{\"backgroundcolor\":\"#E5ECF6\",\"gridcolor\":\"white\",\"gridwidth\":2,\"linecolor\":\"white\",\"showbackground\":true,\"ticks\":\"\",\"zerolinecolor\":\"white\"}},\"shapedefaults\":{\"line\":{\"color\":\"#2a3f5f\"}},\"ternary\":{\"aaxis\":{\"gridcolor\":\"white\",\"linecolor\":\"white\",\"ticks\":\"\"},\"baxis\":{\"gridcolor\":\"white\",\"linecolor\":\"white\",\"ticks\":\"\"},\"bgcolor\":\"#E5ECF6\",\"caxis\":{\"gridcolor\":\"white\",\"linecolor\":\"white\",\"ticks\":\"\"}},\"title\":{\"x\":0.05},\"xaxis\":{\"automargin\":true,\"gridcolor\":\"white\",\"linecolor\":\"white\",\"ticks\":\"\",\"title\":{\"standoff\":15},\"zerolinecolor\":\"white\",\"zerolinewidth\":2},\"yaxis\":{\"automargin\":true,\"gridcolor\":\"white\",\"linecolor\":\"white\",\"ticks\":\"\",\"title\":{\"standoff\":15},\"zerolinecolor\":\"white\",\"zerolinewidth\":2}}},\"title\":{\"text\":\"Intermediate Values Plot\"},\"xaxis\":{\"title\":{\"text\":\"Step\"}},\"yaxis\":{\"title\":{\"text\":\"Intermediate Value\"}}},                        {\"responsive\": true}                    ).then(function(){\n",
       "                            \n",
       "var gd = document.getElementById('658e9a5e-384c-45e6-a17e-35bdb16f8205');\n",
       "var x = new MutationObserver(function (mutations, observer) {{\n",
       "        var display = window.getComputedStyle(gd).display;\n",
       "        if (!display || display === 'none') {{\n",
       "            console.log([gd, 'removed!']);\n",
       "            Plotly.purge(gd);\n",
       "            observer.disconnect();\n",
       "        }}\n",
       "}});\n",
       "\n",
       "// Listen for the removal of the full notebook cells\n",
       "var notebookContainer = gd.closest('#notebook-container');\n",
       "if (notebookContainer) {{\n",
       "    x.observe(notebookContainer, {childList: true});\n",
       "}}\n",
       "\n",
       "// Listen for the clearing of the current output cell\n",
       "var outputEl = gd.closest('.output');\n",
       "if (outputEl) {{\n",
       "    x.observe(outputEl, {childList: true});\n",
       "}}\n",
       "\n",
       "                        })                };                });            </script>        </div>"
      ]
     },
     "metadata": {},
     "output_type": "display_data"
    }
   ],
   "source": [
    "optuna.visualization.plot_intermediate_values(study)"
   ]
  },
  {
   "cell_type": "code",
   "execution_count": 21,
   "id": "31622e18",
   "metadata": {
    "execution": {
     "iopub.execute_input": "2021-09-23T21:42:26.374381Z",
     "iopub.status.busy": "2021-09-23T21:42:26.373459Z",
     "iopub.status.idle": "2021-09-23T21:42:26.399205Z",
     "shell.execute_reply": "2021-09-23T21:42:26.399667Z"
    },
    "id": "K5-JO1htcMxB",
    "outputId": "a5f52502-0fdb-47dc-a37b-f0295ad6bc86",
    "papermill": {
     "duration": 0.608473,
     "end_time": "2021-09-23T21:42:26.399802",
     "exception": false,
     "start_time": "2021-09-23T21:42:25.791329",
     "status": "completed"
    },
    "tags": []
   },
   "outputs": [
    {
     "data": {
      "text/html": [
       "<div>                            <div id=\"9e19ad18-5484-4c38-aaa8-9cb3ec52b5af\" class=\"plotly-graph-div\" style=\"height:525px; width:100%;\"></div>            <script type=\"text/javascript\">                require([\"plotly\"], function(Plotly) {                    window.PLOTLYENV=window.PLOTLYENV || {};                                    if (document.getElementById(\"9e19ad18-5484-4c38-aaa8-9cb3ec52b5af\")) {                    Plotly.newPlot(                        \"9e19ad18-5484-4c38-aaa8-9cb3ec52b5af\",                        [{\"mode\":\"markers\",\"name\":\"Objective Value\",\"type\":\"scatter\",\"x\":[0,1,2,3,4,8,11,16,21,26,27,29,30,31,32,33,36,37,51,52,53,61,86,88,93,95],\"y\":[0.12300159906347592,0.23798754679806097,0.16281519138739997,0.11184287914535504,0.21651574254129094,0.11409320234786728,0.09494087435305124,0.12279672817750409,0.1464429818214116,0.12152141523222591,0.0925000230835601,0.08117592570789416,0.07954993568421377,0.07695315656457147,0.07632742365847435,0.0762427039684218,0.07187104103444976,0.07784998359158629,0.08045786882788811,0.08383903613971429,0.0707608246819326,0.07643958191548061,0.06839529270986595,0.07020496851793542,0.07436692690420327,0.07310930447119506]},{\"name\":\"Best Value\",\"type\":\"scatter\",\"x\":[0,1,2,3,4,8,11,16,21,26,27,29,30,31,32,33,36,37,51,52,53,61,86,88,93,95],\"y\":[0.12300159906347592,0.12300159906347592,0.12300159906347592,0.11184287914535504,0.11184287914535504,0.11184287914535504,0.09494087435305124,0.09494087435305124,0.09494087435305124,0.09494087435305124,0.0925000230835601,0.08117592570789416,0.07954993568421377,0.07695315656457147,0.07632742365847435,0.0762427039684218,0.07187104103444976,0.07187104103444976,0.07187104103444976,0.07187104103444976,0.0707608246819326,0.0707608246819326,0.06839529270986595,0.06839529270986595,0.06839529270986595,0.06839529270986595]}],                        {\"template\":{\"data\":{\"bar\":[{\"error_x\":{\"color\":\"#2a3f5f\"},\"error_y\":{\"color\":\"#2a3f5f\"},\"marker\":{\"line\":{\"color\":\"#E5ECF6\",\"width\":0.5},\"pattern\":{\"fillmode\":\"overlay\",\"size\":10,\"solidity\":0.2}},\"type\":\"bar\"}],\"barpolar\":[{\"marker\":{\"line\":{\"color\":\"#E5ECF6\",\"width\":0.5},\"pattern\":{\"fillmode\":\"overlay\",\"size\":10,\"solidity\":0.2}},\"type\":\"barpolar\"}],\"carpet\":[{\"aaxis\":{\"endlinecolor\":\"#2a3f5f\",\"gridcolor\":\"white\",\"linecolor\":\"white\",\"minorgridcolor\":\"white\",\"startlinecolor\":\"#2a3f5f\"},\"baxis\":{\"endlinecolor\":\"#2a3f5f\",\"gridcolor\":\"white\",\"linecolor\":\"white\",\"minorgridcolor\":\"white\",\"startlinecolor\":\"#2a3f5f\"},\"type\":\"carpet\"}],\"choropleth\":[{\"colorbar\":{\"outlinewidth\":0,\"ticks\":\"\"},\"type\":\"choropleth\"}],\"contour\":[{\"colorbar\":{\"outlinewidth\":0,\"ticks\":\"\"},\"colorscale\":[[0.0,\"#0d0887\"],[0.1111111111111111,\"#46039f\"],[0.2222222222222222,\"#7201a8\"],[0.3333333333333333,\"#9c179e\"],[0.4444444444444444,\"#bd3786\"],[0.5555555555555556,\"#d8576b\"],[0.6666666666666666,\"#ed7953\"],[0.7777777777777778,\"#fb9f3a\"],[0.8888888888888888,\"#fdca26\"],[1.0,\"#f0f921\"]],\"type\":\"contour\"}],\"contourcarpet\":[{\"colorbar\":{\"outlinewidth\":0,\"ticks\":\"\"},\"type\":\"contourcarpet\"}],\"heatmap\":[{\"colorbar\":{\"outlinewidth\":0,\"ticks\":\"\"},\"colorscale\":[[0.0,\"#0d0887\"],[0.1111111111111111,\"#46039f\"],[0.2222222222222222,\"#7201a8\"],[0.3333333333333333,\"#9c179e\"],[0.4444444444444444,\"#bd3786\"],[0.5555555555555556,\"#d8576b\"],[0.6666666666666666,\"#ed7953\"],[0.7777777777777778,\"#fb9f3a\"],[0.8888888888888888,\"#fdca26\"],[1.0,\"#f0f921\"]],\"type\":\"heatmap\"}],\"heatmapgl\":[{\"colorbar\":{\"outlinewidth\":0,\"ticks\":\"\"},\"colorscale\":[[0.0,\"#0d0887\"],[0.1111111111111111,\"#46039f\"],[0.2222222222222222,\"#7201a8\"],[0.3333333333333333,\"#9c179e\"],[0.4444444444444444,\"#bd3786\"],[0.5555555555555556,\"#d8576b\"],[0.6666666666666666,\"#ed7953\"],[0.7777777777777778,\"#fb9f3a\"],[0.8888888888888888,\"#fdca26\"],[1.0,\"#f0f921\"]],\"type\":\"heatmapgl\"}],\"histogram\":[{\"marker\":{\"pattern\":{\"fillmode\":\"overlay\",\"size\":10,\"solidity\":0.2}},\"type\":\"histogram\"}],\"histogram2d\":[{\"colorbar\":{\"outlinewidth\":0,\"ticks\":\"\"},\"colorscale\":[[0.0,\"#0d0887\"],[0.1111111111111111,\"#46039f\"],[0.2222222222222222,\"#7201a8\"],[0.3333333333333333,\"#9c179e\"],[0.4444444444444444,\"#bd3786\"],[0.5555555555555556,\"#d8576b\"],[0.6666666666666666,\"#ed7953\"],[0.7777777777777778,\"#fb9f3a\"],[0.8888888888888888,\"#fdca26\"],[1.0,\"#f0f921\"]],\"type\":\"histogram2d\"}],\"histogram2dcontour\":[{\"colorbar\":{\"outlinewidth\":0,\"ticks\":\"\"},\"colorscale\":[[0.0,\"#0d0887\"],[0.1111111111111111,\"#46039f\"],[0.2222222222222222,\"#7201a8\"],[0.3333333333333333,\"#9c179e\"],[0.4444444444444444,\"#bd3786\"],[0.5555555555555556,\"#d8576b\"],[0.6666666666666666,\"#ed7953\"],[0.7777777777777778,\"#fb9f3a\"],[0.8888888888888888,\"#fdca26\"],[1.0,\"#f0f921\"]],\"type\":\"histogram2dcontour\"}],\"mesh3d\":[{\"colorbar\":{\"outlinewidth\":0,\"ticks\":\"\"},\"type\":\"mesh3d\"}],\"parcoords\":[{\"line\":{\"colorbar\":{\"outlinewidth\":0,\"ticks\":\"\"}},\"type\":\"parcoords\"}],\"pie\":[{\"automargin\":true,\"type\":\"pie\"}],\"scatter\":[{\"marker\":{\"colorbar\":{\"outlinewidth\":0,\"ticks\":\"\"}},\"type\":\"scatter\"}],\"scatter3d\":[{\"line\":{\"colorbar\":{\"outlinewidth\":0,\"ticks\":\"\"}},\"marker\":{\"colorbar\":{\"outlinewidth\":0,\"ticks\":\"\"}},\"type\":\"scatter3d\"}],\"scattercarpet\":[{\"marker\":{\"colorbar\":{\"outlinewidth\":0,\"ticks\":\"\"}},\"type\":\"scattercarpet\"}],\"scattergeo\":[{\"marker\":{\"colorbar\":{\"outlinewidth\":0,\"ticks\":\"\"}},\"type\":\"scattergeo\"}],\"scattergl\":[{\"marker\":{\"colorbar\":{\"outlinewidth\":0,\"ticks\":\"\"}},\"type\":\"scattergl\"}],\"scattermapbox\":[{\"marker\":{\"colorbar\":{\"outlinewidth\":0,\"ticks\":\"\"}},\"type\":\"scattermapbox\"}],\"scatterpolar\":[{\"marker\":{\"colorbar\":{\"outlinewidth\":0,\"ticks\":\"\"}},\"type\":\"scatterpolar\"}],\"scatterpolargl\":[{\"marker\":{\"colorbar\":{\"outlinewidth\":0,\"ticks\":\"\"}},\"type\":\"scatterpolargl\"}],\"scatterternary\":[{\"marker\":{\"colorbar\":{\"outlinewidth\":0,\"ticks\":\"\"}},\"type\":\"scatterternary\"}],\"surface\":[{\"colorbar\":{\"outlinewidth\":0,\"ticks\":\"\"},\"colorscale\":[[0.0,\"#0d0887\"],[0.1111111111111111,\"#46039f\"],[0.2222222222222222,\"#7201a8\"],[0.3333333333333333,\"#9c179e\"],[0.4444444444444444,\"#bd3786\"],[0.5555555555555556,\"#d8576b\"],[0.6666666666666666,\"#ed7953\"],[0.7777777777777778,\"#fb9f3a\"],[0.8888888888888888,\"#fdca26\"],[1.0,\"#f0f921\"]],\"type\":\"surface\"}],\"table\":[{\"cells\":{\"fill\":{\"color\":\"#EBF0F8\"},\"line\":{\"color\":\"white\"}},\"header\":{\"fill\":{\"color\":\"#C8D4E3\"},\"line\":{\"color\":\"white\"}},\"type\":\"table\"}]},\"layout\":{\"annotationdefaults\":{\"arrowcolor\":\"#2a3f5f\",\"arrowhead\":0,\"arrowwidth\":1},\"autotypenumbers\":\"strict\",\"coloraxis\":{\"colorbar\":{\"outlinewidth\":0,\"ticks\":\"\"}},\"colorscale\":{\"diverging\":[[0,\"#8e0152\"],[0.1,\"#c51b7d\"],[0.2,\"#de77ae\"],[0.3,\"#f1b6da\"],[0.4,\"#fde0ef\"],[0.5,\"#f7f7f7\"],[0.6,\"#e6f5d0\"],[0.7,\"#b8e186\"],[0.8,\"#7fbc41\"],[0.9,\"#4d9221\"],[1,\"#276419\"]],\"sequential\":[[0.0,\"#0d0887\"],[0.1111111111111111,\"#46039f\"],[0.2222222222222222,\"#7201a8\"],[0.3333333333333333,\"#9c179e\"],[0.4444444444444444,\"#bd3786\"],[0.5555555555555556,\"#d8576b\"],[0.6666666666666666,\"#ed7953\"],[0.7777777777777778,\"#fb9f3a\"],[0.8888888888888888,\"#fdca26\"],[1.0,\"#f0f921\"]],\"sequentialminus\":[[0.0,\"#0d0887\"],[0.1111111111111111,\"#46039f\"],[0.2222222222222222,\"#7201a8\"],[0.3333333333333333,\"#9c179e\"],[0.4444444444444444,\"#bd3786\"],[0.5555555555555556,\"#d8576b\"],[0.6666666666666666,\"#ed7953\"],[0.7777777777777778,\"#fb9f3a\"],[0.8888888888888888,\"#fdca26\"],[1.0,\"#f0f921\"]]},\"colorway\":[\"#636efa\",\"#EF553B\",\"#00cc96\",\"#ab63fa\",\"#FFA15A\",\"#19d3f3\",\"#FF6692\",\"#B6E880\",\"#FF97FF\",\"#FECB52\"],\"font\":{\"color\":\"#2a3f5f\"},\"geo\":{\"bgcolor\":\"white\",\"lakecolor\":\"white\",\"landcolor\":\"#E5ECF6\",\"showlakes\":true,\"showland\":true,\"subunitcolor\":\"white\"},\"hoverlabel\":{\"align\":\"left\"},\"hovermode\":\"closest\",\"mapbox\":{\"style\":\"light\"},\"paper_bgcolor\":\"white\",\"plot_bgcolor\":\"#E5ECF6\",\"polar\":{\"angularaxis\":{\"gridcolor\":\"white\",\"linecolor\":\"white\",\"ticks\":\"\"},\"bgcolor\":\"#E5ECF6\",\"radialaxis\":{\"gridcolor\":\"white\",\"linecolor\":\"white\",\"ticks\":\"\"}},\"scene\":{\"xaxis\":{\"backgroundcolor\":\"#E5ECF6\",\"gridcolor\":\"white\",\"gridwidth\":2,\"linecolor\":\"white\",\"showbackground\":true,\"ticks\":\"\",\"zerolinecolor\":\"white\"},\"yaxis\":{\"backgroundcolor\":\"#E5ECF6\",\"gridcolor\":\"white\",\"gridwidth\":2,\"linecolor\":\"white\",\"showbackground\":true,\"ticks\":\"\",\"zerolinecolor\":\"white\"},\"zaxis\":{\"backgroundcolor\":\"#E5ECF6\",\"gridcolor\":\"white\",\"gridwidth\":2,\"linecolor\":\"white\",\"showbackground\":true,\"ticks\":\"\",\"zerolinecolor\":\"white\"}},\"shapedefaults\":{\"line\":{\"color\":\"#2a3f5f\"}},\"ternary\":{\"aaxis\":{\"gridcolor\":\"white\",\"linecolor\":\"white\",\"ticks\":\"\"},\"baxis\":{\"gridcolor\":\"white\",\"linecolor\":\"white\",\"ticks\":\"\"},\"bgcolor\":\"#E5ECF6\",\"caxis\":{\"gridcolor\":\"white\",\"linecolor\":\"white\",\"ticks\":\"\"}},\"title\":{\"x\":0.05},\"xaxis\":{\"automargin\":true,\"gridcolor\":\"white\",\"linecolor\":\"white\",\"ticks\":\"\",\"title\":{\"standoff\":15},\"zerolinecolor\":\"white\",\"zerolinewidth\":2},\"yaxis\":{\"automargin\":true,\"gridcolor\":\"white\",\"linecolor\":\"white\",\"ticks\":\"\",\"title\":{\"standoff\":15},\"zerolinecolor\":\"white\",\"zerolinewidth\":2}}},\"title\":{\"text\":\"Optimization History Plot\"},\"xaxis\":{\"title\":{\"text\":\"#Trials\"}},\"yaxis\":{\"title\":{\"text\":\"Objective Value\"}}},                        {\"responsive\": true}                    ).then(function(){\n",
       "                            \n",
       "var gd = document.getElementById('9e19ad18-5484-4c38-aaa8-9cb3ec52b5af');\n",
       "var x = new MutationObserver(function (mutations, observer) {{\n",
       "        var display = window.getComputedStyle(gd).display;\n",
       "        if (!display || display === 'none') {{\n",
       "            console.log([gd, 'removed!']);\n",
       "            Plotly.purge(gd);\n",
       "            observer.disconnect();\n",
       "        }}\n",
       "}});\n",
       "\n",
       "// Listen for the removal of the full notebook cells\n",
       "var notebookContainer = gd.closest('#notebook-container');\n",
       "if (notebookContainer) {{\n",
       "    x.observe(notebookContainer, {childList: true});\n",
       "}}\n",
       "\n",
       "// Listen for the clearing of the current output cell\n",
       "var outputEl = gd.closest('.output');\n",
       "if (outputEl) {{\n",
       "    x.observe(outputEl, {childList: true});\n",
       "}}\n",
       "\n",
       "                        })                };                });            </script>        </div>"
      ]
     },
     "metadata": {},
     "output_type": "display_data"
    }
   ],
   "source": [
    "optuna.visualization.plot_optimization_history(study)"
   ]
  },
  {
   "cell_type": "markdown",
   "id": "6304b502",
   "metadata": {
    "id": "I1v_xkn-cMxC",
    "papermill": {
     "duration": 0.571241,
     "end_time": "2021-09-23T21:42:27.534838",
     "exception": false,
     "start_time": "2021-09-23T21:42:26.963597",
     "status": "completed"
    },
    "tags": []
   },
   "source": [
    "### Hyperparameter interactions"
   ]
  },
  {
   "cell_type": "markdown",
   "id": "501b4360",
   "metadata": {
    "id": "hHlDxIRDfkEO",
    "papermill": {
     "duration": 0.556761,
     "end_time": "2021-09-23T21:42:28.653320",
     "exception": false,
     "start_time": "2021-09-23T21:42:28.096559",
     "status": "completed"
    },
    "tags": []
   },
   "source": [
    "We look at which combinations of hyperparameters work well from the parallel coordinate plot. Note that there is something weird going on here. For example, trials with `n_layers=1` has coordinates in axes where they should have no values, e.g. `n_units_l1` and `n_units_l2`. This is a known issue for parallel plots, e.g. [#1809](https://github.com/optuna/optuna/issues/1809). Turns out, lines with dynamically constructed parameters with NaNs should be skipped by plotter. Moreover, trials with NaN values are excluded from the parameter importance computation which limits its usefulness. "
   ]
  },
  {
   "cell_type": "code",
   "execution_count": 22,
   "id": "f9b8e8f8",
   "metadata": {
    "execution": {
     "iopub.execute_input": "2021-09-23T21:42:29.782771Z",
     "iopub.status.busy": "2021-09-23T21:42:29.781791Z",
     "iopub.status.idle": "2021-09-23T21:42:29.797465Z",
     "shell.execute_reply": "2021-09-23T21:42:29.797877Z"
    },
    "id": "nWisDC0pcMxD",
    "outputId": "d4733312-cfaf-42df-8f4f-24f75880c9d5",
    "papermill": {
     "duration": 0.591849,
     "end_time": "2021-09-23T21:42:29.798014",
     "exception": false,
     "start_time": "2021-09-23T21:42:29.206165",
     "status": "completed"
    },
    "tags": []
   },
   "outputs": [
    {
     "data": {
      "text/html": [
       "<div>                            <div id=\"c102dcaa-13ca-4eac-a9a9-5b445b7258e0\" class=\"plotly-graph-div\" style=\"height:525px; width:100%;\"></div>            <script type=\"text/javascript\">                require([\"plotly\"], function(Plotly) {                    window.PLOTLYENV=window.PLOTLYENV || {};                                    if (document.getElementById(\"c102dcaa-13ca-4eac-a9a9-5b445b7258e0\")) {                    Plotly.newPlot(                        \"c102dcaa-13ca-4eac-a9a9-5b445b7258e0\",                        [{\"dimensions\":[{\"label\":\"Objective Value\",\"range\":[0.06839529270986595,0.23798754679806097],\"values\":[0.12300159906347592,0.23798754679806097,0.16281519138739997,0.11184287914535504,0.21651574254129094,0.11409320234786728,0.09494087435305124,0.12279672817750409,0.1464429818214116,0.12152141523222591,0.0925000230835601,0.08117592570789416,0.07954993568421377,0.07695315656457147,0.07632742365847435,0.0762427039684218,0.07187104103444976,0.07784998359158629,0.08045786882788811,0.08383903613971429,0.0707608246819326,0.07643958191548061,0.06839529270986595,0.07020496851793542,0.07436692690420327,0.07310930447119506]},{\"label\":\"batch_size\",\"range\":[10,423],\"values\":[114,423,11,154,14,10,61,51,159,326,18,121,38,39,38,38,45,51,41,33,67,31,84,87,85,66]},{\"label\":\"dropout_rate\",\"range\":[0.20008149355360638,0.37624291740716287],\"values\":[0.3158539023605407,0.351322195201316,0.3453513833279788,0.32933043478511825,0.33039780511533695,0.30729240287080145,0.2740252588371055,0.2053318342868627,0.2888947355877797,0.37624291740716287,0.22699498785226394,0.23170026899019033,0.22529584259638433,0.20008149355360638,0.2053200861363653,0.20149738186810884,0.21752186915458838,0.25158488976494664,0.22519668951632021,0.21542905166473528,0.2229402156983627,0.22210832647778533,0.20009250667864037,0.2010972553953743,0.2369229972659646,0.21985202574843565]},{\"label\":\"lr\",\"range\":[-4.870613052667828,-1.0158123294268757],\"ticktext\":[\"1.35e-05\",\"0.0001\",\"0.001\",\"0.01\",\"0.0964\"],\"tickvals\":[-4.870613052667828,-4,-3,-2,-1.0158123294268757],\"values\":[-1.0158123294268757,-2.8143734433264105,-1.821053702178668,-4.668454315968668,-4.870613052667828,-2.5687574321265476,-2.393080653366475,-3.172571204063297,-2.675444124549409,-3.069392034768944,-3.7597171712815234,-3.6863804740777515,-3.6544879462002675,-3.743674917182676,-3.7146641556763216,-3.733410822866581,-3.455443927264889,-3.358753144118046,-3.6043036358553184,-3.576707018756331,-3.3346694383011997,-3.6911476319194354,-3.386623654979806,-3.382426039708958,-3.365414565745261,-3.360091316770521]},{\"label\":\"n_layers\",\"range\":[1,2],\"values\":[1,2,2,1,2,1,1,1,1,1,1,1,1,1,1,1,1,2,1,1,1,1,1,1,1,1]},{\"label\":\"n_units_l0\",\"range\":[48,128],\"values\":[53,116,81,90,48,58,80,75,62,75,113,126,126,126,128,128,128,119,124,115,127,125,125,126,116,123]},{\"label\":\"n_units_l1\",\"range\":[14,128],\"values\":[40,14,107,128]},{\"label\":\"weight_decay\",\"range\":[0.05603333007318556,0.4898392553567651],\"values\":[0.2942866490996837,0.4379572929978157,0.12652863739461595,0.35411245341550385,0.2957472242049232,0.2801018891438447,0.20272096943345724,0.4898392553567651,0.2755679447582429,0.3278531401206054,0.26556213804118434,0.19845560061807097,0.18046766041750062,0.1788238449171621,0.1714129886898159,0.15163439721617653,0.10519795919161423,0.05603333007318556,0.1853632103023621,0.21849152562410187,0.11209537252923243,0.16856945205298712,0.10907103421869807,0.1233921525223666,0.14141080372193618,0.14024139423007215]}],\"labelangle\":30,\"labelside\":\"bottom\",\"line\":{\"color\":[0.12300159906347592,0.23798754679806097,0.16281519138739997,0.11184287914535504,0.21651574254129094,0.11409320234786728,0.09494087435305124,0.12279672817750409,0.1464429818214116,0.12152141523222591,0.0925000230835601,0.08117592570789416,0.07954993568421377,0.07695315656457147,0.07632742365847435,0.0762427039684218,0.07187104103444976,0.07784998359158629,0.08045786882788811,0.08383903613971429,0.0707608246819326,0.07643958191548061,0.06839529270986595,0.07020496851793542,0.07436692690420327,0.07310930447119506],\"colorbar\":{\"title\":{\"text\":\"Objective Value\"}},\"colorscale\":[[0.0,\"rgb(247,251,255)\"],[0.125,\"rgb(222,235,247)\"],[0.25,\"rgb(198,219,239)\"],[0.375,\"rgb(158,202,225)\"],[0.5,\"rgb(107,174,214)\"],[0.625,\"rgb(66,146,198)\"],[0.75,\"rgb(33,113,181)\"],[0.875,\"rgb(8,81,156)\"],[1.0,\"rgb(8,48,107)\"]],\"reversescale\":true,\"showscale\":true},\"type\":\"parcoords\"}],                        {\"template\":{\"data\":{\"bar\":[{\"error_x\":{\"color\":\"#2a3f5f\"},\"error_y\":{\"color\":\"#2a3f5f\"},\"marker\":{\"line\":{\"color\":\"#E5ECF6\",\"width\":0.5},\"pattern\":{\"fillmode\":\"overlay\",\"size\":10,\"solidity\":0.2}},\"type\":\"bar\"}],\"barpolar\":[{\"marker\":{\"line\":{\"color\":\"#E5ECF6\",\"width\":0.5},\"pattern\":{\"fillmode\":\"overlay\",\"size\":10,\"solidity\":0.2}},\"type\":\"barpolar\"}],\"carpet\":[{\"aaxis\":{\"endlinecolor\":\"#2a3f5f\",\"gridcolor\":\"white\",\"linecolor\":\"white\",\"minorgridcolor\":\"white\",\"startlinecolor\":\"#2a3f5f\"},\"baxis\":{\"endlinecolor\":\"#2a3f5f\",\"gridcolor\":\"white\",\"linecolor\":\"white\",\"minorgridcolor\":\"white\",\"startlinecolor\":\"#2a3f5f\"},\"type\":\"carpet\"}],\"choropleth\":[{\"colorbar\":{\"outlinewidth\":0,\"ticks\":\"\"},\"type\":\"choropleth\"}],\"contour\":[{\"colorbar\":{\"outlinewidth\":0,\"ticks\":\"\"},\"colorscale\":[[0.0,\"#0d0887\"],[0.1111111111111111,\"#46039f\"],[0.2222222222222222,\"#7201a8\"],[0.3333333333333333,\"#9c179e\"],[0.4444444444444444,\"#bd3786\"],[0.5555555555555556,\"#d8576b\"],[0.6666666666666666,\"#ed7953\"],[0.7777777777777778,\"#fb9f3a\"],[0.8888888888888888,\"#fdca26\"],[1.0,\"#f0f921\"]],\"type\":\"contour\"}],\"contourcarpet\":[{\"colorbar\":{\"outlinewidth\":0,\"ticks\":\"\"},\"type\":\"contourcarpet\"}],\"heatmap\":[{\"colorbar\":{\"outlinewidth\":0,\"ticks\":\"\"},\"colorscale\":[[0.0,\"#0d0887\"],[0.1111111111111111,\"#46039f\"],[0.2222222222222222,\"#7201a8\"],[0.3333333333333333,\"#9c179e\"],[0.4444444444444444,\"#bd3786\"],[0.5555555555555556,\"#d8576b\"],[0.6666666666666666,\"#ed7953\"],[0.7777777777777778,\"#fb9f3a\"],[0.8888888888888888,\"#fdca26\"],[1.0,\"#f0f921\"]],\"type\":\"heatmap\"}],\"heatmapgl\":[{\"colorbar\":{\"outlinewidth\":0,\"ticks\":\"\"},\"colorscale\":[[0.0,\"#0d0887\"],[0.1111111111111111,\"#46039f\"],[0.2222222222222222,\"#7201a8\"],[0.3333333333333333,\"#9c179e\"],[0.4444444444444444,\"#bd3786\"],[0.5555555555555556,\"#d8576b\"],[0.6666666666666666,\"#ed7953\"],[0.7777777777777778,\"#fb9f3a\"],[0.8888888888888888,\"#fdca26\"],[1.0,\"#f0f921\"]],\"type\":\"heatmapgl\"}],\"histogram\":[{\"marker\":{\"pattern\":{\"fillmode\":\"overlay\",\"size\":10,\"solidity\":0.2}},\"type\":\"histogram\"}],\"histogram2d\":[{\"colorbar\":{\"outlinewidth\":0,\"ticks\":\"\"},\"colorscale\":[[0.0,\"#0d0887\"],[0.1111111111111111,\"#46039f\"],[0.2222222222222222,\"#7201a8\"],[0.3333333333333333,\"#9c179e\"],[0.4444444444444444,\"#bd3786\"],[0.5555555555555556,\"#d8576b\"],[0.6666666666666666,\"#ed7953\"],[0.7777777777777778,\"#fb9f3a\"],[0.8888888888888888,\"#fdca26\"],[1.0,\"#f0f921\"]],\"type\":\"histogram2d\"}],\"histogram2dcontour\":[{\"colorbar\":{\"outlinewidth\":0,\"ticks\":\"\"},\"colorscale\":[[0.0,\"#0d0887\"],[0.1111111111111111,\"#46039f\"],[0.2222222222222222,\"#7201a8\"],[0.3333333333333333,\"#9c179e\"],[0.4444444444444444,\"#bd3786\"],[0.5555555555555556,\"#d8576b\"],[0.6666666666666666,\"#ed7953\"],[0.7777777777777778,\"#fb9f3a\"],[0.8888888888888888,\"#fdca26\"],[1.0,\"#f0f921\"]],\"type\":\"histogram2dcontour\"}],\"mesh3d\":[{\"colorbar\":{\"outlinewidth\":0,\"ticks\":\"\"},\"type\":\"mesh3d\"}],\"parcoords\":[{\"line\":{\"colorbar\":{\"outlinewidth\":0,\"ticks\":\"\"}},\"type\":\"parcoords\"}],\"pie\":[{\"automargin\":true,\"type\":\"pie\"}],\"scatter\":[{\"marker\":{\"colorbar\":{\"outlinewidth\":0,\"ticks\":\"\"}},\"type\":\"scatter\"}],\"scatter3d\":[{\"line\":{\"colorbar\":{\"outlinewidth\":0,\"ticks\":\"\"}},\"marker\":{\"colorbar\":{\"outlinewidth\":0,\"ticks\":\"\"}},\"type\":\"scatter3d\"}],\"scattercarpet\":[{\"marker\":{\"colorbar\":{\"outlinewidth\":0,\"ticks\":\"\"}},\"type\":\"scattercarpet\"}],\"scattergeo\":[{\"marker\":{\"colorbar\":{\"outlinewidth\":0,\"ticks\":\"\"}},\"type\":\"scattergeo\"}],\"scattergl\":[{\"marker\":{\"colorbar\":{\"outlinewidth\":0,\"ticks\":\"\"}},\"type\":\"scattergl\"}],\"scattermapbox\":[{\"marker\":{\"colorbar\":{\"outlinewidth\":0,\"ticks\":\"\"}},\"type\":\"scattermapbox\"}],\"scatterpolar\":[{\"marker\":{\"colorbar\":{\"outlinewidth\":0,\"ticks\":\"\"}},\"type\":\"scatterpolar\"}],\"scatterpolargl\":[{\"marker\":{\"colorbar\":{\"outlinewidth\":0,\"ticks\":\"\"}},\"type\":\"scatterpolargl\"}],\"scatterternary\":[{\"marker\":{\"colorbar\":{\"outlinewidth\":0,\"ticks\":\"\"}},\"type\":\"scatterternary\"}],\"surface\":[{\"colorbar\":{\"outlinewidth\":0,\"ticks\":\"\"},\"colorscale\":[[0.0,\"#0d0887\"],[0.1111111111111111,\"#46039f\"],[0.2222222222222222,\"#7201a8\"],[0.3333333333333333,\"#9c179e\"],[0.4444444444444444,\"#bd3786\"],[0.5555555555555556,\"#d8576b\"],[0.6666666666666666,\"#ed7953\"],[0.7777777777777778,\"#fb9f3a\"],[0.8888888888888888,\"#fdca26\"],[1.0,\"#f0f921\"]],\"type\":\"surface\"}],\"table\":[{\"cells\":{\"fill\":{\"color\":\"#EBF0F8\"},\"line\":{\"color\":\"white\"}},\"header\":{\"fill\":{\"color\":\"#C8D4E3\"},\"line\":{\"color\":\"white\"}},\"type\":\"table\"}]},\"layout\":{\"annotationdefaults\":{\"arrowcolor\":\"#2a3f5f\",\"arrowhead\":0,\"arrowwidth\":1},\"autotypenumbers\":\"strict\",\"coloraxis\":{\"colorbar\":{\"outlinewidth\":0,\"ticks\":\"\"}},\"colorscale\":{\"diverging\":[[0,\"#8e0152\"],[0.1,\"#c51b7d\"],[0.2,\"#de77ae\"],[0.3,\"#f1b6da\"],[0.4,\"#fde0ef\"],[0.5,\"#f7f7f7\"],[0.6,\"#e6f5d0\"],[0.7,\"#b8e186\"],[0.8,\"#7fbc41\"],[0.9,\"#4d9221\"],[1,\"#276419\"]],\"sequential\":[[0.0,\"#0d0887\"],[0.1111111111111111,\"#46039f\"],[0.2222222222222222,\"#7201a8\"],[0.3333333333333333,\"#9c179e\"],[0.4444444444444444,\"#bd3786\"],[0.5555555555555556,\"#d8576b\"],[0.6666666666666666,\"#ed7953\"],[0.7777777777777778,\"#fb9f3a\"],[0.8888888888888888,\"#fdca26\"],[1.0,\"#f0f921\"]],\"sequentialminus\":[[0.0,\"#0d0887\"],[0.1111111111111111,\"#46039f\"],[0.2222222222222222,\"#7201a8\"],[0.3333333333333333,\"#9c179e\"],[0.4444444444444444,\"#bd3786\"],[0.5555555555555556,\"#d8576b\"],[0.6666666666666666,\"#ed7953\"],[0.7777777777777778,\"#fb9f3a\"],[0.8888888888888888,\"#fdca26\"],[1.0,\"#f0f921\"]]},\"colorway\":[\"#636efa\",\"#EF553B\",\"#00cc96\",\"#ab63fa\",\"#FFA15A\",\"#19d3f3\",\"#FF6692\",\"#B6E880\",\"#FF97FF\",\"#FECB52\"],\"font\":{\"color\":\"#2a3f5f\"},\"geo\":{\"bgcolor\":\"white\",\"lakecolor\":\"white\",\"landcolor\":\"#E5ECF6\",\"showlakes\":true,\"showland\":true,\"subunitcolor\":\"white\"},\"hoverlabel\":{\"align\":\"left\"},\"hovermode\":\"closest\",\"mapbox\":{\"style\":\"light\"},\"paper_bgcolor\":\"white\",\"plot_bgcolor\":\"#E5ECF6\",\"polar\":{\"angularaxis\":{\"gridcolor\":\"white\",\"linecolor\":\"white\",\"ticks\":\"\"},\"bgcolor\":\"#E5ECF6\",\"radialaxis\":{\"gridcolor\":\"white\",\"linecolor\":\"white\",\"ticks\":\"\"}},\"scene\":{\"xaxis\":{\"backgroundcolor\":\"#E5ECF6\",\"gridcolor\":\"white\",\"gridwidth\":2,\"linecolor\":\"white\",\"showbackground\":true,\"ticks\":\"\",\"zerolinecolor\":\"white\"},\"yaxis\":{\"backgroundcolor\":\"#E5ECF6\",\"gridcolor\":\"white\",\"gridwidth\":2,\"linecolor\":\"white\",\"showbackground\":true,\"ticks\":\"\",\"zerolinecolor\":\"white\"},\"zaxis\":{\"backgroundcolor\":\"#E5ECF6\",\"gridcolor\":\"white\",\"gridwidth\":2,\"linecolor\":\"white\",\"showbackground\":true,\"ticks\":\"\",\"zerolinecolor\":\"white\"}},\"shapedefaults\":{\"line\":{\"color\":\"#2a3f5f\"}},\"ternary\":{\"aaxis\":{\"gridcolor\":\"white\",\"linecolor\":\"white\",\"ticks\":\"\"},\"baxis\":{\"gridcolor\":\"white\",\"linecolor\":\"white\",\"ticks\":\"\"},\"bgcolor\":\"#E5ECF6\",\"caxis\":{\"gridcolor\":\"white\",\"linecolor\":\"white\",\"ticks\":\"\"}},\"title\":{\"x\":0.05},\"xaxis\":{\"automargin\":true,\"gridcolor\":\"white\",\"linecolor\":\"white\",\"ticks\":\"\",\"title\":{\"standoff\":15},\"zerolinecolor\":\"white\",\"zerolinewidth\":2},\"yaxis\":{\"automargin\":true,\"gridcolor\":\"white\",\"linecolor\":\"white\",\"ticks\":\"\",\"title\":{\"standoff\":15},\"zerolinecolor\":\"white\",\"zerolinewidth\":2}}},\"title\":{\"text\":\"Parallel Coordinate Plot\"}},                        {\"responsive\": true}                    ).then(function(){\n",
       "                            \n",
       "var gd = document.getElementById('c102dcaa-13ca-4eac-a9a9-5b445b7258e0');\n",
       "var x = new MutationObserver(function (mutations, observer) {{\n",
       "        var display = window.getComputedStyle(gd).display;\n",
       "        if (!display || display === 'none') {{\n",
       "            console.log([gd, 'removed!']);\n",
       "            Plotly.purge(gd);\n",
       "            observer.disconnect();\n",
       "        }}\n",
       "}});\n",
       "\n",
       "// Listen for the removal of the full notebook cells\n",
       "var notebookContainer = gd.closest('#notebook-container');\n",
       "if (notebookContainer) {{\n",
       "    x.observe(notebookContainer, {childList: true});\n",
       "}}\n",
       "\n",
       "// Listen for the clearing of the current output cell\n",
       "var outputEl = gd.closest('.output');\n",
       "if (outputEl) {{\n",
       "    x.observe(outputEl, {childList: true});\n",
       "}}\n",
       "\n",
       "                        })                };                });            </script>        </div>"
      ]
     },
     "metadata": {},
     "output_type": "display_data"
    }
   ],
   "source": [
    "optuna.visualization.plot_parallel_coordinate(study)"
   ]
  },
  {
   "cell_type": "code",
   "execution_count": 23,
   "id": "6e042c95",
   "metadata": {
    "execution": {
     "iopub.execute_input": "2021-09-23T21:42:30.941984Z",
     "iopub.status.busy": "2021-09-23T21:42:30.941293Z",
     "iopub.status.idle": "2021-09-23T21:42:30.945904Z",
     "shell.execute_reply": "2021-09-23T21:42:30.946393Z"
    },
    "id": "zGTKvWzrYkuj",
    "outputId": "8b8e516f-b241-4b49-e372-899d4d062948",
    "papermill": {
     "duration": 0.5949,
     "end_time": "2021-09-23T21:42:30.946549",
     "exception": false,
     "start_time": "2021-09-23T21:42:30.351649",
     "status": "completed"
    },
    "tags": []
   },
   "outputs": [
    {
     "data": {
      "text/html": [
       "<div>\n",
       "<style scoped>\n",
       "    .dataframe tbody tr th:only-of-type {\n",
       "        vertical-align: middle;\n",
       "    }\n",
       "\n",
       "    .dataframe tbody tr th {\n",
       "        vertical-align: top;\n",
       "    }\n",
       "\n",
       "    .dataframe thead th {\n",
       "        text-align: right;\n",
       "    }\n",
       "</style>\n",
       "<table border=\"1\" class=\"dataframe\">\n",
       "  <thead>\n",
       "    <tr style=\"text-align: right;\">\n",
       "      <th></th>\n",
       "      <th>number</th>\n",
       "      <th>value</th>\n",
       "      <th>datetime_start</th>\n",
       "      <th>datetime_complete</th>\n",
       "      <th>duration</th>\n",
       "      <th>params_batch_size</th>\n",
       "      <th>params_dropout_rate</th>\n",
       "      <th>params_lr</th>\n",
       "      <th>params_n_layers</th>\n",
       "      <th>params_n_units_l0</th>\n",
       "      <th>params_n_units_l1</th>\n",
       "      <th>params_n_units_l2</th>\n",
       "      <th>params_weight_decay</th>\n",
       "      <th>state</th>\n",
       "    </tr>\n",
       "  </thead>\n",
       "  <tbody>\n",
       "    <tr>\n",
       "      <th>0</th>\n",
       "      <td>0</td>\n",
       "      <td>0.123002</td>\n",
       "      <td>2021-09-23 19:47:05.640172</td>\n",
       "      <td>2021-09-23 19:49:51.871197</td>\n",
       "      <td>0 days 00:02:46.231025</td>\n",
       "      <td>114</td>\n",
       "      <td>0.315854</td>\n",
       "      <td>0.096425</td>\n",
       "      <td>1</td>\n",
       "      <td>53</td>\n",
       "      <td>NaN</td>\n",
       "      <td>NaN</td>\n",
       "      <td>0.294287</td>\n",
       "      <td>COMPLETE</td>\n",
       "    </tr>\n",
       "    <tr>\n",
       "      <th>1</th>\n",
       "      <td>1</td>\n",
       "      <td>0.237988</td>\n",
       "      <td>2021-09-23 19:49:51.873309</td>\n",
       "      <td>2021-09-23 19:50:22.687444</td>\n",
       "      <td>0 days 00:00:30.814135</td>\n",
       "      <td>423</td>\n",
       "      <td>0.351322</td>\n",
       "      <td>0.001533</td>\n",
       "      <td>2</td>\n",
       "      <td>116</td>\n",
       "      <td>40.0</td>\n",
       "      <td>NaN</td>\n",
       "      <td>0.437957</td>\n",
       "      <td>COMPLETE</td>\n",
       "    </tr>\n",
       "    <tr>\n",
       "      <th>2</th>\n",
       "      <td>2</td>\n",
       "      <td>0.162815</td>\n",
       "      <td>2021-09-23 19:50:22.689022</td>\n",
       "      <td>2021-09-23 20:08:28.459704</td>\n",
       "      <td>0 days 00:18:05.770682</td>\n",
       "      <td>11</td>\n",
       "      <td>0.345351</td>\n",
       "      <td>0.015099</td>\n",
       "      <td>2</td>\n",
       "      <td>81</td>\n",
       "      <td>14.0</td>\n",
       "      <td>NaN</td>\n",
       "      <td>0.126529</td>\n",
       "      <td>COMPLETE</td>\n",
       "    </tr>\n",
       "    <tr>\n",
       "      <th>3</th>\n",
       "      <td>3</td>\n",
       "      <td>0.111843</td>\n",
       "      <td>2021-09-23 20:08:28.461390</td>\n",
       "      <td>2021-09-23 20:10:54.563743</td>\n",
       "      <td>0 days 00:02:26.102353</td>\n",
       "      <td>154</td>\n",
       "      <td>0.329330</td>\n",
       "      <td>0.000021</td>\n",
       "      <td>1</td>\n",
       "      <td>90</td>\n",
       "      <td>NaN</td>\n",
       "      <td>NaN</td>\n",
       "      <td>0.354112</td>\n",
       "      <td>COMPLETE</td>\n",
       "    </tr>\n",
       "    <tr>\n",
       "      <th>4</th>\n",
       "      <td>4</td>\n",
       "      <td>0.216516</td>\n",
       "      <td>2021-09-23 20:10:54.565874</td>\n",
       "      <td>2021-09-23 20:20:57.549819</td>\n",
       "      <td>0 days 00:10:02.983945</td>\n",
       "      <td>14</td>\n",
       "      <td>0.330398</td>\n",
       "      <td>0.000013</td>\n",
       "      <td>2</td>\n",
       "      <td>48</td>\n",
       "      <td>107.0</td>\n",
       "      <td>NaN</td>\n",
       "      <td>0.295747</td>\n",
       "      <td>COMPLETE</td>\n",
       "    </tr>\n",
       "  </tbody>\n",
       "</table>\n",
       "</div>"
      ],
      "text/plain": [
       "   number     value             datetime_start          datetime_complete  \\\n",
       "0       0  0.123002 2021-09-23 19:47:05.640172 2021-09-23 19:49:51.871197   \n",
       "1       1  0.237988 2021-09-23 19:49:51.873309 2021-09-23 19:50:22.687444   \n",
       "2       2  0.162815 2021-09-23 19:50:22.689022 2021-09-23 20:08:28.459704   \n",
       "3       3  0.111843 2021-09-23 20:08:28.461390 2021-09-23 20:10:54.563743   \n",
       "4       4  0.216516 2021-09-23 20:10:54.565874 2021-09-23 20:20:57.549819   \n",
       "\n",
       "                duration  params_batch_size  params_dropout_rate  params_lr  \\\n",
       "0 0 days 00:02:46.231025                114             0.315854   0.096425   \n",
       "1 0 days 00:00:30.814135                423             0.351322   0.001533   \n",
       "2 0 days 00:18:05.770682                 11             0.345351   0.015099   \n",
       "3 0 days 00:02:26.102353                154             0.329330   0.000021   \n",
       "4 0 days 00:10:02.983945                 14             0.330398   0.000013   \n",
       "\n",
       "   params_n_layers  params_n_units_l0  params_n_units_l1  params_n_units_l2  \\\n",
       "0                1                 53                NaN                NaN   \n",
       "1                2                116               40.0                NaN   \n",
       "2                2                 81               14.0                NaN   \n",
       "3                1                 90                NaN                NaN   \n",
       "4                2                 48              107.0                NaN   \n",
       "\n",
       "   params_weight_decay     state  \n",
       "0             0.294287  COMPLETE  \n",
       "1             0.437957  COMPLETE  \n",
       "2             0.126529  COMPLETE  \n",
       "3             0.354112  COMPLETE  \n",
       "4             0.295747  COMPLETE  "
      ]
     },
     "execution_count": 23,
     "metadata": {},
     "output_type": "execute_result"
    }
   ],
   "source": [
    "study.trials_dataframe().head()"
   ]
  },
  {
   "cell_type": "code",
   "execution_count": 24,
   "id": "825ee188",
   "metadata": {
    "execution": {
     "iopub.execute_input": "2021-09-23T21:42:32.120805Z",
     "iopub.status.busy": "2021-09-23T21:42:32.119706Z",
     "iopub.status.idle": "2021-09-23T21:42:32.141755Z",
     "shell.execute_reply": "2021-09-23T21:42:32.142287Z"
    },
    "id": "FnYWhE5cec4Q",
    "outputId": "ae4419c2-08d8-4000-d1d8-7544cc3e0e2b",
    "papermill": {
     "duration": 0.588122,
     "end_time": "2021-09-23T21:42:32.142441",
     "exception": false,
     "start_time": "2021-09-23T21:42:31.554319",
     "status": "completed"
    },
    "tags": []
   },
   "outputs": [
    {
     "data": {
      "text/plain": [
       "1    22\n",
       "2     4\n",
       "Name: params_n_layers, dtype: int64"
      ]
     },
     "execution_count": 24,
     "metadata": {},
     "output_type": "execute_result"
    }
   ],
   "source": [
    "study.trials_dataframe().query(\"state=='COMPLETE'\").params_n_layers.value_counts()"
   ]
  },
  {
   "cell_type": "markdown",
   "id": "6a5d79bd",
   "metadata": {
    "id": "HkA_kYbvc5eh",
    "papermill": {
     "duration": 0.5513,
     "end_time": "2021-09-23T21:42:33.253747",
     "exception": false,
     "start_time": "2021-09-23T21:42:32.702447",
     "status": "completed"
    },
    "tags": []
   },
   "source": [
    "Instead, we can look at each subset of trials for different values of `n_layers`. The resulting trials have no NaN parameters since the paramaters are sampled after a value for `n_layers` has been suggested. Looks like `n_layers=1` works best."
   ]
  },
  {
   "cell_type": "code",
   "execution_count": 25,
   "id": "4aaf7ce4",
   "metadata": {
    "execution": {
     "iopub.execute_input": "2021-09-23T21:42:34.377538Z",
     "iopub.status.busy": "2021-09-23T21:42:34.376635Z",
     "iopub.status.idle": "2021-09-23T21:42:34.509641Z",
     "shell.execute_reply": "2021-09-23T21:42:34.509191Z"
    },
    "id": "THs6gM21Ykuj",
    "outputId": "1f23fc71-6c7c-4acf-f819-199ea69f2a0d",
    "papermill": {
     "duration": 0.693844,
     "end_time": "2021-09-23T21:42:34.509755",
     "exception": false,
     "start_time": "2021-09-23T21:42:33.815911",
     "status": "completed"
    },
    "tags": []
   },
   "outputs": [
    {
     "name": "stderr",
     "output_type": "stream",
     "text": [
      "\u001b[32m[I 2021-09-23 21:42:34,373]\u001b[0m A new study created in memory with name: no-name-29782c0b-1f8b-44ae-81e6-8aa01358507a\u001b[0m\n",
      "\u001b[32m[I 2021-09-23 21:42:34,375]\u001b[0m A new study created in memory with name: no-name-3d2590be-ca0d-4e0a-8850-4b7757d31280\u001b[0m\n",
      "\u001b[32m[I 2021-09-23 21:42:34,378]\u001b[0m A new study created in memory with name: no-name-7cd2a975-d21a-4afb-811c-aee37abdd9a8\u001b[0m\n",
      "/opt/conda/lib/python3.7/site-packages/ipykernel_launcher.py:7: ExperimentalWarning:\n",
      "\n",
      "add_trials is experimental (supported from v2.5.0). The interface can change in the future.\n",
      "\n",
      "/opt/conda/lib/python3.7/site-packages/optuna/study/study.py:969: ExperimentalWarning:\n",
      "\n",
      "add_trial is experimental (supported from v2.0.0). The interface can change in the future.\n",
      "\n"
     ]
    },
    {
     "data": {
      "text/html": [
       "<div>                            <div id=\"70f37dee-2998-4f1b-aebd-e97907a18830\" class=\"plotly-graph-div\" style=\"height:525px; width:100%;\"></div>            <script type=\"text/javascript\">                require([\"plotly\"], function(Plotly) {                    window.PLOTLYENV=window.PLOTLYENV || {};                                    if (document.getElementById(\"70f37dee-2998-4f1b-aebd-e97907a18830\")) {                    Plotly.newPlot(                        \"70f37dee-2998-4f1b-aebd-e97907a18830\",                        [{\"dimensions\":[{\"label\":\"Objective Value\",\"range\":[0.06839529270986595,0.1464429818214116],\"values\":[0.12300159906347592,0.11184287914535504,0.11409320234786728,0.09494087435305124,0.12279672817750409,0.1464429818214116,0.12152141523222591,0.0925000230835601,0.08117592570789416,0.07954993568421377,0.07695315656457147,0.07632742365847435,0.0762427039684218,0.07187104103444976,0.08045786882788811,0.08383903613971429,0.0707608246819326,0.07643958191548061,0.06839529270986595,0.07020496851793542,0.07436692690420327,0.07310930447119506]},{\"label\":\"batch_size\",\"range\":[10,326],\"values\":[114,154,10,61,51,159,326,18,121,38,39,38,38,45,41,33,67,31,84,87,85,66]},{\"label\":\"dropout_rate\",\"range\":[0.20008149355360638,0.37624291740716287],\"values\":[0.3158539023605407,0.32933043478511825,0.30729240287080145,0.2740252588371055,0.2053318342868627,0.2888947355877797,0.37624291740716287,0.22699498785226394,0.23170026899019033,0.22529584259638433,0.20008149355360638,0.2053200861363653,0.20149738186810884,0.21752186915458838,0.22519668951632021,0.21542905166473528,0.2229402156983627,0.22210832647778533,0.20009250667864037,0.2010972553953743,0.2369229972659646,0.21985202574843565]},{\"label\":\"lr\",\"range\":[-4.668454315968668,-1.0158123294268757],\"ticktext\":[\"2.15e-05\",\"0.0001\",\"0.001\",\"0.01\",\"0.0964\"],\"tickvals\":[-4.668454315968668,-4,-3,-2,-1.0158123294268757],\"values\":[-1.0158123294268757,-4.668454315968668,-2.5687574321265476,-2.393080653366475,-3.172571204063297,-2.675444124549409,-3.069392034768944,-3.7597171712815234,-3.6863804740777515,-3.6544879462002675,-3.743674917182676,-3.7146641556763216,-3.733410822866581,-3.455443927264889,-3.6043036358553184,-3.576707018756331,-3.3346694383011997,-3.6911476319194354,-3.386623654979806,-3.382426039708958,-3.365414565745261,-3.360091316770521]},{\"label\":\"n_layers\",\"range\":[1,1],\"values\":[1,1,1,1,1,1,1,1,1,1,1,1,1,1,1,1,1,1,1,1,1,1]},{\"label\":\"n_units_l0\",\"range\":[53,128],\"values\":[53,90,58,80,75,62,75,113,126,126,126,128,128,128,124,115,127,125,125,126,116,123]},{\"label\":\"weight_decay\",\"range\":[0.10519795919161423,0.4898392553567651],\"values\":[0.2942866490996837,0.35411245341550385,0.2801018891438447,0.20272096943345724,0.4898392553567651,0.2755679447582429,0.3278531401206054,0.26556213804118434,0.19845560061807097,0.18046766041750062,0.1788238449171621,0.1714129886898159,0.15163439721617653,0.10519795919161423,0.1853632103023621,0.21849152562410187,0.11209537252923243,0.16856945205298712,0.10907103421869807,0.1233921525223666,0.14141080372193618,0.14024139423007215]}],\"labelangle\":30,\"labelside\":\"bottom\",\"line\":{\"color\":[0.12300159906347592,0.11184287914535504,0.11409320234786728,0.09494087435305124,0.12279672817750409,0.1464429818214116,0.12152141523222591,0.0925000230835601,0.08117592570789416,0.07954993568421377,0.07695315656457147,0.07632742365847435,0.0762427039684218,0.07187104103444976,0.08045786882788811,0.08383903613971429,0.0707608246819326,0.07643958191548061,0.06839529270986595,0.07020496851793542,0.07436692690420327,0.07310930447119506],\"colorbar\":{\"title\":{\"text\":\"Objective Value\"}},\"colorscale\":[[0.0,\"rgb(247,251,255)\"],[0.125,\"rgb(222,235,247)\"],[0.25,\"rgb(198,219,239)\"],[0.375,\"rgb(158,202,225)\"],[0.5,\"rgb(107,174,214)\"],[0.625,\"rgb(66,146,198)\"],[0.75,\"rgb(33,113,181)\"],[0.875,\"rgb(8,81,156)\"],[1.0,\"rgb(8,48,107)\"]],\"reversescale\":true,\"showscale\":true},\"type\":\"parcoords\"}],                        {\"template\":{\"data\":{\"bar\":[{\"error_x\":{\"color\":\"#2a3f5f\"},\"error_y\":{\"color\":\"#2a3f5f\"},\"marker\":{\"line\":{\"color\":\"#E5ECF6\",\"width\":0.5},\"pattern\":{\"fillmode\":\"overlay\",\"size\":10,\"solidity\":0.2}},\"type\":\"bar\"}],\"barpolar\":[{\"marker\":{\"line\":{\"color\":\"#E5ECF6\",\"width\":0.5},\"pattern\":{\"fillmode\":\"overlay\",\"size\":10,\"solidity\":0.2}},\"type\":\"barpolar\"}],\"carpet\":[{\"aaxis\":{\"endlinecolor\":\"#2a3f5f\",\"gridcolor\":\"white\",\"linecolor\":\"white\",\"minorgridcolor\":\"white\",\"startlinecolor\":\"#2a3f5f\"},\"baxis\":{\"endlinecolor\":\"#2a3f5f\",\"gridcolor\":\"white\",\"linecolor\":\"white\",\"minorgridcolor\":\"white\",\"startlinecolor\":\"#2a3f5f\"},\"type\":\"carpet\"}],\"choropleth\":[{\"colorbar\":{\"outlinewidth\":0,\"ticks\":\"\"},\"type\":\"choropleth\"}],\"contour\":[{\"colorbar\":{\"outlinewidth\":0,\"ticks\":\"\"},\"colorscale\":[[0.0,\"#0d0887\"],[0.1111111111111111,\"#46039f\"],[0.2222222222222222,\"#7201a8\"],[0.3333333333333333,\"#9c179e\"],[0.4444444444444444,\"#bd3786\"],[0.5555555555555556,\"#d8576b\"],[0.6666666666666666,\"#ed7953\"],[0.7777777777777778,\"#fb9f3a\"],[0.8888888888888888,\"#fdca26\"],[1.0,\"#f0f921\"]],\"type\":\"contour\"}],\"contourcarpet\":[{\"colorbar\":{\"outlinewidth\":0,\"ticks\":\"\"},\"type\":\"contourcarpet\"}],\"heatmap\":[{\"colorbar\":{\"outlinewidth\":0,\"ticks\":\"\"},\"colorscale\":[[0.0,\"#0d0887\"],[0.1111111111111111,\"#46039f\"],[0.2222222222222222,\"#7201a8\"],[0.3333333333333333,\"#9c179e\"],[0.4444444444444444,\"#bd3786\"],[0.5555555555555556,\"#d8576b\"],[0.6666666666666666,\"#ed7953\"],[0.7777777777777778,\"#fb9f3a\"],[0.8888888888888888,\"#fdca26\"],[1.0,\"#f0f921\"]],\"type\":\"heatmap\"}],\"heatmapgl\":[{\"colorbar\":{\"outlinewidth\":0,\"ticks\":\"\"},\"colorscale\":[[0.0,\"#0d0887\"],[0.1111111111111111,\"#46039f\"],[0.2222222222222222,\"#7201a8\"],[0.3333333333333333,\"#9c179e\"],[0.4444444444444444,\"#bd3786\"],[0.5555555555555556,\"#d8576b\"],[0.6666666666666666,\"#ed7953\"],[0.7777777777777778,\"#fb9f3a\"],[0.8888888888888888,\"#fdca26\"],[1.0,\"#f0f921\"]],\"type\":\"heatmapgl\"}],\"histogram\":[{\"marker\":{\"pattern\":{\"fillmode\":\"overlay\",\"size\":10,\"solidity\":0.2}},\"type\":\"histogram\"}],\"histogram2d\":[{\"colorbar\":{\"outlinewidth\":0,\"ticks\":\"\"},\"colorscale\":[[0.0,\"#0d0887\"],[0.1111111111111111,\"#46039f\"],[0.2222222222222222,\"#7201a8\"],[0.3333333333333333,\"#9c179e\"],[0.4444444444444444,\"#bd3786\"],[0.5555555555555556,\"#d8576b\"],[0.6666666666666666,\"#ed7953\"],[0.7777777777777778,\"#fb9f3a\"],[0.8888888888888888,\"#fdca26\"],[1.0,\"#f0f921\"]],\"type\":\"histogram2d\"}],\"histogram2dcontour\":[{\"colorbar\":{\"outlinewidth\":0,\"ticks\":\"\"},\"colorscale\":[[0.0,\"#0d0887\"],[0.1111111111111111,\"#46039f\"],[0.2222222222222222,\"#7201a8\"],[0.3333333333333333,\"#9c179e\"],[0.4444444444444444,\"#bd3786\"],[0.5555555555555556,\"#d8576b\"],[0.6666666666666666,\"#ed7953\"],[0.7777777777777778,\"#fb9f3a\"],[0.8888888888888888,\"#fdca26\"],[1.0,\"#f0f921\"]],\"type\":\"histogram2dcontour\"}],\"mesh3d\":[{\"colorbar\":{\"outlinewidth\":0,\"ticks\":\"\"},\"type\":\"mesh3d\"}],\"parcoords\":[{\"line\":{\"colorbar\":{\"outlinewidth\":0,\"ticks\":\"\"}},\"type\":\"parcoords\"}],\"pie\":[{\"automargin\":true,\"type\":\"pie\"}],\"scatter\":[{\"marker\":{\"colorbar\":{\"outlinewidth\":0,\"ticks\":\"\"}},\"type\":\"scatter\"}],\"scatter3d\":[{\"line\":{\"colorbar\":{\"outlinewidth\":0,\"ticks\":\"\"}},\"marker\":{\"colorbar\":{\"outlinewidth\":0,\"ticks\":\"\"}},\"type\":\"scatter3d\"}],\"scattercarpet\":[{\"marker\":{\"colorbar\":{\"outlinewidth\":0,\"ticks\":\"\"}},\"type\":\"scattercarpet\"}],\"scattergeo\":[{\"marker\":{\"colorbar\":{\"outlinewidth\":0,\"ticks\":\"\"}},\"type\":\"scattergeo\"}],\"scattergl\":[{\"marker\":{\"colorbar\":{\"outlinewidth\":0,\"ticks\":\"\"}},\"type\":\"scattergl\"}],\"scattermapbox\":[{\"marker\":{\"colorbar\":{\"outlinewidth\":0,\"ticks\":\"\"}},\"type\":\"scattermapbox\"}],\"scatterpolar\":[{\"marker\":{\"colorbar\":{\"outlinewidth\":0,\"ticks\":\"\"}},\"type\":\"scatterpolar\"}],\"scatterpolargl\":[{\"marker\":{\"colorbar\":{\"outlinewidth\":0,\"ticks\":\"\"}},\"type\":\"scatterpolargl\"}],\"scatterternary\":[{\"marker\":{\"colorbar\":{\"outlinewidth\":0,\"ticks\":\"\"}},\"type\":\"scatterternary\"}],\"surface\":[{\"colorbar\":{\"outlinewidth\":0,\"ticks\":\"\"},\"colorscale\":[[0.0,\"#0d0887\"],[0.1111111111111111,\"#46039f\"],[0.2222222222222222,\"#7201a8\"],[0.3333333333333333,\"#9c179e\"],[0.4444444444444444,\"#bd3786\"],[0.5555555555555556,\"#d8576b\"],[0.6666666666666666,\"#ed7953\"],[0.7777777777777778,\"#fb9f3a\"],[0.8888888888888888,\"#fdca26\"],[1.0,\"#f0f921\"]],\"type\":\"surface\"}],\"table\":[{\"cells\":{\"fill\":{\"color\":\"#EBF0F8\"},\"line\":{\"color\":\"white\"}},\"header\":{\"fill\":{\"color\":\"#C8D4E3\"},\"line\":{\"color\":\"white\"}},\"type\":\"table\"}]},\"layout\":{\"annotationdefaults\":{\"arrowcolor\":\"#2a3f5f\",\"arrowhead\":0,\"arrowwidth\":1},\"autotypenumbers\":\"strict\",\"coloraxis\":{\"colorbar\":{\"outlinewidth\":0,\"ticks\":\"\"}},\"colorscale\":{\"diverging\":[[0,\"#8e0152\"],[0.1,\"#c51b7d\"],[0.2,\"#de77ae\"],[0.3,\"#f1b6da\"],[0.4,\"#fde0ef\"],[0.5,\"#f7f7f7\"],[0.6,\"#e6f5d0\"],[0.7,\"#b8e186\"],[0.8,\"#7fbc41\"],[0.9,\"#4d9221\"],[1,\"#276419\"]],\"sequential\":[[0.0,\"#0d0887\"],[0.1111111111111111,\"#46039f\"],[0.2222222222222222,\"#7201a8\"],[0.3333333333333333,\"#9c179e\"],[0.4444444444444444,\"#bd3786\"],[0.5555555555555556,\"#d8576b\"],[0.6666666666666666,\"#ed7953\"],[0.7777777777777778,\"#fb9f3a\"],[0.8888888888888888,\"#fdca26\"],[1.0,\"#f0f921\"]],\"sequentialminus\":[[0.0,\"#0d0887\"],[0.1111111111111111,\"#46039f\"],[0.2222222222222222,\"#7201a8\"],[0.3333333333333333,\"#9c179e\"],[0.4444444444444444,\"#bd3786\"],[0.5555555555555556,\"#d8576b\"],[0.6666666666666666,\"#ed7953\"],[0.7777777777777778,\"#fb9f3a\"],[0.8888888888888888,\"#fdca26\"],[1.0,\"#f0f921\"]]},\"colorway\":[\"#636efa\",\"#EF553B\",\"#00cc96\",\"#ab63fa\",\"#FFA15A\",\"#19d3f3\",\"#FF6692\",\"#B6E880\",\"#FF97FF\",\"#FECB52\"],\"font\":{\"color\":\"#2a3f5f\"},\"geo\":{\"bgcolor\":\"white\",\"lakecolor\":\"white\",\"landcolor\":\"#E5ECF6\",\"showlakes\":true,\"showland\":true,\"subunitcolor\":\"white\"},\"hoverlabel\":{\"align\":\"left\"},\"hovermode\":\"closest\",\"mapbox\":{\"style\":\"light\"},\"paper_bgcolor\":\"white\",\"plot_bgcolor\":\"#E5ECF6\",\"polar\":{\"angularaxis\":{\"gridcolor\":\"white\",\"linecolor\":\"white\",\"ticks\":\"\"},\"bgcolor\":\"#E5ECF6\",\"radialaxis\":{\"gridcolor\":\"white\",\"linecolor\":\"white\",\"ticks\":\"\"}},\"scene\":{\"xaxis\":{\"backgroundcolor\":\"#E5ECF6\",\"gridcolor\":\"white\",\"gridwidth\":2,\"linecolor\":\"white\",\"showbackground\":true,\"ticks\":\"\",\"zerolinecolor\":\"white\"},\"yaxis\":{\"backgroundcolor\":\"#E5ECF6\",\"gridcolor\":\"white\",\"gridwidth\":2,\"linecolor\":\"white\",\"showbackground\":true,\"ticks\":\"\",\"zerolinecolor\":\"white\"},\"zaxis\":{\"backgroundcolor\":\"#E5ECF6\",\"gridcolor\":\"white\",\"gridwidth\":2,\"linecolor\":\"white\",\"showbackground\":true,\"ticks\":\"\",\"zerolinecolor\":\"white\"}},\"shapedefaults\":{\"line\":{\"color\":\"#2a3f5f\"}},\"ternary\":{\"aaxis\":{\"gridcolor\":\"white\",\"linecolor\":\"white\",\"ticks\":\"\"},\"baxis\":{\"gridcolor\":\"white\",\"linecolor\":\"white\",\"ticks\":\"\"},\"bgcolor\":\"#E5ECF6\",\"caxis\":{\"gridcolor\":\"white\",\"linecolor\":\"white\",\"ticks\":\"\"}},\"title\":{\"x\":0.05},\"xaxis\":{\"automargin\":true,\"gridcolor\":\"white\",\"linecolor\":\"white\",\"ticks\":\"\",\"title\":{\"standoff\":15},\"zerolinecolor\":\"white\",\"zerolinewidth\":2},\"yaxis\":{\"automargin\":true,\"gridcolor\":\"white\",\"linecolor\":\"white\",\"ticks\":\"\",\"title\":{\"standoff\":15},\"zerolinecolor\":\"white\",\"zerolinewidth\":2}}},\"title\":{\"text\":\"Parallel Coordinate Plot\"}},                        {\"responsive\": true}                    ).then(function(){\n",
       "                            \n",
       "var gd = document.getElementById('70f37dee-2998-4f1b-aebd-e97907a18830');\n",
       "var x = new MutationObserver(function (mutations, observer) {{\n",
       "        var display = window.getComputedStyle(gd).display;\n",
       "        if (!display || display === 'none') {{\n",
       "            console.log([gd, 'removed!']);\n",
       "            Plotly.purge(gd);\n",
       "            observer.disconnect();\n",
       "        }}\n",
       "}});\n",
       "\n",
       "// Listen for the removal of the full notebook cells\n",
       "var notebookContainer = gd.closest('#notebook-container');\n",
       "if (notebookContainer) {{\n",
       "    x.observe(notebookContainer, {childList: true});\n",
       "}}\n",
       "\n",
       "// Listen for the clearing of the current output cell\n",
       "var outputEl = gd.closest('.output');\n",
       "if (outputEl) {{\n",
       "    x.observe(outputEl, {childList: true});\n",
       "}}\n",
       "\n",
       "                        })                };                });            </script>        </div>"
      ]
     },
     "metadata": {},
     "output_type": "display_data"
    },
    {
     "data": {
      "text/html": [
       "<div>                            <div id=\"6d2ab54f-ea07-4578-b771-b2905e59a57c\" class=\"plotly-graph-div\" style=\"height:525px; width:100%;\"></div>            <script type=\"text/javascript\">                require([\"plotly\"], function(Plotly) {                    window.PLOTLYENV=window.PLOTLYENV || {};                                    if (document.getElementById(\"6d2ab54f-ea07-4578-b771-b2905e59a57c\")) {                    Plotly.newPlot(                        \"6d2ab54f-ea07-4578-b771-b2905e59a57c\",                        [{\"dimensions\":[{\"label\":\"Objective Value\",\"range\":[0.07784998359158629,0.23798754679806097],\"values\":[0.23798754679806097,0.16281519138739997,0.21651574254129094,0.07784998359158629]},{\"label\":\"batch_size\",\"range\":[11,423],\"values\":[423,11,14,51]},{\"label\":\"dropout_rate\",\"range\":[0.25158488976494664,0.351322195201316],\"values\":[0.351322195201316,0.3453513833279788,0.33039780511533695,0.25158488976494664]},{\"label\":\"lr\",\"range\":[-4.870613052667828,-1.821053702178668],\"ticktext\":[\"1.35e-05\",\"0.0001\",\"0.001\",\"0.01\",\"0.0151\"],\"tickvals\":[-4.870613052667828,-4,-3,-2,-1.821053702178668],\"values\":[-2.8143734433264105,-1.821053702178668,-4.870613052667828,-3.358753144118046]},{\"label\":\"n_layers\",\"range\":[2,2],\"values\":[2,2,2,2]},{\"label\":\"n_units_l0\",\"range\":[48,119],\"values\":[116,81,48,119]},{\"label\":\"n_units_l1\",\"range\":[14,128],\"values\":[40,14,107,128]},{\"label\":\"weight_decay\",\"range\":[0.05603333007318556,0.4379572929978157],\"values\":[0.4379572929978157,0.12652863739461595,0.2957472242049232,0.05603333007318556]}],\"labelangle\":30,\"labelside\":\"bottom\",\"line\":{\"color\":[0.23798754679806097,0.16281519138739997,0.21651574254129094,0.07784998359158629],\"colorbar\":{\"title\":{\"text\":\"Objective Value\"}},\"colorscale\":[[0.0,\"rgb(247,251,255)\"],[0.125,\"rgb(222,235,247)\"],[0.25,\"rgb(198,219,239)\"],[0.375,\"rgb(158,202,225)\"],[0.5,\"rgb(107,174,214)\"],[0.625,\"rgb(66,146,198)\"],[0.75,\"rgb(33,113,181)\"],[0.875,\"rgb(8,81,156)\"],[1.0,\"rgb(8,48,107)\"]],\"reversescale\":true,\"showscale\":true},\"type\":\"parcoords\"}],                        {\"template\":{\"data\":{\"bar\":[{\"error_x\":{\"color\":\"#2a3f5f\"},\"error_y\":{\"color\":\"#2a3f5f\"},\"marker\":{\"line\":{\"color\":\"#E5ECF6\",\"width\":0.5},\"pattern\":{\"fillmode\":\"overlay\",\"size\":10,\"solidity\":0.2}},\"type\":\"bar\"}],\"barpolar\":[{\"marker\":{\"line\":{\"color\":\"#E5ECF6\",\"width\":0.5},\"pattern\":{\"fillmode\":\"overlay\",\"size\":10,\"solidity\":0.2}},\"type\":\"barpolar\"}],\"carpet\":[{\"aaxis\":{\"endlinecolor\":\"#2a3f5f\",\"gridcolor\":\"white\",\"linecolor\":\"white\",\"minorgridcolor\":\"white\",\"startlinecolor\":\"#2a3f5f\"},\"baxis\":{\"endlinecolor\":\"#2a3f5f\",\"gridcolor\":\"white\",\"linecolor\":\"white\",\"minorgridcolor\":\"white\",\"startlinecolor\":\"#2a3f5f\"},\"type\":\"carpet\"}],\"choropleth\":[{\"colorbar\":{\"outlinewidth\":0,\"ticks\":\"\"},\"type\":\"choropleth\"}],\"contour\":[{\"colorbar\":{\"outlinewidth\":0,\"ticks\":\"\"},\"colorscale\":[[0.0,\"#0d0887\"],[0.1111111111111111,\"#46039f\"],[0.2222222222222222,\"#7201a8\"],[0.3333333333333333,\"#9c179e\"],[0.4444444444444444,\"#bd3786\"],[0.5555555555555556,\"#d8576b\"],[0.6666666666666666,\"#ed7953\"],[0.7777777777777778,\"#fb9f3a\"],[0.8888888888888888,\"#fdca26\"],[1.0,\"#f0f921\"]],\"type\":\"contour\"}],\"contourcarpet\":[{\"colorbar\":{\"outlinewidth\":0,\"ticks\":\"\"},\"type\":\"contourcarpet\"}],\"heatmap\":[{\"colorbar\":{\"outlinewidth\":0,\"ticks\":\"\"},\"colorscale\":[[0.0,\"#0d0887\"],[0.1111111111111111,\"#46039f\"],[0.2222222222222222,\"#7201a8\"],[0.3333333333333333,\"#9c179e\"],[0.4444444444444444,\"#bd3786\"],[0.5555555555555556,\"#d8576b\"],[0.6666666666666666,\"#ed7953\"],[0.7777777777777778,\"#fb9f3a\"],[0.8888888888888888,\"#fdca26\"],[1.0,\"#f0f921\"]],\"type\":\"heatmap\"}],\"heatmapgl\":[{\"colorbar\":{\"outlinewidth\":0,\"ticks\":\"\"},\"colorscale\":[[0.0,\"#0d0887\"],[0.1111111111111111,\"#46039f\"],[0.2222222222222222,\"#7201a8\"],[0.3333333333333333,\"#9c179e\"],[0.4444444444444444,\"#bd3786\"],[0.5555555555555556,\"#d8576b\"],[0.6666666666666666,\"#ed7953\"],[0.7777777777777778,\"#fb9f3a\"],[0.8888888888888888,\"#fdca26\"],[1.0,\"#f0f921\"]],\"type\":\"heatmapgl\"}],\"histogram\":[{\"marker\":{\"pattern\":{\"fillmode\":\"overlay\",\"size\":10,\"solidity\":0.2}},\"type\":\"histogram\"}],\"histogram2d\":[{\"colorbar\":{\"outlinewidth\":0,\"ticks\":\"\"},\"colorscale\":[[0.0,\"#0d0887\"],[0.1111111111111111,\"#46039f\"],[0.2222222222222222,\"#7201a8\"],[0.3333333333333333,\"#9c179e\"],[0.4444444444444444,\"#bd3786\"],[0.5555555555555556,\"#d8576b\"],[0.6666666666666666,\"#ed7953\"],[0.7777777777777778,\"#fb9f3a\"],[0.8888888888888888,\"#fdca26\"],[1.0,\"#f0f921\"]],\"type\":\"histogram2d\"}],\"histogram2dcontour\":[{\"colorbar\":{\"outlinewidth\":0,\"ticks\":\"\"},\"colorscale\":[[0.0,\"#0d0887\"],[0.1111111111111111,\"#46039f\"],[0.2222222222222222,\"#7201a8\"],[0.3333333333333333,\"#9c179e\"],[0.4444444444444444,\"#bd3786\"],[0.5555555555555556,\"#d8576b\"],[0.6666666666666666,\"#ed7953\"],[0.7777777777777778,\"#fb9f3a\"],[0.8888888888888888,\"#fdca26\"],[1.0,\"#f0f921\"]],\"type\":\"histogram2dcontour\"}],\"mesh3d\":[{\"colorbar\":{\"outlinewidth\":0,\"ticks\":\"\"},\"type\":\"mesh3d\"}],\"parcoords\":[{\"line\":{\"colorbar\":{\"outlinewidth\":0,\"ticks\":\"\"}},\"type\":\"parcoords\"}],\"pie\":[{\"automargin\":true,\"type\":\"pie\"}],\"scatter\":[{\"marker\":{\"colorbar\":{\"outlinewidth\":0,\"ticks\":\"\"}},\"type\":\"scatter\"}],\"scatter3d\":[{\"line\":{\"colorbar\":{\"outlinewidth\":0,\"ticks\":\"\"}},\"marker\":{\"colorbar\":{\"outlinewidth\":0,\"ticks\":\"\"}},\"type\":\"scatter3d\"}],\"scattercarpet\":[{\"marker\":{\"colorbar\":{\"outlinewidth\":0,\"ticks\":\"\"}},\"type\":\"scattercarpet\"}],\"scattergeo\":[{\"marker\":{\"colorbar\":{\"outlinewidth\":0,\"ticks\":\"\"}},\"type\":\"scattergeo\"}],\"scattergl\":[{\"marker\":{\"colorbar\":{\"outlinewidth\":0,\"ticks\":\"\"}},\"type\":\"scattergl\"}],\"scattermapbox\":[{\"marker\":{\"colorbar\":{\"outlinewidth\":0,\"ticks\":\"\"}},\"type\":\"scattermapbox\"}],\"scatterpolar\":[{\"marker\":{\"colorbar\":{\"outlinewidth\":0,\"ticks\":\"\"}},\"type\":\"scatterpolar\"}],\"scatterpolargl\":[{\"marker\":{\"colorbar\":{\"outlinewidth\":0,\"ticks\":\"\"}},\"type\":\"scatterpolargl\"}],\"scatterternary\":[{\"marker\":{\"colorbar\":{\"outlinewidth\":0,\"ticks\":\"\"}},\"type\":\"scatterternary\"}],\"surface\":[{\"colorbar\":{\"outlinewidth\":0,\"ticks\":\"\"},\"colorscale\":[[0.0,\"#0d0887\"],[0.1111111111111111,\"#46039f\"],[0.2222222222222222,\"#7201a8\"],[0.3333333333333333,\"#9c179e\"],[0.4444444444444444,\"#bd3786\"],[0.5555555555555556,\"#d8576b\"],[0.6666666666666666,\"#ed7953\"],[0.7777777777777778,\"#fb9f3a\"],[0.8888888888888888,\"#fdca26\"],[1.0,\"#f0f921\"]],\"type\":\"surface\"}],\"table\":[{\"cells\":{\"fill\":{\"color\":\"#EBF0F8\"},\"line\":{\"color\":\"white\"}},\"header\":{\"fill\":{\"color\":\"#C8D4E3\"},\"line\":{\"color\":\"white\"}},\"type\":\"table\"}]},\"layout\":{\"annotationdefaults\":{\"arrowcolor\":\"#2a3f5f\",\"arrowhead\":0,\"arrowwidth\":1},\"autotypenumbers\":\"strict\",\"coloraxis\":{\"colorbar\":{\"outlinewidth\":0,\"ticks\":\"\"}},\"colorscale\":{\"diverging\":[[0,\"#8e0152\"],[0.1,\"#c51b7d\"],[0.2,\"#de77ae\"],[0.3,\"#f1b6da\"],[0.4,\"#fde0ef\"],[0.5,\"#f7f7f7\"],[0.6,\"#e6f5d0\"],[0.7,\"#b8e186\"],[0.8,\"#7fbc41\"],[0.9,\"#4d9221\"],[1,\"#276419\"]],\"sequential\":[[0.0,\"#0d0887\"],[0.1111111111111111,\"#46039f\"],[0.2222222222222222,\"#7201a8\"],[0.3333333333333333,\"#9c179e\"],[0.4444444444444444,\"#bd3786\"],[0.5555555555555556,\"#d8576b\"],[0.6666666666666666,\"#ed7953\"],[0.7777777777777778,\"#fb9f3a\"],[0.8888888888888888,\"#fdca26\"],[1.0,\"#f0f921\"]],\"sequentialminus\":[[0.0,\"#0d0887\"],[0.1111111111111111,\"#46039f\"],[0.2222222222222222,\"#7201a8\"],[0.3333333333333333,\"#9c179e\"],[0.4444444444444444,\"#bd3786\"],[0.5555555555555556,\"#d8576b\"],[0.6666666666666666,\"#ed7953\"],[0.7777777777777778,\"#fb9f3a\"],[0.8888888888888888,\"#fdca26\"],[1.0,\"#f0f921\"]]},\"colorway\":[\"#636efa\",\"#EF553B\",\"#00cc96\",\"#ab63fa\",\"#FFA15A\",\"#19d3f3\",\"#FF6692\",\"#B6E880\",\"#FF97FF\",\"#FECB52\"],\"font\":{\"color\":\"#2a3f5f\"},\"geo\":{\"bgcolor\":\"white\",\"lakecolor\":\"white\",\"landcolor\":\"#E5ECF6\",\"showlakes\":true,\"showland\":true,\"subunitcolor\":\"white\"},\"hoverlabel\":{\"align\":\"left\"},\"hovermode\":\"closest\",\"mapbox\":{\"style\":\"light\"},\"paper_bgcolor\":\"white\",\"plot_bgcolor\":\"#E5ECF6\",\"polar\":{\"angularaxis\":{\"gridcolor\":\"white\",\"linecolor\":\"white\",\"ticks\":\"\"},\"bgcolor\":\"#E5ECF6\",\"radialaxis\":{\"gridcolor\":\"white\",\"linecolor\":\"white\",\"ticks\":\"\"}},\"scene\":{\"xaxis\":{\"backgroundcolor\":\"#E5ECF6\",\"gridcolor\":\"white\",\"gridwidth\":2,\"linecolor\":\"white\",\"showbackground\":true,\"ticks\":\"\",\"zerolinecolor\":\"white\"},\"yaxis\":{\"backgroundcolor\":\"#E5ECF6\",\"gridcolor\":\"white\",\"gridwidth\":2,\"linecolor\":\"white\",\"showbackground\":true,\"ticks\":\"\",\"zerolinecolor\":\"white\"},\"zaxis\":{\"backgroundcolor\":\"#E5ECF6\",\"gridcolor\":\"white\",\"gridwidth\":2,\"linecolor\":\"white\",\"showbackground\":true,\"ticks\":\"\",\"zerolinecolor\":\"white\"}},\"shapedefaults\":{\"line\":{\"color\":\"#2a3f5f\"}},\"ternary\":{\"aaxis\":{\"gridcolor\":\"white\",\"linecolor\":\"white\",\"ticks\":\"\"},\"baxis\":{\"gridcolor\":\"white\",\"linecolor\":\"white\",\"ticks\":\"\"},\"bgcolor\":\"#E5ECF6\",\"caxis\":{\"gridcolor\":\"white\",\"linecolor\":\"white\",\"ticks\":\"\"}},\"title\":{\"x\":0.05},\"xaxis\":{\"automargin\":true,\"gridcolor\":\"white\",\"linecolor\":\"white\",\"ticks\":\"\",\"title\":{\"standoff\":15},\"zerolinecolor\":\"white\",\"zerolinewidth\":2},\"yaxis\":{\"automargin\":true,\"gridcolor\":\"white\",\"linecolor\":\"white\",\"ticks\":\"\",\"title\":{\"standoff\":15},\"zerolinecolor\":\"white\",\"zerolinewidth\":2}}},\"title\":{\"text\":\"Parallel Coordinate Plot\"}},                        {\"responsive\": true}                    ).then(function(){\n",
       "                            \n",
       "var gd = document.getElementById('6d2ab54f-ea07-4578-b771-b2905e59a57c');\n",
       "var x = new MutationObserver(function (mutations, observer) {{\n",
       "        var display = window.getComputedStyle(gd).display;\n",
       "        if (!display || display === 'none') {{\n",
       "            console.log([gd, 'removed!']);\n",
       "            Plotly.purge(gd);\n",
       "            observer.disconnect();\n",
       "        }}\n",
       "}});\n",
       "\n",
       "// Listen for the removal of the full notebook cells\n",
       "var notebookContainer = gd.closest('#notebook-container');\n",
       "if (notebookContainer) {{\n",
       "    x.observe(notebookContainer, {childList: true});\n",
       "}}\n",
       "\n",
       "// Listen for the clearing of the current output cell\n",
       "var outputEl = gd.closest('.output');\n",
       "if (outputEl) {{\n",
       "    x.observe(outputEl, {childList: true});\n",
       "}}\n",
       "\n",
       "                        })                };                });            </script>        </div>"
      ]
     },
     "metadata": {},
     "output_type": "display_data"
    },
    {
     "name": "stderr",
     "output_type": "stream",
     "text": [
      "\u001b[33m[W 2021-09-23 21:42:34,495]\u001b[0m Your study does not have any completed trials.\u001b[0m\n"
     ]
    },
    {
     "data": {
      "text/html": [
       "<div>                            <div id=\"d0ecb347-c8b2-45bc-84ed-ca0366780248\" class=\"plotly-graph-div\" style=\"height:525px; width:100%;\"></div>            <script type=\"text/javascript\">                require([\"plotly\"], function(Plotly) {                    window.PLOTLYENV=window.PLOTLYENV || {};                                    if (document.getElementById(\"d0ecb347-c8b2-45bc-84ed-ca0366780248\")) {                    Plotly.newPlot(                        \"d0ecb347-c8b2-45bc-84ed-ca0366780248\",                        [],                        {\"template\":{\"data\":{\"bar\":[{\"error_x\":{\"color\":\"#2a3f5f\"},\"error_y\":{\"color\":\"#2a3f5f\"},\"marker\":{\"line\":{\"color\":\"#E5ECF6\",\"width\":0.5},\"pattern\":{\"fillmode\":\"overlay\",\"size\":10,\"solidity\":0.2}},\"type\":\"bar\"}],\"barpolar\":[{\"marker\":{\"line\":{\"color\":\"#E5ECF6\",\"width\":0.5},\"pattern\":{\"fillmode\":\"overlay\",\"size\":10,\"solidity\":0.2}},\"type\":\"barpolar\"}],\"carpet\":[{\"aaxis\":{\"endlinecolor\":\"#2a3f5f\",\"gridcolor\":\"white\",\"linecolor\":\"white\",\"minorgridcolor\":\"white\",\"startlinecolor\":\"#2a3f5f\"},\"baxis\":{\"endlinecolor\":\"#2a3f5f\",\"gridcolor\":\"white\",\"linecolor\":\"white\",\"minorgridcolor\":\"white\",\"startlinecolor\":\"#2a3f5f\"},\"type\":\"carpet\"}],\"choropleth\":[{\"colorbar\":{\"outlinewidth\":0,\"ticks\":\"\"},\"type\":\"choropleth\"}],\"contour\":[{\"colorbar\":{\"outlinewidth\":0,\"ticks\":\"\"},\"colorscale\":[[0.0,\"#0d0887\"],[0.1111111111111111,\"#46039f\"],[0.2222222222222222,\"#7201a8\"],[0.3333333333333333,\"#9c179e\"],[0.4444444444444444,\"#bd3786\"],[0.5555555555555556,\"#d8576b\"],[0.6666666666666666,\"#ed7953\"],[0.7777777777777778,\"#fb9f3a\"],[0.8888888888888888,\"#fdca26\"],[1.0,\"#f0f921\"]],\"type\":\"contour\"}],\"contourcarpet\":[{\"colorbar\":{\"outlinewidth\":0,\"ticks\":\"\"},\"type\":\"contourcarpet\"}],\"heatmap\":[{\"colorbar\":{\"outlinewidth\":0,\"ticks\":\"\"},\"colorscale\":[[0.0,\"#0d0887\"],[0.1111111111111111,\"#46039f\"],[0.2222222222222222,\"#7201a8\"],[0.3333333333333333,\"#9c179e\"],[0.4444444444444444,\"#bd3786\"],[0.5555555555555556,\"#d8576b\"],[0.6666666666666666,\"#ed7953\"],[0.7777777777777778,\"#fb9f3a\"],[0.8888888888888888,\"#fdca26\"],[1.0,\"#f0f921\"]],\"type\":\"heatmap\"}],\"heatmapgl\":[{\"colorbar\":{\"outlinewidth\":0,\"ticks\":\"\"},\"colorscale\":[[0.0,\"#0d0887\"],[0.1111111111111111,\"#46039f\"],[0.2222222222222222,\"#7201a8\"],[0.3333333333333333,\"#9c179e\"],[0.4444444444444444,\"#bd3786\"],[0.5555555555555556,\"#d8576b\"],[0.6666666666666666,\"#ed7953\"],[0.7777777777777778,\"#fb9f3a\"],[0.8888888888888888,\"#fdca26\"],[1.0,\"#f0f921\"]],\"type\":\"heatmapgl\"}],\"histogram\":[{\"marker\":{\"pattern\":{\"fillmode\":\"overlay\",\"size\":10,\"solidity\":0.2}},\"type\":\"histogram\"}],\"histogram2d\":[{\"colorbar\":{\"outlinewidth\":0,\"ticks\":\"\"},\"colorscale\":[[0.0,\"#0d0887\"],[0.1111111111111111,\"#46039f\"],[0.2222222222222222,\"#7201a8\"],[0.3333333333333333,\"#9c179e\"],[0.4444444444444444,\"#bd3786\"],[0.5555555555555556,\"#d8576b\"],[0.6666666666666666,\"#ed7953\"],[0.7777777777777778,\"#fb9f3a\"],[0.8888888888888888,\"#fdca26\"],[1.0,\"#f0f921\"]],\"type\":\"histogram2d\"}],\"histogram2dcontour\":[{\"colorbar\":{\"outlinewidth\":0,\"ticks\":\"\"},\"colorscale\":[[0.0,\"#0d0887\"],[0.1111111111111111,\"#46039f\"],[0.2222222222222222,\"#7201a8\"],[0.3333333333333333,\"#9c179e\"],[0.4444444444444444,\"#bd3786\"],[0.5555555555555556,\"#d8576b\"],[0.6666666666666666,\"#ed7953\"],[0.7777777777777778,\"#fb9f3a\"],[0.8888888888888888,\"#fdca26\"],[1.0,\"#f0f921\"]],\"type\":\"histogram2dcontour\"}],\"mesh3d\":[{\"colorbar\":{\"outlinewidth\":0,\"ticks\":\"\"},\"type\":\"mesh3d\"}],\"parcoords\":[{\"line\":{\"colorbar\":{\"outlinewidth\":0,\"ticks\":\"\"}},\"type\":\"parcoords\"}],\"pie\":[{\"automargin\":true,\"type\":\"pie\"}],\"scatter\":[{\"marker\":{\"colorbar\":{\"outlinewidth\":0,\"ticks\":\"\"}},\"type\":\"scatter\"}],\"scatter3d\":[{\"line\":{\"colorbar\":{\"outlinewidth\":0,\"ticks\":\"\"}},\"marker\":{\"colorbar\":{\"outlinewidth\":0,\"ticks\":\"\"}},\"type\":\"scatter3d\"}],\"scattercarpet\":[{\"marker\":{\"colorbar\":{\"outlinewidth\":0,\"ticks\":\"\"}},\"type\":\"scattercarpet\"}],\"scattergeo\":[{\"marker\":{\"colorbar\":{\"outlinewidth\":0,\"ticks\":\"\"}},\"type\":\"scattergeo\"}],\"scattergl\":[{\"marker\":{\"colorbar\":{\"outlinewidth\":0,\"ticks\":\"\"}},\"type\":\"scattergl\"}],\"scattermapbox\":[{\"marker\":{\"colorbar\":{\"outlinewidth\":0,\"ticks\":\"\"}},\"type\":\"scattermapbox\"}],\"scatterpolar\":[{\"marker\":{\"colorbar\":{\"outlinewidth\":0,\"ticks\":\"\"}},\"type\":\"scatterpolar\"}],\"scatterpolargl\":[{\"marker\":{\"colorbar\":{\"outlinewidth\":0,\"ticks\":\"\"}},\"type\":\"scatterpolargl\"}],\"scatterternary\":[{\"marker\":{\"colorbar\":{\"outlinewidth\":0,\"ticks\":\"\"}},\"type\":\"scatterternary\"}],\"surface\":[{\"colorbar\":{\"outlinewidth\":0,\"ticks\":\"\"},\"colorscale\":[[0.0,\"#0d0887\"],[0.1111111111111111,\"#46039f\"],[0.2222222222222222,\"#7201a8\"],[0.3333333333333333,\"#9c179e\"],[0.4444444444444444,\"#bd3786\"],[0.5555555555555556,\"#d8576b\"],[0.6666666666666666,\"#ed7953\"],[0.7777777777777778,\"#fb9f3a\"],[0.8888888888888888,\"#fdca26\"],[1.0,\"#f0f921\"]],\"type\":\"surface\"}],\"table\":[{\"cells\":{\"fill\":{\"color\":\"#EBF0F8\"},\"line\":{\"color\":\"white\"}},\"header\":{\"fill\":{\"color\":\"#C8D4E3\"},\"line\":{\"color\":\"white\"}},\"type\":\"table\"}]},\"layout\":{\"annotationdefaults\":{\"arrowcolor\":\"#2a3f5f\",\"arrowhead\":0,\"arrowwidth\":1},\"autotypenumbers\":\"strict\",\"coloraxis\":{\"colorbar\":{\"outlinewidth\":0,\"ticks\":\"\"}},\"colorscale\":{\"diverging\":[[0,\"#8e0152\"],[0.1,\"#c51b7d\"],[0.2,\"#de77ae\"],[0.3,\"#f1b6da\"],[0.4,\"#fde0ef\"],[0.5,\"#f7f7f7\"],[0.6,\"#e6f5d0\"],[0.7,\"#b8e186\"],[0.8,\"#7fbc41\"],[0.9,\"#4d9221\"],[1,\"#276419\"]],\"sequential\":[[0.0,\"#0d0887\"],[0.1111111111111111,\"#46039f\"],[0.2222222222222222,\"#7201a8\"],[0.3333333333333333,\"#9c179e\"],[0.4444444444444444,\"#bd3786\"],[0.5555555555555556,\"#d8576b\"],[0.6666666666666666,\"#ed7953\"],[0.7777777777777778,\"#fb9f3a\"],[0.8888888888888888,\"#fdca26\"],[1.0,\"#f0f921\"]],\"sequentialminus\":[[0.0,\"#0d0887\"],[0.1111111111111111,\"#46039f\"],[0.2222222222222222,\"#7201a8\"],[0.3333333333333333,\"#9c179e\"],[0.4444444444444444,\"#bd3786\"],[0.5555555555555556,\"#d8576b\"],[0.6666666666666666,\"#ed7953\"],[0.7777777777777778,\"#fb9f3a\"],[0.8888888888888888,\"#fdca26\"],[1.0,\"#f0f921\"]]},\"colorway\":[\"#636efa\",\"#EF553B\",\"#00cc96\",\"#ab63fa\",\"#FFA15A\",\"#19d3f3\",\"#FF6692\",\"#B6E880\",\"#FF97FF\",\"#FECB52\"],\"font\":{\"color\":\"#2a3f5f\"},\"geo\":{\"bgcolor\":\"white\",\"lakecolor\":\"white\",\"landcolor\":\"#E5ECF6\",\"showlakes\":true,\"showland\":true,\"subunitcolor\":\"white\"},\"hoverlabel\":{\"align\":\"left\"},\"hovermode\":\"closest\",\"mapbox\":{\"style\":\"light\"},\"paper_bgcolor\":\"white\",\"plot_bgcolor\":\"#E5ECF6\",\"polar\":{\"angularaxis\":{\"gridcolor\":\"white\",\"linecolor\":\"white\",\"ticks\":\"\"},\"bgcolor\":\"#E5ECF6\",\"radialaxis\":{\"gridcolor\":\"white\",\"linecolor\":\"white\",\"ticks\":\"\"}},\"scene\":{\"xaxis\":{\"backgroundcolor\":\"#E5ECF6\",\"gridcolor\":\"white\",\"gridwidth\":2,\"linecolor\":\"white\",\"showbackground\":true,\"ticks\":\"\",\"zerolinecolor\":\"white\"},\"yaxis\":{\"backgroundcolor\":\"#E5ECF6\",\"gridcolor\":\"white\",\"gridwidth\":2,\"linecolor\":\"white\",\"showbackground\":true,\"ticks\":\"\",\"zerolinecolor\":\"white\"},\"zaxis\":{\"backgroundcolor\":\"#E5ECF6\",\"gridcolor\":\"white\",\"gridwidth\":2,\"linecolor\":\"white\",\"showbackground\":true,\"ticks\":\"\",\"zerolinecolor\":\"white\"}},\"shapedefaults\":{\"line\":{\"color\":\"#2a3f5f\"}},\"ternary\":{\"aaxis\":{\"gridcolor\":\"white\",\"linecolor\":\"white\",\"ticks\":\"\"},\"baxis\":{\"gridcolor\":\"white\",\"linecolor\":\"white\",\"ticks\":\"\"},\"bgcolor\":\"#E5ECF6\",\"caxis\":{\"gridcolor\":\"white\",\"linecolor\":\"white\",\"ticks\":\"\"}},\"title\":{\"x\":0.05},\"xaxis\":{\"automargin\":true,\"gridcolor\":\"white\",\"linecolor\":\"white\",\"ticks\":\"\",\"title\":{\"standoff\":15},\"zerolinecolor\":\"white\",\"zerolinewidth\":2},\"yaxis\":{\"automargin\":true,\"gridcolor\":\"white\",\"linecolor\":\"white\",\"ticks\":\"\",\"title\":{\"standoff\":15},\"zerolinecolor\":\"white\",\"zerolinewidth\":2}}},\"title\":{\"text\":\"Parallel Coordinate Plot\"}},                        {\"responsive\": true}                    ).then(function(){\n",
       "                            \n",
       "var gd = document.getElementById('d0ecb347-c8b2-45bc-84ed-ca0366780248');\n",
       "var x = new MutationObserver(function (mutations, observer) {{\n",
       "        var display = window.getComputedStyle(gd).display;\n",
       "        if (!display || display === 'none') {{\n",
       "            console.log([gd, 'removed!']);\n",
       "            Plotly.purge(gd);\n",
       "            observer.disconnect();\n",
       "        }}\n",
       "}});\n",
       "\n",
       "// Listen for the removal of the full notebook cells\n",
       "var notebookContainer = gd.closest('#notebook-container');\n",
       "if (notebookContainer) {{\n",
       "    x.observe(notebookContainer, {childList: true});\n",
       "}}\n",
       "\n",
       "// Listen for the clearing of the current output cell\n",
       "var outputEl = gd.closest('.output');\n",
       "if (outputEl) {{\n",
       "    x.observe(outputEl, {childList: true});\n",
       "}}\n",
       "\n",
       "                        })                };                });            </script>        </div>"
      ]
     },
     "metadata": {},
     "output_type": "display_data"
    }
   ],
   "source": [
    "import warnings\n",
    "warnings.simplefilter(action='ignore', category=FutureWarning)\n",
    "\n",
    "# Isolate a study for each value of n_layers\n",
    "studies = [optuna.create_study() for j in range(3)]\n",
    "for j in range(3):\n",
    "    studies[j].add_trials([t for t in study.trials if t.params['n_layers'] == j+1])\n",
    "    fig = optuna.visualization.plot_parallel_coordinate(studies[j])\n",
    "    fig.show()"
   ]
  },
  {
   "cell_type": "markdown",
   "id": "880a6fa7",
   "metadata": {
    "id": "wwToT9Spc5ei",
    "papermill": {
     "duration": 0.647536,
     "end_time": "2021-09-23T21:42:35.723658",
     "exception": false,
     "start_time": "2021-09-23T21:42:35.076122",
     "status": "completed"
    },
    "tags": []
   },
   "source": [
    "From the following contour plot, we see that a low batch size is generally good, with high values of dropout, learning rate, and weight decay, and only a single hidden layer. From the above parallel plot, a hidden layer of size around 90 looks good. "
   ]
  },
  {
   "cell_type": "code",
   "execution_count": 26,
   "id": "176ae829",
   "metadata": {
    "execution": {
     "iopub.execute_input": "2021-09-23T21:42:37.030583Z",
     "iopub.status.busy": "2021-09-23T21:42:37.025169Z",
     "iopub.status.idle": "2021-09-23T21:42:37.711916Z",
     "shell.execute_reply": "2021-09-23T21:42:37.712318Z"
    },
    "id": "u_p3HH33cMxH",
    "outputId": "7c30f66d-8f2a-4f8f-ffde-c6e425f7f43d",
    "papermill": {
     "duration": 1.277007,
     "end_time": "2021-09-23T21:42:37.712458",
     "exception": false,
     "start_time": "2021-09-23T21:42:36.435451",
     "status": "completed"
    },
    "tags": []
   },
   "outputs": [
    {
     "data": {
      "text/html": [
       "<div>                            <div id=\"81d777c8-caa4-424b-970c-a2177132a39b\" class=\"plotly-graph-div\" style=\"height:1200px; width:1200px;\"></div>            <script type=\"text/javascript\">                require([\"plotly\"], function(Plotly) {                    window.PLOTLYENV=window.PLOTLYENV || {};                                    if (document.getElementById(\"81d777c8-caa4-424b-970c-a2177132a39b\")) {                    Plotly.newPlot(                        \"81d777c8-caa4-424b-970c-a2177132a39b\",                        [{\"type\":\"scatter\",\"xaxis\":\"x\",\"yaxis\":\"y\"},{\"colorbar\":{\"title\":{\"text\":\"Objective Value\"}},\"colorscale\":[[0,\"rgb(5,10,172)\"],[0.35,\"rgb(40,60,190)\"],[0.5,\"rgb(70,100,245)\"],[0.6,\"rgb(90,120,245)\"],[0.7,\"rgb(106,137,247)\"],[1,\"rgb(220,220,220)\"]],\"connectgaps\":true,\"contours\":{\"coloring\":\"heatmap\"},\"hoverinfo\":\"none\",\"line\":{\"smoothing\":1.3},\"reversescale\":true,\"showscale\":true,\"type\":\"contour\",\"x\":[-10.650000000000002,10,11,14,18,31,33,38,39,41,45,51,61,66,67,84,85,87,114,121,154,159,326,423,443.65],\"xaxis\":\"x6\",\"y\":[0.19127342236092856,0.20008149355360638,0.20009250667864037,0.2010972553953743,0.20149738186810884,0.2053200861363653,0.2053318342868627,0.21542905166473528,0.21752186915458838,0.21985202574843565,0.22210832647778533,0.2229402156983627,0.22519668951632021,0.22529584259638433,0.22699498785226394,0.23170026899019033,0.2369229972659646,0.25158488976494664,0.2740252588371055,0.2888947355877797,0.30729240287080145,0.3158539023605407,0.32933043478511825,0.33039780511533695,0.3453513833279788,0.351322195201316,0.37624291740716287,0.3850509885998407],\"yaxis\":\"y6\",\"z\":[[null,null,null,null,null,null,null,null,null,null,null,null,null,null,null,null,null,null,null,null,null,null,null,null,null],[null,null,null,null,null,null,null,null,0.07695315656457147,null,null,null,null,null,null,null,null,null,null,null,null,null,null,null,null],[null,null,null,null,null,null,null,null,null,null,null,null,null,null,null,0.06839529270986595,null,null,null,null,null,null,null,null,null],[null,null,null,null,null,null,null,null,null,null,null,null,null,null,null,null,null,0.07020496851793542,null,null,null,null,null,null,null],[null,null,null,null,null,null,null,0.0762427039684218,null,null,null,null,null,null,null,null,null,null,null,null,null,null,null,null,null],[null,null,null,null,null,null,null,0.07632742365847435,null,null,null,null,null,null,null,null,null,null,null,null,null,null,null,null,null],[null,null,null,null,null,null,null,null,null,null,null,0.12279672817750409,null,null,null,null,null,null,null,null,null,null,null,null,null],[null,null,null,null,null,null,0.08383903613971429,null,null,null,null,null,null,null,null,null,null,null,null,null,null,null,null,null,null],[null,null,null,null,null,null,null,null,null,null,0.07187104103444976,null,null,null,null,null,null,null,null,null,null,null,null,null,null],[null,null,null,null,null,null,null,null,null,null,null,null,null,0.07310930447119506,null,null,null,null,null,null,null,null,null,null,null],[null,null,null,null,null,0.07643958191548061,null,null,null,null,null,null,null,null,null,null,null,null,null,null,null,null,null,null,null],[null,null,null,null,null,null,null,null,null,null,null,null,null,null,0.0707608246819326,null,null,null,null,null,null,null,null,null,null],[null,null,null,null,null,null,null,null,null,0.08045786882788811,null,null,null,null,null,null,null,null,null,null,null,null,null,null,null],[null,null,null,null,null,null,null,0.07954993568421377,null,null,null,null,null,null,null,null,null,null,null,null,null,null,null,null,null],[null,null,null,null,0.0925000230835601,null,null,null,null,null,null,null,null,null,null,null,null,null,null,null,null,null,null,null,null],[null,null,null,null,null,null,null,null,null,null,null,null,null,null,null,null,null,null,null,0.08117592570789416,null,null,null,null,null],[null,null,null,null,null,null,null,null,null,null,null,null,null,null,null,null,0.07436692690420327,null,null,null,null,null,null,null,null],[null,null,null,null,null,null,null,null,null,null,null,0.07784998359158629,null,null,null,null,null,null,null,null,null,null,null,null,null],[null,null,null,null,null,null,null,null,null,null,null,null,0.09494087435305124,null,null,null,null,null,null,null,null,null,null,null,null],[null,null,null,null,null,null,null,null,null,null,null,null,null,null,null,null,null,null,null,null,null,0.1464429818214116,null,null,null],[null,0.11409320234786728,null,null,null,null,null,null,null,null,null,null,null,null,null,null,null,null,null,null,null,null,null,null,null],[null,null,null,null,null,null,null,null,null,null,null,null,null,null,null,null,null,null,0.12300159906347592,null,null,null,null,null,null],[null,null,null,null,null,null,null,null,null,null,null,null,null,null,null,null,null,null,null,null,0.11184287914535504,null,null,null,null],[null,null,null,0.21651574254129094,null,null,null,null,null,null,null,null,null,null,null,null,null,null,null,null,null,null,null,null,null],[null,null,0.16281519138739997,null,null,null,null,null,null,null,null,null,null,null,null,null,null,null,null,null,null,null,null,null,null],[null,null,null,null,null,null,null,null,null,null,null,null,null,null,null,null,null,null,null,null,null,null,null,0.23798754679806097,null],[null,null,null,null,null,null,null,null,null,null,null,null,null,null,null,null,null,null,null,null,null,null,0.12152141523222591,null,null],[null,null,null,null,null,null,null,null,null,null,null,null,null,null,null,null,null,null,null,null,null,null,null,null,null]]},{\"marker\":{\"color\":\"black\",\"line\":{\"color\":\"Grey\",\"width\":0.5}},\"mode\":\"markers\",\"showlegend\":false,\"type\":\"scatter\",\"x\":[114,423,11,154,14,10,61,51,159,326,18,121,38,39,38,38,45,51,41,33,67,31,84,87,85,66],\"xaxis\":\"x6\",\"y\":[0.3158539023605407,0.351322195201316,0.3453513833279788,0.32933043478511825,0.33039780511533695,0.30729240287080145,0.2740252588371055,0.2053318342868627,0.2888947355877797,0.37624291740716287,0.22699498785226394,0.23170026899019033,0.22529584259638433,0.20008149355360638,0.2053200861363653,0.20149738186810884,0.21752186915458838,0.25158488976494664,0.22519668951632021,0.21542905166473528,0.2229402156983627,0.22210832647778533,0.20009250667864037,0.2010972553953743,0.2369229972659646,0.21985202574843565],\"yaxis\":\"y6\"},{\"colorbar\":{\"title\":{\"text\":\"Objective Value\"}},\"colorscale\":[[0,\"rgb(5,10,172)\"],[0.35,\"rgb(40,60,190)\"],[0.5,\"rgb(70,100,245)\"],[0.6,\"rgb(90,120,245)\"],[0.7,\"rgb(106,137,247)\"],[1,\"rgb(220,220,220)\"]],\"connectgaps\":true,\"contours\":{\"coloring\":\"heatmap\"},\"hoverinfo\":\"none\",\"line\":{\"smoothing\":1.3},\"reversescale\":true,\"showscale\":false,\"type\":\"contour\",\"x\":[-10.650000000000002,10,11,14,18,31,33,38,39,41,45,51,61,66,67,84,85,87,114,121,154,159,326,423,443.65],\"xaxis\":\"x11\",\"y\":[8.642649708804282e-06,1.3470600219422924e-05,2.1455848009490967e-05,0.00017389329178689263,0.0001804367860500245,0.0001847520121935494,0.00019290160642252273,0.00020363497333737628,0.0002058825439645186,0.0002215705592145656,0.0002487117848317692,0.000265028745733352,0.00035039352547552513,0.00041055972615636216,0.0004145471753543523,0.00043110735694857385,0.00043642405804699964,0.0004377708663348637,0.00046273309504041093,0.000672092108281761,0.0008523303736344673,0.0015332979558061325,0.002111328817634949,0.002699246630271282,0.004045007643833955,0.015098934385046161,0.09642456106186041,0.15028917718075138],\"yaxis\":\"y11\",\"z\":[[null,null,null,null,null,null,null,null,null,null,null,null,null,null,null,null,null,null,null,null,null,null,null,null,null],[null,null,null,0.21651574254129094,null,null,null,null,null,null,null,null,null,null,null,null,null,null,null,null,null,null,null,null,null],[null,null,null,null,null,null,null,null,null,null,null,null,null,null,null,null,null,null,null,null,0.11184287914535504,null,null,null,null],[null,null,null,null,0.0925000230835601,null,null,null,null,null,null,null,null,null,null,null,null,null,null,null,null,null,null,null,null],[null,null,null,null,null,null,null,null,0.07695315656457147,null,null,null,null,null,null,null,null,null,null,null,null,null,null,null,null],[null,null,null,null,null,null,null,0.0762427039684218,null,null,null,null,null,null,null,null,null,null,null,null,null,null,null,null,null],[null,null,null,null,null,null,null,0.07632742365847435,null,null,null,null,null,null,null,null,null,null,null,null,null,null,null,null,null],[null,null,null,null,null,0.07643958191548061,null,null,null,null,null,null,null,null,null,null,null,null,null,null,null,null,null,null,null],[null,null,null,null,null,null,null,null,null,null,null,null,null,null,null,null,null,null,null,0.08117592570789416,null,null,null,null,null],[null,null,null,null,null,null,null,0.07954993568421377,null,null,null,null,null,null,null,null,null,null,null,null,null,null,null,null,null],[null,null,null,null,null,null,null,null,null,0.08045786882788811,null,null,null,null,null,null,null,null,null,null,null,null,null,null,null],[null,null,null,null,null,null,0.08383903613971429,null,null,null,null,null,null,null,null,null,null,null,null,null,null,null,null,null,null],[null,null,null,null,null,null,null,null,null,null,0.07187104103444976,null,null,null,null,null,null,null,null,null,null,null,null,null,null],[null,null,null,null,null,null,null,null,null,null,null,null,null,null,null,0.06839529270986595,null,null,null,null,null,null,null,null,null],[null,null,null,null,null,null,null,null,null,null,null,null,null,null,null,null,null,0.07020496851793542,null,null,null,null,null,null,null],[null,null,null,null,null,null,null,null,null,null,null,null,null,null,null,null,0.07436692690420327,null,null,null,null,null,null,null,null],[null,null,null,null,null,null,null,null,null,null,null,null,null,0.07310930447119506,null,null,null,null,null,null,null,null,null,null,null],[null,null,null,null,null,null,null,null,null,null,null,0.07784998359158629,null,null,null,null,null,null,null,null,null,null,null,null,null],[null,null,null,null,null,null,null,null,null,null,null,null,null,null,0.0707608246819326,null,null,null,null,null,null,null,null,null,null],[null,null,null,null,null,null,null,null,null,null,null,0.12279672817750409,null,null,null,null,null,null,null,null,null,null,null,null,null],[null,null,null,null,null,null,null,null,null,null,null,null,null,null,null,null,null,null,null,null,null,null,0.12152141523222591,null,null],[null,null,null,null,null,null,null,null,null,null,null,null,null,null,null,null,null,null,null,null,null,null,null,0.23798754679806097,null],[null,null,null,null,null,null,null,null,null,null,null,null,null,null,null,null,null,null,null,null,null,0.1464429818214116,null,null,null],[null,0.11409320234786728,null,null,null,null,null,null,null,null,null,null,null,null,null,null,null,null,null,null,null,null,null,null,null],[null,null,null,null,null,null,null,null,null,null,null,null,0.09494087435305124,null,null,null,null,null,null,null,null,null,null,null,null],[null,null,0.16281519138739997,null,null,null,null,null,null,null,null,null,null,null,null,null,null,null,null,null,null,null,null,null,null],[null,null,null,null,null,null,null,null,null,null,null,null,null,null,null,null,null,null,0.12300159906347592,null,null,null,null,null,null],[null,null,null,null,null,null,null,null,null,null,null,null,null,null,null,null,null,null,null,null,null,null,null,null,null]]},{\"marker\":{\"color\":\"black\",\"line\":{\"color\":\"Grey\",\"width\":0.5}},\"mode\":\"markers\",\"showlegend\":false,\"type\":\"scatter\",\"x\":[114,423,11,154,14,10,61,51,159,326,18,121,38,39,38,38,45,51,41,33,67,31,84,87,85,66],\"xaxis\":\"x11\",\"y\":[0.09642456106186041,0.0015332979558061325,0.015098934385046161,2.1455848009490967e-05,1.3470600219422924e-05,0.002699246630271282,0.004045007643833955,0.000672092108281761,0.002111328817634949,0.0008523303736344673,0.00017389329178689263,0.0002058825439645186,0.0002215705592145656,0.0001804367860500245,0.00019290160642252273,0.0001847520121935494,0.00035039352547552513,0.0004377708663348637,0.0002487117848317692,0.000265028745733352,0.00046273309504041093,0.00020363497333737628,0.00041055972615636216,0.0004145471753543523,0.00043110735694857385,0.00043642405804699964],\"yaxis\":\"y11\"},{\"colorbar\":{\"title\":{\"text\":\"Objective Value\"}},\"colorscale\":[[0,\"rgb(5,10,172)\"],[0.35,\"rgb(40,60,190)\"],[0.5,\"rgb(70,100,245)\"],[0.6,\"rgb(90,120,245)\"],[0.7,\"rgb(106,137,247)\"],[1,\"rgb(220,220,220)\"]],\"connectgaps\":true,\"contours\":{\"coloring\":\"heatmap\"},\"hoverinfo\":\"none\",\"line\":{\"smoothing\":1.3},\"reversescale\":true,\"showscale\":false,\"type\":\"contour\",\"x\":[-10.650000000000002,10,11,14,18,31,33,38,39,41,45,51,61,66,67,84,85,87,114,121,154,159,326,423,443.65],\"xaxis\":\"x16\",\"y\":[0.95,1,2,2.05],\"yaxis\":\"y16\",\"z\":[[null,null,null,null,null,null,null,null,null,null,null,null,null,null,null,null,null,null,null,null,null,null,null,null,null],[null,0.11409320234786728,null,null,0.0925000230835601,0.07643958191548061,0.08383903613971429,0.0762427039684218,0.07695315656457147,0.08045786882788811,0.07187104103444976,0.12279672817750409,0.09494087435305124,0.07310930447119506,0.0707608246819326,0.06839529270986595,0.07436692690420327,0.07020496851793542,0.12300159906347592,0.08117592570789416,0.11184287914535504,0.1464429818214116,0.12152141523222591,null,null],[null,null,0.16281519138739997,0.21651574254129094,null,null,null,null,null,null,null,0.07784998359158629,null,null,null,null,null,null,null,null,null,null,null,0.23798754679806097,null],[null,null,null,null,null,null,null,null,null,null,null,null,null,null,null,null,null,null,null,null,null,null,null,null,null]]},{\"marker\":{\"color\":\"black\",\"line\":{\"color\":\"Grey\",\"width\":0.5}},\"mode\":\"markers\",\"showlegend\":false,\"type\":\"scatter\",\"x\":[114,423,11,154,14,10,61,51,159,326,18,121,38,39,38,38,45,51,41,33,67,31,84,87,85,66],\"xaxis\":\"x16\",\"y\":[1,2,2,1,2,1,1,1,1,1,1,1,1,1,1,1,1,2,1,1,1,1,1,1,1,1],\"yaxis\":\"y16\"},{\"colorbar\":{\"title\":{\"text\":\"Objective Value\"}},\"colorscale\":[[0,\"rgb(5,10,172)\"],[0.35,\"rgb(40,60,190)\"],[0.5,\"rgb(70,100,245)\"],[0.6,\"rgb(90,120,245)\"],[0.7,\"rgb(106,137,247)\"],[1,\"rgb(220,220,220)\"]],\"connectgaps\":true,\"contours\":{\"coloring\":\"heatmap\"},\"hoverinfo\":\"none\",\"line\":{\"smoothing\":1.3},\"reversescale\":true,\"showscale\":false,\"type\":\"contour\",\"x\":[-10.650000000000002,10,11,14,18,31,33,38,39,41,45,51,61,66,67,84,85,87,114,121,154,159,326,423,443.65],\"xaxis\":\"x21\",\"y\":[0.03434303380900658,0.05603333007318556,0.10519795919161423,0.10907103421869807,0.11209537252923243,0.1233921525223666,0.12652863739461595,0.14024139423007215,0.14141080372193618,0.15163439721617653,0.16856945205298712,0.1714129886898159,0.1788238449171621,0.18046766041750062,0.1853632103023621,0.19845560061807097,0.20272096943345724,0.21849152562410187,0.26556213804118434,0.2755679447582429,0.2801018891438447,0.2942866490996837,0.2957472242049232,0.3278531401206054,0.35411245341550385,0.4379572929978157,0.4898392553567651,0.511529551620944],\"yaxis\":\"y21\",\"z\":[[null,null,null,null,null,null,null,null,null,null,null,null,null,null,null,null,null,null,null,null,null,null,null,null,null],[null,null,null,null,null,null,null,null,null,null,null,0.07784998359158629,null,null,null,null,null,null,null,null,null,null,null,null,null],[null,null,null,null,null,null,null,null,null,null,0.07187104103444976,null,null,null,null,null,null,null,null,null,null,null,null,null,null],[null,null,null,null,null,null,null,null,null,null,null,null,null,null,null,0.06839529270986595,null,null,null,null,null,null,null,null,null],[null,null,null,null,null,null,null,null,null,null,null,null,null,null,0.0707608246819326,null,null,null,null,null,null,null,null,null,null],[null,null,null,null,null,null,null,null,null,null,null,null,null,null,null,null,null,0.07020496851793542,null,null,null,null,null,null,null],[null,null,0.16281519138739997,null,null,null,null,null,null,null,null,null,null,null,null,null,null,null,null,null,null,null,null,null,null],[null,null,null,null,null,null,null,null,null,null,null,null,null,0.07310930447119506,null,null,null,null,null,null,null,null,null,null,null],[null,null,null,null,null,null,null,null,null,null,null,null,null,null,null,null,0.07436692690420327,null,null,null,null,null,null,null,null],[null,null,null,null,null,null,null,0.0762427039684218,null,null,null,null,null,null,null,null,null,null,null,null,null,null,null,null,null],[null,null,null,null,null,0.07643958191548061,null,null,null,null,null,null,null,null,null,null,null,null,null,null,null,null,null,null,null],[null,null,null,null,null,null,null,0.07632742365847435,null,null,null,null,null,null,null,null,null,null,null,null,null,null,null,null,null],[null,null,null,null,null,null,null,null,0.07695315656457147,null,null,null,null,null,null,null,null,null,null,null,null,null,null,null,null],[null,null,null,null,null,null,null,0.07954993568421377,null,null,null,null,null,null,null,null,null,null,null,null,null,null,null,null,null],[null,null,null,null,null,null,null,null,null,0.08045786882788811,null,null,null,null,null,null,null,null,null,null,null,null,null,null,null],[null,null,null,null,null,null,null,null,null,null,null,null,null,null,null,null,null,null,null,0.08117592570789416,null,null,null,null,null],[null,null,null,null,null,null,null,null,null,null,null,null,0.09494087435305124,null,null,null,null,null,null,null,null,null,null,null,null],[null,null,null,null,null,null,0.08383903613971429,null,null,null,null,null,null,null,null,null,null,null,null,null,null,null,null,null,null],[null,null,null,null,0.0925000230835601,null,null,null,null,null,null,null,null,null,null,null,null,null,null,null,null,null,null,null,null],[null,null,null,null,null,null,null,null,null,null,null,null,null,null,null,null,null,null,null,null,null,0.1464429818214116,null,null,null],[null,0.11409320234786728,null,null,null,null,null,null,null,null,null,null,null,null,null,null,null,null,null,null,null,null,null,null,null],[null,null,null,null,null,null,null,null,null,null,null,null,null,null,null,null,null,null,0.12300159906347592,null,null,null,null,null,null],[null,null,null,0.21651574254129094,null,null,null,null,null,null,null,null,null,null,null,null,null,null,null,null,null,null,null,null,null],[null,null,null,null,null,null,null,null,null,null,null,null,null,null,null,null,null,null,null,null,null,null,0.12152141523222591,null,null],[null,null,null,null,null,null,null,null,null,null,null,null,null,null,null,null,null,null,null,null,0.11184287914535504,null,null,null,null],[null,null,null,null,null,null,null,null,null,null,null,null,null,null,null,null,null,null,null,null,null,null,null,0.23798754679806097,null],[null,null,null,null,null,null,null,null,null,null,null,0.12279672817750409,null,null,null,null,null,null,null,null,null,null,null,null,null],[null,null,null,null,null,null,null,null,null,null,null,null,null,null,null,null,null,null,null,null,null,null,null,null,null]]},{\"marker\":{\"color\":\"black\",\"line\":{\"color\":\"Grey\",\"width\":0.5}},\"mode\":\"markers\",\"showlegend\":false,\"type\":\"scatter\",\"x\":[114,423,11,154,14,10,61,51,159,326,18,121,38,39,38,38,45,51,41,33,67,31,84,87,85,66],\"xaxis\":\"x21\",\"y\":[0.2942866490996837,0.4379572929978157,0.12652863739461595,0.35411245341550385,0.2957472242049232,0.2801018891438447,0.20272096943345724,0.4898392553567651,0.2755679447582429,0.3278531401206054,0.26556213804118434,0.19845560061807097,0.18046766041750062,0.1788238449171621,0.1714129886898159,0.15163439721617653,0.10519795919161423,0.05603333007318556,0.1853632103023621,0.21849152562410187,0.11209537252923243,0.16856945205298712,0.10907103421869807,0.1233921525223666,0.14141080372193618,0.14024139423007215],\"yaxis\":\"y21\"},{\"colorbar\":{\"title\":{\"text\":\"Objective Value\"}},\"colorscale\":[[0,\"rgb(5,10,172)\"],[0.35,\"rgb(40,60,190)\"],[0.5,\"rgb(70,100,245)\"],[0.6,\"rgb(90,120,245)\"],[0.7,\"rgb(106,137,247)\"],[1,\"rgb(220,220,220)\"]],\"connectgaps\":true,\"contours\":{\"coloring\":\"heatmap\"},\"hoverinfo\":\"none\",\"line\":{\"smoothing\":1.3},\"reversescale\":true,\"showscale\":false,\"type\":\"contour\",\"x\":[0.19127342236092856,0.20008149355360638,0.20009250667864037,0.2010972553953743,0.20149738186810884,0.2053200861363653,0.2053318342868627,0.21542905166473528,0.21752186915458838,0.21985202574843565,0.22210832647778533,0.2229402156983627,0.22519668951632021,0.22529584259638433,0.22699498785226394,0.23170026899019033,0.2369229972659646,0.25158488976494664,0.2740252588371055,0.2888947355877797,0.30729240287080145,0.3158539023605407,0.32933043478511825,0.33039780511533695,0.3453513833279788,0.351322195201316,0.37624291740716287,0.3850509885998407],\"xaxis\":\"x2\",\"y\":[-10.650000000000002,10,11,14,18,31,33,38,39,41,45,51,61,66,67,84,85,87,114,121,154,159,326,423,443.65],\"yaxis\":\"y2\",\"z\":[[null,null,null,null,null,null,null,null,null,null,null,null,null,null,null,null,null,null,null,null,null,null,null,null,null,null,null,null],[null,null,null,null,null,null,null,null,null,null,null,null,null,null,null,null,null,null,null,null,0.11409320234786728,null,null,null,null,null,null,null],[null,null,null,null,null,null,null,null,null,null,null,null,null,null,null,null,null,null,null,null,null,null,null,null,0.16281519138739997,null,null,null],[null,null,null,null,null,null,null,null,null,null,null,null,null,null,null,null,null,null,null,null,null,null,null,0.21651574254129094,null,null,null,null],[null,null,null,null,null,null,null,null,null,null,null,null,null,null,0.0925000230835601,null,null,null,null,null,null,null,null,null,null,null,null,null],[null,null,null,null,null,null,null,null,null,null,0.07643958191548061,null,null,null,null,null,null,null,null,null,null,null,null,null,null,null,null,null],[null,null,null,null,null,null,null,0.08383903613971429,null,null,null,null,null,null,null,null,null,null,null,null,null,null,null,null,null,null,null,null],[null,null,null,null,0.0762427039684218,0.07632742365847435,null,null,null,null,null,null,null,0.07954993568421377,null,null,null,null,null,null,null,null,null,null,null,null,null,null],[null,0.07695315656457147,null,null,null,null,null,null,null,null,null,null,null,null,null,null,null,null,null,null,null,null,null,null,null,null,null,null],[null,null,null,null,null,null,null,null,null,null,null,null,0.08045786882788811,null,null,null,null,null,null,null,null,null,null,null,null,null,null,null],[null,null,null,null,null,null,null,null,0.07187104103444976,null,null,null,null,null,null,null,null,null,null,null,null,null,null,null,null,null,null,null],[null,null,null,null,null,null,0.12279672817750409,null,null,null,null,null,null,null,null,null,null,0.07784998359158629,null,null,null,null,null,null,null,null,null,null],[null,null,null,null,null,null,null,null,null,null,null,null,null,null,null,null,null,null,0.09494087435305124,null,null,null,null,null,null,null,null,null],[null,null,null,null,null,null,null,null,null,0.07310930447119506,null,null,null,null,null,null,null,null,null,null,null,null,null,null,null,null,null,null],[null,null,null,null,null,null,null,null,null,null,null,0.0707608246819326,null,null,null,null,null,null,null,null,null,null,null,null,null,null,null,null],[null,null,0.06839529270986595,null,null,null,null,null,null,null,null,null,null,null,null,null,null,null,null,null,null,null,null,null,null,null,null,null],[null,null,null,null,null,null,null,null,null,null,null,null,null,null,null,null,0.07436692690420327,null,null,null,null,null,null,null,null,null,null,null],[null,null,null,0.07020496851793542,null,null,null,null,null,null,null,null,null,null,null,null,null,null,null,null,null,null,null,null,null,null,null,null],[null,null,null,null,null,null,null,null,null,null,null,null,null,null,null,null,null,null,null,null,null,0.12300159906347592,null,null,null,null,null,null],[null,null,null,null,null,null,null,null,null,null,null,null,null,null,null,0.08117592570789416,null,null,null,null,null,null,null,null,null,null,null,null],[null,null,null,null,null,null,null,null,null,null,null,null,null,null,null,null,null,null,null,null,null,null,0.11184287914535504,null,null,null,null,null],[null,null,null,null,null,null,null,null,null,null,null,null,null,null,null,null,null,null,null,0.1464429818214116,null,null,null,null,null,null,null,null],[null,null,null,null,null,null,null,null,null,null,null,null,null,null,null,null,null,null,null,null,null,null,null,null,null,null,0.12152141523222591,null],[null,null,null,null,null,null,null,null,null,null,null,null,null,null,null,null,null,null,null,null,null,null,null,null,null,0.23798754679806097,null,null],[null,null,null,null,null,null,null,null,null,null,null,null,null,null,null,null,null,null,null,null,null,null,null,null,null,null,null,null]]},{\"marker\":{\"color\":\"black\",\"line\":{\"color\":\"Grey\",\"width\":0.5}},\"mode\":\"markers\",\"showlegend\":false,\"type\":\"scatter\",\"x\":[0.3158539023605407,0.351322195201316,0.3453513833279788,0.32933043478511825,0.33039780511533695,0.30729240287080145,0.2740252588371055,0.2053318342868627,0.2888947355877797,0.37624291740716287,0.22699498785226394,0.23170026899019033,0.22529584259638433,0.20008149355360638,0.2053200861363653,0.20149738186810884,0.21752186915458838,0.25158488976494664,0.22519668951632021,0.21542905166473528,0.2229402156983627,0.22210832647778533,0.20009250667864037,0.2010972553953743,0.2369229972659646,0.21985202574843565],\"xaxis\":\"x2\",\"y\":[114,423,11,154,14,10,61,51,159,326,18,121,38,39,38,38,45,51,41,33,67,31,84,87,85,66],\"yaxis\":\"y2\"},{\"type\":\"scatter\",\"xaxis\":\"x7\",\"yaxis\":\"y7\"},{\"colorbar\":{\"title\":{\"text\":\"Objective Value\"}},\"colorscale\":[[0,\"rgb(5,10,172)\"],[0.35,\"rgb(40,60,190)\"],[0.5,\"rgb(70,100,245)\"],[0.6,\"rgb(90,120,245)\"],[0.7,\"rgb(106,137,247)\"],[1,\"rgb(220,220,220)\"]],\"connectgaps\":true,\"contours\":{\"coloring\":\"heatmap\"},\"hoverinfo\":\"none\",\"line\":{\"smoothing\":1.3},\"reversescale\":true,\"showscale\":false,\"type\":\"contour\",\"x\":[0.19127342236092856,0.20008149355360638,0.20009250667864037,0.2010972553953743,0.20149738186810884,0.2053200861363653,0.2053318342868627,0.21542905166473528,0.21752186915458838,0.21985202574843565,0.22210832647778533,0.2229402156983627,0.22519668951632021,0.22529584259638433,0.22699498785226394,0.23170026899019033,0.2369229972659646,0.25158488976494664,0.2740252588371055,0.2888947355877797,0.30729240287080145,0.3158539023605407,0.32933043478511825,0.33039780511533695,0.3453513833279788,0.351322195201316,0.37624291740716287,0.3850509885998407],\"xaxis\":\"x12\",\"y\":[8.642649708804282e-06,1.3470600219422924e-05,2.1455848009490967e-05,0.00017389329178689263,0.0001804367860500245,0.0001847520121935494,0.00019290160642252273,0.00020363497333737628,0.0002058825439645186,0.0002215705592145656,0.0002487117848317692,0.000265028745733352,0.00035039352547552513,0.00041055972615636216,0.0004145471753543523,0.00043110735694857385,0.00043642405804699964,0.0004377708663348637,0.00046273309504041093,0.000672092108281761,0.0008523303736344673,0.0015332979558061325,0.002111328817634949,0.002699246630271282,0.004045007643833955,0.015098934385046161,0.09642456106186041,0.15028917718075138],\"yaxis\":\"y12\",\"z\":[[null,null,null,null,null,null,null,null,null,null,null,null,null,null,null,null,null,null,null,null,null,null,null,null,null,null,null,null],[null,null,null,null,null,null,null,null,null,null,null,null,null,null,null,null,null,null,null,null,null,null,null,0.21651574254129094,null,null,null,null],[null,null,null,null,null,null,null,null,null,null,null,null,null,null,null,null,null,null,null,null,null,null,0.11184287914535504,null,null,null,null,null],[null,null,null,null,null,null,null,null,null,null,null,null,null,null,0.0925000230835601,null,null,null,null,null,null,null,null,null,null,null,null,null],[null,0.07695315656457147,null,null,null,null,null,null,null,null,null,null,null,null,null,null,null,null,null,null,null,null,null,null,null,null,null,null],[null,null,null,null,0.0762427039684218,null,null,null,null,null,null,null,null,null,null,null,null,null,null,null,null,null,null,null,null,null,null,null],[null,null,null,null,null,0.07632742365847435,null,null,null,null,null,null,null,null,null,null,null,null,null,null,null,null,null,null,null,null,null,null],[null,null,null,null,null,null,null,null,null,null,0.07643958191548061,null,null,null,null,null,null,null,null,null,null,null,null,null,null,null,null,null],[null,null,null,null,null,null,null,null,null,null,null,null,null,null,null,0.08117592570789416,null,null,null,null,null,null,null,null,null,null,null,null],[null,null,null,null,null,null,null,null,null,null,null,null,null,0.07954993568421377,null,null,null,null,null,null,null,null,null,null,null,null,null,null],[null,null,null,null,null,null,null,null,null,null,null,null,0.08045786882788811,null,null,null,null,null,null,null,null,null,null,null,null,null,null,null],[null,null,null,null,null,null,null,0.08383903613971429,null,null,null,null,null,null,null,null,null,null,null,null,null,null,null,null,null,null,null,null],[null,null,null,null,null,null,null,null,0.07187104103444976,null,null,null,null,null,null,null,null,null,null,null,null,null,null,null,null,null,null,null],[null,null,0.06839529270986595,null,null,null,null,null,null,null,null,null,null,null,null,null,null,null,null,null,null,null,null,null,null,null,null,null],[null,null,null,0.07020496851793542,null,null,null,null,null,null,null,null,null,null,null,null,null,null,null,null,null,null,null,null,null,null,null,null],[null,null,null,null,null,null,null,null,null,null,null,null,null,null,null,null,0.07436692690420327,null,null,null,null,null,null,null,null,null,null,null],[null,null,null,null,null,null,null,null,null,0.07310930447119506,null,null,null,null,null,null,null,null,null,null,null,null,null,null,null,null,null,null],[null,null,null,null,null,null,null,null,null,null,null,null,null,null,null,null,null,0.07784998359158629,null,null,null,null,null,null,null,null,null,null],[null,null,null,null,null,null,null,null,null,null,null,0.0707608246819326,null,null,null,null,null,null,null,null,null,null,null,null,null,null,null,null],[null,null,null,null,null,null,0.12279672817750409,null,null,null,null,null,null,null,null,null,null,null,null,null,null,null,null,null,null,null,null,null],[null,null,null,null,null,null,null,null,null,null,null,null,null,null,null,null,null,null,null,null,null,null,null,null,null,null,0.12152141523222591,null],[null,null,null,null,null,null,null,null,null,null,null,null,null,null,null,null,null,null,null,null,null,null,null,null,null,0.23798754679806097,null,null],[null,null,null,null,null,null,null,null,null,null,null,null,null,null,null,null,null,null,null,0.1464429818214116,null,null,null,null,null,null,null,null],[null,null,null,null,null,null,null,null,null,null,null,null,null,null,null,null,null,null,null,null,0.11409320234786728,null,null,null,null,null,null,null],[null,null,null,null,null,null,null,null,null,null,null,null,null,null,null,null,null,null,0.09494087435305124,null,null,null,null,null,null,null,null,null],[null,null,null,null,null,null,null,null,null,null,null,null,null,null,null,null,null,null,null,null,null,null,null,null,0.16281519138739997,null,null,null],[null,null,null,null,null,null,null,null,null,null,null,null,null,null,null,null,null,null,null,null,null,0.12300159906347592,null,null,null,null,null,null],[null,null,null,null,null,null,null,null,null,null,null,null,null,null,null,null,null,null,null,null,null,null,null,null,null,null,null,null]]},{\"marker\":{\"color\":\"black\",\"line\":{\"color\":\"Grey\",\"width\":0.5}},\"mode\":\"markers\",\"showlegend\":false,\"type\":\"scatter\",\"x\":[0.3158539023605407,0.351322195201316,0.3453513833279788,0.32933043478511825,0.33039780511533695,0.30729240287080145,0.2740252588371055,0.2053318342868627,0.2888947355877797,0.37624291740716287,0.22699498785226394,0.23170026899019033,0.22529584259638433,0.20008149355360638,0.2053200861363653,0.20149738186810884,0.21752186915458838,0.25158488976494664,0.22519668951632021,0.21542905166473528,0.2229402156983627,0.22210832647778533,0.20009250667864037,0.2010972553953743,0.2369229972659646,0.21985202574843565],\"xaxis\":\"x12\",\"y\":[0.09642456106186041,0.0015332979558061325,0.015098934385046161,2.1455848009490967e-05,1.3470600219422924e-05,0.002699246630271282,0.004045007643833955,0.000672092108281761,0.002111328817634949,0.0008523303736344673,0.00017389329178689263,0.0002058825439645186,0.0002215705592145656,0.0001804367860500245,0.00019290160642252273,0.0001847520121935494,0.00035039352547552513,0.0004377708663348637,0.0002487117848317692,0.000265028745733352,0.00046273309504041093,0.00020363497333737628,0.00041055972615636216,0.0004145471753543523,0.00043110735694857385,0.00043642405804699964],\"yaxis\":\"y12\"},{\"colorbar\":{\"title\":{\"text\":\"Objective Value\"}},\"colorscale\":[[0,\"rgb(5,10,172)\"],[0.35,\"rgb(40,60,190)\"],[0.5,\"rgb(70,100,245)\"],[0.6,\"rgb(90,120,245)\"],[0.7,\"rgb(106,137,247)\"],[1,\"rgb(220,220,220)\"]],\"connectgaps\":true,\"contours\":{\"coloring\":\"heatmap\"},\"hoverinfo\":\"none\",\"line\":{\"smoothing\":1.3},\"reversescale\":true,\"showscale\":false,\"type\":\"contour\",\"x\":[0.19127342236092856,0.20008149355360638,0.20009250667864037,0.2010972553953743,0.20149738186810884,0.2053200861363653,0.2053318342868627,0.21542905166473528,0.21752186915458838,0.21985202574843565,0.22210832647778533,0.2229402156983627,0.22519668951632021,0.22529584259638433,0.22699498785226394,0.23170026899019033,0.2369229972659646,0.25158488976494664,0.2740252588371055,0.2888947355877797,0.30729240287080145,0.3158539023605407,0.32933043478511825,0.33039780511533695,0.3453513833279788,0.351322195201316,0.37624291740716287,0.3850509885998407],\"xaxis\":\"x17\",\"y\":[0.95,1,2,2.05],\"yaxis\":\"y17\",\"z\":[[null,null,null,null,null,null,null,null,null,null,null,null,null,null,null,null,null,null,null,null,null,null,null,null,null,null,null,null],[null,0.07695315656457147,0.06839529270986595,0.07020496851793542,0.0762427039684218,0.07632742365847435,0.12279672817750409,0.08383903613971429,0.07187104103444976,0.07310930447119506,0.07643958191548061,0.0707608246819326,0.08045786882788811,0.07954993568421377,0.0925000230835601,0.08117592570789416,0.07436692690420327,null,0.09494087435305124,0.1464429818214116,0.11409320234786728,0.12300159906347592,0.11184287914535504,null,null,null,0.12152141523222591,null],[null,null,null,null,null,null,null,null,null,null,null,null,null,null,null,null,null,0.07784998359158629,null,null,null,null,null,0.21651574254129094,0.16281519138739997,0.23798754679806097,null,null],[null,null,null,null,null,null,null,null,null,null,null,null,null,null,null,null,null,null,null,null,null,null,null,null,null,null,null,null]]},{\"marker\":{\"color\":\"black\",\"line\":{\"color\":\"Grey\",\"width\":0.5}},\"mode\":\"markers\",\"showlegend\":false,\"type\":\"scatter\",\"x\":[0.3158539023605407,0.351322195201316,0.3453513833279788,0.32933043478511825,0.33039780511533695,0.30729240287080145,0.2740252588371055,0.2053318342868627,0.2888947355877797,0.37624291740716287,0.22699498785226394,0.23170026899019033,0.22529584259638433,0.20008149355360638,0.2053200861363653,0.20149738186810884,0.21752186915458838,0.25158488976494664,0.22519668951632021,0.21542905166473528,0.2229402156983627,0.22210832647778533,0.20009250667864037,0.2010972553953743,0.2369229972659646,0.21985202574843565],\"xaxis\":\"x17\",\"y\":[1,2,2,1,2,1,1,1,1,1,1,1,1,1,1,1,1,2,1,1,1,1,1,1,1,1],\"yaxis\":\"y17\"},{\"colorbar\":{\"title\":{\"text\":\"Objective Value\"}},\"colorscale\":[[0,\"rgb(5,10,172)\"],[0.35,\"rgb(40,60,190)\"],[0.5,\"rgb(70,100,245)\"],[0.6,\"rgb(90,120,245)\"],[0.7,\"rgb(106,137,247)\"],[1,\"rgb(220,220,220)\"]],\"connectgaps\":true,\"contours\":{\"coloring\":\"heatmap\"},\"hoverinfo\":\"none\",\"line\":{\"smoothing\":1.3},\"reversescale\":true,\"showscale\":false,\"type\":\"contour\",\"x\":[0.19127342236092856,0.20008149355360638,0.20009250667864037,0.2010972553953743,0.20149738186810884,0.2053200861363653,0.2053318342868627,0.21542905166473528,0.21752186915458838,0.21985202574843565,0.22210832647778533,0.2229402156983627,0.22519668951632021,0.22529584259638433,0.22699498785226394,0.23170026899019033,0.2369229972659646,0.25158488976494664,0.2740252588371055,0.2888947355877797,0.30729240287080145,0.3158539023605407,0.32933043478511825,0.33039780511533695,0.3453513833279788,0.351322195201316,0.37624291740716287,0.3850509885998407],\"xaxis\":\"x22\",\"y\":[0.03434303380900658,0.05603333007318556,0.10519795919161423,0.10907103421869807,0.11209537252923243,0.1233921525223666,0.12652863739461595,0.14024139423007215,0.14141080372193618,0.15163439721617653,0.16856945205298712,0.1714129886898159,0.1788238449171621,0.18046766041750062,0.1853632103023621,0.19845560061807097,0.20272096943345724,0.21849152562410187,0.26556213804118434,0.2755679447582429,0.2801018891438447,0.2942866490996837,0.2957472242049232,0.3278531401206054,0.35411245341550385,0.4379572929978157,0.4898392553567651,0.511529551620944],\"yaxis\":\"y22\",\"z\":[[null,null,null,null,null,null,null,null,null,null,null,null,null,null,null,null,null,null,null,null,null,null,null,null,null,null,null,null],[null,null,null,null,null,null,null,null,null,null,null,null,null,null,null,null,null,0.07784998359158629,null,null,null,null,null,null,null,null,null,null],[null,null,null,null,null,null,null,null,0.07187104103444976,null,null,null,null,null,null,null,null,null,null,null,null,null,null,null,null,null,null,null],[null,null,0.06839529270986595,null,null,null,null,null,null,null,null,null,null,null,null,null,null,null,null,null,null,null,null,null,null,null,null,null],[null,null,null,null,null,null,null,null,null,null,null,0.0707608246819326,null,null,null,null,null,null,null,null,null,null,null,null,null,null,null,null],[null,null,null,0.07020496851793542,null,null,null,null,null,null,null,null,null,null,null,null,null,null,null,null,null,null,null,null,null,null,null,null],[null,null,null,null,null,null,null,null,null,null,null,null,null,null,null,null,null,null,null,null,null,null,null,null,0.16281519138739997,null,null,null],[null,null,null,null,null,null,null,null,null,0.07310930447119506,null,null,null,null,null,null,null,null,null,null,null,null,null,null,null,null,null,null],[null,null,null,null,null,null,null,null,null,null,null,null,null,null,null,null,0.07436692690420327,null,null,null,null,null,null,null,null,null,null,null],[null,null,null,null,0.0762427039684218,null,null,null,null,null,null,null,null,null,null,null,null,null,null,null,null,null,null,null,null,null,null,null],[null,null,null,null,null,null,null,null,null,null,0.07643958191548061,null,null,null,null,null,null,null,null,null,null,null,null,null,null,null,null,null],[null,null,null,null,null,0.07632742365847435,null,null,null,null,null,null,null,null,null,null,null,null,null,null,null,null,null,null,null,null,null,null],[null,0.07695315656457147,null,null,null,null,null,null,null,null,null,null,null,null,null,null,null,null,null,null,null,null,null,null,null,null,null,null],[null,null,null,null,null,null,null,null,null,null,null,null,null,0.07954993568421377,null,null,null,null,null,null,null,null,null,null,null,null,null,null],[null,null,null,null,null,null,null,null,null,null,null,null,0.08045786882788811,null,null,null,null,null,null,null,null,null,null,null,null,null,null,null],[null,null,null,null,null,null,null,null,null,null,null,null,null,null,null,0.08117592570789416,null,null,null,null,null,null,null,null,null,null,null,null],[null,null,null,null,null,null,null,null,null,null,null,null,null,null,null,null,null,null,0.09494087435305124,null,null,null,null,null,null,null,null,null],[null,null,null,null,null,null,null,0.08383903613971429,null,null,null,null,null,null,null,null,null,null,null,null,null,null,null,null,null,null,null,null],[null,null,null,null,null,null,null,null,null,null,null,null,null,null,0.0925000230835601,null,null,null,null,null,null,null,null,null,null,null,null,null],[null,null,null,null,null,null,null,null,null,null,null,null,null,null,null,null,null,null,null,0.1464429818214116,null,null,null,null,null,null,null,null],[null,null,null,null,null,null,null,null,null,null,null,null,null,null,null,null,null,null,null,null,0.11409320234786728,null,null,null,null,null,null,null],[null,null,null,null,null,null,null,null,null,null,null,null,null,null,null,null,null,null,null,null,null,0.12300159906347592,null,null,null,null,null,null],[null,null,null,null,null,null,null,null,null,null,null,null,null,null,null,null,null,null,null,null,null,null,null,0.21651574254129094,null,null,null,null],[null,null,null,null,null,null,null,null,null,null,null,null,null,null,null,null,null,null,null,null,null,null,null,null,null,null,0.12152141523222591,null],[null,null,null,null,null,null,null,null,null,null,null,null,null,null,null,null,null,null,null,null,null,null,0.11184287914535504,null,null,null,null,null],[null,null,null,null,null,null,null,null,null,null,null,null,null,null,null,null,null,null,null,null,null,null,null,null,null,0.23798754679806097,null,null],[null,null,null,null,null,null,0.12279672817750409,null,null,null,null,null,null,null,null,null,null,null,null,null,null,null,null,null,null,null,null,null],[null,null,null,null,null,null,null,null,null,null,null,null,null,null,null,null,null,null,null,null,null,null,null,null,null,null,null,null]]},{\"marker\":{\"color\":\"black\",\"line\":{\"color\":\"Grey\",\"width\":0.5}},\"mode\":\"markers\",\"showlegend\":false,\"type\":\"scatter\",\"x\":[0.3158539023605407,0.351322195201316,0.3453513833279788,0.32933043478511825,0.33039780511533695,0.30729240287080145,0.2740252588371055,0.2053318342868627,0.2888947355877797,0.37624291740716287,0.22699498785226394,0.23170026899019033,0.22529584259638433,0.20008149355360638,0.2053200861363653,0.20149738186810884,0.21752186915458838,0.25158488976494664,0.22519668951632021,0.21542905166473528,0.2229402156983627,0.22210832647778533,0.20009250667864037,0.2010972553953743,0.2369229972659646,0.21985202574843565],\"xaxis\":\"x22\",\"y\":[0.2942866490996837,0.4379572929978157,0.12652863739461595,0.35411245341550385,0.2957472242049232,0.2801018891438447,0.20272096943345724,0.4898392553567651,0.2755679447582429,0.3278531401206054,0.26556213804118434,0.19845560061807097,0.18046766041750062,0.1788238449171621,0.1714129886898159,0.15163439721617653,0.10519795919161423,0.05603333007318556,0.1853632103023621,0.21849152562410187,0.11209537252923243,0.16856945205298712,0.10907103421869807,0.1233921525223666,0.14141080372193618,0.14024139423007215],\"yaxis\":\"y22\"},{\"colorbar\":{\"title\":{\"text\":\"Objective Value\"}},\"colorscale\":[[0,\"rgb(5,10,172)\"],[0.35,\"rgb(40,60,190)\"],[0.5,\"rgb(70,100,245)\"],[0.6,\"rgb(90,120,245)\"],[0.7,\"rgb(106,137,247)\"],[1,\"rgb(220,220,220)\"]],\"connectgaps\":true,\"contours\":{\"coloring\":\"heatmap\"},\"hoverinfo\":\"none\",\"line\":{\"smoothing\":1.3},\"reversescale\":true,\"showscale\":false,\"type\":\"contour\",\"x\":[8.642649708804282e-06,1.3470600219422924e-05,2.1455848009490967e-05,0.00017389329178689263,0.0001804367860500245,0.0001847520121935494,0.00019290160642252273,0.00020363497333737628,0.0002058825439645186,0.0002215705592145656,0.0002487117848317692,0.000265028745733352,0.00035039352547552513,0.00041055972615636216,0.0004145471753543523,0.00043110735694857385,0.00043642405804699964,0.0004377708663348637,0.00046273309504041093,0.000672092108281761,0.0008523303736344673,0.0015332979558061325,0.002111328817634949,0.002699246630271282,0.004045007643833955,0.015098934385046161,0.09642456106186041,0.15028917718075138],\"xaxis\":\"x3\",\"y\":[-10.650000000000002,10,11,14,18,31,33,38,39,41,45,51,61,66,67,84,85,87,114,121,154,159,326,423,443.65],\"yaxis\":\"y3\",\"z\":[[null,null,null,null,null,null,null,null,null,null,null,null,null,null,null,null,null,null,null,null,null,null,null,null,null,null,null,null],[null,null,null,null,null,null,null,null,null,null,null,null,null,null,null,null,null,null,null,null,null,null,null,0.11409320234786728,null,null,null,null],[null,null,null,null,null,null,null,null,null,null,null,null,null,null,null,null,null,null,null,null,null,null,null,null,null,0.16281519138739997,null,null],[null,0.21651574254129094,null,null,null,null,null,null,null,null,null,null,null,null,null,null,null,null,null,null,null,null,null,null,null,null,null,null],[null,null,null,0.0925000230835601,null,null,null,null,null,null,null,null,null,null,null,null,null,null,null,null,null,null,null,null,null,null,null,null],[null,null,null,null,null,null,null,0.07643958191548061,null,null,null,null,null,null,null,null,null,null,null,null,null,null,null,null,null,null,null,null],[null,null,null,null,null,null,null,null,null,null,null,0.08383903613971429,null,null,null,null,null,null,null,null,null,null,null,null,null,null,null,null],[null,null,null,null,null,0.0762427039684218,0.07632742365847435,null,null,0.07954993568421377,null,null,null,null,null,null,null,null,null,null,null,null,null,null,null,null,null,null],[null,null,null,null,0.07695315656457147,null,null,null,null,null,null,null,null,null,null,null,null,null,null,null,null,null,null,null,null,null,null,null],[null,null,null,null,null,null,null,null,null,null,0.08045786882788811,null,null,null,null,null,null,null,null,null,null,null,null,null,null,null,null,null],[null,null,null,null,null,null,null,null,null,null,null,null,0.07187104103444976,null,null,null,null,null,null,null,null,null,null,null,null,null,null,null],[null,null,null,null,null,null,null,null,null,null,null,null,null,null,null,null,null,0.07784998359158629,null,0.12279672817750409,null,null,null,null,null,null,null,null],[null,null,null,null,null,null,null,null,null,null,null,null,null,null,null,null,null,null,null,null,null,null,null,null,0.09494087435305124,null,null,null],[null,null,null,null,null,null,null,null,null,null,null,null,null,null,null,null,0.07310930447119506,null,null,null,null,null,null,null,null,null,null,null],[null,null,null,null,null,null,null,null,null,null,null,null,null,null,null,null,null,null,0.0707608246819326,null,null,null,null,null,null,null,null,null],[null,null,null,null,null,null,null,null,null,null,null,null,null,0.06839529270986595,null,null,null,null,null,null,null,null,null,null,null,null,null,null],[null,null,null,null,null,null,null,null,null,null,null,null,null,null,null,0.07436692690420327,null,null,null,null,null,null,null,null,null,null,null,null],[null,null,null,null,null,null,null,null,null,null,null,null,null,null,0.07020496851793542,null,null,null,null,null,null,null,null,null,null,null,null,null],[null,null,null,null,null,null,null,null,null,null,null,null,null,null,null,null,null,null,null,null,null,null,null,null,null,null,0.12300159906347592,null],[null,null,null,null,null,null,null,null,0.08117592570789416,null,null,null,null,null,null,null,null,null,null,null,null,null,null,null,null,null,null,null],[null,null,0.11184287914535504,null,null,null,null,null,null,null,null,null,null,null,null,null,null,null,null,null,null,null,null,null,null,null,null,null],[null,null,null,null,null,null,null,null,null,null,null,null,null,null,null,null,null,null,null,null,null,null,0.1464429818214116,null,null,null,null,null],[null,null,null,null,null,null,null,null,null,null,null,null,null,null,null,null,null,null,null,null,0.12152141523222591,null,null,null,null,null,null,null],[null,null,null,null,null,null,null,null,null,null,null,null,null,null,null,null,null,null,null,null,null,0.23798754679806097,null,null,null,null,null,null],[null,null,null,null,null,null,null,null,null,null,null,null,null,null,null,null,null,null,null,null,null,null,null,null,null,null,null,null]]},{\"marker\":{\"color\":\"black\",\"line\":{\"color\":\"Grey\",\"width\":0.5}},\"mode\":\"markers\",\"showlegend\":false,\"type\":\"scatter\",\"x\":[0.09642456106186041,0.0015332979558061325,0.015098934385046161,2.1455848009490967e-05,1.3470600219422924e-05,0.002699246630271282,0.004045007643833955,0.000672092108281761,0.002111328817634949,0.0008523303736344673,0.00017389329178689263,0.0002058825439645186,0.0002215705592145656,0.0001804367860500245,0.00019290160642252273,0.0001847520121935494,0.00035039352547552513,0.0004377708663348637,0.0002487117848317692,0.000265028745733352,0.00046273309504041093,0.00020363497333737628,0.00041055972615636216,0.0004145471753543523,0.00043110735694857385,0.00043642405804699964],\"xaxis\":\"x3\",\"y\":[114,423,11,154,14,10,61,51,159,326,18,121,38,39,38,38,45,51,41,33,67,31,84,87,85,66],\"yaxis\":\"y3\"},{\"colorbar\":{\"title\":{\"text\":\"Objective Value\"}},\"colorscale\":[[0,\"rgb(5,10,172)\"],[0.35,\"rgb(40,60,190)\"],[0.5,\"rgb(70,100,245)\"],[0.6,\"rgb(90,120,245)\"],[0.7,\"rgb(106,137,247)\"],[1,\"rgb(220,220,220)\"]],\"connectgaps\":true,\"contours\":{\"coloring\":\"heatmap\"},\"hoverinfo\":\"none\",\"line\":{\"smoothing\":1.3},\"reversescale\":true,\"showscale\":false,\"type\":\"contour\",\"x\":[8.642649708804282e-06,1.3470600219422924e-05,2.1455848009490967e-05,0.00017389329178689263,0.0001804367860500245,0.0001847520121935494,0.00019290160642252273,0.00020363497333737628,0.0002058825439645186,0.0002215705592145656,0.0002487117848317692,0.000265028745733352,0.00035039352547552513,0.00041055972615636216,0.0004145471753543523,0.00043110735694857385,0.00043642405804699964,0.0004377708663348637,0.00046273309504041093,0.000672092108281761,0.0008523303736344673,0.0015332979558061325,0.002111328817634949,0.002699246630271282,0.004045007643833955,0.015098934385046161,0.09642456106186041,0.15028917718075138],\"xaxis\":\"x8\",\"y\":[0.19127342236092856,0.20008149355360638,0.20009250667864037,0.2010972553953743,0.20149738186810884,0.2053200861363653,0.2053318342868627,0.21542905166473528,0.21752186915458838,0.21985202574843565,0.22210832647778533,0.2229402156983627,0.22519668951632021,0.22529584259638433,0.22699498785226394,0.23170026899019033,0.2369229972659646,0.25158488976494664,0.2740252588371055,0.2888947355877797,0.30729240287080145,0.3158539023605407,0.32933043478511825,0.33039780511533695,0.3453513833279788,0.351322195201316,0.37624291740716287,0.3850509885998407],\"yaxis\":\"y8\",\"z\":[[null,null,null,null,null,null,null,null,null,null,null,null,null,null,null,null,null,null,null,null,null,null,null,null,null,null,null,null],[null,null,null,null,0.07695315656457147,null,null,null,null,null,null,null,null,null,null,null,null,null,null,null,null,null,null,null,null,null,null,null],[null,null,null,null,null,null,null,null,null,null,null,null,null,0.06839529270986595,null,null,null,null,null,null,null,null,null,null,null,null,null,null],[null,null,null,null,null,null,null,null,null,null,null,null,null,null,0.07020496851793542,null,null,null,null,null,null,null,null,null,null,null,null,null],[null,null,null,null,null,0.0762427039684218,null,null,null,null,null,null,null,null,null,null,null,null,null,null,null,null,null,null,null,null,null,null],[null,null,null,null,null,null,0.07632742365847435,null,null,null,null,null,null,null,null,null,null,null,null,null,null,null,null,null,null,null,null,null],[null,null,null,null,null,null,null,null,null,null,null,null,null,null,null,null,null,null,null,0.12279672817750409,null,null,null,null,null,null,null,null],[null,null,null,null,null,null,null,null,null,null,null,0.08383903613971429,null,null,null,null,null,null,null,null,null,null,null,null,null,null,null,null],[null,null,null,null,null,null,null,null,null,null,null,null,0.07187104103444976,null,null,null,null,null,null,null,null,null,null,null,null,null,null,null],[null,null,null,null,null,null,null,null,null,null,null,null,null,null,null,null,0.07310930447119506,null,null,null,null,null,null,null,null,null,null,null],[null,null,null,null,null,null,null,0.07643958191548061,null,null,null,null,null,null,null,null,null,null,null,null,null,null,null,null,null,null,null,null],[null,null,null,null,null,null,null,null,null,null,null,null,null,null,null,null,null,null,0.0707608246819326,null,null,null,null,null,null,null,null,null],[null,null,null,null,null,null,null,null,null,null,0.08045786882788811,null,null,null,null,null,null,null,null,null,null,null,null,null,null,null,null,null],[null,null,null,null,null,null,null,null,null,0.07954993568421377,null,null,null,null,null,null,null,null,null,null,null,null,null,null,null,null,null,null],[null,null,null,0.0925000230835601,null,null,null,null,null,null,null,null,null,null,null,null,null,null,null,null,null,null,null,null,null,null,null,null],[null,null,null,null,null,null,null,null,0.08117592570789416,null,null,null,null,null,null,null,null,null,null,null,null,null,null,null,null,null,null,null],[null,null,null,null,null,null,null,null,null,null,null,null,null,null,null,0.07436692690420327,null,null,null,null,null,null,null,null,null,null,null,null],[null,null,null,null,null,null,null,null,null,null,null,null,null,null,null,null,null,0.07784998359158629,null,null,null,null,null,null,null,null,null,null],[null,null,null,null,null,null,null,null,null,null,null,null,null,null,null,null,null,null,null,null,null,null,null,null,0.09494087435305124,null,null,null],[null,null,null,null,null,null,null,null,null,null,null,null,null,null,null,null,null,null,null,null,null,null,0.1464429818214116,null,null,null,null,null],[null,null,null,null,null,null,null,null,null,null,null,null,null,null,null,null,null,null,null,null,null,null,null,0.11409320234786728,null,null,null,null],[null,null,null,null,null,null,null,null,null,null,null,null,null,null,null,null,null,null,null,null,null,null,null,null,null,null,0.12300159906347592,null],[null,null,0.11184287914535504,null,null,null,null,null,null,null,null,null,null,null,null,null,null,null,null,null,null,null,null,null,null,null,null,null],[null,0.21651574254129094,null,null,null,null,null,null,null,null,null,null,null,null,null,null,null,null,null,null,null,null,null,null,null,null,null,null],[null,null,null,null,null,null,null,null,null,null,null,null,null,null,null,null,null,null,null,null,null,null,null,null,null,0.16281519138739997,null,null],[null,null,null,null,null,null,null,null,null,null,null,null,null,null,null,null,null,null,null,null,null,0.23798754679806097,null,null,null,null,null,null],[null,null,null,null,null,null,null,null,null,null,null,null,null,null,null,null,null,null,null,null,0.12152141523222591,null,null,null,null,null,null,null],[null,null,null,null,null,null,null,null,null,null,null,null,null,null,null,null,null,null,null,null,null,null,null,null,null,null,null,null]]},{\"marker\":{\"color\":\"black\",\"line\":{\"color\":\"Grey\",\"width\":0.5}},\"mode\":\"markers\",\"showlegend\":false,\"type\":\"scatter\",\"x\":[0.09642456106186041,0.0015332979558061325,0.015098934385046161,2.1455848009490967e-05,1.3470600219422924e-05,0.002699246630271282,0.004045007643833955,0.000672092108281761,0.002111328817634949,0.0008523303736344673,0.00017389329178689263,0.0002058825439645186,0.0002215705592145656,0.0001804367860500245,0.00019290160642252273,0.0001847520121935494,0.00035039352547552513,0.0004377708663348637,0.0002487117848317692,0.000265028745733352,0.00046273309504041093,0.00020363497333737628,0.00041055972615636216,0.0004145471753543523,0.00043110735694857385,0.00043642405804699964],\"xaxis\":\"x8\",\"y\":[0.3158539023605407,0.351322195201316,0.3453513833279788,0.32933043478511825,0.33039780511533695,0.30729240287080145,0.2740252588371055,0.2053318342868627,0.2888947355877797,0.37624291740716287,0.22699498785226394,0.23170026899019033,0.22529584259638433,0.20008149355360638,0.2053200861363653,0.20149738186810884,0.21752186915458838,0.25158488976494664,0.22519668951632021,0.21542905166473528,0.2229402156983627,0.22210832647778533,0.20009250667864037,0.2010972553953743,0.2369229972659646,0.21985202574843565],\"yaxis\":\"y8\"},{\"type\":\"scatter\",\"xaxis\":\"x13\",\"yaxis\":\"y13\"},{\"colorbar\":{\"title\":{\"text\":\"Objective Value\"}},\"colorscale\":[[0,\"rgb(5,10,172)\"],[0.35,\"rgb(40,60,190)\"],[0.5,\"rgb(70,100,245)\"],[0.6,\"rgb(90,120,245)\"],[0.7,\"rgb(106,137,247)\"],[1,\"rgb(220,220,220)\"]],\"connectgaps\":true,\"contours\":{\"coloring\":\"heatmap\"},\"hoverinfo\":\"none\",\"line\":{\"smoothing\":1.3},\"reversescale\":true,\"showscale\":false,\"type\":\"contour\",\"x\":[8.642649708804282e-06,1.3470600219422924e-05,2.1455848009490967e-05,0.00017389329178689263,0.0001804367860500245,0.0001847520121935494,0.00019290160642252273,0.00020363497333737628,0.0002058825439645186,0.0002215705592145656,0.0002487117848317692,0.000265028745733352,0.00035039352547552513,0.00041055972615636216,0.0004145471753543523,0.00043110735694857385,0.00043642405804699964,0.0004377708663348637,0.00046273309504041093,0.000672092108281761,0.0008523303736344673,0.0015332979558061325,0.002111328817634949,0.002699246630271282,0.004045007643833955,0.015098934385046161,0.09642456106186041,0.15028917718075138],\"xaxis\":\"x18\",\"y\":[0.95,1,2,2.05],\"yaxis\":\"y18\",\"z\":[[null,null,null,null,null,null,null,null,null,null,null,null,null,null,null,null,null,null,null,null,null,null,null,null,null,null,null,null],[null,null,0.11184287914535504,0.0925000230835601,0.07695315656457147,0.0762427039684218,0.07632742365847435,0.07643958191548061,0.08117592570789416,0.07954993568421377,0.08045786882788811,0.08383903613971429,0.07187104103444976,0.06839529270986595,0.07020496851793542,0.07436692690420327,0.07310930447119506,null,0.0707608246819326,0.12279672817750409,0.12152141523222591,null,0.1464429818214116,0.11409320234786728,0.09494087435305124,null,0.12300159906347592,null],[null,0.21651574254129094,null,null,null,null,null,null,null,null,null,null,null,null,null,null,null,0.07784998359158629,null,null,null,0.23798754679806097,null,null,null,0.16281519138739997,null,null],[null,null,null,null,null,null,null,null,null,null,null,null,null,null,null,null,null,null,null,null,null,null,null,null,null,null,null,null]]},{\"marker\":{\"color\":\"black\",\"line\":{\"color\":\"Grey\",\"width\":0.5}},\"mode\":\"markers\",\"showlegend\":false,\"type\":\"scatter\",\"x\":[0.09642456106186041,0.0015332979558061325,0.015098934385046161,2.1455848009490967e-05,1.3470600219422924e-05,0.002699246630271282,0.004045007643833955,0.000672092108281761,0.002111328817634949,0.0008523303736344673,0.00017389329178689263,0.0002058825439645186,0.0002215705592145656,0.0001804367860500245,0.00019290160642252273,0.0001847520121935494,0.00035039352547552513,0.0004377708663348637,0.0002487117848317692,0.000265028745733352,0.00046273309504041093,0.00020363497333737628,0.00041055972615636216,0.0004145471753543523,0.00043110735694857385,0.00043642405804699964],\"xaxis\":\"x18\",\"y\":[1,2,2,1,2,1,1,1,1,1,1,1,1,1,1,1,1,2,1,1,1,1,1,1,1,1],\"yaxis\":\"y18\"},{\"colorbar\":{\"title\":{\"text\":\"Objective Value\"}},\"colorscale\":[[0,\"rgb(5,10,172)\"],[0.35,\"rgb(40,60,190)\"],[0.5,\"rgb(70,100,245)\"],[0.6,\"rgb(90,120,245)\"],[0.7,\"rgb(106,137,247)\"],[1,\"rgb(220,220,220)\"]],\"connectgaps\":true,\"contours\":{\"coloring\":\"heatmap\"},\"hoverinfo\":\"none\",\"line\":{\"smoothing\":1.3},\"reversescale\":true,\"showscale\":false,\"type\":\"contour\",\"x\":[8.642649708804282e-06,1.3470600219422924e-05,2.1455848009490967e-05,0.00017389329178689263,0.0001804367860500245,0.0001847520121935494,0.00019290160642252273,0.00020363497333737628,0.0002058825439645186,0.0002215705592145656,0.0002487117848317692,0.000265028745733352,0.00035039352547552513,0.00041055972615636216,0.0004145471753543523,0.00043110735694857385,0.00043642405804699964,0.0004377708663348637,0.00046273309504041093,0.000672092108281761,0.0008523303736344673,0.0015332979558061325,0.002111328817634949,0.002699246630271282,0.004045007643833955,0.015098934385046161,0.09642456106186041,0.15028917718075138],\"xaxis\":\"x23\",\"y\":[0.03434303380900658,0.05603333007318556,0.10519795919161423,0.10907103421869807,0.11209537252923243,0.1233921525223666,0.12652863739461595,0.14024139423007215,0.14141080372193618,0.15163439721617653,0.16856945205298712,0.1714129886898159,0.1788238449171621,0.18046766041750062,0.1853632103023621,0.19845560061807097,0.20272096943345724,0.21849152562410187,0.26556213804118434,0.2755679447582429,0.2801018891438447,0.2942866490996837,0.2957472242049232,0.3278531401206054,0.35411245341550385,0.4379572929978157,0.4898392553567651,0.511529551620944],\"yaxis\":\"y23\",\"z\":[[null,null,null,null,null,null,null,null,null,null,null,null,null,null,null,null,null,null,null,null,null,null,null,null,null,null,null,null],[null,null,null,null,null,null,null,null,null,null,null,null,null,null,null,null,null,0.07784998359158629,null,null,null,null,null,null,null,null,null,null],[null,null,null,null,null,null,null,null,null,null,null,null,0.07187104103444976,null,null,null,null,null,null,null,null,null,null,null,null,null,null,null],[null,null,null,null,null,null,null,null,null,null,null,null,null,0.06839529270986595,null,null,null,null,null,null,null,null,null,null,null,null,null,null],[null,null,null,null,null,null,null,null,null,null,null,null,null,null,null,null,null,null,0.0707608246819326,null,null,null,null,null,null,null,null,null],[null,null,null,null,null,null,null,null,null,null,null,null,null,null,0.07020496851793542,null,null,null,null,null,null,null,null,null,null,null,null,null],[null,null,null,null,null,null,null,null,null,null,null,null,null,null,null,null,null,null,null,null,null,null,null,null,null,0.16281519138739997,null,null],[null,null,null,null,null,null,null,null,null,null,null,null,null,null,null,null,0.07310930447119506,null,null,null,null,null,null,null,null,null,null,null],[null,null,null,null,null,null,null,null,null,null,null,null,null,null,null,0.07436692690420327,null,null,null,null,null,null,null,null,null,null,null,null],[null,null,null,null,null,0.0762427039684218,null,null,null,null,null,null,null,null,null,null,null,null,null,null,null,null,null,null,null,null,null,null],[null,null,null,null,null,null,null,0.07643958191548061,null,null,null,null,null,null,null,null,null,null,null,null,null,null,null,null,null,null,null,null],[null,null,null,null,null,null,0.07632742365847435,null,null,null,null,null,null,null,null,null,null,null,null,null,null,null,null,null,null,null,null,null],[null,null,null,null,0.07695315656457147,null,null,null,null,null,null,null,null,null,null,null,null,null,null,null,null,null,null,null,null,null,null,null],[null,null,null,null,null,null,null,null,null,0.07954993568421377,null,null,null,null,null,null,null,null,null,null,null,null,null,null,null,null,null,null],[null,null,null,null,null,null,null,null,null,null,0.08045786882788811,null,null,null,null,null,null,null,null,null,null,null,null,null,null,null,null,null],[null,null,null,null,null,null,null,null,0.08117592570789416,null,null,null,null,null,null,null,null,null,null,null,null,null,null,null,null,null,null,null],[null,null,null,null,null,null,null,null,null,null,null,null,null,null,null,null,null,null,null,null,null,null,null,null,0.09494087435305124,null,null,null],[null,null,null,null,null,null,null,null,null,null,null,0.08383903613971429,null,null,null,null,null,null,null,null,null,null,null,null,null,null,null,null],[null,null,null,0.0925000230835601,null,null,null,null,null,null,null,null,null,null,null,null,null,null,null,null,null,null,null,null,null,null,null,null],[null,null,null,null,null,null,null,null,null,null,null,null,null,null,null,null,null,null,null,null,null,null,0.1464429818214116,null,null,null,null,null],[null,null,null,null,null,null,null,null,null,null,null,null,null,null,null,null,null,null,null,null,null,null,null,0.11409320234786728,null,null,null,null],[null,null,null,null,null,null,null,null,null,null,null,null,null,null,null,null,null,null,null,null,null,null,null,null,null,null,0.12300159906347592,null],[null,0.21651574254129094,null,null,null,null,null,null,null,null,null,null,null,null,null,null,null,null,null,null,null,null,null,null,null,null,null,null],[null,null,null,null,null,null,null,null,null,null,null,null,null,null,null,null,null,null,null,null,0.12152141523222591,null,null,null,null,null,null,null],[null,null,0.11184287914535504,null,null,null,null,null,null,null,null,null,null,null,null,null,null,null,null,null,null,null,null,null,null,null,null,null],[null,null,null,null,null,null,null,null,null,null,null,null,null,null,null,null,null,null,null,null,null,0.23798754679806097,null,null,null,null,null,null],[null,null,null,null,null,null,null,null,null,null,null,null,null,null,null,null,null,null,null,0.12279672817750409,null,null,null,null,null,null,null,null],[null,null,null,null,null,null,null,null,null,null,null,null,null,null,null,null,null,null,null,null,null,null,null,null,null,null,null,null]]},{\"marker\":{\"color\":\"black\",\"line\":{\"color\":\"Grey\",\"width\":0.5}},\"mode\":\"markers\",\"showlegend\":false,\"type\":\"scatter\",\"x\":[0.09642456106186041,0.0015332979558061325,0.015098934385046161,2.1455848009490967e-05,1.3470600219422924e-05,0.002699246630271282,0.004045007643833955,0.000672092108281761,0.002111328817634949,0.0008523303736344673,0.00017389329178689263,0.0002058825439645186,0.0002215705592145656,0.0001804367860500245,0.00019290160642252273,0.0001847520121935494,0.00035039352547552513,0.0004377708663348637,0.0002487117848317692,0.000265028745733352,0.00046273309504041093,0.00020363497333737628,0.00041055972615636216,0.0004145471753543523,0.00043110735694857385,0.00043642405804699964],\"xaxis\":\"x23\",\"y\":[0.2942866490996837,0.4379572929978157,0.12652863739461595,0.35411245341550385,0.2957472242049232,0.2801018891438447,0.20272096943345724,0.4898392553567651,0.2755679447582429,0.3278531401206054,0.26556213804118434,0.19845560061807097,0.18046766041750062,0.1788238449171621,0.1714129886898159,0.15163439721617653,0.10519795919161423,0.05603333007318556,0.1853632103023621,0.21849152562410187,0.11209537252923243,0.16856945205298712,0.10907103421869807,0.1233921525223666,0.14141080372193618,0.14024139423007215],\"yaxis\":\"y23\"},{\"colorbar\":{\"title\":{\"text\":\"Objective Value\"}},\"colorscale\":[[0,\"rgb(5,10,172)\"],[0.35,\"rgb(40,60,190)\"],[0.5,\"rgb(70,100,245)\"],[0.6,\"rgb(90,120,245)\"],[0.7,\"rgb(106,137,247)\"],[1,\"rgb(220,220,220)\"]],\"connectgaps\":true,\"contours\":{\"coloring\":\"heatmap\"},\"hoverinfo\":\"none\",\"line\":{\"smoothing\":1.3},\"reversescale\":true,\"showscale\":false,\"type\":\"contour\",\"x\":[0.95,1,2,2.05],\"xaxis\":\"x4\",\"y\":[-10.650000000000002,10,11,14,18,31,33,38,39,41,45,51,61,66,67,84,85,87,114,121,154,159,326,423,443.65],\"yaxis\":\"y4\",\"z\":[[null,null,null,null],[null,0.11409320234786728,null,null],[null,null,0.16281519138739997,null],[null,null,0.21651574254129094,null],[null,0.0925000230835601,null,null],[null,0.07643958191548061,null,null],[null,0.08383903613971429,null,null],[null,0.0762427039684218,null,null],[null,0.07695315656457147,null,null],[null,0.08045786882788811,null,null],[null,0.07187104103444976,null,null],[null,0.12279672817750409,0.07784998359158629,null],[null,0.09494087435305124,null,null],[null,0.07310930447119506,null,null],[null,0.0707608246819326,null,null],[null,0.06839529270986595,null,null],[null,0.07436692690420327,null,null],[null,0.07020496851793542,null,null],[null,0.12300159906347592,null,null],[null,0.08117592570789416,null,null],[null,0.11184287914535504,null,null],[null,0.1464429818214116,null,null],[null,0.12152141523222591,null,null],[null,null,0.23798754679806097,null],[null,null,null,null]]},{\"marker\":{\"color\":\"black\",\"line\":{\"color\":\"Grey\",\"width\":0.5}},\"mode\":\"markers\",\"showlegend\":false,\"type\":\"scatter\",\"x\":[1,2,2,1,2,1,1,1,1,1,1,1,1,1,1,1,1,2,1,1,1,1,1,1,1,1],\"xaxis\":\"x4\",\"y\":[114,423,11,154,14,10,61,51,159,326,18,121,38,39,38,38,45,51,41,33,67,31,84,87,85,66],\"yaxis\":\"y4\"},{\"colorbar\":{\"title\":{\"text\":\"Objective Value\"}},\"colorscale\":[[0,\"rgb(5,10,172)\"],[0.35,\"rgb(40,60,190)\"],[0.5,\"rgb(70,100,245)\"],[0.6,\"rgb(90,120,245)\"],[0.7,\"rgb(106,137,247)\"],[1,\"rgb(220,220,220)\"]],\"connectgaps\":true,\"contours\":{\"coloring\":\"heatmap\"},\"hoverinfo\":\"none\",\"line\":{\"smoothing\":1.3},\"reversescale\":true,\"showscale\":false,\"type\":\"contour\",\"x\":[0.95,1,2,2.05],\"xaxis\":\"x9\",\"y\":[0.19127342236092856,0.20008149355360638,0.20009250667864037,0.2010972553953743,0.20149738186810884,0.2053200861363653,0.2053318342868627,0.21542905166473528,0.21752186915458838,0.21985202574843565,0.22210832647778533,0.2229402156983627,0.22519668951632021,0.22529584259638433,0.22699498785226394,0.23170026899019033,0.2369229972659646,0.25158488976494664,0.2740252588371055,0.2888947355877797,0.30729240287080145,0.3158539023605407,0.32933043478511825,0.33039780511533695,0.3453513833279788,0.351322195201316,0.37624291740716287,0.3850509885998407],\"yaxis\":\"y9\",\"z\":[[null,null,null,null],[null,0.07695315656457147,null,null],[null,0.06839529270986595,null,null],[null,0.07020496851793542,null,null],[null,0.0762427039684218,null,null],[null,0.07632742365847435,null,null],[null,0.12279672817750409,null,null],[null,0.08383903613971429,null,null],[null,0.07187104103444976,null,null],[null,0.07310930447119506,null,null],[null,0.07643958191548061,null,null],[null,0.0707608246819326,null,null],[null,0.08045786882788811,null,null],[null,0.07954993568421377,null,null],[null,0.0925000230835601,null,null],[null,0.08117592570789416,null,null],[null,0.07436692690420327,null,null],[null,null,0.07784998359158629,null],[null,0.09494087435305124,null,null],[null,0.1464429818214116,null,null],[null,0.11409320234786728,null,null],[null,0.12300159906347592,null,null],[null,0.11184287914535504,null,null],[null,null,0.21651574254129094,null],[null,null,0.16281519138739997,null],[null,null,0.23798754679806097,null],[null,0.12152141523222591,null,null],[null,null,null,null]]},{\"marker\":{\"color\":\"black\",\"line\":{\"color\":\"Grey\",\"width\":0.5}},\"mode\":\"markers\",\"showlegend\":false,\"type\":\"scatter\",\"x\":[1,2,2,1,2,1,1,1,1,1,1,1,1,1,1,1,1,2,1,1,1,1,1,1,1,1],\"xaxis\":\"x9\",\"y\":[0.3158539023605407,0.351322195201316,0.3453513833279788,0.32933043478511825,0.33039780511533695,0.30729240287080145,0.2740252588371055,0.2053318342868627,0.2888947355877797,0.37624291740716287,0.22699498785226394,0.23170026899019033,0.22529584259638433,0.20008149355360638,0.2053200861363653,0.20149738186810884,0.21752186915458838,0.25158488976494664,0.22519668951632021,0.21542905166473528,0.2229402156983627,0.22210832647778533,0.20009250667864037,0.2010972553953743,0.2369229972659646,0.21985202574843565],\"yaxis\":\"y9\"},{\"colorbar\":{\"title\":{\"text\":\"Objective Value\"}},\"colorscale\":[[0,\"rgb(5,10,172)\"],[0.35,\"rgb(40,60,190)\"],[0.5,\"rgb(70,100,245)\"],[0.6,\"rgb(90,120,245)\"],[0.7,\"rgb(106,137,247)\"],[1,\"rgb(220,220,220)\"]],\"connectgaps\":true,\"contours\":{\"coloring\":\"heatmap\"},\"hoverinfo\":\"none\",\"line\":{\"smoothing\":1.3},\"reversescale\":true,\"showscale\":false,\"type\":\"contour\",\"x\":[0.95,1,2,2.05],\"xaxis\":\"x14\",\"y\":[8.642649708804282e-06,1.3470600219422924e-05,2.1455848009490967e-05,0.00017389329178689263,0.0001804367860500245,0.0001847520121935494,0.00019290160642252273,0.00020363497333737628,0.0002058825439645186,0.0002215705592145656,0.0002487117848317692,0.000265028745733352,0.00035039352547552513,0.00041055972615636216,0.0004145471753543523,0.00043110735694857385,0.00043642405804699964,0.0004377708663348637,0.00046273309504041093,0.000672092108281761,0.0008523303736344673,0.0015332979558061325,0.002111328817634949,0.002699246630271282,0.004045007643833955,0.015098934385046161,0.09642456106186041,0.15028917718075138],\"yaxis\":\"y14\",\"z\":[[null,null,null,null],[null,null,0.21651574254129094,null],[null,0.11184287914535504,null,null],[null,0.0925000230835601,null,null],[null,0.07695315656457147,null,null],[null,0.0762427039684218,null,null],[null,0.07632742365847435,null,null],[null,0.07643958191548061,null,null],[null,0.08117592570789416,null,null],[null,0.07954993568421377,null,null],[null,0.08045786882788811,null,null],[null,0.08383903613971429,null,null],[null,0.07187104103444976,null,null],[null,0.06839529270986595,null,null],[null,0.07020496851793542,null,null],[null,0.07436692690420327,null,null],[null,0.07310930447119506,null,null],[null,null,0.07784998359158629,null],[null,0.0707608246819326,null,null],[null,0.12279672817750409,null,null],[null,0.12152141523222591,null,null],[null,null,0.23798754679806097,null],[null,0.1464429818214116,null,null],[null,0.11409320234786728,null,null],[null,0.09494087435305124,null,null],[null,null,0.16281519138739997,null],[null,0.12300159906347592,null,null],[null,null,null,null]]},{\"marker\":{\"color\":\"black\",\"line\":{\"color\":\"Grey\",\"width\":0.5}},\"mode\":\"markers\",\"showlegend\":false,\"type\":\"scatter\",\"x\":[1,2,2,1,2,1,1,1,1,1,1,1,1,1,1,1,1,2,1,1,1,1,1,1,1,1],\"xaxis\":\"x14\",\"y\":[0.09642456106186041,0.0015332979558061325,0.015098934385046161,2.1455848009490967e-05,1.3470600219422924e-05,0.002699246630271282,0.004045007643833955,0.000672092108281761,0.002111328817634949,0.0008523303736344673,0.00017389329178689263,0.0002058825439645186,0.0002215705592145656,0.0001804367860500245,0.00019290160642252273,0.0001847520121935494,0.00035039352547552513,0.0004377708663348637,0.0002487117848317692,0.000265028745733352,0.00046273309504041093,0.00020363497333737628,0.00041055972615636216,0.0004145471753543523,0.00043110735694857385,0.00043642405804699964],\"yaxis\":\"y14\"},{\"type\":\"scatter\",\"xaxis\":\"x19\",\"yaxis\":\"y19\"},{\"colorbar\":{\"title\":{\"text\":\"Objective Value\"}},\"colorscale\":[[0,\"rgb(5,10,172)\"],[0.35,\"rgb(40,60,190)\"],[0.5,\"rgb(70,100,245)\"],[0.6,\"rgb(90,120,245)\"],[0.7,\"rgb(106,137,247)\"],[1,\"rgb(220,220,220)\"]],\"connectgaps\":true,\"contours\":{\"coloring\":\"heatmap\"},\"hoverinfo\":\"none\",\"line\":{\"smoothing\":1.3},\"reversescale\":true,\"showscale\":false,\"type\":\"contour\",\"x\":[0.95,1,2,2.05],\"xaxis\":\"x24\",\"y\":[0.03434303380900658,0.05603333007318556,0.10519795919161423,0.10907103421869807,0.11209537252923243,0.1233921525223666,0.12652863739461595,0.14024139423007215,0.14141080372193618,0.15163439721617653,0.16856945205298712,0.1714129886898159,0.1788238449171621,0.18046766041750062,0.1853632103023621,0.19845560061807097,0.20272096943345724,0.21849152562410187,0.26556213804118434,0.2755679447582429,0.2801018891438447,0.2942866490996837,0.2957472242049232,0.3278531401206054,0.35411245341550385,0.4379572929978157,0.4898392553567651,0.511529551620944],\"yaxis\":\"y24\",\"z\":[[null,null,null,null],[null,null,0.07784998359158629,null],[null,0.07187104103444976,null,null],[null,0.06839529270986595,null,null],[null,0.0707608246819326,null,null],[null,0.07020496851793542,null,null],[null,null,0.16281519138739997,null],[null,0.07310930447119506,null,null],[null,0.07436692690420327,null,null],[null,0.0762427039684218,null,null],[null,0.07643958191548061,null,null],[null,0.07632742365847435,null,null],[null,0.07695315656457147,null,null],[null,0.07954993568421377,null,null],[null,0.08045786882788811,null,null],[null,0.08117592570789416,null,null],[null,0.09494087435305124,null,null],[null,0.08383903613971429,null,null],[null,0.0925000230835601,null,null],[null,0.1464429818214116,null,null],[null,0.11409320234786728,null,null],[null,0.12300159906347592,null,null],[null,null,0.21651574254129094,null],[null,0.12152141523222591,null,null],[null,0.11184287914535504,null,null],[null,null,0.23798754679806097,null],[null,0.12279672817750409,null,null],[null,null,null,null]]},{\"marker\":{\"color\":\"black\",\"line\":{\"color\":\"Grey\",\"width\":0.5}},\"mode\":\"markers\",\"showlegend\":false,\"type\":\"scatter\",\"x\":[1,2,2,1,2,1,1,1,1,1,1,1,1,1,1,1,1,2,1,1,1,1,1,1,1,1],\"xaxis\":\"x24\",\"y\":[0.2942866490996837,0.4379572929978157,0.12652863739461595,0.35411245341550385,0.2957472242049232,0.2801018891438447,0.20272096943345724,0.4898392553567651,0.2755679447582429,0.3278531401206054,0.26556213804118434,0.19845560061807097,0.18046766041750062,0.1788238449171621,0.1714129886898159,0.15163439721617653,0.10519795919161423,0.05603333007318556,0.1853632103023621,0.21849152562410187,0.11209537252923243,0.16856945205298712,0.10907103421869807,0.1233921525223666,0.14141080372193618,0.14024139423007215],\"yaxis\":\"y24\"},{\"colorbar\":{\"title\":{\"text\":\"Objective Value\"}},\"colorscale\":[[0,\"rgb(5,10,172)\"],[0.35,\"rgb(40,60,190)\"],[0.5,\"rgb(70,100,245)\"],[0.6,\"rgb(90,120,245)\"],[0.7,\"rgb(106,137,247)\"],[1,\"rgb(220,220,220)\"]],\"connectgaps\":true,\"contours\":{\"coloring\":\"heatmap\"},\"hoverinfo\":\"none\",\"line\":{\"smoothing\":1.3},\"reversescale\":true,\"showscale\":false,\"type\":\"contour\",\"x\":[0.03434303380900658,0.05603333007318556,0.10519795919161423,0.10907103421869807,0.11209537252923243,0.1233921525223666,0.12652863739461595,0.14024139423007215,0.14141080372193618,0.15163439721617653,0.16856945205298712,0.1714129886898159,0.1788238449171621,0.18046766041750062,0.1853632103023621,0.19845560061807097,0.20272096943345724,0.21849152562410187,0.26556213804118434,0.2755679447582429,0.2801018891438447,0.2942866490996837,0.2957472242049232,0.3278531401206054,0.35411245341550385,0.4379572929978157,0.4898392553567651,0.511529551620944],\"xaxis\":\"x5\",\"y\":[-10.650000000000002,10,11,14,18,31,33,38,39,41,45,51,61,66,67,84,85,87,114,121,154,159,326,423,443.65],\"yaxis\":\"y5\",\"z\":[[null,null,null,null,null,null,null,null,null,null,null,null,null,null,null,null,null,null,null,null,null,null,null,null,null,null,null,null],[null,null,null,null,null,null,null,null,null,null,null,null,null,null,null,null,null,null,null,null,0.11409320234786728,null,null,null,null,null,null,null],[null,null,null,null,null,null,0.16281519138739997,null,null,null,null,null,null,null,null,null,null,null,null,null,null,null,null,null,null,null,null,null],[null,null,null,null,null,null,null,null,null,null,null,null,null,null,null,null,null,null,null,null,null,null,0.21651574254129094,null,null,null,null,null],[null,null,null,null,null,null,null,null,null,null,null,null,null,null,null,null,null,null,0.0925000230835601,null,null,null,null,null,null,null,null,null],[null,null,null,null,null,null,null,null,null,null,0.07643958191548061,null,null,null,null,null,null,null,null,null,null,null,null,null,null,null,null,null],[null,null,null,null,null,null,null,null,null,null,null,null,null,null,null,null,null,0.08383903613971429,null,null,null,null,null,null,null,null,null,null],[null,null,null,null,null,null,null,null,null,0.0762427039684218,null,0.07632742365847435,null,0.07954993568421377,null,null,null,null,null,null,null,null,null,null,null,null,null,null],[null,null,null,null,null,null,null,null,null,null,null,null,0.07695315656457147,null,null,null,null,null,null,null,null,null,null,null,null,null,null,null],[null,null,null,null,null,null,null,null,null,null,null,null,null,null,0.08045786882788811,null,null,null,null,null,null,null,null,null,null,null,null,null],[null,null,0.07187104103444976,null,null,null,null,null,null,null,null,null,null,null,null,null,null,null,null,null,null,null,null,null,null,null,null,null],[null,0.07784998359158629,null,null,null,null,null,null,null,null,null,null,null,null,null,null,null,null,null,null,null,null,null,null,null,null,0.12279672817750409,null],[null,null,null,null,null,null,null,null,null,null,null,null,null,null,null,null,0.09494087435305124,null,null,null,null,null,null,null,null,null,null,null],[null,null,null,null,null,null,null,0.07310930447119506,null,null,null,null,null,null,null,null,null,null,null,null,null,null,null,null,null,null,null,null],[null,null,null,null,0.0707608246819326,null,null,null,null,null,null,null,null,null,null,null,null,null,null,null,null,null,null,null,null,null,null,null],[null,null,null,0.06839529270986595,null,null,null,null,null,null,null,null,null,null,null,null,null,null,null,null,null,null,null,null,null,null,null,null],[null,null,null,null,null,null,null,null,0.07436692690420327,null,null,null,null,null,null,null,null,null,null,null,null,null,null,null,null,null,null,null],[null,null,null,null,null,0.07020496851793542,null,null,null,null,null,null,null,null,null,null,null,null,null,null,null,null,null,null,null,null,null,null],[null,null,null,null,null,null,null,null,null,null,null,null,null,null,null,null,null,null,null,null,null,0.12300159906347592,null,null,null,null,null,null],[null,null,null,null,null,null,null,null,null,null,null,null,null,null,null,0.08117592570789416,null,null,null,null,null,null,null,null,null,null,null,null],[null,null,null,null,null,null,null,null,null,null,null,null,null,null,null,null,null,null,null,null,null,null,null,null,0.11184287914535504,null,null,null],[null,null,null,null,null,null,null,null,null,null,null,null,null,null,null,null,null,null,null,0.1464429818214116,null,null,null,null,null,null,null,null],[null,null,null,null,null,null,null,null,null,null,null,null,null,null,null,null,null,null,null,null,null,null,null,0.12152141523222591,null,null,null,null],[null,null,null,null,null,null,null,null,null,null,null,null,null,null,null,null,null,null,null,null,null,null,null,null,null,0.23798754679806097,null,null],[null,null,null,null,null,null,null,null,null,null,null,null,null,null,null,null,null,null,null,null,null,null,null,null,null,null,null,null]]},{\"marker\":{\"color\":\"black\",\"line\":{\"color\":\"Grey\",\"width\":0.5}},\"mode\":\"markers\",\"showlegend\":false,\"type\":\"scatter\",\"x\":[0.2942866490996837,0.4379572929978157,0.12652863739461595,0.35411245341550385,0.2957472242049232,0.2801018891438447,0.20272096943345724,0.4898392553567651,0.2755679447582429,0.3278531401206054,0.26556213804118434,0.19845560061807097,0.18046766041750062,0.1788238449171621,0.1714129886898159,0.15163439721617653,0.10519795919161423,0.05603333007318556,0.1853632103023621,0.21849152562410187,0.11209537252923243,0.16856945205298712,0.10907103421869807,0.1233921525223666,0.14141080372193618,0.14024139423007215],\"xaxis\":\"x5\",\"y\":[114,423,11,154,14,10,61,51,159,326,18,121,38,39,38,38,45,51,41,33,67,31,84,87,85,66],\"yaxis\":\"y5\"},{\"colorbar\":{\"title\":{\"text\":\"Objective Value\"}},\"colorscale\":[[0,\"rgb(5,10,172)\"],[0.35,\"rgb(40,60,190)\"],[0.5,\"rgb(70,100,245)\"],[0.6,\"rgb(90,120,245)\"],[0.7,\"rgb(106,137,247)\"],[1,\"rgb(220,220,220)\"]],\"connectgaps\":true,\"contours\":{\"coloring\":\"heatmap\"},\"hoverinfo\":\"none\",\"line\":{\"smoothing\":1.3},\"reversescale\":true,\"showscale\":false,\"type\":\"contour\",\"x\":[0.03434303380900658,0.05603333007318556,0.10519795919161423,0.10907103421869807,0.11209537252923243,0.1233921525223666,0.12652863739461595,0.14024139423007215,0.14141080372193618,0.15163439721617653,0.16856945205298712,0.1714129886898159,0.1788238449171621,0.18046766041750062,0.1853632103023621,0.19845560061807097,0.20272096943345724,0.21849152562410187,0.26556213804118434,0.2755679447582429,0.2801018891438447,0.2942866490996837,0.2957472242049232,0.3278531401206054,0.35411245341550385,0.4379572929978157,0.4898392553567651,0.511529551620944],\"xaxis\":\"x10\",\"y\":[0.19127342236092856,0.20008149355360638,0.20009250667864037,0.2010972553953743,0.20149738186810884,0.2053200861363653,0.2053318342868627,0.21542905166473528,0.21752186915458838,0.21985202574843565,0.22210832647778533,0.2229402156983627,0.22519668951632021,0.22529584259638433,0.22699498785226394,0.23170026899019033,0.2369229972659646,0.25158488976494664,0.2740252588371055,0.2888947355877797,0.30729240287080145,0.3158539023605407,0.32933043478511825,0.33039780511533695,0.3453513833279788,0.351322195201316,0.37624291740716287,0.3850509885998407],\"yaxis\":\"y10\",\"z\":[[null,null,null,null,null,null,null,null,null,null,null,null,null,null,null,null,null,null,null,null,null,null,null,null,null,null,null,null],[null,null,null,null,null,null,null,null,null,null,null,null,0.07695315656457147,null,null,null,null,null,null,null,null,null,null,null,null,null,null,null],[null,null,null,0.06839529270986595,null,null,null,null,null,null,null,null,null,null,null,null,null,null,null,null,null,null,null,null,null,null,null,null],[null,null,null,null,null,0.07020496851793542,null,null,null,null,null,null,null,null,null,null,null,null,null,null,null,null,null,null,null,null,null,null],[null,null,null,null,null,null,null,null,null,0.0762427039684218,null,null,null,null,null,null,null,null,null,null,null,null,null,null,null,null,null,null],[null,null,null,null,null,null,null,null,null,null,null,0.07632742365847435,null,null,null,null,null,null,null,null,null,null,null,null,null,null,null,null],[null,null,null,null,null,null,null,null,null,null,null,null,null,null,null,null,null,null,null,null,null,null,null,null,null,null,0.12279672817750409,null],[null,null,null,null,null,null,null,null,null,null,null,null,null,null,null,null,null,0.08383903613971429,null,null,null,null,null,null,null,null,null,null],[null,null,0.07187104103444976,null,null,null,null,null,null,null,null,null,null,null,null,null,null,null,null,null,null,null,null,null,null,null,null,null],[null,null,null,null,null,null,null,0.07310930447119506,null,null,null,null,null,null,null,null,null,null,null,null,null,null,null,null,null,null,null,null],[null,null,null,null,null,null,null,null,null,null,0.07643958191548061,null,null,null,null,null,null,null,null,null,null,null,null,null,null,null,null,null],[null,null,null,null,0.0707608246819326,null,null,null,null,null,null,null,null,null,null,null,null,null,null,null,null,null,null,null,null,null,null,null],[null,null,null,null,null,null,null,null,null,null,null,null,null,null,0.08045786882788811,null,null,null,null,null,null,null,null,null,null,null,null,null],[null,null,null,null,null,null,null,null,null,null,null,null,null,0.07954993568421377,null,null,null,null,null,null,null,null,null,null,null,null,null,null],[null,null,null,null,null,null,null,null,null,null,null,null,null,null,null,null,null,null,0.0925000230835601,null,null,null,null,null,null,null,null,null],[null,null,null,null,null,null,null,null,null,null,null,null,null,null,null,0.08117592570789416,null,null,null,null,null,null,null,null,null,null,null,null],[null,null,null,null,null,null,null,null,0.07436692690420327,null,null,null,null,null,null,null,null,null,null,null,null,null,null,null,null,null,null,null],[null,0.07784998359158629,null,null,null,null,null,null,null,null,null,null,null,null,null,null,null,null,null,null,null,null,null,null,null,null,null,null],[null,null,null,null,null,null,null,null,null,null,null,null,null,null,null,null,0.09494087435305124,null,null,null,null,null,null,null,null,null,null,null],[null,null,null,null,null,null,null,null,null,null,null,null,null,null,null,null,null,null,null,0.1464429818214116,null,null,null,null,null,null,null,null],[null,null,null,null,null,null,null,null,null,null,null,null,null,null,null,null,null,null,null,null,0.11409320234786728,null,null,null,null,null,null,null],[null,null,null,null,null,null,null,null,null,null,null,null,null,null,null,null,null,null,null,null,null,0.12300159906347592,null,null,null,null,null,null],[null,null,null,null,null,null,null,null,null,null,null,null,null,null,null,null,null,null,null,null,null,null,null,null,0.11184287914535504,null,null,null],[null,null,null,null,null,null,null,null,null,null,null,null,null,null,null,null,null,null,null,null,null,null,0.21651574254129094,null,null,null,null,null],[null,null,null,null,null,null,0.16281519138739997,null,null,null,null,null,null,null,null,null,null,null,null,null,null,null,null,null,null,null,null,null],[null,null,null,null,null,null,null,null,null,null,null,null,null,null,null,null,null,null,null,null,null,null,null,null,null,0.23798754679806097,null,null],[null,null,null,null,null,null,null,null,null,null,null,null,null,null,null,null,null,null,null,null,null,null,null,0.12152141523222591,null,null,null,null],[null,null,null,null,null,null,null,null,null,null,null,null,null,null,null,null,null,null,null,null,null,null,null,null,null,null,null,null]]},{\"marker\":{\"color\":\"black\",\"line\":{\"color\":\"Grey\",\"width\":0.5}},\"mode\":\"markers\",\"showlegend\":false,\"type\":\"scatter\",\"x\":[0.2942866490996837,0.4379572929978157,0.12652863739461595,0.35411245341550385,0.2957472242049232,0.2801018891438447,0.20272096943345724,0.4898392553567651,0.2755679447582429,0.3278531401206054,0.26556213804118434,0.19845560061807097,0.18046766041750062,0.1788238449171621,0.1714129886898159,0.15163439721617653,0.10519795919161423,0.05603333007318556,0.1853632103023621,0.21849152562410187,0.11209537252923243,0.16856945205298712,0.10907103421869807,0.1233921525223666,0.14141080372193618,0.14024139423007215],\"xaxis\":\"x10\",\"y\":[0.3158539023605407,0.351322195201316,0.3453513833279788,0.32933043478511825,0.33039780511533695,0.30729240287080145,0.2740252588371055,0.2053318342868627,0.2888947355877797,0.37624291740716287,0.22699498785226394,0.23170026899019033,0.22529584259638433,0.20008149355360638,0.2053200861363653,0.20149738186810884,0.21752186915458838,0.25158488976494664,0.22519668951632021,0.21542905166473528,0.2229402156983627,0.22210832647778533,0.20009250667864037,0.2010972553953743,0.2369229972659646,0.21985202574843565],\"yaxis\":\"y10\"},{\"colorbar\":{\"title\":{\"text\":\"Objective Value\"}},\"colorscale\":[[0,\"rgb(5,10,172)\"],[0.35,\"rgb(40,60,190)\"],[0.5,\"rgb(70,100,245)\"],[0.6,\"rgb(90,120,245)\"],[0.7,\"rgb(106,137,247)\"],[1,\"rgb(220,220,220)\"]],\"connectgaps\":true,\"contours\":{\"coloring\":\"heatmap\"},\"hoverinfo\":\"none\",\"line\":{\"smoothing\":1.3},\"reversescale\":true,\"showscale\":false,\"type\":\"contour\",\"x\":[0.03434303380900658,0.05603333007318556,0.10519795919161423,0.10907103421869807,0.11209537252923243,0.1233921525223666,0.12652863739461595,0.14024139423007215,0.14141080372193618,0.15163439721617653,0.16856945205298712,0.1714129886898159,0.1788238449171621,0.18046766041750062,0.1853632103023621,0.19845560061807097,0.20272096943345724,0.21849152562410187,0.26556213804118434,0.2755679447582429,0.2801018891438447,0.2942866490996837,0.2957472242049232,0.3278531401206054,0.35411245341550385,0.4379572929978157,0.4898392553567651,0.511529551620944],\"xaxis\":\"x15\",\"y\":[8.642649708804282e-06,1.3470600219422924e-05,2.1455848009490967e-05,0.00017389329178689263,0.0001804367860500245,0.0001847520121935494,0.00019290160642252273,0.00020363497333737628,0.0002058825439645186,0.0002215705592145656,0.0002487117848317692,0.000265028745733352,0.00035039352547552513,0.00041055972615636216,0.0004145471753543523,0.00043110735694857385,0.00043642405804699964,0.0004377708663348637,0.00046273309504041093,0.000672092108281761,0.0008523303736344673,0.0015332979558061325,0.002111328817634949,0.002699246630271282,0.004045007643833955,0.015098934385046161,0.09642456106186041,0.15028917718075138],\"yaxis\":\"y15\",\"z\":[[null,null,null,null,null,null,null,null,null,null,null,null,null,null,null,null,null,null,null,null,null,null,null,null,null,null,null,null],[null,null,null,null,null,null,null,null,null,null,null,null,null,null,null,null,null,null,null,null,null,null,0.21651574254129094,null,null,null,null,null],[null,null,null,null,null,null,null,null,null,null,null,null,null,null,null,null,null,null,null,null,null,null,null,null,0.11184287914535504,null,null,null],[null,null,null,null,null,null,null,null,null,null,null,null,null,null,null,null,null,null,0.0925000230835601,null,null,null,null,null,null,null,null,null],[null,null,null,null,null,null,null,null,null,null,null,null,0.07695315656457147,null,null,null,null,null,null,null,null,null,null,null,null,null,null,null],[null,null,null,null,null,null,null,null,null,0.0762427039684218,null,null,null,null,null,null,null,null,null,null,null,null,null,null,null,null,null,null],[null,null,null,null,null,null,null,null,null,null,null,0.07632742365847435,null,null,null,null,null,null,null,null,null,null,null,null,null,null,null,null],[null,null,null,null,null,null,null,null,null,null,0.07643958191548061,null,null,null,null,null,null,null,null,null,null,null,null,null,null,null,null,null],[null,null,null,null,null,null,null,null,null,null,null,null,null,null,null,0.08117592570789416,null,null,null,null,null,null,null,null,null,null,null,null],[null,null,null,null,null,null,null,null,null,null,null,null,null,0.07954993568421377,null,null,null,null,null,null,null,null,null,null,null,null,null,null],[null,null,null,null,null,null,null,null,null,null,null,null,null,null,0.08045786882788811,null,null,null,null,null,null,null,null,null,null,null,null,null],[null,null,null,null,null,null,null,null,null,null,null,null,null,null,null,null,null,0.08383903613971429,null,null,null,null,null,null,null,null,null,null],[null,null,0.07187104103444976,null,null,null,null,null,null,null,null,null,null,null,null,null,null,null,null,null,null,null,null,null,null,null,null,null],[null,null,null,0.06839529270986595,null,null,null,null,null,null,null,null,null,null,null,null,null,null,null,null,null,null,null,null,null,null,null,null],[null,null,null,null,null,0.07020496851793542,null,null,null,null,null,null,null,null,null,null,null,null,null,null,null,null,null,null,null,null,null,null],[null,null,null,null,null,null,null,null,0.07436692690420327,null,null,null,null,null,null,null,null,null,null,null,null,null,null,null,null,null,null,null],[null,null,null,null,null,null,null,0.07310930447119506,null,null,null,null,null,null,null,null,null,null,null,null,null,null,null,null,null,null,null,null],[null,0.07784998359158629,null,null,null,null,null,null,null,null,null,null,null,null,null,null,null,null,null,null,null,null,null,null,null,null,null,null],[null,null,null,null,0.0707608246819326,null,null,null,null,null,null,null,null,null,null,null,null,null,null,null,null,null,null,null,null,null,null,null],[null,null,null,null,null,null,null,null,null,null,null,null,null,null,null,null,null,null,null,null,null,null,null,null,null,null,0.12279672817750409,null],[null,null,null,null,null,null,null,null,null,null,null,null,null,null,null,null,null,null,null,null,null,null,null,0.12152141523222591,null,null,null,null],[null,null,null,null,null,null,null,null,null,null,null,null,null,null,null,null,null,null,null,null,null,null,null,null,null,0.23798754679806097,null,null],[null,null,null,null,null,null,null,null,null,null,null,null,null,null,null,null,null,null,null,0.1464429818214116,null,null,null,null,null,null,null,null],[null,null,null,null,null,null,null,null,null,null,null,null,null,null,null,null,null,null,null,null,0.11409320234786728,null,null,null,null,null,null,null],[null,null,null,null,null,null,null,null,null,null,null,null,null,null,null,null,0.09494087435305124,null,null,null,null,null,null,null,null,null,null,null],[null,null,null,null,null,null,0.16281519138739997,null,null,null,null,null,null,null,null,null,null,null,null,null,null,null,null,null,null,null,null,null],[null,null,null,null,null,null,null,null,null,null,null,null,null,null,null,null,null,null,null,null,null,0.12300159906347592,null,null,null,null,null,null],[null,null,null,null,null,null,null,null,null,null,null,null,null,null,null,null,null,null,null,null,null,null,null,null,null,null,null,null]]},{\"marker\":{\"color\":\"black\",\"line\":{\"color\":\"Grey\",\"width\":0.5}},\"mode\":\"markers\",\"showlegend\":false,\"type\":\"scatter\",\"x\":[0.2942866490996837,0.4379572929978157,0.12652863739461595,0.35411245341550385,0.2957472242049232,0.2801018891438447,0.20272096943345724,0.4898392553567651,0.2755679447582429,0.3278531401206054,0.26556213804118434,0.19845560061807097,0.18046766041750062,0.1788238449171621,0.1714129886898159,0.15163439721617653,0.10519795919161423,0.05603333007318556,0.1853632103023621,0.21849152562410187,0.11209537252923243,0.16856945205298712,0.10907103421869807,0.1233921525223666,0.14141080372193618,0.14024139423007215],\"xaxis\":\"x15\",\"y\":[0.09642456106186041,0.0015332979558061325,0.015098934385046161,2.1455848009490967e-05,1.3470600219422924e-05,0.002699246630271282,0.004045007643833955,0.000672092108281761,0.002111328817634949,0.0008523303736344673,0.00017389329178689263,0.0002058825439645186,0.0002215705592145656,0.0001804367860500245,0.00019290160642252273,0.0001847520121935494,0.00035039352547552513,0.0004377708663348637,0.0002487117848317692,0.000265028745733352,0.00046273309504041093,0.00020363497333737628,0.00041055972615636216,0.0004145471753543523,0.00043110735694857385,0.00043642405804699964],\"yaxis\":\"y15\"},{\"colorbar\":{\"title\":{\"text\":\"Objective Value\"}},\"colorscale\":[[0,\"rgb(5,10,172)\"],[0.35,\"rgb(40,60,190)\"],[0.5,\"rgb(70,100,245)\"],[0.6,\"rgb(90,120,245)\"],[0.7,\"rgb(106,137,247)\"],[1,\"rgb(220,220,220)\"]],\"connectgaps\":true,\"contours\":{\"coloring\":\"heatmap\"},\"hoverinfo\":\"none\",\"line\":{\"smoothing\":1.3},\"reversescale\":true,\"showscale\":false,\"type\":\"contour\",\"x\":[0.03434303380900658,0.05603333007318556,0.10519795919161423,0.10907103421869807,0.11209537252923243,0.1233921525223666,0.12652863739461595,0.14024139423007215,0.14141080372193618,0.15163439721617653,0.16856945205298712,0.1714129886898159,0.1788238449171621,0.18046766041750062,0.1853632103023621,0.19845560061807097,0.20272096943345724,0.21849152562410187,0.26556213804118434,0.2755679447582429,0.2801018891438447,0.2942866490996837,0.2957472242049232,0.3278531401206054,0.35411245341550385,0.4379572929978157,0.4898392553567651,0.511529551620944],\"xaxis\":\"x20\",\"y\":[0.95,1,2,2.05],\"yaxis\":\"y20\",\"z\":[[null,null,null,null,null,null,null,null,null,null,null,null,null,null,null,null,null,null,null,null,null,null,null,null,null,null,null,null],[null,null,0.07187104103444976,0.06839529270986595,0.0707608246819326,0.07020496851793542,null,0.07310930447119506,0.07436692690420327,0.0762427039684218,0.07643958191548061,0.07632742365847435,0.07695315656457147,0.07954993568421377,0.08045786882788811,0.08117592570789416,0.09494087435305124,0.08383903613971429,0.0925000230835601,0.1464429818214116,0.11409320234786728,0.12300159906347592,null,0.12152141523222591,0.11184287914535504,null,0.12279672817750409,null],[null,0.07784998359158629,null,null,null,null,0.16281519138739997,null,null,null,null,null,null,null,null,null,null,null,null,null,null,null,0.21651574254129094,null,null,0.23798754679806097,null,null],[null,null,null,null,null,null,null,null,null,null,null,null,null,null,null,null,null,null,null,null,null,null,null,null,null,null,null,null]]},{\"marker\":{\"color\":\"black\",\"line\":{\"color\":\"Grey\",\"width\":0.5}},\"mode\":\"markers\",\"showlegend\":false,\"type\":\"scatter\",\"x\":[0.2942866490996837,0.4379572929978157,0.12652863739461595,0.35411245341550385,0.2957472242049232,0.2801018891438447,0.20272096943345724,0.4898392553567651,0.2755679447582429,0.3278531401206054,0.26556213804118434,0.19845560061807097,0.18046766041750062,0.1788238449171621,0.1714129886898159,0.15163439721617653,0.10519795919161423,0.05603333007318556,0.1853632103023621,0.21849152562410187,0.11209537252923243,0.16856945205298712,0.10907103421869807,0.1233921525223666,0.14141080372193618,0.14024139423007215],\"xaxis\":\"x20\",\"y\":[1,2,2,1,2,1,1,1,1,1,1,1,1,1,1,1,1,2,1,1,1,1,1,1,1,1],\"yaxis\":\"y20\"},{\"type\":\"scatter\",\"xaxis\":\"x25\",\"yaxis\":\"y25\"}],                        {\"autosize\":false,\"height\":1200,\"template\":{\"data\":{\"bar\":[{\"error_x\":{\"color\":\"#2a3f5f\"},\"error_y\":{\"color\":\"#2a3f5f\"},\"marker\":{\"line\":{\"color\":\"#E5ECF6\",\"width\":0.5},\"pattern\":{\"fillmode\":\"overlay\",\"size\":10,\"solidity\":0.2}},\"type\":\"bar\"}],\"barpolar\":[{\"marker\":{\"line\":{\"color\":\"#E5ECF6\",\"width\":0.5},\"pattern\":{\"fillmode\":\"overlay\",\"size\":10,\"solidity\":0.2}},\"type\":\"barpolar\"}],\"carpet\":[{\"aaxis\":{\"endlinecolor\":\"#2a3f5f\",\"gridcolor\":\"white\",\"linecolor\":\"white\",\"minorgridcolor\":\"white\",\"startlinecolor\":\"#2a3f5f\"},\"baxis\":{\"endlinecolor\":\"#2a3f5f\",\"gridcolor\":\"white\",\"linecolor\":\"white\",\"minorgridcolor\":\"white\",\"startlinecolor\":\"#2a3f5f\"},\"type\":\"carpet\"}],\"choropleth\":[{\"colorbar\":{\"outlinewidth\":0,\"ticks\":\"\"},\"type\":\"choropleth\"}],\"contour\":[{\"colorbar\":{\"outlinewidth\":0,\"ticks\":\"\"},\"colorscale\":[[0.0,\"#0d0887\"],[0.1111111111111111,\"#46039f\"],[0.2222222222222222,\"#7201a8\"],[0.3333333333333333,\"#9c179e\"],[0.4444444444444444,\"#bd3786\"],[0.5555555555555556,\"#d8576b\"],[0.6666666666666666,\"#ed7953\"],[0.7777777777777778,\"#fb9f3a\"],[0.8888888888888888,\"#fdca26\"],[1.0,\"#f0f921\"]],\"type\":\"contour\"}],\"contourcarpet\":[{\"colorbar\":{\"outlinewidth\":0,\"ticks\":\"\"},\"type\":\"contourcarpet\"}],\"heatmap\":[{\"colorbar\":{\"outlinewidth\":0,\"ticks\":\"\"},\"colorscale\":[[0.0,\"#0d0887\"],[0.1111111111111111,\"#46039f\"],[0.2222222222222222,\"#7201a8\"],[0.3333333333333333,\"#9c179e\"],[0.4444444444444444,\"#bd3786\"],[0.5555555555555556,\"#d8576b\"],[0.6666666666666666,\"#ed7953\"],[0.7777777777777778,\"#fb9f3a\"],[0.8888888888888888,\"#fdca26\"],[1.0,\"#f0f921\"]],\"type\":\"heatmap\"}],\"heatmapgl\":[{\"colorbar\":{\"outlinewidth\":0,\"ticks\":\"\"},\"colorscale\":[[0.0,\"#0d0887\"],[0.1111111111111111,\"#46039f\"],[0.2222222222222222,\"#7201a8\"],[0.3333333333333333,\"#9c179e\"],[0.4444444444444444,\"#bd3786\"],[0.5555555555555556,\"#d8576b\"],[0.6666666666666666,\"#ed7953\"],[0.7777777777777778,\"#fb9f3a\"],[0.8888888888888888,\"#fdca26\"],[1.0,\"#f0f921\"]],\"type\":\"heatmapgl\"}],\"histogram\":[{\"marker\":{\"pattern\":{\"fillmode\":\"overlay\",\"size\":10,\"solidity\":0.2}},\"type\":\"histogram\"}],\"histogram2d\":[{\"colorbar\":{\"outlinewidth\":0,\"ticks\":\"\"},\"colorscale\":[[0.0,\"#0d0887\"],[0.1111111111111111,\"#46039f\"],[0.2222222222222222,\"#7201a8\"],[0.3333333333333333,\"#9c179e\"],[0.4444444444444444,\"#bd3786\"],[0.5555555555555556,\"#d8576b\"],[0.6666666666666666,\"#ed7953\"],[0.7777777777777778,\"#fb9f3a\"],[0.8888888888888888,\"#fdca26\"],[1.0,\"#f0f921\"]],\"type\":\"histogram2d\"}],\"histogram2dcontour\":[{\"colorbar\":{\"outlinewidth\":0,\"ticks\":\"\"},\"colorscale\":[[0.0,\"#0d0887\"],[0.1111111111111111,\"#46039f\"],[0.2222222222222222,\"#7201a8\"],[0.3333333333333333,\"#9c179e\"],[0.4444444444444444,\"#bd3786\"],[0.5555555555555556,\"#d8576b\"],[0.6666666666666666,\"#ed7953\"],[0.7777777777777778,\"#fb9f3a\"],[0.8888888888888888,\"#fdca26\"],[1.0,\"#f0f921\"]],\"type\":\"histogram2dcontour\"}],\"mesh3d\":[{\"colorbar\":{\"outlinewidth\":0,\"ticks\":\"\"},\"type\":\"mesh3d\"}],\"parcoords\":[{\"line\":{\"colorbar\":{\"outlinewidth\":0,\"ticks\":\"\"}},\"type\":\"parcoords\"}],\"pie\":[{\"automargin\":true,\"type\":\"pie\"}],\"scatter\":[{\"marker\":{\"colorbar\":{\"outlinewidth\":0,\"ticks\":\"\"}},\"type\":\"scatter\"}],\"scatter3d\":[{\"line\":{\"colorbar\":{\"outlinewidth\":0,\"ticks\":\"\"}},\"marker\":{\"colorbar\":{\"outlinewidth\":0,\"ticks\":\"\"}},\"type\":\"scatter3d\"}],\"scattercarpet\":[{\"marker\":{\"colorbar\":{\"outlinewidth\":0,\"ticks\":\"\"}},\"type\":\"scattercarpet\"}],\"scattergeo\":[{\"marker\":{\"colorbar\":{\"outlinewidth\":0,\"ticks\":\"\"}},\"type\":\"scattergeo\"}],\"scattergl\":[{\"marker\":{\"colorbar\":{\"outlinewidth\":0,\"ticks\":\"\"}},\"type\":\"scattergl\"}],\"scattermapbox\":[{\"marker\":{\"colorbar\":{\"outlinewidth\":0,\"ticks\":\"\"}},\"type\":\"scattermapbox\"}],\"scatterpolar\":[{\"marker\":{\"colorbar\":{\"outlinewidth\":0,\"ticks\":\"\"}},\"type\":\"scatterpolar\"}],\"scatterpolargl\":[{\"marker\":{\"colorbar\":{\"outlinewidth\":0,\"ticks\":\"\"}},\"type\":\"scatterpolargl\"}],\"scatterternary\":[{\"marker\":{\"colorbar\":{\"outlinewidth\":0,\"ticks\":\"\"}},\"type\":\"scatterternary\"}],\"surface\":[{\"colorbar\":{\"outlinewidth\":0,\"ticks\":\"\"},\"colorscale\":[[0.0,\"#0d0887\"],[0.1111111111111111,\"#46039f\"],[0.2222222222222222,\"#7201a8\"],[0.3333333333333333,\"#9c179e\"],[0.4444444444444444,\"#bd3786\"],[0.5555555555555556,\"#d8576b\"],[0.6666666666666666,\"#ed7953\"],[0.7777777777777778,\"#fb9f3a\"],[0.8888888888888888,\"#fdca26\"],[1.0,\"#f0f921\"]],\"type\":\"surface\"}],\"table\":[{\"cells\":{\"fill\":{\"color\":\"#EBF0F8\"},\"line\":{\"color\":\"white\"}},\"header\":{\"fill\":{\"color\":\"#C8D4E3\"},\"line\":{\"color\":\"white\"}},\"type\":\"table\"}]},\"layout\":{\"annotationdefaults\":{\"arrowcolor\":\"#2a3f5f\",\"arrowhead\":0,\"arrowwidth\":1},\"autotypenumbers\":\"strict\",\"coloraxis\":{\"colorbar\":{\"outlinewidth\":0,\"ticks\":\"\"}},\"colorscale\":{\"diverging\":[[0,\"#8e0152\"],[0.1,\"#c51b7d\"],[0.2,\"#de77ae\"],[0.3,\"#f1b6da\"],[0.4,\"#fde0ef\"],[0.5,\"#f7f7f7\"],[0.6,\"#e6f5d0\"],[0.7,\"#b8e186\"],[0.8,\"#7fbc41\"],[0.9,\"#4d9221\"],[1,\"#276419\"]],\"sequential\":[[0.0,\"#0d0887\"],[0.1111111111111111,\"#46039f\"],[0.2222222222222222,\"#7201a8\"],[0.3333333333333333,\"#9c179e\"],[0.4444444444444444,\"#bd3786\"],[0.5555555555555556,\"#d8576b\"],[0.6666666666666666,\"#ed7953\"],[0.7777777777777778,\"#fb9f3a\"],[0.8888888888888888,\"#fdca26\"],[1.0,\"#f0f921\"]],\"sequentialminus\":[[0.0,\"#0d0887\"],[0.1111111111111111,\"#46039f\"],[0.2222222222222222,\"#7201a8\"],[0.3333333333333333,\"#9c179e\"],[0.4444444444444444,\"#bd3786\"],[0.5555555555555556,\"#d8576b\"],[0.6666666666666666,\"#ed7953\"],[0.7777777777777778,\"#fb9f3a\"],[0.8888888888888888,\"#fdca26\"],[1.0,\"#f0f921\"]]},\"colorway\":[\"#636efa\",\"#EF553B\",\"#00cc96\",\"#ab63fa\",\"#FFA15A\",\"#19d3f3\",\"#FF6692\",\"#B6E880\",\"#FF97FF\",\"#FECB52\"],\"font\":{\"color\":\"#2a3f5f\"},\"geo\":{\"bgcolor\":\"white\",\"lakecolor\":\"white\",\"landcolor\":\"#E5ECF6\",\"showlakes\":true,\"showland\":true,\"subunitcolor\":\"white\"},\"hoverlabel\":{\"align\":\"left\"},\"hovermode\":\"closest\",\"mapbox\":{\"style\":\"light\"},\"paper_bgcolor\":\"white\",\"plot_bgcolor\":\"#E5ECF6\",\"polar\":{\"angularaxis\":{\"gridcolor\":\"white\",\"linecolor\":\"white\",\"ticks\":\"\"},\"bgcolor\":\"#E5ECF6\",\"radialaxis\":{\"gridcolor\":\"white\",\"linecolor\":\"white\",\"ticks\":\"\"}},\"scene\":{\"xaxis\":{\"backgroundcolor\":\"#E5ECF6\",\"gridcolor\":\"white\",\"gridwidth\":2,\"linecolor\":\"white\",\"showbackground\":true,\"ticks\":\"\",\"zerolinecolor\":\"white\"},\"yaxis\":{\"backgroundcolor\":\"#E5ECF6\",\"gridcolor\":\"white\",\"gridwidth\":2,\"linecolor\":\"white\",\"showbackground\":true,\"ticks\":\"\",\"zerolinecolor\":\"white\"},\"zaxis\":{\"backgroundcolor\":\"#E5ECF6\",\"gridcolor\":\"white\",\"gridwidth\":2,\"linecolor\":\"white\",\"showbackground\":true,\"ticks\":\"\",\"zerolinecolor\":\"white\"}},\"shapedefaults\":{\"line\":{\"color\":\"#2a3f5f\"}},\"ternary\":{\"aaxis\":{\"gridcolor\":\"white\",\"linecolor\":\"white\",\"ticks\":\"\"},\"baxis\":{\"gridcolor\":\"white\",\"linecolor\":\"white\",\"ticks\":\"\"},\"bgcolor\":\"#E5ECF6\",\"caxis\":{\"gridcolor\":\"white\",\"linecolor\":\"white\",\"ticks\":\"\"}},\"title\":{\"x\":0.05},\"xaxis\":{\"automargin\":true,\"gridcolor\":\"white\",\"linecolor\":\"white\",\"ticks\":\"\",\"title\":{\"standoff\":15},\"zerolinecolor\":\"white\",\"zerolinewidth\":2},\"yaxis\":{\"automargin\":true,\"gridcolor\":\"white\",\"linecolor\":\"white\",\"ticks\":\"\",\"title\":{\"standoff\":15},\"zerolinecolor\":\"white\",\"zerolinewidth\":2}}},\"title\":{\"text\":\"Contour Plot\"},\"width\":1200,\"xaxis\":{\"anchor\":\"y\",\"domain\":[0.0,0.16799999999999998],\"matches\":\"x21\",\"range\":[-10.650000000000002,443.65],\"showticklabels\":false},\"xaxis10\":{\"anchor\":\"y10\",\"domain\":[0.832,1.0],\"matches\":\"x25\",\"range\":[0.03434303380900658,0.511529551620944],\"showticklabels\":false},\"xaxis11\":{\"anchor\":\"y11\",\"domain\":[0.0,0.16799999999999998],\"matches\":\"x21\",\"range\":[-10.650000000000002,443.65],\"showticklabels\":false},\"xaxis12\":{\"anchor\":\"y12\",\"domain\":[0.208,0.376],\"matches\":\"x22\",\"range\":[0.19127342236092856,0.3850509885998407],\"showticklabels\":false},\"xaxis13\":{\"anchor\":\"y13\",\"domain\":[0.416,0.584],\"matches\":\"x23\",\"range\":[-5.063353088829875,-0.8230722932648281],\"showticklabels\":false,\"type\":\"log\"},\"xaxis14\":{\"anchor\":\"y14\",\"domain\":[0.624,0.792],\"matches\":\"x24\",\"range\":[0.95,2.05],\"showticklabels\":false},\"xaxis15\":{\"anchor\":\"y15\",\"domain\":[0.832,1.0],\"matches\":\"x25\",\"range\":[0.03434303380900658,0.511529551620944],\"showticklabels\":false},\"xaxis16\":{\"anchor\":\"y16\",\"domain\":[0.0,0.16799999999999998],\"matches\":\"x21\",\"range\":[-10.650000000000002,443.65],\"showticklabels\":false},\"xaxis17\":{\"anchor\":\"y17\",\"domain\":[0.208,0.376],\"matches\":\"x22\",\"range\":[0.19127342236092856,0.3850509885998407],\"showticklabels\":false},\"xaxis18\":{\"anchor\":\"y18\",\"domain\":[0.416,0.584],\"matches\":\"x23\",\"range\":[-5.063353088829875,-0.8230722932648281],\"showticklabels\":false,\"type\":\"log\"},\"xaxis19\":{\"anchor\":\"y19\",\"domain\":[0.624,0.792],\"matches\":\"x24\",\"range\":[0.95,2.05],\"showticklabels\":false},\"xaxis2\":{\"anchor\":\"y2\",\"domain\":[0.208,0.376],\"matches\":\"x22\",\"range\":[0.19127342236092856,0.3850509885998407],\"showticklabels\":false},\"xaxis20\":{\"anchor\":\"y20\",\"domain\":[0.832,1.0],\"matches\":\"x25\",\"range\":[0.03434303380900658,0.511529551620944],\"showticklabels\":false},\"xaxis21\":{\"anchor\":\"y21\",\"domain\":[0.0,0.16799999999999998],\"range\":[-10.650000000000002,443.65],\"title\":{\"text\":\"batch_size\"}},\"xaxis22\":{\"anchor\":\"y22\",\"domain\":[0.208,0.376],\"range\":[0.19127342236092856,0.3850509885998407],\"title\":{\"text\":\"dropout_rate\"}},\"xaxis23\":{\"anchor\":\"y23\",\"domain\":[0.416,0.584],\"range\":[-5.063353088829875,-0.8230722932648281],\"title\":{\"text\":\"lr\"},\"type\":\"log\"},\"xaxis24\":{\"anchor\":\"y24\",\"domain\":[0.624,0.792],\"range\":[0.95,2.05],\"title\":{\"text\":\"n_layers\"}},\"xaxis25\":{\"anchor\":\"y25\",\"domain\":[0.832,1.0],\"range\":[0.03434303380900658,0.511529551620944],\"title\":{\"text\":\"weight_decay\"}},\"xaxis3\":{\"anchor\":\"y3\",\"domain\":[0.416,0.584],\"matches\":\"x23\",\"range\":[-5.063353088829875,-0.8230722932648281],\"showticklabels\":false,\"type\":\"log\"},\"xaxis4\":{\"anchor\":\"y4\",\"domain\":[0.624,0.792],\"matches\":\"x24\",\"range\":[0.95,2.05],\"showticklabels\":false},\"xaxis5\":{\"anchor\":\"y5\",\"domain\":[0.832,1.0],\"matches\":\"x25\",\"range\":[0.03434303380900658,0.511529551620944],\"showticklabels\":false},\"xaxis6\":{\"anchor\":\"y6\",\"domain\":[0.0,0.16799999999999998],\"matches\":\"x21\",\"range\":[-10.650000000000002,443.65],\"showticklabels\":false},\"xaxis7\":{\"anchor\":\"y7\",\"domain\":[0.208,0.376],\"matches\":\"x22\",\"range\":[0.19127342236092856,0.3850509885998407],\"showticklabels\":false},\"xaxis8\":{\"anchor\":\"y8\",\"domain\":[0.416,0.584],\"matches\":\"x23\",\"range\":[-5.063353088829875,-0.8230722932648281],\"showticklabels\":false,\"type\":\"log\"},\"xaxis9\":{\"anchor\":\"y9\",\"domain\":[0.624,0.792],\"matches\":\"x24\",\"range\":[0.95,2.05],\"showticklabels\":false},\"yaxis\":{\"anchor\":\"x\",\"domain\":[0.848,1.0],\"range\":[-10.650000000000002,443.65],\"title\":{\"text\":\"batch_size\"}},\"yaxis10\":{\"anchor\":\"x10\",\"domain\":[0.6359999999999999,0.7879999999999999],\"matches\":\"y6\",\"range\":[0.19127342236092856,0.3850509885998407],\"showticklabels\":false},\"yaxis11\":{\"anchor\":\"x11\",\"domain\":[0.424,0.576],\"range\":[-5.063353088829875,-0.8230722932648281],\"title\":{\"text\":\"lr\"},\"type\":\"log\"},\"yaxis12\":{\"anchor\":\"x12\",\"domain\":[0.424,0.576],\"matches\":\"y11\",\"range\":[-5.063353088829875,-0.8230722932648281],\"showticklabels\":false,\"type\":\"log\"},\"yaxis13\":{\"anchor\":\"x13\",\"domain\":[0.424,0.576],\"matches\":\"y11\",\"range\":[-5.063353088829875,-0.8230722932648281],\"showticklabels\":false,\"type\":\"log\"},\"yaxis14\":{\"anchor\":\"x14\",\"domain\":[0.424,0.576],\"matches\":\"y11\",\"range\":[-5.063353088829875,-0.8230722932648281],\"showticklabels\":false,\"type\":\"log\"},\"yaxis15\":{\"anchor\":\"x15\",\"domain\":[0.424,0.576],\"matches\":\"y11\",\"range\":[-5.063353088829875,-0.8230722932648281],\"showticklabels\":false,\"type\":\"log\"},\"yaxis16\":{\"anchor\":\"x16\",\"domain\":[0.212,0.364],\"range\":[0.95,2.05],\"title\":{\"text\":\"n_layers\"}},\"yaxis17\":{\"anchor\":\"x17\",\"domain\":[0.212,0.364],\"matches\":\"y16\",\"range\":[0.95,2.05],\"showticklabels\":false},\"yaxis18\":{\"anchor\":\"x18\",\"domain\":[0.212,0.364],\"matches\":\"y16\",\"range\":[0.95,2.05],\"showticklabels\":false},\"yaxis19\":{\"anchor\":\"x19\",\"domain\":[0.212,0.364],\"matches\":\"y16\",\"range\":[0.95,2.05],\"showticklabels\":false},\"yaxis2\":{\"anchor\":\"x2\",\"domain\":[0.848,1.0],\"matches\":\"y\",\"range\":[-10.650000000000002,443.65],\"showticklabels\":false},\"yaxis20\":{\"anchor\":\"x20\",\"domain\":[0.212,0.364],\"matches\":\"y16\",\"range\":[0.95,2.05],\"showticklabels\":false},\"yaxis21\":{\"anchor\":\"x21\",\"domain\":[0.0,0.152],\"range\":[0.03434303380900658,0.511529551620944],\"title\":{\"text\":\"weight_decay\"}},\"yaxis22\":{\"anchor\":\"x22\",\"domain\":[0.0,0.152],\"matches\":\"y21\",\"range\":[0.03434303380900658,0.511529551620944],\"showticklabels\":false},\"yaxis23\":{\"anchor\":\"x23\",\"domain\":[0.0,0.152],\"matches\":\"y21\",\"range\":[0.03434303380900658,0.511529551620944],\"showticklabels\":false},\"yaxis24\":{\"anchor\":\"x24\",\"domain\":[0.0,0.152],\"matches\":\"y21\",\"range\":[0.03434303380900658,0.511529551620944],\"showticklabels\":false},\"yaxis25\":{\"anchor\":\"x25\",\"domain\":[0.0,0.152],\"matches\":\"y21\",\"range\":[0.03434303380900658,0.511529551620944],\"showticklabels\":false},\"yaxis3\":{\"anchor\":\"x3\",\"domain\":[0.848,1.0],\"matches\":\"y\",\"range\":[-10.650000000000002,443.65],\"showticklabels\":false},\"yaxis4\":{\"anchor\":\"x4\",\"domain\":[0.848,1.0],\"matches\":\"y\",\"range\":[-10.650000000000002,443.65],\"showticklabels\":false},\"yaxis5\":{\"anchor\":\"x5\",\"domain\":[0.848,1.0],\"matches\":\"y\",\"range\":[-10.650000000000002,443.65],\"showticklabels\":false},\"yaxis6\":{\"anchor\":\"x6\",\"domain\":[0.6359999999999999,0.7879999999999999],\"range\":[0.19127342236092856,0.3850509885998407],\"title\":{\"text\":\"dropout_rate\"}},\"yaxis7\":{\"anchor\":\"x7\",\"domain\":[0.6359999999999999,0.7879999999999999],\"matches\":\"y6\",\"range\":[0.19127342236092856,0.3850509885998407],\"showticklabels\":false},\"yaxis8\":{\"anchor\":\"x8\",\"domain\":[0.6359999999999999,0.7879999999999999],\"matches\":\"y6\",\"range\":[0.19127342236092856,0.3850509885998407],\"showticklabels\":false},\"yaxis9\":{\"anchor\":\"x9\",\"domain\":[0.6359999999999999,0.7879999999999999],\"matches\":\"y6\",\"range\":[0.19127342236092856,0.3850509885998407],\"showticklabels\":false}},                        {\"responsive\": true}                    ).then(function(){\n",
       "                            \n",
       "var gd = document.getElementById('81d777c8-caa4-424b-970c-a2177132a39b');\n",
       "var x = new MutationObserver(function (mutations, observer) {{\n",
       "        var display = window.getComputedStyle(gd).display;\n",
       "        if (!display || display === 'none') {{\n",
       "            console.log([gd, 'removed!']);\n",
       "            Plotly.purge(gd);\n",
       "            observer.disconnect();\n",
       "        }}\n",
       "}});\n",
       "\n",
       "// Listen for the removal of the full notebook cells\n",
       "var notebookContainer = gd.closest('#notebook-container');\n",
       "if (notebookContainer) {{\n",
       "    x.observe(notebookContainer, {childList: true});\n",
       "}}\n",
       "\n",
       "// Listen for the clearing of the current output cell\n",
       "var outputEl = gd.closest('.output');\n",
       "if (outputEl) {{\n",
       "    x.observe(outputEl, {childList: true});\n",
       "}}\n",
       "\n",
       "                        })                };                });            </script>        </div>"
      ]
     },
     "metadata": {},
     "output_type": "display_data"
    }
   ],
   "source": [
    "fig = optuna.visualization.plot_contour(study, params=['batch_size', 'lr', 'n_layers', 'weight_decay', 'dropout_rate'])\n",
    "fig.update_layout(autosize=False, width=1200, height=1200)\n",
    "fig.show()"
   ]
  },
  {
   "cell_type": "markdown",
   "id": "28753c9e",
   "metadata": {
    "id": "cE-8JzvCcMxJ",
    "papermill": {
     "duration": 0.564798,
     "end_time": "2021-09-23T21:42:38.837803",
     "exception": false,
     "start_time": "2021-09-23T21:42:38.273005",
     "status": "completed"
    },
    "tags": []
   },
   "source": [
    "## Appendix: Hyperparameters of commonly used models"
   ]
  },
  {
   "cell_type": "markdown",
   "id": "2be8539a",
   "metadata": {
    "id": "A5eopYOBcMxJ",
    "papermill": {
     "duration": 0.5506,
     "end_time": "2021-09-23T21:42:39.947392",
     "exception": false,
     "start_time": "2021-09-23T21:42:39.396792",
     "status": "completed"
    },
    "tags": []
   },
   "source": [
    "<br>"
   ]
  },
  {
   "cell_type": "markdown",
   "id": "63ed621d",
   "metadata": {
    "id": "YaEeJGwecMxJ",
    "papermill": {
     "duration": 0.587412,
     "end_time": "2021-09-23T21:42:41.100000",
     "exception": false,
     "start_time": "2021-09-23T21:42:40.512588",
     "status": "completed"
    },
    "tags": []
   },
   "source": [
    "```{figure} ../img/hyp.png\n",
    "---\n",
    "name: hyp\n",
    "---\n",
    "Table from p. 184 of {cite}`AAAMLP`. **RS**$^*$ implies random search should be better.\n",
    "```"
   ]
  }
 ],
 "metadata": {
  "kernelspec": {
   "display_name": "Python 3",
   "language": "python",
   "name": "python3"
  },
  "language_info": {
   "codemirror_mode": {
    "name": "ipython",
    "version": 3
   },
   "file_extension": ".py",
   "mimetype": "text/x-python",
   "name": "python",
   "nbconvert_exporter": "python",
   "pygments_lexer": "ipython3",
   "version": "3.7.10"
  },
  "papermill": {
   "default_parameters": {},
   "duration": 7200.497636,
   "end_time": "2021-09-23T21:42:43.078421",
   "environment_variables": {},
   "exception": null,
   "input_path": "__notebook__.ipynb",
   "output_path": "__notebook__.ipynb",
   "parameters": {},
   "start_time": "2021-09-23T19:42:42.580785",
   "version": "2.3.3"
  }
 },
 "nbformat": 4,
 "nbformat_minor": 5
}
