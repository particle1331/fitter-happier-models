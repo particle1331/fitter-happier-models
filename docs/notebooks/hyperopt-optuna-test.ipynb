{
 "cells": [
  {
   "cell_type": "markdown",
   "id": "a410908a",
   "metadata": {
    "id": "Q-bCjQI4cMwJ",
    "papermill": {
     "duration": 0.036044,
     "end_time": "2021-09-23T18:32:54.093286",
     "exception": false,
     "start_time": "2021-09-23T18:32:54.057242",
     "status": "completed"
    },
    "tags": []
   },
   "source": [
    "# Hyperparameter Tuning with Optuna"
   ]
  },
  {
   "cell_type": "markdown",
   "id": "005e68c8",
   "metadata": {
    "id": "1NK-oxLtcMwV",
    "papermill": {
     "duration": 0.033344,
     "end_time": "2021-09-23T18:32:54.161895",
     "exception": false,
     "start_time": "2021-09-23T18:32:54.128551",
     "status": "completed"
    },
    "tags": []
   },
   "source": [
    "\n",
    "\n",
    "With great models, comes the great problem of optimizing hyperparameters {cite}`AAAMLP`. Once a good search algorithm is established for hyperparameter optimization, the task becomes an engineering problem [^ref]. Hence, we will explore an open-source library that offers a framework for solving this task. \n",
    "\n",
    "[^ref]: Like all applied machine learning solutions."
   ]
  },
  {
   "cell_type": "markdown",
   "id": "5aae9114",
   "metadata": {
    "id": "jE2gyvfOcMwZ",
    "papermill": {
     "duration": 0.033445,
     "end_time": "2021-09-23T18:32:54.228774",
     "exception": false,
     "start_time": "2021-09-23T18:32:54.195329",
     "status": "completed"
    },
    "tags": []
   },
   "source": [
    "```{figure} ../img/optuna.png\n",
    "---\n",
    "width: 25em\n",
    "name: optuna\n",
    "---\n",
    "```"
   ]
  },
  {
   "cell_type": "markdown",
   "id": "60494a97",
   "metadata": {
    "id": "8Ht_p93LcMwa",
    "papermill": {
     "duration": 0.033031,
     "end_time": "2021-09-23T18:32:54.295125",
     "exception": false,
     "start_time": "2021-09-23T18:32:54.262094",
     "status": "completed"
    },
    "tags": []
   },
   "source": [
    "> **Optuna** is an automatic hyperparameter optimization software framework, particularly designed for machine learning. It features an imperative, *define-by-run* style user API. Thanks to our *define-by-run* API, the code written with Optuna enjoys high modularity, and the user of Optuna can dynamically construct the search spaces for the hyperparameters.\n",
    "\n",
    "\n",
    "- [Optuna FAQ](https://optuna.readthedocs.io/en/stable/faq.html)\n",
    "- [Optuna docs](https://optuna.readthedocs.io/en/stable/index.html#)\n",
    "- [Optuna paper](https://arxiv.org/abs/1907.10902)"
   ]
  },
  {
   "cell_type": "markdown",
   "id": "c2e2b500",
   "metadata": {
    "id": "klJlBflxcMwb",
    "papermill": {
     "duration": 0.033014,
     "end_time": "2021-09-23T18:32:54.361119",
     "exception": false,
     "start_time": "2021-09-23T18:32:54.328105",
     "status": "completed"
    },
    "tags": []
   },
   "source": [
    "## Basics with scikit-learn"
   ]
  },
  {
   "cell_type": "markdown",
   "id": "a3aefa0a",
   "metadata": {
    "id": "RTOBy10ecMwb",
    "papermill": {
     "duration": 0.033827,
     "end_time": "2021-09-23T18:32:54.428302",
     "exception": false,
     "start_time": "2021-09-23T18:32:54.394475",
     "status": "completed"
    },
    "tags": []
   },
   "source": [
    "Optuna is a black-box optimizer, which means it only needs an objective function, which is any function that returns a numerical value, to evaluate the performance of the its parameters, and decide where to sample in upcoming trials. An optimization problem is framed in the Optuna API using two basic concepts: `study` and `trial`. \n",
    "\n",
    "A study is conceptually an optimization based on an objective function, while a trial is a single execution of an objective function. The combination of hyperparameters for each trial is sampled according to some sampling algorithm defined by the study. \n",
    "\n",
    "In the following code example, the search space is constructed within imperative Python code, e.g. inside conditionals or loops. On the other hand, recall that for `GridSearchCV` and `RandomSearchCV` in scikit-learn, we had to define the entire search space before running the search algorithm."
   ]
  },
  {
   "cell_type": "markdown",
   "id": "086efcf5",
   "metadata": {
    "id": "_HmNJmtscMwc",
    "papermill": {
     "duration": 0.033457,
     "end_time": "2021-09-23T18:32:54.495828",
     "exception": false,
     "start_time": "2021-09-23T18:32:54.462371",
     "status": "completed"
    },
    "tags": []
   },
   "source": [
    "````{margin}\n",
    "```{tip}\n",
    "Always perform model evaluation on a dataset within a cross-validation framework!\n",
    "```\n",
    "````"
   ]
  },
  {
   "cell_type": "code",
   "execution_count": 1,
   "id": "6d30260b",
   "metadata": {
    "execution": {
     "iopub.execute_input": "2021-09-23T18:32:54.570108Z",
     "iopub.status.busy": "2021-09-23T18:32:54.568606Z",
     "iopub.status.idle": "2021-09-23T18:33:06.921014Z",
     "shell.execute_reply": "2021-09-23T18:33:06.921657Z",
     "shell.execute_reply.started": "2021-09-23T18:11:23.639920Z"
    },
    "id": "7MYKq1Y9cMwd",
    "outputId": "752c9e7d-36e7-49b3-b86a-e2983093a076",
    "papermill": {
     "duration": 12.393293,
     "end_time": "2021-09-23T18:33:06.921985",
     "exception": false,
     "start_time": "2021-09-23T18:32:54.528692",
     "status": "completed"
    },
    "tags": []
   },
   "outputs": [
    {
     "name": "stdout",
     "output_type": "stream",
     "text": [
      "Requirement already satisfied: optuna in /opt/conda/lib/python3.7/site-packages (2.9.1)\r\n",
      "Requirement already satisfied: tqdm in /opt/conda/lib/python3.7/site-packages (from optuna) (4.62.1)\r\n",
      "Requirement already satisfied: PyYAML in /opt/conda/lib/python3.7/site-packages (from optuna) (5.4.1)\r\n",
      "Requirement already satisfied: colorlog in /opt/conda/lib/python3.7/site-packages (from optuna) (6.4.1)\r\n",
      "Requirement already satisfied: scipy!=1.4.0 in /opt/conda/lib/python3.7/site-packages (from optuna) (1.7.1)\r\n",
      "Requirement already satisfied: packaging>=20.0 in /opt/conda/lib/python3.7/site-packages (from optuna) (21.0)\r\n",
      "Requirement already satisfied: cliff in /opt/conda/lib/python3.7/site-packages (from optuna) (3.9.0)\r\n",
      "Requirement already satisfied: numpy in /opt/conda/lib/python3.7/site-packages (from optuna) (1.19.5)\r\n",
      "Requirement already satisfied: sqlalchemy>=1.1.0 in /opt/conda/lib/python3.7/site-packages (from optuna) (1.4.22)\r\n",
      "Requirement already satisfied: cmaes>=0.8.2 in /opt/conda/lib/python3.7/site-packages (from optuna) (0.8.2)\r\n",
      "Requirement already satisfied: alembic in /opt/conda/lib/python3.7/site-packages (from optuna) (1.7.1)\r\n",
      "Requirement already satisfied: pyparsing>=2.0.2 in /opt/conda/lib/python3.7/site-packages (from packaging>=20.0->optuna) (2.4.7)\r\n",
      "Requirement already satisfied: importlib-metadata in /opt/conda/lib/python3.7/site-packages (from sqlalchemy>=1.1.0->optuna) (3.4.0)\r\n",
      "Requirement already satisfied: greenlet!=0.4.17 in /opt/conda/lib/python3.7/site-packages (from sqlalchemy>=1.1.0->optuna) (1.1.1)\r\n",
      "Requirement already satisfied: importlib-resources in /opt/conda/lib/python3.7/site-packages (from alembic->optuna) (5.2.2)\r\n",
      "Requirement already satisfied: Mako in /opt/conda/lib/python3.7/site-packages (from alembic->optuna) (1.1.5)\r\n",
      "Requirement already satisfied: pbr!=2.1.0,>=2.0.0 in /opt/conda/lib/python3.7/site-packages (from cliff->optuna) (5.6.0)\r\n",
      "Requirement already satisfied: PrettyTable>=0.7.2 in /opt/conda/lib/python3.7/site-packages (from cliff->optuna) (2.1.0)\r\n",
      "Requirement already satisfied: autopage>=0.4.0 in /opt/conda/lib/python3.7/site-packages (from cliff->optuna) (0.4.0)\r\n",
      "Requirement already satisfied: stevedore>=2.0.1 in /opt/conda/lib/python3.7/site-packages (from cliff->optuna) (3.4.0)\r\n",
      "Requirement already satisfied: cmd2>=1.0.0 in /opt/conda/lib/python3.7/site-packages (from cliff->optuna) (2.1.2)\r\n",
      "Requirement already satisfied: wcwidth>=0.1.7 in /opt/conda/lib/python3.7/site-packages (from cmd2>=1.0.0->cliff->optuna) (0.2.5)\r\n",
      "Requirement already satisfied: colorama>=0.3.7 in /opt/conda/lib/python3.7/site-packages (from cmd2>=1.0.0->cliff->optuna) (0.4.4)\r\n",
      "Requirement already satisfied: pyperclip>=1.6 in /opt/conda/lib/python3.7/site-packages (from cmd2>=1.0.0->cliff->optuna) (1.8.2)\r\n",
      "Requirement already satisfied: attrs>=16.3.0 in /opt/conda/lib/python3.7/site-packages (from cmd2>=1.0.0->cliff->optuna) (21.2.0)\r\n",
      "Requirement already satisfied: typing-extensions in /opt/conda/lib/python3.7/site-packages (from cmd2>=1.0.0->cliff->optuna) (3.7.4.3)\r\n",
      "Requirement already satisfied: zipp>=0.5 in /opt/conda/lib/python3.7/site-packages (from importlib-metadata->sqlalchemy>=1.1.0->optuna) (3.5.0)\r\n",
      "Requirement already satisfied: MarkupSafe>=0.9.2 in /opt/conda/lib/python3.7/site-packages (from Mako->alembic->optuna) (2.0.1)\r\n",
      "\u001b[33mWARNING: Running pip as the 'root' user can result in broken permissions and conflicting behaviour with the system package manager. It is recommended to use a virtual environment instead: https://pip.pypa.io/warnings/venv\u001b[0m\r\n"
     ]
    },
    {
     "name": "stderr",
     "output_type": "stream",
     "text": [
      "\u001b[32m[I 2021-09-23 18:33:04,612]\u001b[0m A new study created in memory with name: no-name-cfdae509-36ab-4d82-965e-2b6c9316a354\u001b[0m\n",
      "\u001b[32m[I 2021-09-23 18:33:06,600]\u001b[0m Trial 0 finished with value: 0.9332557056357708 and parameters: {'classifier': 'RandomForest', 'rf_max_depth': 2.9876213597177634}. Best is trial 0 with value: 0.9332557056357708.\u001b[0m\n",
      "\u001b[32m[I 2021-09-23 18:33:06,702]\u001b[0m Trial 1 finished with value: 0.9508150908244062 and parameters: {'classifier': 'RandomForest', 'rf_max_depth': 3.699591764491862}. Best is trial 1 with value: 0.9508150908244062.\u001b[0m\n",
      "\u001b[32m[I 2021-09-23 18:33:06,760]\u001b[0m Trial 2 finished with value: 0.6274181027790716 and parameters: {'classifier': 'SVC', 'svc_c': 1.0037985294833402e-09}. Best is trial 1 with value: 0.9508150908244062.\u001b[0m\n",
      "\u001b[32m[I 2021-09-23 18:33:06,836]\u001b[0m Trial 3 finished with value: 0.6274181027790716 and parameters: {'classifier': 'SVC', 'svc_c': 0.001999285438506663}. Best is trial 1 with value: 0.9508150908244062.\u001b[0m\n",
      "\u001b[32m[I 2021-09-23 18:33:06,913]\u001b[0m Trial 4 finished with value: 0.6274181027790716 and parameters: {'classifier': 'SVC', 'svc_c': 0.019459976047195737}. Best is trial 1 with value: 0.9508150908244062.\u001b[0m\n"
     ]
    }
   ],
   "source": [
    "!pip install optuna\n",
    "import optuna\n",
    "import pandas as pd\n",
    "from sklearn import ensemble, svm\n",
    "from sklearn import datasets\n",
    "from sklearn import model_selection\n",
    "from functools import partial\n",
    "import joblib\n",
    "\n",
    "\n",
    "# [1] Define an objective function to be maximized.\n",
    "def objective(trial, X, y):\n",
    "    \n",
    "    # [2] Suggest values for the hyperparameters using trial object.\n",
    "    clf_name = trial.suggest_categorical('classifier', ['SVC', 'RandomForest'])\n",
    "    if clf_name == 'SVC':\n",
    "        svc_c = trial.suggest_loguniform('svc_c', 1e-10, 1e10)\n",
    "        clf = svm.SVC(C=svc_c, gamma='auto')\n",
    "    else:\n",
    "        rf_max_depth = int(trial.suggest_loguniform('rf_max_depth', 2, 32))\n",
    "        clf = ensemble.RandomForestClassifier(max_depth=rf_max_depth, n_estimators=10)\n",
    "\n",
    "    score = model_selection.cross_val_score(clf, X, y, n_jobs=-1, cv=5)\n",
    "    return score.mean()\n",
    "\n",
    "# [3] Create a study object and optimize the objective function.\n",
    "X, y = datasets.load_breast_cancer(return_X_y=True)\n",
    "study = optuna.create_study(direction=\"maximize\")\n",
    "study.optimize(partial(objective, X=X, y=y), n_trials=5)"
   ]
  },
  {
   "cell_type": "markdown",
   "id": "ff251d2a",
   "metadata": {
    "id": "nsGUAer5cMwg",
    "papermill": {
     "duration": 0.037535,
     "end_time": "2021-09-23T18:33:06.998096",
     "exception": false,
     "start_time": "2021-09-23T18:33:06.960561",
     "status": "completed"
    },
    "tags": []
   },
   "source": [
    "The `study` object saves the result of evaluating the objective each trial &mdash; which is essentially some choice of hyperparameters to evaluate. In the above study, the problem of model selection is framed as a hyperparameter optimization problem. Here we choose between an SVM-based algorithm or Random Forest."
   ]
  },
  {
   "cell_type": "code",
   "execution_count": 2,
   "id": "5067e9b4",
   "metadata": {
    "execution": {
     "iopub.execute_input": "2021-09-23T18:33:07.095961Z",
     "iopub.status.busy": "2021-09-23T18:33:07.094773Z",
     "iopub.status.idle": "2021-09-23T18:33:07.116210Z",
     "shell.execute_reply": "2021-09-23T18:33:07.115757Z",
     "shell.execute_reply.started": "2021-09-23T18:11:35.181963Z"
    },
    "id": "-e2vQKKTcMwh",
    "outputId": "bdca7478-d429-431f-fbe0-2963d500e735",
    "papermill": {
     "duration": 0.080331,
     "end_time": "2021-09-23T18:33:07.116348",
     "exception": false,
     "start_time": "2021-09-23T18:33:07.036017",
     "status": "completed"
    },
    "tags": []
   },
   "outputs": [
    {
     "data": {
      "text/html": [
       "<div>\n",
       "<style scoped>\n",
       "    .dataframe tbody tr th:only-of-type {\n",
       "        vertical-align: middle;\n",
       "    }\n",
       "\n",
       "    .dataframe tbody tr th {\n",
       "        vertical-align: top;\n",
       "    }\n",
       "\n",
       "    .dataframe thead th {\n",
       "        text-align: right;\n",
       "    }\n",
       "</style>\n",
       "<table border=\"1\" class=\"dataframe\">\n",
       "  <thead>\n",
       "    <tr style=\"text-align: right;\">\n",
       "      <th></th>\n",
       "      <th>number</th>\n",
       "      <th>value</th>\n",
       "      <th>datetime_start</th>\n",
       "      <th>datetime_complete</th>\n",
       "      <th>duration</th>\n",
       "      <th>params_classifier</th>\n",
       "      <th>params_rf_max_depth</th>\n",
       "      <th>params_svc_c</th>\n",
       "      <th>state</th>\n",
       "    </tr>\n",
       "  </thead>\n",
       "  <tbody>\n",
       "    <tr>\n",
       "      <th>0</th>\n",
       "      <td>0</td>\n",
       "      <td>0.933256</td>\n",
       "      <td>2021-09-23 18:33:04.613946</td>\n",
       "      <td>2021-09-23 18:33:06.599823</td>\n",
       "      <td>0 days 00:00:01.985877</td>\n",
       "      <td>RandomForest</td>\n",
       "      <td>2.987621</td>\n",
       "      <td>NaN</td>\n",
       "      <td>COMPLETE</td>\n",
       "    </tr>\n",
       "    <tr>\n",
       "      <th>1</th>\n",
       "      <td>1</td>\n",
       "      <td>0.950815</td>\n",
       "      <td>2021-09-23 18:33:06.601770</td>\n",
       "      <td>2021-09-23 18:33:06.701718</td>\n",
       "      <td>0 days 00:00:00.099948</td>\n",
       "      <td>RandomForest</td>\n",
       "      <td>3.699592</td>\n",
       "      <td>NaN</td>\n",
       "      <td>COMPLETE</td>\n",
       "    </tr>\n",
       "    <tr>\n",
       "      <th>2</th>\n",
       "      <td>2</td>\n",
       "      <td>0.627418</td>\n",
       "      <td>2021-09-23 18:33:06.702928</td>\n",
       "      <td>2021-09-23 18:33:06.759852</td>\n",
       "      <td>0 days 00:00:00.056924</td>\n",
       "      <td>SVC</td>\n",
       "      <td>NaN</td>\n",
       "      <td>1.003799e-09</td>\n",
       "      <td>COMPLETE</td>\n",
       "    </tr>\n",
       "    <tr>\n",
       "      <th>3</th>\n",
       "      <td>3</td>\n",
       "      <td>0.627418</td>\n",
       "      <td>2021-09-23 18:33:06.760892</td>\n",
       "      <td>2021-09-23 18:33:06.836470</td>\n",
       "      <td>0 days 00:00:00.075578</td>\n",
       "      <td>SVC</td>\n",
       "      <td>NaN</td>\n",
       "      <td>1.999285e-03</td>\n",
       "      <td>COMPLETE</td>\n",
       "    </tr>\n",
       "    <tr>\n",
       "      <th>4</th>\n",
       "      <td>4</td>\n",
       "      <td>0.627418</td>\n",
       "      <td>2021-09-23 18:33:06.837781</td>\n",
       "      <td>2021-09-23 18:33:06.913703</td>\n",
       "      <td>0 days 00:00:00.075922</td>\n",
       "      <td>SVC</td>\n",
       "      <td>NaN</td>\n",
       "      <td>1.945998e-02</td>\n",
       "      <td>COMPLETE</td>\n",
       "    </tr>\n",
       "  </tbody>\n",
       "</table>\n",
       "</div>"
      ],
      "text/plain": [
       "   number     value             datetime_start          datetime_complete  \\\n",
       "0       0  0.933256 2021-09-23 18:33:04.613946 2021-09-23 18:33:06.599823   \n",
       "1       1  0.950815 2021-09-23 18:33:06.601770 2021-09-23 18:33:06.701718   \n",
       "2       2  0.627418 2021-09-23 18:33:06.702928 2021-09-23 18:33:06.759852   \n",
       "3       3  0.627418 2021-09-23 18:33:06.760892 2021-09-23 18:33:06.836470   \n",
       "4       4  0.627418 2021-09-23 18:33:06.837781 2021-09-23 18:33:06.913703   \n",
       "\n",
       "                duration params_classifier  params_rf_max_depth  params_svc_c  \\\n",
       "0 0 days 00:00:01.985877      RandomForest             2.987621           NaN   \n",
       "1 0 days 00:00:00.099948      RandomForest             3.699592           NaN   \n",
       "2 0 days 00:00:00.056924               SVC                  NaN  1.003799e-09   \n",
       "3 0 days 00:00:00.075578               SVC                  NaN  1.999285e-03   \n",
       "4 0 days 00:00:00.075922               SVC                  NaN  1.945998e-02   \n",
       "\n",
       "      state  \n",
       "0  COMPLETE  \n",
       "1  COMPLETE  \n",
       "2  COMPLETE  \n",
       "3  COMPLETE  \n",
       "4  COMPLETE  "
      ]
     },
     "execution_count": 2,
     "metadata": {},
     "output_type": "execute_result"
    }
   ],
   "source": [
    "study.trials_dataframe().head()"
   ]
  },
  {
   "cell_type": "markdown",
   "id": "eeb08ef0",
   "metadata": {
    "id": "hJFdE1kwcMwi",
    "papermill": {
     "duration": 0.038743,
     "end_time": "2021-09-23T18:33:07.196144",
     "exception": false,
     "start_time": "2021-09-23T18:33:07.157401",
     "status": "completed"
    },
    "tags": []
   },
   "source": [
    "### Fine tuning Random Forest"
   ]
  },
  {
   "cell_type": "markdown",
   "id": "50f385bb",
   "metadata": {
    "id": "x20Gt3wccMwj",
    "papermill": {
     "duration": 0.037744,
     "end_time": "2021-09-23T18:33:07.272263",
     "exception": false,
     "start_time": "2021-09-23T18:33:07.234519",
     "status": "completed"
    },
    "tags": []
   },
   "source": [
    "Here we focus on tuning a single Random Forest model. Then, plot the accuracy for each pair of hyperparameters."
   ]
  },
  {
   "cell_type": "code",
   "execution_count": 3,
   "id": "024ceebb",
   "metadata": {
    "execution": {
     "iopub.execute_input": "2021-09-23T18:33:07.357981Z",
     "iopub.status.busy": "2021-09-23T18:33:07.357020Z",
     "iopub.status.idle": "2021-09-23T18:38:32.135032Z",
     "shell.execute_reply": "2021-09-23T18:38:32.134503Z",
     "shell.execute_reply.started": "2021-09-23T18:11:35.217384Z"
    },
    "id": "F2o11RCLcMwk",
    "outputId": "6f8a7e09-4d08-48ba-be23-0242d11538cf",
    "papermill": {
     "duration": 324.824562,
     "end_time": "2021-09-23T18:38:32.135224",
     "exception": false,
     "start_time": "2021-09-23T18:33:07.310662",
     "status": "completed"
    },
    "tags": []
   },
   "outputs": [
    {
     "name": "stderr",
     "output_type": "stream",
     "text": [
      "\u001b[32m[I 2021-09-23 18:33:07,354]\u001b[0m A new study created in memory with name: no-name-16ba37d4-2aa7-4e7a-a907-59ac01ffd11d\u001b[0m\n",
      "\u001b[32m[I 2021-09-23 18:33:11,694]\u001b[0m Trial 0 finished with value: 0.9648967551622418 and parameters: {'max_depth': 40, 'max_features': 0.5003993482364034, 'n_estimators': 318}. Best is trial 0 with value: 0.9648967551622418.\u001b[0m\n",
      "\u001b[32m[I 2021-09-23 18:33:19,515]\u001b[0m Trial 1 finished with value: 0.9508150908244062 and parameters: {'max_depth': 2, 'max_features': 0.7683941488506071, 'n_estimators': 706}. Best is trial 0 with value: 0.9648967551622418.\u001b[0m\n",
      "\u001b[32m[I 2021-09-23 18:33:30,817]\u001b[0m Trial 2 finished with value: 0.9613724576929048 and parameters: {'max_depth': 14, 'max_features': 0.6467970442529462, 'n_estimators': 745}. Best is trial 0 with value: 0.9648967551622418.\u001b[0m\n",
      "\u001b[32m[I 2021-09-23 18:33:34,710]\u001b[0m Trial 3 finished with value: 0.9596180717279925 and parameters: {'max_depth': 74, 'max_features': 0.692164512230914, 'n_estimators': 258}. Best is trial 0 with value: 0.9648967551622418.\u001b[0m\n",
      "\u001b[32m[I 2021-09-23 18:33:40,877]\u001b[0m Trial 4 finished with value: 0.9525694767893184 and parameters: {'max_depth': 2, 'max_features': 0.9817045480429595, 'n_estimators': 514}. Best is trial 0 with value: 0.9648967551622418.\u001b[0m\n",
      "\u001b[32m[I 2021-09-23 18:33:46,379]\u001b[0m Trial 5 finished with value: 0.9596180717279925 and parameters: {'max_depth': 55, 'max_features': 0.7694375521775094, 'n_estimators': 334}. Best is trial 0 with value: 0.9648967551622418.\u001b[0m\n",
      "\u001b[32m[I 2021-09-23 18:33:48,851]\u001b[0m Trial 6 finished with value: 0.9508150908244062 and parameters: {'max_depth': 2, 'max_features': 0.26821883166494553, 'n_estimators': 305}. Best is trial 0 with value: 0.9648967551622418.\u001b[0m\n",
      "\u001b[32m[I 2021-09-23 18:33:50,530]\u001b[0m Trial 7 finished with value: 0.9560937742586555 and parameters: {'max_depth': 4, 'max_features': 0.5844525375969316, 'n_estimators': 136}. Best is trial 0 with value: 0.9648967551622418.\u001b[0m\n",
      "\u001b[32m[I 2021-09-23 18:33:54,867]\u001b[0m Trial 8 finished with value: 0.956078248719143 and parameters: {'max_depth': 3, 'max_features': 0.34610518121917144, 'n_estimators': 426}. Best is trial 0 with value: 0.9648967551622418.\u001b[0m\n",
      "\u001b[32m[I 2021-09-23 18:34:03,993]\u001b[0m Trial 9 finished with value: 0.9525694767893184 and parameters: {'max_depth': 2, 'max_features': 0.8674516769779563, 'n_estimators': 736}. Best is trial 0 with value: 0.9648967551622418.\u001b[0m\n",
      "\u001b[32m[I 2021-09-23 18:34:10,343]\u001b[0m Trial 10 finished with value: 0.9631268436578171 and parameters: {'max_depth': 25, 'max_features': 0.4052969957012931, 'n_estimators': 548}. Best is trial 0 with value: 0.9648967551622418.\u001b[0m\n",
      "\u001b[32m[I 2021-09-23 18:34:17,176]\u001b[0m Trial 11 finished with value: 0.9631268436578171 and parameters: {'max_depth': 28, 'max_features': 0.4218094997410249, 'n_estimators': 567}. Best is trial 0 with value: 0.9648967551622418.\u001b[0m\n",
      "\u001b[32m[I 2021-09-23 18:34:22,142]\u001b[0m Trial 12 finished with value: 0.95960254618848 and parameters: {'max_depth': 30, 'max_features': 0.11275314554110305, 'n_estimators': 614}. Best is trial 0 with value: 0.9648967551622418.\u001b[0m\n",
      "\u001b[32m[I 2021-09-23 18:34:27,543]\u001b[0m Trial 13 finished with value: 0.95960254618848 and parameters: {'max_depth': 127, 'max_features': 0.46557134078167095, 'n_estimators': 426}. Best is trial 0 with value: 0.9648967551622418.\u001b[0m\n",
      "\u001b[32m[I 2021-09-23 18:34:28,915]\u001b[0m Trial 14 finished with value: 0.9543393882937432 and parameters: {'max_depth': 10, 'max_features': 0.19715094487237206, 'n_estimators': 151}. Best is trial 0 with value: 0.9648967551622418.\u001b[0m\n",
      "\u001b[32m[I 2021-09-23 18:34:35,589]\u001b[0m Trial 15 finished with value: 0.9631423691973297 and parameters: {'max_depth': 16, 'max_features': 0.5155621421999611, 'n_estimators': 487}. Best is trial 0 with value: 0.9648967551622418.\u001b[0m\n",
      "\u001b[32m[I 2021-09-23 18:34:38,571]\u001b[0m Trial 16 finished with value: 0.9596180717279925 and parameters: {'max_depth': 9, 'max_features': 0.49465628637668074, 'n_estimators': 219}. Best is trial 0 with value: 0.9648967551622418.\u001b[0m\n",
      "\u001b[32m[I 2021-09-23 18:34:43,314]\u001b[0m Trial 17 finished with value: 0.9613724576929048 and parameters: {'max_depth': 17, 'max_features': 0.5989024541428132, 'n_estimators': 353}. Best is trial 0 with value: 0.9648967551622418.\u001b[0m\n",
      "\u001b[32m[I 2021-09-23 18:34:49,635]\u001b[0m Trial 18 finished with value: 0.9613724576929048 and parameters: {'max_depth': 6, 'max_features': 0.5285597129099331, 'n_estimators': 473}. Best is trial 0 with value: 0.9648967551622418.\u001b[0m\n",
      "\u001b[32m[I 2021-09-23 18:34:56,061]\u001b[0m Trial 19 finished with value: 0.95960254618848 and parameters: {'max_depth': 63, 'max_features': 0.2731071853961444, 'n_estimators': 632}. Best is trial 0 with value: 0.9648967551622418.\u001b[0m\n",
      "\u001b[32m[I 2021-09-23 18:35:00,706]\u001b[0m Trial 20 finished with value: 0.9613569321533924 and parameters: {'max_depth': 47, 'max_features': 0.343056306708282, 'n_estimators': 401}. Best is trial 0 with value: 0.9648967551622418.\u001b[0m\n",
      "\u001b[32m[I 2021-09-23 18:35:08,090]\u001b[0m Trial 21 finished with value: 0.9578481602235677 and parameters: {'max_depth': 29, 'max_features': 0.4453867042486164, 'n_estimators': 576}. Best is trial 0 with value: 0.9648967551622418.\u001b[0m\n",
      "\u001b[32m[I 2021-09-23 18:35:13,773]\u001b[0m Trial 22 finished with value: 0.9613879832324173 and parameters: {'max_depth': 20, 'max_features': 0.38670291308379157, 'n_estimators': 488}. Best is trial 0 with value: 0.9648967551622418.\u001b[0m\n",
      "\u001b[32m[I 2021-09-23 18:35:20,400]\u001b[0m Trial 23 finished with value: 0.9613879832324173 and parameters: {'max_depth': 35, 'max_features': 0.5296879978222573, 'n_estimators': 526}. Best is trial 0 with value: 0.9648967551622418.\u001b[0m\n",
      "\u001b[32m[I 2021-09-23 18:35:30,226]\u001b[0m Trial 24 finished with value: 0.9613724576929048 and parameters: {'max_depth': 21, 'max_features': 0.6760392677549009, 'n_estimators': 662}. Best is trial 0 with value: 0.9648967551622418.\u001b[0m\n",
      "\u001b[32m[I 2021-09-23 18:35:38,909]\u001b[0m Trial 25 finished with value: 0.95960254618848 and parameters: {'max_depth': 9, 'max_features': 0.29521666997025797, 'n_estimators': 798}. Best is trial 0 with value: 0.9648967551622418.\u001b[0m\n",
      "\u001b[32m[I 2021-09-23 18:35:43,175]\u001b[0m Trial 26 finished with value: 0.9613879832324173 and parameters: {'max_depth': 98, 'max_features': 0.3870504380676449, 'n_estimators': 370}. Best is trial 0 with value: 0.9648967551622418.\u001b[0m\n",
      "\u001b[32m[I 2021-09-23 18:35:46,710]\u001b[0m Trial 27 finished with value: 0.9613724576929048 and parameters: {'max_depth': 36, 'max_features': 0.5844817089647207, 'n_estimators': 258}. Best is trial 0 with value: 0.9648967551622418.\u001b[0m\n",
      "\u001b[32m[I 2021-09-23 18:35:53,604]\u001b[0m Trial 28 finished with value: 0.95960254618848 and parameters: {'max_depth': 42, 'max_features': 0.4503712663229084, 'n_estimators': 586}. Best is trial 0 with value: 0.9648967551622418.\u001b[0m\n",
      "\u001b[32m[I 2021-09-23 18:36:01,029]\u001b[0m Trial 29 finished with value: 0.9613879832324173 and parameters: {'max_depth': 11, 'max_features': 0.7431405479990221, 'n_estimators': 471}. Best is trial 0 with value: 0.9648967551622418.\u001b[0m\n",
      "\u001b[32m[I 2021-09-23 18:36:12,187]\u001b[0m Trial 30 finished with value: 0.9613724576929048 and parameters: {'max_depth': 15, 'max_features': 0.8188434081002719, 'n_estimators': 659}. Best is trial 0 with value: 0.9648967551622418.\u001b[0m\n",
      "\u001b[32m[I 2021-09-23 18:36:18,561]\u001b[0m Trial 31 finished with value: 0.9613879832324173 and parameters: {'max_depth': 22, 'max_features': 0.39423824682376823, 'n_estimators': 551}. Best is trial 0 with value: 0.9648967551622418.\u001b[0m\n",
      "\u001b[32m[I 2021-09-23 18:36:24,893]\u001b[0m Trial 32 finished with value: 0.9631268436578171 and parameters: {'max_depth': 30, 'max_features': 0.42768218904251415, 'n_estimators': 554}. Best is trial 0 with value: 0.9648967551622418.\u001b[0m\n",
      "\u001b[32m[I 2021-09-23 18:36:31,762]\u001b[0m Trial 33 finished with value: 0.9631423691973297 and parameters: {'max_depth': 23, 'max_features': 0.5066968990255127, 'n_estimators': 511}. Best is trial 0 with value: 0.9648967551622418.\u001b[0m\n",
      "\u001b[32m[I 2021-09-23 18:36:37,137]\u001b[0m Trial 34 finished with value: 0.9613879832324173 and parameters: {'max_depth': 7, 'max_features': 0.636536719526963, 'n_estimators': 384}. Best is trial 0 with value: 0.9648967551622418.\u001b[0m\n",
      "\u001b[32m[I 2021-09-23 18:36:44,497]\u001b[0m Trial 35 finished with value: 0.9631423691973297 and parameters: {'max_depth': 14, 'max_features': 0.5022629129714143, 'n_estimators': 507}. Best is trial 0 with value: 0.9648967551622418.\u001b[0m\n",
      "\u001b[32m[I 2021-09-23 18:36:48,354]\u001b[0m Trial 36 finished with value: 0.9648967551622418 and parameters: {'max_depth': 14, 'max_features': 0.5130117326554974, 'n_estimators': 303}. Best is trial 0 with value: 0.9648967551622418.\u001b[0m\n",
      "\u001b[32m[I 2021-09-23 18:36:52,547]\u001b[0m Trial 37 finished with value: 0.9596180717279925 and parameters: {'max_depth': 12, 'max_features': 0.5665321143967493, 'n_estimators': 302}. Best is trial 0 with value: 0.9648967551622418.\u001b[0m\n",
      "\u001b[32m[I 2021-09-23 18:36:55,221]\u001b[0m Trial 38 finished with value: 0.9578792113025927 and parameters: {'max_depth': 17, 'max_features': 0.725007057453356, 'n_estimators': 179}. Best is trial 0 with value: 0.9648967551622418.\u001b[0m\n",
      "\u001b[32m[I 2021-09-23 18:36:59,594]\u001b[0m Trial 39 finished with value: 0.959633597267505 and parameters: {'max_depth': 6, 'max_features': 0.6357499679451811, 'n_estimators': 310}. Best is trial 0 with value: 0.9648967551622418.\u001b[0m\n",
      "\u001b[32m[I 2021-09-23 18:37:02,977]\u001b[0m Trial 40 finished with value: 0.9595870206489675 and parameters: {'max_depth': 4, 'max_features': 0.5565525309205199, 'n_estimators': 260}. Best is trial 0 with value: 0.9648967551622418.\u001b[0m\n",
      "\u001b[32m[I 2021-09-23 18:37:08,420]\u001b[0m Trial 41 finished with value: 0.9578481602235677 and parameters: {'max_depth': 14, 'max_features': 0.49476664234669915, 'n_estimators': 440}. Best is trial 0 with value: 0.9648967551622418.\u001b[0m\n",
      "\u001b[32m[I 2021-09-23 18:37:15,495]\u001b[0m Trial 42 finished with value: 0.9596180717279925 and parameters: {'max_depth': 13, 'max_features': 0.4892700064621473, 'n_estimators': 511}. Best is trial 0 with value: 0.9648967551622418.\u001b[0m\n",
      "\u001b[32m[I 2021-09-23 18:37:20,635]\u001b[0m Trial 43 finished with value: 0.9648967551622418 and parameters: {'max_depth': 17, 'max_features': 0.5268476671963307, 'n_estimators': 408}. Best is trial 0 with value: 0.9648967551622418.\u001b[0m\n",
      "\u001b[32m[I 2021-09-23 18:37:25,380]\u001b[0m Trial 44 finished with value: 0.9631423691973294 and parameters: {'max_depth': 23, 'max_features': 0.6208156180005706, 'n_estimators': 328}. Best is trial 0 with value: 0.9648967551622418.\u001b[0m\n",
      "\u001b[32m[I 2021-09-23 18:37:26,970]\u001b[0m Trial 45 finished with value: 0.9613879832324173 and parameters: {'max_depth': 54, 'max_features': 0.6731486210297581, 'n_estimators': 104}. Best is trial 0 with value: 0.9648967551622418.\u001b[0m\n",
      "\u001b[32m[I 2021-09-23 18:37:30,550]\u001b[0m Trial 46 finished with value: 0.9613879832324173 and parameters: {'max_depth': 76, 'max_features': 0.5588296022707138, 'n_estimators': 273}. Best is trial 0 with value: 0.9648967551622418.\u001b[0m\n",
      "\u001b[32m[I 2021-09-23 18:37:35,851]\u001b[0m Trial 47 finished with value: 0.95960254618848 and parameters: {'max_depth': 8, 'max_features': 0.46938258346956085, 'n_estimators': 408}. Best is trial 0 with value: 0.9648967551622418.\u001b[0m\n",
      "\u001b[32m[I 2021-09-23 18:37:39,506]\u001b[0m Trial 48 finished with value: 0.9596491228070174 and parameters: {'max_depth': 19, 'max_features': 0.9730379047724134, 'n_estimators': 204}. Best is trial 0 with value: 0.9648967551622418.\u001b[0m\n",
      "\u001b[32m[I 2021-09-23 18:37:43,084]\u001b[0m Trial 49 finished with value: 0.9613724576929048 and parameters: {'max_depth': 5, 'max_features': 0.35498772663257794, 'n_estimators': 340}. Best is trial 0 with value: 0.9648967551622418.\u001b[0m\n",
      "\u001b[32m[I 2021-09-23 18:37:50,403]\u001b[0m Trial 50 finished with value: 0.9613724576929048 and parameters: {'max_depth': 16, 'max_features': 0.6051182313071413, 'n_estimators': 453}. Best is trial 0 with value: 0.9648967551622418.\u001b[0m\n",
      "\u001b[32m[I 2021-09-23 18:37:57,035]\u001b[0m Trial 51 finished with value: 0.9631423691973297 and parameters: {'max_depth': 25, 'max_features': 0.5252953889292916, 'n_estimators': 503}. Best is trial 0 with value: 0.9648967551622418.\u001b[0m\n",
      "\u001b[32m[I 2021-09-23 18:38:02,014]\u001b[0m Trial 52 finished with value: 0.9578481602235677 and parameters: {'max_depth': 37, 'max_features': 0.49807921622626433, 'n_estimators': 410}. Best is trial 0 with value: 0.9648967551622418.\u001b[0m\n",
      "\u001b[32m[I 2021-09-23 18:38:06,858]\u001b[0m Trial 53 finished with value: 0.9666511411271541 and parameters: {'max_depth': 26, 'max_features': 0.5214614834753933, 'n_estimators': 367}. Best is trial 53 with value: 0.9666511411271541.\u001b[0m\n",
      "\u001b[32m[I 2021-09-23 18:38:11,523]\u001b[0m Trial 54 finished with value: 0.9596180717279925 and parameters: {'max_depth': 26, 'max_features': 0.5551585713582305, 'n_estimators': 363}. Best is trial 53 with value: 0.9666511411271541.\u001b[0m\n",
      "\u001b[32m[I 2021-09-23 18:38:15,169]\u001b[0m Trial 55 finished with value: 0.9666511411271541 and parameters: {'max_depth': 11, 'max_features': 0.5241383906335051, 'n_estimators': 287}. Best is trial 53 with value: 0.9666511411271541.\u001b[0m\n",
      "\u001b[32m[I 2021-09-23 18:38:19,910]\u001b[0m Trial 56 finished with value: 0.9613879832324173 and parameters: {'max_depth': 45, 'max_features': 0.5333826455220547, 'n_estimators': 289}. Best is trial 53 with value: 0.9666511411271541.\u001b[0m\n",
      "\u001b[32m[I 2021-09-23 18:38:22,704]\u001b[0m Trial 57 finished with value: 0.9613724576929048 and parameters: {'max_depth': 11, 'max_features': 0.4367367741089925, 'n_estimators': 233}. Best is trial 53 with value: 0.9666511411271541.\u001b[0m\n",
      "\u001b[32m[I 2021-09-23 18:38:27,152]\u001b[0m Trial 58 finished with value: 0.9631268436578171 and parameters: {'max_depth': 19, 'max_features': 0.5943502349334594, 'n_estimators': 332}. Best is trial 53 with value: 0.9666511411271541.\u001b[0m\n",
      "\u001b[32m[I 2021-09-23 18:38:32,128]\u001b[0m Trial 59 finished with value: 0.9578481602235677 and parameters: {'max_depth': 32, 'max_features': 0.46799576377319135, 'n_estimators': 379}. Best is trial 53 with value: 0.9666511411271541.\u001b[0m\n"
     ]
    }
   ],
   "source": [
    "def objective(trial):\n",
    "    \n",
    "    max_depth = trial.suggest_int('max_depth', 2, 128, log=True)    \n",
    "    max_features = trial.suggest_float('max_features', 0.1, 1.0)    \n",
    "    n_estimators = trial.suggest_int('n_estimators', 100, 800)\n",
    "    \n",
    "    clf = ensemble.RandomForestClassifier(\n",
    "        max_depth=max_depth,\n",
    "        n_estimators=n_estimators,\n",
    "        max_features=max_features,\n",
    "        random_state=42)   \n",
    "    \n",
    "    score = model_selection.cross_val_score(clf, X, y, n_jobs=-1, cv=5)\n",
    "    return score.mean()\n",
    "\n",
    "\n",
    "study = optuna.create_study(direction=\"maximize\")\n",
    "study.optimize(objective, n_trials=60)"
   ]
  },
  {
   "cell_type": "code",
   "execution_count": 4,
   "id": "02e288c8",
   "metadata": {
    "execution": {
     "iopub.execute_input": "2021-09-23T18:38:32.251350Z",
     "iopub.status.busy": "2021-09-23T18:38:32.250757Z",
     "iopub.status.idle": "2021-09-23T18:38:32.253865Z",
     "shell.execute_reply": "2021-09-23T18:38:32.253412Z",
     "shell.execute_reply.started": "2021-09-23T18:14:43.358084Z"
    },
    "id": "5feGzBJTcMwm",
    "outputId": "46394246-610d-45b1-e921-3f2ceac18324",
    "papermill": {
     "duration": 0.063721,
     "end_time": "2021-09-23T18:38:32.254015",
     "exception": false,
     "start_time": "2021-09-23T18:38:32.190294",
     "status": "completed"
    },
    "tags": []
   },
   "outputs": [
    {
     "data": {
      "text/plain": [
       "{'max_depth': 26, 'max_features': 0.5214614834753933, 'n_estimators': 367}"
      ]
     },
     "execution_count": 4,
     "metadata": {},
     "output_type": "execute_result"
    }
   ],
   "source": [
    "study.best_params"
   ]
  },
  {
   "cell_type": "code",
   "execution_count": 5,
   "id": "f28feab9",
   "metadata": {
    "execution": {
     "iopub.execute_input": "2021-09-23T18:38:32.368816Z",
     "iopub.status.busy": "2021-09-23T18:38:32.368027Z",
     "iopub.status.idle": "2021-09-23T18:38:32.370841Z",
     "shell.execute_reply": "2021-09-23T18:38:32.371266Z",
     "shell.execute_reply.started": "2021-09-23T18:14:43.369713Z"
    },
    "id": "CzKJQni3iEiD",
    "outputId": "0a7e4c81-cd77-4542-af94-017deb19267e",
    "papermill": {
     "duration": 0.062251,
     "end_time": "2021-09-23T18:38:32.371390",
     "exception": false,
     "start_time": "2021-09-23T18:38:32.309139",
     "status": "completed"
    },
    "tags": []
   },
   "outputs": [
    {
     "data": {
      "text/plain": [
       "0.9666511411271541"
      ]
     },
     "execution_count": 5,
     "metadata": {},
     "output_type": "execute_result"
    }
   ],
   "source": [
    "study.best_value"
   ]
  },
  {
   "cell_type": "markdown",
   "id": "f0ea76cb",
   "metadata": {
    "id": "FqulVaLvfkD1",
    "papermill": {
     "duration": 0.05585,
     "end_time": "2021-09-23T18:38:32.483594",
     "exception": false,
     "start_time": "2021-09-23T18:38:32.427744",
     "status": "completed"
    },
    "tags": []
   },
   "source": [
    "### Sampling algorithms"
   ]
  },
  {
   "cell_type": "code",
   "execution_count": 6,
   "id": "a65180d2",
   "metadata": {
    "execution": {
     "iopub.execute_input": "2021-09-23T18:38:32.624708Z",
     "iopub.status.busy": "2021-09-23T18:38:32.623793Z",
     "iopub.status.idle": "2021-09-23T18:38:33.282859Z",
     "shell.execute_reply": "2021-09-23T18:38:33.283524Z",
     "shell.execute_reply.started": "2021-09-23T18:14:43.379375Z"
    },
    "id": "aJMDs6zccMwl",
    "outputId": "9927d215-69dc-4f90-c65a-4300593bb966",
    "papermill": {
     "duration": 0.743559,
     "end_time": "2021-09-23T18:38:33.283675",
     "exception": false,
     "start_time": "2021-09-23T18:38:32.540116",
     "status": "completed"
    },
    "tags": []
   },
   "outputs": [
    {
     "data": {
      "image/png": "[encoded data removed]",
      "text/plain": [
       "<Figure size 1152x288 with 4 Axes>"
      ]
     },
     "metadata": {
      "needs_background": "light"
     },
     "output_type": "display_data"
    }
   ],
   "source": [
    "import matplotlib.pyplot as plt\n",
    "fig, axes = plt.subplots(nrows=1, ncols=3)\n",
    "\n",
    "def plot_results(study, p1, p2, j, cb):\n",
    "    study.trials_dataframe().plot(\n",
    "        kind='scatter', ax=axes[j], x=p1, y=p2,\n",
    "        c='value', s=60, cmap=plt.get_cmap(\"jet\"), \n",
    "        colorbar=cb, label=\"accuracy\", figsize=(16, 4)\n",
    "    )\n",
    "\n",
    "plot_results(study, 'params_max_depth',    'params_n_estimators', j=0, cb=False)\n",
    "plot_results(study, 'params_max_depth',    'params_max_features', j=1, cb=False)\n",
    "plot_results(study, 'params_n_estimators', 'params_max_features', j=2, cb=True);"
   ]
  },
  {
   "cell_type": "markdown",
   "id": "87ad1c23",
   "metadata": {
    "id": "Ttvy3BEAcMwm",
    "papermill": {
     "duration": 0.056937,
     "end_time": "2021-09-23T18:38:33.397421",
     "exception": false,
     "start_time": "2021-09-23T18:38:33.340484",
     "status": "completed"
    },
    "tags": []
   },
   "source": [
    "**Figure.** TPE in action. Optuna uses  **Tree-structured Parzen Estimater (TPE)** {cite}`bergstra` as the default sampler which is a form of Bayesian optimization. Observe that the hyperparameter space is searched more efficiently than a random search with the sampler choosing points closer to previous good results. Samplers are specified when creating a study: \n",
    "\n",
    "```python\n",
    "study = create_study(direction=\"maximize\", sampler=optuna.samplers.TPESampler())\n",
    "```\n",
    "\n",
    "From the [docs](https://optuna.readthedocs.io/en/stable/reference/generated/optuna.samplers.TPESampler.html#optuna.samplers.TPESampler):\n",
    "\n",
    "> On each trial, for each parameter, TPE fits one Gaussian Mixture Model (GMM) `l(x)` to the set of parameter values associated with the best objective values, and another GMM `g(x)` to the remaining parameter values. It chooses the parameter value `x` that maximizes the ratio `l(x)/g(x)`.\n",
    "\n",
    "Thus, TPE samples every hyperparameter **independently** &mdash; no explicit hyperparameter interactions are considered when sampling future trials, although other parameters implicitly affect objective value. Optuna also implements old friends random and grid search in the following samplers:\n",
    "- `optuna.samplers.GridSampler`\n",
    "- `optuna.samplers.RandomSampler`"
   ]
  },
  {
   "cell_type": "markdown",
   "id": "d2050a93",
   "metadata": {
    "id": "DN6cMax5fkD2",
    "papermill": {
     "duration": 0.056166,
     "end_time": "2021-09-23T18:38:33.510724",
     "exception": false,
     "start_time": "2021-09-23T18:38:33.454558",
     "status": "completed"
    },
    "tags": []
   },
   "source": [
    "Results from the [paper](https://arxiv.org/pdf/1907.10902.pdf) {cite}`akiba2019optuna`:"
   ]
  },
  {
   "cell_type": "markdown",
   "id": "05534d6f",
   "metadata": {
    "id": "MRbOyHBvfkD3",
    "papermill": {
     "duration": 0.057197,
     "end_time": "2021-09-23T18:38:33.624577",
     "exception": false,
     "start_time": "2021-09-23T18:38:33.567380",
     "status": "completed"
    },
    "tags": []
   },
   "source": [
    "```{figure} ../img/fig9-optuna.png\n",
    "---\n",
    "width: 35em\n",
    "name: fig9-optuna\n",
    "---\n",
    "```"
   ]
  },
  {
   "cell_type": "markdown",
   "id": "91529be5",
   "metadata": {
    "id": "yi5gn3PZfkD4",
    "papermill": {
     "duration": 0.056772,
     "end_time": "2021-09-23T18:38:33.738927",
     "exception": false,
     "start_time": "2021-09-23T18:38:33.682155",
     "status": "completed"
    },
    "tags": []
   },
   "source": [
    "```{figure} ../img/fig10-optuna.png\n",
    "---\n",
    "width: 35em\n",
    "name: fig10-optuna\n",
    "---\n",
    "```"
   ]
  },
  {
   "cell_type": "markdown",
   "id": "bc7c7374",
   "metadata": {
    "id": "Yx-tL9u0c5eK",
    "papermill": {
     "duration": 0.056127,
     "end_time": "2021-09-23T18:38:33.852600",
     "exception": false,
     "start_time": "2021-09-23T18:38:33.796473",
     "status": "completed"
    },
    "tags": []
   },
   "source": [
    "```{figure} ../img/optuna-results.png\n",
    "---\n",
    "width: 35em\n",
    "name: optuna-results\n",
    "---\n",
    "```"
   ]
  },
  {
   "cell_type": "markdown",
   "id": "68bb3ed1",
   "metadata": {
    "id": "AVSTHUFifkD4",
    "papermill": {
     "duration": 0.057289,
     "end_time": "2021-09-23T18:38:33.967317",
     "exception": false,
     "start_time": "2021-09-23T18:38:33.910028",
     "status": "completed"
    },
    "tags": []
   },
   "source": [
    "<br>\n",
    "\n",
    "<br>\n",
    "\n",
    "**TPE+CMA-ES** sampling can be implemented as follows:"
   ]
  },
  {
   "cell_type": "code",
   "execution_count": 7,
   "id": "c6844a82",
   "metadata": {
    "execution": {
     "iopub.execute_input": "2021-09-23T18:38:34.087389Z",
     "iopub.status.busy": "2021-09-23T18:38:34.086429Z",
     "iopub.status.idle": "2021-09-23T18:38:34.088321Z",
     "shell.execute_reply": "2021-09-23T18:38:34.088729Z",
     "shell.execute_reply.started": "2021-09-23T18:14:44.023626Z"
    },
    "id": "sMS3blPQfkD5",
    "papermill": {
     "duration": 0.064923,
     "end_time": "2021-09-23T18:38:34.088854",
     "exception": false,
     "start_time": "2021-09-23T18:38:34.023931",
     "status": "completed"
    },
    "tags": []
   },
   "outputs": [],
   "source": [
    "sampler = optuna.samplers.CmaEsSampler(\n",
    "    warn_independent_sampling=False,\n",
    "    independent_sampler=optuna.samplers.TPESampler()\n",
    ")"
   ]
  },
  {
   "cell_type": "markdown",
   "id": "b6062c10",
   "metadata": {
    "id": "Hm4sWHu3fkD6",
    "papermill": {
     "duration": 0.056855,
     "end_time": "2021-09-23T18:38:34.201508",
     "exception": false,
     "start_time": "2021-09-23T18:38:34.144653",
     "status": "completed"
    },
    "tags": []
   },
   "source": [
    "This uses the CMA-ES algorithm {cite}`hansen2016cma` with TPE for searching dynamically constructed hyperparameters (as CMA-ES requires that parameters are specified prior to the optimization). "
   ]
  },
  {
   "cell_type": "markdown",
   "id": "0698f683",
   "metadata": {
    "id": "AN93Al8mcMwp",
    "papermill": {
     "duration": 0.056664,
     "end_time": "2021-09-23T18:38:34.315377",
     "exception": false,
     "start_time": "2021-09-23T18:38:34.258713",
     "status": "completed"
    },
    "tags": []
   },
   "source": [
    "### Visualizations"
   ]
  },
  {
   "cell_type": "markdown",
   "id": "b415aa90",
   "metadata": {
    "id": "YZ2Pxq8UcMwq",
    "papermill": {
     "duration": 0.05763,
     "end_time": "2021-09-23T18:38:34.429297",
     "exception": false,
     "start_time": "2021-09-23T18:38:34.371667",
     "status": "completed"
    },
    "tags": []
   },
   "source": [
    "Optuna provides visualization functions in the `optuna.visualization` library [^ref4]. The following plot shows the best objective value found as the trials progress. The increasing trend in accuracy indicates that the TPE sampler is working well, i.e. the search algorithm learns from previous trials.\n",
    "\n",
    "[^ref4]: See [Optuna dashboard](https://github.com/optuna/optuna-dashboard) which displays the same plots that are updated in real-time."
   ]
  },
  {
   "cell_type": "code",
   "execution_count": 8,
   "id": "2050c2ed",
   "metadata": {
    "execution": {
     "iopub.execute_input": "2021-09-23T18:38:34.546829Z",
     "iopub.status.busy": "2021-09-23T18:38:34.546273Z",
     "iopub.status.idle": "2021-09-23T18:38:34.646794Z",
     "shell.execute_reply": "2021-09-23T18:38:34.647257Z",
     "shell.execute_reply.started": "2021-09-23T18:14:44.031196Z"
    },
    "id": "eKyxRYrDcMwq",
    "outputId": "2be04ffa-4917-47bb-ddbc-f40786fc203c",
    "papermill": {
     "duration": 0.161599,
     "end_time": "2021-09-23T18:38:34.647400",
     "exception": false,
     "start_time": "2021-09-23T18:38:34.485801",
     "status": "completed"
    },
    "tags": []
   },
   "outputs": [
    {
     "data": {
      "text/html": [
       "        <script type=\"text/javascript\">\n",
       "        window.PlotlyConfig = {MathJaxConfig: 'local'};\n",
       "        if (window.MathJax) {MathJax.Hub.Config({SVG: {font: \"STIX-Web\"}});}\n",
       "        if (typeof require !== 'undefined') {\n",
       "        require.undef(\"plotly\");\n",
       "        requirejs.config({\n",
       "            paths: {\n",
       "                'plotly': ['https://cdn.plot.ly/plotly-2.4.2.min']\n",
       "            }\n",
       "        });\n",
       "        require(['plotly'], function(Plotly) {\n",
       "            window._Plotly = Plotly;\n",
       "        });\n",
       "        }\n",
       "        </script>\n",
       "        "
      ]
     },
     "metadata": {},
     "output_type": "display_data"
    },
    {
     "data": {
      "text/html": [
       "<div>                            <div id=\"57b45dba-cb2a-45a1-a7b8-61c72980578d\" class=\"plotly-graph-div\" style=\"height:525px; width:100%;\"></div>            <script type=\"text/javascript\">                require([\"plotly\"], function(Plotly) {                    window.PLOTLYENV=window.PLOTLYENV || {};                                    if (document.getElementById(\"57b45dba-cb2a-45a1-a7b8-61c72980578d\")) {                    Plotly.newPlot(                        \"57b45dba-cb2a-45a1-a7b8-61c72980578d\",                        [{\"mode\":\"markers\",\"name\":\"Objective Value\",\"type\":\"scatter\",\"x\":[0,1,2,3,4,5,6,7,8,9,10,11,12,13,14,15,16,17,18,19,20,21,22,23,24,25,26,27,28,29,30,31,32,33,34,35,36,37,38,39,40,41,42,43,44,45,46,47,48,49,50,51,52,53,54,55,56,57,58,59],\"y\":[0.9648967551622418,0.9508150908244062,0.9613724576929048,0.9596180717279925,0.9525694767893184,0.9596180717279925,0.9508150908244062,0.9560937742586555,0.956078248719143,0.9525694767893184,0.9631268436578171,0.9631268436578171,0.95960254618848,0.95960254618848,0.9543393882937432,0.9631423691973297,0.9596180717279925,0.9613724576929048,0.9613724576929048,0.95960254618848,0.9613569321533924,0.9578481602235677,0.9613879832324173,0.9613879832324173,0.9613724576929048,0.95960254618848,0.9613879832324173,0.9613724576929048,0.95960254618848,0.9613879832324173,0.9613724576929048,0.9613879832324173,0.9631268436578171,0.9631423691973297,0.9613879832324173,0.9631423691973297,0.9648967551622418,0.9596180717279925,0.9578792113025927,0.959633597267505,0.9595870206489675,0.9578481602235677,0.9596180717279925,0.9648967551622418,0.9631423691973294,0.9613879832324173,0.9613879832324173,0.95960254618848,0.9596491228070174,0.9613724576929048,0.9613724576929048,0.9631423691973297,0.9578481602235677,0.9666511411271541,0.9596180717279925,0.9666511411271541,0.9613879832324173,0.9613724576929048,0.9631268436578171,0.9578481602235677]},{\"name\":\"Best Value\",\"type\":\"scatter\",\"x\":[0,1,2,3,4,5,6,7,8,9,10,11,12,13,14,15,16,17,18,19,20,21,22,23,24,25,26,27,28,29,30,31,32,33,34,35,36,37,38,39,40,41,42,43,44,45,46,47,48,49,50,51,52,53,54,55,56,57,58,59],\"y\":[0.9648967551622418,0.9648967551622418,0.9648967551622418,0.9648967551622418,0.9648967551622418,0.9648967551622418,0.9648967551622418,0.9648967551622418,0.9648967551622418,0.9648967551622418,0.9648967551622418,0.9648967551622418,0.9648967551622418,0.9648967551622418,0.9648967551622418,0.9648967551622418,0.9648967551622418,0.9648967551622418,0.9648967551622418,0.9648967551622418,0.9648967551622418,0.9648967551622418,0.9648967551622418,0.9648967551622418,0.9648967551622418,0.9648967551622418,0.9648967551622418,0.9648967551622418,0.9648967551622418,0.9648967551622418,0.9648967551622418,0.9648967551622418,0.9648967551622418,0.9648967551622418,0.9648967551622418,0.9648967551622418,0.9648967551622418,0.9648967551622418,0.9648967551622418,0.9648967551622418,0.9648967551622418,0.9648967551622418,0.9648967551622418,0.9648967551622418,0.9648967551622418,0.9648967551622418,0.9648967551622418,0.9648967551622418,0.9648967551622418,0.9648967551622418,0.9648967551622418,0.9648967551622418,0.9648967551622418,0.9666511411271541,0.9666511411271541,0.9666511411271541,0.9666511411271541,0.9666511411271541,0.9666511411271541,0.9666511411271541]}],                        {\"template\":{\"data\":{\"bar\":[{\"error_x\":{\"color\":\"#2a3f5f\"},\"error_y\":{\"color\":\"#2a3f5f\"},\"marker\":{\"line\":{\"color\":\"#E5ECF6\",\"width\":0.5},\"pattern\":{\"fillmode\":\"overlay\",\"size\":10,\"solidity\":0.2}},\"type\":\"bar\"}],\"barpolar\":[{\"marker\":{\"line\":{\"color\":\"#E5ECF6\",\"width\":0.5},\"pattern\":{\"fillmode\":\"overlay\",\"size\":10,\"solidity\":0.2}},\"type\":\"barpolar\"}],\"carpet\":[{\"aaxis\":{\"endlinecolor\":\"#2a3f5f\",\"gridcolor\":\"white\",\"linecolor\":\"white\",\"minorgridcolor\":\"white\",\"startlinecolor\":\"#2a3f5f\"},\"baxis\":{\"endlinecolor\":\"#2a3f5f\",\"gridcolor\":\"white\",\"linecolor\":\"white\",\"minorgridcolor\":\"white\",\"startlinecolor\":\"#2a3f5f\"},\"type\":\"carpet\"}],\"choropleth\":[{\"colorbar\":{\"outlinewidth\":0,\"ticks\":\"\"},\"type\":\"choropleth\"}],\"contour\":[{\"colorbar\":{\"outlinewidth\":0,\"ticks\":\"\"},\"colorscale\":[[0.0,\"#0d0887\"],[0.1111111111111111,\"#46039f\"],[0.2222222222222222,\"#7201a8\"],[0.3333333333333333,\"#9c179e\"],[0.4444444444444444,\"#bd3786\"],[0.5555555555555556,\"#d8576b\"],[0.6666666666666666,\"#ed7953\"],[0.7777777777777778,\"#fb9f3a\"],[0.8888888888888888,\"#fdca26\"],[1.0,\"#f0f921\"]],\"type\":\"contour\"}],\"contourcarpet\":[{\"colorbar\":{\"outlinewidth\":0,\"ticks\":\"\"},\"type\":\"contourcarpet\"}],\"heatmap\":[{\"colorbar\":{\"outlinewidth\":0,\"ticks\":\"\"},\"colorscale\":[[0.0,\"#0d0887\"],[0.1111111111111111,\"#46039f\"],[0.2222222222222222,\"#7201a8\"],[0.3333333333333333,\"#9c179e\"],[0.4444444444444444,\"#bd3786\"],[0.5555555555555556,\"#d8576b\"],[0.6666666666666666,\"#ed7953\"],[0.7777777777777778,\"#fb9f3a\"],[0.8888888888888888,\"#fdca26\"],[1.0,\"#f0f921\"]],\"type\":\"heatmap\"}],\"heatmapgl\":[{\"colorbar\":{\"outlinewidth\":0,\"ticks\":\"\"},\"colorscale\":[[0.0,\"#0d0887\"],[0.1111111111111111,\"#46039f\"],[0.2222222222222222,\"#7201a8\"],[0.3333333333333333,\"#9c179e\"],[0.4444444444444444,\"#bd3786\"],[0.5555555555555556,\"#d8576b\"],[0.6666666666666666,\"#ed7953\"],[0.7777777777777778,\"#fb9f3a\"],[0.8888888888888888,\"#fdca26\"],[1.0,\"#f0f921\"]],\"type\":\"heatmapgl\"}],\"histogram\":[{\"marker\":{\"pattern\":{\"fillmode\":\"overlay\",\"size\":10,\"solidity\":0.2}},\"type\":\"histogram\"}],\"histogram2d\":[{\"colorbar\":{\"outlinewidth\":0,\"ticks\":\"\"},\"colorscale\":[[0.0,\"#0d0887\"],[0.1111111111111111,\"#46039f\"],[0.2222222222222222,\"#7201a8\"],[0.3333333333333333,\"#9c179e\"],[0.4444444444444444,\"#bd3786\"],[0.5555555555555556,\"#d8576b\"],[0.6666666666666666,\"#ed7953\"],[0.7777777777777778,\"#fb9f3a\"],[0.8888888888888888,\"#fdca26\"],[1.0,\"#f0f921\"]],\"type\":\"histogram2d\"}],\"histogram2dcontour\":[{\"colorbar\":{\"outlinewidth\":0,\"ticks\":\"\"},\"colorscale\":[[0.0,\"#0d0887\"],[0.1111111111111111,\"#46039f\"],[0.2222222222222222,\"#7201a8\"],[0.3333333333333333,\"#9c179e\"],[0.4444444444444444,\"#bd3786\"],[0.5555555555555556,\"#d8576b\"],[0.6666666666666666,\"#ed7953\"],[0.7777777777777778,\"#fb9f3a\"],[0.8888888888888888,\"#fdca26\"],[1.0,\"#f0f921\"]],\"type\":\"histogram2dcontour\"}],\"mesh3d\":[{\"colorbar\":{\"outlinewidth\":0,\"ticks\":\"\"},\"type\":\"mesh3d\"}],\"parcoords\":[{\"line\":{\"colorbar\":{\"outlinewidth\":0,\"ticks\":\"\"}},\"type\":\"parcoords\"}],\"pie\":[{\"automargin\":true,\"type\":\"pie\"}],\"scatter\":[{\"marker\":{\"colorbar\":{\"outlinewidth\":0,\"ticks\":\"\"}},\"type\":\"scatter\"}],\"scatter3d\":[{\"line\":{\"colorbar\":{\"outlinewidth\":0,\"ticks\":\"\"}},\"marker\":{\"colorbar\":{\"outlinewidth\":0,\"ticks\":\"\"}},\"type\":\"scatter3d\"}],\"scattercarpet\":[{\"marker\":{\"colorbar\":{\"outlinewidth\":0,\"ticks\":\"\"}},\"type\":\"scattercarpet\"}],\"scattergeo\":[{\"marker\":{\"colorbar\":{\"outlinewidth\":0,\"ticks\":\"\"}},\"type\":\"scattergeo\"}],\"scattergl\":[{\"marker\":{\"colorbar\":{\"outlinewidth\":0,\"ticks\":\"\"}},\"type\":\"scattergl\"}],\"scattermapbox\":[{\"marker\":{\"colorbar\":{\"outlinewidth\":0,\"ticks\":\"\"}},\"type\":\"scattermapbox\"}],\"scatterpolar\":[{\"marker\":{\"colorbar\":{\"outlinewidth\":0,\"ticks\":\"\"}},\"type\":\"scatterpolar\"}],\"scatterpolargl\":[{\"marker\":{\"colorbar\":{\"outlinewidth\":0,\"ticks\":\"\"}},\"type\":\"scatterpolargl\"}],\"scatterternary\":[{\"marker\":{\"colorbar\":{\"outlinewidth\":0,\"ticks\":\"\"}},\"type\":\"scatterternary\"}],\"surface\":[{\"colorbar\":{\"outlinewidth\":0,\"ticks\":\"\"},\"colorscale\":[[0.0,\"#0d0887\"],[0.1111111111111111,\"#46039f\"],[0.2222222222222222,\"#7201a8\"],[0.3333333333333333,\"#9c179e\"],[0.4444444444444444,\"#bd3786\"],[0.5555555555555556,\"#d8576b\"],[0.6666666666666666,\"#ed7953\"],[0.7777777777777778,\"#fb9f3a\"],[0.8888888888888888,\"#fdca26\"],[1.0,\"#f0f921\"]],\"type\":\"surface\"}],\"table\":[{\"cells\":{\"fill\":{\"color\":\"#EBF0F8\"},\"line\":{\"color\":\"white\"}},\"header\":{\"fill\":{\"color\":\"#C8D4E3\"},\"line\":{\"color\":\"white\"}},\"type\":\"table\"}]},\"layout\":{\"annotationdefaults\":{\"arrowcolor\":\"#2a3f5f\",\"arrowhead\":0,\"arrowwidth\":1},\"autotypenumbers\":\"strict\",\"coloraxis\":{\"colorbar\":{\"outlinewidth\":0,\"ticks\":\"\"}},\"colorscale\":{\"diverging\":[[0,\"#8e0152\"],[0.1,\"#c51b7d\"],[0.2,\"#de77ae\"],[0.3,\"#f1b6da\"],[0.4,\"#fde0ef\"],[0.5,\"#f7f7f7\"],[0.6,\"#e6f5d0\"],[0.7,\"#b8e186\"],[0.8,\"#7fbc41\"],[0.9,\"#4d9221\"],[1,\"#276419\"]],\"sequential\":[[0.0,\"#0d0887\"],[0.1111111111111111,\"#46039f\"],[0.2222222222222222,\"#7201a8\"],[0.3333333333333333,\"#9c179e\"],[0.4444444444444444,\"#bd3786\"],[0.5555555555555556,\"#d8576b\"],[0.6666666666666666,\"#ed7953\"],[0.7777777777777778,\"#fb9f3a\"],[0.8888888888888888,\"#fdca26\"],[1.0,\"#f0f921\"]],\"sequentialminus\":[[0.0,\"#0d0887\"],[0.1111111111111111,\"#46039f\"],[0.2222222222222222,\"#7201a8\"],[0.3333333333333333,\"#9c179e\"],[0.4444444444444444,\"#bd3786\"],[0.5555555555555556,\"#d8576b\"],[0.6666666666666666,\"#ed7953\"],[0.7777777777777778,\"#fb9f3a\"],[0.8888888888888888,\"#fdca26\"],[1.0,\"#f0f921\"]]},\"colorway\":[\"#636efa\",\"#EF553B\",\"#00cc96\",\"#ab63fa\",\"#FFA15A\",\"#19d3f3\",\"#FF6692\",\"#B6E880\",\"#FF97FF\",\"#FECB52\"],\"font\":{\"color\":\"#2a3f5f\"},\"geo\":{\"bgcolor\":\"white\",\"lakecolor\":\"white\",\"landcolor\":\"#E5ECF6\",\"showlakes\":true,\"showland\":true,\"subunitcolor\":\"white\"},\"hoverlabel\":{\"align\":\"left\"},\"hovermode\":\"closest\",\"mapbox\":{\"style\":\"light\"},\"paper_bgcolor\":\"white\",\"plot_bgcolor\":\"#E5ECF6\",\"polar\":{\"angularaxis\":{\"gridcolor\":\"white\",\"linecolor\":\"white\",\"ticks\":\"\"},\"bgcolor\":\"#E5ECF6\",\"radialaxis\":{\"gridcolor\":\"white\",\"linecolor\":\"white\",\"ticks\":\"\"}},\"scene\":{\"xaxis\":{\"backgroundcolor\":\"#E5ECF6\",\"gridcolor\":\"white\",\"gridwidth\":2,\"linecolor\":\"white\",\"showbackground\":true,\"ticks\":\"\",\"zerolinecolor\":\"white\"},\"yaxis\":{\"backgroundcolor\":\"#E5ECF6\",\"gridcolor\":\"white\",\"gridwidth\":2,\"linecolor\":\"white\",\"showbackground\":true,\"ticks\":\"\",\"zerolinecolor\":\"white\"},\"zaxis\":{\"backgroundcolor\":\"#E5ECF6\",\"gridcolor\":\"white\",\"gridwidth\":2,\"linecolor\":\"white\",\"showbackground\":true,\"ticks\":\"\",\"zerolinecolor\":\"white\"}},\"shapedefaults\":{\"line\":{\"color\":\"#2a3f5f\"}},\"ternary\":{\"aaxis\":{\"gridcolor\":\"white\",\"linecolor\":\"white\",\"ticks\":\"\"},\"baxis\":{\"gridcolor\":\"white\",\"linecolor\":\"white\",\"ticks\":\"\"},\"bgcolor\":\"#E5ECF6\",\"caxis\":{\"gridcolor\":\"white\",\"linecolor\":\"white\",\"ticks\":\"\"}},\"title\":{\"x\":0.05},\"xaxis\":{\"automargin\":true,\"gridcolor\":\"white\",\"linecolor\":\"white\",\"ticks\":\"\",\"title\":{\"standoff\":15},\"zerolinecolor\":\"white\",\"zerolinewidth\":2},\"yaxis\":{\"automargin\":true,\"gridcolor\":\"white\",\"linecolor\":\"white\",\"ticks\":\"\",\"title\":{\"standoff\":15},\"zerolinecolor\":\"white\",\"zerolinewidth\":2}}},\"title\":{\"text\":\"Optimization History Plot\"},\"xaxis\":{\"title\":{\"text\":\"#Trials\"}},\"yaxis\":{\"title\":{\"text\":\"Objective Value\"}}},                        {\"responsive\": true}                    ).then(function(){\n",
       "                            \n",
       "var gd = document.getElementById('57b45dba-cb2a-45a1-a7b8-61c72980578d');\n",
       "var x = new MutationObserver(function (mutations, observer) {{\n",
       "        var display = window.getComputedStyle(gd).display;\n",
       "        if (!display || display === 'none') {{\n",
       "            console.log([gd, 'removed!']);\n",
       "            Plotly.purge(gd);\n",
       "            observer.disconnect();\n",
       "        }}\n",
       "}});\n",
       "\n",
       "// Listen for the removal of the full notebook cells\n",
       "var notebookContainer = gd.closest('#notebook-container');\n",
       "if (notebookContainer) {{\n",
       "    x.observe(notebookContainer, {childList: true});\n",
       "}}\n",
       "\n",
       "// Listen for the clearing of the current output cell\n",
       "var outputEl = gd.closest('.output');\n",
       "if (outputEl) {{\n",
       "    x.observe(outputEl, {childList: true});\n",
       "}}\n",
       "\n",
       "                        })                };                });            </script>        </div>"
      ]
     },
     "metadata": {},
     "output_type": "display_data"
    }
   ],
   "source": [
    "optuna.visualization.plot_optimization_history(study)"
   ]
  },
  {
   "cell_type": "markdown",
   "id": "8ca337a1",
   "metadata": {
    "id": "TjeqUb4ycMws",
    "papermill": {
     "duration": 0.057126,
     "end_time": "2021-09-23T18:38:34.762775",
     "exception": false,
     "start_time": "2021-09-23T18:38:34.705649",
     "status": "completed"
    },
    "tags": []
   },
   "source": [
    "The **parallel coordinate plot** gives us a feel of how the hyperparameters interact. For instance, `max_features` around 0.5 with `n_estimators` around 280 and `max_depth` around 20 generally perform well. This setting includes the best performing hyperparameters. To isolate subsets of lines, use the interactive capabilities of the plot below by dragging on each axis to restrict it. See {ref}`figure <optuna-restrict-rf>` immediately below."
   ]
  },
  {
   "cell_type": "code",
   "execution_count": 9,
   "id": "ae143015",
   "metadata": {
    "execution": {
     "iopub.execute_input": "2021-09-23T18:38:34.889964Z",
     "iopub.status.busy": "2021-09-23T18:38:34.889250Z",
     "iopub.status.idle": "2021-09-23T18:38:34.943899Z",
     "shell.execute_reply": "2021-09-23T18:38:34.943491Z",
     "shell.execute_reply.started": "2021-09-23T18:14:44.141415Z"
    },
    "id": "dRj1KRqPYkuX",
    "outputId": "01e53e57-adb4-402e-d9a1-0f46b0b25e3d",
    "papermill": {
     "duration": 0.124146,
     "end_time": "2021-09-23T18:38:34.944028",
     "exception": false,
     "start_time": "2021-09-23T18:38:34.819882",
     "status": "completed"
    },
    "tags": []
   },
   "outputs": [
    {
     "data": {
      "text/html": [
       "<div>                            <div id=\"1ba35eb2-2e1a-4a12-a5a1-bc1997b3e927\" class=\"plotly-graph-div\" style=\"height:525px; width:100%;\"></div>            <script type=\"text/javascript\">                require([\"plotly\"], function(Plotly) {                    window.PLOTLYENV=window.PLOTLYENV || {};                                    if (document.getElementById(\"1ba35eb2-2e1a-4a12-a5a1-bc1997b3e927\")) {                    Plotly.newPlot(                        \"1ba35eb2-2e1a-4a12-a5a1-bc1997b3e927\",                        [{\"dimensions\":[{\"label\":\"Objective Value\",\"range\":[0.9508150908244062,0.9666511411271541],\"values\":[0.9648967551622418,0.9508150908244062,0.9613724576929048,0.9596180717279925,0.9525694767893184,0.9596180717279925,0.9508150908244062,0.9560937742586555,0.956078248719143,0.9525694767893184,0.9631268436578171,0.9631268436578171,0.95960254618848,0.95960254618848,0.9543393882937432,0.9631423691973297,0.9596180717279925,0.9613724576929048,0.9613724576929048,0.95960254618848,0.9613569321533924,0.9578481602235677,0.9613879832324173,0.9613879832324173,0.9613724576929048,0.95960254618848,0.9613879832324173,0.9613724576929048,0.95960254618848,0.9613879832324173,0.9613724576929048,0.9613879832324173,0.9631268436578171,0.9631423691973297,0.9613879832324173,0.9631423691973297,0.9648967551622418,0.9596180717279925,0.9578792113025927,0.959633597267505,0.9595870206489675,0.9578481602235677,0.9596180717279925,0.9648967551622418,0.9631423691973294,0.9613879832324173,0.9613879832324173,0.95960254618848,0.9596491228070174,0.9613724576929048,0.9613724576929048,0.9631423691973297,0.9578481602235677,0.9666511411271541,0.9596180717279925,0.9666511411271541,0.9613879832324173,0.9613724576929048,0.9631268436578171,0.9578481602235677]},{\"label\":\"max_depth\",\"range\":[2,127],\"values\":[40,2,14,74,2,55,2,4,3,2,25,28,30,127,10,16,9,17,6,63,47,29,20,35,21,9,98,36,42,11,15,22,30,23,7,14,14,12,17,6,4,14,13,17,23,54,76,8,19,5,16,25,37,26,26,11,45,11,19,32]},{\"label\":\"max_features\",\"range\":[0.11275314554110305,0.9817045480429595],\"values\":[0.5003993482364034,0.7683941488506071,0.6467970442529462,0.692164512230914,0.9817045480429595,0.7694375521775094,0.26821883166494553,0.5844525375969316,0.34610518121917144,0.8674516769779563,0.4052969957012931,0.4218094997410249,0.11275314554110305,0.46557134078167095,0.19715094487237206,0.5155621421999611,0.49465628637668074,0.5989024541428132,0.5285597129099331,0.2731071853961444,0.343056306708282,0.4453867042486164,0.38670291308379157,0.5296879978222573,0.6760392677549009,0.29521666997025797,0.3870504380676449,0.5844817089647207,0.4503712663229084,0.7431405479990221,0.8188434081002719,0.39423824682376823,0.42768218904251415,0.5066968990255127,0.636536719526963,0.5022629129714143,0.5130117326554974,0.5665321143967493,0.725007057453356,0.6357499679451811,0.5565525309205199,0.49476664234669915,0.4892700064621473,0.5268476671963307,0.6208156180005706,0.6731486210297581,0.5588296022707138,0.46938258346956085,0.9730379047724134,0.35498772663257794,0.6051182313071413,0.5252953889292916,0.49807921622626433,0.5214614834753933,0.5551585713582305,0.5241383906335051,0.5333826455220547,0.4367367741089925,0.5943502349334594,0.46799576377319135]},{\"label\":\"n_estimators\",\"range\":[104,798],\"values\":[318,706,745,258,514,334,305,136,426,736,548,567,614,426,151,487,219,353,473,632,401,576,488,526,662,798,370,258,586,471,659,551,554,511,384,507,303,302,179,310,260,440,511,408,328,104,273,408,204,340,453,503,410,367,363,287,289,233,332,379]}],\"labelangle\":30,\"labelside\":\"bottom\",\"line\":{\"color\":[0.9648967551622418,0.9508150908244062,0.9613724576929048,0.9596180717279925,0.9525694767893184,0.9596180717279925,0.9508150908244062,0.9560937742586555,0.956078248719143,0.9525694767893184,0.9631268436578171,0.9631268436578171,0.95960254618848,0.95960254618848,0.9543393882937432,0.9631423691973297,0.9596180717279925,0.9613724576929048,0.9613724576929048,0.95960254618848,0.9613569321533924,0.9578481602235677,0.9613879832324173,0.9613879832324173,0.9613724576929048,0.95960254618848,0.9613879832324173,0.9613724576929048,0.95960254618848,0.9613879832324173,0.9613724576929048,0.9613879832324173,0.9631268436578171,0.9631423691973297,0.9613879832324173,0.9631423691973297,0.9648967551622418,0.9596180717279925,0.9578792113025927,0.959633597267505,0.9595870206489675,0.9578481602235677,0.9596180717279925,0.9648967551622418,0.9631423691973294,0.9613879832324173,0.9613879832324173,0.95960254618848,0.9596491228070174,0.9613724576929048,0.9613724576929048,0.9631423691973297,0.9578481602235677,0.9666511411271541,0.9596180717279925,0.9666511411271541,0.9613879832324173,0.9613724576929048,0.9631268436578171,0.9578481602235677],\"colorbar\":{\"title\":{\"text\":\"Objective Value\"}},\"colorscale\":[[0.0,\"rgb(247,251,255)\"],[0.125,\"rgb(222,235,247)\"],[0.25,\"rgb(198,219,239)\"],[0.375,\"rgb(158,202,225)\"],[0.5,\"rgb(107,174,214)\"],[0.625,\"rgb(66,146,198)\"],[0.75,\"rgb(33,113,181)\"],[0.875,\"rgb(8,81,156)\"],[1.0,\"rgb(8,48,107)\"]],\"reversescale\":false,\"showscale\":true},\"type\":\"parcoords\"}],                        {\"template\":{\"data\":{\"bar\":[{\"error_x\":{\"color\":\"#2a3f5f\"},\"error_y\":{\"color\":\"#2a3f5f\"},\"marker\":{\"line\":{\"color\":\"#E5ECF6\",\"width\":0.5},\"pattern\":{\"fillmode\":\"overlay\",\"size\":10,\"solidity\":0.2}},\"type\":\"bar\"}],\"barpolar\":[{\"marker\":{\"line\":{\"color\":\"#E5ECF6\",\"width\":0.5},\"pattern\":{\"fillmode\":\"overlay\",\"size\":10,\"solidity\":0.2}},\"type\":\"barpolar\"}],\"carpet\":[{\"aaxis\":{\"endlinecolor\":\"#2a3f5f\",\"gridcolor\":\"white\",\"linecolor\":\"white\",\"minorgridcolor\":\"white\",\"startlinecolor\":\"#2a3f5f\"},\"baxis\":{\"endlinecolor\":\"#2a3f5f\",\"gridcolor\":\"white\",\"linecolor\":\"white\",\"minorgridcolor\":\"white\",\"startlinecolor\":\"#2a3f5f\"},\"type\":\"carpet\"}],\"choropleth\":[{\"colorbar\":{\"outlinewidth\":0,\"ticks\":\"\"},\"type\":\"choropleth\"}],\"contour\":[{\"colorbar\":{\"outlinewidth\":0,\"ticks\":\"\"},\"colorscale\":[[0.0,\"#0d0887\"],[0.1111111111111111,\"#46039f\"],[0.2222222222222222,\"#7201a8\"],[0.3333333333333333,\"#9c179e\"],[0.4444444444444444,\"#bd3786\"],[0.5555555555555556,\"#d8576b\"],[0.6666666666666666,\"#ed7953\"],[0.7777777777777778,\"#fb9f3a\"],[0.8888888888888888,\"#fdca26\"],[1.0,\"#f0f921\"]],\"type\":\"contour\"}],\"contourcarpet\":[{\"colorbar\":{\"outlinewidth\":0,\"ticks\":\"\"},\"type\":\"contourcarpet\"}],\"heatmap\":[{\"colorbar\":{\"outlinewidth\":0,\"ticks\":\"\"},\"colorscale\":[[0.0,\"#0d0887\"],[0.1111111111111111,\"#46039f\"],[0.2222222222222222,\"#7201a8\"],[0.3333333333333333,\"#9c179e\"],[0.4444444444444444,\"#bd3786\"],[0.5555555555555556,\"#d8576b\"],[0.6666666666666666,\"#ed7953\"],[0.7777777777777778,\"#fb9f3a\"],[0.8888888888888888,\"#fdca26\"],[1.0,\"#f0f921\"]],\"type\":\"heatmap\"}],\"heatmapgl\":[{\"colorbar\":{\"outlinewidth\":0,\"ticks\":\"\"},\"colorscale\":[[0.0,\"#0d0887\"],[0.1111111111111111,\"#46039f\"],[0.2222222222222222,\"#7201a8\"],[0.3333333333333333,\"#9c179e\"],[0.4444444444444444,\"#bd3786\"],[0.5555555555555556,\"#d8576b\"],[0.6666666666666666,\"#ed7953\"],[0.7777777777777778,\"#fb9f3a\"],[0.8888888888888888,\"#fdca26\"],[1.0,\"#f0f921\"]],\"type\":\"heatmapgl\"}],\"histogram\":[{\"marker\":{\"pattern\":{\"fillmode\":\"overlay\",\"size\":10,\"solidity\":0.2}},\"type\":\"histogram\"}],\"histogram2d\":[{\"colorbar\":{\"outlinewidth\":0,\"ticks\":\"\"},\"colorscale\":[[0.0,\"#0d0887\"],[0.1111111111111111,\"#46039f\"],[0.2222222222222222,\"#7201a8\"],[0.3333333333333333,\"#9c179e\"],[0.4444444444444444,\"#bd3786\"],[0.5555555555555556,\"#d8576b\"],[0.6666666666666666,\"#ed7953\"],[0.7777777777777778,\"#fb9f3a\"],[0.8888888888888888,\"#fdca26\"],[1.0,\"#f0f921\"]],\"type\":\"histogram2d\"}],\"histogram2dcontour\":[{\"colorbar\":{\"outlinewidth\":0,\"ticks\":\"\"},\"colorscale\":[[0.0,\"#0d0887\"],[0.1111111111111111,\"#46039f\"],[0.2222222222222222,\"#7201a8\"],[0.3333333333333333,\"#9c179e\"],[0.4444444444444444,\"#bd3786\"],[0.5555555555555556,\"#d8576b\"],[0.6666666666666666,\"#ed7953\"],[0.7777777777777778,\"#fb9f3a\"],[0.8888888888888888,\"#fdca26\"],[1.0,\"#f0f921\"]],\"type\":\"histogram2dcontour\"}],\"mesh3d\":[{\"colorbar\":{\"outlinewidth\":0,\"ticks\":\"\"},\"type\":\"mesh3d\"}],\"parcoords\":[{\"line\":{\"colorbar\":{\"outlinewidth\":0,\"ticks\":\"\"}},\"type\":\"parcoords\"}],\"pie\":[{\"automargin\":true,\"type\":\"pie\"}],\"scatter\":[{\"marker\":{\"colorbar\":{\"outlinewidth\":0,\"ticks\":\"\"}},\"type\":\"scatter\"}],\"scatter3d\":[{\"line\":{\"colorbar\":{\"outlinewidth\":0,\"ticks\":\"\"}},\"marker\":{\"colorbar\":{\"outlinewidth\":0,\"ticks\":\"\"}},\"type\":\"scatter3d\"}],\"scattercarpet\":[{\"marker\":{\"colorbar\":{\"outlinewidth\":0,\"ticks\":\"\"}},\"type\":\"scattercarpet\"}],\"scattergeo\":[{\"marker\":{\"colorbar\":{\"outlinewidth\":0,\"ticks\":\"\"}},\"type\":\"scattergeo\"}],\"scattergl\":[{\"marker\":{\"colorbar\":{\"outlinewidth\":0,\"ticks\":\"\"}},\"type\":\"scattergl\"}],\"scattermapbox\":[{\"marker\":{\"colorbar\":{\"outlinewidth\":0,\"ticks\":\"\"}},\"type\":\"scattermapbox\"}],\"scatterpolar\":[{\"marker\":{\"colorbar\":{\"outlinewidth\":0,\"ticks\":\"\"}},\"type\":\"scatterpolar\"}],\"scatterpolargl\":[{\"marker\":{\"colorbar\":{\"outlinewidth\":0,\"ticks\":\"\"}},\"type\":\"scatterpolargl\"}],\"scatterternary\":[{\"marker\":{\"colorbar\":{\"outlinewidth\":0,\"ticks\":\"\"}},\"type\":\"scatterternary\"}],\"surface\":[{\"colorbar\":{\"outlinewidth\":0,\"ticks\":\"\"},\"colorscale\":[[0.0,\"#0d0887\"],[0.1111111111111111,\"#46039f\"],[0.2222222222222222,\"#7201a8\"],[0.3333333333333333,\"#9c179e\"],[0.4444444444444444,\"#bd3786\"],[0.5555555555555556,\"#d8576b\"],[0.6666666666666666,\"#ed7953\"],[0.7777777777777778,\"#fb9f3a\"],[0.8888888888888888,\"#fdca26\"],[1.0,\"#f0f921\"]],\"type\":\"surface\"}],\"table\":[{\"cells\":{\"fill\":{\"color\":\"#EBF0F8\"},\"line\":{\"color\":\"white\"}},\"header\":{\"fill\":{\"color\":\"#C8D4E3\"},\"line\":{\"color\":\"white\"}},\"type\":\"table\"}]},\"layout\":{\"annotationdefaults\":{\"arrowcolor\":\"#2a3f5f\",\"arrowhead\":0,\"arrowwidth\":1},\"autotypenumbers\":\"strict\",\"coloraxis\":{\"colorbar\":{\"outlinewidth\":0,\"ticks\":\"\"}},\"colorscale\":{\"diverging\":[[0,\"#8e0152\"],[0.1,\"#c51b7d\"],[0.2,\"#de77ae\"],[0.3,\"#f1b6da\"],[0.4,\"#fde0ef\"],[0.5,\"#f7f7f7\"],[0.6,\"#e6f5d0\"],[0.7,\"#b8e186\"],[0.8,\"#7fbc41\"],[0.9,\"#4d9221\"],[1,\"#276419\"]],\"sequential\":[[0.0,\"#0d0887\"],[0.1111111111111111,\"#46039f\"],[0.2222222222222222,\"#7201a8\"],[0.3333333333333333,\"#9c179e\"],[0.4444444444444444,\"#bd3786\"],[0.5555555555555556,\"#d8576b\"],[0.6666666666666666,\"#ed7953\"],[0.7777777777777778,\"#fb9f3a\"],[0.8888888888888888,\"#fdca26\"],[1.0,\"#f0f921\"]],\"sequentialminus\":[[0.0,\"#0d0887\"],[0.1111111111111111,\"#46039f\"],[0.2222222222222222,\"#7201a8\"],[0.3333333333333333,\"#9c179e\"],[0.4444444444444444,\"#bd3786\"],[0.5555555555555556,\"#d8576b\"],[0.6666666666666666,\"#ed7953\"],[0.7777777777777778,\"#fb9f3a\"],[0.8888888888888888,\"#fdca26\"],[1.0,\"#f0f921\"]]},\"colorway\":[\"#636efa\",\"#EF553B\",\"#00cc96\",\"#ab63fa\",\"#FFA15A\",\"#19d3f3\",\"#FF6692\",\"#B6E880\",\"#FF97FF\",\"#FECB52\"],\"font\":{\"color\":\"#2a3f5f\"},\"geo\":{\"bgcolor\":\"white\",\"lakecolor\":\"white\",\"landcolor\":\"#E5ECF6\",\"showlakes\":true,\"showland\":true,\"subunitcolor\":\"white\"},\"hoverlabel\":{\"align\":\"left\"},\"hovermode\":\"closest\",\"mapbox\":{\"style\":\"light\"},\"paper_bgcolor\":\"white\",\"plot_bgcolor\":\"#E5ECF6\",\"polar\":{\"angularaxis\":{\"gridcolor\":\"white\",\"linecolor\":\"white\",\"ticks\":\"\"},\"bgcolor\":\"#E5ECF6\",\"radialaxis\":{\"gridcolor\":\"white\",\"linecolor\":\"white\",\"ticks\":\"\"}},\"scene\":{\"xaxis\":{\"backgroundcolor\":\"#E5ECF6\",\"gridcolor\":\"white\",\"gridwidth\":2,\"linecolor\":\"white\",\"showbackground\":true,\"ticks\":\"\",\"zerolinecolor\":\"white\"},\"yaxis\":{\"backgroundcolor\":\"#E5ECF6\",\"gridcolor\":\"white\",\"gridwidth\":2,\"linecolor\":\"white\",\"showbackground\":true,\"ticks\":\"\",\"zerolinecolor\":\"white\"},\"zaxis\":{\"backgroundcolor\":\"#E5ECF6\",\"gridcolor\":\"white\",\"gridwidth\":2,\"linecolor\":\"white\",\"showbackground\":true,\"ticks\":\"\",\"zerolinecolor\":\"white\"}},\"shapedefaults\":{\"line\":{\"color\":\"#2a3f5f\"}},\"ternary\":{\"aaxis\":{\"gridcolor\":\"white\",\"linecolor\":\"white\",\"ticks\":\"\"},\"baxis\":{\"gridcolor\":\"white\",\"linecolor\":\"white\",\"ticks\":\"\"},\"bgcolor\":\"#E5ECF6\",\"caxis\":{\"gridcolor\":\"white\",\"linecolor\":\"white\",\"ticks\":\"\"}},\"title\":{\"x\":0.05},\"xaxis\":{\"automargin\":true,\"gridcolor\":\"white\",\"linecolor\":\"white\",\"ticks\":\"\",\"title\":{\"standoff\":15},\"zerolinecolor\":\"white\",\"zerolinewidth\":2},\"yaxis\":{\"automargin\":true,\"gridcolor\":\"white\",\"linecolor\":\"white\",\"ticks\":\"\",\"title\":{\"standoff\":15},\"zerolinecolor\":\"white\",\"zerolinewidth\":2}}},\"title\":{\"text\":\"Parallel Coordinate Plot\"}},                        {\"responsive\": true}                    ).then(function(){\n",
       "                            \n",
       "var gd = document.getElementById('1ba35eb2-2e1a-4a12-a5a1-bc1997b3e927');\n",
       "var x = new MutationObserver(function (mutations, observer) {{\n",
       "        var display = window.getComputedStyle(gd).display;\n",
       "        if (!display || display === 'none') {{\n",
       "            console.log([gd, 'removed!']);\n",
       "            Plotly.purge(gd);\n",
       "            observer.disconnect();\n",
       "        }}\n",
       "}});\n",
       "\n",
       "// Listen for the removal of the full notebook cells\n",
       "var notebookContainer = gd.closest('#notebook-container');\n",
       "if (notebookContainer) {{\n",
       "    x.observe(notebookContainer, {childList: true});\n",
       "}}\n",
       "\n",
       "// Listen for the clearing of the current output cell\n",
       "var outputEl = gd.closest('.output');\n",
       "if (outputEl) {{\n",
       "    x.observe(outputEl, {childList: true});\n",
       "}}\n",
       "\n",
       "                        })                };                });            </script>        </div>"
      ]
     },
     "metadata": {},
     "output_type": "display_data"
    }
   ],
   "source": [
    "optuna.visualization.plot_parallel_coordinate(study)"
   ]
  },
  {
   "cell_type": "markdown",
   "id": "430f4bf7",
   "metadata": {
    "id": "a3RxLfaFc5eR",
    "papermill": {
     "duration": 0.058038,
     "end_time": "2021-09-23T18:38:35.059729",
     "exception": false,
     "start_time": "2021-09-23T18:38:35.001691",
     "status": "completed"
    },
    "tags": []
   },
   "source": [
    "```{figure} ../img/optuna-restrict-rf.png\n",
    "---\n",
    "name: optuna-restrict-rf\n",
    "---\n",
    "Using sliders to restrict values for certain parameters.\n",
    "```"
   ]
  },
  {
   "cell_type": "markdown",
   "id": "c609c626",
   "metadata": {
    "id": "JnLBWNAycMwt",
    "papermill": {
     "duration": 0.056419,
     "end_time": "2021-09-23T18:38:35.173925",
     "exception": false,
     "start_time": "2021-09-23T18:38:35.117506",
     "status": "completed"
    },
    "tags": []
   },
   "source": [
    "**Slice plots** project the path of the optimizer in the hyperparameter space on each dimension, then shift along the $y$-axis according on its objective value. A large spread of dark dots indicate that a large range of values of that hyperparameter is feasible even at later stages. Meanwhile, a small spread means that the sampler focuses on a small part of the search space &mdash; in this case, other hyperparameters implicitly improve the objective. For example, the parameter `max_features` is explored at a wide range even at later trials. Hence, we think of this feature as important. Indeed, the importance plot below supports this."
   ]
  },
  {
   "cell_type": "code",
   "execution_count": 10,
   "id": "96c827a1",
   "metadata": {
    "execution": {
     "iopub.execute_input": "2021-09-23T18:38:35.303451Z",
     "iopub.status.busy": "2021-09-23T18:38:35.302646Z",
     "iopub.status.idle": "2021-09-23T18:38:35.490860Z",
     "shell.execute_reply": "2021-09-23T18:38:35.490410Z",
     "shell.execute_reply.started": "2021-09-23T18:14:44.205739Z"
    },
    "id": "PWjlffH3cMwu",
    "outputId": "6e7d716e-22f4-46ae-ca4d-58991287c26e",
    "papermill": {
     "duration": 0.259065,
     "end_time": "2021-09-23T18:38:35.490975",
     "exception": false,
     "start_time": "2021-09-23T18:38:35.231910",
     "status": "completed"
    },
    "tags": []
   },
   "outputs": [
    {
     "data": {
      "text/html": [
       "<div>                            <div id=\"cf5a2875-0ddf-4f41-8b67-7eeb7f071ff6\" class=\"plotly-graph-div\" style=\"height:525px; width:100%;\"></div>            <script type=\"text/javascript\">                require([\"plotly\"], function(Plotly) {                    window.PLOTLYENV=window.PLOTLYENV || {};                                    if (document.getElementById(\"cf5a2875-0ddf-4f41-8b67-7eeb7f071ff6\")) {                    Plotly.newPlot(                        \"cf5a2875-0ddf-4f41-8b67-7eeb7f071ff6\",                        [{\"marker\":{\"color\":[0,1,2,3,4,5,6,7,8,9,10,11,12,13,14,15,16,17,18,19,20,21,22,23,24,25,26,27,28,29,30,31,32,33,34,35,36,37,38,39,40,41,42,43,44,45,46,47,48,49,50,51,52,53,54,55,56,57,58,59],\"colorbar\":{\"title\":{\"text\":\"#Trials\"},\"x\":1.0,\"xpad\":40},\"colorscale\":[[0.0,\"rgb(247,251,255)\"],[0.125,\"rgb(222,235,247)\"],[0.25,\"rgb(198,219,239)\"],[0.375,\"rgb(158,202,225)\"],[0.5,\"rgb(107,174,214)\"],[0.625,\"rgb(66,146,198)\"],[0.75,\"rgb(33,113,181)\"],[0.875,\"rgb(8,81,156)\"],[1.0,\"rgb(8,48,107)\"]],\"line\":{\"color\":\"Grey\",\"width\":0.5},\"showscale\":true},\"mode\":\"markers\",\"showlegend\":false,\"type\":\"scatter\",\"x\":[40,2,14,74,2,55,2,4,3,2,25,28,30,127,10,16,9,17,6,63,47,29,20,35,21,9,98,36,42,11,15,22,30,23,7,14,14,12,17,6,4,14,13,17,23,54,76,8,19,5,16,25,37,26,26,11,45,11,19,32],\"xaxis\":\"x\",\"y\":[0.9648967551622418,0.9508150908244062,0.9613724576929048,0.9596180717279925,0.9525694767893184,0.9596180717279925,0.9508150908244062,0.9560937742586555,0.956078248719143,0.9525694767893184,0.9631268436578171,0.9631268436578171,0.95960254618848,0.95960254618848,0.9543393882937432,0.9631423691973297,0.9596180717279925,0.9613724576929048,0.9613724576929048,0.95960254618848,0.9613569321533924,0.9578481602235677,0.9613879832324173,0.9613879832324173,0.9613724576929048,0.95960254618848,0.9613879832324173,0.9613724576929048,0.95960254618848,0.9613879832324173,0.9613724576929048,0.9613879832324173,0.9631268436578171,0.9631423691973297,0.9613879832324173,0.9631423691973297,0.9648967551622418,0.9596180717279925,0.9578792113025927,0.959633597267505,0.9595870206489675,0.9578481602235677,0.9596180717279925,0.9648967551622418,0.9631423691973294,0.9613879832324173,0.9613879832324173,0.95960254618848,0.9596491228070174,0.9613724576929048,0.9613724576929048,0.9631423691973297,0.9578481602235677,0.9666511411271541,0.9596180717279925,0.9666511411271541,0.9613879832324173,0.9613724576929048,0.9631268436578171,0.9578481602235677],\"yaxis\":\"y\"},{\"marker\":{\"color\":[0,1,2,3,4,5,6,7,8,9,10,11,12,13,14,15,16,17,18,19,20,21,22,23,24,25,26,27,28,29,30,31,32,33,34,35,36,37,38,39,40,41,42,43,44,45,46,47,48,49,50,51,52,53,54,55,56,57,58,59],\"colorbar\":{\"title\":{\"text\":\"#Trials\"},\"x\":1.0,\"xpad\":40},\"colorscale\":[[0.0,\"rgb(247,251,255)\"],[0.125,\"rgb(222,235,247)\"],[0.25,\"rgb(198,219,239)\"],[0.375,\"rgb(158,202,225)\"],[0.5,\"rgb(107,174,214)\"],[0.625,\"rgb(66,146,198)\"],[0.75,\"rgb(33,113,181)\"],[0.875,\"rgb(8,81,156)\"],[1.0,\"rgb(8,48,107)\"]],\"line\":{\"color\":\"Grey\",\"width\":0.5},\"showscale\":false},\"mode\":\"markers\",\"showlegend\":false,\"type\":\"scatter\",\"x\":[0.5003993482364034,0.7683941488506071,0.6467970442529462,0.692164512230914,0.9817045480429595,0.7694375521775094,0.26821883166494553,0.5844525375969316,0.34610518121917144,0.8674516769779563,0.4052969957012931,0.4218094997410249,0.11275314554110305,0.46557134078167095,0.19715094487237206,0.5155621421999611,0.49465628637668074,0.5989024541428132,0.5285597129099331,0.2731071853961444,0.343056306708282,0.4453867042486164,0.38670291308379157,0.5296879978222573,0.6760392677549009,0.29521666997025797,0.3870504380676449,0.5844817089647207,0.4503712663229084,0.7431405479990221,0.8188434081002719,0.39423824682376823,0.42768218904251415,0.5066968990255127,0.636536719526963,0.5022629129714143,0.5130117326554974,0.5665321143967493,0.725007057453356,0.6357499679451811,0.5565525309205199,0.49476664234669915,0.4892700064621473,0.5268476671963307,0.6208156180005706,0.6731486210297581,0.5588296022707138,0.46938258346956085,0.9730379047724134,0.35498772663257794,0.6051182313071413,0.5252953889292916,0.49807921622626433,0.5214614834753933,0.5551585713582305,0.5241383906335051,0.5333826455220547,0.4367367741089925,0.5943502349334594,0.46799576377319135],\"xaxis\":\"x2\",\"y\":[0.9648967551622418,0.9508150908244062,0.9613724576929048,0.9596180717279925,0.9525694767893184,0.9596180717279925,0.9508150908244062,0.9560937742586555,0.956078248719143,0.9525694767893184,0.9631268436578171,0.9631268436578171,0.95960254618848,0.95960254618848,0.9543393882937432,0.9631423691973297,0.9596180717279925,0.9613724576929048,0.9613724576929048,0.95960254618848,0.9613569321533924,0.9578481602235677,0.9613879832324173,0.9613879832324173,0.9613724576929048,0.95960254618848,0.9613879832324173,0.9613724576929048,0.95960254618848,0.9613879832324173,0.9613724576929048,0.9613879832324173,0.9631268436578171,0.9631423691973297,0.9613879832324173,0.9631423691973297,0.9648967551622418,0.9596180717279925,0.9578792113025927,0.959633597267505,0.9595870206489675,0.9578481602235677,0.9596180717279925,0.9648967551622418,0.9631423691973294,0.9613879832324173,0.9613879832324173,0.95960254618848,0.9596491228070174,0.9613724576929048,0.9613724576929048,0.9631423691973297,0.9578481602235677,0.9666511411271541,0.9596180717279925,0.9666511411271541,0.9613879832324173,0.9613724576929048,0.9631268436578171,0.9578481602235677],\"yaxis\":\"y2\"},{\"marker\":{\"color\":[0,1,2,3,4,5,6,7,8,9,10,11,12,13,14,15,16,17,18,19,20,21,22,23,24,25,26,27,28,29,30,31,32,33,34,35,36,37,38,39,40,41,42,43,44,45,46,47,48,49,50,51,52,53,54,55,56,57,58,59],\"colorbar\":{\"title\":{\"text\":\"#Trials\"},\"x\":1.0,\"xpad\":40},\"colorscale\":[[0.0,\"rgb(247,251,255)\"],[0.125,\"rgb(222,235,247)\"],[0.25,\"rgb(198,219,239)\"],[0.375,\"rgb(158,202,225)\"],[0.5,\"rgb(107,174,214)\"],[0.625,\"rgb(66,146,198)\"],[0.75,\"rgb(33,113,181)\"],[0.875,\"rgb(8,81,156)\"],[1.0,\"rgb(8,48,107)\"]],\"line\":{\"color\":\"Grey\",\"width\":0.5},\"showscale\":false},\"mode\":\"markers\",\"showlegend\":false,\"type\":\"scatter\",\"x\":[318,706,745,258,514,334,305,136,426,736,548,567,614,426,151,487,219,353,473,632,401,576,488,526,662,798,370,258,586,471,659,551,554,511,384,507,303,302,179,310,260,440,511,408,328,104,273,408,204,340,453,503,410,367,363,287,289,233,332,379],\"xaxis\":\"x3\",\"y\":[0.9648967551622418,0.9508150908244062,0.9613724576929048,0.9596180717279925,0.9525694767893184,0.9596180717279925,0.9508150908244062,0.9560937742586555,0.956078248719143,0.9525694767893184,0.9631268436578171,0.9631268436578171,0.95960254618848,0.95960254618848,0.9543393882937432,0.9631423691973297,0.9596180717279925,0.9613724576929048,0.9613724576929048,0.95960254618848,0.9613569321533924,0.9578481602235677,0.9613879832324173,0.9613879832324173,0.9613724576929048,0.95960254618848,0.9613879832324173,0.9613724576929048,0.95960254618848,0.9613879832324173,0.9613724576929048,0.9613879832324173,0.9631268436578171,0.9631423691973297,0.9613879832324173,0.9631423691973297,0.9648967551622418,0.9596180717279925,0.9578792113025927,0.959633597267505,0.9595870206489675,0.9578481602235677,0.9596180717279925,0.9648967551622418,0.9631423691973294,0.9613879832324173,0.9613879832324173,0.95960254618848,0.9596491228070174,0.9613724576929048,0.9613724576929048,0.9631423691973297,0.9578481602235677,0.9666511411271541,0.9596180717279925,0.9666511411271541,0.9613879832324173,0.9613724576929048,0.9631268436578171,0.9578481602235677],\"yaxis\":\"y3\"}],                        {\"template\":{\"data\":{\"bar\":[{\"error_x\":{\"color\":\"#2a3f5f\"},\"error_y\":{\"color\":\"#2a3f5f\"},\"marker\":{\"line\":{\"color\":\"#E5ECF6\",\"width\":0.5},\"pattern\":{\"fillmode\":\"overlay\",\"size\":10,\"solidity\":0.2}},\"type\":\"bar\"}],\"barpolar\":[{\"marker\":{\"line\":{\"color\":\"#E5ECF6\",\"width\":0.5},\"pattern\":{\"fillmode\":\"overlay\",\"size\":10,\"solidity\":0.2}},\"type\":\"barpolar\"}],\"carpet\":[{\"aaxis\":{\"endlinecolor\":\"#2a3f5f\",\"gridcolor\":\"white\",\"linecolor\":\"white\",\"minorgridcolor\":\"white\",\"startlinecolor\":\"#2a3f5f\"},\"baxis\":{\"endlinecolor\":\"#2a3f5f\",\"gridcolor\":\"white\",\"linecolor\":\"white\",\"minorgridcolor\":\"white\",\"startlinecolor\":\"#2a3f5f\"},\"type\":\"carpet\"}],\"choropleth\":[{\"colorbar\":{\"outlinewidth\":0,\"ticks\":\"\"},\"type\":\"choropleth\"}],\"contour\":[{\"colorbar\":{\"outlinewidth\":0,\"ticks\":\"\"},\"colorscale\":[[0.0,\"#0d0887\"],[0.1111111111111111,\"#46039f\"],[0.2222222222222222,\"#7201a8\"],[0.3333333333333333,\"#9c179e\"],[0.4444444444444444,\"#bd3786\"],[0.5555555555555556,\"#d8576b\"],[0.6666666666666666,\"#ed7953\"],[0.7777777777777778,\"#fb9f3a\"],[0.8888888888888888,\"#fdca26\"],[1.0,\"#f0f921\"]],\"type\":\"contour\"}],\"contourcarpet\":[{\"colorbar\":{\"outlinewidth\":0,\"ticks\":\"\"},\"type\":\"contourcarpet\"}],\"heatmap\":[{\"colorbar\":{\"outlinewidth\":0,\"ticks\":\"\"},\"colorscale\":[[0.0,\"#0d0887\"],[0.1111111111111111,\"#46039f\"],[0.2222222222222222,\"#7201a8\"],[0.3333333333333333,\"#9c179e\"],[0.4444444444444444,\"#bd3786\"],[0.5555555555555556,\"#d8576b\"],[0.6666666666666666,\"#ed7953\"],[0.7777777777777778,\"#fb9f3a\"],[0.8888888888888888,\"#fdca26\"],[1.0,\"#f0f921\"]],\"type\":\"heatmap\"}],\"heatmapgl\":[{\"colorbar\":{\"outlinewidth\":0,\"ticks\":\"\"},\"colorscale\":[[0.0,\"#0d0887\"],[0.1111111111111111,\"#46039f\"],[0.2222222222222222,\"#7201a8\"],[0.3333333333333333,\"#9c179e\"],[0.4444444444444444,\"#bd3786\"],[0.5555555555555556,\"#d8576b\"],[0.6666666666666666,\"#ed7953\"],[0.7777777777777778,\"#fb9f3a\"],[0.8888888888888888,\"#fdca26\"],[1.0,\"#f0f921\"]],\"type\":\"heatmapgl\"}],\"histogram\":[{\"marker\":{\"pattern\":{\"fillmode\":\"overlay\",\"size\":10,\"solidity\":0.2}},\"type\":\"histogram\"}],\"histogram2d\":[{\"colorbar\":{\"outlinewidth\":0,\"ticks\":\"\"},\"colorscale\":[[0.0,\"#0d0887\"],[0.1111111111111111,\"#46039f\"],[0.2222222222222222,\"#7201a8\"],[0.3333333333333333,\"#9c179e\"],[0.4444444444444444,\"#bd3786\"],[0.5555555555555556,\"#d8576b\"],[0.6666666666666666,\"#ed7953\"],[0.7777777777777778,\"#fb9f3a\"],[0.8888888888888888,\"#fdca26\"],[1.0,\"#f0f921\"]],\"type\":\"histogram2d\"}],\"histogram2dcontour\":[{\"colorbar\":{\"outlinewidth\":0,\"ticks\":\"\"},\"colorscale\":[[0.0,\"#0d0887\"],[0.1111111111111111,\"#46039f\"],[0.2222222222222222,\"#7201a8\"],[0.3333333333333333,\"#9c179e\"],[0.4444444444444444,\"#bd3786\"],[0.5555555555555556,\"#d8576b\"],[0.6666666666666666,\"#ed7953\"],[0.7777777777777778,\"#fb9f3a\"],[0.8888888888888888,\"#fdca26\"],[1.0,\"#f0f921\"]],\"type\":\"histogram2dcontour\"}],\"mesh3d\":[{\"colorbar\":{\"outlinewidth\":0,\"ticks\":\"\"},\"type\":\"mesh3d\"}],\"parcoords\":[{\"line\":{\"colorbar\":{\"outlinewidth\":0,\"ticks\":\"\"}},\"type\":\"parcoords\"}],\"pie\":[{\"automargin\":true,\"type\":\"pie\"}],\"scatter\":[{\"marker\":{\"colorbar\":{\"outlinewidth\":0,\"ticks\":\"\"}},\"type\":\"scatter\"}],\"scatter3d\":[{\"line\":{\"colorbar\":{\"outlinewidth\":0,\"ticks\":\"\"}},\"marker\":{\"colorbar\":{\"outlinewidth\":0,\"ticks\":\"\"}},\"type\":\"scatter3d\"}],\"scattercarpet\":[{\"marker\":{\"colorbar\":{\"outlinewidth\":0,\"ticks\":\"\"}},\"type\":\"scattercarpet\"}],\"scattergeo\":[{\"marker\":{\"colorbar\":{\"outlinewidth\":0,\"ticks\":\"\"}},\"type\":\"scattergeo\"}],\"scattergl\":[{\"marker\":{\"colorbar\":{\"outlinewidth\":0,\"ticks\":\"\"}},\"type\":\"scattergl\"}],\"scattermapbox\":[{\"marker\":{\"colorbar\":{\"outlinewidth\":0,\"ticks\":\"\"}},\"type\":\"scattermapbox\"}],\"scatterpolar\":[{\"marker\":{\"colorbar\":{\"outlinewidth\":0,\"ticks\":\"\"}},\"type\":\"scatterpolar\"}],\"scatterpolargl\":[{\"marker\":{\"colorbar\":{\"outlinewidth\":0,\"ticks\":\"\"}},\"type\":\"scatterpolargl\"}],\"scatterternary\":[{\"marker\":{\"colorbar\":{\"outlinewidth\":0,\"ticks\":\"\"}},\"type\":\"scatterternary\"}],\"surface\":[{\"colorbar\":{\"outlinewidth\":0,\"ticks\":\"\"},\"colorscale\":[[0.0,\"#0d0887\"],[0.1111111111111111,\"#46039f\"],[0.2222222222222222,\"#7201a8\"],[0.3333333333333333,\"#9c179e\"],[0.4444444444444444,\"#bd3786\"],[0.5555555555555556,\"#d8576b\"],[0.6666666666666666,\"#ed7953\"],[0.7777777777777778,\"#fb9f3a\"],[0.8888888888888888,\"#fdca26\"],[1.0,\"#f0f921\"]],\"type\":\"surface\"}],\"table\":[{\"cells\":{\"fill\":{\"color\":\"#EBF0F8\"},\"line\":{\"color\":\"white\"}},\"header\":{\"fill\":{\"color\":\"#C8D4E3\"},\"line\":{\"color\":\"white\"}},\"type\":\"table\"}]},\"layout\":{\"annotationdefaults\":{\"arrowcolor\":\"#2a3f5f\",\"arrowhead\":0,\"arrowwidth\":1},\"autotypenumbers\":\"strict\",\"coloraxis\":{\"colorbar\":{\"outlinewidth\":0,\"ticks\":\"\"}},\"colorscale\":{\"diverging\":[[0,\"#8e0152\"],[0.1,\"#c51b7d\"],[0.2,\"#de77ae\"],[0.3,\"#f1b6da\"],[0.4,\"#fde0ef\"],[0.5,\"#f7f7f7\"],[0.6,\"#e6f5d0\"],[0.7,\"#b8e186\"],[0.8,\"#7fbc41\"],[0.9,\"#4d9221\"],[1,\"#276419\"]],\"sequential\":[[0.0,\"#0d0887\"],[0.1111111111111111,\"#46039f\"],[0.2222222222222222,\"#7201a8\"],[0.3333333333333333,\"#9c179e\"],[0.4444444444444444,\"#bd3786\"],[0.5555555555555556,\"#d8576b\"],[0.6666666666666666,\"#ed7953\"],[0.7777777777777778,\"#fb9f3a\"],[0.8888888888888888,\"#fdca26\"],[1.0,\"#f0f921\"]],\"sequentialminus\":[[0.0,\"#0d0887\"],[0.1111111111111111,\"#46039f\"],[0.2222222222222222,\"#7201a8\"],[0.3333333333333333,\"#9c179e\"],[0.4444444444444444,\"#bd3786\"],[0.5555555555555556,\"#d8576b\"],[0.6666666666666666,\"#ed7953\"],[0.7777777777777778,\"#fb9f3a\"],[0.8888888888888888,\"#fdca26\"],[1.0,\"#f0f921\"]]},\"colorway\":[\"#636efa\",\"#EF553B\",\"#00cc96\",\"#ab63fa\",\"#FFA15A\",\"#19d3f3\",\"#FF6692\",\"#B6E880\",\"#FF97FF\",\"#FECB52\"],\"font\":{\"color\":\"#2a3f5f\"},\"geo\":{\"bgcolor\":\"white\",\"lakecolor\":\"white\",\"landcolor\":\"#E5ECF6\",\"showlakes\":true,\"showland\":true,\"subunitcolor\":\"white\"},\"hoverlabel\":{\"align\":\"left\"},\"hovermode\":\"closest\",\"mapbox\":{\"style\":\"light\"},\"paper_bgcolor\":\"white\",\"plot_bgcolor\":\"#E5ECF6\",\"polar\":{\"angularaxis\":{\"gridcolor\":\"white\",\"linecolor\":\"white\",\"ticks\":\"\"},\"bgcolor\":\"#E5ECF6\",\"radialaxis\":{\"gridcolor\":\"white\",\"linecolor\":\"white\",\"ticks\":\"\"}},\"scene\":{\"xaxis\":{\"backgroundcolor\":\"#E5ECF6\",\"gridcolor\":\"white\",\"gridwidth\":2,\"linecolor\":\"white\",\"showbackground\":true,\"ticks\":\"\",\"zerolinecolor\":\"white\"},\"yaxis\":{\"backgroundcolor\":\"#E5ECF6\",\"gridcolor\":\"white\",\"gridwidth\":2,\"linecolor\":\"white\",\"showbackground\":true,\"ticks\":\"\",\"zerolinecolor\":\"white\"},\"zaxis\":{\"backgroundcolor\":\"#E5ECF6\",\"gridcolor\":\"white\",\"gridwidth\":2,\"linecolor\":\"white\",\"showbackground\":true,\"ticks\":\"\",\"zerolinecolor\":\"white\"}},\"shapedefaults\":{\"line\":{\"color\":\"#2a3f5f\"}},\"ternary\":{\"aaxis\":{\"gridcolor\":\"white\",\"linecolor\":\"white\",\"ticks\":\"\"},\"baxis\":{\"gridcolor\":\"white\",\"linecolor\":\"white\",\"ticks\":\"\"},\"bgcolor\":\"#E5ECF6\",\"caxis\":{\"gridcolor\":\"white\",\"linecolor\":\"white\",\"ticks\":\"\"}},\"title\":{\"x\":0.05},\"xaxis\":{\"automargin\":true,\"gridcolor\":\"white\",\"linecolor\":\"white\",\"ticks\":\"\",\"title\":{\"standoff\":15},\"zerolinecolor\":\"white\",\"zerolinewidth\":2},\"yaxis\":{\"automargin\":true,\"gridcolor\":\"white\",\"linecolor\":\"white\",\"ticks\":\"\",\"title\":{\"standoff\":15},\"zerolinecolor\":\"white\",\"zerolinewidth\":2}}},\"title\":{\"text\":\"Slice Plot\"},\"xaxis\":{\"anchor\":\"y\",\"domain\":[0.0,0.2888888888888889],\"title\":{\"text\":\"max_depth\"}},\"xaxis2\":{\"anchor\":\"y2\",\"domain\":[0.35555555555555557,0.6444444444444445],\"title\":{\"text\":\"max_features\"}},\"xaxis3\":{\"anchor\":\"y3\",\"domain\":[0.7111111111111111,1.0],\"title\":{\"text\":\"n_estimators\"}},\"yaxis\":{\"anchor\":\"x\",\"domain\":[0.0,1.0],\"title\":{\"text\":\"Objective Value\"}},\"yaxis2\":{\"anchor\":\"x2\",\"domain\":[0.0,1.0],\"matches\":\"y\",\"showticklabels\":false},\"yaxis3\":{\"anchor\":\"x3\",\"domain\":[0.0,1.0],\"matches\":\"y\",\"showticklabels\":false}},                        {\"responsive\": true}                    ).then(function(){\n",
       "                            \n",
       "var gd = document.getElementById('cf5a2875-0ddf-4f41-8b67-7eeb7f071ff6');\n",
       "var x = new MutationObserver(function (mutations, observer) {{\n",
       "        var display = window.getComputedStyle(gd).display;\n",
       "        if (!display || display === 'none') {{\n",
       "            console.log([gd, 'removed!']);\n",
       "            Plotly.purge(gd);\n",
       "            observer.disconnect();\n",
       "        }}\n",
       "}});\n",
       "\n",
       "// Listen for the removal of the full notebook cells\n",
       "var notebookContainer = gd.closest('#notebook-container');\n",
       "if (notebookContainer) {{\n",
       "    x.observe(notebookContainer, {childList: true});\n",
       "}}\n",
       "\n",
       "// Listen for the clearing of the current output cell\n",
       "var outputEl = gd.closest('.output');\n",
       "if (outputEl) {{\n",
       "    x.observe(outputEl, {childList: true});\n",
       "}}\n",
       "\n",
       "                        })                };                });            </script>        </div>"
      ]
     },
     "metadata": {},
     "output_type": "display_data"
    }
   ],
   "source": [
    "optuna.visualization.plot_slice(study, params=['n_estimators', 'max_depth', 'max_features'])"
   ]
  },
  {
   "cell_type": "markdown",
   "id": "a1d6cd89",
   "metadata": {
    "id": "iII1pxdlcMwv",
    "papermill": {
     "duration": 0.067772,
     "end_time": "2021-09-23T18:38:35.619781",
     "exception": false,
     "start_time": "2021-09-23T18:38:35.552009",
     "status": "completed"
    },
    "tags": []
   },
   "source": [
    "By default, the **hyperparameter importance evaluator** in Optuna is `optuna.importance.FanovaImportanceEvaluator`. This takes as input performance data gathered with different hyperparameter settings of the algorithm, fits a random forest to capture the relationship between hyperparameters and performance, and then applies functional ANOVA to assess how important each of the hyperparameters and each low-order interaction of hyperparameters is to performance {cite}`pmlr-v32-hutter14`. From the [docs](https://optuna.readthedocs.io/en/stable/reference/generated/optuna.importance.FanovaImportanceEvaluator.html):\n",
    "\n",
    "> The performance of fANOVA depends on the prediction performance of the underlying random forest model. In order to obtain high prediction performance, it is necessary to cover a wide range of the hyperparameter search space. It is recommended to use an exploration-oriented sampler such as `RandomSampler`."
   ]
  },
  {
   "cell_type": "code",
   "execution_count": 11,
   "id": "afb6807d",
   "metadata": {
    "execution": {
     "iopub.execute_input": "2021-09-23T18:38:35.783310Z",
     "iopub.status.busy": "2021-09-23T18:38:35.754780Z",
     "iopub.status.idle": "2021-09-23T18:38:36.845008Z",
     "shell.execute_reply": "2021-09-23T18:38:36.844596Z",
     "shell.execute_reply.started": "2021-09-23T18:14:44.391083Z"
    },
    "id": "SK8u3L14cMwv",
    "outputId": "86f70ab7-06d0-4ea9-e3d8-c854a2da5f11",
    "papermill": {
     "duration": 1.166558,
     "end_time": "2021-09-23T18:38:36.845126",
     "exception": false,
     "start_time": "2021-09-23T18:38:35.678568",
     "status": "completed"
    },
    "tags": []
   },
   "outputs": [
    {
     "data": {
      "text/html": [
       "<div>                            <div id=\"7264cffb-a9d8-41a3-9390-2bc4388c111d\" class=\"plotly-graph-div\" style=\"height:350px; width:600px;\"></div>            <script type=\"text/javascript\">                require([\"plotly\"], function(Plotly) {                    window.PLOTLYENV=window.PLOTLYENV || {};                                    if (document.getElementById(\"7264cffb-a9d8-41a3-9390-2bc4388c111d\")) {                    Plotly.newPlot(                        \"7264cffb-a9d8-41a3-9390-2bc4388c111d\",                        [{\"cliponaxis\":false,\"hovertemplate\":[\"n_estimators (IntUniformDistribution): 0.2952530590208972<extra></extra>\",\"max_depth (IntLogUniformDistribution): 0.3115385308270487<extra></extra>\",\"max_features (UniformDistribution): 0.39320841015205404<extra></extra>\"],\"marker\":{\"color\":\"rgb(66,146,198)\"},\"orientation\":\"h\",\"text\":[\"0.2952530590208972\",\"0.3115385308270487\",\"0.39320841015205404\"],\"textposition\":\"outside\",\"texttemplate\":\"%{text:.2f}\",\"type\":\"bar\",\"x\":[0.2952530590208972,0.3115385308270487,0.39320841015205404],\"y\":[\"n_estimators\",\"max_depth\",\"max_features\"]}],                        {\"height\":350,\"showlegend\":false,\"template\":{\"data\":{\"bar\":[{\"error_x\":{\"color\":\"#2a3f5f\"},\"error_y\":{\"color\":\"#2a3f5f\"},\"marker\":{\"line\":{\"color\":\"#E5ECF6\",\"width\":0.5},\"pattern\":{\"fillmode\":\"overlay\",\"size\":10,\"solidity\":0.2}},\"type\":\"bar\"}],\"barpolar\":[{\"marker\":{\"line\":{\"color\":\"#E5ECF6\",\"width\":0.5},\"pattern\":{\"fillmode\":\"overlay\",\"size\":10,\"solidity\":0.2}},\"type\":\"barpolar\"}],\"carpet\":[{\"aaxis\":{\"endlinecolor\":\"#2a3f5f\",\"gridcolor\":\"white\",\"linecolor\":\"white\",\"minorgridcolor\":\"white\",\"startlinecolor\":\"#2a3f5f\"},\"baxis\":{\"endlinecolor\":\"#2a3f5f\",\"gridcolor\":\"white\",\"linecolor\":\"white\",\"minorgridcolor\":\"white\",\"startlinecolor\":\"#2a3f5f\"},\"type\":\"carpet\"}],\"choropleth\":[{\"colorbar\":{\"outlinewidth\":0,\"ticks\":\"\"},\"type\":\"choropleth\"}],\"contour\":[{\"colorbar\":{\"outlinewidth\":0,\"ticks\":\"\"},\"colorscale\":[[0.0,\"#0d0887\"],[0.1111111111111111,\"#46039f\"],[0.2222222222222222,\"#7201a8\"],[0.3333333333333333,\"#9c179e\"],[0.4444444444444444,\"#bd3786\"],[0.5555555555555556,\"#d8576b\"],[0.6666666666666666,\"#ed7953\"],[0.7777777777777778,\"#fb9f3a\"],[0.8888888888888888,\"#fdca26\"],[1.0,\"#f0f921\"]],\"type\":\"contour\"}],\"contourcarpet\":[{\"colorbar\":{\"outlinewidth\":0,\"ticks\":\"\"},\"type\":\"contourcarpet\"}],\"heatmap\":[{\"colorbar\":{\"outlinewidth\":0,\"ticks\":\"\"},\"colorscale\":[[0.0,\"#0d0887\"],[0.1111111111111111,\"#46039f\"],[0.2222222222222222,\"#7201a8\"],[0.3333333333333333,\"#9c179e\"],[0.4444444444444444,\"#bd3786\"],[0.5555555555555556,\"#d8576b\"],[0.6666666666666666,\"#ed7953\"],[0.7777777777777778,\"#fb9f3a\"],[0.8888888888888888,\"#fdca26\"],[1.0,\"#f0f921\"]],\"type\":\"heatmap\"}],\"heatmapgl\":[{\"colorbar\":{\"outlinewidth\":0,\"ticks\":\"\"},\"colorscale\":[[0.0,\"#0d0887\"],[0.1111111111111111,\"#46039f\"],[0.2222222222222222,\"#7201a8\"],[0.3333333333333333,\"#9c179e\"],[0.4444444444444444,\"#bd3786\"],[0.5555555555555556,\"#d8576b\"],[0.6666666666666666,\"#ed7953\"],[0.7777777777777778,\"#fb9f3a\"],[0.8888888888888888,\"#fdca26\"],[1.0,\"#f0f921\"]],\"type\":\"heatmapgl\"}],\"histogram\":[{\"marker\":{\"pattern\":{\"fillmode\":\"overlay\",\"size\":10,\"solidity\":0.2}},\"type\":\"histogram\"}],\"histogram2d\":[{\"colorbar\":{\"outlinewidth\":0,\"ticks\":\"\"},\"colorscale\":[[0.0,\"#0d0887\"],[0.1111111111111111,\"#46039f\"],[0.2222222222222222,\"#7201a8\"],[0.3333333333333333,\"#9c179e\"],[0.4444444444444444,\"#bd3786\"],[0.5555555555555556,\"#d8576b\"],[0.6666666666666666,\"#ed7953\"],[0.7777777777777778,\"#fb9f3a\"],[0.8888888888888888,\"#fdca26\"],[1.0,\"#f0f921\"]],\"type\":\"histogram2d\"}],\"histogram2dcontour\":[{\"colorbar\":{\"outlinewidth\":0,\"ticks\":\"\"},\"colorscale\":[[0.0,\"#0d0887\"],[0.1111111111111111,\"#46039f\"],[0.2222222222222222,\"#7201a8\"],[0.3333333333333333,\"#9c179e\"],[0.4444444444444444,\"#bd3786\"],[0.5555555555555556,\"#d8576b\"],[0.6666666666666666,\"#ed7953\"],[0.7777777777777778,\"#fb9f3a\"],[0.8888888888888888,\"#fdca26\"],[1.0,\"#f0f921\"]],\"type\":\"histogram2dcontour\"}],\"mesh3d\":[{\"colorbar\":{\"outlinewidth\":0,\"ticks\":\"\"},\"type\":\"mesh3d\"}],\"parcoords\":[{\"line\":{\"colorbar\":{\"outlinewidth\":0,\"ticks\":\"\"}},\"type\":\"parcoords\"}],\"pie\":[{\"automargin\":true,\"type\":\"pie\"}],\"scatter\":[{\"marker\":{\"colorbar\":{\"outlinewidth\":0,\"ticks\":\"\"}},\"type\":\"scatter\"}],\"scatter3d\":[{\"line\":{\"colorbar\":{\"outlinewidth\":0,\"ticks\":\"\"}},\"marker\":{\"colorbar\":{\"outlinewidth\":0,\"ticks\":\"\"}},\"type\":\"scatter3d\"}],\"scattercarpet\":[{\"marker\":{\"colorbar\":{\"outlinewidth\":0,\"ticks\":\"\"}},\"type\":\"scattercarpet\"}],\"scattergeo\":[{\"marker\":{\"colorbar\":{\"outlinewidth\":0,\"ticks\":\"\"}},\"type\":\"scattergeo\"}],\"scattergl\":[{\"marker\":{\"colorbar\":{\"outlinewidth\":0,\"ticks\":\"\"}},\"type\":\"scattergl\"}],\"scattermapbox\":[{\"marker\":{\"colorbar\":{\"outlinewidth\":0,\"ticks\":\"\"}},\"type\":\"scattermapbox\"}],\"scatterpolar\":[{\"marker\":{\"colorbar\":{\"outlinewidth\":0,\"ticks\":\"\"}},\"type\":\"scatterpolar\"}],\"scatterpolargl\":[{\"marker\":{\"colorbar\":{\"outlinewidth\":0,\"ticks\":\"\"}},\"type\":\"scatterpolargl\"}],\"scatterternary\":[{\"marker\":{\"colorbar\":{\"outlinewidth\":0,\"ticks\":\"\"}},\"type\":\"scatterternary\"}],\"surface\":[{\"colorbar\":{\"outlinewidth\":0,\"ticks\":\"\"},\"colorscale\":[[0.0,\"#0d0887\"],[0.1111111111111111,\"#46039f\"],[0.2222222222222222,\"#7201a8\"],[0.3333333333333333,\"#9c179e\"],[0.4444444444444444,\"#bd3786\"],[0.5555555555555556,\"#d8576b\"],[0.6666666666666666,\"#ed7953\"],[0.7777777777777778,\"#fb9f3a\"],[0.8888888888888888,\"#fdca26\"],[1.0,\"#f0f921\"]],\"type\":\"surface\"}],\"table\":[{\"cells\":{\"fill\":{\"color\":\"#EBF0F8\"},\"line\":{\"color\":\"white\"}},\"header\":{\"fill\":{\"color\":\"#C8D4E3\"},\"line\":{\"color\":\"white\"}},\"type\":\"table\"}]},\"layout\":{\"annotationdefaults\":{\"arrowcolor\":\"#2a3f5f\",\"arrowhead\":0,\"arrowwidth\":1},\"autotypenumbers\":\"strict\",\"coloraxis\":{\"colorbar\":{\"outlinewidth\":0,\"ticks\":\"\"}},\"colorscale\":{\"diverging\":[[0,\"#8e0152\"],[0.1,\"#c51b7d\"],[0.2,\"#de77ae\"],[0.3,\"#f1b6da\"],[0.4,\"#fde0ef\"],[0.5,\"#f7f7f7\"],[0.6,\"#e6f5d0\"],[0.7,\"#b8e186\"],[0.8,\"#7fbc41\"],[0.9,\"#4d9221\"],[1,\"#276419\"]],\"sequential\":[[0.0,\"#0d0887\"],[0.1111111111111111,\"#46039f\"],[0.2222222222222222,\"#7201a8\"],[0.3333333333333333,\"#9c179e\"],[0.4444444444444444,\"#bd3786\"],[0.5555555555555556,\"#d8576b\"],[0.6666666666666666,\"#ed7953\"],[0.7777777777777778,\"#fb9f3a\"],[0.8888888888888888,\"#fdca26\"],[1.0,\"#f0f921\"]],\"sequentialminus\":[[0.0,\"#0d0887\"],[0.1111111111111111,\"#46039f\"],[0.2222222222222222,\"#7201a8\"],[0.3333333333333333,\"#9c179e\"],[0.4444444444444444,\"#bd3786\"],[0.5555555555555556,\"#d8576b\"],[0.6666666666666666,\"#ed7953\"],[0.7777777777777778,\"#fb9f3a\"],[0.8888888888888888,\"#fdca26\"],[1.0,\"#f0f921\"]]},\"colorway\":[\"#636efa\",\"#EF553B\",\"#00cc96\",\"#ab63fa\",\"#FFA15A\",\"#19d3f3\",\"#FF6692\",\"#B6E880\",\"#FF97FF\",\"#FECB52\"],\"font\":{\"color\":\"#2a3f5f\"},\"geo\":{\"bgcolor\":\"white\",\"lakecolor\":\"white\",\"landcolor\":\"#E5ECF6\",\"showlakes\":true,\"showland\":true,\"subunitcolor\":\"white\"},\"hoverlabel\":{\"align\":\"left\"},\"hovermode\":\"closest\",\"mapbox\":{\"style\":\"light\"},\"paper_bgcolor\":\"white\",\"plot_bgcolor\":\"#E5ECF6\",\"polar\":{\"angularaxis\":{\"gridcolor\":\"white\",\"linecolor\":\"white\",\"ticks\":\"\"},\"bgcolor\":\"#E5ECF6\",\"radialaxis\":{\"gridcolor\":\"white\",\"linecolor\":\"white\",\"ticks\":\"\"}},\"scene\":{\"xaxis\":{\"backgroundcolor\":\"#E5ECF6\",\"gridcolor\":\"white\",\"gridwidth\":2,\"linecolor\":\"white\",\"showbackground\":true,\"ticks\":\"\",\"zerolinecolor\":\"white\"},\"yaxis\":{\"backgroundcolor\":\"#E5ECF6\",\"gridcolor\":\"white\",\"gridwidth\":2,\"linecolor\":\"white\",\"showbackground\":true,\"ticks\":\"\",\"zerolinecolor\":\"white\"},\"zaxis\":{\"backgroundcolor\":\"#E5ECF6\",\"gridcolor\":\"white\",\"gridwidth\":2,\"linecolor\":\"white\",\"showbackground\":true,\"ticks\":\"\",\"zerolinecolor\":\"white\"}},\"shapedefaults\":{\"line\":{\"color\":\"#2a3f5f\"}},\"ternary\":{\"aaxis\":{\"gridcolor\":\"white\",\"linecolor\":\"white\",\"ticks\":\"\"},\"baxis\":{\"gridcolor\":\"white\",\"linecolor\":\"white\",\"ticks\":\"\"},\"bgcolor\":\"#E5ECF6\",\"caxis\":{\"gridcolor\":\"white\",\"linecolor\":\"white\",\"ticks\":\"\"}},\"title\":{\"x\":0.05},\"xaxis\":{\"automargin\":true,\"gridcolor\":\"white\",\"linecolor\":\"white\",\"ticks\":\"\",\"title\":{\"standoff\":15},\"zerolinecolor\":\"white\",\"zerolinewidth\":2},\"yaxis\":{\"automargin\":true,\"gridcolor\":\"white\",\"linecolor\":\"white\",\"ticks\":\"\",\"title\":{\"standoff\":15},\"zerolinecolor\":\"white\",\"zerolinewidth\":2}}},\"title\":{\"text\":\"Hyperparameter Importances\"},\"width\":600,\"xaxis\":{\"title\":{\"text\":\"Importance for Objective Value\"}},\"yaxis\":{\"title\":{\"text\":\"Hyperparameter\"}}},                        {\"responsive\": true}                    ).then(function(){\n",
       "                            \n",
       "var gd = document.getElementById('7264cffb-a9d8-41a3-9390-2bc4388c111d');\n",
       "var x = new MutationObserver(function (mutations, observer) {{\n",
       "        var display = window.getComputedStyle(gd).display;\n",
       "        if (!display || display === 'none') {{\n",
       "            console.log([gd, 'removed!']);\n",
       "            Plotly.purge(gd);\n",
       "            observer.disconnect();\n",
       "        }}\n",
       "}});\n",
       "\n",
       "// Listen for the removal of the full notebook cells\n",
       "var notebookContainer = gd.closest('#notebook-container');\n",
       "if (notebookContainer) {{\n",
       "    x.observe(notebookContainer, {childList: true});\n",
       "}}\n",
       "\n",
       "// Listen for the clearing of the current output cell\n",
       "var outputEl = gd.closest('.output');\n",
       "if (outputEl) {{\n",
       "    x.observe(outputEl, {childList: true});\n",
       "}}\n",
       "\n",
       "                        })                };                });            </script>        </div>"
      ]
     },
     "metadata": {},
     "output_type": "display_data"
    }
   ],
   "source": [
    "fig = optuna.visualization.plot_param_importances(study)\n",
    "fig.update_layout(width=600, height=350)\n",
    "fig.show()"
   ]
  },
  {
   "cell_type": "markdown",
   "id": "509c6d7d",
   "metadata": {
    "id": "q1pnFEAUcMwx",
    "papermill": {
     "duration": 0.059772,
     "end_time": "2021-09-23T18:38:36.964936",
     "exception": false,
     "start_time": "2021-09-23T18:38:36.905164",
     "status": "completed"
    },
    "tags": []
   },
   "source": [
    "To visualize interactions of any pair of hyperparameters, we use **contour plots.** The contour plots indicate regions of high and low objective value."
   ]
  },
  {
   "cell_type": "code",
   "execution_count": 12,
   "id": "9d82232e",
   "metadata": {
    "execution": {
     "iopub.execute_input": "2021-09-23T18:38:37.104101Z",
     "iopub.status.busy": "2021-09-23T18:38:37.103442Z",
     "iopub.status.idle": "2021-09-23T18:38:37.170855Z",
     "shell.execute_reply": "2021-09-23T18:38:37.171264Z",
     "shell.execute_reply.started": "2021-09-23T18:14:45.576261Z"
    },
    "id": "DIfwjUHQcMwx",
    "outputId": "5866bd46-744e-4a61-8767-519c439391cd",
    "papermill": {
     "duration": 0.146966,
     "end_time": "2021-09-23T18:38:37.171398",
     "exception": false,
     "start_time": "2021-09-23T18:38:37.024432",
     "status": "completed"
    },
    "tags": []
   },
   "outputs": [
    {
     "data": {
      "text/html": [
       "<div>                            <div id=\"cf3bc139-f9a8-4458-83d4-62e00aa55c45\" class=\"plotly-graph-div\" style=\"height:500px; width:550px;\"></div>            <script type=\"text/javascript\">                require([\"plotly\"], function(Plotly) {                    window.PLOTLYENV=window.PLOTLYENV || {};                                    if (document.getElementById(\"cf3bc139-f9a8-4458-83d4-62e00aa55c45\")) {                    Plotly.newPlot(                        \"cf3bc139-f9a8-4458-83d4-62e00aa55c45\",                        [{\"colorbar\":{\"title\":{\"text\":\"Objective Value\"}},\"colorscale\":[[0,\"rgb(5,10,172)\"],[0.35,\"rgb(40,60,190)\"],[0.5,\"rgb(70,100,245)\"],[0.6,\"rgb(90,120,245)\"],[0.7,\"rgb(106,137,247)\"],[1,\"rgb(220,220,220)\"]],\"connectgaps\":true,\"contours\":{\"coloring\":\"heatmap\"},\"hoverinfo\":\"none\",\"line\":{\"smoothing\":1.3},\"reversescale\":false,\"type\":\"contour\",\"x\":[-4.25,2,3,4,5,6,7,8,9,10,11,12,13,14,15,16,17,19,20,21,22,23,25,26,28,29,30,32,35,36,37,40,42,45,47,54,55,63,74,76,98,127,133.25],\"y\":[0.06930557541601023,0.11275314554110305,0.19715094487237206,0.26821883166494553,0.2731071853961444,0.29521666997025797,0.343056306708282,0.34610518121917144,0.35498772663257794,0.38670291308379157,0.3870504380676449,0.39423824682376823,0.4052969957012931,0.4218094997410249,0.42768218904251415,0.4367367741089925,0.4453867042486164,0.4503712663229084,0.46557134078167095,0.46799576377319135,0.46938258346956085,0.4892700064621473,0.49465628637668074,0.49476664234669915,0.49807921622626433,0.5003993482364034,0.5022629129714143,0.5066968990255127,0.5130117326554974,0.5155621421999611,0.5214614834753933,0.5241383906335051,0.5252953889292916,0.5268476671963307,0.5285597129099331,0.5296879978222573,0.5333826455220547,0.5551585713582305,0.5565525309205199,0.5588296022707138,0.5665321143967493,0.5844525375969316,0.5844817089647207,0.5943502349334594,0.5989024541428132,0.6051182313071413,0.6208156180005706,0.6357499679451811,0.636536719526963,0.6467970442529462,0.6731486210297581,0.6760392677549009,0.692164512230914,0.725007057453356,0.7431405479990221,0.7683941488506071,0.7694375521775094,0.8188434081002719,0.8674516769779563,0.9730379047724134,0.9817045480429595,1.0251521181680523],\"z\":[[null,null,null,null,null,null,null,null,null,null,null,null,null,null,null,null,null,null,null,null,null,null,null,null,null,null,null,null,null,null,null,null,null,null,null,null,null,null,null,null,null,null,null],[null,null,null,null,null,null,null,null,null,null,null,null,null,null,null,null,null,null,null,null,null,null,null,null,null,null,0.95960254618848,null,null,null,null,null,null,null,null,null,null,null,null,null,null,null,null],[null,null,null,null,null,null,null,null,null,0.9543393882937432,null,null,null,null,null,null,null,null,null,null,null,null,null,null,null,null,null,null,null,null,null,null,null,null,null,null,null,null,null,null,null,null,null],[null,0.9508150908244062,null,null,null,null,null,null,null,null,null,null,null,null,null,null,null,null,null,null,null,null,null,null,null,null,null,null,null,null,null,null,null,null,null,null,null,null,null,null,null,null,null],[null,null,null,null,null,null,null,null,null,null,null,null,null,null,null,null,null,null,null,null,null,null,null,null,null,null,null,null,null,null,null,null,null,null,null,null,null,0.95960254618848,null,null,null,null,null],[null,null,null,null,null,null,null,null,0.95960254618848,null,null,null,null,null,null,null,null,null,null,null,null,null,null,null,null,null,null,null,null,null,null,null,null,null,null,null,null,null,null,null,null,null,null],[null,null,null,null,null,null,null,null,null,null,null,null,null,null,null,null,null,null,null,null,null,null,null,null,null,null,null,null,null,null,null,null,null,null,0.9613569321533924,null,null,null,null,null,null,null,null],[null,null,0.956078248719143,null,null,null,null,null,null,null,null,null,null,null,null,null,null,null,null,null,null,null,null,null,null,null,null,null,null,null,null,null,null,null,null,null,null,null,null,null,null,null,null],[null,null,null,null,0.9613724576929048,null,null,null,null,null,null,null,null,null,null,null,null,null,null,null,null,null,null,null,null,null,null,null,null,null,null,null,null,null,null,null,null,null,null,null,null,null,null],[null,null,null,null,null,null,null,null,null,null,null,null,null,null,null,null,null,null,0.9613879832324173,null,null,null,null,null,null,null,null,null,null,null,null,null,null,null,null,null,null,null,null,null,null,null,null],[null,null,null,null,null,null,null,null,null,null,null,null,null,null,null,null,null,null,null,null,null,null,null,null,null,null,null,null,null,null,null,null,null,null,null,null,null,null,null,null,0.9613879832324173,null,null],[null,null,null,null,null,null,null,null,null,null,null,null,null,null,null,null,null,null,null,null,0.9613879832324173,null,null,null,null,null,null,null,null,null,null,null,null,null,null,null,null,null,null,null,null,null,null],[null,null,null,null,null,null,null,null,null,null,null,null,null,null,null,null,null,null,null,null,null,null,0.9631268436578171,null,null,null,null,null,null,null,null,null,null,null,null,null,null,null,null,null,null,null,null],[null,null,null,null,null,null,null,null,null,null,null,null,null,null,null,null,null,null,null,null,null,null,null,null,0.9631268436578171,null,null,null,null,null,null,null,null,null,null,null,null,null,null,null,null,null,null],[null,null,null,null,null,null,null,null,null,null,null,null,null,null,null,null,null,null,null,null,null,null,null,null,null,null,0.9631268436578171,null,null,null,null,null,null,null,null,null,null,null,null,null,null,null,null],[null,null,null,null,null,null,null,null,null,null,0.9613724576929048,null,null,null,null,null,null,null,null,null,null,null,null,null,null,null,null,null,null,null,null,null,null,null,null,null,null,null,null,null,null,null,null],[null,null,null,null,null,null,null,null,null,null,null,null,null,null,null,null,null,null,null,null,null,null,null,null,null,0.9578481602235677,null,null,null,null,null,null,null,null,null,null,null,null,null,null,null,null,null],[null,null,null,null,null,null,null,null,null,null,null,null,null,null,null,null,null,null,null,null,null,null,null,null,null,null,null,null,null,null,null,null,0.95960254618848,null,null,null,null,null,null,null,null,null,null],[null,null,null,null,null,null,null,null,null,null,null,null,null,null,null,null,null,null,null,null,null,null,null,null,null,null,null,null,null,null,null,null,null,null,null,null,null,null,null,null,null,0.95960254618848,null],[null,null,null,null,null,null,null,null,null,null,null,null,null,null,null,null,null,null,null,null,null,null,null,null,null,null,null,0.9578481602235677,null,null,null,null,null,null,null,null,null,null,null,null,null,null,null],[null,null,null,null,null,null,null,0.95960254618848,null,null,null,null,null,null,null,null,null,null,null,null,null,null,null,null,null,null,null,null,null,null,null,null,null,null,null,null,null,null,null,null,null,null,null],[null,null,null,null,null,null,null,null,null,null,null,null,0.9596180717279925,null,null,null,null,null,null,null,null,null,null,null,null,null,null,null,null,null,null,null,null,null,null,null,null,null,null,null,null,null,null],[null,null,null,null,null,null,null,null,0.9596180717279925,null,null,null,null,null,null,null,null,null,null,null,null,null,null,null,null,null,null,null,null,null,null,null,null,null,null,null,null,null,null,null,null,null,null],[null,null,null,null,null,null,null,null,null,null,null,null,null,0.9578481602235677,null,null,null,null,null,null,null,null,null,null,null,null,null,null,null,null,null,null,null,null,null,null,null,null,null,null,null,null,null],[null,null,null,null,null,null,null,null,null,null,null,null,null,null,null,null,null,null,null,null,null,null,null,null,null,null,null,null,null,null,0.9578481602235677,null,null,null,null,null,null,null,null,null,null,null,null],[null,null,null,null,null,null,null,null,null,null,null,null,null,null,null,null,null,null,null,null,null,null,null,null,null,null,null,null,null,null,null,0.9648967551622418,null,null,null,null,null,null,null,null,null,null,null],[null,null,null,null,null,null,null,null,null,null,null,null,null,0.9631423691973297,null,null,null,null,null,null,null,null,null,null,null,null,null,null,null,null,null,null,null,null,null,null,null,null,null,null,null,null,null],[null,null,null,null,null,null,null,null,null,null,null,null,null,null,null,null,null,null,null,null,null,0.9631423691973297,null,null,null,null,null,null,null,null,null,null,null,null,null,null,null,null,null,null,null,null,null],[null,null,null,null,null,null,null,null,null,null,null,null,null,0.9648967551622418,null,null,null,null,null,null,null,null,null,null,null,null,null,null,null,null,null,null,null,null,null,null,null,null,null,null,null,null,null],[null,null,null,null,null,null,null,null,null,null,null,null,null,null,null,0.9631423691973297,null,null,null,null,null,null,null,null,null,null,null,null,null,null,null,null,null,null,null,null,null,null,null,null,null,null,null],[null,null,null,null,null,null,null,null,null,null,null,null,null,null,null,null,null,null,null,null,null,null,null,0.9666511411271541,null,null,null,null,null,null,null,null,null,null,null,null,null,null,null,null,null,null,null],[null,null,null,null,null,null,null,null,null,null,0.9666511411271541,null,null,null,null,null,null,null,null,null,null,null,null,null,null,null,null,null,null,null,null,null,null,null,null,null,null,null,null,null,null,null,null],[null,null,null,null,null,null,null,null,null,null,null,null,null,null,null,null,null,null,null,null,null,null,0.9631423691973297,null,null,null,null,null,null,null,null,null,null,null,null,null,null,null,null,null,null,null,null],[null,null,null,null,null,null,null,null,null,null,null,null,null,null,null,null,0.9648967551622418,null,null,null,null,null,null,null,null,null,null,null,null,null,null,null,null,null,null,null,null,null,null,null,null,null,null],[null,null,null,null,null,0.9613724576929048,null,null,null,null,null,null,null,null,null,null,null,null,null,null,null,null,null,null,null,null,null,null,null,null,null,null,null,null,null,null,null,null,null,null,null,null,null],[null,null,null,null,null,null,null,null,null,null,null,null,null,null,null,null,null,null,null,null,null,null,null,null,null,null,null,null,0.9613879832324173,null,null,null,null,null,null,null,null,null,null,null,null,null,null],[null,null,null,null,null,null,null,null,null,null,null,null,null,null,null,null,null,null,null,null,null,null,null,null,null,null,null,null,null,null,null,null,null,0.9613879832324173,null,null,null,null,null,null,null,null,null],[null,null,null,null,null,null,null,null,null,null,null,null,null,null,null,null,null,null,null,null,null,null,null,0.9596180717279925,null,null,null,null,null,null,null,null,null,null,null,null,null,null,null,null,null,null,null],[null,null,null,0.9595870206489675,null,null,null,null,null,null,null,null,null,null,null,null,null,null,null,null,null,null,null,null,null,null,null,null,null,null,null,null,null,null,null,null,null,null,null,null,null,null,null],[null,null,null,null,null,null,null,null,null,null,null,null,null,null,null,null,null,null,null,null,null,null,null,null,null,null,null,null,null,null,null,null,null,null,null,null,null,null,null,0.9613879832324173,null,null,null],[null,null,null,null,null,null,null,null,null,null,null,0.9596180717279925,null,null,null,null,null,null,null,null,null,null,null,null,null,null,null,null,null,null,null,null,null,null,null,null,null,null,null,null,null,null,null],[null,null,null,0.9560937742586555,null,null,null,null,null,null,null,null,null,null,null,null,null,null,null,null,null,null,null,null,null,null,null,null,null,null,null,null,null,null,null,null,null,null,null,null,null,null,null],[null,null,null,null,null,null,null,null,null,null,null,null,null,null,null,null,null,null,null,null,null,null,null,null,null,null,null,null,null,0.9613724576929048,null,null,null,null,null,null,null,null,null,null,null,null,null],[null,null,null,null,null,null,null,null,null,null,null,null,null,null,null,null,null,0.9631268436578171,null,null,null,null,null,null,null,null,null,null,null,null,null,null,null,null,null,null,null,null,null,null,null,null,null],[null,null,null,null,null,null,null,null,null,null,null,null,null,null,null,null,0.9613724576929048,null,null,null,null,null,null,null,null,null,null,null,null,null,null,null,null,null,null,null,null,null,null,null,null,null,null],[null,null,null,null,null,null,null,null,null,null,null,null,null,null,null,0.9613724576929048,null,null,null,null,null,null,null,null,null,null,null,null,null,null,null,null,null,null,null,null,null,null,null,null,null,null,null],[null,null,null,null,null,null,null,null,null,null,null,null,null,null,null,null,null,null,null,null,null,0.9631423691973294,null,null,null,null,null,null,null,null,null,null,null,null,null,null,null,null,null,null,null,null,null],[null,null,null,null,null,0.959633597267505,null,null,null,null,null,null,null,null,null,null,null,null,null,null,null,null,null,null,null,null,null,null,null,null,null,null,null,null,null,null,null,null,null,null,null,null,null],[null,null,null,null,null,null,0.9613879832324173,null,null,null,null,null,null,null,null,null,null,null,null,null,null,null,null,null,null,null,null,null,null,null,null,null,null,null,null,null,null,null,null,null,null,null,null],[null,null,null,null,null,null,null,null,null,null,null,null,null,0.9613724576929048,null,null,null,null,null,null,null,null,null,null,null,null,null,null,null,null,null,null,null,null,null,null,null,null,null,null,null,null,null],[null,null,null,null,null,null,null,null,null,null,null,null,null,null,null,null,null,null,null,null,null,null,null,null,null,null,null,null,null,null,null,null,null,null,null,0.9613879832324173,null,null,null,null,null,null,null],[null,null,null,null,null,null,null,null,null,null,null,null,null,null,null,null,null,null,null,0.9613724576929048,null,null,null,null,null,null,null,null,null,null,null,null,null,null,null,null,null,null,null,null,null,null,null],[null,null,null,null,null,null,null,null,null,null,null,null,null,null,null,null,null,null,null,null,null,null,null,null,null,null,null,null,null,null,null,null,null,null,null,null,null,null,0.9596180717279925,null,null,null,null],[null,null,null,null,null,null,null,null,null,null,null,null,null,null,null,null,0.9578792113025927,null,null,null,null,null,null,null,null,null,null,null,null,null,null,null,null,null,null,null,null,null,null,null,null,null,null],[null,null,null,null,null,null,null,null,null,null,0.9613879832324173,null,null,null,null,null,null,null,null,null,null,null,null,null,null,null,null,null,null,null,null,null,null,null,null,null,null,null,null,null,null,null,null],[null,0.9508150908244062,null,null,null,null,null,null,null,null,null,null,null,null,null,null,null,null,null,null,null,null,null,null,null,null,null,null,null,null,null,null,null,null,null,null,null,null,null,null,null,null,null],[null,null,null,null,null,null,null,null,null,null,null,null,null,null,null,null,null,null,null,null,null,null,null,null,null,null,null,null,null,null,null,null,null,null,null,null,0.9596180717279925,null,null,null,null,null,null],[null,null,null,null,null,null,null,null,null,null,null,null,null,null,0.9613724576929048,null,null,null,null,null,null,null,null,null,null,null,null,null,null,null,null,null,null,null,null,null,null,null,null,null,null,null,null],[null,0.9525694767893184,null,null,null,null,null,null,null,null,null,null,null,null,null,null,null,null,null,null,null,null,null,null,null,null,null,null,null,null,null,null,null,null,null,null,null,null,null,null,null,null,null],[null,null,null,null,null,null,null,null,null,null,null,null,null,null,null,null,null,0.9596491228070174,null,null,null,null,null,null,null,null,null,null,null,null,null,null,null,null,null,null,null,null,null,null,null,null,null],[null,0.9525694767893184,null,null,null,null,null,null,null,null,null,null,null,null,null,null,null,null,null,null,null,null,null,null,null,null,null,null,null,null,null,null,null,null,null,null,null,null,null,null,null,null,null],[null,null,null,null,null,null,null,null,null,null,null,null,null,null,null,null,null,null,null,null,null,null,null,null,null,null,null,null,null,null,null,null,null,null,null,null,null,null,null,null,null,null,null]]},{\"marker\":{\"color\":\"black\",\"line\":{\"color\":\"Grey\",\"width\":0.5}},\"mode\":\"markers\",\"showlegend\":false,\"type\":\"scatter\",\"x\":[40,2,14,74,2,55,2,4,3,2,25,28,30,127,10,16,9,17,6,63,47,29,20,35,21,9,98,36,42,11,15,22,30,23,7,14,14,12,17,6,4,14,13,17,23,54,76,8,19,5,16,25,37,26,26,11,45,11,19,32],\"y\":[0.5003993482364034,0.7683941488506071,0.6467970442529462,0.692164512230914,0.9817045480429595,0.7694375521775094,0.26821883166494553,0.5844525375969316,0.34610518121917144,0.8674516769779563,0.4052969957012931,0.4218094997410249,0.11275314554110305,0.46557134078167095,0.19715094487237206,0.5155621421999611,0.49465628637668074,0.5989024541428132,0.5285597129099331,0.2731071853961444,0.343056306708282,0.4453867042486164,0.38670291308379157,0.5296879978222573,0.6760392677549009,0.29521666997025797,0.3870504380676449,0.5844817089647207,0.4503712663229084,0.7431405479990221,0.8188434081002719,0.39423824682376823,0.42768218904251415,0.5066968990255127,0.636536719526963,0.5022629129714143,0.5130117326554974,0.5665321143967493,0.725007057453356,0.6357499679451811,0.5565525309205199,0.49476664234669915,0.4892700064621473,0.5268476671963307,0.6208156180005706,0.6731486210297581,0.5588296022707138,0.46938258346956085,0.9730379047724134,0.35498772663257794,0.6051182313071413,0.5252953889292916,0.49807921622626433,0.5214614834753933,0.5551585713582305,0.5241383906335051,0.5333826455220547,0.4367367741089925,0.5943502349334594,0.46799576377319135]}],                        {\"height\":500,\"template\":{\"data\":{\"bar\":[{\"error_x\":{\"color\":\"#2a3f5f\"},\"error_y\":{\"color\":\"#2a3f5f\"},\"marker\":{\"line\":{\"color\":\"#E5ECF6\",\"width\":0.5},\"pattern\":{\"fillmode\":\"overlay\",\"size\":10,\"solidity\":0.2}},\"type\":\"bar\"}],\"barpolar\":[{\"marker\":{\"line\":{\"color\":\"#E5ECF6\",\"width\":0.5},\"pattern\":{\"fillmode\":\"overlay\",\"size\":10,\"solidity\":0.2}},\"type\":\"barpolar\"}],\"carpet\":[{\"aaxis\":{\"endlinecolor\":\"#2a3f5f\",\"gridcolor\":\"white\",\"linecolor\":\"white\",\"minorgridcolor\":\"white\",\"startlinecolor\":\"#2a3f5f\"},\"baxis\":{\"endlinecolor\":\"#2a3f5f\",\"gridcolor\":\"white\",\"linecolor\":\"white\",\"minorgridcolor\":\"white\",\"startlinecolor\":\"#2a3f5f\"},\"type\":\"carpet\"}],\"choropleth\":[{\"colorbar\":{\"outlinewidth\":0,\"ticks\":\"\"},\"type\":\"choropleth\"}],\"contour\":[{\"colorbar\":{\"outlinewidth\":0,\"ticks\":\"\"},\"colorscale\":[[0.0,\"#0d0887\"],[0.1111111111111111,\"#46039f\"],[0.2222222222222222,\"#7201a8\"],[0.3333333333333333,\"#9c179e\"],[0.4444444444444444,\"#bd3786\"],[0.5555555555555556,\"#d8576b\"],[0.6666666666666666,\"#ed7953\"],[0.7777777777777778,\"#fb9f3a\"],[0.8888888888888888,\"#fdca26\"],[1.0,\"#f0f921\"]],\"type\":\"contour\"}],\"contourcarpet\":[{\"colorbar\":{\"outlinewidth\":0,\"ticks\":\"\"},\"type\":\"contourcarpet\"}],\"heatmap\":[{\"colorbar\":{\"outlinewidth\":0,\"ticks\":\"\"},\"colorscale\":[[0.0,\"#0d0887\"],[0.1111111111111111,\"#46039f\"],[0.2222222222222222,\"#7201a8\"],[0.3333333333333333,\"#9c179e\"],[0.4444444444444444,\"#bd3786\"],[0.5555555555555556,\"#d8576b\"],[0.6666666666666666,\"#ed7953\"],[0.7777777777777778,\"#fb9f3a\"],[0.8888888888888888,\"#fdca26\"],[1.0,\"#f0f921\"]],\"type\":\"heatmap\"}],\"heatmapgl\":[{\"colorbar\":{\"outlinewidth\":0,\"ticks\":\"\"},\"colorscale\":[[0.0,\"#0d0887\"],[0.1111111111111111,\"#46039f\"],[0.2222222222222222,\"#7201a8\"],[0.3333333333333333,\"#9c179e\"],[0.4444444444444444,\"#bd3786\"],[0.5555555555555556,\"#d8576b\"],[0.6666666666666666,\"#ed7953\"],[0.7777777777777778,\"#fb9f3a\"],[0.8888888888888888,\"#fdca26\"],[1.0,\"#f0f921\"]],\"type\":\"heatmapgl\"}],\"histogram\":[{\"marker\":{\"pattern\":{\"fillmode\":\"overlay\",\"size\":10,\"solidity\":0.2}},\"type\":\"histogram\"}],\"histogram2d\":[{\"colorbar\":{\"outlinewidth\":0,\"ticks\":\"\"},\"colorscale\":[[0.0,\"#0d0887\"],[0.1111111111111111,\"#46039f\"],[0.2222222222222222,\"#7201a8\"],[0.3333333333333333,\"#9c179e\"],[0.4444444444444444,\"#bd3786\"],[0.5555555555555556,\"#d8576b\"],[0.6666666666666666,\"#ed7953\"],[0.7777777777777778,\"#fb9f3a\"],[0.8888888888888888,\"#fdca26\"],[1.0,\"#f0f921\"]],\"type\":\"histogram2d\"}],\"histogram2dcontour\":[{\"colorbar\":{\"outlinewidth\":0,\"ticks\":\"\"},\"colorscale\":[[0.0,\"#0d0887\"],[0.1111111111111111,\"#46039f\"],[0.2222222222222222,\"#7201a8\"],[0.3333333333333333,\"#9c179e\"],[0.4444444444444444,\"#bd3786\"],[0.5555555555555556,\"#d8576b\"],[0.6666666666666666,\"#ed7953\"],[0.7777777777777778,\"#fb9f3a\"],[0.8888888888888888,\"#fdca26\"],[1.0,\"#f0f921\"]],\"type\":\"histogram2dcontour\"}],\"mesh3d\":[{\"colorbar\":{\"outlinewidth\":0,\"ticks\":\"\"},\"type\":\"mesh3d\"}],\"parcoords\":[{\"line\":{\"colorbar\":{\"outlinewidth\":0,\"ticks\":\"\"}},\"type\":\"parcoords\"}],\"pie\":[{\"automargin\":true,\"type\":\"pie\"}],\"scatter\":[{\"marker\":{\"colorbar\":{\"outlinewidth\":0,\"ticks\":\"\"}},\"type\":\"scatter\"}],\"scatter3d\":[{\"line\":{\"colorbar\":{\"outlinewidth\":0,\"ticks\":\"\"}},\"marker\":{\"colorbar\":{\"outlinewidth\":0,\"ticks\":\"\"}},\"type\":\"scatter3d\"}],\"scattercarpet\":[{\"marker\":{\"colorbar\":{\"outlinewidth\":0,\"ticks\":\"\"}},\"type\":\"scattercarpet\"}],\"scattergeo\":[{\"marker\":{\"colorbar\":{\"outlinewidth\":0,\"ticks\":\"\"}},\"type\":\"scattergeo\"}],\"scattergl\":[{\"marker\":{\"colorbar\":{\"outlinewidth\":0,\"ticks\":\"\"}},\"type\":\"scattergl\"}],\"scattermapbox\":[{\"marker\":{\"colorbar\":{\"outlinewidth\":0,\"ticks\":\"\"}},\"type\":\"scattermapbox\"}],\"scatterpolar\":[{\"marker\":{\"colorbar\":{\"outlinewidth\":0,\"ticks\":\"\"}},\"type\":\"scatterpolar\"}],\"scatterpolargl\":[{\"marker\":{\"colorbar\":{\"outlinewidth\":0,\"ticks\":\"\"}},\"type\":\"scatterpolargl\"}],\"scatterternary\":[{\"marker\":{\"colorbar\":{\"outlinewidth\":0,\"ticks\":\"\"}},\"type\":\"scatterternary\"}],\"surface\":[{\"colorbar\":{\"outlinewidth\":0,\"ticks\":\"\"},\"colorscale\":[[0.0,\"#0d0887\"],[0.1111111111111111,\"#46039f\"],[0.2222222222222222,\"#7201a8\"],[0.3333333333333333,\"#9c179e\"],[0.4444444444444444,\"#bd3786\"],[0.5555555555555556,\"#d8576b\"],[0.6666666666666666,\"#ed7953\"],[0.7777777777777778,\"#fb9f3a\"],[0.8888888888888888,\"#fdca26\"],[1.0,\"#f0f921\"]],\"type\":\"surface\"}],\"table\":[{\"cells\":{\"fill\":{\"color\":\"#EBF0F8\"},\"line\":{\"color\":\"white\"}},\"header\":{\"fill\":{\"color\":\"#C8D4E3\"},\"line\":{\"color\":\"white\"}},\"type\":\"table\"}]},\"layout\":{\"annotationdefaults\":{\"arrowcolor\":\"#2a3f5f\",\"arrowhead\":0,\"arrowwidth\":1},\"autotypenumbers\":\"strict\",\"coloraxis\":{\"colorbar\":{\"outlinewidth\":0,\"ticks\":\"\"}},\"colorscale\":{\"diverging\":[[0,\"#8e0152\"],[0.1,\"#c51b7d\"],[0.2,\"#de77ae\"],[0.3,\"#f1b6da\"],[0.4,\"#fde0ef\"],[0.5,\"#f7f7f7\"],[0.6,\"#e6f5d0\"],[0.7,\"#b8e186\"],[0.8,\"#7fbc41\"],[0.9,\"#4d9221\"],[1,\"#276419\"]],\"sequential\":[[0.0,\"#0d0887\"],[0.1111111111111111,\"#46039f\"],[0.2222222222222222,\"#7201a8\"],[0.3333333333333333,\"#9c179e\"],[0.4444444444444444,\"#bd3786\"],[0.5555555555555556,\"#d8576b\"],[0.6666666666666666,\"#ed7953\"],[0.7777777777777778,\"#fb9f3a\"],[0.8888888888888888,\"#fdca26\"],[1.0,\"#f0f921\"]],\"sequentialminus\":[[0.0,\"#0d0887\"],[0.1111111111111111,\"#46039f\"],[0.2222222222222222,\"#7201a8\"],[0.3333333333333333,\"#9c179e\"],[0.4444444444444444,\"#bd3786\"],[0.5555555555555556,\"#d8576b\"],[0.6666666666666666,\"#ed7953\"],[0.7777777777777778,\"#fb9f3a\"],[0.8888888888888888,\"#fdca26\"],[1.0,\"#f0f921\"]]},\"colorway\":[\"#636efa\",\"#EF553B\",\"#00cc96\",\"#ab63fa\",\"#FFA15A\",\"#19d3f3\",\"#FF6692\",\"#B6E880\",\"#FF97FF\",\"#FECB52\"],\"font\":{\"color\":\"#2a3f5f\"},\"geo\":{\"bgcolor\":\"white\",\"lakecolor\":\"white\",\"landcolor\":\"#E5ECF6\",\"showlakes\":true,\"showland\":true,\"subunitcolor\":\"white\"},\"hoverlabel\":{\"align\":\"left\"},\"hovermode\":\"closest\",\"mapbox\":{\"style\":\"light\"},\"paper_bgcolor\":\"white\",\"plot_bgcolor\":\"#E5ECF6\",\"polar\":{\"angularaxis\":{\"gridcolor\":\"white\",\"linecolor\":\"white\",\"ticks\":\"\"},\"bgcolor\":\"#E5ECF6\",\"radialaxis\":{\"gridcolor\":\"white\",\"linecolor\":\"white\",\"ticks\":\"\"}},\"scene\":{\"xaxis\":{\"backgroundcolor\":\"#E5ECF6\",\"gridcolor\":\"white\",\"gridwidth\":2,\"linecolor\":\"white\",\"showbackground\":true,\"ticks\":\"\",\"zerolinecolor\":\"white\"},\"yaxis\":{\"backgroundcolor\":\"#E5ECF6\",\"gridcolor\":\"white\",\"gridwidth\":2,\"linecolor\":\"white\",\"showbackground\":true,\"ticks\":\"\",\"zerolinecolor\":\"white\"},\"zaxis\":{\"backgroundcolor\":\"#E5ECF6\",\"gridcolor\":\"white\",\"gridwidth\":2,\"linecolor\":\"white\",\"showbackground\":true,\"ticks\":\"\",\"zerolinecolor\":\"white\"}},\"shapedefaults\":{\"line\":{\"color\":\"#2a3f5f\"}},\"ternary\":{\"aaxis\":{\"gridcolor\":\"white\",\"linecolor\":\"white\",\"ticks\":\"\"},\"baxis\":{\"gridcolor\":\"white\",\"linecolor\":\"white\",\"ticks\":\"\"},\"bgcolor\":\"#E5ECF6\",\"caxis\":{\"gridcolor\":\"white\",\"linecolor\":\"white\",\"ticks\":\"\"}},\"title\":{\"x\":0.05},\"xaxis\":{\"automargin\":true,\"gridcolor\":\"white\",\"linecolor\":\"white\",\"ticks\":\"\",\"title\":{\"standoff\":15},\"zerolinecolor\":\"white\",\"zerolinewidth\":2},\"yaxis\":{\"automargin\":true,\"gridcolor\":\"white\",\"linecolor\":\"white\",\"ticks\":\"\",\"title\":{\"standoff\":15},\"zerolinecolor\":\"white\",\"zerolinewidth\":2}}},\"title\":{\"text\":\"Contour Plot\"},\"width\":550,\"xaxis\":{\"range\":[-4.25,133.25],\"title\":{\"text\":\"max_depth\"}},\"yaxis\":{\"range\":[0.06930557541601023,1.0251521181680523],\"title\":{\"text\":\"max_features\"}}},                        {\"responsive\": true}                    ).then(function(){\n",
       "                            \n",
       "var gd = document.getElementById('cf3bc139-f9a8-4458-83d4-62e00aa55c45');\n",
       "var x = new MutationObserver(function (mutations, observer) {{\n",
       "        var display = window.getComputedStyle(gd).display;\n",
       "        if (!display || display === 'none') {{\n",
       "            console.log([gd, 'removed!']);\n",
       "            Plotly.purge(gd);\n",
       "            observer.disconnect();\n",
       "        }}\n",
       "}});\n",
       "\n",
       "// Listen for the removal of the full notebook cells\n",
       "var notebookContainer = gd.closest('#notebook-container');\n",
       "if (notebookContainer) {{\n",
       "    x.observe(notebookContainer, {childList: true});\n",
       "}}\n",
       "\n",
       "// Listen for the clearing of the current output cell\n",
       "var outputEl = gd.closest('.output');\n",
       "if (outputEl) {{\n",
       "    x.observe(outputEl, {childList: true});\n",
       "}}\n",
       "\n",
       "                        })                };                });            </script>        </div>"
      ]
     },
     "metadata": {},
     "output_type": "display_data"
    }
   ],
   "source": [
    "fig = optuna.visualization.plot_contour(study, params=[\"max_depth\", \"max_features\"])\n",
    "fig.update_layout(width=550, height=500)\n",
    "fig.show()"
   ]
  },
  {
   "cell_type": "markdown",
   "id": "edd8109c",
   "metadata": {
    "id": "RoOMjA7fcMw2",
    "papermill": {
     "duration": 0.062539,
     "end_time": "2021-09-23T18:38:37.293658",
     "exception": false,
     "start_time": "2021-09-23T18:38:37.231119",
     "status": "completed"
    },
    "tags": []
   },
   "source": [
    "## Neural networks"
   ]
  },
  {
   "cell_type": "markdown",
   "id": "0949c55b",
   "metadata": {
    "id": "uFQlLZWfcMw2",
    "papermill": {
     "duration": 0.059806,
     "end_time": "2021-09-23T18:38:37.413784",
     "exception": false,
     "start_time": "2021-09-23T18:38:37.353978",
     "status": "completed"
    },
    "tags": []
   },
   "source": [
    "As noted above, we should always perform tuning within a cross-validation framework. However, with neural networks, doing 5-fold CV would require too much compute time &mdash; hence, too much resources, e.g. GPU usage. Instead, we perform tuning on a hold-out validation set and hope for the best. "
   ]
  },
  {
   "cell_type": "code",
   "execution_count": 13,
   "id": "1cbf45c7",
   "metadata": {
    "execution": {
     "iopub.execute_input": "2021-09-23T18:38:37.539207Z",
     "iopub.status.busy": "2021-09-23T18:38:37.538558Z",
     "iopub.status.idle": "2021-09-23T18:38:42.009568Z",
     "shell.execute_reply": "2021-09-23T18:38:42.010022Z",
     "shell.execute_reply.started": "2021-09-23T18:14:45.663363Z"
    },
    "id": "nmb20AphcMw2",
    "papermill": {
     "duration": 4.536606,
     "end_time": "2021-09-23T18:38:42.010206",
     "exception": false,
     "start_time": "2021-09-23T18:38:37.473600",
     "status": "completed"
    },
    "tags": []
   },
   "outputs": [],
   "source": [
    "import torch\n",
    "import torch.nn as nn\n",
    "import torch.optim as optim\n",
    "import torch.nn.functional as F\n",
    "import torchvision.transforms as transforms\n",
    "import torchvision.datasets as datasets\n",
    "from torch.utils.data import Dataset, DataLoader\n",
    "\n",
    "from sklearn import model_selection\n",
    "from sklearn.datasets import fetch_openml\n",
    "\n",
    "from tqdm import tqdm\n",
    "import optuna\n",
    "import numpy as np"
   ]
  },
  {
   "cell_type": "markdown",
   "id": "1cd3a68a",
   "metadata": {
    "id": "6r6ehhdjcMw3",
    "papermill": {
     "duration": 0.059712,
     "end_time": "2021-09-23T18:38:42.130177",
     "exception": false,
     "start_time": "2021-09-23T18:38:42.070465",
     "status": "completed"
    },
    "tags": []
   },
   "source": [
    "Define a simple network."
   ]
  },
  {
   "cell_type": "code",
   "execution_count": 14,
   "id": "b4edf450",
   "metadata": {
    "execution": {
     "iopub.execute_input": "2021-09-23T18:38:42.261027Z",
     "iopub.status.busy": "2021-09-23T18:38:42.259444Z",
     "iopub.status.idle": "2021-09-23T18:38:42.261641Z",
     "shell.execute_reply": "2021-09-23T18:38:42.262031Z",
     "shell.execute_reply.started": "2021-09-23T18:14:50.128420Z"
    },
    "id": "JsALWtW9cMw4",
    "papermill": {
     "duration": 0.072898,
     "end_time": "2021-09-23T18:38:42.262179",
     "exception": false,
     "start_time": "2021-09-23T18:38:42.189281",
     "status": "completed"
    },
    "tags": []
   },
   "outputs": [],
   "source": [
    "class MLPClassifier(nn.Module):\n",
    "    \"\"\"\n",
    "    Neural network with multiple hidden fully-connected layers with ReLU \n",
    "    activation and dropout.\n",
    "    \"\"\"\n",
    "    \n",
    "    def __init__(self, input_size, num_classes, n_layers, out_features, drop_rate):\n",
    "        super().__init__()\n",
    "        layers = []\n",
    "        in_features = input_size\n",
    "        for i in range(n_layers):\n",
    "\n",
    "            m = nn.Linear(in_features, out_features[i])\n",
    "            nn.init.kaiming_normal_(m.weight)\n",
    "            nn.init.constant_(m.bias, 0)\n",
    "\n",
    "            layers.append(m)\n",
    "            layers.append(nn.ReLU())\n",
    "            layers.append(nn.Dropout(drop_rate))\n",
    "\n",
    "            in_features = out_features[i]\n",
    "\n",
    "        layers.append(nn.Linear(in_features, num_classes))\n",
    "        self.net = nn.Sequential(*layers)\n",
    "\n",
    "    def forward(self, x):\n",
    "        return self.net(x)"
   ]
  },
  {
   "cell_type": "markdown",
   "id": "f16cd1e7",
   "metadata": {
    "id": "SBCd4FoBcMw6",
    "papermill": {
     "duration": 0.058638,
     "end_time": "2021-09-23T18:38:42.381322",
     "exception": false,
     "start_time": "2021-09-23T18:38:42.322684",
     "status": "completed"
    },
    "tags": []
   },
   "source": [
    "We also define a `Dataset` class for MNIST."
   ]
  },
  {
   "cell_type": "code",
   "execution_count": 15,
   "id": "a616d14d",
   "metadata": {
    "execution": {
     "iopub.execute_input": "2021-09-23T18:38:42.507693Z",
     "iopub.status.busy": "2021-09-23T18:38:42.506809Z",
     "iopub.status.idle": "2021-09-23T18:38:42.509287Z",
     "shell.execute_reply": "2021-09-23T18:38:42.508876Z",
     "shell.execute_reply.started": "2021-09-23T18:14:50.138526Z"
    },
    "id": "R_Hp-YoCcMw6",
    "papermill": {
     "duration": 0.068347,
     "end_time": "2021-09-23T18:38:42.509399",
     "exception": false,
     "start_time": "2021-09-23T18:38:42.441052",
     "status": "completed"
    },
    "tags": []
   },
   "outputs": [],
   "source": [
    "class MNISTDataset(Dataset):\n",
    "    def __init__(self, features, targets, transform=None):\n",
    "        self.features = features\n",
    "        self.targets = targets\n",
    "        self.transform = transform\n",
    "        \n",
    "    def __len__(self):\n",
    "        return self.features.shape[0]\n",
    "    \n",
    "    def __getitem__(self, i):\n",
    "        X = self.features[i, :]\n",
    "        y = self.targets[i]\n",
    "        \n",
    "        if self.transform is not None:\n",
    "            X = self.transform(X)\n",
    "            \n",
    "        return X, y"
   ]
  },
  {
   "cell_type": "markdown",
   "id": "9493554e",
   "metadata": {
    "id": "U7GrtPtEcMw6",
    "papermill": {
     "duration": 0.067663,
     "end_time": "2021-09-23T18:38:42.639242",
     "exception": false,
     "start_time": "2021-09-23T18:38:42.571579",
     "status": "completed"
    },
    "tags": []
   },
   "source": [
    "Define a trainer for the neural network model. This will handle all loss and metric evaluation, as well as backpropagation."
   ]
  },
  {
   "cell_type": "code",
   "execution_count": 16,
   "id": "8ff889a3",
   "metadata": {
    "execution": {
     "iopub.execute_input": "2021-09-23T18:38:42.771833Z",
     "iopub.status.busy": "2021-09-23T18:38:42.770287Z",
     "iopub.status.idle": "2021-09-23T18:38:42.772459Z",
     "shell.execute_reply": "2021-09-23T18:38:42.772859Z",
     "shell.execute_reply.started": "2021-09-23T18:14:50.150767Z"
    },
    "id": "BJ30iSjfcMw7",
    "papermill": {
     "duration": 0.07433,
     "end_time": "2021-09-23T18:38:42.772985",
     "exception": false,
     "start_time": "2021-09-23T18:38:42.698655",
     "status": "completed"
    },
    "tags": []
   },
   "outputs": [],
   "source": [
    "class Engine:\n",
    "    \"\"\"Neural network trainer.\"\"\"\n",
    "    \n",
    "    def __init__(self, model, device, optimizer):\n",
    "        self.model = model\n",
    "        self.device = device\n",
    "        self.optimizer = optimizer \n",
    "\n",
    "    @staticmethod\n",
    "    def loss_fn(outputs, targets):\n",
    "        return nn.CrossEntropyLoss()(outputs, targets)\n",
    "        \n",
    "    def train(self, data_loader):\n",
    "        \"\"\"Train model on one epoch. Return train loss.\"\"\"\n",
    "        \n",
    "        self.model.train()\n",
    "        loss = 0\n",
    "        for i, (data, targets) in enumerate(data_loader):\n",
    "            data = data.to(self.device).reshape(data.shape[0], -1).float()\n",
    "            targets = targets.to(self.device).long()\n",
    "            \n",
    "            # Forward pass\n",
    "            outputs = self.model(data)\n",
    "            J = self.loss_fn(outputs, targets)\n",
    "            \n",
    "            # Backward pass\n",
    "            self.optimizer.zero_grad()\n",
    "            J.backward()\n",
    "            self.optimizer.step()\n",
    "\n",
    "            # Cumulative loss\n",
    "            loss += (J.detach().item() - loss) / (i + 1)\n",
    "\n",
    "        return loss\n",
    "\n",
    "\n",
    "    def eval(self, data_loader):\n",
    "        \"\"\"Return validation loss and validation accuracy.\"\"\"\n",
    "        \n",
    "        self.model.eval()\n",
    "        num_correct = 0\n",
    "        num_samples = 0\n",
    "        loss = 0.0\n",
    "        with torch.no_grad():\n",
    "            for i, (data, targets) in enumerate(data_loader):\n",
    "                data = data.to(self.device).float()\n",
    "                targets = targets.to(self.device)\n",
    "                \n",
    "                # Forward pass\n",
    "                data = data.reshape(data.shape[0], -1)\n",
    "                out = self.model(data)\n",
    "                J = self.loss_fn(out, targets)\n",
    "                _, preds = out.max(dim=1)\n",
    "\n",
    "                # Cumulative metrics\n",
    "                loss += (J.detach().item() - loss) / (i + 1)\n",
    "                num_correct += (preds == targets).sum().item()\n",
    "                num_samples += preds.shape[0]\n",
    "\n",
    "        acc = num_correct / num_samples\n",
    "        return loss, acc"
   ]
  },
  {
   "cell_type": "markdown",
   "id": "bf68254f",
   "metadata": {
    "id": "L1WBd1fkcMw7",
    "papermill": {
     "duration": 0.059356,
     "end_time": "2021-09-23T18:38:42.891928",
     "exception": false,
     "start_time": "2021-09-23T18:38:42.832572",
     "status": "completed"
    },
    "tags": []
   },
   "source": [
    "Some config and setup prior to training. For our dataset, we use MNIST which we get from scikit-learn."
   ]
  },
  {
   "cell_type": "code",
   "execution_count": 17,
   "id": "dca8fbca",
   "metadata": {
    "execution": {
     "iopub.execute_input": "2021-09-23T18:38:43.066867Z",
     "iopub.status.busy": "2021-09-23T18:38:43.065910Z",
     "iopub.status.idle": "2021-09-23T18:39:22.360332Z",
     "shell.execute_reply": "2021-09-23T18:39:22.359792Z",
     "shell.execute_reply.started": "2021-09-23T18:14:50.166782Z"
    },
    "id": "YlBXgYj8cMw7",
    "papermill": {
     "duration": 39.408534,
     "end_time": "2021-09-23T18:39:22.360477",
     "exception": false,
     "start_time": "2021-09-23T18:38:42.951943",
     "status": "completed"
    },
    "tags": []
   },
   "outputs": [],
   "source": [
    "# Config\n",
    "RANDOM_STATE = 42\n",
    "DEVICE = 'cuda' if torch.cuda.is_available() else 'cpu'\n",
    "EPOCHS = 100\n",
    "PATIENCE = 5\n",
    "INPUT_SIZE = 784\n",
    "NUM_CLASSES = 10\n",
    "\n",
    "# Fetch data\n",
    "MNIST = fetch_openml(\"mnist_784\")\n",
    "X = MNIST['data'].reshape(-1, 28, 28)\n",
    "y = MNIST['target'].astype(int)\n",
    "\n",
    "# Create folds\n",
    "cv = model_selection.StratifiedKFold(n_splits=5)\n",
    "trn_, val_ = next(iter(cv.split(X=X, y=y)))\n",
    "\n",
    "# Get train and valid data loaders\n",
    "train_dataset = MNISTDataset(X[trn_, :], y[trn_], transform=transforms.ToTensor())\n",
    "valid_dataset = MNISTDataset(X[val_, :], y[val_], transform=transforms.ToTensor())"
   ]
  },
  {
   "cell_type": "markdown",
   "id": "864a27f5",
   "metadata": {
    "id": "gjqSuZqpcMw8",
    "papermill": {
     "duration": 0.059439,
     "end_time": "2021-09-23T18:39:22.482174",
     "exception": false,
     "start_time": "2021-09-23T18:39:22.422735",
     "status": "completed"
    },
    "tags": []
   },
   "source": [
    "### Intermediate values"
   ]
  },
  {
   "cell_type": "markdown",
   "id": "2763f8ce",
   "metadata": {
    "id": "vSFEodb0cMw9",
    "papermill": {
     "duration": 0.067195,
     "end_time": "2021-09-23T18:39:22.612018",
     "exception": false,
     "start_time": "2021-09-23T18:39:22.544823",
     "status": "completed"
    },
    "tags": []
   },
   "source": [
    "Finally, we set up the `study` instance and its objective function. Note that the search space is dynamically constructed depending on the number of layers (i.e. an earlier suggestion for a hyperparameter). During training, we perform early stopping on validation loss. If no new minimum val. loss is found after 5 epochs, then the minimum val. loss is returned as the objective [^ref3].\n",
    "\n",
    "Computing intermediate values allow us to **prune** unpromising trials to conserve resources. The default pruner in Optuna is [`optuna.pruners.MedianPruner`](https://optuna.readthedocs.io/en/stable/reference/generated/optuna.pruners.MedianPruner.html) which prunes a trial if its best intermediate result as of the current step (e.g. current best valid loss) is worse than the median of all intermediate results of previous trials *at the current step*. Hence, the best intermediate result of a pruned trial is less than the best intermediate result of 1/2 of the other trials as of that step. In our case, if the minimum val. loss does not improve too quickly, then the trial is pruned. Of course, the validation loss could descend rapidly at later steps, but the median pruner does not bet on this happening.\n",
    "\n",
    "[^ref3]: In practice, we save the best model parameters at this point."
   ]
  },
  {
   "cell_type": "code",
   "execution_count": 18,
   "id": "23bb9a1f",
   "metadata": {
    "execution": {
     "iopub.execute_input": "2021-09-23T18:39:22.896550Z",
     "iopub.status.busy": "2021-09-23T18:39:22.895647Z",
     "iopub.status.idle": "2021-09-23T19:20:01.087082Z",
     "shell.execute_reply": "2021-09-23T19:20:01.086665Z"
    },
    "id": "YDsmzBW_cMw-",
    "outputId": "92e70039-530d-488e-ad61-573a5b442025",
    "papermill": {
     "duration": 2438.356146,
     "end_time": "2021-09-23T19:20:01.087226",
     "exception": false,
     "start_time": "2021-09-23T18:39:22.731080",
     "status": "completed"
    },
    "tags": []
   },
   "outputs": [
    {
     "name": "stderr",
     "output_type": "stream",
     "text": [
      "\u001b[32m[I 2021-09-23 18:39:22,933]\u001b[0m A new study created in memory with name: no-name-fbc1a8f0-68e3-4c53-85de-6aaf92cc4b08\u001b[0m\n",
      "\u001b[32m[I 2021-09-23 18:41:20,405]\u001b[0m Trial 0 finished with value: 0.10331169174363218 and parameters: {'n_layers': 1, 'dropout_rate': 0.33885658619189224, 'n_units_l0': 86, 'batch_size': 235, 'lr': 0.01095284177391842, 'weight_decay': 0.2481934859460601}. Best is trial 0 with value: 0.10331169174363218.\u001b[0m\n",
      "\u001b[32m[I 2021-09-23 18:51:53,683]\u001b[0m Trial 1 finished with value: 0.2534626597782725 and parameters: {'n_layers': 2, 'dropout_rate': 0.32624599410470545, 'n_units_l0': 83, 'n_units_l1': 96, 'batch_size': 17, 'lr': 0.03580321349942954, 'weight_decay': 0.4841984358733526}. Best is trial 0 with value: 0.10331169174363218.\u001b[0m\n",
      "\u001b[32m[I 2021-09-23 18:53:23,677]\u001b[0m Trial 2 finished with value: 1.9807250459217334 and parameters: {'n_layers': 3, 'dropout_rate': 0.4202648891292501, 'n_units_l0': 5, 'n_units_l1': 32, 'n_units_l2': 94, 'batch_size': 68, 'lr': 0.0002933557426306419, 'weight_decay': 0.32837853441607556}. Best is trial 0 with value: 0.10331169174363218.\u001b[0m\n",
      "\u001b[32m[I 2021-09-23 18:54:40,068]\u001b[0m Trial 3 finished with value: 0.3590984783352237 and parameters: {'n_layers': 3, 'dropout_rate': 0.4359784656640127, 'n_units_l0': 86, 'n_units_l1': 36, 'n_units_l2': 78, 'batch_size': 193, 'lr': 0.0012862164099185396, 'weight_decay': 0.32446981154834764}. Best is trial 0 with value: 0.10331169174363218.\u001b[0m\n",
      "\u001b[32m[I 2021-09-23 18:56:31,600]\u001b[0m Trial 4 finished with value: 0.6431171383176534 and parameters: {'n_layers': 2, 'dropout_rate': 0.4971956324166139, 'n_units_l0': 60, 'n_units_l1': 7, 'batch_size': 201, 'lr': 0.04372267158883429, 'weight_decay': 0.05364592081471348}. Best is trial 0 with value: 0.10331169174363218.\u001b[0m\n",
      "\u001b[32m[I 2021-09-23 18:57:55,944]\u001b[0m Trial 5 pruned. \u001b[0m\n",
      "\u001b[32m[I 2021-09-23 18:58:39,052]\u001b[0m Trial 6 pruned. \u001b[0m\n",
      "\u001b[32m[I 2021-09-23 18:59:56,437]\u001b[0m Trial 7 pruned. \u001b[0m\n",
      "\u001b[32m[I 2021-09-23 18:59:58,155]\u001b[0m Trial 8 pruned. \u001b[0m\n",
      "\u001b[32m[I 2021-09-23 19:02:16,403]\u001b[0m Trial 9 finished with value: 0.28132008490604427 and parameters: {'n_layers': 1, 'dropout_rate': 0.33909106810837225, 'n_units_l0': 12, 'batch_size': 38, 'lr': 0.0005941550653811763, 'weight_decay': 0.058160953490642375}. Best is trial 0 with value: 0.10331169174363218.\u001b[0m\n",
      "\u001b[32m[I 2021-09-23 19:02:56,218]\u001b[0m Trial 10 finished with value: 0.09875674974737746 and parameters: {'n_layers': 1, 'dropout_rate': 0.26140155424190586, 'n_units_l0': 127, 'batch_size': 428, 'lr': 0.0051944992011224754, 'weight_decay': 0.1796310609432385}. Best is trial 10 with value: 0.09875674974737746.\u001b[0m\n",
      "\u001b[32m[I 2021-09-23 19:03:57,726]\u001b[0m Trial 11 finished with value: 0.10432604119619904 and parameters: {'n_layers': 1, 'dropout_rate': 0.2666777531426128, 'n_units_l0': 128, 'batch_size': 418, 'lr': 0.006696227015345656, 'weight_decay': 0.17948090907314918}. Best is trial 10 with value: 0.09875674974737746.\u001b[0m\n",
      "\u001b[32m[I 2021-09-23 19:04:37,675]\u001b[0m Trial 12 finished with value: 0.11315505591131028 and parameters: {'n_layers': 1, 'dropout_rate': 0.2919314128060961, 'n_units_l0': 127, 'batch_size': 456, 'lr': 0.006150130559882329, 'weight_decay': 0.18711419319062406}. Best is trial 10 with value: 0.09875674974737746.\u001b[0m\n",
      "\u001b[32m[I 2021-09-23 19:04:42,001]\u001b[0m Trial 13 pruned. \u001b[0m\n",
      "\u001b[32m[I 2021-09-23 19:04:55,809]\u001b[0m Trial 14 pruned. \u001b[0m\n",
      "\u001b[32m[I 2021-09-23 19:04:57,175]\u001b[0m Trial 15 pruned. \u001b[0m\n",
      "\u001b[32m[I 2021-09-23 19:04:59,011]\u001b[0m Trial 16 pruned. \u001b[0m\n",
      "\u001b[32m[I 2021-09-23 19:06:10,502]\u001b[0m Trial 17 finished with value: 0.12427728064358233 and parameters: {'n_layers': 2, 'dropout_rate': 0.3683590457670618, 'n_units_l0': 108, 'n_units_l1': 127, 'batch_size': 280, 'lr': 0.002924059415327138, 'weight_decay': 0.11498675729037759}. Best is trial 10 with value: 0.09875674974737746.\u001b[0m\n",
      "\u001b[32m[I 2021-09-23 19:06:12,349]\u001b[0m Trial 18 pruned. \u001b[0m\n",
      "\u001b[32m[I 2021-09-23 19:06:13,530]\u001b[0m Trial 19 pruned. \u001b[0m\n",
      "\u001b[32m[I 2021-09-23 19:07:33,629]\u001b[0m Trial 20 pruned. \u001b[0m\n",
      "\u001b[32m[I 2021-09-23 19:07:43,320]\u001b[0m Trial 21 pruned. \u001b[0m\n",
      "\u001b[32m[I 2021-09-23 19:08:22,117]\u001b[0m Trial 22 finished with value: 0.09505551989222395 and parameters: {'n_layers': 1, 'dropout_rate': 0.2084089229401478, 'n_units_l0': 118, 'batch_size': 492, 'lr': 0.0049079930534467265, 'weight_decay': 0.21250418712221336}. Best is trial 22 with value: 0.09505551989222395.\u001b[0m\n",
      "\u001b[32m[I 2021-09-23 19:08:23,367]\u001b[0m Trial 23 pruned. \u001b[0m\n",
      "\u001b[32m[I 2021-09-23 19:08:24,621]\u001b[0m Trial 24 pruned. \u001b[0m\n",
      "\u001b[32m[I 2021-09-23 19:08:56,677]\u001b[0m Trial 25 finished with value: 0.11502095063527425 and parameters: {'n_layers': 1, 'dropout_rate': 0.31376760307261653, 'n_units_l0': 117, 'batch_size': 482, 'lr': 0.003889370183149437, 'weight_decay': 0.2915957004412367}. Best is trial 22 with value: 0.09505551989222395.\u001b[0m\n",
      "\u001b[32m[I 2021-09-23 19:08:59,284]\u001b[0m Trial 26 pruned. \u001b[0m\n",
      "\u001b[32m[I 2021-09-23 19:10:11,911]\u001b[0m Trial 27 finished with value: 0.10991137643712894 and parameters: {'n_layers': 1, 'dropout_rate': 0.22102212661172144, 'n_units_l0': 72, 'batch_size': 163, 'lr': 0.0017789466665703959, 'weight_decay': 0.22375890276401672}. Best is trial 22 with value: 0.09505551989222395.\u001b[0m\n",
      "\u001b[32m[I 2021-09-23 19:10:13,195]\u001b[0m Trial 28 pruned. \u001b[0m\n",
      "\u001b[32m[I 2021-09-23 19:10:14,452]\u001b[0m Trial 29 pruned. \u001b[0m\n",
      "\u001b[32m[I 2021-09-23 19:10:15,882]\u001b[0m Trial 30 pruned. \u001b[0m\n",
      "\u001b[32m[I 2021-09-23 19:10:21,972]\u001b[0m Trial 31 pruned. \u001b[0m\n",
      "\u001b[32m[I 2021-09-23 19:10:23,096]\u001b[0m Trial 32 pruned. \u001b[0m\n",
      "\u001b[32m[I 2021-09-23 19:10:25,342]\u001b[0m Trial 33 pruned. \u001b[0m\n",
      "\u001b[32m[I 2021-09-23 19:11:14,031]\u001b[0m Trial 34 finished with value: 0.10721965563985018 and parameters: {'n_layers': 1, 'dropout_rate': 0.24057383674676816, 'n_units_l0': 86, 'batch_size': 274, 'lr': 0.0017596186060431188, 'weight_decay': 0.3100537479216523}. Best is trial 22 with value: 0.09505551989222395.\u001b[0m\n",
      "\u001b[32m[I 2021-09-23 19:11:15,517]\u001b[0m Trial 35 pruned. \u001b[0m\n",
      "\u001b[32m[I 2021-09-23 19:11:18,680]\u001b[0m Trial 36 pruned. \u001b[0m\n",
      "\u001b[32m[I 2021-09-23 19:11:21,483]\u001b[0m Trial 37 pruned. \u001b[0m\n",
      "\u001b[32m[I 2021-09-23 19:11:25,261]\u001b[0m Trial 38 pruned. \u001b[0m\n",
      "\u001b[32m[I 2021-09-23 19:11:30,240]\u001b[0m Trial 39 pruned. \u001b[0m\n",
      "\u001b[32m[I 2021-09-23 19:11:31,338]\u001b[0m Trial 40 pruned. \u001b[0m\n",
      "\u001b[32m[I 2021-09-23 19:12:12,090]\u001b[0m Trial 41 finished with value: 0.09930000439286231 and parameters: {'n_layers': 1, 'dropout_rate': 0.2002019221624222, 'n_units_l0': 88, 'batch_size': 285, 'lr': 0.001306881943921273, 'weight_decay': 0.3123350357530558}. Best is trial 22 with value: 0.09505551989222395.\u001b[0m\n",
      "\u001b[32m[I 2021-09-23 19:12:13,302]\u001b[0m Trial 42 pruned. \u001b[0m\n",
      "\u001b[32m[I 2021-09-23 19:12:43,839]\u001b[0m Trial 43 finished with value: 0.10732460878233414 and parameters: {'n_layers': 1, 'dropout_rate': 0.20294144771417877, 'n_units_l0': 95, 'batch_size': 209, 'lr': 0.0008470382435178196, 'weight_decay': 0.34884246946321984}. Best is trial 22 with value: 0.09505551989222395.\u001b[0m\n",
      "\u001b[32m[I 2021-09-23 19:12:45,269]\u001b[0m Trial 44 pruned. \u001b[0m\n",
      "\u001b[32m[I 2021-09-23 19:12:47,371]\u001b[0m Trial 45 pruned. \u001b[0m\n",
      "\u001b[32m[I 2021-09-23 19:13:25,129]\u001b[0m Trial 46 pruned. \u001b[0m\n",
      "\u001b[32m[I 2021-09-23 19:18:04,279]\u001b[0m Trial 47 finished with value: 0.1134480545147289 and parameters: {'n_layers': 1, 'dropout_rate': 0.21270817239465242, 'n_units_l0': 122, 'batch_size': 11, 'lr': 0.0001144946021208401, 'weight_decay': 0.45203299890636306}. Best is trial 22 with value: 0.09505551989222395.\u001b[0m\n",
      "\u001b[32m[I 2021-09-23 19:18:05,570]\u001b[0m Trial 48 pruned. \u001b[0m\n",
      "\u001b[32m[I 2021-09-23 19:18:06,678]\u001b[0m Trial 49 pruned. \u001b[0m\n",
      "\u001b[32m[I 2021-09-23 19:18:07,800]\u001b[0m Trial 50 pruned. \u001b[0m\n",
      "\u001b[32m[I 2021-09-23 19:18:10,208]\u001b[0m Trial 51 pruned. \u001b[0m\n",
      "\u001b[32m[I 2021-09-23 19:18:24,478]\u001b[0m Trial 52 pruned. \u001b[0m\n",
      "\u001b[32m[I 2021-09-23 19:18:26,222]\u001b[0m Trial 53 pruned. \u001b[0m\n",
      "\u001b[32m[I 2021-09-23 19:18:27,509]\u001b[0m Trial 54 pruned. \u001b[0m\n",
      "\u001b[32m[I 2021-09-23 19:18:28,994]\u001b[0m Trial 55 pruned. \u001b[0m\n",
      "\u001b[32m[I 2021-09-23 19:18:30,175]\u001b[0m Trial 56 pruned. \u001b[0m\n",
      "\u001b[32m[I 2021-09-23 19:19:05,360]\u001b[0m Trial 57 pruned. \u001b[0m\n",
      "\u001b[32m[I 2021-09-23 19:19:06,804]\u001b[0m Trial 58 pruned. \u001b[0m\n",
      "\u001b[32m[I 2021-09-23 19:20:01,080]\u001b[0m Trial 59 pruned. \u001b[0m\n"
     ]
    }
   ],
   "source": [
    "def define_model(trial):\n",
    "  \n",
    "    # Optimize the # of layers, hidden units and dropout ratio in each layer.\n",
    "    n_layers = trial.suggest_int(\"n_layers\", 1, 3)\n",
    "    out_features = []\n",
    "    drop_rate = trial.suggest_float('dropout_rate', 0.2, 0.5)\n",
    "    for i in range(n_layers):\n",
    "        out_features.append(trial.suggest_int(\"n_units_l{}\".format(i), 4, 128))\n",
    "\n",
    "    return MLPClassifier(INPUT_SIZE, NUM_CLASSES, n_layers, out_features, drop_rate)\n",
    "\n",
    "\n",
    "def objective(trial):\n",
    "\n",
    "    model = define_model(trial).to(DEVICE)\n",
    "    batch_size = trial.suggest_int('batch_size', 8, 512, log=True)\n",
    "    learning_rate = trial.suggest_loguniform('lr', 1e-5, 1e-1)\n",
    "    weight_decay = trial.suggest_float('weight_decay', 0.0, 0.5)\n",
    "    optimizer = optim.Adam(model.parameters(), lr=learning_rate, weight_decay=weight_decay)\n",
    "    scheduler = optim.lr_scheduler.ReduceLROnPlateau(optimizer, factor=0.1, patience=3)\n",
    "    engine = Engine(model, DEVICE, optimizer)\n",
    "\n",
    "    # Init. dataloaders\n",
    "    train_loader = DataLoader(dataset=train_dataset, batch_size=batch_size, shuffle=True)\n",
    "    valid_loader = DataLoader(dataset=valid_dataset, batch_size=batch_size, shuffle=True)\n",
    "    \n",
    "    # Run training\n",
    "    best_loss = np.inf\n",
    "    patience = PATIENCE\n",
    "    for epoch in tqdm(range(EPOCHS), total=EPOCHS, leave=False):\n",
    "\n",
    "        # Train and validation step\n",
    "        train_loss = engine.train(train_loader)\n",
    "        valid_loss, valid_acc = engine.eval(valid_loader)\n",
    "\n",
    "        # Reduce learning rate\n",
    "        if scheduler is not None:\n",
    "            scheduler.step(valid_loss)\n",
    "            \n",
    "        # Early stopping\n",
    "        if valid_loss < best_loss:\n",
    "            best_loss = valid_loss\n",
    "            patience = PATIENCE\n",
    "        else:\n",
    "            patience -= 1\n",
    "            if patience == 0:\n",
    "                break\n",
    "    \n",
    "        # Pruning unpromising trials\n",
    "        trial.report(valid_loss, step=epoch)\n",
    "        if trial.should_prune():\n",
    "            raise optuna.TrialPruned()\n",
    "\n",
    "    return best_loss\n",
    "\n",
    "# Create and run optimization problem \n",
    "study = optuna.create_study(direction=\"minimize\")\n",
    "study.optimize(objective, n_trials=60)"
   ]
  },
  {
   "cell_type": "code",
   "execution_count": 19,
   "id": "35c2ae18",
   "metadata": {
    "execution": {
     "iopub.execute_input": "2021-09-23T19:20:01.837491Z",
     "iopub.status.busy": "2021-09-23T19:20:01.835771Z",
     "iopub.status.idle": "2021-09-23T19:20:01.843607Z",
     "shell.execute_reply": "2021-09-23T19:20:01.842933Z"
    },
    "id": "MZ33X-NacMw8",
    "outputId": "b5f5135f-c67b-4e69-bfa2-8963b3ce86ef",
    "papermill": {
     "duration": 0.392393,
     "end_time": "2021-09-23T19:20:01.843765",
     "exception": false,
     "start_time": "2021-09-23T19:20:01.451372",
     "status": "completed"
    },
    "tags": []
   },
   "outputs": [
    {
     "name": "stdout",
     "output_type": "stream",
     "text": [
      "Study statistics: \n",
      "  Number of finished trials:\t 60\n",
      "  Number of pruned trials:\t 43\n",
      "  Number of complete trials:\t 17\n",
      "\n",
      "Best trial:\n",
      "  Value:  0.09505551989222395\n",
      "  Params: \n",
      "    n_layers: 1\n",
      "    dropout_rate: 0.2084089229401478\n",
      "    n_units_l0: 118\n",
      "    batch_size: 492\n",
      "    lr: 0.0049079930534467265\n",
      "    weight_decay: 0.21250418712221336\n"
     ]
    }
   ],
   "source": [
    "from optuna.trial import TrialState\n",
    "\n",
    "pruned_trials = study.get_trials(deepcopy=False, states=[TrialState.PRUNED])\n",
    "complete_trials = study.get_trials(deepcopy=False, states=[TrialState.COMPLETE])\n",
    "\n",
    "print(\"Study statistics: \")\n",
    "print(\"  Number of finished trials:\\t\", len(study.trials))\n",
    "print(\"  Number of pruned trials:\\t\", len(pruned_trials))\n",
    "print(\"  Number of complete trials:\\t\", len(complete_trials))\n",
    "\n",
    "print(\"\\nBest trial:\")\n",
    "trial = study.best_trial\n",
    "\n",
    "print(\"  Value: \", trial.value)\n",
    "print(\"  Params: \")\n",
    "for key, value in trial.params.items():\n",
    "    print(\"    {}: {}\".format(key, value))"
   ]
  },
  {
   "cell_type": "markdown",
   "id": "565dab1a",
   "metadata": {
    "id": "1kXDduuNcMw_",
    "papermill": {
     "duration": 0.363856,
     "end_time": "2021-09-23T19:20:02.575697",
     "exception": false,
     "start_time": "2021-09-23T19:20:02.211841",
     "status": "completed"
    },
    "tags": []
   },
   "source": [
    "Trials below either early stops (gradient descent loses momentum) or gets pruned (unlikely to improve even if gradient descent continues). Note that pruning starts at Trial 5. This can be tweaked in the `n_startup_trials=5` parameter of the pruner. In this case, pruning is disabled until the 5 trials finish in the same study. This is so that the pruner obtains enough information about the behavior of the gradient descent optimizer before starting to prune. "
   ]
  },
  {
   "cell_type": "code",
   "execution_count": 20,
   "id": "d709941f",
   "metadata": {
    "execution": {
     "iopub.execute_input": "2021-09-23T19:20:03.317129Z",
     "iopub.status.busy": "2021-09-23T19:20:03.304196Z",
     "iopub.status.idle": "2021-09-23T19:20:03.369006Z",
     "shell.execute_reply": "2021-09-23T19:20:03.369418Z"
    },
    "id": "ktKfx9tZcMxA",
    "outputId": "399d4717-bde7-44d3-a8cd-a6dddff35990",
    "papermill": {
     "duration": 0.431206,
     "end_time": "2021-09-23T19:20:03.369563",
     "exception": false,
     "start_time": "2021-09-23T19:20:02.938357",
     "status": "completed"
    },
    "tags": []
   },
   "outputs": [
    {
     "data": {
      "text/html": [
       "<div>                            <div id=\"a14bb079-0810-4dbd-b3a6-2158e8562c84\" class=\"plotly-graph-div\" style=\"height:525px; width:100%;\"></div>            <script type=\"text/javascript\">                require([\"plotly\"], function(Plotly) {                    window.PLOTLYENV=window.PLOTLYENV || {};                                    if (document.getElementById(\"a14bb079-0810-4dbd-b3a6-2158e8562c84\")) {                    Plotly.newPlot(                        \"a14bb079-0810-4dbd-b3a6-2158e8562c84\",                        [{\"marker\":{\"maxdisplayed\":10},\"mode\":\"lines+markers\",\"name\":\"Trial0\",\"type\":\"scatter\",\"x\":[0,1,2,3,4,5,6,7,8,9,10,11,12,13,14,15,16,17,18,19,20,21,22,23,24,25,26,27,28,29,30,31,32,33,34,35,36,37,38,39,40,41,42,43,44,45,46,47,48,49,50,51,52,53,54,55,56,57,58,59,60,61,62,63,64,65,66,67,68,69,70,71,72,73,74,75,76,77,78,79,80,81,82,83],\"y\":[1.0286881665388745,0.7763052076101303,1.042754834890366,0.9936988274256388,1.3265849630037947,1.4825871288776398,0.3937997157375018,0.3298692221442858,0.32403341134389235,0.3157178026934465,0.2887619733810425,0.28858042458693184,0.2666071640948454,0.270359892398119,0.268341380606095,0.2720839381217956,0.2619734046359857,0.2375146821141243,0.26964419459303224,0.26303436234593397,0.23529202292362847,0.26472434848546983,0.26139683922131857,0.2569696515798569,0.22201218493282796,0.23121776233116798,0.23496506984035173,0.22093735312422116,0.2368503245214621,0.21330526918172837,0.20876133913795156,0.22514184315999358,0.2265473739554484,0.21446541423598928,0.2405913005272548,0.16566881624360882,0.15515378986795744,0.148630291596055,0.14627456702291966,0.1459829830875,0.14496962651610368,0.14442513684431718,0.14187336762746183,0.1390034354602297,0.13919812279442947,0.1397613224883875,0.138599893078208,0.13713862846295038,0.13222353470822185,0.13264441117644304,0.13209673600892224,0.1346905495971442,0.13058192841708657,0.13542166389524946,0.13211479770640538,0.12644643634557726,0.12918082078297932,0.13226032257080078,0.12548363941411178,0.12286500347157317,0.12164353262633085,0.12216325687865415,0.12265772918860118,0.11754171811044216,0.1162030930320422,0.11881609136859575,0.11324144459019103,0.11337311839063961,0.11457265050460895,0.11148382977892955,0.11273649763315917,0.11255967312802871,0.10937124931563932,0.11159436473002038,0.11113485507667065,0.11374669913202524,0.10938145450005932,0.1048309825360775,0.10343575396885475,0.10331169174363218,0.10381871474285921,0.10476258484025797,0.10401608385145662,0.10480304701874653]},{\"marker\":{\"maxdisplayed\":10},\"mode\":\"lines+markers\",\"name\":\"Trial1\",\"type\":\"scatter\",\"x\":[0,1,2,3,4,5,6,7,8,9,10,11,12,13,14,15,16,17,18,19,20,21,22,23,24,25,26,27,28,29,30,31,32,33,34,35,36,37,38,39,40,41,42,43,44,45,46,47,48,49,50,51,52,53,54,55,56,57,58,59,60,61,62,63,64,65,66,67,68,69,70],\"y\":[2.303699981529737,2.334904640623666,2.3043204320287267,2.3047026349502886,2.302736105849446,2.3031332507295494,2.304286275095153,2.304398492702002,2.30257510473427,2.3022608036555146,1.5953855862461253,1.919753896669277,1.1958853554667765,1.3869845050486538,1.5080363337420724,1.484729383393978,1.4667242796169337,0.41279494461323185,0.3810875923463223,0.4073350827200605,0.3931776914537607,0.4055021186087972,0.38137840833153264,0.30150933924935824,0.29565661172699037,0.2877423356386642,0.277509532385117,0.2762619201139123,0.2740288921270191,0.27148784115205243,0.2736532355306073,0.2786194604134313,0.2640498943934307,0.26385488281550895,0.26437552317127017,0.26711285337172824,0.26294673930003665,0.2613394019731941,0.2607221828561132,0.2616152613857778,0.26258524693548674,0.2644456470502738,0.25835009376310486,0.2650079641409796,0.2614962870743381,0.26183300869521303,0.2612094796371187,0.2543539466083194,0.2549363366933988,0.2548316804041128,0.25478139526020865,0.2543737076864876,0.25396539169607807,0.2537748237542847,0.25385130541986844,0.2536287663992744,0.2535921729314454,0.2535453845511722,0.2537284857792403,0.2536543857315281,0.25376461411021595,0.2535229382575355,0.2535304406033915,0.2536232330456599,0.25352797964226137,0.2538158526526562,0.2534626597782725,0.25358856011191083,0.2537076596116413,0.2535347591687752,0.2534696542368572]},{\"marker\":{\"maxdisplayed\":10},\"mode\":\"lines+markers\",\"name\":\"Trial2\",\"type\":\"scatter\",\"x\":[0,1,2,3,4,5,6,7,8,9,10,11,12,13,14,15,16,17,18,19,20,21,22,23,24,25],\"y\":[2.3120903285961703,2.3034304241532255,2.3029454448848083,2.302466733941753,2.156517752744619,2.057905525258444,2.0496556342226775,2.053570801193274,2.05667506375359,2.060830549707691,2.0103247767513253,1.9926798476756196,1.990093285597644,1.9886376811462696,1.9910485252593322,1.9979477640494556,1.98615777666129,1.9882553179287215,1.9817161218633927,1.9872865208144315,1.9878540067996786,1.9807250459217334,1.9849596816359212,1.9849623071337215,1.9865298508440408,1.9842326635295902]},{\"marker\":{\"maxdisplayed\":10},\"mode\":\"lines+markers\",\"name\":\"Trial3\",\"type\":\"scatter\",\"x\":[0,1,2,3,4,5,6,7,8,9,10,11,12,13,14,15,16,17,18,19,20,21,22,23,24,25,26,27,28,29,30,31,32,33,34,35,36,37,38,39,40,41,42],\"y\":[2.1924863253554254,1.5033478720547404,1.0449010468509097,0.6201232504354763,0.4723278390218134,0.43157334442008033,0.4255389216011518,0.4613698704601966,0.4374946886545991,0.42517134873834367,0.4460738072656605,0.43982739685332944,0.4315017265816257,0.44700047251296365,0.38307536587323227,0.37483688862356423,0.37445389407954804,0.36985006969268996,0.37324509473696144,0.3669407057435545,0.36875908056350587,0.3741325160411939,0.37599947272914735,0.3710513347632264,0.3655370878030176,0.3642234132714467,0.3630193255535543,0.3625790433932656,0.3645816694383752,0.362813046329642,0.3633841349654001,0.36166691963803277,0.36288065248972734,0.36215561709991867,0.3618914297182265,0.3615534121859564,0.36175415532229704,0.35995274945481176,0.3590984783352237,0.3610046969292915,0.36024249885996734,0.3594240962642513,0.3623284317859233]},{\"marker\":{\"maxdisplayed\":10},\"mode\":\"lines+markers\",\"name\":\"Trial4\",\"type\":\"scatter\",\"x\":[0,1,2,3,4,5,6,7,8,9,10,11,12,13,14,15,16,17,18,19,20,21,22,23,24,25,26,27,28,29,30,31,32,33,34,35,36,37,38,39,40,41,42,43,44,45,46,47,48,49,50,51,52,53,54,55,56,57,58,59,60,61,62,63,64,65,66,67,68,69,70],\"y\":[2.302624232428414,2.302186925070626,2.3028328759329657,2.302870539256505,2.301992402757917,2.303125510896955,2.301317031042916,2.3014167853764125,2.3013426542282103,1.8797658222062246,1.590904595170702,1.4332235114915037,1.5037158114569529,1.4242018767765592,1.4254680531365531,1.4189227632113868,1.3562490889004297,1.336697535855429,1.2831446085657392,1.2961214695658,1.2770803281239105,1.1905983413968766,1.1954632197107586,1.2040848680904936,1.097684059824262,1.2077157378196721,1.2389426384653364,1.1303050518035886,1.1969436798776898,1.0035242693764819,0.9542209012167793,0.9553941130638121,0.8866173693111964,0.8742490921701701,0.8719362880502431,0.8493342237813133,0.8530190331595289,0.8255617354597364,0.8224180826119012,0.8264565859522139,0.8078091876847403,0.7946343668869567,0.8075183553355082,0.7877035524163927,0.802316800185612,0.7917969065053121,0.7656754536288125,0.7732457646301814,0.7410472307886394,0.7640631377696991,0.737919705254691,0.7447845220565796,0.7179601218019211,0.6986582236630577,0.7011471186365399,0.7005218369620188,0.7090169327599664,0.6860729583672113,0.6898193555218834,0.6686882785388402,0.6923821049077172,0.6880971951144083,0.6766521743365695,0.6912842001233781,0.6506018242665699,0.6536116940634592,0.6431171383176534,0.6512016917978015,0.6434819408825465,0.650241447346551,0.6451359842504772]},{\"marker\":{\"maxdisplayed\":10},\"mode\":\"lines+markers\",\"name\":\"Trial5\",\"type\":\"scatter\",\"x\":[0,1,2,3,4,5,6,7,8,9,10,11,12,13,14,15,16,17],\"y\":[1.8012091496895095,1.149803830538425,1.0075301832539916,1.0010083276650013,0.996615114443728,1.038842519248914,0.9955243963432909,0.9562938986900833,1.0103151327390278,1.0538109811869534,0.9692634037669555,0.9715902351286716,0.8968031804389716,0.9129430350838783,0.8879198093773055,0.8794706927197853,0.8794025846035881,0.865007256452567]},{\"marker\":{\"maxdisplayed\":10},\"mode\":\"lines+markers\",\"name\":\"Trial6\",\"type\":\"scatter\",\"x\":[0,1,2,3,4],\"y\":[2.3020671586404164,2.3034172469171996,2.3022171024797213,2.3026486972997557,2.3025731357677435]},{\"marker\":{\"maxdisplayed\":10},\"mode\":\"lines+markers\",\"name\":\"Trial7\",\"type\":\"scatter\",\"x\":[0,1,2,3,4,5,6,7,8,9,10,11,12,13,14,15,16,17],\"y\":[2.183761470658437,1.1648964265414665,0.8286864151273455,0.7313611792666571,0.7192206326552804,0.7389905382905688,0.7293464970588681,0.7059742773430685,0.629064655218805,0.7313819125720435,0.7298508295842576,0.725763509443828,0.7037960630655289,0.621431731751987,0.6230970844200681,0.5944891283341814,0.6064506699357716,0.6068019109112874]},{\"marker\":{\"maxdisplayed\":10},\"mode\":\"lines+markers\",\"name\":\"Trial8\",\"type\":\"scatter\",\"x\":[0],\"y\":[6.282607353966809]},{\"marker\":{\"maxdisplayed\":10},\"mode\":\"lines+markers\",\"name\":\"Trial9\",\"type\":\"scatter\",\"x\":[0,1,2,3,4,5,6,7,8,9,10,11,12,13,14,15,16,17,18,19,20,21,22,23,24,25,26,27,28,29,30,31,32,33,34,35,36],\"y\":[1.8493679790962034,1.5697289104384136,1.3987185000404116,1.2666226384762505,0.5460489618826686,0.4544903722397358,0.4271181900569095,0.3518341769411309,0.36901454470021955,0.34979317068730625,0.34466652103717416,0.3491086834047222,0.3479126502424076,0.36246930323238286,0.33547364542800906,0.35866413041343526,0.33005843729507617,0.34127738193525553,0.34267579836816336,0.3293621738751729,0.32335457769109,0.32501506343039704,0.3668164972084649,0.3282026406831855,0.3629272743696121,0.29303966470688664,0.29420087437036885,0.2907121476684484,0.28590350989807556,0.2903203790285562,0.29000574337232726,0.2827959037852803,0.28132008490604427,0.28386276352615536,0.28684788597066224,0.2869081478616409,0.2903496698049833]},{\"marker\":{\"maxdisplayed\":10},\"mode\":\"lines+markers\",\"name\":\"Trial10\",\"type\":\"scatter\",\"x\":[0,1,2,3,4,5,6,7,8,9,10,11,12,13,14,15,16,17,18,19,20,21,22,23,24,25,26,27,28,29,30,31,32,33],\"y\":[0.42155180284471216,0.27204082454695844,0.2388179216421012,0.25597797921209614,0.25438446890224115,0.2587070568944469,0.25874792716719885,0.16630478474226865,0.15105720338496292,0.15089472609035898,0.14596810869195245,0.1409255832885251,0.1461421422886126,0.13170686431906437,0.14122867358453342,0.12993614556211414,0.12939865503347286,0.12726436781160758,0.1254872124303471,0.1335563178766858,0.11844782079711105,0.1245727825796965,0.12296772161216446,0.1234149302948605,0.12976270868922724,0.10374965767065684,0.10130133321790985,0.09963304684920746,0.09907719165538298,0.09875674974737746,0.09958299204255597,0.1001670861786062,0.09899416453007497,0.10216556308847485]},{\"marker\":{\"maxdisplayed\":10},\"mode\":\"lines+markers\",\"name\":\"Trial11\",\"type\":\"scatter\",\"x\":[0,1,2,3,4,5,6,7,8,9,10,11,12,13,14,15,16,17,18,19,20,21,22,23,24,25,26,27,28,29,30,31,32,33,34,35,36,37,38,39,40,41,42,43,44,45,46,47,48,49,50,51,52],\"y\":[0.42330165645655465,0.3492195430923911,0.31271329960402316,0.28233120765756164,0.291511686409221,0.27981174079810867,0.3075009536217241,0.31765226099421,0.3126528482226764,0.30477184714639904,0.20299873238100724,0.16448045346666787,0.1595846473732415,0.15619015014346913,0.15205221645095768,0.14080528520485933,0.15188498641638193,0.1461011294056387,0.13883913987699678,0.1459991657996879,0.14535855655284485,0.1446269229054451,0.12623871950542223,0.13652823186096022,0.13545258430873644,0.13417336563853657,0.13483620500739876,0.10964955783942165,0.10973048495019183,0.11010644595850917,0.10734480115420679,0.10859773220384822,0.1101703100344714,0.10900713569101166,0.10855792616220082,0.10682572950335108,0.10680285271476297,0.10556096430210507,0.10638747254715247,0.10553453687359306,0.10531436082194832,0.10552119507509121,0.10603381956324857,0.1059943352113752,0.10548570730230387,0.10451153709607963,0.10472988775547813,0.1066428587278899,0.10432604119619904,0.10487128268269934,0.10602743770269783,0.10529728310511392,0.10526263297480695]},{\"marker\":{\"maxdisplayed\":10},\"mode\":\"lines+markers\",\"name\":\"Trial12\",\"type\":\"scatter\",\"x\":[0,1,2,3,4,5,6,7,8,9,10,11,12,13,14,15,16,17,18,19,20,21,22,23,24,25,26,27,28,29,30,31,32,33,34],\"y\":[0.3925249740000694,0.36274957512655576,0.34808679021173905,0.33572821078761933,0.2963600379805411,0.3013002055306589,0.3187422992721681,0.3951237278599892,0.3128107584291889,0.20960799676756706,0.1828792249002764,0.18059304885325894,0.16512875643468675,0.15795461160521354,0.15199648853271233,0.15519279121391236,0.15342249000264757,0.14199988640123798,0.14577166183340928,0.14167048253359335,0.14518411649811652,0.14025250389691324,0.14374908852961754,0.13622557275718258,0.14078665164209184,0.14803782706299135,0.14008813808041232,0.13714574397571624,0.1191816036739657,0.1149031224270021,0.11315505591131028,0.11548212951710148,0.11622216913007921,0.114157157078866,0.11622192518364996]},{\"marker\":{\"maxdisplayed\":10},\"mode\":\"lines+markers\",\"name\":\"Trial13\",\"type\":\"scatter\",\"x\":[0,1,2],\"y\":[1.4237588946499045,1.5519301909119334,1.5941696807519712]},{\"marker\":{\"maxdisplayed\":10},\"mode\":\"lines+markers\",\"name\":\"Trial14\",\"type\":\"scatter\",\"x\":[0],\"y\":[2.3023522713524973]},{\"marker\":{\"maxdisplayed\":10},\"mode\":\"lines+markers\",\"name\":\"Trial15\",\"type\":\"scatter\",\"x\":[0],\"y\":[6.9832089668096495]},{\"marker\":{\"maxdisplayed\":10},\"mode\":\"lines+markers\",\"name\":\"Trial16\",\"type\":\"scatter\",\"x\":[0],\"y\":[2.4981906340672433]},{\"marker\":{\"maxdisplayed\":10},\"mode\":\"lines+markers\",\"name\":\"Trial17\",\"type\":\"scatter\",\"x\":[0,1,2,3,4,5,6,7,8,9,10,11,12,13,14,15,16,17,18,19,20,21,22,23,24,25,26,27,28,29,30,31,32,33,34,35,36,37,38,39,40,41,42,43,44,45,46,47,48,49,50,51],\"y\":[0.8010819244384765,0.346312906742096,0.30206217229366306,0.2614089480042457,0.28859081178903573,0.2544113197922707,0.2562220177054404,0.23120985984802253,0.2864360386133194,0.26606367319822305,0.28649091273546223,0.24634699881076808,0.18454554855823516,0.16723236083984372,0.162086017280817,0.15975033208727832,0.1569013774394989,0.15767783924937248,0.15212707221508032,0.1532375371456146,0.15052704483270649,0.14652781456708905,0.14694648548960687,0.14496138080954557,0.1411894394457341,0.14784046962857245,0.14541165247559545,0.13955552086234096,0.14235431477427482,0.1433003133535385,0.14540453061461456,0.1436649037897587,0.1299312110990286,0.1283286830782891,0.12736595273017884,0.12739746108651165,0.12747461646795272,0.1273999896645546,0.126318491101265,0.1259433852136135,0.12544865638017655,0.12524622827768325,0.12524555847048757,0.12643247604370111,0.12594704911112783,0.12505825847387309,0.1246661773324013,0.12427728064358233,0.12538086801767348,0.1251141823083162,0.12432942710816862,0.1245449511706829]},{\"marker\":{\"maxdisplayed\":10},\"mode\":\"lines+markers\",\"name\":\"Trial18\",\"type\":\"scatter\",\"x\":[0],\"y\":[2.2976637996790066]},{\"marker\":{\"maxdisplayed\":10},\"mode\":\"lines+markers\",\"name\":\"Trial19\",\"type\":\"scatter\",\"x\":[0],\"y\":[58.13459199050378]},{\"marker\":{\"maxdisplayed\":10},\"mode\":\"lines+markers\",\"name\":\"Trial20\",\"type\":\"scatter\",\"x\":[0,1,2,3,4,5,6,7,8,9,10,11,12,13,14,15,16,17,18,19,20,21,22,23,24,25,26,27,28,29,30,31,32,33,34,35,36,37,38,39,40,41,42,43],\"y\":[0.417645422120889,0.33782509900629526,0.33748545559744036,0.32122985397775966,0.32228479115292435,0.3143600425682963,0.3579967841506004,0.35183403912621264,0.38288142407933873,0.4162188277890285,0.25468252288798476,0.24199129423747462,0.24649825707698855,0.21816946674759188,0.21689282862159123,0.21948267410819727,0.21671324937293923,0.21191807712117833,0.21136322811556363,0.20086942768345273,0.2046366264112294,0.20516933718075353,0.20961629816641406,0.20631806785240778,0.19186250624867776,0.19291296368464836,0.1908244355581701,0.18958679633215067,0.19153932086192074,0.1881008725613355,0.18907226986872655,0.19036515072608995,0.18697181421642514,0.18758348150489237,0.18986637812728688,0.18765077452796203,0.18752257122347749,0.18528390450713533,0.18593600143988925,0.1862271424227705,0.1861622759606689,0.18643287996140623,0.18492737761698658,0.18723363848403102]},{\"marker\":{\"maxdisplayed\":10},\"mode\":\"lines+markers\",\"name\":\"Trial21\",\"type\":\"scatter\",\"x\":[0,1,2,3,4,5,6,7],\"y\":[0.6333851252877435,0.5089889002400773,0.42817807128263063,0.4248138402783593,0.38124869036120035,0.4158936662729396,0.43947276542353075,0.5459465952806694]},{\"marker\":{\"maxdisplayed\":10},\"mode\":\"lines+markers\",\"name\":\"Trial22\",\"type\":\"scatter\",\"x\":[0,1,2,3,4,5,6,7,8,9,10,11,12,13,14,15,16,17,18,19,20,21,22,23,24,25,26,27,28,29,30,31,32,33],\"y\":[0.45591743752874175,0.26834435144375113,0.23604346246554933,0.22907662186129343,0.22460071280084806,0.21309984757982448,0.19602144175562367,0.2048626326281449,0.2606256254788103,0.26105963207524385,0.2163948478369877,0.13897528011223362,0.12940994752892135,0.1286990286718155,0.12504923934566564,0.1261788275221299,0.12610207600840204,0.11615239032383623,0.12225728533391295,0.11603485099200543,0.11465345862610588,0.11541316606875122,0.11639014991192984,0.11290020752569724,0.11634632277077642,0.11448889868012792,0.11583742422276527,0.11956837901781345,0.09781732641417407,0.09505551989222395,0.0962482277175476,0.09551269368364894,0.09698804544991461,0.09804962896581355]},{\"marker\":{\"maxdisplayed\":10},\"mode\":\"lines+markers\",\"name\":\"Trial23\",\"type\":\"scatter\",\"x\":[0],\"y\":[1.4132349756028921]},{\"marker\":{\"maxdisplayed\":10},\"mode\":\"lines+markers\",\"name\":\"Trial24\",\"type\":\"scatter\",\"x\":[0],\"y\":[1.6349308584865767]},{\"marker\":{\"maxdisplayed\":10},\"mode\":\"lines+markers\",\"name\":\"Trial25\",\"type\":\"scatter\",\"x\":[0,1,2,3,4,5,6,7,8,9,10,11,12,13,14,15,16,17,18,19,20,21,22,23,24,25,26,27],\"y\":[0.4604678849379222,0.3174964865048727,0.2764313911398252,0.2854641869664192,0.2829380735754967,0.255763370792071,0.24155173351367315,0.2498086512088776,0.2976921814183394,0.27916152179241177,0.257485570013523,0.15796080306172372,0.15827523122231166,0.14610927663743503,0.14359626894195876,0.15919123316804565,0.1415112627049287,0.1338651177162925,0.1514496684074402,0.13824966202179592,0.13439288263519603,0.13659972573320073,0.1268646309773127,0.11502095063527425,0.11547070095936457,0.11630920693278311,0.12008363008499146,0.1289341854552428]},{\"marker\":{\"maxdisplayed\":10},\"mode\":\"lines+markers\",\"name\":\"Trial26\",\"type\":\"scatter\",\"x\":[0],\"y\":[2.302661408604803]},{\"marker\":{\"maxdisplayed\":10},\"mode\":\"lines+markers\",\"name\":\"Trial27\",\"type\":\"scatter\",\"x\":[0,1,2,3,4,5,6,7,8,9,10,11,12,13,14,15,16,17,18,19,20,21,22,23,24,25,26,27,28,29,30,31,32,33,34,35,36,37,38,39,40,41,42,43,44,45],\"y\":[0.36637092503004315,0.2580144135931204,0.23784818223049478,0.22409608007170437,0.22369818103521374,0.2404589525662189,0.24837205056534253,0.23778575953356054,0.24628202279293263,0.15490972380651982,0.15161332171843495,0.15120446565019535,0.1409118749028028,0.13800146491375076,0.13676495074706024,0.13107808423770026,0.13146804654321007,0.12812545250148272,0.13213026268017844,0.13156821977260502,0.12785204175079987,0.12972578293708864,0.133074292220002,0.12671249108605612,0.12033206146470336,0.13004328037590482,0.12204240011267883,0.12660959471277022,0.12793248402344623,0.11378650557856229,0.11247070532205498,0.11119584193409877,0.11228281190229016,0.11158730245606842,0.11100686575437702,0.11186823547752787,0.11190326373244441,0.11127058251999147,0.1117147510048262,0.11024606461788332,0.11004716764355814,0.10991137643712894,0.10995581278274229,0.11003163968061289,0.10995076336832935,0.11005292646586896]},{\"marker\":{\"maxdisplayed\":10},\"mode\":\"lines+markers\",\"name\":\"Trial28\",\"type\":\"scatter\",\"x\":[0],\"y\":[2.610581692782315]},{\"marker\":{\"maxdisplayed\":10},\"mode\":\"lines+markers\",\"name\":\"Trial29\",\"type\":\"scatter\",\"x\":[0],\"y\":[2.301452676455179]},{\"marker\":{\"maxdisplayed\":10},\"mode\":\"lines+markers\",\"name\":\"Trial30\",\"type\":\"scatter\",\"x\":[0],\"y\":[1.2408366326628055]},{\"marker\":{\"maxdisplayed\":10},\"mode\":\"lines+markers\",\"name\":\"Trial31\",\"type\":\"scatter\",\"x\":[0,1,2,3,4],\"y\":[0.3734771377510494,0.3116690694457955,0.3022319964236683,0.35951017257240087,0.3378184388081233]},{\"marker\":{\"maxdisplayed\":10},\"mode\":\"lines+markers\",\"name\":\"Trial32\",\"type\":\"scatter\",\"x\":[0],\"y\":[0.8846280468361718]},{\"marker\":{\"maxdisplayed\":10},\"mode\":\"lines+markers\",\"name\":\"Trial33\",\"type\":\"scatter\",\"x\":[0,1],\"y\":[0.41229501137366653,0.39789619736182374]},{\"marker\":{\"maxdisplayed\":10},\"mode\":\"lines+markers\",\"name\":\"Trial34\",\"type\":\"scatter\",\"x\":[0,1,2,3,4,5,6,7,8,9,10,11,12,13,14,15,16,17,18,19,20,21,22,23,24,25,26,27,28,29,30,31,32,33,34,35,36,37],\"y\":[0.37087897297281486,0.2583536316569034,0.2043364956401861,0.21843564481689384,0.2112242626742675,0.2087765820324421,0.19090553845923677,0.1942516668484761,0.22401242717527423,0.22969627108138352,0.21676463189606485,0.13877985841379709,0.13474477225771317,0.14340167062786904,0.13109870613194433,0.12916668468656445,0.13253583458180607,0.12939372239634397,0.1273842777053898,0.12936821243224228,0.12473654489104562,0.12565902333993179,0.12322267030294125,0.12564072485726613,0.12311641270151506,0.1178304054416143,0.12231663335114719,0.1242202965972515,0.12253601877735208,0.12317970925225663,0.1101621498282139,0.11103401762934828,0.1081462148576975,0.10721965563985018,0.1082355362148239,0.10959037543775946,0.10939178902369279,0.11036397867764416]},{\"marker\":{\"maxdisplayed\":10},\"mode\":\"lines+markers\",\"name\":\"Trial35\",\"type\":\"scatter\",\"x\":[0],\"y\":[2.458723923055137]},{\"marker\":{\"maxdisplayed\":10},\"mode\":\"lines+markers\",\"name\":\"Trial36\",\"type\":\"scatter\",\"x\":[0],\"y\":[0.7118209216016281]},{\"marker\":{\"maxdisplayed\":10},\"mode\":\"lines+markers\",\"name\":\"Trial37\",\"type\":\"scatter\",\"x\":[0,1],\"y\":[0.40629135005509676,0.3617844007798095]},{\"marker\":{\"maxdisplayed\":10},\"mode\":\"lines+markers\",\"name\":\"Trial38\",\"type\":\"scatter\",\"x\":[0],\"y\":[2.3890703646641835]},{\"marker\":{\"maxdisplayed\":10},\"mode\":\"lines+markers\",\"name\":\"Trial39\",\"type\":\"scatter\",\"x\":[0],\"y\":[2.3033144872131053]},{\"marker\":{\"maxdisplayed\":10},\"mode\":\"lines+markers\",\"name\":\"Trial40\",\"type\":\"scatter\",\"x\":[0],\"y\":[2.2329890659877227]},{\"marker\":{\"maxdisplayed\":10},\"mode\":\"lines+markers\",\"name\":\"Trial41\",\"type\":\"scatter\",\"x\":[0,1,2,3,4,5,6,7,8,9,10,11,12,13,14,15,16,17,18,19,20,21,22,23,24,25,26,27,28,29,30,31],\"y\":[0.4771085181832316,0.2512971171736717,0.1975300964713097,0.18797459259629248,0.17590947374701496,0.16960052341222767,0.16083708450198178,0.16993433073163028,0.18639882370829583,0.17938687853515148,0.18393402993679048,0.11551134228706358,0.11544572055339812,0.11581684090197089,0.11353619933128357,0.11206476703286171,0.11274588465690613,0.109221108853817,0.11427034571766853,0.10770794905722142,0.10690710715949533,0.10943285726010799,0.11138656862080097,0.11029720351099967,0.11198449805378916,0.09960743114352227,0.09933081433176995,0.09930000439286231,0.1007522987574339,0.0996128100156784,0.10174034781754017,0.10225289911031724]},{\"marker\":{\"maxdisplayed\":10},\"mode\":\"lines+markers\",\"name\":\"Trial42\",\"type\":\"scatter\",\"x\":[0],\"y\":[0.5428912725713518]},{\"marker\":{\"maxdisplayed\":10},\"mode\":\"lines+markers\",\"name\":\"Trial43\",\"type\":\"scatter\",\"x\":[0,1,2,3,4,5,6,7,8,9,10,11,12,13,14,15,16,17,18,19,20],\"y\":[0.44869298365578714,0.24217625029051476,0.18711126517893661,0.1736039082283404,0.16425804182219858,0.14853662430350462,0.18173895709550203,0.16509725031123232,0.15547177896125985,0.16920067981552722,0.11615804466071415,0.11274467280773975,0.11490405951418095,0.11437887542728169,0.11407340034397682,0.11572992112209547,0.10732460878233414,0.10808784481304792,0.10822376208518866,0.10859572375888255,0.10793573070150707]},{\"marker\":{\"maxdisplayed\":10},\"mode\":\"lines+markers\",\"name\":\"Trial44\",\"type\":\"scatter\",\"x\":[0],\"y\":[0.4742498379765135]},{\"marker\":{\"maxdisplayed\":10},\"mode\":\"lines+markers\",\"name\":\"Trial45\",\"type\":\"scatter\",\"x\":[0],\"y\":[2.3019775186927576]},{\"marker\":{\"maxdisplayed\":10},\"mode\":\"lines+markers\",\"name\":\"Trial46\",\"type\":\"scatter\",\"x\":[0,1,2,3,4,5,6,7,8,9,10,11,12,13,14,15,16,17,18,19,20,21,22,23,24,25,26,27,28,29,30],\"y\":[0.37631859297448006,0.2457334461047294,0.24930990217848029,0.20268705392137487,0.25024097492086117,0.21450307204368266,0.23375950436642828,0.23550252267654903,0.15361714902076312,0.14358222278508734,0.14070397314239055,0.14419152286458523,0.1350884981294896,0.1333559442390787,0.13114277210007322,0.1332640248410245,0.13585319607815846,0.1314121311966409,0.13329696068738367,0.1187169221328928,0.12219621526434067,0.1181192120656054,0.11741178046832693,0.11777929058100314,0.11771823925540803,0.11810485249821175,0.11820283674813331,0.11608985383459859,0.11746634733169635,0.11624844213749498,0.11752264233345681]},{\"marker\":{\"maxdisplayed\":10},\"mode\":\"lines+markers\",\"name\":\"Trial47\",\"type\":\"scatter\",\"x\":[0,1,2,3,4,5,6,7,8,9,10,11,12,13,14,15,16,17,18,19,20,21,22,23,24,25],\"y\":[0.3805617886671422,0.22126489880426045,0.1828096603396006,0.18026370908066408,0.15015135069878144,0.14777996847501165,0.16641038857515286,0.15843756118012353,0.16058962945958016,0.15725616119342573,0.12095034437894954,0.12249877420729592,0.12012663467817208,0.11792209302587324,0.11934803985937176,0.11592450928552418,0.11697193628648203,0.11723836199128075,0.12054255370376957,0.11911407950223057,0.11388965446000089,0.1134480545147289,0.11376224817651058,0.11397078769239066,0.11390003831384052,0.11387340785867493]},{\"marker\":{\"maxdisplayed\":10},\"mode\":\"lines+markers\",\"name\":\"Trial48\",\"type\":\"scatter\",\"x\":[0],\"y\":[1.8371464590231574]},{\"marker\":{\"maxdisplayed\":10},\"mode\":\"lines+markers\",\"name\":\"Trial49\",\"type\":\"scatter\",\"x\":[0],\"y\":[2.1194111108779907]},{\"marker\":{\"maxdisplayed\":10},\"mode\":\"lines+markers\",\"name\":\"Trial50\",\"type\":\"scatter\",\"x\":[0],\"y\":[0.48341967422386695]},{\"marker\":{\"maxdisplayed\":10},\"mode\":\"lines+markers\",\"name\":\"Trial51\",\"type\":\"scatter\",\"x\":[0,1],\"y\":[0.4101482502051762,0.3503876279811471]},{\"marker\":{\"maxdisplayed\":10},\"mode\":\"lines+markers\",\"name\":\"Trial52\",\"type\":\"scatter\",\"x\":[0,1,2,3,4,5,6,7,8,9,10,11],\"y\":[0.43962077758251095,0.27688589462867147,0.24189111934258387,0.2243929409827941,0.23192518108930343,0.24789226590058744,0.21257528395224845,0.21159129226819065,0.21257037268235132,0.22932459031924227,0.21504759750305077,0.23196084262468872]},{\"marker\":{\"maxdisplayed\":10},\"mode\":\"lines+markers\",\"name\":\"Trial53\",\"type\":\"scatter\",\"x\":[0],\"y\":[0.5043471835313302]},{\"marker\":{\"maxdisplayed\":10},\"mode\":\"lines+markers\",\"name\":\"Trial54\",\"type\":\"scatter\",\"x\":[0],\"y\":[0.7592624380903424]},{\"marker\":{\"maxdisplayed\":10},\"mode\":\"lines+markers\",\"name\":\"Trial55\",\"type\":\"scatter\",\"x\":[0],\"y\":[0.4786058184577198]},{\"marker\":{\"maxdisplayed\":10},\"mode\":\"lines+markers\",\"name\":\"Trial56\",\"type\":\"scatter\",\"x\":[0],\"y\":[1.297168600004773]},{\"marker\":{\"maxdisplayed\":10},\"mode\":\"lines+markers\",\"name\":\"Trial57\",\"type\":\"scatter\",\"x\":[0,1,2,3,4,5,6,7,8,9,10,11,12,13,14,15,16,17,18,19,20,21,22,23,24,25,26,27,28,29,30],\"y\":[0.38414671655857197,0.2827055291696029,0.26779254683942505,0.23529438538984818,0.25789234990423376,0.21428179244200388,0.20327228262568964,0.20922928461522766,0.2992504984140395,0.24049158529801803,0.2471403899517926,0.1580903044704235,0.1496728367426179,0.14640827431823267,0.145247935797229,0.13670462415073859,0.13259830754814725,0.13602434572848407,0.13477334131797158,0.12942605194720355,0.1348290714350614,0.12456971497246712,0.1320294902631731,0.12178595996264256,0.11753173601446731,0.11824985142007019,0.11996049885496948,0.11892822181636635,0.11520174236008614,0.11425182968378067,0.12037085222475456]},{\"marker\":{\"maxdisplayed\":10},\"mode\":\"lines+markers\",\"name\":\"Trial58\",\"type\":\"scatter\",\"x\":[0],\"y\":[0.5696201471433248]},{\"marker\":{\"maxdisplayed\":10},\"mode\":\"lines+markers\",\"name\":\"Trial59\",\"type\":\"scatter\",\"x\":[0,1,2,3,4,5,6,7,8,9,10,11,12,13,14,15,16,17,18,19,20,21,22,23,24,25,26,27,28],\"y\":[0.2800267416863672,0.2550695544529346,0.33925979608489626,0.2859659096406352,0.3052767407028904,0.3039572040640539,0.19012849321288444,0.1750454476043101,0.16700172087838572,0.16113254007312564,0.15406796843895032,0.1526324531784462,0.14689284929585067,0.1489879811002361,0.1470239897288623,0.15602341489565955,0.14988788361510919,0.13297725549989164,0.13127873979148366,0.13153907972117593,0.1320429225902884,0.13024547966497566,0.13133983061678947,0.12903598179259607,0.12951546907424927,0.13069896841601975,0.13082503181912247,0.12930535331308357,0.1286088166638248]}],                        {\"showlegend\":false,\"template\":{\"data\":{\"bar\":[{\"error_x\":{\"color\":\"#2a3f5f\"},\"error_y\":{\"color\":\"#2a3f5f\"},\"marker\":{\"line\":{\"color\":\"#E5ECF6\",\"width\":0.5},\"pattern\":{\"fillmode\":\"overlay\",\"size\":10,\"solidity\":0.2}},\"type\":\"bar\"}],\"barpolar\":[{\"marker\":{\"line\":{\"color\":\"#E5ECF6\",\"width\":0.5},\"pattern\":{\"fillmode\":\"overlay\",\"size\":10,\"solidity\":0.2}},\"type\":\"barpolar\"}],\"carpet\":[{\"aaxis\":{\"endlinecolor\":\"#2a3f5f\",\"gridcolor\":\"white\",\"linecolor\":\"white\",\"minorgridcolor\":\"white\",\"startlinecolor\":\"#2a3f5f\"},\"baxis\":{\"endlinecolor\":\"#2a3f5f\",\"gridcolor\":\"white\",\"linecolor\":\"white\",\"minorgridcolor\":\"white\",\"startlinecolor\":\"#2a3f5f\"},\"type\":\"carpet\"}],\"choropleth\":[{\"colorbar\":{\"outlinewidth\":0,\"ticks\":\"\"},\"type\":\"choropleth\"}],\"contour\":[{\"colorbar\":{\"outlinewidth\":0,\"ticks\":\"\"},\"colorscale\":[[0.0,\"#0d0887\"],[0.1111111111111111,\"#46039f\"],[0.2222222222222222,\"#7201a8\"],[0.3333333333333333,\"#9c179e\"],[0.4444444444444444,\"#bd3786\"],[0.5555555555555556,\"#d8576b\"],[0.6666666666666666,\"#ed7953\"],[0.7777777777777778,\"#fb9f3a\"],[0.8888888888888888,\"#fdca26\"],[1.0,\"#f0f921\"]],\"type\":\"contour\"}],\"contourcarpet\":[{\"colorbar\":{\"outlinewidth\":0,\"ticks\":\"\"},\"type\":\"contourcarpet\"}],\"heatmap\":[{\"colorbar\":{\"outlinewidth\":0,\"ticks\":\"\"},\"colorscale\":[[0.0,\"#0d0887\"],[0.1111111111111111,\"#46039f\"],[0.2222222222222222,\"#7201a8\"],[0.3333333333333333,\"#9c179e\"],[0.4444444444444444,\"#bd3786\"],[0.5555555555555556,\"#d8576b\"],[0.6666666666666666,\"#ed7953\"],[0.7777777777777778,\"#fb9f3a\"],[0.8888888888888888,\"#fdca26\"],[1.0,\"#f0f921\"]],\"type\":\"heatmap\"}],\"heatmapgl\":[{\"colorbar\":{\"outlinewidth\":0,\"ticks\":\"\"},\"colorscale\":[[0.0,\"#0d0887\"],[0.1111111111111111,\"#46039f\"],[0.2222222222222222,\"#7201a8\"],[0.3333333333333333,\"#9c179e\"],[0.4444444444444444,\"#bd3786\"],[0.5555555555555556,\"#d8576b\"],[0.6666666666666666,\"#ed7953\"],[0.7777777777777778,\"#fb9f3a\"],[0.8888888888888888,\"#fdca26\"],[1.0,\"#f0f921\"]],\"type\":\"heatmapgl\"}],\"histogram\":[{\"marker\":{\"pattern\":{\"fillmode\":\"overlay\",\"size\":10,\"solidity\":0.2}},\"type\":\"histogram\"}],\"histogram2d\":[{\"colorbar\":{\"outlinewidth\":0,\"ticks\":\"\"},\"colorscale\":[[0.0,\"#0d0887\"],[0.1111111111111111,\"#46039f\"],[0.2222222222222222,\"#7201a8\"],[0.3333333333333333,\"#9c179e\"],[0.4444444444444444,\"#bd3786\"],[0.5555555555555556,\"#d8576b\"],[0.6666666666666666,\"#ed7953\"],[0.7777777777777778,\"#fb9f3a\"],[0.8888888888888888,\"#fdca26\"],[1.0,\"#f0f921\"]],\"type\":\"histogram2d\"}],\"histogram2dcontour\":[{\"colorbar\":{\"outlinewidth\":0,\"ticks\":\"\"},\"colorscale\":[[0.0,\"#0d0887\"],[0.1111111111111111,\"#46039f\"],[0.2222222222222222,\"#7201a8\"],[0.3333333333333333,\"#9c179e\"],[0.4444444444444444,\"#bd3786\"],[0.5555555555555556,\"#d8576b\"],[0.6666666666666666,\"#ed7953\"],[0.7777777777777778,\"#fb9f3a\"],[0.8888888888888888,\"#fdca26\"],[1.0,\"#f0f921\"]],\"type\":\"histogram2dcontour\"}],\"mesh3d\":[{\"colorbar\":{\"outlinewidth\":0,\"ticks\":\"\"},\"type\":\"mesh3d\"}],\"parcoords\":[{\"line\":{\"colorbar\":{\"outlinewidth\":0,\"ticks\":\"\"}},\"type\":\"parcoords\"}],\"pie\":[{\"automargin\":true,\"type\":\"pie\"}],\"scatter\":[{\"marker\":{\"colorbar\":{\"outlinewidth\":0,\"ticks\":\"\"}},\"type\":\"scatter\"}],\"scatter3d\":[{\"line\":{\"colorbar\":{\"outlinewidth\":0,\"ticks\":\"\"}},\"marker\":{\"colorbar\":{\"outlinewidth\":0,\"ticks\":\"\"}},\"type\":\"scatter3d\"}],\"scattercarpet\":[{\"marker\":{\"colorbar\":{\"outlinewidth\":0,\"ticks\":\"\"}},\"type\":\"scattercarpet\"}],\"scattergeo\":[{\"marker\":{\"colorbar\":{\"outlinewidth\":0,\"ticks\":\"\"}},\"type\":\"scattergeo\"}],\"scattergl\":[{\"marker\":{\"colorbar\":{\"outlinewidth\":0,\"ticks\":\"\"}},\"type\":\"scattergl\"}],\"scattermapbox\":[{\"marker\":{\"colorbar\":{\"outlinewidth\":0,\"ticks\":\"\"}},\"type\":\"scattermapbox\"}],\"scatterpolar\":[{\"marker\":{\"colorbar\":{\"outlinewidth\":0,\"ticks\":\"\"}},\"type\":\"scatterpolar\"}],\"scatterpolargl\":[{\"marker\":{\"colorbar\":{\"outlinewidth\":0,\"ticks\":\"\"}},\"type\":\"scatterpolargl\"}],\"scatterternary\":[{\"marker\":{\"colorbar\":{\"outlinewidth\":0,\"ticks\":\"\"}},\"type\":\"scatterternary\"}],\"surface\":[{\"colorbar\":{\"outlinewidth\":0,\"ticks\":\"\"},\"colorscale\":[[0.0,\"#0d0887\"],[0.1111111111111111,\"#46039f\"],[0.2222222222222222,\"#7201a8\"],[0.3333333333333333,\"#9c179e\"],[0.4444444444444444,\"#bd3786\"],[0.5555555555555556,\"#d8576b\"],[0.6666666666666666,\"#ed7953\"],[0.7777777777777778,\"#fb9f3a\"],[0.8888888888888888,\"#fdca26\"],[1.0,\"#f0f921\"]],\"type\":\"surface\"}],\"table\":[{\"cells\":{\"fill\":{\"color\":\"#EBF0F8\"},\"line\":{\"color\":\"white\"}},\"header\":{\"fill\":{\"color\":\"#C8D4E3\"},\"line\":{\"color\":\"white\"}},\"type\":\"table\"}]},\"layout\":{\"annotationdefaults\":{\"arrowcolor\":\"#2a3f5f\",\"arrowhead\":0,\"arrowwidth\":1},\"autotypenumbers\":\"strict\",\"coloraxis\":{\"colorbar\":{\"outlinewidth\":0,\"ticks\":\"\"}},\"colorscale\":{\"diverging\":[[0,\"#8e0152\"],[0.1,\"#c51b7d\"],[0.2,\"#de77ae\"],[0.3,\"#f1b6da\"],[0.4,\"#fde0ef\"],[0.5,\"#f7f7f7\"],[0.6,\"#e6f5d0\"],[0.7,\"#b8e186\"],[0.8,\"#7fbc41\"],[0.9,\"#4d9221\"],[1,\"#276419\"]],\"sequential\":[[0.0,\"#0d0887\"],[0.1111111111111111,\"#46039f\"],[0.2222222222222222,\"#7201a8\"],[0.3333333333333333,\"#9c179e\"],[0.4444444444444444,\"#bd3786\"],[0.5555555555555556,\"#d8576b\"],[0.6666666666666666,\"#ed7953\"],[0.7777777777777778,\"#fb9f3a\"],[0.8888888888888888,\"#fdca26\"],[1.0,\"#f0f921\"]],\"sequentialminus\":[[0.0,\"#0d0887\"],[0.1111111111111111,\"#46039f\"],[0.2222222222222222,\"#7201a8\"],[0.3333333333333333,\"#9c179e\"],[0.4444444444444444,\"#bd3786\"],[0.5555555555555556,\"#d8576b\"],[0.6666666666666666,\"#ed7953\"],[0.7777777777777778,\"#fb9f3a\"],[0.8888888888888888,\"#fdca26\"],[1.0,\"#f0f921\"]]},\"colorway\":[\"#636efa\",\"#EF553B\",\"#00cc96\",\"#ab63fa\",\"#FFA15A\",\"#19d3f3\",\"#FF6692\",\"#B6E880\",\"#FF97FF\",\"#FECB52\"],\"font\":{\"color\":\"#2a3f5f\"},\"geo\":{\"bgcolor\":\"white\",\"lakecolor\":\"white\",\"landcolor\":\"#E5ECF6\",\"showlakes\":true,\"showland\":true,\"subunitcolor\":\"white\"},\"hoverlabel\":{\"align\":\"left\"},\"hovermode\":\"closest\",\"mapbox\":{\"style\":\"light\"},\"paper_bgcolor\":\"white\",\"plot_bgcolor\":\"#E5ECF6\",\"polar\":{\"angularaxis\":{\"gridcolor\":\"white\",\"linecolor\":\"white\",\"ticks\":\"\"},\"bgcolor\":\"#E5ECF6\",\"radialaxis\":{\"gridcolor\":\"white\",\"linecolor\":\"white\",\"ticks\":\"\"}},\"scene\":{\"xaxis\":{\"backgroundcolor\":\"#E5ECF6\",\"gridcolor\":\"white\",\"gridwidth\":2,\"linecolor\":\"white\",\"showbackground\":true,\"ticks\":\"\",\"zerolinecolor\":\"white\"},\"yaxis\":{\"backgroundcolor\":\"#E5ECF6\",\"gridcolor\":\"white\",\"gridwidth\":2,\"linecolor\":\"white\",\"showbackground\":true,\"ticks\":\"\",\"zerolinecolor\":\"white\"},\"zaxis\":{\"backgroundcolor\":\"#E5ECF6\",\"gridcolor\":\"white\",\"gridwidth\":2,\"linecolor\":\"white\",\"showbackground\":true,\"ticks\":\"\",\"zerolinecolor\":\"white\"}},\"shapedefaults\":{\"line\":{\"color\":\"#2a3f5f\"}},\"ternary\":{\"aaxis\":{\"gridcolor\":\"white\",\"linecolor\":\"white\",\"ticks\":\"\"},\"baxis\":{\"gridcolor\":\"white\",\"linecolor\":\"white\",\"ticks\":\"\"},\"bgcolor\":\"#E5ECF6\",\"caxis\":{\"gridcolor\":\"white\",\"linecolor\":\"white\",\"ticks\":\"\"}},\"title\":{\"x\":0.05},\"xaxis\":{\"automargin\":true,\"gridcolor\":\"white\",\"linecolor\":\"white\",\"ticks\":\"\",\"title\":{\"standoff\":15},\"zerolinecolor\":\"white\",\"zerolinewidth\":2},\"yaxis\":{\"automargin\":true,\"gridcolor\":\"white\",\"linecolor\":\"white\",\"ticks\":\"\",\"title\":{\"standoff\":15},\"zerolinecolor\":\"white\",\"zerolinewidth\":2}}},\"title\":{\"text\":\"Intermediate Values Plot\"},\"xaxis\":{\"title\":{\"text\":\"Step\"}},\"yaxis\":{\"title\":{\"text\":\"Intermediate Value\"}}},                        {\"responsive\": true}                    ).then(function(){\n",
       "                            \n",
       "var gd = document.getElementById('a14bb079-0810-4dbd-b3a6-2158e8562c84');\n",
       "var x = new MutationObserver(function (mutations, observer) {{\n",
       "        var display = window.getComputedStyle(gd).display;\n",
       "        if (!display || display === 'none') {{\n",
       "            console.log([gd, 'removed!']);\n",
       "            Plotly.purge(gd);\n",
       "            observer.disconnect();\n",
       "        }}\n",
       "}});\n",
       "\n",
       "// Listen for the removal of the full notebook cells\n",
       "var notebookContainer = gd.closest('#notebook-container');\n",
       "if (notebookContainer) {{\n",
       "    x.observe(notebookContainer, {childList: true});\n",
       "}}\n",
       "\n",
       "// Listen for the clearing of the current output cell\n",
       "var outputEl = gd.closest('.output');\n",
       "if (outputEl) {{\n",
       "    x.observe(outputEl, {childList: true});\n",
       "}}\n",
       "\n",
       "                        })                };                });            </script>        </div>"
      ]
     },
     "metadata": {},
     "output_type": "display_data"
    }
   ],
   "source": [
    "optuna.visualization.plot_intermediate_values(study)"
   ]
  },
  {
   "cell_type": "code",
   "execution_count": 21,
   "id": "552e57d7",
   "metadata": {
    "execution": {
     "iopub.execute_input": "2021-09-23T19:20:04.151619Z",
     "iopub.status.busy": "2021-09-23T19:20:04.150841Z",
     "iopub.status.idle": "2021-09-23T19:20:04.157188Z",
     "shell.execute_reply": "2021-09-23T19:20:04.156415Z"
    },
    "id": "K5-JO1htcMxB",
    "outputId": "a5f52502-0fdb-47dc-a37b-f0295ad6bc86",
    "papermill": {
     "duration": 0.411207,
     "end_time": "2021-09-23T19:20:04.157303",
     "exception": false,
     "start_time": "2021-09-23T19:20:03.746096",
     "status": "completed"
    },
    "tags": []
   },
   "outputs": [
    {
     "data": {
      "text/html": [
       "<div>                            <div id=\"3f56012c-1df2-4ca0-b7eb-a36d38707b6d\" class=\"plotly-graph-div\" style=\"height:525px; width:100%;\"></div>            <script type=\"text/javascript\">                require([\"plotly\"], function(Plotly) {                    window.PLOTLYENV=window.PLOTLYENV || {};                                    if (document.getElementById(\"3f56012c-1df2-4ca0-b7eb-a36d38707b6d\")) {                    Plotly.newPlot(                        \"3f56012c-1df2-4ca0-b7eb-a36d38707b6d\",                        [{\"mode\":\"markers\",\"name\":\"Objective Value\",\"type\":\"scatter\",\"x\":[0,1,2,3,4,9,10,11,12,17,22,25,27,34,41,43,47],\"y\":[0.10331169174363218,0.2534626597782725,1.9807250459217334,0.3590984783352237,0.6431171383176534,0.28132008490604427,0.09875674974737746,0.10432604119619904,0.11315505591131028,0.12427728064358233,0.09505551989222395,0.11502095063527425,0.10991137643712894,0.10721965563985018,0.09930000439286231,0.10732460878233414,0.1134480545147289]},{\"name\":\"Best Value\",\"type\":\"scatter\",\"x\":[0,1,2,3,4,9,10,11,12,17,22,25,27,34,41,43,47],\"y\":[0.10331169174363218,0.10331169174363218,0.10331169174363218,0.10331169174363218,0.10331169174363218,0.10331169174363218,0.09875674974737746,0.09875674974737746,0.09875674974737746,0.09875674974737746,0.09505551989222395,0.09505551989222395,0.09505551989222395,0.09505551989222395,0.09505551989222395,0.09505551989222395,0.09505551989222395]}],                        {\"template\":{\"data\":{\"bar\":[{\"error_x\":{\"color\":\"#2a3f5f\"},\"error_y\":{\"color\":\"#2a3f5f\"},\"marker\":{\"line\":{\"color\":\"#E5ECF6\",\"width\":0.5},\"pattern\":{\"fillmode\":\"overlay\",\"size\":10,\"solidity\":0.2}},\"type\":\"bar\"}],\"barpolar\":[{\"marker\":{\"line\":{\"color\":\"#E5ECF6\",\"width\":0.5},\"pattern\":{\"fillmode\":\"overlay\",\"size\":10,\"solidity\":0.2}},\"type\":\"barpolar\"}],\"carpet\":[{\"aaxis\":{\"endlinecolor\":\"#2a3f5f\",\"gridcolor\":\"white\",\"linecolor\":\"white\",\"minorgridcolor\":\"white\",\"startlinecolor\":\"#2a3f5f\"},\"baxis\":{\"endlinecolor\":\"#2a3f5f\",\"gridcolor\":\"white\",\"linecolor\":\"white\",\"minorgridcolor\":\"white\",\"startlinecolor\":\"#2a3f5f\"},\"type\":\"carpet\"}],\"choropleth\":[{\"colorbar\":{\"outlinewidth\":0,\"ticks\":\"\"},\"type\":\"choropleth\"}],\"contour\":[{\"colorbar\":{\"outlinewidth\":0,\"ticks\":\"\"},\"colorscale\":[[0.0,\"#0d0887\"],[0.1111111111111111,\"#46039f\"],[0.2222222222222222,\"#7201a8\"],[0.3333333333333333,\"#9c179e\"],[0.4444444444444444,\"#bd3786\"],[0.5555555555555556,\"#d8576b\"],[0.6666666666666666,\"#ed7953\"],[0.7777777777777778,\"#fb9f3a\"],[0.8888888888888888,\"#fdca26\"],[1.0,\"#f0f921\"]],\"type\":\"contour\"}],\"contourcarpet\":[{\"colorbar\":{\"outlinewidth\":0,\"ticks\":\"\"},\"type\":\"contourcarpet\"}],\"heatmap\":[{\"colorbar\":{\"outlinewidth\":0,\"ticks\":\"\"},\"colorscale\":[[0.0,\"#0d0887\"],[0.1111111111111111,\"#46039f\"],[0.2222222222222222,\"#7201a8\"],[0.3333333333333333,\"#9c179e\"],[0.4444444444444444,\"#bd3786\"],[0.5555555555555556,\"#d8576b\"],[0.6666666666666666,\"#ed7953\"],[0.7777777777777778,\"#fb9f3a\"],[0.8888888888888888,\"#fdca26\"],[1.0,\"#f0f921\"]],\"type\":\"heatmap\"}],\"heatmapgl\":[{\"colorbar\":{\"outlinewidth\":0,\"ticks\":\"\"},\"colorscale\":[[0.0,\"#0d0887\"],[0.1111111111111111,\"#46039f\"],[0.2222222222222222,\"#7201a8\"],[0.3333333333333333,\"#9c179e\"],[0.4444444444444444,\"#bd3786\"],[0.5555555555555556,\"#d8576b\"],[0.6666666666666666,\"#ed7953\"],[0.7777777777777778,\"#fb9f3a\"],[0.8888888888888888,\"#fdca26\"],[1.0,\"#f0f921\"]],\"type\":\"heatmapgl\"}],\"histogram\":[{\"marker\":{\"pattern\":{\"fillmode\":\"overlay\",\"size\":10,\"solidity\":0.2}},\"type\":\"histogram\"}],\"histogram2d\":[{\"colorbar\":{\"outlinewidth\":0,\"ticks\":\"\"},\"colorscale\":[[0.0,\"#0d0887\"],[0.1111111111111111,\"#46039f\"],[0.2222222222222222,\"#7201a8\"],[0.3333333333333333,\"#9c179e\"],[0.4444444444444444,\"#bd3786\"],[0.5555555555555556,\"#d8576b\"],[0.6666666666666666,\"#ed7953\"],[0.7777777777777778,\"#fb9f3a\"],[0.8888888888888888,\"#fdca26\"],[1.0,\"#f0f921\"]],\"type\":\"histogram2d\"}],\"histogram2dcontour\":[{\"colorbar\":{\"outlinewidth\":0,\"ticks\":\"\"},\"colorscale\":[[0.0,\"#0d0887\"],[0.1111111111111111,\"#46039f\"],[0.2222222222222222,\"#7201a8\"],[0.3333333333333333,\"#9c179e\"],[0.4444444444444444,\"#bd3786\"],[0.5555555555555556,\"#d8576b\"],[0.6666666666666666,\"#ed7953\"],[0.7777777777777778,\"#fb9f3a\"],[0.8888888888888888,\"#fdca26\"],[1.0,\"#f0f921\"]],\"type\":\"histogram2dcontour\"}],\"mesh3d\":[{\"colorbar\":{\"outlinewidth\":0,\"ticks\":\"\"},\"type\":\"mesh3d\"}],\"parcoords\":[{\"line\":{\"colorbar\":{\"outlinewidth\":0,\"ticks\":\"\"}},\"type\":\"parcoords\"}],\"pie\":[{\"automargin\":true,\"type\":\"pie\"}],\"scatter\":[{\"marker\":{\"colorbar\":{\"outlinewidth\":0,\"ticks\":\"\"}},\"type\":\"scatter\"}],\"scatter3d\":[{\"line\":{\"colorbar\":{\"outlinewidth\":0,\"ticks\":\"\"}},\"marker\":{\"colorbar\":{\"outlinewidth\":0,\"ticks\":\"\"}},\"type\":\"scatter3d\"}],\"scattercarpet\":[{\"marker\":{\"colorbar\":{\"outlinewidth\":0,\"ticks\":\"\"}},\"type\":\"scattercarpet\"}],\"scattergeo\":[{\"marker\":{\"colorbar\":{\"outlinewidth\":0,\"ticks\":\"\"}},\"type\":\"scattergeo\"}],\"scattergl\":[{\"marker\":{\"colorbar\":{\"outlinewidth\":0,\"ticks\":\"\"}},\"type\":\"scattergl\"}],\"scattermapbox\":[{\"marker\":{\"colorbar\":{\"outlinewidth\":0,\"ticks\":\"\"}},\"type\":\"scattermapbox\"}],\"scatterpolar\":[{\"marker\":{\"colorbar\":{\"outlinewidth\":0,\"ticks\":\"\"}},\"type\":\"scatterpolar\"}],\"scatterpolargl\":[{\"marker\":{\"colorbar\":{\"outlinewidth\":0,\"ticks\":\"\"}},\"type\":\"scatterpolargl\"}],\"scatterternary\":[{\"marker\":{\"colorbar\":{\"outlinewidth\":0,\"ticks\":\"\"}},\"type\":\"scatterternary\"}],\"surface\":[{\"colorbar\":{\"outlinewidth\":0,\"ticks\":\"\"},\"colorscale\":[[0.0,\"#0d0887\"],[0.1111111111111111,\"#46039f\"],[0.2222222222222222,\"#7201a8\"],[0.3333333333333333,\"#9c179e\"],[0.4444444444444444,\"#bd3786\"],[0.5555555555555556,\"#d8576b\"],[0.6666666666666666,\"#ed7953\"],[0.7777777777777778,\"#fb9f3a\"],[0.8888888888888888,\"#fdca26\"],[1.0,\"#f0f921\"]],\"type\":\"surface\"}],\"table\":[{\"cells\":{\"fill\":{\"color\":\"#EBF0F8\"},\"line\":{\"color\":\"white\"}},\"header\":{\"fill\":{\"color\":\"#C8D4E3\"},\"line\":{\"color\":\"white\"}},\"type\":\"table\"}]},\"layout\":{\"annotationdefaults\":{\"arrowcolor\":\"#2a3f5f\",\"arrowhead\":0,\"arrowwidth\":1},\"autotypenumbers\":\"strict\",\"coloraxis\":{\"colorbar\":{\"outlinewidth\":0,\"ticks\":\"\"}},\"colorscale\":{\"diverging\":[[0,\"#8e0152\"],[0.1,\"#c51b7d\"],[0.2,\"#de77ae\"],[0.3,\"#f1b6da\"],[0.4,\"#fde0ef\"],[0.5,\"#f7f7f7\"],[0.6,\"#e6f5d0\"],[0.7,\"#b8e186\"],[0.8,\"#7fbc41\"],[0.9,\"#4d9221\"],[1,\"#276419\"]],\"sequential\":[[0.0,\"#0d0887\"],[0.1111111111111111,\"#46039f\"],[0.2222222222222222,\"#7201a8\"],[0.3333333333333333,\"#9c179e\"],[0.4444444444444444,\"#bd3786\"],[0.5555555555555556,\"#d8576b\"],[0.6666666666666666,\"#ed7953\"],[0.7777777777777778,\"#fb9f3a\"],[0.8888888888888888,\"#fdca26\"],[1.0,\"#f0f921\"]],\"sequentialminus\":[[0.0,\"#0d0887\"],[0.1111111111111111,\"#46039f\"],[0.2222222222222222,\"#7201a8\"],[0.3333333333333333,\"#9c179e\"],[0.4444444444444444,\"#bd3786\"],[0.5555555555555556,\"#d8576b\"],[0.6666666666666666,\"#ed7953\"],[0.7777777777777778,\"#fb9f3a\"],[0.8888888888888888,\"#fdca26\"],[1.0,\"#f0f921\"]]},\"colorway\":[\"#636efa\",\"#EF553B\",\"#00cc96\",\"#ab63fa\",\"#FFA15A\",\"#19d3f3\",\"#FF6692\",\"#B6E880\",\"#FF97FF\",\"#FECB52\"],\"font\":{\"color\":\"#2a3f5f\"},\"geo\":{\"bgcolor\":\"white\",\"lakecolor\":\"white\",\"landcolor\":\"#E5ECF6\",\"showlakes\":true,\"showland\":true,\"subunitcolor\":\"white\"},\"hoverlabel\":{\"align\":\"left\"},\"hovermode\":\"closest\",\"mapbox\":{\"style\":\"light\"},\"paper_bgcolor\":\"white\",\"plot_bgcolor\":\"#E5ECF6\",\"polar\":{\"angularaxis\":{\"gridcolor\":\"white\",\"linecolor\":\"white\",\"ticks\":\"\"},\"bgcolor\":\"#E5ECF6\",\"radialaxis\":{\"gridcolor\":\"white\",\"linecolor\":\"white\",\"ticks\":\"\"}},\"scene\":{\"xaxis\":{\"backgroundcolor\":\"#E5ECF6\",\"gridcolor\":\"white\",\"gridwidth\":2,\"linecolor\":\"white\",\"showbackground\":true,\"ticks\":\"\",\"zerolinecolor\":\"white\"},\"yaxis\":{\"backgroundcolor\":\"#E5ECF6\",\"gridcolor\":\"white\",\"gridwidth\":2,\"linecolor\":\"white\",\"showbackground\":true,\"ticks\":\"\",\"zerolinecolor\":\"white\"},\"zaxis\":{\"backgroundcolor\":\"#E5ECF6\",\"gridcolor\":\"white\",\"gridwidth\":2,\"linecolor\":\"white\",\"showbackground\":true,\"ticks\":\"\",\"zerolinecolor\":\"white\"}},\"shapedefaults\":{\"line\":{\"color\":\"#2a3f5f\"}},\"ternary\":{\"aaxis\":{\"gridcolor\":\"white\",\"linecolor\":\"white\",\"ticks\":\"\"},\"baxis\":{\"gridcolor\":\"white\",\"linecolor\":\"white\",\"ticks\":\"\"},\"bgcolor\":\"#E5ECF6\",\"caxis\":{\"gridcolor\":\"white\",\"linecolor\":\"white\",\"ticks\":\"\"}},\"title\":{\"x\":0.05},\"xaxis\":{\"automargin\":true,\"gridcolor\":\"white\",\"linecolor\":\"white\",\"ticks\":\"\",\"title\":{\"standoff\":15},\"zerolinecolor\":\"white\",\"zerolinewidth\":2},\"yaxis\":{\"automargin\":true,\"gridcolor\":\"white\",\"linecolor\":\"white\",\"ticks\":\"\",\"title\":{\"standoff\":15},\"zerolinecolor\":\"white\",\"zerolinewidth\":2}}},\"title\":{\"text\":\"Optimization History Plot\"},\"xaxis\":{\"title\":{\"text\":\"#Trials\"}},\"yaxis\":{\"title\":{\"text\":\"Objective Value\"}}},                        {\"responsive\": true}                    ).then(function(){\n",
       "                            \n",
       "var gd = document.getElementById('3f56012c-1df2-4ca0-b7eb-a36d38707b6d');\n",
       "var x = new MutationObserver(function (mutations, observer) {{\n",
       "        var display = window.getComputedStyle(gd).display;\n",
       "        if (!display || display === 'none') {{\n",
       "            console.log([gd, 'removed!']);\n",
       "            Plotly.purge(gd);\n",
       "            observer.disconnect();\n",
       "        }}\n",
       "}});\n",
       "\n",
       "// Listen for the removal of the full notebook cells\n",
       "var notebookContainer = gd.closest('#notebook-container');\n",
       "if (notebookContainer) {{\n",
       "    x.observe(notebookContainer, {childList: true});\n",
       "}}\n",
       "\n",
       "// Listen for the clearing of the current output cell\n",
       "var outputEl = gd.closest('.output');\n",
       "if (outputEl) {{\n",
       "    x.observe(outputEl, {childList: true});\n",
       "}}\n",
       "\n",
       "                        })                };                });            </script>        </div>"
      ]
     },
     "metadata": {},
     "output_type": "display_data"
    }
   ],
   "source": [
    "optuna.visualization.plot_optimization_history(study)"
   ]
  },
  {
   "cell_type": "markdown",
   "id": "3e631238",
   "metadata": {
    "id": "I1v_xkn-cMxC",
    "papermill": {
     "duration": 0.531957,
     "end_time": "2021-09-23T19:20:05.051816",
     "exception": false,
     "start_time": "2021-09-23T19:20:04.519859",
     "status": "completed"
    },
    "tags": []
   },
   "source": [
    "### Hyperparameter interactions"
   ]
  },
  {
   "cell_type": "markdown",
   "id": "6d6c94f2",
   "metadata": {
    "id": "hHlDxIRDfkEO",
    "papermill": {
     "duration": 0.369773,
     "end_time": "2021-09-23T19:20:05.847919",
     "exception": false,
     "start_time": "2021-09-23T19:20:05.478146",
     "status": "completed"
    },
    "tags": []
   },
   "source": [
    "We look at which combinations of hyperparameters work well from the parallel coordinate plot. Note that there is something weird going on here. For example, trials with `n_layers=1` has coordinates in axes where they should have no values, e.g. `n_units_l1` and `n_units_l2`. This is a known issue for parallel plots, e.g. [#1809](https://github.com/optuna/optuna/issues/1809). Turns out, lines with dynamically constructed parameters with NaNs should be skipped by plotter. Moreover, trials with NaN values are excluded from the parameter importance computation which limits its usefulness. "
   ]
  },
  {
   "cell_type": "code",
   "execution_count": 22,
   "id": "e48e3304",
   "metadata": {
    "execution": {
     "iopub.execute_input": "2021-09-23T19:20:06.635119Z",
     "iopub.status.busy": "2021-09-23T19:20:06.634383Z",
     "iopub.status.idle": "2021-09-23T19:20:06.648979Z",
     "shell.execute_reply": "2021-09-23T19:20:06.649390Z"
    },
    "id": "nWisDC0pcMxD",
    "outputId": "d4733312-cfaf-42df-8f4f-24f75880c9d5",
    "papermill": {
     "duration": 0.417144,
     "end_time": "2021-09-23T19:20:06.649531",
     "exception": false,
     "start_time": "2021-09-23T19:20:06.232387",
     "status": "completed"
    },
    "tags": []
   },
   "outputs": [
    {
     "data": {
      "text/html": [
       "<div>                            <div id=\"988f5dd2-20c2-4fe6-a624-d0742ae9d96c\" class=\"plotly-graph-div\" style=\"height:525px; width:100%;\"></div>            <script type=\"text/javascript\">                require([\"plotly\"], function(Plotly) {                    window.PLOTLYENV=window.PLOTLYENV || {};                                    if (document.getElementById(\"988f5dd2-20c2-4fe6-a624-d0742ae9d96c\")) {                    Plotly.newPlot(                        \"988f5dd2-20c2-4fe6-a624-d0742ae9d96c\",                        [{\"dimensions\":[{\"label\":\"Objective Value\",\"range\":[0.09505551989222395,1.9807250459217334],\"values\":[0.10331169174363218,0.2534626597782725,1.9807250459217334,0.3590984783352237,0.6431171383176534,0.28132008490604427,0.09875674974737746,0.10432604119619904,0.11315505591131028,0.12427728064358233,0.09505551989222395,0.11502095063527425,0.10991137643712894,0.10721965563985018,0.09930000439286231,0.10732460878233414,0.1134480545147289]},{\"label\":\"batch_size\",\"range\":[11,492],\"values\":[235,17,68,193,201,38,428,418,456,280,492,482,163,274,285,209,11]},{\"label\":\"dropout_rate\",\"range\":[0.2002019221624222,0.4971956324166139],\"values\":[0.33885658619189224,0.32624599410470545,0.4202648891292501,0.4359784656640127,0.4971956324166139,0.33909106810837225,0.26140155424190586,0.2666777531426128,0.2919314128060961,0.3683590457670618,0.2084089229401478,0.31376760307261653,0.22102212661172144,0.24057383674676816,0.2002019221624222,0.20294144771417877,0.21270817239465242]},{\"label\":\"lr\",\"range\":[-3.941214987772939,-1.359293309191678],\"ticktext\":[\"0.000114\",\"0.001\",\"0.01\",\"0.0437\"],\"tickvals\":[-3.941214987772939,-3,-2,-1.359293309191678],\"values\":[-1.9604731861560887,-1.4460779917238056,-3.532605405765739,-2.8906859538641143,-1.359293309191678,-3.2261001960108393,-2.2844563161862963,-2.174169831322938,-2.211115664576681,-2.5340138069923728,-2.3090960606255324,-2.4101207195298286,-2.7498370720180327,-2.7545814544815266,-2.883763642273505,-3.072096980963499,-3.941214987772939]},{\"label\":\"n_layers\",\"range\":[1,3],\"values\":[1,2,3,3,2,1,1,1,1,2,1,1,1,1,1,1,1]},{\"label\":\"n_units_l0\",\"range\":[5,128],\"values\":[86,83,5,86,60,12,127,128,127,108,118,117,72,86,88,95,122]},{\"label\":\"n_units_l1\",\"range\":[7,127],\"values\":[96,32,36,7,127]},{\"label\":\"n_units_l2\",\"range\":[78,94],\"values\":[94,78]},{\"label\":\"weight_decay\",\"range\":[0.05364592081471348,0.4841984358733526],\"values\":[0.2481934859460601,0.4841984358733526,0.32837853441607556,0.32446981154834764,0.05364592081471348,0.058160953490642375,0.1796310609432385,0.17948090907314918,0.18711419319062406,0.11498675729037759,0.21250418712221336,0.2915957004412367,0.22375890276401672,0.3100537479216523,0.3123350357530558,0.34884246946321984,0.45203299890636306]}],\"labelangle\":30,\"labelside\":\"bottom\",\"line\":{\"color\":[0.10331169174363218,0.2534626597782725,1.9807250459217334,0.3590984783352237,0.6431171383176534,0.28132008490604427,0.09875674974737746,0.10432604119619904,0.11315505591131028,0.12427728064358233,0.09505551989222395,0.11502095063527425,0.10991137643712894,0.10721965563985018,0.09930000439286231,0.10732460878233414,0.1134480545147289],\"colorbar\":{\"title\":{\"text\":\"Objective Value\"}},\"colorscale\":[[0.0,\"rgb(247,251,255)\"],[0.125,\"rgb(222,235,247)\"],[0.25,\"rgb(198,219,239)\"],[0.375,\"rgb(158,202,225)\"],[0.5,\"rgb(107,174,214)\"],[0.625,\"rgb(66,146,198)\"],[0.75,\"rgb(33,113,181)\"],[0.875,\"rgb(8,81,156)\"],[1.0,\"rgb(8,48,107)\"]],\"reversescale\":true,\"showscale\":true},\"type\":\"parcoords\"}],                        {\"template\":{\"data\":{\"bar\":[{\"error_x\":{\"color\":\"#2a3f5f\"},\"error_y\":{\"color\":\"#2a3f5f\"},\"marker\":{\"line\":{\"color\":\"#E5ECF6\",\"width\":0.5},\"pattern\":{\"fillmode\":\"overlay\",\"size\":10,\"solidity\":0.2}},\"type\":\"bar\"}],\"barpolar\":[{\"marker\":{\"line\":{\"color\":\"#E5ECF6\",\"width\":0.5},\"pattern\":{\"fillmode\":\"overlay\",\"size\":10,\"solidity\":0.2}},\"type\":\"barpolar\"}],\"carpet\":[{\"aaxis\":{\"endlinecolor\":\"#2a3f5f\",\"gridcolor\":\"white\",\"linecolor\":\"white\",\"minorgridcolor\":\"white\",\"startlinecolor\":\"#2a3f5f\"},\"baxis\":{\"endlinecolor\":\"#2a3f5f\",\"gridcolor\":\"white\",\"linecolor\":\"white\",\"minorgridcolor\":\"white\",\"startlinecolor\":\"#2a3f5f\"},\"type\":\"carpet\"}],\"choropleth\":[{\"colorbar\":{\"outlinewidth\":0,\"ticks\":\"\"},\"type\":\"choropleth\"}],\"contour\":[{\"colorbar\":{\"outlinewidth\":0,\"ticks\":\"\"},\"colorscale\":[[0.0,\"#0d0887\"],[0.1111111111111111,\"#46039f\"],[0.2222222222222222,\"#7201a8\"],[0.3333333333333333,\"#9c179e\"],[0.4444444444444444,\"#bd3786\"],[0.5555555555555556,\"#d8576b\"],[0.6666666666666666,\"#ed7953\"],[0.7777777777777778,\"#fb9f3a\"],[0.8888888888888888,\"#fdca26\"],[1.0,\"#f0f921\"]],\"type\":\"contour\"}],\"contourcarpet\":[{\"colorbar\":{\"outlinewidth\":0,\"ticks\":\"\"},\"type\":\"contourcarpet\"}],\"heatmap\":[{\"colorbar\":{\"outlinewidth\":0,\"ticks\":\"\"},\"colorscale\":[[0.0,\"#0d0887\"],[0.1111111111111111,\"#46039f\"],[0.2222222222222222,\"#7201a8\"],[0.3333333333333333,\"#9c179e\"],[0.4444444444444444,\"#bd3786\"],[0.5555555555555556,\"#d8576b\"],[0.6666666666666666,\"#ed7953\"],[0.7777777777777778,\"#fb9f3a\"],[0.8888888888888888,\"#fdca26\"],[1.0,\"#f0f921\"]],\"type\":\"heatmap\"}],\"heatmapgl\":[{\"colorbar\":{\"outlinewidth\":0,\"ticks\":\"\"},\"colorscale\":[[0.0,\"#0d0887\"],[0.1111111111111111,\"#46039f\"],[0.2222222222222222,\"#7201a8\"],[0.3333333333333333,\"#9c179e\"],[0.4444444444444444,\"#bd3786\"],[0.5555555555555556,\"#d8576b\"],[0.6666666666666666,\"#ed7953\"],[0.7777777777777778,\"#fb9f3a\"],[0.8888888888888888,\"#fdca26\"],[1.0,\"#f0f921\"]],\"type\":\"heatmapgl\"}],\"histogram\":[{\"marker\":{\"pattern\":{\"fillmode\":\"overlay\",\"size\":10,\"solidity\":0.2}},\"type\":\"histogram\"}],\"histogram2d\":[{\"colorbar\":{\"outlinewidth\":0,\"ticks\":\"\"},\"colorscale\":[[0.0,\"#0d0887\"],[0.1111111111111111,\"#46039f\"],[0.2222222222222222,\"#7201a8\"],[0.3333333333333333,\"#9c179e\"],[0.4444444444444444,\"#bd3786\"],[0.5555555555555556,\"#d8576b\"],[0.6666666666666666,\"#ed7953\"],[0.7777777777777778,\"#fb9f3a\"],[0.8888888888888888,\"#fdca26\"],[1.0,\"#f0f921\"]],\"type\":\"histogram2d\"}],\"histogram2dcontour\":[{\"colorbar\":{\"outlinewidth\":0,\"ticks\":\"\"},\"colorscale\":[[0.0,\"#0d0887\"],[0.1111111111111111,\"#46039f\"],[0.2222222222222222,\"#7201a8\"],[0.3333333333333333,\"#9c179e\"],[0.4444444444444444,\"#bd3786\"],[0.5555555555555556,\"#d8576b\"],[0.6666666666666666,\"#ed7953\"],[0.7777777777777778,\"#fb9f3a\"],[0.8888888888888888,\"#fdca26\"],[1.0,\"#f0f921\"]],\"type\":\"histogram2dcontour\"}],\"mesh3d\":[{\"colorbar\":{\"outlinewidth\":0,\"ticks\":\"\"},\"type\":\"mesh3d\"}],\"parcoords\":[{\"line\":{\"colorbar\":{\"outlinewidth\":0,\"ticks\":\"\"}},\"type\":\"parcoords\"}],\"pie\":[{\"automargin\":true,\"type\":\"pie\"}],\"scatter\":[{\"marker\":{\"colorbar\":{\"outlinewidth\":0,\"ticks\":\"\"}},\"type\":\"scatter\"}],\"scatter3d\":[{\"line\":{\"colorbar\":{\"outlinewidth\":0,\"ticks\":\"\"}},\"marker\":{\"colorbar\":{\"outlinewidth\":0,\"ticks\":\"\"}},\"type\":\"scatter3d\"}],\"scattercarpet\":[{\"marker\":{\"colorbar\":{\"outlinewidth\":0,\"ticks\":\"\"}},\"type\":\"scattercarpet\"}],\"scattergeo\":[{\"marker\":{\"colorbar\":{\"outlinewidth\":0,\"ticks\":\"\"}},\"type\":\"scattergeo\"}],\"scattergl\":[{\"marker\":{\"colorbar\":{\"outlinewidth\":0,\"ticks\":\"\"}},\"type\":\"scattergl\"}],\"scattermapbox\":[{\"marker\":{\"colorbar\":{\"outlinewidth\":0,\"ticks\":\"\"}},\"type\":\"scattermapbox\"}],\"scatterpolar\":[{\"marker\":{\"colorbar\":{\"outlinewidth\":0,\"ticks\":\"\"}},\"type\":\"scatterpolar\"}],\"scatterpolargl\":[{\"marker\":{\"colorbar\":{\"outlinewidth\":0,\"ticks\":\"\"}},\"type\":\"scatterpolargl\"}],\"scatterternary\":[{\"marker\":{\"colorbar\":{\"outlinewidth\":0,\"ticks\":\"\"}},\"type\":\"scatterternary\"}],\"surface\":[{\"colorbar\":{\"outlinewidth\":0,\"ticks\":\"\"},\"colorscale\":[[0.0,\"#0d0887\"],[0.1111111111111111,\"#46039f\"],[0.2222222222222222,\"#7201a8\"],[0.3333333333333333,\"#9c179e\"],[0.4444444444444444,\"#bd3786\"],[0.5555555555555556,\"#d8576b\"],[0.6666666666666666,\"#ed7953\"],[0.7777777777777778,\"#fb9f3a\"],[0.8888888888888888,\"#fdca26\"],[1.0,\"#f0f921\"]],\"type\":\"surface\"}],\"table\":[{\"cells\":{\"fill\":{\"color\":\"#EBF0F8\"},\"line\":{\"color\":\"white\"}},\"header\":{\"fill\":{\"color\":\"#C8D4E3\"},\"line\":{\"color\":\"white\"}},\"type\":\"table\"}]},\"layout\":{\"annotationdefaults\":{\"arrowcolor\":\"#2a3f5f\",\"arrowhead\":0,\"arrowwidth\":1},\"autotypenumbers\":\"strict\",\"coloraxis\":{\"colorbar\":{\"outlinewidth\":0,\"ticks\":\"\"}},\"colorscale\":{\"diverging\":[[0,\"#8e0152\"],[0.1,\"#c51b7d\"],[0.2,\"#de77ae\"],[0.3,\"#f1b6da\"],[0.4,\"#fde0ef\"],[0.5,\"#f7f7f7\"],[0.6,\"#e6f5d0\"],[0.7,\"#b8e186\"],[0.8,\"#7fbc41\"],[0.9,\"#4d9221\"],[1,\"#276419\"]],\"sequential\":[[0.0,\"#0d0887\"],[0.1111111111111111,\"#46039f\"],[0.2222222222222222,\"#7201a8\"],[0.3333333333333333,\"#9c179e\"],[0.4444444444444444,\"#bd3786\"],[0.5555555555555556,\"#d8576b\"],[0.6666666666666666,\"#ed7953\"],[0.7777777777777778,\"#fb9f3a\"],[0.8888888888888888,\"#fdca26\"],[1.0,\"#f0f921\"]],\"sequentialminus\":[[0.0,\"#0d0887\"],[0.1111111111111111,\"#46039f\"],[0.2222222222222222,\"#7201a8\"],[0.3333333333333333,\"#9c179e\"],[0.4444444444444444,\"#bd3786\"],[0.5555555555555556,\"#d8576b\"],[0.6666666666666666,\"#ed7953\"],[0.7777777777777778,\"#fb9f3a\"],[0.8888888888888888,\"#fdca26\"],[1.0,\"#f0f921\"]]},\"colorway\":[\"#636efa\",\"#EF553B\",\"#00cc96\",\"#ab63fa\",\"#FFA15A\",\"#19d3f3\",\"#FF6692\",\"#B6E880\",\"#FF97FF\",\"#FECB52\"],\"font\":{\"color\":\"#2a3f5f\"},\"geo\":{\"bgcolor\":\"white\",\"lakecolor\":\"white\",\"landcolor\":\"#E5ECF6\",\"showlakes\":true,\"showland\":true,\"subunitcolor\":\"white\"},\"hoverlabel\":{\"align\":\"left\"},\"hovermode\":\"closest\",\"mapbox\":{\"style\":\"light\"},\"paper_bgcolor\":\"white\",\"plot_bgcolor\":\"#E5ECF6\",\"polar\":{\"angularaxis\":{\"gridcolor\":\"white\",\"linecolor\":\"white\",\"ticks\":\"\"},\"bgcolor\":\"#E5ECF6\",\"radialaxis\":{\"gridcolor\":\"white\",\"linecolor\":\"white\",\"ticks\":\"\"}},\"scene\":{\"xaxis\":{\"backgroundcolor\":\"#E5ECF6\",\"gridcolor\":\"white\",\"gridwidth\":2,\"linecolor\":\"white\",\"showbackground\":true,\"ticks\":\"\",\"zerolinecolor\":\"white\"},\"yaxis\":{\"backgroundcolor\":\"#E5ECF6\",\"gridcolor\":\"white\",\"gridwidth\":2,\"linecolor\":\"white\",\"showbackground\":true,\"ticks\":\"\",\"zerolinecolor\":\"white\"},\"zaxis\":{\"backgroundcolor\":\"#E5ECF6\",\"gridcolor\":\"white\",\"gridwidth\":2,\"linecolor\":\"white\",\"showbackground\":true,\"ticks\":\"\",\"zerolinecolor\":\"white\"}},\"shapedefaults\":{\"line\":{\"color\":\"#2a3f5f\"}},\"ternary\":{\"aaxis\":{\"gridcolor\":\"white\",\"linecolor\":\"white\",\"ticks\":\"\"},\"baxis\":{\"gridcolor\":\"white\",\"linecolor\":\"white\",\"ticks\":\"\"},\"bgcolor\":\"#E5ECF6\",\"caxis\":{\"gridcolor\":\"white\",\"linecolor\":\"white\",\"ticks\":\"\"}},\"title\":{\"x\":0.05},\"xaxis\":{\"automargin\":true,\"gridcolor\":\"white\",\"linecolor\":\"white\",\"ticks\":\"\",\"title\":{\"standoff\":15},\"zerolinecolor\":\"white\",\"zerolinewidth\":2},\"yaxis\":{\"automargin\":true,\"gridcolor\":\"white\",\"linecolor\":\"white\",\"ticks\":\"\",\"title\":{\"standoff\":15},\"zerolinecolor\":\"white\",\"zerolinewidth\":2}}},\"title\":{\"text\":\"Parallel Coordinate Plot\"}},                        {\"responsive\": true}                    ).then(function(){\n",
       "                            \n",
       "var gd = document.getElementById('988f5dd2-20c2-4fe6-a624-d0742ae9d96c');\n",
       "var x = new MutationObserver(function (mutations, observer) {{\n",
       "        var display = window.getComputedStyle(gd).display;\n",
       "        if (!display || display === 'none') {{\n",
       "            console.log([gd, 'removed!']);\n",
       "            Plotly.purge(gd);\n",
       "            observer.disconnect();\n",
       "        }}\n",
       "}});\n",
       "\n",
       "// Listen for the removal of the full notebook cells\n",
       "var notebookContainer = gd.closest('#notebook-container');\n",
       "if (notebookContainer) {{\n",
       "    x.observe(notebookContainer, {childList: true});\n",
       "}}\n",
       "\n",
       "// Listen for the clearing of the current output cell\n",
       "var outputEl = gd.closest('.output');\n",
       "if (outputEl) {{\n",
       "    x.observe(outputEl, {childList: true});\n",
       "}}\n",
       "\n",
       "                        })                };                });            </script>        </div>"
      ]
     },
     "metadata": {},
     "output_type": "display_data"
    }
   ],
   "source": [
    "optuna.visualization.plot_parallel_coordinate(study)"
   ]
  },
  {
   "cell_type": "code",
   "execution_count": 23,
   "id": "4e7e3c62",
   "metadata": {
    "execution": {
     "iopub.execute_input": "2021-09-23T19:20:07.383828Z",
     "iopub.status.busy": "2021-09-23T19:20:07.382882Z",
     "iopub.status.idle": "2021-09-23T19:20:07.387662Z",
     "shell.execute_reply": "2021-09-23T19:20:07.387229Z"
    },
    "id": "zGTKvWzrYkuj",
    "outputId": "8b8e516f-b241-4b49-e372-899d4d062948",
    "papermill": {
     "duration": 0.382753,
     "end_time": "2021-09-23T19:20:07.387780",
     "exception": false,
     "start_time": "2021-09-23T19:20:07.005027",
     "status": "completed"
    },
    "tags": []
   },
   "outputs": [
    {
     "data": {
      "text/html": [
       "<div>\n",
       "<style scoped>\n",
       "    .dataframe tbody tr th:only-of-type {\n",
       "        vertical-align: middle;\n",
       "    }\n",
       "\n",
       "    .dataframe tbody tr th {\n",
       "        vertical-align: top;\n",
       "    }\n",
       "\n",
       "    .dataframe thead th {\n",
       "        text-align: right;\n",
       "    }\n",
       "</style>\n",
       "<table border=\"1\" class=\"dataframe\">\n",
       "  <thead>\n",
       "    <tr style=\"text-align: right;\">\n",
       "      <th></th>\n",
       "      <th>number</th>\n",
       "      <th>value</th>\n",
       "      <th>datetime_start</th>\n",
       "      <th>datetime_complete</th>\n",
       "      <th>duration</th>\n",
       "      <th>params_batch_size</th>\n",
       "      <th>params_dropout_rate</th>\n",
       "      <th>params_lr</th>\n",
       "      <th>params_n_layers</th>\n",
       "      <th>params_n_units_l0</th>\n",
       "      <th>params_n_units_l1</th>\n",
       "      <th>params_n_units_l2</th>\n",
       "      <th>params_weight_decay</th>\n",
       "      <th>state</th>\n",
       "    </tr>\n",
       "  </thead>\n",
       "  <tbody>\n",
       "    <tr>\n",
       "      <th>0</th>\n",
       "      <td>0</td>\n",
       "      <td>0.103312</td>\n",
       "      <td>2021-09-23 18:39:22.942460</td>\n",
       "      <td>2021-09-23 18:41:20.404554</td>\n",
       "      <td>0 days 00:01:57.462094</td>\n",
       "      <td>235</td>\n",
       "      <td>0.338857</td>\n",
       "      <td>0.010953</td>\n",
       "      <td>1</td>\n",
       "      <td>86</td>\n",
       "      <td>NaN</td>\n",
       "      <td>NaN</td>\n",
       "      <td>0.248193</td>\n",
       "      <td>COMPLETE</td>\n",
       "    </tr>\n",
       "    <tr>\n",
       "      <th>1</th>\n",
       "      <td>1</td>\n",
       "      <td>0.253463</td>\n",
       "      <td>2021-09-23 18:41:20.406530</td>\n",
       "      <td>2021-09-23 18:51:53.682822</td>\n",
       "      <td>0 days 00:10:33.276292</td>\n",
       "      <td>17</td>\n",
       "      <td>0.326246</td>\n",
       "      <td>0.035803</td>\n",
       "      <td>2</td>\n",
       "      <td>83</td>\n",
       "      <td>96.0</td>\n",
       "      <td>NaN</td>\n",
       "      <td>0.484198</td>\n",
       "      <td>COMPLETE</td>\n",
       "    </tr>\n",
       "    <tr>\n",
       "      <th>2</th>\n",
       "      <td>2</td>\n",
       "      <td>1.980725</td>\n",
       "      <td>2021-09-23 18:51:53.684381</td>\n",
       "      <td>2021-09-23 18:53:23.676526</td>\n",
       "      <td>0 days 00:01:29.992145</td>\n",
       "      <td>68</td>\n",
       "      <td>0.420265</td>\n",
       "      <td>0.000293</td>\n",
       "      <td>3</td>\n",
       "      <td>5</td>\n",
       "      <td>32.0</td>\n",
       "      <td>94.0</td>\n",
       "      <td>0.328379</td>\n",
       "      <td>COMPLETE</td>\n",
       "    </tr>\n",
       "    <tr>\n",
       "      <th>3</th>\n",
       "      <td>3</td>\n",
       "      <td>0.359098</td>\n",
       "      <td>2021-09-23 18:53:23.678589</td>\n",
       "      <td>2021-09-23 18:54:40.067763</td>\n",
       "      <td>0 days 00:01:16.389174</td>\n",
       "      <td>193</td>\n",
       "      <td>0.435978</td>\n",
       "      <td>0.001286</td>\n",
       "      <td>3</td>\n",
       "      <td>86</td>\n",
       "      <td>36.0</td>\n",
       "      <td>78.0</td>\n",
       "      <td>0.324470</td>\n",
       "      <td>COMPLETE</td>\n",
       "    </tr>\n",
       "    <tr>\n",
       "      <th>4</th>\n",
       "      <td>4</td>\n",
       "      <td>0.643117</td>\n",
       "      <td>2021-09-23 18:54:40.074792</td>\n",
       "      <td>2021-09-23 18:56:31.599707</td>\n",
       "      <td>0 days 00:01:51.524915</td>\n",
       "      <td>201</td>\n",
       "      <td>0.497196</td>\n",
       "      <td>0.043723</td>\n",
       "      <td>2</td>\n",
       "      <td>60</td>\n",
       "      <td>7.0</td>\n",
       "      <td>NaN</td>\n",
       "      <td>0.053646</td>\n",
       "      <td>COMPLETE</td>\n",
       "    </tr>\n",
       "  </tbody>\n",
       "</table>\n",
       "</div>"
      ],
      "text/plain": [
       "   number     value             datetime_start          datetime_complete  \\\n",
       "0       0  0.103312 2021-09-23 18:39:22.942460 2021-09-23 18:41:20.404554   \n",
       "1       1  0.253463 2021-09-23 18:41:20.406530 2021-09-23 18:51:53.682822   \n",
       "2       2  1.980725 2021-09-23 18:51:53.684381 2021-09-23 18:53:23.676526   \n",
       "3       3  0.359098 2021-09-23 18:53:23.678589 2021-09-23 18:54:40.067763   \n",
       "4       4  0.643117 2021-09-23 18:54:40.074792 2021-09-23 18:56:31.599707   \n",
       "\n",
       "                duration  params_batch_size  params_dropout_rate  params_lr  \\\n",
       "0 0 days 00:01:57.462094                235             0.338857   0.010953   \n",
       "1 0 days 00:10:33.276292                 17             0.326246   0.035803   \n",
       "2 0 days 00:01:29.992145                 68             0.420265   0.000293   \n",
       "3 0 days 00:01:16.389174                193             0.435978   0.001286   \n",
       "4 0 days 00:01:51.524915                201             0.497196   0.043723   \n",
       "\n",
       "   params_n_layers  params_n_units_l0  params_n_units_l1  params_n_units_l2  \\\n",
       "0                1                 86                NaN                NaN   \n",
       "1                2                 83               96.0                NaN   \n",
       "2                3                  5               32.0               94.0   \n",
       "3                3                 86               36.0               78.0   \n",
       "4                2                 60                7.0                NaN   \n",
       "\n",
       "   params_weight_decay     state  \n",
       "0             0.248193  COMPLETE  \n",
       "1             0.484198  COMPLETE  \n",
       "2             0.328379  COMPLETE  \n",
       "3             0.324470  COMPLETE  \n",
       "4             0.053646  COMPLETE  "
      ]
     },
     "execution_count": 23,
     "metadata": {},
     "output_type": "execute_result"
    }
   ],
   "source": [
    "study.trials_dataframe().head()"
   ]
  },
  {
   "cell_type": "code",
   "execution_count": 24,
   "id": "f853b6cb",
   "metadata": {
    "execution": {
     "iopub.execute_input": "2021-09-23T19:20:08.125510Z",
     "iopub.status.busy": "2021-09-23T19:20:08.124811Z",
     "iopub.status.idle": "2021-09-23T19:20:08.146871Z",
     "shell.execute_reply": "2021-09-23T19:20:08.147463Z"
    },
    "id": "FnYWhE5cec4Q",
    "outputId": "ae4419c2-08d8-4000-d1d8-7544cc3e0e2b",
    "papermill": {
     "duration": 0.394119,
     "end_time": "2021-09-23T19:20:08.147658",
     "exception": false,
     "start_time": "2021-09-23T19:20:07.753539",
     "status": "completed"
    },
    "tags": []
   },
   "outputs": [
    {
     "data": {
      "text/plain": [
       "1    12\n",
       "2     3\n",
       "3     2\n",
       "Name: params_n_layers, dtype: int64"
      ]
     },
     "execution_count": 24,
     "metadata": {},
     "output_type": "execute_result"
    }
   ],
   "source": [
    "study.trials_dataframe().query(\"state=='COMPLETE'\").params_n_layers.value_counts()"
   ]
  },
  {
   "cell_type": "markdown",
   "id": "68e34c6d",
   "metadata": {
    "id": "HkA_kYbvc5eh",
    "papermill": {
     "duration": 0.352901,
     "end_time": "2021-09-23T19:20:08.854124",
     "exception": false,
     "start_time": "2021-09-23T19:20:08.501223",
     "status": "completed"
    },
    "tags": []
   },
   "source": [
    "Instead, we can look at each subset of trials for different values of `n_layers`. The resulting trials have no NaN parameters since the paramaters are sampled after a value for `n_layers` has been suggested. Looks like `n_layers=1` works best."
   ]
  },
  {
   "cell_type": "code",
   "execution_count": 25,
   "id": "e021d1d6",
   "metadata": {
    "execution": {
     "iopub.execute_input": "2021-09-23T19:20:09.578051Z",
     "iopub.status.busy": "2021-09-23T19:20:09.577230Z",
     "iopub.status.idle": "2021-09-23T19:20:09.677955Z",
     "shell.execute_reply": "2021-09-23T19:20:09.678453Z"
    },
    "id": "THs6gM21Ykuj",
    "outputId": "1f23fc71-6c7c-4acf-f819-199ea69f2a0d",
    "papermill": {
     "duration": 0.468741,
     "end_time": "2021-09-23T19:20:09.678594",
     "exception": false,
     "start_time": "2021-09-23T19:20:09.209853",
     "status": "completed"
    },
    "tags": []
   },
   "outputs": [
    {
     "name": "stderr",
     "output_type": "stream",
     "text": [
      "\u001b[32m[I 2021-09-23 19:20:09,574]\u001b[0m A new study created in memory with name: no-name-45982fc0-839a-4f5a-8571-b1fc1b451c9c\u001b[0m\n",
      "\u001b[32m[I 2021-09-23 19:20:09,578]\u001b[0m A new study created in memory with name: no-name-33567bda-49e7-4d66-8a0e-feca161aa11e\u001b[0m\n",
      "\u001b[32m[I 2021-09-23 19:20:09,581]\u001b[0m A new study created in memory with name: no-name-25f15dfa-3f7b-4799-abd9-2c5ab0cc0e53\u001b[0m\n",
      "/opt/conda/lib/python3.7/site-packages/ipykernel_launcher.py:7: ExperimentalWarning:\n",
      "\n",
      "add_trials is experimental (supported from v2.5.0). The interface can change in the future.\n",
      "\n",
      "/opt/conda/lib/python3.7/site-packages/optuna/study/study.py:969: ExperimentalWarning:\n",
      "\n",
      "add_trial is experimental (supported from v2.0.0). The interface can change in the future.\n",
      "\n"
     ]
    },
    {
     "data": {
      "text/html": [
       "<div>                            <div id=\"2c9ca6bc-006f-45c9-89d7-fffe2c625751\" class=\"plotly-graph-div\" style=\"height:525px; width:100%;\"></div>            <script type=\"text/javascript\">                require([\"plotly\"], function(Plotly) {                    window.PLOTLYENV=window.PLOTLYENV || {};                                    if (document.getElementById(\"2c9ca6bc-006f-45c9-89d7-fffe2c625751\")) {                    Plotly.newPlot(                        \"2c9ca6bc-006f-45c9-89d7-fffe2c625751\",                        [{\"dimensions\":[{\"label\":\"Objective Value\",\"range\":[0.09505551989222395,0.28132008490604427],\"values\":[0.10331169174363218,0.28132008490604427,0.09875674974737746,0.10432604119619904,0.11315505591131028,0.09505551989222395,0.11502095063527425,0.10991137643712894,0.10721965563985018,0.09930000439286231,0.10732460878233414,0.1134480545147289]},{\"label\":\"batch_size\",\"range\":[11,492],\"values\":[235,38,428,418,456,492,482,163,274,285,209,11]},{\"label\":\"dropout_rate\",\"range\":[0.2002019221624222,0.33909106810837225],\"values\":[0.33885658619189224,0.33909106810837225,0.26140155424190586,0.2666777531426128,0.2919314128060961,0.2084089229401478,0.31376760307261653,0.22102212661172144,0.24057383674676816,0.2002019221624222,0.20294144771417877,0.21270817239465242]},{\"label\":\"lr\",\"range\":[-3.941214987772939,-1.9604731861560887],\"ticktext\":[\"0.000114\",\"0.001\",\"0.01\",\"0.011\"],\"tickvals\":[-3.941214987772939,-3,-2,-1.9604731861560887],\"values\":[-1.9604731861560887,-3.2261001960108393,-2.2844563161862963,-2.174169831322938,-2.211115664576681,-2.3090960606255324,-2.4101207195298286,-2.7498370720180327,-2.7545814544815266,-2.883763642273505,-3.072096980963499,-3.941214987772939]},{\"label\":\"n_layers\",\"range\":[1,1],\"values\":[1,1,1,1,1,1,1,1,1,1,1,1]},{\"label\":\"n_units_l0\",\"range\":[12,128],\"values\":[86,12,127,128,127,118,117,72,86,88,95,122]},{\"label\":\"weight_decay\",\"range\":[0.058160953490642375,0.45203299890636306],\"values\":[0.2481934859460601,0.058160953490642375,0.1796310609432385,0.17948090907314918,0.18711419319062406,0.21250418712221336,0.2915957004412367,0.22375890276401672,0.3100537479216523,0.3123350357530558,0.34884246946321984,0.45203299890636306]}],\"labelangle\":30,\"labelside\":\"bottom\",\"line\":{\"color\":[0.10331169174363218,0.28132008490604427,0.09875674974737746,0.10432604119619904,0.11315505591131028,0.09505551989222395,0.11502095063527425,0.10991137643712894,0.10721965563985018,0.09930000439286231,0.10732460878233414,0.1134480545147289],\"colorbar\":{\"title\":{\"text\":\"Objective Value\"}},\"colorscale\":[[0.0,\"rgb(247,251,255)\"],[0.125,\"rgb(222,235,247)\"],[0.25,\"rgb(198,219,239)\"],[0.375,\"rgb(158,202,225)\"],[0.5,\"rgb(107,174,214)\"],[0.625,\"rgb(66,146,198)\"],[0.75,\"rgb(33,113,181)\"],[0.875,\"rgb(8,81,156)\"],[1.0,\"rgb(8,48,107)\"]],\"reversescale\":true,\"showscale\":true},\"type\":\"parcoords\"}],                        {\"template\":{\"data\":{\"bar\":[{\"error_x\":{\"color\":\"#2a3f5f\"},\"error_y\":{\"color\":\"#2a3f5f\"},\"marker\":{\"line\":{\"color\":\"#E5ECF6\",\"width\":0.5},\"pattern\":{\"fillmode\":\"overlay\",\"size\":10,\"solidity\":0.2}},\"type\":\"bar\"}],\"barpolar\":[{\"marker\":{\"line\":{\"color\":\"#E5ECF6\",\"width\":0.5},\"pattern\":{\"fillmode\":\"overlay\",\"size\":10,\"solidity\":0.2}},\"type\":\"barpolar\"}],\"carpet\":[{\"aaxis\":{\"endlinecolor\":\"#2a3f5f\",\"gridcolor\":\"white\",\"linecolor\":\"white\",\"minorgridcolor\":\"white\",\"startlinecolor\":\"#2a3f5f\"},\"baxis\":{\"endlinecolor\":\"#2a3f5f\",\"gridcolor\":\"white\",\"linecolor\":\"white\",\"minorgridcolor\":\"white\",\"startlinecolor\":\"#2a3f5f\"},\"type\":\"carpet\"}],\"choropleth\":[{\"colorbar\":{\"outlinewidth\":0,\"ticks\":\"\"},\"type\":\"choropleth\"}],\"contour\":[{\"colorbar\":{\"outlinewidth\":0,\"ticks\":\"\"},\"colorscale\":[[0.0,\"#0d0887\"],[0.1111111111111111,\"#46039f\"],[0.2222222222222222,\"#7201a8\"],[0.3333333333333333,\"#9c179e\"],[0.4444444444444444,\"#bd3786\"],[0.5555555555555556,\"#d8576b\"],[0.6666666666666666,\"#ed7953\"],[0.7777777777777778,\"#fb9f3a\"],[0.8888888888888888,\"#fdca26\"],[1.0,\"#f0f921\"]],\"type\":\"contour\"}],\"contourcarpet\":[{\"colorbar\":{\"outlinewidth\":0,\"ticks\":\"\"},\"type\":\"contourcarpet\"}],\"heatmap\":[{\"colorbar\":{\"outlinewidth\":0,\"ticks\":\"\"},\"colorscale\":[[0.0,\"#0d0887\"],[0.1111111111111111,\"#46039f\"],[0.2222222222222222,\"#7201a8\"],[0.3333333333333333,\"#9c179e\"],[0.4444444444444444,\"#bd3786\"],[0.5555555555555556,\"#d8576b\"],[0.6666666666666666,\"#ed7953\"],[0.7777777777777778,\"#fb9f3a\"],[0.8888888888888888,\"#fdca26\"],[1.0,\"#f0f921\"]],\"type\":\"heatmap\"}],\"heatmapgl\":[{\"colorbar\":{\"outlinewidth\":0,\"ticks\":\"\"},\"colorscale\":[[0.0,\"#0d0887\"],[0.1111111111111111,\"#46039f\"],[0.2222222222222222,\"#7201a8\"],[0.3333333333333333,\"#9c179e\"],[0.4444444444444444,\"#bd3786\"],[0.5555555555555556,\"#d8576b\"],[0.6666666666666666,\"#ed7953\"],[0.7777777777777778,\"#fb9f3a\"],[0.8888888888888888,\"#fdca26\"],[1.0,\"#f0f921\"]],\"type\":\"heatmapgl\"}],\"histogram\":[{\"marker\":{\"pattern\":{\"fillmode\":\"overlay\",\"size\":10,\"solidity\":0.2}},\"type\":\"histogram\"}],\"histogram2d\":[{\"colorbar\":{\"outlinewidth\":0,\"ticks\":\"\"},\"colorscale\":[[0.0,\"#0d0887\"],[0.1111111111111111,\"#46039f\"],[0.2222222222222222,\"#7201a8\"],[0.3333333333333333,\"#9c179e\"],[0.4444444444444444,\"#bd3786\"],[0.5555555555555556,\"#d8576b\"],[0.6666666666666666,\"#ed7953\"],[0.7777777777777778,\"#fb9f3a\"],[0.8888888888888888,\"#fdca26\"],[1.0,\"#f0f921\"]],\"type\":\"histogram2d\"}],\"histogram2dcontour\":[{\"colorbar\":{\"outlinewidth\":0,\"ticks\":\"\"},\"colorscale\":[[0.0,\"#0d0887\"],[0.1111111111111111,\"#46039f\"],[0.2222222222222222,\"#7201a8\"],[0.3333333333333333,\"#9c179e\"],[0.4444444444444444,\"#bd3786\"],[0.5555555555555556,\"#d8576b\"],[0.6666666666666666,\"#ed7953\"],[0.7777777777777778,\"#fb9f3a\"],[0.8888888888888888,\"#fdca26\"],[1.0,\"#f0f921\"]],\"type\":\"histogram2dcontour\"}],\"mesh3d\":[{\"colorbar\":{\"outlinewidth\":0,\"ticks\":\"\"},\"type\":\"mesh3d\"}],\"parcoords\":[{\"line\":{\"colorbar\":{\"outlinewidth\":0,\"ticks\":\"\"}},\"type\":\"parcoords\"}],\"pie\":[{\"automargin\":true,\"type\":\"pie\"}],\"scatter\":[{\"marker\":{\"colorbar\":{\"outlinewidth\":0,\"ticks\":\"\"}},\"type\":\"scatter\"}],\"scatter3d\":[{\"line\":{\"colorbar\":{\"outlinewidth\":0,\"ticks\":\"\"}},\"marker\":{\"colorbar\":{\"outlinewidth\":0,\"ticks\":\"\"}},\"type\":\"scatter3d\"}],\"scattercarpet\":[{\"marker\":{\"colorbar\":{\"outlinewidth\":0,\"ticks\":\"\"}},\"type\":\"scattercarpet\"}],\"scattergeo\":[{\"marker\":{\"colorbar\":{\"outlinewidth\":0,\"ticks\":\"\"}},\"type\":\"scattergeo\"}],\"scattergl\":[{\"marker\":{\"colorbar\":{\"outlinewidth\":0,\"ticks\":\"\"}},\"type\":\"scattergl\"}],\"scattermapbox\":[{\"marker\":{\"colorbar\":{\"outlinewidth\":0,\"ticks\":\"\"}},\"type\":\"scattermapbox\"}],\"scatterpolar\":[{\"marker\":{\"colorbar\":{\"outlinewidth\":0,\"ticks\":\"\"}},\"type\":\"scatterpolar\"}],\"scatterpolargl\":[{\"marker\":{\"colorbar\":{\"outlinewidth\":0,\"ticks\":\"\"}},\"type\":\"scatterpolargl\"}],\"scatterternary\":[{\"marker\":{\"colorbar\":{\"outlinewidth\":0,\"ticks\":\"\"}},\"type\":\"scatterternary\"}],\"surface\":[{\"colorbar\":{\"outlinewidth\":0,\"ticks\":\"\"},\"colorscale\":[[0.0,\"#0d0887\"],[0.1111111111111111,\"#46039f\"],[0.2222222222222222,\"#7201a8\"],[0.3333333333333333,\"#9c179e\"],[0.4444444444444444,\"#bd3786\"],[0.5555555555555556,\"#d8576b\"],[0.6666666666666666,\"#ed7953\"],[0.7777777777777778,\"#fb9f3a\"],[0.8888888888888888,\"#fdca26\"],[1.0,\"#f0f921\"]],\"type\":\"surface\"}],\"table\":[{\"cells\":{\"fill\":{\"color\":\"#EBF0F8\"},\"line\":{\"color\":\"white\"}},\"header\":{\"fill\":{\"color\":\"#C8D4E3\"},\"line\":{\"color\":\"white\"}},\"type\":\"table\"}]},\"layout\":{\"annotationdefaults\":{\"arrowcolor\":\"#2a3f5f\",\"arrowhead\":0,\"arrowwidth\":1},\"autotypenumbers\":\"strict\",\"coloraxis\":{\"colorbar\":{\"outlinewidth\":0,\"ticks\":\"\"}},\"colorscale\":{\"diverging\":[[0,\"#8e0152\"],[0.1,\"#c51b7d\"],[0.2,\"#de77ae\"],[0.3,\"#f1b6da\"],[0.4,\"#fde0ef\"],[0.5,\"#f7f7f7\"],[0.6,\"#e6f5d0\"],[0.7,\"#b8e186\"],[0.8,\"#7fbc41\"],[0.9,\"#4d9221\"],[1,\"#276419\"]],\"sequential\":[[0.0,\"#0d0887\"],[0.1111111111111111,\"#46039f\"],[0.2222222222222222,\"#7201a8\"],[0.3333333333333333,\"#9c179e\"],[0.4444444444444444,\"#bd3786\"],[0.5555555555555556,\"#d8576b\"],[0.6666666666666666,\"#ed7953\"],[0.7777777777777778,\"#fb9f3a\"],[0.8888888888888888,\"#fdca26\"],[1.0,\"#f0f921\"]],\"sequentialminus\":[[0.0,\"#0d0887\"],[0.1111111111111111,\"#46039f\"],[0.2222222222222222,\"#7201a8\"],[0.3333333333333333,\"#9c179e\"],[0.4444444444444444,\"#bd3786\"],[0.5555555555555556,\"#d8576b\"],[0.6666666666666666,\"#ed7953\"],[0.7777777777777778,\"#fb9f3a\"],[0.8888888888888888,\"#fdca26\"],[1.0,\"#f0f921\"]]},\"colorway\":[\"#636efa\",\"#EF553B\",\"#00cc96\",\"#ab63fa\",\"#FFA15A\",\"#19d3f3\",\"#FF6692\",\"#B6E880\",\"#FF97FF\",\"#FECB52\"],\"font\":{\"color\":\"#2a3f5f\"},\"geo\":{\"bgcolor\":\"white\",\"lakecolor\":\"white\",\"landcolor\":\"#E5ECF6\",\"showlakes\":true,\"showland\":true,\"subunitcolor\":\"white\"},\"hoverlabel\":{\"align\":\"left\"},\"hovermode\":\"closest\",\"mapbox\":{\"style\":\"light\"},\"paper_bgcolor\":\"white\",\"plot_bgcolor\":\"#E5ECF6\",\"polar\":{\"angularaxis\":{\"gridcolor\":\"white\",\"linecolor\":\"white\",\"ticks\":\"\"},\"bgcolor\":\"#E5ECF6\",\"radialaxis\":{\"gridcolor\":\"white\",\"linecolor\":\"white\",\"ticks\":\"\"}},\"scene\":{\"xaxis\":{\"backgroundcolor\":\"#E5ECF6\",\"gridcolor\":\"white\",\"gridwidth\":2,\"linecolor\":\"white\",\"showbackground\":true,\"ticks\":\"\",\"zerolinecolor\":\"white\"},\"yaxis\":{\"backgroundcolor\":\"#E5ECF6\",\"gridcolor\":\"white\",\"gridwidth\":2,\"linecolor\":\"white\",\"showbackground\":true,\"ticks\":\"\",\"zerolinecolor\":\"white\"},\"zaxis\":{\"backgroundcolor\":\"#E5ECF6\",\"gridcolor\":\"white\",\"gridwidth\":2,\"linecolor\":\"white\",\"showbackground\":true,\"ticks\":\"\",\"zerolinecolor\":\"white\"}},\"shapedefaults\":{\"line\":{\"color\":\"#2a3f5f\"}},\"ternary\":{\"aaxis\":{\"gridcolor\":\"white\",\"linecolor\":\"white\",\"ticks\":\"\"},\"baxis\":{\"gridcolor\":\"white\",\"linecolor\":\"white\",\"ticks\":\"\"},\"bgcolor\":\"#E5ECF6\",\"caxis\":{\"gridcolor\":\"white\",\"linecolor\":\"white\",\"ticks\":\"\"}},\"title\":{\"x\":0.05},\"xaxis\":{\"automargin\":true,\"gridcolor\":\"white\",\"linecolor\":\"white\",\"ticks\":\"\",\"title\":{\"standoff\":15},\"zerolinecolor\":\"white\",\"zerolinewidth\":2},\"yaxis\":{\"automargin\":true,\"gridcolor\":\"white\",\"linecolor\":\"white\",\"ticks\":\"\",\"title\":{\"standoff\":15},\"zerolinecolor\":\"white\",\"zerolinewidth\":2}}},\"title\":{\"text\":\"Parallel Coordinate Plot\"}},                        {\"responsive\": true}                    ).then(function(){\n",
       "                            \n",
       "var gd = document.getElementById('2c9ca6bc-006f-45c9-89d7-fffe2c625751');\n",
       "var x = new MutationObserver(function (mutations, observer) {{\n",
       "        var display = window.getComputedStyle(gd).display;\n",
       "        if (!display || display === 'none') {{\n",
       "            console.log([gd, 'removed!']);\n",
       "            Plotly.purge(gd);\n",
       "            observer.disconnect();\n",
       "        }}\n",
       "}});\n",
       "\n",
       "// Listen for the removal of the full notebook cells\n",
       "var notebookContainer = gd.closest('#notebook-container');\n",
       "if (notebookContainer) {{\n",
       "    x.observe(notebookContainer, {childList: true});\n",
       "}}\n",
       "\n",
       "// Listen for the clearing of the current output cell\n",
       "var outputEl = gd.closest('.output');\n",
       "if (outputEl) {{\n",
       "    x.observe(outputEl, {childList: true});\n",
       "}}\n",
       "\n",
       "                        })                };                });            </script>        </div>"
      ]
     },
     "metadata": {},
     "output_type": "display_data"
    },
    {
     "data": {
      "text/html": [
       "<div>                            <div id=\"b3841dfb-705b-4497-b7ed-390ea9a28d5d\" class=\"plotly-graph-div\" style=\"height:525px; width:100%;\"></div>            <script type=\"text/javascript\">                require([\"plotly\"], function(Plotly) {                    window.PLOTLYENV=window.PLOTLYENV || {};                                    if (document.getElementById(\"b3841dfb-705b-4497-b7ed-390ea9a28d5d\")) {                    Plotly.newPlot(                        \"b3841dfb-705b-4497-b7ed-390ea9a28d5d\",                        [{\"dimensions\":[{\"label\":\"Objective Value\",\"range\":[0.12427728064358233,0.6431171383176534],\"values\":[0.2534626597782725,0.6431171383176534,0.12427728064358233]},{\"label\":\"batch_size\",\"range\":[17,280],\"values\":[17,201,280]},{\"label\":\"dropout_rate\",\"range\":[0.32624599410470545,0.4971956324166139],\"values\":[0.32624599410470545,0.4971956324166139,0.3683590457670618]},{\"label\":\"lr\",\"range\":[-2.5340138069923728,-1.359293309191678],\"ticktext\":[\"0.00292\",\"0.01\",\"0.0437\"],\"tickvals\":[-2.5340138069923728,-2,-1.359293309191678],\"values\":[-1.4460779917238056,-1.359293309191678,-2.5340138069923728]},{\"label\":\"n_layers\",\"range\":[2,2],\"values\":[2,2,2]},{\"label\":\"n_units_l0\",\"range\":[60,108],\"values\":[83,60,108]},{\"label\":\"n_units_l1\",\"range\":[7,127],\"values\":[96,7,127]},{\"label\":\"weight_decay\",\"range\":[0.05364592081471348,0.4841984358733526],\"values\":[0.4841984358733526,0.05364592081471348,0.11498675729037759]}],\"labelangle\":30,\"labelside\":\"bottom\",\"line\":{\"color\":[0.2534626597782725,0.6431171383176534,0.12427728064358233],\"colorbar\":{\"title\":{\"text\":\"Objective Value\"}},\"colorscale\":[[0.0,\"rgb(247,251,255)\"],[0.125,\"rgb(222,235,247)\"],[0.25,\"rgb(198,219,239)\"],[0.375,\"rgb(158,202,225)\"],[0.5,\"rgb(107,174,214)\"],[0.625,\"rgb(66,146,198)\"],[0.75,\"rgb(33,113,181)\"],[0.875,\"rgb(8,81,156)\"],[1.0,\"rgb(8,48,107)\"]],\"reversescale\":true,\"showscale\":true},\"type\":\"parcoords\"}],                        {\"template\":{\"data\":{\"bar\":[{\"error_x\":{\"color\":\"#2a3f5f\"},\"error_y\":{\"color\":\"#2a3f5f\"},\"marker\":{\"line\":{\"color\":\"#E5ECF6\",\"width\":0.5},\"pattern\":{\"fillmode\":\"overlay\",\"size\":10,\"solidity\":0.2}},\"type\":\"bar\"}],\"barpolar\":[{\"marker\":{\"line\":{\"color\":\"#E5ECF6\",\"width\":0.5},\"pattern\":{\"fillmode\":\"overlay\",\"size\":10,\"solidity\":0.2}},\"type\":\"barpolar\"}],\"carpet\":[{\"aaxis\":{\"endlinecolor\":\"#2a3f5f\",\"gridcolor\":\"white\",\"linecolor\":\"white\",\"minorgridcolor\":\"white\",\"startlinecolor\":\"#2a3f5f\"},\"baxis\":{\"endlinecolor\":\"#2a3f5f\",\"gridcolor\":\"white\",\"linecolor\":\"white\",\"minorgridcolor\":\"white\",\"startlinecolor\":\"#2a3f5f\"},\"type\":\"carpet\"}],\"choropleth\":[{\"colorbar\":{\"outlinewidth\":0,\"ticks\":\"\"},\"type\":\"choropleth\"}],\"contour\":[{\"colorbar\":{\"outlinewidth\":0,\"ticks\":\"\"},\"colorscale\":[[0.0,\"#0d0887\"],[0.1111111111111111,\"#46039f\"],[0.2222222222222222,\"#7201a8\"],[0.3333333333333333,\"#9c179e\"],[0.4444444444444444,\"#bd3786\"],[0.5555555555555556,\"#d8576b\"],[0.6666666666666666,\"#ed7953\"],[0.7777777777777778,\"#fb9f3a\"],[0.8888888888888888,\"#fdca26\"],[1.0,\"#f0f921\"]],\"type\":\"contour\"}],\"contourcarpet\":[{\"colorbar\":{\"outlinewidth\":0,\"ticks\":\"\"},\"type\":\"contourcarpet\"}],\"heatmap\":[{\"colorbar\":{\"outlinewidth\":0,\"ticks\":\"\"},\"colorscale\":[[0.0,\"#0d0887\"],[0.1111111111111111,\"#46039f\"],[0.2222222222222222,\"#7201a8\"],[0.3333333333333333,\"#9c179e\"],[0.4444444444444444,\"#bd3786\"],[0.5555555555555556,\"#d8576b\"],[0.6666666666666666,\"#ed7953\"],[0.7777777777777778,\"#fb9f3a\"],[0.8888888888888888,\"#fdca26\"],[1.0,\"#f0f921\"]],\"type\":\"heatmap\"}],\"heatmapgl\":[{\"colorbar\":{\"outlinewidth\":0,\"ticks\":\"\"},\"colorscale\":[[0.0,\"#0d0887\"],[0.1111111111111111,\"#46039f\"],[0.2222222222222222,\"#7201a8\"],[0.3333333333333333,\"#9c179e\"],[0.4444444444444444,\"#bd3786\"],[0.5555555555555556,\"#d8576b\"],[0.6666666666666666,\"#ed7953\"],[0.7777777777777778,\"#fb9f3a\"],[0.8888888888888888,\"#fdca26\"],[1.0,\"#f0f921\"]],\"type\":\"heatmapgl\"}],\"histogram\":[{\"marker\":{\"pattern\":{\"fillmode\":\"overlay\",\"size\":10,\"solidity\":0.2}},\"type\":\"histogram\"}],\"histogram2d\":[{\"colorbar\":{\"outlinewidth\":0,\"ticks\":\"\"},\"colorscale\":[[0.0,\"#0d0887\"],[0.1111111111111111,\"#46039f\"],[0.2222222222222222,\"#7201a8\"],[0.3333333333333333,\"#9c179e\"],[0.4444444444444444,\"#bd3786\"],[0.5555555555555556,\"#d8576b\"],[0.6666666666666666,\"#ed7953\"],[0.7777777777777778,\"#fb9f3a\"],[0.8888888888888888,\"#fdca26\"],[1.0,\"#f0f921\"]],\"type\":\"histogram2d\"}],\"histogram2dcontour\":[{\"colorbar\":{\"outlinewidth\":0,\"ticks\":\"\"},\"colorscale\":[[0.0,\"#0d0887\"],[0.1111111111111111,\"#46039f\"],[0.2222222222222222,\"#7201a8\"],[0.3333333333333333,\"#9c179e\"],[0.4444444444444444,\"#bd3786\"],[0.5555555555555556,\"#d8576b\"],[0.6666666666666666,\"#ed7953\"],[0.7777777777777778,\"#fb9f3a\"],[0.8888888888888888,\"#fdca26\"],[1.0,\"#f0f921\"]],\"type\":\"histogram2dcontour\"}],\"mesh3d\":[{\"colorbar\":{\"outlinewidth\":0,\"ticks\":\"\"},\"type\":\"mesh3d\"}],\"parcoords\":[{\"line\":{\"colorbar\":{\"outlinewidth\":0,\"ticks\":\"\"}},\"type\":\"parcoords\"}],\"pie\":[{\"automargin\":true,\"type\":\"pie\"}],\"scatter\":[{\"marker\":{\"colorbar\":{\"outlinewidth\":0,\"ticks\":\"\"}},\"type\":\"scatter\"}],\"scatter3d\":[{\"line\":{\"colorbar\":{\"outlinewidth\":0,\"ticks\":\"\"}},\"marker\":{\"colorbar\":{\"outlinewidth\":0,\"ticks\":\"\"}},\"type\":\"scatter3d\"}],\"scattercarpet\":[{\"marker\":{\"colorbar\":{\"outlinewidth\":0,\"ticks\":\"\"}},\"type\":\"scattercarpet\"}],\"scattergeo\":[{\"marker\":{\"colorbar\":{\"outlinewidth\":0,\"ticks\":\"\"}},\"type\":\"scattergeo\"}],\"scattergl\":[{\"marker\":{\"colorbar\":{\"outlinewidth\":0,\"ticks\":\"\"}},\"type\":\"scattergl\"}],\"scattermapbox\":[{\"marker\":{\"colorbar\":{\"outlinewidth\":0,\"ticks\":\"\"}},\"type\":\"scattermapbox\"}],\"scatterpolar\":[{\"marker\":{\"colorbar\":{\"outlinewidth\":0,\"ticks\":\"\"}},\"type\":\"scatterpolar\"}],\"scatterpolargl\":[{\"marker\":{\"colorbar\":{\"outlinewidth\":0,\"ticks\":\"\"}},\"type\":\"scatterpolargl\"}],\"scatterternary\":[{\"marker\":{\"colorbar\":{\"outlinewidth\":0,\"ticks\":\"\"}},\"type\":\"scatterternary\"}],\"surface\":[{\"colorbar\":{\"outlinewidth\":0,\"ticks\":\"\"},\"colorscale\":[[0.0,\"#0d0887\"],[0.1111111111111111,\"#46039f\"],[0.2222222222222222,\"#7201a8\"],[0.3333333333333333,\"#9c179e\"],[0.4444444444444444,\"#bd3786\"],[0.5555555555555556,\"#d8576b\"],[0.6666666666666666,\"#ed7953\"],[0.7777777777777778,\"#fb9f3a\"],[0.8888888888888888,\"#fdca26\"],[1.0,\"#f0f921\"]],\"type\":\"surface\"}],\"table\":[{\"cells\":{\"fill\":{\"color\":\"#EBF0F8\"},\"line\":{\"color\":\"white\"}},\"header\":{\"fill\":{\"color\":\"#C8D4E3\"},\"line\":{\"color\":\"white\"}},\"type\":\"table\"}]},\"layout\":{\"annotationdefaults\":{\"arrowcolor\":\"#2a3f5f\",\"arrowhead\":0,\"arrowwidth\":1},\"autotypenumbers\":\"strict\",\"coloraxis\":{\"colorbar\":{\"outlinewidth\":0,\"ticks\":\"\"}},\"colorscale\":{\"diverging\":[[0,\"#8e0152\"],[0.1,\"#c51b7d\"],[0.2,\"#de77ae\"],[0.3,\"#f1b6da\"],[0.4,\"#fde0ef\"],[0.5,\"#f7f7f7\"],[0.6,\"#e6f5d0\"],[0.7,\"#b8e186\"],[0.8,\"#7fbc41\"],[0.9,\"#4d9221\"],[1,\"#276419\"]],\"sequential\":[[0.0,\"#0d0887\"],[0.1111111111111111,\"#46039f\"],[0.2222222222222222,\"#7201a8\"],[0.3333333333333333,\"#9c179e\"],[0.4444444444444444,\"#bd3786\"],[0.5555555555555556,\"#d8576b\"],[0.6666666666666666,\"#ed7953\"],[0.7777777777777778,\"#fb9f3a\"],[0.8888888888888888,\"#fdca26\"],[1.0,\"#f0f921\"]],\"sequentialminus\":[[0.0,\"#0d0887\"],[0.1111111111111111,\"#46039f\"],[0.2222222222222222,\"#7201a8\"],[0.3333333333333333,\"#9c179e\"],[0.4444444444444444,\"#bd3786\"],[0.5555555555555556,\"#d8576b\"],[0.6666666666666666,\"#ed7953\"],[0.7777777777777778,\"#fb9f3a\"],[0.8888888888888888,\"#fdca26\"],[1.0,\"#f0f921\"]]},\"colorway\":[\"#636efa\",\"#EF553B\",\"#00cc96\",\"#ab63fa\",\"#FFA15A\",\"#19d3f3\",\"#FF6692\",\"#B6E880\",\"#FF97FF\",\"#FECB52\"],\"font\":{\"color\":\"#2a3f5f\"},\"geo\":{\"bgcolor\":\"white\",\"lakecolor\":\"white\",\"landcolor\":\"#E5ECF6\",\"showlakes\":true,\"showland\":true,\"subunitcolor\":\"white\"},\"hoverlabel\":{\"align\":\"left\"},\"hovermode\":\"closest\",\"mapbox\":{\"style\":\"light\"},\"paper_bgcolor\":\"white\",\"plot_bgcolor\":\"#E5ECF6\",\"polar\":{\"angularaxis\":{\"gridcolor\":\"white\",\"linecolor\":\"white\",\"ticks\":\"\"},\"bgcolor\":\"#E5ECF6\",\"radialaxis\":{\"gridcolor\":\"white\",\"linecolor\":\"white\",\"ticks\":\"\"}},\"scene\":{\"xaxis\":{\"backgroundcolor\":\"#E5ECF6\",\"gridcolor\":\"white\",\"gridwidth\":2,\"linecolor\":\"white\",\"showbackground\":true,\"ticks\":\"\",\"zerolinecolor\":\"white\"},\"yaxis\":{\"backgroundcolor\":\"#E5ECF6\",\"gridcolor\":\"white\",\"gridwidth\":2,\"linecolor\":\"white\",\"showbackground\":true,\"ticks\":\"\",\"zerolinecolor\":\"white\"},\"zaxis\":{\"backgroundcolor\":\"#E5ECF6\",\"gridcolor\":\"white\",\"gridwidth\":2,\"linecolor\":\"white\",\"showbackground\":true,\"ticks\":\"\",\"zerolinecolor\":\"white\"}},\"shapedefaults\":{\"line\":{\"color\":\"#2a3f5f\"}},\"ternary\":{\"aaxis\":{\"gridcolor\":\"white\",\"linecolor\":\"white\",\"ticks\":\"\"},\"baxis\":{\"gridcolor\":\"white\",\"linecolor\":\"white\",\"ticks\":\"\"},\"bgcolor\":\"#E5ECF6\",\"caxis\":{\"gridcolor\":\"white\",\"linecolor\":\"white\",\"ticks\":\"\"}},\"title\":{\"x\":0.05},\"xaxis\":{\"automargin\":true,\"gridcolor\":\"white\",\"linecolor\":\"white\",\"ticks\":\"\",\"title\":{\"standoff\":15},\"zerolinecolor\":\"white\",\"zerolinewidth\":2},\"yaxis\":{\"automargin\":true,\"gridcolor\":\"white\",\"linecolor\":\"white\",\"ticks\":\"\",\"title\":{\"standoff\":15},\"zerolinecolor\":\"white\",\"zerolinewidth\":2}}},\"title\":{\"text\":\"Parallel Coordinate Plot\"}},                        {\"responsive\": true}                    ).then(function(){\n",
       "                            \n",
       "var gd = document.getElementById('b3841dfb-705b-4497-b7ed-390ea9a28d5d');\n",
       "var x = new MutationObserver(function (mutations, observer) {{\n",
       "        var display = window.getComputedStyle(gd).display;\n",
       "        if (!display || display === 'none') {{\n",
       "            console.log([gd, 'removed!']);\n",
       "            Plotly.purge(gd);\n",
       "            observer.disconnect();\n",
       "        }}\n",
       "}});\n",
       "\n",
       "// Listen for the removal of the full notebook cells\n",
       "var notebookContainer = gd.closest('#notebook-container');\n",
       "if (notebookContainer) {{\n",
       "    x.observe(notebookContainer, {childList: true});\n",
       "}}\n",
       "\n",
       "// Listen for the clearing of the current output cell\n",
       "var outputEl = gd.closest('.output');\n",
       "if (outputEl) {{\n",
       "    x.observe(outputEl, {childList: true});\n",
       "}}\n",
       "\n",
       "                        })                };                });            </script>        </div>"
      ]
     },
     "metadata": {},
     "output_type": "display_data"
    },
    {
     "data": {
      "text/html": [
       "<div>                            <div id=\"5885b0cf-748d-4d59-99eb-18e810fe96e5\" class=\"plotly-graph-div\" style=\"height:525px; width:100%;\"></div>            <script type=\"text/javascript\">                require([\"plotly\"], function(Plotly) {                    window.PLOTLYENV=window.PLOTLYENV || {};                                    if (document.getElementById(\"5885b0cf-748d-4d59-99eb-18e810fe96e5\")) {                    Plotly.newPlot(                        \"5885b0cf-748d-4d59-99eb-18e810fe96e5\",                        [{\"dimensions\":[{\"label\":\"Objective Value\",\"range\":[0.3590984783352237,1.9807250459217334],\"values\":[1.9807250459217334,0.3590984783352237]},{\"label\":\"batch_size\",\"range\":[68,193],\"values\":[68,193]},{\"label\":\"dropout_rate\",\"range\":[0.4202648891292501,0.4359784656640127],\"values\":[0.4202648891292501,0.4359784656640127]},{\"label\":\"lr\",\"range\":[-3.532605405765739,-2.8906859538641143],\"ticktext\":[\"0.000293\",\"0.001\",\"0.00129\"],\"tickvals\":[-3.532605405765739,-3,-2.8906859538641143],\"values\":[-3.532605405765739,-2.8906859538641143]},{\"label\":\"n_layers\",\"range\":[3,3],\"values\":[3,3]},{\"label\":\"n_units_l0\",\"range\":[5,86],\"values\":[5,86]},{\"label\":\"n_units_l1\",\"range\":[32,36],\"values\":[32,36]},{\"label\":\"n_units_l2\",\"range\":[78,94],\"values\":[94,78]},{\"label\":\"weight_decay\",\"range\":[0.32446981154834764,0.32837853441607556],\"values\":[0.32837853441607556,0.32446981154834764]}],\"labelangle\":30,\"labelside\":\"bottom\",\"line\":{\"color\":[1.9807250459217334,0.3590984783352237],\"colorbar\":{\"title\":{\"text\":\"Objective Value\"}},\"colorscale\":[[0.0,\"rgb(247,251,255)\"],[0.125,\"rgb(222,235,247)\"],[0.25,\"rgb(198,219,239)\"],[0.375,\"rgb(158,202,225)\"],[0.5,\"rgb(107,174,214)\"],[0.625,\"rgb(66,146,198)\"],[0.75,\"rgb(33,113,181)\"],[0.875,\"rgb(8,81,156)\"],[1.0,\"rgb(8,48,107)\"]],\"reversescale\":true,\"showscale\":true},\"type\":\"parcoords\"}],                        {\"template\":{\"data\":{\"bar\":[{\"error_x\":{\"color\":\"#2a3f5f\"},\"error_y\":{\"color\":\"#2a3f5f\"},\"marker\":{\"line\":{\"color\":\"#E5ECF6\",\"width\":0.5},\"pattern\":{\"fillmode\":\"overlay\",\"size\":10,\"solidity\":0.2}},\"type\":\"bar\"}],\"barpolar\":[{\"marker\":{\"line\":{\"color\":\"#E5ECF6\",\"width\":0.5},\"pattern\":{\"fillmode\":\"overlay\",\"size\":10,\"solidity\":0.2}},\"type\":\"barpolar\"}],\"carpet\":[{\"aaxis\":{\"endlinecolor\":\"#2a3f5f\",\"gridcolor\":\"white\",\"linecolor\":\"white\",\"minorgridcolor\":\"white\",\"startlinecolor\":\"#2a3f5f\"},\"baxis\":{\"endlinecolor\":\"#2a3f5f\",\"gridcolor\":\"white\",\"linecolor\":\"white\",\"minorgridcolor\":\"white\",\"startlinecolor\":\"#2a3f5f\"},\"type\":\"carpet\"}],\"choropleth\":[{\"colorbar\":{\"outlinewidth\":0,\"ticks\":\"\"},\"type\":\"choropleth\"}],\"contour\":[{\"colorbar\":{\"outlinewidth\":0,\"ticks\":\"\"},\"colorscale\":[[0.0,\"#0d0887\"],[0.1111111111111111,\"#46039f\"],[0.2222222222222222,\"#7201a8\"],[0.3333333333333333,\"#9c179e\"],[0.4444444444444444,\"#bd3786\"],[0.5555555555555556,\"#d8576b\"],[0.6666666666666666,\"#ed7953\"],[0.7777777777777778,\"#fb9f3a\"],[0.8888888888888888,\"#fdca26\"],[1.0,\"#f0f921\"]],\"type\":\"contour\"}],\"contourcarpet\":[{\"colorbar\":{\"outlinewidth\":0,\"ticks\":\"\"},\"type\":\"contourcarpet\"}],\"heatmap\":[{\"colorbar\":{\"outlinewidth\":0,\"ticks\":\"\"},\"colorscale\":[[0.0,\"#0d0887\"],[0.1111111111111111,\"#46039f\"],[0.2222222222222222,\"#7201a8\"],[0.3333333333333333,\"#9c179e\"],[0.4444444444444444,\"#bd3786\"],[0.5555555555555556,\"#d8576b\"],[0.6666666666666666,\"#ed7953\"],[0.7777777777777778,\"#fb9f3a\"],[0.8888888888888888,\"#fdca26\"],[1.0,\"#f0f921\"]],\"type\":\"heatmap\"}],\"heatmapgl\":[{\"colorbar\":{\"outlinewidth\":0,\"ticks\":\"\"},\"colorscale\":[[0.0,\"#0d0887\"],[0.1111111111111111,\"#46039f\"],[0.2222222222222222,\"#7201a8\"],[0.3333333333333333,\"#9c179e\"],[0.4444444444444444,\"#bd3786\"],[0.5555555555555556,\"#d8576b\"],[0.6666666666666666,\"#ed7953\"],[0.7777777777777778,\"#fb9f3a\"],[0.8888888888888888,\"#fdca26\"],[1.0,\"#f0f921\"]],\"type\":\"heatmapgl\"}],\"histogram\":[{\"marker\":{\"pattern\":{\"fillmode\":\"overlay\",\"size\":10,\"solidity\":0.2}},\"type\":\"histogram\"}],\"histogram2d\":[{\"colorbar\":{\"outlinewidth\":0,\"ticks\":\"\"},\"colorscale\":[[0.0,\"#0d0887\"],[0.1111111111111111,\"#46039f\"],[0.2222222222222222,\"#7201a8\"],[0.3333333333333333,\"#9c179e\"],[0.4444444444444444,\"#bd3786\"],[0.5555555555555556,\"#d8576b\"],[0.6666666666666666,\"#ed7953\"],[0.7777777777777778,\"#fb9f3a\"],[0.8888888888888888,\"#fdca26\"],[1.0,\"#f0f921\"]],\"type\":\"histogram2d\"}],\"histogram2dcontour\":[{\"colorbar\":{\"outlinewidth\":0,\"ticks\":\"\"},\"colorscale\":[[0.0,\"#0d0887\"],[0.1111111111111111,\"#46039f\"],[0.2222222222222222,\"#7201a8\"],[0.3333333333333333,\"#9c179e\"],[0.4444444444444444,\"#bd3786\"],[0.5555555555555556,\"#d8576b\"],[0.6666666666666666,\"#ed7953\"],[0.7777777777777778,\"#fb9f3a\"],[0.8888888888888888,\"#fdca26\"],[1.0,\"#f0f921\"]],\"type\":\"histogram2dcontour\"}],\"mesh3d\":[{\"colorbar\":{\"outlinewidth\":0,\"ticks\":\"\"},\"type\":\"mesh3d\"}],\"parcoords\":[{\"line\":{\"colorbar\":{\"outlinewidth\":0,\"ticks\":\"\"}},\"type\":\"parcoords\"}],\"pie\":[{\"automargin\":true,\"type\":\"pie\"}],\"scatter\":[{\"marker\":{\"colorbar\":{\"outlinewidth\":0,\"ticks\":\"\"}},\"type\":\"scatter\"}],\"scatter3d\":[{\"line\":{\"colorbar\":{\"outlinewidth\":0,\"ticks\":\"\"}},\"marker\":{\"colorbar\":{\"outlinewidth\":0,\"ticks\":\"\"}},\"type\":\"scatter3d\"}],\"scattercarpet\":[{\"marker\":{\"colorbar\":{\"outlinewidth\":0,\"ticks\":\"\"}},\"type\":\"scattercarpet\"}],\"scattergeo\":[{\"marker\":{\"colorbar\":{\"outlinewidth\":0,\"ticks\":\"\"}},\"type\":\"scattergeo\"}],\"scattergl\":[{\"marker\":{\"colorbar\":{\"outlinewidth\":0,\"ticks\":\"\"}},\"type\":\"scattergl\"}],\"scattermapbox\":[{\"marker\":{\"colorbar\":{\"outlinewidth\":0,\"ticks\":\"\"}},\"type\":\"scattermapbox\"}],\"scatterpolar\":[{\"marker\":{\"colorbar\":{\"outlinewidth\":0,\"ticks\":\"\"}},\"type\":\"scatterpolar\"}],\"scatterpolargl\":[{\"marker\":{\"colorbar\":{\"outlinewidth\":0,\"ticks\":\"\"}},\"type\":\"scatterpolargl\"}],\"scatterternary\":[{\"marker\":{\"colorbar\":{\"outlinewidth\":0,\"ticks\":\"\"}},\"type\":\"scatterternary\"}],\"surface\":[{\"colorbar\":{\"outlinewidth\":0,\"ticks\":\"\"},\"colorscale\":[[0.0,\"#0d0887\"],[0.1111111111111111,\"#46039f\"],[0.2222222222222222,\"#7201a8\"],[0.3333333333333333,\"#9c179e\"],[0.4444444444444444,\"#bd3786\"],[0.5555555555555556,\"#d8576b\"],[0.6666666666666666,\"#ed7953\"],[0.7777777777777778,\"#fb9f3a\"],[0.8888888888888888,\"#fdca26\"],[1.0,\"#f0f921\"]],\"type\":\"surface\"}],\"table\":[{\"cells\":{\"fill\":{\"color\":\"#EBF0F8\"},\"line\":{\"color\":\"white\"}},\"header\":{\"fill\":{\"color\":\"#C8D4E3\"},\"line\":{\"color\":\"white\"}},\"type\":\"table\"}]},\"layout\":{\"annotationdefaults\":{\"arrowcolor\":\"#2a3f5f\",\"arrowhead\":0,\"arrowwidth\":1},\"autotypenumbers\":\"strict\",\"coloraxis\":{\"colorbar\":{\"outlinewidth\":0,\"ticks\":\"\"}},\"colorscale\":{\"diverging\":[[0,\"#8e0152\"],[0.1,\"#c51b7d\"],[0.2,\"#de77ae\"],[0.3,\"#f1b6da\"],[0.4,\"#fde0ef\"],[0.5,\"#f7f7f7\"],[0.6,\"#e6f5d0\"],[0.7,\"#b8e186\"],[0.8,\"#7fbc41\"],[0.9,\"#4d9221\"],[1,\"#276419\"]],\"sequential\":[[0.0,\"#0d0887\"],[0.1111111111111111,\"#46039f\"],[0.2222222222222222,\"#7201a8\"],[0.3333333333333333,\"#9c179e\"],[0.4444444444444444,\"#bd3786\"],[0.5555555555555556,\"#d8576b\"],[0.6666666666666666,\"#ed7953\"],[0.7777777777777778,\"#fb9f3a\"],[0.8888888888888888,\"#fdca26\"],[1.0,\"#f0f921\"]],\"sequentialminus\":[[0.0,\"#0d0887\"],[0.1111111111111111,\"#46039f\"],[0.2222222222222222,\"#7201a8\"],[0.3333333333333333,\"#9c179e\"],[0.4444444444444444,\"#bd3786\"],[0.5555555555555556,\"#d8576b\"],[0.6666666666666666,\"#ed7953\"],[0.7777777777777778,\"#fb9f3a\"],[0.8888888888888888,\"#fdca26\"],[1.0,\"#f0f921\"]]},\"colorway\":[\"#636efa\",\"#EF553B\",\"#00cc96\",\"#ab63fa\",\"#FFA15A\",\"#19d3f3\",\"#FF6692\",\"#B6E880\",\"#FF97FF\",\"#FECB52\"],\"font\":{\"color\":\"#2a3f5f\"},\"geo\":{\"bgcolor\":\"white\",\"lakecolor\":\"white\",\"landcolor\":\"#E5ECF6\",\"showlakes\":true,\"showland\":true,\"subunitcolor\":\"white\"},\"hoverlabel\":{\"align\":\"left\"},\"hovermode\":\"closest\",\"mapbox\":{\"style\":\"light\"},\"paper_bgcolor\":\"white\",\"plot_bgcolor\":\"#E5ECF6\",\"polar\":{\"angularaxis\":{\"gridcolor\":\"white\",\"linecolor\":\"white\",\"ticks\":\"\"},\"bgcolor\":\"#E5ECF6\",\"radialaxis\":{\"gridcolor\":\"white\",\"linecolor\":\"white\",\"ticks\":\"\"}},\"scene\":{\"xaxis\":{\"backgroundcolor\":\"#E5ECF6\",\"gridcolor\":\"white\",\"gridwidth\":2,\"linecolor\":\"white\",\"showbackground\":true,\"ticks\":\"\",\"zerolinecolor\":\"white\"},\"yaxis\":{\"backgroundcolor\":\"#E5ECF6\",\"gridcolor\":\"white\",\"gridwidth\":2,\"linecolor\":\"white\",\"showbackground\":true,\"ticks\":\"\",\"zerolinecolor\":\"white\"},\"zaxis\":{\"backgroundcolor\":\"#E5ECF6\",\"gridcolor\":\"white\",\"gridwidth\":2,\"linecolor\":\"white\",\"showbackground\":true,\"ticks\":\"\",\"zerolinecolor\":\"white\"}},\"shapedefaults\":{\"line\":{\"color\":\"#2a3f5f\"}},\"ternary\":{\"aaxis\":{\"gridcolor\":\"white\",\"linecolor\":\"white\",\"ticks\":\"\"},\"baxis\":{\"gridcolor\":\"white\",\"linecolor\":\"white\",\"ticks\":\"\"},\"bgcolor\":\"#E5ECF6\",\"caxis\":{\"gridcolor\":\"white\",\"linecolor\":\"white\",\"ticks\":\"\"}},\"title\":{\"x\":0.05},\"xaxis\":{\"automargin\":true,\"gridcolor\":\"white\",\"linecolor\":\"white\",\"ticks\":\"\",\"title\":{\"standoff\":15},\"zerolinecolor\":\"white\",\"zerolinewidth\":2},\"yaxis\":{\"automargin\":true,\"gridcolor\":\"white\",\"linecolor\":\"white\",\"ticks\":\"\",\"title\":{\"standoff\":15},\"zerolinecolor\":\"white\",\"zerolinewidth\":2}}},\"title\":{\"text\":\"Parallel Coordinate Plot\"}},                        {\"responsive\": true}                    ).then(function(){\n",
       "                            \n",
       "var gd = document.getElementById('5885b0cf-748d-4d59-99eb-18e810fe96e5');\n",
       "var x = new MutationObserver(function (mutations, observer) {{\n",
       "        var display = window.getComputedStyle(gd).display;\n",
       "        if (!display || display === 'none') {{\n",
       "            console.log([gd, 'removed!']);\n",
       "            Plotly.purge(gd);\n",
       "            observer.disconnect();\n",
       "        }}\n",
       "}});\n",
       "\n",
       "// Listen for the removal of the full notebook cells\n",
       "var notebookContainer = gd.closest('#notebook-container');\n",
       "if (notebookContainer) {{\n",
       "    x.observe(notebookContainer, {childList: true});\n",
       "}}\n",
       "\n",
       "// Listen for the clearing of the current output cell\n",
       "var outputEl = gd.closest('.output');\n",
       "if (outputEl) {{\n",
       "    x.observe(outputEl, {childList: true});\n",
       "}}\n",
       "\n",
       "                        })                };                });            </script>        </div>"
      ]
     },
     "metadata": {},
     "output_type": "display_data"
    }
   ],
   "source": [
    "import warnings\n",
    "warnings.simplefilter(action='ignore', category=FutureWarning)\n",
    "\n",
    "# Isolate a study for each value of n_layers\n",
    "studies = [optuna.create_study() for j in range(3)]\n",
    "for j in range(3):\n",
    "    studies[j].add_trials([t for t in study.trials if t.params['n_layers'] == j+1])\n",
    "    fig = optuna.visualization.plot_parallel_coordinate(studies[j])\n",
    "    fig.show()"
   ]
  },
  {
   "cell_type": "markdown",
   "id": "4233b243",
   "metadata": {
    "id": "wwToT9Spc5ei",
    "papermill": {
     "duration": 0.354671,
     "end_time": "2021-09-23T19:20:10.392870",
     "exception": false,
     "start_time": "2021-09-23T19:20:10.038199",
     "status": "completed"
    },
    "tags": []
   },
   "source": [
    "From the following contour plot, we see that a low batch size is generally good, with high values of dropout, learning rate, and weight decay, and only a single hidden layer. From the above parallel plot, a hidden layer of size around 90 looks good. "
   ]
  },
  {
   "cell_type": "code",
   "execution_count": 26,
   "id": "794c58dd",
   "metadata": {
    "execution": {
     "iopub.execute_input": "2021-09-23T19:20:11.116087Z",
     "iopub.status.busy": "2021-09-23T19:20:11.111145Z",
     "iopub.status.idle": "2021-09-23T19:20:11.743063Z",
     "shell.execute_reply": "2021-09-23T19:20:11.742622Z"
    },
    "id": "u_p3HH33cMxH",
    "outputId": "7c30f66d-8f2a-4f8f-ffde-c6e425f7f43d",
    "papermill": {
     "duration": 0.996104,
     "end_time": "2021-09-23T19:20:11.743195",
     "exception": false,
     "start_time": "2021-09-23T19:20:10.747091",
     "status": "completed"
    },
    "tags": []
   },
   "outputs": [
    {
     "data": {
      "text/html": [
       "<div>                            <div id=\"674a5772-3540-411f-a6c9-5d75fddeb6b8\" class=\"plotly-graph-div\" style=\"height:1200px; width:1200px;\"></div>            <script type=\"text/javascript\">                require([\"plotly\"], function(Plotly) {                    window.PLOTLYENV=window.PLOTLYENV || {};                                    if (document.getElementById(\"674a5772-3540-411f-a6c9-5d75fddeb6b8\")) {                    Plotly.newPlot(                        \"674a5772-3540-411f-a6c9-5d75fddeb6b8\",                        [{\"type\":\"scatter\",\"xaxis\":\"x\",\"yaxis\":\"y\"},{\"colorbar\":{\"title\":{\"text\":\"Objective Value\"}},\"colorscale\":[[0,\"rgb(5,10,172)\"],[0.35,\"rgb(40,60,190)\"],[0.5,\"rgb(70,100,245)\"],[0.6,\"rgb(90,120,245)\"],[0.7,\"rgb(106,137,247)\"],[1,\"rgb(220,220,220)\"]],\"connectgaps\":true,\"contours\":{\"coloring\":\"heatmap\"},\"hoverinfo\":\"none\",\"line\":{\"smoothing\":1.3},\"reversescale\":true,\"showscale\":true,\"type\":\"contour\",\"x\":[-13.05,11,17,38,68,163,193,201,209,235,274,280,285,418,428,456,482,492,516.05],\"xaxis\":\"x6\",\"y\":[0.1853522366497126,0.2002019221624222,0.20294144771417877,0.2084089229401478,0.21270817239465242,0.22102212661172144,0.24057383674676816,0.26140155424190586,0.2666777531426128,0.2919314128060961,0.31376760307261653,0.32624599410470545,0.33885658619189224,0.33909106810837225,0.3683590457670618,0.4202648891292501,0.4359784656640127,0.4971956324166139,0.5120453179293235],\"yaxis\":\"y6\",\"z\":[[null,null,null,null,null,null,null,null,null,null,null,null,null,null,null,null,null,null,null],[null,null,null,null,null,null,null,null,null,null,null,null,0.09930000439286231,null,null,null,null,null,null],[null,null,null,null,null,null,null,null,0.10732460878233414,null,null,null,null,null,null,null,null,null,null],[null,null,null,null,null,null,null,null,null,null,null,null,null,null,null,null,null,0.09505551989222395,null],[null,0.1134480545147289,null,null,null,null,null,null,null,null,null,null,null,null,null,null,null,null,null],[null,null,null,null,null,0.10991137643712894,null,null,null,null,null,null,null,null,null,null,null,null,null],[null,null,null,null,null,null,null,null,null,null,0.10721965563985018,null,null,null,null,null,null,null,null],[null,null,null,null,null,null,null,null,null,null,null,null,null,null,0.09875674974737746,null,null,null,null],[null,null,null,null,null,null,null,null,null,null,null,null,null,0.10432604119619904,null,null,null,null,null],[null,null,null,null,null,null,null,null,null,null,null,null,null,null,null,0.11315505591131028,null,null,null],[null,null,null,null,null,null,null,null,null,null,null,null,null,null,null,null,0.11502095063527425,null,null],[null,null,0.2534626597782725,null,null,null,null,null,null,null,null,null,null,null,null,null,null,null,null],[null,null,null,null,null,null,null,null,null,0.10331169174363218,null,null,null,null,null,null,null,null,null],[null,null,null,0.28132008490604427,null,null,null,null,null,null,null,null,null,null,null,null,null,null,null],[null,null,null,null,null,null,null,null,null,null,null,0.12427728064358233,null,null,null,null,null,null,null],[null,null,null,null,1.9807250459217334,null,null,null,null,null,null,null,null,null,null,null,null,null,null],[null,null,null,null,null,null,0.3590984783352237,null,null,null,null,null,null,null,null,null,null,null,null],[null,null,null,null,null,null,null,0.6431171383176534,null,null,null,null,null,null,null,null,null,null,null],[null,null,null,null,null,null,null,null,null,null,null,null,null,null,null,null,null,null,null]]},{\"marker\":{\"color\":\"black\",\"line\":{\"color\":\"Grey\",\"width\":0.5}},\"mode\":\"markers\",\"showlegend\":false,\"type\":\"scatter\",\"x\":[235,17,68,193,201,38,428,418,456,280,492,482,163,274,285,209,11],\"xaxis\":\"x6\",\"y\":[0.33885658619189224,0.32624599410470545,0.4202648891292501,0.4359784656640127,0.4971956324166139,0.33909106810837225,0.26140155424190586,0.2666777531426128,0.2919314128060961,0.3683590457670618,0.2084089229401478,0.31376760307261653,0.22102212661172144,0.24057383674676816,0.2002019221624222,0.20294144771417877,0.21270817239465242],\"yaxis\":\"y6\"},{\"colorbar\":{\"title\":{\"text\":\"Objective Value\"}},\"colorscale\":[[0,\"rgb(5,10,172)\"],[0.35,\"rgb(40,60,190)\"],[0.5,\"rgb(70,100,245)\"],[0.6,\"rgb(90,120,245)\"],[0.7,\"rgb(106,137,247)\"],[1,\"rgb(220,220,220)\"]],\"connectgaps\":true,\"contours\":{\"coloring\":\"heatmap\"},\"hoverinfo\":\"none\",\"line\":{\"smoothing\":1.3},\"reversescale\":true,\"showscale\":false,\"type\":\"contour\",\"x\":[-13.05,11,17,38,68,163,193,201,209,235,274,280,285,418,428,456,482,492,516.05],\"xaxis\":\"x11\",\"y\":[8.50528612638913e-05,0.0001144946021208401,0.0002933557426306419,0.0005941550653811763,0.0008470382435178196,0.0012862164099185396,0.001306881943921273,0.0017596186060431188,0.0017789466665703959,0.002924059415327138,0.003889370183149437,0.0049079930534467265,0.0051944992011224754,0.006150130559882329,0.006696227015345656,0.01095284177391842,0.03580321349942954,0.04372267158883429,0.05885763057037821],\"yaxis\":\"y11\",\"z\":[[null,null,null,null,null,null,null,null,null,null,null,null,null,null,null,null,null,null,null],[null,0.1134480545147289,null,null,null,null,null,null,null,null,null,null,null,null,null,null,null,null,null],[null,null,null,null,1.9807250459217334,null,null,null,null,null,null,null,null,null,null,null,null,null,null],[null,null,null,0.28132008490604427,null,null,null,null,null,null,null,null,null,null,null,null,null,null,null],[null,null,null,null,null,null,null,null,0.10732460878233414,null,null,null,null,null,null,null,null,null,null],[null,null,null,null,null,null,0.3590984783352237,null,null,null,null,null,null,null,null,null,null,null,null],[null,null,null,null,null,null,null,null,null,null,null,null,0.09930000439286231,null,null,null,null,null,null],[null,null,null,null,null,null,null,null,null,null,0.10721965563985018,null,null,null,null,null,null,null,null],[null,null,null,null,null,0.10991137643712894,null,null,null,null,null,null,null,null,null,null,null,null,null],[null,null,null,null,null,null,null,null,null,null,null,0.12427728064358233,null,null,null,null,null,null,null],[null,null,null,null,null,null,null,null,null,null,null,null,null,null,null,null,0.11502095063527425,null,null],[null,null,null,null,null,null,null,null,null,null,null,null,null,null,null,null,null,0.09505551989222395,null],[null,null,null,null,null,null,null,null,null,null,null,null,null,null,0.09875674974737746,null,null,null,null],[null,null,null,null,null,null,null,null,null,null,null,null,null,null,null,0.11315505591131028,null,null,null],[null,null,null,null,null,null,null,null,null,null,null,null,null,0.10432604119619904,null,null,null,null,null],[null,null,null,null,null,null,null,null,null,0.10331169174363218,null,null,null,null,null,null,null,null,null],[null,null,0.2534626597782725,null,null,null,null,null,null,null,null,null,null,null,null,null,null,null,null],[null,null,null,null,null,null,null,0.6431171383176534,null,null,null,null,null,null,null,null,null,null,null],[null,null,null,null,null,null,null,null,null,null,null,null,null,null,null,null,null,null,null]]},{\"marker\":{\"color\":\"black\",\"line\":{\"color\":\"Grey\",\"width\":0.5}},\"mode\":\"markers\",\"showlegend\":false,\"type\":\"scatter\",\"x\":[235,17,68,193,201,38,428,418,456,280,492,482,163,274,285,209,11],\"xaxis\":\"x11\",\"y\":[0.01095284177391842,0.03580321349942954,0.0002933557426306419,0.0012862164099185396,0.04372267158883429,0.0005941550653811763,0.0051944992011224754,0.006696227015345656,0.006150130559882329,0.002924059415327138,0.0049079930534467265,0.003889370183149437,0.0017789466665703959,0.0017596186060431188,0.001306881943921273,0.0008470382435178196,0.0001144946021208401],\"yaxis\":\"y11\"},{\"colorbar\":{\"title\":{\"text\":\"Objective Value\"}},\"colorscale\":[[0,\"rgb(5,10,172)\"],[0.35,\"rgb(40,60,190)\"],[0.5,\"rgb(70,100,245)\"],[0.6,\"rgb(90,120,245)\"],[0.7,\"rgb(106,137,247)\"],[1,\"rgb(220,220,220)\"]],\"connectgaps\":true,\"contours\":{\"coloring\":\"heatmap\"},\"hoverinfo\":\"none\",\"line\":{\"smoothing\":1.3},\"reversescale\":true,\"showscale\":false,\"type\":\"contour\",\"x\":[-13.05,11,17,38,68,163,193,201,209,235,274,280,285,418,428,456,482,492,516.05],\"xaxis\":\"x16\",\"y\":[0.9,1,2,3,3.1],\"yaxis\":\"y16\",\"z\":[[null,null,null,null,null,null,null,null,null,null,null,null,null,null,null,null,null,null,null],[null,0.1134480545147289,null,0.28132008490604427,null,0.10991137643712894,null,null,0.10732460878233414,0.10331169174363218,0.10721965563985018,null,0.09930000439286231,0.10432604119619904,0.09875674974737746,0.11315505591131028,0.11502095063527425,0.09505551989222395,null],[null,null,0.2534626597782725,null,null,null,null,0.6431171383176534,null,null,null,0.12427728064358233,null,null,null,null,null,null,null],[null,null,null,null,1.9807250459217334,null,0.3590984783352237,null,null,null,null,null,null,null,null,null,null,null,null],[null,null,null,null,null,null,null,null,null,null,null,null,null,null,null,null,null,null,null]]},{\"marker\":{\"color\":\"black\",\"line\":{\"color\":\"Grey\",\"width\":0.5}},\"mode\":\"markers\",\"showlegend\":false,\"type\":\"scatter\",\"x\":[235,17,68,193,201,38,428,418,456,280,492,482,163,274,285,209,11],\"xaxis\":\"x16\",\"y\":[1,2,3,3,2,1,1,1,1,2,1,1,1,1,1,1,1],\"yaxis\":\"y16\"},{\"colorbar\":{\"title\":{\"text\":\"Objective Value\"}},\"colorscale\":[[0,\"rgb(5,10,172)\"],[0.35,\"rgb(40,60,190)\"],[0.5,\"rgb(70,100,245)\"],[0.6,\"rgb(90,120,245)\"],[0.7,\"rgb(106,137,247)\"],[1,\"rgb(220,220,220)\"]],\"connectgaps\":true,\"contours\":{\"coloring\":\"heatmap\"},\"hoverinfo\":\"none\",\"line\":{\"smoothing\":1.3},\"reversescale\":true,\"showscale\":false,\"type\":\"contour\",\"x\":[-13.05,11,17,38,68,163,193,201,209,235,274,280,285,418,428,456,482,492,516.05],\"xaxis\":\"x21\",\"y\":[0.032118295061781515,0.05364592081471348,0.058160953490642375,0.11498675729037759,0.17948090907314918,0.1796310609432385,0.18711419319062406,0.21250418712221336,0.22375890276401672,0.2481934859460601,0.2915957004412367,0.3100537479216523,0.3123350357530558,0.32446981154834764,0.32837853441607556,0.34884246946321984,0.45203299890636306,0.4841984358733526,0.5057260616262845],\"yaxis\":\"y21\",\"z\":[[null,null,null,null,null,null,null,null,null,null,null,null,null,null,null,null,null,null,null],[null,null,null,null,null,null,null,0.6431171383176534,null,null,null,null,null,null,null,null,null,null,null],[null,null,null,0.28132008490604427,null,null,null,null,null,null,null,null,null,null,null,null,null,null,null],[null,null,null,null,null,null,null,null,null,null,null,0.12427728064358233,null,null,null,null,null,null,null],[null,null,null,null,null,null,null,null,null,null,null,null,null,0.10432604119619904,null,null,null,null,null],[null,null,null,null,null,null,null,null,null,null,null,null,null,null,0.09875674974737746,null,null,null,null],[null,null,null,null,null,null,null,null,null,null,null,null,null,null,null,0.11315505591131028,null,null,null],[null,null,null,null,null,null,null,null,null,null,null,null,null,null,null,null,null,0.09505551989222395,null],[null,null,null,null,null,0.10991137643712894,null,null,null,null,null,null,null,null,null,null,null,null,null],[null,null,null,null,null,null,null,null,null,0.10331169174363218,null,null,null,null,null,null,null,null,null],[null,null,null,null,null,null,null,null,null,null,null,null,null,null,null,null,0.11502095063527425,null,null],[null,null,null,null,null,null,null,null,null,null,0.10721965563985018,null,null,null,null,null,null,null,null],[null,null,null,null,null,null,null,null,null,null,null,null,0.09930000439286231,null,null,null,null,null,null],[null,null,null,null,null,null,0.3590984783352237,null,null,null,null,null,null,null,null,null,null,null,null],[null,null,null,null,1.9807250459217334,null,null,null,null,null,null,null,null,null,null,null,null,null,null],[null,null,null,null,null,null,null,null,0.10732460878233414,null,null,null,null,null,null,null,null,null,null],[null,0.1134480545147289,null,null,null,null,null,null,null,null,null,null,null,null,null,null,null,null,null],[null,null,0.2534626597782725,null,null,null,null,null,null,null,null,null,null,null,null,null,null,null,null],[null,null,null,null,null,null,null,null,null,null,null,null,null,null,null,null,null,null,null]]},{\"marker\":{\"color\":\"black\",\"line\":{\"color\":\"Grey\",\"width\":0.5}},\"mode\":\"markers\",\"showlegend\":false,\"type\":\"scatter\",\"x\":[235,17,68,193,201,38,428,418,456,280,492,482,163,274,285,209,11],\"xaxis\":\"x21\",\"y\":[0.2481934859460601,0.4841984358733526,0.32837853441607556,0.32446981154834764,0.05364592081471348,0.058160953490642375,0.1796310609432385,0.17948090907314918,0.18711419319062406,0.11498675729037759,0.21250418712221336,0.2915957004412367,0.22375890276401672,0.3100537479216523,0.3123350357530558,0.34884246946321984,0.45203299890636306],\"yaxis\":\"y21\"},{\"colorbar\":{\"title\":{\"text\":\"Objective Value\"}},\"colorscale\":[[0,\"rgb(5,10,172)\"],[0.35,\"rgb(40,60,190)\"],[0.5,\"rgb(70,100,245)\"],[0.6,\"rgb(90,120,245)\"],[0.7,\"rgb(106,137,247)\"],[1,\"rgb(220,220,220)\"]],\"connectgaps\":true,\"contours\":{\"coloring\":\"heatmap\"},\"hoverinfo\":\"none\",\"line\":{\"smoothing\":1.3},\"reversescale\":true,\"showscale\":false,\"type\":\"contour\",\"x\":[0.1853522366497126,0.2002019221624222,0.20294144771417877,0.2084089229401478,0.21270817239465242,0.22102212661172144,0.24057383674676816,0.26140155424190586,0.2666777531426128,0.2919314128060961,0.31376760307261653,0.32624599410470545,0.33885658619189224,0.33909106810837225,0.3683590457670618,0.4202648891292501,0.4359784656640127,0.4971956324166139,0.5120453179293235],\"xaxis\":\"x2\",\"y\":[-13.05,11,17,38,68,163,193,201,209,235,274,280,285,418,428,456,482,492,516.05],\"yaxis\":\"y2\",\"z\":[[null,null,null,null,null,null,null,null,null,null,null,null,null,null,null,null,null,null,null],[null,null,null,null,0.1134480545147289,null,null,null,null,null,null,null,null,null,null,null,null,null,null],[null,null,null,null,null,null,null,null,null,null,null,0.2534626597782725,null,null,null,null,null,null,null],[null,null,null,null,null,null,null,null,null,null,null,null,null,0.28132008490604427,null,null,null,null,null],[null,null,null,null,null,null,null,null,null,null,null,null,null,null,null,1.9807250459217334,null,null,null],[null,null,null,null,null,0.10991137643712894,null,null,null,null,null,null,null,null,null,null,null,null,null],[null,null,null,null,null,null,null,null,null,null,null,null,null,null,null,null,0.3590984783352237,null,null],[null,null,null,null,null,null,null,null,null,null,null,null,null,null,null,null,null,0.6431171383176534,null],[null,null,0.10732460878233414,null,null,null,null,null,null,null,null,null,null,null,null,null,null,null,null],[null,null,null,null,null,null,null,null,null,null,null,null,0.10331169174363218,null,null,null,null,null,null],[null,null,null,null,null,null,0.10721965563985018,null,null,null,null,null,null,null,null,null,null,null,null],[null,null,null,null,null,null,null,null,null,null,null,null,null,null,0.12427728064358233,null,null,null,null],[null,0.09930000439286231,null,null,null,null,null,null,null,null,null,null,null,null,null,null,null,null,null],[null,null,null,null,null,null,null,null,0.10432604119619904,null,null,null,null,null,null,null,null,null,null],[null,null,null,null,null,null,null,0.09875674974737746,null,null,null,null,null,null,null,null,null,null,null],[null,null,null,null,null,null,null,null,null,0.11315505591131028,null,null,null,null,null,null,null,null,null],[null,null,null,null,null,null,null,null,null,null,0.11502095063527425,null,null,null,null,null,null,null,null],[null,null,null,0.09505551989222395,null,null,null,null,null,null,null,null,null,null,null,null,null,null,null],[null,null,null,null,null,null,null,null,null,null,null,null,null,null,null,null,null,null,null]]},{\"marker\":{\"color\":\"black\",\"line\":{\"color\":\"Grey\",\"width\":0.5}},\"mode\":\"markers\",\"showlegend\":false,\"type\":\"scatter\",\"x\":[0.33885658619189224,0.32624599410470545,0.4202648891292501,0.4359784656640127,0.4971956324166139,0.33909106810837225,0.26140155424190586,0.2666777531426128,0.2919314128060961,0.3683590457670618,0.2084089229401478,0.31376760307261653,0.22102212661172144,0.24057383674676816,0.2002019221624222,0.20294144771417877,0.21270817239465242],\"xaxis\":\"x2\",\"y\":[235,17,68,193,201,38,428,418,456,280,492,482,163,274,285,209,11],\"yaxis\":\"y2\"},{\"type\":\"scatter\",\"xaxis\":\"x7\",\"yaxis\":\"y7\"},{\"colorbar\":{\"title\":{\"text\":\"Objective Value\"}},\"colorscale\":[[0,\"rgb(5,10,172)\"],[0.35,\"rgb(40,60,190)\"],[0.5,\"rgb(70,100,245)\"],[0.6,\"rgb(90,120,245)\"],[0.7,\"rgb(106,137,247)\"],[1,\"rgb(220,220,220)\"]],\"connectgaps\":true,\"contours\":{\"coloring\":\"heatmap\"},\"hoverinfo\":\"none\",\"line\":{\"smoothing\":1.3},\"reversescale\":true,\"showscale\":false,\"type\":\"contour\",\"x\":[0.1853522366497126,0.2002019221624222,0.20294144771417877,0.2084089229401478,0.21270817239465242,0.22102212661172144,0.24057383674676816,0.26140155424190586,0.2666777531426128,0.2919314128060961,0.31376760307261653,0.32624599410470545,0.33885658619189224,0.33909106810837225,0.3683590457670618,0.4202648891292501,0.4359784656640127,0.4971956324166139,0.5120453179293235],\"xaxis\":\"x12\",\"y\":[8.50528612638913e-05,0.0001144946021208401,0.0002933557426306419,0.0005941550653811763,0.0008470382435178196,0.0012862164099185396,0.001306881943921273,0.0017596186060431188,0.0017789466665703959,0.002924059415327138,0.003889370183149437,0.0049079930534467265,0.0051944992011224754,0.006150130559882329,0.006696227015345656,0.01095284177391842,0.03580321349942954,0.04372267158883429,0.05885763057037821],\"yaxis\":\"y12\",\"z\":[[null,null,null,null,null,null,null,null,null,null,null,null,null,null,null,null,null,null,null],[null,null,null,null,0.1134480545147289,null,null,null,null,null,null,null,null,null,null,null,null,null,null],[null,null,null,null,null,null,null,null,null,null,null,null,null,null,null,1.9807250459217334,null,null,null],[null,null,null,null,null,null,null,null,null,null,null,null,null,0.28132008490604427,null,null,null,null,null],[null,null,0.10732460878233414,null,null,null,null,null,null,null,null,null,null,null,null,null,null,null,null],[null,null,null,null,null,null,null,null,null,null,null,null,null,null,null,null,0.3590984783352237,null,null],[null,0.09930000439286231,null,null,null,null,null,null,null,null,null,null,null,null,null,null,null,null,null],[null,null,null,null,null,null,0.10721965563985018,null,null,null,null,null,null,null,null,null,null,null,null],[null,null,null,null,null,0.10991137643712894,null,null,null,null,null,null,null,null,null,null,null,null,null],[null,null,null,null,null,null,null,null,null,null,null,null,null,null,0.12427728064358233,null,null,null,null],[null,null,null,null,null,null,null,null,null,null,0.11502095063527425,null,null,null,null,null,null,null,null],[null,null,null,0.09505551989222395,null,null,null,null,null,null,null,null,null,null,null,null,null,null,null],[null,null,null,null,null,null,null,0.09875674974737746,null,null,null,null,null,null,null,null,null,null,null],[null,null,null,null,null,null,null,null,null,0.11315505591131028,null,null,null,null,null,null,null,null,null],[null,null,null,null,null,null,null,null,0.10432604119619904,null,null,null,null,null,null,null,null,null,null],[null,null,null,null,null,null,null,null,null,null,null,null,0.10331169174363218,null,null,null,null,null,null],[null,null,null,null,null,null,null,null,null,null,null,0.2534626597782725,null,null,null,null,null,null,null],[null,null,null,null,null,null,null,null,null,null,null,null,null,null,null,null,null,0.6431171383176534,null],[null,null,null,null,null,null,null,null,null,null,null,null,null,null,null,null,null,null,null]]},{\"marker\":{\"color\":\"black\",\"line\":{\"color\":\"Grey\",\"width\":0.5}},\"mode\":\"markers\",\"showlegend\":false,\"type\":\"scatter\",\"x\":[0.33885658619189224,0.32624599410470545,0.4202648891292501,0.4359784656640127,0.4971956324166139,0.33909106810837225,0.26140155424190586,0.2666777531426128,0.2919314128060961,0.3683590457670618,0.2084089229401478,0.31376760307261653,0.22102212661172144,0.24057383674676816,0.2002019221624222,0.20294144771417877,0.21270817239465242],\"xaxis\":\"x12\",\"y\":[0.01095284177391842,0.03580321349942954,0.0002933557426306419,0.0012862164099185396,0.04372267158883429,0.0005941550653811763,0.0051944992011224754,0.006696227015345656,0.006150130559882329,0.002924059415327138,0.0049079930534467265,0.003889370183149437,0.0017789466665703959,0.0017596186060431188,0.001306881943921273,0.0008470382435178196,0.0001144946021208401],\"yaxis\":\"y12\"},{\"colorbar\":{\"title\":{\"text\":\"Objective Value\"}},\"colorscale\":[[0,\"rgb(5,10,172)\"],[0.35,\"rgb(40,60,190)\"],[0.5,\"rgb(70,100,245)\"],[0.6,\"rgb(90,120,245)\"],[0.7,\"rgb(106,137,247)\"],[1,\"rgb(220,220,220)\"]],\"connectgaps\":true,\"contours\":{\"coloring\":\"heatmap\"},\"hoverinfo\":\"none\",\"line\":{\"smoothing\":1.3},\"reversescale\":true,\"showscale\":false,\"type\":\"contour\",\"x\":[0.1853522366497126,0.2002019221624222,0.20294144771417877,0.2084089229401478,0.21270817239465242,0.22102212661172144,0.24057383674676816,0.26140155424190586,0.2666777531426128,0.2919314128060961,0.31376760307261653,0.32624599410470545,0.33885658619189224,0.33909106810837225,0.3683590457670618,0.4202648891292501,0.4359784656640127,0.4971956324166139,0.5120453179293235],\"xaxis\":\"x17\",\"y\":[0.9,1,2,3,3.1],\"yaxis\":\"y17\",\"z\":[[null,null,null,null,null,null,null,null,null,null,null,null,null,null,null,null,null,null,null],[null,0.09930000439286231,0.10732460878233414,0.09505551989222395,0.1134480545147289,0.10991137643712894,0.10721965563985018,0.09875674974737746,0.10432604119619904,0.11315505591131028,0.11502095063527425,null,0.10331169174363218,0.28132008490604427,null,null,null,null,null],[null,null,null,null,null,null,null,null,null,null,null,0.2534626597782725,null,null,0.12427728064358233,null,null,0.6431171383176534,null],[null,null,null,null,null,null,null,null,null,null,null,null,null,null,null,1.9807250459217334,0.3590984783352237,null,null],[null,null,null,null,null,null,null,null,null,null,null,null,null,null,null,null,null,null,null]]},{\"marker\":{\"color\":\"black\",\"line\":{\"color\":\"Grey\",\"width\":0.5}},\"mode\":\"markers\",\"showlegend\":false,\"type\":\"scatter\",\"x\":[0.33885658619189224,0.32624599410470545,0.4202648891292501,0.4359784656640127,0.4971956324166139,0.33909106810837225,0.26140155424190586,0.2666777531426128,0.2919314128060961,0.3683590457670618,0.2084089229401478,0.31376760307261653,0.22102212661172144,0.24057383674676816,0.2002019221624222,0.20294144771417877,0.21270817239465242],\"xaxis\":\"x17\",\"y\":[1,2,3,3,2,1,1,1,1,2,1,1,1,1,1,1,1],\"yaxis\":\"y17\"},{\"colorbar\":{\"title\":{\"text\":\"Objective Value\"}},\"colorscale\":[[0,\"rgb(5,10,172)\"],[0.35,\"rgb(40,60,190)\"],[0.5,\"rgb(70,100,245)\"],[0.6,\"rgb(90,120,245)\"],[0.7,\"rgb(106,137,247)\"],[1,\"rgb(220,220,220)\"]],\"connectgaps\":true,\"contours\":{\"coloring\":\"heatmap\"},\"hoverinfo\":\"none\",\"line\":{\"smoothing\":1.3},\"reversescale\":true,\"showscale\":false,\"type\":\"contour\",\"x\":[0.1853522366497126,0.2002019221624222,0.20294144771417877,0.2084089229401478,0.21270817239465242,0.22102212661172144,0.24057383674676816,0.26140155424190586,0.2666777531426128,0.2919314128060961,0.31376760307261653,0.32624599410470545,0.33885658619189224,0.33909106810837225,0.3683590457670618,0.4202648891292501,0.4359784656640127,0.4971956324166139,0.5120453179293235],\"xaxis\":\"x22\",\"y\":[0.032118295061781515,0.05364592081471348,0.058160953490642375,0.11498675729037759,0.17948090907314918,0.1796310609432385,0.18711419319062406,0.21250418712221336,0.22375890276401672,0.2481934859460601,0.2915957004412367,0.3100537479216523,0.3123350357530558,0.32446981154834764,0.32837853441607556,0.34884246946321984,0.45203299890636306,0.4841984358733526,0.5057260616262845],\"yaxis\":\"y22\",\"z\":[[null,null,null,null,null,null,null,null,null,null,null,null,null,null,null,null,null,null,null],[null,null,null,null,null,null,null,null,null,null,null,null,null,null,null,null,null,0.6431171383176534,null],[null,null,null,null,null,null,null,null,null,null,null,null,null,0.28132008490604427,null,null,null,null,null],[null,null,null,null,null,null,null,null,null,null,null,null,null,null,0.12427728064358233,null,null,null,null],[null,null,null,null,null,null,null,null,0.10432604119619904,null,null,null,null,null,null,null,null,null,null],[null,null,null,null,null,null,null,0.09875674974737746,null,null,null,null,null,null,null,null,null,null,null],[null,null,null,null,null,null,null,null,null,0.11315505591131028,null,null,null,null,null,null,null,null,null],[null,null,null,0.09505551989222395,null,null,null,null,null,null,null,null,null,null,null,null,null,null,null],[null,null,null,null,null,0.10991137643712894,null,null,null,null,null,null,null,null,null,null,null,null,null],[null,null,null,null,null,null,null,null,null,null,null,null,0.10331169174363218,null,null,null,null,null,null],[null,null,null,null,null,null,null,null,null,null,0.11502095063527425,null,null,null,null,null,null,null,null],[null,null,null,null,null,null,0.10721965563985018,null,null,null,null,null,null,null,null,null,null,null,null],[null,0.09930000439286231,null,null,null,null,null,null,null,null,null,null,null,null,null,null,null,null,null],[null,null,null,null,null,null,null,null,null,null,null,null,null,null,null,null,0.3590984783352237,null,null],[null,null,null,null,null,null,null,null,null,null,null,null,null,null,null,1.9807250459217334,null,null,null],[null,null,0.10732460878233414,null,null,null,null,null,null,null,null,null,null,null,null,null,null,null,null],[null,null,null,null,0.1134480545147289,null,null,null,null,null,null,null,null,null,null,null,null,null,null],[null,null,null,null,null,null,null,null,null,null,null,0.2534626597782725,null,null,null,null,null,null,null],[null,null,null,null,null,null,null,null,null,null,null,null,null,null,null,null,null,null,null]]},{\"marker\":{\"color\":\"black\",\"line\":{\"color\":\"Grey\",\"width\":0.5}},\"mode\":\"markers\",\"showlegend\":false,\"type\":\"scatter\",\"x\":[0.33885658619189224,0.32624599410470545,0.4202648891292501,0.4359784656640127,0.4971956324166139,0.33909106810837225,0.26140155424190586,0.2666777531426128,0.2919314128060961,0.3683590457670618,0.2084089229401478,0.31376760307261653,0.22102212661172144,0.24057383674676816,0.2002019221624222,0.20294144771417877,0.21270817239465242],\"xaxis\":\"x22\",\"y\":[0.2481934859460601,0.4841984358733526,0.32837853441607556,0.32446981154834764,0.05364592081471348,0.058160953490642375,0.1796310609432385,0.17948090907314918,0.18711419319062406,0.11498675729037759,0.21250418712221336,0.2915957004412367,0.22375890276401672,0.3100537479216523,0.3123350357530558,0.34884246946321984,0.45203299890636306],\"yaxis\":\"y22\"},{\"colorbar\":{\"title\":{\"text\":\"Objective Value\"}},\"colorscale\":[[0,\"rgb(5,10,172)\"],[0.35,\"rgb(40,60,190)\"],[0.5,\"rgb(70,100,245)\"],[0.6,\"rgb(90,120,245)\"],[0.7,\"rgb(106,137,247)\"],[1,\"rgb(220,220,220)\"]],\"connectgaps\":true,\"contours\":{\"coloring\":\"heatmap\"},\"hoverinfo\":\"none\",\"line\":{\"smoothing\":1.3},\"reversescale\":true,\"showscale\":false,\"type\":\"contour\",\"x\":[8.50528612638913e-05,0.0001144946021208401,0.0002933557426306419,0.0005941550653811763,0.0008470382435178196,0.0012862164099185396,0.001306881943921273,0.0017596186060431188,0.0017789466665703959,0.002924059415327138,0.003889370183149437,0.0049079930534467265,0.0051944992011224754,0.006150130559882329,0.006696227015345656,0.01095284177391842,0.03580321349942954,0.04372267158883429,0.05885763057037821],\"xaxis\":\"x3\",\"y\":[-13.05,11,17,38,68,163,193,201,209,235,274,280,285,418,428,456,482,492,516.05],\"yaxis\":\"y3\",\"z\":[[null,null,null,null,null,null,null,null,null,null,null,null,null,null,null,null,null,null,null],[null,0.1134480545147289,null,null,null,null,null,null,null,null,null,null,null,null,null,null,null,null,null],[null,null,null,null,null,null,null,null,null,null,null,null,null,null,null,null,0.2534626597782725,null,null],[null,null,null,0.28132008490604427,null,null,null,null,null,null,null,null,null,null,null,null,null,null,null],[null,null,1.9807250459217334,null,null,null,null,null,null,null,null,null,null,null,null,null,null,null,null],[null,null,null,null,null,null,null,null,0.10991137643712894,null,null,null,null,null,null,null,null,null,null],[null,null,null,null,null,0.3590984783352237,null,null,null,null,null,null,null,null,null,null,null,null,null],[null,null,null,null,null,null,null,null,null,null,null,null,null,null,null,null,null,0.6431171383176534,null],[null,null,null,null,0.10732460878233414,null,null,null,null,null,null,null,null,null,null,null,null,null,null],[null,null,null,null,null,null,null,null,null,null,null,null,null,null,null,0.10331169174363218,null,null,null],[null,null,null,null,null,null,null,0.10721965563985018,null,null,null,null,null,null,null,null,null,null,null],[null,null,null,null,null,null,null,null,null,0.12427728064358233,null,null,null,null,null,null,null,null,null],[null,null,null,null,null,null,0.09930000439286231,null,null,null,null,null,null,null,null,null,null,null,null],[null,null,null,null,null,null,null,null,null,null,null,null,null,null,0.10432604119619904,null,null,null,null],[null,null,null,null,null,null,null,null,null,null,null,null,0.09875674974737746,null,null,null,null,null,null],[null,null,null,null,null,null,null,null,null,null,null,null,null,0.11315505591131028,null,null,null,null,null],[null,null,null,null,null,null,null,null,null,null,0.11502095063527425,null,null,null,null,null,null,null,null],[null,null,null,null,null,null,null,null,null,null,null,0.09505551989222395,null,null,null,null,null,null,null],[null,null,null,null,null,null,null,null,null,null,null,null,null,null,null,null,null,null,null]]},{\"marker\":{\"color\":\"black\",\"line\":{\"color\":\"Grey\",\"width\":0.5}},\"mode\":\"markers\",\"showlegend\":false,\"type\":\"scatter\",\"x\":[0.01095284177391842,0.03580321349942954,0.0002933557426306419,0.0012862164099185396,0.04372267158883429,0.0005941550653811763,0.0051944992011224754,0.006696227015345656,0.006150130559882329,0.002924059415327138,0.0049079930534467265,0.003889370183149437,0.0017789466665703959,0.0017596186060431188,0.001306881943921273,0.0008470382435178196,0.0001144946021208401],\"xaxis\":\"x3\",\"y\":[235,17,68,193,201,38,428,418,456,280,492,482,163,274,285,209,11],\"yaxis\":\"y3\"},{\"colorbar\":{\"title\":{\"text\":\"Objective Value\"}},\"colorscale\":[[0,\"rgb(5,10,172)\"],[0.35,\"rgb(40,60,190)\"],[0.5,\"rgb(70,100,245)\"],[0.6,\"rgb(90,120,245)\"],[0.7,\"rgb(106,137,247)\"],[1,\"rgb(220,220,220)\"]],\"connectgaps\":true,\"contours\":{\"coloring\":\"heatmap\"},\"hoverinfo\":\"none\",\"line\":{\"smoothing\":1.3},\"reversescale\":true,\"showscale\":false,\"type\":\"contour\",\"x\":[8.50528612638913e-05,0.0001144946021208401,0.0002933557426306419,0.0005941550653811763,0.0008470382435178196,0.0012862164099185396,0.001306881943921273,0.0017596186060431188,0.0017789466665703959,0.002924059415327138,0.003889370183149437,0.0049079930534467265,0.0051944992011224754,0.006150130559882329,0.006696227015345656,0.01095284177391842,0.03580321349942954,0.04372267158883429,0.05885763057037821],\"xaxis\":\"x8\",\"y\":[0.1853522366497126,0.2002019221624222,0.20294144771417877,0.2084089229401478,0.21270817239465242,0.22102212661172144,0.24057383674676816,0.26140155424190586,0.2666777531426128,0.2919314128060961,0.31376760307261653,0.32624599410470545,0.33885658619189224,0.33909106810837225,0.3683590457670618,0.4202648891292501,0.4359784656640127,0.4971956324166139,0.5120453179293235],\"yaxis\":\"y8\",\"z\":[[null,null,null,null,null,null,null,null,null,null,null,null,null,null,null,null,null,null,null],[null,null,null,null,null,null,0.09930000439286231,null,null,null,null,null,null,null,null,null,null,null,null],[null,null,null,null,0.10732460878233414,null,null,null,null,null,null,null,null,null,null,null,null,null,null],[null,null,null,null,null,null,null,null,null,null,null,0.09505551989222395,null,null,null,null,null,null,null],[null,0.1134480545147289,null,null,null,null,null,null,null,null,null,null,null,null,null,null,null,null,null],[null,null,null,null,null,null,null,null,0.10991137643712894,null,null,null,null,null,null,null,null,null,null],[null,null,null,null,null,null,null,0.10721965563985018,null,null,null,null,null,null,null,null,null,null,null],[null,null,null,null,null,null,null,null,null,null,null,null,0.09875674974737746,null,null,null,null,null,null],[null,null,null,null,null,null,null,null,null,null,null,null,null,null,0.10432604119619904,null,null,null,null],[null,null,null,null,null,null,null,null,null,null,null,null,null,0.11315505591131028,null,null,null,null,null],[null,null,null,null,null,null,null,null,null,null,0.11502095063527425,null,null,null,null,null,null,null,null],[null,null,null,null,null,null,null,null,null,null,null,null,null,null,null,null,0.2534626597782725,null,null],[null,null,null,null,null,null,null,null,null,null,null,null,null,null,null,0.10331169174363218,null,null,null],[null,null,null,0.28132008490604427,null,null,null,null,null,null,null,null,null,null,null,null,null,null,null],[null,null,null,null,null,null,null,null,null,0.12427728064358233,null,null,null,null,null,null,null,null,null],[null,null,1.9807250459217334,null,null,null,null,null,null,null,null,null,null,null,null,null,null,null,null],[null,null,null,null,null,0.3590984783352237,null,null,null,null,null,null,null,null,null,null,null,null,null],[null,null,null,null,null,null,null,null,null,null,null,null,null,null,null,null,null,0.6431171383176534,null],[null,null,null,null,null,null,null,null,null,null,null,null,null,null,null,null,null,null,null]]},{\"marker\":{\"color\":\"black\",\"line\":{\"color\":\"Grey\",\"width\":0.5}},\"mode\":\"markers\",\"showlegend\":false,\"type\":\"scatter\",\"x\":[0.01095284177391842,0.03580321349942954,0.0002933557426306419,0.0012862164099185396,0.04372267158883429,0.0005941550653811763,0.0051944992011224754,0.006696227015345656,0.006150130559882329,0.002924059415327138,0.0049079930534467265,0.003889370183149437,0.0017789466665703959,0.0017596186060431188,0.001306881943921273,0.0008470382435178196,0.0001144946021208401],\"xaxis\":\"x8\",\"y\":[0.33885658619189224,0.32624599410470545,0.4202648891292501,0.4359784656640127,0.4971956324166139,0.33909106810837225,0.26140155424190586,0.2666777531426128,0.2919314128060961,0.3683590457670618,0.2084089229401478,0.31376760307261653,0.22102212661172144,0.24057383674676816,0.2002019221624222,0.20294144771417877,0.21270817239465242],\"yaxis\":\"y8\"},{\"type\":\"scatter\",\"xaxis\":\"x13\",\"yaxis\":\"y13\"},{\"colorbar\":{\"title\":{\"text\":\"Objective Value\"}},\"colorscale\":[[0,\"rgb(5,10,172)\"],[0.35,\"rgb(40,60,190)\"],[0.5,\"rgb(70,100,245)\"],[0.6,\"rgb(90,120,245)\"],[0.7,\"rgb(106,137,247)\"],[1,\"rgb(220,220,220)\"]],\"connectgaps\":true,\"contours\":{\"coloring\":\"heatmap\"},\"hoverinfo\":\"none\",\"line\":{\"smoothing\":1.3},\"reversescale\":true,\"showscale\":false,\"type\":\"contour\",\"x\":[8.50528612638913e-05,0.0001144946021208401,0.0002933557426306419,0.0005941550653811763,0.0008470382435178196,0.0012862164099185396,0.001306881943921273,0.0017596186060431188,0.0017789466665703959,0.002924059415327138,0.003889370183149437,0.0049079930534467265,0.0051944992011224754,0.006150130559882329,0.006696227015345656,0.01095284177391842,0.03580321349942954,0.04372267158883429,0.05885763057037821],\"xaxis\":\"x18\",\"y\":[0.9,1,2,3,3.1],\"yaxis\":\"y18\",\"z\":[[null,null,null,null,null,null,null,null,null,null,null,null,null,null,null,null,null,null,null],[null,0.1134480545147289,null,0.28132008490604427,0.10732460878233414,null,0.09930000439286231,0.10721965563985018,0.10991137643712894,null,0.11502095063527425,0.09505551989222395,0.09875674974737746,0.11315505591131028,0.10432604119619904,0.10331169174363218,null,null,null],[null,null,null,null,null,null,null,null,null,0.12427728064358233,null,null,null,null,null,null,0.2534626597782725,0.6431171383176534,null],[null,null,1.9807250459217334,null,null,0.3590984783352237,null,null,null,null,null,null,null,null,null,null,null,null,null],[null,null,null,null,null,null,null,null,null,null,null,null,null,null,null,null,null,null,null]]},{\"marker\":{\"color\":\"black\",\"line\":{\"color\":\"Grey\",\"width\":0.5}},\"mode\":\"markers\",\"showlegend\":false,\"type\":\"scatter\",\"x\":[0.01095284177391842,0.03580321349942954,0.0002933557426306419,0.0012862164099185396,0.04372267158883429,0.0005941550653811763,0.0051944992011224754,0.006696227015345656,0.006150130559882329,0.002924059415327138,0.0049079930534467265,0.003889370183149437,0.0017789466665703959,0.0017596186060431188,0.001306881943921273,0.0008470382435178196,0.0001144946021208401],\"xaxis\":\"x18\",\"y\":[1,2,3,3,2,1,1,1,1,2,1,1,1,1,1,1,1],\"yaxis\":\"y18\"},{\"colorbar\":{\"title\":{\"text\":\"Objective Value\"}},\"colorscale\":[[0,\"rgb(5,10,172)\"],[0.35,\"rgb(40,60,190)\"],[0.5,\"rgb(70,100,245)\"],[0.6,\"rgb(90,120,245)\"],[0.7,\"rgb(106,137,247)\"],[1,\"rgb(220,220,220)\"]],\"connectgaps\":true,\"contours\":{\"coloring\":\"heatmap\"},\"hoverinfo\":\"none\",\"line\":{\"smoothing\":1.3},\"reversescale\":true,\"showscale\":false,\"type\":\"contour\",\"x\":[8.50528612638913e-05,0.0001144946021208401,0.0002933557426306419,0.0005941550653811763,0.0008470382435178196,0.0012862164099185396,0.001306881943921273,0.0017596186060431188,0.0017789466665703959,0.002924059415327138,0.003889370183149437,0.0049079930534467265,0.0051944992011224754,0.006150130559882329,0.006696227015345656,0.01095284177391842,0.03580321349942954,0.04372267158883429,0.05885763057037821],\"xaxis\":\"x23\",\"y\":[0.032118295061781515,0.05364592081471348,0.058160953490642375,0.11498675729037759,0.17948090907314918,0.1796310609432385,0.18711419319062406,0.21250418712221336,0.22375890276401672,0.2481934859460601,0.2915957004412367,0.3100537479216523,0.3123350357530558,0.32446981154834764,0.32837853441607556,0.34884246946321984,0.45203299890636306,0.4841984358733526,0.5057260616262845],\"yaxis\":\"y23\",\"z\":[[null,null,null,null,null,null,null,null,null,null,null,null,null,null,null,null,null,null,null],[null,null,null,null,null,null,null,null,null,null,null,null,null,null,null,null,null,0.6431171383176534,null],[null,null,null,0.28132008490604427,null,null,null,null,null,null,null,null,null,null,null,null,null,null,null],[null,null,null,null,null,null,null,null,null,0.12427728064358233,null,null,null,null,null,null,null,null,null],[null,null,null,null,null,null,null,null,null,null,null,null,null,null,0.10432604119619904,null,null,null,null],[null,null,null,null,null,null,null,null,null,null,null,null,0.09875674974737746,null,null,null,null,null,null],[null,null,null,null,null,null,null,null,null,null,null,null,null,0.11315505591131028,null,null,null,null,null],[null,null,null,null,null,null,null,null,null,null,null,0.09505551989222395,null,null,null,null,null,null,null],[null,null,null,null,null,null,null,null,0.10991137643712894,null,null,null,null,null,null,null,null,null,null],[null,null,null,null,null,null,null,null,null,null,null,null,null,null,null,0.10331169174363218,null,null,null],[null,null,null,null,null,null,null,null,null,null,0.11502095063527425,null,null,null,null,null,null,null,null],[null,null,null,null,null,null,null,0.10721965563985018,null,null,null,null,null,null,null,null,null,null,null],[null,null,null,null,null,null,0.09930000439286231,null,null,null,null,null,null,null,null,null,null,null,null],[null,null,null,null,null,0.3590984783352237,null,null,null,null,null,null,null,null,null,null,null,null,null],[null,null,1.9807250459217334,null,null,null,null,null,null,null,null,null,null,null,null,null,null,null,null],[null,null,null,null,0.10732460878233414,null,null,null,null,null,null,null,null,null,null,null,null,null,null],[null,0.1134480545147289,null,null,null,null,null,null,null,null,null,null,null,null,null,null,null,null,null],[null,null,null,null,null,null,null,null,null,null,null,null,null,null,null,null,0.2534626597782725,null,null],[null,null,null,null,null,null,null,null,null,null,null,null,null,null,null,null,null,null,null]]},{\"marker\":{\"color\":\"black\",\"line\":{\"color\":\"Grey\",\"width\":0.5}},\"mode\":\"markers\",\"showlegend\":false,\"type\":\"scatter\",\"x\":[0.01095284177391842,0.03580321349942954,0.0002933557426306419,0.0012862164099185396,0.04372267158883429,0.0005941550653811763,0.0051944992011224754,0.006696227015345656,0.006150130559882329,0.002924059415327138,0.0049079930534467265,0.003889370183149437,0.0017789466665703959,0.0017596186060431188,0.001306881943921273,0.0008470382435178196,0.0001144946021208401],\"xaxis\":\"x23\",\"y\":[0.2481934859460601,0.4841984358733526,0.32837853441607556,0.32446981154834764,0.05364592081471348,0.058160953490642375,0.1796310609432385,0.17948090907314918,0.18711419319062406,0.11498675729037759,0.21250418712221336,0.2915957004412367,0.22375890276401672,0.3100537479216523,0.3123350357530558,0.34884246946321984,0.45203299890636306],\"yaxis\":\"y23\"},{\"colorbar\":{\"title\":{\"text\":\"Objective Value\"}},\"colorscale\":[[0,\"rgb(5,10,172)\"],[0.35,\"rgb(40,60,190)\"],[0.5,\"rgb(70,100,245)\"],[0.6,\"rgb(90,120,245)\"],[0.7,\"rgb(106,137,247)\"],[1,\"rgb(220,220,220)\"]],\"connectgaps\":true,\"contours\":{\"coloring\":\"heatmap\"},\"hoverinfo\":\"none\",\"line\":{\"smoothing\":1.3},\"reversescale\":true,\"showscale\":false,\"type\":\"contour\",\"x\":[0.9,1,2,3,3.1],\"xaxis\":\"x4\",\"y\":[-13.05,11,17,38,68,163,193,201,209,235,274,280,285,418,428,456,482,492,516.05],\"yaxis\":\"y4\",\"z\":[[null,null,null,null,null],[null,0.1134480545147289,null,null,null],[null,null,0.2534626597782725,null,null],[null,0.28132008490604427,null,null,null],[null,null,null,1.9807250459217334,null],[null,0.10991137643712894,null,null,null],[null,null,null,0.3590984783352237,null],[null,null,0.6431171383176534,null,null],[null,0.10732460878233414,null,null,null],[null,0.10331169174363218,null,null,null],[null,0.10721965563985018,null,null,null],[null,null,0.12427728064358233,null,null],[null,0.09930000439286231,null,null,null],[null,0.10432604119619904,null,null,null],[null,0.09875674974737746,null,null,null],[null,0.11315505591131028,null,null,null],[null,0.11502095063527425,null,null,null],[null,0.09505551989222395,null,null,null],[null,null,null,null,null]]},{\"marker\":{\"color\":\"black\",\"line\":{\"color\":\"Grey\",\"width\":0.5}},\"mode\":\"markers\",\"showlegend\":false,\"type\":\"scatter\",\"x\":[1,2,3,3,2,1,1,1,1,2,1,1,1,1,1,1,1],\"xaxis\":\"x4\",\"y\":[235,17,68,193,201,38,428,418,456,280,492,482,163,274,285,209,11],\"yaxis\":\"y4\"},{\"colorbar\":{\"title\":{\"text\":\"Objective Value\"}},\"colorscale\":[[0,\"rgb(5,10,172)\"],[0.35,\"rgb(40,60,190)\"],[0.5,\"rgb(70,100,245)\"],[0.6,\"rgb(90,120,245)\"],[0.7,\"rgb(106,137,247)\"],[1,\"rgb(220,220,220)\"]],\"connectgaps\":true,\"contours\":{\"coloring\":\"heatmap\"},\"hoverinfo\":\"none\",\"line\":{\"smoothing\":1.3},\"reversescale\":true,\"showscale\":false,\"type\":\"contour\",\"x\":[0.9,1,2,3,3.1],\"xaxis\":\"x9\",\"y\":[0.1853522366497126,0.2002019221624222,0.20294144771417877,0.2084089229401478,0.21270817239465242,0.22102212661172144,0.24057383674676816,0.26140155424190586,0.2666777531426128,0.2919314128060961,0.31376760307261653,0.32624599410470545,0.33885658619189224,0.33909106810837225,0.3683590457670618,0.4202648891292501,0.4359784656640127,0.4971956324166139,0.5120453179293235],\"yaxis\":\"y9\",\"z\":[[null,null,null,null,null],[null,0.09930000439286231,null,null,null],[null,0.10732460878233414,null,null,null],[null,0.09505551989222395,null,null,null],[null,0.1134480545147289,null,null,null],[null,0.10991137643712894,null,null,null],[null,0.10721965563985018,null,null,null],[null,0.09875674974737746,null,null,null],[null,0.10432604119619904,null,null,null],[null,0.11315505591131028,null,null,null],[null,0.11502095063527425,null,null,null],[null,null,0.2534626597782725,null,null],[null,0.10331169174363218,null,null,null],[null,0.28132008490604427,null,null,null],[null,null,0.12427728064358233,null,null],[null,null,null,1.9807250459217334,null],[null,null,null,0.3590984783352237,null],[null,null,0.6431171383176534,null,null],[null,null,null,null,null]]},{\"marker\":{\"color\":\"black\",\"line\":{\"color\":\"Grey\",\"width\":0.5}},\"mode\":\"markers\",\"showlegend\":false,\"type\":\"scatter\",\"x\":[1,2,3,3,2,1,1,1,1,2,1,1,1,1,1,1,1],\"xaxis\":\"x9\",\"y\":[0.33885658619189224,0.32624599410470545,0.4202648891292501,0.4359784656640127,0.4971956324166139,0.33909106810837225,0.26140155424190586,0.2666777531426128,0.2919314128060961,0.3683590457670618,0.2084089229401478,0.31376760307261653,0.22102212661172144,0.24057383674676816,0.2002019221624222,0.20294144771417877,0.21270817239465242],\"yaxis\":\"y9\"},{\"colorbar\":{\"title\":{\"text\":\"Objective Value\"}},\"colorscale\":[[0,\"rgb(5,10,172)\"],[0.35,\"rgb(40,60,190)\"],[0.5,\"rgb(70,100,245)\"],[0.6,\"rgb(90,120,245)\"],[0.7,\"rgb(106,137,247)\"],[1,\"rgb(220,220,220)\"]],\"connectgaps\":true,\"contours\":{\"coloring\":\"heatmap\"},\"hoverinfo\":\"none\",\"line\":{\"smoothing\":1.3},\"reversescale\":true,\"showscale\":false,\"type\":\"contour\",\"x\":[0.9,1,2,3,3.1],\"xaxis\":\"x14\",\"y\":[8.50528612638913e-05,0.0001144946021208401,0.0002933557426306419,0.0005941550653811763,0.0008470382435178196,0.0012862164099185396,0.001306881943921273,0.0017596186060431188,0.0017789466665703959,0.002924059415327138,0.003889370183149437,0.0049079930534467265,0.0051944992011224754,0.006150130559882329,0.006696227015345656,0.01095284177391842,0.03580321349942954,0.04372267158883429,0.05885763057037821],\"yaxis\":\"y14\",\"z\":[[null,null,null,null,null],[null,0.1134480545147289,null,null,null],[null,null,null,1.9807250459217334,null],[null,0.28132008490604427,null,null,null],[null,0.10732460878233414,null,null,null],[null,null,null,0.3590984783352237,null],[null,0.09930000439286231,null,null,null],[null,0.10721965563985018,null,null,null],[null,0.10991137643712894,null,null,null],[null,null,0.12427728064358233,null,null],[null,0.11502095063527425,null,null,null],[null,0.09505551989222395,null,null,null],[null,0.09875674974737746,null,null,null],[null,0.11315505591131028,null,null,null],[null,0.10432604119619904,null,null,null],[null,0.10331169174363218,null,null,null],[null,null,0.2534626597782725,null,null],[null,null,0.6431171383176534,null,null],[null,null,null,null,null]]},{\"marker\":{\"color\":\"black\",\"line\":{\"color\":\"Grey\",\"width\":0.5}},\"mode\":\"markers\",\"showlegend\":false,\"type\":\"scatter\",\"x\":[1,2,3,3,2,1,1,1,1,2,1,1,1,1,1,1,1],\"xaxis\":\"x14\",\"y\":[0.01095284177391842,0.03580321349942954,0.0002933557426306419,0.0012862164099185396,0.04372267158883429,0.0005941550653811763,0.0051944992011224754,0.006696227015345656,0.006150130559882329,0.002924059415327138,0.0049079930534467265,0.003889370183149437,0.0017789466665703959,0.0017596186060431188,0.001306881943921273,0.0008470382435178196,0.0001144946021208401],\"yaxis\":\"y14\"},{\"type\":\"scatter\",\"xaxis\":\"x19\",\"yaxis\":\"y19\"},{\"colorbar\":{\"title\":{\"text\":\"Objective Value\"}},\"colorscale\":[[0,\"rgb(5,10,172)\"],[0.35,\"rgb(40,60,190)\"],[0.5,\"rgb(70,100,245)\"],[0.6,\"rgb(90,120,245)\"],[0.7,\"rgb(106,137,247)\"],[1,\"rgb(220,220,220)\"]],\"connectgaps\":true,\"contours\":{\"coloring\":\"heatmap\"},\"hoverinfo\":\"none\",\"line\":{\"smoothing\":1.3},\"reversescale\":true,\"showscale\":false,\"type\":\"contour\",\"x\":[0.9,1,2,3,3.1],\"xaxis\":\"x24\",\"y\":[0.032118295061781515,0.05364592081471348,0.058160953490642375,0.11498675729037759,0.17948090907314918,0.1796310609432385,0.18711419319062406,0.21250418712221336,0.22375890276401672,0.2481934859460601,0.2915957004412367,0.3100537479216523,0.3123350357530558,0.32446981154834764,0.32837853441607556,0.34884246946321984,0.45203299890636306,0.4841984358733526,0.5057260616262845],\"yaxis\":\"y24\",\"z\":[[null,null,null,null,null],[null,null,0.6431171383176534,null,null],[null,0.28132008490604427,null,null,null],[null,null,0.12427728064358233,null,null],[null,0.10432604119619904,null,null,null],[null,0.09875674974737746,null,null,null],[null,0.11315505591131028,null,null,null],[null,0.09505551989222395,null,null,null],[null,0.10991137643712894,null,null,null],[null,0.10331169174363218,null,null,null],[null,0.11502095063527425,null,null,null],[null,0.10721965563985018,null,null,null],[null,0.09930000439286231,null,null,null],[null,null,null,0.3590984783352237,null],[null,null,null,1.9807250459217334,null],[null,0.10732460878233414,null,null,null],[null,0.1134480545147289,null,null,null],[null,null,0.2534626597782725,null,null],[null,null,null,null,null]]},{\"marker\":{\"color\":\"black\",\"line\":{\"color\":\"Grey\",\"width\":0.5}},\"mode\":\"markers\",\"showlegend\":false,\"type\":\"scatter\",\"x\":[1,2,3,3,2,1,1,1,1,2,1,1,1,1,1,1,1],\"xaxis\":\"x24\",\"y\":[0.2481934859460601,0.4841984358733526,0.32837853441607556,0.32446981154834764,0.05364592081471348,0.058160953490642375,0.1796310609432385,0.17948090907314918,0.18711419319062406,0.11498675729037759,0.21250418712221336,0.2915957004412367,0.22375890276401672,0.3100537479216523,0.3123350357530558,0.34884246946321984,0.45203299890636306],\"yaxis\":\"y24\"},{\"colorbar\":{\"title\":{\"text\":\"Objective Value\"}},\"colorscale\":[[0,\"rgb(5,10,172)\"],[0.35,\"rgb(40,60,190)\"],[0.5,\"rgb(70,100,245)\"],[0.6,\"rgb(90,120,245)\"],[0.7,\"rgb(106,137,247)\"],[1,\"rgb(220,220,220)\"]],\"connectgaps\":true,\"contours\":{\"coloring\":\"heatmap\"},\"hoverinfo\":\"none\",\"line\":{\"smoothing\":1.3},\"reversescale\":true,\"showscale\":false,\"type\":\"contour\",\"x\":[0.032118295061781515,0.05364592081471348,0.058160953490642375,0.11498675729037759,0.17948090907314918,0.1796310609432385,0.18711419319062406,0.21250418712221336,0.22375890276401672,0.2481934859460601,0.2915957004412367,0.3100537479216523,0.3123350357530558,0.32446981154834764,0.32837853441607556,0.34884246946321984,0.45203299890636306,0.4841984358733526,0.5057260616262845],\"xaxis\":\"x5\",\"y\":[-13.05,11,17,38,68,163,193,201,209,235,274,280,285,418,428,456,482,492,516.05],\"yaxis\":\"y5\",\"z\":[[null,null,null,null,null,null,null,null,null,null,null,null,null,null,null,null,null,null,null],[null,null,null,null,null,null,null,null,null,null,null,null,null,null,null,null,0.1134480545147289,null,null],[null,null,null,null,null,null,null,null,null,null,null,null,null,null,null,null,null,0.2534626597782725,null],[null,null,0.28132008490604427,null,null,null,null,null,null,null,null,null,null,null,null,null,null,null,null],[null,null,null,null,null,null,null,null,null,null,null,null,null,null,1.9807250459217334,null,null,null,null],[null,null,null,null,null,null,null,null,0.10991137643712894,null,null,null,null,null,null,null,null,null,null],[null,null,null,null,null,null,null,null,null,null,null,null,null,0.3590984783352237,null,null,null,null,null],[null,0.6431171383176534,null,null,null,null,null,null,null,null,null,null,null,null,null,null,null,null,null],[null,null,null,null,null,null,null,null,null,null,null,null,null,null,null,0.10732460878233414,null,null,null],[null,null,null,null,null,null,null,null,null,0.10331169174363218,null,null,null,null,null,null,null,null,null],[null,null,null,null,null,null,null,null,null,null,null,0.10721965563985018,null,null,null,null,null,null,null],[null,null,null,0.12427728064358233,null,null,null,null,null,null,null,null,null,null,null,null,null,null,null],[null,null,null,null,null,null,null,null,null,null,null,null,0.09930000439286231,null,null,null,null,null,null],[null,null,null,null,0.10432604119619904,null,null,null,null,null,null,null,null,null,null,null,null,null,null],[null,null,null,null,null,0.09875674974737746,null,null,null,null,null,null,null,null,null,null,null,null,null],[null,null,null,null,null,null,0.11315505591131028,null,null,null,null,null,null,null,null,null,null,null,null],[null,null,null,null,null,null,null,null,null,null,0.11502095063527425,null,null,null,null,null,null,null,null],[null,null,null,null,null,null,null,0.09505551989222395,null,null,null,null,null,null,null,null,null,null,null],[null,null,null,null,null,null,null,null,null,null,null,null,null,null,null,null,null,null,null]]},{\"marker\":{\"color\":\"black\",\"line\":{\"color\":\"Grey\",\"width\":0.5}},\"mode\":\"markers\",\"showlegend\":false,\"type\":\"scatter\",\"x\":[0.2481934859460601,0.4841984358733526,0.32837853441607556,0.32446981154834764,0.05364592081471348,0.058160953490642375,0.1796310609432385,0.17948090907314918,0.18711419319062406,0.11498675729037759,0.21250418712221336,0.2915957004412367,0.22375890276401672,0.3100537479216523,0.3123350357530558,0.34884246946321984,0.45203299890636306],\"xaxis\":\"x5\",\"y\":[235,17,68,193,201,38,428,418,456,280,492,482,163,274,285,209,11],\"yaxis\":\"y5\"},{\"colorbar\":{\"title\":{\"text\":\"Objective Value\"}},\"colorscale\":[[0,\"rgb(5,10,172)\"],[0.35,\"rgb(40,60,190)\"],[0.5,\"rgb(70,100,245)\"],[0.6,\"rgb(90,120,245)\"],[0.7,\"rgb(106,137,247)\"],[1,\"rgb(220,220,220)\"]],\"connectgaps\":true,\"contours\":{\"coloring\":\"heatmap\"},\"hoverinfo\":\"none\",\"line\":{\"smoothing\":1.3},\"reversescale\":true,\"showscale\":false,\"type\":\"contour\",\"x\":[0.032118295061781515,0.05364592081471348,0.058160953490642375,0.11498675729037759,0.17948090907314918,0.1796310609432385,0.18711419319062406,0.21250418712221336,0.22375890276401672,0.2481934859460601,0.2915957004412367,0.3100537479216523,0.3123350357530558,0.32446981154834764,0.32837853441607556,0.34884246946321984,0.45203299890636306,0.4841984358733526,0.5057260616262845],\"xaxis\":\"x10\",\"y\":[0.1853522366497126,0.2002019221624222,0.20294144771417877,0.2084089229401478,0.21270817239465242,0.22102212661172144,0.24057383674676816,0.26140155424190586,0.2666777531426128,0.2919314128060961,0.31376760307261653,0.32624599410470545,0.33885658619189224,0.33909106810837225,0.3683590457670618,0.4202648891292501,0.4359784656640127,0.4971956324166139,0.5120453179293235],\"yaxis\":\"y10\",\"z\":[[null,null,null,null,null,null,null,null,null,null,null,null,null,null,null,null,null,null,null],[null,null,null,null,null,null,null,null,null,null,null,null,0.09930000439286231,null,null,null,null,null,null],[null,null,null,null,null,null,null,null,null,null,null,null,null,null,null,0.10732460878233414,null,null,null],[null,null,null,null,null,null,null,0.09505551989222395,null,null,null,null,null,null,null,null,null,null,null],[null,null,null,null,null,null,null,null,null,null,null,null,null,null,null,null,0.1134480545147289,null,null],[null,null,null,null,null,null,null,null,0.10991137643712894,null,null,null,null,null,null,null,null,null,null],[null,null,null,null,null,null,null,null,null,null,null,0.10721965563985018,null,null,null,null,null,null,null],[null,null,null,null,null,0.09875674974737746,null,null,null,null,null,null,null,null,null,null,null,null,null],[null,null,null,null,0.10432604119619904,null,null,null,null,null,null,null,null,null,null,null,null,null,null],[null,null,null,null,null,null,0.11315505591131028,null,null,null,null,null,null,null,null,null,null,null,null],[null,null,null,null,null,null,null,null,null,null,0.11502095063527425,null,null,null,null,null,null,null,null],[null,null,null,null,null,null,null,null,null,null,null,null,null,null,null,null,null,0.2534626597782725,null],[null,null,null,null,null,null,null,null,null,0.10331169174363218,null,null,null,null,null,null,null,null,null],[null,null,0.28132008490604427,null,null,null,null,null,null,null,null,null,null,null,null,null,null,null,null],[null,null,null,0.12427728064358233,null,null,null,null,null,null,null,null,null,null,null,null,null,null,null],[null,null,null,null,null,null,null,null,null,null,null,null,null,null,1.9807250459217334,null,null,null,null],[null,null,null,null,null,null,null,null,null,null,null,null,null,0.3590984783352237,null,null,null,null,null],[null,0.6431171383176534,null,null,null,null,null,null,null,null,null,null,null,null,null,null,null,null,null],[null,null,null,null,null,null,null,null,null,null,null,null,null,null,null,null,null,null,null]]},{\"marker\":{\"color\":\"black\",\"line\":{\"color\":\"Grey\",\"width\":0.5}},\"mode\":\"markers\",\"showlegend\":false,\"type\":\"scatter\",\"x\":[0.2481934859460601,0.4841984358733526,0.32837853441607556,0.32446981154834764,0.05364592081471348,0.058160953490642375,0.1796310609432385,0.17948090907314918,0.18711419319062406,0.11498675729037759,0.21250418712221336,0.2915957004412367,0.22375890276401672,0.3100537479216523,0.3123350357530558,0.34884246946321984,0.45203299890636306],\"xaxis\":\"x10\",\"y\":[0.33885658619189224,0.32624599410470545,0.4202648891292501,0.4359784656640127,0.4971956324166139,0.33909106810837225,0.26140155424190586,0.2666777531426128,0.2919314128060961,0.3683590457670618,0.2084089229401478,0.31376760307261653,0.22102212661172144,0.24057383674676816,0.2002019221624222,0.20294144771417877,0.21270817239465242],\"yaxis\":\"y10\"},{\"colorbar\":{\"title\":{\"text\":\"Objective Value\"}},\"colorscale\":[[0,\"rgb(5,10,172)\"],[0.35,\"rgb(40,60,190)\"],[0.5,\"rgb(70,100,245)\"],[0.6,\"rgb(90,120,245)\"],[0.7,\"rgb(106,137,247)\"],[1,\"rgb(220,220,220)\"]],\"connectgaps\":true,\"contours\":{\"coloring\":\"heatmap\"},\"hoverinfo\":\"none\",\"line\":{\"smoothing\":1.3},\"reversescale\":true,\"showscale\":false,\"type\":\"contour\",\"x\":[0.032118295061781515,0.05364592081471348,0.058160953490642375,0.11498675729037759,0.17948090907314918,0.1796310609432385,0.18711419319062406,0.21250418712221336,0.22375890276401672,0.2481934859460601,0.2915957004412367,0.3100537479216523,0.3123350357530558,0.32446981154834764,0.32837853441607556,0.34884246946321984,0.45203299890636306,0.4841984358733526,0.5057260616262845],\"xaxis\":\"x15\",\"y\":[8.50528612638913e-05,0.0001144946021208401,0.0002933557426306419,0.0005941550653811763,0.0008470382435178196,0.0012862164099185396,0.001306881943921273,0.0017596186060431188,0.0017789466665703959,0.002924059415327138,0.003889370183149437,0.0049079930534467265,0.0051944992011224754,0.006150130559882329,0.006696227015345656,0.01095284177391842,0.03580321349942954,0.04372267158883429,0.05885763057037821],\"yaxis\":\"y15\",\"z\":[[null,null,null,null,null,null,null,null,null,null,null,null,null,null,null,null,null,null,null],[null,null,null,null,null,null,null,null,null,null,null,null,null,null,null,null,0.1134480545147289,null,null],[null,null,null,null,null,null,null,null,null,null,null,null,null,null,1.9807250459217334,null,null,null,null],[null,null,0.28132008490604427,null,null,null,null,null,null,null,null,null,null,null,null,null,null,null,null],[null,null,null,null,null,null,null,null,null,null,null,null,null,null,null,0.10732460878233414,null,null,null],[null,null,null,null,null,null,null,null,null,null,null,null,null,0.3590984783352237,null,null,null,null,null],[null,null,null,null,null,null,null,null,null,null,null,null,0.09930000439286231,null,null,null,null,null,null],[null,null,null,null,null,null,null,null,null,null,null,0.10721965563985018,null,null,null,null,null,null,null],[null,null,null,null,null,null,null,null,0.10991137643712894,null,null,null,null,null,null,null,null,null,null],[null,null,null,0.12427728064358233,null,null,null,null,null,null,null,null,null,null,null,null,null,null,null],[null,null,null,null,null,null,null,null,null,null,0.11502095063527425,null,null,null,null,null,null,null,null],[null,null,null,null,null,null,null,0.09505551989222395,null,null,null,null,null,null,null,null,null,null,null],[null,null,null,null,null,0.09875674974737746,null,null,null,null,null,null,null,null,null,null,null,null,null],[null,null,null,null,null,null,0.11315505591131028,null,null,null,null,null,null,null,null,null,null,null,null],[null,null,null,null,0.10432604119619904,null,null,null,null,null,null,null,null,null,null,null,null,null,null],[null,null,null,null,null,null,null,null,null,0.10331169174363218,null,null,null,null,null,null,null,null,null],[null,null,null,null,null,null,null,null,null,null,null,null,null,null,null,null,null,0.2534626597782725,null],[null,0.6431171383176534,null,null,null,null,null,null,null,null,null,null,null,null,null,null,null,null,null],[null,null,null,null,null,null,null,null,null,null,null,null,null,null,null,null,null,null,null]]},{\"marker\":{\"color\":\"black\",\"line\":{\"color\":\"Grey\",\"width\":0.5}},\"mode\":\"markers\",\"showlegend\":false,\"type\":\"scatter\",\"x\":[0.2481934859460601,0.4841984358733526,0.32837853441607556,0.32446981154834764,0.05364592081471348,0.058160953490642375,0.1796310609432385,0.17948090907314918,0.18711419319062406,0.11498675729037759,0.21250418712221336,0.2915957004412367,0.22375890276401672,0.3100537479216523,0.3123350357530558,0.34884246946321984,0.45203299890636306],\"xaxis\":\"x15\",\"y\":[0.01095284177391842,0.03580321349942954,0.0002933557426306419,0.0012862164099185396,0.04372267158883429,0.0005941550653811763,0.0051944992011224754,0.006696227015345656,0.006150130559882329,0.002924059415327138,0.0049079930534467265,0.003889370183149437,0.0017789466665703959,0.0017596186060431188,0.001306881943921273,0.0008470382435178196,0.0001144946021208401],\"yaxis\":\"y15\"},{\"colorbar\":{\"title\":{\"text\":\"Objective Value\"}},\"colorscale\":[[0,\"rgb(5,10,172)\"],[0.35,\"rgb(40,60,190)\"],[0.5,\"rgb(70,100,245)\"],[0.6,\"rgb(90,120,245)\"],[0.7,\"rgb(106,137,247)\"],[1,\"rgb(220,220,220)\"]],\"connectgaps\":true,\"contours\":{\"coloring\":\"heatmap\"},\"hoverinfo\":\"none\",\"line\":{\"smoothing\":1.3},\"reversescale\":true,\"showscale\":false,\"type\":\"contour\",\"x\":[0.032118295061781515,0.05364592081471348,0.058160953490642375,0.11498675729037759,0.17948090907314918,0.1796310609432385,0.18711419319062406,0.21250418712221336,0.22375890276401672,0.2481934859460601,0.2915957004412367,0.3100537479216523,0.3123350357530558,0.32446981154834764,0.32837853441607556,0.34884246946321984,0.45203299890636306,0.4841984358733526,0.5057260616262845],\"xaxis\":\"x20\",\"y\":[0.9,1,2,3,3.1],\"yaxis\":\"y20\",\"z\":[[null,null,null,null,null,null,null,null,null,null,null,null,null,null,null,null,null,null,null],[null,null,0.28132008490604427,null,0.10432604119619904,0.09875674974737746,0.11315505591131028,0.09505551989222395,0.10991137643712894,0.10331169174363218,0.11502095063527425,0.10721965563985018,0.09930000439286231,null,null,0.10732460878233414,0.1134480545147289,null,null],[null,0.6431171383176534,null,0.12427728064358233,null,null,null,null,null,null,null,null,null,null,null,null,null,0.2534626597782725,null],[null,null,null,null,null,null,null,null,null,null,null,null,null,0.3590984783352237,1.9807250459217334,null,null,null,null],[null,null,null,null,null,null,null,null,null,null,null,null,null,null,null,null,null,null,null]]},{\"marker\":{\"color\":\"black\",\"line\":{\"color\":\"Grey\",\"width\":0.5}},\"mode\":\"markers\",\"showlegend\":false,\"type\":\"scatter\",\"x\":[0.2481934859460601,0.4841984358733526,0.32837853441607556,0.32446981154834764,0.05364592081471348,0.058160953490642375,0.1796310609432385,0.17948090907314918,0.18711419319062406,0.11498675729037759,0.21250418712221336,0.2915957004412367,0.22375890276401672,0.3100537479216523,0.3123350357530558,0.34884246946321984,0.45203299890636306],\"xaxis\":\"x20\",\"y\":[1,2,3,3,2,1,1,1,1,2,1,1,1,1,1,1,1],\"yaxis\":\"y20\"},{\"type\":\"scatter\",\"xaxis\":\"x25\",\"yaxis\":\"y25\"}],                        {\"autosize\":false,\"height\":1200,\"template\":{\"data\":{\"bar\":[{\"error_x\":{\"color\":\"#2a3f5f\"},\"error_y\":{\"color\":\"#2a3f5f\"},\"marker\":{\"line\":{\"color\":\"#E5ECF6\",\"width\":0.5},\"pattern\":{\"fillmode\":\"overlay\",\"size\":10,\"solidity\":0.2}},\"type\":\"bar\"}],\"barpolar\":[{\"marker\":{\"line\":{\"color\":\"#E5ECF6\",\"width\":0.5},\"pattern\":{\"fillmode\":\"overlay\",\"size\":10,\"solidity\":0.2}},\"type\":\"barpolar\"}],\"carpet\":[{\"aaxis\":{\"endlinecolor\":\"#2a3f5f\",\"gridcolor\":\"white\",\"linecolor\":\"white\",\"minorgridcolor\":\"white\",\"startlinecolor\":\"#2a3f5f\"},\"baxis\":{\"endlinecolor\":\"#2a3f5f\",\"gridcolor\":\"white\",\"linecolor\":\"white\",\"minorgridcolor\":\"white\",\"startlinecolor\":\"#2a3f5f\"},\"type\":\"carpet\"}],\"choropleth\":[{\"colorbar\":{\"outlinewidth\":0,\"ticks\":\"\"},\"type\":\"choropleth\"}],\"contour\":[{\"colorbar\":{\"outlinewidth\":0,\"ticks\":\"\"},\"colorscale\":[[0.0,\"#0d0887\"],[0.1111111111111111,\"#46039f\"],[0.2222222222222222,\"#7201a8\"],[0.3333333333333333,\"#9c179e\"],[0.4444444444444444,\"#bd3786\"],[0.5555555555555556,\"#d8576b\"],[0.6666666666666666,\"#ed7953\"],[0.7777777777777778,\"#fb9f3a\"],[0.8888888888888888,\"#fdca26\"],[1.0,\"#f0f921\"]],\"type\":\"contour\"}],\"contourcarpet\":[{\"colorbar\":{\"outlinewidth\":0,\"ticks\":\"\"},\"type\":\"contourcarpet\"}],\"heatmap\":[{\"colorbar\":{\"outlinewidth\":0,\"ticks\":\"\"},\"colorscale\":[[0.0,\"#0d0887\"],[0.1111111111111111,\"#46039f\"],[0.2222222222222222,\"#7201a8\"],[0.3333333333333333,\"#9c179e\"],[0.4444444444444444,\"#bd3786\"],[0.5555555555555556,\"#d8576b\"],[0.6666666666666666,\"#ed7953\"],[0.7777777777777778,\"#fb9f3a\"],[0.8888888888888888,\"#fdca26\"],[1.0,\"#f0f921\"]],\"type\":\"heatmap\"}],\"heatmapgl\":[{\"colorbar\":{\"outlinewidth\":0,\"ticks\":\"\"},\"colorscale\":[[0.0,\"#0d0887\"],[0.1111111111111111,\"#46039f\"],[0.2222222222222222,\"#7201a8\"],[0.3333333333333333,\"#9c179e\"],[0.4444444444444444,\"#bd3786\"],[0.5555555555555556,\"#d8576b\"],[0.6666666666666666,\"#ed7953\"],[0.7777777777777778,\"#fb9f3a\"],[0.8888888888888888,\"#fdca26\"],[1.0,\"#f0f921\"]],\"type\":\"heatmapgl\"}],\"histogram\":[{\"marker\":{\"pattern\":{\"fillmode\":\"overlay\",\"size\":10,\"solidity\":0.2}},\"type\":\"histogram\"}],\"histogram2d\":[{\"colorbar\":{\"outlinewidth\":0,\"ticks\":\"\"},\"colorscale\":[[0.0,\"#0d0887\"],[0.1111111111111111,\"#46039f\"],[0.2222222222222222,\"#7201a8\"],[0.3333333333333333,\"#9c179e\"],[0.4444444444444444,\"#bd3786\"],[0.5555555555555556,\"#d8576b\"],[0.6666666666666666,\"#ed7953\"],[0.7777777777777778,\"#fb9f3a\"],[0.8888888888888888,\"#fdca26\"],[1.0,\"#f0f921\"]],\"type\":\"histogram2d\"}],\"histogram2dcontour\":[{\"colorbar\":{\"outlinewidth\":0,\"ticks\":\"\"},\"colorscale\":[[0.0,\"#0d0887\"],[0.1111111111111111,\"#46039f\"],[0.2222222222222222,\"#7201a8\"],[0.3333333333333333,\"#9c179e\"],[0.4444444444444444,\"#bd3786\"],[0.5555555555555556,\"#d8576b\"],[0.6666666666666666,\"#ed7953\"],[0.7777777777777778,\"#fb9f3a\"],[0.8888888888888888,\"#fdca26\"],[1.0,\"#f0f921\"]],\"type\":\"histogram2dcontour\"}],\"mesh3d\":[{\"colorbar\":{\"outlinewidth\":0,\"ticks\":\"\"},\"type\":\"mesh3d\"}],\"parcoords\":[{\"line\":{\"colorbar\":{\"outlinewidth\":0,\"ticks\":\"\"}},\"type\":\"parcoords\"}],\"pie\":[{\"automargin\":true,\"type\":\"pie\"}],\"scatter\":[{\"marker\":{\"colorbar\":{\"outlinewidth\":0,\"ticks\":\"\"}},\"type\":\"scatter\"}],\"scatter3d\":[{\"line\":{\"colorbar\":{\"outlinewidth\":0,\"ticks\":\"\"}},\"marker\":{\"colorbar\":{\"outlinewidth\":0,\"ticks\":\"\"}},\"type\":\"scatter3d\"}],\"scattercarpet\":[{\"marker\":{\"colorbar\":{\"outlinewidth\":0,\"ticks\":\"\"}},\"type\":\"scattercarpet\"}],\"scattergeo\":[{\"marker\":{\"colorbar\":{\"outlinewidth\":0,\"ticks\":\"\"}},\"type\":\"scattergeo\"}],\"scattergl\":[{\"marker\":{\"colorbar\":{\"outlinewidth\":0,\"ticks\":\"\"}},\"type\":\"scattergl\"}],\"scattermapbox\":[{\"marker\":{\"colorbar\":{\"outlinewidth\":0,\"ticks\":\"\"}},\"type\":\"scattermapbox\"}],\"scatterpolar\":[{\"marker\":{\"colorbar\":{\"outlinewidth\":0,\"ticks\":\"\"}},\"type\":\"scatterpolar\"}],\"scatterpolargl\":[{\"marker\":{\"colorbar\":{\"outlinewidth\":0,\"ticks\":\"\"}},\"type\":\"scatterpolargl\"}],\"scatterternary\":[{\"marker\":{\"colorbar\":{\"outlinewidth\":0,\"ticks\":\"\"}},\"type\":\"scatterternary\"}],\"surface\":[{\"colorbar\":{\"outlinewidth\":0,\"ticks\":\"\"},\"colorscale\":[[0.0,\"#0d0887\"],[0.1111111111111111,\"#46039f\"],[0.2222222222222222,\"#7201a8\"],[0.3333333333333333,\"#9c179e\"],[0.4444444444444444,\"#bd3786\"],[0.5555555555555556,\"#d8576b\"],[0.6666666666666666,\"#ed7953\"],[0.7777777777777778,\"#fb9f3a\"],[0.8888888888888888,\"#fdca26\"],[1.0,\"#f0f921\"]],\"type\":\"surface\"}],\"table\":[{\"cells\":{\"fill\":{\"color\":\"#EBF0F8\"},\"line\":{\"color\":\"white\"}},\"header\":{\"fill\":{\"color\":\"#C8D4E3\"},\"line\":{\"color\":\"white\"}},\"type\":\"table\"}]},\"layout\":{\"annotationdefaults\":{\"arrowcolor\":\"#2a3f5f\",\"arrowhead\":0,\"arrowwidth\":1},\"autotypenumbers\":\"strict\",\"coloraxis\":{\"colorbar\":{\"outlinewidth\":0,\"ticks\":\"\"}},\"colorscale\":{\"diverging\":[[0,\"#8e0152\"],[0.1,\"#c51b7d\"],[0.2,\"#de77ae\"],[0.3,\"#f1b6da\"],[0.4,\"#fde0ef\"],[0.5,\"#f7f7f7\"],[0.6,\"#e6f5d0\"],[0.7,\"#b8e186\"],[0.8,\"#7fbc41\"],[0.9,\"#4d9221\"],[1,\"#276419\"]],\"sequential\":[[0.0,\"#0d0887\"],[0.1111111111111111,\"#46039f\"],[0.2222222222222222,\"#7201a8\"],[0.3333333333333333,\"#9c179e\"],[0.4444444444444444,\"#bd3786\"],[0.5555555555555556,\"#d8576b\"],[0.6666666666666666,\"#ed7953\"],[0.7777777777777778,\"#fb9f3a\"],[0.8888888888888888,\"#fdca26\"],[1.0,\"#f0f921\"]],\"sequentialminus\":[[0.0,\"#0d0887\"],[0.1111111111111111,\"#46039f\"],[0.2222222222222222,\"#7201a8\"],[0.3333333333333333,\"#9c179e\"],[0.4444444444444444,\"#bd3786\"],[0.5555555555555556,\"#d8576b\"],[0.6666666666666666,\"#ed7953\"],[0.7777777777777778,\"#fb9f3a\"],[0.8888888888888888,\"#fdca26\"],[1.0,\"#f0f921\"]]},\"colorway\":[\"#636efa\",\"#EF553B\",\"#00cc96\",\"#ab63fa\",\"#FFA15A\",\"#19d3f3\",\"#FF6692\",\"#B6E880\",\"#FF97FF\",\"#FECB52\"],\"font\":{\"color\":\"#2a3f5f\"},\"geo\":{\"bgcolor\":\"white\",\"lakecolor\":\"white\",\"landcolor\":\"#E5ECF6\",\"showlakes\":true,\"showland\":true,\"subunitcolor\":\"white\"},\"hoverlabel\":{\"align\":\"left\"},\"hovermode\":\"closest\",\"mapbox\":{\"style\":\"light\"},\"paper_bgcolor\":\"white\",\"plot_bgcolor\":\"#E5ECF6\",\"polar\":{\"angularaxis\":{\"gridcolor\":\"white\",\"linecolor\":\"white\",\"ticks\":\"\"},\"bgcolor\":\"#E5ECF6\",\"radialaxis\":{\"gridcolor\":\"white\",\"linecolor\":\"white\",\"ticks\":\"\"}},\"scene\":{\"xaxis\":{\"backgroundcolor\":\"#E5ECF6\",\"gridcolor\":\"white\",\"gridwidth\":2,\"linecolor\":\"white\",\"showbackground\":true,\"ticks\":\"\",\"zerolinecolor\":\"white\"},\"yaxis\":{\"backgroundcolor\":\"#E5ECF6\",\"gridcolor\":\"white\",\"gridwidth\":2,\"linecolor\":\"white\",\"showbackground\":true,\"ticks\":\"\",\"zerolinecolor\":\"white\"},\"zaxis\":{\"backgroundcolor\":\"#E5ECF6\",\"gridcolor\":\"white\",\"gridwidth\":2,\"linecolor\":\"white\",\"showbackground\":true,\"ticks\":\"\",\"zerolinecolor\":\"white\"}},\"shapedefaults\":{\"line\":{\"color\":\"#2a3f5f\"}},\"ternary\":{\"aaxis\":{\"gridcolor\":\"white\",\"linecolor\":\"white\",\"ticks\":\"\"},\"baxis\":{\"gridcolor\":\"white\",\"linecolor\":\"white\",\"ticks\":\"\"},\"bgcolor\":\"#E5ECF6\",\"caxis\":{\"gridcolor\":\"white\",\"linecolor\":\"white\",\"ticks\":\"\"}},\"title\":{\"x\":0.05},\"xaxis\":{\"automargin\":true,\"gridcolor\":\"white\",\"linecolor\":\"white\",\"ticks\":\"\",\"title\":{\"standoff\":15},\"zerolinecolor\":\"white\",\"zerolinewidth\":2},\"yaxis\":{\"automargin\":true,\"gridcolor\":\"white\",\"linecolor\":\"white\",\"ticks\":\"\",\"title\":{\"standoff\":15},\"zerolinecolor\":\"white\",\"zerolinewidth\":2}}},\"title\":{\"text\":\"Contour Plot\"},\"width\":1200,\"xaxis\":{\"anchor\":\"y\",\"domain\":[0.0,0.16799999999999998],\"matches\":\"x21\",\"range\":[-13.05,516.05],\"showticklabels\":false},\"xaxis10\":{\"anchor\":\"y10\",\"domain\":[0.832,1.0],\"matches\":\"x25\",\"range\":[0.032118295061781515,0.5057260616262845],\"showticklabels\":false},\"xaxis11\":{\"anchor\":\"y11\",\"domain\":[0.0,0.16799999999999998],\"matches\":\"x21\",\"range\":[-13.05,516.05],\"showticklabels\":false},\"xaxis12\":{\"anchor\":\"y12\",\"domain\":[0.208,0.376],\"matches\":\"x22\",\"range\":[0.1853522366497126,0.5120453179293235],\"showticklabels\":false},\"xaxis13\":{\"anchor\":\"y13\",\"domain\":[0.416,0.584],\"matches\":\"x23\",\"range\":[-4.070311071702002,-1.2301972252626148],\"showticklabels\":false,\"type\":\"log\"},\"xaxis14\":{\"anchor\":\"y14\",\"domain\":[0.624,0.792],\"matches\":\"x24\",\"range\":[0.9,3.1],\"showticklabels\":false},\"xaxis15\":{\"anchor\":\"y15\",\"domain\":[0.832,1.0],\"matches\":\"x25\",\"range\":[0.032118295061781515,0.5057260616262845],\"showticklabels\":false},\"xaxis16\":{\"anchor\":\"y16\",\"domain\":[0.0,0.16799999999999998],\"matches\":\"x21\",\"range\":[-13.05,516.05],\"showticklabels\":false},\"xaxis17\":{\"anchor\":\"y17\",\"domain\":[0.208,0.376],\"matches\":\"x22\",\"range\":[0.1853522366497126,0.5120453179293235],\"showticklabels\":false},\"xaxis18\":{\"anchor\":\"y18\",\"domain\":[0.416,0.584],\"matches\":\"x23\",\"range\":[-4.070311071702002,-1.2301972252626148],\"showticklabels\":false,\"type\":\"log\"},\"xaxis19\":{\"anchor\":\"y19\",\"domain\":[0.624,0.792],\"matches\":\"x24\",\"range\":[0.9,3.1],\"showticklabels\":false},\"xaxis2\":{\"anchor\":\"y2\",\"domain\":[0.208,0.376],\"matches\":\"x22\",\"range\":[0.1853522366497126,0.5120453179293235],\"showticklabels\":false},\"xaxis20\":{\"anchor\":\"y20\",\"domain\":[0.832,1.0],\"matches\":\"x25\",\"range\":[0.032118295061781515,0.5057260616262845],\"showticklabels\":false},\"xaxis21\":{\"anchor\":\"y21\",\"domain\":[0.0,0.16799999999999998],\"range\":[-13.05,516.05],\"title\":{\"text\":\"batch_size\"}},\"xaxis22\":{\"anchor\":\"y22\",\"domain\":[0.208,0.376],\"range\":[0.1853522366497126,0.5120453179293235],\"title\":{\"text\":\"dropout_rate\"}},\"xaxis23\":{\"anchor\":\"y23\",\"domain\":[0.416,0.584],\"range\":[-4.070311071702002,-1.2301972252626148],\"title\":{\"text\":\"lr\"},\"type\":\"log\"},\"xaxis24\":{\"anchor\":\"y24\",\"domain\":[0.624,0.792],\"range\":[0.9,3.1],\"title\":{\"text\":\"n_layers\"}},\"xaxis25\":{\"anchor\":\"y25\",\"domain\":[0.832,1.0],\"range\":[0.032118295061781515,0.5057260616262845],\"title\":{\"text\":\"weight_decay\"}},\"xaxis3\":{\"anchor\":\"y3\",\"domain\":[0.416,0.584],\"matches\":\"x23\",\"range\":[-4.070311071702002,-1.2301972252626148],\"showticklabels\":false,\"type\":\"log\"},\"xaxis4\":{\"anchor\":\"y4\",\"domain\":[0.624,0.792],\"matches\":\"x24\",\"range\":[0.9,3.1],\"showticklabels\":false},\"xaxis5\":{\"anchor\":\"y5\",\"domain\":[0.832,1.0],\"matches\":\"x25\",\"range\":[0.032118295061781515,0.5057260616262845],\"showticklabels\":false},\"xaxis6\":{\"anchor\":\"y6\",\"domain\":[0.0,0.16799999999999998],\"matches\":\"x21\",\"range\":[-13.05,516.05],\"showticklabels\":false},\"xaxis7\":{\"anchor\":\"y7\",\"domain\":[0.208,0.376],\"matches\":\"x22\",\"range\":[0.1853522366497126,0.5120453179293235],\"showticklabels\":false},\"xaxis8\":{\"anchor\":\"y8\",\"domain\":[0.416,0.584],\"matches\":\"x23\",\"range\":[-4.070311071702002,-1.2301972252626148],\"showticklabels\":false,\"type\":\"log\"},\"xaxis9\":{\"anchor\":\"y9\",\"domain\":[0.624,0.792],\"matches\":\"x24\",\"range\":[0.9,3.1],\"showticklabels\":false},\"yaxis\":{\"anchor\":\"x\",\"domain\":[0.848,1.0],\"range\":[-13.05,516.05],\"title\":{\"text\":\"batch_size\"}},\"yaxis10\":{\"anchor\":\"x10\",\"domain\":[0.6359999999999999,0.7879999999999999],\"matches\":\"y6\",\"range\":[0.1853522366497126,0.5120453179293235],\"showticklabels\":false},\"yaxis11\":{\"anchor\":\"x11\",\"domain\":[0.424,0.576],\"range\":[-4.070311071702002,-1.2301972252626148],\"title\":{\"text\":\"lr\"},\"type\":\"log\"},\"yaxis12\":{\"anchor\":\"x12\",\"domain\":[0.424,0.576],\"matches\":\"y11\",\"range\":[-4.070311071702002,-1.2301972252626148],\"showticklabels\":false,\"type\":\"log\"},\"yaxis13\":{\"anchor\":\"x13\",\"domain\":[0.424,0.576],\"matches\":\"y11\",\"range\":[-4.070311071702002,-1.2301972252626148],\"showticklabels\":false,\"type\":\"log\"},\"yaxis14\":{\"anchor\":\"x14\",\"domain\":[0.424,0.576],\"matches\":\"y11\",\"range\":[-4.070311071702002,-1.2301972252626148],\"showticklabels\":false,\"type\":\"log\"},\"yaxis15\":{\"anchor\":\"x15\",\"domain\":[0.424,0.576],\"matches\":\"y11\",\"range\":[-4.070311071702002,-1.2301972252626148],\"showticklabels\":false,\"type\":\"log\"},\"yaxis16\":{\"anchor\":\"x16\",\"domain\":[0.212,0.364],\"range\":[0.9,3.1],\"title\":{\"text\":\"n_layers\"}},\"yaxis17\":{\"anchor\":\"x17\",\"domain\":[0.212,0.364],\"matches\":\"y16\",\"range\":[0.9,3.1],\"showticklabels\":false},\"yaxis18\":{\"anchor\":\"x18\",\"domain\":[0.212,0.364],\"matches\":\"y16\",\"range\":[0.9,3.1],\"showticklabels\":false},\"yaxis19\":{\"anchor\":\"x19\",\"domain\":[0.212,0.364],\"matches\":\"y16\",\"range\":[0.9,3.1],\"showticklabels\":false},\"yaxis2\":{\"anchor\":\"x2\",\"domain\":[0.848,1.0],\"matches\":\"y\",\"range\":[-13.05,516.05],\"showticklabels\":false},\"yaxis20\":{\"anchor\":\"x20\",\"domain\":[0.212,0.364],\"matches\":\"y16\",\"range\":[0.9,3.1],\"showticklabels\":false},\"yaxis21\":{\"anchor\":\"x21\",\"domain\":[0.0,0.152],\"range\":[0.032118295061781515,0.5057260616262845],\"title\":{\"text\":\"weight_decay\"}},\"yaxis22\":{\"anchor\":\"x22\",\"domain\":[0.0,0.152],\"matches\":\"y21\",\"range\":[0.032118295061781515,0.5057260616262845],\"showticklabels\":false},\"yaxis23\":{\"anchor\":\"x23\",\"domain\":[0.0,0.152],\"matches\":\"y21\",\"range\":[0.032118295061781515,0.5057260616262845],\"showticklabels\":false},\"yaxis24\":{\"anchor\":\"x24\",\"domain\":[0.0,0.152],\"matches\":\"y21\",\"range\":[0.032118295061781515,0.5057260616262845],\"showticklabels\":false},\"yaxis25\":{\"anchor\":\"x25\",\"domain\":[0.0,0.152],\"matches\":\"y21\",\"range\":[0.032118295061781515,0.5057260616262845],\"showticklabels\":false},\"yaxis3\":{\"anchor\":\"x3\",\"domain\":[0.848,1.0],\"matches\":\"y\",\"range\":[-13.05,516.05],\"showticklabels\":false},\"yaxis4\":{\"anchor\":\"x4\",\"domain\":[0.848,1.0],\"matches\":\"y\",\"range\":[-13.05,516.05],\"showticklabels\":false},\"yaxis5\":{\"anchor\":\"x5\",\"domain\":[0.848,1.0],\"matches\":\"y\",\"range\":[-13.05,516.05],\"showticklabels\":false},\"yaxis6\":{\"anchor\":\"x6\",\"domain\":[0.6359999999999999,0.7879999999999999],\"range\":[0.1853522366497126,0.5120453179293235],\"title\":{\"text\":\"dropout_rate\"}},\"yaxis7\":{\"anchor\":\"x7\",\"domain\":[0.6359999999999999,0.7879999999999999],\"matches\":\"y6\",\"range\":[0.1853522366497126,0.5120453179293235],\"showticklabels\":false},\"yaxis8\":{\"anchor\":\"x8\",\"domain\":[0.6359999999999999,0.7879999999999999],\"matches\":\"y6\",\"range\":[0.1853522366497126,0.5120453179293235],\"showticklabels\":false},\"yaxis9\":{\"anchor\":\"x9\",\"domain\":[0.6359999999999999,0.7879999999999999],\"matches\":\"y6\",\"range\":[0.1853522366497126,0.5120453179293235],\"showticklabels\":false}},                        {\"responsive\": true}                    ).then(function(){\n",
       "                            \n",
       "var gd = document.getElementById('674a5772-3540-411f-a6c9-5d75fddeb6b8');\n",
       "var x = new MutationObserver(function (mutations, observer) {{\n",
       "        var display = window.getComputedStyle(gd).display;\n",
       "        if (!display || display === 'none') {{\n",
       "            console.log([gd, 'removed!']);\n",
       "            Plotly.purge(gd);\n",
       "            observer.disconnect();\n",
       "        }}\n",
       "}});\n",
       "\n",
       "// Listen for the removal of the full notebook cells\n",
       "var notebookContainer = gd.closest('#notebook-container');\n",
       "if (notebookContainer) {{\n",
       "    x.observe(notebookContainer, {childList: true});\n",
       "}}\n",
       "\n",
       "// Listen for the clearing of the current output cell\n",
       "var outputEl = gd.closest('.output');\n",
       "if (outputEl) {{\n",
       "    x.observe(outputEl, {childList: true});\n",
       "}}\n",
       "\n",
       "                        })                };                });            </script>        </div>"
      ]
     },
     "metadata": {},
     "output_type": "display_data"
    }
   ],
   "source": [
    "fig = optuna.visualization.plot_contour(study, params=['batch_size', 'lr', 'n_layers', 'weight_decay', 'dropout_rate'])\n",
    "fig.update_layout(autosize=False, width=1200, height=1200)\n",
    "fig.show()"
   ]
  },
  {
   "cell_type": "markdown",
   "id": "6d4ff6db",
   "metadata": {
    "id": "cE-8JzvCcMxJ",
    "papermill": {
     "duration": 0.370531,
     "end_time": "2021-09-23T19:20:12.472973",
     "exception": false,
     "start_time": "2021-09-23T19:20:12.102442",
     "status": "completed"
    },
    "tags": []
   },
   "source": [
    "## Appendix: Hyperparameters of commonly used models"
   ]
  },
  {
   "cell_type": "markdown",
   "id": "c144bafc",
   "metadata": {
    "id": "A5eopYOBcMxJ",
    "papermill": {
     "duration": 0.359975,
     "end_time": "2021-09-23T19:20:13.190125",
     "exception": false,
     "start_time": "2021-09-23T19:20:12.830150",
     "status": "completed"
    },
    "tags": []
   },
   "source": [
    "<br>"
   ]
  },
  {
   "cell_type": "markdown",
   "id": "379889a6",
   "metadata": {
    "id": "YaEeJGwecMxJ",
    "papermill": {
     "duration": 0.391908,
     "end_time": "2021-09-23T19:20:13.938864",
     "exception": false,
     "start_time": "2021-09-23T19:20:13.546956",
     "status": "completed"
    },
    "tags": []
   },
   "source": [
    "```{figure} ../img/hyp.png\n",
    "---\n",
    "name: hyp\n",
    "---\n",
    "Table from p. 184 of {cite}`AAAMLP`. **RS**$^*$ implies random search should be better.\n",
    "```"
   ]
  }
 ],
 "metadata": {
  "kernelspec": {
   "display_name": "Python 3",
   "language": "python",
   "name": "python3"
  },
  "language_info": {
   "codemirror_mode": {
    "name": "ipython",
    "version": 3
   },
   "file_extension": ".py",
   "mimetype": "text/x-python",
   "name": "python",
   "nbconvert_exporter": "python",
   "pygments_lexer": "ipython3",
   "version": "3.7.10"
  },
  "papermill": {
   "default_parameters": {},
   "duration": 2848.666524,
   "end_time": "2021-09-23T19:20:16.199837",
   "environment_variables": {},
   "exception": null,
   "input_path": "__notebook__.ipynb",
   "output_path": "__notebook__.ipynb",
   "parameters": {},
   "start_time": "2021-09-23T18:32:47.533313",
   "version": "2.3.3"
  }
 },
 "nbformat": 4,
 "nbformat_minor": 5
}
