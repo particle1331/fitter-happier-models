{
 "cells": [
  {
   "attachments": {},
   "cell_type": "markdown",
   "metadata": {},
   "source": [
    "# Docker"
   ]
  },
  {
   "attachments": {},
   "cell_type": "markdown",
   "metadata": {},
   "source": [
    "**Data pipelines** = processes and services gets data (e.g. csv) -> returns data (table in postgres)."
   ]
  },
  {
   "attachments": {},
   "cell_type": "markdown",
   "metadata": {},
   "source": [
    "within a data pipeline there can be many intermediate processes that perform transformations between data."
   ]
  },
  {
   "attachments": {},
   "cell_type": "markdown",
   "metadata": {},
   "source": [
    "host computer (windows) can run data pipeline (ubuntu 20.04 which has python 3.9, pandas, postgres)\n",
    "\n",
    "containers are isolated from each other"
   ]
  },
  {
   "cell_type": "markdown",
   "metadata": {},
   "source": []
  }
 ],
 "metadata": {
  "kernelspec": {
   "display_name": "Python 3",
   "language": "python",
   "name": "python3"
  },
  "language_info": {
   "name": "python",
   "version": "3.10.3 (main, Mar 26 2022, 10:14:30) [Clang 13.0.0 (clang-1300.0.29.30)]"
  },
  "orig_nbformat": 4,
  "vscode": {
   "interpreter": {
    "hash": "74fc4d732c045e64e902852b64fc2bd2168aa0e65c0f64395f775ce1c5c468e9"
   }
  }
 },
 "nbformat": 4,
 "nbformat_minor": 2
}
