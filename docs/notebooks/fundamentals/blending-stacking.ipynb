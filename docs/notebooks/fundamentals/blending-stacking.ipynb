{
 "cells": [
  {
   "cell_type": "markdown",
   "id": "fbbebca8",
   "metadata": {
    "id": "053f56f1",
    "papermill": {
     "duration": 0.021611,
     "end_time": "2022-01-07T14:10:33.364508",
     "exception": false,
     "start_time": "2022-01-07T14:10:33.342897",
     "status": "completed"
    },
    "tags": []
   },
   "source": [
    "# Blending and Stacking"
   ]
  },
  {
   "cell_type": "markdown",
   "id": "fc622015",
   "metadata": {},
   "source": [
    "![Status](https://img.shields.io/static/v1.svg?label=Status&message=Finished&color=green)"
   ]
  },
  {
   "cell_type": "markdown",
   "id": "47bfc5ee",
   "metadata": {
    "id": "28113721",
    "papermill": {
     "duration": 0.014868,
     "end_time": "2022-01-07T14:10:33.394352",
     "exception": false,
     "start_time": "2022-01-07T14:10:33.379484",
     "status": "completed"
    },
    "tags": []
   },
   "source": [
    "In this notebook, we will implement two ensembling methods: **stacking** and **blending**. Ensembling techniques combine multiple learning algorithms to obtain better predictive performance than could be obtained from any of the constituent learning algorithms. In other words, instead of getting predictions from a selected single best model, we use multiple models and combine their predictions. This makes sense since different models can be good or bad on different parts of the data. Combining models means that shortcomings of single models get balanced out. Stacking and blending ensembles a diverse group of strong learners that are trained on the same task."
   ]
  },
  {
   "cell_type": "code",
   "execution_count": 2,
   "id": "ca0ef8eb",
   "metadata": {
    "execution": {
     "iopub.execute_input": "2022-01-07T14:10:33.487745Z",
     "iopub.status.busy": "2022-01-07T14:10:33.487391Z",
     "iopub.status.idle": "2022-01-07T14:10:34.440650Z",
     "shell.execute_reply": "2022-01-07T14:10:34.440851Z",
     "shell.execute_reply.started": "2022-01-03T09:38:16.957485Z"
    },
    "papermill": {
     "duration": 0.973168,
     "end_time": "2022-01-07T14:10:34.441003",
     "exception": false,
     "start_time": "2022-01-07T14:10:33.467835",
     "status": "completed"
    },
    "tags": []
   },
   "outputs": [],
   "source": [
    "import pandas as pd\n",
    "import numpy as np\n",
    "import time\n",
    "import random\n",
    "import pathlib\n",
    "import matplotlib.pyplot as plt\n",
    "\n",
    "from tqdm import tqdm\n",
    "from typing import Any, List, Dict\n",
    "from functools import partial, reduce\n",
    "from joblib import Parallel, delayed\n",
    "from scipy.optimize import minimize\n",
    "from xgboost import XGBClassifier\n",
    "\n",
    "from sklearn import model_selection, linear_model, metrics, decomposition, ensemble\n",
    "from sklearn.preprocessing import StandardScaler\n",
    "from sklearn.feature_extraction.text import TfidfVectorizer, CountVectorizer\n",
    "from sklearn.pipeline import make_pipeline\n",
    "from sklearn.base import BaseEstimator, ClassifierMixin, clone\n",
    "\n",
    "import warnings\n",
    "warnings.simplefilter(action='ignore')\n",
    "\n",
    "from inefficient_networks.config import config\n",
    "from inefficient_networks import utils\n",
    "config.set_matplotlib()\n",
    "\n",
    "# config\n",
    "random.seed(42)\n",
    "np.random.seed(42)\n",
    "NUM_FOLDS = 5"
   ]
  },
  {
   "cell_type": "markdown",
   "id": "62631baf",
   "metadata": {
    "editable": false,
    "id": "4b2ae18d",
    "papermill": {
     "duration": 0.01447,
     "end_time": "2022-01-07T14:10:34.489224",
     "exception": false,
     "start_time": "2022-01-07T14:10:34.474754",
     "status": "completed"
    },
    "tags": []
   },
   "source": [
    "## Movie Reviews Dataset"
   ]
  },
  {
   "cell_type": "markdown",
   "id": "7959fd80",
   "metadata": {
    "editable": false,
    "id": "d5512e9b",
    "papermill": {
     "duration": 0.014308,
     "end_time": "2022-01-07T14:10:34.517771",
     "exception": false,
     "start_time": "2022-01-07T14:10:34.503463",
     "status": "completed"
    },
    "tags": []
   },
   "source": [
    "The dataset consists of 50,000 IMDB movie reviews, specially selected for sentiment analysis. The sentiment of reviews is binary, with rating < 5 results in a sentiment score of 0, and rating ≥ 7 resulting in a sentiment score of 1. No individual movie has more than 30 reviews. Note that movies should be separated via group $k$-fold so that two reviews of the same movie are all either in the train and test set."
   ]
  },
  {
   "cell_type": "code",
   "execution_count": 6,
   "id": "458ea946",
   "metadata": {
    "execution": {
     "iopub.execute_input": "2022-01-07T14:10:34.548485Z",
     "iopub.status.busy": "2022-01-07T14:10:34.548144Z",
     "iopub.status.idle": "2022-01-07T14:10:34.820672Z",
     "shell.execute_reply": "2022-01-07T14:10:34.820854Z",
     "shell.execute_reply.started": "2022-01-03T09:38:16.968126Z"
    },
    "papermill": {
     "duration": 0.289108,
     "end_time": "2022-01-07T14:10:34.820959",
     "exception": false,
     "start_time": "2022-01-07T14:10:34.531851",
     "status": "completed"
    },
    "tags": []
   },
   "outputs": [
    {
     "name": "stdout",
     "output_type": "stream",
     "text": [
      "Dataset already exists in /Users/particle1331/code/inefficient-networks/src/inefficient_networks/data/kumarmanoj-bag-of-words-meets-bags-of-popcorn\n",
      "Skipping download.\n"
     ]
    },
    {
     "data": {
      "text/html": [
       "<div>\n",
       "<style scoped>\n",
       "    .dataframe tbody tr th:only-of-type {\n",
       "        vertical-align: middle;\n",
       "    }\n",
       "\n",
       "    .dataframe tbody tr th {\n",
       "        vertical-align: top;\n",
       "    }\n",
       "\n",
       "    .dataframe thead th {\n",
       "        text-align: right;\n",
       "    }\n",
       "</style>\n",
       "<table border=\"1\" class=\"dataframe\">\n",
       "  <thead>\n",
       "    <tr style=\"text-align: right;\">\n",
       "      <th></th>\n",
       "      <th>id</th>\n",
       "      <th>sentiment</th>\n",
       "      <th>review</th>\n",
       "    </tr>\n",
       "  </thead>\n",
       "  <tbody>\n",
       "    <tr>\n",
       "      <th>0</th>\n",
       "      <td>5814_8</td>\n",
       "      <td>1</td>\n",
       "      <td>With all this stuff going down at the moment w...</td>\n",
       "    </tr>\n",
       "    <tr>\n",
       "      <th>1</th>\n",
       "      <td>2381_9</td>\n",
       "      <td>1</td>\n",
       "      <td>\\The Classic War of the Worlds\\\" by Timothy Hi...</td>\n",
       "    </tr>\n",
       "    <tr>\n",
       "      <th>2</th>\n",
       "      <td>7759_3</td>\n",
       "      <td>0</td>\n",
       "      <td>The film starts with a manager (Nicholas Bell)...</td>\n",
       "    </tr>\n",
       "    <tr>\n",
       "      <th>3</th>\n",
       "      <td>3630_4</td>\n",
       "      <td>0</td>\n",
       "      <td>It must be assumed that those who praised this...</td>\n",
       "    </tr>\n",
       "    <tr>\n",
       "      <th>4</th>\n",
       "      <td>9495_8</td>\n",
       "      <td>1</td>\n",
       "      <td>Superbly trashy and wondrously unpretentious 8...</td>\n",
       "    </tr>\n",
       "  </tbody>\n",
       "</table>\n",
       "</div>"
      ],
      "text/plain": [
       "       id  sentiment                                             review\n",
       "0  5814_8          1  With all this stuff going down at the moment w...\n",
       "1  2381_9          1  \\The Classic War of the Worlds\\\" by Timothy Hi...\n",
       "2  7759_3          0  The film starts with a manager (Nicholas Bell)...\n",
       "3  3630_4          0  It must be assumed that those who praised this...\n",
       "4  9495_8          1  Superbly trashy and wondrously unpretentious 8..."
      ]
     },
     "execution_count": 6,
     "metadata": {},
     "output_type": "execute_result"
    }
   ],
   "source": [
    "utils.download_kaggle_dataset('ymanojkumar023/kumarmanoj-bag-of-words-meets-bags-of-popcorn')\n",
    "data_path = config.DATASET_DIR / \"kumarmanoj-bag-of-words-meets-bags-of-popcorn\"\n",
    "data = pd.read_csv(data_path / 'labeledTrainData.tsv', sep='\\t')\n",
    "data.head()\n"
   ]
  },
  {
   "cell_type": "markdown",
   "id": "59aa75ba",
   "metadata": {
    "editable": false,
    "id": "684e067f",
    "papermill": {
     "duration": 0.013683,
     "end_time": "2022-01-07T14:10:34.848734",
     "exception": false,
     "start_time": "2022-01-07T14:10:34.835051",
     "status": "completed"
    },
    "tags": []
   },
   "source": [
    "### Train and test split"
   ]
  },
  {
   "cell_type": "code",
   "execution_count": 5,
   "id": "ca36e859",
   "metadata": {
    "editable": false,
    "execution": {
     "iopub.execute_input": "2022-01-07T14:10:34.879206Z",
     "iopub.status.busy": "2022-01-07T14:10:34.878899Z",
     "iopub.status.idle": "2022-01-07T14:10:34.882453Z",
     "shell.execute_reply": "2022-01-07T14:10:34.882637Z",
     "shell.execute_reply.started": "2022-01-03T09:38:17.357297Z"
    },
    "id": "b8ddc93b",
    "outputId": "4f1165e0-b3a9-4f90-9000-22e518519660",
    "papermill": {
     "duration": 0.020083,
     "end_time": "2022-01-07T14:10:34.882738",
     "exception": false,
     "start_time": "2022-01-07T14:10:34.862655",
     "status": "completed"
    },
    "tags": []
   },
   "outputs": [
    {
     "name": "stdout",
     "output_type": "stream",
     "text": [
      "(20000, 1) (20000,)\n",
      "(5000, 1) (5000,)\n"
     ]
    }
   ],
   "source": [
    "train, test = model_selection.train_test_split(data, test_size=0.20, shuffle=True, random_state=42)\n",
    "\n",
    "y_train = train.sentiment.values\n",
    "X_train = train[['review']]\n",
    "\n",
    "y_test = test.sentiment.values\n",
    "X_test = test[['review']]\n",
    "\n",
    "print(X_train.shape, y_train.shape)\n",
    "print(X_test.shape, y_test.shape)"
   ]
  },
  {
   "cell_type": "markdown",
   "id": "b877297f",
   "metadata": {
    "editable": false,
    "id": "f81cf982",
    "papermill": {
     "duration": 0.013806,
     "end_time": "2022-01-07T14:10:34.910696",
     "exception": false,
     "start_time": "2022-01-07T14:10:34.896890",
     "status": "completed"
    },
    "tags": []
   },
   "source": [
    "## `StackingClassifier` Class"
   ]
  },
  {
   "cell_type": "markdown",
   "id": "8497f9dd",
   "metadata": {
    "id": "f9214ab8",
    "papermill": {
     "duration": 0.014364,
     "end_time": "2022-01-07T14:10:34.938862",
     "exception": false,
     "start_time": "2022-01-07T14:10:34.924498",
     "status": "completed"
    },
    "tags": []
   },
   "source": [
    "We define a class that automates training and prediction of stacked models. Several models can be trained on the training set whose predict probabilities can be used as **metafeatures** to train a **metamodel**. This process can be iterated to several more levels. To avoid creating metafeatures that further amplifies overfitting in the training dataset, the metafeatures are generated by out-of-fold (OOF) training and prediction of the models on the features of the previous level. This requires defining cross-validation folds. Note that the **same folds** will be used to generate metafeatures at deeper levels.\n",
    "\n",
    "```{figure} ../../img/stacking.png\n",
    "---\n",
    "width: 40em\n",
    "name: stacking\n",
    "---\n",
    "Stacking with $k$-fold cross-validation. For each input ${\\mathbf{x}^\\prime}^{[i]}$ has $T$ features corresponding to predictions of each base model. Note line 10 should be: \"**for** $i \\leftarrow 1$ to $n = |\\mathcal{D}_k|$ **do**\". That is, predictions are made on the fold $\\mathcal{D}_k$ that is not part of the model's training set. {cite}`stat451`\n",
    "```\n",
    "\n",
    "After generating metafeatures, the models will be retrained on its complete respective training set. This increases accuracy of prediction during inference. Note that prediction on the test set simulates conditions when the model was trained with the test set essentially acting like an extra validation fold.\n",
    "\n",
    "\n",
    ":::{note}\n",
    "Alternatively, we could make predictions on the test dataset using each base model immediately after it gets fitted on each fold. In our case, this would generate five sets of predictions for each model in the stack (trained on 5 different datasets). Then, we would average the predictions per model to generate our metafeatures.\n",
    "\n",
    "One benefit to this is that it is less time consuming than the current approach since we won't have to retrain each model on the full training dataset. However, the test metafeatures are likely more accurate in the first approach since each base model was trained on the full training dataset (as opposed to 80% of the training dataset five times).\n",
    ":::"
   ]
  },
  {
   "cell_type": "markdown",
   "id": "7374b0dc",
   "metadata": {},
   "source": [
    "```{figure} ../../img/stacking-inference.png\n",
    "---\n",
    "width: 30em\n",
    "name: stacking-inference\n",
    "---\n",
    "Stacking at test time. It is assumed that each model has been retrained on its respective complete feature set. {cite}`stat451`\n",
    "```"
   ]
  },
  {
   "cell_type": "markdown",
   "id": "9eb7b6a4",
   "metadata": {
    "editable": false,
    "id": "d8f858af",
    "papermill": {
     "duration": 0.015025,
     "end_time": "2022-01-07T14:10:34.969129",
     "exception": false,
     "start_time": "2022-01-07T14:10:34.954104",
     "status": "completed"
    },
    "tags": []
   },
   "source": [
    "```{margin}\n",
    "Note that we **clone** models in the model dictionaries to avoid leaking state changes outside instances of this class.\n",
    "```"
   ]
  },
  {
   "cell_type": "code",
   "execution_count": 4,
   "id": "d3a2352e",
   "metadata": {
    "execution": {
     "iopub.execute_input": "2022-01-07T14:10:35.010518Z",
     "iopub.status.busy": "2022-01-07T14:10:35.009574Z",
     "iopub.status.idle": "2022-01-07T14:10:35.011668Z",
     "shell.execute_reply": "2022-01-07T14:10:35.012001Z",
     "shell.execute_reply.started": "2022-01-03T09:38:17.370626Z"
    },
    "papermill": {
     "duration": 0.027573,
     "end_time": "2022-01-07T14:10:35.012141",
     "exception": false,
     "start_time": "2022-01-07T14:10:34.984568",
     "status": "completed"
    },
    "tags": []
   },
   "outputs": [],
   "source": [
    "class StackingClassifier:\n",
    "    \"\"\"Implements model stacking for classification.\"\"\"\n",
    "    \n",
    "    def __init__(self, \n",
    "        models: List[Dict[str, Any]], \n",
    "        num_folds: int = NUM_FOLDS,\n",
    "        verbose: bool = True):\n",
    "        \"\"\"\n",
    "        Args:\n",
    "        models (dict) - List of dictionaries of name model pairs for each level. \n",
    "        verbose (bool) - Verbosity level.\n",
    "        num_folds (int) - No. of CV folds.\n",
    "\n",
    "        Example:\n",
    "        >>> models = [\n",
    "            {'level1_model1': level1_model1, 'level2_model2': level2_model2},\n",
    "            {'level2_model1': level2_model1},\n",
    "        ]\n",
    "        >>> stacked_model = StackingClassifier(models)\n",
    "        \"\"\"\n",
    "        self.models = [{name: clone(level[name]) for name in level} for level in models]\n",
    "        self.cv_scores_ = {}\n",
    "        self.metafeatures_ = None\n",
    "        self.verbose = verbose\n",
    "        self.num_folds = num_folds\n",
    "\n",
    "        \n",
    "    def fit(self, X: pd.DataFrame, y: np.array):\n",
    "        \"\"\"\n",
    "        Fit classifier. CV strategy: stratified 5-fold.\n",
    "        Inputs:\n",
    "            X (DataFrame) - features\n",
    "            y (numpy array) - targets\n",
    "        \"\"\"\n",
    "\n",
    "        # Create folds (add \"kfold\" column)\n",
    "        train = self._stratified_kfold_cv(X, y)\n",
    "\n",
    "        # Iterating over all stacking levels and over all models\n",
    "        for level in range(len(self.models)):\n",
    "\n",
    "            # (1) Get features from predictions of models in the previous level.\n",
    "            feature_cols = self._get_feature_columns(train, level)\n",
    "            features = train[['target', 'kfold'] + feature_cols]            \n",
    "            \n",
    "            # (2) Create features for next level models using current predictions.  \n",
    "            for model_name in self.models[level].keys():\n",
    "                if self.verbose:\n",
    "                    print(f'\\nLevel {level} preds: {model_name}')\n",
    "                \n",
    "                model = self.models[level][model_name]\n",
    "                preds, aucs = self._generate_val_preds(features, model, self.verbose) \n",
    "                train[f'{model_name}_{level}'] = preds\n",
    "                self.cv_scores_[f'{model_name}_{level}'] = aucs\n",
    "        \n",
    "                # Train models on entire feature columns for inference.\n",
    "                model.fit(train[feature_cols], train.target.values)\n",
    "        \n",
    "        # Save learned metafeatures\n",
    "        levels = len(self.models)\n",
    "        metafeatures = [f'{n}_{m}' for m in range(levels) for n in self.models[m].keys()]\n",
    "        self.metafeatures_ = train[metafeatures]\n",
    "\n",
    "        return self\n",
    "        \n",
    "\n",
    "    def predict_proba(self, X):\n",
    "        \"\"\"Return classification probabilities.\"\"\"\n",
    "        \n",
    "        # Iterate over layers to make predictions.\n",
    "        X = X.copy()\n",
    "        for level in range(len(self.models)):\n",
    "\n",
    "            self.models[level] = self.models[level]\n",
    "            feature_cols = self._get_feature_columns(X, level)\n",
    "\n",
    "            # Append predictions to test DataFrame.\n",
    "            for model_name in self.models[level].keys():\n",
    "                model = self.models[level][model_name]\n",
    "                pred = model.predict_proba(X[feature_cols])[:, 1] \n",
    "                X.loc[:, f\"{model_name}_{level}\"] = pred\n",
    "\n",
    "        # Return last prediction, i.e. top-most model.\n",
    "        return np.c_[1 - pred, pred]\n",
    "\n",
    "    \n",
    "    def _stratified_kfold_cv(self, X, y):\n",
    "        data = X.copy().reset_index(drop=True)\n",
    "        data['target'] = y\n",
    "        data['kfold'] = -1\n",
    "        skf = model_selection.StratifiedKFold(n_splits=self.num_folds)\n",
    "        for fold, (_, val_) in enumerate(skf.split(data, data.target)):\n",
    "            data.loc[val_, \"kfold\"] = fold\n",
    "        return data\n",
    "    \n",
    "    \n",
    "    def _get_feature_columns(self, data, level):\n",
    "        if level == 0:\n",
    "            features = data.drop(['target', 'kfold'], axis=1, errors=\"ignore\")\n",
    "            feature_cols = features.columns.tolist()\n",
    "        else:\n",
    "            prev_level = self.models[level-1].keys()\n",
    "            feature_cols = [f'{name}_{level-1}' for name in prev_level]\n",
    "        return feature_cols\n",
    "\n",
    "    \n",
    "    def _generate_val_preds(self, data, model, verbose):\n",
    "        val_preds = []\n",
    "        val_aucs = []\n",
    "        for j in range(data.kfold.nunique()):\n",
    "            val_pred, val_auc = self._val_pred(data, model, j, verbose)\n",
    "            val_preds.append(val_pred)\n",
    "            val_aucs.append(val_auc)\n",
    "        return np.concatenate(val_preds), val_aucs\n",
    "\n",
    "    \n",
    "    def _val_pred(self, data, model, fold, verbose):\n",
    "        \"Return out-of-fold predictions: train on K-1 folds, predict on fold K.\"\n",
    "\n",
    "        # Get folds; include target and feature cols.\n",
    "        data_trn = data[data.kfold != fold]\n",
    "        data_val = data[data.kfold == fold]\n",
    "        \n",
    "        # Fit model.\n",
    "        model.fit(data_trn, data_trn.target.values)\n",
    "        val_pred = model.predict_proba(data_val)[:, 1] \n",
    "        auc = metrics.roc_auc_score(data_val.target.values, val_pred)\n",
    "        if verbose:\n",
    "            print(f\"fold={fold}, auc={auc}\")\n",
    "\n",
    "        # Return out-of-fold predictions.\n",
    "        return val_pred, auc"
   ]
  },
  {
   "cell_type": "markdown",
   "id": "37bd8de1",
   "metadata": {
    "editable": false,
    "id": "42494105",
    "papermill": {
     "duration": 0.014703,
     "end_time": "2022-01-07T14:10:35.041955",
     "exception": false,
     "start_time": "2022-01-07T14:10:35.027252",
     "status": "completed"
    },
    "tags": []
   },
   "source": [
    "### Blending prediction probabilities"
   ]
  },
  {
   "cell_type": "markdown",
   "id": "6820c84b",
   "metadata": {
    "editable": false,
    "execution": {
     "iopub.execute_input": "2021-08-23T17:34:52.241474Z",
     "iopub.status.busy": "2021-08-23T17:34:52.240952Z",
     "iopub.status.idle": "2021-08-23T17:34:52.256728Z",
     "shell.execute_reply": "2021-08-23T17:34:52.255385Z",
     "shell.execute_reply.started": "2021-08-23T17:34:52.241439Z"
    },
    "id": "eef6d053",
    "papermill": {
     "duration": 0.016845,
     "end_time": "2022-01-07T14:10:35.073807",
     "exception": false,
     "start_time": "2022-01-07T14:10:35.056962",
     "status": "completed"
    },
    "tags": []
   },
   "source": [
    "Let's start with a simple stacked model where we simply perform a weighted average of the prediction probabilities. This method is called **blending**. We will use three base models to generate probabilities. Hopefully these are uncorrelated:\n",
    "1. Logistic Regression + TF-IDF\n",
    "2. Logistic Regression + Count Vectorizer\n",
    "3. Random Forest + TF-IDF + SVD"
   ]
  },
  {
   "cell_type": "code",
   "execution_count": 5,
   "id": "738a338a",
   "metadata": {
    "editable": false,
    "execution": {
     "iopub.execute_input": "2022-01-07T14:10:35.107862Z",
     "iopub.status.busy": "2022-01-07T14:10:35.107551Z",
     "iopub.status.idle": "2022-01-07T14:10:35.108729Z",
     "shell.execute_reply": "2022-01-07T14:10:35.108907Z",
     "shell.execute_reply.started": "2022-01-03T09:38:17.395547Z"
    },
    "id": "3bbc61cf",
    "papermill": {
     "duration": 0.018914,
     "end_time": "2022-01-07T14:10:35.109023",
     "exception": false,
     "start_time": "2022-01-07T14:10:35.090109",
     "status": "completed"
    },
    "tags": []
   },
   "outputs": [],
   "source": [
    "class ReviewColumnExtractor(BaseEstimator, ClassifierMixin):\n",
    "    \"\"\"Extract text column, e.g. letting X = df_train[['review']]\n",
    "    as train dataset for TfidfVectorizer and CountVectorizer does\n",
    "    not work as expected.\"\"\"\n",
    "    \n",
    "    def __init__(self):\n",
    "        pass\n",
    "    \n",
    "    def fit(self, X, y=None):\n",
    "        return self\n",
    "    \n",
    "    def transform(self, X):\n",
    "        return X.review"
   ]
  },
  {
   "cell_type": "markdown",
   "id": "f2fc618b",
   "metadata": {
    "editable": false,
    "id": "767710ae",
    "papermill": {
     "duration": 0.015235,
     "end_time": "2022-01-07T14:10:35.139483",
     "exception": false,
     "start_time": "2022-01-07T14:10:35.124248",
     "status": "completed"
    },
    "tags": []
   },
   "source": [
    "Initialize base models:"
   ]
  },
  {
   "cell_type": "code",
   "execution_count": 6,
   "id": "bff7fccf",
   "metadata": {
    "editable": false,
    "execution": {
     "iopub.execute_input": "2022-01-07T14:10:35.171688Z",
     "iopub.status.busy": "2022-01-07T14:10:35.171396Z",
     "iopub.status.idle": "2022-01-07T14:10:35.172513Z",
     "shell.execute_reply": "2022-01-07T14:10:35.172711Z",
     "shell.execute_reply.started": "2022-01-03T09:38:17.411612Z"
    },
    "id": "efe7c6e5",
    "papermill": {
     "duration": 0.018428,
     "end_time": "2022-01-07T14:10:35.172812",
     "exception": false,
     "start_time": "2022-01-07T14:10:35.154384",
     "status": "completed"
    },
    "tags": []
   },
   "outputs": [],
   "source": [
    "lr = make_pipeline(\n",
    "    ReviewColumnExtractor(),\n",
    "    TfidfVectorizer(max_features=1000),\n",
    "    linear_model.LogisticRegression(random_state=42)\n",
    ")\n",
    "\n",
    "lr_cnt = make_pipeline(\n",
    "    ReviewColumnExtractor(),\n",
    "    CountVectorizer(),\n",
    "    linear_model.LogisticRegression(solver='liblinear', random_state=42)\n",
    ")\n",
    "\n",
    "rf_svd = make_pipeline(\n",
    "    ReviewColumnExtractor(),\n",
    "    TfidfVectorizer(max_features=None),\n",
    "    decomposition.TruncatedSVD(n_components=120, random_state=42),\n",
    "    ensemble.RandomForestClassifier(n_estimators=100, n_jobs=-1, random_state=42)\n",
    ")"
   ]
  },
  {
   "cell_type": "markdown",
   "id": "b3097f64",
   "metadata": {
    "editable": false,
    "id": "f8b3740a",
    "papermill": {
     "duration": 0.014786,
     "end_time": "2022-01-07T14:10:35.202309",
     "exception": false,
     "start_time": "2022-01-07T14:10:35.187523",
     "status": "completed"
    },
    "tags": []
   },
   "source": [
    "Run training:"
   ]
  },
  {
   "cell_type": "code",
   "execution_count": 7,
   "id": "5355b097",
   "metadata": {
    "editable": false,
    "execution": {
     "iopub.execute_input": "2022-01-07T14:10:35.235944Z",
     "iopub.status.busy": "2022-01-07T14:10:35.235095Z",
     "iopub.status.idle": "2022-01-07T14:11:53.259126Z",
     "shell.execute_reply": "2022-01-07T14:11:53.259340Z",
     "shell.execute_reply.started": "2022-01-03T09:38:17.424098Z"
    },
    "id": "166d801f",
    "outputId": "5694267b-47e7-4117-fdf6-0a8b877a1afa",
    "papermill": {
     "duration": 78.042385,
     "end_time": "2022-01-07T14:11:53.259510",
     "exception": false,
     "start_time": "2022-01-07T14:10:35.217125",
     "status": "completed"
    },
    "tags": []
   },
   "outputs": [
    {
     "name": "stdout",
     "output_type": "stream",
     "text": [
      "\n",
      "Level 0 preds: lr\n",
      "fold=0, auc=0.9381197524790099\n",
      "fold=1, auc=0.9324757299029196\n",
      "fold=2, auc=0.9339827359309438\n",
      "fold=3, auc=0.9294992179968721\n",
      "fold=4, auc=0.9271420860696936\n",
      "\n",
      "Level 0 preds: lr_cnt\n",
      "fold=0, auc=0.9485602942411769\n",
      "fold=1, auc=0.9419147676590707\n",
      "fold=2, auc=0.9474275397101588\n",
      "fold=3, auc=0.943625774503098\n",
      "fold=4, auc=0.9382201109952497\n",
      "\n",
      "Level 0 preds: rf_svd\n",
      "fold=0, auc=0.8831412825651302\n",
      "fold=1, auc=0.8762381299525198\n",
      "fold=2, auc=0.8792050168200674\n",
      "fold=3, auc=0.8731112424449698\n",
      "fold=4, auc=0.8795378539601714\n"
     ]
    },
    {
     "data": {
      "text/plain": [
       "<__main__.StackingClassifier at 0x16e29e970>"
      ]
     },
     "execution_count": 7,
     "metadata": {},
     "output_type": "execute_result"
    }
   ],
   "source": [
    "basemodels = {'lr': lr, 'lr_cnt': lr_cnt, 'rf_svd': rf_svd}\n",
    "stack = StackingClassifier([basemodels])\n",
    "stack.fit(X_train, y_train)"
   ]
  },
  {
   "cell_type": "code",
   "execution_count": 8,
   "id": "017b6411",
   "metadata": {
    "execution": {
     "iopub.execute_input": "2022-01-07T14:11:53.303557Z",
     "iopub.status.busy": "2022-01-07T14:11:53.303228Z",
     "iopub.status.idle": "2022-01-07T14:11:53.304661Z",
     "shell.execute_reply": "2022-01-07T14:11:53.304865Z",
     "shell.execute_reply.started": "2022-01-03T09:38:24.969448Z"
    },
    "papermill": {
     "duration": 0.026553,
     "end_time": "2022-01-07T14:11:53.304972",
     "exception": false,
     "start_time": "2022-01-07T14:11:53.278419",
     "status": "completed"
    },
    "tags": []
   },
   "outputs": [
    {
     "data": {
      "text/html": [
       "<div>\n",
       "<style scoped>\n",
       "    .dataframe tbody tr th:only-of-type {\n",
       "        vertical-align: middle;\n",
       "    }\n",
       "\n",
       "    .dataframe tbody tr th {\n",
       "        vertical-align: top;\n",
       "    }\n",
       "\n",
       "    .dataframe thead th {\n",
       "        text-align: right;\n",
       "    }\n",
       "</style>\n",
       "<table border=\"1\" class=\"dataframe\">\n",
       "  <thead>\n",
       "    <tr style=\"text-align: right;\">\n",
       "      <th></th>\n",
       "      <th>lr_0</th>\n",
       "      <th>lr_cnt_0</th>\n",
       "      <th>rf_svd_0</th>\n",
       "    </tr>\n",
       "  </thead>\n",
       "  <tbody>\n",
       "    <tr>\n",
       "      <th>0</th>\n",
       "      <td>0.052181</td>\n",
       "      <td>0.001930</td>\n",
       "      <td>0.27</td>\n",
       "    </tr>\n",
       "    <tr>\n",
       "      <th>1</th>\n",
       "      <td>0.029885</td>\n",
       "      <td>0.000006</td>\n",
       "      <td>0.30</td>\n",
       "    </tr>\n",
       "    <tr>\n",
       "      <th>2</th>\n",
       "      <td>0.052702</td>\n",
       "      <td>0.000440</td>\n",
       "      <td>0.32</td>\n",
       "    </tr>\n",
       "    <tr>\n",
       "      <th>3</th>\n",
       "      <td>0.917899</td>\n",
       "      <td>0.996462</td>\n",
       "      <td>0.65</td>\n",
       "    </tr>\n",
       "    <tr>\n",
       "      <th>4</th>\n",
       "      <td>0.982799</td>\n",
       "      <td>0.999165</td>\n",
       "      <td>0.86</td>\n",
       "    </tr>\n",
       "    <tr>\n",
       "      <th>...</th>\n",
       "      <td>...</td>\n",
       "      <td>...</td>\n",
       "      <td>...</td>\n",
       "    </tr>\n",
       "    <tr>\n",
       "      <th>19995</th>\n",
       "      <td>0.531607</td>\n",
       "      <td>0.047658</td>\n",
       "      <td>0.55</td>\n",
       "    </tr>\n",
       "    <tr>\n",
       "      <th>19996</th>\n",
       "      <td>0.713444</td>\n",
       "      <td>0.999911</td>\n",
       "      <td>0.58</td>\n",
       "    </tr>\n",
       "    <tr>\n",
       "      <th>19997</th>\n",
       "      <td>0.882874</td>\n",
       "      <td>0.992238</td>\n",
       "      <td>0.75</td>\n",
       "    </tr>\n",
       "    <tr>\n",
       "      <th>19998</th>\n",
       "      <td>0.639375</td>\n",
       "      <td>0.907093</td>\n",
       "      <td>0.70</td>\n",
       "    </tr>\n",
       "    <tr>\n",
       "      <th>19999</th>\n",
       "      <td>0.134785</td>\n",
       "      <td>0.000208</td>\n",
       "      <td>0.49</td>\n",
       "    </tr>\n",
       "  </tbody>\n",
       "</table>\n",
       "<p>20000 rows × 3 columns</p>\n",
       "</div>"
      ],
      "text/plain": [
       "           lr_0  lr_cnt_0  rf_svd_0\n",
       "0      0.052181  0.001930      0.27\n",
       "1      0.029885  0.000006      0.30\n",
       "2      0.052702  0.000440      0.32\n",
       "3      0.917899  0.996462      0.65\n",
       "4      0.982799  0.999165      0.86\n",
       "...         ...       ...       ...\n",
       "19995  0.531607  0.047658      0.55\n",
       "19996  0.713444  0.999911      0.58\n",
       "19997  0.882874  0.992238      0.75\n",
       "19998  0.639375  0.907093      0.70\n",
       "19999  0.134785  0.000208      0.49\n",
       "\n",
       "[20000 rows x 3 columns]"
      ]
     },
     "execution_count": 8,
     "metadata": {},
     "output_type": "execute_result"
    }
   ],
   "source": [
    "stack.metafeatures_"
   ]
  },
  {
   "cell_type": "markdown",
   "id": "5b2cf295",
   "metadata": {
    "editable": false,
    "id": "fb619a21",
    "papermill": {
     "duration": 0.016979,
     "end_time": "2022-01-07T14:11:53.343928",
     "exception": false,
     "start_time": "2022-01-07T14:11:53.326949",
     "status": "completed"
    },
    "tags": []
   },
   "source": [
    "Check if basemodels are uncorrelated:"
   ]
  },
  {
   "cell_type": "code",
   "execution_count": 9,
   "id": "4bde526f",
   "metadata": {
    "editable": false,
    "execution": {
     "iopub.execute_input": "2022-01-07T14:11:53.381290Z",
     "iopub.status.busy": "2022-01-07T14:11:53.380976Z",
     "iopub.status.idle": "2022-01-07T14:11:53.384644Z",
     "shell.execute_reply": "2022-01-07T14:11:53.384831Z",
     "shell.execute_reply.started": "2022-01-03T09:38:24.985354Z"
    },
    "id": "334b3b59",
    "outputId": "43ebf3fa-8b42-44f8-a978-e9a0f236be33",
    "papermill": {
     "duration": 0.023383,
     "end_time": "2022-01-07T14:11:53.384927",
     "exception": false,
     "start_time": "2022-01-07T14:11:53.361544",
     "status": "completed"
    },
    "tags": []
   },
   "outputs": [
    {
     "data": {
      "text/html": [
       "<div>\n",
       "<style scoped>\n",
       "    .dataframe tbody tr th:only-of-type {\n",
       "        vertical-align: middle;\n",
       "    }\n",
       "\n",
       "    .dataframe tbody tr th {\n",
       "        vertical-align: top;\n",
       "    }\n",
       "\n",
       "    .dataframe thead th {\n",
       "        text-align: right;\n",
       "    }\n",
       "</style>\n",
       "<table border=\"1\" class=\"dataframe\">\n",
       "  <thead>\n",
       "    <tr style=\"text-align: right;\">\n",
       "      <th></th>\n",
       "      <th>lr_0</th>\n",
       "      <th>lr_cnt_0</th>\n",
       "      <th>rf_svd_0</th>\n",
       "    </tr>\n",
       "  </thead>\n",
       "  <tbody>\n",
       "    <tr>\n",
       "      <th>lr_0</th>\n",
       "      <td>1.000000</td>\n",
       "      <td>0.884571</td>\n",
       "      <td>0.832398</td>\n",
       "    </tr>\n",
       "    <tr>\n",
       "      <th>lr_cnt_0</th>\n",
       "      <td>0.884571</td>\n",
       "      <td>1.000000</td>\n",
       "      <td>0.727050</td>\n",
       "    </tr>\n",
       "    <tr>\n",
       "      <th>rf_svd_0</th>\n",
       "      <td>0.832398</td>\n",
       "      <td>0.727050</td>\n",
       "      <td>1.000000</td>\n",
       "    </tr>\n",
       "  </tbody>\n",
       "</table>\n",
       "</div>"
      ],
      "text/plain": [
       "              lr_0  lr_cnt_0  rf_svd_0\n",
       "lr_0      1.000000  0.884571  0.832398\n",
       "lr_cnt_0  0.884571  1.000000  0.727050\n",
       "rf_svd_0  0.832398  0.727050  1.000000"
      ]
     },
     "execution_count": 9,
     "metadata": {},
     "output_type": "execute_result"
    }
   ],
   "source": [
    "stack.metafeatures_.corr()"
   ]
  },
  {
   "cell_type": "markdown",
   "id": "c8b190b9",
   "metadata": {
    "editable": false,
    "id": "88635821",
    "papermill": {
     "duration": 0.016827,
     "end_time": "2022-01-07T14:11:53.417907",
     "exception": false,
     "start_time": "2022-01-07T14:11:53.401080",
     "status": "completed"
    },
    "tags": []
   },
   "source": [
    "The model saves learned probabilistic features:"
   ]
  },
  {
   "cell_type": "code",
   "execution_count": 10,
   "id": "9b7df112",
   "metadata": {
    "editable": false,
    "execution": {
     "iopub.execute_input": "2022-01-07T14:11:53.454762Z",
     "iopub.status.busy": "2022-01-07T14:11:53.454460Z",
     "iopub.status.idle": "2022-01-07T14:11:53.455937Z",
     "shell.execute_reply": "2022-01-07T14:11:53.456118Z",
     "shell.execute_reply.started": "2022-01-03T09:38:25.005861Z"
    },
    "id": "3278c3b0",
    "outputId": "7dcb431b-d2d2-4fbd-cf20-07f319d12874",
    "papermill": {
     "duration": 0.021627,
     "end_time": "2022-01-07T14:11:53.456214",
     "exception": false,
     "start_time": "2022-01-07T14:11:53.434587",
     "status": "completed"
    },
    "tags": []
   },
   "outputs": [
    {
     "name": "stdout",
     "output_type": "stream",
     "text": [
      "(20000, 3)\n"
     ]
    },
    {
     "data": {
      "text/html": [
       "<div>\n",
       "<style scoped>\n",
       "    .dataframe tbody tr th:only-of-type {\n",
       "        vertical-align: middle;\n",
       "    }\n",
       "\n",
       "    .dataframe tbody tr th {\n",
       "        vertical-align: top;\n",
       "    }\n",
       "\n",
       "    .dataframe thead th {\n",
       "        text-align: right;\n",
       "    }\n",
       "</style>\n",
       "<table border=\"1\" class=\"dataframe\">\n",
       "  <thead>\n",
       "    <tr style=\"text-align: right;\">\n",
       "      <th></th>\n",
       "      <th>lr_0</th>\n",
       "      <th>lr_cnt_0</th>\n",
       "      <th>rf_svd_0</th>\n",
       "    </tr>\n",
       "  </thead>\n",
       "  <tbody>\n",
       "    <tr>\n",
       "      <th>0</th>\n",
       "      <td>0.052181</td>\n",
       "      <td>0.001930</td>\n",
       "      <td>0.27</td>\n",
       "    </tr>\n",
       "    <tr>\n",
       "      <th>1</th>\n",
       "      <td>0.029885</td>\n",
       "      <td>0.000006</td>\n",
       "      <td>0.30</td>\n",
       "    </tr>\n",
       "    <tr>\n",
       "      <th>2</th>\n",
       "      <td>0.052702</td>\n",
       "      <td>0.000440</td>\n",
       "      <td>0.32</td>\n",
       "    </tr>\n",
       "    <tr>\n",
       "      <th>3</th>\n",
       "      <td>0.917899</td>\n",
       "      <td>0.996462</td>\n",
       "      <td>0.65</td>\n",
       "    </tr>\n",
       "    <tr>\n",
       "      <th>4</th>\n",
       "      <td>0.982799</td>\n",
       "      <td>0.999165</td>\n",
       "      <td>0.86</td>\n",
       "    </tr>\n",
       "  </tbody>\n",
       "</table>\n",
       "</div>"
      ],
      "text/plain": [
       "       lr_0  lr_cnt_0  rf_svd_0\n",
       "0  0.052181  0.001930      0.27\n",
       "1  0.029885  0.000006      0.30\n",
       "2  0.052702  0.000440      0.32\n",
       "3  0.917899  0.996462      0.65\n",
       "4  0.982799  0.999165      0.86"
      ]
     },
     "execution_count": 10,
     "metadata": {},
     "output_type": "execute_result"
    }
   ],
   "source": [
    "print(stack.metafeatures_.shape)\n",
    "stack.metafeatures_.head() # predict probas for each example"
   ]
  },
  {
   "cell_type": "markdown",
   "id": "9e049956",
   "metadata": {
    "editable": false,
    "id": "57e2ff2c",
    "papermill": {
     "duration": 0.016683,
     "end_time": "2022-01-07T14:11:53.488979",
     "exception": false,
     "start_time": "2022-01-07T14:11:53.472296",
     "status": "completed"
    },
    "tags": []
   },
   "source": [
    "We can also check scores of the base models on each validation fold. This informs us of the stability of the folds and the cross-validation performance of the base models. "
   ]
  },
  {
   "cell_type": "code",
   "execution_count": 11,
   "id": "494df881",
   "metadata": {
    "editable": false,
    "execution": {
     "iopub.execute_input": "2022-01-07T14:11:53.530010Z",
     "iopub.status.busy": "2022-01-07T14:11:53.529683Z",
     "iopub.status.idle": "2022-01-07T14:11:53.534967Z",
     "shell.execute_reply": "2022-01-07T14:11:53.535207Z",
     "shell.execute_reply.started": "2022-01-03T09:38:25.023344Z"
    },
    "id": "a2750309",
    "outputId": "99bbbea9-8efc-4650-9efd-806fe7a1f3cb",
    "papermill": {
     "duration": 0.029025,
     "end_time": "2022-01-07T14:11:53.535315",
     "exception": false,
     "start_time": "2022-01-07T14:11:53.506290",
     "status": "completed"
    },
    "tags": []
   },
   "outputs": [
    {
     "data": {
      "text/html": [
       "<div>\n",
       "<style scoped>\n",
       "    .dataframe tbody tr th:only-of-type {\n",
       "        vertical-align: middle;\n",
       "    }\n",
       "\n",
       "    .dataframe tbody tr th {\n",
       "        vertical-align: top;\n",
       "    }\n",
       "\n",
       "    .dataframe thead th {\n",
       "        text-align: right;\n",
       "    }\n",
       "</style>\n",
       "<table border=\"1\" class=\"dataframe\">\n",
       "  <thead>\n",
       "    <tr style=\"text-align: right;\">\n",
       "      <th></th>\n",
       "      <th>lr_0</th>\n",
       "      <th>lr_cnt_0</th>\n",
       "      <th>rf_svd_0</th>\n",
       "    </tr>\n",
       "  </thead>\n",
       "  <tbody>\n",
       "    <tr>\n",
       "      <th>mean</th>\n",
       "      <td>0.932244</td>\n",
       "      <td>0.943950</td>\n",
       "      <td>0.878247</td>\n",
       "    </tr>\n",
       "    <tr>\n",
       "      <th>std</th>\n",
       "      <td>0.004218</td>\n",
       "      <td>0.004196</td>\n",
       "      <td>0.003773</td>\n",
       "    </tr>\n",
       "  </tbody>\n",
       "</table>\n",
       "</div>"
      ],
      "text/plain": [
       "          lr_0  lr_cnt_0  rf_svd_0\n",
       "mean  0.932244  0.943950  0.878247\n",
       "std   0.004218  0.004196  0.003773"
      ]
     },
     "execution_count": 11,
     "metadata": {},
     "output_type": "execute_result"
    }
   ],
   "source": [
    "pd.DataFrame(stack.cv_scores_).describe().loc[['mean', 'std']]"
   ]
  },
  {
   "cell_type": "markdown",
   "id": "d566a426",
   "metadata": {
    "editable": false,
    "id": "d491cec1",
    "papermill": {
     "duration": 0.018151,
     "end_time": "2022-01-07T14:11:53.570281",
     "exception": false,
     "start_time": "2022-01-07T14:11:53.552130",
     "status": "completed"
    },
    "tags": []
   },
   "source": [
    "Let's try to blend the probabilities using some hand-designed coefficients."
   ]
  },
  {
   "cell_type": "code",
   "execution_count": 12,
   "id": "75e0ca74",
   "metadata": {
    "editable": false,
    "execution": {
     "iopub.execute_input": "2022-01-07T14:11:53.611109Z",
     "iopub.status.busy": "2022-01-07T14:11:53.610801Z",
     "iopub.status.idle": "2022-01-07T14:11:53.643333Z",
     "shell.execute_reply": "2022-01-07T14:11:53.643621Z",
     "shell.execute_reply.started": "2022-01-03T09:38:25.047993Z"
    },
    "id": "2429bd72",
    "outputId": "6a078541-bb31-4dd2-8ac9-445060683b1b",
    "papermill": {
     "duration": 0.054977,
     "end_time": "2022-01-07T14:11:53.643723",
     "exception": false,
     "start_time": "2022-01-07T14:11:53.588746",
     "status": "completed"
    },
    "tags": []
   },
   "outputs": [
    {
     "name": "stdout",
     "output_type": "stream",
     "text": [
      "Train AUC (averaged):      0.9320632947484941\n",
      "Train AUC (wtd. avg):      0.9333874895288372\n",
      "Train AUC (rank avg):      0.9279256398115597\n",
      "Train AUC (wtd. rank avg): 0.9338361261484154\n"
     ]
    }
   ],
   "source": [
    "# roc is scale invariant, so we dont bother dividing by total weights\n",
    "avg_preds = (stack.metafeatures_ * [1, 1, 1]).sum(axis=1)\n",
    "wtd_preds = (stack.metafeatures_ * [1, 3, 1]).sum(axis=1)\n",
    "rank_avg_preds = (stack.metafeatures_.rank() * [1, 1, 1]).sum(axis=1)\n",
    "rank_wtd_preds = (stack.metafeatures_.rank() * [1, 3, 1]).sum(axis=1)\n",
    "\n",
    "# Calculate AUC over combined OOF preds\n",
    "print(f\"Train AUC (averaged):     \", metrics.roc_auc_score(y_train, avg_preds))\n",
    "print(f\"Train AUC (wtd. avg):     \", metrics.roc_auc_score(y_train, wtd_preds))\n",
    "print(f\"Train AUC (rank avg):     \", metrics.roc_auc_score(y_train, rank_avg_preds)) \n",
    "print(f\"Train AUC (wtd. rank avg):\", metrics.roc_auc_score(y_train, rank_wtd_preds))"
   ]
  },
  {
   "cell_type": "markdown",
   "id": "1f4e40e3",
   "metadata": {
    "papermill": {
     "duration": 0.017455,
     "end_time": "2022-01-07T14:11:53.677585",
     "exception": false,
     "start_time": "2022-01-07T14:11:53.660130",
     "status": "completed"
    },
    "tags": []
   },
   "source": [
    "### Blending coefficients that optimize AUC"
   ]
  },
  {
   "cell_type": "markdown",
   "id": "68ae6fcb",
   "metadata": {
    "editable": false,
    "id": "289771ae",
    "papermill": {
     "duration": 0.026984,
     "end_time": "2022-01-07T14:11:53.723328",
     "exception": false,
     "start_time": "2022-01-07T14:11:53.696344",
     "status": "completed"
    },
    "tags": []
   },
   "source": [
    "Since these coefficients are hand-designed, we may want to devise a strategy for automatically finding the optimal coefficients for blending. This is accomplished by the folowing class."
   ]
  },
  {
   "cell_type": "code",
   "execution_count": 13,
   "id": "2197dca3",
   "metadata": {
    "editable": false,
    "execution": {
     "iopub.execute_input": "2022-01-07T14:11:53.777748Z",
     "iopub.status.busy": "2022-01-07T14:11:53.777382Z",
     "iopub.status.idle": "2022-01-07T14:11:53.778608Z",
     "shell.execute_reply": "2022-01-07T14:11:53.778868Z",
     "shell.execute_reply.started": "2022-01-03T09:38:25.072447Z"
    },
    "id": "29872038",
    "papermill": {
     "duration": 0.036372,
     "end_time": "2022-01-07T14:11:53.778992",
     "exception": false,
     "start_time": "2022-01-07T14:11:53.742620",
     "status": "completed"
    },
    "tags": []
   },
   "outputs": [],
   "source": [
    "class Blender(BaseEstimator, ClassifierMixin):\n",
    "    \"\"\"Implement blending that maximizes AUC score.\"\"\"\n",
    "    \n",
    "    def __init__(self, rank=False, random_state=42):\n",
    "        self.coef_ = None\n",
    "        self.rank = rank\n",
    "        self.random_state = random_state\n",
    "\n",
    "    def fit(self, X, y):\n",
    "        \"\"\"Find optimal blending coefficients.\"\"\"\n",
    "        \n",
    "        if self.rank:\n",
    "            X = X.rank()\n",
    "\n",
    "        self.coef_ = self._optimize_auc(X, y)\n",
    "        return self\n",
    "\n",
    "    def predict_proba(self, X):\n",
    "        \"\"\"Return blended probabilities for class 0 and class 1.\"\"\"\n",
    "        \n",
    "        if self.rank:\n",
    "            X = X.rank()\n",
    "            \n",
    "        pred = np.sum(X * self.coef_, axis=1)\n",
    "        return np.c_[1 - pred, pred]\n",
    "\n",
    "    def _auc(self, coef, X, y):\n",
    "        \"\"\"Calculate AUC of blended predict probas.\"\"\"\n",
    "\n",
    "        auc = metrics.roc_auc_score(y, np.sum(X * coef, axis=1))\n",
    "        return -1.0 * auc # min -auc = max auc\n",
    "    \n",
    "    def _optimize_auc(self, X, y):\n",
    "        \"\"\"Maximize AUC as a bound-constrained optimization problem using Nelder-Mead \n",
    "        method with Dirichlet init. \n",
    "        \n",
    "        Reference: \n",
    "        https://docs.scipy.org/doc/scipy/reference/generated/scipy.optimize.minimize.html\n",
    "        \"\"\"\n",
    "        partial_loss = partial(self._auc, X=X, y=y) \n",
    "        rng = np.random.RandomState(self.random_state)\n",
    "        init_coef = rng.dirichlet(np.ones(X.shape[1]))\n",
    "        return minimize(partial_loss, init_coef, \n",
    "                        method='Nelder-Mead', \n",
    "                        bounds=[(0, 1)]*X.shape[1])['x']"
   ]
  },
  {
   "cell_type": "markdown",
   "id": "31a803da",
   "metadata": {
    "editable": false,
    "id": "5b09fb0a",
    "papermill": {
     "duration": 0.021173,
     "end_time": "2022-01-07T14:11:53.820693",
     "exception": false,
     "start_time": "2022-01-07T14:11:53.799520",
     "status": "completed"
    },
    "tags": []
   },
   "source": [
    "This implementation uses `partial` from `functools` and `minimize` from `scipy.optimize` to minimize the coefficients constained in $(0, 1).$ The initial values of the coefficient are drawn from a Dirichlet distribution $\\operatorname{Dir}(\\boldsymbol{\\alpha})$ with $\\boldsymbol{\\alpha} = [1, 1, 1].$"
   ]
  },
  {
   "cell_type": "code",
   "execution_count": 14,
   "id": "26caa7b2",
   "metadata": {
    "editable": false,
    "execution": {
     "iopub.execute_input": "2022-01-07T14:11:53.868473Z",
     "iopub.status.busy": "2022-01-07T14:11:53.867767Z",
     "iopub.status.idle": "2022-01-07T14:11:54.918629Z",
     "shell.execute_reply": "2022-01-07T14:11:54.918842Z",
     "shell.execute_reply.started": "2022-01-03T09:38:25.085816Z"
    },
    "id": "52fbbcfd",
    "outputId": "a589904b-db25-4200-fa04-bd80dceaf659",
    "papermill": {
     "duration": 1.078064,
     "end_time": "2022-01-07T14:11:54.918991",
     "exception": false,
     "start_time": "2022-01-07T14:11:53.840927",
     "status": "completed"
    },
    "tags": []
   },
   "outputs": [
    {
     "name": "stdout",
     "output_type": "stream",
     "text": [
      "Train AUC (Blended):     0.9335436800926852\n",
      "Train AUC (Blended rk.): 0.9343620830471198\n"
     ]
    }
   ],
   "source": [
    "# Blended predictions\n",
    "blender = Blender()\n",
    "blender.fit(stack.metafeatures_, y_train)\n",
    "combined_oof_preds = blender.predict_proba(stack.metafeatures_)[:, 1]\n",
    "\n",
    "# Blended ranked predictions\n",
    "blender_rk = Blender(rank=True)\n",
    "blender_rk.fit(stack.metafeatures_, y_train)\n",
    "combined_oof_rk_preds = blender_rk.predict_proba(stack.metafeatures_)[:, 1]\n",
    "\n",
    "print(f\"Train AUC (Blended):    \", metrics.roc_auc_score(y_train, combined_oof_preds))\n",
    "print(f\"Train AUC (Blended rk.):\", metrics.roc_auc_score(y_train, combined_oof_rk_preds))"
   ]
  },
  {
   "cell_type": "markdown",
   "id": "e80e46f4",
   "metadata": {
    "editable": false,
    "id": "468c1747",
    "papermill": {
     "duration": 0.01904,
     "end_time": "2022-01-07T14:11:54.957847",
     "exception": false,
     "start_time": "2022-01-07T14:11:54.938807",
     "status": "completed"
    },
    "tags": []
   },
   "source": [
    "These scores beat the scores for hand-designed ones. Note that the model is not overfitted. This motivates why we take out-of-fold predictions to create meta-features. In fact, the train AUC should be a good approximation of the test AUC. Calculating the train AUC on the entire out-of-fold predictions involves tracking the rows of the confusion matrix that is the sum of the confusion matrices for each fold, over all thresholds. On the other hand, the average AUC scores on CV folds involves tracking each confusion matrix separately to compute the AUC, then averaging the resulting individual AUCs. Thus, train and test AUCs should be similar to cross-validation scores, if error is well-distributed between folds."
   ]
  },
  {
   "cell_type": "markdown",
   "id": "f2475ed2",
   "metadata": {
    "papermill": {
     "duration": 0.018748,
     "end_time": "2022-01-07T14:11:54.995392",
     "exception": false,
     "start_time": "2022-01-07T14:11:54.976644",
     "status": "completed"
    },
    "tags": []
   },
   "source": [
    "We don't want to retrain the stacked models with the blender at the top. So we just hack into the trained models to make inference on the test set."
   ]
  },
  {
   "cell_type": "code",
   "execution_count": 15,
   "id": "47cc38fe",
   "metadata": {
    "editable": false,
    "execution": {
     "iopub.execute_input": "2022-01-07T14:11:55.122806Z",
     "iopub.status.busy": "2022-01-07T14:11:55.079513Z",
     "iopub.status.idle": "2022-01-07T14:11:56.708049Z",
     "shell.execute_reply": "2022-01-07T14:11:56.708325Z",
     "shell.execute_reply.started": "2022-01-03T09:38:25.421637Z"
    },
    "id": "97c43440",
    "outputId": "d7b36210-acb6-4607-d125-844240a299f8",
    "papermill": {
     "duration": 1.693857,
     "end_time": "2022-01-07T14:11:56.708441",
     "exception": false,
     "start_time": "2022-01-07T14:11:55.014584",
     "status": "completed"
    },
    "tags": []
   },
   "outputs": [
    {
     "name": "stdout",
     "output_type": "stream",
     "text": [
      "Test AUC (Blended):     0.9537213269438443\n",
      "Test AUC (Blended rk.): 0.9535875592174204\n"
     ]
    }
   ],
   "source": [
    "# Inference\n",
    "test_features = []\n",
    "for model_name in stack.models[0].keys():\n",
    "    test_features.append(stack.models[0][model_name].predict_proba(X_test)[:, 1])\n",
    "\n",
    "test_features = pd.DataFrame(test_features).T\n",
    "test_pred = blender.predict_proba(test_features)[:, 1]\n",
    "test_rk_pred = blender_rk.predict_proba(test_features)[:, 1]\n",
    "\n",
    "print('Test AUC (Blended):    ', metrics.roc_auc_score(y_test, test_pred))\n",
    "print('Test AUC (Blended rk.):', metrics.roc_auc_score(y_test, test_rk_pred))"
   ]
  },
  {
   "cell_type": "markdown",
   "id": "b696a63f",
   "metadata": {
    "papermill": {
     "duration": 0.020323,
     "end_time": "2022-01-07T14:11:56.749180",
     "exception": false,
     "start_time": "2022-01-07T14:11:56.728857",
     "status": "completed"
    },
    "tags": []
   },
   "source": [
    "### Blender as final stacker"
   ]
  },
  {
   "cell_type": "markdown",
   "id": "95b85474",
   "metadata": {
    "papermill": {
     "duration": 0.020302,
     "end_time": "2022-01-07T14:11:56.789849",
     "exception": false,
     "start_time": "2022-01-07T14:11:56.769547",
     "status": "completed"
    },
    "tags": []
   },
   "source": [
    "Actually, let's do that. Seems all stochasticity has been taken care of!"
   ]
  },
  {
   "cell_type": "code",
   "execution_count": 16,
   "id": "f9992d69",
   "metadata": {
    "execution": {
     "iopub.execute_input": "2022-01-07T14:11:56.833674Z",
     "iopub.status.busy": "2022-01-07T14:11:56.833346Z",
     "iopub.status.idle": "2022-01-07T14:14:51.615659Z",
     "shell.execute_reply": "2022-01-07T14:14:51.615994Z",
     "shell.execute_reply.started": "2022-01-03T09:38:25.608176Z"
    },
    "papermill": {
     "duration": 174.806638,
     "end_time": "2022-01-07T14:14:51.616181",
     "exception": false,
     "start_time": "2022-01-07T14:11:56.809543",
     "status": "completed"
    },
    "tags": []
   },
   "outputs": [
    {
     "name": "stdout",
     "output_type": "stream",
     "text": [
      "Test AUC (Blended):     0.9537213269438443\n",
      "Test AUC (Blended rk.): 0.9535875592174204\n"
     ]
    }
   ],
   "source": [
    "stack = StackingClassifier([basemodels, {'blender': Blender()}], verbose=False)\n",
    "stack.fit(X_train, y_train)\n",
    "\n",
    "stack_rk = StackingClassifier([basemodels, {'blender_rk': Blender(rank=True)}], verbose=False)\n",
    "stack_rk.fit(X_train, y_train)\n",
    "\n",
    "print('Test AUC (Blended):    ', metrics.roc_auc_score(y_test, stack.predict_proba(X_test)[:, 1]))\n",
    "print('Test AUC (Blended rk.):', metrics.roc_auc_score(y_test, stack_rk.predict_proba(X_test)[:, 1]))"
   ]
  },
  {
   "cell_type": "markdown",
   "id": "4b5e3829",
   "metadata": {
    "editable": false,
    "id": "a20d8200",
    "papermill": {
     "duration": 0.02259,
     "end_time": "2022-01-07T14:14:51.667395",
     "exception": false,
     "start_time": "2022-01-07T14:14:51.644805",
     "status": "completed"
    },
    "tags": []
   },
   "source": [
    ":::{tip}\n",
    "Using blended **rank probabilities** is a good trick when optimizing AUC score. Here individual probabilities are replaced by their rank index. Recall that AUC only cares about the predict probability of a randomly chosen negative examples to be assigned lower predict proba than a randomly chosen positive example. Note that this only works for ensembles; for single models using rank probabilities does not affect AUC score.\n",
    ":::"
   ]
  },
  {
   "cell_type": "markdown",
   "id": "c68437ac",
   "metadata": {
    "editable": false,
    "id": "033f7e39",
    "papermill": {
     "duration": 0.022829,
     "end_time": "2022-01-07T14:14:51.712395",
     "exception": false,
     "start_time": "2022-01-07T14:14:51.689566",
     "status": "completed"
    },
    "tags": []
   },
   "source": [
    "### XGBoost classifier as final stacker"
   ]
  },
  {
   "cell_type": "markdown",
   "id": "3c263b09",
   "metadata": {
    "editable": false,
    "id": "98f895d7",
    "papermill": {
     "duration": 0.022119,
     "end_time": "2022-01-07T14:14:51.756826",
     "exception": false,
     "start_time": "2022-01-07T14:14:51.734707",
     "status": "completed"
    },
    "tags": []
   },
   "source": [
    "Blending can be easily generalized to any machine learning model that learns and predicts with the meta-features. For example, we can train an `XGBoostClassifier` on the meta-features."
   ]
  },
  {
   "cell_type": "code",
   "execution_count": 17,
   "id": "d8d4e18c",
   "metadata": {
    "editable": false,
    "execution": {
     "iopub.execute_input": "2022-01-07T14:14:51.815271Z",
     "iopub.status.busy": "2022-01-07T14:14:51.814574Z",
     "iopub.status.idle": "2022-01-07T14:16:20.351079Z",
     "shell.execute_reply": "2022-01-07T14:16:20.351574Z",
     "shell.execute_reply.started": "2022-01-03T09:38:43.558886Z"
    },
    "id": "9d4a3eee",
    "outputId": "1e5102cf-7e96-4214-a610-fe99b05c5d54",
    "papermill": {
     "duration": 88.573235,
     "end_time": "2022-01-07T14:16:20.351907",
     "exception": false,
     "start_time": "2022-01-07T14:14:51.778672",
     "status": "completed"
    },
    "tags": []
   },
   "outputs": [
    {
     "name": "stdout",
     "output_type": "stream",
     "text": [
      "\n",
      "Level 0 preds: lr\n",
      "fold=0, auc=0.9381197524790099\n",
      "fold=1, auc=0.9324757299029196\n",
      "fold=2, auc=0.9339827359309438\n",
      "fold=3, auc=0.9294992179968721\n",
      "fold=4, auc=0.9271420860696936\n",
      "\n",
      "Level 0 preds: lr_cnt\n",
      "fold=0, auc=0.9485602942411769\n",
      "fold=1, auc=0.9419147676590707\n",
      "fold=2, auc=0.9474275397101588\n",
      "fold=3, auc=0.943625774503098\n",
      "fold=4, auc=0.9382201109952497\n",
      "\n",
      "Level 0 preds: rf_svd\n",
      "fold=0, auc=0.8831412825651302\n",
      "fold=1, auc=0.8762381299525198\n",
      "fold=2, auc=0.8792050168200674\n",
      "fold=3, auc=0.8731112424449698\n",
      "fold=4, auc=0.8795378539601714\n",
      "\n",
      "Level 1 preds: xgb\n",
      "fold=0, auc=1.0\n",
      "fold=1, auc=1.0\n",
      "fold=2, auc=1.0\n",
      "fold=3, auc=1.0\n",
      "fold=4, auc=1.0\n"
     ]
    },
    {
     "data": {
      "text/plain": [
       "<__main__.StackingClassifier at 0x16e45bcd0>"
      ]
     },
     "execution_count": 17,
     "metadata": {},
     "output_type": "execute_result"
    }
   ],
   "source": [
    "basemodels = {'lr': lr, 'lr_cnt': lr_cnt, 'rf_svd': rf_svd}\n",
    "metamodel = {'xgb': XGBClassifier(eval_metric=\"logloss\", use_label_encoder=False)}\n",
    "stack = StackingClassifier([basemodels, metamodel])\n",
    "stack.fit(X_train, y_train)"
   ]
  },
  {
   "cell_type": "code",
   "execution_count": 18,
   "id": "4068e0ad",
   "metadata": {
    "editable": false,
    "execution": {
     "iopub.execute_input": "2022-01-07T14:16:20.461618Z",
     "iopub.status.busy": "2022-01-07T14:16:20.418269Z",
     "iopub.status.idle": "2022-01-07T14:16:29.226868Z",
     "shell.execute_reply": "2022-01-07T14:16:29.227247Z",
     "shell.execute_reply.started": "2022-01-03T09:38:52.567083Z"
    },
    "id": "96b0b35f",
    "outputId": "1f8cf851-5e91-49fb-b304-39581f6c4e01",
    "papermill": {
     "duration": 8.845222,
     "end_time": "2022-01-07T14:16:29.227492",
     "exception": false,
     "start_time": "2022-01-07T14:16:20.382270",
     "status": "completed"
    },
    "tags": []
   },
   "outputs": [
    {
     "name": "stdout",
     "output_type": "stream",
     "text": [
      "Train AUC (XGB stack): 0.9998198793497644\n",
      "Test  AUC (XGB stack): 0.9490586576280645\n"
     ]
    }
   ],
   "source": [
    "print(f\"Train AUC (XGB stack):\", metrics.roc_auc_score(y_train, stack.predict_proba(X_train)[:, 1]))\n",
    "print(f\"Test  AUC (XGB stack):\", metrics.roc_auc_score(y_test, stack.predict_proba(X_test)[:, 1]))"
   ]
  },
  {
   "cell_type": "code",
   "execution_count": 19,
   "id": "a8c6f0e4",
   "metadata": {
    "editable": false,
    "execution": {
     "iopub.execute_input": "2022-01-07T14:16:29.295672Z",
     "iopub.status.busy": "2022-01-07T14:16:29.295140Z",
     "iopub.status.idle": "2022-01-07T14:16:29.297325Z",
     "shell.execute_reply": "2022-01-07T14:16:29.297771Z",
     "shell.execute_reply.started": "2022-01-03T09:38:53.093515Z"
    },
    "id": "ff8fcd4b",
    "outputId": "ff07b3aa-1859-488d-8d43-f0352c4686cb",
    "papermill": {
     "duration": 0.043698,
     "end_time": "2022-01-07T14:16:29.297930",
     "exception": false,
     "start_time": "2022-01-07T14:16:29.254232",
     "status": "completed"
    },
    "tags": []
   },
   "outputs": [
    {
     "data": {
      "text/html": [
       "<div>\n",
       "<style scoped>\n",
       "    .dataframe tbody tr th:only-of-type {\n",
       "        vertical-align: middle;\n",
       "    }\n",
       "\n",
       "    .dataframe tbody tr th {\n",
       "        vertical-align: top;\n",
       "    }\n",
       "\n",
       "    .dataframe thead th {\n",
       "        text-align: right;\n",
       "    }\n",
       "</style>\n",
       "<table border=\"1\" class=\"dataframe\">\n",
       "  <thead>\n",
       "    <tr style=\"text-align: right;\">\n",
       "      <th></th>\n",
       "      <th>lr_0</th>\n",
       "      <th>lr_cnt_0</th>\n",
       "      <th>rf_svd_0</th>\n",
       "      <th>xgb_1</th>\n",
       "    </tr>\n",
       "  </thead>\n",
       "  <tbody>\n",
       "    <tr>\n",
       "      <th>mean</th>\n",
       "      <td>0.932244</td>\n",
       "      <td>0.943950</td>\n",
       "      <td>0.878247</td>\n",
       "      <td>1.0</td>\n",
       "    </tr>\n",
       "    <tr>\n",
       "      <th>std</th>\n",
       "      <td>0.004218</td>\n",
       "      <td>0.004196</td>\n",
       "      <td>0.003773</td>\n",
       "      <td>0.0</td>\n",
       "    </tr>\n",
       "  </tbody>\n",
       "</table>\n",
       "</div>"
      ],
      "text/plain": [
       "          lr_0  lr_cnt_0  rf_svd_0  xgb_1\n",
       "mean  0.932244  0.943950  0.878247    1.0\n",
       "std   0.004218  0.004196  0.003773    0.0"
      ]
     },
     "execution_count": 19,
     "metadata": {},
     "output_type": "execute_result"
    }
   ],
   "source": [
    "pd.DataFrame(stack.cv_scores_).describe().loc[['mean', 'std']]"
   ]
  },
  {
   "cell_type": "markdown",
   "id": "c48a026a",
   "metadata": {
    "editable": false,
    "id": "7245ea4a",
    "papermill": {
     "duration": 0.025367,
     "end_time": "2022-01-07T14:16:29.348796",
     "exception": false,
     "start_time": "2022-01-07T14:16:29.323429",
     "status": "completed"
    },
    "tags": []
   },
   "source": [
    "Observe that cross-validated AUC scores is indicative of test performance. Meanwhile, train AUC is useless. A better estimate is the mean cross-validation AUC score. If we assume that each fold has the same error distribution, then this should approximate the test AUC which can be thought of as predicting on another fold. Indeed, the above results supports this."
   ]
  },
  {
   "cell_type": "markdown",
   "id": "0d73bbbc",
   "metadata": {
    "editable": false,
    "id": "c8131d00",
    "papermill": {
     "duration": 0.02748,
     "end_time": "2022-01-07T14:16:29.404765",
     "exception": false,
     "start_time": "2022-01-07T14:16:29.377285",
     "status": "completed"
    },
    "tags": []
   },
   "source": [
    "## Parallelizing Model Training"
   ]
  },
  {
   "cell_type": "markdown",
   "id": "5fcd2b46",
   "metadata": {
    "editable": false,
    "id": "b301de4e",
    "papermill": {
     "duration": 0.030979,
     "end_time": "2022-01-07T14:16:29.463308",
     "exception": false,
     "start_time": "2022-01-07T14:16:29.432329",
     "status": "completed"
    },
    "tags": []
   },
   "source": [
    "Generating features require training each model on each fold. This is very slow. Note that each training process are independent of each other (they only use static features from the previous level), so in principle can be easily parallelized. For this task, we parallelize only the training on cross-validation folds. During inference, parallelizing results in worse times, likely due to overhead. \n",
    "\n",
    "We implement parallelizing training on CV folds using `joblib.Parallel`. Some remarks:\n",
    "\n",
    "* Setting `backend='loky'` is important. On a Macbook 2015 with Mojave 10.14.6, setting `backend='multiprocessing'` with an XGBoost classifier causes training to hang. In a Kaggle kernel, `multiprocessing` doesn't seem to work at all, even without using an XGBoost model. Using the `loky` backend seems to work consistently across platforms. \n",
    "\n",
    "+++\n",
    "\n",
    "* Setting `nthread=1` for XGBClassifier decreases train trime from ~250s to ~100s with backend `loky` and `n_jobs=-1`. Note that the former time is way worse than sequential evaluation. \n",
    "\n",
    "+++\n",
    "\n",
    "* Joblib pickles every object used inside `Parallel`. Best to use stateless objects. Careful about shared memory. Using `n_jobs=1` turns off parallel computing for debugging.\n",
    "\n",
    "Results below show that there is significant speed up with parallelization using the `loky` backend. Consider this implementation the current stable version of our implementation of stacking in this notebook."
   ]
  },
  {
   "cell_type": "markdown",
   "id": "f485658f",
   "metadata": {
    "editable": false,
    "id": "7c42b261",
    "papermill": {
     "duration": 0.03645,
     "end_time": "2022-01-07T14:16:29.541979",
     "exception": false,
     "start_time": "2022-01-07T14:16:29.505529",
     "status": "completed"
    },
    "tags": []
   },
   "source": [
    "### Adding workers to `StackingClassifier` using `joblib.Parallel`"
   ]
  },
  {
   "cell_type": "code",
   "execution_count": 20,
   "id": "928dc8c0",
   "metadata": {
    "editable": false,
    "execution": {
     "iopub.execute_input": "2022-01-07T14:16:29.600861Z",
     "iopub.status.busy": "2022-01-07T14:16:29.600483Z",
     "iopub.status.idle": "2022-01-07T14:16:29.603085Z",
     "shell.execute_reply": "2022-01-07T14:16:29.604099Z",
     "shell.execute_reply.started": "2022-01-03T09:38:53.121891Z"
    },
    "id": "faba716c",
    "papermill": {
     "duration": 0.038589,
     "end_time": "2022-01-07T14:16:29.604360",
     "exception": false,
     "start_time": "2022-01-07T14:16:29.565771",
     "status": "completed"
    },
    "tags": []
   },
   "outputs": [],
   "source": [
    "class LinearRegressionClassifier(BaseEstimator, ClassifierMixin):\n",
    "    \"\"\"Linear regression for model-based AUC optimization.\n",
    "    Note that we transform probabilities to rank probabilities!\"\"\"\n",
    "    \n",
    "    def __init__(self): \n",
    "        self.lr = linear_model.LinearRegression()\n",
    "        \n",
    "    def fit(self, X, y):\n",
    "        self.lr.fit(pd.DataFrame(X).rank(), y)\n",
    "        return self\n",
    "        \n",
    "    def predict_proba(self, X):\n",
    "        return np.c_[[0]*len(X), self.lr.predict(pd.DataFrame(X).rank())]"
   ]
  },
  {
   "cell_type": "markdown",
   "id": "89fea235",
   "metadata": {
    "papermill": {
     "duration": 0.025073,
     "end_time": "2022-01-07T14:16:29.655259",
     "exception": false,
     "start_time": "2022-01-07T14:16:29.630186",
     "status": "completed"
    },
    "tags": []
   },
   "source": [
    "This defines a linear regression ranking model. Next, we finally implement stacking with parallelism."
   ]
  },
  {
   "cell_type": "code",
   "execution_count": 21,
   "id": "c24cb643",
   "metadata": {
    "execution": {
     "iopub.execute_input": "2022-01-07T14:16:29.726064Z",
     "iopub.status.busy": "2022-01-07T14:16:29.723767Z",
     "iopub.status.idle": "2022-01-07T14:16:29.727891Z",
     "shell.execute_reply": "2022-01-07T14:16:29.728117Z",
     "shell.execute_reply.started": "2022-01-03T09:38:53.129901Z"
    },
    "papermill": {
     "duration": 0.046072,
     "end_time": "2022-01-07T14:16:29.728239",
     "exception": false,
     "start_time": "2022-01-07T14:16:29.682167",
     "status": "completed"
    },
    "tags": []
   },
   "outputs": [],
   "source": [
    "class StackingClassifierParallel:\n",
    "    \"\"\"Implements model stacking for classification.\"\"\"\n",
    "    \n",
    "    def __init__(self, \n",
    "        models: List[Dict[str, Any]], \n",
    "        num_folds: int = NUM_FOLDS,\n",
    "        n_jobs: int = 1, \n",
    "        backend: str = 'loky',\n",
    "        verbose: int=1):\n",
    "        \"\"\"\n",
    "        Initialize by passing list of model dictionaries for each level.\n",
    "\n",
    "        Parameters\n",
    "        ---\n",
    "        models: List of dictionaries of name model pairs for each level. \n",
    "        verbose: Verbosity level.\n",
    "        num_folds: No. of CV folds.\n",
    "        n_jobs:  passed to an internal joblib.Parallel object\n",
    "        backend: passed to an internal joblib.Parallel object\n",
    "        verbose: passed to an internal joblib.Parallel object\n",
    "        See: https://joblib.readthedocs.io/en/latest/generated/joblib.Parallel.html\n",
    "        \n",
    "        Example:\n",
    "        >>> models = [\n",
    "            {'level1_model1': level1_model1, 'level2_model2': level2_model2},\n",
    "            {'level2_model1': level2_model1},\n",
    "        ]\n",
    "        >>> stacked_model = StackingClassifier(models)\n",
    "        \"\"\"\n",
    "        self.models = [{name: clone(level[name]) for name in level} for level in models]\n",
    "        self.cv_scores_ = {}\n",
    "        self.metafeatures_ = None\n",
    "        self.verbose = verbose\n",
    "        self.num_folds = num_folds\n",
    "        self.n_jobs = n_jobs\n",
    "        self.backend = backend\n",
    "        self.verbose = verbose\n",
    "\n",
    "        \n",
    "    def fit(self, X: pd.DataFrame, y: np.array):\n",
    "        \"\"\"\n",
    "        Fit classifier. CV strategy: stratified 5-fold.\n",
    "        Inputs:\n",
    "            X (DataFrame) - features\n",
    "            y (numpy array) - targets\n",
    "        \"\"\"\n",
    "        # Create folds (add \"kfold\" column)\n",
    "        train = self._stratified_kfold_cv(X, y)\n",
    "\n",
    "        # Iterating over all stacking levels and over all models\n",
    "        for level in range(len(self.models)):\n",
    "\n",
    "            # (1) Get features from predictions of models in the previous level.\n",
    "            feature_cols = self._get_feature_columns(train, level)\n",
    "            features = train[['target', 'kfold'] + feature_cols] \n",
    "                \n",
    "            # Parallel context manager: prevents discarding workers for each model.\n",
    "            with Parallel(n_jobs=self.n_jobs, backend=self.backend, verbose=self.verbose) as parallel:\n",
    "                \n",
    "                # (2) Create features for next level models using current predictions. \n",
    "                for model_name in tqdm(self.models[level].keys(), leave=False):\n",
    "                    if self.verbose:\n",
    "                        print(f'\\nLevel {level} preds: {model_name}')\n",
    "                                    \n",
    "                    model = self.models[level][model_name]\n",
    "                    preds, aucs = self._generate_fold_preds(\n",
    "                        parallel, features, model, self.verbose)\n",
    "                                        \n",
    "                    train[f'{model_name}_{level}'] = np.concatenate(preds)\n",
    "                    self.cv_scores_[f'{model_name}_{level}'] = aucs\n",
    "                    \n",
    "                    # Train models on entire feature columns for inference.\n",
    "                    model.fit(train[feature_cols], train.target.values) \n",
    "        \n",
    "        # Save learned metafeatures\n",
    "        levels = len(self.models)\n",
    "        metafeatures = [f'{n}_{m}' for m in range(levels) for n in self.models[m].keys()]\n",
    "        self.metafeatures_ = train[metafeatures]\n",
    "        \n",
    "        return self\n",
    "        \n",
    "\n",
    "    def predict_proba(self, X):\n",
    "        \"\"\"Return classification probabilities.\"\"\"\n",
    "        \n",
    "        # Iterate over layers to make predictions.\n",
    "        X = X.copy()\n",
    "        for level in range(len(self.models)):\n",
    "\n",
    "            self.models[level] = self.models[level]\n",
    "            feature_cols = self._get_feature_columns(X, level)\n",
    "\n",
    "            # Append predictions to test DataFrame.\n",
    "            for model_name in self.models[level].keys():\n",
    "                model = self.models[level][model_name]\n",
    "                pred = model.predict_proba(X[feature_cols])[:, 1] \n",
    "                X.loc[:, f\"{model_name}_{level}\"] = pred\n",
    "\n",
    "        # Return last prediction, i.e. top-most model.\n",
    "        return np.c_[1 - pred, pred]\n",
    "\n",
    "    \n",
    "    def _stratified_kfold_cv(self, X, y):\n",
    "        data = X.copy().reset_index(drop=True)\n",
    "        data['target'] = y\n",
    "        data['kfold'] = -1\n",
    "        skf = model_selection.StratifiedKFold(n_splits=self.num_folds)\n",
    "        for fold, (_, val_) in enumerate(skf.split(data, data.target)):\n",
    "            data.loc[val_, \"kfold\"] = fold\n",
    "        return data\n",
    "    \n",
    "    \n",
    "    def _get_feature_columns(self, data, level):\n",
    "        if level == 0:\n",
    "            features = data.drop(['target', 'kfold'], axis=1, errors=\"ignore\")\n",
    "            feature_cols = features.columns.tolist()\n",
    "        else:\n",
    "            prev_level = self.models[level-1].keys()\n",
    "            feature_cols = [f'{name}_{level-1}' for name in prev_level]\n",
    "        return feature_cols\n",
    "\n",
    "    \n",
    "    def _generate_fold_preds(self, parallel, data, model, verbose):\n",
    "        # We clone the model inside to not mess with the random seed.\n",
    "        out = parallel(\n",
    "            delayed(self._predict_fold)(data, clone(model), fold, verbose) \n",
    "            for fold in data.kfold.unique()\n",
    "        )\n",
    "        return list(zip(*out))\n",
    "\n",
    "    \n",
    "    def _predict_fold(self, data, model, fold, verbose):\n",
    "        \"Return out-of-fold predictions: train on K-1 folds, predict on fold K.\"\n",
    "\n",
    "        # Get folds; include target and feature cols.\n",
    "        data_trn = data[data.kfold != fold]\n",
    "        data_val = data[data.kfold == fold]\n",
    "        \n",
    "        # Fit model.\n",
    "        model.fit(data_trn, data_trn.target.values)\n",
    "        val_pred = model.predict_proba(data_val)[:, 1] \n",
    "        auc = metrics.roc_auc_score(data_val.target.values, val_pred)\n",
    "        if verbose:\n",
    "            print(f\"fold={fold}, auc={auc}\")\n",
    "\n",
    "        # Return out-of-fold predictions.\n",
    "        return val_pred, auc"
   ]
  },
  {
   "cell_type": "markdown",
   "id": "268295d4",
   "metadata": {
    "papermill": {
     "duration": 0.028274,
     "end_time": "2022-01-07T14:16:29.783043",
     "exception": false,
     "start_time": "2022-01-07T14:16:29.754769",
     "status": "completed"
    },
    "tags": []
   },
   "source": [
    "Note that `StackingClassifierParallel` is not a scikit-learn estimator, so it cannot be used inside pipelines. That should be fine since we tend to tune the base models individually anyway as the complexity of hyperparameter search increasing exponentially in the number of hyperparameters."
   ]
  },
  {
   "cell_type": "markdown",
   "id": "458cda9d",
   "metadata": {
    "papermill": {
     "duration": 0.025875,
     "end_time": "2022-01-07T14:16:29.834847",
     "exception": false,
     "start_time": "2022-01-07T14:16:29.808972",
     "status": "completed"
    },
    "tags": []
   },
   "source": [
    "### Defining models to stack"
   ]
  },
  {
   "cell_type": "markdown",
   "id": "b75dcc0c",
   "metadata": {
    "editable": false,
    "id": "d8fee63a",
    "papermill": {
     "duration": 0.024898,
     "end_time": "2022-01-07T14:16:29.887815",
     "exception": false,
     "start_time": "2022-01-07T14:16:29.862917",
     "status": "completed"
    },
    "tags": []
   },
   "source": [
    "Define the models for each level."
   ]
  },
  {
   "cell_type": "code",
   "execution_count": 22,
   "id": "4c90a0a4",
   "metadata": {
    "execution": {
     "iopub.execute_input": "2022-01-07T14:16:29.943699Z",
     "iopub.status.busy": "2022-01-07T14:16:29.943345Z",
     "iopub.status.idle": "2022-01-07T14:16:29.944723Z",
     "shell.execute_reply": "2022-01-07T14:16:29.944941Z",
     "shell.execute_reply.started": "2022-01-03T09:38:53.156075Z"
    },
    "papermill": {
     "duration": 0.032295,
     "end_time": "2022-01-07T14:16:29.945056",
     "exception": false,
     "start_time": "2022-01-07T14:16:29.912761",
     "status": "completed"
    },
    "tags": []
   },
   "outputs": [],
   "source": [
    "lr = make_pipeline(\n",
    "    ReviewColumnExtractor(),\n",
    "    TfidfVectorizer(max_features=1000),\n",
    "    linear_model.LogisticRegression(random_state=42)\n",
    ")\n",
    "\n",
    "lr_cnt = make_pipeline(\n",
    "    ReviewColumnExtractor(),\n",
    "    CountVectorizer(),\n",
    "    linear_model.LogisticRegression(solver='liblinear', random_state=42)\n",
    ")\n",
    "\n",
    "rf_svd = make_pipeline(\n",
    "    ReviewColumnExtractor(),\n",
    "    TfidfVectorizer(max_features=None),\n",
    "    decomposition.TruncatedSVD(n_components=120, random_state=42),\n",
    "    ensemble.RandomForestClassifier(n_estimators=100, n_jobs=-1, random_state=42)\n",
    ")"
   ]
  },
  {
   "cell_type": "markdown",
   "id": "a0dfe7f5",
   "metadata": {
    "papermill": {
     "duration": 0.025424,
     "end_time": "2022-01-07T14:16:29.994605",
     "exception": false,
     "start_time": "2022-01-07T14:16:29.969181",
     "status": "completed"
    },
    "tags": []
   },
   "source": [
    "Define models dictionaries:"
   ]
  },
  {
   "cell_type": "code",
   "execution_count": 23,
   "id": "1c16ca5b",
   "metadata": {
    "execution": {
     "iopub.execute_input": "2022-01-07T14:16:30.049635Z",
     "iopub.status.busy": "2022-01-07T14:16:30.049283Z",
     "iopub.status.idle": "2022-01-07T14:16:30.050464Z",
     "shell.execute_reply": "2022-01-07T14:16:30.050728Z",
     "shell.execute_reply.started": "2022-01-03T09:38:53.172579Z"
    },
    "papermill": {
     "duration": 0.031439,
     "end_time": "2022-01-07T14:16:30.050844",
     "exception": false,
     "start_time": "2022-01-07T14:16:30.019405",
     "status": "completed"
    },
    "tags": []
   },
   "outputs": [],
   "source": [
    "# Base models\n",
    "level1 = {\n",
    "    'lr': make_pipeline(\n",
    "        ReviewColumnExtractor(),\n",
    "        TfidfVectorizer(max_features=1000),\n",
    "        linear_model.LogisticRegression(random_state=42)\n",
    "    ), \n",
    "    \n",
    "    'lr_cnt': make_pipeline(\n",
    "        ReviewColumnExtractor(),\n",
    "        CountVectorizer(), \n",
    "        linear_model.LogisticRegression(solver='liblinear', random_state=42)\n",
    "    ), \n",
    "}\n",
    "\n",
    "# Meta models\n",
    "level2 = {\n",
    "    'lr': linear_model.LogisticRegression(random_state=42),\n",
    "    'linreg': make_pipeline(StandardScaler(), LinearRegressionClassifier()),\n",
    "    'xgb': XGBClassifier(eval_metric=\"logloss\", \n",
    "                         use_label_encoder=False, \n",
    "                         nthread=1, \n",
    "                         random_state=42)\n",
    "}\n",
    "\n",
    "# Meta models\n",
    "level3 = {\n",
    "    'linreg': make_pipeline(StandardScaler(), LinearRegressionClassifier()),\n",
    "    'xgb': XGBClassifier(eval_metric=\"logloss\", \n",
    "                         use_label_encoder=False, \n",
    "                         nthread=1,\n",
    "                         random_state=42)\n",
    "}\n",
    "\n",
    "# Blender head: rank true for linear reg.\n",
    "level4 = {'blender': Blender(rank=True, random_state=42)}"
   ]
  },
  {
   "cell_type": "markdown",
   "id": "ad436b96",
   "metadata": {
    "editable": false,
    "execution": {
     "iopub.execute_input": "2021-08-31T14:00:57.221484Z",
     "iopub.status.busy": "2021-08-31T14:00:57.221148Z",
     "iopub.status.idle": "2021-08-31T14:00:57.22775Z",
     "shell.execute_reply": "2021-08-31T14:00:57.226607Z",
     "shell.execute_reply.started": "2021-08-31T14:00:57.221454Z"
    },
    "id": "4557cc3b",
    "papermill": {
     "duration": 0.026294,
     "end_time": "2022-01-07T14:16:30.101392",
     "exception": false,
     "start_time": "2022-01-07T14:16:30.075098",
     "status": "completed"
    },
    "tags": []
   },
   "source": [
    ":::{caution}\n",
    "Setting `nthread=1` for `XGBClassifier` decreases train time for the parallel stacker from ~250s to ~100s. This goes from worse to better than sequential processing. See [this issue](https://github.com/dmlc/xgboost/issues/2163) from the XGBoost repository.\n",
    ":::"
   ]
  },
  {
   "cell_type": "markdown",
   "id": "aa909ca1",
   "metadata": {
    "editable": false,
    "id": "0e075e51",
    "papermill": {
     "duration": 0.029191,
     "end_time": "2022-01-07T14:16:30.162795",
     "exception": false,
     "start_time": "2022-01-07T14:16:30.133604",
     "status": "completed"
    },
    "tags": []
   },
   "source": [
    "### Comparing training times between serial and parallel"
   ]
  },
  {
   "cell_type": "code",
   "execution_count": 24,
   "id": "a44d897a",
   "metadata": {
    "execution": {
     "iopub.execute_input": "2022-01-07T14:16:30.322963Z",
     "iopub.status.busy": "2022-01-07T14:16:30.322595Z",
     "iopub.status.idle": "2022-01-07T14:16:30.323878Z",
     "shell.execute_reply": "2022-01-07T14:16:30.324114Z",
     "shell.execute_reply.started": "2022-01-03T09:38:53.201421Z"
    },
    "papermill": {
     "duration": 0.030172,
     "end_time": "2022-01-07T14:16:30.324230",
     "exception": false,
     "start_time": "2022-01-07T14:16:30.294058",
     "status": "completed"
    },
    "tags": []
   },
   "outputs": [],
   "source": [
    "def time_training(model):\n",
    "    \"\"\"Return model training time vs percentage of train data.\n",
    "    NOTE: Trains model as a side effect!\"\"\"\n",
    "    \n",
    "    train_times = []\n",
    "    N = len(X_train)\n",
    "    \n",
    "    for i in tqdm(range(10)):\n",
    "        # Preprocessing\n",
    "        X_ = X_train.iloc[:int(0.10*(i+1)*N)]\n",
    "        y_ = y_train[:int(0.10*(i+1)*N)]\n",
    "        \n",
    "        # Actual timing\n",
    "        start_time = time.time()\n",
    "        model.fit(X_, y_)\n",
    "        end_time = time.time() - start_time\n",
    "        \n",
    "        # Postprocessing\n",
    "        train_times.append(end_time)\n",
    "        time.sleep(7) # Cooling down processor\n",
    "    \n",
    "    return train_times"
   ]
  },
  {
   "cell_type": "markdown",
   "id": "f2f8238c",
   "metadata": {},
   "source": [
    "Timing runs:"
   ]
  },
  {
   "cell_type": "code",
   "execution_count": 25,
   "id": "168f2eeb",
   "metadata": {
    "execution": {
     "iopub.execute_input": "2022-01-07T14:16:30.380513Z",
     "iopub.status.busy": "2022-01-07T14:16:30.379956Z",
     "iopub.status.idle": "2022-01-03T16:25:01.868988Z",
     "shell.execute_reply": "2022-01-03T16:25:01.869497Z",
     "shell.execute_reply.started": "2022-01-03T09:39:14.324795Z"
    },
    "papermill": {
     "duration": 471.579994,
     "end_time": "2022-01-07T14:24:21.929105",
     "exception": false,
     "start_time": "2022-01-07T14:16:30.349111",
     "status": "completed"
    },
    "tags": []
   },
   "outputs": [
    {
     "name": "stderr",
     "output_type": "stream",
     "text": [
      "100%|██████████| 10/10 [04:37<00:00, 27.74s/it]\n",
      "100%|██████████| 10/10 [03:06<00:00, 18.63s/it]\n"
     ]
    }
   ],
   "source": [
    "models = [level1, level2, level3, level4]\n",
    "\n",
    "serial = StackingClassifier(models, verbose=0)\n",
    "parallel = StackingClassifierParallel(models, n_jobs=-1, verbose=0)\n",
    "\n",
    "serial_times = time_training(serial)\n",
    "parallel_times = time_training(parallel)"
   ]
  },
  {
   "cell_type": "code",
   "execution_count": 26,
   "id": "59b49748",
   "metadata": {
    "papermill": {
     "duration": null,
     "end_time": null,
     "exception": null,
     "start_time": null,
     "status": "completed"
    },
    "tags": []
   },
   "outputs": [
    {
     "data": {
      "application/pdf": "[encoded data removed]",
      "image/svg+xml": "<?xml version=\"1.0\" encoding=\"utf-8\" standalone=\"no\"?>\n<!DOCTYPE svg PUBLIC \"-//W3C//DTD SVG 1.1//EN\"\n  \"http://www.w3.org/Graphics/SVG/1.1/DTD/svg11.dtd\">\n<svg xmlns:xlink=\"http://www.w3.org/1999/xlink\" width=\"382.603125pt\" height=\"262.19625pt\" viewBox=\"0 0 382.603125 262.19625\" xmlns=\"http://www.w3.org/2000/svg\" version=\"1.1\">\n <metadata>\n  <rdf:RDF xmlns:dc=\"http://purl.org/dc/elements/1.1/\" xmlns:cc=\"http://creativecommons.org/ns#\" xmlns:rdf=\"http://www.w3.org/1999/02/22-rdf-syntax-ns#\">\n   <cc:Work>\n    <dc:type rdf:resource=\"http://purl.org/dc/dcmitype/StillImage\"/>\n    <dc:date>2022-02-14T07:06:53.291410</dc:date>\n    <dc:format>image/svg+xml</dc:format>\n    <dc:creator>\n     <cc:Agent>\n      <dc:title>Matplotlib v3.5.1, https://matplotlib.org/</dc:title>\n     </cc:Agent>\n    </dc:creator>\n   </cc:Work>\n  </rdf:RDF>\n </metadata>\n <defs>\n  <style type=\"text/css\">*{stroke-linejoin: round; stroke-linecap: butt}</style>\n </defs>\n <g id=\"figure_1\">\n  <g id=\"patch_1\">\n   <path d=\"M 0 262.19625 \nL 382.603125 262.19625 \nL 382.603125 0 \nL 0 0 \nL 0 262.19625 \nz\n\" style=\"fill: none\"/>\n  </g>\n  <g id=\"axes_1\">\n   <g id=\"patch_2\">\n    <path d=\"M 40.603125 224.64 \nL 375.403125 224.64 \nL 375.403125 7.2 \nL 40.603125 7.2 \nz\n\" style=\"fill: #ffffff\"/>\n   </g>\n   <g id=\"matplotlib.axis_1\">\n    <g id=\"xtick_1\">\n     <g id=\"line2d_1\">\n      <path d=\"M 89.639489 224.64 \nL 89.639489 7.2 \n\" clip-path=\"url(#p2fb7bbeac9)\" style=\"fill: none; stroke: #b0b0b0; stroke-width: 0.8; stroke-linecap: square\"/>\n     </g>\n     <g id=\"line2d_2\">\n      <defs>\n       <path id=\"m0c62586282\" d=\"M 0 0 \nL 0 3.5 \n\" style=\"stroke: #000000; stroke-width: 0.8\"/>\n      </defs>\n      <g>\n       <use xlink:href=\"#m0c62586282\" x=\"89.639489\" y=\"224.64\" style=\"stroke: #000000; stroke-width: 0.8\"/>\n      </g>\n     </g>\n     <g id=\"text_1\">\n      <!-- 20 -->\n      <g transform=\"translate(83.276989 239.238437)scale(0.1 -0.1)\">\n       <defs>\n        <path id=\"DejaVuSans-32\" d=\"M 1228 531 \nL 3431 531 \nL 3431 0 \nL 469 0 \nL 469 531 \nQ 828 903 1448 1529 \nQ 2069 2156 2228 2338 \nQ 2531 2678 2651 2914 \nQ 2772 3150 2772 3378 \nQ 2772 3750 2511 3984 \nQ 2250 4219 1831 4219 \nQ 1534 4219 1204 4116 \nQ 875 4013 500 3803 \nL 500 4441 \nQ 881 4594 1212 4672 \nQ 1544 4750 1819 4750 \nQ 2544 4750 2975 4387 \nQ 3406 4025 3406 3419 \nQ 3406 3131 3298 2873 \nQ 3191 2616 2906 2266 \nQ 2828 2175 2409 1742 \nQ 1991 1309 1228 531 \nz\n\" transform=\"scale(0.015625)\"/>\n        <path id=\"DejaVuSans-30\" d=\"M 2034 4250 \nQ 1547 4250 1301 3770 \nQ 1056 3291 1056 2328 \nQ 1056 1369 1301 889 \nQ 1547 409 2034 409 \nQ 2525 409 2770 889 \nQ 3016 1369 3016 2328 \nQ 3016 3291 2770 3770 \nQ 2525 4250 2034 4250 \nz\nM 2034 4750 \nQ 2819 4750 3233 4129 \nQ 3647 3509 3647 2328 \nQ 3647 1150 3233 529 \nQ 2819 -91 2034 -91 \nQ 1250 -91 836 529 \nQ 422 1150 422 2328 \nQ 422 3509 836 4129 \nQ 1250 4750 2034 4750 \nz\n\" transform=\"scale(0.015625)\"/>\n       </defs>\n       <use xlink:href=\"#DejaVuSans-32\"/>\n       <use xlink:href=\"#DejaVuSans-30\" x=\"63.623047\"/>\n      </g>\n     </g>\n    </g>\n    <g id=\"xtick_2\">\n     <g id=\"line2d_3\">\n      <path d=\"M 157.275852 224.64 \nL 157.275852 7.2 \n\" clip-path=\"url(#p2fb7bbeac9)\" style=\"fill: none; stroke: #b0b0b0; stroke-width: 0.8; stroke-linecap: square\"/>\n     </g>\n     <g id=\"line2d_4\">\n      <g>\n       <use xlink:href=\"#m0c62586282\" x=\"157.275852\" y=\"224.64\" style=\"stroke: #000000; stroke-width: 0.8\"/>\n      </g>\n     </g>\n     <g id=\"text_2\">\n      <!-- 40 -->\n      <g transform=\"translate(150.913352 239.238437)scale(0.1 -0.1)\">\n       <defs>\n        <path id=\"DejaVuSans-34\" d=\"M 2419 4116 \nL 825 1625 \nL 2419 1625 \nL 2419 4116 \nz\nM 2253 4666 \nL 3047 4666 \nL 3047 1625 \nL 3713 1625 \nL 3713 1100 \nL 3047 1100 \nL 3047 0 \nL 2419 0 \nL 2419 1100 \nL 313 1100 \nL 313 1709 \nL 2253 4666 \nz\n\" transform=\"scale(0.015625)\"/>\n       </defs>\n       <use xlink:href=\"#DejaVuSans-34\"/>\n       <use xlink:href=\"#DejaVuSans-30\" x=\"63.623047\"/>\n      </g>\n     </g>\n    </g>\n    <g id=\"xtick_3\">\n     <g id=\"line2d_5\">\n      <path d=\"M 224.912216 224.64 \nL 224.912216 7.2 \n\" clip-path=\"url(#p2fb7bbeac9)\" style=\"fill: none; stroke: #b0b0b0; stroke-width: 0.8; stroke-linecap: square\"/>\n     </g>\n     <g id=\"line2d_6\">\n      <g>\n       <use xlink:href=\"#m0c62586282\" x=\"224.912216\" y=\"224.64\" style=\"stroke: #000000; stroke-width: 0.8\"/>\n      </g>\n     </g>\n     <g id=\"text_3\">\n      <!-- 60 -->\n      <g transform=\"translate(218.549716 239.238437)scale(0.1 -0.1)\">\n       <defs>\n        <path id=\"DejaVuSans-36\" d=\"M 2113 2584 \nQ 1688 2584 1439 2293 \nQ 1191 2003 1191 1497 \nQ 1191 994 1439 701 \nQ 1688 409 2113 409 \nQ 2538 409 2786 701 \nQ 3034 994 3034 1497 \nQ 3034 2003 2786 2293 \nQ 2538 2584 2113 2584 \nz\nM 3366 4563 \nL 3366 3988 \nQ 3128 4100 2886 4159 \nQ 2644 4219 2406 4219 \nQ 1781 4219 1451 3797 \nQ 1122 3375 1075 2522 \nQ 1259 2794 1537 2939 \nQ 1816 3084 2150 3084 \nQ 2853 3084 3261 2657 \nQ 3669 2231 3669 1497 \nQ 3669 778 3244 343 \nQ 2819 -91 2113 -91 \nQ 1303 -91 875 529 \nQ 447 1150 447 2328 \nQ 447 3434 972 4092 \nQ 1497 4750 2381 4750 \nQ 2619 4750 2861 4703 \nQ 3103 4656 3366 4563 \nz\n\" transform=\"scale(0.015625)\"/>\n       </defs>\n       <use xlink:href=\"#DejaVuSans-36\"/>\n       <use xlink:href=\"#DejaVuSans-30\" x=\"63.623047\"/>\n      </g>\n     </g>\n    </g>\n    <g id=\"xtick_4\">\n     <g id=\"line2d_7\">\n      <path d=\"M 292.54858 224.64 \nL 292.54858 7.2 \n\" clip-path=\"url(#p2fb7bbeac9)\" style=\"fill: none; stroke: #b0b0b0; stroke-width: 0.8; stroke-linecap: square\"/>\n     </g>\n     <g id=\"line2d_8\">\n      <g>\n       <use xlink:href=\"#m0c62586282\" x=\"292.54858\" y=\"224.64\" style=\"stroke: #000000; stroke-width: 0.8\"/>\n      </g>\n     </g>\n     <g id=\"text_4\">\n      <!-- 80 -->\n      <g transform=\"translate(286.18608 239.238437)scale(0.1 -0.1)\">\n       <defs>\n        <path id=\"DejaVuSans-38\" d=\"M 2034 2216 \nQ 1584 2216 1326 1975 \nQ 1069 1734 1069 1313 \nQ 1069 891 1326 650 \nQ 1584 409 2034 409 \nQ 2484 409 2743 651 \nQ 3003 894 3003 1313 \nQ 3003 1734 2745 1975 \nQ 2488 2216 2034 2216 \nz\nM 1403 2484 \nQ 997 2584 770 2862 \nQ 544 3141 544 3541 \nQ 544 4100 942 4425 \nQ 1341 4750 2034 4750 \nQ 2731 4750 3128 4425 \nQ 3525 4100 3525 3541 \nQ 3525 3141 3298 2862 \nQ 3072 2584 2669 2484 \nQ 3125 2378 3379 2068 \nQ 3634 1759 3634 1313 \nQ 3634 634 3220 271 \nQ 2806 -91 2034 -91 \nQ 1263 -91 848 271 \nQ 434 634 434 1313 \nQ 434 1759 690 2068 \nQ 947 2378 1403 2484 \nz\nM 1172 3481 \nQ 1172 3119 1398 2916 \nQ 1625 2713 2034 2713 \nQ 2441 2713 2670 2916 \nQ 2900 3119 2900 3481 \nQ 2900 3844 2670 4047 \nQ 2441 4250 2034 4250 \nQ 1625 4250 1398 4047 \nQ 1172 3844 1172 3481 \nz\n\" transform=\"scale(0.015625)\"/>\n       </defs>\n       <use xlink:href=\"#DejaVuSans-38\"/>\n       <use xlink:href=\"#DejaVuSans-30\" x=\"63.623047\"/>\n      </g>\n     </g>\n    </g>\n    <g id=\"xtick_5\">\n     <g id=\"line2d_9\">\n      <path d=\"M 360.184943 224.64 \nL 360.184943 7.2 \n\" clip-path=\"url(#p2fb7bbeac9)\" style=\"fill: none; stroke: #b0b0b0; stroke-width: 0.8; stroke-linecap: square\"/>\n     </g>\n     <g id=\"line2d_10\">\n      <g>\n       <use xlink:href=\"#m0c62586282\" x=\"360.184943\" y=\"224.64\" style=\"stroke: #000000; stroke-width: 0.8\"/>\n      </g>\n     </g>\n     <g id=\"text_5\">\n      <!-- 100 -->\n      <g transform=\"translate(350.641193 239.238437)scale(0.1 -0.1)\">\n       <defs>\n        <path id=\"DejaVuSans-31\" d=\"M 794 531 \nL 1825 531 \nL 1825 4091 \nL 703 3866 \nL 703 4441 \nL 1819 4666 \nL 2450 4666 \nL 2450 531 \nL 3481 531 \nL 3481 0 \nL 794 0 \nL 794 531 \nz\n\" transform=\"scale(0.015625)\"/>\n       </defs>\n       <use xlink:href=\"#DejaVuSans-31\"/>\n       <use xlink:href=\"#DejaVuSans-30\" x=\"63.623047\"/>\n       <use xlink:href=\"#DejaVuSans-30\" x=\"127.246094\"/>\n      </g>\n     </g>\n    </g>\n    <g id=\"text_6\">\n     <!-- Percentage of data. (Total size=20000). -->\n     <g transform=\"translate(108.895312 252.916562)scale(0.1 -0.1)\">\n      <defs>\n       <path id=\"DejaVuSans-50\" d=\"M 1259 4147 \nL 1259 2394 \nL 2053 2394 \nQ 2494 2394 2734 2622 \nQ 2975 2850 2975 3272 \nQ 2975 3691 2734 3919 \nQ 2494 4147 2053 4147 \nL 1259 4147 \nz\nM 628 4666 \nL 2053 4666 \nQ 2838 4666 3239 4311 \nQ 3641 3956 3641 3272 \nQ 3641 2581 3239 2228 \nQ 2838 1875 2053 1875 \nL 1259 1875 \nL 1259 0 \nL 628 0 \nL 628 4666 \nz\n\" transform=\"scale(0.015625)\"/>\n       <path id=\"DejaVuSans-65\" d=\"M 3597 1894 \nL 3597 1613 \nL 953 1613 \nQ 991 1019 1311 708 \nQ 1631 397 2203 397 \nQ 2534 397 2845 478 \nQ 3156 559 3463 722 \nL 3463 178 \nQ 3153 47 2828 -22 \nQ 2503 -91 2169 -91 \nQ 1331 -91 842 396 \nQ 353 884 353 1716 \nQ 353 2575 817 3079 \nQ 1281 3584 2069 3584 \nQ 2775 3584 3186 3129 \nQ 3597 2675 3597 1894 \nz\nM 3022 2063 \nQ 3016 2534 2758 2815 \nQ 2500 3097 2075 3097 \nQ 1594 3097 1305 2825 \nQ 1016 2553 972 2059 \nL 3022 2063 \nz\n\" transform=\"scale(0.015625)\"/>\n       <path id=\"DejaVuSans-72\" d=\"M 2631 2963 \nQ 2534 3019 2420 3045 \nQ 2306 3072 2169 3072 \nQ 1681 3072 1420 2755 \nQ 1159 2438 1159 1844 \nL 1159 0 \nL 581 0 \nL 581 3500 \nL 1159 3500 \nL 1159 2956 \nQ 1341 3275 1631 3429 \nQ 1922 3584 2338 3584 \nQ 2397 3584 2469 3576 \nQ 2541 3569 2628 3553 \nL 2631 2963 \nz\n\" transform=\"scale(0.015625)\"/>\n       <path id=\"DejaVuSans-63\" d=\"M 3122 3366 \nL 3122 2828 \nQ 2878 2963 2633 3030 \nQ 2388 3097 2138 3097 \nQ 1578 3097 1268 2742 \nQ 959 2388 959 1747 \nQ 959 1106 1268 751 \nQ 1578 397 2138 397 \nQ 2388 397 2633 464 \nQ 2878 531 3122 666 \nL 3122 134 \nQ 2881 22 2623 -34 \nQ 2366 -91 2075 -91 \nQ 1284 -91 818 406 \nQ 353 903 353 1747 \nQ 353 2603 823 3093 \nQ 1294 3584 2113 3584 \nQ 2378 3584 2631 3529 \nQ 2884 3475 3122 3366 \nz\n\" transform=\"scale(0.015625)\"/>\n       <path id=\"DejaVuSans-6e\" d=\"M 3513 2113 \nL 3513 0 \nL 2938 0 \nL 2938 2094 \nQ 2938 2591 2744 2837 \nQ 2550 3084 2163 3084 \nQ 1697 3084 1428 2787 \nQ 1159 2491 1159 1978 \nL 1159 0 \nL 581 0 \nL 581 3500 \nL 1159 3500 \nL 1159 2956 \nQ 1366 3272 1645 3428 \nQ 1925 3584 2291 3584 \nQ 2894 3584 3203 3211 \nQ 3513 2838 3513 2113 \nz\n\" transform=\"scale(0.015625)\"/>\n       <path id=\"DejaVuSans-74\" d=\"M 1172 4494 \nL 1172 3500 \nL 2356 3500 \nL 2356 3053 \nL 1172 3053 \nL 1172 1153 \nQ 1172 725 1289 603 \nQ 1406 481 1766 481 \nL 2356 481 \nL 2356 0 \nL 1766 0 \nQ 1100 0 847 248 \nQ 594 497 594 1153 \nL 594 3053 \nL 172 3053 \nL 172 3500 \nL 594 3500 \nL 594 4494 \nL 1172 4494 \nz\n\" transform=\"scale(0.015625)\"/>\n       <path id=\"DejaVuSans-61\" d=\"M 2194 1759 \nQ 1497 1759 1228 1600 \nQ 959 1441 959 1056 \nQ 959 750 1161 570 \nQ 1363 391 1709 391 \nQ 2188 391 2477 730 \nQ 2766 1069 2766 1631 \nL 2766 1759 \nL 2194 1759 \nz\nM 3341 1997 \nL 3341 0 \nL 2766 0 \nL 2766 531 \nQ 2569 213 2275 61 \nQ 1981 -91 1556 -91 \nQ 1019 -91 701 211 \nQ 384 513 384 1019 \nQ 384 1609 779 1909 \nQ 1175 2209 1959 2209 \nL 2766 2209 \nL 2766 2266 \nQ 2766 2663 2505 2880 \nQ 2244 3097 1772 3097 \nQ 1472 3097 1187 3025 \nQ 903 2953 641 2809 \nL 641 3341 \nQ 956 3463 1253 3523 \nQ 1550 3584 1831 3584 \nQ 2591 3584 2966 3190 \nQ 3341 2797 3341 1997 \nz\n\" transform=\"scale(0.015625)\"/>\n       <path id=\"DejaVuSans-67\" d=\"M 2906 1791 \nQ 2906 2416 2648 2759 \nQ 2391 3103 1925 3103 \nQ 1463 3103 1205 2759 \nQ 947 2416 947 1791 \nQ 947 1169 1205 825 \nQ 1463 481 1925 481 \nQ 2391 481 2648 825 \nQ 2906 1169 2906 1791 \nz\nM 3481 434 \nQ 3481 -459 3084 -895 \nQ 2688 -1331 1869 -1331 \nQ 1566 -1331 1297 -1286 \nQ 1028 -1241 775 -1147 \nL 775 -588 \nQ 1028 -725 1275 -790 \nQ 1522 -856 1778 -856 \nQ 2344 -856 2625 -561 \nQ 2906 -266 2906 331 \nL 2906 616 \nQ 2728 306 2450 153 \nQ 2172 0 1784 0 \nQ 1141 0 747 490 \nQ 353 981 353 1791 \nQ 353 2603 747 3093 \nQ 1141 3584 1784 3584 \nQ 2172 3584 2450 3431 \nQ 2728 3278 2906 2969 \nL 2906 3500 \nL 3481 3500 \nL 3481 434 \nz\n\" transform=\"scale(0.015625)\"/>\n       <path id=\"DejaVuSans-20\" transform=\"scale(0.015625)\"/>\n       <path id=\"DejaVuSans-6f\" d=\"M 1959 3097 \nQ 1497 3097 1228 2736 \nQ 959 2375 959 1747 \nQ 959 1119 1226 758 \nQ 1494 397 1959 397 \nQ 2419 397 2687 759 \nQ 2956 1122 2956 1747 \nQ 2956 2369 2687 2733 \nQ 2419 3097 1959 3097 \nz\nM 1959 3584 \nQ 2709 3584 3137 3096 \nQ 3566 2609 3566 1747 \nQ 3566 888 3137 398 \nQ 2709 -91 1959 -91 \nQ 1206 -91 779 398 \nQ 353 888 353 1747 \nQ 353 2609 779 3096 \nQ 1206 3584 1959 3584 \nz\n\" transform=\"scale(0.015625)\"/>\n       <path id=\"DejaVuSans-66\" d=\"M 2375 4863 \nL 2375 4384 \nL 1825 4384 \nQ 1516 4384 1395 4259 \nQ 1275 4134 1275 3809 \nL 1275 3500 \nL 2222 3500 \nL 2222 3053 \nL 1275 3053 \nL 1275 0 \nL 697 0 \nL 697 3053 \nL 147 3053 \nL 147 3500 \nL 697 3500 \nL 697 3744 \nQ 697 4328 969 4595 \nQ 1241 4863 1831 4863 \nL 2375 4863 \nz\n\" transform=\"scale(0.015625)\"/>\n       <path id=\"DejaVuSans-64\" d=\"M 2906 2969 \nL 2906 4863 \nL 3481 4863 \nL 3481 0 \nL 2906 0 \nL 2906 525 \nQ 2725 213 2448 61 \nQ 2172 -91 1784 -91 \nQ 1150 -91 751 415 \nQ 353 922 353 1747 \nQ 353 2572 751 3078 \nQ 1150 3584 1784 3584 \nQ 2172 3584 2448 3432 \nQ 2725 3281 2906 2969 \nz\nM 947 1747 \nQ 947 1113 1208 752 \nQ 1469 391 1925 391 \nQ 2381 391 2643 752 \nQ 2906 1113 2906 1747 \nQ 2906 2381 2643 2742 \nQ 2381 3103 1925 3103 \nQ 1469 3103 1208 2742 \nQ 947 2381 947 1747 \nz\n\" transform=\"scale(0.015625)\"/>\n       <path id=\"DejaVuSans-2e\" d=\"M 684 794 \nL 1344 794 \nL 1344 0 \nL 684 0 \nL 684 794 \nz\n\" transform=\"scale(0.015625)\"/>\n       <path id=\"DejaVuSans-28\" d=\"M 1984 4856 \nQ 1566 4138 1362 3434 \nQ 1159 2731 1159 2009 \nQ 1159 1288 1364 580 \nQ 1569 -128 1984 -844 \nL 1484 -844 \nQ 1016 -109 783 600 \nQ 550 1309 550 2009 \nQ 550 2706 781 3412 \nQ 1013 4119 1484 4856 \nL 1984 4856 \nz\n\" transform=\"scale(0.015625)\"/>\n       <path id=\"DejaVuSans-54\" d=\"M -19 4666 \nL 3928 4666 \nL 3928 4134 \nL 2272 4134 \nL 2272 0 \nL 1638 0 \nL 1638 4134 \nL -19 4134 \nL -19 4666 \nz\n\" transform=\"scale(0.015625)\"/>\n       <path id=\"DejaVuSans-6c\" d=\"M 603 4863 \nL 1178 4863 \nL 1178 0 \nL 603 0 \nL 603 4863 \nz\n\" transform=\"scale(0.015625)\"/>\n       <path id=\"DejaVuSans-73\" d=\"M 2834 3397 \nL 2834 2853 \nQ 2591 2978 2328 3040 \nQ 2066 3103 1784 3103 \nQ 1356 3103 1142 2972 \nQ 928 2841 928 2578 \nQ 928 2378 1081 2264 \nQ 1234 2150 1697 2047 \nL 1894 2003 \nQ 2506 1872 2764 1633 \nQ 3022 1394 3022 966 \nQ 3022 478 2636 193 \nQ 2250 -91 1575 -91 \nQ 1294 -91 989 -36 \nQ 684 19 347 128 \nL 347 722 \nQ 666 556 975 473 \nQ 1284 391 1588 391 \nQ 1994 391 2212 530 \nQ 2431 669 2431 922 \nQ 2431 1156 2273 1281 \nQ 2116 1406 1581 1522 \nL 1381 1569 \nQ 847 1681 609 1914 \nQ 372 2147 372 2553 \nQ 372 3047 722 3315 \nQ 1072 3584 1716 3584 \nQ 2034 3584 2315 3537 \nQ 2597 3491 2834 3397 \nz\n\" transform=\"scale(0.015625)\"/>\n       <path id=\"DejaVuSans-69\" d=\"M 603 3500 \nL 1178 3500 \nL 1178 0 \nL 603 0 \nL 603 3500 \nz\nM 603 4863 \nL 1178 4863 \nL 1178 4134 \nL 603 4134 \nL 603 4863 \nz\n\" transform=\"scale(0.015625)\"/>\n       <path id=\"DejaVuSans-7a\" d=\"M 353 3500 \nL 3084 3500 \nL 3084 2975 \nL 922 459 \nL 3084 459 \nL 3084 0 \nL 275 0 \nL 275 525 \nL 2438 3041 \nL 353 3041 \nL 353 3500 \nz\n\" transform=\"scale(0.015625)\"/>\n       <path id=\"DejaVuSans-3d\" d=\"M 678 2906 \nL 4684 2906 \nL 4684 2381 \nL 678 2381 \nL 678 2906 \nz\nM 678 1631 \nL 4684 1631 \nL 4684 1100 \nL 678 1100 \nL 678 1631 \nz\n\" transform=\"scale(0.015625)\"/>\n       <path id=\"DejaVuSans-29\" d=\"M 513 4856 \nL 1013 4856 \nQ 1481 4119 1714 3412 \nQ 1947 2706 1947 2009 \nQ 1947 1309 1714 600 \nQ 1481 -109 1013 -844 \nL 513 -844 \nQ 928 -128 1133 580 \nQ 1338 1288 1338 2009 \nQ 1338 2731 1133 3434 \nQ 928 4138 513 4856 \nz\n\" transform=\"scale(0.015625)\"/>\n      </defs>\n      <use xlink:href=\"#DejaVuSans-50\"/>\n      <use xlink:href=\"#DejaVuSans-65\" x=\"56.677734\"/>\n      <use xlink:href=\"#DejaVuSans-72\" x=\"118.201172\"/>\n      <use xlink:href=\"#DejaVuSans-63\" x=\"157.064453\"/>\n      <use xlink:href=\"#DejaVuSans-65\" x=\"212.044922\"/>\n      <use xlink:href=\"#DejaVuSans-6e\" x=\"273.568359\"/>\n      <use xlink:href=\"#DejaVuSans-74\" x=\"336.947266\"/>\n      <use xlink:href=\"#DejaVuSans-61\" x=\"376.15625\"/>\n      <use xlink:href=\"#DejaVuSans-67\" x=\"437.435547\"/>\n      <use xlink:href=\"#DejaVuSans-65\" x=\"500.912109\"/>\n      <use xlink:href=\"#DejaVuSans-20\" x=\"562.435547\"/>\n      <use xlink:href=\"#DejaVuSans-6f\" x=\"594.222656\"/>\n      <use xlink:href=\"#DejaVuSans-66\" x=\"655.404297\"/>\n      <use xlink:href=\"#DejaVuSans-20\" x=\"690.609375\"/>\n      <use xlink:href=\"#DejaVuSans-64\" x=\"722.396484\"/>\n      <use xlink:href=\"#DejaVuSans-61\" x=\"785.873047\"/>\n      <use xlink:href=\"#DejaVuSans-74\" x=\"847.152344\"/>\n      <use xlink:href=\"#DejaVuSans-61\" x=\"886.361328\"/>\n      <use xlink:href=\"#DejaVuSans-2e\" x=\"947.640625\"/>\n      <use xlink:href=\"#DejaVuSans-20\" x=\"979.427734\"/>\n      <use xlink:href=\"#DejaVuSans-28\" x=\"1011.214844\"/>\n      <use xlink:href=\"#DejaVuSans-54\" x=\"1050.228516\"/>\n      <use xlink:href=\"#DejaVuSans-6f\" x=\"1094.3125\"/>\n      <use xlink:href=\"#DejaVuSans-74\" x=\"1155.494141\"/>\n      <use xlink:href=\"#DejaVuSans-61\" x=\"1194.703125\"/>\n      <use xlink:href=\"#DejaVuSans-6c\" x=\"1255.982422\"/>\n      <use xlink:href=\"#DejaVuSans-20\" x=\"1283.765625\"/>\n      <use xlink:href=\"#DejaVuSans-73\" x=\"1315.552734\"/>\n      <use xlink:href=\"#DejaVuSans-69\" x=\"1367.652344\"/>\n      <use xlink:href=\"#DejaVuSans-7a\" x=\"1395.435547\"/>\n      <use xlink:href=\"#DejaVuSans-65\" x=\"1447.925781\"/>\n      <use xlink:href=\"#DejaVuSans-3d\" x=\"1509.449219\"/>\n      <use xlink:href=\"#DejaVuSans-32\" x=\"1593.238281\"/>\n      <use xlink:href=\"#DejaVuSans-30\" x=\"1656.861328\"/>\n      <use xlink:href=\"#DejaVuSans-30\" x=\"1720.484375\"/>\n      <use xlink:href=\"#DejaVuSans-30\" x=\"1784.107422\"/>\n      <use xlink:href=\"#DejaVuSans-30\" x=\"1847.730469\"/>\n      <use xlink:href=\"#DejaVuSans-29\" x=\"1911.353516\"/>\n      <use xlink:href=\"#DejaVuSans-2e\" x=\"1950.367188\"/>\n     </g>\n    </g>\n   </g>\n   <g id=\"matplotlib.axis_2\">\n    <g id=\"ytick_1\">\n     <g id=\"line2d_11\">\n      <path d=\"M 40.603125 210.683263 \nL 375.403125 210.683263 \n\" clip-path=\"url(#p2fb7bbeac9)\" style=\"fill: none; stroke: #b0b0b0; stroke-width: 0.8; stroke-linecap: square\"/>\n     </g>\n     <g id=\"line2d_12\">\n      <defs>\n       <path id=\"m3ae47007f3\" d=\"M 0 0 \nL -3.5 0 \n\" style=\"stroke: #000000; stroke-width: 0.8\"/>\n      </defs>\n      <g>\n       <use xlink:href=\"#m3ae47007f3\" x=\"40.603125\" y=\"210.683263\" style=\"stroke: #000000; stroke-width: 0.8\"/>\n      </g>\n     </g>\n     <g id=\"text_7\">\n      <!-- 5 -->\n      <g transform=\"translate(27.240625 214.482482)scale(0.1 -0.1)\">\n       <defs>\n        <path id=\"DejaVuSans-35\" d=\"M 691 4666 \nL 3169 4666 \nL 3169 4134 \nL 1269 4134 \nL 1269 2991 \nQ 1406 3038 1543 3061 \nQ 1681 3084 1819 3084 \nQ 2600 3084 3056 2656 \nQ 3513 2228 3513 1497 \nQ 3513 744 3044 326 \nQ 2575 -91 1722 -91 \nQ 1428 -91 1123 -41 \nQ 819 9 494 109 \nL 494 744 \nQ 775 591 1075 516 \nQ 1375 441 1709 441 \nQ 2250 441 2565 725 \nQ 2881 1009 2881 1497 \nQ 2881 1984 2565 2268 \nQ 2250 2553 1709 2553 \nQ 1456 2553 1204 2497 \nQ 953 2441 691 2322 \nL 691 4666 \nz\n\" transform=\"scale(0.015625)\"/>\n       </defs>\n       <use xlink:href=\"#DejaVuSans-35\"/>\n      </g>\n     </g>\n    </g>\n    <g id=\"ytick_2\">\n     <g id=\"line2d_13\">\n      <path d=\"M 40.603125 182.182583 \nL 375.403125 182.182583 \n\" clip-path=\"url(#p2fb7bbeac9)\" style=\"fill: none; stroke: #b0b0b0; stroke-width: 0.8; stroke-linecap: square\"/>\n     </g>\n     <g id=\"line2d_14\">\n      <g>\n       <use xlink:href=\"#m3ae47007f3\" x=\"40.603125\" y=\"182.182583\" style=\"stroke: #000000; stroke-width: 0.8\"/>\n      </g>\n     </g>\n     <g id=\"text_8\">\n      <!-- 10 -->\n      <g transform=\"translate(20.878125 185.981801)scale(0.1 -0.1)\">\n       <use xlink:href=\"#DejaVuSans-31\"/>\n       <use xlink:href=\"#DejaVuSans-30\" x=\"63.623047\"/>\n      </g>\n     </g>\n    </g>\n    <g id=\"ytick_3\">\n     <g id=\"line2d_15\">\n      <path d=\"M 40.603125 153.681902 \nL 375.403125 153.681902 \n\" clip-path=\"url(#p2fb7bbeac9)\" style=\"fill: none; stroke: #b0b0b0; stroke-width: 0.8; stroke-linecap: square\"/>\n     </g>\n     <g id=\"line2d_16\">\n      <g>\n       <use xlink:href=\"#m3ae47007f3\" x=\"40.603125\" y=\"153.681902\" style=\"stroke: #000000; stroke-width: 0.8\"/>\n      </g>\n     </g>\n     <g id=\"text_9\">\n      <!-- 15 -->\n      <g transform=\"translate(20.878125 157.481121)scale(0.1 -0.1)\">\n       <use xlink:href=\"#DejaVuSans-31\"/>\n       <use xlink:href=\"#DejaVuSans-35\" x=\"63.623047\"/>\n      </g>\n     </g>\n    </g>\n    <g id=\"ytick_4\">\n     <g id=\"line2d_17\">\n      <path d=\"M 40.603125 125.181222 \nL 375.403125 125.181222 \n\" clip-path=\"url(#p2fb7bbeac9)\" style=\"fill: none; stroke: #b0b0b0; stroke-width: 0.8; stroke-linecap: square\"/>\n     </g>\n     <g id=\"line2d_18\">\n      <g>\n       <use xlink:href=\"#m3ae47007f3\" x=\"40.603125\" y=\"125.181222\" style=\"stroke: #000000; stroke-width: 0.8\"/>\n      </g>\n     </g>\n     <g id=\"text_10\">\n      <!-- 20 -->\n      <g transform=\"translate(20.878125 128.98044)scale(0.1 -0.1)\">\n       <use xlink:href=\"#DejaVuSans-32\"/>\n       <use xlink:href=\"#DejaVuSans-30\" x=\"63.623047\"/>\n      </g>\n     </g>\n    </g>\n    <g id=\"ytick_5\">\n     <g id=\"line2d_19\">\n      <path d=\"M 40.603125 96.680541 \nL 375.403125 96.680541 \n\" clip-path=\"url(#p2fb7bbeac9)\" style=\"fill: none; stroke: #b0b0b0; stroke-width: 0.8; stroke-linecap: square\"/>\n     </g>\n     <g id=\"line2d_20\">\n      <g>\n       <use xlink:href=\"#m3ae47007f3\" x=\"40.603125\" y=\"96.680541\" style=\"stroke: #000000; stroke-width: 0.8\"/>\n      </g>\n     </g>\n     <g id=\"text_11\">\n      <!-- 25 -->\n      <g transform=\"translate(20.878125 100.47976)scale(0.1 -0.1)\">\n       <use xlink:href=\"#DejaVuSans-32\"/>\n       <use xlink:href=\"#DejaVuSans-35\" x=\"63.623047\"/>\n      </g>\n     </g>\n    </g>\n    <g id=\"ytick_6\">\n     <g id=\"line2d_21\">\n      <path d=\"M 40.603125 68.17986 \nL 375.403125 68.17986 \n\" clip-path=\"url(#p2fb7bbeac9)\" style=\"fill: none; stroke: #b0b0b0; stroke-width: 0.8; stroke-linecap: square\"/>\n     </g>\n     <g id=\"line2d_22\">\n      <g>\n       <use xlink:href=\"#m3ae47007f3\" x=\"40.603125\" y=\"68.17986\" style=\"stroke: #000000; stroke-width: 0.8\"/>\n      </g>\n     </g>\n     <g id=\"text_12\">\n      <!-- 30 -->\n      <g transform=\"translate(20.878125 71.979079)scale(0.1 -0.1)\">\n       <defs>\n        <path id=\"DejaVuSans-33\" d=\"M 2597 2516 \nQ 3050 2419 3304 2112 \nQ 3559 1806 3559 1356 \nQ 3559 666 3084 287 \nQ 2609 -91 1734 -91 \nQ 1441 -91 1130 -33 \nQ 819 25 488 141 \nL 488 750 \nQ 750 597 1062 519 \nQ 1375 441 1716 441 \nQ 2309 441 2620 675 \nQ 2931 909 2931 1356 \nQ 2931 1769 2642 2001 \nQ 2353 2234 1838 2234 \nL 1294 2234 \nL 1294 2753 \nL 1863 2753 \nQ 2328 2753 2575 2939 \nQ 2822 3125 2822 3475 \nQ 2822 3834 2567 4026 \nQ 2313 4219 1838 4219 \nQ 1578 4219 1281 4162 \nQ 984 4106 628 3988 \nL 628 4550 \nQ 988 4650 1302 4700 \nQ 1616 4750 1894 4750 \nQ 2613 4750 3031 4423 \nQ 3450 4097 3450 3541 \nQ 3450 3153 3228 2886 \nQ 3006 2619 2597 2516 \nz\n\" transform=\"scale(0.015625)\"/>\n       </defs>\n       <use xlink:href=\"#DejaVuSans-33\"/>\n       <use xlink:href=\"#DejaVuSans-30\" x=\"63.623047\"/>\n      </g>\n     </g>\n    </g>\n    <g id=\"ytick_7\">\n     <g id=\"line2d_23\">\n      <path d=\"M 40.603125 39.67918 \nL 375.403125 39.67918 \n\" clip-path=\"url(#p2fb7bbeac9)\" style=\"fill: none; stroke: #b0b0b0; stroke-width: 0.8; stroke-linecap: square\"/>\n     </g>\n     <g id=\"line2d_24\">\n      <g>\n       <use xlink:href=\"#m3ae47007f3\" x=\"40.603125\" y=\"39.67918\" style=\"stroke: #000000; stroke-width: 0.8\"/>\n      </g>\n     </g>\n     <g id=\"text_13\">\n      <!-- 35 -->\n      <g transform=\"translate(20.878125 43.478398)scale(0.1 -0.1)\">\n       <use xlink:href=\"#DejaVuSans-33\"/>\n       <use xlink:href=\"#DejaVuSans-35\" x=\"63.623047\"/>\n      </g>\n     </g>\n    </g>\n    <g id=\"ytick_8\">\n     <g id=\"line2d_25\">\n      <path d=\"M 40.603125 11.178499 \nL 375.403125 11.178499 \n\" clip-path=\"url(#p2fb7bbeac9)\" style=\"fill: none; stroke: #b0b0b0; stroke-width: 0.8; stroke-linecap: square\"/>\n     </g>\n     <g id=\"line2d_26\">\n      <g>\n       <use xlink:href=\"#m3ae47007f3\" x=\"40.603125\" y=\"11.178499\" style=\"stroke: #000000; stroke-width: 0.8\"/>\n      </g>\n     </g>\n     <g id=\"text_14\">\n      <!-- 40 -->\n      <g transform=\"translate(20.878125 14.977718)scale(0.1 -0.1)\">\n       <use xlink:href=\"#DejaVuSans-34\"/>\n       <use xlink:href=\"#DejaVuSans-30\" x=\"63.623047\"/>\n      </g>\n     </g>\n    </g>\n    <g id=\"text_15\">\n     <!-- Training time (s) -->\n     <g transform=\"translate(14.798438 156.62625)rotate(-90)scale(0.1 -0.1)\">\n      <defs>\n       <path id=\"DejaVuSans-6d\" d=\"M 3328 2828 \nQ 3544 3216 3844 3400 \nQ 4144 3584 4550 3584 \nQ 5097 3584 5394 3201 \nQ 5691 2819 5691 2113 \nL 5691 0 \nL 5113 0 \nL 5113 2094 \nQ 5113 2597 4934 2840 \nQ 4756 3084 4391 3084 \nQ 3944 3084 3684 2787 \nQ 3425 2491 3425 1978 \nL 3425 0 \nL 2847 0 \nL 2847 2094 \nQ 2847 2600 2669 2842 \nQ 2491 3084 2119 3084 \nQ 1678 3084 1418 2786 \nQ 1159 2488 1159 1978 \nL 1159 0 \nL 581 0 \nL 581 3500 \nL 1159 3500 \nL 1159 2956 \nQ 1356 3278 1631 3431 \nQ 1906 3584 2284 3584 \nQ 2666 3584 2933 3390 \nQ 3200 3197 3328 2828 \nz\n\" transform=\"scale(0.015625)\"/>\n      </defs>\n      <use xlink:href=\"#DejaVuSans-54\"/>\n      <use xlink:href=\"#DejaVuSans-72\" x=\"46.333984\"/>\n      <use xlink:href=\"#DejaVuSans-61\" x=\"87.447266\"/>\n      <use xlink:href=\"#DejaVuSans-69\" x=\"148.726562\"/>\n      <use xlink:href=\"#DejaVuSans-6e\" x=\"176.509766\"/>\n      <use xlink:href=\"#DejaVuSans-69\" x=\"239.888672\"/>\n      <use xlink:href=\"#DejaVuSans-6e\" x=\"267.671875\"/>\n      <use xlink:href=\"#DejaVuSans-67\" x=\"331.050781\"/>\n      <use xlink:href=\"#DejaVuSans-20\" x=\"394.527344\"/>\n      <use xlink:href=\"#DejaVuSans-74\" x=\"426.314453\"/>\n      <use xlink:href=\"#DejaVuSans-69\" x=\"465.523438\"/>\n      <use xlink:href=\"#DejaVuSans-6d\" x=\"493.306641\"/>\n      <use xlink:href=\"#DejaVuSans-65\" x=\"590.71875\"/>\n      <use xlink:href=\"#DejaVuSans-20\" x=\"652.242188\"/>\n      <use xlink:href=\"#DejaVuSans-28\" x=\"684.029297\"/>\n      <use xlink:href=\"#DejaVuSans-73\" x=\"723.042969\"/>\n      <use xlink:href=\"#DejaVuSans-29\" x=\"775.142578\"/>\n     </g>\n    </g>\n   </g>\n   <g id=\"line2d_27\">\n    <path d=\"M 55.821307 214.756364 \nL 89.639489 197.448493 \nL 123.45767 178.142156 \nL 157.275852 157.417806 \nL 191.094034 133.516023 \nL 224.912216 112.614108 \nL 258.730398 93.81043 \nL 292.54858 67.74534 \nL 326.366761 37.444525 \nL 360.184943 17.083636 \n\" clip-path=\"url(#p2fb7bbeac9)\" style=\"fill: none; stroke: #1f77b4; stroke-width: 1.5; stroke-linecap: square\"/>\n   </g>\n   <g id=\"line2d_28\">\n    <path d=\"M 55.821307 214.648935 \nL 89.639489 213.882038 \nL 123.45767 203.438994 \nL 157.275852 192.882469 \nL 191.094034 181.549137 \nL 224.912216 171.549457 \nL 258.730398 162.248945 \nL 292.54858 144.914683 \nL 326.366761 130.003719 \nL 360.184943 114.206197 \n\" clip-path=\"url(#p2fb7bbeac9)\" style=\"fill: none; stroke: #ff7f0e; stroke-width: 1.5; stroke-linecap: square\"/>\n   </g>\n   <g id=\"patch_3\">\n    <path d=\"M 40.603125 224.64 \nL 40.603125 7.2 \n\" style=\"fill: none; stroke: #000000; stroke-width: 0.8; stroke-linejoin: miter; stroke-linecap: square\"/>\n   </g>\n   <g id=\"patch_4\">\n    <path d=\"M 375.403125 224.64 \nL 375.403125 7.2 \n\" style=\"fill: none; stroke: #000000; stroke-width: 0.8; stroke-linejoin: miter; stroke-linecap: square\"/>\n   </g>\n   <g id=\"patch_5\">\n    <path d=\"M 40.603125 224.64 \nL 375.403125 224.64 \n\" style=\"fill: none; stroke: #000000; stroke-width: 0.8; stroke-linejoin: miter; stroke-linecap: square\"/>\n   </g>\n   <g id=\"patch_6\">\n    <path d=\"M 40.603125 7.2 \nL 375.403125 7.2 \n\" style=\"fill: none; stroke: #000000; stroke-width: 0.8; stroke-linejoin: miter; stroke-linecap: square\"/>\n   </g>\n   <g id=\"legend_1\">\n    <g id=\"patch_7\">\n     <path d=\"M 47.603125 44.55625 \nL 116.0375 44.55625 \nQ 118.0375 44.55625 118.0375 42.55625 \nL 118.0375 14.2 \nQ 118.0375 12.2 116.0375 12.2 \nL 47.603125 12.2 \nQ 45.603125 12.2 45.603125 14.2 \nL 45.603125 42.55625 \nQ 45.603125 44.55625 47.603125 44.55625 \nz\n\" style=\"fill: #ffffff; opacity: 0.8; stroke: #cccccc; stroke-linejoin: miter\"/>\n    </g>\n    <g id=\"line2d_29\">\n     <path d=\"M 49.603125 20.298437 \nL 59.603125 20.298437 \nL 69.603125 20.298437 \n\" style=\"fill: none; stroke: #1f77b4; stroke-width: 1.5; stroke-linecap: square\"/>\n    </g>\n    <g id=\"text_16\">\n     <!-- Serial -->\n     <g transform=\"translate(77.603125 23.798437)scale(0.1 -0.1)\">\n      <defs>\n       <path id=\"DejaVuSans-53\" d=\"M 3425 4513 \nL 3425 3897 \nQ 3066 4069 2747 4153 \nQ 2428 4238 2131 4238 \nQ 1616 4238 1336 4038 \nQ 1056 3838 1056 3469 \nQ 1056 3159 1242 3001 \nQ 1428 2844 1947 2747 \nL 2328 2669 \nQ 3034 2534 3370 2195 \nQ 3706 1856 3706 1288 \nQ 3706 609 3251 259 \nQ 2797 -91 1919 -91 \nQ 1588 -91 1214 -16 \nQ 841 59 441 206 \nL 441 856 \nQ 825 641 1194 531 \nQ 1563 422 1919 422 \nQ 2459 422 2753 634 \nQ 3047 847 3047 1241 \nQ 3047 1584 2836 1778 \nQ 2625 1972 2144 2069 \nL 1759 2144 \nQ 1053 2284 737 2584 \nQ 422 2884 422 3419 \nQ 422 4038 858 4394 \nQ 1294 4750 2059 4750 \nQ 2388 4750 2728 4690 \nQ 3069 4631 3425 4513 \nz\n\" transform=\"scale(0.015625)\"/>\n      </defs>\n      <use xlink:href=\"#DejaVuSans-53\"/>\n      <use xlink:href=\"#DejaVuSans-65\" x=\"63.476562\"/>\n      <use xlink:href=\"#DejaVuSans-72\" x=\"125\"/>\n      <use xlink:href=\"#DejaVuSans-69\" x=\"166.113281\"/>\n      <use xlink:href=\"#DejaVuSans-61\" x=\"193.896484\"/>\n      <use xlink:href=\"#DejaVuSans-6c\" x=\"255.175781\"/>\n     </g>\n    </g>\n    <g id=\"line2d_30\">\n     <path d=\"M 49.603125 34.976562 \nL 59.603125 34.976562 \nL 69.603125 34.976562 \n\" style=\"fill: none; stroke: #ff7f0e; stroke-width: 1.5; stroke-linecap: square\"/>\n    </g>\n    <g id=\"text_17\">\n     <!-- Parallel -->\n     <g transform=\"translate(77.603125 38.476562)scale(0.1 -0.1)\">\n      <use xlink:href=\"#DejaVuSans-50\"/>\n      <use xlink:href=\"#DejaVuSans-61\" x=\"55.802734\"/>\n      <use xlink:href=\"#DejaVuSans-72\" x=\"117.082031\"/>\n      <use xlink:href=\"#DejaVuSans-61\" x=\"158.195312\"/>\n      <use xlink:href=\"#DejaVuSans-6c\" x=\"219.474609\"/>\n      <use xlink:href=\"#DejaVuSans-6c\" x=\"247.257812\"/>\n      <use xlink:href=\"#DejaVuSans-65\" x=\"275.041016\"/>\n      <use xlink:href=\"#DejaVuSans-6c\" x=\"336.564453\"/>\n     </g>\n    </g>\n   </g>\n  </g>\n </g>\n <defs>\n  <clipPath id=\"p2fb7bbeac9\">\n   <rect x=\"40.603125\" y=\"7.2\" width=\"334.8\" height=\"217.44\"/>\n  </clipPath>\n </defs>\n</svg>\n",
      "text/plain": [
       "<Figure size 432x288 with 1 Axes>"
      ]
     },
     "metadata": {
      "needs_background": "light"
     },
     "output_type": "display_data"
    }
   ],
   "source": [
    "plt.figure(figsize=(6, 4))\n",
    "plt.plot(range(10, 100+10, 10), serial_times, label=\"Serial\")\n",
    "plt.plot(range(10, 100+10, 10), parallel_times, label=\"Parallel\")\n",
    "\n",
    "plt.xlabel(f\"Percentage of data. (Total size={len(X_train)}).\")\n",
    "plt.ylabel(f\"Training time (s)\")\n",
    "plt.legend()\n",
    "plt.grid()"
   ]
  },
  {
   "cell_type": "markdown",
   "id": "bd243bf3",
   "metadata": {
    "papermill": {
     "duration": null,
     "end_time": null,
     "exception": null,
     "start_time": null,
     "status": "completed"
    },
    "tags": []
   },
   "source": [
    "Notice that training times are linear in the dataset size. Training time with parallel processing has a smaller slope, which makes sense since there are more workers which introduces a constant reduction factor for the training time. I was expecting to see some overhead with parallel (initializing / closing workers and consolidating results from different workers). But from the graph, there seems to be little to none! (Joblib good.)"
   ]
  },
  {
   "cell_type": "markdown",
   "id": "93b9911d",
   "metadata": {
    "editable": false,
    "id": "449c95c6",
    "papermill": {
     "duration": null,
     "end_time": null,
     "exception": null,
     "start_time": null,
     "status": "completed"
    },
    "tags": []
   },
   "source": [
    "### Testing consistency of parallel and serial predictions"
   ]
  },
  {
   "cell_type": "markdown",
   "id": "8fa89e99",
   "metadata": {
    "papermill": {
     "duration": null,
     "end_time": null,
     "exception": null,
     "start_time": null,
     "status": "completed"
    },
    "tags": []
   },
   "source": [
    "Testing if predictions agree between serial and parallel training:"
   ]
  },
  {
   "cell_type": "code",
   "execution_count": 27,
   "id": "c4e852d3",
   "metadata": {
    "execution": {
     "iopub.execute_input": "2022-01-03T16:25:02.615631Z",
     "iopub.status.busy": "2022-01-03T16:25:02.594125Z",
     "iopub.status.idle": "2022-01-03T16:25:08.616437Z",
     "shell.execute_reply": "2022-01-03T16:25:08.618038Z",
     "shell.execute_reply.started": "2022-01-03T09:45:46.787821Z"
    },
    "papermill": {
     "duration": null,
     "end_time": null,
     "exception": null,
     "start_time": null,
     "status": "completed"
    },
    "tags": []
   },
   "outputs": [],
   "source": [
    "# These models are already trained as a side-effect of timing\n",
    "yp_test = parallel.predict_proba(X_test)[:, 1]\n",
    "ys_test = serial.predict_proba(X_test)[:, 1]\n",
    "assert (yp_test - ys_test).mean() < 1e-16"
   ]
  },
  {
   "cell_type": "code",
   "execution_count": 28,
   "id": "5bd4cd07",
   "metadata": {
    "editable": false,
    "execution": {
     "iopub.execute_input": "2022-01-03T16:30:45.655783Z",
     "iopub.status.busy": "2022-01-03T16:30:45.654997Z",
     "iopub.status.idle": "2022-01-03T16:30:45.668419Z",
     "shell.execute_reply": "2022-01-03T16:30:45.667613Z",
     "shell.execute_reply.started": "2022-01-03T09:48:34.759544Z"
    },
    "id": "7a2ac238",
    "outputId": "76c06369-c9ae-46c2-c925-10c0d163f653",
    "papermill": {
     "duration": null,
     "end_time": null,
     "exception": null,
     "start_time": null,
     "status": "completed"
    },
    "tags": []
   },
   "outputs": [
    {
     "data": {
      "text/html": [
       "<div>\n",
       "<style scoped>\n",
       "    .dataframe tbody tr th:only-of-type {\n",
       "        vertical-align: middle;\n",
       "    }\n",
       "\n",
       "    .dataframe tbody tr th {\n",
       "        vertical-align: top;\n",
       "    }\n",
       "\n",
       "    .dataframe thead th {\n",
       "        text-align: right;\n",
       "    }\n",
       "</style>\n",
       "<table border=\"1\" class=\"dataframe\">\n",
       "  <thead>\n",
       "    <tr style=\"text-align: right;\">\n",
       "      <th></th>\n",
       "      <th>lr_0</th>\n",
       "      <th>lr_cnt_0</th>\n",
       "      <th>lr_1</th>\n",
       "      <th>linreg_1</th>\n",
       "      <th>xgb_1</th>\n",
       "      <th>linreg_2</th>\n",
       "      <th>xgb_2</th>\n",
       "      <th>blender_3</th>\n",
       "    </tr>\n",
       "  </thead>\n",
       "  <tbody>\n",
       "    <tr>\n",
       "      <th>0</th>\n",
       "      <td>0.052181</td>\n",
       "      <td>0.001930</td>\n",
       "      <td>0.000659</td>\n",
       "      <td>-0.375688</td>\n",
       "      <td>0.000111</td>\n",
       "      <td>-0.375688</td>\n",
       "      <td>0.000111</td>\n",
       "      <td>955.843253</td>\n",
       "    </tr>\n",
       "    <tr>\n",
       "      <th>1</th>\n",
       "      <td>0.029885</td>\n",
       "      <td>0.000006</td>\n",
       "      <td>0.000640</td>\n",
       "      <td>-0.375688</td>\n",
       "      <td>0.000111</td>\n",
       "      <td>-0.375688</td>\n",
       "      <td>0.000111</td>\n",
       "      <td>1038.124480</td>\n",
       "    </tr>\n",
       "    <tr>\n",
       "      <th>2</th>\n",
       "      <td>0.052702</td>\n",
       "      <td>0.000440</td>\n",
       "      <td>0.000658</td>\n",
       "      <td>-0.375688</td>\n",
       "      <td>0.000111</td>\n",
       "      <td>-0.375688</td>\n",
       "      <td>0.000111</td>\n",
       "      <td>955.843253</td>\n",
       "    </tr>\n",
       "    <tr>\n",
       "      <th>3</th>\n",
       "      <td>0.917899</td>\n",
       "      <td>0.996462</td>\n",
       "      <td>0.999197</td>\n",
       "      <td>-0.125688</td>\n",
       "      <td>0.999888</td>\n",
       "      <td>-0.125688</td>\n",
       "      <td>0.999888</td>\n",
       "      <td>1841.468940</td>\n",
       "    </tr>\n",
       "    <tr>\n",
       "      <th>4</th>\n",
       "      <td>0.982799</td>\n",
       "      <td>0.999165</td>\n",
       "      <td>0.999260</td>\n",
       "      <td>-0.125688</td>\n",
       "      <td>0.999888</td>\n",
       "      <td>-0.125688</td>\n",
       "      <td>0.999888</td>\n",
       "      <td>1704.229475</td>\n",
       "    </tr>\n",
       "  </tbody>\n",
       "</table>\n",
       "</div>"
      ],
      "text/plain": [
       "       lr_0  lr_cnt_0      lr_1  linreg_1     xgb_1  linreg_2     xgb_2  \\\n",
       "0  0.052181  0.001930  0.000659 -0.375688  0.000111 -0.375688  0.000111   \n",
       "1  0.029885  0.000006  0.000640 -0.375688  0.000111 -0.375688  0.000111   \n",
       "2  0.052702  0.000440  0.000658 -0.375688  0.000111 -0.375688  0.000111   \n",
       "3  0.917899  0.996462  0.999197 -0.125688  0.999888 -0.125688  0.999888   \n",
       "4  0.982799  0.999165  0.999260 -0.125688  0.999888 -0.125688  0.999888   \n",
       "\n",
       "     blender_3  \n",
       "0   955.843253  \n",
       "1  1038.124480  \n",
       "2   955.843253  \n",
       "3  1841.468940  \n",
       "4  1704.229475  "
      ]
     },
     "execution_count": 28,
     "metadata": {},
     "output_type": "execute_result"
    }
   ],
   "source": [
    "parallel.metafeatures_.head()"
   ]
  },
  {
   "cell_type": "code",
   "execution_count": 29,
   "id": "3b423a1d",
   "metadata": {
    "execution": {
     "iopub.execute_input": "2022-01-03T16:30:45.900130Z",
     "iopub.status.busy": "2022-01-03T16:30:45.899437Z",
     "iopub.status.idle": "2022-01-03T16:30:45.913030Z",
     "shell.execute_reply": "2022-01-03T16:30:45.912452Z",
     "shell.execute_reply.started": "2022-01-03T09:48:35.819945Z"
    },
    "papermill": {
     "duration": null,
     "end_time": null,
     "exception": null,
     "start_time": null,
     "status": "completed"
    },
    "tags": []
   },
   "outputs": [
    {
     "data": {
      "text/html": [
       "<div>\n",
       "<style scoped>\n",
       "    .dataframe tbody tr th:only-of-type {\n",
       "        vertical-align: middle;\n",
       "    }\n",
       "\n",
       "    .dataframe tbody tr th {\n",
       "        vertical-align: top;\n",
       "    }\n",
       "\n",
       "    .dataframe thead th {\n",
       "        text-align: right;\n",
       "    }\n",
       "</style>\n",
       "<table border=\"1\" class=\"dataframe\">\n",
       "  <thead>\n",
       "    <tr style=\"text-align: right;\">\n",
       "      <th></th>\n",
       "      <th>lr_0</th>\n",
       "      <th>lr_cnt_0</th>\n",
       "      <th>lr_1</th>\n",
       "      <th>linreg_1</th>\n",
       "      <th>xgb_1</th>\n",
       "      <th>linreg_2</th>\n",
       "      <th>xgb_2</th>\n",
       "      <th>blender_3</th>\n",
       "    </tr>\n",
       "  </thead>\n",
       "  <tbody>\n",
       "    <tr>\n",
       "      <th>0</th>\n",
       "      <td>0.052181</td>\n",
       "      <td>0.001930</td>\n",
       "      <td>0.000659</td>\n",
       "      <td>-0.375688</td>\n",
       "      <td>0.000111</td>\n",
       "      <td>-0.375688</td>\n",
       "      <td>0.000111</td>\n",
       "      <td>955.843253</td>\n",
       "    </tr>\n",
       "    <tr>\n",
       "      <th>1</th>\n",
       "      <td>0.029885</td>\n",
       "      <td>0.000006</td>\n",
       "      <td>0.000640</td>\n",
       "      <td>-0.375688</td>\n",
       "      <td>0.000111</td>\n",
       "      <td>-0.375688</td>\n",
       "      <td>0.000111</td>\n",
       "      <td>1038.124480</td>\n",
       "    </tr>\n",
       "    <tr>\n",
       "      <th>2</th>\n",
       "      <td>0.052702</td>\n",
       "      <td>0.000440</td>\n",
       "      <td>0.000658</td>\n",
       "      <td>-0.375688</td>\n",
       "      <td>0.000111</td>\n",
       "      <td>-0.375688</td>\n",
       "      <td>0.000111</td>\n",
       "      <td>955.843253</td>\n",
       "    </tr>\n",
       "    <tr>\n",
       "      <th>3</th>\n",
       "      <td>0.917899</td>\n",
       "      <td>0.996462</td>\n",
       "      <td>0.999197</td>\n",
       "      <td>-0.125688</td>\n",
       "      <td>0.999888</td>\n",
       "      <td>-0.125688</td>\n",
       "      <td>0.999888</td>\n",
       "      <td>1841.468940</td>\n",
       "    </tr>\n",
       "    <tr>\n",
       "      <th>4</th>\n",
       "      <td>0.982799</td>\n",
       "      <td>0.999165</td>\n",
       "      <td>0.999260</td>\n",
       "      <td>-0.125688</td>\n",
       "      <td>0.999888</td>\n",
       "      <td>-0.125688</td>\n",
       "      <td>0.999888</td>\n",
       "      <td>1704.229475</td>\n",
       "    </tr>\n",
       "  </tbody>\n",
       "</table>\n",
       "</div>"
      ],
      "text/plain": [
       "       lr_0  lr_cnt_0      lr_1  linreg_1     xgb_1  linreg_2     xgb_2  \\\n",
       "0  0.052181  0.001930  0.000659 -0.375688  0.000111 -0.375688  0.000111   \n",
       "1  0.029885  0.000006  0.000640 -0.375688  0.000111 -0.375688  0.000111   \n",
       "2  0.052702  0.000440  0.000658 -0.375688  0.000111 -0.375688  0.000111   \n",
       "3  0.917899  0.996462  0.999197 -0.125688  0.999888 -0.125688  0.999888   \n",
       "4  0.982799  0.999165  0.999260 -0.125688  0.999888 -0.125688  0.999888   \n",
       "\n",
       "     blender_3  \n",
       "0   955.843253  \n",
       "1  1038.124480  \n",
       "2   955.843253  \n",
       "3  1841.468940  \n",
       "4  1704.229475  "
      ]
     },
     "execution_count": 29,
     "metadata": {},
     "output_type": "execute_result"
    }
   ],
   "source": [
    "serial.metafeatures_.head()"
   ]
  },
  {
   "cell_type": "markdown",
   "id": "47958d9d",
   "metadata": {
    "papermill": {
     "duration": null,
     "end_time": null,
     "exception": null,
     "start_time": null,
     "status": "completed"
    },
    "tags": []
   },
   "source": [
    "## Conclusion"
   ]
  },
  {
   "cell_type": "markdown",
   "id": "0b63b5b8",
   "metadata": {
    "papermill": {
     "duration": null,
     "end_time": null,
     "exception": null,
     "start_time": null,
     "status": "completed"
    },
    "tags": []
   },
   "source": [
    "In this notebook we have implemented a class for model stacking and blending on a text classification task. We saw that stacking uncorrelated models result in some improvement in performance by creating metafeatures which are prediction probabilities of lower level models. \n",
    "\n",
    "The main tools constructed in this notebook are the **`StackingClassifierParallel`** and the **`Blender`** classes. These classes expose a `.fit()` and `.predict_proba()` method similar to scikit-learn models, as well as learned attributes `.metafeatures_` and `.coef_` which can be useful for hacking into the models. The parallel implementation resulted in significant reduction in training time, without any undesirable side-effects. The implementation of blending uses the Nelder-Mead method from `scipy.optimize` to find the best blending coefficents for the columns.\n",
    "\n",
    "### Parallelized model training\n",
    "Parallelism can perhaps be implemented during inference, but this would depend on the exact use case. \n",
    "We got into some trouble with getting reproducible results using `joblib.Parallel`. This is solved by cloning the models in the right places. Also, we had issues making parallel work with XGBoost. But the current configuration seems to work in a Kaggle Kernel.\n",
    "\n",
    "### Further improvements\n",
    "To further support hacking into the models and metafeatures of the stacker, we can implement a `start_from_level` parameter on the fit function which assumes metafeatures from levels `0, 1, ..., start_from_level-1` has been appended to the `.metafeatures_` attribute, and that the corresponding models have been trained on the respective whole columns, ready for inference. Some rules are needed to make this work, for one, the models dict should include the models to be injected. And that there must be a function to supply the metafeatures so that naming conventions are adhered to &mdash; both are easy. This is nice if we have large models to stack and we don't have the resources to retrain them."
   ]
  },
  {
   "cell_type": "code",
   "execution_count": null,
   "id": "61d8e980",
   "metadata": {},
   "outputs": [],
   "source": []
  }
 ],
 "metadata": {
  "interpreter": {
   "hash": "a55a0d1272a360f93e747858d443ec26da69f69eac36db3e567a961ca624a861"
  },
  "kernelspec": {
   "display_name": "Python 3.9.12 ('ml')",
   "language": "python",
   "name": "python3"
  },
  "language_info": {
   "codemirror_mode": {
    "name": "ipython",
    "version": 3
   },
   "file_extension": ".py",
   "mimetype": "text/x-python",
   "name": "python",
   "nbconvert_exporter": "python",
   "pygments_lexer": "ipython3",
   "version": "3.9.12"
  },
  "papermill": {
   "default_parameters": {},
   "duration": 829.870818,
   "end_time": "2022-01-07T14:24:22.128666",
   "environment_variables": {},
   "exception": null,
   "input_path": "blending-stacking.ipynb",
   "output_path": "blending-stacking.ipynb",
   "parameters": {},
   "start_time": "2022-01-07T14:10:32.257848",
   "version": "2.3.3"
  }
 },
 "nbformat": 4,
 "nbformat_minor": 5
}
