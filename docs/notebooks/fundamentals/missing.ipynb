{
 "cells": [
  {
   "cell_type": "markdown",
   "metadata": {},
   "source": [
    "# Handling Missing Values"
   ]
  },
  {
   "cell_type": "markdown",
   "metadata": {},
   "source": [
    "![Status](https://img.shields.io/static/v1.svg?label=Status&message=Finished&color=green)"
   ]
  },
  {
   "cell_type": "markdown",
   "metadata": {},
   "source": [
    "In this notebook we will discuss some techniques that can be used to deal with missing values in **tabular data**. We will go from most basic to most complicated. \n",
    "Note that just because one method is more complicated, does not mean it will perform better. Always test everything in your cross-validation scheme and choose the best method. Not necessarily what you think is the most complicated.\n"
   ]
  },
  {
   "cell_type": "code",
   "execution_count": 1,
   "metadata": {},
   "outputs": [
    {
     "name": "stdout",
     "output_type": "stream",
     "text": [
      "/Users/particle1331/code/inefficient-networks/data/song-popularity-prediction\n"
     ]
    }
   ],
   "source": [
    "import pandas as pd\n",
    "import numpy as np\n",
    "import matplotlib.pyplot as plt\n",
    "import matplotlib_inline\n",
    "matplotlib_inline.backend_inline.set_matplotlib_formats('svg', 'pdf')\n",
    "color_pal = plt.rcParams['axes.prop_cycle'].by_key()['color']\n",
    "plt.style.use('default')\n",
    "\n",
    "import warnings\n",
    "warnings.filterwarnings(\"ignore\")\n",
    "\n",
    "import pathlib\n",
    "cwd = pathlib.Path.cwd()\n",
    "DATASET_PATH = cwd.parents[2] / \"data\" / \"song-popularity-prediction\"\n",
    "print(DATASET_PATH)"
   ]
  },
  {
   "cell_type": "markdown",
   "metadata": {},
   "source": [
    "```{margin}\n",
    "⚠️ **Attribution:** These are notes on the video [Handling Missing Values](https://www.youtube.com/watch?v=EYySNJU8qR0) by [GM Rob Mulla](https://www.kaggle.com/robikscube). Here, I used XGBoost instead of LightGBM.\n",
    "```"
   ]
  },
  {
   "cell_type": "markdown",
   "metadata": {},
   "source": [
    "Loading the train and test sets:"
   ]
  },
  {
   "cell_type": "code",
   "execution_count": 2,
   "metadata": {},
   "outputs": [
    {
     "name": "stdout",
     "output_type": "stream",
     "text": [
      "(40000, 16) (10000, 15) (50000, 16)\n"
     ]
    }
   ],
   "source": [
    "train = pd.read_csv(DATASET_PATH / \"train.csv\")\n",
    "test = pd.read_csv(DATASET_PATH /  \"test.csv\")\n",
    "ss = pd.read_csv(DATASET_PATH / \"sample_submission.csv\")\n",
    "\n",
    "# Add indicator column so we can combine all data in a single df\n",
    "train[\"is_train\"] = True\n",
    "test[\"is_train\"] = False\n",
    "tt = pd.concat([train, test]).reset_index(drop=True).copy()\n",
    "\n",
    "print(train.shape, test.shape, tt.shape)"
   ]
  },
  {
   "cell_type": "code",
   "execution_count": 3,
   "metadata": {},
   "outputs": [
    {
     "data": {
      "text/html": [
       "<div>\n",
       "<style scoped>\n",
       "    .dataframe tbody tr th:only-of-type {\n",
       "        vertical-align: middle;\n",
       "    }\n",
       "\n",
       "    .dataframe tbody tr th {\n",
       "        vertical-align: top;\n",
       "    }\n",
       "\n",
       "    .dataframe thead th {\n",
       "        text-align: right;\n",
       "    }\n",
       "</style>\n",
       "<table border=\"1\" class=\"dataframe\">\n",
       "  <thead>\n",
       "    <tr style=\"text-align: right;\">\n",
       "      <th></th>\n",
       "      <th>id</th>\n",
       "      <th>song_duration_ms</th>\n",
       "      <th>acousticness</th>\n",
       "      <th>danceability</th>\n",
       "      <th>energy</th>\n",
       "      <th>instrumentalness</th>\n",
       "      <th>key</th>\n",
       "      <th>liveness</th>\n",
       "      <th>loudness</th>\n",
       "      <th>audio_mode</th>\n",
       "      <th>speechiness</th>\n",
       "      <th>tempo</th>\n",
       "      <th>time_signature</th>\n",
       "      <th>audio_valence</th>\n",
       "      <th>song_popularity</th>\n",
       "      <th>is_train</th>\n",
       "    </tr>\n",
       "  </thead>\n",
       "  <tbody>\n",
       "    <tr>\n",
       "      <th>0</th>\n",
       "      <td>0</td>\n",
       "      <td>212990.0</td>\n",
       "      <td>0.642286</td>\n",
       "      <td>0.856520</td>\n",
       "      <td>0.707073</td>\n",
       "      <td>0.002001</td>\n",
       "      <td>10.0</td>\n",
       "      <td>NaN</td>\n",
       "      <td>-5.619088</td>\n",
       "      <td>0</td>\n",
       "      <td>0.082570</td>\n",
       "      <td>158.386236</td>\n",
       "      <td>4</td>\n",
       "      <td>0.734642</td>\n",
       "      <td>0.0</td>\n",
       "      <td>True</td>\n",
       "    </tr>\n",
       "    <tr>\n",
       "      <th>1</th>\n",
       "      <td>1</td>\n",
       "      <td>NaN</td>\n",
       "      <td>0.054866</td>\n",
       "      <td>0.733289</td>\n",
       "      <td>0.835545</td>\n",
       "      <td>0.000996</td>\n",
       "      <td>8.0</td>\n",
       "      <td>0.436428</td>\n",
       "      <td>-5.236965</td>\n",
       "      <td>1</td>\n",
       "      <td>0.127358</td>\n",
       "      <td>102.752988</td>\n",
       "      <td>3</td>\n",
       "      <td>0.711531</td>\n",
       "      <td>1.0</td>\n",
       "      <td>True</td>\n",
       "    </tr>\n",
       "    <tr>\n",
       "      <th>2</th>\n",
       "      <td>2</td>\n",
       "      <td>193213.0</td>\n",
       "      <td>NaN</td>\n",
       "      <td>0.188387</td>\n",
       "      <td>0.783524</td>\n",
       "      <td>-0.002694</td>\n",
       "      <td>5.0</td>\n",
       "      <td>0.170499</td>\n",
       "      <td>-4.951759</td>\n",
       "      <td>0</td>\n",
       "      <td>0.052282</td>\n",
       "      <td>178.685791</td>\n",
       "      <td>3</td>\n",
       "      <td>0.425536</td>\n",
       "      <td>0.0</td>\n",
       "      <td>True</td>\n",
       "    </tr>\n",
       "    <tr>\n",
       "      <th>3</th>\n",
       "      <td>3</td>\n",
       "      <td>249893.0</td>\n",
       "      <td>0.488660</td>\n",
       "      <td>0.585234</td>\n",
       "      <td>0.552685</td>\n",
       "      <td>0.000608</td>\n",
       "      <td>0.0</td>\n",
       "      <td>0.094805</td>\n",
       "      <td>-7.893694</td>\n",
       "      <td>0</td>\n",
       "      <td>0.035618</td>\n",
       "      <td>128.715630</td>\n",
       "      <td>3</td>\n",
       "      <td>0.453597</td>\n",
       "      <td>0.0</td>\n",
       "      <td>True</td>\n",
       "    </tr>\n",
       "    <tr>\n",
       "      <th>4</th>\n",
       "      <td>4</td>\n",
       "      <td>165969.0</td>\n",
       "      <td>0.493017</td>\n",
       "      <td>NaN</td>\n",
       "      <td>0.740982</td>\n",
       "      <td>0.002033</td>\n",
       "      <td>10.0</td>\n",
       "      <td>0.094891</td>\n",
       "      <td>-2.684095</td>\n",
       "      <td>0</td>\n",
       "      <td>0.050746</td>\n",
       "      <td>121.928157</td>\n",
       "      <td>4</td>\n",
       "      <td>0.741311</td>\n",
       "      <td>0.0</td>\n",
       "      <td>True</td>\n",
       "    </tr>\n",
       "  </tbody>\n",
       "</table>\n",
       "</div>"
      ],
      "text/plain": [
       "   id  song_duration_ms  acousticness  danceability    energy  \\\n",
       "0   0          212990.0      0.642286      0.856520  0.707073   \n",
       "1   1               NaN      0.054866      0.733289  0.835545   \n",
       "2   2          193213.0           NaN      0.188387  0.783524   \n",
       "3   3          249893.0      0.488660      0.585234  0.552685   \n",
       "4   4          165969.0      0.493017           NaN  0.740982   \n",
       "\n",
       "   instrumentalness   key  liveness  loudness  audio_mode  speechiness  \\\n",
       "0          0.002001  10.0       NaN -5.619088           0     0.082570   \n",
       "1          0.000996   8.0  0.436428 -5.236965           1     0.127358   \n",
       "2         -0.002694   5.0  0.170499 -4.951759           0     0.052282   \n",
       "3          0.000608   0.0  0.094805 -7.893694           0     0.035618   \n",
       "4          0.002033  10.0  0.094891 -2.684095           0     0.050746   \n",
       "\n",
       "        tempo  time_signature  audio_valence  song_popularity  is_train  \n",
       "0  158.386236               4       0.734642              0.0      True  \n",
       "1  102.752988               3       0.711531              1.0      True  \n",
       "2  178.685791               3       0.425536              0.0      True  \n",
       "3  128.715630               3       0.453597              0.0      True  \n",
       "4  121.928157               4       0.741311              0.0      True  "
      ]
     },
     "execution_count": 3,
     "metadata": {},
     "output_type": "execute_result"
    }
   ],
   "source": [
    "tt.head()"
   ]
  },
  {
   "cell_type": "code",
   "execution_count": 4,
   "metadata": {},
   "outputs": [
    {
     "data": {
      "text/html": [
       "<div>\n",
       "<style scoped>\n",
       "    .dataframe tbody tr th:only-of-type {\n",
       "        vertical-align: middle;\n",
       "    }\n",
       "\n",
       "    .dataframe tbody tr th {\n",
       "        vertical-align: top;\n",
       "    }\n",
       "\n",
       "    .dataframe thead th {\n",
       "        text-align: right;\n",
       "    }\n",
       "</style>\n",
       "<table border=\"1\" class=\"dataframe\">\n",
       "  <thead>\n",
       "    <tr style=\"text-align: right;\">\n",
       "      <th></th>\n",
       "      <th>id</th>\n",
       "      <th>song_duration_ms</th>\n",
       "      <th>acousticness</th>\n",
       "      <th>danceability</th>\n",
       "      <th>energy</th>\n",
       "      <th>instrumentalness</th>\n",
       "      <th>key</th>\n",
       "      <th>liveness</th>\n",
       "      <th>loudness</th>\n",
       "      <th>audio_mode</th>\n",
       "      <th>speechiness</th>\n",
       "      <th>tempo</th>\n",
       "      <th>time_signature</th>\n",
       "      <th>audio_valence</th>\n",
       "      <th>song_popularity</th>\n",
       "      <th>is_train</th>\n",
       "    </tr>\n",
       "  </thead>\n",
       "  <tbody>\n",
       "    <tr>\n",
       "      <th>49995</th>\n",
       "      <td>9995</td>\n",
       "      <td>196204.0</td>\n",
       "      <td>0.083936</td>\n",
       "      <td>0.823252</td>\n",
       "      <td>0.442246</td>\n",
       "      <td>0.002990</td>\n",
       "      <td>1.0</td>\n",
       "      <td>0.123921</td>\n",
       "      <td>-8.682195</td>\n",
       "      <td>1</td>\n",
       "      <td>0.041171</td>\n",
       "      <td>98.264618</td>\n",
       "      <td>4</td>\n",
       "      <td>0.784104</td>\n",
       "      <td>NaN</td>\n",
       "      <td>False</td>\n",
       "    </tr>\n",
       "    <tr>\n",
       "      <th>49996</th>\n",
       "      <td>9996</td>\n",
       "      <td>218343.0</td>\n",
       "      <td>0.105279</td>\n",
       "      <td>0.683743</td>\n",
       "      <td>0.848627</td>\n",
       "      <td>0.001911</td>\n",
       "      <td>6.0</td>\n",
       "      <td>0.106522</td>\n",
       "      <td>-4.946250</td>\n",
       "      <td>0</td>\n",
       "      <td>0.033605</td>\n",
       "      <td>103.949646</td>\n",
       "      <td>4</td>\n",
       "      <td>0.850754</td>\n",
       "      <td>NaN</td>\n",
       "      <td>False</td>\n",
       "    </tr>\n",
       "    <tr>\n",
       "      <th>49997</th>\n",
       "      <td>9997</td>\n",
       "      <td>188434.0</td>\n",
       "      <td>0.753472</td>\n",
       "      <td>0.783947</td>\n",
       "      <td>0.498261</td>\n",
       "      <td>0.134027</td>\n",
       "      <td>6.0</td>\n",
       "      <td>0.088147</td>\n",
       "      <td>-11.812606</td>\n",
       "      <td>1</td>\n",
       "      <td>0.029526</td>\n",
       "      <td>119.090558</td>\n",
       "      <td>4</td>\n",
       "      <td>0.482961</td>\n",
       "      <td>NaN</td>\n",
       "      <td>False</td>\n",
       "    </tr>\n",
       "    <tr>\n",
       "      <th>49998</th>\n",
       "      <td>9998</td>\n",
       "      <td>173044.0</td>\n",
       "      <td>0.863579</td>\n",
       "      <td>0.373283</td>\n",
       "      <td>0.476142</td>\n",
       "      <td>0.000049</td>\n",
       "      <td>10.0</td>\n",
       "      <td>0.122122</td>\n",
       "      <td>-12.371232</td>\n",
       "      <td>0</td>\n",
       "      <td>0.190628</td>\n",
       "      <td>103.048349</td>\n",
       "      <td>3</td>\n",
       "      <td>0.518742</td>\n",
       "      <td>NaN</td>\n",
       "      <td>False</td>\n",
       "    </tr>\n",
       "    <tr>\n",
       "      <th>49999</th>\n",
       "      <td>9999</td>\n",
       "      <td>157896.0</td>\n",
       "      <td>0.019852</td>\n",
       "      <td>0.720380</td>\n",
       "      <td>NaN</td>\n",
       "      <td>0.037727</td>\n",
       "      <td>2.0</td>\n",
       "      <td>0.139422</td>\n",
       "      <td>-4.965311</td>\n",
       "      <td>1</td>\n",
       "      <td>0.053257</td>\n",
       "      <td>109.873611</td>\n",
       "      <td>4</td>\n",
       "      <td>0.971368</td>\n",
       "      <td>NaN</td>\n",
       "      <td>False</td>\n",
       "    </tr>\n",
       "  </tbody>\n",
       "</table>\n",
       "</div>"
      ],
      "text/plain": [
       "         id  song_duration_ms  acousticness  danceability    energy  \\\n",
       "49995  9995          196204.0      0.083936      0.823252  0.442246   \n",
       "49996  9996          218343.0      0.105279      0.683743  0.848627   \n",
       "49997  9997          188434.0      0.753472      0.783947  0.498261   \n",
       "49998  9998          173044.0      0.863579      0.373283  0.476142   \n",
       "49999  9999          157896.0      0.019852      0.720380       NaN   \n",
       "\n",
       "       instrumentalness   key  liveness   loudness  audio_mode  speechiness  \\\n",
       "49995          0.002990   1.0  0.123921  -8.682195           1     0.041171   \n",
       "49996          0.001911   6.0  0.106522  -4.946250           0     0.033605   \n",
       "49997          0.134027   6.0  0.088147 -11.812606           1     0.029526   \n",
       "49998          0.000049  10.0  0.122122 -12.371232           0     0.190628   \n",
       "49999          0.037727   2.0  0.139422  -4.965311           1     0.053257   \n",
       "\n",
       "            tempo  time_signature  audio_valence  song_popularity  is_train  \n",
       "49995   98.264618               4       0.784104              NaN     False  \n",
       "49996  103.949646               4       0.850754              NaN     False  \n",
       "49997  119.090558               4       0.482961              NaN     False  \n",
       "49998  103.048349               3       0.518742              NaN     False  \n",
       "49999  109.873611               4       0.971368              NaN     False  "
      ]
     },
     "execution_count": 4,
     "metadata": {},
     "output_type": "execute_result"
    }
   ],
   "source": [
    "tt.tail()"
   ]
  },
  {
   "cell_type": "markdown",
   "metadata": {},
   "source": [
    "We will perform some analysis on the dataset as a whole."
   ]
  },
  {
   "cell_type": "markdown",
   "metadata": {},
   "source": [
    "## Why are there missing values?\n",
    "\n",
    "Before starting with missing value imputation, we should ask why missing values are there. It could be that values are randomly missing, or the fact that they are missing can be used as a feature to improve your models. Example causes of missing data:\n",
    "* Sensor data where the sensor went offline.\n",
    "* Survey data where some questions were not answered.\n",
    "* A Kaggle competition where the host wants to make the problem hard :D\n",
    "\n",
    "You need to understand Why you have missing values before deciding on the approach for dealing with them.\n"
   ]
  },
  {
   "cell_type": "markdown",
   "metadata": {},
   "source": [
    "### Missing values per feature"
   ]
  },
  {
   "cell_type": "markdown",
   "metadata": {},
   "source": [
    "What are the counts of missing values in train vs. test set?"
   ]
  },
  {
   "cell_type": "code",
   "execution_count": 5,
   "metadata": {},
   "outputs": [
    {
     "data": {
      "application/pdf": "[encoded data removed]",
      "image/svg+xml": "<?xml version=\"1.0\" encoding=\"utf-8\" standalone=\"no\"?>\n<!DOCTYPE svg PUBLIC \"-//W3C//DTD SVG 1.1//EN\"\n  \"http://www.w3.org/Graphics/SVG/1.1/DTD/svg11.dtd\">\n<svg xmlns:xlink=\"http://www.w3.org/1999/xlink\" width=\"447.24375pt\" height=\"343.534375pt\" viewBox=\"0 0 447.24375 343.534375\" xmlns=\"http://www.w3.org/2000/svg\" version=\"1.1\">\n <metadata>\n  <rdf:RDF xmlns:dc=\"http://purl.org/dc/elements/1.1/\" xmlns:cc=\"http://creativecommons.org/ns#\" xmlns:rdf=\"http://www.w3.org/1999/02/22-rdf-syntax-ns#\">\n   <cc:Work>\n    <dc:type rdf:resource=\"http://purl.org/dc/dcmitype/StillImage\"/>\n    <dc:date>2022-02-25T19:15:45.960349</dc:date>\n    <dc:format>image/svg+xml</dc:format>\n    <dc:creator>\n     <cc:Agent>\n      <dc:title>Matplotlib v3.5.1, https://matplotlib.org/</dc:title>\n     </cc:Agent>\n    </dc:creator>\n   </cc:Work>\n  </rdf:RDF>\n </metadata>\n <defs>\n  <style type=\"text/css\">*{stroke-linejoin: round; stroke-linecap: butt}</style>\n </defs>\n <g id=\"figure_1\">\n  <g id=\"patch_1\">\n   <path d=\"M 0 343.534375 \nL 447.24375 343.534375 \nL 447.24375 0 \nL 0 0 \nz\n\" style=\"fill: #ffffff\"/>\n  </g>\n  <g id=\"axes_1\">\n   <g id=\"patch_2\">\n    <path d=\"M 105.24375 299.518125 \nL 440.04375 299.518125 \nL 440.04375 22.318125 \nL 105.24375 22.318125 \nz\n\" style=\"fill: #ffffff\"/>\n   </g>\n   <g id=\"patch_3\">\n    <path d=\"M 105.24375 290.855625 \nL 404.22899 290.855625 \nL 404.22899 282.193125 \nL 105.24375 282.193125 \nz\n\" clip-path=\"url(#pbae871f94f)\" style=\"fill: #1f77b4\"/>\n   </g>\n   <g id=\"patch_4\">\n    <path d=\"M 105.24375 256.205625 \nL 405.589045 256.205625 \nL 405.589045 247.543125 \nL 105.24375 247.543125 \nz\n\" clip-path=\"url(#pbae871f94f)\" style=\"fill: #1f77b4\"/>\n   </g>\n   <g id=\"patch_5\">\n    <path d=\"M 105.24375 221.555625 \nL 406.34463 221.555625 \nL 406.34463 212.893125 \nL 105.24375 212.893125 \nz\n\" clip-path=\"url(#pbae871f94f)\" style=\"fill: #1f77b4\"/>\n   </g>\n   <g id=\"patch_6\">\n    <path d=\"M 105.24375 186.905625 \nL 406.87354 186.905625 \nL 406.87354 178.243125 \nL 105.24375 178.243125 \nz\n\" clip-path=\"url(#pbae871f94f)\" style=\"fill: #1f77b4\"/>\n   </g>\n   <g id=\"patch_7\">\n    <path d=\"M 105.24375 152.255625 \nL 409.442531 152.255625 \nL 409.442531 143.593125 \nL 105.24375 143.593125 \nz\n\" clip-path=\"url(#pbae871f94f)\" style=\"fill: #1f77b4\"/>\n   </g>\n   <g id=\"patch_8\">\n    <path d=\"M 105.24375 117.605625 \nL 412.389315 117.605625 \nL 412.389315 108.943125 \nL 105.24375 108.943125 \nz\n\" clip-path=\"url(#pbae871f94f)\" style=\"fill: #1f77b4\"/>\n   </g>\n   <g id=\"patch_9\">\n    <path d=\"M 105.24375 82.955625 \nL 413.976045 82.955625 \nL 413.976045 74.293125 \nL 105.24375 74.293125 \nz\n\" clip-path=\"url(#pbae871f94f)\" style=\"fill: #1f77b4\"/>\n   </g>\n   <g id=\"patch_10\">\n    <path d=\"M 105.24375 48.305625 \nL 415.109424 48.305625 \nL 415.109424 39.643125 \nL 105.24375 39.643125 \nz\n\" clip-path=\"url(#pbae871f94f)\" style=\"fill: #1f77b4\"/>\n   </g>\n   <g id=\"patch_11\">\n    <path d=\"M 105.24375 282.193125 \nL 415.336099 282.193125 \nL 415.336099 273.530625 \nL 105.24375 273.530625 \nz\n\" clip-path=\"url(#pbae871f94f)\" style=\"fill: #ff7f0e\"/>\n   </g>\n   <g id=\"patch_12\">\n    <path d=\"M 105.24375 247.543125 \nL 424.100893 247.543125 \nL 424.100893 238.880625 \nL 105.24375 238.880625 \nz\n\" clip-path=\"url(#pbae871f94f)\" style=\"fill: #ff7f0e\"/>\n   </g>\n   <g id=\"patch_13\">\n    <path d=\"M 105.24375 212.893125 \nL 407.478009 212.893125 \nL 407.478009 204.230625 \nL 105.24375 204.230625 \nz\n\" clip-path=\"url(#pbae871f94f)\" style=\"fill: #ff7f0e\"/>\n   </g>\n   <g id=\"patch_14\">\n    <path d=\"M 105.24375 178.243125 \nL 392.366296 178.243125 \nL 392.366296 169.580625 \nL 105.24375 169.580625 \nz\n\" clip-path=\"url(#pbae871f94f)\" style=\"fill: #ff7f0e\"/>\n   </g>\n   <g id=\"patch_15\">\n    <path d=\"M 105.24375 143.593125 \nL 400.224386 143.593125 \nL 400.224386 134.930625 \nL 105.24375 134.930625 \nz\n\" clip-path=\"url(#pbae871f94f)\" style=\"fill: #ff7f0e\"/>\n   </g>\n   <g id=\"patch_16\">\n    <path d=\"M 105.24375 108.943125 \nL 405.060135 108.943125 \nL 405.060135 100.280625 \nL 105.24375 100.280625 \nz\n\" clip-path=\"url(#pbae871f94f)\" style=\"fill: #ff7f0e\"/>\n   </g>\n   <g id=\"patch_17\">\n    <path d=\"M 105.24375 74.293125 \nL 409.291414 74.293125 \nL 409.291414 65.630625 \nL 105.24375 65.630625 \nz\n\" clip-path=\"url(#pbae871f94f)\" style=\"fill: #ff7f0e\"/>\n   </g>\n   <g id=\"patch_18\">\n    <path d=\"M 105.24375 39.643125 \nL 394.481936 39.643125 \nL 394.481936 30.980625 \nL 105.24375 30.980625 \nz\n\" clip-path=\"url(#pbae871f94f)\" style=\"fill: #ff7f0e\"/>\n   </g>\n   <g id=\"matplotlib.axis_1\">\n    <g id=\"xtick_1\">\n     <g id=\"line2d_1\">\n      <defs>\n       <path id=\"mbcb6531637\" d=\"M 0 0 \nL 0 3.5 \n\" style=\"stroke: #000000; stroke-width: 0.8\"/>\n      </defs>\n      <g>\n       <use xlink:href=\"#mbcb6531637\" x=\"105.24375\" y=\"299.518125\" style=\"stroke: #000000; stroke-width: 0.8\"/>\n      </g>\n     </g>\n     <g id=\"text_1\">\n      <!-- 0.00 -->\n      <g transform=\"translate(94.110938 314.116563)scale(0.1 -0.1)\">\n       <defs>\n        <path id=\"DejaVuSans-30\" d=\"M 2034 4250 \nQ 1547 4250 1301 3770 \nQ 1056 3291 1056 2328 \nQ 1056 1369 1301 889 \nQ 1547 409 2034 409 \nQ 2525 409 2770 889 \nQ 3016 1369 3016 2328 \nQ 3016 3291 2770 3770 \nQ 2525 4250 2034 4250 \nz\nM 2034 4750 \nQ 2819 4750 3233 4129 \nQ 3647 3509 3647 2328 \nQ 3647 1150 3233 529 \nQ 2819 -91 2034 -91 \nQ 1250 -91 836 529 \nQ 422 1150 422 2328 \nQ 422 3509 836 4129 \nQ 1250 4750 2034 4750 \nz\n\" transform=\"scale(0.015625)\"/>\n        <path id=\"DejaVuSans-2e\" d=\"M 684 794 \nL 1344 794 \nL 1344 0 \nL 684 0 \nL 684 794 \nz\n\" transform=\"scale(0.015625)\"/>\n       </defs>\n       <use xlink:href=\"#DejaVuSans-30\"/>\n       <use xlink:href=\"#DejaVuSans-2e\" x=\"63.623047\"/>\n       <use xlink:href=\"#DejaVuSans-30\" x=\"95.410156\"/>\n       <use xlink:href=\"#DejaVuSans-30\" x=\"159.033203\"/>\n      </g>\n     </g>\n    </g>\n    <g id=\"xtick_2\">\n     <g id=\"line2d_2\">\n      <g>\n       <use xlink:href=\"#mbcb6531637\" x=\"165.690602\" y=\"299.518125\" style=\"stroke: #000000; stroke-width: 0.8\"/>\n      </g>\n     </g>\n     <g id=\"text_2\">\n      <!-- 0.02 -->\n      <g transform=\"translate(154.557789 314.116563)scale(0.1 -0.1)\">\n       <defs>\n        <path id=\"DejaVuSans-32\" d=\"M 1228 531 \nL 3431 531 \nL 3431 0 \nL 469 0 \nL 469 531 \nQ 828 903 1448 1529 \nQ 2069 2156 2228 2338 \nQ 2531 2678 2651 2914 \nQ 2772 3150 2772 3378 \nQ 2772 3750 2511 3984 \nQ 2250 4219 1831 4219 \nQ 1534 4219 1204 4116 \nQ 875 4013 500 3803 \nL 500 4441 \nQ 881 4594 1212 4672 \nQ 1544 4750 1819 4750 \nQ 2544 4750 2975 4387 \nQ 3406 4025 3406 3419 \nQ 3406 3131 3298 2873 \nQ 3191 2616 2906 2266 \nQ 2828 2175 2409 1742 \nQ 1991 1309 1228 531 \nz\n\" transform=\"scale(0.015625)\"/>\n       </defs>\n       <use xlink:href=\"#DejaVuSans-30\"/>\n       <use xlink:href=\"#DejaVuSans-2e\" x=\"63.623047\"/>\n       <use xlink:href=\"#DejaVuSans-30\" x=\"95.410156\"/>\n       <use xlink:href=\"#DejaVuSans-32\" x=\"159.033203\"/>\n      </g>\n     </g>\n    </g>\n    <g id=\"xtick_3\">\n     <g id=\"line2d_3\">\n      <g>\n       <use xlink:href=\"#mbcb6531637\" x=\"226.137453\" y=\"299.518125\" style=\"stroke: #000000; stroke-width: 0.8\"/>\n      </g>\n     </g>\n     <g id=\"text_3\">\n      <!-- 0.04 -->\n      <g transform=\"translate(215.004641 314.116563)scale(0.1 -0.1)\">\n       <defs>\n        <path id=\"DejaVuSans-34\" d=\"M 2419 4116 \nL 825 1625 \nL 2419 1625 \nL 2419 4116 \nz\nM 2253 4666 \nL 3047 4666 \nL 3047 1625 \nL 3713 1625 \nL 3713 1100 \nL 3047 1100 \nL 3047 0 \nL 2419 0 \nL 2419 1100 \nL 313 1100 \nL 313 1709 \nL 2253 4666 \nz\n\" transform=\"scale(0.015625)\"/>\n       </defs>\n       <use xlink:href=\"#DejaVuSans-30\"/>\n       <use xlink:href=\"#DejaVuSans-2e\" x=\"63.623047\"/>\n       <use xlink:href=\"#DejaVuSans-30\" x=\"95.410156\"/>\n       <use xlink:href=\"#DejaVuSans-34\" x=\"159.033203\"/>\n      </g>\n     </g>\n    </g>\n    <g id=\"xtick_4\">\n     <g id=\"line2d_4\">\n      <g>\n       <use xlink:href=\"#mbcb6531637\" x=\"286.584305\" y=\"299.518125\" style=\"stroke: #000000; stroke-width: 0.8\"/>\n      </g>\n     </g>\n     <g id=\"text_4\">\n      <!-- 0.06 -->\n      <g transform=\"translate(275.451493 314.116563)scale(0.1 -0.1)\">\n       <defs>\n        <path id=\"DejaVuSans-36\" d=\"M 2113 2584 \nQ 1688 2584 1439 2293 \nQ 1191 2003 1191 1497 \nQ 1191 994 1439 701 \nQ 1688 409 2113 409 \nQ 2538 409 2786 701 \nQ 3034 994 3034 1497 \nQ 3034 2003 2786 2293 \nQ 2538 2584 2113 2584 \nz\nM 3366 4563 \nL 3366 3988 \nQ 3128 4100 2886 4159 \nQ 2644 4219 2406 4219 \nQ 1781 4219 1451 3797 \nQ 1122 3375 1075 2522 \nQ 1259 2794 1537 2939 \nQ 1816 3084 2150 3084 \nQ 2853 3084 3261 2657 \nQ 3669 2231 3669 1497 \nQ 3669 778 3244 343 \nQ 2819 -91 2113 -91 \nQ 1303 -91 875 529 \nQ 447 1150 447 2328 \nQ 447 3434 972 4092 \nQ 1497 4750 2381 4750 \nQ 2619 4750 2861 4703 \nQ 3103 4656 3366 4563 \nz\n\" transform=\"scale(0.015625)\"/>\n       </defs>\n       <use xlink:href=\"#DejaVuSans-30\"/>\n       <use xlink:href=\"#DejaVuSans-2e\" x=\"63.623047\"/>\n       <use xlink:href=\"#DejaVuSans-30\" x=\"95.410156\"/>\n       <use xlink:href=\"#DejaVuSans-36\" x=\"159.033203\"/>\n      </g>\n     </g>\n    </g>\n    <g id=\"xtick_5\">\n     <g id=\"line2d_5\">\n      <g>\n       <use xlink:href=\"#mbcb6531637\" x=\"347.031157\" y=\"299.518125\" style=\"stroke: #000000; stroke-width: 0.8\"/>\n      </g>\n     </g>\n     <g id=\"text_5\">\n      <!-- 0.08 -->\n      <g transform=\"translate(335.898344 314.116563)scale(0.1 -0.1)\">\n       <defs>\n        <path id=\"DejaVuSans-38\" d=\"M 2034 2216 \nQ 1584 2216 1326 1975 \nQ 1069 1734 1069 1313 \nQ 1069 891 1326 650 \nQ 1584 409 2034 409 \nQ 2484 409 2743 651 \nQ 3003 894 3003 1313 \nQ 3003 1734 2745 1975 \nQ 2488 2216 2034 2216 \nz\nM 1403 2484 \nQ 997 2584 770 2862 \nQ 544 3141 544 3541 \nQ 544 4100 942 4425 \nQ 1341 4750 2034 4750 \nQ 2731 4750 3128 4425 \nQ 3525 4100 3525 3541 \nQ 3525 3141 3298 2862 \nQ 3072 2584 2669 2484 \nQ 3125 2378 3379 2068 \nQ 3634 1759 3634 1313 \nQ 3634 634 3220 271 \nQ 2806 -91 2034 -91 \nQ 1263 -91 848 271 \nQ 434 634 434 1313 \nQ 434 1759 690 2068 \nQ 947 2378 1403 2484 \nz\nM 1172 3481 \nQ 1172 3119 1398 2916 \nQ 1625 2713 2034 2713 \nQ 2441 2713 2670 2916 \nQ 2900 3119 2900 3481 \nQ 2900 3844 2670 4047 \nQ 2441 4250 2034 4250 \nQ 1625 4250 1398 4047 \nQ 1172 3844 1172 3481 \nz\n\" transform=\"scale(0.015625)\"/>\n       </defs>\n       <use xlink:href=\"#DejaVuSans-30\"/>\n       <use xlink:href=\"#DejaVuSans-2e\" x=\"63.623047\"/>\n       <use xlink:href=\"#DejaVuSans-30\" x=\"95.410156\"/>\n       <use xlink:href=\"#DejaVuSans-38\" x=\"159.033203\"/>\n      </g>\n     </g>\n    </g>\n    <g id=\"xtick_6\">\n     <g id=\"line2d_6\">\n      <g>\n       <use xlink:href=\"#mbcb6531637\" x=\"407.478009\" y=\"299.518125\" style=\"stroke: #000000; stroke-width: 0.8\"/>\n      </g>\n     </g>\n     <g id=\"text_6\">\n      <!-- 0.10 -->\n      <g transform=\"translate(396.345196 314.116563)scale(0.1 -0.1)\">\n       <defs>\n        <path id=\"DejaVuSans-31\" d=\"M 794 531 \nL 1825 531 \nL 1825 4091 \nL 703 3866 \nL 703 4441 \nL 1819 4666 \nL 2450 4666 \nL 2450 531 \nL 3481 531 \nL 3481 0 \nL 794 0 \nL 794 531 \nz\n\" transform=\"scale(0.015625)\"/>\n       </defs>\n       <use xlink:href=\"#DejaVuSans-30\"/>\n       <use xlink:href=\"#DejaVuSans-2e\" x=\"63.623047\"/>\n       <use xlink:href=\"#DejaVuSans-31\" x=\"95.410156\"/>\n       <use xlink:href=\"#DejaVuSans-30\" x=\"159.033203\"/>\n      </g>\n     </g>\n    </g>\n   </g>\n   <g id=\"matplotlib.axis_2\">\n    <g id=\"ytick_1\">\n     <g id=\"line2d_7\">\n      <defs>\n       <path id=\"m994fa753a8\" d=\"M 0 0 \nL -3.5 0 \n\" style=\"stroke: #000000; stroke-width: 0.8\"/>\n      </defs>\n      <g>\n       <use xlink:href=\"#m994fa753a8\" x=\"105.24375\" y=\"282.193125\" style=\"stroke: #000000; stroke-width: 0.8\"/>\n      </g>\n     </g>\n     <g id=\"text_7\">\n      <!-- loudness -->\n      <g transform=\"translate(53.751563 285.992344)scale(0.1 -0.1)\">\n       <defs>\n        <path id=\"DejaVuSans-6c\" d=\"M 603 4863 \nL 1178 4863 \nL 1178 0 \nL 603 0 \nL 603 4863 \nz\n\" transform=\"scale(0.015625)\"/>\n        <path id=\"DejaVuSans-6f\" d=\"M 1959 3097 \nQ 1497 3097 1228 2736 \nQ 959 2375 959 1747 \nQ 959 1119 1226 758 \nQ 1494 397 1959 397 \nQ 2419 397 2687 759 \nQ 2956 1122 2956 1747 \nQ 2956 2369 2687 2733 \nQ 2419 3097 1959 3097 \nz\nM 1959 3584 \nQ 2709 3584 3137 3096 \nQ 3566 2609 3566 1747 \nQ 3566 888 3137 398 \nQ 2709 -91 1959 -91 \nQ 1206 -91 779 398 \nQ 353 888 353 1747 \nQ 353 2609 779 3096 \nQ 1206 3584 1959 3584 \nz\n\" transform=\"scale(0.015625)\"/>\n        <path id=\"DejaVuSans-75\" d=\"M 544 1381 \nL 544 3500 \nL 1119 3500 \nL 1119 1403 \nQ 1119 906 1312 657 \nQ 1506 409 1894 409 \nQ 2359 409 2629 706 \nQ 2900 1003 2900 1516 \nL 2900 3500 \nL 3475 3500 \nL 3475 0 \nL 2900 0 \nL 2900 538 \nQ 2691 219 2414 64 \nQ 2138 -91 1772 -91 \nQ 1169 -91 856 284 \nQ 544 659 544 1381 \nz\nM 1991 3584 \nL 1991 3584 \nz\n\" transform=\"scale(0.015625)\"/>\n        <path id=\"DejaVuSans-64\" d=\"M 2906 2969 \nL 2906 4863 \nL 3481 4863 \nL 3481 0 \nL 2906 0 \nL 2906 525 \nQ 2725 213 2448 61 \nQ 2172 -91 1784 -91 \nQ 1150 -91 751 415 \nQ 353 922 353 1747 \nQ 353 2572 751 3078 \nQ 1150 3584 1784 3584 \nQ 2172 3584 2448 3432 \nQ 2725 3281 2906 2969 \nz\nM 947 1747 \nQ 947 1113 1208 752 \nQ 1469 391 1925 391 \nQ 2381 391 2643 752 \nQ 2906 1113 2906 1747 \nQ 2906 2381 2643 2742 \nQ 2381 3103 1925 3103 \nQ 1469 3103 1208 2742 \nQ 947 2381 947 1747 \nz\n\" transform=\"scale(0.015625)\"/>\n        <path id=\"DejaVuSans-6e\" d=\"M 3513 2113 \nL 3513 0 \nL 2938 0 \nL 2938 2094 \nQ 2938 2591 2744 2837 \nQ 2550 3084 2163 3084 \nQ 1697 3084 1428 2787 \nQ 1159 2491 1159 1978 \nL 1159 0 \nL 581 0 \nL 581 3500 \nL 1159 3500 \nL 1159 2956 \nQ 1366 3272 1645 3428 \nQ 1925 3584 2291 3584 \nQ 2894 3584 3203 3211 \nQ 3513 2838 3513 2113 \nz\n\" transform=\"scale(0.015625)\"/>\n        <path id=\"DejaVuSans-65\" d=\"M 3597 1894 \nL 3597 1613 \nL 953 1613 \nQ 991 1019 1311 708 \nQ 1631 397 2203 397 \nQ 2534 397 2845 478 \nQ 3156 559 3463 722 \nL 3463 178 \nQ 3153 47 2828 -22 \nQ 2503 -91 2169 -91 \nQ 1331 -91 842 396 \nQ 353 884 353 1716 \nQ 353 2575 817 3079 \nQ 1281 3584 2069 3584 \nQ 2775 3584 3186 3129 \nQ 3597 2675 3597 1894 \nz\nM 3022 2063 \nQ 3016 2534 2758 2815 \nQ 2500 3097 2075 3097 \nQ 1594 3097 1305 2825 \nQ 1016 2553 972 2059 \nL 3022 2063 \nz\n\" transform=\"scale(0.015625)\"/>\n        <path id=\"DejaVuSans-73\" d=\"M 2834 3397 \nL 2834 2853 \nQ 2591 2978 2328 3040 \nQ 2066 3103 1784 3103 \nQ 1356 3103 1142 2972 \nQ 928 2841 928 2578 \nQ 928 2378 1081 2264 \nQ 1234 2150 1697 2047 \nL 1894 2003 \nQ 2506 1872 2764 1633 \nQ 3022 1394 3022 966 \nQ 3022 478 2636 193 \nQ 2250 -91 1575 -91 \nQ 1294 -91 989 -36 \nQ 684 19 347 128 \nL 347 722 \nQ 666 556 975 473 \nQ 1284 391 1588 391 \nQ 1994 391 2212 530 \nQ 2431 669 2431 922 \nQ 2431 1156 2273 1281 \nQ 2116 1406 1581 1522 \nL 1381 1569 \nQ 847 1681 609 1914 \nQ 372 2147 372 2553 \nQ 372 3047 722 3315 \nQ 1072 3584 1716 3584 \nQ 2034 3584 2315 3537 \nQ 2597 3491 2834 3397 \nz\n\" transform=\"scale(0.015625)\"/>\n       </defs>\n       <use xlink:href=\"#DejaVuSans-6c\"/>\n       <use xlink:href=\"#DejaVuSans-6f\" x=\"27.783203\"/>\n       <use xlink:href=\"#DejaVuSans-75\" x=\"88.964844\"/>\n       <use xlink:href=\"#DejaVuSans-64\" x=\"152.34375\"/>\n       <use xlink:href=\"#DejaVuSans-6e\" x=\"215.820312\"/>\n       <use xlink:href=\"#DejaVuSans-65\" x=\"279.199219\"/>\n       <use xlink:href=\"#DejaVuSans-73\" x=\"340.722656\"/>\n       <use xlink:href=\"#DejaVuSans-73\" x=\"392.822266\"/>\n      </g>\n     </g>\n    </g>\n    <g id=\"ytick_2\">\n     <g id=\"line2d_8\">\n      <g>\n       <use xlink:href=\"#m994fa753a8\" x=\"105.24375\" y=\"247.543125\" style=\"stroke: #000000; stroke-width: 0.8\"/>\n      </g>\n     </g>\n     <g id=\"text_8\">\n      <!-- energy -->\n      <g transform=\"translate(63.396875 251.342344)scale(0.1 -0.1)\">\n       <defs>\n        <path id=\"DejaVuSans-72\" d=\"M 2631 2963 \nQ 2534 3019 2420 3045 \nQ 2306 3072 2169 3072 \nQ 1681 3072 1420 2755 \nQ 1159 2438 1159 1844 \nL 1159 0 \nL 581 0 \nL 581 3500 \nL 1159 3500 \nL 1159 2956 \nQ 1341 3275 1631 3429 \nQ 1922 3584 2338 3584 \nQ 2397 3584 2469 3576 \nQ 2541 3569 2628 3553 \nL 2631 2963 \nz\n\" transform=\"scale(0.015625)\"/>\n        <path id=\"DejaVuSans-67\" d=\"M 2906 1791 \nQ 2906 2416 2648 2759 \nQ 2391 3103 1925 3103 \nQ 1463 3103 1205 2759 \nQ 947 2416 947 1791 \nQ 947 1169 1205 825 \nQ 1463 481 1925 481 \nQ 2391 481 2648 825 \nQ 2906 1169 2906 1791 \nz\nM 3481 434 \nQ 3481 -459 3084 -895 \nQ 2688 -1331 1869 -1331 \nQ 1566 -1331 1297 -1286 \nQ 1028 -1241 775 -1147 \nL 775 -588 \nQ 1028 -725 1275 -790 \nQ 1522 -856 1778 -856 \nQ 2344 -856 2625 -561 \nQ 2906 -266 2906 331 \nL 2906 616 \nQ 2728 306 2450 153 \nQ 2172 0 1784 0 \nQ 1141 0 747 490 \nQ 353 981 353 1791 \nQ 353 2603 747 3093 \nQ 1141 3584 1784 3584 \nQ 2172 3584 2450 3431 \nQ 2728 3278 2906 2969 \nL 2906 3500 \nL 3481 3500 \nL 3481 434 \nz\n\" transform=\"scale(0.015625)\"/>\n        <path id=\"DejaVuSans-79\" d=\"M 2059 -325 \nQ 1816 -950 1584 -1140 \nQ 1353 -1331 966 -1331 \nL 506 -1331 \nL 506 -850 \nL 844 -850 \nQ 1081 -850 1212 -737 \nQ 1344 -625 1503 -206 \nL 1606 56 \nL 191 3500 \nL 800 3500 \nL 1894 763 \nL 2988 3500 \nL 3597 3500 \nL 2059 -325 \nz\n\" transform=\"scale(0.015625)\"/>\n       </defs>\n       <use xlink:href=\"#DejaVuSans-65\"/>\n       <use xlink:href=\"#DejaVuSans-6e\" x=\"61.523438\"/>\n       <use xlink:href=\"#DejaVuSans-65\" x=\"124.902344\"/>\n       <use xlink:href=\"#DejaVuSans-72\" x=\"186.425781\"/>\n       <use xlink:href=\"#DejaVuSans-67\" x=\"225.789062\"/>\n       <use xlink:href=\"#DejaVuSans-79\" x=\"289.265625\"/>\n      </g>\n     </g>\n    </g>\n    <g id=\"ytick_3\">\n     <g id=\"line2d_9\">\n      <g>\n       <use xlink:href=\"#m994fa753a8\" x=\"105.24375\" y=\"212.893125\" style=\"stroke: #000000; stroke-width: 0.8\"/>\n      </g>\n     </g>\n     <g id=\"text_9\">\n      <!-- instrumentalness -->\n      <g transform=\"translate(11.582813 216.692344)scale(0.1 -0.1)\">\n       <defs>\n        <path id=\"DejaVuSans-69\" d=\"M 603 3500 \nL 1178 3500 \nL 1178 0 \nL 603 0 \nL 603 3500 \nz\nM 603 4863 \nL 1178 4863 \nL 1178 4134 \nL 603 4134 \nL 603 4863 \nz\n\" transform=\"scale(0.015625)\"/>\n        <path id=\"DejaVuSans-74\" d=\"M 1172 4494 \nL 1172 3500 \nL 2356 3500 \nL 2356 3053 \nL 1172 3053 \nL 1172 1153 \nQ 1172 725 1289 603 \nQ 1406 481 1766 481 \nL 2356 481 \nL 2356 0 \nL 1766 0 \nQ 1100 0 847 248 \nQ 594 497 594 1153 \nL 594 3053 \nL 172 3053 \nL 172 3500 \nL 594 3500 \nL 594 4494 \nL 1172 4494 \nz\n\" transform=\"scale(0.015625)\"/>\n        <path id=\"DejaVuSans-6d\" d=\"M 3328 2828 \nQ 3544 3216 3844 3400 \nQ 4144 3584 4550 3584 \nQ 5097 3584 5394 3201 \nQ 5691 2819 5691 2113 \nL 5691 0 \nL 5113 0 \nL 5113 2094 \nQ 5113 2597 4934 2840 \nQ 4756 3084 4391 3084 \nQ 3944 3084 3684 2787 \nQ 3425 2491 3425 1978 \nL 3425 0 \nL 2847 0 \nL 2847 2094 \nQ 2847 2600 2669 2842 \nQ 2491 3084 2119 3084 \nQ 1678 3084 1418 2786 \nQ 1159 2488 1159 1978 \nL 1159 0 \nL 581 0 \nL 581 3500 \nL 1159 3500 \nL 1159 2956 \nQ 1356 3278 1631 3431 \nQ 1906 3584 2284 3584 \nQ 2666 3584 2933 3390 \nQ 3200 3197 3328 2828 \nz\n\" transform=\"scale(0.015625)\"/>\n        <path id=\"DejaVuSans-61\" d=\"M 2194 1759 \nQ 1497 1759 1228 1600 \nQ 959 1441 959 1056 \nQ 959 750 1161 570 \nQ 1363 391 1709 391 \nQ 2188 391 2477 730 \nQ 2766 1069 2766 1631 \nL 2766 1759 \nL 2194 1759 \nz\nM 3341 1997 \nL 3341 0 \nL 2766 0 \nL 2766 531 \nQ 2569 213 2275 61 \nQ 1981 -91 1556 -91 \nQ 1019 -91 701 211 \nQ 384 513 384 1019 \nQ 384 1609 779 1909 \nQ 1175 2209 1959 2209 \nL 2766 2209 \nL 2766 2266 \nQ 2766 2663 2505 2880 \nQ 2244 3097 1772 3097 \nQ 1472 3097 1187 3025 \nQ 903 2953 641 2809 \nL 641 3341 \nQ 956 3463 1253 3523 \nQ 1550 3584 1831 3584 \nQ 2591 3584 2966 3190 \nQ 3341 2797 3341 1997 \nz\n\" transform=\"scale(0.015625)\"/>\n       </defs>\n       <use xlink:href=\"#DejaVuSans-69\"/>\n       <use xlink:href=\"#DejaVuSans-6e\" x=\"27.783203\"/>\n       <use xlink:href=\"#DejaVuSans-73\" x=\"91.162109\"/>\n       <use xlink:href=\"#DejaVuSans-74\" x=\"143.261719\"/>\n       <use xlink:href=\"#DejaVuSans-72\" x=\"182.470703\"/>\n       <use xlink:href=\"#DejaVuSans-75\" x=\"223.583984\"/>\n       <use xlink:href=\"#DejaVuSans-6d\" x=\"286.962891\"/>\n       <use xlink:href=\"#DejaVuSans-65\" x=\"384.375\"/>\n       <use xlink:href=\"#DejaVuSans-6e\" x=\"445.898438\"/>\n       <use xlink:href=\"#DejaVuSans-74\" x=\"509.277344\"/>\n       <use xlink:href=\"#DejaVuSans-61\" x=\"548.486328\"/>\n       <use xlink:href=\"#DejaVuSans-6c\" x=\"609.765625\"/>\n       <use xlink:href=\"#DejaVuSans-6e\" x=\"637.548828\"/>\n       <use xlink:href=\"#DejaVuSans-65\" x=\"700.927734\"/>\n       <use xlink:href=\"#DejaVuSans-73\" x=\"762.451172\"/>\n       <use xlink:href=\"#DejaVuSans-73\" x=\"814.550781\"/>\n      </g>\n     </g>\n    </g>\n    <g id=\"ytick_4\">\n     <g id=\"line2d_10\">\n      <g>\n       <use xlink:href=\"#m994fa753a8\" x=\"105.24375\" y=\"178.243125\" style=\"stroke: #000000; stroke-width: 0.8\"/>\n      </g>\n     </g>\n     <g id=\"text_10\">\n      <!-- acousticness -->\n      <g transform=\"translate(33.845313 182.042344)scale(0.1 -0.1)\">\n       <defs>\n        <path id=\"DejaVuSans-63\" d=\"M 3122 3366 \nL 3122 2828 \nQ 2878 2963 2633 3030 \nQ 2388 3097 2138 3097 \nQ 1578 3097 1268 2742 \nQ 959 2388 959 1747 \nQ 959 1106 1268 751 \nQ 1578 397 2138 397 \nQ 2388 397 2633 464 \nQ 2878 531 3122 666 \nL 3122 134 \nQ 2881 22 2623 -34 \nQ 2366 -91 2075 -91 \nQ 1284 -91 818 406 \nQ 353 903 353 1747 \nQ 353 2603 823 3093 \nQ 1294 3584 2113 3584 \nQ 2378 3584 2631 3529 \nQ 2884 3475 3122 3366 \nz\n\" transform=\"scale(0.015625)\"/>\n       </defs>\n       <use xlink:href=\"#DejaVuSans-61\"/>\n       <use xlink:href=\"#DejaVuSans-63\" x=\"61.279297\"/>\n       <use xlink:href=\"#DejaVuSans-6f\" x=\"116.259766\"/>\n       <use xlink:href=\"#DejaVuSans-75\" x=\"177.441406\"/>\n       <use xlink:href=\"#DejaVuSans-73\" x=\"240.820312\"/>\n       <use xlink:href=\"#DejaVuSans-74\" x=\"292.919922\"/>\n       <use xlink:href=\"#DejaVuSans-69\" x=\"332.128906\"/>\n       <use xlink:href=\"#DejaVuSans-63\" x=\"359.912109\"/>\n       <use xlink:href=\"#DejaVuSans-6e\" x=\"414.892578\"/>\n       <use xlink:href=\"#DejaVuSans-65\" x=\"478.271484\"/>\n       <use xlink:href=\"#DejaVuSans-73\" x=\"539.794922\"/>\n       <use xlink:href=\"#DejaVuSans-73\" x=\"591.894531\"/>\n      </g>\n     </g>\n    </g>\n    <g id=\"ytick_5\">\n     <g id=\"line2d_11\">\n      <g>\n       <use xlink:href=\"#m994fa753a8\" x=\"105.24375\" y=\"143.593125\" style=\"stroke: #000000; stroke-width: 0.8\"/>\n      </g>\n     </g>\n     <g id=\"text_11\">\n      <!-- danceability -->\n      <g transform=\"translate(37.128125 147.392344)scale(0.1 -0.1)\">\n       <defs>\n        <path id=\"DejaVuSans-62\" d=\"M 3116 1747 \nQ 3116 2381 2855 2742 \nQ 2594 3103 2138 3103 \nQ 1681 3103 1420 2742 \nQ 1159 2381 1159 1747 \nQ 1159 1113 1420 752 \nQ 1681 391 2138 391 \nQ 2594 391 2855 752 \nQ 3116 1113 3116 1747 \nz\nM 1159 2969 \nQ 1341 3281 1617 3432 \nQ 1894 3584 2278 3584 \nQ 2916 3584 3314 3078 \nQ 3713 2572 3713 1747 \nQ 3713 922 3314 415 \nQ 2916 -91 2278 -91 \nQ 1894 -91 1617 61 \nQ 1341 213 1159 525 \nL 1159 0 \nL 581 0 \nL 581 4863 \nL 1159 4863 \nL 1159 2969 \nz\n\" transform=\"scale(0.015625)\"/>\n       </defs>\n       <use xlink:href=\"#DejaVuSans-64\"/>\n       <use xlink:href=\"#DejaVuSans-61\" x=\"63.476562\"/>\n       <use xlink:href=\"#DejaVuSans-6e\" x=\"124.755859\"/>\n       <use xlink:href=\"#DejaVuSans-63\" x=\"188.134766\"/>\n       <use xlink:href=\"#DejaVuSans-65\" x=\"243.115234\"/>\n       <use xlink:href=\"#DejaVuSans-61\" x=\"304.638672\"/>\n       <use xlink:href=\"#DejaVuSans-62\" x=\"365.917969\"/>\n       <use xlink:href=\"#DejaVuSans-69\" x=\"429.394531\"/>\n       <use xlink:href=\"#DejaVuSans-6c\" x=\"457.177734\"/>\n       <use xlink:href=\"#DejaVuSans-69\" x=\"484.960938\"/>\n       <use xlink:href=\"#DejaVuSans-74\" x=\"512.744141\"/>\n       <use xlink:href=\"#DejaVuSans-79\" x=\"551.953125\"/>\n      </g>\n     </g>\n    </g>\n    <g id=\"ytick_6\">\n     <g id=\"line2d_12\">\n      <g>\n       <use xlink:href=\"#m994fa753a8\" x=\"105.24375\" y=\"108.943125\" style=\"stroke: #000000; stroke-width: 0.8\"/>\n      </g>\n     </g>\n     <g id=\"text_12\">\n      <!-- key -->\n      <g transform=\"translate(80.74375 112.742344)scale(0.1 -0.1)\">\n       <defs>\n        <path id=\"DejaVuSans-6b\" d=\"M 581 4863 \nL 1159 4863 \nL 1159 1991 \nL 2875 3500 \nL 3609 3500 \nL 1753 1863 \nL 3688 0 \nL 2938 0 \nL 1159 1709 \nL 1159 0 \nL 581 0 \nL 581 4863 \nz\n\" transform=\"scale(0.015625)\"/>\n       </defs>\n       <use xlink:href=\"#DejaVuSans-6b\"/>\n       <use xlink:href=\"#DejaVuSans-65\" x=\"54.285156\"/>\n       <use xlink:href=\"#DejaVuSans-79\" x=\"115.808594\"/>\n      </g>\n     </g>\n    </g>\n    <g id=\"ytick_7\">\n     <g id=\"line2d_13\">\n      <g>\n       <use xlink:href=\"#m994fa753a8\" x=\"105.24375\" y=\"74.293125\" style=\"stroke: #000000; stroke-width: 0.8\"/>\n      </g>\n     </g>\n     <g id=\"text_13\">\n      <!-- liveness -->\n      <g transform=\"translate(57.70625 78.092344)scale(0.1 -0.1)\">\n       <defs>\n        <path id=\"DejaVuSans-76\" d=\"M 191 3500 \nL 800 3500 \nL 1894 563 \nL 2988 3500 \nL 3597 3500 \nL 2284 0 \nL 1503 0 \nL 191 3500 \nz\n\" transform=\"scale(0.015625)\"/>\n       </defs>\n       <use xlink:href=\"#DejaVuSans-6c\"/>\n       <use xlink:href=\"#DejaVuSans-69\" x=\"27.783203\"/>\n       <use xlink:href=\"#DejaVuSans-76\" x=\"55.566406\"/>\n       <use xlink:href=\"#DejaVuSans-65\" x=\"114.746094\"/>\n       <use xlink:href=\"#DejaVuSans-6e\" x=\"176.269531\"/>\n       <use xlink:href=\"#DejaVuSans-65\" x=\"239.648438\"/>\n       <use xlink:href=\"#DejaVuSans-73\" x=\"301.171875\"/>\n       <use xlink:href=\"#DejaVuSans-73\" x=\"353.271484\"/>\n      </g>\n     </g>\n    </g>\n    <g id=\"ytick_8\">\n     <g id=\"line2d_14\">\n      <g>\n       <use xlink:href=\"#m994fa753a8\" x=\"105.24375\" y=\"39.643125\" style=\"stroke: #000000; stroke-width: 0.8\"/>\n      </g>\n     </g>\n     <g id=\"text_14\">\n      <!-- song_duration_ms -->\n      <g transform=\"translate(7.2 43.442344)scale(0.1 -0.1)\">\n       <defs>\n        <path id=\"DejaVuSans-5f\" d=\"M 3263 -1063 \nL 3263 -1509 \nL -63 -1509 \nL -63 -1063 \nL 3263 -1063 \nz\n\" transform=\"scale(0.015625)\"/>\n       </defs>\n       <use xlink:href=\"#DejaVuSans-73\"/>\n       <use xlink:href=\"#DejaVuSans-6f\" x=\"52.099609\"/>\n       <use xlink:href=\"#DejaVuSans-6e\" x=\"113.28125\"/>\n       <use xlink:href=\"#DejaVuSans-67\" x=\"176.660156\"/>\n       <use xlink:href=\"#DejaVuSans-5f\" x=\"240.136719\"/>\n       <use xlink:href=\"#DejaVuSans-64\" x=\"290.136719\"/>\n       <use xlink:href=\"#DejaVuSans-75\" x=\"353.613281\"/>\n       <use xlink:href=\"#DejaVuSans-72\" x=\"416.992188\"/>\n       <use xlink:href=\"#DejaVuSans-61\" x=\"458.105469\"/>\n       <use xlink:href=\"#DejaVuSans-74\" x=\"519.384766\"/>\n       <use xlink:href=\"#DejaVuSans-69\" x=\"558.59375\"/>\n       <use xlink:href=\"#DejaVuSans-6f\" x=\"586.376953\"/>\n       <use xlink:href=\"#DejaVuSans-6e\" x=\"647.558594\"/>\n       <use xlink:href=\"#DejaVuSans-5f\" x=\"710.9375\"/>\n       <use xlink:href=\"#DejaVuSans-6d\" x=\"760.9375\"/>\n       <use xlink:href=\"#DejaVuSans-73\" x=\"858.349609\"/>\n      </g>\n     </g>\n    </g>\n   </g>\n   <g id=\"patch_19\">\n    <path d=\"M 105.24375 299.518125 \nL 105.24375 22.318125 \n\" style=\"fill: none; stroke: #000000; stroke-width: 0.8; stroke-linejoin: miter; stroke-linecap: square\"/>\n   </g>\n   <g id=\"patch_20\">\n    <path d=\"M 440.04375 299.518125 \nL 440.04375 22.318125 \n\" style=\"fill: none; stroke: #000000; stroke-width: 0.8; stroke-linejoin: miter; stroke-linecap: square\"/>\n   </g>\n   <g id=\"patch_21\">\n    <path d=\"M 105.24375 299.518125 \nL 440.04375 299.518125 \n\" style=\"fill: none; stroke: #000000; stroke-width: 0.8; stroke-linejoin: miter; stroke-linecap: square\"/>\n   </g>\n   <g id=\"patch_22\">\n    <path d=\"M 105.24375 22.318125 \nL 440.04375 22.318125 \n\" style=\"fill: none; stroke: #000000; stroke-width: 0.8; stroke-linejoin: miter; stroke-linecap: square\"/>\n   </g>\n   <g id=\"text_15\">\n    <!-- Percentage of missing values per feature -->\n    <g transform=\"translate(149.39625 16.318125)scale(0.12 -0.12)\">\n     <defs>\n      <path id=\"DejaVuSans-50\" d=\"M 1259 4147 \nL 1259 2394 \nL 2053 2394 \nQ 2494 2394 2734 2622 \nQ 2975 2850 2975 3272 \nQ 2975 3691 2734 3919 \nQ 2494 4147 2053 4147 \nL 1259 4147 \nz\nM 628 4666 \nL 2053 4666 \nQ 2838 4666 3239 4311 \nQ 3641 3956 3641 3272 \nQ 3641 2581 3239 2228 \nQ 2838 1875 2053 1875 \nL 1259 1875 \nL 1259 0 \nL 628 0 \nL 628 4666 \nz\n\" transform=\"scale(0.015625)\"/>\n      <path id=\"DejaVuSans-20\" transform=\"scale(0.015625)\"/>\n      <path id=\"DejaVuSans-66\" d=\"M 2375 4863 \nL 2375 4384 \nL 1825 4384 \nQ 1516 4384 1395 4259 \nQ 1275 4134 1275 3809 \nL 1275 3500 \nL 2222 3500 \nL 2222 3053 \nL 1275 3053 \nL 1275 0 \nL 697 0 \nL 697 3053 \nL 147 3053 \nL 147 3500 \nL 697 3500 \nL 697 3744 \nQ 697 4328 969 4595 \nQ 1241 4863 1831 4863 \nL 2375 4863 \nz\n\" transform=\"scale(0.015625)\"/>\n      <path id=\"DejaVuSans-70\" d=\"M 1159 525 \nL 1159 -1331 \nL 581 -1331 \nL 581 3500 \nL 1159 3500 \nL 1159 2969 \nQ 1341 3281 1617 3432 \nQ 1894 3584 2278 3584 \nQ 2916 3584 3314 3078 \nQ 3713 2572 3713 1747 \nQ 3713 922 3314 415 \nQ 2916 -91 2278 -91 \nQ 1894 -91 1617 61 \nQ 1341 213 1159 525 \nz\nM 3116 1747 \nQ 3116 2381 2855 2742 \nQ 2594 3103 2138 3103 \nQ 1681 3103 1420 2742 \nQ 1159 2381 1159 1747 \nQ 1159 1113 1420 752 \nQ 1681 391 2138 391 \nQ 2594 391 2855 752 \nQ 3116 1113 3116 1747 \nz\n\" transform=\"scale(0.015625)\"/>\n     </defs>\n     <use xlink:href=\"#DejaVuSans-50\"/>\n     <use xlink:href=\"#DejaVuSans-65\" x=\"56.677734\"/>\n     <use xlink:href=\"#DejaVuSans-72\" x=\"118.201172\"/>\n     <use xlink:href=\"#DejaVuSans-63\" x=\"157.064453\"/>\n     <use xlink:href=\"#DejaVuSans-65\" x=\"212.044922\"/>\n     <use xlink:href=\"#DejaVuSans-6e\" x=\"273.568359\"/>\n     <use xlink:href=\"#DejaVuSans-74\" x=\"336.947266\"/>\n     <use xlink:href=\"#DejaVuSans-61\" x=\"376.15625\"/>\n     <use xlink:href=\"#DejaVuSans-67\" x=\"437.435547\"/>\n     <use xlink:href=\"#DejaVuSans-65\" x=\"500.912109\"/>\n     <use xlink:href=\"#DejaVuSans-20\" x=\"562.435547\"/>\n     <use xlink:href=\"#DejaVuSans-6f\" x=\"594.222656\"/>\n     <use xlink:href=\"#DejaVuSans-66\" x=\"655.404297\"/>\n     <use xlink:href=\"#DejaVuSans-20\" x=\"690.609375\"/>\n     <use xlink:href=\"#DejaVuSans-6d\" x=\"722.396484\"/>\n     <use xlink:href=\"#DejaVuSans-69\" x=\"819.808594\"/>\n     <use xlink:href=\"#DejaVuSans-73\" x=\"847.591797\"/>\n     <use xlink:href=\"#DejaVuSans-73\" x=\"899.691406\"/>\n     <use xlink:href=\"#DejaVuSans-69\" x=\"951.791016\"/>\n     <use xlink:href=\"#DejaVuSans-6e\" x=\"979.574219\"/>\n     <use xlink:href=\"#DejaVuSans-67\" x=\"1042.953125\"/>\n     <use xlink:href=\"#DejaVuSans-20\" x=\"1106.429688\"/>\n     <use xlink:href=\"#DejaVuSans-76\" x=\"1138.216797\"/>\n     <use xlink:href=\"#DejaVuSans-61\" x=\"1197.396484\"/>\n     <use xlink:href=\"#DejaVuSans-6c\" x=\"1258.675781\"/>\n     <use xlink:href=\"#DejaVuSans-75\" x=\"1286.458984\"/>\n     <use xlink:href=\"#DejaVuSans-65\" x=\"1349.837891\"/>\n     <use xlink:href=\"#DejaVuSans-73\" x=\"1411.361328\"/>\n     <use xlink:href=\"#DejaVuSans-20\" x=\"1463.460938\"/>\n     <use xlink:href=\"#DejaVuSans-70\" x=\"1495.248047\"/>\n     <use xlink:href=\"#DejaVuSans-65\" x=\"1558.724609\"/>\n     <use xlink:href=\"#DejaVuSans-72\" x=\"1620.248047\"/>\n     <use xlink:href=\"#DejaVuSans-20\" x=\"1661.361328\"/>\n     <use xlink:href=\"#DejaVuSans-66\" x=\"1693.148438\"/>\n     <use xlink:href=\"#DejaVuSans-65\" x=\"1728.353516\"/>\n     <use xlink:href=\"#DejaVuSans-61\" x=\"1789.876953\"/>\n     <use xlink:href=\"#DejaVuSans-74\" x=\"1851.15625\"/>\n     <use xlink:href=\"#DejaVuSans-75\" x=\"1890.365234\"/>\n     <use xlink:href=\"#DejaVuSans-72\" x=\"1953.744141\"/>\n     <use xlink:href=\"#DejaVuSans-65\" x=\"1992.607422\"/>\n    </g>\n   </g>\n   <g id=\"legend_1\">\n    <g id=\"patch_23\">\n     <path d=\"M 168.003125 336.334375 \nL 377.284375 336.334375 \nQ 379.284375 336.334375 379.284375 334.334375 \nL 379.284375 320.378125 \nQ 379.284375 318.378125 377.284375 318.378125 \nL 168.003125 318.378125 \nQ 166.003125 318.378125 166.003125 320.378125 \nL 166.003125 334.334375 \nQ 166.003125 336.334375 168.003125 336.334375 \nz\n\" style=\"fill: #ffffff; opacity: 0.8; stroke: #cccccc; stroke-linejoin: miter\"/>\n    </g>\n    <g id=\"patch_24\">\n     <path d=\"M 170.003125 329.976563 \nL 190.003125 329.976563 \nL 190.003125 322.976563 \nL 170.003125 322.976563 \nz\n\" style=\"fill: #1f77b4\"/>\n    </g>\n    <g id=\"text_16\">\n     <!-- train_missing -->\n     <g transform=\"translate(198.003125 329.976563)scale(0.1 -0.1)\">\n      <use xlink:href=\"#DejaVuSans-74\"/>\n      <use xlink:href=\"#DejaVuSans-72\" x=\"39.208984\"/>\n      <use xlink:href=\"#DejaVuSans-61\" x=\"80.322266\"/>\n      <use xlink:href=\"#DejaVuSans-69\" x=\"141.601562\"/>\n      <use xlink:href=\"#DejaVuSans-6e\" x=\"169.384766\"/>\n      <use xlink:href=\"#DejaVuSans-5f\" x=\"232.763672\"/>\n      <use xlink:href=\"#DejaVuSans-6d\" x=\"282.763672\"/>\n      <use xlink:href=\"#DejaVuSans-69\" x=\"380.175781\"/>\n      <use xlink:href=\"#DejaVuSans-73\" x=\"407.958984\"/>\n      <use xlink:href=\"#DejaVuSans-73\" x=\"460.058594\"/>\n      <use xlink:href=\"#DejaVuSans-69\" x=\"512.158203\"/>\n      <use xlink:href=\"#DejaVuSans-6e\" x=\"539.941406\"/>\n      <use xlink:href=\"#DejaVuSans-67\" x=\"603.320312\"/>\n     </g>\n    </g>\n    <g id=\"patch_25\">\n     <path d=\"M 284.679687 329.976563 \nL 304.679687 329.976563 \nL 304.679687 322.976563 \nL 284.679687 322.976563 \nz\n\" style=\"fill: #ff7f0e\"/>\n    </g>\n    <g id=\"text_17\">\n     <!-- test_missing -->\n     <g transform=\"translate(312.679687 329.976563)scale(0.1 -0.1)\">\n      <use xlink:href=\"#DejaVuSans-74\"/>\n      <use xlink:href=\"#DejaVuSans-65\" x=\"39.208984\"/>\n      <use xlink:href=\"#DejaVuSans-73\" x=\"100.732422\"/>\n      <use xlink:href=\"#DejaVuSans-74\" x=\"152.832031\"/>\n      <use xlink:href=\"#DejaVuSans-5f\" x=\"192.041016\"/>\n      <use xlink:href=\"#DejaVuSans-6d\" x=\"242.041016\"/>\n      <use xlink:href=\"#DejaVuSans-69\" x=\"339.453125\"/>\n      <use xlink:href=\"#DejaVuSans-73\" x=\"367.236328\"/>\n      <use xlink:href=\"#DejaVuSans-73\" x=\"419.335938\"/>\n      <use xlink:href=\"#DejaVuSans-69\" x=\"471.435547\"/>\n      <use xlink:href=\"#DejaVuSans-6e\" x=\"499.21875\"/>\n      <use xlink:href=\"#DejaVuSans-67\" x=\"562.597656\"/>\n     </g>\n    </g>\n   </g>\n  </g>\n </g>\n <defs>\n  <clipPath id=\"pbae871f94f\">\n   <rect x=\"105.24375\" y=\"22.318125\" width=\"334.8\" height=\"277.2\"/>\n  </clipPath>\n </defs>\n</svg>\n",
      "text/plain": [
       "<Figure size 600x500 with 1 Axes>"
      ]
     },
     "metadata": {},
     "output_type": "display_data"
    }
   ],
   "source": [
    "ncounts = pd.DataFrame([train.isna().mean(), test.isna().mean()]).T\n",
    "ncounts = ncounts.rename(columns={0: \"train_missing\", 1: \"test_missing\"})\n",
    "ncounts.query(\"(train_missing > 0) or (test_missing > 0)\").sort_values(\"train_missing\").plot(\n",
    "    kind=\"barh\", figsize=(6, 5), title=\"Percentage of missing values per feature\"\n",
    ")\n",
    "\n",
    "plt.legend(loc='upper center', bbox_to_anchor=(0.5, -0.05), fancybox=True, ncol=5)\n",
    "plt.show()"
   ]
  },
  {
   "cell_type": "markdown",
   "metadata": {},
   "source": [
    "Note that percentage of missing values are all around 10%. It's likely that these are dropped on purpose. Or there are systematic reasons why these values are missing. "
   ]
  },
  {
   "cell_type": "code",
   "execution_count": 6,
   "metadata": {},
   "outputs": [
    {
     "data": {
      "text/plain": [
       "['song_duration_ms',\n",
       " 'acousticness',\n",
       " 'danceability',\n",
       " 'energy',\n",
       " 'instrumentalness',\n",
       " 'key',\n",
       " 'liveness',\n",
       " 'loudness']"
      ]
     },
     "execution_count": 6,
     "metadata": {},
     "output_type": "execute_result"
    }
   ],
   "source": [
    "nacols = list(ncounts.query(\"(train_missing > 0) or (test_missing > 0)\").index)\n",
    "nacols"
   ]
  },
  {
   "cell_type": "markdown",
   "metadata": {},
   "source": [
    "### Missing values per observation"
   ]
  },
  {
   "cell_type": "markdown",
   "metadata": {},
   "source": [
    "How many missing values per observation?"
   ]
  },
  {
   "cell_type": "code",
   "execution_count": 7,
   "metadata": {},
   "outputs": [
    {
     "data": {
      "application/pdf": "[encoded data removed]",
      "image/svg+xml": "<?xml version=\"1.0\" encoding=\"utf-8\" standalone=\"no\"?>\n<!DOCTYPE svg PUBLIC \"-//W3C//DTD SVG 1.1//EN\"\n  \"http://www.w3.org/Graphics/SVG/1.1/DTD/svg11.dtd\">\n<svg xmlns:xlink=\"http://www.w3.org/1999/xlink\" width=\"394.423125pt\" height=\"312.30825pt\" viewBox=\"0 0 394.423125 312.30825\" xmlns=\"http://www.w3.org/2000/svg\" version=\"1.1\">\n <metadata>\n  <rdf:RDF xmlns:dc=\"http://purl.org/dc/elements/1.1/\" xmlns:cc=\"http://creativecommons.org/ns#\" xmlns:rdf=\"http://www.w3.org/1999/02/22-rdf-syntax-ns#\">\n   <cc:Work>\n    <dc:type rdf:resource=\"http://purl.org/dc/dcmitype/StillImage\"/>\n    <dc:date>2022-02-25T19:15:46.302299</dc:date>\n    <dc:format>image/svg+xml</dc:format>\n    <dc:creator>\n     <cc:Agent>\n      <dc:title>Matplotlib v3.5.1, https://matplotlib.org/</dc:title>\n     </cc:Agent>\n    </dc:creator>\n   </cc:Work>\n  </rdf:RDF>\n </metadata>\n <defs>\n  <style type=\"text/css\">*{stroke-linejoin: round; stroke-linecap: butt}</style>\n </defs>\n <g id=\"figure_1\">\n  <g id=\"patch_1\">\n   <path d=\"M 0 312.30825 \nL 394.423125 312.30825 \nL 394.423125 0 \nL 0 0 \nz\n\" style=\"fill: #ffffff\"/>\n  </g>\n  <g id=\"axes_1\">\n   <g id=\"patch_2\">\n    <path d=\"M 30.103125 288.430125 \nL 387.223125 288.430125 \nL 387.223125 22.318125 \nL 30.103125 22.318125 \nz\n\" style=\"fill: #ffffff\"/>\n   </g>\n   <g id=\"patch_3\">\n    <path d=\"M 53.243396 288.430125 \nL 60.150939 288.430125 \nL 60.150939 40.407843 \nL 53.243396 40.407843 \nz\n\" clip-path=\"url(#p5f939785d4)\" style=\"fill: #1f77b4\"/>\n   </g>\n   <g id=\"patch_4\">\n    <path d=\"M 87.781113 288.430125 \nL 94.688657 288.430125 \nL 94.688657 70.255591 \nL 87.781113 70.255591 \nz\n\" clip-path=\"url(#p5f939785d4)\" style=\"fill: #1f77b4\"/>\n   </g>\n   <g id=\"patch_5\">\n    <path d=\"M 122.318831 288.430125 \nL 129.226375 288.430125 \nL 129.226375 288.430125 \nL 122.318831 288.430125 \nz\n\" clip-path=\"url(#p5f939785d4)\" style=\"fill: #1f77b4\"/>\n   </g>\n   <g id=\"patch_6\">\n    <path d=\"M 156.856549 288.430125 \nL 163.764092 288.430125 \nL 163.764092 203.11184 \nL 156.856549 203.11184 \nz\n\" clip-path=\"url(#p5f939785d4)\" style=\"fill: #1f77b4\"/>\n   </g>\n   <g id=\"patch_7\">\n    <path d=\"M 191.394266 288.430125 \nL 198.30181 288.430125 \nL 198.30181 288.430125 \nL 191.394266 288.430125 \nz\n\" clip-path=\"url(#p5f939785d4)\" style=\"fill: #1f77b4\"/>\n   </g>\n   <g id=\"patch_8\">\n    <path d=\"M 225.931984 288.430125 \nL 232.839527 288.430125 \nL 232.839527 268.411871 \nL 225.931984 268.411871 \nz\n\" clip-path=\"url(#p5f939785d4)\" style=\"fill: #1f77b4\"/>\n   </g>\n   <g id=\"patch_9\">\n    <path d=\"M 260.469701 288.430125 \nL 267.377245 288.430125 \nL 267.377245 285.627857 \nL 260.469701 285.627857 \nz\n\" clip-path=\"url(#p5f939785d4)\" style=\"fill: #1f77b4\"/>\n   </g>\n   <g id=\"patch_10\">\n    <path d=\"M 295.007419 288.430125 \nL 301.914963 288.430125 \nL 301.914963 288.430125 \nL 295.007419 288.430125 \nz\n\" clip-path=\"url(#p5f939785d4)\" style=\"fill: #1f77b4\"/>\n   </g>\n   <g id=\"patch_11\">\n    <path d=\"M 329.545137 288.430125 \nL 336.45268 288.430125 \nL 336.45268 287.970266 \nL 329.545137 287.970266 \nz\n\" clip-path=\"url(#p5f939785d4)\" style=\"fill: #1f77b4\"/>\n   </g>\n   <g id=\"patch_12\">\n    <path d=\"M 364.082854 288.430125 \nL 370.990398 288.430125 \nL 370.990398 288.401384 \nL 364.082854 288.401384 \nz\n\" clip-path=\"url(#p5f939785d4)\" style=\"fill: #1f77b4\"/>\n   </g>\n   <g id=\"patch_13\">\n    <path d=\"M 46.335852 288.430125 \nL 53.243396 288.430125 \nL 53.243396 34.990125 \nL 46.335852 34.990125 \nz\n\" clip-path=\"url(#p5f939785d4)\" style=\"fill: #ff7f0e\"/>\n   </g>\n   <g id=\"patch_14\">\n    <path d=\"M 80.87357 288.430125 \nL 87.781113 288.430125 \nL 87.781113 75.860127 \nL 80.87357 75.860127 \nz\n\" clip-path=\"url(#p5f939785d4)\" style=\"fill: #ff7f0e\"/>\n   </g>\n   <g id=\"patch_15\">\n    <path d=\"M 115.411287 288.430125 \nL 122.318831 288.430125 \nL 122.318831 288.430125 \nL 115.411287 288.430125 \nz\n\" clip-path=\"url(#p5f939785d4)\" style=\"fill: #ff7f0e\"/>\n   </g>\n   <g id=\"patch_16\">\n    <path d=\"M 149.949005 288.430125 \nL 156.856549 288.430125 \nL 156.856549 203.12621 \nL 149.949005 203.12621 \nz\n\" clip-path=\"url(#p5f939785d4)\" style=\"fill: #ff7f0e\"/>\n   </g>\n   <g id=\"patch_17\">\n    <path d=\"M 184.486723 288.430125 \nL 191.394266 288.430125 \nL 191.394266 288.430125 \nL 184.486723 288.430125 \nz\n\" clip-path=\"url(#p5f939785d4)\" style=\"fill: #ff7f0e\"/>\n   </g>\n   <g id=\"patch_18\">\n    <path d=\"M 219.02444 288.430125 \nL 225.931984 288.430125 \nL 225.931984 268.598689 \nL 219.02444 268.598689 \nz\n\" clip-path=\"url(#p5f939785d4)\" style=\"fill: #ff7f0e\"/>\n   </g>\n   <g id=\"patch_19\">\n    <path d=\"M 253.562158 288.430125 \nL 260.469701 288.430125 \nL 260.469701 284.98118 \nL 253.562158 284.98118 \nz\n\" clip-path=\"url(#p5f939785d4)\" style=\"fill: #ff7f0e\"/>\n   </g>\n   <g id=\"patch_20\">\n    <path d=\"M 288.099875 288.430125 \nL 295.007419 288.430125 \nL 295.007419 288.430125 \nL 288.099875 288.430125 \nz\n\" clip-path=\"url(#p5f939785d4)\" style=\"fill: #ff7f0e\"/>\n   </g>\n   <g id=\"patch_21\">\n    <path d=\"M 322.637593 288.430125 \nL 329.545137 288.430125 \nL 329.545137 288.257678 \nL 322.637593 288.257678 \nz\n\" clip-path=\"url(#p5f939785d4)\" style=\"fill: #ff7f0e\"/>\n   </g>\n   <g id=\"patch_22\">\n    <path d=\"M 357.175311 288.430125 \nL 364.082854 288.430125 \nL 364.082854 288.372643 \nL 357.175311 288.372643 \nz\n\" clip-path=\"url(#p5f939785d4)\" style=\"fill: #ff7f0e\"/>\n   </g>\n   <g id=\"matplotlib.axis_1\">\n    <g id=\"xtick_1\">\n     <g id=\"line2d_1\">\n      <defs>\n       <path id=\"m48a5ce7c94\" d=\"M 0 0 \nL 0 3.5 \n\" style=\"stroke: #000000; stroke-width: 0.8\"/>\n      </defs>\n      <g>\n       <use xlink:href=\"#m48a5ce7c94\" x=\"53.243396\" y=\"288.430125\" style=\"stroke: #000000; stroke-width: 0.8\"/>\n      </g>\n     </g>\n     <g id=\"text_1\">\n      <!-- 0 -->\n      <g transform=\"translate(50.062146 303.028562)scale(0.1 -0.1)\">\n       <defs>\n        <path id=\"DejaVuSans-30\" d=\"M 2034 4250 \nQ 1547 4250 1301 3770 \nQ 1056 3291 1056 2328 \nQ 1056 1369 1301 889 \nQ 1547 409 2034 409 \nQ 2525 409 2770 889 \nQ 3016 1369 3016 2328 \nQ 3016 3291 2770 3770 \nQ 2525 4250 2034 4250 \nz\nM 2034 4750 \nQ 2819 4750 3233 4129 \nQ 3647 3509 3647 2328 \nQ 3647 1150 3233 529 \nQ 2819 -91 2034 -91 \nQ 1250 -91 836 529 \nQ 422 1150 422 2328 \nQ 422 3509 836 4129 \nQ 1250 4750 2034 4750 \nz\n\" transform=\"scale(0.015625)\"/>\n       </defs>\n       <use xlink:href=\"#DejaVuSans-30\"/>\n      </g>\n     </g>\n    </g>\n    <g id=\"xtick_2\">\n     <g id=\"line2d_2\">\n      <g>\n       <use xlink:href=\"#m48a5ce7c94\" x=\"87.781113\" y=\"288.430125\" style=\"stroke: #000000; stroke-width: 0.8\"/>\n      </g>\n     </g>\n     <g id=\"text_2\">\n      <!-- 1 -->\n      <g transform=\"translate(84.599863 303.028562)scale(0.1 -0.1)\">\n       <defs>\n        <path id=\"DejaVuSans-31\" d=\"M 794 531 \nL 1825 531 \nL 1825 4091 \nL 703 3866 \nL 703 4441 \nL 1819 4666 \nL 2450 4666 \nL 2450 531 \nL 3481 531 \nL 3481 0 \nL 794 0 \nL 794 531 \nz\n\" transform=\"scale(0.015625)\"/>\n       </defs>\n       <use xlink:href=\"#DejaVuSans-31\"/>\n      </g>\n     </g>\n    </g>\n    <g id=\"xtick_3\">\n     <g id=\"line2d_3\">\n      <g>\n       <use xlink:href=\"#m48a5ce7c94\" x=\"122.318831\" y=\"288.430125\" style=\"stroke: #000000; stroke-width: 0.8\"/>\n      </g>\n     </g>\n     <g id=\"text_3\">\n      <!-- 2 -->\n      <g transform=\"translate(119.137581 303.028562)scale(0.1 -0.1)\">\n       <defs>\n        <path id=\"DejaVuSans-32\" d=\"M 1228 531 \nL 3431 531 \nL 3431 0 \nL 469 0 \nL 469 531 \nQ 828 903 1448 1529 \nQ 2069 2156 2228 2338 \nQ 2531 2678 2651 2914 \nQ 2772 3150 2772 3378 \nQ 2772 3750 2511 3984 \nQ 2250 4219 1831 4219 \nQ 1534 4219 1204 4116 \nQ 875 4013 500 3803 \nL 500 4441 \nQ 881 4594 1212 4672 \nQ 1544 4750 1819 4750 \nQ 2544 4750 2975 4387 \nQ 3406 4025 3406 3419 \nQ 3406 3131 3298 2873 \nQ 3191 2616 2906 2266 \nQ 2828 2175 2409 1742 \nQ 1991 1309 1228 531 \nz\n\" transform=\"scale(0.015625)\"/>\n       </defs>\n       <use xlink:href=\"#DejaVuSans-32\"/>\n      </g>\n     </g>\n    </g>\n    <g id=\"xtick_4\">\n     <g id=\"line2d_4\">\n      <g>\n       <use xlink:href=\"#m48a5ce7c94\" x=\"156.856549\" y=\"288.430125\" style=\"stroke: #000000; stroke-width: 0.8\"/>\n      </g>\n     </g>\n     <g id=\"text_4\">\n      <!-- 3 -->\n      <g transform=\"translate(153.675299 303.028562)scale(0.1 -0.1)\">\n       <defs>\n        <path id=\"DejaVuSans-33\" d=\"M 2597 2516 \nQ 3050 2419 3304 2112 \nQ 3559 1806 3559 1356 \nQ 3559 666 3084 287 \nQ 2609 -91 1734 -91 \nQ 1441 -91 1130 -33 \nQ 819 25 488 141 \nL 488 750 \nQ 750 597 1062 519 \nQ 1375 441 1716 441 \nQ 2309 441 2620 675 \nQ 2931 909 2931 1356 \nQ 2931 1769 2642 2001 \nQ 2353 2234 1838 2234 \nL 1294 2234 \nL 1294 2753 \nL 1863 2753 \nQ 2328 2753 2575 2939 \nQ 2822 3125 2822 3475 \nQ 2822 3834 2567 4026 \nQ 2313 4219 1838 4219 \nQ 1578 4219 1281 4162 \nQ 984 4106 628 3988 \nL 628 4550 \nQ 988 4650 1302 4700 \nQ 1616 4750 1894 4750 \nQ 2613 4750 3031 4423 \nQ 3450 4097 3450 3541 \nQ 3450 3153 3228 2886 \nQ 3006 2619 2597 2516 \nz\n\" transform=\"scale(0.015625)\"/>\n       </defs>\n       <use xlink:href=\"#DejaVuSans-33\"/>\n      </g>\n     </g>\n    </g>\n    <g id=\"xtick_5\">\n     <g id=\"line2d_5\">\n      <g>\n       <use xlink:href=\"#m48a5ce7c94\" x=\"191.394266\" y=\"288.430125\" style=\"stroke: #000000; stroke-width: 0.8\"/>\n      </g>\n     </g>\n     <g id=\"text_5\">\n      <!-- 4 -->\n      <g transform=\"translate(188.213016 303.028562)scale(0.1 -0.1)\">\n       <defs>\n        <path id=\"DejaVuSans-34\" d=\"M 2419 4116 \nL 825 1625 \nL 2419 1625 \nL 2419 4116 \nz\nM 2253 4666 \nL 3047 4666 \nL 3047 1625 \nL 3713 1625 \nL 3713 1100 \nL 3047 1100 \nL 3047 0 \nL 2419 0 \nL 2419 1100 \nL 313 1100 \nL 313 1709 \nL 2253 4666 \nz\n\" transform=\"scale(0.015625)\"/>\n       </defs>\n       <use xlink:href=\"#DejaVuSans-34\"/>\n      </g>\n     </g>\n    </g>\n    <g id=\"xtick_6\">\n     <g id=\"line2d_6\">\n      <g>\n       <use xlink:href=\"#m48a5ce7c94\" x=\"225.931984\" y=\"288.430125\" style=\"stroke: #000000; stroke-width: 0.8\"/>\n      </g>\n     </g>\n     <g id=\"text_6\">\n      <!-- 5 -->\n      <g transform=\"translate(222.750734 303.028562)scale(0.1 -0.1)\">\n       <defs>\n        <path id=\"DejaVuSans-35\" d=\"M 691 4666 \nL 3169 4666 \nL 3169 4134 \nL 1269 4134 \nL 1269 2991 \nQ 1406 3038 1543 3061 \nQ 1681 3084 1819 3084 \nQ 2600 3084 3056 2656 \nQ 3513 2228 3513 1497 \nQ 3513 744 3044 326 \nQ 2575 -91 1722 -91 \nQ 1428 -91 1123 -41 \nQ 819 9 494 109 \nL 494 744 \nQ 775 591 1075 516 \nQ 1375 441 1709 441 \nQ 2250 441 2565 725 \nQ 2881 1009 2881 1497 \nQ 2881 1984 2565 2268 \nQ 2250 2553 1709 2553 \nQ 1456 2553 1204 2497 \nQ 953 2441 691 2322 \nL 691 4666 \nz\n\" transform=\"scale(0.015625)\"/>\n       </defs>\n       <use xlink:href=\"#DejaVuSans-35\"/>\n      </g>\n     </g>\n    </g>\n    <g id=\"xtick_7\">\n     <g id=\"line2d_7\">\n      <g>\n       <use xlink:href=\"#m48a5ce7c94\" x=\"260.469701\" y=\"288.430125\" style=\"stroke: #000000; stroke-width: 0.8\"/>\n      </g>\n     </g>\n     <g id=\"text_7\">\n      <!-- 6 -->\n      <g transform=\"translate(257.288451 303.028562)scale(0.1 -0.1)\">\n       <defs>\n        <path id=\"DejaVuSans-36\" d=\"M 2113 2584 \nQ 1688 2584 1439 2293 \nQ 1191 2003 1191 1497 \nQ 1191 994 1439 701 \nQ 1688 409 2113 409 \nQ 2538 409 2786 701 \nQ 3034 994 3034 1497 \nQ 3034 2003 2786 2293 \nQ 2538 2584 2113 2584 \nz\nM 3366 4563 \nL 3366 3988 \nQ 3128 4100 2886 4159 \nQ 2644 4219 2406 4219 \nQ 1781 4219 1451 3797 \nQ 1122 3375 1075 2522 \nQ 1259 2794 1537 2939 \nQ 1816 3084 2150 3084 \nQ 2853 3084 3261 2657 \nQ 3669 2231 3669 1497 \nQ 3669 778 3244 343 \nQ 2819 -91 2113 -91 \nQ 1303 -91 875 529 \nQ 447 1150 447 2328 \nQ 447 3434 972 4092 \nQ 1497 4750 2381 4750 \nQ 2619 4750 2861 4703 \nQ 3103 4656 3366 4563 \nz\n\" transform=\"scale(0.015625)\"/>\n       </defs>\n       <use xlink:href=\"#DejaVuSans-36\"/>\n      </g>\n     </g>\n    </g>\n    <g id=\"xtick_8\">\n     <g id=\"line2d_8\">\n      <g>\n       <use xlink:href=\"#m48a5ce7c94\" x=\"295.007419\" y=\"288.430125\" style=\"stroke: #000000; stroke-width: 0.8\"/>\n      </g>\n     </g>\n     <g id=\"text_8\">\n      <!-- 7 -->\n      <g transform=\"translate(291.826169 303.028562)scale(0.1 -0.1)\">\n       <defs>\n        <path id=\"DejaVuSans-37\" d=\"M 525 4666 \nL 3525 4666 \nL 3525 4397 \nL 1831 0 \nL 1172 0 \nL 2766 4134 \nL 525 4134 \nL 525 4666 \nz\n\" transform=\"scale(0.015625)\"/>\n       </defs>\n       <use xlink:href=\"#DejaVuSans-37\"/>\n      </g>\n     </g>\n    </g>\n    <g id=\"xtick_9\">\n     <g id=\"line2d_9\">\n      <g>\n       <use xlink:href=\"#m48a5ce7c94\" x=\"329.545137\" y=\"288.430125\" style=\"stroke: #000000; stroke-width: 0.8\"/>\n      </g>\n     </g>\n     <g id=\"text_9\">\n      <!-- 8 -->\n      <g transform=\"translate(326.363887 303.028562)scale(0.1 -0.1)\">\n       <defs>\n        <path id=\"DejaVuSans-38\" d=\"M 2034 2216 \nQ 1584 2216 1326 1975 \nQ 1069 1734 1069 1313 \nQ 1069 891 1326 650 \nQ 1584 409 2034 409 \nQ 2484 409 2743 651 \nQ 3003 894 3003 1313 \nQ 3003 1734 2745 1975 \nQ 2488 2216 2034 2216 \nz\nM 1403 2484 \nQ 997 2584 770 2862 \nQ 544 3141 544 3541 \nQ 544 4100 942 4425 \nQ 1341 4750 2034 4750 \nQ 2731 4750 3128 4425 \nQ 3525 4100 3525 3541 \nQ 3525 3141 3298 2862 \nQ 3072 2584 2669 2484 \nQ 3125 2378 3379 2068 \nQ 3634 1759 3634 1313 \nQ 3634 634 3220 271 \nQ 2806 -91 2034 -91 \nQ 1263 -91 848 271 \nQ 434 634 434 1313 \nQ 434 1759 690 2068 \nQ 947 2378 1403 2484 \nz\nM 1172 3481 \nQ 1172 3119 1398 2916 \nQ 1625 2713 2034 2713 \nQ 2441 2713 2670 2916 \nQ 2900 3119 2900 3481 \nQ 2900 3844 2670 4047 \nQ 2441 4250 2034 4250 \nQ 1625 4250 1398 4047 \nQ 1172 3844 1172 3481 \nz\n\" transform=\"scale(0.015625)\"/>\n       </defs>\n       <use xlink:href=\"#DejaVuSans-38\"/>\n      </g>\n     </g>\n    </g>\n    <g id=\"xtick_10\">\n     <g id=\"line2d_10\">\n      <g>\n       <use xlink:href=\"#m48a5ce7c94\" x=\"364.082854\" y=\"288.430125\" style=\"stroke: #000000; stroke-width: 0.8\"/>\n      </g>\n     </g>\n     <g id=\"text_10\">\n      <!-- 9 -->\n      <g transform=\"translate(360.901604 303.028562)scale(0.1 -0.1)\">\n       <defs>\n        <path id=\"DejaVuSans-39\" d=\"M 703 97 \nL 703 672 \nQ 941 559 1184 500 \nQ 1428 441 1663 441 \nQ 2288 441 2617 861 \nQ 2947 1281 2994 2138 \nQ 2813 1869 2534 1725 \nQ 2256 1581 1919 1581 \nQ 1219 1581 811 2004 \nQ 403 2428 403 3163 \nQ 403 3881 828 4315 \nQ 1253 4750 1959 4750 \nQ 2769 4750 3195 4129 \nQ 3622 3509 3622 2328 \nQ 3622 1225 3098 567 \nQ 2575 -91 1691 -91 \nQ 1453 -91 1209 -44 \nQ 966 3 703 97 \nz\nM 1959 2075 \nQ 2384 2075 2632 2365 \nQ 2881 2656 2881 3163 \nQ 2881 3666 2632 3958 \nQ 2384 4250 1959 4250 \nQ 1534 4250 1286 3958 \nQ 1038 3666 1038 3163 \nQ 1038 2656 1286 2365 \nQ 1534 2075 1959 2075 \nz\n\" transform=\"scale(0.015625)\"/>\n       </defs>\n       <use xlink:href=\"#DejaVuSans-39\"/>\n      </g>\n     </g>\n    </g>\n   </g>\n   <g id=\"matplotlib.axis_2\">\n    <g id=\"ytick_1\">\n     <g id=\"line2d_11\">\n      <defs>\n       <path id=\"mcfbf2297fc\" d=\"M 0 0 \nL -3.5 0 \n\" style=\"stroke: #000000; stroke-width: 0.8\"/>\n      </defs>\n      <g>\n       <use xlink:href=\"#mcfbf2297fc\" x=\"30.103125\" y=\"288.430125\" style=\"stroke: #000000; stroke-width: 0.8\"/>\n      </g>\n     </g>\n     <g id=\"text_11\">\n      <!-- 0.0 -->\n      <g transform=\"translate(7.2 292.229344)scale(0.1 -0.1)\">\n       <defs>\n        <path id=\"DejaVuSans-2e\" d=\"M 684 794 \nL 1344 794 \nL 1344 0 \nL 684 0 \nL 684 794 \nz\n\" transform=\"scale(0.015625)\"/>\n       </defs>\n       <use xlink:href=\"#DejaVuSans-30\"/>\n       <use xlink:href=\"#DejaVuSans-2e\" x=\"63.623047\"/>\n       <use xlink:href=\"#DejaVuSans-30\" x=\"95.410156\"/>\n      </g>\n     </g>\n    </g>\n    <g id=\"ytick_2\">\n     <g id=\"line2d_12\">\n      <g>\n       <use xlink:href=\"#mcfbf2297fc\" x=\"30.103125\" y=\"230.947703\" style=\"stroke: #000000; stroke-width: 0.8\"/>\n      </g>\n     </g>\n     <g id=\"text_12\">\n      <!-- 0.1 -->\n      <g transform=\"translate(7.2 234.746921)scale(0.1 -0.1)\">\n       <use xlink:href=\"#DejaVuSans-30\"/>\n       <use xlink:href=\"#DejaVuSans-2e\" x=\"63.623047\"/>\n       <use xlink:href=\"#DejaVuSans-31\" x=\"95.410156\"/>\n      </g>\n     </g>\n    </g>\n    <g id=\"ytick_3\">\n     <g id=\"line2d_13\">\n      <g>\n       <use xlink:href=\"#mcfbf2297fc\" x=\"30.103125\" y=\"173.46528\" style=\"stroke: #000000; stroke-width: 0.8\"/>\n      </g>\n     </g>\n     <g id=\"text_13\">\n      <!-- 0.2 -->\n      <g transform=\"translate(7.2 177.264499)scale(0.1 -0.1)\">\n       <use xlink:href=\"#DejaVuSans-30\"/>\n       <use xlink:href=\"#DejaVuSans-2e\" x=\"63.623047\"/>\n       <use xlink:href=\"#DejaVuSans-32\" x=\"95.410156\"/>\n      </g>\n     </g>\n    </g>\n    <g id=\"ytick_4\">\n     <g id=\"line2d_14\">\n      <g>\n       <use xlink:href=\"#mcfbf2297fc\" x=\"30.103125\" y=\"115.982858\" style=\"stroke: #000000; stroke-width: 0.8\"/>\n      </g>\n     </g>\n     <g id=\"text_14\">\n      <!-- 0.3 -->\n      <g transform=\"translate(7.2 119.782077)scale(0.1 -0.1)\">\n       <use xlink:href=\"#DejaVuSans-30\"/>\n       <use xlink:href=\"#DejaVuSans-2e\" x=\"63.623047\"/>\n       <use xlink:href=\"#DejaVuSans-33\" x=\"95.410156\"/>\n      </g>\n     </g>\n    </g>\n    <g id=\"ytick_5\">\n     <g id=\"line2d_15\">\n      <g>\n       <use xlink:href=\"#mcfbf2297fc\" x=\"30.103125\" y=\"58.500436\" style=\"stroke: #000000; stroke-width: 0.8\"/>\n      </g>\n     </g>\n     <g id=\"text_15\">\n      <!-- 0.4 -->\n      <g transform=\"translate(7.2 62.299654)scale(0.1 -0.1)\">\n       <use xlink:href=\"#DejaVuSans-30\"/>\n       <use xlink:href=\"#DejaVuSans-2e\" x=\"63.623047\"/>\n       <use xlink:href=\"#DejaVuSans-34\" x=\"95.410156\"/>\n      </g>\n     </g>\n    </g>\n   </g>\n   <g id=\"patch_23\">\n    <path d=\"M 30.103125 288.430125 \nL 30.103125 22.318125 \n\" style=\"fill: none; stroke: #000000; stroke-width: 0.8; stroke-linejoin: miter; stroke-linecap: square\"/>\n   </g>\n   <g id=\"patch_24\">\n    <path d=\"M 387.223125 288.430125 \nL 387.223125 22.318125 \n\" style=\"fill: none; stroke: #000000; stroke-width: 0.8; stroke-linejoin: miter; stroke-linecap: square\"/>\n   </g>\n   <g id=\"patch_25\">\n    <path d=\"M 30.103125 288.430125 \nL 387.223125 288.430125 \n\" style=\"fill: none; stroke: #000000; stroke-width: 0.8; stroke-linejoin: miter; stroke-linecap: square\"/>\n   </g>\n   <g id=\"patch_26\">\n    <path d=\"M 30.103125 22.318125 \nL 387.223125 22.318125 \n\" style=\"fill: none; stroke: #000000; stroke-width: 0.8; stroke-linejoin: miter; stroke-linecap: square\"/>\n   </g>\n   <g id=\"text_16\">\n    <!-- Distribution of number of missing values per observation -->\n    <g transform=\"translate(37.32 16.318125)scale(0.12 -0.12)\">\n     <defs>\n      <path id=\"DejaVuSans-44\" d=\"M 1259 4147 \nL 1259 519 \nL 2022 519 \nQ 2988 519 3436 956 \nQ 3884 1394 3884 2338 \nQ 3884 3275 3436 3711 \nQ 2988 4147 2022 4147 \nL 1259 4147 \nz\nM 628 4666 \nL 1925 4666 \nQ 3281 4666 3915 4102 \nQ 4550 3538 4550 2338 \nQ 4550 1131 3912 565 \nQ 3275 0 1925 0 \nL 628 0 \nL 628 4666 \nz\n\" transform=\"scale(0.015625)\"/>\n      <path id=\"DejaVuSans-69\" d=\"M 603 3500 \nL 1178 3500 \nL 1178 0 \nL 603 0 \nL 603 3500 \nz\nM 603 4863 \nL 1178 4863 \nL 1178 4134 \nL 603 4134 \nL 603 4863 \nz\n\" transform=\"scale(0.015625)\"/>\n      <path id=\"DejaVuSans-73\" d=\"M 2834 3397 \nL 2834 2853 \nQ 2591 2978 2328 3040 \nQ 2066 3103 1784 3103 \nQ 1356 3103 1142 2972 \nQ 928 2841 928 2578 \nQ 928 2378 1081 2264 \nQ 1234 2150 1697 2047 \nL 1894 2003 \nQ 2506 1872 2764 1633 \nQ 3022 1394 3022 966 \nQ 3022 478 2636 193 \nQ 2250 -91 1575 -91 \nQ 1294 -91 989 -36 \nQ 684 19 347 128 \nL 347 722 \nQ 666 556 975 473 \nQ 1284 391 1588 391 \nQ 1994 391 2212 530 \nQ 2431 669 2431 922 \nQ 2431 1156 2273 1281 \nQ 2116 1406 1581 1522 \nL 1381 1569 \nQ 847 1681 609 1914 \nQ 372 2147 372 2553 \nQ 372 3047 722 3315 \nQ 1072 3584 1716 3584 \nQ 2034 3584 2315 3537 \nQ 2597 3491 2834 3397 \nz\n\" transform=\"scale(0.015625)\"/>\n      <path id=\"DejaVuSans-74\" d=\"M 1172 4494 \nL 1172 3500 \nL 2356 3500 \nL 2356 3053 \nL 1172 3053 \nL 1172 1153 \nQ 1172 725 1289 603 \nQ 1406 481 1766 481 \nL 2356 481 \nL 2356 0 \nL 1766 0 \nQ 1100 0 847 248 \nQ 594 497 594 1153 \nL 594 3053 \nL 172 3053 \nL 172 3500 \nL 594 3500 \nL 594 4494 \nL 1172 4494 \nz\n\" transform=\"scale(0.015625)\"/>\n      <path id=\"DejaVuSans-72\" d=\"M 2631 2963 \nQ 2534 3019 2420 3045 \nQ 2306 3072 2169 3072 \nQ 1681 3072 1420 2755 \nQ 1159 2438 1159 1844 \nL 1159 0 \nL 581 0 \nL 581 3500 \nL 1159 3500 \nL 1159 2956 \nQ 1341 3275 1631 3429 \nQ 1922 3584 2338 3584 \nQ 2397 3584 2469 3576 \nQ 2541 3569 2628 3553 \nL 2631 2963 \nz\n\" transform=\"scale(0.015625)\"/>\n      <path id=\"DejaVuSans-62\" d=\"M 3116 1747 \nQ 3116 2381 2855 2742 \nQ 2594 3103 2138 3103 \nQ 1681 3103 1420 2742 \nQ 1159 2381 1159 1747 \nQ 1159 1113 1420 752 \nQ 1681 391 2138 391 \nQ 2594 391 2855 752 \nQ 3116 1113 3116 1747 \nz\nM 1159 2969 \nQ 1341 3281 1617 3432 \nQ 1894 3584 2278 3584 \nQ 2916 3584 3314 3078 \nQ 3713 2572 3713 1747 \nQ 3713 922 3314 415 \nQ 2916 -91 2278 -91 \nQ 1894 -91 1617 61 \nQ 1341 213 1159 525 \nL 1159 0 \nL 581 0 \nL 581 4863 \nL 1159 4863 \nL 1159 2969 \nz\n\" transform=\"scale(0.015625)\"/>\n      <path id=\"DejaVuSans-75\" d=\"M 544 1381 \nL 544 3500 \nL 1119 3500 \nL 1119 1403 \nQ 1119 906 1312 657 \nQ 1506 409 1894 409 \nQ 2359 409 2629 706 \nQ 2900 1003 2900 1516 \nL 2900 3500 \nL 3475 3500 \nL 3475 0 \nL 2900 0 \nL 2900 538 \nQ 2691 219 2414 64 \nQ 2138 -91 1772 -91 \nQ 1169 -91 856 284 \nQ 544 659 544 1381 \nz\nM 1991 3584 \nL 1991 3584 \nz\n\" transform=\"scale(0.015625)\"/>\n      <path id=\"DejaVuSans-6f\" d=\"M 1959 3097 \nQ 1497 3097 1228 2736 \nQ 959 2375 959 1747 \nQ 959 1119 1226 758 \nQ 1494 397 1959 397 \nQ 2419 397 2687 759 \nQ 2956 1122 2956 1747 \nQ 2956 2369 2687 2733 \nQ 2419 3097 1959 3097 \nz\nM 1959 3584 \nQ 2709 3584 3137 3096 \nQ 3566 2609 3566 1747 \nQ 3566 888 3137 398 \nQ 2709 -91 1959 -91 \nQ 1206 -91 779 398 \nQ 353 888 353 1747 \nQ 353 2609 779 3096 \nQ 1206 3584 1959 3584 \nz\n\" transform=\"scale(0.015625)\"/>\n      <path id=\"DejaVuSans-6e\" d=\"M 3513 2113 \nL 3513 0 \nL 2938 0 \nL 2938 2094 \nQ 2938 2591 2744 2837 \nQ 2550 3084 2163 3084 \nQ 1697 3084 1428 2787 \nQ 1159 2491 1159 1978 \nL 1159 0 \nL 581 0 \nL 581 3500 \nL 1159 3500 \nL 1159 2956 \nQ 1366 3272 1645 3428 \nQ 1925 3584 2291 3584 \nQ 2894 3584 3203 3211 \nQ 3513 2838 3513 2113 \nz\n\" transform=\"scale(0.015625)\"/>\n      <path id=\"DejaVuSans-20\" transform=\"scale(0.015625)\"/>\n      <path id=\"DejaVuSans-66\" d=\"M 2375 4863 \nL 2375 4384 \nL 1825 4384 \nQ 1516 4384 1395 4259 \nQ 1275 4134 1275 3809 \nL 1275 3500 \nL 2222 3500 \nL 2222 3053 \nL 1275 3053 \nL 1275 0 \nL 697 0 \nL 697 3053 \nL 147 3053 \nL 147 3500 \nL 697 3500 \nL 697 3744 \nQ 697 4328 969 4595 \nQ 1241 4863 1831 4863 \nL 2375 4863 \nz\n\" transform=\"scale(0.015625)\"/>\n      <path id=\"DejaVuSans-6d\" d=\"M 3328 2828 \nQ 3544 3216 3844 3400 \nQ 4144 3584 4550 3584 \nQ 5097 3584 5394 3201 \nQ 5691 2819 5691 2113 \nL 5691 0 \nL 5113 0 \nL 5113 2094 \nQ 5113 2597 4934 2840 \nQ 4756 3084 4391 3084 \nQ 3944 3084 3684 2787 \nQ 3425 2491 3425 1978 \nL 3425 0 \nL 2847 0 \nL 2847 2094 \nQ 2847 2600 2669 2842 \nQ 2491 3084 2119 3084 \nQ 1678 3084 1418 2786 \nQ 1159 2488 1159 1978 \nL 1159 0 \nL 581 0 \nL 581 3500 \nL 1159 3500 \nL 1159 2956 \nQ 1356 3278 1631 3431 \nQ 1906 3584 2284 3584 \nQ 2666 3584 2933 3390 \nQ 3200 3197 3328 2828 \nz\n\" transform=\"scale(0.015625)\"/>\n      <path id=\"DejaVuSans-65\" d=\"M 3597 1894 \nL 3597 1613 \nL 953 1613 \nQ 991 1019 1311 708 \nQ 1631 397 2203 397 \nQ 2534 397 2845 478 \nQ 3156 559 3463 722 \nL 3463 178 \nQ 3153 47 2828 -22 \nQ 2503 -91 2169 -91 \nQ 1331 -91 842 396 \nQ 353 884 353 1716 \nQ 353 2575 817 3079 \nQ 1281 3584 2069 3584 \nQ 2775 3584 3186 3129 \nQ 3597 2675 3597 1894 \nz\nM 3022 2063 \nQ 3016 2534 2758 2815 \nQ 2500 3097 2075 3097 \nQ 1594 3097 1305 2825 \nQ 1016 2553 972 2059 \nL 3022 2063 \nz\n\" transform=\"scale(0.015625)\"/>\n      <path id=\"DejaVuSans-67\" d=\"M 2906 1791 \nQ 2906 2416 2648 2759 \nQ 2391 3103 1925 3103 \nQ 1463 3103 1205 2759 \nQ 947 2416 947 1791 \nQ 947 1169 1205 825 \nQ 1463 481 1925 481 \nQ 2391 481 2648 825 \nQ 2906 1169 2906 1791 \nz\nM 3481 434 \nQ 3481 -459 3084 -895 \nQ 2688 -1331 1869 -1331 \nQ 1566 -1331 1297 -1286 \nQ 1028 -1241 775 -1147 \nL 775 -588 \nQ 1028 -725 1275 -790 \nQ 1522 -856 1778 -856 \nQ 2344 -856 2625 -561 \nQ 2906 -266 2906 331 \nL 2906 616 \nQ 2728 306 2450 153 \nQ 2172 0 1784 0 \nQ 1141 0 747 490 \nQ 353 981 353 1791 \nQ 353 2603 747 3093 \nQ 1141 3584 1784 3584 \nQ 2172 3584 2450 3431 \nQ 2728 3278 2906 2969 \nL 2906 3500 \nL 3481 3500 \nL 3481 434 \nz\n\" transform=\"scale(0.015625)\"/>\n      <path id=\"DejaVuSans-76\" d=\"M 191 3500 \nL 800 3500 \nL 1894 563 \nL 2988 3500 \nL 3597 3500 \nL 2284 0 \nL 1503 0 \nL 191 3500 \nz\n\" transform=\"scale(0.015625)\"/>\n      <path id=\"DejaVuSans-61\" d=\"M 2194 1759 \nQ 1497 1759 1228 1600 \nQ 959 1441 959 1056 \nQ 959 750 1161 570 \nQ 1363 391 1709 391 \nQ 2188 391 2477 730 \nQ 2766 1069 2766 1631 \nL 2766 1759 \nL 2194 1759 \nz\nM 3341 1997 \nL 3341 0 \nL 2766 0 \nL 2766 531 \nQ 2569 213 2275 61 \nQ 1981 -91 1556 -91 \nQ 1019 -91 701 211 \nQ 384 513 384 1019 \nQ 384 1609 779 1909 \nQ 1175 2209 1959 2209 \nL 2766 2209 \nL 2766 2266 \nQ 2766 2663 2505 2880 \nQ 2244 3097 1772 3097 \nQ 1472 3097 1187 3025 \nQ 903 2953 641 2809 \nL 641 3341 \nQ 956 3463 1253 3523 \nQ 1550 3584 1831 3584 \nQ 2591 3584 2966 3190 \nQ 3341 2797 3341 1997 \nz\n\" transform=\"scale(0.015625)\"/>\n      <path id=\"DejaVuSans-6c\" d=\"M 603 4863 \nL 1178 4863 \nL 1178 0 \nL 603 0 \nL 603 4863 \nz\n\" transform=\"scale(0.015625)\"/>\n      <path id=\"DejaVuSans-70\" d=\"M 1159 525 \nL 1159 -1331 \nL 581 -1331 \nL 581 3500 \nL 1159 3500 \nL 1159 2969 \nQ 1341 3281 1617 3432 \nQ 1894 3584 2278 3584 \nQ 2916 3584 3314 3078 \nQ 3713 2572 3713 1747 \nQ 3713 922 3314 415 \nQ 2916 -91 2278 -91 \nQ 1894 -91 1617 61 \nQ 1341 213 1159 525 \nz\nM 3116 1747 \nQ 3116 2381 2855 2742 \nQ 2594 3103 2138 3103 \nQ 1681 3103 1420 2742 \nQ 1159 2381 1159 1747 \nQ 1159 1113 1420 752 \nQ 1681 391 2138 391 \nQ 2594 391 2855 752 \nQ 3116 1113 3116 1747 \nz\n\" transform=\"scale(0.015625)\"/>\n     </defs>\n     <use xlink:href=\"#DejaVuSans-44\"/>\n     <use xlink:href=\"#DejaVuSans-69\" x=\"77.001953\"/>\n     <use xlink:href=\"#DejaVuSans-73\" x=\"104.785156\"/>\n     <use xlink:href=\"#DejaVuSans-74\" x=\"156.884766\"/>\n     <use xlink:href=\"#DejaVuSans-72\" x=\"196.09375\"/>\n     <use xlink:href=\"#DejaVuSans-69\" x=\"237.207031\"/>\n     <use xlink:href=\"#DejaVuSans-62\" x=\"264.990234\"/>\n     <use xlink:href=\"#DejaVuSans-75\" x=\"328.466797\"/>\n     <use xlink:href=\"#DejaVuSans-74\" x=\"391.845703\"/>\n     <use xlink:href=\"#DejaVuSans-69\" x=\"431.054688\"/>\n     <use xlink:href=\"#DejaVuSans-6f\" x=\"458.837891\"/>\n     <use xlink:href=\"#DejaVuSans-6e\" x=\"520.019531\"/>\n     <use xlink:href=\"#DejaVuSans-20\" x=\"583.398438\"/>\n     <use xlink:href=\"#DejaVuSans-6f\" x=\"615.185547\"/>\n     <use xlink:href=\"#DejaVuSans-66\" x=\"676.367188\"/>\n     <use xlink:href=\"#DejaVuSans-20\" x=\"711.572266\"/>\n     <use xlink:href=\"#DejaVuSans-6e\" x=\"743.359375\"/>\n     <use xlink:href=\"#DejaVuSans-75\" x=\"806.738281\"/>\n     <use xlink:href=\"#DejaVuSans-6d\" x=\"870.117188\"/>\n     <use xlink:href=\"#DejaVuSans-62\" x=\"967.529297\"/>\n     <use xlink:href=\"#DejaVuSans-65\" x=\"1031.005859\"/>\n     <use xlink:href=\"#DejaVuSans-72\" x=\"1092.529297\"/>\n     <use xlink:href=\"#DejaVuSans-20\" x=\"1133.642578\"/>\n     <use xlink:href=\"#DejaVuSans-6f\" x=\"1165.429688\"/>\n     <use xlink:href=\"#DejaVuSans-66\" x=\"1226.611328\"/>\n     <use xlink:href=\"#DejaVuSans-20\" x=\"1261.816406\"/>\n     <use xlink:href=\"#DejaVuSans-6d\" x=\"1293.603516\"/>\n     <use xlink:href=\"#DejaVuSans-69\" x=\"1391.015625\"/>\n     <use xlink:href=\"#DejaVuSans-73\" x=\"1418.798828\"/>\n     <use xlink:href=\"#DejaVuSans-73\" x=\"1470.898438\"/>\n     <use xlink:href=\"#DejaVuSans-69\" x=\"1522.998047\"/>\n     <use xlink:href=\"#DejaVuSans-6e\" x=\"1550.78125\"/>\n     <use xlink:href=\"#DejaVuSans-67\" x=\"1614.160156\"/>\n     <use xlink:href=\"#DejaVuSans-20\" x=\"1677.636719\"/>\n     <use xlink:href=\"#DejaVuSans-76\" x=\"1709.423828\"/>\n     <use xlink:href=\"#DejaVuSans-61\" x=\"1768.603516\"/>\n     <use xlink:href=\"#DejaVuSans-6c\" x=\"1829.882812\"/>\n     <use xlink:href=\"#DejaVuSans-75\" x=\"1857.666016\"/>\n     <use xlink:href=\"#DejaVuSans-65\" x=\"1921.044922\"/>\n     <use xlink:href=\"#DejaVuSans-73\" x=\"1982.568359\"/>\n     <use xlink:href=\"#DejaVuSans-20\" x=\"2034.667969\"/>\n     <use xlink:href=\"#DejaVuSans-70\" x=\"2066.455078\"/>\n     <use xlink:href=\"#DejaVuSans-65\" x=\"2129.931641\"/>\n     <use xlink:href=\"#DejaVuSans-72\" x=\"2191.455078\"/>\n     <use xlink:href=\"#DejaVuSans-20\" x=\"2232.568359\"/>\n     <use xlink:href=\"#DejaVuSans-6f\" x=\"2264.355469\"/>\n     <use xlink:href=\"#DejaVuSans-62\" x=\"2325.537109\"/>\n     <use xlink:href=\"#DejaVuSans-73\" x=\"2389.013672\"/>\n     <use xlink:href=\"#DejaVuSans-65\" x=\"2441.113281\"/>\n     <use xlink:href=\"#DejaVuSans-72\" x=\"2502.636719\"/>\n     <use xlink:href=\"#DejaVuSans-76\" x=\"2543.75\"/>\n     <use xlink:href=\"#DejaVuSans-61\" x=\"2602.929688\"/>\n     <use xlink:href=\"#DejaVuSans-74\" x=\"2664.208984\"/>\n     <use xlink:href=\"#DejaVuSans-69\" x=\"2703.417969\"/>\n     <use xlink:href=\"#DejaVuSans-6f\" x=\"2731.201172\"/>\n     <use xlink:href=\"#DejaVuSans-6e\" x=\"2792.382812\"/>\n    </g>\n   </g>\n   <g id=\"legend_1\">\n    <g id=\"patch_27\">\n     <path d=\"M 324.948125 59.674375 \nL 380.223125 59.674375 \nQ 382.223125 59.674375 382.223125 57.674375 \nL 382.223125 29.318125 \nQ 382.223125 27.318125 380.223125 27.318125 \nL 324.948125 27.318125 \nQ 322.948125 27.318125 322.948125 29.318125 \nL 322.948125 57.674375 \nQ 322.948125 59.674375 324.948125 59.674375 \nz\n\" style=\"fill: #ffffff; opacity: 0.8; stroke: #cccccc; stroke-linejoin: miter\"/>\n    </g>\n    <g id=\"patch_28\">\n     <path d=\"M 326.948125 38.916562 \nL 346.948125 38.916562 \nL 346.948125 31.916562 \nL 326.948125 31.916562 \nz\n\" style=\"fill: #1f77b4\"/>\n    </g>\n    <g id=\"text_17\">\n     <!-- train -->\n     <g transform=\"translate(354.948125 38.916562)scale(0.1 -0.1)\">\n      <use xlink:href=\"#DejaVuSans-74\"/>\n      <use xlink:href=\"#DejaVuSans-72\" x=\"39.208984\"/>\n      <use xlink:href=\"#DejaVuSans-61\" x=\"80.322266\"/>\n      <use xlink:href=\"#DejaVuSans-69\" x=\"141.601562\"/>\n      <use xlink:href=\"#DejaVuSans-6e\" x=\"169.384766\"/>\n     </g>\n    </g>\n    <g id=\"patch_29\">\n     <path d=\"M 326.948125 53.594687 \nL 346.948125 53.594687 \nL 346.948125 46.594687 \nL 326.948125 46.594687 \nz\n\" style=\"fill: #ff7f0e\"/>\n    </g>\n    <g id=\"text_18\">\n     <!-- test -->\n     <g transform=\"translate(354.948125 53.594687)scale(0.1 -0.1)\">\n      <use xlink:href=\"#DejaVuSans-74\"/>\n      <use xlink:href=\"#DejaVuSans-65\" x=\"39.208984\"/>\n      <use xlink:href=\"#DejaVuSans-73\" x=\"100.732422\"/>\n      <use xlink:href=\"#DejaVuSans-74\" x=\"152.832031\"/>\n     </g>\n    </g>\n   </g>\n  </g>\n </g>\n <defs>\n  <clipPath id=\"p5f939785d4\">\n   <rect x=\"30.103125\" y=\"22.318125\" width=\"357.12\" height=\"266.112\"/>\n  </clipPath>\n </defs>\n</svg>\n",
      "text/plain": [
       "<Figure size 640x480 with 1 Axes>"
      ]
     },
     "metadata": {},
     "output_type": "display_data"
    }
   ],
   "source": [
    "tt[\"n_missing\"] = tt[nacols].isna().sum(axis=1)\n",
    "\n",
    "train_hist = np.histogram(tt.query(\"is_train == True\").n_missing)[0] / len(train)\n",
    "test_hist = np.histogram(tt.query(\"is_train == False\").n_missing)[0] / len(test)\n",
    "x = np.arange(len(train_hist))\n",
    "\n",
    "plt.bar(x + 0.1, train_hist, width=0.2, label='train')\n",
    "plt.bar(x - 0.1, test_hist,  width=0.2, label='test')\n",
    "plt.xticks(x)\n",
    "plt.title(\"Distribution of number of missing values per observation\")\n",
    "plt.legend();"
   ]
  },
  {
   "cell_type": "code",
   "execution_count": 8,
   "metadata": {},
   "outputs": [
    {
     "data": {
      "text/html": [
       "<div>\n",
       "<style scoped>\n",
       "    .dataframe tbody tr th:only-of-type {\n",
       "        vertical-align: middle;\n",
       "    }\n",
       "\n",
       "    .dataframe tbody tr th {\n",
       "        vertical-align: top;\n",
       "    }\n",
       "\n",
       "    .dataframe thead th {\n",
       "        text-align: right;\n",
       "    }\n",
       "</style>\n",
       "<table border=\"1\" class=\"dataframe\">\n",
       "  <thead>\n",
       "    <tr style=\"text-align: right;\">\n",
       "      <th></th>\n",
       "      <th>id</th>\n",
       "      <th>song_duration_ms</th>\n",
       "      <th>acousticness</th>\n",
       "      <th>danceability</th>\n",
       "      <th>energy</th>\n",
       "      <th>instrumentalness</th>\n",
       "      <th>key</th>\n",
       "      <th>liveness</th>\n",
       "      <th>loudness</th>\n",
       "      <th>audio_mode</th>\n",
       "      <th>speechiness</th>\n",
       "      <th>tempo</th>\n",
       "      <th>time_signature</th>\n",
       "      <th>audio_valence</th>\n",
       "      <th>song_popularity</th>\n",
       "      <th>is_train</th>\n",
       "      <th>n_missing</th>\n",
       "    </tr>\n",
       "  </thead>\n",
       "  <tbody>\n",
       "    <tr>\n",
       "      <th>13457</th>\n",
       "      <td>13457</td>\n",
       "      <td>176401.0</td>\n",
       "      <td>NaN</td>\n",
       "      <td>NaN</td>\n",
       "      <td>0.833408</td>\n",
       "      <td>NaN</td>\n",
       "      <td>NaN</td>\n",
       "      <td>NaN</td>\n",
       "      <td>NaN</td>\n",
       "      <td>0</td>\n",
       "      <td>0.052580</td>\n",
       "      <td>142.802779</td>\n",
       "      <td>3</td>\n",
       "      <td>0.546615</td>\n",
       "      <td>0.0</td>\n",
       "      <td>True</td>\n",
       "      <td>6</td>\n",
       "    </tr>\n",
       "    <tr>\n",
       "      <th>19697</th>\n",
       "      <td>19697</td>\n",
       "      <td>NaN</td>\n",
       "      <td>NaN</td>\n",
       "      <td>NaN</td>\n",
       "      <td>NaN</td>\n",
       "      <td>0.003014</td>\n",
       "      <td>NaN</td>\n",
       "      <td>NaN</td>\n",
       "      <td>-10.708472</td>\n",
       "      <td>0</td>\n",
       "      <td>0.035591</td>\n",
       "      <td>95.181833</td>\n",
       "      <td>3</td>\n",
       "      <td>0.483101</td>\n",
       "      <td>0.0</td>\n",
       "      <td>True</td>\n",
       "      <td>6</td>\n",
       "    </tr>\n",
       "    <tr>\n",
       "      <th>48594</th>\n",
       "      <td>8594</td>\n",
       "      <td>NaN</td>\n",
       "      <td>NaN</td>\n",
       "      <td>NaN</td>\n",
       "      <td>0.344299</td>\n",
       "      <td>NaN</td>\n",
       "      <td>2.0</td>\n",
       "      <td>NaN</td>\n",
       "      <td>NaN</td>\n",
       "      <td>1</td>\n",
       "      <td>0.035495</td>\n",
       "      <td>151.125383</td>\n",
       "      <td>4</td>\n",
       "      <td>0.463903</td>\n",
       "      <td>NaN</td>\n",
       "      <td>False</td>\n",
       "      <td>6</td>\n",
       "    </tr>\n",
       "  </tbody>\n",
       "</table>\n",
       "</div>"
      ],
      "text/plain": [
       "          id  song_duration_ms  acousticness  danceability    energy  \\\n",
       "13457  13457          176401.0           NaN           NaN  0.833408   \n",
       "19697  19697               NaN           NaN           NaN       NaN   \n",
       "48594   8594               NaN           NaN           NaN  0.344299   \n",
       "\n",
       "       instrumentalness  key  liveness   loudness  audio_mode  speechiness  \\\n",
       "13457               NaN  NaN       NaN        NaN           0     0.052580   \n",
       "19697          0.003014  NaN       NaN -10.708472           0     0.035591   \n",
       "48594               NaN  2.0       NaN        NaN           1     0.035495   \n",
       "\n",
       "            tempo  time_signature  audio_valence  song_popularity  is_train  \\\n",
       "13457  142.802779               3       0.546615              0.0      True   \n",
       "19697   95.181833               3       0.483101              0.0      True   \n",
       "48594  151.125383               4       0.463903              NaN     False   \n",
       "\n",
       "       n_missing  \n",
       "13457          6  \n",
       "19697          6  \n",
       "48594          6  "
      ]
     },
     "execution_count": 8,
     "metadata": {},
     "output_type": "execute_result"
    }
   ],
   "source": [
    "tt.query(\"n_missing == 6\")"
   ]
  },
  {
   "cell_type": "markdown",
   "metadata": {},
   "source": [
    "Samples with high number of missing values will be difficult to impute. "
   ]
  },
  {
   "cell_type": "markdown",
   "metadata": {},
   "source": [
    "### Missing distribution by feature value"
   ]
  },
  {
   "cell_type": "markdown",
   "metadata": {},
   "source": [
    "If number of missing value per observation is heavily biased towards a certain feature value, we can conclude that that feature value is somehow associated with an observation having overall missing features count. We do this for categorical features and the target."
   ]
  },
  {
   "cell_type": "code",
   "execution_count": 9,
   "metadata": {},
   "outputs": [
    {
     "name": "stdout",
     "output_type": "stream",
     "text": [
      "audio_mode           0.7997 - 0.8045\n",
      "key                  0.6737 - 0.7483\n",
      "song_popularity      0.7997 - 0.8075\n"
     ]
    }
   ],
   "source": [
    "for col in ['audio_mode', 'key', 'song_popularity']:\n",
    "    print(f'{col:<20} {(tt.groupby(col)[\"n_missing\"].mean()).min():.4f} - {(tt.groupby(col)[\"n_missing\"].mean()).max():.4f}')"
   ]
  },
  {
   "cell_type": "markdown",
   "metadata": {},
   "source": [
    "Let's check the `key` column since it has significant range."
   ]
  },
  {
   "cell_type": "code",
   "execution_count": 10,
   "metadata": {},
   "outputs": [
    {
     "data": {
      "text/plain": [
       "key_isna                 0.000000\n",
       "song_duration_ms_isna    0.003608\n",
       "acousticness_isna        0.003937\n",
       "danceability_isna        0.005062\n",
       "liveness_isna            0.005803\n",
       "loudness_isna            0.006298\n",
       "instrumentalness_isna    0.008514\n",
       "energy_isna              0.012107\n",
       "dtype: float64"
      ]
     },
     "execution_count": 10,
     "metadata": {},
     "output_type": "execute_result"
    }
   ],
   "source": [
    "# create missing indicator columns\n",
    "tt2 = tt.copy()\n",
    "for col in nacols:\n",
    "    tt2[col + '_isna'] = tt2[col].isna()\n",
    "\n",
    "# check variance of percentage of missing values wrt to key values\n",
    "tt2.groupby('key')[[col + '_isna' for col in nacols]].mean().std().sort_values()"
   ]
  },
  {
   "cell_type": "markdown",
   "metadata": {},
   "source": [
    "Let's check missing `energy` per `key` value:"
   ]
  },
  {
   "cell_type": "code",
   "execution_count": 11,
   "metadata": {},
   "outputs": [
    {
     "data": {
      "text/html": [
       "<div>\n",
       "<style scoped>\n",
       "    .dataframe tbody tr th:only-of-type {\n",
       "        vertical-align: middle;\n",
       "    }\n",
       "\n",
       "    .dataframe tbody tr th {\n",
       "        vertical-align: top;\n",
       "    }\n",
       "\n",
       "    .dataframe thead th {\n",
       "        text-align: right;\n",
       "    }\n",
       "</style>\n",
       "<table border=\"1\" class=\"dataframe\">\n",
       "  <thead>\n",
       "    <tr style=\"text-align: right;\">\n",
       "      <th></th>\n",
       "      <th>mean</th>\n",
       "      <th>count</th>\n",
       "    </tr>\n",
       "    <tr>\n",
       "      <th>key</th>\n",
       "      <th></th>\n",
       "      <th></th>\n",
       "    </tr>\n",
       "  </thead>\n",
       "  <tbody>\n",
       "    <tr>\n",
       "      <th>0.0</th>\n",
       "      <td>0.096195</td>\n",
       "      <td>6518</td>\n",
       "    </tr>\n",
       "    <tr>\n",
       "      <th>1.0</th>\n",
       "      <td>0.110524</td>\n",
       "      <td>2651</td>\n",
       "    </tr>\n",
       "    <tr>\n",
       "      <th>2.0</th>\n",
       "      <td>0.096906</td>\n",
       "      <td>5139</td>\n",
       "    </tr>\n",
       "    <tr>\n",
       "      <th>3.0</th>\n",
       "      <td>0.103062</td>\n",
       "      <td>1698</td>\n",
       "    </tr>\n",
       "    <tr>\n",
       "      <th>4.0</th>\n",
       "      <td>0.102195</td>\n",
       "      <td>2779</td>\n",
       "    </tr>\n",
       "    <tr>\n",
       "      <th>5.0</th>\n",
       "      <td>0.100162</td>\n",
       "      <td>3694</td>\n",
       "    </tr>\n",
       "    <tr>\n",
       "      <th>6.0</th>\n",
       "      <td>0.101695</td>\n",
       "      <td>6195</td>\n",
       "    </tr>\n",
       "    <tr>\n",
       "      <th>7.0</th>\n",
       "      <td>0.103346</td>\n",
       "      <td>3377</td>\n",
       "    </tr>\n",
       "    <tr>\n",
       "      <th>8.0</th>\n",
       "      <td>0.090400</td>\n",
       "      <td>3750</td>\n",
       "    </tr>\n",
       "    <tr>\n",
       "      <th>9.0</th>\n",
       "      <td>0.099725</td>\n",
       "      <td>3630</td>\n",
       "    </tr>\n",
       "    <tr>\n",
       "      <th>10.0</th>\n",
       "      <td>0.103152</td>\n",
       "      <td>5361</td>\n",
       "    </tr>\n",
       "    <tr>\n",
       "      <th>11.0</th>\n",
       "      <td>0.139073</td>\n",
       "      <td>151</td>\n",
       "    </tr>\n",
       "  </tbody>\n",
       "</table>\n",
       "</div>"
      ],
      "text/plain": [
       "          mean  count\n",
       "key                  \n",
       "0.0   0.096195   6518\n",
       "1.0   0.110524   2651\n",
       "2.0   0.096906   5139\n",
       "3.0   0.103062   1698\n",
       "4.0   0.102195   2779\n",
       "5.0   0.100162   3694\n",
       "6.0   0.101695   6195\n",
       "7.0   0.103346   3377\n",
       "8.0   0.090400   3750\n",
       "9.0   0.099725   3630\n",
       "10.0  0.103152   5361\n",
       "11.0  0.139073    151"
      ]
     },
     "execution_count": 11,
     "metadata": {},
     "output_type": "execute_result"
    }
   ],
   "source": [
    "tt2.groupby('key')['energy_isna'].agg([\"mean\", \"count\"])"
   ]
  },
  {
   "cell_type": "markdown",
   "metadata": {},
   "source": [
    "Note that while `key == 11` has significant difference in percentage of missing `energy`, it has the least count. Hence, the relationship between having a key of 11 and having a missing energy feature may not be truly significant. In case there is actual difference, then the imputation method should take into account the value of this feature (see group-by filling below)."
   ]
  },
  {
   "cell_type": "markdown",
   "metadata": {},
   "source": [
    "## Basics of missing value imputation"
   ]
  },
  {
   "cell_type": "markdown",
   "metadata": {},
   "source": [
    "In this section, we outline some of the first things to consider when handling missing data."
   ]
  },
  {
   "cell_type": "markdown",
   "metadata": {},
   "source": [
    "### Preprocessing: adding missing value indicators"
   ]
  },
  {
   "cell_type": "markdown",
   "metadata": {},
   "source": [
    "We will add a missing value indicator for each feature. If missing data does not occur completely at random, \"missing\" itself should have information. Thus, adding missing flags for some features can improve model performance.\n"
   ]
  },
  {
   "cell_type": "code",
   "execution_count": 12,
   "metadata": {},
   "outputs": [],
   "source": [
    "# Create indicator df\n",
    "tt_missing_tag_df = tt[nacols].isna()\n",
    "tt_missing_tag_df.columns = [f\"{c}_missing\" for c in tt_missing_tag_df.columns]\n",
    "\n",
    "# Concat to original df\n",
    "tt = pd.concat([tt, tt_missing_tag_df], axis=1)"
   ]
  },
  {
   "cell_type": "markdown",
   "metadata": {},
   "source": [
    "### Protip: Predicting target using only missing value indicators as features"
   ]
  },
  {
   "cell_type": "code",
   "execution_count": 13,
   "metadata": {},
   "outputs": [
    {
     "data": {
      "text/plain": [
       "0.0    25424\n",
       "1.0    14576\n",
       "Name: song_popularity, dtype: int64"
      ]
     },
     "execution_count": 13,
     "metadata": {},
     "output_type": "execute_result"
    }
   ],
   "source": [
    "tt.query(\"is_train == True\").song_popularity.value_counts()"
   ]
  },
  {
   "cell_type": "code",
   "execution_count": 14,
   "metadata": {},
   "outputs": [
    {
     "name": "stdout",
     "output_type": "stream",
     "text": [
      "ROC-AUC: 0.4928022710677621\n"
     ]
    }
   ],
   "source": [
    "from sklearn.linear_model import LogisticRegressionCV\n",
    "from sklearn.metrics import roc_auc_score\n",
    "\n",
    "lr = LogisticRegressionCV(scoring=\"accuracy\", cv=5) # StratifiedKFold by default\n",
    "X = tt.query(\"is_train == 1\")[[col+\"_missing\" for col in nacols]]\n",
    "y = tt.query(\"is_train == 1\").song_popularity\n",
    "\n",
    "# Fit model + predict\n",
    "lr.fit(X, y)\n",
    "preds = lr.predict_proba(X)[:, 0]\n",
    "print(\"ROC-AUC:\", roc_auc_score(y, preds))"
   ]
  },
  {
   "cell_type": "markdown",
   "metadata": {},
   "source": [
    "This shows that missing indicators by themselves are not predictive of the target."
   ]
  },
  {
   "cell_type": "markdown",
   "metadata": {},
   "source": [
    "### Basic techniques for filling missing values"
   ]
  },
  {
   "cell_type": "markdown",
   "metadata": {},
   "source": [
    "**Do nothing.** Tree-based models like LightGBM and XGBoost can work with missing values. Other types of regression or neural networks will require some sort of imputation. Thus, one way to handle missing values is to simply use models that can treat missing values as features without any preprocessing.\n",
    "\n",
    "* https://lightgbm.readthedocs.io/en/latest/Advanced-Topics.html\n"
   ]
  },
  {
   "cell_type": "code",
   "execution_count": 15,
   "metadata": {},
   "outputs": [],
   "source": [
    "import lightgbm as lgb\n",
    "\n",
    "# use_missing=True (default) or zero_as_missing=False (convert NA to 0) are params that can be used\n",
    "lgbm_params = {\n",
    "    'objective': 'regression',\n",
    "    'metric': 'auc',\n",
    "    'verbose': -1,\n",
    "    'boost_from_average': False,\n",
    "    'min_data': 1,\n",
    "    'num_leaves': 2,\n",
    "    'learning_rate': 1,\n",
    "    'min_data_in_bin': 1,\n",
    "    'use_missing': False,\n",
    "    'zero_as_missing': True\n",
    "}\n",
    "\n",
    "model = lgb.LGBMClassifier(params=lgbm_params)"
   ]
  },
  {
   "cell_type": "markdown",
   "metadata": {},
   "source": [
    "**Drop them.** Another technique is to simply drop observations with missing features. This  doesn't work on the test set since we have to somehow impute missing values to make a prediction. We can also drop whole columns. But this leaves us less features to work with during modelling."
   ]
  },
  {
   "cell_type": "code",
   "execution_count": 16,
   "metadata": {},
   "outputs": [
    {
     "name": "stdout",
     "output_type": "stream",
     "text": [
      "(50000, 25) (17259, 25)\n",
      "(50000, 25) (44942, 25)\n"
     ]
    }
   ],
   "source": [
    "# Dropping observations\n",
    "print(tt.shape, tt.dropna(axis=0).shape)\n",
    "\n",
    "# We can also drop on particular features\n",
    "print(tt.shape, tt.dropna(axis=0, subset=['song_duration_ms']).shape)"
   ]
  },
  {
   "cell_type": "code",
   "execution_count": 17,
   "metadata": {},
   "outputs": [
    {
     "data": {
      "text/plain": [
       "((50000, 25), (50000, 16))"
      ]
     },
     "execution_count": 17,
     "metadata": {},
     "output_type": "execute_result"
    }
   ],
   "source": [
    "# Dropping whole features\n",
    "tt.shape, tt.dropna(axis=1).shape"
   ]
  },
  {
   "cell_type": "markdown",
   "metadata": {},
   "source": [
    "**Pandas imputation.** The Pandas library offer table-based functionalities for dealing with missing data. For instance, we can use Pandas `.fillna` as an easy way to fill missing values with arbitrary values."
   ]
  },
  {
   "cell_type": "code",
   "execution_count": 18,
   "metadata": {},
   "outputs": [
    {
     "data": {
      "text/plain": [
       "0    212990.0\n",
       "1      -999.0\n",
       "2    193213.0\n",
       "3    249893.0\n",
       "4    165969.0\n",
       "Name: song_duration_ms, dtype: float64"
      ]
     },
     "execution_count": 18,
     "metadata": {},
     "output_type": "execute_result"
    }
   ],
   "source": [
    "# Fill with a default value\n",
    "tt['song_duration_ms'].fillna(-999).head(5)"
   ]
  },
  {
   "cell_type": "markdown",
   "metadata": {},
   "source": [
    "```{margin}\n",
    "For categorical variables, instead of the mean or median, we can use the most frequent value as `fill_value`.\n",
    "```"
   ]
  },
  {
   "cell_type": "code",
   "execution_count": 19,
   "metadata": {},
   "outputs": [
    {
     "data": {
      "text/html": [
       "<div>\n",
       "<style scoped>\n",
       "    .dataframe tbody tr th:only-of-type {\n",
       "        vertical-align: middle;\n",
       "    }\n",
       "\n",
       "    .dataframe tbody tr th {\n",
       "        vertical-align: top;\n",
       "    }\n",
       "\n",
       "    .dataframe thead th {\n",
       "        text-align: right;\n",
       "    }\n",
       "</style>\n",
       "<table border=\"1\" class=\"dataframe\">\n",
       "  <thead>\n",
       "    <tr style=\"text-align: right;\">\n",
       "      <th></th>\n",
       "      <th>song_duration_ms</th>\n",
       "      <th>song_duration_ms_mean_imp</th>\n",
       "    </tr>\n",
       "  </thead>\n",
       "  <tbody>\n",
       "    <tr>\n",
       "      <th>1</th>\n",
       "      <td>NaN</td>\n",
       "      <td>193150.809021</td>\n",
       "    </tr>\n",
       "    <tr>\n",
       "      <th>13</th>\n",
       "      <td>NaN</td>\n",
       "      <td>193150.809021</td>\n",
       "    </tr>\n",
       "    <tr>\n",
       "      <th>14</th>\n",
       "      <td>NaN</td>\n",
       "      <td>193150.809021</td>\n",
       "    </tr>\n",
       "    <tr>\n",
       "      <th>15</th>\n",
       "      <td>NaN</td>\n",
       "      <td>193150.809021</td>\n",
       "    </tr>\n",
       "    <tr>\n",
       "      <th>28</th>\n",
       "      <td>NaN</td>\n",
       "      <td>193150.809021</td>\n",
       "    </tr>\n",
       "  </tbody>\n",
       "</table>\n",
       "</div>"
      ],
      "text/plain": [
       "    song_duration_ms  song_duration_ms_mean_imp\n",
       "1                NaN              193150.809021\n",
       "13               NaN              193150.809021\n",
       "14               NaN              193150.809021\n",
       "15               NaN              193150.809021\n",
       "28               NaN              193150.809021"
      ]
     },
     "execution_count": 19,
     "metadata": {},
     "output_type": "execute_result"
    }
   ],
   "source": [
    "# Impute with mean (fixed)\n",
    "fill_value = tt[\"song_duration_ms\"].mean() # or median\n",
    "tt[\"song_duration_ms_mean_imp\"] = tt[\"song_duration_ms\"].fillna(fill_value)\n",
    "\n",
    "# Printing\n",
    "tt.loc[tt['song_duration_ms'].isna()][[\"song_duration_ms\", \"song_duration_ms_mean_imp\"]].head(5)"
   ]
  },
  {
   "cell_type": "markdown",
   "metadata": {},
   "source": [
    "**Filling based on feature value.** Here we impute using the average value of a feature over a group based on another feature. As an example we will use the `audio_mode` feature to group observations, where we will base our mean imputation for the `song_duration` feature."
   ]
  },
  {
   "cell_type": "code",
   "execution_count": null,
   "metadata": {},
   "outputs": [
    {
     "data": {
      "text/plain": [
       "{0: 193860.63699819762, 1: 191649.42961114578}"
      ]
     },
     "metadata": {},
     "output_type": "display_data"
    }
   ],
   "source": [
    "sd_mean_map = tt.groupby(\"audio_mode\")[\"song_duration_ms\"].mean().to_dict()\n",
    "sd_mean_map # song_duration mean per audio mode value."
   ]
  },
  {
   "cell_type": "code",
   "execution_count": null,
   "metadata": {},
   "outputs": [],
   "source": [
    "sd_mean_series = tt['audio_mode'].map(sd_mean_map) # imputer if missing\n",
    "tt[\"song_duration_ms_mean_audio_mode\"] = tt[\"song_duration_ms\"].fillna(sd_mean_series)"
   ]
  },
  {
   "cell_type": "markdown",
   "metadata": {},
   "source": [
    "Let's check for observations with missing `song_duration`:"
   ]
  },
  {
   "cell_type": "code",
   "execution_count": null,
   "metadata": {},
   "outputs": [
    {
     "data": {
      "text/html": [
       "<div>\n",
       "<style scoped>\n",
       "    .dataframe tbody tr th:only-of-type {\n",
       "        vertical-align: middle;\n",
       "    }\n",
       "\n",
       "    .dataframe tbody tr th {\n",
       "        vertical-align: top;\n",
       "    }\n",
       "\n",
       "    .dataframe thead th {\n",
       "        text-align: right;\n",
       "    }\n",
       "</style>\n",
       "<table border=\"1\" class=\"dataframe\">\n",
       "  <thead>\n",
       "    <tr style=\"text-align: right;\">\n",
       "      <th></th>\n",
       "      <th>audio_mode</th>\n",
       "      <th>song_duration_ms_mean_audio_mode</th>\n",
       "    </tr>\n",
       "  </thead>\n",
       "  <tbody>\n",
       "    <tr>\n",
       "      <th>1</th>\n",
       "      <td>1</td>\n",
       "      <td>191649.429611</td>\n",
       "    </tr>\n",
       "    <tr>\n",
       "      <th>13</th>\n",
       "      <td>0</td>\n",
       "      <td>193860.636998</td>\n",
       "    </tr>\n",
       "    <tr>\n",
       "      <th>14</th>\n",
       "      <td>0</td>\n",
       "      <td>193860.636998</td>\n",
       "    </tr>\n",
       "    <tr>\n",
       "      <th>15</th>\n",
       "      <td>0</td>\n",
       "      <td>193860.636998</td>\n",
       "    </tr>\n",
       "    <tr>\n",
       "      <th>28</th>\n",
       "      <td>0</td>\n",
       "      <td>193860.636998</td>\n",
       "    </tr>\n",
       "  </tbody>\n",
       "</table>\n",
       "</div>"
      ],
      "text/plain": [
       "    audio_mode  song_duration_ms_mean_audio_mode\n",
       "1            1                     191649.429611\n",
       "13           0                     193860.636998\n",
       "14           0                     193860.636998\n",
       "15           0                     193860.636998\n",
       "28           0                     193860.636998"
      ]
     },
     "metadata": {},
     "output_type": "display_data"
    }
   ],
   "source": [
    "tt.query('song_duration_ms_missing == True')[['audio_mode','song_duration_ms_mean_audio_mode']].head(5)"
   ]
  },
  {
   "cell_type": "markdown",
   "metadata": {},
   "source": [
    "## Time-series data"
   ]
  },
  {
   "cell_type": "markdown",
   "metadata": {},
   "source": [
    "For time-series data, we can fill with the previous or next value in the column. Make sure that the data has been sorted before making this imputation. "
   ]
  },
  {
   "cell_type": "code",
   "execution_count": 20,
   "metadata": {},
   "outputs": [],
   "source": [
    "t = np.linspace(0, 2*np.pi, 20)\n",
    "x = np.sin(t)\n",
    "ts_data = pd.DataFrame(index=t)\n",
    "ts_data[\"data\"] = x\n",
    "\n",
    "# Randomly drop data\n",
    "ts_data[\"data_missing\"] = ts_data[\"data\"].sample(frac=0.9, random_state=42)\n",
    "\n",
    "# Fill with different methods\n",
    "ts_data[\"data_ffill\"] = ts_data[\"data_missing\"].ffill()\n",
    "ts_data[\"data_bfill\"] = ts_data[\"data_missing\"].bfill()\n",
    "ts_data[\"data_mfill\"] = 0.5 * (ts_data[\"data_ffill\"] + ts_data[\"data_bfill\"])\n",
    "ts_data[\"data_mean_fill\"] = ts_data[\"data_missing\"].fillna(ts_data[\"data_missing\"].mean())"
   ]
  },
  {
   "cell_type": "markdown",
   "metadata": {},
   "source": [
    "Note that `ffill` pushes previous data to missing data, while `bfill` pulls next future data to missing data. Filling with the average of the two smooths the curve out as shown above. Also, note that the mean of the data is zero, since the sine curve completes two rotations."
   ]
  },
  {
   "cell_type": "code",
   "execution_count": 21,
   "metadata": {},
   "outputs": [
    {
     "data": {
      "application/pdf": "[encoded data removed]",
      "image/svg+xml": "<?xml version=\"1.0\" encoding=\"utf-8\" standalone=\"no\"?>\n<!DOCTYPE svg PUBLIC \"-//W3C//DTD SVG 1.1//EN\"\n  \"http://www.w3.org/Graphics/SVG/1.1/DTD/svg11.dtd\">\n<svg xmlns:xlink=\"http://www.w3.org/1999/xlink\" width=\"610.045312pt\" height=\"323.39625pt\" viewBox=\"0 0 610.045312 323.39625\" xmlns=\"http://www.w3.org/2000/svg\" version=\"1.1\">\n <metadata>\n  <rdf:RDF xmlns:dc=\"http://purl.org/dc/elements/1.1/\" xmlns:cc=\"http://creativecommons.org/ns#\" xmlns:rdf=\"http://www.w3.org/1999/02/22-rdf-syntax-ns#\">\n   <cc:Work>\n    <dc:type rdf:resource=\"http://purl.org/dc/dcmitype/StillImage\"/>\n    <dc:date>2022-02-25T19:15:49.159317</dc:date>\n    <dc:format>image/svg+xml</dc:format>\n    <dc:creator>\n     <cc:Agent>\n      <dc:title>Matplotlib v3.5.1, https://matplotlib.org/</dc:title>\n     </cc:Agent>\n    </dc:creator>\n   </cc:Work>\n  </rdf:RDF>\n </metadata>\n <defs>\n  <style type=\"text/css\">*{stroke-linejoin: round; stroke-linecap: butt}</style>\n </defs>\n <g id=\"figure_1\">\n  <g id=\"patch_1\">\n   <path d=\"M 0 323.39625 \nL 610.045312 323.39625 \nL 610.045312 0 \nL 0 0 \nz\n\" style=\"fill: #ffffff\"/>\n  </g>\n  <g id=\"axes_1\">\n   <g id=\"patch_2\">\n    <path d=\"M 44.845313 299.518125 \nL 602.845312 299.518125 \nL 602.845312 22.318125 \nL 44.845313 22.318125 \nz\n\" style=\"fill: #ffffff\"/>\n   </g>\n   <g id=\"matplotlib.axis_1\">\n    <g id=\"xtick_1\">\n     <g id=\"line2d_1\">\n      <defs>\n       <path id=\"me424d40f73\" d=\"M 0 0 \nL 0 3.5 \n\" style=\"stroke: #000000; stroke-width: 0.8\"/>\n      </defs>\n      <g>\n       <use xlink:href=\"#me424d40f73\" x=\"70.208949\" y=\"299.518125\" style=\"stroke: #000000; stroke-width: 0.8\"/>\n      </g>\n     </g>\n     <g id=\"text_1\">\n      <!-- 0 -->\n      <g transform=\"translate(67.027699 314.116563)scale(0.1 -0.1)\">\n       <defs>\n        <path id=\"DejaVuSans-30\" d=\"M 2034 4250 \nQ 1547 4250 1301 3770 \nQ 1056 3291 1056 2328 \nQ 1056 1369 1301 889 \nQ 1547 409 2034 409 \nQ 2525 409 2770 889 \nQ 3016 1369 3016 2328 \nQ 3016 3291 2770 3770 \nQ 2525 4250 2034 4250 \nz\nM 2034 4750 \nQ 2819 4750 3233 4129 \nQ 3647 3509 3647 2328 \nQ 3647 1150 3233 529 \nQ 2819 -91 2034 -91 \nQ 1250 -91 836 529 \nQ 422 1150 422 2328 \nQ 422 3509 836 4129 \nQ 1250 4750 2034 4750 \nz\n\" transform=\"scale(0.015625)\"/>\n       </defs>\n       <use xlink:href=\"#DejaVuSans-30\"/>\n      </g>\n     </g>\n    </g>\n    <g id=\"xtick_2\">\n     <g id=\"line2d_2\">\n      <g>\n       <use xlink:href=\"#me424d40f73\" x=\"150.943911\" y=\"299.518125\" style=\"stroke: #000000; stroke-width: 0.8\"/>\n      </g>\n     </g>\n     <g id=\"text_2\">\n      <!-- 1 -->\n      <g transform=\"translate(147.762661 314.116563)scale(0.1 -0.1)\">\n       <defs>\n        <path id=\"DejaVuSans-31\" d=\"M 794 531 \nL 1825 531 \nL 1825 4091 \nL 703 3866 \nL 703 4441 \nL 1819 4666 \nL 2450 4666 \nL 2450 531 \nL 3481 531 \nL 3481 0 \nL 794 0 \nL 794 531 \nz\n\" transform=\"scale(0.015625)\"/>\n       </defs>\n       <use xlink:href=\"#DejaVuSans-31\"/>\n      </g>\n     </g>\n    </g>\n    <g id=\"xtick_3\">\n     <g id=\"line2d_3\">\n      <g>\n       <use xlink:href=\"#me424d40f73\" x=\"231.678873\" y=\"299.518125\" style=\"stroke: #000000; stroke-width: 0.8\"/>\n      </g>\n     </g>\n     <g id=\"text_3\">\n      <!-- 2 -->\n      <g transform=\"translate(228.497623 314.116563)scale(0.1 -0.1)\">\n       <defs>\n        <path id=\"DejaVuSans-32\" d=\"M 1228 531 \nL 3431 531 \nL 3431 0 \nL 469 0 \nL 469 531 \nQ 828 903 1448 1529 \nQ 2069 2156 2228 2338 \nQ 2531 2678 2651 2914 \nQ 2772 3150 2772 3378 \nQ 2772 3750 2511 3984 \nQ 2250 4219 1831 4219 \nQ 1534 4219 1204 4116 \nQ 875 4013 500 3803 \nL 500 4441 \nQ 881 4594 1212 4672 \nQ 1544 4750 1819 4750 \nQ 2544 4750 2975 4387 \nQ 3406 4025 3406 3419 \nQ 3406 3131 3298 2873 \nQ 3191 2616 2906 2266 \nQ 2828 2175 2409 1742 \nQ 1991 1309 1228 531 \nz\n\" transform=\"scale(0.015625)\"/>\n       </defs>\n       <use xlink:href=\"#DejaVuSans-32\"/>\n      </g>\n     </g>\n    </g>\n    <g id=\"xtick_4\">\n     <g id=\"line2d_4\">\n      <g>\n       <use xlink:href=\"#me424d40f73\" x=\"312.413835\" y=\"299.518125\" style=\"stroke: #000000; stroke-width: 0.8\"/>\n      </g>\n     </g>\n     <g id=\"text_4\">\n      <!-- 3 -->\n      <g transform=\"translate(309.232585 314.116563)scale(0.1 -0.1)\">\n       <defs>\n        <path id=\"DejaVuSans-33\" d=\"M 2597 2516 \nQ 3050 2419 3304 2112 \nQ 3559 1806 3559 1356 \nQ 3559 666 3084 287 \nQ 2609 -91 1734 -91 \nQ 1441 -91 1130 -33 \nQ 819 25 488 141 \nL 488 750 \nQ 750 597 1062 519 \nQ 1375 441 1716 441 \nQ 2309 441 2620 675 \nQ 2931 909 2931 1356 \nQ 2931 1769 2642 2001 \nQ 2353 2234 1838 2234 \nL 1294 2234 \nL 1294 2753 \nL 1863 2753 \nQ 2328 2753 2575 2939 \nQ 2822 3125 2822 3475 \nQ 2822 3834 2567 4026 \nQ 2313 4219 1838 4219 \nQ 1578 4219 1281 4162 \nQ 984 4106 628 3988 \nL 628 4550 \nQ 988 4650 1302 4700 \nQ 1616 4750 1894 4750 \nQ 2613 4750 3031 4423 \nQ 3450 4097 3450 3541 \nQ 3450 3153 3228 2886 \nQ 3006 2619 2597 2516 \nz\n\" transform=\"scale(0.015625)\"/>\n       </defs>\n       <use xlink:href=\"#DejaVuSans-33\"/>\n      </g>\n     </g>\n    </g>\n    <g id=\"xtick_5\">\n     <g id=\"line2d_5\">\n      <g>\n       <use xlink:href=\"#me424d40f73\" x=\"393.148797\" y=\"299.518125\" style=\"stroke: #000000; stroke-width: 0.8\"/>\n      </g>\n     </g>\n     <g id=\"text_5\">\n      <!-- 4 -->\n      <g transform=\"translate(389.967547 314.116563)scale(0.1 -0.1)\">\n       <defs>\n        <path id=\"DejaVuSans-34\" d=\"M 2419 4116 \nL 825 1625 \nL 2419 1625 \nL 2419 4116 \nz\nM 2253 4666 \nL 3047 4666 \nL 3047 1625 \nL 3713 1625 \nL 3713 1100 \nL 3047 1100 \nL 3047 0 \nL 2419 0 \nL 2419 1100 \nL 313 1100 \nL 313 1709 \nL 2253 4666 \nz\n\" transform=\"scale(0.015625)\"/>\n       </defs>\n       <use xlink:href=\"#DejaVuSans-34\"/>\n      </g>\n     </g>\n    </g>\n    <g id=\"xtick_6\">\n     <g id=\"line2d_6\">\n      <g>\n       <use xlink:href=\"#me424d40f73\" x=\"473.883759\" y=\"299.518125\" style=\"stroke: #000000; stroke-width: 0.8\"/>\n      </g>\n     </g>\n     <g id=\"text_6\">\n      <!-- 5 -->\n      <g transform=\"translate(470.702509 314.116563)scale(0.1 -0.1)\">\n       <defs>\n        <path id=\"DejaVuSans-35\" d=\"M 691 4666 \nL 3169 4666 \nL 3169 4134 \nL 1269 4134 \nL 1269 2991 \nQ 1406 3038 1543 3061 \nQ 1681 3084 1819 3084 \nQ 2600 3084 3056 2656 \nQ 3513 2228 3513 1497 \nQ 3513 744 3044 326 \nQ 2575 -91 1722 -91 \nQ 1428 -91 1123 -41 \nQ 819 9 494 109 \nL 494 744 \nQ 775 591 1075 516 \nQ 1375 441 1709 441 \nQ 2250 441 2565 725 \nQ 2881 1009 2881 1497 \nQ 2881 1984 2565 2268 \nQ 2250 2553 1709 2553 \nQ 1456 2553 1204 2497 \nQ 953 2441 691 2322 \nL 691 4666 \nz\n\" transform=\"scale(0.015625)\"/>\n       </defs>\n       <use xlink:href=\"#DejaVuSans-35\"/>\n      </g>\n     </g>\n    </g>\n    <g id=\"xtick_7\">\n     <g id=\"line2d_7\">\n      <g>\n       <use xlink:href=\"#me424d40f73\" x=\"554.618721\" y=\"299.518125\" style=\"stroke: #000000; stroke-width: 0.8\"/>\n      </g>\n     </g>\n     <g id=\"text_7\">\n      <!-- 6 -->\n      <g transform=\"translate(551.437471 314.116563)scale(0.1 -0.1)\">\n       <defs>\n        <path id=\"DejaVuSans-36\" d=\"M 2113 2584 \nQ 1688 2584 1439 2293 \nQ 1191 2003 1191 1497 \nQ 1191 994 1439 701 \nQ 1688 409 2113 409 \nQ 2538 409 2786 701 \nQ 3034 994 3034 1497 \nQ 3034 2003 2786 2293 \nQ 2538 2584 2113 2584 \nz\nM 3366 4563 \nL 3366 3988 \nQ 3128 4100 2886 4159 \nQ 2644 4219 2406 4219 \nQ 1781 4219 1451 3797 \nQ 1122 3375 1075 2522 \nQ 1259 2794 1537 2939 \nQ 1816 3084 2150 3084 \nQ 2853 3084 3261 2657 \nQ 3669 2231 3669 1497 \nQ 3669 778 3244 343 \nQ 2819 -91 2113 -91 \nQ 1303 -91 875 529 \nQ 447 1150 447 2328 \nQ 447 3434 972 4092 \nQ 1497 4750 2381 4750 \nQ 2619 4750 2861 4703 \nQ 3103 4656 3366 4563 \nz\n\" transform=\"scale(0.015625)\"/>\n       </defs>\n       <use xlink:href=\"#DejaVuSans-36\"/>\n      </g>\n     </g>\n    </g>\n   </g>\n   <g id=\"matplotlib.axis_2\">\n    <g id=\"ytick_1\">\n     <g id=\"line2d_8\">\n      <defs>\n       <path id=\"me15fccda5c\" d=\"M 0 0 \nL -3.5 0 \n\" style=\"stroke: #000000; stroke-width: 0.8\"/>\n      </defs>\n      <g>\n       <use xlink:href=\"#me15fccda5c\" x=\"44.845313\" y=\"287.349954\" style=\"stroke: #000000; stroke-width: 0.8\"/>\n      </g>\n     </g>\n     <g id=\"text_8\">\n      <!-- −1.00 -->\n      <g transform=\"translate(7.2 291.149173)scale(0.1 -0.1)\">\n       <defs>\n        <path id=\"DejaVuSans-2212\" d=\"M 678 2272 \nL 4684 2272 \nL 4684 1741 \nL 678 1741 \nL 678 2272 \nz\n\" transform=\"scale(0.015625)\"/>\n        <path id=\"DejaVuSans-2e\" d=\"M 684 794 \nL 1344 794 \nL 1344 0 \nL 684 0 \nL 684 794 \nz\n\" transform=\"scale(0.015625)\"/>\n       </defs>\n       <use xlink:href=\"#DejaVuSans-2212\"/>\n       <use xlink:href=\"#DejaVuSans-31\" x=\"83.789062\"/>\n       <use xlink:href=\"#DejaVuSans-2e\" x=\"147.412109\"/>\n       <use xlink:href=\"#DejaVuSans-30\" x=\"179.199219\"/>\n       <use xlink:href=\"#DejaVuSans-30\" x=\"242.822266\"/>\n      </g>\n     </g>\n    </g>\n    <g id=\"ytick_2\">\n     <g id=\"line2d_9\">\n      <g>\n       <use xlink:href=\"#me15fccda5c\" x=\"44.845313\" y=\"255.741997\" style=\"stroke: #000000; stroke-width: 0.8\"/>\n      </g>\n     </g>\n     <g id=\"text_9\">\n      <!-- −0.75 -->\n      <g transform=\"translate(7.2 259.541215)scale(0.1 -0.1)\">\n       <defs>\n        <path id=\"DejaVuSans-37\" d=\"M 525 4666 \nL 3525 4666 \nL 3525 4397 \nL 1831 0 \nL 1172 0 \nL 2766 4134 \nL 525 4134 \nL 525 4666 \nz\n\" transform=\"scale(0.015625)\"/>\n       </defs>\n       <use xlink:href=\"#DejaVuSans-2212\"/>\n       <use xlink:href=\"#DejaVuSans-30\" x=\"83.789062\"/>\n       <use xlink:href=\"#DejaVuSans-2e\" x=\"147.412109\"/>\n       <use xlink:href=\"#DejaVuSans-37\" x=\"179.199219\"/>\n       <use xlink:href=\"#DejaVuSans-35\" x=\"242.822266\"/>\n      </g>\n     </g>\n    </g>\n    <g id=\"ytick_3\">\n     <g id=\"line2d_10\">\n      <g>\n       <use xlink:href=\"#me15fccda5c\" x=\"44.845313\" y=\"224.134039\" style=\"stroke: #000000; stroke-width: 0.8\"/>\n      </g>\n     </g>\n     <g id=\"text_10\">\n      <!-- −0.50 -->\n      <g transform=\"translate(7.2 227.933258)scale(0.1 -0.1)\">\n       <use xlink:href=\"#DejaVuSans-2212\"/>\n       <use xlink:href=\"#DejaVuSans-30\" x=\"83.789062\"/>\n       <use xlink:href=\"#DejaVuSans-2e\" x=\"147.412109\"/>\n       <use xlink:href=\"#DejaVuSans-35\" x=\"179.199219\"/>\n       <use xlink:href=\"#DejaVuSans-30\" x=\"242.822266\"/>\n      </g>\n     </g>\n    </g>\n    <g id=\"ytick_4\">\n     <g id=\"line2d_11\">\n      <g>\n       <use xlink:href=\"#me15fccda5c\" x=\"44.845313\" y=\"192.526082\" style=\"stroke: #000000; stroke-width: 0.8\"/>\n      </g>\n     </g>\n     <g id=\"text_11\">\n      <!-- −0.25 -->\n      <g transform=\"translate(7.2 196.325301)scale(0.1 -0.1)\">\n       <use xlink:href=\"#DejaVuSans-2212\"/>\n       <use xlink:href=\"#DejaVuSans-30\" x=\"83.789062\"/>\n       <use xlink:href=\"#DejaVuSans-2e\" x=\"147.412109\"/>\n       <use xlink:href=\"#DejaVuSans-32\" x=\"179.199219\"/>\n       <use xlink:href=\"#DejaVuSans-35\" x=\"242.822266\"/>\n      </g>\n     </g>\n    </g>\n    <g id=\"ytick_5\">\n     <g id=\"line2d_12\">\n      <g>\n       <use xlink:href=\"#me15fccda5c\" x=\"44.845313\" y=\"160.918125\" style=\"stroke: #000000; stroke-width: 0.8\"/>\n      </g>\n     </g>\n     <g id=\"text_12\">\n      <!-- 0.00 -->\n      <g transform=\"translate(15.579688 164.717344)scale(0.1 -0.1)\">\n       <use xlink:href=\"#DejaVuSans-30\"/>\n       <use xlink:href=\"#DejaVuSans-2e\" x=\"63.623047\"/>\n       <use xlink:href=\"#DejaVuSans-30\" x=\"95.410156\"/>\n       <use xlink:href=\"#DejaVuSans-30\" x=\"159.033203\"/>\n      </g>\n     </g>\n    </g>\n    <g id=\"ytick_6\">\n     <g id=\"line2d_13\">\n      <g>\n       <use xlink:href=\"#me15fccda5c\" x=\"44.845313\" y=\"129.310168\" style=\"stroke: #000000; stroke-width: 0.8\"/>\n      </g>\n     </g>\n     <g id=\"text_13\">\n      <!-- 0.25 -->\n      <g transform=\"translate(15.579688 133.109387)scale(0.1 -0.1)\">\n       <use xlink:href=\"#DejaVuSans-30\"/>\n       <use xlink:href=\"#DejaVuSans-2e\" x=\"63.623047\"/>\n       <use xlink:href=\"#DejaVuSans-32\" x=\"95.410156\"/>\n       <use xlink:href=\"#DejaVuSans-35\" x=\"159.033203\"/>\n      </g>\n     </g>\n    </g>\n    <g id=\"ytick_7\">\n     <g id=\"line2d_14\">\n      <g>\n       <use xlink:href=\"#me15fccda5c\" x=\"44.845313\" y=\"97.702211\" style=\"stroke: #000000; stroke-width: 0.8\"/>\n      </g>\n     </g>\n     <g id=\"text_14\">\n      <!-- 0.50 -->\n      <g transform=\"translate(15.579688 101.501429)scale(0.1 -0.1)\">\n       <use xlink:href=\"#DejaVuSans-30\"/>\n       <use xlink:href=\"#DejaVuSans-2e\" x=\"63.623047\"/>\n       <use xlink:href=\"#DejaVuSans-35\" x=\"95.410156\"/>\n       <use xlink:href=\"#DejaVuSans-30\" x=\"159.033203\"/>\n      </g>\n     </g>\n    </g>\n    <g id=\"ytick_8\">\n     <g id=\"line2d_15\">\n      <g>\n       <use xlink:href=\"#me15fccda5c\" x=\"44.845313\" y=\"66.094253\" style=\"stroke: #000000; stroke-width: 0.8\"/>\n      </g>\n     </g>\n     <g id=\"text_15\">\n      <!-- 0.75 -->\n      <g transform=\"translate(15.579688 69.893472)scale(0.1 -0.1)\">\n       <use xlink:href=\"#DejaVuSans-30\"/>\n       <use xlink:href=\"#DejaVuSans-2e\" x=\"63.623047\"/>\n       <use xlink:href=\"#DejaVuSans-37\" x=\"95.410156\"/>\n       <use xlink:href=\"#DejaVuSans-35\" x=\"159.033203\"/>\n      </g>\n     </g>\n    </g>\n    <g id=\"ytick_9\">\n     <g id=\"line2d_16\">\n      <g>\n       <use xlink:href=\"#me15fccda5c\" x=\"44.845313\" y=\"34.486296\" style=\"stroke: #000000; stroke-width: 0.8\"/>\n      </g>\n     </g>\n     <g id=\"text_16\">\n      <!-- 1.00 -->\n      <g transform=\"translate(15.579688 38.285515)scale(0.1 -0.1)\">\n       <use xlink:href=\"#DejaVuSans-31\"/>\n       <use xlink:href=\"#DejaVuSans-2e\" x=\"63.623047\"/>\n       <use xlink:href=\"#DejaVuSans-30\" x=\"95.410156\"/>\n       <use xlink:href=\"#DejaVuSans-30\" x=\"159.033203\"/>\n      </g>\n     </g>\n    </g>\n   </g>\n   <g id=\"line2d_17\">\n    <path d=\"M 70.208949 160.918125 \nL 96.907513 119.865777 \nL 123.606078 83.262088 \nL 150.304643 55.073636 \nL 177.003207 38.355077 \nL 203.701772 34.918125 \nL 230.400336 34.918125 \nL 257.098901 67.899205 \nL 283.797466 100.743226 \nL 310.49603 140.10813 \nL 337.194595 181.72812 \nL 363.893159 221.093024 \nL 390.591724 253.937045 \nL 417.290289 276.701021 \nL 443.988853 276.701021 \nL 470.687418 283.481173 \nL 497.385982 266.762614 \nL 524.084547 238.574162 \nL 550.783112 201.970473 \nL 577.481676 160.918125 \n\" clip-path=\"url(#p0f08ec879b)\" style=\"fill: none; stroke: #1f77b4; stroke-width: 1.5; stroke-linecap: square\"/>\n    <defs>\n     <path id=\"m823913c85b\" d=\"M 0 1.5 \nC 0.397805 1.5 0.77937 1.341951 1.06066 1.06066 \nC 1.341951 0.77937 1.5 0.397805 1.5 0 \nC 1.5 -0.397805 1.341951 -0.77937 1.06066 -1.06066 \nC 0.77937 -1.341951 0.397805 -1.5 0 -1.5 \nC -0.397805 -1.5 -0.77937 -1.341951 -1.06066 -1.06066 \nC -1.341951 -0.77937 -1.5 -0.397805 -1.5 0 \nC -1.5 0.397805 -1.341951 0.77937 -1.06066 1.06066 \nC -0.77937 1.341951 -0.397805 1.5 0 1.5 \nz\n\" style=\"stroke: #1f77b4\"/>\n    </defs>\n    <g clip-path=\"url(#p0f08ec879b)\">\n     <use xlink:href=\"#m823913c85b\" x=\"70.208949\" y=\"160.918125\" style=\"fill: #1f77b4; stroke: #1f77b4\"/>\n     <use xlink:href=\"#m823913c85b\" x=\"96.907513\" y=\"119.865777\" style=\"fill: #1f77b4; stroke: #1f77b4\"/>\n     <use xlink:href=\"#m823913c85b\" x=\"123.606078\" y=\"83.262088\" style=\"fill: #1f77b4; stroke: #1f77b4\"/>\n     <use xlink:href=\"#m823913c85b\" x=\"150.304643\" y=\"55.073636\" style=\"fill: #1f77b4; stroke: #1f77b4\"/>\n     <use xlink:href=\"#m823913c85b\" x=\"177.003207\" y=\"38.355077\" style=\"fill: #1f77b4; stroke: #1f77b4\"/>\n     <use xlink:href=\"#m823913c85b\" x=\"203.701772\" y=\"34.918125\" style=\"fill: #1f77b4; stroke: #1f77b4\"/>\n     <use xlink:href=\"#m823913c85b\" x=\"230.400336\" y=\"34.918125\" style=\"fill: #1f77b4; stroke: #1f77b4\"/>\n     <use xlink:href=\"#m823913c85b\" x=\"257.098901\" y=\"67.899205\" style=\"fill: #1f77b4; stroke: #1f77b4\"/>\n     <use xlink:href=\"#m823913c85b\" x=\"283.797466\" y=\"100.743226\" style=\"fill: #1f77b4; stroke: #1f77b4\"/>\n     <use xlink:href=\"#m823913c85b\" x=\"310.49603\" y=\"140.10813\" style=\"fill: #1f77b4; stroke: #1f77b4\"/>\n     <use xlink:href=\"#m823913c85b\" x=\"337.194595\" y=\"181.72812\" style=\"fill: #1f77b4; stroke: #1f77b4\"/>\n     <use xlink:href=\"#m823913c85b\" x=\"363.893159\" y=\"221.093024\" style=\"fill: #1f77b4; stroke: #1f77b4\"/>\n     <use xlink:href=\"#m823913c85b\" x=\"390.591724\" y=\"253.937045\" style=\"fill: #1f77b4; stroke: #1f77b4\"/>\n     <use xlink:href=\"#m823913c85b\" x=\"417.290289\" y=\"276.701021\" style=\"fill: #1f77b4; stroke: #1f77b4\"/>\n     <use xlink:href=\"#m823913c85b\" x=\"443.988853\" y=\"276.701021\" style=\"fill: #1f77b4; stroke: #1f77b4\"/>\n     <use xlink:href=\"#m823913c85b\" x=\"470.687418\" y=\"283.481173\" style=\"fill: #1f77b4; stroke: #1f77b4\"/>\n     <use xlink:href=\"#m823913c85b\" x=\"497.385982\" y=\"266.762614\" style=\"fill: #1f77b4; stroke: #1f77b4\"/>\n     <use xlink:href=\"#m823913c85b\" x=\"524.084547\" y=\"238.574162\" style=\"fill: #1f77b4; stroke: #1f77b4\"/>\n     <use xlink:href=\"#m823913c85b\" x=\"550.783112\" y=\"201.970473\" style=\"fill: #1f77b4; stroke: #1f77b4\"/>\n     <use xlink:href=\"#m823913c85b\" x=\"577.481676\" y=\"160.918125\" style=\"fill: #1f77b4; stroke: #1f77b4\"/>\n    </g>\n   </g>\n   <g id=\"line2d_18\">\n    <path d=\"M 70.208949 160.918125 \nL 96.907513 119.865777 \nL 123.606078 83.262088 \nL 150.304643 55.073636 \nL 177.003207 38.355077 \nL 203.701772 34.918125 \nL 230.400336 67.899205 \nL 257.098901 67.899205 \nL 283.797466 100.743226 \nL 310.49603 140.10813 \nL 337.194595 181.72812 \nL 363.893159 221.093024 \nL 390.591724 253.937045 \nL 417.290289 276.701021 \nL 443.988853 283.481173 \nL 470.687418 283.481173 \nL 497.385982 266.762614 \nL 524.084547 238.574162 \nL 550.783112 201.970473 \nL 577.481676 160.918125 \n\" clip-path=\"url(#p0f08ec879b)\" style=\"fill: none; stroke: #ff7f0e; stroke-width: 1.5; stroke-linecap: square\"/>\n    <defs>\n     <path id=\"mbc72f7790e\" d=\"M 0 1.5 \nC 0.397805 1.5 0.77937 1.341951 1.06066 1.06066 \nC 1.341951 0.77937 1.5 0.397805 1.5 0 \nC 1.5 -0.397805 1.341951 -0.77937 1.06066 -1.06066 \nC 0.77937 -1.341951 0.397805 -1.5 0 -1.5 \nC -0.397805 -1.5 -0.77937 -1.341951 -1.06066 -1.06066 \nC -1.341951 -0.77937 -1.5 -0.397805 -1.5 0 \nC -1.5 0.397805 -1.341951 0.77937 -1.06066 1.06066 \nC -0.77937 1.341951 -0.397805 1.5 0 1.5 \nz\n\" style=\"stroke: #ff7f0e\"/>\n    </defs>\n    <g clip-path=\"url(#p0f08ec879b)\">\n     <use xlink:href=\"#mbc72f7790e\" x=\"70.208949\" y=\"160.918125\" style=\"fill: #ff7f0e; stroke: #ff7f0e\"/>\n     <use xlink:href=\"#mbc72f7790e\" x=\"96.907513\" y=\"119.865777\" style=\"fill: #ff7f0e; stroke: #ff7f0e\"/>\n     <use xlink:href=\"#mbc72f7790e\" x=\"123.606078\" y=\"83.262088\" style=\"fill: #ff7f0e; stroke: #ff7f0e\"/>\n     <use xlink:href=\"#mbc72f7790e\" x=\"150.304643\" y=\"55.073636\" style=\"fill: #ff7f0e; stroke: #ff7f0e\"/>\n     <use xlink:href=\"#mbc72f7790e\" x=\"177.003207\" y=\"38.355077\" style=\"fill: #ff7f0e; stroke: #ff7f0e\"/>\n     <use xlink:href=\"#mbc72f7790e\" x=\"203.701772\" y=\"34.918125\" style=\"fill: #ff7f0e; stroke: #ff7f0e\"/>\n     <use xlink:href=\"#mbc72f7790e\" x=\"230.400336\" y=\"67.899205\" style=\"fill: #ff7f0e; stroke: #ff7f0e\"/>\n     <use xlink:href=\"#mbc72f7790e\" x=\"257.098901\" y=\"67.899205\" style=\"fill: #ff7f0e; stroke: #ff7f0e\"/>\n     <use xlink:href=\"#mbc72f7790e\" x=\"283.797466\" y=\"100.743226\" style=\"fill: #ff7f0e; stroke: #ff7f0e\"/>\n     <use xlink:href=\"#mbc72f7790e\" x=\"310.49603\" y=\"140.10813\" style=\"fill: #ff7f0e; stroke: #ff7f0e\"/>\n     <use xlink:href=\"#mbc72f7790e\" x=\"337.194595\" y=\"181.72812\" style=\"fill: #ff7f0e; stroke: #ff7f0e\"/>\n     <use xlink:href=\"#mbc72f7790e\" x=\"363.893159\" y=\"221.093024\" style=\"fill: #ff7f0e; stroke: #ff7f0e\"/>\n     <use xlink:href=\"#mbc72f7790e\" x=\"390.591724\" y=\"253.937045\" style=\"fill: #ff7f0e; stroke: #ff7f0e\"/>\n     <use xlink:href=\"#mbc72f7790e\" x=\"417.290289\" y=\"276.701021\" style=\"fill: #ff7f0e; stroke: #ff7f0e\"/>\n     <use xlink:href=\"#mbc72f7790e\" x=\"443.988853\" y=\"283.481173\" style=\"fill: #ff7f0e; stroke: #ff7f0e\"/>\n     <use xlink:href=\"#mbc72f7790e\" x=\"470.687418\" y=\"283.481173\" style=\"fill: #ff7f0e; stroke: #ff7f0e\"/>\n     <use xlink:href=\"#mbc72f7790e\" x=\"497.385982\" y=\"266.762614\" style=\"fill: #ff7f0e; stroke: #ff7f0e\"/>\n     <use xlink:href=\"#mbc72f7790e\" x=\"524.084547\" y=\"238.574162\" style=\"fill: #ff7f0e; stroke: #ff7f0e\"/>\n     <use xlink:href=\"#mbc72f7790e\" x=\"550.783112\" y=\"201.970473\" style=\"fill: #ff7f0e; stroke: #ff7f0e\"/>\n     <use xlink:href=\"#mbc72f7790e\" x=\"577.481676\" y=\"160.918125\" style=\"fill: #ff7f0e; stroke: #ff7f0e\"/>\n    </g>\n   </g>\n   <g id=\"line2d_19\">\n    <path d=\"M 70.208949 160.918125 \nL 96.907513 119.865777 \nL 123.606078 83.262088 \nL 150.304643 55.073636 \nL 177.003207 38.355077 \nL 203.701772 34.918125 \nL 230.400336 51.408665 \nL 257.098901 67.899205 \nL 283.797466 100.743226 \nL 310.49603 140.10813 \nL 337.194595 181.72812 \nL 363.893159 221.093024 \nL 390.591724 253.937045 \nL 417.290289 276.701021 \nL 443.988853 280.091097 \nL 470.687418 283.481173 \nL 497.385982 266.762614 \nL 524.084547 238.574162 \nL 550.783112 201.970473 \nL 577.481676 160.918125 \n\" clip-path=\"url(#p0f08ec879b)\" style=\"fill: none; stroke: #2ca02c; stroke-width: 1.5; stroke-linecap: square\"/>\n    <defs>\n     <path id=\"mfb9c404c3e\" d=\"M 0 1.5 \nC 0.397805 1.5 0.77937 1.341951 1.06066 1.06066 \nC 1.341951 0.77937 1.5 0.397805 1.5 0 \nC 1.5 -0.397805 1.341951 -0.77937 1.06066 -1.06066 \nC 0.77937 -1.341951 0.397805 -1.5 0 -1.5 \nC -0.397805 -1.5 -0.77937 -1.341951 -1.06066 -1.06066 \nC -1.341951 -0.77937 -1.5 -0.397805 -1.5 0 \nC -1.5 0.397805 -1.341951 0.77937 -1.06066 1.06066 \nC -0.77937 1.341951 -0.397805 1.5 0 1.5 \nz\n\" style=\"stroke: #2ca02c\"/>\n    </defs>\n    <g clip-path=\"url(#p0f08ec879b)\">\n     <use xlink:href=\"#mfb9c404c3e\" x=\"70.208949\" y=\"160.918125\" style=\"fill: #2ca02c; stroke: #2ca02c\"/>\n     <use xlink:href=\"#mfb9c404c3e\" x=\"96.907513\" y=\"119.865777\" style=\"fill: #2ca02c; stroke: #2ca02c\"/>\n     <use xlink:href=\"#mfb9c404c3e\" x=\"123.606078\" y=\"83.262088\" style=\"fill: #2ca02c; stroke: #2ca02c\"/>\n     <use xlink:href=\"#mfb9c404c3e\" x=\"150.304643\" y=\"55.073636\" style=\"fill: #2ca02c; stroke: #2ca02c\"/>\n     <use xlink:href=\"#mfb9c404c3e\" x=\"177.003207\" y=\"38.355077\" style=\"fill: #2ca02c; stroke: #2ca02c\"/>\n     <use xlink:href=\"#mfb9c404c3e\" x=\"203.701772\" y=\"34.918125\" style=\"fill: #2ca02c; stroke: #2ca02c\"/>\n     <use xlink:href=\"#mfb9c404c3e\" x=\"230.400336\" y=\"51.408665\" style=\"fill: #2ca02c; stroke: #2ca02c\"/>\n     <use xlink:href=\"#mfb9c404c3e\" x=\"257.098901\" y=\"67.899205\" style=\"fill: #2ca02c; stroke: #2ca02c\"/>\n     <use xlink:href=\"#mfb9c404c3e\" x=\"283.797466\" y=\"100.743226\" style=\"fill: #2ca02c; stroke: #2ca02c\"/>\n     <use xlink:href=\"#mfb9c404c3e\" x=\"310.49603\" y=\"140.10813\" style=\"fill: #2ca02c; stroke: #2ca02c\"/>\n     <use xlink:href=\"#mfb9c404c3e\" x=\"337.194595\" y=\"181.72812\" style=\"fill: #2ca02c; stroke: #2ca02c\"/>\n     <use xlink:href=\"#mfb9c404c3e\" x=\"363.893159\" y=\"221.093024\" style=\"fill: #2ca02c; stroke: #2ca02c\"/>\n     <use xlink:href=\"#mfb9c404c3e\" x=\"390.591724\" y=\"253.937045\" style=\"fill: #2ca02c; stroke: #2ca02c\"/>\n     <use xlink:href=\"#mfb9c404c3e\" x=\"417.290289\" y=\"276.701021\" style=\"fill: #2ca02c; stroke: #2ca02c\"/>\n     <use xlink:href=\"#mfb9c404c3e\" x=\"443.988853\" y=\"280.091097\" style=\"fill: #2ca02c; stroke: #2ca02c\"/>\n     <use xlink:href=\"#mfb9c404c3e\" x=\"470.687418\" y=\"283.481173\" style=\"fill: #2ca02c; stroke: #2ca02c\"/>\n     <use xlink:href=\"#mfb9c404c3e\" x=\"497.385982\" y=\"266.762614\" style=\"fill: #2ca02c; stroke: #2ca02c\"/>\n     <use xlink:href=\"#mfb9c404c3e\" x=\"524.084547\" y=\"238.574162\" style=\"fill: #2ca02c; stroke: #2ca02c\"/>\n     <use xlink:href=\"#mfb9c404c3e\" x=\"550.783112\" y=\"201.970473\" style=\"fill: #2ca02c; stroke: #2ca02c\"/>\n     <use xlink:href=\"#mfb9c404c3e\" x=\"577.481676\" y=\"160.918125\" style=\"fill: #2ca02c; stroke: #2ca02c\"/>\n    </g>\n   </g>\n   <g id=\"line2d_20\">\n    <path d=\"M 70.208949 160.918125 \nL 96.907513 119.865777 \nL 123.606078 83.262088 \nL 150.304643 55.073636 \nL 177.003207 38.355077 \nL 203.701772 34.918125 \nL 230.400336 160.350508 \nL 257.098901 67.899205 \nL 283.797466 100.743226 \nL 310.49603 140.10813 \nL 337.194595 181.72812 \nL 363.893159 221.093024 \nL 390.591724 253.937045 \nL 417.290289 276.701021 \nL 443.988853 160.350508 \nL 470.687418 283.481173 \nL 497.385982 266.762614 \nL 524.084547 238.574162 \nL 550.783112 201.970473 \nL 577.481676 160.918125 \n\" clip-path=\"url(#p0f08ec879b)\" style=\"fill: none; stroke: #d62728; stroke-width: 1.5; stroke-linecap: square\"/>\n    <defs>\n     <path id=\"m797f4cc82d\" d=\"M 0 1.5 \nC 0.397805 1.5 0.77937 1.341951 1.06066 1.06066 \nC 1.341951 0.77937 1.5 0.397805 1.5 0 \nC 1.5 -0.397805 1.341951 -0.77937 1.06066 -1.06066 \nC 0.77937 -1.341951 0.397805 -1.5 0 -1.5 \nC -0.397805 -1.5 -0.77937 -1.341951 -1.06066 -1.06066 \nC -1.341951 -0.77937 -1.5 -0.397805 -1.5 0 \nC -1.5 0.397805 -1.341951 0.77937 -1.06066 1.06066 \nC -0.77937 1.341951 -0.397805 1.5 0 1.5 \nz\n\" style=\"stroke: #d62728\"/>\n    </defs>\n    <g clip-path=\"url(#p0f08ec879b)\">\n     <use xlink:href=\"#m797f4cc82d\" x=\"70.208949\" y=\"160.918125\" style=\"fill: #d62728; stroke: #d62728\"/>\n     <use xlink:href=\"#m797f4cc82d\" x=\"96.907513\" y=\"119.865777\" style=\"fill: #d62728; stroke: #d62728\"/>\n     <use xlink:href=\"#m797f4cc82d\" x=\"123.606078\" y=\"83.262088\" style=\"fill: #d62728; stroke: #d62728\"/>\n     <use xlink:href=\"#m797f4cc82d\" x=\"150.304643\" y=\"55.073636\" style=\"fill: #d62728; stroke: #d62728\"/>\n     <use xlink:href=\"#m797f4cc82d\" x=\"177.003207\" y=\"38.355077\" style=\"fill: #d62728; stroke: #d62728\"/>\n     <use xlink:href=\"#m797f4cc82d\" x=\"203.701772\" y=\"34.918125\" style=\"fill: #d62728; stroke: #d62728\"/>\n     <use xlink:href=\"#m797f4cc82d\" x=\"230.400336\" y=\"160.350508\" style=\"fill: #d62728; stroke: #d62728\"/>\n     <use xlink:href=\"#m797f4cc82d\" x=\"257.098901\" y=\"67.899205\" style=\"fill: #d62728; stroke: #d62728\"/>\n     <use xlink:href=\"#m797f4cc82d\" x=\"283.797466\" y=\"100.743226\" style=\"fill: #d62728; stroke: #d62728\"/>\n     <use xlink:href=\"#m797f4cc82d\" x=\"310.49603\" y=\"140.10813\" style=\"fill: #d62728; stroke: #d62728\"/>\n     <use xlink:href=\"#m797f4cc82d\" x=\"337.194595\" y=\"181.72812\" style=\"fill: #d62728; stroke: #d62728\"/>\n     <use xlink:href=\"#m797f4cc82d\" x=\"363.893159\" y=\"221.093024\" style=\"fill: #d62728; stroke: #d62728\"/>\n     <use xlink:href=\"#m797f4cc82d\" x=\"390.591724\" y=\"253.937045\" style=\"fill: #d62728; stroke: #d62728\"/>\n     <use xlink:href=\"#m797f4cc82d\" x=\"417.290289\" y=\"276.701021\" style=\"fill: #d62728; stroke: #d62728\"/>\n     <use xlink:href=\"#m797f4cc82d\" x=\"443.988853\" y=\"160.350508\" style=\"fill: #d62728; stroke: #d62728\"/>\n     <use xlink:href=\"#m797f4cc82d\" x=\"470.687418\" y=\"283.481173\" style=\"fill: #d62728; stroke: #d62728\"/>\n     <use xlink:href=\"#m797f4cc82d\" x=\"497.385982\" y=\"266.762614\" style=\"fill: #d62728; stroke: #d62728\"/>\n     <use xlink:href=\"#m797f4cc82d\" x=\"524.084547\" y=\"238.574162\" style=\"fill: #d62728; stroke: #d62728\"/>\n     <use xlink:href=\"#m797f4cc82d\" x=\"550.783112\" y=\"201.970473\" style=\"fill: #d62728; stroke: #d62728\"/>\n     <use xlink:href=\"#m797f4cc82d\" x=\"577.481676\" y=\"160.918125\" style=\"fill: #d62728; stroke: #d62728\"/>\n    </g>\n   </g>\n   <g id=\"line2d_21\">\n    <path d=\"M 44.845313 160.350508 \nL 602.845312 160.350508 \n\" clip-path=\"url(#p0f08ec879b)\" style=\"fill: none; stroke-dasharray: 3.7,1.6; stroke-dashoffset: 0; stroke: #000000\"/>\n   </g>\n   <g id=\"line2d_22\">\n    <path d=\"M 70.208949 160.918125 \nL 96.907513 119.865777 \nL 123.606078 83.262088 \nL 150.304643 55.073636 \nL 177.003207 38.355077 \nL 203.701772 34.918125 \nL 230.400336 45.135229 \nL 257.098901 67.899205 \nL 283.797466 100.743226 \nL 310.49603 140.10813 \nL 337.194595 181.72812 \nL 363.893159 221.093024 \nL 390.591724 253.937045 \nL 417.290289 276.701021 \nL 443.988853 286.918125 \nL 470.687418 283.481173 \nL 497.385982 266.762614 \nL 524.084547 238.574162 \nL 550.783112 201.970473 \nL 577.481676 160.918125 \n\" clip-path=\"url(#p0f08ec879b)\" style=\"fill: none; stroke-dasharray: 5.55,2.4; stroke-dashoffset: 0; stroke: #9467bd; stroke-width: 1.5\"/>\n   </g>\n   <g id=\"line2d_23\">\n    <path d=\"M 70.208949 160.918125 \nL 96.907513 119.865777 \nL 123.606078 83.262088 \nL 150.304643 55.073636 \nL 177.003207 38.355077 \nL 203.701772 34.918125 \nM 257.098901 67.899205 \nL 283.797466 100.743226 \nL 310.49603 140.10813 \nL 337.194595 181.72812 \nL 363.893159 221.093024 \nL 390.591724 253.937045 \nL 417.290289 276.701021 \nM 470.687418 283.481173 \nL 497.385982 266.762614 \nL 524.084547 238.574162 \nL 550.783112 201.970473 \nL 577.481676 160.918125 \n\" clip-path=\"url(#p0f08ec879b)\" style=\"fill: none; stroke: #9467bd; stroke-width: 1.5; stroke-linecap: square\"/>\n   </g>\n   <g id=\"PathCollection_1\">\n    <defs>\n     <path id=\"mad01f6fa72\" d=\"M 0 1.581139 \nC 0.419323 1.581139 0.821528 1.41454 1.118034 1.118034 \nC 1.41454 0.821528 1.581139 0.419323 1.581139 0 \nC 1.581139 -0.419323 1.41454 -0.821528 1.118034 -1.118034 \nC 0.821528 -1.41454 0.419323 -1.581139 0 -1.581139 \nC -0.419323 -1.581139 -0.821528 -1.41454 -1.118034 -1.118034 \nC -1.41454 -0.821528 -1.581139 -0.419323 -1.581139 0 \nC -1.581139 0.419323 -1.41454 0.821528 -1.118034 1.118034 \nC -0.821528 1.41454 -0.419323 1.581139 0 1.581139 \nz\n\" style=\"stroke: #9467bd\"/>\n    </defs>\n    <g clip-path=\"url(#p0f08ec879b)\">\n     <use xlink:href=\"#mad01f6fa72\" x=\"70.208949\" y=\"160.918125\" style=\"fill: #9467bd; stroke: #9467bd\"/>\n     <use xlink:href=\"#mad01f6fa72\" x=\"96.907513\" y=\"119.865777\" style=\"fill: #9467bd; stroke: #9467bd\"/>\n     <use xlink:href=\"#mad01f6fa72\" x=\"123.606078\" y=\"83.262088\" style=\"fill: #9467bd; stroke: #9467bd\"/>\n     <use xlink:href=\"#mad01f6fa72\" x=\"150.304643\" y=\"55.073636\" style=\"fill: #9467bd; stroke: #9467bd\"/>\n     <use xlink:href=\"#mad01f6fa72\" x=\"177.003207\" y=\"38.355077\" style=\"fill: #9467bd; stroke: #9467bd\"/>\n     <use xlink:href=\"#mad01f6fa72\" x=\"203.701772\" y=\"34.918125\" style=\"fill: #9467bd; stroke: #9467bd\"/>\n     <use xlink:href=\"#mad01f6fa72\" x=\"257.098901\" y=\"67.899205\" style=\"fill: #9467bd; stroke: #9467bd\"/>\n     <use xlink:href=\"#mad01f6fa72\" x=\"283.797466\" y=\"100.743226\" style=\"fill: #9467bd; stroke: #9467bd\"/>\n     <use xlink:href=\"#mad01f6fa72\" x=\"310.49603\" y=\"140.10813\" style=\"fill: #9467bd; stroke: #9467bd\"/>\n     <use xlink:href=\"#mad01f6fa72\" x=\"337.194595\" y=\"181.72812\" style=\"fill: #9467bd; stroke: #9467bd\"/>\n     <use xlink:href=\"#mad01f6fa72\" x=\"363.893159\" y=\"221.093024\" style=\"fill: #9467bd; stroke: #9467bd\"/>\n     <use xlink:href=\"#mad01f6fa72\" x=\"390.591724\" y=\"253.937045\" style=\"fill: #9467bd; stroke: #9467bd\"/>\n     <use xlink:href=\"#mad01f6fa72\" x=\"417.290289\" y=\"276.701021\" style=\"fill: #9467bd; stroke: #9467bd\"/>\n     <use xlink:href=\"#mad01f6fa72\" x=\"470.687418\" y=\"283.481173\" style=\"fill: #9467bd; stroke: #9467bd\"/>\n     <use xlink:href=\"#mad01f6fa72\" x=\"497.385982\" y=\"266.762614\" style=\"fill: #9467bd; stroke: #9467bd\"/>\n     <use xlink:href=\"#mad01f6fa72\" x=\"524.084547\" y=\"238.574162\" style=\"fill: #9467bd; stroke: #9467bd\"/>\n     <use xlink:href=\"#mad01f6fa72\" x=\"550.783112\" y=\"201.970473\" style=\"fill: #9467bd; stroke: #9467bd\"/>\n     <use xlink:href=\"#mad01f6fa72\" x=\"577.481676\" y=\"160.918125\" style=\"fill: #9467bd; stroke: #9467bd\"/>\n    </g>\n   </g>\n   <g id=\"patch_3\">\n    <path d=\"M 44.845313 299.518125 \nL 44.845313 22.318125 \n\" style=\"fill: none; stroke: #000000; stroke-width: 0.8; stroke-linejoin: miter; stroke-linecap: square\"/>\n   </g>\n   <g id=\"patch_4\">\n    <path d=\"M 602.845312 299.518125 \nL 602.845312 22.318125 \n\" style=\"fill: none; stroke: #000000; stroke-width: 0.8; stroke-linejoin: miter; stroke-linecap: square\"/>\n   </g>\n   <g id=\"patch_5\">\n    <path d=\"M 44.845313 299.518125 \nL 602.845312 299.518125 \n\" style=\"fill: none; stroke: #000000; stroke-width: 0.8; stroke-linejoin: miter; stroke-linecap: square\"/>\n   </g>\n   <g id=\"patch_6\">\n    <path d=\"M 44.845313 22.318125 \nL 602.845312 22.318125 \n\" style=\"fill: none; stroke: #000000; stroke-width: 0.8; stroke-linejoin: miter; stroke-linecap: square\"/>\n   </g>\n   <g id=\"text_17\">\n    <!-- Time Series Imputation -->\n    <g transform=\"translate(254.151562 16.318125)scale(0.12 -0.12)\">\n     <defs>\n      <path id=\"DejaVuSans-54\" d=\"M -19 4666 \nL 3928 4666 \nL 3928 4134 \nL 2272 4134 \nL 2272 0 \nL 1638 0 \nL 1638 4134 \nL -19 4134 \nL -19 4666 \nz\n\" transform=\"scale(0.015625)\"/>\n      <path id=\"DejaVuSans-69\" d=\"M 603 3500 \nL 1178 3500 \nL 1178 0 \nL 603 0 \nL 603 3500 \nz\nM 603 4863 \nL 1178 4863 \nL 1178 4134 \nL 603 4134 \nL 603 4863 \nz\n\" transform=\"scale(0.015625)\"/>\n      <path id=\"DejaVuSans-6d\" d=\"M 3328 2828 \nQ 3544 3216 3844 3400 \nQ 4144 3584 4550 3584 \nQ 5097 3584 5394 3201 \nQ 5691 2819 5691 2113 \nL 5691 0 \nL 5113 0 \nL 5113 2094 \nQ 5113 2597 4934 2840 \nQ 4756 3084 4391 3084 \nQ 3944 3084 3684 2787 \nQ 3425 2491 3425 1978 \nL 3425 0 \nL 2847 0 \nL 2847 2094 \nQ 2847 2600 2669 2842 \nQ 2491 3084 2119 3084 \nQ 1678 3084 1418 2786 \nQ 1159 2488 1159 1978 \nL 1159 0 \nL 581 0 \nL 581 3500 \nL 1159 3500 \nL 1159 2956 \nQ 1356 3278 1631 3431 \nQ 1906 3584 2284 3584 \nQ 2666 3584 2933 3390 \nQ 3200 3197 3328 2828 \nz\n\" transform=\"scale(0.015625)\"/>\n      <path id=\"DejaVuSans-65\" d=\"M 3597 1894 \nL 3597 1613 \nL 953 1613 \nQ 991 1019 1311 708 \nQ 1631 397 2203 397 \nQ 2534 397 2845 478 \nQ 3156 559 3463 722 \nL 3463 178 \nQ 3153 47 2828 -22 \nQ 2503 -91 2169 -91 \nQ 1331 -91 842 396 \nQ 353 884 353 1716 \nQ 353 2575 817 3079 \nQ 1281 3584 2069 3584 \nQ 2775 3584 3186 3129 \nQ 3597 2675 3597 1894 \nz\nM 3022 2063 \nQ 3016 2534 2758 2815 \nQ 2500 3097 2075 3097 \nQ 1594 3097 1305 2825 \nQ 1016 2553 972 2059 \nL 3022 2063 \nz\n\" transform=\"scale(0.015625)\"/>\n      <path id=\"DejaVuSans-20\" transform=\"scale(0.015625)\"/>\n      <path id=\"DejaVuSans-53\" d=\"M 3425 4513 \nL 3425 3897 \nQ 3066 4069 2747 4153 \nQ 2428 4238 2131 4238 \nQ 1616 4238 1336 4038 \nQ 1056 3838 1056 3469 \nQ 1056 3159 1242 3001 \nQ 1428 2844 1947 2747 \nL 2328 2669 \nQ 3034 2534 3370 2195 \nQ 3706 1856 3706 1288 \nQ 3706 609 3251 259 \nQ 2797 -91 1919 -91 \nQ 1588 -91 1214 -16 \nQ 841 59 441 206 \nL 441 856 \nQ 825 641 1194 531 \nQ 1563 422 1919 422 \nQ 2459 422 2753 634 \nQ 3047 847 3047 1241 \nQ 3047 1584 2836 1778 \nQ 2625 1972 2144 2069 \nL 1759 2144 \nQ 1053 2284 737 2584 \nQ 422 2884 422 3419 \nQ 422 4038 858 4394 \nQ 1294 4750 2059 4750 \nQ 2388 4750 2728 4690 \nQ 3069 4631 3425 4513 \nz\n\" transform=\"scale(0.015625)\"/>\n      <path id=\"DejaVuSans-72\" d=\"M 2631 2963 \nQ 2534 3019 2420 3045 \nQ 2306 3072 2169 3072 \nQ 1681 3072 1420 2755 \nQ 1159 2438 1159 1844 \nL 1159 0 \nL 581 0 \nL 581 3500 \nL 1159 3500 \nL 1159 2956 \nQ 1341 3275 1631 3429 \nQ 1922 3584 2338 3584 \nQ 2397 3584 2469 3576 \nQ 2541 3569 2628 3553 \nL 2631 2963 \nz\n\" transform=\"scale(0.015625)\"/>\n      <path id=\"DejaVuSans-73\" d=\"M 2834 3397 \nL 2834 2853 \nQ 2591 2978 2328 3040 \nQ 2066 3103 1784 3103 \nQ 1356 3103 1142 2972 \nQ 928 2841 928 2578 \nQ 928 2378 1081 2264 \nQ 1234 2150 1697 2047 \nL 1894 2003 \nQ 2506 1872 2764 1633 \nQ 3022 1394 3022 966 \nQ 3022 478 2636 193 \nQ 2250 -91 1575 -91 \nQ 1294 -91 989 -36 \nQ 684 19 347 128 \nL 347 722 \nQ 666 556 975 473 \nQ 1284 391 1588 391 \nQ 1994 391 2212 530 \nQ 2431 669 2431 922 \nQ 2431 1156 2273 1281 \nQ 2116 1406 1581 1522 \nL 1381 1569 \nQ 847 1681 609 1914 \nQ 372 2147 372 2553 \nQ 372 3047 722 3315 \nQ 1072 3584 1716 3584 \nQ 2034 3584 2315 3537 \nQ 2597 3491 2834 3397 \nz\n\" transform=\"scale(0.015625)\"/>\n      <path id=\"DejaVuSans-49\" d=\"M 628 4666 \nL 1259 4666 \nL 1259 0 \nL 628 0 \nL 628 4666 \nz\n\" transform=\"scale(0.015625)\"/>\n      <path id=\"DejaVuSans-70\" d=\"M 1159 525 \nL 1159 -1331 \nL 581 -1331 \nL 581 3500 \nL 1159 3500 \nL 1159 2969 \nQ 1341 3281 1617 3432 \nQ 1894 3584 2278 3584 \nQ 2916 3584 3314 3078 \nQ 3713 2572 3713 1747 \nQ 3713 922 3314 415 \nQ 2916 -91 2278 -91 \nQ 1894 -91 1617 61 \nQ 1341 213 1159 525 \nz\nM 3116 1747 \nQ 3116 2381 2855 2742 \nQ 2594 3103 2138 3103 \nQ 1681 3103 1420 2742 \nQ 1159 2381 1159 1747 \nQ 1159 1113 1420 752 \nQ 1681 391 2138 391 \nQ 2594 391 2855 752 \nQ 3116 1113 3116 1747 \nz\n\" transform=\"scale(0.015625)\"/>\n      <path id=\"DejaVuSans-75\" d=\"M 544 1381 \nL 544 3500 \nL 1119 3500 \nL 1119 1403 \nQ 1119 906 1312 657 \nQ 1506 409 1894 409 \nQ 2359 409 2629 706 \nQ 2900 1003 2900 1516 \nL 2900 3500 \nL 3475 3500 \nL 3475 0 \nL 2900 0 \nL 2900 538 \nQ 2691 219 2414 64 \nQ 2138 -91 1772 -91 \nQ 1169 -91 856 284 \nQ 544 659 544 1381 \nz\nM 1991 3584 \nL 1991 3584 \nz\n\" transform=\"scale(0.015625)\"/>\n      <path id=\"DejaVuSans-74\" d=\"M 1172 4494 \nL 1172 3500 \nL 2356 3500 \nL 2356 3053 \nL 1172 3053 \nL 1172 1153 \nQ 1172 725 1289 603 \nQ 1406 481 1766 481 \nL 2356 481 \nL 2356 0 \nL 1766 0 \nQ 1100 0 847 248 \nQ 594 497 594 1153 \nL 594 3053 \nL 172 3053 \nL 172 3500 \nL 594 3500 \nL 594 4494 \nL 1172 4494 \nz\n\" transform=\"scale(0.015625)\"/>\n      <path id=\"DejaVuSans-61\" d=\"M 2194 1759 \nQ 1497 1759 1228 1600 \nQ 959 1441 959 1056 \nQ 959 750 1161 570 \nQ 1363 391 1709 391 \nQ 2188 391 2477 730 \nQ 2766 1069 2766 1631 \nL 2766 1759 \nL 2194 1759 \nz\nM 3341 1997 \nL 3341 0 \nL 2766 0 \nL 2766 531 \nQ 2569 213 2275 61 \nQ 1981 -91 1556 -91 \nQ 1019 -91 701 211 \nQ 384 513 384 1019 \nQ 384 1609 779 1909 \nQ 1175 2209 1959 2209 \nL 2766 2209 \nL 2766 2266 \nQ 2766 2663 2505 2880 \nQ 2244 3097 1772 3097 \nQ 1472 3097 1187 3025 \nQ 903 2953 641 2809 \nL 641 3341 \nQ 956 3463 1253 3523 \nQ 1550 3584 1831 3584 \nQ 2591 3584 2966 3190 \nQ 3341 2797 3341 1997 \nz\n\" transform=\"scale(0.015625)\"/>\n      <path id=\"DejaVuSans-6f\" d=\"M 1959 3097 \nQ 1497 3097 1228 2736 \nQ 959 2375 959 1747 \nQ 959 1119 1226 758 \nQ 1494 397 1959 397 \nQ 2419 397 2687 759 \nQ 2956 1122 2956 1747 \nQ 2956 2369 2687 2733 \nQ 2419 3097 1959 3097 \nz\nM 1959 3584 \nQ 2709 3584 3137 3096 \nQ 3566 2609 3566 1747 \nQ 3566 888 3137 398 \nQ 2709 -91 1959 -91 \nQ 1206 -91 779 398 \nQ 353 888 353 1747 \nQ 353 2609 779 3096 \nQ 1206 3584 1959 3584 \nz\n\" transform=\"scale(0.015625)\"/>\n      <path id=\"DejaVuSans-6e\" d=\"M 3513 2113 \nL 3513 0 \nL 2938 0 \nL 2938 2094 \nQ 2938 2591 2744 2837 \nQ 2550 3084 2163 3084 \nQ 1697 3084 1428 2787 \nQ 1159 2491 1159 1978 \nL 1159 0 \nL 581 0 \nL 581 3500 \nL 1159 3500 \nL 1159 2956 \nQ 1366 3272 1645 3428 \nQ 1925 3584 2291 3584 \nQ 2894 3584 3203 3211 \nQ 3513 2838 3513 2113 \nz\n\" transform=\"scale(0.015625)\"/>\n     </defs>\n     <use xlink:href=\"#DejaVuSans-54\"/>\n     <use xlink:href=\"#DejaVuSans-69\" x=\"57.958984\"/>\n     <use xlink:href=\"#DejaVuSans-6d\" x=\"85.742188\"/>\n     <use xlink:href=\"#DejaVuSans-65\" x=\"183.154297\"/>\n     <use xlink:href=\"#DejaVuSans-20\" x=\"244.677734\"/>\n     <use xlink:href=\"#DejaVuSans-53\" x=\"276.464844\"/>\n     <use xlink:href=\"#DejaVuSans-65\" x=\"339.941406\"/>\n     <use xlink:href=\"#DejaVuSans-72\" x=\"401.464844\"/>\n     <use xlink:href=\"#DejaVuSans-69\" x=\"442.578125\"/>\n     <use xlink:href=\"#DejaVuSans-65\" x=\"470.361328\"/>\n     <use xlink:href=\"#DejaVuSans-73\" x=\"531.884766\"/>\n     <use xlink:href=\"#DejaVuSans-20\" x=\"583.984375\"/>\n     <use xlink:href=\"#DejaVuSans-49\" x=\"615.771484\"/>\n     <use xlink:href=\"#DejaVuSans-6d\" x=\"645.263672\"/>\n     <use xlink:href=\"#DejaVuSans-70\" x=\"742.675781\"/>\n     <use xlink:href=\"#DejaVuSans-75\" x=\"806.152344\"/>\n     <use xlink:href=\"#DejaVuSans-74\" x=\"869.53125\"/>\n     <use xlink:href=\"#DejaVuSans-61\" x=\"908.740234\"/>\n     <use xlink:href=\"#DejaVuSans-74\" x=\"970.019531\"/>\n     <use xlink:href=\"#DejaVuSans-69\" x=\"1009.228516\"/>\n     <use xlink:href=\"#DejaVuSans-6f\" x=\"1037.011719\"/>\n     <use xlink:href=\"#DejaVuSans-6e\" x=\"1098.193359\"/>\n    </g>\n   </g>\n   <g id=\"legend_1\">\n    <g id=\"patch_7\">\n     <path d=\"M 491.10625 119.499375 \nL 595.845313 119.499375 \nQ 597.845313 119.499375 597.845313 117.499375 \nL 597.845313 29.318125 \nQ 597.845313 27.318125 595.845313 27.318125 \nL 491.10625 27.318125 \nQ 489.10625 27.318125 489.10625 29.318125 \nL 489.10625 117.499375 \nQ 489.10625 119.499375 491.10625 119.499375 \nz\n\" style=\"fill: #ffffff; opacity: 0.8; stroke: #cccccc; stroke-linejoin: miter\"/>\n    </g>\n    <g id=\"line2d_24\">\n     <path d=\"M 493.10625 35.416563 \nL 503.10625 35.416563 \nL 513.10625 35.416563 \n\" style=\"fill: none; stroke: #1f77b4; stroke-width: 1.5; stroke-linecap: square\"/>\n     <g>\n      <use xlink:href=\"#m823913c85b\" x=\"503.10625\" y=\"35.416563\" style=\"fill: #1f77b4; stroke: #1f77b4\"/>\n     </g>\n    </g>\n    <g id=\"text_18\">\n     <!-- data_ffill -->\n     <g transform=\"translate(521.10625 38.916563)scale(0.1 -0.1)\">\n      <defs>\n       <path id=\"DejaVuSans-64\" d=\"M 2906 2969 \nL 2906 4863 \nL 3481 4863 \nL 3481 0 \nL 2906 0 \nL 2906 525 \nQ 2725 213 2448 61 \nQ 2172 -91 1784 -91 \nQ 1150 -91 751 415 \nQ 353 922 353 1747 \nQ 353 2572 751 3078 \nQ 1150 3584 1784 3584 \nQ 2172 3584 2448 3432 \nQ 2725 3281 2906 2969 \nz\nM 947 1747 \nQ 947 1113 1208 752 \nQ 1469 391 1925 391 \nQ 2381 391 2643 752 \nQ 2906 1113 2906 1747 \nQ 2906 2381 2643 2742 \nQ 2381 3103 1925 3103 \nQ 1469 3103 1208 2742 \nQ 947 2381 947 1747 \nz\n\" transform=\"scale(0.015625)\"/>\n       <path id=\"DejaVuSans-5f\" d=\"M 3263 -1063 \nL 3263 -1509 \nL -63 -1509 \nL -63 -1063 \nL 3263 -1063 \nz\n\" transform=\"scale(0.015625)\"/>\n       <path id=\"DejaVuSans-66\" d=\"M 2375 4863 \nL 2375 4384 \nL 1825 4384 \nQ 1516 4384 1395 4259 \nQ 1275 4134 1275 3809 \nL 1275 3500 \nL 2222 3500 \nL 2222 3053 \nL 1275 3053 \nL 1275 0 \nL 697 0 \nL 697 3053 \nL 147 3053 \nL 147 3500 \nL 697 3500 \nL 697 3744 \nQ 697 4328 969 4595 \nQ 1241 4863 1831 4863 \nL 2375 4863 \nz\n\" transform=\"scale(0.015625)\"/>\n       <path id=\"DejaVuSans-6c\" d=\"M 603 4863 \nL 1178 4863 \nL 1178 0 \nL 603 0 \nL 603 4863 \nz\n\" transform=\"scale(0.015625)\"/>\n      </defs>\n      <use xlink:href=\"#DejaVuSans-64\"/>\n      <use xlink:href=\"#DejaVuSans-61\" x=\"63.476562\"/>\n      <use xlink:href=\"#DejaVuSans-74\" x=\"124.755859\"/>\n      <use xlink:href=\"#DejaVuSans-61\" x=\"163.964844\"/>\n      <use xlink:href=\"#DejaVuSans-5f\" x=\"225.244141\"/>\n      <use xlink:href=\"#DejaVuSans-66\" x=\"275.244141\"/>\n      <use xlink:href=\"#DejaVuSans-66\" x=\"310.449219\"/>\n      <use xlink:href=\"#DejaVuSans-69\" x=\"345.654297\"/>\n      <use xlink:href=\"#DejaVuSans-6c\" x=\"373.4375\"/>\n      <use xlink:href=\"#DejaVuSans-6c\" x=\"401.220703\"/>\n     </g>\n    </g>\n    <g id=\"line2d_25\">\n     <path d=\"M 493.10625 50.372813 \nL 503.10625 50.372813 \nL 513.10625 50.372813 \n\" style=\"fill: none; stroke: #ff7f0e; stroke-width: 1.5; stroke-linecap: square\"/>\n     <g>\n      <use xlink:href=\"#mbc72f7790e\" x=\"503.10625\" y=\"50.372813\" style=\"fill: #ff7f0e; stroke: #ff7f0e\"/>\n     </g>\n    </g>\n    <g id=\"text_19\">\n     <!-- data_bfill -->\n     <g transform=\"translate(521.10625 53.872813)scale(0.1 -0.1)\">\n      <defs>\n       <path id=\"DejaVuSans-62\" d=\"M 3116 1747 \nQ 3116 2381 2855 2742 \nQ 2594 3103 2138 3103 \nQ 1681 3103 1420 2742 \nQ 1159 2381 1159 1747 \nQ 1159 1113 1420 752 \nQ 1681 391 2138 391 \nQ 2594 391 2855 752 \nQ 3116 1113 3116 1747 \nz\nM 1159 2969 \nQ 1341 3281 1617 3432 \nQ 1894 3584 2278 3584 \nQ 2916 3584 3314 3078 \nQ 3713 2572 3713 1747 \nQ 3713 922 3314 415 \nQ 2916 -91 2278 -91 \nQ 1894 -91 1617 61 \nQ 1341 213 1159 525 \nL 1159 0 \nL 581 0 \nL 581 4863 \nL 1159 4863 \nL 1159 2969 \nz\n\" transform=\"scale(0.015625)\"/>\n      </defs>\n      <use xlink:href=\"#DejaVuSans-64\"/>\n      <use xlink:href=\"#DejaVuSans-61\" x=\"63.476562\"/>\n      <use xlink:href=\"#DejaVuSans-74\" x=\"124.755859\"/>\n      <use xlink:href=\"#DejaVuSans-61\" x=\"163.964844\"/>\n      <use xlink:href=\"#DejaVuSans-5f\" x=\"225.244141\"/>\n      <use xlink:href=\"#DejaVuSans-62\" x=\"275.244141\"/>\n      <use xlink:href=\"#DejaVuSans-66\" x=\"338.720703\"/>\n      <use xlink:href=\"#DejaVuSans-69\" x=\"373.925781\"/>\n      <use xlink:href=\"#DejaVuSans-6c\" x=\"401.708984\"/>\n      <use xlink:href=\"#DejaVuSans-6c\" x=\"429.492188\"/>\n     </g>\n    </g>\n    <g id=\"line2d_26\">\n     <path d=\"M 493.10625 65.329063 \nL 503.10625 65.329063 \nL 513.10625 65.329063 \n\" style=\"fill: none; stroke: #2ca02c; stroke-width: 1.5; stroke-linecap: square\"/>\n     <g>\n      <use xlink:href=\"#mfb9c404c3e\" x=\"503.10625\" y=\"65.329063\" style=\"fill: #2ca02c; stroke: #2ca02c\"/>\n     </g>\n    </g>\n    <g id=\"text_20\">\n     <!-- data_mfill -->\n     <g transform=\"translate(521.10625 68.829063)scale(0.1 -0.1)\">\n      <use xlink:href=\"#DejaVuSans-64\"/>\n      <use xlink:href=\"#DejaVuSans-61\" x=\"63.476562\"/>\n      <use xlink:href=\"#DejaVuSans-74\" x=\"124.755859\"/>\n      <use xlink:href=\"#DejaVuSans-61\" x=\"163.964844\"/>\n      <use xlink:href=\"#DejaVuSans-5f\" x=\"225.244141\"/>\n      <use xlink:href=\"#DejaVuSans-6d\" x=\"275.244141\"/>\n      <use xlink:href=\"#DejaVuSans-66\" x=\"372.65625\"/>\n      <use xlink:href=\"#DejaVuSans-69\" x=\"407.861328\"/>\n      <use xlink:href=\"#DejaVuSans-6c\" x=\"435.644531\"/>\n      <use xlink:href=\"#DejaVuSans-6c\" x=\"463.427734\"/>\n     </g>\n    </g>\n    <g id=\"line2d_27\">\n     <path d=\"M 493.10625 80.285313 \nL 503.10625 80.285313 \nL 513.10625 80.285313 \n\" style=\"fill: none; stroke: #d62728; stroke-width: 1.5; stroke-linecap: square\"/>\n     <g>\n      <use xlink:href=\"#m797f4cc82d\" x=\"503.10625\" y=\"80.285313\" style=\"fill: #d62728; stroke: #d62728\"/>\n     </g>\n    </g>\n    <g id=\"text_21\">\n     <!-- data_mean_fill -->\n     <g transform=\"translate(521.10625 83.785313)scale(0.1 -0.1)\">\n      <use xlink:href=\"#DejaVuSans-64\"/>\n      <use xlink:href=\"#DejaVuSans-61\" x=\"63.476562\"/>\n      <use xlink:href=\"#DejaVuSans-74\" x=\"124.755859\"/>\n      <use xlink:href=\"#DejaVuSans-61\" x=\"163.964844\"/>\n      <use xlink:href=\"#DejaVuSans-5f\" x=\"225.244141\"/>\n      <use xlink:href=\"#DejaVuSans-6d\" x=\"275.244141\"/>\n      <use xlink:href=\"#DejaVuSans-65\" x=\"372.65625\"/>\n      <use xlink:href=\"#DejaVuSans-61\" x=\"434.179688\"/>\n      <use xlink:href=\"#DejaVuSans-6e\" x=\"495.458984\"/>\n      <use xlink:href=\"#DejaVuSans-5f\" x=\"558.837891\"/>\n      <use xlink:href=\"#DejaVuSans-66\" x=\"608.837891\"/>\n      <use xlink:href=\"#DejaVuSans-69\" x=\"644.042969\"/>\n      <use xlink:href=\"#DejaVuSans-6c\" x=\"671.826172\"/>\n      <use xlink:href=\"#DejaVuSans-6c\" x=\"699.609375\"/>\n     </g>\n    </g>\n    <g id=\"line2d_28\">\n     <path d=\"M 493.10625 95.241563 \nL 503.10625 95.241563 \nL 513.10625 95.241563 \n\" style=\"fill: none; stroke-dasharray: 5.55,2.4; stroke-dashoffset: 0; stroke: #9467bd; stroke-width: 1.5\"/>\n    </g>\n    <g id=\"text_22\">\n     <!-- missing -->\n     <g transform=\"translate(521.10625 98.741563)scale(0.1 -0.1)\">\n      <defs>\n       <path id=\"DejaVuSans-67\" d=\"M 2906 1791 \nQ 2906 2416 2648 2759 \nQ 2391 3103 1925 3103 \nQ 1463 3103 1205 2759 \nQ 947 2416 947 1791 \nQ 947 1169 1205 825 \nQ 1463 481 1925 481 \nQ 2391 481 2648 825 \nQ 2906 1169 2906 1791 \nz\nM 3481 434 \nQ 3481 -459 3084 -895 \nQ 2688 -1331 1869 -1331 \nQ 1566 -1331 1297 -1286 \nQ 1028 -1241 775 -1147 \nL 775 -588 \nQ 1028 -725 1275 -790 \nQ 1522 -856 1778 -856 \nQ 2344 -856 2625 -561 \nQ 2906 -266 2906 331 \nL 2906 616 \nQ 2728 306 2450 153 \nQ 2172 0 1784 0 \nQ 1141 0 747 490 \nQ 353 981 353 1791 \nQ 353 2603 747 3093 \nQ 1141 3584 1784 3584 \nQ 2172 3584 2450 3431 \nQ 2728 3278 2906 2969 \nL 2906 3500 \nL 3481 3500 \nL 3481 434 \nz\n\" transform=\"scale(0.015625)\"/>\n      </defs>\n      <use xlink:href=\"#DejaVuSans-6d\"/>\n      <use xlink:href=\"#DejaVuSans-69\" x=\"97.412109\"/>\n      <use xlink:href=\"#DejaVuSans-73\" x=\"125.195312\"/>\n      <use xlink:href=\"#DejaVuSans-73\" x=\"177.294922\"/>\n      <use xlink:href=\"#DejaVuSans-69\" x=\"229.394531\"/>\n      <use xlink:href=\"#DejaVuSans-6e\" x=\"257.177734\"/>\n      <use xlink:href=\"#DejaVuSans-67\" x=\"320.556641\"/>\n     </g>\n    </g>\n    <g id=\"line2d_29\">\n     <path d=\"M 493.10625 109.919688 \nL 503.10625 109.919688 \nL 513.10625 109.919688 \n\" style=\"fill: none; stroke: #9467bd; stroke-width: 1.5; stroke-linecap: square\"/>\n    </g>\n    <g id=\"text_23\">\n     <!-- data -->\n     <g transform=\"translate(521.10625 113.419688)scale(0.1 -0.1)\">\n      <use xlink:href=\"#DejaVuSans-64\"/>\n      <use xlink:href=\"#DejaVuSans-61\" x=\"63.476562\"/>\n      <use xlink:href=\"#DejaVuSans-74\" x=\"124.755859\"/>\n      <use xlink:href=\"#DejaVuSans-61\" x=\"163.964844\"/>\n     </g>\n    </g>\n   </g>\n  </g>\n </g>\n <defs>\n  <clipPath id=\"p0f08ec879b\">\n   <rect x=\"44.845313\" y=\"22.318125\" width=\"558\" height=\"277.2\"/>\n  </clipPath>\n </defs>\n</svg>\n",
      "text/plain": [
       "<Figure size 1000x500 with 1 Axes>"
      ]
     },
     "metadata": {},
     "output_type": "display_data"
    }
   ],
   "source": [
    "ts_data.drop([\"data\", \"data_missing\"], axis=1).plot(style=\".-\",\n",
    "    figsize=(10, 5),\n",
    "    title='Time Series Imputation')\n",
    "\n",
    "# Plot mean of data\n",
    "plt.axhline(ts_data[\"data_missing\"].mean(), color='k', linestyle='--', linewidth=1.0)\n",
    "\n",
    "# Plot data\n",
    "plt.plot(ts_data.data, linestyle=\"--\", color=\"C4\", label=\"missing\")\n",
    "plt.plot(ts_data.data_missing, linestyle=\"solid\", color=\"C4\", label=\"data\")\n",
    "plt.scatter(t, ts_data.data_missing.values, color=\"C4\", s=10, zorder=2)\n",
    "\n",
    "plt.legend()\n",
    "plt.show()"
   ]
  },
  {
   "cell_type": "markdown",
   "metadata": {},
   "source": [
    "## Model-based imputation"
   ]
  },
  {
   "cell_type": "markdown",
   "metadata": {},
   "source": [
    "Model-based imputers train on the dataset to find the missing values to impute. First, we will use imputers in the `scikit-learn` library, then we will look at an XGBoost-based imputer. Using `scikit-learn` is good because it provides a fit and transform method. This allows us to fit on the training and transform on both the train validation. This also allows us to create pipelines. In real world situations you will want to fit and transform within your cross validation loop to ensure no leakage.\n",
    "\n",
    "**Protip:** In kaggle competitions we sometimes know all of the features for the test set. So it may be advantageous to fit on all the data. This is analogous to refitting on the validation set before rolling out the final estimators. This doesn't work for code competitions because we can't see the test data before out model predicts.\n",
    "\n",
    "\n",
    "\n"
   ]
  },
  {
   "cell_type": "markdown",
   "metadata": {},
   "source": [
    "### `SimpleImputer`"
   ]
  },
  {
   "cell_type": "markdown",
   "metadata": {},
   "source": [
    "This allows us to:\n",
    "* Impute with the mean value, median, and just a single value\n",
    "* `add_indicator` will add the indicator column\n"
   ]
  },
  {
   "cell_type": "code",
   "execution_count": 1,
   "metadata": {},
   "outputs": [],
   "source": [
    "FEATURES = [\n",
    "    \"song_duration_ms\",\n",
    "    \"acousticness\",\n",
    "    \"danceability\",\n",
    "    \"energy\",\n",
    "    \"instrumentalness\",\n",
    "    \"key\",\n",
    "    \"liveness\",\n",
    "    \"loudness\",\n",
    "    \"audio_mode\",\n",
    "    \"speechiness\",\n",
    "    \"tempo\",\n",
    "    \"time_signature\",\n",
    "    \"audio_valence\",\n",
    "]"
   ]
  },
  {
   "cell_type": "markdown",
   "metadata": {},
   "source": [
    "Testing:"
   ]
  },
  {
   "cell_type": "code",
   "execution_count": 26,
   "metadata": {},
   "outputs": [
    {
     "name": "stdout",
     "output_type": "stream",
     "text": [
      "mean: 193165.84757235576\n"
     ]
    },
    {
     "data": {
      "text/html": [
       "<div>\n",
       "<style scoped>\n",
       "    .dataframe tbody tr th:only-of-type {\n",
       "        vertical-align: middle;\n",
       "    }\n",
       "\n",
       "    .dataframe tbody tr th {\n",
       "        vertical-align: top;\n",
       "    }\n",
       "\n",
       "    .dataframe thead th {\n",
       "        text-align: right;\n",
       "    }\n",
       "</style>\n",
       "<table border=\"1\" class=\"dataframe\">\n",
       "  <thead>\n",
       "    <tr style=\"text-align: right;\">\n",
       "      <th></th>\n",
       "      <th>data</th>\n",
       "      <th>transformed_data</th>\n",
       "    </tr>\n",
       "  </thead>\n",
       "  <tbody>\n",
       "    <tr>\n",
       "      <th>0</th>\n",
       "      <td>212990.0</td>\n",
       "      <td>212990.000000</td>\n",
       "    </tr>\n",
       "    <tr>\n",
       "      <th>1</th>\n",
       "      <td>NaN</td>\n",
       "      <td>193165.847572</td>\n",
       "    </tr>\n",
       "    <tr>\n",
       "      <th>2</th>\n",
       "      <td>193213.0</td>\n",
       "      <td>193213.000000</td>\n",
       "    </tr>\n",
       "    <tr>\n",
       "      <th>3</th>\n",
       "      <td>249893.0</td>\n",
       "      <td>249893.000000</td>\n",
       "    </tr>\n",
       "    <tr>\n",
       "      <th>4</th>\n",
       "      <td>165969.0</td>\n",
       "      <td>165969.000000</td>\n",
       "    </tr>\n",
       "  </tbody>\n",
       "</table>\n",
       "</div>"
      ],
      "text/plain": [
       "       data  transformed_data\n",
       "0  212990.0     212990.000000\n",
       "1       NaN     193165.847572\n",
       "2  193213.0     193213.000000\n",
       "3  249893.0     249893.000000\n",
       "4  165969.0     165969.000000"
      ]
     },
     "execution_count": 26,
     "metadata": {},
     "output_type": "execute_result"
    }
   ],
   "source": [
    "from sklearn.impute import SimpleImputer\n",
    "\n",
    "# Initialize mean imputer. No need to add indicator when transforming.\n",
    "imputer = SimpleImputer(strategy=\"mean\", add_indicator=False)\n",
    "\n",
    "# Fit + transform `song_duration`.\n",
    "train_column = train['song_duration_ms'].values.reshape(-1, 1)\n",
    "imputer.fit(train_column)\n",
    "\n",
    "# Looking at result:\n",
    "print(\"mean:\", train['song_duration_ms'].mean())\n",
    "pd.DataFrame([train_column.reshape(-1), imputer.transform(train_column).reshape(-1)], index=['data', 'transformed_data']).T.head(5)"
   ]
  },
  {
   "cell_type": "markdown",
   "metadata": {},
   "source": [
    "Note that `SimpleImputer` can be applied on the entire feature set to simultaneously fit on each column."
   ]
  },
  {
   "cell_type": "code",
   "execution_count": 27,
   "metadata": {},
   "outputs": [
    {
     "name": "stdout",
     "output_type": "stream",
     "text": [
      "No. missing: 0\n"
     ]
    },
    {
     "data": {
      "text/html": [
       "<div>\n",
       "<style scoped>\n",
       "    .dataframe tbody tr th:only-of-type {\n",
       "        vertical-align: middle;\n",
       "    }\n",
       "\n",
       "    .dataframe tbody tr th {\n",
       "        vertical-align: top;\n",
       "    }\n",
       "\n",
       "    .dataframe thead th {\n",
       "        text-align: right;\n",
       "    }\n",
       "</style>\n",
       "<table border=\"1\" class=\"dataframe\">\n",
       "  <thead>\n",
       "    <tr style=\"text-align: right;\">\n",
       "      <th></th>\n",
       "      <th>song_duration_ms</th>\n",
       "      <th>acousticness</th>\n",
       "      <th>danceability</th>\n",
       "      <th>energy</th>\n",
       "      <th>instrumentalness</th>\n",
       "      <th>key</th>\n",
       "      <th>liveness</th>\n",
       "      <th>loudness</th>\n",
       "      <th>audio_mode</th>\n",
       "      <th>speechiness</th>\n",
       "      <th>tempo</th>\n",
       "      <th>time_signature</th>\n",
       "      <th>audio_valence</th>\n",
       "    </tr>\n",
       "  </thead>\n",
       "  <tbody>\n",
       "    <tr>\n",
       "      <th>0</th>\n",
       "      <td>212990.000000</td>\n",
       "      <td>0.642286</td>\n",
       "      <td>0.856520</td>\n",
       "      <td>0.707073</td>\n",
       "      <td>0.002001</td>\n",
       "      <td>10.0</td>\n",
       "      <td>0.198514</td>\n",
       "      <td>-5.619088</td>\n",
       "      <td>0.0</td>\n",
       "      <td>0.082570</td>\n",
       "      <td>158.386236</td>\n",
       "      <td>4.0</td>\n",
       "      <td>0.734642</td>\n",
       "    </tr>\n",
       "    <tr>\n",
       "      <th>1</th>\n",
       "      <td>193165.847572</td>\n",
       "      <td>0.054866</td>\n",
       "      <td>0.733289</td>\n",
       "      <td>0.835545</td>\n",
       "      <td>0.000996</td>\n",
       "      <td>8.0</td>\n",
       "      <td>0.436428</td>\n",
       "      <td>-5.236965</td>\n",
       "      <td>1.0</td>\n",
       "      <td>0.127358</td>\n",
       "      <td>102.752988</td>\n",
       "      <td>3.0</td>\n",
       "      <td>0.711531</td>\n",
       "    </tr>\n",
       "    <tr>\n",
       "      <th>2</th>\n",
       "      <td>193213.000000</td>\n",
       "      <td>0.276404</td>\n",
       "      <td>0.188387</td>\n",
       "      <td>0.783524</td>\n",
       "      <td>-0.002694</td>\n",
       "      <td>5.0</td>\n",
       "      <td>0.170499</td>\n",
       "      <td>-4.951759</td>\n",
       "      <td>0.0</td>\n",
       "      <td>0.052282</td>\n",
       "      <td>178.685791</td>\n",
       "      <td>3.0</td>\n",
       "      <td>0.425536</td>\n",
       "    </tr>\n",
       "    <tr>\n",
       "      <th>3</th>\n",
       "      <td>249893.000000</td>\n",
       "      <td>0.488660</td>\n",
       "      <td>0.585234</td>\n",
       "      <td>0.552685</td>\n",
       "      <td>0.000608</td>\n",
       "      <td>0.0</td>\n",
       "      <td>0.094805</td>\n",
       "      <td>-7.893694</td>\n",
       "      <td>0.0</td>\n",
       "      <td>0.035618</td>\n",
       "      <td>128.715630</td>\n",
       "      <td>3.0</td>\n",
       "      <td>0.453597</td>\n",
       "    </tr>\n",
       "    <tr>\n",
       "      <th>4</th>\n",
       "      <td>165969.000000</td>\n",
       "      <td>0.493017</td>\n",
       "      <td>0.570951</td>\n",
       "      <td>0.740982</td>\n",
       "      <td>0.002033</td>\n",
       "      <td>10.0</td>\n",
       "      <td>0.094891</td>\n",
       "      <td>-2.684095</td>\n",
       "      <td>0.0</td>\n",
       "      <td>0.050746</td>\n",
       "      <td>121.928157</td>\n",
       "      <td>4.0</td>\n",
       "      <td>0.741311</td>\n",
       "    </tr>\n",
       "  </tbody>\n",
       "</table>\n",
       "</div>"
      ],
      "text/plain": [
       "   song_duration_ms  acousticness  danceability    energy  instrumentalness  \\\n",
       "0     212990.000000      0.642286      0.856520  0.707073          0.002001   \n",
       "1     193165.847572      0.054866      0.733289  0.835545          0.000996   \n",
       "2     193213.000000      0.276404      0.188387  0.783524         -0.002694   \n",
       "3     249893.000000      0.488660      0.585234  0.552685          0.000608   \n",
       "4     165969.000000      0.493017      0.570951  0.740982          0.002033   \n",
       "\n",
       "    key  liveness  loudness  audio_mode  speechiness       tempo  \\\n",
       "0  10.0  0.198514 -5.619088         0.0     0.082570  158.386236   \n",
       "1   8.0  0.436428 -5.236965         1.0     0.127358  102.752988   \n",
       "2   5.0  0.170499 -4.951759         0.0     0.052282  178.685791   \n",
       "3   0.0  0.094805 -7.893694         0.0     0.035618  128.715630   \n",
       "4  10.0  0.094891 -2.684095         0.0     0.050746  121.928157   \n",
       "\n",
       "   time_signature  audio_valence  \n",
       "0             4.0       0.734642  \n",
       "1             3.0       0.711531  \n",
       "2             3.0       0.425536  \n",
       "3             3.0       0.453597  \n",
       "4             4.0       0.741311  "
      ]
     },
     "execution_count": 27,
     "metadata": {},
     "output_type": "execute_result"
    }
   ],
   "source": [
    "# Fit / Transform on train, transform only on val / test\n",
    "imputer = SimpleImputer(strategy=\"mean\", add_indicator=False)\n",
    "train_imputed = imputer.fit_transform(train[FEATURES])\n",
    "test_imputed = imputer.transform(test[FEATURES])\n",
    "\n",
    "# Note that `transform` returns an array, so we have to reconstruct.\n",
    "print(\"No. missing:\", pd.DataFrame(train_imputed).isna().sum().sum())\n",
    "pd.DataFrame(train_imputed, columns=FEATURES).head()"
   ]
  },
  {
   "cell_type": "code",
   "execution_count": 28,
   "metadata": {},
   "outputs": [
    {
     "data": {
      "text/html": [
       "<div>\n",
       "<style scoped>\n",
       "    .dataframe tbody tr th:only-of-type {\n",
       "        vertical-align: middle;\n",
       "    }\n",
       "\n",
       "    .dataframe tbody tr th {\n",
       "        vertical-align: top;\n",
       "    }\n",
       "\n",
       "    .dataframe thead th {\n",
       "        text-align: right;\n",
       "    }\n",
       "</style>\n",
       "<table border=\"1\" class=\"dataframe\">\n",
       "  <thead>\n",
       "    <tr style=\"text-align: right;\">\n",
       "      <th></th>\n",
       "      <th>song_duration_ms</th>\n",
       "      <th>acousticness</th>\n",
       "      <th>danceability</th>\n",
       "      <th>energy</th>\n",
       "      <th>instrumentalness</th>\n",
       "      <th>key</th>\n",
       "      <th>liveness</th>\n",
       "      <th>loudness</th>\n",
       "      <th>audio_mode</th>\n",
       "      <th>speechiness</th>\n",
       "      <th>tempo</th>\n",
       "      <th>time_signature</th>\n",
       "      <th>audio_valence</th>\n",
       "    </tr>\n",
       "  </thead>\n",
       "  <tbody>\n",
       "    <tr>\n",
       "      <th>0</th>\n",
       "      <td>212990.000000</td>\n",
       "      <td>0.642286</td>\n",
       "      <td>0.856520</td>\n",
       "      <td>0.707073</td>\n",
       "      <td>0.002001</td>\n",
       "      <td>10.0</td>\n",
       "      <td>0.198086</td>\n",
       "      <td>-5.619088</td>\n",
       "      <td>0.0</td>\n",
       "      <td>0.082570</td>\n",
       "      <td>158.386236</td>\n",
       "      <td>4.0</td>\n",
       "      <td>0.734642</td>\n",
       "    </tr>\n",
       "    <tr>\n",
       "      <th>1</th>\n",
       "      <td>193150.809021</td>\n",
       "      <td>0.054866</td>\n",
       "      <td>0.733289</td>\n",
       "      <td>0.835545</td>\n",
       "      <td>0.000996</td>\n",
       "      <td>8.0</td>\n",
       "      <td>0.436428</td>\n",
       "      <td>-5.236965</td>\n",
       "      <td>1.0</td>\n",
       "      <td>0.127358</td>\n",
       "      <td>102.752988</td>\n",
       "      <td>3.0</td>\n",
       "      <td>0.711531</td>\n",
       "    </tr>\n",
       "    <tr>\n",
       "      <th>2</th>\n",
       "      <td>193213.000000</td>\n",
       "      <td>0.277183</td>\n",
       "      <td>0.188387</td>\n",
       "      <td>0.783524</td>\n",
       "      <td>-0.002694</td>\n",
       "      <td>5.0</td>\n",
       "      <td>0.170499</td>\n",
       "      <td>-4.951759</td>\n",
       "      <td>0.0</td>\n",
       "      <td>0.052282</td>\n",
       "      <td>178.685791</td>\n",
       "      <td>3.0</td>\n",
       "      <td>0.425536</td>\n",
       "    </tr>\n",
       "    <tr>\n",
       "      <th>3</th>\n",
       "      <td>249893.000000</td>\n",
       "      <td>0.488660</td>\n",
       "      <td>0.585234</td>\n",
       "      <td>0.552685</td>\n",
       "      <td>0.000608</td>\n",
       "      <td>0.0</td>\n",
       "      <td>0.094805</td>\n",
       "      <td>-7.893694</td>\n",
       "      <td>0.0</td>\n",
       "      <td>0.035618</td>\n",
       "      <td>128.715630</td>\n",
       "      <td>3.0</td>\n",
       "      <td>0.453597</td>\n",
       "    </tr>\n",
       "    <tr>\n",
       "      <th>4</th>\n",
       "      <td>165969.000000</td>\n",
       "      <td>0.493017</td>\n",
       "      <td>0.570724</td>\n",
       "      <td>0.740982</td>\n",
       "      <td>0.002033</td>\n",
       "      <td>10.0</td>\n",
       "      <td>0.094891</td>\n",
       "      <td>-2.684095</td>\n",
       "      <td>0.0</td>\n",
       "      <td>0.050746</td>\n",
       "      <td>121.928157</td>\n",
       "      <td>4.0</td>\n",
       "      <td>0.741311</td>\n",
       "    </tr>\n",
       "  </tbody>\n",
       "</table>\n",
       "</div>"
      ],
      "text/plain": [
       "   song_duration_ms  acousticness  danceability    energy  instrumentalness  \\\n",
       "0     212990.000000      0.642286      0.856520  0.707073          0.002001   \n",
       "1     193150.809021      0.054866      0.733289  0.835545          0.000996   \n",
       "2     193213.000000      0.277183      0.188387  0.783524         -0.002694   \n",
       "3     249893.000000      0.488660      0.585234  0.552685          0.000608   \n",
       "4     165969.000000      0.493017      0.570724  0.740982          0.002033   \n",
       "\n",
       "    key  liveness  loudness  audio_mode  speechiness       tempo  \\\n",
       "0  10.0  0.198086 -5.619088         0.0     0.082570  158.386236   \n",
       "1   8.0  0.436428 -5.236965         1.0     0.127358  102.752988   \n",
       "2   5.0  0.170499 -4.951759         0.0     0.052282  178.685791   \n",
       "3   0.0  0.094805 -7.893694         0.0     0.035618  128.715630   \n",
       "4  10.0  0.094891 -2.684095         0.0     0.050746  121.928157   \n",
       "\n",
       "   time_signature  audio_valence  \n",
       "0             4.0       0.734642  \n",
       "1             3.0       0.711531  \n",
       "2             3.0       0.425536  \n",
       "3             3.0       0.453597  \n",
       "4             4.0       0.741311  "
      ]
     },
     "execution_count": 28,
     "metadata": {},
     "output_type": "execute_result"
    }
   ],
   "source": [
    "# For kaggle competition you can kind of cheat by fitting on all data\n",
    "tt_imputed = imputer.fit_transform(tt[FEATURES])\n",
    "\n",
    "tt_simple_imputed = pd.DataFrame(tt_imputed, columns=FEATURES)\n",
    "tt_simple_imputed.head()"
   ]
  },
  {
   "cell_type": "markdown",
   "metadata": {},
   "source": [
    "### `IterativeImputer`"
   ]
  },
  {
   "cell_type": "markdown",
   "metadata": {},
   "source": [
    "Multivariate imputer that estimates each feature from all the others. A strategy for imputing missing values by modeling each feature with missing values as a function of other features in a round-robin fashion. Uses by default the `BayesianRidge` model to impute.\n",
    "\n",
    "* https://scikit-learn.org/stable/modules/generated/sklearn.impute.IterativeImputer.html"
   ]
  },
  {
   "cell_type": "code",
   "execution_count": 29,
   "metadata": {},
   "outputs": [],
   "source": [
    "from sklearn.experimental import enable_iterative_imputer  # noqa\n",
    "from sklearn.impute import IterativeImputer"
   ]
  },
  {
   "cell_type": "markdown",
   "metadata": {},
   "source": [
    "**Protip:** We want to fit and predict on all columns! This is because the model is using all features to help fill the missing values.\n"
   ]
  },
  {
   "cell_type": "code",
   "execution_count": 30,
   "metadata": {},
   "outputs": [
    {
     "name": "stdout",
     "output_type": "stream",
     "text": [
      "CPU times: user 1min 13s, sys: 7.15 s, total: 1min 20s\n",
      "Wall time: 13.1 s\n"
     ]
    }
   ],
   "source": [
    "%%time\n",
    "it_imputer = IterativeImputer(max_iter=10)\n",
    "\n",
    "train_iter_imputed = it_imputer.fit_transform(train[FEATURES])\n",
    "test_iter_imputed = it_imputer.transform(test[FEATURES])\n",
    "tt_iter_imputed = it_imputer.fit_transform(tt[FEATURES])\n",
    "\n",
    "# Create train test imputed dataframe\n",
    "tt_iter_imputed_df = pd.DataFrame(tt_iter_imputed, columns=FEATURES)"
   ]
  },
  {
   "cell_type": "code",
   "execution_count": 31,
   "metadata": {},
   "outputs": [],
   "source": [
    "# Save this off to use later\n",
    "tt_iter_imputed_df.to_parquet(DATASET_PATH / \"tt_iterative_imputed.parquet\")"
   ]
  },
  {
   "cell_type": "markdown",
   "metadata": {},
   "source": [
    "### `KNNImputer`\n",
    "\n",
    "This imputation method uses k-Nearest Neighbors. Each sample's missing values are imputed using the mean value from `n_neighbors` nearest neighbors found in the training set. Two samples are close if the features that neither is missing are close. Note that, as usual with KNN-based methods, this can be slow.\n",
    "\n",
    "* https://scikit-learn.org/stable/modules/generated/sklearn.impute.KNNImputer.html\n"
   ]
  },
  {
   "cell_type": "code",
   "execution_count": 32,
   "metadata": {},
   "outputs": [
    {
     "name": "stdout",
     "output_type": "stream",
     "text": [
      "CPU times: user 3min 3s, sys: 1min 3s, total: 4min 6s\n",
      "Wall time: 2min 9s\n"
     ]
    }
   ],
   "source": [
    "%%time\n",
    "from sklearn.impute import KNNImputer\n",
    "knn_imputer = KNNImputer(n_neighbors=1)\n",
    "\n",
    "train_knnimputed = knn_imputer.fit_transform(train[FEATURES])\n",
    "test_knnimputed = knn_imputer.transform(test[FEATURES])\n",
    "tt_knnimputed = knn_imputer.fit_transform(tt[FEATURES])\n",
    "tt_knnimputed = pd.DataFrame(tt_knnimputed, columns=FEATURES)\n",
    "\n",
    "# Create KNN Train/Test imputed dataframe\n",
    "knn_imputed_df = pd.DataFrame(tt_knnimputed, columns=FEATURES)"
   ]
  },
  {
   "cell_type": "code",
   "execution_count": 33,
   "metadata": {},
   "outputs": [
    {
     "data": {
      "text/plain": [
       "0"
      ]
     },
     "execution_count": 33,
     "metadata": {},
     "output_type": "execute_result"
    }
   ],
   "source": [
    "knn_imputed_df.isna().sum().sum()"
   ]
  },
  {
   "cell_type": "markdown",
   "metadata": {},
   "source": [
    "### XGBoost Imputer"
   ]
  },
  {
   "cell_type": "markdown",
   "metadata": {},
   "source": [
    "This is another model-based approach (like KNN and iterative imputation above) which here uses **gradient boosting**. The algorithm works as follows: if a feature $f$ has missing values, create a regression (classification) model to predict non-missing values of $f$ from all other features. The model predicts on the subset of examples with missing $f$ as our imputation values. Then, perform this for all the feature columns with missing values."
   ]
  },
  {
   "cell_type": "code",
   "execution_count": 34,
   "metadata": {},
   "outputs": [],
   "source": [
    "from xgboost import XGBClassifier, XGBRegressor\n",
    "\n",
    "class XGBImputer:\n",
    "    def __init__(self, cat_features, xgb_params=None):\n",
    "        self.cat_features = cat_features\n",
    "        self.imputers = {}\n",
    "        self.offsets = {}\n",
    "        self.xgb_params = {} if xgb_params is None else xgb_params\n",
    "\n",
    "    def fit(self, X, y=None):\n",
    "        for col in X.columns:\n",
    "            null_feature = X[col].isna()\n",
    "            if null_feature.astype(int).sum() == 0:\n",
    "                continue\n",
    "            \n",
    "            # Preparing the imputer train dataset\n",
    "            X_train = X[~null_feature].drop(col, axis=1)\n",
    "            y_train = X[~null_feature][col]\n",
    "            y_train_min = y_train.min()\n",
    "            self.offsets[col] = y_train_min\n",
    "            y_train = y_train - y_train_min # offset to [0, +∞)\n",
    "\n",
    "            if col in self.cat_features:\n",
    "                imputer = XGBClassifier(**self.xgb_params)\n",
    "            else:\n",
    "                imputer = XGBRegressor(**self.xgb_params)\n",
    "\n",
    "            # Fit xgboost predictor\n",
    "            imputer.fit(X_train, y_train)\n",
    "            self.imputers[col] = imputer\n",
    "\n",
    "    def transform(self, X):\n",
    "        for col in X.columns:\n",
    "            null_feature = X[col].isna()\n",
    "            if null_feature.astype(int).sum() == 0:\n",
    "                continue\n",
    "            fill_values = self.imputers[col].predict(X[null_feature].drop(col, axis=1))\n",
    "            X.loc[null_feature, col] = fill_values + self.offsets[col]\n",
    "        return X\n",
    "\n",
    "    def fit_transform(self, X, y=None):\n",
    "        self.fit(X, y)\n",
    "        return self.transform(X)"
   ]
  },
  {
   "cell_type": "markdown",
   "metadata": {},
   "source": [
    "Testing:"
   ]
  },
  {
   "cell_type": "code",
   "execution_count": 35,
   "metadata": {},
   "outputs": [
    {
     "name": "stdout",
     "output_type": "stream",
     "text": [
      "[19:18:27] WARNING: /Users/runner/miniforge3/conda-bld/xgboost-split_1637426411619/work/src/learner.cc:1115: Starting in XGBoost 1.3.0, the default evaluation metric used with the objective 'multi:softprob' was changed from 'merror' to 'mlogloss'. Explicitly set eval_metric if you'd like to restore the old behavior.\n",
      "[19:19:32] WARNING: /Users/runner/miniforge3/conda-bld/xgboost-split_1637426411619/work/src/learner.cc:1115: Starting in XGBoost 1.3.0, the default evaluation metric used with the objective 'multi:softprob' was changed from 'merror' to 'mlogloss'. Explicitly set eval_metric if you'd like to restore the old behavior.\n",
      "CPU times: user 13min 29s, sys: 2min 44s, total: 16min 14s\n",
      "Wall time: 2min 22s\n"
     ]
    }
   ],
   "source": [
    "%%time\n",
    "cat_features = ['key', 'audio_mode', 'time_signature']\n",
    "xgb_imputer = XGBImputer(cat_features=cat_features)\n",
    "\n",
    "train_xgbimputed = xgb_imputer.fit_transform(train[FEATURES])\n",
    "test_xgbimputed = xgb_imputer.transform(test[FEATURES])\n",
    "tt_xgbimputed = xgb_imputer.fit_transform(tt[FEATURES])\n",
    "tt_imputed = pd.DataFrame(tt_xgbimputed, columns=FEATURES)\n",
    "\n",
    "# Create XGB train / test imputed dataframe\n",
    "xgb_imputed_df = pd.DataFrame(tt_imputed, columns=FEATURES)"
   ]
  },
  {
   "cell_type": "code",
   "execution_count": 36,
   "metadata": {},
   "outputs": [
    {
     "data": {
      "text/plain": [
       "0"
      ]
     },
     "execution_count": 36,
     "metadata": {},
     "output_type": "execute_result"
    }
   ],
   "source": [
    "xgb_imputed_df.isna().sum().sum()"
   ]
  },
  {
   "cell_type": "markdown",
   "metadata": {},
   "source": [
    "Let's visualize the results of different imputation methods."
   ]
  },
  {
   "cell_type": "code",
   "execution_count": 54,
   "metadata": {},
   "outputs": [
    {
     "data": {
      "application/pdf": "[encoded data removed]",
      "image/svg+xml": "<?xml version=\"1.0\" encoding=\"utf-8\" standalone=\"no\"?>\n<!DOCTYPE svg PUBLIC \"-//W3C//DTD SVG 1.1//EN\"\n  \"http://www.w3.org/Graphics/SVG/1.1/DTD/svg11.dtd\">\n<svg xmlns:xlink=\"http://www.w3.org/1999/xlink\" width=\"711.040625pt\" height=\"226.194375pt\" viewBox=\"0 0 711.040625 226.194375\" xmlns=\"http://www.w3.org/2000/svg\" version=\"1.1\">\n <metadata>\n  <rdf:RDF xmlns:dc=\"http://purl.org/dc/elements/1.1/\" xmlns:cc=\"http://creativecommons.org/ns#\" xmlns:rdf=\"http://www.w3.org/1999/02/22-rdf-syntax-ns#\">\n   <cc:Work>\n    <dc:type rdf:resource=\"http://purl.org/dc/dcmitype/StillImage\"/>\n    <dc:date>2022-02-25T19:26:11.348083</dc:date>\n    <dc:format>image/svg+xml</dc:format>\n    <dc:creator>\n     <cc:Agent>\n      <dc:title>Matplotlib v3.5.1, https://matplotlib.org/</dc:title>\n     </cc:Agent>\n    </dc:creator>\n   </cc:Work>\n  </rdf:RDF>\n </metadata>\n <defs>\n  <style type=\"text/css\">*{stroke-linejoin: round; stroke-linecap: butt}</style>\n </defs>\n <g id=\"figure_1\">\n  <g id=\"patch_1\">\n   <path d=\"M 0 226.194375 \nL 711.040625 226.194375 \nL 711.040625 0 \nL 0 0 \nz\n\" style=\"fill: #ffffff\"/>\n  </g>\n  <g id=\"axes_1\">\n   <g id=\"patch_2\">\n    <path d=\"M 34.240625 188.638125 \nL 231.181801 188.638125 \nL 231.181801 22.318125 \nL 34.240625 22.318125 \nz\n\" style=\"fill: #ffffff\"/>\n   </g>\n   <g id=\"patch_3\">\n    <path d=\"M 57.774983 188.638125 \nL 61.181175 188.638125 \nL 61.181175 101.211692 \nL 57.774983 101.211692 \nz\n\" clip-path=\"url(#pe6b6793424)\" style=\"fill: #1f77b4; opacity: 0.4\"/>\n   </g>\n   <g id=\"patch_4\">\n    <path d=\"M 61.181175 188.638125 \nL 64.587368 188.638125 \nL 64.587368 42.270556 \nL 61.181175 42.270556 \nz\n\" clip-path=\"url(#pe6b6793424)\" style=\"fill: #1f77b4; opacity: 0.4\"/>\n   </g>\n   <g id=\"patch_5\">\n    <path d=\"M 64.587368 188.638125 \nL 67.99356 188.638125 \nL 67.99356 96.810812 \nL 64.587368 96.810812 \nz\n\" clip-path=\"url(#pe6b6793424)\" style=\"fill: #1f77b4; opacity: 0.4\"/>\n   </g>\n   <g id=\"patch_6\">\n    <path d=\"M 67.99356 188.638125 \nL 71.399752 188.638125 \nL 71.399752 107.955329 \nL 67.99356 107.955329 \nz\n\" clip-path=\"url(#pe6b6793424)\" style=\"fill: #1f77b4; opacity: 0.4\"/>\n   </g>\n   <g id=\"patch_7\">\n    <path d=\"M 71.399752 188.638125 \nL 74.805945 188.638125 \nL 74.805945 151.307279 \nL 71.399752 151.307279 \nz\n\" clip-path=\"url(#pe6b6793424)\" style=\"fill: #1f77b4; opacity: 0.4\"/>\n   </g>\n   <g id=\"patch_8\">\n    <path d=\"M 74.805945 188.638125 \nL 78.212137 188.638125 \nL 78.212137 152.358235 \nL 74.805945 152.358235 \nz\n\" clip-path=\"url(#pe6b6793424)\" style=\"fill: #1f77b4; opacity: 0.4\"/>\n   </g>\n   <g id=\"patch_9\">\n    <path d=\"M 78.212137 188.638125 \nL 81.618329 188.638125 \nL 81.618329 144.695012 \nL 78.212137 144.695012 \nz\n\" clip-path=\"url(#pe6b6793424)\" style=\"fill: #1f77b4; opacity: 0.4\"/>\n   </g>\n   <g id=\"patch_10\">\n    <path d=\"M 81.618329 188.638125 \nL 85.024521 188.638125 \nL 85.024521 152.270656 \nL 81.618329 152.270656 \nz\n\" clip-path=\"url(#pe6b6793424)\" style=\"fill: #1f77b4; opacity: 0.4\"/>\n   </g>\n   <g id=\"patch_11\">\n    <path d=\"M 85.024521 188.638125 \nL 88.430714 188.638125 \nL 88.430714 164.816447 \nL 85.024521 164.816447 \nz\n\" clip-path=\"url(#pe6b6793424)\" style=\"fill: #1f77b4; opacity: 0.4\"/>\n   </g>\n   <g id=\"patch_12\">\n    <path d=\"M 88.430714 188.638125 \nL 91.836906 188.638125 \nL 91.836906 172.282617 \nL 88.430714 172.282617 \nz\n\" clip-path=\"url(#pe6b6793424)\" style=\"fill: #1f77b4; opacity: 0.4\"/>\n   </g>\n   <g id=\"patch_13\">\n    <path d=\"M 91.836906 188.638125 \nL 95.243098 188.638125 \nL 95.243098 173.508732 \nL 91.836906 173.508732 \nz\n\" clip-path=\"url(#pe6b6793424)\" style=\"fill: #1f77b4; opacity: 0.4\"/>\n   </g>\n   <g id=\"patch_14\">\n    <path d=\"M 95.243098 188.638125 \nL 98.64929 188.638125 \nL 98.64929 173.508732 \nL 95.243098 173.508732 \nz\n\" clip-path=\"url(#pe6b6793424)\" style=\"fill: #1f77b4; opacity: 0.4\"/>\n   </g>\n   <g id=\"patch_15\">\n    <path d=\"M 98.64929 188.638125 \nL 102.055483 188.638125 \nL 102.055483 174.953797 \nL 98.64929 174.953797 \nz\n\" clip-path=\"url(#pe6b6793424)\" style=\"fill: #1f77b4; opacity: 0.4\"/>\n   </g>\n   <g id=\"patch_16\">\n    <path d=\"M 102.055483 188.638125 \nL 105.461675 188.638125 \nL 105.461675 175.566855 \nL 102.055483 175.566855 \nz\n\" clip-path=\"url(#pe6b6793424)\" style=\"fill: #1f77b4; opacity: 0.4\"/>\n   </g>\n   <g id=\"patch_17\">\n    <path d=\"M 105.461675 188.638125 \nL 108.867867 188.638125 \nL 108.867867 175.939069 \nL 105.461675 175.939069 \nz\n\" clip-path=\"url(#pe6b6793424)\" style=\"fill: #1f77b4; opacity: 0.4\"/>\n   </g>\n   <g id=\"patch_18\">\n    <path d=\"M 108.867867 188.638125 \nL 112.27406 188.638125 \nL 112.27406 174.910007 \nL 108.867867 174.910007 \nz\n\" clip-path=\"url(#pe6b6793424)\" style=\"fill: #1f77b4; opacity: 0.4\"/>\n   </g>\n   <g id=\"patch_19\">\n    <path d=\"M 112.27406 188.638125 \nL 115.680252 188.638125 \nL 115.680252 175.895279 \nL 112.27406 175.895279 \nz\n\" clip-path=\"url(#pe6b6793424)\" style=\"fill: #1f77b4; opacity: 0.4\"/>\n   </g>\n   <g id=\"patch_20\">\n    <path d=\"M 115.680252 188.638125 \nL 119.086444 188.638125 \nL 119.086444 175.019482 \nL 115.680252 175.019482 \nz\n\" clip-path=\"url(#pe6b6793424)\" style=\"fill: #1f77b4; opacity: 0.4\"/>\n   </g>\n   <g id=\"patch_21\">\n    <path d=\"M 119.086444 188.638125 \nL 122.492636 188.638125 \nL 122.492636 175.128957 \nL 119.086444 175.128957 \nz\n\" clip-path=\"url(#pe6b6793424)\" style=\"fill: #1f77b4; opacity: 0.4\"/>\n   </g>\n   <g id=\"patch_22\">\n    <path d=\"M 122.492636 188.638125 \nL 125.898829 188.638125 \nL 125.898829 176.004754 \nL 122.492636 176.004754 \nz\n\" clip-path=\"url(#pe6b6793424)\" style=\"fill: #1f77b4; opacity: 0.4\"/>\n   </g>\n   <g id=\"patch_23\">\n    <path d=\"M 125.898829 188.638125 \nL 129.305021 188.638125 \nL 129.305021 175.829594 \nL 125.898829 175.829594 \nz\n\" clip-path=\"url(#pe6b6793424)\" style=\"fill: #1f77b4; opacity: 0.4\"/>\n   </g>\n   <g id=\"patch_24\">\n    <path d=\"M 129.305021 188.638125 \nL 132.711213 188.638125 \nL 132.711213 175.960964 \nL 129.305021 175.960964 \nz\n\" clip-path=\"url(#pe6b6793424)\" style=\"fill: #1f77b4; opacity: 0.4\"/>\n   </g>\n   <g id=\"patch_25\">\n    <path d=\"M 132.711213 188.638125 \nL 136.117406 188.638125 \nL 136.117406 176.201808 \nL 132.711213 176.201808 \nz\n\" clip-path=\"url(#pe6b6793424)\" style=\"fill: #1f77b4; opacity: 0.4\"/>\n   </g>\n   <g id=\"patch_26\">\n    <path d=\"M 136.117406 188.638125 \nL 139.523598 188.638125 \nL 139.523598 175.172747 \nL 136.117406 175.172747 \nz\n\" clip-path=\"url(#pe6b6793424)\" style=\"fill: #1f77b4; opacity: 0.4\"/>\n   </g>\n   <g id=\"patch_27\">\n    <path d=\"M 139.523598 188.638125 \nL 142.92979 188.638125 \nL 142.92979 175.041377 \nL 139.523598 175.041377 \nz\n\" clip-path=\"url(#pe6b6793424)\" style=\"fill: #1f77b4; opacity: 0.4\"/>\n   </g>\n   <g id=\"patch_28\">\n    <path d=\"M 142.92979 188.638125 \nL 146.335982 188.638125 \nL 146.335982 173.902841 \nL 142.92979 173.902841 \nz\n\" clip-path=\"url(#pe6b6793424)\" style=\"fill: #1f77b4; opacity: 0.4\"/>\n   </g>\n   <g id=\"patch_29\">\n    <path d=\"M 146.335982 188.638125 \nL 149.742175 188.638125 \nL 149.742175 174.494004 \nL 146.335982 174.494004 \nz\n\" clip-path=\"url(#pe6b6793424)\" style=\"fill: #1f77b4; opacity: 0.4\"/>\n   </g>\n   <g id=\"patch_30\">\n    <path d=\"M 149.742175 188.638125 \nL 153.148367 188.638125 \nL 153.148367 174.800533 \nL 149.742175 174.800533 \nz\n\" clip-path=\"url(#pe6b6793424)\" style=\"fill: #1f77b4; opacity: 0.4\"/>\n   </g>\n   <g id=\"patch_31\">\n    <path d=\"M 153.148367 188.638125 \nL 156.554559 188.638125 \nL 156.554559 175.72012 \nL 153.148367 175.72012 \nz\n\" clip-path=\"url(#pe6b6793424)\" style=\"fill: #1f77b4; opacity: 0.4\"/>\n   </g>\n   <g id=\"patch_32\">\n    <path d=\"M 156.554559 188.638125 \nL 159.960751 188.638125 \nL 159.960751 177.887717 \nL 156.554559 177.887717 \nz\n\" clip-path=\"url(#pe6b6793424)\" style=\"fill: #1f77b4; opacity: 0.4\"/>\n   </g>\n   <g id=\"patch_33\">\n    <path d=\"M 159.960751 188.638125 \nL 163.366944 188.638125 \nL 163.366944 179.048148 \nL 159.960751 179.048148 \nz\n\" clip-path=\"url(#pe6b6793424)\" style=\"fill: #1f77b4; opacity: 0.4\"/>\n   </g>\n   <g id=\"patch_34\">\n    <path d=\"M 163.366944 188.638125 \nL 166.773136 188.638125 \nL 166.773136 180.142894 \nL 163.366944 180.142894 \nz\n\" clip-path=\"url(#pe6b6793424)\" style=\"fill: #1f77b4; opacity: 0.4\"/>\n   </g>\n   <g id=\"patch_35\">\n    <path d=\"M 166.773136 188.638125 \nL 170.179328 188.638125 \nL 170.179328 182.266702 \nL 166.773136 182.266702 \nz\n\" clip-path=\"url(#pe6b6793424)\" style=\"fill: #1f77b4; opacity: 0.4\"/>\n   </g>\n   <g id=\"patch_36\">\n    <path d=\"M 170.179328 188.638125 \nL 173.585521 188.638125 \nL 173.585521 183.930716 \nL 170.179328 183.930716 \nz\n\" clip-path=\"url(#pe6b6793424)\" style=\"fill: #1f77b4; opacity: 0.4\"/>\n   </g>\n   <g id=\"patch_37\">\n    <path d=\"M 173.585521 188.638125 \nL 176.991713 188.638125 \nL 176.991713 183.843137 \nL 173.585521 183.843137 \nz\n\" clip-path=\"url(#pe6b6793424)\" style=\"fill: #1f77b4; opacity: 0.4\"/>\n   </g>\n   <g id=\"patch_38\">\n    <path d=\"M 176.991713 188.638125 \nL 180.397905 188.638125 \nL 180.397905 181.259536 \nL 176.991713 181.259536 \nz\n\" clip-path=\"url(#pe6b6793424)\" style=\"fill: #1f77b4; opacity: 0.4\"/>\n   </g>\n   <g id=\"patch_39\">\n    <path d=\"M 180.397905 188.638125 \nL 183.804097 188.638125 \nL 183.804097 176.004754 \nL 180.397905 176.004754 \nz\n\" clip-path=\"url(#pe6b6793424)\" style=\"fill: #1f77b4; opacity: 0.4\"/>\n   </g>\n   <g id=\"patch_40\">\n    <path d=\"M 183.804097 188.638125 \nL 187.21029 188.638125 \nL 187.21029 169.567646 \nL 183.804097 169.567646 \nz\n\" clip-path=\"url(#pe6b6793424)\" style=\"fill: #1f77b4; opacity: 0.4\"/>\n   </g>\n   <g id=\"patch_41\">\n    <path d=\"M 187.21029 188.638125 \nL 190.616482 188.638125 \nL 190.616482 171.691454 \nL 187.21029 171.691454 \nz\n\" clip-path=\"url(#pe6b6793424)\" style=\"fill: #1f77b4; opacity: 0.4\"/>\n   </g>\n   <g id=\"patch_42\">\n    <path d=\"M 190.616482 188.638125 \nL 194.022674 188.638125 \nL 194.022674 174.472109 \nL 190.616482 174.472109 \nz\n\" clip-path=\"url(#pe6b6793424)\" style=\"fill: #1f77b4; opacity: 0.4\"/>\n   </g>\n   <g id=\"patch_43\">\n    <path d=\"M 194.022674 188.638125 \nL 197.428866 188.638125 \nL 197.428866 179.091938 \nL 194.022674 179.091938 \nz\n\" clip-path=\"url(#pe6b6793424)\" style=\"fill: #1f77b4; opacity: 0.4\"/>\n   </g>\n   <g id=\"patch_44\">\n    <path d=\"M 197.428866 188.638125 \nL 200.835059 188.638125 \nL 200.835059 184.740828 \nL 197.428866 184.740828 \nz\n\" clip-path=\"url(#pe6b6793424)\" style=\"fill: #1f77b4; opacity: 0.4\"/>\n   </g>\n   <g id=\"patch_45\">\n    <path d=\"M 200.835059 188.638125 \nL 204.241251 188.638125 \nL 204.241251 187.609064 \nL 200.835059 187.609064 \nz\n\" clip-path=\"url(#pe6b6793424)\" style=\"fill: #1f77b4; opacity: 0.4\"/>\n   </g>\n   <g id=\"patch_46\">\n    <path d=\"M 204.241251 188.638125 \nL 207.647443 188.638125 \nL 207.647443 188.441071 \nL 204.241251 188.441071 \nz\n\" clip-path=\"url(#pe6b6793424)\" style=\"fill: #1f77b4; opacity: 0.4\"/>\n   </g>\n   <g id=\"patch_47\">\n    <path d=\"M 57.774983 188.638125 \nL 61.03308 188.638125 \nL 61.03308 106.560563 \nL 57.774983 106.560563 \nz\n\" clip-path=\"url(#pe6b6793424)\" style=\"fill: #ff7f0e; opacity: 0.4\"/>\n   </g>\n   <g id=\"patch_48\">\n    <path d=\"M 61.03308 188.638125 \nL 64.291177 188.638125 \nL 64.291177 30.238125 \nL 61.03308 30.238125 \nz\n\" clip-path=\"url(#pe6b6793424)\" style=\"fill: #ff7f0e; opacity: 0.4\"/>\n   </g>\n   <g id=\"patch_49\">\n    <path d=\"M 64.291177 188.638125 \nL 67.549274 188.638125 \nL 67.549274 101.816195 \nL 64.291177 101.816195 \nz\n\" clip-path=\"url(#pe6b6793424)\" style=\"fill: #ff7f0e; opacity: 0.4\"/>\n   </g>\n   <g id=\"patch_50\">\n    <path d=\"M 67.549274 188.638125 \nL 70.807371 188.638125 \nL 70.807371 98.000073 \nL 67.549274 98.000073 \nz\n\" clip-path=\"url(#pe6b6793424)\" style=\"fill: #ff7f0e; opacity: 0.4\"/>\n   </g>\n   <g id=\"patch_51\">\n    <path d=\"M 70.807371 188.638125 \nL 74.065468 188.638125 \nL 74.065468 147.485892 \nL 70.807371 147.485892 \nz\n\" clip-path=\"url(#pe6b6793424)\" style=\"fill: #ff7f0e; opacity: 0.4\"/>\n   </g>\n   <g id=\"patch_52\">\n    <path d=\"M 74.065468 188.638125 \nL 77.323565 188.638125 \nL 77.323565 152.704696 \nL 74.065468 152.704696 \nz\n\" clip-path=\"url(#pe6b6793424)\" style=\"fill: #ff7f0e; opacity: 0.4\"/>\n   </g>\n   <g id=\"patch_53\">\n    <path d=\"M 77.323565 188.638125 \nL 80.581662 188.638125 \nL 80.581662 146.805178 \nL 77.323565 146.805178 \nz\n\" clip-path=\"url(#pe6b6793424)\" style=\"fill: #ff7f0e; opacity: 0.4\"/>\n   </g>\n   <g id=\"patch_54\">\n    <path d=\"M 80.581662 188.638125 \nL 83.839759 188.638125 \nL 83.839759 147.836562 \nL 80.581662 147.836562 \nz\n\" clip-path=\"url(#pe6b6793424)\" style=\"fill: #ff7f0e; opacity: 0.4\"/>\n   </g>\n   <g id=\"patch_55\">\n    <path d=\"M 83.839759 188.638125 \nL 87.097856 188.638125 \nL 87.097856 160.171918 \nL 83.839759 160.171918 \nz\n\" clip-path=\"url(#pe6b6793424)\" style=\"fill: #ff7f0e; opacity: 0.4\"/>\n   </g>\n   <g id=\"patch_56\">\n    <path d=\"M 87.097856 188.638125 \nL 90.355953 188.638125 \nL 90.355953 169.392494 \nL 87.097856 169.392494 \nz\n\" clip-path=\"url(#pe6b6793424)\" style=\"fill: #ff7f0e; opacity: 0.4\"/>\n   </g>\n   <g id=\"patch_57\">\n    <path d=\"M 90.355953 188.638125 \nL 93.61405 188.638125 \nL 93.61405 173.394265 \nL 90.355953 173.394265 \nz\n\" clip-path=\"url(#pe6b6793424)\" style=\"fill: #ff7f0e; opacity: 0.4\"/>\n   </g>\n   <g id=\"patch_58\">\n    <path d=\"M 93.61405 188.638125 \nL 96.872147 188.638125 \nL 96.872147 173.332382 \nL 93.61405 173.332382 \nz\n\" clip-path=\"url(#pe6b6793424)\" style=\"fill: #ff7f0e; opacity: 0.4\"/>\n   </g>\n   <g id=\"patch_59\">\n    <path d=\"M 96.872147 188.638125 \nL 100.130244 188.638125 \nL 100.130244 173.641797 \nL 96.872147 173.641797 \nz\n\" clip-path=\"url(#pe6b6793424)\" style=\"fill: #ff7f0e; opacity: 0.4\"/>\n   </g>\n   <g id=\"patch_60\">\n    <path d=\"M 100.130244 188.638125 \nL 103.388341 188.638125 \nL 103.388341 176.240886 \nL 100.130244 176.240886 \nz\n\" clip-path=\"url(#pe6b6793424)\" style=\"fill: #ff7f0e; opacity: 0.4\"/>\n   </g>\n   <g id=\"patch_61\">\n    <path d=\"M 103.388341 188.638125 \nL 106.646438 188.638125 \nL 106.646438 175.518917 \nL 103.388341 175.518917 \nz\n\" clip-path=\"url(#pe6b6793424)\" style=\"fill: #ff7f0e; opacity: 0.4\"/>\n   </g>\n   <g id=\"patch_62\">\n    <path d=\"M 106.646438 188.638125 \nL 109.904535 188.638125 \nL 109.904535 174.611299 \nL 106.646438 174.611299 \nz\n\" clip-path=\"url(#pe6b6793424)\" style=\"fill: #ff7f0e; opacity: 0.4\"/>\n   </g>\n   <g id=\"patch_63\">\n    <path d=\"M 109.904535 188.638125 \nL 113.162631 188.638125 \nL 113.162631 175.766449 \nL 109.904535 175.766449 \nz\n\" clip-path=\"url(#pe6b6793424)\" style=\"fill: #ff7f0e; opacity: 0.4\"/>\n   </g>\n   <g id=\"patch_64\">\n    <path d=\"M 113.162631 188.638125 \nL 116.420728 188.638125 \nL 116.420728 175.188874 \nL 113.162631 175.188874 \nz\n\" clip-path=\"url(#pe6b6793424)\" style=\"fill: #ff7f0e; opacity: 0.4\"/>\n   </g>\n   <g id=\"patch_65\">\n    <path d=\"M 116.420728 188.638125 \nL 119.678825 188.638125 \nL 119.678825 174.714437 \nL 116.420728 174.714437 \nz\n\" clip-path=\"url(#pe6b6793424)\" style=\"fill: #ff7f0e; opacity: 0.4\"/>\n   </g>\n   <g id=\"patch_66\">\n    <path d=\"M 119.678825 188.638125 \nL 122.936922 188.638125 \nL 122.936922 175.5808 \nL 119.678825 175.5808 \nz\n\" clip-path=\"url(#pe6b6793424)\" style=\"fill: #ff7f0e; opacity: 0.4\"/>\n   </g>\n   <g id=\"patch_67\">\n    <path d=\"M 122.936922 188.638125 \nL 126.195019 188.638125 \nL 126.195019 176.509046 \nL 122.936922 176.509046 \nz\n\" clip-path=\"url(#pe6b6793424)\" style=\"fill: #ff7f0e; opacity: 0.4\"/>\n   </g>\n   <g id=\"patch_68\">\n    <path d=\"M 126.195019 188.638125 \nL 129.453116 188.638125 \nL 129.453116 175.807704 \nL 126.195019 175.807704 \nz\n\" clip-path=\"url(#pe6b6793424)\" style=\"fill: #ff7f0e; opacity: 0.4\"/>\n   </g>\n   <g id=\"patch_69\">\n    <path d=\"M 129.453116 188.638125 \nL 132.711213 188.638125 \nL 132.711213 176.220258 \nL 129.453116 176.220258 \nz\n\" clip-path=\"url(#pe6b6793424)\" style=\"fill: #ff7f0e; opacity: 0.4\"/>\n   </g>\n   <g id=\"patch_70\">\n    <path d=\"M 132.711213 188.638125 \nL 135.96931 188.638125 \nL 135.96931 176.38528 \nL 132.711213 176.38528 \nz\n\" clip-path=\"url(#pe6b6793424)\" style=\"fill: #ff7f0e; opacity: 0.4\"/>\n   </g>\n   <g id=\"patch_71\">\n    <path d=\"M 135.96931 188.638125 \nL 139.227407 188.638125 \nL 139.227407 175.663311 \nL 135.96931 175.663311 \nz\n\" clip-path=\"url(#pe6b6793424)\" style=\"fill: #ff7f0e; opacity: 0.4\"/>\n   </g>\n   <g id=\"patch_72\">\n    <path d=\"M 139.227407 188.638125 \nL 142.485504 188.638125 \nL 142.485504 174.858831 \nL 139.227407 174.858831 \nz\n\" clip-path=\"url(#pe6b6793424)\" style=\"fill: #ff7f0e; opacity: 0.4\"/>\n   </g>\n   <g id=\"patch_73\">\n    <path d=\"M 142.485504 188.638125 \nL 145.743601 188.638125 \nL 145.743601 173.43552 \nL 142.485504 173.43552 \nz\n\" clip-path=\"url(#pe6b6793424)\" style=\"fill: #ff7f0e; opacity: 0.4\"/>\n   </g>\n   <g id=\"patch_74\">\n    <path d=\"M 145.743601 188.638125 \nL 149.001698 188.638125 \nL 149.001698 175.333268 \nL 145.743601 175.333268 \nz\n\" clip-path=\"url(#pe6b6793424)\" style=\"fill: #ff7f0e; opacity: 0.4\"/>\n   </g>\n   <g id=\"patch_75\">\n    <path d=\"M 149.001698 188.638125 \nL 152.259795 188.638125 \nL 152.259795 174.013096 \nL 149.001698 174.013096 \nz\n\" clip-path=\"url(#pe6b6793424)\" style=\"fill: #ff7f0e; opacity: 0.4\"/>\n   </g>\n   <g id=\"patch_76\">\n    <path d=\"M 152.259795 188.638125 \nL 155.517892 188.638125 \nL 155.517892 175.84896 \nL 152.259795 175.84896 \nz\n\" clip-path=\"url(#pe6b6793424)\" style=\"fill: #ff7f0e; opacity: 0.4\"/>\n   </g>\n   <g id=\"patch_77\">\n    <path d=\"M 155.517892 188.638125 \nL 158.775989 188.638125 \nL 158.775989 178.097378 \nL 155.517892 178.097378 \nz\n\" clip-path=\"url(#pe6b6793424)\" style=\"fill: #ff7f0e; opacity: 0.4\"/>\n   </g>\n   <g id=\"patch_78\">\n    <path d=\"M 158.775989 188.638125 \nL 162.034086 188.638125 \nL 162.034086 178.42742 \nL 158.775989 178.42742 \nz\n\" clip-path=\"url(#pe6b6793424)\" style=\"fill: #ff7f0e; opacity: 0.4\"/>\n   </g>\n   <g id=\"patch_79\">\n    <path d=\"M 162.034086 188.638125 \nL 165.292183 188.638125 \nL 165.292183 180.283912 \nL 162.034086 180.283912 \nz\n\" clip-path=\"url(#pe6b6793424)\" style=\"fill: #ff7f0e; opacity: 0.4\"/>\n   </g>\n   <g id=\"patch_80\">\n    <path d=\"M 165.292183 188.638125 \nL 168.55028 188.638125 \nL 168.55028 181.026509 \nL 165.292183 181.026509 \nz\n\" clip-path=\"url(#pe6b6793424)\" style=\"fill: #ff7f0e; opacity: 0.4\"/>\n   </g>\n   <g id=\"patch_81\">\n    <path d=\"M 168.55028 188.638125 \nL 171.808377 188.638125 \nL 171.808377 183.728736 \nL 168.55028 183.728736 \nz\n\" clip-path=\"url(#pe6b6793424)\" style=\"fill: #ff7f0e; opacity: 0.4\"/>\n   </g>\n   <g id=\"patch_82\">\n    <path d=\"M 171.808377 188.638125 \nL 175.066474 188.638125 \nL 175.066474 184.533216 \nL 171.808377 184.533216 \nz\n\" clip-path=\"url(#pe6b6793424)\" style=\"fill: #ff7f0e; opacity: 0.4\"/>\n   </g>\n   <g id=\"patch_83\">\n    <path d=\"M 175.066474 188.638125 \nL 178.324571 188.638125 \nL 178.324571 183.151161 \nL 175.066474 183.151161 \nz\n\" clip-path=\"url(#pe6b6793424)\" style=\"fill: #ff7f0e; opacity: 0.4\"/>\n   </g>\n   <g id=\"patch_84\">\n    <path d=\"M 178.324571 188.638125 \nL 181.582668 188.638125 \nL 181.582668 179.974497 \nL 178.324571 179.974497 \nz\n\" clip-path=\"url(#pe6b6793424)\" style=\"fill: #ff7f0e; opacity: 0.4\"/>\n   </g>\n   <g id=\"patch_85\">\n    <path d=\"M 181.582668 188.638125 \nL 184.840765 188.638125 \nL 184.840765 173.930585 \nL 181.582668 173.930585 \nz\n\" clip-path=\"url(#pe6b6793424)\" style=\"fill: #ff7f0e; opacity: 0.4\"/>\n   </g>\n   <g id=\"patch_86\">\n    <path d=\"M 184.840765 188.638125 \nL 188.098862 188.638125 \nL 188.098862 169.970069 \nL 184.840765 169.970069 \nz\n\" clip-path=\"url(#pe6b6793424)\" style=\"fill: #ff7f0e; opacity: 0.4\"/>\n   </g>\n   <g id=\"patch_87\">\n    <path d=\"M 188.098862 188.638125 \nL 191.356959 188.638125 \nL 191.356959 171.805933 \nL 188.098862 171.805933 \nz\n\" clip-path=\"url(#pe6b6793424)\" style=\"fill: #ff7f0e; opacity: 0.4\"/>\n   </g>\n   <g id=\"patch_88\">\n    <path d=\"M 191.356959 188.638125 \nL 194.615055 188.638125 \nL 194.615055 176.075864 \nL 191.356959 176.075864 \nz\n\" clip-path=\"url(#pe6b6793424)\" style=\"fill: #ff7f0e; opacity: 0.4\"/>\n   </g>\n   <g id=\"patch_89\">\n    <path d=\"M 194.615055 188.638125 \nL 197.873152 188.638125 \nL 197.873152 180.675838 \nL 194.615055 180.675838 \nz\n\" clip-path=\"url(#pe6b6793424)\" style=\"fill: #ff7f0e; opacity: 0.4\"/>\n   </g>\n   <g id=\"patch_90\">\n    <path d=\"M 197.873152 188.638125 \nL 201.131249 188.638125 \nL 201.131249 184.966397 \nL 197.873152 184.966397 \nz\n\" clip-path=\"url(#pe6b6793424)\" style=\"fill: #ff7f0e; opacity: 0.4\"/>\n   </g>\n   <g id=\"patch_91\">\n    <path d=\"M 201.131249 188.638125 \nL 204.389346 188.638125 \nL 204.389346 187.813018 \nL 201.131249 187.813018 \nz\n\" clip-path=\"url(#pe6b6793424)\" style=\"fill: #ff7f0e; opacity: 0.4\"/>\n   </g>\n   <g id=\"patch_92\">\n    <path d=\"M 204.389346 188.638125 \nL 207.647443 188.638125 \nL 207.647443 188.431848 \nL 204.389346 188.431848 \nz\n\" clip-path=\"url(#pe6b6793424)\" style=\"fill: #ff7f0e; opacity: 0.4\"/>\n   </g>\n   <g id=\"matplotlib.axis_1\">\n    <g id=\"xtick_1\">\n     <g id=\"line2d_1\">\n      <defs>\n       <path id=\"mcfcebc2c2a\" d=\"M 0 0 \nL 0 3.5 \n\" style=\"stroke: #000000; stroke-width: 0.8\"/>\n      </defs>\n      <g>\n       <use xlink:href=\"#mcfcebc2c2a\" x=\"59.662143\" y=\"188.638125\" style=\"stroke: #000000; stroke-width: 0.8\"/>\n      </g>\n     </g>\n     <g id=\"text_1\">\n      <!-- 0.00 -->\n      <g transform=\"translate(48.52933 203.236563)scale(0.1 -0.1)\">\n       <defs>\n        <path id=\"DejaVuSans-30\" d=\"M 2034 4250 \nQ 1547 4250 1301 3770 \nQ 1056 3291 1056 2328 \nQ 1056 1369 1301 889 \nQ 1547 409 2034 409 \nQ 2525 409 2770 889 \nQ 3016 1369 3016 2328 \nQ 3016 3291 2770 3770 \nQ 2525 4250 2034 4250 \nz\nM 2034 4750 \nQ 2819 4750 3233 4129 \nQ 3647 3509 3647 2328 \nQ 3647 1150 3233 529 \nQ 2819 -91 2034 -91 \nQ 1250 -91 836 529 \nQ 422 1150 422 2328 \nQ 422 3509 836 4129 \nQ 1250 4750 2034 4750 \nz\n\" transform=\"scale(0.015625)\"/>\n        <path id=\"DejaVuSans-2e\" d=\"M 684 794 \nL 1344 794 \nL 1344 0 \nL 684 0 \nL 684 794 \nz\n\" transform=\"scale(0.015625)\"/>\n       </defs>\n       <use xlink:href=\"#DejaVuSans-30\"/>\n       <use xlink:href=\"#DejaVuSans-2e\" x=\"63.623047\"/>\n       <use xlink:href=\"#DejaVuSans-30\" x=\"95.410156\"/>\n       <use xlink:href=\"#DejaVuSans-30\" x=\"159.033203\"/>\n      </g>\n     </g>\n    </g>\n    <g id=\"xtick_2\">\n     <g id=\"line2d_2\">\n      <g>\n       <use xlink:href=\"#mcfcebc2c2a\" x=\"94.391203\" y=\"188.638125\" style=\"stroke: #000000; stroke-width: 0.8\"/>\n      </g>\n     </g>\n     <g id=\"text_2\">\n      <!-- 0.25 -->\n      <g transform=\"translate(83.258391 203.236563)scale(0.1 -0.1)\">\n       <defs>\n        <path id=\"DejaVuSans-32\" d=\"M 1228 531 \nL 3431 531 \nL 3431 0 \nL 469 0 \nL 469 531 \nQ 828 903 1448 1529 \nQ 2069 2156 2228 2338 \nQ 2531 2678 2651 2914 \nQ 2772 3150 2772 3378 \nQ 2772 3750 2511 3984 \nQ 2250 4219 1831 4219 \nQ 1534 4219 1204 4116 \nQ 875 4013 500 3803 \nL 500 4441 \nQ 881 4594 1212 4672 \nQ 1544 4750 1819 4750 \nQ 2544 4750 2975 4387 \nQ 3406 4025 3406 3419 \nQ 3406 3131 3298 2873 \nQ 3191 2616 2906 2266 \nQ 2828 2175 2409 1742 \nQ 1991 1309 1228 531 \nz\n\" transform=\"scale(0.015625)\"/>\n        <path id=\"DejaVuSans-35\" d=\"M 691 4666 \nL 3169 4666 \nL 3169 4134 \nL 1269 4134 \nL 1269 2991 \nQ 1406 3038 1543 3061 \nQ 1681 3084 1819 3084 \nQ 2600 3084 3056 2656 \nQ 3513 2228 3513 1497 \nQ 3513 744 3044 326 \nQ 2575 -91 1722 -91 \nQ 1428 -91 1123 -41 \nQ 819 9 494 109 \nL 494 744 \nQ 775 591 1075 516 \nQ 1375 441 1709 441 \nQ 2250 441 2565 725 \nQ 2881 1009 2881 1497 \nQ 2881 1984 2565 2268 \nQ 2250 2553 1709 2553 \nQ 1456 2553 1204 2497 \nQ 953 2441 691 2322 \nL 691 4666 \nz\n\" transform=\"scale(0.015625)\"/>\n       </defs>\n       <use xlink:href=\"#DejaVuSans-30\"/>\n       <use xlink:href=\"#DejaVuSans-2e\" x=\"63.623047\"/>\n       <use xlink:href=\"#DejaVuSans-32\" x=\"95.410156\"/>\n       <use xlink:href=\"#DejaVuSans-35\" x=\"159.033203\"/>\n      </g>\n     </g>\n    </g>\n    <g id=\"xtick_3\">\n     <g id=\"line2d_3\">\n      <g>\n       <use xlink:href=\"#mcfcebc2c2a\" x=\"129.120264\" y=\"188.638125\" style=\"stroke: #000000; stroke-width: 0.8\"/>\n      </g>\n     </g>\n     <g id=\"text_3\">\n      <!-- 0.50 -->\n      <g transform=\"translate(117.987452 203.236563)scale(0.1 -0.1)\">\n       <use xlink:href=\"#DejaVuSans-30\"/>\n       <use xlink:href=\"#DejaVuSans-2e\" x=\"63.623047\"/>\n       <use xlink:href=\"#DejaVuSans-35\" x=\"95.410156\"/>\n       <use xlink:href=\"#DejaVuSans-30\" x=\"159.033203\"/>\n      </g>\n     </g>\n    </g>\n    <g id=\"xtick_4\">\n     <g id=\"line2d_4\">\n      <g>\n       <use xlink:href=\"#mcfcebc2c2a\" x=\"163.849325\" y=\"188.638125\" style=\"stroke: #000000; stroke-width: 0.8\"/>\n      </g>\n     </g>\n     <g id=\"text_4\">\n      <!-- 0.75 -->\n      <g transform=\"translate(152.716512 203.236563)scale(0.1 -0.1)\">\n       <defs>\n        <path id=\"DejaVuSans-37\" d=\"M 525 4666 \nL 3525 4666 \nL 3525 4397 \nL 1831 0 \nL 1172 0 \nL 2766 4134 \nL 525 4134 \nL 525 4666 \nz\n\" transform=\"scale(0.015625)\"/>\n       </defs>\n       <use xlink:href=\"#DejaVuSans-30\"/>\n       <use xlink:href=\"#DejaVuSans-2e\" x=\"63.623047\"/>\n       <use xlink:href=\"#DejaVuSans-37\" x=\"95.410156\"/>\n       <use xlink:href=\"#DejaVuSans-35\" x=\"159.033203\"/>\n      </g>\n     </g>\n    </g>\n    <g id=\"xtick_5\">\n     <g id=\"line2d_5\">\n      <g>\n       <use xlink:href=\"#mcfcebc2c2a\" x=\"198.578385\" y=\"188.638125\" style=\"stroke: #000000; stroke-width: 0.8\"/>\n      </g>\n     </g>\n     <g id=\"text_5\">\n      <!-- 1.00 -->\n      <g transform=\"translate(187.445573 203.236563)scale(0.1 -0.1)\">\n       <defs>\n        <path id=\"DejaVuSans-31\" d=\"M 794 531 \nL 1825 531 \nL 1825 4091 \nL 703 3866 \nL 703 4441 \nL 1819 4666 \nL 2450 4666 \nL 2450 531 \nL 3481 531 \nL 3481 0 \nL 794 0 \nL 794 531 \nz\n\" transform=\"scale(0.015625)\"/>\n       </defs>\n       <use xlink:href=\"#DejaVuSans-31\"/>\n       <use xlink:href=\"#DejaVuSans-2e\" x=\"63.623047\"/>\n       <use xlink:href=\"#DejaVuSans-30\" x=\"95.410156\"/>\n       <use xlink:href=\"#DejaVuSans-30\" x=\"159.033203\"/>\n      </g>\n     </g>\n    </g>\n    <g id=\"text_6\">\n     <!-- acousticness -->\n     <g transform=\"translate(100.511994 216.914688)scale(0.1 -0.1)\">\n      <defs>\n       <path id=\"DejaVuSans-61\" d=\"M 2194 1759 \nQ 1497 1759 1228 1600 \nQ 959 1441 959 1056 \nQ 959 750 1161 570 \nQ 1363 391 1709 391 \nQ 2188 391 2477 730 \nQ 2766 1069 2766 1631 \nL 2766 1759 \nL 2194 1759 \nz\nM 3341 1997 \nL 3341 0 \nL 2766 0 \nL 2766 531 \nQ 2569 213 2275 61 \nQ 1981 -91 1556 -91 \nQ 1019 -91 701 211 \nQ 384 513 384 1019 \nQ 384 1609 779 1909 \nQ 1175 2209 1959 2209 \nL 2766 2209 \nL 2766 2266 \nQ 2766 2663 2505 2880 \nQ 2244 3097 1772 3097 \nQ 1472 3097 1187 3025 \nQ 903 2953 641 2809 \nL 641 3341 \nQ 956 3463 1253 3523 \nQ 1550 3584 1831 3584 \nQ 2591 3584 2966 3190 \nQ 3341 2797 3341 1997 \nz\n\" transform=\"scale(0.015625)\"/>\n       <path id=\"DejaVuSans-63\" d=\"M 3122 3366 \nL 3122 2828 \nQ 2878 2963 2633 3030 \nQ 2388 3097 2138 3097 \nQ 1578 3097 1268 2742 \nQ 959 2388 959 1747 \nQ 959 1106 1268 751 \nQ 1578 397 2138 397 \nQ 2388 397 2633 464 \nQ 2878 531 3122 666 \nL 3122 134 \nQ 2881 22 2623 -34 \nQ 2366 -91 2075 -91 \nQ 1284 -91 818 406 \nQ 353 903 353 1747 \nQ 353 2603 823 3093 \nQ 1294 3584 2113 3584 \nQ 2378 3584 2631 3529 \nQ 2884 3475 3122 3366 \nz\n\" transform=\"scale(0.015625)\"/>\n       <path id=\"DejaVuSans-6f\" d=\"M 1959 3097 \nQ 1497 3097 1228 2736 \nQ 959 2375 959 1747 \nQ 959 1119 1226 758 \nQ 1494 397 1959 397 \nQ 2419 397 2687 759 \nQ 2956 1122 2956 1747 \nQ 2956 2369 2687 2733 \nQ 2419 3097 1959 3097 \nz\nM 1959 3584 \nQ 2709 3584 3137 3096 \nQ 3566 2609 3566 1747 \nQ 3566 888 3137 398 \nQ 2709 -91 1959 -91 \nQ 1206 -91 779 398 \nQ 353 888 353 1747 \nQ 353 2609 779 3096 \nQ 1206 3584 1959 3584 \nz\n\" transform=\"scale(0.015625)\"/>\n       <path id=\"DejaVuSans-75\" d=\"M 544 1381 \nL 544 3500 \nL 1119 3500 \nL 1119 1403 \nQ 1119 906 1312 657 \nQ 1506 409 1894 409 \nQ 2359 409 2629 706 \nQ 2900 1003 2900 1516 \nL 2900 3500 \nL 3475 3500 \nL 3475 0 \nL 2900 0 \nL 2900 538 \nQ 2691 219 2414 64 \nQ 2138 -91 1772 -91 \nQ 1169 -91 856 284 \nQ 544 659 544 1381 \nz\nM 1991 3584 \nL 1991 3584 \nz\n\" transform=\"scale(0.015625)\"/>\n       <path id=\"DejaVuSans-73\" d=\"M 2834 3397 \nL 2834 2853 \nQ 2591 2978 2328 3040 \nQ 2066 3103 1784 3103 \nQ 1356 3103 1142 2972 \nQ 928 2841 928 2578 \nQ 928 2378 1081 2264 \nQ 1234 2150 1697 2047 \nL 1894 2003 \nQ 2506 1872 2764 1633 \nQ 3022 1394 3022 966 \nQ 3022 478 2636 193 \nQ 2250 -91 1575 -91 \nQ 1294 -91 989 -36 \nQ 684 19 347 128 \nL 347 722 \nQ 666 556 975 473 \nQ 1284 391 1588 391 \nQ 1994 391 2212 530 \nQ 2431 669 2431 922 \nQ 2431 1156 2273 1281 \nQ 2116 1406 1581 1522 \nL 1381 1569 \nQ 847 1681 609 1914 \nQ 372 2147 372 2553 \nQ 372 3047 722 3315 \nQ 1072 3584 1716 3584 \nQ 2034 3584 2315 3537 \nQ 2597 3491 2834 3397 \nz\n\" transform=\"scale(0.015625)\"/>\n       <path id=\"DejaVuSans-74\" d=\"M 1172 4494 \nL 1172 3500 \nL 2356 3500 \nL 2356 3053 \nL 1172 3053 \nL 1172 1153 \nQ 1172 725 1289 603 \nQ 1406 481 1766 481 \nL 2356 481 \nL 2356 0 \nL 1766 0 \nQ 1100 0 847 248 \nQ 594 497 594 1153 \nL 594 3053 \nL 172 3053 \nL 172 3500 \nL 594 3500 \nL 594 4494 \nL 1172 4494 \nz\n\" transform=\"scale(0.015625)\"/>\n       <path id=\"DejaVuSans-69\" d=\"M 603 3500 \nL 1178 3500 \nL 1178 0 \nL 603 0 \nL 603 3500 \nz\nM 603 4863 \nL 1178 4863 \nL 1178 4134 \nL 603 4134 \nL 603 4863 \nz\n\" transform=\"scale(0.015625)\"/>\n       <path id=\"DejaVuSans-6e\" d=\"M 3513 2113 \nL 3513 0 \nL 2938 0 \nL 2938 2094 \nQ 2938 2591 2744 2837 \nQ 2550 3084 2163 3084 \nQ 1697 3084 1428 2787 \nQ 1159 2491 1159 1978 \nL 1159 0 \nL 581 0 \nL 581 3500 \nL 1159 3500 \nL 1159 2956 \nQ 1366 3272 1645 3428 \nQ 1925 3584 2291 3584 \nQ 2894 3584 3203 3211 \nQ 3513 2838 3513 2113 \nz\n\" transform=\"scale(0.015625)\"/>\n       <path id=\"DejaVuSans-65\" d=\"M 3597 1894 \nL 3597 1613 \nL 953 1613 \nQ 991 1019 1311 708 \nQ 1631 397 2203 397 \nQ 2534 397 2845 478 \nQ 3156 559 3463 722 \nL 3463 178 \nQ 3153 47 2828 -22 \nQ 2503 -91 2169 -91 \nQ 1331 -91 842 396 \nQ 353 884 353 1716 \nQ 353 2575 817 3079 \nQ 1281 3584 2069 3584 \nQ 2775 3584 3186 3129 \nQ 3597 2675 3597 1894 \nz\nM 3022 2063 \nQ 3016 2534 2758 2815 \nQ 2500 3097 2075 3097 \nQ 1594 3097 1305 2825 \nQ 1016 2553 972 2059 \nL 3022 2063 \nz\n\" transform=\"scale(0.015625)\"/>\n      </defs>\n      <use xlink:href=\"#DejaVuSans-61\"/>\n      <use xlink:href=\"#DejaVuSans-63\" x=\"61.279297\"/>\n      <use xlink:href=\"#DejaVuSans-6f\" x=\"116.259766\"/>\n      <use xlink:href=\"#DejaVuSans-75\" x=\"177.441406\"/>\n      <use xlink:href=\"#DejaVuSans-73\" x=\"240.820312\"/>\n      <use xlink:href=\"#DejaVuSans-74\" x=\"292.919922\"/>\n      <use xlink:href=\"#DejaVuSans-69\" x=\"332.128906\"/>\n      <use xlink:href=\"#DejaVuSans-63\" x=\"359.912109\"/>\n      <use xlink:href=\"#DejaVuSans-6e\" x=\"414.892578\"/>\n      <use xlink:href=\"#DejaVuSans-65\" x=\"478.271484\"/>\n      <use xlink:href=\"#DejaVuSans-73\" x=\"539.794922\"/>\n      <use xlink:href=\"#DejaVuSans-73\" x=\"591.894531\"/>\n     </g>\n    </g>\n   </g>\n   <g id=\"matplotlib.axis_2\">\n    <g id=\"ytick_1\">\n     <g id=\"line2d_6\">\n      <defs>\n       <path id=\"ma13ce87ef8\" d=\"M 0 0 \nL -3.5 0 \n\" style=\"stroke: #000000; stroke-width: 0.8\"/>\n      </defs>\n      <g>\n       <use xlink:href=\"#ma13ce87ef8\" x=\"34.240625\" y=\"188.638125\" style=\"stroke: #000000; stroke-width: 0.8\"/>\n      </g>\n     </g>\n     <g id=\"text_7\">\n      <!-- 0 -->\n      <g transform=\"translate(20.878125 192.437344)scale(0.1 -0.1)\">\n       <use xlink:href=\"#DejaVuSans-30\"/>\n      </g>\n     </g>\n    </g>\n    <g id=\"ytick_2\">\n     <g id=\"line2d_7\">\n      <g>\n       <use xlink:href=\"#ma13ce87ef8\" x=\"34.240625\" y=\"164.448369\" style=\"stroke: #000000; stroke-width: 0.8\"/>\n      </g>\n     </g>\n     <g id=\"text_8\">\n      <!-- 1 -->\n      <g transform=\"translate(20.878125 168.247588)scale(0.1 -0.1)\">\n       <use xlink:href=\"#DejaVuSans-31\"/>\n      </g>\n     </g>\n    </g>\n    <g id=\"ytick_3\">\n     <g id=\"line2d_8\">\n      <g>\n       <use xlink:href=\"#ma13ce87ef8\" x=\"34.240625\" y=\"140.258613\" style=\"stroke: #000000; stroke-width: 0.8\"/>\n      </g>\n     </g>\n     <g id=\"text_9\">\n      <!-- 2 -->\n      <g transform=\"translate(20.878125 144.057831)scale(0.1 -0.1)\">\n       <use xlink:href=\"#DejaVuSans-32\"/>\n      </g>\n     </g>\n    </g>\n    <g id=\"ytick_4\">\n     <g id=\"line2d_9\">\n      <g>\n       <use xlink:href=\"#ma13ce87ef8\" x=\"34.240625\" y=\"116.068856\" style=\"stroke: #000000; stroke-width: 0.8\"/>\n      </g>\n     </g>\n     <g id=\"text_10\">\n      <!-- 3 -->\n      <g transform=\"translate(20.878125 119.868075)scale(0.1 -0.1)\">\n       <defs>\n        <path id=\"DejaVuSans-33\" d=\"M 2597 2516 \nQ 3050 2419 3304 2112 \nQ 3559 1806 3559 1356 \nQ 3559 666 3084 287 \nQ 2609 -91 1734 -91 \nQ 1441 -91 1130 -33 \nQ 819 25 488 141 \nL 488 750 \nQ 750 597 1062 519 \nQ 1375 441 1716 441 \nQ 2309 441 2620 675 \nQ 2931 909 2931 1356 \nQ 2931 1769 2642 2001 \nQ 2353 2234 1838 2234 \nL 1294 2234 \nL 1294 2753 \nL 1863 2753 \nQ 2328 2753 2575 2939 \nQ 2822 3125 2822 3475 \nQ 2822 3834 2567 4026 \nQ 2313 4219 1838 4219 \nQ 1578 4219 1281 4162 \nQ 984 4106 628 3988 \nL 628 4550 \nQ 988 4650 1302 4700 \nQ 1616 4750 1894 4750 \nQ 2613 4750 3031 4423 \nQ 3450 4097 3450 3541 \nQ 3450 3153 3228 2886 \nQ 3006 2619 2597 2516 \nz\n\" transform=\"scale(0.015625)\"/>\n       </defs>\n       <use xlink:href=\"#DejaVuSans-33\"/>\n      </g>\n     </g>\n    </g>\n    <g id=\"ytick_5\">\n     <g id=\"line2d_10\">\n      <g>\n       <use xlink:href=\"#ma13ce87ef8\" x=\"34.240625\" y=\"91.8791\" style=\"stroke: #000000; stroke-width: 0.8\"/>\n      </g>\n     </g>\n     <g id=\"text_11\">\n      <!-- 4 -->\n      <g transform=\"translate(20.878125 95.678319)scale(0.1 -0.1)\">\n       <defs>\n        <path id=\"DejaVuSans-34\" d=\"M 2419 4116 \nL 825 1625 \nL 2419 1625 \nL 2419 4116 \nz\nM 2253 4666 \nL 3047 4666 \nL 3047 1625 \nL 3713 1625 \nL 3713 1100 \nL 3047 1100 \nL 3047 0 \nL 2419 0 \nL 2419 1100 \nL 313 1100 \nL 313 1709 \nL 2253 4666 \nz\n\" transform=\"scale(0.015625)\"/>\n       </defs>\n       <use xlink:href=\"#DejaVuSans-34\"/>\n      </g>\n     </g>\n    </g>\n    <g id=\"ytick_6\">\n     <g id=\"line2d_11\">\n      <g>\n       <use xlink:href=\"#ma13ce87ef8\" x=\"34.240625\" y=\"67.689344\" style=\"stroke: #000000; stroke-width: 0.8\"/>\n      </g>\n     </g>\n     <g id=\"text_12\">\n      <!-- 5 -->\n      <g transform=\"translate(20.878125 71.488563)scale(0.1 -0.1)\">\n       <use xlink:href=\"#DejaVuSans-35\"/>\n      </g>\n     </g>\n    </g>\n    <g id=\"ytick_7\">\n     <g id=\"line2d_12\">\n      <g>\n       <use xlink:href=\"#ma13ce87ef8\" x=\"34.240625\" y=\"43.499588\" style=\"stroke: #000000; stroke-width: 0.8\"/>\n      </g>\n     </g>\n     <g id=\"text_13\">\n      <!-- 6 -->\n      <g transform=\"translate(20.878125 47.298807)scale(0.1 -0.1)\">\n       <defs>\n        <path id=\"DejaVuSans-36\" d=\"M 2113 2584 \nQ 1688 2584 1439 2293 \nQ 1191 2003 1191 1497 \nQ 1191 994 1439 701 \nQ 1688 409 2113 409 \nQ 2538 409 2786 701 \nQ 3034 994 3034 1497 \nQ 3034 2003 2786 2293 \nQ 2538 2584 2113 2584 \nz\nM 3366 4563 \nL 3366 3988 \nQ 3128 4100 2886 4159 \nQ 2644 4219 2406 4219 \nQ 1781 4219 1451 3797 \nQ 1122 3375 1075 2522 \nQ 1259 2794 1537 2939 \nQ 1816 3084 2150 3084 \nQ 2853 3084 3261 2657 \nQ 3669 2231 3669 1497 \nQ 3669 778 3244 343 \nQ 2819 -91 2113 -91 \nQ 1303 -91 875 529 \nQ 447 1150 447 2328 \nQ 447 3434 972 4092 \nQ 1497 4750 2381 4750 \nQ 2619 4750 2861 4703 \nQ 3103 4656 3366 4563 \nz\n\" transform=\"scale(0.015625)\"/>\n       </defs>\n       <use xlink:href=\"#DejaVuSans-36\"/>\n      </g>\n     </g>\n    </g>\n    <g id=\"text_14\">\n     <!-- Density -->\n     <g transform=\"translate(14.798438 124.486719)rotate(-90)scale(0.1 -0.1)\">\n      <defs>\n       <path id=\"DejaVuSans-44\" d=\"M 1259 4147 \nL 1259 519 \nL 2022 519 \nQ 2988 519 3436 956 \nQ 3884 1394 3884 2338 \nQ 3884 3275 3436 3711 \nQ 2988 4147 2022 4147 \nL 1259 4147 \nz\nM 628 4666 \nL 1925 4666 \nQ 3281 4666 3915 4102 \nQ 4550 3538 4550 2338 \nQ 4550 1131 3912 565 \nQ 3275 0 1925 0 \nL 628 0 \nL 628 4666 \nz\n\" transform=\"scale(0.015625)\"/>\n       <path id=\"DejaVuSans-79\" d=\"M 2059 -325 \nQ 1816 -950 1584 -1140 \nQ 1353 -1331 966 -1331 \nL 506 -1331 \nL 506 -850 \nL 844 -850 \nQ 1081 -850 1212 -737 \nQ 1344 -625 1503 -206 \nL 1606 56 \nL 191 3500 \nL 800 3500 \nL 1894 763 \nL 2988 3500 \nL 3597 3500 \nL 2059 -325 \nz\n\" transform=\"scale(0.015625)\"/>\n      </defs>\n      <use xlink:href=\"#DejaVuSans-44\"/>\n      <use xlink:href=\"#DejaVuSans-65\" x=\"77.001953\"/>\n      <use xlink:href=\"#DejaVuSans-6e\" x=\"138.525391\"/>\n      <use xlink:href=\"#DejaVuSans-73\" x=\"201.904297\"/>\n      <use xlink:href=\"#DejaVuSans-69\" x=\"254.003906\"/>\n      <use xlink:href=\"#DejaVuSans-74\" x=\"281.787109\"/>\n      <use xlink:href=\"#DejaVuSans-79\" x=\"320.996094\"/>\n     </g>\n    </g>\n   </g>\n   <g id=\"line2d_13\">\n    <path d=\"M 43.192497 188.56612 \nL 44.991868 188.382875 \nL 45.891553 188.180261 \nL 46.791239 187.842818 \nL 47.690925 187.300274 \nL 48.59061 186.45837 \nL 49.490296 185.197812 \nL 50.389981 183.377302 \nL 51.289667 180.842261 \nL 52.189353 177.440225 \nL 53.089038 173.042657 \nL 53.988724 167.571136 \nL 54.888409 161.024006 \nL 56.687781 145.199724 \nL 59.386837 119.163694 \nL 60.286523 111.526286 \nL 61.186209 105.090617 \nL 62.085894 100.151578 \nL 62.98558 96.883377 \nL 63.885265 95.330696 \nL 64.784951 95.418069 \nL 65.684637 96.9732 \nL 66.584322 99.757639 \nL 67.484008 103.498042 \nL 69.283379 112.732424 \nL 71.982436 127.330358 \nL 73.781807 135.530837 \nL 74.681492 138.898318 \nL 75.581178 141.759587 \nL 76.480864 144.152836 \nL 77.380549 146.14889 \nL 79.17992 149.329462 \nL 82.778663 154.986523 \nL 85.47772 159.967178 \nL 88.176776 165.037751 \nL 89.976148 167.932281 \nL 91.775519 170.211366 \nL 93.57489 171.865364 \nL 95.374261 173.004476 \nL 97.173632 173.78268 \nL 98.973003 174.333596 \nL 101.67206 174.903174 \nL 104.371117 175.248015 \nL 107.969859 175.424406 \nL 113.367973 175.375117 \nL 118.766087 175.395948 \nL 131.361685 175.780132 \nL 134.960427 175.60566 \nL 139.458855 175.122084 \nL 143.057598 174.752779 \nL 145.756654 174.666258 \nL 148.455711 174.832949 \nL 151.154768 175.293962 \nL 153.853825 176.036632 \nL 157.452567 177.323872 \nL 162.850681 179.519356 \nL 168.248794 181.718229 \nL 170.048165 182.222289 \nL 171.847537 182.443262 \nL 173.646908 182.277959 \nL 174.546593 182.027679 \nL 176.345965 181.179157 \nL 178.145336 179.907391 \nL 180.844393 177.501099 \nL 183.543449 175.162381 \nL 185.34282 174.061591 \nL 186.242506 173.728984 \nL 187.142192 173.564706 \nL 188.041877 173.577283 \nL 188.941563 173.767827 \nL 189.841248 174.130365 \nL 190.740934 174.652613 \nL 192.540305 176.102185 \nL 194.339676 177.936121 \nL 199.73779 183.758509 \nL 201.537161 185.282357 \nL 203.336532 186.46667 \nL 205.135904 187.318832 \nL 206.935275 187.886685 \nL 208.734646 188.237339 \nL 211.433703 188.500474 \nL 215.932131 188.62188 \nL 222.22993 188.637786 \nL 222.22993 188.637786 \n\" clip-path=\"url(#pe6b6793424)\" style=\"fill: none; stroke: #1f77b4; stroke-width: 1.5; stroke-linecap: square\"/>\n   </g>\n   <g id=\"line2d_14\">\n    <path d=\"M 43.59498 188.567655 \nL 45.386261 188.380289 \nL 46.281901 188.169304 \nL 47.177542 187.81389 \nL 48.073182 187.236853 \nL 48.968823 186.334148 \nL 49.864463 184.973877 \nL 50.760104 183.000155 \nL 51.655744 180.243751 \nL 52.551385 176.540573 \nL 53.447025 171.757438 \nL 54.342666 165.822381 \nL 55.238307 158.754459 \nL 57.029588 141.873271 \nL 59.716509 114.997249 \nL 60.61215 107.448409 \nL 61.50779 101.301983 \nL 62.403431 96.826039 \nL 63.299071 94.148483 \nL 64.194712 93.257156 \nL 65.090352 94.019402 \nL 65.985993 96.214153 \nL 66.881634 99.56799 \nL 67.777274 103.787686 \nL 69.568555 113.691001 \nL 72.255477 128.643725 \nL 74.046758 136.738197 \nL 74.942398 139.979104 \nL 75.838039 142.682695 \nL 76.733679 144.902846 \nL 77.62932 146.726169 \nL 79.420601 149.61567 \nL 82.107523 153.5785 \nL 83.898804 156.667774 \nL 89.272647 166.749206 \nL 91.063928 169.284747 \nL 92.855209 171.141799 \nL 94.64649 172.415917 \nL 96.437771 173.284918 \nL 99.124693 174.179864 \nL 101.811615 174.808041 \nL 104.498536 175.179364 \nL 107.185458 175.301751 \nL 118.828785 175.434758 \nL 128.680831 176.00356 \nL 133.159034 175.943959 \nL 136.741596 175.635868 \nL 144.802361 174.635883 \nL 146.593642 174.645982 \nL 148.384923 174.813418 \nL 150.176204 175.140271 \nL 152.863125 175.890214 \nL 156.445688 177.198661 \nL 163.610812 180.132675 \nL 168.089015 181.921799 \nL 169.880296 182.440328 \nL 171.671577 182.700694 \nL 173.462858 182.596218 \nL 174.358498 182.380447 \nL 176.149779 181.597026 \nL 177.941061 180.368107 \nL 179.732342 178.803957 \nL 183.314904 175.536527 \nL 185.106185 174.364177 \nL 186.001825 173.996015 \nL 186.897466 173.797746 \nL 187.793106 173.778279 \nL 188.688747 173.938689 \nL 189.584388 174.272718 \nL 190.480028 174.767736 \nL 192.271309 176.165896 \nL 194.06259 177.953338 \nL 199.436433 183.701678 \nL 201.227715 185.227386 \nL 203.018996 186.421591 \nL 204.810277 187.286468 \nL 206.601558 187.865995 \nL 208.392839 188.225467 \nL 211.07976 188.496297 \nL 215.557963 188.621575 \nL 221.827447 188.637802 \nL 221.827447 188.637802 \n\" clip-path=\"url(#pe6b6793424)\" style=\"fill: none; stroke: #ff7f0e; stroke-width: 1.5; stroke-linecap: square\"/>\n   </g>\n   <g id=\"patch_93\">\n    <path d=\"M 34.240625 188.638125 \nL 34.240625 22.318125 \n\" style=\"fill: none; stroke: #000000; stroke-width: 0.8; stroke-linejoin: miter; stroke-linecap: square\"/>\n   </g>\n   <g id=\"patch_94\">\n    <path d=\"M 231.181801 188.638125 \nL 231.181801 22.318125 \n\" style=\"fill: none; stroke: #000000; stroke-width: 0.8; stroke-linejoin: miter; stroke-linecap: square\"/>\n   </g>\n   <g id=\"patch_95\">\n    <path d=\"M 34.240625 188.638125 \nL 231.181801 188.638125 \n\" style=\"fill: none; stroke: #000000; stroke-width: 0.8; stroke-linejoin: miter; stroke-linecap: square\"/>\n   </g>\n   <g id=\"patch_96\">\n    <path d=\"M 34.240625 22.318125 \nL 231.181801 22.318125 \n\" style=\"fill: none; stroke: #000000; stroke-width: 0.8; stroke-linejoin: miter; stroke-linecap: square\"/>\n   </g>\n   <g id=\"text_15\">\n    <!-- KNN -->\n    <g transform=\"translate(119.799026 16.318125)scale(0.12 -0.12)\">\n     <defs>\n      <path id=\"DejaVuSans-4b\" d=\"M 628 4666 \nL 1259 4666 \nL 1259 2694 \nL 3353 4666 \nL 4166 4666 \nL 1850 2491 \nL 4331 0 \nL 3500 0 \nL 1259 2247 \nL 1259 0 \nL 628 0 \nL 628 4666 \nz\n\" transform=\"scale(0.015625)\"/>\n      <path id=\"DejaVuSans-4e\" d=\"M 628 4666 \nL 1478 4666 \nL 3547 763 \nL 3547 4666 \nL 4159 4666 \nL 4159 0 \nL 3309 0 \nL 1241 3903 \nL 1241 0 \nL 628 0 \nL 628 4666 \nz\n\" transform=\"scale(0.015625)\"/>\n     </defs>\n     <use xlink:href=\"#DejaVuSans-4b\"/>\n     <use xlink:href=\"#DejaVuSans-4e\" x=\"65.576172\"/>\n     <use xlink:href=\"#DejaVuSans-4e\" x=\"140.380859\"/>\n    </g>\n   </g>\n  </g>\n  <g id=\"axes_2\">\n   <g id=\"patch_97\">\n    <path d=\"M 270.570037 188.638125 \nL 467.511213 188.638125 \nL 467.511213 22.318125 \nL 270.570037 22.318125 \nz\n\" style=\"fill: #ffffff\"/>\n   </g>\n   <g id=\"patch_98\">\n    <path d=\"M 298.436153 188.638125 \nL 301.610987 188.638125 \nL 301.610987 94.024632 \nL 298.436153 94.024632 \nz\n\" clip-path=\"url(#p59c3a46ba7)\" style=\"fill: #1f77b4; opacity: 0.4\"/>\n   </g>\n   <g id=\"patch_99\">\n    <path d=\"M 301.610987 188.638125 \nL 304.78582 188.638125 \nL 304.78582 30.238125 \nL 301.610987 30.238125 \nz\n\" clip-path=\"url(#p59c3a46ba7)\" style=\"fill: #1f77b4; opacity: 0.4\"/>\n   </g>\n   <g id=\"patch_100\">\n    <path d=\"M 304.78582 188.638125 \nL 307.960654 188.638125 \nL 307.960654 89.261969 \nL 304.78582 89.261969 \nz\n\" clip-path=\"url(#p59c3a46ba7)\" style=\"fill: #1f77b4; opacity: 0.4\"/>\n   </g>\n   <g id=\"patch_101\">\n    <path d=\"M 307.960654 188.638125 \nL 311.135487 188.638125 \nL 311.135487 101.322643 \nL 307.960654 101.322643 \nz\n\" clip-path=\"url(#p59c3a46ba7)\" style=\"fill: #1f77b4; opacity: 0.4\"/>\n   </g>\n   <g id=\"patch_102\">\n    <path d=\"M 311.135487 188.638125 \nL 314.310321 188.638125 \nL 314.310321 148.238424 \nL 311.135487 148.238424 \nz\n\" clip-path=\"url(#p59c3a46ba7)\" style=\"fill: #1f77b4; opacity: 0.4\"/>\n   </g>\n   <g id=\"patch_103\">\n    <path d=\"M 314.310321 188.638125 \nL 317.485154 188.638125 \nL 317.485154 149.375776 \nL 314.310321 149.375776 \nz\n\" clip-path=\"url(#p59c3a46ba7)\" style=\"fill: #1f77b4; opacity: 0.4\"/>\n   </g>\n   <g id=\"patch_104\">\n    <path d=\"M 317.485154 188.638125 \nL 320.659988 188.638125 \nL 320.659988 141.082583 \nL 317.485154 141.082583 \nz\n\" clip-path=\"url(#p59c3a46ba7)\" style=\"fill: #1f77b4; opacity: 0.4\"/>\n   </g>\n   <g id=\"patch_105\">\n    <path d=\"M 320.659988 188.638125 \nL 323.834821 188.638125 \nL 323.834821 149.280997 \nL 320.659988 149.280997 \nz\n\" clip-path=\"url(#p59c3a46ba7)\" style=\"fill: #1f77b4; opacity: 0.4\"/>\n   </g>\n   <g id=\"patch_106\">\n    <path d=\"M 323.834821 188.638125 \nL 327.009655 188.638125 \nL 327.009655 162.85814 \nL 323.834821 162.85814 \nz\n\" clip-path=\"url(#p59c3a46ba7)\" style=\"fill: #1f77b4; opacity: 0.4\"/>\n   </g>\n   <g id=\"patch_107\">\n    <path d=\"M 327.009655 188.638125 \nL 330.184489 188.638125 \nL 330.184489 170.93808 \nL 327.009655 170.93808 \nz\n\" clip-path=\"url(#p59c3a46ba7)\" style=\"fill: #1f77b4; opacity: 0.4\"/>\n   </g>\n   <g id=\"patch_108\">\n    <path d=\"M 330.184489 188.638125 \nL 333.359322 188.638125 \nL 333.359322 172.264991 \nL 330.184489 172.264991 \nz\n\" clip-path=\"url(#p59c3a46ba7)\" style=\"fill: #1f77b4; opacity: 0.4\"/>\n   </g>\n   <g id=\"patch_109\">\n    <path d=\"M 333.359322 188.638125 \nL 336.534156 188.638125 \nL 336.534156 172.264991 \nL 333.359322 172.264991 \nz\n\" clip-path=\"url(#p59c3a46ba7)\" style=\"fill: #1f77b4; opacity: 0.4\"/>\n   </g>\n   <g id=\"patch_110\">\n    <path d=\"M 336.534156 188.638125 \nL 339.708989 188.638125 \nL 339.708989 173.828851 \nL 336.534156 173.828851 \nz\n\" clip-path=\"url(#p59c3a46ba7)\" style=\"fill: #1f77b4; opacity: 0.4\"/>\n   </g>\n   <g id=\"patch_111\">\n    <path d=\"M 339.708989 188.638125 \nL 342.883823 188.638125 \nL 342.883823 174.492306 \nL 339.708989 174.492306 \nz\n\" clip-path=\"url(#p59c3a46ba7)\" style=\"fill: #1f77b4; opacity: 0.4\"/>\n   </g>\n   <g id=\"patch_112\">\n    <path d=\"M 342.883823 188.638125 \nL 346.058656 188.638125 \nL 346.058656 174.895118 \nL 342.883823 174.895118 \nz\n\" clip-path=\"url(#p59c3a46ba7)\" style=\"fill: #1f77b4; opacity: 0.4\"/>\n   </g>\n   <g id=\"patch_113\">\n    <path d=\"M 346.058656 188.638125 \nL 349.23349 188.638125 \nL 349.23349 173.781461 \nL 346.058656 173.781461 \nz\n\" clip-path=\"url(#p59c3a46ba7)\" style=\"fill: #1f77b4; opacity: 0.4\"/>\n   </g>\n   <g id=\"patch_114\">\n    <path d=\"M 349.23349 188.638125 \nL 352.408323 188.638125 \nL 352.408323 174.847729 \nL 349.23349 174.847729 \nz\n\" clip-path=\"url(#p59c3a46ba7)\" style=\"fill: #1f77b4; opacity: 0.4\"/>\n   </g>\n   <g id=\"patch_115\">\n    <path d=\"M 352.408323 188.638125 \nL 355.583157 188.638125 \nL 355.583157 173.899935 \nL 352.408323 173.899935 \nz\n\" clip-path=\"url(#p59c3a46ba7)\" style=\"fill: #1f77b4; opacity: 0.4\"/>\n   </g>\n   <g id=\"patch_116\">\n    <path d=\"M 355.583157 188.638125 \nL 358.75799 188.638125 \nL 358.75799 174.018409 \nL 355.583157 174.018409 \nz\n\" clip-path=\"url(#p59c3a46ba7)\" style=\"fill: #1f77b4; opacity: 0.4\"/>\n   </g>\n   <g id=\"patch_117\">\n    <path d=\"M 358.75799 188.638125 \nL 361.932824 188.638125 \nL 361.932824 174.966203 \nL 358.75799 174.966203 \nz\n\" clip-path=\"url(#p59c3a46ba7)\" style=\"fill: #1f77b4; opacity: 0.4\"/>\n   </g>\n   <g id=\"patch_118\">\n    <path d=\"M 361.932824 188.638125 \nL 365.107657 188.638125 \nL 365.107657 174.776644 \nL 361.932824 174.776644 \nz\n\" clip-path=\"url(#p59c3a46ba7)\" style=\"fill: #1f77b4; opacity: 0.4\"/>\n   </g>\n   <g id=\"patch_119\">\n    <path d=\"M 365.107657 188.638125 \nL 368.282491 188.638125 \nL 368.282491 174.918813 \nL 365.107657 174.918813 \nz\n\" clip-path=\"url(#p59c3a46ba7)\" style=\"fill: #1f77b4; opacity: 0.4\"/>\n   </g>\n   <g id=\"patch_120\">\n    <path d=\"M 368.282491 188.638125 \nL 371.457324 188.638125 \nL 371.457324 175.179456 \nL 368.282491 175.179456 \nz\n\" clip-path=\"url(#p59c3a46ba7)\" style=\"fill: #1f77b4; opacity: 0.4\"/>\n   </g>\n   <g id=\"patch_121\">\n    <path d=\"M 371.457324 188.638125 \nL 374.632158 188.638125 \nL 374.632158 174.065799 \nL 371.457324 174.065799 \nz\n\" clip-path=\"url(#p59c3a46ba7)\" style=\"fill: #1f77b4; opacity: 0.4\"/>\n   </g>\n   <g id=\"patch_122\">\n    <path d=\"M 374.632158 188.638125 \nL 377.806992 188.638125 \nL 377.806992 173.92363 \nL 374.632158 173.92363 \nz\n\" clip-path=\"url(#p59c3a46ba7)\" style=\"fill: #1f77b4; opacity: 0.4\"/>\n   </g>\n   <g id=\"patch_123\">\n    <path d=\"M 377.806992 188.638125 \nL 380.981825 188.638125 \nL 380.981825 172.691498 \nL 377.806992 172.691498 \nz\n\" clip-path=\"url(#p59c3a46ba7)\" style=\"fill: #1f77b4; opacity: 0.4\"/>\n   </g>\n   <g id=\"patch_124\">\n    <path d=\"M 380.981825 188.638125 \nL 384.156659 188.638125 \nL 384.156659 173.331259 \nL 380.981825 173.331259 \nz\n\" clip-path=\"url(#p59c3a46ba7)\" style=\"fill: #1f77b4; opacity: 0.4\"/>\n   </g>\n   <g id=\"patch_125\">\n    <path d=\"M 384.156659 188.638125 \nL 387.331492 188.638125 \nL 387.331492 173.662987 \nL 384.156659 173.662987 \nz\n\" clip-path=\"url(#p59c3a46ba7)\" style=\"fill: #1f77b4; opacity: 0.4\"/>\n   </g>\n   <g id=\"patch_126\">\n    <path d=\"M 387.331492 188.638125 \nL 390.506326 188.638125 \nL 390.506326 174.65817 \nL 387.331492 174.65817 \nz\n\" clip-path=\"url(#p59c3a46ba7)\" style=\"fill: #1f77b4; opacity: 0.4\"/>\n   </g>\n   <g id=\"patch_127\">\n    <path d=\"M 390.506326 188.638125 \nL 393.681159 188.638125 \nL 393.681159 177.003959 \nL 390.506326 177.003959 \nz\n\" clip-path=\"url(#p59c3a46ba7)\" style=\"fill: #1f77b4; opacity: 0.4\"/>\n   </g>\n   <g id=\"patch_128\">\n    <path d=\"M 393.681159 188.638125 \nL 396.855993 188.638125 \nL 396.855993 178.259785 \nL 393.681159 178.259785 \nz\n\" clip-path=\"url(#p59c3a46ba7)\" style=\"fill: #1f77b4; opacity: 0.4\"/>\n   </g>\n   <g id=\"patch_129\">\n    <path d=\"M 396.855993 188.638125 \nL 400.030826 188.638125 \nL 400.030826 179.444527 \nL 396.855993 179.444527 \nz\n\" clip-path=\"url(#p59c3a46ba7)\" style=\"fill: #1f77b4; opacity: 0.4\"/>\n   </g>\n   <g id=\"patch_130\">\n    <path d=\"M 400.030826 188.638125 \nL 403.20566 188.638125 \nL 403.20566 181.742927 \nL 400.030826 181.742927 \nz\n\" clip-path=\"url(#p59c3a46ba7)\" style=\"fill: #1f77b4; opacity: 0.4\"/>\n   </g>\n   <g id=\"patch_131\">\n    <path d=\"M 403.20566 188.638125 \nL 406.380493 188.638125 \nL 406.380493 183.543735 \nL 403.20566 183.543735 \nz\n\" clip-path=\"url(#p59c3a46ba7)\" style=\"fill: #1f77b4; opacity: 0.4\"/>\n   </g>\n   <g id=\"patch_132\">\n    <path d=\"M 406.380493 188.638125 \nL 409.555327 188.638125 \nL 409.555327 183.448955 \nL 406.380493 183.448955 \nz\n\" clip-path=\"url(#p59c3a46ba7)\" style=\"fill: #1f77b4; opacity: 0.4\"/>\n   </g>\n   <g id=\"patch_133\">\n    <path d=\"M 409.555327 188.638125 \nL 412.73016 188.638125 \nL 412.73016 180.652964 \nL 409.555327 180.652964 \nz\n\" clip-path=\"url(#p59c3a46ba7)\" style=\"fill: #1f77b4; opacity: 0.4\"/>\n   </g>\n   <g id=\"patch_134\">\n    <path d=\"M 412.73016 188.638125 \nL 415.904994 188.638125 \nL 415.904994 174.966203 \nL 412.73016 174.966203 \nz\n\" clip-path=\"url(#p59c3a46ba7)\" style=\"fill: #1f77b4; opacity: 0.4\"/>\n   </g>\n   <g id=\"patch_135\">\n    <path d=\"M 415.904994 188.638125 \nL 419.079827 188.638125 \nL 419.079827 167.99992 \nL 415.904994 167.99992 \nz\n\" clip-path=\"url(#p59c3a46ba7)\" style=\"fill: #1f77b4; opacity: 0.4\"/>\n   </g>\n   <g id=\"patch_136\">\n    <path d=\"M 419.079827 188.638125 \nL 422.254661 188.638125 \nL 422.254661 170.298319 \nL 419.079827 170.298319 \nz\n\" clip-path=\"url(#p59c3a46ba7)\" style=\"fill: #1f77b4; opacity: 0.4\"/>\n   </g>\n   <g id=\"patch_137\">\n    <path d=\"M 422.254661 188.638125 \nL 425.429494 188.638125 \nL 425.429494 173.307564 \nL 422.254661 173.307564 \nz\n\" clip-path=\"url(#p59c3a46ba7)\" style=\"fill: #1f77b4; opacity: 0.4\"/>\n   </g>\n   <g id=\"patch_138\">\n    <path d=\"M 425.429494 188.638125 \nL 428.604328 188.638125 \nL 428.604328 178.307175 \nL 425.429494 178.307175 \nz\n\" clip-path=\"url(#p59c3a46ba7)\" style=\"fill: #1f77b4; opacity: 0.4\"/>\n   </g>\n   <g id=\"patch_139\">\n    <path d=\"M 428.604328 188.638125 \nL 431.779162 188.638125 \nL 431.779162 184.420444 \nL 428.604328 184.420444 \nz\n\" clip-path=\"url(#p59c3a46ba7)\" style=\"fill: #1f77b4; opacity: 0.4\"/>\n   </g>\n   <g id=\"patch_140\">\n    <path d=\"M 431.779162 188.638125 \nL 434.953995 188.638125 \nL 434.953995 187.524468 \nL 431.779162 187.524468 \nz\n\" clip-path=\"url(#p59c3a46ba7)\" style=\"fill: #1f77b4; opacity: 0.4\"/>\n   </g>\n   <g id=\"patch_141\">\n    <path d=\"M 434.953995 188.638125 \nL 438.128829 188.638125 \nL 438.128829 188.424871 \nL 434.953995 188.424871 \nz\n\" clip-path=\"url(#p59c3a46ba7)\" style=\"fill: #1f77b4; opacity: 0.4\"/>\n   </g>\n   <g id=\"patch_142\">\n    <path d=\"M 292.451855 188.638125 \nL 295.515406 188.638125 \nL 295.515406 188.57174 \nL 292.451855 188.57174 \nz\n\" clip-path=\"url(#p59c3a46ba7)\" style=\"fill: #ff7f0e; opacity: 0.4\"/>\n   </g>\n   <g id=\"patch_143\">\n    <path d=\"M 295.515406 188.638125 \nL 298.578956 188.638125 \nL 298.578956 188.483226 \nL 295.515406 188.483226 \nz\n\" clip-path=\"url(#p59c3a46ba7)\" style=\"fill: #ff7f0e; opacity: 0.4\"/>\n   </g>\n   <g id=\"patch_144\">\n    <path d=\"M 298.578956 188.638125 \nL 301.642507 188.638125 \nL 301.642507 97.601567 \nL 298.578956 97.601567 \nz\n\" clip-path=\"url(#p59c3a46ba7)\" style=\"fill: #ff7f0e; opacity: 0.4\"/>\n   </g>\n   <g id=\"patch_145\">\n    <path d=\"M 301.642507 188.638125 \nL 304.706058 188.638125 \nL 304.706058 43.408924 \nL 301.642507 43.408924 \nz\n\" clip-path=\"url(#p59c3a46ba7)\" style=\"fill: #ff7f0e; opacity: 0.4\"/>\n   </g>\n   <g id=\"patch_146\">\n    <path d=\"M 304.706058 188.638125 \nL 307.769609 188.638125 \nL 307.769609 97.667952 \nL 304.706058 97.667952 \nz\n\" clip-path=\"url(#p59c3a46ba7)\" style=\"fill: #ff7f0e; opacity: 0.4\"/>\n   </g>\n   <g id=\"patch_147\">\n    <path d=\"M 307.769609 188.638125 \nL 310.83316 188.638125 \nL 310.83316 99.327588 \nL 307.769609 99.327588 \nz\n\" clip-path=\"url(#p59c3a46ba7)\" style=\"fill: #ff7f0e; opacity: 0.4\"/>\n   </g>\n   <g id=\"patch_148\">\n    <path d=\"M 310.83316 188.638125 \nL 313.89671 188.638125 \nL 313.89671 142.677276 \nL 310.83316 142.677276 \nz\n\" clip-path=\"url(#p59c3a46ba7)\" style=\"fill: #ff7f0e; opacity: 0.4\"/>\n   </g>\n   <g id=\"patch_149\">\n    <path d=\"M 313.89671 188.638125 \nL 316.960261 188.638125 \nL 316.960261 146.505503 \nL 313.89671 146.505503 \nz\n\" clip-path=\"url(#p59c3a46ba7)\" style=\"fill: #ff7f0e; opacity: 0.4\"/>\n   </g>\n   <g id=\"patch_150\">\n    <path d=\"M 316.960261 188.638125 \nL 320.023812 188.638125 \nL 320.023812 138.627765 \nL 316.960261 138.627765 \nz\n\" clip-path=\"url(#p59c3a46ba7)\" style=\"fill: #ff7f0e; opacity: 0.4\"/>\n   </g>\n   <g id=\"patch_151\">\n    <path d=\"M 320.023812 188.638125 \nL 323.087363 188.638125 \nL 323.087363 143.606672 \nL 320.023812 143.606672 \nz\n\" clip-path=\"url(#p59c3a46ba7)\" style=\"fill: #ff7f0e; opacity: 0.4\"/>\n   </g>\n   <g id=\"patch_152\">\n    <path d=\"M 323.087363 188.638125 \nL 326.150914 188.638125 \nL 326.150914 155.047096 \nL 323.087363 155.047096 \nz\n\" clip-path=\"url(#p59c3a46ba7)\" style=\"fill: #ff7f0e; opacity: 0.4\"/>\n   </g>\n   <g id=\"patch_153\">\n    <path d=\"M 326.150914 188.638125 \nL 329.214464 188.638125 \nL 329.214464 164.451699 \nL 326.150914 164.451699 \nz\n\" clip-path=\"url(#p59c3a46ba7)\" style=\"fill: #ff7f0e; opacity: 0.4\"/>\n   </g>\n   <g id=\"patch_154\">\n    <path d=\"M 329.214464 188.638125 \nL 332.278015 188.638125 \nL 332.278015 167.461172 \nL 329.214464 167.461172 \nz\n\" clip-path=\"url(#p59c3a46ba7)\" style=\"fill: #ff7f0e; opacity: 0.4\"/>\n   </g>\n   <g id=\"patch_155\">\n    <path d=\"M 332.278015 188.638125 \nL 335.341566 188.638125 \nL 335.341566 168.191411 \nL 332.278015 168.191411 \nz\n\" clip-path=\"url(#p59c3a46ba7)\" style=\"fill: #ff7f0e; opacity: 0.4\"/>\n   </g>\n   <g id=\"patch_156\">\n    <path d=\"M 335.341566 188.638125 \nL 338.405117 188.638125 \nL 338.405117 169.607634 \nL 335.341566 169.607634 \nz\n\" clip-path=\"url(#p59c3a46ba7)\" style=\"fill: #ff7f0e; opacity: 0.4\"/>\n   </g>\n   <g id=\"patch_157\">\n    <path d=\"M 338.405117 188.638125 \nL 341.468668 188.638125 \nL 341.468668 172.174537 \nL 338.405117 172.174537 \nz\n\" clip-path=\"url(#p59c3a46ba7)\" style=\"fill: #ff7f0e; opacity: 0.4\"/>\n   </g>\n   <g id=\"patch_158\">\n    <path d=\"M 341.468668 188.638125 \nL 344.532219 188.638125 \nL 344.532219 171.820482 \nL 341.468668 171.820482 \nz\n\" clip-path=\"url(#p59c3a46ba7)\" style=\"fill: #ff7f0e; opacity: 0.4\"/>\n   </g>\n   <g id=\"patch_159\">\n    <path d=\"M 344.532219 188.638125 \nL 347.595769 188.638125 \nL 347.595769 172.506465 \nL 344.532219 172.506465 \nz\n\" clip-path=\"url(#p59c3a46ba7)\" style=\"fill: #ff7f0e; opacity: 0.4\"/>\n   </g>\n   <g id=\"patch_160\">\n    <path d=\"M 347.595769 188.638125 \nL 350.65932 188.638125 \nL 350.65932 172.329437 \nL 347.595769 172.329437 \nz\n\" clip-path=\"url(#p59c3a46ba7)\" style=\"fill: #ff7f0e; opacity: 0.4\"/>\n   </g>\n   <g id=\"patch_161\">\n    <path d=\"M 350.65932 188.638125 \nL 353.722871 188.638125 \nL 353.722871 173.14819 \nL 350.65932 173.14819 \nz\n\" clip-path=\"url(#p59c3a46ba7)\" style=\"fill: #ff7f0e; opacity: 0.4\"/>\n   </g>\n   <g id=\"patch_162\">\n    <path d=\"M 353.722871 188.638125 \nL 356.786422 188.638125 \nL 356.786422 173.103933 \nL 353.722871 173.103933 \nz\n\" clip-path=\"url(#p59c3a46ba7)\" style=\"fill: #ff7f0e; opacity: 0.4\"/>\n   </g>\n   <g id=\"patch_163\">\n    <path d=\"M 356.786422 188.638125 \nL 359.849973 188.638125 \nL 359.849973 174.475899 \nL 356.786422 174.475899 \nz\n\" clip-path=\"url(#p59c3a46ba7)\" style=\"fill: #ff7f0e; opacity: 0.4\"/>\n   </g>\n   <g id=\"patch_164\">\n    <path d=\"M 359.849973 188.638125 \nL 362.913523 188.638125 \nL 362.913523 175.272524 \nL 359.849973 175.272524 \nz\n\" clip-path=\"url(#p59c3a46ba7)\" style=\"fill: #ff7f0e; opacity: 0.4\"/>\n   </g>\n   <g id=\"patch_165\">\n    <path d=\"M 362.913523 188.638125 \nL 365.977074 188.638125 \nL 365.977074 173.944816 \nL 362.913523 173.944816 \nz\n\" clip-path=\"url(#p59c3a46ba7)\" style=\"fill: #ff7f0e; opacity: 0.4\"/>\n   </g>\n   <g id=\"patch_166\">\n    <path d=\"M 365.977074 188.638125 \nL 369.040625 188.638125 \nL 369.040625 175.117625 \nL 365.977074 175.117625 \nz\n\" clip-path=\"url(#p59c3a46ba7)\" style=\"fill: #ff7f0e; opacity: 0.4\"/>\n   </g>\n   <g id=\"patch_167\">\n    <path d=\"M 369.040625 188.638125 \nL 372.104176 188.638125 \nL 372.104176 175.538066 \nL 369.040625 175.538066 \nz\n\" clip-path=\"url(#p59c3a46ba7)\" style=\"fill: #ff7f0e; opacity: 0.4\"/>\n   </g>\n   <g id=\"patch_168\">\n    <path d=\"M 372.104176 188.638125 \nL 375.167727 188.638125 \nL 375.167727 174.652927 \nL 372.104176 174.652927 \nz\n\" clip-path=\"url(#p59c3a46ba7)\" style=\"fill: #ff7f0e; opacity: 0.4\"/>\n   </g>\n   <g id=\"patch_169\">\n    <path d=\"M 375.167727 188.638125 \nL 378.231277 188.638125 \nL 378.231277 173.812045 \nL 375.167727 173.812045 \nz\n\" clip-path=\"url(#p59c3a46ba7)\" style=\"fill: #ff7f0e; opacity: 0.4\"/>\n   </g>\n   <g id=\"patch_170\">\n    <path d=\"M 378.231277 188.638125 \nL 381.294828 188.638125 \nL 381.294828 173.834173 \nL 378.231277 173.834173 \nz\n\" clip-path=\"url(#p59c3a46ba7)\" style=\"fill: #ff7f0e; opacity: 0.4\"/>\n   </g>\n   <g id=\"patch_171\">\n    <path d=\"M 381.294828 188.638125 \nL 384.358379 188.638125 \nL 384.358379 173.789916 \nL 381.294828 173.789916 \nz\n\" clip-path=\"url(#p59c3a46ba7)\" style=\"fill: #ff7f0e; opacity: 0.4\"/>\n   </g>\n   <g id=\"patch_172\">\n    <path d=\"M 384.358379 188.638125 \nL 387.42193 188.638125 \nL 387.42193 174.586542 \nL 384.358379 174.586542 \nz\n\" clip-path=\"url(#p59c3a46ba7)\" style=\"fill: #ff7f0e; opacity: 0.4\"/>\n   </g>\n   <g id=\"patch_173\">\n    <path d=\"M 387.42193 188.638125 \nL 390.485481 188.638125 \nL 390.485481 175.427424 \nL 387.42193 175.427424 \nz\n\" clip-path=\"url(#p59c3a46ba7)\" style=\"fill: #ff7f0e; opacity: 0.4\"/>\n   </g>\n   <g id=\"patch_174\">\n    <path d=\"M 390.485481 188.638125 \nL 393.549031 188.638125 \nL 393.549031 177.463244 \nL 390.485481 177.463244 \nz\n\" clip-path=\"url(#p59c3a46ba7)\" style=\"fill: #ff7f0e; opacity: 0.4\"/>\n   </g>\n   <g id=\"patch_175\">\n    <path d=\"M 393.549031 188.638125 \nL 396.612582 188.638125 \nL 396.612582 178.370511 \nL 393.549031 178.370511 \nz\n\" clip-path=\"url(#p59c3a46ba7)\" style=\"fill: #ff7f0e; opacity: 0.4\"/>\n   </g>\n   <g id=\"patch_176\">\n    <path d=\"M 396.612582 188.638125 \nL 399.676133 188.638125 \nL 399.676133 179.543321 \nL 396.612582 179.543321 \nz\n\" clip-path=\"url(#p59c3a46ba7)\" style=\"fill: #ff7f0e; opacity: 0.4\"/>\n   </g>\n   <g id=\"patch_177\">\n    <path d=\"M 399.676133 188.638125 \nL 402.739684 188.638125 \nL 402.739684 181.778297 \nL 399.676133 181.778297 \nz\n\" clip-path=\"url(#p59c3a46ba7)\" style=\"fill: #ff7f0e; opacity: 0.4\"/>\n   </g>\n   <g id=\"patch_178\">\n    <path d=\"M 402.739684 188.638125 \nL 405.803235 188.638125 \nL 405.803235 183.437933 \nL 402.739684 183.437933 \nz\n\" clip-path=\"url(#p59c3a46ba7)\" style=\"fill: #ff7f0e; opacity: 0.4\"/>\n   </g>\n   <g id=\"patch_179\">\n    <path d=\"M 405.803235 188.638125 \nL 408.866786 188.638125 \nL 408.866786 183.858374 \nL 405.803235 183.858374 \nz\n\" clip-path=\"url(#p59c3a46ba7)\" style=\"fill: #ff7f0e; opacity: 0.4\"/>\n   </g>\n   <g id=\"patch_180\">\n    <path d=\"M 408.866786 188.638125 \nL 411.930336 188.638125 \nL 411.930336 181.933196 \nL 408.866786 181.933196 \nz\n\" clip-path=\"url(#p59c3a46ba7)\" style=\"fill: #ff7f0e; opacity: 0.4\"/>\n   </g>\n   <g id=\"patch_181\">\n    <path d=\"M 411.930336 188.638125 \nL 414.993887 188.638125 \nL 414.993887 176.489591 \nL 411.930336 176.489591 \nz\n\" clip-path=\"url(#p59c3a46ba7)\" style=\"fill: #ff7f0e; opacity: 0.4\"/>\n   </g>\n   <g id=\"patch_182\">\n    <path d=\"M 414.993887 188.638125 \nL 418.057438 188.638125 \nL 418.057438 172.639235 \nL 414.993887 172.639235 \nz\n\" clip-path=\"url(#p59c3a46ba7)\" style=\"fill: #ff7f0e; opacity: 0.4\"/>\n   </g>\n   <g id=\"patch_183\">\n    <path d=\"M 418.057438 188.638125 \nL 421.120989 188.638125 \nL 421.120989 170.160846 \nL 418.057438 170.160846 \nz\n\" clip-path=\"url(#p59c3a46ba7)\" style=\"fill: #ff7f0e; opacity: 0.4\"/>\n   </g>\n   <g id=\"patch_184\">\n    <path d=\"M 421.120989 188.638125 \nL 424.18454 188.638125 \nL 424.18454 172.594979 \nL 421.120989 172.594979 \nz\n\" clip-path=\"url(#p59c3a46ba7)\" style=\"fill: #ff7f0e; opacity: 0.4\"/>\n   </g>\n   <g id=\"patch_185\">\n    <path d=\"M 424.18454 188.638125 \nL 427.24809 188.638125 \nL 427.24809 177.6624 \nL 424.18454 177.6624 \nz\n\" clip-path=\"url(#p59c3a46ba7)\" style=\"fill: #ff7f0e; opacity: 0.4\"/>\n   </g>\n   <g id=\"patch_186\">\n    <path d=\"M 427.24809 188.638125 \nL 430.311641 188.638125 \nL 430.311641 182.552794 \nL 427.24809 182.552794 \nz\n\" clip-path=\"url(#p59c3a46ba7)\" style=\"fill: #ff7f0e; opacity: 0.4\"/>\n   </g>\n   <g id=\"patch_187\">\n    <path d=\"M 430.311641 188.638125 \nL 433.375192 188.638125 \nL 433.375192 186.336763 \nL 430.311641 186.336763 \nz\n\" clip-path=\"url(#p59c3a46ba7)\" style=\"fill: #ff7f0e; opacity: 0.4\"/>\n   </g>\n   <g id=\"patch_188\">\n    <path d=\"M 433.375192 188.638125 \nL 436.438743 188.638125 \nL 436.438743 188.12917 \nL 433.375192 188.12917 \nz\n\" clip-path=\"url(#p59c3a46ba7)\" style=\"fill: #ff7f0e; opacity: 0.4\"/>\n   </g>\n   <g id=\"patch_189\">\n    <path d=\"M 436.438743 188.638125 \nL 439.502294 188.638125 \nL 439.502294 188.505354 \nL 436.438743 188.505354 \nz\n\" clip-path=\"url(#p59c3a46ba7)\" style=\"fill: #ff7f0e; opacity: 0.4\"/>\n   </g>\n   <g id=\"patch_190\">\n    <path d=\"M 439.502294 188.638125 \nL 442.565844 188.638125 \nL 442.565844 188.638125 \nL 439.502294 188.638125 \nz\n\" clip-path=\"url(#p59c3a46ba7)\" style=\"fill: #ff7f0e; opacity: 0.4\"/>\n   </g>\n   <g id=\"patch_191\">\n    <path d=\"M 442.565844 188.638125 \nL 445.629395 188.638125 \nL 445.629395 188.615997 \nL 442.565844 188.615997 \nz\n\" clip-path=\"url(#p59c3a46ba7)\" style=\"fill: #ff7f0e; opacity: 0.4\"/>\n   </g>\n   <g id=\"matplotlib.axis_3\">\n    <g id=\"xtick_6\">\n     <g id=\"line2d_15\">\n      <g>\n       <use xlink:href=\"#mcfcebc2c2a\" x=\"300.195131\" y=\"188.638125\" style=\"stroke: #000000; stroke-width: 0.8\"/>\n      </g>\n     </g>\n     <g id=\"text_16\">\n      <!-- 0.0 -->\n      <g transform=\"translate(292.243569 203.236563)scale(0.1 -0.1)\">\n       <use xlink:href=\"#DejaVuSans-30\"/>\n       <use xlink:href=\"#DejaVuSans-2e\" x=\"63.623047\"/>\n       <use xlink:href=\"#DejaVuSans-30\" x=\"95.410156\"/>\n      </g>\n     </g>\n    </g>\n    <g id=\"xtick_7\">\n     <g id=\"line2d_16\">\n      <g>\n       <use xlink:href=\"#mcfcebc2c2a\" x=\"364.93545\" y=\"188.638125\" style=\"stroke: #000000; stroke-width: 0.8\"/>\n      </g>\n     </g>\n     <g id=\"text_17\">\n      <!-- 0.5 -->\n      <g transform=\"translate(356.983887 203.236563)scale(0.1 -0.1)\">\n       <use xlink:href=\"#DejaVuSans-30\"/>\n       <use xlink:href=\"#DejaVuSans-2e\" x=\"63.623047\"/>\n       <use xlink:href=\"#DejaVuSans-35\" x=\"95.410156\"/>\n      </g>\n     </g>\n    </g>\n    <g id=\"xtick_8\">\n     <g id=\"line2d_17\">\n      <g>\n       <use xlink:href=\"#mcfcebc2c2a\" x=\"429.675768\" y=\"188.638125\" style=\"stroke: #000000; stroke-width: 0.8\"/>\n      </g>\n     </g>\n     <g id=\"text_18\">\n      <!-- 1.0 -->\n      <g transform=\"translate(421.724205 203.236563)scale(0.1 -0.1)\">\n       <use xlink:href=\"#DejaVuSans-31\"/>\n       <use xlink:href=\"#DejaVuSans-2e\" x=\"63.623047\"/>\n       <use xlink:href=\"#DejaVuSans-30\" x=\"95.410156\"/>\n      </g>\n     </g>\n    </g>\n    <g id=\"text_19\">\n     <!-- acousticness -->\n     <g transform=\"translate(336.841406 216.914688)scale(0.1 -0.1)\">\n      <use xlink:href=\"#DejaVuSans-61\"/>\n      <use xlink:href=\"#DejaVuSans-63\" x=\"61.279297\"/>\n      <use xlink:href=\"#DejaVuSans-6f\" x=\"116.259766\"/>\n      <use xlink:href=\"#DejaVuSans-75\" x=\"177.441406\"/>\n      <use xlink:href=\"#DejaVuSans-73\" x=\"240.820312\"/>\n      <use xlink:href=\"#DejaVuSans-74\" x=\"292.919922\"/>\n      <use xlink:href=\"#DejaVuSans-69\" x=\"332.128906\"/>\n      <use xlink:href=\"#DejaVuSans-63\" x=\"359.912109\"/>\n      <use xlink:href=\"#DejaVuSans-6e\" x=\"414.892578\"/>\n      <use xlink:href=\"#DejaVuSans-65\" x=\"478.271484\"/>\n      <use xlink:href=\"#DejaVuSans-73\" x=\"539.794922\"/>\n      <use xlink:href=\"#DejaVuSans-73\" x=\"591.894531\"/>\n     </g>\n    </g>\n   </g>\n   <g id=\"matplotlib.axis_4\">\n    <g id=\"ytick_8\">\n     <g id=\"line2d_18\">\n      <g>\n       <use xlink:href=\"#ma13ce87ef8\" x=\"270.570037\" y=\"188.638125\" style=\"stroke: #000000; stroke-width: 0.8\"/>\n      </g>\n     </g>\n     <g id=\"text_20\">\n      <!-- 0 -->\n      <g transform=\"translate(257.207537 192.437344)scale(0.1 -0.1)\">\n       <use xlink:href=\"#DejaVuSans-30\"/>\n      </g>\n     </g>\n    </g>\n    <g id=\"ytick_9\">\n     <g id=\"line2d_19\">\n      <g>\n       <use xlink:href=\"#ma13ce87ef8\" x=\"270.570037\" y=\"162.459803\" style=\"stroke: #000000; stroke-width: 0.8\"/>\n      </g>\n     </g>\n     <g id=\"text_21\">\n      <!-- 1 -->\n      <g transform=\"translate(257.207537 166.259022)scale(0.1 -0.1)\">\n       <use xlink:href=\"#DejaVuSans-31\"/>\n      </g>\n     </g>\n    </g>\n    <g id=\"ytick_10\">\n     <g id=\"line2d_20\">\n      <g>\n       <use xlink:href=\"#ma13ce87ef8\" x=\"270.570037\" y=\"136.281481\" style=\"stroke: #000000; stroke-width: 0.8\"/>\n      </g>\n     </g>\n     <g id=\"text_22\">\n      <!-- 2 -->\n      <g transform=\"translate(257.207537 140.080699)scale(0.1 -0.1)\">\n       <use xlink:href=\"#DejaVuSans-32\"/>\n      </g>\n     </g>\n    </g>\n    <g id=\"ytick_11\">\n     <g id=\"line2d_21\">\n      <g>\n       <use xlink:href=\"#ma13ce87ef8\" x=\"270.570037\" y=\"110.103158\" style=\"stroke: #000000; stroke-width: 0.8\"/>\n      </g>\n     </g>\n     <g id=\"text_23\">\n      <!-- 3 -->\n      <g transform=\"translate(257.207537 113.902377)scale(0.1 -0.1)\">\n       <use xlink:href=\"#DejaVuSans-33\"/>\n      </g>\n     </g>\n    </g>\n    <g id=\"ytick_12\">\n     <g id=\"line2d_22\">\n      <g>\n       <use xlink:href=\"#ma13ce87ef8\" x=\"270.570037\" y=\"83.924836\" style=\"stroke: #000000; stroke-width: 0.8\"/>\n      </g>\n     </g>\n     <g id=\"text_24\">\n      <!-- 4 -->\n      <g transform=\"translate(257.207537 87.724055)scale(0.1 -0.1)\">\n       <use xlink:href=\"#DejaVuSans-34\"/>\n      </g>\n     </g>\n    </g>\n    <g id=\"ytick_13\">\n     <g id=\"line2d_23\">\n      <g>\n       <use xlink:href=\"#ma13ce87ef8\" x=\"270.570037\" y=\"57.746514\" style=\"stroke: #000000; stroke-width: 0.8\"/>\n      </g>\n     </g>\n     <g id=\"text_25\">\n      <!-- 5 -->\n      <g transform=\"translate(257.207537 61.545733)scale(0.1 -0.1)\">\n       <use xlink:href=\"#DejaVuSans-35\"/>\n      </g>\n     </g>\n    </g>\n    <g id=\"ytick_14\">\n     <g id=\"line2d_24\">\n      <g>\n       <use xlink:href=\"#ma13ce87ef8\" x=\"270.570037\" y=\"31.568192\" style=\"stroke: #000000; stroke-width: 0.8\"/>\n      </g>\n     </g>\n     <g id=\"text_26\">\n      <!-- 6 -->\n      <g transform=\"translate(257.207537 35.36741)scale(0.1 -0.1)\">\n       <use xlink:href=\"#DejaVuSans-36\"/>\n      </g>\n     </g>\n    </g>\n    <g id=\"text_27\">\n     <!-- Density -->\n     <g transform=\"translate(251.127849 124.486719)rotate(-90)scale(0.1 -0.1)\">\n      <use xlink:href=\"#DejaVuSans-44\"/>\n      <use xlink:href=\"#DejaVuSans-65\" x=\"77.001953\"/>\n      <use xlink:href=\"#DejaVuSans-6e\" x=\"138.525391\"/>\n      <use xlink:href=\"#DejaVuSans-73\" x=\"201.904297\"/>\n      <use xlink:href=\"#DejaVuSans-69\" x=\"254.003906\"/>\n      <use xlink:href=\"#DejaVuSans-74\" x=\"281.787109\"/>\n      <use xlink:href=\"#DejaVuSans-79\" x=\"320.996094\"/>\n     </g>\n    </g>\n   </g>\n   <g id=\"line2d_25\">\n    <path d=\"M 284.844153 188.5602 \nL 286.521305 188.361891 \nL 287.359881 188.142622 \nL 288.198458 187.777438 \nL 289.037034 187.190293 \nL 289.87561 186.279179 \nL 290.714187 184.914994 \nL 291.552763 182.944826 \nL 292.391339 180.201387 \nL 293.229915 176.519679 \nL 294.068492 171.760601 \nL 294.907068 165.839283 \nL 295.745644 158.753933 \nL 297.422797 141.628785 \nL 299.938525 113.452413 \nL 300.777102 105.187157 \nL 301.615678 98.222431 \nL 302.454254 92.877369 \nL 303.292831 89.3405 \nL 304.131407 87.660177 \nL 304.969983 87.754732 \nL 305.808559 89.437707 \nL 306.647136 92.451045 \nL 307.485712 96.498935 \nL 309.162864 106.492448 \nL 311.678593 122.290434 \nL 313.355746 131.165049 \nL 314.194322 134.80936 \nL 315.032898 137.905845 \nL 315.871474 140.495837 \nL 316.710051 142.65598 \nL 318.387203 146.098017 \nL 321.741508 152.220127 \nL 324.257237 157.610227 \nL 326.772966 163.097637 \nL 328.450118 166.230117 \nL 330.127271 168.696559 \nL 331.804423 170.486526 \nL 333.481576 171.719281 \nL 335.158729 172.561459 \nL 336.835881 173.157665 \nL 339.35161 173.774065 \nL 341.867339 174.147255 \nL 344.383067 174.316981 \nL 348.575949 174.319651 \nL 354.445983 174.279427 \nL 359.47744 174.553061 \nL 364.508898 174.74116 \nL 368.701779 174.656926 \nL 372.056084 174.353288 \nL 378.764694 173.554006 \nL 381.280423 173.544308 \nL 383.796152 173.828139 \nL 386.311881 174.433948 \nL 388.827609 175.32294 \nL 392.181914 176.773283 \nL 398.051948 179.602087 \nL 401.406253 181.149366 \nL 403.083406 181.694862 \nL 404.760558 181.934001 \nL 405.599135 181.902577 \nL 406.437711 181.755109 \nL 407.276287 181.484255 \nL 408.114863 181.087116 \nL 409.792016 179.928837 \nL 411.469168 178.368352 \nL 415.66205 174.054581 \nL 417.339202 172.863299 \nL 418.177779 172.503349 \nL 419.016355 172.325566 \nL 419.854931 172.339177 \nL 420.693507 172.545385 \nL 421.532084 172.937726 \nL 422.37066 173.502907 \nL 424.047812 175.071644 \nL 425.724965 177.056342 \nL 430.756423 183.357371 \nL 432.433575 185.00649 \nL 434.110728 186.288161 \nL 435.78788 187.210377 \nL 437.465033 187.824911 \nL 439.142185 188.204391 \nL 441.657914 188.489158 \nL 445.850795 188.620545 \nL 451.720829 188.637758 \nL 451.720829 188.637758 \n\" clip-path=\"url(#p59c3a46ba7)\" style=\"fill: none; stroke: #1f77b4; stroke-width: 1.5; stroke-linecap: square\"/>\n   </g>\n   <g id=\"line2d_26\">\n    <path d=\"M 279.521908 188.637855 \nL 285.819708 188.54808 \nL 287.619079 188.281616 \nL 288.518764 187.96811 \nL 289.41845 187.42699 \nL 290.318136 186.533151 \nL 291.217821 185.121071 \nL 292.117507 182.988938 \nL 293.017192 179.914044 \nL 293.916878 175.68173 \nL 294.816564 170.126853 \nL 295.716249 163.182177 \nL 296.615935 154.923347 \nL 298.415306 135.622622 \nL 300.214677 116.013826 \nL 301.114363 107.608662 \nL 302.014048 100.838699 \nL 302.913734 96.033427 \nL 303.813419 93.320243 \nL 304.713105 92.632543 \nL 305.612791 93.749484 \nL 306.512476 96.352225 \nL 307.412162 100.079965 \nL 309.211533 109.501416 \nL 311.91059 124.194748 \nL 312.810275 128.392071 \nL 313.709961 132.033882 \nL 314.609647 135.086287 \nL 315.509332 137.576803 \nL 316.409018 139.586701 \nL 318.208389 142.663069 \nL 320.907446 146.852807 \nL 322.706817 150.264274 \nL 328.10493 161.517033 \nL 329.904302 164.274425 \nL 331.703673 166.303143 \nL 333.503044 167.760676 \nL 335.302415 168.854838 \nL 338.001472 170.135226 \nL 340.700529 171.127313 \nL 343.399586 171.832768 \nL 346.998328 172.433636 \nL 356.894869 173.835642 \nL 361.393297 174.473098 \nL 364.99204 174.759892 \nL 368.590782 174.876225 \nL 371.289839 174.795116 \nL 374.888581 174.448327 \nL 378.487324 174.121861 \nL 381.186381 174.129734 \nL 382.985752 174.313022 \nL 384.785123 174.651425 \nL 387.48418 175.426612 \nL 391.082922 176.785918 \nL 395.58135 178.714427 \nL 401.879149 181.602063 \nL 403.67852 182.123903 \nL 405.477892 182.266742 \nL 406.377577 182.157157 \nL 407.277263 181.91316 \nL 408.176948 181.530833 \nL 409.97632 180.367631 \nL 411.775691 178.772487 \nL 415.374433 175.25411 \nL 416.274119 174.540209 \nL 417.173804 173.972625 \nL 418.07349 173.582527 \nL 418.973175 173.392093 \nL 419.872861 173.413114 \nL 420.772547 173.646619 \nL 421.672232 174.083478 \nL 422.571918 174.705798 \nL 424.371289 176.402885 \nL 427.070346 179.602811 \nL 429.769403 182.822152 \nL 431.568774 184.642315 \nL 433.368145 186.074652 \nL 435.167516 187.104423 \nL 436.966887 187.782008 \nL 438.766259 188.19121 \nL 441.465315 188.487523 \nL 445.064058 188.606408 \nL 457.659656 188.637996 \nL 458.559342 188.638055 \nL 458.559342 188.638055 \n\" clip-path=\"url(#p59c3a46ba7)\" style=\"fill: none; stroke: #ff7f0e; stroke-width: 1.5; stroke-linecap: square\"/>\n   </g>\n   <g id=\"patch_192\">\n    <path d=\"M 270.570037 188.638125 \nL 270.570037 22.318125 \n\" style=\"fill: none; stroke: #000000; stroke-width: 0.8; stroke-linejoin: miter; stroke-linecap: square\"/>\n   </g>\n   <g id=\"patch_193\">\n    <path d=\"M 467.511213 188.638125 \nL 467.511213 22.318125 \n\" style=\"fill: none; stroke: #000000; stroke-width: 0.8; stroke-linejoin: miter; stroke-linecap: square\"/>\n   </g>\n   <g id=\"patch_194\">\n    <path d=\"M 270.570037 188.638125 \nL 467.511213 188.638125 \n\" style=\"fill: none; stroke: #000000; stroke-width: 0.8; stroke-linejoin: miter; stroke-linecap: square\"/>\n   </g>\n   <g id=\"patch_195\">\n    <path d=\"M 270.570037 22.318125 \nL 467.511213 22.318125 \n\" style=\"fill: none; stroke: #000000; stroke-width: 0.8; stroke-linejoin: miter; stroke-linecap: square\"/>\n   </g>\n   <g id=\"text_28\">\n    <!-- XGBoost -->\n    <g transform=\"translate(343.344688 16.318125)scale(0.12 -0.12)\">\n     <defs>\n      <path id=\"DejaVuSans-58\" d=\"M 403 4666 \nL 1081 4666 \nL 2241 2931 \nL 3406 4666 \nL 4084 4666 \nL 2584 2425 \nL 4184 0 \nL 3506 0 \nL 2194 1984 \nL 872 0 \nL 191 0 \nL 1856 2491 \nL 403 4666 \nz\n\" transform=\"scale(0.015625)\"/>\n      <path id=\"DejaVuSans-47\" d=\"M 3809 666 \nL 3809 1919 \nL 2778 1919 \nL 2778 2438 \nL 4434 2438 \nL 4434 434 \nQ 4069 175 3628 42 \nQ 3188 -91 2688 -91 \nQ 1594 -91 976 548 \nQ 359 1188 359 2328 \nQ 359 3472 976 4111 \nQ 1594 4750 2688 4750 \nQ 3144 4750 3555 4637 \nQ 3966 4525 4313 4306 \nL 4313 3634 \nQ 3963 3931 3569 4081 \nQ 3175 4231 2741 4231 \nQ 1884 4231 1454 3753 \nQ 1025 3275 1025 2328 \nQ 1025 1384 1454 906 \nQ 1884 428 2741 428 \nQ 3075 428 3337 486 \nQ 3600 544 3809 666 \nz\n\" transform=\"scale(0.015625)\"/>\n      <path id=\"DejaVuSans-42\" d=\"M 1259 2228 \nL 1259 519 \nL 2272 519 \nQ 2781 519 3026 730 \nQ 3272 941 3272 1375 \nQ 3272 1813 3026 2020 \nQ 2781 2228 2272 2228 \nL 1259 2228 \nz\nM 1259 4147 \nL 1259 2741 \nL 2194 2741 \nQ 2656 2741 2882 2914 \nQ 3109 3088 3109 3444 \nQ 3109 3797 2882 3972 \nQ 2656 4147 2194 4147 \nL 1259 4147 \nz\nM 628 4666 \nL 2241 4666 \nQ 2963 4666 3353 4366 \nQ 3744 4066 3744 3513 \nQ 3744 3084 3544 2831 \nQ 3344 2578 2956 2516 \nQ 3422 2416 3680 2098 \nQ 3938 1781 3938 1306 \nQ 3938 681 3513 340 \nQ 3088 0 2303 0 \nL 628 0 \nL 628 4666 \nz\n\" transform=\"scale(0.015625)\"/>\n     </defs>\n     <use xlink:href=\"#DejaVuSans-58\"/>\n     <use xlink:href=\"#DejaVuSans-47\" x=\"68.505859\"/>\n     <use xlink:href=\"#DejaVuSans-42\" x=\"145.996094\"/>\n     <use xlink:href=\"#DejaVuSans-6f\" x=\"214.599609\"/>\n     <use xlink:href=\"#DejaVuSans-6f\" x=\"275.78125\"/>\n     <use xlink:href=\"#DejaVuSans-73\" x=\"336.962891\"/>\n     <use xlink:href=\"#DejaVuSans-74\" x=\"389.0625\"/>\n    </g>\n   </g>\n  </g>\n  <g id=\"axes_3\">\n   <g id=\"patch_196\">\n    <path d=\"M 506.899449 188.638125 \nL 703.840625 188.638125 \nL 703.840625 22.318125 \nL 506.899449 22.318125 \nz\n\" style=\"fill: #ffffff\"/>\n   </g>\n   <g id=\"patch_197\">\n    <path d=\"M 530.433807 188.638125 \nL 533.839999 188.638125 \nL 533.839999 103.983551 \nL 530.433807 103.983551 \nz\n\" clip-path=\"url(#p63b7ac6b85)\" style=\"fill: #1f77b4; opacity: 0.4\"/>\n   </g>\n   <g id=\"patch_198\">\n    <path d=\"M 533.839999 188.638125 \nL 537.246191 188.638125 \nL 537.246191 46.911146 \nL 533.839999 46.911146 \nz\n\" clip-path=\"url(#p63b7ac6b85)\" style=\"fill: #1f77b4; opacity: 0.4\"/>\n   </g>\n   <g id=\"patch_199\">\n    <path d=\"M 537.246191 188.638125 \nL 540.652384 188.638125 \nL 540.652384 99.722201 \nL 537.246191 99.722201 \nz\n\" clip-path=\"url(#p63b7ac6b85)\" style=\"fill: #1f77b4; opacity: 0.4\"/>\n   </g>\n   <g id=\"patch_200\">\n    <path d=\"M 540.652384 188.638125 \nL 544.058576 188.638125 \nL 544.058576 110.513381 \nL 540.652384 110.513381 \nz\n\" clip-path=\"url(#p63b7ac6b85)\" style=\"fill: #1f77b4; opacity: 0.4\"/>\n   </g>\n   <g id=\"patch_201\">\n    <path d=\"M 544.058576 188.638125 \nL 547.464768 188.638125 \nL 547.464768 152.490855 \nL 544.058576 152.490855 \nz\n\" clip-path=\"url(#p63b7ac6b85)\" style=\"fill: #1f77b4; opacity: 0.4\"/>\n   </g>\n   <g id=\"patch_202\">\n    <path d=\"M 547.464768 188.638125 \nL 550.87096 188.638125 \nL 550.87096 153.508491 \nL 547.464768 153.508491 \nz\n\" clip-path=\"url(#p63b7ac6b85)\" style=\"fill: #1f77b4; opacity: 0.4\"/>\n   </g>\n   <g id=\"patch_203\">\n    <path d=\"M 550.87096 188.638125 \nL 554.277153 188.638125 \nL 554.277153 146.08823 \nL 550.87096 146.08823 \nz\n\" clip-path=\"url(#p63b7ac6b85)\" style=\"fill: #1f77b4; opacity: 0.4\"/>\n   </g>\n   <g id=\"patch_204\">\n    <path d=\"M 554.277153 188.638125 \nL 557.683345 188.638125 \nL 557.683345 153.423688 \nL 554.277153 153.423688 \nz\n\" clip-path=\"url(#p63b7ac6b85)\" style=\"fill: #1f77b4; opacity: 0.4\"/>\n   </g>\n   <g id=\"patch_205\">\n    <path d=\"M 557.683345 188.638125 \nL 561.089537 188.638125 \nL 561.089537 165.571715 \nL 557.683345 165.571715 \nz\n\" clip-path=\"url(#p63b7ac6b85)\" style=\"fill: #1f77b4; opacity: 0.4\"/>\n   </g>\n   <g id=\"patch_206\">\n    <path d=\"M 561.089537 188.638125 \nL 564.495729 188.638125 \nL 564.495729 172.801169 \nL 561.089537 172.801169 \nz\n\" clip-path=\"url(#p63b7ac6b85)\" style=\"fill: #1f77b4; opacity: 0.4\"/>\n   </g>\n   <g id=\"patch_207\">\n    <path d=\"M 564.495729 188.638125 \nL 567.901922 188.638125 \nL 567.901922 173.98841 \nL 564.495729 173.98841 \nz\n\" clip-path=\"url(#p63b7ac6b85)\" style=\"fill: #1f77b4; opacity: 0.4\"/>\n   </g>\n   <g id=\"patch_208\">\n    <path d=\"M 567.901922 188.638125 \nL 571.308114 188.638125 \nL 571.308114 173.98841 \nL 567.901922 173.98841 \nz\n\" clip-path=\"url(#p63b7ac6b85)\" style=\"fill: #1f77b4; opacity: 0.4\"/>\n   </g>\n   <g id=\"patch_209\">\n    <path d=\"M 571.308114 188.638125 \nL 574.714306 188.638125 \nL 574.714306 175.38766 \nL 571.308114 175.38766 \nz\n\" clip-path=\"url(#p63b7ac6b85)\" style=\"fill: #1f77b4; opacity: 0.4\"/>\n   </g>\n   <g id=\"patch_210\">\n    <path d=\"M 574.714306 188.638125 \nL 578.120499 188.638125 \nL 578.120499 175.98128 \nL 574.714306 175.98128 \nz\n\" clip-path=\"url(#p63b7ac6b85)\" style=\"fill: #1f77b4; opacity: 0.4\"/>\n   </g>\n   <g id=\"patch_211\">\n    <path d=\"M 578.120499 188.638125 \nL 581.526691 188.638125 \nL 581.526691 176.341693 \nL 578.120499 176.341693 \nz\n\" clip-path=\"url(#p63b7ac6b85)\" style=\"fill: #1f77b4; opacity: 0.4\"/>\n   </g>\n   <g id=\"patch_212\">\n    <path d=\"M 581.526691 188.638125 \nL 584.932883 188.638125 \nL 584.932883 175.345258 \nL 581.526691 175.345258 \nz\n\" clip-path=\"url(#p63b7ac6b85)\" style=\"fill: #1f77b4; opacity: 0.4\"/>\n   </g>\n   <g id=\"patch_213\">\n    <path d=\"M 584.932883 188.638125 \nL 588.339075 188.638125 \nL 588.339075 176.299292 \nL 584.932883 176.299292 \nz\n\" clip-path=\"url(#p63b7ac6b85)\" style=\"fill: #1f77b4; opacity: 0.4\"/>\n   </g>\n   <g id=\"patch_214\">\n    <path d=\"M 588.339075 188.638125 \nL 591.745268 188.638125 \nL 591.745268 175.451262 \nL 588.339075 175.451262 \nz\n\" clip-path=\"url(#p63b7ac6b85)\" style=\"fill: #1f77b4; opacity: 0.4\"/>\n   </g>\n   <g id=\"patch_215\">\n    <path d=\"M 591.745268 188.638125 \nL 595.15146 188.638125 \nL 595.15146 175.557265 \nL 591.745268 175.557265 \nz\n\" clip-path=\"url(#p63b7ac6b85)\" style=\"fill: #1f77b4; opacity: 0.4\"/>\n   </g>\n   <g id=\"patch_216\">\n    <path d=\"M 595.15146 188.638125 \nL 598.557652 188.638125 \nL 598.557652 176.405295 \nL 595.15146 176.405295 \nz\n\" clip-path=\"url(#p63b7ac6b85)\" style=\"fill: #1f77b4; opacity: 0.4\"/>\n   </g>\n   <g id=\"patch_217\">\n    <path d=\"M 598.557652 188.638125 \nL 601.963844 188.638125 \nL 601.963844 176.235689 \nL 598.557652 176.235689 \nz\n\" clip-path=\"url(#p63b7ac6b85)\" style=\"fill: #1f77b4; opacity: 0.4\"/>\n   </g>\n   <g id=\"patch_218\">\n    <path d=\"M 601.963844 188.638125 \nL 605.370037 188.638125 \nL 605.370037 176.362894 \nL 601.963844 176.362894 \nz\n\" clip-path=\"url(#p63b7ac6b85)\" style=\"fill: #1f77b4; opacity: 0.4\"/>\n   </g>\n   <g id=\"patch_219\">\n    <path d=\"M 605.370037 188.638125 \nL 608.776229 188.638125 \nL 608.776229 176.596102 \nL 605.370037 176.596102 \nz\n\" clip-path=\"url(#p63b7ac6b85)\" style=\"fill: #1f77b4; opacity: 0.4\"/>\n   </g>\n   <g id=\"patch_220\">\n    <path d=\"M 608.776229 188.638125 \nL 612.182421 188.638125 \nL 612.182421 175.599667 \nL 608.776229 175.599667 \nz\n\" clip-path=\"url(#p63b7ac6b85)\" style=\"fill: #1f77b4; opacity: 0.4\"/>\n   </g>\n   <g id=\"patch_221\">\n    <path d=\"M 612.182421 188.638125 \nL 615.588614 188.638125 \nL 615.588614 175.472462 \nL 612.182421 175.472462 \nz\n\" clip-path=\"url(#p63b7ac6b85)\" style=\"fill: #1f77b4; opacity: 0.4\"/>\n   </g>\n   <g id=\"patch_222\">\n    <path d=\"M 615.588614 188.638125 \nL 618.994806 188.638125 \nL 618.994806 174.370024 \nL 615.588614 174.370024 \nz\n\" clip-path=\"url(#p63b7ac6b85)\" style=\"fill: #1f77b4; opacity: 0.4\"/>\n   </g>\n   <g id=\"patch_223\">\n    <path d=\"M 618.994806 188.638125 \nL 622.400998 188.638125 \nL 622.400998 174.942444 \nL 618.994806 174.942444 \nz\n\" clip-path=\"url(#p63b7ac6b85)\" style=\"fill: #1f77b4; opacity: 0.4\"/>\n   </g>\n   <g id=\"patch_224\">\n    <path d=\"M 622.400998 188.638125 \nL 625.80719 188.638125 \nL 625.80719 175.239254 \nL 622.400998 175.239254 \nz\n\" clip-path=\"url(#p63b7ac6b85)\" style=\"fill: #1f77b4; opacity: 0.4\"/>\n   </g>\n   <g id=\"patch_225\">\n    <path d=\"M 625.80719 188.638125 \nL 629.213383 188.638125 \nL 629.213383 176.129686 \nL 625.80719 176.129686 \nz\n\" clip-path=\"url(#p63b7ac6b85)\" style=\"fill: #1f77b4; opacity: 0.4\"/>\n   </g>\n   <g id=\"patch_226\">\n    <path d=\"M 629.213383 188.638125 \nL 632.619575 188.638125 \nL 632.619575 178.228559 \nL 629.213383 178.228559 \nz\n\" clip-path=\"url(#p63b7ac6b85)\" style=\"fill: #1f77b4; opacity: 0.4\"/>\n   </g>\n   <g id=\"patch_227\">\n    <path d=\"M 632.619575 188.638125 \nL 636.025767 188.638125 \nL 636.025767 179.352199 \nL 632.619575 179.352199 \nz\n\" clip-path=\"url(#p63b7ac6b85)\" style=\"fill: #1f77b4; opacity: 0.4\"/>\n   </g>\n   <g id=\"patch_228\">\n    <path d=\"M 636.025767 188.638125 \nL 639.43196 188.638125 \nL 639.43196 180.412236 \nL 636.025767 180.412236 \nz\n\" clip-path=\"url(#p63b7ac6b85)\" style=\"fill: #1f77b4; opacity: 0.4\"/>\n   </g>\n   <g id=\"patch_229\">\n    <path d=\"M 639.43196 188.638125 \nL 642.838152 188.638125 \nL 642.838152 182.468708 \nL 639.43196 182.468708 \nz\n\" clip-path=\"url(#p63b7ac6b85)\" style=\"fill: #1f77b4; opacity: 0.4\"/>\n   </g>\n   <g id=\"patch_230\">\n    <path d=\"M 642.838152 188.638125 \nL 646.244344 188.638125 \nL 646.244344 184.079965 \nL 642.838152 184.079965 \nz\n\" clip-path=\"url(#p63b7ac6b85)\" style=\"fill: #1f77b4; opacity: 0.4\"/>\n   </g>\n   <g id=\"patch_231\">\n    <path d=\"M 646.244344 188.638125 \nL 649.650536 188.638125 \nL 649.650536 183.995162 \nL 646.244344 183.995162 \nz\n\" clip-path=\"url(#p63b7ac6b85)\" style=\"fill: #1f77b4; opacity: 0.4\"/>\n   </g>\n   <g id=\"patch_232\">\n    <path d=\"M 649.650536 188.638125 \nL 653.056729 188.638125 \nL 653.056729 181.493474 \nL 649.650536 181.493474 \nz\n\" clip-path=\"url(#p63b7ac6b85)\" style=\"fill: #1f77b4; opacity: 0.4\"/>\n   </g>\n   <g id=\"patch_233\">\n    <path d=\"M 653.056729 188.638125 \nL 656.462921 188.638125 \nL 656.462921 176.405295 \nL 653.056729 176.405295 \nz\n\" clip-path=\"url(#p63b7ac6b85)\" style=\"fill: #1f77b4; opacity: 0.4\"/>\n   </g>\n   <g id=\"patch_234\">\n    <path d=\"M 656.462921 188.638125 \nL 659.869113 188.638125 \nL 659.869113 170.172276 \nL 656.462921 170.172276 \nz\n\" clip-path=\"url(#p63b7ac6b85)\" style=\"fill: #1f77b4; opacity: 0.4\"/>\n   </g>\n   <g id=\"patch_235\">\n    <path d=\"M 659.869113 188.638125 \nL 663.275305 188.638125 \nL 663.275305 172.228749 \nL 659.869113 172.228749 \nz\n\" clip-path=\"url(#p63b7ac6b85)\" style=\"fill: #1f77b4; opacity: 0.4\"/>\n   </g>\n   <g id=\"patch_236\">\n    <path d=\"M 663.275305 188.638125 \nL 666.681498 188.638125 \nL 666.681498 174.921243 \nL 663.275305 174.921243 \nz\n\" clip-path=\"url(#p63b7ac6b85)\" style=\"fill: #1f77b4; opacity: 0.4\"/>\n   </g>\n   <g id=\"patch_237\">\n    <path d=\"M 666.681498 188.638125 \nL 670.08769 188.638125 \nL 670.08769 179.3946 \nL 666.681498 179.3946 \nz\n\" clip-path=\"url(#p63b7ac6b85)\" style=\"fill: #1f77b4; opacity: 0.4\"/>\n   </g>\n   <g id=\"patch_238\">\n    <path d=\"M 670.08769 188.638125 \nL 673.493882 188.638125 \nL 673.493882 184.864392 \nL 670.08769 184.864392 \nz\n\" clip-path=\"url(#p63b7ac6b85)\" style=\"fill: #1f77b4; opacity: 0.4\"/>\n   </g>\n   <g id=\"patch_239\">\n    <path d=\"M 673.493882 188.638125 \nL 676.900075 188.638125 \nL 676.900075 187.64169 \nL 673.493882 187.64169 \nz\n\" clip-path=\"url(#p63b7ac6b85)\" style=\"fill: #1f77b4; opacity: 0.4\"/>\n   </g>\n   <g id=\"patch_240\">\n    <path d=\"M 676.900075 188.638125 \nL 680.306267 188.638125 \nL 680.306267 188.447318 \nL 676.900075 188.447318 \nz\n\" clip-path=\"url(#p63b7ac6b85)\" style=\"fill: #1f77b4; opacity: 0.4\"/>\n   </g>\n   <g id=\"patch_241\">\n    <path d=\"M 530.433807 188.638125 \nL 533.431256 188.638125 \nL 533.431256 130.106546 \nL 530.433807 130.106546 \nz\n\" clip-path=\"url(#p63b7ac6b85)\" style=\"fill: #ff7f0e; opacity: 0.4\"/>\n   </g>\n   <g id=\"patch_242\">\n    <path d=\"M 533.431256 188.638125 \nL 536.428705 188.638125 \nL 536.428705 30.238125 \nL 533.431256 30.238125 \nz\n\" clip-path=\"url(#p63b7ac6b85)\" style=\"fill: #ff7f0e; opacity: 0.4\"/>\n   </g>\n   <g id=\"patch_243\">\n    <path d=\"M 536.428705 188.638125 \nL 539.426154 188.638125 \nL 539.426154 121.791414 \nL 536.428705 121.791414 \nz\n\" clip-path=\"url(#p63b7ac6b85)\" style=\"fill: #ff7f0e; opacity: 0.4\"/>\n   </g>\n   <g id=\"patch_244\">\n    <path d=\"M 539.426154 188.638125 \nL 542.423604 188.638125 \nL 542.423604 99.538125 \nL 539.426154 99.538125 \nz\n\" clip-path=\"url(#p63b7ac6b85)\" style=\"fill: #ff7f0e; opacity: 0.4\"/>\n   </g>\n   <g id=\"patch_245\">\n    <path d=\"M 542.423604 188.638125 \nL 545.421053 188.638125 \nL 545.421053 141.721678 \nL 542.423604 141.721678 \nz\n\" clip-path=\"url(#p63b7ac6b85)\" style=\"fill: #ff7f0e; opacity: 0.4\"/>\n   </g>\n   <g id=\"patch_246\">\n    <path d=\"M 545.421053 188.638125 \nL 548.418502 188.638125 \nL 548.418502 159.15523 \nL 545.421053 159.15523 \nz\n\" clip-path=\"url(#p63b7ac6b85)\" style=\"fill: #ff7f0e; opacity: 0.4\"/>\n   </g>\n   <g id=\"patch_247\">\n    <path d=\"M 548.418502 188.638125 \nL 551.415951 188.638125 \nL 551.415951 154.878257 \nL 548.418502 154.878257 \nz\n\" clip-path=\"url(#p63b7ac6b85)\" style=\"fill: #ff7f0e; opacity: 0.4\"/>\n   </g>\n   <g id=\"patch_248\">\n    <path d=\"M 551.415951 188.638125 \nL 554.4134 188.638125 \nL 554.4134 150.514441 \nL 551.415951 150.514441 \nz\n\" clip-path=\"url(#p63b7ac6b85)\" style=\"fill: #ff7f0e; opacity: 0.4\"/>\n   </g>\n   <g id=\"patch_249\">\n    <path d=\"M 554.4134 188.638125 \nL 557.41085 188.638125 \nL 557.41085 156.701941 \nL 554.4134 156.701941 \nz\n\" clip-path=\"url(#p63b7ac6b85)\" style=\"fill: #ff7f0e; opacity: 0.4\"/>\n   </g>\n   <g id=\"patch_250\">\n    <path d=\"M 557.41085 188.638125 \nL 560.408299 188.638125 \nL 560.408299 166.667072 \nL 557.41085 166.667072 \nz\n\" clip-path=\"url(#p63b7ac6b85)\" style=\"fill: #ff7f0e; opacity: 0.4\"/>\n   </g>\n   <g id=\"patch_251\">\n    <path d=\"M 560.408299 188.638125 \nL 563.405748 188.638125 \nL 563.405748 173.071678 \nL 560.408299 173.071678 \nz\n\" clip-path=\"url(#p63b7ac6b85)\" style=\"fill: #ff7f0e; opacity: 0.4\"/>\n   </g>\n   <g id=\"patch_252\">\n    <path d=\"M 563.405748 188.638125 \nL 566.403197 188.638125 \nL 566.403197 175.047336 \nL 563.405748 175.047336 \nz\n\" clip-path=\"url(#p63b7ac6b85)\" style=\"fill: #ff7f0e; opacity: 0.4\"/>\n   </g>\n   <g id=\"patch_253\">\n    <path d=\"M 566.403197 188.638125 \nL 569.400646 188.638125 \nL 569.400646 175.503257 \nL 566.403197 175.503257 \nz\n\" clip-path=\"url(#p63b7ac6b85)\" style=\"fill: #ff7f0e; opacity: 0.4\"/>\n   </g>\n   <g id=\"patch_254\">\n    <path d=\"M 569.400646 188.638125 \nL 572.398096 188.638125 \nL 572.398096 69.099967 \nL 569.400646 69.099967 \nz\n\" clip-path=\"url(#p63b7ac6b85)\" style=\"fill: #ff7f0e; opacity: 0.4\"/>\n   </g>\n   <g id=\"patch_255\">\n    <path d=\"M 572.398096 188.638125 \nL 575.395545 188.638125 \nL 575.395545 176.697336 \nL 572.398096 176.697336 \nz\n\" clip-path=\"url(#p63b7ac6b85)\" style=\"fill: #ff7f0e; opacity: 0.4\"/>\n   </g>\n   <g id=\"patch_256\">\n    <path d=\"M 575.395545 188.638125 \nL 578.392994 188.638125 \nL 578.392994 177.370362 \nL 575.395545 177.370362 \nz\n\" clip-path=\"url(#p63b7ac6b85)\" style=\"fill: #ff7f0e; opacity: 0.4\"/>\n   </g>\n   <g id=\"patch_257\">\n    <path d=\"M 578.392994 188.638125 \nL 581.390443 188.638125 \nL 581.390443 177.69602 \nL 578.392994 177.69602 \nz\n\" clip-path=\"url(#p63b7ac6b85)\" style=\"fill: #ff7f0e; opacity: 0.4\"/>\n   </g>\n   <g id=\"patch_258\">\n    <path d=\"M 581.390443 188.638125 \nL 584.387892 188.638125 \nL 584.387892 176.675625 \nL 581.390443 176.675625 \nz\n\" clip-path=\"url(#p63b7ac6b85)\" style=\"fill: #ff7f0e; opacity: 0.4\"/>\n   </g>\n   <g id=\"patch_259\">\n    <path d=\"M 584.387892 188.638125 \nL 587.385342 188.638125 \nL 587.385342 177.348651 \nL 584.387892 177.348651 \nz\n\" clip-path=\"url(#p63b7ac6b85)\" style=\"fill: #ff7f0e; opacity: 0.4\"/>\n   </g>\n   <g id=\"patch_260\">\n    <path d=\"M 587.385342 188.638125 \nL 590.382791 188.638125 \nL 590.382791 176.632204 \nL 587.385342 176.632204 \nz\n\" clip-path=\"url(#p63b7ac6b85)\" style=\"fill: #ff7f0e; opacity: 0.4\"/>\n   </g>\n   <g id=\"patch_261\">\n    <path d=\"M 590.382791 188.638125 \nL 593.38024 188.638125 \nL 593.38024 176.805888 \nL 590.382791 176.805888 \nz\n\" clip-path=\"url(#p63b7ac6b85)\" style=\"fill: #ff7f0e; opacity: 0.4\"/>\n   </g>\n   <g id=\"patch_262\">\n    <path d=\"M 593.38024 188.638125 \nL 596.377689 188.638125 \nL 596.377689 177.326941 \nL 593.38024 177.326941 \nz\n\" clip-path=\"url(#p63b7ac6b85)\" style=\"fill: #ff7f0e; opacity: 0.4\"/>\n   </g>\n   <g id=\"patch_263\">\n    <path d=\"M 596.377689 188.638125 \nL 599.375138 188.638125 \nL 599.375138 177.956546 \nL 596.377689 177.956546 \nz\n\" clip-path=\"url(#p63b7ac6b85)\" style=\"fill: #ff7f0e; opacity: 0.4\"/>\n   </g>\n   <g id=\"patch_264\">\n    <path d=\"M 599.375138 188.638125 \nL 602.372588 188.638125 \nL 602.372588 177.088125 \nL 599.375138 177.088125 \nz\n\" clip-path=\"url(#p63b7ac6b85)\" style=\"fill: #ff7f0e; opacity: 0.4\"/>\n   </g>\n   <g id=\"patch_265\">\n    <path d=\"M 602.372588 188.638125 \nL 605.370037 188.638125 \nL 605.370037 177.609178 \nL 602.372588 177.609178 \nz\n\" clip-path=\"url(#p63b7ac6b85)\" style=\"fill: #ff7f0e; opacity: 0.4\"/>\n   </g>\n   <g id=\"patch_266\">\n    <path d=\"M 605.370037 188.638125 \nL 608.367486 188.638125 \nL 608.367486 177.934836 \nL 605.370037 177.934836 \nz\n\" clip-path=\"url(#p63b7ac6b85)\" style=\"fill: #ff7f0e; opacity: 0.4\"/>\n   </g>\n   <g id=\"patch_267\">\n    <path d=\"M 608.367486 188.638125 \nL 611.364935 188.638125 \nL 611.364935 176.719046 \nL 608.367486 176.719046 \nz\n\" clip-path=\"url(#p63b7ac6b85)\" style=\"fill: #ff7f0e; opacity: 0.4\"/>\n   </g>\n   <g id=\"patch_268\">\n    <path d=\"M 611.364935 188.638125 \nL 614.362384 188.638125 \nL 614.362384 177.001283 \nL 611.364935 177.001283 \nz\n\" clip-path=\"url(#p63b7ac6b85)\" style=\"fill: #ff7f0e; opacity: 0.4\"/>\n   </g>\n   <g id=\"patch_269\">\n    <path d=\"M 614.362384 188.638125 \nL 617.359834 188.638125 \nL 617.359834 176.024309 \nL 614.362384 176.024309 \nz\n\" clip-path=\"url(#p63b7ac6b85)\" style=\"fill: #ff7f0e; opacity: 0.4\"/>\n   </g>\n   <g id=\"patch_270\">\n    <path d=\"M 617.359834 188.638125 \nL 620.357283 188.638125 \nL 620.357283 176.132862 \nL 617.359834 176.132862 \nz\n\" clip-path=\"url(#p63b7ac6b85)\" style=\"fill: #ff7f0e; opacity: 0.4\"/>\n   </g>\n   <g id=\"patch_271\">\n    <path d=\"M 620.357283 188.638125 \nL 623.354732 188.638125 \nL 623.354732 176.197993 \nL 620.357283 176.197993 \nz\n\" clip-path=\"url(#p63b7ac6b85)\" style=\"fill: #ff7f0e; opacity: 0.4\"/>\n   </g>\n   <g id=\"patch_272\">\n    <path d=\"M 623.354732 188.638125 \nL 626.352181 188.638125 \nL 626.352181 176.48023 \nL 623.354732 176.48023 \nz\n\" clip-path=\"url(#p63b7ac6b85)\" style=\"fill: #ff7f0e; opacity: 0.4\"/>\n   </g>\n   <g id=\"patch_273\">\n    <path d=\"M 626.352181 188.638125 \nL 629.34963 188.638125 \nL 629.34963 177.69602 \nL 626.352181 177.69602 \nz\n\" clip-path=\"url(#p63b7ac6b85)\" style=\"fill: #ff7f0e; opacity: 0.4\"/>\n   </g>\n   <g id=\"patch_274\">\n    <path d=\"M 629.34963 188.638125 \nL 632.34708 188.638125 \nL 632.34708 179.34602 \nL 629.34963 179.34602 \nz\n\" clip-path=\"url(#p63b7ac6b85)\" style=\"fill: #ff7f0e; opacity: 0.4\"/>\n   </g>\n   <g id=\"patch_275\">\n    <path d=\"M 632.34708 188.638125 \nL 635.344529 188.638125 \nL 635.344529 179.953914 \nL 632.34708 179.953914 \nz\n\" clip-path=\"url(#p63b7ac6b85)\" style=\"fill: #ff7f0e; opacity: 0.4\"/>\n   </g>\n   <g id=\"patch_276\">\n    <path d=\"M 635.344529 188.638125 \nL 638.341978 188.638125 \nL 638.341978 181.061151 \nL 635.344529 181.061151 \nz\n\" clip-path=\"url(#p63b7ac6b85)\" style=\"fill: #ff7f0e; opacity: 0.4\"/>\n   </g>\n   <g id=\"patch_277\">\n    <path d=\"M 638.341978 188.638125 \nL 641.339427 188.638125 \nL 641.339427 182.190099 \nL 638.341978 182.190099 \nz\n\" clip-path=\"url(#p63b7ac6b85)\" style=\"fill: #ff7f0e; opacity: 0.4\"/>\n   </g>\n   <g id=\"patch_278\">\n    <path d=\"M 641.339427 188.638125 \nL 644.336876 188.638125 \nL 644.336876 184.31773 \nL 641.339427 184.31773 \nz\n\" clip-path=\"url(#p63b7ac6b85)\" style=\"fill: #ff7f0e; opacity: 0.4\"/>\n   </g>\n   <g id=\"patch_279\">\n    <path d=\"M 644.336876 188.638125 \nL 647.334326 188.638125 \nL 647.334326 184.817072 \nL 644.336876 184.817072 \nz\n\" clip-path=\"url(#p63b7ac6b85)\" style=\"fill: #ff7f0e; opacity: 0.4\"/>\n   </g>\n   <g id=\"patch_280\">\n    <path d=\"M 647.334326 188.638125 \nL 650.331775 188.638125 \nL 650.331775 184.035493 \nL 647.334326 184.035493 \nz\n\" clip-path=\"url(#p63b7ac6b85)\" style=\"fill: #ff7f0e; opacity: 0.4\"/>\n   </g>\n   <g id=\"patch_281\">\n    <path d=\"M 650.331775 188.638125 \nL 653.329224 188.638125 \nL 653.329224 181.712467 \nL 650.331775 181.712467 \nz\n\" clip-path=\"url(#p63b7ac6b85)\" style=\"fill: #ff7f0e; opacity: 0.4\"/>\n   </g>\n   <g id=\"patch_282\">\n    <path d=\"M 653.329224 188.638125 \nL 656.326673 188.638125 \nL 656.326673 177.240099 \nL 653.329224 177.240099 \nz\n\" clip-path=\"url(#p63b7ac6b85)\" style=\"fill: #ff7f0e; opacity: 0.4\"/>\n   </g>\n   <g id=\"patch_283\">\n    <path d=\"M 656.326673 188.638125 \nL 659.324122 188.638125 \nL 659.324122 172.74602 \nL 656.326673 172.74602 \nz\n\" clip-path=\"url(#p63b7ac6b85)\" style=\"fill: #ff7f0e; opacity: 0.4\"/>\n   </g>\n   <g id=\"patch_284\">\n    <path d=\"M 659.324122 188.638125 \nL 662.321572 188.638125 \nL 662.321572 172.702599 \nL 659.324122 172.702599 \nz\n\" clip-path=\"url(#p63b7ac6b85)\" style=\"fill: #ff7f0e; opacity: 0.4\"/>\n   </g>\n   <g id=\"patch_285\">\n    <path d=\"M 662.321572 188.638125 \nL 665.319021 188.638125 \nL 665.319021 174.851941 \nL 662.321572 174.851941 \nz\n\" clip-path=\"url(#p63b7ac6b85)\" style=\"fill: #ff7f0e; opacity: 0.4\"/>\n   </g>\n   <g id=\"patch_286\">\n    <path d=\"M 665.319021 188.638125 \nL 668.31647 188.638125 \nL 668.31647 178.412467 \nL 665.319021 178.412467 \nz\n\" clip-path=\"url(#p63b7ac6b85)\" style=\"fill: #ff7f0e; opacity: 0.4\"/>\n   </g>\n   <g id=\"patch_287\">\n    <path d=\"M 668.31647 188.638125 \nL 671.313919 188.638125 \nL 671.313919 182.949967 \nL 668.31647 182.949967 \nz\n\" clip-path=\"url(#p63b7ac6b85)\" style=\"fill: #ff7f0e; opacity: 0.4\"/>\n   </g>\n   <g id=\"patch_288\">\n    <path d=\"M 671.313919 188.638125 \nL 674.311368 188.638125 \nL 674.311368 186.184836 \nL 671.313919 186.184836 \nz\n\" clip-path=\"url(#p63b7ac6b85)\" style=\"fill: #ff7f0e; opacity: 0.4\"/>\n   </g>\n   <g id=\"patch_289\">\n    <path d=\"M 674.311368 188.638125 \nL 677.308818 188.638125 \nL 677.308818 187.921678 \nL 674.311368 187.921678 \nz\n\" clip-path=\"url(#p63b7ac6b85)\" style=\"fill: #ff7f0e; opacity: 0.4\"/>\n   </g>\n   <g id=\"patch_290\">\n    <path d=\"M 677.308818 188.638125 \nL 680.306267 188.638125 \nL 680.306267 188.507862 \nL 677.308818 188.507862 \nz\n\" clip-path=\"url(#p63b7ac6b85)\" style=\"fill: #ff7f0e; opacity: 0.4\"/>\n   </g>\n   <g id=\"matplotlib.axis_5\">\n    <g id=\"xtick_9\">\n     <g id=\"line2d_27\">\n      <g>\n       <use xlink:href=\"#mcfcebc2c2a\" x=\"532.320966\" y=\"188.638125\" style=\"stroke: #000000; stroke-width: 0.8\"/>\n      </g>\n     </g>\n     <g id=\"text_29\">\n      <!-- 0.00 -->\n      <g transform=\"translate(521.188154 203.236563)scale(0.1 -0.1)\">\n       <use xlink:href=\"#DejaVuSans-30\"/>\n       <use xlink:href=\"#DejaVuSans-2e\" x=\"63.623047\"/>\n       <use xlink:href=\"#DejaVuSans-30\" x=\"95.410156\"/>\n       <use xlink:href=\"#DejaVuSans-30\" x=\"159.033203\"/>\n      </g>\n     </g>\n    </g>\n    <g id=\"xtick_10\">\n     <g id=\"line2d_28\">\n      <g>\n       <use xlink:href=\"#mcfcebc2c2a\" x=\"567.050027\" y=\"188.638125\" style=\"stroke: #000000; stroke-width: 0.8\"/>\n      </g>\n     </g>\n     <g id=\"text_30\">\n      <!-- 0.25 -->\n      <g transform=\"translate(555.917214 203.236563)scale(0.1 -0.1)\">\n       <use xlink:href=\"#DejaVuSans-30\"/>\n       <use xlink:href=\"#DejaVuSans-2e\" x=\"63.623047\"/>\n       <use xlink:href=\"#DejaVuSans-32\" x=\"95.410156\"/>\n       <use xlink:href=\"#DejaVuSans-35\" x=\"159.033203\"/>\n      </g>\n     </g>\n    </g>\n    <g id=\"xtick_11\">\n     <g id=\"line2d_29\">\n      <g>\n       <use xlink:href=\"#mcfcebc2c2a\" x=\"601.779088\" y=\"188.638125\" style=\"stroke: #000000; stroke-width: 0.8\"/>\n      </g>\n     </g>\n     <g id=\"text_31\">\n      <!-- 0.50 -->\n      <g transform=\"translate(590.646275 203.236563)scale(0.1 -0.1)\">\n       <use xlink:href=\"#DejaVuSans-30\"/>\n       <use xlink:href=\"#DejaVuSans-2e\" x=\"63.623047\"/>\n       <use xlink:href=\"#DejaVuSans-35\" x=\"95.410156\"/>\n       <use xlink:href=\"#DejaVuSans-30\" x=\"159.033203\"/>\n      </g>\n     </g>\n    </g>\n    <g id=\"xtick_12\">\n     <g id=\"line2d_30\">\n      <g>\n       <use xlink:href=\"#mcfcebc2c2a\" x=\"636.508148\" y=\"188.638125\" style=\"stroke: #000000; stroke-width: 0.8\"/>\n      </g>\n     </g>\n     <g id=\"text_32\">\n      <!-- 0.75 -->\n      <g transform=\"translate(625.375336 203.236563)scale(0.1 -0.1)\">\n       <use xlink:href=\"#DejaVuSans-30\"/>\n       <use xlink:href=\"#DejaVuSans-2e\" x=\"63.623047\"/>\n       <use xlink:href=\"#DejaVuSans-37\" x=\"95.410156\"/>\n       <use xlink:href=\"#DejaVuSans-35\" x=\"159.033203\"/>\n      </g>\n     </g>\n    </g>\n    <g id=\"xtick_13\">\n     <g id=\"line2d_31\">\n      <g>\n       <use xlink:href=\"#mcfcebc2c2a\" x=\"671.237209\" y=\"188.638125\" style=\"stroke: #000000; stroke-width: 0.8\"/>\n      </g>\n     </g>\n     <g id=\"text_33\">\n      <!-- 1.00 -->\n      <g transform=\"translate(660.104396 203.236563)scale(0.1 -0.1)\">\n       <use xlink:href=\"#DejaVuSans-31\"/>\n       <use xlink:href=\"#DejaVuSans-2e\" x=\"63.623047\"/>\n       <use xlink:href=\"#DejaVuSans-30\" x=\"95.410156\"/>\n       <use xlink:href=\"#DejaVuSans-30\" x=\"159.033203\"/>\n      </g>\n     </g>\n    </g>\n    <g id=\"text_34\">\n     <!-- acousticness -->\n     <g transform=\"translate(573.170818 216.914688)scale(0.1 -0.1)\">\n      <use xlink:href=\"#DejaVuSans-61\"/>\n      <use xlink:href=\"#DejaVuSans-63\" x=\"61.279297\"/>\n      <use xlink:href=\"#DejaVuSans-6f\" x=\"116.259766\"/>\n      <use xlink:href=\"#DejaVuSans-75\" x=\"177.441406\"/>\n      <use xlink:href=\"#DejaVuSans-73\" x=\"240.820312\"/>\n      <use xlink:href=\"#DejaVuSans-74\" x=\"292.919922\"/>\n      <use xlink:href=\"#DejaVuSans-69\" x=\"332.128906\"/>\n      <use xlink:href=\"#DejaVuSans-63\" x=\"359.912109\"/>\n      <use xlink:href=\"#DejaVuSans-6e\" x=\"414.892578\"/>\n      <use xlink:href=\"#DejaVuSans-65\" x=\"478.271484\"/>\n      <use xlink:href=\"#DejaVuSans-73\" x=\"539.794922\"/>\n      <use xlink:href=\"#DejaVuSans-73\" x=\"591.894531\"/>\n     </g>\n    </g>\n   </g>\n   <g id=\"matplotlib.axis_6\">\n    <g id=\"ytick_15\">\n     <g id=\"line2d_32\">\n      <g>\n       <use xlink:href=\"#ma13ce87ef8\" x=\"506.899449\" y=\"188.638125\" style=\"stroke: #000000; stroke-width: 0.8\"/>\n      </g>\n     </g>\n     <g id=\"text_35\">\n      <!-- 0 -->\n      <g transform=\"translate(493.536949 192.437344)scale(0.1 -0.1)\">\n       <use xlink:href=\"#DejaVuSans-30\"/>\n      </g>\n     </g>\n    </g>\n    <g id=\"ytick_16\">\n     <g id=\"line2d_33\">\n      <g>\n       <use xlink:href=\"#ma13ce87ef8\" x=\"506.899449\" y=\"165.215306\" style=\"stroke: #000000; stroke-width: 0.8\"/>\n      </g>\n     </g>\n     <g id=\"text_36\">\n      <!-- 1 -->\n      <g transform=\"translate(493.536949 169.014525)scale(0.1 -0.1)\">\n       <use xlink:href=\"#DejaVuSans-31\"/>\n      </g>\n     </g>\n    </g>\n    <g id=\"ytick_17\">\n     <g id=\"line2d_34\">\n      <g>\n       <use xlink:href=\"#ma13ce87ef8\" x=\"506.899449\" y=\"141.792487\" style=\"stroke: #000000; stroke-width: 0.8\"/>\n      </g>\n     </g>\n     <g id=\"text_37\">\n      <!-- 2 -->\n      <g transform=\"translate(493.536949 145.591706)scale(0.1 -0.1)\">\n       <use xlink:href=\"#DejaVuSans-32\"/>\n      </g>\n     </g>\n    </g>\n    <g id=\"ytick_18\">\n     <g id=\"line2d_35\">\n      <g>\n       <use xlink:href=\"#ma13ce87ef8\" x=\"506.899449\" y=\"118.369668\" style=\"stroke: #000000; stroke-width: 0.8\"/>\n      </g>\n     </g>\n     <g id=\"text_38\">\n      <!-- 3 -->\n      <g transform=\"translate(493.536949 122.168887)scale(0.1 -0.1)\">\n       <use xlink:href=\"#DejaVuSans-33\"/>\n      </g>\n     </g>\n    </g>\n    <g id=\"ytick_19\">\n     <g id=\"line2d_36\">\n      <g>\n       <use xlink:href=\"#ma13ce87ef8\" x=\"506.899449\" y=\"94.946849\" style=\"stroke: #000000; stroke-width: 0.8\"/>\n      </g>\n     </g>\n     <g id=\"text_39\">\n      <!-- 4 -->\n      <g transform=\"translate(493.536949 98.746068)scale(0.1 -0.1)\">\n       <use xlink:href=\"#DejaVuSans-34\"/>\n      </g>\n     </g>\n    </g>\n    <g id=\"ytick_20\">\n     <g id=\"line2d_37\">\n      <g>\n       <use xlink:href=\"#ma13ce87ef8\" x=\"506.899449\" y=\"71.52403\" style=\"stroke: #000000; stroke-width: 0.8\"/>\n      </g>\n     </g>\n     <g id=\"text_40\">\n      <!-- 5 -->\n      <g transform=\"translate(493.536949 75.323249)scale(0.1 -0.1)\">\n       <use xlink:href=\"#DejaVuSans-35\"/>\n      </g>\n     </g>\n    </g>\n    <g id=\"ytick_21\">\n     <g id=\"line2d_38\">\n      <g>\n       <use xlink:href=\"#ma13ce87ef8\" x=\"506.899449\" y=\"48.101211\" style=\"stroke: #000000; stroke-width: 0.8\"/>\n      </g>\n     </g>\n     <g id=\"text_41\">\n      <!-- 6 -->\n      <g transform=\"translate(493.536949 51.90043)scale(0.1 -0.1)\">\n       <use xlink:href=\"#DejaVuSans-36\"/>\n      </g>\n     </g>\n    </g>\n    <g id=\"ytick_22\">\n     <g id=\"line2d_39\">\n      <g>\n       <use xlink:href=\"#ma13ce87ef8\" x=\"506.899449\" y=\"24.678393\" style=\"stroke: #000000; stroke-width: 0.8\"/>\n      </g>\n     </g>\n     <g id=\"text_42\">\n      <!-- 7 -->\n      <g transform=\"translate(493.536949 28.477611)scale(0.1 -0.1)\">\n       <use xlink:href=\"#DejaVuSans-37\"/>\n      </g>\n     </g>\n    </g>\n    <g id=\"text_43\">\n     <!-- Density -->\n     <g transform=\"translate(487.457261 124.486719)rotate(-90)scale(0.1 -0.1)\">\n      <use xlink:href=\"#DejaVuSans-44\"/>\n      <use xlink:href=\"#DejaVuSans-65\" x=\"77.001953\"/>\n      <use xlink:href=\"#DejaVuSans-6e\" x=\"138.525391\"/>\n      <use xlink:href=\"#DejaVuSans-73\" x=\"201.904297\"/>\n      <use xlink:href=\"#DejaVuSans-69\" x=\"254.003906\"/>\n      <use xlink:href=\"#DejaVuSans-74\" x=\"281.787109\"/>\n      <use xlink:href=\"#DejaVuSans-79\" x=\"320.996094\"/>\n     </g>\n    </g>\n   </g>\n   <g id=\"line2d_40\">\n    <path d=\"M 515.85132 188.568402 \nL 517.650691 188.390967 \nL 518.550377 188.194778 \nL 519.450063 187.868033 \nL 520.349748 187.342691 \nL 521.249434 186.527479 \nL 522.149119 185.306887 \nL 523.048805 183.544097 \nL 523.948491 181.089429 \nL 524.848176 177.795255 \nL 525.747862 173.537112 \nL 526.647547 168.239066 \nL 527.547233 161.899513 \nL 529.346604 146.57694 \nL 532.045661 121.366384 \nL 532.945346 113.97112 \nL 533.845032 107.739494 \nL 534.744718 102.957048 \nL 535.644403 99.792466 \nL 536.544089 98.289012 \nL 537.443774 98.373615 \nL 538.34346 99.879441 \nL 539.243146 102.575599 \nL 540.142831 106.197412 \nL 541.942202 115.139018 \nL 544.641259 129.274124 \nL 546.44063 137.214606 \nL 547.340316 140.475321 \nL 548.240002 143.245873 \nL 549.139687 145.563244 \nL 550.039373 147.496013 \nL 551.838744 150.575745 \nL 555.437486 156.053448 \nL 558.136543 160.876192 \nL 560.8356 165.786002 \nL 562.634971 168.588761 \nL 564.434342 170.795587 \nL 566.233713 172.397145 \nL 568.033085 173.500141 \nL 569.832456 174.253672 \nL 571.631827 174.787122 \nL 574.330884 175.338641 \nL 577.029941 175.672549 \nL 580.628683 175.843348 \nL 586.026796 175.795621 \nL 591.42491 175.815792 \nL 604.020508 176.187795 \nL 607.619251 176.018854 \nL 612.117679 175.55061 \nL 616.616107 175.141745 \nL 619.315163 175.133068 \nL 622.01422 175.387023 \nL 624.713277 175.929065 \nL 627.412334 176.724482 \nL 631.910762 178.368328 \nL 641.807303 182.209059 \nL 643.606674 182.573707 \nL 645.406046 182.611554 \nL 647.205417 182.237264 \nL 649.004788 181.415644 \nL 650.804159 180.1842 \nL 653.503216 177.854199 \nL 656.202273 175.58963 \nL 658.001644 174.523741 \nL 658.90133 174.201679 \nL 659.801015 174.042609 \nL 660.700701 174.054787 \nL 661.600386 174.23929 \nL 662.500072 174.590334 \nL 663.399758 175.096024 \nL 665.199129 176.499638 \nL 666.9985 178.275428 \nL 672.396613 183.913217 \nL 674.195985 185.388752 \nL 675.995356 186.535516 \nL 677.794727 187.36066 \nL 679.594098 187.910509 \nL 681.393469 188.250046 \nL 684.092526 188.504839 \nL 688.590954 188.622395 \nL 694.888753 188.637797 \nL 694.888753 188.637797 \n\" clip-path=\"url(#p63b7ac6b85)\" style=\"fill: none; stroke: #1f77b4; stroke-width: 1.5; stroke-linecap: square\"/>\n   </g>\n   <g id=\"line2d_41\">\n    <path d=\"M 516.875906 188.580737 \nL 518.654683 188.416343 \nL 519.544071 188.225253 \nL 520.433459 187.896846 \nL 521.322847 187.354389 \nL 522.212236 186.49347 \nL 523.101624 185.181128 \nL 523.991012 183.260535 \nL 524.8804 180.563365 \nL 525.769789 176.930909 \nL 526.659177 172.242915 \nL 527.548565 166.450465 \nL 528.437953 159.606511 \nL 530.21673 143.589047 \nL 531.995506 126.946315 \nL 532.884895 119.542903 \nL 533.774283 113.32926 \nL 534.663671 108.617956 \nL 535.553059 105.581608 \nL 536.442448 104.245332 \nL 537.331836 104.503405 \nL 538.221224 106.153005 \nL 539.110612 108.934672 \nL 540.000001 112.569481 \nL 541.778777 121.336971 \nL 544.446942 134.948061 \nL 546.225718 142.476057 \nL 547.115107 145.505721 \nL 548.004495 148.022098 \nL 548.893883 150.061292 \nL 549.783271 151.695801 \nL 551.562048 154.153531 \nL 554.230213 157.330523 \nL 556.008989 159.820429 \nL 558.677154 163.790343 \nL 559.566542 164.854365 \nL 560.45593 165.60071 \nL 561.345319 165.909553 \nL 562.234707 165.674743 \nL 563.124095 164.821539 \nL 564.013483 163.326287 \nL 564.902872 161.234661 \nL 566.681648 155.851593 \nL 568.460425 150.56085 \nL 569.349813 148.705662 \nL 570.239201 147.725803 \nL 571.128589 147.771957 \nL 572.017978 148.872314 \nL 572.907366 150.929292 \nL 573.796754 153.739377 \nL 577.354307 167.01368 \nL 578.243695 169.684416 \nL 579.133083 171.859389 \nL 580.022472 173.540803 \nL 580.91186 174.776904 \nL 581.801248 175.641599 \nL 582.690636 176.216726 \nL 583.580025 176.57937 \nL 585.358801 176.913573 \nL 588.026966 177.009928 \nL 593.363295 177.148531 \nL 600.478401 177.437142 \nL 605.814731 177.389134 \nL 609.372284 177.144388 \nL 617.376778 176.407355 \nL 620.044943 176.449164 \nL 622.713108 176.738935 \nL 625.381272 177.295189 \nL 628.938825 178.358703 \nL 635.164543 180.543268 \nL 641.390261 182.821269 \nL 643.169037 183.253311 \nL 644.947814 183.413566 \nL 646.72659 183.207251 \nL 648.505367 182.578598 \nL 650.284143 181.534447 \nL 652.06292 180.159222 \nL 656.509861 176.481298 \nL 658.288637 175.5242 \nL 659.178026 175.257372 \nL 660.067414 175.150504 \nL 660.956802 175.208857 \nL 661.84619 175.43057 \nL 662.735579 175.807279 \nL 664.514355 176.966073 \nL 666.293132 178.531163 \nL 672.518849 184.616352 \nL 674.297626 185.931798 \nL 676.076402 186.931479 \nL 677.855179 187.631656 \nL 679.633955 188.083775 \nL 682.30212 188.439208 \nL 685.859673 188.59878 \nL 693.864167 188.637843 \nL 693.864167 188.637843 \n\" clip-path=\"url(#p63b7ac6b85)\" style=\"fill: none; stroke: #ff7f0e; stroke-width: 1.5; stroke-linecap: square\"/>\n   </g>\n   <g id=\"patch_291\">\n    <path d=\"M 506.899449 188.638125 \nL 506.899449 22.318125 \n\" style=\"fill: none; stroke: #000000; stroke-width: 0.8; stroke-linejoin: miter; stroke-linecap: square\"/>\n   </g>\n   <g id=\"patch_292\">\n    <path d=\"M 703.840625 188.638125 \nL 703.840625 22.318125 \n\" style=\"fill: none; stroke: #000000; stroke-width: 0.8; stroke-linejoin: miter; stroke-linecap: square\"/>\n   </g>\n   <g id=\"patch_293\">\n    <path d=\"M 506.899449 188.638125 \nL 703.840625 188.638125 \n\" style=\"fill: none; stroke: #000000; stroke-width: 0.8; stroke-linejoin: miter; stroke-linecap: square\"/>\n   </g>\n   <g id=\"patch_294\">\n    <path d=\"M 506.899449 22.318125 \nL 703.840625 22.318125 \n\" style=\"fill: none; stroke: #000000; stroke-width: 0.8; stroke-linejoin: miter; stroke-linecap: square\"/>\n   </g>\n   <g id=\"text_44\">\n    <!-- Mean -->\n    <g transform=\"translate(589.021912 16.318125)scale(0.12 -0.12)\">\n     <defs>\n      <path id=\"DejaVuSans-4d\" d=\"M 628 4666 \nL 1569 4666 \nL 2759 1491 \nL 3956 4666 \nL 4897 4666 \nL 4897 0 \nL 4281 0 \nL 4281 4097 \nL 3078 897 \nL 2444 897 \nL 1241 4097 \nL 1241 0 \nL 628 0 \nL 628 4666 \nz\n\" transform=\"scale(0.015625)\"/>\n     </defs>\n     <use xlink:href=\"#DejaVuSans-4d\"/>\n     <use xlink:href=\"#DejaVuSans-65\" x=\"86.279297\"/>\n     <use xlink:href=\"#DejaVuSans-61\" x=\"147.802734\"/>\n     <use xlink:href=\"#DejaVuSans-6e\" x=\"209.082031\"/>\n    </g>\n   </g>\n   <g id=\"legend_1\">\n    <g id=\"patch_295\">\n     <path d=\"M 623.214063 59.674375 \nL 696.840625 59.674375 \nQ 698.840625 59.674375 698.840625 57.674375 \nL 698.840625 29.318125 \nQ 698.840625 27.318125 696.840625 27.318125 \nL 623.214063 27.318125 \nQ 621.214063 27.318125 621.214063 29.318125 \nL 621.214063 57.674375 \nQ 621.214063 59.674375 623.214063 59.674375 \nz\n\" style=\"fill: #ffffff; opacity: 0.8; stroke: #cccccc; stroke-linejoin: miter\"/>\n    </g>\n    <g id=\"patch_296\">\n     <path d=\"M 625.214063 38.916562 \nL 645.214063 38.916562 \nL 645.214063 31.916562 \nL 625.214063 31.916562 \nz\n\" style=\"fill: #1f77b4; opacity: 0.4\"/>\n    </g>\n    <g id=\"text_45\">\n     <!-- data -->\n     <g transform=\"translate(653.214063 38.916562)scale(0.1 -0.1)\">\n      <defs>\n       <path id=\"DejaVuSans-64\" d=\"M 2906 2969 \nL 2906 4863 \nL 3481 4863 \nL 3481 0 \nL 2906 0 \nL 2906 525 \nQ 2725 213 2448 61 \nQ 2172 -91 1784 -91 \nQ 1150 -91 751 415 \nQ 353 922 353 1747 \nQ 353 2572 751 3078 \nQ 1150 3584 1784 3584 \nQ 2172 3584 2448 3432 \nQ 2725 3281 2906 2969 \nz\nM 947 1747 \nQ 947 1113 1208 752 \nQ 1469 391 1925 391 \nQ 2381 391 2643 752 \nQ 2906 1113 2906 1747 \nQ 2906 2381 2643 2742 \nQ 2381 3103 1925 3103 \nQ 1469 3103 1208 2742 \nQ 947 2381 947 1747 \nz\n\" transform=\"scale(0.015625)\"/>\n      </defs>\n      <use xlink:href=\"#DejaVuSans-64\"/>\n      <use xlink:href=\"#DejaVuSans-61\" x=\"63.476562\"/>\n      <use xlink:href=\"#DejaVuSans-74\" x=\"124.755859\"/>\n      <use xlink:href=\"#DejaVuSans-61\" x=\"163.964844\"/>\n     </g>\n    </g>\n    <g id=\"patch_297\">\n     <path d=\"M 625.214063 53.594687 \nL 645.214063 53.594687 \nL 645.214063 46.594687 \nL 625.214063 46.594687 \nz\n\" style=\"fill: #ff7f0e; opacity: 0.4\"/>\n    </g>\n    <g id=\"text_46\">\n     <!-- imputed -->\n     <g transform=\"translate(653.214063 53.594687)scale(0.1 -0.1)\">\n      <defs>\n       <path id=\"DejaVuSans-6d\" d=\"M 3328 2828 \nQ 3544 3216 3844 3400 \nQ 4144 3584 4550 3584 \nQ 5097 3584 5394 3201 \nQ 5691 2819 5691 2113 \nL 5691 0 \nL 5113 0 \nL 5113 2094 \nQ 5113 2597 4934 2840 \nQ 4756 3084 4391 3084 \nQ 3944 3084 3684 2787 \nQ 3425 2491 3425 1978 \nL 3425 0 \nL 2847 0 \nL 2847 2094 \nQ 2847 2600 2669 2842 \nQ 2491 3084 2119 3084 \nQ 1678 3084 1418 2786 \nQ 1159 2488 1159 1978 \nL 1159 0 \nL 581 0 \nL 581 3500 \nL 1159 3500 \nL 1159 2956 \nQ 1356 3278 1631 3431 \nQ 1906 3584 2284 3584 \nQ 2666 3584 2933 3390 \nQ 3200 3197 3328 2828 \nz\n\" transform=\"scale(0.015625)\"/>\n       <path id=\"DejaVuSans-70\" d=\"M 1159 525 \nL 1159 -1331 \nL 581 -1331 \nL 581 3500 \nL 1159 3500 \nL 1159 2969 \nQ 1341 3281 1617 3432 \nQ 1894 3584 2278 3584 \nQ 2916 3584 3314 3078 \nQ 3713 2572 3713 1747 \nQ 3713 922 3314 415 \nQ 2916 -91 2278 -91 \nQ 1894 -91 1617 61 \nQ 1341 213 1159 525 \nz\nM 3116 1747 \nQ 3116 2381 2855 2742 \nQ 2594 3103 2138 3103 \nQ 1681 3103 1420 2742 \nQ 1159 2381 1159 1747 \nQ 1159 1113 1420 752 \nQ 1681 391 2138 391 \nQ 2594 391 2855 752 \nQ 3116 1113 3116 1747 \nz\n\" transform=\"scale(0.015625)\"/>\n      </defs>\n      <use xlink:href=\"#DejaVuSans-69\"/>\n      <use xlink:href=\"#DejaVuSans-6d\" x=\"27.783203\"/>\n      <use xlink:href=\"#DejaVuSans-70\" x=\"125.195312\"/>\n      <use xlink:href=\"#DejaVuSans-75\" x=\"188.671875\"/>\n      <use xlink:href=\"#DejaVuSans-74\" x=\"252.050781\"/>\n      <use xlink:href=\"#DejaVuSans-65\" x=\"291.259766\"/>\n      <use xlink:href=\"#DejaVuSans-64\" x=\"352.783203\"/>\n     </g>\n    </g>\n   </g>\n  </g>\n </g>\n <defs>\n  <clipPath id=\"pe6b6793424\">\n   <rect x=\"34.240625\" y=\"22.318125\" width=\"196.941176\" height=\"166.32\"/>\n  </clipPath>\n  <clipPath id=\"p59c3a46ba7\">\n   <rect x=\"270.570037\" y=\"22.318125\" width=\"196.941176\" height=\"166.32\"/>\n  </clipPath>\n  <clipPath id=\"p63b7ac6b85\">\n   <rect x=\"506.899449\" y=\"22.318125\" width=\"196.941176\" height=\"166.32\"/>\n  </clipPath>\n </defs>\n</svg>\n",
      "text/plain": [
       "<Figure size 1200x300 with 3 Axes>"
      ]
     },
     "metadata": {},
     "output_type": "display_data"
    }
   ],
   "source": [
    "import seaborn as sns\n",
    "\n",
    "fig, ax = plt.subplots(1, 3, figsize=(12, 3))\n",
    "sns.distplot(tt[FEATURES].acousticness, ax=ax[0], label=\"data\")\n",
    "sns.distplot(knn_imputed_df.acousticness, ax=ax[0], label=\"imputed\")\n",
    "ax[0].set_title(\"KNN\")\n",
    "\n",
    "sns.distplot(tt[FEATURES].acousticness, ax=ax[1], label=\"data\")\n",
    "sns.distplot(xgb_imputed_df.acousticness, ax=ax[1], label=\"imputed\")\n",
    "ax[1].set_title(\"XGBoost\")\n",
    "\n",
    "sns.distplot(tt[FEATURES].acousticness, ax=ax[2], label=\"data\")\n",
    "sns.distplot(tt_simple_imputed.acousticness, ax=ax[2], label=\"imputed\")\n",
    "ax[2].set_title(\"Mean\")\n",
    "ax[2].legend();"
   ]
  },
  {
   "cell_type": "markdown",
   "metadata": {},
   "source": [
    "KNN follows the existing distribution most closely, while XGBoost imputation allows for a little variation (which may be desirable). For the simple imputer, all imputed data concentrates on a single point which here is the mean of the known values. In general, its better to use median imputer for skewed distributions (a few extreme values can bias the mean)."
   ]
  },
  {
   "cell_type": "markdown",
   "metadata": {},
   "source": [
    "## What imputer to choose?\n",
    "\n",
    "Test on your cross-validation folds! Always test everything in your cross-validation scheme and choose the best method. Not necessarily what you think is the most complicated. The philosophy is that since the dataset is too complex, there no straightforward way to know *a priori* which method will work best, so we take an experimental approach. GM Bojan Tunguz expresses this nicely in [his blog post](https://medium.com/@tunguz/about-those-transformers-for-tabular-data-116c13c36a5c) about [transformers for tabular data](https://keras.io/examples/structured_data/tabtransformer/):\n",
    "\n",
    "> There is a tendency in certain parts of the ML world to equate technical virtuosity with the quality of ML modeling. Unfortunately, this ethos is especially prevelant (*sic*) in the cautting (*sic*) edge tech sector. It cannot be emphasized strongly enough that this is a misguided attitude at best, and can lead to downright inferior models [...].\n"
   ]
  },
  {
   "cell_type": "markdown",
   "metadata": {},
   "source": []
  }
 ],
 "metadata": {
  "interpreter": {
   "hash": "a55a0d1272a360f93e747858d443ec26da69f69eac36db3e567a961ca624a861"
  },
  "kernelspec": {
   "display_name": "Python 3.8.12 ('ml')",
   "language": "python",
   "name": "python3"
  },
  "language_info": {
   "codemirror_mode": {
    "name": "ipython",
    "version": 3
   },
   "file_extension": ".py",
   "mimetype": "text/x-python",
   "name": "python",
   "nbconvert_exporter": "python",
   "pygments_lexer": "ipython3",
   "version": "3.8.12"
  },
  "orig_nbformat": 4
 },
 "nbformat": 4,
 "nbformat_minor": 2
}
