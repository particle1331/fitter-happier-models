{
 "cells": [
  {
   "cell_type": "markdown",
   "metadata": {},
   "source": [
    "# Backpropagation on DAGs"
   ]
  },
  {
   "cell_type": "markdown",
   "metadata": {},
   "source": [
    "![Status](https://img.shields.io/static/v1.svg?label=Status&message=Finished&color=brightgreen)\n",
    "[![Source](https://img.shields.io/static/v1.svg?label=GitHub&message=Source&color=181717&logo=GitHub)](https://github.com/particle1331/inefficient-networks/blob/master/docs/notebooks/fundamentals/backpropagation.ipynb)\n",
    "[![Stars](https://img.shields.io/github/stars/particle1331/inefficient-networks?style=social)](https://github.com/particle1331/inefficient-networks)\n",
    "\n",
    "\n",
    "---\n",
    "\n",
    "## Introduction"
   ]
  },
  {
   "cell_type": "markdown",
   "metadata": {},
   "source": [
    "In this notebook, we will look at **backpropagation** (BP) on computational **directed acyclic graphs** (DAG). Our main result is that a training step for a single data point (consisting of both a forward and a backward pass) has a time complexity that is linear in the number of edges of the graph. This result is interesting since it turns out that neural networks are fundamentally just computational DAGs.\n",
    "\n",
    "<!-- In the last section, we take a closer look at the implementation of `.backward` in PyTorch. -->\n",
    "\n",
    "**References**\n",
    "* [Evaluating $\\nabla f(x)$ is as fast as $f(x)$](https://timvieira.github.io/blog/post/2016/09/25/evaluating-fx-is-as-fast-as-fx/)\n",
    "* [Back-propagation, an introduction](http://www.offconvex.org/2016/12/20/backprop/)\n",
    "* [PyTorch Autograd Explained - In-depth Tutorial](https://www.youtube.com/watch?v=MswxJw-8PvE)\n",
    "* [Topological Sort of Directed Acyclic Graphs](https://www.baeldung.com/cs/dag-topological-sort)\n",
    "* [The spelled-out intro to neural networks and backpropagation: building micrograd](https://www.youtube.com/watch?v=VMj-3S1tku0)"
   ]
  },
  {
   "cell_type": "markdown",
   "metadata": {},
   "source": [
    "## Gradient descent on the loss surface"
   ]
  },
  {
   "cell_type": "markdown",
   "metadata": {},
   "source": [
    "For every data point $(\\mathbf x, y)$, the loss function $\\mathcal L$ assigns a nonnegative number $\\mathcal L(y, f_{\\boldsymbol \\Theta}(\\mathbf x))$ that approaches zero whenever the predictions $f_{\\boldsymbol \\Theta}(\\mathbf x)$ approach the target values $y$. Given the current parameters $\\boldsymbol \\Theta \\in \\mathbb R^d$ of a neural network $f,$ we can imagine the network to be at a certain point $(\\boldsymbol \\Theta, \\mathcal L_{\\mathcal X}(\\boldsymbol \\Theta))$ on a surface in $\\mathbb R^d \\times \\mathbb R$ where $\\mathcal L_{\\mathcal X}(\\boldsymbol \\Theta)$ is the average loss over the dataset:\n",
    "\n",
    "$$\n",
    "\\mathcal L_{\\mathcal X}(\\boldsymbol \\Theta) = \\frac{1}{|\\mathcal X|} \\sum_{(\\mathbf x, y) \\in \\mathcal X} \\mathcal L(y, f_{\\boldsymbol \\Theta}(\\mathbf x)).\n",
    "$$\n",
    "\n",
    "The empirical loss acts as an almost-everywhere differentiable surrogate to the true objective (e.g. a non-differentiable metric such as accuracy). This will generally vary for each sample, hence the subscript. Nevertheless, we except these surfaces to be very similar assuming the samples are drawn from the same distribution. Training a neural network is equivalent to finding the minimum of this surface. The first derivatives give us information about the local slope of the surface which we can use to make the first-order approximation \n",
    "\n",
    "$$\\Delta \\mathcal L_{\\mathcal X} \\approx  \\sum_k \\left(\\frac{\\partial \\mathcal L_{\\mathcal X}}{ \\partial \\Theta_k} \\right)  \\Delta \\Theta_k = \\left(\\nabla_{\\boldsymbol \\Theta}\\, \\mathcal L_{\\mathcal X}\\right) \\cdot \\Delta {\\boldsymbol\\Theta}.$$ \n",
    "\n",
    "Then, the direction of steepest descent at the current point in the surface is $-\\nabla_{\\boldsymbol \\Theta}\\, \\mathcal L_{\\mathcal X}.$ So the update rule used for network weights is $\\boldsymbol \\Theta \\leftarrow \\boldsymbol \\Theta - \\varepsilon \\nabla_{\\boldsymbol \\Theta}\\, \\mathcal L_\n",
    "{\\mathcal X}$ where $\\varepsilon > 0$ called the learning rate is a constant that controls the step size. Since this uses a fixed factor for all directions, the resulting weights can potentially overshoot the minimum in some directions. This explains why second-order methods which uses second derivatives, i.e. the [Hessian](https://en.wikipedia.org/wiki/Hessian_matrix), to measure local surface curvature are used. Since this is impractical to compute for large number of weights, the approach used in practice is to instead use [adaptive learning rates](https://particle1331.github.io/inefficient-networks/notebooks/tensorflow/04-tensorflow-optim-init.html#optimization-algorithms).\n",
    "\n",
    "**Remark.** Note that since the loss is a sum over pointwise losses, it suffices to compute gradients for loss surfaces generated by a single input-output pair $(\\mathbf x, y) \\in \\mathcal X$ to compute the gradient of the empirical loss over $\\mathcal X$ by linearity of $\\nabla_{\\boldsymbol \\Theta}.$\n",
    "\n",
    "\n",
    "```{figure} ../../img/loss_surface_resnet.png\n",
    "---\n",
    "name: loss-surface-resnet\n",
    "width: 35em\n",
    "---\n",
    "Loss surface for ResNet-56 with or without skip connections. Much of deep learning research is dedicated to studying the geometry of loss surfaces and its effect on optimization. {cite}`arxiv.1712.09913`\n",
    "```\n",
    "\n"
   ]
  },
  {
   "cell_type": "markdown",
   "metadata": {},
   "source": [
    "```{margin}\n",
    "**The need for efficient BP**\n",
    "```\n",
    "\n",
    "Observe that $\\nabla_{\\boldsymbol \\Theta}\\, \\mathcal L_{\\mathcal X}$ consists of partial derivatives for each weight in the network which can easily number in millions. Thus, we will perform computation of derivatives in an efficient way for this training with gradient-based methods to be feasible. It turns out that we can perform this with time complexity that is linear with the number of weights. Furthermore, the development of sophisticated hardware for parallel computation (e.g. GPUs) has reduced training time by a significant factor, resulting in the viability of neural network models for pratical uses."
   ]
  },
  {
   "cell_type": "markdown",
   "metadata": {},
   "source": [
    "## Backpropagation on computational graphs"
   ]
  },
  {
   "cell_type": "markdown",
   "metadata": {},
   "source": [
    "A neural network can be modelled as a directed acyclic graph (DAG) of compute and parameter nodes that implements a function $f$ and can be extended to implement the calculation of the loss value for each training example and parameter values. Note that we can always perturb the value of the loss node at the current state of the graph (i.e. the current values of its nodes) by perturbing the values in each node. This results in perturbations flowing up to the final loss node. Assuming each computation is differentiable, we can compute the partial derivative of the loss with respect to each graph node. In this section, we will look at an algorithm for computing partial derivatives of computational graphs.\n",
    "\n",
    "Our computational DAGs will consist of **compute nodes** and **parameter nodes**. A compute node simply implements a function of values of nodes that are directed to it. This doesn't have to implement atomic functions. In fact, we will implement compute nodes at various levels of abstraction. The choice generally depends on design considerations. On the other hand, parameter nodes simply store values which ultimately determines the function $f.$ Hence, our goal is to modify the parameter node values that minimizes the empirical loss.\n",
    "\n",
    "We will use the fundamental property of DAGs that it has a **topological sorting**. Observe that a DAG always has a node that has no outgoing edges (just follow a path until the last node). For our purposes, we know that this is precisely the loss node of our graph. Then, we can perform [BFS](https://en.wikipedia.org/wiki/Breadth-first_search) starting with the loss node to determine the \"layers\" of the DAG, i.e. the order index of each node in the topological sorting."
   ]
  },
  {
   "cell_type": "markdown",
   "metadata": {},
   "source": [
    "```{figure} ../../img/compute.svg\n",
    "---\n",
    "width: 30%\n",
    "name: compute\n",
    "---\n",
    "Compute and parameter node as input to another compute node. Note that parameter nodes always have zero fan-in.\n",
    "```"
   ]
  },
  {
   "cell_type": "markdown",
   "metadata": {},
   "source": [
    "### Forward pass\n",
    "\n",
    "To compute $f(\\mathbf x)$, the input $\\mathbf x$ is passed to the input nodes, then all compute nodes are executed up to the loss node following the directions and operations specified by the nodes and their edges. Note that node executions can occur asynchronously, e.g. in parallel. Moreover, each compute node is executed exactly once with the output value stored in the node. This will preserve the current network state for backward pass, and avoids any recomputation for nodes in the next layer. So assuming a node with $n$ inputs executes $n$ operations, then one forward pass takes $\\mathcal{O}(E)$ calculations were $E$ is the number of edges of the graph. For neural networks the number of edges is proportional to the number of weights and activation units of the network."
   ]
  },
  {
   "cell_type": "markdown",
   "metadata": {},
   "source": [
    "### Backward pass\n",
    "\n",
    "During backward pass gradients are categorized into two types: **local gradients** which are derivatives between adjacent nodes, and derivatives of the loss with respect to the node called **backpropagated gradients** since it is propagated backward from the loss node into the current node. Recall from above that our goal is to calculate the backpropagated gradient of the loss with respect to each parameter node.\n",
    "\n",
    "**BP proceeds recursively.** We will assume that the graph has been topologically sorted. For neural networks, there is no need to do this since we already have a natural ordering defined by the layers. \n",
    "For the base step, the gradient of the compute node for the loss is set to $1$ (i.e. its derivative with itself) and stored in memory. Iterating backwards in the sorted list of nodes, we know that the backpropagated gradient for each compute node $v$ that depends on $u$ is already stored. Moreover, all local gradients between $u$ and $v$ are [computable at runtime](https://en.wikipedia.org/wiki/Automatic_differentiation). Then, the backpropagated gradient with respect to node $u$ can be calculated using the chain rule:\n",
    "\n",
    "$$\n",
    "{\\frac{\\partial\\mathcal L}{\\partial u} } = \\sum_{ {v} } \\left( {{\\frac{\\partial\\mathcal L}{\\partial v}}} \\right) \\left( {{\\frac{\\partial{v}}{\\partial u}}} \\right).\n",
    "$$"
   ]
  },
  {
   "cell_type": "markdown",
   "metadata": {},
   "source": [
    "Note that gradient type is distinguished by color in the figure below:\n"
   ]
  },
  {
   "cell_type": "markdown",
   "metadata": {},
   "source": [
    "```{figure} ../../img/backward-1.svg\n",
    "---\n",
    "width: 80%\n",
    "name: backward-1\n",
    "---\n",
    "Computing the backpropagated gradient for a single node.\n",
    "```"
   ]
  },
  {
   "cell_type": "markdown",
   "metadata": {},
   "source": [
    "This can be visualized as gradients \"flowing\" to each network node from the loss node. Observe that the flow of gradients end on parameter nodes since these nodes have zero fan-in. Here the partial derivatives are evaluated on the current network state with values obtained during forward pass. Hence, forward pass should always precede backward pass. Moreover, as required by the algorithm all backpropagated gradients are stored in each compute node for use by the next layer. Memory can be released after the weights are updated. On the other hand, there is no need to store local gradients; these are computed as needed. \n",
    "    \n",
    "**Remark.** BP is a useful tool for understanding how derivatives flow through a model. This can be extremely helpful in reasoning about why some models are difficult to optimize. Classic examples are vanishing or exploding gradients as we go into deeper layers of the network."
   ]
  },
  {
   "cell_type": "markdown",
   "metadata": {},
   "source": [
    "### Backpropagation algorithm"
   ]
  },
  {
   "cell_type": "markdown",
   "metadata": {},
   "source": [
    "Now that we know how to compute each backpropagated gradient, we can implement this as a method `u.backward()` for each node `u` that sends the gradient of the loss with respect to `u` to all nodes that depend on it. Every backpropagated gradient that is sent to a node is accumulated in a sum. Hence, we have to zero it out at the start of every trainng step.\n",
    "\n",
    "```python\n",
    "class CompGraph:\n",
    "    # ...\n",
    "\n",
    "    def forward(self, inputs):\n",
    "        self.graph.input_nodes.pass(inputs)\n",
    "        \n",
    "        for node in self.graph.nodes_toposorted():\n",
    "            node.forward()\n",
    "\n",
    "\n",
    "    def backward():\n",
    "        for node in self.nodes():\n",
    "            node.grad = 0\n",
    "\n",
    "        for node in reversed(self.graph.nodes_toposorted()):\n",
    "            node.backward()\n",
    "\n",
    "```"
   ]
  },
  {
   "cell_type": "markdown",
   "metadata": {},
   "source": [
    "<br>"
   ]
  },
  {
   "cell_type": "markdown",
   "metadata": {},
   "source": [
    "Properties of the algorithm which makes it the practical choice for training huge neural networks are:"
   ]
  },
  {
   "cell_type": "markdown",
   "metadata": {},
   "source": [
    "* **Modularity.** For neural networks, the dependence only on nodes belonging to the upper layer suggests a modularity in implementing neural networks, i.e. we can connect DAG subnetworks with possibly distinct network architectures by only connecting outermost nodes that are exposed between layers.\n",
    "\n",
    "<br>\n",
    "\n",
    "* **Efficiency.** Iterating over all nodes in the network during backward pass covers all the edges in the network with no edge counted twice. Assuming computing local gradients take constant time, then backward pass requires ${\\mathcal O}(E)$ computations. For neural networks this is proportional to the number of neurons and parameters (i.e. the network size). Furthermore, the chain rule between nodes on the same layer and nodes in the upper layer of a network can be implemented as matrix multiplication for which there exist [highly optimized implementations](https://en.wikipedia.org/wiki/Basic_Linear_Algebra_Subprograms). This is done in the next section."
   ]
  },
  {
   "cell_type": "markdown",
   "metadata": {},
   "source": [
    "## Creating and training a neural net from scratch"
   ]
  },
  {
   "cell_type": "code",
   "execution_count": 3,
   "metadata": {},
   "outputs": [],
   "source": [
    "import math\n",
    "import random\n",
    "import numpy as np\n",
    "import matplotlib.pyplot as plt"
   ]
  },
  {
   "cell_type": "markdown",
   "metadata": {},
   "source": [
    "In this section, we will attempt an implementation of an actual computational graph with nodes that implement `backward`."
   ]
  },
  {
   "cell_type": "code",
   "execution_count": 4,
   "metadata": {},
   "outputs": [],
   "source": [
    "class Node:\n",
    "    def __init__(self, data, label='', _parents=(), _op=''):\n",
    "        self.data = data\n",
    "        self.label = label\n",
    "        self.grad = 0\n",
    "        self._op = _op\n",
    "        self._parents = _parents\n",
    "\n",
    "    def __repr__(self):\n",
    "        return f\"Node(data={self.data}, label={self.label}, grad={self.grad})\"\n",
    "\n",
    "    def backward(self):\n",
    "        pass\n",
    "\n",
    "    def forward(self):\n",
    "        pass\n",
    "\n",
    "    def __add__(self, other):\n",
    "        return BinaryOpNode(self, other, _op='+')\n",
    "\n",
    "    def __sub__(self, other):\n",
    "        return BinaryOpNode(self, other, _op='-')\n",
    "\n",
    "    def __mul__(self, other):\n",
    "        return BinaryOpNode(self, other, _op='*')\n",
    "\n",
    "    def __pow__(self, n):\n",
    "        assert isinstance(n, int)\n",
    "        assert n > 1\n",
    "        return PowOp(self, n)\n",
    "\n",
    "    def relu(self):\n",
    "        return ReLUNode(self)\n",
    "\n",
    "    def tanh(self):\n",
    "        return TanhNode(self)\n",
    "\n",
    "\n",
    "class BinaryOpNode(Node):\n",
    "    def __init__(self, x, y, _op='', label=None):\n",
    "\n",
    "        if not label:\n",
    "            label = f'({x.label}{_op}{y.label})'\n",
    "\n",
    "        super().__init__(..., label, (x, y), _op)\n",
    "        self.forward() # Note deferred initialization\n",
    "\n",
    "    def backward(self):\n",
    "        \"\"\"Pushing global gradient to child nodes \n",
    "        scaled with resp. local derivative (chain rule).\"\"\"\n",
    "        \n",
    "        if self._op == '+':\n",
    "            x, y = self._parents\n",
    "            x.grad += self.grad * 1.0\n",
    "            y.grad += self.grad * 1.0\n",
    "            x.backward()\n",
    "            y.backward()\n",
    "        \n",
    "        elif self._op == '-':\n",
    "            x, y = self._parents\n",
    "            x.grad += self.grad * 1.0\n",
    "            y.grad -= self.grad * 1.0\n",
    "            x.backward()\n",
    "            y.backward()\n",
    "        \n",
    "        elif self._op == '*':\n",
    "            x, y = self._parents\n",
    "            x.grad += self.grad * y.data\n",
    "            y.grad += self.grad * x.data\n",
    "            x.backward()\n",
    "            y.backward()\n",
    "\n",
    "    def forward(self):\n",
    "        \"\"\"Push values of parents to node.\"\"\"\n",
    "\n",
    "        if self._op == '+':\n",
    "            x, y = self._parents\n",
    "            self.data = x.data + y.data\n",
    "        \n",
    "        elif self._op == '-':\n",
    "            x, y = self._parents\n",
    "            self.data = x.data - y.data\n",
    "        \n",
    "        elif self._op == '*':\n",
    "            x, y = self._parents\n",
    "            self.data = x.data * y.data\n",
    "            \n",
    "\n",
    "class ReLUNode(Node):\n",
    "    def __init__(self, x):\n",
    "        super().__init__(..., f'relu({x.label})', (x,), 'relu')\n",
    "        self.forward()\n",
    "\n",
    "    def backward(self):\n",
    "        \"\"\"Pushing global gradient to child node\n",
    "        scaled with local derivative (chain rule).\"\"\"\n",
    "        \n",
    "        x = self._parents[0]\n",
    "        x.grad += self.grad * float(x.data > 0)\n",
    "        x.backward()\n",
    "\n",
    "    def forward(self):\n",
    "        \"\"\"Push values of parents to node.\"\"\"\n",
    "\n",
    "        x = self._parents[0]\n",
    "        self.data = x.data * int(x.data > 0.0)\n",
    "\n",
    "\n",
    "class TanhNode(Node):\n",
    "    def __init__(self, x):\n",
    "        super().__init__(..., f'tanh({x.label})', (x,), 'tanh')\n",
    "        self.forward()\n",
    "\n",
    "    def backward(self):\n",
    "        \"\"\"Pushing global gradient to child node\n",
    "        scaled with local derivative (chain rule).\"\"\"\n",
    "        \n",
    "        x = self._parents[0]\n",
    "        x.grad += self.grad * (1 - math.tanh(x.data)**2)\n",
    "        x.backward()\n",
    "\n",
    "    def forward(self):\n",
    "        \"\"\"Push values of parents to node.\"\"\"\n",
    "\n",
    "        x = self._parents[0]\n",
    "        self.data = math.tanh(x.data)\n",
    "        x.forward()\n",
    "\n",
    "\n",
    "class PowOp(Node):\n",
    "    def __init__(self, x, n):\n",
    "        self.n = n\n",
    "        super().__init__(..., f'({x.label})**{self.n}', (x,), 'pow')\n",
    "        self.forward()\n",
    "\n",
    "    def backward(self):\n",
    "        \"\"\"Pushing global gradient to child node\n",
    "        scaled with local derivative (chain rule).\"\"\"\n",
    "        \n",
    "        x = self._parents[0]\n",
    "        x.grad += self.grad * self.n * x.data ** (self.n-1)\n",
    "        x.backward()\n",
    "\n",
    "\n",
    "    def forward(self):\n",
    "        \"\"\"Push values of parents to node.\"\"\"\n",
    "\n",
    "        x = self._parents[0]\n",
    "        self.data = x.data ** self.n\n"
   ]
  },
  {
   "cell_type": "markdown",
   "metadata": {},
   "source": [
    "To visualize networks, we will use `graphviz`:"
   ]
  },
  {
   "cell_type": "code",
   "execution_count": 5,
   "metadata": {},
   "outputs": [],
   "source": [
    "# https://github.com/karpathy/micrograd/blob/master/trace_graph.ipynb\n",
    "from graphviz import Digraph\n",
    "\n",
    "\n",
    "def trace(root):\n",
    "    \"\"\"Builds a set of all nodes and edges in a graph.\"\"\"\n",
    "\n",
    "    nodes, edges = set(), set()\n",
    "    \n",
    "    def build(v):\n",
    "        if v not in nodes:\n",
    "            nodes.add(v)\n",
    "            for child in v._parents:\n",
    "                edges.add((child, v))\n",
    "                build(child)\n",
    "\n",
    "    build(root)\n",
    "    return nodes, edges\n",
    "\n",
    "\n",
    "def draw_graph(root):\n",
    "    \"\"\"Build diagram of computational graph.\"\"\"\n",
    "    \n",
    "    dot = Digraph(format='svg', graph_attr={'rankdir': 'LR'}) # LR = left to right\n",
    "    nodes, edges = trace(root)\n",
    "    for n in nodes:\n",
    "\n",
    "        # Add node to graph    \n",
    "        uid = str(id(n))\n",
    "        dot.node(name=uid, label=f\"{n.label} | data={n.data:.3f} | grad={n.grad:.4f}\", shape='record')\n",
    "        \n",
    "        # If node is a result of computation, create op node for it\n",
    "        # Then, connect n to op node, \n",
    "        # e.g. if 5 = 2 + 3, then draw [5] as [+ -> 5].\n",
    "        if n._op:\n",
    "            dot.node(name=uid+n._op, label=n._op)\n",
    "            dot.edge(uid+n._op, uid)\n",
    "\n",
    "    for child, v in edges:\n",
    "        # Connect child to the op node of v\n",
    "        dot.edge(str(id(child)), str(id(v)) + v._op)\n",
    "    \n",
    "    return dot"
   ]
  },
  {
   "cell_type": "markdown",
   "metadata": {},
   "source": [
    "Create graph for a dense unit:"
   ]
  },
  {
   "cell_type": "code",
   "execution_count": 6,
   "metadata": {},
   "outputs": [
    {
     "data": {
      "image/svg+xml": "<?xml version=\"1.0\" encoding=\"UTF-8\" standalone=\"no\"?>\n<!DOCTYPE svg PUBLIC \"-//W3C//DTD SVG 1.1//EN\"\n \"http://www.w3.org/Graphics/SVG/1.1/DTD/svg11.dtd\">\n<!-- Generated by graphviz version 5.0.1 (20220820.1526)\n -->\n<!-- Pages: 1 -->\n<svg width=\"1128pt\" height=\"342pt\"\n viewBox=\"0.00 0.00 1128.00 342.00\" xmlns=\"http://www.w3.org/2000/svg\" xmlns:xlink=\"http://www.w3.org/1999/xlink\">\n<g id=\"graph0\" class=\"graph\" transform=\"scale(1 1) rotate(0) translate(4 338)\">\n<polygon fill=\"white\" stroke=\"none\" points=\"-4,4 -4,-338 1124,-338 1124,4 -4,4\"/>\n<!-- 4546178592 -->\n<g id=\"node1\" class=\"node\">\n<title>4546178592</title>\n<polygon fill=\"none\" stroke=\"black\" points=\"672,-88.5 672,-157.5 818,-157.5 818,-88.5 672,-88.5\"/>\n<text text-anchor=\"middle\" x=\"745\" y=\"-142.3\" font-family=\"Times,serif\" font-size=\"14.00\">(((w₁*x₁)+(w₂*x₂))+b)</text>\n<polyline fill=\"none\" stroke=\"black\" points=\"672,-134.5 818,-134.5\"/>\n<text text-anchor=\"middle\" x=\"745\" y=\"-119.3\" font-family=\"Times,serif\" font-size=\"14.00\">data=1.000</text>\n<polyline fill=\"none\" stroke=\"black\" points=\"672,-111.5 818,-111.5\"/>\n<text text-anchor=\"middle\" x=\"745\" y=\"-96.3\" font-family=\"Times,serif\" font-size=\"14.00\">grad=0.0000</text>\n</g>\n<!-- 4546178736relu -->\n<g id=\"node4\" class=\"node\">\n<title>4546178736relu</title>\n<ellipse fill=\"none\" stroke=\"black\" cx=\"881\" cy=\"-123\" rx=\"27\" ry=\"18\"/>\n<text text-anchor=\"middle\" x=\"881\" y=\"-119.3\" font-family=\"Times,serif\" font-size=\"14.00\">relu</text>\n</g>\n<!-- 4546178592&#45;&gt;4546178736relu -->\n<g id=\"edge10\" class=\"edge\">\n<title>4546178592&#45;&gt;4546178736relu</title>\n<path fill=\"none\" stroke=\"black\" d=\"M818.1,-123C826.97,-123 835.73,-123 843.73,-123\"/>\n<polygon fill=\"black\" stroke=\"black\" points=\"843.77,-126.5 853.77,-123 843.77,-119.5 843.77,-126.5\"/>\n</g>\n<!-- 4546178592+ -->\n<g id=\"node2\" class=\"node\">\n<title>4546178592+</title>\n<ellipse fill=\"none\" stroke=\"black\" cx=\"609\" cy=\"-123\" rx=\"27\" ry=\"18\"/>\n<text text-anchor=\"middle\" x=\"609\" y=\"-119.3\" font-family=\"Times,serif\" font-size=\"14.00\">+</text>\n</g>\n<!-- 4546178592+&#45;&gt;4546178592 -->\n<g id=\"edge1\" class=\"edge\">\n<title>4546178592+&#45;&gt;4546178592</title>\n<path fill=\"none\" stroke=\"black\" d=\"M636.15,-123C643.82,-123 652.63,-123 661.85,-123\"/>\n<polygon fill=\"black\" stroke=\"black\" points=\"661.98,-126.5 671.98,-123 661.98,-119.5 661.98,-126.5\"/>\n</g>\n<!-- 4546178736 -->\n<g id=\"node3\" class=\"node\">\n<title>4546178736</title>\n<polygon fill=\"none\" stroke=\"black\" points=\"944,-88.5 944,-157.5 1120,-157.5 1120,-88.5 944,-88.5\"/>\n<text text-anchor=\"middle\" x=\"1032\" y=\"-142.3\" font-family=\"Times,serif\" font-size=\"14.00\">relu((((w₁*x₁)+(w₂*x₂))+b))</text>\n<polyline fill=\"none\" stroke=\"black\" points=\"944,-134.5 1120,-134.5\"/>\n<text text-anchor=\"middle\" x=\"1032\" y=\"-119.3\" font-family=\"Times,serif\" font-size=\"14.00\">data=1.000</text>\n<polyline fill=\"none\" stroke=\"black\" points=\"944,-111.5 1120,-111.5\"/>\n<text text-anchor=\"middle\" x=\"1032\" y=\"-96.3\" font-family=\"Times,serif\" font-size=\"14.00\">grad=0.0000</text>\n</g>\n<!-- 4546178736relu&#45;&gt;4546178736 -->\n<g id=\"edge2\" class=\"edge\">\n<title>4546178736relu&#45;&gt;4546178736</title>\n<path fill=\"none\" stroke=\"black\" d=\"M908.3,-123C915.84,-123 924.54,-123 933.76,-123\"/>\n<polygon fill=\"black\" stroke=\"black\" points=\"933.93,-126.5 943.93,-123 933.93,-119.5 933.93,-126.5\"/>\n</g>\n<!-- 4545803984 -->\n<g id=\"node5\" class=\"node\">\n<title>4545803984</title>\n<polygon fill=\"none\" stroke=\"black\" points=\"0,-88.5 0,-157.5 86,-157.5 86,-88.5 0,-88.5\"/>\n<text text-anchor=\"middle\" x=\"43\" y=\"-142.3\" font-family=\"Times,serif\" font-size=\"14.00\">w₁</text>\n<polyline fill=\"none\" stroke=\"black\" points=\"0,-134.5 86,-134.5\"/>\n<text text-anchor=\"middle\" x=\"43\" y=\"-119.3\" font-family=\"Times,serif\" font-size=\"14.00\">data=&#45;1.000</text>\n<polyline fill=\"none\" stroke=\"black\" points=\"0,-111.5 86,-111.5\"/>\n<text text-anchor=\"middle\" x=\"43\" y=\"-96.3\" font-family=\"Times,serif\" font-size=\"14.00\">grad=0.0000</text>\n</g>\n<!-- 4546178832* -->\n<g id=\"node9\" class=\"node\">\n<title>4546178832*</title>\n<ellipse fill=\"none\" stroke=\"black\" cx=\"149\" cy=\"-123\" rx=\"27\" ry=\"18\"/>\n<text text-anchor=\"middle\" x=\"149\" y=\"-119.3\" font-family=\"Times,serif\" font-size=\"14.00\">*</text>\n</g>\n<!-- 4545803984&#45;&gt;4546178832* -->\n<g id=\"edge9\" class=\"edge\">\n<title>4545803984&#45;&gt;4546178832*</title>\n<path fill=\"none\" stroke=\"black\" d=\"M86,-123C94.48,-123 103.34,-123 111.61,-123\"/>\n<polygon fill=\"black\" stroke=\"black\" points=\"111.7,-126.5 121.7,-123 111.7,-119.5 111.7,-126.5\"/>\n</g>\n<!-- 4546178784 -->\n<g id=\"node6\" class=\"node\">\n<title>4546178784</title>\n<polygon fill=\"none\" stroke=\"black\" points=\"212,-176.5 212,-245.5 298,-245.5 298,-176.5 212,-176.5\"/>\n<text text-anchor=\"middle\" x=\"255\" y=\"-230.3\" font-family=\"Times,serif\" font-size=\"14.00\">(w₂*x₂)</text>\n<polyline fill=\"none\" stroke=\"black\" points=\"212,-222.5 298,-222.5\"/>\n<text text-anchor=\"middle\" x=\"255\" y=\"-207.3\" font-family=\"Times,serif\" font-size=\"14.00\">data=6.000</text>\n<polyline fill=\"none\" stroke=\"black\" points=\"212,-199.5 298,-199.5\"/>\n<text text-anchor=\"middle\" x=\"255\" y=\"-184.3\" font-family=\"Times,serif\" font-size=\"14.00\">grad=0.0000</text>\n</g>\n<!-- 4546179024+ -->\n<g id=\"node14\" class=\"node\">\n<title>4546179024+</title>\n<ellipse fill=\"none\" stroke=\"black\" cx=\"361\" cy=\"-167\" rx=\"27\" ry=\"18\"/>\n<text text-anchor=\"middle\" x=\"361\" y=\"-163.3\" font-family=\"Times,serif\" font-size=\"14.00\">+</text>\n</g>\n<!-- 4546178784&#45;&gt;4546179024+ -->\n<g id=\"edge13\" class=\"edge\">\n<title>4546178784&#45;&gt;4546179024+</title>\n<path fill=\"none\" stroke=\"black\" d=\"M298,-193.23C308.13,-188.95 318.78,-184.44 328.34,-180.39\"/>\n<polygon fill=\"black\" stroke=\"black\" points=\"330,-183.49 337.84,-176.37 327.27,-177.05 330,-183.49\"/>\n</g>\n<!-- 4546178784* -->\n<g id=\"node7\" class=\"node\">\n<title>4546178784*</title>\n<ellipse fill=\"none\" stroke=\"black\" cx=\"149\" cy=\"-211\" rx=\"27\" ry=\"18\"/>\n<text text-anchor=\"middle\" x=\"149\" y=\"-207.3\" font-family=\"Times,serif\" font-size=\"14.00\">*</text>\n</g>\n<!-- 4546178784*&#45;&gt;4546178784 -->\n<g id=\"edge3\" class=\"edge\">\n<title>4546178784*&#45;&gt;4546178784</title>\n<path fill=\"none\" stroke=\"black\" d=\"M176.24,-211C184.11,-211 193.04,-211 201.96,-211\"/>\n<polygon fill=\"black\" stroke=\"black\" points=\"201.98,-214.5 211.98,-211 201.98,-207.5 201.98,-214.5\"/>\n</g>\n<!-- 4546178832 -->\n<g id=\"node8\" class=\"node\">\n<title>4546178832</title>\n<polygon fill=\"none\" stroke=\"black\" points=\"212,-88.5 212,-157.5 298,-157.5 298,-88.5 212,-88.5\"/>\n<text text-anchor=\"middle\" x=\"255\" y=\"-142.3\" font-family=\"Times,serif\" font-size=\"14.00\">(w₁*x₁)</text>\n<polyline fill=\"none\" stroke=\"black\" points=\"212,-134.5 298,-134.5\"/>\n<text text-anchor=\"middle\" x=\"255\" y=\"-119.3\" font-family=\"Times,serif\" font-size=\"14.00\">data=&#45;1.000</text>\n<polyline fill=\"none\" stroke=\"black\" points=\"212,-111.5 298,-111.5\"/>\n<text text-anchor=\"middle\" x=\"255\" y=\"-96.3\" font-family=\"Times,serif\" font-size=\"14.00\">grad=0.0000</text>\n</g>\n<!-- 4546178832&#45;&gt;4546179024+ -->\n<g id=\"edge12\" class=\"edge\">\n<title>4546178832&#45;&gt;4546179024+</title>\n<path fill=\"none\" stroke=\"black\" d=\"M298,-140.77C308.13,-145.05 318.78,-149.56 328.34,-153.61\"/>\n<polygon fill=\"black\" stroke=\"black\" points=\"327.27,-156.95 337.84,-157.63 330,-150.51 327.27,-156.95\"/>\n</g>\n<!-- 4546178832*&#45;&gt;4546178832 -->\n<g id=\"edge4\" class=\"edge\">\n<title>4546178832*&#45;&gt;4546178832</title>\n<path fill=\"none\" stroke=\"black\" d=\"M176.24,-123C184.11,-123 193.04,-123 201.96,-123\"/>\n<polygon fill=\"black\" stroke=\"black\" points=\"201.98,-126.5 211.98,-123 201.98,-119.5 201.98,-126.5\"/>\n</g>\n<!-- 4442268432 -->\n<g id=\"node10\" class=\"node\">\n<title>4442268432</title>\n<polygon fill=\"none\" stroke=\"black\" points=\"0,-264.5 0,-333.5 86,-333.5 86,-264.5 0,-264.5\"/>\n<text text-anchor=\"middle\" x=\"43\" y=\"-318.3\" font-family=\"Times,serif\" font-size=\"14.00\">w₂</text>\n<polyline fill=\"none\" stroke=\"black\" points=\"0,-310.5 86,-310.5\"/>\n<text text-anchor=\"middle\" x=\"43\" y=\"-295.3\" font-family=\"Times,serif\" font-size=\"14.00\">data=2.000</text>\n<polyline fill=\"none\" stroke=\"black\" points=\"0,-287.5 86,-287.5\"/>\n<text text-anchor=\"middle\" x=\"43\" y=\"-272.3\" font-family=\"Times,serif\" font-size=\"14.00\">grad=0.0000</text>\n</g>\n<!-- 4442268432&#45;&gt;4546178784* -->\n<g id=\"edge7\" class=\"edge\">\n<title>4442268432&#45;&gt;4546178784*</title>\n<path fill=\"none\" stroke=\"black\" d=\"M84.81,-264.47C97.9,-253.39 111.99,-241.47 123.54,-231.7\"/>\n<polygon fill=\"black\" stroke=\"black\" points=\"126.07,-234.14 131.44,-225.01 121.55,-228.8 126.07,-234.14\"/>\n</g>\n<!-- 4545803648 -->\n<g id=\"node11\" class=\"node\">\n<title>4545803648</title>\n<polygon fill=\"none\" stroke=\"black\" points=\"0,-0.5 0,-69.5 86,-69.5 86,-0.5 0,-0.5\"/>\n<text text-anchor=\"middle\" x=\"43\" y=\"-54.3\" font-family=\"Times,serif\" font-size=\"14.00\">x₁</text>\n<polyline fill=\"none\" stroke=\"black\" points=\"0,-46.5 86,-46.5\"/>\n<text text-anchor=\"middle\" x=\"43\" y=\"-31.3\" font-family=\"Times,serif\" font-size=\"14.00\">data=1.000</text>\n<polyline fill=\"none\" stroke=\"black\" points=\"0,-23.5 86,-23.5\"/>\n<text text-anchor=\"middle\" x=\"43\" y=\"-8.3\" font-family=\"Times,serif\" font-size=\"14.00\">grad=0.0000</text>\n</g>\n<!-- 4545803648&#45;&gt;4546178832* -->\n<g id=\"edge11\" class=\"edge\">\n<title>4545803648&#45;&gt;4546178832*</title>\n<path fill=\"none\" stroke=\"black\" d=\"M84.81,-69.53C97.9,-80.61 111.99,-92.53 123.54,-102.3\"/>\n<polygon fill=\"black\" stroke=\"black\" points=\"121.55,-105.2 131.44,-108.99 126.07,-99.86 121.55,-105.2\"/>\n</g>\n<!-- 4546178448 -->\n<g id=\"node12\" class=\"node\">\n<title>4546178448</title>\n<polygon fill=\"none\" stroke=\"black\" points=\"0,-176.5 0,-245.5 86,-245.5 86,-176.5 0,-176.5\"/>\n<text text-anchor=\"middle\" x=\"43\" y=\"-230.3\" font-family=\"Times,serif\" font-size=\"14.00\">x₂</text>\n<polyline fill=\"none\" stroke=\"black\" points=\"0,-222.5 86,-222.5\"/>\n<text text-anchor=\"middle\" x=\"43\" y=\"-207.3\" font-family=\"Times,serif\" font-size=\"14.00\">data=3.000</text>\n<polyline fill=\"none\" stroke=\"black\" points=\"0,-199.5 86,-199.5\"/>\n<text text-anchor=\"middle\" x=\"43\" y=\"-184.3\" font-family=\"Times,serif\" font-size=\"14.00\">grad=0.0000</text>\n</g>\n<!-- 4546178448&#45;&gt;4546178784* -->\n<g id=\"edge8\" class=\"edge\">\n<title>4546178448&#45;&gt;4546178784*</title>\n<path fill=\"none\" stroke=\"black\" d=\"M86,-211C94.48,-211 103.34,-211 111.61,-211\"/>\n<polygon fill=\"black\" stroke=\"black\" points=\"111.7,-214.5 121.7,-211 111.7,-207.5 111.7,-214.5\"/>\n</g>\n<!-- 4546179024 -->\n<g id=\"node13\" class=\"node\">\n<title>4546179024</title>\n<polygon fill=\"none\" stroke=\"black\" points=\"424,-132.5 424,-201.5 546,-201.5 546,-132.5 424,-132.5\"/>\n<text text-anchor=\"middle\" x=\"485\" y=\"-186.3\" font-family=\"Times,serif\" font-size=\"14.00\">((w₁*x₁)+(w₂*x₂))</text>\n<polyline fill=\"none\" stroke=\"black\" points=\"424,-178.5 546,-178.5\"/>\n<text text-anchor=\"middle\" x=\"485\" y=\"-163.3\" font-family=\"Times,serif\" font-size=\"14.00\">data=5.000</text>\n<polyline fill=\"none\" stroke=\"black\" points=\"424,-155.5 546,-155.5\"/>\n<text text-anchor=\"middle\" x=\"485\" y=\"-140.3\" font-family=\"Times,serif\" font-size=\"14.00\">grad=0.0000</text>\n</g>\n<!-- 4546179024&#45;&gt;4546178592+ -->\n<g id=\"edge6\" class=\"edge\">\n<title>4546179024&#45;&gt;4546178592+</title>\n<path fill=\"none\" stroke=\"black\" d=\"M546.29,-145.26C556.32,-141.64 566.37,-138.01 575.37,-134.77\"/>\n<polygon fill=\"black\" stroke=\"black\" points=\"576.8,-137.97 585.02,-131.29 574.43,-131.39 576.8,-137.97\"/>\n</g>\n<!-- 4546179024+&#45;&gt;4546179024 -->\n<g id=\"edge5\" class=\"edge\">\n<title>4546179024+&#45;&gt;4546179024</title>\n<path fill=\"none\" stroke=\"black\" d=\"M388.17,-167C395.8,-167 404.53,-167 413.53,-167\"/>\n<polygon fill=\"black\" stroke=\"black\" points=\"413.78,-170.5 423.78,-167 413.78,-163.5 413.78,-170.5\"/>\n</g>\n<!-- 4545803744 -->\n<g id=\"node15\" class=\"node\">\n<title>4545803744</title>\n<polygon fill=\"none\" stroke=\"black\" points=\"442,-44.5 442,-113.5 528,-113.5 528,-44.5 442,-44.5\"/>\n<text text-anchor=\"middle\" x=\"485\" y=\"-98.3\" font-family=\"Times,serif\" font-size=\"14.00\">b</text>\n<polyline fill=\"none\" stroke=\"black\" points=\"442,-90.5 528,-90.5\"/>\n<text text-anchor=\"middle\" x=\"485\" y=\"-75.3\" font-family=\"Times,serif\" font-size=\"14.00\">data=&#45;4.000</text>\n<polyline fill=\"none\" stroke=\"black\" points=\"442,-67.5 528,-67.5\"/>\n<text text-anchor=\"middle\" x=\"485\" y=\"-52.3\" font-family=\"Times,serif\" font-size=\"14.00\">grad=0.0000</text>\n</g>\n<!-- 4545803744&#45;&gt;4546178592+ -->\n<g id=\"edge14\" class=\"edge\">\n<title>4545803744&#45;&gt;4546178592+</title>\n<path fill=\"none\" stroke=\"black\" d=\"M528.33,-94.27C543.76,-99.83 560.96,-106.03 575.41,-111.25\"/>\n<polygon fill=\"black\" stroke=\"black\" points=\"574.34,-114.58 584.93,-114.68 576.71,-107.99 574.34,-114.58\"/>\n</g>\n</g>\n</svg>\n",
      "text/plain": [
       "<graphviz.graphs.Digraph at 0x10ef92dc0>"
      ]
     },
     "execution_count": 6,
     "metadata": {},
     "output_type": "execute_result"
    }
   ],
   "source": [
    "w1 = Node(-1.0, label='w₁')\n",
    "w2 = Node( 2.0, label='w₂')\n",
    "b  = Node(-4.0, label='b' )\n",
    "\n",
    "x1 = Node( 1.0, label='x₁')\n",
    "x2 = Node( 3.0, label='x₂')\n",
    "\n",
    "z = w1 * x1 + w2 * x2 + b\n",
    "y = z.relu()\n",
    "draw_graph(y)"
   ]
  },
  {
   "cell_type": "markdown",
   "metadata": {},
   "source": [
    "**Backward pass.** Observe that all gradients check out."
   ]
  },
  {
   "cell_type": "code",
   "execution_count": 7,
   "metadata": {},
   "outputs": [
    {
     "data": {
      "image/svg+xml": "<?xml version=\"1.0\" encoding=\"UTF-8\" standalone=\"no\"?>\n<!DOCTYPE svg PUBLIC \"-//W3C//DTD SVG 1.1//EN\"\n \"http://www.w3.org/Graphics/SVG/1.1/DTD/svg11.dtd\">\n<!-- Generated by graphviz version 5.0.1 (20220820.1526)\n -->\n<!-- Pages: 1 -->\n<svg width=\"1133pt\" height=\"342pt\"\n viewBox=\"0.00 0.00 1133.00 342.00\" xmlns=\"http://www.w3.org/2000/svg\" xmlns:xlink=\"http://www.w3.org/1999/xlink\">\n<g id=\"graph0\" class=\"graph\" transform=\"scale(1 1) rotate(0) translate(4 338)\">\n<polygon fill=\"white\" stroke=\"none\" points=\"-4,4 -4,-338 1129,-338 1129,4 -4,4\"/>\n<!-- 4546178592 -->\n<g id=\"node1\" class=\"node\">\n<title>4546178592</title>\n<polygon fill=\"none\" stroke=\"black\" points=\"677,-88.5 677,-157.5 823,-157.5 823,-88.5 677,-88.5\"/>\n<text text-anchor=\"middle\" x=\"750\" y=\"-142.3\" font-family=\"Times,serif\" font-size=\"14.00\">(((w₁*x₁)+(w₂*x₂))+b)</text>\n<polyline fill=\"none\" stroke=\"black\" points=\"677,-134.5 823,-134.5\"/>\n<text text-anchor=\"middle\" x=\"750\" y=\"-119.3\" font-family=\"Times,serif\" font-size=\"14.00\">data=1.000</text>\n<polyline fill=\"none\" stroke=\"black\" points=\"677,-111.5 823,-111.5\"/>\n<text text-anchor=\"middle\" x=\"750\" y=\"-96.3\" font-family=\"Times,serif\" font-size=\"14.00\">grad=3.0000</text>\n</g>\n<!-- 4546178736relu -->\n<g id=\"node4\" class=\"node\">\n<title>4546178736relu</title>\n<ellipse fill=\"none\" stroke=\"black\" cx=\"886\" cy=\"-123\" rx=\"27\" ry=\"18\"/>\n<text text-anchor=\"middle\" x=\"886\" y=\"-119.3\" font-family=\"Times,serif\" font-size=\"14.00\">relu</text>\n</g>\n<!-- 4546178592&#45;&gt;4546178736relu -->\n<g id=\"edge10\" class=\"edge\">\n<title>4546178592&#45;&gt;4546178736relu</title>\n<path fill=\"none\" stroke=\"black\" d=\"M823.1,-123C831.97,-123 840.73,-123 848.73,-123\"/>\n<polygon fill=\"black\" stroke=\"black\" points=\"848.77,-126.5 858.77,-123 848.77,-119.5 848.77,-126.5\"/>\n</g>\n<!-- 4546178592+ -->\n<g id=\"node2\" class=\"node\">\n<title>4546178592+</title>\n<ellipse fill=\"none\" stroke=\"black\" cx=\"614\" cy=\"-123\" rx=\"27\" ry=\"18\"/>\n<text text-anchor=\"middle\" x=\"614\" y=\"-119.3\" font-family=\"Times,serif\" font-size=\"14.00\">+</text>\n</g>\n<!-- 4546178592+&#45;&gt;4546178592 -->\n<g id=\"edge1\" class=\"edge\">\n<title>4546178592+&#45;&gt;4546178592</title>\n<path fill=\"none\" stroke=\"black\" d=\"M641.15,-123C648.82,-123 657.63,-123 666.85,-123\"/>\n<polygon fill=\"black\" stroke=\"black\" points=\"666.98,-126.5 676.98,-123 666.98,-119.5 666.98,-126.5\"/>\n</g>\n<!-- 4546178736 -->\n<g id=\"node3\" class=\"node\">\n<title>4546178736</title>\n<polygon fill=\"none\" stroke=\"black\" points=\"949,-88.5 949,-157.5 1125,-157.5 1125,-88.5 949,-88.5\"/>\n<text text-anchor=\"middle\" x=\"1037\" y=\"-142.3\" font-family=\"Times,serif\" font-size=\"14.00\">relu((((w₁*x₁)+(w₂*x₂))+b))</text>\n<polyline fill=\"none\" stroke=\"black\" points=\"949,-134.5 1125,-134.5\"/>\n<text text-anchor=\"middle\" x=\"1037\" y=\"-119.3\" font-family=\"Times,serif\" font-size=\"14.00\">data=1.000</text>\n<polyline fill=\"none\" stroke=\"black\" points=\"949,-111.5 1125,-111.5\"/>\n<text text-anchor=\"middle\" x=\"1037\" y=\"-96.3\" font-family=\"Times,serif\" font-size=\"14.00\">grad=3.0000</text>\n</g>\n<!-- 4546178736relu&#45;&gt;4546178736 -->\n<g id=\"edge2\" class=\"edge\">\n<title>4546178736relu&#45;&gt;4546178736</title>\n<path fill=\"none\" stroke=\"black\" d=\"M913.3,-123C920.84,-123 929.54,-123 938.76,-123\"/>\n<polygon fill=\"black\" stroke=\"black\" points=\"938.93,-126.5 948.93,-123 938.93,-119.5 938.93,-126.5\"/>\n</g>\n<!-- 4545803984 -->\n<g id=\"node5\" class=\"node\">\n<title>4545803984</title>\n<polygon fill=\"none\" stroke=\"black\" points=\"2.5,-88.5 2.5,-157.5 88.5,-157.5 88.5,-88.5 2.5,-88.5\"/>\n<text text-anchor=\"middle\" x=\"45.5\" y=\"-142.3\" font-family=\"Times,serif\" font-size=\"14.00\">w₁</text>\n<polyline fill=\"none\" stroke=\"black\" points=\"2.5,-134.5 88.5,-134.5\"/>\n<text text-anchor=\"middle\" x=\"45.5\" y=\"-119.3\" font-family=\"Times,serif\" font-size=\"14.00\">data=&#45;1.000</text>\n<polyline fill=\"none\" stroke=\"black\" points=\"2.5,-111.5 88.5,-111.5\"/>\n<text text-anchor=\"middle\" x=\"45.5\" y=\"-96.3\" font-family=\"Times,serif\" font-size=\"14.00\">grad=3.0000</text>\n</g>\n<!-- 4546178832* -->\n<g id=\"node9\" class=\"node\">\n<title>4546178832*</title>\n<ellipse fill=\"none\" stroke=\"black\" cx=\"154\" cy=\"-123\" rx=\"27\" ry=\"18\"/>\n<text text-anchor=\"middle\" x=\"154\" y=\"-119.3\" font-family=\"Times,serif\" font-size=\"14.00\">*</text>\n</g>\n<!-- 4545803984&#45;&gt;4546178832* -->\n<g id=\"edge9\" class=\"edge\">\n<title>4545803984&#45;&gt;4546178832*</title>\n<path fill=\"none\" stroke=\"black\" d=\"M88.59,-123C97.87,-123 107.62,-123 116.65,-123\"/>\n<polygon fill=\"black\" stroke=\"black\" points=\"116.84,-126.5 126.84,-123 116.84,-119.5 116.84,-126.5\"/>\n</g>\n<!-- 4546178784 -->\n<g id=\"node6\" class=\"node\">\n<title>4546178784</title>\n<polygon fill=\"none\" stroke=\"black\" points=\"217,-176.5 217,-245.5 303,-245.5 303,-176.5 217,-176.5\"/>\n<text text-anchor=\"middle\" x=\"260\" y=\"-230.3\" font-family=\"Times,serif\" font-size=\"14.00\">(w₂*x₂)</text>\n<polyline fill=\"none\" stroke=\"black\" points=\"217,-222.5 303,-222.5\"/>\n<text text-anchor=\"middle\" x=\"260\" y=\"-207.3\" font-family=\"Times,serif\" font-size=\"14.00\">data=6.000</text>\n<polyline fill=\"none\" stroke=\"black\" points=\"217,-199.5 303,-199.5\"/>\n<text text-anchor=\"middle\" x=\"260\" y=\"-184.3\" font-family=\"Times,serif\" font-size=\"14.00\">grad=3.0000</text>\n</g>\n<!-- 4546179024+ -->\n<g id=\"node14\" class=\"node\">\n<title>4546179024+</title>\n<ellipse fill=\"none\" stroke=\"black\" cx=\"366\" cy=\"-167\" rx=\"27\" ry=\"18\"/>\n<text text-anchor=\"middle\" x=\"366\" y=\"-163.3\" font-family=\"Times,serif\" font-size=\"14.00\">+</text>\n</g>\n<!-- 4546178784&#45;&gt;4546179024+ -->\n<g id=\"edge13\" class=\"edge\">\n<title>4546178784&#45;&gt;4546179024+</title>\n<path fill=\"none\" stroke=\"black\" d=\"M303,-193.23C313.13,-188.95 323.78,-184.44 333.34,-180.39\"/>\n<polygon fill=\"black\" stroke=\"black\" points=\"335,-183.49 342.84,-176.37 332.27,-177.05 335,-183.49\"/>\n</g>\n<!-- 4546178784* -->\n<g id=\"node7\" class=\"node\">\n<title>4546178784*</title>\n<ellipse fill=\"none\" stroke=\"black\" cx=\"154\" cy=\"-211\" rx=\"27\" ry=\"18\"/>\n<text text-anchor=\"middle\" x=\"154\" y=\"-207.3\" font-family=\"Times,serif\" font-size=\"14.00\">*</text>\n</g>\n<!-- 4546178784*&#45;&gt;4546178784 -->\n<g id=\"edge3\" class=\"edge\">\n<title>4546178784*&#45;&gt;4546178784</title>\n<path fill=\"none\" stroke=\"black\" d=\"M181.24,-211C189.11,-211 198.04,-211 206.96,-211\"/>\n<polygon fill=\"black\" stroke=\"black\" points=\"206.98,-214.5 216.98,-211 206.98,-207.5 206.98,-214.5\"/>\n</g>\n<!-- 4546178832 -->\n<g id=\"node8\" class=\"node\">\n<title>4546178832</title>\n<polygon fill=\"none\" stroke=\"black\" points=\"217,-88.5 217,-157.5 303,-157.5 303,-88.5 217,-88.5\"/>\n<text text-anchor=\"middle\" x=\"260\" y=\"-142.3\" font-family=\"Times,serif\" font-size=\"14.00\">(w₁*x₁)</text>\n<polyline fill=\"none\" stroke=\"black\" points=\"217,-134.5 303,-134.5\"/>\n<text text-anchor=\"middle\" x=\"260\" y=\"-119.3\" font-family=\"Times,serif\" font-size=\"14.00\">data=&#45;1.000</text>\n<polyline fill=\"none\" stroke=\"black\" points=\"217,-111.5 303,-111.5\"/>\n<text text-anchor=\"middle\" x=\"260\" y=\"-96.3\" font-family=\"Times,serif\" font-size=\"14.00\">grad=3.0000</text>\n</g>\n<!-- 4546178832&#45;&gt;4546179024+ -->\n<g id=\"edge12\" class=\"edge\">\n<title>4546178832&#45;&gt;4546179024+</title>\n<path fill=\"none\" stroke=\"black\" d=\"M303,-140.77C313.13,-145.05 323.78,-149.56 333.34,-153.61\"/>\n<polygon fill=\"black\" stroke=\"black\" points=\"332.27,-156.95 342.84,-157.63 335,-150.51 332.27,-156.95\"/>\n</g>\n<!-- 4546178832*&#45;&gt;4546178832 -->\n<g id=\"edge4\" class=\"edge\">\n<title>4546178832*&#45;&gt;4546178832</title>\n<path fill=\"none\" stroke=\"black\" d=\"M181.24,-123C189.11,-123 198.04,-123 206.96,-123\"/>\n<polygon fill=\"black\" stroke=\"black\" points=\"206.98,-126.5 216.98,-123 206.98,-119.5 206.98,-126.5\"/>\n</g>\n<!-- 4442268432 -->\n<g id=\"node10\" class=\"node\">\n<title>4442268432</title>\n<polygon fill=\"none\" stroke=\"black\" points=\"2.5,-264.5 2.5,-333.5 88.5,-333.5 88.5,-264.5 2.5,-264.5\"/>\n<text text-anchor=\"middle\" x=\"45.5\" y=\"-318.3\" font-family=\"Times,serif\" font-size=\"14.00\">w₂</text>\n<polyline fill=\"none\" stroke=\"black\" points=\"2.5,-310.5 88.5,-310.5\"/>\n<text text-anchor=\"middle\" x=\"45.5\" y=\"-295.3\" font-family=\"Times,serif\" font-size=\"14.00\">data=2.000</text>\n<polyline fill=\"none\" stroke=\"black\" points=\"2.5,-287.5 88.5,-287.5\"/>\n<text text-anchor=\"middle\" x=\"45.5\" y=\"-272.3\" font-family=\"Times,serif\" font-size=\"14.00\">grad=9.0000</text>\n</g>\n<!-- 4442268432&#45;&gt;4546178784* -->\n<g id=\"edge7\" class=\"edge\">\n<title>4442268432&#45;&gt;4546178784*</title>\n<path fill=\"none\" stroke=\"black\" d=\"M88.29,-264.47C101.92,-253.21 116.61,-241.07 128.54,-231.21\"/>\n<polygon fill=\"black\" stroke=\"black\" points=\"130.84,-233.85 136.32,-224.79 126.38,-228.46 130.84,-233.85\"/>\n</g>\n<!-- 4545803648 -->\n<g id=\"node11\" class=\"node\">\n<title>4545803648</title>\n<polygon fill=\"none\" stroke=\"black\" points=\"0,-0.5 0,-69.5 91,-69.5 91,-0.5 0,-0.5\"/>\n<text text-anchor=\"middle\" x=\"45.5\" y=\"-54.3\" font-family=\"Times,serif\" font-size=\"14.00\">x₁</text>\n<polyline fill=\"none\" stroke=\"black\" points=\"0,-46.5 91,-46.5\"/>\n<text text-anchor=\"middle\" x=\"45.5\" y=\"-31.3\" font-family=\"Times,serif\" font-size=\"14.00\">data=1.000</text>\n<polyline fill=\"none\" stroke=\"black\" points=\"0,-23.5 91,-23.5\"/>\n<text text-anchor=\"middle\" x=\"45.5\" y=\"-8.3\" font-family=\"Times,serif\" font-size=\"14.00\">grad=&#45;3.0000</text>\n</g>\n<!-- 4545803648&#45;&gt;4546178832* -->\n<g id=\"edge11\" class=\"edge\">\n<title>4545803648&#45;&gt;4546178832*</title>\n<path fill=\"none\" stroke=\"black\" d=\"M88.29,-69.53C101.92,-80.79 116.61,-92.93 128.54,-102.79\"/>\n<polygon fill=\"black\" stroke=\"black\" points=\"126.38,-105.54 136.32,-109.21 130.84,-100.15 126.38,-105.54\"/>\n</g>\n<!-- 4546178448 -->\n<g id=\"node12\" class=\"node\">\n<title>4546178448</title>\n<polygon fill=\"none\" stroke=\"black\" points=\"2.5,-176.5 2.5,-245.5 88.5,-245.5 88.5,-176.5 2.5,-176.5\"/>\n<text text-anchor=\"middle\" x=\"45.5\" y=\"-230.3\" font-family=\"Times,serif\" font-size=\"14.00\">x₂</text>\n<polyline fill=\"none\" stroke=\"black\" points=\"2.5,-222.5 88.5,-222.5\"/>\n<text text-anchor=\"middle\" x=\"45.5\" y=\"-207.3\" font-family=\"Times,serif\" font-size=\"14.00\">data=3.000</text>\n<polyline fill=\"none\" stroke=\"black\" points=\"2.5,-199.5 88.5,-199.5\"/>\n<text text-anchor=\"middle\" x=\"45.5\" y=\"-184.3\" font-family=\"Times,serif\" font-size=\"14.00\">grad=6.0000</text>\n</g>\n<!-- 4546178448&#45;&gt;4546178784* -->\n<g id=\"edge8\" class=\"edge\">\n<title>4546178448&#45;&gt;4546178784*</title>\n<path fill=\"none\" stroke=\"black\" d=\"M88.59,-211C97.87,-211 107.62,-211 116.65,-211\"/>\n<polygon fill=\"black\" stroke=\"black\" points=\"116.84,-214.5 126.84,-211 116.84,-207.5 116.84,-214.5\"/>\n</g>\n<!-- 4546179024 -->\n<g id=\"node13\" class=\"node\">\n<title>4546179024</title>\n<polygon fill=\"none\" stroke=\"black\" points=\"429,-132.5 429,-201.5 551,-201.5 551,-132.5 429,-132.5\"/>\n<text text-anchor=\"middle\" x=\"490\" y=\"-186.3\" font-family=\"Times,serif\" font-size=\"14.00\">((w₁*x₁)+(w₂*x₂))</text>\n<polyline fill=\"none\" stroke=\"black\" points=\"429,-178.5 551,-178.5\"/>\n<text text-anchor=\"middle\" x=\"490\" y=\"-163.3\" font-family=\"Times,serif\" font-size=\"14.00\">data=5.000</text>\n<polyline fill=\"none\" stroke=\"black\" points=\"429,-155.5 551,-155.5\"/>\n<text text-anchor=\"middle\" x=\"490\" y=\"-140.3\" font-family=\"Times,serif\" font-size=\"14.00\">grad=3.0000</text>\n</g>\n<!-- 4546179024&#45;&gt;4546178592+ -->\n<g id=\"edge6\" class=\"edge\">\n<title>4546179024&#45;&gt;4546178592+</title>\n<path fill=\"none\" stroke=\"black\" d=\"M551.29,-145.26C561.32,-141.64 571.37,-138.01 580.37,-134.77\"/>\n<polygon fill=\"black\" stroke=\"black\" points=\"581.8,-137.97 590.02,-131.29 579.43,-131.39 581.8,-137.97\"/>\n</g>\n<!-- 4546179024+&#45;&gt;4546179024 -->\n<g id=\"edge5\" class=\"edge\">\n<title>4546179024+&#45;&gt;4546179024</title>\n<path fill=\"none\" stroke=\"black\" d=\"M393.17,-167C400.8,-167 409.53,-167 418.53,-167\"/>\n<polygon fill=\"black\" stroke=\"black\" points=\"418.78,-170.5 428.78,-167 418.78,-163.5 418.78,-170.5\"/>\n</g>\n<!-- 4545803744 -->\n<g id=\"node15\" class=\"node\">\n<title>4545803744</title>\n<polygon fill=\"none\" stroke=\"black\" points=\"447,-44.5 447,-113.5 533,-113.5 533,-44.5 447,-44.5\"/>\n<text text-anchor=\"middle\" x=\"490\" y=\"-98.3\" font-family=\"Times,serif\" font-size=\"14.00\">b</text>\n<polyline fill=\"none\" stroke=\"black\" points=\"447,-90.5 533,-90.5\"/>\n<text text-anchor=\"middle\" x=\"490\" y=\"-75.3\" font-family=\"Times,serif\" font-size=\"14.00\">data=&#45;4.000</text>\n<polyline fill=\"none\" stroke=\"black\" points=\"447,-67.5 533,-67.5\"/>\n<text text-anchor=\"middle\" x=\"490\" y=\"-52.3\" font-family=\"Times,serif\" font-size=\"14.00\">grad=3.0000</text>\n</g>\n<!-- 4545803744&#45;&gt;4546178592+ -->\n<g id=\"edge14\" class=\"edge\">\n<title>4545803744&#45;&gt;4546178592+</title>\n<path fill=\"none\" stroke=\"black\" d=\"M533.33,-94.27C548.76,-99.83 565.96,-106.03 580.41,-111.25\"/>\n<polygon fill=\"black\" stroke=\"black\" points=\"579.34,-114.58 589.93,-114.68 581.71,-107.99 579.34,-114.58\"/>\n</g>\n</g>\n</svg>\n",
      "text/plain": [
       "<graphviz.graphs.Digraph at 0x10ef37040>"
      ]
     },
     "execution_count": 7,
     "metadata": {},
     "output_type": "execute_result"
    }
   ],
   "source": [
    "y.grad = 3.0\n",
    "y.backward()\n",
    "draw_graph(y)"
   ]
  },
  {
   "cell_type": "markdown",
   "metadata": {},
   "source": [
    "To train a neural network which computes a function $f,$ we can think of wrapping the original network in a computational graph that adds an additional input node for the target values, and an additional compute node for the loss function which takes in the network output $f(\\mathbf x)$ and target $y$ given an input output pair $(\\mathbf x, y)$ in a training step. Note that we can use any algorithm to update network weights. The following training loop implements [SGD](https://en.wikipedia.org/wiki/Stochastic_gradient_descent) with $\\epsilon = 0.01.$ "
   ]
  },
  {
   "cell_type": "code",
   "execution_count": 86,
   "metadata": {},
   "outputs": [
    {
     "data": {
      "image/png": "[encoded data removed]",
      "text/plain": [
       "<Figure size 432x288 with 1 Axes>"
      ]
     },
     "metadata": {
      "needs_background": "light"
     },
     "output_type": "display_data"
    }
   ],
   "source": [
    "N = 200\n",
    "x = np.linspace(-1, 1, N)\n",
    "y = np.sin(np.pi*x) + 0.1*np.random.normal(size=N)\n",
    "plt.plot(x, y);\n",
    "\n",
    "dataset = list(zip(list(x), list(y)))"
   ]
  },
  {
   "cell_type": "markdown",
   "metadata": {},
   "source": [
    "We will implement a fully-connected neural network with 1-3-2-1 units with ReLU activations in the hidden layers."
   ]
  },
  {
   "cell_type": "code",
   "execution_count": 95,
   "metadata": {},
   "outputs": [],
   "source": [
    "from abc import ABC, abstractmethod, abstractproperty\n",
    "\n",
    "\n",
    "class Module(ABC):\n",
    "    def __init__(self, module_name):\n",
    "        self.module_name = module_name\n",
    "\n",
    "    @abstractproperty\n",
    "    def parameters(self):\n",
    "        self.parameters = []\n",
    "\n",
    "    @abstractmethod\n",
    "    def _init_params(self):\n",
    "        pass\n",
    "\n",
    "    @abstractmethod\n",
    "    def __call__(self, x: list):\n",
    "        pass\n",
    "\n",
    "    def zero_grad(self):\n",
    "        for param in self.parameters:\n",
    "            param.grad = 0\n",
    "\n",
    "    \n",
    "class DenseLayer(Module):\n",
    "    def __init__(self, n_in, n_out, layer_index=0, activation=''):\n",
    "        self.n_in = n_in\n",
    "        self.n_out = n_out\n",
    "        self.i = layer_index\n",
    "        self.act = activation\n",
    "        super().__init__('DenseLayer')\n",
    "\n",
    "        self.weights = []\n",
    "        self.biases = []\n",
    "        self._init_params()\n",
    "\n",
    "    @property\n",
    "    def parameters(self):\n",
    "        return [w for layer in self.weights for w in layer] + self.biases\n",
    "\n",
    "    def __call__(self, x):\n",
    "        out = []\n",
    "        for k in range(self.n_out):\n",
    "            w = self.weights[k]\n",
    "            o = self.biases[k]\n",
    "            for j in range(self.n_in):\n",
    "                o += x[j] * w[j]; o.label = f'o[{self.i},{k}]'\n",
    "            if self.act == 'relu':\n",
    "                o = o.relu() \n",
    "            elif self.act == 'tanh':\n",
    "                o = o.tanh()\n",
    "            else:\n",
    "                pass # Identity activation\n",
    "            out.append(o)\n",
    "        return out\n",
    "\n",
    "    def _init_params(self):\n",
    "        \"\"\"Initialize network weights randomly.\"\"\"\n",
    "\n",
    "        for k in range(self.n_out):\n",
    "            b = Node(0.0, label=f\"b[{self.i},{k}]\")\n",
    "            self.biases.append(b)\n",
    "\n",
    "            w = []\n",
    "            for j in range(self.n_in):\n",
    "                w_init = np.random.random()\n",
    "                w.append(Node(w_init, f\"w[{self.i},{j},{k}]\"))\n",
    "            self.weights.append(w)\n",
    "            \n",
    "\n",
    "class MLPRegressor(Module):\n",
    "    def __init__(self, shape, activation='tanh'):\n",
    "        self.shape = shape\n",
    "        self.activation = activation\n",
    "        super().__init__('MLP')\n",
    "        \n",
    "        self.layers = []\n",
    "        self.pred_node = None\n",
    "        self._init_params()\n",
    "\n",
    "    def __call__(self, x: list):\n",
    "        x = [Node(x[j], label=f\"x[{j}]\") for j in range(len(x))]\n",
    "        for layer in self.layers:\n",
    "            x = layer(x)\n",
    "        \n",
    "        self.pred_node = x[0]\n",
    "        return x[0].data\n",
    "\n",
    "    def _init_params(self):\n",
    "        \"\"\"Initialize layers and layer parameters.\"\"\" \n",
    "\n",
    "        # Each layer calls _init_params() internally.\n",
    "        for i in range(1, len(self.shape)):\n",
    "            activation = '' if i == len(self.shape) - 1 else self.activation\n",
    "            layer = DenseLayer(\n",
    "                self.shape[i-1], \n",
    "                self.shape[i], \n",
    "                i, activation\n",
    "            )\n",
    "            self.layers.append(layer)\n",
    "\n",
    "    @property\n",
    "    def parameters(self):\n",
    "        return [p for layer in self.layers for p in layer.parameters]\n"
   ]
  },
  {
   "cell_type": "code",
   "execution_count": 96,
   "metadata": {},
   "outputs": [],
   "source": [
    "def apply_sgd(model, eps, bs=1):\n",
    "    for p in model.parameters:\n",
    "        p.data -= (eps / bs) * p.grad \n",
    "\n",
    "def loss_fn(out, y):\n",
    "    return (out - y)**2"
   ]
  },
  {
   "cell_type": "code",
   "execution_count": 97,
   "metadata": {},
   "outputs": [
    {
     "data": {
      "application/vnd.jupyter.widget-view+json": {
       "model_id": "91c5542f004944dda234a2a0eaa969b1",
       "version_major": 2,
       "version_minor": 0
      },
      "text/plain": [
       "  0%|          | 0/10000 [00:00<?, ?it/s]"
      ]
     },
     "metadata": {},
     "output_type": "display_data"
    },
    {
     "name": "stdout",
     "output_type": "stream",
     "text": [
      "0.21280751270376333\n",
      "0.09142369741773052\n",
      "0.07809698958828946\n",
      "0.0748317983843161\n",
      "0.07282472928448087\n",
      "0.06949245913195917\n",
      "0.06064416446360525\n",
      "0.04966760009795683\n",
      "0.04427226220746054\n",
      "0.04089875814018116\n"
     ]
    }
   ],
   "source": [
    "from tqdm.notebook import tqdm\n",
    "\n",
    "model = MLPRegressor([1, 3, 2, 1])\n",
    "\n",
    "hist = []\n",
    "for _ in tqdm(range(10000)):\n",
    "    shuffled = random.sample(dataset, N)\n",
    "    avg_loss = 0.0\n",
    "    for i in range(N // 10):\n",
    "        minibatch = shuffled[i * 10: (i + 1) * 10]  # Get minibatch of size 10\n",
    "        batch_loss = 0\n",
    "        for x_, y_ in minibatch:\n",
    "            y = Node(y_, label='y')\n",
    "\n",
    "            model([x_])\n",
    "            out = model.pred_node\n",
    "            model.zero_grad()\n",
    "            loss = loss_fn(out, y)\n",
    "            loss.grad = 1.0\n",
    "            loss.backward()\n",
    "            apply_sgd(model, eps=0.001, bs=10)\n",
    "            batch_loss += loss.data\n",
    "        avg_loss += batch_loss / 10\n",
    "    avg_loss = avg_loss / (N // 10)\n",
    "    hist.append(avg_loss)\n",
    "    if (_ % 1000) == 0:\n",
    "        print(avg_loss)"
   ]
  },
  {
   "cell_type": "code",
   "execution_count": 99,
   "metadata": {},
   "outputs": [
    {
     "data": {
      "image/png": "[encoded data removed]",
      "text/plain": [
       "<Figure size 432x288 with 1 Axes>"
      ]
     },
     "metadata": {
      "needs_background": "light"
     },
     "output_type": "display_data"
    }
   ],
   "source": [
    "plt.plot(hist);"
   ]
  },
  {
   "cell_type": "markdown",
   "metadata": {},
   "source": [
    "## BP equations for MLPs"
   ]
  },
  {
   "cell_type": "markdown",
   "metadata": {},
   "source": [
    "```{margin}\n",
    "Source:<br>**Figure 1** of {cite}`0483bd9444a348c8b59d54a190839ec9`\n",
    "```\n",
    "```{figure} ../../img/deep-nns.png\n",
    "---\n",
    "width: 40em\n",
    "---\n",
    "\n",
    "**Figure 1** of {cite}`0483bd9444a348c8b59d54a190839ec9` should hopefully make sense after reading this article. This figure shows (left) forward pass for a multilayer neural network, and (right) backward pass for the same network.\n",
    "```"
   ]
  },
  {
   "cell_type": "markdown",
   "metadata": {},
   "source": [
    "In this section, we solve the BP equations for a densely connected neural network. This can be useful for looking gradient flow analytically. As shown in the above figure, a multilayer neural network can be modelled as a computational DAG. Note that we use row vectors to represent input and output in the equations below. Computation performed by the network at layer $t$ can be written in two steps as:\n",
    "\n",
    "* ${\\boldsymbol{\\mathsf{y}}}^{[l]} = \\boldsymbol{{\\mathsf{x}}}^{[l-1]}{\\boldsymbol{\\mathsf{W}}}^{[l]} + {\\boldsymbol{\\mathsf{b}}}^{[l]}$ \n",
    "* ${\\boldsymbol{\\mathsf{x}}}^{[l]} = \\varphi({\\boldsymbol{\\mathsf{y}}}^{[l]})$ \n",
    "\n",
    "Here we use row vectors for layer inputs and outputs. The following equations are obtained by simply matching input and output shapes, then trying to figure out the entries of the right hand side matrix by tracking node dependencies. For the compute nodes in the current layer, the BP equations are:\n",
    "    \n",
    "$$\n",
    "\\dfrac{\\partial \\mathcal L}{\\partial {\\boldsymbol{\\mathsf{x}}}^{[l]}} \n",
    "= \n",
    "\\dfrac{\\partial \\mathcal L}{\\partial {\\boldsymbol{\\mathsf{y}}}^{[l+1]}} \n",
    "\\dfrac{\\partial {\\boldsymbol{\\mathsf{y}}}^{[l+1]}}{\\partial {\\boldsymbol{\\mathsf{x}}}^{[l]}} \n",
    "=\n",
    "\\dfrac{\\partial \\mathcal L}{{\\partial \\boldsymbol{\\mathsf{y}}}^{[l+1]}}\n",
    "\\boldsymbol{\\mathsf{W}}^{[l+1]\\top}\n",
    "$$\n",
    "\n",
    "and\n",
    "\n",
    "$$\n",
    "\\dfrac{\\partial \\mathcal L}{\\partial {{\\boldsymbol{\\mathsf{y}}}}^{[l]}} \n",
    "= \n",
    "\\dfrac{\\partial \\mathcal L}{\\partial {\\boldsymbol{\\mathsf{x}}}^{[l]}} \n",
    "\\dfrac{\\partial {\\boldsymbol{\\mathsf{x}}}^{[l]}}{\\partial {\\boldsymbol{\\mathsf{y}}}^{[l]}} \n",
    "= \n",
    "\\dfrac{\\partial \\mathcal L}{{\\partial \\boldsymbol{\\mathsf{x}}}^{[l]}}\n",
    "{{\\boldsymbol{\\mathsf{J}}}_\\varphi}{^{[l]}}.\n",
    "$$"
   ]
  },
  {
   "cell_type": "markdown",
   "metadata": {},
   "source": [
    "Here the Jacobian matrix is defined as $\\left({\\boldsymbol{\\mathsf{J}}}_{\\varphi}\\right)_{ij} = \\frac{\\partial {\\mathsf x}_i}{\\partial {\\mathsf y}_j}$. For commonly used activations, i.e. those which are applied entrywise on vector inputs, the Jacobian reduces to a diagonal matrix. The backpropagated gradients for parameter nodes are:\n",
    "\n",
    "$$\n",
    "\\dfrac{\\partial \\mathcal L}{\\partial {\\boldsymbol {\\mathsf W}}^{[l]}} \n",
    "= \n",
    "\\dfrac{\\partial \\mathcal L}{\\partial {{\\boldsymbol{\\mathsf y}}}^{[l]}} \n",
    "\\dfrac{\\partial {{\\boldsymbol{\\mathsf y}}}^{[l]}}{\\partial {\\boldsymbol {\\mathsf W}}^{[l]}} \n",
    "= \n",
    "\\boldsymbol{\\mathsf{x}}^{[l-1]\\top}\n",
    "\\dfrac{\\partial \\mathcal L}{\\partial {{\\boldsymbol{\\mathsf y}}}^{[l]}} \n",
    "$$\n",
    "\n",
    "and\n",
    "\n",
    "$$\n",
    "\\dfrac{\\partial \\mathcal L}{\\partial {\\boldsymbol{\\mathsf{b}}_{j}}^{[l]}} \n",
    "= \n",
    "\\dfrac{\\partial \\mathcal L}{\\partial {{\\boldsymbol{\\mathsf y}}}^{[l]}}\n",
    "\\dfrac{\\partial {{\\boldsymbol{\\mathsf y}}}^{[l]}}{\\partial {\\boldsymbol{\\mathsf{b}}}^{[l]}} \n",
    "= \n",
    "\\dfrac{\\partial \\mathcal L}{\\partial {{\\boldsymbol{\\mathsf y}}}^{[l]}}.\n",
    "$$"
   ]
  },
  {
   "cell_type": "markdown",
   "metadata": {},
   "source": [
    "Backpropagated gradients for compute nodes have to be stored until weights are updated. Observe that derivatives of the compute nodes of layer $l+1$ are retrieved to compute gradients in layer $l.$ On the other hand, the local gradients ${\\boldsymbol {\\mathsf J}}_\\varphi$ are computed using autodifferentiation and are evaluated at the current network state based on values obtained at forward pass."
   ]
  },
  {
   "cell_type": "markdown",
   "metadata": {},
   "source": [
    "<br>"
   ]
  },
  {
   "cell_type": "markdown",
   "metadata": {},
   "source": [
    "```{figure} ../../img/jacobian.svg\n",
    "---\n",
    "name: jacobian\n",
    "width: 75%\n",
    "---\n",
    "Deriving the equations by matching shapes of derivatives as matrices. Trick is to put the incoming gradients as input (blue), and current gradients as output (gray). Figure out the transformation in between containing the local gradients (red).\n",
    "```\n"
   ]
  },
  {
   "cell_type": "markdown",
   "metadata": {},
   "source": [
    "## TensorFlow Autodiff\n",
    "\n",
    "The above equations and process is demonstrated in the following computation:"
   ]
  },
  {
   "cell_type": "code",
   "execution_count": 8,
   "metadata": {},
   "outputs": [
    {
     "name": "stdout",
     "output_type": "stream",
     "text": [
      "2.9.2\n",
      "Metal device set to: Apple M1\n",
      "\n",
      "systemMemory: 8.00 GB\n",
      "maxCacheSize: 2.67 GB\n",
      "\n"
     ]
    },
    {
     "name": "stderr",
     "output_type": "stream",
     "text": [
      "2022-08-28 01:49:58.433892: I tensorflow/core/common_runtime/pluggable_device/pluggable_device_factory.cc:305] Could not identify NUMA node of platform GPU ID 0, defaulting to 0. Your kernel may not have been built with NUMA support.\n",
      "2022-08-28 01:49:58.434006: I tensorflow/core/common_runtime/pluggable_device/pluggable_device_factory.cc:271] Created TensorFlow device (/job:localhost/replica:0/task:0/device:GPU:0 with 0 MB memory) -> physical PluggableDevice (device: 0, name: METAL, pci bus id: <undefined>)\n"
     ]
    }
   ],
   "source": [
    "import tensorflow as tf\n",
    "print(tf.__version__)\n",
    "\n",
    "# Input and weight init.\n",
    "x0 = tf.Variable(tf.random.normal(shape=(1, 4)))\n",
    "W1 = tf.Variable(tf.random.normal(shape=(4, 3)))\n",
    "b1 = tf.Variable(tf.random.normal(shape=(1, 3)))\n",
    "W2 = tf.Variable(tf.random.normal(shape=(3, 2)))"
   ]
  },
  {
   "cell_type": "code",
   "execution_count": 9,
   "metadata": {},
   "outputs": [
    {
     "name": "stdout",
     "output_type": "stream",
     "text": [
      "(weights)\n",
      "TF autodiff:\n",
      "[[-0.02551604  0.00109216  0.02442426]\n",
      " [ 0.01623343 -0.00069484 -0.01553884]\n",
      " [ 0.01366194 -0.00058477 -0.01307738]\n",
      " [-0.02030785  0.00086924  0.01943892]]\n",
      "\n",
      "BP equations:\n",
      "[[-0.02551604  0.00109216  0.02442409]\n",
      " [ 0.01623344 -0.00069484 -0.01553873]\n",
      " [ 0.01366195 -0.00058477 -0.01307729]\n",
      " [-0.02030786  0.00086924  0.01943879]]\n",
      "\n",
      "(biases)\n",
      "TF autodiff:  [[-0.02342275  0.00100256  0.02242054]]\n",
      "BP equations: [[-0.02342275  0.00100256  0.02242038]]\n"
     ]
    },
    {
     "name": "stderr",
     "output_type": "stream",
     "text": [
      "2022-08-28 01:49:59.067667: W tensorflow/core/platform/profile_utils/cpu_utils.cc:128] Failed to get CPU frequency: 0 Hz\n",
      "2022-08-28 01:49:59.068169: I tensorflow/core/grappler/optimizers/custom_graph_optimizer_registry.cc:113] Plugin optimizer for device_type GPU is enabled.\n"
     ]
    }
   ],
   "source": [
    "# Forward:\n",
    "with tf.GradientTape(persistent=True) as tape:\n",
    "    y1 = tf.matmul(x0, W1) + b1\n",
    "    x1 = tf.keras.activations.softmax(y1)\n",
    "\n",
    "    y2 = tf.matmul(x1, W2)\n",
    "    L = tf.reduce_sum(y2**2)\n",
    "\n",
    "# Backward:\n",
    "# (1) ∂L/∂x[t] = ∂L/∂y[t+1] W[t+1]\n",
    "# Fetch ∂L/∂y[t+1] from upper layer.\n",
    "L_x1 = tf.matmul(tape.gradient(L, y2), tf.transpose(W2))\n",
    "\n",
    "# (2) ∂L/∂y[t] = ∂L/∂x[t] J[t]\n",
    "# Compute local gradients using autodiff.\n",
    "L_y1 = tf.matmul(L_x1, tf.reshape(tape.jacobian(x1, y1), (3, 3)))\n",
    "\n",
    "# (3) ∂L/∂W[t] = x[t-1]T ∂L/∂y[t]\n",
    "L_W1 = tf.matmul(tf.transpose(x0), L_y1)\n",
    "\n",
    "# (4) ∂L/∂b[t] = ∂L/∂y[t]\n",
    "L_b1 = L_y1\n",
    "\n",
    "print(\"(weights)\")\n",
    "print(\"TF autodiff:\")\n",
    "print(tape.gradient(L, W1).numpy())\n",
    "print(\"\\nBP equations:\")\n",
    "print(L_W1.numpy())\n",
    "\n",
    "print(\"\\n(biases)\")\n",
    "print(\"TF autodiff: \", tape.gradient(L, b1).numpy())\n",
    "print(\"BP equations:\", L_b1.numpy())"
   ]
  },
  {
   "cell_type": "markdown",
   "metadata": {},
   "source": [
    "<!-- ## Autodifferentiation with PyTorch `autograd`\n",
    "\n",
    "The `autograd` package allows automatic differentiation by building computational graphs on the fly every time we pass data through our model. Autograd tracks which data combined through which operations to produce the output. This allows us to take derivatives over ordinary imperative code. This functionality is consistent with the memory and time requirements outlined in above for BP.\n",
    "\n",
    "<br>\n",
    "\n",
    "**Backward for scalars.** Let $y = \\mathbf x^\\top \\mathbf x = \\sum_i {x_i}^2.$ In this example, we initialize a tensor `x` which initially has no gradient. Calling backward on `y` results in gradients being stored on the leaf tensor `x`.  -->"
   ]
  },
  {
   "cell_type": "markdown",
   "metadata": {},
   "source": [
    "<!-- x = torch.arange(4, dtype=torch.float, requires_grad=True)\n",
    "y = x.T @ x \n",
    "\n",
    "y.backward() \n",
    "(x.grad == 2*x).all() -->"
   ]
  },
  {
   "cell_type": "markdown",
   "metadata": {},
   "source": [
    "<!-- **Backward for vectors.** Let $\\mathbf y = g(\\mathbf x)$ and let $\\mathbf v$ be a vector having the same length as $\\mathbf y.$ Then `y.backward(v)` implements   \n",
    "\n",
    "$$\\sum_i v_i \\left(\\frac{\\partial y_i}{\\partial x_j}\\right)$$ \n",
    "  \n",
    "resulting in a vector of same length as `x` that is stored in `x.grad`. Note that the terms on the right are the local gradients in backprop. Hence, if `v` contains backpropagated gradients of nodes that depend on `y`, then this operation gives us the backpropagated gradients with respect to `x`, i.e. setting $v_i = \\frac{\\partial \\mathcal{L} }{\\partial y_i}$ gives us the vector $\\frac{\\partial \\mathcal{L} }{\\partial x_j}.$ -->"
   ]
  },
  {
   "cell_type": "markdown",
   "metadata": {},
   "source": [
    "<!-- x = torch.rand(size=(4,), dtype=torch.float, requires_grad=True)\n",
    "v = torch.rand(size=(2,), dtype=torch.float)\n",
    "y = x[:2]\n",
    "\n",
    "# Computing the Jacobian by hand\n",
    "J = torch.tensor(\n",
    "    [[1, 0, 0, 0],\n",
    "    [0, 1, 0, 0]], dtype=torch.float\n",
    ")\n",
    "\n",
    "# Confirming the above formula\n",
    "y.backward(v)\n",
    "(x.grad == v @ J).all() -->"
   ]
  },
  {
   "cell_type": "markdown",
   "metadata": {},
   "source": [
    "<!-- **Locally disabling gradient tracking.** Disabling gradient computation is useful when computing values, e.g. accuracy, whose gradients will not be backpropagated into the network. To stop PyTorch from building computational graphs, we can put the code inside a `torch.no_grad()` context or inside a function with a `@torch.no_grad()` decorator.\n",
    "\n",
    "Another technique is to use the `.detach()` method which returns a new tensor detached from the current graph but shares the same storage with the original one. In-place modifications on either of them will be seen, and may trigger errors in correctness checks. -->"
   ]
  }
 ],
 "metadata": {
  "kernelspec": {
   "display_name": "Python 3.9.13 ('tf')",
   "language": "python",
   "name": "python3"
  },
  "language_info": {
   "codemirror_mode": {
    "name": "ipython",
    "version": 3
   },
   "file_extension": ".py",
   "mimetype": "text/x-python",
   "name": "python",
   "nbconvert_exporter": "python",
   "pygments_lexer": "ipython3",
   "version": "3.9.13"
  },
  "orig_nbformat": 4,
  "vscode": {
   "interpreter": {
    "hash": "6bb4561ca8d8b7b3a7bc7514080b6e7dab3824c9a0b3ef748f0e5ff42277ee64"
   }
  }
 },
 "nbformat": 4,
 "nbformat_minor": 2
}
