{
 "cells": [
  {
   "cell_type": "markdown",
   "id": "7a47c78c",
   "metadata": {
    "execution": {
     "iopub.execute_input": "2021-11-16T22:13:27.267918Z",
     "iopub.status.busy": "2021-11-16T22:13:27.267385Z",
     "iopub.status.idle": "2021-11-16T22:13:27.282097Z",
     "shell.execute_reply": "2021-11-16T22:13:27.281155Z",
     "shell.execute_reply.started": "2021-11-16T22:13:27.267792Z"
    },
    "papermill": {
     "duration": 0.079564,
     "end_time": "2021-11-16T23:10:14.919342",
     "exception": false,
     "start_time": "2021-11-16T23:10:14.839778",
     "status": "completed"
    },
    "tags": []
   },
   "source": [
    "# Tutorial 2: Introduction to PyTorch\n"
   ]
  },
  {
   "cell_type": "markdown",
   "id": "3a41c6d9",
   "metadata": {
    "_cell_guid": "6b1307fe-e0e8-4835-b2a8-f6b4cb62a0a2",
    "_uuid": "71d03aa8-484b-4414-bd5c-480d6f00c385",
    "jupyter": {
     "outputs_hidden": false
    },
    "papermill": {
     "duration": 0.075182,
     "end_time": "2021-11-16T23:10:15.116751",
     "exception": false,
     "start_time": "2021-11-16T23:10:15.041569",
     "status": "completed"
    },
    "tags": []
   },
   "source": [
    "```{admonition} Attribution\n",
    "Fork of [Tutorial 2](https://uvadlc-notebooks.readthedocs.io/en/latest/tutorial_notebooks/tutorial2/Introduction_to_PyTorch.html) of the [Deep Learning Course 2020 at the University of Amsterdam](https://uvadlc.github.io/lectures-nov2020.html#).\n",
    "```"
   ]
  },
  {
   "cell_type": "markdown",
   "id": "e2557ac7",
   "metadata": {
    "papermill": {
     "duration": 0.07427,
     "end_time": "2021-11-16T23:10:15.265623",
     "exception": false,
     "start_time": "2021-11-16T23:10:15.191353",
     "status": "completed"
    },
    "tags": []
   },
   "source": [
    "The following notebook is meant to give a short introduction to PyTorch basics, and get you setup for writing your own neural networks. **PyTorch** is an open source machine learning framework that allows you to write your own neural networks and optimize them efficiently. However, PyTorch is not the only framework of its kind. Alternatives to PyTorch include TensorFlow, JAX and MXNet. We choose PyTorch because it is well established, has a huge developer community (originally developed by Facebook), is very flexible and especially used in research. Many current papers publish their code in PyTorch, and thus it is good to be familiar with PyTorch as well. \n",
    "\n",
    "Meanwhile, **TensorFlow** (developed by Google) is usually known for being a production-grade deep learning library. Still, if you know one machine learning framework in depth, it is very easy to learn another one because many of them use the same concepts and ideas. For instance, TensorFlow’s version 2 was heavily inspired by the most popular features of PyTorch, making the frameworks even more similar. If you are already familiar with PyTorch and have created your own neural network projects, feel free to just skim this notebook."
   ]
  },
  {
   "cell_type": "code",
   "execution_count": 3,
   "id": "09869b91",
   "metadata": {
    "execution": {
     "iopub.execute_input": "2021-11-16T23:10:15.428324Z",
     "iopub.status.busy": "2021-11-16T23:10:15.426993Z",
     "iopub.status.idle": "2021-11-16T23:10:15.489476Z",
     "shell.execute_reply": "2021-11-16T23:10:15.488969Z",
     "shell.execute_reply.started": "2021-11-16T22:49:06.197416Z"
    },
    "papermill": {
     "duration": 0.145549,
     "end_time": "2021-11-16T23:10:15.489629",
     "exception": false,
     "start_time": "2021-11-16T23:10:15.344080",
     "status": "completed"
    },
    "tags": []
   },
   "outputs": [],
   "source": [
    "import os\n",
    "import math\n",
    "import numpy as np \n",
    "import time\n",
    "\n",
    "import matplotlib.pyplot as plt\n",
    "from matplotlib.colors import to_rgba\n",
    "\n",
    "from tqdm.notebook import tqdm"
   ]
  },
  {
   "cell_type": "markdown",
   "id": "b1bbb4e4",
   "metadata": {
    "papermill": {
     "duration": 0.074464,
     "end_time": "2021-11-16T23:10:15.638705",
     "exception": false,
     "start_time": "2021-11-16T23:10:15.564241",
     "status": "completed"
    },
    "tags": []
   },
   "source": [
    "## Basics of PyTorch\n",
    "\n",
    "We will start with reviewing the very basic concepts of PyTorch. As a prerequisite, we recommend to be familiar with the `numpy` package as most machine learning frameworks are based on very similar concepts. As a first step, let us check the version of the installed PyTorch library `torch`: "
   ]
  },
  {
   "cell_type": "code",
   "execution_count": 1,
   "id": "0c0d5b52",
   "metadata": {
    "execution": {
     "iopub.execute_input": "2021-11-16T23:10:15.796794Z",
     "iopub.status.busy": "2021-11-16T23:10:15.796149Z",
     "iopub.status.idle": "2021-11-16T23:10:17.183091Z",
     "shell.execute_reply": "2021-11-16T23:10:17.182490Z",
     "shell.execute_reply.started": "2021-11-16T22:49:06.273835Z"
    },
    "papermill": {
     "duration": 1.467534,
     "end_time": "2021-11-16T23:10:17.183226",
     "exception": false,
     "start_time": "2021-11-16T23:10:15.715692",
     "status": "completed"
    },
    "tags": []
   },
   "outputs": [
    {
     "name": "stdout",
     "output_type": "stream",
     "text": [
      "Using torch 1.10.0\n"
     ]
    }
   ],
   "source": [
    "import torch\n",
    "print(\"Using torch\", torch.__version__)"
   ]
  },
  {
   "cell_type": "markdown",
   "id": "20337626",
   "metadata": {
    "execution": {
     "iopub.execute_input": "2021-11-16T22:14:15.778994Z",
     "iopub.status.busy": "2021-11-16T22:14:15.778693Z",
     "iopub.status.idle": "2021-11-16T22:14:15.784849Z",
     "shell.execute_reply": "2021-11-16T22:14:15.78383Z",
     "shell.execute_reply.started": "2021-11-16T22:14:15.778933Z"
    },
    "papermill": {
     "duration": 0.075178,
     "end_time": "2021-11-16T23:10:17.338267",
     "exception": false,
     "start_time": "2021-11-16T23:10:17.263089",
     "status": "completed"
    },
    "tags": []
   },
   "source": [
    "As in every machine learning framework, PyTorch provides functions that are stochastic like generating random numbers. However, a very good practice is to setup your code to be reproducible with the exact same random numbers. This is why we set a seed below. "
   ]
  },
  {
   "cell_type": "code",
   "execution_count": 2,
   "id": "740d58bd",
   "metadata": {
    "execution": {
     "iopub.execute_input": "2021-11-16T23:10:17.495596Z",
     "iopub.status.busy": "2021-11-16T23:10:17.494899Z",
     "iopub.status.idle": "2021-11-16T23:10:17.502471Z",
     "shell.execute_reply": "2021-11-16T23:10:17.502930Z",
     "shell.execute_reply.started": "2021-11-16T22:49:07.592351Z"
    },
    "papermill": {
     "duration": 0.088274,
     "end_time": "2021-11-16T23:10:17.503066",
     "exception": false,
     "start_time": "2021-11-16T23:10:17.414792",
     "status": "completed"
    },
    "tags": []
   },
   "outputs": [
    {
     "data": {
      "text/plain": [
       "<torch._C.Generator at 0x10a900590>"
      ]
     },
     "execution_count": 2,
     "metadata": {},
     "output_type": "execute_result"
    }
   ],
   "source": [
    "torch.manual_seed(42) # Setting the seed"
   ]
  },
  {
   "cell_type": "markdown",
   "id": "1f5bed7b",
   "metadata": {
    "papermill": {
     "duration": 0.075361,
     "end_time": "2021-11-16T23:10:17.654685",
     "exception": false,
     "start_time": "2021-11-16T23:10:17.579324",
     "status": "completed"
    },
    "tags": []
   },
   "source": [
    "### Tensors\n",
    "\n",
    "Tensors are the PyTorch equivalent to NumPy arrays, with the addition to also have support for GPU acceleration (more on that later).\n",
    "The name \"tensor\" is a generalization of concepts you already know. For instance, a vector is a 1-D tensor, and a matrix a 2-D tensor. When working with neural networks, we will use tensors of various shapes and number of dimensions.\n",
    "\n",
    "Most common functions you know from NumPy can be used on tensors as well. Actually, since NumPy arrays are so similar to tensors, we can convert most tensors to NumPy arrays (and back) but we don't need it too often.\n",
    "\n",
    "#### Initialization\n",
    "\n",
    "Let's first start by looking at different ways of creating a tensor. There are many possible options, the most simple one is to call `torch.Tensor` with the desired shape as input argument:"
   ]
  },
  {
   "cell_type": "code",
   "execution_count": 7,
   "id": "2dbb134e",
   "metadata": {
    "execution": {
     "iopub.execute_input": "2021-11-16T23:10:17.812932Z",
     "iopub.status.busy": "2021-11-16T23:10:17.812199Z",
     "iopub.status.idle": "2021-11-16T23:10:17.876572Z",
     "shell.execute_reply": "2021-11-16T23:10:17.877227Z",
     "shell.execute_reply.started": "2021-11-16T22:49:07.604232Z"
    },
    "papermill": {
     "duration": 0.148052,
     "end_time": "2021-11-16T23:10:17.877419",
     "exception": false,
     "start_time": "2021-11-16T23:10:17.729367",
     "status": "completed"
    },
    "tags": []
   },
   "outputs": [
    {
     "name": "stdout",
     "output_type": "stream",
     "text": [
      "tensor([[[1.4013e-44, 0.0000e+00, 0.0000e+00, 0.0000e+00],\n",
      "         [0.0000e+00, 0.0000e+00, 7.0295e+28, 6.1949e-04],\n",
      "         [1.3818e-19, 2.6453e+20, 1.8492e+20, 1.7753e+28]],\n",
      "\n",
      "        [[2.0535e-19, 4.6316e+27, 7.1429e+31, 1.9338e+34],\n",
      "         [5.0782e+31, 4.2964e+24, 1.7753e+28, 1.3458e-14],\n",
      "         [2.5204e-12, 3.1434e-12, 2.5488e-12, 9.9621e+17]]])\n"
     ]
    }
   ],
   "source": [
    "x = torch.Tensor(2, 3, 4)\n",
    "print(x)"
   ]
  },
  {
   "cell_type": "markdown",
   "id": "8622951f",
   "metadata": {
    "papermill": {
     "duration": 0.075769,
     "end_time": "2021-11-16T23:10:18.030509",
     "exception": false,
     "start_time": "2021-11-16T23:10:17.954740",
     "status": "completed"
    },
    "tags": []
   },
   "source": [
    "The constructor `torch.Tensor` is equivalent to `torch.empty` which allocates memory for the desired tensor, but reuses any values that have already been in the memory. To create a tensor from data we can use `torch.tensor(data, dtype=None)` which returns a tensor version of the data with the appropriate type. "
   ]
  },
  {
   "cell_type": "code",
   "execution_count": 6,
   "id": "92b46b6a",
   "metadata": {
    "execution": {
     "iopub.execute_input": "2021-11-16T23:10:18.186003Z",
     "iopub.status.busy": "2021-11-16T23:10:18.185429Z",
     "iopub.status.idle": "2021-11-16T23:10:18.190994Z",
     "shell.execute_reply": "2021-11-16T23:10:18.190504Z",
     "shell.execute_reply.started": "2021-11-16T22:49:07.677082Z"
    },
    "papermill": {
     "duration": 0.085087,
     "end_time": "2021-11-16T23:10:18.191102",
     "exception": false,
     "start_time": "2021-11-16T23:10:18.106015",
     "status": "completed"
    },
    "tags": []
   },
   "outputs": [
    {
     "name": "stdout",
     "output_type": "stream",
     "text": [
      "tensor([[1, 2],\n",
      "        [3, 4]])\n"
     ]
    }
   ],
   "source": [
    "# Create a tensor from data\n",
    "x = torch.tensor([[1, 2], [3, 4]])\n",
    "print(x)"
   ]
  },
  {
   "cell_type": "markdown",
   "id": "335a39dc",
   "metadata": {},
   "source": [
    "We can use `torch.zeros` and `torch.ones` to initialize a tensor of zeros and ones, respectively. To initialize random tensors, we can use `torch.rand` to sample from the uniform distribution on $[0, 1]$, and `torch.randn` to sample from the standard normal. Similar to `torch.empty`, these functions take in `*args` such that the resulting tensor has shape `args`. Finally, `torch.arange(m, n)` initializes as tensor of consecutive integers $m, m+1, , \\ldots, n-1$. "
   ]
  },
  {
   "cell_type": "code",
   "execution_count": 6,
   "id": "e51b048a",
   "metadata": {
    "execution": {
     "iopub.execute_input": "2021-11-16T23:10:18.437553Z",
     "iopub.status.busy": "2021-11-16T23:10:18.436388Z",
     "iopub.status.idle": "2021-11-16T23:10:18.448805Z",
     "shell.execute_reply": "2021-11-16T23:10:18.449508Z",
     "shell.execute_reply.started": "2021-11-16T22:49:07.683868Z"
    },
    "papermill": {
     "duration": 0.157106,
     "end_time": "2021-11-16T23:10:18.449843",
     "exception": false,
     "start_time": "2021-11-16T23:10:18.292737",
     "status": "completed"
    },
    "tags": []
   },
   "outputs": [
    {
     "name": "stdout",
     "output_type": "stream",
     "text": [
      "tensor([[[0.8823, 0.9150, 0.3829, 0.9593],\n",
      "         [0.3904, 0.6009, 0.2566, 0.7936],\n",
      "         [0.9408, 0.1332, 0.9346, 0.5936]],\n",
      "\n",
      "        [[0.8694, 0.5677, 0.7411, 0.4294],\n",
      "         [0.8854, 0.5739, 0.2666, 0.6274],\n",
      "         [0.2696, 0.4414, 0.2969, 0.8317]]])\n"
     ]
    }
   ],
   "source": [
    "# Create a tensor with random values between 0 and 1 with the shape [2, 3, 4]\n",
    "x = torch.rand(2, 3, 4)\n",
    "print(x)"
   ]
  },
  {
   "cell_type": "markdown",
   "id": "4b91f452",
   "metadata": {
    "papermill": {
     "duration": 0.124147,
     "end_time": "2021-11-16T23:10:18.715264",
     "exception": false,
     "start_time": "2021-11-16T23:10:18.591117",
     "status": "completed"
    },
    "tags": []
   },
   "source": [
    "You can obtain the shape of a tensor in the same way as in NumPy (`x.shape`), or using the `.size` method:"
   ]
  },
  {
   "cell_type": "code",
   "execution_count": 7,
   "id": "ef9086d5",
   "metadata": {
    "execution": {
     "iopub.execute_input": "2021-11-16T23:10:18.914722Z",
     "iopub.status.busy": "2021-11-16T23:10:18.913887Z",
     "iopub.status.idle": "2021-11-16T23:10:18.917126Z",
     "shell.execute_reply": "2021-11-16T23:10:18.917738Z",
     "shell.execute_reply.started": "2021-11-16T22:49:07.699807Z"
    },
    "papermill": {
     "duration": 0.086497,
     "end_time": "2021-11-16T23:10:18.917936",
     "exception": false,
     "start_time": "2021-11-16T23:10:18.831439",
     "status": "completed"
    },
    "tags": []
   },
   "outputs": [
    {
     "name": "stdout",
     "output_type": "stream",
     "text": [
      "Shape: torch.Size([2, 3, 4])\n",
      "Size: torch.Size([2, 3, 4])\n",
      "Size: 2 3 4\n"
     ]
    }
   ],
   "source": [
    "shape = x.shape\n",
    "print(\"Shape:\", x.shape)\n",
    "\n",
    "size = x.size()\n",
    "print(\"Size:\", size)\n",
    "\n",
    "dim1, dim2, dim3 = x.size()\n",
    "print(\"Size:\", dim1, dim2, dim3)"
   ]
  },
  {
   "cell_type": "markdown",
   "id": "e0e0031d",
   "metadata": {
    "papermill": {
     "duration": 0.075974,
     "end_time": "2021-11-16T23:10:19.071188",
     "exception": false,
     "start_time": "2021-11-16T23:10:18.995214",
     "status": "completed"
    },
    "tags": []
   },
   "source": [
    "#### Tensor $\\leftrightarrow$ Numpy\n",
    "\n",
    "Tensors can be converted to numpy arrays, and numpy arrays back to tensors. To transform a numpy array into a tensor, we can use the function `torch.from_numpy`:"
   ]
  },
  {
   "cell_type": "code",
   "execution_count": 8,
   "id": "cfcd3f70",
   "metadata": {
    "execution": {
     "iopub.execute_input": "2021-11-16T23:10:19.232772Z",
     "iopub.status.busy": "2021-11-16T23:10:19.231721Z",
     "iopub.status.idle": "2021-11-16T23:10:19.235635Z",
     "shell.execute_reply": "2021-11-16T23:10:19.236026Z",
     "shell.execute_reply.started": "2021-11-16T22:49:07.710062Z"
    },
    "papermill": {
     "duration": 0.087846,
     "end_time": "2021-11-16T23:10:19.236161",
     "exception": false,
     "start_time": "2021-11-16T23:10:19.148315",
     "status": "completed"
    },
    "tags": []
   },
   "outputs": [
    {
     "name": "stdout",
     "output_type": "stream",
     "text": [
      "NumPy array:\n",
      "[[1 2]\n",
      " [3 4]]\n",
      "\n",
      "PyTorch tensor:\n",
      "tensor([[1, 2],\n",
      "        [3, 4]])\n"
     ]
    }
   ],
   "source": [
    "np_arr = np.array([[1, 2], [3, 4]])\n",
    "tensor = torch.from_numpy(np_arr)\n",
    "\n",
    "print(\"NumPy array:\") \n",
    "print(np_arr)\n",
    "print(\"\\nPyTorch tensor:\") \n",
    "print(tensor)"
   ]
  },
  {
   "cell_type": "markdown",
   "id": "afb39e4a",
   "metadata": {
    "papermill": {
     "duration": 0.07832,
     "end_time": "2021-11-16T23:10:19.391837",
     "exception": false,
     "start_time": "2021-11-16T23:10:19.313517",
     "status": "completed"
    },
    "tags": []
   },
   "source": [
    "To transform a PyTorch tensor back to a numpy array, we can use the function `.numpy()` on tensors:"
   ]
  },
  {
   "cell_type": "code",
   "execution_count": 9,
   "id": "ded0d760",
   "metadata": {
    "execution": {
     "iopub.execute_input": "2021-11-16T23:10:19.550333Z",
     "iopub.status.busy": "2021-11-16T23:10:19.549694Z",
     "iopub.status.idle": "2021-11-16T23:10:19.557091Z",
     "shell.execute_reply": "2021-11-16T23:10:19.557694Z",
     "shell.execute_reply.started": "2021-11-16T22:49:07.722228Z"
    },
    "papermill": {
     "duration": 0.089034,
     "end_time": "2021-11-16T23:10:19.557865",
     "exception": false,
     "start_time": "2021-11-16T23:10:19.468831",
     "status": "completed"
    },
    "tags": []
   },
   "outputs": [
    {
     "name": "stdout",
     "output_type": "stream",
     "text": [
      "PyTorch tensor: tensor([0, 1, 2, 3])\n",
      "NumPy array: [0 1 2 3]\n"
     ]
    }
   ],
   "source": [
    "tensor = torch.arange(4)\n",
    "np_arr = tensor.numpy()\n",
    "\n",
    "print(\"PyTorch tensor:\", tensor)\n",
    "print(\"NumPy array:\", np_arr)"
   ]
  },
  {
   "cell_type": "markdown",
   "id": "f3800b08",
   "metadata": {
    "papermill": {
     "duration": 0.077356,
     "end_time": "2021-11-16T23:10:19.713631",
     "exception": false,
     "start_time": "2021-11-16T23:10:19.636275",
     "status": "completed"
    },
    "tags": []
   },
   "source": [
    "The conversion of tensors to numpy require the tensor to be on the CPU, and not the GPU (more on GPU support in a later section). In case you have a tensor on GPU, you need to call `.cpu()` on the tensor beforehand. Hence, you get a line like `np_arr = tensor.cpu().numpy()`."
   ]
  },
  {
   "cell_type": "markdown",
   "id": "e0484224",
   "metadata": {
    "papermill": {
     "duration": 0.078719,
     "end_time": "2021-11-16T23:10:19.870362",
     "exception": false,
     "start_time": "2021-11-16T23:10:19.791643",
     "status": "completed"
    },
    "tags": []
   },
   "source": [
    "#### Operations\n",
    "\n",
    "Most operations that exist in numpy, also exist in PyTorch. A full list of operations can be found in the [PyTorch documentation](https://pytorch.org/docs/stable/tensors.html#), but we will review the most important ones here.\n",
    "\n",
    "The simplest operation is to add two tensors:"
   ]
  },
  {
   "cell_type": "code",
   "execution_count": 10,
   "id": "bcdeaabc",
   "metadata": {
    "execution": {
     "iopub.execute_input": "2021-11-16T23:10:20.034793Z",
     "iopub.status.busy": "2021-11-16T23:10:20.034093Z",
     "iopub.status.idle": "2021-11-16T23:10:20.042321Z",
     "shell.execute_reply": "2021-11-16T23:10:20.041885Z",
     "shell.execute_reply.started": "2021-11-16T22:49:07.735274Z"
    },
    "papermill": {
     "duration": 0.092514,
     "end_time": "2021-11-16T23:10:20.042434",
     "exception": false,
     "start_time": "2021-11-16T23:10:19.949920",
     "status": "completed"
    },
    "tags": []
   },
   "outputs": [
    {
     "name": "stdout",
     "output_type": "stream",
     "text": [
      "x1 =\n",
      "tensor([[0.1053, 0.2695, 0.3588],\n",
      "        [0.1994, 0.5472, 0.0062]])\n",
      "x2 =\n",
      "tensor([[0.9516, 0.0753, 0.8860],\n",
      "        [0.5832, 0.3376, 0.8090]])\n",
      "\n",
      "y =\n",
      "tensor([[1.0569, 0.3448, 1.2448],\n",
      "        [0.7826, 0.8848, 0.8151]])\n"
     ]
    }
   ],
   "source": [
    "x1 = torch.rand(2, 3)\n",
    "x2 = torch.rand(2, 3)\n",
    "y = x1 + x2\n",
    "\n",
    "print(\"x1 =\")\n",
    "print(x1)\n",
    "print(\"x2 =\") \n",
    "print(x2)\n",
    "\n",
    "print()\n",
    "print(\"y =\") \n",
    "print(y)"
   ]
  },
  {
   "cell_type": "markdown",
   "id": "9c40456f",
   "metadata": {
    "papermill": {
     "duration": 0.075922,
     "end_time": "2021-11-16T23:10:20.195356",
     "exception": false,
     "start_time": "2021-11-16T23:10:20.119434",
     "status": "completed"
    },
    "tags": []
   },
   "source": [
    "Calling `x1 + x2` creates a new tensor containing the sum of the two inputs. However, we can also use in-place operations that are applied directly on the memory of a tensor. We therefore change the values of `x2` without the chance to re-accessing the values of `x2` before the operation. An example is shown below:"
   ]
  },
  {
   "cell_type": "code",
   "execution_count": 11,
   "id": "3d50dba7",
   "metadata": {
    "execution": {
     "iopub.execute_input": "2021-11-16T23:10:20.354795Z",
     "iopub.status.busy": "2021-11-16T23:10:20.353940Z",
     "iopub.status.idle": "2021-11-16T23:10:20.361957Z",
     "shell.execute_reply": "2021-11-16T23:10:20.361417Z",
     "shell.execute_reply.started": "2021-11-16T22:49:07.748358Z"
    },
    "papermill": {
     "duration": 0.089921,
     "end_time": "2021-11-16T23:10:20.362064",
     "exception": false,
     "start_time": "2021-11-16T23:10:20.272143",
     "status": "completed"
    },
    "tags": []
   },
   "outputs": [
    {
     "name": "stdout",
     "output_type": "stream",
     "text": [
      "x1 (before):\n",
      "tensor([[0.5779, 0.9040, 0.5547],\n",
      "        [0.3423, 0.6343, 0.3644]])\n",
      "\n",
      "x2 (before):\n",
      "tensor([[0.7104, 0.9464, 0.7890],\n",
      "        [0.2814, 0.7886, 0.5895]])\n",
      "\n",
      "---\n",
      "\n",
      "x1 (after):\n",
      "tensor([[0.5779, 0.9040, 0.5547],\n",
      "        [0.3423, 0.6343, 0.3644]])\n",
      "\n",
      "x2 (after):\n",
      "tensor([[1.2884, 1.8504, 1.3437],\n",
      "        [0.6237, 1.4230, 0.9539]])\n"
     ]
    }
   ],
   "source": [
    "x1 = torch.rand(2, 3)\n",
    "x2 = torch.rand(2, 3)\n",
    "\n",
    "print(\"x1 (before):\") \n",
    "print(x1)\n",
    "print(\"\\nx2 (before):\") \n",
    "print(x2)\n",
    "print('\\n---')\n",
    "\n",
    "x2.add_(x1)\n",
    "\n",
    "print(\"\\nx1 (after):\") \n",
    "print(x1)\n",
    "print(\"\\nx2 (after):\") \n",
    "print(x2)"
   ]
  },
  {
   "cell_type": "markdown",
   "id": "7c543a40",
   "metadata": {
    "papermill": {
     "duration": 0.077427,
     "end_time": "2021-11-16T23:10:20.517388",
     "exception": false,
     "start_time": "2021-11-16T23:10:20.439961",
     "status": "completed"
    },
    "tags": []
   },
   "source": [
    "In-place operations are usually marked with a underscore postfix (e.g. `add_` instead of `add`).\n",
    "\n",
    "Another common operation aims at changing the shape of a tensor. A tensor of size `(2, 3)` can be re-organized to any other shape with the same number of elements (e.g. a tensor of size `(6,)`, or `(3, 2)`, ...). In PyTorch, this operation is called `view`:"
   ]
  },
  {
   "cell_type": "code",
   "execution_count": 12,
   "id": "7bb8a8da",
   "metadata": {
    "execution": {
     "iopub.execute_input": "2021-11-16T23:10:20.676470Z",
     "iopub.status.busy": "2021-11-16T23:10:20.675531Z",
     "iopub.status.idle": "2021-11-16T23:10:20.679614Z",
     "shell.execute_reply": "2021-11-16T23:10:20.678971Z",
     "shell.execute_reply.started": "2021-11-16T22:49:07.762857Z"
    },
    "papermill": {
     "duration": 0.084642,
     "end_time": "2021-11-16T23:10:20.679755",
     "exception": false,
     "start_time": "2021-11-16T23:10:20.595113",
     "status": "completed"
    },
    "tags": []
   },
   "outputs": [
    {
     "name": "stdout",
     "output_type": "stream",
     "text": [
      "tensor([0, 1, 2, 3, 4, 5])\n"
     ]
    }
   ],
   "source": [
    "x = torch.arange(6)\n",
    "print(x)"
   ]
  },
  {
   "cell_type": "code",
   "execution_count": 13,
   "id": "f81264a9",
   "metadata": {
    "execution": {
     "iopub.execute_input": "2021-11-16T23:10:20.841665Z",
     "iopub.status.busy": "2021-11-16T23:10:20.840649Z",
     "iopub.status.idle": "2021-11-16T23:10:20.844050Z",
     "shell.execute_reply": "2021-11-16T23:10:20.844641Z",
     "shell.execute_reply.started": "2021-11-16T22:49:07.769921Z"
    },
    "papermill": {
     "duration": 0.086018,
     "end_time": "2021-11-16T23:10:20.844814",
     "exception": false,
     "start_time": "2021-11-16T23:10:20.758796",
     "status": "completed"
    },
    "tags": []
   },
   "outputs": [
    {
     "name": "stdout",
     "output_type": "stream",
     "text": [
      "tensor([[0, 1, 2],\n",
      "        [3, 4, 5]])\n"
     ]
    }
   ],
   "source": [
    "x = x.view(2, 3)\n",
    "print(x)"
   ]
  },
  {
   "cell_type": "code",
   "execution_count": 14,
   "id": "18a2c9f8",
   "metadata": {
    "execution": {
     "iopub.execute_input": "2021-11-16T23:10:21.009902Z",
     "iopub.status.busy": "2021-11-16T23:10:21.009219Z",
     "iopub.status.idle": "2021-11-16T23:10:21.017062Z",
     "shell.execute_reply": "2021-11-16T23:10:21.017675Z",
     "shell.execute_reply.started": "2021-11-16T22:49:07.781962Z"
    },
    "papermill": {
     "duration": 0.094383,
     "end_time": "2021-11-16T23:10:21.017857",
     "exception": false,
     "start_time": "2021-11-16T23:10:20.923474",
     "status": "completed"
    },
    "tags": []
   },
   "outputs": [
    {
     "name": "stdout",
     "output_type": "stream",
     "text": [
      "tensor([[0, 3],\n",
      "        [1, 4],\n",
      "        [2, 5]])\n"
     ]
    }
   ],
   "source": [
    "x = x.permute(1, 0) # Swapping dimension 0 and 1\n",
    "print(x)"
   ]
  },
  {
   "cell_type": "markdown",
   "id": "5b3dd22c",
   "metadata": {
    "papermill": {
     "duration": 0.086396,
     "end_time": "2021-11-16T23:10:21.190313",
     "exception": false,
     "start_time": "2021-11-16T23:10:21.103917",
     "status": "completed"
    },
    "tags": []
   },
   "source": [
    "Other commonly used operations include matrix multiplications, which are essential for neural networks. Quite often, we have an input vector $\\mathbf{x}$, which is transformed using a learned weight matrix $\\mathbf{W}$. There are multiple ways and functions to perform matrix multiplication, some of which we list below:\n",
    "\n",
    "|   |    |\n",
    "| :--- | :--- |\n",
    "| `torch.matmul`   | Performs the matrix product over two tensors, where the specific behavior depends on the dimensions. If both inputs are matrices (2-dimensional tensors), it performs the standard matrix product. For higher dimensional inputs, the function supports broadcasting (for details see the [documentation](https://pytorch.org/docs/stable/generated/torch.matmul.html?highlight=matmul#torch.matmul)). Can also be written as `a @ b`, similar to Numpy.   |\n",
    "| `torch.mm` | Performs the matrix product over two matrices, but doesn't support broadcasting (see [documentation](https://pytorch.org/docs/stable/generated/torch.mm.html?highlight=torch%20mm#torch.mm)). |\n",
    "| `torch.bmm` | Performs the matrix product with a support batch dimension. If the first tensor $\\mathbf T$ is of shape ($b\\times n\\times m$), and the second tensor $\\mathbf R$ ($b\\times m\\times p$), the output $\\mathbf O$ is of shape ($b\\times n\\times p$), and has been calculated by performing $b$ matrix multiplications of the submatrices of $\\mathbf T$ and $\\mathbf R$ which can be written as $O_{ijk} = \\sum_q T_{ijq} R_{iqk}.$ |\n",
    "| `torch.einsum` | Performs matrix multiplications and more (i.e. sums of products) using the Einstein summation convention. See  {ref}`below <ref/einstein_summation>`. |\n",
    "\n",
    "Usually, we use `torch.matmul` or `torch.bmm`. We can try a matrix multiplication with `torch.matmul` below."
   ]
  },
  {
   "cell_type": "code",
   "execution_count": 15,
   "id": "50fac68a",
   "metadata": {
    "execution": {
     "iopub.execute_input": "2021-11-16T23:10:21.373362Z",
     "iopub.status.busy": "2021-11-16T23:10:21.372526Z",
     "iopub.status.idle": "2021-11-16T23:10:21.377157Z",
     "shell.execute_reply": "2021-11-16T23:10:21.377793Z",
     "shell.execute_reply.started": "2021-11-16T22:49:07.792119Z"
    },
    "papermill": {
     "duration": 0.09732,
     "end_time": "2021-11-16T23:10:21.377966",
     "exception": false,
     "start_time": "2021-11-16T23:10:21.280646",
     "status": "completed"
    },
    "tags": []
   },
   "outputs": [
    {
     "name": "stdout",
     "output_type": "stream",
     "text": [
      "x =\n",
      "tensor([[0, 1, 2],\n",
      "        [3, 4, 5]])\n"
     ]
    }
   ],
   "source": [
    "x = torch.arange(6)\n",
    "x = x.view(2, 3)\n",
    "print(\"x =\")\n",
    "print(x)"
   ]
  },
  {
   "cell_type": "code",
   "execution_count": 16,
   "id": "24dfcd5a",
   "metadata": {
    "execution": {
     "iopub.execute_input": "2021-11-16T23:10:21.538788Z",
     "iopub.status.busy": "2021-11-16T23:10:21.537985Z",
     "iopub.status.idle": "2021-11-16T23:10:21.542651Z",
     "shell.execute_reply": "2021-11-16T23:10:21.543235Z",
     "shell.execute_reply.started": "2021-11-16T22:49:07.800358Z"
    },
    "papermill": {
     "duration": 0.087358,
     "end_time": "2021-11-16T23:10:21.543400",
     "exception": false,
     "start_time": "2021-11-16T23:10:21.456042",
     "status": "completed"
    },
    "tags": []
   },
   "outputs": [
    {
     "name": "stdout",
     "output_type": "stream",
     "text": [
      "w =\n",
      "tensor([[0, 1, 2],\n",
      "        [3, 4, 5],\n",
      "        [6, 7, 8]])\n"
     ]
    }
   ],
   "source": [
    "W = torch.arange(9).view(3, 3) # We can also stack multiple operations in a single line\n",
    "print(\"w =\") \n",
    "print(W)"
   ]
  },
  {
   "cell_type": "code",
   "execution_count": 17,
   "id": "0466b1f6",
   "metadata": {
    "execution": {
     "iopub.execute_input": "2021-11-16T23:10:21.705251Z",
     "iopub.status.busy": "2021-11-16T23:10:21.704674Z",
     "iopub.status.idle": "2021-11-16T23:10:21.714821Z",
     "shell.execute_reply": "2021-11-16T23:10:21.714225Z",
     "shell.execute_reply.started": "2021-11-16T22:49:07.808632Z"
    },
    "papermill": {
     "duration": 0.092115,
     "end_time": "2021-11-16T23:10:21.714966",
     "exception": false,
     "start_time": "2021-11-16T23:10:21.622851",
     "status": "completed"
    },
    "tags": []
   },
   "outputs": [
    {
     "name": "stdout",
     "output_type": "stream",
     "text": [
      "h =\n",
      "tensor([[15, 18, 21],\n",
      "        [42, 54, 66]])\n"
     ]
    }
   ],
   "source": [
    "h = torch.matmul(x, W) # Verify the result by calculating it by hand too!\n",
    "print(\"h =\")\n",
    "print(h)"
   ]
  },
  {
   "cell_type": "markdown",
   "id": "e2ce73ae",
   "metadata": {
    "papermill": {
     "duration": 0.080955,
     "end_time": "2021-11-16T23:10:21.878038",
     "exception": false,
     "start_time": "2021-11-16T23:10:21.797083",
     "status": "completed"
    },
    "tags": []
   },
   "source": [
    "#### Indexing\n",
    "\n",
    "We often have the situation where we need to select a part of a tensor. Indexing works just like in numpy, so let's try it:"
   ]
  },
  {
   "cell_type": "code",
   "execution_count": 18,
   "id": "d83a4017",
   "metadata": {
    "execution": {
     "iopub.execute_input": "2021-11-16T23:10:22.042689Z",
     "iopub.status.busy": "2021-11-16T23:10:22.041818Z",
     "iopub.status.idle": "2021-11-16T23:10:22.047148Z",
     "shell.execute_reply": "2021-11-16T23:10:22.046527Z",
     "shell.execute_reply.started": "2021-11-16T22:49:07.911288Z"
    },
    "papermill": {
     "duration": 0.089471,
     "end_time": "2021-11-16T23:10:22.047290",
     "exception": false,
     "start_time": "2021-11-16T23:10:21.957819",
     "status": "completed"
    },
    "tags": []
   },
   "outputs": [
    {
     "name": "stdout",
     "output_type": "stream",
     "text": [
      "x =\n",
      "tensor([[ 0,  1,  2,  3],\n",
      "        [ 4,  5,  6,  7],\n",
      "        [ 8,  9, 10, 11]])\n"
     ]
    }
   ],
   "source": [
    "x = torch.arange(12).view(3, 4)\n",
    "print(\"x =\")\n",
    "print(x)"
   ]
  },
  {
   "cell_type": "code",
   "execution_count": 19,
   "id": "b64342a2",
   "metadata": {
    "execution": {
     "iopub.execute_input": "2021-11-16T23:10:22.214631Z",
     "iopub.status.busy": "2021-11-16T23:10:22.213750Z",
     "iopub.status.idle": "2021-11-16T23:10:22.217375Z",
     "shell.execute_reply": "2021-11-16T23:10:22.217935Z",
     "shell.execute_reply.started": "2021-11-16T22:49:07.91916Z"
    },
    "papermill": {
     "duration": 0.089109,
     "end_time": "2021-11-16T23:10:22.218081",
     "exception": false,
     "start_time": "2021-11-16T23:10:22.128972",
     "status": "completed"
    },
    "tags": []
   },
   "outputs": [
    {
     "name": "stdout",
     "output_type": "stream",
     "text": [
      "tensor([1, 5, 9])\n"
     ]
    }
   ],
   "source": [
    "print(x[:, 1])   # Second column"
   ]
  },
  {
   "cell_type": "code",
   "execution_count": 20,
   "id": "9ff7760a",
   "metadata": {
    "execution": {
     "iopub.execute_input": "2021-11-16T23:10:22.382258Z",
     "iopub.status.busy": "2021-11-16T23:10:22.381521Z",
     "iopub.status.idle": "2021-11-16T23:10:22.384213Z",
     "shell.execute_reply": "2021-11-16T23:10:22.384798Z",
     "shell.execute_reply.started": "2021-11-16T22:49:07.926849Z"
    },
    "papermill": {
     "duration": 0.087361,
     "end_time": "2021-11-16T23:10:22.384973",
     "exception": false,
     "start_time": "2021-11-16T23:10:22.297612",
     "status": "completed"
    },
    "tags": []
   },
   "outputs": [
    {
     "name": "stdout",
     "output_type": "stream",
     "text": [
      "tensor([0, 1, 2, 3])\n"
     ]
    }
   ],
   "source": [
    "print(x[0])      # First row"
   ]
  },
  {
   "cell_type": "code",
   "execution_count": 21,
   "id": "1ae056ee",
   "metadata": {
    "execution": {
     "iopub.execute_input": "2021-11-16T23:10:22.550589Z",
     "iopub.status.busy": "2021-11-16T23:10:22.549949Z",
     "iopub.status.idle": "2021-11-16T23:10:22.552717Z",
     "shell.execute_reply": "2021-11-16T23:10:22.553222Z",
     "shell.execute_reply.started": "2021-11-16T22:49:07.935197Z"
    },
    "papermill": {
     "duration": 0.086958,
     "end_time": "2021-11-16T23:10:22.553345",
     "exception": false,
     "start_time": "2021-11-16T23:10:22.466387",
     "status": "completed"
    },
    "tags": []
   },
   "outputs": [
    {
     "name": "stdout",
     "output_type": "stream",
     "text": [
      "tensor([3, 7])\n"
     ]
    }
   ],
   "source": [
    "print(x[:2, -1]) # First two rows, last column"
   ]
  },
  {
   "cell_type": "code",
   "execution_count": 22,
   "id": "5bdc3da8",
   "metadata": {
    "execution": {
     "iopub.execute_input": "2021-11-16T23:10:22.719314Z",
     "iopub.status.busy": "2021-11-16T23:10:22.718468Z",
     "iopub.status.idle": "2021-11-16T23:10:22.721940Z",
     "shell.execute_reply": "2021-11-16T23:10:22.722568Z",
     "shell.execute_reply.started": "2021-11-16T22:49:07.943349Z"
    },
    "papermill": {
     "duration": 0.088704,
     "end_time": "2021-11-16T23:10:22.722750",
     "exception": false,
     "start_time": "2021-11-16T23:10:22.634046",
     "status": "completed"
    },
    "tags": []
   },
   "outputs": [
    {
     "name": "stdout",
     "output_type": "stream",
     "text": [
      "tensor([[ 4,  5,  6,  7],\n",
      "        [ 8,  9, 10, 11]])\n"
     ]
    }
   ],
   "source": [
    "print(x[1:3, :]) # Middle two rows"
   ]
  },
  {
   "cell_type": "markdown",
   "id": "a260eaea",
   "metadata": {
    "papermill": {
     "duration": 0.081691,
     "end_time": "2021-11-16T23:10:22.885983",
     "exception": false,
     "start_time": "2021-11-16T23:10:22.804292",
     "status": "completed"
    },
    "tags": []
   },
   "source": [
    "### Dynamic Computation Graph and Backpropagation\n",
    "\n",
    "One of the main reasons for using PyTorch in Deep Learning projects is that we can automatically get gradients  or partial derivatives of functions that we define. We will mainly use PyTorch for implementing neural networks, and they are just fancy functions. If we use weight matrices in our function that we want to learn, then those are called the **parameters** or simply the **weights**.\n",
    "\n",
    "Given an input $\\mathbf{x}$, we define our function by a series of computations on that input, usually by matrix-multiplications with weight matrices and additions with so-called bias vectors. As we manipulate our input, we are automatically creating a **computational graph**. This graph shows how to arrive at our output from our input. PyTorch is a define-by-run framework; this means that we can just do our manipulations, and PyTorch will keep track of that graph for us. Thus, we create a dynamic computation graph along the way. To recap: the only thing we have to do is to compute the output, and then we can ask PyTorch to automatically get the gradients. \n",
    "\n",
    "> **Q:**  *Why do we want gradients?* Consider that we have defined a function, a neural net, that is supposed to compute a certain output $y$ for an input vector $\\mathbf{x}$. We then define an **error measure** that tells us how wrong our network is; how bad it is in predicting output $y$ from input $\\mathbf{x}$. Based on this error measure, we can use the gradients to update the weights $\\mathbf{W}$ that were responsible for the output, so that the next time we present input $\\mathbf{x}$ to our network, the output will be closer to what we want. The rational for the update rule is based on gradient descent.\n",
    "\n",
    "The first thing we have to do is to specify which tensors require gradients. By default, when we create a tensor, it does not require gradients."
   ]
  },
  {
   "cell_type": "code",
   "execution_count": 23,
   "id": "597d4018",
   "metadata": {
    "execution": {
     "iopub.execute_input": "2021-11-16T23:10:23.054243Z",
     "iopub.status.busy": "2021-11-16T23:10:23.053401Z",
     "iopub.status.idle": "2021-11-16T23:10:23.058284Z",
     "shell.execute_reply": "2021-11-16T23:10:23.058880Z",
     "shell.execute_reply.started": "2021-11-16T22:49:07.951327Z"
    },
    "papermill": {
     "duration": 0.091007,
     "end_time": "2021-11-16T23:10:23.059048",
     "exception": false,
     "start_time": "2021-11-16T23:10:22.968041",
     "status": "completed"
    },
    "tags": []
   },
   "outputs": [
    {
     "name": "stdout",
     "output_type": "stream",
     "text": [
      "False\n"
     ]
    }
   ],
   "source": [
    "x = torch.ones((3,))\n",
    "print(x.requires_grad)"
   ]
  },
  {
   "cell_type": "markdown",
   "id": "78541bc2",
   "metadata": {
    "papermill": {
     "duration": 0.084233,
     "end_time": "2021-11-16T23:10:23.226546",
     "exception": false,
     "start_time": "2021-11-16T23:10:23.142313",
     "status": "completed"
    },
    "tags": []
   },
   "source": [
    "We can change this for an existing tensor using the function `requires_grad_()` (underscore indicating that this is an in-place operation). Alternatively, when creating a tensor, you can pass the argument `requires_grad=True` to most initializers we have seen above."
   ]
  },
  {
   "cell_type": "code",
   "execution_count": 24,
   "id": "afaa1750",
   "metadata": {
    "execution": {
     "iopub.execute_input": "2021-11-16T23:10:23.393575Z",
     "iopub.status.busy": "2021-11-16T23:10:23.392929Z",
     "iopub.status.idle": "2021-11-16T23:10:23.395797Z",
     "shell.execute_reply": "2021-11-16T23:10:23.396375Z",
     "shell.execute_reply.started": "2021-11-16T22:49:07.961183Z"
    },
    "papermill": {
     "duration": 0.089341,
     "end_time": "2021-11-16T23:10:23.396556",
     "exception": false,
     "start_time": "2021-11-16T23:10:23.307215",
     "status": "completed"
    },
    "tags": []
   },
   "outputs": [
    {
     "name": "stdout",
     "output_type": "stream",
     "text": [
      "True\n"
     ]
    }
   ],
   "source": [
    "x.requires_grad_(True)\n",
    "print(x.requires_grad)"
   ]
  },
  {
   "cell_type": "markdown",
   "id": "530ef6fc",
   "metadata": {
    "papermill": {
     "duration": 0.081033,
     "end_time": "2021-11-16T23:10:23.559073",
     "exception": false,
     "start_time": "2021-11-16T23:10:23.478040",
     "status": "completed"
    },
    "tags": []
   },
   "source": [
    "In order to get familiar with the concept of a computation graph, we will create one for the following function:\n",
    "\n",
    "$$y = \\frac{1}{|\\mathbf{x}|}\\sum_i \\left[(x_i + 2)^2 + 3\\right]$$\n",
    "\n",
    "You could imagine that $\\mathbf x$ are our parameters, and we want to optimize (either maximize or minimize) the output $y$. For this, we want to obtain the gradients $\\partial y / \\partial \\mathbf{x}$. For our example, we'll use $\\mathbf{x}=[0,1,2]$ as our input. This value is the reference point where we take the gradient of $y$. Here $|\\cdot|$ is the length function."
   ]
  },
  {
   "cell_type": "code",
   "execution_count": 25,
   "id": "f100c13f",
   "metadata": {
    "execution": {
     "iopub.execute_input": "2021-11-16T23:10:23.729088Z",
     "iopub.status.busy": "2021-11-16T23:10:23.728131Z",
     "iopub.status.idle": "2021-11-16T23:10:23.731945Z",
     "shell.execute_reply": "2021-11-16T23:10:23.732552Z",
     "shell.execute_reply.started": "2021-11-16T22:49:07.968214Z"
    },
    "papermill": {
     "duration": 0.091419,
     "end_time": "2021-11-16T23:10:23.732723",
     "exception": false,
     "start_time": "2021-11-16T23:10:23.641304",
     "status": "completed"
    },
    "tags": []
   },
   "outputs": [
    {
     "name": "stdout",
     "output_type": "stream",
     "text": [
      "x = tensor([0., 1., 2.], requires_grad=True)\n"
     ]
    }
   ],
   "source": [
    "x = torch.arange(3, dtype=torch.float32, requires_grad=True) # Only float tensors can have gradients\n",
    "print(\"x =\", x)"
   ]
  },
  {
   "cell_type": "markdown",
   "id": "4fc1d007",
   "metadata": {
    "papermill": {
     "duration": 0.081464,
     "end_time": "2021-11-16T23:10:23.896696",
     "exception": false,
     "start_time": "2021-11-16T23:10:23.815232",
     "status": "completed"
    },
    "tags": []
   },
   "source": [
    "Now let's build the computation graph step by step. You can combine multiple operations in a single line, but we will separate them here to get a better understanding of how each operation is added to the computation graph."
   ]
  },
  {
   "cell_type": "code",
   "execution_count": 26,
   "id": "00694a6a",
   "metadata": {
    "execution": {
     "iopub.execute_input": "2021-11-16T23:10:24.091650Z",
     "iopub.status.busy": "2021-11-16T23:10:24.090910Z",
     "iopub.status.idle": "2021-11-16T23:10:24.101453Z",
     "shell.execute_reply": "2021-11-16T23:10:24.100840Z",
     "shell.execute_reply.started": "2021-11-16T22:49:07.978301Z"
    },
    "papermill": {
     "duration": 0.111063,
     "end_time": "2021-11-16T23:10:24.101618",
     "exception": false,
     "start_time": "2021-11-16T23:10:23.990555",
     "status": "completed"
    },
    "tags": []
   },
   "outputs": [
    {
     "name": "stdout",
     "output_type": "stream",
     "text": [
      "y = tensor(12.6667, grad_fn=<MeanBackward0>)\n"
     ]
    }
   ],
   "source": [
    "a = x + 2\n",
    "b = a ** 2\n",
    "c = b + 3\n",
    "y = c.mean()\n",
    "print(\"y =\", y)"
   ]
  },
  {
   "cell_type": "markdown",
   "id": "675e0b0d",
   "metadata": {
    "papermill": {
     "duration": 0.082191,
     "end_time": "2021-11-16T23:10:24.266609",
     "exception": false,
     "start_time": "2021-11-16T23:10:24.184418",
     "status": "completed"
    },
    "tags": []
   },
   "source": [
    "Using the statements above, we have created a computation graph that looks similar to the figure below:\n",
    "\n",
    "<center style=\"width: 100%\"><img src=\"https://uvadlc-notebooks.readthedocs.io/en/latest/_images/pytorch_computation_graph.svg\" width=\"200px\"></center>\n",
    "\n",
    "We calculate $\\mathbf a$ based on the inputs $\\mathbf x$ and the constant $2$, $\\mathbf{b}$ is $\\mathbf{a}$ squared, and so on. The visualization is an abstraction of the dependencies between inputs and outputs of the operations we have applied.\n",
    "Each node of the computation graph has automatically defined a function for calculating the gradients with respect to its inputs, `grad_fn`. You can see this when we printed the output tensor $y$. This is why the computation graph is usually visualized in the reverse direction (arrows point from the result to the inputs). We can perform backpropagation on the computation graph by calling the function `backward()` on the last output, which effectively calculates the gradients for each tensor that has the property `requires_grad=True`:"
   ]
  },
  {
   "cell_type": "code",
   "execution_count": 27,
   "id": "cd26e0c9",
   "metadata": {
    "execution": {
     "iopub.execute_input": "2021-11-16T23:10:24.435077Z",
     "iopub.status.busy": "2021-11-16T23:10:24.434265Z",
     "iopub.status.idle": "2021-11-16T23:10:24.478805Z",
     "shell.execute_reply": "2021-11-16T23:10:24.478240Z",
     "shell.execute_reply.started": "2021-11-16T22:49:07.993871Z"
    },
    "papermill": {
     "duration": 0.130704,
     "end_time": "2021-11-16T23:10:24.478950",
     "exception": false,
     "start_time": "2021-11-16T23:10:24.348246",
     "status": "completed"
    },
    "tags": []
   },
   "outputs": [],
   "source": [
    "y.backward()"
   ]
  },
  {
   "cell_type": "markdown",
   "id": "2f2a683a",
   "metadata": {
    "papermill": {
     "duration": 0.082513,
     "end_time": "2021-11-16T23:10:24.645574",
     "exception": false,
     "start_time": "2021-11-16T23:10:24.563061",
     "status": "completed"
    },
    "tags": []
   },
   "source": [
    "`x.grad` will now contain the gradient $\\partial y/ \\partial \\mathbf{x}$, and this gradient indicates how a change in $\\mathbf{x}$ will affect output $y$ given the current input $\\mathbf{x}=[0,1,2]$:"
   ]
  },
  {
   "cell_type": "code",
   "execution_count": 28,
   "id": "c9e66ec7",
   "metadata": {
    "execution": {
     "iopub.execute_input": "2021-11-16T23:10:24.824490Z",
     "iopub.status.busy": "2021-11-16T23:10:24.823630Z",
     "iopub.status.idle": "2021-11-16T23:10:24.827643Z",
     "shell.execute_reply": "2021-11-16T23:10:24.828236Z",
     "shell.execute_reply.started": "2021-11-16T22:49:08.051147Z"
    },
    "papermill": {
     "duration": 0.09655,
     "end_time": "2021-11-16T23:10:24.828410",
     "exception": false,
     "start_time": "2021-11-16T23:10:24.731860",
     "status": "completed"
    },
    "tags": []
   },
   "outputs": [
    {
     "name": "stdout",
     "output_type": "stream",
     "text": [
      "tensor([1.3333, 2.0000, 2.6667])\n"
     ]
    }
   ],
   "source": [
    "print(x.grad)"
   ]
  },
  {
   "cell_type": "markdown",
   "id": "068c3067",
   "metadata": {
    "papermill": {
     "duration": 0.081812,
     "end_time": "2021-11-16T23:10:24.993817",
     "exception": false,
     "start_time": "2021-11-16T23:10:24.912005",
     "status": "completed"
    },
    "tags": []
   },
   "source": [
    "We can also verify these gradients by hand. We will calculate the gradients using the chain rule, in the same way as PyTorch did it:\n",
    "\n",
    "$$\\frac{\\partial y}{\\partial x_i} = \\frac{\\partial y}{\\partial c_i}\\frac{\\partial c_i}{\\partial b_i}\\frac{\\partial b_i}{\\partial a_i}\\frac{\\partial a_i}{\\partial x_i}$$\n",
    "\n",
    "Note that we have simplified this equation to index notation, and by using the fact that all operation besides the mean do not combine the elements in the tensor. The partial derivatives are:\n",
    "\n",
    "$$\n",
    "\\frac{\\partial a_i}{\\partial x_i} = 1,\\hspace{1cm}\n",
    "\\frac{\\partial b_i}{\\partial a_i} = 2\\cdot a_i\\hspace{1cm}\n",
    "\\frac{\\partial c_i}{\\partial b_i} = 1\\hspace{1cm}\n",
    "\\frac{\\partial y}{\\partial c_i} = \\frac{1}{3}\n",
    "$$\n",
    "\n",
    "Hence, with the input being $\\mathbf{x}=[0,1,2]$, our gradients are $\\partial y/\\partial \\mathbf{x}=[4/3,2,8/3]$. The previous code cell should have printed the same result."
   ]
  },
  {
   "cell_type": "markdown",
   "id": "66170b02",
   "metadata": {
    "papermill": {
     "duration": 0.081512,
     "end_time": "2021-11-16T23:10:25.160264",
     "exception": false,
     "start_time": "2021-11-16T23:10:25.078752",
     "status": "completed"
    },
    "tags": []
   },
   "source": [
    "### GPU support\n",
    "\n",
    "A crucial feature of PyTorch is the support of GPUs, short for Graphics Processing Unit. A GPU can perform many thousands of small operations in parallel, making it very well suitable for performing large matrix operations in neural networks. When comparing GPUs to CPUs, we can list the following main differences (credit: [Kevin Krewell, 2009](https://blogs.nvidia.com/blog/2009/12/16/whats-the-difference-between-a-cpu-and-a-gpu/)) \n",
    "\n",
    "<center style=\"width: 100%\"><img src=\"https://uvadlc-notebooks.readthedocs.io/en/latest/_images/comparison_CPU_GPU.png\" width=\"700px\"></center>\n",
    "\n",
    "<br>\n",
    "\n",
    "GPUs can accelerate the training of your network up to a factor of $100$ which is essential for large neural networks. PyTorch implements a lot of functionality for supporting GPUs (mostly those of NVIDIA due to the libraries [CUDA](https://developer.nvidia.com/cuda-zone) and [cuDNN](https://developer.nvidia.com/cudnn)). First, let's check whether you have a GPU available:"
   ]
  },
  {
   "cell_type": "code",
   "execution_count": 29,
   "id": "3821eec3",
   "metadata": {
    "execution": {
     "iopub.execute_input": "2021-11-16T23:10:25.327678Z",
     "iopub.status.busy": "2021-11-16T23:10:25.327018Z",
     "iopub.status.idle": "2021-11-16T23:10:25.330721Z",
     "shell.execute_reply": "2021-11-16T23:10:25.330005Z",
     "shell.execute_reply.started": "2021-11-16T22:49:08.057893Z"
    },
    "papermill": {
     "duration": 0.089276,
     "end_time": "2021-11-16T23:10:25.330865",
     "exception": false,
     "start_time": "2021-11-16T23:10:25.241589",
     "status": "completed"
    },
    "tags": []
   },
   "outputs": [
    {
     "name": "stdout",
     "output_type": "stream",
     "text": [
      "Is the GPU available? True\n"
     ]
    }
   ],
   "source": [
    "gpu_avail = torch.cuda.is_available()\n",
    "print(f\"Is the GPU available? {gpu_avail}\")"
   ]
  },
  {
   "cell_type": "markdown",
   "id": "16b6a6c2",
   "metadata": {
    "papermill": {
     "duration": 0.08111,
     "end_time": "2021-11-16T23:10:25.494591",
     "exception": false,
     "start_time": "2021-11-16T23:10:25.413481",
     "status": "completed"
    },
    "tags": []
   },
   "source": [
    "If you have a GPU on your computer but the command above returns `False`, make sure you have the correct CUDA-version installed. By default, all tensors you create are stored on the CPU. We can push a tensor to the GPU by using the function `.to(...)`, or `.cuda()`. However, it is often a good practice to define a `device` object in your code which points to the GPU if you have one, and otherwise to the CPU. Then, you can write your code with respect to this device object, and it allows you to run the same code on both a CPU-only system, and one with a GPU. Let's try it below. We can specify the device as follows: "
   ]
  },
  {
   "cell_type": "code",
   "execution_count": 30,
   "id": "292632a5",
   "metadata": {
    "execution": {
     "iopub.execute_input": "2021-11-16T23:10:25.667648Z",
     "iopub.status.busy": "2021-11-16T23:10:25.667027Z",
     "iopub.status.idle": "2021-11-16T23:10:25.669889Z",
     "shell.execute_reply": "2021-11-16T23:10:25.670468Z",
     "shell.execute_reply.started": "2021-11-16T22:49:08.06684Z"
    },
    "papermill": {
     "duration": 0.092342,
     "end_time": "2021-11-16T23:10:25.670647",
     "exception": false,
     "start_time": "2021-11-16T23:10:25.578305",
     "status": "completed"
    },
    "tags": []
   },
   "outputs": [
    {
     "name": "stdout",
     "output_type": "stream",
     "text": [
      "Device: cuda\n"
     ]
    }
   ],
   "source": [
    "device = torch.device(\"cuda\") if torch.cuda.is_available() else torch.device(\"cpu\")\n",
    "print(\"Device:\", device)"
   ]
  },
  {
   "cell_type": "markdown",
   "id": "ddc2410e",
   "metadata": {
    "papermill": {
     "duration": 0.082761,
     "end_time": "2021-11-16T23:10:25.836750",
     "exception": false,
     "start_time": "2021-11-16T23:10:25.753989",
     "status": "completed"
    },
    "tags": []
   },
   "source": [
    "Now let's create a tensor and push it to the device:"
   ]
  },
  {
   "cell_type": "code",
   "execution_count": 31,
   "id": "d7bd351e",
   "metadata": {
    "execution": {
     "iopub.execute_input": "2021-11-16T23:10:26.007802Z",
     "iopub.status.busy": "2021-11-16T23:10:26.005477Z",
     "iopub.status.idle": "2021-11-16T23:10:28.752439Z",
     "shell.execute_reply": "2021-11-16T23:10:28.752904Z",
     "shell.execute_reply.started": "2021-11-16T22:49:08.07633Z"
    },
    "papermill": {
     "duration": 2.8336,
     "end_time": "2021-11-16T23:10:28.753058",
     "exception": false,
     "start_time": "2021-11-16T23:10:25.919458",
     "status": "completed"
    },
    "tags": []
   },
   "outputs": [
    {
     "name": "stdout",
     "output_type": "stream",
     "text": [
      "x =\n",
      "tensor([[0., 0., 0.],\n",
      "        [0., 0., 0.]], device='cuda:0')\n"
     ]
    }
   ],
   "source": [
    "x = torch.zeros(2, 3)\n",
    "x = x.to(device)\n",
    "print(\"x =\")\n",
    "print(x)"
   ]
  },
  {
   "cell_type": "markdown",
   "id": "5e34adaa",
   "metadata": {
    "papermill": {
     "duration": 0.082867,
     "end_time": "2021-11-16T23:10:28.919363",
     "exception": false,
     "start_time": "2021-11-16T23:10:28.836496",
     "status": "completed"
    },
    "tags": []
   },
   "source": [
    "In case you have a GPU, you should now see the attribute `device='cuda:0'` being printed next to your tensor. The zero next to cuda indicates that this is the zero-th GPU device on your computer. PyTorch also supports multi-GPU systems, but this you will only need once you have very big networks to train (if interested, see the [PyTorch documentation](https://pytorch.org/docs/stable/distributed.html#distributed-basics)). We can also compare the runtime of a large matrix multiplication on the CPU with a operation on the GPU:"
   ]
  },
  {
   "cell_type": "code",
   "execution_count": 32,
   "id": "d2dc1211",
   "metadata": {
    "execution": {
     "iopub.execute_input": "2021-11-16T23:10:29.093872Z",
     "iopub.status.busy": "2021-11-16T23:10:29.093059Z",
     "iopub.status.idle": "2021-11-16T23:10:32.808420Z",
     "shell.execute_reply": "2021-11-16T23:10:32.809137Z",
     "shell.execute_reply.started": "2021-11-16T22:49:10.841332Z"
    },
    "papermill": {
     "duration": 3.806618,
     "end_time": "2021-11-16T23:10:32.809293",
     "exception": false,
     "start_time": "2021-11-16T23:10:29.002675",
     "status": "completed"
    },
    "tags": []
   },
   "outputs": [
    {
     "name": "stdout",
     "output_type": "stream",
     "text": [
      "CPU time: 2.66478s\n",
      "GPU time: 0.79329s\n"
     ]
    }
   ],
   "source": [
    "x = torch.randn(5000, 5000)\n",
    "\n",
    "# CPU version\n",
    "start_time = time.time()\n",
    "_ = torch.matmul(x, x)\n",
    "end_time = time.time()\n",
    "print(f\"CPU time: {(end_time - start_time):6.5f}s\")\n",
    "\n",
    "##GPU version\n",
    "x = x.to(device)\n",
    "\n",
    "# CUDA is asynchronous, so we need to use different timing functions\n",
    "start = torch.cuda.Event(enable_timing=True)\n",
    "end = torch.cuda.Event(enable_timing=True)\n",
    "start.record()\n",
    "_ = torch.matmul(x, x)\n",
    "end.record()\n",
    "torch.cuda.synchronize()  # Waits for everything to finish running on the GPU\n",
    "print(f\"GPU time: {0.001 * start.elapsed_time(end):6.5f}s\")  # Milliseconds to seconds"
   ]
  },
  {
   "cell_type": "markdown",
   "id": "ed561a0a",
   "metadata": {
    "papermill": {
     "duration": 0.083,
     "end_time": "2021-11-16T23:10:32.976251",
     "exception": false,
     "start_time": "2021-11-16T23:10:32.893251",
     "status": "completed"
    },
    "tags": []
   },
   "source": [
    "Depending on the size of the operation and the CPU/GPU in your system, the speedup of this operation can be >50x. As `matmul` operations are very common in neural networks, we can already see the great benefit of training a NN on a GPU. The time estimate can be relatively noisy here because we haven't run it for multiple times. Feel free to extend this, but it also takes longer to run.\n",
    "\n",
    "**Reproducibility of GPU operations.** When generating random numbers, the seed between CPU and GPU is not synchronized. Hence, we need to set the seed on the GPU separately to ensure a reproducible code. Note that due to different GPU architectures, running the same code on different GPUs does not guarantee the same random numbers. Still, we don't want that our code gives us a different output every time we run it on the exact same hardware. Hence, we also set the seed on the GPU:"
   ]
  },
  {
   "cell_type": "code",
   "execution_count": 33,
   "id": "d4d9a80f",
   "metadata": {
    "execution": {
     "iopub.execute_input": "2021-11-16T23:10:33.156243Z",
     "iopub.status.busy": "2021-11-16T23:10:33.155392Z",
     "iopub.status.idle": "2021-11-16T23:10:33.157282Z",
     "shell.execute_reply": "2021-11-16T23:10:33.157742Z",
     "shell.execute_reply.started": "2021-11-16T22:49:13.734869Z"
    },
    "papermill": {
     "duration": 0.092227,
     "end_time": "2021-11-16T23:10:33.157884",
     "exception": false,
     "start_time": "2021-11-16T23:10:33.065657",
     "status": "completed"
    },
    "tags": []
   },
   "outputs": [],
   "source": [
    "# GPU operations have a separate seed we also want to set\n",
    "if torch.cuda.is_available(): \n",
    "    torch.cuda.manual_seed(42)\n",
    "    torch.cuda.manual_seed_all(42)\n",
    "    \n",
    "# Additionally, some operations on a GPU are implemented stochastic for efficiency\n",
    "# We want to ensure that all operations are deterministic on GPU (if used) for reproducibility\n",
    "torch.backends.cudnn.determinstic = True\n",
    "torch.backends.cudnn.benchmark = False"
   ]
  },
  {
   "cell_type": "markdown",
   "id": "648cd2d8",
   "metadata": {
    "papermill": {
     "duration": 0.08408,
     "end_time": "2021-11-16T23:10:33.325789",
     "exception": false,
     "start_time": "2021-11-16T23:10:33.241709",
     "status": "completed"
    },
    "tags": []
   },
   "source": [
    "## Learning the Continuous XOR\n",
    "\n",
    "If we want to build a neural network in PyTorch, we could specify all our parameters (weight matrices, bias vectors) using `Tensors` (with `requires_grad=True`), ask PyTorch to calculate the gradients and then adjust the parameters. But things can quickly get cumbersome if we have a lot of parameters. In PyTorch, there is a package called `torch.nn` that makes building neural networks more convenient. \n",
    "\n",
    "We will introduce the libraries and all additional parts you might need to train a neural network in PyTorch, using a simple example classifier on a simple yet well known example: XOR. Given two binary inputs ${x}_1$ and ${x}_2$, the label to predict is $1$ if either ${x}_1$ or ${x}_2$ is $1$ while the other is $0$, otherwise the label is $0.$ The example became famous by the fact that a single neuron, i.e. a linear classifier, cannot learn this simple function.\n",
    "Hence, we will learn how to build a small neural network that can learn this function. \n",
    "To make it a little bit more interesting, we move the XOR into continuous space and introduce some gaussian noise on the binary inputs. Our desired separation of an XOR dataset could look as follows:\n",
    "\n",
    "<center style=\"width: 100%\"><img src=https://uvadlc-notebooks.readthedocs.io/en/latest/_images/continuous_xor.svg width=\"350px\"></center>"
   ]
  },
  {
   "cell_type": "markdown",
   "id": "496c8513",
   "metadata": {
    "papermill": {
     "duration": 0.082684,
     "end_time": "2021-11-16T23:10:33.491472",
     "exception": false,
     "start_time": "2021-11-16T23:10:33.408788",
     "status": "completed"
    },
    "tags": []
   },
   "source": [
    "### Model\n",
    "\n",
    "The package `torch.nn` defines a series of useful classes like linear networks layers, activation functions, loss functions etc. A full list can be found [here](https://pytorch.org/docs/stable/nn.html). In case you need a certain network layer, check the documentation of the package first before writing the layer yourself as the package likely contains the code for it already. We import it below:"
   ]
  },
  {
   "cell_type": "code",
   "execution_count": 34,
   "id": "dd94855f",
   "metadata": {
    "execution": {
     "iopub.execute_input": "2021-11-16T23:10:33.663755Z",
     "iopub.status.busy": "2021-11-16T23:10:33.663114Z",
     "iopub.status.idle": "2021-11-16T23:10:33.665858Z",
     "shell.execute_reply": "2021-11-16T23:10:33.665409Z",
     "shell.execute_reply.started": "2021-11-16T22:49:13.742743Z"
    },
    "papermill": {
     "duration": 0.090974,
     "end_time": "2021-11-16T23:10:33.665974",
     "exception": false,
     "start_time": "2021-11-16T23:10:33.575000",
     "status": "completed"
    },
    "tags": []
   },
   "outputs": [],
   "source": [
    "import torch.nn as nn"
   ]
  },
  {
   "cell_type": "markdown",
   "id": "2670b698",
   "metadata": {
    "papermill": {
     "duration": 0.088298,
     "end_time": "2021-11-16T23:10:33.838621",
     "exception": false,
     "start_time": "2021-11-16T23:10:33.750323",
     "status": "completed"
    },
    "tags": []
   },
   "source": [
    "Additionally to `torch.nn`, there is also `torch.nn.functional`. It contains functions that are used in network layers. This is in contrast to `torch.nn` which defines them as `nn.Modules` (more on it below), and `torch.nn` actually uses a lot of functionalities from `torch.nn.functional`. Hence, the functional package is useful in many situations, and so we import it as well here."
   ]
  },
  {
   "cell_type": "code",
   "execution_count": 35,
   "id": "8185f1f4",
   "metadata": {
    "execution": {
     "iopub.execute_input": "2021-11-16T23:10:34.015336Z",
     "iopub.status.busy": "2021-11-16T23:10:34.013790Z",
     "iopub.status.idle": "2021-11-16T23:10:34.015973Z",
     "shell.execute_reply": "2021-11-16T23:10:34.016403Z",
     "shell.execute_reply.started": "2021-11-16T22:49:13.751359Z"
    },
    "papermill": {
     "duration": 0.092951,
     "end_time": "2021-11-16T23:10:34.016554",
     "exception": false,
     "start_time": "2021-11-16T23:10:33.923603",
     "status": "completed"
    },
    "tags": []
   },
   "outputs": [],
   "source": [
    "import torch.nn.functional as F"
   ]
  },
  {
   "cell_type": "markdown",
   "id": "a3957b87",
   "metadata": {
    "papermill": {
     "duration": 0.085345,
     "end_time": "2021-11-16T23:10:34.185242",
     "exception": false,
     "start_time": "2021-11-16T23:10:34.099897",
     "status": "completed"
    },
    "tags": []
   },
   "source": [
    "#### nn.Module\n",
    "\n",
    "In PyTorch, a neural network is built up out of modules. Modules can contain other modules, and a neural network is considered to be a module itself as well. The basic template of a module is as follows:"
   ]
  },
  {
   "cell_type": "code",
   "execution_count": 36,
   "id": "4cb556e5",
   "metadata": {
    "execution": {
     "iopub.execute_input": "2021-11-16T23:10:34.356282Z",
     "iopub.status.busy": "2021-11-16T23:10:34.355667Z",
     "iopub.status.idle": "2021-11-16T23:10:34.358504Z",
     "shell.execute_reply": "2021-11-16T23:10:34.358077Z",
     "shell.execute_reply.started": "2021-11-16T22:49:13.762627Z"
    },
    "papermill": {
     "duration": 0.090146,
     "end_time": "2021-11-16T23:10:34.358638",
     "exception": false,
     "start_time": "2021-11-16T23:10:34.268492",
     "status": "completed"
    },
    "tags": []
   },
   "outputs": [],
   "source": [
    "class MyModule(nn.Module):\n",
    "    \n",
    "    def __init__(self):\n",
    "        super().__init__()\n",
    "        # Some init for my module\n",
    "        \n",
    "    def forward(self, x):\n",
    "        # Function for performing the calculation of the module.\n",
    "        pass"
   ]
  },
  {
   "cell_type": "markdown",
   "id": "73fca190",
   "metadata": {
    "papermill": {
     "duration": 0.081757,
     "end_time": "2021-11-16T23:10:34.522696",
     "exception": false,
     "start_time": "2021-11-16T23:10:34.440939",
     "status": "completed"
    },
    "tags": []
   },
   "source": [
    "The `forward` function is where the computation of the module is taken place, and is executed when you call the module (`net = MyModule(); net(x)`). In the `init` function, we usually create the parameters of the module, using `nn.Parameter`, or defining other modules that are used in the forward function. The backward calculation is done automatically, but could be overwritten as well if wanted.\n",
    "\n",
    "#### Simple classifier\n",
    "We can now make use of the pre-defined modules in the `torch.nn` package, and define our own small neural network. We will use a minimal network with a input layer, one hidden layer with tanh as activation function, and a output layer. In other words, our networks should look something like this:\n",
    "\n",
    "<center width=\"100%\"><img src=https://uvadlc-notebooks.readthedocs.io/en/latest/_images/small_neural_network.svg width=\"300px\"></center>\n",
    "\n",
    "The input neurons are shown in blue, which represent the coordinates ${x}_1$ and ${x}_2$ of a data point. The hidden neurons including a tanh activation are shown in white, and the output neuron in red. The network essentially embeds each input to a subspace of $\\mathbb{R}^4$ and performs logistic regression on the resulting 4-dimensional representation. In PyTorch, we can implement this as follows:"
   ]
  },
  {
   "cell_type": "code",
   "execution_count": 37,
   "id": "6a90af59",
   "metadata": {
    "execution": {
     "iopub.execute_input": "2021-11-16T23:10:34.695314Z",
     "iopub.status.busy": "2021-11-16T23:10:34.694795Z",
     "iopub.status.idle": "2021-11-16T23:10:34.698288Z",
     "shell.execute_reply": "2021-11-16T23:10:34.697850Z",
     "shell.execute_reply.started": "2021-11-16T22:49:13.770724Z"
    },
    "papermill": {
     "duration": 0.092805,
     "end_time": "2021-11-16T23:10:34.698390",
     "exception": false,
     "start_time": "2021-11-16T23:10:34.605585",
     "status": "completed"
    },
    "tags": []
   },
   "outputs": [],
   "source": [
    "class SimpleClassifier(nn.Module):\n",
    "\n",
    "    def __init__(self, num_inputs, num_hidden, num_outputs):\n",
    "        super().__init__()\n",
    "        \n",
    "        # Initialize the modules we need to build the network\n",
    "        self.linear1 = nn.Linear(num_inputs, num_hidden)\n",
    "        self.act_fn = nn.Tanh()\n",
    "        self.linear2 = nn.Linear(num_hidden, num_outputs)\n",
    "\n",
    "    def forward(self, x):\n",
    "        \n",
    "        # Perform the calculation of the model to determine the prediction\n",
    "        x = self.linear1(x)\n",
    "        x = self.act_fn(x)\n",
    "        x = self.linear2(x)\n",
    "        return x"
   ]
  },
  {
   "cell_type": "markdown",
   "id": "32dedaa7",
   "metadata": {
    "papermill": {
     "duration": 0.08732,
     "end_time": "2021-11-16T23:10:34.868260",
     "exception": false,
     "start_time": "2021-11-16T23:10:34.780940",
     "status": "completed"
    },
    "tags": []
   },
   "source": [
    "For the examples in this notebook, we will use a tiny neural network with two input neurons and four hidden neurons. As we perform binary classification, we will use a single output neuron. Note that we do not apply a sigmoid on the output yet. This is because other functions, especially the loss, are more efficient and precise to calculate on the original outputs instead of the sigmoid output. We will discuss the detailed reason later."
   ]
  },
  {
   "cell_type": "code",
   "execution_count": 38,
   "id": "344f9f2c",
   "metadata": {
    "execution": {
     "iopub.execute_input": "2021-11-16T23:10:35.043118Z",
     "iopub.status.busy": "2021-11-16T23:10:35.042443Z",
     "iopub.status.idle": "2021-11-16T23:10:35.047142Z",
     "shell.execute_reply": "2021-11-16T23:10:35.047577Z",
     "shell.execute_reply.started": "2021-11-16T22:49:13.781476Z"
    },
    "papermill": {
     "duration": 0.094948,
     "end_time": "2021-11-16T23:10:35.047713",
     "exception": false,
     "start_time": "2021-11-16T23:10:34.952765",
     "status": "completed"
    },
    "tags": []
   },
   "outputs": [
    {
     "name": "stdout",
     "output_type": "stream",
     "text": [
      "SimpleClassifier(\n",
      "  (linear1): Linear(in_features=2, out_features=4, bias=True)\n",
      "  (act_fn): Tanh()\n",
      "  (linear2): Linear(in_features=4, out_features=1, bias=True)\n",
      ")\n"
     ]
    }
   ],
   "source": [
    "model = SimpleClassifier(num_inputs=2, num_hidden=4, num_outputs=1)\n",
    "\n",
    "# Printing a module shows all its submodules\n",
    "print(model)"
   ]
  },
  {
   "cell_type": "markdown",
   "id": "bb9bffb8",
   "metadata": {
    "papermill": {
     "duration": 0.083442,
     "end_time": "2021-11-16T23:10:35.216161",
     "exception": false,
     "start_time": "2021-11-16T23:10:35.132719",
     "status": "completed"
    },
    "tags": []
   },
   "source": [
    "Printing the model lists all submodules it contains. The parameters of a module can be obtained by using its `parameters()` functions, or `named_parameters()` to get a name to each parameter object. For our small neural network, we have the following parameters:"
   ]
  },
  {
   "cell_type": "code",
   "execution_count": 39,
   "id": "8137dfeb",
   "metadata": {
    "execution": {
     "iopub.execute_input": "2021-11-16T23:10:35.389508Z",
     "iopub.status.busy": "2021-11-16T23:10:35.388879Z",
     "iopub.status.idle": "2021-11-16T23:10:35.392196Z",
     "shell.execute_reply": "2021-11-16T23:10:35.392799Z",
     "shell.execute_reply.started": "2021-11-16T22:49:13.796376Z"
    },
    "papermill": {
     "duration": 0.091983,
     "end_time": "2021-11-16T23:10:35.392969",
     "exception": false,
     "start_time": "2021-11-16T23:10:35.300986",
     "status": "completed"
    },
    "tags": []
   },
   "outputs": [
    {
     "name": "stdout",
     "output_type": "stream",
     "text": [
      "Parameter linear1.weight, shape torch.Size([4, 2])\n",
      "Parameter linear1.bias, shape torch.Size([4])\n",
      "Parameter linear2.weight, shape torch.Size([1, 4])\n",
      "Parameter linear2.bias, shape torch.Size([1])\n"
     ]
    }
   ],
   "source": [
    "for name, param in model.named_parameters():\n",
    "    print(f\"Parameter {name}, shape {param.shape}\")"
   ]
  },
  {
   "cell_type": "markdown",
   "id": "084d22b6",
   "metadata": {
    "papermill": {
     "duration": 0.08468,
     "end_time": "2021-11-16T23:10:35.562801",
     "exception": false,
     "start_time": "2021-11-16T23:10:35.478121",
     "status": "completed"
    },
    "tags": []
   },
   "source": [
    "Each linear layer has a weight matrix of the shape `[output, input]`, and a bias of the shape `[output]`. The tanh activation function does not have any parameters. Note that parameters are only registered for `nn.Module` objects that are direct object attributes, i.e. `self.a = ...`. If you define a list of modules, the parameters of those are not registered for the outer module and can cause some issues when you try to optimize your module. There are alternatives, like `nn.ModuleList`, `nn.ModuleDict` and `nn.Sequential`, that allow you to have different data structures of modules. We will use them in a few later tutorials and explain them there. "
   ]
  },
  {
   "cell_type": "markdown",
   "id": "86a3a7ee",
   "metadata": {
    "papermill": {
     "duration": 0.083462,
     "end_time": "2021-11-16T23:10:35.730640",
     "exception": false,
     "start_time": "2021-11-16T23:10:35.647178",
     "status": "completed"
    },
    "tags": []
   },
   "source": [
    "### Data\n",
    "\n",
    "PyTorch also provides a few functionalities to load the training and test data efficiently, summarized in the package `torch.utils.data`."
   ]
  },
  {
   "cell_type": "code",
   "execution_count": 40,
   "id": "58260b7c",
   "metadata": {
    "execution": {
     "iopub.execute_input": "2021-11-16T23:10:35.906322Z",
     "iopub.status.busy": "2021-11-16T23:10:35.904768Z",
     "iopub.status.idle": "2021-11-16T23:10:35.906938Z",
     "shell.execute_reply": "2021-11-16T23:10:35.907354Z",
     "shell.execute_reply.started": "2021-11-16T22:49:13.80478Z"
    },
    "papermill": {
     "duration": 0.0925,
     "end_time": "2021-11-16T23:10:35.907485",
     "exception": false,
     "start_time": "2021-11-16T23:10:35.814985",
     "status": "completed"
    },
    "tags": []
   },
   "outputs": [],
   "source": [
    "import torch.utils.data as data"
   ]
  },
  {
   "cell_type": "markdown",
   "id": "2cac3205",
   "metadata": {
    "papermill": {
     "duration": 0.083921,
     "end_time": "2021-11-16T23:10:36.076301",
     "exception": false,
     "start_time": "2021-11-16T23:10:35.992380",
     "status": "completed"
    },
    "tags": []
   },
   "source": [
    "The data package defines two classes which are the standard interface for handling data in PyTorch: `data.Dataset`, and `data.DataLoader`. The dataset class provides an uniform interface to access the training/test data, while the data loader makes sure to efficiently load and stack the data points from the dataset into batches during training."
   ]
  },
  {
   "cell_type": "markdown",
   "id": "7fb1902f",
   "metadata": {
    "papermill": {
     "duration": 0.093369,
     "end_time": "2021-11-16T23:10:36.253480",
     "exception": false,
     "start_time": "2021-11-16T23:10:36.160111",
     "status": "completed"
    },
    "tags": []
   },
   "source": [
    "#### The `Dataset` class\n",
    "\n",
    "The dataset class summarizes the basic functionality of a dataset in a natural way. To define a dataset in PyTorch, we simply specify two functions: (1) `__getitem__`, and (2) `__len__`. The get-item function has to return the $i$-th data point in the dataset, while the len function returns the size of the dataset. For the XOR dataset, we can define the dataset class as follows:"
   ]
  },
  {
   "cell_type": "code",
   "execution_count": 41,
   "id": "5a814cef",
   "metadata": {
    "execution": {
     "iopub.execute_input": "2021-11-16T23:10:36.516996Z",
     "iopub.status.busy": "2021-11-16T23:10:36.516122Z",
     "iopub.status.idle": "2021-11-16T23:10:36.518589Z",
     "shell.execute_reply": "2021-11-16T23:10:36.518146Z",
     "shell.execute_reply.started": "2021-11-16T22:49:13.816749Z"
    },
    "papermill": {
     "duration": 0.180775,
     "end_time": "2021-11-16T23:10:36.518735",
     "exception": false,
     "start_time": "2021-11-16T23:10:36.337960",
     "status": "completed"
    },
    "tags": []
   },
   "outputs": [],
   "source": [
    "class XORDataset(data.Dataset):\n",
    "\n",
    "    def __init__(self, size, std=0.1):\n",
    "        \"\"\"\n",
    "        Inputs:\n",
    "            size - Number of data points we want to generate\n",
    "            std - Standard deviation of the noise (see generate_continuous_xor function)\n",
    "        \"\"\"\n",
    "        super().__init__()\n",
    "        self.size = size\n",
    "        self.std = std\n",
    "        self.generate_continuous_xor()\n",
    "\n",
    "    def generate_continuous_xor(self):\n",
    "        \n",
    "        # Each data point in the XOR dataset has two variables, x and y, that can be either 0 or 1\n",
    "        # The label is their XOR combination, i.e. 1 if only x or only y is 1 while the other is 0.\n",
    "        # If x=y, the label is 0.\n",
    "        data = torch.randint(low=0, high=2, size=(self.size, 2), dtype=torch.float32)\n",
    "        label = (data.sum(dim=1) == 1).to(torch.long)\n",
    "        \n",
    "        # To make it slightly more challenging, we add a bit of gaussian noise to the data points.\n",
    "        data += self.std * torch.randn(data.shape)\n",
    "\n",
    "        self.data = data\n",
    "        self.label = label\n",
    "\n",
    "    def __len__(self):\n",
    "        \n",
    "        # Number of data point we have. Alternatively self.data.shape[0], or self.label.shape[0]\n",
    "        return self.size\n",
    "\n",
    "    def __getitem__(self, idx):\n",
    "        \n",
    "        # Return the idx-th data point of the dataset\n",
    "        # If we have multiple things to return (data point and label), we can return them as tuple\n",
    "        data_point = self.data[idx]\n",
    "        data_label = self.label[idx]\n",
    "        \n",
    "        return data_point, data_label"
   ]
  },
  {
   "cell_type": "markdown",
   "id": "13e1b177",
   "metadata": {
    "papermill": {
     "duration": 0.084737,
     "end_time": "2021-11-16T23:10:36.692119",
     "exception": false,
     "start_time": "2021-11-16T23:10:36.607382",
     "status": "completed"
    },
    "tags": []
   },
   "source": [
    "Let's try to create such a dataset and inspect it:"
   ]
  },
  {
   "cell_type": "code",
   "execution_count": 42,
   "id": "7ed7905f",
   "metadata": {
    "execution": {
     "iopub.execute_input": "2021-11-16T23:10:36.867266Z",
     "iopub.status.busy": "2021-11-16T23:10:36.866713Z",
     "iopub.status.idle": "2021-11-16T23:10:36.876291Z",
     "shell.execute_reply": "2021-11-16T23:10:36.876929Z",
     "shell.execute_reply.started": "2021-11-16T22:49:13.829425Z"
    },
    "papermill": {
     "duration": 0.099943,
     "end_time": "2021-11-16T23:10:36.877118",
     "exception": false,
     "start_time": "2021-11-16T23:10:36.777175",
     "status": "completed"
    },
    "tags": []
   },
   "outputs": [
    {
     "name": "stdout",
     "output_type": "stream",
     "text": [
      "Size of dataset: 200\n",
      "Data point 0: (tensor([0.9632, 0.1117]), tensor(1))\n"
     ]
    }
   ],
   "source": [
    "dataset = XORDataset(size=200)\n",
    "print(\"Size of dataset:\", len(dataset))\n",
    "print(\"Data point 0:\", dataset[0])"
   ]
  },
  {
   "cell_type": "markdown",
   "id": "c1991f2b",
   "metadata": {
    "papermill": {
     "duration": 0.085295,
     "end_time": "2021-11-16T23:10:37.048058",
     "exception": false,
     "start_time": "2021-11-16T23:10:36.962763",
     "status": "completed"
    },
    "tags": []
   },
   "source": [
    "To better relate to the dataset, we visualize the samples below. "
   ]
  },
  {
   "cell_type": "code",
   "execution_count": 43,
   "id": "d297ba08",
   "metadata": {
    "execution": {
     "iopub.execute_input": "2021-11-16T23:10:37.225127Z",
     "iopub.status.busy": "2021-11-16T23:10:37.224273Z",
     "iopub.status.idle": "2021-11-16T23:10:37.226120Z",
     "shell.execute_reply": "2021-11-16T23:10:37.226517Z",
     "shell.execute_reply.started": "2021-11-16T22:49:13.845967Z"
    },
    "papermill": {
     "duration": 0.093399,
     "end_time": "2021-11-16T23:10:37.226670",
     "exception": false,
     "start_time": "2021-11-16T23:10:37.133271",
     "status": "completed"
    },
    "tags": []
   },
   "outputs": [],
   "source": [
    "def visualize_samples(data, label):\n",
    "    if isinstance(data, torch.Tensor):\n",
    "        data = data.cpu().numpy()\n",
    "        \n",
    "    if isinstance(label, torch.Tensor):\n",
    "        label = label.cpu().numpy()\n",
    "    \n",
    "    data_0 = data[label == 0]\n",
    "    data_1 = data[label == 1]\n",
    "    \n",
    "    plt.figure(figsize=(7, 7))\n",
    "    plt.scatter(data_0[:,0], data_0[:,1], edgecolor=\"#333\", label=\"Class 0\")\n",
    "    plt.scatter(data_1[:,0], data_1[:,1], edgecolor=\"#333\", label=\"Class 1\")\n",
    "    plt.title(\"Dataset samples\")\n",
    "    plt.ylabel(r\"$x_2$\")\n",
    "    plt.xlabel(r\"$x_1$\")\n",
    "    plt.legend()"
   ]
  },
  {
   "cell_type": "code",
   "execution_count": 44,
   "id": "bc5d8734",
   "metadata": {
    "execution": {
     "iopub.execute_input": "2021-11-16T23:10:37.421705Z",
     "iopub.status.busy": "2021-11-16T23:10:37.421099Z",
     "iopub.status.idle": "2021-11-16T23:10:37.886591Z",
     "shell.execute_reply": "2021-11-16T23:10:37.885973Z",
     "shell.execute_reply.started": "2021-11-16T22:49:13.855162Z"
    },
    "papermill": {
     "duration": 0.568875,
     "end_time": "2021-11-16T23:10:37.886745",
     "exception": false,
     "start_time": "2021-11-16T23:10:37.317870",
     "status": "completed"
    },
    "tags": []
   },
   "outputs": [
    {
     "data": {
      "image/png": "[encoded data removed]",
      "text/plain": [
       "<Figure size 504x504 with 1 Axes>"
      ]
     },
     "metadata": {
      "needs_background": "light"
     },
     "output_type": "display_data"
    }
   ],
   "source": [
    "visualize_samples(dataset.data, dataset.label)"
   ]
  },
  {
   "cell_type": "markdown",
   "id": "a52ee33f",
   "metadata": {
    "papermill": {
     "duration": 0.088717,
     "end_time": "2021-11-16T23:10:38.063084",
     "exception": false,
     "start_time": "2021-11-16T23:10:37.974367",
     "status": "completed"
    },
    "tags": []
   },
   "source": [
    "#### The `DataLoader` class\n",
    "\n",
    "The class `torch.utils.data.DataLoader` represents a Python iterable over a dataset with support for automatic batching, multi-process data loading and many more features. The data loader communicates with the dataset using the function `__getitem__`, and stacks its outputs as tensors over the first dimension to form a batch.\n",
    "In contrast to the dataset class, we usually don't have to define our own data loader class, but can just create an object of it with the dataset as input. Additionally, we can configure our data loader with the following input arguments (only a selection, see full list [here](https://pytorch.org/docs/stable/data.html#torch.utils.data.DataLoader)):\n",
    "\n",
    "| | |\n",
    "| :--- | :--- |\n",
    "| `batch_size` | Number of samples to stack per batch. |\n",
    "| `shuffle` | If True, the data is returned in a random order. This is important during training for introducing stochasticity.  |\n",
    "| `num_workers` | Number of subprocesses to use for data loading. The default, 0, means that the data will be loaded in the main process which can slow down training for datasets where loading a data point takes a considerable amount of time (e.g. large images). More workers are recommended for those, but can cause issues on Windows computers. For tiny datasets as ours, 0 workers are usually faster. |\n",
    "| `pin_memory` | If True, the data loader will copy Tensors into CUDA pinned memory before returning them. This can save some time for large data points on GPUs. Usually a good practice to use for a training set, but not necessarily for validation and test to save memory on the GPU. |\n",
    "| `drop_last` | If True, the last batch is dropped in case it is smaller than the specified batch size. This occurs when the dataset size is not a multiple of the batch size. Only potentially helpful during training to keep a consistent batch size. |\n",
    "\n",
    "\n",
    "Let's create a simple data loader below:"
   ]
  },
  {
   "cell_type": "code",
   "execution_count": 45,
   "id": "f1567b14",
   "metadata": {
    "execution": {
     "iopub.execute_input": "2021-11-16T23:10:38.244946Z",
     "iopub.status.busy": "2021-11-16T23:10:38.244012Z",
     "iopub.status.idle": "2021-11-16T23:10:38.246084Z",
     "shell.execute_reply": "2021-11-16T23:10:38.246530Z",
     "shell.execute_reply.started": "2021-11-16T22:49:14.354912Z"
    },
    "papermill": {
     "duration": 0.097916,
     "end_time": "2021-11-16T23:10:38.246699",
     "exception": false,
     "start_time": "2021-11-16T23:10:38.148783",
     "status": "completed"
    },
    "tags": []
   },
   "outputs": [],
   "source": [
    "data_loader = data.DataLoader(dataset, batch_size=8, shuffle=True)"
   ]
  },
  {
   "cell_type": "code",
   "execution_count": 46,
   "id": "2fba8fd9",
   "metadata": {
    "execution": {
     "iopub.execute_input": "2021-11-16T23:10:38.450429Z",
     "iopub.status.busy": "2021-11-16T23:10:38.449768Z",
     "iopub.status.idle": "2021-11-16T23:10:38.461761Z",
     "shell.execute_reply": "2021-11-16T23:10:38.462378Z",
     "shell.execute_reply.started": "2021-11-16T22:49:14.36138Z"
    },
    "papermill": {
     "duration": 0.117616,
     "end_time": "2021-11-16T23:10:38.462591",
     "exception": false,
     "start_time": "2021-11-16T23:10:38.344975",
     "status": "completed"
    },
    "tags": []
   },
   "outputs": [
    {
     "name": "stdout",
     "output_type": "stream",
     "text": [
      "Data inputs torch.Size([8, 2]) \n",
      " tensor([[-0.0890,  0.8608],\n",
      "        [ 1.0905, -0.0128],\n",
      "        [ 0.7967,  0.2268],\n",
      "        [-0.0688,  0.0371],\n",
      "        [ 0.8732, -0.2240],\n",
      "        [-0.0559, -0.0282],\n",
      "        [ 0.9277,  0.0978],\n",
      "        [ 1.0150,  0.9689]])\n",
      "\n",
      "Data labels torch.Size([8]) \n",
      " tensor([1, 1, 1, 0, 1, 0, 1, 0])\n"
     ]
    }
   ],
   "source": [
    "# next(iter(...)) catches the first batch of the data loader\n",
    "# If shuffle is True, this will return a different batch every time we run this cell\n",
    "# For iterating over the whole dataset, we can simple use \"for batch in data_loader: ...\"\n",
    "data_inputs, data_labels = next(iter(data_loader))\n",
    "\n",
    "# The shape of the outputs are [batch_size, d_1,...,d_N] where d_1,...,d_N are the \n",
    "# dimensions of the data point returned from the dataset class\n",
    "print(\"Data inputs\", data_inputs.shape, \"\\n\", data_inputs)\n",
    "print(\"\\nData labels\", data_labels.shape, \"\\n\", data_labels)"
   ]
  },
  {
   "cell_type": "markdown",
   "id": "1935a007",
   "metadata": {
    "papermill": {
     "duration": 0.093207,
     "end_time": "2021-11-16T23:10:38.648742",
     "exception": false,
     "start_time": "2021-11-16T23:10:38.555535",
     "status": "completed"
    },
    "tags": []
   },
   "source": [
    "### Optimization\n",
    "\n",
    "After defining the model and the dataset, it is time to prepare the optimization of the model. During training, we will perform the following steps:\n",
    "\n",
    "1. Get a batch from the data loader.\n",
    "2. Obtain the predictions from the model for the batch.\n",
    "3. Calculate the loss based on the difference between predictions and labels.\n",
    "4. Backpropagation: calculate the gradients for every parameter with respect to the loss.\n",
    "5. Update the parameters of the model in the direction of the gradients.\n",
    "\n",
    "We have seen how we can do step 1, 2 and 4 in PyTorch. Now, we will look at step 3 and 5."
   ]
  },
  {
   "cell_type": "markdown",
   "id": "bdbe4271",
   "metadata": {
    "papermill": {
     "duration": 0.085876,
     "end_time": "2021-11-16T23:10:38.825161",
     "exception": false,
     "start_time": "2021-11-16T23:10:38.739285",
     "status": "completed"
    },
    "tags": []
   },
   "source": [
    "#### Loss modules\n",
    "\n",
    "We can calculate the loss for a batch by simply performing a few tensor operations as those are automatically added to the computation graph. For instance, for binary classification, we can use **Binary Cross Entropy** (BCE) which is defined as follows:\n",
    "\n",
    "$$\\mathcal{L}_\\text{BCE} = -\\sum_i \\left[ y_i \\log s_i + (1 - y_i) \\log (1 - s_i) \\right]$$\n",
    "\n",
    "where $y$ are our labels, and $s$ our predictions, both in the range of $[0,1]$. However, PyTorch already provides a list of predefined loss functions which we can use (see [here](https://pytorch.org/docs/stable/nn.html#loss-functions) for a full list). For instance, for BCE, PyTorch has two modules: `nn.BCELoss()`, `nn.BCEWithLogitsLoss()`. While `nn.BCELoss` expects the inputs $s$ to be in the range $[0,1]$, i.e. the output of a sigmoid, `nn.BCEWithLogitsLoss` combines a sigmoid layer and the BCE loss in a single class. This version is numerically more stable than using a plain Sigmoid followed by a BCE loss because of the logarithms applied in the loss function. Hence, it is adviced to use loss functions applied on \"logits\" where possible (remember to not apply a sigmoid on the output of the model in this case!). For our model defined above, we therefore use the module `nn.BCEWithLogitsLoss`. "
   ]
  },
  {
   "cell_type": "code",
   "execution_count": 47,
   "id": "71889ab5",
   "metadata": {
    "execution": {
     "iopub.execute_input": "2021-11-16T23:10:39.004011Z",
     "iopub.status.busy": "2021-11-16T23:10:39.003134Z",
     "iopub.status.idle": "2021-11-16T23:10:39.005003Z",
     "shell.execute_reply": "2021-11-16T23:10:39.005442Z",
     "shell.execute_reply.started": "2021-11-16T22:49:14.379686Z"
    },
    "papermill": {
     "duration": 0.09319,
     "end_time": "2021-11-16T23:10:39.005623",
     "exception": false,
     "start_time": "2021-11-16T23:10:38.912433",
     "status": "completed"
    },
    "tags": []
   },
   "outputs": [],
   "source": [
    "loss_module = nn.BCEWithLogitsLoss()"
   ]
  },
  {
   "cell_type": "markdown",
   "id": "113474b6",
   "metadata": {
    "papermill": {
     "duration": 0.0898,
     "end_time": "2021-11-16T23:10:39.181300",
     "exception": false,
     "start_time": "2021-11-16T23:10:39.091500",
     "status": "completed"
    },
    "tags": []
   },
   "source": [
    "#### Stochastic Gradient Descent\n",
    "\n",
    "For updating the parameters, PyTorch provides the package `torch.optim` that has most popular optimizers implemented. We will discuss the specific optimizers and their differences later in the course, but will for now use the simplest of them: `torch.optim.SGD`. Stochastic Gradient Descent updates parameters by multiplying the gradients with a small constant, called **learning rate**, and subtracting those from the parameters (hence minimizing the loss). Therefore, we slowly move towards the direction of minimizing the loss. A good default value of the learning rate for a small network as ours is 0.1. "
   ]
  },
  {
   "cell_type": "code",
   "execution_count": 48,
   "id": "2198f9b0",
   "metadata": {
    "execution": {
     "iopub.execute_input": "2021-11-16T23:10:39.361980Z",
     "iopub.status.busy": "2021-11-16T23:10:39.361125Z",
     "iopub.status.idle": "2021-11-16T23:10:39.362977Z",
     "shell.execute_reply": "2021-11-16T23:10:39.363448Z",
     "shell.execute_reply.started": "2021-11-16T22:49:14.38578Z"
    },
    "papermill": {
     "duration": 0.092319,
     "end_time": "2021-11-16T23:10:39.363597",
     "exception": false,
     "start_time": "2021-11-16T23:10:39.271278",
     "status": "completed"
    },
    "tags": []
   },
   "outputs": [],
   "source": [
    "# Input to the optimizer are the parameters of the model: model.parameters()\n",
    "optimizer = torch.optim.SGD(model.parameters(), lr=0.1)"
   ]
  },
  {
   "cell_type": "markdown",
   "id": "2484d737",
   "metadata": {
    "papermill": {
     "duration": 0.085112,
     "end_time": "2021-11-16T23:10:39.534033",
     "exception": false,
     "start_time": "2021-11-16T23:10:39.448921",
     "status": "completed"
    },
    "tags": []
   },
   "source": [
    "The optimizer provides two useful functions: `optimizer.step()`, and `optimizer.zero_grad()`. The step function updates the parameters based on the gradients as explained above. The function `optimizer.zero_grad()` sets the gradients of all parameters to zero. While this function seems less relevant at first, it is a crucial pre-step before performing backpropagation. If we would call the `backward` function on the loss while the parameter gradients are non-zero from the previous batch, the new gradients would actually be *added* to the previous ones instead of overwriting them. This is done because a parameter might occur multiple times in a computation graph, and we need to sum the gradients in this case instead of replacing them. Hence, remember to call `optimizer.zero_grad()` before calculating the gradients of a batch."
   ]
  },
  {
   "cell_type": "markdown",
   "id": "7f25ca7b",
   "metadata": {
    "papermill": {
     "duration": 0.08479,
     "end_time": "2021-11-16T23:10:39.705358",
     "exception": false,
     "start_time": "2021-11-16T23:10:39.620568",
     "status": "completed"
    },
    "tags": []
   },
   "source": [
    "### Training\n",
    "\n",
    "Finally, we are ready to train our model. As a first step, we create a slightly larger dataset and specify a data loader with a larger batch size. "
   ]
  },
  {
   "cell_type": "code",
   "execution_count": 49,
   "id": "5ab724a5",
   "metadata": {
    "execution": {
     "iopub.execute_input": "2021-11-16T23:10:39.883857Z",
     "iopub.status.busy": "2021-11-16T23:10:39.883132Z",
     "iopub.status.idle": "2021-11-16T23:10:39.886425Z",
     "shell.execute_reply": "2021-11-16T23:10:39.885985Z",
     "shell.execute_reply.started": "2021-11-16T22:49:14.395081Z"
    },
    "papermill": {
     "duration": 0.094412,
     "end_time": "2021-11-16T23:10:39.886559",
     "exception": false,
     "start_time": "2021-11-16T23:10:39.792147",
     "status": "completed"
    },
    "tags": []
   },
   "outputs": [],
   "source": [
    "train_dataset = XORDataset(size=2500)\n",
    "train_data_loader = data.DataLoader(train_dataset, batch_size=128, shuffle=True)"
   ]
  },
  {
   "cell_type": "markdown",
   "id": "ea58577a",
   "metadata": {
    "papermill": {
     "duration": 0.086412,
     "end_time": "2021-11-16T23:10:40.060316",
     "exception": false,
     "start_time": "2021-11-16T23:10:39.973904",
     "status": "completed"
    },
    "tags": []
   },
   "source": [
    "Now, we can write a small training function. Remember our five steps: load a batch, obtain the predictions, calculate the loss, backpropagate, and update. Additionally, we have to push all data and model parameters to the device of our choice (GPU if available). For the tiny neural network we have, communicating the data to the GPU actually takes much more time than we could save from running the operation on GPU. For large networks, the communication time is significantly smaller than the actual runtime making a GPU crucial in these cases. Still, to practice, we will push the data to GPU here. "
   ]
  },
  {
   "cell_type": "code",
   "execution_count": 50,
   "id": "6291adfd",
   "metadata": {
    "execution": {
     "iopub.execute_input": "2021-11-16T23:10:40.235999Z",
     "iopub.status.busy": "2021-11-16T23:10:40.235375Z",
     "iopub.status.idle": "2021-11-16T23:10:40.248499Z",
     "shell.execute_reply": "2021-11-16T23:10:40.249176Z",
     "shell.execute_reply.started": "2021-11-16T22:49:14.404632Z"
    },
    "papermill": {
     "duration": 0.102918,
     "end_time": "2021-11-16T23:10:40.249388",
     "exception": false,
     "start_time": "2021-11-16T23:10:40.146470",
     "status": "completed"
    },
    "tags": []
   },
   "outputs": [
    {
     "data": {
      "text/plain": [
       "SimpleClassifier(\n",
       "  (linear1): Linear(in_features=2, out_features=4, bias=True)\n",
       "  (act_fn): Tanh()\n",
       "  (linear2): Linear(in_features=4, out_features=1, bias=True)\n",
       ")"
      ]
     },
     "execution_count": 50,
     "metadata": {},
     "output_type": "execute_result"
    }
   ],
   "source": [
    "# Push model to device. Has to be only done once\n",
    "model.to(device)"
   ]
  },
  {
   "cell_type": "markdown",
   "id": "286f6bf2",
   "metadata": {
    "papermill": {
     "duration": 0.147868,
     "end_time": "2021-11-16T23:10:40.547177",
     "exception": false,
     "start_time": "2021-11-16T23:10:40.399309",
     "status": "completed"
    },
    "tags": []
   },
   "source": [
    "In addition, we set our model to training mode. This is done by calling `model.train()`. There exist certain modules that need to perform a different forward step during training than during testing (e.g. BatchNorm and Dropout), and we can switch between them using `model.train()` and `model.eval()`."
   ]
  },
  {
   "cell_type": "code",
   "execution_count": 51,
   "id": "0b901155",
   "metadata": {
    "execution": {
     "iopub.execute_input": "2021-11-16T23:10:40.840650Z",
     "iopub.status.busy": "2021-11-16T23:10:40.839933Z",
     "iopub.status.idle": "2021-11-16T23:10:40.842702Z",
     "shell.execute_reply": "2021-11-16T23:10:40.843128Z",
     "shell.execute_reply.started": "2021-11-16T22:49:14.418057Z"
    },
    "papermill": {
     "duration": 0.154881,
     "end_time": "2021-11-16T23:10:40.843269",
     "exception": false,
     "start_time": "2021-11-16T23:10:40.688388",
     "status": "completed"
    },
    "tags": []
   },
   "outputs": [],
   "source": [
    "def train_model(model, optimizer, data_loader, loss_module, num_epochs=100):\n",
    "    \n",
    "    # Set model to train mode\n",
    "    model.train() \n",
    "    \n",
    "    # Training loop\n",
    "    for epoch in tqdm(range(num_epochs)):\n",
    "        for data_inputs, data_labels in data_loader:\n",
    "            \n",
    "            ## Step 1: Move input data to device (only strictly necessary if we use GPU)\n",
    "            data_inputs = data_inputs.to(device)\n",
    "            data_labels = data_labels.to(device)\n",
    "            \n",
    "            ## Step 2: Run the model on the input data\n",
    "            preds = model(data_inputs)\n",
    "            preds = preds.squeeze(dim=1) # Output shape is [Batch size, 1], but we want [Batch size]\n",
    "            \n",
    "            ## Step 3: Calculate the loss\n",
    "            loss = loss_module(preds, data_labels.float())\n",
    "            \n",
    "            ## Step 4: Perform backpropagation\n",
    "            # Before calculating the gradients, we need to ensure that they are all zero. \n",
    "            # The gradients would not be overwritten, but actually added to the existing ones.\n",
    "            optimizer.zero_grad() \n",
    "            loss.backward()\n",
    "            \n",
    "            ## Step 5: Update the parameters\n",
    "            optimizer.step()"
   ]
  },
  {
   "cell_type": "code",
   "execution_count": 52,
   "id": "3eb9b833",
   "metadata": {
    "execution": {
     "iopub.execute_input": "2021-11-16T23:10:41.027967Z",
     "iopub.status.busy": "2021-11-16T23:10:41.027214Z",
     "iopub.status.idle": "2021-11-16T23:10:44.270762Z",
     "shell.execute_reply": "2021-11-16T23:10:44.270218Z",
     "shell.execute_reply.started": "2021-11-16T22:49:14.426987Z"
    },
    "papermill": {
     "duration": 3.33412,
     "end_time": "2021-11-16T23:10:44.270900",
     "exception": false,
     "start_time": "2021-11-16T23:10:40.936780",
     "status": "completed"
    },
    "tags": []
   },
   "outputs": [
    {
     "data": {
      "application/vnd.jupyter.widget-view+json": {
       "model_id": "75d06edd1dbe4226bba829a60283686a",
       "version_major": 2,
       "version_minor": 0
      },
      "text/plain": [
       "  0%|          | 0/100 [00:00<?, ?it/s]"
      ]
     },
     "metadata": {},
     "output_type": "display_data"
    }
   ],
   "source": [
    "train_model(model, optimizer, train_data_loader, loss_module)"
   ]
  },
  {
   "cell_type": "markdown",
   "id": "e7f42b46",
   "metadata": {
    "papermill": {
     "duration": 0.08611,
     "end_time": "2021-11-16T23:10:44.444578",
     "exception": false,
     "start_time": "2021-11-16T23:10:44.358468",
     "status": "completed"
    },
    "tags": []
   },
   "source": [
    "#### Saving a model\n",
    "\n",
    "After finish training a model, we save the model to disk so that we can load the same weights at a later time. For this, we extract the so-called `state_dict` from the model which contains all learnable parameters. For our simple model, the state dict contains the following entries:"
   ]
  },
  {
   "cell_type": "code",
   "execution_count": 53,
   "id": "7e47bb00",
   "metadata": {
    "execution": {
     "iopub.execute_input": "2021-11-16T23:10:44.620860Z",
     "iopub.status.busy": "2021-11-16T23:10:44.618928Z",
     "iopub.status.idle": "2021-11-16T23:10:44.635165Z",
     "shell.execute_reply": "2021-11-16T23:10:44.634749Z",
     "shell.execute_reply.started": "2021-11-16T22:49:18.01906Z"
    },
    "papermill": {
     "duration": 0.104838,
     "end_time": "2021-11-16T23:10:44.635285",
     "exception": false,
     "start_time": "2021-11-16T23:10:44.530447",
     "status": "completed"
    },
    "tags": []
   },
   "outputs": [
    {
     "name": "stdout",
     "output_type": "stream",
     "text": [
      "OrderedDict([('linear1.weight', tensor([[-2.6034, -3.3292],\n",
      "        [ 1.9774, -2.4076],\n",
      "        [-2.5968, -1.5908],\n",
      "        [-0.5717, -0.8101]], device='cuda:0')), ('linear1.bias', tensor([ 1.4459, -1.3992,  2.9882, -0.1375], device='cuda:0')), ('linear2.weight', tensor([[-4.4623,  3.0885,  4.4030, -0.1377]], device='cuda:0')), ('linear2.bias', tensor([-1.6853], device='cuda:0'))])\n"
     ]
    }
   ],
   "source": [
    "state_dict = model.state_dict()\n",
    "print(state_dict)"
   ]
  },
  {
   "cell_type": "markdown",
   "id": "b0cc1574",
   "metadata": {
    "papermill": {
     "duration": 0.087932,
     "end_time": "2021-11-16T23:10:44.810053",
     "exception": false,
     "start_time": "2021-11-16T23:10:44.722121",
     "status": "completed"
    },
    "tags": []
   },
   "source": [
    "To save the state dictionary, we can use `torch.save`:"
   ]
  },
  {
   "cell_type": "code",
   "execution_count": 54,
   "id": "4bb86b3f",
   "metadata": {
    "execution": {
     "iopub.execute_input": "2021-11-16T23:10:45.007251Z",
     "iopub.status.busy": "2021-11-16T23:10:45.003148Z",
     "iopub.status.idle": "2021-11-16T23:10:45.012024Z",
     "shell.execute_reply": "2021-11-16T23:10:45.011388Z",
     "shell.execute_reply.started": "2021-11-16T22:49:18.037399Z"
    },
    "papermill": {
     "duration": 0.103292,
     "end_time": "2021-11-16T23:10:45.012154",
     "exception": false,
     "start_time": "2021-11-16T23:10:44.908862",
     "status": "completed"
    },
    "tags": []
   },
   "outputs": [],
   "source": [
    "# torch.save(object, filename). For the filename, any extension can be used\n",
    "torch.save(state_dict, \"our_model.tar\")"
   ]
  },
  {
   "cell_type": "markdown",
   "id": "442b37d8",
   "metadata": {
    "papermill": {
     "duration": 0.086904,
     "end_time": "2021-11-16T23:10:45.186292",
     "exception": false,
     "start_time": "2021-11-16T23:10:45.099388",
     "status": "completed"
    },
    "tags": []
   },
   "source": [
    "To load a model from a state dict, we use the function `torch.load` to load the state dict from the disk, and the module function `load_state_dict` to overwrite our parameters with the new values:"
   ]
  },
  {
   "cell_type": "code",
   "execution_count": 55,
   "id": "2ba298d6",
   "metadata": {
    "execution": {
     "iopub.execute_input": "2021-11-16T23:10:45.364101Z",
     "iopub.status.busy": "2021-11-16T23:10:45.363524Z",
     "iopub.status.idle": "2021-11-16T23:10:45.374223Z",
     "shell.execute_reply": "2021-11-16T23:10:45.374718Z",
     "shell.execute_reply.started": "2021-11-16T22:49:18.049794Z"
    },
    "papermill": {
     "duration": 0.101908,
     "end_time": "2021-11-16T23:10:45.374864",
     "exception": false,
     "start_time": "2021-11-16T23:10:45.272956",
     "status": "completed"
    },
    "tags": []
   },
   "outputs": [
    {
     "name": "stdout",
     "output_type": "stream",
     "text": [
      "Original model\n",
      " OrderedDict([('linear1.weight', tensor([[-2.6034, -3.3292],\n",
      "        [ 1.9774, -2.4076],\n",
      "        [-2.5968, -1.5908],\n",
      "        [-0.5717, -0.8101]], device='cuda:0')), ('linear1.bias', tensor([ 1.4459, -1.3992,  2.9882, -0.1375], device='cuda:0')), ('linear2.weight', tensor([[-4.4623,  3.0885,  4.4030, -0.1377]], device='cuda:0')), ('linear2.bias', tensor([-1.6853], device='cuda:0'))])\n",
      "\n",
      "Loaded model\n",
      " OrderedDict([('linear1.weight', tensor([[-2.6034, -3.3292],\n",
      "        [ 1.9774, -2.4076],\n",
      "        [-2.5968, -1.5908],\n",
      "        [-0.5717, -0.8101]])), ('linear1.bias', tensor([ 1.4459, -1.3992,  2.9882, -0.1375])), ('linear2.weight', tensor([[-4.4623,  3.0885,  4.4030, -0.1377]])), ('linear2.bias', tensor([-1.6853]))])\n"
     ]
    }
   ],
   "source": [
    "# Load state dict from the disk (make sure it is the same name as above)\n",
    "state_dict = torch.load(\"our_model.tar\")\n",
    "\n",
    "# Create a new model and load the state\n",
    "new_model = SimpleClassifier(num_inputs=2, num_hidden=4, num_outputs=1)\n",
    "new_model.load_state_dict(state_dict)\n",
    "\n",
    "# Verify that the parameters are the same\n",
    "print(\"Original model\\n\", model.state_dict())\n",
    "print(\"\\nLoaded model\\n\", new_model.state_dict())"
   ]
  },
  {
   "cell_type": "markdown",
   "id": "0af43f72",
   "metadata": {
    "papermill": {
     "duration": 0.085758,
     "end_time": "2021-11-16T23:10:45.547084",
     "exception": false,
     "start_time": "2021-11-16T23:10:45.461326",
     "status": "completed"
    },
    "tags": []
   },
   "source": [
    "A detailed tutorial on saving and loading models in PyTorch can be found [here](https://pytorch.org/tutorials/beginner/saving_loading_models.html)."
   ]
  },
  {
   "cell_type": "markdown",
   "id": "8fff4edb",
   "metadata": {
    "papermill": {
     "duration": 0.088117,
     "end_time": "2021-11-16T23:10:45.722126",
     "exception": false,
     "start_time": "2021-11-16T23:10:45.634009",
     "status": "completed"
    },
    "tags": []
   },
   "source": [
    "### Evaluation\n",
    "\n",
    "Once we have trained a model, it is time to evaluate it on a held-out test set. As our dataset consist of randomly generated data points, we need to first create a test set with a corresponding data loader."
   ]
  },
  {
   "cell_type": "code",
   "execution_count": 56,
   "id": "60f1f631",
   "metadata": {
    "execution": {
     "iopub.execute_input": "2021-11-16T23:10:45.900041Z",
     "iopub.status.busy": "2021-11-16T23:10:45.899186Z",
     "iopub.status.idle": "2021-11-16T23:10:45.904753Z",
     "shell.execute_reply": "2021-11-16T23:10:45.904262Z",
     "shell.execute_reply.started": "2021-11-16T22:49:18.065879Z"
    },
    "papermill": {
     "duration": 0.095854,
     "end_time": "2021-11-16T23:10:45.904868",
     "exception": false,
     "start_time": "2021-11-16T23:10:45.809014",
     "status": "completed"
    },
    "tags": []
   },
   "outputs": [],
   "source": [
    "test_dataset = XORDataset(size=500)\n",
    "test_data_loader = data.DataLoader(test_dataset, batch_size=128, shuffle=False, drop_last=False) "
   ]
  },
  {
   "cell_type": "markdown",
   "id": "43fbc043",
   "metadata": {
    "papermill": {
     "duration": 0.087311,
     "end_time": "2021-11-16T23:10:46.077601",
     "exception": false,
     "start_time": "2021-11-16T23:10:45.990290",
     "status": "completed"
    },
    "tags": []
   },
   "source": [
    "As metric, we will use **accuracy**. When evaluating the model, we don't need to keep track of the computation graph as we don't intend to calculate the gradients. This reduces the required memory and speed up the model. In PyTorch, we can deactivate the computation graph using the `with torch.no_grad(): ...` context manager. Remember to additionally set the model to eval mode."
   ]
  },
  {
   "cell_type": "code",
   "execution_count": 57,
   "id": "a3a5e653",
   "metadata": {
    "execution": {
     "iopub.execute_input": "2021-11-16T23:10:46.273116Z",
     "iopub.status.busy": "2021-11-16T23:10:46.272237Z",
     "iopub.status.idle": "2021-11-16T23:10:46.274144Z",
     "shell.execute_reply": "2021-11-16T23:10:46.274730Z",
     "shell.execute_reply.started": "2021-11-16T22:49:18.074031Z"
    },
    "papermill": {
     "duration": 0.110994,
     "end_time": "2021-11-16T23:10:46.274913",
     "exception": false,
     "start_time": "2021-11-16T23:10:46.163919",
     "status": "completed"
    },
    "tags": []
   },
   "outputs": [],
   "source": [
    "def eval_model(model, data_loader):\n",
    "    model.eval() # Set model to eval mode\n",
    "    true_preds, num_preds = 0., 0.\n",
    "    \n",
    "    with torch.no_grad(): # Context manager: deactivate gradients for the ff. code\n",
    "        for data_inputs, data_labels in data_loader:\n",
    "            \n",
    "            # Determine prediction of model on dev set\n",
    "            data_inputs, data_labels = data_inputs.to(device), data_labels.to(device)\n",
    "            preds = model(data_inputs)\n",
    "            preds = preds.squeeze(dim=1)\n",
    "            preds = torch.sigmoid(preds) # Sigmoid to map predictions between 0 and 1\n",
    "            pred_labels = (preds >= 0.5).long() # Binarize predictions to 0 and 1\n",
    "            \n",
    "            # Keep records of predictions for the accuracy metric (true_preds=TP+TN, num_preds=TP+TN+FP+FN)\n",
    "            true_preds += (pred_labels == data_labels).sum()\n",
    "            num_preds += data_labels.shape[0]\n",
    "            \n",
    "    acc = true_preds / num_preds\n",
    "    print(f\"Accuracy of the model: {100.0*acc:4.2f}%\")"
   ]
  },
  {
   "cell_type": "code",
   "execution_count": 58,
   "id": "c07cf127",
   "metadata": {
    "execution": {
     "iopub.execute_input": "2021-11-16T23:10:46.456302Z",
     "iopub.status.busy": "2021-11-16T23:10:46.455426Z",
     "iopub.status.idle": "2021-11-16T23:10:46.466170Z",
     "shell.execute_reply": "2021-11-16T23:10:46.466619Z",
     "shell.execute_reply.started": "2021-11-16T22:49:18.083906Z"
    },
    "papermill": {
     "duration": 0.102422,
     "end_time": "2021-11-16T23:10:46.466753",
     "exception": false,
     "start_time": "2021-11-16T23:10:46.364331",
     "status": "completed"
    },
    "tags": []
   },
   "outputs": [
    {
     "name": "stdout",
     "output_type": "stream",
     "text": [
      "Accuracy of the model: 100.00%\n"
     ]
    }
   ],
   "source": [
    "eval_model(model, test_data_loader)"
   ]
  },
  {
   "cell_type": "markdown",
   "id": "e8831e14",
   "metadata": {
    "papermill": {
     "duration": 0.085176,
     "end_time": "2021-11-16T23:10:46.638284",
     "exception": false,
     "start_time": "2021-11-16T23:10:46.553108",
     "status": "completed"
    },
    "tags": []
   },
   "source": [
    "If we trained our model correctly, we should see a score close to 100% accuracy. However, this is only possible because of our simple task, and unfortunately, we usually don't get such high scores on test sets of more complex tasks."
   ]
  },
  {
   "cell_type": "markdown",
   "id": "bed10944",
   "metadata": {
    "papermill": {
     "duration": 0.085748,
     "end_time": "2021-11-16T23:10:46.811637",
     "exception": false,
     "start_time": "2021-11-16T23:10:46.725889",
     "status": "completed"
    },
    "tags": []
   },
   "source": [
    "#### Visualizing classification boundaries\n",
    "\n",
    "To visualize what our model has learned, we can perform a prediction for every data point in a range of $[-0.5, 1.5]$, and visualize the predicted class as in the sample figure at the beginning of this section. This shows where the model has created decision boundaries, and which points would be classified as $0$, and which as $1$. We therefore get a background image out of blue (class 0) and orange (class 1). The spots where the model is uncertain we will see a blurry overlap. The specific code is less relevant compared to the output figure which should hopefully show us a clear separation of classes:"
   ]
  },
  {
   "cell_type": "code",
   "execution_count": 59,
   "id": "275e994b",
   "metadata": {
    "execution": {
     "iopub.execute_input": "2021-11-16T23:10:47.012581Z",
     "iopub.status.busy": "2021-11-16T23:10:46.998145Z",
     "iopub.status.idle": "2021-11-16T23:10:47.333031Z",
     "shell.execute_reply": "2021-11-16T23:10:47.333447Z",
     "shell.execute_reply.started": "2021-11-16T22:49:18.100806Z"
    },
    "papermill": {
     "duration": 0.435748,
     "end_time": "2021-11-16T23:10:47.333607",
     "exception": false,
     "start_time": "2021-11-16T23:10:46.897859",
     "status": "completed"
    },
    "tags": []
   },
   "outputs": [
    {
     "data": {
      "image/png": "[encoded data removed]",
      "text/plain": [
       "<Figure size 504x504 with 1 Axes>"
      ]
     },
     "metadata": {
      "needs_background": "light"
     },
     "output_type": "display_data"
    }
   ],
   "source": [
    "@torch.no_grad() # Decorator, same effect as \"with torch.no_grad(): ...\" over the whole function. (!)\n",
    "def visualize_classification(model, data, label, figsize=(6, 6)):\n",
    "    \n",
    "    if isinstance(data, torch.Tensor):\n",
    "        data = data.cpu().numpy()\n",
    "    \n",
    "    if isinstance(label, torch.Tensor):\n",
    "        label = label.cpu().numpy()\n",
    "    \n",
    "    data_0 = data[label == 0]\n",
    "    data_1 = data[label == 1]\n",
    "    \n",
    "    fig = plt.figure(figsize=figsize)\n",
    "    plt.scatter(data_0[:, 0], data_0[:, 1], edgecolor=\"#333\", label=\"Class 0\")\n",
    "    plt.scatter(data_1[:, 0], data_1[:, 1], edgecolor=\"#333\", label=\"Class 1\")\n",
    "    plt.title(\"Dataset samples\")\n",
    "    plt.ylabel(r\"$x_2$\")\n",
    "    plt.xlabel(r\"$x_1$\")\n",
    "    plt.legend()\n",
    "    \n",
    "    # Let's make use of a lot of operations we have learned above\n",
    "    model.to(device)\n",
    "\n",
    "    c0 = torch.Tensor(to_rgba(\"C0\")).to(device)\n",
    "    c1 = torch.Tensor(to_rgba(\"C1\")).to(device)\n",
    "    x1 = torch.arange(-0.5, 1.5, step=0.01, device=device)\n",
    "    x2 = torch.arange(-0.5, 1.5, step=0.01, device=device)\n",
    "    \n",
    "    xx1, xx2 = torch.meshgrid(x1, x2)  # Meshgrid function as in numpy\n",
    "    \n",
    "    model_inputs = torch.stack([xx1, xx2], dim=-1)\n",
    "    preds = model(model_inputs)\n",
    "    preds = torch.sigmoid(preds)\n",
    "    output_image = (1 - preds) * c0[None, None] + preds * c1[None, None]  # Specifying \"None\" in a dimension creates a new one\n",
    "    output_image = output_image.cpu().numpy()  # Convert to numpy array. This only works for tensors on CPU, hence first push to CPU\n",
    "    plt.imshow(output_image, origin='lower', extent=(-0.5, 1.5, -0.5, 1.5))\n",
    "    plt.grid(False)\n",
    "    return fig\n",
    "\n",
    "\n",
    "_ = visualize_classification(model, dataset.data, dataset.label, figsize=(7, 7))\n",
    "plt.show()"
   ]
  },
  {
   "cell_type": "markdown",
   "id": "1680e19b",
   "metadata": {
    "papermill": {
     "duration": 0.088623,
     "end_time": "2021-11-16T23:10:47.511406",
     "exception": false,
     "start_time": "2021-11-16T23:10:47.422783",
     "status": "completed"
    },
    "tags": []
   },
   "source": [
    "The decision boundaries might not look exactly as in the figure in the preamble of this section which can be caused by running it on CPU or a different GPU architecture. Nevertheless, the result on the accuracy metric should be the approximately the same. "
   ]
  },
  {
   "cell_type": "markdown",
   "id": "f1cbe8df",
   "metadata": {
    "papermill": {
     "duration": 0.090244,
     "end_time": "2021-11-16T23:10:47.690442",
     "exception": false,
     "start_time": "2021-11-16T23:10:47.600198",
     "status": "completed"
    },
    "tags": []
   },
   "source": [
    "## TensorBoard Logging\n",
    "\n",
    "TensorBoard is a logging and visualization tool that is a popular choice for training deep learning models. Although initially published for TensorFlow, TensorBoard is also integrated in PyTorch allowing us to easily use it. First, let's import it below."
   ]
  },
  {
   "cell_type": "code",
   "execution_count": 60,
   "id": "014c080a",
   "metadata": {
    "execution": {
     "iopub.execute_input": "2021-11-16T23:10:47.875572Z",
     "iopub.status.busy": "2021-11-16T23:10:47.874892Z",
     "iopub.status.idle": "2021-11-16T23:10:48.110638Z",
     "shell.execute_reply": "2021-11-16T23:10:48.110145Z",
     "shell.execute_reply.started": "2021-11-16T22:49:18.447262Z"
    },
    "papermill": {
     "duration": 0.329829,
     "end_time": "2021-11-16T23:10:48.110785",
     "exception": false,
     "start_time": "2021-11-16T23:10:47.780956",
     "status": "completed"
    },
    "tags": []
   },
   "outputs": [],
   "source": [
    "from torch.utils.tensorboard import SummaryWriter\n",
    "%load_ext tensorboard"
   ]
  },
  {
   "cell_type": "markdown",
   "id": "7925406e",
   "metadata": {
    "papermill": {
     "duration": 0.08899,
     "end_time": "2021-11-16T23:10:48.289759",
     "exception": false,
     "start_time": "2021-11-16T23:10:48.200769",
     "status": "completed"
    },
    "tags": []
   },
   "source": [
    "The last line is required if you want to run TensorBoard directly in the Jupyter Notebook. Otherwise, you can start TensorBoard from the terminal.\n",
    "\n",
    "PyTorch's TensorBoard API is simple to use. We start the logging process by creating a new object, `writer = SummaryWriter(...)`, where we specify the directory in which the logging file should be saved. With this object, we can log different aspects of our model by calling functions of the style `writer.add_...`. For example, we can visualize the computation graph with the function `writer.add_graph`, or add a scalar value like the loss with `writer.add_scalar`. Let's adapt our initial training function with adding a TensorBoard logger below."
   ]
  },
  {
   "cell_type": "code",
   "execution_count": 61,
   "id": "e4194605",
   "metadata": {
    "execution": {
     "iopub.execute_input": "2021-11-16T23:10:48.478125Z",
     "iopub.status.busy": "2021-11-16T23:10:48.475878Z",
     "iopub.status.idle": "2021-11-16T23:10:48.480521Z",
     "shell.execute_reply": "2021-11-16T23:10:48.480080Z",
     "shell.execute_reply.started": "2021-11-16T22:49:18.746233Z"
    },
    "papermill": {
     "duration": 0.102045,
     "end_time": "2021-11-16T23:10:48.480664",
     "exception": false,
     "start_time": "2021-11-16T23:10:48.378619",
     "status": "completed"
    },
    "tags": []
   },
   "outputs": [],
   "source": [
    "def train_model_with_logger(model, optimizer, data_loader, loss_module, val_dataset, num_epochs=100, logging_dir='runs/our_experiment'):\n",
    "    # Create TensorBoard logger\n",
    "    writer = SummaryWriter(logging_dir)\n",
    "    model_plotted = False\n",
    "    \n",
    "    # Set model to train mode\n",
    "    model.train() \n",
    "    \n",
    "    # Training loop\n",
    "    for epoch in tqdm(range(num_epochs)):\n",
    "        epoch_loss = 0.0\n",
    "        for data_inputs, data_labels in data_loader:\n",
    "            \n",
    "            ## Step 1: Move input data to device (only strictly necessary if we use GPU)\n",
    "            data_inputs = data_inputs.to(device)\n",
    "            data_labels = data_labels.to(device)\n",
    "            \n",
    "            # For the very first batch, we visualize the computation graph in TensorBoard\n",
    "            if not model_plotted:\n",
    "                writer.add_graph(model, data_inputs)\n",
    "                model_plotted = True\n",
    "            \n",
    "            ## Step 2: Run the model on the input data\n",
    "            preds = model(data_inputs)\n",
    "            preds = preds.squeeze(dim=1) # Output is [Batch size, 1], but we want [Batch size]\n",
    "            \n",
    "            ## Step 3: Calculate the loss\n",
    "            loss = loss_module(preds, data_labels.float())\n",
    "            \n",
    "            ## Step 4: Perform backpropagation\n",
    "            optimizer.zero_grad() \n",
    "            loss.backward()\n",
    "            \n",
    "            ## Step 5: Update the parameters\n",
    "            optimizer.step()\n",
    "            \n",
    "            ## Step 6: Take the running average of the loss\n",
    "            epoch_loss += loss.item()\n",
    "            \n",
    "        # Add average loss to TensorBoard\n",
    "        epoch_loss /= len(data_loader)\n",
    "        writer.add_scalar('training_loss',\n",
    "                          epoch_loss,\n",
    "                          global_step = epoch + 1)\n",
    "        \n",
    "        # Visualize prediction and add figure to TensorBoard\n",
    "        # Since matplotlib figures can be slow in rendering, we only do it every 10th epoch\n",
    "        if (epoch + 1) % 10 == 0:\n",
    "            fig = visualize_classification(model, val_dataset.data, val_dataset.label)\n",
    "            writer.add_figure('predictions',\n",
    "                              fig,\n",
    "                              global_step = epoch + 1)\n",
    "    \n",
    "    writer.close()"
   ]
  },
  {
   "cell_type": "markdown",
   "id": "f1b21a26",
   "metadata": {
    "papermill": {
     "duration": 0.089885,
     "end_time": "2021-11-16T23:10:48.659182",
     "exception": false,
     "start_time": "2021-11-16T23:10:48.569297",
     "status": "completed"
    },
    "tags": []
   },
   "source": [
    "Let's use this method to train a model as before, with a new model and optimizer."
   ]
  },
  {
   "cell_type": "code",
   "execution_count": 62,
   "id": "da16ee5a",
   "metadata": {
    "execution": {
     "iopub.execute_input": "2021-11-16T23:10:48.843263Z",
     "iopub.status.busy": "2021-11-16T23:10:48.842745Z",
     "iopub.status.idle": "2021-11-16T23:11:00.075896Z",
     "shell.execute_reply": "2021-11-16T23:11:00.075408Z",
     "shell.execute_reply.started": "2021-11-16T22:49:18.759456Z"
    },
    "papermill": {
     "duration": 11.327948,
     "end_time": "2021-11-16T23:11:00.076039",
     "exception": false,
     "start_time": "2021-11-16T23:10:48.748091",
     "status": "completed"
    },
    "tags": []
   },
   "outputs": [
    {
     "data": {
      "application/vnd.jupyter.widget-view+json": {
       "model_id": "ae0b97a1ef974b80a1d6bd298c49e183",
       "version_major": 2,
       "version_minor": 0
      },
      "text/plain": [
       "  0%|          | 0/100 [00:00<?, ?it/s]"
      ]
     },
     "metadata": {},
     "output_type": "display_data"
    }
   ],
   "source": [
    "model = SimpleClassifier(num_inputs=2, num_hidden=4, num_outputs=1).to(device)\n",
    "optimizer = torch.optim.SGD(model.parameters(), lr=0.1)\n",
    "train_model_with_logger(model, optimizer, train_data_loader, loss_module, val_dataset=dataset)"
   ]
  },
  {
   "cell_type": "markdown",
   "id": "0688fffe",
   "metadata": {
    "papermill": {
     "duration": 0.088896,
     "end_time": "2021-11-16T23:11:00.255919",
     "exception": false,
     "start_time": "2021-11-16T23:11:00.167023",
     "status": "completed"
    },
    "tags": []
   },
   "source": [
    "The TensorBoard file in the folder `runs/our_experiment` now contains a loss curve, the computation graph of our network, and a visualization of the learned predictions over number of epochs. To start the TensorBoard visualizer, simply run the following statement:"
   ]
  },
  {
   "cell_type": "code",
   "execution_count": null,
   "id": "e1bd8d6a",
   "metadata": {},
   "outputs": [],
   "source": [
    "%tensorboard --logdir runs/our_experiment"
   ]
  },
  {
   "cell_type": "markdown",
   "id": "b73ffbca",
   "metadata": {
    "papermill": {
     "duration": 0.090715,
     "end_time": "2021-11-16T23:11:05.682403",
     "exception": false,
     "start_time": "2021-11-16T23:11:05.591688",
     "status": "completed"
    },
    "tags": []
   },
   "source": [
    "<center><img src=https://uvadlc-notebooks.readthedocs.io/en/latest/_images/tensorboard_screenshot1.png width=\"1100px\"></center>\n",
    "\n",
    "TensorBoard visualizations can help to identify possible issues with your model, and identify situations such as overfitting. You can also track the training progress while a model is training, since the logger automatically writes everything added to it to the logging file. Feel free to explore the TensorBoard functionalities, and we will make use of TensorBoards a couple of times from Tutorial 5 on."
   ]
  },
  {
   "cell_type": "markdown",
   "id": "8c6cdbe2",
   "metadata": {
    "papermill": {
     "duration": 0.092236,
     "end_time": "2021-11-16T23:11:05.866274",
     "exception": false,
     "start_time": "2021-11-16T23:11:05.774038",
     "status": "completed"
    },
    "tags": []
   },
   "source": [
    "(ref/einstein_summation)=\n",
    "## Appendix: Einstein summation with `torch.einsum`"
   ]
  },
  {
   "cell_type": "markdown",
   "id": "44c37388",
   "metadata": {
    "papermill": {
     "duration": 0.094631,
     "end_time": "2021-11-16T23:11:06.052059",
     "exception": false,
     "start_time": "2021-11-16T23:11:05.957428",
     "status": "completed"
    },
    "tags": []
   },
   "source": [
    "<b>Rules</b>\n",
    "\n",
    "1. Repeated indices are summed over.\n",
    "2. Omitting an index means that axis will be summed.\n",
    "3. Unsummed axes can be returned in any order.\n"
   ]
  },
  {
   "cell_type": "code",
   "execution_count": 64,
   "id": "d58ee504",
   "metadata": {
    "execution": {
     "iopub.execute_input": "2021-11-16T23:11:06.264561Z",
     "iopub.status.busy": "2021-11-16T23:11:06.263595Z",
     "iopub.status.idle": "2021-11-16T23:11:06.272126Z",
     "shell.execute_reply": "2021-11-16T23:11:06.272781Z",
     "shell.execute_reply.started": "2021-11-16T22:49:30.588815Z"
    },
    "papermill": {
     "duration": 0.126243,
     "end_time": "2021-11-16T23:11:06.272990",
     "exception": false,
     "start_time": "2021-11-16T23:11:06.146747",
     "status": "completed"
    },
    "tags": []
   },
   "outputs": [
    {
     "name": "stdout",
     "output_type": "stream",
     "text": [
      "3.0\n",
      "tensor(3.)\n"
     ]
    }
   ],
   "source": [
    "# Summing all entries of a tensor from Rule 2 -- einsum also implemented in numpy!\n",
    "print(np.einsum('i ->', np.ones(3)))\n",
    "print(torch.einsum('i ->', torch.ones(3)))"
   ]
  },
  {
   "cell_type": "markdown",
   "id": "adbffade",
   "metadata": {
    "papermill": {
     "duration": 0.127873,
     "end_time": "2021-11-16T23:11:06.545954",
     "exception": false,
     "start_time": "2021-11-16T23:11:06.418081",
     "status": "completed"
    },
    "tags": []
   },
   "source": [
    "We demo for two simple matrices."
   ]
  },
  {
   "cell_type": "code",
   "execution_count": 65,
   "id": "316efc32",
   "metadata": {
    "execution": {
     "iopub.execute_input": "2021-11-16T23:11:06.764667Z",
     "iopub.status.busy": "2021-11-16T23:11:06.763827Z",
     "iopub.status.idle": "2021-11-16T23:11:06.771391Z",
     "shell.execute_reply": "2021-11-16T23:11:06.770948Z",
     "shell.execute_reply.started": "2021-11-16T22:49:30.603891Z"
    },
    "papermill": {
     "duration": 0.134834,
     "end_time": "2021-11-16T23:11:06.771504",
     "exception": false,
     "start_time": "2021-11-16T23:11:06.636670",
     "status": "completed"
    },
    "tags": []
   },
   "outputs": [],
   "source": [
    "A = torch.tensor([\n",
    "    [1, 2, 3],\n",
    "    [4, 5, 6]\n",
    "])\n",
    "\n",
    "B = torch.tensor([\n",
    "    [4],\n",
    "    [5],\n",
    "    [-1]\n",
    "])"
   ]
  },
  {
   "cell_type": "markdown",
   "id": "7f8f7b44",
   "metadata": {
    "papermill": {
     "duration": 0.089391,
     "end_time": "2021-11-16T23:11:06.952719",
     "exception": false,
     "start_time": "2021-11-16T23:11:06.863328",
     "status": "completed"
    },
    "tags": []
   },
   "source": [
    "Einstein summation allows to perform sums over products without having to do reshape gymnastics:"
   ]
  },
  {
   "cell_type": "code",
   "execution_count": 66,
   "id": "de40c987",
   "metadata": {
    "execution": {
     "iopub.execute_input": "2021-11-16T23:11:07.146916Z",
     "iopub.status.busy": "2021-11-16T23:11:07.146021Z",
     "iopub.status.idle": "2021-11-16T23:11:07.150521Z",
     "shell.execute_reply": "2021-11-16T23:11:07.151016Z",
     "shell.execute_reply.started": "2021-11-16T22:49:30.611749Z"
    },
    "papermill": {
     "duration": 0.101926,
     "end_time": "2021-11-16T23:11:07.151149",
     "exception": false,
     "start_time": "2021-11-16T23:11:07.049223",
     "status": "completed"
    },
    "tags": []
   },
   "outputs": [
    {
     "data": {
      "text/plain": [
       "tensor([[11],\n",
       "        [35]])"
      ]
     },
     "execution_count": 66,
     "metadata": {},
     "output_type": "execute_result"
    }
   ],
   "source": [
    "# Matrix-matrix multiplication\n",
    "torch.einsum('ij, jk -> ik', A, B)"
   ]
  },
  {
   "cell_type": "code",
   "execution_count": 67,
   "id": "915c2d72",
   "metadata": {
    "execution": {
     "iopub.execute_input": "2021-11-16T23:11:07.338703Z",
     "iopub.status.busy": "2021-11-16T23:11:07.337940Z",
     "iopub.status.idle": "2021-11-16T23:11:07.341359Z",
     "shell.execute_reply": "2021-11-16T23:11:07.340958Z",
     "shell.execute_reply.started": "2021-11-16T22:49:30.624014Z"
    },
    "papermill": {
     "duration": 0.098679,
     "end_time": "2021-11-16T23:11:07.341467",
     "exception": false,
     "start_time": "2021-11-16T23:11:07.242788",
     "status": "completed"
    },
    "tags": []
   },
   "outputs": [
    {
     "data": {
      "text/plain": [
       "tensor([ 6, 15])"
      ]
     },
     "execution_count": 67,
     "metadata": {},
     "output_type": "execute_result"
    }
   ],
   "source": [
    "# Matrix-vector multiplication\n",
    "v = torch.tensor([1, 1, 1])\n",
    "torch.einsum('ij, j -> i', A, v)"
   ]
  },
  {
   "cell_type": "code",
   "execution_count": 68,
   "id": "6322d8d5",
   "metadata": {
    "execution": {
     "iopub.execute_input": "2021-11-16T23:11:07.530720Z",
     "iopub.status.busy": "2021-11-16T23:11:07.529918Z",
     "iopub.status.idle": "2021-11-16T23:11:07.534384Z",
     "shell.execute_reply": "2021-11-16T23:11:07.534956Z",
     "shell.execute_reply.started": "2021-11-16T22:49:30.634802Z"
    },
    "papermill": {
     "duration": 0.101253,
     "end_time": "2021-11-16T23:11:07.535091",
     "exception": false,
     "start_time": "2021-11-16T23:11:07.433838",
     "status": "completed"
    },
    "tags": []
   },
   "outputs": [
    {
     "data": {
      "text/plain": [
       "tensor([5, 7, 9])"
      ]
     },
     "execution_count": 68,
     "metadata": {},
     "output_type": "execute_result"
    }
   ],
   "source": [
    "# Sum all rows, i.e. we are left with column index\n",
    "torch.einsum('ij -> j', A)"
   ]
  },
  {
   "cell_type": "code",
   "execution_count": 69,
   "id": "21ada04d",
   "metadata": {
    "execution": {
     "iopub.execute_input": "2021-11-16T23:11:07.722965Z",
     "iopub.status.busy": "2021-11-16T23:11:07.722121Z",
     "iopub.status.idle": "2021-11-16T23:11:07.725886Z",
     "shell.execute_reply": "2021-11-16T23:11:07.726303Z",
     "shell.execute_reply.started": "2021-11-16T22:49:30.645024Z"
    },
    "papermill": {
     "duration": 0.099359,
     "end_time": "2021-11-16T23:11:07.726430",
     "exception": false,
     "start_time": "2021-11-16T23:11:07.627071",
     "status": "completed"
    },
    "tags": []
   },
   "outputs": [
    {
     "data": {
      "text/plain": [
       "tensor([[ 1,  4,  9],\n",
       "        [16, 25, 36]])"
      ]
     },
     "execution_count": 69,
     "metadata": {},
     "output_type": "execute_result"
    }
   ],
   "source": [
    "# Hadamard product\n",
    "torch.einsum('ij, ij -> ij', A, A)"
   ]
  },
  {
   "cell_type": "code",
   "execution_count": 70,
   "id": "307eb6d6",
   "metadata": {
    "execution": {
     "iopub.execute_input": "2021-11-16T23:11:07.916893Z",
     "iopub.status.busy": "2021-11-16T23:11:07.915721Z",
     "iopub.status.idle": "2021-11-16T23:11:07.920252Z",
     "shell.execute_reply": "2021-11-16T23:11:07.919807Z",
     "shell.execute_reply.started": "2021-11-16T22:49:30.654303Z"
    },
    "papermill": {
     "duration": 0.101249,
     "end_time": "2021-11-16T23:11:07.920358",
     "exception": false,
     "start_time": "2021-11-16T23:11:07.819109",
     "status": "completed"
    },
    "tags": []
   },
   "outputs": [
    {
     "data": {
      "text/plain": [
       "tensor([[1, 1, 1],\n",
       "        [1, 1, 1],\n",
       "        [1, 1, 1]])"
      ]
     },
     "execution_count": 70,
     "metadata": {},
     "output_type": "execute_result"
    }
   ],
   "source": [
    "# Outer product\n",
    "torch.einsum('i, j -> ij', v, v)"
   ]
  },
  {
   "cell_type": "code",
   "execution_count": 71,
   "id": "d626b7bc",
   "metadata": {
    "execution": {
     "iopub.execute_input": "2021-11-16T23:11:08.114283Z",
     "iopub.status.busy": "2021-11-16T23:11:08.113433Z",
     "iopub.status.idle": "2021-11-16T23:11:08.118141Z",
     "shell.execute_reply": "2021-11-16T23:11:08.118619Z",
     "shell.execute_reply.started": "2021-11-16T22:49:30.663702Z"
    },
    "papermill": {
     "duration": 0.104462,
     "end_time": "2021-11-16T23:11:08.118757",
     "exception": false,
     "start_time": "2021-11-16T23:11:08.014295",
     "status": "completed"
    },
    "tags": []
   },
   "outputs": [
    {
     "data": {
      "text/plain": [
       "tensor([1., 1., 1.])"
      ]
     },
     "execution_count": 71,
     "metadata": {},
     "output_type": "execute_result"
    }
   ],
   "source": [
    "# Get diagonal elements of a matrix\n",
    "torch.einsum('ii -> i', torch.eye(3))"
   ]
  },
  {
   "cell_type": "code",
   "execution_count": 72,
   "id": "d91c8a10",
   "metadata": {
    "execution": {
     "iopub.execute_input": "2021-11-16T23:11:08.309129Z",
     "iopub.status.busy": "2021-11-16T23:11:08.308248Z",
     "iopub.status.idle": "2021-11-16T23:11:08.312375Z",
     "shell.execute_reply": "2021-11-16T23:11:08.311964Z",
     "shell.execute_reply.started": "2021-11-16T22:49:30.67301Z"
    },
    "papermill": {
     "duration": 0.100092,
     "end_time": "2021-11-16T23:11:08.312482",
     "exception": false,
     "start_time": "2021-11-16T23:11:08.212390",
     "status": "completed"
    },
    "tags": []
   },
   "outputs": [
    {
     "data": {
      "text/plain": [
       "tensor(3.)"
      ]
     },
     "execution_count": 72,
     "metadata": {},
     "output_type": "execute_result"
    }
   ],
   "source": [
    "# Compute trace\n",
    "torch.einsum('ii ->', torch.eye(3))"
   ]
  },
  {
   "cell_type": "code",
   "execution_count": null,
   "id": "2d2d9b16",
   "metadata": {
    "papermill": {
     "duration": 0.092299,
     "end_time": "2021-11-16T23:11:08.496473",
     "exception": false,
     "start_time": "2021-11-16T23:11:08.404174",
     "status": "completed"
    },
    "tags": []
   },
   "outputs": [],
   "source": []
  }
 ],
 "metadata": {
  "kernelspec": {
   "display_name": "Python 3",
   "language": "python",
   "name": "python3"
  },
  "language_info": {
   "codemirror_mode": {
    "name": "ipython",
    "version": 3
   },
   "file_extension": ".py",
   "mimetype": "text/x-python",
   "name": "python",
   "nbconvert_exporter": "python",
   "pygments_lexer": "ipython3",
   "version": "3.7.11"
  },
  "papermill": {
   "default_parameters": {},
   "duration": 64.874553,
   "end_time": "2021-11-16T23:11:12.104125",
   "environment_variables": {},
   "exception": null,
   "input_path": "__notebook__.ipynb",
   "output_path": "__notebook__.ipynb",
   "parameters": {},
   "start_time": "2021-11-16T23:10:07.229572",
   "version": "2.3.3"
  },
  "widgets": {
   "application/vnd.jupyter.widget-state+json": {
    "state": {
     "1a743359f9144f53bb505dadbedc9d00": {
      "model_module": "@jupyter-widgets/controls",
      "model_module_version": "1.5.0",
      "model_name": "ProgressStyleModel",
      "state": {
       "_model_module": "@jupyter-widgets/controls",
       "_model_module_version": "1.5.0",
       "_model_name": "ProgressStyleModel",
       "_view_count": null,
       "_view_module": "@jupyter-widgets/base",
       "_view_module_version": "1.2.0",
       "_view_name": "StyleView",
       "bar_color": null,
       "description_width": ""
      }
     },
     "1e7de91de1d247a4a7170d201c1cf9ea": {
      "model_module": "@jupyter-widgets/base",
      "model_module_version": "1.2.0",
      "model_name": "LayoutModel",
      "state": {
       "_model_module": "@jupyter-widgets/base",
       "_model_module_version": "1.2.0",
       "_model_name": "LayoutModel",
       "_view_count": null,
       "_view_module": "@jupyter-widgets/base",
       "_view_module_version": "1.2.0",
       "_view_name": "LayoutView",
       "align_content": null,
       "align_items": null,
       "align_self": null,
       "border": null,
       "bottom": null,
       "display": null,
       "flex": null,
       "flex_flow": null,
       "grid_area": null,
       "grid_auto_columns": null,
       "grid_auto_flow": null,
       "grid_auto_rows": null,
       "grid_column": null,
       "grid_gap": null,
       "grid_row": null,
       "grid_template_areas": null,
       "grid_template_columns": null,
       "grid_template_rows": null,
       "height": null,
       "justify_content": null,
       "justify_items": null,
       "left": null,
       "margin": null,
       "max_height": null,
       "max_width": null,
       "min_height": null,
       "min_width": null,
       "object_fit": null,
       "object_position": null,
       "order": null,
       "overflow": null,
       "overflow_x": null,
       "overflow_y": null,
       "padding": null,
       "right": null,
       "top": null,
       "visibility": null,
       "width": null
      }
     },
     "3167f0c3853c4ac682bee66a799ae691": {
      "model_module": "@jupyter-widgets/controls",
      "model_module_version": "1.5.0",
      "model_name": "DescriptionStyleModel",
      "state": {
       "_model_module": "@jupyter-widgets/controls",
       "_model_module_version": "1.5.0",
       "_model_name": "DescriptionStyleModel",
       "_view_count": null,
       "_view_module": "@jupyter-widgets/base",
       "_view_module_version": "1.2.0",
       "_view_name": "StyleView",
       "description_width": ""
      }
     },
     "31b3b83a38034222ab3a6f0d628dc18b": {
      "model_module": "@jupyter-widgets/base",
      "model_module_version": "1.2.0",
      "model_name": "LayoutModel",
      "state": {
       "_model_module": "@jupyter-widgets/base",
       "_model_module_version": "1.2.0",
       "_model_name": "LayoutModel",
       "_view_count": null,
       "_view_module": "@jupyter-widgets/base",
       "_view_module_version": "1.2.0",
       "_view_name": "LayoutView",
       "align_content": null,
       "align_items": null,
       "align_self": null,
       "border": null,
       "bottom": null,
       "display": null,
       "flex": null,
       "flex_flow": null,
       "grid_area": null,
       "grid_auto_columns": null,
       "grid_auto_flow": null,
       "grid_auto_rows": null,
       "grid_column": null,
       "grid_gap": null,
       "grid_row": null,
       "grid_template_areas": null,
       "grid_template_columns": null,
       "grid_template_rows": null,
       "height": null,
       "justify_content": null,
       "justify_items": null,
       "left": null,
       "margin": null,
       "max_height": null,
       "max_width": null,
       "min_height": null,
       "min_width": null,
       "object_fit": null,
       "object_position": null,
       "order": null,
       "overflow": null,
       "overflow_x": null,
       "overflow_y": null,
       "padding": null,
       "right": null,
       "top": null,
       "visibility": null,
       "width": null
      }
     },
     "3d8d7131fcc74886aa3406c5fa6fa650": {
      "model_module": "@jupyter-widgets/controls",
      "model_module_version": "1.5.0",
      "model_name": "FloatProgressModel",
      "state": {
       "_dom_classes": [],
       "_model_module": "@jupyter-widgets/controls",
       "_model_module_version": "1.5.0",
       "_model_name": "FloatProgressModel",
       "_view_count": null,
       "_view_module": "@jupyter-widgets/controls",
       "_view_module_version": "1.5.0",
       "_view_name": "ProgressView",
       "bar_style": "success",
       "description": "",
       "description_tooltip": null,
       "layout": "IPY_MODEL_cd52b4e451394ff7a67ac84178148e0b",
       "max": 100,
       "min": 0,
       "orientation": "horizontal",
       "style": "IPY_MODEL_1a743359f9144f53bb505dadbedc9d00",
       "value": 100
      }
     },
     "678368a338334f9bbe4c76882246791a": {
      "model_module": "@jupyter-widgets/controls",
      "model_module_version": "1.5.0",
      "model_name": "HTMLModel",
      "state": {
       "_dom_classes": [],
       "_model_module": "@jupyter-widgets/controls",
       "_model_module_version": "1.5.0",
       "_model_name": "HTMLModel",
       "_view_count": null,
       "_view_module": "@jupyter-widgets/controls",
       "_view_module_version": "1.5.0",
       "_view_name": "HTMLView",
       "description": "",
       "description_tooltip": null,
       "layout": "IPY_MODEL_ff4290619cd546e69eabbf109eb824aa",
       "placeholder": "​",
       "style": "IPY_MODEL_cfc12a79dee44d908382fd83fa07aa8d",
       "value": "100%"
      }
     },
     "6929ac009a324d5d960510a0a77f63d6": {
      "model_module": "@jupyter-widgets/controls",
      "model_module_version": "1.5.0",
      "model_name": "FloatProgressModel",
      "state": {
       "_dom_classes": [],
       "_model_module": "@jupyter-widgets/controls",
       "_model_module_version": "1.5.0",
       "_model_name": "FloatProgressModel",
       "_view_count": null,
       "_view_module": "@jupyter-widgets/controls",
       "_view_module_version": "1.5.0",
       "_view_name": "ProgressView",
       "bar_style": "success",
       "description": "",
       "description_tooltip": null,
       "layout": "IPY_MODEL_31b3b83a38034222ab3a6f0d628dc18b",
       "max": 100,
       "min": 0,
       "orientation": "horizontal",
       "style": "IPY_MODEL_f270ca7b814e4870abe162de6b6623e4",
       "value": 100
      }
     },
     "75d06edd1dbe4226bba829a60283686a": {
      "model_module": "@jupyter-widgets/controls",
      "model_module_version": "1.5.0",
      "model_name": "HBoxModel",
      "state": {
       "_dom_classes": [],
       "_model_module": "@jupyter-widgets/controls",
       "_model_module_version": "1.5.0",
       "_model_name": "HBoxModel",
       "_view_count": null,
       "_view_module": "@jupyter-widgets/controls",
       "_view_module_version": "1.5.0",
       "_view_name": "HBoxView",
       "box_style": "",
       "children": [
        "IPY_MODEL_91a8006e523b432c904daa0d599f81f1",
        "IPY_MODEL_3d8d7131fcc74886aa3406c5fa6fa650",
        "IPY_MODEL_f19903b6dba5419eaf1f3d293bd84cb2"
       ],
       "layout": "IPY_MODEL_1e7de91de1d247a4a7170d201c1cf9ea"
      }
     },
     "84af0f5758c74fd4bc78131ae002a42c": {
      "model_module": "@jupyter-widgets/base",
      "model_module_version": "1.2.0",
      "model_name": "LayoutModel",
      "state": {
       "_model_module": "@jupyter-widgets/base",
       "_model_module_version": "1.2.0",
       "_model_name": "LayoutModel",
       "_view_count": null,
       "_view_module": "@jupyter-widgets/base",
       "_view_module_version": "1.2.0",
       "_view_name": "LayoutView",
       "align_content": null,
       "align_items": null,
       "align_self": null,
       "border": null,
       "bottom": null,
       "display": null,
       "flex": null,
       "flex_flow": null,
       "grid_area": null,
       "grid_auto_columns": null,
       "grid_auto_flow": null,
       "grid_auto_rows": null,
       "grid_column": null,
       "grid_gap": null,
       "grid_row": null,
       "grid_template_areas": null,
       "grid_template_columns": null,
       "grid_template_rows": null,
       "height": null,
       "justify_content": null,
       "justify_items": null,
       "left": null,
       "margin": null,
       "max_height": null,
       "max_width": null,
       "min_height": null,
       "min_width": null,
       "object_fit": null,
       "object_position": null,
       "order": null,
       "overflow": null,
       "overflow_x": null,
       "overflow_y": null,
       "padding": null,
       "right": null,
       "top": null,
       "visibility": null,
       "width": null
      }
     },
     "91a8006e523b432c904daa0d599f81f1": {
      "model_module": "@jupyter-widgets/controls",
      "model_module_version": "1.5.0",
      "model_name": "HTMLModel",
      "state": {
       "_dom_classes": [],
       "_model_module": "@jupyter-widgets/controls",
       "_model_module_version": "1.5.0",
       "_model_name": "HTMLModel",
       "_view_count": null,
       "_view_module": "@jupyter-widgets/controls",
       "_view_module_version": "1.5.0",
       "_view_name": "HTMLView",
       "description": "",
       "description_tooltip": null,
       "layout": "IPY_MODEL_fcf2bd1327fe4418b5db5c48ecf05acc",
       "placeholder": "​",
       "style": "IPY_MODEL_c44c8d49567c4bff828468c5cf664482",
       "value": "100%"
      }
     },
     "ae0b97a1ef974b80a1d6bd298c49e183": {
      "model_module": "@jupyter-widgets/controls",
      "model_module_version": "1.5.0",
      "model_name": "HBoxModel",
      "state": {
       "_dom_classes": [],
       "_model_module": "@jupyter-widgets/controls",
       "_model_module_version": "1.5.0",
       "_model_name": "HBoxModel",
       "_view_count": null,
       "_view_module": "@jupyter-widgets/controls",
       "_view_module_version": "1.5.0",
       "_view_name": "HBoxView",
       "box_style": "",
       "children": [
        "IPY_MODEL_678368a338334f9bbe4c76882246791a",
        "IPY_MODEL_6929ac009a324d5d960510a0a77f63d6",
        "IPY_MODEL_cf1e63a53d2947adb65418d34d0f27d1"
       ],
       "layout": "IPY_MODEL_f528fe5085984c4cb37fe70304eeef82"
      }
     },
     "c44c8d49567c4bff828468c5cf664482": {
      "model_module": "@jupyter-widgets/controls",
      "model_module_version": "1.5.0",
      "model_name": "DescriptionStyleModel",
      "state": {
       "_model_module": "@jupyter-widgets/controls",
       "_model_module_version": "1.5.0",
       "_model_name": "DescriptionStyleModel",
       "_view_count": null,
       "_view_module": "@jupyter-widgets/base",
       "_view_module_version": "1.2.0",
       "_view_name": "StyleView",
       "description_width": ""
      }
     },
     "cd52b4e451394ff7a67ac84178148e0b": {
      "model_module": "@jupyter-widgets/base",
      "model_module_version": "1.2.0",
      "model_name": "LayoutModel",
      "state": {
       "_model_module": "@jupyter-widgets/base",
       "_model_module_version": "1.2.0",
       "_model_name": "LayoutModel",
       "_view_count": null,
       "_view_module": "@jupyter-widgets/base",
       "_view_module_version": "1.2.0",
       "_view_name": "LayoutView",
       "align_content": null,
       "align_items": null,
       "align_self": null,
       "border": null,
       "bottom": null,
       "display": null,
       "flex": null,
       "flex_flow": null,
       "grid_area": null,
       "grid_auto_columns": null,
       "grid_auto_flow": null,
       "grid_auto_rows": null,
       "grid_column": null,
       "grid_gap": null,
       "grid_row": null,
       "grid_template_areas": null,
       "grid_template_columns": null,
       "grid_template_rows": null,
       "height": null,
       "justify_content": null,
       "justify_items": null,
       "left": null,
       "margin": null,
       "max_height": null,
       "max_width": null,
       "min_height": null,
       "min_width": null,
       "object_fit": null,
       "object_position": null,
       "order": null,
       "overflow": null,
       "overflow_x": null,
       "overflow_y": null,
       "padding": null,
       "right": null,
       "top": null,
       "visibility": null,
       "width": null
      }
     },
     "cf1e63a53d2947adb65418d34d0f27d1": {
      "model_module": "@jupyter-widgets/controls",
      "model_module_version": "1.5.0",
      "model_name": "HTMLModel",
      "state": {
       "_dom_classes": [],
       "_model_module": "@jupyter-widgets/controls",
       "_model_module_version": "1.5.0",
       "_model_name": "HTMLModel",
       "_view_count": null,
       "_view_module": "@jupyter-widgets/controls",
       "_view_module_version": "1.5.0",
       "_view_name": "HTMLView",
       "description": "",
       "description_tooltip": null,
       "layout": "IPY_MODEL_eac9c1ab61c545e3b3e32e84374108ec",
       "placeholder": "​",
       "style": "IPY_MODEL_d1a26d5ca430449c95835812ef21f7d9",
       "value": " 100/100 [00:07&lt;00:00, 16.24it/s]"
      }
     },
     "cfc12a79dee44d908382fd83fa07aa8d": {
      "model_module": "@jupyter-widgets/controls",
      "model_module_version": "1.5.0",
      "model_name": "DescriptionStyleModel",
      "state": {
       "_model_module": "@jupyter-widgets/controls",
       "_model_module_version": "1.5.0",
       "_model_name": "DescriptionStyleModel",
       "_view_count": null,
       "_view_module": "@jupyter-widgets/base",
       "_view_module_version": "1.2.0",
       "_view_name": "StyleView",
       "description_width": ""
      }
     },
     "d1a26d5ca430449c95835812ef21f7d9": {
      "model_module": "@jupyter-widgets/controls",
      "model_module_version": "1.5.0",
      "model_name": "DescriptionStyleModel",
      "state": {
       "_model_module": "@jupyter-widgets/controls",
       "_model_module_version": "1.5.0",
       "_model_name": "DescriptionStyleModel",
       "_view_count": null,
       "_view_module": "@jupyter-widgets/base",
       "_view_module_version": "1.2.0",
       "_view_name": "StyleView",
       "description_width": ""
      }
     },
     "eac9c1ab61c545e3b3e32e84374108ec": {
      "model_module": "@jupyter-widgets/base",
      "model_module_version": "1.2.0",
      "model_name": "LayoutModel",
      "state": {
       "_model_module": "@jupyter-widgets/base",
       "_model_module_version": "1.2.0",
       "_model_name": "LayoutModel",
       "_view_count": null,
       "_view_module": "@jupyter-widgets/base",
       "_view_module_version": "1.2.0",
       "_view_name": "LayoutView",
       "align_content": null,
       "align_items": null,
       "align_self": null,
       "border": null,
       "bottom": null,
       "display": null,
       "flex": null,
       "flex_flow": null,
       "grid_area": null,
       "grid_auto_columns": null,
       "grid_auto_flow": null,
       "grid_auto_rows": null,
       "grid_column": null,
       "grid_gap": null,
       "grid_row": null,
       "grid_template_areas": null,
       "grid_template_columns": null,
       "grid_template_rows": null,
       "height": null,
       "justify_content": null,
       "justify_items": null,
       "left": null,
       "margin": null,
       "max_height": null,
       "max_width": null,
       "min_height": null,
       "min_width": null,
       "object_fit": null,
       "object_position": null,
       "order": null,
       "overflow": null,
       "overflow_x": null,
       "overflow_y": null,
       "padding": null,
       "right": null,
       "top": null,
       "visibility": null,
       "width": null
      }
     },
     "f19903b6dba5419eaf1f3d293bd84cb2": {
      "model_module": "@jupyter-widgets/controls",
      "model_module_version": "1.5.0",
      "model_name": "HTMLModel",
      "state": {
       "_dom_classes": [],
       "_model_module": "@jupyter-widgets/controls",
       "_model_module_version": "1.5.0",
       "_model_name": "HTMLModel",
       "_view_count": null,
       "_view_module": "@jupyter-widgets/controls",
       "_view_module_version": "1.5.0",
       "_view_name": "HTMLView",
       "description": "",
       "description_tooltip": null,
       "layout": "IPY_MODEL_84af0f5758c74fd4bc78131ae002a42c",
       "placeholder": "​",
       "style": "IPY_MODEL_3167f0c3853c4ac682bee66a799ae691",
       "value": " 100/100 [00:03&lt;00:00, 31.39it/s]"
      }
     },
     "f270ca7b814e4870abe162de6b6623e4": {
      "model_module": "@jupyter-widgets/controls",
      "model_module_version": "1.5.0",
      "model_name": "ProgressStyleModel",
      "state": {
       "_model_module": "@jupyter-widgets/controls",
       "_model_module_version": "1.5.0",
       "_model_name": "ProgressStyleModel",
       "_view_count": null,
       "_view_module": "@jupyter-widgets/base",
       "_view_module_version": "1.2.0",
       "_view_name": "StyleView",
       "bar_color": null,
       "description_width": ""
      }
     },
     "f528fe5085984c4cb37fe70304eeef82": {
      "model_module": "@jupyter-widgets/base",
      "model_module_version": "1.2.0",
      "model_name": "LayoutModel",
      "state": {
       "_model_module": "@jupyter-widgets/base",
       "_model_module_version": "1.2.0",
       "_model_name": "LayoutModel",
       "_view_count": null,
       "_view_module": "@jupyter-widgets/base",
       "_view_module_version": "1.2.0",
       "_view_name": "LayoutView",
       "align_content": null,
       "align_items": null,
       "align_self": null,
       "border": null,
       "bottom": null,
       "display": null,
       "flex": null,
       "flex_flow": null,
       "grid_area": null,
       "grid_auto_columns": null,
       "grid_auto_flow": null,
       "grid_auto_rows": null,
       "grid_column": null,
       "grid_gap": null,
       "grid_row": null,
       "grid_template_areas": null,
       "grid_template_columns": null,
       "grid_template_rows": null,
       "height": null,
       "justify_content": null,
       "justify_items": null,
       "left": null,
       "margin": null,
       "max_height": null,
       "max_width": null,
       "min_height": null,
       "min_width": null,
       "object_fit": null,
       "object_position": null,
       "order": null,
       "overflow": null,
       "overflow_x": null,
       "overflow_y": null,
       "padding": null,
       "right": null,
       "top": null,
       "visibility": null,
       "width": null
      }
     },
     "fcf2bd1327fe4418b5db5c48ecf05acc": {
      "model_module": "@jupyter-widgets/base",
      "model_module_version": "1.2.0",
      "model_name": "LayoutModel",
      "state": {
       "_model_module": "@jupyter-widgets/base",
       "_model_module_version": "1.2.0",
       "_model_name": "LayoutModel",
       "_view_count": null,
       "_view_module": "@jupyter-widgets/base",
       "_view_module_version": "1.2.0",
       "_view_name": "LayoutView",
       "align_content": null,
       "align_items": null,
       "align_self": null,
       "border": null,
       "bottom": null,
       "display": null,
       "flex": null,
       "flex_flow": null,
       "grid_area": null,
       "grid_auto_columns": null,
       "grid_auto_flow": null,
       "grid_auto_rows": null,
       "grid_column": null,
       "grid_gap": null,
       "grid_row": null,
       "grid_template_areas": null,
       "grid_template_columns": null,
       "grid_template_rows": null,
       "height": null,
       "justify_content": null,
       "justify_items": null,
       "left": null,
       "margin": null,
       "max_height": null,
       "max_width": null,
       "min_height": null,
       "min_width": null,
       "object_fit": null,
       "object_position": null,
       "order": null,
       "overflow": null,
       "overflow_x": null,
       "overflow_y": null,
       "padding": null,
       "right": null,
       "top": null,
       "visibility": null,
       "width": null
      }
     },
     "ff4290619cd546e69eabbf109eb824aa": {
      "model_module": "@jupyter-widgets/base",
      "model_module_version": "1.2.0",
      "model_name": "LayoutModel",
      "state": {
       "_model_module": "@jupyter-widgets/base",
       "_model_module_version": "1.2.0",
       "_model_name": "LayoutModel",
       "_view_count": null,
       "_view_module": "@jupyter-widgets/base",
       "_view_module_version": "1.2.0",
       "_view_name": "LayoutView",
       "align_content": null,
       "align_items": null,
       "align_self": null,
       "border": null,
       "bottom": null,
       "display": null,
       "flex": null,
       "flex_flow": null,
       "grid_area": null,
       "grid_auto_columns": null,
       "grid_auto_flow": null,
       "grid_auto_rows": null,
       "grid_column": null,
       "grid_gap": null,
       "grid_row": null,
       "grid_template_areas": null,
       "grid_template_columns": null,
       "grid_template_rows": null,
       "height": null,
       "justify_content": null,
       "justify_items": null,
       "left": null,
       "margin": null,
       "max_height": null,
       "max_width": null,
       "min_height": null,
       "min_width": null,
       "object_fit": null,
       "object_position": null,
       "order": null,
       "overflow": null,
       "overflow_x": null,
       "overflow_y": null,
       "padding": null,
       "right": null,
       "top": null,
       "visibility": null,
       "width": null
      }
     }
    },
    "version_major": 2,
    "version_minor": 0
   }
  }
 },
 "nbformat": 4,
 "nbformat_minor": 5
}
