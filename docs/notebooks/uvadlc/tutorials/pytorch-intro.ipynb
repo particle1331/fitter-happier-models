{
 "cells": [
  {
   "cell_type": "markdown",
   "id": "2c761b2a",
   "metadata": {
    "papermill": {
     "duration": 0.092755,
     "end_time": "2021-11-16T12:39:41.682934",
     "exception": false,
     "start_time": "2021-11-16T12:39:41.590179",
     "status": "completed"
    },
    "tags": []
   },
   "source": [
    "# Tutorial 2: Introduction to PyTorch\n"
   ]
  },
  {
   "cell_type": "markdown",
   "id": "793eab8a",
   "metadata": {},
   "source": [
    "```{admonition} Attribution\n",
    "This is heavily based on [Tutorial 2](https://uvadlc-notebooks.readthedocs.io/en/latest/tutorial_notebooks/tutorial2/Introduction_to_PyTorch.html) of the [Deep Learning Course 2020 at the University of Amsterdam](https://uvadlc.github.io/lectures-nov2020.html#) authored by [@phlippe](https://github.com/phlippe).\n",
    "```"
   ]
  },
  {
   "cell_type": "markdown",
   "id": "6a9ed65c",
   "metadata": {
    "papermill": {
     "duration": 0.086326,
     "end_time": "2021-11-16T12:39:41.852848",
     "exception": false,
     "start_time": "2021-11-16T12:39:41.766522",
     "status": "completed"
    },
    "tags": []
   },
   "source": [
    "The following notebook is meant to give a short introduction to PyTorch basics, and get you setup for writing your own neural networks. **PyTorch** is an open source machine learning framework that allows you to write your own neural networks and optimize them efficiently. However, PyTorch is not the only framework of its kind. Alternatives to PyTorch include TensorFlow, JAX and MXNet. We choose PyTorch because it is well established, has a huge developer community (originally developed by Facebook), is very flexible and especially used in research. Many current papers publish their code in PyTorch, and thus it is good to be familiar with PyTorch as well. \n",
    "\n",
    "Meanwhile, **TensorFlow** (developed by Google) is usually known for being a production-grade deep learning library. Still, if you know one machine learning framework in depth, it is very easy to learn another one because many of them use the same concepts and ideas. For instance, TensorFlow’s version 2 was heavily inspired by the most popular features of PyTorch, making the frameworks even more similar. If you are already familiar with PyTorch and have created your own neural network projects, feel free to just skim this notebook."
   ]
  },
  {
   "cell_type": "code",
   "execution_count": 3,
   "id": "d9bb6ceb",
   "metadata": {
    "execution": {
     "iopub.execute_input": "2021-11-16T12:39:42.079314Z",
     "iopub.status.busy": "2021-11-16T12:39:42.071055Z",
     "iopub.status.idle": "2021-11-16T12:39:43.021034Z",
     "shell.execute_reply": "2021-11-16T12:39:43.022051Z",
     "shell.execute_reply.started": "2021-11-16T12:24:50.036682Z"
    },
    "papermill": {
     "duration": 1.046579,
     "end_time": "2021-11-16T12:39:43.022484",
     "exception": false,
     "start_time": "2021-11-16T12:39:41.975905",
     "status": "completed"
    },
    "tags": []
   },
   "outputs": [],
   "source": [
    "import os\n",
    "import math\n",
    "import numpy as np \n",
    "import time\n",
    "\n",
    "import matplotlib.pyplot as plt\n",
    "from matplotlib.colors import to_rgba\n",
    "\n",
    "from tqdm.notebook import tqdm"
   ]
  },
  {
   "cell_type": "markdown",
   "id": "0616ecda",
   "metadata": {
    "papermill": {
     "duration": 0.106299,
     "end_time": "2021-11-16T12:39:43.276424",
     "exception": false,
     "start_time": "2021-11-16T12:39:43.170125",
     "status": "completed"
    },
    "tags": []
   },
   "source": [
    "## Basics of PyTorch\n",
    "\n",
    "We will start with reviewing the very basic concepts of PyTorch. As a prerequisite, we recommend to be familiar with the `numpy` package as most machine learning frameworks are based on very similar concepts. As a first step, let us check the version of the installed PyTorch library `torch`: "
   ]
  },
  {
   "cell_type": "code",
   "execution_count": 7,
   "id": "c35fb6c0",
   "metadata": {
    "execution": {
     "iopub.execute_input": "2021-11-16T12:39:43.455401Z",
     "iopub.status.busy": "2021-11-16T12:39:43.454573Z",
     "iopub.status.idle": "2021-11-16T12:39:44.899080Z",
     "shell.execute_reply": "2021-11-16T12:39:44.900040Z",
     "shell.execute_reply.started": "2021-11-16T12:10:19.827395Z"
    },
    "papermill": {
     "duration": 1.537954,
     "end_time": "2021-11-16T12:39:44.900331",
     "exception": false,
     "start_time": "2021-11-16T12:39:43.362377",
     "status": "completed"
    },
    "tags": []
   },
   "outputs": [
    {
     "name": "stdout",
     "output_type": "stream",
     "text": [
      "Using torch 1.10.0\n"
     ]
    }
   ],
   "source": [
    "import torch\n",
    "print(\"Using torch\", torch.__version__)"
   ]
  },
  {
   "cell_type": "markdown",
   "id": "b05a098c",
   "metadata": {
    "papermill": {
     "duration": 0.086728,
     "end_time": "2021-11-16T12:39:45.074292",
     "exception": false,
     "start_time": "2021-11-16T12:39:44.987564",
     "status": "completed"
    },
    "tags": []
   },
   "source": [
    "As in every machine learning framework, PyTorch provides functions that are stochastic like generating random numbers. However, a very good practice is to setup your code to be reproducible with the exact same random numbers. This is why we set a seed below. "
   ]
  },
  {
   "cell_type": "code",
   "execution_count": 8,
   "id": "35d614c1",
   "metadata": {
    "execution": {
     "iopub.execute_input": "2021-11-16T12:39:45.257172Z",
     "iopub.status.busy": "2021-11-16T12:39:45.256190Z",
     "iopub.status.idle": "2021-11-16T12:39:45.266721Z",
     "shell.execute_reply": "2021-11-16T12:39:45.266023Z",
     "shell.execute_reply.started": "2021-11-16T12:10:21.303153Z"
    },
    "papermill": {
     "duration": 0.103955,
     "end_time": "2021-11-16T12:39:45.266865",
     "exception": false,
     "start_time": "2021-11-16T12:39:45.162910",
     "status": "completed"
    },
    "tags": []
   },
   "outputs": [
    {
     "data": {
      "text/plain": [
       "<torch._C.Generator at 0x132393350>"
      ]
     },
     "execution_count": 8,
     "metadata": {},
     "output_type": "execute_result"
    }
   ],
   "source": [
    "torch.manual_seed(42) # Setting the seed"
   ]
  },
  {
   "cell_type": "markdown",
   "id": "cadc88ae",
   "metadata": {
    "papermill": {
     "duration": 0.088062,
     "end_time": "2021-11-16T12:39:45.445752",
     "exception": false,
     "start_time": "2021-11-16T12:39:45.357690",
     "status": "completed"
    },
    "tags": []
   },
   "source": [
    "### Tensors\n",
    "\n",
    "Tensors are the PyTorch equivalent to Numpy arrays, with the addition to also have support for GPU acceleration (more on that later).\n",
    "The name \"tensor\" is a generalization of concepts you already know. For instance, a vector is a 1-D tensor, and a matrix a 2-D tensor. When working with neural networks, we will use tensors of various shapes and number of dimensions.\n",
    "\n",
    "Most common functions you know from Numpy can be used on tensors as well. Actually, since Numpy arrays are so similar to tensors, we can convert most tensors to Numpy arrays (and back) but we don't need it too often.\n",
    "\n",
    "#### Initialization\n",
    "\n",
    "Let's first start by looking at different ways of creating a tensor. There are many possible options, the most simple one is to call `torch.Tensor` passing the desired shape as input argument:"
   ]
  },
  {
   "cell_type": "code",
   "execution_count": 4,
   "id": "cc4c4b6f",
   "metadata": {
    "execution": {
     "iopub.execute_input": "2021-11-16T12:39:45.623959Z",
     "iopub.status.busy": "2021-11-16T12:39:45.623255Z",
     "iopub.status.idle": "2021-11-16T12:39:45.706093Z",
     "shell.execute_reply": "2021-11-16T12:39:45.705541Z",
     "shell.execute_reply.started": "2021-11-16T12:10:21.315701Z"
    },
    "papermill": {
     "duration": 0.174387,
     "end_time": "2021-11-16T12:39:45.706370",
     "exception": false,
     "start_time": "2021-11-16T12:39:45.531983",
     "status": "completed"
    },
    "tags": []
   },
   "outputs": [
    {
     "name": "stdout",
     "output_type": "stream",
     "text": [
      "tensor([[[-1.9832e-07,  4.5626e-41, -1.9856e-07,  4.5626e-41],\n",
      "         [ 8.1933e+06, -4.5560e+22, -1.9832e-07,  4.5626e-41],\n",
      "         [-1.9856e-07,  4.5626e-41, -1.4852e+38,  1.1877e+31]],\n",
      "\n",
      "        [[-1.9832e-07,  4.5626e-41, -1.9856e-07,  4.5626e-41],\n",
      "         [ 2.8216e-15,  9.2727e-39, -1.9832e-07,  4.5626e-41],\n",
      "         [-1.9856e-07,  4.5626e-41,  5.2060e-22, -1.1161e+17]]])\n"
     ]
    }
   ],
   "source": [
    "x = torch.Tensor(2, 3, 4)\n",
    "print(x)"
   ]
  },
  {
   "cell_type": "markdown",
   "id": "88136b72",
   "metadata": {
    "papermill": {
     "duration": 0.085546,
     "end_time": "2021-11-16T12:39:45.876751",
     "exception": false,
     "start_time": "2021-11-16T12:39:45.791205",
     "status": "completed"
    },
    "tags": []
   },
   "source": [
    "The function `torch.Tensor` allocates memory for the desired tensor, but reuses any values that have already been in the memory. To directly assign values to the tensor during initialization, there are many alternatives including:\n",
    "\n",
    "|    |     |\n",
    "| :--- | :--- |\n",
    "| `torch.zeros(a, b)`   | Creates a tensor of shape `(a, b)` filled with zeros.   |\n",
    "| `torch.ones(a, b)` | Creates a tensor of shape `(a, b)` filled with ones. |\n",
    "| `torch.rand(a, b)` | Creates a tensor of shape `(a, b)` with random values uniformly sampled between $0$ and $1$.\n",
    "| `torch.randn(a, b)` | Creates a tensor of shape `(a, b)` with random values sampled from a normal distribution with mean $0$ and variance $1$. |\n",
    "| `torch.arange(m, n)` | Creates a tensor containing the values $m, m+1, , \\ldots, n-1$. |\n",
    "| `torch.Tensor(z)`  | Creates a tensor from a (nested) list `z`. |"
   ]
  },
  {
   "cell_type": "code",
   "execution_count": 31,
   "id": "20c5bbb1",
   "metadata": {
    "execution": {
     "iopub.execute_input": "2021-11-16T12:39:46.055435Z",
     "iopub.status.busy": "2021-11-16T12:39:46.054328Z",
     "iopub.status.idle": "2021-11-16T12:39:46.060090Z",
     "shell.execute_reply": "2021-11-16T12:39:46.060941Z",
     "shell.execute_reply.started": "2021-11-16T12:10:21.382042Z"
    },
    "papermill": {
     "duration": 0.098925,
     "end_time": "2021-11-16T12:39:46.061178",
     "exception": false,
     "start_time": "2021-11-16T12:39:45.962253",
     "status": "completed"
    },
    "tags": []
   },
   "outputs": [
    {
     "name": "stdout",
     "output_type": "stream",
     "text": [
      "tensor([[1., 2.],\n",
      "        [3., 4.]])\n"
     ]
    }
   ],
   "source": [
    "# Create a tensor from a (nested) list\n",
    "x = torch.Tensor([[1, 2], [3, 4]])\n",
    "print(x)"
   ]
  },
  {
   "cell_type": "code",
   "execution_count": 32,
   "id": "50ebee5c",
   "metadata": {
    "execution": {
     "iopub.execute_input": "2021-11-16T12:39:46.241009Z",
     "iopub.status.busy": "2021-11-16T12:39:46.240370Z",
     "iopub.status.idle": "2021-11-16T12:39:46.253817Z",
     "shell.execute_reply": "2021-11-16T12:39:46.254458Z",
     "shell.execute_reply.started": "2021-11-16T12:10:21.389896Z"
    },
    "papermill": {
     "duration": 0.105763,
     "end_time": "2021-11-16T12:39:46.254607",
     "exception": false,
     "start_time": "2021-11-16T12:39:46.148844",
     "status": "completed"
    },
    "tags": []
   },
   "outputs": [
    {
     "name": "stdout",
     "output_type": "stream",
     "text": [
      "tensor([[[0.1053, 0.2695, 0.3588, 0.1994],\n",
      "         [0.5472, 0.0062, 0.9516, 0.0753],\n",
      "         [0.8860, 0.5832, 0.3376, 0.8090]],\n",
      "\n",
      "        [[0.5779, 0.9040, 0.5547, 0.3423],\n",
      "         [0.6343, 0.3644, 0.7104, 0.9464],\n",
      "         [0.7890, 0.2814, 0.7886, 0.5895]]])\n"
     ]
    }
   ],
   "source": [
    "# Create a tensor with random values between 0 and 1 with the shape [2, 3, 4]\n",
    "x = torch.rand(2, 3, 4)\n",
    "print(x)"
   ]
  },
  {
   "cell_type": "markdown",
   "id": "2237d813",
   "metadata": {
    "papermill": {
     "duration": 0.087318,
     "end_time": "2021-11-16T12:39:46.429332",
     "exception": false,
     "start_time": "2021-11-16T12:39:46.342014",
     "status": "completed"
    },
    "tags": []
   },
   "source": [
    "You can obtain the shape of a tensor in the same way as in numpy (`x.shape`), or using the `.size` method:"
   ]
  },
  {
   "cell_type": "code",
   "execution_count": 7,
   "id": "151bfbb5",
   "metadata": {
    "execution": {
     "iopub.execute_input": "2021-11-16T12:39:46.611447Z",
     "iopub.status.busy": "2021-11-16T12:39:46.609859Z",
     "iopub.status.idle": "2021-11-16T12:39:46.615454Z",
     "shell.execute_reply": "2021-11-16T12:39:46.614876Z",
     "shell.execute_reply.started": "2021-11-16T12:10:21.406490Z"
    },
    "papermill": {
     "duration": 0.097127,
     "end_time": "2021-11-16T12:39:46.615585",
     "exception": false,
     "start_time": "2021-11-16T12:39:46.518458",
     "status": "completed"
    },
    "tags": []
   },
   "outputs": [
    {
     "name": "stdout",
     "output_type": "stream",
     "text": [
      "Shape: torch.Size([2, 3, 4])\n",
      "Size: torch.Size([2, 3, 4])\n",
      "Size: 2 3 4\n"
     ]
    }
   ],
   "source": [
    "shape = x.shape\n",
    "print(\"Shape:\", x.shape)\n",
    "\n",
    "size = x.size()\n",
    "print(\"Size:\", size)\n",
    "\n",
    "dim1, dim2, dim3 = x.size()\n",
    "print(\"Size:\", dim1, dim2, dim3)"
   ]
  },
  {
   "cell_type": "markdown",
   "id": "556b22b4",
   "metadata": {
    "papermill": {
     "duration": 0.088161,
     "end_time": "2021-11-16T12:39:46.791336",
     "exception": false,
     "start_time": "2021-11-16T12:39:46.703175",
     "status": "completed"
    },
    "tags": []
   },
   "source": [
    "#### Tensor $\\leftrightarrow$ Numpy\n",
    "\n",
    "Tensors can be converted to numpy arrays, and numpy arrays back to tensors. To transform a numpy array into a tensor, we can use the function `torch.from_numpy`:"
   ]
  },
  {
   "cell_type": "code",
   "execution_count": 8,
   "id": "86370c15",
   "metadata": {
    "execution": {
     "iopub.execute_input": "2021-11-16T12:39:46.971971Z",
     "iopub.status.busy": "2021-11-16T12:39:46.970841Z",
     "iopub.status.idle": "2021-11-16T12:39:46.976838Z",
     "shell.execute_reply": "2021-11-16T12:39:46.976306Z",
     "shell.execute_reply.started": "2021-11-16T12:10:21.416261Z"
    },
    "papermill": {
     "duration": 0.097887,
     "end_time": "2021-11-16T12:39:46.977011",
     "exception": false,
     "start_time": "2021-11-16T12:39:46.879124",
     "status": "completed"
    },
    "tags": []
   },
   "outputs": [
    {
     "name": "stdout",
     "output_type": "stream",
     "text": [
      "Numpy array:\n",
      "[[1 2]\n",
      " [3 4]]\n",
      "\n",
      "PyTorch tensor:\n",
      "tensor([[1, 2],\n",
      "        [3, 4]])\n"
     ]
    }
   ],
   "source": [
    "np_arr = np.array([[1, 2], [3, 4]])\n",
    "tensor = torch.from_numpy(np_arr)\n",
    "\n",
    "print(\"Numpy array:\") \n",
    "print(np_arr)\n",
    "print(\"\\nPyTorch tensor:\") \n",
    "print(tensor)"
   ]
  },
  {
   "cell_type": "markdown",
   "id": "4f445ba3",
   "metadata": {
    "papermill": {
     "duration": 0.087343,
     "end_time": "2021-11-16T12:39:47.152686",
     "exception": false,
     "start_time": "2021-11-16T12:39:47.065343",
     "status": "completed"
    },
    "tags": []
   },
   "source": [
    "To transform a PyTorch tensor back to a numpy array, we can use the function `.numpy()` on tensors:"
   ]
  },
  {
   "cell_type": "code",
   "execution_count": 9,
   "id": "33efd52e",
   "metadata": {
    "execution": {
     "iopub.execute_input": "2021-11-16T12:39:47.331571Z",
     "iopub.status.busy": "2021-11-16T12:39:47.330704Z",
     "iopub.status.idle": "2021-11-16T12:39:47.339892Z",
     "shell.execute_reply": "2021-11-16T12:39:47.340410Z",
     "shell.execute_reply.started": "2021-11-16T12:10:21.427946Z"
    },
    "papermill": {
     "duration": 0.100873,
     "end_time": "2021-11-16T12:39:47.340557",
     "exception": false,
     "start_time": "2021-11-16T12:39:47.239684",
     "status": "completed"
    },
    "tags": []
   },
   "outputs": [
    {
     "name": "stdout",
     "output_type": "stream",
     "text": [
      "PyTorch tensor: tensor([0, 1, 2, 3])\n",
      "Numpy array: [0 1 2 3]\n"
     ]
    }
   ],
   "source": [
    "tensor = torch.arange(4)\n",
    "np_arr = tensor.numpy()\n",
    "\n",
    "print(\"PyTorch tensor:\", tensor)\n",
    "print(\"Numpy array:\", np_arr)"
   ]
  },
  {
   "cell_type": "markdown",
   "id": "adf3cf6e",
   "metadata": {
    "papermill": {
     "duration": 0.08943,
     "end_time": "2021-11-16T12:39:47.521013",
     "exception": false,
     "start_time": "2021-11-16T12:39:47.431583",
     "status": "completed"
    },
    "tags": []
   },
   "source": [
    "The conversion of tensors to numpy require the tensor to be on the CPU, and not the GPU (more on GPU support in a later section). In case you have a tensor on GPU, you need to call `.cpu()` on the tensor beforehand. Hence, you get a line like `np_arr = tensor.cpu().numpy()`."
   ]
  },
  {
   "cell_type": "markdown",
   "id": "28d170de",
   "metadata": {
    "papermill": {
     "duration": 0.088021,
     "end_time": "2021-11-16T12:39:47.696629",
     "exception": false,
     "start_time": "2021-11-16T12:39:47.608608",
     "status": "completed"
    },
    "tags": []
   },
   "source": [
    "#### Operations\n",
    "\n",
    "Most operations that exist in numpy, also exist in PyTorch. A full list of operations can be found in the [PyTorch documentation](https://pytorch.org/docs/stable/tensors.html#), but we will review the most important ones here.\n",
    "\n",
    "The simplest operation is to add two tensors:"
   ]
  },
  {
   "cell_type": "code",
   "execution_count": 9,
   "id": "60c19dac",
   "metadata": {
    "execution": {
     "iopub.execute_input": "2021-11-16T12:39:47.875606Z",
     "iopub.status.busy": "2021-11-16T12:39:47.874763Z",
     "iopub.status.idle": "2021-11-16T12:39:47.884484Z",
     "shell.execute_reply": "2021-11-16T12:39:47.885262Z",
     "shell.execute_reply.started": "2021-11-16T12:10:21.441608Z"
    },
    "papermill": {
     "duration": 0.103452,
     "end_time": "2021-11-16T12:39:47.885505",
     "exception": false,
     "start_time": "2021-11-16T12:39:47.782053",
     "status": "completed"
    },
    "tags": []
   },
   "outputs": [
    {
     "name": "stdout",
     "output_type": "stream",
     "text": [
      "x1 =\n",
      "tensor([[0.8823, 0.9150, 0.3829],\n",
      "        [0.9593, 0.3904, 0.6009]])\n",
      "x2 =\n",
      "tensor([[0.2566, 0.7936, 0.9408],\n",
      "        [0.1332, 0.9346, 0.5936]])\n",
      "\n",
      "y =\n",
      "tensor([[1.1388, 1.7086, 1.3236],\n",
      "        [1.0925, 1.3250, 1.1945]])\n"
     ]
    }
   ],
   "source": [
    "x1 = torch.rand(2, 3)\n",
    "x2 = torch.rand(2, 3)\n",
    "y = x1 + x2\n",
    "\n",
    "print(\"x1 =\")\n",
    "print(x1)\n",
    "print(\"x2 =\") \n",
    "print(x2)\n",
    "\n",
    "print()\n",
    "print(\"y =\") \n",
    "print(y)"
   ]
  },
  {
   "cell_type": "markdown",
   "id": "17e02ae4",
   "metadata": {
    "papermill": {
     "duration": 0.089405,
     "end_time": "2021-11-16T12:39:48.064968",
     "exception": false,
     "start_time": "2021-11-16T12:39:47.975563",
     "status": "completed"
    },
    "tags": []
   },
   "source": [
    "Calling `x1 + x2` creates a new tensor containing the sum of the two inputs. However, we can also use in-place operations that are applied directly on the memory of a tensor. We therefore change the values of `x2` without the chance to re-accessing the values of `x2` before the operation. An example is shown below:"
   ]
  },
  {
   "cell_type": "code",
   "execution_count": 35,
   "id": "1bd91bcb",
   "metadata": {
    "execution": {
     "iopub.execute_input": "2021-11-16T12:39:48.245890Z",
     "iopub.status.busy": "2021-11-16T12:39:48.244921Z",
     "iopub.status.idle": "2021-11-16T12:39:48.257117Z",
     "shell.execute_reply": "2021-11-16T12:39:48.256611Z",
     "shell.execute_reply.started": "2021-11-16T12:10:21.454499Z"
    },
    "papermill": {
     "duration": 0.104903,
     "end_time": "2021-11-16T12:39:48.257314",
     "exception": false,
     "start_time": "2021-11-16T12:39:48.152411",
     "status": "completed"
    },
    "tags": []
   },
   "outputs": [
    {
     "name": "stdout",
     "output_type": "stream",
     "text": [
      "x1 (before):\n",
      "tensor([[0.5315, 0.1587, 0.6542],\n",
      "        [0.3278, 0.6532, 0.3958]])\n",
      "\n",
      "x2 (before):\n",
      "tensor([[0.9147, 0.2036, 0.2018],\n",
      "        [0.2018, 0.9497, 0.6666]])\n",
      "\n",
      "---\n",
      "\n",
      "x1 (after):\n",
      "tensor([[0.5315, 0.1587, 0.6542],\n",
      "        [0.3278, 0.6532, 0.3958]])\n",
      "\n",
      "x2 (after):\n",
      "tensor([[1.4462, 0.3624, 0.8560],\n",
      "        [0.5296, 1.6029, 1.0625]])\n"
     ]
    }
   ],
   "source": [
    "x1 = torch.rand(2, 3)\n",
    "x2 = torch.rand(2, 3)\n",
    "\n",
    "print(\"x1 (before):\") \n",
    "print(x1)\n",
    "print(\"\\nx2 (before):\") \n",
    "print(x2)\n",
    "print('\\n---')\n",
    "\n",
    "x2.add_(x1)\n",
    "\n",
    "print(\"\\nx1 (after):\") \n",
    "print(x1)\n",
    "print(\"\\nx2 (after):\") \n",
    "print(x2)"
   ]
  },
  {
   "cell_type": "markdown",
   "id": "c751d479",
   "metadata": {
    "papermill": {
     "duration": 0.089378,
     "end_time": "2021-11-16T12:39:48.436000",
     "exception": false,
     "start_time": "2021-11-16T12:39:48.346622",
     "status": "completed"
    },
    "tags": []
   },
   "source": [
    "In-place operations are usually marked with a underscore postfix (e.g. `add_` instead of `add`).\n",
    "\n",
    "Another common operation aims at changing the shape of a tensor. A tensor of size (2,3) can be re-organized to any other shape with the same number of elements (e.g. a tensor of size (6), or (3,2), ...). In PyTorch, this operation is called `view`:"
   ]
  },
  {
   "cell_type": "code",
   "execution_count": 36,
   "id": "0fbd7cab",
   "metadata": {
    "execution": {
     "iopub.execute_input": "2021-11-16T12:39:48.617819Z",
     "iopub.status.busy": "2021-11-16T12:39:48.616778Z",
     "iopub.status.idle": "2021-11-16T12:39:48.621517Z",
     "shell.execute_reply": "2021-11-16T12:39:48.622304Z",
     "shell.execute_reply.started": "2021-11-16T12:10:21.469678Z"
    },
    "papermill": {
     "duration": 0.097853,
     "end_time": "2021-11-16T12:39:48.622576",
     "exception": false,
     "start_time": "2021-11-16T12:39:48.524723",
     "status": "completed"
    },
    "tags": []
   },
   "outputs": [
    {
     "name": "stdout",
     "output_type": "stream",
     "text": [
      "tensor([0, 1, 2, 3, 4, 5])\n"
     ]
    }
   ],
   "source": [
    "x = torch.arange(6)\n",
    "print(x)"
   ]
  },
  {
   "cell_type": "code",
   "execution_count": 37,
   "id": "21c776ef",
   "metadata": {
    "execution": {
     "iopub.execute_input": "2021-11-16T12:39:48.805565Z",
     "iopub.status.busy": "2021-11-16T12:39:48.804545Z",
     "iopub.status.idle": "2021-11-16T12:39:48.809020Z",
     "shell.execute_reply": "2021-11-16T12:39:48.808376Z",
     "shell.execute_reply.started": "2021-11-16T12:10:21.478207Z"
    },
    "papermill": {
     "duration": 0.096196,
     "end_time": "2021-11-16T12:39:48.809143",
     "exception": false,
     "start_time": "2021-11-16T12:39:48.712947",
     "status": "completed"
    },
    "tags": []
   },
   "outputs": [
    {
     "name": "stdout",
     "output_type": "stream",
     "text": [
      "tensor([[0, 1, 2],\n",
      "        [3, 4, 5]])\n"
     ]
    }
   ],
   "source": [
    "x = x.view(2, 3)\n",
    "print(x)"
   ]
  },
  {
   "cell_type": "code",
   "execution_count": 38,
   "id": "439dc6e4",
   "metadata": {
    "execution": {
     "iopub.execute_input": "2021-11-16T12:39:48.991313Z",
     "iopub.status.busy": "2021-11-16T12:39:48.990653Z",
     "iopub.status.idle": "2021-11-16T12:39:49.000157Z",
     "shell.execute_reply": "2021-11-16T12:39:49.000952Z",
     "shell.execute_reply.started": "2021-11-16T12:10:21.486443Z"
    },
    "papermill": {
     "duration": 0.102275,
     "end_time": "2021-11-16T12:39:49.001192",
     "exception": false,
     "start_time": "2021-11-16T12:39:48.898917",
     "status": "completed"
    },
    "tags": []
   },
   "outputs": [
    {
     "name": "stdout",
     "output_type": "stream",
     "text": [
      "tensor([[0, 3],\n",
      "        [1, 4],\n",
      "        [2, 5]])\n"
     ]
    }
   ],
   "source": [
    "x = x.permute(1, 0) # Swapping dimension 0 and 1\n",
    "print(x)"
   ]
  },
  {
   "cell_type": "markdown",
   "id": "579897b7",
   "metadata": {
    "papermill": {
     "duration": 0.090349,
     "end_time": "2021-11-16T12:39:49.183431",
     "exception": false,
     "start_time": "2021-11-16T12:39:49.093082",
     "status": "completed"
    },
    "tags": []
   },
   "source": [
    "Other commonly used operations include matrix multiplications, which are essential for neural networks. Quite often, we have an input vector $\\mathbf{x}$, which is transformed using a learned weight matrix $\\mathbf{W}$. There are multiple ways and functions to perform matrix multiplication, some of which we list below:\n",
    "\n",
    "|   |    |\n",
    "| :--- | :--- |\n",
    "| `torch.matmul`   | Performs the matrix product over two tensors, where the specific behavior depends on the dimensions. If both inputs are matrices (2-dimensional tensors), it performs the standard matrix product. For higher dimensional inputs, the function supports broadcasting (for details see the [documentation](https://pytorch.org/docs/stable/generated/torch.matmul.html?highlight=matmul#torch.matmul)). Can also be written as `a @ b`, similar to numpy.   |\n",
    "| `torch.mm` | Performs the matrix product over two matrices, but doesn't support broadcasting (see [documentation](https://pytorch.org/docs/stable/generated/torch.mm.html?highlight=torch%20mm#torch.mm)) |\n",
    "| `torch.bmm` | Performs the matrix product with a support batch dimension. If the first tensor $\\mathbf T$ is of shape ($b\\times n\\times m$), and the second tensor $\\mathbf R$ ($b\\times m\\times p$), the output $\\mathbf O$ is of shape ($b\\times n\\times p$), and has been calculated by performing $b$ matrix multiplications of the submatrices of $\\mathbf T$ and $\\mathbf R$ which can be written as $O_{ijk} = \\sum_q T_{ijq} R_{iqk}.$ |\n",
    "| `torch.einsum` | Performs matrix multiplications and more (i.e. sums of products) using the Einstein summation convention. See the  {ref}`appendix below <ref/einstein_summation>`. |\n",
    "\n",
    "Usually, we use `torch.matmul` or `torch.bmm`. We can try a matrix multiplication with `torch.matmul` below."
   ]
  },
  {
   "cell_type": "code",
   "execution_count": 11,
   "id": "a134ef06",
   "metadata": {
    "execution": {
     "iopub.execute_input": "2021-11-16T12:39:49.371655Z",
     "iopub.status.busy": "2021-11-16T12:39:49.370559Z",
     "iopub.status.idle": "2021-11-16T12:39:49.375168Z",
     "shell.execute_reply": "2021-11-16T12:39:49.375781Z",
     "shell.execute_reply.started": "2021-11-16T12:10:21.499121Z"
    },
    "papermill": {
     "duration": 0.104366,
     "end_time": "2021-11-16T12:39:49.375943",
     "exception": false,
     "start_time": "2021-11-16T12:39:49.271577",
     "status": "completed"
    },
    "tags": []
   },
   "outputs": [
    {
     "name": "stdout",
     "output_type": "stream",
     "text": [
      "x =\n",
      "tensor([[0, 1, 2],\n",
      "        [3, 4, 5]])\n"
     ]
    }
   ],
   "source": [
    "x = torch.arange(6)\n",
    "x = x.view(2, 3)\n",
    "print(\"x =\")\n",
    "print(x)"
   ]
  },
  {
   "cell_type": "code",
   "execution_count": 12,
   "id": "36585803",
   "metadata": {
    "execution": {
     "iopub.execute_input": "2021-11-16T12:39:49.560276Z",
     "iopub.status.busy": "2021-11-16T12:39:49.559086Z",
     "iopub.status.idle": "2021-11-16T12:39:49.564105Z",
     "shell.execute_reply": "2021-11-16T12:39:49.564849Z",
     "shell.execute_reply.started": "2021-11-16T12:10:21.507291Z"
    },
    "papermill": {
     "duration": 0.097091,
     "end_time": "2021-11-16T12:39:49.565135",
     "exception": false,
     "start_time": "2021-11-16T12:39:49.468044",
     "status": "completed"
    },
    "tags": []
   },
   "outputs": [
    {
     "name": "stdout",
     "output_type": "stream",
     "text": [
      "w =\n",
      "tensor([[0, 1, 2],\n",
      "        [3, 4, 5],\n",
      "        [6, 7, 8]])\n"
     ]
    }
   ],
   "source": [
    "W = torch.arange(9).view(3, 3) # We can also stack multiple operations in a single line\n",
    "print(\"w =\") \n",
    "print(W)"
   ]
  },
  {
   "cell_type": "code",
   "execution_count": 13,
   "id": "a6aa8606",
   "metadata": {
    "execution": {
     "iopub.execute_input": "2021-11-16T12:39:49.748303Z",
     "iopub.status.busy": "2021-11-16T12:39:49.747535Z",
     "iopub.status.idle": "2021-11-16T12:39:49.759678Z",
     "shell.execute_reply": "2021-11-16T12:39:49.760467Z",
     "shell.execute_reply.started": "2021-11-16T12:10:21.516133Z"
    },
    "papermill": {
     "duration": 0.104622,
     "end_time": "2021-11-16T12:39:49.760712",
     "exception": false,
     "start_time": "2021-11-16T12:39:49.656090",
     "status": "completed"
    },
    "tags": []
   },
   "outputs": [
    {
     "name": "stdout",
     "output_type": "stream",
     "text": [
      "h =\n",
      "tensor([[15, 18, 21],\n",
      "        [42, 54, 66]])\n"
     ]
    }
   ],
   "source": [
    "h = torch.matmul(x, W) # Verify the result by calculating it by hand too!\n",
    "print(\"h =\")\n",
    "print(h)"
   ]
  },
  {
   "cell_type": "markdown",
   "id": "a702107f",
   "metadata": {
    "papermill": {
     "duration": 0.087833,
     "end_time": "2021-11-16T12:39:49.938723",
     "exception": false,
     "start_time": "2021-11-16T12:39:49.850890",
     "status": "completed"
    },
    "tags": []
   },
   "source": [
    "#### Indexing\n",
    "\n",
    "We often have the situation where we need to select a part of a tensor. Indexing works just like in numpy, so let's try it:"
   ]
  },
  {
   "cell_type": "code",
   "execution_count": 14,
   "id": "ee197f2f",
   "metadata": {
    "execution": {
     "iopub.execute_input": "2021-11-16T12:39:50.126296Z",
     "iopub.status.busy": "2021-11-16T12:39:50.125299Z",
     "iopub.status.idle": "2021-11-16T12:39:50.131620Z",
     "shell.execute_reply": "2021-11-16T12:39:50.132442Z",
     "shell.execute_reply.started": "2021-11-16T12:10:21.534092Z"
    },
    "papermill": {
     "duration": 0.102609,
     "end_time": "2021-11-16T12:39:50.132690",
     "exception": false,
     "start_time": "2021-11-16T12:39:50.030081",
     "status": "completed"
    },
    "tags": []
   },
   "outputs": [
    {
     "name": "stdout",
     "output_type": "stream",
     "text": [
      "x =\n",
      "tensor([[ 0,  1,  2,  3],\n",
      "        [ 4,  5,  6,  7],\n",
      "        [ 8,  9, 10, 11]])\n"
     ]
    }
   ],
   "source": [
    "x = torch.arange(12).view(3, 4)\n",
    "print(\"x =\")\n",
    "print(x)"
   ]
  },
  {
   "cell_type": "code",
   "execution_count": 15,
   "id": "b4594c56",
   "metadata": {
    "execution": {
     "iopub.execute_input": "2021-11-16T12:39:50.323015Z",
     "iopub.status.busy": "2021-11-16T12:39:50.322059Z",
     "iopub.status.idle": "2021-11-16T12:39:50.326320Z",
     "shell.execute_reply": "2021-11-16T12:39:50.326927Z",
     "shell.execute_reply.started": "2021-11-16T12:10:21.543084Z"
    },
    "papermill": {
     "duration": 0.102246,
     "end_time": "2021-11-16T12:39:50.327080",
     "exception": false,
     "start_time": "2021-11-16T12:39:50.224834",
     "status": "completed"
    },
    "tags": []
   },
   "outputs": [
    {
     "name": "stdout",
     "output_type": "stream",
     "text": [
      "tensor([1, 5, 9])\n"
     ]
    }
   ],
   "source": [
    "print(x[:, 1])   # Second column"
   ]
  },
  {
   "cell_type": "code",
   "execution_count": 16,
   "id": "e42d813a",
   "metadata": {
    "execution": {
     "iopub.execute_input": "2021-11-16T12:39:50.519105Z",
     "iopub.status.busy": "2021-11-16T12:39:50.518110Z",
     "iopub.status.idle": "2021-11-16T12:39:50.522118Z",
     "shell.execute_reply": "2021-11-16T12:39:50.522616Z",
     "shell.execute_reply.started": "2021-11-16T12:10:21.551601Z"
    },
    "papermill": {
     "duration": 0.101655,
     "end_time": "2021-11-16T12:39:50.522761",
     "exception": false,
     "start_time": "2021-11-16T12:39:50.421106",
     "status": "completed"
    },
    "tags": []
   },
   "outputs": [
    {
     "name": "stdout",
     "output_type": "stream",
     "text": [
      "tensor([0, 1, 2, 3])\n"
     ]
    }
   ],
   "source": [
    "print(x[0])      # First row"
   ]
  },
  {
   "cell_type": "code",
   "execution_count": 17,
   "id": "822f2c52",
   "metadata": {
    "execution": {
     "iopub.execute_input": "2021-11-16T12:39:50.741502Z",
     "iopub.status.busy": "2021-11-16T12:39:50.740478Z",
     "iopub.status.idle": "2021-11-16T12:39:50.745019Z",
     "shell.execute_reply": "2021-11-16T12:39:50.744378Z",
     "shell.execute_reply.started": "2021-11-16T12:10:21.560491Z"
    },
    "papermill": {
     "duration": 0.116402,
     "end_time": "2021-11-16T12:39:50.745181",
     "exception": false,
     "start_time": "2021-11-16T12:39:50.628779",
     "status": "completed"
    },
    "tags": []
   },
   "outputs": [
    {
     "name": "stdout",
     "output_type": "stream",
     "text": [
      "tensor([3, 7])\n"
     ]
    }
   ],
   "source": [
    "print(x[:2, -1]) # First two rows, last column"
   ]
  },
  {
   "cell_type": "code",
   "execution_count": 18,
   "id": "5fe12a79",
   "metadata": {
    "execution": {
     "iopub.execute_input": "2021-11-16T12:39:50.945015Z",
     "iopub.status.busy": "2021-11-16T12:39:50.944093Z",
     "iopub.status.idle": "2021-11-16T12:39:50.947906Z",
     "shell.execute_reply": "2021-11-16T12:39:50.948502Z",
     "shell.execute_reply.started": "2021-11-16T12:10:21.568616Z"
    },
    "papermill": {
     "duration": 0.10216,
     "end_time": "2021-11-16T12:39:50.948696",
     "exception": false,
     "start_time": "2021-11-16T12:39:50.846536",
     "status": "completed"
    },
    "tags": []
   },
   "outputs": [
    {
     "name": "stdout",
     "output_type": "stream",
     "text": [
      "tensor([[ 4,  5,  6,  7],\n",
      "        [ 8,  9, 10, 11]])\n"
     ]
    }
   ],
   "source": [
    "print(x[1:3, :]) # Middle two rows"
   ]
  },
  {
   "cell_type": "markdown",
   "id": "083c3036",
   "metadata": {
    "papermill": {
     "duration": 0.090682,
     "end_time": "2021-11-16T12:39:51.130893",
     "exception": false,
     "start_time": "2021-11-16T12:39:51.040211",
     "status": "completed"
    },
    "tags": []
   },
   "source": [
    "### Dynamic Computation Graph and Backpropagation\n",
    "\n",
    "One of the main reasons for using PyTorch in Deep Learning projects is that we can automatically get gradients  or partial derivatives of functions that we define. We will mainly use PyTorch for implementing neural networks, and they are just fancy functions. If we use weight matrices in our function that we want to learn, then those are called the **parameters** or simply the **weights**.\n",
    "\n",
    "Given an input $\\mathbf{x}$, we define our function by a series of computations on that input, usually by matrix-multiplications with weight matrices and additions with so-called bias vectors. As we manipulate our input, we are automatically creating a **computational graph**. This graph shows how to arrive at our output from our input. PyTorch is a define-by-run framework; this means that we can just do our manipulations, and PyTorch will keep track of that graph for us. Thus, we create a dynamic computation graph along the way. To recap: the only thing we have to do is to compute the output, and then we can ask PyTorch to automatically get the gradients. \n",
    "\n",
    "> **Q:**  *Why do we want gradients?* Consider that we have defined a function, a neural net, that is supposed to compute a certain output $y$ for an input vector $\\mathbf{x}$. We then define an **error measure** that tells us how wrong our network is; how bad it is in predicting output $y$ from input $\\mathbf{x}$. Based on this error measure, we can use the gradients to update the weights $\\mathbf{W}$ that were responsible for the output, so that the next time we present input $\\mathbf{x}$ to our network, the output will be closer to what we want. The rational for the update rule is based on gradient descent.\n",
    "\n",
    "The first thing we have to do is to specify which tensors require gradients. By default, when we create a tensor, it does not require gradients."
   ]
  },
  {
   "cell_type": "code",
   "execution_count": 23,
   "id": "1e4af75b",
   "metadata": {
    "execution": {
     "iopub.execute_input": "2021-11-16T12:39:51.324906Z",
     "iopub.status.busy": "2021-11-16T12:39:51.323684Z",
     "iopub.status.idle": "2021-11-16T12:39:51.329418Z",
     "shell.execute_reply": "2021-11-16T12:39:51.328815Z",
     "shell.execute_reply.started": "2021-11-16T12:10:21.577384Z"
    },
    "papermill": {
     "duration": 0.106775,
     "end_time": "2021-11-16T12:39:51.329551",
     "exception": false,
     "start_time": "2021-11-16T12:39:51.222776",
     "status": "completed"
    },
    "tags": []
   },
   "outputs": [
    {
     "name": "stdout",
     "output_type": "stream",
     "text": [
      "False\n"
     ]
    }
   ],
   "source": [
    "x = torch.ones((3,))\n",
    "print(x.requires_grad)"
   ]
  },
  {
   "cell_type": "markdown",
   "id": "0324a9dc",
   "metadata": {
    "papermill": {
     "duration": 0.093806,
     "end_time": "2021-11-16T12:39:51.516917",
     "exception": false,
     "start_time": "2021-11-16T12:39:51.423111",
     "status": "completed"
    },
    "tags": []
   },
   "source": [
    "We can change this for an existing tensor using the function `requires_grad_()` (underscore indicating that this is an in-place operation). Alternatively, when creating a tensor, you can pass the argument `requires_grad=True` to most initializers we have seen above."
   ]
  },
  {
   "cell_type": "code",
   "execution_count": 24,
   "id": "850894d0",
   "metadata": {
    "execution": {
     "iopub.execute_input": "2021-11-16T12:39:51.706263Z",
     "iopub.status.busy": "2021-11-16T12:39:51.705163Z",
     "iopub.status.idle": "2021-11-16T12:39:51.709820Z",
     "shell.execute_reply": "2021-11-16T12:39:51.709181Z",
     "shell.execute_reply.started": "2021-11-16T12:10:21.587844Z"
    },
    "papermill": {
     "duration": 0.10005,
     "end_time": "2021-11-16T12:39:51.709955",
     "exception": false,
     "start_time": "2021-11-16T12:39:51.609905",
     "status": "completed"
    },
    "tags": []
   },
   "outputs": [
    {
     "name": "stdout",
     "output_type": "stream",
     "text": [
      "True\n"
     ]
    }
   ],
   "source": [
    "x.requires_grad_(True)\n",
    "print(x.requires_grad)"
   ]
  },
  {
   "cell_type": "markdown",
   "id": "451ed95e",
   "metadata": {
    "papermill": {
     "duration": 0.095907,
     "end_time": "2021-11-16T12:39:51.897209",
     "exception": false,
     "start_time": "2021-11-16T12:39:51.801302",
     "status": "completed"
    },
    "tags": []
   },
   "source": [
    "In order to get familiar with the concept of a computation graph, we will create one for the following function:\n",
    "\n",
    "$$y = \\frac{1}{|\\mathbf{x}|}\\sum_i \\left[(x_i + 2)^2 + 3\\right]$$\n",
    "\n",
    "You could imagine that $\\mathbf x$ are our parameters, and we want to optimize (either maximize or minimize) the output $y$. For this, we want to obtain the gradients $\\partial y / \\partial \\mathbf{x}$. For our example, we'll use $\\mathbf{x}=[0,1,2]$ as our input. This value is the reference point where we take the gradient of $y$. Here $|\\cdot|$ is the length function."
   ]
  },
  {
   "cell_type": "code",
   "execution_count": 19,
   "id": "2423dcc8",
   "metadata": {
    "execution": {
     "iopub.execute_input": "2021-11-16T12:39:52.087187Z",
     "iopub.status.busy": "2021-11-16T12:39:52.086201Z",
     "iopub.status.idle": "2021-11-16T12:39:52.091555Z",
     "shell.execute_reply": "2021-11-16T12:39:52.092424Z",
     "shell.execute_reply.started": "2021-11-16T12:10:21.596048Z"
    },
    "papermill": {
     "duration": 0.103948,
     "end_time": "2021-11-16T12:39:52.092710",
     "exception": false,
     "start_time": "2021-11-16T12:39:51.988762",
     "status": "completed"
    },
    "tags": []
   },
   "outputs": [
    {
     "name": "stdout",
     "output_type": "stream",
     "text": [
      "x = tensor([0., 1., 2.], requires_grad=True)\n"
     ]
    }
   ],
   "source": [
    "x = torch.arange(3, dtype=torch.float32, requires_grad=True) # Only float tensors can have gradients\n",
    "print(\"x =\", x)"
   ]
  },
  {
   "cell_type": "markdown",
   "id": "04093cfc",
   "metadata": {
    "papermill": {
     "duration": 0.094787,
     "end_time": "2021-11-16T12:39:52.279365",
     "exception": false,
     "start_time": "2021-11-16T12:39:52.184578",
     "status": "completed"
    },
    "tags": []
   },
   "source": [
    "Now let's build the computation graph step by step. You can combine multiple operations in a single line, but we will separate them here to get a better understanding of how each operation is added to the computation graph."
   ]
  },
  {
   "cell_type": "code",
   "execution_count": 22,
   "id": "746e13b6",
   "metadata": {
    "execution": {
     "iopub.execute_input": "2021-11-16T12:39:52.473853Z",
     "iopub.status.busy": "2021-11-16T12:39:52.472948Z",
     "iopub.status.idle": "2021-11-16T12:39:52.484045Z",
     "shell.execute_reply": "2021-11-16T12:39:52.484650Z",
     "shell.execute_reply.started": "2021-11-16T12:10:21.606546Z"
    },
    "papermill": {
     "duration": 0.10925,
     "end_time": "2021-11-16T12:39:52.484799",
     "exception": false,
     "start_time": "2021-11-16T12:39:52.375549",
     "status": "completed"
    },
    "tags": []
   },
   "outputs": [
    {
     "name": "stdout",
     "output_type": "stream",
     "text": [
      "y = tensor(12.6667, grad_fn=<MeanBackward0>)\n"
     ]
    }
   ],
   "source": [
    "a = x + 2\n",
    "b = a ** 2\n",
    "c = b + 3\n",
    "y = c.mean()\n",
    "print(\"y =\", y)"
   ]
  },
  {
   "cell_type": "markdown",
   "id": "229a02cc",
   "metadata": {
    "papermill": {
     "duration": 0.096663,
     "end_time": "2021-11-16T12:39:52.676237",
     "exception": false,
     "start_time": "2021-11-16T12:39:52.579574",
     "status": "completed"
    },
    "tags": []
   },
   "source": [
    "Using the statements above, we have created a computation graph that looks similar to the figure below:\n",
    "\n",
    "<center style=\"width: 100%\"><img src=\"https://uvadlc-notebooks.readthedocs.io/en/latest/_images/pytorch_computation_graph.svg\" width=\"200px\"></center>\n",
    "\n",
    "We calculate $\\mathbf a$ based on the inputs $\\mathbf x$ and the constant $2$, $\\mathbf{b}$ is $\\mathbf{a}$ squared, and so on. The visualization is an abstraction of the dependencies between inputs and outputs of the operations we have applied.\n",
    "Each node of the computation graph has automatically defined a function for calculating the gradients with respect to its inputs, `grad_fn`. You can see this when we printed the output tensor $y$. This is why the computation graph is usually visualized in the reverse direction (arrows point from the result to the inputs). We can perform backpropagation on the computation graph by calling the function `backward()` on the last output, which effectively calculates the gradients for each tensor that has the property `requires_grad=True`:"
   ]
  },
  {
   "cell_type": "code",
   "execution_count": 23,
   "id": "f747af4a",
   "metadata": {
    "execution": {
     "iopub.execute_input": "2021-11-16T12:39:52.871454Z",
     "iopub.status.busy": "2021-11-16T12:39:52.870401Z",
     "iopub.status.idle": "2021-11-16T12:39:52.928793Z",
     "shell.execute_reply": "2021-11-16T12:39:52.927761Z",
     "shell.execute_reply.started": "2021-11-16T12:10:21.622622Z"
    },
    "papermill": {
     "duration": 0.158183,
     "end_time": "2021-11-16T12:39:52.928947",
     "exception": false,
     "start_time": "2021-11-16T12:39:52.770764",
     "status": "completed"
    },
    "tags": []
   },
   "outputs": [],
   "source": [
    "y.backward()"
   ]
  },
  {
   "cell_type": "markdown",
   "id": "919bf9ba",
   "metadata": {
    "papermill": {
     "duration": 0.095355,
     "end_time": "2021-11-16T12:39:53.118806",
     "exception": false,
     "start_time": "2021-11-16T12:39:53.023451",
     "status": "completed"
    },
    "tags": []
   },
   "source": [
    "`x.grad` will now contain the gradient $\\partial y/ \\partial \\mathcal{x}$, and this gradient indicates how a change in $\\mathbf{x}$ will affect output $y$ given the current input $\\mathbf{x}=[0,1,2]$:"
   ]
  },
  {
   "cell_type": "code",
   "execution_count": 24,
   "id": "f0d43278",
   "metadata": {
    "execution": {
     "iopub.execute_input": "2021-11-16T12:39:53.313579Z",
     "iopub.status.busy": "2021-11-16T12:39:53.312369Z",
     "iopub.status.idle": "2021-11-16T12:39:53.317465Z",
     "shell.execute_reply": "2021-11-16T12:39:53.318287Z",
     "shell.execute_reply.started": "2021-11-16T12:10:21.710477Z"
    },
    "papermill": {
     "duration": 0.104031,
     "end_time": "2021-11-16T12:39:53.318520",
     "exception": false,
     "start_time": "2021-11-16T12:39:53.214489",
     "status": "completed"
    },
    "tags": []
   },
   "outputs": [
    {
     "name": "stdout",
     "output_type": "stream",
     "text": [
      "tensor([1.3333, 2.0000, 2.6667])\n"
     ]
    }
   ],
   "source": [
    "print(x.grad)"
   ]
  },
  {
   "cell_type": "markdown",
   "id": "fdeec700",
   "metadata": {
    "papermill": {
     "duration": 0.093859,
     "end_time": "2021-11-16T12:39:53.507989",
     "exception": false,
     "start_time": "2021-11-16T12:39:53.414130",
     "status": "completed"
    },
    "tags": []
   },
   "source": [
    "We can also verify these gradients by hand. We will calculate the gradients using the chain rule, in the same way as PyTorch did it:\n",
    "\n",
    "$$\\frac{\\partial y}{\\partial x_i} = \\frac{\\partial y}{\\partial c_i}\\frac{\\partial c_i}{\\partial b_i}\\frac{\\partial b_i}{\\partial a_i}\\frac{\\partial a_i}{\\partial x_i}$$\n",
    "\n",
    "Note that we have simplified this equation to index notation, and by using the fact that all operation besides the mean do not combine the elements in the tensor. The partial derivatives are:\n",
    "\n",
    "$$\n",
    "\\frac{\\partial a_i}{\\partial x_i} = 1,\\hspace{1cm}\n",
    "\\frac{\\partial b_i}{\\partial a_i} = 2\\cdot a_i\\hspace{1cm}\n",
    "\\frac{\\partial c_i}{\\partial b_i} = 1\\hspace{1cm}\n",
    "\\frac{\\partial y}{\\partial c_i} = \\frac{1}{3}\n",
    "$$\n",
    "\n",
    "Hence, with the input being $\\mathbf{x}=[0,1,2]$, our gradients are $\\partial y/\\partial \\mathbf{x}=[4/3,2,8/3]$. The previous code cell should have printed the same result."
   ]
  },
  {
   "cell_type": "markdown",
   "id": "fbdcb3e3",
   "metadata": {
    "papermill": {
     "duration": 0.19093,
     "end_time": "2021-11-16T12:39:53.800062",
     "exception": false,
     "start_time": "2021-11-16T12:39:53.609132",
     "status": "completed"
    },
    "tags": []
   },
   "source": [
    "### GPU support\n",
    "\n",
    "A crucial feature of PyTorch is the support of GPUs, short for Graphics Processing Unit. A GPU can perform many thousands of small operations in parallel, making it very well suitable for performing large matrix operations in neural networks. When comparing GPUs to CPUs, we can list the following main differences (credit: [Kevin Krewell, 2009](https://blogs.nvidia.com/blog/2009/12/16/whats-the-difference-between-a-cpu-and-a-gpu/)) \n",
    "\n",
    "<center style=\"width: 100%\"><img src=\"https://uvadlc-notebooks.readthedocs.io/en/latest/_images/comparison_CPU_GPU.png\" width=\"700px\"></center>\n",
    "\n",
    "\n",
    "GPUs can accelerate the training of your network up to a factor of $100$ which is essential for large neural networks. PyTorch implements a lot of functionality for supporting GPUs (mostly those of NVIDIA due to the libraries [CUDA](https://developer.nvidia.com/cuda-zone) and [cuDNN](https://developer.nvidia.com/cudnn)). First, let's check whether you have a GPU available:"
   ]
  },
  {
   "cell_type": "code",
   "execution_count": 29,
   "id": "2c12f0cc",
   "metadata": {
    "execution": {
     "iopub.execute_input": "2021-11-16T12:39:54.143747Z",
     "iopub.status.busy": "2021-11-16T12:39:54.142570Z",
     "iopub.status.idle": "2021-11-16T12:39:54.148757Z",
     "shell.execute_reply": "2021-11-16T12:39:54.144674Z",
     "shell.execute_reply.started": "2021-11-16T12:10:21.727840Z"
    },
    "papermill": {
     "duration": 0.176642,
     "end_time": "2021-11-16T12:39:54.149144",
     "exception": false,
     "start_time": "2021-11-16T12:39:53.972502",
     "status": "completed"
    },
    "tags": []
   },
   "outputs": [
    {
     "name": "stdout",
     "output_type": "stream",
     "text": [
      "Is the GPU available? True\n"
     ]
    }
   ],
   "source": [
    "gpu_avail = torch.cuda.is_available()\n",
    "print(f\"Is the GPU available? {gpu_avail}\")"
   ]
  },
  {
   "cell_type": "markdown",
   "id": "c93207f1",
   "metadata": {
    "papermill": {
     "duration": 0.094938,
     "end_time": "2021-11-16T12:39:54.392634",
     "exception": false,
     "start_time": "2021-11-16T12:39:54.297696",
     "status": "completed"
    },
    "tags": []
   },
   "source": [
    "If you have a GPU on your computer but the command above returns `False`, make sure you have the correct CUDA-version installed. By default, all tensors you create are stored on the CPU. We can push a tensor to the GPU by using the function `.to(...)`, or `.cuda()`. However, it is often a good practice to define a `device` object in your code which points to the GPU if you have one, and otherwise to the CPU. Then, you can write your code with respect to this device object, and it allows you to run the same code on both a CPU-only system, and one with a GPU. Let's try it below. We can specify the device as follows: "
   ]
  },
  {
   "cell_type": "code",
   "execution_count": 26,
   "id": "4e5d599a",
   "metadata": {
    "execution": {
     "iopub.execute_input": "2021-11-16T12:39:54.592257Z",
     "iopub.status.busy": "2021-11-16T12:39:54.591476Z",
     "iopub.status.idle": "2021-11-16T12:39:54.595000Z",
     "shell.execute_reply": "2021-11-16T12:39:54.595818Z",
     "shell.execute_reply.started": "2021-11-16T12:10:21.736424Z"
    },
    "papermill": {
     "duration": 0.104642,
     "end_time": "2021-11-16T12:39:54.596025",
     "exception": false,
     "start_time": "2021-11-16T12:39:54.491383",
     "status": "completed"
    },
    "tags": []
   },
   "outputs": [
    {
     "name": "stdout",
     "output_type": "stream",
     "text": [
      "Device: cpu\n"
     ]
    }
   ],
   "source": [
    "device = torch.device(\"cuda\") if torch.cuda.is_available() else torch.device(\"cpu\")\n",
    "print(\"Device:\", device)"
   ]
  },
  {
   "cell_type": "markdown",
   "id": "15533810",
   "metadata": {
    "papermill": {
     "duration": 0.093691,
     "end_time": "2021-11-16T12:39:54.786690",
     "exception": false,
     "start_time": "2021-11-16T12:39:54.692999",
     "status": "completed"
    },
    "tags": []
   },
   "source": [
    "Now let's create a tensor and push it to the device:"
   ]
  },
  {
   "cell_type": "code",
   "execution_count": 27,
   "id": "afc87957",
   "metadata": {
    "execution": {
     "iopub.execute_input": "2021-11-16T12:39:54.980885Z",
     "iopub.status.busy": "2021-11-16T12:39:54.980211Z",
     "iopub.status.idle": "2021-11-16T12:39:58.192249Z",
     "shell.execute_reply": "2021-11-16T12:39:58.193114Z",
     "shell.execute_reply.started": "2021-11-16T12:10:21.749020Z"
    },
    "papermill": {
     "duration": 3.314455,
     "end_time": "2021-11-16T12:39:58.193398",
     "exception": false,
     "start_time": "2021-11-16T12:39:54.878943",
     "status": "completed"
    },
    "tags": []
   },
   "outputs": [
    {
     "name": "stdout",
     "output_type": "stream",
     "text": [
      "x =\n",
      "tensor([[0., 0., 0.],\n",
      "        [0., 0., 0.]])\n"
     ]
    }
   ],
   "source": [
    "x = torch.zeros(2, 3)\n",
    "x = x.to(device)\n",
    "print(\"x =\")\n",
    "print(x)"
   ]
  },
  {
   "cell_type": "markdown",
   "id": "2ecd49b7",
   "metadata": {
    "papermill": {
     "duration": 0.097286,
     "end_time": "2021-11-16T12:39:58.391492",
     "exception": false,
     "start_time": "2021-11-16T12:39:58.294206",
     "status": "completed"
    },
    "tags": []
   },
   "source": [
    "In case you have a GPU, you should now see the attribute `device='cuda:0'` being printed next to your tensor. The zero next to cuda indicates that this is the zero-th GPU device on your computer. PyTorch also supports multi-GPU systems, but this you will only need once you have very big networks to train (if interested, see the [PyTorch documentation](https://pytorch.org/docs/stable/distributed.html#distributed-basics)). We can also compare the runtime of a large matrix multiplication on the CPU with a operation on the GPU:"
   ]
  },
  {
   "cell_type": "code",
   "execution_count": 32,
   "id": "d9b6027f",
   "metadata": {
    "execution": {
     "iopub.execute_input": "2021-11-16T12:39:58.592797Z",
     "iopub.status.busy": "2021-11-16T12:39:58.591797Z",
     "iopub.status.idle": "2021-11-16T12:40:03.160845Z",
     "shell.execute_reply": "2021-11-16T12:40:03.160162Z",
     "shell.execute_reply.started": "2021-11-16T12:10:24.655244Z"
    },
    "papermill": {
     "duration": 4.673963,
     "end_time": "2021-11-16T12:40:03.160995",
     "exception": false,
     "start_time": "2021-11-16T12:39:58.487032",
     "status": "completed"
    },
    "tags": []
   },
   "outputs": [
    {
     "name": "stdout",
     "output_type": "stream",
     "text": [
      "CPU time: 3.37361s\n",
      "GPU time: 0.94752s\n"
     ]
    }
   ],
   "source": [
    "x = torch.randn(5000, 5000)\n",
    "\n",
    "# CPU version\n",
    "start_time = time.time()\n",
    "_ = torch.matmul(x, x)\n",
    "end_time = time.time()\n",
    "print(f\"CPU time: {(end_time - start_time):6.5f}s\")\n",
    "\n",
    "##GPU version\n",
    "x = x.to(device)\n",
    "\n",
    "# CUDA is asynchronous, so we need to use different timing functions\n",
    "start = torch.cuda.Event(enable_timing=True)\n",
    "end = torch.cuda.Event(enable_timing=True)\n",
    "start.record()\n",
    "_ = torch.matmul(x, x)\n",
    "end.record()\n",
    "torch.cuda.synchronize()  # Waits for everything to finish running on the GPU\n",
    "print(f\"GPU time: {0.001 * start.elapsed_time(end):6.5f}s\")  # Milliseconds to seconds"
   ]
  },
  {
   "cell_type": "markdown",
   "id": "7eaeb632",
   "metadata": {
    "papermill": {
     "duration": 0.093297,
     "end_time": "2021-11-16T12:40:03.348604",
     "exception": false,
     "start_time": "2021-11-16T12:40:03.255307",
     "status": "completed"
    },
    "tags": []
   },
   "source": [
    "Depending on the size of the operation and the CPU/GPU in your system, the speedup of this operation can be >50x. As `matmul` operations are very common in neural networks, we can already see the great benefit of training a NN on a GPU. The time estimate can be relatively noisy here because we haven't run it for multiple times. Feel free to extend this, but it also takes longer to run.\n",
    "\n",
    "**Reproducibility of GPU operations.** When generating random numbers, the seed between CPU and GPU is not synchronized. Hence, we need to set the seed on the GPU separately to ensure a reproducible code. Note that due to different GPU architectures, running the same code on different GPUs does not guarantee the same random numbers. Still, we don't want that our code gives us a different output every time we run it on the exact same hardware. Hence, we also set the seed on the GPU:"
   ]
  },
  {
   "cell_type": "code",
   "execution_count": 33,
   "id": "87410244",
   "metadata": {
    "execution": {
     "iopub.execute_input": "2021-11-16T12:40:03.550303Z",
     "iopub.status.busy": "2021-11-16T12:40:03.547977Z",
     "iopub.status.idle": "2021-11-16T12:40:03.551029Z",
     "shell.execute_reply": "2021-11-16T12:40:03.551659Z",
     "shell.execute_reply.started": "2021-11-16T12:10:27.633173Z"
    },
    "papermill": {
     "duration": 0.106752,
     "end_time": "2021-11-16T12:40:03.551841",
     "exception": false,
     "start_time": "2021-11-16T12:40:03.445089",
     "status": "completed"
    },
    "tags": []
   },
   "outputs": [],
   "source": [
    "# GPU operations have a separate seed we also want to set\n",
    "if torch.cuda.is_available(): \n",
    "    torch.cuda.manual_seed(42)\n",
    "    torch.cuda.manual_seed_all(42)\n",
    "    \n",
    "# Additionally, some operations on a GPU are implemented stochastic for efficiency\n",
    "# We want to ensure that all operations are deterministic on GPU (if used) for reproducibility\n",
    "torch.backends.cudnn.determinstic = True\n",
    "torch.backends.cudnn.benchmark = False"
   ]
  },
  {
   "cell_type": "markdown",
   "id": "73b51482",
   "metadata": {
    "papermill": {
     "duration": 0.093477,
     "end_time": "2021-11-16T12:40:03.747100",
     "exception": false,
     "start_time": "2021-11-16T12:40:03.653623",
     "status": "completed"
    },
    "tags": []
   },
   "source": [
    "## Learning the Continuous XOR\n",
    "\n",
    "If we want to build a neural network in PyTorch, we could specify all our parameters (weight matrices, bias vectors) using `Tensors` (with `requires_grad=True`), ask PyTorch to calculate the gradients and then adjust the parameters. But things can quickly get cumbersome if we have a lot of parameters. In PyTorch, there is a package called `torch.nn` that makes building neural networks more convenient. \n",
    "\n",
    "We will introduce the libraries and all additional parts you might need to train a neural network in PyTorch, using a simple example classifier on a simple yet well known example: XOR. Given two binary inputs ${x}_1$ and ${x}_2$, the label to predict is $1$ if either ${x}_1$ or ${x}_2$ is $1$ while the other is $0$, otherwise the label is $0.$ The example became famous by the fact that a single neuron, i.e. a linear classifier, cannot learn this simple function.\n",
    "Hence, we will learn how to build a small neural network that can learn this function. \n",
    "To make it a little bit more interesting, we move the XOR into continuous space and introduce some gaussian noise on the binary inputs. Our desired separation of an XOR dataset could look as follows:\n",
    "\n",
    "<center style=\"width: 100%\"><img src=https://uvadlc-notebooks.readthedocs.io/en/latest/_images/continuous_xor.svg width=\"350px\"></center>"
   ]
  },
  {
   "cell_type": "markdown",
   "id": "a1e835c4",
   "metadata": {
    "papermill": {
     "duration": 0.0955,
     "end_time": "2021-11-16T12:40:03.939679",
     "exception": false,
     "start_time": "2021-11-16T12:40:03.844179",
     "status": "completed"
    },
    "tags": []
   },
   "source": [
    "### Model\n",
    "\n",
    "The package `torch.nn` defines a series of useful classes like linear networks layers, activation functions, loss functions etc. A full list can be found [here](https://pytorch.org/docs/stable/nn.html). In case you need a certain network layer, check the documentation of the package first before writing the layer yourself as the package likely contains the code for it already. We import it below:"
   ]
  },
  {
   "cell_type": "code",
   "execution_count": 34,
   "id": "13ee37d2",
   "metadata": {
    "execution": {
     "iopub.execute_input": "2021-11-16T12:40:04.135262Z",
     "iopub.status.busy": "2021-11-16T12:40:04.134281Z",
     "iopub.status.idle": "2021-11-16T12:40:04.136964Z",
     "shell.execute_reply": "2021-11-16T12:40:04.137600Z",
     "shell.execute_reply.started": "2021-11-16T12:10:27.641434Z"
    },
    "papermill": {
     "duration": 0.103218,
     "end_time": "2021-11-16T12:40:04.137828",
     "exception": false,
     "start_time": "2021-11-16T12:40:04.034610",
     "status": "completed"
    },
    "tags": []
   },
   "outputs": [],
   "source": [
    "import torch.nn as nn"
   ]
  },
  {
   "cell_type": "markdown",
   "id": "da805260",
   "metadata": {
    "papermill": {
     "duration": 0.095696,
     "end_time": "2021-11-16T12:40:04.327021",
     "exception": false,
     "start_time": "2021-11-16T12:40:04.231325",
     "status": "completed"
    },
    "tags": []
   },
   "source": [
    "Additionally to `torch.nn`, there is also `torch.nn.functional`. It contains functions that are used in network layers. This is in contrast to `torch.nn` which defines them as `nn.Modules` (more on it below), and `torch.nn` actually uses a lot of functionalities from `torch.nn.functional`. Hence, the functional package is useful in many situations, and so we import it as well here."
   ]
  },
  {
   "cell_type": "code",
   "execution_count": 35,
   "id": "7edf7d8b",
   "metadata": {
    "execution": {
     "iopub.execute_input": "2021-11-16T12:40:04.525790Z",
     "iopub.status.busy": "2021-11-16T12:40:04.524629Z",
     "iopub.status.idle": "2021-11-16T12:40:04.527624Z",
     "shell.execute_reply": "2021-11-16T12:40:04.528197Z",
     "shell.execute_reply.started": "2021-11-16T12:10:27.651570Z"
    },
    "papermill": {
     "duration": 0.106103,
     "end_time": "2021-11-16T12:40:04.528377",
     "exception": false,
     "start_time": "2021-11-16T12:40:04.422274",
     "status": "completed"
    },
    "tags": []
   },
   "outputs": [],
   "source": [
    "import torch.nn.functional as F"
   ]
  },
  {
   "cell_type": "markdown",
   "id": "9b9da824",
   "metadata": {
    "papermill": {
     "duration": 0.203197,
     "end_time": "2021-11-16T12:40:04.850264",
     "exception": false,
     "start_time": "2021-11-16T12:40:04.647067",
     "status": "completed"
    },
    "tags": []
   },
   "source": [
    "#### nn.Module\n",
    "\n",
    "In PyTorch, a neural network is built up out of modules. Modules can contain other modules, and a neural network is considered to be a module itself as well. The basic template of a module is as follows:"
   ]
  },
  {
   "cell_type": "code",
   "execution_count": 36,
   "id": "6e26e3fe",
   "metadata": {
    "execution": {
     "iopub.execute_input": "2021-11-16T12:40:05.262277Z",
     "iopub.status.busy": "2021-11-16T12:40:05.258947Z",
     "iopub.status.idle": "2021-11-16T12:40:05.273543Z",
     "shell.execute_reply": "2021-11-16T12:40:05.276664Z",
     "shell.execute_reply.started": "2021-11-16T12:10:27.660027Z"
    },
    "papermill": {
     "duration": 0.251726,
     "end_time": "2021-11-16T12:40:05.276931",
     "exception": false,
     "start_time": "2021-11-16T12:40:05.025205",
     "status": "completed"
    },
    "tags": []
   },
   "outputs": [],
   "source": [
    "class MyModule(nn.Module):\n",
    "    \n",
    "    def __init__(self):\n",
    "        super().__init__()\n",
    "        # Some init for my module\n",
    "        \n",
    "    def forward(self, x):\n",
    "        # Function for performing the calculation of the module.\n",
    "        pass"
   ]
  },
  {
   "cell_type": "markdown",
   "id": "40aba455",
   "metadata": {
    "papermill": {
     "duration": 0.162308,
     "end_time": "2021-11-16T12:40:05.656536",
     "exception": false,
     "start_time": "2021-11-16T12:40:05.494228",
     "status": "completed"
    },
    "tags": []
   },
   "source": [
    "The `forward` function is where the computation of the module is taken place, and is executed when you call the module (`net = MyModule(); net(x)`). In the `init` function, we usually create the parameters of the module, using `nn.Parameter`, or defining other modules that are used in the forward function. The backward calculation is done automatically, but could be overwritten as well if wanted.\n",
    "\n",
    "#### Simple classifier\n",
    "We can now make use of the pre-defined modules in the `torch.nn` package, and define our own small neural network. We will use a minimal network with a input layer, one hidden layer with tanh as activation function, and a output layer. In other words, our networks should look something like this:\n",
    "\n",
    "<center width=\"100%\"><img src=https://uvadlc-notebooks.readthedocs.io/en/latest/_images/small_neural_network.svg width=\"300px\"></center>\n",
    "\n",
    "The input neurons are shown in blue, which represent the coordinates $\\mathbf{x}_1$ and $\\mathbf{x}_2$ of a data point. The hidden neurons including a tanh activation are shown in white, and the output neuron in red. Note that the network essentially embeds each input to a subspace of $\\mathbb{R}^4$ and performs logistic regression on the resulting 4-dimensional representation. In PyTorch, we can implement this as follows:"
   ]
  },
  {
   "cell_type": "code",
   "execution_count": 37,
   "id": "7c505040",
   "metadata": {
    "execution": {
     "iopub.execute_input": "2021-11-16T12:40:06.000555Z",
     "iopub.status.busy": "2021-11-16T12:40:05.999657Z",
     "iopub.status.idle": "2021-11-16T12:40:06.006443Z",
     "shell.execute_reply": "2021-11-16T12:40:06.007274Z",
     "shell.execute_reply.started": "2021-11-16T12:10:27.671122Z"
    },
    "papermill": {
     "duration": 0.186488,
     "end_time": "2021-11-16T12:40:06.007540",
     "exception": false,
     "start_time": "2021-11-16T12:40:05.821052",
     "status": "completed"
    },
    "tags": []
   },
   "outputs": [],
   "source": [
    "class SimpleClassifier(nn.Module):\n",
    "\n",
    "    def __init__(self, num_inputs, num_hidden, num_outputs):\n",
    "        super().__init__()\n",
    "        \n",
    "        # Initialize the modules we need to build the network\n",
    "        self.linear1 = nn.Linear(num_inputs, num_hidden)\n",
    "        self.act_fn = nn.Tanh()\n",
    "        self.linear2 = nn.Linear(num_hidden, num_outputs)\n",
    "\n",
    "    def forward(self, x):\n",
    "        \n",
    "        # Perform the calculation of the model to determine the prediction\n",
    "        x = self.linear1(x)\n",
    "        x = self.act_fn(x)\n",
    "        x = self.linear2(x)\n",
    "        return x"
   ]
  },
  {
   "cell_type": "markdown",
   "id": "d5578ce1",
   "metadata": {
    "papermill": {
     "duration": 0.154307,
     "end_time": "2021-11-16T12:40:06.318492",
     "exception": false,
     "start_time": "2021-11-16T12:40:06.164185",
     "status": "completed"
    },
    "tags": []
   },
   "source": [
    "For the examples in this notebook, we will use a tiny neural network with two input neurons and four hidden neurons. As we perform binary classification, we will use a single output neuron. Note that we do not apply a sigmoid on the output yet. This is because other functions, especially the loss, are more efficient and precise to calculate on the original outputs instead of the sigmoid output. We will discuss the detailed reason later."
   ]
  },
  {
   "cell_type": "code",
   "execution_count": 38,
   "id": "177acd81",
   "metadata": {
    "execution": {
     "iopub.execute_input": "2021-11-16T12:40:06.625505Z",
     "iopub.status.busy": "2021-11-16T12:40:06.624261Z",
     "iopub.status.idle": "2021-11-16T12:40:06.629924Z",
     "shell.execute_reply": "2021-11-16T12:40:06.630495Z",
     "shell.execute_reply.started": "2021-11-16T12:10:27.681078Z"
    },
    "papermill": {
     "duration": 0.155669,
     "end_time": "2021-11-16T12:40:06.630666",
     "exception": false,
     "start_time": "2021-11-16T12:40:06.474997",
     "status": "completed"
    },
    "tags": []
   },
   "outputs": [
    {
     "name": "stdout",
     "output_type": "stream",
     "text": [
      "SimpleClassifier(\n",
      "  (linear1): Linear(in_features=2, out_features=4, bias=True)\n",
      "  (act_fn): Tanh()\n",
      "  (linear2): Linear(in_features=4, out_features=1, bias=True)\n",
      ")\n"
     ]
    }
   ],
   "source": [
    "model = SimpleClassifier(num_inputs=2, num_hidden=4, num_outputs=1)\n",
    "\n",
    "# Printing a module shows all its submodules\n",
    "print(model)"
   ]
  },
  {
   "cell_type": "markdown",
   "id": "7ad56aed",
   "metadata": {
    "papermill": {
     "duration": 0.093883,
     "end_time": "2021-11-16T12:40:06.818547",
     "exception": false,
     "start_time": "2021-11-16T12:40:06.724664",
     "status": "completed"
    },
    "tags": []
   },
   "source": [
    "Printing the model lists all submodules it contains. The parameters of a module can be obtained by using its `parameters()` functions, or `named_parameters()` to get a name to each parameter object. For our small neural network, we have the following parameters:"
   ]
  },
  {
   "cell_type": "code",
   "execution_count": 39,
   "id": "bf72706c",
   "metadata": {
    "execution": {
     "iopub.execute_input": "2021-11-16T12:40:07.012036Z",
     "iopub.status.busy": "2021-11-16T12:40:07.011093Z",
     "iopub.status.idle": "2021-11-16T12:40:07.014986Z",
     "shell.execute_reply": "2021-11-16T12:40:07.015629Z",
     "shell.execute_reply.started": "2021-11-16T12:10:27.699035Z"
    },
    "papermill": {
     "duration": 0.103072,
     "end_time": "2021-11-16T12:40:07.015772",
     "exception": false,
     "start_time": "2021-11-16T12:40:06.912700",
     "status": "completed"
    },
    "tags": []
   },
   "outputs": [
    {
     "name": "stdout",
     "output_type": "stream",
     "text": [
      "Parameter linear1.weight, shape torch.Size([4, 2])\n",
      "Parameter linear1.bias, shape torch.Size([4])\n",
      "Parameter linear2.weight, shape torch.Size([1, 4])\n",
      "Parameter linear2.bias, shape torch.Size([1])\n"
     ]
    }
   ],
   "source": [
    "for name, param in model.named_parameters():\n",
    "    print(f\"Parameter {name}, shape {param.shape}\")"
   ]
  },
  {
   "cell_type": "markdown",
   "id": "78b15f07",
   "metadata": {
    "papermill": {
     "duration": 0.099493,
     "end_time": "2021-11-16T12:40:07.210517",
     "exception": false,
     "start_time": "2021-11-16T12:40:07.111024",
     "status": "completed"
    },
    "tags": []
   },
   "source": [
    "Each linear layer has a weight matrix of the shape `[output, input]`, and a bias of the shape `[output]`. The tanh activation function does not have any parameters. Note that parameters are only registered for `nn.Module` objects that are direct object attributes, i.e. `self.a = ...`. If you define a list of modules, the parameters of those are not registered for the outer module and can cause some issues when you try to optimize your module. There are alternatives, like `nn.ModuleList`, `nn.ModuleDict` and `nn.Sequential`, that allow you to have different data structures of modules. We will use them in a few later tutorials and explain them there. "
   ]
  },
  {
   "cell_type": "markdown",
   "id": "b0b9c65d",
   "metadata": {
    "papermill": {
     "duration": 0.095539,
     "end_time": "2021-11-16T12:40:07.401519",
     "exception": false,
     "start_time": "2021-11-16T12:40:07.305980",
     "status": "completed"
    },
    "tags": []
   },
   "source": [
    "### Data\n",
    "\n",
    "PyTorch also provides a few functionalities to load the training and test data efficiently, summarized in the package `torch.utils.data`."
   ]
  },
  {
   "cell_type": "code",
   "execution_count": 41,
   "id": "2413fa65",
   "metadata": {
    "execution": {
     "iopub.execute_input": "2021-11-16T12:40:07.603095Z",
     "iopub.status.busy": "2021-11-16T12:40:07.602117Z",
     "iopub.status.idle": "2021-11-16T12:40:07.604970Z",
     "shell.execute_reply": "2021-11-16T12:40:07.605477Z",
     "shell.execute_reply.started": "2021-11-16T12:10:27.708061Z"
    },
    "papermill": {
     "duration": 0.105527,
     "end_time": "2021-11-16T12:40:07.605647",
     "exception": false,
     "start_time": "2021-11-16T12:40:07.500120",
     "status": "completed"
    },
    "tags": []
   },
   "outputs": [],
   "source": [
    "import torch.utils.data as data"
   ]
  },
  {
   "cell_type": "markdown",
   "id": "52f01e98",
   "metadata": {
    "papermill": {
     "duration": 0.095073,
     "end_time": "2021-11-16T12:40:07.800910",
     "exception": false,
     "start_time": "2021-11-16T12:40:07.705837",
     "status": "completed"
    },
    "tags": []
   },
   "source": [
    "The data package defines two classes which are the standard interface for handling data in PyTorch: `data.Dataset`, and `data.DataLoader`. The dataset class provides an uniform interface to access the training/test data, while the data loader makes sure to efficiently load and stack the data points from the dataset into batches during training."
   ]
  },
  {
   "cell_type": "markdown",
   "id": "468efc8d",
   "metadata": {
    "papermill": {
     "duration": 0.094591,
     "end_time": "2021-11-16T12:40:07.992424",
     "exception": false,
     "start_time": "2021-11-16T12:40:07.897833",
     "status": "completed"
    },
    "tags": []
   },
   "source": [
    "#### The dataset class\n",
    "\n",
    "The dataset class summarizes the basic functionality of a dataset in a natural way. To define a dataset in PyTorch, we simply specify two functions: `__getitem__`, and `__len__`. The get-item function has to return the $i$-th data point in the dataset, while the len function returns the size of the dataset. For the XOR dataset, we can define the dataset class as follows:"
   ]
  },
  {
   "cell_type": "code",
   "execution_count": 42,
   "id": "b481451c",
   "metadata": {
    "execution": {
     "iopub.execute_input": "2021-11-16T12:40:08.197120Z",
     "iopub.status.busy": "2021-11-16T12:40:08.195908Z",
     "iopub.status.idle": "2021-11-16T12:40:08.198807Z",
     "shell.execute_reply": "2021-11-16T12:40:08.199392Z",
     "shell.execute_reply.started": "2021-11-16T12:10:27.715212Z"
    },
    "papermill": {
     "duration": 0.111926,
     "end_time": "2021-11-16T12:40:08.199595",
     "exception": false,
     "start_time": "2021-11-16T12:40:08.087669",
     "status": "completed"
    },
    "tags": []
   },
   "outputs": [],
   "source": [
    "class XORDataset(data.Dataset):\n",
    "\n",
    "    def __init__(self, size, std=0.1):\n",
    "        \"\"\"\n",
    "        Inputs:\n",
    "            size - Number of data points we want to generate\n",
    "            std - Standard deviation of the noise (see generate_continuous_xor function)\n",
    "        \"\"\"\n",
    "        super().__init__()\n",
    "        self.size = size\n",
    "        self.std = std\n",
    "        self.generate_continuous_xor()\n",
    "\n",
    "    def generate_continuous_xor(self):\n",
    "        \n",
    "        # Each data point in the XOR dataset has two variables, x and y, that can be either 0 or 1\n",
    "        # The label is their XOR combination, i.e. 1 if only x or only y is 1 while the other is 0.\n",
    "        # If x=y, the label is 0.\n",
    "        data = torch.randint(low=0, high=2, size=(self.size, 2), dtype=torch.float32)\n",
    "        label = (data.sum(dim=1) == 1).to(torch.long)\n",
    "        \n",
    "        # To make it slightly more challenging, we add a bit of gaussian noise to the data points.\n",
    "        data += self.std * torch.randn(data.shape)\n",
    "\n",
    "        self.data = data\n",
    "        self.label = label\n",
    "\n",
    "    def __len__(self):\n",
    "        \n",
    "        # Number of data point we have. Alternatively self.data.shape[0], or self.label.shape[0]\n",
    "        return self.size\n",
    "\n",
    "    def __getitem__(self, idx):\n",
    "        \n",
    "        # Return the idx-th data point of the dataset\n",
    "        # If we have multiple things to return (data point and label), we can return them as tuple\n",
    "        data_point = self.data[idx]\n",
    "        data_label = self.label[idx]\n",
    "        \n",
    "        return data_point, data_label"
   ]
  },
  {
   "cell_type": "markdown",
   "id": "8c03ff2d",
   "metadata": {
    "papermill": {
     "duration": 0.096884,
     "end_time": "2021-11-16T12:40:08.391207",
     "exception": false,
     "start_time": "2021-11-16T12:40:08.294323",
     "status": "completed"
    },
    "tags": []
   },
   "source": [
    "Let's try to create such a dataset and inspect it:"
   ]
  },
  {
   "cell_type": "code",
   "execution_count": 43,
   "id": "a2dddac6",
   "metadata": {
    "execution": {
     "iopub.execute_input": "2021-11-16T12:40:08.595045Z",
     "iopub.status.busy": "2021-11-16T12:40:08.594200Z",
     "iopub.status.idle": "2021-11-16T12:40:08.604531Z",
     "shell.execute_reply": "2021-11-16T12:40:08.605095Z",
     "shell.execute_reply.started": "2021-11-16T12:10:27.730107Z"
    },
    "papermill": {
     "duration": 0.11373,
     "end_time": "2021-11-16T12:40:08.605286",
     "exception": false,
     "start_time": "2021-11-16T12:40:08.491556",
     "status": "completed"
    },
    "tags": []
   },
   "outputs": [
    {
     "name": "stdout",
     "output_type": "stream",
     "text": [
      "Size of dataset: 200\n",
      "Data point 0: (tensor([0.0095, 0.9634]), tensor(1))\n"
     ]
    }
   ],
   "source": [
    "dataset = XORDataset(size=200)\n",
    "print(\"Size of dataset:\", len(dataset))\n",
    "print(\"Data point 0:\", dataset[0])"
   ]
  },
  {
   "cell_type": "markdown",
   "id": "1047923c",
   "metadata": {
    "papermill": {
     "duration": 0.095289,
     "end_time": "2021-11-16T12:40:08.795436",
     "exception": false,
     "start_time": "2021-11-16T12:40:08.700147",
     "status": "completed"
    },
    "tags": []
   },
   "source": [
    "To better relate to the dataset, we visualize the samples below. "
   ]
  },
  {
   "cell_type": "code",
   "execution_count": 46,
   "id": "eb37723f",
   "metadata": {
    "execution": {
     "iopub.execute_input": "2021-11-16T12:40:08.992934Z",
     "iopub.status.busy": "2021-11-16T12:40:08.988246Z",
     "iopub.status.idle": "2021-11-16T12:40:08.995967Z",
     "shell.execute_reply": "2021-11-16T12:40:08.995474Z",
     "shell.execute_reply.started": "2021-11-16T12:10:27.746651Z"
    },
    "papermill": {
     "duration": 0.105936,
     "end_time": "2021-11-16T12:40:08.996084",
     "exception": false,
     "start_time": "2021-11-16T12:40:08.890148",
     "status": "completed"
    },
    "tags": []
   },
   "outputs": [],
   "source": [
    "def visualize_samples(data, label):\n",
    "    if isinstance(data, torch.Tensor):\n",
    "        data = data.cpu().numpy()\n",
    "        \n",
    "    if isinstance(label, torch.Tensor):\n",
    "        label = label.cpu().numpy()\n",
    "    \n",
    "    data_0 = data[label == 0]\n",
    "    data_1 = data[label == 1]\n",
    "    \n",
    "    plt.figure(figsize=(6, 6))\n",
    "    plt.scatter(data_0[:,0], data_0[:,1], edgecolor=\"#333\", label=\"Class 0\")\n",
    "    plt.scatter(data_1[:,0], data_1[:,1], edgecolor=\"#333\", label=\"Class 1\")\n",
    "    plt.title(\"Dataset samples\")\n",
    "    plt.ylabel(r\"$x_2$\")\n",
    "    plt.xlabel(r\"$x_1$\")\n",
    "    plt.legend()"
   ]
  },
  {
   "cell_type": "code",
   "execution_count": 47,
   "id": "f90be015",
   "metadata": {
    "execution": {
     "iopub.execute_input": "2021-11-16T12:40:09.213116Z",
     "iopub.status.busy": "2021-11-16T12:40:09.195677Z",
     "iopub.status.idle": "2021-11-16T12:40:09.723051Z",
     "shell.execute_reply": "2021-11-16T12:40:09.722470Z",
     "shell.execute_reply.started": "2021-11-16T12:10:27.756259Z"
    },
    "papermill": {
     "duration": 0.62976,
     "end_time": "2021-11-16T12:40:09.723208",
     "exception": false,
     "start_time": "2021-11-16T12:40:09.093448",
     "status": "completed"
    },
    "tags": []
   },
   "outputs": [
    {
     "data": {
      "image/png": "[encoded data removed]",
      "text/plain": [
       "<Figure size 432x432 with 1 Axes>"
      ]
     },
     "metadata": {
      "needs_background": "light"
     },
     "output_type": "display_data"
    }
   ],
   "source": [
    "visualize_samples(dataset.data, dataset.label)\n",
    "plt.show()"
   ]
  },
  {
   "cell_type": "markdown",
   "id": "812e98f3",
   "metadata": {
    "papermill": {
     "duration": 0.096892,
     "end_time": "2021-11-16T12:40:09.918617",
     "exception": false,
     "start_time": "2021-11-16T12:40:09.821725",
     "status": "completed"
    },
    "tags": []
   },
   "source": [
    "#### The data loader class\n",
    "\n",
    "The class `torch.utils.data.DataLoader` represents a Python iterable over a dataset with support for automatic batching, multi-process data loading and many more features. The data loader communicates with the dataset using the function `__getitem__`, and stacks its outputs as tensors over the first dimension to form a batch.\n",
    "In contrast to the dataset class, we usually don't have to define our own data loader class, but can just create an object of it with the dataset as input. Additionally, we can configure our data loader with the following input arguments (only a selection, see full list [here](https://pytorch.org/docs/stable/data.html#torch.utils.data.DataLoader)):\n",
    "\n",
    "| | |\n",
    "| :--- | :--- |\n",
    "| `batch_size` | Number of samples to stack per batch |\n",
    "| `shuffle` | If True, the data is returned in a random order. This is important during training for introducing stochasticity.  |\n",
    "| `num_workers` | Number of subprocesses to use for data loading. The default, 0, means that the data will be loaded in the main process which can slow down training for datasets where loading a data point takes a considerable amount of time (e.g. large images). More workers are recommended for those, but can cause issues on Windows computers. For tiny datasets as ours, 0 workers are usually faster. |\n",
    "| `pin_memory` | If True, the data loader will copy Tensors into CUDA pinned memory before returning them. This can save some time for large data points on GPUs. Usually a good practice to use for a training set, but not necessarily for validation and test to save memory on the GPU. |\n",
    "| `drop_last` | If True, the last batch is dropped in case it is smaller than the specified batch size. This occurs when the dataset size is not a multiple of the batch size. Only potentially helpful during training to keep a consistent batch size. |\n",
    "\n",
    "\n",
    "Let's create a simple data loader below:"
   ]
  },
  {
   "cell_type": "code",
   "execution_count": 48,
   "id": "20e62ad0",
   "metadata": {
    "execution": {
     "iopub.execute_input": "2021-11-16T12:40:10.117454Z",
     "iopub.status.busy": "2021-11-16T12:40:10.114341Z",
     "iopub.status.idle": "2021-11-16T12:40:10.120429Z",
     "shell.execute_reply": "2021-11-16T12:40:10.120985Z",
     "shell.execute_reply.started": "2021-11-16T12:10:28.221572Z"
    },
    "papermill": {
     "duration": 0.107043,
     "end_time": "2021-11-16T12:40:10.121151",
     "exception": false,
     "start_time": "2021-11-16T12:40:10.014108",
     "status": "completed"
    },
    "tags": []
   },
   "outputs": [],
   "source": [
    "data_loader = data.DataLoader(dataset, batch_size=8, shuffle=True)"
   ]
  },
  {
   "cell_type": "code",
   "execution_count": 49,
   "id": "cc534c94",
   "metadata": {
    "execution": {
     "iopub.execute_input": "2021-11-16T12:40:10.320644Z",
     "iopub.status.busy": "2021-11-16T12:40:10.319564Z",
     "iopub.status.idle": "2021-11-16T12:40:10.334584Z",
     "shell.execute_reply": "2021-11-16T12:40:10.335151Z",
     "shell.execute_reply.started": "2021-11-16T12:10:28.227650Z"
    },
    "papermill": {
     "duration": 0.116192,
     "end_time": "2021-11-16T12:40:10.335351",
     "exception": false,
     "start_time": "2021-11-16T12:40:10.219159",
     "status": "completed"
    },
    "tags": []
   },
   "outputs": [
    {
     "name": "stdout",
     "output_type": "stream",
     "text": [
      "Data inputs torch.Size([8, 2]) \n",
      " tensor([[ 0.0899, -0.0134],\n",
      "        [ 0.9836,  1.1339],\n",
      "        [ 1.0914,  0.1010],\n",
      "        [-0.0238,  0.9899],\n",
      "        [ 0.8485,  0.1852],\n",
      "        [ 0.9325,  0.9190],\n",
      "        [ 0.9288, -0.0153],\n",
      "        [ 0.1755,  1.0068]])\n",
      "\n",
      "Data labels torch.Size([8]) \n",
      " tensor([0, 0, 1, 1, 1, 0, 1, 1])\n"
     ]
    }
   ],
   "source": [
    "# next(iter(...)) catches the first batch of the data loader\n",
    "# If shuffle is True, this will return a different batch every time we run this cell\n",
    "# For iterating over the whole dataset, we can simple use \"for batch in data_loader: ...\"\n",
    "data_inputs, data_labels = next(iter(data_loader))\n",
    "\n",
    "# The shape of the outputs are [batch_size, d_1,...,d_N] where d_1,...,d_N are the \n",
    "# dimensions of the data point returned from the dataset class\n",
    "print(\"Data inputs\", data_inputs.shape, \"\\n\", data_inputs)\n",
    "print(\"\\nData labels\", data_labels.shape, \"\\n\", data_labels)"
   ]
  },
  {
   "cell_type": "markdown",
   "id": "7f488f94",
   "metadata": {
    "papermill": {
     "duration": 0.098182,
     "end_time": "2021-11-16T12:40:10.532543",
     "exception": false,
     "start_time": "2021-11-16T12:40:10.434361",
     "status": "completed"
    },
    "tags": []
   },
   "source": [
    "### Optimization\n",
    "\n",
    "After defining the model and the dataset, it is time to prepare the optimization of the model. During training, we will perform the following steps:\n",
    "\n",
    "1. Get a batch from the data loader\n",
    "2. Obtain the predictions from the model for the batch\n",
    "3. Calculate the loss based on the difference between predictions and labels\n",
    "4. Backpropagation: calculate the gradients for every parameter with respect to the loss\n",
    "5. Update the parameters of the model in the direction of the gradients\n",
    "\n",
    "We have seen how we can do step 1, 2 and 4 in PyTorch. Now, we will look at step 3 and 5."
   ]
  },
  {
   "cell_type": "markdown",
   "id": "eb8b5aac",
   "metadata": {
    "papermill": {
     "duration": 0.096183,
     "end_time": "2021-11-16T12:40:10.740714",
     "exception": false,
     "start_time": "2021-11-16T12:40:10.644531",
     "status": "completed"
    },
    "tags": []
   },
   "source": [
    "#### Loss modules\n",
    "\n",
    "We can calculate the loss for a batch by simply performing a few tensor operations as those are automatically added to the computation graph. For instance, for binary classification, we can use Binary Cross Entropy (BCE) which is defined as follows:\n",
    "\n",
    "$$\\mathcal{L}_{BCE} = -\\sum_i \\left[ y_i \\log s_i + (1 - y_i) \\log (1 - s_i) \\right]$$\n",
    "\n",
    "where $y$ are our labels, and $s$ our predictions, both in the range of $[0,1]$. However, PyTorch already provides a list of predefined loss functions which we can use (see [here](https://pytorch.org/docs/stable/nn.html#loss-functions) for a full list). For instance, for BCE, PyTorch has two modules: `nn.BCELoss()`, `nn.BCEWithLogitsLoss()`. While `nn.BCELoss` expects the inputs $s$ to be in the range $[0,1]$, i.e. the output of a sigmoid, `nn.BCEWithLogitsLoss` combines a sigmoid layer and the BCE loss in a single class. This version is numerically more stable than using a plain Sigmoid followed by a BCE loss because of the logarithms applied in the loss function. Hence, it is adviced to use loss functions applied on \"logits\" where possible (remember to not apply a sigmoid on the output of the model in this case!). For our model defined above, we therefore use the module `nn.BCEWithLogitsLoss`. "
   ]
  },
  {
   "cell_type": "code",
   "execution_count": 47,
   "id": "9a9e2192",
   "metadata": {
    "execution": {
     "iopub.execute_input": "2021-11-16T12:40:10.938105Z",
     "iopub.status.busy": "2021-11-16T12:40:10.937010Z",
     "iopub.status.idle": "2021-11-16T12:40:10.940779Z",
     "shell.execute_reply": "2021-11-16T12:40:10.940055Z",
     "shell.execute_reply.started": "2021-11-16T12:10:28.247247Z"
    },
    "papermill": {
     "duration": 0.10382,
     "end_time": "2021-11-16T12:40:10.940905",
     "exception": false,
     "start_time": "2021-11-16T12:40:10.837085",
     "status": "completed"
    },
    "tags": []
   },
   "outputs": [],
   "source": [
    "loss_module = nn.BCEWithLogitsLoss()"
   ]
  },
  {
   "cell_type": "markdown",
   "id": "bdb9d058",
   "metadata": {
    "papermill": {
     "duration": 0.098627,
     "end_time": "2021-11-16T12:40:11.136706",
     "exception": false,
     "start_time": "2021-11-16T12:40:11.038079",
     "status": "completed"
    },
    "tags": []
   },
   "source": [
    "#### Stochastic Gradient Descent\n",
    "\n",
    "For updating the parameters, PyTorch provides the package `torch.optim` that has most popular optimizers implemented. We will discuss the specific optimizers and their differences later in the course, but will for now use the simplest of them: `torch.optim.SGD`. Stochastic Gradient Descent updates parameters by multiplying the gradients with a small constant, called **learning rate**, and subtracting those from the parameters (hence minimizing the loss). Therefore, we slowly move towards the direction of minimizing the loss. A good default value of the learning rate for a small network as ours is 0.1. "
   ]
  },
  {
   "cell_type": "code",
   "execution_count": 48,
   "id": "521d8484",
   "metadata": {
    "execution": {
     "iopub.execute_input": "2021-11-16T12:40:11.337951Z",
     "iopub.status.busy": "2021-11-16T12:40:11.336871Z",
     "iopub.status.idle": "2021-11-16T12:40:11.340028Z",
     "shell.execute_reply": "2021-11-16T12:40:11.340547Z",
     "shell.execute_reply.started": "2021-11-16T12:10:28.253522Z"
    },
    "papermill": {
     "duration": 0.105716,
     "end_time": "2021-11-16T12:40:11.340730",
     "exception": false,
     "start_time": "2021-11-16T12:40:11.235014",
     "status": "completed"
    },
    "tags": []
   },
   "outputs": [],
   "source": [
    "# Input to the optimizer are the parameters of the model: model.parameters()\n",
    "optimizer = torch.optim.SGD(model.parameters(), lr=0.1)"
   ]
  },
  {
   "cell_type": "markdown",
   "id": "ead91fcd",
   "metadata": {
    "papermill": {
     "duration": 0.094865,
     "end_time": "2021-11-16T12:40:11.534021",
     "exception": false,
     "start_time": "2021-11-16T12:40:11.439156",
     "status": "completed"
    },
    "tags": []
   },
   "source": [
    "The optimizer provides two useful functions: `optimizer.step()`, and `optimizer.zero_grad()`. The step function updates the parameters based on the gradients as explained above. The function `optimizer.zero_grad()` sets the gradients of all parameters to zero. While this function seems less relevant at first, it is a crucial pre-step before performing backpropagation. If we would call the `backward` function on the loss while the parameter gradients are non-zero from the previous batch, the new gradients would actually be added to the previous ones instead of overwriting them. This is done because a parameter might occur multiple times in a computation graph, and we need to sum the gradients in this case instead of replacing them. Hence, remember to call `optimizer.zero_grad()` before calculating the gradients of a batch."
   ]
  },
  {
   "cell_type": "markdown",
   "id": "0390d454",
   "metadata": {
    "papermill": {
     "duration": 0.096303,
     "end_time": "2021-11-16T12:40:11.727100",
     "exception": false,
     "start_time": "2021-11-16T12:40:11.630797",
     "status": "completed"
    },
    "tags": []
   },
   "source": [
    "### Training\n",
    "\n",
    "Finally, we are ready to train our model. As a first step, we create a slightly larger dataset and specify a data loader with a larger batch size. "
   ]
  },
  {
   "cell_type": "code",
   "execution_count": 49,
   "id": "523332b6",
   "metadata": {
    "execution": {
     "iopub.execute_input": "2021-11-16T12:40:11.926007Z",
     "iopub.status.busy": "2021-11-16T12:40:11.924935Z",
     "iopub.status.idle": "2021-11-16T12:40:11.929192Z",
     "shell.execute_reply": "2021-11-16T12:40:11.928534Z",
     "shell.execute_reply.started": "2021-11-16T12:10:28.261354Z"
    },
    "papermill": {
     "duration": 0.104605,
     "end_time": "2021-11-16T12:40:11.929357",
     "exception": false,
     "start_time": "2021-11-16T12:40:11.824752",
     "status": "completed"
    },
    "tags": []
   },
   "outputs": [],
   "source": [
    "train_dataset = XORDataset(size=2500)\n",
    "train_data_loader = data.DataLoader(train_dataset, batch_size=128, shuffle=True)"
   ]
  },
  {
   "cell_type": "markdown",
   "id": "bc782fee",
   "metadata": {
    "papermill": {
     "duration": 0.096782,
     "end_time": "2021-11-16T12:40:12.126067",
     "exception": false,
     "start_time": "2021-11-16T12:40:12.029285",
     "status": "completed"
    },
    "tags": []
   },
   "source": [
    "Now, we can write a small training function. Remember our five steps: load a batch, obtain the predictions, calculate the loss, backpropagate, and update. Additionally, we have to push all data and model parameters to the device of our choice (GPU if available). For the tiny neural network we have, communicating the data to the GPU actually takes much more time than we could save from running the operation on GPU. For large networks, the communication time is significantly smaller than the actual runtime making a GPU crucial in these cases. Still, to practice, we will push the data to GPU here. "
   ]
  },
  {
   "cell_type": "code",
   "execution_count": 50,
   "id": "35871d12",
   "metadata": {
    "execution": {
     "iopub.execute_input": "2021-11-16T12:40:12.327949Z",
     "iopub.status.busy": "2021-11-16T12:40:12.327075Z",
     "iopub.status.idle": "2021-11-16T12:40:12.335932Z",
     "shell.execute_reply": "2021-11-16T12:40:12.335451Z",
     "shell.execute_reply.started": "2021-11-16T12:10:28.269346Z"
    },
    "papermill": {
     "duration": 0.111239,
     "end_time": "2021-11-16T12:40:12.336059",
     "exception": false,
     "start_time": "2021-11-16T12:40:12.224820",
     "status": "completed"
    },
    "tags": []
   },
   "outputs": [
    {
     "data": {
      "text/plain": [
       "SimpleClassifier(\n",
       "  (linear1): Linear(in_features=2, out_features=4, bias=True)\n",
       "  (act_fn): Tanh()\n",
       "  (linear2): Linear(in_features=4, out_features=1, bias=True)\n",
       ")"
      ]
     },
     "execution_count": 50,
     "metadata": {},
     "output_type": "execute_result"
    }
   ],
   "source": [
    "# Push model to device. Has to be only done once\n",
    "model.to(device)"
   ]
  },
  {
   "cell_type": "markdown",
   "id": "c568eb4c",
   "metadata": {
    "papermill": {
     "duration": 0.097758,
     "end_time": "2021-11-16T12:40:12.529779",
     "exception": false,
     "start_time": "2021-11-16T12:40:12.432021",
     "status": "completed"
    },
    "tags": []
   },
   "source": [
    "In addition, we set our model to training mode. This is done by calling `model.train()`. There exist certain modules that need to perform a different forward step during training than during testing (e.g. BatchNorm and Dropout), and we can switch between them using `model.train()` and `model.eval()`."
   ]
  },
  {
   "cell_type": "code",
   "execution_count": 51,
   "id": "b1887607",
   "metadata": {
    "execution": {
     "iopub.execute_input": "2021-11-16T12:40:12.734103Z",
     "iopub.status.busy": "2021-11-16T12:40:12.733070Z",
     "iopub.status.idle": "2021-11-16T12:40:12.736244Z",
     "shell.execute_reply": "2021-11-16T12:40:12.735722Z",
     "shell.execute_reply.started": "2021-11-16T12:10:28.281313Z"
    },
    "papermill": {
     "duration": 0.10783,
     "end_time": "2021-11-16T12:40:12.736370",
     "exception": false,
     "start_time": "2021-11-16T12:40:12.628540",
     "status": "completed"
    },
    "tags": []
   },
   "outputs": [],
   "source": [
    "def train_model(model, optimizer, data_loader, loss_module, num_epochs=100):\n",
    "    \n",
    "    # Set model to train mode\n",
    "    model.train() \n",
    "    \n",
    "    # Training loop\n",
    "    for epoch in tqdm(range(num_epochs)):\n",
    "        for data_inputs, data_labels in data_loader:\n",
    "            \n",
    "            ## Step 1: Move input data to device (only strictly necessary if we use GPU)\n",
    "            data_inputs = data_inputs.to(device)\n",
    "            data_labels = data_labels.to(device)\n",
    "            \n",
    "            ## Step 2: Run the model on the input data\n",
    "            preds = model(data_inputs)\n",
    "            preds = preds.squeeze(dim=1) # Output shape is [Batch size, 1], but we want [Batch size]\n",
    "            \n",
    "            ## Step 3: Calculate the loss\n",
    "            loss = loss_module(preds, data_labels.float())\n",
    "            \n",
    "            ## Step 4: Perform backpropagation\n",
    "            # Before calculating the gradients, we need to ensure that they are all zero. \n",
    "            # The gradients would not be overwritten, but actually added to the existing ones.\n",
    "            optimizer.zero_grad() \n",
    "            loss.backward()\n",
    "            \n",
    "            ## Step 5: Update the parameters\n",
    "            optimizer.step()"
   ]
  },
  {
   "cell_type": "code",
   "execution_count": 52,
   "id": "84e24a01",
   "metadata": {
    "execution": {
     "iopub.execute_input": "2021-11-16T12:40:12.934242Z",
     "iopub.status.busy": "2021-11-16T12:40:12.933101Z",
     "iopub.status.idle": "2021-11-16T12:40:17.562581Z",
     "shell.execute_reply": "2021-11-16T12:40:17.561451Z",
     "shell.execute_reply.started": "2021-11-16T12:10:28.289712Z"
    },
    "papermill": {
     "duration": 4.730903,
     "end_time": "2021-11-16T12:40:17.562769",
     "exception": false,
     "start_time": "2021-11-16T12:40:12.831866",
     "status": "completed"
    },
    "tags": []
   },
   "outputs": [
    {
     "data": {
      "application/vnd.jupyter.widget-view+json": {
       "model_id": "dbb2e7a61d38460b85bdec81353e1c26",
       "version_major": 2,
       "version_minor": 0
      },
      "text/plain": [
       "  0%|          | 0/100 [00:00<?, ?it/s]"
      ]
     },
     "metadata": {},
     "output_type": "display_data"
    }
   ],
   "source": [
    "train_model(model, optimizer, train_data_loader, loss_module)"
   ]
  },
  {
   "cell_type": "markdown",
   "id": "f7f6e441",
   "metadata": {
    "papermill": {
     "duration": 0.100211,
     "end_time": "2021-11-16T12:40:17.761934",
     "exception": false,
     "start_time": "2021-11-16T12:40:17.661723",
     "status": "completed"
    },
    "tags": []
   },
   "source": [
    "#### Saving a model\n",
    "\n",
    "After finish training a model, we save the model to disk so that we can load the same weights at a later time. For this, we extract the so-called `state_dict` from the model which contains all learnable parameters. For our simple model, the state dict contains the following entries:"
   ]
  },
  {
   "cell_type": "code",
   "execution_count": 53,
   "id": "7dca9d7d",
   "metadata": {
    "execution": {
     "iopub.execute_input": "2021-11-16T12:40:17.964356Z",
     "iopub.status.busy": "2021-11-16T12:40:17.963704Z",
     "iopub.status.idle": "2021-11-16T12:40:17.982983Z",
     "shell.execute_reply": "2021-11-16T12:40:17.982446Z",
     "shell.execute_reply.started": "2021-11-16T12:10:31.547734Z"
    },
    "papermill": {
     "duration": 0.122997,
     "end_time": "2021-11-16T12:40:17.983109",
     "exception": false,
     "start_time": "2021-11-16T12:40:17.860112",
     "status": "completed"
    },
    "tags": []
   },
   "outputs": [
    {
     "name": "stdout",
     "output_type": "stream",
     "text": [
      "OrderedDict([('linear1.weight', tensor([[-2.6034, -3.3292],\n",
      "        [ 1.9774, -2.4076],\n",
      "        [-2.5968, -1.5908],\n",
      "        [-0.5717, -0.8101]], device='cuda:0')), ('linear1.bias', tensor([ 1.4459, -1.3992,  2.9882, -0.1375], device='cuda:0')), ('linear2.weight', tensor([[-4.4623,  3.0885,  4.4030, -0.1377]], device='cuda:0')), ('linear2.bias', tensor([-1.6853], device='cuda:0'))])\n"
     ]
    }
   ],
   "source": [
    "state_dict = model.state_dict()\n",
    "print(state_dict)"
   ]
  },
  {
   "cell_type": "markdown",
   "id": "eb1af27f",
   "metadata": {
    "papermill": {
     "duration": 0.098305,
     "end_time": "2021-11-16T12:40:18.179627",
     "exception": false,
     "start_time": "2021-11-16T12:40:18.081322",
     "status": "completed"
    },
    "tags": []
   },
   "source": [
    "To save the state dictionary, we can use `torch.save`:"
   ]
  },
  {
   "cell_type": "code",
   "execution_count": 54,
   "id": "a24b0389",
   "metadata": {
    "execution": {
     "iopub.execute_input": "2021-11-16T12:40:18.390060Z",
     "iopub.status.busy": "2021-11-16T12:40:18.385094Z",
     "iopub.status.idle": "2021-11-16T12:40:18.396193Z",
     "shell.execute_reply": "2021-11-16T12:40:18.396792Z",
     "shell.execute_reply.started": "2021-11-16T12:10:31.567284Z"
    },
    "papermill": {
     "duration": 0.117646,
     "end_time": "2021-11-16T12:40:18.396971",
     "exception": false,
     "start_time": "2021-11-16T12:40:18.279325",
     "status": "completed"
    },
    "tags": []
   },
   "outputs": [],
   "source": [
    "# torch.save(object, filename). For the filename, any extension can be used\n",
    "torch.save(state_dict, \"our_model.tar\")"
   ]
  },
  {
   "cell_type": "markdown",
   "id": "90d35e73",
   "metadata": {
    "papermill": {
     "duration": 0.103954,
     "end_time": "2021-11-16T12:40:18.606898",
     "exception": false,
     "start_time": "2021-11-16T12:40:18.502944",
     "status": "completed"
    },
    "tags": []
   },
   "source": [
    "To load a model from a state dict, we use the function `torch.load` to load the state dict from the disk, and the module function `load_state_dict` to overwrite our parameters with the new values:"
   ]
  },
  {
   "cell_type": "code",
   "execution_count": 55,
   "id": "e19757fb",
   "metadata": {
    "execution": {
     "iopub.execute_input": "2021-11-16T12:40:18.821240Z",
     "iopub.status.busy": "2021-11-16T12:40:18.820551Z",
     "iopub.status.idle": "2021-11-16T12:40:18.835000Z",
     "shell.execute_reply": "2021-11-16T12:40:18.834470Z",
     "shell.execute_reply.started": "2021-11-16T12:10:31.579639Z"
    },
    "papermill": {
     "duration": 0.123424,
     "end_time": "2021-11-16T12:40:18.835130",
     "exception": false,
     "start_time": "2021-11-16T12:40:18.711706",
     "status": "completed"
    },
    "tags": []
   },
   "outputs": [
    {
     "name": "stdout",
     "output_type": "stream",
     "text": [
      "Original model\n",
      " OrderedDict([('linear1.weight', tensor([[-2.6034, -3.3292],\n",
      "        [ 1.9774, -2.4076],\n",
      "        [-2.5968, -1.5908],\n",
      "        [-0.5717, -0.8101]], device='cuda:0')), ('linear1.bias', tensor([ 1.4459, -1.3992,  2.9882, -0.1375], device='cuda:0')), ('linear2.weight', tensor([[-4.4623,  3.0885,  4.4030, -0.1377]], device='cuda:0')), ('linear2.bias', tensor([-1.6853], device='cuda:0'))])\n",
      "\n",
      "Loaded model\n",
      " OrderedDict([('linear1.weight', tensor([[-2.6034, -3.3292],\n",
      "        [ 1.9774, -2.4076],\n",
      "        [-2.5968, -1.5908],\n",
      "        [-0.5717, -0.8101]])), ('linear1.bias', tensor([ 1.4459, -1.3992,  2.9882, -0.1375])), ('linear2.weight', tensor([[-4.4623,  3.0885,  4.4030, -0.1377]])), ('linear2.bias', tensor([-1.6853]))])\n"
     ]
    }
   ],
   "source": [
    "# Load state dict from the disk (make sure it is the same name as above)\n",
    "state_dict = torch.load(\"our_model.tar\")\n",
    "\n",
    "# Create a new model and load the state\n",
    "new_model = SimpleClassifier(num_inputs=2, num_hidden=4, num_outputs=1)\n",
    "new_model.load_state_dict(state_dict)\n",
    "\n",
    "# Verify that the parameters are the same\n",
    "print(\"Original model\\n\", model.state_dict())\n",
    "print(\"\\nLoaded model\\n\", new_model.state_dict())"
   ]
  },
  {
   "cell_type": "markdown",
   "id": "e44ff994",
   "metadata": {
    "papermill": {
     "duration": 0.09657,
     "end_time": "2021-11-16T12:40:19.029926",
     "exception": false,
     "start_time": "2021-11-16T12:40:18.933356",
     "status": "completed"
    },
    "tags": []
   },
   "source": [
    "A detailed tutorial on saving and loading models in PyTorch can be found [here](https://pytorch.org/tutorials/beginner/saving_loading_models.html)."
   ]
  },
  {
   "cell_type": "markdown",
   "id": "daa60799",
   "metadata": {
    "papermill": {
     "duration": 0.097543,
     "end_time": "2021-11-16T12:40:19.226744",
     "exception": false,
     "start_time": "2021-11-16T12:40:19.129201",
     "status": "completed"
    },
    "tags": []
   },
   "source": [
    "### Evaluation\n",
    "\n",
    "Once we have trained a model, it is time to evaluate it on a held-out test set. As our dataset consist of randomly generated data points, we need to first create a test set with a corresponding data loader."
   ]
  },
  {
   "cell_type": "code",
   "execution_count": 56,
   "id": "5ed81a05",
   "metadata": {
    "execution": {
     "iopub.execute_input": "2021-11-16T12:40:19.433190Z",
     "iopub.status.busy": "2021-11-16T12:40:19.432326Z",
     "iopub.status.idle": "2021-11-16T12:40:19.436386Z",
     "shell.execute_reply": "2021-11-16T12:40:19.435839Z",
     "shell.execute_reply.started": "2021-11-16T12:19:32.330297Z"
    },
    "papermill": {
     "duration": 0.111242,
     "end_time": "2021-11-16T12:40:19.436530",
     "exception": false,
     "start_time": "2021-11-16T12:40:19.325288",
     "status": "completed"
    },
    "tags": []
   },
   "outputs": [],
   "source": [
    "test_dataset = XORDataset(size=500)\n",
    "\n",
    "# drop_last=False -> Don't drop the last batch although it is smaller than 128\n",
    "test_data_loader = data.DataLoader(test_dataset, batch_size=128, shuffle=False, drop_last=False) "
   ]
  },
  {
   "cell_type": "markdown",
   "id": "a4a0539f",
   "metadata": {
    "papermill": {
     "duration": 0.0998,
     "end_time": "2021-11-16T12:40:19.633216",
     "exception": false,
     "start_time": "2021-11-16T12:40:19.533416",
     "status": "completed"
    },
    "tags": []
   },
   "source": [
    "As metric, we will use **accuracy**. When evaluating the model, we don't need to keep track of the computation graph as we don't intend to calculate the gradients. This reduces the required memory and speed up the model. In PyTorch, we can deactivate the computation graph using the `with torch.no_grad(): ...` context manager. Remember to additionally set the model to eval mode."
   ]
  },
  {
   "cell_type": "code",
   "execution_count": 57,
   "id": "2317ecc8",
   "metadata": {
    "execution": {
     "iopub.execute_input": "2021-11-16T12:40:19.839397Z",
     "iopub.status.busy": "2021-11-16T12:40:19.838375Z",
     "iopub.status.idle": "2021-11-16T12:40:19.841629Z",
     "shell.execute_reply": "2021-11-16T12:40:19.840962Z",
     "shell.execute_reply.started": "2021-11-16T12:21:18.480290Z"
    },
    "papermill": {
     "duration": 0.108849,
     "end_time": "2021-11-16T12:40:19.841764",
     "exception": false,
     "start_time": "2021-11-16T12:40:19.732915",
     "status": "completed"
    },
    "tags": []
   },
   "outputs": [],
   "source": [
    "def eval_model(model, data_loader):\n",
    "    model.eval() # Set model to eval mode\n",
    "    true_preds, num_preds = 0., 0.\n",
    "    \n",
    "    with torch.no_grad(): # Context manager: deactivate gradients for the ff. code\n",
    "        for data_inputs, data_labels in data_loader:\n",
    "            \n",
    "            # Determine prediction of model on dev set\n",
    "            data_inputs, data_labels = data_inputs.to(device), data_labels.to(device)\n",
    "            preds = model(data_inputs)\n",
    "            preds = preds.squeeze(dim=1)\n",
    "            preds = torch.sigmoid(preds) # Sigmoid to map predictions between 0 and 1\n",
    "            pred_labels = (preds >= 0.5).long() # Binarize predictions to 0 and 1\n",
    "            \n",
    "            # Keep records of predictions for the accuracy metric (true_preds=TP+TN, num_preds=TP+TN+FP+FN)\n",
    "            true_preds += (pred_labels == data_labels).sum()\n",
    "            num_preds += data_labels.shape[0]\n",
    "            \n",
    "    acc = true_preds / num_preds\n",
    "    print(f\"Accuracy of the model: {100.0*acc:4.2f}%\")"
   ]
  },
  {
   "cell_type": "code",
   "execution_count": 58,
   "id": "497724a8",
   "metadata": {
    "execution": {
     "iopub.execute_input": "2021-11-16T12:40:20.045292Z",
     "iopub.status.busy": "2021-11-16T12:40:20.044184Z",
     "iopub.status.idle": "2021-11-16T12:40:20.059147Z",
     "shell.execute_reply": "2021-11-16T12:40:20.058680Z",
     "shell.execute_reply.started": "2021-11-16T12:21:21.751073Z"
    },
    "papermill": {
     "duration": 0.119329,
     "end_time": "2021-11-16T12:40:20.059300",
     "exception": false,
     "start_time": "2021-11-16T12:40:19.939971",
     "status": "completed"
    },
    "tags": []
   },
   "outputs": [
    {
     "name": "stdout",
     "output_type": "stream",
     "text": [
      "Accuracy of the model: 100.00%\n"
     ]
    }
   ],
   "source": [
    "eval_model(model, test_data_loader)"
   ]
  },
  {
   "cell_type": "markdown",
   "id": "9a8209b1",
   "metadata": {
    "papermill": {
     "duration": 0.099465,
     "end_time": "2021-11-16T12:40:20.256798",
     "exception": false,
     "start_time": "2021-11-16T12:40:20.157333",
     "status": "completed"
    },
    "tags": []
   },
   "source": [
    "If we trained our model correctly, we should see a score close to 100% accuracy. However, this is only possible because of our simple task, and unfortunately, we usually don't get such high scores on test sets of more complex tasks."
   ]
  },
  {
   "cell_type": "markdown",
   "id": "39c9f58c",
   "metadata": {
    "papermill": {
     "duration": 0.09986,
     "end_time": "2021-11-16T12:40:20.454940",
     "exception": false,
     "start_time": "2021-11-16T12:40:20.355080",
     "status": "completed"
    },
    "tags": []
   },
   "source": [
    "#### Visualizing classification boundaries\n",
    "\n",
    "To visualize what our model has learned, we can perform a prediction for every data point in a range of $[-0.5, 1.5]$, and visualize the predicted class as in the sample figure at the beginning of this section. This shows where the model has created decision boundaries, and which points would be classified as $0$, and which as $1$. We therefore get a background image out of blue (class 0) and orange (class 1). The spots where the model is uncertain we will see a blurry overlap. The specific code is less relevant compared to the output figure which should hopefully show us a clear separation of classes:"
   ]
  },
  {
   "cell_type": "code",
   "execution_count": null,
   "id": "5a99120e",
   "metadata": {},
   "outputs": [],
   "source": [
    "preds = np.array([0.1, 0.2, ])"
   ]
  },
  {
   "cell_type": "code",
   "execution_count": 59,
   "id": "d5d59b21",
   "metadata": {
    "execution": {
     "iopub.execute_input": "2021-11-16T12:40:20.693743Z",
     "iopub.status.busy": "2021-11-16T12:40:20.692522Z",
     "iopub.status.idle": "2021-11-16T12:40:21.154871Z",
     "shell.execute_reply": "2021-11-16T12:40:21.155435Z",
     "shell.execute_reply.started": "2021-11-16T12:27:09.330963Z"
    },
    "papermill": {
     "duration": 0.600735,
     "end_time": "2021-11-16T12:40:21.155610",
     "exception": false,
     "start_time": "2021-11-16T12:40:20.554875",
     "status": "completed"
    },
    "tags": []
   },
   "outputs": [
    {
     "data": {
      "image/png": "[encoded data removed]",
      "text/plain": [
       "<Figure size 640x640 with 1 Axes>"
      ]
     },
     "metadata": {},
     "output_type": "display_data"
    }
   ],
   "source": [
    "@torch.no_grad() # Decorator, same effect as \"with torch.no_grad(): ...\" over the whole function. (!)\n",
    "def visualize_classification(model, data, label, figsize=(4, 4), dpi=200):\n",
    "    \n",
    "    if isinstance(data, torch.Tensor):\n",
    "        data = data.cpu().numpy()\n",
    "    \n",
    "    if isinstance(label, torch.Tensor):\n",
    "        label = label.cpu().numpy()\n",
    "    \n",
    "    data_0 = data[label == 0]\n",
    "    data_1 = data[label == 1]\n",
    "    \n",
    "    fig = plt.figure(figsize=figsize, dpi=dpi)\n",
    "    plt.scatter(data_0[:, 0], data_0[:, 1], edgecolor=\"#333\", label=\"Class 0\")\n",
    "    plt.scatter(data_1[:, 0], data_1[:, 1], edgecolor=\"#333\", label=\"Class 1\")\n",
    "    plt.title(\"Dataset samples\")\n",
    "    plt.ylabel(r\"$x_2$\")\n",
    "    plt.xlabel(r\"$x_1$\")\n",
    "    plt.legend()\n",
    "    \n",
    "    # Let's make use of a lot of operations we have learned above\n",
    "    model.to(device)\n",
    "\n",
    "    c0 = torch.Tensor(to_rgba(\"C0\")).to(device)\n",
    "    c1 = torch.Tensor(to_rgba(\"C1\")).to(device)\n",
    "    x1 = torch.arange(-0.5, 1.5, step=0.01, device=device)\n",
    "    x2 = torch.arange(-0.5, 1.5, step=0.01, device=device)\n",
    "    \n",
    "    xx1, xx2 = torch.meshgrid(x1, x2)  # Meshgrid function as in numpy\n",
    "    \n",
    "    model_inputs = torch.stack([xx1, xx2], dim=-1)\n",
    "    preds = model(model_inputs)\n",
    "    preds = torch.sigmoid(preds)\n",
    "    output_image = (1 - preds) * c0[None, None] + preds * c1[None, None]  # Specifying \"None\" in a dimension creates a new one\n",
    "    output_image = output_image.cpu().numpy()  # Convert to numpy array. This only works for tensors on CPU, hence first push to CPU\n",
    "    plt.imshow(output_image, origin='lower', extent=(-0.5, 1.5, -0.5, 1.5))\n",
    "    plt.grid(False)\n",
    "    return fig\n",
    "\n",
    "\n",
    "_ = visualize_classification(model, dataset.data, dataset.label, dpi=160, figsize=(4, 4))\n",
    "plt.show()"
   ]
  },
  {
   "cell_type": "markdown",
   "id": "8bbead08",
   "metadata": {
    "papermill": {
     "duration": 0.105207,
     "end_time": "2021-11-16T12:40:21.365896",
     "exception": false,
     "start_time": "2021-11-16T12:40:21.260689",
     "status": "completed"
    },
    "tags": []
   },
   "source": [
    "The decision boundaries might not look exactly as in the figure in the preamble of this section which can be caused by running it on CPU or a different GPU architecture. Nevertheless, the result on the accuracy metric should be the approximately the same. "
   ]
  },
  {
   "cell_type": "markdown",
   "id": "42ec6723",
   "metadata": {
    "papermill": {
     "duration": 0.102505,
     "end_time": "2021-11-16T12:40:21.775648",
     "exception": false,
     "start_time": "2021-11-16T12:40:21.673143",
     "status": "completed"
    },
    "tags": []
   },
   "source": [
    "## TensorBoard logging\n",
    "\n",
    "TensorBoard is a logging and visualization tool that is a popular choice for training deep learning models. Although initially published for TensorFlow, TensorBoard is also integrated in PyTorch allowing us to easily use it. First, let's import it below."
   ]
  },
  {
   "cell_type": "code",
   "execution_count": 60,
   "id": "cda7ba9b",
   "metadata": {
    "execution": {
     "iopub.execute_input": "2021-11-16T12:40:21.991167Z",
     "iopub.status.busy": "2021-11-16T12:40:21.990165Z",
     "iopub.status.idle": "2021-11-16T12:40:22.256783Z",
     "shell.execute_reply": "2021-11-16T12:40:22.256192Z",
     "shell.execute_reply.started": "2021-11-16T12:31:10.876779Z"
    },
    "papermill": {
     "duration": 0.374483,
     "end_time": "2021-11-16T12:40:22.256921",
     "exception": false,
     "start_time": "2021-11-16T12:40:21.882438",
     "status": "completed"
    },
    "tags": []
   },
   "outputs": [],
   "source": [
    "# Import tensorboard logger from PyTorch\n",
    "from torch.utils.tensorboard import SummaryWriter\n",
    "\n",
    "# Load tensorboard extension for Jupyter Notebook, only need to start TB in the notebook\n",
    "%load_ext tensorboard"
   ]
  },
  {
   "cell_type": "markdown",
   "id": "ec9fc08d",
   "metadata": {
    "papermill": {
     "duration": 0.103858,
     "end_time": "2021-11-16T12:40:22.463892",
     "exception": false,
     "start_time": "2021-11-16T12:40:22.360034",
     "status": "completed"
    },
    "tags": []
   },
   "source": [
    "The last line is required if you want to run TensorBoard directly in the Jupyter Notebook. Otherwise, you can start TensorBoard from the terminal.\n",
    "\n",
    "PyTorch's TensorBoard API is simple to use. We start the logging process by creating a new object, `writer = SummaryWriter(...)`, where we specify the directory in which the logging file should be saved. With this object, we can log different aspects of our model by calling functions of the style `writer.add_...`. For example, we can visualize the computation graph with the function `writer.add_graph`, or add a scalar value like the loss with `writer.add_scalar`. Let's adapt our initial training function with adding a TensorBoard logger below."
   ]
  },
  {
   "cell_type": "code",
   "execution_count": 61,
   "id": "cb1e08f7",
   "metadata": {
    "execution": {
     "iopub.execute_input": "2021-11-16T12:40:22.683303Z",
     "iopub.status.busy": "2021-11-16T12:40:22.682061Z",
     "iopub.status.idle": "2021-11-16T12:40:22.689438Z",
     "shell.execute_reply": "2021-11-16T12:40:22.690144Z",
     "shell.execute_reply.started": "2021-11-16T12:31:45.019363Z"
    },
    "papermill": {
     "duration": 0.119505,
     "end_time": "2021-11-16T12:40:22.690493",
     "exception": false,
     "start_time": "2021-11-16T12:40:22.570988",
     "status": "completed"
    },
    "tags": []
   },
   "outputs": [],
   "source": [
    "def train_model_with_logger(model, optimizer, data_loader, loss_module, val_dataset, num_epochs=100, logging_dir='runs/our_experiment'):\n",
    "    # Create TensorBoard logger\n",
    "    writer = SummaryWriter(logging_dir)\n",
    "    model_plotted = False\n",
    "    \n",
    "    # Set model to train mode\n",
    "    model.train() \n",
    "    \n",
    "    # Training loop\n",
    "    for epoch in tqdm(range(num_epochs)):\n",
    "        epoch_loss = 0.0\n",
    "        for data_inputs, data_labels in data_loader:\n",
    "            \n",
    "            ## Step 1: Move input data to device (only strictly necessary if we use GPU)\n",
    "            data_inputs = data_inputs.to(device)\n",
    "            data_labels = data_labels.to(device)\n",
    "            \n",
    "            # For the very first batch, we visualize the computation graph in TensorBoard\n",
    "            if not model_plotted:\n",
    "                writer.add_graph(model, data_inputs)\n",
    "                model_plotted = True\n",
    "            \n",
    "            ## Step 2: Run the model on the input data\n",
    "            preds = model(data_inputs)\n",
    "            preds = preds.squeeze(dim=1) # Output is [Batch size, 1], but we want [Batch size]\n",
    "            \n",
    "            ## Step 3: Calculate the loss\n",
    "            loss = loss_module(preds, data_labels.float())\n",
    "            \n",
    "            ## Step 4: Perform backpropagation\n",
    "            # Before calculating the gradients, we need to ensure that they are all zero. \n",
    "            # The gradients would not be overwritten, but actually added to the existing ones.\n",
    "            optimizer.zero_grad() \n",
    "            # Perform backpropagation\n",
    "            loss.backward()\n",
    "            \n",
    "            ## Step 5: Update the parameters\n",
    "            optimizer.step()\n",
    "            \n",
    "            ## Step 6: Take the running average of the loss\n",
    "            epoch_loss += loss.item()\n",
    "            \n",
    "        # Add average loss to TensorBoard\n",
    "        epoch_loss /= len(data_loader)\n",
    "        writer.add_scalar('training_loss',\n",
    "                          epoch_loss,\n",
    "                          global_step = epoch + 1)\n",
    "        \n",
    "        # Visualize prediction and add figure to TensorBoard\n",
    "        # Since matplotlib figures can be slow in rendering, we only do it every 10th epoch\n",
    "        if (epoch + 1) % 10 == 0:\n",
    "            fig = visualize_classification(model, val_dataset.data, val_dataset.label)\n",
    "            writer.add_figure('predictions',\n",
    "                              fig,\n",
    "                              global_step = epoch + 1)\n",
    "    \n",
    "    writer.close()"
   ]
  },
  {
   "cell_type": "markdown",
   "id": "5a96ead6",
   "metadata": {
    "papermill": {
     "duration": 0.104176,
     "end_time": "2021-11-16T12:40:22.900468",
     "exception": false,
     "start_time": "2021-11-16T12:40:22.796292",
     "status": "completed"
    },
    "tags": []
   },
   "source": [
    "Let's use this method to train a model as before, with a new model and optimizer."
   ]
  },
  {
   "cell_type": "code",
   "execution_count": 62,
   "id": "374702dd",
   "metadata": {
    "execution": {
     "iopub.execute_input": "2021-11-16T12:40:23.114396Z",
     "iopub.status.busy": "2021-11-16T12:40:23.113534Z",
     "iopub.status.idle": "2021-11-16T12:40:37.073043Z",
     "shell.execute_reply": "2021-11-16T12:40:37.072489Z",
     "shell.execute_reply.started": "2021-11-16T12:32:00.456742Z"
    },
    "papermill": {
     "duration": 14.067985,
     "end_time": "2021-11-16T12:40:37.073188",
     "exception": false,
     "start_time": "2021-11-16T12:40:23.005203",
     "status": "completed"
    },
    "tags": []
   },
   "outputs": [
    {
     "data": {
      "application/vnd.jupyter.widget-view+json": {
       "model_id": "22c52f0399bd480e9b59da15dc428c03",
       "version_major": 2,
       "version_minor": 0
      },
      "text/plain": [
       "  0%|          | 0/100 [00:00<?, ?it/s]"
      ]
     },
     "metadata": {},
     "output_type": "display_data"
    }
   ],
   "source": [
    "model = SimpleClassifier(num_inputs=2, num_hidden=4, num_outputs=1).to(device)\n",
    "optimizer = torch.optim.SGD(model.parameters(), lr=0.1)\n",
    "train_model_with_logger(model, optimizer, train_data_loader, loss_module, val_dataset=dataset)"
   ]
  },
  {
   "cell_type": "markdown",
   "id": "1cad5f6b",
   "metadata": {
    "papermill": {
     "duration": 0.102995,
     "end_time": "2021-11-16T12:40:37.283060",
     "exception": false,
     "start_time": "2021-11-16T12:40:37.180065",
     "status": "completed"
    },
    "tags": []
   },
   "source": [
    "The TensorBoard file in the folder `runs/our_experiment` now contains a loss curve, the computation graph of our network, and a visualization of the learned predictions over number of epochs. To start the TensorBoard visualizer, simply run the following statement:"
   ]
  },
  {
   "cell_type": "code",
   "execution_count": null,
   "id": "a6d00667",
   "metadata": {},
   "outputs": [],
   "source": [
    "%tensorboard --logdir runs/our_experiment"
   ]
  },
  {
   "cell_type": "markdown",
   "id": "33095bbb",
   "metadata": {
    "papermill": {
     "duration": 0.105099,
     "end_time": "2021-11-16T12:40:43.268934",
     "exception": false,
     "start_time": "2021-11-16T12:40:43.163835",
     "status": "completed"
    },
    "tags": []
   },
   "source": [
    "<center><img src=https://uvadlc-notebooks.readthedocs.io/en/latest/_images/tensorboard_screenshot1.png width=\"1100px\"></center>\n",
    "\n",
    "TensorBoard visualizations can help to identify possible issues with your model, and identify situations such as overfitting. You can also track the training progress while a model is training, since the logger automatically writes everything added to it to the logging file. Feel free to explore the TensorBoard functionalities, and we will make use of TensorBoards a couple of times from Tutorial 5 on."
   ]
  },
  {
   "cell_type": "markdown",
   "id": "feaf6a25",
   "metadata": {},
   "source": [
    "(ref/einstein_summation)=\n",
    "## Appendix: Einstein summation with `torch.einsum`"
   ]
  },
  {
   "cell_type": "markdown",
   "id": "af8adb76",
   "metadata": {},
   "source": [
    "<b>General rules</b>\n",
    "\n",
    "1. Repeated indices are summed over.\n",
    "2. Omitting an index means that axis will be summed.\n",
    "3. Unsummed axes can be returned in any order.\n",
    "\n",
    "\n",
    "**Note:** This is implemented in both `numpy` an `torch`!"
   ]
  },
  {
   "cell_type": "code",
   "execution_count": 67,
   "id": "ea54dd03",
   "metadata": {},
   "outputs": [
    {
     "name": "stdout",
     "output_type": "stream",
     "text": [
      "3.0\n",
      "tensor(3.)\n"
     ]
    }
   ],
   "source": [
    "# Summing all entries of a tensor (from Rule 2)\n",
    "print(np.einsum('i ->', np.ones(3)))\n",
    "print(torch.einsum('i ->', torch.ones(3)))"
   ]
  },
  {
   "cell_type": "code",
   "execution_count": 68,
   "id": "2c843dfa",
   "metadata": {},
   "outputs": [],
   "source": [
    "A = torch.tensor([\n",
    "    [1, 2, 3],\n",
    "    [4, 5, 6]\n",
    "])\n",
    "\n",
    "B = torch.tensor([\n",
    "    [4],\n",
    "    [5],\n",
    "    [-1]\n",
    "])\n"
   ]
  },
  {
   "cell_type": "code",
   "execution_count": 69,
   "id": "1f24be55",
   "metadata": {},
   "outputs": [
    {
     "data": {
      "text/plain": [
       "tensor([[11],\n",
       "        [35]])"
      ]
     },
     "execution_count": 69,
     "metadata": {},
     "output_type": "execute_result"
    }
   ],
   "source": [
    "# Matrix-matrix multiplication\n",
    "torch.einsum('ij, jk -> ik', A, B)"
   ]
  },
  {
   "cell_type": "code",
   "execution_count": 70,
   "id": "3104985b",
   "metadata": {},
   "outputs": [
    {
     "data": {
      "text/plain": [
       "tensor([ 6, 15])"
      ]
     },
     "execution_count": 70,
     "metadata": {},
     "output_type": "execute_result"
    }
   ],
   "source": [
    "# Matrix-vector multiplication\n",
    "v = torch.tensor([1, 1, 1])\n",
    "torch.einsum('ij, j -> i', A, v)"
   ]
  },
  {
   "cell_type": "code",
   "execution_count": 71,
   "id": "09db1972",
   "metadata": {},
   "outputs": [
    {
     "data": {
      "text/plain": [
       "tensor([5, 7, 9])"
      ]
     },
     "execution_count": 71,
     "metadata": {},
     "output_type": "execute_result"
    }
   ],
   "source": [
    "# Sum all rows, i.e. we are left with column index\n",
    "torch.einsum('ij -> j', A)"
   ]
  },
  {
   "cell_type": "code",
   "execution_count": 72,
   "id": "1fd11367",
   "metadata": {},
   "outputs": [
    {
     "data": {
      "text/plain": [
       "tensor([[ 1,  4,  9],\n",
       "        [16, 25, 36]])"
      ]
     },
     "execution_count": 72,
     "metadata": {},
     "output_type": "execute_result"
    }
   ],
   "source": [
    "# Hadamard product\n",
    "torch.einsum('ij, ij -> ij', A, A)"
   ]
  },
  {
   "cell_type": "code",
   "execution_count": 73,
   "id": "8c2eff5b",
   "metadata": {},
   "outputs": [
    {
     "data": {
      "text/plain": [
       "tensor([[1, 1, 1],\n",
       "        [1, 1, 1],\n",
       "        [1, 1, 1]])"
      ]
     },
     "execution_count": 73,
     "metadata": {},
     "output_type": "execute_result"
    }
   ],
   "source": [
    "# Outer product\n",
    "torch.einsum('i, j -> ij', v, v)"
   ]
  },
  {
   "cell_type": "code",
   "execution_count": 76,
   "id": "33e87ba7",
   "metadata": {},
   "outputs": [
    {
     "data": {
      "text/plain": [
       "tensor([1., 1., 1.])"
      ]
     },
     "execution_count": 76,
     "metadata": {},
     "output_type": "execute_result"
    }
   ],
   "source": [
    "# Get diagonal elements of a matrix\n",
    "torch.einsum('ii -> i', torch.eye(3))"
   ]
  },
  {
   "cell_type": "code",
   "execution_count": 77,
   "id": "34509636",
   "metadata": {},
   "outputs": [
    {
     "data": {
      "text/plain": [
       "tensor(3.)"
      ]
     },
     "execution_count": 77,
     "metadata": {},
     "output_type": "execute_result"
    }
   ],
   "source": [
    "# Compute trace\n",
    "torch.einsum('ii ->', torch.eye(3))"
   ]
  }
 ],
 "metadata": {
  "kernelspec": {
   "display_name": "Python 3",
   "language": "python",
   "name": "python3"
  },
  "language_info": {
   "codemirror_mode": {
    "name": "ipython",
    "version": 3
   },
   "file_extension": ".py",
   "mimetype": "text/x-python",
   "name": "python",
   "nbconvert_exporter": "python",
   "pygments_lexer": "ipython3",
   "version": "3.7.11"
  },
  "papermill": {
   "default_parameters": {},
   "duration": 74.401184,
   "end_time": "2021-11-16T12:40:46.699765",
   "environment_variables": {},
   "exception": null,
   "input_path": "__notebook__.ipynb",
   "output_path": "__notebook__.ipynb",
   "parameters": {},
   "start_time": "2021-11-16T12:39:32.298581",
   "version": "2.3.3"
  },
  "widgets": {
   "application/vnd.jupyter.widget-state+json": {
    "state": {
     "1481318a84a0447abc0394809e0bfd89": {
      "model_module": "@jupyter-widgets/controls",
      "model_module_version": "1.5.0",
      "model_name": "FloatProgressModel",
      "state": {
       "_dom_classes": [],
       "_model_module": "@jupyter-widgets/controls",
       "_model_module_version": "1.5.0",
       "_model_name": "FloatProgressModel",
       "_view_count": null,
       "_view_module": "@jupyter-widgets/controls",
       "_view_module_version": "1.5.0",
       "_view_name": "ProgressView",
       "bar_style": "success",
       "description": "",
       "description_tooltip": null,
       "layout": "IPY_MODEL_1bf502cdf44c4545a7de75913d7b6cae",
       "max": 100,
       "min": 0,
       "orientation": "horizontal",
       "style": "IPY_MODEL_74913cf6639f45b383a48732759c9c30",
       "value": 100
      }
     },
     "1bf502cdf44c4545a7de75913d7b6cae": {
      "model_module": "@jupyter-widgets/base",
      "model_module_version": "1.2.0",
      "model_name": "LayoutModel",
      "state": {
       "_model_module": "@jupyter-widgets/base",
       "_model_module_version": "1.2.0",
       "_model_name": "LayoutModel",
       "_view_count": null,
       "_view_module": "@jupyter-widgets/base",
       "_view_module_version": "1.2.0",
       "_view_name": "LayoutView",
       "align_content": null,
       "align_items": null,
       "align_self": null,
       "border": null,
       "bottom": null,
       "display": null,
       "flex": null,
       "flex_flow": null,
       "grid_area": null,
       "grid_auto_columns": null,
       "grid_auto_flow": null,
       "grid_auto_rows": null,
       "grid_column": null,
       "grid_gap": null,
       "grid_row": null,
       "grid_template_areas": null,
       "grid_template_columns": null,
       "grid_template_rows": null,
       "height": null,
       "justify_content": null,
       "justify_items": null,
       "left": null,
       "margin": null,
       "max_height": null,
       "max_width": null,
       "min_height": null,
       "min_width": null,
       "object_fit": null,
       "object_position": null,
       "order": null,
       "overflow": null,
       "overflow_x": null,
       "overflow_y": null,
       "padding": null,
       "right": null,
       "top": null,
       "visibility": null,
       "width": null
      }
     },
     "1c0617bad6b0461387cda50b81f1d7dd": {
      "model_module": "@jupyter-widgets/controls",
      "model_module_version": "1.5.0",
      "model_name": "DescriptionStyleModel",
      "state": {
       "_model_module": "@jupyter-widgets/controls",
       "_model_module_version": "1.5.0",
       "_model_name": "DescriptionStyleModel",
       "_view_count": null,
       "_view_module": "@jupyter-widgets/base",
       "_view_module_version": "1.2.0",
       "_view_name": "StyleView",
       "description_width": ""
      }
     },
     "22c52f0399bd480e9b59da15dc428c03": {
      "model_module": "@jupyter-widgets/controls",
      "model_module_version": "1.5.0",
      "model_name": "HBoxModel",
      "state": {
       "_dom_classes": [],
       "_model_module": "@jupyter-widgets/controls",
       "_model_module_version": "1.5.0",
       "_model_name": "HBoxModel",
       "_view_count": null,
       "_view_module": "@jupyter-widgets/controls",
       "_view_module_version": "1.5.0",
       "_view_name": "HBoxView",
       "box_style": "",
       "children": [
        "IPY_MODEL_baa8c4abe38e4745bf6091656fb7d674",
        "IPY_MODEL_1481318a84a0447abc0394809e0bfd89",
        "IPY_MODEL_9dcde0a6b4fc43d3bccc89a9f162e3d0"
       ],
       "layout": "IPY_MODEL_247657dc614443848ecd2379dbd1f20e"
      }
     },
     "247657dc614443848ecd2379dbd1f20e": {
      "model_module": "@jupyter-widgets/base",
      "model_module_version": "1.2.0",
      "model_name": "LayoutModel",
      "state": {
       "_model_module": "@jupyter-widgets/base",
       "_model_module_version": "1.2.0",
       "_model_name": "LayoutModel",
       "_view_count": null,
       "_view_module": "@jupyter-widgets/base",
       "_view_module_version": "1.2.0",
       "_view_name": "LayoutView",
       "align_content": null,
       "align_items": null,
       "align_self": null,
       "border": null,
       "bottom": null,
       "display": null,
       "flex": null,
       "flex_flow": null,
       "grid_area": null,
       "grid_auto_columns": null,
       "grid_auto_flow": null,
       "grid_auto_rows": null,
       "grid_column": null,
       "grid_gap": null,
       "grid_row": null,
       "grid_template_areas": null,
       "grid_template_columns": null,
       "grid_template_rows": null,
       "height": null,
       "justify_content": null,
       "justify_items": null,
       "left": null,
       "margin": null,
       "max_height": null,
       "max_width": null,
       "min_height": null,
       "min_width": null,
       "object_fit": null,
       "object_position": null,
       "order": null,
       "overflow": null,
       "overflow_x": null,
       "overflow_y": null,
       "padding": null,
       "right": null,
       "top": null,
       "visibility": null,
       "width": null
      }
     },
     "29d95c6c85f0448cae5120d9891981b4": {
      "model_module": "@jupyter-widgets/controls",
      "model_module_version": "1.5.0",
      "model_name": "DescriptionStyleModel",
      "state": {
       "_model_module": "@jupyter-widgets/controls",
       "_model_module_version": "1.5.0",
       "_model_name": "DescriptionStyleModel",
       "_view_count": null,
       "_view_module": "@jupyter-widgets/base",
       "_view_module_version": "1.2.0",
       "_view_name": "StyleView",
       "description_width": ""
      }
     },
     "33ad622cf88e4c379d49605c19df82ab": {
      "model_module": "@jupyter-widgets/base",
      "model_module_version": "1.2.0",
      "model_name": "LayoutModel",
      "state": {
       "_model_module": "@jupyter-widgets/base",
       "_model_module_version": "1.2.0",
       "_model_name": "LayoutModel",
       "_view_count": null,
       "_view_module": "@jupyter-widgets/base",
       "_view_module_version": "1.2.0",
       "_view_name": "LayoutView",
       "align_content": null,
       "align_items": null,
       "align_self": null,
       "border": null,
       "bottom": null,
       "display": null,
       "flex": null,
       "flex_flow": null,
       "grid_area": null,
       "grid_auto_columns": null,
       "grid_auto_flow": null,
       "grid_auto_rows": null,
       "grid_column": null,
       "grid_gap": null,
       "grid_row": null,
       "grid_template_areas": null,
       "grid_template_columns": null,
       "grid_template_rows": null,
       "height": null,
       "justify_content": null,
       "justify_items": null,
       "left": null,
       "margin": null,
       "max_height": null,
       "max_width": null,
       "min_height": null,
       "min_width": null,
       "object_fit": null,
       "object_position": null,
       "order": null,
       "overflow": null,
       "overflow_x": null,
       "overflow_y": null,
       "padding": null,
       "right": null,
       "top": null,
       "visibility": null,
       "width": null
      }
     },
     "4e45a65e5f2240fd811574bd56032e2e": {
      "model_module": "@jupyter-widgets/base",
      "model_module_version": "1.2.0",
      "model_name": "LayoutModel",
      "state": {
       "_model_module": "@jupyter-widgets/base",
       "_model_module_version": "1.2.0",
       "_model_name": "LayoutModel",
       "_view_count": null,
       "_view_module": "@jupyter-widgets/base",
       "_view_module_version": "1.2.0",
       "_view_name": "LayoutView",
       "align_content": null,
       "align_items": null,
       "align_self": null,
       "border": null,
       "bottom": null,
       "display": null,
       "flex": null,
       "flex_flow": null,
       "grid_area": null,
       "grid_auto_columns": null,
       "grid_auto_flow": null,
       "grid_auto_rows": null,
       "grid_column": null,
       "grid_gap": null,
       "grid_row": null,
       "grid_template_areas": null,
       "grid_template_columns": null,
       "grid_template_rows": null,
       "height": null,
       "justify_content": null,
       "justify_items": null,
       "left": null,
       "margin": null,
       "max_height": null,
       "max_width": null,
       "min_height": null,
       "min_width": null,
       "object_fit": null,
       "object_position": null,
       "order": null,
       "overflow": null,
       "overflow_x": null,
       "overflow_y": null,
       "padding": null,
       "right": null,
       "top": null,
       "visibility": null,
       "width": null
      }
     },
     "7039be9db44b4e1688df5f5f5477a1f2": {
      "model_module": "@jupyter-widgets/controls",
      "model_module_version": "1.5.0",
      "model_name": "DescriptionStyleModel",
      "state": {
       "_model_module": "@jupyter-widgets/controls",
       "_model_module_version": "1.5.0",
       "_model_name": "DescriptionStyleModel",
       "_view_count": null,
       "_view_module": "@jupyter-widgets/base",
       "_view_module_version": "1.2.0",
       "_view_name": "StyleView",
       "description_width": ""
      }
     },
     "71af226479ea4645838b90ee61e1aba0": {
      "model_module": "@jupyter-widgets/base",
      "model_module_version": "1.2.0",
      "model_name": "LayoutModel",
      "state": {
       "_model_module": "@jupyter-widgets/base",
       "_model_module_version": "1.2.0",
       "_model_name": "LayoutModel",
       "_view_count": null,
       "_view_module": "@jupyter-widgets/base",
       "_view_module_version": "1.2.0",
       "_view_name": "LayoutView",
       "align_content": null,
       "align_items": null,
       "align_self": null,
       "border": null,
       "bottom": null,
       "display": null,
       "flex": null,
       "flex_flow": null,
       "grid_area": null,
       "grid_auto_columns": null,
       "grid_auto_flow": null,
       "grid_auto_rows": null,
       "grid_column": null,
       "grid_gap": null,
       "grid_row": null,
       "grid_template_areas": null,
       "grid_template_columns": null,
       "grid_template_rows": null,
       "height": null,
       "justify_content": null,
       "justify_items": null,
       "left": null,
       "margin": null,
       "max_height": null,
       "max_width": null,
       "min_height": null,
       "min_width": null,
       "object_fit": null,
       "object_position": null,
       "order": null,
       "overflow": null,
       "overflow_x": null,
       "overflow_y": null,
       "padding": null,
       "right": null,
       "top": null,
       "visibility": null,
       "width": null
      }
     },
     "74913cf6639f45b383a48732759c9c30": {
      "model_module": "@jupyter-widgets/controls",
      "model_module_version": "1.5.0",
      "model_name": "ProgressStyleModel",
      "state": {
       "_model_module": "@jupyter-widgets/controls",
       "_model_module_version": "1.5.0",
       "_model_name": "ProgressStyleModel",
       "_view_count": null,
       "_view_module": "@jupyter-widgets/base",
       "_view_module_version": "1.2.0",
       "_view_name": "StyleView",
       "bar_color": null,
       "description_width": ""
      }
     },
     "892818a66fb7440186e856cb22f1630a": {
      "model_module": "@jupyter-widgets/base",
      "model_module_version": "1.2.0",
      "model_name": "LayoutModel",
      "state": {
       "_model_module": "@jupyter-widgets/base",
       "_model_module_version": "1.2.0",
       "_model_name": "LayoutModel",
       "_view_count": null,
       "_view_module": "@jupyter-widgets/base",
       "_view_module_version": "1.2.0",
       "_view_name": "LayoutView",
       "align_content": null,
       "align_items": null,
       "align_self": null,
       "border": null,
       "bottom": null,
       "display": null,
       "flex": null,
       "flex_flow": null,
       "grid_area": null,
       "grid_auto_columns": null,
       "grid_auto_flow": null,
       "grid_auto_rows": null,
       "grid_column": null,
       "grid_gap": null,
       "grid_row": null,
       "grid_template_areas": null,
       "grid_template_columns": null,
       "grid_template_rows": null,
       "height": null,
       "justify_content": null,
       "justify_items": null,
       "left": null,
       "margin": null,
       "max_height": null,
       "max_width": null,
       "min_height": null,
       "min_width": null,
       "object_fit": null,
       "object_position": null,
       "order": null,
       "overflow": null,
       "overflow_x": null,
       "overflow_y": null,
       "padding": null,
       "right": null,
       "top": null,
       "visibility": null,
       "width": null
      }
     },
     "8af9a32e872b4240ae6991c5fef267fb": {
      "model_module": "@jupyter-widgets/controls",
      "model_module_version": "1.5.0",
      "model_name": "FloatProgressModel",
      "state": {
       "_dom_classes": [],
       "_model_module": "@jupyter-widgets/controls",
       "_model_module_version": "1.5.0",
       "_model_name": "FloatProgressModel",
       "_view_count": null,
       "_view_module": "@jupyter-widgets/controls",
       "_view_module_version": "1.5.0",
       "_view_name": "ProgressView",
       "bar_style": "success",
       "description": "",
       "description_tooltip": null,
       "layout": "IPY_MODEL_9d6433678ea144fca62190fb264b62d9",
       "max": 100,
       "min": 0,
       "orientation": "horizontal",
       "style": "IPY_MODEL_a83d6cf316fa473b870e88dac7ac36cd",
       "value": 100
      }
     },
     "8b37f9e22cf14f87aa33163b7c196869": {
      "model_module": "@jupyter-widgets/controls",
      "model_module_version": "1.5.0",
      "model_name": "DescriptionStyleModel",
      "state": {
       "_model_module": "@jupyter-widgets/controls",
       "_model_module_version": "1.5.0",
       "_model_name": "DescriptionStyleModel",
       "_view_count": null,
       "_view_module": "@jupyter-widgets/base",
       "_view_module_version": "1.2.0",
       "_view_name": "StyleView",
       "description_width": ""
      }
     },
     "9042153e3ba7402399d0f80a8a6fadf8": {
      "model_module": "@jupyter-widgets/controls",
      "model_module_version": "1.5.0",
      "model_name": "HTMLModel",
      "state": {
       "_dom_classes": [],
       "_model_module": "@jupyter-widgets/controls",
       "_model_module_version": "1.5.0",
       "_model_name": "HTMLModel",
       "_view_count": null,
       "_view_module": "@jupyter-widgets/controls",
       "_view_module_version": "1.5.0",
       "_view_name": "HTMLView",
       "description": "",
       "description_tooltip": null,
       "layout": "IPY_MODEL_71af226479ea4645838b90ee61e1aba0",
       "placeholder": "​",
       "style": "IPY_MODEL_1c0617bad6b0461387cda50b81f1d7dd",
       "value": " 100/100 [00:04&lt;00:00, 23.29it/s]"
      }
     },
     "9d6433678ea144fca62190fb264b62d9": {
      "model_module": "@jupyter-widgets/base",
      "model_module_version": "1.2.0",
      "model_name": "LayoutModel",
      "state": {
       "_model_module": "@jupyter-widgets/base",
       "_model_module_version": "1.2.0",
       "_model_name": "LayoutModel",
       "_view_count": null,
       "_view_module": "@jupyter-widgets/base",
       "_view_module_version": "1.2.0",
       "_view_name": "LayoutView",
       "align_content": null,
       "align_items": null,
       "align_self": null,
       "border": null,
       "bottom": null,
       "display": null,
       "flex": null,
       "flex_flow": null,
       "grid_area": null,
       "grid_auto_columns": null,
       "grid_auto_flow": null,
       "grid_auto_rows": null,
       "grid_column": null,
       "grid_gap": null,
       "grid_row": null,
       "grid_template_areas": null,
       "grid_template_columns": null,
       "grid_template_rows": null,
       "height": null,
       "justify_content": null,
       "justify_items": null,
       "left": null,
       "margin": null,
       "max_height": null,
       "max_width": null,
       "min_height": null,
       "min_width": null,
       "object_fit": null,
       "object_position": null,
       "order": null,
       "overflow": null,
       "overflow_x": null,
       "overflow_y": null,
       "padding": null,
       "right": null,
       "top": null,
       "visibility": null,
       "width": null
      }
     },
     "9dcde0a6b4fc43d3bccc89a9f162e3d0": {
      "model_module": "@jupyter-widgets/controls",
      "model_module_version": "1.5.0",
      "model_name": "HTMLModel",
      "state": {
       "_dom_classes": [],
       "_model_module": "@jupyter-widgets/controls",
       "_model_module_version": "1.5.0",
       "_model_name": "HTMLModel",
       "_view_count": null,
       "_view_module": "@jupyter-widgets/controls",
       "_view_module_version": "1.5.0",
       "_view_name": "HTMLView",
       "description": "",
       "description_tooltip": null,
       "layout": "IPY_MODEL_892818a66fb7440186e856cb22f1630a",
       "placeholder": "​",
       "style": "IPY_MODEL_8b37f9e22cf14f87aa33163b7c196869",
       "value": " 100/100 [00:09&lt;00:00, 11.69it/s]"
      }
     },
     "a83d6cf316fa473b870e88dac7ac36cd": {
      "model_module": "@jupyter-widgets/controls",
      "model_module_version": "1.5.0",
      "model_name": "ProgressStyleModel",
      "state": {
       "_model_module": "@jupyter-widgets/controls",
       "_model_module_version": "1.5.0",
       "_model_name": "ProgressStyleModel",
       "_view_count": null,
       "_view_module": "@jupyter-widgets/base",
       "_view_module_version": "1.2.0",
       "_view_name": "StyleView",
       "bar_color": null,
       "description_width": ""
      }
     },
     "a8a37c1a1c2d4937b3bdf13a37f17f43": {
      "model_module": "@jupyter-widgets/base",
      "model_module_version": "1.2.0",
      "model_name": "LayoutModel",
      "state": {
       "_model_module": "@jupyter-widgets/base",
       "_model_module_version": "1.2.0",
       "_model_name": "LayoutModel",
       "_view_count": null,
       "_view_module": "@jupyter-widgets/base",
       "_view_module_version": "1.2.0",
       "_view_name": "LayoutView",
       "align_content": null,
       "align_items": null,
       "align_self": null,
       "border": null,
       "bottom": null,
       "display": null,
       "flex": null,
       "flex_flow": null,
       "grid_area": null,
       "grid_auto_columns": null,
       "grid_auto_flow": null,
       "grid_auto_rows": null,
       "grid_column": null,
       "grid_gap": null,
       "grid_row": null,
       "grid_template_areas": null,
       "grid_template_columns": null,
       "grid_template_rows": null,
       "height": null,
       "justify_content": null,
       "justify_items": null,
       "left": null,
       "margin": null,
       "max_height": null,
       "max_width": null,
       "min_height": null,
       "min_width": null,
       "object_fit": null,
       "object_position": null,
       "order": null,
       "overflow": null,
       "overflow_x": null,
       "overflow_y": null,
       "padding": null,
       "right": null,
       "top": null,
       "visibility": null,
       "width": null
      }
     },
     "baa8c4abe38e4745bf6091656fb7d674": {
      "model_module": "@jupyter-widgets/controls",
      "model_module_version": "1.5.0",
      "model_name": "HTMLModel",
      "state": {
       "_dom_classes": [],
       "_model_module": "@jupyter-widgets/controls",
       "_model_module_version": "1.5.0",
       "_model_name": "HTMLModel",
       "_view_count": null,
       "_view_module": "@jupyter-widgets/controls",
       "_view_module_version": "1.5.0",
       "_view_name": "HTMLView",
       "description": "",
       "description_tooltip": null,
       "layout": "IPY_MODEL_a8a37c1a1c2d4937b3bdf13a37f17f43",
       "placeholder": "​",
       "style": "IPY_MODEL_29d95c6c85f0448cae5120d9891981b4",
       "value": "100%"
      }
     },
     "d8dd7bed9455430e898fb6da73be5386": {
      "model_module": "@jupyter-widgets/controls",
      "model_module_version": "1.5.0",
      "model_name": "HTMLModel",
      "state": {
       "_dom_classes": [],
       "_model_module": "@jupyter-widgets/controls",
       "_model_module_version": "1.5.0",
       "_model_name": "HTMLModel",
       "_view_count": null,
       "_view_module": "@jupyter-widgets/controls",
       "_view_module_version": "1.5.0",
       "_view_name": "HTMLView",
       "description": "",
       "description_tooltip": null,
       "layout": "IPY_MODEL_33ad622cf88e4c379d49605c19df82ab",
       "placeholder": "​",
       "style": "IPY_MODEL_7039be9db44b4e1688df5f5f5477a1f2",
       "value": "100%"
      }
     },
     "dbb2e7a61d38460b85bdec81353e1c26": {
      "model_module": "@jupyter-widgets/controls",
      "model_module_version": "1.5.0",
      "model_name": "HBoxModel",
      "state": {
       "_dom_classes": [],
       "_model_module": "@jupyter-widgets/controls",
       "_model_module_version": "1.5.0",
       "_model_name": "HBoxModel",
       "_view_count": null,
       "_view_module": "@jupyter-widgets/controls",
       "_view_module_version": "1.5.0",
       "_view_name": "HBoxView",
       "box_style": "",
       "children": [
        "IPY_MODEL_d8dd7bed9455430e898fb6da73be5386",
        "IPY_MODEL_8af9a32e872b4240ae6991c5fef267fb",
        "IPY_MODEL_9042153e3ba7402399d0f80a8a6fadf8"
       ],
       "layout": "IPY_MODEL_4e45a65e5f2240fd811574bd56032e2e"
      }
     }
    },
    "version_major": 2,
    "version_minor": 0
   }
  }
 },
 "nbformat": 4,
 "nbformat_minor": 5
}
