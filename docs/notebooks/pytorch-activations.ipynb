{
 "cells": [
  {
   "cell_type": "markdown",
   "id": "254d34ff",
   "metadata": {
    "papermill": {
     "duration": 0.033294,
     "end_time": "2021-12-17T09:57:04.576293",
     "exception": false,
     "start_time": "2021-12-17T09:57:04.542999",
     "status": "completed"
    },
    "tags": []
   },
   "source": [
    "# Activation Functions"
   ]
  },
  {
   "cell_type": "markdown",
   "id": "9505cc5d",
   "metadata": {
    "papermill": {
     "duration": 0.030684,
     "end_time": "2021-12-17T09:57:04.638209",
     "exception": false,
     "start_time": "2021-12-17T09:57:04.607525",
     "status": "completed"
    },
    "tags": []
   },
   "source": [
    "```{admonition} Attribution\n",
    "The following notebook is a fork of [Tutorial 3](https://uvadlc-notebooks.readthedocs.io/en/latest/tutorial_notebooks/tutorial3/Activation_Functions.html) of the [Deep Learning Course](https://uvadlc.github.io/lectures-nov2020.html#) at the University of Amsterdam. The full list of tutorials can be found at https://uvadlc-notebooks.rtfd.io.\n",
    "```"
   ]
  },
  {
   "cell_type": "markdown",
   "id": "f1499451",
   "metadata": {},
   "source": [
    "## Setup"
   ]
  },
  {
   "cell_type": "markdown",
   "id": "16f23379",
   "metadata": {
    "papermill": {
     "duration": 0.044642,
     "end_time": "2021-12-17T09:57:04.713787",
     "exception": false,
     "start_time": "2021-12-17T09:57:04.669145",
     "status": "completed"
    },
    "tags": []
   },
   "source": [
    "In this tutorial, we will take a closer look at popular activation functions and investigate their effect on optimization properties in neural networks.\n",
    "Activation functions are a crucial part of deep learning models as they add the non-linearity to neural networks.\n",
    "There is a great variety of activation functions in the literature, and some are more beneficial than others.\n",
    "The goal of this tutorial is to show the importance of choosing a good activation function (and how to do so), and what problems might occur if we don't.\n",
    "\n",
    "Before we start, we import our standard libraries and set up basic functions:"
   ]
  },
  {
   "cell_type": "code",
   "execution_count": 1,
   "id": "b36b1564",
   "metadata": {
    "execution": {
     "iopub.execute_input": "2021-12-17T09:57:04.797400Z",
     "iopub.status.busy": "2021-12-17T09:57:04.796386Z",
     "iopub.status.idle": "2021-12-17T09:57:06.717129Z",
     "shell.execute_reply": "2021-12-17T09:57:06.716452Z",
     "shell.execute_reply.started": "2021-12-17T08:28:52.444752Z"
    },
    "papermill": {
     "duration": 1.958783,
     "end_time": "2021-12-17T09:57:06.717304",
     "exception": false,
     "start_time": "2021-12-17T09:57:04.758521",
     "status": "completed"
    },
    "scrolled": true,
    "tags": []
   },
   "outputs": [],
   "source": [
    "import torch\n",
    "import torch.nn as nn\n",
    "import torch.nn.functional as F\n",
    "import torch.utils.data as data\n",
    "import torch.optim as optim\n",
    "\n",
    "import pathlib\n",
    "import json\n",
    "import math\n",
    "import numpy as np \n",
    "import matplotlib.pyplot as plt\n",
    "import seaborn as sns\n",
    "from tqdm.notebook import tqdm"
   ]
  },
  {
   "cell_type": "markdown",
   "id": "a083a75c",
   "metadata": {
    "papermill": {
     "duration": 0.031429,
     "end_time": "2021-12-17T09:57:06.780344",
     "exception": false,
     "start_time": "2021-12-17T09:57:06.748915",
     "status": "completed"
    },
    "tags": []
   },
   "source": [
    "We will define a function to set a seed on all libraries we might interact with in this tutorial (here `numpy` and `torch`). This allows us to make our training reproducible. However, note that in contrast to the CPU, the same seed on different GPU architectures can give different results. All models here have been trained on a NVIDIA Tesla P100, which is provided free in a Kaggle kernel."
   ]
  },
  {
   "cell_type": "code",
   "execution_count": 2,
   "id": "5f59ba09",
   "metadata": {
    "execution": {
     "iopub.execute_input": "2021-12-17T09:57:06.846666Z",
     "iopub.status.busy": "2021-12-17T09:57:06.846050Z",
     "iopub.status.idle": "2021-12-17T09:57:06.854254Z",
     "shell.execute_reply": "2021-12-17T09:57:06.854756Z",
     "shell.execute_reply.started": "2021-12-17T08:28:54.607075Z"
    },
    "papermill": {
     "duration": 0.042494,
     "end_time": "2021-12-17T09:57:06.854930",
     "exception": false,
     "start_time": "2021-12-17T09:57:06.812436",
     "status": "completed"
    },
    "tags": []
   },
   "outputs": [],
   "source": [
    "def set_seed(seed):\n",
    "    \"\"\"Function for setting the seed.\"\"\"\n",
    "    \n",
    "    torch.manual_seed(seed)\n",
    "    np.random.seed(seed)\n",
    "    \n",
    "    # Separate seed for GPU\n",
    "    if torch.cuda.is_available():\n",
    "        torch.cuda.manual_seed_all(seed)\n",
    "        torch.cuda.manual_seed(seed)\n",
    "        \n",
    "        \n",
    "# Set random seed\n",
    "set_seed(42)\n",
    "torch.backends.cudnn.determinstic = True\n",
    "torch.backends.cudnn.benchmark = True # https://stackoverflow.com/a/58965640\n",
    "\n",
    "# Set device\n",
    "device = torch.device(\"cuda:0\") if torch.cuda.is_available() else torch.device(\"cpu\")"
   ]
  },
  {
   "cell_type": "markdown",
   "id": "c9665592",
   "metadata": {
    "papermill": {
     "duration": 0.031122,
     "end_time": "2021-12-17T09:57:06.917619",
     "exception": false,
     "start_time": "2021-12-17T09:57:06.886497",
     "status": "completed"
    },
    "tags": []
   },
   "source": [
    "Additionally, the following cell defines two paths: `DATASET_PATH` and `CHECKPOINT_PATH`. The dataset path is the directory where we will download datasets used in the notebooks. It is recommended to store all datasets from PyTorch in one joined directory to prevent duplicate downloads. The checkpoint path is the directory where we will store trained model weights and additional files."
   ]
  },
  {
   "cell_type": "code",
   "execution_count": 3,
   "id": "9e0853f3",
   "metadata": {
    "execution": {
     "iopub.execute_input": "2021-12-17T09:57:06.982978Z",
     "iopub.status.busy": "2021-12-17T09:57:06.982356Z",
     "iopub.status.idle": "2021-12-17T09:57:06.986745Z",
     "shell.execute_reply": "2021-12-17T09:57:06.987223Z",
     "shell.execute_reply.started": "2021-12-17T08:28:54.618684Z"
    },
    "papermill": {
     "duration": 0.03875,
     "end_time": "2021-12-17T09:57:06.987384",
     "exception": false,
     "start_time": "2021-12-17T09:57:06.948634",
     "status": "completed"
    },
    "tags": []
   },
   "outputs": [],
   "source": [
    "# Path to datasets, e.g. MNIST, and path to pretrained models\n",
    "DATASET_PATH = pathlib.Path(\"/kaggle/working/data\") \n",
    "CHECKPOINT_PATH = pathlib.Path(\"/kaggle/working/saved_models/tutorial3\")\n",
    "\n",
    "# Create directories; exists -> skip, no parent -> create\n",
    "DATASET_PATH.mkdir(exist_ok=True, parents=True)\n",
    "CHECKPOINT_PATH.mkdir(exist_ok=True, parents=True)"
   ]
  },
  {
   "cell_type": "markdown",
   "id": "ccbf5ba7",
   "metadata": {
    "papermill": {
     "duration": 0.031433,
     "end_time": "2021-12-17T09:57:07.050002",
     "exception": false,
     "start_time": "2021-12-17T09:57:07.018569",
     "status": "completed"
    },
    "tags": []
   },
   "source": [
    "The following cell downloads all pretrained models we will use in this notebook. The files are stored on a separate [repository](https://github.com/phlippe/saved_models) to reduce the size of the notebook repository, especially for building the documentation on ReadTheDocs. In case the download below fails, you can download the models from a [Google Drive folder](https://drive.google.com/drive/folders/1sFpZUpDJVjiYEvIqISqfkFizfsTnPf4s?usp=sharing). Please let me (Phillip) know if an error occurs so it can be fixed for all students."
   ]
  },
  {
   "cell_type": "code",
   "execution_count": 4,
   "id": "69e4df89",
   "metadata": {
    "execution": {
     "iopub.execute_input": "2021-12-17T09:57:07.115058Z",
     "iopub.status.busy": "2021-12-17T09:57:07.114485Z",
     "iopub.status.idle": "2021-12-17T09:57:10.013816Z",
     "shell.execute_reply": "2021-12-17T09:57:10.014264Z",
     "shell.execute_reply.started": "2021-12-17T08:28:54.627695Z"
    },
    "papermill": {
     "duration": 2.93335,
     "end_time": "2021-12-17T09:57:10.014436",
     "exception": false,
     "start_time": "2021-12-17T09:57:07.081086",
     "status": "completed"
    },
    "tags": []
   },
   "outputs": [
    {
     "data": {
      "application/vnd.jupyter.widget-view+json": {
       "model_id": "096231ef14614cffab9f6043363b06fb",
       "version_major": 2,
       "version_minor": 0
      },
      "text/plain": [
       "  0%|          | 0/12 [00:00<?, ?it/s]"
      ]
     },
     "metadata": {},
     "output_type": "display_data"
    },
    {
     "name": "stdout",
     "output_type": "stream",
     "text": [
      "Downloading https://raw.githubusercontent.com/particle1331/saved_models/main/tutorial3/FashionMNIST_elu.config...\n",
      "Downloading https://raw.githubusercontent.com/particle1331/saved_models/main/tutorial3/FashionMNIST_elu.tar...\n",
      "Downloading https://raw.githubusercontent.com/particle1331/saved_models/main/tutorial3/FashionMNIST_leakyrelu.config...\n",
      "Downloading https://raw.githubusercontent.com/particle1331/saved_models/main/tutorial3/FashionMNIST_leakyrelu.tar...\n",
      "Downloading https://raw.githubusercontent.com/particle1331/saved_models/main/tutorial3/FashionMNIST_relu.config...\n",
      "Downloading https://raw.githubusercontent.com/particle1331/saved_models/main/tutorial3/FashionMNIST_relu.tar...\n",
      "Downloading https://raw.githubusercontent.com/particle1331/saved_models/main/tutorial3/FashionMNIST_sigmoid.config...\n",
      "Downloading https://raw.githubusercontent.com/particle1331/saved_models/main/tutorial3/FashionMNIST_sigmoid.tar...\n",
      "Downloading https://raw.githubusercontent.com/particle1331/saved_models/main/tutorial3/FashionMNIST_swish.config...\n",
      "Downloading https://raw.githubusercontent.com/particle1331/saved_models/main/tutorial3/FashionMNIST_swish.tar...\n",
      "Downloading https://raw.githubusercontent.com/particle1331/saved_models/main/tutorial3/FashionMNIST_tanh.config...\n",
      "Downloading https://raw.githubusercontent.com/particle1331/saved_models/main/tutorial3/FashionMNIST_tanh.tar...\n"
     ]
    }
   ],
   "source": [
    "import urllib.request\n",
    "from urllib.error import HTTPError\n",
    "\n",
    "# Github URL where saved models are stored for this tutorial\n",
    "base_url = \"https://raw.githubusercontent.com/particle1331/saved_models/main/tutorial3/\"\n",
    "\n",
    "# Files to download\n",
    "pretrained_files = [\"FashionMNIST_elu.config\", \"FashionMNIST_elu.tar\", \n",
    "                    \"FashionMNIST_leakyrelu.config\", \"FashionMNIST_leakyrelu.tar\",\n",
    "                    \"FashionMNIST_relu.config\", \"FashionMNIST_relu.tar\",\n",
    "                    \"FashionMNIST_sigmoid.config\", \"FashionMNIST_sigmoid.tar\",\n",
    "                    \"FashionMNIST_swish.config\", \"FashionMNIST_swish.tar\",\n",
    "                    \"FashionMNIST_tanh.config\", \"FashionMNIST_tanh.tar\"]\n",
    "\n",
    "# For each file, check whether it already exists. If not, try downloading it.\n",
    "for file_name in tqdm(pretrained_files):\n",
    "    file_path = CHECKPOINT_PATH / file_name\n",
    "    if not file_path.is_file():\n",
    "        file_url = base_url + file_name\n",
    "        print(f\"Downloading {file_url}...\")\n",
    "        try:\n",
    "            urllib.request.urlretrieve(file_url, file_path)\n",
    "        except HTTPError as e:\n",
    "            print(\"Something went wrong. Please try to download the file from the GDrive folder, or contact the author with the full output including the following error:\\n\", e)"
   ]
  },
  {
   "cell_type": "markdown",
   "id": "23feca0f",
   "metadata": {
    "papermill": {
     "duration": 0.033162,
     "end_time": "2021-12-17T09:57:10.081681",
     "exception": false,
     "start_time": "2021-12-17T09:57:10.048519",
     "status": "completed"
    },
    "tags": []
   },
   "source": [
    "## Common activation functions"
   ]
  },
  {
   "cell_type": "markdown",
   "id": "1a726231",
   "metadata": {
    "papermill": {
     "duration": 0.034053,
     "end_time": "2021-12-17T09:57:10.149258",
     "exception": false,
     "start_time": "2021-12-17T09:57:10.115205",
     "status": "completed"
    },
    "tags": []
   },
   "source": [
    "As a first step, we will implement some common activation functions by ourselves. Of course, most of them can also be found in the `torch.nn` package. However, we'll write our own functions here for a better understanding and insights.\n",
    "\n",
    "For an easier time of comparing various activation functions, we start with defining a base class from which all our future modules will inherit:"
   ]
  },
  {
   "cell_type": "code",
   "execution_count": 5,
   "id": "27c1ef1a",
   "metadata": {
    "execution": {
     "iopub.execute_input": "2021-12-17T09:57:10.221615Z",
     "iopub.status.busy": "2021-12-17T09:57:10.220981Z",
     "iopub.status.idle": "2021-12-17T09:57:10.223304Z",
     "shell.execute_reply": "2021-12-17T09:57:10.222811Z",
     "shell.execute_reply.started": "2021-12-17T08:28:58.501271Z"
    },
    "papermill": {
     "duration": 0.040403,
     "end_time": "2021-12-17T09:57:10.223434",
     "exception": false,
     "start_time": "2021-12-17T09:57:10.183031",
     "status": "completed"
    },
    "scrolled": true,
    "tags": []
   },
   "outputs": [],
   "source": [
    "class ActivationFunction(nn.Module):\n",
    "    \n",
    "    def __init__(self):\n",
    "        super().__init__()\n",
    "        self.name = self.__class__.__name__\n",
    "        self.config = {\"name\": self.name}"
   ]
  },
  {
   "cell_type": "markdown",
   "id": "77b02cf4",
   "metadata": {
    "papermill": {
     "duration": 0.032695,
     "end_time": "2021-12-17T09:57:10.289645",
     "exception": false,
     "start_time": "2021-12-17T09:57:10.256950",
     "status": "completed"
    },
    "tags": []
   },
   "source": [
    "Every activation function will be an `nn.Module` so that we can integrate them nicely in a network. We will use the `config` dictionary to store adjustable parameters for some activation functions.\n",
    "\n",
    "Next, we implement two of the \"oldest\" activation functions that are still commonly used for various tasks: sigmoid and tanh. \n",
    "Both the sigmoid and tanh activation can be also found as PyTorch functions (`torch.sigmoid`, `torch.tanh`) or as modules (`nn.Sigmoid`, `nn.Tanh`). \n",
    "Here, we implement them by hand:"
   ]
  },
  {
   "cell_type": "code",
   "execution_count": 6,
   "id": "f067d617",
   "metadata": {
    "execution": {
     "iopub.execute_input": "2021-12-17T09:57:10.361163Z",
     "iopub.status.busy": "2021-12-17T09:57:10.360482Z",
     "iopub.status.idle": "2021-12-17T09:57:10.362614Z",
     "shell.execute_reply": "2021-12-17T09:57:10.362119Z",
     "shell.execute_reply.started": "2021-12-17T09:49:49.600225Z"
    },
    "papermill": {
     "duration": 0.040275,
     "end_time": "2021-12-17T09:57:10.362744",
     "exception": false,
     "start_time": "2021-12-17T09:57:10.322469",
     "status": "completed"
    },
    "tags": []
   },
   "outputs": [],
   "source": [
    "##############################\n",
    "\n",
    "class Sigmoid(ActivationFunction):\n",
    "    \n",
    "    def forward(self, x):\n",
    "        return 1 / (1 + torch.exp(-x))\n",
    "\n",
    "##############################\n",
    "    \n",
    "class Tanh(ActivationFunction):\n",
    "    \n",
    "    def forward(self, x):\n",
    "        exp_x, exp_neg_x = torch.exp(x), torch.exp(-x)\n",
    "        return (exp_x - exp_neg_x) / (exp_x + exp_neg_x)\n",
    "    \n",
    "##############################"
   ]
  },
  {
   "cell_type": "markdown",
   "id": "69de0c5e",
   "metadata": {
    "papermill": {
     "duration": 0.033274,
     "end_time": "2021-12-17T09:57:10.429698",
     "exception": false,
     "start_time": "2021-12-17T09:57:10.396424",
     "status": "completed"
    },
    "tags": []
   },
   "source": [
    "Another popular activation function that has allowed the training of deeper networks, is the **Rectified Linear Unit (ReLU)**. \n",
    "Despite its simplicity of being a piecewise linear function, ReLU has one major benefit compared to sigmoid and tanh: a strong, stable gradient for a large range of values.\n",
    "Based on this idea, a lot of variations of ReLU have been proposed, of which we will implement the following three: **LeakyReLU**, **ELU**, and **Swish**. Modifications on the ReLU improves on zero-centering of outputs, vanishing gradients on the negative axis, and smoothness of gradients around zero.\n",
    "\n",
    "```{margin}\n",
    "If interested, a more detailed discussion of the benefits of Swish can be found in this paper https://arxiv.org/abs/1710.05941.\n",
    "```\n",
    "\n",
    "LeakyReLU replaces the zero settings in the negative part with a smaller slope to allow gradients to flow also in this part of the input.\n",
    "Similarly, ELU replaces the negative part with an exponential decay.\n",
    "The third, most recently proposed activation function is Swish, which is actually the result of a large experiment with the purpose of finding the \"optimal\" activation function. \n",
    "Compared to the other activation functions, Swish is both smooth and non-monotonic (i.e. contains a change of sign in the gradient). Moreover, Swish is the only activation in our list which has maximum gradient greater than one.\n",
    "This has been shown to prevent dead neurons as in standard ReLU activation, especially for deep networks. Let's implement the four activation functions below:"
   ]
  },
  {
   "cell_type": "code",
   "execution_count": 7,
   "id": "1ce2694d",
   "metadata": {
    "execution": {
     "iopub.execute_input": "2021-12-17T09:57:10.503368Z",
     "iopub.status.busy": "2021-12-17T09:57:10.502709Z",
     "iopub.status.idle": "2021-12-17T09:57:10.504751Z",
     "shell.execute_reply": "2021-12-17T09:57:10.504172Z",
     "shell.execute_reply.started": "2021-12-17T09:49:51.391698Z"
    },
    "papermill": {
     "duration": 0.041929,
     "end_time": "2021-12-17T09:57:10.504888",
     "exception": false,
     "start_time": "2021-12-17T09:57:10.462959",
     "status": "completed"
    },
    "scrolled": true,
    "tags": []
   },
   "outputs": [],
   "source": [
    "##############################\n",
    "\n",
    "class ReLU(ActivationFunction):\n",
    "    \n",
    "    def forward(self, x):\n",
    "        return x * (x > 0).float()\n",
    "\n",
    "##############################\n",
    "    \n",
    "class LeakyReLU(ActivationFunction):\n",
    "\n",
    "    def __init__(self, alpha=0.1):\n",
    "        super().__init__()\n",
    "        self.config[\"alpha\"] = alpha\n",
    "        \n",
    "    def forward(self, x):\n",
    "        return torch.where(x > 0, x, self.config[\"alpha\"] * x)\n",
    "\n",
    "##############################\n",
    "    \n",
    "class ELU(ActivationFunction):\n",
    "    \n",
    "    def forward(self, x):\n",
    "        return torch.where(x > 0, x, torch.exp(x) - 1)\n",
    "\n",
    "##############################\n",
    "    \n",
    "class Swish(ActivationFunction):\n",
    "    \n",
    "    def forward(self, x):\n",
    "        return x * torch.sigmoid(x)\n",
    "    \n",
    "##############################"
   ]
  },
  {
   "cell_type": "markdown",
   "id": "6fa0abcc",
   "metadata": {
    "papermill": {
     "duration": 0.033099,
     "end_time": "2021-12-17T09:57:10.571355",
     "exception": false,
     "start_time": "2021-12-17T09:57:10.538256",
     "status": "completed"
    },
    "tags": []
   },
   "source": [
    "For later usage, we summarize all our activation functions in a dictionary mapping the name to the class object. In case you implement a new activation function by yourself, add it here to include it in future comparisons as well:"
   ]
  },
  {
   "cell_type": "code",
   "execution_count": 8,
   "id": "c482ee2e",
   "metadata": {
    "execution": {
     "iopub.execute_input": "2021-12-17T09:57:10.642743Z",
     "iopub.status.busy": "2021-12-17T09:57:10.642092Z",
     "iopub.status.idle": "2021-12-17T09:57:10.644835Z",
     "shell.execute_reply": "2021-12-17T09:57:10.644378Z",
     "shell.execute_reply.started": "2021-12-17T08:28:58.539478Z"
    },
    "papermill": {
     "duration": 0.040309,
     "end_time": "2021-12-17T09:57:10.644968",
     "exception": false,
     "start_time": "2021-12-17T09:57:10.604659",
     "status": "completed"
    },
    "scrolled": true,
    "tags": []
   },
   "outputs": [],
   "source": [
    "act_fn_by_name = {\n",
    "    \"sigmoid\": Sigmoid,\n",
    "    \"tanh\": Tanh,\n",
    "    \"relu\": ReLU,\n",
    "    \"leakyrelu\": LeakyReLU,\n",
    "    \"elu\": ELU,\n",
    "    \"swish\": Swish,\n",
    "}"
   ]
  },
  {
   "cell_type": "markdown",
   "id": "9eb24213",
   "metadata": {
    "papermill": {
     "duration": 0.032648,
     "end_time": "2021-12-17T09:57:10.710471",
     "exception": false,
     "start_time": "2021-12-17T09:57:10.677823",
     "status": "completed"
    },
    "tags": []
   },
   "source": [
    "### Visualizing activation functions\n",
    "\n",
    "To get an idea of what each activation function actually does, we will visualize them in the following. \n",
    "Next to the actual activation value, the gradient of the function is an important aspect as it is crucial for optimizing the neural network. \n",
    "PyTorch allows us to compute the gradients simply by calling the `backward` function:"
   ]
  },
  {
   "cell_type": "code",
   "execution_count": 9,
   "id": "19484be9",
   "metadata": {
    "execution": {
     "iopub.execute_input": "2021-12-17T09:57:10.782485Z",
     "iopub.status.busy": "2021-12-17T09:57:10.781707Z",
     "iopub.status.idle": "2021-12-17T09:57:10.784254Z",
     "shell.execute_reply": "2021-12-17T09:57:10.783780Z",
     "shell.execute_reply.started": "2021-12-17T08:28:58.553463Z"
    },
    "papermill": {
     "duration": 0.040392,
     "end_time": "2021-12-17T09:57:10.784384",
     "exception": false,
     "start_time": "2021-12-17T09:57:10.743992",
     "status": "completed"
    },
    "scrolled": true,
    "tags": []
   },
   "outputs": [],
   "source": [
    "def get_grads(act_fn, x):\n",
    "    \"\"\"\n",
    "    Computes the gradients of an activation function at specified positions.\n",
    "    \n",
    "    Inputs:\n",
    "        act_fn: An instance of `ActivationFunction` with an implemented forward pass.\n",
    "        x: 1D input tensor. \n",
    "    Output:\n",
    "        A tensor with the same size of x containing the gradients of act_fn at x.\n",
    "    \"\"\"\n",
    "    x = x.clone().requires_grad_(True)\n",
    "    out = act_fn(x)\n",
    "    out.sum().backward() # Trick: 𝜕(y1 + y2) / 𝜕x1 = 𝜕y1 / 𝜕x1 => stored at x1. \n",
    "    \n",
    "    return x.grad"
   ]
  },
  {
   "cell_type": "markdown",
   "id": "a0a5502a",
   "metadata": {
    "papermill": {
     "duration": 0.032873,
     "end_time": "2021-12-17T09:57:10.850119",
     "exception": false,
     "start_time": "2021-12-17T09:57:10.817246",
     "status": "completed"
    },
    "tags": []
   },
   "source": [
    "Now we can visualize all our activation functions including their gradients:"
   ]
  },
  {
   "cell_type": "code",
   "execution_count": 10,
   "id": "10345f61",
   "metadata": {
    "execution": {
     "iopub.execute_input": "2021-12-17T09:57:10.918580Z",
     "iopub.status.busy": "2021-12-17T09:57:10.917947Z",
     "iopub.status.idle": "2021-12-17T09:57:11.958996Z",
     "shell.execute_reply": "2021-12-17T09:57:11.959455Z",
     "shell.execute_reply.started": "2021-12-17T08:28:58.565537Z"
    },
    "papermill": {
     "duration": 1.076882,
     "end_time": "2021-12-17T09:57:11.959669",
     "exception": false,
     "start_time": "2021-12-17T09:57:10.882787",
     "status": "completed"
    },
    "tags": []
   },
   "outputs": [
    {
     "data": {
      "image/png": "[encoded data removed]",
      "text/plain": [
       "<Figure size 800x1200 with 6 Axes>"
      ]
     },
     "metadata": {
      "needs_background": "light"
     },
     "output_type": "display_data"
    }
   ],
   "source": [
    "def visualize_act_fn(act_fn, ax, x):\n",
    "    \n",
    "    # Run activation function\n",
    "    y = act_fn(x)\n",
    "    y_grads = get_grads(act_fn, x)\n",
    "    \n",
    "    # Push x, y and gradients back to cpu for plotting\n",
    "    x, y, y_grads = x.cpu().numpy(), y.cpu().numpy(), y_grads.cpu().numpy()\n",
    "    \n",
    "    # Plotting\n",
    "    ax.plot(x, y, linewidth=2, color='red', label=\"ActFn\")\n",
    "    ax.plot(x, y_grads, linewidth=1, color='black', label=\"Gradient\")\n",
    "    ax.set_title(act_fn.name)\n",
    "    ax.legend()\n",
    "    ax.grid()\n",
    "    ax.set_ylim(-1.5, x.max())\n",
    "\n",
    "# Initialize activations in a list\n",
    "act_fns = [act_fn() for act_fn in act_fn_by_name.values()]\n",
    "\n",
    "# Plotting\n",
    "x = torch.linspace(-5, 5, 1000)\n",
    "rows = math.ceil(len(act_fns) / 2.0)\n",
    "fig, ax = plt.subplots(rows, 2, figsize=(8, rows*4), dpi=100)\n",
    "for i, act_fn in enumerate(act_fns):\n",
    "    visualize_act_fn(act_fn, ax[divmod(i, 2)], x) # divmod(m, n) = m // n, m % n\n",
    "\n",
    "fig.subplots_adjust(hspace=0.3)\n",
    "plt.show()"
   ]
  },
  {
   "cell_type": "markdown",
   "id": "8e2e05f4",
   "metadata": {
    "papermill": {
     "duration": 0.037502,
     "end_time": "2021-12-17T09:57:12.033587",
     "exception": false,
     "start_time": "2021-12-17T09:57:11.996085",
     "status": "completed"
    },
    "tags": []
   },
   "source": [
    "## Analysing the effect of activation functions"
   ]
  },
  {
   "cell_type": "markdown",
   "id": "ac6ece32",
   "metadata": {
    "papermill": {
     "duration": 0.035657,
     "end_time": "2021-12-17T09:57:12.105849",
     "exception": false,
     "start_time": "2021-12-17T09:57:12.070192",
     "status": "completed"
    },
    "tags": []
   },
   "source": [
    "After implementing and visualizing the activation functions, we are aiming to gain insights into their effect. \n",
    "We do this by using a simple neural network trained on [FashionMNIST](https://github.com/zalandoresearch/fashion-mnist) and examine various aspects of the model, including the performance and gradient flow."
   ]
  },
  {
   "cell_type": "markdown",
   "id": "1c443dfd",
   "metadata": {
    "papermill": {
     "duration": 0.035639,
     "end_time": "2021-12-17T09:57:12.178516",
     "exception": false,
     "start_time": "2021-12-17T09:57:12.142877",
     "status": "completed"
    },
    "tags": []
   },
   "source": [
    "### Setup"
   ]
  },
  {
   "cell_type": "markdown",
   "id": "fbe7a673",
   "metadata": {
    "papermill": {
     "duration": 0.035482,
     "end_time": "2021-12-17T09:57:12.249377",
     "exception": false,
     "start_time": "2021-12-17T09:57:12.213895",
     "status": "completed"
    },
    "tags": []
   },
   "source": [
    "Firstly, let's set up a neural network. The chosen network views the images as 1D tensors and pushes them through a sequence of linear layers and a specified activation function. Feel free to experiment with other network architectures."
   ]
  },
  {
   "cell_type": "code",
   "execution_count": 11,
   "id": "f3fafc68",
   "metadata": {
    "execution": {
     "iopub.execute_input": "2021-12-17T09:57:12.324021Z",
     "iopub.status.busy": "2021-12-17T09:57:12.323367Z",
     "iopub.status.idle": "2021-12-17T09:57:12.331624Z",
     "shell.execute_reply": "2021-12-17T09:57:12.332192Z",
     "shell.execute_reply.started": "2021-12-17T08:28:59.718465Z"
    },
    "papermill": {
     "duration": 0.047281,
     "end_time": "2021-12-17T09:57:12.332354",
     "exception": false,
     "start_time": "2021-12-17T09:57:12.285073",
     "status": "completed"
    },
    "scrolled": true,
    "tags": []
   },
   "outputs": [],
   "source": [
    "class BaseNetwork(nn.Module):\n",
    "    \n",
    "    def __init__(self, act_fn, input_size=784, num_classes=10, hidden_sizes=[512, 256, 256, 128]):\n",
    "        \"\"\"\n",
    "        Inputs:\n",
    "            act_fn - Object of the activation function that should be used as non-linearity in the network.\n",
    "            input_size - Size of the input images in pixels\n",
    "            num_classes - Number of classes we want to predict\n",
    "            hidden_sizes - A list of integers specifying the hidden layer sizes in the NN\n",
    "        \"\"\"\n",
    "        super().__init__()\n",
    "        \n",
    "        # Create the network based on the specified hidden sizes\n",
    "        # Iteratively add linear layer, followed by activation modules\n",
    "        layers = []\n",
    "        layer_sizes = [input_size] + hidden_sizes\n",
    "        for i in range(1, len(layer_sizes)):\n",
    "            layers += [nn.Linear(layer_sizes[i-1], layer_sizes[i]), act_fn]\n",
    "            \n",
    "        # Add output layer. Combine modules via nn.Sequential\n",
    "        layers += [nn.Linear(layer_sizes[-1], num_classes)]\n",
    "        self.layers = nn.Sequential(*layers)\n",
    "        \n",
    "        # Store all hyperparameters in a dictionary for saving and loading of the model\n",
    "        self.config = {\n",
    "            \"act_fn\": act_fn.config, \n",
    "            \"input_size\": input_size, \n",
    "            \"num_classes\": num_classes, \n",
    "            \"hidden_sizes\": hidden_sizes\n",
    "        }\n",
    "        \n",
    "    def forward(self, x):\n",
    "        x = x.view(x.size(0), -1) # Reshape images to a flat vector, i.e. B = x.size(0)\n",
    "        out = self.layers(x)\n",
    "        return out    "
   ]
  },
  {
   "cell_type": "markdown",
   "id": "2b2aadcb",
   "metadata": {
    "papermill": {
     "duration": 0.035294,
     "end_time": "2021-12-17T09:57:12.403831",
     "exception": false,
     "start_time": "2021-12-17T09:57:12.368537",
     "status": "completed"
    },
    "tags": []
   },
   "source": [
    "Define two utility functions for returning config and state dict paths."
   ]
  },
  {
   "cell_type": "code",
   "execution_count": 12,
   "id": "de294385",
   "metadata": {
    "execution": {
     "iopub.execute_input": "2021-12-17T09:57:12.479022Z",
     "iopub.status.busy": "2021-12-17T09:57:12.478068Z",
     "iopub.status.idle": "2021-12-17T09:57:12.482435Z",
     "shell.execute_reply": "2021-12-17T09:57:12.482947Z",
     "shell.execute_reply.started": "2021-12-17T08:28:59.731985Z"
    },
    "papermill": {
     "duration": 0.043201,
     "end_time": "2021-12-17T09:57:12.483117",
     "exception": false,
     "start_time": "2021-12-17T09:57:12.439916",
     "status": "completed"
    },
    "tags": []
   },
   "outputs": [],
   "source": [
    "def _get_config_file(model_path: pathlib.Path, model_name: str) -> pathlib.Path:\n",
    "    return model_path / (model_name + \".config\")\n",
    "\n",
    "def _get_model_file(model_path: pathlib.Path, model_name: str) -> pathlib.Path: \n",
    "    return model_path / (model_name + \".tar\")"
   ]
  },
  {
   "cell_type": "markdown",
   "id": "135c5d2b",
   "metadata": {
    "papermill": {
     "duration": 0.036096,
     "end_time": "2021-12-17T09:57:12.555207",
     "exception": false,
     "start_time": "2021-12-17T09:57:12.519111",
     "status": "completed"
    },
    "tags": []
   },
   "source": [
    "Testing."
   ]
  },
  {
   "cell_type": "code",
   "execution_count": 13,
   "id": "701f7e96",
   "metadata": {
    "execution": {
     "iopub.execute_input": "2021-12-17T09:57:12.631426Z",
     "iopub.status.busy": "2021-12-17T09:57:12.630556Z",
     "iopub.status.idle": "2021-12-17T09:57:12.639017Z",
     "shell.execute_reply": "2021-12-17T09:57:12.638277Z",
     "shell.execute_reply.started": "2021-12-17T08:28:59.746176Z"
    },
    "papermill": {
     "duration": 0.047911,
     "end_time": "2021-12-17T09:57:12.639191",
     "exception": false,
     "start_time": "2021-12-17T09:57:12.591280",
     "status": "completed"
    },
    "tags": []
   },
   "outputs": [
    {
     "name": "stdout",
     "output_type": "stream",
     "text": [
      "/kaggle/working/saved_models/tutorial3/FashionMNIST_leakyrelu.config\n"
     ]
    },
    {
     "data": {
      "text/plain": [
       "{'act_fn': {'name': 'LeakyReLU', 'alpha': 0.1},\n",
       " 'input_size': 784,\n",
       " 'num_classes': 10,\n",
       " 'hidden_sizes': [512, 256, 256, 128]}"
      ]
     },
     "execution_count": 13,
     "metadata": {},
     "output_type": "execute_result"
    }
   ],
   "source": [
    "config_file = _get_config_file(CHECKPOINT_PATH, 'FashionMNIST_leakyrelu')\n",
    "print(config_file)\n",
    "with open(config_file, \"r\") as f:\n",
    "    config_dict = json.load(f)\n",
    "\n",
    "config_dict"
   ]
  },
  {
   "cell_type": "markdown",
   "id": "7dec0187",
   "metadata": {
    "papermill": {
     "duration": 0.038072,
     "end_time": "2021-12-17T09:57:12.717465",
     "exception": false,
     "start_time": "2021-12-17T09:57:12.679393",
     "status": "completed"
    },
    "tags": []
   },
   "source": [
    "```{margin}\n",
    "**Saving and loading PyTorch models**\n",
    "```\n",
    "\n",
    "We now define two functions for loading and saving the model. "
   ]
  },
  {
   "cell_type": "code",
   "execution_count": 14,
   "id": "4cc1b1bb",
   "metadata": {
    "execution": {
     "iopub.execute_input": "2021-12-17T09:57:12.794726Z",
     "iopub.status.busy": "2021-12-17T09:57:12.794042Z",
     "iopub.status.idle": "2021-12-17T09:57:12.802735Z",
     "shell.execute_reply": "2021-12-17T09:57:12.803210Z",
     "shell.execute_reply.started": "2021-12-17T08:52:29.376856Z"
    },
    "papermill": {
     "duration": 0.048974,
     "end_time": "2021-12-17T09:57:12.803381",
     "exception": false,
     "start_time": "2021-12-17T09:57:12.754407",
     "status": "completed"
    },
    "scrolled": true,
    "tags": []
   },
   "outputs": [],
   "source": [
    "from typing import Optional\n",
    "\n",
    "def load_model(\n",
    "    model_path: pathlib.Path, \n",
    "    model_name: str, \n",
    "    net: Optional[nn.Module] = None) -> nn.Module:\n",
    "    \"\"\"\n",
    "    Loads a saved model from disk.\n",
    "    \n",
    "    Inputs:\n",
    "        model_path - Path of the checkpoint directory\n",
    "        model_name - Name of the model (str)\n",
    "        net - (Optional) If given, the state dict is loaded into this model. Otherwise, a new model is created.\n",
    "    \"\"\"\n",
    "    \n",
    "    # Get pathlib paths of model and config files; check if existing\n",
    "    config_file = _get_config_file(model_path, model_name)\n",
    "    model_file = _get_model_file(model_path, model_name)\n",
    "    \n",
    "    error_msg = lambda fn: f\"Could not find the file \\\"{fn}\\\".\"\n",
    "    assert config_file.is_file(), error_msg(config_file)\n",
    "    assert model_file.is_file(), error_msg(model_file)\n",
    "    \n",
    "    # If no network passed, init. network with architecture from config\n",
    "    if net is None:\n",
    "        with open(config_file, \"r\") as f:\n",
    "            config_dict = json.load(f)\n",
    "        \n",
    "        # Recall structure of config file in BaseNetwork\n",
    "        act_fn_name = config_dict[\"act_fn\"].pop(\"name\").lower()\n",
    "        act_fn = act_fn_by_name[act_fn_name](**config_dict.pop(\"act_fn\"))\n",
    "        net = BaseNetwork(act_fn=act_fn, **config_dict)\n",
    "    \n",
    "    # Load weights to network\n",
    "    state_dict = torch.load(model_file, map_location=device)\n",
    "    net.load_state_dict(state_dict)\n",
    "    \n",
    "    return net\n",
    "    \n",
    "    \n",
    "def save_model(\n",
    "    model: nn.Module, \n",
    "    model_path: pathlib.Path,\n",
    "    model_name: str) -> None:\n",
    "    \"\"\"\n",
    "    Given a model, we save the state_dict and hyperparameters.\n",
    "    \n",
    "    Inputs:\n",
    "        model - Network object to save parameters from\n",
    "        model_path - Path of the checkpoint directory\n",
    "        model_name - Name of the model (str)\n",
    "    \"\"\"\n",
    "    \n",
    "    config_dict = model.config\n",
    "    model_path.mkdir(exist_ok=True, parents=True)\n",
    "    \n",
    "    config_file = _get_config_file(model_path, model_name)\n",
    "    model_file = _get_model_file(model_path, model_name)\n",
    "    with open(config_file, \"w\") as f:\n",
    "        json.dump(config_dict, f)\n",
    "        \n",
    "    torch.save(model.state_dict(), model_file)"
   ]
  },
  {
   "cell_type": "code",
   "execution_count": 15,
   "id": "662fe7f8",
   "metadata": {
    "execution": {
     "iopub.execute_input": "2021-12-17T09:57:12.880100Z",
     "iopub.status.busy": "2021-12-17T09:57:12.879478Z",
     "iopub.status.idle": "2021-12-17T09:57:12.926994Z",
     "shell.execute_reply": "2021-12-17T09:57:12.927558Z",
     "shell.execute_reply.started": "2021-12-17T08:52:30.321115Z"
    },
    "papermill": {
     "duration": 0.087337,
     "end_time": "2021-12-17T09:57:12.927742",
     "exception": false,
     "start_time": "2021-12-17T09:57:12.840405",
     "status": "completed"
    },
    "tags": []
   },
   "outputs": [],
   "source": [
    "load_model?"
   ]
  },
  {
   "cell_type": "code",
   "execution_count": 16,
   "id": "fb105ff4",
   "metadata": {
    "execution": {
     "iopub.execute_input": "2021-12-17T09:57:13.003294Z",
     "iopub.status.busy": "2021-12-17T09:57:13.002679Z",
     "iopub.status.idle": "2021-12-17T09:57:13.008179Z",
     "shell.execute_reply": "2021-12-17T09:57:13.008741Z",
     "shell.execute_reply.started": "2021-12-17T08:52:31.435737Z"
    },
    "papermill": {
     "duration": 0.045095,
     "end_time": "2021-12-17T09:57:13.008918",
     "exception": false,
     "start_time": "2021-12-17T09:57:12.963823",
     "status": "completed"
    },
    "tags": []
   },
   "outputs": [],
   "source": [
    "save_model?"
   ]
  },
  {
   "cell_type": "code",
   "execution_count": 17,
   "id": "ad228673",
   "metadata": {
    "execution": {
     "iopub.execute_input": "2021-12-17T09:57:13.086206Z",
     "iopub.status.busy": "2021-12-17T09:57:13.085629Z",
     "iopub.status.idle": "2021-12-17T09:57:13.106679Z",
     "shell.execute_reply": "2021-12-17T09:57:13.107302Z",
     "shell.execute_reply.started": "2021-12-17T08:52:32.528225Z"
    },
    "papermill": {
     "duration": 0.061309,
     "end_time": "2021-12-17T09:57:13.107493",
     "exception": false,
     "start_time": "2021-12-17T09:57:13.046184",
     "status": "completed"
    },
    "tags": []
   },
   "outputs": [
    {
     "data": {
      "text/plain": [
       "BaseNetwork(\n",
       "  (layers): Sequential(\n",
       "    (0): Linear(in_features=784, out_features=512, bias=True)\n",
       "    (1): LeakyReLU()\n",
       "    (2): Linear(in_features=512, out_features=256, bias=True)\n",
       "    (3): LeakyReLU()\n",
       "    (4): Linear(in_features=256, out_features=256, bias=True)\n",
       "    (5): LeakyReLU()\n",
       "    (6): Linear(in_features=256, out_features=128, bias=True)\n",
       "    (7): LeakyReLU()\n",
       "    (8): Linear(in_features=128, out_features=10, bias=True)\n",
       "  )\n",
       ")"
      ]
     },
     "execution_count": 17,
     "metadata": {},
     "output_type": "execute_result"
    }
   ],
   "source": [
    "model = load_model(CHECKPOINT_PATH, 'FashionMNIST_leakyrelu')\n",
    "model"
   ]
  },
  {
   "cell_type": "markdown",
   "id": "a0d1c26e",
   "metadata": {
    "papermill": {
     "duration": 0.036506,
     "end_time": "2021-12-17T09:57:13.182292",
     "exception": false,
     "start_time": "2021-12-17T09:57:13.145786",
     "status": "completed"
    },
    "tags": []
   },
   "source": [
    "We also set up the dataset we want to train it on, namely [FashionMNIST](https://github.com/zalandoresearch/fashion-mnist). FashionMNIST is a more complex version of MNIST and contains black-and-white images of clothes instead of digits. The 10 classes include trousers, coats, shoes, bags and more. To load this dataset, we will make use of yet another PyTorch package, namely `torchvision` ([documentation](https://pytorch.org/docs/stable/torchvision/index.html)). The `torchvision` package consists of popular datasets, model architectures, and common image transformations for computer vision. We will use the package for many of the notebooks in this course to simplify our dataset handling. "
   ]
  },
  {
   "cell_type": "code",
   "execution_count": 18,
   "id": "d2bf6f04",
   "metadata": {
    "execution": {
     "iopub.execute_input": "2021-12-17T09:57:13.262254Z",
     "iopub.status.busy": "2021-12-17T09:57:13.261633Z",
     "iopub.status.idle": "2021-12-17T09:57:18.839565Z",
     "shell.execute_reply": "2021-12-17T09:57:18.840241Z",
     "shell.execute_reply.started": "2021-12-17T08:52:47.910109Z"
    },
    "papermill": {
     "duration": 5.621504,
     "end_time": "2021-12-17T09:57:18.840458",
     "exception": false,
     "start_time": "2021-12-17T09:57:13.218954",
     "status": "completed"
    },
    "scrolled": true,
    "tags": []
   },
   "outputs": [
    {
     "name": "stdout",
     "output_type": "stream",
     "text": [
      "Downloading http://fashion-mnist.s3-website.eu-central-1.amazonaws.com/train-images-idx3-ubyte.gz\n",
      "Downloading http://fashion-mnist.s3-website.eu-central-1.amazonaws.com/train-images-idx3-ubyte.gz to /kaggle/working/data/FashionMNIST/raw/train-images-idx3-ubyte.gz\n"
     ]
    },
    {
     "data": {
      "application/vnd.jupyter.widget-view+json": {
       "model_id": "bdbae2bd0ce64056bb484f46ff531d7e",
       "version_major": 2,
       "version_minor": 0
      },
      "text/plain": [
       "  0%|          | 0/26421880 [00:00<?, ?it/s]"
      ]
     },
     "metadata": {},
     "output_type": "display_data"
    },
    {
     "name": "stdout",
     "output_type": "stream",
     "text": [
      "Extracting /kaggle/working/data/FashionMNIST/raw/train-images-idx3-ubyte.gz to /kaggle/working/data/FashionMNIST/raw\n",
      "\n",
      "Downloading http://fashion-mnist.s3-website.eu-central-1.amazonaws.com/train-labels-idx1-ubyte.gz\n",
      "Downloading http://fashion-mnist.s3-website.eu-central-1.amazonaws.com/train-labels-idx1-ubyte.gz to /kaggle/working/data/FashionMNIST/raw/train-labels-idx1-ubyte.gz\n"
     ]
    },
    {
     "data": {
      "application/vnd.jupyter.widget-view+json": {
       "model_id": "c7cfae4730ab47c194f2e88896c61899",
       "version_major": 2,
       "version_minor": 0
      },
      "text/plain": [
       "  0%|          | 0/29515 [00:00<?, ?it/s]"
      ]
     },
     "metadata": {},
     "output_type": "display_data"
    },
    {
     "name": "stdout",
     "output_type": "stream",
     "text": [
      "Extracting /kaggle/working/data/FashionMNIST/raw/train-labels-idx1-ubyte.gz to /kaggle/working/data/FashionMNIST/raw\n",
      "\n",
      "Downloading http://fashion-mnist.s3-website.eu-central-1.amazonaws.com/t10k-images-idx3-ubyte.gz\n",
      "Downloading http://fashion-mnist.s3-website.eu-central-1.amazonaws.com/t10k-images-idx3-ubyte.gz to /kaggle/working/data/FashionMNIST/raw/t10k-images-idx3-ubyte.gz\n"
     ]
    },
    {
     "data": {
      "application/vnd.jupyter.widget-view+json": {
       "model_id": "938c7a01ac134a948d8354964de238db",
       "version_major": 2,
       "version_minor": 0
      },
      "text/plain": [
       "  0%|          | 0/4422102 [00:00<?, ?it/s]"
      ]
     },
     "metadata": {},
     "output_type": "display_data"
    },
    {
     "name": "stdout",
     "output_type": "stream",
     "text": [
      "Extracting /kaggle/working/data/FashionMNIST/raw/t10k-images-idx3-ubyte.gz to /kaggle/working/data/FashionMNIST/raw\n",
      "\n",
      "Downloading http://fashion-mnist.s3-website.eu-central-1.amazonaws.com/t10k-labels-idx1-ubyte.gz\n",
      "Downloading http://fashion-mnist.s3-website.eu-central-1.amazonaws.com/t10k-labels-idx1-ubyte.gz to /kaggle/working/data/FashionMNIST/raw/t10k-labels-idx1-ubyte.gz\n"
     ]
    },
    {
     "data": {
      "application/vnd.jupyter.widget-view+json": {
       "model_id": "bc40d510d8b34f0baeb7e43a5cabc8f5",
       "version_major": 2,
       "version_minor": 0
      },
      "text/plain": [
       "  0%|          | 0/5148 [00:00<?, ?it/s]"
      ]
     },
     "metadata": {},
     "output_type": "display_data"
    },
    {
     "name": "stdout",
     "output_type": "stream",
     "text": [
      "Extracting /kaggle/working/data/FashionMNIST/raw/t10k-labels-idx1-ubyte.gz to /kaggle/working/data/FashionMNIST/raw\n",
      "\n"
     ]
    },
    {
     "name": "stderr",
     "output_type": "stream",
     "text": [
      "/opt/conda/lib/python3.7/site-packages/torchvision/datasets/mnist.py:498: UserWarning: The given NumPy array is not writeable, and PyTorch does not support non-writeable tensors. This means you can write to the underlying (supposedly non-writeable) NumPy array using the tensor. You may want to copy the array to protect its data or make it writeable before converting it to a tensor. This type of warning will be suppressed for the rest of this program. (Triggered internally at  ../torch/csrc/utils/tensor_numpy.cpp:180.)\n",
      "  return torch.from_numpy(parsed.astype(m[2], copy=False)).view(*s)\n"
     ]
    }
   ],
   "source": [
    "import torchvision\n",
    "from torchvision.datasets import FashionMNIST\n",
    "from torchvision import transforms\n",
    "\n",
    "# Transformations applied on each image => first make them a tensor, then normalize them in the range -1 to 1\n",
    "transform = transforms.Compose([transforms.ToTensor(), \n",
    "                                transforms.Normalize((0.5,), (0.5,))])\n",
    "\n",
    "# Loading the training dataset. We need to split it into a training and validation part\n",
    "train_dataset = FashionMNIST(root=DATASET_PATH, train=True, transform=transform, download=True)\n",
    "train_set, val_set = torch.utils.data.random_split(train_dataset, [50000, 10000])\n",
    "\n",
    "# Loading the test set\n",
    "test_set = FashionMNIST(root=DATASET_PATH, train=False, transform=transform, download=True)\n",
    "\n",
    "# Define a set of data loaders that we can use for various purposes later.\n",
    "# For actual model training, we will use different data loaders with lower batch sizes.\n",
    "train_loader = data.DataLoader(train_set, batch_size=1024, shuffle=True, drop_last=False)\n",
    "val_loader = data.DataLoader(val_set, batch_size=1024, shuffle=False, drop_last=False)\n",
    "test_loader = data.DataLoader(test_set, batch_size=1024, shuffle=False, drop_last=False)"
   ]
  },
  {
   "cell_type": "markdown",
   "id": "69830a32",
   "metadata": {
    "papermill": {
     "duration": 0.040121,
     "end_time": "2021-12-17T09:57:18.922746",
     "exception": false,
     "start_time": "2021-12-17T09:57:18.882625",
     "status": "completed"
    },
    "tags": []
   },
   "source": [
    "Let's visualize a few images to get an impression of the data."
   ]
  },
  {
   "cell_type": "code",
   "execution_count": 19,
   "id": "a6f58b0b",
   "metadata": {
    "execution": {
     "iopub.execute_input": "2021-12-17T09:57:19.013297Z",
     "iopub.status.busy": "2021-12-17T09:57:19.012662Z",
     "iopub.status.idle": "2021-12-17T09:57:19.673432Z",
     "shell.execute_reply": "2021-12-17T09:57:19.673920Z",
     "shell.execute_reply.started": "2021-12-17T08:52:53.769386Z"
    },
    "papermill": {
     "duration": 0.710145,
     "end_time": "2021-12-17T09:57:19.674078",
     "exception": false,
     "start_time": "2021-12-17T09:57:18.963933",
     "status": "completed"
    },
    "tags": []
   },
   "outputs": [
    {
     "data": {
      "image/png": "[encoded data removed]",
      "text/plain": [
       "<Figure size 576x576 with 16 Axes>"
      ]
     },
     "metadata": {},
     "output_type": "display_data"
    }
   ],
   "source": [
    "exmp_imgs = [train_set[i] for i in range(16)]\n",
    "class_map = {\n",
    "    0: \"T-shirt/top\",\n",
    "    1: \"Trouser\",\n",
    "    2: \"Pullover\",\n",
    "    3: \"Dress\",\n",
    "    4: \"Coat\",\n",
    "    5: \"Sandal\",\n",
    "    6: \"Shirt\",\n",
    "    7: \"Sneaker\",\n",
    "    8: \"Bag\",\n",
    "    9: \"Ankle boot\",\n",
    "}\n",
    "\n",
    "fig = plt.figure(figsize=(8, 8))\n",
    "for i, (img, label) in enumerate(exmp_imgs):\n",
    "    ax = fig.add_subplot(4, 4, i+1)\n",
    "    ax.set_xticks([]); ax.set_yticks([])\n",
    "    ax.imshow(img.cpu().numpy()[0, :, :], cmap=\"gray\")\n",
    "    ax.set_title(class_map[label], size=15)\n",
    "    \n",
    "plt.tight_layout()\n",
    "plt.show()"
   ]
  },
  {
   "cell_type": "markdown",
   "id": "07a16e2a",
   "metadata": {
    "papermill": {
     "duration": 0.042015,
     "end_time": "2021-12-17T09:57:19.758230",
     "exception": false,
     "start_time": "2021-12-17T09:57:19.716215",
     "status": "completed"
    },
    "tags": []
   },
   "source": [
    "### Visualizing the gradient flow after initialization\n",
    "\n",
    "As mentioned previously, one important aspect of activation functions is how they propagate gradients through the network. Imagine we have a very deep neural network with more than 50 layers. The gradients for the input layer, i.e. the very first layer, have passed >50 times the activation function, but we still want them to be of a reasonable size. If the gradient through the activation function is (in expectation) considerably smaller than 1, our gradients will vanish until they reach the input layer. If the gradient through the activation function is larger than 1, the gradients exponentially increase and might explode. \n",
    "\n",
    "To get a feeling of how every activation function influences the gradients, we can look at a freshly initialized network and measure the gradients for each parameter for a batch of 256 images."
   ]
  },
  {
   "cell_type": "code",
   "execution_count": 20,
   "id": "de1198fa",
   "metadata": {
    "execution": {
     "iopub.execute_input": "2021-12-17T09:57:19.846928Z",
     "iopub.status.busy": "2021-12-17T09:57:19.846281Z",
     "iopub.status.idle": "2021-12-17T09:57:19.855306Z",
     "shell.execute_reply": "2021-12-17T09:57:19.855788Z",
     "shell.execute_reply.started": "2021-12-17T09:46:36.392403Z"
    },
    "papermill": {
     "duration": 0.054899,
     "end_time": "2021-12-17T09:57:19.855950",
     "exception": false,
     "start_time": "2021-12-17T09:57:19.801051",
     "status": "completed"
    },
    "scrolled": true,
    "tags": []
   },
   "outputs": [],
   "source": [
    "def visualize_gradients(net, color=\"C0\"):\n",
    "    \"\"\"\n",
    "    Inputs\n",
    "        net: Object of class BaseNetwork\n",
    "        color: Color in which we want to visualize the histogram (for easier separation of activation functions)\n",
    "    \"\"\"\n",
    "    \n",
    "    net.eval()\n",
    "    \n",
    "    # Get one batch (size=256) of images\n",
    "    small_loader = data.DataLoader(train_set, batch_size=256, shuffle=False)\n",
    "    imgs, labels = next(iter(small_loader))\n",
    "    imgs, labels = imgs.to(device), labels.to(device)\n",
    "    \n",
    "    # Pass the batch through the network, and calculate the gradients for the weights\n",
    "    net.zero_grad()\n",
    "    preds = net(imgs)\n",
    "    loss = F.cross_entropy(preds, labels)\n",
    "    loss.backward()\n",
    "    \n",
    "    # We limit our visualization to the weight parameters and exclude the bias to reduce the number of plots\n",
    "    grads = {name: params.grad.data.view(-1).cpu().clone().numpy() for name, params in net.named_parameters() if \"weight\" in name}\n",
    "    net.zero_grad()\n",
    "    \n",
    "    # Plotting\n",
    "    columns = len(grads)\n",
    "    fig, ax = plt.subplots(1, columns, figsize=(columns*3.5, 2.5))\n",
    "    fig_index = 0\n",
    "\n",
    "    for key in reversed(sorted(grads.keys())):\n",
    "        key_ax = ax[fig_index % columns]\n",
    "        sns.histplot(data=grads[key], bins=30, ax=key_ax, color=color, kde=True)\n",
    "        key_ax.set_xlabel(\"Grad magnitude\")\n",
    "        key_ax.set_title(key)\n",
    "        fig_index += 1\n",
    "        \n",
    "    fig.suptitle(f\"Gradient magnitude distribution for activation function {net.config['act_fn']['name']}\", fontsize=14, y=1.05)\n",
    "    fig.subplots_adjust(wspace=0.45)\n",
    "    plt.show()\n",
    "    plt.close() "
   ]
  },
  {
   "cell_type": "code",
   "execution_count": 21,
   "id": "c4fd8f15",
   "metadata": {
    "execution": {
     "iopub.execute_input": "2021-12-17T09:57:19.943626Z",
     "iopub.status.busy": "2021-12-17T09:57:19.942989Z",
     "iopub.status.idle": "2021-12-17T09:57:42.957465Z",
     "shell.execute_reply": "2021-12-17T09:57:42.956910Z",
     "shell.execute_reply.started": "2021-12-17T09:46:38.715793Z"
    },
    "papermill": {
     "duration": 23.059354,
     "end_time": "2021-12-17T09:57:42.957628",
     "exception": false,
     "start_time": "2021-12-17T09:57:19.898274",
     "status": "completed"
    },
    "tags": []
   },
   "outputs": [
    {
     "data": {
      "image/png": "[encoded data removed]",
      "text/plain": [
       "<Figure size 1260x180 with 5 Axes>"
      ]
     },
     "metadata": {
      "needs_background": "light"
     },
     "output_type": "display_data"
    },
    {
     "data": {
      "image/png": "[encoded data removed]",
      "text/plain": [
       "<Figure size 1260x180 with 5 Axes>"
      ]
     },
     "metadata": {
      "needs_background": "light"
     },
     "output_type": "display_data"
    },
    {
     "data": {
      "image/png": "[encoded data removed]",
      "text/plain": [
       "<Figure size 1260x180 with 5 Axes>"
      ]
     },
     "metadata": {
      "needs_background": "light"
     },
     "output_type": "display_data"
    },
    {
     "data": {
      "image/png": "[encoded data removed]",
      "text/plain": [
       "<Figure size 1260x180 with 5 Axes>"
      ]
     },
     "metadata": {
      "needs_background": "light"
     },
     "output_type": "display_data"
    },
    {
     "data": {
      "image/png": "[encoded data removed]",
      "text/plain": [
       "<Figure size 1260x180 with 5 Axes>"
      ]
     },
     "metadata": {
      "needs_background": "light"
     },
     "output_type": "display_data"
    },
    {
     "data": {
      "image/png": "[encoded data removed]",
      "text/plain": [
       "<Figure size 1260x180 with 5 Axes>"
      ]
     },
     "metadata": {
      "needs_background": "light"
     },
     "output_type": "display_data"
    }
   ],
   "source": [
    "# Seaborn prints warnings if histogram has small values. We can ignore them for now\n",
    "import warnings\n",
    "warnings.filterwarnings('ignore')\n",
    "\n",
    "# Create a plot for every activation function\n",
    "for i, act_fn_name in enumerate(act_fn_by_name):\n",
    "    set_seed(42) # Setting the seed ensures that we have the same weight initialization for each activation function\n",
    "    act_fn = act_fn_by_name[act_fn_name]()\n",
    "    net_actfn = BaseNetwork(act_fn=act_fn).to(device)\n",
    "    visualize_gradients(net_actfn, color=f\"C{i}\")"
   ]
  },
  {
   "cell_type": "markdown",
   "id": "30bd3053",
   "metadata": {
    "papermill": {
     "duration": 0.053042,
     "end_time": "2021-12-17T09:57:43.063273",
     "exception": false,
     "start_time": "2021-12-17T09:57:43.010231",
     "status": "completed"
    },
    "tags": []
   },
   "source": [
    "The sigmoid activation function shows a clearly undesirable behavior. While the gradients for the output layer are very large with up to 0.1, the input layer has the lowest gradient norm across all activation functions with only 1e-5. This is due to its small maximum gradient of 1/4, and finding a suitable learning rate across all layers is not possible in this setup.\n",
    "All the other activation functions show to have similar gradient norms across all layers. Interestingly, the ReLU activation has a spike around 0 which is caused by its zero-part on the left, and dead neurons (we will take a closer look at this later on).\n",
    "\n",
    "Note that additionally to the activation, the **initialization** of the weight parameters can be crucial. By default, PyTorch uses the [Kaiming](https://pytorch.org/docs/stable/nn.init.html#torch.nn.init.kaiming_uniform_) initialization for linear layers optimized for ReLU activations. In [Optimization and Initialization](https://particle1331.github.io/machine-learning/notebooks/pytorch-optim-init.html), we will take a closer look at initialization, but assume for now that the Kaiming initialization works for all activation functions reasonably well."
   ]
  },
  {
   "cell_type": "markdown",
   "id": "7f9d682f",
   "metadata": {
    "papermill": {
     "duration": 0.052335,
     "end_time": "2021-12-17T09:57:43.168373",
     "exception": false,
     "start_time": "2021-12-17T09:57:43.116038",
     "status": "completed"
    },
    "tags": []
   },
   "source": [
    "### Training a model\n",
    "\n",
    "Next, we want to train our model with different activation functions on FashionMNIST and compare the gained performance. All in all, our final goal is to achieve the best possible performance on a dataset of our choice. \n",
    "Therefore, we write a training loop in the next cell including a validation after every epoch and a final test on the best model:"
   ]
  },
  {
   "cell_type": "code",
   "execution_count": 22,
   "id": "8bc53f2a",
   "metadata": {
    "execution": {
     "iopub.execute_input": "2021-12-17T09:57:43.280728Z",
     "iopub.status.busy": "2021-12-17T09:57:43.280060Z",
     "iopub.status.idle": "2021-12-17T09:57:43.294044Z",
     "shell.execute_reply": "2021-12-17T09:57:43.294513Z",
     "shell.execute_reply.started": "2021-12-17T08:29:33.225911Z"
    },
    "papermill": {
     "duration": 0.073886,
     "end_time": "2021-12-17T09:57:43.294701",
     "exception": false,
     "start_time": "2021-12-17T09:57:43.220815",
     "status": "completed"
    },
    "scrolled": true,
    "tags": []
   },
   "outputs": [],
   "source": [
    "def train_model(net, model_name, max_epochs=50, patience=7, batch_size=256, overwrite=False):\n",
    "    \"\"\"\n",
    "    Train a model on the training set of FashionMNIST\n",
    "    \n",
    "    Inputs:\n",
    "        net - Object of BaseNetwork\n",
    "        model_name - (str) Name of the model, used for creating the checkpoint names\n",
    "        max_epochs - Number of epochs we want to (maximally) train for\n",
    "        patience - If the performance on the validation set has not improved for #patience epochs, we stop training early\n",
    "        batch_size - Size of batches used in training\n",
    "        overwrite - Determines how to handle the case when there already exists a checkpoint. If True, it will be overwritten. Otherwise, we skip training.\n",
    "    \"\"\"\n",
    "    file_exists = os.path.isfile(_get_model_file(CHECKPOINT_PATH, model_name))\n",
    "    if file_exists and not overwrite:\n",
    "        print(\"Model file already exists. Skipping training...\")\n",
    "    else:\n",
    "        if file_exists:\n",
    "            print(\"Model file exists, but will be overwritten...\")\n",
    "            \n",
    "        # Defining optimizer, loss and data loader\n",
    "        optimizer = optim.SGD(net.parameters(), lr=1e-2, momentum=0.9) # Default parameters, feel free to change\n",
    "        loss_module = nn.CrossEntropyLoss() \n",
    "        train_loader_local = data.DataLoader(train_set, batch_size=batch_size, shuffle=True, drop_last=True, pin_memory=True)\n",
    "\n",
    "        val_scores = []\n",
    "        best_val_epoch = -1\n",
    "        for epoch in range(max_epochs):\n",
    "            ############\n",
    "            # Training #\n",
    "            ############\n",
    "            net.train()\n",
    "            true_preds, count = 0., 0\n",
    "            for imgs, labels in tqdm(train_loader_local, desc=f\"Epoch {epoch+1}\", leave=False):\n",
    "                imgs, labels = imgs.to(device), labels.to(device) # To GPU\n",
    "                optimizer.zero_grad() # Zero-grad can be placed anywhere before \"loss.backward()\"\n",
    "                preds = net(imgs)\n",
    "                loss = loss_module(preds, labels)\n",
    "                loss.backward()\n",
    "                optimizer.step()\n",
    "                # Record statistics during training\n",
    "                true_preds += (preds.argmax(dim=-1) == labels).sum()\n",
    "                count += labels.shape[0]\n",
    "            train_acc = true_preds / count\n",
    "\n",
    "            ##############\n",
    "            # Validation #\n",
    "            ##############\n",
    "            val_acc = test_model(net, val_loader)\n",
    "            val_scores.append(val_acc)\n",
    "            print(f\"[Epoch {epoch+1:2d}] Training accuracy: {train_acc*100.0:05.2f}%, Validation accuracy: {val_acc*100.0:05.2f}%\")\n",
    "\n",
    "            if len(val_scores) == 1 or val_acc > val_scores[best_val_epoch]:\n",
    "                print(\"\\t   (New best performance, saving model...)\")\n",
    "                save_model(net, CHECKPOINT_PATH, model_name)\n",
    "                best_val_epoch = epoch\n",
    "            elif best_val_epoch <= epoch - patience:\n",
    "                print(f\"Early stopping due to no improvement over the last {patience} epochs\")\n",
    "                break\n",
    "\n",
    "        # Plot a curve of the validation accuracy\n",
    "        plt.plot([i for i in range(1,len(val_scores)+1)], val_scores)\n",
    "        plt.xlabel(\"Epochs\")\n",
    "        plt.ylabel(\"Validation accuracy\")\n",
    "        plt.title(f\"Validation performance of {model_name}\")\n",
    "        plt.show()\n",
    "        plt.close()\n",
    "    \n",
    "    load_model(CHECKPOINT_PATH, model_name, net=net)\n",
    "    test_acc = test_model(net, test_loader)\n",
    "    print((f\" Test accuracy: {test_acc*100.0:4.2f}% \").center(50, \"=\")+\"\\n\")\n",
    "    return test_acc\n",
    "    \n",
    "\n",
    "def test_model(net, data_loader):\n",
    "    \"\"\"\n",
    "    Test a model on a specified dataset.\n",
    "    \n",
    "    Inputs:\n",
    "        net - Trained model of type BaseNetwork\n",
    "        data_loader - DataLoader object of the dataset to test on (validation or test)\n",
    "    \"\"\"\n",
    "    net.eval()\n",
    "    true_preds, count = 0., 0\n",
    "    for imgs, labels in data_loader:\n",
    "        imgs, labels = imgs.to(device), labels.to(device)\n",
    "        with torch.no_grad():\n",
    "            preds = net(imgs).argmax(dim=-1)\n",
    "            true_preds += (preds == labels).sum().item()\n",
    "            count += labels.shape[0]\n",
    "    test_acc = true_preds / count\n",
    "    return test_acc "
   ]
  },
  {
   "cell_type": "markdown",
   "id": "fb9db363",
   "metadata": {
    "papermill": {
     "duration": 0.052287,
     "end_time": "2021-12-17T09:57:43.400026",
     "exception": false,
     "start_time": "2021-12-17T09:57:43.347739",
     "status": "completed"
    },
    "tags": []
   },
   "source": [
    "We train one model for each activation function. We recommend using the pretrained models to save time if you are running this notebook on CPU."
   ]
  },
  {
   "cell_type": "code",
   "execution_count": 23,
   "id": "753fe3e3",
   "metadata": {
    "execution": {
     "iopub.execute_input": "2021-12-17T09:57:43.506791Z",
     "iopub.status.busy": "2021-12-17T09:57:43.506201Z",
     "iopub.status.idle": "2021-12-17T09:57:43.637119Z",
     "shell.execute_reply": "2021-12-17T09:57:43.635445Z",
     "shell.execute_reply.started": "2021-12-17T08:29:33.247612Z"
    },
    "papermill": {
     "duration": 0.185289,
     "end_time": "2021-12-17T09:57:43.637498",
     "exception": true,
     "start_time": "2021-12-17T09:57:43.452209",
     "status": "failed"
    },
    "tags": []
   },
   "outputs": [
    {
     "name": "stdout",
     "output_type": "stream",
     "text": [
      "Training BaseNetwork with sigmoid activation...\n"
     ]
    },
    {
     "ename": "NameError",
     "evalue": "name 'os' is not defined",
     "output_type": "error",
     "traceback": [
      "\u001b[0;31m---------------------------------------------------------------------------\u001b[0m",
      "\u001b[0;31mNameError\u001b[0m                                 Traceback (most recent call last)",
      "\u001b[0;32m/tmp/ipykernel_19/2354829976.py\u001b[0m in \u001b[0;36m<module>\u001b[0;34m\u001b[0m\n\u001b[1;32m      4\u001b[0m     \u001b[0mact_fn\u001b[0m \u001b[0;34m=\u001b[0m \u001b[0mact_fn_by_name\u001b[0m\u001b[0;34m[\u001b[0m\u001b[0mact_fn_name\u001b[0m\u001b[0;34m]\u001b[0m\u001b[0;34m(\u001b[0m\u001b[0;34m)\u001b[0m\u001b[0;34m\u001b[0m\u001b[0;34m\u001b[0m\u001b[0m\n\u001b[1;32m      5\u001b[0m     \u001b[0mnet_actfn\u001b[0m \u001b[0;34m=\u001b[0m \u001b[0mBaseNetwork\u001b[0m\u001b[0;34m(\u001b[0m\u001b[0mact_fn\u001b[0m\u001b[0;34m=\u001b[0m\u001b[0mact_fn\u001b[0m\u001b[0;34m)\u001b[0m\u001b[0;34m.\u001b[0m\u001b[0mto\u001b[0m\u001b[0;34m(\u001b[0m\u001b[0mdevice\u001b[0m\u001b[0;34m)\u001b[0m\u001b[0;34m\u001b[0m\u001b[0;34m\u001b[0m\u001b[0m\n\u001b[0;32m----> 6\u001b[0;31m     \u001b[0mtrain_model\u001b[0m\u001b[0;34m(\u001b[0m\u001b[0mnet_actfn\u001b[0m\u001b[0;34m,\u001b[0m \u001b[0;34mf\"FashionMNIST_{act_fn_name}\"\u001b[0m\u001b[0;34m,\u001b[0m \u001b[0moverwrite\u001b[0m\u001b[0;34m=\u001b[0m\u001b[0;32mFalse\u001b[0m\u001b[0;34m)\u001b[0m\u001b[0;34m\u001b[0m\u001b[0;34m\u001b[0m\u001b[0m\n\u001b[0m",
      "\u001b[0;32m/tmp/ipykernel_19/2897206286.py\u001b[0m in \u001b[0;36mtrain_model\u001b[0;34m(net, model_name, max_epochs, patience, batch_size, overwrite)\u001b[0m\n\u001b[1;32m     11\u001b[0m         \u001b[0moverwrite\u001b[0m \u001b[0;34m-\u001b[0m \u001b[0mDetermines\u001b[0m \u001b[0mhow\u001b[0m \u001b[0mto\u001b[0m \u001b[0mhandle\u001b[0m \u001b[0mthe\u001b[0m \u001b[0mcase\u001b[0m \u001b[0mwhen\u001b[0m \u001b[0mthere\u001b[0m \u001b[0malready\u001b[0m \u001b[0mexists\u001b[0m \u001b[0ma\u001b[0m \u001b[0mcheckpoint\u001b[0m\u001b[0;34m.\u001b[0m \u001b[0mIf\u001b[0m \u001b[0;32mTrue\u001b[0m\u001b[0;34m,\u001b[0m \u001b[0mit\u001b[0m \u001b[0mwill\u001b[0m \u001b[0mbe\u001b[0m \u001b[0moverwritten\u001b[0m\u001b[0;34m.\u001b[0m \u001b[0mOtherwise\u001b[0m\u001b[0;34m,\u001b[0m \u001b[0mwe\u001b[0m \u001b[0mskip\u001b[0m \u001b[0mtraining\u001b[0m\u001b[0;34m.\u001b[0m\u001b[0;34m\u001b[0m\u001b[0;34m\u001b[0m\u001b[0m\n\u001b[1;32m     12\u001b[0m     \"\"\"\n\u001b[0;32m---> 13\u001b[0;31m     \u001b[0mfile_exists\u001b[0m \u001b[0;34m=\u001b[0m \u001b[0mos\u001b[0m\u001b[0;34m.\u001b[0m\u001b[0mpath\u001b[0m\u001b[0;34m.\u001b[0m\u001b[0misfile\u001b[0m\u001b[0;34m(\u001b[0m\u001b[0m_get_model_file\u001b[0m\u001b[0;34m(\u001b[0m\u001b[0mCHECKPOINT_PATH\u001b[0m\u001b[0;34m,\u001b[0m \u001b[0mmodel_name\u001b[0m\u001b[0;34m)\u001b[0m\u001b[0;34m)\u001b[0m\u001b[0;34m\u001b[0m\u001b[0;34m\u001b[0m\u001b[0m\n\u001b[0m\u001b[1;32m     14\u001b[0m     \u001b[0;32mif\u001b[0m \u001b[0mfile_exists\u001b[0m \u001b[0;32mand\u001b[0m \u001b[0;32mnot\u001b[0m \u001b[0moverwrite\u001b[0m\u001b[0;34m:\u001b[0m\u001b[0;34m\u001b[0m\u001b[0;34m\u001b[0m\u001b[0m\n\u001b[1;32m     15\u001b[0m         \u001b[0mprint\u001b[0m\u001b[0;34m(\u001b[0m\u001b[0;34m\"Model file already exists. Skipping training...\"\u001b[0m\u001b[0;34m)\u001b[0m\u001b[0;34m\u001b[0m\u001b[0;34m\u001b[0m\u001b[0m\n",
      "\u001b[0;31mNameError\u001b[0m: name 'os' is not defined"
     ]
    }
   ],
   "source": [
    "for act_fn_name in act_fn_by_name:\n",
    "    print(f\"Training BaseNetwork with {act_fn_name} activation...\")\n",
    "    set_seed(42)\n",
    "    act_fn = act_fn_by_name[act_fn_name]()\n",
    "    net_actfn = BaseNetwork(act_fn=act_fn).to(device)\n",
    "    train_model(net_actfn, f\"FashionMNIST_{act_fn_name}\", overwrite=False)"
   ]
  },
  {
   "cell_type": "markdown",
   "id": "14f96fbe",
   "metadata": {
    "papermill": {
     "duration": null,
     "end_time": null,
     "exception": null,
     "start_time": null,
     "status": "pending"
    },
    "tags": []
   },
   "source": [
    "Not surprisingly, the model using the sigmoid activation function shows to fail and does not improve upon random performance (10 classes => 1/10 for random chance). \n",
    "\n",
    "All the other activation functions gain similar performance.\n",
    "To have a more accurate conclusion, we would have to train the models for multiple seeds and look at the averages.\n",
    "However, the \"optimal\" activation function also depends on many other factors (hidden sizes, number of layers, type of layers, task, dataset, optimizer, learning rate, etc.) so that a thorough grid search would not be useful in our case.\n",
    "In the literature, activation functions that have shown to work well with deep networks are all types of ReLU functions we experiment with here, with small gains for specific activation functions in specific networks."
   ]
  },
  {
   "cell_type": "markdown",
   "id": "fd86d058",
   "metadata": {
    "papermill": {
     "duration": null,
     "end_time": null,
     "exception": null,
     "start_time": null,
     "status": "pending"
    },
    "tags": []
   },
   "source": [
    "### Visualizing the activation distribution"
   ]
  },
  {
   "cell_type": "markdown",
   "id": "a845675d",
   "metadata": {
    "papermill": {
     "duration": null,
     "end_time": null,
     "exception": null,
     "start_time": null,
     "status": "pending"
    },
    "tags": []
   },
   "source": [
    "After we have trained the models, we can look at the actual activation values that find inside the model. For instance, how many neurons are set to zero in ReLU? Where do we find most values in Tanh?\n",
    "To answer these questions, we can write a simple function which takes a trained model, applies it to a batch of images, and plots the histogram of the activations inside the network:"
   ]
  },
  {
   "cell_type": "code",
   "execution_count": null,
   "id": "bfb3323a",
   "metadata": {
    "execution": {
     "iopub.status.busy": "2021-12-17T08:29:33.439154Z",
     "iopub.status.idle": "2021-12-17T08:29:33.441213Z",
     "shell.execute_reply": "2021-12-17T08:29:33.440938Z",
     "shell.execute_reply.started": "2021-12-17T08:29:33.440904Z"
    },
    "papermill": {
     "duration": null,
     "end_time": null,
     "exception": null,
     "start_time": null,
     "status": "pending"
    },
    "scrolled": true,
    "tags": []
   },
   "outputs": [],
   "source": [
    "def visualize_activations(net, color=\"C0\"):\n",
    "    activations = {}\n",
    "    \n",
    "    net.eval()\n",
    "    small_loader = data.DataLoader(train_set, batch_size=1024)\n",
    "    imgs, labels = next(iter(small_loader))\n",
    "    with torch.no_grad():\n",
    "        layer_index = 0\n",
    "        imgs = imgs.to(device)\n",
    "        imgs = imgs.view(imgs.size(0), -1)\n",
    "        # We need to manually loop through the layers to save all activations\n",
    "        for layer_index, layer in enumerate(net.layers[:-1]):\n",
    "            imgs = layer(imgs)\n",
    "            activations[layer_index] = imgs.view(-1).cpu().numpy()\n",
    "    \n",
    "    ## Plotting\n",
    "    columns = 4\n",
    "    rows = math.ceil(len(activations)/columns)\n",
    "    fig, ax = plt.subplots(rows, columns, figsize=(columns*2.7, rows*2.5))\n",
    "    fig_index = 0\n",
    "    for key in activations:\n",
    "        key_ax = ax[fig_index//columns][fig_index%columns]\n",
    "        sns.histplot(data=activations[key], bins=50, ax=key_ax, color=color, kde=True, stat=\"density\")\n",
    "        key_ax.set_title(f\"Layer {key} - {net.layers[key].__class__.__name__}\")\n",
    "        fig_index += 1\n",
    "    fig.suptitle(f\"Activation distribution for activation function {net.config['act_fn']['name']}\", fontsize=14)\n",
    "    fig.subplots_adjust(hspace=0.4, wspace=0.4)\n",
    "    plt.show()\n",
    "    plt.close() "
   ]
  },
  {
   "cell_type": "code",
   "execution_count": null,
   "id": "80da3481",
   "metadata": {
    "execution": {
     "iopub.status.busy": "2021-12-17T08:29:33.442923Z",
     "iopub.status.idle": "2021-12-17T08:29:33.443696Z",
     "shell.execute_reply": "2021-12-17T08:29:33.443423Z",
     "shell.execute_reply.started": "2021-12-17T08:29:33.443393Z"
    },
    "papermill": {
     "duration": null,
     "end_time": null,
     "exception": null,
     "start_time": null,
     "status": "pending"
    },
    "tags": []
   },
   "outputs": [],
   "source": [
    "for i, act_fn_name in enumerate(act_fn_by_name):\n",
    "    net_actfn = load_model(model_path=CHECKPOINT_PATH, model_name=f\"FashionMNIST_{act_fn_name}\").to(device)\n",
    "    visualize_activations(net_actfn, color=f\"C{i}\")"
   ]
  },
  {
   "cell_type": "markdown",
   "id": "985a3b9d",
   "metadata": {
    "papermill": {
     "duration": null,
     "end_time": null,
     "exception": null,
     "start_time": null,
     "status": "pending"
    },
    "tags": []
   },
   "source": [
    "As the model with sigmoid activation was not able to train properly, the activations are also less informative and all gathered around 0.5 (the activation at input 0).\n",
    "\n",
    "The tanh shows a more diverse behavior. While for the input layer we experience a larger amount of neurons to be close to -1 and 1, where the gradients are close to zero, the activations in the two consecutive layers are closer to zero. This is probably because the input layers look for specific features in the input image, and the consecutive layers combine those together. The activations for the last layer are again more biased to the extreme points because the classification layer can be seen as a weighted average of those values (the gradients push the activations to those extremes).\n",
    "\n",
    "The ReLU has a strong peak at 0, as we initially expected. The effect of having no gradients for negative values is that the network does not have a Gaussian-like distribution after the linear layers, but a longer tail towards the positive values. \n",
    "The LeakyReLU shows a very similar behavior while ELU follows again a more Gaussian-like distribution. \n",
    "The Swish activation seems to lie in between, although it is worth noting that Swish uses significantly higher values than other activation functions (up to 20).\n",
    "\n",
    "As all activation functions show slightly different behavior although obtaining similar performance for our simple network, it becomes apparent that the selection of the \"optimal\" activation function really depends on many factors, and is not the same for all possible networks."
   ]
  },
  {
   "cell_type": "markdown",
   "id": "a261fc37",
   "metadata": {
    "papermill": {
     "duration": null,
     "end_time": null,
     "exception": null,
     "start_time": null,
     "status": "pending"
    },
    "tags": []
   },
   "source": [
    "### Finding dead neurons in ReLU networks"
   ]
  },
  {
   "cell_type": "markdown",
   "id": "189855b7",
   "metadata": {
    "papermill": {
     "duration": null,
     "end_time": null,
     "exception": null,
     "start_time": null,
     "status": "pending"
    },
    "tags": []
   },
   "source": [
    "One known drawback of the ReLU activation is the occurrence of \"dead neurons\", i.e. neurons with no gradient for any training input.\n",
    "The issue of dead neurons is that as no gradient is provided for the layer, we cannot train the parameters of this neuron in the previous layer to obtain output values besides zero.\n",
    "For dead neurons to happen, the output value of a specific neuron of the linear layer before the ReLU has to be negative for all input images.\n",
    "Considering the large number of neurons we have in a neural network, it is not unlikely for this to happen. \n",
    "\n",
    "To get a better understanding of how much of a problem this is, and when we need to be careful, we will measure how many dead neurons different networks have. For this, we implement a function which runs the network on the whole training set and records whether a neuron is exactly 0 for all data points or not:"
   ]
  },
  {
   "cell_type": "code",
   "execution_count": null,
   "id": "ab3621af",
   "metadata": {
    "execution": {
     "iopub.status.busy": "2021-12-17T08:29:33.445315Z",
     "iopub.status.idle": "2021-12-17T08:29:33.446055Z",
     "shell.execute_reply": "2021-12-17T08:29:33.445793Z",
     "shell.execute_reply.started": "2021-12-17T08:29:33.445763Z"
    },
    "papermill": {
     "duration": null,
     "end_time": null,
     "exception": null,
     "start_time": null,
     "status": "pending"
    },
    "scrolled": true,
    "tags": []
   },
   "outputs": [],
   "source": [
    "def measure_number_dead_neurons(net):\n",
    "\n",
    "    # For each neuron, we create a boolean variable initially set to 1. If it has an activation unequals 0 at any time,\n",
    "    # we set this variable to 0. After running through the whole training set, only dead neurons will have a 1.\n",
    "    neurons_dead = [\n",
    "        torch.ones(layer.weight.shape[0], device=device, dtype=torch.bool) for layer in net.layers[:-1] if isinstance(layer, nn.Linear)\n",
    "    ] # Same shapes as hidden size in BaseNetwork\n",
    "\n",
    "    net.eval()\n",
    "    with torch.no_grad():\n",
    "        for imgs, labels in tqdm(train_loader, leave=False): # Run through whole training set\n",
    "            layer_index = 0\n",
    "            imgs = imgs.to(device)\n",
    "            imgs = imgs.view(imgs.size(0), -1)\n",
    "            for layer in net.layers[:-1]:\n",
    "                imgs = layer(imgs)\n",
    "                if isinstance(layer, ActivationFunction):\n",
    "                    # Are all activations == 0 in the batch, and we did not record the opposite in the last batches?\n",
    "                    neurons_dead[layer_index] = torch.logical_and(neurons_dead[layer_index], (imgs == 0).all(dim=0))\n",
    "                    layer_index += 1\n",
    "    number_neurons_dead = [t.sum().item() for t in neurons_dead]\n",
    "    print(\"Number of dead neurons:\", number_neurons_dead)\n",
    "    print(\"In percentage:\", \", \".join([f\"{(100.0 * num_dead / tens.shape[0]):4.2f}%\" for tens, num_dead in zip(neurons_dead, number_neurons_dead)]))"
   ]
  },
  {
   "cell_type": "markdown",
   "id": "930b105e",
   "metadata": {
    "papermill": {
     "duration": null,
     "end_time": null,
     "exception": null,
     "start_time": null,
     "status": "pending"
    },
    "tags": []
   },
   "source": [
    "First, we can measure the number of dead neurons for an untrained network:"
   ]
  },
  {
   "cell_type": "code",
   "execution_count": null,
   "id": "5137ca30",
   "metadata": {
    "execution": {
     "iopub.status.busy": "2021-12-17T08:29:33.447434Z",
     "iopub.status.idle": "2021-12-17T08:29:33.447779Z",
     "shell.execute_reply": "2021-12-17T08:29:33.447626Z",
     "shell.execute_reply.started": "2021-12-17T08:29:33.447608Z"
    },
    "papermill": {
     "duration": null,
     "end_time": null,
     "exception": null,
     "start_time": null,
     "status": "pending"
    },
    "scrolled": true,
    "tags": []
   },
   "outputs": [],
   "source": [
    "set_seed(42)\n",
    "net_relu = BaseNetwork(act_fn=ReLU()).to(device)\n",
    "measure_number_dead_neurons(net_relu)"
   ]
  },
  {
   "cell_type": "markdown",
   "id": "06b41067",
   "metadata": {
    "papermill": {
     "duration": null,
     "end_time": null,
     "exception": null,
     "start_time": null,
     "status": "pending"
    },
    "tags": []
   },
   "source": [
    "We see that only a minor amount of neurons are dead, but that they increase with the depth of the layer.\n",
    "However, this is not a problem for the small number of dead neurons we have as the input to later layers is changed due to updates to the weights of previous layers. Therefore, dead neurons in later layers can potentially become \"alive\"/active again. \n",
    "\n",
    "How does this look like for a trained network (with the same initialization)?"
   ]
  },
  {
   "cell_type": "code",
   "execution_count": null,
   "id": "15b9f9b5",
   "metadata": {
    "execution": {
     "iopub.status.busy": "2021-12-17T08:29:33.448977Z",
     "iopub.status.idle": "2021-12-17T08:29:33.449306Z",
     "shell.execute_reply": "2021-12-17T08:29:33.449157Z",
     "shell.execute_reply.started": "2021-12-17T08:29:33.449140Z"
    },
    "papermill": {
     "duration": null,
     "end_time": null,
     "exception": null,
     "start_time": null,
     "status": "pending"
    },
    "scrolled": true,
    "tags": []
   },
   "outputs": [],
   "source": [
    "net_relu = load_model(model_path=CHECKPOINT_PATH, model_name=\"FashionMNIST_relu\").to(device)\n",
    "measure_number_dead_neurons(net_relu)"
   ]
  },
  {
   "cell_type": "markdown",
   "id": "3b623904",
   "metadata": {
    "papermill": {
     "duration": null,
     "end_time": null,
     "exception": null,
     "start_time": null,
     "status": "pending"
    },
    "tags": []
   },
   "source": [
    "The number of dead neurons indeed decreased in the later layers. However, it should be noted that dead neurons are especially problematic in the input layer. As the input does not change over epochs (the training set is kept as it is), training the network cannot turn those neurons back active. Still, the input data has usually a sufficiently high standard deviation to reduce the risk of dead neurons.\n",
    "\n",
    "Finally, we check how the number of dead neurons behaves with increasing layer depth. For instance, let's take the following 10-layer neural network:"
   ]
  },
  {
   "cell_type": "code",
   "execution_count": null,
   "id": "9900704e",
   "metadata": {
    "execution": {
     "iopub.status.busy": "2021-12-17T08:29:33.450717Z",
     "iopub.status.idle": "2021-12-17T08:29:33.451198Z",
     "shell.execute_reply": "2021-12-17T08:29:33.450971Z",
     "shell.execute_reply.started": "2021-12-17T08:29:33.450945Z"
    },
    "papermill": {
     "duration": null,
     "end_time": null,
     "exception": null,
     "start_time": null,
     "status": "pending"
    },
    "tags": []
   },
   "outputs": [],
   "source": [
    "set_seed(42)\n",
    "net_relu = BaseNetwork(act_fn=ReLU(), hidden_sizes=[256, 256, 256, 256, 256, 128, 128, 128, 128, 128]).to(device)\n",
    "measure_number_dead_neurons(net_relu)"
   ]
  },
  {
   "cell_type": "markdown",
   "id": "d11b2bd1",
   "metadata": {
    "papermill": {
     "duration": null,
     "end_time": null,
     "exception": null,
     "start_time": null,
     "status": "pending"
    },
    "tags": []
   },
   "source": [
    "The number of dead neurons is significantly higher than before which harms the gradient flow especially in the first iterations. For instance, more than 56% of the neurons in the pre-last layer are dead which creates a considerable bottleneck.\n",
    "Hence, it is advisible to use other nonlinearities like Swish for very deep networks."
   ]
  },
  {
   "cell_type": "markdown",
   "id": "5f85c95b",
   "metadata": {
    "papermill": {
     "duration": null,
     "end_time": null,
     "exception": null,
     "start_time": null,
     "status": "pending"
    },
    "tags": []
   },
   "source": [
    "## Conclusion\n",
    "\n",
    "In this notebook, we have reviewed a set of six activation functions (sigmoid, tanh, ReLU, LeakyReLU, ELU, and Swish) in neural networks, and discussed how they influence the gradient distribution across layers. Sigmoid tends to fail deep neural networks as the highest gradient it provides is 0.25 leading to vanishing gradients in early layers. All ReLU-based activation functions have shown to perform well, and besides the original ReLU, do not have the issue of dead neurons. When implementing your own neural network, it is recommended to start with a ReLU-based network and select the specific activation function based on the properties of the network."
   ]
  },
  {
   "cell_type": "markdown",
   "id": "4c65ad30",
   "metadata": {
    "papermill": {
     "duration": null,
     "end_time": null,
     "exception": null,
     "start_time": null,
     "status": "pending"
    },
    "tags": []
   },
   "source": [
    "## References\n",
    "\n",
    "[1] Ramachandran, Prajit, Barret Zoph, and Quoc V. Le. \"Searching for activation functions.\" arXiv preprint arXiv:1710.05941 (2017). [Paper link](https://arxiv.org/abs/1710.05941) "
   ]
  }
 ],
 "metadata": {
  "kernelspec": {
   "display_name": "Python 3",
   "language": "python",
   "name": "python3"
  },
  "language_info": {
   "codemirror_mode": {
    "name": "ipython",
    "version": 3
   },
   "file_extension": ".py",
   "mimetype": "text/x-python",
   "name": "python",
   "nbconvert_exporter": "python",
   "pygments_lexer": "ipython3",
   "version": "3.7.12"
  },
  "papermill": {
   "default_parameters": {},
   "duration": 48.549899,
   "end_time": "2021-12-17T09:57:44.504590",
   "environment_variables": {},
   "exception": true,
   "input_path": "__notebook__.ipynb",
   "output_path": "__notebook__.ipynb",
   "parameters": {},
   "start_time": "2021-12-17T09:56:55.954691",
   "version": "2.3.3"
  },
  "widgets": {
   "application/vnd.jupyter.widget-state+json": {
    "state": {
     "004da0efd1f3409b9f0e072aaedeccae": {
      "model_module": "@jupyter-widgets/base",
      "model_module_version": "1.2.0",
      "model_name": "LayoutModel",
      "state": {
       "_model_module": "@jupyter-widgets/base",
       "_model_module_version": "1.2.0",
       "_model_name": "LayoutModel",
       "_view_count": null,
       "_view_module": "@jupyter-widgets/base",
       "_view_module_version": "1.2.0",
       "_view_name": "LayoutView",
       "align_content": null,
       "align_items": null,
       "align_self": null,
       "border": null,
       "bottom": null,
       "display": null,
       "flex": null,
       "flex_flow": null,
       "grid_area": null,
       "grid_auto_columns": null,
       "grid_auto_flow": null,
       "grid_auto_rows": null,
       "grid_column": null,
       "grid_gap": null,
       "grid_row": null,
       "grid_template_areas": null,
       "grid_template_columns": null,
       "grid_template_rows": null,
       "height": null,
       "justify_content": null,
       "justify_items": null,
       "left": null,
       "margin": null,
       "max_height": null,
       "max_width": null,
       "min_height": null,
       "min_width": null,
       "object_fit": null,
       "object_position": null,
       "order": null,
       "overflow": null,
       "overflow_x": null,
       "overflow_y": null,
       "padding": null,
       "right": null,
       "top": null,
       "visibility": null,
       "width": null
      }
     },
     "00a7699cf3594dfe9c664de9dcc9089f": {
      "model_module": "@jupyter-widgets/controls",
      "model_module_version": "1.5.0",
      "model_name": "HTMLModel",
      "state": {
       "_dom_classes": [],
       "_model_module": "@jupyter-widgets/controls",
       "_model_module_version": "1.5.0",
       "_model_name": "HTMLModel",
       "_view_count": null,
       "_view_module": "@jupyter-widgets/controls",
       "_view_module_version": "1.5.0",
       "_view_name": "HTMLView",
       "description": "",
       "description_tooltip": null,
       "layout": "IPY_MODEL_71d1f53635aa4ec8b919c241bd51cc5c",
       "placeholder": "​",
       "style": "IPY_MODEL_3a703963285d4728b69731b2595ef58b",
       "value": " 4422656/? [00:00&lt;00:00, 8479475.30it/s]"
      }
     },
     "05988b61dbdb45f68baac7be8ac2b6e4": {
      "model_module": "@jupyter-widgets/controls",
      "model_module_version": "1.5.0",
      "model_name": "FloatProgressModel",
      "state": {
       "_dom_classes": [],
       "_model_module": "@jupyter-widgets/controls",
       "_model_module_version": "1.5.0",
       "_model_name": "FloatProgressModel",
       "_view_count": null,
       "_view_module": "@jupyter-widgets/controls",
       "_view_module_version": "1.5.0",
       "_view_name": "ProgressView",
       "bar_style": "success",
       "description": "",
       "description_tooltip": null,
       "layout": "IPY_MODEL_b60a22c5018045b1a256f2cb8b2f1e87",
       "max": 26421880,
       "min": 0,
       "orientation": "horizontal",
       "style": "IPY_MODEL_ffcfb6549151431d86bab7d6ec63a45e",
       "value": 26421880
      }
     },
     "066c296065b0479e84da8648c3c0577e": {
      "model_module": "@jupyter-widgets/controls",
      "model_module_version": "1.5.0",
      "model_name": "FloatProgressModel",
      "state": {
       "_dom_classes": [],
       "_model_module": "@jupyter-widgets/controls",
       "_model_module_version": "1.5.0",
       "_model_name": "FloatProgressModel",
       "_view_count": null,
       "_view_module": "@jupyter-widgets/controls",
       "_view_module_version": "1.5.0",
       "_view_name": "ProgressView",
       "bar_style": "success",
       "description": "",
       "description_tooltip": null,
       "layout": "IPY_MODEL_62d7f67b7b1e45e7b4ee591bcb48391d",
       "max": 29515,
       "min": 0,
       "orientation": "horizontal",
       "style": "IPY_MODEL_20a09b2259394b6a8e20d73214fe2dce",
       "value": 29515
      }
     },
     "0727722b470349d7a04335a4bd7abdc7": {
      "model_module": "@jupyter-widgets/base",
      "model_module_version": "1.2.0",
      "model_name": "LayoutModel",
      "state": {
       "_model_module": "@jupyter-widgets/base",
       "_model_module_version": "1.2.0",
       "_model_name": "LayoutModel",
       "_view_count": null,
       "_view_module": "@jupyter-widgets/base",
       "_view_module_version": "1.2.0",
       "_view_name": "LayoutView",
       "align_content": null,
       "align_items": null,
       "align_self": null,
       "border": null,
       "bottom": null,
       "display": null,
       "flex": null,
       "flex_flow": null,
       "grid_area": null,
       "grid_auto_columns": null,
       "grid_auto_flow": null,
       "grid_auto_rows": null,
       "grid_column": null,
       "grid_gap": null,
       "grid_row": null,
       "grid_template_areas": null,
       "grid_template_columns": null,
       "grid_template_rows": null,
       "height": null,
       "justify_content": null,
       "justify_items": null,
       "left": null,
       "margin": null,
       "max_height": null,
       "max_width": null,
       "min_height": null,
       "min_width": null,
       "object_fit": null,
       "object_position": null,
       "order": null,
       "overflow": null,
       "overflow_x": null,
       "overflow_y": null,
       "padding": null,
       "right": null,
       "top": null,
       "visibility": null,
       "width": null
      }
     },
     "096231ef14614cffab9f6043363b06fb": {
      "model_module": "@jupyter-widgets/controls",
      "model_module_version": "1.5.0",
      "model_name": "HBoxModel",
      "state": {
       "_dom_classes": [],
       "_model_module": "@jupyter-widgets/controls",
       "_model_module_version": "1.5.0",
       "_model_name": "HBoxModel",
       "_view_count": null,
       "_view_module": "@jupyter-widgets/controls",
       "_view_module_version": "1.5.0",
       "_view_name": "HBoxView",
       "box_style": "",
       "children": [
        "IPY_MODEL_317befe6b34f40b9aac10e9d22951a90",
        "IPY_MODEL_4d308d4b353a4b868e3ed845e6c79988",
        "IPY_MODEL_54fc54f4ab50461cb22c37c90ff173cb"
       ],
       "layout": "IPY_MODEL_9ae90f92202346f2bbc4ad7329cc19f9"
      }
     },
     "1a74942d66b644e299f856e32cf0cf7c": {
      "model_module": "@jupyter-widgets/controls",
      "model_module_version": "1.5.0",
      "model_name": "DescriptionStyleModel",
      "state": {
       "_model_module": "@jupyter-widgets/controls",
       "_model_module_version": "1.5.0",
       "_model_name": "DescriptionStyleModel",
       "_view_count": null,
       "_view_module": "@jupyter-widgets/base",
       "_view_module_version": "1.2.0",
       "_view_name": "StyleView",
       "description_width": ""
      }
     },
     "1ba754e9da734a8bb2bfadf11055ae23": {
      "model_module": "@jupyter-widgets/controls",
      "model_module_version": "1.5.0",
      "model_name": "DescriptionStyleModel",
      "state": {
       "_model_module": "@jupyter-widgets/controls",
       "_model_module_version": "1.5.0",
       "_model_name": "DescriptionStyleModel",
       "_view_count": null,
       "_view_module": "@jupyter-widgets/base",
       "_view_module_version": "1.2.0",
       "_view_name": "StyleView",
       "description_width": ""
      }
     },
     "20a09b2259394b6a8e20d73214fe2dce": {
      "model_module": "@jupyter-widgets/controls",
      "model_module_version": "1.5.0",
      "model_name": "ProgressStyleModel",
      "state": {
       "_model_module": "@jupyter-widgets/controls",
       "_model_module_version": "1.5.0",
       "_model_name": "ProgressStyleModel",
       "_view_count": null,
       "_view_module": "@jupyter-widgets/base",
       "_view_module_version": "1.2.0",
       "_view_name": "StyleView",
       "bar_color": null,
       "description_width": ""
      }
     },
     "2eed9bfd1e934a31b0b075db19597233": {
      "model_module": "@jupyter-widgets/base",
      "model_module_version": "1.2.0",
      "model_name": "LayoutModel",
      "state": {
       "_model_module": "@jupyter-widgets/base",
       "_model_module_version": "1.2.0",
       "_model_name": "LayoutModel",
       "_view_count": null,
       "_view_module": "@jupyter-widgets/base",
       "_view_module_version": "1.2.0",
       "_view_name": "LayoutView",
       "align_content": null,
       "align_items": null,
       "align_self": null,
       "border": null,
       "bottom": null,
       "display": null,
       "flex": null,
       "flex_flow": null,
       "grid_area": null,
       "grid_auto_columns": null,
       "grid_auto_flow": null,
       "grid_auto_rows": null,
       "grid_column": null,
       "grid_gap": null,
       "grid_row": null,
       "grid_template_areas": null,
       "grid_template_columns": null,
       "grid_template_rows": null,
       "height": null,
       "justify_content": null,
       "justify_items": null,
       "left": null,
       "margin": null,
       "max_height": null,
       "max_width": null,
       "min_height": null,
       "min_width": null,
       "object_fit": null,
       "object_position": null,
       "order": null,
       "overflow": null,
       "overflow_x": null,
       "overflow_y": null,
       "padding": null,
       "right": null,
       "top": null,
       "visibility": null,
       "width": null
      }
     },
     "317befe6b34f40b9aac10e9d22951a90": {
      "model_module": "@jupyter-widgets/controls",
      "model_module_version": "1.5.0",
      "model_name": "HTMLModel",
      "state": {
       "_dom_classes": [],
       "_model_module": "@jupyter-widgets/controls",
       "_model_module_version": "1.5.0",
       "_model_name": "HTMLModel",
       "_view_count": null,
       "_view_module": "@jupyter-widgets/controls",
       "_view_module_version": "1.5.0",
       "_view_name": "HTMLView",
       "description": "",
       "description_tooltip": null,
       "layout": "IPY_MODEL_c4cdb2cfa297492c9110dedc6ec556a0",
       "placeholder": "​",
       "style": "IPY_MODEL_1a74942d66b644e299f856e32cf0cf7c",
       "value": "100%"
      }
     },
     "3a703963285d4728b69731b2595ef58b": {
      "model_module": "@jupyter-widgets/controls",
      "model_module_version": "1.5.0",
      "model_name": "DescriptionStyleModel",
      "state": {
       "_model_module": "@jupyter-widgets/controls",
       "_model_module_version": "1.5.0",
       "_model_name": "DescriptionStyleModel",
       "_view_count": null,
       "_view_module": "@jupyter-widgets/base",
       "_view_module_version": "1.2.0",
       "_view_name": "StyleView",
       "description_width": ""
      }
     },
     "4d308d4b353a4b868e3ed845e6c79988": {
      "model_module": "@jupyter-widgets/controls",
      "model_module_version": "1.5.0",
      "model_name": "FloatProgressModel",
      "state": {
       "_dom_classes": [],
       "_model_module": "@jupyter-widgets/controls",
       "_model_module_version": "1.5.0",
       "_model_name": "FloatProgressModel",
       "_view_count": null,
       "_view_module": "@jupyter-widgets/controls",
       "_view_module_version": "1.5.0",
       "_view_name": "ProgressView",
       "bar_style": "success",
       "description": "",
       "description_tooltip": null,
       "layout": "IPY_MODEL_6c7dd7b47bd84b06b9c1ff7f7551f9c8",
       "max": 12,
       "min": 0,
       "orientation": "horizontal",
       "style": "IPY_MODEL_7e19ca90dcab4c9b8167fa9f6f2a71e1",
       "value": 12
      }
     },
     "4d3345ec1e84423e9746b51c07a02f03": {
      "model_module": "@jupyter-widgets/controls",
      "model_module_version": "1.5.0",
      "model_name": "DescriptionStyleModel",
      "state": {
       "_model_module": "@jupyter-widgets/controls",
       "_model_module_version": "1.5.0",
       "_model_name": "DescriptionStyleModel",
       "_view_count": null,
       "_view_module": "@jupyter-widgets/base",
       "_view_module_version": "1.2.0",
       "_view_name": "StyleView",
       "description_width": ""
      }
     },
     "4f408d4e0845499298b6fb0827b1747d": {
      "model_module": "@jupyter-widgets/controls",
      "model_module_version": "1.5.0",
      "model_name": "DescriptionStyleModel",
      "state": {
       "_model_module": "@jupyter-widgets/controls",
       "_model_module_version": "1.5.0",
       "_model_name": "DescriptionStyleModel",
       "_view_count": null,
       "_view_module": "@jupyter-widgets/base",
       "_view_module_version": "1.2.0",
       "_view_name": "StyleView",
       "description_width": ""
      }
     },
     "54870f4ddbc1431a865d772f52ee548a": {
      "model_module": "@jupyter-widgets/controls",
      "model_module_version": "1.5.0",
      "model_name": "ProgressStyleModel",
      "state": {
       "_model_module": "@jupyter-widgets/controls",
       "_model_module_version": "1.5.0",
       "_model_name": "ProgressStyleModel",
       "_view_count": null,
       "_view_module": "@jupyter-widgets/base",
       "_view_module_version": "1.2.0",
       "_view_name": "StyleView",
       "bar_color": null,
       "description_width": ""
      }
     },
     "54fc54f4ab50461cb22c37c90ff173cb": {
      "model_module": "@jupyter-widgets/controls",
      "model_module_version": "1.5.0",
      "model_name": "HTMLModel",
      "state": {
       "_dom_classes": [],
       "_model_module": "@jupyter-widgets/controls",
       "_model_module_version": "1.5.0",
       "_model_name": "HTMLModel",
       "_view_count": null,
       "_view_module": "@jupyter-widgets/controls",
       "_view_module_version": "1.5.0",
       "_view_name": "HTMLView",
       "description": "",
       "description_tooltip": null,
       "layout": "IPY_MODEL_5defd3459d514f7a81c191b4c75cd33e",
       "placeholder": "​",
       "style": "IPY_MODEL_d60ca8a524c3489a923c16558800e2c2",
       "value": " 12/12 [00:02&lt;00:00,  4.01it/s]"
      }
     },
     "5defd3459d514f7a81c191b4c75cd33e": {
      "model_module": "@jupyter-widgets/base",
      "model_module_version": "1.2.0",
      "model_name": "LayoutModel",
      "state": {
       "_model_module": "@jupyter-widgets/base",
       "_model_module_version": "1.2.0",
       "_model_name": "LayoutModel",
       "_view_count": null,
       "_view_module": "@jupyter-widgets/base",
       "_view_module_version": "1.2.0",
       "_view_name": "LayoutView",
       "align_content": null,
       "align_items": null,
       "align_self": null,
       "border": null,
       "bottom": null,
       "display": null,
       "flex": null,
       "flex_flow": null,
       "grid_area": null,
       "grid_auto_columns": null,
       "grid_auto_flow": null,
       "grid_auto_rows": null,
       "grid_column": null,
       "grid_gap": null,
       "grid_row": null,
       "grid_template_areas": null,
       "grid_template_columns": null,
       "grid_template_rows": null,
       "height": null,
       "justify_content": null,
       "justify_items": null,
       "left": null,
       "margin": null,
       "max_height": null,
       "max_width": null,
       "min_height": null,
       "min_width": null,
       "object_fit": null,
       "object_position": null,
       "order": null,
       "overflow": null,
       "overflow_x": null,
       "overflow_y": null,
       "padding": null,
       "right": null,
       "top": null,
       "visibility": null,
       "width": null
      }
     },
     "5f4282b401444ac79e6c3c4199c4c165": {
      "model_module": "@jupyter-widgets/controls",
      "model_module_version": "1.5.0",
      "model_name": "FloatProgressModel",
      "state": {
       "_dom_classes": [],
       "_model_module": "@jupyter-widgets/controls",
       "_model_module_version": "1.5.0",
       "_model_name": "FloatProgressModel",
       "_view_count": null,
       "_view_module": "@jupyter-widgets/controls",
       "_view_module_version": "1.5.0",
       "_view_name": "ProgressView",
       "bar_style": "success",
       "description": "",
       "description_tooltip": null,
       "layout": "IPY_MODEL_b9db31e245c54de38971c761a371a292",
       "max": 4422102,
       "min": 0,
       "orientation": "horizontal",
       "style": "IPY_MODEL_e533a18a25e14646b3a9078b11460528",
       "value": 4422102
      }
     },
     "6067d442e8694097a411f42a294aeef4": {
      "model_module": "@jupyter-widgets/base",
      "model_module_version": "1.2.0",
      "model_name": "LayoutModel",
      "state": {
       "_model_module": "@jupyter-widgets/base",
       "_model_module_version": "1.2.0",
       "_model_name": "LayoutModel",
       "_view_count": null,
       "_view_module": "@jupyter-widgets/base",
       "_view_module_version": "1.2.0",
       "_view_name": "LayoutView",
       "align_content": null,
       "align_items": null,
       "align_self": null,
       "border": null,
       "bottom": null,
       "display": null,
       "flex": null,
       "flex_flow": null,
       "grid_area": null,
       "grid_auto_columns": null,
       "grid_auto_flow": null,
       "grid_auto_rows": null,
       "grid_column": null,
       "grid_gap": null,
       "grid_row": null,
       "grid_template_areas": null,
       "grid_template_columns": null,
       "grid_template_rows": null,
       "height": null,
       "justify_content": null,
       "justify_items": null,
       "left": null,
       "margin": null,
       "max_height": null,
       "max_width": null,
       "min_height": null,
       "min_width": null,
       "object_fit": null,
       "object_position": null,
       "order": null,
       "overflow": null,
       "overflow_x": null,
       "overflow_y": null,
       "padding": null,
       "right": null,
       "top": null,
       "visibility": null,
       "width": null
      }
     },
     "62d7f67b7b1e45e7b4ee591bcb48391d": {
      "model_module": "@jupyter-widgets/base",
      "model_module_version": "1.2.0",
      "model_name": "LayoutModel",
      "state": {
       "_model_module": "@jupyter-widgets/base",
       "_model_module_version": "1.2.0",
       "_model_name": "LayoutModel",
       "_view_count": null,
       "_view_module": "@jupyter-widgets/base",
       "_view_module_version": "1.2.0",
       "_view_name": "LayoutView",
       "align_content": null,
       "align_items": null,
       "align_self": null,
       "border": null,
       "bottom": null,
       "display": null,
       "flex": null,
       "flex_flow": null,
       "grid_area": null,
       "grid_auto_columns": null,
       "grid_auto_flow": null,
       "grid_auto_rows": null,
       "grid_column": null,
       "grid_gap": null,
       "grid_row": null,
       "grid_template_areas": null,
       "grid_template_columns": null,
       "grid_template_rows": null,
       "height": null,
       "justify_content": null,
       "justify_items": null,
       "left": null,
       "margin": null,
       "max_height": null,
       "max_width": null,
       "min_height": null,
       "min_width": null,
       "object_fit": null,
       "object_position": null,
       "order": null,
       "overflow": null,
       "overflow_x": null,
       "overflow_y": null,
       "padding": null,
       "right": null,
       "top": null,
       "visibility": null,
       "width": null
      }
     },
     "66ace76117254a93acf86fe81068e4e6": {
      "model_module": "@jupyter-widgets/base",
      "model_module_version": "1.2.0",
      "model_name": "LayoutModel",
      "state": {
       "_model_module": "@jupyter-widgets/base",
       "_model_module_version": "1.2.0",
       "_model_name": "LayoutModel",
       "_view_count": null,
       "_view_module": "@jupyter-widgets/base",
       "_view_module_version": "1.2.0",
       "_view_name": "LayoutView",
       "align_content": null,
       "align_items": null,
       "align_self": null,
       "border": null,
       "bottom": null,
       "display": null,
       "flex": null,
       "flex_flow": null,
       "grid_area": null,
       "grid_auto_columns": null,
       "grid_auto_flow": null,
       "grid_auto_rows": null,
       "grid_column": null,
       "grid_gap": null,
       "grid_row": null,
       "grid_template_areas": null,
       "grid_template_columns": null,
       "grid_template_rows": null,
       "height": null,
       "justify_content": null,
       "justify_items": null,
       "left": null,
       "margin": null,
       "max_height": null,
       "max_width": null,
       "min_height": null,
       "min_width": null,
       "object_fit": null,
       "object_position": null,
       "order": null,
       "overflow": null,
       "overflow_x": null,
       "overflow_y": null,
       "padding": null,
       "right": null,
       "top": null,
       "visibility": null,
       "width": null
      }
     },
     "6afec75f655c4ed48d15e200550938ed": {
      "model_module": "@jupyter-widgets/controls",
      "model_module_version": "1.5.0",
      "model_name": "DescriptionStyleModel",
      "state": {
       "_model_module": "@jupyter-widgets/controls",
       "_model_module_version": "1.5.0",
       "_model_name": "DescriptionStyleModel",
       "_view_count": null,
       "_view_module": "@jupyter-widgets/base",
       "_view_module_version": "1.2.0",
       "_view_name": "StyleView",
       "description_width": ""
      }
     },
     "6c7dd7b47bd84b06b9c1ff7f7551f9c8": {
      "model_module": "@jupyter-widgets/base",
      "model_module_version": "1.2.0",
      "model_name": "LayoutModel",
      "state": {
       "_model_module": "@jupyter-widgets/base",
       "_model_module_version": "1.2.0",
       "_model_name": "LayoutModel",
       "_view_count": null,
       "_view_module": "@jupyter-widgets/base",
       "_view_module_version": "1.2.0",
       "_view_name": "LayoutView",
       "align_content": null,
       "align_items": null,
       "align_self": null,
       "border": null,
       "bottom": null,
       "display": null,
       "flex": null,
       "flex_flow": null,
       "grid_area": null,
       "grid_auto_columns": null,
       "grid_auto_flow": null,
       "grid_auto_rows": null,
       "grid_column": null,
       "grid_gap": null,
       "grid_row": null,
       "grid_template_areas": null,
       "grid_template_columns": null,
       "grid_template_rows": null,
       "height": null,
       "justify_content": null,
       "justify_items": null,
       "left": null,
       "margin": null,
       "max_height": null,
       "max_width": null,
       "min_height": null,
       "min_width": null,
       "object_fit": null,
       "object_position": null,
       "order": null,
       "overflow": null,
       "overflow_x": null,
       "overflow_y": null,
       "padding": null,
       "right": null,
       "top": null,
       "visibility": null,
       "width": null
      }
     },
     "6e4ad673098b48f4b83152cd75bfccb3": {
      "model_module": "@jupyter-widgets/controls",
      "model_module_version": "1.5.0",
      "model_name": "HTMLModel",
      "state": {
       "_dom_classes": [],
       "_model_module": "@jupyter-widgets/controls",
       "_model_module_version": "1.5.0",
       "_model_name": "HTMLModel",
       "_view_count": null,
       "_view_module": "@jupyter-widgets/controls",
       "_view_module_version": "1.5.0",
       "_view_name": "HTMLView",
       "description": "",
       "description_tooltip": null,
       "layout": "IPY_MODEL_b16486e8ada344e382ad8171d9fbbc90",
       "placeholder": "​",
       "style": "IPY_MODEL_79e4eb5bb21f4be4b1ed5e2b9de77121",
       "value": " 26422272/? [00:01&lt;00:00, 27384714.04it/s]"
      }
     },
     "6e4feeb500c040ad9b0ec613b844e10c": {
      "model_module": "@jupyter-widgets/controls",
      "model_module_version": "1.5.0",
      "model_name": "HTMLModel",
      "state": {
       "_dom_classes": [],
       "_model_module": "@jupyter-widgets/controls",
       "_model_module_version": "1.5.0",
       "_model_name": "HTMLModel",
       "_view_count": null,
       "_view_module": "@jupyter-widgets/controls",
       "_view_module_version": "1.5.0",
       "_view_name": "HTMLView",
       "description": "",
       "description_tooltip": null,
       "layout": "IPY_MODEL_0727722b470349d7a04335a4bd7abdc7",
       "placeholder": "​",
       "style": "IPY_MODEL_6afec75f655c4ed48d15e200550938ed",
       "value": ""
      }
     },
     "71d1f53635aa4ec8b919c241bd51cc5c": {
      "model_module": "@jupyter-widgets/base",
      "model_module_version": "1.2.0",
      "model_name": "LayoutModel",
      "state": {
       "_model_module": "@jupyter-widgets/base",
       "_model_module_version": "1.2.0",
       "_model_name": "LayoutModel",
       "_view_count": null,
       "_view_module": "@jupyter-widgets/base",
       "_view_module_version": "1.2.0",
       "_view_name": "LayoutView",
       "align_content": null,
       "align_items": null,
       "align_self": null,
       "border": null,
       "bottom": null,
       "display": null,
       "flex": null,
       "flex_flow": null,
       "grid_area": null,
       "grid_auto_columns": null,
       "grid_auto_flow": null,
       "grid_auto_rows": null,
       "grid_column": null,
       "grid_gap": null,
       "grid_row": null,
       "grid_template_areas": null,
       "grid_template_columns": null,
       "grid_template_rows": null,
       "height": null,
       "justify_content": null,
       "justify_items": null,
       "left": null,
       "margin": null,
       "max_height": null,
       "max_width": null,
       "min_height": null,
       "min_width": null,
       "object_fit": null,
       "object_position": null,
       "order": null,
       "overflow": null,
       "overflow_x": null,
       "overflow_y": null,
       "padding": null,
       "right": null,
       "top": null,
       "visibility": null,
       "width": null
      }
     },
     "7772c30ac482481ea2833d886f18f8f4": {
      "model_module": "@jupyter-widgets/controls",
      "model_module_version": "1.5.0",
      "model_name": "HTMLModel",
      "state": {
       "_dom_classes": [],
       "_model_module": "@jupyter-widgets/controls",
       "_model_module_version": "1.5.0",
       "_model_name": "HTMLModel",
       "_view_count": null,
       "_view_module": "@jupyter-widgets/controls",
       "_view_module_version": "1.5.0",
       "_view_name": "HTMLView",
       "description": "",
       "description_tooltip": null,
       "layout": "IPY_MODEL_fd0ad51804bc4212a56b67a7ad4e3355",
       "placeholder": "​",
       "style": "IPY_MODEL_4d3345ec1e84423e9746b51c07a02f03",
       "value": ""
      }
     },
     "79e4eb5bb21f4be4b1ed5e2b9de77121": {
      "model_module": "@jupyter-widgets/controls",
      "model_module_version": "1.5.0",
      "model_name": "DescriptionStyleModel",
      "state": {
       "_model_module": "@jupyter-widgets/controls",
       "_model_module_version": "1.5.0",
       "_model_name": "DescriptionStyleModel",
       "_view_count": null,
       "_view_module": "@jupyter-widgets/base",
       "_view_module_version": "1.2.0",
       "_view_name": "StyleView",
       "description_width": ""
      }
     },
     "7e19ca90dcab4c9b8167fa9f6f2a71e1": {
      "model_module": "@jupyter-widgets/controls",
      "model_module_version": "1.5.0",
      "model_name": "ProgressStyleModel",
      "state": {
       "_model_module": "@jupyter-widgets/controls",
       "_model_module_version": "1.5.0",
       "_model_name": "ProgressStyleModel",
       "_view_count": null,
       "_view_module": "@jupyter-widgets/base",
       "_view_module_version": "1.2.0",
       "_view_name": "StyleView",
       "bar_color": null,
       "description_width": ""
      }
     },
     "8f7ce935e9fb434c90c5c62c2616c0da": {
      "model_module": "@jupyter-widgets/base",
      "model_module_version": "1.2.0",
      "model_name": "LayoutModel",
      "state": {
       "_model_module": "@jupyter-widgets/base",
       "_model_module_version": "1.2.0",
       "_model_name": "LayoutModel",
       "_view_count": null,
       "_view_module": "@jupyter-widgets/base",
       "_view_module_version": "1.2.0",
       "_view_name": "LayoutView",
       "align_content": null,
       "align_items": null,
       "align_self": null,
       "border": null,
       "bottom": null,
       "display": null,
       "flex": null,
       "flex_flow": null,
       "grid_area": null,
       "grid_auto_columns": null,
       "grid_auto_flow": null,
       "grid_auto_rows": null,
       "grid_column": null,
       "grid_gap": null,
       "grid_row": null,
       "grid_template_areas": null,
       "grid_template_columns": null,
       "grid_template_rows": null,
       "height": null,
       "justify_content": null,
       "justify_items": null,
       "left": null,
       "margin": null,
       "max_height": null,
       "max_width": null,
       "min_height": null,
       "min_width": null,
       "object_fit": null,
       "object_position": null,
       "order": null,
       "overflow": null,
       "overflow_x": null,
       "overflow_y": null,
       "padding": null,
       "right": null,
       "top": null,
       "visibility": null,
       "width": null
      }
     },
     "938c7a01ac134a948d8354964de238db": {
      "model_module": "@jupyter-widgets/controls",
      "model_module_version": "1.5.0",
      "model_name": "HBoxModel",
      "state": {
       "_dom_classes": [],
       "_model_module": "@jupyter-widgets/controls",
       "_model_module_version": "1.5.0",
       "_model_name": "HBoxModel",
       "_view_count": null,
       "_view_module": "@jupyter-widgets/controls",
       "_view_module_version": "1.5.0",
       "_view_name": "HBoxView",
       "box_style": "",
       "children": [
        "IPY_MODEL_f8c31dd193c54ca7bff7c4c261f390f4",
        "IPY_MODEL_5f4282b401444ac79e6c3c4199c4c165",
        "IPY_MODEL_00a7699cf3594dfe9c664de9dcc9089f"
       ],
       "layout": "IPY_MODEL_fc8e93a6ddec45fca0ee70378a724e31"
      }
     },
     "9ae90f92202346f2bbc4ad7329cc19f9": {
      "model_module": "@jupyter-widgets/base",
      "model_module_version": "1.2.0",
      "model_name": "LayoutModel",
      "state": {
       "_model_module": "@jupyter-widgets/base",
       "_model_module_version": "1.2.0",
       "_model_name": "LayoutModel",
       "_view_count": null,
       "_view_module": "@jupyter-widgets/base",
       "_view_module_version": "1.2.0",
       "_view_name": "LayoutView",
       "align_content": null,
       "align_items": null,
       "align_self": null,
       "border": null,
       "bottom": null,
       "display": null,
       "flex": null,
       "flex_flow": null,
       "grid_area": null,
       "grid_auto_columns": null,
       "grid_auto_flow": null,
       "grid_auto_rows": null,
       "grid_column": null,
       "grid_gap": null,
       "grid_row": null,
       "grid_template_areas": null,
       "grid_template_columns": null,
       "grid_template_rows": null,
       "height": null,
       "justify_content": null,
       "justify_items": null,
       "left": null,
       "margin": null,
       "max_height": null,
       "max_width": null,
       "min_height": null,
       "min_width": null,
       "object_fit": null,
       "object_position": null,
       "order": null,
       "overflow": null,
       "overflow_x": null,
       "overflow_y": null,
       "padding": null,
       "right": null,
       "top": null,
       "visibility": null,
       "width": null
      }
     },
     "b004db04383945de972d3c72f2f13ccf": {
      "model_module": "@jupyter-widgets/base",
      "model_module_version": "1.2.0",
      "model_name": "LayoutModel",
      "state": {
       "_model_module": "@jupyter-widgets/base",
       "_model_module_version": "1.2.0",
       "_model_name": "LayoutModel",
       "_view_count": null,
       "_view_module": "@jupyter-widgets/base",
       "_view_module_version": "1.2.0",
       "_view_name": "LayoutView",
       "align_content": null,
       "align_items": null,
       "align_self": null,
       "border": null,
       "bottom": null,
       "display": null,
       "flex": null,
       "flex_flow": null,
       "grid_area": null,
       "grid_auto_columns": null,
       "grid_auto_flow": null,
       "grid_auto_rows": null,
       "grid_column": null,
       "grid_gap": null,
       "grid_row": null,
       "grid_template_areas": null,
       "grid_template_columns": null,
       "grid_template_rows": null,
       "height": null,
       "justify_content": null,
       "justify_items": null,
       "left": null,
       "margin": null,
       "max_height": null,
       "max_width": null,
       "min_height": null,
       "min_width": null,
       "object_fit": null,
       "object_position": null,
       "order": null,
       "overflow": null,
       "overflow_x": null,
       "overflow_y": null,
       "padding": null,
       "right": null,
       "top": null,
       "visibility": null,
       "width": null
      }
     },
     "b07b96830b33462497895422e299550c": {
      "model_module": "@jupyter-widgets/controls",
      "model_module_version": "1.5.0",
      "model_name": "FloatProgressModel",
      "state": {
       "_dom_classes": [],
       "_model_module": "@jupyter-widgets/controls",
       "_model_module_version": "1.5.0",
       "_model_name": "FloatProgressModel",
       "_view_count": null,
       "_view_module": "@jupyter-widgets/controls",
       "_view_module_version": "1.5.0",
       "_view_name": "ProgressView",
       "bar_style": "success",
       "description": "",
       "description_tooltip": null,
       "layout": "IPY_MODEL_004da0efd1f3409b9f0e072aaedeccae",
       "max": 5148,
       "min": 0,
       "orientation": "horizontal",
       "style": "IPY_MODEL_54870f4ddbc1431a865d772f52ee548a",
       "value": 5148
      }
     },
     "b16486e8ada344e382ad8171d9fbbc90": {
      "model_module": "@jupyter-widgets/base",
      "model_module_version": "1.2.0",
      "model_name": "LayoutModel",
      "state": {
       "_model_module": "@jupyter-widgets/base",
       "_model_module_version": "1.2.0",
       "_model_name": "LayoutModel",
       "_view_count": null,
       "_view_module": "@jupyter-widgets/base",
       "_view_module_version": "1.2.0",
       "_view_name": "LayoutView",
       "align_content": null,
       "align_items": null,
       "align_self": null,
       "border": null,
       "bottom": null,
       "display": null,
       "flex": null,
       "flex_flow": null,
       "grid_area": null,
       "grid_auto_columns": null,
       "grid_auto_flow": null,
       "grid_auto_rows": null,
       "grid_column": null,
       "grid_gap": null,
       "grid_row": null,
       "grid_template_areas": null,
       "grid_template_columns": null,
       "grid_template_rows": null,
       "height": null,
       "justify_content": null,
       "justify_items": null,
       "left": null,
       "margin": null,
       "max_height": null,
       "max_width": null,
       "min_height": null,
       "min_width": null,
       "object_fit": null,
       "object_position": null,
       "order": null,
       "overflow": null,
       "overflow_x": null,
       "overflow_y": null,
       "padding": null,
       "right": null,
       "top": null,
       "visibility": null,
       "width": null
      }
     },
     "b60a22c5018045b1a256f2cb8b2f1e87": {
      "model_module": "@jupyter-widgets/base",
      "model_module_version": "1.2.0",
      "model_name": "LayoutModel",
      "state": {
       "_model_module": "@jupyter-widgets/base",
       "_model_module_version": "1.2.0",
       "_model_name": "LayoutModel",
       "_view_count": null,
       "_view_module": "@jupyter-widgets/base",
       "_view_module_version": "1.2.0",
       "_view_name": "LayoutView",
       "align_content": null,
       "align_items": null,
       "align_self": null,
       "border": null,
       "bottom": null,
       "display": null,
       "flex": null,
       "flex_flow": null,
       "grid_area": null,
       "grid_auto_columns": null,
       "grid_auto_flow": null,
       "grid_auto_rows": null,
       "grid_column": null,
       "grid_gap": null,
       "grid_row": null,
       "grid_template_areas": null,
       "grid_template_columns": null,
       "grid_template_rows": null,
       "height": null,
       "justify_content": null,
       "justify_items": null,
       "left": null,
       "margin": null,
       "max_height": null,
       "max_width": null,
       "min_height": null,
       "min_width": null,
       "object_fit": null,
       "object_position": null,
       "order": null,
       "overflow": null,
       "overflow_x": null,
       "overflow_y": null,
       "padding": null,
       "right": null,
       "top": null,
       "visibility": null,
       "width": null
      }
     },
     "b9db31e245c54de38971c761a371a292": {
      "model_module": "@jupyter-widgets/base",
      "model_module_version": "1.2.0",
      "model_name": "LayoutModel",
      "state": {
       "_model_module": "@jupyter-widgets/base",
       "_model_module_version": "1.2.0",
       "_model_name": "LayoutModel",
       "_view_count": null,
       "_view_module": "@jupyter-widgets/base",
       "_view_module_version": "1.2.0",
       "_view_name": "LayoutView",
       "align_content": null,
       "align_items": null,
       "align_self": null,
       "border": null,
       "bottom": null,
       "display": null,
       "flex": null,
       "flex_flow": null,
       "grid_area": null,
       "grid_auto_columns": null,
       "grid_auto_flow": null,
       "grid_auto_rows": null,
       "grid_column": null,
       "grid_gap": null,
       "grid_row": null,
       "grid_template_areas": null,
       "grid_template_columns": null,
       "grid_template_rows": null,
       "height": null,
       "justify_content": null,
       "justify_items": null,
       "left": null,
       "margin": null,
       "max_height": null,
       "max_width": null,
       "min_height": null,
       "min_width": null,
       "object_fit": null,
       "object_position": null,
       "order": null,
       "overflow": null,
       "overflow_x": null,
       "overflow_y": null,
       "padding": null,
       "right": null,
       "top": null,
       "visibility": null,
       "width": null
      }
     },
     "ba63924e3ab742098f90cdcd37783886": {
      "model_module": "@jupyter-widgets/controls",
      "model_module_version": "1.5.0",
      "model_name": "HTMLModel",
      "state": {
       "_dom_classes": [],
       "_model_module": "@jupyter-widgets/controls",
       "_model_module_version": "1.5.0",
       "_model_name": "HTMLModel",
       "_view_count": null,
       "_view_module": "@jupyter-widgets/controls",
       "_view_module_version": "1.5.0",
       "_view_name": "HTMLView",
       "description": "",
       "description_tooltip": null,
       "layout": "IPY_MODEL_66ace76117254a93acf86fe81068e4e6",
       "placeholder": "​",
       "style": "IPY_MODEL_4f408d4e0845499298b6fb0827b1747d",
       "value": " 6144/? [00:00&lt;00:00, 273283.39it/s]"
      }
     },
     "bc40d510d8b34f0baeb7e43a5cabc8f5": {
      "model_module": "@jupyter-widgets/controls",
      "model_module_version": "1.5.0",
      "model_name": "HBoxModel",
      "state": {
       "_dom_classes": [],
       "_model_module": "@jupyter-widgets/controls",
       "_model_module_version": "1.5.0",
       "_model_name": "HBoxModel",
       "_view_count": null,
       "_view_module": "@jupyter-widgets/controls",
       "_view_module_version": "1.5.0",
       "_view_name": "HBoxView",
       "box_style": "",
       "children": [
        "IPY_MODEL_e400b21fbc7f40f885bb8501aa3cdc1b",
        "IPY_MODEL_b07b96830b33462497895422e299550c",
        "IPY_MODEL_ba63924e3ab742098f90cdcd37783886"
       ],
       "layout": "IPY_MODEL_2eed9bfd1e934a31b0b075db19597233"
      }
     },
     "bd4728a3dfa94be1b132d1e4b658e14c": {
      "model_module": "@jupyter-widgets/base",
      "model_module_version": "1.2.0",
      "model_name": "LayoutModel",
      "state": {
       "_model_module": "@jupyter-widgets/base",
       "_model_module_version": "1.2.0",
       "_model_name": "LayoutModel",
       "_view_count": null,
       "_view_module": "@jupyter-widgets/base",
       "_view_module_version": "1.2.0",
       "_view_name": "LayoutView",
       "align_content": null,
       "align_items": null,
       "align_self": null,
       "border": null,
       "bottom": null,
       "display": null,
       "flex": null,
       "flex_flow": null,
       "grid_area": null,
       "grid_auto_columns": null,
       "grid_auto_flow": null,
       "grid_auto_rows": null,
       "grid_column": null,
       "grid_gap": null,
       "grid_row": null,
       "grid_template_areas": null,
       "grid_template_columns": null,
       "grid_template_rows": null,
       "height": null,
       "justify_content": null,
       "justify_items": null,
       "left": null,
       "margin": null,
       "max_height": null,
       "max_width": null,
       "min_height": null,
       "min_width": null,
       "object_fit": null,
       "object_position": null,
       "order": null,
       "overflow": null,
       "overflow_x": null,
       "overflow_y": null,
       "padding": null,
       "right": null,
       "top": null,
       "visibility": null,
       "width": null
      }
     },
     "bdbae2bd0ce64056bb484f46ff531d7e": {
      "model_module": "@jupyter-widgets/controls",
      "model_module_version": "1.5.0",
      "model_name": "HBoxModel",
      "state": {
       "_dom_classes": [],
       "_model_module": "@jupyter-widgets/controls",
       "_model_module_version": "1.5.0",
       "_model_name": "HBoxModel",
       "_view_count": null,
       "_view_module": "@jupyter-widgets/controls",
       "_view_module_version": "1.5.0",
       "_view_name": "HBoxView",
       "box_style": "",
       "children": [
        "IPY_MODEL_7772c30ac482481ea2833d886f18f8f4",
        "IPY_MODEL_05988b61dbdb45f68baac7be8ac2b6e4",
        "IPY_MODEL_6e4ad673098b48f4b83152cd75bfccb3"
       ],
       "layout": "IPY_MODEL_bd4728a3dfa94be1b132d1e4b658e14c"
      }
     },
     "bdd909c0059641d898aa5031e43bebb3": {
      "model_module": "@jupyter-widgets/controls",
      "model_module_version": "1.5.0",
      "model_name": "DescriptionStyleModel",
      "state": {
       "_model_module": "@jupyter-widgets/controls",
       "_model_module_version": "1.5.0",
       "_model_name": "DescriptionStyleModel",
       "_view_count": null,
       "_view_module": "@jupyter-widgets/base",
       "_view_module_version": "1.2.0",
       "_view_name": "StyleView",
       "description_width": ""
      }
     },
     "c4cdb2cfa297492c9110dedc6ec556a0": {
      "model_module": "@jupyter-widgets/base",
      "model_module_version": "1.2.0",
      "model_name": "LayoutModel",
      "state": {
       "_model_module": "@jupyter-widgets/base",
       "_model_module_version": "1.2.0",
       "_model_name": "LayoutModel",
       "_view_count": null,
       "_view_module": "@jupyter-widgets/base",
       "_view_module_version": "1.2.0",
       "_view_name": "LayoutView",
       "align_content": null,
       "align_items": null,
       "align_self": null,
       "border": null,
       "bottom": null,
       "display": null,
       "flex": null,
       "flex_flow": null,
       "grid_area": null,
       "grid_auto_columns": null,
       "grid_auto_flow": null,
       "grid_auto_rows": null,
       "grid_column": null,
       "grid_gap": null,
       "grid_row": null,
       "grid_template_areas": null,
       "grid_template_columns": null,
       "grid_template_rows": null,
       "height": null,
       "justify_content": null,
       "justify_items": null,
       "left": null,
       "margin": null,
       "max_height": null,
       "max_width": null,
       "min_height": null,
       "min_width": null,
       "object_fit": null,
       "object_position": null,
       "order": null,
       "overflow": null,
       "overflow_x": null,
       "overflow_y": null,
       "padding": null,
       "right": null,
       "top": null,
       "visibility": null,
       "width": null
      }
     },
     "c7cfae4730ab47c194f2e88896c61899": {
      "model_module": "@jupyter-widgets/controls",
      "model_module_version": "1.5.0",
      "model_name": "HBoxModel",
      "state": {
       "_dom_classes": [],
       "_model_module": "@jupyter-widgets/controls",
       "_model_module_version": "1.5.0",
       "_model_name": "HBoxModel",
       "_view_count": null,
       "_view_module": "@jupyter-widgets/controls",
       "_view_module_version": "1.5.0",
       "_view_name": "HBoxView",
       "box_style": "",
       "children": [
        "IPY_MODEL_6e4feeb500c040ad9b0ec613b844e10c",
        "IPY_MODEL_066c296065b0479e84da8648c3c0577e",
        "IPY_MODEL_c8cadc8b3fbf415fa8862e4cc85506b1"
       ],
       "layout": "IPY_MODEL_6067d442e8694097a411f42a294aeef4"
      }
     },
     "c8cadc8b3fbf415fa8862e4cc85506b1": {
      "model_module": "@jupyter-widgets/controls",
      "model_module_version": "1.5.0",
      "model_name": "HTMLModel",
      "state": {
       "_dom_classes": [],
       "_model_module": "@jupyter-widgets/controls",
       "_model_module_version": "1.5.0",
       "_model_name": "HTMLModel",
       "_view_count": null,
       "_view_module": "@jupyter-widgets/controls",
       "_view_module_version": "1.5.0",
       "_view_name": "HTMLView",
       "description": "",
       "description_tooltip": null,
       "layout": "IPY_MODEL_b004db04383945de972d3c72f2f13ccf",
       "placeholder": "​",
       "style": "IPY_MODEL_bdd909c0059641d898aa5031e43bebb3",
       "value": " 29696/? [00:00&lt;00:00, 301157.81it/s]"
      }
     },
     "cfcabd79f483460fab11da7924cc61e4": {
      "model_module": "@jupyter-widgets/base",
      "model_module_version": "1.2.0",
      "model_name": "LayoutModel",
      "state": {
       "_model_module": "@jupyter-widgets/base",
       "_model_module_version": "1.2.0",
       "_model_name": "LayoutModel",
       "_view_count": null,
       "_view_module": "@jupyter-widgets/base",
       "_view_module_version": "1.2.0",
       "_view_name": "LayoutView",
       "align_content": null,
       "align_items": null,
       "align_self": null,
       "border": null,
       "bottom": null,
       "display": null,
       "flex": null,
       "flex_flow": null,
       "grid_area": null,
       "grid_auto_columns": null,
       "grid_auto_flow": null,
       "grid_auto_rows": null,
       "grid_column": null,
       "grid_gap": null,
       "grid_row": null,
       "grid_template_areas": null,
       "grid_template_columns": null,
       "grid_template_rows": null,
       "height": null,
       "justify_content": null,
       "justify_items": null,
       "left": null,
       "margin": null,
       "max_height": null,
       "max_width": null,
       "min_height": null,
       "min_width": null,
       "object_fit": null,
       "object_position": null,
       "order": null,
       "overflow": null,
       "overflow_x": null,
       "overflow_y": null,
       "padding": null,
       "right": null,
       "top": null,
       "visibility": null,
       "width": null
      }
     },
     "d60ca8a524c3489a923c16558800e2c2": {
      "model_module": "@jupyter-widgets/controls",
      "model_module_version": "1.5.0",
      "model_name": "DescriptionStyleModel",
      "state": {
       "_model_module": "@jupyter-widgets/controls",
       "_model_module_version": "1.5.0",
       "_model_name": "DescriptionStyleModel",
       "_view_count": null,
       "_view_module": "@jupyter-widgets/base",
       "_view_module_version": "1.2.0",
       "_view_name": "StyleView",
       "description_width": ""
      }
     },
     "e400b21fbc7f40f885bb8501aa3cdc1b": {
      "model_module": "@jupyter-widgets/controls",
      "model_module_version": "1.5.0",
      "model_name": "HTMLModel",
      "state": {
       "_dom_classes": [],
       "_model_module": "@jupyter-widgets/controls",
       "_model_module_version": "1.5.0",
       "_model_name": "HTMLModel",
       "_view_count": null,
       "_view_module": "@jupyter-widgets/controls",
       "_view_module_version": "1.5.0",
       "_view_name": "HTMLView",
       "description": "",
       "description_tooltip": null,
       "layout": "IPY_MODEL_8f7ce935e9fb434c90c5c62c2616c0da",
       "placeholder": "​",
       "style": "IPY_MODEL_1ba754e9da734a8bb2bfadf11055ae23",
       "value": ""
      }
     },
     "e533a18a25e14646b3a9078b11460528": {
      "model_module": "@jupyter-widgets/controls",
      "model_module_version": "1.5.0",
      "model_name": "ProgressStyleModel",
      "state": {
       "_model_module": "@jupyter-widgets/controls",
       "_model_module_version": "1.5.0",
       "_model_name": "ProgressStyleModel",
       "_view_count": null,
       "_view_module": "@jupyter-widgets/base",
       "_view_module_version": "1.2.0",
       "_view_name": "StyleView",
       "bar_color": null,
       "description_width": ""
      }
     },
     "e802ba0b01fe4966a110209379720a7f": {
      "model_module": "@jupyter-widgets/controls",
      "model_module_version": "1.5.0",
      "model_name": "DescriptionStyleModel",
      "state": {
       "_model_module": "@jupyter-widgets/controls",
       "_model_module_version": "1.5.0",
       "_model_name": "DescriptionStyleModel",
       "_view_count": null,
       "_view_module": "@jupyter-widgets/base",
       "_view_module_version": "1.2.0",
       "_view_name": "StyleView",
       "description_width": ""
      }
     },
     "f8c31dd193c54ca7bff7c4c261f390f4": {
      "model_module": "@jupyter-widgets/controls",
      "model_module_version": "1.5.0",
      "model_name": "HTMLModel",
      "state": {
       "_dom_classes": [],
       "_model_module": "@jupyter-widgets/controls",
       "_model_module_version": "1.5.0",
       "_model_name": "HTMLModel",
       "_view_count": null,
       "_view_module": "@jupyter-widgets/controls",
       "_view_module_version": "1.5.0",
       "_view_name": "HTMLView",
       "description": "",
       "description_tooltip": null,
       "layout": "IPY_MODEL_cfcabd79f483460fab11da7924cc61e4",
       "placeholder": "​",
       "style": "IPY_MODEL_e802ba0b01fe4966a110209379720a7f",
       "value": ""
      }
     },
     "fc8e93a6ddec45fca0ee70378a724e31": {
      "model_module": "@jupyter-widgets/base",
      "model_module_version": "1.2.0",
      "model_name": "LayoutModel",
      "state": {
       "_model_module": "@jupyter-widgets/base",
       "_model_module_version": "1.2.0",
       "_model_name": "LayoutModel",
       "_view_count": null,
       "_view_module": "@jupyter-widgets/base",
       "_view_module_version": "1.2.0",
       "_view_name": "LayoutView",
       "align_content": null,
       "align_items": null,
       "align_self": null,
       "border": null,
       "bottom": null,
       "display": null,
       "flex": null,
       "flex_flow": null,
       "grid_area": null,
       "grid_auto_columns": null,
       "grid_auto_flow": null,
       "grid_auto_rows": null,
       "grid_column": null,
       "grid_gap": null,
       "grid_row": null,
       "grid_template_areas": null,
       "grid_template_columns": null,
       "grid_template_rows": null,
       "height": null,
       "justify_content": null,
       "justify_items": null,
       "left": null,
       "margin": null,
       "max_height": null,
       "max_width": null,
       "min_height": null,
       "min_width": null,
       "object_fit": null,
       "object_position": null,
       "order": null,
       "overflow": null,
       "overflow_x": null,
       "overflow_y": null,
       "padding": null,
       "right": null,
       "top": null,
       "visibility": null,
       "width": null
      }
     },
     "fd0ad51804bc4212a56b67a7ad4e3355": {
      "model_module": "@jupyter-widgets/base",
      "model_module_version": "1.2.0",
      "model_name": "LayoutModel",
      "state": {
       "_model_module": "@jupyter-widgets/base",
       "_model_module_version": "1.2.0",
       "_model_name": "LayoutModel",
       "_view_count": null,
       "_view_module": "@jupyter-widgets/base",
       "_view_module_version": "1.2.0",
       "_view_name": "LayoutView",
       "align_content": null,
       "align_items": null,
       "align_self": null,
       "border": null,
       "bottom": null,
       "display": null,
       "flex": null,
       "flex_flow": null,
       "grid_area": null,
       "grid_auto_columns": null,
       "grid_auto_flow": null,
       "grid_auto_rows": null,
       "grid_column": null,
       "grid_gap": null,
       "grid_row": null,
       "grid_template_areas": null,
       "grid_template_columns": null,
       "grid_template_rows": null,
       "height": null,
       "justify_content": null,
       "justify_items": null,
       "left": null,
       "margin": null,
       "max_height": null,
       "max_width": null,
       "min_height": null,
       "min_width": null,
       "object_fit": null,
       "object_position": null,
       "order": null,
       "overflow": null,
       "overflow_x": null,
       "overflow_y": null,
       "padding": null,
       "right": null,
       "top": null,
       "visibility": null,
       "width": null
      }
     },
     "ffcfb6549151431d86bab7d6ec63a45e": {
      "model_module": "@jupyter-widgets/controls",
      "model_module_version": "1.5.0",
      "model_name": "ProgressStyleModel",
      "state": {
       "_model_module": "@jupyter-widgets/controls",
       "_model_module_version": "1.5.0",
       "_model_name": "ProgressStyleModel",
       "_view_count": null,
       "_view_module": "@jupyter-widgets/base",
       "_view_module_version": "1.2.0",
       "_view_name": "StyleView",
       "bar_color": null,
       "description_width": ""
      }
     }
    },
    "version_major": 2,
    "version_minor": 0
   }
  }
 },
 "nbformat": 4,
 "nbformat_minor": 5
}
