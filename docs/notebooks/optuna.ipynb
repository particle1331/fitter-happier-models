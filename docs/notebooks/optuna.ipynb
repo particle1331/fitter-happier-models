{
 "cells": [
  {
   "cell_type": "markdown",
   "id": "f85a35b3",
   "metadata": {
    "id": "Q-bCjQI4cMwJ",
    "papermill": {
     "duration": 0.044048,
     "end_time": "2022-01-09T16:43:21.888188",
     "exception": false,
     "start_time": "2022-01-09T16:43:21.844140",
     "status": "completed"
    },
    "tags": []
   },
   "source": [
    "# Hyperparameter Tuning with Optuna"
   ]
  },
  {
   "cell_type": "markdown",
   "id": "0d648149",
   "metadata": {
    "id": "1NK-oxLtcMwV",
    "papermill": {
     "duration": 0.039141,
     "end_time": "2022-01-09T16:43:22.102868",
     "exception": false,
     "start_time": "2022-01-09T16:43:22.063727",
     "status": "completed"
    },
    "tags": []
   },
   "source": [
    "Hyperparameters are **non-learnable parameters** of a model that determine its architecture. The correct choice of hyperparameters could mean the difference between convergence to or divergence from a solution. In this notebook, we explore an open-source library that provides a framework for solving this task. From its docs:"
   ]
  },
  {
   "cell_type": "markdown",
   "id": "f6de7f6b",
   "metadata": {
    "id": "8Ht_p93LcMwa",
    "papermill": {
     "duration": 0.063076,
     "end_time": "2022-01-09T16:43:22.217831",
     "exception": false,
     "start_time": "2022-01-09T16:43:22.154755",
     "status": "completed"
    },
    "tags": []
   },
   "source": [
    "> **Optuna** is an automatic hyperparameter optimization software framework, particularly designed for machine learning. It features an imperative, *define-by-run* style user API. Thanks to our *define-by-run* API, the code written with Optuna enjoys high modularity, and the user of Optuna can dynamically construct the search spaces for the hyperparameters.\n",
    "\n",
    "\n",
    "- [Optuna FAQ](https://optuna.readthedocs.io/en/stable/faq.html)\n",
    "- [Optuna docs](https://optuna.readthedocs.io/en/stable/index.html#)\n",
    "- [Optuna paper](https://arxiv.org/abs/1907.10902)"
   ]
  },
  {
   "cell_type": "code",
   "execution_count": null,
   "id": "4818cfc8",
   "metadata": {},
   "outputs": [],
   "source": [
    "# Experiment config\n",
    "RF_NTRIALS = 60\n",
    "VGG_NTRIALS = 40\n",
    "CIFAR10_SAMPLE_RATIO = 0.5\n",
    "CIFAR10_RESIZE = 32"
   ]
  },
  {
   "cell_type": "markdown",
   "id": "9bd501fd",
   "metadata": {
    "id": "klJlBflxcMwb",
    "papermill": {
     "duration": 0.042145,
     "end_time": "2022-01-09T16:43:22.303245",
     "exception": false,
     "start_time": "2022-01-09T16:43:22.261100",
     "status": "completed"
    },
    "tags": []
   },
   "source": [
    "## Basics with scikit-learn"
   ]
  },
  {
   "cell_type": "markdown",
   "id": "e141ee88",
   "metadata": {
    "id": "RTOBy10ecMwb",
    "papermill": {
     "duration": 0.044565,
     "end_time": "2022-01-09T16:43:22.414665",
     "exception": false,
     "start_time": "2022-01-09T16:43:22.370100",
     "status": "completed"
    },
    "tags": []
   },
   "source": [
    "Optuna is a black-box optimizer, which means it only needs an objective function (any function that returns a numerical value) to evaluate the performance of the its parameters, and decide where to sample in upcoming trials. An optimization problem is framed in the Optuna API using two basic concepts: `study` and `trial`. \n",
    "\n",
    "A study is conceptually an optimization based on an objective function, while a trial is a single execution of an objective function. The combination of hyperparameters for each trial is sampled according to some sampling algorithm defined by the study. \n",
    "\n",
    "In the following code example, the search space is constructed within imperative Python code, e.g. inside conditionals or loops. On the other hand, recall that for `GridSearchCV` and `RandomSearchCV` in scikit-learn, we had to define the entire search space before running the search algorithm."
   ]
  },
  {
   "cell_type": "markdown",
   "id": "c63b83be",
   "metadata": {
    "id": "_HmNJmtscMwc",
    "papermill": {
     "duration": 0.038969,
     "end_time": "2022-01-09T16:43:22.493197",
     "exception": false,
     "start_time": "2022-01-09T16:43:22.454228",
     "status": "completed"
    },
    "tags": []
   },
   "source": [
    "```{caution}\n",
    "Always perform model evaluation on a dataset within a cross-validation framework!\n",
    "```"
   ]
  },
  {
   "cell_type": "code",
   "execution_count": 2,
   "id": "b519de3f",
   "metadata": {
    "execution": {
     "iopub.execute_input": "2022-01-09T16:43:22.580217Z",
     "iopub.status.busy": "2022-01-09T16:43:22.579467Z",
     "iopub.status.idle": "2022-01-09T16:43:26.438526Z",
     "shell.execute_reply": "2022-01-09T16:43:26.439117Z",
     "shell.execute_reply.started": "2022-01-08T17:25:18.428940Z"
    },
    "id": "7MYKq1Y9cMwd",
    "outputId": "752c9e7d-36e7-49b3-b86a-e2983093a076",
    "papermill": {
     "duration": 3.906901,
     "end_time": "2022-01-09T16:43:26.439309",
     "exception": false,
     "start_time": "2022-01-09T16:43:22.532408",
     "status": "completed"
    },
    "tags": []
   },
   "outputs": [
    {
     "name": "stderr",
     "output_type": "stream",
     "text": [
      "\u001b[32m[I 2022-01-09 16:43:23,964]\u001b[0m A new study created in memory with name: no-name-54f1a555-fa15-42c3-8253-bf2ed881f9d2\u001b[0m\n",
      "\u001b[32m[I 2022-01-09 16:43:26,066]\u001b[0m Trial 0 finished with value: 0.9490607048594939 and parameters: {'classifier': 'RandomForest', 'rf_max_depth': 17.073087050633617}. Best is trial 0 with value: 0.9490607048594939.\u001b[0m\n",
      "\u001b[32m[I 2022-01-09 16:43:26,171]\u001b[0m Trial 1 finished with value: 0.9542928116752056 and parameters: {'classifier': 'RandomForest', 'rf_max_depth': 13.974140377683506}. Best is trial 1 with value: 0.9542928116752056.\u001b[0m\n",
      "\u001b[32m[I 2022-01-09 16:43:26,250]\u001b[0m Trial 2 finished with value: 0.6274181027790716 and parameters: {'classifier': 'SVC', 'svc_c': 181956.84041464477}. Best is trial 1 with value: 0.9542928116752056.\u001b[0m\n",
      "\u001b[32m[I 2022-01-09 16:43:26,330]\u001b[0m Trial 3 finished with value: 0.6274181027790716 and parameters: {'classifier': 'SVC', 'svc_c': 864898.4184373791}. Best is trial 1 with value: 0.9542928116752056.\u001b[0m\n",
      "\u001b[32m[I 2022-01-09 16:43:26,432]\u001b[0m Trial 4 finished with value: 0.9613569321533924 and parameters: {'classifier': 'RandomForest', 'rf_max_depth': 9.727521922319935}. Best is trial 4 with value: 0.9613569321533924.\u001b[0m\n"
     ]
    }
   ],
   "source": [
    "import optuna\n",
    "import pandas as pd\n",
    "from sklearn import ensemble, svm\n",
    "from sklearn import datasets\n",
    "from sklearn import model_selection\n",
    "from functools import partial\n",
    "import joblib\n",
    "\n",
    "\n",
    "# (1) Define an objective function to be maximized.\n",
    "def objective(trial, X, y):\n",
    "    \n",
    "    # (2) Suggest values for the hyperparameters using trial object.\n",
    "    clf_name = trial.suggest_categorical('classifier', ['SVC', 'RandomForest'])\n",
    "    if clf_name == 'SVC':\n",
    "        svc_c = trial.suggest_loguniform('svc_c', 1e-10, 1e10)\n",
    "        clf = svm.SVC(C=svc_c, gamma='auto')\n",
    "    else:\n",
    "        rf_max_depth = int(trial.suggest_loguniform('rf_max_depth', 2, 32))\n",
    "        clf = ensemble.RandomForestClassifier(max_depth=rf_max_depth, n_estimators=10)\n",
    "\n",
    "    score = model_selection.cross_val_score(clf, X, y, n_jobs=-1, cv=5)\n",
    "    return score.mean()\n",
    "\n",
    "# (3) Create a study object and optimize the objective function.\n",
    "X, y = datasets.load_breast_cancer(return_X_y=True)\n",
    "study = optuna.create_study(direction=\"maximize\")\n",
    "study.optimize(partial(objective, X=X, y=y), n_trials=5)"
   ]
  },
  {
   "cell_type": "markdown",
   "id": "1982f324",
   "metadata": {
    "id": "nsGUAer5cMwg",
    "papermill": {
     "duration": 0.040369,
     "end_time": "2022-01-09T16:43:26.522023",
     "exception": false,
     "start_time": "2022-01-09T16:43:26.481654",
     "status": "completed"
    },
    "tags": []
   },
   "source": [
    "The `study` object saves the result of evaluating the objective each trial &mdash; which is essentially some choice of hyperparameters to evaluate. In the above study, the problem of model selection is framed as a hyperparameter optimization problem. Here we choose between an SVM-based algorithm or Random Forest."
   ]
  },
  {
   "cell_type": "code",
   "execution_count": 3,
   "id": "7be7968f",
   "metadata": {
    "execution": {
     "iopub.execute_input": "2022-01-09T16:43:26.621763Z",
     "iopub.status.busy": "2022-01-09T16:43:26.621028Z",
     "iopub.status.idle": "2022-01-09T16:43:26.638646Z",
     "shell.execute_reply": "2022-01-09T16:43:26.638147Z",
     "shell.execute_reply.started": "2022-01-08T17:25:21.165995Z"
    },
    "id": "-e2vQKKTcMwh",
    "outputId": "bdca7478-d429-431f-fbe0-2963d500e735",
    "papermill": {
     "duration": 0.076213,
     "end_time": "2022-01-09T16:43:26.638761",
     "exception": false,
     "start_time": "2022-01-09T16:43:26.562548",
     "status": "completed"
    },
    "tags": []
   },
   "outputs": [
    {
     "data": {
      "text/html": [
       "<div>\n",
       "<style scoped>\n",
       "    .dataframe tbody tr th:only-of-type {\n",
       "        vertical-align: middle;\n",
       "    }\n",
       "\n",
       "    .dataframe tbody tr th {\n",
       "        vertical-align: top;\n",
       "    }\n",
       "\n",
       "    .dataframe thead th {\n",
       "        text-align: right;\n",
       "    }\n",
       "</style>\n",
       "<table border=\"1\" class=\"dataframe\">\n",
       "  <thead>\n",
       "    <tr style=\"text-align: right;\">\n",
       "      <th></th>\n",
       "      <th>number</th>\n",
       "      <th>value</th>\n",
       "      <th>datetime_start</th>\n",
       "      <th>datetime_complete</th>\n",
       "      <th>duration</th>\n",
       "      <th>params_classifier</th>\n",
       "      <th>params_rf_max_depth</th>\n",
       "      <th>params_svc_c</th>\n",
       "      <th>state</th>\n",
       "    </tr>\n",
       "  </thead>\n",
       "  <tbody>\n",
       "    <tr>\n",
       "      <th>0</th>\n",
       "      <td>0</td>\n",
       "      <td>0.949061</td>\n",
       "      <td>2022-01-09 16:43:23.966991</td>\n",
       "      <td>2022-01-09 16:43:26.066287</td>\n",
       "      <td>0 days 00:00:02.099296</td>\n",
       "      <td>RandomForest</td>\n",
       "      <td>17.073087</td>\n",
       "      <td>NaN</td>\n",
       "      <td>COMPLETE</td>\n",
       "    </tr>\n",
       "    <tr>\n",
       "      <th>1</th>\n",
       "      <td>1</td>\n",
       "      <td>0.954293</td>\n",
       "      <td>2022-01-09 16:43:26.068106</td>\n",
       "      <td>2022-01-09 16:43:26.171510</td>\n",
       "      <td>0 days 00:00:00.103404</td>\n",
       "      <td>RandomForest</td>\n",
       "      <td>13.974140</td>\n",
       "      <td>NaN</td>\n",
       "      <td>COMPLETE</td>\n",
       "    </tr>\n",
       "    <tr>\n",
       "      <th>2</th>\n",
       "      <td>2</td>\n",
       "      <td>0.627418</td>\n",
       "      <td>2022-01-09 16:43:26.172781</td>\n",
       "      <td>2022-01-09 16:43:26.250413</td>\n",
       "      <td>0 days 00:00:00.077632</td>\n",
       "      <td>SVC</td>\n",
       "      <td>NaN</td>\n",
       "      <td>181956.840415</td>\n",
       "      <td>COMPLETE</td>\n",
       "    </tr>\n",
       "    <tr>\n",
       "      <th>3</th>\n",
       "      <td>3</td>\n",
       "      <td>0.627418</td>\n",
       "      <td>2022-01-09 16:43:26.251880</td>\n",
       "      <td>2022-01-09 16:43:26.329750</td>\n",
       "      <td>0 days 00:00:00.077870</td>\n",
       "      <td>SVC</td>\n",
       "      <td>NaN</td>\n",
       "      <td>864898.418437</td>\n",
       "      <td>COMPLETE</td>\n",
       "    </tr>\n",
       "    <tr>\n",
       "      <th>4</th>\n",
       "      <td>4</td>\n",
       "      <td>0.961357</td>\n",
       "      <td>2022-01-09 16:43:26.331104</td>\n",
       "      <td>2022-01-09 16:43:26.432237</td>\n",
       "      <td>0 days 00:00:00.101133</td>\n",
       "      <td>RandomForest</td>\n",
       "      <td>9.727522</td>\n",
       "      <td>NaN</td>\n",
       "      <td>COMPLETE</td>\n",
       "    </tr>\n",
       "  </tbody>\n",
       "</table>\n",
       "</div>"
      ],
      "text/plain": [
       "   number     value             datetime_start          datetime_complete  \\\n",
       "0       0  0.949061 2022-01-09 16:43:23.966991 2022-01-09 16:43:26.066287   \n",
       "1       1  0.954293 2022-01-09 16:43:26.068106 2022-01-09 16:43:26.171510   \n",
       "2       2  0.627418 2022-01-09 16:43:26.172781 2022-01-09 16:43:26.250413   \n",
       "3       3  0.627418 2022-01-09 16:43:26.251880 2022-01-09 16:43:26.329750   \n",
       "4       4  0.961357 2022-01-09 16:43:26.331104 2022-01-09 16:43:26.432237   \n",
       "\n",
       "                duration params_classifier  params_rf_max_depth  \\\n",
       "0 0 days 00:00:02.099296      RandomForest            17.073087   \n",
       "1 0 days 00:00:00.103404      RandomForest            13.974140   \n",
       "2 0 days 00:00:00.077632               SVC                  NaN   \n",
       "3 0 days 00:00:00.077870               SVC                  NaN   \n",
       "4 0 days 00:00:00.101133      RandomForest             9.727522   \n",
       "\n",
       "    params_svc_c     state  \n",
       "0            NaN  COMPLETE  \n",
       "1            NaN  COMPLETE  \n",
       "2  181956.840415  COMPLETE  \n",
       "3  864898.418437  COMPLETE  \n",
       "4            NaN  COMPLETE  "
      ]
     },
     "execution_count": 3,
     "metadata": {},
     "output_type": "execute_result"
    }
   ],
   "source": [
    "study.trials_dataframe().head()"
   ]
  },
  {
   "cell_type": "markdown",
   "id": "b2e11ba7",
   "metadata": {
    "id": "hJFdE1kwcMwi",
    "papermill": {
     "duration": 0.040791,
     "end_time": "2022-01-09T16:43:26.720595",
     "exception": false,
     "start_time": "2022-01-09T16:43:26.679804",
     "status": "completed"
    },
    "tags": []
   },
   "source": [
    "### Fine tuning Random Forest"
   ]
  },
  {
   "cell_type": "markdown",
   "id": "9e149a3e",
   "metadata": {
    "id": "x20Gt3wccMwj",
    "papermill": {
     "duration": 0.040791,
     "end_time": "2022-01-09T16:43:26.802429",
     "exception": false,
     "start_time": "2022-01-09T16:43:26.761638",
     "status": "completed"
    },
    "tags": []
   },
   "source": [
    "Here we focus on tuning a single Random Forest model. Then, plot the accuracy for each pair of hyperparameters."
   ]
  },
  {
   "cell_type": "code",
   "execution_count": 4,
   "id": "0ea050cb",
   "metadata": {
    "execution": {
     "iopub.execute_input": "2022-01-09T16:43:26.895817Z",
     "iopub.status.busy": "2022-01-09T16:43:26.895133Z",
     "iopub.status.idle": "2022-01-09T16:47:33.855962Z",
     "shell.execute_reply": "2022-01-09T16:47:33.856393Z",
     "shell.execute_reply.started": "2022-01-08T17:25:21.194327Z"
    },
    "id": "F2o11RCLcMwk",
    "outputId": "6f8a7e09-4d08-48ba-be23-0242d11538cf",
    "papermill": {
     "duration": 247.012839,
     "end_time": "2022-01-09T16:47:33.856568",
     "exception": false,
     "start_time": "2022-01-09T16:43:26.843729",
     "status": "completed"
    },
    "tags": []
   },
   "outputs": [
    {
     "name": "stderr",
     "output_type": "stream",
     "text": [
      "\u001b[32m[I 2022-01-09 16:43:26,890]\u001b[0m A new study created in memory with name: no-name-115a68d2-ab3d-4fb7-863e-40264b640ac5\u001b[0m\n",
      "\u001b[32m[I 2022-01-09 16:43:31,170]\u001b[0m Trial 0 finished with value: 0.9666356155876418 and parameters: {'max_depth': 70, 'max_features': 0.4553140329238048, 'n_estimators': 353, 'criterion': 'entropy'}. Best is trial 0 with value: 0.9666356155876418.\u001b[0m\n",
      "\u001b[32m[I 2022-01-09 16:43:33,757]\u001b[0m Trial 1 finished with value: 0.9490607048594939 and parameters: {'max_depth': 2, 'max_features': 0.8793554962469481, 'n_estimators': 217, 'criterion': 'gini'}. Best is trial 0 with value: 0.9666356155876418.\u001b[0m\n",
      "\u001b[32m[I 2022-01-09 16:43:46,501]\u001b[0m Trial 2 finished with value: 0.9648657040832169 and parameters: {'max_depth': 112, 'max_features': 0.8957261207990624, 'n_estimators': 679, 'criterion': 'entropy'}. Best is trial 0 with value: 0.9666356155876418.\u001b[0m\n",
      "\u001b[32m[I 2022-01-09 16:43:51,862]\u001b[0m Trial 3 finished with value: 0.95960254618848 and parameters: {'max_depth': 52, 'max_features': 0.131096167102392, 'n_estimators': 688, 'criterion': 'gini'}. Best is trial 0 with value: 0.9666356155876418.\u001b[0m\n",
      "\u001b[32m[I 2022-01-09 16:43:52,930]\u001b[0m Trial 4 finished with value: 0.9543393882937432 and parameters: {'max_depth': 89, 'max_features': 0.19757680095203894, 'n_estimators': 123, 'criterion': 'gini'}. Best is trial 0 with value: 0.9666356155876418.\u001b[0m\n",
      "\u001b[32m[I 2022-01-09 16:44:04,891]\u001b[0m Trial 5 finished with value: 0.9596180717279925 and parameters: {'max_depth': 43, 'max_features': 0.745646516579023, 'n_estimators': 799, 'criterion': 'gini'}. Best is trial 0 with value: 0.9666356155876418.\u001b[0m\n",
      "\u001b[32m[I 2022-01-09 16:44:05,977]\u001b[0m Trial 6 finished with value: 0.9455364073901567 and parameters: {'max_depth': 2, 'max_features': 0.4305160160128184, 'n_estimators': 120, 'criterion': 'gini'}. Best is trial 0 with value: 0.9666356155876418.\u001b[0m\n",
      "\u001b[32m[I 2022-01-09 16:44:10,074]\u001b[0m Trial 7 finished with value: 0.9525694767893184 and parameters: {'max_depth': 2, 'max_features': 0.5896358956701836, 'n_estimators': 395, 'criterion': 'gini'}. Best is trial 0 with value: 0.9666356155876418.\u001b[0m\n",
      "\u001b[32m[I 2022-01-09 16:44:11,713]\u001b[0m Trial 8 finished with value: 0.9648657040832168 and parameters: {'max_depth': 8, 'max_features': 0.2725360621622547, 'n_estimators': 107, 'criterion': 'entropy'}. Best is trial 0 with value: 0.9666356155876418.\u001b[0m\n",
      "\u001b[32m[I 2022-01-09 16:44:13,789]\u001b[0m Trial 9 finished with value: 0.9631268436578171 and parameters: {'max_depth': 17, 'max_features': 0.42336296524868955, 'n_estimators': 186, 'criterion': 'gini'}. Best is trial 0 with value: 0.9666356155876418.\u001b[0m\n",
      "\u001b[32m[I 2022-01-09 16:44:19,421]\u001b[0m Trial 10 finished with value: 0.9683900015525542 and parameters: {'max_depth': 17, 'max_features': 0.6271061861322312, 'n_estimators': 390, 'criterion': 'entropy'}. Best is trial 10 with value: 0.9683900015525542.\u001b[0m\n",
      "\u001b[32m[I 2022-01-09 16:44:24,714]\u001b[0m Trial 11 finished with value: 0.9666200900481291 and parameters: {'max_depth': 15, 'max_features': 0.5822621323950136, 'n_estimators': 383, 'criterion': 'entropy'}. Best is trial 10 with value: 0.9683900015525542.\u001b[0m\n",
      "\u001b[32m[I 2022-01-09 16:44:30,752]\u001b[0m Trial 12 finished with value: 0.9631113181183046 and parameters: {'max_depth': 7, 'max_features': 0.6914246020496978, 'n_estimators': 394, 'criterion': 'entropy'}. Best is trial 10 with value: 0.9683900015525542.\u001b[0m\n",
      "\u001b[32m[I 2022-01-09 16:44:34,208]\u001b[0m Trial 13 finished with value: 0.9666356155876418 and parameters: {'max_depth': 31, 'max_features': 0.4008483203477205, 'n_estimators': 295, 'criterion': 'entropy'}. Best is trial 10 with value: 0.9683900015525542.\u001b[0m\n",
      "\u001b[32m[I 2022-01-09 16:44:42,058]\u001b[0m Trial 14 finished with value: 0.9648657040832169 and parameters: {'max_depth': 5, 'max_features': 0.697074880558194, 'n_estimators': 515, 'criterion': 'entropy'}. Best is trial 10 with value: 0.9683900015525542.\u001b[0m\n",
      "\u001b[32m[I 2022-01-09 16:44:46,095]\u001b[0m Trial 15 finished with value: 0.968390001552554 and parameters: {'max_depth': 25, 'max_features': 0.4911415937971424, 'n_estimators': 266, 'criterion': 'entropy'}. Best is trial 10 with value: 0.9683900015525542.\u001b[0m\n",
      "\u001b[32m[I 2022-01-09 16:44:48,194]\u001b[0m Trial 16 finished with value: 0.9666200900481291 and parameters: {'max_depth': 23, 'max_features': 0.29947419424183597, 'n_estimators': 207, 'criterion': 'entropy'}. Best is trial 10 with value: 0.9683900015525542.\u001b[0m\n",
      "\u001b[32m[I 2022-01-09 16:44:51,542]\u001b[0m Trial 17 finished with value: 0.9648812296227295 and parameters: {'max_depth': 9, 'max_features': 0.5232400508998625, 'n_estimators': 259, 'criterion': 'entropy'}. Best is trial 10 with value: 0.9683900015525542.\u001b[0m\n",
      "\u001b[32m[I 2022-01-09 16:44:54,420]\u001b[0m Trial 18 finished with value: 0.9666356155876418 and parameters: {'max_depth': 4, 'max_features': 0.7925469586846491, 'n_estimators': 158, 'criterion': 'entropy'}. Best is trial 10 with value: 0.9683900015525542.\u001b[0m\n",
      "\u001b[32m[I 2022-01-09 16:45:03,962]\u001b[0m Trial 19 finished with value: 0.9648657040832168 and parameters: {'max_depth': 26, 'max_features': 0.9916274673184882, 'n_estimators': 504, 'criterion': 'entropy'}. Best is trial 10 with value: 0.9683900015525542.\u001b[0m\n",
      "\u001b[32m[I 2022-01-09 16:45:08,247]\u001b[0m Trial 20 finished with value: 0.9683900015525542 and parameters: {'max_depth': 11, 'max_features': 0.6494072971899049, 'n_estimators': 282, 'criterion': 'entropy'}. Best is trial 10 with value: 0.9683900015525542.\u001b[0m\n",
      "\u001b[32m[I 2022-01-09 16:45:12,318]\u001b[0m Trial 21 finished with value: 0.9648657040832169 and parameters: {'max_depth': 12, 'max_features': 0.6177131689895455, 'n_estimators': 281, 'criterion': 'entropy'}. Best is trial 10 with value: 0.9683900015525542.\u001b[0m\n",
      "\u001b[32m[I 2022-01-09 16:45:17,211]\u001b[0m Trial 22 finished with value: 0.9666356155876418 and parameters: {'max_depth': 18, 'max_features': 0.5182258148253241, 'n_estimators': 307, 'criterion': 'entropy'}. Best is trial 10 with value: 0.9683900015525542.\u001b[0m\n",
      "\u001b[32m[I 2022-01-09 16:45:24,171]\u001b[0m Trial 23 finished with value: 0.9666356155876418 and parameters: {'max_depth': 37, 'max_features': 0.6435668892225698, 'n_estimators': 483, 'criterion': 'entropy'}. Best is trial 10 with value: 0.9683900015525542.\u001b[0m\n",
      "\u001b[32m[I 2022-01-09 16:45:27,362]\u001b[0m Trial 24 finished with value: 0.9683744760130415 and parameters: {'max_depth': 11, 'max_features': 0.35658896664659767, 'n_estimators': 262, 'criterion': 'entropy'}. Best is trial 10 with value: 0.9683900015525542.\u001b[0m\n",
      "\u001b[32m[I 2022-01-09 16:45:30,324]\u001b[0m Trial 25 finished with value: 0.9631268436578171 and parameters: {'max_depth': 4, 'max_features': 0.5129171273311892, 'n_estimators': 233, 'criterion': 'entropy'}. Best is trial 10 with value: 0.9683900015525542.\u001b[0m\n",
      "\u001b[32m[I 2022-01-09 16:45:32,922]\u001b[0m Trial 26 finished with value: 0.968390001552554 and parameters: {'max_depth': 23, 'max_features': 0.778630164750195, 'n_estimators': 161, 'criterion': 'entropy'}. Best is trial 10 with value: 0.9683900015525542.\u001b[0m\n",
      "\u001b[32m[I 2022-01-09 16:45:35,628]\u001b[0m Trial 27 finished with value: 0.9648657040832169 and parameters: {'max_depth': 6, 'max_features': 0.8630561237098009, 'n_estimators': 160, 'criterion': 'entropy'}. Best is trial 10 with value: 0.9683900015525542.\u001b[0m\n",
      "\u001b[32m[I 2022-01-09 16:45:40,807]\u001b[0m Trial 28 finished with value: 0.9613569321533924 and parameters: {'max_depth': 60, 'max_features': 0.6694356886834675, 'n_estimators': 329, 'criterion': 'entropy'}. Best is trial 10 with value: 0.9683900015525542.\u001b[0m\n",
      "\u001b[32m[I 2022-01-09 16:45:43,343]\u001b[0m Trial 29 finished with value: 0.968390001552554 and parameters: {'max_depth': 12, 'max_features': 0.7888952063202767, 'n_estimators': 156, 'criterion': 'entropy'}. Best is trial 10 with value: 0.9683900015525542.\u001b[0m\n",
      "\u001b[32m[I 2022-01-09 16:45:51,958]\u001b[0m Trial 30 finished with value: 0.9666200900481291 and parameters: {'max_depth': 10, 'max_features': 0.8231032780230729, 'n_estimators': 466, 'criterion': 'entropy'}. Best is trial 10 with value: 0.9683900015525542.\u001b[0m\n",
      "\u001b[32m[I 2022-01-09 16:45:57,365]\u001b[0m Trial 31 finished with value: 0.9631113181183046 and parameters: {'max_depth': 24, 'max_features': 0.7211108291204642, 'n_estimators': 347, 'criterion': 'entropy'}. Best is trial 10 with value: 0.9683900015525542.\u001b[0m\n",
      "\u001b[32m[I 2022-01-09 16:45:59,919]\u001b[0m Trial 32 finished with value: 0.9648812296227295 and parameters: {'max_depth': 14, 'max_features': 0.46511497343641706, 'n_estimators': 185, 'criterion': 'entropy'}. Best is trial 10 with value: 0.9683900015525542.\u001b[0m\n",
      "\u001b[32m[I 2022-01-09 16:46:02,532]\u001b[0m Trial 33 finished with value: 0.9631113181183046 and parameters: {'max_depth': 20, 'max_features': 0.964559544639612, 'n_estimators': 144, 'criterion': 'entropy'}. Best is trial 10 with value: 0.9683900015525542.\u001b[0m\n",
      "\u001b[32m[I 2022-01-09 16:46:04,800]\u001b[0m Trial 34 finished with value: 0.968390001552554 and parameters: {'max_depth': 38, 'max_features': 0.7857210353437216, 'n_estimators': 139, 'criterion': 'entropy'}. Best is trial 10 with value: 0.9683900015525542.\u001b[0m\n",
      "\u001b[32m[I 2022-01-09 16:46:07,063]\u001b[0m Trial 35 finished with value: 0.9648657040832169 and parameters: {'max_depth': 75, 'max_features': 0.895797389597036, 'n_estimators': 130, 'criterion': 'entropy'}. Best is trial 10 with value: 0.9683900015525542.\u001b[0m\n",
      "\u001b[32m[I 2022-01-09 16:46:09,979]\u001b[0m Trial 36 finished with value: 0.9561248253376805 and parameters: {'max_depth': 13, 'max_features': 0.7649210639345877, 'n_estimators': 181, 'criterion': 'gini'}. Best is trial 10 with value: 0.9683900015525542.\u001b[0m\n",
      "\u001b[32m[I 2022-01-09 16:46:20,083]\u001b[0m Trial 37 finished with value: 0.9648657040832169 and parameters: {'max_depth': 44, 'max_features': 0.8414076312474784, 'n_estimators': 586, 'criterion': 'entropy'}. Best is trial 10 with value: 0.9683900015525542.\u001b[0m\n",
      "\u001b[32m[I 2022-01-09 16:46:22,673]\u001b[0m Trial 38 finished with value: 0.959633597267505 and parameters: {'max_depth': 31, 'max_features': 0.9157629156491569, 'n_estimators': 112, 'criterion': 'gini'}. Best is trial 10 with value: 0.9683900015525542.\u001b[0m\n",
      "\u001b[32m[I 2022-01-09 16:46:25,901]\u001b[0m Trial 39 finished with value: 0.9631113181183046 and parameters: {'max_depth': 90, 'max_features': 0.5920529250625748, 'n_estimators': 234, 'criterion': 'entropy'}. Best is trial 10 with value: 0.9683900015525542.\u001b[0m\n",
      "\u001b[32m[I 2022-01-09 16:46:28,403]\u001b[0m Trial 40 finished with value: 0.9578636857630801 and parameters: {'max_depth': 50, 'max_features': 0.4783828410020865, 'n_estimators': 210, 'criterion': 'gini'}. Best is trial 10 with value: 0.9683900015525542.\u001b[0m\n",
      "\u001b[32m[I 2022-01-09 16:46:30,639]\u001b[0m Trial 41 finished with value: 0.9666200900481293 and parameters: {'max_depth': 35, 'max_features': 0.7619950855295334, 'n_estimators': 140, 'criterion': 'entropy'}. Best is trial 10 with value: 0.9683900015525542.\u001b[0m\n",
      "\u001b[32m[I 2022-01-09 16:46:33,715]\u001b[0m Trial 42 finished with value: 0.9648657040832169 and parameters: {'max_depth': 18, 'max_features': 0.8225784733771202, 'n_estimators': 165, 'criterion': 'entropy'}. Best is trial 10 with value: 0.9683900015525542.\u001b[0m\n",
      "\u001b[32m[I 2022-01-09 16:46:39,850]\u001b[0m Trial 43 finished with value: 0.9648657040832169 and parameters: {'max_depth': 8, 'max_features': 0.6383086887951374, 'n_estimators': 424, 'criterion': 'entropy'}. Best is trial 10 with value: 0.9683900015525542.\u001b[0m\n",
      "\u001b[32m[I 2022-01-09 16:46:41,282]\u001b[0m Trial 44 finished with value: 0.968390001552554 and parameters: {'max_depth': 15, 'max_features': 0.5614932520792806, 'n_estimators': 105, 'criterion': 'entropy'}. Best is trial 10 with value: 0.9683900015525542.\u001b[0m\n",
      "\u001b[32m[I 2022-01-09 16:46:43,221]\u001b[0m Trial 45 finished with value: 0.95960254618848 and parameters: {'max_depth': 16, 'max_features': 0.5770286382877312, 'n_estimators': 116, 'criterion': 'entropy'}. Best is trial 10 with value: 0.9683900015525542.\u001b[0m\n",
      "\u001b[32m[I 2022-01-09 16:46:45,250]\u001b[0m Trial 46 finished with value: 0.95960254618848 and parameters: {'max_depth': 21, 'max_features': 0.7212775690363596, 'n_estimators': 132, 'criterion': 'entropy'}. Best is trial 10 with value: 0.9683900015525542.\u001b[0m\n",
      "\u001b[32m[I 2022-01-09 16:46:46,616]\u001b[0m Trial 47 finished with value: 0.959633597267505 and parameters: {'max_depth': 6, 'max_features': 0.6562034355804018, 'n_estimators': 100, 'criterion': 'gini'}. Best is trial 10 with value: 0.9683900015525542.\u001b[0m\n",
      "\u001b[32m[I 2022-01-09 16:46:48,092]\u001b[0m Trial 48 finished with value: 0.9578481602235677 and parameters: {'max_depth': 10, 'max_features': 0.568523166767695, 'n_estimators': 106, 'criterion': 'entropy'}. Best is trial 10 with value: 0.9683900015525542.\u001b[0m\n",
      "\u001b[32m[I 2022-01-09 16:46:49,911]\u001b[0m Trial 49 finished with value: 0.9630957925787922 and parameters: {'max_depth': 112, 'max_features': 0.699359173921984, 'n_estimators': 121, 'criterion': 'entropy'}. Best is trial 10 with value: 0.9683900015525542.\u001b[0m\n",
      "\u001b[32m[I 2022-01-09 16:47:00,045]\u001b[0m Trial 50 finished with value: 0.9578326346840553 and parameters: {'max_depth': 3, 'max_features': 0.5481122335205243, 'n_estimators': 752, 'criterion': 'entropy'}. Best is trial 10 with value: 0.9683900015525542.\u001b[0m\n",
      "\u001b[32m[I 2022-01-09 16:47:02,972]\u001b[0m Trial 51 finished with value: 0.968390001552554 and parameters: {'max_depth': 27, 'max_features': 0.39001770767458754, 'n_estimators': 253, 'criterion': 'entropy'}. Best is trial 10 with value: 0.9683900015525542.\u001b[0m\n",
      "\u001b[32m[I 2022-01-09 16:47:07,331]\u001b[0m Trial 52 finished with value: 0.9666200900481291 and parameters: {'max_depth': 14, 'max_features': 0.3665759432560646, 'n_estimators': 370, 'criterion': 'entropy'}. Best is trial 10 with value: 0.9683900015525542.\u001b[0m\n",
      "\u001b[32m[I 2022-01-09 16:47:09,647]\u001b[0m Trial 53 finished with value: 0.9666200900481293 and parameters: {'max_depth': 12, 'max_features': 0.7502318513015229, 'n_estimators': 147, 'criterion': 'entropy'}. Best is trial 10 with value: 0.9683900015525542.\u001b[0m\n",
      "\u001b[32m[I 2022-01-09 16:47:13,113]\u001b[0m Trial 54 finished with value: 0.9648657040832169 and parameters: {'max_depth': 29, 'max_features': 0.11090149242752717, 'n_estimators': 425, 'criterion': 'entropy'}. Best is trial 10 with value: 0.9683900015525542.\u001b[0m\n",
      "\u001b[32m[I 2022-01-09 16:47:18,247]\u001b[0m Trial 55 finished with value: 0.9648657040832169 and parameters: {'max_depth': 16, 'max_features': 0.6231007776650471, 'n_estimators': 323, 'criterion': 'entropy'}. Best is trial 10 with value: 0.9683900015525542.\u001b[0m\n",
      "\u001b[32m[I 2022-01-09 16:47:20,473]\u001b[0m Trial 56 finished with value: 0.9648657040832168 and parameters: {'max_depth': 22, 'max_features': 0.20795797506889363, 'n_estimators': 236, 'criterion': 'entropy'}. Best is trial 10 with value: 0.9683900015525542.\u001b[0m\n",
      "\u001b[32m[I 2022-01-09 16:47:23,328]\u001b[0m Trial 57 finished with value: 0.9596180717279925 and parameters: {'max_depth': 38, 'max_features': 0.6780950529433282, 'n_estimators': 200, 'criterion': 'gini'}. Best is trial 10 with value: 0.9683900015525542.\u001b[0m\n",
      "\u001b[32m[I 2022-01-09 16:47:26,805]\u001b[0m Trial 58 finished with value: 0.968390001552554 and parameters: {'max_depth': 7, 'max_features': 0.7932031603255675, 'n_estimators': 169, 'criterion': 'entropy'}. Best is trial 10 with value: 0.9683900015525542.\u001b[0m\n",
      "\u001b[32m[I 2022-01-09 16:47:33,794]\u001b[0m Trial 59 finished with value: 0.9701443875174661 and parameters: {'max_depth': 28, 'max_features': 0.4278318142755836, 'n_estimators': 596, 'criterion': 'entropy'}. Best is trial 59 with value: 0.9701443875174661.\u001b[0m\n"
     ]
    }
   ],
   "source": [
    "def objective(trial):\n",
    "    \n",
    "    max_depth = trial.suggest_int('max_depth', 2, 128, log=True)    \n",
    "    max_features = trial.suggest_float('max_features', 0.1, 1.0)\n",
    "    n_estimators = trial.suggest_int('n_estimators', 100, 800, log=True)\n",
    "    criterion = trial.suggest_categorical('criterion', ['gini', 'entropy'])\n",
    "    \n",
    "    clf = ensemble.RandomForestClassifier(\n",
    "        max_depth=max_depth,\n",
    "        n_estimators=n_estimators,\n",
    "        max_features=max_features,\n",
    "        criterion=criterion,\n",
    "        random_state=42)   \n",
    "    \n",
    "    score = model_selection.cross_val_score(clf, X, y, n_jobs=-1, cv=5)\n",
    "    return score.mean()\n",
    "\n",
    "\n",
    "study = optuna.create_study(direction=\"maximize\")\n",
    "study.optimize(objective, n_trials=RF_NTRIALS)"
   ]
  },
  {
   "cell_type": "code",
   "execution_count": 5,
   "id": "2a87aaee",
   "metadata": {
    "execution": {
     "iopub.execute_input": "2022-01-09T16:47:33.978377Z",
     "iopub.status.busy": "2022-01-09T16:47:33.977775Z",
     "iopub.status.idle": "2022-01-09T16:47:33.980434Z",
     "shell.execute_reply": "2022-01-09T16:47:33.980865Z",
     "shell.execute_reply.started": "2022-01-08T17:25:38.875859Z"
    },
    "id": "5feGzBJTcMwm",
    "outputId": "46394246-610d-45b1-e921-3f2ceac18324",
    "papermill": {
     "duration": 0.066311,
     "end_time": "2022-01-09T16:47:33.981004",
     "exception": false,
     "start_time": "2022-01-09T16:47:33.914693",
     "status": "completed"
    },
    "tags": []
   },
   "outputs": [
    {
     "data": {
      "text/plain": [
       "{'max_depth': 28,\n",
       " 'max_features': 0.4278318142755836,\n",
       " 'n_estimators': 596,\n",
       " 'criterion': 'entropy'}"
      ]
     },
     "execution_count": 5,
     "metadata": {},
     "output_type": "execute_result"
    }
   ],
   "source": [
    "study.best_params"
   ]
  },
  {
   "cell_type": "code",
   "execution_count": 6,
   "id": "120f5a9d",
   "metadata": {
    "execution": {
     "iopub.execute_input": "2022-01-09T16:47:34.117027Z",
     "iopub.status.busy": "2022-01-09T16:47:34.116396Z",
     "iopub.status.idle": "2022-01-09T16:47:34.119040Z",
     "shell.execute_reply": "2022-01-09T16:47:34.119504Z",
     "shell.execute_reply.started": "2022-01-08T17:25:38.888805Z"
    },
    "id": "CzKJQni3iEiD",
    "outputId": "0a7e4c81-cd77-4542-af94-017deb19267e",
    "papermill": {
     "duration": 0.076485,
     "end_time": "2022-01-09T16:47:34.119668",
     "exception": false,
     "start_time": "2022-01-09T16:47:34.043183",
     "status": "completed"
    },
    "tags": []
   },
   "outputs": [
    {
     "data": {
      "text/plain": [
       "0.9701443875174661"
      ]
     },
     "execution_count": 6,
     "metadata": {},
     "output_type": "execute_result"
    }
   ],
   "source": [
    "study.best_value"
   ]
  },
  {
   "cell_type": "markdown",
   "id": "f4c3f011",
   "metadata": {
    "id": "FqulVaLvfkD1",
    "papermill": {
     "duration": 0.066147,
     "end_time": "2022-01-09T16:47:34.246927",
     "exception": false,
     "start_time": "2022-01-09T16:47:34.180780",
     "status": "completed"
    },
    "tags": []
   },
   "source": [
    "### Sampling algorithms"
   ]
  },
  {
   "cell_type": "code",
   "execution_count": 7,
   "id": "9735871b",
   "metadata": {
    "execution": {
     "iopub.execute_input": "2022-01-09T16:47:34.376640Z",
     "iopub.status.busy": "2022-01-09T16:47:34.376025Z",
     "iopub.status.idle": "2022-01-09T16:47:34.953844Z",
     "shell.execute_reply": "2022-01-09T16:47:34.953344Z",
     "shell.execute_reply.started": "2022-01-08T17:25:38.904688Z"
    },
    "id": "aJMDs6zccMwl",
    "outputId": "9927d215-69dc-4f90-c65a-4300593bb966",
    "papermill": {
     "duration": 0.646091,
     "end_time": "2022-01-09T16:47:34.953973",
     "exception": false,
     "start_time": "2022-01-09T16:47:34.307882",
     "status": "completed"
    },
    "tags": []
   },
   "outputs": [
    {
     "data": {
      "image/png": "[encoded data removed]",
      "text/plain": [
       "<Figure size 1152x288 with 4 Axes>"
      ]
     },
     "metadata": {
      "needs_background": "light"
     },
     "output_type": "display_data"
    }
   ],
   "source": [
    "import matplotlib.pyplot as plt\n",
    "fig, axes = plt.subplots(nrows=1, ncols=3)\n",
    "\n",
    "def plot_results(study, p1, p2, j, cb):\n",
    "    study.trials_dataframe().plot(\n",
    "        kind='scatter', ax=axes[j], x=p1, y=p2,\n",
    "        c='value', s=60, cmap=plt.get_cmap(\"jet\"), \n",
    "        colorbar=cb, label=\"accuracy\", figsize=(16, 4)\n",
    "    )\n",
    "\n",
    "plot_results(study, 'params_max_depth',    'params_n_estimators', j=0, cb=False)\n",
    "plot_results(study, 'params_max_depth',    'params_max_features', j=1, cb=False)\n",
    "plot_results(study, 'params_n_estimators', 'params_max_features', j=2, cb=True);"
   ]
  },
  {
   "cell_type": "markdown",
   "id": "3179556b",
   "metadata": {
    "id": "Ttvy3BEAcMwm",
    "papermill": {
     "duration": 0.061064,
     "end_time": "2022-01-09T16:47:35.075591",
     "exception": false,
     "start_time": "2022-01-09T16:47:35.014527",
     "status": "completed"
    },
    "tags": []
   },
   "source": [
    "**Figure.** TPE in action. Optuna uses  **Tree-structured Parzen Estimater (TPE)** {cite}`bergstra` as the default sampler which is a form of Bayesian optimization. Observe that the hyperparameter space is searched more efficiently than random search with the sampler choosing points closer to previous good results. Samplers are specified when creating a study: \n",
    "\n",
    "```python\n",
    "study = create_study(direction=\"maximize\", sampler=optuna.samplers.TPESampler())\n",
    "```\n",
    "\n",
    "From the [docs](https://optuna.readthedocs.io/en/stable/reference/generated/optuna.samplers.TPESampler.html#optuna.samplers.TPESampler):\n",
    "\n",
    "> On each trial, for each parameter, TPE fits one Gaussian Mixture Model (GMM) `l(x)` to the set of parameter values associated with the best objective values, and another GMM `g(x)` to the remaining parameter values. It chooses the parameter value `x` that maximizes the ratio `l(x)/g(x)`.\n",
    "\n",
    "Thus, TPE samples every hyperparameter **independently** &mdash; no explicit hyperparameter interactions are considered when sampling future trials, although other parameters implicitly affect objective value. Optuna also implements our old friends random and grid search in the following samplers:\n",
    "- `optuna.samplers.GridSampler`\n",
    "- `optuna.samplers.RandomSampler`"
   ]
  },
  {
   "cell_type": "markdown",
   "id": "7f89dc4f",
   "metadata": {
    "id": "DN6cMax5fkD2",
    "papermill": {
     "duration": 0.06003,
     "end_time": "2022-01-09T16:47:35.195574",
     "exception": false,
     "start_time": "2022-01-09T16:47:35.135544",
     "status": "completed"
    },
    "tags": []
   },
   "source": [
    "Another sampling algorithm implemented in Optuna is **Covariance Matrix Adaptation Evolution Strategy (CMA-ES)** {cite}`hansen2016cma`. This algorithm is designed to tackle ill-conditioned, non-separable problems, i.e. cannot be solved by solving several 1-dimensional problems. CMA-ES is typically implemented along with TPE whenever the former algorithm is not applicable, e.g. for searching dynamically constructed hyperparameters (as CMA-ES requires that parameters are specified statically prior to the optimization) or for searching categorical parameters, as CMA-ES is designed to search real parameters on a continuous domain. TPE+CMA-ES sampling can be implemented as follows:\n",
    "\n",
    "```python\n",
    "sampler = optuna.samplers.CmaEsSampler(\n",
    "    warn_independent_sampling=False,\n",
    "    independent_sampler=optuna.samplers.TPESampler()\n",
    ")\n",
    "```\n",
    "\n",
    "Results from the paper {cite}`akiba2019optuna` show that TPE+CMA-ES works better than counterparts of the same time complexity:"
   ]
  },
  {
   "cell_type": "markdown",
   "id": "8e72f070",
   "metadata": {
    "id": "MRbOyHBvfkD3",
    "papermill": {
     "duration": 0.059473,
     "end_time": "2022-01-09T16:47:35.314989",
     "exception": false,
     "start_time": "2022-01-09T16:47:35.255516",
     "status": "completed"
    },
    "tags": []
   },
   "source": [
    "```{figure} ../img/fig9-optuna.png\n",
    "---\n",
    "width: 35em\n",
    "name: fig9-optuna\n",
    "---\n",
    "```"
   ]
  },
  {
   "cell_type": "markdown",
   "id": "aa0f72b3",
   "metadata": {
    "id": "yi5gn3PZfkD4",
    "papermill": {
     "duration": 0.059205,
     "end_time": "2022-01-09T16:47:35.433709",
     "exception": false,
     "start_time": "2022-01-09T16:47:35.374504",
     "status": "completed"
    },
    "tags": []
   },
   "source": [
    "```{figure} ../img/fig10-optuna.png\n",
    "---\n",
    "width: 35em\n",
    "name: fig10-optuna\n",
    "---\n",
    "```"
   ]
  },
  {
   "cell_type": "markdown",
   "id": "9eb0211b",
   "metadata": {
    "id": "Yx-tL9u0c5eK",
    "papermill": {
     "duration": 0.059209,
     "end_time": "2022-01-09T16:47:35.553561",
     "exception": false,
     "start_time": "2022-01-09T16:47:35.494352",
     "status": "completed"
    },
    "tags": []
   },
   "source": [
    "```{figure} ../img/optuna-results.png\n",
    "---\n",
    "width: 35em\n",
    "name: optuna-results\n",
    "---\n",
    "```"
   ]
  },
  {
   "cell_type": "markdown",
   "id": "75a226ac",
   "metadata": {
    "id": "AN93Al8mcMwp",
    "papermill": {
     "duration": 0.059062,
     "end_time": "2022-01-09T16:47:35.672427",
     "exception": false,
     "start_time": "2022-01-09T16:47:35.613365",
     "status": "completed"
    },
    "tags": []
   },
   "source": [
    "### Visualizing Results"
   ]
  },
  {
   "cell_type": "markdown",
   "id": "699ef92f",
   "metadata": {
    "id": "YZ2Pxq8UcMwq",
    "papermill": {
     "duration": 0.059046,
     "end_time": "2022-01-09T16:47:35.791065",
     "exception": false,
     "start_time": "2022-01-09T16:47:35.732019",
     "status": "completed"
    },
    "tags": []
   },
   "source": [
    "Optuna provides visualization functions in the `optuna.visualization` library [^ref4]. The following plot shows the best objective value found as the trials progress. The increasing trend in accuracy indicates that the TPE sampler is working well, i.e. the search algorithm learns from previous trials.\n",
    "\n",
    "[^ref4]: See [Optuna dashboard](https://github.com/optuna/optuna-dashboard) which displays the same plots that are updated in real-time."
   ]
  },
  {
   "cell_type": "code",
   "execution_count": 8,
   "id": "6ee31962",
   "metadata": {
    "execution": {
     "iopub.execute_input": "2022-01-09T16:47:35.914433Z",
     "iopub.status.busy": "2022-01-09T16:47:35.913879Z",
     "iopub.status.idle": "2022-01-09T16:47:36.024037Z",
     "shell.execute_reply": "2022-01-09T16:47:36.024413Z",
     "shell.execute_reply.started": "2022-01-08T17:25:39.671425Z"
    },
    "papermill": {
     "duration": 0.174381,
     "end_time": "2022-01-09T16:47:36.024603",
     "exception": false,
     "start_time": "2022-01-09T16:47:35.850222",
     "status": "completed"
    },
    "tags": []
   },
   "outputs": [
    {
     "data": {
      "text/html": [
       "        <script type=\"text/javascript\">\n",
       "        window.PlotlyConfig = {MathJaxConfig: 'local'};\n",
       "        if (window.MathJax) {MathJax.Hub.Config({SVG: {font: \"STIX-Web\"}});}\n",
       "        if (typeof require !== 'undefined') {\n",
       "        require.undef(\"plotly\");\n",
       "        requirejs.config({\n",
       "            paths: {\n",
       "                'plotly': ['https://cdn.plot.ly/plotly-2.6.3.min']\n",
       "            }\n",
       "        });\n",
       "        require(['plotly'], function(Plotly) {\n",
       "            window._Plotly = Plotly;\n",
       "        });\n",
       "        }\n",
       "        </script>\n",
       "        "
      ]
     },
     "metadata": {},
     "output_type": "display_data"
    },
    {
     "data": {
      "text/html": [
       "<div>                            <div id=\"acf7ad46-b11b-4fe4-822f-622feeaa446c\" class=\"plotly-graph-div\" style=\"height:525px; width:100%;\"></div>            <script type=\"text/javascript\">                require([\"plotly\"], function(Plotly) {                    window.PLOTLYENV=window.PLOTLYENV || {};                                    if (document.getElementById(\"acf7ad46-b11b-4fe4-822f-622feeaa446c\")) {                    Plotly.newPlot(                        \"acf7ad46-b11b-4fe4-822f-622feeaa446c\",                        [{\"mode\":\"markers\",\"name\":\"Objective Value\",\"x\":[0,1,2,3,4,5,6,7,8,9,10,11,12,13,14,15,16,17,18,19,20,21,22,23,24,25,26,27,28,29,30,31,32,33,34,35,36,37,38,39,40,41,42,43,44,45,46,47,48,49,50,51,52,53,54,55,56,57,58,59],\"y\":[0.9666356155876418,0.9490607048594939,0.9648657040832169,0.95960254618848,0.9543393882937432,0.9596180717279925,0.9455364073901567,0.9525694767893184,0.9648657040832168,0.9631268436578171,0.9683900015525542,0.9666200900481291,0.9631113181183046,0.9666356155876418,0.9648657040832169,0.968390001552554,0.9666200900481291,0.9648812296227295,0.9666356155876418,0.9648657040832168,0.9683900015525542,0.9648657040832169,0.9666356155876418,0.9666356155876418,0.9683744760130415,0.9631268436578171,0.968390001552554,0.9648657040832169,0.9613569321533924,0.968390001552554,0.9666200900481291,0.9631113181183046,0.9648812296227295,0.9631113181183046,0.968390001552554,0.9648657040832169,0.9561248253376805,0.9648657040832169,0.959633597267505,0.9631113181183046,0.9578636857630801,0.9666200900481293,0.9648657040832169,0.9648657040832169,0.968390001552554,0.95960254618848,0.95960254618848,0.959633597267505,0.9578481602235677,0.9630957925787922,0.9578326346840553,0.968390001552554,0.9666200900481291,0.9666200900481293,0.9648657040832169,0.9648657040832169,0.9648657040832168,0.9596180717279925,0.968390001552554,0.9701443875174661],\"type\":\"scatter\"},{\"name\":\"Best Value\",\"x\":[0,1,2,3,4,5,6,7,8,9,10,11,12,13,14,15,16,17,18,19,20,21,22,23,24,25,26,27,28,29,30,31,32,33,34,35,36,37,38,39,40,41,42,43,44,45,46,47,48,49,50,51,52,53,54,55,56,57,58,59],\"y\":[0.9666356155876418,0.9666356155876418,0.9666356155876418,0.9666356155876418,0.9666356155876418,0.9666356155876418,0.9666356155876418,0.9666356155876418,0.9666356155876418,0.9666356155876418,0.9683900015525542,0.9683900015525542,0.9683900015525542,0.9683900015525542,0.9683900015525542,0.9683900015525542,0.9683900015525542,0.9683900015525542,0.9683900015525542,0.9683900015525542,0.9683900015525542,0.9683900015525542,0.9683900015525542,0.9683900015525542,0.9683900015525542,0.9683900015525542,0.9683900015525542,0.9683900015525542,0.9683900015525542,0.9683900015525542,0.9683900015525542,0.9683900015525542,0.9683900015525542,0.9683900015525542,0.9683900015525542,0.9683900015525542,0.9683900015525542,0.9683900015525542,0.9683900015525542,0.9683900015525542,0.9683900015525542,0.9683900015525542,0.9683900015525542,0.9683900015525542,0.9683900015525542,0.9683900015525542,0.9683900015525542,0.9683900015525542,0.9683900015525542,0.9683900015525542,0.9683900015525542,0.9683900015525542,0.9683900015525542,0.9683900015525542,0.9683900015525542,0.9683900015525542,0.9683900015525542,0.9683900015525542,0.9683900015525542,0.9701443875174661],\"type\":\"scatter\"}],                        {\"title\":{\"text\":\"Optimization History Plot\"},\"xaxis\":{\"title\":{\"text\":\"#Trials\"}},\"yaxis\":{\"title\":{\"text\":\"Objective Value\"}},\"template\":{\"data\":{\"bar\":[{\"error_x\":{\"color\":\"#2a3f5f\"},\"error_y\":{\"color\":\"#2a3f5f\"},\"marker\":{\"line\":{\"color\":\"#E5ECF6\",\"width\":0.5},\"pattern\":{\"fillmode\":\"overlay\",\"size\":10,\"solidity\":0.2}},\"type\":\"bar\"}],\"barpolar\":[{\"marker\":{\"line\":{\"color\":\"#E5ECF6\",\"width\":0.5},\"pattern\":{\"fillmode\":\"overlay\",\"size\":10,\"solidity\":0.2}},\"type\":\"barpolar\"}],\"carpet\":[{\"aaxis\":{\"endlinecolor\":\"#2a3f5f\",\"gridcolor\":\"white\",\"linecolor\":\"white\",\"minorgridcolor\":\"white\",\"startlinecolor\":\"#2a3f5f\"},\"baxis\":{\"endlinecolor\":\"#2a3f5f\",\"gridcolor\":\"white\",\"linecolor\":\"white\",\"minorgridcolor\":\"white\",\"startlinecolor\":\"#2a3f5f\"},\"type\":\"carpet\"}],\"choropleth\":[{\"colorbar\":{\"outlinewidth\":0,\"ticks\":\"\"},\"type\":\"choropleth\"}],\"contour\":[{\"colorbar\":{\"outlinewidth\":0,\"ticks\":\"\"},\"colorscale\":[[0.0,\"#0d0887\"],[0.1111111111111111,\"#46039f\"],[0.2222222222222222,\"#7201a8\"],[0.3333333333333333,\"#9c179e\"],[0.4444444444444444,\"#bd3786\"],[0.5555555555555556,\"#d8576b\"],[0.6666666666666666,\"#ed7953\"],[0.7777777777777778,\"#fb9f3a\"],[0.8888888888888888,\"#fdca26\"],[1.0,\"#f0f921\"]],\"type\":\"contour\"}],\"contourcarpet\":[{\"colorbar\":{\"outlinewidth\":0,\"ticks\":\"\"},\"type\":\"contourcarpet\"}],\"heatmap\":[{\"colorbar\":{\"outlinewidth\":0,\"ticks\":\"\"},\"colorscale\":[[0.0,\"#0d0887\"],[0.1111111111111111,\"#46039f\"],[0.2222222222222222,\"#7201a8\"],[0.3333333333333333,\"#9c179e\"],[0.4444444444444444,\"#bd3786\"],[0.5555555555555556,\"#d8576b\"],[0.6666666666666666,\"#ed7953\"],[0.7777777777777778,\"#fb9f3a\"],[0.8888888888888888,\"#fdca26\"],[1.0,\"#f0f921\"]],\"type\":\"heatmap\"}],\"heatmapgl\":[{\"colorbar\":{\"outlinewidth\":0,\"ticks\":\"\"},\"colorscale\":[[0.0,\"#0d0887\"],[0.1111111111111111,\"#46039f\"],[0.2222222222222222,\"#7201a8\"],[0.3333333333333333,\"#9c179e\"],[0.4444444444444444,\"#bd3786\"],[0.5555555555555556,\"#d8576b\"],[0.6666666666666666,\"#ed7953\"],[0.7777777777777778,\"#fb9f3a\"],[0.8888888888888888,\"#fdca26\"],[1.0,\"#f0f921\"]],\"type\":\"heatmapgl\"}],\"histogram\":[{\"marker\":{\"pattern\":{\"fillmode\":\"overlay\",\"size\":10,\"solidity\":0.2}},\"type\":\"histogram\"}],\"histogram2d\":[{\"colorbar\":{\"outlinewidth\":0,\"ticks\":\"\"},\"colorscale\":[[0.0,\"#0d0887\"],[0.1111111111111111,\"#46039f\"],[0.2222222222222222,\"#7201a8\"],[0.3333333333333333,\"#9c179e\"],[0.4444444444444444,\"#bd3786\"],[0.5555555555555556,\"#d8576b\"],[0.6666666666666666,\"#ed7953\"],[0.7777777777777778,\"#fb9f3a\"],[0.8888888888888888,\"#fdca26\"],[1.0,\"#f0f921\"]],\"type\":\"histogram2d\"}],\"histogram2dcontour\":[{\"colorbar\":{\"outlinewidth\":0,\"ticks\":\"\"},\"colorscale\":[[0.0,\"#0d0887\"],[0.1111111111111111,\"#46039f\"],[0.2222222222222222,\"#7201a8\"],[0.3333333333333333,\"#9c179e\"],[0.4444444444444444,\"#bd3786\"],[0.5555555555555556,\"#d8576b\"],[0.6666666666666666,\"#ed7953\"],[0.7777777777777778,\"#fb9f3a\"],[0.8888888888888888,\"#fdca26\"],[1.0,\"#f0f921\"]],\"type\":\"histogram2dcontour\"}],\"mesh3d\":[{\"colorbar\":{\"outlinewidth\":0,\"ticks\":\"\"},\"type\":\"mesh3d\"}],\"parcoords\":[{\"line\":{\"colorbar\":{\"outlinewidth\":0,\"ticks\":\"\"}},\"type\":\"parcoords\"}],\"pie\":[{\"automargin\":true,\"type\":\"pie\"}],\"scatter\":[{\"marker\":{\"colorbar\":{\"outlinewidth\":0,\"ticks\":\"\"}},\"type\":\"scatter\"}],\"scatter3d\":[{\"line\":{\"colorbar\":{\"outlinewidth\":0,\"ticks\":\"\"}},\"marker\":{\"colorbar\":{\"outlinewidth\":0,\"ticks\":\"\"}},\"type\":\"scatter3d\"}],\"scattercarpet\":[{\"marker\":{\"colorbar\":{\"outlinewidth\":0,\"ticks\":\"\"}},\"type\":\"scattercarpet\"}],\"scattergeo\":[{\"marker\":{\"colorbar\":{\"outlinewidth\":0,\"ticks\":\"\"}},\"type\":\"scattergeo\"}],\"scattergl\":[{\"marker\":{\"colorbar\":{\"outlinewidth\":0,\"ticks\":\"\"}},\"type\":\"scattergl\"}],\"scattermapbox\":[{\"marker\":{\"colorbar\":{\"outlinewidth\":0,\"ticks\":\"\"}},\"type\":\"scattermapbox\"}],\"scatterpolar\":[{\"marker\":{\"colorbar\":{\"outlinewidth\":0,\"ticks\":\"\"}},\"type\":\"scatterpolar\"}],\"scatterpolargl\":[{\"marker\":{\"colorbar\":{\"outlinewidth\":0,\"ticks\":\"\"}},\"type\":\"scatterpolargl\"}],\"scatterternary\":[{\"marker\":{\"colorbar\":{\"outlinewidth\":0,\"ticks\":\"\"}},\"type\":\"scatterternary\"}],\"surface\":[{\"colorbar\":{\"outlinewidth\":0,\"ticks\":\"\"},\"colorscale\":[[0.0,\"#0d0887\"],[0.1111111111111111,\"#46039f\"],[0.2222222222222222,\"#7201a8\"],[0.3333333333333333,\"#9c179e\"],[0.4444444444444444,\"#bd3786\"],[0.5555555555555556,\"#d8576b\"],[0.6666666666666666,\"#ed7953\"],[0.7777777777777778,\"#fb9f3a\"],[0.8888888888888888,\"#fdca26\"],[1.0,\"#f0f921\"]],\"type\":\"surface\"}],\"table\":[{\"cells\":{\"fill\":{\"color\":\"#EBF0F8\"},\"line\":{\"color\":\"white\"}},\"header\":{\"fill\":{\"color\":\"#C8D4E3\"},\"line\":{\"color\":\"white\"}},\"type\":\"table\"}]},\"layout\":{\"annotationdefaults\":{\"arrowcolor\":\"#2a3f5f\",\"arrowhead\":0,\"arrowwidth\":1},\"autotypenumbers\":\"strict\",\"coloraxis\":{\"colorbar\":{\"outlinewidth\":0,\"ticks\":\"\"}},\"colorscale\":{\"diverging\":[[0,\"#8e0152\"],[0.1,\"#c51b7d\"],[0.2,\"#de77ae\"],[0.3,\"#f1b6da\"],[0.4,\"#fde0ef\"],[0.5,\"#f7f7f7\"],[0.6,\"#e6f5d0\"],[0.7,\"#b8e186\"],[0.8,\"#7fbc41\"],[0.9,\"#4d9221\"],[1,\"#276419\"]],\"sequential\":[[0.0,\"#0d0887\"],[0.1111111111111111,\"#46039f\"],[0.2222222222222222,\"#7201a8\"],[0.3333333333333333,\"#9c179e\"],[0.4444444444444444,\"#bd3786\"],[0.5555555555555556,\"#d8576b\"],[0.6666666666666666,\"#ed7953\"],[0.7777777777777778,\"#fb9f3a\"],[0.8888888888888888,\"#fdca26\"],[1.0,\"#f0f921\"]],\"sequentialminus\":[[0.0,\"#0d0887\"],[0.1111111111111111,\"#46039f\"],[0.2222222222222222,\"#7201a8\"],[0.3333333333333333,\"#9c179e\"],[0.4444444444444444,\"#bd3786\"],[0.5555555555555556,\"#d8576b\"],[0.6666666666666666,\"#ed7953\"],[0.7777777777777778,\"#fb9f3a\"],[0.8888888888888888,\"#fdca26\"],[1.0,\"#f0f921\"]]},\"colorway\":[\"#636efa\",\"#EF553B\",\"#00cc96\",\"#ab63fa\",\"#FFA15A\",\"#19d3f3\",\"#FF6692\",\"#B6E880\",\"#FF97FF\",\"#FECB52\"],\"font\":{\"color\":\"#2a3f5f\"},\"geo\":{\"bgcolor\":\"white\",\"lakecolor\":\"white\",\"landcolor\":\"#E5ECF6\",\"showlakes\":true,\"showland\":true,\"subunitcolor\":\"white\"},\"hoverlabel\":{\"align\":\"left\"},\"hovermode\":\"closest\",\"mapbox\":{\"style\":\"light\"},\"paper_bgcolor\":\"white\",\"plot_bgcolor\":\"#E5ECF6\",\"polar\":{\"angularaxis\":{\"gridcolor\":\"white\",\"linecolor\":\"white\",\"ticks\":\"\"},\"bgcolor\":\"#E5ECF6\",\"radialaxis\":{\"gridcolor\":\"white\",\"linecolor\":\"white\",\"ticks\":\"\"}},\"scene\":{\"xaxis\":{\"backgroundcolor\":\"#E5ECF6\",\"gridcolor\":\"white\",\"gridwidth\":2,\"linecolor\":\"white\",\"showbackground\":true,\"ticks\":\"\",\"zerolinecolor\":\"white\"},\"yaxis\":{\"backgroundcolor\":\"#E5ECF6\",\"gridcolor\":\"white\",\"gridwidth\":2,\"linecolor\":\"white\",\"showbackground\":true,\"ticks\":\"\",\"zerolinecolor\":\"white\"},\"zaxis\":{\"backgroundcolor\":\"#E5ECF6\",\"gridcolor\":\"white\",\"gridwidth\":2,\"linecolor\":\"white\",\"showbackground\":true,\"ticks\":\"\",\"zerolinecolor\":\"white\"}},\"shapedefaults\":{\"line\":{\"color\":\"#2a3f5f\"}},\"ternary\":{\"aaxis\":{\"gridcolor\":\"white\",\"linecolor\":\"white\",\"ticks\":\"\"},\"baxis\":{\"gridcolor\":\"white\",\"linecolor\":\"white\",\"ticks\":\"\"},\"bgcolor\":\"#E5ECF6\",\"caxis\":{\"gridcolor\":\"white\",\"linecolor\":\"white\",\"ticks\":\"\"}},\"title\":{\"x\":0.05},\"xaxis\":{\"automargin\":true,\"gridcolor\":\"white\",\"linecolor\":\"white\",\"ticks\":\"\",\"title\":{\"standoff\":15},\"zerolinecolor\":\"white\",\"zerolinewidth\":2},\"yaxis\":{\"automargin\":true,\"gridcolor\":\"white\",\"linecolor\":\"white\",\"ticks\":\"\",\"title\":{\"standoff\":15},\"zerolinecolor\":\"white\",\"zerolinewidth\":2}}}},                        {\"responsive\": true}                    ).then(function(){\n",
       "                            \n",
       "var gd = document.getElementById('acf7ad46-b11b-4fe4-822f-622feeaa446c');\n",
       "var x = new MutationObserver(function (mutations, observer) {{\n",
       "        var display = window.getComputedStyle(gd).display;\n",
       "        if (!display || display === 'none') {{\n",
       "            console.log([gd, 'removed!']);\n",
       "            Plotly.purge(gd);\n",
       "            observer.disconnect();\n",
       "        }}\n",
       "}});\n",
       "\n",
       "// Listen for the removal of the full notebook cells\n",
       "var notebookContainer = gd.closest('#notebook-container');\n",
       "if (notebookContainer) {{\n",
       "    x.observe(notebookContainer, {childList: true});\n",
       "}}\n",
       "\n",
       "// Listen for the clearing of the current output cell\n",
       "var outputEl = gd.closest('.output');\n",
       "if (outputEl) {{\n",
       "    x.observe(outputEl, {childList: true});\n",
       "}}\n",
       "\n",
       "                        })                };                });            </script>        </div>"
      ]
     },
     "metadata": {},
     "output_type": "display_data"
    }
   ],
   "source": [
    "optuna.visualization.plot_optimization_history(study)"
   ]
  },
  {
   "cell_type": "markdown",
   "id": "c844c04b",
   "metadata": {
    "id": "TjeqUb4ycMws",
    "papermill": {
     "duration": 0.060524,
     "end_time": "2022-01-09T16:47:36.267857",
     "exception": false,
     "start_time": "2022-01-09T16:47:36.207333",
     "status": "completed"
    },
    "tags": []
   },
   "source": [
    "The **parallel coordinate plot** gives us a feel of how the hyperparameters interact. To isolate subsets of lines, we can use the interactive capabilities of the plots by dragging on each axis to restrict it. The resulting purple bars can be disjoint."
   ]
  },
  {
   "cell_type": "code",
   "execution_count": 9,
   "id": "5b621e4f",
   "metadata": {
    "execution": {
     "iopub.execute_input": "2022-01-09T16:47:36.402768Z",
     "iopub.status.busy": "2022-01-09T16:47:36.402160Z",
     "iopub.status.idle": "2022-01-09T16:47:36.458232Z",
     "shell.execute_reply": "2022-01-09T16:47:36.458677Z",
     "shell.execute_reply.started": "2022-01-08T17:25:39.694972Z"
    },
    "papermill": {
     "duration": 0.130439,
     "end_time": "2022-01-09T16:47:36.458841",
     "exception": false,
     "start_time": "2022-01-09T16:47:36.328402",
     "status": "completed"
    },
    "tags": []
   },
   "outputs": [
    {
     "data": {
      "text/html": [
       "<div>                            <div id=\"4b9edac2-8e58-4564-97a7-4bb83898ca92\" class=\"plotly-graph-div\" style=\"height:525px; width:100%;\"></div>            <script type=\"text/javascript\">                require([\"plotly\"], function(Plotly) {                    window.PLOTLYENV=window.PLOTLYENV || {};                                    if (document.getElementById(\"4b9edac2-8e58-4564-97a7-4bb83898ca92\")) {                    Plotly.newPlot(                        \"4b9edac2-8e58-4564-97a7-4bb83898ca92\",                        [{\"dimensions\":[{\"label\":\"Objective Value\",\"range\":[0.9455364073901567,0.9701443875174661],\"values\":[0.9666356155876418,0.9490607048594939,0.9648657040832169,0.95960254618848,0.9543393882937432,0.9596180717279925,0.9455364073901567,0.9525694767893184,0.9648657040832168,0.9631268436578171,0.9683900015525542,0.9666200900481291,0.9631113181183046,0.9666356155876418,0.9648657040832169,0.968390001552554,0.9666200900481291,0.9648812296227295,0.9666356155876418,0.9648657040832168,0.9683900015525542,0.9648657040832169,0.9666356155876418,0.9666356155876418,0.9683744760130415,0.9631268436578171,0.968390001552554,0.9648657040832169,0.9613569321533924,0.968390001552554,0.9666200900481291,0.9631113181183046,0.9648812296227295,0.9631113181183046,0.968390001552554,0.9648657040832169,0.9561248253376805,0.9648657040832169,0.959633597267505,0.9631113181183046,0.9578636857630801,0.9666200900481293,0.9648657040832169,0.9648657040832169,0.968390001552554,0.95960254618848,0.95960254618848,0.959633597267505,0.9578481602235677,0.9630957925787922,0.9578326346840553,0.968390001552554,0.9666200900481291,0.9666200900481293,0.9648657040832169,0.9648657040832169,0.9648657040832168,0.9596180717279925,0.968390001552554,0.9701443875174661]},{\"label\":\"criterion\",\"range\":[0,1],\"ticktext\":[\"entropy\",\"gini\"],\"tickvals\":[0,1],\"values\":[0,1,0,1,1,1,1,1,0,1,0,0,0,0,0,0,0,0,0,0,0,0,0,0,0,0,0,0,0,0,0,0,0,0,0,0,1,0,1,0,1,0,0,0,0,0,0,1,0,0,0,0,0,0,0,0,0,1,0,0]},{\"label\":\"max_depth\",\"range\":[2,112],\"values\":[70,2,112,52,89,43,2,2,8,17,17,15,7,31,5,25,23,9,4,26,11,12,18,37,11,4,23,6,60,12,10,24,14,20,38,75,13,44,31,90,50,35,18,8,15,16,21,6,10,112,3,27,14,12,29,16,22,38,7,28]},{\"label\":\"max_features\",\"range\":[0.11090149242752717,0.9916274673184882],\"values\":[0.4553140329238048,0.8793554962469481,0.8957261207990624,0.131096167102392,0.19757680095203894,0.745646516579023,0.4305160160128184,0.5896358956701836,0.2725360621622547,0.42336296524868955,0.6271061861322312,0.5822621323950136,0.6914246020496978,0.4008483203477205,0.697074880558194,0.4911415937971424,0.29947419424183597,0.5232400508998625,0.7925469586846491,0.9916274673184882,0.6494072971899049,0.6177131689895455,0.5182258148253241,0.6435668892225698,0.35658896664659767,0.5129171273311892,0.778630164750195,0.8630561237098009,0.6694356886834675,0.7888952063202767,0.8231032780230729,0.7211108291204642,0.46511497343641706,0.964559544639612,0.7857210353437216,0.895797389597036,0.7649210639345877,0.8414076312474784,0.9157629156491569,0.5920529250625748,0.4783828410020865,0.7619950855295334,0.8225784733771202,0.6383086887951374,0.5614932520792806,0.5770286382877312,0.7212775690363596,0.6562034355804018,0.568523166767695,0.699359173921984,0.5481122335205243,0.39001770767458754,0.3665759432560646,0.7502318513015229,0.11090149242752717,0.6231007776650471,0.20795797506889363,0.6780950529433282,0.7932031603255675,0.4278318142755836]},{\"label\":\"n_estimators\",\"range\":[100,799],\"values\":[353,217,679,688,123,799,120,395,107,186,390,383,394,295,515,266,207,259,158,504,282,281,307,483,262,233,161,160,329,156,466,347,185,144,139,130,181,586,112,234,210,140,165,424,105,116,132,100,106,121,752,253,370,147,425,323,236,200,169,596]}],\"labelangle\":30,\"labelside\":\"bottom\",\"line\":{\"color\":[0.9666356155876418,0.9490607048594939,0.9648657040832169,0.95960254618848,0.9543393882937432,0.9596180717279925,0.9455364073901567,0.9525694767893184,0.9648657040832168,0.9631268436578171,0.9683900015525542,0.9666200900481291,0.9631113181183046,0.9666356155876418,0.9648657040832169,0.968390001552554,0.9666200900481291,0.9648812296227295,0.9666356155876418,0.9648657040832168,0.9683900015525542,0.9648657040832169,0.9666356155876418,0.9666356155876418,0.9683744760130415,0.9631268436578171,0.968390001552554,0.9648657040832169,0.9613569321533924,0.968390001552554,0.9666200900481291,0.9631113181183046,0.9648812296227295,0.9631113181183046,0.968390001552554,0.9648657040832169,0.9561248253376805,0.9648657040832169,0.959633597267505,0.9631113181183046,0.9578636857630801,0.9666200900481293,0.9648657040832169,0.9648657040832169,0.968390001552554,0.95960254618848,0.95960254618848,0.959633597267505,0.9578481602235677,0.9630957925787922,0.9578326346840553,0.968390001552554,0.9666200900481291,0.9666200900481293,0.9648657040832169,0.9648657040832169,0.9648657040832168,0.9596180717279925,0.968390001552554,0.9701443875174661],\"colorbar\":{\"title\":{\"text\":\"Objective Value\"}},\"colorscale\":[[0.0,\"rgb(247,251,255)\"],[0.125,\"rgb(222,235,247)\"],[0.25,\"rgb(198,219,239)\"],[0.375,\"rgb(158,202,225)\"],[0.5,\"rgb(107,174,214)\"],[0.625,\"rgb(66,146,198)\"],[0.75,\"rgb(33,113,181)\"],[0.875,\"rgb(8,81,156)\"],[1.0,\"rgb(8,48,107)\"]],\"reversescale\":false,\"showscale\":true},\"type\":\"parcoords\"}],                        {\"title\":{\"text\":\"Parallel Coordinate Plot\"},\"template\":{\"data\":{\"bar\":[{\"error_x\":{\"color\":\"#2a3f5f\"},\"error_y\":{\"color\":\"#2a3f5f\"},\"marker\":{\"line\":{\"color\":\"#E5ECF6\",\"width\":0.5},\"pattern\":{\"fillmode\":\"overlay\",\"size\":10,\"solidity\":0.2}},\"type\":\"bar\"}],\"barpolar\":[{\"marker\":{\"line\":{\"color\":\"#E5ECF6\",\"width\":0.5},\"pattern\":{\"fillmode\":\"overlay\",\"size\":10,\"solidity\":0.2}},\"type\":\"barpolar\"}],\"carpet\":[{\"aaxis\":{\"endlinecolor\":\"#2a3f5f\",\"gridcolor\":\"white\",\"linecolor\":\"white\",\"minorgridcolor\":\"white\",\"startlinecolor\":\"#2a3f5f\"},\"baxis\":{\"endlinecolor\":\"#2a3f5f\",\"gridcolor\":\"white\",\"linecolor\":\"white\",\"minorgridcolor\":\"white\",\"startlinecolor\":\"#2a3f5f\"},\"type\":\"carpet\"}],\"choropleth\":[{\"colorbar\":{\"outlinewidth\":0,\"ticks\":\"\"},\"type\":\"choropleth\"}],\"contour\":[{\"colorbar\":{\"outlinewidth\":0,\"ticks\":\"\"},\"colorscale\":[[0.0,\"#0d0887\"],[0.1111111111111111,\"#46039f\"],[0.2222222222222222,\"#7201a8\"],[0.3333333333333333,\"#9c179e\"],[0.4444444444444444,\"#bd3786\"],[0.5555555555555556,\"#d8576b\"],[0.6666666666666666,\"#ed7953\"],[0.7777777777777778,\"#fb9f3a\"],[0.8888888888888888,\"#fdca26\"],[1.0,\"#f0f921\"]],\"type\":\"contour\"}],\"contourcarpet\":[{\"colorbar\":{\"outlinewidth\":0,\"ticks\":\"\"},\"type\":\"contourcarpet\"}],\"heatmap\":[{\"colorbar\":{\"outlinewidth\":0,\"ticks\":\"\"},\"colorscale\":[[0.0,\"#0d0887\"],[0.1111111111111111,\"#46039f\"],[0.2222222222222222,\"#7201a8\"],[0.3333333333333333,\"#9c179e\"],[0.4444444444444444,\"#bd3786\"],[0.5555555555555556,\"#d8576b\"],[0.6666666666666666,\"#ed7953\"],[0.7777777777777778,\"#fb9f3a\"],[0.8888888888888888,\"#fdca26\"],[1.0,\"#f0f921\"]],\"type\":\"heatmap\"}],\"heatmapgl\":[{\"colorbar\":{\"outlinewidth\":0,\"ticks\":\"\"},\"colorscale\":[[0.0,\"#0d0887\"],[0.1111111111111111,\"#46039f\"],[0.2222222222222222,\"#7201a8\"],[0.3333333333333333,\"#9c179e\"],[0.4444444444444444,\"#bd3786\"],[0.5555555555555556,\"#d8576b\"],[0.6666666666666666,\"#ed7953\"],[0.7777777777777778,\"#fb9f3a\"],[0.8888888888888888,\"#fdca26\"],[1.0,\"#f0f921\"]],\"type\":\"heatmapgl\"}],\"histogram\":[{\"marker\":{\"pattern\":{\"fillmode\":\"overlay\",\"size\":10,\"solidity\":0.2}},\"type\":\"histogram\"}],\"histogram2d\":[{\"colorbar\":{\"outlinewidth\":0,\"ticks\":\"\"},\"colorscale\":[[0.0,\"#0d0887\"],[0.1111111111111111,\"#46039f\"],[0.2222222222222222,\"#7201a8\"],[0.3333333333333333,\"#9c179e\"],[0.4444444444444444,\"#bd3786\"],[0.5555555555555556,\"#d8576b\"],[0.6666666666666666,\"#ed7953\"],[0.7777777777777778,\"#fb9f3a\"],[0.8888888888888888,\"#fdca26\"],[1.0,\"#f0f921\"]],\"type\":\"histogram2d\"}],\"histogram2dcontour\":[{\"colorbar\":{\"outlinewidth\":0,\"ticks\":\"\"},\"colorscale\":[[0.0,\"#0d0887\"],[0.1111111111111111,\"#46039f\"],[0.2222222222222222,\"#7201a8\"],[0.3333333333333333,\"#9c179e\"],[0.4444444444444444,\"#bd3786\"],[0.5555555555555556,\"#d8576b\"],[0.6666666666666666,\"#ed7953\"],[0.7777777777777778,\"#fb9f3a\"],[0.8888888888888888,\"#fdca26\"],[1.0,\"#f0f921\"]],\"type\":\"histogram2dcontour\"}],\"mesh3d\":[{\"colorbar\":{\"outlinewidth\":0,\"ticks\":\"\"},\"type\":\"mesh3d\"}],\"parcoords\":[{\"line\":{\"colorbar\":{\"outlinewidth\":0,\"ticks\":\"\"}},\"type\":\"parcoords\"}],\"pie\":[{\"automargin\":true,\"type\":\"pie\"}],\"scatter\":[{\"marker\":{\"colorbar\":{\"outlinewidth\":0,\"ticks\":\"\"}},\"type\":\"scatter\"}],\"scatter3d\":[{\"line\":{\"colorbar\":{\"outlinewidth\":0,\"ticks\":\"\"}},\"marker\":{\"colorbar\":{\"outlinewidth\":0,\"ticks\":\"\"}},\"type\":\"scatter3d\"}],\"scattercarpet\":[{\"marker\":{\"colorbar\":{\"outlinewidth\":0,\"ticks\":\"\"}},\"type\":\"scattercarpet\"}],\"scattergeo\":[{\"marker\":{\"colorbar\":{\"outlinewidth\":0,\"ticks\":\"\"}},\"type\":\"scattergeo\"}],\"scattergl\":[{\"marker\":{\"colorbar\":{\"outlinewidth\":0,\"ticks\":\"\"}},\"type\":\"scattergl\"}],\"scattermapbox\":[{\"marker\":{\"colorbar\":{\"outlinewidth\":0,\"ticks\":\"\"}},\"type\":\"scattermapbox\"}],\"scatterpolar\":[{\"marker\":{\"colorbar\":{\"outlinewidth\":0,\"ticks\":\"\"}},\"type\":\"scatterpolar\"}],\"scatterpolargl\":[{\"marker\":{\"colorbar\":{\"outlinewidth\":0,\"ticks\":\"\"}},\"type\":\"scatterpolargl\"}],\"scatterternary\":[{\"marker\":{\"colorbar\":{\"outlinewidth\":0,\"ticks\":\"\"}},\"type\":\"scatterternary\"}],\"surface\":[{\"colorbar\":{\"outlinewidth\":0,\"ticks\":\"\"},\"colorscale\":[[0.0,\"#0d0887\"],[0.1111111111111111,\"#46039f\"],[0.2222222222222222,\"#7201a8\"],[0.3333333333333333,\"#9c179e\"],[0.4444444444444444,\"#bd3786\"],[0.5555555555555556,\"#d8576b\"],[0.6666666666666666,\"#ed7953\"],[0.7777777777777778,\"#fb9f3a\"],[0.8888888888888888,\"#fdca26\"],[1.0,\"#f0f921\"]],\"type\":\"surface\"}],\"table\":[{\"cells\":{\"fill\":{\"color\":\"#EBF0F8\"},\"line\":{\"color\":\"white\"}},\"header\":{\"fill\":{\"color\":\"#C8D4E3\"},\"line\":{\"color\":\"white\"}},\"type\":\"table\"}]},\"layout\":{\"annotationdefaults\":{\"arrowcolor\":\"#2a3f5f\",\"arrowhead\":0,\"arrowwidth\":1},\"autotypenumbers\":\"strict\",\"coloraxis\":{\"colorbar\":{\"outlinewidth\":0,\"ticks\":\"\"}},\"colorscale\":{\"diverging\":[[0,\"#8e0152\"],[0.1,\"#c51b7d\"],[0.2,\"#de77ae\"],[0.3,\"#f1b6da\"],[0.4,\"#fde0ef\"],[0.5,\"#f7f7f7\"],[0.6,\"#e6f5d0\"],[0.7,\"#b8e186\"],[0.8,\"#7fbc41\"],[0.9,\"#4d9221\"],[1,\"#276419\"]],\"sequential\":[[0.0,\"#0d0887\"],[0.1111111111111111,\"#46039f\"],[0.2222222222222222,\"#7201a8\"],[0.3333333333333333,\"#9c179e\"],[0.4444444444444444,\"#bd3786\"],[0.5555555555555556,\"#d8576b\"],[0.6666666666666666,\"#ed7953\"],[0.7777777777777778,\"#fb9f3a\"],[0.8888888888888888,\"#fdca26\"],[1.0,\"#f0f921\"]],\"sequentialminus\":[[0.0,\"#0d0887\"],[0.1111111111111111,\"#46039f\"],[0.2222222222222222,\"#7201a8\"],[0.3333333333333333,\"#9c179e\"],[0.4444444444444444,\"#bd3786\"],[0.5555555555555556,\"#d8576b\"],[0.6666666666666666,\"#ed7953\"],[0.7777777777777778,\"#fb9f3a\"],[0.8888888888888888,\"#fdca26\"],[1.0,\"#f0f921\"]]},\"colorway\":[\"#636efa\",\"#EF553B\",\"#00cc96\",\"#ab63fa\",\"#FFA15A\",\"#19d3f3\",\"#FF6692\",\"#B6E880\",\"#FF97FF\",\"#FECB52\"],\"font\":{\"color\":\"#2a3f5f\"},\"geo\":{\"bgcolor\":\"white\",\"lakecolor\":\"white\",\"landcolor\":\"#E5ECF6\",\"showlakes\":true,\"showland\":true,\"subunitcolor\":\"white\"},\"hoverlabel\":{\"align\":\"left\"},\"hovermode\":\"closest\",\"mapbox\":{\"style\":\"light\"},\"paper_bgcolor\":\"white\",\"plot_bgcolor\":\"#E5ECF6\",\"polar\":{\"angularaxis\":{\"gridcolor\":\"white\",\"linecolor\":\"white\",\"ticks\":\"\"},\"bgcolor\":\"#E5ECF6\",\"radialaxis\":{\"gridcolor\":\"white\",\"linecolor\":\"white\",\"ticks\":\"\"}},\"scene\":{\"xaxis\":{\"backgroundcolor\":\"#E5ECF6\",\"gridcolor\":\"white\",\"gridwidth\":2,\"linecolor\":\"white\",\"showbackground\":true,\"ticks\":\"\",\"zerolinecolor\":\"white\"},\"yaxis\":{\"backgroundcolor\":\"#E5ECF6\",\"gridcolor\":\"white\",\"gridwidth\":2,\"linecolor\":\"white\",\"showbackground\":true,\"ticks\":\"\",\"zerolinecolor\":\"white\"},\"zaxis\":{\"backgroundcolor\":\"#E5ECF6\",\"gridcolor\":\"white\",\"gridwidth\":2,\"linecolor\":\"white\",\"showbackground\":true,\"ticks\":\"\",\"zerolinecolor\":\"white\"}},\"shapedefaults\":{\"line\":{\"color\":\"#2a3f5f\"}},\"ternary\":{\"aaxis\":{\"gridcolor\":\"white\",\"linecolor\":\"white\",\"ticks\":\"\"},\"baxis\":{\"gridcolor\":\"white\",\"linecolor\":\"white\",\"ticks\":\"\"},\"bgcolor\":\"#E5ECF6\",\"caxis\":{\"gridcolor\":\"white\",\"linecolor\":\"white\",\"ticks\":\"\"}},\"title\":{\"x\":0.05},\"xaxis\":{\"automargin\":true,\"gridcolor\":\"white\",\"linecolor\":\"white\",\"ticks\":\"\",\"title\":{\"standoff\":15},\"zerolinecolor\":\"white\",\"zerolinewidth\":2},\"yaxis\":{\"automargin\":true,\"gridcolor\":\"white\",\"linecolor\":\"white\",\"ticks\":\"\",\"title\":{\"standoff\":15},\"zerolinecolor\":\"white\",\"zerolinewidth\":2}}}},                        {\"responsive\": true}                    ).then(function(){\n",
       "                            \n",
       "var gd = document.getElementById('4b9edac2-8e58-4564-97a7-4bb83898ca92');\n",
       "var x = new MutationObserver(function (mutations, observer) {{\n",
       "        var display = window.getComputedStyle(gd).display;\n",
       "        if (!display || display === 'none') {{\n",
       "            console.log([gd, 'removed!']);\n",
       "            Plotly.purge(gd);\n",
       "            observer.disconnect();\n",
       "        }}\n",
       "}});\n",
       "\n",
       "// Listen for the removal of the full notebook cells\n",
       "var notebookContainer = gd.closest('#notebook-container');\n",
       "if (notebookContainer) {{\n",
       "    x.observe(notebookContainer, {childList: true});\n",
       "}}\n",
       "\n",
       "// Listen for the clearing of the current output cell\n",
       "var outputEl = gd.closest('.output');\n",
       "if (outputEl) {{\n",
       "    x.observe(outputEl, {childList: true});\n",
       "}}\n",
       "\n",
       "                        })                };                });            </script>        </div>"
      ]
     },
     "metadata": {},
     "output_type": "display_data"
    }
   ],
   "source": [
    "optuna.visualization.plot_parallel_coordinate(study)"
   ]
  },
  {
   "cell_type": "markdown",
   "id": "e33abe55",
   "metadata": {
    "id": "JnLBWNAycMwt",
    "papermill": {
     "duration": 0.062022,
     "end_time": "2022-01-09T16:47:36.707979",
     "exception": false,
     "start_time": "2022-01-09T16:47:36.645957",
     "status": "completed"
    },
    "tags": []
   },
   "source": [
    "The following **slice plots** show the projections of the sampler's path in the hyperparameter space in each individual dimension, then shifts each point along the vertical axis based on the its objective value. "
   ]
  },
  {
   "cell_type": "code",
   "execution_count": 10,
   "id": "c3745e48",
   "metadata": {
    "execution": {
     "iopub.execute_input": "2022-01-09T16:47:36.844725Z",
     "iopub.status.busy": "2022-01-09T16:47:36.843891Z",
     "iopub.status.idle": "2022-01-09T16:47:37.106110Z",
     "shell.execute_reply": "2022-01-09T16:47:37.106979Z",
     "shell.execute_reply.started": "2022-01-08T17:25:39.718323Z"
    },
    "papermill": {
     "duration": 0.336516,
     "end_time": "2022-01-09T16:47:37.107208",
     "exception": false,
     "start_time": "2022-01-09T16:47:36.770692",
     "status": "completed"
    },
    "tags": []
   },
   "outputs": [
    {
     "data": {
      "text/html": [
       "<div>                            <div id=\"9dde7497-4105-4b30-bd7b-c4eaaeeb42fb\" class=\"plotly-graph-div\" style=\"height:400px; width:900px;\"></div>            <script type=\"text/javascript\">                require([\"plotly\"], function(Plotly) {                    window.PLOTLYENV=window.PLOTLYENV || {};                                    if (document.getElementById(\"9dde7497-4105-4b30-bd7b-c4eaaeeb42fb\")) {                    Plotly.newPlot(                        \"9dde7497-4105-4b30-bd7b-c4eaaeeb42fb\",                        [{\"marker\":{\"color\":[0,1,2,3,4,5,6,7,8,9,10,11,12,13,14,15,16,17,18,19,20,21,22,23,24,25,26,27,28,29,30,31,32,33,34,35,36,37,38,39,40,41,42,43,44,45,46,47,48,49,50,51,52,53,54,55,56,57,58,59],\"colorbar\":{\"title\":{\"text\":\"#Trials\"},\"x\":1.0,\"xpad\":40},\"colorscale\":[[0.0,\"rgb(247,251,255)\"],[0.125,\"rgb(222,235,247)\"],[0.25,\"rgb(198,219,239)\"],[0.375,\"rgb(158,202,225)\"],[0.5,\"rgb(107,174,214)\"],[0.625,\"rgb(66,146,198)\"],[0.75,\"rgb(33,113,181)\"],[0.875,\"rgb(8,81,156)\"],[1.0,\"rgb(8,48,107)\"]],\"line\":{\"color\":\"Grey\",\"width\":0.5},\"showscale\":true},\"mode\":\"markers\",\"showlegend\":false,\"x\":[\"entropy\",\"gini\",\"entropy\",\"gini\",\"gini\",\"gini\",\"gini\",\"gini\",\"entropy\",\"gini\",\"entropy\",\"entropy\",\"entropy\",\"entropy\",\"entropy\",\"entropy\",\"entropy\",\"entropy\",\"entropy\",\"entropy\",\"entropy\",\"entropy\",\"entropy\",\"entropy\",\"entropy\",\"entropy\",\"entropy\",\"entropy\",\"entropy\",\"entropy\",\"entropy\",\"entropy\",\"entropy\",\"entropy\",\"entropy\",\"entropy\",\"gini\",\"entropy\",\"gini\",\"entropy\",\"gini\",\"entropy\",\"entropy\",\"entropy\",\"entropy\",\"entropy\",\"entropy\",\"gini\",\"entropy\",\"entropy\",\"entropy\",\"entropy\",\"entropy\",\"entropy\",\"entropy\",\"entropy\",\"entropy\",\"gini\",\"entropy\",\"entropy\"],\"y\":[0.9666356155876418,0.9490607048594939,0.9648657040832169,0.95960254618848,0.9543393882937432,0.9596180717279925,0.9455364073901567,0.9525694767893184,0.9648657040832168,0.9631268436578171,0.9683900015525542,0.9666200900481291,0.9631113181183046,0.9666356155876418,0.9648657040832169,0.968390001552554,0.9666200900481291,0.9648812296227295,0.9666356155876418,0.9648657040832168,0.9683900015525542,0.9648657040832169,0.9666356155876418,0.9666356155876418,0.9683744760130415,0.9631268436578171,0.968390001552554,0.9648657040832169,0.9613569321533924,0.968390001552554,0.9666200900481291,0.9631113181183046,0.9648812296227295,0.9631113181183046,0.968390001552554,0.9648657040832169,0.9561248253376805,0.9648657040832169,0.959633597267505,0.9631113181183046,0.9578636857630801,0.9666200900481293,0.9648657040832169,0.9648657040832169,0.968390001552554,0.95960254618848,0.95960254618848,0.959633597267505,0.9578481602235677,0.9630957925787922,0.9578326346840553,0.968390001552554,0.9666200900481291,0.9666200900481293,0.9648657040832169,0.9648657040832169,0.9648657040832168,0.9596180717279925,0.968390001552554,0.9701443875174661],\"type\":\"scatter\",\"xaxis\":\"x\",\"yaxis\":\"y\"},{\"marker\":{\"color\":[0,1,2,3,4,5,6,7,8,9,10,11,12,13,14,15,16,17,18,19,20,21,22,23,24,25,26,27,28,29,30,31,32,33,34,35,36,37,38,39,40,41,42,43,44,45,46,47,48,49,50,51,52,53,54,55,56,57,58,59],\"colorbar\":{\"title\":{\"text\":\"#Trials\"},\"x\":1.0,\"xpad\":40},\"colorscale\":[[0.0,\"rgb(247,251,255)\"],[0.125,\"rgb(222,235,247)\"],[0.25,\"rgb(198,219,239)\"],[0.375,\"rgb(158,202,225)\"],[0.5,\"rgb(107,174,214)\"],[0.625,\"rgb(66,146,198)\"],[0.75,\"rgb(33,113,181)\"],[0.875,\"rgb(8,81,156)\"],[1.0,\"rgb(8,48,107)\"]],\"line\":{\"color\":\"Grey\",\"width\":0.5},\"showscale\":false},\"mode\":\"markers\",\"showlegend\":false,\"x\":[70,2,112,52,89,43,2,2,8,17,17,15,7,31,5,25,23,9,4,26,11,12,18,37,11,4,23,6,60,12,10,24,14,20,38,75,13,44,31,90,50,35,18,8,15,16,21,6,10,112,3,27,14,12,29,16,22,38,7,28],\"y\":[0.9666356155876418,0.9490607048594939,0.9648657040832169,0.95960254618848,0.9543393882937432,0.9596180717279925,0.9455364073901567,0.9525694767893184,0.9648657040832168,0.9631268436578171,0.9683900015525542,0.9666200900481291,0.9631113181183046,0.9666356155876418,0.9648657040832169,0.968390001552554,0.9666200900481291,0.9648812296227295,0.9666356155876418,0.9648657040832168,0.9683900015525542,0.9648657040832169,0.9666356155876418,0.9666356155876418,0.9683744760130415,0.9631268436578171,0.968390001552554,0.9648657040832169,0.9613569321533924,0.968390001552554,0.9666200900481291,0.9631113181183046,0.9648812296227295,0.9631113181183046,0.968390001552554,0.9648657040832169,0.9561248253376805,0.9648657040832169,0.959633597267505,0.9631113181183046,0.9578636857630801,0.9666200900481293,0.9648657040832169,0.9648657040832169,0.968390001552554,0.95960254618848,0.95960254618848,0.959633597267505,0.9578481602235677,0.9630957925787922,0.9578326346840553,0.968390001552554,0.9666200900481291,0.9666200900481293,0.9648657040832169,0.9648657040832169,0.9648657040832168,0.9596180717279925,0.968390001552554,0.9701443875174661],\"type\":\"scatter\",\"xaxis\":\"x2\",\"yaxis\":\"y2\"},{\"marker\":{\"color\":[0,1,2,3,4,5,6,7,8,9,10,11,12,13,14,15,16,17,18,19,20,21,22,23,24,25,26,27,28,29,30,31,32,33,34,35,36,37,38,39,40,41,42,43,44,45,46,47,48,49,50,51,52,53,54,55,56,57,58,59],\"colorbar\":{\"title\":{\"text\":\"#Trials\"},\"x\":1.0,\"xpad\":40},\"colorscale\":[[0.0,\"rgb(247,251,255)\"],[0.125,\"rgb(222,235,247)\"],[0.25,\"rgb(198,219,239)\"],[0.375,\"rgb(158,202,225)\"],[0.5,\"rgb(107,174,214)\"],[0.625,\"rgb(66,146,198)\"],[0.75,\"rgb(33,113,181)\"],[0.875,\"rgb(8,81,156)\"],[1.0,\"rgb(8,48,107)\"]],\"line\":{\"color\":\"Grey\",\"width\":0.5},\"showscale\":false},\"mode\":\"markers\",\"showlegend\":false,\"x\":[0.4553140329238048,0.8793554962469481,0.8957261207990624,0.131096167102392,0.19757680095203894,0.745646516579023,0.4305160160128184,0.5896358956701836,0.2725360621622547,0.42336296524868955,0.6271061861322312,0.5822621323950136,0.6914246020496978,0.4008483203477205,0.697074880558194,0.4911415937971424,0.29947419424183597,0.5232400508998625,0.7925469586846491,0.9916274673184882,0.6494072971899049,0.6177131689895455,0.5182258148253241,0.6435668892225698,0.35658896664659767,0.5129171273311892,0.778630164750195,0.8630561237098009,0.6694356886834675,0.7888952063202767,0.8231032780230729,0.7211108291204642,0.46511497343641706,0.964559544639612,0.7857210353437216,0.895797389597036,0.7649210639345877,0.8414076312474784,0.9157629156491569,0.5920529250625748,0.4783828410020865,0.7619950855295334,0.8225784733771202,0.6383086887951374,0.5614932520792806,0.5770286382877312,0.7212775690363596,0.6562034355804018,0.568523166767695,0.699359173921984,0.5481122335205243,0.39001770767458754,0.3665759432560646,0.7502318513015229,0.11090149242752717,0.6231007776650471,0.20795797506889363,0.6780950529433282,0.7932031603255675,0.4278318142755836],\"y\":[0.9666356155876418,0.9490607048594939,0.9648657040832169,0.95960254618848,0.9543393882937432,0.9596180717279925,0.9455364073901567,0.9525694767893184,0.9648657040832168,0.9631268436578171,0.9683900015525542,0.9666200900481291,0.9631113181183046,0.9666356155876418,0.9648657040832169,0.968390001552554,0.9666200900481291,0.9648812296227295,0.9666356155876418,0.9648657040832168,0.9683900015525542,0.9648657040832169,0.9666356155876418,0.9666356155876418,0.9683744760130415,0.9631268436578171,0.968390001552554,0.9648657040832169,0.9613569321533924,0.968390001552554,0.9666200900481291,0.9631113181183046,0.9648812296227295,0.9631113181183046,0.968390001552554,0.9648657040832169,0.9561248253376805,0.9648657040832169,0.959633597267505,0.9631113181183046,0.9578636857630801,0.9666200900481293,0.9648657040832169,0.9648657040832169,0.968390001552554,0.95960254618848,0.95960254618848,0.959633597267505,0.9578481602235677,0.9630957925787922,0.9578326346840553,0.968390001552554,0.9666200900481291,0.9666200900481293,0.9648657040832169,0.9648657040832169,0.9648657040832168,0.9596180717279925,0.968390001552554,0.9701443875174661],\"type\":\"scatter\",\"xaxis\":\"x3\",\"yaxis\":\"y3\"},{\"marker\":{\"color\":[0,1,2,3,4,5,6,7,8,9,10,11,12,13,14,15,16,17,18,19,20,21,22,23,24,25,26,27,28,29,30,31,32,33,34,35,36,37,38,39,40,41,42,43,44,45,46,47,48,49,50,51,52,53,54,55,56,57,58,59],\"colorbar\":{\"title\":{\"text\":\"#Trials\"},\"x\":1.0,\"xpad\":40},\"colorscale\":[[0.0,\"rgb(247,251,255)\"],[0.125,\"rgb(222,235,247)\"],[0.25,\"rgb(198,219,239)\"],[0.375,\"rgb(158,202,225)\"],[0.5,\"rgb(107,174,214)\"],[0.625,\"rgb(66,146,198)\"],[0.75,\"rgb(33,113,181)\"],[0.875,\"rgb(8,81,156)\"],[1.0,\"rgb(8,48,107)\"]],\"line\":{\"color\":\"Grey\",\"width\":0.5},\"showscale\":false},\"mode\":\"markers\",\"showlegend\":false,\"x\":[353,217,679,688,123,799,120,395,107,186,390,383,394,295,515,266,207,259,158,504,282,281,307,483,262,233,161,160,329,156,466,347,185,144,139,130,181,586,112,234,210,140,165,424,105,116,132,100,106,121,752,253,370,147,425,323,236,200,169,596],\"y\":[0.9666356155876418,0.9490607048594939,0.9648657040832169,0.95960254618848,0.9543393882937432,0.9596180717279925,0.9455364073901567,0.9525694767893184,0.9648657040832168,0.9631268436578171,0.9683900015525542,0.9666200900481291,0.9631113181183046,0.9666356155876418,0.9648657040832169,0.968390001552554,0.9666200900481291,0.9648812296227295,0.9666356155876418,0.9648657040832168,0.9683900015525542,0.9648657040832169,0.9666356155876418,0.9666356155876418,0.9683744760130415,0.9631268436578171,0.968390001552554,0.9648657040832169,0.9613569321533924,0.968390001552554,0.9666200900481291,0.9631113181183046,0.9648812296227295,0.9631113181183046,0.968390001552554,0.9648657040832169,0.9561248253376805,0.9648657040832169,0.959633597267505,0.9631113181183046,0.9578636857630801,0.9666200900481293,0.9648657040832169,0.9648657040832169,0.968390001552554,0.95960254618848,0.95960254618848,0.959633597267505,0.9578481602235677,0.9630957925787922,0.9578326346840553,0.968390001552554,0.9666200900481291,0.9666200900481293,0.9648657040832169,0.9648657040832169,0.9648657040832168,0.9596180717279925,0.968390001552554,0.9701443875174661],\"type\":\"scatter\",\"xaxis\":\"x4\",\"yaxis\":\"y4\"}],                        {\"template\":{\"data\":{\"bar\":[{\"error_x\":{\"color\":\"#2a3f5f\"},\"error_y\":{\"color\":\"#2a3f5f\"},\"marker\":{\"line\":{\"color\":\"#E5ECF6\",\"width\":0.5},\"pattern\":{\"fillmode\":\"overlay\",\"size\":10,\"solidity\":0.2}},\"type\":\"bar\"}],\"barpolar\":[{\"marker\":{\"line\":{\"color\":\"#E5ECF6\",\"width\":0.5},\"pattern\":{\"fillmode\":\"overlay\",\"size\":10,\"solidity\":0.2}},\"type\":\"barpolar\"}],\"carpet\":[{\"aaxis\":{\"endlinecolor\":\"#2a3f5f\",\"gridcolor\":\"white\",\"linecolor\":\"white\",\"minorgridcolor\":\"white\",\"startlinecolor\":\"#2a3f5f\"},\"baxis\":{\"endlinecolor\":\"#2a3f5f\",\"gridcolor\":\"white\",\"linecolor\":\"white\",\"minorgridcolor\":\"white\",\"startlinecolor\":\"#2a3f5f\"},\"type\":\"carpet\"}],\"choropleth\":[{\"colorbar\":{\"outlinewidth\":0,\"ticks\":\"\"},\"type\":\"choropleth\"}],\"contour\":[{\"colorbar\":{\"outlinewidth\":0,\"ticks\":\"\"},\"colorscale\":[[0.0,\"#0d0887\"],[0.1111111111111111,\"#46039f\"],[0.2222222222222222,\"#7201a8\"],[0.3333333333333333,\"#9c179e\"],[0.4444444444444444,\"#bd3786\"],[0.5555555555555556,\"#d8576b\"],[0.6666666666666666,\"#ed7953\"],[0.7777777777777778,\"#fb9f3a\"],[0.8888888888888888,\"#fdca26\"],[1.0,\"#f0f921\"]],\"type\":\"contour\"}],\"contourcarpet\":[{\"colorbar\":{\"outlinewidth\":0,\"ticks\":\"\"},\"type\":\"contourcarpet\"}],\"heatmap\":[{\"colorbar\":{\"outlinewidth\":0,\"ticks\":\"\"},\"colorscale\":[[0.0,\"#0d0887\"],[0.1111111111111111,\"#46039f\"],[0.2222222222222222,\"#7201a8\"],[0.3333333333333333,\"#9c179e\"],[0.4444444444444444,\"#bd3786\"],[0.5555555555555556,\"#d8576b\"],[0.6666666666666666,\"#ed7953\"],[0.7777777777777778,\"#fb9f3a\"],[0.8888888888888888,\"#fdca26\"],[1.0,\"#f0f921\"]],\"type\":\"heatmap\"}],\"heatmapgl\":[{\"colorbar\":{\"outlinewidth\":0,\"ticks\":\"\"},\"colorscale\":[[0.0,\"#0d0887\"],[0.1111111111111111,\"#46039f\"],[0.2222222222222222,\"#7201a8\"],[0.3333333333333333,\"#9c179e\"],[0.4444444444444444,\"#bd3786\"],[0.5555555555555556,\"#d8576b\"],[0.6666666666666666,\"#ed7953\"],[0.7777777777777778,\"#fb9f3a\"],[0.8888888888888888,\"#fdca26\"],[1.0,\"#f0f921\"]],\"type\":\"heatmapgl\"}],\"histogram\":[{\"marker\":{\"pattern\":{\"fillmode\":\"overlay\",\"size\":10,\"solidity\":0.2}},\"type\":\"histogram\"}],\"histogram2d\":[{\"colorbar\":{\"outlinewidth\":0,\"ticks\":\"\"},\"colorscale\":[[0.0,\"#0d0887\"],[0.1111111111111111,\"#46039f\"],[0.2222222222222222,\"#7201a8\"],[0.3333333333333333,\"#9c179e\"],[0.4444444444444444,\"#bd3786\"],[0.5555555555555556,\"#d8576b\"],[0.6666666666666666,\"#ed7953\"],[0.7777777777777778,\"#fb9f3a\"],[0.8888888888888888,\"#fdca26\"],[1.0,\"#f0f921\"]],\"type\":\"histogram2d\"}],\"histogram2dcontour\":[{\"colorbar\":{\"outlinewidth\":0,\"ticks\":\"\"},\"colorscale\":[[0.0,\"#0d0887\"],[0.1111111111111111,\"#46039f\"],[0.2222222222222222,\"#7201a8\"],[0.3333333333333333,\"#9c179e\"],[0.4444444444444444,\"#bd3786\"],[0.5555555555555556,\"#d8576b\"],[0.6666666666666666,\"#ed7953\"],[0.7777777777777778,\"#fb9f3a\"],[0.8888888888888888,\"#fdca26\"],[1.0,\"#f0f921\"]],\"type\":\"histogram2dcontour\"}],\"mesh3d\":[{\"colorbar\":{\"outlinewidth\":0,\"ticks\":\"\"},\"type\":\"mesh3d\"}],\"parcoords\":[{\"line\":{\"colorbar\":{\"outlinewidth\":0,\"ticks\":\"\"}},\"type\":\"parcoords\"}],\"pie\":[{\"automargin\":true,\"type\":\"pie\"}],\"scatter\":[{\"marker\":{\"colorbar\":{\"outlinewidth\":0,\"ticks\":\"\"}},\"type\":\"scatter\"}],\"scatter3d\":[{\"line\":{\"colorbar\":{\"outlinewidth\":0,\"ticks\":\"\"}},\"marker\":{\"colorbar\":{\"outlinewidth\":0,\"ticks\":\"\"}},\"type\":\"scatter3d\"}],\"scattercarpet\":[{\"marker\":{\"colorbar\":{\"outlinewidth\":0,\"ticks\":\"\"}},\"type\":\"scattercarpet\"}],\"scattergeo\":[{\"marker\":{\"colorbar\":{\"outlinewidth\":0,\"ticks\":\"\"}},\"type\":\"scattergeo\"}],\"scattergl\":[{\"marker\":{\"colorbar\":{\"outlinewidth\":0,\"ticks\":\"\"}},\"type\":\"scattergl\"}],\"scattermapbox\":[{\"marker\":{\"colorbar\":{\"outlinewidth\":0,\"ticks\":\"\"}},\"type\":\"scattermapbox\"}],\"scatterpolar\":[{\"marker\":{\"colorbar\":{\"outlinewidth\":0,\"ticks\":\"\"}},\"type\":\"scatterpolar\"}],\"scatterpolargl\":[{\"marker\":{\"colorbar\":{\"outlinewidth\":0,\"ticks\":\"\"}},\"type\":\"scatterpolargl\"}],\"scatterternary\":[{\"marker\":{\"colorbar\":{\"outlinewidth\":0,\"ticks\":\"\"}},\"type\":\"scatterternary\"}],\"surface\":[{\"colorbar\":{\"outlinewidth\":0,\"ticks\":\"\"},\"colorscale\":[[0.0,\"#0d0887\"],[0.1111111111111111,\"#46039f\"],[0.2222222222222222,\"#7201a8\"],[0.3333333333333333,\"#9c179e\"],[0.4444444444444444,\"#bd3786\"],[0.5555555555555556,\"#d8576b\"],[0.6666666666666666,\"#ed7953\"],[0.7777777777777778,\"#fb9f3a\"],[0.8888888888888888,\"#fdca26\"],[1.0,\"#f0f921\"]],\"type\":\"surface\"}],\"table\":[{\"cells\":{\"fill\":{\"color\":\"#EBF0F8\"},\"line\":{\"color\":\"white\"}},\"header\":{\"fill\":{\"color\":\"#C8D4E3\"},\"line\":{\"color\":\"white\"}},\"type\":\"table\"}]},\"layout\":{\"annotationdefaults\":{\"arrowcolor\":\"#2a3f5f\",\"arrowhead\":0,\"arrowwidth\":1},\"autotypenumbers\":\"strict\",\"coloraxis\":{\"colorbar\":{\"outlinewidth\":0,\"ticks\":\"\"}},\"colorscale\":{\"diverging\":[[0,\"#8e0152\"],[0.1,\"#c51b7d\"],[0.2,\"#de77ae\"],[0.3,\"#f1b6da\"],[0.4,\"#fde0ef\"],[0.5,\"#f7f7f7\"],[0.6,\"#e6f5d0\"],[0.7,\"#b8e186\"],[0.8,\"#7fbc41\"],[0.9,\"#4d9221\"],[1,\"#276419\"]],\"sequential\":[[0.0,\"#0d0887\"],[0.1111111111111111,\"#46039f\"],[0.2222222222222222,\"#7201a8\"],[0.3333333333333333,\"#9c179e\"],[0.4444444444444444,\"#bd3786\"],[0.5555555555555556,\"#d8576b\"],[0.6666666666666666,\"#ed7953\"],[0.7777777777777778,\"#fb9f3a\"],[0.8888888888888888,\"#fdca26\"],[1.0,\"#f0f921\"]],\"sequentialminus\":[[0.0,\"#0d0887\"],[0.1111111111111111,\"#46039f\"],[0.2222222222222222,\"#7201a8\"],[0.3333333333333333,\"#9c179e\"],[0.4444444444444444,\"#bd3786\"],[0.5555555555555556,\"#d8576b\"],[0.6666666666666666,\"#ed7953\"],[0.7777777777777778,\"#fb9f3a\"],[0.8888888888888888,\"#fdca26\"],[1.0,\"#f0f921\"]]},\"colorway\":[\"#636efa\",\"#EF553B\",\"#00cc96\",\"#ab63fa\",\"#FFA15A\",\"#19d3f3\",\"#FF6692\",\"#B6E880\",\"#FF97FF\",\"#FECB52\"],\"font\":{\"color\":\"#2a3f5f\"},\"geo\":{\"bgcolor\":\"white\",\"lakecolor\":\"white\",\"landcolor\":\"#E5ECF6\",\"showlakes\":true,\"showland\":true,\"subunitcolor\":\"white\"},\"hoverlabel\":{\"align\":\"left\"},\"hovermode\":\"closest\",\"mapbox\":{\"style\":\"light\"},\"paper_bgcolor\":\"white\",\"plot_bgcolor\":\"#E5ECF6\",\"polar\":{\"angularaxis\":{\"gridcolor\":\"white\",\"linecolor\":\"white\",\"ticks\":\"\"},\"bgcolor\":\"#E5ECF6\",\"radialaxis\":{\"gridcolor\":\"white\",\"linecolor\":\"white\",\"ticks\":\"\"}},\"scene\":{\"xaxis\":{\"backgroundcolor\":\"#E5ECF6\",\"gridcolor\":\"white\",\"gridwidth\":2,\"linecolor\":\"white\",\"showbackground\":true,\"ticks\":\"\",\"zerolinecolor\":\"white\"},\"yaxis\":{\"backgroundcolor\":\"#E5ECF6\",\"gridcolor\":\"white\",\"gridwidth\":2,\"linecolor\":\"white\",\"showbackground\":true,\"ticks\":\"\",\"zerolinecolor\":\"white\"},\"zaxis\":{\"backgroundcolor\":\"#E5ECF6\",\"gridcolor\":\"white\",\"gridwidth\":2,\"linecolor\":\"white\",\"showbackground\":true,\"ticks\":\"\",\"zerolinecolor\":\"white\"}},\"shapedefaults\":{\"line\":{\"color\":\"#2a3f5f\"}},\"ternary\":{\"aaxis\":{\"gridcolor\":\"white\",\"linecolor\":\"white\",\"ticks\":\"\"},\"baxis\":{\"gridcolor\":\"white\",\"linecolor\":\"white\",\"ticks\":\"\"},\"bgcolor\":\"#E5ECF6\",\"caxis\":{\"gridcolor\":\"white\",\"linecolor\":\"white\",\"ticks\":\"\"}},\"title\":{\"x\":0.05},\"xaxis\":{\"automargin\":true,\"gridcolor\":\"white\",\"linecolor\":\"white\",\"ticks\":\"\",\"title\":{\"standoff\":15},\"zerolinecolor\":\"white\",\"zerolinewidth\":2},\"yaxis\":{\"automargin\":true,\"gridcolor\":\"white\",\"linecolor\":\"white\",\"ticks\":\"\",\"title\":{\"standoff\":15},\"zerolinecolor\":\"white\",\"zerolinewidth\":2}}},\"xaxis\":{\"anchor\":\"y\",\"domain\":[0.0,0.2125],\"title\":{\"text\":\"criterion\"}},\"yaxis\":{\"anchor\":\"x\",\"domain\":[0.0,1.0],\"title\":{\"text\":\"Objective Value\"}},\"xaxis2\":{\"anchor\":\"y2\",\"domain\":[0.2625,0.475],\"title\":{\"text\":\"max_depth\"}},\"yaxis2\":{\"anchor\":\"x2\",\"domain\":[0.0,1.0],\"matches\":\"y\",\"showticklabels\":false},\"xaxis3\":{\"anchor\":\"y3\",\"domain\":[0.525,0.7375],\"title\":{\"text\":\"max_features\"}},\"yaxis3\":{\"anchor\":\"x3\",\"domain\":[0.0,1.0],\"matches\":\"y\",\"showticklabels\":false},\"xaxis4\":{\"anchor\":\"y4\",\"domain\":[0.7875,1.0],\"title\":{\"text\":\"n_estimators\"}},\"yaxis4\":{\"anchor\":\"x4\",\"domain\":[0.0,1.0],\"matches\":\"y\",\"showticklabels\":false},\"title\":{\"text\":\"Slice Plot\"},\"width\":900,\"height\":400},                        {\"responsive\": true}                    ).then(function(){\n",
       "                            \n",
       "var gd = document.getElementById('9dde7497-4105-4b30-bd7b-c4eaaeeb42fb');\n",
       "var x = new MutationObserver(function (mutations, observer) {{\n",
       "        var display = window.getComputedStyle(gd).display;\n",
       "        if (!display || display === 'none') {{\n",
       "            console.log([gd, 'removed!']);\n",
       "            Plotly.purge(gd);\n",
       "            observer.disconnect();\n",
       "        }}\n",
       "}});\n",
       "\n",
       "// Listen for the removal of the full notebook cells\n",
       "var notebookContainer = gd.closest('#notebook-container');\n",
       "if (notebookContainer) {{\n",
       "    x.observe(notebookContainer, {childList: true});\n",
       "}}\n",
       "\n",
       "// Listen for the clearing of the current output cell\n",
       "var outputEl = gd.closest('.output');\n",
       "if (outputEl) {{\n",
       "    x.observe(outputEl, {childList: true});\n",
       "}}\n",
       "\n",
       "                        })                };                });            </script>        </div>"
      ]
     },
     "metadata": {},
     "output_type": "display_data"
    }
   ],
   "source": [
    "fig = optuna.visualization.plot_slice(study)\n",
    "fig.update_layout(width=900, height=400)"
   ]
  },
  {
   "cell_type": "markdown",
   "id": "eae33277",
   "metadata": {
    "id": "iII1pxdlcMwv",
    "papermill": {
     "duration": 0.105602,
     "end_time": "2022-01-09T16:47:37.522018",
     "exception": false,
     "start_time": "2022-01-09T16:47:37.416416",
     "status": "completed"
    },
    "tags": []
   },
   "source": [
    "The default **hyperparameter importance evaluator** in Optuna is `FanovaImportanceEvaluator`. This takes as input performance data gathered with different hyperparameter settings of the algorithm, fits a random forest to capture the relationship between hyperparameters and performance, and then applies functional ANOVA to assess how important each of the hyperparameters and each low-order interaction of hyperparameters is to performance {cite}`pmlr-v32-hutter14`. From the [docs](https://optuna.readthedocs.io/en/stable/reference/generated/optuna.importance.FanovaImportanceEvaluator.html):\n",
    "\n",
    "> The performance of fANOVA depends on the prediction performance of the underlying random forest model. In order to obtain high prediction performance, it is necessary to cover a wide range of the hyperparameter search space. It is recommended to use an exploration-oriented sampler such as `RandomSampler`."
   ]
  },
  {
   "cell_type": "code",
   "execution_count": 11,
   "id": "4f9ce4e4",
   "metadata": {
    "execution": {
     "iopub.execute_input": "2022-01-09T16:47:37.686479Z",
     "iopub.status.busy": "2022-01-09T16:47:37.685683Z",
     "iopub.status.idle": "2022-01-09T16:47:39.027451Z",
     "shell.execute_reply": "2022-01-09T16:47:39.027879Z",
     "shell.execute_reply.started": "2022-01-08T17:25:39.821779Z"
    },
    "papermill": {
     "duration": 1.421846,
     "end_time": "2022-01-09T16:47:39.028060",
     "exception": false,
     "start_time": "2022-01-09T16:47:37.606214",
     "status": "completed"
    },
    "tags": []
   },
   "outputs": [
    {
     "data": {
      "text/html": [
       "<div>                            <div id=\"d789ccde-4f91-4ef0-822e-83760019a3b2\" class=\"plotly-graph-div\" style=\"height:350px; width:600px;\"></div>            <script type=\"text/javascript\">                require([\"plotly\"], function(Plotly) {                    window.PLOTLYENV=window.PLOTLYENV || {};                                    if (document.getElementById(\"d789ccde-4f91-4ef0-822e-83760019a3b2\")) {                    Plotly.newPlot(                        \"d789ccde-4f91-4ef0-822e-83760019a3b2\",                        [{\"cliponaxis\":false,\"hovertemplate\":[\"max_features (UniformDistribution): 0.0510181747079005<extra></extra>\",\"n_estimators (IntLogUniformDistribution): 0.1031115716858627<extra></extra>\",\"max_depth (IntLogUniformDistribution): 0.15084724212886497<extra></extra>\",\"criterion (CategoricalDistribution): 0.6950230114773718<extra></extra>\"],\"marker\":{\"color\":\"rgb(66,146,198)\"},\"orientation\":\"h\",\"text\":[\"0.0510181747079005\",\"0.1031115716858627\",\"0.15084724212886497\",\"0.6950230114773718\"],\"textposition\":\"outside\",\"texttemplate\":\"%{text:.2f}\",\"x\":[0.0510181747079005,0.1031115716858627,0.15084724212886497,0.6950230114773718],\"y\":[\"max_features\",\"n_estimators\",\"max_depth\",\"criterion\"],\"type\":\"bar\"}],                        {\"showlegend\":false,\"title\":{\"text\":\"Hyperparameter Importances\"},\"xaxis\":{\"title\":{\"text\":\"Importance for Objective Value\"}},\"yaxis\":{\"title\":{\"text\":\"Hyperparameter\"}},\"template\":{\"data\":{\"bar\":[{\"error_x\":{\"color\":\"#2a3f5f\"},\"error_y\":{\"color\":\"#2a3f5f\"},\"marker\":{\"line\":{\"color\":\"#E5ECF6\",\"width\":0.5},\"pattern\":{\"fillmode\":\"overlay\",\"size\":10,\"solidity\":0.2}},\"type\":\"bar\"}],\"barpolar\":[{\"marker\":{\"line\":{\"color\":\"#E5ECF6\",\"width\":0.5},\"pattern\":{\"fillmode\":\"overlay\",\"size\":10,\"solidity\":0.2}},\"type\":\"barpolar\"}],\"carpet\":[{\"aaxis\":{\"endlinecolor\":\"#2a3f5f\",\"gridcolor\":\"white\",\"linecolor\":\"white\",\"minorgridcolor\":\"white\",\"startlinecolor\":\"#2a3f5f\"},\"baxis\":{\"endlinecolor\":\"#2a3f5f\",\"gridcolor\":\"white\",\"linecolor\":\"white\",\"minorgridcolor\":\"white\",\"startlinecolor\":\"#2a3f5f\"},\"type\":\"carpet\"}],\"choropleth\":[{\"colorbar\":{\"outlinewidth\":0,\"ticks\":\"\"},\"type\":\"choropleth\"}],\"contour\":[{\"colorbar\":{\"outlinewidth\":0,\"ticks\":\"\"},\"colorscale\":[[0.0,\"#0d0887\"],[0.1111111111111111,\"#46039f\"],[0.2222222222222222,\"#7201a8\"],[0.3333333333333333,\"#9c179e\"],[0.4444444444444444,\"#bd3786\"],[0.5555555555555556,\"#d8576b\"],[0.6666666666666666,\"#ed7953\"],[0.7777777777777778,\"#fb9f3a\"],[0.8888888888888888,\"#fdca26\"],[1.0,\"#f0f921\"]],\"type\":\"contour\"}],\"contourcarpet\":[{\"colorbar\":{\"outlinewidth\":0,\"ticks\":\"\"},\"type\":\"contourcarpet\"}],\"heatmap\":[{\"colorbar\":{\"outlinewidth\":0,\"ticks\":\"\"},\"colorscale\":[[0.0,\"#0d0887\"],[0.1111111111111111,\"#46039f\"],[0.2222222222222222,\"#7201a8\"],[0.3333333333333333,\"#9c179e\"],[0.4444444444444444,\"#bd3786\"],[0.5555555555555556,\"#d8576b\"],[0.6666666666666666,\"#ed7953\"],[0.7777777777777778,\"#fb9f3a\"],[0.8888888888888888,\"#fdca26\"],[1.0,\"#f0f921\"]],\"type\":\"heatmap\"}],\"heatmapgl\":[{\"colorbar\":{\"outlinewidth\":0,\"ticks\":\"\"},\"colorscale\":[[0.0,\"#0d0887\"],[0.1111111111111111,\"#46039f\"],[0.2222222222222222,\"#7201a8\"],[0.3333333333333333,\"#9c179e\"],[0.4444444444444444,\"#bd3786\"],[0.5555555555555556,\"#d8576b\"],[0.6666666666666666,\"#ed7953\"],[0.7777777777777778,\"#fb9f3a\"],[0.8888888888888888,\"#fdca26\"],[1.0,\"#f0f921\"]],\"type\":\"heatmapgl\"}],\"histogram\":[{\"marker\":{\"pattern\":{\"fillmode\":\"overlay\",\"size\":10,\"solidity\":0.2}},\"type\":\"histogram\"}],\"histogram2d\":[{\"colorbar\":{\"outlinewidth\":0,\"ticks\":\"\"},\"colorscale\":[[0.0,\"#0d0887\"],[0.1111111111111111,\"#46039f\"],[0.2222222222222222,\"#7201a8\"],[0.3333333333333333,\"#9c179e\"],[0.4444444444444444,\"#bd3786\"],[0.5555555555555556,\"#d8576b\"],[0.6666666666666666,\"#ed7953\"],[0.7777777777777778,\"#fb9f3a\"],[0.8888888888888888,\"#fdca26\"],[1.0,\"#f0f921\"]],\"type\":\"histogram2d\"}],\"histogram2dcontour\":[{\"colorbar\":{\"outlinewidth\":0,\"ticks\":\"\"},\"colorscale\":[[0.0,\"#0d0887\"],[0.1111111111111111,\"#46039f\"],[0.2222222222222222,\"#7201a8\"],[0.3333333333333333,\"#9c179e\"],[0.4444444444444444,\"#bd3786\"],[0.5555555555555556,\"#d8576b\"],[0.6666666666666666,\"#ed7953\"],[0.7777777777777778,\"#fb9f3a\"],[0.8888888888888888,\"#fdca26\"],[1.0,\"#f0f921\"]],\"type\":\"histogram2dcontour\"}],\"mesh3d\":[{\"colorbar\":{\"outlinewidth\":0,\"ticks\":\"\"},\"type\":\"mesh3d\"}],\"parcoords\":[{\"line\":{\"colorbar\":{\"outlinewidth\":0,\"ticks\":\"\"}},\"type\":\"parcoords\"}],\"pie\":[{\"automargin\":true,\"type\":\"pie\"}],\"scatter\":[{\"marker\":{\"colorbar\":{\"outlinewidth\":0,\"ticks\":\"\"}},\"type\":\"scatter\"}],\"scatter3d\":[{\"line\":{\"colorbar\":{\"outlinewidth\":0,\"ticks\":\"\"}},\"marker\":{\"colorbar\":{\"outlinewidth\":0,\"ticks\":\"\"}},\"type\":\"scatter3d\"}],\"scattercarpet\":[{\"marker\":{\"colorbar\":{\"outlinewidth\":0,\"ticks\":\"\"}},\"type\":\"scattercarpet\"}],\"scattergeo\":[{\"marker\":{\"colorbar\":{\"outlinewidth\":0,\"ticks\":\"\"}},\"type\":\"scattergeo\"}],\"scattergl\":[{\"marker\":{\"colorbar\":{\"outlinewidth\":0,\"ticks\":\"\"}},\"type\":\"scattergl\"}],\"scattermapbox\":[{\"marker\":{\"colorbar\":{\"outlinewidth\":0,\"ticks\":\"\"}},\"type\":\"scattermapbox\"}],\"scatterpolar\":[{\"marker\":{\"colorbar\":{\"outlinewidth\":0,\"ticks\":\"\"}},\"type\":\"scatterpolar\"}],\"scatterpolargl\":[{\"marker\":{\"colorbar\":{\"outlinewidth\":0,\"ticks\":\"\"}},\"type\":\"scatterpolargl\"}],\"scatterternary\":[{\"marker\":{\"colorbar\":{\"outlinewidth\":0,\"ticks\":\"\"}},\"type\":\"scatterternary\"}],\"surface\":[{\"colorbar\":{\"outlinewidth\":0,\"ticks\":\"\"},\"colorscale\":[[0.0,\"#0d0887\"],[0.1111111111111111,\"#46039f\"],[0.2222222222222222,\"#7201a8\"],[0.3333333333333333,\"#9c179e\"],[0.4444444444444444,\"#bd3786\"],[0.5555555555555556,\"#d8576b\"],[0.6666666666666666,\"#ed7953\"],[0.7777777777777778,\"#fb9f3a\"],[0.8888888888888888,\"#fdca26\"],[1.0,\"#f0f921\"]],\"type\":\"surface\"}],\"table\":[{\"cells\":{\"fill\":{\"color\":\"#EBF0F8\"},\"line\":{\"color\":\"white\"}},\"header\":{\"fill\":{\"color\":\"#C8D4E3\"},\"line\":{\"color\":\"white\"}},\"type\":\"table\"}]},\"layout\":{\"annotationdefaults\":{\"arrowcolor\":\"#2a3f5f\",\"arrowhead\":0,\"arrowwidth\":1},\"autotypenumbers\":\"strict\",\"coloraxis\":{\"colorbar\":{\"outlinewidth\":0,\"ticks\":\"\"}},\"colorscale\":{\"diverging\":[[0,\"#8e0152\"],[0.1,\"#c51b7d\"],[0.2,\"#de77ae\"],[0.3,\"#f1b6da\"],[0.4,\"#fde0ef\"],[0.5,\"#f7f7f7\"],[0.6,\"#e6f5d0\"],[0.7,\"#b8e186\"],[0.8,\"#7fbc41\"],[0.9,\"#4d9221\"],[1,\"#276419\"]],\"sequential\":[[0.0,\"#0d0887\"],[0.1111111111111111,\"#46039f\"],[0.2222222222222222,\"#7201a8\"],[0.3333333333333333,\"#9c179e\"],[0.4444444444444444,\"#bd3786\"],[0.5555555555555556,\"#d8576b\"],[0.6666666666666666,\"#ed7953\"],[0.7777777777777778,\"#fb9f3a\"],[0.8888888888888888,\"#fdca26\"],[1.0,\"#f0f921\"]],\"sequentialminus\":[[0.0,\"#0d0887\"],[0.1111111111111111,\"#46039f\"],[0.2222222222222222,\"#7201a8\"],[0.3333333333333333,\"#9c179e\"],[0.4444444444444444,\"#bd3786\"],[0.5555555555555556,\"#d8576b\"],[0.6666666666666666,\"#ed7953\"],[0.7777777777777778,\"#fb9f3a\"],[0.8888888888888888,\"#fdca26\"],[1.0,\"#f0f921\"]]},\"colorway\":[\"#636efa\",\"#EF553B\",\"#00cc96\",\"#ab63fa\",\"#FFA15A\",\"#19d3f3\",\"#FF6692\",\"#B6E880\",\"#FF97FF\",\"#FECB52\"],\"font\":{\"color\":\"#2a3f5f\"},\"geo\":{\"bgcolor\":\"white\",\"lakecolor\":\"white\",\"landcolor\":\"#E5ECF6\",\"showlakes\":true,\"showland\":true,\"subunitcolor\":\"white\"},\"hoverlabel\":{\"align\":\"left\"},\"hovermode\":\"closest\",\"mapbox\":{\"style\":\"light\"},\"paper_bgcolor\":\"white\",\"plot_bgcolor\":\"#E5ECF6\",\"polar\":{\"angularaxis\":{\"gridcolor\":\"white\",\"linecolor\":\"white\",\"ticks\":\"\"},\"bgcolor\":\"#E5ECF6\",\"radialaxis\":{\"gridcolor\":\"white\",\"linecolor\":\"white\",\"ticks\":\"\"}},\"scene\":{\"xaxis\":{\"backgroundcolor\":\"#E5ECF6\",\"gridcolor\":\"white\",\"gridwidth\":2,\"linecolor\":\"white\",\"showbackground\":true,\"ticks\":\"\",\"zerolinecolor\":\"white\"},\"yaxis\":{\"backgroundcolor\":\"#E5ECF6\",\"gridcolor\":\"white\",\"gridwidth\":2,\"linecolor\":\"white\",\"showbackground\":true,\"ticks\":\"\",\"zerolinecolor\":\"white\"},\"zaxis\":{\"backgroundcolor\":\"#E5ECF6\",\"gridcolor\":\"white\",\"gridwidth\":2,\"linecolor\":\"white\",\"showbackground\":true,\"ticks\":\"\",\"zerolinecolor\":\"white\"}},\"shapedefaults\":{\"line\":{\"color\":\"#2a3f5f\"}},\"ternary\":{\"aaxis\":{\"gridcolor\":\"white\",\"linecolor\":\"white\",\"ticks\":\"\"},\"baxis\":{\"gridcolor\":\"white\",\"linecolor\":\"white\",\"ticks\":\"\"},\"bgcolor\":\"#E5ECF6\",\"caxis\":{\"gridcolor\":\"white\",\"linecolor\":\"white\",\"ticks\":\"\"}},\"title\":{\"x\":0.05},\"xaxis\":{\"automargin\":true,\"gridcolor\":\"white\",\"linecolor\":\"white\",\"ticks\":\"\",\"title\":{\"standoff\":15},\"zerolinecolor\":\"white\",\"zerolinewidth\":2},\"yaxis\":{\"automargin\":true,\"gridcolor\":\"white\",\"linecolor\":\"white\",\"ticks\":\"\",\"title\":{\"standoff\":15},\"zerolinecolor\":\"white\",\"zerolinewidth\":2}}},\"width\":600,\"height\":350},                        {\"responsive\": true}                    ).then(function(){\n",
       "                            \n",
       "var gd = document.getElementById('d789ccde-4f91-4ef0-822e-83760019a3b2');\n",
       "var x = new MutationObserver(function (mutations, observer) {{\n",
       "        var display = window.getComputedStyle(gd).display;\n",
       "        if (!display || display === 'none') {{\n",
       "            console.log([gd, 'removed!']);\n",
       "            Plotly.purge(gd);\n",
       "            observer.disconnect();\n",
       "        }}\n",
       "}});\n",
       "\n",
       "// Listen for the removal of the full notebook cells\n",
       "var notebookContainer = gd.closest('#notebook-container');\n",
       "if (notebookContainer) {{\n",
       "    x.observe(notebookContainer, {childList: true});\n",
       "}}\n",
       "\n",
       "// Listen for the clearing of the current output cell\n",
       "var outputEl = gd.closest('.output');\n",
       "if (outputEl) {{\n",
       "    x.observe(outputEl, {childList: true});\n",
       "}}\n",
       "\n",
       "                        })                };                });            </script>        </div>"
      ]
     },
     "metadata": {},
     "output_type": "display_data"
    }
   ],
   "source": [
    "fig = optuna.visualization.plot_param_importances(study)\n",
    "fig.update_layout(width=600, height=350)\n",
    "fig.show()"
   ]
  },
  {
   "cell_type": "markdown",
   "id": "87385ea2",
   "metadata": {
    "id": "q1pnFEAUcMwx",
    "papermill": {
     "duration": 0.062565,
     "end_time": "2022-01-09T16:47:39.286198",
     "exception": false,
     "start_time": "2022-01-09T16:47:39.223633",
     "status": "completed"
    },
    "tags": []
   },
   "source": [
    "To visualize interactions between any pair of hyperparameters, we can generate **contour plots** where regions of *low* objective value are darker in color."
   ]
  },
  {
   "cell_type": "code",
   "execution_count": 12,
   "id": "6b74df91",
   "metadata": {
    "execution": {
     "iopub.execute_input": "2022-01-09T16:47:39.426922Z",
     "iopub.status.busy": "2022-01-09T16:47:39.422919Z",
     "iopub.status.idle": "2022-01-09T16:47:39.478913Z",
     "shell.execute_reply": "2022-01-09T16:47:39.478351Z",
     "shell.execute_reply.started": "2022-01-08T17:25:40.076758Z"
    },
    "papermill": {
     "duration": 0.130939,
     "end_time": "2022-01-09T16:47:39.479038",
     "exception": false,
     "start_time": "2022-01-09T16:47:39.348099",
     "status": "completed"
    },
    "tags": []
   },
   "outputs": [
    {
     "data": {
      "text/html": [
       "<div>                            <div id=\"576a9825-a178-45c6-9216-77fbcbf22645\" class=\"plotly-graph-div\" style=\"height:500px; width:600px;\"></div>            <script type=\"text/javascript\">                require([\"plotly\"], function(Plotly) {                    window.PLOTLYENV=window.PLOTLYENV || {};                                    if (document.getElementById(\"576a9825-a178-45c6-9216-77fbcbf22645\")) {                    Plotly.newPlot(                        \"576a9825-a178-45c6-9216-77fbcbf22645\",                        [{\"colorbar\":{\"title\":{\"text\":\"Objective Value\"}},\"colorscale\":[[0,\"rgb(5,10,172)\"],[0.35,\"rgb(40,60,190)\"],[0.5,\"rgb(70,100,245)\"],[0.6,\"rgb(90,120,245)\"],[0.7,\"rgb(106,137,247)\"],[1,\"rgb(220,220,220)\"]],\"connectgaps\":true,\"contours\":{\"coloring\":\"heatmap\"},\"hoverinfo\":\"none\",\"line\":{\"smoothing\":1.3},\"reversescale\":false,\"x\":[\"entropy\",\"gini\"],\"y\":[65.05,100,105,106,107,112,116,120,121,123,130,132,139,140,144,147,156,158,160,161,165,169,181,185,186,200,207,210,217,233,234,236,253,259,262,266,281,282,295,307,323,329,347,353,370,383,390,394,395,424,425,466,483,504,515,586,596,679,688,752,799,833.95],\"z\":[[null,null],[null,0.959633597267505],[0.968390001552554,null],[0.9578481602235677,null],[0.9648657040832168,null],[null,0.959633597267505],[0.95960254618848,null],[null,0.9455364073901567],[0.9630957925787922,null],[null,0.9543393882937432],[0.9648657040832169,null],[0.95960254618848,null],[0.968390001552554,null],[0.9666200900481293,null],[0.9631113181183046,null],[0.9666200900481293,null],[0.968390001552554,null],[0.9666356155876418,null],[0.9648657040832169,null],[0.968390001552554,null],[0.9648657040832169,null],[0.968390001552554,null],[null,0.9561248253376805],[0.9648812296227295,null],[null,0.9631268436578171],[null,0.9596180717279925],[0.9666200900481291,null],[null,0.9578636857630801],[null,0.9490607048594939],[0.9631268436578171,null],[0.9631113181183046,null],[0.9648657040832168,null],[0.968390001552554,null],[0.9648812296227295,null],[0.9683744760130415,null],[0.968390001552554,null],[0.9648657040832169,null],[0.9683900015525542,null],[0.9666356155876418,null],[0.9666356155876418,null],[0.9648657040832169,null],[0.9613569321533924,null],[0.9631113181183046,null],[0.9666356155876418,null],[0.9666200900481291,null],[0.9666200900481291,null],[0.9683900015525542,null],[0.9631113181183046,null],[null,0.9525694767893184],[0.9648657040832169,null],[0.9648657040832169,null],[0.9666200900481291,null],[0.9666356155876418,null],[0.9648657040832168,null],[0.9648657040832169,null],[0.9648657040832169,null],[0.9701443875174661,null],[0.9648657040832169,null],[null,0.95960254618848],[0.9578326346840553,null],[null,0.9596180717279925],[null,null]],\"type\":\"contour\"},{\"marker\":{\"color\":\"black\",\"line\":{\"color\":\"Grey\",\"width\":0.5}},\"mode\":\"markers\",\"showlegend\":false,\"x\":[\"entropy\",\"gini\",\"entropy\",\"gini\",\"gini\",\"gini\",\"gini\",\"gini\",\"entropy\",\"gini\",\"entropy\",\"entropy\",\"entropy\",\"entropy\",\"entropy\",\"entropy\",\"entropy\",\"entropy\",\"entropy\",\"entropy\",\"entropy\",\"entropy\",\"entropy\",\"entropy\",\"entropy\",\"entropy\",\"entropy\",\"entropy\",\"entropy\",\"entropy\",\"entropy\",\"entropy\",\"entropy\",\"entropy\",\"entropy\",\"entropy\",\"gini\",\"entropy\",\"gini\",\"entropy\",\"gini\",\"entropy\",\"entropy\",\"entropy\",\"entropy\",\"entropy\",\"entropy\",\"gini\",\"entropy\",\"entropy\",\"entropy\",\"entropy\",\"entropy\",\"entropy\",\"entropy\",\"entropy\",\"entropy\",\"gini\",\"entropy\",\"entropy\"],\"y\":[353,217,679,688,123,799,120,395,107,186,390,383,394,295,515,266,207,259,158,504,282,281,307,483,262,233,161,160,329,156,466,347,185,144,139,130,181,586,112,234,210,140,165,424,105,116,132,100,106,121,752,253,370,147,425,323,236,200,169,596],\"type\":\"scatter\"}],                        {\"title\":{\"text\":\"Contour Plot\"},\"template\":{\"data\":{\"bar\":[{\"error_x\":{\"color\":\"#2a3f5f\"},\"error_y\":{\"color\":\"#2a3f5f\"},\"marker\":{\"line\":{\"color\":\"#E5ECF6\",\"width\":0.5},\"pattern\":{\"fillmode\":\"overlay\",\"size\":10,\"solidity\":0.2}},\"type\":\"bar\"}],\"barpolar\":[{\"marker\":{\"line\":{\"color\":\"#E5ECF6\",\"width\":0.5},\"pattern\":{\"fillmode\":\"overlay\",\"size\":10,\"solidity\":0.2}},\"type\":\"barpolar\"}],\"carpet\":[{\"aaxis\":{\"endlinecolor\":\"#2a3f5f\",\"gridcolor\":\"white\",\"linecolor\":\"white\",\"minorgridcolor\":\"white\",\"startlinecolor\":\"#2a3f5f\"},\"baxis\":{\"endlinecolor\":\"#2a3f5f\",\"gridcolor\":\"white\",\"linecolor\":\"white\",\"minorgridcolor\":\"white\",\"startlinecolor\":\"#2a3f5f\"},\"type\":\"carpet\"}],\"choropleth\":[{\"colorbar\":{\"outlinewidth\":0,\"ticks\":\"\"},\"type\":\"choropleth\"}],\"contour\":[{\"colorbar\":{\"outlinewidth\":0,\"ticks\":\"\"},\"colorscale\":[[0.0,\"#0d0887\"],[0.1111111111111111,\"#46039f\"],[0.2222222222222222,\"#7201a8\"],[0.3333333333333333,\"#9c179e\"],[0.4444444444444444,\"#bd3786\"],[0.5555555555555556,\"#d8576b\"],[0.6666666666666666,\"#ed7953\"],[0.7777777777777778,\"#fb9f3a\"],[0.8888888888888888,\"#fdca26\"],[1.0,\"#f0f921\"]],\"type\":\"contour\"}],\"contourcarpet\":[{\"colorbar\":{\"outlinewidth\":0,\"ticks\":\"\"},\"type\":\"contourcarpet\"}],\"heatmap\":[{\"colorbar\":{\"outlinewidth\":0,\"ticks\":\"\"},\"colorscale\":[[0.0,\"#0d0887\"],[0.1111111111111111,\"#46039f\"],[0.2222222222222222,\"#7201a8\"],[0.3333333333333333,\"#9c179e\"],[0.4444444444444444,\"#bd3786\"],[0.5555555555555556,\"#d8576b\"],[0.6666666666666666,\"#ed7953\"],[0.7777777777777778,\"#fb9f3a\"],[0.8888888888888888,\"#fdca26\"],[1.0,\"#f0f921\"]],\"type\":\"heatmap\"}],\"heatmapgl\":[{\"colorbar\":{\"outlinewidth\":0,\"ticks\":\"\"},\"colorscale\":[[0.0,\"#0d0887\"],[0.1111111111111111,\"#46039f\"],[0.2222222222222222,\"#7201a8\"],[0.3333333333333333,\"#9c179e\"],[0.4444444444444444,\"#bd3786\"],[0.5555555555555556,\"#d8576b\"],[0.6666666666666666,\"#ed7953\"],[0.7777777777777778,\"#fb9f3a\"],[0.8888888888888888,\"#fdca26\"],[1.0,\"#f0f921\"]],\"type\":\"heatmapgl\"}],\"histogram\":[{\"marker\":{\"pattern\":{\"fillmode\":\"overlay\",\"size\":10,\"solidity\":0.2}},\"type\":\"histogram\"}],\"histogram2d\":[{\"colorbar\":{\"outlinewidth\":0,\"ticks\":\"\"},\"colorscale\":[[0.0,\"#0d0887\"],[0.1111111111111111,\"#46039f\"],[0.2222222222222222,\"#7201a8\"],[0.3333333333333333,\"#9c179e\"],[0.4444444444444444,\"#bd3786\"],[0.5555555555555556,\"#d8576b\"],[0.6666666666666666,\"#ed7953\"],[0.7777777777777778,\"#fb9f3a\"],[0.8888888888888888,\"#fdca26\"],[1.0,\"#f0f921\"]],\"type\":\"histogram2d\"}],\"histogram2dcontour\":[{\"colorbar\":{\"outlinewidth\":0,\"ticks\":\"\"},\"colorscale\":[[0.0,\"#0d0887\"],[0.1111111111111111,\"#46039f\"],[0.2222222222222222,\"#7201a8\"],[0.3333333333333333,\"#9c179e\"],[0.4444444444444444,\"#bd3786\"],[0.5555555555555556,\"#d8576b\"],[0.6666666666666666,\"#ed7953\"],[0.7777777777777778,\"#fb9f3a\"],[0.8888888888888888,\"#fdca26\"],[1.0,\"#f0f921\"]],\"type\":\"histogram2dcontour\"}],\"mesh3d\":[{\"colorbar\":{\"outlinewidth\":0,\"ticks\":\"\"},\"type\":\"mesh3d\"}],\"parcoords\":[{\"line\":{\"colorbar\":{\"outlinewidth\":0,\"ticks\":\"\"}},\"type\":\"parcoords\"}],\"pie\":[{\"automargin\":true,\"type\":\"pie\"}],\"scatter\":[{\"marker\":{\"colorbar\":{\"outlinewidth\":0,\"ticks\":\"\"}},\"type\":\"scatter\"}],\"scatter3d\":[{\"line\":{\"colorbar\":{\"outlinewidth\":0,\"ticks\":\"\"}},\"marker\":{\"colorbar\":{\"outlinewidth\":0,\"ticks\":\"\"}},\"type\":\"scatter3d\"}],\"scattercarpet\":[{\"marker\":{\"colorbar\":{\"outlinewidth\":0,\"ticks\":\"\"}},\"type\":\"scattercarpet\"}],\"scattergeo\":[{\"marker\":{\"colorbar\":{\"outlinewidth\":0,\"ticks\":\"\"}},\"type\":\"scattergeo\"}],\"scattergl\":[{\"marker\":{\"colorbar\":{\"outlinewidth\":0,\"ticks\":\"\"}},\"type\":\"scattergl\"}],\"scattermapbox\":[{\"marker\":{\"colorbar\":{\"outlinewidth\":0,\"ticks\":\"\"}},\"type\":\"scattermapbox\"}],\"scatterpolar\":[{\"marker\":{\"colorbar\":{\"outlinewidth\":0,\"ticks\":\"\"}},\"type\":\"scatterpolar\"}],\"scatterpolargl\":[{\"marker\":{\"colorbar\":{\"outlinewidth\":0,\"ticks\":\"\"}},\"type\":\"scatterpolargl\"}],\"scatterternary\":[{\"marker\":{\"colorbar\":{\"outlinewidth\":0,\"ticks\":\"\"}},\"type\":\"scatterternary\"}],\"surface\":[{\"colorbar\":{\"outlinewidth\":0,\"ticks\":\"\"},\"colorscale\":[[0.0,\"#0d0887\"],[0.1111111111111111,\"#46039f\"],[0.2222222222222222,\"#7201a8\"],[0.3333333333333333,\"#9c179e\"],[0.4444444444444444,\"#bd3786\"],[0.5555555555555556,\"#d8576b\"],[0.6666666666666666,\"#ed7953\"],[0.7777777777777778,\"#fb9f3a\"],[0.8888888888888888,\"#fdca26\"],[1.0,\"#f0f921\"]],\"type\":\"surface\"}],\"table\":[{\"cells\":{\"fill\":{\"color\":\"#EBF0F8\"},\"line\":{\"color\":\"white\"}},\"header\":{\"fill\":{\"color\":\"#C8D4E3\"},\"line\":{\"color\":\"white\"}},\"type\":\"table\"}]},\"layout\":{\"annotationdefaults\":{\"arrowcolor\":\"#2a3f5f\",\"arrowhead\":0,\"arrowwidth\":1},\"autotypenumbers\":\"strict\",\"coloraxis\":{\"colorbar\":{\"outlinewidth\":0,\"ticks\":\"\"}},\"colorscale\":{\"diverging\":[[0,\"#8e0152\"],[0.1,\"#c51b7d\"],[0.2,\"#de77ae\"],[0.3,\"#f1b6da\"],[0.4,\"#fde0ef\"],[0.5,\"#f7f7f7\"],[0.6,\"#e6f5d0\"],[0.7,\"#b8e186\"],[0.8,\"#7fbc41\"],[0.9,\"#4d9221\"],[1,\"#276419\"]],\"sequential\":[[0.0,\"#0d0887\"],[0.1111111111111111,\"#46039f\"],[0.2222222222222222,\"#7201a8\"],[0.3333333333333333,\"#9c179e\"],[0.4444444444444444,\"#bd3786\"],[0.5555555555555556,\"#d8576b\"],[0.6666666666666666,\"#ed7953\"],[0.7777777777777778,\"#fb9f3a\"],[0.8888888888888888,\"#fdca26\"],[1.0,\"#f0f921\"]],\"sequentialminus\":[[0.0,\"#0d0887\"],[0.1111111111111111,\"#46039f\"],[0.2222222222222222,\"#7201a8\"],[0.3333333333333333,\"#9c179e\"],[0.4444444444444444,\"#bd3786\"],[0.5555555555555556,\"#d8576b\"],[0.6666666666666666,\"#ed7953\"],[0.7777777777777778,\"#fb9f3a\"],[0.8888888888888888,\"#fdca26\"],[1.0,\"#f0f921\"]]},\"colorway\":[\"#636efa\",\"#EF553B\",\"#00cc96\",\"#ab63fa\",\"#FFA15A\",\"#19d3f3\",\"#FF6692\",\"#B6E880\",\"#FF97FF\",\"#FECB52\"],\"font\":{\"color\":\"#2a3f5f\"},\"geo\":{\"bgcolor\":\"white\",\"lakecolor\":\"white\",\"landcolor\":\"#E5ECF6\",\"showlakes\":true,\"showland\":true,\"subunitcolor\":\"white\"},\"hoverlabel\":{\"align\":\"left\"},\"hovermode\":\"closest\",\"mapbox\":{\"style\":\"light\"},\"paper_bgcolor\":\"white\",\"plot_bgcolor\":\"#E5ECF6\",\"polar\":{\"angularaxis\":{\"gridcolor\":\"white\",\"linecolor\":\"white\",\"ticks\":\"\"},\"bgcolor\":\"#E5ECF6\",\"radialaxis\":{\"gridcolor\":\"white\",\"linecolor\":\"white\",\"ticks\":\"\"}},\"scene\":{\"xaxis\":{\"backgroundcolor\":\"#E5ECF6\",\"gridcolor\":\"white\",\"gridwidth\":2,\"linecolor\":\"white\",\"showbackground\":true,\"ticks\":\"\",\"zerolinecolor\":\"white\"},\"yaxis\":{\"backgroundcolor\":\"#E5ECF6\",\"gridcolor\":\"white\",\"gridwidth\":2,\"linecolor\":\"white\",\"showbackground\":true,\"ticks\":\"\",\"zerolinecolor\":\"white\"},\"zaxis\":{\"backgroundcolor\":\"#E5ECF6\",\"gridcolor\":\"white\",\"gridwidth\":2,\"linecolor\":\"white\",\"showbackground\":true,\"ticks\":\"\",\"zerolinecolor\":\"white\"}},\"shapedefaults\":{\"line\":{\"color\":\"#2a3f5f\"}},\"ternary\":{\"aaxis\":{\"gridcolor\":\"white\",\"linecolor\":\"white\",\"ticks\":\"\"},\"baxis\":{\"gridcolor\":\"white\",\"linecolor\":\"white\",\"ticks\":\"\"},\"bgcolor\":\"#E5ECF6\",\"caxis\":{\"gridcolor\":\"white\",\"linecolor\":\"white\",\"ticks\":\"\"}},\"title\":{\"x\":0.05},\"xaxis\":{\"automargin\":true,\"gridcolor\":\"white\",\"linecolor\":\"white\",\"ticks\":\"\",\"title\":{\"standoff\":15},\"zerolinecolor\":\"white\",\"zerolinewidth\":2},\"yaxis\":{\"automargin\":true,\"gridcolor\":\"white\",\"linecolor\":\"white\",\"ticks\":\"\",\"title\":{\"standoff\":15},\"zerolinecolor\":\"white\",\"zerolinewidth\":2}}},\"xaxis\":{\"title\":{\"text\":\"criterion\"},\"range\":[-0.05,1.05],\"type\":\"category\"},\"yaxis\":{\"title\":{\"text\":\"n_estimators\"},\"range\":[65.05,833.95]},\"width\":600,\"height\":500},                        {\"responsive\": true}                    ).then(function(){\n",
       "                            \n",
       "var gd = document.getElementById('576a9825-a178-45c6-9216-77fbcbf22645');\n",
       "var x = new MutationObserver(function (mutations, observer) {{\n",
       "        var display = window.getComputedStyle(gd).display;\n",
       "        if (!display || display === 'none') {{\n",
       "            console.log([gd, 'removed!']);\n",
       "            Plotly.purge(gd);\n",
       "            observer.disconnect();\n",
       "        }}\n",
       "}});\n",
       "\n",
       "// Listen for the removal of the full notebook cells\n",
       "var notebookContainer = gd.closest('#notebook-container');\n",
       "if (notebookContainer) {{\n",
       "    x.observe(notebookContainer, {childList: true});\n",
       "}}\n",
       "\n",
       "// Listen for the clearing of the current output cell\n",
       "var outputEl = gd.closest('.output');\n",
       "if (outputEl) {{\n",
       "    x.observe(outputEl, {childList: true});\n",
       "}}\n",
       "\n",
       "                        })                };                });            </script>        </div>"
      ]
     },
     "metadata": {},
     "output_type": "display_data"
    }
   ],
   "source": [
    "fig = optuna.visualization.plot_contour(study, params=[\"criterion\", \"n_estimators\"])\n",
    "fig.update_layout(width=600, height=500)"
   ]
  },
  {
   "cell_type": "markdown",
   "id": "f8910f20",
   "metadata": {
    "id": "RoOMjA7fcMw2",
    "papermill": {
     "duration": 0.062505,
     "end_time": "2022-01-09T16:47:39.734954",
     "exception": false,
     "start_time": "2022-01-09T16:47:39.672449",
     "status": "completed"
    },
    "tags": []
   },
   "source": [
    "## Neural networks"
   ]
  },
  {
   "cell_type": "markdown",
   "id": "fbfb7038",
   "metadata": {
    "id": "uFQlLZWfcMw2",
    "papermill": {
     "duration": 0.063064,
     "end_time": "2022-01-09T16:47:39.861064",
     "exception": false,
     "start_time": "2022-01-09T16:47:39.798000",
     "status": "completed"
    },
    "tags": []
   },
   "source": [
    "As noted above, we should always perform tuning within a cross-validation framework. However, with neural networks, doing 5-fold CV would require too much compute time &mdash; hence, too much resources, e.g. GPU usage. Instead, we perform tuning on a hold-out validation set and hope for the best. "
   ]
  },
  {
   "cell_type": "code",
   "execution_count": 13,
   "id": "d0f535cd",
   "metadata": {
    "execution": {
     "iopub.execute_input": "2022-01-09T16:47:39.993946Z",
     "iopub.status.busy": "2022-01-09T16:47:39.993220Z",
     "iopub.status.idle": "2022-01-09T16:47:41.513255Z",
     "shell.execute_reply": "2022-01-09T16:47:41.514274Z",
     "shell.execute_reply.started": "2022-01-08T17:25:40.109391Z"
    },
    "id": "nmb20AphcMw2",
    "papermill": {
     "duration": 1.590182,
     "end_time": "2022-01-09T16:47:41.514443",
     "exception": false,
     "start_time": "2022-01-09T16:47:39.924261",
     "status": "completed"
    },
    "tags": []
   },
   "outputs": [],
   "source": [
    "import torch\n",
    "import torch.nn as nn\n",
    "import torch.optim as optim\n",
    "import torch.nn.functional as F\n",
    "import torchvision.transforms as transforms\n",
    "import torchvision.datasets as datasets\n",
    "from torch.utils import data\n",
    "\n",
    "from tqdm import tqdm\n",
    "import optuna\n",
    "import numpy as np\n",
    "\n",
    "PATIENCE = 5\n",
    "EPOCHS = 100\n",
    "DEVICE = torch.device(\"cuda\") if torch.cuda.is_available() else torch.device(\"cpu\")"
   ]
  },
  {
   "cell_type": "markdown",
   "id": "1e00b921",
   "metadata": {
    "id": "6r6ehhdjcMw3",
    "papermill": {
     "duration": 0.062227,
     "end_time": "2022-01-09T16:47:41.641387",
     "exception": false,
     "start_time": "2022-01-09T16:47:41.579160",
     "status": "completed"
    },
    "tags": []
   },
   "source": [
    "Define a convolutional network with a smaller version of the VGG architecture."
   ]
  },
  {
   "cell_type": "code",
   "execution_count": 14,
   "id": "bdbb935b",
   "metadata": {
    "execution": {
     "iopub.execute_input": "2022-01-09T16:47:41.776065Z",
     "iopub.status.busy": "2022-01-09T16:47:41.775230Z",
     "iopub.status.idle": "2022-01-09T16:47:41.776975Z",
     "shell.execute_reply": "2022-01-09T16:47:41.777470Z",
     "shell.execute_reply.started": "2022-01-08T17:25:40.122672Z"
    },
    "id": "JsALWtW9cMw4",
    "papermill": {
     "duration": 0.07391,
     "end_time": "2022-01-09T16:47:41.777616",
     "exception": false,
     "start_time": "2022-01-09T16:47:41.703706",
     "status": "completed"
    },
    "tags": []
   },
   "outputs": [],
   "source": [
    "# https://d2l.ai/chapter_convolutional-modern/vgg.html\n",
    "\n",
    "def vgg_block(num_convs, in_channels, out_channels):\n",
    "    layers = []\n",
    "    for _ in range(num_convs):\n",
    "        layers.append(nn.Conv2d(in_channels, out_channels,\n",
    "                                kernel_size=3, padding=1))\n",
    "        layers.append(nn.ReLU())\n",
    "        in_channels = out_channels\n",
    "    layers.append(nn.MaxPool2d(kernel_size=2,stride=2))\n",
    "    return nn.Sequential(*layers)\n",
    "\n",
    "\n",
    "def vgg(conv_arch, linear_width, dropout, in_channels=3):\n",
    "    conv_blks = []\n",
    "    # The convolutional part\n",
    "    for (num_convs, out_channels) in conv_arch:\n",
    "        conv_blks.append(vgg_block(num_convs, in_channels, out_channels))\n",
    "        in_channels = out_channels\n",
    "\n",
    "    height, width = 6, 6\n",
    "    dense_layers = [\n",
    "        nn.AdaptiveAvgPool2d((height, width)),\n",
    "        nn.Flatten(),\n",
    "        nn.Linear(out_channels * height * width, linear_width),\n",
    "        nn.ReLU(), nn.Dropout(dropout),\n",
    "        nn.Linear(linear_width, linear_width),\n",
    "        nn.ReLU(), nn.Dropout(dropout),\n",
    "        nn.Linear(linear_width, 10)\n",
    "    ]\n",
    "    return nn.Sequential(*(conv_blks + dense_layers))"
   ]
  },
  {
   "cell_type": "markdown",
   "id": "33a04c03",
   "metadata": {
    "id": "SBCd4FoBcMw6",
    "papermill": {
     "duration": 0.062342,
     "end_time": "2022-01-09T16:47:41.902117",
     "exception": false,
     "start_time": "2022-01-09T16:47:41.839775",
     "status": "completed"
    },
    "tags": []
   },
   "source": [
    "We also define a `Dataset` class for CIFAR-10."
   ]
  },
  {
   "cell_type": "code",
   "execution_count": 15,
   "id": "fde8692a",
   "metadata": {
    "execution": {
     "iopub.execute_input": "2022-01-09T16:47:42.053450Z",
     "iopub.status.busy": "2022-01-09T16:47:42.052822Z",
     "iopub.status.idle": "2022-01-09T16:47:47.810777Z",
     "shell.execute_reply": "2022-01-09T16:47:47.809850Z",
     "shell.execute_reply.started": "2022-01-08T17:25:40.138339Z"
    },
    "id": "R_Hp-YoCcMw6",
    "papermill": {
     "duration": 5.838566,
     "end_time": "2022-01-09T16:47:47.810935",
     "exception": false,
     "start_time": "2022-01-09T16:47:41.972369",
     "status": "completed"
    },
    "tags": []
   },
   "outputs": [
    {
     "name": "stdout",
     "output_type": "stream",
     "text": [
      "Downloading https://www.cs.toronto.edu/~kriz/cifar-10-python.tar.gz to ./cifar-10-python.tar.gz\n"
     ]
    },
    {
     "data": {
      "application/vnd.jupyter.widget-view+json": {
       "model_id": "f526ee1acb344c17a1fa5c35271c0255",
       "version_major": 2,
       "version_minor": 0
      },
      "text/plain": [
       "  0%|          | 0/170498071 [00:00<?, ?it/s]"
      ]
     },
     "metadata": {},
     "output_type": "display_data"
    },
    {
     "name": "stdout",
     "output_type": "stream",
     "text": [
      "Extracting ./cifar-10-python.tar.gz to .\n",
      "Files already downloaded and verified\n"
     ]
    }
   ],
   "source": [
    "transform = [transforms.ToTensor()]\n",
    "if CIFAR10_RESIZE:\n",
    "    transform.insert(0, transforms.Resize(CIFAR10_RESIZE))\n",
    "transform = transforms.Compose(transform)\n",
    "\n",
    "mnist_train = datasets.CIFAR10(root=\".\", train=True,  transform=transform, download=True)\n",
    "mnist_valid = datasets.CIFAR10(root=\".\", train=False, transform=transform, download=True)\n",
    "\n",
    "\n",
    "def get_cifar10_dataloaders(batch_size, resize, sample_ratio=1.0):\n",
    "    train_loader = data.DataLoader(mnist_train, \n",
    "                                   batch_size, \n",
    "                                   drop_last=True, \n",
    "                                   sampler=range(int(len(mnist_train)*sample_ratio)))\n",
    "    \n",
    "    valid_loader = data.DataLoader(mnist_valid, \n",
    "                                   batch_size, \n",
    "                                   drop_last=True, \n",
    "                                   sampler=range(int(len(mnist_valid)*sample_ratio)))\n",
    "    \n",
    "    return train_loader, valid_loader"
   ]
  },
  {
   "cell_type": "markdown",
   "id": "d057bf7e",
   "metadata": {
    "id": "U7GrtPtEcMw6",
    "papermill": {
     "duration": 0.064096,
     "end_time": "2022-01-09T16:47:47.940712",
     "exception": false,
     "start_time": "2022-01-09T16:47:47.876616",
     "status": "completed"
    },
    "tags": []
   },
   "source": [
    "Define a trainer for the neural network model. This will handle all loss and metric evaluation, as well as backpropagation."
   ]
  },
  {
   "cell_type": "code",
   "execution_count": 16,
   "id": "664cc02d",
   "metadata": {
    "execution": {
     "iopub.execute_input": "2022-01-09T16:47:48.167831Z",
     "iopub.status.busy": "2022-01-09T16:47:48.166963Z",
     "iopub.status.idle": "2022-01-09T16:47:48.171294Z",
     "shell.execute_reply": "2022-01-09T16:47:48.171980Z",
     "shell.execute_reply.started": "2022-01-08T17:25:42.014133Z"
    },
    "id": "BJ30iSjfcMw7",
    "papermill": {
     "duration": 0.134755,
     "end_time": "2022-01-09T16:47:48.172177",
     "exception": false,
     "start_time": "2022-01-09T16:47:48.037422",
     "status": "completed"
    },
    "tags": []
   },
   "outputs": [],
   "source": [
    "class Engine:\n",
    "    \"\"\"Facilitate neural network training and evaluation.\"\"\"\n",
    "    \n",
    "    def __init__(self, model, device, optimizer):\n",
    "        self.model = model\n",
    "        self.device = device\n",
    "        self.optimizer = optimizer \n",
    "\n",
    "    @staticmethod\n",
    "    def loss_fn(outputs, targets):\n",
    "        return nn.CrossEntropyLoss()(outputs, targets)\n",
    "        \n",
    "    def train(self, data_loader):\n",
    "        \"\"\"Train model on one epoch. Return train loss.\"\"\"\n",
    "        \n",
    "        self.model.train()\n",
    "        loss = 0\n",
    "        for i, (data, targets) in enumerate(data_loader):\n",
    "            data = data.to(self.device).float()\n",
    "            targets = targets.to(self.device).long()\n",
    "            \n",
    "            # Forward pass\n",
    "            outputs = self.model(data)\n",
    "            J = self.loss_fn(outputs, targets)\n",
    "            \n",
    "            # Backward pass\n",
    "            self.optimizer.zero_grad()\n",
    "            J.backward()\n",
    "            self.optimizer.step()\n",
    "\n",
    "            # Cumulative loss\n",
    "            loss += (J.detach().item() - loss) / (i + 1)\n",
    "\n",
    "        return loss\n",
    "\n",
    "\n",
    "    def eval(self, data_loader):\n",
    "        \"\"\"Return validation loss and validation accuracy.\"\"\"\n",
    "        \n",
    "        self.model.eval()\n",
    "        num_correct = 0\n",
    "        num_samples = 0\n",
    "        loss = 0.0\n",
    "        with torch.no_grad():\n",
    "            for i, (data, targets) in enumerate(data_loader):\n",
    "                data = data.to(self.device).float()\n",
    "                targets = targets.to(self.device)\n",
    "                \n",
    "                # Forward pass\n",
    "                out = self.model(data)\n",
    "                J = self.loss_fn(out, targets)\n",
    "                _, preds = out.max(dim=1)\n",
    "\n",
    "                # Cumulative metrics\n",
    "                loss += (J.detach().item() - loss) / (i + 1)\n",
    "                num_correct += (preds == targets).sum().item()\n",
    "                num_samples += preds.shape[0]\n",
    "\n",
    "        acc = num_correct / num_samples\n",
    "        return loss, acc"
   ]
  },
  {
   "cell_type": "markdown",
   "id": "31a4ba5c",
   "metadata": {
    "id": "gjqSuZqpcMw8",
    "papermill": {
     "duration": 0.110984,
     "end_time": "2022-01-09T16:47:48.393808",
     "exception": false,
     "start_time": "2022-01-09T16:47:48.282824",
     "status": "completed"
    },
    "tags": []
   },
   "source": [
    "### Pruning based on intermediate values"
   ]
  },
  {
   "cell_type": "markdown",
   "id": "c815038f",
   "metadata": {
    "id": "vSFEodb0cMw9",
    "papermill": {
     "duration": 0.098793,
     "end_time": "2022-01-09T16:47:48.601081",
     "exception": false,
     "start_time": "2022-01-09T16:47:48.502288",
     "status": "completed"
    },
    "tags": []
   },
   "source": [
    "Finally, we set up the `study` instance and its objective function. Note that the search space is dynamically constructed depending on the number of layers (i.e. an earlier suggestion for a hyperparameter). During training, we perform early stopping on validation loss. If no new minimum val. loss is found after 5 epochs, then the minimum val. loss is returned as the objective [^ref3].\n",
    "\n",
    "Computing intermediate values allow us to **prune** unpromising trials to conserve resources. The default pruner in Optuna is [`MedianPruner`](https://optuna.readthedocs.io/en/stable/reference/generated/optuna.pruners.MedianPruner.html) which prunes a trial if its best intermediate result as of the current step (e.g. current best valid loss) is worse than the median of all intermediate results of previous trials *at the current step*. Hence, the best intermediate result of a pruned trial is less than the best intermediate result of 1/2 of the other trials as of that step. In our case, if the minimum validation loss does not improve too quickly, then the trial is pruned. Of course, the validation loss could descend rapidly at later steps, but the median pruner does not bet on this happening.\n",
    "\n",
    "[^ref3]: In practice, we save the best model parameters at this point."
   ]
  },
  {
   "cell_type": "code",
   "execution_count": 17,
   "id": "093e830e",
   "metadata": {
    "execution": {
     "iopub.execute_input": "2022-01-09T16:47:48.741103Z",
     "iopub.status.busy": "2022-01-09T16:47:48.740255Z",
     "iopub.status.idle": "2022-01-09T16:47:48.747211Z",
     "shell.execute_reply": "2022-01-09T16:47:48.746807Z",
     "shell.execute_reply.started": "2022-01-08T17:25:42.033270Z"
    },
    "id": "YDsmzBW_cMw-",
    "outputId": "92e70039-530d-488e-ad61-573a5b442025",
    "papermill": {
     "duration": 0.079934,
     "end_time": "2022-01-09T16:47:48.747332",
     "exception": false,
     "start_time": "2022-01-09T16:47:48.667398",
     "status": "completed"
    },
    "tags": []
   },
   "outputs": [],
   "source": [
    "def run_training(trial, train_loader, valid_loader, engine):\n",
    "    # Run training\n",
    "    best_loss = np.inf\n",
    "    patience = PATIENCE\n",
    "    loop = tqdm(range(EPOCHS), total=EPOCHS, leave=False)\n",
    "    for epoch in loop:\n",
    "\n",
    "        # Train and validation step\n",
    "        train_loss = engine.train(train_loader)\n",
    "        valid_loss, valid_acc = engine.eval(valid_loader)\n",
    "            \n",
    "        # Early stopping\n",
    "        if valid_loss < best_loss:\n",
    "            best_loss = valid_loss\n",
    "            patience = PATIENCE\n",
    "        else:\n",
    "            patience -= 1\n",
    "            if patience == 0:\n",
    "                break\n",
    "    \n",
    "        # Pruning unpromising trials\n",
    "        trial.report(valid_loss, step=epoch)\n",
    "        if trial.should_prune():\n",
    "            raise optuna.TrialPruned()\n",
    "            \n",
    "        loop.set_description(f\"Epoch [{epoch+1}/{EPOCHS}]\")\n",
    "        loop.set_postfix(\n",
    "            val_loss=valid_loss, \n",
    "            acc=valid_acc, \n",
    "            patience=patience,\n",
    "            lr=engine.optimizer.param_groups[0]['lr'])\n",
    "        \n",
    "    return best_loss\n",
    "\n",
    "\n",
    "def objective(trial):\n",
    "    # Setup model architecture\n",
    "    conv_arch = [\n",
    "        (1, trial.suggest_int(f\"vgg_b1\", 128, 512, log=True)),\n",
    "        (2, trial.suggest_int(f\"vgg_b2\", 128, 512, log=True)),\n",
    "        (2, trial.suggest_int(f\"vgg_b3\", 128, 512, log=True)),\n",
    "    ]\n",
    "    dense_width = trial.suggest_int(\"dense\", 256, 1024, log=True)\n",
    "    dropout = trial.suggest_float(\"dropout\", 0.1, 1.0, step=0.1)\n",
    "    learning_rate = trial.suggest_float(\"lr\", 1e-5, 0.3, log=True)\n",
    "    batch_size = trial.suggest_int('batch_size', 16, 128, log=True)\n",
    "\n",
    "    # Initialize engine\n",
    "    model = vgg(conv_arch, dense_width, dropout).to(DEVICE)\n",
    "    optimizer = optim.Adam(model.parameters(), lr=learning_rate)    \n",
    "    engine = Engine(model, DEVICE, optimizer)\n",
    "    \n",
    "    # Initalize data loaders\n",
    "    train_loader, valid_loader = get_cifar10_dataloaders(batch_size, resize=28, sample_ratio=CIFAR10_SAMPLE_RATIO)\n",
    "    \n",
    "    # Start training run\n",
    "    score = run_training(trial, train_loader, valid_loader, engine)\n",
    "    return score"
   ]
  },
  {
   "cell_type": "markdown",
   "id": "977be6e1",
   "metadata": {
    "papermill": {
     "duration": 0.064844,
     "end_time": "2022-01-09T16:47:48.876367",
     "exception": false,
     "start_time": "2022-01-09T16:47:48.811523",
     "status": "completed"
    },
    "tags": []
   },
   "source": [
    "This study looks rather complicated, with a lot of moving parts. We can test the objective using a `FixedTrial` which suggests fixed parameter values based on a given dictionary of parameters:\n",
    "\n",
    "```python\n",
    "trial = FixedTrial(param_dict)\n",
    "objective(trial) \n",
    "```"
   ]
  },
  {
   "cell_type": "markdown",
   "id": "46674503",
   "metadata": {
    "execution": {
     "iopub.execute_input": "2022-01-08T17:00:46.609672Z",
     "iopub.status.busy": "2022-01-08T17:00:46.609393Z",
     "iopub.status.idle": "2022-01-08T17:00:46.615946Z",
     "shell.execute_reply": "2022-01-08T17:00:46.614610Z",
     "shell.execute_reply.started": "2022-01-08T17:00:46.609642Z"
    },
    "papermill": {
     "duration": 0.065524,
     "end_time": "2022-01-09T16:47:49.007108",
     "exception": false,
     "start_time": "2022-01-09T16:47:48.941584",
     "status": "completed"
    },
    "tags": []
   },
   "source": [
    "We now create the minimization problem with median pruner. The parameters of the pruner will be explained below."
   ]
  },
  {
   "cell_type": "code",
   "execution_count": 18,
   "id": "2c0c8c93",
   "metadata": {
    "execution": {
     "iopub.execute_input": "2022-01-09T16:47:49.144923Z",
     "iopub.status.busy": "2022-01-09T16:47:49.143826Z",
     "iopub.status.idle": "2022-01-09T20:12:17.314761Z",
     "shell.execute_reply": "2022-01-09T20:12:17.315168Z",
     "shell.execute_reply.started": "2022-01-08T17:25:42.057797Z"
    },
    "papermill": {
     "duration": 12268.243705,
     "end_time": "2022-01-09T20:12:17.315331",
     "exception": false,
     "start_time": "2022-01-09T16:47:49.071626",
     "status": "completed"
    },
    "tags": []
   },
   "outputs": [
    {
     "name": "stderr",
     "output_type": "stream",
     "text": [
      "\u001b[32m[I 2022-01-09 16:47:49,141]\u001b[0m A new study created in memory with name: no-name-78b4e217-1a91-4764-8134-993f98d3cea7\u001b[0m\n",
      "\u001b[32m[I 2022-01-09 16:54:25,197]\u001b[0m Trial 0 finished with value: 0.9663325294852255 and parameters: {'vgg_b1': 310, 'vgg_b2': 162, 'vgg_b3': 289, 'dense': 598, 'dropout': 0.1, 'lr': 5.8571334191863526e-05, 'batch_size': 124}. Best is trial 0 with value: 0.9663325294852255.\u001b[0m\n",
      "\u001b[32m[I 2022-01-09 17:01:53,776]\u001b[0m Trial 1 finished with value: 0.8538003005400426 and parameters: {'vgg_b1': 258, 'vgg_b2': 247, 'vgg_b3': 206, 'dense': 402, 'dropout': 0.7000000000000001, 'lr': 5.986375901071346e-05, 'batch_size': 42}. Best is trial 1 with value: 0.8538003005400426.\u001b[0m\n",
      "\u001b[32m[I 2022-01-09 17:06:12,651]\u001b[0m Trial 2 finished with value: 0.9333370736837385 and parameters: {'vgg_b1': 249, 'vgg_b2': 160, 'vgg_b3': 291, 'dense': 960, 'dropout': 0.5, 'lr': 9.652575464574833e-05, 'batch_size': 20}. Best is trial 1 with value: 0.8538003005400426.\u001b[0m\n",
      "\u001b[32m[I 2022-01-09 17:07:29,117]\u001b[0m Trial 3 finished with value: 2.308023227112635 and parameters: {'vgg_b1': 217, 'vgg_b2': 198, 'vgg_b3': 232, 'dense': 508, 'dropout': 0.7000000000000001, 'lr': 0.09329797140131525, 'batch_size': 89}. Best is trial 1 with value: 0.8538003005400426.\u001b[0m\n",
      "\u001b[32m[I 2022-01-09 17:12:05,098]\u001b[0m Trial 4 finished with value: 0.9594035801822195 and parameters: {'vgg_b1': 372, 'vgg_b2': 468, 'vgg_b3': 230, 'dense': 733, 'dropout': 0.2, 'lr': 0.00010174140869152476, 'batch_size': 68}. Best is trial 1 with value: 0.8538003005400426.\u001b[0m\n",
      "\u001b[32m[I 2022-01-09 17:15:52,590]\u001b[0m Trial 5 finished with value: 2.3308440674943625 and parameters: {'vgg_b1': 463, 'vgg_b2': 429, 'vgg_b3': 234, 'dense': 665, 'dropout': 0.30000000000000004, 'lr': 0.13353412052488867, 'batch_size': 18}. Best is trial 1 with value: 0.8538003005400426.\u001b[0m\n",
      "\u001b[32m[I 2022-01-09 17:17:23,245]\u001b[0m Trial 6 finished with value: 2.304749325097323 and parameters: {'vgg_b1': 208, 'vgg_b2': 216, 'vgg_b3': 346, 'dense': 391, 'dropout': 0.8, 'lr': 0.013848177485291456, 'batch_size': 30}. Best is trial 1 with value: 0.8538003005400426.\u001b[0m\n",
      "\u001b[32m[I 2022-01-09 17:27:29,422]\u001b[0m Trial 7 finished with value: 0.9173180745775198 and parameters: {'vgg_b1': 370, 'vgg_b2': 351, 'vgg_b3': 285, 'dense': 648, 'dropout': 0.30000000000000004, 'lr': 1.9999878982282223e-05, 'batch_size': 17}. Best is trial 1 with value: 0.8538003005400426.\u001b[0m\n",
      "\u001b[32m[I 2022-01-09 17:48:59,758]\u001b[0m Trial 8 finished with value: 0.970559313589213 and parameters: {'vgg_b1': 399, 'vgg_b2': 223, 'vgg_b3': 308, 'dense': 259, 'dropout': 0.7000000000000001, 'lr': 1.3064656747928878e-05, 'batch_size': 51}. Best is trial 1 with value: 0.8538003005400426.\u001b[0m\n",
      "\u001b[32m[I 2022-01-09 17:50:51,638]\u001b[0m Trial 9 finished with value: 2.1159408791311862 and parameters: {'vgg_b1': 506, 'vgg_b2': 277, 'vgg_b3': 336, 'dense': 355, 'dropout': 0.6, 'lr': 0.01014034214456914, 'batch_size': 85}. Best is trial 1 with value: 0.8538003005400426.\u001b[0m\n",
      "\u001b[32m[I 2022-01-09 17:52:17,641]\u001b[0m Trial 10 finished with value: 2.3026118452185833 and parameters: {'vgg_b1': 137, 'vgg_b2': 292, 'vgg_b3': 151, 'dense': 404, 'dropout': 1.0, 'lr': 0.0007539244254643046, 'batch_size': 33}. Best is trial 1 with value: 0.8538003005400426.\u001b[0m\n",
      "\u001b[32m[I 2022-01-09 18:08:07,878]\u001b[0m Trial 11 finished with value: 0.8779827433663444 and parameters: {'vgg_b1': 314, 'vgg_b2': 358, 'vgg_b3': 464, 'dense': 500, 'dropout': 0.4, 'lr': 1.359546850655156e-05, 'batch_size': 27}. Best is trial 1 with value: 0.8538003005400426.\u001b[0m\n",
      "\u001b[32m[I 2022-01-09 18:12:25,817]\u001b[0m Trial 12 finished with value: 0.9928599794705705 and parameters: {'vgg_b1': 286, 'vgg_b2': 351, 'vgg_b3': 510, 'dense': 481, 'dropout': 0.5, 'lr': 0.00030648865735273913, 'batch_size': 32}. Best is trial 1 with value: 0.8538003005400426.\u001b[0m\n",
      "\u001b[32m[I 2022-01-09 18:16:12,951]\u001b[0m Trial 13 pruned. \u001b[0m\n",
      "\u001b[32m[I 2022-01-09 18:20:18,070]\u001b[0m Trial 14 finished with value: 2.3027173531055456 and parameters: {'vgg_b1': 307, 'vgg_b2': 136, 'vgg_b3': 484, 'dense': 450, 'dropout': 0.4, 'lr': 0.0019107435528946583, 'batch_size': 25}. Best is trial 1 with value: 0.8538003005400426.\u001b[0m\n",
      "\u001b[32m[I 2022-01-09 18:24:20,313]\u001b[0m Trial 15 pruned. \u001b[0m\n",
      "\u001b[32m[I 2022-01-09 18:28:34,995]\u001b[0m Trial 16 finished with value: 0.9710360651466702 and parameters: {'vgg_b1': 183, 'vgg_b2': 392, 'vgg_b3': 417, 'dense': 806, 'dropout': 0.4, 'lr': 0.0004394672803314361, 'batch_size': 23}. Best is trial 1 with value: 0.8538003005400426.\u001b[0m\n",
      "\u001b[32m[I 2022-01-09 18:34:13,305]\u001b[0m Trial 17 pruned. \u001b[0m\n",
      "\u001b[32m[I 2022-01-09 18:37:54,311]\u001b[0m Trial 18 finished with value: 0.9328236542642117 and parameters: {'vgg_b1': 339, 'vgg_b2': 318, 'vgg_b3': 139, 'dense': 468, 'dropout': 0.4, 'lr': 0.00024037964468769132, 'batch_size': 39}. Best is trial 1 with value: 0.8538003005400426.\u001b[0m\n",
      "\u001b[32m[I 2022-01-09 18:49:09,175]\u001b[0m Trial 19 finished with value: 0.8594228555448353 and parameters: {'vgg_b1': 424, 'vgg_b2': 244, 'vgg_b3': 407, 'dense': 415, 'dropout': 0.7000000000000001, 'lr': 3.136450432363738e-05, 'batch_size': 26}. Best is trial 1 with value: 0.8538003005400426.\u001b[0m\n",
      "\u001b[32m[I 2022-01-09 18:54:58,491]\u001b[0m Trial 20 pruned. \u001b[0m\n",
      "\u001b[32m[I 2022-01-09 19:00:02,795]\u001b[0m Trial 21 pruned. \u001b[0m\n",
      "\u001b[32m[I 2022-01-09 19:07:12,185]\u001b[0m Trial 22 finished with value: 0.9695012574436284 and parameters: {'vgg_b1': 340, 'vgg_b2': 295, 'vgg_b3': 441, 'dense': 546, 'dropout': 0.8, 'lr': 0.000132589105195643, 'batch_size': 21}. Best is trial 1 with value: 0.8538003005400426.\u001b[0m\n",
      "\u001b[32m[I 2022-01-09 19:10:58,123]\u001b[0m Trial 23 pruned. \u001b[0m\n",
      "\u001b[32m[I 2022-01-09 19:17:36,122]\u001b[0m Trial 24 finished with value: 0.8793295427244536 and parameters: {'vgg_b1': 231, 'vgg_b2': 197, 'vgg_b3': 206, 'dense': 435, 'dropout': 0.5, 'lr': 6.046048370778813e-05, 'batch_size': 51}. Best is trial 1 with value: 0.8538003005400426.\u001b[0m\n",
      "\u001b[32m[I 2022-01-09 19:21:41,670]\u001b[0m Trial 25 finished with value: 2.302633065572926 and parameters: {'vgg_b1': 327, 'vgg_b2': 272, 'vgg_b3': 450, 'dense': 287, 'dropout': 0.9, 'lr': 0.0009895984157195427, 'batch_size': 35}. Best is trial 1 with value: 0.8538003005400426.\u001b[0m\n",
      "\u001b[32m[I 2022-01-09 19:25:13,284]\u001b[0m Trial 26 finished with value: 0.9796114992436178 and parameters: {'vgg_b1': 382, 'vgg_b2': 317, 'vgg_b3': 265, 'dense': 519, 'dropout': 0.30000000000000004, 'lr': 0.00016720140088459775, 'batch_size': 23}. Best is trial 1 with value: 0.8538003005400426.\u001b[0m\n",
      "\u001b[32m[I 2022-01-09 19:31:49,340]\u001b[0m Trial 27 pruned. \u001b[0m\n",
      "\u001b[32m[I 2022-01-09 19:33:56,756]\u001b[0m Trial 28 finished with value: 2.3033253585591025 and parameters: {'vgg_b1': 195, 'vgg_b2': 235, 'vgg_b3': 379, 'dense': 608, 'dropout': 0.6, 'lr': 0.006701555276590694, 'batch_size': 42}. Best is trial 1 with value: 0.8538003005400426.\u001b[0m\n",
      "\u001b[32m[I 2022-01-09 19:39:05,950]\u001b[0m Trial 29 finished with value: 1.0034908101309177 and parameters: {'vgg_b1': 301, 'vgg_b2': 393, 'vgg_b3': 471, 'dense': 580, 'dropout': 0.1, 'lr': 5.5809854563142486e-05, 'batch_size': 29}. Best is trial 1 with value: 0.8538003005400426.\u001b[0m\n",
      "\u001b[32m[I 2022-01-09 19:42:07,542]\u001b[0m Trial 30 pruned. \u001b[0m\n",
      "\u001b[32m[I 2022-01-09 19:47:44,125]\u001b[0m Trial 31 finished with value: 0.8815758077495073 and parameters: {'vgg_b1': 231, 'vgg_b2': 186, 'vgg_b3': 208, 'dense': 426, 'dropout': 0.5, 'lr': 6.388393481294276e-05, 'batch_size': 60}. Best is trial 1 with value: 0.8538003005400426.\u001b[0m\n",
      "\u001b[32m[I 2022-01-09 19:52:07,526]\u001b[0m Trial 32 finished with value: 0.874182585053719 and parameters: {'vgg_b1': 161, 'vgg_b2': 205, 'vgg_b3': 197, 'dense': 440, 'dropout': 0.5, 'lr': 7.930129805507095e-05, 'batch_size': 48}. Best is trial 1 with value: 0.8538003005400426.\u001b[0m\n",
      "\u001b[32m[I 2022-01-09 19:54:49,195]\u001b[0m Trial 33 pruned. \u001b[0m\n",
      "\u001b[32m[I 2022-01-09 19:58:08,657]\u001b[0m Trial 34 finished with value: 0.8615798228979111 and parameters: {'vgg_b1': 129, 'vgg_b2': 260, 'vgg_b3': 244, 'dense': 1019, 'dropout': 0.6, 'lr': 0.00010372443791344133, 'batch_size': 50}. Best is trial 1 with value: 0.8538003005400426.\u001b[0m\n",
      "\u001b[32m[I 2022-01-09 20:02:53,732]\u001b[0m Trial 35 finished with value: 0.8468572935637306 and parameters: {'vgg_b1': 138, 'vgg_b2': 141, 'vgg_b3': 250, 'dense': 852, 'dropout': 0.7000000000000001, 'lr': 9.058519215325063e-05, 'batch_size': 49}. Best is trial 35 with value: 0.8468572935637306.\u001b[0m\n",
      "\u001b[32m[I 2022-01-09 20:04:00,344]\u001b[0m Trial 36 finished with value: 2.3064591855887904 and parameters: {'vgg_b1': 130, 'vgg_b2': 147, 'vgg_b3': 255, 'dense': 1016, 'dropout': 0.8, 'lr': 0.037906633402615846, 'batch_size': 60}. Best is trial 35 with value: 0.8468572935637306.\u001b[0m\n",
      "\u001b[32m[I 2022-01-09 20:07:30,138]\u001b[0m Trial 37 pruned. \u001b[0m\n",
      "\u001b[32m[I 2022-01-09 20:10:06,667]\u001b[0m Trial 38 finished with value: 0.9325450231631596 and parameters: {'vgg_b1': 145, 'vgg_b2': 152, 'vgg_b3': 225, 'dense': 916, 'dropout': 0.7000000000000001, 'lr': 0.0003701946567741201, 'batch_size': 83}. Best is trial 35 with value: 0.8468572935637306.\u001b[0m\n",
      "\u001b[32m[I 2022-01-09 20:12:17,309]\u001b[0m Trial 39 finished with value: 1.0199463226821985 and parameters: {'vgg_b1': 130, 'vgg_b2': 180, 'vgg_b3': 274, 'dense': 743, 'dropout': 0.6, 'lr': 0.0006663982177439894, 'batch_size': 56}. Best is trial 35 with value: 0.8468572935637306.\u001b[0m\n"
     ]
    }
   ],
   "source": [
    "pruner = optuna.pruners.MedianPruner(n_startup_trials=10, n_warmup_steps=15, n_min_trials=5)\n",
    "study = optuna.create_study(direction=\"minimize\", pruner=pruner)\n",
    "study.optimize(objective, n_trials=VGG_NTRIALS)"
   ]
  },
  {
   "cell_type": "code",
   "execution_count": 19,
   "id": "9ec09f25",
   "metadata": {
    "execution": {
     "iopub.execute_input": "2022-01-09T20:12:18.601307Z",
     "iopub.status.busy": "2022-01-09T20:12:18.600754Z",
     "iopub.status.idle": "2022-01-09T20:12:18.606913Z",
     "shell.execute_reply": "2022-01-09T20:12:18.607602Z",
     "shell.execute_reply.started": "2022-01-08T17:27:09.951924Z"
    },
    "id": "MZ33X-NacMw8",
    "outputId": "b5f5135f-c67b-4e69-bfa2-8963b3ce86ef",
    "papermill": {
     "duration": 0.650202,
     "end_time": "2022-01-09T20:12:18.607739",
     "exception": false,
     "start_time": "2022-01-09T20:12:17.957537",
     "status": "completed"
    },
    "tags": []
   },
   "outputs": [
    {
     "name": "stdout",
     "output_type": "stream",
     "text": [
      "Study statistics: \n",
      "  Number of finished trials:\t 40\n",
      "  Number of pruned trials:\t 10\n",
      "  Number of complete trials:\t 30\n",
      "\n",
      "Best trial:\n",
      "  Value:  0.8468572935637306\n",
      "  Params: \n",
      "    vgg_b1: 138\n",
      "    vgg_b2: 141\n",
      "    vgg_b3: 250\n",
      "    dense: 852\n",
      "    dropout: 0.7000000000000001\n",
      "    lr: 9.058519215325063e-05\n",
      "    batch_size: 49\n"
     ]
    }
   ],
   "source": [
    "from optuna.trial import TrialState\n",
    "\n",
    "pruned_trials = study.get_trials(deepcopy=False, states=[TrialState.PRUNED])\n",
    "complete_trials = study.get_trials(deepcopy=False, states=[TrialState.COMPLETE])\n",
    "\n",
    "print(\"Study statistics: \")\n",
    "print(\"  Number of finished trials:\\t\", len(study.trials))\n",
    "print(\"  Number of pruned trials:\\t\", len(pruned_trials))\n",
    "print(\"  Number of complete trials:\\t\", len(complete_trials))\n",
    "\n",
    "print(\"\\nBest trial:\")\n",
    "best_trial = study.best_trial\n",
    "\n",
    "print(\"  Value: \", best_trial.value)\n",
    "print(\"  Params: \")\n",
    "for key, value in best_trial.params.items():\n",
    "    print(\"    {}: {}\".format(key, value))"
   ]
  },
  {
   "cell_type": "markdown",
   "id": "806de90c",
   "metadata": {
    "id": "1kXDduuNcMw_",
    "papermill": {
     "duration": 0.636038,
     "end_time": "2022-01-09T20:12:19.870202",
     "exception": false,
     "start_time": "2022-01-09T20:12:19.234164",
     "status": "completed"
    },
    "tags": []
   },
   "source": [
    "Trials either early stops (gradient descent loses momentum) or gets pruned (expected to not improve even if gradient descent continues). Pruning starts after 10 trials are completed, i.e. `n_startup_trials=10`. This is so that the pruner obtains enough information about the general behavior of the gradient descent optimizer before starting to prune. We set `n_warmup_steps=15` allowing each trial to train the network for 16 epochs before pruning, so that the completed trials will not be dominated by networks that descend quickly, but to shallow minimas. For example, shallow networks that possibly overfits the validation set. However, this comes at the price of wasting resources for training 16 epochs for around half of the number of trials. Finally, we set `n_min_trials=5` so that a higher number of trials at later steps can continue until it early stops or reaches max epochs."
   ]
  },
  {
   "cell_type": "code",
   "execution_count": 20,
   "id": "c57d368e",
   "metadata": {
    "execution": {
     "iopub.execute_input": "2022-01-09T20:12:21.218822Z",
     "iopub.status.busy": "2022-01-09T20:12:21.217943Z",
     "iopub.status.idle": "2022-01-09T20:12:21.253002Z",
     "shell.execute_reply": "2022-01-09T20:12:21.253362Z",
     "shell.execute_reply.started": "2022-01-08T17:27:09.981158Z"
    },
    "papermill": {
     "duration": 0.72653,
     "end_time": "2022-01-09T20:12:21.253520",
     "exception": false,
     "start_time": "2022-01-09T20:12:20.526990",
     "status": "completed"
    },
    "tags": []
   },
   "outputs": [
    {
     "data": {
      "text/html": [
       "<div>                            <div id=\"1ea48eba-c655-4ad0-8f10-c9d3e117daec\" class=\"plotly-graph-div\" style=\"height:525px; width:100%;\"></div>            <script type=\"text/javascript\">                require([\"plotly\"], function(Plotly) {                    window.PLOTLYENV=window.PLOTLYENV || {};                                    if (document.getElementById(\"1ea48eba-c655-4ad0-8f10-c9d3e117daec\")) {                    Plotly.newPlot(                        \"1ea48eba-c655-4ad0-8f10-c9d3e117daec\",                        [{\"marker\":{\"maxdisplayed\":10},\"mode\":\"lines+markers\",\"name\":\"Trial0\",\"x\":[0,1,2,3,4,5,6,7,8,9,10,11,12,13,14,15,16,17,18,19,20,21,22,23,24,25,26,27,28],\"y\":[1.8353351920843124,1.6574679315090184,1.501542404294014,1.4057896643877028,1.336867317557335,1.276524329185486,1.233667877316475,1.1947572499513626,1.1635576173663134,1.1291352838277815,1.1173873111605646,1.0654243275523188,1.0467413723468781,1.033348616957665,1.0185001239180562,1.0088388741016385,1.0149000674486162,0.9732727289199827,0.9785592272877693,0.972210593521595,0.9865359112620353,0.9839140474796294,0.9769311219453811,0.9694834828376773,0.9663325294852255,0.9829732924699782,0.9864037930965421,0.9783063843846321,0.9706373527646065],\"type\":\"scatter\"},{\"marker\":{\"maxdisplayed\":10},\"mode\":\"lines+markers\",\"name\":\"Trial1\",\"x\":[0,1,2,3,4,5,6,7,8,9,10,11,12,13,14,15,16,17,18,19,20,21,22,23,24,25,26,27,28,29,30],\"y\":[1.9804246205241742,1.7201936485386693,1.6203289112123118,1.501477698318097,1.397656140207242,1.279518200569794,1.2419819536329317,1.1629529269803474,1.1229288092180465,1.0709353750493338,1.0740707261221747,1.0251890250614712,1.0250438566969224,0.9931125305279962,0.9460745003043103,0.935003149409254,0.9481330754376261,0.9381256636952152,0.9306100101030171,0.9212293073910626,0.8812755909787505,0.9104762545653752,0.887316238479454,0.9142003099457556,0.9212890577917338,0.8742876233173019,0.8538003005400426,0.8705411147670583,0.8623282130525894,0.9477693405972808,0.9244539990645496],\"type\":\"scatter\"},{\"marker\":{\"maxdisplayed\":10},\"mode\":\"lines+markers\",\"name\":\"Trial2\",\"x\":[0,1,2,3,4,5,6,7,8,9,10,11,12],\"y\":[1.6108411135673522,1.3460712122917173,1.2490370261669166,1.1356685345172886,1.0555508294105531,1.037994417309761,0.9850502943992615,0.9750709784030914,0.9333370736837385,0.95479379594326,0.9760574819445613,0.9836852404475209,1.0254167991578578],\"type\":\"scatter\"},{\"marker\":{\"maxdisplayed\":10},\"mode\":\"lines+markers\",\"name\":\"Trial3\",\"x\":[0,1,2,3,4],\"y\":[2.308023227112635,2.309804558753967,2.310357366289412,2.310729942151478,2.311347092900958],\"type\":\"scatter\"},{\"marker\":{\"maxdisplayed\":10},\"mode\":\"lines+markers\",\"name\":\"Trial4\",\"x\":[0,1,2,3,4,5,6,7,8,9,10,11,12],\"y\":[1.6424561983918486,1.4862269457072426,1.306044228272895,1.22420542289133,1.1551624242573566,1.0799314396022113,0.9989184998486138,0.982882070214781,0.9594035801822195,0.9814525761016425,1.0501573526695982,0.9770979881286622,1.0656101393373048],\"type\":\"scatter\"},{\"marker\":{\"maxdisplayed\":10},\"mode\":\"lines+markers\",\"name\":\"Trial5\",\"x\":[0,1,2,3,4,5,6],\"y\":[2.334591816478687,2.3359517543324517,2.3308440674943625,2.336061536189879,2.3449334512979116,2.3363438194839525,2.3350422700819986],\"type\":\"scatter\"},{\"marker\":{\"maxdisplayed\":10},\"mode\":\"lines+markers\",\"name\":\"Trial6\",\"x\":[0,1,2,3,4],\"y\":[2.304749325097323,2.3047549264976785,2.3047563124852,2.3047570737011456,2.3047568826790314],\"type\":\"scatter\"},{\"marker\":{\"maxdisplayed\":10},\"mode\":\"lines+markers\",\"name\":\"Trial7\",\"x\":[0,1,2,3,4,5,6,7,8,9,10,11,12,13,14,15,16,17,18,19,20,21,22],\"y\":[1.730438310272839,1.538725616169624,1.4598647836519762,1.3804395056906207,1.3027279687171085,1.2337852132563687,1.1856886918852927,1.1776156348436064,1.1432467151661316,1.088967964154523,1.0598896267462754,1.030469658423442,0.9982639306864772,1.01568203444789,0.9906121258224766,0.9587041158862667,0.9480646617558535,0.9272540720547138,0.9173180745775198,0.9323956062193633,0.924037140800434,0.9362594674841881,0.9285688325255906],\"type\":\"scatter\"},{\"marker\":{\"maxdisplayed\":10},\"mode\":\"lines+markers\",\"name\":\"Trial8\",\"x\":[0,1,2,3,4,5,6,7,8,9,10,11,12,13,14,15,16,17,18,19,20,21,22,23,24,25,26,27,28,29,30,31,32,33,34,35,36,37,38,39,40,41,42,43,44,45,46,47,48,49,50,51,52,53,54,55,56,57,58,59,60,61,62,63,64,65,66,67,68,69,70,71,72,73,74,75,76,77,78,79,80,81],\"y\":[2.1548718335677175,2.0590237525044652,1.9447801538876128,1.8546974135904897,1.8151229924085186,1.761288276740483,1.7140278487789398,1.6878569186950212,1.6611541156866116,1.6348107408504107,1.5958229242538913,1.5566814335025088,1.5610713934411804,1.5396753586068446,1.4938992979575183,1.4896965854021964,1.4611216588896152,1.4424195593717146,1.4499363412662425,1.4402594359553587,1.3996735105709153,1.4133146587683232,1.3718620927966372,1.3749853518544408,1.3927942392777424,1.3510659203237427,1.34194743389986,1.3304045686916426,1.3274094875977964,1.288601667905341,1.3107470012440974,1.264324497811648,1.262856535765589,1.2434221116863953,1.2495909089944806,1.230264096235742,1.221627558372459,1.2210433288496365,1.2029831038445842,1.2077942922407265,1.1875767391555156,1.1685687321789409,1.1803976060176378,1.2076023464300198,1.16965240240097,1.168197831937245,1.17398298090818,1.1337465339777422,1.1431393051634027,1.1305044913778501,1.1288254893555933,1.1238237929587462,1.1119957414208623,1.094891551806002,1.0944784964833936,1.0984684405278191,1.087196136615714,1.0819690993853979,1.071408632458473,1.0955069296214046,1.0664455531811226,1.051869459298192,1.0739095344835399,1.0592646866428603,1.0332347616857407,1.0430467615322185,1.0326100660830126,1.0299658501634792,1.0244026214492568,1.0263381576051511,1.0217029549637626,1.0119604857600462,1.0040843158352128,1.0217900038981929,0.997498864422039,0.9849795322028957,0.9922254371399785,0.970559313589213,0.9793571744646346,1.0010380793590934,0.9882688248644066,0.9827555673463002],\"type\":\"scatter\"},{\"marker\":{\"maxdisplayed\":10},\"mode\":\"lines+markers\",\"name\":\"Trial9\",\"x\":[0,1,2,3,4,5],\"y\":[2.222681057864222,2.1159408791311862,2.303680407589879,2.3033243623273116,2.303330257021148,2.303343633125568],\"type\":\"scatter\"},{\"marker\":{\"maxdisplayed\":10},\"mode\":\"lines+markers\",\"name\":\"Trial10\",\"x\":[0,1,2,3,4,5],\"y\":[2.3026347207707283,2.3026118452185833,2.30261567886302,2.3026181404164308,2.302619106722195,2.3026194319819764],\"type\":\"scatter\"},{\"marker\":{\"maxdisplayed\":10},\"mode\":\"lines+markers\",\"name\":\"Trial11\",\"x\":[0,1,2,3,4,5,6,7,8,9,10,11,12,13,14,15,16,17,18,19,20,21,22,23,24,25,26,27,28,29,30,31,32,33,34,35,36,37,38,39],\"y\":[1.853826368821633,1.674285386704109,1.582715131785419,1.5123444827827248,1.445192006149807,1.420923823279303,1.3607372780103943,1.3522066680160731,1.314817735633335,1.2759813553578148,1.2686562154744128,1.2560847089097313,1.1773733122928716,1.1655464062819614,1.1364031798130756,1.1170818251532482,1.1076463692897076,1.0703903111251623,1.0653584738035462,1.037604258028237,1.032418763637543,1.008070931080224,0.9874996871561619,0.9808804418589616,0.9481460880588843,0.9404331912865509,0.9483504844678418,0.9294623155851617,0.9376284568696407,0.9117862506492717,0.9236912790182471,0.9092122693319578,0.9058093675085018,0.9044559984593779,0.8800187648953623,0.8779827433663444,0.907238682379593,0.8881352882127503,0.8910908043384554,0.9062895092609766],\"type\":\"scatter\"},{\"marker\":{\"maxdisplayed\":10},\"mode\":\"lines+markers\",\"name\":\"Trial12\",\"x\":[0,1,2,3,4,5,6,7,8,9,10,11,12],\"y\":[1.635446891570702,1.3963831678414955,1.3095089090176115,1.1589186856379874,1.0755885996115517,1.0388781351920893,0.9941699336736626,1.0290812116402845,0.9928599794705705,1.0659925975860702,1.1472614013995874,1.268964178287066,1.2819829548780732],\"type\":\"scatter\"},{\"marker\":{\"maxdisplayed\":10},\"mode\":\"lines+markers\",\"name\":\"Trial13\",\"x\":[0,1,2,3,4,5,6,7,8,9,10,11,12,13,14,15],\"y\":[2.302837027443781,2.2994105970418013,2.277917813371731,2.268575253310028,2.2475833031866292,2.2201494442092056,2.1946405282727,2.1773623802043773,2.15160529701798,2.1455049912134796,2.0972789216924594,2.091478130331745,2.0746038953463226,2.059178783937736,2.0316223954712895,2.0031545029746165],\"type\":\"scatter\"},{\"marker\":{\"maxdisplayed\":10},\"mode\":\"lines+markers\",\"name\":\"Trial14\",\"x\":[0,1,2,3,4,5,6,7,8,9,10,11,12],\"y\":[2.3030287063121797,2.302809208631514,2.302726058959962,2.3027189457416535,2.302717490196228,2.302717704772951,2.302717605829238,2.3027177155017857,2.3027173531055456,2.3027174055576305,2.302717437744141,2.302717437744141,2.302717437744141],\"type\":\"scatter\"},{\"marker\":{\"maxdisplayed\":10},\"mode\":\"lines+markers\",\"name\":\"Trial15\",\"x\":[0,1,2,3,4,5,6,7,8,9,10,11,12,13,14,15,16,17],\"y\":[1.910290022850037,1.7494022960662843,1.64696144580841,1.4783430109024052,1.367295958518982,1.3266934194564821,1.2507915091514588,1.2083227009773256,1.1627474074363708,1.1370937161445618,1.12761660861969,1.0763732447624204,1.0714344086647034,1.0553707103729248,1.0340797166824345,1.0063662414550776,1.0063097934722904,0.9821272859573364],\"type\":\"scatter\"},{\"marker\":{\"maxdisplayed\":10},\"mode\":\"lines+markers\",\"name\":\"Trial16\",\"x\":[0,1,2,3,4,5,6,7,8,9],\"y\":[1.507963956775754,1.2494985963891732,1.0813060243558223,1.0315481407851121,0.99530837832508,0.9710360651466702,1.0047775149894755,1.0895276750837048,1.1122493877114235,1.275157563560021],\"type\":\"scatter\"},{\"marker\":{\"maxdisplayed\":10},\"mode\":\"lines+markers\",\"name\":\"Trial17\",\"x\":[0,1,2,3,4,5,6,7,8,9,10,11,12,13,14,15],\"y\":[2.1434666140134935,2.155690237533215,2.108176762281463,2.0973044037818913,2.145070404507394,2.094174355961556,2.1266935481581575,2.0765121163323856,2.2524659356405565,1.9166326148565425,1.8787333937578428,1.8305686989495924,1.880721710449041,1.8719867495603342,1.9204630103222164,1.8248113061106483],\"type\":\"scatter\"},{\"marker\":{\"maxdisplayed\":10},\"mode\":\"lines+markers\",\"name\":\"Trial18\",\"x\":[0,1,2,3,4,5,6,7,8,9,10],\"y\":[1.5722987921908496,1.377627427689732,1.1854611514136195,1.0872744657099243,1.0329578821547327,0.9480947460979221,0.9328236542642117,0.9707685529720037,0.9452245440334079,1.0333131586667155,1.0661065918393435],\"type\":\"scatter\"},{\"marker\":{\"maxdisplayed\":10},\"mode\":\"lines+markers\",\"name\":\"Trial19\",\"x\":[0,1,2,3,4,5,6,7,8,9,10,11,12,13,14,15,16,17,18,19,20,21,22,23,24,25,26,27,28,29,30,31,32],\"y\":[1.9416469565282266,1.790588308125734,1.5947375390678649,1.4981006210048993,1.4592309929430491,1.3714840201040104,1.2959860072781642,1.2561110860357683,1.2270686763028302,1.1941975513473149,1.1276854518800978,1.092340023256838,1.064542375504971,1.053692102742693,1.0247957194223989,0.9976924013656879,0.966366594657302,0.9680243064649399,0.95307088845099,0.9246404105797406,0.9082321121046943,0.912166077022751,0.9130260511301465,0.9485747770716754,0.8718275753781205,0.8680446889872353,0.8624169616959991,0.868992394922922,0.8594228555448353,0.8675109160443142,0.8785762743403513,0.8738565177967154,0.9009237716284895],\"type\":\"scatter\"},{\"marker\":{\"maxdisplayed\":10},\"mode\":\"lines+markers\",\"name\":\"Trial20\",\"x\":[0,1,2,3,4,5,6,7,8,9,10,11,12,13,14,15],\"y\":[2.3027789857652454,2.3027449890419276,2.3027148864887383,2.3026883248929617,2.3026648733350954,2.302644261607417,2.302626258355599,2.3026105668809684,2.302596849865383,2.302585045496624,2.3025749188882347,2.302566212194937,2.302558817686857,2.3025525958449733,2.3025474018520784,2.3025431738959417],\"type\":\"scatter\"},{\"marker\":{\"maxdisplayed\":10},\"mode\":\"lines+markers\",\"name\":\"Trial21\",\"x\":[0,1,2,3,4,5,6,7,8,9,10,11,12,13,14,15],\"y\":[1.9337294939905405,1.8123304421703015,1.6245251024762797,1.5440267336865263,1.4483997256805505,1.3918267056966815,1.375396347604691,1.299039124821623,1.251176780710617,1.2104554384325943,1.1744066557536523,1.146366183025142,1.111975388290981,1.1047235885635023,1.075057556852699,1.053359474055469],\"type\":\"scatter\"},{\"marker\":{\"maxdisplayed\":10},\"mode\":\"lines+markers\",\"name\":\"Trial22\",\"x\":[0,1,2,3,4,5,6,7,8,9,10,11,12,13,14,15,16],\"y\":[1.9931067053009495,1.6472083430330293,1.5034141896151696,1.33560062156004,1.235602146186748,1.1202907792660362,1.0675712603480878,1.019169195735155,0.9897190621670554,1.108620406699782,0.9966915953560035,0.9988155092010983,0.9695012574436284,1.0123942037339972,1.0517713203400127,1.0779194377300116,1.1219714551913642],\"type\":\"scatter\"},{\"marker\":{\"maxdisplayed\":10},\"mode\":\"lines+markers\",\"name\":\"Trial23\",\"x\":[0,1,2,3,4,5,6,7,8,9,10,11,12,13,14,15],\"y\":[1.8953408833300132,1.7715451811136838,1.6734907982054725,1.5891156350628708,1.4668389297603217,1.4531833917907118,1.37289780210913,1.3571680164738997,1.319222351473369,1.2897365927026514,1.2351114207439207,1.215133430247896,1.173979232485375,1.1570436184325912,1.1326224730255898,1.1058365541897466],\"type\":\"scatter\"},{\"marker\":{\"maxdisplayed\":10},\"mode\":\"lines+markers\",\"name\":\"Trial24\",\"x\":[0,1,2,3,4,5,6,7,8,9,10,11,12,13,14,15,16,17,18,19,20,21,22,23,24,25,26,27],\"y\":[1.8051862582868465,1.6434288024902344,1.493923200636494,1.4539936014584136,1.320842941196597,1.2894229079995838,1.2460686077876963,1.1628151931324784,1.1126129724541491,1.0921597067190676,1.0693203521018124,1.0241338045013193,1.0166432760199724,0.9849403640445397,0.9749873462988404,0.9433082962522702,0.9476184224595829,0.9371247431453393,0.9142736610101196,0.9383244021814695,0.9170982928908601,0.880836989198412,0.887535480212192,0.8793295427244536,0.8955092959258021,0.9143434325043034,0.9299327551710362,0.9321065855269534],\"type\":\"scatter\"},{\"marker\":{\"maxdisplayed\":10},\"mode\":\"lines+markers\",\"name\":\"Trial25\",\"x\":[0,1,2,3,4,5,6,7,8,9,10,11],\"y\":[2.30277569361136,2.3027057261534125,2.3026843742585528,2.302667918339582,2.302658779520384,2.30267198992447,2.302650841189103,2.302633065572926,2.3026626748098455,2.3026478575988563,2.3026437977669936,2.3026496222321415],\"type\":\"scatter\"},{\"marker\":{\"maxdisplayed\":10},\"mode\":\"lines+markers\",\"name\":\"Trial26\",\"x\":[0,1,2,3,4,5,6,7,8],\"y\":[1.4629451797305164,1.3109807512177853,1.150944711425887,1.0308939781606477,0.9796114992436178,0.9925347923683124,1.020958641981749,1.0530822430887525,1.077583100114549],\"type\":\"scatter\"},{\"marker\":{\"maxdisplayed\":10},\"mode\":\"lines+markers\",\"name\":\"Trial27\",\"x\":[0,1,2,3,4,5,6,7,8,9,10,11,12,13,14,15],\"y\":[1.9976999534246254,1.8259357511997223,1.7288399541225188,1.6272255304532186,1.53521579083724,1.4704378690475066,1.4191581923992198,1.3792631104588502,1.3639117710483384,1.3508807573563013,1.3108264158169425,1.2732702721005842,1.2729347678713319,1.2623891511406644,1.1736270972551444,1.1866263559995545],\"type\":\"scatter\"},{\"marker\":{\"maxdisplayed\":10},\"mode\":\"lines+markers\",\"name\":\"Trial28\",\"x\":[0,1,2,3,4,5,6,7],\"y\":[2.303479911900368,2.303338874287967,2.3033295799704154,2.3033253585591025,2.3033255468897456,2.3033258814771633,2.303326789070577,2.303326103867604],\"type\":\"scatter\"},{\"marker\":{\"maxdisplayed\":10},\"mode\":\"lines+markers\",\"name\":\"Trial29\",\"x\":[0,1,2,3,4,5,6,7,8,9,10,11],\"y\":[1.5594750788322722,1.3460217100936314,1.2365997797527977,1.1739401415336967,1.0851541889268297,1.055258170463318,1.0152541963860042,1.0034908101309177,1.024561362557633,1.0426097387491267,1.0947271521354822,1.1867075314701998],\"type\":\"scatter\"},{\"marker\":{\"maxdisplayed\":10},\"mode\":\"lines+markers\",\"name\":\"Trial30\",\"x\":[0,1,2,3,4,5,6,7,8,9,10,11,12,13,14,15],\"y\":[2.302498294952067,2.3010622897046673,2.27461824518569,2.243125819145365,2.2130022556223756,2.193897506023976,2.1637674138901084,2.126071767604098,2.111672472446523,2.082638015138342,2.0473900171036417,2.0213118284306635,1.992355131088419,1.9849214046559438,1.953809192840089,1.925133656948171],\"type\":\"scatter\"},{\"marker\":{\"maxdisplayed\":10},\"mode\":\"lines+markers\",\"name\":\"Trial31\",\"x\":[0,1,2,3,4,5,6,7,8,9,10,11,12,13,14,15,16,17,18,19,20,21,22,23,24],\"y\":[1.8061550783823768,1.6788142215774717,1.483888654823763,1.4200342074934256,1.328708907207811,1.291917473436838,1.247969434203872,1.1782054305076595,1.1332175853740745,1.0741395849779425,1.0436195752706867,1.0184004378606044,0.9877020228339963,0.9655976755073269,0.957995914551149,0.923381417630667,0.9189981430409901,0.9002097959978033,0.8914250192872012,0.9029372585825175,0.8815758077495073,0.9093479162239169,0.9175676157675595,0.929552384169705,0.8904140526989858],\"type\":\"scatter\"},{\"marker\":{\"maxdisplayed\":10},\"mode\":\"lines+markers\",\"name\":\"Trial32\",\"x\":[0,1,2,3,4,5,6,7,8,9,10,11,12,13,14,15,16,17,18,19,20,21,22,23],\"y\":[1.801017405895086,1.5953737657803757,1.4901647728223064,1.3574315928495846,1.270403843659621,1.2259191601322248,1.1580539414515862,1.0981975169135973,1.0749984538325896,1.0233250667269411,1.0008538262202185,1.002691527398733,0.9454522671607826,0.9330384255601808,0.9064938271274934,0.9238592432095456,0.9229917761224965,0.8805315686533084,0.8986851466962924,0.874182585053719,0.9163980157329484,0.9109386414862598,0.9557077715603206,0.9424720538350252],\"type\":\"scatter\"},{\"marker\":{\"maxdisplayed\":10},\"mode\":\"lines+markers\",\"name\":\"Trial33\",\"x\":[0,1,2,3,4,5,6,7,8,9,10,11,12,13,14,15],\"y\":[1.9043675950595313,1.72103328364236,1.625099827562059,1.555604970455169,1.5124992745263237,1.4648886782782418,1.4420994247709,1.4057108879089357,1.345515528747014,1.3319528988429479,1.3134975041661945,1.301662232194628,1.268779340812138,1.2561122706958232,1.217210874387196,1.211425951548985],\"type\":\"scatter\"},{\"marker\":{\"maxdisplayed\":10},\"mode\":\"lines+markers\",\"name\":\"Trial34\",\"x\":[0,1,2,3,4,5,6,7,8,9,10,11,12,13,14],\"y\":[1.7398267972469332,1.4115770328044892,1.295462960600853,1.1698142910003666,1.0927055680751798,1.0413142526149743,0.9860421967506405,0.9494350582361223,0.8798179244995119,0.8830671167373656,0.8615798228979111,0.9023015856742859,0.8795920449495312,0.9283196502923966,0.9612635016441347],\"type\":\"scatter\"},{\"marker\":{\"maxdisplayed\":10},\"mode\":\"lines+markers\",\"name\":\"Trial35\",\"x\":[0,1,2,3,4,5,6,7,8,9,10,11,12,13,14,15,16,17,18,19,20,21,22],\"y\":[1.8907713609583237,1.5828456960472406,1.424981895615073,1.3436616320236054,1.2757436387679149,1.1971116346471453,1.1407102732097407,1.0917338267260908,1.0425236119943506,1.053738978563571,0.9864889459282746,0.9774953442461352,0.9574073500492992,0.9565030085105526,0.9074262813025831,0.8689249251403061,0.8820752045687508,0.8603721439254051,0.8468572935637306,0.8846003132707929,0.9193371268464067,0.8921048424991908,0.9076896070265299],\"type\":\"scatter\"},{\"marker\":{\"maxdisplayed\":10},\"mode\":\"lines+markers\",\"name\":\"Trial36\",\"x\":[0,1,2,3,4],\"y\":[2.3064591855887904,2.306787459247083,2.3069173600300243,2.306982712573317,2.307018911982157],\"type\":\"scatter\"},{\"marker\":{\"maxdisplayed\":10},\"mode\":\"lines+markers\",\"name\":\"Trial37\",\"x\":[0,1,2,3,4,5,6,7,8,9,10,11,12,13,14,15,16,17,18],\"y\":[1.7768537468380403,1.5459992074304156,1.403730569614304,1.290176558825705,1.1989026044805844,1.1216644148031873,1.0652794448865783,1.0294002617398899,0.9572134547763401,0.996909418867694,0.9754738459984464,0.9373137081662811,0.9289256872402298,1.0059955757525236,0.9823118961519666,0.9274915125634932,0.9434561034043633,0.9510275191730924,0.9893983445233768],\"type\":\"scatter\"},{\"marker\":{\"maxdisplayed\":10},\"mode\":\"lines+markers\",\"name\":\"Trial38\",\"x\":[0,1,2,3,4,5,6,7,8,9,10,11,12,13],\"y\":[1.68660860657692,1.4208690325419109,1.2103441804647448,1.1426573028167089,1.0458878080050151,0.990890869498253,0.9815135528643926,0.9845848381519318,0.9350877741972603,0.9325450231631596,0.9390426288048427,0.9483364870150883,0.9908102343479791,1.062893335024516],\"type\":\"scatter\"},{\"marker\":{\"maxdisplayed\":10},\"mode\":\"lines+markers\",\"name\":\"Trial39\",\"x\":[0,1,2,3,4,5,6,7,8,9],\"y\":[1.6269355007771695,1.3970044194982296,1.2211006692286286,1.168702965372064,1.0696838297201008,1.0199463226821985,1.0470712928289778,1.0455194155821639,1.0316026800134204,1.121845630447516],\"type\":\"scatter\"}],                        {\"showlegend\":false,\"title\":{\"text\":\"Intermediate Values Plot\"},\"xaxis\":{\"title\":{\"text\":\"Step\"}},\"yaxis\":{\"title\":{\"text\":\"Intermediate Value\"}},\"template\":{\"data\":{\"bar\":[{\"error_x\":{\"color\":\"#2a3f5f\"},\"error_y\":{\"color\":\"#2a3f5f\"},\"marker\":{\"line\":{\"color\":\"#E5ECF6\",\"width\":0.5},\"pattern\":{\"fillmode\":\"overlay\",\"size\":10,\"solidity\":0.2}},\"type\":\"bar\"}],\"barpolar\":[{\"marker\":{\"line\":{\"color\":\"#E5ECF6\",\"width\":0.5},\"pattern\":{\"fillmode\":\"overlay\",\"size\":10,\"solidity\":0.2}},\"type\":\"barpolar\"}],\"carpet\":[{\"aaxis\":{\"endlinecolor\":\"#2a3f5f\",\"gridcolor\":\"white\",\"linecolor\":\"white\",\"minorgridcolor\":\"white\",\"startlinecolor\":\"#2a3f5f\"},\"baxis\":{\"endlinecolor\":\"#2a3f5f\",\"gridcolor\":\"white\",\"linecolor\":\"white\",\"minorgridcolor\":\"white\",\"startlinecolor\":\"#2a3f5f\"},\"type\":\"carpet\"}],\"choropleth\":[{\"colorbar\":{\"outlinewidth\":0,\"ticks\":\"\"},\"type\":\"choropleth\"}],\"contour\":[{\"colorbar\":{\"outlinewidth\":0,\"ticks\":\"\"},\"colorscale\":[[0.0,\"#0d0887\"],[0.1111111111111111,\"#46039f\"],[0.2222222222222222,\"#7201a8\"],[0.3333333333333333,\"#9c179e\"],[0.4444444444444444,\"#bd3786\"],[0.5555555555555556,\"#d8576b\"],[0.6666666666666666,\"#ed7953\"],[0.7777777777777778,\"#fb9f3a\"],[0.8888888888888888,\"#fdca26\"],[1.0,\"#f0f921\"]],\"type\":\"contour\"}],\"contourcarpet\":[{\"colorbar\":{\"outlinewidth\":0,\"ticks\":\"\"},\"type\":\"contourcarpet\"}],\"heatmap\":[{\"colorbar\":{\"outlinewidth\":0,\"ticks\":\"\"},\"colorscale\":[[0.0,\"#0d0887\"],[0.1111111111111111,\"#46039f\"],[0.2222222222222222,\"#7201a8\"],[0.3333333333333333,\"#9c179e\"],[0.4444444444444444,\"#bd3786\"],[0.5555555555555556,\"#d8576b\"],[0.6666666666666666,\"#ed7953\"],[0.7777777777777778,\"#fb9f3a\"],[0.8888888888888888,\"#fdca26\"],[1.0,\"#f0f921\"]],\"type\":\"heatmap\"}],\"heatmapgl\":[{\"colorbar\":{\"outlinewidth\":0,\"ticks\":\"\"},\"colorscale\":[[0.0,\"#0d0887\"],[0.1111111111111111,\"#46039f\"],[0.2222222222222222,\"#7201a8\"],[0.3333333333333333,\"#9c179e\"],[0.4444444444444444,\"#bd3786\"],[0.5555555555555556,\"#d8576b\"],[0.6666666666666666,\"#ed7953\"],[0.7777777777777778,\"#fb9f3a\"],[0.8888888888888888,\"#fdca26\"],[1.0,\"#f0f921\"]],\"type\":\"heatmapgl\"}],\"histogram\":[{\"marker\":{\"pattern\":{\"fillmode\":\"overlay\",\"size\":10,\"solidity\":0.2}},\"type\":\"histogram\"}],\"histogram2d\":[{\"colorbar\":{\"outlinewidth\":0,\"ticks\":\"\"},\"colorscale\":[[0.0,\"#0d0887\"],[0.1111111111111111,\"#46039f\"],[0.2222222222222222,\"#7201a8\"],[0.3333333333333333,\"#9c179e\"],[0.4444444444444444,\"#bd3786\"],[0.5555555555555556,\"#d8576b\"],[0.6666666666666666,\"#ed7953\"],[0.7777777777777778,\"#fb9f3a\"],[0.8888888888888888,\"#fdca26\"],[1.0,\"#f0f921\"]],\"type\":\"histogram2d\"}],\"histogram2dcontour\":[{\"colorbar\":{\"outlinewidth\":0,\"ticks\":\"\"},\"colorscale\":[[0.0,\"#0d0887\"],[0.1111111111111111,\"#46039f\"],[0.2222222222222222,\"#7201a8\"],[0.3333333333333333,\"#9c179e\"],[0.4444444444444444,\"#bd3786\"],[0.5555555555555556,\"#d8576b\"],[0.6666666666666666,\"#ed7953\"],[0.7777777777777778,\"#fb9f3a\"],[0.8888888888888888,\"#fdca26\"],[1.0,\"#f0f921\"]],\"type\":\"histogram2dcontour\"}],\"mesh3d\":[{\"colorbar\":{\"outlinewidth\":0,\"ticks\":\"\"},\"type\":\"mesh3d\"}],\"parcoords\":[{\"line\":{\"colorbar\":{\"outlinewidth\":0,\"ticks\":\"\"}},\"type\":\"parcoords\"}],\"pie\":[{\"automargin\":true,\"type\":\"pie\"}],\"scatter\":[{\"marker\":{\"colorbar\":{\"outlinewidth\":0,\"ticks\":\"\"}},\"type\":\"scatter\"}],\"scatter3d\":[{\"line\":{\"colorbar\":{\"outlinewidth\":0,\"ticks\":\"\"}},\"marker\":{\"colorbar\":{\"outlinewidth\":0,\"ticks\":\"\"}},\"type\":\"scatter3d\"}],\"scattercarpet\":[{\"marker\":{\"colorbar\":{\"outlinewidth\":0,\"ticks\":\"\"}},\"type\":\"scattercarpet\"}],\"scattergeo\":[{\"marker\":{\"colorbar\":{\"outlinewidth\":0,\"ticks\":\"\"}},\"type\":\"scattergeo\"}],\"scattergl\":[{\"marker\":{\"colorbar\":{\"outlinewidth\":0,\"ticks\":\"\"}},\"type\":\"scattergl\"}],\"scattermapbox\":[{\"marker\":{\"colorbar\":{\"outlinewidth\":0,\"ticks\":\"\"}},\"type\":\"scattermapbox\"}],\"scatterpolar\":[{\"marker\":{\"colorbar\":{\"outlinewidth\":0,\"ticks\":\"\"}},\"type\":\"scatterpolar\"}],\"scatterpolargl\":[{\"marker\":{\"colorbar\":{\"outlinewidth\":0,\"ticks\":\"\"}},\"type\":\"scatterpolargl\"}],\"scatterternary\":[{\"marker\":{\"colorbar\":{\"outlinewidth\":0,\"ticks\":\"\"}},\"type\":\"scatterternary\"}],\"surface\":[{\"colorbar\":{\"outlinewidth\":0,\"ticks\":\"\"},\"colorscale\":[[0.0,\"#0d0887\"],[0.1111111111111111,\"#46039f\"],[0.2222222222222222,\"#7201a8\"],[0.3333333333333333,\"#9c179e\"],[0.4444444444444444,\"#bd3786\"],[0.5555555555555556,\"#d8576b\"],[0.6666666666666666,\"#ed7953\"],[0.7777777777777778,\"#fb9f3a\"],[0.8888888888888888,\"#fdca26\"],[1.0,\"#f0f921\"]],\"type\":\"surface\"}],\"table\":[{\"cells\":{\"fill\":{\"color\":\"#EBF0F8\"},\"line\":{\"color\":\"white\"}},\"header\":{\"fill\":{\"color\":\"#C8D4E3\"},\"line\":{\"color\":\"white\"}},\"type\":\"table\"}]},\"layout\":{\"annotationdefaults\":{\"arrowcolor\":\"#2a3f5f\",\"arrowhead\":0,\"arrowwidth\":1},\"autotypenumbers\":\"strict\",\"coloraxis\":{\"colorbar\":{\"outlinewidth\":0,\"ticks\":\"\"}},\"colorscale\":{\"diverging\":[[0,\"#8e0152\"],[0.1,\"#c51b7d\"],[0.2,\"#de77ae\"],[0.3,\"#f1b6da\"],[0.4,\"#fde0ef\"],[0.5,\"#f7f7f7\"],[0.6,\"#e6f5d0\"],[0.7,\"#b8e186\"],[0.8,\"#7fbc41\"],[0.9,\"#4d9221\"],[1,\"#276419\"]],\"sequential\":[[0.0,\"#0d0887\"],[0.1111111111111111,\"#46039f\"],[0.2222222222222222,\"#7201a8\"],[0.3333333333333333,\"#9c179e\"],[0.4444444444444444,\"#bd3786\"],[0.5555555555555556,\"#d8576b\"],[0.6666666666666666,\"#ed7953\"],[0.7777777777777778,\"#fb9f3a\"],[0.8888888888888888,\"#fdca26\"],[1.0,\"#f0f921\"]],\"sequentialminus\":[[0.0,\"#0d0887\"],[0.1111111111111111,\"#46039f\"],[0.2222222222222222,\"#7201a8\"],[0.3333333333333333,\"#9c179e\"],[0.4444444444444444,\"#bd3786\"],[0.5555555555555556,\"#d8576b\"],[0.6666666666666666,\"#ed7953\"],[0.7777777777777778,\"#fb9f3a\"],[0.8888888888888888,\"#fdca26\"],[1.0,\"#f0f921\"]]},\"colorway\":[\"#636efa\",\"#EF553B\",\"#00cc96\",\"#ab63fa\",\"#FFA15A\",\"#19d3f3\",\"#FF6692\",\"#B6E880\",\"#FF97FF\",\"#FECB52\"],\"font\":{\"color\":\"#2a3f5f\"},\"geo\":{\"bgcolor\":\"white\",\"lakecolor\":\"white\",\"landcolor\":\"#E5ECF6\",\"showlakes\":true,\"showland\":true,\"subunitcolor\":\"white\"},\"hoverlabel\":{\"align\":\"left\"},\"hovermode\":\"closest\",\"mapbox\":{\"style\":\"light\"},\"paper_bgcolor\":\"white\",\"plot_bgcolor\":\"#E5ECF6\",\"polar\":{\"angularaxis\":{\"gridcolor\":\"white\",\"linecolor\":\"white\",\"ticks\":\"\"},\"bgcolor\":\"#E5ECF6\",\"radialaxis\":{\"gridcolor\":\"white\",\"linecolor\":\"white\",\"ticks\":\"\"}},\"scene\":{\"xaxis\":{\"backgroundcolor\":\"#E5ECF6\",\"gridcolor\":\"white\",\"gridwidth\":2,\"linecolor\":\"white\",\"showbackground\":true,\"ticks\":\"\",\"zerolinecolor\":\"white\"},\"yaxis\":{\"backgroundcolor\":\"#E5ECF6\",\"gridcolor\":\"white\",\"gridwidth\":2,\"linecolor\":\"white\",\"showbackground\":true,\"ticks\":\"\",\"zerolinecolor\":\"white\"},\"zaxis\":{\"backgroundcolor\":\"#E5ECF6\",\"gridcolor\":\"white\",\"gridwidth\":2,\"linecolor\":\"white\",\"showbackground\":true,\"ticks\":\"\",\"zerolinecolor\":\"white\"}},\"shapedefaults\":{\"line\":{\"color\":\"#2a3f5f\"}},\"ternary\":{\"aaxis\":{\"gridcolor\":\"white\",\"linecolor\":\"white\",\"ticks\":\"\"},\"baxis\":{\"gridcolor\":\"white\",\"linecolor\":\"white\",\"ticks\":\"\"},\"bgcolor\":\"#E5ECF6\",\"caxis\":{\"gridcolor\":\"white\",\"linecolor\":\"white\",\"ticks\":\"\"}},\"title\":{\"x\":0.05},\"xaxis\":{\"automargin\":true,\"gridcolor\":\"white\",\"linecolor\":\"white\",\"ticks\":\"\",\"title\":{\"standoff\":15},\"zerolinecolor\":\"white\",\"zerolinewidth\":2},\"yaxis\":{\"automargin\":true,\"gridcolor\":\"white\",\"linecolor\":\"white\",\"ticks\":\"\",\"title\":{\"standoff\":15},\"zerolinecolor\":\"white\",\"zerolinewidth\":2}}}},                        {\"responsive\": true}                    ).then(function(){\n",
       "                            \n",
       "var gd = document.getElementById('1ea48eba-c655-4ad0-8f10-c9d3e117daec');\n",
       "var x = new MutationObserver(function (mutations, observer) {{\n",
       "        var display = window.getComputedStyle(gd).display;\n",
       "        if (!display || display === 'none') {{\n",
       "            console.log([gd, 'removed!']);\n",
       "            Plotly.purge(gd);\n",
       "            observer.disconnect();\n",
       "        }}\n",
       "}});\n",
       "\n",
       "// Listen for the removal of the full notebook cells\n",
       "var notebookContainer = gd.closest('#notebook-container');\n",
       "if (notebookContainer) {{\n",
       "    x.observe(notebookContainer, {childList: true});\n",
       "}}\n",
       "\n",
       "// Listen for the clearing of the current output cell\n",
       "var outputEl = gd.closest('.output');\n",
       "if (outputEl) {{\n",
       "    x.observe(outputEl, {childList: true});\n",
       "}}\n",
       "\n",
       "                        })                };                });            </script>        </div>"
      ]
     },
     "metadata": {},
     "output_type": "display_data"
    }
   ],
   "source": [
    "optuna.visualization.plot_intermediate_values(study)"
   ]
  },
  {
   "cell_type": "code",
   "execution_count": 21,
   "id": "842f7bbc",
   "metadata": {
    "execution": {
     "iopub.execute_input": "2022-01-09T20:12:24.458461Z",
     "iopub.status.busy": "2022-01-09T20:12:24.450981Z",
     "iopub.status.idle": "2022-01-09T20:12:24.478106Z",
     "shell.execute_reply": "2022-01-09T20:12:24.478703Z",
     "shell.execute_reply.started": "2022-01-08T17:27:10.016444Z"
    },
    "papermill": {
     "duration": 0.859782,
     "end_time": "2022-01-09T20:12:24.478890",
     "exception": false,
     "start_time": "2022-01-09T20:12:23.619108",
     "status": "completed"
    },
    "tags": []
   },
   "outputs": [
    {
     "data": {
      "text/html": [
       "<div>                            <div id=\"0151f93c-e47c-4804-a6f9-76fdc807a774\" class=\"plotly-graph-div\" style=\"height:525px; width:100%;\"></div>            <script type=\"text/javascript\">                require([\"plotly\"], function(Plotly) {                    window.PLOTLYENV=window.PLOTLYENV || {};                                    if (document.getElementById(\"0151f93c-e47c-4804-a6f9-76fdc807a774\")) {                    Plotly.newPlot(                        \"0151f93c-e47c-4804-a6f9-76fdc807a774\",                        [{\"mode\":\"markers\",\"name\":\"Objective Value\",\"x\":[0,1,2,3,4,5,6,7,8,9,10,11,12,14,16,18,19,22,24,25,26,28,29,31,32,34,35,36,38,39],\"y\":[0.9663325294852255,0.8538003005400426,0.9333370736837385,2.308023227112635,0.9594035801822195,2.3308440674943625,2.304749325097323,0.9173180745775198,0.970559313589213,2.1159408791311862,2.3026118452185833,0.8779827433663444,0.9928599794705705,2.3027173531055456,0.9710360651466702,0.9328236542642117,0.8594228555448353,0.9695012574436284,0.8793295427244536,2.302633065572926,0.9796114992436178,2.3033253585591025,1.0034908101309177,0.8815758077495073,0.874182585053719,0.8615798228979111,0.8468572935637306,2.3064591855887904,0.9325450231631596,1.0199463226821985],\"type\":\"scatter\"},{\"name\":\"Best Value\",\"x\":[0,1,2,3,4,5,6,7,8,9,10,11,12,14,16,18,19,22,24,25,26,28,29,31,32,34,35,36,38,39],\"y\":[0.9663325294852255,0.8538003005400426,0.8538003005400426,0.8538003005400426,0.8538003005400426,0.8538003005400426,0.8538003005400426,0.8538003005400426,0.8538003005400426,0.8538003005400426,0.8538003005400426,0.8538003005400426,0.8538003005400426,0.8538003005400426,0.8538003005400426,0.8538003005400426,0.8538003005400426,0.8538003005400426,0.8538003005400426,0.8538003005400426,0.8538003005400426,0.8538003005400426,0.8538003005400426,0.8538003005400426,0.8538003005400426,0.8538003005400426,0.8468572935637306,0.8468572935637306,0.8468572935637306,0.8468572935637306],\"type\":\"scatter\"}],                        {\"title\":{\"text\":\"Optimization History Plot\"},\"xaxis\":{\"title\":{\"text\":\"#Trials\"}},\"yaxis\":{\"title\":{\"text\":\"Objective Value\"}},\"template\":{\"data\":{\"bar\":[{\"error_x\":{\"color\":\"#2a3f5f\"},\"error_y\":{\"color\":\"#2a3f5f\"},\"marker\":{\"line\":{\"color\":\"#E5ECF6\",\"width\":0.5},\"pattern\":{\"fillmode\":\"overlay\",\"size\":10,\"solidity\":0.2}},\"type\":\"bar\"}],\"barpolar\":[{\"marker\":{\"line\":{\"color\":\"#E5ECF6\",\"width\":0.5},\"pattern\":{\"fillmode\":\"overlay\",\"size\":10,\"solidity\":0.2}},\"type\":\"barpolar\"}],\"carpet\":[{\"aaxis\":{\"endlinecolor\":\"#2a3f5f\",\"gridcolor\":\"white\",\"linecolor\":\"white\",\"minorgridcolor\":\"white\",\"startlinecolor\":\"#2a3f5f\"},\"baxis\":{\"endlinecolor\":\"#2a3f5f\",\"gridcolor\":\"white\",\"linecolor\":\"white\",\"minorgridcolor\":\"white\",\"startlinecolor\":\"#2a3f5f\"},\"type\":\"carpet\"}],\"choropleth\":[{\"colorbar\":{\"outlinewidth\":0,\"ticks\":\"\"},\"type\":\"choropleth\"}],\"contour\":[{\"colorbar\":{\"outlinewidth\":0,\"ticks\":\"\"},\"colorscale\":[[0.0,\"#0d0887\"],[0.1111111111111111,\"#46039f\"],[0.2222222222222222,\"#7201a8\"],[0.3333333333333333,\"#9c179e\"],[0.4444444444444444,\"#bd3786\"],[0.5555555555555556,\"#d8576b\"],[0.6666666666666666,\"#ed7953\"],[0.7777777777777778,\"#fb9f3a\"],[0.8888888888888888,\"#fdca26\"],[1.0,\"#f0f921\"]],\"type\":\"contour\"}],\"contourcarpet\":[{\"colorbar\":{\"outlinewidth\":0,\"ticks\":\"\"},\"type\":\"contourcarpet\"}],\"heatmap\":[{\"colorbar\":{\"outlinewidth\":0,\"ticks\":\"\"},\"colorscale\":[[0.0,\"#0d0887\"],[0.1111111111111111,\"#46039f\"],[0.2222222222222222,\"#7201a8\"],[0.3333333333333333,\"#9c179e\"],[0.4444444444444444,\"#bd3786\"],[0.5555555555555556,\"#d8576b\"],[0.6666666666666666,\"#ed7953\"],[0.7777777777777778,\"#fb9f3a\"],[0.8888888888888888,\"#fdca26\"],[1.0,\"#f0f921\"]],\"type\":\"heatmap\"}],\"heatmapgl\":[{\"colorbar\":{\"outlinewidth\":0,\"ticks\":\"\"},\"colorscale\":[[0.0,\"#0d0887\"],[0.1111111111111111,\"#46039f\"],[0.2222222222222222,\"#7201a8\"],[0.3333333333333333,\"#9c179e\"],[0.4444444444444444,\"#bd3786\"],[0.5555555555555556,\"#d8576b\"],[0.6666666666666666,\"#ed7953\"],[0.7777777777777778,\"#fb9f3a\"],[0.8888888888888888,\"#fdca26\"],[1.0,\"#f0f921\"]],\"type\":\"heatmapgl\"}],\"histogram\":[{\"marker\":{\"pattern\":{\"fillmode\":\"overlay\",\"size\":10,\"solidity\":0.2}},\"type\":\"histogram\"}],\"histogram2d\":[{\"colorbar\":{\"outlinewidth\":0,\"ticks\":\"\"},\"colorscale\":[[0.0,\"#0d0887\"],[0.1111111111111111,\"#46039f\"],[0.2222222222222222,\"#7201a8\"],[0.3333333333333333,\"#9c179e\"],[0.4444444444444444,\"#bd3786\"],[0.5555555555555556,\"#d8576b\"],[0.6666666666666666,\"#ed7953\"],[0.7777777777777778,\"#fb9f3a\"],[0.8888888888888888,\"#fdca26\"],[1.0,\"#f0f921\"]],\"type\":\"histogram2d\"}],\"histogram2dcontour\":[{\"colorbar\":{\"outlinewidth\":0,\"ticks\":\"\"},\"colorscale\":[[0.0,\"#0d0887\"],[0.1111111111111111,\"#46039f\"],[0.2222222222222222,\"#7201a8\"],[0.3333333333333333,\"#9c179e\"],[0.4444444444444444,\"#bd3786\"],[0.5555555555555556,\"#d8576b\"],[0.6666666666666666,\"#ed7953\"],[0.7777777777777778,\"#fb9f3a\"],[0.8888888888888888,\"#fdca26\"],[1.0,\"#f0f921\"]],\"type\":\"histogram2dcontour\"}],\"mesh3d\":[{\"colorbar\":{\"outlinewidth\":0,\"ticks\":\"\"},\"type\":\"mesh3d\"}],\"parcoords\":[{\"line\":{\"colorbar\":{\"outlinewidth\":0,\"ticks\":\"\"}},\"type\":\"parcoords\"}],\"pie\":[{\"automargin\":true,\"type\":\"pie\"}],\"scatter\":[{\"marker\":{\"colorbar\":{\"outlinewidth\":0,\"ticks\":\"\"}},\"type\":\"scatter\"}],\"scatter3d\":[{\"line\":{\"colorbar\":{\"outlinewidth\":0,\"ticks\":\"\"}},\"marker\":{\"colorbar\":{\"outlinewidth\":0,\"ticks\":\"\"}},\"type\":\"scatter3d\"}],\"scattercarpet\":[{\"marker\":{\"colorbar\":{\"outlinewidth\":0,\"ticks\":\"\"}},\"type\":\"scattercarpet\"}],\"scattergeo\":[{\"marker\":{\"colorbar\":{\"outlinewidth\":0,\"ticks\":\"\"}},\"type\":\"scattergeo\"}],\"scattergl\":[{\"marker\":{\"colorbar\":{\"outlinewidth\":0,\"ticks\":\"\"}},\"type\":\"scattergl\"}],\"scattermapbox\":[{\"marker\":{\"colorbar\":{\"outlinewidth\":0,\"ticks\":\"\"}},\"type\":\"scattermapbox\"}],\"scatterpolar\":[{\"marker\":{\"colorbar\":{\"outlinewidth\":0,\"ticks\":\"\"}},\"type\":\"scatterpolar\"}],\"scatterpolargl\":[{\"marker\":{\"colorbar\":{\"outlinewidth\":0,\"ticks\":\"\"}},\"type\":\"scatterpolargl\"}],\"scatterternary\":[{\"marker\":{\"colorbar\":{\"outlinewidth\":0,\"ticks\":\"\"}},\"type\":\"scatterternary\"}],\"surface\":[{\"colorbar\":{\"outlinewidth\":0,\"ticks\":\"\"},\"colorscale\":[[0.0,\"#0d0887\"],[0.1111111111111111,\"#46039f\"],[0.2222222222222222,\"#7201a8\"],[0.3333333333333333,\"#9c179e\"],[0.4444444444444444,\"#bd3786\"],[0.5555555555555556,\"#d8576b\"],[0.6666666666666666,\"#ed7953\"],[0.7777777777777778,\"#fb9f3a\"],[0.8888888888888888,\"#fdca26\"],[1.0,\"#f0f921\"]],\"type\":\"surface\"}],\"table\":[{\"cells\":{\"fill\":{\"color\":\"#EBF0F8\"},\"line\":{\"color\":\"white\"}},\"header\":{\"fill\":{\"color\":\"#C8D4E3\"},\"line\":{\"color\":\"white\"}},\"type\":\"table\"}]},\"layout\":{\"annotationdefaults\":{\"arrowcolor\":\"#2a3f5f\",\"arrowhead\":0,\"arrowwidth\":1},\"autotypenumbers\":\"strict\",\"coloraxis\":{\"colorbar\":{\"outlinewidth\":0,\"ticks\":\"\"}},\"colorscale\":{\"diverging\":[[0,\"#8e0152\"],[0.1,\"#c51b7d\"],[0.2,\"#de77ae\"],[0.3,\"#f1b6da\"],[0.4,\"#fde0ef\"],[0.5,\"#f7f7f7\"],[0.6,\"#e6f5d0\"],[0.7,\"#b8e186\"],[0.8,\"#7fbc41\"],[0.9,\"#4d9221\"],[1,\"#276419\"]],\"sequential\":[[0.0,\"#0d0887\"],[0.1111111111111111,\"#46039f\"],[0.2222222222222222,\"#7201a8\"],[0.3333333333333333,\"#9c179e\"],[0.4444444444444444,\"#bd3786\"],[0.5555555555555556,\"#d8576b\"],[0.6666666666666666,\"#ed7953\"],[0.7777777777777778,\"#fb9f3a\"],[0.8888888888888888,\"#fdca26\"],[1.0,\"#f0f921\"]],\"sequentialminus\":[[0.0,\"#0d0887\"],[0.1111111111111111,\"#46039f\"],[0.2222222222222222,\"#7201a8\"],[0.3333333333333333,\"#9c179e\"],[0.4444444444444444,\"#bd3786\"],[0.5555555555555556,\"#d8576b\"],[0.6666666666666666,\"#ed7953\"],[0.7777777777777778,\"#fb9f3a\"],[0.8888888888888888,\"#fdca26\"],[1.0,\"#f0f921\"]]},\"colorway\":[\"#636efa\",\"#EF553B\",\"#00cc96\",\"#ab63fa\",\"#FFA15A\",\"#19d3f3\",\"#FF6692\",\"#B6E880\",\"#FF97FF\",\"#FECB52\"],\"font\":{\"color\":\"#2a3f5f\"},\"geo\":{\"bgcolor\":\"white\",\"lakecolor\":\"white\",\"landcolor\":\"#E5ECF6\",\"showlakes\":true,\"showland\":true,\"subunitcolor\":\"white\"},\"hoverlabel\":{\"align\":\"left\"},\"hovermode\":\"closest\",\"mapbox\":{\"style\":\"light\"},\"paper_bgcolor\":\"white\",\"plot_bgcolor\":\"#E5ECF6\",\"polar\":{\"angularaxis\":{\"gridcolor\":\"white\",\"linecolor\":\"white\",\"ticks\":\"\"},\"bgcolor\":\"#E5ECF6\",\"radialaxis\":{\"gridcolor\":\"white\",\"linecolor\":\"white\",\"ticks\":\"\"}},\"scene\":{\"xaxis\":{\"backgroundcolor\":\"#E5ECF6\",\"gridcolor\":\"white\",\"gridwidth\":2,\"linecolor\":\"white\",\"showbackground\":true,\"ticks\":\"\",\"zerolinecolor\":\"white\"},\"yaxis\":{\"backgroundcolor\":\"#E5ECF6\",\"gridcolor\":\"white\",\"gridwidth\":2,\"linecolor\":\"white\",\"showbackground\":true,\"ticks\":\"\",\"zerolinecolor\":\"white\"},\"zaxis\":{\"backgroundcolor\":\"#E5ECF6\",\"gridcolor\":\"white\",\"gridwidth\":2,\"linecolor\":\"white\",\"showbackground\":true,\"ticks\":\"\",\"zerolinecolor\":\"white\"}},\"shapedefaults\":{\"line\":{\"color\":\"#2a3f5f\"}},\"ternary\":{\"aaxis\":{\"gridcolor\":\"white\",\"linecolor\":\"white\",\"ticks\":\"\"},\"baxis\":{\"gridcolor\":\"white\",\"linecolor\":\"white\",\"ticks\":\"\"},\"bgcolor\":\"#E5ECF6\",\"caxis\":{\"gridcolor\":\"white\",\"linecolor\":\"white\",\"ticks\":\"\"}},\"title\":{\"x\":0.05},\"xaxis\":{\"automargin\":true,\"gridcolor\":\"white\",\"linecolor\":\"white\",\"ticks\":\"\",\"title\":{\"standoff\":15},\"zerolinecolor\":\"white\",\"zerolinewidth\":2},\"yaxis\":{\"automargin\":true,\"gridcolor\":\"white\",\"linecolor\":\"white\",\"ticks\":\"\",\"title\":{\"standoff\":15},\"zerolinecolor\":\"white\",\"zerolinewidth\":2}}}},                        {\"responsive\": true}                    ).then(function(){\n",
       "                            \n",
       "var gd = document.getElementById('0151f93c-e47c-4804-a6f9-76fdc807a774');\n",
       "var x = new MutationObserver(function (mutations, observer) {{\n",
       "        var display = window.getComputedStyle(gd).display;\n",
       "        if (!display || display === 'none') {{\n",
       "            console.log([gd, 'removed!']);\n",
       "            Plotly.purge(gd);\n",
       "            observer.disconnect();\n",
       "        }}\n",
       "}});\n",
       "\n",
       "// Listen for the removal of the full notebook cells\n",
       "var notebookContainer = gd.closest('#notebook-container');\n",
       "if (notebookContainer) {{\n",
       "    x.observe(notebookContainer, {childList: true});\n",
       "}}\n",
       "\n",
       "// Listen for the clearing of the current output cell\n",
       "var outputEl = gd.closest('.output');\n",
       "if (outputEl) {{\n",
       "    x.observe(outputEl, {childList: true});\n",
       "}}\n",
       "\n",
       "                        })                };                });            </script>        </div>"
      ]
     },
     "metadata": {},
     "output_type": "display_data"
    }
   ],
   "source": [
    "optuna.visualization.plot_optimization_history(study)"
   ]
  },
  {
   "cell_type": "markdown",
   "id": "553c7d3d",
   "metadata": {},
   "source": [
    "We can look at the distribution of best losses. Should have used a higher number of bins!"
   ]
  },
  {
   "cell_type": "code",
   "execution_count": 22,
   "id": "c76afed7",
   "metadata": {
    "execution": {
     "iopub.execute_input": "2022-01-09T20:12:29.566267Z",
     "iopub.status.busy": "2022-01-09T20:12:29.565594Z",
     "iopub.status.idle": "2022-01-09T20:12:29.975454Z",
     "shell.execute_reply": "2022-01-09T20:12:29.975953Z",
     "shell.execute_reply.started": "2022-01-08T17:27:10.046483Z"
    },
    "papermill": {
     "duration": 1.052154,
     "end_time": "2022-01-09T20:12:29.976125",
     "exception": false,
     "start_time": "2022-01-09T20:12:28.923971",
     "status": "completed"
    },
    "tags": []
   },
   "outputs": [
    {
     "name": "stderr",
     "output_type": "stream",
     "text": [
      "/opt/conda/lib/python3.7/site-packages/seaborn/distributions.py:2619: FutureWarning:\n",
      "\n",
      "`distplot` is a deprecated function and will be removed in a future version. Please adapt your code to use either `displot` (a figure-level function with similar flexibility) or `histplot` (an axes-level function for histograms).\n",
      "\n"
     ]
    },
    {
     "data": {
      "image/png": "[encoded data removed]",
      "text/plain": [
       "<Figure size 640x320 with 1 Axes>"
      ]
     },
     "metadata": {
      "needs_background": "light"
     },
     "output_type": "display_data"
    }
   ],
   "source": [
    "import seaborn as sns\n",
    "plt.figure(figsize=(8, 4), dpi=80)\n",
    "sns.distplot(study.trials_dataframe().value.values);"
   ]
  },
  {
   "cell_type": "markdown",
   "id": "cece47f5",
   "metadata": {
    "id": "I1v_xkn-cMxC",
    "papermill": {
     "duration": 0.623837,
     "end_time": "2022-01-09T20:12:27.028722",
     "exception": false,
     "start_time": "2022-01-09T20:12:26.404885",
     "status": "completed"
    },
    "tags": []
   },
   "source": [
    "### Analyzing hyperparameter interactions"
   ]
  },
  {
   "cell_type": "markdown",
   "id": "52e4107f",
   "metadata": {
    "id": "hHlDxIRDfkEO",
    "papermill": {
     "duration": 0.632376,
     "end_time": "2022-01-09T20:12:28.289796",
     "exception": false,
     "start_time": "2022-01-09T20:12:27.657420",
     "status": "completed"
    },
    "tags": []
   },
   "source": [
    "The parallel coordinate plot below shows which combination of hyperparameters work. We can also use this to select low complexity models with similar performance to the best performance. "
   ]
  },
  {
   "cell_type": "code",
   "execution_count": 23,
   "id": "e66f6c3f",
   "metadata": {
    "execution": {
     "iopub.execute_input": "2022-01-09T20:12:31.262901Z",
     "iopub.status.busy": "2022-01-09T20:12:31.257719Z",
     "iopub.status.idle": "2022-01-09T20:12:31.272469Z",
     "shell.execute_reply": "2022-01-09T20:12:31.272971Z",
     "shell.execute_reply.started": "2022-01-08T17:27:10.433856Z"
    },
    "papermill": {
     "duration": 0.661579,
     "end_time": "2022-01-09T20:12:31.273120",
     "exception": false,
     "start_time": "2022-01-09T20:12:30.611541",
     "status": "completed"
    },
    "tags": []
   },
   "outputs": [
    {
     "data": {
      "text/html": [
       "<div>                            <div id=\"98ebad1e-0985-4d74-aebb-8246e24ce2b2\" class=\"plotly-graph-div\" style=\"height:525px; width:100%;\"></div>            <script type=\"text/javascript\">                require([\"plotly\"], function(Plotly) {                    window.PLOTLYENV=window.PLOTLYENV || {};                                    if (document.getElementById(\"98ebad1e-0985-4d74-aebb-8246e24ce2b2\")) {                    Plotly.newPlot(                        \"98ebad1e-0985-4d74-aebb-8246e24ce2b2\",                        [{\"dimensions\":[{\"label\":\"Objective Value\",\"range\":[0.8468572935637306,2.3308440674943625],\"values\":[0.9663325294852255,0.8538003005400426,0.9333370736837385,2.308023227112635,0.9594035801822195,2.3308440674943625,2.304749325097323,0.9173180745775198,0.970559313589213,2.1159408791311862,2.3026118452185833,0.8779827433663444,0.9928599794705705,2.3027173531055456,0.9710360651466702,0.9328236542642117,0.8594228555448353,0.9695012574436284,0.8793295427244536,2.302633065572926,0.9796114992436178,2.3033253585591025,1.0034908101309177,0.8815758077495073,0.874182585053719,0.8615798228979111,0.8468572935637306,2.3064591855887904,0.9325450231631596,1.0199463226821985]},{\"label\":\"batch_size\",\"range\":[17,124],\"values\":[124,42,20,89,68,18,30,17,51,85,33,27,32,25,23,39,26,21,51,35,23,42,29,60,48,50,49,60,83,56]},{\"label\":\"dense\",\"range\":[259,1019],\"values\":[598,402,960,508,733,665,391,648,259,355,404,500,481,450,806,468,415,546,435,287,519,608,580,426,440,1019,852,1016,916,743]},{\"label\":\"dropout\",\"range\":[0.1,1.0],\"values\":[0.1,0.7000000000000001,0.5,0.7000000000000001,0.2,0.30000000000000004,0.8,0.30000000000000004,0.7000000000000001,0.6,1.0,0.4,0.5,0.4,0.4,0.4,0.7000000000000001,0.8,0.5,0.9,0.30000000000000004,0.6,0.1,0.5,0.5,0.6,0.7000000000000001,0.8,0.7000000000000001,0.6]},{\"label\":\"lr\",\"range\":[-4.883901996150103,-0.8744077495628464],\"ticktext\":[\"1.31e-05\",\"0.0001\",\"0.001\",\"0.01\",\"0.1\",\"0.134\"],\"tickvals\":[-4.883901996150103,-4,-3,-2,-1,-0.8744077495628464],\"values\":[-4.232314883099159,-4.222836016089979,-4.015356794343093,-1.0301277991130147,-3.992502253507096,-0.8744077495628464,-1.8586073789578546,-4.698972632210322,-4.883901996150103,-1.993947391255981,-3.1226721862904565,-4.866605821816518,-3.5135855933813476,-2.7187975971084195,-3.3570734539246385,-3.619102311103973,-4.50356157154798,-3.8774921603038206,-4.218528382616639,-3.004541008654614,-3.7767600881774936,-2.173824395857809,-4.253289109225088,-4.194608342143448,-4.100719703810508,-3.984118909950445,-4.042942790090676,-1.4212847848057266,-3.4315698539522717,-3.176266173103348]},{\"label\":\"vgg_b1\",\"range\":[129,506],\"values\":[310,258,249,217,372,463,208,370,399,506,137,314,286,307,183,339,424,340,231,327,382,195,301,231,161,129,138,130,145,130]},{\"label\":\"vgg_b2\",\"range\":[136,468],\"values\":[162,247,160,198,468,429,216,351,223,277,292,358,351,136,392,318,244,295,197,272,317,235,393,186,205,260,141,147,152,180]},{\"label\":\"vgg_b3\",\"range\":[139,510],\"values\":[289,206,291,232,230,234,346,285,308,336,151,464,510,484,417,139,407,441,206,450,265,379,471,208,197,244,250,255,225,274]}],\"labelangle\":30,\"labelside\":\"bottom\",\"line\":{\"color\":[0.9663325294852255,0.8538003005400426,0.9333370736837385,2.308023227112635,0.9594035801822195,2.3308440674943625,2.304749325097323,0.9173180745775198,0.970559313589213,2.1159408791311862,2.3026118452185833,0.8779827433663444,0.9928599794705705,2.3027173531055456,0.9710360651466702,0.9328236542642117,0.8594228555448353,0.9695012574436284,0.8793295427244536,2.302633065572926,0.9796114992436178,2.3033253585591025,1.0034908101309177,0.8815758077495073,0.874182585053719,0.8615798228979111,0.8468572935637306,2.3064591855887904,0.9325450231631596,1.0199463226821985],\"colorbar\":{\"title\":{\"text\":\"Objective Value\"}},\"colorscale\":[[0.0,\"rgb(247,251,255)\"],[0.125,\"rgb(222,235,247)\"],[0.25,\"rgb(198,219,239)\"],[0.375,\"rgb(158,202,225)\"],[0.5,\"rgb(107,174,214)\"],[0.625,\"rgb(66,146,198)\"],[0.75,\"rgb(33,113,181)\"],[0.875,\"rgb(8,81,156)\"],[1.0,\"rgb(8,48,107)\"]],\"reversescale\":true,\"showscale\":true},\"type\":\"parcoords\"}],                        {\"title\":{\"text\":\"Parallel Coordinate Plot\"},\"template\":{\"data\":{\"bar\":[{\"error_x\":{\"color\":\"#2a3f5f\"},\"error_y\":{\"color\":\"#2a3f5f\"},\"marker\":{\"line\":{\"color\":\"#E5ECF6\",\"width\":0.5},\"pattern\":{\"fillmode\":\"overlay\",\"size\":10,\"solidity\":0.2}},\"type\":\"bar\"}],\"barpolar\":[{\"marker\":{\"line\":{\"color\":\"#E5ECF6\",\"width\":0.5},\"pattern\":{\"fillmode\":\"overlay\",\"size\":10,\"solidity\":0.2}},\"type\":\"barpolar\"}],\"carpet\":[{\"aaxis\":{\"endlinecolor\":\"#2a3f5f\",\"gridcolor\":\"white\",\"linecolor\":\"white\",\"minorgridcolor\":\"white\",\"startlinecolor\":\"#2a3f5f\"},\"baxis\":{\"endlinecolor\":\"#2a3f5f\",\"gridcolor\":\"white\",\"linecolor\":\"white\",\"minorgridcolor\":\"white\",\"startlinecolor\":\"#2a3f5f\"},\"type\":\"carpet\"}],\"choropleth\":[{\"colorbar\":{\"outlinewidth\":0,\"ticks\":\"\"},\"type\":\"choropleth\"}],\"contour\":[{\"colorbar\":{\"outlinewidth\":0,\"ticks\":\"\"},\"colorscale\":[[0.0,\"#0d0887\"],[0.1111111111111111,\"#46039f\"],[0.2222222222222222,\"#7201a8\"],[0.3333333333333333,\"#9c179e\"],[0.4444444444444444,\"#bd3786\"],[0.5555555555555556,\"#d8576b\"],[0.6666666666666666,\"#ed7953\"],[0.7777777777777778,\"#fb9f3a\"],[0.8888888888888888,\"#fdca26\"],[1.0,\"#f0f921\"]],\"type\":\"contour\"}],\"contourcarpet\":[{\"colorbar\":{\"outlinewidth\":0,\"ticks\":\"\"},\"type\":\"contourcarpet\"}],\"heatmap\":[{\"colorbar\":{\"outlinewidth\":0,\"ticks\":\"\"},\"colorscale\":[[0.0,\"#0d0887\"],[0.1111111111111111,\"#46039f\"],[0.2222222222222222,\"#7201a8\"],[0.3333333333333333,\"#9c179e\"],[0.4444444444444444,\"#bd3786\"],[0.5555555555555556,\"#d8576b\"],[0.6666666666666666,\"#ed7953\"],[0.7777777777777778,\"#fb9f3a\"],[0.8888888888888888,\"#fdca26\"],[1.0,\"#f0f921\"]],\"type\":\"heatmap\"}],\"heatmapgl\":[{\"colorbar\":{\"outlinewidth\":0,\"ticks\":\"\"},\"colorscale\":[[0.0,\"#0d0887\"],[0.1111111111111111,\"#46039f\"],[0.2222222222222222,\"#7201a8\"],[0.3333333333333333,\"#9c179e\"],[0.4444444444444444,\"#bd3786\"],[0.5555555555555556,\"#d8576b\"],[0.6666666666666666,\"#ed7953\"],[0.7777777777777778,\"#fb9f3a\"],[0.8888888888888888,\"#fdca26\"],[1.0,\"#f0f921\"]],\"type\":\"heatmapgl\"}],\"histogram\":[{\"marker\":{\"pattern\":{\"fillmode\":\"overlay\",\"size\":10,\"solidity\":0.2}},\"type\":\"histogram\"}],\"histogram2d\":[{\"colorbar\":{\"outlinewidth\":0,\"ticks\":\"\"},\"colorscale\":[[0.0,\"#0d0887\"],[0.1111111111111111,\"#46039f\"],[0.2222222222222222,\"#7201a8\"],[0.3333333333333333,\"#9c179e\"],[0.4444444444444444,\"#bd3786\"],[0.5555555555555556,\"#d8576b\"],[0.6666666666666666,\"#ed7953\"],[0.7777777777777778,\"#fb9f3a\"],[0.8888888888888888,\"#fdca26\"],[1.0,\"#f0f921\"]],\"type\":\"histogram2d\"}],\"histogram2dcontour\":[{\"colorbar\":{\"outlinewidth\":0,\"ticks\":\"\"},\"colorscale\":[[0.0,\"#0d0887\"],[0.1111111111111111,\"#46039f\"],[0.2222222222222222,\"#7201a8\"],[0.3333333333333333,\"#9c179e\"],[0.4444444444444444,\"#bd3786\"],[0.5555555555555556,\"#d8576b\"],[0.6666666666666666,\"#ed7953\"],[0.7777777777777778,\"#fb9f3a\"],[0.8888888888888888,\"#fdca26\"],[1.0,\"#f0f921\"]],\"type\":\"histogram2dcontour\"}],\"mesh3d\":[{\"colorbar\":{\"outlinewidth\":0,\"ticks\":\"\"},\"type\":\"mesh3d\"}],\"parcoords\":[{\"line\":{\"colorbar\":{\"outlinewidth\":0,\"ticks\":\"\"}},\"type\":\"parcoords\"}],\"pie\":[{\"automargin\":true,\"type\":\"pie\"}],\"scatter\":[{\"marker\":{\"colorbar\":{\"outlinewidth\":0,\"ticks\":\"\"}},\"type\":\"scatter\"}],\"scatter3d\":[{\"line\":{\"colorbar\":{\"outlinewidth\":0,\"ticks\":\"\"}},\"marker\":{\"colorbar\":{\"outlinewidth\":0,\"ticks\":\"\"}},\"type\":\"scatter3d\"}],\"scattercarpet\":[{\"marker\":{\"colorbar\":{\"outlinewidth\":0,\"ticks\":\"\"}},\"type\":\"scattercarpet\"}],\"scattergeo\":[{\"marker\":{\"colorbar\":{\"outlinewidth\":0,\"ticks\":\"\"}},\"type\":\"scattergeo\"}],\"scattergl\":[{\"marker\":{\"colorbar\":{\"outlinewidth\":0,\"ticks\":\"\"}},\"type\":\"scattergl\"}],\"scattermapbox\":[{\"marker\":{\"colorbar\":{\"outlinewidth\":0,\"ticks\":\"\"}},\"type\":\"scattermapbox\"}],\"scatterpolar\":[{\"marker\":{\"colorbar\":{\"outlinewidth\":0,\"ticks\":\"\"}},\"type\":\"scatterpolar\"}],\"scatterpolargl\":[{\"marker\":{\"colorbar\":{\"outlinewidth\":0,\"ticks\":\"\"}},\"type\":\"scatterpolargl\"}],\"scatterternary\":[{\"marker\":{\"colorbar\":{\"outlinewidth\":0,\"ticks\":\"\"}},\"type\":\"scatterternary\"}],\"surface\":[{\"colorbar\":{\"outlinewidth\":0,\"ticks\":\"\"},\"colorscale\":[[0.0,\"#0d0887\"],[0.1111111111111111,\"#46039f\"],[0.2222222222222222,\"#7201a8\"],[0.3333333333333333,\"#9c179e\"],[0.4444444444444444,\"#bd3786\"],[0.5555555555555556,\"#d8576b\"],[0.6666666666666666,\"#ed7953\"],[0.7777777777777778,\"#fb9f3a\"],[0.8888888888888888,\"#fdca26\"],[1.0,\"#f0f921\"]],\"type\":\"surface\"}],\"table\":[{\"cells\":{\"fill\":{\"color\":\"#EBF0F8\"},\"line\":{\"color\":\"white\"}},\"header\":{\"fill\":{\"color\":\"#C8D4E3\"},\"line\":{\"color\":\"white\"}},\"type\":\"table\"}]},\"layout\":{\"annotationdefaults\":{\"arrowcolor\":\"#2a3f5f\",\"arrowhead\":0,\"arrowwidth\":1},\"autotypenumbers\":\"strict\",\"coloraxis\":{\"colorbar\":{\"outlinewidth\":0,\"ticks\":\"\"}},\"colorscale\":{\"diverging\":[[0,\"#8e0152\"],[0.1,\"#c51b7d\"],[0.2,\"#de77ae\"],[0.3,\"#f1b6da\"],[0.4,\"#fde0ef\"],[0.5,\"#f7f7f7\"],[0.6,\"#e6f5d0\"],[0.7,\"#b8e186\"],[0.8,\"#7fbc41\"],[0.9,\"#4d9221\"],[1,\"#276419\"]],\"sequential\":[[0.0,\"#0d0887\"],[0.1111111111111111,\"#46039f\"],[0.2222222222222222,\"#7201a8\"],[0.3333333333333333,\"#9c179e\"],[0.4444444444444444,\"#bd3786\"],[0.5555555555555556,\"#d8576b\"],[0.6666666666666666,\"#ed7953\"],[0.7777777777777778,\"#fb9f3a\"],[0.8888888888888888,\"#fdca26\"],[1.0,\"#f0f921\"]],\"sequentialminus\":[[0.0,\"#0d0887\"],[0.1111111111111111,\"#46039f\"],[0.2222222222222222,\"#7201a8\"],[0.3333333333333333,\"#9c179e\"],[0.4444444444444444,\"#bd3786\"],[0.5555555555555556,\"#d8576b\"],[0.6666666666666666,\"#ed7953\"],[0.7777777777777778,\"#fb9f3a\"],[0.8888888888888888,\"#fdca26\"],[1.0,\"#f0f921\"]]},\"colorway\":[\"#636efa\",\"#EF553B\",\"#00cc96\",\"#ab63fa\",\"#FFA15A\",\"#19d3f3\",\"#FF6692\",\"#B6E880\",\"#FF97FF\",\"#FECB52\"],\"font\":{\"color\":\"#2a3f5f\"},\"geo\":{\"bgcolor\":\"white\",\"lakecolor\":\"white\",\"landcolor\":\"#E5ECF6\",\"showlakes\":true,\"showland\":true,\"subunitcolor\":\"white\"},\"hoverlabel\":{\"align\":\"left\"},\"hovermode\":\"closest\",\"mapbox\":{\"style\":\"light\"},\"paper_bgcolor\":\"white\",\"plot_bgcolor\":\"#E5ECF6\",\"polar\":{\"angularaxis\":{\"gridcolor\":\"white\",\"linecolor\":\"white\",\"ticks\":\"\"},\"bgcolor\":\"#E5ECF6\",\"radialaxis\":{\"gridcolor\":\"white\",\"linecolor\":\"white\",\"ticks\":\"\"}},\"scene\":{\"xaxis\":{\"backgroundcolor\":\"#E5ECF6\",\"gridcolor\":\"white\",\"gridwidth\":2,\"linecolor\":\"white\",\"showbackground\":true,\"ticks\":\"\",\"zerolinecolor\":\"white\"},\"yaxis\":{\"backgroundcolor\":\"#E5ECF6\",\"gridcolor\":\"white\",\"gridwidth\":2,\"linecolor\":\"white\",\"showbackground\":true,\"ticks\":\"\",\"zerolinecolor\":\"white\"},\"zaxis\":{\"backgroundcolor\":\"#E5ECF6\",\"gridcolor\":\"white\",\"gridwidth\":2,\"linecolor\":\"white\",\"showbackground\":true,\"ticks\":\"\",\"zerolinecolor\":\"white\"}},\"shapedefaults\":{\"line\":{\"color\":\"#2a3f5f\"}},\"ternary\":{\"aaxis\":{\"gridcolor\":\"white\",\"linecolor\":\"white\",\"ticks\":\"\"},\"baxis\":{\"gridcolor\":\"white\",\"linecolor\":\"white\",\"ticks\":\"\"},\"bgcolor\":\"#E5ECF6\",\"caxis\":{\"gridcolor\":\"white\",\"linecolor\":\"white\",\"ticks\":\"\"}},\"title\":{\"x\":0.05},\"xaxis\":{\"automargin\":true,\"gridcolor\":\"white\",\"linecolor\":\"white\",\"ticks\":\"\",\"title\":{\"standoff\":15},\"zerolinecolor\":\"white\",\"zerolinewidth\":2},\"yaxis\":{\"automargin\":true,\"gridcolor\":\"white\",\"linecolor\":\"white\",\"ticks\":\"\",\"title\":{\"standoff\":15},\"zerolinecolor\":\"white\",\"zerolinewidth\":2}}}},                        {\"responsive\": true}                    ).then(function(){\n",
       "                            \n",
       "var gd = document.getElementById('98ebad1e-0985-4d74-aebb-8246e24ce2b2');\n",
       "var x = new MutationObserver(function (mutations, observer) {{\n",
       "        var display = window.getComputedStyle(gd).display;\n",
       "        if (!display || display === 'none') {{\n",
       "            console.log([gd, 'removed!']);\n",
       "            Plotly.purge(gd);\n",
       "            observer.disconnect();\n",
       "        }}\n",
       "}});\n",
       "\n",
       "// Listen for the removal of the full notebook cells\n",
       "var notebookContainer = gd.closest('#notebook-container');\n",
       "if (notebookContainer) {{\n",
       "    x.observe(notebookContainer, {childList: true});\n",
       "}}\n",
       "\n",
       "// Listen for the clearing of the current output cell\n",
       "var outputEl = gd.closest('.output');\n",
       "if (outputEl) {{\n",
       "    x.observe(outputEl, {childList: true});\n",
       "}}\n",
       "\n",
       "                        })                };                });            </script>        </div>"
      ]
     },
     "metadata": {},
     "output_type": "display_data"
    }
   ],
   "source": [
    "optuna.visualization.plot_parallel_coordinate(study)"
   ]
  },
  {
   "cell_type": "code",
   "execution_count": 24,
   "id": "9866b77b",
   "metadata": {
    "execution": {
     "iopub.execute_input": "2022-01-09T20:12:39.266349Z",
     "iopub.status.busy": "2022-01-09T20:12:39.265508Z",
     "iopub.status.idle": "2022-01-09T20:12:39.386323Z",
     "shell.execute_reply": "2022-01-09T20:12:39.385910Z",
     "shell.execute_reply.started": "2022-01-08T17:30:00.202456Z"
    },
    "papermill": {
     "duration": 0.773373,
     "end_time": "2022-01-09T20:12:39.386439",
     "exception": false,
     "start_time": "2022-01-09T20:12:38.613066",
     "status": "completed"
    },
    "tags": []
   },
   "outputs": [
    {
     "data": {
      "text/html": [
       "<div>                            <div id=\"dfa582df-5007-44f3-9728-8fece300a32e\" class=\"plotly-graph-div\" style=\"height:450px; width:1200px;\"></div>            <script type=\"text/javascript\">                require([\"plotly\"], function(Plotly) {                    window.PLOTLYENV=window.PLOTLYENV || {};                                    if (document.getElementById(\"dfa582df-5007-44f3-9728-8fece300a32e\")) {                    Plotly.newPlot(                        \"dfa582df-5007-44f3-9728-8fece300a32e\",                        [{\"marker\":{\"color\":[0,1,2,3,4,5,6,7,8,9,10,11,12,14,16,18,19,22,24,25,26,28,29,31,32,34,35,36,38,39],\"colorbar\":{\"title\":{\"text\":\"#Trials\"},\"x\":1.0,\"xpad\":40},\"colorscale\":[[0.0,\"rgb(247,251,255)\"],[0.125,\"rgb(222,235,247)\"],[0.25,\"rgb(198,219,239)\"],[0.375,\"rgb(158,202,225)\"],[0.5,\"rgb(107,174,214)\"],[0.625,\"rgb(66,146,198)\"],[0.75,\"rgb(33,113,181)\"],[0.875,\"rgb(8,81,156)\"],[1.0,\"rgb(8,48,107)\"]],\"line\":{\"color\":\"Grey\",\"width\":0.5},\"showscale\":true},\"mode\":\"markers\",\"showlegend\":false,\"x\":[124,42,20,89,68,18,30,17,51,85,33,27,32,25,23,39,26,21,51,35,23,42,29,60,48,50,49,60,83,56],\"y\":[0.9663325294852255,0.8538003005400426,0.9333370736837385,2.308023227112635,0.9594035801822195,2.3308440674943625,2.304749325097323,0.9173180745775198,0.970559313589213,2.1159408791311862,2.3026118452185833,0.8779827433663444,0.9928599794705705,2.3027173531055456,0.9710360651466702,0.9328236542642117,0.8594228555448353,0.9695012574436284,0.8793295427244536,2.302633065572926,0.9796114992436178,2.3033253585591025,1.0034908101309177,0.8815758077495073,0.874182585053719,0.8615798228979111,0.8468572935637306,2.3064591855887904,0.9325450231631596,1.0199463226821985],\"type\":\"scatter\",\"xaxis\":\"x\",\"yaxis\":\"y\"},{\"marker\":{\"color\":[0,1,2,3,4,5,6,7,8,9,10,11,12,14,16,18,19,22,24,25,26,28,29,31,32,34,35,36,38,39],\"colorbar\":{\"title\":{\"text\":\"#Trials\"},\"x\":1.0,\"xpad\":40},\"colorscale\":[[0.0,\"rgb(247,251,255)\"],[0.125,\"rgb(222,235,247)\"],[0.25,\"rgb(198,219,239)\"],[0.375,\"rgb(158,202,225)\"],[0.5,\"rgb(107,174,214)\"],[0.625,\"rgb(66,146,198)\"],[0.75,\"rgb(33,113,181)\"],[0.875,\"rgb(8,81,156)\"],[1.0,\"rgb(8,48,107)\"]],\"line\":{\"color\":\"Grey\",\"width\":0.5},\"showscale\":false},\"mode\":\"markers\",\"showlegend\":false,\"x\":[598,402,960,508,733,665,391,648,259,355,404,500,481,450,806,468,415,546,435,287,519,608,580,426,440,1019,852,1016,916,743],\"y\":[0.9663325294852255,0.8538003005400426,0.9333370736837385,2.308023227112635,0.9594035801822195,2.3308440674943625,2.304749325097323,0.9173180745775198,0.970559313589213,2.1159408791311862,2.3026118452185833,0.8779827433663444,0.9928599794705705,2.3027173531055456,0.9710360651466702,0.9328236542642117,0.8594228555448353,0.9695012574436284,0.8793295427244536,2.302633065572926,0.9796114992436178,2.3033253585591025,1.0034908101309177,0.8815758077495073,0.874182585053719,0.8615798228979111,0.8468572935637306,2.3064591855887904,0.9325450231631596,1.0199463226821985],\"type\":\"scatter\",\"xaxis\":\"x2\",\"yaxis\":\"y2\"},{\"marker\":{\"color\":[0,1,2,3,4,5,6,7,8,9,10,11,12,14,16,18,19,22,24,25,26,28,29,31,32,34,35,36,38,39],\"colorbar\":{\"title\":{\"text\":\"#Trials\"},\"x\":1.0,\"xpad\":40},\"colorscale\":[[0.0,\"rgb(247,251,255)\"],[0.125,\"rgb(222,235,247)\"],[0.25,\"rgb(198,219,239)\"],[0.375,\"rgb(158,202,225)\"],[0.5,\"rgb(107,174,214)\"],[0.625,\"rgb(66,146,198)\"],[0.75,\"rgb(33,113,181)\"],[0.875,\"rgb(8,81,156)\"],[1.0,\"rgb(8,48,107)\"]],\"line\":{\"color\":\"Grey\",\"width\":0.5},\"showscale\":false},\"mode\":\"markers\",\"showlegend\":false,\"x\":[0.1,0.7000000000000001,0.5,0.7000000000000001,0.2,0.30000000000000004,0.8,0.30000000000000004,0.7000000000000001,0.6,1.0,0.4,0.5,0.4,0.4,0.4,0.7000000000000001,0.8,0.5,0.9,0.30000000000000004,0.6,0.1,0.5,0.5,0.6,0.7000000000000001,0.8,0.7000000000000001,0.6],\"y\":[0.9663325294852255,0.8538003005400426,0.9333370736837385,2.308023227112635,0.9594035801822195,2.3308440674943625,2.304749325097323,0.9173180745775198,0.970559313589213,2.1159408791311862,2.3026118452185833,0.8779827433663444,0.9928599794705705,2.3027173531055456,0.9710360651466702,0.9328236542642117,0.8594228555448353,0.9695012574436284,0.8793295427244536,2.302633065572926,0.9796114992436178,2.3033253585591025,1.0034908101309177,0.8815758077495073,0.874182585053719,0.8615798228979111,0.8468572935637306,2.3064591855887904,0.9325450231631596,1.0199463226821985],\"type\":\"scatter\",\"xaxis\":\"x3\",\"yaxis\":\"y3\"},{\"marker\":{\"color\":[0,1,2,3,4,5,6,7,8,9,10,11,12,14,16,18,19,22,24,25,26,28,29,31,32,34,35,36,38,39],\"colorbar\":{\"title\":{\"text\":\"#Trials\"},\"x\":1.0,\"xpad\":40},\"colorscale\":[[0.0,\"rgb(247,251,255)\"],[0.125,\"rgb(222,235,247)\"],[0.25,\"rgb(198,219,239)\"],[0.375,\"rgb(158,202,225)\"],[0.5,\"rgb(107,174,214)\"],[0.625,\"rgb(66,146,198)\"],[0.75,\"rgb(33,113,181)\"],[0.875,\"rgb(8,81,156)\"],[1.0,\"rgb(8,48,107)\"]],\"line\":{\"color\":\"Grey\",\"width\":0.5},\"showscale\":false},\"mode\":\"markers\",\"showlegend\":false,\"x\":[0.000058571334191863526,0.00005986375901071346,0.00009652575464574833,0.09329797140131525,0.00010174140869152476,0.13353412052488867,0.013848177485291456,0.000019999878982282223,0.000013064656747928878,0.01014034214456914,0.0007539244254643046,0.00001359546850655156,0.00030648865735273913,0.0019107435528946583,0.0004394672803314361,0.00024037964468769132,0.00003136450432363738,0.000132589105195643,0.00006046048370778813,0.0009895984157195427,0.00016720140088459775,0.006701555276590694,0.000055809854563142486,0.00006388393481294276,0.00007930129805507095,0.00010372443791344133,0.00009058519215325063,0.037906633402615846,0.0003701946567741201,0.0006663982177439894],\"y\":[0.9663325294852255,0.8538003005400426,0.9333370736837385,2.308023227112635,0.9594035801822195,2.3308440674943625,2.304749325097323,0.9173180745775198,0.970559313589213,2.1159408791311862,2.3026118452185833,0.8779827433663444,0.9928599794705705,2.3027173531055456,0.9710360651466702,0.9328236542642117,0.8594228555448353,0.9695012574436284,0.8793295427244536,2.302633065572926,0.9796114992436178,2.3033253585591025,1.0034908101309177,0.8815758077495073,0.874182585053719,0.8615798228979111,0.8468572935637306,2.3064591855887904,0.9325450231631596,1.0199463226821985],\"type\":\"scatter\",\"xaxis\":\"x4\",\"yaxis\":\"y4\"},{\"marker\":{\"color\":[0,1,2,3,4,5,6,7,8,9,10,11,12,14,16,18,19,22,24,25,26,28,29,31,32,34,35,36,38,39],\"colorbar\":{\"title\":{\"text\":\"#Trials\"},\"x\":1.0,\"xpad\":40},\"colorscale\":[[0.0,\"rgb(247,251,255)\"],[0.125,\"rgb(222,235,247)\"],[0.25,\"rgb(198,219,239)\"],[0.375,\"rgb(158,202,225)\"],[0.5,\"rgb(107,174,214)\"],[0.625,\"rgb(66,146,198)\"],[0.75,\"rgb(33,113,181)\"],[0.875,\"rgb(8,81,156)\"],[1.0,\"rgb(8,48,107)\"]],\"line\":{\"color\":\"Grey\",\"width\":0.5},\"showscale\":false},\"mode\":\"markers\",\"showlegend\":false,\"x\":[310,258,249,217,372,463,208,370,399,506,137,314,286,307,183,339,424,340,231,327,382,195,301,231,161,129,138,130,145,130],\"y\":[0.9663325294852255,0.8538003005400426,0.9333370736837385,2.308023227112635,0.9594035801822195,2.3308440674943625,2.304749325097323,0.9173180745775198,0.970559313589213,2.1159408791311862,2.3026118452185833,0.8779827433663444,0.9928599794705705,2.3027173531055456,0.9710360651466702,0.9328236542642117,0.8594228555448353,0.9695012574436284,0.8793295427244536,2.302633065572926,0.9796114992436178,2.3033253585591025,1.0034908101309177,0.8815758077495073,0.874182585053719,0.8615798228979111,0.8468572935637306,2.3064591855887904,0.9325450231631596,1.0199463226821985],\"type\":\"scatter\",\"xaxis\":\"x5\",\"yaxis\":\"y5\"},{\"marker\":{\"color\":[0,1,2,3,4,5,6,7,8,9,10,11,12,14,16,18,19,22,24,25,26,28,29,31,32,34,35,36,38,39],\"colorbar\":{\"title\":{\"text\":\"#Trials\"},\"x\":1.0,\"xpad\":40},\"colorscale\":[[0.0,\"rgb(247,251,255)\"],[0.125,\"rgb(222,235,247)\"],[0.25,\"rgb(198,219,239)\"],[0.375,\"rgb(158,202,225)\"],[0.5,\"rgb(107,174,214)\"],[0.625,\"rgb(66,146,198)\"],[0.75,\"rgb(33,113,181)\"],[0.875,\"rgb(8,81,156)\"],[1.0,\"rgb(8,48,107)\"]],\"line\":{\"color\":\"Grey\",\"width\":0.5},\"showscale\":false},\"mode\":\"markers\",\"showlegend\":false,\"x\":[162,247,160,198,468,429,216,351,223,277,292,358,351,136,392,318,244,295,197,272,317,235,393,186,205,260,141,147,152,180],\"y\":[0.9663325294852255,0.8538003005400426,0.9333370736837385,2.308023227112635,0.9594035801822195,2.3308440674943625,2.304749325097323,0.9173180745775198,0.970559313589213,2.1159408791311862,2.3026118452185833,0.8779827433663444,0.9928599794705705,2.3027173531055456,0.9710360651466702,0.9328236542642117,0.8594228555448353,0.9695012574436284,0.8793295427244536,2.302633065572926,0.9796114992436178,2.3033253585591025,1.0034908101309177,0.8815758077495073,0.874182585053719,0.8615798228979111,0.8468572935637306,2.3064591855887904,0.9325450231631596,1.0199463226821985],\"type\":\"scatter\",\"xaxis\":\"x6\",\"yaxis\":\"y6\"},{\"marker\":{\"color\":[0,1,2,3,4,5,6,7,8,9,10,11,12,14,16,18,19,22,24,25,26,28,29,31,32,34,35,36,38,39],\"colorbar\":{\"title\":{\"text\":\"#Trials\"},\"x\":1.0,\"xpad\":40},\"colorscale\":[[0.0,\"rgb(247,251,255)\"],[0.125,\"rgb(222,235,247)\"],[0.25,\"rgb(198,219,239)\"],[0.375,\"rgb(158,202,225)\"],[0.5,\"rgb(107,174,214)\"],[0.625,\"rgb(66,146,198)\"],[0.75,\"rgb(33,113,181)\"],[0.875,\"rgb(8,81,156)\"],[1.0,\"rgb(8,48,107)\"]],\"line\":{\"color\":\"Grey\",\"width\":0.5},\"showscale\":false},\"mode\":\"markers\",\"showlegend\":false,\"x\":[289,206,291,232,230,234,346,285,308,336,151,464,510,484,417,139,407,441,206,450,265,379,471,208,197,244,250,255,225,274],\"y\":[0.9663325294852255,0.8538003005400426,0.9333370736837385,2.308023227112635,0.9594035801822195,2.3308440674943625,2.304749325097323,0.9173180745775198,0.970559313589213,2.1159408791311862,2.3026118452185833,0.8779827433663444,0.9928599794705705,2.3027173531055456,0.9710360651466702,0.9328236542642117,0.8594228555448353,0.9695012574436284,0.8793295427244536,2.302633065572926,0.9796114992436178,2.3033253585591025,1.0034908101309177,0.8815758077495073,0.874182585053719,0.8615798228979111,0.8468572935637306,2.3064591855887904,0.9325450231631596,1.0199463226821985],\"type\":\"scatter\",\"xaxis\":\"x7\",\"yaxis\":\"y7\"}],                        {\"template\":{\"data\":{\"bar\":[{\"error_x\":{\"color\":\"#2a3f5f\"},\"error_y\":{\"color\":\"#2a3f5f\"},\"marker\":{\"line\":{\"color\":\"#E5ECF6\",\"width\":0.5},\"pattern\":{\"fillmode\":\"overlay\",\"size\":10,\"solidity\":0.2}},\"type\":\"bar\"}],\"barpolar\":[{\"marker\":{\"line\":{\"color\":\"#E5ECF6\",\"width\":0.5},\"pattern\":{\"fillmode\":\"overlay\",\"size\":10,\"solidity\":0.2}},\"type\":\"barpolar\"}],\"carpet\":[{\"aaxis\":{\"endlinecolor\":\"#2a3f5f\",\"gridcolor\":\"white\",\"linecolor\":\"white\",\"minorgridcolor\":\"white\",\"startlinecolor\":\"#2a3f5f\"},\"baxis\":{\"endlinecolor\":\"#2a3f5f\",\"gridcolor\":\"white\",\"linecolor\":\"white\",\"minorgridcolor\":\"white\",\"startlinecolor\":\"#2a3f5f\"},\"type\":\"carpet\"}],\"choropleth\":[{\"colorbar\":{\"outlinewidth\":0,\"ticks\":\"\"},\"type\":\"choropleth\"}],\"contour\":[{\"colorbar\":{\"outlinewidth\":0,\"ticks\":\"\"},\"colorscale\":[[0.0,\"#0d0887\"],[0.1111111111111111,\"#46039f\"],[0.2222222222222222,\"#7201a8\"],[0.3333333333333333,\"#9c179e\"],[0.4444444444444444,\"#bd3786\"],[0.5555555555555556,\"#d8576b\"],[0.6666666666666666,\"#ed7953\"],[0.7777777777777778,\"#fb9f3a\"],[0.8888888888888888,\"#fdca26\"],[1.0,\"#f0f921\"]],\"type\":\"contour\"}],\"contourcarpet\":[{\"colorbar\":{\"outlinewidth\":0,\"ticks\":\"\"},\"type\":\"contourcarpet\"}],\"heatmap\":[{\"colorbar\":{\"outlinewidth\":0,\"ticks\":\"\"},\"colorscale\":[[0.0,\"#0d0887\"],[0.1111111111111111,\"#46039f\"],[0.2222222222222222,\"#7201a8\"],[0.3333333333333333,\"#9c179e\"],[0.4444444444444444,\"#bd3786\"],[0.5555555555555556,\"#d8576b\"],[0.6666666666666666,\"#ed7953\"],[0.7777777777777778,\"#fb9f3a\"],[0.8888888888888888,\"#fdca26\"],[1.0,\"#f0f921\"]],\"type\":\"heatmap\"}],\"heatmapgl\":[{\"colorbar\":{\"outlinewidth\":0,\"ticks\":\"\"},\"colorscale\":[[0.0,\"#0d0887\"],[0.1111111111111111,\"#46039f\"],[0.2222222222222222,\"#7201a8\"],[0.3333333333333333,\"#9c179e\"],[0.4444444444444444,\"#bd3786\"],[0.5555555555555556,\"#d8576b\"],[0.6666666666666666,\"#ed7953\"],[0.7777777777777778,\"#fb9f3a\"],[0.8888888888888888,\"#fdca26\"],[1.0,\"#f0f921\"]],\"type\":\"heatmapgl\"}],\"histogram\":[{\"marker\":{\"pattern\":{\"fillmode\":\"overlay\",\"size\":10,\"solidity\":0.2}},\"type\":\"histogram\"}],\"histogram2d\":[{\"colorbar\":{\"outlinewidth\":0,\"ticks\":\"\"},\"colorscale\":[[0.0,\"#0d0887\"],[0.1111111111111111,\"#46039f\"],[0.2222222222222222,\"#7201a8\"],[0.3333333333333333,\"#9c179e\"],[0.4444444444444444,\"#bd3786\"],[0.5555555555555556,\"#d8576b\"],[0.6666666666666666,\"#ed7953\"],[0.7777777777777778,\"#fb9f3a\"],[0.8888888888888888,\"#fdca26\"],[1.0,\"#f0f921\"]],\"type\":\"histogram2d\"}],\"histogram2dcontour\":[{\"colorbar\":{\"outlinewidth\":0,\"ticks\":\"\"},\"colorscale\":[[0.0,\"#0d0887\"],[0.1111111111111111,\"#46039f\"],[0.2222222222222222,\"#7201a8\"],[0.3333333333333333,\"#9c179e\"],[0.4444444444444444,\"#bd3786\"],[0.5555555555555556,\"#d8576b\"],[0.6666666666666666,\"#ed7953\"],[0.7777777777777778,\"#fb9f3a\"],[0.8888888888888888,\"#fdca26\"],[1.0,\"#f0f921\"]],\"type\":\"histogram2dcontour\"}],\"mesh3d\":[{\"colorbar\":{\"outlinewidth\":0,\"ticks\":\"\"},\"type\":\"mesh3d\"}],\"parcoords\":[{\"line\":{\"colorbar\":{\"outlinewidth\":0,\"ticks\":\"\"}},\"type\":\"parcoords\"}],\"pie\":[{\"automargin\":true,\"type\":\"pie\"}],\"scatter\":[{\"marker\":{\"colorbar\":{\"outlinewidth\":0,\"ticks\":\"\"}},\"type\":\"scatter\"}],\"scatter3d\":[{\"line\":{\"colorbar\":{\"outlinewidth\":0,\"ticks\":\"\"}},\"marker\":{\"colorbar\":{\"outlinewidth\":0,\"ticks\":\"\"}},\"type\":\"scatter3d\"}],\"scattercarpet\":[{\"marker\":{\"colorbar\":{\"outlinewidth\":0,\"ticks\":\"\"}},\"type\":\"scattercarpet\"}],\"scattergeo\":[{\"marker\":{\"colorbar\":{\"outlinewidth\":0,\"ticks\":\"\"}},\"type\":\"scattergeo\"}],\"scattergl\":[{\"marker\":{\"colorbar\":{\"outlinewidth\":0,\"ticks\":\"\"}},\"type\":\"scattergl\"}],\"scattermapbox\":[{\"marker\":{\"colorbar\":{\"outlinewidth\":0,\"ticks\":\"\"}},\"type\":\"scattermapbox\"}],\"scatterpolar\":[{\"marker\":{\"colorbar\":{\"outlinewidth\":0,\"ticks\":\"\"}},\"type\":\"scatterpolar\"}],\"scatterpolargl\":[{\"marker\":{\"colorbar\":{\"outlinewidth\":0,\"ticks\":\"\"}},\"type\":\"scatterpolargl\"}],\"scatterternary\":[{\"marker\":{\"colorbar\":{\"outlinewidth\":0,\"ticks\":\"\"}},\"type\":\"scatterternary\"}],\"surface\":[{\"colorbar\":{\"outlinewidth\":0,\"ticks\":\"\"},\"colorscale\":[[0.0,\"#0d0887\"],[0.1111111111111111,\"#46039f\"],[0.2222222222222222,\"#7201a8\"],[0.3333333333333333,\"#9c179e\"],[0.4444444444444444,\"#bd3786\"],[0.5555555555555556,\"#d8576b\"],[0.6666666666666666,\"#ed7953\"],[0.7777777777777778,\"#fb9f3a\"],[0.8888888888888888,\"#fdca26\"],[1.0,\"#f0f921\"]],\"type\":\"surface\"}],\"table\":[{\"cells\":{\"fill\":{\"color\":\"#EBF0F8\"},\"line\":{\"color\":\"white\"}},\"header\":{\"fill\":{\"color\":\"#C8D4E3\"},\"line\":{\"color\":\"white\"}},\"type\":\"table\"}]},\"layout\":{\"annotationdefaults\":{\"arrowcolor\":\"#2a3f5f\",\"arrowhead\":0,\"arrowwidth\":1},\"autotypenumbers\":\"strict\",\"coloraxis\":{\"colorbar\":{\"outlinewidth\":0,\"ticks\":\"\"}},\"colorscale\":{\"diverging\":[[0,\"#8e0152\"],[0.1,\"#c51b7d\"],[0.2,\"#de77ae\"],[0.3,\"#f1b6da\"],[0.4,\"#fde0ef\"],[0.5,\"#f7f7f7\"],[0.6,\"#e6f5d0\"],[0.7,\"#b8e186\"],[0.8,\"#7fbc41\"],[0.9,\"#4d9221\"],[1,\"#276419\"]],\"sequential\":[[0.0,\"#0d0887\"],[0.1111111111111111,\"#46039f\"],[0.2222222222222222,\"#7201a8\"],[0.3333333333333333,\"#9c179e\"],[0.4444444444444444,\"#bd3786\"],[0.5555555555555556,\"#d8576b\"],[0.6666666666666666,\"#ed7953\"],[0.7777777777777778,\"#fb9f3a\"],[0.8888888888888888,\"#fdca26\"],[1.0,\"#f0f921\"]],\"sequentialminus\":[[0.0,\"#0d0887\"],[0.1111111111111111,\"#46039f\"],[0.2222222222222222,\"#7201a8\"],[0.3333333333333333,\"#9c179e\"],[0.4444444444444444,\"#bd3786\"],[0.5555555555555556,\"#d8576b\"],[0.6666666666666666,\"#ed7953\"],[0.7777777777777778,\"#fb9f3a\"],[0.8888888888888888,\"#fdca26\"],[1.0,\"#f0f921\"]]},\"colorway\":[\"#636efa\",\"#EF553B\",\"#00cc96\",\"#ab63fa\",\"#FFA15A\",\"#19d3f3\",\"#FF6692\",\"#B6E880\",\"#FF97FF\",\"#FECB52\"],\"font\":{\"color\":\"#2a3f5f\"},\"geo\":{\"bgcolor\":\"white\",\"lakecolor\":\"white\",\"landcolor\":\"#E5ECF6\",\"showlakes\":true,\"showland\":true,\"subunitcolor\":\"white\"},\"hoverlabel\":{\"align\":\"left\"},\"hovermode\":\"closest\",\"mapbox\":{\"style\":\"light\"},\"paper_bgcolor\":\"white\",\"plot_bgcolor\":\"#E5ECF6\",\"polar\":{\"angularaxis\":{\"gridcolor\":\"white\",\"linecolor\":\"white\",\"ticks\":\"\"},\"bgcolor\":\"#E5ECF6\",\"radialaxis\":{\"gridcolor\":\"white\",\"linecolor\":\"white\",\"ticks\":\"\"}},\"scene\":{\"xaxis\":{\"backgroundcolor\":\"#E5ECF6\",\"gridcolor\":\"white\",\"gridwidth\":2,\"linecolor\":\"white\",\"showbackground\":true,\"ticks\":\"\",\"zerolinecolor\":\"white\"},\"yaxis\":{\"backgroundcolor\":\"#E5ECF6\",\"gridcolor\":\"white\",\"gridwidth\":2,\"linecolor\":\"white\",\"showbackground\":true,\"ticks\":\"\",\"zerolinecolor\":\"white\"},\"zaxis\":{\"backgroundcolor\":\"#E5ECF6\",\"gridcolor\":\"white\",\"gridwidth\":2,\"linecolor\":\"white\",\"showbackground\":true,\"ticks\":\"\",\"zerolinecolor\":\"white\"}},\"shapedefaults\":{\"line\":{\"color\":\"#2a3f5f\"}},\"ternary\":{\"aaxis\":{\"gridcolor\":\"white\",\"linecolor\":\"white\",\"ticks\":\"\"},\"baxis\":{\"gridcolor\":\"white\",\"linecolor\":\"white\",\"ticks\":\"\"},\"bgcolor\":\"#E5ECF6\",\"caxis\":{\"gridcolor\":\"white\",\"linecolor\":\"white\",\"ticks\":\"\"}},\"title\":{\"x\":0.05},\"xaxis\":{\"automargin\":true,\"gridcolor\":\"white\",\"linecolor\":\"white\",\"ticks\":\"\",\"title\":{\"standoff\":15},\"zerolinecolor\":\"white\",\"zerolinewidth\":2},\"yaxis\":{\"automargin\":true,\"gridcolor\":\"white\",\"linecolor\":\"white\",\"ticks\":\"\",\"title\":{\"standoff\":15},\"zerolinecolor\":\"white\",\"zerolinewidth\":2}}},\"xaxis\":{\"anchor\":\"y\",\"domain\":[0.0,0.1183673469387755],\"title\":{\"text\":\"batch_size\"}},\"yaxis\":{\"anchor\":\"x\",\"domain\":[0.0,1.0],\"title\":{\"text\":\"Objective Value\"}},\"xaxis2\":{\"anchor\":\"y2\",\"domain\":[0.14693877551020407,0.26530612244897955],\"title\":{\"text\":\"dense\"}},\"yaxis2\":{\"anchor\":\"x2\",\"domain\":[0.0,1.0],\"matches\":\"y\",\"showticklabels\":false},\"xaxis3\":{\"anchor\":\"y3\",\"domain\":[0.29387755102040813,0.4122448979591836],\"title\":{\"text\":\"dropout\"}},\"yaxis3\":{\"anchor\":\"x3\",\"domain\":[0.0,1.0],\"matches\":\"y\",\"showticklabels\":false},\"xaxis4\":{\"anchor\":\"y4\",\"domain\":[0.4408163265306122,0.5591836734693877],\"title\":{\"text\":\"lr\"},\"type\":\"log\"},\"yaxis4\":{\"anchor\":\"x4\",\"domain\":[0.0,1.0],\"matches\":\"y\",\"showticklabels\":false},\"xaxis5\":{\"anchor\":\"y5\",\"domain\":[0.5877551020408163,0.7061224489795918],\"title\":{\"text\":\"vgg_b1\"}},\"yaxis5\":{\"anchor\":\"x5\",\"domain\":[0.0,1.0],\"matches\":\"y\",\"showticklabels\":false},\"xaxis6\":{\"anchor\":\"y6\",\"domain\":[0.7346938775510204,0.8530612244897959],\"title\":{\"text\":\"vgg_b2\"}},\"yaxis6\":{\"anchor\":\"x6\",\"domain\":[0.0,1.0],\"matches\":\"y\",\"showticklabels\":false},\"xaxis7\":{\"anchor\":\"y7\",\"domain\":[0.8816326530612244,0.9999999999999999],\"title\":{\"text\":\"vgg_b3\"}},\"yaxis7\":{\"anchor\":\"x7\",\"domain\":[0.0,1.0],\"matches\":\"y\",\"showticklabels\":false},\"title\":{\"text\":\"Slice Plot\"},\"width\":1200,\"height\":450},                        {\"responsive\": true}                    ).then(function(){\n",
       "                            \n",
       "var gd = document.getElementById('dfa582df-5007-44f3-9728-8fece300a32e');\n",
       "var x = new MutationObserver(function (mutations, observer) {{\n",
       "        var display = window.getComputedStyle(gd).display;\n",
       "        if (!display || display === 'none') {{\n",
       "            console.log([gd, 'removed!']);\n",
       "            Plotly.purge(gd);\n",
       "            observer.disconnect();\n",
       "        }}\n",
       "}});\n",
       "\n",
       "// Listen for the removal of the full notebook cells\n",
       "var notebookContainer = gd.closest('#notebook-container');\n",
       "if (notebookContainer) {{\n",
       "    x.observe(notebookContainer, {childList: true});\n",
       "}}\n",
       "\n",
       "// Listen for the clearing of the current output cell\n",
       "var outputEl = gd.closest('.output');\n",
       "if (outputEl) {{\n",
       "    x.observe(outputEl, {childList: true});\n",
       "}}\n",
       "\n",
       "                        })                };                });            </script>        </div>"
      ]
     },
     "metadata": {},
     "output_type": "display_data"
    }
   ],
   "source": [
    "fig = optuna.visualization.plot_slice(study)\n",
    "fig.update_layout(width=1200, height=450)"
   ]
  },
  {
   "cell_type": "code",
   "execution_count": 25,
   "id": "5f2dddb3",
   "metadata": {
    "execution": {
     "iopub.execute_input": "2022-01-09T20:12:40.709091Z",
     "iopub.status.busy": "2022-01-09T20:12:40.680866Z",
     "iopub.status.idle": "2022-01-09T20:12:41.452309Z",
     "shell.execute_reply": "2022-01-09T20:12:41.451862Z",
     "shell.execute_reply.started": "2022-01-08T17:27:10.635560Z"
    },
    "papermill": {
     "duration": 1.414596,
     "end_time": "2022-01-09T20:12:41.452432",
     "exception": false,
     "start_time": "2022-01-09T20:12:40.037836",
     "status": "completed"
    },
    "tags": []
   },
   "outputs": [
    {
     "data": {
      "text/html": [
       "<div>                            <div id=\"f31af57c-45c3-41af-828b-b9f2f4c47614\" class=\"plotly-graph-div\" style=\"height:500px; width:800px;\"></div>            <script type=\"text/javascript\">                require([\"plotly\"], function(Plotly) {                    window.PLOTLYENV=window.PLOTLYENV || {};                                    if (document.getElementById(\"f31af57c-45c3-41af-828b-b9f2f4c47614\")) {                    Plotly.newPlot(                        \"f31af57c-45c3-41af-828b-b9f2f4c47614\",                        [{\"cliponaxis\":false,\"hovertemplate\":[\"vgg_b3 (IntLogUniformDistribution): 0.0005190927054212566<extra></extra>\",\"dropout (DiscreteUniformDistribution): 0.0022475583048347557<extra></extra>\",\"vgg_b2 (IntLogUniformDistribution): 0.013073350637473335<extra></extra>\",\"dense (IntLogUniformDistribution): 0.05453751889838688<extra></extra>\",\"batch_size (IntLogUniformDistribution): 0.06763895160105765<extra></extra>\",\"vgg_b1 (IntLogUniformDistribution): 0.19100688173447164<extra></extra>\",\"lr (LogUniformDistribution): 0.6709766461183545<extra></extra>\"],\"marker\":{\"color\":\"rgb(66,146,198)\"},\"orientation\":\"h\",\"text\":[\"0.0005190927054212566\",\"0.0022475583048347557\",\"0.013073350637473335\",\"0.05453751889838688\",\"0.06763895160105765\",\"0.19100688173447164\",\"0.6709766461183545\"],\"textposition\":\"outside\",\"texttemplate\":\"%{text:.2f}\",\"x\":[0.0005190927054212566,0.0022475583048347557,0.013073350637473335,0.05453751889838688,0.06763895160105765,0.19100688173447164,0.6709766461183545],\"y\":[\"vgg_b3\",\"dropout\",\"vgg_b2\",\"dense\",\"batch_size\",\"vgg_b1\",\"lr\"],\"type\":\"bar\"}],                        {\"showlegend\":false,\"title\":{\"text\":\"Hyperparameter Importances\"},\"xaxis\":{\"title\":{\"text\":\"Importance for Objective Value\"}},\"yaxis\":{\"title\":{\"text\":\"Hyperparameter\"}},\"template\":{\"data\":{\"bar\":[{\"error_x\":{\"color\":\"#2a3f5f\"},\"error_y\":{\"color\":\"#2a3f5f\"},\"marker\":{\"line\":{\"color\":\"#E5ECF6\",\"width\":0.5},\"pattern\":{\"fillmode\":\"overlay\",\"size\":10,\"solidity\":0.2}},\"type\":\"bar\"}],\"barpolar\":[{\"marker\":{\"line\":{\"color\":\"#E5ECF6\",\"width\":0.5},\"pattern\":{\"fillmode\":\"overlay\",\"size\":10,\"solidity\":0.2}},\"type\":\"barpolar\"}],\"carpet\":[{\"aaxis\":{\"endlinecolor\":\"#2a3f5f\",\"gridcolor\":\"white\",\"linecolor\":\"white\",\"minorgridcolor\":\"white\",\"startlinecolor\":\"#2a3f5f\"},\"baxis\":{\"endlinecolor\":\"#2a3f5f\",\"gridcolor\":\"white\",\"linecolor\":\"white\",\"minorgridcolor\":\"white\",\"startlinecolor\":\"#2a3f5f\"},\"type\":\"carpet\"}],\"choropleth\":[{\"colorbar\":{\"outlinewidth\":0,\"ticks\":\"\"},\"type\":\"choropleth\"}],\"contour\":[{\"colorbar\":{\"outlinewidth\":0,\"ticks\":\"\"},\"colorscale\":[[0.0,\"#0d0887\"],[0.1111111111111111,\"#46039f\"],[0.2222222222222222,\"#7201a8\"],[0.3333333333333333,\"#9c179e\"],[0.4444444444444444,\"#bd3786\"],[0.5555555555555556,\"#d8576b\"],[0.6666666666666666,\"#ed7953\"],[0.7777777777777778,\"#fb9f3a\"],[0.8888888888888888,\"#fdca26\"],[1.0,\"#f0f921\"]],\"type\":\"contour\"}],\"contourcarpet\":[{\"colorbar\":{\"outlinewidth\":0,\"ticks\":\"\"},\"type\":\"contourcarpet\"}],\"heatmap\":[{\"colorbar\":{\"outlinewidth\":0,\"ticks\":\"\"},\"colorscale\":[[0.0,\"#0d0887\"],[0.1111111111111111,\"#46039f\"],[0.2222222222222222,\"#7201a8\"],[0.3333333333333333,\"#9c179e\"],[0.4444444444444444,\"#bd3786\"],[0.5555555555555556,\"#d8576b\"],[0.6666666666666666,\"#ed7953\"],[0.7777777777777778,\"#fb9f3a\"],[0.8888888888888888,\"#fdca26\"],[1.0,\"#f0f921\"]],\"type\":\"heatmap\"}],\"heatmapgl\":[{\"colorbar\":{\"outlinewidth\":0,\"ticks\":\"\"},\"colorscale\":[[0.0,\"#0d0887\"],[0.1111111111111111,\"#46039f\"],[0.2222222222222222,\"#7201a8\"],[0.3333333333333333,\"#9c179e\"],[0.4444444444444444,\"#bd3786\"],[0.5555555555555556,\"#d8576b\"],[0.6666666666666666,\"#ed7953\"],[0.7777777777777778,\"#fb9f3a\"],[0.8888888888888888,\"#fdca26\"],[1.0,\"#f0f921\"]],\"type\":\"heatmapgl\"}],\"histogram\":[{\"marker\":{\"pattern\":{\"fillmode\":\"overlay\",\"size\":10,\"solidity\":0.2}},\"type\":\"histogram\"}],\"histogram2d\":[{\"colorbar\":{\"outlinewidth\":0,\"ticks\":\"\"},\"colorscale\":[[0.0,\"#0d0887\"],[0.1111111111111111,\"#46039f\"],[0.2222222222222222,\"#7201a8\"],[0.3333333333333333,\"#9c179e\"],[0.4444444444444444,\"#bd3786\"],[0.5555555555555556,\"#d8576b\"],[0.6666666666666666,\"#ed7953\"],[0.7777777777777778,\"#fb9f3a\"],[0.8888888888888888,\"#fdca26\"],[1.0,\"#f0f921\"]],\"type\":\"histogram2d\"}],\"histogram2dcontour\":[{\"colorbar\":{\"outlinewidth\":0,\"ticks\":\"\"},\"colorscale\":[[0.0,\"#0d0887\"],[0.1111111111111111,\"#46039f\"],[0.2222222222222222,\"#7201a8\"],[0.3333333333333333,\"#9c179e\"],[0.4444444444444444,\"#bd3786\"],[0.5555555555555556,\"#d8576b\"],[0.6666666666666666,\"#ed7953\"],[0.7777777777777778,\"#fb9f3a\"],[0.8888888888888888,\"#fdca26\"],[1.0,\"#f0f921\"]],\"type\":\"histogram2dcontour\"}],\"mesh3d\":[{\"colorbar\":{\"outlinewidth\":0,\"ticks\":\"\"},\"type\":\"mesh3d\"}],\"parcoords\":[{\"line\":{\"colorbar\":{\"outlinewidth\":0,\"ticks\":\"\"}},\"type\":\"parcoords\"}],\"pie\":[{\"automargin\":true,\"type\":\"pie\"}],\"scatter\":[{\"marker\":{\"colorbar\":{\"outlinewidth\":0,\"ticks\":\"\"}},\"type\":\"scatter\"}],\"scatter3d\":[{\"line\":{\"colorbar\":{\"outlinewidth\":0,\"ticks\":\"\"}},\"marker\":{\"colorbar\":{\"outlinewidth\":0,\"ticks\":\"\"}},\"type\":\"scatter3d\"}],\"scattercarpet\":[{\"marker\":{\"colorbar\":{\"outlinewidth\":0,\"ticks\":\"\"}},\"type\":\"scattercarpet\"}],\"scattergeo\":[{\"marker\":{\"colorbar\":{\"outlinewidth\":0,\"ticks\":\"\"}},\"type\":\"scattergeo\"}],\"scattergl\":[{\"marker\":{\"colorbar\":{\"outlinewidth\":0,\"ticks\":\"\"}},\"type\":\"scattergl\"}],\"scattermapbox\":[{\"marker\":{\"colorbar\":{\"outlinewidth\":0,\"ticks\":\"\"}},\"type\":\"scattermapbox\"}],\"scatterpolar\":[{\"marker\":{\"colorbar\":{\"outlinewidth\":0,\"ticks\":\"\"}},\"type\":\"scatterpolar\"}],\"scatterpolargl\":[{\"marker\":{\"colorbar\":{\"outlinewidth\":0,\"ticks\":\"\"}},\"type\":\"scatterpolargl\"}],\"scatterternary\":[{\"marker\":{\"colorbar\":{\"outlinewidth\":0,\"ticks\":\"\"}},\"type\":\"scatterternary\"}],\"surface\":[{\"colorbar\":{\"outlinewidth\":0,\"ticks\":\"\"},\"colorscale\":[[0.0,\"#0d0887\"],[0.1111111111111111,\"#46039f\"],[0.2222222222222222,\"#7201a8\"],[0.3333333333333333,\"#9c179e\"],[0.4444444444444444,\"#bd3786\"],[0.5555555555555556,\"#d8576b\"],[0.6666666666666666,\"#ed7953\"],[0.7777777777777778,\"#fb9f3a\"],[0.8888888888888888,\"#fdca26\"],[1.0,\"#f0f921\"]],\"type\":\"surface\"}],\"table\":[{\"cells\":{\"fill\":{\"color\":\"#EBF0F8\"},\"line\":{\"color\":\"white\"}},\"header\":{\"fill\":{\"color\":\"#C8D4E3\"},\"line\":{\"color\":\"white\"}},\"type\":\"table\"}]},\"layout\":{\"annotationdefaults\":{\"arrowcolor\":\"#2a3f5f\",\"arrowhead\":0,\"arrowwidth\":1},\"autotypenumbers\":\"strict\",\"coloraxis\":{\"colorbar\":{\"outlinewidth\":0,\"ticks\":\"\"}},\"colorscale\":{\"diverging\":[[0,\"#8e0152\"],[0.1,\"#c51b7d\"],[0.2,\"#de77ae\"],[0.3,\"#f1b6da\"],[0.4,\"#fde0ef\"],[0.5,\"#f7f7f7\"],[0.6,\"#e6f5d0\"],[0.7,\"#b8e186\"],[0.8,\"#7fbc41\"],[0.9,\"#4d9221\"],[1,\"#276419\"]],\"sequential\":[[0.0,\"#0d0887\"],[0.1111111111111111,\"#46039f\"],[0.2222222222222222,\"#7201a8\"],[0.3333333333333333,\"#9c179e\"],[0.4444444444444444,\"#bd3786\"],[0.5555555555555556,\"#d8576b\"],[0.6666666666666666,\"#ed7953\"],[0.7777777777777778,\"#fb9f3a\"],[0.8888888888888888,\"#fdca26\"],[1.0,\"#f0f921\"]],\"sequentialminus\":[[0.0,\"#0d0887\"],[0.1111111111111111,\"#46039f\"],[0.2222222222222222,\"#7201a8\"],[0.3333333333333333,\"#9c179e\"],[0.4444444444444444,\"#bd3786\"],[0.5555555555555556,\"#d8576b\"],[0.6666666666666666,\"#ed7953\"],[0.7777777777777778,\"#fb9f3a\"],[0.8888888888888888,\"#fdca26\"],[1.0,\"#f0f921\"]]},\"colorway\":[\"#636efa\",\"#EF553B\",\"#00cc96\",\"#ab63fa\",\"#FFA15A\",\"#19d3f3\",\"#FF6692\",\"#B6E880\",\"#FF97FF\",\"#FECB52\"],\"font\":{\"color\":\"#2a3f5f\"},\"geo\":{\"bgcolor\":\"white\",\"lakecolor\":\"white\",\"landcolor\":\"#E5ECF6\",\"showlakes\":true,\"showland\":true,\"subunitcolor\":\"white\"},\"hoverlabel\":{\"align\":\"left\"},\"hovermode\":\"closest\",\"mapbox\":{\"style\":\"light\"},\"paper_bgcolor\":\"white\",\"plot_bgcolor\":\"#E5ECF6\",\"polar\":{\"angularaxis\":{\"gridcolor\":\"white\",\"linecolor\":\"white\",\"ticks\":\"\"},\"bgcolor\":\"#E5ECF6\",\"radialaxis\":{\"gridcolor\":\"white\",\"linecolor\":\"white\",\"ticks\":\"\"}},\"scene\":{\"xaxis\":{\"backgroundcolor\":\"#E5ECF6\",\"gridcolor\":\"white\",\"gridwidth\":2,\"linecolor\":\"white\",\"showbackground\":true,\"ticks\":\"\",\"zerolinecolor\":\"white\"},\"yaxis\":{\"backgroundcolor\":\"#E5ECF6\",\"gridcolor\":\"white\",\"gridwidth\":2,\"linecolor\":\"white\",\"showbackground\":true,\"ticks\":\"\",\"zerolinecolor\":\"white\"},\"zaxis\":{\"backgroundcolor\":\"#E5ECF6\",\"gridcolor\":\"white\",\"gridwidth\":2,\"linecolor\":\"white\",\"showbackground\":true,\"ticks\":\"\",\"zerolinecolor\":\"white\"}},\"shapedefaults\":{\"line\":{\"color\":\"#2a3f5f\"}},\"ternary\":{\"aaxis\":{\"gridcolor\":\"white\",\"linecolor\":\"white\",\"ticks\":\"\"},\"baxis\":{\"gridcolor\":\"white\",\"linecolor\":\"white\",\"ticks\":\"\"},\"bgcolor\":\"#E5ECF6\",\"caxis\":{\"gridcolor\":\"white\",\"linecolor\":\"white\",\"ticks\":\"\"}},\"title\":{\"x\":0.05},\"xaxis\":{\"automargin\":true,\"gridcolor\":\"white\",\"linecolor\":\"white\",\"ticks\":\"\",\"title\":{\"standoff\":15},\"zerolinecolor\":\"white\",\"zerolinewidth\":2},\"yaxis\":{\"automargin\":true,\"gridcolor\":\"white\",\"linecolor\":\"white\",\"ticks\":\"\",\"title\":{\"standoff\":15},\"zerolinecolor\":\"white\",\"zerolinewidth\":2}}},\"width\":800,\"height\":500},                        {\"responsive\": true}                    ).then(function(){\n",
       "                            \n",
       "var gd = document.getElementById('f31af57c-45c3-41af-828b-b9f2f4c47614');\n",
       "var x = new MutationObserver(function (mutations, observer) {{\n",
       "        var display = window.getComputedStyle(gd).display;\n",
       "        if (!display || display === 'none') {{\n",
       "            console.log([gd, 'removed!']);\n",
       "            Plotly.purge(gd);\n",
       "            observer.disconnect();\n",
       "        }}\n",
       "}});\n",
       "\n",
       "// Listen for the removal of the full notebook cells\n",
       "var notebookContainer = gd.closest('#notebook-container');\n",
       "if (notebookContainer) {{\n",
       "    x.observe(notebookContainer, {childList: true});\n",
       "}}\n",
       "\n",
       "// Listen for the clearing of the current output cell\n",
       "var outputEl = gd.closest('.output');\n",
       "if (outputEl) {{\n",
       "    x.observe(outputEl, {childList: true});\n",
       "}}\n",
       "\n",
       "                        })                };                });            </script>        </div>"
      ]
     },
     "metadata": {},
     "output_type": "display_data"
    }
   ],
   "source": [
    "fig = optuna.visualization.plot_param_importances(study)\n",
    "fig.update_layout(width=800, height=500)"
   ]
  },
  {
   "cell_type": "markdown",
   "id": "f4f1bc3f",
   "metadata": {
    "id": "wwToT9Spc5ei",
    "papermill": {
     "duration": 0.636327,
     "end_time": "2022-01-09T20:12:42.761757",
     "exception": false,
     "start_time": "2022-01-09T20:12:42.125430",
     "status": "completed"
    },
    "tags": []
   },
   "source": [
    "Turns out a low learning rate works for any size of the first VGG block and batch size."
   ]
  },
  {
   "cell_type": "code",
   "execution_count": 26,
   "id": "b652b952",
   "metadata": {
    "execution": {
     "iopub.execute_input": "2022-01-09T20:12:44.053504Z",
     "iopub.status.busy": "2022-01-09T20:12:44.052749Z",
     "iopub.status.idle": "2022-01-09T20:12:44.290817Z",
     "shell.execute_reply": "2022-01-09T20:12:44.291230Z",
     "shell.execute_reply.started": "2022-01-08T17:30:15.343745Z"
    },
    "papermill": {
     "duration": 0.893295,
     "end_time": "2022-01-09T20:12:44.291376",
     "exception": false,
     "start_time": "2022-01-09T20:12:43.398081",
     "status": "completed"
    },
    "tags": []
   },
   "outputs": [
    {
     "data": {
      "text/html": [
       "<div>                            <div id=\"015f9a98-cde9-422b-add1-9a339ccab864\" class=\"plotly-graph-div\" style=\"height:700px; width:900px;\"></div>            <script type=\"text/javascript\">                require([\"plotly\"], function(Plotly) {                    window.PLOTLYENV=window.PLOTLYENV || {};                                    if (document.getElementById(\"015f9a98-cde9-422b-add1-9a339ccab864\")) {                    Plotly.newPlot(                        \"015f9a98-cde9-422b-add1-9a339ccab864\",                        [{\"type\":\"scatter\",\"xaxis\":\"x\",\"yaxis\":\"y\"},{\"colorbar\":{\"title\":{\"text\":\"Objective Value\"}},\"colorscale\":[[0,\"rgb(5,10,172)\"],[0.35,\"rgb(40,60,190)\"],[0.5,\"rgb(70,100,245)\"],[0.6,\"rgb(90,120,245)\"],[0.7,\"rgb(106,137,247)\"],[1,\"rgb(220,220,220)\"]],\"connectgaps\":true,\"contours\":{\"coloring\":\"heatmap\"},\"hoverinfo\":\"none\",\"line\":{\"smoothing\":1.3},\"reversescale\":true,\"showscale\":true,\"x\":[11.649999999999999,17,18,20,21,23,25,26,27,29,30,32,33,35,39,42,48,49,50,51,56,60,68,83,85,89,124,129.35],\"y\":[8.234235648147144e-6,0.000013064656747928878,0.00001359546850655156,0.000019999878982282223,0.00003136450432363738,0.000055809854563142486,0.000058571334191863526,0.00005986375901071346,0.00006046048370778813,0.00006388393481294276,0.00007930129805507095,0.00009058519215325063,0.00009652575464574833,0.00010174140869152476,0.00010372443791344133,0.000132589105195643,0.00016720140088459775,0.00024037964468769132,0.00030648865735273913,0.0003701946567741201,0.0004394672803314361,0.0006663982177439894,0.0007539244254643046,0.0009895984157195427,0.0019107435528946583,0.006701555276590694,0.01014034214456914,0.013848177485291456,0.037906633402615846,0.09329797140131525,0.13353412052488867,0.21186877851701993],\"z\":[[null,null,null,null,null,null,null,null,null,null,null,null,null,null,null,null,null,null,null,null,null,null,null,null,null,null,null,null],[null,null,null,null,null,null,null,null,null,null,null,null,null,null,null,null,null,null,null,0.970559313589213,null,null,null,null,null,null,null,null],[null,null,null,null,null,null,null,null,0.8779827433663444,null,null,null,null,null,null,null,null,null,null,null,null,null,null,null,null,null,null,null],[null,0.9173180745775198,null,null,null,null,null,null,null,null,null,null,null,null,null,null,null,null,null,null,null,null,null,null,null,null,null,null],[null,null,null,null,null,null,null,0.8594228555448353,null,null,null,null,null,null,null,null,null,null,null,null,null,null,null,null,null,null,null,null],[null,null,null,null,null,null,null,null,null,1.0034908101309177,null,null,null,null,null,null,null,null,null,null,null,null,null,null,null,null,null,null],[null,null,null,null,null,null,null,null,null,null,null,null,null,null,null,null,null,null,null,null,null,null,null,null,null,null,0.9663325294852255,null],[null,null,null,null,null,null,null,null,null,null,null,null,null,null,null,0.8538003005400426,null,null,null,null,null,null,null,null,null,null,null,null],[null,null,null,null,null,null,null,null,null,null,null,null,null,null,null,null,null,null,null,0.8793295427244536,null,null,null,null,null,null,null,null],[null,null,null,null,null,null,null,null,null,null,null,null,null,null,null,null,null,null,null,null,null,0.8815758077495073,null,null,null,null,null,null],[null,null,null,null,null,null,null,null,null,null,null,null,null,null,null,null,0.874182585053719,null,null,null,null,null,null,null,null,null,null,null],[null,null,null,null,null,null,null,null,null,null,null,null,null,null,null,null,null,0.8468572935637306,null,null,null,null,null,null,null,null,null,null],[null,null,null,0.9333370736837385,null,null,null,null,null,null,null,null,null,null,null,null,null,null,null,null,null,null,null,null,null,null,null,null],[null,null,null,null,null,null,null,null,null,null,null,null,null,null,null,null,null,null,null,null,null,null,0.9594035801822195,null,null,null,null,null],[null,null,null,null,null,null,null,null,null,null,null,null,null,null,null,null,null,null,0.8615798228979111,null,null,null,null,null,null,null,null,null],[null,null,null,null,0.9695012574436284,null,null,null,null,null,null,null,null,null,null,null,null,null,null,null,null,null,null,null,null,null,null,null],[null,null,null,null,null,0.9796114992436178,null,null,null,null,null,null,null,null,null,null,null,null,null,null,null,null,null,null,null,null,null,null],[null,null,null,null,null,null,null,null,null,null,null,null,null,null,0.9328236542642117,null,null,null,null,null,null,null,null,null,null,null,null,null],[null,null,null,null,null,null,null,null,null,null,null,0.9928599794705705,null,null,null,null,null,null,null,null,null,null,null,null,null,null,null,null],[null,null,null,null,null,null,null,null,null,null,null,null,null,null,null,null,null,null,null,null,null,null,null,0.9325450231631596,null,null,null,null],[null,null,null,null,null,0.9710360651466702,null,null,null,null,null,null,null,null,null,null,null,null,null,null,null,null,null,null,null,null,null,null],[null,null,null,null,null,null,null,null,null,null,null,null,null,null,null,null,null,null,null,null,1.0199463226821985,null,null,null,null,null,null,null],[null,null,null,null,null,null,null,null,null,null,null,null,2.3026118452185833,null,null,null,null,null,null,null,null,null,null,null,null,null,null,null],[null,null,null,null,null,null,null,null,null,null,null,null,null,2.302633065572926,null,null,null,null,null,null,null,null,null,null,null,null,null,null],[null,null,null,null,null,null,2.3027173531055456,null,null,null,null,null,null,null,null,null,null,null,null,null,null,null,null,null,null,null,null,null],[null,null,null,null,null,null,null,null,null,null,null,null,null,null,null,2.3033253585591025,null,null,null,null,null,null,null,null,null,null,null,null],[null,null,null,null,null,null,null,null,null,null,null,null,null,null,null,null,null,null,null,null,null,null,null,null,2.1159408791311862,null,null,null],[null,null,null,null,null,null,null,null,null,null,2.304749325097323,null,null,null,null,null,null,null,null,null,null,null,null,null,null,null,null,null],[null,null,null,null,null,null,null,null,null,null,null,null,null,null,null,null,null,null,null,null,null,2.3064591855887904,null,null,null,null,null,null],[null,null,null,null,null,null,null,null,null,null,null,null,null,null,null,null,null,null,null,null,null,null,null,null,null,2.308023227112635,null,null],[null,null,2.3308440674943625,null,null,null,null,null,null,null,null,null,null,null,null,null,null,null,null,null,null,null,null,null,null,null,null,null],[null,null,null,null,null,null,null,null,null,null,null,null,null,null,null,null,null,null,null,null,null,null,null,null,null,null,null,null]],\"type\":\"contour\",\"xaxis\":\"x4\",\"yaxis\":\"y4\"},{\"marker\":{\"color\":\"black\",\"line\":{\"color\":\"Grey\",\"width\":0.5}},\"mode\":\"markers\",\"showlegend\":false,\"x\":[124,42,20,89,68,18,30,17,51,85,33,27,32,25,23,39,26,21,51,35,23,42,29,60,48,50,49,60,83,56],\"y\":[0.000058571334191863526,0.00005986375901071346,0.00009652575464574833,0.09329797140131525,0.00010174140869152476,0.13353412052488867,0.013848177485291456,0.000019999878982282223,0.000013064656747928878,0.01014034214456914,0.0007539244254643046,0.00001359546850655156,0.00030648865735273913,0.0019107435528946583,0.0004394672803314361,0.00024037964468769132,0.00003136450432363738,0.000132589105195643,0.00006046048370778813,0.0009895984157195427,0.00016720140088459775,0.006701555276590694,0.000055809854563142486,0.00006388393481294276,0.00007930129805507095,0.00010372443791344133,0.00009058519215325063,0.037906633402615846,0.0003701946567741201,0.0006663982177439894],\"type\":\"scatter\",\"xaxis\":\"x4\",\"yaxis\":\"y4\"},{\"colorbar\":{\"title\":{\"text\":\"Objective Value\"}},\"colorscale\":[[0,\"rgb(5,10,172)\"],[0.35,\"rgb(40,60,190)\"],[0.5,\"rgb(70,100,245)\"],[0.6,\"rgb(90,120,245)\"],[0.7,\"rgb(106,137,247)\"],[1,\"rgb(220,220,220)\"]],\"connectgaps\":true,\"contours\":{\"coloring\":\"heatmap\"},\"hoverinfo\":\"none\",\"line\":{\"smoothing\":1.3},\"reversescale\":true,\"showscale\":false,\"x\":[11.649999999999999,17,18,20,21,23,25,26,27,29,30,32,33,35,39,42,48,49,50,51,56,60,68,83,85,89,124,129.35],\"y\":[110.15,129,130,137,138,145,161,183,195,208,217,231,249,258,286,301,307,310,314,327,339,340,370,372,382,399,424,463,506,524.85],\"z\":[[null,null,null,null,null,null,null,null,null,null,null,null,null,null,null,null,null,null,null,null,null,null,null,null,null,null,null,null],[null,null,null,null,null,null,null,null,null,null,null,null,null,null,null,null,null,null,0.8615798228979111,null,null,null,null,null,null,null,null,null],[null,null,null,null,null,null,null,null,null,null,null,null,null,null,null,null,null,null,null,null,1.0199463226821985,2.3064591855887904,null,null,null,null,null,null],[null,null,null,null,null,null,null,null,null,null,null,null,2.3026118452185833,null,null,null,null,null,null,null,null,null,null,null,null,null,null,null],[null,null,null,null,null,null,null,null,null,null,null,null,null,null,null,null,null,0.8468572935637306,null,null,null,null,null,null,null,null,null,null],[null,null,null,null,null,null,null,null,null,null,null,null,null,null,null,null,null,null,null,null,null,null,null,0.9325450231631596,null,null,null,null],[null,null,null,null,null,null,null,null,null,null,null,null,null,null,null,null,0.874182585053719,null,null,null,null,null,null,null,null,null,null,null],[null,null,null,null,null,0.9710360651466702,null,null,null,null,null,null,null,null,null,null,null,null,null,null,null,null,null,null,null,null,null,null],[null,null,null,null,null,null,null,null,null,null,null,null,null,null,null,2.3033253585591025,null,null,null,null,null,null,null,null,null,null,null,null],[null,null,null,null,null,null,null,null,null,null,2.304749325097323,null,null,null,null,null,null,null,null,null,null,null,null,null,null,null,null,null],[null,null,null,null,null,null,null,null,null,null,null,null,null,null,null,null,null,null,null,null,null,null,null,null,null,2.308023227112635,null,null],[null,null,null,null,null,null,null,null,null,null,null,null,null,null,null,null,null,null,null,0.8793295427244536,null,0.8815758077495073,null,null,null,null,null,null],[null,null,null,0.9333370736837385,null,null,null,null,null,null,null,null,null,null,null,null,null,null,null,null,null,null,null,null,null,null,null,null],[null,null,null,null,null,null,null,null,null,null,null,null,null,null,null,0.8538003005400426,null,null,null,null,null,null,null,null,null,null,null,null],[null,null,null,null,null,null,null,null,null,null,null,0.9928599794705705,null,null,null,null,null,null,null,null,null,null,null,null,null,null,null,null],[null,null,null,null,null,null,null,null,null,1.0034908101309177,null,null,null,null,null,null,null,null,null,null,null,null,null,null,null,null,null,null],[null,null,null,null,null,null,2.3027173531055456,null,null,null,null,null,null,null,null,null,null,null,null,null,null,null,null,null,null,null,null,null],[null,null,null,null,null,null,null,null,null,null,null,null,null,null,null,null,null,null,null,null,null,null,null,null,null,null,0.9663325294852255,null],[null,null,null,null,null,null,null,null,0.8779827433663444,null,null,null,null,null,null,null,null,null,null,null,null,null,null,null,null,null,null,null],[null,null,null,null,null,null,null,null,null,null,null,null,null,2.302633065572926,null,null,null,null,null,null,null,null,null,null,null,null,null,null],[null,null,null,null,null,null,null,null,null,null,null,null,null,null,0.9328236542642117,null,null,null,null,null,null,null,null,null,null,null,null,null],[null,null,null,null,0.9695012574436284,null,null,null,null,null,null,null,null,null,null,null,null,null,null,null,null,null,null,null,null,null,null,null],[null,0.9173180745775198,null,null,null,null,null,null,null,null,null,null,null,null,null,null,null,null,null,null,null,null,null,null,null,null,null,null],[null,null,null,null,null,null,null,null,null,null,null,null,null,null,null,null,null,null,null,null,null,null,0.9594035801822195,null,null,null,null,null],[null,null,null,null,null,0.9796114992436178,null,null,null,null,null,null,null,null,null,null,null,null,null,null,null,null,null,null,null,null,null,null],[null,null,null,null,null,null,null,null,null,null,null,null,null,null,null,null,null,null,null,0.970559313589213,null,null,null,null,null,null,null,null],[null,null,null,null,null,null,null,0.8594228555448353,null,null,null,null,null,null,null,null,null,null,null,null,null,null,null,null,null,null,null,null],[null,null,2.3308440674943625,null,null,null,null,null,null,null,null,null,null,null,null,null,null,null,null,null,null,null,null,null,null,null,null,null],[null,null,null,null,null,null,null,null,null,null,null,null,null,null,null,null,null,null,null,null,null,null,null,null,2.1159408791311862,null,null,null],[null,null,null,null,null,null,null,null,null,null,null,null,null,null,null,null,null,null,null,null,null,null,null,null,null,null,null,null]],\"type\":\"contour\",\"xaxis\":\"x7\",\"yaxis\":\"y7\"},{\"marker\":{\"color\":\"black\",\"line\":{\"color\":\"Grey\",\"width\":0.5}},\"mode\":\"markers\",\"showlegend\":false,\"x\":[124,42,20,89,68,18,30,17,51,85,33,27,32,25,23,39,26,21,51,35,23,42,29,60,48,50,49,60,83,56],\"y\":[310,258,249,217,372,463,208,370,399,506,137,314,286,307,183,339,424,340,231,327,382,195,301,231,161,129,138,130,145,130],\"type\":\"scatter\",\"xaxis\":\"x7\",\"yaxis\":\"y7\"},{\"colorbar\":{\"title\":{\"text\":\"Objective Value\"}},\"colorscale\":[[0,\"rgb(5,10,172)\"],[0.35,\"rgb(40,60,190)\"],[0.5,\"rgb(70,100,245)\"],[0.6,\"rgb(90,120,245)\"],[0.7,\"rgb(106,137,247)\"],[1,\"rgb(220,220,220)\"]],\"connectgaps\":true,\"contours\":{\"coloring\":\"heatmap\"},\"hoverinfo\":\"none\",\"line\":{\"smoothing\":1.3},\"reversescale\":true,\"showscale\":false,\"x\":[8.234235648147144e-6,0.000013064656747928878,0.00001359546850655156,0.000019999878982282223,0.00003136450432363738,0.000055809854563142486,0.000058571334191863526,0.00005986375901071346,0.00006046048370778813,0.00006388393481294276,0.00007930129805507095,0.00009058519215325063,0.00009652575464574833,0.00010174140869152476,0.00010372443791344133,0.000132589105195643,0.00016720140088459775,0.00024037964468769132,0.00030648865735273913,0.0003701946567741201,0.0004394672803314361,0.0006663982177439894,0.0007539244254643046,0.0009895984157195427,0.0019107435528946583,0.006701555276590694,0.01014034214456914,0.013848177485291456,0.037906633402615846,0.09329797140131525,0.13353412052488867,0.21186877851701993],\"y\":[11.649999999999999,17,18,20,21,23,25,26,27,29,30,32,33,35,39,42,48,49,50,51,56,60,68,83,85,89,124,129.35],\"z\":[[null,null,null,null,null,null,null,null,null,null,null,null,null,null,null,null,null,null,null,null,null,null,null,null,null,null,null,null,null,null,null,null],[null,null,null,0.9173180745775198,null,null,null,null,null,null,null,null,null,null,null,null,null,null,null,null,null,null,null,null,null,null,null,null,null,null,null,null],[null,null,null,null,null,null,null,null,null,null,null,null,null,null,null,null,null,null,null,null,null,null,null,null,null,null,null,null,null,null,2.3308440674943625,null],[null,null,null,null,null,null,null,null,null,null,null,null,0.9333370736837385,null,null,null,null,null,null,null,null,null,null,null,null,null,null,null,null,null,null,null],[null,null,null,null,null,null,null,null,null,null,null,null,null,null,null,0.9695012574436284,null,null,null,null,null,null,null,null,null,null,null,null,null,null,null,null],[null,null,null,null,null,null,null,null,null,null,null,null,null,null,null,null,0.9796114992436178,null,null,null,0.9710360651466702,null,null,null,null,null,null,null,null,null,null,null],[null,null,null,null,null,null,null,null,null,null,null,null,null,null,null,null,null,null,null,null,null,null,null,null,2.3027173531055456,null,null,null,null,null,null,null],[null,null,null,null,0.8594228555448353,null,null,null,null,null,null,null,null,null,null,null,null,null,null,null,null,null,null,null,null,null,null,null,null,null,null,null],[null,null,0.8779827433663444,null,null,null,null,null,null,null,null,null,null,null,null,null,null,null,null,null,null,null,null,null,null,null,null,null,null,null,null,null],[null,null,null,null,null,1.0034908101309177,null,null,null,null,null,null,null,null,null,null,null,null,null,null,null,null,null,null,null,null,null,null,null,null,null,null],[null,null,null,null,null,null,null,null,null,null,null,null,null,null,null,null,null,null,null,null,null,null,null,null,null,null,null,2.304749325097323,null,null,null,null],[null,null,null,null,null,null,null,null,null,null,null,null,null,null,null,null,null,null,0.9928599794705705,null,null,null,null,null,null,null,null,null,null,null,null,null],[null,null,null,null,null,null,null,null,null,null,null,null,null,null,null,null,null,null,null,null,null,null,2.3026118452185833,null,null,null,null,null,null,null,null,null],[null,null,null,null,null,null,null,null,null,null,null,null,null,null,null,null,null,null,null,null,null,null,null,2.302633065572926,null,null,null,null,null,null,null,null],[null,null,null,null,null,null,null,null,null,null,null,null,null,null,null,null,null,0.9328236542642117,null,null,null,null,null,null,null,null,null,null,null,null,null,null],[null,null,null,null,null,null,null,0.8538003005400426,null,null,null,null,null,null,null,null,null,null,null,null,null,null,null,null,null,2.3033253585591025,null,null,null,null,null,null],[null,null,null,null,null,null,null,null,null,null,0.874182585053719,null,null,null,null,null,null,null,null,null,null,null,null,null,null,null,null,null,null,null,null,null],[null,null,null,null,null,null,null,null,null,null,null,0.8468572935637306,null,null,null,null,null,null,null,null,null,null,null,null,null,null,null,null,null,null,null,null],[null,null,null,null,null,null,null,null,null,null,null,null,null,null,0.8615798228979111,null,null,null,null,null,null,null,null,null,null,null,null,null,null,null,null,null],[null,0.970559313589213,null,null,null,null,null,null,0.8793295427244536,null,null,null,null,null,null,null,null,null,null,null,null,null,null,null,null,null,null,null,null,null,null,null],[null,null,null,null,null,null,null,null,null,null,null,null,null,null,null,null,null,null,null,null,null,1.0199463226821985,null,null,null,null,null,null,null,null,null,null],[null,null,null,null,null,null,null,null,null,0.8815758077495073,null,null,null,null,null,null,null,null,null,null,null,null,null,null,null,null,null,null,2.3064591855887904,null,null,null],[null,null,null,null,null,null,null,null,null,null,null,null,null,0.9594035801822195,null,null,null,null,null,null,null,null,null,null,null,null,null,null,null,null,null,null],[null,null,null,null,null,null,null,null,null,null,null,null,null,null,null,null,null,null,null,0.9325450231631596,null,null,null,null,null,null,null,null,null,null,null,null],[null,null,null,null,null,null,null,null,null,null,null,null,null,null,null,null,null,null,null,null,null,null,null,null,null,null,2.1159408791311862,null,null,null,null,null],[null,null,null,null,null,null,null,null,null,null,null,null,null,null,null,null,null,null,null,null,null,null,null,null,null,null,null,null,null,2.308023227112635,null,null],[null,null,null,null,null,null,0.9663325294852255,null,null,null,null,null,null,null,null,null,null,null,null,null,null,null,null,null,null,null,null,null,null,null,null,null],[null,null,null,null,null,null,null,null,null,null,null,null,null,null,null,null,null,null,null,null,null,null,null,null,null,null,null,null,null,null,null,null]],\"type\":\"contour\",\"xaxis\":\"x2\",\"yaxis\":\"y2\"},{\"marker\":{\"color\":\"black\",\"line\":{\"color\":\"Grey\",\"width\":0.5}},\"mode\":\"markers\",\"showlegend\":false,\"x\":[0.000058571334191863526,0.00005986375901071346,0.00009652575464574833,0.09329797140131525,0.00010174140869152476,0.13353412052488867,0.013848177485291456,0.000019999878982282223,0.000013064656747928878,0.01014034214456914,0.0007539244254643046,0.00001359546850655156,0.00030648865735273913,0.0019107435528946583,0.0004394672803314361,0.00024037964468769132,0.00003136450432363738,0.000132589105195643,0.00006046048370778813,0.0009895984157195427,0.00016720140088459775,0.006701555276590694,0.000055809854563142486,0.00006388393481294276,0.00007930129805507095,0.00010372443791344133,0.00009058519215325063,0.037906633402615846,0.0003701946567741201,0.0006663982177439894],\"y\":[124,42,20,89,68,18,30,17,51,85,33,27,32,25,23,39,26,21,51,35,23,42,29,60,48,50,49,60,83,56],\"type\":\"scatter\",\"xaxis\":\"x2\",\"yaxis\":\"y2\"},{\"type\":\"scatter\",\"xaxis\":\"x5\",\"yaxis\":\"y5\"},{\"colorbar\":{\"title\":{\"text\":\"Objective Value\"}},\"colorscale\":[[0,\"rgb(5,10,172)\"],[0.35,\"rgb(40,60,190)\"],[0.5,\"rgb(70,100,245)\"],[0.6,\"rgb(90,120,245)\"],[0.7,\"rgb(106,137,247)\"],[1,\"rgb(220,220,220)\"]],\"connectgaps\":true,\"contours\":{\"coloring\":\"heatmap\"},\"hoverinfo\":\"none\",\"line\":{\"smoothing\":1.3},\"reversescale\":true,\"showscale\":false,\"x\":[8.234235648147144e-6,0.000013064656747928878,0.00001359546850655156,0.000019999878982282223,0.00003136450432363738,0.000055809854563142486,0.000058571334191863526,0.00005986375901071346,0.00006046048370778813,0.00006388393481294276,0.00007930129805507095,0.00009058519215325063,0.00009652575464574833,0.00010174140869152476,0.00010372443791344133,0.000132589105195643,0.00016720140088459775,0.00024037964468769132,0.00030648865735273913,0.0003701946567741201,0.0004394672803314361,0.0006663982177439894,0.0007539244254643046,0.0009895984157195427,0.0019107435528946583,0.006701555276590694,0.01014034214456914,0.013848177485291456,0.037906633402615846,0.09329797140131525,0.13353412052488867,0.21186877851701993],\"y\":[110.15,129,130,137,138,145,161,183,195,208,217,231,249,258,286,301,307,310,314,327,339,340,370,372,382,399,424,463,506,524.85],\"z\":[[null,null,null,null,null,null,null,null,null,null,null,null,null,null,null,null,null,null,null,null,null,null,null,null,null,null,null,null,null,null,null,null],[null,null,null,null,null,null,null,null,null,null,null,null,null,null,0.8615798228979111,null,null,null,null,null,null,null,null,null,null,null,null,null,null,null,null,null],[null,null,null,null,null,null,null,null,null,null,null,null,null,null,null,null,null,null,null,null,null,1.0199463226821985,null,null,null,null,null,null,2.3064591855887904,null,null,null],[null,null,null,null,null,null,null,null,null,null,null,null,null,null,null,null,null,null,null,null,null,null,2.3026118452185833,null,null,null,null,null,null,null,null,null],[null,null,null,null,null,null,null,null,null,null,null,0.8468572935637306,null,null,null,null,null,null,null,null,null,null,null,null,null,null,null,null,null,null,null,null],[null,null,null,null,null,null,null,null,null,null,null,null,null,null,null,null,null,null,null,0.9325450231631596,null,null,null,null,null,null,null,null,null,null,null,null],[null,null,null,null,null,null,null,null,null,null,0.874182585053719,null,null,null,null,null,null,null,null,null,null,null,null,null,null,null,null,null,null,null,null,null],[null,null,null,null,null,null,null,null,null,null,null,null,null,null,null,null,null,null,null,null,0.9710360651466702,null,null,null,null,null,null,null,null,null,null,null],[null,null,null,null,null,null,null,null,null,null,null,null,null,null,null,null,null,null,null,null,null,null,null,null,null,2.3033253585591025,null,null,null,null,null,null],[null,null,null,null,null,null,null,null,null,null,null,null,null,null,null,null,null,null,null,null,null,null,null,null,null,null,null,2.304749325097323,null,null,null,null],[null,null,null,null,null,null,null,null,null,null,null,null,null,null,null,null,null,null,null,null,null,null,null,null,null,null,null,null,null,2.308023227112635,null,null],[null,null,null,null,null,null,null,null,0.8793295427244536,0.8815758077495073,null,null,null,null,null,null,null,null,null,null,null,null,null,null,null,null,null,null,null,null,null,null],[null,null,null,null,null,null,null,null,null,null,null,null,0.9333370736837385,null,null,null,null,null,null,null,null,null,null,null,null,null,null,null,null,null,null,null],[null,null,null,null,null,null,null,0.8538003005400426,null,null,null,null,null,null,null,null,null,null,null,null,null,null,null,null,null,null,null,null,null,null,null,null],[null,null,null,null,null,null,null,null,null,null,null,null,null,null,null,null,null,null,0.9928599794705705,null,null,null,null,null,null,null,null,null,null,null,null,null],[null,null,null,null,null,1.0034908101309177,null,null,null,null,null,null,null,null,null,null,null,null,null,null,null,null,null,null,null,null,null,null,null,null,null,null],[null,null,null,null,null,null,null,null,null,null,null,null,null,null,null,null,null,null,null,null,null,null,null,null,2.3027173531055456,null,null,null,null,null,null,null],[null,null,null,null,null,null,0.9663325294852255,null,null,null,null,null,null,null,null,null,null,null,null,null,null,null,null,null,null,null,null,null,null,null,null,null],[null,null,0.8779827433663444,null,null,null,null,null,null,null,null,null,null,null,null,null,null,null,null,null,null,null,null,null,null,null,null,null,null,null,null,null],[null,null,null,null,null,null,null,null,null,null,null,null,null,null,null,null,null,null,null,null,null,null,null,2.302633065572926,null,null,null,null,null,null,null,null],[null,null,null,null,null,null,null,null,null,null,null,null,null,null,null,null,null,0.9328236542642117,null,null,null,null,null,null,null,null,null,null,null,null,null,null],[null,null,null,null,null,null,null,null,null,null,null,null,null,null,null,0.9695012574436284,null,null,null,null,null,null,null,null,null,null,null,null,null,null,null,null],[null,null,null,0.9173180745775198,null,null,null,null,null,null,null,null,null,null,null,null,null,null,null,null,null,null,null,null,null,null,null,null,null,null,null,null],[null,null,null,null,null,null,null,null,null,null,null,null,null,0.9594035801822195,null,null,null,null,null,null,null,null,null,null,null,null,null,null,null,null,null,null],[null,null,null,null,null,null,null,null,null,null,null,null,null,null,null,null,0.9796114992436178,null,null,null,null,null,null,null,null,null,null,null,null,null,null,null],[null,0.970559313589213,null,null,null,null,null,null,null,null,null,null,null,null,null,null,null,null,null,null,null,null,null,null,null,null,null,null,null,null,null,null],[null,null,null,null,0.8594228555448353,null,null,null,null,null,null,null,null,null,null,null,null,null,null,null,null,null,null,null,null,null,null,null,null,null,null,null],[null,null,null,null,null,null,null,null,null,null,null,null,null,null,null,null,null,null,null,null,null,null,null,null,null,null,null,null,null,null,2.3308440674943625,null],[null,null,null,null,null,null,null,null,null,null,null,null,null,null,null,null,null,null,null,null,null,null,null,null,null,null,2.1159408791311862,null,null,null,null,null],[null,null,null,null,null,null,null,null,null,null,null,null,null,null,null,null,null,null,null,null,null,null,null,null,null,null,null,null,null,null,null,null]],\"type\":\"contour\",\"xaxis\":\"x8\",\"yaxis\":\"y8\"},{\"marker\":{\"color\":\"black\",\"line\":{\"color\":\"Grey\",\"width\":0.5}},\"mode\":\"markers\",\"showlegend\":false,\"x\":[0.000058571334191863526,0.00005986375901071346,0.00009652575464574833,0.09329797140131525,0.00010174140869152476,0.13353412052488867,0.013848177485291456,0.000019999878982282223,0.000013064656747928878,0.01014034214456914,0.0007539244254643046,0.00001359546850655156,0.00030648865735273913,0.0019107435528946583,0.0004394672803314361,0.00024037964468769132,0.00003136450432363738,0.000132589105195643,0.00006046048370778813,0.0009895984157195427,0.00016720140088459775,0.006701555276590694,0.000055809854563142486,0.00006388393481294276,0.00007930129805507095,0.00010372443791344133,0.00009058519215325063,0.037906633402615846,0.0003701946567741201,0.0006663982177439894],\"y\":[310,258,249,217,372,463,208,370,399,506,137,314,286,307,183,339,424,340,231,327,382,195,301,231,161,129,138,130,145,130],\"type\":\"scatter\",\"xaxis\":\"x8\",\"yaxis\":\"y8\"},{\"colorbar\":{\"title\":{\"text\":\"Objective Value\"}},\"colorscale\":[[0,\"rgb(5,10,172)\"],[0.35,\"rgb(40,60,190)\"],[0.5,\"rgb(70,100,245)\"],[0.6,\"rgb(90,120,245)\"],[0.7,\"rgb(106,137,247)\"],[1,\"rgb(220,220,220)\"]],\"connectgaps\":true,\"contours\":{\"coloring\":\"heatmap\"},\"hoverinfo\":\"none\",\"line\":{\"smoothing\":1.3},\"reversescale\":true,\"showscale\":false,\"x\":[110.15,129,130,137,138,145,161,183,195,208,217,231,249,258,286,301,307,310,314,327,339,340,370,372,382,399,424,463,506,524.85],\"y\":[11.649999999999999,17,18,20,21,23,25,26,27,29,30,32,33,35,39,42,48,49,50,51,56,60,68,83,85,89,124,129.35],\"z\":[[null,null,null,null,null,null,null,null,null,null,null,null,null,null,null,null,null,null,null,null,null,null,null,null,null,null,null,null,null,null],[null,null,null,null,null,null,null,null,null,null,null,null,null,null,null,null,null,null,null,null,null,null,0.9173180745775198,null,null,null,null,null,null,null],[null,null,null,null,null,null,null,null,null,null,null,null,null,null,null,null,null,null,null,null,null,null,null,null,null,null,null,2.3308440674943625,null,null],[null,null,null,null,null,null,null,null,null,null,null,null,0.9333370736837385,null,null,null,null,null,null,null,null,null,null,null,null,null,null,null,null,null],[null,null,null,null,null,null,null,null,null,null,null,null,null,null,null,null,null,null,null,null,null,0.9695012574436284,null,null,null,null,null,null,null,null],[null,null,null,null,null,null,null,0.9710360651466702,null,null,null,null,null,null,null,null,null,null,null,null,null,null,null,null,0.9796114992436178,null,null,null,null,null],[null,null,null,null,null,null,null,null,null,null,null,null,null,null,null,null,2.3027173531055456,null,null,null,null,null,null,null,null,null,null,null,null,null],[null,null,null,null,null,null,null,null,null,null,null,null,null,null,null,null,null,null,null,null,null,null,null,null,null,null,0.8594228555448353,null,null,null],[null,null,null,null,null,null,null,null,null,null,null,null,null,null,null,null,null,null,0.8779827433663444,null,null,null,null,null,null,null,null,null,null,null],[null,null,null,null,null,null,null,null,null,null,null,null,null,null,null,1.0034908101309177,null,null,null,null,null,null,null,null,null,null,null,null,null,null],[null,null,null,null,null,null,null,null,null,2.304749325097323,null,null,null,null,null,null,null,null,null,null,null,null,null,null,null,null,null,null,null,null],[null,null,null,null,null,null,null,null,null,null,null,null,null,null,0.9928599794705705,null,null,null,null,null,null,null,null,null,null,null,null,null,null,null],[null,null,null,2.3026118452185833,null,null,null,null,null,null,null,null,null,null,null,null,null,null,null,null,null,null,null,null,null,null,null,null,null,null],[null,null,null,null,null,null,null,null,null,null,null,null,null,null,null,null,null,null,null,2.302633065572926,null,null,null,null,null,null,null,null,null,null],[null,null,null,null,null,null,null,null,null,null,null,null,null,null,null,null,null,null,null,null,0.9328236542642117,null,null,null,null,null,null,null,null,null],[null,null,null,null,null,null,null,null,2.3033253585591025,null,null,null,null,0.8538003005400426,null,null,null,null,null,null,null,null,null,null,null,null,null,null,null,null],[null,null,null,null,null,null,0.874182585053719,null,null,null,null,null,null,null,null,null,null,null,null,null,null,null,null,null,null,null,null,null,null,null],[null,null,null,null,0.8468572935637306,null,null,null,null,null,null,null,null,null,null,null,null,null,null,null,null,null,null,null,null,null,null,null,null,null],[null,0.8615798228979111,null,null,null,null,null,null,null,null,null,null,null,null,null,null,null,null,null,null,null,null,null,null,null,null,null,null,null,null],[null,null,null,null,null,null,null,null,null,null,null,0.8793295427244536,null,null,null,null,null,null,null,null,null,null,null,null,null,0.970559313589213,null,null,null,null],[null,null,1.0199463226821985,null,null,null,null,null,null,null,null,null,null,null,null,null,null,null,null,null,null,null,null,null,null,null,null,null,null,null],[null,null,2.3064591855887904,null,null,null,null,null,null,null,null,0.8815758077495073,null,null,null,null,null,null,null,null,null,null,null,null,null,null,null,null,null,null],[null,null,null,null,null,null,null,null,null,null,null,null,null,null,null,null,null,null,null,null,null,null,null,0.9594035801822195,null,null,null,null,null,null],[null,null,null,null,null,0.9325450231631596,null,null,null,null,null,null,null,null,null,null,null,null,null,null,null,null,null,null,null,null,null,null,null,null],[null,null,null,null,null,null,null,null,null,null,null,null,null,null,null,null,null,null,null,null,null,null,null,null,null,null,null,null,2.1159408791311862,null],[null,null,null,null,null,null,null,null,null,null,2.308023227112635,null,null,null,null,null,null,null,null,null,null,null,null,null,null,null,null,null,null,null],[null,null,null,null,null,null,null,null,null,null,null,null,null,null,null,null,null,0.9663325294852255,null,null,null,null,null,null,null,null,null,null,null,null],[null,null,null,null,null,null,null,null,null,null,null,null,null,null,null,null,null,null,null,null,null,null,null,null,null,null,null,null,null,null]],\"type\":\"contour\",\"xaxis\":\"x3\",\"yaxis\":\"y3\"},{\"marker\":{\"color\":\"black\",\"line\":{\"color\":\"Grey\",\"width\":0.5}},\"mode\":\"markers\",\"showlegend\":false,\"x\":[310,258,249,217,372,463,208,370,399,506,137,314,286,307,183,339,424,340,231,327,382,195,301,231,161,129,138,130,145,130],\"y\":[124,42,20,89,68,18,30,17,51,85,33,27,32,25,23,39,26,21,51,35,23,42,29,60,48,50,49,60,83,56],\"type\":\"scatter\",\"xaxis\":\"x3\",\"yaxis\":\"y3\"},{\"colorbar\":{\"title\":{\"text\":\"Objective Value\"}},\"colorscale\":[[0,\"rgb(5,10,172)\"],[0.35,\"rgb(40,60,190)\"],[0.5,\"rgb(70,100,245)\"],[0.6,\"rgb(90,120,245)\"],[0.7,\"rgb(106,137,247)\"],[1,\"rgb(220,220,220)\"]],\"connectgaps\":true,\"contours\":{\"coloring\":\"heatmap\"},\"hoverinfo\":\"none\",\"line\":{\"smoothing\":1.3},\"reversescale\":true,\"showscale\":false,\"x\":[110.15,129,130,137,138,145,161,183,195,208,217,231,249,258,286,301,307,310,314,327,339,340,370,372,382,399,424,463,506,524.85],\"y\":[8.234235648147144e-6,0.000013064656747928878,0.00001359546850655156,0.000019999878982282223,0.00003136450432363738,0.000055809854563142486,0.000058571334191863526,0.00005986375901071346,0.00006046048370778813,0.00006388393481294276,0.00007930129805507095,0.00009058519215325063,0.00009652575464574833,0.00010174140869152476,0.00010372443791344133,0.000132589105195643,0.00016720140088459775,0.00024037964468769132,0.00030648865735273913,0.0003701946567741201,0.0004394672803314361,0.0006663982177439894,0.0007539244254643046,0.0009895984157195427,0.0019107435528946583,0.006701555276590694,0.01014034214456914,0.013848177485291456,0.037906633402615846,0.09329797140131525,0.13353412052488867,0.21186877851701993],\"z\":[[null,null,null,null,null,null,null,null,null,null,null,null,null,null,null,null,null,null,null,null,null,null,null,null,null,null,null,null,null,null],[null,null,null,null,null,null,null,null,null,null,null,null,null,null,null,null,null,null,null,null,null,null,null,null,null,0.970559313589213,null,null,null,null],[null,null,null,null,null,null,null,null,null,null,null,null,null,null,null,null,null,null,0.8779827433663444,null,null,null,null,null,null,null,null,null,null,null],[null,null,null,null,null,null,null,null,null,null,null,null,null,null,null,null,null,null,null,null,null,null,0.9173180745775198,null,null,null,null,null,null,null],[null,null,null,null,null,null,null,null,null,null,null,null,null,null,null,null,null,null,null,null,null,null,null,null,null,null,0.8594228555448353,null,null,null],[null,null,null,null,null,null,null,null,null,null,null,null,null,null,null,1.0034908101309177,null,null,null,null,null,null,null,null,null,null,null,null,null,null],[null,null,null,null,null,null,null,null,null,null,null,null,null,null,null,null,null,0.9663325294852255,null,null,null,null,null,null,null,null,null,null,null,null],[null,null,null,null,null,null,null,null,null,null,null,null,null,0.8538003005400426,null,null,null,null,null,null,null,null,null,null,null,null,null,null,null,null],[null,null,null,null,null,null,null,null,null,null,null,0.8793295427244536,null,null,null,null,null,null,null,null,null,null,null,null,null,null,null,null,null,null],[null,null,null,null,null,null,null,null,null,null,null,0.8815758077495073,null,null,null,null,null,null,null,null,null,null,null,null,null,null,null,null,null,null],[null,null,null,null,null,null,0.874182585053719,null,null,null,null,null,null,null,null,null,null,null,null,null,null,null,null,null,null,null,null,null,null,null],[null,null,null,null,0.8468572935637306,null,null,null,null,null,null,null,null,null,null,null,null,null,null,null,null,null,null,null,null,null,null,null,null,null],[null,null,null,null,null,null,null,null,null,null,null,null,0.9333370736837385,null,null,null,null,null,null,null,null,null,null,null,null,null,null,null,null,null],[null,null,null,null,null,null,null,null,null,null,null,null,null,null,null,null,null,null,null,null,null,null,null,0.9594035801822195,null,null,null,null,null,null],[null,0.8615798228979111,null,null,null,null,null,null,null,null,null,null,null,null,null,null,null,null,null,null,null,null,null,null,null,null,null,null,null,null],[null,null,null,null,null,null,null,null,null,null,null,null,null,null,null,null,null,null,null,null,null,0.9695012574436284,null,null,null,null,null,null,null,null],[null,null,null,null,null,null,null,null,null,null,null,null,null,null,null,null,null,null,null,null,null,null,null,null,0.9796114992436178,null,null,null,null,null],[null,null,null,null,null,null,null,null,null,null,null,null,null,null,null,null,null,null,null,null,0.9328236542642117,null,null,null,null,null,null,null,null,null],[null,null,null,null,null,null,null,null,null,null,null,null,null,null,0.9928599794705705,null,null,null,null,null,null,null,null,null,null,null,null,null,null,null],[null,null,null,null,null,0.9325450231631596,null,null,null,null,null,null,null,null,null,null,null,null,null,null,null,null,null,null,null,null,null,null,null,null],[null,null,null,null,null,null,null,0.9710360651466702,null,null,null,null,null,null,null,null,null,null,null,null,null,null,null,null,null,null,null,null,null,null],[null,null,1.0199463226821985,null,null,null,null,null,null,null,null,null,null,null,null,null,null,null,null,null,null,null,null,null,null,null,null,null,null,null],[null,null,null,2.3026118452185833,null,null,null,null,null,null,null,null,null,null,null,null,null,null,null,null,null,null,null,null,null,null,null,null,null,null],[null,null,null,null,null,null,null,null,null,null,null,null,null,null,null,null,null,null,null,2.302633065572926,null,null,null,null,null,null,null,null,null,null],[null,null,null,null,null,null,null,null,null,null,null,null,null,null,null,null,2.3027173531055456,null,null,null,null,null,null,null,null,null,null,null,null,null],[null,null,null,null,null,null,null,null,2.3033253585591025,null,null,null,null,null,null,null,null,null,null,null,null,null,null,null,null,null,null,null,null,null],[null,null,null,null,null,null,null,null,null,null,null,null,null,null,null,null,null,null,null,null,null,null,null,null,null,null,null,null,2.1159408791311862,null],[null,null,null,null,null,null,null,null,null,2.304749325097323,null,null,null,null,null,null,null,null,null,null,null,null,null,null,null,null,null,null,null,null],[null,null,2.3064591855887904,null,null,null,null,null,null,null,null,null,null,null,null,null,null,null,null,null,null,null,null,null,null,null,null,null,null,null],[null,null,null,null,null,null,null,null,null,null,2.308023227112635,null,null,null,null,null,null,null,null,null,null,null,null,null,null,null,null,null,null,null],[null,null,null,null,null,null,null,null,null,null,null,null,null,null,null,null,null,null,null,null,null,null,null,null,null,null,null,2.3308440674943625,null,null],[null,null,null,null,null,null,null,null,null,null,null,null,null,null,null,null,null,null,null,null,null,null,null,null,null,null,null,null,null,null]],\"type\":\"contour\",\"xaxis\":\"x6\",\"yaxis\":\"y6\"},{\"marker\":{\"color\":\"black\",\"line\":{\"color\":\"Grey\",\"width\":0.5}},\"mode\":\"markers\",\"showlegend\":false,\"x\":[310,258,249,217,372,463,208,370,399,506,137,314,286,307,183,339,424,340,231,327,382,195,301,231,161,129,138,130,145,130],\"y\":[0.000058571334191863526,0.00005986375901071346,0.00009652575464574833,0.09329797140131525,0.00010174140869152476,0.13353412052488867,0.013848177485291456,0.000019999878982282223,0.000013064656747928878,0.01014034214456914,0.0007539244254643046,0.00001359546850655156,0.00030648865735273913,0.0019107435528946583,0.0004394672803314361,0.00024037964468769132,0.00003136450432363738,0.000132589105195643,0.00006046048370778813,0.0009895984157195427,0.00016720140088459775,0.006701555276590694,0.000055809854563142486,0.00006388393481294276,0.00007930129805507095,0.00010372443791344133,0.00009058519215325063,0.037906633402615846,0.0003701946567741201,0.0006663982177439894],\"type\":\"scatter\",\"xaxis\":\"x6\",\"yaxis\":\"y6\"},{\"type\":\"scatter\",\"xaxis\":\"x9\",\"yaxis\":\"y9\"}],                        {\"template\":{\"data\":{\"bar\":[{\"error_x\":{\"color\":\"#2a3f5f\"},\"error_y\":{\"color\":\"#2a3f5f\"},\"marker\":{\"line\":{\"color\":\"#E5ECF6\",\"width\":0.5},\"pattern\":{\"fillmode\":\"overlay\",\"size\":10,\"solidity\":0.2}},\"type\":\"bar\"}],\"barpolar\":[{\"marker\":{\"line\":{\"color\":\"#E5ECF6\",\"width\":0.5},\"pattern\":{\"fillmode\":\"overlay\",\"size\":10,\"solidity\":0.2}},\"type\":\"barpolar\"}],\"carpet\":[{\"aaxis\":{\"endlinecolor\":\"#2a3f5f\",\"gridcolor\":\"white\",\"linecolor\":\"white\",\"minorgridcolor\":\"white\",\"startlinecolor\":\"#2a3f5f\"},\"baxis\":{\"endlinecolor\":\"#2a3f5f\",\"gridcolor\":\"white\",\"linecolor\":\"white\",\"minorgridcolor\":\"white\",\"startlinecolor\":\"#2a3f5f\"},\"type\":\"carpet\"}],\"choropleth\":[{\"colorbar\":{\"outlinewidth\":0,\"ticks\":\"\"},\"type\":\"choropleth\"}],\"contour\":[{\"colorbar\":{\"outlinewidth\":0,\"ticks\":\"\"},\"colorscale\":[[0.0,\"#0d0887\"],[0.1111111111111111,\"#46039f\"],[0.2222222222222222,\"#7201a8\"],[0.3333333333333333,\"#9c179e\"],[0.4444444444444444,\"#bd3786\"],[0.5555555555555556,\"#d8576b\"],[0.6666666666666666,\"#ed7953\"],[0.7777777777777778,\"#fb9f3a\"],[0.8888888888888888,\"#fdca26\"],[1.0,\"#f0f921\"]],\"type\":\"contour\"}],\"contourcarpet\":[{\"colorbar\":{\"outlinewidth\":0,\"ticks\":\"\"},\"type\":\"contourcarpet\"}],\"heatmap\":[{\"colorbar\":{\"outlinewidth\":0,\"ticks\":\"\"},\"colorscale\":[[0.0,\"#0d0887\"],[0.1111111111111111,\"#46039f\"],[0.2222222222222222,\"#7201a8\"],[0.3333333333333333,\"#9c179e\"],[0.4444444444444444,\"#bd3786\"],[0.5555555555555556,\"#d8576b\"],[0.6666666666666666,\"#ed7953\"],[0.7777777777777778,\"#fb9f3a\"],[0.8888888888888888,\"#fdca26\"],[1.0,\"#f0f921\"]],\"type\":\"heatmap\"}],\"heatmapgl\":[{\"colorbar\":{\"outlinewidth\":0,\"ticks\":\"\"},\"colorscale\":[[0.0,\"#0d0887\"],[0.1111111111111111,\"#46039f\"],[0.2222222222222222,\"#7201a8\"],[0.3333333333333333,\"#9c179e\"],[0.4444444444444444,\"#bd3786\"],[0.5555555555555556,\"#d8576b\"],[0.6666666666666666,\"#ed7953\"],[0.7777777777777778,\"#fb9f3a\"],[0.8888888888888888,\"#fdca26\"],[1.0,\"#f0f921\"]],\"type\":\"heatmapgl\"}],\"histogram\":[{\"marker\":{\"pattern\":{\"fillmode\":\"overlay\",\"size\":10,\"solidity\":0.2}},\"type\":\"histogram\"}],\"histogram2d\":[{\"colorbar\":{\"outlinewidth\":0,\"ticks\":\"\"},\"colorscale\":[[0.0,\"#0d0887\"],[0.1111111111111111,\"#46039f\"],[0.2222222222222222,\"#7201a8\"],[0.3333333333333333,\"#9c179e\"],[0.4444444444444444,\"#bd3786\"],[0.5555555555555556,\"#d8576b\"],[0.6666666666666666,\"#ed7953\"],[0.7777777777777778,\"#fb9f3a\"],[0.8888888888888888,\"#fdca26\"],[1.0,\"#f0f921\"]],\"type\":\"histogram2d\"}],\"histogram2dcontour\":[{\"colorbar\":{\"outlinewidth\":0,\"ticks\":\"\"},\"colorscale\":[[0.0,\"#0d0887\"],[0.1111111111111111,\"#46039f\"],[0.2222222222222222,\"#7201a8\"],[0.3333333333333333,\"#9c179e\"],[0.4444444444444444,\"#bd3786\"],[0.5555555555555556,\"#d8576b\"],[0.6666666666666666,\"#ed7953\"],[0.7777777777777778,\"#fb9f3a\"],[0.8888888888888888,\"#fdca26\"],[1.0,\"#f0f921\"]],\"type\":\"histogram2dcontour\"}],\"mesh3d\":[{\"colorbar\":{\"outlinewidth\":0,\"ticks\":\"\"},\"type\":\"mesh3d\"}],\"parcoords\":[{\"line\":{\"colorbar\":{\"outlinewidth\":0,\"ticks\":\"\"}},\"type\":\"parcoords\"}],\"pie\":[{\"automargin\":true,\"type\":\"pie\"}],\"scatter\":[{\"marker\":{\"colorbar\":{\"outlinewidth\":0,\"ticks\":\"\"}},\"type\":\"scatter\"}],\"scatter3d\":[{\"line\":{\"colorbar\":{\"outlinewidth\":0,\"ticks\":\"\"}},\"marker\":{\"colorbar\":{\"outlinewidth\":0,\"ticks\":\"\"}},\"type\":\"scatter3d\"}],\"scattercarpet\":[{\"marker\":{\"colorbar\":{\"outlinewidth\":0,\"ticks\":\"\"}},\"type\":\"scattercarpet\"}],\"scattergeo\":[{\"marker\":{\"colorbar\":{\"outlinewidth\":0,\"ticks\":\"\"}},\"type\":\"scattergeo\"}],\"scattergl\":[{\"marker\":{\"colorbar\":{\"outlinewidth\":0,\"ticks\":\"\"}},\"type\":\"scattergl\"}],\"scattermapbox\":[{\"marker\":{\"colorbar\":{\"outlinewidth\":0,\"ticks\":\"\"}},\"type\":\"scattermapbox\"}],\"scatterpolar\":[{\"marker\":{\"colorbar\":{\"outlinewidth\":0,\"ticks\":\"\"}},\"type\":\"scatterpolar\"}],\"scatterpolargl\":[{\"marker\":{\"colorbar\":{\"outlinewidth\":0,\"ticks\":\"\"}},\"type\":\"scatterpolargl\"}],\"scatterternary\":[{\"marker\":{\"colorbar\":{\"outlinewidth\":0,\"ticks\":\"\"}},\"type\":\"scatterternary\"}],\"surface\":[{\"colorbar\":{\"outlinewidth\":0,\"ticks\":\"\"},\"colorscale\":[[0.0,\"#0d0887\"],[0.1111111111111111,\"#46039f\"],[0.2222222222222222,\"#7201a8\"],[0.3333333333333333,\"#9c179e\"],[0.4444444444444444,\"#bd3786\"],[0.5555555555555556,\"#d8576b\"],[0.6666666666666666,\"#ed7953\"],[0.7777777777777778,\"#fb9f3a\"],[0.8888888888888888,\"#fdca26\"],[1.0,\"#f0f921\"]],\"type\":\"surface\"}],\"table\":[{\"cells\":{\"fill\":{\"color\":\"#EBF0F8\"},\"line\":{\"color\":\"white\"}},\"header\":{\"fill\":{\"color\":\"#C8D4E3\"},\"line\":{\"color\":\"white\"}},\"type\":\"table\"}]},\"layout\":{\"annotationdefaults\":{\"arrowcolor\":\"#2a3f5f\",\"arrowhead\":0,\"arrowwidth\":1},\"autotypenumbers\":\"strict\",\"coloraxis\":{\"colorbar\":{\"outlinewidth\":0,\"ticks\":\"\"}},\"colorscale\":{\"diverging\":[[0,\"#8e0152\"],[0.1,\"#c51b7d\"],[0.2,\"#de77ae\"],[0.3,\"#f1b6da\"],[0.4,\"#fde0ef\"],[0.5,\"#f7f7f7\"],[0.6,\"#e6f5d0\"],[0.7,\"#b8e186\"],[0.8,\"#7fbc41\"],[0.9,\"#4d9221\"],[1,\"#276419\"]],\"sequential\":[[0.0,\"#0d0887\"],[0.1111111111111111,\"#46039f\"],[0.2222222222222222,\"#7201a8\"],[0.3333333333333333,\"#9c179e\"],[0.4444444444444444,\"#bd3786\"],[0.5555555555555556,\"#d8576b\"],[0.6666666666666666,\"#ed7953\"],[0.7777777777777778,\"#fb9f3a\"],[0.8888888888888888,\"#fdca26\"],[1.0,\"#f0f921\"]],\"sequentialminus\":[[0.0,\"#0d0887\"],[0.1111111111111111,\"#46039f\"],[0.2222222222222222,\"#7201a8\"],[0.3333333333333333,\"#9c179e\"],[0.4444444444444444,\"#bd3786\"],[0.5555555555555556,\"#d8576b\"],[0.6666666666666666,\"#ed7953\"],[0.7777777777777778,\"#fb9f3a\"],[0.8888888888888888,\"#fdca26\"],[1.0,\"#f0f921\"]]},\"colorway\":[\"#636efa\",\"#EF553B\",\"#00cc96\",\"#ab63fa\",\"#FFA15A\",\"#19d3f3\",\"#FF6692\",\"#B6E880\",\"#FF97FF\",\"#FECB52\"],\"font\":{\"color\":\"#2a3f5f\"},\"geo\":{\"bgcolor\":\"white\",\"lakecolor\":\"white\",\"landcolor\":\"#E5ECF6\",\"showlakes\":true,\"showland\":true,\"subunitcolor\":\"white\"},\"hoverlabel\":{\"align\":\"left\"},\"hovermode\":\"closest\",\"mapbox\":{\"style\":\"light\"},\"paper_bgcolor\":\"white\",\"plot_bgcolor\":\"#E5ECF6\",\"polar\":{\"angularaxis\":{\"gridcolor\":\"white\",\"linecolor\":\"white\",\"ticks\":\"\"},\"bgcolor\":\"#E5ECF6\",\"radialaxis\":{\"gridcolor\":\"white\",\"linecolor\":\"white\",\"ticks\":\"\"}},\"scene\":{\"xaxis\":{\"backgroundcolor\":\"#E5ECF6\",\"gridcolor\":\"white\",\"gridwidth\":2,\"linecolor\":\"white\",\"showbackground\":true,\"ticks\":\"\",\"zerolinecolor\":\"white\"},\"yaxis\":{\"backgroundcolor\":\"#E5ECF6\",\"gridcolor\":\"white\",\"gridwidth\":2,\"linecolor\":\"white\",\"showbackground\":true,\"ticks\":\"\",\"zerolinecolor\":\"white\"},\"zaxis\":{\"backgroundcolor\":\"#E5ECF6\",\"gridcolor\":\"white\",\"gridwidth\":2,\"linecolor\":\"white\",\"showbackground\":true,\"ticks\":\"\",\"zerolinecolor\":\"white\"}},\"shapedefaults\":{\"line\":{\"color\":\"#2a3f5f\"}},\"ternary\":{\"aaxis\":{\"gridcolor\":\"white\",\"linecolor\":\"white\",\"ticks\":\"\"},\"baxis\":{\"gridcolor\":\"white\",\"linecolor\":\"white\",\"ticks\":\"\"},\"bgcolor\":\"#E5ECF6\",\"caxis\":{\"gridcolor\":\"white\",\"linecolor\":\"white\",\"ticks\":\"\"}},\"title\":{\"x\":0.05},\"xaxis\":{\"automargin\":true,\"gridcolor\":\"white\",\"linecolor\":\"white\",\"ticks\":\"\",\"title\":{\"standoff\":15},\"zerolinecolor\":\"white\",\"zerolinewidth\":2},\"yaxis\":{\"automargin\":true,\"gridcolor\":\"white\",\"linecolor\":\"white\",\"ticks\":\"\",\"title\":{\"standoff\":15},\"zerolinecolor\":\"white\",\"zerolinewidth\":2}}},\"xaxis\":{\"anchor\":\"y\",\"domain\":[0.0,0.2888888888888889],\"matches\":\"x7\",\"showticklabels\":false,\"range\":[11.649999999999999,129.35]},\"yaxis\":{\"anchor\":\"x\",\"domain\":[0.7333333333333333,1.0],\"range\":[11.649999999999999,129.35],\"title\":{\"text\":\"batch_size\"}},\"xaxis2\":{\"anchor\":\"y2\",\"domain\":[0.35555555555555557,0.6444444444444445],\"matches\":\"x8\",\"showticklabels\":false,\"range\":[-5.084376708479465,-0.6739330372334835],\"type\":\"log\"},\"yaxis2\":{\"anchor\":\"x2\",\"domain\":[0.7333333333333333,1.0],\"matches\":\"y\",\"showticklabels\":false,\"range\":[11.649999999999999,129.35]},\"xaxis3\":{\"anchor\":\"y3\",\"domain\":[0.7111111111111111,1.0],\"matches\":\"x9\",\"showticklabels\":false,\"range\":[110.15,524.85]},\"yaxis3\":{\"anchor\":\"x3\",\"domain\":[0.7333333333333333,1.0],\"matches\":\"y\",\"showticklabels\":false,\"range\":[11.649999999999999,129.35]},\"xaxis4\":{\"anchor\":\"y4\",\"domain\":[0.0,0.2888888888888889],\"matches\":\"x7\",\"showticklabels\":false,\"range\":[11.649999999999999,129.35]},\"yaxis4\":{\"anchor\":\"x4\",\"domain\":[0.36666666666666664,0.6333333333333333],\"range\":[-5.084376708479465,-0.6739330372334835],\"type\":\"log\",\"title\":{\"text\":\"lr\"}},\"xaxis5\":{\"anchor\":\"y5\",\"domain\":[0.35555555555555557,0.6444444444444445],\"matches\":\"x8\",\"showticklabels\":false,\"range\":[-5.084376708479465,-0.6739330372334835],\"type\":\"log\"},\"yaxis5\":{\"anchor\":\"x5\",\"domain\":[0.36666666666666664,0.6333333333333333],\"matches\":\"y4\",\"showticklabels\":false,\"range\":[-5.084376708479465,-0.6739330372334835],\"type\":\"log\"},\"xaxis6\":{\"anchor\":\"y6\",\"domain\":[0.7111111111111111,1.0],\"matches\":\"x9\",\"showticklabels\":false,\"range\":[110.15,524.85]},\"yaxis6\":{\"anchor\":\"x6\",\"domain\":[0.36666666666666664,0.6333333333333333],\"matches\":\"y4\",\"showticklabels\":false,\"range\":[-5.084376708479465,-0.6739330372334835],\"type\":\"log\"},\"xaxis7\":{\"anchor\":\"y7\",\"domain\":[0.0,0.2888888888888889],\"range\":[11.649999999999999,129.35],\"title\":{\"text\":\"batch_size\"}},\"yaxis7\":{\"anchor\":\"x7\",\"domain\":[0.0,0.26666666666666666],\"range\":[110.15,524.85],\"title\":{\"text\":\"vgg_b1\"}},\"xaxis8\":{\"anchor\":\"y8\",\"domain\":[0.35555555555555557,0.6444444444444445],\"range\":[-5.084376708479465,-0.6739330372334835],\"type\":\"log\",\"title\":{\"text\":\"lr\"}},\"yaxis8\":{\"anchor\":\"x8\",\"domain\":[0.0,0.26666666666666666],\"matches\":\"y7\",\"showticklabels\":false,\"range\":[110.15,524.85]},\"xaxis9\":{\"anchor\":\"y9\",\"domain\":[0.7111111111111111,1.0],\"range\":[110.15,524.85],\"title\":{\"text\":\"vgg_b1\"}},\"yaxis9\":{\"anchor\":\"x9\",\"domain\":[0.0,0.26666666666666666],\"matches\":\"y7\",\"showticklabels\":false,\"range\":[110.15,524.85]},\"title\":{\"text\":\"Contour Plot\"},\"autosize\":false,\"width\":900,\"height\":700},                        {\"responsive\": true}                    ).then(function(){\n",
       "                            \n",
       "var gd = document.getElementById('015f9a98-cde9-422b-add1-9a339ccab864');\n",
       "var x = new MutationObserver(function (mutations, observer) {{\n",
       "        var display = window.getComputedStyle(gd).display;\n",
       "        if (!display || display === 'none') {{\n",
       "            console.log([gd, 'removed!']);\n",
       "            Plotly.purge(gd);\n",
       "            observer.disconnect();\n",
       "        }}\n",
       "}});\n",
       "\n",
       "// Listen for the removal of the full notebook cells\n",
       "var notebookContainer = gd.closest('#notebook-container');\n",
       "if (notebookContainer) {{\n",
       "    x.observe(notebookContainer, {childList: true});\n",
       "}}\n",
       "\n",
       "// Listen for the clearing of the current output cell\n",
       "var outputEl = gd.closest('.output');\n",
       "if (outputEl) {{\n",
       "    x.observe(outputEl, {childList: true});\n",
       "}}\n",
       "\n",
       "                        })                };                });            </script>        </div>"
      ]
     },
     "metadata": {},
     "output_type": "display_data"
    }
   ],
   "source": [
    "fig = optuna.visualization.plot_contour(study, params=['lr', 'batch_size', 'vgg_b1'])\n",
    "fig.update_layout(autosize=False, width=900, height=700)"
   ]
  },
  {
   "cell_type": "markdown",
   "id": "271b6190",
   "metadata": {
    "papermill": {
     "duration": 0.632826,
     "end_time": "2022-01-09T20:12:45.553178",
     "exception": false,
     "start_time": "2022-01-09T20:12:44.920352",
     "status": "completed"
    },
    "tags": []
   },
   "source": [
    "For the bottom part of the network, a large width for the fully-connected block seems to work well. Meanwhile the size of the 3rd VGG block seem to be multimodal."
   ]
  },
  {
   "cell_type": "code",
   "execution_count": 27,
   "id": "6031bd9a",
   "metadata": {
    "execution": {
     "iopub.execute_input": "2022-01-09T20:12:47.113698Z",
     "iopub.status.busy": "2022-01-09T20:12:47.098396Z",
     "iopub.status.idle": "2022-01-09T20:12:47.299089Z",
     "shell.execute_reply": "2022-01-09T20:12:47.298650Z",
     "shell.execute_reply.started": "2022-01-08T17:27:12.039478Z"
    },
    "papermill": {
     "duration": 0.936997,
     "end_time": "2022-01-09T20:12:47.299213",
     "exception": false,
     "start_time": "2022-01-09T20:12:46.362216",
     "status": "completed"
    },
    "tags": []
   },
   "outputs": [
    {
     "data": {
      "text/html": [
       "<div>                            <div id=\"51490b05-b700-4390-81a5-514e638b12b5\" class=\"plotly-graph-div\" style=\"height:700px; width:900px;\"></div>            <script type=\"text/javascript\">                require([\"plotly\"], function(Plotly) {                    window.PLOTLYENV=window.PLOTLYENV || {};                                    if (document.getElementById(\"51490b05-b700-4390-81a5-514e638b12b5\")) {                    Plotly.newPlot(                        \"51490b05-b700-4390-81a5-514e638b12b5\",                        [{\"type\":\"scatter\",\"xaxis\":\"x\",\"yaxis\":\"y\"},{\"colorbar\":{\"title\":{\"text\":\"Objective Value\"}},\"colorscale\":[[0,\"rgb(5,10,172)\"],[0.35,\"rgb(40,60,190)\"],[0.5,\"rgb(70,100,245)\"],[0.6,\"rgb(90,120,245)\"],[0.7,\"rgb(106,137,247)\"],[1,\"rgb(220,220,220)\"]],\"connectgaps\":true,\"contours\":{\"coloring\":\"heatmap\"},\"hoverinfo\":\"none\",\"line\":{\"smoothing\":1.3},\"reversescale\":true,\"showscale\":true,\"x\":[221.0,259,287,355,391,402,404,415,426,435,440,450,468,481,500,508,519,546,580,598,608,648,665,733,743,806,852,916,960,1016,1019,1057.0],\"y\":[0.055,0.1,0.2,0.30000000000000004,0.4,0.5,0.6,0.7000000000000001,0.8,0.9,1.0,1.045],\"z\":[[null,null,null,null,null,null,null,null,null,null,null,null,null,null,null,null,null,null,null,null,null,null,null,null,null,null,null,null,null,null,null,null],[null,null,null,null,null,null,null,null,null,null,null,null,null,null,null,null,null,null,1.0034908101309177,0.9663325294852255,null,null,null,null,null,null,null,null,null,null,null,null],[null,null,null,null,null,null,null,null,null,null,null,null,null,null,null,null,null,null,null,null,null,null,null,0.9594035801822195,null,null,null,null,null,null,null,null],[null,null,null,null,null,null,null,null,null,null,null,null,null,null,null,null,0.9796114992436178,null,null,null,null,0.9173180745775198,2.3308440674943625,null,null,null,null,null,null,null,null,null],[null,null,null,null,null,null,null,null,null,null,null,2.3027173531055456,0.9328236542642117,null,0.8779827433663444,null,null,null,null,null,null,null,null,null,null,0.9710360651466702,null,null,null,null,null,null],[null,null,null,null,null,null,null,null,0.8815758077495073,0.8793295427244536,0.874182585053719,null,null,0.9928599794705705,null,null,null,null,null,null,null,null,null,null,null,null,null,null,0.9333370736837385,null,null,null],[null,null,null,2.1159408791311862,null,null,null,null,null,null,null,null,null,null,null,null,null,null,null,null,2.3033253585591025,null,null,null,1.0199463226821985,null,null,null,null,null,0.8615798228979111,null],[null,0.970559313589213,null,null,null,0.8538003005400426,null,0.8594228555448353,null,null,null,null,null,null,null,2.308023227112635,null,null,null,null,null,null,null,null,null,null,0.8468572935637306,0.9325450231631596,null,null,null,null],[null,null,null,null,2.304749325097323,null,null,null,null,null,null,null,null,null,null,null,null,0.9695012574436284,null,null,null,null,null,null,null,null,null,null,null,2.3064591855887904,null,null],[null,null,2.302633065572926,null,null,null,null,null,null,null,null,null,null,null,null,null,null,null,null,null,null,null,null,null,null,null,null,null,null,null,null,null],[null,null,null,null,null,null,2.3026118452185833,null,null,null,null,null,null,null,null,null,null,null,null,null,null,null,null,null,null,null,null,null,null,null,null,null],[null,null,null,null,null,null,null,null,null,null,null,null,null,null,null,null,null,null,null,null,null,null,null,null,null,null,null,null,null,null,null,null]],\"type\":\"contour\",\"xaxis\":\"x4\",\"yaxis\":\"y4\"},{\"marker\":{\"color\":\"black\",\"line\":{\"color\":\"Grey\",\"width\":0.5}},\"mode\":\"markers\",\"showlegend\":false,\"x\":[598,402,960,508,733,665,391,648,259,355,404,500,481,450,806,468,415,546,435,287,519,608,580,426,440,1019,852,1016,916,743],\"y\":[0.1,0.7000000000000001,0.5,0.7000000000000001,0.2,0.30000000000000004,0.8,0.30000000000000004,0.7000000000000001,0.6,1.0,0.4,0.5,0.4,0.4,0.4,0.7000000000000001,0.8,0.5,0.9,0.30000000000000004,0.6,0.1,0.5,0.5,0.6,0.7000000000000001,0.8,0.7000000000000001,0.6],\"type\":\"scatter\",\"xaxis\":\"x4\",\"yaxis\":\"y4\"},{\"colorbar\":{\"title\":{\"text\":\"Objective Value\"}},\"colorscale\":[[0,\"rgb(5,10,172)\"],[0.35,\"rgb(40,60,190)\"],[0.5,\"rgb(70,100,245)\"],[0.6,\"rgb(90,120,245)\"],[0.7,\"rgb(106,137,247)\"],[1,\"rgb(220,220,220)\"]],\"connectgaps\":true,\"contours\":{\"coloring\":\"heatmap\"},\"hoverinfo\":\"none\",\"line\":{\"smoothing\":1.3},\"reversescale\":true,\"showscale\":false,\"x\":[221.0,259,287,355,391,402,404,415,426,435,440,450,468,481,500,508,519,546,580,598,608,648,665,733,743,806,852,916,960,1016,1019,1057.0],\"y\":[120.45,139,151,197,206,208,225,230,232,234,244,250,255,265,274,285,289,291,308,336,346,379,407,417,441,450,464,471,484,510,528.55],\"z\":[[null,null,null,null,null,null,null,null,null,null,null,null,null,null,null,null,null,null,null,null,null,null,null,null,null,null,null,null,null,null,null,null],[null,null,null,null,null,null,null,null,null,null,null,null,0.9328236542642117,null,null,null,null,null,null,null,null,null,null,null,null,null,null,null,null,null,null,null],[null,null,null,null,null,null,2.3026118452185833,null,null,null,null,null,null,null,null,null,null,null,null,null,null,null,null,null,null,null,null,null,null,null,null,null],[null,null,null,null,null,null,null,null,null,null,0.874182585053719,null,null,null,null,null,null,null,null,null,null,null,null,null,null,null,null,null,null,null,null,null],[null,null,null,null,null,0.8538003005400426,null,null,null,0.8793295427244536,null,null,null,null,null,null,null,null,null,null,null,null,null,null,null,null,null,null,null,null,null,null],[null,null,null,null,null,null,null,null,0.8815758077495073,null,null,null,null,null,null,null,null,null,null,null,null,null,null,null,null,null,null,null,null,null,null,null],[null,null,null,null,null,null,null,null,null,null,null,null,null,null,null,null,null,null,null,null,null,null,null,null,null,null,null,0.9325450231631596,null,null,null,null],[null,null,null,null,null,null,null,null,null,null,null,null,null,null,null,null,null,null,null,null,null,null,null,0.9594035801822195,null,null,null,null,null,null,null,null],[null,null,null,null,null,null,null,null,null,null,null,null,null,null,null,2.308023227112635,null,null,null,null,null,null,null,null,null,null,null,null,null,null,null,null],[null,null,null,null,null,null,null,null,null,null,null,null,null,null,null,null,null,null,null,null,null,null,2.3308440674943625,null,null,null,null,null,null,null,null,null],[null,null,null,null,null,null,null,null,null,null,null,null,null,null,null,null,null,null,null,null,null,null,null,null,null,null,null,null,null,null,0.8615798228979111,null],[null,null,null,null,null,null,null,null,null,null,null,null,null,null,null,null,null,null,null,null,null,null,null,null,null,null,0.8468572935637306,null,null,null,null,null],[null,null,null,null,null,null,null,null,null,null,null,null,null,null,null,null,null,null,null,null,null,null,null,null,null,null,null,null,null,2.3064591855887904,null,null],[null,null,null,null,null,null,null,null,null,null,null,null,null,null,null,null,0.9796114992436178,null,null,null,null,null,null,null,null,null,null,null,null,null,null,null],[null,null,null,null,null,null,null,null,null,null,null,null,null,null,null,null,null,null,null,null,null,null,null,null,1.0199463226821985,null,null,null,null,null,null,null],[null,null,null,null,null,null,null,null,null,null,null,null,null,null,null,null,null,null,null,null,null,0.9173180745775198,null,null,null,null,null,null,null,null,null,null],[null,null,null,null,null,null,null,null,null,null,null,null,null,null,null,null,null,null,null,0.9663325294852255,null,null,null,null,null,null,null,null,null,null,null,null],[null,null,null,null,null,null,null,null,null,null,null,null,null,null,null,null,null,null,null,null,null,null,null,null,null,null,null,null,0.9333370736837385,null,null,null],[null,0.970559313589213,null,null,null,null,null,null,null,null,null,null,null,null,null,null,null,null,null,null,null,null,null,null,null,null,null,null,null,null,null,null],[null,null,null,2.1159408791311862,null,null,null,null,null,null,null,null,null,null,null,null,null,null,null,null,null,null,null,null,null,null,null,null,null,null,null,null],[null,null,null,null,2.304749325097323,null,null,null,null,null,null,null,null,null,null,null,null,null,null,null,null,null,null,null,null,null,null,null,null,null,null,null],[null,null,null,null,null,null,null,null,null,null,null,null,null,null,null,null,null,null,null,null,2.3033253585591025,null,null,null,null,null,null,null,null,null,null,null],[null,null,null,null,null,null,null,0.8594228555448353,null,null,null,null,null,null,null,null,null,null,null,null,null,null,null,null,null,null,null,null,null,null,null,null],[null,null,null,null,null,null,null,null,null,null,null,null,null,null,null,null,null,null,null,null,null,null,null,null,null,0.9710360651466702,null,null,null,null,null,null],[null,null,null,null,null,null,null,null,null,null,null,null,null,null,null,null,null,0.9695012574436284,null,null,null,null,null,null,null,null,null,null,null,null,null,null],[null,null,2.302633065572926,null,null,null,null,null,null,null,null,null,null,null,null,null,null,null,null,null,null,null,null,null,null,null,null,null,null,null,null,null],[null,null,null,null,null,null,null,null,null,null,null,null,null,null,0.8779827433663444,null,null,null,null,null,null,null,null,null,null,null,null,null,null,null,null,null],[null,null,null,null,null,null,null,null,null,null,null,null,null,null,null,null,null,null,1.0034908101309177,null,null,null,null,null,null,null,null,null,null,null,null,null],[null,null,null,null,null,null,null,null,null,null,null,2.3027173531055456,null,null,null,null,null,null,null,null,null,null,null,null,null,null,null,null,null,null,null,null],[null,null,null,null,null,null,null,null,null,null,null,null,null,0.9928599794705705,null,null,null,null,null,null,null,null,null,null,null,null,null,null,null,null,null,null],[null,null,null,null,null,null,null,null,null,null,null,null,null,null,null,null,null,null,null,null,null,null,null,null,null,null,null,null,null,null,null,null]],\"type\":\"contour\",\"xaxis\":\"x7\",\"yaxis\":\"y7\"},{\"marker\":{\"color\":\"black\",\"line\":{\"color\":\"Grey\",\"width\":0.5}},\"mode\":\"markers\",\"showlegend\":false,\"x\":[598,402,960,508,733,665,391,648,259,355,404,500,481,450,806,468,415,546,435,287,519,608,580,426,440,1019,852,1016,916,743],\"y\":[289,206,291,232,230,234,346,285,308,336,151,464,510,484,417,139,407,441,206,450,265,379,471,208,197,244,250,255,225,274],\"type\":\"scatter\",\"xaxis\":\"x7\",\"yaxis\":\"y7\"},{\"colorbar\":{\"title\":{\"text\":\"Objective Value\"}},\"colorscale\":[[0,\"rgb(5,10,172)\"],[0.35,\"rgb(40,60,190)\"],[0.5,\"rgb(70,100,245)\"],[0.6,\"rgb(90,120,245)\"],[0.7,\"rgb(106,137,247)\"],[1,\"rgb(220,220,220)\"]],\"connectgaps\":true,\"contours\":{\"coloring\":\"heatmap\"},\"hoverinfo\":\"none\",\"line\":{\"smoothing\":1.3},\"reversescale\":true,\"showscale\":false,\"x\":[0.055,0.1,0.2,0.30000000000000004,0.4,0.5,0.6,0.7000000000000001,0.8,0.9,1.0,1.045],\"y\":[221.0,259,287,355,391,402,404,415,426,435,440,450,468,481,500,508,519,546,580,598,608,648,665,733,743,806,852,916,960,1016,1019,1057.0],\"z\":[[null,null,null,null,null,null,null,null,null,null,null,null],[null,null,null,null,null,null,null,0.970559313589213,null,null,null,null],[null,null,null,null,null,null,null,null,null,2.302633065572926,null,null],[null,null,null,null,null,null,2.1159408791311862,null,null,null,null,null],[null,null,null,null,null,null,null,null,2.304749325097323,null,null,null],[null,null,null,null,null,null,null,0.8538003005400426,null,null,null,null],[null,null,null,null,null,null,null,null,null,null,2.3026118452185833,null],[null,null,null,null,null,null,null,0.8594228555448353,null,null,null,null],[null,null,null,null,null,0.8815758077495073,null,null,null,null,null,null],[null,null,null,null,null,0.8793295427244536,null,null,null,null,null,null],[null,null,null,null,null,0.874182585053719,null,null,null,null,null,null],[null,null,null,null,2.3027173531055456,null,null,null,null,null,null,null],[null,null,null,null,0.9328236542642117,null,null,null,null,null,null,null],[null,null,null,null,null,0.9928599794705705,null,null,null,null,null,null],[null,null,null,null,0.8779827433663444,null,null,null,null,null,null,null],[null,null,null,null,null,null,null,2.308023227112635,null,null,null,null],[null,null,null,0.9796114992436178,null,null,null,null,null,null,null,null],[null,null,null,null,null,null,null,null,0.9695012574436284,null,null,null],[null,1.0034908101309177,null,null,null,null,null,null,null,null,null,null],[null,0.9663325294852255,null,null,null,null,null,null,null,null,null,null],[null,null,null,null,null,null,2.3033253585591025,null,null,null,null,null],[null,null,null,0.9173180745775198,null,null,null,null,null,null,null,null],[null,null,null,2.3308440674943625,null,null,null,null,null,null,null,null],[null,null,0.9594035801822195,null,null,null,null,null,null,null,null,null],[null,null,null,null,null,null,1.0199463226821985,null,null,null,null,null],[null,null,null,null,0.9710360651466702,null,null,null,null,null,null,null],[null,null,null,null,null,null,null,0.8468572935637306,null,null,null,null],[null,null,null,null,null,null,null,0.9325450231631596,null,null,null,null],[null,null,null,null,null,0.9333370736837385,null,null,null,null,null,null],[null,null,null,null,null,null,null,null,2.3064591855887904,null,null,null],[null,null,null,null,null,null,0.8615798228979111,null,null,null,null,null],[null,null,null,null,null,null,null,null,null,null,null,null]],\"type\":\"contour\",\"xaxis\":\"x2\",\"yaxis\":\"y2\"},{\"marker\":{\"color\":\"black\",\"line\":{\"color\":\"Grey\",\"width\":0.5}},\"mode\":\"markers\",\"showlegend\":false,\"x\":[0.1,0.7000000000000001,0.5,0.7000000000000001,0.2,0.30000000000000004,0.8,0.30000000000000004,0.7000000000000001,0.6,1.0,0.4,0.5,0.4,0.4,0.4,0.7000000000000001,0.8,0.5,0.9,0.30000000000000004,0.6,0.1,0.5,0.5,0.6,0.7000000000000001,0.8,0.7000000000000001,0.6],\"y\":[598,402,960,508,733,665,391,648,259,355,404,500,481,450,806,468,415,546,435,287,519,608,580,426,440,1019,852,1016,916,743],\"type\":\"scatter\",\"xaxis\":\"x2\",\"yaxis\":\"y2\"},{\"type\":\"scatter\",\"xaxis\":\"x5\",\"yaxis\":\"y5\"},{\"colorbar\":{\"title\":{\"text\":\"Objective Value\"}},\"colorscale\":[[0,\"rgb(5,10,172)\"],[0.35,\"rgb(40,60,190)\"],[0.5,\"rgb(70,100,245)\"],[0.6,\"rgb(90,120,245)\"],[0.7,\"rgb(106,137,247)\"],[1,\"rgb(220,220,220)\"]],\"connectgaps\":true,\"contours\":{\"coloring\":\"heatmap\"},\"hoverinfo\":\"none\",\"line\":{\"smoothing\":1.3},\"reversescale\":true,\"showscale\":false,\"x\":[0.055,0.1,0.2,0.30000000000000004,0.4,0.5,0.6,0.7000000000000001,0.8,0.9,1.0,1.045],\"y\":[120.45,139,151,197,206,208,225,230,232,234,244,250,255,265,274,285,289,291,308,336,346,379,407,417,441,450,464,471,484,510,528.55],\"z\":[[null,null,null,null,null,null,null,null,null,null,null,null],[null,null,null,null,0.9328236542642117,null,null,null,null,null,null,null],[null,null,null,null,null,null,null,null,null,null,2.3026118452185833,null],[null,null,null,null,null,0.874182585053719,null,null,null,null,null,null],[null,null,null,null,null,0.8793295427244536,null,0.8538003005400426,null,null,null,null],[null,null,null,null,null,0.8815758077495073,null,null,null,null,null,null],[null,null,null,null,null,null,null,0.9325450231631596,null,null,null,null],[null,null,0.9594035801822195,null,null,null,null,null,null,null,null,null],[null,null,null,null,null,null,null,2.308023227112635,null,null,null,null],[null,null,null,2.3308440674943625,null,null,null,null,null,null,null,null],[null,null,null,null,null,null,0.8615798228979111,null,null,null,null,null],[null,null,null,null,null,null,null,0.8468572935637306,null,null,null,null],[null,null,null,null,null,null,null,null,2.3064591855887904,null,null,null],[null,null,null,0.9796114992436178,null,null,null,null,null,null,null,null],[null,null,null,null,null,null,1.0199463226821985,null,null,null,null,null],[null,null,null,0.9173180745775198,null,null,null,null,null,null,null,null],[null,0.9663325294852255,null,null,null,null,null,null,null,null,null,null],[null,null,null,null,null,0.9333370736837385,null,null,null,null,null,null],[null,null,null,null,null,null,null,0.970559313589213,null,null,null,null],[null,null,null,null,null,null,2.1159408791311862,null,null,null,null,null],[null,null,null,null,null,null,null,null,2.304749325097323,null,null,null],[null,null,null,null,null,null,2.3033253585591025,null,null,null,null,null],[null,null,null,null,null,null,null,0.8594228555448353,null,null,null,null],[null,null,null,null,0.9710360651466702,null,null,null,null,null,null,null],[null,null,null,null,null,null,null,null,0.9695012574436284,null,null,null],[null,null,null,null,null,null,null,null,null,2.302633065572926,null,null],[null,null,null,null,0.8779827433663444,null,null,null,null,null,null,null],[null,1.0034908101309177,null,null,null,null,null,null,null,null,null,null],[null,null,null,null,2.3027173531055456,null,null,null,null,null,null,null],[null,null,null,null,null,0.9928599794705705,null,null,null,null,null,null],[null,null,null,null,null,null,null,null,null,null,null,null]],\"type\":\"contour\",\"xaxis\":\"x8\",\"yaxis\":\"y8\"},{\"marker\":{\"color\":\"black\",\"line\":{\"color\":\"Grey\",\"width\":0.5}},\"mode\":\"markers\",\"showlegend\":false,\"x\":[0.1,0.7000000000000001,0.5,0.7000000000000001,0.2,0.30000000000000004,0.8,0.30000000000000004,0.7000000000000001,0.6,1.0,0.4,0.5,0.4,0.4,0.4,0.7000000000000001,0.8,0.5,0.9,0.30000000000000004,0.6,0.1,0.5,0.5,0.6,0.7000000000000001,0.8,0.7000000000000001,0.6],\"y\":[289,206,291,232,230,234,346,285,308,336,151,464,510,484,417,139,407,441,206,450,265,379,471,208,197,244,250,255,225,274],\"type\":\"scatter\",\"xaxis\":\"x8\",\"yaxis\":\"y8\"},{\"colorbar\":{\"title\":{\"text\":\"Objective Value\"}},\"colorscale\":[[0,\"rgb(5,10,172)\"],[0.35,\"rgb(40,60,190)\"],[0.5,\"rgb(70,100,245)\"],[0.6,\"rgb(90,120,245)\"],[0.7,\"rgb(106,137,247)\"],[1,\"rgb(220,220,220)\"]],\"connectgaps\":true,\"contours\":{\"coloring\":\"heatmap\"},\"hoverinfo\":\"none\",\"line\":{\"smoothing\":1.3},\"reversescale\":true,\"showscale\":false,\"x\":[120.45,139,151,197,206,208,225,230,232,234,244,250,255,265,274,285,289,291,308,336,346,379,407,417,441,450,464,471,484,510,528.55],\"y\":[221.0,259,287,355,391,402,404,415,426,435,440,450,468,481,500,508,519,546,580,598,608,648,665,733,743,806,852,916,960,1016,1019,1057.0],\"z\":[[null,null,null,null,null,null,null,null,null,null,null,null,null,null,null,null,null,null,null,null,null,null,null,null,null,null,null,null,null,null,null],[null,null,null,null,null,null,null,null,null,null,null,null,null,null,null,null,null,null,0.970559313589213,null,null,null,null,null,null,null,null,null,null,null,null],[null,null,null,null,null,null,null,null,null,null,null,null,null,null,null,null,null,null,null,null,null,null,null,null,null,2.302633065572926,null,null,null,null,null],[null,null,null,null,null,null,null,null,null,null,null,null,null,null,null,null,null,null,null,2.1159408791311862,null,null,null,null,null,null,null,null,null,null,null],[null,null,null,null,null,null,null,null,null,null,null,null,null,null,null,null,null,null,null,null,2.304749325097323,null,null,null,null,null,null,null,null,null,null],[null,null,null,null,0.8538003005400426,null,null,null,null,null,null,null,null,null,null,null,null,null,null,null,null,null,null,null,null,null,null,null,null,null,null],[null,null,2.3026118452185833,null,null,null,null,null,null,null,null,null,null,null,null,null,null,null,null,null,null,null,null,null,null,null,null,null,null,null,null],[null,null,null,null,null,null,null,null,null,null,null,null,null,null,null,null,null,null,null,null,null,null,0.8594228555448353,null,null,null,null,null,null,null,null],[null,null,null,null,null,0.8815758077495073,null,null,null,null,null,null,null,null,null,null,null,null,null,null,null,null,null,null,null,null,null,null,null,null,null],[null,null,null,null,0.8793295427244536,null,null,null,null,null,null,null,null,null,null,null,null,null,null,null,null,null,null,null,null,null,null,null,null,null,null],[null,null,null,0.874182585053719,null,null,null,null,null,null,null,null,null,null,null,null,null,null,null,null,null,null,null,null,null,null,null,null,null,null,null],[null,null,null,null,null,null,null,null,null,null,null,null,null,null,null,null,null,null,null,null,null,null,null,null,null,null,null,null,2.3027173531055456,null,null],[null,0.9328236542642117,null,null,null,null,null,null,null,null,null,null,null,null,null,null,null,null,null,null,null,null,null,null,null,null,null,null,null,null,null],[null,null,null,null,null,null,null,null,null,null,null,null,null,null,null,null,null,null,null,null,null,null,null,null,null,null,null,null,null,0.9928599794705705,null],[null,null,null,null,null,null,null,null,null,null,null,null,null,null,null,null,null,null,null,null,null,null,null,null,null,null,0.8779827433663444,null,null,null,null],[null,null,null,null,null,null,null,null,2.308023227112635,null,null,null,null,null,null,null,null,null,null,null,null,null,null,null,null,null,null,null,null,null,null],[null,null,null,null,null,null,null,null,null,null,null,null,null,0.9796114992436178,null,null,null,null,null,null,null,null,null,null,null,null,null,null,null,null,null],[null,null,null,null,null,null,null,null,null,null,null,null,null,null,null,null,null,null,null,null,null,null,null,null,0.9695012574436284,null,null,null,null,null,null],[null,null,null,null,null,null,null,null,null,null,null,null,null,null,null,null,null,null,null,null,null,null,null,null,null,null,null,1.0034908101309177,null,null,null],[null,null,null,null,null,null,null,null,null,null,null,null,null,null,null,null,0.9663325294852255,null,null,null,null,null,null,null,null,null,null,null,null,null,null],[null,null,null,null,null,null,null,null,null,null,null,null,null,null,null,null,null,null,null,null,null,2.3033253585591025,null,null,null,null,null,null,null,null,null],[null,null,null,null,null,null,null,null,null,null,null,null,null,null,null,0.9173180745775198,null,null,null,null,null,null,null,null,null,null,null,null,null,null,null],[null,null,null,null,null,null,null,null,null,2.3308440674943625,null,null,null,null,null,null,null,null,null,null,null,null,null,null,null,null,null,null,null,null,null],[null,null,null,null,null,null,null,0.9594035801822195,null,null,null,null,null,null,null,null,null,null,null,null,null,null,null,null,null,null,null,null,null,null,null],[null,null,null,null,null,null,null,null,null,null,null,null,null,null,1.0199463226821985,null,null,null,null,null,null,null,null,null,null,null,null,null,null,null,null],[null,null,null,null,null,null,null,null,null,null,null,null,null,null,null,null,null,null,null,null,null,null,null,0.9710360651466702,null,null,null,null,null,null,null],[null,null,null,null,null,null,null,null,null,null,null,0.8468572935637306,null,null,null,null,null,null,null,null,null,null,null,null,null,null,null,null,null,null,null],[null,null,null,null,null,null,0.9325450231631596,null,null,null,null,null,null,null,null,null,null,null,null,null,null,null,null,null,null,null,null,null,null,null,null],[null,null,null,null,null,null,null,null,null,null,null,null,null,null,null,null,null,0.9333370736837385,null,null,null,null,null,null,null,null,null,null,null,null,null],[null,null,null,null,null,null,null,null,null,null,null,null,2.3064591855887904,null,null,null,null,null,null,null,null,null,null,null,null,null,null,null,null,null,null],[null,null,null,null,null,null,null,null,null,null,0.8615798228979111,null,null,null,null,null,null,null,null,null,null,null,null,null,null,null,null,null,null,null,null],[null,null,null,null,null,null,null,null,null,null,null,null,null,null,null,null,null,null,null,null,null,null,null,null,null,null,null,null,null,null,null]],\"type\":\"contour\",\"xaxis\":\"x3\",\"yaxis\":\"y3\"},{\"marker\":{\"color\":\"black\",\"line\":{\"color\":\"Grey\",\"width\":0.5}},\"mode\":\"markers\",\"showlegend\":false,\"x\":[289,206,291,232,230,234,346,285,308,336,151,464,510,484,417,139,407,441,206,450,265,379,471,208,197,244,250,255,225,274],\"y\":[598,402,960,508,733,665,391,648,259,355,404,500,481,450,806,468,415,546,435,287,519,608,580,426,440,1019,852,1016,916,743],\"type\":\"scatter\",\"xaxis\":\"x3\",\"yaxis\":\"y3\"},{\"colorbar\":{\"title\":{\"text\":\"Objective Value\"}},\"colorscale\":[[0,\"rgb(5,10,172)\"],[0.35,\"rgb(40,60,190)\"],[0.5,\"rgb(70,100,245)\"],[0.6,\"rgb(90,120,245)\"],[0.7,\"rgb(106,137,247)\"],[1,\"rgb(220,220,220)\"]],\"connectgaps\":true,\"contours\":{\"coloring\":\"heatmap\"},\"hoverinfo\":\"none\",\"line\":{\"smoothing\":1.3},\"reversescale\":true,\"showscale\":false,\"x\":[120.45,139,151,197,206,208,225,230,232,234,244,250,255,265,274,285,289,291,308,336,346,379,407,417,441,450,464,471,484,510,528.55],\"y\":[0.055,0.1,0.2,0.30000000000000004,0.4,0.5,0.6,0.7000000000000001,0.8,0.9,1.0,1.045],\"z\":[[null,null,null,null,null,null,null,null,null,null,null,null,null,null,null,null,null,null,null,null,null,null,null,null,null,null,null,null,null,null,null],[null,null,null,null,null,null,null,null,null,null,null,null,null,null,null,null,0.9663325294852255,null,null,null,null,null,null,null,null,null,null,1.0034908101309177,null,null,null],[null,null,null,null,null,null,null,0.9594035801822195,null,null,null,null,null,null,null,null,null,null,null,null,null,null,null,null,null,null,null,null,null,null,null],[null,null,null,null,null,null,null,null,null,2.3308440674943625,null,null,null,0.9796114992436178,null,0.9173180745775198,null,null,null,null,null,null,null,null,null,null,null,null,null,null,null],[null,0.9328236542642117,null,null,null,null,null,null,null,null,null,null,null,null,null,null,null,null,null,null,null,null,null,0.9710360651466702,null,null,0.8779827433663444,null,2.3027173531055456,null,null],[null,null,null,0.874182585053719,0.8793295427244536,0.8815758077495073,null,null,null,null,null,null,null,null,null,null,null,0.9333370736837385,null,null,null,null,null,null,null,null,null,null,null,0.9928599794705705,null],[null,null,null,null,null,null,null,null,null,null,0.8615798228979111,null,null,null,1.0199463226821985,null,null,null,null,2.1159408791311862,null,2.3033253585591025,null,null,null,null,null,null,null,null,null],[null,null,null,null,0.8538003005400426,null,0.9325450231631596,null,2.308023227112635,null,null,0.8468572935637306,null,null,null,null,null,null,0.970559313589213,null,null,null,0.8594228555448353,null,null,null,null,null,null,null,null],[null,null,null,null,null,null,null,null,null,null,null,null,2.3064591855887904,null,null,null,null,null,null,null,2.304749325097323,null,null,null,0.9695012574436284,null,null,null,null,null,null],[null,null,null,null,null,null,null,null,null,null,null,null,null,null,null,null,null,null,null,null,null,null,null,null,null,2.302633065572926,null,null,null,null,null],[null,null,2.3026118452185833,null,null,null,null,null,null,null,null,null,null,null,null,null,null,null,null,null,null,null,null,null,null,null,null,null,null,null,null],[null,null,null,null,null,null,null,null,null,null,null,null,null,null,null,null,null,null,null,null,null,null,null,null,null,null,null,null,null,null,null]],\"type\":\"contour\",\"xaxis\":\"x6\",\"yaxis\":\"y6\"},{\"marker\":{\"color\":\"black\",\"line\":{\"color\":\"Grey\",\"width\":0.5}},\"mode\":\"markers\",\"showlegend\":false,\"x\":[289,206,291,232,230,234,346,285,308,336,151,464,510,484,417,139,407,441,206,450,265,379,471,208,197,244,250,255,225,274],\"y\":[0.1,0.7000000000000001,0.5,0.7000000000000001,0.2,0.30000000000000004,0.8,0.30000000000000004,0.7000000000000001,0.6,1.0,0.4,0.5,0.4,0.4,0.4,0.7000000000000001,0.8,0.5,0.9,0.30000000000000004,0.6,0.1,0.5,0.5,0.6,0.7000000000000001,0.8,0.7000000000000001,0.6],\"type\":\"scatter\",\"xaxis\":\"x6\",\"yaxis\":\"y6\"},{\"type\":\"scatter\",\"xaxis\":\"x9\",\"yaxis\":\"y9\"}],                        {\"template\":{\"data\":{\"bar\":[{\"error_x\":{\"color\":\"#2a3f5f\"},\"error_y\":{\"color\":\"#2a3f5f\"},\"marker\":{\"line\":{\"color\":\"#E5ECF6\",\"width\":0.5},\"pattern\":{\"fillmode\":\"overlay\",\"size\":10,\"solidity\":0.2}},\"type\":\"bar\"}],\"barpolar\":[{\"marker\":{\"line\":{\"color\":\"#E5ECF6\",\"width\":0.5},\"pattern\":{\"fillmode\":\"overlay\",\"size\":10,\"solidity\":0.2}},\"type\":\"barpolar\"}],\"carpet\":[{\"aaxis\":{\"endlinecolor\":\"#2a3f5f\",\"gridcolor\":\"white\",\"linecolor\":\"white\",\"minorgridcolor\":\"white\",\"startlinecolor\":\"#2a3f5f\"},\"baxis\":{\"endlinecolor\":\"#2a3f5f\",\"gridcolor\":\"white\",\"linecolor\":\"white\",\"minorgridcolor\":\"white\",\"startlinecolor\":\"#2a3f5f\"},\"type\":\"carpet\"}],\"choropleth\":[{\"colorbar\":{\"outlinewidth\":0,\"ticks\":\"\"},\"type\":\"choropleth\"}],\"contour\":[{\"colorbar\":{\"outlinewidth\":0,\"ticks\":\"\"},\"colorscale\":[[0.0,\"#0d0887\"],[0.1111111111111111,\"#46039f\"],[0.2222222222222222,\"#7201a8\"],[0.3333333333333333,\"#9c179e\"],[0.4444444444444444,\"#bd3786\"],[0.5555555555555556,\"#d8576b\"],[0.6666666666666666,\"#ed7953\"],[0.7777777777777778,\"#fb9f3a\"],[0.8888888888888888,\"#fdca26\"],[1.0,\"#f0f921\"]],\"type\":\"contour\"}],\"contourcarpet\":[{\"colorbar\":{\"outlinewidth\":0,\"ticks\":\"\"},\"type\":\"contourcarpet\"}],\"heatmap\":[{\"colorbar\":{\"outlinewidth\":0,\"ticks\":\"\"},\"colorscale\":[[0.0,\"#0d0887\"],[0.1111111111111111,\"#46039f\"],[0.2222222222222222,\"#7201a8\"],[0.3333333333333333,\"#9c179e\"],[0.4444444444444444,\"#bd3786\"],[0.5555555555555556,\"#d8576b\"],[0.6666666666666666,\"#ed7953\"],[0.7777777777777778,\"#fb9f3a\"],[0.8888888888888888,\"#fdca26\"],[1.0,\"#f0f921\"]],\"type\":\"heatmap\"}],\"heatmapgl\":[{\"colorbar\":{\"outlinewidth\":0,\"ticks\":\"\"},\"colorscale\":[[0.0,\"#0d0887\"],[0.1111111111111111,\"#46039f\"],[0.2222222222222222,\"#7201a8\"],[0.3333333333333333,\"#9c179e\"],[0.4444444444444444,\"#bd3786\"],[0.5555555555555556,\"#d8576b\"],[0.6666666666666666,\"#ed7953\"],[0.7777777777777778,\"#fb9f3a\"],[0.8888888888888888,\"#fdca26\"],[1.0,\"#f0f921\"]],\"type\":\"heatmapgl\"}],\"histogram\":[{\"marker\":{\"pattern\":{\"fillmode\":\"overlay\",\"size\":10,\"solidity\":0.2}},\"type\":\"histogram\"}],\"histogram2d\":[{\"colorbar\":{\"outlinewidth\":0,\"ticks\":\"\"},\"colorscale\":[[0.0,\"#0d0887\"],[0.1111111111111111,\"#46039f\"],[0.2222222222222222,\"#7201a8\"],[0.3333333333333333,\"#9c179e\"],[0.4444444444444444,\"#bd3786\"],[0.5555555555555556,\"#d8576b\"],[0.6666666666666666,\"#ed7953\"],[0.7777777777777778,\"#fb9f3a\"],[0.8888888888888888,\"#fdca26\"],[1.0,\"#f0f921\"]],\"type\":\"histogram2d\"}],\"histogram2dcontour\":[{\"colorbar\":{\"outlinewidth\":0,\"ticks\":\"\"},\"colorscale\":[[0.0,\"#0d0887\"],[0.1111111111111111,\"#46039f\"],[0.2222222222222222,\"#7201a8\"],[0.3333333333333333,\"#9c179e\"],[0.4444444444444444,\"#bd3786\"],[0.5555555555555556,\"#d8576b\"],[0.6666666666666666,\"#ed7953\"],[0.7777777777777778,\"#fb9f3a\"],[0.8888888888888888,\"#fdca26\"],[1.0,\"#f0f921\"]],\"type\":\"histogram2dcontour\"}],\"mesh3d\":[{\"colorbar\":{\"outlinewidth\":0,\"ticks\":\"\"},\"type\":\"mesh3d\"}],\"parcoords\":[{\"line\":{\"colorbar\":{\"outlinewidth\":0,\"ticks\":\"\"}},\"type\":\"parcoords\"}],\"pie\":[{\"automargin\":true,\"type\":\"pie\"}],\"scatter\":[{\"marker\":{\"colorbar\":{\"outlinewidth\":0,\"ticks\":\"\"}},\"type\":\"scatter\"}],\"scatter3d\":[{\"line\":{\"colorbar\":{\"outlinewidth\":0,\"ticks\":\"\"}},\"marker\":{\"colorbar\":{\"outlinewidth\":0,\"ticks\":\"\"}},\"type\":\"scatter3d\"}],\"scattercarpet\":[{\"marker\":{\"colorbar\":{\"outlinewidth\":0,\"ticks\":\"\"}},\"type\":\"scattercarpet\"}],\"scattergeo\":[{\"marker\":{\"colorbar\":{\"outlinewidth\":0,\"ticks\":\"\"}},\"type\":\"scattergeo\"}],\"scattergl\":[{\"marker\":{\"colorbar\":{\"outlinewidth\":0,\"ticks\":\"\"}},\"type\":\"scattergl\"}],\"scattermapbox\":[{\"marker\":{\"colorbar\":{\"outlinewidth\":0,\"ticks\":\"\"}},\"type\":\"scattermapbox\"}],\"scatterpolar\":[{\"marker\":{\"colorbar\":{\"outlinewidth\":0,\"ticks\":\"\"}},\"type\":\"scatterpolar\"}],\"scatterpolargl\":[{\"marker\":{\"colorbar\":{\"outlinewidth\":0,\"ticks\":\"\"}},\"type\":\"scatterpolargl\"}],\"scatterternary\":[{\"marker\":{\"colorbar\":{\"outlinewidth\":0,\"ticks\":\"\"}},\"type\":\"scatterternary\"}],\"surface\":[{\"colorbar\":{\"outlinewidth\":0,\"ticks\":\"\"},\"colorscale\":[[0.0,\"#0d0887\"],[0.1111111111111111,\"#46039f\"],[0.2222222222222222,\"#7201a8\"],[0.3333333333333333,\"#9c179e\"],[0.4444444444444444,\"#bd3786\"],[0.5555555555555556,\"#d8576b\"],[0.6666666666666666,\"#ed7953\"],[0.7777777777777778,\"#fb9f3a\"],[0.8888888888888888,\"#fdca26\"],[1.0,\"#f0f921\"]],\"type\":\"surface\"}],\"table\":[{\"cells\":{\"fill\":{\"color\":\"#EBF0F8\"},\"line\":{\"color\":\"white\"}},\"header\":{\"fill\":{\"color\":\"#C8D4E3\"},\"line\":{\"color\":\"white\"}},\"type\":\"table\"}]},\"layout\":{\"annotationdefaults\":{\"arrowcolor\":\"#2a3f5f\",\"arrowhead\":0,\"arrowwidth\":1},\"autotypenumbers\":\"strict\",\"coloraxis\":{\"colorbar\":{\"outlinewidth\":0,\"ticks\":\"\"}},\"colorscale\":{\"diverging\":[[0,\"#8e0152\"],[0.1,\"#c51b7d\"],[0.2,\"#de77ae\"],[0.3,\"#f1b6da\"],[0.4,\"#fde0ef\"],[0.5,\"#f7f7f7\"],[0.6,\"#e6f5d0\"],[0.7,\"#b8e186\"],[0.8,\"#7fbc41\"],[0.9,\"#4d9221\"],[1,\"#276419\"]],\"sequential\":[[0.0,\"#0d0887\"],[0.1111111111111111,\"#46039f\"],[0.2222222222222222,\"#7201a8\"],[0.3333333333333333,\"#9c179e\"],[0.4444444444444444,\"#bd3786\"],[0.5555555555555556,\"#d8576b\"],[0.6666666666666666,\"#ed7953\"],[0.7777777777777778,\"#fb9f3a\"],[0.8888888888888888,\"#fdca26\"],[1.0,\"#f0f921\"]],\"sequentialminus\":[[0.0,\"#0d0887\"],[0.1111111111111111,\"#46039f\"],[0.2222222222222222,\"#7201a8\"],[0.3333333333333333,\"#9c179e\"],[0.4444444444444444,\"#bd3786\"],[0.5555555555555556,\"#d8576b\"],[0.6666666666666666,\"#ed7953\"],[0.7777777777777778,\"#fb9f3a\"],[0.8888888888888888,\"#fdca26\"],[1.0,\"#f0f921\"]]},\"colorway\":[\"#636efa\",\"#EF553B\",\"#00cc96\",\"#ab63fa\",\"#FFA15A\",\"#19d3f3\",\"#FF6692\",\"#B6E880\",\"#FF97FF\",\"#FECB52\"],\"font\":{\"color\":\"#2a3f5f\"},\"geo\":{\"bgcolor\":\"white\",\"lakecolor\":\"white\",\"landcolor\":\"#E5ECF6\",\"showlakes\":true,\"showland\":true,\"subunitcolor\":\"white\"},\"hoverlabel\":{\"align\":\"left\"},\"hovermode\":\"closest\",\"mapbox\":{\"style\":\"light\"},\"paper_bgcolor\":\"white\",\"plot_bgcolor\":\"#E5ECF6\",\"polar\":{\"angularaxis\":{\"gridcolor\":\"white\",\"linecolor\":\"white\",\"ticks\":\"\"},\"bgcolor\":\"#E5ECF6\",\"radialaxis\":{\"gridcolor\":\"white\",\"linecolor\":\"white\",\"ticks\":\"\"}},\"scene\":{\"xaxis\":{\"backgroundcolor\":\"#E5ECF6\",\"gridcolor\":\"white\",\"gridwidth\":2,\"linecolor\":\"white\",\"showbackground\":true,\"ticks\":\"\",\"zerolinecolor\":\"white\"},\"yaxis\":{\"backgroundcolor\":\"#E5ECF6\",\"gridcolor\":\"white\",\"gridwidth\":2,\"linecolor\":\"white\",\"showbackground\":true,\"ticks\":\"\",\"zerolinecolor\":\"white\"},\"zaxis\":{\"backgroundcolor\":\"#E5ECF6\",\"gridcolor\":\"white\",\"gridwidth\":2,\"linecolor\":\"white\",\"showbackground\":true,\"ticks\":\"\",\"zerolinecolor\":\"white\"}},\"shapedefaults\":{\"line\":{\"color\":\"#2a3f5f\"}},\"ternary\":{\"aaxis\":{\"gridcolor\":\"white\",\"linecolor\":\"white\",\"ticks\":\"\"},\"baxis\":{\"gridcolor\":\"white\",\"linecolor\":\"white\",\"ticks\":\"\"},\"bgcolor\":\"#E5ECF6\",\"caxis\":{\"gridcolor\":\"white\",\"linecolor\":\"white\",\"ticks\":\"\"}},\"title\":{\"x\":0.05},\"xaxis\":{\"automargin\":true,\"gridcolor\":\"white\",\"linecolor\":\"white\",\"ticks\":\"\",\"title\":{\"standoff\":15},\"zerolinecolor\":\"white\",\"zerolinewidth\":2},\"yaxis\":{\"automargin\":true,\"gridcolor\":\"white\",\"linecolor\":\"white\",\"ticks\":\"\",\"title\":{\"standoff\":15},\"zerolinecolor\":\"white\",\"zerolinewidth\":2}}},\"xaxis\":{\"anchor\":\"y\",\"domain\":[0.0,0.2888888888888889],\"matches\":\"x7\",\"showticklabels\":false,\"range\":[221.0,1057.0]},\"yaxis\":{\"anchor\":\"x\",\"domain\":[0.7333333333333333,1.0],\"range\":[221.0,1057.0],\"title\":{\"text\":\"dense\"}},\"xaxis2\":{\"anchor\":\"y2\",\"domain\":[0.35555555555555557,0.6444444444444445],\"matches\":\"x8\",\"showticklabels\":false,\"range\":[0.055,1.045]},\"yaxis2\":{\"anchor\":\"x2\",\"domain\":[0.7333333333333333,1.0],\"matches\":\"y\",\"showticklabels\":false,\"range\":[221.0,1057.0]},\"xaxis3\":{\"anchor\":\"y3\",\"domain\":[0.7111111111111111,1.0],\"matches\":\"x9\",\"showticklabels\":false,\"range\":[120.45,528.55]},\"yaxis3\":{\"anchor\":\"x3\",\"domain\":[0.7333333333333333,1.0],\"matches\":\"y\",\"showticklabels\":false,\"range\":[221.0,1057.0]},\"xaxis4\":{\"anchor\":\"y4\",\"domain\":[0.0,0.2888888888888889],\"matches\":\"x7\",\"showticklabels\":false,\"range\":[221.0,1057.0]},\"yaxis4\":{\"anchor\":\"x4\",\"domain\":[0.36666666666666664,0.6333333333333333],\"range\":[0.055,1.045],\"title\":{\"text\":\"dropout\"}},\"xaxis5\":{\"anchor\":\"y5\",\"domain\":[0.35555555555555557,0.6444444444444445],\"matches\":\"x8\",\"showticklabels\":false,\"range\":[0.055,1.045]},\"yaxis5\":{\"anchor\":\"x5\",\"domain\":[0.36666666666666664,0.6333333333333333],\"matches\":\"y4\",\"showticklabels\":false,\"range\":[0.055,1.045]},\"xaxis6\":{\"anchor\":\"y6\",\"domain\":[0.7111111111111111,1.0],\"matches\":\"x9\",\"showticklabels\":false,\"range\":[120.45,528.55]},\"yaxis6\":{\"anchor\":\"x6\",\"domain\":[0.36666666666666664,0.6333333333333333],\"matches\":\"y4\",\"showticklabels\":false,\"range\":[0.055,1.045]},\"xaxis7\":{\"anchor\":\"y7\",\"domain\":[0.0,0.2888888888888889],\"range\":[221.0,1057.0],\"title\":{\"text\":\"dense\"}},\"yaxis7\":{\"anchor\":\"x7\",\"domain\":[0.0,0.26666666666666666],\"range\":[120.45,528.55],\"title\":{\"text\":\"vgg_b3\"}},\"xaxis8\":{\"anchor\":\"y8\",\"domain\":[0.35555555555555557,0.6444444444444445],\"range\":[0.055,1.045],\"title\":{\"text\":\"dropout\"}},\"yaxis8\":{\"anchor\":\"x8\",\"domain\":[0.0,0.26666666666666666],\"matches\":\"y7\",\"showticklabels\":false,\"range\":[120.45,528.55]},\"xaxis9\":{\"anchor\":\"y9\",\"domain\":[0.7111111111111111,1.0],\"range\":[120.45,528.55],\"title\":{\"text\":\"vgg_b3\"}},\"yaxis9\":{\"anchor\":\"x9\",\"domain\":[0.0,0.26666666666666666],\"matches\":\"y7\",\"showticklabels\":false,\"range\":[120.45,528.55]},\"title\":{\"text\":\"Contour Plot\"},\"autosize\":false,\"width\":900,\"height\":700},                        {\"responsive\": true}                    ).then(function(){\n",
       "                            \n",
       "var gd = document.getElementById('51490b05-b700-4390-81a5-514e638b12b5');\n",
       "var x = new MutationObserver(function (mutations, observer) {{\n",
       "        var display = window.getComputedStyle(gd).display;\n",
       "        if (!display || display === 'none') {{\n",
       "            console.log([gd, 'removed!']);\n",
       "            Plotly.purge(gd);\n",
       "            observer.disconnect();\n",
       "        }}\n",
       "}});\n",
       "\n",
       "// Listen for the removal of the full notebook cells\n",
       "var notebookContainer = gd.closest('#notebook-container');\n",
       "if (notebookContainer) {{\n",
       "    x.observe(notebookContainer, {childList: true});\n",
       "}}\n",
       "\n",
       "// Listen for the clearing of the current output cell\n",
       "var outputEl = gd.closest('.output');\n",
       "if (outputEl) {{\n",
       "    x.observe(outputEl, {childList: true});\n",
       "}}\n",
       "\n",
       "                        })                };                });            </script>        </div>"
      ]
     },
     "metadata": {},
     "output_type": "display_data"
    }
   ],
   "source": [
    "fig = optuna.visualization.plot_contour(study, params=['vgg_b3', 'dense', 'dropout'])\n",
    "fig.update_layout(autosize=False, width=900, height=700)"
   ]
  },
  {
   "cell_type": "markdown",
   "id": "cd4d8796",
   "metadata": {
    "papermill": {
     "duration": 0.636189,
     "end_time": "2022-01-09T20:12:49.839645",
     "exception": false,
     "start_time": "2022-01-09T20:12:49.203456",
     "status": "completed"
    },
    "tags": []
   },
   "source": [
    "In conclusion, the search results don't look too good. Perhaps because we used (6, 6) for the spatial dimension of the average pooling at the end. Also, the size of the CIFAR-10 images is too small (32x32). Moreover, the dataset is reduced to half (25,000 images). But it's nice to see how hyperparameter tuning can be used to inform neural architecture search. "
   ]
  },
  {
   "cell_type": "markdown",
   "id": "ba4bc0bd",
   "metadata": {
    "id": "cE-8JzvCcMxJ",
    "papermill": {
     "duration": 0.643389,
     "end_time": "2022-01-09T20:12:51.124382",
     "exception": false,
     "start_time": "2022-01-09T20:12:50.480993",
     "status": "completed"
    },
    "tags": []
   },
   "source": [
    "## Appendix: Hyperparameters of commonly used models"
   ]
  },
  {
   "cell_type": "markdown",
   "id": "120596e5",
   "metadata": {
    "id": "A5eopYOBcMxJ",
    "papermill": {
     "duration": 0.651971,
     "end_time": "2022-01-09T20:12:52.424421",
     "exception": false,
     "start_time": "2022-01-09T20:12:51.772450",
     "status": "completed"
    },
    "tags": []
   },
   "source": [
    "<br>"
   ]
  },
  {
   "cell_type": "markdown",
   "id": "96119773",
   "metadata": {
    "id": "YaEeJGwecMxJ",
    "papermill": {
     "duration": 0.65556,
     "end_time": "2022-01-09T20:12:53.713188",
     "exception": false,
     "start_time": "2022-01-09T20:12:53.057628",
     "status": "completed"
    },
    "tags": []
   },
   "source": [
    "```{figure} ../img/hyp.png\n",
    "---\n",
    "name: hyp\n",
    "---\n",
    "Table from p. 184 of {cite}`AAAMLP`. **RS**$^*$ implies random search should be better.\n",
    "```"
   ]
  },
  {
   "cell_type": "markdown",
   "id": "6840c60c",
   "metadata": {
    "papermill": {
     "duration": 1.019948,
     "end_time": "2022-01-09T20:12:55.440002",
     "exception": false,
     "start_time": "2022-01-09T20:12:54.420054",
     "status": "completed"
    },
    "tags": []
   },
   "source": [
    "### Auto XGBoost\n",
    "\n",
    "The following search space is used to tune XGBoost in the [autoxgb](https://github.com/abhishekkrthakur/autoxgb) package:\n",
    "\n",
    "```python\n",
    "#https://github.com/abhishekkrthakur/autoxgb/blob/main/src/autoxgb/params.py\n",
    "def get_params(trial, model_config):\n",
    "    \n",
    "    params = {\n",
    "        \"learning_rate\": trial.suggest_float(\"learning_rate\", 1e-2, 0.25, log=True),\n",
    "        \"reg_lambda\": trial.suggest_float(\"reg_lambda\", 1e-8, 100.0, log=True),\n",
    "        \"reg_alpha\": trial.suggest_float(\"reg_alpha\", 1e-8, 100.0, log=True),\n",
    "        \"subsample\": trial.suggest_float(\"subsample\", 0.1, 1.0),\n",
    "        \"colsample_bytree\": trial.suggest_float(\"colsample_bytree\", 0.1, 1.0),\n",
    "        \"max_depth\": trial.suggest_int(\"max_depth\", 1, 9),\n",
    "        \"early_stopping_rounds\": trial.suggest_int(\"early_stopping_rounds\", 100, 500),\n",
    "        \"n_estimators\": trial.suggest_categorical(\"n_estimators\", [7000, 15000, 20000]),\n",
    "    }\n",
    "    \n",
    "    if model_config.use_gpu:\n",
    "        params[\"tree_method\"] = \"gpu_hist\"\n",
    "        params[\"gpu_id\"] = 0\n",
    "        params[\"predictor\"] = \"gpu_predictor\"\n",
    "    else:\n",
    "        params[\"tree_method\"] = trial.suggest_categorical(\"tree_method\", [\"exact\", \"approx\", \"hist\"])\n",
    "        params[\"booster\"] = trial.suggest_categorical(\"booster\", [\"gbtree\", \"gblinear\"])\n",
    "        if params[\"booster\"] == \"gbtree\":\n",
    "            params[\"gamma\"] = trial.suggest_float(\"gamma\", 1e-8, 1.0, log=True)\n",
    "            params[\"grow_policy\"] = trial.suggest_categorical(\"grow_policy\", [\"depthwise\", \"lossguide\"])\n",
    "\n",
    "    return params\n",
    "```"
   ]
  }
 ],
 "metadata": {
  "kernelspec": {
   "display_name": "Python 3",
   "language": "python",
   "name": "python3"
  },
  "language_info": {
   "codemirror_mode": {
    "name": "ipython",
    "version": 3
   },
   "file_extension": ".py",
   "mimetype": "text/x-python",
   "name": "python",
   "nbconvert_exporter": "python",
   "pygments_lexer": "ipython3",
   "version": "3.7.12"
  },
  "papermill": {
   "default_parameters": {},
   "duration": 12583.70227,
   "end_time": "2022-01-09T20:12:57.770361",
   "environment_variables": {},
   "exception": null,
   "input_path": "__notebook__.ipynb",
   "output_path": "__notebook__.ipynb",
   "parameters": {},
   "start_time": "2022-01-09T16:43:14.068091",
   "version": "2.3.3"
  },
  "widgets": {
   "application/vnd.jupyter.widget-state+json": {
    "state": {
     "1441e512780e4da9b1403adeddc4a8c8": {
      "model_module": "@jupyter-widgets/base",
      "model_module_version": "1.2.0",
      "model_name": "LayoutModel",
      "state": {
       "_model_module": "@jupyter-widgets/base",
       "_model_module_version": "1.2.0",
       "_model_name": "LayoutModel",
       "_view_count": null,
       "_view_module": "@jupyter-widgets/base",
       "_view_module_version": "1.2.0",
       "_view_name": "LayoutView",
       "align_content": null,
       "align_items": null,
       "align_self": null,
       "border": null,
       "bottom": null,
       "display": null,
       "flex": null,
       "flex_flow": null,
       "grid_area": null,
       "grid_auto_columns": null,
       "grid_auto_flow": null,
       "grid_auto_rows": null,
       "grid_column": null,
       "grid_gap": null,
       "grid_row": null,
       "grid_template_areas": null,
       "grid_template_columns": null,
       "grid_template_rows": null,
       "height": null,
       "justify_content": null,
       "justify_items": null,
       "left": null,
       "margin": null,
       "max_height": null,
       "max_width": null,
       "min_height": null,
       "min_width": null,
       "object_fit": null,
       "object_position": null,
       "order": null,
       "overflow": null,
       "overflow_x": null,
       "overflow_y": null,
       "padding": null,
       "right": null,
       "top": null,
       "visibility": null,
       "width": null
      }
     },
     "4eeb2455c9b34c5fb99b992fc7ed2923": {
      "model_module": "@jupyter-widgets/controls",
      "model_module_version": "1.5.0",
      "model_name": "ProgressStyleModel",
      "state": {
       "_model_module": "@jupyter-widgets/controls",
       "_model_module_version": "1.5.0",
       "_model_name": "ProgressStyleModel",
       "_view_count": null,
       "_view_module": "@jupyter-widgets/base",
       "_view_module_version": "1.2.0",
       "_view_name": "StyleView",
       "bar_color": null,
       "description_width": ""
      }
     },
     "5d1993403e534227b6c2076bf171b76f": {
      "model_module": "@jupyter-widgets/controls",
      "model_module_version": "1.5.0",
      "model_name": "HTMLModel",
      "state": {
       "_dom_classes": [],
       "_model_module": "@jupyter-widgets/controls",
       "_model_module_version": "1.5.0",
       "_model_name": "HTMLModel",
       "_view_count": null,
       "_view_module": "@jupyter-widgets/controls",
       "_view_module_version": "1.5.0",
       "_view_name": "HTMLView",
       "description": "",
       "description_tooltip": null,
       "layout": "IPY_MODEL_f993bef131e649eaa8825048cdacd055",
       "placeholder": "​",
       "style": "IPY_MODEL_66fad21e17744d96ab1fd2bc86162746",
       "value": ""
      }
     },
     "66fad21e17744d96ab1fd2bc86162746": {
      "model_module": "@jupyter-widgets/controls",
      "model_module_version": "1.5.0",
      "model_name": "DescriptionStyleModel",
      "state": {
       "_model_module": "@jupyter-widgets/controls",
       "_model_module_version": "1.5.0",
       "_model_name": "DescriptionStyleModel",
       "_view_count": null,
       "_view_module": "@jupyter-widgets/base",
       "_view_module_version": "1.2.0",
       "_view_name": "StyleView",
       "description_width": ""
      }
     },
     "874d09352da144458fe7fc60af026327": {
      "model_module": "@jupyter-widgets/base",
      "model_module_version": "1.2.0",
      "model_name": "LayoutModel",
      "state": {
       "_model_module": "@jupyter-widgets/base",
       "_model_module_version": "1.2.0",
       "_model_name": "LayoutModel",
       "_view_count": null,
       "_view_module": "@jupyter-widgets/base",
       "_view_module_version": "1.2.0",
       "_view_name": "LayoutView",
       "align_content": null,
       "align_items": null,
       "align_self": null,
       "border": null,
       "bottom": null,
       "display": null,
       "flex": null,
       "flex_flow": null,
       "grid_area": null,
       "grid_auto_columns": null,
       "grid_auto_flow": null,
       "grid_auto_rows": null,
       "grid_column": null,
       "grid_gap": null,
       "grid_row": null,
       "grid_template_areas": null,
       "grid_template_columns": null,
       "grid_template_rows": null,
       "height": null,
       "justify_content": null,
       "justify_items": null,
       "left": null,
       "margin": null,
       "max_height": null,
       "max_width": null,
       "min_height": null,
       "min_width": null,
       "object_fit": null,
       "object_position": null,
       "order": null,
       "overflow": null,
       "overflow_x": null,
       "overflow_y": null,
       "padding": null,
       "right": null,
       "top": null,
       "visibility": null,
       "width": null
      }
     },
     "9d96ea76728645b5b3727b6f321b9ee0": {
      "model_module": "@jupyter-widgets/controls",
      "model_module_version": "1.5.0",
      "model_name": "HTMLModel",
      "state": {
       "_dom_classes": [],
       "_model_module": "@jupyter-widgets/controls",
       "_model_module_version": "1.5.0",
       "_model_name": "HTMLModel",
       "_view_count": null,
       "_view_module": "@jupyter-widgets/controls",
       "_view_module_version": "1.5.0",
       "_view_name": "HTMLView",
       "description": "",
       "description_tooltip": null,
       "layout": "IPY_MODEL_874d09352da144458fe7fc60af026327",
       "placeholder": "​",
       "style": "IPY_MODEL_d7ca7e31b8e04131ab1784170be60469",
       "value": " 170499072/? [00:02&lt;00:00, 85506554.84it/s]"
      }
     },
     "bdbe4666f9514b6184081dad09e5ea64": {
      "model_module": "@jupyter-widgets/controls",
      "model_module_version": "1.5.0",
      "model_name": "FloatProgressModel",
      "state": {
       "_dom_classes": [],
       "_model_module": "@jupyter-widgets/controls",
       "_model_module_version": "1.5.0",
       "_model_name": "FloatProgressModel",
       "_view_count": null,
       "_view_module": "@jupyter-widgets/controls",
       "_view_module_version": "1.5.0",
       "_view_name": "ProgressView",
       "bar_style": "success",
       "description": "",
       "description_tooltip": null,
       "layout": "IPY_MODEL_e912189511fc4a2c8a628d6a100fcc54",
       "max": 170498071,
       "min": 0,
       "orientation": "horizontal",
       "style": "IPY_MODEL_4eeb2455c9b34c5fb99b992fc7ed2923",
       "value": 170498071
      }
     },
     "d7ca7e31b8e04131ab1784170be60469": {
      "model_module": "@jupyter-widgets/controls",
      "model_module_version": "1.5.0",
      "model_name": "DescriptionStyleModel",
      "state": {
       "_model_module": "@jupyter-widgets/controls",
       "_model_module_version": "1.5.0",
       "_model_name": "DescriptionStyleModel",
       "_view_count": null,
       "_view_module": "@jupyter-widgets/base",
       "_view_module_version": "1.2.0",
       "_view_name": "StyleView",
       "description_width": ""
      }
     },
     "e912189511fc4a2c8a628d6a100fcc54": {
      "model_module": "@jupyter-widgets/base",
      "model_module_version": "1.2.0",
      "model_name": "LayoutModel",
      "state": {
       "_model_module": "@jupyter-widgets/base",
       "_model_module_version": "1.2.0",
       "_model_name": "LayoutModel",
       "_view_count": null,
       "_view_module": "@jupyter-widgets/base",
       "_view_module_version": "1.2.0",
       "_view_name": "LayoutView",
       "align_content": null,
       "align_items": null,
       "align_self": null,
       "border": null,
       "bottom": null,
       "display": null,
       "flex": null,
       "flex_flow": null,
       "grid_area": null,
       "grid_auto_columns": null,
       "grid_auto_flow": null,
       "grid_auto_rows": null,
       "grid_column": null,
       "grid_gap": null,
       "grid_row": null,
       "grid_template_areas": null,
       "grid_template_columns": null,
       "grid_template_rows": null,
       "height": null,
       "justify_content": null,
       "justify_items": null,
       "left": null,
       "margin": null,
       "max_height": null,
       "max_width": null,
       "min_height": null,
       "min_width": null,
       "object_fit": null,
       "object_position": null,
       "order": null,
       "overflow": null,
       "overflow_x": null,
       "overflow_y": null,
       "padding": null,
       "right": null,
       "top": null,
       "visibility": null,
       "width": null
      }
     },
     "f526ee1acb344c17a1fa5c35271c0255": {
      "model_module": "@jupyter-widgets/controls",
      "model_module_version": "1.5.0",
      "model_name": "HBoxModel",
      "state": {
       "_dom_classes": [],
       "_model_module": "@jupyter-widgets/controls",
       "_model_module_version": "1.5.0",
       "_model_name": "HBoxModel",
       "_view_count": null,
       "_view_module": "@jupyter-widgets/controls",
       "_view_module_version": "1.5.0",
       "_view_name": "HBoxView",
       "box_style": "",
       "children": [
        "IPY_MODEL_5d1993403e534227b6c2076bf171b76f",
        "IPY_MODEL_bdbe4666f9514b6184081dad09e5ea64",
        "IPY_MODEL_9d96ea76728645b5b3727b6f321b9ee0"
       ],
       "layout": "IPY_MODEL_1441e512780e4da9b1403adeddc4a8c8"
      }
     },
     "f993bef131e649eaa8825048cdacd055": {
      "model_module": "@jupyter-widgets/base",
      "model_module_version": "1.2.0",
      "model_name": "LayoutModel",
      "state": {
       "_model_module": "@jupyter-widgets/base",
       "_model_module_version": "1.2.0",
       "_model_name": "LayoutModel",
       "_view_count": null,
       "_view_module": "@jupyter-widgets/base",
       "_view_module_version": "1.2.0",
       "_view_name": "LayoutView",
       "align_content": null,
       "align_items": null,
       "align_self": null,
       "border": null,
       "bottom": null,
       "display": null,
       "flex": null,
       "flex_flow": null,
       "grid_area": null,
       "grid_auto_columns": null,
       "grid_auto_flow": null,
       "grid_auto_rows": null,
       "grid_column": null,
       "grid_gap": null,
       "grid_row": null,
       "grid_template_areas": null,
       "grid_template_columns": null,
       "grid_template_rows": null,
       "height": null,
       "justify_content": null,
       "justify_items": null,
       "left": null,
       "margin": null,
       "max_height": null,
       "max_width": null,
       "min_height": null,
       "min_width": null,
       "object_fit": null,
       "object_position": null,
       "order": null,
       "overflow": null,
       "overflow_x": null,
       "overflow_y": null,
       "padding": null,
       "right": null,
       "top": null,
       "visibility": null,
       "width": null
      }
     }
    },
    "version_major": 2,
    "version_minor": 0
   }
  }
 },
 "nbformat": 4,
 "nbformat_minor": 5
}
