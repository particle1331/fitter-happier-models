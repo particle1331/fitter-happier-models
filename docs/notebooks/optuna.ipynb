{
  "cells": [
    {
      "cell_type": "markdown",
      "metadata": {
        "id": "b128559a"
      },
      "source": [
        "# Hyperparameter Tuning with Optuna"
      ]
    },
    {
      "cell_type": "markdown",
      "metadata": {
        "id": "GZYO4-MhW75m"
      },
      "source": [
        "*\"With great models, comes the great problem of optimizing hyperparameters.\"* &mdash; GM Abishek Thakur {cite}`AAAMLP`\n",
        "\n",
        "<br>\n",
        "\n",
        "Hyperparameters are **non-learnable parameters** of a model that determine its architecture. The correct choice of hyperparameters could mean the difference between convergence to or divergence from a solution. In this notebook, we look at functionalities the open-source library [Optuna](https://optuna.org/) provides as a framework for solving this task. From the [docs](https://optuna.readthedocs.io/en/stable/index.html#):\n",
        "\n",
        "> *Optuna* is an automatic hyperparameter optimization software framework, particularly designed for machine learning. It features an imperative, *define-by-run* style user API. Thanks to our *define-by-run* API, the code written with Optuna enjoys high modularity, and the user of Optuna can dynamically construct the search spaces for the hyperparameters."
      ]
    },
    {
      "cell_type": "markdown",
      "metadata": {
        "id": "MOUV52kRW75n"
      },
      "source": [
        "- [Optuna FAQ](https://optuna.readthedocs.io/en/stable/faq.html)\n",
        "- [Optuna docs](https://optuna.readthedocs.io/en/stable/index.html#)\n",
        "- [Optuna paper](https://arxiv.org/abs/1907.10902)"
      ]
    },
    {
      "cell_type": "code",
      "execution_count": 8,
      "metadata": {
        "execution": {
          "iopub.execute_input": "2022-01-04T18:34:35.753230Z",
          "iopub.status.busy": "2022-01-04T18:34:35.752902Z",
          "iopub.status.idle": "2022-01-04T18:34:37.370143Z",
          "shell.execute_reply": "2022-01-04T18:34:37.369436Z",
          "shell.execute_reply.started": "2022-01-04T18:34:35.753139Z"
        },
        "id": "720c4c93",
        "trusted": true
      },
      "outputs": [],
      "source": [
        "import optuna\n",
        "import joblib\n",
        "import pandas as pd\n",
        "from functools import partial\n",
        "\n",
        "from sklearn import ensemble, svm\n",
        "from sklearn import datasets\n",
        "from sklearn import model_selection\n",
        "\n",
        "import plotly.io as pio\n",
        "pio.renderers.default = \"notebook_connected\""
      ]
    },
    {
      "cell_type": "markdown",
      "metadata": {
        "id": "5lhE-aOAW75p"
      },
      "source": [
        "## Fundamentals with scikit-learn"
      ]
    },
    {
      "cell_type": "markdown",
      "metadata": {
        "id": "lK3y83z5W75q"
      },
      "source": [
        "Optuna only needs an objective function to evaluate the performance of hyperparameters and decide where to sample in upcoming trials &mdash; i.e. it is a black box optimizer. \n",
        "\n",
        "An optimization problem in the Optuna API is setup using two basic objects: a `study` and a `trial`. A study is conceptually an optimization based on an objective function, while a trial is a single execution of an objective function. The combination of hyperparameters for each trial is sampled according to some sampling algorithm defined by the study. \n"
      ]
    },
    {
      "cell_type": "markdown",
      "metadata": {
        "id": "zcxcqetcW75q"
      },
      "source": [
        "\n",
        "\n",
        "In the following code example, the search space is constructed within imperative Python code, e.g. inside conditionals or loops. Recall that for `GridSearchCV` and `RandomSearchCV` in scikit-learn, we had to define the entire search space before running the search algorithm."
      ]
    },
    {
      "cell_type": "markdown",
      "metadata": {
        "id": "h-28kC7jW75r"
      },
      "source": [
        "```{tip}\n",
        "Always perform model evaluation on a dataset within a cross-validation framework!\n",
        "```\n"
      ]
    },
    {
      "cell_type": "code",
      "execution_count": null,
      "metadata": {
        "execution": {
          "iopub.execute_input": "2022-01-04T18:34:37.371756Z",
          "iopub.status.busy": "2022-01-04T18:34:37.371520Z",
          "iopub.status.idle": "2022-01-04T18:34:39.476083Z",
          "shell.execute_reply": "2022-01-04T18:34:39.475213Z",
          "shell.execute_reply.started": "2022-01-04T18:34:37.371723Z"
        },
        "id": "bf4ee15c",
        "trusted": true
      },
      "outputs": [],
      "source": [
        "# [1] Define an objective function to be maximized.\n",
        "def objective(trial, X, y):\n",
        "    \n",
        "    # [2] Suggest values for the hyperparameters using trial object.\n",
        "    clf_name = trial.suggest_categorical('classifier', ['SVC', 'RandomForest'])\n",
        "    if clf_name == 'SVC':\n",
        "        svc_c = trial.suggest_loguniform('svc_c', 1e-10, 1e10)\n",
        "        clf = svm.SVC(C=svc_c, gamma='auto')\n",
        "    else:\n",
        "        rf_max_depth = int(trial.suggest_loguniform('rf_max_depth', 2, 32))\n",
        "        clf = ensemble.RandomForestClassifier(max_depth=rf_max_depth, n_estimators=10)\n",
        "\n",
        "    score = model_selection.cross_val_score(clf, X, y, n_jobs=-1, cv=5)\n",
        "    return score.mean()\n",
        "\n",
        "# [3] Create a study object and optimize the objective function.\n",
        "X, y = datasets.load_breast_cancer(return_X_y=True)\n",
        "study = optuna.create_study(direction=\"maximize\")\n",
        "study.optimize(partial(objective, X=X, y=y), n_trials=5)"
      ]
    },
    {
      "cell_type": "markdown",
      "metadata": {
        "id": "404c42af"
      },
      "source": [
        "The `study` object saves the result of evaluating the objective in each `trial` which is essentially some choice of hyperparameters or, more abstractly, a point in the search space. In the above study, the problem of model selection is framed as a hyperparameter optimization problem. Here we choose between SVM and Random Forest."
      ]
    },
    {
      "cell_type": "code",
      "execution_count": null,
      "metadata": {
        "execution": {
          "iopub.execute_input": "2022-01-04T18:34:39.478313Z",
          "iopub.status.busy": "2022-01-04T18:34:39.477907Z",
          "iopub.status.idle": "2022-01-04T18:34:39.511197Z",
          "shell.execute_reply": "2022-01-04T18:34:39.510583Z",
          "shell.execute_reply.started": "2022-01-04T18:34:39.478274Z"
        },
        "id": "9f4d7b8d",
        "trusted": true
      },
      "outputs": [],
      "source": [
        "study.trials_dataframe().head()"
      ]
    },
    {
      "cell_type": "markdown",
      "metadata": {
        "id": "9-r2IZWcW75t"
      },
      "source": [
        "### Fine tuning Random Forest"
      ]
    },
    {
      "cell_type": "markdown",
      "metadata": {
        "id": "kpVt6uMVW75u"
      },
      "source": [
        "Here we focus on tuning a single Random Forest model. Then, plot the accuracy for each pair of hyperparameters."
      ]
    },
    {
      "cell_type": "code",
      "execution_count": null,
      "metadata": {
        "execution": {
          "iopub.execute_input": "2022-01-04T18:34:39.512767Z",
          "iopub.status.busy": "2022-01-04T18:34:39.512293Z",
          "iopub.status.idle": "2022-01-04T18:38:34.703055Z",
          "shell.execute_reply": "2022-01-04T18:38:34.702343Z",
          "shell.execute_reply.started": "2022-01-04T18:34:39.512731Z"
        },
        "id": "SfZyB9CnW75u",
        "trusted": true
      },
      "outputs": [],
      "source": [
        "def objective(trial):\n",
        "    \n",
        "    max_depth = trial.suggest_int('max_depth', 2, 128, log=True)    \n",
        "    max_features = trial.suggest_float('max_features', 0.1, 1.0)    \n",
        "    n_estimators = trial.suggest_int('n_estimators', 100, 800)\n",
        "    \n",
        "    clf = ensemble.RandomForestClassifier(\n",
        "        max_depth=max_depth,\n",
        "        n_estimators=n_estimators,\n",
        "        max_features=max_features,\n",
        "        random_state=42)   \n",
        "    \n",
        "    score = model_selection.cross_val_score(clf, X, y, n_jobs=-1, cv=5)\n",
        "    return score.mean()\n",
        "\n",
        "\n",
        "study = optuna.create_study(direction=\"maximize\")\n",
        "study.optimize(objective, n_trials=30)"
      ]
    },
    {
      "cell_type": "code",
      "execution_count": null,
      "metadata": {
        "execution": {
          "iopub.execute_input": "2022-01-04T18:38:34.705426Z",
          "iopub.status.busy": "2022-01-04T18:38:34.705167Z",
          "iopub.status.idle": "2022-01-04T18:38:34.713521Z",
          "shell.execute_reply": "2022-01-04T18:38:34.712849Z",
          "shell.execute_reply.started": "2022-01-04T18:38:34.705390Z"
        },
        "id": "CHYpCv_FW75v",
        "trusted": true
      },
      "outputs": [],
      "source": [
        "study.best_params"
      ]
    },
    {
      "cell_type": "code",
      "execution_count": null,
      "metadata": {
        "execution": {
          "iopub.execute_input": "2022-01-04T18:38:34.715349Z",
          "iopub.status.busy": "2022-01-04T18:38:34.714915Z",
          "iopub.status.idle": "2022-01-04T18:38:34.721571Z",
          "shell.execute_reply": "2022-01-04T18:38:34.720925Z",
          "shell.execute_reply.started": "2022-01-04T18:38:34.715312Z"
        },
        "id": "Up32z_MJW75v",
        "trusted": true
      },
      "outputs": [],
      "source": [
        "study.best_value"
      ]
    },
    {
      "cell_type": "markdown",
      "metadata": {
        "id": "9tYlsCchW75v"
      },
      "source": [
        "### Sampling algorithms"
      ]
    },
    {
      "cell_type": "code",
      "execution_count": null,
      "metadata": {
        "execution": {
          "iopub.execute_input": "2022-01-04T18:38:34.723644Z",
          "iopub.status.busy": "2022-01-04T18:38:34.723046Z",
          "iopub.status.idle": "2022-01-04T18:38:35.369568Z",
          "shell.execute_reply": "2022-01-04T18:38:35.368872Z",
          "shell.execute_reply.started": "2022-01-04T18:38:34.723589Z"
        },
        "id": "tbKxo7weW75v",
        "trusted": true
      },
      "outputs": [],
      "source": [
        "import matplotlib.pyplot as plt\n",
        "fig, axes = plt.subplots(nrows=1, ncols=3)\n",
        "\n",
        "def plot_results(study, p1, p2, j, cb):\n",
        "    study.trials_dataframe().plot(\n",
        "        kind='scatter', ax=axes[j], x=p1, y=p2,\n",
        "        c='value', s=60, cmap=plt.get_cmap(\"jet\"), \n",
        "        colorbar=cb, label=\"accuracy\", figsize=(16, 4)\n",
        "    )\n",
        "\n",
        "plot_results(study, 'params_max_depth',    'params_n_estimators', j=0, cb=False)\n",
        "plot_results(study, 'params_max_depth',    'params_max_features', j=1, cb=False)\n",
        "plot_results(study, 'params_n_estimators', 'params_max_features', j=2, cb=True);"
      ]
    },
    {
      "cell_type": "markdown",
      "metadata": {
        "id": "2vNH1XmSW75w"
      },
      "source": [
        "**Figure.** TPE in action. Optuna uses  **Tree-structured Parzen Estimater (TPE)** {cite}`bergstra` as the default sampler which is a form of Bayesian optimization. Observe that the hyperparameter space is searched more efficiently than random search with the sampler choosing points closer to previous good results. Samplers are specified when creating a study as follows: \n",
        "\n",
        "```python\n",
        "study = create_study(direction=\"maximize\", sampler=optuna.samplers.TPESampler())\n",
        "```\n",
        "\n",
        "From the [docs](https://optuna.readthedocs.io/en/stable/reference/generated/optuna.samplers.TPESampler.html#optuna.samplers.TPESampler):\n",
        "\n",
        "> On each trial, for each parameter, TPE fits one Gaussian Mixture Model (GMM) `l(x)` to the set of parameter values associated with the best objective values, and another GMM `g(x)` to the remaining parameter values. It chooses the parameter value `x` that maximizes the ratio `l(x)/g(x)`.\n",
        "\n",
        "Thus, TPE samples every hyperparameter **independently** &mdash; no explicit hyperparameter interactions are considered when sampling future trials, although other parameters implicitly affect objective value. Optuna also implements our old friends random and grid search in the following samplers:\n",
        "- `optuna.samplers.GridSampler`\n",
        "- `optuna.samplers.RandomSampler`"
      ]
    },
    {
      "cell_type": "markdown",
      "metadata": {
        "id": "6hEphkM3W75w"
      },
      "source": [
        "Another sampling algorithm implemented in Optuna is **Covariance Matrix Adaptation Evolution Strategy (CMA-ES)** {cite}`hansen2016cma`. This algorithm is designed to tackle ill-conditioned, non-separable problems, i.e. cannot be solved by solving several 1-dimensional problems. CMA-ES is typically implemented along with TPE whenever the former algorithm is not applicable, e.g. for searching dynamically constructed hyperparameters (as CMA-ES requires that parameters are specified statically prior to the optimization) or for searching categorical parameters, as CMA-ES is designed to search real parameters on a continuous domain. TPE+CMA-ES sampling can be implemented as follows:\n",
        "\n",
        "```python\n",
        "sampler = optuna.samplers.CmaEsSampler(\n",
        "    warn_independent_sampling=False,\n",
        "    independent_sampler=optuna.samplers.TPESampler()\n",
        ")\n",
        "```\n",
        "\n",
        "Results from the paper {cite}`akiba2019optuna` show that TPE+CMA-ES works better than counterparts of the same time complexity:"
      ]
    },
    {
      "cell_type": "markdown",
      "metadata": {
        "id": "XOvNX6SKW75x"
      },
      "source": [
        "```{figure} ../img/fig9-optuna.png\n",
        "---\n",
        "width: 35em\n",
        "name: fig9-optuna\n",
        "---\n",
        "```\n",
        "\n",
        "```{figure} ../img/fig10-optuna.png\n",
        "---\n",
        "width: 35em\n",
        "name: fig10-optuna\n",
        "---\n",
        "```\n",
        "\n",
        "```{figure} ../img/optuna-results.png\n",
        "---\n",
        "width: 35em\n",
        "name: optuna-results\n",
        "---\n",
        "```"
      ]
    },
    {
      "cell_type": "markdown",
      "metadata": {
        "id": "QdZwQuP2W75x"
      },
      "source": [
        "### Results visualization"
      ]
    },
    {
      "cell_type": "markdown",
      "metadata": {
        "id": "FNjYDXToW75x"
      },
      "source": [
        "Optuna provides visualization functions in the `optuna.visualization` library [^ref4]. The following plot shows the best objective value found as the trials progress. The increasing trend in accuracy indicates that the TPE sampler is working well, i.e. the search algorithm learns from previous trials.\n",
        "\n",
        "[^ref4]: See [Optuna dashboard](https://github.com/optuna/optuna-dashboard) which displays the same plots that are updated in real-time."
      ]
    },
    {
      "cell_type": "code",
      "execution_count": null,
      "metadata": {
        "execution": {
          "iopub.execute_input": "2022-01-04T18:38:35.370977Z",
          "iopub.status.busy": "2022-01-04T18:38:35.370606Z",
          "iopub.status.idle": "2022-01-04T18:38:35.464397Z",
          "shell.execute_reply": "2022-01-04T18:38:35.463749Z",
          "shell.execute_reply.started": "2022-01-04T18:38:35.370943Z"
        },
        "id": "Ocwn6uCuW75x",
        "trusted": true
      },
      "outputs": [],
      "source": [
        "optuna.visualization.plot_optimization_history(study)"
      ]
    },
    {
      "cell_type": "markdown",
      "metadata": {
        "id": "fzbfc5PdW75y"
      },
      "source": [
        "The **parallel coordinate plot** gives us a feel of how the hyperparameters interact. For instance, `max_features` between 0.5 and 0.55, with `n_estimators` between 200 and 300, and `max_depth` from 100 to 128 generally perform well. These ranges includes the best performing hyperparameters. To isolate subsets of lines, we can use the interactive capabilities of the plots by dragging on each axis to restrict it. The resulting purple bars can be disjoint."
      ]
    },
    {
      "cell_type": "code",
      "execution_count": null,
      "metadata": {
        "execution": {
          "iopub.execute_input": "2022-01-04T18:38:35.465940Z",
          "iopub.status.busy": "2022-01-04T18:38:35.465479Z",
          "iopub.status.idle": "2022-01-04T18:38:35.530681Z",
          "shell.execute_reply": "2022-01-04T18:38:35.530062Z",
          "shell.execute_reply.started": "2022-01-04T18:38:35.465901Z"
        },
        "id": "Z5JDNxwHW75y",
        "trusted": true
      },
      "outputs": [],
      "source": [
        "optuna.visualization.plot_parallel_coordinate(study)"
      ]
    },
    {
      "cell_type": "markdown",
      "metadata": {
        "id": "FiYujyjIW75y"
      },
      "source": [
        "The following **slice plots** show the projections of the sampler's path in the hyperparameter space in each individual dimension, then shifts each point along the vertical axis based on the its objective value. A large spread of dark dots indicate that a large range of values of that hyperparameter is feasible even at later stages. Meanwhile, a small spread means that the sampler focuses on a small part of the search space &mdash; in this case, other hyperparameters implicitly improve the objective. For example, the parameter `max_depth` is explored at a wide range even at later trials. Hence, we think of this feature as important. Indeed, the importance plot below supports this."
      ]
    },
    {
      "cell_type": "code",
      "execution_count": null,
      "metadata": {
        "execution": {
          "iopub.execute_input": "2022-01-04T18:38:35.532343Z",
          "iopub.status.busy": "2022-01-04T18:38:35.531944Z",
          "iopub.status.idle": "2022-01-04T18:38:35.729607Z",
          "shell.execute_reply": "2022-01-04T18:38:35.728932Z",
          "shell.execute_reply.started": "2022-01-04T18:38:35.532308Z"
        },
        "id": "hlNzv-vOW75y",
        "trusted": true
      },
      "outputs": [],
      "source": [
        "optuna.visualization.plot_slice(study, params=['n_estimators', 'max_depth', 'max_features'])"
      ]
    },
    {
      "cell_type": "markdown",
      "metadata": {
        "id": "V3vud7PzW75z"
      },
      "source": [
        "By default, the **hyperparameter importance evaluator** in Optuna is `optuna.importance.FanovaImportanceEvaluator`. This takes as input performance data gathered with different hyperparameter settings of the algorithm, fits a random forest to capture the relationship between hyperparameters and performance, and then applies functional ANOVA to assess how important each of the hyperparameters and each low-order interaction of hyperparameters is to performance {cite}`pmlr-v32-hutter14`. From the [docs](https://optuna.readthedocs.io/en/stable/reference/generated/optuna.importance.FanovaImportanceEvaluator.html):\n",
        "\n",
        "> The performance of fANOVA depends on the prediction performance of the underlying random forest model. In order to obtain high prediction performance, it is necessary to cover a wide range of the hyperparameter search space. It is recommended to use an exploration-oriented sampler such as `RandomSampler`."
      ]
    },
    {
      "cell_type": "code",
      "execution_count": null,
      "metadata": {
        "id": "rTEQLcx1W75z"
      },
      "outputs": [],
      "source": [
        "fig = optuna.visualization.plot_param_importances(study)\n",
        "fig.update_layout(width=600, height=350)\n",
        "fig.show()"
      ]
    },
    {
      "cell_type": "markdown",
      "metadata": {
        "id": "CnqqaWWuW75z"
      },
      "source": [
        "To visualize interactions between any pair of hyperparameters, we can generate **contour plots** where regions of low objective value are darker in color."
      ]
    },
    {
      "cell_type": "code",
      "execution_count": null,
      "metadata": {
        "id": "xojJkxzqW75z"
      },
      "outputs": [],
      "source": [
        "fig = optuna.visualization.plot_contour(study, params=[\"max_depth\", \"max_features\"])\n",
        "fig.update_layout(width=550, height=500)\n",
        "fig.show()"
      ]
    },
    {
      "cell_type": "markdown",
      "metadata": {
        "id": "H8GHHrYLW750"
      },
      "source": [
        "## Neural Architecture Search"
      ]
    },
    {
      "cell_type": "markdown",
      "metadata": {
        "id": "YIxmGSJ9W750"
      },
      "source": [
        "As noted above, we should always perform tuning within a cross-validation framework. However, with neural networks, doing 5-fold CV would require too much computational resources. Instead, we perform tuning on a hold-out validation set and hope for the best. "
      ]
    },
    {
      "cell_type": "code",
      "execution_count": null,
      "metadata": {
        "id": "heCUY7trW750"
      },
      "outputs": [],
      "source": [
        "import torch\n",
        "import torch.nn as nn\n",
        "import torch.optim as optim\n",
        "import torch.nn.functional as F\n",
        "import torchvision.transforms as transforms\n",
        "import torchvision.datasets as datasets\n",
        "from torch.utils.data import Dataset, DataLoader\n",
        "\n",
        "from sklearn import model_selection\n",
        "from sklearn.datasets import fetch_openml\n",
        "\n",
        "from tqdm import tqdm\n",
        "import optuna\n",
        "import numpy as np"
      ]
    },
    {
      "cell_type": "markdown",
      "metadata": {
        "id": "kVdrrcUJW751"
      },
      "source": [
        "Define a simple network."
      ]
    },
    {
      "cell_type": "code",
      "execution_count": null,
      "metadata": {
        "id": "Uq-ESsTeW752"
      },
      "outputs": [],
      "source": [
        "class MLPClassifier(nn.Module):\n",
        "    \"\"\"\n",
        "    Neural network with multiple hidden fully-connected layers with ReLU \n",
        "    activation and dropout.\n",
        "    \"\"\"\n",
        "    \n",
        "    def __init__(self, input_size, num_classes, n_layers, out_features, drop_rate):\n",
        "        super().__init__()\n",
        "        layers = []\n",
        "        in_features = input_size\n",
        "        for i in range(n_layers):\n",
        "\n",
        "            m = nn.Linear(in_features, out_features[i])\n",
        "            nn.init.kaiming_normal_(m.weight)\n",
        "            nn.init.constant_(m.bias, 0)\n",
        "\n",
        "            layers.append(m)\n",
        "            layers.append(nn.ReLU())\n",
        "            layers.append(nn.Dropout(drop_rate))\n",
        "\n",
        "            in_features = out_features[i]\n",
        "\n",
        "        layers.append(nn.Linear(in_features, num_classes))\n",
        "        self.net = nn.Sequential(*layers)\n",
        "\n",
        "    def forward(self, x):\n",
        "        return self.net(x)"
      ]
    },
    {
      "cell_type": "markdown",
      "metadata": {
        "id": "BT4_TsXoW752"
      },
      "source": [
        "We also define a `Dataset` class for MNIST."
      ]
    },
    {
      "cell_type": "code",
      "execution_count": null,
      "metadata": {
        "id": "hT0ppHpiW752"
      },
      "outputs": [],
      "source": [
        "class MNISTDataset(Dataset):\n",
        "    def __init__(self, features, targets, transform=None):\n",
        "        self.features = features\n",
        "        self.targets = targets\n",
        "        self.transform = transform\n",
        "        \n",
        "    def __len__(self):\n",
        "        return self.features.shape[0]\n",
        "    \n",
        "    def __getitem__(self, i):\n",
        "        X = self.features[i, :]\n",
        "        y = self.targets[i]\n",
        "        \n",
        "        if self.transform is not None:\n",
        "            X = self.transform(X)\n",
        "            \n",
        "        return X, y"
      ]
    },
    {
      "cell_type": "markdown",
      "metadata": {
        "id": "Giuh46rBW753"
      },
      "source": [
        "Define a trainer for the neural network model. This will handle all loss and metric evaluation, as well as backpropagation."
      ]
    },
    {
      "cell_type": "code",
      "execution_count": null,
      "metadata": {
        "id": "PvNJooscW753"
      },
      "outputs": [],
      "source": [
        "class Engine:\n",
        "    \"\"\"Facilitate neural network training and evaluation.\"\"\"\n",
        "    \n",
        "    def __init__(self, model, device, optimizer):\n",
        "        self.model = model\n",
        "        self.device = device\n",
        "        self.optimizer = optimizer \n",
        "\n",
        "    @staticmethod\n",
        "    def loss_fn(outputs, targets):\n",
        "        return nn.CrossEntropyLoss()(outputs, targets)\n",
        "        \n",
        "    def train(self, data_loader):\n",
        "        \"\"\"Train model on one epoch. Return train loss.\"\"\"\n",
        "        \n",
        "        self.model.train()\n",
        "        loss = 0\n",
        "\n",
        "        for i, (data, targets) in enumerate(data_loader):\n",
        "            data = data.to(self.device).reshape(data.shape[0], -1).float()\n",
        "            targets = targets.to(self.device).long()\n",
        "            \n",
        "            # Forward pass\n",
        "            outputs = self.model(data)\n",
        "            J = self.loss_fn(outputs, targets)\n",
        "            \n",
        "            # Backward pass\n",
        "            self.optimizer.zero_grad()\n",
        "            J.backward()\n",
        "            self.optimizer.step()\n",
        "\n",
        "            # Cumulative loss\n",
        "            loss += (J.detach().item() - loss) / (i + 1)\n",
        "\n",
        "        return loss\n",
        "\n",
        "\n",
        "    def eval(self, data_loader):\n",
        "        \"\"\"Return validation loss and validation accuracy.\"\"\"\n",
        "        \n",
        "        self.model.eval()\n",
        "        num_correct = 0\n",
        "        num_samples = 0\n",
        "        loss = 0.0\n",
        "        \n",
        "        with torch.no_grad():\n",
        "            for i, (data, targets) in enumerate(data_loader):\n",
        "                data = data.to(self.device).float()\n",
        "                targets = targets.to(self.device)\n",
        "                \n",
        "                # Forward pass\n",
        "                data = data.reshape(data.shape[0], -1)\n",
        "                out = self.model(data)\n",
        "                J = self.loss_fn(out, targets)\n",
        "                _, preds = out.max(dim=1)\n",
        "\n",
        "                # Cumulative metrics\n",
        "                loss += (J.detach().item() - loss) / (i + 1)\n",
        "                num_correct += (preds == targets).sum().item()\n",
        "                num_samples += preds.shape[0]\n",
        "\n",
        "        acc = num_correct / num_samples\n",
        "        return loss, acc"
      ]
    },
    {
      "cell_type": "markdown",
      "metadata": {
        "id": "IAxBzwv8W753"
      },
      "source": [
        "Some config and setup prior to training. For our dataset, we use MNIST which we get from scikit-learn."
      ]
    },
    {
      "cell_type": "code",
      "execution_count": null,
      "metadata": {
        "id": "xpXyhNB4W754"
      },
      "outputs": [],
      "source": [
        "fetch_openml"
      ]
    },
    {
      "cell_type": "code",
      "execution_count": null,
      "metadata": {
        "id": "7zzij2LKW754"
      },
      "outputs": [],
      "source": [
        "# Config\n",
        "RANDOM_STATE = 42\n",
        "DEVICE = 'cuda' if torch.cuda.is_available() else 'cpu'\n",
        "EPOCHS = 100\n",
        "PATIENCE = 5\n",
        "INPUT_SIZE = 784\n",
        "NUM_CLASSES = 10\n",
        "\n",
        "# Fetch data\n",
        "MNIST = fetch_openml(\"mnist_784\")\n",
        "X = MNIST['data'].values.reshape(-1, 28, 28)[:5000]\n",
        "y = MNIST['target'].astype(int)[:5000]\n",
        "\n",
        "# Create folds\n",
        "cv = model_selection.StratifiedKFold(n_splits=5)\n",
        "trn_, val_ = next(iter(cv.split(X=X, y=y)))\n",
        "\n",
        "# Get train and valid data loaders\n",
        "train_dataset = MNISTDataset(X[trn_, :], y[trn_], transform=transforms.ToTensor())\n",
        "valid_dataset = MNISTDataset(X[val_, :], y[val_], transform=transforms.ToTensor())"
      ]
    },
    {
      "cell_type": "markdown",
      "metadata": {
        "id": "J0Q8eHZfW755"
      },
      "source": [
        "### Intermediate values"
      ]
    },
    {
      "cell_type": "markdown",
      "metadata": {
        "id": "k-e-JDfJW755"
      },
      "source": [
        "Finally, we set up the `study` instance and its objective function. Note that the search space is dynamically constructed depending on the number of layers (i.e. an earlier suggestion for a hyperparameter). During training, we perform early stopping on validation loss. If no new minimum val. loss is found after 5 epochs, then the minimum val. loss is returned as the objective [^ref3].\n",
        "\n",
        "Computing intermediate values allow us to **prune** unpromising trials to conserve resources. The default pruner in Optuna is [`optuna.pruners.MedianPruner`](https://optuna.readthedocs.io/en/stable/reference/generated/optuna.pruners.MedianPruner.html) which prunes a trial if its best intermediate result as of the current step (e.g. current best valid loss) is worse than the median of all intermediate results of previous trials at the current step. Hence, the best intermediate result of a pruned trial is less than the best intermediate result of 1/2 of the other trials as of that step. In our case, if the minimum valid loss does not improve too quickly, then the trial is pruned. Of course, the validation loss could descend rapidly at later steps [^ref7], but the median pruner does not bet on this happening.\n",
        "\n",
        "[^ref3]: In practice, we save the best model parameters at this point.\n",
        "[^ref7]: For example, Trial 4 rapidly descends after epoch 37, and was the best trial until Trial 24. Trial 4 would have been pruned if not for `n_startup_trials=5`."
      ]
    },
    {
      "cell_type": "code",
      "execution_count": null,
      "metadata": {
        "id": "4JN8_GojW755"
      },
      "outputs": [],
      "source": [
        "def define_model(trial):\n",
        "  \n",
        "    # Optimize the # of layers, hidden units and dropout ratio in each layer.\n",
        "    drop_rate = trial.suggest_float('dropout_rate', 0.2, 0.5)\n",
        "    n_layers = trial.suggest_int(\"n_layers\", 1, 3)\n",
        "    out_features = []\n",
        "    for i in range(n_layers):\n",
        "        out_features.append(512) # Fixed width\n",
        "\n",
        "    return MLPClassifier(INPUT_SIZE, NUM_CLASSES, n_layers, out_features, drop_rate)\n",
        "\n",
        "\n",
        "def objective(trial):\n",
        "    \n",
        "    # Setup\n",
        "    model = define_model(trial).to(DEVICE)\n",
        "    batch_size = trial.suggest_int('batch_size', 8, 64, log=True)\n",
        "    learning_rate = trial.suggest_loguniform('lr', 1e-5, 1e-1)\n",
        "    weight_decay = trial.suggest_float('weight_decay', 0.0, 0.5)\n",
        "    optimizer = optim.Adam(model.parameters(), lr=learning_rate, weight_decay=weight_decay)\n",
        "    scheduler = optim.lr_scheduler.ReduceLROnPlateau(optimizer, factor=0.1, patience=3)\n",
        "    engine = Engine(model, DEVICE, optimizer)\n",
        "\n",
        "    # Init. dataloaders\n",
        "    train_loader = DataLoader(dataset=train_dataset, batch_size=batch_size, shuffle=True)\n",
        "    valid_loader = DataLoader(dataset=valid_dataset, batch_size=batch_size, shuffle=True)\n",
        "    \n",
        "    # Run training\n",
        "    best_loss = np.inf\n",
        "    patience = PATIENCE\n",
        "    \n",
        "    for epoch in tqdm(range(EPOCHS), total=EPOCHS, leave=False):\n",
        "\n",
        "        # Train and validation step\n",
        "        train_loss = engine.train(train_loader)\n",
        "        valid_loss, valid_acc = engine.eval(valid_loader)\n",
        "\n",
        "        # Reduce learning rate\n",
        "        if scheduler is not None:\n",
        "            scheduler.step(valid_loss)\n",
        "            \n",
        "        # Early stopping\n",
        "        if valid_loss < best_loss:\n",
        "            best_loss = valid_loss\n",
        "            patience = PATIENCE # Reset count\n",
        "        else:\n",
        "            patience -= 1\n",
        "            if patience == 0:\n",
        "                break\n",
        "    \n",
        "        # Pruning unpromising trials\n",
        "        trial.report(valid_loss, step=epoch)\n",
        "        if trial.should_prune():\n",
        "            raise optuna.TrialPruned()\n",
        "\n",
        "    return best_loss"
      ]
    },
    {
      "cell_type": "markdown",
      "metadata": {
        "id": "QxQNm1qbW756"
      },
      "source": [
        "We now create the minimization problem with median pruner. The parameters of the pruner will be explained later."
      ]
    },
    {
      "cell_type": "code",
      "execution_count": null,
      "metadata": {
        "id": "hhRMfCEjW756"
      },
      "outputs": [],
      "source": [
        "# Create and run optimization problem \n",
        "pruner = optuna.pruners.MedianPruner(n_startup_trials=5, n_warmup_steps=7, n_min_trials=3)\n",
        "study = optuna.create_study(direction=\"minimize\", pruner=pruner)\n",
        "study.optimize(objective, n_trials=30)"
      ]
    },
    {
      "cell_type": "code",
      "execution_count": null,
      "metadata": {
        "id": "JvSTulLsW756"
      },
      "outputs": [],
      "source": [
        "from optuna.trial import TrialState\n",
        "\n",
        "pruned_trials = study.get_trials(deepcopy=False, states=[TrialState.PRUNED])\n",
        "complete_trials = study.get_trials(deepcopy=False, states=[TrialState.COMPLETE])\n",
        "\n",
        "print(\"Study statistics: \")\n",
        "print(\"  Number of finished trials:\\t\", len(study.trials))\n",
        "print(\"  Number of pruned trials:\\t\", len(pruned_trials))\n",
        "print(\"  Number of complete trials:\\t\", len(complete_trials))\n",
        "\n",
        "print(\"\\nBest trial:\")\n",
        "trial = study.best_trial\n",
        "\n",
        "print(\"  Value: \", trial.value)\n",
        "print(\"  Params: \")\n",
        "for key, value in trial.params.items():\n",
        "    print(\"    {}: {}\".format(key, value))"
      ]
    },
    {
      "cell_type": "code",
      "execution_count": null,
      "metadata": {
        "id": "HdJj2bb3W756"
      },
      "outputs": [],
      "source": [
        "optuna.visualization.plot_intermediate_values(study)"
      ]
    },
    {
      "cell_type": "markdown",
      "metadata": {
        "id": "OQYyN4GKW756"
      },
      "source": [
        "Trials either early stops (gradient descent loses momentum) or gets pruned (expected to not improve even if gradient descent continues). Pruning starts after `n_startup_trials=5`. This is so that the pruner obtains enough information about the general behavior of the gradient descent optimizer before starting to prune. \n",
        "\n",
        "We set `n_warmup_steps=7` allowing each trial to train the network for 8 epochs (zero-indexed) before pruning, so that the completed trials will not be dominated by networks that descend quickly, but, perhaps, to shallow minimas. For example, shallow networks that possibly overfits the validation set. However, this comes at the price of wasting resources for training 8 epochs for at least half of the number of trials. [[[Still, only 3 out of 36 completed trials have two hidden layers, and no trials with three hidden layers. These results show that networks with one hidden layer performs best at this scale.]]] \n",
        "\n",
        "To encourage deeper networks that train slower, we can increase the scale of training to `n_warmup_steps=50` and `EPOCHS=200`. An alternative approach would be to create a separate study for each fixed depth, to test whether deeper networks perform better.\n",
        "\n",
        "Finally, we set `n_min_trials=3` so that a higher number of trials at later steps can continue until it early stops or reaches max epochs."
      ]
    },
    {
      "cell_type": "markdown",
      "metadata": {
        "id": "RwkIKjHdW756"
      },
      "source": [
        "```{figure} ../img/optuna-valid-loss-zoom.png\n",
        "---\n",
        "name: optuna-valid-loss-zoom\n",
        "---\n",
        "Most trials get pruned after 8 epochs.\n",
        "```"
      ]
    },
    {
      "cell_type": "code",
      "execution_count": null,
      "metadata": {
        "id": "2v-gOwUHW757"
      },
      "outputs": [],
      "source": [
        "optuna.visualization.plot_optimization_history(study)"
      ]
    },
    {
      "cell_type": "markdown",
      "metadata": {
        "id": "ZnqCFnW1W757"
      },
      "source": [
        "### Hyperparameter interactions"
      ]
    },
    {
      "cell_type": "markdown",
      "metadata": {
        "id": "XUbBgjMLW757"
      },
      "source": [
        "We look at which combinations of hyperparameters work well from the parallel coordinate plot. Note that there is something weird going on here. For example, trials with `n_layers=1` has coordinates in axes where they should have no values, e.g. `n_units_l1` and `n_units_l2`. This is a known issue for parallel plots ([#1809](https://github.com/optuna/optuna/issues/1809)). Turns out, trials lines with dynamically constructed parameters with NaNs are skipped by parallel coordinates plotter. Moreover, trials with NaN values are excluded from the parameter importance computation which limits its usefulness. "
      ]
    },
    {
      "cell_type": "code",
      "execution_count": null,
      "metadata": {
        "id": "iL7AaTnfW757"
      },
      "outputs": [],
      "source": [
        "optuna.visualization.plot_parallel_coordinate(study)"
      ]
    },
    {
      "cell_type": "code",
      "execution_count": null,
      "metadata": {
        "id": "ctjigmfvW757"
      },
      "outputs": [],
      "source": [
        "study.trials_dataframe().head()"
      ]
    },
    {
      "cell_type": "code",
      "execution_count": null,
      "metadata": {
        "id": "YTNCy4HDW757"
      },
      "outputs": [],
      "source": [
        "study.trials_dataframe().query(\"state=='COMPLETE'\").params_n_layers.value_counts()"
      ]
    },
    {
      "cell_type": "markdown",
      "metadata": {
        "id": "OC0Lo5s8W757"
      },
      "source": [
        "To get past this issue, we can look at each subset of trials for different values of `n_layers`. The resulting trials have no NaN parameters since the paramaters are sampled after a value for `n_layers` has been suggested."
      ]
    },
    {
      "cell_type": "code",
      "execution_count": null,
      "metadata": {
        "id": "OmclCMfTW757"
      },
      "outputs": [],
      "source": [
        "import warnings\n",
        "warnings.simplefilter(action='ignore', category=FutureWarning)\n",
        "\n",
        "# Isolate a study for each value of n_layers\n",
        "studies = [optuna.create_study() for j in range(3)]\n",
        "for j in range(3):\n",
        "    studies[j].add_trials([t for t in study.trials if t.params['n_layers'] == j+1])\n",
        "    fig = optuna.visualization.plot_parallel_coordinate(studies[j])\n",
        "    fig.show()"
      ]
    },
    {
      "cell_type": "markdown",
      "metadata": {
        "id": "uKWhcIAqW757"
      },
      "source": [
        "Note that for contour plots below, the color bar is inverted. We see that most trials accumulate in regions of low `batch_size`. This is also consistent with the parallel plot. This choice works well with low dropout and learning rates, and weight decay at around 0.1. The contours are not that informative at low values of the objective function. This may be because the objective values are pretty similar as shown in the optimization history plot above."
      ]
    },
    {
      "cell_type": "code",
      "execution_count": null,
      "metadata": {
        "id": "gcnQlISNW758"
      },
      "outputs": [],
      "source": [
        "fig = optuna.visualization.plot_contour(study, params=['batch_size', 'lr', 'n_layers', 'weight_decay', 'dropout_rate'])\n",
        "fig.update_layout(autosize=False, width=1200, height=1200)\n",
        "fig.show()"
      ]
    },
    {
      "cell_type": "markdown",
      "metadata": {
        "id": "XTzz97wZW758"
      },
      "source": [
        "## Appendix: Hyperparameters of commonly used models"
      ]
    },
    {
      "cell_type": "markdown",
      "metadata": {
        "id": "skiji9sqW758"
      },
      "source": [
        "```{figure} ../img/hyp.png\n",
        "---\n",
        "name: hyp\n",
        "---\n",
        "Table from p. 184 of {cite}`AAAMLP`. **RS**$^*$ implies random search should be better.\n",
        "```"
      ]
    },
    {
      "cell_type": "markdown",
      "metadata": {
        "id": "hAwjUyCfW758"
      },
      "source": [
        "### Auto XGBoost\n",
        "\n",
        "The following search space is used to tune XGBoost in the [autoxgb](https://github.com/abhishekkrthakur/autoxgb) package:\n",
        "\n",
        "```python\n",
        "#https://github.com/abhishekkrthakur/autoxgb/blob/main/src/autoxgb/params.py\n",
        "def get_params(trial, model_config):\n",
        "    \n",
        "    params = {\n",
        "        \"learning_rate\": trial.suggest_float(\"learning_rate\", 1e-2, 0.25, log=True),\n",
        "        \"reg_lambda\": trial.suggest_float(\"reg_lambda\", 1e-8, 100.0, log=True),\n",
        "        \"reg_alpha\": trial.suggest_float(\"reg_alpha\", 1e-8, 100.0, log=True),\n",
        "        \"subsample\": trial.suggest_float(\"subsample\", 0.1, 1.0),\n",
        "        \"colsample_bytree\": trial.suggest_float(\"colsample_bytree\", 0.1, 1.0),\n",
        "        \"max_depth\": trial.suggest_int(\"max_depth\", 1, 9),\n",
        "        \"early_stopping_rounds\": trial.suggest_int(\"early_stopping_rounds\", 100, 500),\n",
        "        \"n_estimators\": trial.suggest_categorical(\"n_estimators\", [7000, 15000, 20000]),\n",
        "    }\n",
        "    \n",
        "    if model_config.use_gpu:\n",
        "        params[\"tree_method\"] = \"gpu_hist\"\n",
        "        params[\"gpu_id\"] = 0\n",
        "        params[\"predictor\"] = \"gpu_predictor\"\n",
        "    else:\n",
        "        params[\"tree_method\"] = trial.suggest_categorical(\"tree_method\", [\"exact\", \"approx\", \"hist\"])\n",
        "        params[\"booster\"] = trial.suggest_categorical(\"booster\", [\"gbtree\", \"gblinear\"])\n",
        "        if params[\"booster\"] == \"gbtree\":\n",
        "            params[\"gamma\"] = trial.suggest_float(\"gamma\", 1e-8, 1.0, log=True)\n",
        "            params[\"grow_policy\"] = trial.suggest_categorical(\"grow_policy\", [\"depthwise\", \"lossguide\"])\n",
        "\n",
        "    return params\n",
        "```"
      ]
    },
    {
      "cell_type": "markdown",
      "metadata": {
        "id": "SszMK1q5W758"
      },
      "source": []
    }
  ],
  "metadata": {
    "colab": {
      "collapsed_sections": [
        "9tYlsCchW75v",
        "QdZwQuP2W75x",
        "J0Q8eHZfW755",
        "ZnqCFnW1W757",
        "hAwjUyCfW758"
      ],
      "name": "optuna.ipynb",
      "provenance": []
    },
    "kernelspec": {
      "display_name": "Python 3",
      "language": "python",
      "name": "python3"
    },
    "language_info": {
      "codemirror_mode": {
        "name": "ipython",
        "version": 3
      },
      "file_extension": ".py",
      "mimetype": "text/x-python",
      "name": "python",
      "nbconvert_exporter": "python",
      "pygments_lexer": "ipython3",
      "version": "3.7.12"
    }
  },
  "nbformat": 4,
  "nbformat_minor": 0
}
