{
  "cells": [
    {
      "cell_type": "markdown",
      "id": "f85a35b3",
      "metadata": {
        "id": "f85a35b3",
        "papermill": {
          "duration": 0.044048,
          "end_time": "2022-01-09T16:43:21.888188",
          "exception": false,
          "start_time": "2022-01-09T16:43:21.844140",
          "status": "completed"
        },
        "tags": []
      },
      "source": [
        "# Hyperparameter Tuning with Optuna"
      ]
    },
    {
      "cell_type": "markdown",
      "id": "0d648149",
      "metadata": {
        "id": "0d648149",
        "papermill": {
          "duration": 0.039141,
          "end_time": "2022-01-09T16:43:22.102868",
          "exception": false,
          "start_time": "2022-01-09T16:43:22.063727",
          "status": "completed"
        },
        "tags": []
      },
      "source": [
        "Hyperparameters are **non-learnable parameters** of a model that determine its architecture. The correct choice of hyperparameters could mean the difference between convergence to or divergence from a solution. In this notebook, we explore an open-source library that provides a framework for solving this task. From its docs:"
      ]
    },
    {
      "cell_type": "markdown",
      "id": "f6de7f6b",
      "metadata": {
        "id": "f6de7f6b",
        "papermill": {
          "duration": 0.063076,
          "end_time": "2022-01-09T16:43:22.217831",
          "exception": false,
          "start_time": "2022-01-09T16:43:22.154755",
          "status": "completed"
        },
        "tags": []
      },
      "source": [
        "> **Optuna** is an automatic hyperparameter optimization software framework, particularly designed for machine learning. It features an imperative, *define-by-run* style user API. Thanks to our *define-by-run* API, the code written with Optuna enjoys high modularity, and the user of Optuna can dynamically construct the search spaces for the hyperparameters.\n",
        "\n",
        "\n",
        "- [Optuna FAQ](https://optuna.readthedocs.io/en/stable/faq.html)\n",
        "- [Optuna docs](https://optuna.readthedocs.io/en/stable/index.html#)\n",
        "- [Optuna paper](https://arxiv.org/abs/1907.10902)"
      ]
    },
    {
      "cell_type": "markdown",
      "id": "cdd96b4c",
      "metadata": {},
      "source": [
        "<br>"
      ]
    },
    {
      "cell_type": "code",
      "execution_count": 1,
      "id": "4818cfc8",
      "metadata": {
        "id": "4818cfc8"
      },
      "outputs": [],
      "source": [
        "# Experiment config\n",
        "RF_NTRIALS = 60\n",
        "VGG_NTRIALS = 40\n",
        "CIFAR10_SAMPLE_RATIO = 0.5\n",
        "CIFAR10_RESIZE = 32"
      ]
    },
    {
      "cell_type": "markdown",
      "id": "9bd501fd",
      "metadata": {
        "id": "9bd501fd",
        "papermill": {
          "duration": 0.042145,
          "end_time": "2022-01-09T16:43:22.303245",
          "exception": false,
          "start_time": "2022-01-09T16:43:22.261100",
          "status": "completed"
        },
        "tags": []
      },
      "source": [
        "## Basics with scikit-learn"
      ]
    },
    {
      "cell_type": "markdown",
      "id": "e141ee88",
      "metadata": {
        "id": "e141ee88",
        "papermill": {
          "duration": 0.044565,
          "end_time": "2022-01-09T16:43:22.414665",
          "exception": false,
          "start_time": "2022-01-09T16:43:22.370100",
          "status": "completed"
        },
        "tags": []
      },
      "source": [
        "Optuna is a black-box optimizer, which means it only needs an objective function (any function that returns a numerical value) to evaluate the performance of the its parameters, and decide where to sample in upcoming trials. An optimization problem is framed in the Optuna API using two basic concepts: `study` and `trial`. \n",
        "\n",
        "A study is conceptually an optimization based on an objective function, while a trial is a single execution of an objective function. The combination of hyperparameters for each trial is sampled according to some sampling algorithm defined by the study. \n",
        "\n",
        "In the following code example, the search space is constructed within imperative Python code, e.g. inside conditionals or loops. On the other hand, recall that for `GridSearchCV` and `RandomSearchCV` in scikit-learn, we had to define the entire search space before running the search algorithm."
      ]
    },
    {
      "cell_type": "code",
      "execution_count": null,
      "id": "b519de3f",
      "metadata": {
        "execution": {
          "iopub.execute_input": "2022-01-09T16:43:22.580217Z",
          "iopub.status.busy": "2022-01-09T16:43:22.579467Z",
          "iopub.status.idle": "2022-01-09T16:43:26.438526Z",
          "shell.execute_reply": "2022-01-09T16:43:26.439117Z",
          "shell.execute_reply.started": "2022-01-08T17:25:18.428940Z"
        },
        "id": "b519de3f",
        "outputId": "752c9e7d-36e7-49b3-b86a-e2983093a076",
        "papermill": {
          "duration": 3.906901,
          "end_time": "2022-01-09T16:43:26.439309",
          "exception": false,
          "start_time": "2022-01-09T16:43:22.532408",
          "status": "completed"
        },
        "tags": []
      },
      "outputs": [
        {
          "name": "stderr",
          "output_type": "stream",
          "text": [
            "\u001b[32m[I 2022-01-11 02:08:57,950]\u001b[0m A new study created in memory with name: no-name-f6a58395-2e37-4f1c-8a49-d2b3b5f548f9\u001b[0m\n",
            "\u001b[32m[I 2022-01-11 02:08:59,460]\u001b[0m Trial 0 finished with value: 0.9490607048594939 and parameters: {'classifier': 'RandomForest', 'rf_max_depth': 4.954837326281144}. Best is trial 0 with value: 0.9490607048594939.\u001b[0m\n",
            "\u001b[32m[I 2022-01-11 02:08:59,800]\u001b[0m Trial 1 finished with value: 0.6274181027790716 and parameters: {'classifier': 'SVC', 'svc_c': 25487574.296905443}. Best is trial 0 with value: 0.9490607048594939.\u001b[0m\n",
            "\u001b[32m[I 2022-01-11 02:09:00,116]\u001b[0m Trial 2 finished with value: 0.947290793355069 and parameters: {'classifier': 'RandomForest', 'rf_max_depth': 9.635509903646332}. Best is trial 0 with value: 0.9490607048594939.\u001b[0m\n",
            "\u001b[32m[I 2022-01-11 02:09:00,158]\u001b[0m Trial 3 finished with value: 0.6274181027790716 and parameters: {'classifier': 'SVC', 'svc_c': 55.036924725442034}. Best is trial 0 with value: 0.9490607048594939.\u001b[0m\n",
            "\u001b[32m[I 2022-01-11 02:09:00,181]\u001b[0m Trial 4 finished with value: 0.6274181027790716 and parameters: {'classifier': 'SVC', 'svc_c': 1.509799783930135e-06}. Best is trial 0 with value: 0.9490607048594939.\u001b[0m\n"
          ]
        }
      ],
      "source": [
        "import optuna\n",
        "import pandas as pd\n",
        "from sklearn import ensemble, svm\n",
        "from sklearn import datasets\n",
        "from sklearn import model_selection\n",
        "from functools import partial\n",
        "import joblib\n",
        "\n",
        "\n",
        "# (1) Define an objective function to be maximized.\n",
        "def objective(trial, X, y):\n",
        "    \n",
        "    # (2) Suggest values for the hyperparameters using trial object.\n",
        "    clf_name = trial.suggest_categorical('classifier', ['SVC', 'RandomForest'])\n",
        "    if clf_name == 'SVC':\n",
        "        svc_c = trial.suggest_loguniform('svc_c', 1e-10, 1e10)\n",
        "        clf = svm.SVC(C=svc_c, gamma='auto')\n",
        "    else:\n",
        "        rf_max_depth = int(trial.suggest_loguniform('rf_max_depth', 2, 32))\n",
        "        clf = ensemble.RandomForestClassifier(max_depth=rf_max_depth, n_estimators=10)\n",
        "\n",
        "    # Always cross-validate!\n",
        "    score = model_selection.cross_val_score(clf, X, y, n_jobs=-1, cv=5)\n",
        "    return score.mean()\n",
        "\n",
        "# (3) Create a study object and optimize the objective function.\n",
        "X, y = datasets.load_breast_cancer(return_X_y=True)\n",
        "study = optuna.create_study(direction=\"maximize\")\n",
        "study.optimize(partial(objective, X=X, y=y), n_trials=5)"
      ]
    },
    {
      "cell_type": "markdown",
      "id": "1982f324",
      "metadata": {
        "id": "1982f324",
        "papermill": {
          "duration": 0.040369,
          "end_time": "2022-01-09T16:43:26.522023",
          "exception": false,
          "start_time": "2022-01-09T16:43:26.481654",
          "status": "completed"
        },
        "tags": []
      },
      "source": [
        "The `study` object saves the result of evaluating the objective each trial &mdash; which is essentially some choice of hyperparameters to evaluate. In the above study, the problem of model selection is framed as a hyperparameter optimization problem. Here we choose between an SVM-based algorithm or Random Forest."
      ]
    },
    {
      "cell_type": "code",
      "execution_count": null,
      "id": "7be7968f",
      "metadata": {
        "execution": {
          "iopub.execute_input": "2022-01-09T16:43:26.621763Z",
          "iopub.status.busy": "2022-01-09T16:43:26.621028Z",
          "iopub.status.idle": "2022-01-09T16:43:26.638646Z",
          "shell.execute_reply": "2022-01-09T16:43:26.638147Z",
          "shell.execute_reply.started": "2022-01-08T17:25:21.165995Z"
        },
        "id": "7be7968f",
        "outputId": "bdca7478-d429-431f-fbe0-2963d500e735",
        "papermill": {
          "duration": 0.076213,
          "end_time": "2022-01-09T16:43:26.638761",
          "exception": false,
          "start_time": "2022-01-09T16:43:26.562548",
          "status": "completed"
        },
        "tags": []
      },
      "outputs": [
        {
          "data": {
            "text/html": [
              "<div>\n",
              "<style scoped>\n",
              "    .dataframe tbody tr th:only-of-type {\n",
              "        vertical-align: middle;\n",
              "    }\n",
              "\n",
              "    .dataframe tbody tr th {\n",
              "        vertical-align: top;\n",
              "    }\n",
              "\n",
              "    .dataframe thead th {\n",
              "        text-align: right;\n",
              "    }\n",
              "</style>\n",
              "<table border=\"1\" class=\"dataframe\">\n",
              "  <thead>\n",
              "    <tr style=\"text-align: right;\">\n",
              "      <th></th>\n",
              "      <th>number</th>\n",
              "      <th>value</th>\n",
              "      <th>datetime_start</th>\n",
              "      <th>datetime_complete</th>\n",
              "      <th>duration</th>\n",
              "      <th>params_classifier</th>\n",
              "      <th>params_rf_max_depth</th>\n",
              "      <th>params_svc_c</th>\n",
              "      <th>state</th>\n",
              "    </tr>\n",
              "  </thead>\n",
              "  <tbody>\n",
              "    <tr>\n",
              "      <th>0</th>\n",
              "      <td>0</td>\n",
              "      <td>0.949061</td>\n",
              "      <td>2022-01-09 16:43:23.966991</td>\n",
              "      <td>2022-01-09 16:43:26.066287</td>\n",
              "      <td>0 days 00:00:02.099296</td>\n",
              "      <td>RandomForest</td>\n",
              "      <td>17.073087</td>\n",
              "      <td>NaN</td>\n",
              "      <td>COMPLETE</td>\n",
              "    </tr>\n",
              "    <tr>\n",
              "      <th>1</th>\n",
              "      <td>1</td>\n",
              "      <td>0.954293</td>\n",
              "      <td>2022-01-09 16:43:26.068106</td>\n",
              "      <td>2022-01-09 16:43:26.171510</td>\n",
              "      <td>0 days 00:00:00.103404</td>\n",
              "      <td>RandomForest</td>\n",
              "      <td>13.974140</td>\n",
              "      <td>NaN</td>\n",
              "      <td>COMPLETE</td>\n",
              "    </tr>\n",
              "    <tr>\n",
              "      <th>2</th>\n",
              "      <td>2</td>\n",
              "      <td>0.627418</td>\n",
              "      <td>2022-01-09 16:43:26.172781</td>\n",
              "      <td>2022-01-09 16:43:26.250413</td>\n",
              "      <td>0 days 00:00:00.077632</td>\n",
              "      <td>SVC</td>\n",
              "      <td>NaN</td>\n",
              "      <td>181956.840415</td>\n",
              "      <td>COMPLETE</td>\n",
              "    </tr>\n",
              "    <tr>\n",
              "      <th>3</th>\n",
              "      <td>3</td>\n",
              "      <td>0.627418</td>\n",
              "      <td>2022-01-09 16:43:26.251880</td>\n",
              "      <td>2022-01-09 16:43:26.329750</td>\n",
              "      <td>0 days 00:00:00.077870</td>\n",
              "      <td>SVC</td>\n",
              "      <td>NaN</td>\n",
              "      <td>864898.418437</td>\n",
              "      <td>COMPLETE</td>\n",
              "    </tr>\n",
              "    <tr>\n",
              "      <th>4</th>\n",
              "      <td>4</td>\n",
              "      <td>0.961357</td>\n",
              "      <td>2022-01-09 16:43:26.331104</td>\n",
              "      <td>2022-01-09 16:43:26.432237</td>\n",
              "      <td>0 days 00:00:00.101133</td>\n",
              "      <td>RandomForest</td>\n",
              "      <td>9.727522</td>\n",
              "      <td>NaN</td>\n",
              "      <td>COMPLETE</td>\n",
              "    </tr>\n",
              "  </tbody>\n",
              "</table>\n",
              "</div>"
            ],
            "text/plain": [
              "   number     value             datetime_start          datetime_complete  \\\n",
              "0       0  0.949061 2022-01-09 16:43:23.966991 2022-01-09 16:43:26.066287   \n",
              "1       1  0.954293 2022-01-09 16:43:26.068106 2022-01-09 16:43:26.171510   \n",
              "2       2  0.627418 2022-01-09 16:43:26.172781 2022-01-09 16:43:26.250413   \n",
              "3       3  0.627418 2022-01-09 16:43:26.251880 2022-01-09 16:43:26.329750   \n",
              "4       4  0.961357 2022-01-09 16:43:26.331104 2022-01-09 16:43:26.432237   \n",
              "\n",
              "                duration params_classifier  params_rf_max_depth  \\\n",
              "0 0 days 00:00:02.099296      RandomForest            17.073087   \n",
              "1 0 days 00:00:00.103404      RandomForest            13.974140   \n",
              "2 0 days 00:00:00.077632               SVC                  NaN   \n",
              "3 0 days 00:00:00.077870               SVC                  NaN   \n",
              "4 0 days 00:00:00.101133      RandomForest             9.727522   \n",
              "\n",
              "    params_svc_c     state  \n",
              "0            NaN  COMPLETE  \n",
              "1            NaN  COMPLETE  \n",
              "2  181956.840415  COMPLETE  \n",
              "3  864898.418437  COMPLETE  \n",
              "4            NaN  COMPLETE  "
            ]
          },
          "execution_count": 3,
          "metadata": {},
          "output_type": "execute_result"
        }
      ],
      "source": [
        "study.trials_dataframe().head()"
      ]
    },
    {
      "cell_type": "markdown",
      "id": "b2e11ba7",
      "metadata": {
        "id": "b2e11ba7",
        "papermill": {
          "duration": 0.040791,
          "end_time": "2022-01-09T16:43:26.720595",
          "exception": false,
          "start_time": "2022-01-09T16:43:26.679804",
          "status": "completed"
        },
        "tags": []
      },
      "source": [
        "### Fine tuning Random Forest"
      ]
    },
    {
      "cell_type": "markdown",
      "id": "9e149a3e",
      "metadata": {
        "id": "9e149a3e",
        "papermill": {
          "duration": 0.040791,
          "end_time": "2022-01-09T16:43:26.802429",
          "exception": false,
          "start_time": "2022-01-09T16:43:26.761638",
          "status": "completed"
        },
        "tags": []
      },
      "source": [
        "Here we focus on tuning a single Random Forest model. Then, plot the accuracy for each pair of hyperparameters."
      ]
    },
    {
      "cell_type": "code",
      "execution_count": null,
      "id": "0ea050cb",
      "metadata": {
        "execution": {
          "iopub.execute_input": "2022-01-09T16:43:26.895817Z",
          "iopub.status.busy": "2022-01-09T16:43:26.895133Z",
          "iopub.status.idle": "2022-01-09T16:47:33.855962Z",
          "shell.execute_reply": "2022-01-09T16:47:33.856393Z",
          "shell.execute_reply.started": "2022-01-08T17:25:21.194327Z"
        },
        "id": "0ea050cb",
        "outputId": "6f8a7e09-4d08-48ba-be23-0242d11538cf",
        "papermill": {
          "duration": 247.012839,
          "end_time": "2022-01-09T16:47:33.856568",
          "exception": false,
          "start_time": "2022-01-09T16:43:26.843729",
          "status": "completed"
        },
        "tags": []
      },
      "outputs": [
        {
          "name": "stderr",
          "output_type": "stream",
          "text": [
            "\u001b[32m[I 2022-01-09 16:43:26,890]\u001b[0m A new study created in memory with name: no-name-115a68d2-ab3d-4fb7-863e-40264b640ac5\u001b[0m\n",
            "\u001b[32m[I 2022-01-09 16:43:31,170]\u001b[0m Trial 0 finished with value: 0.9666356155876418 and parameters: {'max_depth': 70, 'max_features': 0.4553140329238048, 'n_estimators': 353, 'criterion': 'entropy'}. Best is trial 0 with value: 0.9666356155876418.\u001b[0m\n",
            "\u001b[32m[I 2022-01-09 16:43:33,757]\u001b[0m Trial 1 finished with value: 0.9490607048594939 and parameters: {'max_depth': 2, 'max_features': 0.8793554962469481, 'n_estimators': 217, 'criterion': 'gini'}. Best is trial 0 with value: 0.9666356155876418.\u001b[0m\n",
            "\u001b[32m[I 2022-01-09 16:43:46,501]\u001b[0m Trial 2 finished with value: 0.9648657040832169 and parameters: {'max_depth': 112, 'max_features': 0.8957261207990624, 'n_estimators': 679, 'criterion': 'entropy'}. Best is trial 0 with value: 0.9666356155876418.\u001b[0m\n",
            "\u001b[32m[I 2022-01-09 16:43:51,862]\u001b[0m Trial 3 finished with value: 0.95960254618848 and parameters: {'max_depth': 52, 'max_features': 0.131096167102392, 'n_estimators': 688, 'criterion': 'gini'}. Best is trial 0 with value: 0.9666356155876418.\u001b[0m\n",
            "\u001b[32m[I 2022-01-09 16:43:52,930]\u001b[0m Trial 4 finished with value: 0.9543393882937432 and parameters: {'max_depth': 89, 'max_features': 0.19757680095203894, 'n_estimators': 123, 'criterion': 'gini'}. Best is trial 0 with value: 0.9666356155876418.\u001b[0m\n",
            "\u001b[32m[I 2022-01-09 16:44:04,891]\u001b[0m Trial 5 finished with value: 0.9596180717279925 and parameters: {'max_depth': 43, 'max_features': 0.745646516579023, 'n_estimators': 799, 'criterion': 'gini'}. Best is trial 0 with value: 0.9666356155876418.\u001b[0m\n",
            "\u001b[32m[I 2022-01-09 16:44:05,977]\u001b[0m Trial 6 finished with value: 0.9455364073901567 and parameters: {'max_depth': 2, 'max_features': 0.4305160160128184, 'n_estimators': 120, 'criterion': 'gini'}. Best is trial 0 with value: 0.9666356155876418.\u001b[0m\n",
            "\u001b[32m[I 2022-01-09 16:44:10,074]\u001b[0m Trial 7 finished with value: 0.9525694767893184 and parameters: {'max_depth': 2, 'max_features': 0.5896358956701836, 'n_estimators': 395, 'criterion': 'gini'}. Best is trial 0 with value: 0.9666356155876418.\u001b[0m\n",
            "\u001b[32m[I 2022-01-09 16:44:11,713]\u001b[0m Trial 8 finished with value: 0.9648657040832168 and parameters: {'max_depth': 8, 'max_features': 0.2725360621622547, 'n_estimators': 107, 'criterion': 'entropy'}. Best is trial 0 with value: 0.9666356155876418.\u001b[0m\n",
            "\u001b[32m[I 2022-01-09 16:44:13,789]\u001b[0m Trial 9 finished with value: 0.9631268436578171 and parameters: {'max_depth': 17, 'max_features': 0.42336296524868955, 'n_estimators': 186, 'criterion': 'gini'}. Best is trial 0 with value: 0.9666356155876418.\u001b[0m\n",
            "\u001b[32m[I 2022-01-09 16:44:19,421]\u001b[0m Trial 10 finished with value: 0.9683900015525542 and parameters: {'max_depth': 17, 'max_features': 0.6271061861322312, 'n_estimators': 390, 'criterion': 'entropy'}. Best is trial 10 with value: 0.9683900015525542.\u001b[0m\n",
            "\u001b[32m[I 2022-01-09 16:44:24,714]\u001b[0m Trial 11 finished with value: 0.9666200900481291 and parameters: {'max_depth': 15, 'max_features': 0.5822621323950136, 'n_estimators': 383, 'criterion': 'entropy'}. Best is trial 10 with value: 0.9683900015525542.\u001b[0m\n",
            "\u001b[32m[I 2022-01-09 16:44:30,752]\u001b[0m Trial 12 finished with value: 0.9631113181183046 and parameters: {'max_depth': 7, 'max_features': 0.6914246020496978, 'n_estimators': 394, 'criterion': 'entropy'}. Best is trial 10 with value: 0.9683900015525542.\u001b[0m\n",
            "\u001b[32m[I 2022-01-09 16:44:34,208]\u001b[0m Trial 13 finished with value: 0.9666356155876418 and parameters: {'max_depth': 31, 'max_features': 0.4008483203477205, 'n_estimators': 295, 'criterion': 'entropy'}. Best is trial 10 with value: 0.9683900015525542.\u001b[0m\n",
            "\u001b[32m[I 2022-01-09 16:44:42,058]\u001b[0m Trial 14 finished with value: 0.9648657040832169 and parameters: {'max_depth': 5, 'max_features': 0.697074880558194, 'n_estimators': 515, 'criterion': 'entropy'}. Best is trial 10 with value: 0.9683900015525542.\u001b[0m\n",
            "\u001b[32m[I 2022-01-09 16:44:46,095]\u001b[0m Trial 15 finished with value: 0.968390001552554 and parameters: {'max_depth': 25, 'max_features': 0.4911415937971424, 'n_estimators': 266, 'criterion': 'entropy'}. Best is trial 10 with value: 0.9683900015525542.\u001b[0m\n",
            "\u001b[32m[I 2022-01-09 16:44:48,194]\u001b[0m Trial 16 finished with value: 0.9666200900481291 and parameters: {'max_depth': 23, 'max_features': 0.29947419424183597, 'n_estimators': 207, 'criterion': 'entropy'}. Best is trial 10 with value: 0.9683900015525542.\u001b[0m\n",
            "\u001b[32m[I 2022-01-09 16:44:51,542]\u001b[0m Trial 17 finished with value: 0.9648812296227295 and parameters: {'max_depth': 9, 'max_features': 0.5232400508998625, 'n_estimators': 259, 'criterion': 'entropy'}. Best is trial 10 with value: 0.9683900015525542.\u001b[0m\n",
            "\u001b[32m[I 2022-01-09 16:44:54,420]\u001b[0m Trial 18 finished with value: 0.9666356155876418 and parameters: {'max_depth': 4, 'max_features': 0.7925469586846491, 'n_estimators': 158, 'criterion': 'entropy'}. Best is trial 10 with value: 0.9683900015525542.\u001b[0m\n",
            "\u001b[32m[I 2022-01-09 16:45:03,962]\u001b[0m Trial 19 finished with value: 0.9648657040832168 and parameters: {'max_depth': 26, 'max_features': 0.9916274673184882, 'n_estimators': 504, 'criterion': 'entropy'}. Best is trial 10 with value: 0.9683900015525542.\u001b[0m\n",
            "\u001b[32m[I 2022-01-09 16:45:08,247]\u001b[0m Trial 20 finished with value: 0.9683900015525542 and parameters: {'max_depth': 11, 'max_features': 0.6494072971899049, 'n_estimators': 282, 'criterion': 'entropy'}. Best is trial 10 with value: 0.9683900015525542.\u001b[0m\n",
            "\u001b[32m[I 2022-01-09 16:45:12,318]\u001b[0m Trial 21 finished with value: 0.9648657040832169 and parameters: {'max_depth': 12, 'max_features': 0.6177131689895455, 'n_estimators': 281, 'criterion': 'entropy'}. Best is trial 10 with value: 0.9683900015525542.\u001b[0m\n",
            "\u001b[32m[I 2022-01-09 16:45:17,211]\u001b[0m Trial 22 finished with value: 0.9666356155876418 and parameters: {'max_depth': 18, 'max_features': 0.5182258148253241, 'n_estimators': 307, 'criterion': 'entropy'}. Best is trial 10 with value: 0.9683900015525542.\u001b[0m\n",
            "\u001b[32m[I 2022-01-09 16:45:24,171]\u001b[0m Trial 23 finished with value: 0.9666356155876418 and parameters: {'max_depth': 37, 'max_features': 0.6435668892225698, 'n_estimators': 483, 'criterion': 'entropy'}. Best is trial 10 with value: 0.9683900015525542.\u001b[0m\n",
            "\u001b[32m[I 2022-01-09 16:45:27,362]\u001b[0m Trial 24 finished with value: 0.9683744760130415 and parameters: {'max_depth': 11, 'max_features': 0.35658896664659767, 'n_estimators': 262, 'criterion': 'entropy'}. Best is trial 10 with value: 0.9683900015525542.\u001b[0m\n",
            "\u001b[32m[I 2022-01-09 16:45:30,324]\u001b[0m Trial 25 finished with value: 0.9631268436578171 and parameters: {'max_depth': 4, 'max_features': 0.5129171273311892, 'n_estimators': 233, 'criterion': 'entropy'}. Best is trial 10 with value: 0.9683900015525542.\u001b[0m\n",
            "\u001b[32m[I 2022-01-09 16:45:32,922]\u001b[0m Trial 26 finished with value: 0.968390001552554 and parameters: {'max_depth': 23, 'max_features': 0.778630164750195, 'n_estimators': 161, 'criterion': 'entropy'}. Best is trial 10 with value: 0.9683900015525542.\u001b[0m\n",
            "\u001b[32m[I 2022-01-09 16:45:35,628]\u001b[0m Trial 27 finished with value: 0.9648657040832169 and parameters: {'max_depth': 6, 'max_features': 0.8630561237098009, 'n_estimators': 160, 'criterion': 'entropy'}. Best is trial 10 with value: 0.9683900015525542.\u001b[0m\n",
            "\u001b[32m[I 2022-01-09 16:45:40,807]\u001b[0m Trial 28 finished with value: 0.9613569321533924 and parameters: {'max_depth': 60, 'max_features': 0.6694356886834675, 'n_estimators': 329, 'criterion': 'entropy'}. Best is trial 10 with value: 0.9683900015525542.\u001b[0m\n",
            "\u001b[32m[I 2022-01-09 16:45:43,343]\u001b[0m Trial 29 finished with value: 0.968390001552554 and parameters: {'max_depth': 12, 'max_features': 0.7888952063202767, 'n_estimators': 156, 'criterion': 'entropy'}. Best is trial 10 with value: 0.9683900015525542.\u001b[0m\n",
            "\u001b[32m[I 2022-01-09 16:45:51,958]\u001b[0m Trial 30 finished with value: 0.9666200900481291 and parameters: {'max_depth': 10, 'max_features': 0.8231032780230729, 'n_estimators': 466, 'criterion': 'entropy'}. Best is trial 10 with value: 0.9683900015525542.\u001b[0m\n",
            "\u001b[32m[I 2022-01-09 16:45:57,365]\u001b[0m Trial 31 finished with value: 0.9631113181183046 and parameters: {'max_depth': 24, 'max_features': 0.7211108291204642, 'n_estimators': 347, 'criterion': 'entropy'}. Best is trial 10 with value: 0.9683900015525542.\u001b[0m\n",
            "\u001b[32m[I 2022-01-09 16:45:59,919]\u001b[0m Trial 32 finished with value: 0.9648812296227295 and parameters: {'max_depth': 14, 'max_features': 0.46511497343641706, 'n_estimators': 185, 'criterion': 'entropy'}. Best is trial 10 with value: 0.9683900015525542.\u001b[0m\n",
            "\u001b[32m[I 2022-01-09 16:46:02,532]\u001b[0m Trial 33 finished with value: 0.9631113181183046 and parameters: {'max_depth': 20, 'max_features': 0.964559544639612, 'n_estimators': 144, 'criterion': 'entropy'}. Best is trial 10 with value: 0.9683900015525542.\u001b[0m\n",
            "\u001b[32m[I 2022-01-09 16:46:04,800]\u001b[0m Trial 34 finished with value: 0.968390001552554 and parameters: {'max_depth': 38, 'max_features': 0.7857210353437216, 'n_estimators': 139, 'criterion': 'entropy'}. Best is trial 10 with value: 0.9683900015525542.\u001b[0m\n",
            "\u001b[32m[I 2022-01-09 16:46:07,063]\u001b[0m Trial 35 finished with value: 0.9648657040832169 and parameters: {'max_depth': 75, 'max_features': 0.895797389597036, 'n_estimators': 130, 'criterion': 'entropy'}. Best is trial 10 with value: 0.9683900015525542.\u001b[0m\n",
            "\u001b[32m[I 2022-01-09 16:46:09,979]\u001b[0m Trial 36 finished with value: 0.9561248253376805 and parameters: {'max_depth': 13, 'max_features': 0.7649210639345877, 'n_estimators': 181, 'criterion': 'gini'}. Best is trial 10 with value: 0.9683900015525542.\u001b[0m\n",
            "\u001b[32m[I 2022-01-09 16:46:20,083]\u001b[0m Trial 37 finished with value: 0.9648657040832169 and parameters: {'max_depth': 44, 'max_features': 0.8414076312474784, 'n_estimators': 586, 'criterion': 'entropy'}. Best is trial 10 with value: 0.9683900015525542.\u001b[0m\n",
            "\u001b[32m[I 2022-01-09 16:46:22,673]\u001b[0m Trial 38 finished with value: 0.959633597267505 and parameters: {'max_depth': 31, 'max_features': 0.9157629156491569, 'n_estimators': 112, 'criterion': 'gini'}. Best is trial 10 with value: 0.9683900015525542.\u001b[0m\n",
            "\u001b[32m[I 2022-01-09 16:46:25,901]\u001b[0m Trial 39 finished with value: 0.9631113181183046 and parameters: {'max_depth': 90, 'max_features': 0.5920529250625748, 'n_estimators': 234, 'criterion': 'entropy'}. Best is trial 10 with value: 0.9683900015525542.\u001b[0m\n",
            "\u001b[32m[I 2022-01-09 16:46:28,403]\u001b[0m Trial 40 finished with value: 0.9578636857630801 and parameters: {'max_depth': 50, 'max_features': 0.4783828410020865, 'n_estimators': 210, 'criterion': 'gini'}. Best is trial 10 with value: 0.9683900015525542.\u001b[0m\n",
            "\u001b[32m[I 2022-01-09 16:46:30,639]\u001b[0m Trial 41 finished with value: 0.9666200900481293 and parameters: {'max_depth': 35, 'max_features': 0.7619950855295334, 'n_estimators': 140, 'criterion': 'entropy'}. Best is trial 10 with value: 0.9683900015525542.\u001b[0m\n",
            "\u001b[32m[I 2022-01-09 16:46:33,715]\u001b[0m Trial 42 finished with value: 0.9648657040832169 and parameters: {'max_depth': 18, 'max_features': 0.8225784733771202, 'n_estimators': 165, 'criterion': 'entropy'}. Best is trial 10 with value: 0.9683900015525542.\u001b[0m\n",
            "\u001b[32m[I 2022-01-09 16:46:39,850]\u001b[0m Trial 43 finished with value: 0.9648657040832169 and parameters: {'max_depth': 8, 'max_features': 0.6383086887951374, 'n_estimators': 424, 'criterion': 'entropy'}. Best is trial 10 with value: 0.9683900015525542.\u001b[0m\n",
            "\u001b[32m[I 2022-01-09 16:46:41,282]\u001b[0m Trial 44 finished with value: 0.968390001552554 and parameters: {'max_depth': 15, 'max_features': 0.5614932520792806, 'n_estimators': 105, 'criterion': 'entropy'}. Best is trial 10 with value: 0.9683900015525542.\u001b[0m\n",
            "\u001b[32m[I 2022-01-09 16:46:43,221]\u001b[0m Trial 45 finished with value: 0.95960254618848 and parameters: {'max_depth': 16, 'max_features': 0.5770286382877312, 'n_estimators': 116, 'criterion': 'entropy'}. Best is trial 10 with value: 0.9683900015525542.\u001b[0m\n",
            "\u001b[32m[I 2022-01-09 16:46:45,250]\u001b[0m Trial 46 finished with value: 0.95960254618848 and parameters: {'max_depth': 21, 'max_features': 0.7212775690363596, 'n_estimators': 132, 'criterion': 'entropy'}. Best is trial 10 with value: 0.9683900015525542.\u001b[0m\n",
            "\u001b[32m[I 2022-01-09 16:46:46,616]\u001b[0m Trial 47 finished with value: 0.959633597267505 and parameters: {'max_depth': 6, 'max_features': 0.6562034355804018, 'n_estimators': 100, 'criterion': 'gini'}. Best is trial 10 with value: 0.9683900015525542.\u001b[0m\n",
            "\u001b[32m[I 2022-01-09 16:46:48,092]\u001b[0m Trial 48 finished with value: 0.9578481602235677 and parameters: {'max_depth': 10, 'max_features': 0.568523166767695, 'n_estimators': 106, 'criterion': 'entropy'}. Best is trial 10 with value: 0.9683900015525542.\u001b[0m\n",
            "\u001b[32m[I 2022-01-09 16:46:49,911]\u001b[0m Trial 49 finished with value: 0.9630957925787922 and parameters: {'max_depth': 112, 'max_features': 0.699359173921984, 'n_estimators': 121, 'criterion': 'entropy'}. Best is trial 10 with value: 0.9683900015525542.\u001b[0m\n",
            "\u001b[32m[I 2022-01-09 16:47:00,045]\u001b[0m Trial 50 finished with value: 0.9578326346840553 and parameters: {'max_depth': 3, 'max_features': 0.5481122335205243, 'n_estimators': 752, 'criterion': 'entropy'}. Best is trial 10 with value: 0.9683900015525542.\u001b[0m\n",
            "\u001b[32m[I 2022-01-09 16:47:02,972]\u001b[0m Trial 51 finished with value: 0.968390001552554 and parameters: {'max_depth': 27, 'max_features': 0.39001770767458754, 'n_estimators': 253, 'criterion': 'entropy'}. Best is trial 10 with value: 0.9683900015525542.\u001b[0m\n",
            "\u001b[32m[I 2022-01-09 16:47:07,331]\u001b[0m Trial 52 finished with value: 0.9666200900481291 and parameters: {'max_depth': 14, 'max_features': 0.3665759432560646, 'n_estimators': 370, 'criterion': 'entropy'}. Best is trial 10 with value: 0.9683900015525542.\u001b[0m\n",
            "\u001b[32m[I 2022-01-09 16:47:09,647]\u001b[0m Trial 53 finished with value: 0.9666200900481293 and parameters: {'max_depth': 12, 'max_features': 0.7502318513015229, 'n_estimators': 147, 'criterion': 'entropy'}. Best is trial 10 with value: 0.9683900015525542.\u001b[0m\n",
            "\u001b[32m[I 2022-01-09 16:47:13,113]\u001b[0m Trial 54 finished with value: 0.9648657040832169 and parameters: {'max_depth': 29, 'max_features': 0.11090149242752717, 'n_estimators': 425, 'criterion': 'entropy'}. Best is trial 10 with value: 0.9683900015525542.\u001b[0m\n",
            "\u001b[32m[I 2022-01-09 16:47:18,247]\u001b[0m Trial 55 finished with value: 0.9648657040832169 and parameters: {'max_depth': 16, 'max_features': 0.6231007776650471, 'n_estimators': 323, 'criterion': 'entropy'}. Best is trial 10 with value: 0.9683900015525542.\u001b[0m\n",
            "\u001b[32m[I 2022-01-09 16:47:20,473]\u001b[0m Trial 56 finished with value: 0.9648657040832168 and parameters: {'max_depth': 22, 'max_features': 0.20795797506889363, 'n_estimators': 236, 'criterion': 'entropy'}. Best is trial 10 with value: 0.9683900015525542.\u001b[0m\n",
            "\u001b[32m[I 2022-01-09 16:47:23,328]\u001b[0m Trial 57 finished with value: 0.9596180717279925 and parameters: {'max_depth': 38, 'max_features': 0.6780950529433282, 'n_estimators': 200, 'criterion': 'gini'}. Best is trial 10 with value: 0.9683900015525542.\u001b[0m\n",
            "\u001b[32m[I 2022-01-09 16:47:26,805]\u001b[0m Trial 58 finished with value: 0.968390001552554 and parameters: {'max_depth': 7, 'max_features': 0.7932031603255675, 'n_estimators': 169, 'criterion': 'entropy'}. Best is trial 10 with value: 0.9683900015525542.\u001b[0m\n",
            "\u001b[32m[I 2022-01-09 16:47:33,794]\u001b[0m Trial 59 finished with value: 0.9701443875174661 and parameters: {'max_depth': 28, 'max_features': 0.4278318142755836, 'n_estimators': 596, 'criterion': 'entropy'}. Best is trial 59 with value: 0.9701443875174661.\u001b[0m\n"
          ]
        }
      ],
      "source": [
        "def objective(trial):\n",
        "    \n",
        "    max_depth = trial.suggest_int('max_depth', 2, 128, log=True)    \n",
        "    max_features = trial.suggest_float('max_features', 0.1, 1.0)\n",
        "    n_estimators = trial.suggest_int('n_estimators', 100, 800, log=True)\n",
        "    criterion = trial.suggest_categorical('criterion', ['gini', 'entropy'])\n",
        "    \n",
        "    clf = ensemble.RandomForestClassifier(\n",
        "        max_depth=max_depth,\n",
        "        n_estimators=n_estimators,\n",
        "        max_features=max_features,\n",
        "        criterion=criterion,\n",
        "        random_state=42)   \n",
        "    \n",
        "    score = model_selection.cross_val_score(clf, X, y, n_jobs=-1, cv=5)\n",
        "    return score.mean()\n",
        "\n",
        "\n",
        "study = optuna.create_study(direction=\"maximize\")\n",
        "study.optimize(objective, n_trials=RF_NTRIALS)"
      ]
    },
    {
      "cell_type": "code",
      "execution_count": null,
      "id": "2a87aaee",
      "metadata": {
        "execution": {
          "iopub.execute_input": "2022-01-09T16:47:33.978377Z",
          "iopub.status.busy": "2022-01-09T16:47:33.977775Z",
          "iopub.status.idle": "2022-01-09T16:47:33.980434Z",
          "shell.execute_reply": "2022-01-09T16:47:33.980865Z",
          "shell.execute_reply.started": "2022-01-08T17:25:38.875859Z"
        },
        "id": "2a87aaee",
        "outputId": "46394246-610d-45b1-e921-3f2ceac18324",
        "papermill": {
          "duration": 0.066311,
          "end_time": "2022-01-09T16:47:33.981004",
          "exception": false,
          "start_time": "2022-01-09T16:47:33.914693",
          "status": "completed"
        },
        "tags": []
      },
      "outputs": [
        {
          "data": {
            "text/plain": [
              "{'max_depth': 28,\n",
              " 'max_features': 0.4278318142755836,\n",
              " 'n_estimators': 596,\n",
              " 'criterion': 'entropy'}"
            ]
          },
          "execution_count": 5,
          "metadata": {},
          "output_type": "execute_result"
        }
      ],
      "source": [
        "study.best_params"
      ]
    },
    {
      "cell_type": "code",
      "execution_count": null,
      "id": "120f5a9d",
      "metadata": {
        "execution": {
          "iopub.execute_input": "2022-01-09T16:47:34.117027Z",
          "iopub.status.busy": "2022-01-09T16:47:34.116396Z",
          "iopub.status.idle": "2022-01-09T16:47:34.119040Z",
          "shell.execute_reply": "2022-01-09T16:47:34.119504Z",
          "shell.execute_reply.started": "2022-01-08T17:25:38.888805Z"
        },
        "id": "120f5a9d",
        "outputId": "0a7e4c81-cd77-4542-af94-017deb19267e",
        "papermill": {
          "duration": 0.076485,
          "end_time": "2022-01-09T16:47:34.119668",
          "exception": false,
          "start_time": "2022-01-09T16:47:34.043183",
          "status": "completed"
        },
        "tags": []
      },
      "outputs": [
        {
          "data": {
            "text/plain": [
              "0.9701443875174661"
            ]
          },
          "execution_count": 6,
          "metadata": {},
          "output_type": "execute_result"
        }
      ],
      "source": [
        "study.best_value"
      ]
    },
    {
      "cell_type": "markdown",
      "id": "f4c3f011",
      "metadata": {
        "id": "f4c3f011",
        "papermill": {
          "duration": 0.066147,
          "end_time": "2022-01-09T16:47:34.246927",
          "exception": false,
          "start_time": "2022-01-09T16:47:34.180780",
          "status": "completed"
        },
        "tags": []
      },
      "source": [
        "### Sampling algorithms"
      ]
    },
    {
      "cell_type": "code",
      "execution_count": null,
      "id": "9735871b",
      "metadata": {
        "execution": {
          "iopub.execute_input": "2022-01-09T16:47:34.376640Z",
          "iopub.status.busy": "2022-01-09T16:47:34.376025Z",
          "iopub.status.idle": "2022-01-09T16:47:34.953844Z",
          "shell.execute_reply": "2022-01-09T16:47:34.953344Z",
          "shell.execute_reply.started": "2022-01-08T17:25:38.904688Z"
        },
        "id": "9735871b",
        "outputId": "9927d215-69dc-4f90-c65a-4300593bb966",
        "papermill": {
          "duration": 0.646091,
          "end_time": "2022-01-09T16:47:34.953973",
          "exception": false,
          "start_time": "2022-01-09T16:47:34.307882",
          "status": "completed"
        },
        "tags": []
      },
      "outputs": [
        {
          "data": {
            "image/png": "[encoded data removed]",
            "text/plain": [
              "<Figure size 1152x288 with 4 Axes>"
            ]
          },
          "metadata": {
            "needs_background": "light"
          },
          "output_type": "display_data"
        }
      ],
      "source": [
        "import matplotlib.pyplot as plt\n",
        "fig, axes = plt.subplots(nrows=1, ncols=3)\n",
        "\n",
        "def plot_results(study, p1, p2, j, cb):\n",
        "    study.trials_dataframe().plot(\n",
        "        kind='scatter', ax=axes[j], x=p1, y=p2,\n",
        "        c='value', s=60, cmap=plt.get_cmap(\"jet\"), \n",
        "        colorbar=cb, label=\"accuracy\", figsize=(16, 4)\n",
        "    )\n",
        "\n",
        "plot_results(study, 'params_max_depth',    'params_n_estimators', j=0, cb=False)\n",
        "plot_results(study, 'params_max_depth',    'params_max_features', j=1, cb=False)\n",
        "plot_results(study, 'params_n_estimators', 'params_max_features', j=2, cb=True);"
      ]
    },
    {
      "cell_type": "markdown",
      "id": "3179556b",
      "metadata": {
        "id": "3179556b",
        "papermill": {
          "duration": 0.061064,
          "end_time": "2022-01-09T16:47:35.075591",
          "exception": false,
          "start_time": "2022-01-09T16:47:35.014527",
          "status": "completed"
        },
        "tags": []
      },
      "source": [
        "**Figure.** TPE in action. Optuna uses  **Tree-structured Parzen Estimater (TPE)** {cite}`bergstra` as the default sampler which is a form of Bayesian optimization. Observe that the hyperparameter space is searched more efficiently than random search with the sampler choosing points closer to previous good results. Samplers are specified when creating a study: \n",
        "\n",
        "```python\n",
        "study = create_study(direction=\"maximize\", sampler=optuna.samplers.TPESampler())\n",
        "```\n",
        "\n",
        "From the [docs](https://optuna.readthedocs.io/en/stable/reference/generated/optuna.samplers.TPESampler.html#optuna.samplers.TPESampler):\n",
        "\n",
        "> On each trial, for each parameter, TPE fits one Gaussian Mixture Model (GMM) `l(x)` to the set of parameter values associated with the best objective values, and another GMM `g(x)` to the remaining parameter values. It chooses the parameter value `x` that maximizes the ratio `l(x)/g(x)`.\n",
        "\n",
        "Thus, TPE samples every hyperparameter **independently** &mdash; no explicit hyperparameter interactions are considered when sampling future trials, although other parameters implicitly affect objective value. Optuna also implements our old friends random and grid search in the following samplers:\n",
        "- `optuna.samplers.GridSampler`\n",
        "- `optuna.samplers.RandomSampler`"
      ]
    },
    {
      "cell_type": "markdown",
      "id": "7f89dc4f",
      "metadata": {
        "id": "7f89dc4f",
        "papermill": {
          "duration": 0.06003,
          "end_time": "2022-01-09T16:47:35.195574",
          "exception": false,
          "start_time": "2022-01-09T16:47:35.135544",
          "status": "completed"
        },
        "tags": []
      },
      "source": [
        "Another sampling algorithm implemented in Optuna is **Covariance Matrix Adaptation Evolution Strategy (CMA-ES)** {cite}`hansen2016cma`. This algorithm is designed to tackle ill-conditioned, non-separable problems, i.e. cannot be solved by solving several 1-dimensional problems. CMA-ES is typically implemented along with TPE whenever the former algorithm is not applicable, e.g. for searching dynamically constructed hyperparameters (as CMA-ES requires that parameters are specified statically prior to the optimization) or for searching categorical parameters, as CMA-ES is designed to search real parameters on a continuous domain. TPE+CMA-ES sampling can be implemented as follows:\n",
        "\n",
        "```python\n",
        "sampler = optuna.samplers.CmaEsSampler(\n",
        "    warn_independent_sampling=False,\n",
        "    independent_sampler=optuna.samplers.TPESampler()\n",
        ")\n",
        "```\n",
        "\n",
        "Results from the paper {cite}`akiba2019optuna` show that TPE+CMA-ES works better than counterparts of the same time complexity:"
      ]
    },
    {
      "cell_type": "markdown",
      "id": "8e72f070",
      "metadata": {
        "id": "8e72f070",
        "papermill": {
          "duration": 0.059473,
          "end_time": "2022-01-09T16:47:35.314989",
          "exception": false,
          "start_time": "2022-01-09T16:47:35.255516",
          "status": "completed"
        },
        "tags": []
      },
      "source": [
        "```{figure} ../img/fig9-optuna.png\n",
        "---\n",
        "width: 35em\n",
        "name: fig9-optuna\n",
        "---\n",
        "```"
      ]
    },
    {
      "cell_type": "markdown",
      "id": "aa0f72b3",
      "metadata": {
        "id": "aa0f72b3",
        "papermill": {
          "duration": 0.059205,
          "end_time": "2022-01-09T16:47:35.433709",
          "exception": false,
          "start_time": "2022-01-09T16:47:35.374504",
          "status": "completed"
        },
        "tags": []
      },
      "source": [
        "```{figure} ../img/fig10-optuna.png\n",
        "---\n",
        "width: 35em\n",
        "name: fig10-optuna\n",
        "---\n",
        "```"
      ]
    },
    {
      "cell_type": "markdown",
      "id": "75a226ac",
      "metadata": {
        "id": "75a226ac",
        "papermill": {
          "duration": 0.059062,
          "end_time": "2022-01-09T16:47:35.672427",
          "exception": false,
          "start_time": "2022-01-09T16:47:35.613365",
          "status": "completed"
        },
        "tags": []
      },
      "source": [
        "### Visualizing Results"
      ]
    },
    {
      "cell_type": "markdown",
      "id": "699ef92f",
      "metadata": {
        "id": "699ef92f",
        "papermill": {
          "duration": 0.059046,
          "end_time": "2022-01-09T16:47:35.791065",
          "exception": false,
          "start_time": "2022-01-09T16:47:35.732019",
          "status": "completed"
        },
        "tags": []
      },
      "source": [
        "Optuna provides visualization functions in the `optuna.visualization` library [^ref4]. The following plot shows the best objective value found as the trials progress. The increasing trend in accuracy indicates that the TPE sampler is working well, i.e. the search algorithm learns from previous trials.\n",
        "\n",
        "[^ref4]: See [Optuna dashboard](https://github.com/optuna/optuna-dashboard) which displays the same plots that are updated in real-time."
      ]
    },
    {
      "cell_type": "code",
      "execution_count": null,
      "id": "8c6548bb",
      "metadata": {
        "id": "8c6548bb"
      },
      "outputs": [],
      "source": [
        "optuna.visualization.plot_optimization_history(study)"
      ]
    },
    {
      "cell_type": "markdown",
      "id": "121c22f7",
      "metadata": {
        "id": "121c22f7"
      },
      "source": [
        "```{figure} ../img/optuna-1.png\n",
        "---\n",
        "name: optuna-1\n",
        "---\n",
        "```"
      ]
    },
    {
      "cell_type": "markdown",
      "id": "c844c04b",
      "metadata": {
        "id": "c844c04b",
        "papermill": {
          "duration": 0.060524,
          "end_time": "2022-01-09T16:47:36.267857",
          "exception": false,
          "start_time": "2022-01-09T16:47:36.207333",
          "status": "completed"
        },
        "tags": []
      },
      "source": [
        "The **parallel coordinate plot** gives us a feel of how the hyperparameters interact. To isolate subsets of lines, we can use the interactive capabilities of the plots by dragging on each axis to restrict it. The resulting purple bars can be disjoint."
      ]
    },
    {
      "cell_type": "code",
      "execution_count": null,
      "id": "510b51f8",
      "metadata": {
        "id": "510b51f8"
      },
      "outputs": [],
      "source": [
        "optuna.visualization.plot_parallel_coordinate(study)"
      ]
    },
    {
      "cell_type": "markdown",
      "id": "74a8d2ce",
      "metadata": {
        "id": "74a8d2ce"
      },
      "source": [
        "```{figure} ../img/optuna-2.png\n",
        "---\n",
        "name: optuna-2\n",
        "---\n",
        "```"
      ]
    },
    {
      "cell_type": "markdown",
      "id": "e33abe55",
      "metadata": {
        "id": "e33abe55",
        "papermill": {
          "duration": 0.062022,
          "end_time": "2022-01-09T16:47:36.707979",
          "exception": false,
          "start_time": "2022-01-09T16:47:36.645957",
          "status": "completed"
        },
        "tags": []
      },
      "source": [
        "The following **slice plots** show the projections of the sampler's path in the hyperparameter space in each individual dimension, then shifts each point along the vertical axis based on the its objective value. "
      ]
    },
    {
      "cell_type": "code",
      "execution_count": null,
      "id": "80c55896",
      "metadata": {
        "id": "80c55896"
      },
      "outputs": [],
      "source": [
        "fig = optuna.visualization.plot_slice(study)\n",
        "fig.update_layout(width=900, height=400)"
      ]
    },
    {
      "cell_type": "markdown",
      "id": "e514fdf8",
      "metadata": {
        "id": "e514fdf8"
      },
      "source": [
        "```{figure} ../img/optuna-3.png\n",
        "---\n",
        "name: optuna-3\n",
        "---\n",
        "```"
      ]
    },
    {
      "cell_type": "markdown",
      "id": "eae33277",
      "metadata": {
        "id": "eae33277",
        "papermill": {
          "duration": 0.105602,
          "end_time": "2022-01-09T16:47:37.522018",
          "exception": false,
          "start_time": "2022-01-09T16:47:37.416416",
          "status": "completed"
        },
        "tags": []
      },
      "source": [
        "The default **hyperparameter importance evaluator** in Optuna is `FanovaImportanceEvaluator`. This takes as input performance data gathered with different hyperparameter settings of the algorithm, fits a random forest to capture the relationship between hyperparameters and performance, and then applies functional ANOVA to assess how important each of the hyperparameters and each low-order interaction of hyperparameters is to performance {cite}`pmlr-v32-hutter14`. From the [docs](https://optuna.readthedocs.io/en/stable/reference/generated/optuna.importance.FanovaImportanceEvaluator.html):\n",
        "\n",
        "> The performance of fANOVA depends on the prediction performance of the underlying random forest model. In order to obtain high prediction performance, it is necessary to cover a wide range of the hyperparameter search space. It is recommended to use an exploration-oriented sampler such as `RandomSampler`."
      ]
    },
    {
      "cell_type": "code",
      "execution_count": null,
      "id": "3be87a45",
      "metadata": {
        "id": "3be87a45"
      },
      "outputs": [],
      "source": [
        "fig = optuna.visualization.plot_param_importances(study)\n",
        "fig.update_layout(width=600, height=350)\n",
        "fig.show()"
      ]
    },
    {
      "cell_type": "markdown",
      "id": "ddc81063",
      "metadata": {
        "id": "ddc81063"
      },
      "source": [
        "```{figure} ../img/optuna-4.png\n",
        "---\n",
        "scale: 50%\n",
        "name: optuna-4\n",
        "---\n",
        "```"
      ]
    },
    {
      "cell_type": "markdown",
      "id": "87385ea2",
      "metadata": {
        "id": "87385ea2",
        "papermill": {
          "duration": 0.062565,
          "end_time": "2022-01-09T16:47:39.286198",
          "exception": false,
          "start_time": "2022-01-09T16:47:39.223633",
          "status": "completed"
        },
        "tags": []
      },
      "source": [
        "To visualize interactions between any pair of hyperparameters, we can generate **contour plots** where regions of *low* objective value are darker in color."
      ]
    },
    {
      "cell_type": "code",
      "execution_count": null,
      "id": "9648d6b7",
      "metadata": {
        "id": "9648d6b7"
      },
      "outputs": [],
      "source": [
        "fig = optuna.visualization.plot_contour(study, params=[\"criterion\", \"n_estimators\"])\n",
        "fig.update_layout(width=600, height=500)"
      ]
    },
    {
      "cell_type": "markdown",
      "id": "5e2d3c24",
      "metadata": {
        "id": "5e2d3c24"
      },
      "source": [
        "```{figure} ../img/optuna-5.png\n",
        "---\n",
        "scale: 50%\n",
        "name: optuna-5\n",
        "---\n",
        "```"
      ]
    },
    {
      "cell_type": "markdown",
      "id": "f8910f20",
      "metadata": {
        "id": "f8910f20",
        "papermill": {
          "duration": 0.062505,
          "end_time": "2022-01-09T16:47:39.734954",
          "exception": false,
          "start_time": "2022-01-09T16:47:39.672449",
          "status": "completed"
        },
        "tags": []
      },
      "source": [
        "## Neural networks"
      ]
    },
    {
      "cell_type": "markdown",
      "id": "fbfb7038",
      "metadata": {
        "id": "fbfb7038",
        "papermill": {
          "duration": 0.063064,
          "end_time": "2022-01-09T16:47:39.861064",
          "exception": false,
          "start_time": "2022-01-09T16:47:39.798000",
          "status": "completed"
        },
        "tags": []
      },
      "source": [
        "As noted above, we should always perform tuning within a cross-validation framework. However, with neural networks, doing 5-fold CV would require too much compute time &mdash; hence, too much resources, e.g. GPU usage. Instead, we perform tuning on a hold-out validation set and hope for the best. "
      ]
    },
    {
      "cell_type": "code",
      "execution_count": null,
      "id": "d0f535cd",
      "metadata": {
        "execution": {
          "iopub.execute_input": "2022-01-09T16:47:39.993946Z",
          "iopub.status.busy": "2022-01-09T16:47:39.993220Z",
          "iopub.status.idle": "2022-01-09T16:47:41.513255Z",
          "shell.execute_reply": "2022-01-09T16:47:41.514274Z",
          "shell.execute_reply.started": "2022-01-08T17:25:40.109391Z"
        },
        "id": "d0f535cd",
        "papermill": {
          "duration": 1.590182,
          "end_time": "2022-01-09T16:47:41.514443",
          "exception": false,
          "start_time": "2022-01-09T16:47:39.924261",
          "status": "completed"
        },
        "tags": []
      },
      "outputs": [],
      "source": [
        "import torch\n",
        "import torch.nn as nn\n",
        "import torch.optim as optim\n",
        "import torch.nn.functional as F\n",
        "import torchvision.transforms as transforms\n",
        "import torchvision.datasets as datasets\n",
        "from torch.utils import data\n",
        "\n",
        "from tqdm import tqdm\n",
        "import optuna\n",
        "import numpy as np\n",
        "\n",
        "PATIENCE = 5\n",
        "EPOCHS = 100\n",
        "DEVICE = torch.device(\"cuda\") if torch.cuda.is_available() else torch.device(\"cpu\")"
      ]
    },
    {
      "cell_type": "markdown",
      "id": "1e00b921",
      "metadata": {
        "id": "1e00b921",
        "papermill": {
          "duration": 0.062227,
          "end_time": "2022-01-09T16:47:41.641387",
          "exception": false,
          "start_time": "2022-01-09T16:47:41.579160",
          "status": "completed"
        },
        "tags": []
      },
      "source": [
        "Define a convolutional network with a smaller version of the VGG architecture."
      ]
    },
    {
      "cell_type": "code",
      "execution_count": null,
      "id": "bdbb935b",
      "metadata": {
        "execution": {
          "iopub.execute_input": "2022-01-09T16:47:41.776065Z",
          "iopub.status.busy": "2022-01-09T16:47:41.775230Z",
          "iopub.status.idle": "2022-01-09T16:47:41.776975Z",
          "shell.execute_reply": "2022-01-09T16:47:41.777470Z",
          "shell.execute_reply.started": "2022-01-08T17:25:40.122672Z"
        },
        "id": "bdbb935b",
        "papermill": {
          "duration": 0.07391,
          "end_time": "2022-01-09T16:47:41.777616",
          "exception": false,
          "start_time": "2022-01-09T16:47:41.703706",
          "status": "completed"
        },
        "tags": []
      },
      "outputs": [],
      "source": [
        "# https://d2l.ai/chapter_convolutional-modern/vgg.html\n",
        "\n",
        "def vgg_block(num_convs, in_channels, out_channels):\n",
        "    layers = []\n",
        "    for _ in range(num_convs):\n",
        "        layers.append(nn.Conv2d(in_channels, out_channels,\n",
        "                                kernel_size=3, padding=1))\n",
        "        layers.append(nn.ReLU())\n",
        "        in_channels = out_channels\n",
        "    layers.append(nn.MaxPool2d(kernel_size=2,stride=2))\n",
        "    return nn.Sequential(*layers)\n",
        "\n",
        "\n",
        "def vgg(conv_arch, linear_width, dropout, in_channels=3):\n",
        "    conv_blks = []\n",
        "    # The convolutional part\n",
        "    for (num_convs, out_channels) in conv_arch:\n",
        "        conv_blks.append(vgg_block(num_convs, in_channels, out_channels))\n",
        "        in_channels = out_channels\n",
        "\n",
        "    height, width = 6, 6\n",
        "    dense_layers = [\n",
        "        nn.AdaptiveAvgPool2d((height, width)),\n",
        "        nn.Flatten(),\n",
        "        nn.Linear(out_channels * height * width, linear_width),\n",
        "        nn.ReLU(), nn.Dropout(dropout),\n",
        "        nn.Linear(linear_width, linear_width),\n",
        "        nn.ReLU(), nn.Dropout(dropout),\n",
        "        nn.Linear(linear_width, 10)\n",
        "    ]\n",
        "    return nn.Sequential(*(conv_blks + dense_layers))"
      ]
    },
    {
      "cell_type": "markdown",
      "id": "33a04c03",
      "metadata": {
        "id": "33a04c03",
        "papermill": {
          "duration": 0.062342,
          "end_time": "2022-01-09T16:47:41.902117",
          "exception": false,
          "start_time": "2022-01-09T16:47:41.839775",
          "status": "completed"
        },
        "tags": []
      },
      "source": [
        "We also define a `Dataset` class for CIFAR-10."
      ]
    },
    {
      "cell_type": "code",
      "execution_count": null,
      "id": "fde8692a",
      "metadata": {
        "colab": {
          "referenced_widgets": [
            "f526ee1acb344c17a1fa5c35271c0255"
          ]
        },
        "execution": {
          "iopub.execute_input": "2022-01-09T16:47:42.053450Z",
          "iopub.status.busy": "2022-01-09T16:47:42.052822Z",
          "iopub.status.idle": "2022-01-09T16:47:47.810777Z",
          "shell.execute_reply": "2022-01-09T16:47:47.809850Z",
          "shell.execute_reply.started": "2022-01-08T17:25:40.138339Z"
        },
        "id": "fde8692a",
        "outputId": "e4b620e0-3ba7-49c6-d1b8-1b62e9536306",
        "papermill": {
          "duration": 5.838566,
          "end_time": "2022-01-09T16:47:47.810935",
          "exception": false,
          "start_time": "2022-01-09T16:47:41.972369",
          "status": "completed"
        },
        "tags": []
      },
      "outputs": [
        {
          "name": "stdout",
          "output_type": "stream",
          "text": [
            "Downloading https://www.cs.toronto.edu/~kriz/cifar-10-python.tar.gz to ./cifar-10-python.tar.gz\n"
          ]
        },
        {
          "data": {
            "application/vnd.jupyter.widget-view+json": {
              "model_id": "f526ee1acb344c17a1fa5c35271c0255",
              "version_major": 2,
              "version_minor": 0
            },
            "text/plain": [
              "  0%|          | 0/170498071 [00:00<?, ?it/s]"
            ]
          },
          "metadata": {},
          "output_type": "display_data"
        },
        {
          "name": "stdout",
          "output_type": "stream",
          "text": [
            "Extracting ./cifar-10-python.tar.gz to .\n",
            "Files already downloaded and verified\n"
          ]
        }
      ],
      "source": [
        "transform = [transforms.ToTensor()]\n",
        "if CIFAR10_RESIZE:\n",
        "    transform.insert(0, transforms.Resize(CIFAR10_RESIZE))\n",
        "transform = transforms.Compose(transform)\n",
        "\n",
        "mnist_train = datasets.CIFAR10(root=\".\", train=True,  transform=transform, download=True)\n",
        "mnist_valid = datasets.CIFAR10(root=\".\", train=False, transform=transform, download=True)\n",
        "\n",
        "\n",
        "def get_cifar10_dataloaders(batch_size, resize, sample_ratio=1.0):\n",
        "    train_loader = data.DataLoader(mnist_train, \n",
        "                                   batch_size, \n",
        "                                   drop_last=True, \n",
        "                                   sampler=range(int(len(mnist_train)*sample_ratio)))\n",
        "    \n",
        "    valid_loader = data.DataLoader(mnist_valid, \n",
        "                                   batch_size, \n",
        "                                   drop_last=True, \n",
        "                                   sampler=range(int(len(mnist_valid)*sample_ratio)))\n",
        "    \n",
        "    return train_loader, valid_loader"
      ]
    },
    {
      "cell_type": "markdown",
      "id": "d057bf7e",
      "metadata": {
        "id": "d057bf7e",
        "papermill": {
          "duration": 0.064096,
          "end_time": "2022-01-09T16:47:47.940712",
          "exception": false,
          "start_time": "2022-01-09T16:47:47.876616",
          "status": "completed"
        },
        "tags": []
      },
      "source": [
        "Define a trainer for the neural network model. This will handle all loss and metric evaluation, as well as backpropagation."
      ]
    },
    {
      "cell_type": "code",
      "execution_count": null,
      "id": "664cc02d",
      "metadata": {
        "execution": {
          "iopub.execute_input": "2022-01-09T16:47:48.167831Z",
          "iopub.status.busy": "2022-01-09T16:47:48.166963Z",
          "iopub.status.idle": "2022-01-09T16:47:48.171294Z",
          "shell.execute_reply": "2022-01-09T16:47:48.171980Z",
          "shell.execute_reply.started": "2022-01-08T17:25:42.014133Z"
        },
        "id": "664cc02d",
        "papermill": {
          "duration": 0.134755,
          "end_time": "2022-01-09T16:47:48.172177",
          "exception": false,
          "start_time": "2022-01-09T16:47:48.037422",
          "status": "completed"
        },
        "tags": []
      },
      "outputs": [],
      "source": [
        "class Engine:\n",
        "    \"\"\"Facilitate neural network training and evaluation.\"\"\"\n",
        "    \n",
        "    def __init__(self, model, device, optimizer):\n",
        "        self.model = model\n",
        "        self.device = device\n",
        "        self.optimizer = optimizer \n",
        "\n",
        "    @staticmethod\n",
        "    def loss_fn(outputs, targets):\n",
        "        return nn.CrossEntropyLoss()(outputs, targets)\n",
        "        \n",
        "    def train(self, data_loader):\n",
        "        \"\"\"Train model on one epoch. Return train loss.\"\"\"\n",
        "        \n",
        "        self.model.train()\n",
        "        loss = 0\n",
        "        for i, (data, targets) in enumerate(data_loader):\n",
        "            data = data.to(self.device).float()\n",
        "            targets = targets.to(self.device).long()\n",
        "            \n",
        "            # Forward pass\n",
        "            outputs = self.model(data)\n",
        "            J = self.loss_fn(outputs, targets)\n",
        "            \n",
        "            # Backward pass\n",
        "            self.optimizer.zero_grad()\n",
        "            J.backward()\n",
        "            self.optimizer.step()\n",
        "\n",
        "            # Cumulative loss\n",
        "            loss += (J.detach().item() - loss) / (i + 1)\n",
        "\n",
        "        return loss\n",
        "\n",
        "\n",
        "    def eval(self, data_loader):\n",
        "        \"\"\"Return validation loss and validation accuracy.\"\"\"\n",
        "        \n",
        "        self.model.eval()\n",
        "        num_correct = 0\n",
        "        num_samples = 0\n",
        "        loss = 0.0\n",
        "        with torch.no_grad():\n",
        "            for i, (data, targets) in enumerate(data_loader):\n",
        "                data = data.to(self.device).float()\n",
        "                targets = targets.to(self.device)\n",
        "                \n",
        "                # Forward pass\n",
        "                out = self.model(data)\n",
        "                J = self.loss_fn(out, targets)\n",
        "                _, preds = out.max(dim=1)\n",
        "\n",
        "                # Cumulative metrics\n",
        "                loss += (J.detach().item() - loss) / (i + 1)\n",
        "                num_correct += (preds == targets).sum().item()\n",
        "                num_samples += preds.shape[0]\n",
        "\n",
        "        acc = num_correct / num_samples\n",
        "        return loss, acc"
      ]
    },
    {
      "cell_type": "markdown",
      "id": "31a4ba5c",
      "metadata": {
        "id": "31a4ba5c",
        "papermill": {
          "duration": 0.110984,
          "end_time": "2022-01-09T16:47:48.393808",
          "exception": false,
          "start_time": "2022-01-09T16:47:48.282824",
          "status": "completed"
        },
        "tags": []
      },
      "source": [
        "### Pruning based on intermediate values"
      ]
    },
    {
      "cell_type": "markdown",
      "id": "c815038f",
      "metadata": {
        "id": "c815038f",
        "papermill": {
          "duration": 0.098793,
          "end_time": "2022-01-09T16:47:48.601081",
          "exception": false,
          "start_time": "2022-01-09T16:47:48.502288",
          "status": "completed"
        },
        "tags": []
      },
      "source": [
        "Finally, we set up the `study` instance and its objective function. Note that the search space is dynamically constructed depending on the number of layers (i.e. an earlier suggestion for a hyperparameter). During training, we perform early stopping on validation loss. If no new minimum val. loss is found after 5 epochs, then the minimum val. loss is returned as the objective [^ref3].\n",
        "\n",
        "Computing intermediate values allow us to **prune** unpromising trials to conserve resources. The default pruner in Optuna is [`MedianPruner`](https://optuna.readthedocs.io/en/stable/reference/generated/optuna.pruners.MedianPruner.html) which prunes a trial if its best intermediate result as of the current step (e.g. current best valid loss) is worse than the median of all intermediate results of previous trials *at the current step*. Hence, the best intermediate result of a pruned trial is less than the best intermediate result of 1/2 of the other trials as of that step. In our case, if the minimum validation loss does not improve too quickly, then the trial is pruned. Of course, the validation loss could descend rapidly at later steps, but the median pruner does not bet on this happening.\n",
        "\n",
        "[^ref3]: In practice, we save the best model parameters at this point."
      ]
    },
    {
      "cell_type": "code",
      "execution_count": null,
      "id": "093e830e",
      "metadata": {
        "execution": {
          "iopub.execute_input": "2022-01-09T16:47:48.741103Z",
          "iopub.status.busy": "2022-01-09T16:47:48.740255Z",
          "iopub.status.idle": "2022-01-09T16:47:48.747211Z",
          "shell.execute_reply": "2022-01-09T16:47:48.746807Z",
          "shell.execute_reply.started": "2022-01-08T17:25:42.033270Z"
        },
        "id": "093e830e",
        "papermill": {
          "duration": 0.079934,
          "end_time": "2022-01-09T16:47:48.747332",
          "exception": false,
          "start_time": "2022-01-09T16:47:48.667398",
          "status": "completed"
        },
        "tags": []
      },
      "outputs": [],
      "source": [
        "def run_training(trial, train_loader, valid_loader, engine):\n",
        "    # Run training\n",
        "    best_loss = np.inf\n",
        "    patience = PATIENCE\n",
        "    loop = tqdm(range(EPOCHS), total=EPOCHS, leave=False)\n",
        "    for epoch in loop:\n",
        "\n",
        "        # Train and validation step\n",
        "        train_loss = engine.train(train_loader)\n",
        "        valid_loss, valid_acc = engine.eval(valid_loader)\n",
        "            \n",
        "        # Early stopping\n",
        "        if valid_loss < best_loss:\n",
        "            best_loss = valid_loss\n",
        "            patience = PATIENCE\n",
        "        else:\n",
        "            patience -= 1\n",
        "            if patience == 0:\n",
        "                break\n",
        "    \n",
        "        # Pruning unpromising trials\n",
        "        trial.report(valid_loss, step=epoch)\n",
        "        if trial.should_prune():\n",
        "            raise optuna.TrialPruned()\n",
        "            \n",
        "        loop.set_description(f\"Epoch [{epoch+1}/{EPOCHS}]\")\n",
        "        loop.set_postfix(\n",
        "            val_loss=valid_loss, \n",
        "            acc=valid_acc, \n",
        "            patience=patience,\n",
        "            lr=engine.optimizer.param_groups[0]['lr'])\n",
        "        \n",
        "    return best_loss\n",
        "\n",
        "\n",
        "def objective(trial):\n",
        "    # Setup model architecture\n",
        "    conv_arch = [\n",
        "        (1, trial.suggest_int(f\"vgg_b1\", 128, 512, log=True)),\n",
        "        (2, trial.suggest_int(f\"vgg_b2\", 128, 512, log=True)),\n",
        "        (2, trial.suggest_int(f\"vgg_b3\", 128, 512, log=True)),\n",
        "    ]\n",
        "    dense_width = trial.suggest_int(\"dense\", 256, 1024, log=True)\n",
        "    dropout = trial.suggest_float(\"dropout\", 0.1, 1.0, step=0.1)\n",
        "    learning_rate = trial.suggest_float(\"lr\", 1e-5, 0.3, log=True)\n",
        "    batch_size = trial.suggest_int('batch_size', 16, 128, log=True)\n",
        "\n",
        "    # Initialize engine\n",
        "    model = vgg(conv_arch, dense_width, dropout).to(DEVICE)\n",
        "    optimizer = optim.Adam(model.parameters(), lr=learning_rate)    \n",
        "    engine = Engine(model, DEVICE, optimizer)\n",
        "    \n",
        "    # Initalize data loaders\n",
        "    train_loader, valid_loader = get_cifar10_dataloaders(batch_size, resize=28, sample_ratio=CIFAR10_SAMPLE_RATIO)\n",
        "    \n",
        "    # Start training run\n",
        "    score = run_training(trial, train_loader, valid_loader, engine)\n",
        "    return score"
      ]
    },
    {
      "cell_type": "markdown",
      "id": "977be6e1",
      "metadata": {
        "id": "977be6e1",
        "papermill": {
          "duration": 0.064844,
          "end_time": "2022-01-09T16:47:48.876367",
          "exception": false,
          "start_time": "2022-01-09T16:47:48.811523",
          "status": "completed"
        },
        "tags": []
      },
      "source": [
        "This study looks rather complicated, with a lot of moving parts. We can test the objective using a `FixedTrial` which suggests fixed parameter values based on a given dictionary of parameters:\n",
        "\n",
        "```python\n",
        "trial = FixedTrial(param_dict)\n",
        "objective(trial) \n",
        "```"
      ]
    },
    {
      "cell_type": "markdown",
      "id": "46674503",
      "metadata": {
        "execution": {
          "iopub.execute_input": "2022-01-08T17:00:46.609672Z",
          "iopub.status.busy": "2022-01-08T17:00:46.609393Z",
          "iopub.status.idle": "2022-01-08T17:00:46.615946Z",
          "shell.execute_reply": "2022-01-08T17:00:46.614610Z",
          "shell.execute_reply.started": "2022-01-08T17:00:46.609642Z"
        },
        "id": "46674503",
        "papermill": {
          "duration": 0.065524,
          "end_time": "2022-01-09T16:47:49.007108",
          "exception": false,
          "start_time": "2022-01-09T16:47:48.941584",
          "status": "completed"
        },
        "tags": []
      },
      "source": [
        "We now create the minimization problem with median pruner. The parameters of the pruner will be explained below."
      ]
    },
    {
      "cell_type": "code",
      "execution_count": null,
      "id": "2c0c8c93",
      "metadata": {
        "execution": {
          "iopub.execute_input": "2022-01-09T16:47:49.144923Z",
          "iopub.status.busy": "2022-01-09T16:47:49.143826Z",
          "iopub.status.idle": "2022-01-09T20:12:17.314761Z",
          "shell.execute_reply": "2022-01-09T20:12:17.315168Z",
          "shell.execute_reply.started": "2022-01-08T17:25:42.057797Z"
        },
        "id": "2c0c8c93",
        "outputId": "ca72f5d4-2ab5-448e-bf7b-e20a919d7d5e",
        "papermill": {
          "duration": 12268.243705,
          "end_time": "2022-01-09T20:12:17.315331",
          "exception": false,
          "start_time": "2022-01-09T16:47:49.071626",
          "status": "completed"
        },
        "tags": []
      },
      "outputs": [
        {
          "name": "stderr",
          "output_type": "stream",
          "text": [
            "\u001b[32m[I 2022-01-09 16:47:49,141]\u001b[0m A new study created in memory with name: no-name-78b4e217-1a91-4764-8134-993f98d3cea7\u001b[0m\n",
            "\u001b[32m[I 2022-01-09 16:54:25,197]\u001b[0m Trial 0 finished with value: 0.9663325294852255 and parameters: {'vgg_b1': 310, 'vgg_b2': 162, 'vgg_b3': 289, 'dense': 598, 'dropout': 0.1, 'lr': 5.8571334191863526e-05, 'batch_size': 124}. Best is trial 0 with value: 0.9663325294852255.\u001b[0m\n",
            "\u001b[32m[I 2022-01-09 17:01:53,776]\u001b[0m Trial 1 finished with value: 0.8538003005400426 and parameters: {'vgg_b1': 258, 'vgg_b2': 247, 'vgg_b3': 206, 'dense': 402, 'dropout': 0.7000000000000001, 'lr': 5.986375901071346e-05, 'batch_size': 42}. Best is trial 1 with value: 0.8538003005400426.\u001b[0m\n",
            "\u001b[32m[I 2022-01-09 17:06:12,651]\u001b[0m Trial 2 finished with value: 0.9333370736837385 and parameters: {'vgg_b1': 249, 'vgg_b2': 160, 'vgg_b3': 291, 'dense': 960, 'dropout': 0.5, 'lr': 9.652575464574833e-05, 'batch_size': 20}. Best is trial 1 with value: 0.8538003005400426.\u001b[0m\n",
            "\u001b[32m[I 2022-01-09 17:07:29,117]\u001b[0m Trial 3 finished with value: 2.308023227112635 and parameters: {'vgg_b1': 217, 'vgg_b2': 198, 'vgg_b3': 232, 'dense': 508, 'dropout': 0.7000000000000001, 'lr': 0.09329797140131525, 'batch_size': 89}. Best is trial 1 with value: 0.8538003005400426.\u001b[0m\n",
            "\u001b[32m[I 2022-01-09 17:12:05,098]\u001b[0m Trial 4 finished with value: 0.9594035801822195 and parameters: {'vgg_b1': 372, 'vgg_b2': 468, 'vgg_b3': 230, 'dense': 733, 'dropout': 0.2, 'lr': 0.00010174140869152476, 'batch_size': 68}. Best is trial 1 with value: 0.8538003005400426.\u001b[0m\n",
            "\u001b[32m[I 2022-01-09 17:15:52,590]\u001b[0m Trial 5 finished with value: 2.3308440674943625 and parameters: {'vgg_b1': 463, 'vgg_b2': 429, 'vgg_b3': 234, 'dense': 665, 'dropout': 0.30000000000000004, 'lr': 0.13353412052488867, 'batch_size': 18}. Best is trial 1 with value: 0.8538003005400426.\u001b[0m\n",
            "\u001b[32m[I 2022-01-09 17:17:23,245]\u001b[0m Trial 6 finished with value: 2.304749325097323 and parameters: {'vgg_b1': 208, 'vgg_b2': 216, 'vgg_b3': 346, 'dense': 391, 'dropout': 0.8, 'lr': 0.013848177485291456, 'batch_size': 30}. Best is trial 1 with value: 0.8538003005400426.\u001b[0m\n",
            "\u001b[32m[I 2022-01-09 17:27:29,422]\u001b[0m Trial 7 finished with value: 0.9173180745775198 and parameters: {'vgg_b1': 370, 'vgg_b2': 351, 'vgg_b3': 285, 'dense': 648, 'dropout': 0.30000000000000004, 'lr': 1.9999878982282223e-05, 'batch_size': 17}. Best is trial 1 with value: 0.8538003005400426.\u001b[0m\n",
            "\u001b[32m[I 2022-01-09 17:48:59,758]\u001b[0m Trial 8 finished with value: 0.970559313589213 and parameters: {'vgg_b1': 399, 'vgg_b2': 223, 'vgg_b3': 308, 'dense': 259, 'dropout': 0.7000000000000001, 'lr': 1.3064656747928878e-05, 'batch_size': 51}. Best is trial 1 with value: 0.8538003005400426.\u001b[0m\n",
            "\u001b[32m[I 2022-01-09 17:50:51,638]\u001b[0m Trial 9 finished with value: 2.1159408791311862 and parameters: {'vgg_b1': 506, 'vgg_b2': 277, 'vgg_b3': 336, 'dense': 355, 'dropout': 0.6, 'lr': 0.01014034214456914, 'batch_size': 85}. Best is trial 1 with value: 0.8538003005400426.\u001b[0m\n",
            "\u001b[32m[I 2022-01-09 17:52:17,641]\u001b[0m Trial 10 finished with value: 2.3026118452185833 and parameters: {'vgg_b1': 137, 'vgg_b2': 292, 'vgg_b3': 151, 'dense': 404, 'dropout': 1.0, 'lr': 0.0007539244254643046, 'batch_size': 33}. Best is trial 1 with value: 0.8538003005400426.\u001b[0m\n",
            "\u001b[32m[I 2022-01-09 18:08:07,878]\u001b[0m Trial 11 finished with value: 0.8779827433663444 and parameters: {'vgg_b1': 314, 'vgg_b2': 358, 'vgg_b3': 464, 'dense': 500, 'dropout': 0.4, 'lr': 1.359546850655156e-05, 'batch_size': 27}. Best is trial 1 with value: 0.8538003005400426.\u001b[0m\n",
            "\u001b[32m[I 2022-01-09 18:12:25,817]\u001b[0m Trial 12 finished with value: 0.9928599794705705 and parameters: {'vgg_b1': 286, 'vgg_b2': 351, 'vgg_b3': 510, 'dense': 481, 'dropout': 0.5, 'lr': 0.00030648865735273913, 'batch_size': 32}. Best is trial 1 with value: 0.8538003005400426.\u001b[0m\n",
            "\u001b[32m[I 2022-01-09 18:16:12,951]\u001b[0m Trial 13 pruned. \u001b[0m\n",
            "\u001b[32m[I 2022-01-09 18:20:18,070]\u001b[0m Trial 14 finished with value: 2.3027173531055456 and parameters: {'vgg_b1': 307, 'vgg_b2': 136, 'vgg_b3': 484, 'dense': 450, 'dropout': 0.4, 'lr': 0.0019107435528946583, 'batch_size': 25}. Best is trial 1 with value: 0.8538003005400426.\u001b[0m\n",
            "\u001b[32m[I 2022-01-09 18:24:20,313]\u001b[0m Trial 15 pruned. \u001b[0m\n",
            "\u001b[32m[I 2022-01-09 18:28:34,995]\u001b[0m Trial 16 finished with value: 0.9710360651466702 and parameters: {'vgg_b1': 183, 'vgg_b2': 392, 'vgg_b3': 417, 'dense': 806, 'dropout': 0.4, 'lr': 0.0004394672803314361, 'batch_size': 23}. Best is trial 1 with value: 0.8538003005400426.\u001b[0m\n",
            "\u001b[32m[I 2022-01-09 18:34:13,305]\u001b[0m Trial 17 pruned. \u001b[0m\n",
            "\u001b[32m[I 2022-01-09 18:37:54,311]\u001b[0m Trial 18 finished with value: 0.9328236542642117 and parameters: {'vgg_b1': 339, 'vgg_b2': 318, 'vgg_b3': 139, 'dense': 468, 'dropout': 0.4, 'lr': 0.00024037964468769132, 'batch_size': 39}. Best is trial 1 with value: 0.8538003005400426.\u001b[0m\n",
            "\u001b[32m[I 2022-01-09 18:49:09,175]\u001b[0m Trial 19 finished with value: 0.8594228555448353 and parameters: {'vgg_b1': 424, 'vgg_b2': 244, 'vgg_b3': 407, 'dense': 415, 'dropout': 0.7000000000000001, 'lr': 3.136450432363738e-05, 'batch_size': 26}. Best is trial 1 with value: 0.8538003005400426.\u001b[0m\n",
            "\u001b[32m[I 2022-01-09 18:54:58,491]\u001b[0m Trial 20 pruned. \u001b[0m\n",
            "\u001b[32m[I 2022-01-09 19:00:02,795]\u001b[0m Trial 21 pruned. \u001b[0m\n",
            "\u001b[32m[I 2022-01-09 19:07:12,185]\u001b[0m Trial 22 finished with value: 0.9695012574436284 and parameters: {'vgg_b1': 340, 'vgg_b2': 295, 'vgg_b3': 441, 'dense': 546, 'dropout': 0.8, 'lr': 0.000132589105195643, 'batch_size': 21}. Best is trial 1 with value: 0.8538003005400426.\u001b[0m\n",
            "\u001b[32m[I 2022-01-09 19:10:58,123]\u001b[0m Trial 23 pruned. \u001b[0m\n",
            "\u001b[32m[I 2022-01-09 19:17:36,122]\u001b[0m Trial 24 finished with value: 0.8793295427244536 and parameters: {'vgg_b1': 231, 'vgg_b2': 197, 'vgg_b3': 206, 'dense': 435, 'dropout': 0.5, 'lr': 6.046048370778813e-05, 'batch_size': 51}. Best is trial 1 with value: 0.8538003005400426.\u001b[0m\n",
            "\u001b[32m[I 2022-01-09 19:21:41,670]\u001b[0m Trial 25 finished with value: 2.302633065572926 and parameters: {'vgg_b1': 327, 'vgg_b2': 272, 'vgg_b3': 450, 'dense': 287, 'dropout': 0.9, 'lr': 0.0009895984157195427, 'batch_size': 35}. Best is trial 1 with value: 0.8538003005400426.\u001b[0m\n",
            "\u001b[32m[I 2022-01-09 19:25:13,284]\u001b[0m Trial 26 finished with value: 0.9796114992436178 and parameters: {'vgg_b1': 382, 'vgg_b2': 317, 'vgg_b3': 265, 'dense': 519, 'dropout': 0.30000000000000004, 'lr': 0.00016720140088459775, 'batch_size': 23}. Best is trial 1 with value: 0.8538003005400426.\u001b[0m\n",
            "\u001b[32m[I 2022-01-09 19:31:49,340]\u001b[0m Trial 27 pruned. \u001b[0m\n",
            "\u001b[32m[I 2022-01-09 19:33:56,756]\u001b[0m Trial 28 finished with value: 2.3033253585591025 and parameters: {'vgg_b1': 195, 'vgg_b2': 235, 'vgg_b3': 379, 'dense': 608, 'dropout': 0.6, 'lr': 0.006701555276590694, 'batch_size': 42}. Best is trial 1 with value: 0.8538003005400426.\u001b[0m\n",
            "\u001b[32m[I 2022-01-09 19:39:05,950]\u001b[0m Trial 29 finished with value: 1.0034908101309177 and parameters: {'vgg_b1': 301, 'vgg_b2': 393, 'vgg_b3': 471, 'dense': 580, 'dropout': 0.1, 'lr': 5.5809854563142486e-05, 'batch_size': 29}. Best is trial 1 with value: 0.8538003005400426.\u001b[0m\n",
            "\u001b[32m[I 2022-01-09 19:42:07,542]\u001b[0m Trial 30 pruned. \u001b[0m\n",
            "\u001b[32m[I 2022-01-09 19:47:44,125]\u001b[0m Trial 31 finished with value: 0.8815758077495073 and parameters: {'vgg_b1': 231, 'vgg_b2': 186, 'vgg_b3': 208, 'dense': 426, 'dropout': 0.5, 'lr': 6.388393481294276e-05, 'batch_size': 60}. Best is trial 1 with value: 0.8538003005400426.\u001b[0m\n",
            "\u001b[32m[I 2022-01-09 19:52:07,526]\u001b[0m Trial 32 finished with value: 0.874182585053719 and parameters: {'vgg_b1': 161, 'vgg_b2': 205, 'vgg_b3': 197, 'dense': 440, 'dropout': 0.5, 'lr': 7.930129805507095e-05, 'batch_size': 48}. Best is trial 1 with value: 0.8538003005400426.\u001b[0m\n",
            "\u001b[32m[I 2022-01-09 19:54:49,195]\u001b[0m Trial 33 pruned. \u001b[0m\n",
            "\u001b[32m[I 2022-01-09 19:58:08,657]\u001b[0m Trial 34 finished with value: 0.8615798228979111 and parameters: {'vgg_b1': 129, 'vgg_b2': 260, 'vgg_b3': 244, 'dense': 1019, 'dropout': 0.6, 'lr': 0.00010372443791344133, 'batch_size': 50}. Best is trial 1 with value: 0.8538003005400426.\u001b[0m\n",
            "\u001b[32m[I 2022-01-09 20:02:53,732]\u001b[0m Trial 35 finished with value: 0.8468572935637306 and parameters: {'vgg_b1': 138, 'vgg_b2': 141, 'vgg_b3': 250, 'dense': 852, 'dropout': 0.7000000000000001, 'lr': 9.058519215325063e-05, 'batch_size': 49}. Best is trial 35 with value: 0.8468572935637306.\u001b[0m\n",
            "\u001b[32m[I 2022-01-09 20:04:00,344]\u001b[0m Trial 36 finished with value: 2.3064591855887904 and parameters: {'vgg_b1': 130, 'vgg_b2': 147, 'vgg_b3': 255, 'dense': 1016, 'dropout': 0.8, 'lr': 0.037906633402615846, 'batch_size': 60}. Best is trial 35 with value: 0.8468572935637306.\u001b[0m\n",
            "\u001b[32m[I 2022-01-09 20:07:30,138]\u001b[0m Trial 37 pruned. \u001b[0m\n",
            "\u001b[32m[I 2022-01-09 20:10:06,667]\u001b[0m Trial 38 finished with value: 0.9325450231631596 and parameters: {'vgg_b1': 145, 'vgg_b2': 152, 'vgg_b3': 225, 'dense': 916, 'dropout': 0.7000000000000001, 'lr': 0.0003701946567741201, 'batch_size': 83}. Best is trial 35 with value: 0.8468572935637306.\u001b[0m\n",
            "\u001b[32m[I 2022-01-09 20:12:17,309]\u001b[0m Trial 39 finished with value: 1.0199463226821985 and parameters: {'vgg_b1': 130, 'vgg_b2': 180, 'vgg_b3': 274, 'dense': 743, 'dropout': 0.6, 'lr': 0.0006663982177439894, 'batch_size': 56}. Best is trial 35 with value: 0.8468572935637306.\u001b[0m\n"
          ]
        }
      ],
      "source": [
        "pruner = optuna.pruners.MedianPruner(n_startup_trials=10, n_warmup_steps=15, n_min_trials=5)\n",
        "study = optuna.create_study(direction=\"minimize\", pruner=pruner)\n",
        "study.optimize(objective, n_trials=VGG_NTRIALS)"
      ]
    },
    {
      "cell_type": "code",
      "execution_count": null,
      "id": "9ec09f25",
      "metadata": {
        "execution": {
          "iopub.execute_input": "2022-01-09T20:12:18.601307Z",
          "iopub.status.busy": "2022-01-09T20:12:18.600754Z",
          "iopub.status.idle": "2022-01-09T20:12:18.606913Z",
          "shell.execute_reply": "2022-01-09T20:12:18.607602Z",
          "shell.execute_reply.started": "2022-01-08T17:27:09.951924Z"
        },
        "id": "9ec09f25",
        "outputId": "b5f5135f-c67b-4e69-bfa2-8963b3ce86ef",
        "papermill": {
          "duration": 0.650202,
          "end_time": "2022-01-09T20:12:18.607739",
          "exception": false,
          "start_time": "2022-01-09T20:12:17.957537",
          "status": "completed"
        },
        "tags": []
      },
      "outputs": [
        {
          "name": "stdout",
          "output_type": "stream",
          "text": [
            "Study statistics: \n",
            "  Number of finished trials:\t 40\n",
            "  Number of pruned trials:\t 10\n",
            "  Number of complete trials:\t 30\n",
            "\n",
            "Best trial:\n",
            "  Value:  0.8468572935637306\n",
            "  Params: \n",
            "    vgg_b1: 138\n",
            "    vgg_b2: 141\n",
            "    vgg_b3: 250\n",
            "    dense: 852\n",
            "    dropout: 0.7000000000000001\n",
            "    lr: 9.058519215325063e-05\n",
            "    batch_size: 49\n"
          ]
        }
      ],
      "source": [
        "from optuna.trial import TrialState\n",
        "\n",
        "pruned_trials = study.get_trials(deepcopy=False, states=[TrialState.PRUNED])\n",
        "complete_trials = study.get_trials(deepcopy=False, states=[TrialState.COMPLETE])\n",
        "\n",
        "print(\"Study statistics: \")\n",
        "print(\"  Number of finished trials:\\t\", len(study.trials))\n",
        "print(\"  Number of pruned trials:\\t\", len(pruned_trials))\n",
        "print(\"  Number of complete trials:\\t\", len(complete_trials))\n",
        "\n",
        "print(\"\\nBest trial:\")\n",
        "best_trial = study.best_trial\n",
        "\n",
        "print(\"  Value: \", best_trial.value)\n",
        "print(\"  Params: \")\n",
        "for key, value in best_trial.params.items():\n",
        "    print(\"    {}: {}\".format(key, value))"
      ]
    },
    {
      "cell_type": "markdown",
      "id": "806de90c",
      "metadata": {
        "id": "806de90c",
        "papermill": {
          "duration": 0.636038,
          "end_time": "2022-01-09T20:12:19.870202",
          "exception": false,
          "start_time": "2022-01-09T20:12:19.234164",
          "status": "completed"
        },
        "tags": []
      },
      "source": [
        "Trials either early stops (gradient descent loses momentum) or gets pruned (expected to not improve even if gradient descent continues). Pruning starts after 10 trials are completed, i.e. `n_startup_trials=10`. This is so that the pruner obtains enough information about the general behavior of the gradient descent optimizer before starting to prune. \n",
        "\n",
        "We set `n_warmup_steps=15` allowing each trial to train the network for 16 epochs before pruning, so that the completed trials will not be dominated by networks that descend quickly, but to shallow minimas. For example, shallow networks that possibly overfits the validation set. However, this comes at the price of wasting resources for training 16 epochs for around half of the number of trials. Finally, we set `n_min_trials=5` so that a higher number of trials at later steps can continue until it early stops or reaches max epochs."
      ]
    },
    {
      "cell_type": "code",
      "execution_count": null,
      "id": "f6b41b71",
      "metadata": {
        "id": "f6b41b71"
      },
      "outputs": [],
      "source": [
        "optuna.visualization.plot_intermediate_values(study)"
      ]
    },
    {
      "cell_type": "markdown",
      "id": "c1301819",
      "metadata": {
        "id": "c1301819"
      },
      "source": [
        "```{figure} ../img/optuna-6.png\n",
        "---\n",
        "scale: 50%\n",
        "name: optuna-6\n",
        "---\n",
        "```"
      ]
    },
    {
      "cell_type": "code",
      "execution_count": null,
      "id": "9c1058d4",
      "metadata": {
        "id": "9c1058d4"
      },
      "outputs": [],
      "source": [
        "optuna.visualization.plot_optimization_history(study)"
      ]
    },
    {
      "cell_type": "markdown",
      "id": "dfb7bdfd",
      "metadata": {
        "id": "dfb7bdfd"
      },
      "source": [
        "```{figure} ../img/optuna-7.png\n",
        "---\n",
        "scale: 50%\n",
        "name: optuna-7\n",
        "---\n",
        "```"
      ]
    },
    {
      "cell_type": "markdown",
      "id": "553c7d3d",
      "metadata": {
        "id": "553c7d3d"
      },
      "source": [
        "We can look at the distribution of best losses. Should have used a higher number of bins!"
      ]
    },
    {
      "cell_type": "code",
      "execution_count": null,
      "id": "c76afed7",
      "metadata": {
        "execution": {
          "iopub.execute_input": "2022-01-09T20:12:29.566267Z",
          "iopub.status.busy": "2022-01-09T20:12:29.565594Z",
          "iopub.status.idle": "2022-01-09T20:12:29.975454Z",
          "shell.execute_reply": "2022-01-09T20:12:29.975953Z",
          "shell.execute_reply.started": "2022-01-08T17:27:10.046483Z"
        },
        "id": "c76afed7",
        "outputId": "aad74bd4-f484-4f93-b012-86003dc7ea46",
        "papermill": {
          "duration": 1.052154,
          "end_time": "2022-01-09T20:12:29.976125",
          "exception": false,
          "start_time": "2022-01-09T20:12:28.923971",
          "status": "completed"
        },
        "tags": []
      },
      "outputs": [
        {
          "name": "stderr",
          "output_type": "stream",
          "text": [
            "/opt/conda/lib/python3.7/site-packages/seaborn/distributions.py:2619: FutureWarning:\n",
            "\n",
            "`distplot` is a deprecated function and will be removed in a future version. Please adapt your code to use either `displot` (a figure-level function with similar flexibility) or `histplot` (an axes-level function for histograms).\n",
            "\n"
          ]
        },
        {
          "data": {
            "image/png": "[encoded data removed]",
            "text/plain": [
              "<Figure size 640x320 with 1 Axes>"
            ]
          },
          "metadata": {
            "needs_background": "light"
          },
          "output_type": "display_data"
        }
      ],
      "source": [
        "import seaborn as sns\n",
        "plt.figure(figsize=(8, 4), dpi=80)\n",
        "sns.distplot(study.trials_dataframe().value.values);"
      ]
    },
    {
      "cell_type": "markdown",
      "id": "cece47f5",
      "metadata": {
        "id": "cece47f5",
        "papermill": {
          "duration": 0.623837,
          "end_time": "2022-01-09T20:12:27.028722",
          "exception": false,
          "start_time": "2022-01-09T20:12:26.404885",
          "status": "completed"
        },
        "tags": []
      },
      "source": [
        "### Analyzing hyperparameter interactions"
      ]
    },
    {
      "cell_type": "markdown",
      "id": "52e4107f",
      "metadata": {
        "id": "52e4107f",
        "papermill": {
          "duration": 0.632376,
          "end_time": "2022-01-09T20:12:28.289796",
          "exception": false,
          "start_time": "2022-01-09T20:12:27.657420",
          "status": "completed"
        },
        "tags": []
      },
      "source": [
        "The parallel coordinate plot below shows which combination of hyperparameters work. We can also use this to select low complexity models with similar performance to the best performance. "
      ]
    },
    {
      "cell_type": "code",
      "execution_count": null,
      "id": "f2c17dff",
      "metadata": {
        "id": "f2c17dff"
      },
      "outputs": [],
      "source": [
        "optuna.visualization.plot_parallel_coordinate(study)"
      ]
    },
    {
      "cell_type": "markdown",
      "id": "96b76177",
      "metadata": {
        "id": "96b76177"
      },
      "source": [
        "```{figure} ../img/optuna-8.png\n",
        "---\n",
        "scale: 50%\n",
        "name: optuna-8\n",
        "---\n",
        "```"
      ]
    },
    {
      "cell_type": "markdown",
      "id": "2de08cb4",
      "metadata": {
        "id": "2de08cb4"
      },
      "source": [
        "Slice plots can be used as guide to parameter ranges to search when making an updated study, i.e. re-running the experiment with tighter ranges. "
      ]
    },
    {
      "cell_type": "code",
      "execution_count": null,
      "id": "482ba348",
      "metadata": {
        "id": "482ba348"
      },
      "outputs": [],
      "source": [
        "fig = optuna.visualization.plot_slice(study)\n",
        "fig.update_layout(width=1200, height=450)"
      ]
    },
    {
      "cell_type": "markdown",
      "id": "3a07e3c9",
      "metadata": {
        "id": "3a07e3c9"
      },
      "source": [
        "```{figure} ../img/optuna-9.png\n",
        "---\n",
        "name: optuna-9\n",
        "---\n",
        "```"
      ]
    },
    {
      "cell_type": "code",
      "execution_count": null,
      "id": "e7b08512",
      "metadata": {
        "id": "e7b08512"
      },
      "outputs": [],
      "source": [
        "fig = optuna.visualization.plot_param_importances(study)\n",
        "fig.update_layout(width=800, height=500)"
      ]
    },
    {
      "cell_type": "markdown",
      "id": "0c2dc39b",
      "metadata": {
        "id": "0c2dc39b"
      },
      "source": [
        "```{figure} ../img/optuna-10.png\n",
        "---\n",
        "scale: 50%\n",
        "name: optuna-10\n",
        "---\n",
        "```"
      ]
    },
    {
      "cell_type": "markdown",
      "id": "f4f1bc3f",
      "metadata": {
        "id": "f4f1bc3f",
        "papermill": {
          "duration": 0.636327,
          "end_time": "2022-01-09T20:12:42.761757",
          "exception": false,
          "start_time": "2022-01-09T20:12:42.125430",
          "status": "completed"
        },
        "tags": []
      },
      "source": [
        "Turns out a low learning rate works for any size of the first VGG block and batch size."
      ]
    },
    {
      "cell_type": "code",
      "execution_count": null,
      "id": "65a62c19",
      "metadata": {
        "id": "65a62c19"
      },
      "outputs": [],
      "source": [
        "fig = optuna.visualization.plot_contour(study, params=['lr', 'batch_size', 'vgg_b1'])\n",
        "fig.update_layout(autosize=False, width=900, height=700)"
      ]
    },
    {
      "cell_type": "markdown",
      "id": "9d6d00a4",
      "metadata": {
        "id": "9d6d00a4"
      },
      "source": [
        "```{figure} ../img/optuna-11.png\n",
        "---\n",
        "name: optuna-11\n",
        "---\n",
        "```"
      ]
    },
    {
      "cell_type": "markdown",
      "id": "271b6190",
      "metadata": {
        "id": "271b6190",
        "papermill": {
          "duration": 0.632826,
          "end_time": "2022-01-09T20:12:45.553178",
          "exception": false,
          "start_time": "2022-01-09T20:12:44.920352",
          "status": "completed"
        },
        "tags": []
      },
      "source": [
        "For the bottom part of the network, a large width for the fully-connected block seems to work well. Meanwhile the size of the 3rd VGG block seem to be multimodal."
      ]
    },
    {
      "cell_type": "code",
      "execution_count": null,
      "id": "d6196570",
      "metadata": {
        "id": "d6196570"
      },
      "outputs": [],
      "source": [
        "fig = optuna.visualization.plot_contour(study, params=['vgg_b3', 'dense', 'dropout'])\n",
        "fig.update_layout(autosize=False, width=900, height=700)"
      ]
    },
    {
      "cell_type": "markdown",
      "id": "2864b88e",
      "metadata": {
        "id": "2864b88e"
      },
      "source": [
        "```{figure} ../img/optuna-12.png\n",
        "---\n",
        "name: optuna-12\n",
        "---\n",
        "```"
      ]
    },
    {
      "cell_type": "markdown",
      "id": "cd4d8796",
      "metadata": {
        "id": "cd4d8796",
        "papermill": {
          "duration": 0.636189,
          "end_time": "2022-01-09T20:12:49.839645",
          "exception": false,
          "start_time": "2022-01-09T20:12:49.203456",
          "status": "completed"
        },
        "tags": []
      },
      "source": [
        "In conclusion, the search results don't look too good. Perhaps because we used (6, 6) for the spatial dimension of the average pooling at the end. Also, the size of the CIFAR-10 images is too small (32x32). Moreover, the dataset is reduced to half (25,000 images). But it's nice to see how hyperparameter tuning can be used to inform neural architecture search. "
      ]
    },
    {
      "cell_type": "markdown",
      "id": "ba4bc0bd",
      "metadata": {
        "id": "ba4bc0bd",
        "papermill": {
          "duration": 0.643389,
          "end_time": "2022-01-09T20:12:51.124382",
          "exception": false,
          "start_time": "2022-01-09T20:12:50.480993",
          "status": "completed"
        },
        "tags": []
      },
      "source": [
        "## Appendix: Hyperparameters of commonly used models"
      ]
    },
    {
      "cell_type": "markdown",
      "id": "120596e5",
      "metadata": {
        "id": "120596e5",
        "papermill": {
          "duration": 0.651971,
          "end_time": "2022-01-09T20:12:52.424421",
          "exception": false,
          "start_time": "2022-01-09T20:12:51.772450",
          "status": "completed"
        },
        "tags": []
      },
      "source": [
        "<br>"
      ]
    },
    {
      "cell_type": "markdown",
      "id": "96119773",
      "metadata": {
        "id": "96119773",
        "papermill": {
          "duration": 0.65556,
          "end_time": "2022-01-09T20:12:53.713188",
          "exception": false,
          "start_time": "2022-01-09T20:12:53.057628",
          "status": "completed"
        },
        "tags": []
      },
      "source": [
        "```{figure} ../img/hyp.png\n",
        "---\n",
        "name: hyp\n",
        "---\n",
        "Table from p. 184 of {cite}`AAAMLP`. **RS**$^*$ implies random search should be better.\n",
        "```"
      ]
    },
    {
      "cell_type": "markdown",
      "id": "6840c60c",
      "metadata": {
        "id": "6840c60c",
        "papermill": {
          "duration": 1.019948,
          "end_time": "2022-01-09T20:12:55.440002",
          "exception": false,
          "start_time": "2022-01-09T20:12:54.420054",
          "status": "completed"
        },
        "tags": []
      },
      "source": [
        "### Auto XGBoost\n",
        "\n",
        "The following search space is used to tune XGBoost in the [autoxgb](https://github.com/abhishekkrthakur/autoxgb) package:\n",
        "\n",
        "```python\n",
        "#https://github.com/abhishekkrthakur/autoxgb/blob/main/src/autoxgb/params.py\n",
        "def get_params(trial, model_config):\n",
        "    \n",
        "    params = {\n",
        "        \"learning_rate\": trial.suggest_float(\"learning_rate\", 1e-2, 0.25, log=True),\n",
        "        \"reg_lambda\": trial.suggest_float(\"reg_lambda\", 1e-8, 100.0, log=True),\n",
        "        \"reg_alpha\": trial.suggest_float(\"reg_alpha\", 1e-8, 100.0, log=True),\n",
        "        \"subsample\": trial.suggest_float(\"subsample\", 0.1, 1.0),\n",
        "        \"colsample_bytree\": trial.suggest_float(\"colsample_bytree\", 0.1, 1.0),\n",
        "        \"max_depth\": trial.suggest_int(\"max_depth\", 1, 9),\n",
        "        \"early_stopping_rounds\": trial.suggest_int(\"early_stopping_rounds\", 100, 500),\n",
        "        \"n_estimators\": trial.suggest_categorical(\"n_estimators\", [7000, 15000, 20000]),\n",
        "    }\n",
        "    \n",
        "    if model_config.use_gpu:\n",
        "        params[\"tree_method\"] = \"gpu_hist\"\n",
        "        params[\"gpu_id\"] = 0\n",
        "        params[\"predictor\"] = \"gpu_predictor\"\n",
        "    else:\n",
        "        params[\"tree_method\"] = trial.suggest_categorical(\"tree_method\", [\"exact\", \"approx\", \"hist\"])\n",
        "        params[\"booster\"] = trial.suggest_categorical(\"booster\", [\"gbtree\", \"gblinear\"])\n",
        "        if params[\"booster\"] == \"gbtree\":\n",
        "            params[\"gamma\"] = trial.suggest_float(\"gamma\", 1e-8, 1.0, log=True)\n",
        "            params[\"grow_policy\"] = trial.suggest_categorical(\"grow_policy\", [\"depthwise\", \"lossguide\"])\n",
        "\n",
        "    return params\n",
        "```"
      ]
    }
  ],
  "metadata": {
    "colab": {
      "name": "optuna.ipynb",
      "provenance": []
    },
    "kernelspec": {
      "display_name": "Python 3",
      "language": "python",
      "name": "python3"
    },
    "language_info": {
      "codemirror_mode": {
        "name": "ipython",
        "version": 3
      },
      "file_extension": ".py",
      "mimetype": "text/x-python",
      "name": "python",
      "nbconvert_exporter": "python",
      "pygments_lexer": "ipython3",
      "version": "3.8.12"
    },
    "papermill": {
      "default_parameters": {},
      "duration": 12583.70227,
      "end_time": "2022-01-09T20:12:57.770361",
      "environment_variables": {},
      "exception": null,
      "input_path": "__notebook__.ipynb",
      "output_path": "__notebook__.ipynb",
      "parameters": {},
      "start_time": "2022-01-09T16:43:14.068091",
      "version": "2.3.3"
    },
    "widgets": {
      "application/vnd.jupyter.widget-state+json": {}
    }
  },
  "nbformat": 4,
  "nbformat_minor": 5
}
