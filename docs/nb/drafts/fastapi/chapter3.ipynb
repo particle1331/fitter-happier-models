{
 "cells": [
  {
   "cell_type": "markdown",
   "id": "85bb14eb",
   "metadata": {},
   "source": [
    "# Developing a RESTful API"
   ]
  },
  {
   "cell_type": "markdown",
   "id": "867de1ef",
   "metadata": {},
   "source": [
    "```{admonition} Attribution\n",
    "This notebook follows Chapter 3: *Developing a RESTful API with FastAPI* of {cite}`Voron2021`. Source files for running the background local servers can be found [here](https://github.com/particle1331/machine-learning/tree/master/docs/notebooks/fastapi/src/chapter3).\n",
    "```"
   ]
  },
  {
   "cell_type": "markdown",
   "id": "eb3e23a6",
   "metadata": {},
   "source": [
    "This notebook covers the basics of creating API endpoints in \n",
    "FastAPI. We will go through simple and focused examples that will demonstrate the different features of FastAPI. Each example will lead to a working API endpoint that can be tested locally using HTTPie."
   ]
  },
  {
   "cell_type": "markdown",
   "id": "b6b3c945",
   "metadata": {},
   "source": [
    "## Hello, World!"
   ]
  },
  {
   "cell_type": "markdown",
   "id": "877ecdee",
   "metadata": {},
   "source": [
    "Let us quickly create a simple endpoint which has a GET method.\n",
    "\n",
    "```python\n",
    "# chapter3/hello_world.py\n",
    "from fastapi import FastAPI\n",
    "\n",
    "app = FastAPI()\n",
    "\n",
    "@app.get(\"/\")\n",
    "async def hello_world():\n",
    "    return {\"hello\": \"world\"}\n",
    "```"
   ]
  },
  {
   "cell_type": "markdown",
   "id": "445db4c0",
   "metadata": {},
   "source": [
    "The path function `hello_world` contains our route logic for the path `/` specified in the decorator. The decorator also specifies what HTTP method this function implements. The return value is automatically handled by FastAPI to produce a proper HTTP response with a JSON payload."
   ]
  },
  {
   "cell_type": "markdown",
   "id": "a6f6c9d3",
   "metadata": {},
   "source": [
    "Here `app` is the main application object that will wire all of the API routes. We will \n",
    "start the server in the terminal as follows: \n",
    "\n",
    "```\n",
    "$ uvicorn hello_world:app --reload\n",
    "INFO:     Started server process [14121]\n",
    "INFO:     Waiting for application startup.\n",
    "INFO:     Application startup complete.\n",
    "INFO:     Uvicorn running on http://127.0.0.1:8000 (Press CTRL+C to quit)\n",
    "```\n",
    "\n",
    "Then, we perform the following GET request."
   ]
  },
  {
   "cell_type": "code",
   "execution_count": 22,
   "id": "b11111dc",
   "metadata": {},
   "outputs": [
    {
     "data": {
      "text/plain": [
       "{'hello': 'world'}"
      ]
     },
     "execution_count": 22,
     "metadata": {},
     "output_type": "execute_result"
    }
   ],
   "source": [
    "import requests\n",
    "root = \"http://127.0.0.1:8000\"\n",
    "path = \"/\"\n",
    "\n",
    "response = requests.get(root + path)\n",
    "response.json()"
   ]
  },
  {
   "cell_type": "markdown",
   "id": "64128f1e",
   "metadata": {},
   "source": [
    "## HTTPie"
   ]
  },
  {
   "cell_type": "markdown",
   "id": "c0dc191a",
   "metadata": {},
   "source": [
    "Before delving into the details of building REST APIs, we need to have a tool for making HTTP requests. We will be using **HTTPie**, a command-line tool aimed at making HTTP\n",
    "requests with an intuitive syntax, JSON support, and syntax highlighting."
   ]
  },
  {
   "cell_type": "markdown",
   "id": "b4d4ea3b",
   "metadata": {},
   "source": [
    "> HTTPie (pronounced *aitch*-*tee-tee-pie*) is a command-line HTTP client. Its goal is to make CLI interaction with web services as human-friendly as possible. HTTPie is designed for testing, debugging, and generally interacting with APIs & HTTP servers. The `http` & `https` commands allow for creating and sending arbitrary HTTP requests. They use simple and natural syntax and provide formatted and colorized output."
   ]
  },
  {
   "cell_type": "markdown",
   "id": "f7a373ac",
   "metadata": {},
   "source": [
    "The general form of an HTTPie request is:"
   ]
  },
  {
   "cell_type": "markdown",
   "id": "6ca8c356",
   "metadata": {},
   "source": [
    "```\n",
    "http [flags] [METHOD] URL [ITEM [ITEM]]\n",
    "```"
   ]
  },
  {
   "cell_type": "markdown",
   "id": "a4714eb5",
   "metadata": {},
   "source": [
    "For our local server, we can call:"
   ]
  },
  {
   "cell_type": "code",
   "execution_count": 24,
   "id": "aeee5a21",
   "metadata": {},
   "outputs": [
    {
     "name": "stdout",
     "output_type": "stream",
     "text": [
      "\u001b[32mGET\u001b[39;49;00m \u001b[04m\u001b[36m/\u001b[39;49;00m \u001b[34mHTTP\u001b[39;49;00m/\u001b[34m1.1\u001b[39;49;00m\n",
      "\u001b[36mAccept\u001b[39;49;00m: */*\n",
      "\u001b[36mAccept-Encoding\u001b[39;49;00m: gzip, deflate, br\n",
      "\u001b[36mConnection\u001b[39;49;00m: keep-alive\n",
      "\u001b[36mHost\u001b[39;49;00m: 127.0.0.1:8000\n",
      "\u001b[36mUser-Agent\u001b[39;49;00m: HTTPie/2.6.0\n",
      "\n",
      "\n",
      "\n",
      "\u001b[34mHTTP\u001b[39;49;00m/\u001b[34m1.1\u001b[39;49;00m \u001b[34m200\u001b[39;49;00m \u001b[36mOK\u001b[39;49;00m\n",
      "\u001b[36mcontent-length\u001b[39;49;00m: 17\n",
      "\u001b[36mcontent-type\u001b[39;49;00m: application/json\n",
      "\u001b[36mdate\u001b[39;49;00m: Sun, 26 Dec 2021 17:27:14 GMT\n",
      "\u001b[36mserver\u001b[39;49;00m: uvicorn\n",
      "\n",
      "{\n",
      "    \u001b[94m\"hello\"\u001b[39;49;00m: \u001b[33m\"world\"\u001b[39;49;00m\n",
      "}\n",
      "\n",
      "\n"
     ]
    }
   ],
   "source": [
    "!http -v GET http://127.0.0.1:8000/"
   ]
  },
  {
   "cell_type": "markdown",
   "id": "b923f945",
   "metadata": {},
   "source": [
    "The flag `-v` or `--verbose` is used here to print both the request and response. HTTPie also provides an `https` executable for dealing with URLs with `https://`. "
   ]
  },
  {
   "cell_type": "markdown",
   "id": "eeca50b6",
   "metadata": {},
   "source": [
    "### Optional GET and POST"
   ]
  },
  {
   "cell_type": "markdown",
   "id": "ba26e90b",
   "metadata": {},
   "source": [
    "The `METHOD` argument is optional, and when you don’t specify it, HTTPie defaults to:\n",
    "\n",
    "- `GET` for requests without body\n",
    "- `POST` for requests with body"
   ]
  },
  {
   "cell_type": "markdown",
   "id": "57f06562",
   "metadata": {},
   "source": [
    "For example, the following is a GET request. "
   ]
  },
  {
   "cell_type": "code",
   "execution_count": 21,
   "id": "1ed8aa16",
   "metadata": {},
   "outputs": [
    {
     "name": "stdout",
     "output_type": "stream",
     "text": [
      "\u001b[32mGET\u001b[39;49;00m \u001b[04m\u001b[36m/\u001b[39;49;00m \u001b[34mHTTP\u001b[39;49;00m/\u001b[34m1.1\u001b[39;49;00m\n",
      "\u001b[36mAccept\u001b[39;49;00m: */*\n",
      "\u001b[36mAccept-Encoding\u001b[39;49;00m: gzip, deflate, br\n",
      "\u001b[36mConnection\u001b[39;49;00m: keep-alive\n",
      "\u001b[36mHost\u001b[39;49;00m: 127.0.0.1:8000\n",
      "\u001b[36mUser-Agent\u001b[39;49;00m: HTTPie/2.6.0\n",
      "\n",
      "\n",
      "\n",
      "\u001b[34mHTTP\u001b[39;49;00m/\u001b[34m1.1\u001b[39;49;00m \u001b[34m200\u001b[39;49;00m \u001b[36mOK\u001b[39;49;00m\n",
      "\u001b[36mcontent-length\u001b[39;49;00m: 17\n",
      "\u001b[36mcontent-type\u001b[39;49;00m: application/json\n",
      "\u001b[36mdate\u001b[39;49;00m: Sun, 26 Dec 2021 17:24:26 GMT\n",
      "\u001b[36mserver\u001b[39;49;00m: uvicorn\n",
      "\n",
      "{\n",
      "    \u001b[94m\"hello\"\u001b[39;49;00m: \u001b[33m\"world\"\u001b[39;49;00m\n",
      "}\n",
      "\n",
      "\n"
     ]
    }
   ],
   "source": [
    "# !http -v GET http://127.0.0.1:8000/\n",
    "!http -v http://127.0.0.1:8000/"
   ]
  },
  {
   "cell_type": "markdown",
   "id": "9e7e4819",
   "metadata": {},
   "source": [
    "On the other hand, the following request has data, so that the following defaults to a POST request. We add the function below which has a POST method to our main app. "
   ]
  },
  {
   "cell_type": "markdown",
   "id": "48f6e27b",
   "metadata": {},
   "source": [
    "```python\n",
    "# chapter3/hello_world.py\n",
    "\n",
    "@app.post(\"/\")\n",
    "async def message(msg: str = Body(..., embed=True)):\n",
    "    return {\"message\": msg}\n",
    "```"
   ]
  },
  {
   "cell_type": "code",
   "execution_count": 25,
   "id": "a6e8d514",
   "metadata": {},
   "outputs": [
    {
     "name": "stdout",
     "output_type": "stream",
     "text": [
      "\u001b[32mPOST\u001b[39;49;00m \u001b[04m\u001b[36m/\u001b[39;49;00m \u001b[34mHTTP\u001b[39;49;00m/\u001b[34m1.1\u001b[39;49;00m\n",
      "\u001b[36mAccept\u001b[39;49;00m: application/json, */*;q=0.5\n",
      "\u001b[36mAccept-Encoding\u001b[39;49;00m: gzip, deflate, br\n",
      "\u001b[36mConnection\u001b[39;49;00m: keep-alive\n",
      "\u001b[36mContent-Length\u001b[39;49;00m: 16\n",
      "\u001b[36mContent-Type\u001b[39;49;00m: application/json\n",
      "\u001b[36mHost\u001b[39;49;00m: 127.0.0.1:8000\n",
      "\u001b[36mUser-Agent\u001b[39;49;00m: HTTPie/2.6.0\n",
      "\n",
      "{\n",
      "    \u001b[94m\"msg\"\u001b[39;49;00m: \u001b[33m\"Hello\"\u001b[39;49;00m\n",
      "}\n",
      "\n",
      "\n",
      "\u001b[34mHTTP\u001b[39;49;00m/\u001b[34m1.1\u001b[39;49;00m \u001b[34m200\u001b[39;49;00m \u001b[36mOK\u001b[39;49;00m\n",
      "\u001b[36mcontent-length\u001b[39;49;00m: 19\n",
      "\u001b[36mcontent-type\u001b[39;49;00m: application/json\n",
      "\u001b[36mdate\u001b[39;49;00m: Sun, 26 Dec 2021 17:27:31 GMT\n",
      "\u001b[36mserver\u001b[39;49;00m: uvicorn\n",
      "\n",
      "{\n",
      "    \u001b[94m\"message\"\u001b[39;49;00m: \u001b[33m\"Hello\"\u001b[39;49;00m\n",
      "}\n",
      "\n",
      "\n"
     ]
    }
   ],
   "source": [
    "!http -v http://127.0.0.1:8000/ msg=\"Hello\""
   ]
  },
  {
   "cell_type": "markdown",
   "id": "5d4557ec",
   "metadata": {},
   "source": [
    "### Querystring parameters "
   ]
  },
  {
   "cell_type": "markdown",
   "id": "ebec8918",
   "metadata": {},
   "source": [
    "HTTPie provides `param==value` syntax for appending URL querystring parameters. With that, you don’t have to worry about escaping the `&` separators for your shell. Thus, the following are then equivalent:"
   ]
  },
  {
   "cell_type": "code",
   "execution_count": null,
   "metadata": {},
   "outputs": [],
   "source": [
    "!http :8000/ p==foo q==bar\n",
    "!http \":8000/?p=foo&q=bar\""
   ]
  },
  {
   "cell_type": "markdown",
   "id": "a337b74c",
   "metadata": {},
   "source": [
    "### URL shortcuts for localhost"
   ]
  },
  {
   "cell_type": "markdown",
   "id": "e7e47eb5",
   "metadata": {},
   "source": [
    "Shorthand for `localhost` is supported. For example, `:8000` would expand to `http://localhost:8000`. If the port is omitted, then port 80 is assumed."
   ]
  },
  {
   "cell_type": "code",
   "execution_count": 11,
   "id": "6a429f8c",
   "metadata": {},
   "outputs": [
    {
     "name": "stdout",
     "output_type": "stream",
     "text": [
      "\u001b[34mHTTP\u001b[39;49;00m/\u001b[34m1.1\u001b[39;49;00m \u001b[34m200\u001b[39;49;00m \u001b[36mOK\u001b[39;49;00m\n",
      "\u001b[36mcontent-length\u001b[39;49;00m: 17\n",
      "\u001b[36mcontent-type\u001b[39;49;00m: application/json\n",
      "\u001b[36mdate\u001b[39;49;00m: Sun, 26 Dec 2021 17:19:09 GMT\n",
      "\u001b[36mserver\u001b[39;49;00m: uvicorn\n",
      "\n",
      "{\n",
      "    \u001b[94m\"hello\"\u001b[39;49;00m: \u001b[33m\"world\"\u001b[39;49;00m\n",
      "}\n",
      "\n",
      "\n"
     ]
    }
   ],
   "source": [
    "!http :8000/"
   ]
  },
  {
   "cell_type": "markdown",
   "id": "bf32b375",
   "metadata": {},
   "source": [
    "## Automatic documentation"
   ]
  },
  {
   "cell_type": "markdown",
   "id": "82fbd07d",
   "metadata": {},
   "source": [
    "One of the most beloved features of FastAPI is the automatic interactive documentation.\n",
    "If you open `http://localhost:8000/docs` in your browser, you should get a web\n",
    "interface that looks similar to the following screenshot:"
   ]
  },
  {
   "cell_type": "markdown",
   "id": "e5cb7f95",
   "metadata": {},
   "source": [
    "```{figure} ../../img/fastapi-docs.png\n",
    "---\n",
    "width: 40em\n",
    "name: fastapi-docs\n",
    "---\n",
    "\n",
    "```"
   ]
  },
  {
   "cell_type": "markdown",
   "id": "f253fe05",
   "metadata": {},
   "source": [
    "FastAPI automatically lists all defined endpoints and provide documentation about the expected inputs and outputs. You can even try each endpoint directly in this web interface."
   ]
  },
  {
   "cell_type": "markdown",
   "id": "06cfddac",
   "metadata": {},
   "source": [
    "## Handling request parameters"
   ]
  },
  {
   "cell_type": "markdown",
   "id": "6b46837b",
   "metadata": {},
   "source": [
    "The main goal of a REST API is to provide a structured way in which to interact with data. As such, it's crucial for the end-user to send some information to tailor the response they need, such as the following: \n",
    "\n",
    "   - path parameters\n",
    "   - query parameters\n",
    "   - body payloads\n",
    "   - headers"
   ]
  },
  {
   "cell_type": "markdown",
   "id": "2aee501b",
   "metadata": {},
   "source": [
    "To handle them, usually, web frameworks ask you to manipulate a request object to retrieve \n",
    "   the parts you are interested in and manually apply validation. However, that's not necessary \n",
    "   with FastAPI. Indeed, it allows you to define all of your parameters declaratively. Then, \n",
    "   it'll automatically retrieve them in the request and apply validations based on the type \n",
    "   hints as we will see below."
   ]
  },
  {
   "cell_type": "markdown",
   "id": "ab3e5196",
   "metadata": {},
   "source": [
    "### Path parameters"
   ]
  },
  {
   "cell_type": "markdown",
   "id": "51bff437",
   "metadata": {},
   "source": [
    "We can have dynamic parameters in our paths which can then be passed to the path function. For example:\n",
    "\n",
    "```python\n",
    "# chapter3/path_parameters.py\n",
    "\n",
    "@app.get(\"/v1/users/{id}\")\n",
    "async def get_user(id: int):\n",
    "    return {\"id\": id}\n",
    "```"
   ]
  },
  {
   "cell_type": "markdown",
   "id": "df1fe9f0",
   "metadata": {},
   "source": [
    "Then, we can make the following request for `id=123` (or for any other integer):"
   ]
  },
  {
   "cell_type": "code",
   "execution_count": 29,
   "id": "5c8a4ec4",
   "metadata": {},
   "outputs": [
    {
     "name": "stdout",
     "output_type": "stream",
     "text": [
      "\u001b[34mHTTP\u001b[39;49;00m/\u001b[34m1.1\u001b[39;49;00m \u001b[34m200\u001b[39;49;00m \u001b[36mOK\u001b[39;49;00m\n",
      "\u001b[36mcontent-length\u001b[39;49;00m: 10\n",
      "\u001b[36mcontent-type\u001b[39;49;00m: application/json\n",
      "\u001b[36mdate\u001b[39;49;00m: Sun, 26 Dec 2021 17:37:55 GMT\n",
      "\u001b[36mserver\u001b[39;49;00m: uvicorn\n",
      "\n",
      "{\n",
      "    \u001b[94m\"id\"\u001b[39;49;00m: \u001b[34m123\u001b[39;49;00m\n",
      "}\n",
      "\n",
      "\n"
     ]
    }
   ],
   "source": [
    "!http :8000/v1/users/123"
   ]
  },
  {
   "cell_type": "markdown",
   "id": "394cb7f3",
   "metadata": {},
   "source": [
    "Notice the **type hint** in the path parameter `id`. If we pass a string into `id`, we get a response with a 422 status! Since this cannot be converted as a valid integer, the validation fails and outputs an error. All we need to do to trigger this validation is to type hint our parameter! Very cool."
   ]
  },
  {
   "cell_type": "markdown",
   "id": "5282b5ed",
   "metadata": {},
   "source": [
    "#### Validation logic for path parameters\n",
    "\n",
    "**Enumeration**. In the example below, `type` is a categorical parameter with two accepted values. We inherit from the `str` type and `Enum` class to facilitate the intended typing. We simply list the property name and its actual string value. "
   ]
  },
  {
   "cell_type": "markdown",
   "id": "7b54a8cf",
   "metadata": {},
   "source": [
    "```python\n",
    "# chapter3/path_parameters.py\n",
    "\n",
    "class UserType(str, Enum):\n",
    "    STANDARD = \"standard\"\n",
    "    ADMIN = \"admin\"\n",
    "\n",
    "\n",
    "@app.get(\"/v2/users/{type}/{id}\")\n",
    "async def get_user(id: int, type: UserType):\n",
    "    return {\"id\": id, \"type\": type}\n",
    "```\n"
   ]
  },
  {
   "cell_type": "markdown",
   "id": "758cc810",
   "metadata": {},
   "source": [
    "Note that the actual string value is what is passed in the `type` parameter (not the property name). If we pass a value that is not in the enumeration, we get an error."
   ]
  },
  {
   "cell_type": "code",
   "execution_count": 30,
   "id": "15ccf4f6",
   "metadata": {},
   "outputs": [
    {
     "name": "stdout",
     "output_type": "stream",
     "text": [
      "\u001b[34mHTTP\u001b[39;49;00m/\u001b[34m1.1\u001b[39;49;00m \u001b[34m200\u001b[39;49;00m \u001b[36mOK\u001b[39;49;00m\n",
      "\u001b[36mcontent-length\u001b[39;49;00m: 23\n",
      "\u001b[36mcontent-type\u001b[39;49;00m: application/json\n",
      "\u001b[36mdate\u001b[39;49;00m: Sun, 26 Dec 2021 17:38:07 GMT\n",
      "\u001b[36mserver\u001b[39;49;00m: uvicorn\n",
      "\n",
      "{\n",
      "    \u001b[94m\"id\"\u001b[39;49;00m: \u001b[34m3\u001b[39;49;00m,\n",
      "    \u001b[94m\"type\"\u001b[39;49;00m: \u001b[33m\"admin\"\u001b[39;49;00m\n",
      "}\n",
      "\n",
      "\n"
     ]
    }
   ],
   "source": [
    "!http :8000/v2/users/admin/3"
   ]
  },
  {
   "cell_type": "code",
   "execution_count": 31,
   "id": "05eaaba8",
   "metadata": {},
   "outputs": [
    {
     "name": "stdout",
     "output_type": "stream",
     "text": [
      "\u001b[34mHTTP\u001b[39;49;00m/\u001b[34m1.1\u001b[39;49;00m \u001b[34m422\u001b[39;49;00m \u001b[36mUnprocessable Entity\u001b[39;49;00m\n",
      "\u001b[36mcontent-length\u001b[39;49;00m: 184\n",
      "\u001b[36mcontent-type\u001b[39;49;00m: application/json\n",
      "\u001b[36mdate\u001b[39;49;00m: Sun, 26 Dec 2021 17:38:19 GMT\n",
      "\u001b[36mserver\u001b[39;49;00m: uvicorn\n",
      "\n",
      "{\n",
      "    \u001b[94m\"detail\"\u001b[39;49;00m: [\n",
      "        {\n",
      "            \u001b[94m\"ctx\"\u001b[39;49;00m: {\n",
      "                \u001b[94m\"enum_values\"\u001b[39;49;00m: [\n",
      "                    \u001b[33m\"standard\"\u001b[39;49;00m,\n",
      "                    \u001b[33m\"admin\"\u001b[39;49;00m\n",
      "                ]\n",
      "            },\n",
      "            \u001b[94m\"loc\"\u001b[39;49;00m: [\n",
      "                \u001b[33m\"path\"\u001b[39;49;00m,\n",
      "                \u001b[33m\"type\"\u001b[39;49;00m\n",
      "            ],\n",
      "            \u001b[94m\"msg\"\u001b[39;49;00m: \u001b[33m\"value is not a valid enumeration member; permitted: 'standard', 'admin'\"\u001b[39;49;00m,\n",
      "            \u001b[94m\"type\"\u001b[39;49;00m: \u001b[33m\"type_error.enum\"\u001b[39;49;00m\n",
      "        }\n",
      "    ]\n",
      "}\n",
      "\n",
      "\n"
     ]
    }
   ],
   "source": [
    "!http :8000/v2/users/dog/3"
   ]
  },
  {
   "cell_type": "markdown",
   "id": "5bb6eb34",
   "metadata": {},
   "source": [
    "**Integer bounds**. For integers we can use the `Path` object from the `fastapi` library. In the example below, we set a lower bound to `id` so that it only takes positive values. "
   ]
  },
  {
   "cell_type": "markdown",
   "id": "b810b3c0",
   "metadata": {},
   "source": [
    "```python\n",
    "# chapter3/path_parameters.py\n",
    "from fastapi import FastAPI, Path\n",
    "app = FastAPI()\n",
    "\n",
    "@app.get(\"/v3/users/{id}\")\n",
    "async def get_user(id: int = Path(..., ge=1)):\n",
    "    return {\"id\": id, \"type\": type}\n",
    "```"
   ]
  },
  {
   "cell_type": "markdown",
   "id": "26cf08af",
   "metadata": {},
   "source": [
    "i.e. `id >= 1`. Other possible arguments are `gt`, `lt`, `le`, etc. The `Path` function \n",
    "requires a first argument which becomes the default argument, using `...` indicates that \n",
    "we don't want to set a default argument. \n"
   ]
  },
  {
   "cell_type": "code",
   "execution_count": 32,
   "id": "5ba03066",
   "metadata": {},
   "outputs": [
    {
     "name": "stdout",
     "output_type": "stream",
     "text": [
      "\u001b[34mHTTP\u001b[39;49;00m/\u001b[34m1.1\u001b[39;49;00m \u001b[34m200\u001b[39;49;00m \u001b[36mOK\u001b[39;49;00m\n",
      "\u001b[36mcontent-length\u001b[39;49;00m: 8\n",
      "\u001b[36mcontent-type\u001b[39;49;00m: application/json\n",
      "\u001b[36mdate\u001b[39;49;00m: Sun, 26 Dec 2021 17:38:37 GMT\n",
      "\u001b[36mserver\u001b[39;49;00m: uvicorn\n",
      "\n",
      "{\n",
      "    \u001b[94m\"id\"\u001b[39;49;00m: \u001b[34m3\u001b[39;49;00m\n",
      "}\n",
      "\n",
      "\n"
     ]
    }
   ],
   "source": [
    "!http :8000/v3/users/3"
   ]
  },
  {
   "cell_type": "code",
   "execution_count": 33,
   "id": "94d56583",
   "metadata": {},
   "outputs": [
    {
     "name": "stdout",
     "output_type": "stream",
     "text": [
      "\u001b[34mHTTP\u001b[39;49;00m/\u001b[34m1.1\u001b[39;49;00m \u001b[34m422\u001b[39;49;00m \u001b[36mUnprocessable Entity\u001b[39;49;00m\n",
      "\u001b[36mcontent-length\u001b[39;49;00m: 149\n",
      "\u001b[36mcontent-type\u001b[39;49;00m: application/json\n",
      "\u001b[36mdate\u001b[39;49;00m: Sun, 26 Dec 2021 17:38:41 GMT\n",
      "\u001b[36mserver\u001b[39;49;00m: uvicorn\n",
      "\n",
      "{\n",
      "    \u001b[94m\"detail\"\u001b[39;49;00m: [\n",
      "        {\n",
      "            \u001b[94m\"ctx\"\u001b[39;49;00m: {\n",
      "                \u001b[94m\"limit_value\"\u001b[39;49;00m: \u001b[34m1\u001b[39;49;00m\n",
      "            },\n",
      "            \u001b[94m\"loc\"\u001b[39;49;00m: [\n",
      "                \u001b[33m\"path\"\u001b[39;49;00m,\n",
      "                \u001b[33m\"id\"\u001b[39;49;00m\n",
      "            ],\n",
      "            \u001b[94m\"msg\"\u001b[39;49;00m: \u001b[33m\"ensure this value is greater than or equal to 1\"\u001b[39;49;00m,\n",
      "            \u001b[94m\"type\"\u001b[39;49;00m: \u001b[33m\"value_error.number.not_ge\"\u001b[39;49;00m\n",
      "        }\n",
      "    ]\n",
      "}\n",
      "\n",
      "\n"
     ]
    }
   ],
   "source": [
    "!http :8000/v3/users/-1"
   ]
  },
  {
   "cell_type": "markdown",
   "id": "d8f85573",
   "metadata": {},
   "source": [
    "**Strings and regex**. We can bound string length using `min_length` and `max_length`. More generally, we can parse a string with a regular expressions in the `regex` argument.\n",
    "\n",
    "```python\n",
    "# chapter3/path_parameters.py\n",
    "\n",
    "@app.get(\"/username/{username}\")\n",
    "async def get_username(username: str = Path(..., min_length=1, max_length=20)):\n",
    "    return {\"username\": username}\n",
    "\n",
    "@app.get(\"/license-plates/{license}\")\n",
    "async def get_license_plate(license: str = Path(..., regex=r\"^\\w{2}-\\d{3}-\\w{2}$\")):\n",
    "    return {\"license\": license}\n",
    "```\n",
    "\n"
   ]
  },
  {
   "cell_type": "code",
   "execution_count": 36,
   "id": "fd18ad7b",
   "metadata": {},
   "outputs": [
    {
     "name": "stdout",
     "output_type": "stream",
     "text": [
      "\u001b[34mHTTP\u001b[39;49;00m/\u001b[34m1.1\u001b[39;49;00m \u001b[34m200\u001b[39;49;00m \u001b[36mOK\u001b[39;49;00m\n",
      "\u001b[36mcontent-length\u001b[39;49;00m: 23\n",
      "\u001b[36mcontent-type\u001b[39;49;00m: application/json\n",
      "\u001b[36mdate\u001b[39;49;00m: Sun, 26 Dec 2021 17:40:53 GMT\n",
      "\u001b[36mserver\u001b[39;49;00m: uvicorn\n",
      "\n",
      "{\n",
      "    \u001b[94m\"license\"\u001b[39;49;00m: \u001b[33m\"AB-123-CD\"\u001b[39;49;00m\n",
      "}\n",
      "\n",
      "\n"
     ]
    }
   ],
   "source": [
    "!http :8000/license-plates/AB-123-CD"
   ]
  },
  {
   "cell_type": "code",
   "execution_count": 38,
   "id": "29236241",
   "metadata": {},
   "outputs": [
    {
     "name": "stdout",
     "output_type": "stream",
     "text": [
      "\u001b[34mHTTP\u001b[39;49;00m/\u001b[34m1.1\u001b[39;49;00m \u001b[34m200\u001b[39;49;00m \u001b[36mOK\u001b[39;49;00m\n",
      "\u001b[36mcontent-length\u001b[39;49;00m: 35\n",
      "\u001b[36mcontent-type\u001b[39;49;00m: application/json\n",
      "\u001b[36mdate\u001b[39;49;00m: Sun, 26 Dec 2021 17:40:58 GMT\n",
      "\u001b[36mserver\u001b[39;49;00m: uvicorn\n",
      "\n",
      "{\n",
      "    \u001b[94m\"username\"\u001b[39;49;00m: \u001b[33m\"abcdefghijklmnopqrst\"\u001b[39;49;00m\n",
      "}\n",
      "\n",
      "\n"
     ]
    }
   ],
   "source": [
    "!http :8000/username/abcdefghijklmnopqrst # 20 characters"
   ]
  },
  {
   "cell_type": "markdown",
   "id": "e89da84c",
   "metadata": {},
   "source": [
    "```{admonition} Parameter metadata\n",
    "Data validation is not the only option accepted by the parameter function `Path`. \n",
    "You can also set options such as `title`, `description`, and `deprecated`. These will add information about the parameter \n",
    "in the automatic documentation."
   ]
  },
  {
   "cell_type": "markdown",
   "id": "55f866a3",
   "metadata": {},
   "source": [
    "### Query parameters"
   ]
  },
  {
   "cell_type": "markdown",
   "id": "cdbe7225",
   "metadata": {},
   "source": [
    "Query parameters are a common way to add some dynamic parameters to a \n",
    "URL. You find them at the end of the URL in the following form: `?param1=foo&param2=bar`. \n",
    "In a REST API, they are commonly used on read endpoints to apply pagination, a filter, a \n",
    "sorting order, or selecting fields."
   ]
  },
  {
   "cell_type": "markdown",
   "id": "670fad7f",
   "metadata": {},
   "source": [
    " By default, arguments of path functions that are not path parameters are interpreted by \n",
    "    FastAPI as query parameters (i.e. without having to use the `Query` function defined \n",
    "    below)."
   ]
  },
  {
   "cell_type": "markdown",
   "id": "86dcf7c4",
   "metadata": {},
   "source": [
    "```python\n",
    "# chapter3/query_parameters.py\n",
    "\n",
    "@app.get(\"/users/{type}/{id}\")\n",
    "async def user(\n",
    "    type: UserType, \n",
    "    id: int = Path(..., ge=1), \n",
    "    page: int = 1,\n",
    "    size: int = 1):\n",
    "    return {\n",
    "        \"type\": type,\n",
    "        \"id\": id,\n",
    "        \"page\": page, \n",
    "        \"size\": size,\n",
    "    }\n",
    "```"
   ]
  },
  {
   "cell_type": "code",
   "execution_count": 40,
   "id": "d4205dce",
   "metadata": {},
   "outputs": [
    {
     "name": "stdout",
     "output_type": "stream",
     "text": [
      "\u001b[34mHTTP\u001b[39;49;00m/\u001b[34m1.1\u001b[39;49;00m \u001b[34m200\u001b[39;49;00m \u001b[36mOK\u001b[39;49;00m\n",
      "\u001b[36mcontent-length\u001b[39;49;00m: 41\n",
      "\u001b[36mcontent-type\u001b[39;49;00m: application/json\n",
      "\u001b[36mdate\u001b[39;49;00m: Sun, 26 Dec 2021 17:42:07 GMT\n",
      "\u001b[36mserver\u001b[39;49;00m: uvicorn\n",
      "\n",
      "{\n",
      "    \u001b[94m\"id\"\u001b[39;49;00m: \u001b[34m1\u001b[39;49;00m,\n",
      "    \u001b[94m\"page\"\u001b[39;49;00m: \u001b[34m0\u001b[39;49;00m,\n",
      "    \u001b[94m\"size\"\u001b[39;49;00m: \u001b[34m3\u001b[39;49;00m,\n",
      "    \u001b[94m\"type\"\u001b[39;49;00m: \u001b[33m\"admin\"\u001b[39;49;00m\n",
      "}\n",
      "\n",
      "\n"
     ]
    }
   ],
   "source": [
    "!http :8000/users/admin/1 page==0 size==3"
   ]
  },
  {
   "cell_type": "markdown",
   "id": "8c06cbe4",
   "metadata": {},
   "source": [
    "These parameters are optional since we defined a default value. If there is no default\n",
    "    value, then query parameter has to be supplied. If we want to validate query parameters, \n",
    "    we use the `Query` function from `fastapi`. This works in the same way as the `Path` \n",
    "    function. We can add metadata as mentioned in the above tip."
   ]
  },
  {
   "cell_type": "markdown",
   "id": "f6f4063c",
   "metadata": {},
   "source": [
    "### The request body"
   ]
  },
  {
   "cell_type": "markdown",
   "id": "76a1097a",
   "metadata": {},
   "source": [
    "The body is the part of the HTTP request that contains is used to send \n",
    "    and receive data via the REST API representing documents, files, or form submissions. In a REST API, it's usually encoded in JSON and used to create structured objects in a \n",
    "    database. \n",
    "    \n",
    "    \n",
    "For the simplest cases, retrieving data from the body works exactly like query \n",
    "    parameters. The only difference is that you always have to use the `Body` function; \n",
    "    otherwise, FastAPI will look for it inside the query parameters by default. "
   ]
  },
  {
   "cell_type": "markdown",
   "id": "31f06909",
   "metadata": {},
   "source": [
    "\n",
    "```python\n",
    "# chapter3/request_body.py\n",
    "\n",
    "@app.post(\"/users\")\n",
    "async def user(\n",
    "    name: str = Body(...), \n",
    "    age:  int = Body(...),\n",
    "):\n",
    "    return {\n",
    "        \"name\": name, \n",
    "        \"age\":  age,\n",
    "    }\n",
    "```"
   ]
  },
  {
   "cell_type": "markdown",
   "id": "a5d7f563",
   "metadata": {},
   "source": [
    "To send a request body, we use the following syntax in HTTPie. Note that HTTPie automatically detects that this is a POST method since a body is present. We see that a JSON payload was sent with string parameters. Note that the value of `age` in the response is automatically converted to `int` consistent with the typing."
   ]
  },
  {
   "cell_type": "code",
   "execution_count": 44,
   "id": "8ceddb90",
   "metadata": {},
   "outputs": [
    {
     "name": "stdout",
     "output_type": "stream",
     "text": [
      "\u001b[32mPOST\u001b[39;49;00m \u001b[04m\u001b[36m/v1/users\u001b[39;49;00m \u001b[34mHTTP\u001b[39;49;00m/\u001b[34m1.1\u001b[39;49;00m\n",
      "\u001b[36mAccept\u001b[39;49;00m: application/json, */*;q=0.5\n",
      "\u001b[36mAccept-Encoding\u001b[39;49;00m: gzip, deflate, br\n",
      "\u001b[36mConnection\u001b[39;49;00m: keep-alive\n",
      "\u001b[36mContent-Length\u001b[39;49;00m: 32\n",
      "\u001b[36mContent-Type\u001b[39;49;00m: application/json\n",
      "\u001b[36mHost\u001b[39;49;00m: localhost:8000\n",
      "\u001b[36mUser-Agent\u001b[39;49;00m: HTTPie/2.6.0\n",
      "\n",
      "{\n",
      "    \u001b[94m\"age\"\u001b[39;49;00m: \u001b[33m\"-99\"\u001b[39;49;00m,\n",
      "    \u001b[94m\"name\"\u001b[39;49;00m: \u001b[33m\"Ronnie\"\u001b[39;49;00m\n",
      "}\n",
      "\n",
      "\n",
      "\u001b[34mHTTP\u001b[39;49;00m/\u001b[34m1.1\u001b[39;49;00m \u001b[34m200\u001b[39;49;00m \u001b[36mOK\u001b[39;49;00m\n",
      "\u001b[36mcontent-length\u001b[39;49;00m: 27\n",
      "\u001b[36mcontent-type\u001b[39;49;00m: application/json\n",
      "\u001b[36mdate\u001b[39;49;00m: Sun, 26 Dec 2021 17:45:49 GMT\n",
      "\u001b[36mserver\u001b[39;49;00m: uvicorn\n",
      "\n",
      "{\n",
      "    \u001b[94m\"age\"\u001b[39;49;00m: \u001b[34m-99\u001b[39;49;00m,\n",
      "    \u001b[94m\"name\"\u001b[39;49;00m: \u001b[33m\"Ronnie\"\u001b[39;49;00m\n",
      "}\n",
      "\n",
      "\n"
     ]
    }
   ],
   "source": [
    "!http -v :8000/v1/users name=Ronnie age=-99"
   ]
  },
  {
   "cell_type": "markdown",
   "id": "9a214428",
   "metadata": {},
   "source": [
    "Advanced validation and metadata through the `Body` function works in the same way as `Path` and `Query`. "
   ]
  },
  {
   "cell_type": "markdown",
   "id": "3f946a75",
   "metadata": {},
   "source": [
    "```{warning}\n",
    "For some reason, having a single `Body` parameter results in unexpected behavior. Indeed this is documented in [Issue #1097](https://github.com/tiangolo/fastapi/issues/1097). The solution is to set `embed=True` in the `Body` function for the single argument. Or defining a Pydantic model for this parameter as we will show below. This is a little inconsistent but done for the sake of backward compatibility. \n",
    "```"
   ]
  },
  {
   "cell_type": "markdown",
   "id": "687ac806",
   "metadata": {},
   "source": [
    "#### Pydantic models"
   ]
  },
  {
   "cell_type": "markdown",
   "id": "afe6f57d",
   "metadata": {},
   "source": [
    "Defining payload validations like this has some major drawbacks. First, it's quite verbose and makes the path function prototype huge, especially for bigger models with many fields. Second, usually, you'll need to reuse the data structure on other endpoints or in other parts of your application.\n",
    "\n",
    "We'd like to define the data model in one place, so that updating the model updates all other places in the code where the model is used. For this we use **Pydantic models** which allows us to automatically type hint fields. We can use the `Field` function to validate Pydantic model fields. This offers the same options as the usual validation functions, e.g. `name: str = Field(..., max_length=20)`."
   ]
  },
  {
   "cell_type": "markdown",
   "id": "b6aece14",
   "metadata": {},
   "source": [
    "```python\n",
    "# chapter3/request_body.py\n",
    "from fastapi import FastAPI\n",
    "from pydantic import BaseModel\n",
    "app = FastAPI()\n",
    "\n",
    "class User(BaseModel):\n",
    "    name: str\n",
    "    age: int\n",
    "\n",
    "@app.post(\"/v2/users\")\n",
    "async def user(user: User):\n",
    "    return user\n",
    "```"
   ]
  },
  {
   "cell_type": "code",
   "execution_count": 46,
   "id": "291f2f16",
   "metadata": {},
   "outputs": [
    {
     "name": "stdout",
     "output_type": "stream",
     "text": [
      "\u001b[34mHTTP\u001b[39;49;00m/\u001b[34m1.1\u001b[39;49;00m \u001b[34m200\u001b[39;49;00m \u001b[36mOK\u001b[39;49;00m\n",
      "\u001b[36mcontent-length\u001b[39;49;00m: 27\n",
      "\u001b[36mcontent-type\u001b[39;49;00m: application/json\n",
      "\u001b[36mdate\u001b[39;49;00m: Sun, 26 Dec 2021 17:46:12 GMT\n",
      "\u001b[36mserver\u001b[39;49;00m: uvicorn\n",
      "\n",
      "{\n",
      "    \u001b[94m\"age\"\u001b[39;49;00m: \u001b[34m-99\u001b[39;49;00m,\n",
      "    \u001b[94m\"name\"\u001b[39;49;00m: \u001b[33m\"Ronnie\"\u001b[39;49;00m\n",
      "}\n",
      "\n",
      "\n"
     ]
    }
   ],
   "source": [
    "!http :8000/v2/users name=Ronnie age=-99"
   ]
  },
  {
   "cell_type": "markdown",
   "id": "1041af03",
   "metadata": {},
   "source": [
    "Note that FastAPI automatically understands that the user data can be found in the \n",
    "    request payload and each field automatically validated based on the Pydantic model. \n",
    "    Furthermore, the Pydantic object is simply returned and FastAPI is smart enough to convert it \n",
    "    automatically into JSON to produce the HTTP response."
   ]
  },
  {
   "cell_type": "markdown",
   "id": "fae0c03e",
   "metadata": {},
   "source": [
    "We can extend this to multiple objects, as well as singular body values with the `Body` \n",
    "    function. This is useful if you wish to have a single property that's not part of any \n",
    "    model."
   ]
  },
  {
   "cell_type": "markdown",
   "id": "739135e8",
   "metadata": {},
   "source": [
    "```python\n",
    "# chapter3/request_body.py\n",
    "\n",
    "class User(BaseModel):\n",
    "    name: str\n",
    "    age: int\n",
    "\n",
    "class Company(BaseModel):\n",
    "    name: str\n",
    "\n",
    "@app.post(\"/v3/users\")\n",
    "async def create_user(user: User, company: Company, priority: int = Body(..., ge=1, le=3)):\n",
    "    return {\"user\": user, \"company\": company, \"priority\": priority}\n",
    "```"
   ]
  },
  {
   "cell_type": "markdown",
   "id": "9712d502",
   "metadata": {},
   "source": [
    "This expects a properly formatted complex JSON structure as payload that can be passed using `<<<`."
   ]
  },
  {
   "cell_type": "code",
   "execution_count": 47,
   "id": "d09b7b83",
   "metadata": {},
   "outputs": [
    {
     "name": "stdout",
     "output_type": "stream",
     "text": [
      "\u001b[34mHTTP\u001b[39;49;00m/\u001b[34m1.1\u001b[39;49;00m \u001b[34m200\u001b[39;49;00m \u001b[36mOK\u001b[39;49;00m\n",
      "\u001b[36mcontent-length\u001b[39;49;00m: 79\n",
      "\u001b[36mcontent-type\u001b[39;49;00m: application/json\n",
      "\u001b[36mdate\u001b[39;49;00m: Sun, 26 Dec 2021 17:47:04 GMT\n",
      "\u001b[36mserver\u001b[39;49;00m: uvicorn\n",
      "\n",
      "{\n",
      "    \u001b[94m\"company\"\u001b[39;49;00m: {\n",
      "        \u001b[94m\"name\"\u001b[39;49;00m: \u001b[33m\"Alliance\"\u001b[39;49;00m\n",
      "    },\n",
      "    \u001b[94m\"priority\"\u001b[39;49;00m: \u001b[34m1\u001b[39;49;00m,\n",
      "    \u001b[94m\"user\"\u001b[39;49;00m: {\n",
      "        \u001b[94m\"age\"\u001b[39;49;00m: \u001b[34m-99\u001b[39;49;00m,\n",
      "        \u001b[94m\"name\"\u001b[39;49;00m: \u001b[33m\"Ronnie\"\u001b[39;49;00m\n",
      "    }\n",
      "}\n",
      "\n",
      "\n"
     ]
    }
   ],
   "source": [
    "!http :8000/v3/users <<< '{ \"user\": {\"name\": \"Ronnie\", \"age\": -99 }, \"company\": { \"name\": \"Alliance\" }, \"priority\": 1 }'"
   ]
  },
  {
   "cell_type": "markdown",
   "id": "7a781fc0",
   "metadata": {},
   "source": [
    "### Form data"
   ]
  },
  {
   "cell_type": "markdown",
   "id": "c4355a5e",
   "metadata": {},
   "source": [
    "We need to install `python-multipart` to handle form data."
   ]
  },
  {
   "cell_type": "markdown",
   "id": "4fe115fe",
   "metadata": {},
   "source": [
    "```python\n",
    "# chapter3/form_data.py\n",
    "from fastapi import FastAPI, Form\n",
    "app = FastAPI()\n",
    "\n",
    "@app.post(\"/users\")\n",
    "async def create_user(name: str = Form(...), age: int = Form(...)):\n",
    "    return {\"name\": name, \"age\": age}\n",
    "```"
   ]
  },
  {
   "cell_type": "markdown",
   "id": "07aeadaf",
   "metadata": {},
   "source": [
    "The only difference is we use `Form` instead of `Body`. Validation and metadata options we saw for `Path`, `Query`, and `Body` are likewise available. Note that FastAPI does not allow Pydantic models to validate form data. \n",
    "\n",
    "We use the `--form` option enforces the data to be form-encoded:"
   ]
  },
  {
   "cell_type": "code",
   "execution_count": 48,
   "id": "324391d4",
   "metadata": {},
   "outputs": [
    {
     "name": "stdout",
     "output_type": "stream",
     "text": [
      "\u001b[32mPOST\u001b[39;49;00m \u001b[04m\u001b[36m/users\u001b[39;49;00m \u001b[34mHTTP\u001b[39;49;00m/\u001b[34m1.1\u001b[39;49;00m\n",
      "\u001b[36mAccept\u001b[39;49;00m: */*\n",
      "\u001b[36mAccept-Encoding\u001b[39;49;00m: gzip, deflate, br\n",
      "\u001b[36mConnection\u001b[39;49;00m: keep-alive\n",
      "\u001b[36mContent-Length\u001b[39;49;00m: 18\n",
      "\u001b[36mContent-Type\u001b[39;49;00m: application/x-www-form-urlencoded; charset=utf-8\n",
      "\u001b[36mHost\u001b[39;49;00m: localhost:8000\n",
      "\u001b[36mUser-Agent\u001b[39;49;00m: HTTPie/2.6.0\n",
      "\n",
      "name=Ronnie&age=96\n",
      "\n",
      "\u001b[34mHTTP\u001b[39;49;00m/\u001b[34m1.1\u001b[39;49;00m \u001b[34m200\u001b[39;49;00m \u001b[36mOK\u001b[39;49;00m\n",
      "\u001b[36mcontent-length\u001b[39;49;00m: 26\n",
      "\u001b[36mcontent-type\u001b[39;49;00m: application/json\n",
      "\u001b[36mdate\u001b[39;49;00m: Sun, 26 Dec 2021 17:48:35 GMT\n",
      "\u001b[36mserver\u001b[39;49;00m: uvicorn\n",
      "\n",
      "{\n",
      "    \u001b[94m\"age\"\u001b[39;49;00m: \u001b[34m96\u001b[39;49;00m,\n",
      "    \u001b[94m\"name\"\u001b[39;49;00m: \u001b[33m\"Ronnie\"\u001b[39;49;00m\n",
      "}\n",
      "\n",
      "\n"
     ]
    }
   ],
   "source": [
    "!http -v --form :8000/users name=Ronnie age=96"
   ]
  },
  {
   "cell_type": "markdown",
   "id": "b0ae0c81",
   "metadata": {},
   "source": [
    "Observe that `Content-Type: application/x-www-form-urlencoded; charset=utf-8` and the body data representation have changed in the request. Note also that the response for form data is still provided in JSON which is the default response by FastAPI no matter the form of input data. "
   ]
  },
  {
   "cell_type": "markdown",
   "id": "81b1d6c1",
   "metadata": {},
   "source": [
    "### File uploads"
   ]
  },
  {
   "cell_type": "markdown",
   "id": "ecf29d2c",
   "metadata": {},
   "source": [
    "To handle files, the approach is still the same: we define an argument for the \n",
    "path operation function, `file`, we add a type of hint, `bytes`, and then we use the `File` \n",
    "function as a default value for this argument. By doing this, FastAPI understands that it \n",
    "will have to retrieve raw data in a part of the body named file and return it as bytes."
   ]
  },
  {
   "cell_type": "markdown",
   "id": "4abdef6f",
   "metadata": {},
   "source": [
    "```python\n",
    "# chapter3/file_uploads.py\n",
    "from fastapi import FastAPI, File\n",
    "app = FastAPI()\n",
    "\n",
    "@app.post(\"/v1/files\")\n",
    "async def upload_file(file: bytes = File(...)):\n",
    "    return {\"file_size\": len(file)}\n",
    "```"
   ]
  },
  {
   "cell_type": "code",
   "execution_count": 50,
   "id": "fcbcca65",
   "metadata": {},
   "outputs": [
    {
     "name": "stdout",
     "output_type": "stream",
     "text": [
      "\u001b[34mHTTP\u001b[39;49;00m/\u001b[34m1.1\u001b[39;49;00m \u001b[34m200\u001b[39;49;00m \u001b[36mOK\u001b[39;49;00m\n",
      "\u001b[36mcontent-length\u001b[39;49;00m: 20\n",
      "\u001b[36mcontent-type\u001b[39;49;00m: application/json\n",
      "\u001b[36mdate\u001b[39;49;00m: Sun, 26 Dec 2021 17:51:06 GMT\n",
      "\u001b[36mserver\u001b[39;49;00m: uvicorn\n",
      "\n",
      "{\n",
      "    \u001b[94m\"file_size\"\u001b[39;49;00m: \u001b[34m255436\u001b[39;49;00m\n",
      "}\n",
      "\n",
      "\n"
     ]
    }
   ],
   "source": [
    "!http --form :8000/v1/files file@./assets/dog.jpeg"
   ]
  },
  {
   "cell_type": "markdown",
   "id": "f8bf8e29",
   "metadata": {},
   "source": [
    "One drawback to this approach is that the uploaded file is entirely stored in the server's memory while the function processes the request. This will likely run into issues for larger \n",
    "    files. Besides, manipulating a bytes object is not always convenient for file handling. To fix this problem, FastAPI provides an `UploadFile` class. This class will store the data \n",
    "    in memory up to a certain threshold and, after this, will automatically store it on disk \n",
    "    in a temporary location. "
   ]
  },
  {
   "cell_type": "markdown",
   "id": "a64267e1",
   "metadata": {},
   "source": [
    "The exposed object instance exposes useful metadata, such as the \n",
    "    content type, and a **file-like** interface. This means that you can manipulate it as a \n",
    "    regular file in Python and that you can feed it to any function that expects a file. For example, `contents = await myfile.read()`."
   ]
  },
  {
   "cell_type": "markdown",
   "id": "4ce3cc8b",
   "metadata": {},
   "source": [
    "```python\n",
    "# chapter3/file_uploads.py\n",
    "\n",
    "@app.post(\"/v2/files\")\n",
    "async def upload_file(file: UploadFile = File(...)):\n",
    "    return {\n",
    "        \"file_name\": file.filename, \n",
    "        \"content_type\": file.content_type\n",
    "    }\n",
    "```"
   ]
  },
  {
   "cell_type": "code",
   "execution_count": 51,
   "id": "a581ff62",
   "metadata": {},
   "outputs": [
    {
     "name": "stdout",
     "output_type": "stream",
     "text": [
      "\u001b[34mHTTP\u001b[39;49;00m/\u001b[34m1.1\u001b[39;49;00m \u001b[34m200\u001b[39;49;00m \u001b[36mOK\u001b[39;49;00m\n",
      "\u001b[36mcontent-length\u001b[39;49;00m: 52\n",
      "\u001b[36mcontent-type\u001b[39;49;00m: application/json\n",
      "\u001b[36mdate\u001b[39;49;00m: Sun, 26 Dec 2021 17:51:32 GMT\n",
      "\u001b[36mserver\u001b[39;49;00m: uvicorn\n",
      "\n",
      "{\n",
      "    \u001b[94m\"content_type\"\u001b[39;49;00m: \u001b[33m\"image/jpeg\"\u001b[39;49;00m,\n",
      "    \u001b[94m\"file_name\"\u001b[39;49;00m: \u001b[33m\"dog.jpeg\"\u001b[39;49;00m\n",
      "}\n",
      "\n",
      "\n"
     ]
    }
   ],
   "source": [
    "!http --form :8000/v2/files file@./assets/dog.jpeg"
   ]
  },
  {
   "cell_type": "markdown",
   "id": "0b516ab3",
   "metadata": {},
   "source": [
    "Since `UploadFile` does not validate for specific file types, the content type is especially useful for validating the type of the uploaded file."
   ]
  },
  {
   "cell_type": "markdown",
   "id": "8a74fbc5",
   "metadata": {},
   "source": [
    "**Multiple files.** To upload multiple files, we can use the `List` type hint."
   ]
  },
  {
   "cell_type": "markdown",
   "id": "0a24c7fe",
   "metadata": {},
   "source": [
    "```python\n",
    "# chapter3/file_uploads.py\n",
    "\n",
    "@app.post(\"/v3/files\")\n",
    "async def upload_multiple_files(files: List[UploadFile] = \n",
    "File(...)):\n",
    "    return [\n",
    "        {\n",
    "            \"file_name\": file.filename,\n",
    "            \"content_type\": file.content_type\n",
    "        }\n",
    "        for file in files\n",
    "    ]\n",
    "```"
   ]
  },
  {
   "cell_type": "markdown",
   "id": "9d7d9964",
   "metadata": {},
   "source": [
    "Uploading multiple files via HTTPie:"
   ]
  },
  {
   "cell_type": "code",
   "execution_count": 53,
   "id": "31d338b5",
   "metadata": {},
   "outputs": [
    {
     "name": "stdout",
     "output_type": "stream",
     "text": [
      "\u001b[34mHTTP\u001b[39;49;00m/\u001b[34m1.1\u001b[39;49;00m \u001b[34m200\u001b[39;49;00m \u001b[36mOK\u001b[39;49;00m\n",
      "\u001b[36mcontent-length\u001b[39;49;00m: 107\n",
      "\u001b[36mcontent-type\u001b[39;49;00m: application/json\n",
      "\u001b[36mdate\u001b[39;49;00m: Sun, 26 Dec 2021 17:52:19 GMT\n",
      "\u001b[36mserver\u001b[39;49;00m: uvicorn\n",
      "\n",
      "[\n",
      "    {\n",
      "        \u001b[94m\"content_type\"\u001b[39;49;00m: \u001b[33m\"image/jpeg\"\u001b[39;49;00m,\n",
      "        \u001b[94m\"file_name\"\u001b[39;49;00m: \u001b[33m\"dog.jpeg\"\u001b[39;49;00m\n",
      "    },\n",
      "    {\n",
      "        \u001b[94m\"content_type\"\u001b[39;49;00m: \u001b[33m\"image/jpeg\"\u001b[39;49;00m,\n",
      "        \u001b[94m\"file_name\"\u001b[39;49;00m: \u001b[33m\"dog.jpeg\"\u001b[39;49;00m\n",
      "    }\n",
      "]\n",
      "\n",
      "\n"
     ]
    }
   ],
   "source": [
    "!http --form :8000/v3/files files@./assets/dog.jpeg files@./assets/dog.jpeg"
   ]
  },
  {
   "cell_type": "markdown",
   "id": "fef6c95a",
   "metadata": {},
   "source": [
    "### Headers and cookies"
   ]
  },
  {
   "cell_type": "markdown",
   "id": "8778fec7",
   "metadata": {},
   "source": [
    "Besides the URL and the body, another major part of the HTTP request \n",
    "    are the **headers**. They contain all sorts of metadata that can be useful when handling \n",
    "    requests. Another is **cookies** which allows servers to store stateful information. Headers and cookies can be very useful tools in which to implement some authentication \n",
    "features. "
   ]
  },
  {
   "cell_type": "markdown",
   "id": "c8b21f7f",
   "metadata": {},
   "source": [
    "```python\n",
    "# chapter3/headers_cookies.py\n",
    "\n",
    "@app.get(\"/\")\n",
    "async def get_header(hello_world: str = Header(...), cookie: Optional[str] = Cookie(None)):\n",
    "    return {\"hello_world\": hello_world, \"cookie\": cookie}\n",
    "```"
   ]
  },
  {
   "cell_type": "code",
   "execution_count": 57,
   "id": "17bfe825",
   "metadata": {},
   "outputs": [
    {
     "name": "stdout",
     "output_type": "stream",
     "text": [
      "\u001b[32mGET\u001b[39;49;00m \u001b[04m\u001b[36m/\u001b[39;49;00m \u001b[34mHTTP\u001b[39;49;00m/\u001b[34m1.1\u001b[39;49;00m\n",
      "\u001b[36mAccept\u001b[39;49;00m: */*\n",
      "\u001b[36mAccept-Encoding\u001b[39;49;00m: gzip, deflate, br\n",
      "\u001b[36mConnection\u001b[39;49;00m: keep-alive\n",
      "\u001b[36mHello-World\u001b[39;49;00m: Hi\n",
      "\u001b[36mHost\u001b[39;49;00m: localhost:8000\n",
      "\u001b[36mUser-Agent\u001b[39;49;00m: HTTPie/2.6.0\n",
      "\n",
      "\n",
      "\n",
      "\u001b[34mHTTP\u001b[39;49;00m/\u001b[34m1.1\u001b[39;49;00m \u001b[34m200\u001b[39;49;00m \u001b[36mOK\u001b[39;49;00m\n",
      "\u001b[36mcontent-length\u001b[39;49;00m: 34\n",
      "\u001b[36mcontent-type\u001b[39;49;00m: application/json\n",
      "\u001b[36mdate\u001b[39;49;00m: Sun, 26 Dec 2021 17:54:44 GMT\n",
      "\u001b[36mserver\u001b[39;49;00m: uvicorn\n",
      "\n",
      "{\n",
      "    \u001b[94m\"cookie\"\u001b[39;49;00m: \u001b[34mnull\u001b[39;49;00m,\n",
      "    \u001b[94m\"hello_world\"\u001b[39;49;00m: \u001b[33m\"Hi\"\u001b[39;49;00m\n",
      "}\n",
      "\n",
      "\n"
     ]
    }
   ],
   "source": [
    "!http -v :8000/ \"Hello-World: Hi\""
   ]
  },
  {
   "cell_type": "markdown",
   "id": "d1cafb24",
   "metadata": {},
   "source": [
    "FastAPI automatically parses the header name to lowercase and snake case to get its corresponding variable in the function body. Here `\"Hello-World\"` to `hello_world`. \n",
    "\n",
    "One very special case of header is cookies. FastAPI provides another parameter function \n",
    "    that automatically parses cookies for you. Here we didn't pass anything so its value is `null`. "
   ]
  },
  {
   "cell_type": "markdown",
   "id": "ecefa452",
   "metadata": {},
   "source": [
    "### The request object"
   ]
  },
  {
   "cell_type": "markdown",
   "id": "4be4dc49",
   "metadata": {},
   "source": [
    "Sometimes, you might find that you need to access a raw request object \n",
    "    with all of the data associated with it. Simply declare an argument on \n",
    "    your path operation function type hinted with the `Request` class from the FastAPI library."
   ]
  },
  {
   "cell_type": "markdown",
   "id": "8328a4bf",
   "metadata": {},
   "source": [
    "```python\n",
    "# chapter3/request_object.py\n",
    "from fastapi import FastAPI, Request\n",
    "app = FastAPI()\n",
    "\n",
    "@app.get(\"/random-path\")\n",
    "async def get_request_object(request: Request):\n",
    "    return {\"path\": request.url.path}\n",
    "```"
   ]
  },
  {
   "cell_type": "code",
   "execution_count": 58,
   "id": "b49eb961",
   "metadata": {},
   "outputs": [
    {
     "name": "stdout",
     "output_type": "stream",
     "text": [
      "\u001b[34mHTTP\u001b[39;49;00m/\u001b[34m1.1\u001b[39;49;00m \u001b[34m200\u001b[39;49;00m \u001b[36mOK\u001b[39;49;00m\n",
      "\u001b[36mcontent-length\u001b[39;49;00m: 23\n",
      "\u001b[36mcontent-type\u001b[39;49;00m: application/json\n",
      "\u001b[36mdate\u001b[39;49;00m: Sun, 26 Dec 2021 17:55:14 GMT\n",
      "\u001b[36mserver\u001b[39;49;00m: uvicorn\n",
      "\n",
      "{\n",
      "    \u001b[94m\"path\"\u001b[39;49;00m: \u001b[33m\"/random-path\"\u001b[39;49;00m\n",
      "}\n",
      "\n",
      "\n"
     ]
    }
   ],
   "source": [
    "!http :8000/random-path"
   ]
  },
  {
   "cell_type": "markdown",
   "id": "2788ba02",
   "metadata": {},
   "source": [
    "## Customizing the response"
   ]
  },
  {
   "cell_type": "markdown",
   "id": "821baddb",
   "metadata": {},
   "source": [
    "Most of the time, you'll want to customize this response a \n",
    "    bit further; for instance, by changing the status code, raising validation errors, and \n",
    "    setting cookies. We will discuss the different ways FastAPI does this, from the simplest case to the most advanced one."
   ]
  },
  {
   "cell_type": "markdown",
   "id": "a1ba9461",
   "metadata": {},
   "source": [
    "### Decorator parameters"
   ]
  },
  {
   "cell_type": "markdown",
   "id": "44e0f7aa",
   "metadata": {},
   "source": [
    "In order to \n",
    "create a new endpoint, you had to put a decorator on top of the path operation function. \n",
    "This decorator accepts a lot of options, including ones to customize the response."
   ]
  },
  {
   "cell_type": "markdown",
   "id": "29789087",
   "metadata": {},
   "source": [
    "#### Status code"
   ]
  },
  {
   "cell_type": "markdown",
   "id": "e2f89d2f",
   "metadata": {},
   "source": [
    "This is the most obvious. By default FastAPI sets `200 OK` when \n",
    "    everything goes well in executing the path operation function. Sometimes, it might be \n",
    "    useful to change this status. "
   ]
  },
  {
   "cell_type": "markdown",
   "id": "35698a3a",
   "metadata": {},
   "source": [
    "```python\n",
    "# chapter3/path_success_status_code.py\n",
    "from fastapi import FastAPI, status\n",
    "from pydantic import BaseModel\n",
    "app = FastAPI()\n",
    "\n",
    "class Post(BaseModel):\n",
    "    title: str\n",
    "\n",
    "# Dummy database\n",
    "posts = {}\n",
    "\n",
    "@app.post(\"/posts\", status_code=status.HTTP_201_CREATED)\n",
    "async def create_post(post: Post):\n",
    "    posts[len(posts) + 1] = post\n",
    "    return post\n",
    "\n",
    "@app.delete(\"/posts/{id}\", status_code=status.HTTP_204_NO_CONTENT)\n",
    "async def delete_post(id: int):\n",
    "    posts.pop(id, None)\n",
    "    return None\n",
    "```"
   ]
  },
  {
   "cell_type": "markdown",
   "id": "72a27ce9",
   "metadata": {},
   "source": [
    "    \n",
    "For example, it's good practice in a REST API to return \n",
    "    a `201 Created` status when the execution of the endpoint ends up in the creation of \n",
    "    a new object. (We can test whether the created posts persist in memory using print statements. Indeed they do, as expected.)"
   ]
  },
  {
   "cell_type": "code",
   "execution_count": 63,
   "id": "ad816bbd",
   "metadata": {},
   "outputs": [
    {
     "name": "stdout",
     "output_type": "stream",
     "text": [
      "\u001b[34mHTTP\u001b[39;49;00m/\u001b[34m1.1\u001b[39;49;00m \u001b[34m201\u001b[39;49;00m \u001b[36mCreated\u001b[39;49;00m\n",
      "\u001b[36mcontent-length\u001b[39;49;00m: 18\n",
      "\u001b[36mcontent-type\u001b[39;49;00m: application/json\n",
      "\u001b[36mdate\u001b[39;49;00m: Sun, 26 Dec 2021 18:01:23 GMT\n",
      "\u001b[36mserver\u001b[39;49;00m: uvicorn\n",
      "\n",
      "{\n",
      "    \u001b[94m\"title\"\u001b[39;49;00m: \u001b[33m\"Hello!\"\u001b[39;49;00m\n",
      "}\n",
      "\n",
      "\n"
     ]
    }
   ],
   "source": [
    "!http :8000/posts title=\"Hello!\""
   ]
  },
  {
   "cell_type": "code",
   "execution_count": 64,
   "id": "14c4d391",
   "metadata": {},
   "outputs": [
    {
     "name": "stdout",
     "output_type": "stream",
     "text": [
      "\u001b[32mDELETE\u001b[39;49;00m \u001b[04m\u001b[36m/posts/1\u001b[39;49;00m \u001b[34mHTTP\u001b[39;49;00m/\u001b[34m1.1\u001b[39;49;00m\n",
      "\u001b[36mAccept\u001b[39;49;00m: */*\n",
      "\u001b[36mAccept-Encoding\u001b[39;49;00m: gzip, deflate, br\n",
      "\u001b[36mConnection\u001b[39;49;00m: keep-alive\n",
      "\u001b[36mContent-Length\u001b[39;49;00m: 0\n",
      "\u001b[36mHost\u001b[39;49;00m: localhost:8000\n",
      "\u001b[36mUser-Agent\u001b[39;49;00m: HTTPie/2.6.0\n",
      "\n",
      "\n",
      "\n",
      "\u001b[34mHTTP\u001b[39;49;00m/\u001b[34m1.1\u001b[39;49;00m \u001b[34m204\u001b[39;49;00m \u001b[36mNo Content\u001b[39;49;00m\n",
      "\u001b[36mdate\u001b[39;49;00m: Sun, 26 Dec 2021 18:01:25 GMT\n",
      "\u001b[36mserver\u001b[39;49;00m: uvicorn\n",
      "\n",
      "\n",
      "\n"
     ]
    }
   ],
   "source": [
    "!http -v DELETE :8000/posts/1"
   ]
  },
  {
   "cell_type": "markdown",
   "id": "583f0a00",
   "metadata": {},
   "source": [
    "**Remark**. This runs into an error discussed in [#2253](https://github.com/tiangolo/fastapi/issues/2253). Returning `None` has content-length 4 which seems to be the root cause of the error. A fix seems to be to return a response model with status 204. This has content-length 0."
   ]
  },
  {
   "cell_type": "markdown",
   "id": "5cbfc704",
   "metadata": {},
   "source": [
    "```{warning}\n",
    "It's important to understand that this option to override the status code is \n",
    "    only useful when everything goes well. If your input data was invalid, you would still get \n",
    "    a 422 status error response.\n",
    "```"
   ]
  },
  {
   "cell_type": "markdown",
   "id": "21ebcc65",
   "metadata": {},
   "source": [
    "#### The response model"
   ]
  },
  {
   "cell_type": "markdown",
   "id": "ab93493c",
   "metadata": {},
   "source": [
    "The main use case in FastAPI is to directly return a pydantic model \n",
    "    that automatically gets turned into properly formatted JSON. Quite often, you'll \n",
    "    find that there are some differences between the input data, the data you store in your \n",
    "    database, and the data you want to show to the end user. The **response model** allows us to specify the pydantic model for the response."
   ]
  },
  {
   "cell_type": "markdown",
   "id": "f66b8314",
   "metadata": {},
   "source": [
    "Suppose we have a Pydantic model `Post` which which has\n",
    "    fields `title` and `nb_views`. If we want to hide `nb_views` in a response, we\n",
    "    can create a new Pydantic model `PublicPost` that inherits from `Post` which does not include `nb_views` in its fields. Then, we set `response_model=PublicPost` in the\n",
    "    path decorator."
   ]
  },
  {
   "cell_type": "markdown",
   "id": "7c5d5a1c",
   "metadata": {},
   "source": [
    "```python\n",
    "# chapter3/path_response_model.py\n",
    "from fastapi import FastAPI\n",
    "from pydantic import BaseModel\n",
    "app = FastAPI()\n",
    "\n",
    "class Post(BaseModel):\n",
    "    title: str\n",
    "    nb_views: int\n",
    "\n",
    "class PublicPost(BaseModel):\n",
    "    title: str\n",
    "\n",
    "# Dummy database. Database models.\n",
    "posts = {\n",
    "    1: Post(title=\"Post #1\", nb_views=100),\n",
    "}\n",
    "\n",
    "@app.get(\"/posts/{id}\", response_model=PublicPost)\n",
    "async def get_post(id: int):\n",
    "    return posts[id] # Public-facing model\n",
    "```"
   ]
  },
  {
   "cell_type": "markdown",
   "id": "ff7f8bc7",
   "metadata": {},
   "source": [
    "Note that `posts[id]` is an instance of the pydantic model `Post` which has `nb_views`. However, the resulting JSON only shows title in the public post and not the number of views. \n",
    "\n",
    "\n",
    "The good thing is that this option is also considered by the interactive documentation, \n",
    "which will show the correct output schema to the end user &mdash; hiding `nb_views`."
   ]
  },
  {
   "cell_type": "code",
   "execution_count": 66,
   "id": "3f948a70",
   "metadata": {},
   "outputs": [
    {
     "name": "stdout",
     "output_type": "stream",
     "text": [
      "\u001b[34mHTTP\u001b[39;49;00m/\u001b[34m1.1\u001b[39;49;00m \u001b[34m200\u001b[39;49;00m \u001b[36mOK\u001b[39;49;00m\n",
      "\u001b[36mcontent-length\u001b[39;49;00m: 19\n",
      "\u001b[36mcontent-type\u001b[39;49;00m: application/json\n",
      "\u001b[36mdate\u001b[39;49;00m: Sun, 26 Dec 2021 18:03:35 GMT\n",
      "\u001b[36mserver\u001b[39;49;00m: uvicorn\n",
      "\n",
      "{\n",
      "    \u001b[94m\"title\"\u001b[39;49;00m: \u001b[33m\"Post #1\"\u001b[39;49;00m\n",
      "}\n",
      "\n",
      "\n"
     ]
    }
   ],
   "source": [
    "!http :8000/posts/1 # does not show nb_views"
   ]
  },
  {
   "cell_type": "markdown",
   "id": "c09a02c2",
   "metadata": {},
   "source": [
    "### Injecting the response object"
   ]
  },
  {
   "cell_type": "markdown",
   "id": "58eabb8a",
   "metadata": {},
   "source": [
    "The body and status code are not the only interesting parts of an HTTP response. \n",
    "Sometimes, it might be useful to return some custom headers or set cookies. This can be \n",
    "done dynamically using FastAPI directly within the path operation logic by \n",
    "**injecting** the `Response` object as an argument of the path operation function."
   ]
  },
  {
   "cell_type": "markdown",
   "id": "0680ff21",
   "metadata": {},
   "source": [
    "#### Setting headers and cookies"
   ]
  },
  {
   "cell_type": "markdown",
   "id": "4760d314",
   "metadata": {},
   "source": [
    "Sometimes, it might be useful to return some custom headers or set \n",
    "    cookies. The good thing about this approach is that it's within your \n",
    "path operation logic. That means you can dynamically set headers depending on what's \n",
    "happening in your business logic."
   ]
  },
  {
   "cell_type": "markdown",
   "id": "359bf5e0",
   "metadata": {},
   "source": [
    "```python\n",
    "# chapter3/response_object.py\n",
    "from fastapi import FastAPI, Response, Request\n",
    "app = FastAPI()\n",
    "\n",
    "@app.get(\"/custom-header\")\n",
    "async def custom_header(response: Response):\n",
    "    response.headers[\"Custom-Header\"] = \"Custom-Header-Value\"\n",
    "    return {\"hello\": \"world\"}\n",
    "\n",
    "@app.get(\"/custom-cookie\")\n",
    "async def custom_cookie(response: Response):\n",
    "    response.set_cookie(\"cookie-name\", \"cookie-value\", max_age=86400) # -> name value pair\n",
    "    return {\"hello\": \"world\"}\n",
    "```"
   ]
  },
  {
   "cell_type": "code",
   "execution_count": 67,
   "id": "5f071349",
   "metadata": {},
   "outputs": [
    {
     "name": "stdout",
     "output_type": "stream",
     "text": [
      "\u001b[34mHTTP\u001b[39;49;00m/\u001b[34m1.1\u001b[39;49;00m \u001b[34m200\u001b[39;49;00m \u001b[36mOK\u001b[39;49;00m\n",
      "\u001b[36mcontent-length\u001b[39;49;00m: 17\n",
      "\u001b[36mcontent-type\u001b[39;49;00m: application/json\n",
      "\u001b[36mcustom-header\u001b[39;49;00m: Custom-Header-Value\n",
      "\u001b[36mdate\u001b[39;49;00m: Sun, 26 Dec 2021 18:07:24 GMT\n",
      "\u001b[36mserver\u001b[39;49;00m: uvicorn\n",
      "\n",
      "{\n",
      "    \u001b[94m\"hello\"\u001b[39;49;00m: \u001b[33m\"world\"\u001b[39;49;00m\n",
      "}\n",
      "\n",
      "\n"
     ]
    }
   ],
   "source": [
    "!http :8000/custom-header"
   ]
  },
  {
   "cell_type": "markdown",
   "id": "10dbb91d",
   "metadata": {},
   "source": [
    "Note you don't have to return `response` (though this is the natural thing to do). You can \n",
    "    still return JSON-encodable data and FastAPI will take care of forming a proper response, \n",
    "    including the headers you've set. Therefore, the `response_model` and `status_code` options \n",
    "    we discussed are still honored [^ref].\n",
    "\n",
    "[^ref]: Assuming these are not set in the response object! The attributes of the response object **overrides** the corresponding parameters in the decorator. See warning at the end of the *Building a custom response* section. "
   ]
  },
  {
   "cell_type": "markdown",
   "id": "e74720db",
   "metadata": {},
   "source": [
    "Cookies can also be particularly useful when you want to maintain the \n",
    "    user's state within the browser between each of their visits. The `Response` object above exposes \n",
    "    a convenient `set_cookie` method. We will see the ff. header added to the response:\n",
    "    `set-cookie: cookie-name=cookie-value; Max-Age=86400; Path=/; SameSite=lax`"
   ]
  },
  {
   "cell_type": "code",
   "execution_count": 68,
   "id": "3de55bd6",
   "metadata": {},
   "outputs": [
    {
     "name": "stdout",
     "output_type": "stream",
     "text": [
      "\u001b[34mHTTP\u001b[39;49;00m/\u001b[34m1.1\u001b[39;49;00m \u001b[34m200\u001b[39;49;00m \u001b[36mOK\u001b[39;49;00m\n",
      "\u001b[36mSet-Cookie\u001b[39;49;00m: cookie-name=cookie-value; Max-Age=86400; Path=/; SameSite=lax\n",
      "\u001b[36mcontent-length\u001b[39;49;00m: 17\n",
      "\u001b[36mcontent-type\u001b[39;49;00m: application/json\n",
      "\u001b[36mdate\u001b[39;49;00m: Sun, 26 Dec 2021 18:08:10 GMT\n",
      "\u001b[36mserver\u001b[39;49;00m: uvicorn\n",
      "\u001b[36mset-cookie\u001b[39;49;00m: cookie-name=cookie-value; Max-Age=86400; Path=/; SameSite=lax\n",
      "\n",
      "{\n",
      "    \u001b[94m\"hello\"\u001b[39;49;00m: \u001b[33m\"world\"\u001b[39;49;00m\n",
      "}\n",
      "\n",
      "\n"
     ]
    }
   ],
   "source": [
    "!http :8000/custom-cookie"
   ]
  },
  {
   "cell_type": "markdown",
   "id": "147b7d79",
   "metadata": {},
   "source": [
    "#### Setting status code dynamically"
   ]
  },
  {
   "cell_type": "markdown",
   "id": "efdfa5f2",
   "metadata": {},
   "source": [
    "Recall we set the `status_code` parameter in the\n",
    "    path function decorator. The drawback to this approach is that it'll always be the same \n",
    "    no matter what's happening inside. This can be set dynamically in the `response` object. Again, this overrides the corresponding parameter in the decorator."
   ]
  },
  {
   "cell_type": "markdown",
   "id": "b3cf5687",
   "metadata": {},
   "source": [
    "```python\n",
    "# chapter3/response_object_dynamic_status_code.py\n",
    "\n",
    "@app.put(\"/posts/{id}\")\n",
    "async def update_or_create_post(id: int, post: Post, response: Response):\n",
    "    if id not in posts.keys():\n",
    "        response.status_code = status.HTTP_201_CREATED\n",
    "    posts[id] = post\n",
    "```"
   ]
  },
  {
   "cell_type": "markdown",
   "id": "3b6e8624",
   "metadata": {},
   "source": [
    "Creating a new post should result in status `201 Created`."
   ]
  },
  {
   "cell_type": "code",
   "execution_count": 71,
   "id": "e3047bb1",
   "metadata": {},
   "outputs": [
    {
     "name": "stdout",
     "output_type": "stream",
     "text": [
      "\u001b[34mHTTP\u001b[39;49;00m/\u001b[34m1.1\u001b[39;49;00m \u001b[34m201\u001b[39;49;00m \u001b[36mCreated\u001b[39;49;00m\n",
      "\u001b[36mcontent-length\u001b[39;49;00m: 4\n",
      "\u001b[36mcontent-type\u001b[39;49;00m: application/json\n",
      "\u001b[36mdate\u001b[39;49;00m: Sun, 26 Dec 2021 18:11:43 GMT\n",
      "\u001b[36mserver\u001b[39;49;00m: uvicorn\n",
      "\n",
      "\u001b[34mnull\u001b[39;49;00m\n",
      "\n",
      "\n"
     ]
    }
   ],
   "source": [
    "!http PUT :8000/posts/2 title=\"Post #2\" nb_views=1"
   ]
  },
  {
   "cell_type": "markdown",
   "id": "26c6b0c3",
   "metadata": {},
   "source": [
    "Updating an old post results in vanilla `200 OK`:"
   ]
  },
  {
   "cell_type": "code",
   "execution_count": 72,
   "id": "1640690f",
   "metadata": {},
   "outputs": [
    {
     "name": "stdout",
     "output_type": "stream",
     "text": [
      "\u001b[34mHTTP\u001b[39;49;00m/\u001b[34m1.1\u001b[39;49;00m \u001b[34m200\u001b[39;49;00m \u001b[36mOK\u001b[39;49;00m\n",
      "\u001b[36mcontent-length\u001b[39;49;00m: 4\n",
      "\u001b[36mcontent-type\u001b[39;49;00m: application/json\n",
      "\u001b[36mdate\u001b[39;49;00m: Sun, 26 Dec 2021 18:11:45 GMT\n",
      "\u001b[36mserver\u001b[39;49;00m: uvicorn\n",
      "\n",
      "\u001b[34mnull\u001b[39;49;00m\n",
      "\n",
      "\n"
     ]
    }
   ],
   "source": [
    "!http PUT :8000/posts/1 title=\"Post #1\" nb_views=2"
   ]
  },
  {
   "cell_type": "markdown",
   "id": "c351bf51",
   "metadata": {},
   "source": [
    "Note: don't use this pattern to set error status code, e.g. `404 Not Found`. See next\n",
    "    section. Also, dynamic status codes are not detected by the automatic documentation."
   ]
  },
  {
   "cell_type": "markdown",
   "id": "8bc9ce4d",
   "metadata": {},
   "source": [
    "### Raising HTTP errors"
   ]
  },
  {
   "cell_type": "markdown",
   "id": "7d7e1bfc",
   "metadata": {},
   "source": [
    "Errors can happen for a lot of reasons: wrong parameters, invalid \n",
    "    payloads, or objects that don't exist anymore. That's why it's critical to detect them and \n",
    "    raise a clear and unambiguous error message to the end user so that they can correct their \n",
    "    mistake. Two places to return error: payload and status code."
   ]
  },
  {
   "cell_type": "markdown",
   "id": "ed870991",
   "metadata": {},
   "source": [
    "```python\n",
    "# chapter3/raise_errors.py\n",
    "\n",
    "@app.post(\"/password\")\n",
    "async def check_password(password: str = Body(...), password_confirm: str = Body(...)):\n",
    "    if password != password_confirm:\n",
    "        raise HTTPException(\n",
    "            status.HTTP_400_BAD_REQUEST,\n",
    "            detail=\"Passwords don't match.\",\n",
    "        )\n",
    "    return {\"message\": \"Passwords match.\"}\n",
    "```"
   ]
  },
  {
   "cell_type": "code",
   "execution_count": 73,
   "id": "4872df35",
   "metadata": {},
   "outputs": [
    {
     "name": "stdout",
     "output_type": "stream",
     "text": [
      "\u001b[34mHTTP\u001b[39;49;00m/\u001b[34m1.1\u001b[39;49;00m \u001b[34m400\u001b[39;49;00m \u001b[36mBad Request\u001b[39;49;00m\n",
      "\u001b[36mcontent-length\u001b[39;49;00m: 34\n",
      "\u001b[36mcontent-type\u001b[39;49;00m: application/json\n",
      "\u001b[36mdate\u001b[39;49;00m: Sun, 26 Dec 2021 18:13:40 GMT\n",
      "\u001b[36mserver\u001b[39;49;00m: uvicorn\n",
      "\n",
      "{\n",
      "    \u001b[94m\"detail\"\u001b[39;49;00m: \u001b[33m\"Password don't match.\"\u001b[39;49;00m\n",
      "}\n",
      "\n",
      "\n"
     ]
    }
   ],
   "source": [
    "!http :8000/password password=a123 password_confirm=A123"
   ]
  },
  {
   "cell_type": "markdown",
   "id": "a21a348d",
   "metadata": {},
   "source": [
    "Here, we do get a 400 status code and our error message has been wrapped nicely in a \n",
    "    JSON object with the detail key. This is how FastAPI handles errors by default. We can\n",
    "    make a more detailed description by returning a dictionary for the `detail` parameter:\n",
    "\n",
    "```PYTHON\n",
    "detail={\n",
    "    \"message\": \"Passwords don't match.\",\n",
    "    \"hints\": [\n",
    "        \"Check the caps lock on your keyboard\",\n",
    "        \"Try to make the password visible by clicking on the eye icon to check your typing\",\n",
    "        ],\n",
    "},\n",
    "```"
   ]
  },
  {
   "cell_type": "markdown",
   "id": "bc5aeb17",
   "metadata": {},
   "source": [
    "### Building a custom response"
   ]
  },
  {
   "cell_type": "markdown",
   "id": "a78d4c52",
   "metadata": {},
   "source": [
    "So far, all of the methods you have seen should cover the majority of cases you'll \n",
    "encounter during the development of an API. Sometimes, however, you'll have scenarios \n",
    "where you'll need to build a complete HTTP response yourself. This is the subject of the \n",
    "next section"
   ]
  },
  {
   "cell_type": "markdown",
   "id": "6c8c932e",
   "metadata": {},
   "source": [
    "Under the hood, FastAPI uses a subclass of `Response`, called \n",
    "    `JSONResponse`. Quite predictably, this response class takes care of serializing some \n",
    "    data to JSON and adding the correct `Content-Type` header."
   ]
  },
  {
   "cell_type": "markdown",
   "id": "6b30c5a3",
   "metadata": {},
   "source": [
    "- `HTMLResponse`: This can be used to return an HTML response.\n",
    "- `PlainTextResponse`: This can be used to return raw text.\n",
    "- `RedirectResponse`: This can be used to make a redirection.\n",
    "- `StreamingResponse`: This can be used to stream a flow of bytes.\n",
    "- `FileResponse`: This can be used to automatically build a proper file response given \n",
    "the path of a file on the local disk. "
   ]
  },
  {
   "cell_type": "markdown",
   "id": "9e308a7d",
   "metadata": {},
   "source": [
    "You have two ways of using them: either setting the `response_class` argument on the \n",
    "path decorator or directly returning a response instance.\n"
   ]
  },
  {
   "cell_type": "markdown",
   "id": "f3ed9404",
   "metadata": {},
   "source": [
    "#### Using the response_class argument"
   ]
  },
  {
   "cell_type": "markdown",
   "id": "5f173b07",
   "metadata": {},
   "source": [
    "```python\n",
    "@app.get(\"/html\", response_class=HTMLResponse)\n",
    "async def get_html():\n",
    "    return \"\"\"\n",
    "    <html>\n",
    "        <head>\n",
    "            <title>Hello world!</title>\n",
    "        </head>\n",
    "        <body>\n",
    "            <h1>Hello world!</h1>\n",
    "        </body>\n",
    "    </html>\n",
    "    \"\"\"\n",
    "\n",
    "@app.get(\"/text\", response_class=PlainTextResponse)\n",
    "async def text():\n",
    "    return \"Hello world!\" \n",
    "```"
   ]
  },
  {
   "cell_type": "markdown",
   "id": "eee2e128",
   "metadata": {},
   "source": [
    "#### Making a redirection"
   ]
  },
  {
   "cell_type": "markdown",
   "id": "3dc210cb",
   "metadata": {},
   "source": [
    "For the rest of responses class, we have to build the response \n",
    "    instance. `RedirectResponse` is a class that helps you build an HTTP redirection, which \n",
    "    simply is an HTTP response with a Location header pointing to the new URL and a status \n",
    "    code in the `3XX` range. It simply expects the URL you wish to redirect to as the first \n",
    "    argument:\n",
    "\n",
    "```python\n",
    "@app.get(\"/redirect\")\n",
    "async def redirect():\n",
    "    return RedirectResponse(\"/new-url\") # 307 Temporary Redirect\n",
    "```"
   ]
  },
  {
   "cell_type": "markdown",
   "id": "d53e5041",
   "metadata": {},
   "source": [
    "#### Serving a file"
   ]
  },
  {
   "cell_type": "markdown",
   "id": "890e2d4b",
   "metadata": {},
   "source": [
    "`FileResponse` will be useful for downloading files. This response class will automatically take care of \n",
    "    opening the file on disk and streaming the bytes along with the proper HTTP headers. We may need to install `aiofiles` as a dependency."
   ]
  },
  {
   "cell_type": "code",
   "execution_count": 2,
   "id": "ef5f09ba",
   "metadata": {},
   "outputs": [
    {
     "name": "stdout",
     "output_type": "stream",
     "text": [
      "Requirement already satisfied: aiofiles in /Users/particle1331/miniforge3/envs/ml-cpu/lib/python3.9/site-packages (0.8.0)\n"
     ]
    }
   ],
   "source": [
    "!pip install aiofiles"
   ]
  },
  {
   "cell_type": "markdown",
   "id": "0f5ca076",
   "metadata": {},
   "source": [
    "```python\n",
    "# chapter3/file_response.py\n",
    "from fastapi import FastAPI\n",
    "from fastapi.responses import FileResponse\n",
    "from pathlib import Path\n",
    "app = FastAPI()\n",
    "\n",
    "@app.get(\"/dog\")\n",
    "async def get_dog():\n",
    "    root_directory = Path(__file__).absolute().parents[2]\n",
    "    img_path = root_directory / \"assets\" / \"dog.jpeg\"\n",
    "    return FileResponse(img_path)\n",
    "```"
   ]
  },
  {
   "cell_type": "code",
   "execution_count": 75,
   "id": "813d404f",
   "metadata": {},
   "outputs": [
    {
     "name": "stdout",
     "output_type": "stream",
     "text": [
      "\u001b[34mHTTP\u001b[39;49;00m/\u001b[34m1.1\u001b[39;49;00m \u001b[34m200\u001b[39;49;00m \u001b[36mOK\u001b[39;49;00m\n",
      "\u001b[36mcontent-length\u001b[39;49;00m: 255436\n",
      "\u001b[36mcontent-type\u001b[39;49;00m: image/jpeg\n",
      "\u001b[36mdate\u001b[39;49;00m: Sun, 26 Dec 2021 18:15:24 GMT\n",
      "\u001b[36metag\u001b[39;49;00m: fff0e1b86216561e2e7a9e5d2c06f930\n",
      "\u001b[36mlast-modified\u001b[39;49;00m: Fri, 24 Dec 2021 11:32:45 GMT\n",
      "\u001b[36mserver\u001b[39;49;00m: uvicorn\n",
      "\n",
      "\n",
      "\n",
      "+-----------------------------------------+\n",
      "| NOTE: binary data not shown in terminal |\n",
      "+-----------------------------------------+\n",
      "\n"
     ]
    }
   ],
   "source": [
    "!http :8000/dog\n",
    "# --download to download image"
   ]
  },
  {
   "cell_type": "markdown",
   "id": "cd0de819",
   "metadata": {},
   "source": [
    "In the browser, the image can be displayed:"
   ]
  },
  {
   "cell_type": "markdown",
   "id": "ed52dbe3",
   "metadata": {},
   "source": [
    "```{figure} ../../img/dog.png\n",
    "---\n",
    "width: 40em\n",
    "name: dog\n",
    "---\n",
    "\n",
    "```"
   ]
  },
  {
   "cell_type": "markdown",
   "id": "e19297dc",
   "metadata": {},
   "source": [
    "#### Custom responses"
   ]
  },
  {
   "cell_type": "markdown",
   "id": "d9bbfde0",
   "metadata": {},
   "source": [
    "Finally, if you really have a case that's not covered by the provided \n",
    "    classes, you always have the option to use the `Response` class to build exactly what you \n",
    "    need. With this class, you can set everything, including the body content and the headers.\n",
    "    The following example shows you how to return an XML response:\n",
    "\n",
    "```python\n",
    "@app.get(\"/xml\")\n",
    "async def get_xml():\n",
    "    content = \"\"\"\n",
    "        <?xml version=\"1.0\" encoding=\"UTF-8\"?>\n",
    "        <Hello>World</Hello>\n",
    "    \"\"\"\n",
    "    return Response(content=content, media_type=\"application/xml\")\n",
    "```\n"
   ]
  },
  {
   "cell_type": "markdown",
   "metadata": {},
   "source": [
    "```{warning}\n",
    "Bear in mind that when you directly return a `Response` class (or one of \n",
    "its subclasses), the parameters you set on the decorator won't have any effect. They are completely overridden by the \n",
    "`Response` object you return. If you need to customize the status code or the headers, then use the `status_code` and \n",
    "`headers` arguments when instantiating the response object.\n",
    "```"
   ]
  },
  {
   "cell_type": "markdown",
   "metadata": {},
   "source": [
    "## Structuring a bigger project with multiple routers"
   ]
  },
  {
   "cell_type": "markdown",
   "metadata": {},
   "source": [
    "When building a real-world web \n",
    "application, you're likely to have lot of code and logic: data models, API endpoints, and \n",
    "services. Of course, all of those can't live in a single file; we have to structure the \n",
    "project so that it's easy to maintain and evolve.\n",
    "\n",
    "```\n",
    ".\n",
    "└── chapter3_project/\n",
    "    ├── models/\n",
    "    │ ├── __init__.py\n",
    "    │ ├── post.py\n",
    "    │ └── user.py\n",
    "    ├── routers/\n",
    "    │ ├── __init__.py\n",
    "    │ ├── posts.py\n",
    "    │ └── users.py\n",
    "    ├── __init__.py\n",
    "    ├── app.py\n",
    "    └── db.py\n",
    "```"
   ]
  },
  {
   "cell_type": "markdown",
   "metadata": {},
   "source": [
    "Everything is the same, but you separate functionality into separate files each can be thought of as a subapplications, then connect everything together by using **routers**. "
   ]
  },
  {
   "cell_type": "markdown",
   "metadata": {},
   "source": [
    "```python\n",
    "# chapter3_project/routers/users.py\n",
    "from typing import List\n",
    "from fastapi import APIRouter, HTTPException, status\n",
    "from chapter3_project.models.user import User, UserCreate\n",
    "from chapter3_project.db import db\n",
    "router = APIRouter()\n",
    "\n",
    "@router.get(\"/\")\n",
    "async def all() -> List[User]:\n",
    "    return list(db.users.values())\n",
    "```\n",
    "\n",
    "As you can see here, instead of instantiating the FastAPI class, you instantiate the \n",
    "APIRouter class. Then, you can use it exactly the same way to decorate your path \n",
    "operation functions. Now, let's take a look at how to import this router and include it \n",
    "within a FastAPI application:\n",
    "    \n",
    "```python\n",
    "from fastapi import FastAPI\n",
    "from chapter3_project.routers.posts import router as posts_router\n",
    "from chapter3_project.routers.users import router as users_router\n",
    "\n",
    "app = FastAPI()\n",
    "\n",
    "app.include_router(posts_router, prefix=\"/posts\", tags=[\"posts\"])\n",
    "app.include_router(users_router, prefix=\"/users\", tags=[\"users\"])\n",
    "```\n",
    "\n",
    "Prefixes can also be used to provide versioned paths of your API, such as `/v1`. The \n",
    "tags argument helps you to group endpoints in the interactive documentation for better \n",
    "readability. By doing this, the posts and users endpoints will be clearly separated in \n",
    "the documentation.\n",
    "\n",
    "Once again, you can see that FastAPI is both powerful and very lightweight to use. The \n",
    "good thing about routers is that you can even nest them, that include sub-routers in \n",
    "routers that include other routers themselves. Therefore, you can have a quite complex \n",
    "routing hierarchy with very low effort.\n",
    "\n",
    "```python\n",
    "router.include_router(subrouter, prefix=\"/subrouter-url\", tags=[\"router\"])\n",
    "```\n",
    "    \n"
   ]
  },
  {
   "cell_type": "markdown",
   "metadata": {},
   "source": []
  }
 ],
 "metadata": {
  "interpreter": {
   "hash": "a9b28b0fcd5be7e4e7eff8f7cf674e5d8a777a4aa6f51979c0f0ca8ec7b00ef4"
  },
  "kernelspec": {
   "display_name": "Python 3.7.11 64-bit ('ml': conda)",
   "language": "python",
   "name": "python3"
  },
  "language_info": {
   "codemirror_mode": {
    "name": "ipython",
    "version": 3
   },
   "file_extension": ".py",
   "mimetype": "text/x-python",
   "name": "python",
   "nbconvert_exporter": "python",
   "pygments_lexer": "ipython3",
   "version": "3.9.9"
  },
  "orig_nbformat": 4
 },
 "nbformat": 4,
 "nbformat_minor": 2
}
