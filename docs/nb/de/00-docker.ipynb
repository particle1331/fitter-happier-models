{
 "cells": [
  {
   "attachments": {},
   "cell_type": "markdown",
   "metadata": {},
   "source": [
    "# Docker"
   ]
  },
  {
   "attachments": {},
   "cell_type": "markdown",
   "metadata": {},
   "source": [
    "**Data pipelines** = processes and services gets data (e.g. csv) -> returns data (table in postgres)."
   ]
  },
  {
   "attachments": {},
   "cell_type": "markdown",
   "metadata": {},
   "source": [
    "within a data pipeline there can be many intermediate processes that perform transformations between data."
   ]
  },
  {
   "attachments": {},
   "cell_type": "markdown",
   "metadata": {},
   "source": [
    "host computer (windows) can run data pipeline (ubuntu 20.04 which has python 3.9, pandas, postgres)\n",
    "\n",
    "containers are isolated from each other"
   ]
  },
  {
   "attachments": {},
   "cell_type": "markdown",
   "metadata": {},
   "source": [
    "pgAdmin to communicate with postgres to run sequel queries etc"
   ]
  },
  {
   "attachments": {},
   "cell_type": "markdown",
   "metadata": {},
   "source": [
    "```\n",
    "docker \n",
    "    -> visibility\n",
    "    -> deployment\n",
    "    -> reproducibility\n",
    "\n",
    "```"
   ]
  },
  {
   "attachments": {},
   "cell_type": "markdown",
   "metadata": {},
   "source": [
    "why should we care: \n",
    "\n",
    "- local tests \n",
    "- integration tests (ci/cd)\n",
    "- reproducibility\n",
    "- running pipelines on the cloud (AWS Batch, Kubernetes jobs)\n",
    "- Spark\n",
    "- Serverless (AWS Lambda, Google Cloud Functions)\n",
    "\n",
    "useful for processing data "
   ]
  },
  {
   "cell_type": "code",
   "execution_count": 1,
   "metadata": {},
   "outputs": [],
   "source": [
    "x = 3"
   ]
  },
  {
   "cell_type": "code",
   "execution_count": null,
   "metadata": {},
   "outputs": [],
   "source": []
  }
 ],
 "metadata": {
  "kernelspec": {
   "display_name": "Python 3",
   "language": "python",
   "name": "python3"
  },
  "language_info": {
   "codemirror_mode": {
    "name": "ipython",
    "version": 3
   },
   "file_extension": ".py",
   "mimetype": "text/x-python",
   "name": "python",
   "nbconvert_exporter": "python",
   "pygments_lexer": "ipython3",
   "version": "3.10.3"
  },
  "orig_nbformat": 4,
  "vscode": {
   "interpreter": {
    "hash": "74fc4d732c045e64e902852b64fc2bd2168aa0e65c0f64395f775ce1c5c468e9"
   }
  }
 },
 "nbformat": 4,
 "nbformat_minor": 2
}
