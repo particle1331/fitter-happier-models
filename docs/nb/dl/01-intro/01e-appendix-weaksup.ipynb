{
 "cells": [
  {
   "cell_type": "markdown",
   "metadata": {},
   "source": [
    "# Appendix: Weak supervision"
   ]
  },
  {
   "cell_type": "markdown",
   "metadata": {},
   "source": [
    "In this section, we apply what we learned in this chapter to implement **weak supervision**.\n",
    "The idea of weak supervision is that for each data point there is a latent true label that we do not have access to (even during training), instead we can utilize weak signals from user-defined **labeling functions** (LFs).\n",
    "\n",
    "LFs can be thought of as heuristic rules that can be applied to a large subset of the data. In case the LF is not applicable, then the function simply abstains from making a prediction. Note that this is a realistic scenario, it's easier to describe rules than to manually annotate a large number of data. LFs provides noisy, less expensive labels, which can be useful in training noise-aware discriminative models. "
   ]
  },
  {
   "cell_type": "markdown",
   "metadata": {},
   "source": [
    "<br>\n",
    "\n",
    "```{figure} ../../../img/nn/01-weak-supervision-pipeline.png\n",
    "---\n",
    "name: 01-weak-supervision-pipeline.png\n",
    "width: 100%\n",
    "---\n",
    "Pipeline for training a model based on weakly supervised labels. The third image is flipped (i.e. the flow of prediction is right to left.) \n",
    "These two tasks will be implemented in this notebook. [Source](https://cs.brown.edu/people/sbach/files/bach-icml17-slides.pdf)\n",
    "```"
   ]
  },
  {
   "cell_type": "markdown",
   "metadata": {},
   "source": [
    "**Remark.** The material here is an exposition and implementation of the **data programming** approach to weak supervision using LFs described in {cite}`data-programming`."
   ]
  },
  {
   "cell_type": "markdown",
   "metadata": {},
   "source": [
    "## Toy example"
   ]
  },
  {
   "cell_type": "markdown",
   "metadata": {},
   "source": [
    "Our task is to classify whether a sentence is a question or a quote. We will use true labels to evaluate the train and validation performance of the model. But this will not be used during training. In practice, we have a small labeled dataset for validation, that is a part of a large unlabeled dataset, which we want to somehow use for training. The toy dataset consists of 88 sentences:"
   ]
  },
  {
   "cell_type": "markdown",
   "metadata": {},
   "source": [
    "```python\n",
    "data = [\n",
    "    \"What would you name your boat if you had one? \",\n",
    "    \"What's the closest thing to real magic? \",\n",
    "    \"Who is the messiest person you know? \",\n",
    "    \"What will finally break the internet? \",\n",
    "    \"What's the most useless talent you have? \",\n",
    "    \"What would be on the gag reel of your life? \",\n",
    "    ...\n",
    "]\n",
    "```"
   ]
  },
  {
   "cell_type": "code",
   "execution_count": 1,
   "metadata": {
    "tags": [
     "hide-input"
    ]
   },
   "outputs": [],
   "source": [
    "data = [\n",
    "    \"What would you name your boat if you had one? \",\n",
    "    \"What's the closest thing to real magic? \",\n",
    "    \"Who is the messiest person you know? \",\n",
    "    \"What will finally break the internet? \",\n",
    "    \"What's the most useless talent you have? \",\n",
    "    \"What would be on the gag reel of your life? \",\n",
    "    \"Where is the worst smelling place you've been?\",\n",
    "    \"What Secret Do You Have That No One Else Knows Except Your Sibling/S?\"\n",
    "    \"What Did You Think Was Cool Then, When You Were Young But Isn’t Cool Now?\"\n",
    "    \"When Was The Last Time You Did Something And Regret Doing It?\"\n",
    "    \"What Guilty Pleasure Makes You Feel Alive?\"\n",
    "    \"Any fool can write code that a computer can understand. Good programmers write code that humans can understand.\",\n",
    "    \"First, solve the problem. Then, write the code.\",\n",
    "    \"Experience is the name everyone gives to their mistakes.\",\n",
    "    \" In order to be irreplaceable, one must always be different\",\n",
    "    \"Java is to JavaScript what car is to Carpet.\",\n",
    "    \"Knowledge is power.\",\n",
    "    \"Sometimes it pays to stay in bed on Monday, rather than spending the rest of the week debugging Monday’s code.\",\n",
    "    \"Perfection is achieved not when there is nothing more to add, but rather when there is nothing more to take away.\", \n",
    "    \"Ruby is rubbish! PHP is phpantastic!\",\n",
    "    \" Code is like humor. When you have to explain it, it’s bad.\",\n",
    "    \"Fix the cause, not the symptom.\",\n",
    "    \"Optimism is an occupational hazard of programming: feedback is the treatment. \" ,\n",
    "    \"When to use iterative development? You should use iterative development only on projects that you want to succeed.\",\n",
    "    \"Simplicity is the soul of efficiency.\",\n",
    "    \"Before software can be reusable it first has to be usable.\",\n",
    "    \"Make it work, make it right, make it fast.\",\n",
    "    \"Programmer: A machine that turns coffee into code.\",\n",
    "    \"Computers are fast; programmers keep it slow.\",\n",
    "    \"When I wrote this code, only God and I understood what I did. Now only God knows.\",\n",
    "    \"A son asked his father (a programmer) why the sun rises in the east, and sets in the west. His response? It works, don’t touch!\",\n",
    "    \"How many programmers does it take to change a light bulb? None, that’s a hardware problem.\",\n",
    "    \"Programming is like sex: One mistake and you have to support it for the rest of your life.\",\n",
    "    \"Programming can be fun, and so can cryptography; however, they should not be combined.\",\n",
    "    \"Programming today is a race between software engineers striving to build bigger and better idiot-proof programs, and the Universe trying to produce bigger and better idiots. So far, the Universe is winning.\",\n",
    "    \"Copy-and-Paste was programmed by programmers for programmers actually.\",\n",
    "    \"Always code as if the person who ends up maintaining your code will be a violent psychopath who knows where you live.\",\n",
    "    \"Debugging is twice as hard as writing the code in the first place. Therefore, if you write the code as cleverly as possible, you are, by definition, not smart enough to debug it.\",\n",
    "    \"Algorithm: Word used by programmers when they don’t want to explain what they did.\",\n",
    "    \"Software and cathedrals are much the same — first we build them, then we pray.\",\n",
    "    \"There are two ways to write error-free programs; only the third works.\",\n",
    "    \"If debugging is the process of removing bugs, then programming must be the process of putting them in.\",\n",
    "    \"99 little bugs in the code. 99 little bugs in the code. Take one down, patch it around. 127 little bugs in the code …\",\n",
    "    \"Remember that there is no code faster than no code.\",\n",
    "    \"One man’s crappy software is another man’s full-time job.\",\n",
    "    \"No code has zero defects.\",\n",
    "    \"A good programmer is someone who always looks both ways before crossing a one-way street.\",\n",
    "    \"Deleted code is debugged code.\",\n",
    "    \"Don’t worry if it doesn’t work right. If everything did, you’d be out of a job.\",\n",
    "    \"It’s not a bug — it’s an undocumented feature.\",\n",
    "    \"It works on my machine.\",\n",
    "    \"It compiles; ship it.\",\n",
    "    \"There is no Ctrl-Z in life.\",\n",
    "    \"Whitespace is never white.\",\n",
    "    \"What’s your favorite way to spend a day off?\",\n",
    "    \"What type of music are you into?\",\n",
    "    \"What was the best vacation you ever took and why?\",\n",
    "    \"Where’s the next place on your travel bucket list and why?\",\n",
    "    \"What are your hobbies, and how did you get into them?\",\n",
    "    \"What was your favorite age growing up?\",\n",
    "    \"Was the last thing you read?\",\n",
    "    \"Would you say you’re more of an extrovert or an introvert?\",\n",
    "    \"What's your favorite ice cream topping?\",\n",
    "    \"What was the last TV show you binge-watched?\",\n",
    "    \"Are you into podcasts or do you only listen to music?\",\n",
    "    \"Do you have a favorite holiday? Why or why not?\",\n",
    "    \"If you could only eat one food for the rest of your life, what would it be?\",\n",
    "    \"Do you like going to the movies or prefer watching at home?\",\n",
    "    \"What’s your favorite sleeping position?\",\n",
    "    \"What’s your go-to guilty pleasure?\",\n",
    "    \"In the summer, would you rather go to the beach or go camping?\",\n",
    "    \"What’s your favorite quote from a TV show/movie/book?\",\n",
    "    \"How old were you when you had your first celebrity crush, and who was it?\",\n",
    "    \"What's one thing that can instantly make your day better?\",\n",
    "    \"Do you have any pet peeves?\",\n",
    "    \"What’s your favorite thing about your current job?\",\n",
    "    \"What annoys you most?\",\n",
    "    \"What’s the career highlight you’re most proud of?\",\n",
    "    \"Do you think you’ll stay in your current gig awhile? Why or why not?\",\n",
    "    \"What type of role do you want to take on after this one?\",\n",
    "    \"Are you more of a work to live or a live to work type of person?\",\n",
    "    \"Does your job make you feel happy and fulfilled? Why or why not?\",\n",
    "    \"How would your 10-year-old self react to what you do now?\",\n",
    "    \"What do you remember most about your first job?\",\n",
    "    \"How old were you when you started working?\",\n",
    "    \"What’s the worst job you’ve ever had?\",\n",
    "    \"What originally got you interested in your current field of work?\",\n",
    "    \"Have you ever had a side hustle or considered having one?\",\n",
    "    \"What’s your favorite part of the workday?\",\n",
    "    \"What’s the best career decision you’ve ever made?\",\n",
    "    \"What’s the worst career decision you’ve ever made?\",\n",
    "    \"Do you consider yourself good at networking?\"\n",
    "]"
   ]
  },
  {
   "cell_type": "markdown",
   "metadata": {},
   "source": [
    "Then, we can define labeling functions. Notice that these are user-defined and requires some domain expertise to be effective:"
   ]
  },
  {
   "cell_type": "code",
   "execution_count": 2,
   "metadata": {},
   "outputs": [],
   "source": [
    "QUESTION =  1\n",
    "QUOTE    = -1\n",
    "ABSTAIN  =  0\n",
    "\n",
    "def lf_keyword_lookup(x):\n",
    "    keywords = [\"why\", \"what\", \"when\", \"who\", \"where\", \"how\"]\n",
    "    return QUESTION if any(word in x.lower() for word in keywords) else ABSTAIN\n",
    "\n",
    "def lf_char_length(x):\n",
    "    return QUOTE if len(x) > 100 else ABSTAIN\n",
    "\n",
    "def lf_regex_endswith_dot(x):\n",
    "    return QUOTE if x.endswith(\".\") else ABSTAIN"
   ]
  },
  {
   "cell_type": "markdown",
   "metadata": {},
   "source": [
    "## Coverage and accuracy"
   ]
  },
  {
   "cell_type": "markdown",
   "metadata": {},
   "source": [
    "Applying this to our dataset we get the $\\Lambda_{ij}$ matrix. We will also assign the true label:"
   ]
  },
  {
   "cell_type": "code",
   "execution_count": 3,
   "metadata": {},
   "outputs": [
    {
     "data": {
      "text/html": [
       "<div>\n",
       "<style scoped>\n",
       "    .dataframe tbody tr th:only-of-type {\n",
       "        vertical-align: middle;\n",
       "    }\n",
       "\n",
       "    .dataframe tbody tr th {\n",
       "        vertical-align: top;\n",
       "    }\n",
       "\n",
       "    .dataframe thead th {\n",
       "        text-align: right;\n",
       "    }\n",
       "</style>\n",
       "<table border=\"1\" class=\"dataframe\">\n",
       "  <thead>\n",
       "    <tr style=\"text-align: right;\">\n",
       "      <th></th>\n",
       "      <th>sentences</th>\n",
       "      <th>LF1</th>\n",
       "      <th>LF2</th>\n",
       "      <th>LF3</th>\n",
       "      <th>y</th>\n",
       "    </tr>\n",
       "  </thead>\n",
       "  <tbody>\n",
       "    <tr>\n",
       "      <th>0</th>\n",
       "      <td>What would you name your boat if you had one?</td>\n",
       "      <td>1</td>\n",
       "      <td>0</td>\n",
       "      <td>0</td>\n",
       "      <td>1</td>\n",
       "    </tr>\n",
       "    <tr>\n",
       "      <th>1</th>\n",
       "      <td>What's the closest thing to real magic?</td>\n",
       "      <td>1</td>\n",
       "      <td>0</td>\n",
       "      <td>0</td>\n",
       "      <td>1</td>\n",
       "    </tr>\n",
       "    <tr>\n",
       "      <th>2</th>\n",
       "      <td>Who is the messiest person you know?</td>\n",
       "      <td>1</td>\n",
       "      <td>0</td>\n",
       "      <td>0</td>\n",
       "      <td>1</td>\n",
       "    </tr>\n",
       "    <tr>\n",
       "      <th>3</th>\n",
       "      <td>What will finally break the internet?</td>\n",
       "      <td>1</td>\n",
       "      <td>0</td>\n",
       "      <td>0</td>\n",
       "      <td>1</td>\n",
       "    </tr>\n",
       "    <tr>\n",
       "      <th>4</th>\n",
       "      <td>What's the most useless talent you have?</td>\n",
       "      <td>1</td>\n",
       "      <td>0</td>\n",
       "      <td>0</td>\n",
       "      <td>1</td>\n",
       "    </tr>\n",
       "  </tbody>\n",
       "</table>\n",
       "</div>"
      ],
      "text/plain": [
       "                                        sentences  LF1  LF2  LF3  y\n",
       "0  What would you name your boat if you had one?     1    0    0  1\n",
       "1        What's the closest thing to real magic?     1    0    0  1\n",
       "2           Who is the messiest person you know?     1    0    0  1\n",
       "3          What will finally break the internet?     1    0    0  1\n",
       "4       What's the most useless talent you have?     1    0    0  1"
      ]
     },
     "execution_count": 3,
     "metadata": {},
     "output_type": "execute_result"
    }
   ],
   "source": [
    "import pandas as pd\n",
    "\n",
    "df = pd.DataFrame({\"sentences\": data})\n",
    "df[\"LF1\"] = df.sentences.map(lf_keyword_lookup)\n",
    "df[\"LF2\"] = df.sentences.map(lf_char_length)\n",
    "df[\"LF3\"] = df.sentences.map(lf_regex_endswith_dot)\n",
    "df[\"y\"]   = df.sentences.map(lambda x: 1 if x.strip().endswith(\"?\") else -1)\n",
    "df.head()"
   ]
  },
  {
   "cell_type": "markdown",
   "metadata": {},
   "source": [
    "Note that LF2 is intuitively not a good LF function. \n",
    "Indeed, we can look at the strength of the signals of each LF by comparing it with the true label. \n",
    "A labeling function is characterized by its **coverage** and **accuracy** (i.e. given it did not abstain):"
   ]
  },
  {
   "cell_type": "code",
   "execution_count": 4,
   "metadata": {},
   "outputs": [
    {
     "name": "stdout",
     "output_type": "stream",
     "text": [
      "coverage: 0.545    acc: 0.750\n",
      "coverage: 0.114    acc: 1.000\n",
      "coverage: 0.432    acc: 1.000\n"
     ]
    }
   ],
   "source": [
    "# Note: the ff. shows *latent* LF parameters\n",
    "print(f\"coverage: {(df.LF1 != 0).mean():.3f}    acc: {(df[df.LF1 != 0].LF1 == df[df.LF1 != 0].y).mean():.3f}\")\n",
    "print(f\"coverage: {(df.LF2 != 0).mean():.3f}    acc: {(df[df.LF2 != 0].LF2 == df[df.LF2 != 0].y).mean():.3f}\")\n",
    "print(f\"coverage: {(df.LF3 != 0).mean():.3f}    acc: {(df[df.LF3 != 0].LF3 == df[df.LF3 != 0].y).mean():.3f}\")"
   ]
  },
  {
   "cell_type": "markdown",
   "metadata": {},
   "source": [
    "**Remark.** Note that we generally do not have access to true labels for a representative sample of our dataset. Hence, even estimating the parameters of our LFs are not possible. The following sections will deal with algorithms for estimating these parameters as well as training a machine learning model with noisy labels."
   ]
  }
 ],
 "metadata": {
  "kernelspec": {
   "display_name": ".venv",
   "language": "python",
   "name": "python3"
  },
  "language_info": {
   "codemirror_mode": {
    "name": "ipython",
    "version": 3
   },
   "file_extension": ".py",
   "mimetype": "text/x-python",
   "name": "python",
   "nbconvert_exporter": "python",
   "pygments_lexer": "ipython3",
   "version": "3.10.4"
  }
 },
 "nbformat": 4,
 "nbformat_minor": 2
}
