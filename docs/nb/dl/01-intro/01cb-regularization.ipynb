{
 "cells": [
  {
   "cell_type": "markdown",
   "id": "ceacc471",
   "metadata": {
    "papermill": {
     "duration": 0.007329,
     "end_time": "2024-09-23T08:58:06.900845",
     "exception": false,
     "start_time": "2024-09-23T08:58:06.893516",
     "status": "completed"
    },
    "tags": []
   },
   "source": [
    "# Regularization"
   ]
  },
  {
   "cell_type": "markdown",
   "id": "6cd50ec9",
   "metadata": {
    "papermill": {
     "duration": 0.002696,
     "end_time": "2024-09-23T08:58:06.906818",
     "exception": false,
     "start_time": "2024-09-23T08:58:06.904122",
     "status": "completed"
    },
    "tags": []
   },
   "source": [
    "How do we control bias and variance? There are two solutions: (1) getting **more data**, (2) tuning **model complexity**. More data decreases variance but has no effect on bias. Increasing complexity decreases bias but increases variance. Since biased models do not scale well with data, a good approach is to start with a complex model and decrease complexity it until we get a good tradeoff. This approach is called **regularization**. Regularization can be thought of as a continuous knob on complexity that smoothly restricts model class."
   ]
  },
  {
   "cell_type": "markdown",
   "id": "0fb8154b",
   "metadata": {
    "papermill": {
     "duration": 0.002187,
     "end_time": "2024-09-23T08:58:06.911384",
     "exception": false,
     "start_time": "2024-09-23T08:58:06.909197",
     "status": "completed"
    },
    "tags": []
   },
   "source": [
    "<br>\n",
    "\n",
    "```{figure} ../../../img/nn/01-high-variance.png\n",
    "---\n",
    "name: 01-high-variance\n",
    "width: 90%\n",
    "align: center\n",
    "---\n",
    "All these have zero training error. But the third one is better. This is because resampling will result in higher empirical risk for the first two, which implies high true risk. Source: [[CS182-lec3]](https://cs182sp21.github.io/static/slides/lec-3.pdf)\n",
    "```"
   ]
  },
  {
   "cell_type": "markdown",
   "id": "cbd5f0a0",
   "metadata": {
    "papermill": {
     "duration": 0.001899,
     "end_time": "2024-09-23T08:58:06.917251",
     "exception": false,
     "start_time": "2024-09-23T08:58:06.915352",
     "status": "completed"
    },
    "tags": []
   },
   "source": [
    "## Bayesian perspective\n",
    "\n",
    "High variance occurs when data does not give enough information to identify parameters. If we provide enough information to disambiguate between (almost) equally good models, we can pick the best one. One way to provide more information is to make certain parameter values more likely. In other words, we assign a **prior** on the parameters. Since the optimizer picks parameter values based on the loss, we can look into how we can augment the loss function to do this. Instead of MLE, we do a [MAP estimate](https://en.wikipedia.org/wiki/Maximum_a_posteriori_estimation) for $\\boldsymbol{\\Theta}$:\n",
    "\n",
    "$$\n",
    "\\begin{aligned}\n",
    "p(\\boldsymbol{\\Theta} \\mid \\mathcal{D}) &\\propto p(\\boldsymbol{\\Theta}) \\; {p(\\mathcal{D} \\mid \\boldsymbol{\\Theta})} \\\\[4pt]\n",
    "&= p(\\boldsymbol{\\Theta}) \\, \\prod_i \\frac{p(\\boldsymbol{\\mathsf{x}}_i, y_i, \\boldsymbol{\\Theta})}{ p(\\boldsymbol{\\Theta})\\,p(\\boldsymbol{\\mathsf{x}}_i)} \\,p(\\boldsymbol{\\mathsf{x}}_i)\n",
    "\\\\\n",
    "&= p(\\boldsymbol{\\Theta}) \\, \\prod_i \\frac{p(\\boldsymbol{\\mathsf{x}}_i, y_i, \\boldsymbol{\\Theta})}{ p(\\boldsymbol{\\mathsf{x}}_i, \\boldsymbol{\\Theta})} \\,p(\\boldsymbol{\\mathsf{x}}_i)\n",
    "\\\\\n",
    "&= p(\\boldsymbol{\\Theta}) \\, \\prod_i p_{\\boldsymbol{\\Theta}}(y_i \\mid \\boldsymbol{\\mathsf{x}}_i) \\,p(\\boldsymbol{\\mathsf{x}}_i).\n",
    "\\\\\n",
    "\\end{aligned}\n",
    "$$\n",
    "\n",
    "Note we used independence between params and input. This also means that the term for the input is an additive constant, and therefore ignored in the resulting loss: \n",
    "\n",
    "$$\n",
    "\\mathcal{L}_{\\mathcal{D}}(\\boldsymbol{\\Theta}) = - \\left (\\sum_i \\log p_{\\boldsymbol{\\Theta}}(y_i \\mid \\boldsymbol{\\mathsf{x}}_i) \\right) - \\underbrace{\\log p(\\boldsymbol{\\Theta})}_{\\text{we choose this}}.\n",
    "$$\n",
    "\n",
    "Can we pick a prior that makes the smoother function more likely?\n",
    "This can be done by assuming a distribution on $\\boldsymbol{\\Theta}$ that assigns higher probabilities to **small** weights: e.g. $p(\\boldsymbol{\\Theta}) \\sim \\mathcal{N}(\\mathbf{0}, \\sigma^2\\mathbf{I}).$ This may result\n",
    "in a smoother fit ({numref}`01-high-variance`c). Solving the prior:\n",
    "\n",
    "$$\n",
    "\\begin{aligned}\n",
    "\\log p(\\boldsymbol{\\Theta}) \n",
    "&= \\sum_{j} \\left(-\\frac{1}{2\\sigma^2} {\\theta_j}^2  - \\log \\sigma - \\frac{1}{2} \\log 2 \\pi \\right) \\\\\n",
    "&= - \\lambda \\lVert \\boldsymbol{\\Theta} \\rVert^2 + \\text{const.} \\\\\n",
    "\\end{aligned}\n",
    "$$\n",
    "\n",
    "where $\\lambda > 0$  and $\\lVert \\cdot \\rVert$ is the L2 norm. \n",
    "Since we choose the prior, $\\lambda$ effectively becomes a **hyperparameter** that controls the strength of regularization. The resulting loss has the **L2 regularization** term:  \n",
    "\n",
    "\n",
    "$$\n",
    "\\mathcal{L}_{\\mathcal{D}}(\\boldsymbol{\\Theta}) = - \\left( \\sum_i \\log p_{\\boldsymbol{\\Theta}}(y_i \\mid \\boldsymbol{\\mathsf{x}}_i) \\right) - \\lambda \\lVert \\boldsymbol{\\Theta} \\rVert^2.\n",
    "$$\n",
    "\n",
    "The same analysis with a [Laplace prior](https://en.wikipedia.org/wiki/Laplace_distribution) results in the **L1 regularization** term: \n",
    "\n",
    "$$- \\lambda \\lVert \\boldsymbol{\\Theta} \\rVert_1 = -\\lambda \\sum_j |\\theta_j|.$$"
   ]
  },
  {
   "cell_type": "markdown",
   "id": "71c61eb5",
   "metadata": {
    "papermill": {
     "duration": 0.001818,
     "end_time": "2024-09-23T08:58:06.920893",
     "exception": false,
     "start_time": "2024-09-23T08:58:06.919075",
     "status": "completed"
    },
    "tags": []
   },
   "source": [
    "**Remark.** It makes sense that MAP estimates result in weight penalty since the weight distribution is biased towards low values. \n",
    "Intuitively, large weights means that the network is memorizing the training dataset, and we get sharper probability distributions \n",
    "with respect to varying input features. Since the class of models are restricted to having low weights, this puts a constraint on \n",
    "the model class, resulting in decreased complexity. \n",
    "Note that these regularizers introduce hyperparameters that we have to tune well. See experiments below."
   ]
  },
  {
   "cell_type": "markdown",
   "id": "376f0944",
   "metadata": {
    "papermill": {
     "duration": 0.001631,
     "end_time": "2024-09-23T08:58:06.924295",
     "exception": false,
     "start_time": "2024-09-23T08:58:06.922664",
     "status": "completed"
    },
    "tags": []
   },
   "source": [
    "<br>\n",
    "\n",
    "```{figure} ../../../img/nn/01-regularization-contour.png\n",
    "---\n",
    "name: 01-regularization-contour\n",
    "width: 80%\n",
    "align: center\n",
    "---\n",
    "Minimizing both prediction loss and regularization loss surfaces. \n",
    "The green point shows the optimal weights for fixed prediction loss.\n",
    "L1 results in sparse weights, while L2 distributes the contraint among both weights.\n",
    "[Source](https://cs182sp21.github.io/static/slides/lec-3.pdf)\n",
    "```"
   ]
  },
  {
   "cell_type": "markdown",
   "id": "09241a9d",
   "metadata": {
    "papermill": {
     "duration": 0.001457,
     "end_time": "2024-09-23T08:58:06.927240",
     "exception": false,
     "start_time": "2024-09-23T08:58:06.925783",
     "status": "completed"
    },
    "tags": []
   },
   "source": [
    "## Other perspectives \n",
    "\n",
    "A numerical perspective is that adding a regularization term can make underdetermined problems well-determined (i.e. has a better defined minimum). The optimization perspective is that the regularizer makes the loss landscape easier to search.\n",
    "Paradoxically, regularizers can sometimes reduce underfitting if it was due to poor optimization!\n",
    "Other types of regularizers are ensembling (e.g. [Dropout](https://machinelearningmastery.com/dropout-for-regularizing-deep-neural-networks/)) and [gradient penalty](https://towardsdatascience.com/demystified-wasserstein-gan-with-gradient-penalty-ba5e9b905ead) (for GANs)."
   ]
  },
  {
   "cell_type": "markdown",
   "id": "1152d1bb",
   "metadata": {
    "papermill": {
     "duration": 0.001443,
     "end_time": "2024-09-23T08:58:06.930157",
     "exception": false,
     "start_time": "2024-09-23T08:58:06.928714",
     "status": "completed"
    },
    "tags": []
   },
   "source": [
    "<br>\n",
    "\n",
    "```{figure} ../../../img/nn/01-dropout.png\n",
    "---\n",
    "name: 01-dropout\n",
    "width: 80%\n",
    "align: center\n",
    "---\n",
    "{cite}`dropout` Dropout drops random units with probability $p$ at each step during training. This prevents overfitting by reducing the co-adaptation of neurons during training, which in turn limits the capacity of the model to fit noise in the training data. Since only $1 - p$ units are present during training, the activations are scaled by $\\frac{1}{1 - p}$ to match test behavior.\n",
    "```"
   ]
  }
 ],
 "metadata": {
  "kernelspec": {
   "display_name": ".venv",
   "language": "python",
   "name": "python3"
  },
  "language_info": {
   "codemirror_mode": {
    "name": "ipython",
    "version": 3
   },
   "file_extension": ".py",
   "mimetype": "text/x-python",
   "name": "python",
   "nbconvert_exporter": "python",
   "pygments_lexer": "ipython3",
   "version": "3.10.4"
  },
  "papermill": {
   "default_parameters": {},
   "duration": 0.963146,
   "end_time": "2024-09-23T08:58:07.048316",
   "environment_variables": {},
   "exception": null,
   "input_path": "01cb-regularization.ipynb",
   "output_path": "01cb-regularization.ipynb",
   "parameters": {},
   "start_time": "2024-09-23T08:58:06.085170",
   "version": "2.6.0"
  }
 },
 "nbformat": 4,
 "nbformat_minor": 5
}