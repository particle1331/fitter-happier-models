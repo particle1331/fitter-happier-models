{
 "cells": [
  {
   "attachments": {},
   "cell_type": "markdown",
   "metadata": {},
   "source": [
    "(dl/06-gpt)=\n",
    "# GPT for Text Generation"
   ]
  },
  {
   "attachments": {},
   "cell_type": "markdown",
   "metadata": {},
   "source": [
    "![Status](https://img.shields.io/static/v1.svg?label=Status&message=Finished&color=brightgreen)\n",
    "[![Source](https://img.shields.io/static/v1.svg?label=GitHub&message=Source&color=181717&logo=GitHub)](https://github.com/particle1331/ok-transformer/blob/master/docs/nb/dl/06-gpt.ipynb)\n",
    "[![Stars](https://img.shields.io/github/stars/particle1331/ok-transformer?style=social)](https://github.com/particle1331/ok-transformer)\n",
    "\n",
    "---\n",
    "\n",
    "**Readings:**  {cite}`timviera`\n",
    "\n",
    "## Introduction"
   ]
  },
  {
   "attachments": {},
   "cell_type": "markdown",
   "metadata": {},
   "source": [
    "In this notebook."
   ]
  },
  {
   "cell_type": "markdown",
   "metadata": {},
   "source": [
    "- GPT generates text sequentially, stochastically\n",
    "- attention is all you need paper, landmark paper, transformer architecture\n",
    "- GPT = generative pretrained transformer\n",
    "\n",
    "```\n",
    "@inproceedings{Radford2018ImprovingLU,\n",
    "  title={Improving Language Understanding by Generative Pre-Training},\n",
    "  author={Alec Radford and Karthik Narasimhan},\n",
    "  year={2018},\n",
    "  url={https://api.semanticscholar.org/CorpusID:49313245}\n",
    "}\n",
    "```\n",
    "\n",
    "```\n",
    "\n",
    "```"
   ]
  },
  {
   "cell_type": "markdown",
   "metadata": {},
   "source": [
    "- model how characters follow each other\n",
    "- given some context, transformer predicts next characters\n",
    "- looking like the dataset\n",
    "- try prompt\n",
    "- generate shakespeare\n",
    "- https://github.com/karpathy/nanoGPT/tree/master for training transformers\n",
    "    - fine-tuning\n",
    "    - multi-gpu\n",
    "    - training args\n",
    "    - loading openai weights\n",
    "    - eval scripts\n",
    "    - inference\n"
   ]
  },
  {
   "cell_type": "code",
   "execution_count": 2,
   "metadata": {},
   "outputs": [
    {
     "name": "stdout",
     "output_type": "stream",
     "text": [
      "Data files already exist.\n"
     ]
    }
   ],
   "source": [
    "import os\n",
    "if not os.path.isfile(\"./data/tinyshakespeare.txt\"):\n",
    "    !wget -O ./data/tinyshakespeare.txt https://raw.githubusercontent.com/karpathy/char-rnn/master/data/tinyshakespeare/input.txt\n",
    "else:\n",
    "    print(\"Data files already exist.\")\n"
   ]
  },
  {
   "cell_type": "code",
   "execution_count": null,
   "metadata": {},
   "outputs": [],
   "source": []
  },
  {
   "cell_type": "markdown",
   "metadata": {},
   "source": [
    "---"
   ]
  },
  {
   "cell_type": "markdown",
   "metadata": {},
   "source": [
    "■"
   ]
  }
 ],
 "metadata": {
  "kernelspec": {
   "display_name": "ai",
   "language": "python",
   "name": "python3"
  },
  "language_info": {
   "codemirror_mode": {
    "name": "ipython",
    "version": 3
   },
   "file_extension": ".py",
   "mimetype": "text/x-python",
   "name": "python",
   "nbconvert_exporter": "python",
   "pygments_lexer": "ipython3",
   "version": "3.9.18"
  }
 },
 "nbformat": 4,
 "nbformat_minor": 2
}
