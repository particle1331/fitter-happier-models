{
 "cells": [
  {
   "attachments": {},
   "cell_type": "markdown",
   "metadata": {},
   "source": [
    "(dl/06-residuals)=\n",
    "# Residual Connections"
   ]
  },
  {
   "attachments": {},
   "cell_type": "markdown",
   "metadata": {},
   "source": [
    "![Status](https://img.shields.io/static/v1.svg?label=Status&message=Finished&color=brightgreen)\n",
    "[![Source](https://img.shields.io/static/v1.svg?label=GitHub&message=Source&color=181717&logo=GitHub)](https://github.com/particle1331/ok-transformer/blob/master/docs/nb/dl/06-residuals.ipynb)\n",
    "[![Stars](https://img.shields.io/github/stars/particle1331/ok-transformer?style=social)](https://github.com/particle1331/ok-transformer)\n",
    "\n",
    "---\n",
    "\n",
    "**Readings:**  {cite}`timviera`\n",
    "\n",
    "## Introduction"
   ]
  },
  {
   "attachments": {},
   "cell_type": "markdown",
   "metadata": {},
   "source": [
    "```\n",
    "Deep nns are incredibly powerful but can be hard to train.\n",
    "in part because of more params -> more data -> slower. \n",
    "but independent of dataset, depth can be an obstacle to training.\n",
    "\n",
    "shalow -> large decrease in loss\n",
    "deep -> slow decrease in loss, then minimum is better than shallow after a long time\n",
    "\n",
    "to figure out why deep network is slow:\n",
    "- network initialized randomly at first\n",
    "- by the time we get to last layer, input becomes random noise\n",
    "- by the time we get to first layer, initial gradient ~ random noise.\n",
    "- (scrambled by multiplication of random weight matrices)\n",
    "- we'd like for data to arrive on deeper layer that is more meaningful\n",
    "- and gradients to arrive on early layers and make weight updates more meaningful.\n",
    "\n",
    "both these goals are achieved using skip connections.\n",
    "- blocks (both through = normal, and around = skip)\n",
    "- two paths\n",
    "- gradients can pass undisturbed.\n",
    "\n",
    "advantage\n",
    "- function augments existing data\n",
    "- layer only figures out what information it can add to input\n",
    "- much easier to learn. block does not start from scratch. (starts with input)\n",
    "- initially what we add is close to zero. => information relatively unchanged.\n",
    "- shorter gradient paths\n",
    "- modularity\n",
    "\n",
    "rank collapse\n",
    "- ???\n",
    "```"
   ]
  }
 ],
 "metadata": {
  "kernelspec": {
   "display_name": "ai",
   "language": "python",
   "name": "python3"
  },
  "language_info": {
   "codemirror_mode": {
    "name": "ipython",
    "version": 3
   },
   "file_extension": ".py",
   "mimetype": "text/x-python",
   "name": "python",
   "nbconvert_exporter": "python",
   "pygments_lexer": "ipython3",
   "version": "3.9.18"
  }
 },
 "nbformat": 4,
 "nbformat_minor": 2
}
