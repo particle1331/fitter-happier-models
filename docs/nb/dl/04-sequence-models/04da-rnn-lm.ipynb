{
 "cells": [
  {
   "cell_type": "markdown",
   "id": "2c4f3e6d",
   "metadata": {
    "papermill": {
     "duration": 0.014274,
     "end_time": "2024-11-21T16:15:56.501513",
     "exception": false,
     "start_time": "2024-11-21T16:15:56.487239",
     "status": "completed"
    },
    "tags": []
   },
   "source": [
    "# Language model"
   ]
  },
  {
   "cell_type": "code",
   "execution_count": 2,
   "id": "120fc610",
   "metadata": {
    "execution": {
     "iopub.execute_input": "2024-11-21T16:15:56.514960Z",
     "iopub.status.busy": "2024-11-21T16:15:56.514503Z",
     "iopub.status.idle": "2024-11-21T16:15:57.963623Z",
     "shell.execute_reply": "2024-11-21T16:15:57.963310Z"
    },
    "papermill": {
     "duration": 1.457639,
     "end_time": "2024-11-21T16:15:57.965386",
     "exception": false,
     "start_time": "2024-11-21T16:15:56.507747",
     "status": "completed"
    },
    "tags": [
     "remove-cell"
    ]
   },
   "outputs": [],
   "source": [
    "from chapter import *"
   ]
  },
  {
   "cell_type": "markdown",
   "id": "1dd5f01c",
   "metadata": {
    "papermill": {
     "duration": 0.001155,
     "end_time": "2024-11-21T16:15:57.968289",
     "exception": false,
     "start_time": "2024-11-21T16:15:57.967134",
     "status": "completed"
    },
    "tags": []
   },
   "source": [
    "Our goal in this section is to train a character-level RNN language model to predict the next token at *each* step with varying-length context. Hence, during training, our model predicts on each time-step. This is reflected in the following implementation. Also see {numref}`04-char-rnn`."
   ]
  },
  {
   "cell_type": "markdown",
   "id": "a05a2576",
   "metadata": {
    "papermill": {
     "duration": 0.001091,
     "end_time": "2024-11-21T16:15:57.970482",
     "exception": false,
     "start_time": "2024-11-21T16:15:57.969391",
     "status": "completed"
    },
    "tags": []
   },
   "source": [
    "<br>\n",
    "\n",
    "```{figure} ../../../img/nn/04-char-rnn.svg\n",
    "---\n",
    "width: 550px\n",
    "name: 04-char-rnn\n",
    "align: center\n",
    "---\n",
    "Character-level RNN language model for predicting the next character at each step.  [Source](https://www.d2l.ai/chapter_recurrent-neural-networks/rnn.html)\n",
    "```"
   ]
  },
  {
   "cell_type": "code",
   "execution_count": 3,
   "id": "33053e9e",
   "metadata": {
    "execution": {
     "iopub.execute_input": "2024-11-21T16:15:57.973473Z",
     "iopub.status.busy": "2024-11-21T16:15:57.973278Z",
     "iopub.status.idle": "2024-11-21T16:15:57.997571Z",
     "shell.execute_reply": "2024-11-21T16:15:57.997214Z"
    },
    "papermill": {
     "duration": 0.027268,
     "end_time": "2024-11-21T16:15:57.998823",
     "exception": false,
     "start_time": "2024-11-21T16:15:57.971555",
     "status": "completed"
    },
    "tags": [
     "remove-input"
    ]
   },
   "outputs": [
    {
     "data": {
      "text/html": [
       "<style>pre { line-height: 125%; }\n",
       "td.linenos .normal { color: inherit; background-color: transparent; padding-left: 5px; padding-right: 5px; }\n",
       "span.linenos { color: inherit; background-color: transparent; padding-left: 5px; padding-right: 5px; }\n",
       "td.linenos .special { color: #000000; background-color: #ffffc0; padding-left: 5px; padding-right: 5px; }\n",
       "span.linenos.special { color: #000000; background-color: #ffffc0; padding-left: 5px; padding-right: 5px; }\n",
       ".output_html .hll { background-color: #ffffcc }\n",
       ".output_html { background: #f8f8f8; }\n",
       ".output_html .c { color: #3D7B7B; font-style: italic } /* Comment */\n",
       ".output_html .err { border: 1px solid #FF0000 } /* Error */\n",
       ".output_html .k { color: #008000; font-weight: bold } /* Keyword */\n",
       ".output_html .o { color: #666666 } /* Operator */\n",
       ".output_html .ch { color: #3D7B7B; font-style: italic } /* Comment.Hashbang */\n",
       ".output_html .cm { color: #3D7B7B; font-style: italic } /* Comment.Multiline */\n",
       ".output_html .cp { color: #9C6500 } /* Comment.Preproc */\n",
       ".output_html .cpf { color: #3D7B7B; font-style: italic } /* Comment.PreprocFile */\n",
       ".output_html .c1 { color: #3D7B7B; font-style: italic } /* Comment.Single */\n",
       ".output_html .cs { color: #3D7B7B; font-style: italic } /* Comment.Special */\n",
       ".output_html .gd { color: #A00000 } /* Generic.Deleted */\n",
       ".output_html .ge { font-style: italic } /* Generic.Emph */\n",
       ".output_html .ges { font-weight: bold; font-style: italic } /* Generic.EmphStrong */\n",
       ".output_html .gr { color: #E40000 } /* Generic.Error */\n",
       ".output_html .gh { color: #000080; font-weight: bold } /* Generic.Heading */\n",
       ".output_html .gi { color: #008400 } /* Generic.Inserted */\n",
       ".output_html .go { color: #717171 } /* Generic.Output */\n",
       ".output_html .gp { color: #000080; font-weight: bold } /* Generic.Prompt */\n",
       ".output_html .gs { font-weight: bold } /* Generic.Strong */\n",
       ".output_html .gu { color: #800080; font-weight: bold } /* Generic.Subheading */\n",
       ".output_html .gt { color: #0044DD } /* Generic.Traceback */\n",
       ".output_html .kc { color: #008000; font-weight: bold } /* Keyword.Constant */\n",
       ".output_html .kd { color: #008000; font-weight: bold } /* Keyword.Declaration */\n",
       ".output_html .kn { color: #008000; font-weight: bold } /* Keyword.Namespace */\n",
       ".output_html .kp { color: #008000 } /* Keyword.Pseudo */\n",
       ".output_html .kr { color: #008000; font-weight: bold } /* Keyword.Reserved */\n",
       ".output_html .kt { color: #B00040 } /* Keyword.Type */\n",
       ".output_html .m { color: #666666 } /* Literal.Number */\n",
       ".output_html .s { color: #BA2121 } /* Literal.String */\n",
       ".output_html .na { color: #687822 } /* Name.Attribute */\n",
       ".output_html .nb { color: #008000 } /* Name.Builtin */\n",
       ".output_html .nc { color: #0000FF; font-weight: bold } /* Name.Class */\n",
       ".output_html .no { color: #880000 } /* Name.Constant */\n",
       ".output_html .nd { color: #AA22FF } /* Name.Decorator */\n",
       ".output_html .ni { color: #717171; font-weight: bold } /* Name.Entity */\n",
       ".output_html .ne { color: #CB3F38; font-weight: bold } /* Name.Exception */\n",
       ".output_html .nf { color: #0000FF } /* Name.Function */\n",
       ".output_html .nl { color: #767600 } /* Name.Label */\n",
       ".output_html .nn { color: #0000FF; font-weight: bold } /* Name.Namespace */\n",
       ".output_html .nt { color: #008000; font-weight: bold } /* Name.Tag */\n",
       ".output_html .nv { color: #19177C } /* Name.Variable */\n",
       ".output_html .ow { color: #AA22FF; font-weight: bold } /* Operator.Word */\n",
       ".output_html .w { color: #bbbbbb } /* Text.Whitespace */\n",
       ".output_html .mb { color: #666666 } /* Literal.Number.Bin */\n",
       ".output_html .mf { color: #666666 } /* Literal.Number.Float */\n",
       ".output_html .mh { color: #666666 } /* Literal.Number.Hex */\n",
       ".output_html .mi { color: #666666 } /* Literal.Number.Integer */\n",
       ".output_html .mo { color: #666666 } /* Literal.Number.Oct */\n",
       ".output_html .sa { color: #BA2121 } /* Literal.String.Affix */\n",
       ".output_html .sb { color: #BA2121 } /* Literal.String.Backtick */\n",
       ".output_html .sc { color: #BA2121 } /* Literal.String.Char */\n",
       ".output_html .dl { color: #BA2121 } /* Literal.String.Delimiter */\n",
       ".output_html .sd { color: #BA2121; font-style: italic } /* Literal.String.Doc */\n",
       ".output_html .s2 { color: #BA2121 } /* Literal.String.Double */\n",
       ".output_html .se { color: #AA5D1F; font-weight: bold } /* Literal.String.Escape */\n",
       ".output_html .sh { color: #BA2121 } /* Literal.String.Heredoc */\n",
       ".output_html .si { color: #A45A77; font-weight: bold } /* Literal.String.Interpol */\n",
       ".output_html .sx { color: #008000 } /* Literal.String.Other */\n",
       ".output_html .sr { color: #A45A77 } /* Literal.String.Regex */\n",
       ".output_html .s1 { color: #BA2121 } /* Literal.String.Single */\n",
       ".output_html .ss { color: #19177C } /* Literal.String.Symbol */\n",
       ".output_html .bp { color: #008000 } /* Name.Builtin.Pseudo */\n",
       ".output_html .fm { color: #0000FF } /* Name.Function.Magic */\n",
       ".output_html .vc { color: #19177C } /* Name.Variable.Class */\n",
       ".output_html .vg { color: #19177C } /* Name.Variable.Global */\n",
       ".output_html .vi { color: #19177C } /* Name.Variable.Instance */\n",
       ".output_html .vm { color: #19177C } /* Name.Variable.Magic */\n",
       ".output_html .il { color: #666666 } /* Literal.Number.Integer.Long */</style><div class=\"highlight\"><pre><span></span><span class=\"k\">class</span> <span class=\"nc\">RNNLanguageModel</span><span class=\"p\">(</span><span class=\"n\">nn</span><span class=\"o\">.</span><span class=\"n\">Module</span><span class=\"p\">):</span>\n",
       "<span class=\"w\">    </span><span class=\"sd\">&quot;&quot;&quot;RNN based language model.&quot;&quot;&quot;</span>\n",
       "    <span class=\"k\">def</span> <span class=\"fm\">__init__</span><span class=\"p\">(</span><span class=\"bp\">self</span><span class=\"p\">,</span> <span class=\"n\">dim_inputs</span><span class=\"p\">,</span> <span class=\"n\">dim_hidden</span><span class=\"p\">,</span> <span class=\"n\">vocab_size</span><span class=\"p\">):</span>\n",
       "        <span class=\"nb\">super</span><span class=\"p\">()</span><span class=\"o\">.</span><span class=\"fm\">__init__</span><span class=\"p\">()</span>\n",
       "        <span class=\"bp\">self</span><span class=\"o\">.</span><span class=\"n\">rnn</span> <span class=\"o\">=</span> <span class=\"n\">SimpleRNN</span><span class=\"p\">(</span><span class=\"n\">dim_inputs</span><span class=\"p\">,</span> <span class=\"n\">dim_hidden</span><span class=\"p\">)</span>\n",
       "        <span class=\"bp\">self</span><span class=\"o\">.</span><span class=\"n\">linear</span> <span class=\"o\">=</span> <span class=\"n\">nn</span><span class=\"o\">.</span><span class=\"n\">Linear</span><span class=\"p\">(</span><span class=\"n\">dim_hidden</span><span class=\"p\">,</span> <span class=\"n\">vocab_size</span><span class=\"p\">)</span>\n",
       "\n",
       "    <span class=\"k\">def</span> <span class=\"nf\">forward</span><span class=\"p\">(</span><span class=\"bp\">self</span><span class=\"p\">,</span> <span class=\"n\">x</span><span class=\"p\">,</span> <span class=\"n\">state</span><span class=\"o\">=</span><span class=\"kc\">None</span><span class=\"p\">):</span>\n",
       "        <span class=\"n\">outs</span><span class=\"p\">,</span> <span class=\"n\">_</span> <span class=\"o\">=</span> <span class=\"bp\">self</span><span class=\"o\">.</span><span class=\"n\">rnn</span><span class=\"p\">(</span><span class=\"n\">x</span><span class=\"p\">,</span> <span class=\"n\">state</span><span class=\"p\">)</span>\n",
       "        <span class=\"n\">logits</span> <span class=\"o\">=</span> <span class=\"bp\">self</span><span class=\"o\">.</span><span class=\"n\">linear</span><span class=\"p\">(</span><span class=\"n\">outs</span><span class=\"p\">)</span>         <span class=\"c1\"># (B, T, H) -&gt; (B, T, C)</span>\n",
       "        <span class=\"k\">return</span> <span class=\"n\">logits</span><span class=\"o\">.</span><span class=\"n\">permute</span><span class=\"p\">(</span><span class=\"mi\">0</span><span class=\"p\">,</span> <span class=\"mi\">2</span><span class=\"p\">,</span> <span class=\"mi\">1</span><span class=\"p\">)</span>     <span class=\"c1\"># F.cross_entropy expects (B, C, T)</span>\n",
       "</pre></div>\n"
      ],
      "text/latex": [
       "\\begin{Verbatim}[commandchars=\\\\\\{\\}]\n",
       "\\PY{k}{class} \\PY{n+nc}{RNNLanguageModel}\\PY{p}{(}\\PY{n}{nn}\\PY{o}{.}\\PY{n}{Module}\\PY{p}{)}\\PY{p}{:}\n",
       "\\PY{+w}{    }\\PY{l+s+sd}{\\PYZdq{}\\PYZdq{}\\PYZdq{}RNN based language model.\\PYZdq{}\\PYZdq{}\\PYZdq{}}\n",
       "    \\PY{k}{def} \\PY{n+nf+fm}{\\PYZus{}\\PYZus{}init\\PYZus{}\\PYZus{}}\\PY{p}{(}\\PY{n+nb+bp}{self}\\PY{p}{,} \\PY{n}{dim\\PYZus{}inputs}\\PY{p}{,} \\PY{n}{dim\\PYZus{}hidden}\\PY{p}{,} \\PY{n}{vocab\\PYZus{}size}\\PY{p}{)}\\PY{p}{:}\n",
       "        \\PY{n+nb}{super}\\PY{p}{(}\\PY{p}{)}\\PY{o}{.}\\PY{n+nf+fm}{\\PYZus{}\\PYZus{}init\\PYZus{}\\PYZus{}}\\PY{p}{(}\\PY{p}{)}\n",
       "        \\PY{n+nb+bp}{self}\\PY{o}{.}\\PY{n}{rnn} \\PY{o}{=} \\PY{n}{SimpleRNN}\\PY{p}{(}\\PY{n}{dim\\PYZus{}inputs}\\PY{p}{,} \\PY{n}{dim\\PYZus{}hidden}\\PY{p}{)}\n",
       "        \\PY{n+nb+bp}{self}\\PY{o}{.}\\PY{n}{linear} \\PY{o}{=} \\PY{n}{nn}\\PY{o}{.}\\PY{n}{Linear}\\PY{p}{(}\\PY{n}{dim\\PYZus{}hidden}\\PY{p}{,} \\PY{n}{vocab\\PYZus{}size}\\PY{p}{)}\n",
       "\n",
       "    \\PY{k}{def} \\PY{n+nf}{forward}\\PY{p}{(}\\PY{n+nb+bp}{self}\\PY{p}{,} \\PY{n}{x}\\PY{p}{,} \\PY{n}{state}\\PY{o}{=}\\PY{k+kc}{None}\\PY{p}{)}\\PY{p}{:}\n",
       "        \\PY{n}{outs}\\PY{p}{,} \\PY{n}{\\PYZus{}} \\PY{o}{=} \\PY{n+nb+bp}{self}\\PY{o}{.}\\PY{n}{rnn}\\PY{p}{(}\\PY{n}{x}\\PY{p}{,} \\PY{n}{state}\\PY{p}{)}\n",
       "        \\PY{n}{logits} \\PY{o}{=} \\PY{n+nb+bp}{self}\\PY{o}{.}\\PY{n}{linear}\\PY{p}{(}\\PY{n}{outs}\\PY{p}{)}         \\PY{c+c1}{\\PYZsh{} (B, T, H) \\PYZhy{}\\PYZgt{} (B, T, C)}\n",
       "        \\PY{k}{return} \\PY{n}{logits}\\PY{o}{.}\\PY{n}{permute}\\PY{p}{(}\\PY{l+m+mi}{0}\\PY{p}{,} \\PY{l+m+mi}{2}\\PY{p}{,} \\PY{l+m+mi}{1}\\PY{p}{)}     \\PY{c+c1}{\\PYZsh{} F.cross\\PYZus{}entropy expects (B, C, T)}\n",
       "\\end{Verbatim}\n"
      ],
      "text/plain": [
       "class RNNLanguageModel(nn.Module):\n",
       "    \"\"\"RNN based language model.\"\"\"\n",
       "    def __init__(self, dim_inputs, dim_hidden, vocab_size):\n",
       "        super().__init__()\n",
       "        self.rnn = SimpleRNN(dim_inputs, dim_hidden)\n",
       "        self.linear = nn.Linear(dim_hidden, vocab_size)\n",
       "\n",
       "    def forward(self, x, state=None):\n",
       "        outs, _ = self.rnn(x, state)\n",
       "        logits = self.linear(outs)         # (B, T, H) -> (B, T, C)\n",
       "        return logits.permute(0, 2, 1)     # F.cross_entropy expects (B, C, T)"
      ]
     },
     "execution_count": 3,
     "metadata": {},
     "output_type": "execute_result"
    }
   ],
   "source": [
    "%%save\n",
    "class RNNLanguageModel(nn.Module):\n",
    "    \"\"\"RNN based language model.\"\"\"\n",
    "    def __init__(self, dim_inputs, dim_hidden, vocab_size):\n",
    "        super().__init__()\n",
    "        self.rnn = SimpleRNN(dim_inputs, dim_hidden)\n",
    "        self.linear = nn.Linear(dim_hidden, vocab_size)\n",
    "\n",
    "    def forward(self, x, state=None):\n",
    "        outs, _ = self.rnn(x, state)\n",
    "        logits = self.linear(outs)         # (B, T, H) -> (B, T, C)\n",
    "        return logits.permute(0, 2, 1)     # F.cross_entropy expects (B, C, T)"
   ]
  },
  {
   "cell_type": "markdown",
   "id": "e349b7b9",
   "metadata": {
    "papermill": {
     "duration": 0.001205,
     "end_time": "2024-11-21T16:15:58.001503",
     "exception": false,
     "start_time": "2024-11-21T16:15:58.000298",
     "status": "completed"
    },
    "tags": []
   },
   "source": [
    "The linear layer performs matrix multiplication on the rightmost dimension of `outs` which contains  the value of the state vector at each time step. Thus, we have $T$ predictions with increasing context size[^1] $1, 2, \\ldots, T.$ As such, our dataset consists of input-output pairs of $T$ input characters and $T$ target characters.\n",
    "\n",
    "[^1]: Consequently, the model gets corrected at each time step, with variable-length dependency, during backward pass. "
   ]
  },
  {
   "cell_type": "code",
   "execution_count": 3,
   "id": "d8ec7cbf",
   "metadata": {
    "execution": {
     "iopub.execute_input": "2024-11-21T16:15:58.004520Z",
     "iopub.status.busy": "2024-11-21T16:15:58.004377Z",
     "iopub.status.idle": "2024-11-21T16:15:58.011471Z",
     "shell.execute_reply": "2024-11-21T16:15:58.011174Z"
    },
    "papermill": {
     "duration": 0.009773,
     "end_time": "2024-11-21T16:15:58.012399",
     "exception": false,
     "start_time": "2024-11-21T16:15:58.002626",
     "status": "completed"
    },
    "tags": [
     "remove-input"
    ]
   },
   "outputs": [
    {
     "data": {
      "text/html": [
       "<style>pre { line-height: 125%; }\n",
       "td.linenos .normal { color: inherit; background-color: transparent; padding-left: 5px; padding-right: 5px; }\n",
       "span.linenos { color: inherit; background-color: transparent; padding-left: 5px; padding-right: 5px; }\n",
       "td.linenos .special { color: #000000; background-color: #ffffc0; padding-left: 5px; padding-right: 5px; }\n",
       "span.linenos.special { color: #000000; background-color: #ffffc0; padding-left: 5px; padding-right: 5px; }\n",
       ".output_html .hll { background-color: #ffffcc }\n",
       ".output_html { background: #f8f8f8; }\n",
       ".output_html .c { color: #3D7B7B; font-style: italic } /* Comment */\n",
       ".output_html .err { border: 1px solid #FF0000 } /* Error */\n",
       ".output_html .k { color: #008000; font-weight: bold } /* Keyword */\n",
       ".output_html .o { color: #666666 } /* Operator */\n",
       ".output_html .ch { color: #3D7B7B; font-style: italic } /* Comment.Hashbang */\n",
       ".output_html .cm { color: #3D7B7B; font-style: italic } /* Comment.Multiline */\n",
       ".output_html .cp { color: #9C6500 } /* Comment.Preproc */\n",
       ".output_html .cpf { color: #3D7B7B; font-style: italic } /* Comment.PreprocFile */\n",
       ".output_html .c1 { color: #3D7B7B; font-style: italic } /* Comment.Single */\n",
       ".output_html .cs { color: #3D7B7B; font-style: italic } /* Comment.Special */\n",
       ".output_html .gd { color: #A00000 } /* Generic.Deleted */\n",
       ".output_html .ge { font-style: italic } /* Generic.Emph */\n",
       ".output_html .ges { font-weight: bold; font-style: italic } /* Generic.EmphStrong */\n",
       ".output_html .gr { color: #E40000 } /* Generic.Error */\n",
       ".output_html .gh { color: #000080; font-weight: bold } /* Generic.Heading */\n",
       ".output_html .gi { color: #008400 } /* Generic.Inserted */\n",
       ".output_html .go { color: #717171 } /* Generic.Output */\n",
       ".output_html .gp { color: #000080; font-weight: bold } /* Generic.Prompt */\n",
       ".output_html .gs { font-weight: bold } /* Generic.Strong */\n",
       ".output_html .gu { color: #800080; font-weight: bold } /* Generic.Subheading */\n",
       ".output_html .gt { color: #0044DD } /* Generic.Traceback */\n",
       ".output_html .kc { color: #008000; font-weight: bold } /* Keyword.Constant */\n",
       ".output_html .kd { color: #008000; font-weight: bold } /* Keyword.Declaration */\n",
       ".output_html .kn { color: #008000; font-weight: bold } /* Keyword.Namespace */\n",
       ".output_html .kp { color: #008000 } /* Keyword.Pseudo */\n",
       ".output_html .kr { color: #008000; font-weight: bold } /* Keyword.Reserved */\n",
       ".output_html .kt { color: #B00040 } /* Keyword.Type */\n",
       ".output_html .m { color: #666666 } /* Literal.Number */\n",
       ".output_html .s { color: #BA2121 } /* Literal.String */\n",
       ".output_html .na { color: #687822 } /* Name.Attribute */\n",
       ".output_html .nb { color: #008000 } /* Name.Builtin */\n",
       ".output_html .nc { color: #0000FF; font-weight: bold } /* Name.Class */\n",
       ".output_html .no { color: #880000 } /* Name.Constant */\n",
       ".output_html .nd { color: #AA22FF } /* Name.Decorator */\n",
       ".output_html .ni { color: #717171; font-weight: bold } /* Name.Entity */\n",
       ".output_html .ne { color: #CB3F38; font-weight: bold } /* Name.Exception */\n",
       ".output_html .nf { color: #0000FF } /* Name.Function */\n",
       ".output_html .nl { color: #767600 } /* Name.Label */\n",
       ".output_html .nn { color: #0000FF; font-weight: bold } /* Name.Namespace */\n",
       ".output_html .nt { color: #008000; font-weight: bold } /* Name.Tag */\n",
       ".output_html .nv { color: #19177C } /* Name.Variable */\n",
       ".output_html .ow { color: #AA22FF; font-weight: bold } /* Operator.Word */\n",
       ".output_html .w { color: #bbbbbb } /* Text.Whitespace */\n",
       ".output_html .mb { color: #666666 } /* Literal.Number.Bin */\n",
       ".output_html .mf { color: #666666 } /* Literal.Number.Float */\n",
       ".output_html .mh { color: #666666 } /* Literal.Number.Hex */\n",
       ".output_html .mi { color: #666666 } /* Literal.Number.Integer */\n",
       ".output_html .mo { color: #666666 } /* Literal.Number.Oct */\n",
       ".output_html .sa { color: #BA2121 } /* Literal.String.Affix */\n",
       ".output_html .sb { color: #BA2121 } /* Literal.String.Backtick */\n",
       ".output_html .sc { color: #BA2121 } /* Literal.String.Char */\n",
       ".output_html .dl { color: #BA2121 } /* Literal.String.Delimiter */\n",
       ".output_html .sd { color: #BA2121; font-style: italic } /* Literal.String.Doc */\n",
       ".output_html .s2 { color: #BA2121 } /* Literal.String.Double */\n",
       ".output_html .se { color: #AA5D1F; font-weight: bold } /* Literal.String.Escape */\n",
       ".output_html .sh { color: #BA2121 } /* Literal.String.Heredoc */\n",
       ".output_html .si { color: #A45A77; font-weight: bold } /* Literal.String.Interpol */\n",
       ".output_html .sx { color: #008000 } /* Literal.String.Other */\n",
       ".output_html .sr { color: #A45A77 } /* Literal.String.Regex */\n",
       ".output_html .s1 { color: #BA2121 } /* Literal.String.Single */\n",
       ".output_html .ss { color: #19177C } /* Literal.String.Symbol */\n",
       ".output_html .bp { color: #008000 } /* Name.Builtin.Pseudo */\n",
       ".output_html .fm { color: #0000FF } /* Name.Function.Magic */\n",
       ".output_html .vc { color: #19177C } /* Name.Variable.Class */\n",
       ".output_html .vg { color: #19177C } /* Name.Variable.Global */\n",
       ".output_html .vi { color: #19177C } /* Name.Variable.Instance */\n",
       ".output_html .vm { color: #19177C } /* Name.Variable.Magic */\n",
       ".output_html .il { color: #666666 } /* Literal.Number.Integer.Long */</style><div class=\"highlight\"><pre><span></span><span class=\"kn\">import</span> <span class=\"nn\">torch.nn.functional</span> <span class=\"k\">as</span> <span class=\"nn\">F</span>\n",
       "<span class=\"kn\">from</span> <span class=\"nn\">torch.utils.data</span> <span class=\"kn\">import</span> <span class=\"n\">Dataset</span><span class=\"p\">,</span> <span class=\"n\">DataLoader</span>\n",
       "\n",
       "<span class=\"k\">class</span> <span class=\"nc\">SequenceDataset</span><span class=\"p\">(</span><span class=\"n\">Dataset</span><span class=\"p\">):</span>\n",
       "    <span class=\"k\">def</span> <span class=\"fm\">__init__</span><span class=\"p\">(</span><span class=\"bp\">self</span><span class=\"p\">,</span> <span class=\"n\">corpus</span><span class=\"p\">:</span> <span class=\"nb\">list</span><span class=\"p\">,</span> <span class=\"n\">seq_len</span><span class=\"p\">:</span> <span class=\"nb\">int</span><span class=\"p\">,</span> <span class=\"n\">vocab_size</span><span class=\"p\">:</span> <span class=\"nb\">int</span><span class=\"p\">):</span>\n",
       "        <span class=\"nb\">super</span><span class=\"p\">()</span><span class=\"o\">.</span><span class=\"fm\">__init__</span><span class=\"p\">()</span>\n",
       "        <span class=\"bp\">self</span><span class=\"o\">.</span><span class=\"n\">corpus</span> <span class=\"o\">=</span> <span class=\"n\">corpus</span>\n",
       "        <span class=\"bp\">self</span><span class=\"o\">.</span><span class=\"n\">seq_len</span> <span class=\"o\">=</span> <span class=\"n\">seq_len</span>\n",
       "        <span class=\"bp\">self</span><span class=\"o\">.</span><span class=\"n\">vocab_size</span> <span class=\"o\">=</span> <span class=\"n\">vocab_size</span>\n",
       "\n",
       "    <span class=\"k\">def</span> <span class=\"fm\">__getitem__</span><span class=\"p\">(</span><span class=\"bp\">self</span><span class=\"p\">,</span> <span class=\"n\">i</span><span class=\"p\">):</span>\n",
       "        <span class=\"n\">c</span> <span class=\"o\">=</span> <span class=\"n\">torch</span><span class=\"o\">.</span><span class=\"n\">tensor</span><span class=\"p\">(</span><span class=\"bp\">self</span><span class=\"o\">.</span><span class=\"n\">corpus</span><span class=\"p\">[</span><span class=\"n\">i</span><span class=\"p\">:</span> <span class=\"n\">i</span> <span class=\"o\">+</span> <span class=\"bp\">self</span><span class=\"o\">.</span><span class=\"n\">seq_len</span> <span class=\"o\">+</span> <span class=\"mi\">1</span><span class=\"p\">])</span>\n",
       "        <span class=\"n\">x</span><span class=\"p\">,</span> <span class=\"n\">y</span> <span class=\"o\">=</span> <span class=\"n\">c</span><span class=\"p\">[:</span><span class=\"o\">-</span><span class=\"mi\">1</span><span class=\"p\">],</span> <span class=\"n\">c</span><span class=\"p\">[</span><span class=\"mi\">1</span><span class=\"p\">:]</span>\n",
       "        <span class=\"n\">x</span> <span class=\"o\">=</span> <span class=\"n\">F</span><span class=\"o\">.</span><span class=\"n\">one_hot</span><span class=\"p\">(</span><span class=\"n\">x</span><span class=\"p\">,</span> <span class=\"n\">num_classes</span><span class=\"o\">=</span><span class=\"bp\">self</span><span class=\"o\">.</span><span class=\"n\">vocab_size</span><span class=\"p\">)</span><span class=\"o\">.</span><span class=\"n\">float</span><span class=\"p\">()</span>\n",
       "        <span class=\"k\">return</span> <span class=\"n\">x</span><span class=\"p\">,</span> <span class=\"n\">y</span>\n",
       "    \n",
       "    <span class=\"k\">def</span> <span class=\"fm\">__len__</span><span class=\"p\">(</span><span class=\"bp\">self</span><span class=\"p\">):</span>\n",
       "        <span class=\"k\">return</span> <span class=\"nb\">len</span><span class=\"p\">(</span><span class=\"bp\">self</span><span class=\"o\">.</span><span class=\"n\">corpus</span><span class=\"p\">)</span> <span class=\"o\">-</span> <span class=\"bp\">self</span><span class=\"o\">.</span><span class=\"n\">seq_len</span>\n",
       "</pre></div>\n"
      ],
      "text/latex": [
       "\\begin{Verbatim}[commandchars=\\\\\\{\\}]\n",
       "\\PY{k+kn}{import} \\PY{n+nn}{torch}\\PY{n+nn}{.}\\PY{n+nn}{nn}\\PY{n+nn}{.}\\PY{n+nn}{functional} \\PY{k}{as} \\PY{n+nn}{F}\n",
       "\\PY{k+kn}{from} \\PY{n+nn}{torch}\\PY{n+nn}{.}\\PY{n+nn}{utils}\\PY{n+nn}{.}\\PY{n+nn}{data} \\PY{k+kn}{import} \\PY{n}{Dataset}\\PY{p}{,} \\PY{n}{DataLoader}\n",
       "\n",
       "\\PY{k}{class} \\PY{n+nc}{SequenceDataset}\\PY{p}{(}\\PY{n}{Dataset}\\PY{p}{)}\\PY{p}{:}\n",
       "    \\PY{k}{def} \\PY{n+nf+fm}{\\PYZus{}\\PYZus{}init\\PYZus{}\\PYZus{}}\\PY{p}{(}\\PY{n+nb+bp}{self}\\PY{p}{,} \\PY{n}{corpus}\\PY{p}{:} \\PY{n+nb}{list}\\PY{p}{,} \\PY{n}{seq\\PYZus{}len}\\PY{p}{:} \\PY{n+nb}{int}\\PY{p}{,} \\PY{n}{vocab\\PYZus{}size}\\PY{p}{:} \\PY{n+nb}{int}\\PY{p}{)}\\PY{p}{:}\n",
       "        \\PY{n+nb}{super}\\PY{p}{(}\\PY{p}{)}\\PY{o}{.}\\PY{n+nf+fm}{\\PYZus{}\\PYZus{}init\\PYZus{}\\PYZus{}}\\PY{p}{(}\\PY{p}{)}\n",
       "        \\PY{n+nb+bp}{self}\\PY{o}{.}\\PY{n}{corpus} \\PY{o}{=} \\PY{n}{corpus}\n",
       "        \\PY{n+nb+bp}{self}\\PY{o}{.}\\PY{n}{seq\\PYZus{}len} \\PY{o}{=} \\PY{n}{seq\\PYZus{}len}\n",
       "        \\PY{n+nb+bp}{self}\\PY{o}{.}\\PY{n}{vocab\\PYZus{}size} \\PY{o}{=} \\PY{n}{vocab\\PYZus{}size}\n",
       "\n",
       "    \\PY{k}{def} \\PY{n+nf+fm}{\\PYZus{}\\PYZus{}getitem\\PYZus{}\\PYZus{}}\\PY{p}{(}\\PY{n+nb+bp}{self}\\PY{p}{,} \\PY{n}{i}\\PY{p}{)}\\PY{p}{:}\n",
       "        \\PY{n}{c} \\PY{o}{=} \\PY{n}{torch}\\PY{o}{.}\\PY{n}{tensor}\\PY{p}{(}\\PY{n+nb+bp}{self}\\PY{o}{.}\\PY{n}{corpus}\\PY{p}{[}\\PY{n}{i}\\PY{p}{:} \\PY{n}{i} \\PY{o}{+} \\PY{n+nb+bp}{self}\\PY{o}{.}\\PY{n}{seq\\PYZus{}len} \\PY{o}{+} \\PY{l+m+mi}{1}\\PY{p}{]}\\PY{p}{)}\n",
       "        \\PY{n}{x}\\PY{p}{,} \\PY{n}{y} \\PY{o}{=} \\PY{n}{c}\\PY{p}{[}\\PY{p}{:}\\PY{o}{\\PYZhy{}}\\PY{l+m+mi}{1}\\PY{p}{]}\\PY{p}{,} \\PY{n}{c}\\PY{p}{[}\\PY{l+m+mi}{1}\\PY{p}{:}\\PY{p}{]}\n",
       "        \\PY{n}{x} \\PY{o}{=} \\PY{n}{F}\\PY{o}{.}\\PY{n}{one\\PYZus{}hot}\\PY{p}{(}\\PY{n}{x}\\PY{p}{,} \\PY{n}{num\\PYZus{}classes}\\PY{o}{=}\\PY{n+nb+bp}{self}\\PY{o}{.}\\PY{n}{vocab\\PYZus{}size}\\PY{p}{)}\\PY{o}{.}\\PY{n}{float}\\PY{p}{(}\\PY{p}{)}\n",
       "        \\PY{k}{return} \\PY{n}{x}\\PY{p}{,} \\PY{n}{y}\n",
       "    \n",
       "    \\PY{k}{def} \\PY{n+nf+fm}{\\PYZus{}\\PYZus{}len\\PYZus{}\\PYZus{}}\\PY{p}{(}\\PY{n+nb+bp}{self}\\PY{p}{)}\\PY{p}{:}\n",
       "        \\PY{k}{return} \\PY{n+nb}{len}\\PY{p}{(}\\PY{n+nb+bp}{self}\\PY{o}{.}\\PY{n}{corpus}\\PY{p}{)} \\PY{o}{\\PYZhy{}} \\PY{n+nb+bp}{self}\\PY{o}{.}\\PY{n}{seq\\PYZus{}len}\n",
       "\\end{Verbatim}\n"
      ],
      "text/plain": [
       "import torch.nn.functional as F\n",
       "from torch.utils.data import Dataset, DataLoader\n",
       "\n",
       "class SequenceDataset(Dataset):\n",
       "    def __init__(self, corpus: list, seq_len: int, vocab_size: int):\n",
       "        super().__init__()\n",
       "        self.corpus = corpus\n",
       "        self.seq_len = seq_len\n",
       "        self.vocab_size = vocab_size\n",
       "\n",
       "    def __getitem__(self, i):\n",
       "        c = torch.tensor(self.corpus[i: i + self.seq_len + 1])\n",
       "        x, y = c[:-1], c[1:]\n",
       "        x = F.one_hot(x, num_classes=self.vocab_size).float()\n",
       "        return x, y\n",
       "    \n",
       "    def __len__(self):\n",
       "        return len(self.corpus) - self.seq_len"
      ]
     },
     "execution_count": 3,
     "metadata": {},
     "output_type": "execute_result"
    }
   ],
   "source": [
    "%%save\n",
    "import torch.nn.functional as F\n",
    "from torch.utils.data import Dataset, DataLoader\n",
    "\n",
    "class SequenceDataset(Dataset):\n",
    "    def __init__(self, corpus: list, seq_len: int, vocab_size: int):\n",
    "        super().__init__()\n",
    "        self.corpus = corpus\n",
    "        self.seq_len = seq_len\n",
    "        self.vocab_size = vocab_size\n",
    "\n",
    "    def __getitem__(self, i):\n",
    "        c = torch.tensor(self.corpus[i: i + self.seq_len + 1])\n",
    "        x, y = c[:-1], c[1:]\n",
    "        x = F.one_hot(x, num_classes=self.vocab_size).float()\n",
    "        return x, y\n",
    "    \n",
    "    def __len__(self):\n",
    "        return len(self.corpus) - self.seq_len"
   ]
  },
  {
   "cell_type": "markdown",
   "id": "e6937a18",
   "metadata": {
    "papermill": {
     "duration": 0.00127,
     "end_time": "2024-11-21T16:15:58.015155",
     "exception": false,
     "start_time": "2024-11-21T16:15:58.013885",
     "status": "completed"
    },
    "tags": []
   },
   "source": [
    "We train the RNN language model on the *Time Machine* text."
   ]
  },
  {
   "cell_type": "code",
   "execution_count": 4,
   "id": "0bfa9521",
   "metadata": {
    "execution": {
     "iopub.execute_input": "2024-11-21T16:15:58.019026Z",
     "iopub.status.busy": "2024-11-21T16:15:58.018800Z",
     "iopub.status.idle": "2024-11-21T16:15:58.070052Z",
     "shell.execute_reply": "2024-11-21T16:15:58.069583Z"
    },
    "papermill": {
     "duration": 0.054982,
     "end_time": "2024-11-21T16:15:58.071928",
     "exception": false,
     "start_time": "2024-11-21T16:15:58.016946",
     "status": "completed"
    },
    "tags": []
   },
   "outputs": [
    {
     "data": {
      "text/plain": [
       "(174215, 28)"
      ]
     },
     "execution_count": 4,
     "metadata": {},
     "output_type": "execute_result"
    }
   ],
   "source": [
    "tm = TimeMachine()\n",
    "corpus, vocab = tm.build()\n",
    "len(corpus), len(vocab)"
   ]
  },
  {
   "cell_type": "code",
   "execution_count": 5,
   "id": "c7a0c089",
   "metadata": {
    "execution": {
     "iopub.execute_input": "2024-11-21T16:15:58.081988Z",
     "iopub.status.busy": "2024-11-21T16:15:58.081655Z",
     "iopub.status.idle": "2024-11-21T16:15:58.106006Z",
     "shell.execute_reply": "2024-11-21T16:15:58.104433Z"
    },
    "papermill": {
     "duration": 0.035,
     "end_time": "2024-11-21T16:15:58.108826",
     "exception": false,
     "start_time": "2024-11-21T16:15:58.073826",
     "status": "completed"
    },
    "tags": []
   },
   "outputs": [],
   "source": [
    "from torch.utils.data import random_split\n",
    "\n",
    "dataset = SequenceDataset(corpus, seq_len=10, vocab_size=len(vocab))\n",
    "train_dataset, valid_dataset = random_split(dataset, [0.80, 0.20])\n",
    "train_loader = DataLoader(train_dataset, batch_size=128, shuffle=True)\n",
    "valid_loader = DataLoader(valid_dataset, batch_size=128)"
   ]
  },
  {
   "cell_type": "markdown",
   "id": "8c3a0756",
   "metadata": {
    "papermill": {
     "duration": 0.002114,
     "end_time": "2024-11-21T16:15:58.113062",
     "exception": false,
     "start_time": "2024-11-21T16:15:58.110948",
     "status": "completed"
    },
    "tags": []
   },
   "source": [
    "Recall that the inputs are one-hot vectors. Note that these are not character to character mappings, e.g. the third output here depends explicitly on the third character, and implicitly on the first two characters. The batch index here shuffles the anchor point, but otherwise the character ordering is intact. "
   ]
  },
  {
   "cell_type": "code",
   "execution_count": 6,
   "id": "117304f1",
   "metadata": {
    "execution": {
     "iopub.execute_input": "2024-11-21T16:15:58.130787Z",
     "iopub.status.busy": "2024-11-21T16:15:58.130360Z",
     "iopub.status.idle": "2024-11-21T16:15:58.166930Z",
     "shell.execute_reply": "2024-11-21T16:15:58.165870Z"
    },
    "papermill": {
     "duration": 0.051732,
     "end_time": "2024-11-21T16:15:58.169932",
     "exception": false,
     "start_time": "2024-11-21T16:15:58.118200",
     "status": "completed"
    },
    "tags": []
   },
   "outputs": [
    {
     "name": "stdout",
     "output_type": "stream",
     "text": [
      "t --> r\n",
      "r --> e\n",
      "e --> e\n",
      "e --> s\n",
      "s -->  \n",
      "  --> t\n",
      "t --> h\n",
      "h --> e\n",
      "e -->  \n",
      "  --> f\n"
     ]
    }
   ],
   "source": [
    "x, y = next(iter(valid_loader))\n",
    "\n",
    "a, T = 1, dataset.seq_len\n",
    "torch.argmax(x[a], dim=1), y[a]\n",
    "x_chars = vocab.to_tokens(torch.argmax(x[a], dim=1))\n",
    "y_chars = vocab.to_tokens(y[a])\n",
    "for i in range(T):\n",
    "    print(f\"{x_chars[i]} --> {y_chars[i]}\")"
   ]
  },
  {
   "cell_type": "code",
   "execution_count": 7,
   "id": "7f2d90b9",
   "metadata": {
    "execution": {
     "iopub.execute_input": "2024-11-21T16:15:58.181195Z",
     "iopub.status.busy": "2024-11-21T16:15:58.180795Z",
     "iopub.status.idle": "2024-11-21T16:15:58.188399Z",
     "shell.execute_reply": "2024-11-21T16:15:58.187865Z"
    },
    "papermill": {
     "duration": 0.015345,
     "end_time": "2024-11-21T16:15:58.190159",
     "exception": false,
     "start_time": "2024-11-21T16:15:58.174814",
     "status": "completed"
    },
    "tags": []
   },
   "outputs": [
    {
     "name": "stdout",
     "output_type": "stream",
     "text": [
      "torch.Size([128, 10, 28]) torch.Size([128, 10])\n",
      "target: tensor([ 6,  1, 19,  2, 15,  8,  6,  1, 16,  7])\n",
      "inputs: tensor([ 9,  6,  1, 19,  2, 15,  8,  6,  1, 16])\n"
     ]
    }
   ],
   "source": [
    "print(x.shape, y.shape)\n",
    "print(\"target:\", y[0])\n",
    "print(\"inputs:\", torch.argmax(x, dim=-1)[0])"
   ]
  },
  {
   "cell_type": "markdown",
   "id": "e3c96a8f",
   "metadata": {
    "papermill": {
     "duration": 0.00302,
     "end_time": "2024-11-21T16:15:58.198427",
     "exception": false,
     "start_time": "2024-11-21T16:15:58.195407",
     "status": "completed"
    },
    "tags": []
   },
   "source": [
    "Note that we shaped our tensors so that `F.cross_entropy` is used as usual:"
   ]
  },
  {
   "cell_type": "code",
   "execution_count": 8,
   "id": "8f888413",
   "metadata": {
    "execution": {
     "iopub.execute_input": "2024-11-21T16:15:58.207986Z",
     "iopub.status.busy": "2024-11-21T16:15:58.207589Z",
     "iopub.status.idle": "2024-11-21T16:15:58.244010Z",
     "shell.execute_reply": "2024-11-21T16:15:58.243262Z"
    },
    "papermill": {
     "duration": 0.042365,
     "end_time": "2024-11-21T16:15:58.245217",
     "exception": false,
     "start_time": "2024-11-21T16:15:58.202852",
     "status": "completed"
    },
    "tags": []
   },
   "outputs": [
    {
     "data": {
      "text/plain": [
       "tensor(3.3789, grad_fn=<NllLoss2DBackward0>)"
      ]
     },
     "execution_count": 8,
     "metadata": {},
     "output_type": "execute_result"
    }
   ],
   "source": [
    "import torch.nn.functional as F\n",
    "\n",
    "x, y = next(iter(train_loader))\n",
    "model = RNNLanguageModel(28, 5, len(vocab))     # output: (B, C, T)\n",
    "loss = F.cross_entropy(model(x), y)\n",
    "loss"
   ]
  },
  {
   "cell_type": "code",
   "execution_count": null,
   "id": "3f979e72",
   "metadata": {
    "papermill": {
     "duration": 0.005597,
     "end_time": "2024-11-21T16:15:58.255303",
     "exception": false,
     "start_time": "2024-11-21T16:15:58.249706",
     "status": "completed"
    },
    "tags": []
   },
   "outputs": [],
   "source": []
  }
 ],
 "metadata": {
  "kernelspec": {
   "display_name": ".venv",
   "language": "python",
   "name": "python3"
  },
  "language_info": {
   "codemirror_mode": {
    "name": "ipython",
    "version": 3
   },
   "file_extension": ".py",
   "mimetype": "text/x-python",
   "name": "python",
   "nbconvert_exporter": "python",
   "pygments_lexer": "ipython3",
   "version": "3.10.4"
  },
  "papermill": {
   "default_parameters": {},
   "duration": 3.397477,
   "end_time": "2024-11-21T16:15:58.792289",
   "environment_variables": {},
   "exception": null,
   "input_path": "04da-rnn-lm.ipynb",
   "output_path": "04da-rnn-lm.ipynb",
   "parameters": {},
   "start_time": "2024-11-21T16:15:55.394812",
   "version": "2.6.0"
  }
 },
 "nbformat": 4,
 "nbformat_minor": 5
}
