{
 "cells": [
  {
   "cell_type": "markdown",
   "id": "fe07dbb7",
   "metadata": {
    "papermill": {
     "duration": 0.006406,
     "end_time": "2024-11-27T10:40:25.195396",
     "exception": false,
     "start_time": "2024-11-27T10:40:25.188990",
     "status": "completed"
    },
    "tags": []
   },
   "source": [
    "# Model"
   ]
  },
  {
   "cell_type": "code",
   "execution_count": 1,
   "id": "fbb54e78",
   "metadata": {
    "execution": {
     "iopub.execute_input": "2024-11-27T10:40:25.213586Z",
     "iopub.status.busy": "2024-11-27T10:40:25.213201Z",
     "iopub.status.idle": "2024-11-27T10:40:26.970588Z",
     "shell.execute_reply": "2024-11-27T10:40:26.970254Z"
    },
    "papermill": {
     "duration": 1.765165,
     "end_time": "2024-11-27T10:40:26.972761",
     "exception": false,
     "start_time": "2024-11-27T10:40:25.207596",
     "status": "completed"
    },
    "tags": [
     "remove-cell"
    ]
   },
   "outputs": [],
   "source": [
    "from chapter import *"
   ]
  },
  {
   "cell_type": "markdown",
   "id": "b227f181",
   "metadata": {
    "papermill": {
     "duration": 0.000933,
     "end_time": "2024-11-27T10:40:26.975756",
     "exception": false,
     "start_time": "2024-11-27T10:40:26.974823",
     "status": "completed"
    },
    "tags": []
   },
   "source": [
    "Combining convolution and pooling layers into a deep model:"
   ]
  },
  {
   "cell_type": "code",
   "execution_count": 2,
   "id": "b9863aa8",
   "metadata": {
    "execution": {
     "iopub.execute_input": "2024-11-27T10:40:26.978317Z",
     "iopub.status.busy": "2024-11-27T10:40:26.978121Z",
     "iopub.status.idle": "2024-11-27T10:40:27.007763Z",
     "shell.execute_reply": "2024-11-27T10:40:27.007451Z"
    },
    "papermill": {
     "duration": 0.032696,
     "end_time": "2024-11-27T10:40:27.009276",
     "exception": false,
     "start_time": "2024-11-27T10:40:26.976580",
     "status": "completed"
    },
    "tags": [
     "remove-input"
    ]
   },
   "outputs": [
    {
     "data": {
      "text/html": [
       "<style>pre { line-height: 125%; }\n",
       "td.linenos .normal { color: inherit; background-color: transparent; padding-left: 5px; padding-right: 5px; }\n",
       "span.linenos { color: inherit; background-color: transparent; padding-left: 5px; padding-right: 5px; }\n",
       "td.linenos .special { color: #000000; background-color: #ffffc0; padding-left: 5px; padding-right: 5px; }\n",
       "span.linenos.special { color: #000000; background-color: #ffffc0; padding-left: 5px; padding-right: 5px; }\n",
       ".output_html .hll { background-color: #ffffcc }\n",
       ".output_html { background: #f8f8f8; }\n",
       ".output_html .c { color: #3D7B7B; font-style: italic } /* Comment */\n",
       ".output_html .err { border: 1px solid #FF0000 } /* Error */\n",
       ".output_html .k { color: #008000; font-weight: bold } /* Keyword */\n",
       ".output_html .o { color: #666666 } /* Operator */\n",
       ".output_html .ch { color: #3D7B7B; font-style: italic } /* Comment.Hashbang */\n",
       ".output_html .cm { color: #3D7B7B; font-style: italic } /* Comment.Multiline */\n",
       ".output_html .cp { color: #9C6500 } /* Comment.Preproc */\n",
       ".output_html .cpf { color: #3D7B7B; font-style: italic } /* Comment.PreprocFile */\n",
       ".output_html .c1 { color: #3D7B7B; font-style: italic } /* Comment.Single */\n",
       ".output_html .cs { color: #3D7B7B; font-style: italic } /* Comment.Special */\n",
       ".output_html .gd { color: #A00000 } /* Generic.Deleted */\n",
       ".output_html .ge { font-style: italic } /* Generic.Emph */\n",
       ".output_html .ges { font-weight: bold; font-style: italic } /* Generic.EmphStrong */\n",
       ".output_html .gr { color: #E40000 } /* Generic.Error */\n",
       ".output_html .gh { color: #000080; font-weight: bold } /* Generic.Heading */\n",
       ".output_html .gi { color: #008400 } /* Generic.Inserted */\n",
       ".output_html .go { color: #717171 } /* Generic.Output */\n",
       ".output_html .gp { color: #000080; font-weight: bold } /* Generic.Prompt */\n",
       ".output_html .gs { font-weight: bold } /* Generic.Strong */\n",
       ".output_html .gu { color: #800080; font-weight: bold } /* Generic.Subheading */\n",
       ".output_html .gt { color: #0044DD } /* Generic.Traceback */\n",
       ".output_html .kc { color: #008000; font-weight: bold } /* Keyword.Constant */\n",
       ".output_html .kd { color: #008000; font-weight: bold } /* Keyword.Declaration */\n",
       ".output_html .kn { color: #008000; font-weight: bold } /* Keyword.Namespace */\n",
       ".output_html .kp { color: #008000 } /* Keyword.Pseudo */\n",
       ".output_html .kr { color: #008000; font-weight: bold } /* Keyword.Reserved */\n",
       ".output_html .kt { color: #B00040 } /* Keyword.Type */\n",
       ".output_html .m { color: #666666 } /* Literal.Number */\n",
       ".output_html .s { color: #BA2121 } /* Literal.String */\n",
       ".output_html .na { color: #687822 } /* Name.Attribute */\n",
       ".output_html .nb { color: #008000 } /* Name.Builtin */\n",
       ".output_html .nc { color: #0000FF; font-weight: bold } /* Name.Class */\n",
       ".output_html .no { color: #880000 } /* Name.Constant */\n",
       ".output_html .nd { color: #AA22FF } /* Name.Decorator */\n",
       ".output_html .ni { color: #717171; font-weight: bold } /* Name.Entity */\n",
       ".output_html .ne { color: #CB3F38; font-weight: bold } /* Name.Exception */\n",
       ".output_html .nf { color: #0000FF } /* Name.Function */\n",
       ".output_html .nl { color: #767600 } /* Name.Label */\n",
       ".output_html .nn { color: #0000FF; font-weight: bold } /* Name.Namespace */\n",
       ".output_html .nt { color: #008000; font-weight: bold } /* Name.Tag */\n",
       ".output_html .nv { color: #19177C } /* Name.Variable */\n",
       ".output_html .ow { color: #AA22FF; font-weight: bold } /* Operator.Word */\n",
       ".output_html .w { color: #bbbbbb } /* Text.Whitespace */\n",
       ".output_html .mb { color: #666666 } /* Literal.Number.Bin */\n",
       ".output_html .mf { color: #666666 } /* Literal.Number.Float */\n",
       ".output_html .mh { color: #666666 } /* Literal.Number.Hex */\n",
       ".output_html .mi { color: #666666 } /* Literal.Number.Integer */\n",
       ".output_html .mo { color: #666666 } /* Literal.Number.Oct */\n",
       ".output_html .sa { color: #BA2121 } /* Literal.String.Affix */\n",
       ".output_html .sb { color: #BA2121 } /* Literal.String.Backtick */\n",
       ".output_html .sc { color: #BA2121 } /* Literal.String.Char */\n",
       ".output_html .dl { color: #BA2121 } /* Literal.String.Delimiter */\n",
       ".output_html .sd { color: #BA2121; font-style: italic } /* Literal.String.Doc */\n",
       ".output_html .s2 { color: #BA2121 } /* Literal.String.Double */\n",
       ".output_html .se { color: #AA5D1F; font-weight: bold } /* Literal.String.Escape */\n",
       ".output_html .sh { color: #BA2121 } /* Literal.String.Heredoc */\n",
       ".output_html .si { color: #A45A77; font-weight: bold } /* Literal.String.Interpol */\n",
       ".output_html .sx { color: #008000 } /* Literal.String.Other */\n",
       ".output_html .sr { color: #A45A77 } /* Literal.String.Regex */\n",
       ".output_html .s1 { color: #BA2121 } /* Literal.String.Single */\n",
       ".output_html .ss { color: #19177C } /* Literal.String.Symbol */\n",
       ".output_html .bp { color: #008000 } /* Name.Builtin.Pseudo */\n",
       ".output_html .fm { color: #0000FF } /* Name.Function.Magic */\n",
       ".output_html .vc { color: #19177C } /* Name.Variable.Class */\n",
       ".output_html .vg { color: #19177C } /* Name.Variable.Global */\n",
       ".output_html .vi { color: #19177C } /* Name.Variable.Instance */\n",
       ".output_html .vm { color: #19177C } /* Name.Variable.Magic */\n",
       ".output_html .il { color: #666666 } /* Literal.Number.Integer.Long */</style><div class=\"highlight\"><pre><span></span><span class=\"kn\">import</span> <span class=\"nn\">torchsummary</span>\n",
       "\n",
       "<span class=\"n\">mnist_model</span> <span class=\"o\">=</span> <span class=\"k\">lambda</span><span class=\"p\">:</span> <span class=\"n\">nn</span><span class=\"o\">.</span><span class=\"n\">Sequential</span><span class=\"p\">(</span>\n",
       "    <span class=\"n\">nn</span><span class=\"o\">.</span><span class=\"n\">Conv2d</span><span class=\"p\">(</span><span class=\"mi\">1</span><span class=\"p\">,</span> <span class=\"mi\">32</span><span class=\"p\">,</span> <span class=\"mi\">3</span><span class=\"p\">,</span> <span class=\"mi\">1</span><span class=\"p\">,</span> <span class=\"mi\">1</span><span class=\"p\">),</span>\n",
       "    <span class=\"n\">nn</span><span class=\"o\">.</span><span class=\"n\">SELU</span><span class=\"p\">(),</span>\n",
       "    <span class=\"n\">nn</span><span class=\"o\">.</span><span class=\"n\">MaxPool2d</span><span class=\"p\">(</span><span class=\"mi\">2</span><span class=\"p\">,</span> <span class=\"mi\">2</span><span class=\"p\">),</span>\n",
       "    \n",
       "    <span class=\"n\">nn</span><span class=\"o\">.</span><span class=\"n\">Conv2d</span><span class=\"p\">(</span><span class=\"mi\">32</span><span class=\"p\">,</span> <span class=\"mi\">32</span><span class=\"p\">,</span> <span class=\"mi\">5</span><span class=\"p\">,</span> <span class=\"mi\">1</span><span class=\"p\">,</span> <span class=\"mi\">0</span><span class=\"p\">),</span>\n",
       "    <span class=\"n\">nn</span><span class=\"o\">.</span><span class=\"n\">SELU</span><span class=\"p\">(),</span>\n",
       "    <span class=\"n\">nn</span><span class=\"o\">.</span><span class=\"n\">MaxPool2d</span><span class=\"p\">(</span><span class=\"mi\">2</span><span class=\"p\">,</span> <span class=\"mi\">2</span><span class=\"p\">),</span>\n",
       "    \n",
       "    <span class=\"n\">nn</span><span class=\"o\">.</span><span class=\"n\">Flatten</span><span class=\"p\">(),</span>\n",
       "    <span class=\"n\">nn</span><span class=\"o\">.</span><span class=\"n\">Linear</span><span class=\"p\">(</span><span class=\"mi\">800</span><span class=\"p\">,</span> <span class=\"mi\">256</span><span class=\"p\">),</span> <span class=\"n\">nn</span><span class=\"o\">.</span><span class=\"n\">SELU</span><span class=\"p\">(),</span> <span class=\"n\">nn</span><span class=\"o\">.</span><span class=\"n\">Dropout</span><span class=\"p\">(</span><span class=\"mf\">0.5</span><span class=\"p\">),</span>\n",
       "    <span class=\"n\">nn</span><span class=\"o\">.</span><span class=\"n\">Linear</span><span class=\"p\">(</span><span class=\"mi\">256</span><span class=\"p\">,</span> <span class=\"mi\">10</span><span class=\"p\">)</span>\n",
       "<span class=\"p\">)</span>\n",
       "</pre></div>\n"
      ],
      "text/latex": [
       "\\begin{Verbatim}[commandchars=\\\\\\{\\}]\n",
       "\\PY{k+kn}{import} \\PY{n+nn}{torchsummary}\n",
       "\n",
       "\\PY{n}{mnist\\PYZus{}model} \\PY{o}{=} \\PY{k}{lambda}\\PY{p}{:} \\PY{n}{nn}\\PY{o}{.}\\PY{n}{Sequential}\\PY{p}{(}\n",
       "    \\PY{n}{nn}\\PY{o}{.}\\PY{n}{Conv2d}\\PY{p}{(}\\PY{l+m+mi}{1}\\PY{p}{,} \\PY{l+m+mi}{32}\\PY{p}{,} \\PY{l+m+mi}{3}\\PY{p}{,} \\PY{l+m+mi}{1}\\PY{p}{,} \\PY{l+m+mi}{1}\\PY{p}{)}\\PY{p}{,}\n",
       "    \\PY{n}{nn}\\PY{o}{.}\\PY{n}{SELU}\\PY{p}{(}\\PY{p}{)}\\PY{p}{,}\n",
       "    \\PY{n}{nn}\\PY{o}{.}\\PY{n}{MaxPool2d}\\PY{p}{(}\\PY{l+m+mi}{2}\\PY{p}{,} \\PY{l+m+mi}{2}\\PY{p}{)}\\PY{p}{,}\n",
       "    \n",
       "    \\PY{n}{nn}\\PY{o}{.}\\PY{n}{Conv2d}\\PY{p}{(}\\PY{l+m+mi}{32}\\PY{p}{,} \\PY{l+m+mi}{32}\\PY{p}{,} \\PY{l+m+mi}{5}\\PY{p}{,} \\PY{l+m+mi}{1}\\PY{p}{,} \\PY{l+m+mi}{0}\\PY{p}{)}\\PY{p}{,}\n",
       "    \\PY{n}{nn}\\PY{o}{.}\\PY{n}{SELU}\\PY{p}{(}\\PY{p}{)}\\PY{p}{,}\n",
       "    \\PY{n}{nn}\\PY{o}{.}\\PY{n}{MaxPool2d}\\PY{p}{(}\\PY{l+m+mi}{2}\\PY{p}{,} \\PY{l+m+mi}{2}\\PY{p}{)}\\PY{p}{,}\n",
       "    \n",
       "    \\PY{n}{nn}\\PY{o}{.}\\PY{n}{Flatten}\\PY{p}{(}\\PY{p}{)}\\PY{p}{,}\n",
       "    \\PY{n}{nn}\\PY{o}{.}\\PY{n}{Linear}\\PY{p}{(}\\PY{l+m+mi}{800}\\PY{p}{,} \\PY{l+m+mi}{256}\\PY{p}{)}\\PY{p}{,} \\PY{n}{nn}\\PY{o}{.}\\PY{n}{SELU}\\PY{p}{(}\\PY{p}{)}\\PY{p}{,} \\PY{n}{nn}\\PY{o}{.}\\PY{n}{Dropout}\\PY{p}{(}\\PY{l+m+mf}{0.5}\\PY{p}{)}\\PY{p}{,}\n",
       "    \\PY{n}{nn}\\PY{o}{.}\\PY{n}{Linear}\\PY{p}{(}\\PY{l+m+mi}{256}\\PY{p}{,} \\PY{l+m+mi}{10}\\PY{p}{)}\n",
       "\\PY{p}{)}\n",
       "\\end{Verbatim}\n"
      ],
      "text/plain": [
       "import torchsummary\n",
       "\n",
       "mnist_model = lambda: nn.Sequential(\n",
       "    nn.Conv2d(1, 32, 3, 1, 1),\n",
       "    nn.SELU(),\n",
       "    nn.MaxPool2d(2, 2),\n",
       "    \n",
       "    nn.Conv2d(32, 32, 5, 1, 0),\n",
       "    nn.SELU(),\n",
       "    nn.MaxPool2d(2, 2),\n",
       "    \n",
       "    nn.Flatten(),\n",
       "    nn.Linear(800, 256), nn.SELU(), nn.Dropout(0.5),\n",
       "    nn.Linear(256, 10)\n",
       ")"
      ]
     },
     "execution_count": 2,
     "metadata": {},
     "output_type": "execute_result"
    }
   ],
   "source": [
    "%%save\n",
    "import torchsummary\n",
    "\n",
    "mnist_model = lambda: nn.Sequential(\n",
    "    nn.Conv2d(1, 32, 3, 1, 1),\n",
    "    nn.SELU(),\n",
    "    nn.MaxPool2d(2, 2),\n",
    "    \n",
    "    nn.Conv2d(32, 32, 5, 1, 0),\n",
    "    nn.SELU(),\n",
    "    nn.MaxPool2d(2, 2),\n",
    "    \n",
    "    nn.Flatten(),\n",
    "    nn.Linear(800, 256), nn.SELU(), nn.Dropout(0.5),\n",
    "    nn.Linear(256, 10)\n",
    ")"
   ]
  },
  {
   "cell_type": "code",
   "execution_count": 3,
   "id": "3e73489f",
   "metadata": {
    "execution": {
     "iopub.execute_input": "2024-11-27T10:40:27.015354Z",
     "iopub.status.busy": "2024-11-27T10:40:27.015186Z",
     "iopub.status.idle": "2024-11-27T10:40:27.068930Z",
     "shell.execute_reply": "2024-11-27T10:40:27.068527Z"
    },
    "papermill": {
     "duration": 0.056856,
     "end_time": "2024-11-27T10:40:27.070208",
     "exception": false,
     "start_time": "2024-11-27T10:40:27.013352",
     "status": "completed"
    },
    "tags": []
   },
   "outputs": [
    {
     "name": "stdout",
     "output_type": "stream",
     "text": [
      "----------------------------------------------------------------\n",
      "        Layer (type)               Output Shape         Param #\n",
      "================================================================\n",
      "            Conv2d-1           [-1, 32, 28, 28]             320\n",
      "              SELU-2           [-1, 32, 28, 28]               0\n",
      "         MaxPool2d-3           [-1, 32, 14, 14]               0\n",
      "            Conv2d-4           [-1, 32, 10, 10]          25,632\n",
      "              SELU-5           [-1, 32, 10, 10]               0\n",
      "         MaxPool2d-6             [-1, 32, 5, 5]               0\n",
      "           Flatten-7                  [-1, 800]               0\n",
      "            Linear-8                  [-1, 256]         205,056\n",
      "              SELU-9                  [-1, 256]               0\n",
      "          Dropout-10                  [-1, 256]               0\n",
      "           Linear-11                   [-1, 10]           2,570\n",
      "================================================================\n",
      "Total params: 233,578\n",
      "Trainable params: 233,578\n",
      "Non-trainable params: 0\n",
      "----------------------------------------------------------------\n",
      "Input size (MB): 0.00\n",
      "Forward/backward pass size (MB): 0.50\n",
      "Params size (MB): 0.89\n",
      "Estimated Total Size (MB): 1.39\n",
      "----------------------------------------------------------------\n"
     ]
    }
   ],
   "source": [
    "torchsummary.summary(mnist_model(), (1, 28, 28))"
   ]
  },
  {
   "cell_type": "markdown",
   "id": "f710ff94",
   "metadata": {
    "papermill": {
     "duration": 0.001464,
     "end_time": "2024-11-27T10:40:27.074205",
     "exception": false,
     "start_time": "2024-11-27T10:40:27.072741",
     "status": "completed"
    },
    "tags": []
   },
   "source": [
    "**Remark.** We use **SELU activation** {cite}`selu` for fun. Note that we also used **Dropout** {cite}`dropout` as regularization for the dense layers. Observe that number of parameters due to convolutions is small relative to the final network size (i.e. only ~10%)!"
   ]
  },
  {
   "cell_type": "markdown",
   "id": "11617df4",
   "metadata": {
    "papermill": {
     "duration": 0.001264,
     "end_time": "2024-11-27T10:40:27.076874",
     "exception": false,
     "start_time": "2024-11-27T10:40:27.075610",
     "status": "completed"
    },
    "tags": []
   },
   "source": [
    "<br>"
   ]
  },
  {
   "cell_type": "markdown",
   "id": "25b21007",
   "metadata": {
    "papermill": {
     "duration": 0.001173,
     "end_time": "2024-11-27T10:40:27.079224",
     "exception": false,
     "start_time": "2024-11-27T10:40:27.078051",
     "status": "completed"
    },
    "tags": []
   },
   "source": [
    "Setting up MNIST data loaders:"
   ]
  },
  {
   "cell_type": "code",
   "execution_count": 4,
   "id": "99a191e8",
   "metadata": {
    "execution": {
     "iopub.execute_input": "2024-11-27T10:40:27.084306Z",
     "iopub.status.busy": "2024-11-27T10:40:27.083928Z",
     "iopub.status.idle": "2024-11-27T10:40:27.810872Z",
     "shell.execute_reply": "2024-11-27T10:40:27.810403Z"
    },
    "papermill": {
     "duration": 0.732841,
     "end_time": "2024-11-27T10:40:27.813354",
     "exception": false,
     "start_time": "2024-11-27T10:40:27.080513",
     "status": "completed"
    },
    "tags": [
     "remove-input"
    ]
   },
   "outputs": [
    {
     "data": {
      "text/html": [
       "<style>pre { line-height: 125%; }\n",
       "td.linenos .normal { color: inherit; background-color: transparent; padding-left: 5px; padding-right: 5px; }\n",
       "span.linenos { color: inherit; background-color: transparent; padding-left: 5px; padding-right: 5px; }\n",
       "td.linenos .special { color: #000000; background-color: #ffffc0; padding-left: 5px; padding-right: 5px; }\n",
       "span.linenos.special { color: #000000; background-color: #ffffc0; padding-left: 5px; padding-right: 5px; }\n",
       ".output_html .hll { background-color: #ffffcc }\n",
       ".output_html { background: #f8f8f8; }\n",
       ".output_html .c { color: #3D7B7B; font-style: italic } /* Comment */\n",
       ".output_html .err { border: 1px solid #FF0000 } /* Error */\n",
       ".output_html .k { color: #008000; font-weight: bold } /* Keyword */\n",
       ".output_html .o { color: #666666 } /* Operator */\n",
       ".output_html .ch { color: #3D7B7B; font-style: italic } /* Comment.Hashbang */\n",
       ".output_html .cm { color: #3D7B7B; font-style: italic } /* Comment.Multiline */\n",
       ".output_html .cp { color: #9C6500 } /* Comment.Preproc */\n",
       ".output_html .cpf { color: #3D7B7B; font-style: italic } /* Comment.PreprocFile */\n",
       ".output_html .c1 { color: #3D7B7B; font-style: italic } /* Comment.Single */\n",
       ".output_html .cs { color: #3D7B7B; font-style: italic } /* Comment.Special */\n",
       ".output_html .gd { color: #A00000 } /* Generic.Deleted */\n",
       ".output_html .ge { font-style: italic } /* Generic.Emph */\n",
       ".output_html .ges { font-weight: bold; font-style: italic } /* Generic.EmphStrong */\n",
       ".output_html .gr { color: #E40000 } /* Generic.Error */\n",
       ".output_html .gh { color: #000080; font-weight: bold } /* Generic.Heading */\n",
       ".output_html .gi { color: #008400 } /* Generic.Inserted */\n",
       ".output_html .go { color: #717171 } /* Generic.Output */\n",
       ".output_html .gp { color: #000080; font-weight: bold } /* Generic.Prompt */\n",
       ".output_html .gs { font-weight: bold } /* Generic.Strong */\n",
       ".output_html .gu { color: #800080; font-weight: bold } /* Generic.Subheading */\n",
       ".output_html .gt { color: #0044DD } /* Generic.Traceback */\n",
       ".output_html .kc { color: #008000; font-weight: bold } /* Keyword.Constant */\n",
       ".output_html .kd { color: #008000; font-weight: bold } /* Keyword.Declaration */\n",
       ".output_html .kn { color: #008000; font-weight: bold } /* Keyword.Namespace */\n",
       ".output_html .kp { color: #008000 } /* Keyword.Pseudo */\n",
       ".output_html .kr { color: #008000; font-weight: bold } /* Keyword.Reserved */\n",
       ".output_html .kt { color: #B00040 } /* Keyword.Type */\n",
       ".output_html .m { color: #666666 } /* Literal.Number */\n",
       ".output_html .s { color: #BA2121 } /* Literal.String */\n",
       ".output_html .na { color: #687822 } /* Name.Attribute */\n",
       ".output_html .nb { color: #008000 } /* Name.Builtin */\n",
       ".output_html .nc { color: #0000FF; font-weight: bold } /* Name.Class */\n",
       ".output_html .no { color: #880000 } /* Name.Constant */\n",
       ".output_html .nd { color: #AA22FF } /* Name.Decorator */\n",
       ".output_html .ni { color: #717171; font-weight: bold } /* Name.Entity */\n",
       ".output_html .ne { color: #CB3F38; font-weight: bold } /* Name.Exception */\n",
       ".output_html .nf { color: #0000FF } /* Name.Function */\n",
       ".output_html .nl { color: #767600 } /* Name.Label */\n",
       ".output_html .nn { color: #0000FF; font-weight: bold } /* Name.Namespace */\n",
       ".output_html .nt { color: #008000; font-weight: bold } /* Name.Tag */\n",
       ".output_html .nv { color: #19177C } /* Name.Variable */\n",
       ".output_html .ow { color: #AA22FF; font-weight: bold } /* Operator.Word */\n",
       ".output_html .w { color: #bbbbbb } /* Text.Whitespace */\n",
       ".output_html .mb { color: #666666 } /* Literal.Number.Bin */\n",
       ".output_html .mf { color: #666666 } /* Literal.Number.Float */\n",
       ".output_html .mh { color: #666666 } /* Literal.Number.Hex */\n",
       ".output_html .mi { color: #666666 } /* Literal.Number.Integer */\n",
       ".output_html .mo { color: #666666 } /* Literal.Number.Oct */\n",
       ".output_html .sa { color: #BA2121 } /* Literal.String.Affix */\n",
       ".output_html .sb { color: #BA2121 } /* Literal.String.Backtick */\n",
       ".output_html .sc { color: #BA2121 } /* Literal.String.Char */\n",
       ".output_html .dl { color: #BA2121 } /* Literal.String.Delimiter */\n",
       ".output_html .sd { color: #BA2121; font-style: italic } /* Literal.String.Doc */\n",
       ".output_html .s2 { color: #BA2121 } /* Literal.String.Double */\n",
       ".output_html .se { color: #AA5D1F; font-weight: bold } /* Literal.String.Escape */\n",
       ".output_html .sh { color: #BA2121 } /* Literal.String.Heredoc */\n",
       ".output_html .si { color: #A45A77; font-weight: bold } /* Literal.String.Interpol */\n",
       ".output_html .sx { color: #008000 } /* Literal.String.Other */\n",
       ".output_html .sr { color: #A45A77 } /* Literal.String.Regex */\n",
       ".output_html .s1 { color: #BA2121 } /* Literal.String.Single */\n",
       ".output_html .ss { color: #19177C } /* Literal.String.Symbol */\n",
       ".output_html .bp { color: #008000 } /* Name.Builtin.Pseudo */\n",
       ".output_html .fm { color: #0000FF } /* Name.Function.Magic */\n",
       ".output_html .vc { color: #19177C } /* Name.Variable.Class */\n",
       ".output_html .vg { color: #19177C } /* Name.Variable.Global */\n",
       ".output_html .vi { color: #19177C } /* Name.Variable.Instance */\n",
       ".output_html .vm { color: #19177C } /* Name.Variable.Magic */\n",
       ".output_html .il { color: #666666 } /* Literal.Number.Integer.Long */</style><div class=\"highlight\"><pre><span></span><span class=\"kn\">from</span> <span class=\"nn\">torchvision</span> <span class=\"kn\">import</span> <span class=\"n\">transforms</span>\n",
       "<span class=\"kn\">from</span> <span class=\"nn\">torchvision.datasets</span> <span class=\"kn\">import</span> <span class=\"n\">MNIST</span>\n",
       "<span class=\"kn\">from</span> <span class=\"nn\">torch.utils.data</span> <span class=\"kn\">import</span> <span class=\"n\">random_split</span><span class=\"p\">,</span> <span class=\"n\">DataLoader</span>\n",
       "\n",
       "<span class=\"n\">transform</span> <span class=\"o\">=</span> <span class=\"n\">transforms</span><span class=\"o\">.</span><span class=\"n\">Compose</span><span class=\"p\">([</span>\n",
       "    <span class=\"n\">transforms</span><span class=\"o\">.</span><span class=\"n\">ToTensor</span><span class=\"p\">(),</span>\n",
       "    <span class=\"n\">transforms</span><span class=\"o\">.</span><span class=\"n\">Lambda</span><span class=\"p\">(</span><span class=\"k\">lambda</span> <span class=\"n\">x</span><span class=\"p\">:</span> <span class=\"n\">x</span> <span class=\"o\">/</span> <span class=\"mf\">255.</span><span class=\"p\">)</span>\n",
       "<span class=\"p\">])</span>\n",
       "\n",
       "<span class=\"n\">g</span> <span class=\"o\">=</span> <span class=\"n\">torch</span><span class=\"o\">.</span><span class=\"n\">Generator</span><span class=\"p\">()</span><span class=\"o\">.</span><span class=\"n\">manual_seed</span><span class=\"p\">(</span><span class=\"n\">RANDOM_SEED</span><span class=\"p\">)</span>\n",
       "<span class=\"n\">ds</span> <span class=\"o\">=</span> <span class=\"n\">MNIST</span><span class=\"p\">(</span><span class=\"n\">root</span><span class=\"o\">=</span><span class=\"n\">DATASET_DIR</span><span class=\"p\">,</span> <span class=\"n\">download</span><span class=\"o\">=</span><span class=\"kc\">False</span><span class=\"p\">,</span> <span class=\"n\">transform</span><span class=\"o\">=</span><span class=\"n\">transform</span><span class=\"p\">)</span>\n",
       "<span class=\"n\">ds_train</span><span class=\"p\">,</span> <span class=\"n\">ds_valid</span> <span class=\"o\">=</span> <span class=\"n\">random_split</span><span class=\"p\">(</span><span class=\"n\">ds</span><span class=\"p\">,</span> <span class=\"p\">[</span><span class=\"mi\">55000</span><span class=\"p\">,</span> <span class=\"mi\">5000</span><span class=\"p\">],</span> <span class=\"n\">generator</span><span class=\"o\">=</span><span class=\"n\">g</span><span class=\"p\">)</span>\n",
       "<span class=\"n\">dl_train</span> <span class=\"o\">=</span> <span class=\"n\">DataLoader</span><span class=\"p\">(</span><span class=\"n\">ds_train</span><span class=\"p\">,</span> <span class=\"n\">batch_size</span><span class=\"o\">=</span><span class=\"mi\">32</span><span class=\"p\">,</span> <span class=\"n\">shuffle</span><span class=\"o\">=</span><span class=\"kc\">True</span><span class=\"p\">)</span> <span class=\"c1\"># (!)</span>\n",
       "<span class=\"n\">dl_valid</span> <span class=\"o\">=</span> <span class=\"n\">DataLoader</span><span class=\"p\">(</span><span class=\"n\">ds_valid</span><span class=\"p\">,</span> <span class=\"n\">batch_size</span><span class=\"o\">=</span><span class=\"mi\">32</span><span class=\"p\">,</span> <span class=\"n\">shuffle</span><span class=\"o\">=</span><span class=\"kc\">False</span><span class=\"p\">)</span>\n",
       "</pre></div>\n"
      ],
      "text/latex": [
       "\\begin{Verbatim}[commandchars=\\\\\\{\\}]\n",
       "\\PY{k+kn}{from} \\PY{n+nn}{torchvision} \\PY{k+kn}{import} \\PY{n}{transforms}\n",
       "\\PY{k+kn}{from} \\PY{n+nn}{torchvision}\\PY{n+nn}{.}\\PY{n+nn}{datasets} \\PY{k+kn}{import} \\PY{n}{MNIST}\n",
       "\\PY{k+kn}{from} \\PY{n+nn}{torch}\\PY{n+nn}{.}\\PY{n+nn}{utils}\\PY{n+nn}{.}\\PY{n+nn}{data} \\PY{k+kn}{import} \\PY{n}{random\\PYZus{}split}\\PY{p}{,} \\PY{n}{DataLoader}\n",
       "\n",
       "\\PY{n}{transform} \\PY{o}{=} \\PY{n}{transforms}\\PY{o}{.}\\PY{n}{Compose}\\PY{p}{(}\\PY{p}{[}\n",
       "    \\PY{n}{transforms}\\PY{o}{.}\\PY{n}{ToTensor}\\PY{p}{(}\\PY{p}{)}\\PY{p}{,}\n",
       "    \\PY{n}{transforms}\\PY{o}{.}\\PY{n}{Lambda}\\PY{p}{(}\\PY{k}{lambda} \\PY{n}{x}\\PY{p}{:} \\PY{n}{x} \\PY{o}{/} \\PY{l+m+mf}{255.}\\PY{p}{)}\n",
       "\\PY{p}{]}\\PY{p}{)}\n",
       "\n",
       "\\PY{n}{g} \\PY{o}{=} \\PY{n}{torch}\\PY{o}{.}\\PY{n}{Generator}\\PY{p}{(}\\PY{p}{)}\\PY{o}{.}\\PY{n}{manual\\PYZus{}seed}\\PY{p}{(}\\PY{n}{RANDOM\\PYZus{}SEED}\\PY{p}{)}\n",
       "\\PY{n}{ds} \\PY{o}{=} \\PY{n}{MNIST}\\PY{p}{(}\\PY{n}{root}\\PY{o}{=}\\PY{n}{DATASET\\PYZus{}DIR}\\PY{p}{,} \\PY{n}{download}\\PY{o}{=}\\PY{k+kc}{False}\\PY{p}{,} \\PY{n}{transform}\\PY{o}{=}\\PY{n}{transform}\\PY{p}{)}\n",
       "\\PY{n}{ds\\PYZus{}train}\\PY{p}{,} \\PY{n}{ds\\PYZus{}valid} \\PY{o}{=} \\PY{n}{random\\PYZus{}split}\\PY{p}{(}\\PY{n}{ds}\\PY{p}{,} \\PY{p}{[}\\PY{l+m+mi}{55000}\\PY{p}{,} \\PY{l+m+mi}{5000}\\PY{p}{]}\\PY{p}{,} \\PY{n}{generator}\\PY{o}{=}\\PY{n}{g}\\PY{p}{)}\n",
       "\\PY{n}{dl\\PYZus{}train} \\PY{o}{=} \\PY{n}{DataLoader}\\PY{p}{(}\\PY{n}{ds\\PYZus{}train}\\PY{p}{,} \\PY{n}{batch\\PYZus{}size}\\PY{o}{=}\\PY{l+m+mi}{32}\\PY{p}{,} \\PY{n}{shuffle}\\PY{o}{=}\\PY{k+kc}{True}\\PY{p}{)} \\PY{c+c1}{\\PYZsh{} (!)}\n",
       "\\PY{n}{dl\\PYZus{}valid} \\PY{o}{=} \\PY{n}{DataLoader}\\PY{p}{(}\\PY{n}{ds\\PYZus{}valid}\\PY{p}{,} \\PY{n}{batch\\PYZus{}size}\\PY{o}{=}\\PY{l+m+mi}{32}\\PY{p}{,} \\PY{n}{shuffle}\\PY{o}{=}\\PY{k+kc}{False}\\PY{p}{)}\n",
       "\\end{Verbatim}\n"
      ],
      "text/plain": [
       "from torchvision import transforms\n",
       "from torchvision.datasets import MNIST\n",
       "from torch.utils.data import random_split, DataLoader\n",
       "\n",
       "transform = transforms.Compose([\n",
       "    transforms.ToTensor(),\n",
       "    transforms.Lambda(lambda x: x / 255.)\n",
       "])\n",
       "\n",
       "g = torch.Generator().manual_seed(RANDOM_SEED)\n",
       "ds = MNIST(root=DATASET_DIR, download=False, transform=transform)\n",
       "ds_train, ds_valid = random_split(ds, [55000, 5000], generator=g)\n",
       "dl_train = DataLoader(ds_train, batch_size=32, shuffle=True) # (!)\n",
       "dl_valid = DataLoader(ds_valid, batch_size=32, shuffle=False)"
      ]
     },
     "execution_count": 4,
     "metadata": {},
     "output_type": "execute_result"
    }
   ],
   "source": [
    "%%save\n",
    "from torchvision import transforms\n",
    "from torchvision.datasets import MNIST\n",
    "from torch.utils.data import random_split, DataLoader\n",
    "\n",
    "transform = transforms.Compose([\n",
    "    transforms.ToTensor(),\n",
    "    transforms.Lambda(lambda x: x / 255.)\n",
    "])\n",
    "\n",
    "g = torch.Generator().manual_seed(RANDOM_SEED)\n",
    "ds = MNIST(root=DATASET_DIR, download=False, transform=transform)\n",
    "ds_train, ds_valid = random_split(ds, [55000, 5000], generator=g)\n",
    "dl_train = DataLoader(ds_train, batch_size=32, shuffle=True) # (!)\n",
    "dl_valid = DataLoader(ds_valid, batch_size=32, shuffle=False)"
   ]
  },
  {
   "cell_type": "markdown",
   "id": "c72a5de2",
   "metadata": {
    "papermill": {
     "duration": 0.001384,
     "end_time": "2024-11-27T10:40:27.816562",
     "exception": false,
     "start_time": "2024-11-27T10:40:27.815178",
     "status": "completed"
    },
    "tags": []
   },
   "source": [
    "**Remark.** `shuffle=True` is important for SGD training. The model will have low validation score when looping through the samples in the same order during training. This may be due to cyclic behavior in the updates (e.g. cancelling out)."
   ]
  }
 ],
 "metadata": {
  "kernelspec": {
   "display_name": ".venv",
   "language": "python",
   "name": "python3"
  },
  "language_info": {
   "codemirror_mode": {
    "name": "ipython",
    "version": 3
   },
   "file_extension": ".py",
   "mimetype": "text/x-python",
   "name": "python",
   "nbconvert_exporter": "python",
   "pygments_lexer": "ipython3",
   "version": "3.10.4"
  },
  "papermill": {
   "default_parameters": {},
   "duration": 4.225007,
   "end_time": "2024-11-27T10:40:28.541313",
   "environment_variables": {},
   "exception": null,
   "input_path": "03ba-model.ipynb",
   "output_path": "03ba-model.ipynb",
   "parameters": {},
   "start_time": "2024-11-27T10:40:24.316306",
   "version": "2.6.0"
  }
 },
 "nbformat": 4,
 "nbformat_minor": 5
}