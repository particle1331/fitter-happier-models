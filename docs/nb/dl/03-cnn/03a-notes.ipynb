{
 "cells": [
  {
   "cell_type": "markdown",
   "metadata": {},
   "source": [
    "# Notes"
   ]
  },
  {
   "cell_type": "markdown",
   "metadata": {},
   "source": [
    "- ffwd are general and versatile\n",
    "- but is unconstrained, hence difficult to train / generalize\n",
    "- especially true for vision, sound, or similar data with spatial orientation as key attribute\n",
    "- cnns allow conv filters applied in a spatially homogenous manner\n",
    "- discuss conv in dl arch + other concepts: channels, max pool\n",
    "- "
   ]
  }
 ],
 "metadata": {
  "language_info": {
   "name": "python"
  }
 },
 "nbformat": 4,
 "nbformat_minor": 2
}
