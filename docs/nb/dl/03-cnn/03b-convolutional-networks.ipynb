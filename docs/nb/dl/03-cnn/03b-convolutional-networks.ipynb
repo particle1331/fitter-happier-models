{
 "cells": [
  {
   "cell_type": "markdown",
   "id": "6817583a",
   "metadata": {
    "papermill": {
     "duration": 0.005127,
     "end_time": "2024-11-27T10:40:22.265024",
     "exception": false,
     "start_time": "2024-11-27T10:40:22.259897",
     "status": "completed"
    },
    "tags": []
   },
   "source": [
    "# Convolutional networks"
   ]
  },
  {
   "cell_type": "markdown",
   "id": "e42ff40e",
   "metadata": {
    "papermill": {
     "duration": 0.003725,
     "end_time": "2024-11-27T10:40:22.272085",
     "exception": false,
     "start_time": "2024-11-27T10:40:22.268360",
     "status": "completed"
    },
    "tags": []
   },
   "source": [
    "In this section, we train an implementation of **LeNet-5** {cite}`lenet`  on MNIST. \n",
    "LeNet-5 was used in the 1990s to identify handwritten zip code numbers in the US Postal Service ({numref}`03-lenet-timeline`).\n",
    "This network is characterized as having convolution and pooling blocks as feature extractor. The features are then passed to an MLP with 10 output nodes for each class label."
   ]
  },
  {
   "cell_type": "markdown",
   "id": "46eba79e",
   "metadata": {
    "papermill": {
     "duration": 0.003654,
     "end_time": "2024-11-27T10:40:22.278394",
     "exception": false,
     "start_time": "2024-11-27T10:40:22.274740",
     "status": "completed"
    },
    "tags": []
   },
   "source": [
    "```{figure} https://www.d2l.ai/_images/lenet.svg\n",
    "---\n",
    "name: lenet\n",
    "align: center\n",
    "---\n",
    "Lenet-5 (1989) network architecture. [Source](https://www.d2l.ai/chapter_convolutional-neural-networks/lenet.html)\n",
    "```"
   ]
  },
  {
   "cell_type": "markdown",
   "id": "0c7fe0bc",
   "metadata": {
    "papermill": {
     "duration": 0.002243,
     "end_time": "2024-11-27T10:40:22.283064",
     "exception": false,
     "start_time": "2024-11-27T10:40:22.280821",
     "status": "completed"
    },
    "tags": []
   },
   "source": [
    "<br>\n",
    "\n",
    "**Remark.** A *block* is composed of multiple layers that together form a basic functional unit. This is generally used in designing neural net architectures. See also **AlexNet** {cite}`alexnet` and **VGG** {cite}`vgg` which take the conv+pool blocks design to the extreme ({numref}`03-alexnet-vgg`). AlexNet and VGG likewise contain consecutive convolutional blocks that downsample the spatial dims, while increasing the number of output channels so that network capacity is not diminished."
   ]
  },
  {
   "cell_type": "markdown",
   "id": "938ba6a0",
   "metadata": {
    "papermill": {
     "duration": 0.000923,
     "end_time": "2024-11-27T10:40:22.285471",
     "exception": false,
     "start_time": "2024-11-27T10:40:22.284548",
     "status": "completed"
    },
    "tags": []
   },
   "source": [
    "```{figure} ../../../img/nn/03-alexnet-vgg.png\n",
    "---\n",
    "name: 03-alexnet-vgg\n",
    "align: center\n",
    "---\n",
    "Network architecture of AlexNet and VGG. More layers means more processing, which is\n",
    "why we see repeated convolutions and blocks. [Source](https://www.d2l.ai/chapter_convolutional-modern/vgg.html#vgg-network)\n",
    "```"
   ]
  },
  {
   "cell_type": "markdown",
   "id": "51dda06e",
   "metadata": {
    "papermill": {
     "duration": 0.000731,
     "end_time": "2024-11-27T10:40:22.287005",
     "exception": false,
     "start_time": "2024-11-27T10:40:22.286274",
     "status": "completed"
    },
    "tags": []
   },
   "source": [
    "```{figure} ../../../img/nn/03-lenet-timeline.png\n",
    "---\n",
    "name: 03-lenet-timeline\n",
    "align: center\n",
    "---\n",
    "A bit of history. Timeline of the development of LeNet and MNIST. [Source](https://en.wikipedia.org/wiki/LeNet)\n",
    "```"
   ]
  },
  {
   "cell_type": "markdown",
   "id": "3bb48316",
   "metadata": {
    "papermill": {
     "duration": 0.000708,
     "end_time": "2024-11-27T10:40:22.288485",
     "exception": false,
     "start_time": "2024-11-27T10:40:22.287777",
     "status": "completed"
    },
    "tags": []
   },
   "source": []
  }
 ],
 "metadata": {
  "kernelspec": {
   "display_name": ".venv",
   "language": "python",
   "name": "python3"
  },
  "language_info": {
   "codemirror_mode": {
    "name": "ipython",
    "version": 3
   },
   "file_extension": ".py",
   "mimetype": "text/x-python",
   "name": "python",
   "nbconvert_exporter": "python",
   "pygments_lexer": "ipython3",
   "version": "3.10.4"
  },
  "papermill": {
   "default_parameters": {},
   "duration": 1.136916,
   "end_time": "2024-11-27T10:40:22.405055",
   "environment_variables": {},
   "exception": null,
   "input_path": "03b-convolutional-networks.ipynb",
   "output_path": "03b-convolutional-networks.ipynb",
   "parameters": {},
   "start_time": "2024-11-27T10:40:21.268139",
   "version": "2.6.0"
  }
 },
 "nbformat": 4,
 "nbformat_minor": 5
}