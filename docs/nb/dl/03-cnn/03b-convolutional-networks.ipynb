{
 "cells": [
  {
   "cell_type": "markdown",
   "id": "6817583a",
   "metadata": {
    "papermill": {
     "duration": 0.008059,
     "end_time": "2024-10-07T02:24:48.200259",
     "exception": false,
     "start_time": "2024-10-07T02:24:48.192200",
     "status": "completed"
    },
    "tags": []
   },
   "source": [
    "# Convolutional networks"
   ]
  },
  {
   "cell_type": "markdown",
   "id": "e42ff40e",
   "metadata": {
    "papermill": {
     "duration": 0.004003,
     "end_time": "2024-10-07T02:24:48.211009",
     "exception": false,
     "start_time": "2024-10-07T02:24:48.207006",
     "status": "completed"
    },
    "tags": []
   },
   "source": [
    "In this section, we train an implementation of **LeNet-5** {cite}`lenet`  on MNIST. \n",
    "LeNet-5 was used in the 1990s to identify handwritten zip code numbers in the US Postal Service ({numref}`03-lenet-timeline`).\n",
    "This network is characterized as having convolution and pooling blocks as feature extractor. The features are then passed to an MLP with 10 output nodes for each class label."
   ]
  },
  {
   "cell_type": "markdown",
   "id": "46eba79e",
   "metadata": {
    "papermill": {
     "duration": 0.002056,
     "end_time": "2024-10-07T02:24:48.216017",
     "exception": false,
     "start_time": "2024-10-07T02:24:48.213961",
     "status": "completed"
    },
    "tags": []
   },
   "source": [
    "```{figure} https://www.d2l.ai/_images/lenet.svg\n",
    "---\n",
    "name: lenet\n",
    "align: center\n",
    "---\n",
    "Lenet-5 (1989) network architecture. [Source](https://www.d2l.ai/chapter_convolutional-neural-networks/lenet.html)\n",
    "```"
   ]
  },
  {
   "cell_type": "markdown",
   "id": "0c7fe0bc",
   "metadata": {
    "papermill": {
     "duration": 0.002533,
     "end_time": "2024-10-07T02:24:48.221587",
     "exception": false,
     "start_time": "2024-10-07T02:24:48.219054",
     "status": "completed"
    },
    "tags": []
   },
   "source": [
    "<br>\n",
    "\n",
    "**Remark.** A *block* is composed of multiple layers that together form a basic functional unit. This is generally used in designing neural net architectures. See also **AlexNet** {cite}`alexnet` and **VGG** {cite}`vgg` which take the conv+pool blocks design to the extreme ({numref}`03-alexnet-vgg`). AlexNet and VGG likewise contain consecutive convolutional blocks that downsample the spatial dims, while increasing the number of output channels so that network capacity is not diminished."
   ]
  },
  {
   "cell_type": "markdown",
   "id": "938ba6a0",
   "metadata": {
    "papermill": {
     "duration": 0.001858,
     "end_time": "2024-10-07T02:24:48.225481",
     "exception": false,
     "start_time": "2024-10-07T02:24:48.223623",
     "status": "completed"
    },
    "tags": []
   },
   "source": [
    "```{figure} ../../../img/nn/03-alexnet-vgg.png\n",
    "---\n",
    "name: 03-alexnet-vgg\n",
    "align: center\n",
    "---\n",
    "Network architecture of AlexNet and VGG. More layers means more processing, which is\n",
    "why we see repeated convolutions and blocks. [Source](https://www.d2l.ai/chapter_convolutional-modern/vgg.html#vgg-network)\n",
    "```"
   ]
  },
  {
   "cell_type": "markdown",
   "id": "51dda06e",
   "metadata": {
    "papermill": {
     "duration": 0.001742,
     "end_time": "2024-10-07T02:24:48.229228",
     "exception": false,
     "start_time": "2024-10-07T02:24:48.227486",
     "status": "completed"
    },
    "tags": []
   },
   "source": [
    "```{figure} ../../../img/nn/03-lenet-timeline.png\n",
    "---\n",
    "name: 03-lenet-timeline\n",
    "align: center\n",
    "---\n",
    "A bit of history. Timeline of the development of LeNet and MNIST. [Source](https://en.wikipedia.org/wiki/LeNet)\n",
    "```"
   ]
  },
  {
   "cell_type": "markdown",
   "id": "3bb48316",
   "metadata": {
    "papermill": {
     "duration": 0.001462,
     "end_time": "2024-10-07T02:24:48.232202",
     "exception": false,
     "start_time": "2024-10-07T02:24:48.230740",
     "status": "completed"
    },
    "tags": []
   },
   "source": []
  }
 ],
 "metadata": {
  "kernelspec": {
   "display_name": ".venv",
   "language": "python",
   "name": "python3"
  },
  "language_info": {
   "codemirror_mode": {
    "name": "ipython",
    "version": 3
   },
   "file_extension": ".py",
   "mimetype": "text/x-python",
   "name": "python",
   "nbconvert_exporter": "python",
   "pygments_lexer": "ipython3",
   "version": "3.10.4"
  },
  "papermill": {
   "default_parameters": {},
   "duration": 1.076983,
   "end_time": "2024-10-07T02:24:48.351252",
   "environment_variables": {},
   "exception": null,
   "input_path": "03b-convolutional-networks.ipynb",
   "output_path": "03b-convolutional-networks.ipynb",
   "parameters": {},
   "start_time": "2024-10-07T02:24:47.274269",
   "version": "2.6.0"
  }
 },
 "nbformat": 4,
 "nbformat_minor": 5
}