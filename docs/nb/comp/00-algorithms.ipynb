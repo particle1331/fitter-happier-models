{
 "cells": [
  {
   "attachments": {},
   "cell_type": "markdown",
   "metadata": {},
   "source": [
    "(comp/00-algorithms)=\n",
    "# Coding Problems"
   ]
  },
  {
   "attachments": {},
   "cell_type": "markdown",
   "metadata": {},
   "source": [
    "![Status](https://img.shields.io/static/v1.svg?label=Status&message=Finished&color=brightgreen)\n",
    "[![Source](https://img.shields.io/static/v1.svg?label=GitHub&message=Source&color=181717&logo=GitHub)](https://github.com/particle1331/ok-transformer/blob/master/docs/nb/comp/00-algorithms.ipynb)\n",
    "[![Stars](https://img.shields.io/github/stars/particle1331/ok-transformer?style=social)](https://github.com/particle1331/ok-transformer)\n",
    "\n",
    "---"
   ]
  },
  {
   "cell_type": "markdown",
   "metadata": {},
   "source": [
    "**References:** {cite}`durr2020competitive` {cite}`Laaksonen20`"
   ]
  },
  {
   "cell_type": "markdown",
   "metadata": {},
   "source": [
    "## Backtracking"
   ]
  },
  {
   "cell_type": "markdown",
   "metadata": {},
   "source": [
    "### Reverse Shuffle Merge"
   ]
  },
  {
   "cell_type": "markdown",
   "metadata": {},
   "source": [
    "**Problem.** [[Reverse Shuffle Merge](https://www.hackerrank.com/challenges/reverse-shuffle-merge/problem) (HR)]. Given a string $S$ containing characters with even counts, we want to find a lexically minimal string $A$ containing half of each characters of $S$ such that $a_i = s_{j_i}$ where $j_{k} \\leq j_{k-1} \\leq \\ldots \\leq j_1$ with $k = \\frac{1}{2}|S|.$ For example, if $S$ is `eggcegcg` then $A$ is the string `cegg` which can be constructed as `·gg·e·c·` within $S$."
   ]
  },
  {
   "cell_type": "markdown",
   "metadata": {},
   "source": [
    "**Solution.** Note that we can iterate over $S$ from right to left choosing to skip or take a character. Since $A$ has to be minimal, we want to take minimal characters, and skip those that are large. However, skipping too often can also result in a suboptimal solution. Consider `S = 'cdeedcaaaa'` here skipping `c` and `d` gets us in trouble since `e` reaches its skip limit of 1/2 its count, and we are forced to take it, getting the suboptimal solution `A = 'aaedc'`. Hence, we want to take characters, unless we are forced to skip, or we have better options:"
   ]
  },
  {
   "cell_type": "code",
   "execution_count": 1,
   "metadata": {},
   "outputs": [
    {
     "data": {
      "text/plain": [
       "'cegg'"
      ]
     },
     "execution_count": 1,
     "metadata": {},
     "output_type": "execute_result"
    }
   ],
   "source": [
    "from collections import Counter\n",
    "\n",
    "def solve(S):\n",
    "    counts = Counter(S)\n",
    "    chars = counts.keys()\n",
    "    A = ['.']\n",
    "    take_count = {c: 0 for c in chars}\n",
    "    skip_count = {c: 0 for c in chars}\n",
    "\n",
    "    def take(s):\n",
    "        A.append(s)\n",
    "        take_count[s] += 1\n",
    "\n",
    "    def skip(s):\n",
    "        skip_count[s] += 1\n",
    "\n",
    "    def squash(s):\n",
    "        while (len(A) > 1) and (A[-1] > s) and (skip_count[A[-1]] < counts[A[-1]] / 2):\n",
    "            skip_count[A[-1]] += 1\n",
    "            take_count[A[-1]] -= 1\n",
    "            A.pop()\n",
    "        take(s)\n",
    "\n",
    "    for s in S[::-1]:        \n",
    "        if take_count[s] == counts[s] / 2:\n",
    "            skip(s)\n",
    "        else:\n",
    "            squash(s)\n",
    "\n",
    "    return \"\".join(A[1:])\n",
    "\n",
    "\n",
    "S = \"eggcegcg\"\n",
    "A = solve(S)\n",
    "A"
   ]
  },
  {
   "cell_type": "markdown",
   "metadata": {},
   "source": [
    "Notice that instead of `take(s)` we have `squash(s)`. The trick is to construct chains: `a <= a <= c <= d` and  if we encounter `b` such that `d > b`, then we backtrack by popping `d` and `c` assuming the skip limit allows it. Our sequence then becomes `a <= a <= b`. The equals is important here to allow consecutive same characters. This is also why we added `.` at the start which is smaller than any character. \n",
    "\n",
    "Observe that the `squash` function only takes into account `A` and ignores skipped characters. This is fine since instances of these characters are already optimally placed in the chain. It only adds more skipped characters which are suboptimal in the chain compared to the current queried character. Trying a more complicated input:"
   ]
  },
  {
   "cell_type": "code",
   "execution_count": 2,
   "metadata": {},
   "outputs": [
    {
     "name": "stdout",
     "output_type": "stream",
     "text": [
      "                  e e         \n",
      "                      d     d \n",
      "          c c c           c   \n",
      "    b           b             \n",
      "  a   a a               a     \n",
      ".                             \n",
      "\n",
      "S = dcadeebcccaaba\n",
      "A = aacbecd\n"
     ]
    }
   ],
   "source": [
    "def viz(S):\n",
    "    chars = Counter(S)\n",
    "    d = {c: [] for c in sorted(chars.keys(), reverse=True)}\n",
    "\n",
    "    for s in S[::-1]:\n",
    "        for c in d.keys():\n",
    "            if c == s:\n",
    "                d[c].append(s + ' ')\n",
    "            else:\n",
    "                d[c].append('  ')\n",
    "\n",
    "    for c in d.keys():\n",
    "        print(''.join(d[c]))\n",
    "\n",
    "\n",
    "\n",
    "S = \"dcadeebcccaaba.\"\n",
    "viz(S)\n",
    "print()\n",
    "print(f\"S = {S[:-1]}\")\n",
    "print(\"A =\", solve(S)[1:])"
   ]
  },
  {
   "cell_type": "markdown",
   "metadata": {},
   "source": [
    "```{figure} ../../img/greedy-1-soln-1.png\n",
    "---\n",
    "width: 60%\n",
    "---\n",
    "To respect optimality, we try as much as possible to have our curve in the bottom half of the diagonal. At the start, `b` is squashed after getting `a <= b ? a` while the third `a` skipped. Then, we get consecutive `c <= c ? b` (last `c` is skipped due to take limit) only the latter `c` is popped due to skip limit. Next, we encounter two `e`, the latter skipped due to take limit. And so on. Marked characters are skipped while unmarked characters were squashed (essentially also skipped).\n",
    "```"
   ]
  },
  {
   "cell_type": "markdown",
   "metadata": {},
   "source": [
    "### Generate Parenthesis"
   ]
  },
  {
   "cell_type": "markdown",
   "metadata": {},
   "source": [
    "**Problem.** [[Generate Parenthesis](https://leetcode.com/problems/generate-parentheses/description/?envType=study-plan-v2&envId=top-100-liked) (LC)]. Given $n$ pairs of parentheses, write a function to generate all combinations of well-formed parentheses."
   ]
  },
  {
   "cell_type": "markdown",
   "metadata": {},
   "source": [
    "**Solution.** Suppose you have a string of well-formed parenthesis, then you can only add `(`. If you have `(` in excess, you can add enough `)` or add more `(` until its count reaches $n$. Hence, we can just branch off at each candidate solution by adding `(` or `)` while keeping constraints in check. \n",
    "\n",
    "In the code below, we represent candidate solutions with tuples `(l, r, s)` containing left parenthesis count `l`, right parenthesis count `r`, and the constucted string `s`."
   ]
  },
  {
   "cell_type": "code",
   "execution_count": 17,
   "metadata": {},
   "outputs": [
    {
     "data": {
      "text/plain": [
       "['((()))', '(()())', '(())()', '()(())', '()()()']"
      ]
     },
     "execution_count": 17,
     "metadata": {},
     "output_type": "execute_result"
    }
   ],
   "source": [
    "def solve(n):\n",
    "    out = [(0, 0, \"\")]\n",
    "    while True:\n",
    "        tmp = []\n",
    "        for res in out:\n",
    "            l, r, s = res\n",
    "            if l < n:\n",
    "                tmp.append((l + 1, r, s + \"(\"))\n",
    "            if l > r:\n",
    "                tmp.append((l, r + 1, s + \")\"))\n",
    "        \n",
    "        if len(tmp) == 0:\n",
    "            return [s for (l, r, s) in out]\n",
    "        else:\n",
    "            out = tmp\n",
    "        \n",
    "solve(3)"
   ]
  },
  {
   "cell_type": "code",
   "execution_count": null,
   "metadata": {},
   "outputs": [],
   "source": []
  }
 ],
 "metadata": {
  "kernelspec": {
   "display_name": "ai",
   "language": "python",
   "name": "python3"
  },
  "language_info": {
   "codemirror_mode": {
    "name": "ipython",
    "version": 3
   },
   "file_extension": ".py",
   "mimetype": "text/x-python",
   "name": "python",
   "nbconvert_exporter": "python",
   "pygments_lexer": "ipython3",
   "version": "3.9.16"
  }
 },
 "nbformat": 4,
 "nbformat_minor": 2
}
