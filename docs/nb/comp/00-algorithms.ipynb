{
 "cells": [
  {
   "attachments": {},
   "cell_type": "markdown",
   "metadata": {},
   "source": [
    "(comp/00-algorithms)=\n",
    "# Coding Problems"
   ]
  },
  {
   "attachments": {},
   "cell_type": "markdown",
   "metadata": {},
   "source": [
    "![Status](https://img.shields.io/static/v1.svg?label=Status&message=Ongoing&color=orange)\n",
    "[![Source](https://img.shields.io/static/v1.svg?label=GitHub&message=Source&color=181717&logo=GitHub)](https://github.com/particle1331/ok-transformer/blob/master/docs/nb/comp/00-algorithms.ipynb)\n",
    "[![Stars](https://img.shields.io/github/stars/particle1331/ok-transformer?style=social)](https://github.com/particle1331/ok-transformer)\n",
    "[![LeetCode user particle1331](https://img.shields.io/badge/dynamic/json?style=flat&labelColor=black&color=%23ffa116&label=Solved&query=solvedOverTotal&url=https%3A%2F%2Fbadge.xyli.tech/%2Fapi%2Fusers%2Fparticle1331&logo=leetcode&logoColor=yellow)](https://leetcode.com/particle1331/)\n",
    "\n",
    "\n",
    "---"
   ]
  },
  {
   "cell_type": "markdown",
   "metadata": {},
   "source": [
    "## Backtracking"
   ]
  },
  {
   "cell_type": "markdown",
   "metadata": {},
   "source": [
    "Backtracking algorithms are used to systematically explore all possible solutions. The basic idea is to build a solution incrementally, while making choices along the way. At each step, the algorithm explores a possible choice and then recursively explores further choices based on that choice. If a certain choice leads to a dead-end or an invalid solution, the algorithm \"backtracks\" either by undoing the last choice, or quickly terminating the current solution path, and moving on to the next option."
   ]
  },
  {
   "cell_type": "markdown",
   "metadata": {},
   "source": [
    "### Reverse Shuffle Merge"
   ]
  },
  {
   "cell_type": "markdown",
   "metadata": {},
   "source": [
    "**Problem.** [[Reverse Shuffle Merge](https://www.hackerrank.com/challenges/reverse-shuffle-merge/problem) (HR)]. Given a string $S$ containing characters with even counts, we want to find a lexically minimal string $A$ containing half of each characters of $S$ such that $a_i = s_{j_i}$ where $j_{k} \\leq j_{k-1} \\leq \\ldots \\leq j_1$ with $k = \\frac{1}{2}|S|.$ For example, if $S$ is `eggcegcg` then $A$ is the string `cegg` which can be constructed as `·gg·e·c·` within $S$."
   ]
  },
  {
   "cell_type": "markdown",
   "metadata": {},
   "source": [
    "**Solution.** Note that we can iterate over $S$ from right to left choosing to skip or take a character. Since $A$ has to be minimal, we want to take minimal characters, and skip those that are large. However, skipping too often can also result in a suboptimal solution. Consider `S = 'cdeedcaaaa'` here skipping `c` and `d` gets us in trouble since `e` reaches its skip limit of 1/2 its count, and we are forced to take it, getting the suboptimal solution `A = 'aaedc'`. Hence, we want to take characters, unless we are forced to skip, or we have better options:"
   ]
  },
  {
   "cell_type": "code",
   "execution_count": 1,
   "metadata": {},
   "outputs": [
    {
     "data": {
      "text/plain": [
       "'cegg'"
      ]
     },
     "execution_count": 1,
     "metadata": {},
     "output_type": "execute_result"
    }
   ],
   "source": [
    "from collections import Counter\n",
    "\n",
    "def solve(S):\n",
    "    counts = Counter(S)\n",
    "    chars = counts.keys()\n",
    "    A = ['.']\n",
    "    take_count = {c: 0 for c in chars}\n",
    "    skip_count = {c: 0 for c in chars}\n",
    "\n",
    "    def take(s):\n",
    "        A.append(s)\n",
    "        take_count[s] += 1\n",
    "\n",
    "    def skip(s):\n",
    "        skip_count[s] += 1\n",
    "\n",
    "    def squash(s):\n",
    "        while (len(A) > 1) and (A[-1] > s) and (skip_count[A[-1]] < counts[A[-1]] / 2):\n",
    "            skip_count[A[-1]] += 1\n",
    "            take_count[A[-1]] -= 1\n",
    "            A.pop()\n",
    "        take(s)\n",
    "\n",
    "    for s in S[::-1]:        \n",
    "        if take_count[s] == counts[s] / 2:\n",
    "            skip(s)\n",
    "        else:\n",
    "            squash(s)\n",
    "\n",
    "    return \"\".join(A[1:])\n",
    "\n",
    "\n",
    "S = \"eggcegcg\"\n",
    "A = solve(S)\n",
    "A"
   ]
  },
  {
   "cell_type": "markdown",
   "metadata": {},
   "source": [
    "Notice that instead of `take(s)` we have `squash(s)`. The trick is to construct chains: `a <= a <= c <= d` and  if we encounter `b` such that `d > b`, then we backtrack by popping `d` and `c` assuming the skip limit allows it. Our sequence then becomes `a <= a <= b`. The equals is important here to allow consecutive same characters. This is also why we added `.` at the start which is smaller than any character. \n",
    "\n",
    "Observe that the `squash` function only takes into account `A` and ignores skipped characters. This is fine since instances of these characters are already optimally placed in the chain. It only adds more skipped characters which are suboptimal in the chain compared to the current queried character. Trying a more complicated input:"
   ]
  },
  {
   "cell_type": "code",
   "execution_count": 2,
   "metadata": {},
   "outputs": [
    {
     "name": "stdout",
     "output_type": "stream",
     "text": [
      "                  e e         \n",
      "                      d     d \n",
      "          c c c           c   \n",
      "    b           b             \n",
      "  a   a a               a     \n",
      ".                             \n",
      "\n",
      "S = dcadeebcccaaba\n",
      "A = aacbecd\n"
     ]
    }
   ],
   "source": [
    "def viz(S):\n",
    "    chars = Counter(S)\n",
    "    d = {c: [] for c in sorted(chars.keys(), reverse=True)}\n",
    "\n",
    "    for s in S[::-1]:\n",
    "        for c in d.keys():\n",
    "            if c == s:\n",
    "                d[c].append(s + ' ')\n",
    "            else:\n",
    "                d[c].append('  ')\n",
    "\n",
    "    for c in d.keys():\n",
    "        print(''.join(d[c]))\n",
    "\n",
    "\n",
    "\n",
    "S = \"dcadeebcccaaba.\"\n",
    "viz(S)\n",
    "print()\n",
    "print(f\"S = {S[:-1]}\")\n",
    "print(\"A =\", solve(S)[1:])"
   ]
  },
  {
   "cell_type": "markdown",
   "metadata": {},
   "source": [
    "```{figure} ../../img/comp/greedy-1-soln-1.png\n",
    "---\n",
    "width: 60%\n",
    "---\n",
    "To respect optimality, we try as much as possible to have our curve in the bottom half of the diagonal. At the start, `b` is squashed after getting `a <= b ? a` while the third `a` skipped. Then, we get consecutive `c <= c ? b` (last `c` is skipped due to take limit) only the latter `c` is popped due to skip limit. Next, we encounter two `e`, the latter skipped due to take limit. And so on. Marked characters are skipped while unmarked characters were squashed (essentially also skipped).\n",
    "```"
   ]
  },
  {
   "cell_type": "markdown",
   "metadata": {},
   "source": [
    "### Generate Parenthesis"
   ]
  },
  {
   "cell_type": "markdown",
   "metadata": {},
   "source": [
    "**Problem.** [[Generate Parenthesis](https://leetcode.com/problems/generate-parentheses/description/?envType=study-plan-v2&envId=top-100-liked) (LC #22)]. Given $n$ pairs of parentheses, generate all strings of well-formed parentheses. For $n = 1$, the only solution is `'()'`."
   ]
  },
  {
   "cell_type": "markdown",
   "metadata": {},
   "source": [
    "**Solution.** Suppose you have a string of well-formed parentheses, then you can only add `(`. If you have `(` in excess, you can add enough `)` or add more `(` until its count reaches $n$. Hence, we can just branch off at each candidate solution by adding `(` or `)` while keeping constraints in check. This ultimately results in well-formed parentheses at the leaves. "
   ]
  },
  {
   "cell_type": "code",
   "execution_count": 3,
   "metadata": {},
   "outputs": [
    {
     "name": "stdout",
     "output_type": "stream",
     "text": [
      "['()']\n",
      "['((()))', '(()())', '(())()', '()(())', '()()()']\n"
     ]
    }
   ],
   "source": [
    "def solve(n):\n",
    "    out = [(0, 0, \"\")]\n",
    "    while True:\n",
    "        tmp = []\n",
    "        for res in out:\n",
    "            l, r, s = res\n",
    "            if l < n:\n",
    "                tmp.append((l + 1, r, s + \"(\"))\n",
    "            if l > r:\n",
    "                tmp.append((l, r + 1, s + \")\"))\n",
    "        \n",
    "        if len(tmp) == 0:\n",
    "            return [s for (l, r, s) in out]\n",
    "        else:\n",
    "            out = tmp\n",
    "\n",
    "\n",
    "print(solve(1))\n",
    "print(solve(3))"
   ]
  },
  {
   "cell_type": "markdown",
   "metadata": {},
   "source": [
    "**Remark.** Candidate solutions are represented as tuples `(l, r, s)` containing left parenthesis count `l`, right parenthesis count `r`, and the constucted string `s`."
   ]
  },
  {
   "cell_type": "markdown",
   "metadata": {},
   "source": [
    "<br>"
   ]
  },
  {
   "cell_type": "markdown",
   "metadata": {},
   "source": [
    "```{figure} ../../img/comp/parenthesis-perf.png\n",
    "---\n",
    "width: 80%\n",
    "---\n",
    "```"
   ]
  },
  {
   "cell_type": "markdown",
   "metadata": {},
   "source": [
    "### Combination Sum"
   ]
  },
  {
   "cell_type": "markdown",
   "metadata": {},
   "source": [
    "**Problem.** [[Combination Sum](https://leetcode.com/problems/combination-sum/?envType=study-plan-v2&envId=top-100-liked) (LC #39)]. Given a sequence $S = (s_1, \\ldots, s_n)$ of distinct integers and a target $t$, generate all sequences $(s_{j_1}, \\ldots, s_{j_k})$ such that $s_{j_1} \\leq \\ldots \\leq s_{j_k}$ and $s_{j_1} + \\ldots + s_{j_k} = t$. For example, let $S = (2, 3, 5)$ and $t = 8.$ Then, the expected solution is the set of sequences $(2, 2, 2, 2)$, $(2, 3, 3)$, and $(3, 5).$"
   ]
  },
  {
   "cell_type": "markdown",
   "metadata": {},
   "source": [
    "**Solution.** Our solution iteratively constructs paths (sequences starting from single integers) from previous paths which are still open, i.e. those whose sum does not exceed or equal the target. This would make more sense by looking at the algorithm for the given example:"
   ]
  },
  {
   "cell_type": "markdown",
   "metadata": {},
   "source": [
    "```{margin}\n",
    "- `?` = open\n",
    "- `x` = exceeds target\n",
    "- `/` = equals target\n",
    "```\n",
    "```\n",
    "depth = 1\n",
    "5 ?\n",
    "3 ?\n",
    "2 ?\n",
    "\n",
    "depth = 2\n",
    "5 5 x\n",
    "5 3 /\n",
    "5 2 ?\n",
    "3 3 ?\n",
    "3 2 ?\n",
    "2 2 ?\n",
    "\n",
    "depth = 3\n",
    "5 2 2 x\n",
    "3 3 3 x\n",
    "3 3 2 x\n",
    "3 2 2 ?\n",
    "2 2 2 ?\n",
    "\n",
    "depth = 4\n",
    "3 2 2 2 x\n",
    "2 2 2 2 /\n",
    "```"
   ]
  },
  {
   "cell_type": "markdown",
   "metadata": {},
   "source": [
    "Note that each open path is appended by an integer less than or equal the last integer. This is important for constructing all unique sequences. The algorithm terminates when there are no more open paths. Below we also cache intermediate path values (i.e. its total sum) for faster evaluation (summing two numbers)."
   ]
  },
  {
   "cell_type": "code",
   "execution_count": 4,
   "metadata": {},
   "outputs": [
    {
     "data": {
      "text/plain": [
       "[[8], [5, 3], [3, 3, 2], [2, 2, 2, 2]]"
      ]
     },
     "execution_count": 4,
     "metadata": {},
     "output_type": "execute_result"
    }
   ],
   "source": [
    "def solve(S, t, reverse=True):\n",
    "    solution = [[t]] if t in S else []\n",
    "    S = list(filter(lambda s: s < t, sorted(S, reverse=reverse)))\n",
    "\n",
    "    paths = list(zip([(i,) for i in range(len(S))], S))\n",
    "\n",
    "    while len(paths) > 0:\n",
    "        tmp = []\n",
    "        for path in paths:\n",
    "            seq, val = path\n",
    "            i = seq[-1]\n",
    "            for j in range(i, len(S)):\n",
    "                seqj, valj = seq + (j,), val + S[j]\n",
    "                if valj == t:\n",
    "                    solution.append([S[k] for k in seqj])\n",
    "                if valj < t:\n",
    "                    tmp.append((seqj, valj))\n",
    "        paths = tmp\n",
    "\n",
    "    return solution\n",
    "\n",
    "\n",
    "solve(S=[2, 3, 5, 8], t=8)"
   ]
  },
  {
   "cell_type": "markdown",
   "metadata": {},
   "source": [
    "**Remark.** It is important to close out larger sequences first. This explains why we reversed `S`. This way we avoid creating long sequences which will exceed the target anyway. For example, we close out `5 2 2 x` early instead of wasting constructing `2 2 2 5 x` if we start with `2` instead of `5`."
   ]
  },
  {
   "cell_type": "code",
   "execution_count": 5,
   "metadata": {},
   "outputs": [
    {
     "name": "stdout",
     "output_type": "stream",
     "text": [
      "CPU times: user 266 µs, sys: 3 µs, total: 269 µs\n",
      "Wall time: 271 µs\n"
     ]
    }
   ],
   "source": [
    "%%time\n",
    "S = [24, 16, 30, 7, 5, 4, 9, 29, 8, 35, 3, 17]\n",
    "t = 29\n",
    "solve(S, t);"
   ]
  },
  {
   "cell_type": "code",
   "execution_count": 6,
   "metadata": {},
   "outputs": [
    {
     "name": "stdout",
     "output_type": "stream",
     "text": [
      "CPU times: user 429 µs, sys: 0 ns, total: 429 µs\n",
      "Wall time: 430 µs\n"
     ]
    }
   ],
   "source": [
    "%%time\n",
    "solve(S, t, reverse=False);"
   ]
  },
  {
   "cell_type": "markdown",
   "metadata": {},
   "source": [
    "<br>"
   ]
  },
  {
   "cell_type": "markdown",
   "metadata": {},
   "source": [
    "```{figure} ../../img/comp/combination-sum.png\n",
    "---\n",
    "width: 70%\n",
    "---\n",
    "```"
   ]
  },
  {
   "cell_type": "markdown",
   "metadata": {},
   "source": [
    "### Permutations"
   ]
  },
  {
   "cell_type": "markdown",
   "metadata": {},
   "source": [
    "**Problem.** [[Permutations](https://leetcode.com/problems/permutations/) (LC #46)]. Generate all permutations of a sequence of distinct integers $S.$ "
   ]
  },
  {
   "cell_type": "markdown",
   "metadata": {},
   "source": [
    "**Solution.** Our solution is construct sequences starting from singletons and appending these with integers that in $S$ that are not yet in the sequence. Each intermediate sequence $(s_1, \\ldots, s_k)$ where $k \\leq n = |S|$ is a node in the tree with root node $(s_1)$ for $s \\in S.$ Each node combines the output of its children $(s_1, \\ldots, s_k, s_j)$ where $s_j \\in S - \\{s_1, \\ldots, s_k\\}$, with the final leaves returning the node when $k = n.$ \n",
    "\n",
    "The algorithm is sketched below for a set of three elements `S = [0, 1, 2]`. This generates the tree with root node `[0]`. Note that all possible permutations starting with `0` is covered:\n",
    "\n",
    "```python\n",
    "branch([0]) = branch([0] + [1]) + branch([0] + [2])\n",
    "            = branch([0, 1]) + branch([0, 2])\n",
    "            = branch([0, 1] + [2]) + branch([0, 2] + [1])\n",
    "            = branch([0, 1, 2]) + branch([0, 2, 1])\n",
    "            = [[0, 1, 2]] + [[0, 2, 1]]\n",
    "            = [[0, 1, 2], [0, 2, 1]]\n",
    "```"
   ]
  },
  {
   "cell_type": "markdown",
   "metadata": {},
   "source": [
    "Final solution:"
   ]
  },
  {
   "cell_type": "code",
   "execution_count": 7,
   "metadata": {},
   "outputs": [
    {
     "data": {
      "text/plain": [
       "[[0, 1, 2], [0, 2, 1], [1, 0, 2], [1, 2, 0], [2, 0, 1], [2, 1, 0]]"
      ]
     },
     "execution_count": 7,
     "metadata": {},
     "output_type": "execute_result"
    }
   ],
   "source": [
    "def solve(S):\n",
    "    def branch(node):\n",
    "        if len(node) == len(S):\n",
    "            return [node]\n",
    "        return sum([branch(node + [j]) for j in set(S) - set(node)], [])\n",
    "        \n",
    "    return sum([branch([s]) for s in S], [])\n",
    "\n",
    "solve([0, 1, 2])"
   ]
  },
  {
   "cell_type": "markdown",
   "metadata": {},
   "source": [
    "<br>"
   ]
  },
  {
   "cell_type": "markdown",
   "metadata": {},
   "source": [
    "```{figure} ../../img/comp/permutation-perf.png\n",
    "---\n",
    "width: 80%\n",
    "---\n",
    "```"
   ]
  },
  {
   "cell_type": "markdown",
   "metadata": {},
   "source": [
    "### N-Queens"
   ]
  },
  {
   "cell_type": "markdown",
   "metadata": {},
   "source": [
    "**Problem.** [[N-Queens](https://leetcode.com/problems/n-queens/?envType=study-plan-v2&envId=top-100-liked) (LC #51)]. Let $1 \\leq n \\leq 9.$ Place $n$ queens on an $n \\times n$ chessboard such that no two queens attack each other. Return all distinct solutions."
   ]
  },
  {
   "cell_type": "markdown",
   "metadata": {},
   "source": [
    "**Solution.** First let us implement a class for the **board state**:"
   ]
  },
  {
   "cell_type": "code",
   "execution_count": 8,
   "metadata": {
    "tags": [
     "hide-cell"
    ]
   },
   "outputs": [],
   "source": [
    "from pprint import pprint\n",
    "\n",
    "class NQueens:\n",
    "    def __init__(self, n):\n",
    "        self.n = n\n",
    "        self.queens = set()\n",
    "        self.blocked = set()\n",
    "\n",
    "    def place_queen(self, i, j):\n",
    "        for _ in range(self.n):\n",
    "            self.blocked.add((i, _))\n",
    "            self.blocked.add((_, j))\n",
    "\n",
    "        x, y = i, j\n",
    "        while (x >= 0) and (y >= 0):\n",
    "            self.blocked.add((x, y))\n",
    "            x -= 1\n",
    "            y -= 1 \n",
    "\n",
    "        x, y = i, j\n",
    "        while (x >= 0) and (y < self.n):\n",
    "            self.blocked.add((x, y))\n",
    "            x -= 1\n",
    "            y += 1\n",
    "\n",
    "        x, y = i, j\n",
    "        while (x < self.n) and (y >= 0):\n",
    "            self.blocked.add((x, y))\n",
    "            x += 1\n",
    "            y -= 1\n",
    "\n",
    "        x, y = i, j\n",
    "        while (x < self.n) and (y < self.n):\n",
    "            self.blocked.add((x, y))\n",
    "            x += 1\n",
    "            y += 1\n",
    "\n",
    "        self.queens.add((i, j))\n",
    "\n",
    "    def viz_board(self):\n",
    "        board = [['□'] * self.n for _ in range(self.n)]\n",
    "        for i, j in self.blocked:\n",
    "            board[i][j] = '☒'\n",
    "\n",
    "        for i, j in self.queens:\n",
    "            board[i][j] = '♕'\n",
    "\n",
    "        for row in board:\n",
    "            print(''.join(row))\n",
    "        print()"
   ]
  },
  {
   "cell_type": "markdown",
   "metadata": {},
   "source": [
    "Failed solution since the third row is entirely blocked:"
   ]
  },
  {
   "cell_type": "code",
   "execution_count": 9,
   "metadata": {},
   "outputs": [
    {
     "name": "stdout",
     "output_type": "stream",
     "text": [
      "♕☒☒☒\n",
      "☒☒□□\n",
      "☒□☒□\n",
      "☒□□☒\n",
      "\n",
      "♕☒☒☒\n",
      "☒☒♕☒\n",
      "☒☒☒☒\n",
      "☒□☒☒\n",
      "\n"
     ]
    }
   ],
   "source": [
    "state = NQueens(n=4)\n",
    "\n",
    "state.place_queen(0, 0)\n",
    "state.viz_board()\n",
    "\n",
    "state.place_queen(1, 2)\n",
    "state.viz_board()"
   ]
  },
  {
   "cell_type": "markdown",
   "metadata": {},
   "source": [
    "Looking at the above process already gives us an idea of how to solve this. Note that all valid solutions has exactly one Queen on every row. This allows us to represent a valid solution as an array of length $n.$ In the code below this is `node`. Each Queen placement results in blocked squares in the next row. This limits the next possible placements. Each choice of next placement results in branching separate game states which we pass along recursively. If the next row is completely blocked, the `branch` function returns `[]`."
   ]
  },
  {
   "cell_type": "code",
   "execution_count": 10,
   "metadata": {},
   "outputs": [
    {
     "name": "stdout",
     "output_type": "stream",
     "text": [
      "[[1, 3, 0, 2], [2, 0, 3, 1]]\n"
     ]
    }
   ],
   "source": [
    "from copy import deepcopy\n",
    "\n",
    "def branch(node, state):\n",
    "    state = deepcopy(state)\n",
    "    k = len(node)\n",
    "    state.place_queen(k-1, node[-1])\n",
    "\n",
    "    if len(node) == state.n:\n",
    "        return [node]\n",
    "\n",
    "    out = []\n",
    "    for j in range(state.n):\n",
    "        if not (k, j) in state.blocked:\n",
    "            out.append(branch(node + [j], state))\n",
    "\n",
    "    return sum(out, [])\n",
    "\n",
    "\n",
    "def solve(n):\n",
    "    state = NQueens(n=n)\n",
    "    return sum([branch([i], state) for i in range(n)], [])\n",
    "\n",
    "\n",
    "solution = solve(n=4)\n",
    "print(solution)"
   ]
  },
  {
   "cell_type": "markdown",
   "metadata": {},
   "source": [
    "A solution can be visualized by following each Queen placement:"
   ]
  },
  {
   "cell_type": "code",
   "execution_count": 11,
   "metadata": {},
   "outputs": [
    {
     "name": "stdout",
     "output_type": "stream",
     "text": [
      "☒♕☒☒\n",
      "☒☒☒□\n",
      "□☒□☒\n",
      "□☒□□\n",
      "\n",
      "☒♕☒☒\n",
      "☒☒☒♕\n",
      "□☒☒☒\n",
      "□☒□☒\n",
      "\n",
      "☒♕☒☒\n",
      "☒☒☒♕\n",
      "♕☒☒☒\n",
      "☒☒□☒\n",
      "\n",
      "☒♕☒☒\n",
      "☒☒☒♕\n",
      "♕☒☒☒\n",
      "☒☒♕☒\n",
      "\n"
     ]
    }
   ],
   "source": [
    "state = NQueens(n=4)\n",
    "s = solution[0]\n",
    "for i, j in enumerate(s):\n",
    "    state.place_queen(i, j)\n",
    "    state.viz_board()"
   ]
  },
  {
   "cell_type": "markdown",
   "metadata": {},
   "source": [
    "```{figure} ../../img/comp/nqueens.png\n",
    "---\n",
    "width: 80%\n",
    "---\n",
    "Solution is relatively slow and memory inefficient. Probably the board state can be implemented with less bloat. Moreover, notice that solutions have symmetry (e.g. mirror). The tradeoff is that our code is highly readable.\n",
    "```"
   ]
  },
  {
   "cell_type": "markdown",
   "metadata": {},
   "source": [
    "### Word Search"
   ]
  },
  {
   "cell_type": "markdown",
   "metadata": {},
   "source": [
    "**Problem.** [[Word Search](https://leetcode.com/problems/word-search/?envType=study-plan-v2&envId=top-100-liked) (LC #79)]. Let $1 \\leq m, n \\leq 6.$ Given an $m \\times n$ of characters and a word $w.$ Determine if $w$ exists in the grid. Meaning $w$ can be constructed using horizontally or vertically adjacent cells. The same letter cell may not be used more than once."
   ]
  },
  {
   "cell_type": "markdown",
   "metadata": {},
   "source": [
    "**Solution.** Still using our favorite solution pattern: branching off at nodes given certain conditions. Here node is a list of coordinates. We start our nodes at the coordinates of the starting letter of the given word. Then we branch off at each neighboring node (vertical or horizontal adjacent cells) appending the coordinates to the node. \n",
    "\n",
    "If a neighboring cell is not the next letter, the branch is quickly terminated by returning `False`. Otherwise, it continues until the entire word is constructed. The result of branching is a list of Booleans which contains `True` if the word is found. Note that letters already in the node are ruled out (`indices - set(node)`) since we can't reuse cells."
   ]
  },
  {
   "cell_type": "code",
   "execution_count": 12,
   "metadata": {},
   "outputs": [
    {
     "data": {
      "text/plain": [
       "True"
      ]
     },
     "execution_count": 12,
     "metadata": {},
     "output_type": "execute_result"
    }
   ],
   "source": [
    "from functools import lru_cache\n",
    "\n",
    "def solve(board, word):\n",
    "    m = len(board)\n",
    "    n = len(board[0])\n",
    "\n",
    "    def validate(word):\n",
    "        w = Counter(word)\n",
    "        b = Counter(''.join(sum(board, [])))\n",
    "        return all(w[c] <= b[c] for c in w.keys())\n",
    "\n",
    "    def neighbors(node):\n",
    "        i, j = node[-1]\n",
    "        indices = set([\n",
    "            (min(i+1, m-1), j),\n",
    "            (max(i-1,   0), j),\n",
    "            (i, max(j-1,   0)),\n",
    "            (i, min(j+1, n-1)),\n",
    "        ])\n",
    "        return set([(x, y) for x, y in indices - set(node)])\n",
    "\n",
    "    def decode(node):\n",
    "        return ''.join([board[x][y] for x, y in node])\n",
    "\n",
    "    def branch(node):\n",
    "        if decode(node) == word:\n",
    "            return [True]\n",
    "\n",
    "        if decode(node) != word[:len(node)]:\n",
    "            return [False]\n",
    "        \n",
    "        return sum(\n",
    "            [branch(node + [(x, y)]) for x, y in neighbors(node) - set(node)], \n",
    "            [False]\n",
    "        )\n",
    "\n",
    "    if not validate(word):\n",
    "        return False\n",
    "\n",
    "    init_nodes = [(x, y) for x in range(m) for y in range(n) if board[x][y] == word[0]]\n",
    "    return any(sum([branch([(x, y)]) for x, y in init_nodes], []))\n",
    "\n",
    "\n",
    "board = [\n",
    "    ['A','B','C','E'],\n",
    "    ['S','F','C','S'],\n",
    "    ['A','D','E','E']\n",
    "]\n",
    "word = 'ABCCED'\n",
    "solve(board, word)"
   ]
  },
  {
   "cell_type": "markdown",
   "metadata": {},
   "source": [
    "<br>\n",
    "\n",
    "```{figure} ../../img/comp/word-search-perf.png\n",
    "---\n",
    "width: 80%\n",
    "---\n",
    "TLE unless we use `validate`.\n",
    "```"
   ]
  },
  {
   "cell_type": "markdown",
   "metadata": {},
   "source": [
    "### Palindrome Partitioning"
   ]
  },
  {
   "cell_type": "markdown",
   "metadata": {},
   "source": [
    "**Problem.** [[Palindrome Partitioning](https://leetcode.com/problems/palindrome-partitioning/) (LC #131)]. Let $s$ be a string such that $1 \\leq |s| \\leq 16.$ Generate all partitions of $s$ into substrings such that every \n",
    "element of the partition is a palindrome. For example, if `s = aab`, then the solution consists of `[a, a, b]` and `[aa, b]`."
   ]
  },
  {
   "cell_type": "markdown",
   "metadata": {},
   "source": [
    "**Solution.** Observe that the first partition can be obtained by sliding across the given string: `a`, `aa`, or `aab`. Taking only palindromes, we are left with `a` and `aa`. Then, we repeat this process for the leftover strings `ab` and `b`, respectively. Sliding left to right works since the elements of the partition consists of substrings. Note that this process always returns the partition containing every single character."
   ]
  },
  {
   "cell_type": "code",
   "execution_count": 13,
   "metadata": {},
   "outputs": [
    {
     "name": "stdout",
     "output_type": "stream",
     "text": [
      "[] aab\n",
      "['a'] ab\n",
      "['a', 'a'] b\n",
      "['a', 'a', 'b'] \n",
      "['aa'] b\n",
      "['aa', 'b'] \n"
     ]
    },
    {
     "data": {
      "text/plain": [
       "[['a', 'a', 'b'], ['aa', 'b']]"
      ]
     },
     "execution_count": 13,
     "metadata": {},
     "output_type": "execute_result"
    }
   ],
   "source": [
    "def is_palindrome(s: str):\n",
    "    return s == s[::-1]\n",
    "\n",
    "def solve(s, verbose=False):\n",
    "    def branch(node, s):\n",
    "        if verbose:\n",
    "            print(node, s)\n",
    "        if len(s) == 0:\n",
    "            return [node]\n",
    "        return sum(\n",
    "            [branch(node + [s[:i]], s[i:]) for i in range(1, len(s) + 1) if is_palindrome(s[:i])], \n",
    "            []\n",
    "        )\n",
    "    return branch([], s)\n",
    "\n",
    "\n",
    "solve(\"aab\", verbose=True)"
   ]
  },
  {
   "cell_type": "markdown",
   "metadata": {},
   "source": [
    "**Remark.** Entries of the `node` variable are always valid partitions. The node takes `s[:i]` and passes `s[i:]` as the next string for nonzero `i`, so the resulting partition always sums to the original `s`. Finally, since we scan over all possible next partition, we get all solutions and the constructed solutions are distinct."
   ]
  },
  {
   "cell_type": "markdown",
   "metadata": {},
   "source": [
    "<br>\n",
    "\n",
    "```{figure} ../../img/comp/palindrome-partitioning-perf.png\n",
    "---\n",
    "width: 80%\n",
    "---\n",
    "```"
   ]
  },
  {
   "cell_type": "markdown",
   "metadata": {},
   "source": [
    "## Binary Search"
   ]
  },
  {
   "cell_type": "markdown",
   "metadata": {},
   "source": []
  }
 ],
 "metadata": {
  "kernelspec": {
   "display_name": "ai",
   "language": "python",
   "name": "python3"
  },
  "language_info": {
   "codemirror_mode": {
    "name": "ipython",
    "version": 3
   },
   "file_extension": ".py",
   "mimetype": "text/x-python",
   "name": "python",
   "nbconvert_exporter": "python",
   "pygments_lexer": "ipython3",
   "version": "3.9.16"
  }
 },
 "nbformat": 4,
 "nbformat_minor": 2
}
