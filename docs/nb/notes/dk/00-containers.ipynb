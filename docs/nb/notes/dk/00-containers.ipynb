{
 "cells": [
  {
   "attachments": {},
   "cell_type": "markdown",
   "metadata": {},
   "source": [
    "(dk/00-containers)=\n",
    "# Docker Containers"
   ]
  },
  {
   "attachments": {},
   "cell_type": "markdown",
   "metadata": {},
   "source": [
    "![Status](https://img.shields.io/static/v1.svg?label=Status&message=Finished&color=brightgreen)\n",
    "[![Source](https://img.shields.io/static/v1.svg?label=GitHub&message=Source&color=181717&logo=GitHub)](https://github.com/particle1331/ok-transformer/blob/master/docs/nb/notes/dk/00-containers.ipynb)\n",
    "[![Stars](https://img.shields.io/github/stars/particle1331/ok-transformer?style=social)](https://github.com/particle1331/ok-transformer)\n",
    "\n",
    "---\n",
    "\n",
    "**References:** https://github.com/StephenGrider/DockerCasts\n",
    "\n",
    "## Introduction"
   ]
  },
  {
   "attachments": {},
   "cell_type": "markdown",
   "metadata": {},
   "source": [
    "Containerization solves the problem of running applications having multiple dependencies on the same machne, as well as having running applications consistently across different machines. This along with reproducibility is a central concern in deploying machine learning systems. This is done by means of **images** and **containers**. Images can be thought of as templates specifying installation steps which are built by the host machine to get actual running containers. Images can then be pushed onto a registry which other machines can pull from (e.g. during an update {numref}`docker-envs`). This ensures no configuration drift between the rebuilt containers. Finally, applications run inside isolated containers. [Docker](https://www.docker.com/) provides an entire ecosystem for efficiently working with containers."
   ]
  },
  {
   "attachments": {},
   "cell_type": "markdown",
   "metadata": {},
   "source": [
    "\n",
    "```{figure} diagrams/03-docker.png\n",
    "---\n",
    "width: 600px\n",
    "name: docker-envs\n",
    "---\n",
    "Updating a new dependency version and shipping it to other environments. Source: [KodeKloud](https://kodekloud.com/wp-content/uploads/2023/03/Kubernetes-Crash-Course-For-PDF-1.pdf)\n",
    "```"
   ]
  },
  {
   "attachments": {},
   "cell_type": "markdown",
   "metadata": {},
   "source": [
    "### OS Kernel"
   ]
  },
  {
   "attachments": {},
   "cell_type": "markdown",
   "metadata": {},
   "source": [
    "Docker sets up a Linux **virtual machine** (VM) inside the host computer. This can be seen below where the OS of the running Docker server is shown. Here we have [Docker Desktop](https://www.docker.com/products/docker-desktop/) running on the background on a macOS laptop."
   ]
  },
  {
   "cell_type": "code",
   "execution_count": 28,
   "metadata": {},
   "outputs": [
    {
     "name": "stdout",
     "output_type": "stream",
     "text": [
      "Client:\n",
      " Cloud integration: v1.0.31\n",
      " Version:           20.10.23\n",
      " API version:       1.41\n",
      " Go version:        go1.18.10\n",
      " Git commit:        7155243\n",
      " Built:             Thu Jan 19 17:35:19 2023\n",
      " OS/Arch:           darwin/arm64\n",
      " Context:           desktop-linux\n",
      " Experimental:      true\n",
      "\n",
      "Server: Docker Desktop 4.17.0 (99724)\n",
      " Engine:\n",
      "  Version:          20.10.23\n",
      "  API version:      1.41 (minimum version 1.12)\n",
      "  Go version:       go1.18.10\n",
      "  Git commit:       6051f14\n",
      "  Built:            Thu Jan 19 17:31:28 2023\n",
      "  OS/Arch:          linux/arm64\n",
      "  Experimental:     false\n",
      " containerd:\n",
      "  Version:          1.6.18\n",
      "  GitCommit:        2456e983eb9e37e47538f59ea18f2043c9a73640\n",
      " runc:\n",
      "  Version:          1.1.4\n",
      "  GitCommit:        v1.1.4-0-g5fd4c4d\n",
      " docker-init:\n",
      "  Version:          0.19.0\n",
      "  GitCommit:        de40ad0\n"
     ]
    }
   ],
   "source": [
    "!docker version"
   ]
  },
  {
   "cell_type": "markdown",
   "metadata": {},
   "source": [
    "Docker is able to isolate resources using **namespaces** and set usage and prioritization limits using **control groups** which are features of the **Linux kernel**. The kernel acts as an intermediate layer between running processes and hardware through system calls.  See this [blog post](https://www.nginx.com/blog/what-are-namespaces-cgroups-how-do-they-work/) for more details."
   ]
  },
  {
   "cell_type": "markdown",
   "metadata": {},
   "source": [
    "```{figure} diagrams/00-osarch.svg\n",
    "---\n",
    "width: 80%\n",
    "name: osarch\n",
    "---\n",
    "OS architecture.\n",
    "```"
   ]
  },
  {
   "attachments": {},
   "cell_type": "markdown",
   "metadata": {},
   "source": [
    "### Hello world"
   ]
  },
  {
   "attachments": {},
   "cell_type": "markdown",
   "metadata": {},
   "source": [
    "The following example demonstrates building and running a container:"
   ]
  },
  {
   "cell_type": "code",
   "execution_count": 29,
   "metadata": {},
   "outputs": [
    {
     "name": "stdout",
     "output_type": "stream",
     "text": [
      "Unable to find image 'hello-world:latest' locally\n",
      "latest: Pulling from library/hello-world\n",
      "\n",
      "\u001b[1BDigest: sha256:fc6cf906cbfa013e80938cdf0bb199fbdbb86d6e3e013783e5a766f50f5dbce0\n",
      "Status: Downloaded newer image for hello-world:latest\n",
      "\n",
      "Hello from Docker!\n",
      "This message shows that your installation appears to be working correctly.\n",
      "\n",
      "To generate this message, Docker took the following steps:\n",
      " 1. The Docker client contacted the Docker daemon.\n",
      " 2. The Docker daemon pulled the \"hello-world\" image from the Docker Hub.\n",
      "    (arm64v8)\n",
      " 3. The Docker daemon created a new container from that image which runs the\n",
      "    executable that produces the output you are currently reading.\n",
      " 4. The Docker daemon streamed that output to the Docker client, which sent it\n",
      "    to your terminal.\n",
      "\n",
      "To try something more ambitious, you can run an Ubuntu container with:\n",
      " $ docker run -it ubuntu bash\n",
      "\n",
      "Share images, automate workflows, and more with a free Docker ID:\n",
      " https://hub.docker.com/\n",
      "\n",
      "For more examples and ideas, visit:\n",
      " https://docs.docker.com/get-started/\n",
      "\n"
     ]
    }
   ],
   "source": [
    "!docker run hello-world"
   ]
  },
  {
   "attachments": {},
   "cell_type": "markdown",
   "metadata": {},
   "source": [
    "The above message tells the entire process of how the `hello-world` container eventually is able to run on our machine. The image was pulled on [Docker Hub](https://hub.docker.com/) which is a registry of Docker images. Note that the creation of images occurs locally since the local machine is also our compute layer. \n",
    "\n",
    "The container proceeds to run its default command which is to execute the `/hello` program which prints the message on the terminal. The `hello-world` image produces a minimal container whose sole purpose is to print this message."
   ]
  },
  {
   "attachments": {},
   "cell_type": "markdown",
   "metadata": {},
   "source": [
    "```{figure} diagrams/00-dockerhub.svg\n",
    "---\n",
    "name: dockerhub\n",
    "---\n",
    "Running `hello-world` on our local machine. \n",
    "```"
   ]
  },
  {
   "attachments": {},
   "cell_type": "markdown",
   "metadata": {},
   "source": [
    "It would be significantly faster to run this image a second time since Docker uses a **cache** of it. This makes sense since multiple containers are usually created from the same image. The architecture of an image and a container is shown on the following diagram."
   ]
  },
  {
   "attachments": {},
   "cell_type": "markdown",
   "metadata": {},
   "source": [
    "```{figure} diagrams/00-helloworld.svg\n",
    "---\n",
    "name: helloworld\n",
    "---\n",
    "Anatomy of a Docker image and the resulting `hello-world` container in the context of the Linux kernel. Note the specific partition on the hard disk for the filesystem of the image.  \n",
    "```"
   ]
  },
  {
   "attachments": {},
   "cell_type": "markdown",
   "metadata": {},
   "source": [
    "Here we see that an **image** is essentially a filesystem snapshot with startup commands. This can be thought of as a read-only template which provides the daemon a set of instructions for creating a container. A **container** on the other hand is a running process in the machine in the Linux VM with partitioned hardware resources allocated by the kernel."
   ]
  },
  {
   "attachments": {},
   "cell_type": "markdown",
   "metadata": {},
   "source": [
    "### Container isolation"
   ]
  },
  {
   "attachments": {},
   "cell_type": "markdown",
   "metadata": {},
   "source": [
    "As mentioned, containers have **isolated filesystems** by default. This means we can blow up a container and just create a fresh healthy container from the same image. This also ensures that our running processes will not affect the host computer which can be running other important processes."
   ]
  },
  {
   "attachments": {},
   "cell_type": "markdown",
   "metadata": {},
   "source": [
    "```bash\n",
    "$ docker run -it ubuntu\n",
    "root@0d8680f49620:/# ls\n",
    "bin   dev  home  media  opt   root  sbin  sys  usr\n",
    "boot  etc  lib   mnt    proc  run   srv   tmp  var\n",
    "root@0d8680f49620:/# rm -rf bin/ls\n",
    "root@0d8680f49620:/# ls\n",
    "bash: /usr/bin/ls: No such file or directory\n",
    "```"
   ]
  },
  {
   "attachments": {},
   "cell_type": "markdown",
   "metadata": {},
   "source": [
    "Creating a fresh container that can run `ls`. Note that the container ID is different:"
   ]
  },
  {
   "attachments": {},
   "cell_type": "markdown",
   "metadata": {},
   "source": [
    "```bash\n",
    "$ docker run -it ubuntu\n",
    "root@b1230895737b:/# ls\n",
    "bin   dev  home  media  opt   root  sbin  sys  usr\n",
    "boot  etc  lib   mnt    proc  run   srv   tmp  var\n",
    "root@b1230895737b:/#\n",
    "```"
   ]
  },
  {
   "attachments": {},
   "cell_type": "markdown",
   "metadata": {},
   "source": [
    "## Docker Client"
   ]
  },
  {
   "attachments": {},
   "cell_type": "markdown",
   "metadata": {},
   "source": [
    "In this section, we look at commands available in the Docker client for working with containers. We will use the `ubuntu` image which is an order of magnitude more complex than `hello-world`. This runs `bash` by default then exits, so it looks like nothing happened after the image is pulled from Docker Hub:"
   ]
  },
  {
   "cell_type": "code",
   "execution_count": 3,
   "metadata": {},
   "outputs": [
    {
     "name": "stdout",
     "output_type": "stream",
     "text": [
      "Unable to find image 'ubuntu:latest' locally\n",
      "latest: Pulling from library/ubuntu\n",
      "\n",
      "\u001b[1BDigest: sha256:9a0bdde4188b896a372804be2384015e90e3f84906b750c1a53539b585fbbe7f[1A\u001b[2K\u001b[1A\u001b[2K\u001b[1A\u001b[2K\u001b[1A\u001b[2K\u001b[1A\u001b[2K\u001b[1A\u001b[2K\u001b[1A\u001b[2K\u001b[1A\u001b[2K\u001b[1A\u001b[2K\u001b[1A\u001b[2K\u001b[1A\u001b[2K\u001b[1A\u001b[2K\u001b[1A\u001b[2K\u001b[1A\u001b[2K\u001b[1A\u001b[2K\u001b[1A\u001b[2K\u001b[1A\u001b[2K\u001b[1A\u001b[2K\u001b[1A\u001b[2K\u001b[1A\u001b[2K\u001b[1A\u001b[2K\u001b[1A\u001b[2K\u001b[1A\u001b[2K\u001b[1A\u001b[2K\u001b[1A\u001b[2K\u001b[1A\u001b[2K\u001b[1A\u001b[2K\u001b[1A\u001b[2K\u001b[1A\u001b[2K\u001b[1A\u001b[2K\u001b[1A\u001b[2K\u001b[1A\u001b[2K\u001b[1A\u001b[2K\u001b[1A\u001b[2K\u001b[1A\u001b[2K\u001b[1A\u001b[2K\u001b[1A\u001b[2K\u001b[1A\u001b[2K\u001b[1A\u001b[2K\u001b[1A\u001b[2K\u001b[1A\u001b[2K\u001b[1A\u001b[2K\u001b[1A\u001b[2K\u001b[1A\u001b[2K\u001b[1A\u001b[2K\u001b[1A\u001b[2K\u001b[1A\u001b[2K\u001b[1A\u001b[2K\u001b[1A\u001b[2K\u001b[1A\u001b[2K\u001b[1A\u001b[2K\u001b[1A\u001b[2K\u001b[1A\u001b[2K\u001b[1A\u001b[2K\n",
      "Status: Downloaded newer image for ubuntu:latest\n"
     ]
    }
   ],
   "source": [
    "!docker run ubuntu"
   ]
  },
  {
   "attachments": {},
   "cell_type": "markdown",
   "metadata": {},
   "source": [
    "```{figure} diagrams/00-lifecycle.png\n",
    "---\n",
    "name: lifecycle\n",
    "---\n",
    "Complete Docker container lifecycle. [[source](https://docker-saigon.github.io/post/Docker-Internals/)]\n",
    "\n",
    "```"
   ]
  },
  {
   "attachments": {},
   "cell_type": "markdown",
   "metadata": {},
   "source": [
    "### Startup command"
   ]
  },
  {
   "attachments": {},
   "cell_type": "markdown",
   "metadata": {},
   "source": [
    "Instead, we can override the default command using some other command such as `ls`. Note that this command works because `ls` is a program that exists in the `ubuntu` image. The familiar program `echo` also exists."
   ]
  },
  {
   "cell_type": "code",
   "execution_count": 4,
   "metadata": {},
   "outputs": [
    {
     "name": "stdout",
     "output_type": "stream",
     "text": [
      "bin   dev  home  media\topt   root  sbin  sys  usr\n",
      "boot  etc  lib\t mnt\tproc  run   srv   tmp  var\n"
     ]
    }
   ],
   "source": [
    "!docker run ubuntu ls -C"
   ]
  },
  {
   "cell_type": "code",
   "execution_count": 5,
   "metadata": {},
   "outputs": [
    {
     "name": "stdout",
     "output_type": "stream",
     "text": [
      "hello, world!\n"
     ]
    }
   ],
   "source": [
    "!docker run ubuntu echo 'hello, world!'"
   ]
  },
  {
   "attachments": {},
   "cell_type": "markdown",
   "metadata": {},
   "source": [
    "```{figure} diagrams/00-ubuntu.svg\n",
    "---\n",
    "width: 80%\n",
    "name: ubuntu\n",
    "---\n",
    "Overriding the default command of `ubuntu`. Running `ls` instead of `bash`. \n",
    "```"
   ]
  },
  {
   "attachments": {},
   "cell_type": "markdown",
   "metadata": {},
   "source": [
    "To list all running containers we can use the following command. This will be very useful for determining the ID of a running container when we want to issue commands on specific containers."
   ]
  },
  {
   "cell_type": "code",
   "execution_count": 6,
   "metadata": {},
   "outputs": [
    {
     "name": "stdout",
     "output_type": "stream",
     "text": [
      "CONTAINER ID   IMAGE     COMMAND   CREATED   STATUS    PORTS     NAMES\n"
     ]
    }
   ],
   "source": [
    "!docker ps"
   ]
  },
  {
   "attachments": {},
   "cell_type": "markdown",
   "metadata": {},
   "source": [
    "All our previous containers immediately exit after running so that there is no running container, to see all containers we use the `--all` flag. Note that we have multiple containers (distinct IDs) for the same `ubuntu` image when we called run twice. This is discussed further below. Also, the [exit status](https://docs.docker.com/engine/reference/run/#exit-status) are all zero which means no errors were encountered:"
   ]
  },
  {
   "cell_type": "code",
   "execution_count": 7,
   "metadata": {},
   "outputs": [
    {
     "name": "stdout",
     "output_type": "stream",
     "text": [
      "CONTAINER ID   IMAGE         COMMAND                  CREATED          STATUS                              PORTS     NAMES\n",
      "455b29036415   ubuntu        \"echo 'hello, world!'\"   1 second ago     Exited (0) Less than a second ago             musing_torvalds\n",
      "55154e481da2   ubuntu        \"ls -C\"                  1 second ago     Exited (0) Less than a second ago             trusting_germain\n",
      "58ba2877d113   ubuntu        \"/bin/bash\"              2 seconds ago    Exited (0) 1 second ago                       cranky_merkle\n",
      "b6103fa1567e   hello-world   \"/hello\"                 16 seconds ago   Exited (0) 15 seconds ago                     hopeful_cerf\n"
     ]
    }
   ],
   "source": [
    "!docker ps --all"
   ]
  },
  {
   "attachments": {},
   "cell_type": "markdown",
   "metadata": {},
   "source": [
    "### Start and create"
   ]
  },
  {
   "attachments": {},
   "cell_type": "markdown",
   "metadata": {},
   "source": [
    "We saw that running the same image twice resulted in two distinct containers. Docker run is actually identical to two separate processes: **create** and **start**. Creating an image sets up its filesystem while starting executes its default startup command. It follows that to start a container we have to point to a specific container ID:"
   ]
  },
  {
   "cell_type": "code",
   "execution_count": 10,
   "metadata": {},
   "outputs": [
    {
     "name": "stdout",
     "output_type": "stream",
     "text": [
      "hello, world!\n"
     ]
    }
   ],
   "source": [
    "!docker start -a 455b29036415"
   ]
  },
  {
   "attachments": {},
   "cell_type": "markdown",
   "metadata": {},
   "source": [
    "The `-a` flag is to attach the container to the terminal so we can view its output. Alternatively, we can use `docker logs <id>` to see all the logs from the container. We can see that the restarted container exited more recently:"
   ]
  },
  {
   "cell_type": "code",
   "execution_count": 11,
   "metadata": {},
   "outputs": [
    {
     "name": "stdout",
     "output_type": "stream",
     "text": [
      "CONTAINER ID   IMAGE         COMMAND                  CREATED              STATUS                          PORTS     NAMES\n",
      "455b29036415   ubuntu        \"echo 'hello, world!'\"   55 seconds ago       Exited (0) 1 second ago                   musing_torvalds\n",
      "55154e481da2   ubuntu        \"ls -C\"                  55 seconds ago       Exited (0) 54 seconds ago                 trusting_germain\n",
      "58ba2877d113   ubuntu        \"/bin/bash\"              56 seconds ago       Exited (0) 55 seconds ago                 cranky_merkle\n",
      "b6103fa1567e   hello-world   \"/hello\"                 About a minute ago   Exited (0) About a minute ago             hopeful_cerf\n"
     ]
    }
   ],
   "source": [
    "!docker ps --all"
   ]
  },
  {
   "attachments": {},
   "cell_type": "markdown",
   "metadata": {},
   "source": [
    "Note that the startup command of a container can only be overridden at container creation. Hence, we cannot assign a new startup command when starting a container. Below we create an `ubuntu` container. This allocates resources but does not yet execute the startup command:"
   ]
  },
  {
   "cell_type": "code",
   "execution_count": 12,
   "metadata": {},
   "outputs": [
    {
     "name": "stdout",
     "output_type": "stream",
     "text": [
      "23bc0fa3195160671f7104bc3a5c5ca91a9f32f1865a270306c88eedb437c688\n"
     ]
    }
   ],
   "source": [
    "!docker create ubuntu echo 'hi, there'"
   ]
  },
  {
   "cell_type": "code",
   "execution_count": 13,
   "metadata": {},
   "outputs": [
    {
     "name": "stdout",
     "output_type": "stream",
     "text": [
      "CONTAINER ID   IMAGE         COMMAND                  CREATED              STATUS                          PORTS     NAMES\n",
      "23bc0fa31951   ubuntu        \"echo 'hi, there'\"       6 seconds ago        Created                                   clever_margulis\n",
      "455b29036415   ubuntu        \"echo 'hello, world!'\"   About a minute ago   Exited (0) 18 seconds ago                 musing_torvalds\n",
      "55154e481da2   ubuntu        \"ls -C\"                  About a minute ago   Exited (0) About a minute ago             trusting_germain\n",
      "58ba2877d113   ubuntu        \"/bin/bash\"              About a minute ago   Exited (0) About a minute ago             cranky_merkle\n",
      "b6103fa1567e   hello-world   \"/hello\"                 About a minute ago   Exited (0) About a minute ago             hopeful_cerf\n"
     ]
    }
   ],
   "source": [
    "!docker ps --all"
   ]
  },
  {
   "attachments": {},
   "cell_type": "markdown",
   "metadata": {},
   "source": [
    "### Stop"
   ]
  },
  {
   "attachments": {},
   "cell_type": "markdown",
   "metadata": {},
   "source": [
    "Let us create a container that runs for a long time (e.g. forever). Here we use `busybox` which combines tiny versions of many common UNIX utilities into a single small executable. Running `busybox` on our machine only used about 4 MB compared to 60+ MB for the `ubuntu` image. Also, the `ping` command does not exist on `ubuntu`. "
   ]
  },
  {
   "cell_type": "code",
   "execution_count": 15,
   "metadata": {},
   "outputs": [
    {
     "name": "stdout",
     "output_type": "stream",
     "text": [
      "Unable to find image 'busybox:latest' locally\n",
      "latest: Pulling from library/busybox\n",
      "\n",
      "\u001b[1BDigest: sha256:7b3ccabffc97de872a30dfd234fd972a66d247c8cfc69b0550f276481852627c[1A\u001b[2K\u001b[1A\u001b[2K\u001b[1A\u001b[2K\u001b[1A\u001b[2K\u001b[1A\u001b[2K\n",
      "Status: Downloaded newer image for busybox:latest\n",
      "c8ed44e2c4e82464b2a49a597f85546d5eb10476b563aa7c9c88edd48c79a8fe\n"
     ]
    }
   ],
   "source": [
    "!docker create busybox ping google.com"
   ]
  },
  {
   "cell_type": "code",
   "execution_count": 16,
   "metadata": {},
   "outputs": [
    {
     "name": "stdout",
     "output_type": "stream",
     "text": [
      "c8ed44e2c4e8\n"
     ]
    }
   ],
   "source": [
    "!docker start c8ed44e2c4e8"
   ]
  },
  {
   "attachments": {},
   "cell_type": "markdown",
   "metadata": {},
   "source": [
    "Notice the up status:"
   ]
  },
  {
   "cell_type": "code",
   "execution_count": 17,
   "metadata": {},
   "outputs": [
    {
     "name": "stdout",
     "output_type": "stream",
     "text": [
      "CONTAINER ID   IMAGE     COMMAND             CREATED          STATUS         PORTS     NAMES\n",
      "c8ed44e2c4e8   busybox   \"ping google.com\"   12 seconds ago   Up 4 seconds             friendly_wilson\n"
     ]
    }
   ],
   "source": [
    "!docker ps"
   ]
  },
  {
   "attachments": {},
   "cell_type": "markdown",
   "metadata": {},
   "source": [
    "To stop containers we can use either `stop` or `kill`. The `stop` command sends a SIGTERM to the running process. This gives 10 seconds for cleanup, then a fallback SIGKILL is sent to immediately terminate the process:"
   ]
  },
  {
   "cell_type": "code",
   "execution_count": 18,
   "metadata": {},
   "outputs": [
    {
     "name": "stdout",
     "output_type": "stream",
     "text": [
      "c8ed44e2c4e82\n"
     ]
    }
   ],
   "source": [
    "!docker stop c8ed44e2c4e82"
   ]
  },
  {
   "attachments": {},
   "cell_type": "markdown",
   "metadata": {},
   "source": [
    "For some reason this gets nonzero exit status:"
   ]
  },
  {
   "cell_type": "code",
   "execution_count": 19,
   "metadata": {},
   "outputs": [
    {
     "name": "stdout",
     "output_type": "stream",
     "text": [
      "CONTAINER ID   IMAGE     COMMAND             CREATED          STATUS                                PORTS     NAMES\n",
      "c8ed44e2c4e8   busybox   \"ping google.com\"   31 seconds ago   Exited (137) Less than a second ago             friendly_wilson\n"
     ]
    }
   ],
   "source": [
    "!docker ps --all --filter id=c8ed44e2c4e82"
   ]
  },
  {
   "attachments": {},
   "cell_type": "markdown",
   "metadata": {},
   "source": [
    "### Interacting with containers"
   ]
  },
  {
   "attachments": {},
   "cell_type": "markdown",
   "metadata": {},
   "source": [
    "In this section, we will use services from the `redis` image. [Redis](https://redis.io/) is an in-memory data store that is useful as a database and cache engine. Like `ubuntu` this container has multiple programs installed. In particular, there are two main commands that are interesting for us `redis-server` and `redis-cli`. Here we run `redis` on the background using the detach flag `-d`:"
   ]
  },
  {
   "cell_type": "code",
   "execution_count": 20,
   "metadata": {},
   "outputs": [
    {
     "name": "stdout",
     "output_type": "stream",
     "text": [
      "Unable to find image 'redis:latest' locally\n",
      "latest: Pulling from library/redis\n",
      "\n",
      "\u001b[1Badb3a4ab: Pulling fs layer \n",
      "\u001b[1Bd00da4bd: Pulling fs layer \n",
      "\u001b[1B1d284940: Pulling fs layer \n",
      "\u001b[1B7ed7779d: Pulling fs layer \n",
      "\u001b[1B9c3f82f2: Pulling fs layer \n",
      "\u001b[1BDigest: sha256:6a59f1cbb8d28ac484176d52c473494859a512ddba3ea62a547258cf16c9b3ae[4A\u001b[2K\u001b[4A\u001b[2K\u001b[4A\u001b[2K\u001b[6A\u001b[2K\u001b[4A\u001b[2K\u001b[6A\u001b[2K\u001b[3A\u001b[2K\u001b[6A\u001b[2K\u001b[3A\u001b[2K\u001b[3A\u001b[2K\u001b[3A\u001b[2K\u001b[6A\u001b[2K\u001b[3A\u001b[2K\u001b[6A\u001b[2K\u001b[3A\u001b[2K\u001b[3A\u001b[2K\u001b[2A\u001b[2KDownload complete \u001b[3A\u001b[2K\u001b[3A\u001b[2K\u001b[6A\u001b[2K\u001b[3A\u001b[2K\u001b[3A\u001b[2K\u001b[3A\u001b[2K\u001b[6A\u001b[2K\u001b[3A\u001b[2K\u001b[3A\u001b[2K\u001b[6A\u001b[2K\u001b[6A\u001b[2K\u001b[3A\u001b[2K\u001b[6A\u001b[2K\u001b[3A\u001b[2K\u001b[3A\u001b[2K\u001b[3A\u001b[2K\u001b[6A\u001b[2K\u001b[3A\u001b[2K\u001b[6A\u001b[2K\u001b[3A\u001b[2K\u001b[6A\u001b[2K\u001b[3A\u001b[2K\u001b[6A\u001b[2K\u001b[3A\u001b[2K\u001b[3A\u001b[2K\u001b[6A\u001b[2K\u001b[3A\u001b[2K\u001b[3A\u001b[2K\u001b[6A\u001b[2K\u001b[3A\u001b[2K\u001b[6A\u001b[2K\u001b[3A\u001b[2K\u001b[3A\u001b[2K\u001b[6A\u001b[2K\u001b[3A\u001b[2K\u001b[6A\u001b[2K\u001b[3A\u001b[2K\u001b[3A\u001b[2K\u001b[6A\u001b[2K\u001b[3A\u001b[2K\u001b[3A\u001b[2K\u001b[6A\u001b[2K\u001b[3A\u001b[2K\u001b[6A\u001b[2K\u001b[3A\u001b[2K\u001b[6A\u001b[2K\u001b[3A\u001b[2K\u001b[6A\u001b[2K\u001b[6A\u001b[2K\u001b[6A\u001b[2K\u001b[6A\u001b[2K\u001b[6A\u001b[2K\u001b[6A\u001b[2K\u001b[6A\u001b[2K\u001b[6A\u001b[2K\u001b[6A\u001b[2K\u001b[6A\u001b[2K\u001b[6A\u001b[2K\u001b[6A\u001b[2K\u001b[6A\u001b[2K\u001b[6A\u001b[2K\u001b[6A\u001b[2K\u001b[6A\u001b[2K\u001b[6A\u001b[2K\u001b[6A\u001b[2K\u001b[6A\u001b[2K\u001b[6A\u001b[2K\u001b[6A\u001b[2K\u001b[6A\u001b[2K\u001b[6A\u001b[2K\u001b[6A\u001b[2K\u001b[6A\u001b[2K\u001b[6A\u001b[2K\u001b[6A\u001b[2K\u001b[6A\u001b[2K\u001b[6A\u001b[2K\u001b[6A\u001b[2K\u001b[6A\u001b[2K\u001b[6A\u001b[2K\u001b[6A\u001b[2K\u001b[6A\u001b[2K\u001b[6A\u001b[2K\u001b[6A\u001b[2K\u001b[6A\u001b[2K\u001b[6A\u001b[2K\u001b[5A\u001b[2K\u001b[4A\u001b[2K\u001b[4A\u001b[2K\u001b[3A\u001b[2K\u001b[3A\u001b[2K\u001b[1A\u001b[2K\n",
      "Status: Downloaded newer image for redis:latest\n",
      "9ae89bda2c27f809d4e1f95862a56c90ea9b2fed315b58e78e251d1d9833f2af\n"
     ]
    }
   ],
   "source": [
    "!docker run -d redis"
   ]
  },
  {
   "attachments": {},
   "cell_type": "markdown",
   "metadata": {},
   "source": [
    "From the logs, we see that the redis server is running:"
   ]
  },
  {
   "cell_type": "code",
   "execution_count": 21,
   "metadata": {},
   "outputs": [
    {
     "name": "stdout",
     "output_type": "stream",
     "text": [
      "1:C 27 Feb 2023 19:52:11.028 # oO0OoO0OoO0Oo Redis is starting oO0OoO0OoO0Oo\n",
      "1:C 27 Feb 2023 19:52:11.028 # Redis version=7.0.8, bits=64, commit=00000000, modified=0, pid=1, just started\n",
      "1:C 27 Feb 2023 19:52:11.028 # Warning: no config file specified, using the default config. In order to specify a config file use redis-server /path/to/redis.conf\n",
      "1:M 27 Feb 2023 19:52:11.029 * monotonic clock: POSIX clock_gettime\n",
      "1:M 27 Feb 2023 19:52:11.029 * Running mode=standalone, port=6379.\n",
      "1:M 27 Feb 2023 19:52:11.029 # Server initialized\n",
      "1:M 27 Feb 2023 19:52:11.031 * Ready to accept connections\n"
     ]
    }
   ],
   "source": [
    "!docker logs 9ae89bda2c27f"
   ]
  },
  {
   "attachments": {},
   "cell_type": "markdown",
   "metadata": {},
   "source": [
    "Since the server is isolated inside the container, we need to start the client inside the container to access it. This can be done using `exec` with the `-it` interactive flag since we want to maintain control over the client using our terminal."
   ]
  },
  {
   "cell_type": "code",
   "execution_count": 23,
   "metadata": {},
   "outputs": [
    {
     "name": "stdout",
     "output_type": "stream",
     "text": [
      "127.0.0.1:6379> \n"
     ]
    }
   ],
   "source": [
    "!docker exec -it 9ae89bda2c27f redis-cli"
   ]
  },
  {
   "attachments": {},
   "cell_type": "markdown",
   "metadata": {},
   "source": [
    "```{figure} diagrams/00-interactive.svg\n",
    "---\n",
    "width: 80%\n",
    "name: exec\n",
    "---\n",
    "Executing a command from our terminal to a running process inside the container. Each running Linux process in a container has STDIN, STDOUT, and STDERR channels. These channels connect with the terminal during interactive mode.\n",
    "```"
   ]
  },
  {
   "attachments": {},
   "cell_type": "markdown",
   "metadata": {},
   "source": [
    "**Remark.** Note that we can also `docker run` with an `-it` flag, e.g. with `bash` or `sh` to access the shell. Although this means that the default startup command will not run. This can be useful for exploring the default filesystem without the startup command running."
   ]
  },
  {
   "attachments": {},
   "cell_type": "markdown",
   "metadata": {},
   "source": [
    "## Docker Build"
   ]
  },
  {
   "attachments": {},
   "cell_type": "markdown",
   "metadata": {},
   "source": [
    "Throughout the above examples we have been using public images from Docker Hub. \n",
    "In this section, we create our own images for running our own containers. Our custom images can be pushed to container\n",
    "repositories, such as Docker Hub or [ECR](https://aws.amazon.com/ecr/), which our servers can pull \n",
    "to run our containers remotely. This is done using a **Dockerfile** which acts as a configuration file."
   ]
  },
  {
   "attachments": {},
   "cell_type": "markdown",
   "metadata": {},
   "source": [
    "```{figure} diagrams/00-images.svg\n",
    "---\n",
    "width: 80%\n",
    "name: images\n",
    "---\n",
    "Existing images from Docker Hub that we used for examples.\n",
    "```"
   ]
  },
  {
   "attachments": {},
   "cell_type": "markdown",
   "metadata": {},
   "source": [
    "### Dockerfile"
   ]
  },
  {
   "attachments": {},
   "cell_type": "markdown",
   "metadata": {},
   "source": [
    "Dockerfiles start with specifying a **base image**. This makes sense for the level of abstraction that we are working in. To demonstrate this, we create a Dockerfile for a minimal container that runs the `redis-server`:"
   ]
  },
  {
   "cell_type": "code",
   "execution_count": 30,
   "metadata": {},
   "outputs": [
    {
     "name": "stdout",
     "output_type": "stream",
     "text": [
      "\u001b[01;34mredis-image\u001b[0m\n",
      "└── \u001b[00mDockerfile\u001b[0m\n",
      "\n",
      "0 directories, 1 file\n"
     ]
    }
   ],
   "source": [
    "!tree redis-image"
   ]
  },
  {
   "attachments": {},
   "cell_type": "markdown",
   "metadata": {},
   "source": [
    "```{figure} diagrams/00-dockerfile.svg\n",
    "---\n",
    "name: dockerfile\n",
    "---\n",
    "Dockerfiles have three main step groups for the build process.\n",
    "```"
   ]
  },
  {
   "attachments": {},
   "cell_type": "markdown",
   "metadata": {},
   "source": [
    "We use [`alpine`](https://hub.docker.com/_/alpine) as base image which is based on [Alpine Linux](https://www.alpinelinux.org/). For our purposes, we choose this as a minimal image (only 5 MB!) that come with a sufficiently useful preinstalled set of programs."
   ]
  },
  {
   "cell_type": "code",
   "execution_count": 31,
   "metadata": {},
   "outputs": [
    {
     "name": "stdout",
     "output_type": "stream",
     "text": [
      "FROM alpine\n",
      "\n",
      "RUN apk add --update redis\n",
      "\n",
      "CMD [\"redis-server\"]\n"
     ]
    }
   ],
   "source": [
    "!cat redis-image/Dockerfile"
   ]
  },
  {
   "attachments": {},
   "cell_type": "markdown",
   "metadata": {},
   "source": [
    "### Build process"
   ]
  },
  {
   "attachments": {},
   "cell_type": "markdown",
   "metadata": {},
   "source": [
    "Docker [build](https://docs.docker.com/engine/reference/commandline/build) simulates actual sequential installation steps by following the commands in the Dockerfile starting from the base image specified in `FROM`. Docker builds the image using a **layered** architecture. Each line creates a new layer in the image with just the changes from the previous layer. This makes the build process cache-efficient."
   ]
  },
  {
   "cell_type": "code",
   "execution_count": 14,
   "metadata": {
    "tags": [
     "hide-output"
    ]
   },
   "outputs": [
    {
     "name": "stdout",
     "output_type": "stream",
     "text": [
      "\u001b[1A\u001b[1B\u001b[0G\u001b[?25l[+] Building 0.0s (0/1)                                                         \n",
      "\u001b[?25h\u001b[1A\u001b[0G\u001b[?25l[+] Building 0.1s (2/3)                                                         \n",
      "\u001b[34m => [internal] load build definition from Dockerfile                       0.0s\n",
      "\u001b[0m\u001b[34m => => transferring dockerfile: 36B                                        0.0s\n",
      "\u001b[0m\u001b[34m => [internal] load .dockerignore                                          0.0s\n",
      "\u001b[0m\u001b[34m => => transferring context: 2B                                            0.0s\n",
      "\u001b[0m => [internal] load metadata for docker.io/library/alpine:latest           0.0s\n",
      "\u001b[?25h\u001b[1A\u001b[1A\u001b[1A\u001b[1A\u001b[1A\u001b[1A\u001b[0G\u001b[?25l[+] Building 0.3s (2/3)                                                         \n",
      "\u001b[34m => [internal] load build definition from Dockerfile                       0.0s\n",
      "\u001b[0m\u001b[34m => => transferring dockerfile: 36B                                        0.0s\n",
      "\u001b[0m\u001b[34m => [internal] load .dockerignore                                          0.0s\n",
      "\u001b[0m\u001b[34m => => transferring context: 2B                                            0.0s\n",
      "\u001b[0m => [internal] load metadata for docker.io/library/alpine:latest           0.1s\n",
      "\u001b[?25h\u001b[1A\u001b[1A\u001b[1A\u001b[1A\u001b[1A\u001b[1A\u001b[0G\u001b[?25l[+] Building 0.4s (2/3)                                                         \n",
      "\u001b[34m => [internal] load build definition from Dockerfile                       0.0s\n",
      "\u001b[0m\u001b[34m => => transferring dockerfile: 36B                                        0.0s\n",
      "\u001b[0m\u001b[34m => [internal] load .dockerignore                                          0.0s\n",
      "\u001b[0m\u001b[34m => => transferring context: 2B                                            0.0s\n",
      "\u001b[0m => [internal] load metadata for docker.io/library/alpine:latest           0.3s\n",
      "\u001b[?25h\u001b[1A\u001b[1A\u001b[1A\u001b[1A\u001b[1A\u001b[1A\u001b[0G\u001b[?25l[+] Building 0.6s (2/3)                                                         \n",
      "\u001b[34m => [internal] load build definition from Dockerfile                       0.0s\n",
      "\u001b[0m\u001b[34m => => transferring dockerfile: 36B                                        0.0s\n",
      "\u001b[0m\u001b[34m => [internal] load .dockerignore                                          0.0s\n",
      "\u001b[0m\u001b[34m => => transferring context: 2B                                            0.0s\n",
      "\u001b[0m => [internal] load metadata for docker.io/library/alpine:latest           0.4s\n",
      "\u001b[?25h\u001b[1A\u001b[1A\u001b[1A\u001b[1A\u001b[1A\u001b[1A\u001b[0G\u001b[?25l[+] Building 0.7s (2/3)                                                         \n",
      "\u001b[34m => [internal] load build definition from Dockerfile                       0.0s\n",
      "\u001b[0m\u001b[34m => => transferring dockerfile: 36B                                        0.0s\n",
      "\u001b[0m\u001b[34m => [internal] load .dockerignore                                          0.0s\n",
      "\u001b[0m\u001b[34m => => transferring context: 2B                                            0.0s\n",
      "\u001b[0m => [internal] load metadata for docker.io/library/alpine:latest           0.6s\n",
      "\u001b[?25h\u001b[1A\u001b[1A\u001b[1A\u001b[1A\u001b[1A\u001b[1A\u001b[0G\u001b[?25l[+] Building 0.9s (2/3)                                                         \n",
      "\u001b[34m => [internal] load build definition from Dockerfile                       0.0s\n",
      "\u001b[0m\u001b[34m => => transferring dockerfile: 36B                                        0.0s\n",
      "\u001b[0m\u001b[34m => [internal] load .dockerignore                                          0.0s\n",
      "\u001b[0m\u001b[34m => => transferring context: 2B                                            0.0s\n",
      "\u001b[0m => [internal] load metadata for docker.io/library/alpine:latest           0.8s\n",
      "\u001b[?25h\u001b[1A\u001b[1A\u001b[1A\u001b[1A\u001b[1A\u001b[1A\u001b[0G\u001b[?25l[+] Building 1.0s (2/3)                                                         \n",
      "\u001b[34m => [internal] load build definition from Dockerfile                       0.0s\n",
      "\u001b[0m\u001b[34m => => transferring dockerfile: 36B                                        0.0s\n",
      "\u001b[0m\u001b[34m => [internal] load .dockerignore                                          0.0s\n",
      "\u001b[0m\u001b[34m => => transferring context: 2B                                            0.0s\n",
      "\u001b[0m => [internal] load metadata for docker.io/library/alpine:latest           0.9s\n",
      "\u001b[?25h\u001b[1A\u001b[1A\u001b[1A\u001b[1A\u001b[1A\u001b[1A\u001b[0G\u001b[?25l[+] Building 1.2s (2/3)                                                         \n",
      "\u001b[34m => [internal] load build definition from Dockerfile                       0.0s\n",
      "\u001b[0m\u001b[34m => => transferring dockerfile: 36B                                        0.0s\n",
      "\u001b[0m\u001b[34m => [internal] load .dockerignore                                          0.0s\n",
      "\u001b[0m\u001b[34m => => transferring context: 2B                                            0.0s\n",
      "\u001b[0m => [internal] load metadata for docker.io/library/alpine:latest           1.1s\n",
      "\u001b[?25h\u001b[1A\u001b[1A\u001b[1A\u001b[1A\u001b[1A\u001b[1A\u001b[0G\u001b[?25l[+] Building 1.3s (2/3)                                                         \n",
      "\u001b[34m => [internal] load build definition from Dockerfile                       0.0s\n",
      "\u001b[0m\u001b[34m => => transferring dockerfile: 36B                                        0.0s\n",
      "\u001b[0m\u001b[34m => [internal] load .dockerignore                                          0.0s\n",
      "\u001b[0m\u001b[34m => => transferring context: 2B                                            0.0s\n",
      "\u001b[0m => [internal] load metadata for docker.io/library/alpine:latest           1.2s\n",
      "\u001b[?25h\u001b[1A\u001b[1A\u001b[1A\u001b[1A\u001b[1A\u001b[1A\u001b[0G\u001b[?25l[+] Building 1.4s (3/3)                                                         \n",
      "\u001b[34m => [internal] load build definition from Dockerfile                       0.0s\n",
      "\u001b[0m\u001b[34m => => transferring dockerfile: 36B                                        0.0s\n",
      "\u001b[0m\u001b[34m => [internal] load .dockerignore                                          0.0s\n",
      "\u001b[0m\u001b[34m => => transferring context: 2B                                            0.0s\n",
      "\u001b[0m\u001b[34m => [internal] load metadata for docker.io/library/alpine:latest           1.3s\n",
      "\u001b[0m\u001b[?25h\u001b[1A\u001b[1A\u001b[1A\u001b[1A\u001b[1A\u001b[1A\u001b[0G\u001b[?25l[+] Building 1.5s (6/6) FINISHED                                                \n",
      "\u001b[34m => [internal] load build definition from Dockerfile                       0.0s\n",
      "\u001b[0m\u001b[34m => => transferring dockerfile: 36B                                        0.0s\n",
      "\u001b[0m\u001b[34m => [internal] load .dockerignore                                          0.0s\n",
      "\u001b[0m\u001b[34m => => transferring context: 2B                                            0.0s\n",
      "\u001b[0m\u001b[34m => [internal] load metadata for docker.io/library/alpine:latest           1.3s\n",
      "\u001b[0m\u001b[34m => [1/2] FROM docker.io/library/alpine@sha256:02bb6f428431fbc2809c5d1b41  0.0s\n",
      "\u001b[0m\u001b[34m => CACHED [2/2] RUN apk add --update redis                                0.0s\n",
      "\u001b[0m\u001b[34m => exporting to image                                                     0.0s\n",
      "\u001b[0m\u001b[34m => => exporting layers                                                    0.0s\n",
      "\u001b[0m\u001b[34m => => writing image sha256:c0a93b037d131840abcf7fbdc61021848495af3eb5aa9  0.0s\n",
      "\u001b[0m\u001b[34m => => naming to docker.io/okt/redis                                       0.0s\n",
      "\u001b[0m\u001b[?25h"
     ]
    }
   ],
   "source": [
    "!docker build redis-image -t okt/redis"
   ]
  },
  {
   "attachments": {},
   "cell_type": "markdown",
   "metadata": {},
   "source": [
    "The built layers can be viewed as follows:"
   ]
  },
  {
   "cell_type": "code",
   "execution_count": 15,
   "metadata": {},
   "outputs": [
    {
     "name": "stdout",
     "output_type": "stream",
     "text": [
      "IMAGE          CREATED         CREATED BY                                      SIZE      COMMENT\n",
      "c0a93b037d13   8 minutes ago   CMD [\"redis-server\"]                            0B        buildkit.dockerfile.v0\n",
      "<missing>      8 minutes ago   RUN /bin/sh -c apk add --update redis # buil…   5.28MB    buildkit.dockerfile.v0\n",
      "<missing>      2 weeks ago     /bin/sh -c #(nop)  CMD [\"/bin/sh\"]              0B        \n",
      "<missing>      2 weeks ago     /bin/sh -c #(nop) ADD file:df7fccc3453b6ec14…   7.73MB    \n"
     ]
    }
   ],
   "source": [
    "!docker history okt/redis"
   ]
  },
  {
   "attachments": {},
   "cell_type": "markdown",
   "metadata": {},
   "source": [
    "Note that the size of the layers add up. To see built images:"
   ]
  },
  {
   "cell_type": "code",
   "execution_count": 16,
   "metadata": {},
   "outputs": [
    {
     "name": "stdout",
     "output_type": "stream",
     "text": [
      "REPOSITORY   TAG       IMAGE ID       CREATED          SIZE\n",
      "okt/redis    latest    c0a93b037d13   10 minutes ago   13MB\n"
     ]
    }
   ],
   "source": [
    "!docker image ls"
   ]
  },
  {
   "attachments": {},
   "cell_type": "markdown",
   "metadata": {},
   "source": [
    "(00-containers-cache-busting)=\n",
    "### Cache busting"
   ]
  },
  {
   "attachments": {},
   "cell_type": "markdown",
   "metadata": {},
   "source": [
    "During the build process, each [layer](https://docs.docker.com/glossary/#layer) of an image is **cached**. Any change in a layer results in this and subsequent layers to be rebuilt. This means the ordering of layers in a Dockerfile is important, and we want to put expensive steps earlier in the build process when possible to take advantage of caching. For example, the following Dockerfile is not efficient:"
   ]
  },
  {
   "attachments": {},
   "cell_type": "markdown",
   "metadata": {},
   "source": [
    "```Dockerfile\n",
    "FROM python:3.9.15-slim\n",
    "\n",
    "COPY main.py requirements.txt ./\n",
    "RUN pip install -r requirements.txt\n",
    "\n",
    "CMD [\"python\", \"main.py\"]\n",
    "```"
   ]
  },
  {
   "attachments": {},
   "cell_type": "markdown",
   "metadata": {},
   "source": [
    "Updating the `main.py` script here results in reinstalling all packages. Instead, the expensive install layer at the start of the build process, so that only the copy layer and is rebuilt when we refactor."
   ]
  },
  {
   "attachments": {},
   "cell_type": "markdown",
   "metadata": {},
   "source": [
    "```Dockerfile\n",
    "FROM python:3.9.15-slim\n",
    "\n",
    "COPY requirements.txt ./\n",
    "RUN pip install -r requirements.txt\n",
    "\n",
    "COPY main.py ./\n",
    "CMD [\"python\", \"main.py\"]\n",
    "```"
   ]
  },
  {
   "attachments": {},
   "cell_type": "markdown",
   "metadata": {},
   "source": [
    "<br>"
   ]
  },
  {
   "attachments": {},
   "cell_type": "markdown",
   "metadata": {},
   "source": [
    "```{figure} diagrams/00-cache-busting.svg\n",
    "---\n",
    "name: cache\n",
    "---\n",
    "Busting an expensive cached layer (left). Cache optimized version (right).\n",
    "```"
   ]
  },
  {
   "attachments": {},
   "cell_type": "markdown",
   "metadata": {},
   "source": [
    "Note that cached layers [3/4] after modifying `main.py`:"
   ]
  },
  {
   "attachments": {},
   "cell_type": "markdown",
   "metadata": {},
   "source": [
    "```\n",
    "$ docker build . -t cache-busting\n",
    "[+] Building 1.4s (9/9) FINISHED\n",
    " => [internal] load build definition from Dockerfile          0.0s\n",
    " => => transferring dockerfile: 36B                           0.0s\n",
    " => [internal] load .dockerignore                             0.0s\n",
    " => => transferring context: 2B                               0.0s\n",
    " => [internal] load metadata for docker.io/library/python:3.  1.2s\n",
    " => [1/4] FROM docker.io/library/python:3.9.15-slim@sha256:f  0.0s\n",
    " => [internal] load build context                             0.0s\n",
    " => => transferring context: 97B                              0.0s\n",
    " => CACHED [2/4] COPY requirements.txt ./                     0.0s\n",
    " => CACHED [3/4] RUN pip install -r requirements.txt          0.0s\n",
    " => [4/4] COPY main.py ./                                     0.0s\n",
    " => exporting to image                                        0.0s\n",
    " => => exporting layers                                       0.0s\n",
    " => => writing image sha256:b813245428c1122921fab76c7b13bfff  0.0s\n",
    " => => naming to docker.io/library/cache-busting              0.0s\n",
    "```"
   ]
  },
  {
   "attachments": {},
   "cell_type": "markdown",
   "metadata": {},
   "source": [
    "**Remark.** See this article for [best practices](https://testdriven.io/blog/docker-best-practices/) with writing Dockerfiles (e.g. `ENTRYPOINT` vs `CMD`)."
   ]
  },
  {
   "attachments": {},
   "cell_type": "markdown",
   "metadata": {},
   "source": [
    "## Appendix: Vulnerabilities"
   ]
  },
  {
   "attachments": {},
   "cell_type": "markdown",
   "metadata": {},
   "source": [
    "The `okt/redis` image that we created runs a minimal container that runs the redis server. This is smaller and hence more secure than the [official redis image](https://hub.docker.com/_/redis). Indeed, we can check this by using the image vulnerabilities feature of the Desktop UI:"
   ]
  },
  {
   "attachments": {},
   "cell_type": "markdown",
   "metadata": {},
   "source": [
    "```{figure} diagrams/00-redisimages.png\n",
    "---\n",
    "name: redisimages\n",
    "---\n",
    "```"
   ]
  },
  {
   "cell_type": "markdown",
   "metadata": {},
   "source": [
    "The official redis image is based on `debian`:"
   ]
  },
  {
   "attachments": {},
   "cell_type": "markdown",
   "metadata": {},
   "source": [
    "```{figure} diagrams/00-offredisvul.png\n",
    "---\n",
    "name: offredisvul\n",
    "---\n",
    "```"
   ]
  },
  {
   "cell_type": "markdown",
   "metadata": {},
   "source": [
    "The version based on `alpine` is significantly smaller and more secure:"
   ]
  },
  {
   "attachments": {},
   "cell_type": "markdown",
   "metadata": {},
   "source": [
    "```{figure} diagrams/00-offredisalpinevul.png\n",
    "---\n",
    "name: offredisalpinevul\n",
    "---\n",
    "```"
   ]
  },
  {
   "attachments": {},
   "cell_type": "markdown",
   "metadata": {},
   "source": []
  }
 ],
 "metadata": {
  "kernelspec": {
   "display_name": "ai",
   "language": "python",
   "name": "python3"
  },
  "language_info": {
   "codemirror_mode": {
    "name": "ipython",
    "version": 3
   },
   "file_extension": ".py",
   "mimetype": "text/x-python",
   "name": "python",
   "nbconvert_exporter": "python",
   "pygments_lexer": "ipython3",
   "version": "3.9.15"
  },
  "orig_nbformat": 4,
  "vscode": {
   "interpreter": {
    "hash": "0bf457f4026a6353447ea08cc5de431bf2d4a57657f54daac3cf4f903fa850ba"
   }
  }
 },
 "nbformat": 4,
 "nbformat_minor": 2
}
