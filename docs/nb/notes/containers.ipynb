{
 "cells": [
  {
   "cell_type": "markdown",
   "metadata": {},
   "source": [
    "(containers)=\n",
    "# Docker Containers"
   ]
  },
  {
   "cell_type": "markdown",
   "metadata": {},
   "source": [
    "![Status](https://img.shields.io/static/v1.svg?label=Status&message=Finished&color=brightgreen)\n",
    "[![Source](https://img.shields.io/static/v1.svg?label=GitHub&message=Source&color=181717&logo=GitHub)](https://github.com/particle1331/ok-transformer/blob/master/docs/nb/notes/containers.ipynb)\n",
    "[![Stars](https://img.shields.io/github/stars/particle1331/ok-transformer?style=social)](https://github.com/particle1331/ok-transformer)\n",
    "\n",
    "---\n",
    "\n",
    "**Readings.** [[Docker Guide]](https://docs.docker.com/language/python/)\n",
    "\n",
    "## Introduction"
   ]
  },
  {
   "cell_type": "markdown",
   "metadata": {},
   "source": [
    "Containerization solves the problem of running applications having multiple dependencies on the same machine, as well as having running applications consistently across different machines. A container runs in its isolated environments. Moreover, containers can be easily pulled by other machines allowing for easy installation, testing, and collaboration. We will use [Docker 🐳](https://www.docker.com/) which provides an ecosystem for efficiently working with containers. "
   ]
  },
  {
   "cell_type": "markdown",
   "metadata": {},
   "source": [
    "### Hello world"
   ]
  },
  {
   "cell_type": "markdown",
   "metadata": {},
   "source": [
    "The following example demonstrates building and running a container:"
   ]
  },
  {
   "cell_type": "code",
   "execution_count": 1,
   "metadata": {},
   "outputs": [
    {
     "name": "stdout",
     "output_type": "stream",
     "text": [
      "Unable to find image 'hello-world:latest' locally\n"
     ]
    },
    {
     "name": "stdout",
     "output_type": "stream",
     "text": [
      "latest: Pulling from library/hello-world\n",
      "\n",
      "\u001b[1BDigest: sha256:ac69084025c660510933cca701f615283cdbb3aa0963188770b54c31c8962493\n",
      "Status: Downloaded newer image for hello-world:latest\n",
      "\n",
      "Hello from Docker!\n",
      "This message shows that your installation appears to be working correctly.\n",
      "\n",
      "To generate this message, Docker took the following steps:\n",
      " 1. The Docker client contacted the Docker daemon.\n",
      " 2. The Docker daemon pulled the \"hello-world\" image from the Docker Hub.\n",
      "    (arm64v8)\n",
      " 3. The Docker daemon created a new container from that image which runs the\n",
      "    executable that produces the output you are currently reading.\n",
      " 4. The Docker daemon streamed that output to the Docker client, which sent it\n",
      "    to your terminal.\n",
      "\n",
      "To try something more ambitious, you can run an Ubuntu container with:\n",
      " $ docker run -it ubuntu bash\n",
      "\n",
      "Share images, automate workflows, and more with a free Docker ID:\n",
      " https://hub.docker.com/\n",
      "\n",
      "For more examples and ideas, visit:\n",
      " https://docs.docker.com/get-started/\n",
      "\n"
     ]
    }
   ],
   "source": [
    "!docker run hello-world"
   ]
  },
  {
   "cell_type": "markdown",
   "metadata": {},
   "source": [
    "The above message tells the entire process of how the `hello-world` container eventually is able to run on our machine. The image was pulled on [Docker Hub](https://hub.docker.com/) which is a registry of Docker images. Note that the creation of images occurs locally since the local machine is also our compute layer. \n",
    "\n",
    "The container proceeds to run its default command, i.e. execute the `/hello` program that prints the message on the terminal. The `hello-world` image produces a minimal container whose sole purpose is to print this message."
   ]
  },
  {
   "cell_type": "markdown",
   "metadata": {},
   "source": [
    "```{figure} containers/img/00-helloworld.svg\n",
    "---\n",
    "name: helloworld\n",
    "width: 600px\n",
    "---\n",
    "Anatomy of a Docker image and the resulting `hello-world` container in the context of the Linux kernel. Note the specific partition on the hard disk for the filesystem of the image.  \n",
    "```"
   ]
  },
  {
   "cell_type": "markdown",
   "metadata": {},
   "source": [
    "An **image** is essentially a filesystem snapshot with startup commands. This can be thought of as a read-only template which provides the daemon a set of instructions for creating a container. A **container** on the other hand is a running process in the Linux VM with partitioned hardware resources allocated by the kernel."
   ]
  },
  {
   "cell_type": "markdown",
   "metadata": {},
   "source": [
    "**Remark.** It would be significantly faster to run the `hello-world` container a second time since Docker uses a **cache** to build it. This makes sense since multiple containers are usually created from the same image."
   ]
  },
  {
   "cell_type": "markdown",
   "metadata": {},
   "source": [
    "### Interactive mode"
   ]
  },
  {
   "cell_type": "markdown",
   "metadata": {},
   "source": [
    "As mentioned, containers have **isolated filesystems** by default. This means we can blow up a container and just create a fresh healthy container from the same image. This also ensures that our running processes will not affect the host computer which can be running other important processes. Running an [ubuntu](https://hub.docker.com/_/ubuntu) container in **detached** (`-d`) and **interactive mode** (`-it`): "
   ]
  },
  {
   "cell_type": "code",
   "execution_count": 2,
   "metadata": {},
   "outputs": [
    {
     "name": "stdout",
     "output_type": "stream",
     "text": [
      "Unable to find image 'ubuntu:latest' locally\n"
     ]
    },
    {
     "name": "stdout",
     "output_type": "stream",
     "text": [
      "latest: Pulling from library/ubuntu\n",
      "\n",
      "\u001b[1B2837585d: Pull complete .36MB/27.36MBB\u001b[1A\u001b[2K\u001b[1A\u001b[2K\u001b[1A\u001b[2K\u001b[1A\u001b[2K\u001b[1A\u001b[2K\u001b[1A\u001b[2K\u001b[1A\u001b[2K\u001b[1A\u001b[2K\u001b[1A\u001b[2K\u001b[1A\u001b[2K\u001b[1A\u001b[2K\u001b[1A\u001b[2K\u001b[1A\u001b[2K\u001b[1A\u001b[2K\u001b[1A\u001b[2K\u001b[1A\u001b[2K\u001b[1A\u001b[2K\u001b[1A\u001b[2K\u001b[1A\u001b[2K\u001b[1A\u001b[2K\u001b[1A\u001b[2K\u001b[1A\u001b[2K\u001b[1A\u001b[2K\u001b[1A\u001b[2K\u001b[1A\u001b[2K\u001b[1A\u001b[2K\u001b[1A\u001b[2K\u001b[1A\u001b[2K\u001b[1A\u001b[2K\u001b[1A\u001b[2K\u001b[1A\u001b[2K\u001b[1A\u001b[2K\u001b[1A\u001b[2K\u001b[1A\u001b[2K\u001b[1A\u001b[2K\u001b[1A\u001b[2K\u001b[1A\u001b[2K\u001b[1A\u001b[2K\u001b[1A\u001b[2K\u001b[1A\u001b[2K\u001b[1A\u001b[2K\u001b[1A\u001b[2KDigest: sha256:6042500cf4b44023ea1894effe7890666b0c5c7871ed83a97c36c76ae560bb9b\n",
      "Status: Downloaded newer image for ubuntu:latest\n",
      "f13b3ac5ea6f8f7aff60dc5081ccc3e14ea709b741600cab52e95f6d8854f355\n"
     ]
    }
   ],
   "source": [
    "!docker run -d -it --name ubuntu0 ubuntu"
   ]
  },
  {
   "cell_type": "markdown",
   "metadata": {},
   "source": [
    "This allows us to use the CLI inside the container using `docker exec`:"
   ]
  },
  {
   "cell_type": "code",
   "execution_count": 3,
   "metadata": {},
   "outputs": [
    {
     "name": "stdout",
     "output_type": "stream",
     "text": [
      "bin   dev  home  media\topt   root  sbin  sys  usr\n",
      "boot  etc  lib\t mnt\tproc  run   srv   tmp  var\n",
      "OCI runtime exec failed: exec failed: unable to start container process: exec: \"ls\": executable file not found in $PATH: unknown\n"
     ]
    }
   ],
   "source": [
    "!docker exec ubuntu0 ls -C\n",
    "!docker exec ubuntu0 rm -rf bin/ls\n",
    "!docker exec ubuntu0 ls -C\n",
    "!docker stop ubuntu0 > /dev/null"
   ]
  },
  {
   "cell_type": "markdown",
   "metadata": {},
   "source": [
    "Creating a fresh container that can run `ls`. Note that the container ID is different:"
   ]
  },
  {
   "cell_type": "code",
   "execution_count": 4,
   "metadata": {},
   "outputs": [
    {
     "name": "stdout",
     "output_type": "stream",
     "text": [
      "599dfa12c9ed0562c13ada95204314214d2eda8921d926665674fa32c393363e\n",
      "bin   dev  home  media\topt   root  sbin  sys  usr\n",
      "boot  etc  lib\t mnt\tproc  run   srv   tmp  var\n"
     ]
    }
   ],
   "source": [
    "!docker run -d -it --name ubuntu1 ubuntu\n",
    "!docker exec ubuntu1 ls -C\n",
    "!docker stop ubuntu1 > /dev/null"
   ]
  },
  {
   "cell_type": "markdown",
   "metadata": {},
   "source": [
    "### Other commands"
   ]
  },
  {
   "cell_type": "markdown",
   "metadata": {},
   "source": [
    "Listing all containers and images:"
   ]
  },
  {
   "cell_type": "code",
   "execution_count": 5,
   "metadata": {},
   "outputs": [
    {
     "name": "stdout",
     "output_type": "stream",
     "text": [
      "CONTAINER ID   IMAGE         COMMAND       CREATED          STATUS                                PORTS     NAMES\n",
      "599dfa12c9ed   ubuntu        \"/bin/bash\"   11 seconds ago   Exited (137) Less than a second ago             ubuntu1\n",
      "f13b3ac5ea6f   ubuntu        \"/bin/bash\"   23 seconds ago   Exited (137) 11 seconds ago                     ubuntu0\n",
      "3ec84a52b2ce   hello-world   \"/hello\"      39 seconds ago   Exited (0) 38 seconds ago                       goofy_swartz\n"
     ]
    }
   ],
   "source": [
    "!docker ps --all"
   ]
  },
  {
   "cell_type": "code",
   "execution_count": 6,
   "metadata": {},
   "outputs": [
    {
     "name": "stdout",
     "output_type": "stream",
     "text": [
      "REPOSITORY    TAG       IMAGE ID       CREATED        SIZE\n",
      "ubuntu        latest    da935f064913   2 weeks ago    69.3MB\n",
      "hello-world   latest    ee301c921b8a   7 months ago   9.14kB\n"
     ]
    }
   ],
   "source": [
    "!docker image ls"
   ]
  },
  {
   "cell_type": "markdown",
   "metadata": {},
   "source": [
    "**Remark.** The `hello-world` container immediately exited after running with exit status zero since no errors were encountered. The other containers continue running since they are run in interactive mode. \n",
    "\n",
    "To stop containers, we can use either `stop` or `kill`. The `stop` command sends a SIGTERM to the running process. This gives 10 seconds for cleanup, then a fallback SIGKILL is sent to immediately terminate the process. See {numref}`lifecycle` and [restart policies](https://docs.docker.com/engine/reference/run/#restart-policies---restart) docs."
   ]
  },
  {
   "cell_type": "markdown",
   "metadata": {},
   "source": [
    "```{figure} containers/img/00-lifecycle.png\n",
    "---\n",
    "name: lifecycle\n",
    "---\n",
    "Complete Docker container lifecycle. [[source](https://docker-saigon.github.io/post/Docker-Internals/)]\n",
    "\n",
    "```"
   ]
  },
  {
   "cell_type": "markdown",
   "metadata": {},
   "source": [
    "## Docker build"
   ]
  },
  {
   "cell_type": "markdown",
   "metadata": {},
   "source": [
    "Throughout the above examples we have been using public images from Docker Hub. \n",
    "In this section, we create our own images for running our own containers. Our custom images can be pushed to container\n",
    "repositories, such as Docker Hub or [ECR](https://aws.amazon.com/ecr/), which our servers can pull \n",
    "to run our containers remotely. To do this, Docker requires us to create a `Dockerfile` which specifies the container build process."
   ]
  },
  {
   "cell_type": "code",
   "execution_count": 7,
   "metadata": {},
   "outputs": [
    {
     "name": "stdout",
     "output_type": "stream",
     "text": [
      "\u001b[01;34m./containers/simple-fastapi\u001b[0m\n",
      "├── \u001b[00mDockerfile\u001b[0m\n",
      "├── \u001b[00mrequirements.txt\u001b[0m\n",
      "└── \u001b[01;34msrc\u001b[0m\n",
      "    └── \u001b[00mmain.py\u001b[0m\n",
      "\n",
      "2 directories, 3 files\n"
     ]
    }
   ],
   "source": [
    "!tree ./containers/simple-fastapi -I __pycache__"
   ]
  },
  {
   "cell_type": "markdown",
   "metadata": {},
   "source": [
    "The web app simply prints a message when the root URI is called:"
   ]
  },
  {
   "cell_type": "code",
   "execution_count": 8,
   "metadata": {},
   "outputs": [
    {
     "name": "stdout",
     "output_type": "stream",
     "text": [
      "\u001b[34mfrom\u001b[39;49;00m \u001b[04m\u001b[36mfastapi\u001b[39;49;00m \u001b[34mimport\u001b[39;49;00m FastAPI\u001b[37m\u001b[39;49;00m\n",
      "\u001b[37m\u001b[39;49;00m\n",
      "app = FastAPI()\u001b[37m\u001b[39;49;00m\n",
      "\u001b[37m\u001b[39;49;00m\n",
      "\u001b[90m@app\u001b[39;49;00m.get(\u001b[33m\"\u001b[39;49;00m\u001b[33m/\u001b[39;49;00m\u001b[33m\"\u001b[39;49;00m)\u001b[37m\u001b[39;49;00m\n",
      "\u001b[34mdef\u001b[39;49;00m \u001b[32mroot\u001b[39;49;00m():\u001b[37m\u001b[39;49;00m\n",
      "    \u001b[34mreturn\u001b[39;49;00m {\u001b[33m\"\u001b[39;49;00m\u001b[33mmessage\u001b[39;49;00m\u001b[33m\"\u001b[39;49;00m: \u001b[33m\"\u001b[39;49;00m\u001b[33mHello world!\u001b[39;49;00m\u001b[33m\"\u001b[39;49;00m}\u001b[37m\u001b[39;49;00m\n"
     ]
    }
   ],
   "source": [
    "!pygmentize ./containers/simple-fastapi/src/main.py"
   ]
  },
  {
   "cell_type": "markdown",
   "metadata": {},
   "source": [
    "### Dockerfile"
   ]
  },
  {
   "cell_type": "markdown",
   "metadata": {},
   "source": [
    "The following `Dockerfile` uses `python:3.10-slim` as **base image**. This `slim` image is a smaller version of a container running Python 3.10, but still larger than `alpine`. The next lines serve to modify the base image. First, it specifies `/code` as the **working directory**. This is where all subsequent build commands will be executed. \n",
    "\n",
    "The copy command copies files in the build folder to a path relative to the working directory. Next, we call `pip` with certain flags so that it does not cache the installs, making the container more minimal. The final line `CMD` specifies the command executed when running the container. See also [`ENTRYPOINT`](https://spacelift.io/blog/docker-entrypoint-vs-cmd)."
   ]
  },
  {
   "cell_type": "code",
   "execution_count": 9,
   "metadata": {},
   "outputs": [
    {
     "name": "stdout",
     "output_type": "stream",
     "text": [
      "\u001b[34mFROM\u001b[39;49;00m\u001b[37m \u001b[39;49;00m\u001b[33mpython:3.10-slim\u001b[39;49;00m\u001b[37m\u001b[39;49;00m\n",
      "\u001b[37m\u001b[39;49;00m\n",
      "\u001b[34mWORKDIR\u001b[39;49;00m\u001b[37m \u001b[39;49;00m\u001b[33m/code\u001b[39;49;00m\u001b[37m\u001b[39;49;00m\n",
      "\u001b[37m\u001b[39;49;00m\n",
      "\u001b[34mCOPY\u001b[39;49;00m\u001b[37m \u001b[39;49;00m./requirements.txt\u001b[37m \u001b[39;49;00m./\u001b[37m\u001b[39;49;00m\n",
      "\u001b[34mRUN\u001b[39;49;00m\u001b[37m \u001b[39;49;00mpip\u001b[37m \u001b[39;49;00minstall\u001b[37m \u001b[39;49;00m--no-cache-dir\u001b[37m \u001b[39;49;00m--upgrade\u001b[37m \u001b[39;49;00m-r\u001b[37m \u001b[39;49;00mrequirements.txt\u001b[37m\u001b[39;49;00m\n",
      "\u001b[37m\u001b[39;49;00m\n",
      "\u001b[34mCOPY\u001b[39;49;00m\u001b[37m \u001b[39;49;00m./src\u001b[37m \u001b[39;49;00m./src\u001b[37m\u001b[39;49;00m\n",
      "\u001b[37m\u001b[39;49;00m\n",
      "\u001b[34mCMD\u001b[39;49;00m\u001b[37m \u001b[39;49;00m[\u001b[33m\"uvicorn\"\u001b[39;49;00m,\u001b[37m \u001b[39;49;00m\u001b[33m\"src.main:app\"\u001b[39;49;00m,\u001b[37m \u001b[39;49;00m\u001b[33m\"--host\"\u001b[39;49;00m,\u001b[37m \u001b[39;49;00m\u001b[33m\"0.0.0.0\"\u001b[39;49;00m,\u001b[37m \u001b[39;49;00m\u001b[33m\"--port\"\u001b[39;49;00m,\u001b[37m \u001b[39;49;00m\u001b[33m\"80\"\u001b[39;49;00m,\u001b[37m \u001b[39;49;00m\u001b[33m\"--reload\"\u001b[39;49;00m]\u001b[37m\u001b[39;49;00m\n"
     ]
    }
   ],
   "source": [
    "!pygmentize ./containers/simple-fastapi/Dockerfile"
   ]
  },
  {
   "cell_type": "markdown",
   "metadata": {},
   "source": [
    "Building the image, we also add a **path** (this defaults to the `latest` [tag](https://docs.docker.com/engine/reference/commandline/tag/)):"
   ]
  },
  {
   "cell_type": "code",
   "execution_count": 10,
   "metadata": {
    "tags": [
     "hide-output"
    ]
   },
   "outputs": [
    {
     "name": "stdout",
     "output_type": "stream",
     "text": [
      "\u001b[1A\u001b[1B\u001b[0G\u001b[?25l[+] Building 0.0s (0/1)                                                         \n",
      "\u001b[?25h\u001b[1A\u001b[0G\u001b[?25l[+] Building 0.1s (2/3)                                                         \n",
      "\u001b[34m => [internal] load build definition from Dockerfile                       0.0s\n",
      "\u001b[0m\u001b[34m => => transferring dockerfile: 37B                                        0.0s\n",
      "\u001b[0m\u001b[34m => [internal] load .dockerignore                                          0.0s\n",
      "\u001b[0m\u001b[34m => => transferring context: 2B                                            0.0s\n",
      "\u001b[0m => [internal] load metadata for docker.io/library/python:3.10-slim        0.0s\n",
      "\u001b[?25h\u001b[1A\u001b[1A\u001b[1A\u001b[1A\u001b[1A\u001b[1A\u001b[0G\u001b[?25l[+] Building 0.3s (2/3)                                                         \n",
      "\u001b[34m => [internal] load build definition from Dockerfile                       0.0s\n",
      "\u001b[0m\u001b[34m => => transferring dockerfile: 37B                                        0.0s\n",
      "\u001b[0m\u001b[34m => [internal] load .dockerignore                                          0.0s\n",
      "\u001b[0m\u001b[34m => => transferring context: 2B                                            0.0s\n",
      "\u001b[0m => [internal] load metadata for docker.io/library/python:3.10-slim        0.1s\n",
      "\u001b[?25h\u001b[1A\u001b[1A\u001b[1A\u001b[1A\u001b[1A\u001b[1A\u001b[0G\u001b[?25l[+] Building 0.4s (2/3)                                                         \n",
      "\u001b[34m => [internal] load build definition from Dockerfile                       0.0s\n",
      "\u001b[0m\u001b[34m => => transferring dockerfile: 37B                                        0.0s\n",
      "\u001b[0m\u001b[34m => [internal] load .dockerignore                                          0.0s\n",
      "\u001b[0m\u001b[34m => => transferring context: 2B                                            0.0s\n",
      "\u001b[0m => [internal] load metadata for docker.io/library/python:3.10-slim        0.3s\n",
      "\u001b[?25h\u001b[1A\u001b[1A\u001b[1A\u001b[1A\u001b[1A\u001b[1A\u001b[0G\u001b[?25l[+] Building 0.6s (2/3)                                                         \n",
      "\u001b[34m => [internal] load build definition from Dockerfile                       0.0s\n",
      "\u001b[0m\u001b[34m => => transferring dockerfile: 37B                                        0.0s\n",
      "\u001b[0m\u001b[34m => [internal] load .dockerignore                                          0.0s\n",
      "\u001b[0m\u001b[34m => => transferring context: 2B                                            0.0s\n",
      "\u001b[0m => [internal] load metadata for docker.io/library/python:3.10-slim        0.4s\n",
      "\u001b[?25h\u001b[1A\u001b[1A\u001b[1A\u001b[1A\u001b[1A\u001b[1A\u001b[0G\u001b[?25l[+] Building 0.7s (2/3)                                                         \n",
      "\u001b[34m => [internal] load build definition from Dockerfile                       0.0s\n",
      "\u001b[0m\u001b[34m => => transferring dockerfile: 37B                                        0.0s\n",
      "\u001b[0m\u001b[34m => [internal] load .dockerignore                                          0.0s\n",
      "\u001b[0m\u001b[34m => => transferring context: 2B                                            0.0s\n",
      "\u001b[0m => [internal] load metadata for docker.io/library/python:3.10-slim        0.6s\n",
      "\u001b[?25h\u001b[1A\u001b[1A\u001b[1A\u001b[1A\u001b[1A\u001b[1A\u001b[0G\u001b[?25l[+] Building 0.9s (2/3)                                                         \n",
      "\u001b[34m => [internal] load build definition from Dockerfile                       0.0s\n",
      "\u001b[0m\u001b[34m => => transferring dockerfile: 37B                                        0.0s\n",
      "\u001b[0m\u001b[34m => [internal] load .dockerignore                                          0.0s\n",
      "\u001b[0m\u001b[34m => => transferring context: 2B                                            0.0s\n",
      "\u001b[0m => [internal] load metadata for docker.io/library/python:3.10-slim        0.8s\n",
      "\u001b[?25h\u001b[1A\u001b[1A\u001b[1A\u001b[1A\u001b[1A\u001b[1A\u001b[0G\u001b[?25l[+] Building 1.0s (2/3)                                                         \n",
      "\u001b[34m => [internal] load build definition from Dockerfile                       0.0s\n",
      "\u001b[0m\u001b[34m => => transferring dockerfile: 37B                                        0.0s\n",
      "\u001b[0m\u001b[34m => [internal] load .dockerignore                                          0.0s\n",
      "\u001b[0m\u001b[34m => => transferring context: 2B                                            0.0s\n",
      "\u001b[0m => [internal] load metadata for docker.io/library/python:3.10-slim        0.9s\n",
      "\u001b[?25h\u001b[1A\u001b[1A\u001b[1A\u001b[1A\u001b[1A\u001b[1A\u001b[0G\u001b[?25l[+] Building 1.2s (2/3)                                                         \n",
      "\u001b[34m => [internal] load build definition from Dockerfile                       0.0s\n",
      "\u001b[0m\u001b[34m => => transferring dockerfile: 37B                                        0.0s\n",
      "\u001b[0m\u001b[34m => [internal] load .dockerignore                                          0.0s\n",
      "\u001b[0m\u001b[34m => => transferring context: 2B                                            0.0s\n",
      "\u001b[0m => [internal] load metadata for docker.io/library/python:3.10-slim        1.1s\n",
      "\u001b[?25h\u001b[1A\u001b[1A\u001b[1A\u001b[1A\u001b[1A\u001b[1A\u001b[0G\u001b[?25l[+] Building 1.3s (2/3)                                                         \n",
      "\u001b[34m => [internal] load build definition from Dockerfile                       0.0s\n",
      "\u001b[0m\u001b[34m => => transferring dockerfile: 37B                                        0.0s\n",
      "\u001b[0m\u001b[34m => [internal] load .dockerignore                                          0.0s\n",
      "\u001b[0m\u001b[34m => => transferring context: 2B                                            0.0s\n",
      "\u001b[0m => [internal] load metadata for docker.io/library/python:3.10-slim        1.2s\n",
      "\u001b[?25h\u001b[1A\u001b[1A\u001b[1A\u001b[1A\u001b[1A\u001b[1A\u001b[0G\u001b[?25l[+] Building 1.5s (2/3)                                                         \n",
      "\u001b[34m => [internal] load build definition from Dockerfile                       0.0s\n",
      "\u001b[0m\u001b[34m => => transferring dockerfile: 37B                                        0.0s\n",
      "\u001b[0m\u001b[34m => [internal] load .dockerignore                                          0.0s\n",
      "\u001b[0m\u001b[34m => => transferring context: 2B                                            0.0s\n",
      "\u001b[0m => [internal] load metadata for docker.io/library/python:3.10-slim        1.4s\n",
      "\u001b[?25h\u001b[1A\u001b[1A\u001b[1A\u001b[1A\u001b[1A\u001b[1A\u001b[0G\u001b[?25l[+] Building 1.6s (2/3)                                                         \n",
      "\u001b[34m => [internal] load build definition from Dockerfile                       0.0s\n",
      "\u001b[0m\u001b[34m => => transferring dockerfile: 37B                                        0.0s\n",
      "\u001b[0m\u001b[34m => [internal] load .dockerignore                                          0.0s\n",
      "\u001b[0m\u001b[34m => => transferring context: 2B                                            0.0s\n",
      "\u001b[0m => [internal] load metadata for docker.io/library/python:3.10-slim        1.5s\n",
      "\u001b[?25h\u001b[1A\u001b[1A\u001b[1A\u001b[1A\u001b[1A\u001b[1A\u001b[0G\u001b[?25l[+] Building 1.8s (2/3)                                                         \n",
      "\u001b[34m => [internal] load build definition from Dockerfile                       0.0s\n",
      "\u001b[0m\u001b[34m => => transferring dockerfile: 37B                                        0.0s\n",
      "\u001b[0m\u001b[34m => [internal] load .dockerignore                                          0.0s\n",
      "\u001b[0m\u001b[34m => => transferring context: 2B                                            0.0s\n",
      "\u001b[0m => [internal] load metadata for docker.io/library/python:3.10-slim        1.7s\n",
      "\u001b[?25h\u001b[1A\u001b[1A\u001b[1A\u001b[1A\u001b[1A\u001b[1A\u001b[0G\u001b[?25l[+] Building 1.9s (2/3)                                                         \n",
      "\u001b[34m => [internal] load build definition from Dockerfile                       0.0s\n",
      "\u001b[0m\u001b[34m => => transferring dockerfile: 37B                                        0.0s\n",
      "\u001b[0m\u001b[34m => [internal] load .dockerignore                                          0.0s\n",
      "\u001b[0m\u001b[34m => => transferring context: 2B                                            0.0s\n",
      "\u001b[0m => [internal] load metadata for docker.io/library/python:3.10-slim        1.8s\n",
      "\u001b[?25h\u001b[1A\u001b[1A\u001b[1A\u001b[1A\u001b[1A\u001b[1A\u001b[0G\u001b[?25l[+] Building 2.1s (2/3)                                                         \n",
      "\u001b[34m => [internal] load build definition from Dockerfile                       0.0s\n",
      "\u001b[0m\u001b[34m => => transferring dockerfile: 37B                                        0.0s\n",
      "\u001b[0m\u001b[34m => [internal] load .dockerignore                                          0.0s\n",
      "\u001b[0m\u001b[34m => => transferring context: 2B                                            0.0s\n",
      "\u001b[0m => [internal] load metadata for docker.io/library/python:3.10-slim        2.0s\n",
      "\u001b[?25h\u001b[1A\u001b[1A\u001b[1A\u001b[1A\u001b[1A\u001b[1A\u001b[0G\u001b[?25l[+] Building 2.2s (2/3)                                                         \n",
      "\u001b[34m => [internal] load build definition from Dockerfile                       0.0s\n",
      "\u001b[0m\u001b[34m => => transferring dockerfile: 37B                                        0.0s\n",
      "\u001b[0m\u001b[34m => [internal] load .dockerignore                                          0.0s\n",
      "\u001b[0m\u001b[34m => => transferring context: 2B                                            0.0s\n",
      "\u001b[0m => [internal] load metadata for docker.io/library/python:3.10-slim        2.1s\n",
      "\u001b[?25h\u001b[1A\u001b[1A\u001b[1A\u001b[1A\u001b[1A\u001b[1A\u001b[0G\u001b[?25l[+] Building 2.4s (2/3)                                                         \n",
      "\u001b[34m => [internal] load build definition from Dockerfile                       0.0s\n",
      "\u001b[0m\u001b[34m => => transferring dockerfile: 37B                                        0.0s\n",
      "\u001b[0m\u001b[34m => [internal] load .dockerignore                                          0.0s\n",
      "\u001b[0m\u001b[34m => => transferring context: 2B                                            0.0s\n",
      "\u001b[0m => [internal] load metadata for docker.io/library/python:3.10-slim        2.3s\n",
      "\u001b[?25h\u001b[1A\u001b[1A\u001b[1A\u001b[1A\u001b[1A\u001b[1A\u001b[0G\u001b[?25l[+] Building 2.5s (9/10)                                                        \n",
      "\u001b[34m => [internal] load build definition from Dockerfile                       0.0s\n",
      "\u001b[0m\u001b[34m => => transferring dockerfile: 37B                                        0.0s\n",
      "\u001b[0m\u001b[34m => [internal] load .dockerignore                                          0.0s\n",
      "\u001b[0m\u001b[34m => => transferring context: 2B                                            0.0s\n",
      "\u001b[0m\u001b[34m => [internal] load metadata for docker.io/library/python:3.10-slim        2.3s\n",
      "\u001b[0m\u001b[34m => [internal] load build context                                          0.1s\n",
      "\u001b[0m\u001b[34m => => transferring context: 627B                                          0.0s\n",
      "\u001b[0m\u001b[34m => [1/5] FROM docker.io/library/python:3.10-slim@sha256:25f03d17398b3f00  0.0s\n",
      "\u001b[0m\u001b[34m => CACHED [2/5] WORKDIR /code                                             0.0s\n",
      "\u001b[0m\u001b[34m => CACHED [3/5] COPY ./requirements.txt ./                                0.0s\n",
      "\u001b[0m\u001b[34m => CACHED [4/5] RUN pip install --no-cache-dir --upgrade -r requirements  0.0s\n",
      "\u001b[0m\u001b[34m => [5/5] COPY ./src ./src                                                 0.0s\n",
      "\u001b[0m => exporting to image                                                     0.0s\n",
      "\u001b[34m => => exporting layers                                                    0.0s\n",
      "\u001b[0m\u001b[?25h\u001b[1A\u001b[1A\u001b[1A\u001b[1A\u001b[1A\u001b[1A\u001b[1A\u001b[1A\u001b[1A\u001b[1A\u001b[1A\u001b[1A\u001b[1A\u001b[1A\u001b[1A\u001b[0G\u001b[?25l[+] Building 2.5s (10/10) FINISHED                                              \n",
      "\u001b[34m => [internal] load build definition from Dockerfile                       0.0s\n",
      "\u001b[0m\u001b[34m => => transferring dockerfile: 37B                                        0.0s\n",
      "\u001b[0m\u001b[34m => [internal] load .dockerignore                                          0.0s\n",
      "\u001b[0m\u001b[34m => => transferring context: 2B                                            0.0s\n",
      "\u001b[0m\u001b[34m => [internal] load metadata for docker.io/library/python:3.10-slim        2.3s\n",
      "\u001b[0m\u001b[34m => [internal] load build context                                          0.1s\n",
      "\u001b[0m\u001b[34m => => transferring context: 627B                                          0.0s\n",
      "\u001b[0m\u001b[34m => [1/5] FROM docker.io/library/python:3.10-slim@sha256:25f03d17398b3f00  0.0s\n",
      "\u001b[0m\u001b[34m => CACHED [2/5] WORKDIR /code                                             0.0s\n",
      "\u001b[0m\u001b[34m => CACHED [3/5] COPY ./requirements.txt ./                                0.0s\n",
      "\u001b[0m\u001b[34m => CACHED [4/5] RUN pip install --no-cache-dir --upgrade -r requirements  0.0s\n",
      "\u001b[0m\u001b[34m => [5/5] COPY ./src ./src                                                 0.0s\n",
      "\u001b[0m\u001b[34m => exporting to image                                                     0.0s\n",
      "\u001b[0m\u001b[34m => => exporting layers                                                    0.0s\n",
      "\u001b[0m\u001b[34m => => writing image sha256:db97ac771b676ec067d59d919256d68dcfd89e6c0cad9  0.0s\n",
      "\u001b[0m\u001b[34m => => naming to docker.io/okt/simple-fastapi                              0.0s\n",
      "\u001b[0m\u001b[?25h"
     ]
    }
   ],
   "source": [
    "!docker build ./containers/simple-fastapi -t okt/simple-fastapi"
   ]
  },
  {
   "cell_type": "markdown",
   "metadata": {},
   "source": [
    "### Cached layers"
   ]
  },
  {
   "cell_type": "markdown",
   "metadata": {},
   "source": [
    "The order of Dockerfile instructions matters. Each instruction in a Dockerfile roughly translates to an **image layer**. The layers are cached in the build process. Hence, changes in one layer destroys the cache of subsequent layers. This is known as **cache busting**. This explains why requirements are installed first in the `Dockerfile` before source code is copied, so that modifying the source does not result in reinstalling the dependencies ({numref}`cache`)."
   ]
  },
  {
   "cell_type": "markdown",
   "metadata": {},
   "source": [
    "The following created timestamps indicate cached layers in our previous build:"
   ]
  },
  {
   "cell_type": "code",
   "execution_count": 11,
   "metadata": {},
   "outputs": [
    {
     "name": "stdout",
     "output_type": "stream",
     "text": [
      "IMAGE          CREATED                  CREATED BY                                      SIZE      COMMENT\n",
      "db97ac771b67   Less than a second ago   CMD [\"uvicorn\" \"src.main:app\" \"--host\" \"0.0.…   0B        buildkit.dockerfile.v0\n",
      "<missing>      Less than a second ago   COPY ./src ./src # buildkit                     425B      buildkit.dockerfile.v0\n",
      "<missing>      About an hour ago        RUN /bin/sh -c pip install --no-cache-dir --…   20.7MB    buildkit.dockerfile.v0\n",
      "<missing>      About an hour ago        COPY ./requirements.txt ./ # buildkit           31B       buildkit.dockerfile.v0\n",
      "<missing>      19 hours ago             WORKDIR /code                                   0B        buildkit.dockerfile.v0\n",
      "<missing>      2 months ago             CMD [\"python3\"]                                 0B        buildkit.dockerfile.v0\n",
      "<missing>      2 months ago             RUN /bin/sh -c set -eux;   savedAptMark=\"$(a…   12.2MB    buildkit.dockerfile.v0\n",
      "<missing>      2 months ago             ENV PYTHON_GET_PIP_SHA256=9cc01665956d22b3bf…   0B        buildkit.dockerfile.v0\n",
      "<missing>      2 months ago             ENV PYTHON_GET_PIP_URL=https://github.com/py…   0B        buildkit.dockerfile.v0\n",
      "<missing>      2 months ago             ENV PYTHON_SETUPTOOLS_VERSION=65.5.1            0B        buildkit.dockerfile.v0\n",
      "<missing>      2 months ago             ENV PYTHON_PIP_VERSION=23.0.1                   0B        buildkit.dockerfile.v0\n",
      "<missing>      2 months ago             RUN /bin/sh -c set -eux;  for src in idle3 p…   32B       buildkit.dockerfile.v0\n",
      "<missing>      2 months ago             RUN /bin/sh -c set -eux;   savedAptMark=\"$(a…   35.5MB    buildkit.dockerfile.v0\n",
      "<missing>      2 months ago             ENV PYTHON_VERSION=3.10.13                      0B        buildkit.dockerfile.v0\n",
      "<missing>      2 months ago             ENV GPG_KEY=A035C8C19219BA821ECEA86B64E628F8…   0B        buildkit.dockerfile.v0\n",
      "<missing>      2 months ago             RUN /bin/sh -c set -eux;  apt-get update;  a…   9.11MB    buildkit.dockerfile.v0\n",
      "<missing>      2 months ago             ENV LANG=C.UTF-8                                0B        buildkit.dockerfile.v0\n",
      "<missing>      2 months ago             ENV PATH=/usr/local/bin:/usr/local/sbin:/usr…   0B        buildkit.dockerfile.v0\n",
      "<missing>      8 days ago               /bin/sh -c #(nop)  CMD [\"bash\"]                 0B        \n",
      "<missing>      8 days ago               /bin/sh -c #(nop) ADD file:262fd7bf0bc26e5d2…   97.1MB    \n"
     ]
    }
   ],
   "source": [
    "!docker history okt/simple-fastapi"
   ]
  },
  {
   "cell_type": "markdown",
   "metadata": {},
   "source": [
    "<br>"
   ]
  },
  {
   "cell_type": "markdown",
   "metadata": {},
   "source": [
    "```{figure} containers/img/layers.png\n",
    "---\n",
    "name: layers\n",
    "width: 600px\n",
    "---\n",
    "Dockerfile translates into a stack of layers in a container image. [Source](https://docs.docker.com/build/guide/layers/)\n",
    "```"
   ]
  },
  {
   "cell_type": "markdown",
   "metadata": {},
   "source": [
    "```{figure} containers/img/00-cache-busting.svg\n",
    "---\n",
    "name: cache\n",
    "width: 600px\n",
    "---\n",
    "Busting an expensive cached layer (left). Cache optimized version (right).\n",
    "```"
   ]
  },
  {
   "cell_type": "markdown",
   "metadata": {},
   "source": [
    "Listing the built image:"
   ]
  },
  {
   "cell_type": "code",
   "execution_count": 12,
   "metadata": {},
   "outputs": [
    {
     "name": "stdout",
     "output_type": "stream",
     "text": [
      "REPOSITORY           TAG       IMAGE ID       CREATED        SIZE\n",
      "okt/simple-fastapi   latest    db97ac771b67   1 second ago   175MB\n",
      "ubuntu               latest    da935f064913   2 weeks ago    69.3MB\n",
      "hello-world          latest    ee301c921b8a   7 months ago   9.14kB\n"
     ]
    }
   ],
   "source": [
    "!docker image ls"
   ]
  },
  {
   "cell_type": "markdown",
   "metadata": {},
   "source": [
    "### Port mapping"
   ]
  },
  {
   "cell_type": "markdown",
   "metadata": {},
   "source": [
    "Note that the app runs in port `0.0.0.0:80` inside the container. We will expose this to our local machine by **port mapping** it to `localhost:8000`. Running the image in detached mode:"
   ]
  },
  {
   "cell_type": "code",
   "execution_count": 13,
   "metadata": {},
   "outputs": [
    {
     "name": "stdout",
     "output_type": "stream",
     "text": [
      "5a9d508c584aadea2a01394063174d8d65f39b20a29520ec7b44c04c218bb53c\n"
     ]
    }
   ],
   "source": [
    "!docker run -d -p 8000:80 --name fastapi okt/simple-fastapi:latest"
   ]
  },
  {
   "cell_type": "code",
   "execution_count": 14,
   "metadata": {},
   "outputs": [
    {
     "name": "stdout",
     "output_type": "stream",
     "text": [
      "CONTAINER ID   IMAGE                       COMMAND                  CREATED        STATUS                  PORTS                  NAMES\n",
      "5a9d508c584a   okt/simple-fastapi:latest   \"uvicorn src.main:ap…\"   1 second ago   Up Less than a second   0.0.0.0:8000->80/tcp   fastapi\n"
     ]
    }
   ],
   "source": [
    "!docker ps"
   ]
  },
  {
   "cell_type": "code",
   "execution_count": 15,
   "metadata": {
    "tags": [
     "remove-cell"
    ]
   },
   "outputs": [],
   "source": [
    "import time\n",
    "time.sleep(3)"
   ]
  },
  {
   "cell_type": "markdown",
   "metadata": {},
   "source": [
    "Trying it out:"
   ]
  },
  {
   "cell_type": "code",
   "execution_count": 16,
   "metadata": {},
   "outputs": [
    {
     "name": "stdout",
     "output_type": "stream",
     "text": [
      "\u001b[34mHTTP\u001b[39;49;00m/\u001b[34m1.1\u001b[39;49;00m \u001b[34m200\u001b[39;49;00m \u001b[36mOK\u001b[39;49;00m\n",
      "\u001b[36mcontent-length\u001b[39;49;00m: 26\n",
      "\u001b[36mcontent-type\u001b[39;49;00m: application/json\n",
      "\u001b[36mdate\u001b[39;49;00m: Wed, 27 Dec 2023 17:30:47 GMT\n",
      "\u001b[36mserver\u001b[39;49;00m: uvicorn\n",
      "\n",
      "{\u001b[37m\u001b[39;49;00m\n",
      "\u001b[37m    \u001b[39;49;00m\u001b[94m\"message\"\u001b[39;49;00m:\u001b[37m \u001b[39;49;00m\u001b[33m\"Hello world!\"\u001b[39;49;00m\u001b[37m\u001b[39;49;00m\n",
      "}\u001b[37m\u001b[39;49;00m\n",
      "\n",
      "\n"
     ]
    }
   ],
   "source": [
    "!http :8000"
   ]
  },
  {
   "cell_type": "markdown",
   "metadata": {},
   "source": [
    "## Dev environment"
   ]
  },
  {
   "cell_type": "markdown",
   "metadata": {},
   "source": [
    "This section deals with quality of life improvement for developing with Docker. For example, any changes to `main.py` will not affect the running app (which is isolated). This can make development difficult with time-consuming rebuilds. Also, if we have a large dataset that will be used for development, then we will have to copy this every time the image is built. Our IDE also does not have things like autocomplete and will typically compain of missing packages."
   ]
  },
  {
   "cell_type": "markdown",
   "metadata": {},
   "source": [
    "```{figure} ./containers/img/vs-code-module-not-found.png\n",
    "---\n",
    "name: vs-code-module-not-found\n",
    "width: 600px\n",
    "---\n",
    "Module not found. One unsatisfying solution is to install the requirements file in a virtual environment. But this is not ideal if you want strict reproducibility.\n",
    "```"
   ]
  },
  {
   "cell_type": "markdown",
   "metadata": {},
   "source": [
    "### Volumes"
   ]
  },
  {
   "cell_type": "markdown",
   "metadata": {},
   "source": [
    "The issue with code changes and data is fixed by using **volumes**. This will allow changes in the local filesystem to be reflected within the container (since files are mirrored between the two directories). In our case, the `--reload` flag is essential in order to avoid manually restarting the uvicorn server inside the container. But this has to be removed in the production `Dockerfile`.\n",
    "\n",
    "**Remark.** Note that we can have `Dockerfile.dev` and `Dockerfile`. We just need to specify the specific file when using `docker build`."
   ]
  },
  {
   "cell_type": "code",
   "execution_count": 17,
   "metadata": {},
   "outputs": [
    {
     "name": "stdout",
     "output_type": "stream",
     "text": [
      "\u001b[01;34m/Users/particle1331/code/ok-transformer/docs/nb/notes/containers/simple-fastapi\u001b[0m\n",
      "├── \u001b[00mDockerfile\u001b[0m\n",
      "├── \u001b[00mrequirements.txt\u001b[0m\n",
      "└── \u001b[01;34msrc\u001b[0m\n",
      "    └── \u001b[00mmain.py\u001b[0m\n",
      "\n",
      "2 directories, 3 files\n"
     ]
    }
   ],
   "source": [
    "!tree $(pwd)/containers/simple-fastapi -I __pycache__"
   ]
  },
  {
   "cell_type": "markdown",
   "metadata": {},
   "source": [
    "Running `docker run` with `-v` flag for mapping volumes:"
   ]
  },
  {
   "cell_type": "code",
   "execution_count": 18,
   "metadata": {},
   "outputs": [
    {
     "name": "stdout",
     "output_type": "stream",
     "text": [
      "d4c13142e2dc79371978a6c579ab3f5ef0f7dc56573ebdfcc8e3cb8e3820f84b\n"
     ]
    }
   ],
   "source": [
    "!docker rm -f fastapi >> /dev/null  # delete prev container\n",
    "!docker run -d -p 8000:80 -v $(pwd)/containers/simple-fastapi:/code --name fastapi okt/simple-fastapi:latest"
   ]
  },
  {
   "cell_type": "markdown",
   "metadata": {},
   "source": [
    "Modifying the main file:"
   ]
  },
  {
   "cell_type": "code",
   "execution_count": 19,
   "metadata": {},
   "outputs": [
    {
     "name": "stdout",
     "output_type": "stream",
     "text": [
      "Overwriting ./containers/simple-fastapi/src/main.py\n"
     ]
    }
   ],
   "source": [
    "%%writefile ./containers/simple-fastapi/src/main.py\n",
    "from fastapi import FastAPI\n",
    "\n",
    "app = FastAPI()\n",
    "\n",
    "@app.get(\"/\")\n",
    "def root():\n",
    "    return {\"message\": \"Hello world + 123!\"}    # (!)"
   ]
  },
  {
   "cell_type": "markdown",
   "metadata": {},
   "source": [
    "See if output changes without rebuild (this uses [httpie](https://httpie.io/docs/cli/universal)):"
   ]
  },
  {
   "cell_type": "code",
   "execution_count": 20,
   "metadata": {
    "tags": [
     "remove-cell"
    ]
   },
   "outputs": [],
   "source": [
    "import time\n",
    "time.sleep(3)"
   ]
  },
  {
   "cell_type": "code",
   "execution_count": 21,
   "metadata": {},
   "outputs": [
    {
     "name": "stdout",
     "output_type": "stream",
     "text": [
      "\u001b[34mHTTP\u001b[39;49;00m/\u001b[34m1.1\u001b[39;49;00m \u001b[34m200\u001b[39;49;00m \u001b[36mOK\u001b[39;49;00m\n",
      "\u001b[36mcontent-length\u001b[39;49;00m: 32\n",
      "\u001b[36mcontent-type\u001b[39;49;00m: application/json\n",
      "\u001b[36mdate\u001b[39;49;00m: Wed, 27 Dec 2023 17:30:53 GMT\n",
      "\u001b[36mserver\u001b[39;49;00m: uvicorn\n",
      "\n",
      "{\u001b[37m\u001b[39;49;00m\n",
      "\u001b[37m    \u001b[39;49;00m\u001b[94m\"message\"\u001b[39;49;00m:\u001b[37m \u001b[39;49;00m\u001b[33m\"Hello world + 123!\"\u001b[39;49;00m\u001b[37m\u001b[39;49;00m\n",
      "}\u001b[37m\u001b[39;49;00m\n",
      "\n",
      "\n"
     ]
    }
   ],
   "source": [
    "!http :8000"
   ]
  },
  {
   "cell_type": "code",
   "execution_count": 22,
   "metadata": {
    "tags": [
     "remove-cell"
    ]
   },
   "outputs": [
    {
     "name": "stdout",
     "output_type": "stream",
     "text": [
      "Overwriting ./containers/simple-fastapi/src/main.py\n"
     ]
    }
   ],
   "source": [
    "%%writefile ./containers/simple-fastapi/src/main.py\n",
    "from fastapi import FastAPI\n",
    "\n",
    "app = FastAPI()\n",
    "\n",
    "@app.get(\"/\")\n",
    "def root():\n",
    "    return {\"message\": \"Hello world!\"}"
   ]
  },
  {
   "cell_type": "markdown",
   "metadata": {},
   "source": [
    "### IDE for a running container"
   ]
  },
  {
   "cell_type": "markdown",
   "metadata": {},
   "source": [
    "To follow this section, you have to install [Docker](https://marketplace.visualstudio.com/items?itemName=ms-azuretools.vscode-docker) and [Dev Containers](https://marketplace.visualstudio.com/items?itemName=ms-vscode-remote.remote-containers) extensions in VS Code. To use an IDE with a running container, you can click on the lower left button or press CTRL+SHIFT+P and type \"Dev Containers: Attach to running container\". This opens up a new window. You have to install the [Python extension](https://marketplace.visualstudio.com/items?itemName=ms-python.python) once to get IDE features. The experience is the same as when you SSH into a remote server. "
   ]
  },
  {
   "cell_type": "markdown",
   "metadata": {},
   "source": [
    "```{figure} ./containers/img/vs-code-completion.png\n",
    "---\n",
    "name: vs-code-completion\n",
    "width: 1200px\n",
    "---\n",
    "IDE attached to the container with code completion and other useful features.\n",
    "```"
   ]
  },
  {
   "cell_type": "code",
   "execution_count": 23,
   "metadata": {
    "tags": [
     "remove-cell"
    ]
   },
   "outputs": [],
   "source": [
    "!docker rm -f fastapi >> /dev/null"
   ]
  },
  {
   "cell_type": "markdown",
   "metadata": {},
   "source": [
    "### Debugging"
   ]
  },
  {
   "cell_type": "markdown",
   "metadata": {},
   "source": [
    "***Note:** This section should be followed while the compose application below discussed in the next section is running.*\n",
    "\n",
    "For debugging, we use https://github.com/microsoft/debugpy. After installing the Python extension, go to the Debug tab in VS Code. Then click \"create a launch.json file\". In the options, select \"Remote Attach\" and enter \"localhost\" with port \"5678\". We need to integrate the following code in the main file:\n",
    "\n",
    "```python\n",
    "import debugpy\n",
    "\n",
    "debugpy.listen((\"0.0.0.0\", 5678))\n",
    "print(\"Waiting for client to attach...\")\n",
    "debugpy.wait_for_client()\n",
    "```\n",
    "\n",
    "After adding breakpoints, we can start running the debugger {numref}`vs-code-debugger` and debugging a request."
   ]
  },
  {
   "cell_type": "markdown",
   "metadata": {},
   "source": [
    "```{figure} ./containers/img/vs-code-debugger.png\n",
    "---\n",
    "name: vs-code-debugger\n",
    "width: 1200px\n",
    "---\n",
    "Debugger running. Breakpoints are triggered after a GET request to `localhost:8080`.\n",
    "```"
   ]
  },
  {
   "cell_type": "markdown",
   "metadata": {},
   "source": [
    "## Docker compose"
   ]
  },
  {
   "cell_type": "markdown",
   "metadata": {},
   "source": [
    "Multi-container applications require configuring setup and tear down of run and builds, volumes, as well as networking between multiple services. This can be tedious to do using Docker CLI commands especially during development. [Docker Compose](https://docs.docker.com/compose/) allows us to collect all configurations in a YAML file. This takes care of networking between containers as well as logging and status monitors for the whole ensemble."
   ]
  },
  {
   "cell_type": "markdown",
   "metadata": {},
   "source": [
    "### Files"
   ]
  },
  {
   "cell_type": "markdown",
   "metadata": {},
   "source": [
    "The web server is in its own directory containing its corresponding Dockerfile:"
   ]
  },
  {
   "cell_type": "code",
   "execution_count": 24,
   "metadata": {},
   "outputs": [
    {
     "name": "stdout",
     "output_type": "stream",
     "text": [
      "\u001b[01;34mcontainers/compose\u001b[0m\n",
      "├── \u001b[01;34mapp\u001b[0m\n",
      "│   ├── \u001b[00mDockerfile\u001b[0m\n",
      "│   ├── \u001b[00mrequirements.txt\u001b[0m\n",
      "│   └── \u001b[01;34msrc\u001b[0m\n",
      "│       └── \u001b[00mmain.py\u001b[0m\n",
      "└── \u001b[00mdocker-compose.yml\u001b[0m\n",
      "\n",
      "3 directories, 4 files\n"
     ]
    }
   ],
   "source": [
    "!tree containers/compose -I __pycache__"
   ]
  },
  {
   "cell_type": "markdown",
   "metadata": {},
   "source": [
    "This simply tracks the visit count along with a message. For storing the counts, we will use a [redis](https://redis.io/docs/connect/clients/python/) database. Note that since compose takes care of networking, it suffices to use the container name (see compose file below) as host for the redis client:"
   ]
  },
  {
   "cell_type": "code",
   "execution_count": 25,
   "metadata": {},
   "outputs": [
    {
     "name": "stdout",
     "output_type": "stream",
     "text": [
      "\u001b[34mimport\u001b[39;49;00m \u001b[04m\u001b[36mredis\u001b[39;49;00m\u001b[37m\u001b[39;49;00m\n",
      "\u001b[34mfrom\u001b[39;49;00m \u001b[04m\u001b[36mfastapi\u001b[39;49;00m \u001b[34mimport\u001b[39;49;00m FastAPI\u001b[37m\u001b[39;49;00m\n",
      "\u001b[37m\u001b[39;49;00m\n",
      "app = FastAPI()\u001b[37m\u001b[39;49;00m\n",
      "r = redis.Redis(host=\u001b[33m\"\u001b[39;49;00m\u001b[33mredis\u001b[39;49;00m\u001b[33m\"\u001b[39;49;00m, port=\u001b[34m6379\u001b[39;49;00m)\u001b[37m\u001b[39;49;00m\n",
      "\u001b[37m\u001b[39;49;00m\n",
      "\u001b[34mif\u001b[39;49;00m \u001b[35mnot\u001b[39;49;00m r.exists(\u001b[33m\"\u001b[39;49;00m\u001b[33mvisits\u001b[39;49;00m\u001b[33m\"\u001b[39;49;00m):\u001b[37m\u001b[39;49;00m\n",
      "    r.set(\u001b[33m\"\u001b[39;49;00m\u001b[33mvisits\u001b[39;49;00m\u001b[33m\"\u001b[39;49;00m, \u001b[34m0\u001b[39;49;00m)\u001b[37m\u001b[39;49;00m\n",
      "\u001b[37m\u001b[39;49;00m\n",
      "\u001b[37m\u001b[39;49;00m\n",
      "\u001b[90m@app\u001b[39;49;00m.get(\u001b[33m\"\u001b[39;49;00m\u001b[33m/\u001b[39;49;00m\u001b[33m\"\u001b[39;49;00m)\u001b[37m\u001b[39;49;00m\n",
      "\u001b[34mdef\u001b[39;49;00m \u001b[32mroot\u001b[39;49;00m():\u001b[37m\u001b[39;49;00m\n",
      "    visits = \u001b[36mint\u001b[39;49;00m(r.get(\u001b[33m\"\u001b[39;49;00m\u001b[33mvisits\u001b[39;49;00m\u001b[33m\"\u001b[39;49;00m)) + \u001b[34m1\u001b[39;49;00m\u001b[37m\u001b[39;49;00m\n",
      "    r.set(\u001b[33m\"\u001b[39;49;00m\u001b[33mvisits\u001b[39;49;00m\u001b[33m\"\u001b[39;49;00m, visits)\u001b[37m\u001b[39;49;00m\n",
      "    \u001b[34mreturn\u001b[39;49;00m {\u001b[37m\u001b[39;49;00m\n",
      "        \u001b[33m\"\u001b[39;49;00m\u001b[33mmessage\u001b[39;49;00m\u001b[33m\"\u001b[39;49;00m: \u001b[33m\"\u001b[39;49;00m\u001b[33mHello world!\u001b[39;49;00m\u001b[33m\"\u001b[39;49;00m,\u001b[37m\u001b[39;49;00m\n",
      "        \u001b[33m\"\u001b[39;49;00m\u001b[33mvisit_count\u001b[39;49;00m\u001b[33m\"\u001b[39;49;00m: r.get(\u001b[33m\"\u001b[39;49;00m\u001b[33mvisits\u001b[39;49;00m\u001b[33m\"\u001b[39;49;00m),\u001b[37m\u001b[39;49;00m\n",
      "    }\u001b[37m\u001b[39;49;00m\n"
     ]
    }
   ],
   "source": [
    "!pygmentize containers/compose/app/src/main.py"
   ]
  },
  {
   "cell_type": "markdown",
   "metadata": {},
   "source": [
    "Note that paths in Dockerfile and compose files are relative:"
   ]
  },
  {
   "cell_type": "code",
   "execution_count": 26,
   "metadata": {},
   "outputs": [
    {
     "name": "stdout",
     "output_type": "stream",
     "text": [
      "\u001b[34mFROM\u001b[39;49;00m\u001b[37m \u001b[39;49;00m\u001b[33mpython:3.10-slim\u001b[39;49;00m\u001b[37m\u001b[39;49;00m\n",
      "\u001b[37m\u001b[39;49;00m\n",
      "\u001b[34mWORKDIR\u001b[39;49;00m\u001b[37m \u001b[39;49;00m\u001b[33m/code\u001b[39;49;00m\u001b[37m\u001b[39;49;00m\n",
      "\u001b[37m\u001b[39;49;00m\n",
      "\u001b[34mCOPY\u001b[39;49;00m\u001b[37m \u001b[39;49;00m./requirements.txt\u001b[37m \u001b[39;49;00m./\u001b[37m\u001b[39;49;00m\n",
      "\u001b[37m\u001b[39;49;00m\n",
      "\u001b[34mRUN\u001b[39;49;00m\u001b[37m \u001b[39;49;00mpip\u001b[37m \u001b[39;49;00minstall\u001b[37m \u001b[39;49;00m--no-cache-dir\u001b[37m \u001b[39;49;00m--upgrade\u001b[37m \u001b[39;49;00m-r\u001b[37m \u001b[39;49;00mrequirements.txt\u001b[37m\u001b[39;49;00m\n",
      "\u001b[37m\u001b[39;49;00m\n",
      "\u001b[34mCOPY\u001b[39;49;00m\u001b[37m \u001b[39;49;00m./src\u001b[37m \u001b[39;49;00m./src\u001b[37m\u001b[39;49;00m\n",
      "\u001b[37m\u001b[39;49;00m\n",
      "\u001b[34mENTRYPOINT\u001b[39;49;00m\u001b[37m \u001b[39;49;00m[\u001b[33m\"uvicorn\"\u001b[39;49;00m,\u001b[37m \u001b[39;49;00m\u001b[33m\"src.main:app\"\u001b[39;49;00m]\u001b[37m\u001b[39;49;00m\n"
     ]
    }
   ],
   "source": [
    "!pygmentize containers/compose/app/Dockerfile"
   ]
  },
  {
   "cell_type": "markdown",
   "metadata": {},
   "source": [
    "Observe that we use `ENTRYPOINT` here with arguments specified in the ff. compose file:"
   ]
  },
  {
   "cell_type": "code",
   "execution_count": 27,
   "metadata": {},
   "outputs": [
    {
     "name": "stdout",
     "output_type": "stream",
     "text": [
      "\u001b[94mversion\u001b[39;49;00m:\u001b[37m \u001b[39;49;00m\u001b[33m'\u001b[39;49;00m\u001b[33m3\u001b[39;49;00m\u001b[33m'\u001b[39;49;00m\u001b[37m\u001b[39;49;00m\n",
      "\u001b[94mservices\u001b[39;49;00m:\u001b[37m\u001b[39;49;00m\n",
      "\u001b[37m  \u001b[39;49;00m\u001b[94mfastapi-server\u001b[39;49;00m:\u001b[37m\u001b[39;49;00m\n",
      "\u001b[37m    \u001b[39;49;00m\u001b[94mbuild\u001b[39;49;00m:\u001b[37m \u001b[39;49;00mapp\u001b[37m\u001b[39;49;00m\n",
      "\u001b[37m    \u001b[39;49;00m\u001b[94mcommand\u001b[39;49;00m:\u001b[37m \u001b[39;49;00m\u001b[33m'\u001b[39;49;00m\u001b[33m--host\u001b[39;49;00m\u001b[31m \u001b[39;49;00m\u001b[33m0.0.0.0\u001b[39;49;00m\u001b[31m \u001b[39;49;00m\u001b[33m--port\u001b[39;49;00m\u001b[31m \u001b[39;49;00m\u001b[33m80\u001b[39;49;00m\u001b[31m \u001b[39;49;00m\u001b[33m--reload\u001b[39;49;00m\u001b[33m'\u001b[39;49;00m\u001b[37m\u001b[39;49;00m\n",
      "\u001b[37m    \u001b[39;49;00m\u001b[94mrestart\u001b[39;49;00m:\u001b[37m \u001b[39;49;00mon-failure\u001b[37m\u001b[39;49;00m\n",
      "\u001b[37m    \u001b[39;49;00m\u001b[94mports\u001b[39;49;00m:\u001b[37m\u001b[39;49;00m\n",
      "\u001b[37m      \u001b[39;49;00m-\u001b[37m \u001b[39;49;00m8080:80\u001b[37m\u001b[39;49;00m\n",
      "\u001b[37m      \u001b[39;49;00m-\u001b[37m \u001b[39;49;00m5678:5678\u001b[37m\u001b[39;49;00m\n",
      "\u001b[37m    \u001b[39;49;00m\u001b[94mvolumes\u001b[39;49;00m:\u001b[37m\u001b[39;49;00m\n",
      "\u001b[37m      \u001b[39;49;00m-\u001b[37m \u001b[39;49;00m./app:/code\u001b[37m\u001b[39;49;00m\n",
      "\u001b[37m    \u001b[39;49;00m\u001b[94mdepends_on\u001b[39;49;00m:\u001b[37m\u001b[39;49;00m\n",
      "\u001b[37m      \u001b[39;49;00m-\u001b[37m \u001b[39;49;00mredis\u001b[37m\u001b[39;49;00m\n",
      "\u001b[37m\u001b[39;49;00m\n",
      "\u001b[37m  \u001b[39;49;00m\u001b[94mredis\u001b[39;49;00m:\u001b[37m\u001b[39;49;00m\n",
      "\u001b[37m    \u001b[39;49;00m\u001b[94mimage\u001b[39;49;00m:\u001b[37m \u001b[39;49;00mredis:alpine\u001b[37m\u001b[39;49;00m\n"
     ]
    }
   ],
   "source": [
    "!pygmentize containers/compose/docker-compose.yml"
   ]
  },
  {
   "cell_type": "markdown",
   "metadata": {},
   "source": [
    "### Compose up"
   ]
  },
  {
   "cell_type": "markdown",
   "metadata": {},
   "source": [
    "Starting the multi-container application. The `-f` to point to the compose file. If we are in the directory, then it suffices to call `docker compose up`. The `--build` flag is used to rebuild containers from the images. Again, we use `-d` to run it in detached mode."
   ]
  },
  {
   "cell_type": "code",
   "execution_count": 28,
   "metadata": {
    "tags": [
     "hide-output"
    ]
   },
   "outputs": [
    {
     "name": "stdout",
     "output_type": "stream",
     "text": [
      "\u001b[1A\u001b[1B\u001b[0G\u001b[?25l[+] Running 0/0\n",
      "\u001b[37m ⠋ redis Pulling                                                           0.1s\n",
      "\u001b[0m\u001b[?25h\u001b[1A\u001b[1A\u001b[0G\u001b[?25l[+] Running 0/1\n",
      "\u001b[37m ⠙ redis Pulling                                                           0.2s\n",
      "\u001b[0m\u001b[?25h\u001b[1A\u001b[1A\u001b[0G\u001b[?25l[+] Running 0/1\n",
      "\u001b[37m ⠹ redis Pulling                                                           0.3s\n",
      "\u001b[0m\u001b[?25h\u001b[1A\u001b[1A\u001b[0G\u001b[?25l[+] Running 0/1\n",
      "\u001b[37m ⠸ redis Pulling                                                           0.4s\n",
      "\u001b[0m\u001b[?25h\u001b[1A\u001b[1A\u001b[0G\u001b[?25l[+] Running 0/1\n",
      "\u001b[37m ⠼ redis Pulling                                                           0.5s\n",
      "\u001b[0m\u001b[?25h\u001b[1A\u001b[1A\u001b[0G\u001b[?25l[+] Running 0/1\n",
      "\u001b[37m ⠴ redis Pulling                                                           0.6s\n",
      "\u001b[0m\u001b[?25h\u001b[1A\u001b[1A\u001b[0G\u001b[?25l[+] Running 0/1\n",
      "\u001b[37m ⠦ redis Pulling                                                           0.7s\n",
      "\u001b[0m\u001b[?25h\u001b[1A\u001b[1A\u001b[0G\u001b[?25l[+] Running 0/1\n",
      "\u001b[37m ⠧ redis Pulling                                                           0.8s\n",
      "\u001b[0m\u001b[?25h\u001b[1A\u001b[1A\u001b[0G\u001b[?25l[+] Running 0/1\n",
      "\u001b[37m ⠇ redis Pulling                                                           0.9s\n",
      "\u001b[0m\u001b[?25h\u001b[1A\u001b[1A\u001b[0G\u001b[?25l[+] Running 0/1\n",
      "\u001b[37m ⠏ redis Pulling                                                           1.0s\n",
      "\u001b[0m\u001b[?25h\u001b[1A\u001b[1A\u001b[0G\u001b[?25l[+] Running 0/1\n",
      "\u001b[37m ⠋ redis Pulling                                                           1.1s\n",
      "\u001b[0m\u001b[?25h\u001b[1A\u001b[1A\u001b[0G\u001b[?25l[+] Running 0/1\n",
      "\u001b[37m ⠙ redis Pulling                                                           1.2s\n",
      "\u001b[0m\u001b[?25h\u001b[1A\u001b[1A\u001b[0G\u001b[?25l[+] Running 0/1\n",
      "\u001b[37m ⠹ redis Pulling                                                           1.3s\n",
      "\u001b[0m\u001b[?25h\u001b[1A\u001b[1A\u001b[0G\u001b[?25l[+] Running 0/1\n",
      "\u001b[37m ⠸ redis Pulling                                                           1.4s\n",
      "\u001b[0m\u001b[?25h\u001b[1A\u001b[1A\u001b[0G\u001b[?25l[+] Running 0/1\n",
      "\u001b[37m ⠼ redis Pulling                                                           1.5s\n",
      "\u001b[0m\u001b[?25h\u001b[1A\u001b[1A\u001b[0G\u001b[?25l[+] Running 0/1\n",
      "\u001b[37m ⠴ redis Pulling                                                           1.6s\n",
      "\u001b[0m\u001b[?25h\u001b[1A\u001b[1A\u001b[0G\u001b[?25l[+] Running 0/1\n",
      "\u001b[37m ⠦ redis Pulling                                                           1.7s\n",
      "\u001b[0m\u001b[?25h\u001b[1A\u001b[1A\u001b[0G\u001b[?25l[+] Running 0/1\n",
      "\u001b[37m ⠧ redis Pulling                                                           1.8s\n",
      "\u001b[0m\u001b[?25h\u001b[1A\u001b[1A\u001b[0G\u001b[?25l[+] Running 0/1\n",
      "\u001b[37m ⠇ redis Pulling                                                           1.9s\n",
      "\u001b[0m\u001b[?25h\u001b[1A\u001b[1A\u001b[0G\u001b[?25l[+] Running 0/1\n",
      "\u001b[37m ⠏ redis Pulling                                                           2.0s\n",
      "\u001b[0m\u001b[?25h\u001b[1A\u001b[1A\u001b[0G\u001b[?25l[+] Running 0/1\n",
      "\u001b[37m ⠋ redis Pulling                                                           2.1s\n",
      "\u001b[0m\u001b[?25h\u001b[1A\u001b[1A\u001b[0G\u001b[?25l[+] Running 0/1\n",
      "\u001b[37m ⠙ redis Pulling                                                           2.2s\n",
      "\u001b[0m\u001b[?25h\u001b[1A\u001b[1A\u001b[0G\u001b[?25l[+] Running 0/1\n",
      "\u001b[37m ⠹ redis Pulling                                                           2.3s\n",
      "\u001b[0m\u001b[?25h\u001b[1A\u001b[1A\u001b[0G\u001b[?25l[+] Running 0/1\n",
      "\u001b[37m ⠸ redis Pulling                                                           2.4s\n",
      "\u001b[0m\u001b[?25h\u001b[1A\u001b[1A\u001b[0G\u001b[?25l[+] Running 0/1\n",
      "\u001b[37m ⠼ redis Pulling                                                           2.5s\n",
      "\u001b[0m\u001b[?25h\u001b[1A\u001b[1A\u001b[0G\u001b[?25l[+] Running 0/1\n",
      "\u001b[37m ⠴ redis Pulling                                                           2.6s\n",
      "\u001b[0m\u001b[?25h\u001b[1A\u001b[1A\u001b[0G\u001b[?25l[+] Running 0/1\n",
      "\u001b[37m ⠦ redis Pulling                                                           2.7s\n",
      "\u001b[0m\u001b[?25h\u001b[1A\u001b[1A\u001b[0G\u001b[?25l[+] Running 0/1\n",
      "\u001b[37m ⠧ redis Pulling                                                           2.8s\n",
      "\u001b[0m\u001b[?25h\u001b[1A\u001b[1A\u001b[0G\u001b[?25l[+] Running 0/1\n",
      "\u001b[37m ⠇ redis Pulling                                                           2.9s\n",
      "\u001b[0m\u001b[?25h\u001b[1A\u001b[1A\u001b[0G\u001b[?25l[+] Running 0/1\n",
      "\u001b[37m ⠏ redis Pulling                                                           3.0s\n",
      "\u001b[0m\u001b[?25h\u001b[1A\u001b[1A\u001b[0G\u001b[?25l[+] Running 0/1\n",
      "\u001b[37m ⠋ redis Pulling                                                           3.1s\n",
      "\u001b[0m\u001b[?25h\u001b[1A\u001b[1A\u001b[0G\u001b[?25l[+] Running 0/1\n",
      "\u001b[37m ⠙ redis Pulling                                                           3.2s\n",
      "\u001b[0m\u001b[?25h\u001b[1A\u001b[1A\u001b[0G\u001b[?25l[+] Running 0/1\n",
      "\u001b[37m ⠹ redis Pulling                                                           3.3s\n",
      "\u001b[0m\u001b[?25h\u001b[1A\u001b[1A\u001b[0G\u001b[?25l[+] Running 0/1\n",
      "\u001b[37m ⠸ redis Pulling                                                           3.4s\n",
      "\u001b[0m\u001b[?25h\u001b[1A\u001b[1A\u001b[0G\u001b[?25l[+] Running 0/1\n",
      "\u001b[37m ⠼ redis Pulling                                                           3.5s\n",
      "\u001b[0m\u001b[?25h\u001b[1A\u001b[1A\u001b[0G\u001b[?25l[+] Running 0/1\n",
      "\u001b[37m ⠴ redis Pulling                                                           3.6s\n",
      "\u001b[0m\u001b[?25h\u001b[1A\u001b[1A\u001b[0G\u001b[?25l[+] Running 0/1\n",
      "\u001b[37m ⠦ redis Pulling                                                           3.7s\n",
      "\u001b[0m\u001b[?25h\u001b[1A\u001b[1A\u001b[0G\u001b[?25l[+] Running 0/1\n",
      "\u001b[37m ⠧ redis Pulling                                                           3.8s\n",
      "\u001b[0m\u001b[?25h\u001b[1A\u001b[1A\u001b[0G\u001b[?25l[+] Running 0/1\n",
      "\u001b[37m ⠇ redis Pulling                                                           3.9s\n",
      "\u001b[0m\u001b[?25h\u001b[1A\u001b[1A\u001b[0G\u001b[?25l[+] Running 0/1\n",
      "\u001b[37m ⠏ redis Pulling                                                           4.0s\n",
      "\u001b[0m\u001b[?25h\u001b[1A\u001b[1A\u001b[0G\u001b[?25l[+] Running 0/1\n",
      "\u001b[37m ⠋ redis Pulling                                                           4.1s\n",
      "\u001b[0m\u001b[?25h\u001b[1A\u001b[1A\u001b[0G\u001b[?25l[+] Running 0/1\n",
      "\u001b[37m ⠙ redis Pulling                                                           4.2s\n",
      "\u001b[0m\u001b[?25h\u001b[1A\u001b[1A\u001b[0G\u001b[?25l[+] Running 0/1\n",
      "\u001b[37m ⠹ redis Pulling                                                           4.3s\n",
      "\u001b[0m\u001b[?25h\u001b[1A\u001b[1A\u001b[0G\u001b[?25l[+] Running 0/1\n",
      "\u001b[37m ⠸ redis Pulling                                                           4.4s\n",
      "\u001b[0m\u001b[?25h\u001b[1A\u001b[1A\u001b[0G\u001b[?25l[+] Running 0/1\n",
      "\u001b[37m ⠼ redis Pulling                                                           4.5s\n",
      "\u001b[0m\u001b[?25h\u001b[1A\u001b[1A\u001b[0G\u001b[?25l[+] Running 0/1\n",
      "\u001b[37m ⠴ redis Pulling                                                           4.6s\n",
      "\u001b[0m\u001b[?25h\u001b[1A\u001b[1A\u001b[0G\u001b[?25l[+] Running 0/1\n",
      "\u001b[37m ⠦ redis Pulling                                                           4.7s\n",
      "\u001b[0m\u001b[?25h\u001b[1A\u001b[1A\u001b[0G\u001b[?25l[+] Running 0/1\n",
      "\u001b[37m ⠧ redis Pulling                                                           4.8s\n",
      "\u001b[0m\u001b[?25h\u001b[1A\u001b[1A\u001b[0G\u001b[?25l[+] Running 0/1\n",
      "\u001b[37m ⠇ redis Pulling                                                           4.9s\n",
      "\u001b[0m\u001b[?25h\u001b[1A\u001b[1A\u001b[0G\u001b[?25l[+] Running 0/1\n",
      "\u001b[37m ⠏ redis Pulling                                                           5.0s\n",
      "\u001b[0m\u001b[?25h\u001b[1A\u001b[1A\u001b[0G\u001b[?25l[+] Running 0/1\n",
      "\u001b[37m ⠋ redis Pulling                                                           5.1s\n",
      "\u001b[0m\u001b[?25h\u001b[1A\u001b[1A\u001b[0G\u001b[?25l[+] Running 0/1\n",
      "\u001b[37m ⠙ redis Pulling                                                           5.2s\n",
      "\u001b[0m\u001b[?25h\u001b[1A\u001b[1A\u001b[0G\u001b[?25l[+] Running 0/1\n",
      "\u001b[37m ⠹ redis Pulling                                                           5.3s\n",
      "\u001b[0m\u001b[37m   ⠋ c30352492317 Pulling fs layer                                         0.1s\n",
      "\u001b[0m\u001b[37m   ⠋ 2e707cb76875 Pulling fs layer                                         0.1s\n",
      "\u001b[0m\u001b[37m   ⠋ 41a20ff430bc Pulling fs layer                                         0.1s\n",
      "\u001b[0m\u001b[37m   ⠋ d326b14c5477 Waiting                                                  0.1s\n",
      "\u001b[0m\u001b[37m   ⠋ 00477ff4bbe5 Pulling fs layer                                         0.1s\n",
      "\u001b[0m\u001b[37m   ⠋ 970a5a4847d9 Waiting                                                  0.1s\n",
      "\u001b[0m\u001b[37m   ⠋ 4f4fb700ef54 Waiting                                                  0.1s\n",
      "\u001b[0m\u001b[37m   ⠋ f1bbb1bc1e67 Waiting                                                  0.1s\n",
      "\u001b[0m\u001b[?25h\u001b[1A\u001b[1A\u001b[1A\u001b[1A\u001b[1A\u001b[1A\u001b[1A\u001b[1A\u001b[1A\u001b[1A\u001b[0G\u001b[?25l[+] Running 0/9\n",
      "\u001b[37m ⠸ redis Pulling                                                           5.4s\n",
      "\u001b[0m\u001b[37m   ⠙ c30352492317 Pulling fs layer                                         0.2s\n",
      "\u001b[0m\u001b[37m   ⠙ 2e707cb76875 Pulling fs layer                                         0.2s\n",
      "\u001b[0m\u001b[37m   ⠙ 41a20ff430bc Pulling fs layer                                         0.2s\n",
      "\u001b[0m\u001b[37m   ⠙ d326b14c5477 Waiting                                                  0.2s\n",
      "\u001b[0m\u001b[37m   ⠙ 00477ff4bbe5 Pulling fs layer                                         0.2s\n",
      "\u001b[0m\u001b[37m   ⠙ 970a5a4847d9 Waiting                                                  0.2s\n",
      "\u001b[0m\u001b[37m   ⠙ 4f4fb700ef54 Waiting                                                  0.2s\n",
      "\u001b[0m\u001b[37m   ⠙ f1bbb1bc1e67 Waiting                                                  0.2s\n",
      "\u001b[0m\u001b[?25h\u001b[1A\u001b[1A\u001b[1A\u001b[1A\u001b[1A\u001b[1A\u001b[1A\u001b[1A\u001b[1A\u001b[1A\u001b[0G\u001b[?25l[+] Running 0/9\n",
      "\u001b[37m ⠼ redis Pulling                                                           5.5s\n",
      "\u001b[0m\u001b[37m   ⠹ c30352492317 Pulling fs layer                                         0.3s\n",
      "\u001b[0m\u001b[37m   ⠹ 2e707cb76875 Pulling fs layer                                         0.3s\n",
      "\u001b[0m\u001b[37m   ⠹ 41a20ff430bc Pulling fs layer                                         0.3s\n",
      "\u001b[0m\u001b[37m   ⠹ d326b14c5477 Waiting                                                  0.3s\n",
      "\u001b[0m\u001b[37m   ⠹ 00477ff4bbe5 Pulling fs layer                                         0.3s\n",
      "\u001b[0m\u001b[37m   ⠹ 970a5a4847d9 Waiting                                                  0.3s\n",
      "\u001b[0m\u001b[37m   ⠹ 4f4fb700ef54 Waiting                                                  0.3s\n",
      "\u001b[0m\u001b[37m   ⠹ f1bbb1bc1e67 Waiting                                                  0.3s\n",
      "\u001b[0m\u001b[?25h\u001b[1A\u001b[1A\u001b[1A\u001b[1A\u001b[1A\u001b[1A\u001b[1A\u001b[1A\u001b[1A\u001b[1A\u001b[0G\u001b[?25l[+] Running 0/9\n",
      "\u001b[37m ⠴ redis Pulling                                                           5.6s\n",
      "\u001b[0m\u001b[37m   ⠸ c30352492317 Pulling fs layer                                         0.4s\n",
      "\u001b[0m\u001b[37m   ⠸ 2e707cb76875 Pulling fs layer                                         0.4s\n",
      "\u001b[0m\u001b[37m   ⠸ 41a20ff430bc Pulling fs layer                                         0.4s\n",
      "\u001b[0m\u001b[37m   ⠸ d326b14c5477 Waiting                                                  0.4s\n",
      "\u001b[0m\u001b[37m   ⠸ 00477ff4bbe5 Pulling fs layer                                         0.4s\n",
      "\u001b[0m\u001b[37m   ⠸ 970a5a4847d9 Waiting                                                  0.4s\n",
      "\u001b[0m\u001b[37m   ⠸ 4f4fb700ef54 Waiting                                                  0.4s\n",
      "\u001b[0m\u001b[37m   ⠸ f1bbb1bc1e67 Waiting                                                  0.4s\n",
      "\u001b[0m\u001b[?25h\u001b[1A\u001b[1A\u001b[1A\u001b[1A\u001b[1A\u001b[1A\u001b[1A\u001b[1A\u001b[1A\u001b[1A\u001b[0G\u001b[?25l[+] Running 0/9\n",
      "\u001b[37m ⠦ redis Pulling                                                           5.7s\n",
      "\u001b[0m\u001b[37m   ⠼ c30352492317 Pulling fs layer                                         0.5s\n",
      "\u001b[0m\u001b[37m   ⠼ 2e707cb76875 Pulling fs layer                                         0.5s\n",
      "\u001b[0m\u001b[37m   ⠼ 41a20ff430bc Pulling fs layer                                         0.5s\n",
      "\u001b[0m\u001b[37m   ⠼ d326b14c5477 Waiting                                                  0.5s\n",
      "\u001b[0m\u001b[37m   ⠼ 00477ff4bbe5 Pulling fs layer                                         0.5s\n",
      "\u001b[0m\u001b[37m   ⠼ 970a5a4847d9 Waiting                                                  0.5s\n",
      "\u001b[0m\u001b[37m   ⠼ 4f4fb700ef54 Waiting                                                  0.5s\n",
      "\u001b[0m\u001b[37m   ⠼ f1bbb1bc1e67 Waiting                                                  0.5s\n",
      "\u001b[0m\u001b[?25h\u001b[1A\u001b[1A\u001b[1A\u001b[1A\u001b[1A\u001b[1A\u001b[1A\u001b[1A\u001b[1A\u001b[1A\u001b[0G\u001b[?25l[+] Running 0/9\n",
      "\u001b[37m ⠧ redis Pulling                                                           5.8s\n",
      "\u001b[0m\u001b[37m   ⠴ c30352492317 Pulling fs layer                                         0.6s\n",
      "\u001b[0m\u001b[37m   ⠴ 2e707cb76875 Pulling fs layer                                         0.6s\n",
      "\u001b[0m\u001b[37m   ⠴ 41a20ff430bc Pulling fs layer                                         0.6s\n",
      "\u001b[0m\u001b[37m   ⠴ d326b14c5477 Waiting                                                  0.6s\n",
      "\u001b[0m\u001b[37m   ⠴ 00477ff4bbe5 Pulling fs layer                                         0.6s\n",
      "\u001b[0m\u001b[37m   ⠴ 970a5a4847d9 Waiting                                                  0.6s\n",
      "\u001b[0m\u001b[37m   ⠴ 4f4fb700ef54 Waiting                                                  0.6s\n",
      "\u001b[0m\u001b[37m   ⠴ f1bbb1bc1e67 Waiting                                                  0.6s\n",
      "\u001b[0m\u001b[?25h\u001b[1A\u001b[1A\u001b[1A\u001b[1A\u001b[1A\u001b[1A\u001b[1A\u001b[1A\u001b[1A\u001b[1A\u001b[0G\u001b[?25l[+] Running 0/9\n",
      "\u001b[37m ⠇ redis Pulling                                                           5.9s\n",
      "\u001b[0m\u001b[37m   ⠦ c30352492317 Pulling fs layer                                         0.7s\n",
      "\u001b[0m\u001b[37m   ⠦ 2e707cb76875 Pulling fs layer                                         0.7s\n",
      "\u001b[0m\u001b[37m   ⠦ 41a20ff430bc Pulling fs layer                                         0.7s\n",
      "\u001b[0m\u001b[37m   ⠦ d326b14c5477 Waiting                                                  0.7s\n",
      "\u001b[0m\u001b[37m   ⠦ 00477ff4bbe5 Pulling fs layer                                         0.7s\n",
      "\u001b[0m\u001b[37m   ⠦ 970a5a4847d9 Waiting                                                  0.7s\n",
      "\u001b[0m\u001b[37m   ⠦ 4f4fb700ef54 Waiting                                                  0.7s\n",
      "\u001b[0m\u001b[37m   ⠦ f1bbb1bc1e67 Waiting                                                  0.7s\n",
      "\u001b[0m\u001b[?25h\u001b[1A\u001b[1A\u001b[1A\u001b[1A\u001b[1A\u001b[1A\u001b[1A\u001b[1A\u001b[1A\u001b[1A\u001b[0G\u001b[?25l[+] Running 0/9\n",
      "\u001b[37m ⠏ redis Pulling                                                           6.0s\n",
      "\u001b[0m\u001b[37m   ⠧ c30352492317 Pulling fs layer                                         0.8s\n",
      "\u001b[0m\u001b[37m   ⠧ 2e707cb76875 Pulling fs layer                                         0.8s\n",
      "\u001b[0m\u001b[37m   ⠧ 41a20ff430bc Pulling fs layer                                         0.8s\n",
      "\u001b[0m\u001b[37m   ⠧ d326b14c5477 Waiting                                                  0.8s\n",
      "\u001b[0m\u001b[37m   ⠧ 00477ff4bbe5 Pulling fs layer                                         0.8s\n",
      "\u001b[0m\u001b[37m   ⠧ 970a5a4847d9 Waiting                                                  0.8s\n",
      "\u001b[0m\u001b[37m   ⠧ 4f4fb700ef54 Waiting                                                  0.8s\n",
      "\u001b[0m\u001b[37m   ⠧ f1bbb1bc1e67 Waiting                                                  0.8s\n",
      "\u001b[0m\u001b[?25h\u001b[1A\u001b[1A\u001b[1A\u001b[1A\u001b[1A\u001b[1A\u001b[1A\u001b[1A\u001b[1A\u001b[1A\u001b[0G\u001b[?25l[+] Running 0/9\n",
      "\u001b[37m ⠋ redis Pulling                                                           6.1s\n",
      "\u001b[0m\u001b[37m   ⠇ c30352492317 Pulling fs layer                                         0.9s\n",
      "\u001b[0m\u001b[37m   ⠇ 2e707cb76875 Pulling fs layer                                         0.9s\n",
      "\u001b[0m\u001b[37m   ⠇ 41a20ff430bc Pulling fs layer                                         0.9s\n",
      "\u001b[0m\u001b[37m   ⠇ d326b14c5477 Waiting                                                  0.9s\n",
      "\u001b[0m\u001b[37m   ⠇ 00477ff4bbe5 Pulling fs layer                                         0.9s\n",
      "\u001b[0m\u001b[37m   ⠇ 970a5a4847d9 Waiting                                                  0.9s\n",
      "\u001b[0m\u001b[37m   ⠇ 4f4fb700ef54 Waiting                                                  0.9s\n",
      "\u001b[0m\u001b[37m   ⠇ f1bbb1bc1e67 Waiting                                                  0.9s\n",
      "\u001b[0m\u001b[?25h\u001b[1A\u001b[1A\u001b[1A\u001b[1A\u001b[1A\u001b[1A\u001b[1A\u001b[1A\u001b[1A\u001b[1A\u001b[0G\u001b[?25l[+] Running 0/9\n",
      "\u001b[37m ⠙ redis Pulling                                                           6.2s\n",
      "\u001b[0m\u001b[37m   ⠏ c30352492317 Pulling fs layer                                         1.0s\n",
      "\u001b[0m\u001b[37m   ⠏ 2e707cb76875 Pulling fs layer                                         1.0s\n",
      "\u001b[0m\u001b[37m   ⠏ 41a20ff430bc Pulling fs layer                                         1.0s\n",
      "\u001b[0m\u001b[37m   ⠏ d326b14c5477 Waiting                                                  1.0s\n",
      "\u001b[0m\u001b[37m   ⠏ 00477ff4bbe5 Pulling fs layer                                         1.0s\n",
      "\u001b[0m\u001b[37m   ⠏ 970a5a4847d9 Waiting                                                  1.0s\n",
      "\u001b[0m\u001b[37m   ⠏ 4f4fb700ef54 Waiting                                                  1.0s\n",
      "\u001b[0m\u001b[37m   ⠏ f1bbb1bc1e67 Waiting                                                  1.0s\n",
      "\u001b[0m\u001b[?25h\u001b[1A\u001b[1A\u001b[1A\u001b[1A\u001b[1A\u001b[1A\u001b[1A\u001b[1A\u001b[1A\u001b[1A\u001b[0G\u001b[?25l[+] Running 0/9\n",
      "\u001b[37m ⠹ redis Pulling                                                           6.3s\n",
      "\u001b[0m\u001b[37m   ⠋ c30352492317 Pulling fs layer                                         1.1s\n",
      "\u001b[0m\u001b[37m   ⠋ 2e707cb76875 Pulling fs layer                                         1.1s\n",
      "\u001b[0m\u001b[37m   ⠋ 41a20ff430bc Pulling fs layer                                         1.1s\n",
      "\u001b[0m\u001b[37m   ⠋ d326b14c5477 Waiting                                                  1.1s\n",
      "\u001b[0m\u001b[37m   ⠋ 00477ff4bbe5 Pulling fs layer                                         1.1s\n",
      "\u001b[0m\u001b[37m   ⠋ 970a5a4847d9 Waiting                                                  1.1s\n",
      "\u001b[0m\u001b[37m   ⠋ 4f4fb700ef54 Waiting                                                  1.1s\n",
      "\u001b[0m\u001b[37m   ⠋ f1bbb1bc1e67 Waiting                                                  1.1s\n",
      "\u001b[0m\u001b[?25h\u001b[1A\u001b[1A\u001b[1A\u001b[1A\u001b[1A\u001b[1A\u001b[1A\u001b[1A\u001b[1A\u001b[1A\u001b[0G\u001b[?25l[+] Running 0/9\n",
      "\u001b[37m ⠸ redis Pulling                                                           6.4s\n",
      "\u001b[0m\u001b[37m   ⠙ c30352492317 Pulling fs layer                                         1.2s\n",
      "\u001b[0m\u001b[37m   ⠙ 2e707cb76875 Pulling fs layer                                         1.2s\n",
      "\u001b[0m\u001b[37m   ⠙ 41a20ff430bc Pulling fs layer                                         1.2s\n",
      "\u001b[0m\u001b[37m   ⠙ d326b14c5477 Waiting                                                  1.2s\n",
      "\u001b[0m\u001b[37m   ⠙ 00477ff4bbe5 Pulling fs layer                                         1.2s\n",
      "\u001b[0m\u001b[37m   ⠙ 970a5a4847d9 Waiting                                                  1.2s\n",
      "\u001b[0m\u001b[37m   ⠙ 4f4fb700ef54 Waiting                                                  1.2s\n",
      "\u001b[0m\u001b[37m   ⠙ f1bbb1bc1e67 Waiting                                                  1.2s\n",
      "\u001b[0m\u001b[?25h\u001b[1A\u001b[1A\u001b[1A\u001b[1A\u001b[1A\u001b[1A\u001b[1A\u001b[1A\u001b[1A\u001b[1A\u001b[0G\u001b[?25l[+] Running 0/9\n",
      "\u001b[37m ⠼ redis Pulling                                                           6.5s\n",
      "\u001b[0m\u001b[37m   ⠹ c30352492317 Pulling fs layer                                         1.3s\n",
      "\u001b[0m\u001b[37m   ⠹ 2e707cb76875 Pulling fs layer                                         1.3s\n",
      "\u001b[0m\u001b[37m   ⠹ 41a20ff430bc Pulling fs layer                                         1.3s\n",
      "\u001b[0m\u001b[37m   ⠹ d326b14c5477 Waiting                                                  1.3s\n",
      "\u001b[0m\u001b[37m   ⠹ 00477ff4bbe5 Pulling fs layer                                         1.3s\n",
      "\u001b[0m\u001b[37m   ⠹ 970a5a4847d9 Waiting                                                  1.3s\n",
      "\u001b[0m\u001b[37m   ⠹ 4f4fb700ef54 Waiting                                                  1.3s\n",
      "\u001b[0m\u001b[37m   ⠹ f1bbb1bc1e67 Waiting                                                  1.3s\n",
      "\u001b[0m\u001b[?25h\u001b[1A\u001b[1A\u001b[1A\u001b[1A\u001b[1A\u001b[1A\u001b[1A\u001b[1A\u001b[1A\u001b[1A\u001b[0G\u001b[?25l[+] Running 0/9\n",
      "\u001b[37m ⠴ redis Pulling                                                           6.6s\n",
      "\u001b[0m\u001b[37m   ⠸ c30352492317 Pulling fs layer                                         1.4s\n",
      "\u001b[0m\u001b[37m   ⠸ 2e707cb76875 Pulling fs layer                                         1.4s\n",
      "\u001b[0m\u001b[37m   ⠸ 41a20ff430bc Pulling fs layer                                         1.4s\n",
      "\u001b[0m\u001b[37m   ⠸ d326b14c5477 Waiting                                                  1.4s\n",
      "\u001b[0m\u001b[37m   ⠸ 00477ff4bbe5 Pulling fs layer                                         1.4s\n",
      "\u001b[0m\u001b[37m   ⠸ 970a5a4847d9 Waiting                                                  1.4s\n",
      "\u001b[0m\u001b[37m   ⠸ 4f4fb700ef54 Waiting                                                  1.4s\n",
      "\u001b[0m\u001b[37m   ⠸ f1bbb1bc1e67 Waiting                                                  1.4s\n",
      "\u001b[0m\u001b[?25h\u001b[1A\u001b[1A\u001b[1A\u001b[1A\u001b[1A\u001b[1A\u001b[1A\u001b[1A\u001b[1A\u001b[1A\u001b[0G\u001b[?25l[+] Running 0/9\n",
      "\u001b[37m ⠦ redis Pulling                                                           6.7s\n",
      "\u001b[0m\u001b[37m   ⠼ c30352492317 Pulling fs layer                                         1.5s\n",
      "\u001b[0m\u001b[37m   ⠼ 2e707cb76875 Pulling fs layer                                         1.5s\n",
      "\u001b[0m\u001b[37m   ⠼ 41a20ff430bc Pulling fs layer                                         1.5s\n",
      "\u001b[0m\u001b[37m   ⠼ d326b14c5477 Waiting                                                  1.5s\n",
      "\u001b[0m\u001b[37m   ⠼ 00477ff4bbe5 Pulling fs layer                                         1.5s\n",
      "\u001b[0m\u001b[37m   ⠼ 970a5a4847d9 Waiting                                                  1.5s\n",
      "\u001b[0m\u001b[37m   ⠼ 4f4fb700ef54 Waiting                                                  1.5s\n",
      "\u001b[0m\u001b[37m   ⠼ f1bbb1bc1e67 Waiting                                                  1.5s\n",
      "\u001b[0m\u001b[?25h\u001b[1A\u001b[1A\u001b[1A\u001b[1A\u001b[1A\u001b[1A\u001b[1A\u001b[1A\u001b[1A\u001b[1A\u001b[0G\u001b[?25l[+] Running 0/9\n",
      "\u001b[37m ⠧ redis Pulling                                                           6.8s\n",
      "\u001b[0m\u001b[37m   ⠴ c30352492317 Pulling fs layer                                         1.6s\n",
      "\u001b[0m\u001b[37m   ⠴ 2e707cb76875 Pulling fs layer                                         1.6s\n",
      "\u001b[0m\u001b[37m   ⠴ 41a20ff430bc Pulling fs layer                                         1.6s\n",
      "\u001b[0m\u001b[37m   ⠴ d326b14c5477 Waiting                                                  1.6s\n",
      "\u001b[0m\u001b[37m   ⠴ 00477ff4bbe5 Pulling fs layer                                         1.6s\n",
      "\u001b[0m\u001b[37m   ⠴ 970a5a4847d9 Waiting                                                  1.6s\n",
      "\u001b[0m\u001b[37m   ⠴ 4f4fb700ef54 Waiting                                                  1.6s\n",
      "\u001b[0m\u001b[37m   ⠴ f1bbb1bc1e67 Waiting                                                  1.6s\n",
      "\u001b[0m\u001b[?25h\u001b[1A\u001b[1A\u001b[1A\u001b[1A\u001b[1A\u001b[1A\u001b[1A\u001b[1A\u001b[1A\u001b[1A\u001b[0G\u001b[?25l[+] Running 0/9\n",
      "\u001b[37m ⠇ redis Pulling                                                           6.9s\n",
      "\u001b[0m\u001b[37m   ⠦ c30352492317 Downloading  34.78kB/3.348MB                             1.7s\n",
      "\u001b[0m\u001b[37m   ⠦ 2e707cb76875 Download complete                                        1.7s\n",
      "\u001b[0m\u001b[37m   ⠦ 41a20ff430bc Downloading  4.107kB/345kB                               1.7s\n",
      "\u001b[0m\u001b[37m   ⠦ d326b14c5477 Waiting                                                  1.7s\n",
      "\u001b[0m\u001b[37m   ⠦ 00477ff4bbe5 Pulling fs layer                                         1.7s\n",
      "\u001b[0m\u001b[37m   ⠦ 970a5a4847d9 Waiting                                                  1.7s\n",
      "\u001b[0m\u001b[37m   ⠦ 4f4fb700ef54 Waiting                                                  1.7s\n",
      "\u001b[0m\u001b[37m   ⠦ f1bbb1bc1e67 Waiting                                                  1.7s\n",
      "\u001b[0m\u001b[?25h\u001b[1A\u001b[1A\u001b[1A\u001b[1A\u001b[1A\u001b[1A\u001b[1A\u001b[1A\u001b[1A\u001b[1A\u001b[0G\u001b[?25l[+] Running 0/9\n",
      "\u001b[37m ⠏ redis Pulling                                                           7.0s\n",
      "\u001b[0m\u001b[37m   ⠧ c30352492317 Downloading  34.78kB/3.348MB                             1.8s\n",
      "\u001b[0m\u001b[37m   ⠧ 2e707cb76875 Download complete                                        1.8s\n",
      "\u001b[0m\u001b[37m   ⠧ 41a20ff430bc Downloading  4.107kB/345kB                               1.8s\n",
      "\u001b[0m\u001b[37m   ⠧ d326b14c5477 Waiting                                                  1.8s\n",
      "\u001b[0m\u001b[37m   ⠧ 00477ff4bbe5 Pulling fs layer                                         1.8s\n",
      "\u001b[0m\u001b[37m   ⠧ 970a5a4847d9 Waiting                                                  1.8s\n",
      "\u001b[0m\u001b[37m   ⠧ 4f4fb700ef54 Waiting                                                  1.8s\n",
      "\u001b[0m\u001b[37m   ⠧ f1bbb1bc1e67 Waiting                                                  1.8s\n",
      "\u001b[0m\u001b[?25h\u001b[1A\u001b[1A\u001b[1A\u001b[1A\u001b[1A\u001b[1A\u001b[1A\u001b[1A\u001b[1A\u001b[1A\u001b[0G\u001b[?25l[+] Running 0/9\n",
      "\u001b[37m ⠋ redis Pulling                                                           7.1s\n",
      "\u001b[0m\u001b[37m   ⠇ c30352492317 Downloading  68.83kB/3.348MB                             1.9s\n",
      "\u001b[0m\u001b[37m   ⠇ 2e707cb76875 Download complete                                        1.9s\n",
      "\u001b[0m\u001b[37m   ⠇ 41a20ff430bc Downloading  135.3kB/345kB                               1.9s\n",
      "\u001b[0m\u001b[37m   ⠇ d326b14c5477 Waiting                                                  1.9s\n",
      "\u001b[0m\u001b[37m   ⠇ 00477ff4bbe5 Pulling fs layer                                         1.9s\n",
      "\u001b[0m\u001b[37m   ⠇ 970a5a4847d9 Waiting                                                  1.9s\n",
      "\u001b[0m\u001b[37m   ⠇ 4f4fb700ef54 Waiting                                                  1.9s\n",
      "\u001b[0m\u001b[37m   ⠇ f1bbb1bc1e67 Waiting                                                  1.9s\n",
      "\u001b[0m\u001b[?25h\u001b[1A\u001b[1A\u001b[1A\u001b[1A\u001b[1A\u001b[1A\u001b[1A\u001b[1A\u001b[1A\u001b[1A\u001b[0G\u001b[?25l[+] Running 0/9\n",
      "\u001b[37m ⠙ redis Pulling                                                           7.2s\n",
      "\u001b[0m\u001b[37m   ⠏ c30352492317 Downloading  68.83kB/3.348MB                             2.0s\n",
      "\u001b[0m\u001b[37m   ⠏ 2e707cb76875 Download complete                                        2.0s\n",
      "\u001b[0m\u001b[37m   ⠏ 41a20ff430bc Downloading  262.1kB/345kB                               2.0s\n",
      "\u001b[0m\u001b[37m   ⠏ d326b14c5477 Waiting                                                  2.0s\n",
      "\u001b[0m\u001b[37m   ⠏ 00477ff4bbe5 Pulling fs layer                                         2.0s\n",
      "\u001b[0m\u001b[37m   ⠏ 970a5a4847d9 Waiting                                                  2.0s\n",
      "\u001b[0m\u001b[37m   ⠏ 4f4fb700ef54 Waiting                                                  2.0s\n",
      "\u001b[0m\u001b[37m   ⠏ f1bbb1bc1e67 Waiting                                                  2.0s\n",
      "\u001b[0m\u001b[?25h\u001b[1A\u001b[1A\u001b[1A\u001b[1A\u001b[1A\u001b[1A\u001b[1A\u001b[1A\u001b[1A\u001b[1A\u001b[0G\u001b[?25l[+] Running 0/9\n",
      "\u001b[37m ⠹ redis Pulling                                                           7.3s\n",
      "\u001b[0m\u001b[37m   ⠋ c30352492317 Downloading  142.8kB/3.348MB                             2.1s\n",
      "\u001b[0m\u001b[37m   ⠋ 2e707cb76875 Download complete                                        2.1s\n",
      "\u001b[0m\u001b[37m   ⠋ 41a20ff430bc Download complete                                        2.1s\n",
      "\u001b[0m\u001b[37m   ⠋ d326b14c5477 Waiting                                                  2.1s\n",
      "\u001b[0m\u001b[37m   ⠋ 00477ff4bbe5 Pulling fs layer                                         2.1s\n",
      "\u001b[0m\u001b[37m   ⠋ 970a5a4847d9 Waiting                                                  2.1s\n",
      "\u001b[0m\u001b[37m   ⠋ 4f4fb700ef54 Waiting                                                  2.1s\n",
      "\u001b[0m\u001b[37m   ⠋ f1bbb1bc1e67 Waiting                                                  2.1s\n",
      "\u001b[0m\u001b[?25h\u001b[1A\u001b[1A\u001b[1A\u001b[1A\u001b[1A\u001b[1A\u001b[1A\u001b[1A\u001b[1A\u001b[1A\u001b[0G\u001b[?25l[+] Running 0/9\n",
      "\u001b[37m ⠸ redis Pulling                                                           7.4s\n",
      "\u001b[0m\u001b[37m   ⠙ c30352492317 Downloading  265.4kB/3.348MB                             2.2s\n",
      "\u001b[0m\u001b[37m   ⠙ 2e707cb76875 Download complete                                        2.2s\n",
      "\u001b[0m\u001b[37m   ⠙ 41a20ff430bc Download complete                                        2.2s\n",
      "\u001b[0m\u001b[37m   ⠙ d326b14c5477 Waiting                                                  2.2s\n",
      "\u001b[0m\u001b[37m   ⠙ 00477ff4bbe5 Pulling fs layer                                         2.2s\n",
      "\u001b[0m\u001b[37m   ⠙ 970a5a4847d9 Waiting                                                  2.2s\n",
      "\u001b[0m\u001b[37m   ⠙ 4f4fb700ef54 Waiting                                                  2.2s\n",
      "\u001b[0m\u001b[37m   ⠙ f1bbb1bc1e67 Waiting                                                  2.2s\n",
      "\u001b[0m\u001b[?25h\u001b[1A\u001b[1A\u001b[1A\u001b[1A\u001b[1A\u001b[1A\u001b[1A\u001b[1A\u001b[1A\u001b[1A\u001b[0G\u001b[?25l[+] Running 0/9\n",
      "\u001b[37m ⠼ redis Pulling                                                           7.5s\n",
      "\u001b[0m\u001b[37m   ⠹ c30352492317 Downloading  412.9kB/3.348MB                             2.3s\n",
      "\u001b[0m\u001b[37m   ⠹ 2e707cb76875 Download complete                                        2.3s\n",
      "\u001b[0m\u001b[37m   ⠹ 41a20ff430bc Download complete                                        2.3s\n",
      "\u001b[0m\u001b[37m   ⠹ d326b14c5477 Waiting                                                  2.3s\n",
      "\u001b[0m\u001b[37m   ⠹ 00477ff4bbe5 Pulling fs layer                                         2.3s\n",
      "\u001b[0m\u001b[37m   ⠹ 970a5a4847d9 Waiting                                                  2.3s\n",
      "\u001b[0m\u001b[37m   ⠹ 4f4fb700ef54 Waiting                                                  2.3s\n",
      "\u001b[0m\u001b[37m   ⠹ f1bbb1bc1e67 Waiting                                                  2.3s\n",
      "\u001b[0m\u001b[?25h\u001b[1A\u001b[1A\u001b[1A\u001b[1A\u001b[1A\u001b[1A\u001b[1A\u001b[1A\u001b[1A\u001b[1A\u001b[0G\u001b[?25l[+] Running 0/9\n",
      "\u001b[37m ⠴ redis Pulling                                                           7.6s\n",
      "\u001b[0m\u001b[37m   ⠸ c30352492317 Downloading  412.9kB/3.348MB                             2.4s\n",
      "\u001b[0m\u001b[37m   ⠸ 2e707cb76875 Download complete                                        2.4s\n",
      "\u001b[0m\u001b[37m   ⠸ 41a20ff430bc Download complete                                        2.4s\n",
      "\u001b[0m\u001b[37m   ⠸ d326b14c5477 Waiting                                                  2.4s\n",
      "\u001b[0m\u001b[37m   ⠸ 00477ff4bbe5 Pulling fs layer                                         2.4s\n",
      "\u001b[0m\u001b[37m   ⠸ 970a5a4847d9 Waiting                                                  2.4s\n",
      "\u001b[0m\u001b[37m   ⠸ 4f4fb700ef54 Waiting                                                  2.4s\n",
      "\u001b[0m\u001b[37m   ⠸ f1bbb1bc1e67 Waiting                                                  2.4s\n",
      "\u001b[0m\u001b[?25h\u001b[1A\u001b[1A\u001b[1A\u001b[1A\u001b[1A\u001b[1A\u001b[1A\u001b[1A\u001b[1A\u001b[1A\u001b[0G\u001b[?25l[+] Running 0/9\n",
      "\u001b[37m ⠦ redis Pulling                                                           7.7s\n",
      "\u001b[0m\u001b[37m   ⠼ c30352492317 Downloading  609.5kB/3.348MB                             2.5s\n",
      "\u001b[0m\u001b[37m   ⠼ 2e707cb76875 Download complete                                        2.5s\n",
      "\u001b[0m\u001b[37m   ⠼ 41a20ff430bc Download complete                                        2.5s\n",
      "\u001b[0m\u001b[37m   ⠼ d326b14c5477 Waiting                                                  2.5s\n",
      "\u001b[0m\u001b[37m   ⠼ 00477ff4bbe5 Pulling fs layer                                         2.5s\n",
      "\u001b[0m\u001b[37m   ⠼ 970a5a4847d9 Waiting                                                  2.5s\n",
      "\u001b[0m\u001b[37m   ⠼ 4f4fb700ef54 Waiting                                                  2.5s\n",
      "\u001b[0m\u001b[37m   ⠼ f1bbb1bc1e67 Waiting                                                  2.5s\n",
      "\u001b[0m\u001b[?25h\u001b[1A\u001b[1A\u001b[1A\u001b[1A\u001b[1A\u001b[1A\u001b[1A\u001b[1A\u001b[1A\u001b[1A\u001b[0G\u001b[?25l[+] Running 0/9\n",
      "\u001b[37m ⠧ redis Pulling                                                           7.8s\n",
      "\u001b[0m\u001b[37m   ⠴ c30352492317 Downloading  953.6kB/3.348MB                             2.6s\n",
      "\u001b[0m\u001b[37m   ⠴ 2e707cb76875 Download complete                                        2.6s\n",
      "\u001b[0m\u001b[37m   ⠴ 41a20ff430bc Download complete                                        2.6s\n",
      "\u001b[0m\u001b[37m   ⠴ d326b14c5477 Waiting                                                  2.6s\n",
      "\u001b[0m\u001b[37m   ⠴ 00477ff4bbe5 Pulling fs layer                                         2.6s\n",
      "\u001b[0m\u001b[37m   ⠴ 970a5a4847d9 Waiting                                                  2.6s\n",
      "\u001b[0m\u001b[37m   ⠴ 4f4fb700ef54 Waiting                                                  2.6s\n",
      "\u001b[0m\u001b[37m   ⠴ f1bbb1bc1e67 Waiting                                                  2.6s\n",
      "\u001b[0m\u001b[?25h\u001b[1A\u001b[1A\u001b[1A\u001b[1A\u001b[1A\u001b[1A\u001b[1A\u001b[1A\u001b[1A\u001b[1A\u001b[0G\u001b[?25l[+] Running 0/9\n",
      "\u001b[37m ⠇ redis Pulling                                                           7.9s\n",
      "\u001b[0m\u001b[37m   ⠦ c30352492317 Downloading  1.396MB/3.348MB                             2.7s\n",
      "\u001b[0m\u001b[37m   ⠦ 2e707cb76875 Download complete                                        2.7s\n",
      "\u001b[0m\u001b[37m   ⠦ 41a20ff430bc Download complete                                        2.7s\n",
      "\u001b[0m\u001b[37m   ⠦ d326b14c5477 Waiting                                                  2.7s\n",
      "\u001b[0m\u001b[37m   ⠦ 00477ff4bbe5 Pulling fs layer                                         2.7s\n",
      "\u001b[0m\u001b[37m   ⠦ 970a5a4847d9 Waiting                                                  2.7s\n",
      "\u001b[0m\u001b[37m   ⠦ 4f4fb700ef54 Waiting                                                  2.7s\n",
      "\u001b[0m\u001b[37m   ⠦ f1bbb1bc1e67 Waiting                                                  2.7s\n",
      "\u001b[0m\u001b[?25h\u001b[1A\u001b[1A\u001b[1A\u001b[1A\u001b[1A\u001b[1A\u001b[1A\u001b[1A\u001b[1A\u001b[1A\u001b[0G\u001b[?25l[+] Running 0/9\n",
      "\u001b[37m ⠏ redis Pulling                                                           8.0s\n",
      "\u001b[0m\u001b[37m   ⠧ c30352492317 Downloading   1.83MB/3.348MB                             2.8s\n",
      "\u001b[0m\u001b[37m   ⠧ 2e707cb76875 Download complete                                        2.8s\n",
      "\u001b[0m\u001b[37m   ⠧ 41a20ff430bc Download complete                                        2.8s\n",
      "\u001b[0m\u001b[37m   ⠧ d326b14c5477 Waiting                                                  2.8s\n",
      "\u001b[0m\u001b[37m   ⠧ 00477ff4bbe5 Pulling fs layer                                         2.8s\n",
      "\u001b[0m\u001b[37m   ⠧ 970a5a4847d9 Waiting                                                  2.8s\n",
      "\u001b[0m\u001b[37m   ⠧ 4f4fb700ef54 Waiting                                                  2.8s\n",
      "\u001b[0m\u001b[37m   ⠧ f1bbb1bc1e67 Waiting                                                  2.8s\n",
      "\u001b[0m\u001b[?25h\u001b[1A\u001b[1A\u001b[1A\u001b[1A\u001b[1A\u001b[1A\u001b[1A\u001b[1A\u001b[1A\u001b[1A\u001b[0G\u001b[?25l[+] Running 0/9\n",
      "\u001b[37m ⠋ redis Pulling                                                           8.1s\n",
      "\u001b[0m\u001b[37m   ⠇ c30352492317 Downloading  2.272MB/3.348MB                             2.9s\n",
      "\u001b[0m\u001b[37m   ⠇ 2e707cb76875 Download complete                                        2.9s\n",
      "\u001b[0m\u001b[37m   ⠇ 41a20ff430bc Download complete                                        2.9s\n",
      "\u001b[0m\u001b[37m   ⠇ d326b14c5477 Waiting                                                  2.9s\n",
      "\u001b[0m\u001b[37m   ⠇ 00477ff4bbe5 Pulling fs layer                                         2.9s\n",
      "\u001b[0m\u001b[37m   ⠇ 970a5a4847d9 Waiting                                                  2.9s\n",
      "\u001b[0m\u001b[37m   ⠇ 4f4fb700ef54 Waiting                                                  2.9s\n",
      "\u001b[0m\u001b[37m   ⠇ f1bbb1bc1e67 Waiting                                                  2.9s\n",
      "\u001b[0m\u001b[?25h\u001b[1A\u001b[1A\u001b[1A\u001b[1A\u001b[1A\u001b[1A\u001b[1A\u001b[1A\u001b[1A\u001b[1A\u001b[0G\u001b[?25l[+] Running 0/9\n",
      "\u001b[37m ⠙ redis Pulling                                                           8.2s\n",
      "\u001b[0m\u001b[37m   ⠏ c30352492317 Downloading  2.715MB/3.348MB                             3.0s\n",
      "\u001b[0m\u001b[37m   ⠏ 2e707cb76875 Download complete                                        3.0s\n",
      "\u001b[0m\u001b[37m   ⠏ 41a20ff430bc Download complete                                        3.0s\n",
      "\u001b[0m\u001b[37m   ⠏ d326b14c5477 Waiting                                                  3.0s\n",
      "\u001b[0m\u001b[37m   ⠏ 00477ff4bbe5 Pulling fs layer                                         3.0s\n",
      "\u001b[0m\u001b[37m   ⠏ 970a5a4847d9 Waiting                                                  3.0s\n",
      "\u001b[0m\u001b[37m   ⠏ 4f4fb700ef54 Waiting                                                  3.0s\n",
      "\u001b[0m\u001b[37m   ⠏ f1bbb1bc1e67 Waiting                                                  3.0s\n",
      "\u001b[0m\u001b[?25h\u001b[1A\u001b[1A\u001b[1A\u001b[1A\u001b[1A\u001b[1A\u001b[1A\u001b[1A\u001b[1A\u001b[1A\u001b[0G\u001b[?25l[+] Running 0/9\n",
      "\u001b[37m ⠹ redis Pulling                                                           8.3s\n",
      "\u001b[0m\u001b[37m   ⠋ c30352492317 Extracting  65.54kB/3.348MB                              3.1s\n",
      "\u001b[0m\u001b[37m   ⠋ 2e707cb76875 Download complete                                        3.1s\n",
      "\u001b[0m\u001b[37m   ⠋ 41a20ff430bc Download complete                                        3.1s\n",
      "\u001b[0m\u001b[37m   ⠋ d326b14c5477 Waiting                                                  3.1s\n",
      "\u001b[0m\u001b[37m   ⠋ 00477ff4bbe5 Pulling fs layer                                         3.1s\n",
      "\u001b[0m\u001b[37m   ⠋ 970a5a4847d9 Waiting                                                  3.1s\n",
      "\u001b[0m\u001b[37m   ⠋ 4f4fb700ef54 Waiting                                                  3.1s\n",
      "\u001b[0m\u001b[37m   ⠋ f1bbb1bc1e67 Waiting                                                  3.1s\n",
      "\u001b[0m\u001b[?25h\u001b[1A\u001b[1A\u001b[1A\u001b[1A\u001b[1A\u001b[1A\u001b[1A\u001b[1A\u001b[1A\u001b[1A\u001b[0G\u001b[?25l[+] Running 0/9\n",
      "\u001b[37m ⠸ redis Pulling                                                           8.4s\n",
      "\u001b[0m\u001b[37m   ⠙ c30352492317 Extracting  65.54kB/3.348MB                              3.2s\n",
      "\u001b[0m\u001b[37m   ⠙ 2e707cb76875 Download complete                                        3.2s\n",
      "\u001b[0m\u001b[37m   ⠙ 41a20ff430bc Download complete                                        3.2s\n",
      "\u001b[0m\u001b[37m   ⠙ d326b14c5477 Waiting                                                  3.2s\n",
      "\u001b[0m\u001b[37m   ⠙ 00477ff4bbe5 Pulling fs layer                                         3.2s\n",
      "\u001b[0m\u001b[37m   ⠙ 970a5a4847d9 Waiting                                                  3.2s\n",
      "\u001b[0m\u001b[37m   ⠙ 4f4fb700ef54 Waiting                                                  3.2s\n",
      "\u001b[0m\u001b[37m   ⠙ f1bbb1bc1e67 Waiting                                                  3.2s\n",
      "\u001b[0m\u001b[?25h\u001b[1A\u001b[1A\u001b[1A\u001b[1A\u001b[1A\u001b[1A\u001b[1A\u001b[1A\u001b[1A\u001b[1A\u001b[0G\u001b[?25l[+] Running 0/9\n",
      "\u001b[37m ⠼ redis Pulling                                                           8.5s\n",
      "\u001b[0m\u001b[37m   ⠹ c30352492317 Extracting  3.348MB/3.348MB                              3.3s\n",
      "\u001b[0m\u001b[37m   ⠹ 2e707cb76875 Download complete                                        3.3s\n",
      "\u001b[0m\u001b[37m   ⠹ 41a20ff430bc Download complete                                        3.3s\n",
      "\u001b[0m\u001b[37m   ⠹ d326b14c5477 Waiting                                                  3.3s\n",
      "\u001b[0m\u001b[37m   ⠹ 00477ff4bbe5 Pulling fs layer                                         3.3s\n",
      "\u001b[0m\u001b[37m   ⠹ 970a5a4847d9 Waiting                                                  3.3s\n",
      "\u001b[0m\u001b[37m   ⠹ 4f4fb700ef54 Waiting                                                  3.3s\n",
      "\u001b[0m\u001b[37m   ⠹ f1bbb1bc1e67 Waiting                                                  3.3s\n",
      "\u001b[0m\u001b[?25h\u001b[1A\u001b[1A\u001b[1A\u001b[1A\u001b[1A\u001b[1A\u001b[1A\u001b[1A\u001b[1A\u001b[1A\u001b[0G\u001b[?25l[+] Running 1/9\n",
      "\u001b[37m ⠴ redis Pulling                                                           8.6s\n",
      "\u001b[0m\u001b[34m   ⠿ c30352492317 Pull complete                                            3.3s\n",
      "\u001b[0m\u001b[37m   ⠸ 2e707cb76875 Extracting  1.241kB/1.241kB                              3.4s\n",
      "\u001b[0m\u001b[37m   ⠸ 41a20ff430bc Download complete                                        3.4s\n",
      "\u001b[0m\u001b[37m   ⠸ d326b14c5477 Downloading  9.583kB/944.6kB                             3.4s\n",
      "\u001b[0m\u001b[37m   ⠸ 00477ff4bbe5 Pulling fs layer                                         3.4s\n",
      "\u001b[0m\u001b[37m   ⠸ 970a5a4847d9 Waiting                                                  3.4s\n",
      "\u001b[0m\u001b[37m   ⠸ 4f4fb700ef54 Waiting                                                  3.4s\n",
      "\u001b[0m\u001b[37m   ⠸ f1bbb1bc1e67 Waiting                                                  3.4s\n",
      "\u001b[0m\u001b[?25h\u001b[1A\u001b[1A\u001b[1A\u001b[1A\u001b[1A\u001b[1A\u001b[1A\u001b[1A\u001b[1A\u001b[1A\u001b[0G\u001b[?25l[+] Running 2/9\n",
      "\u001b[37m ⠦ redis Pulling                                                           8.7s\n",
      "\u001b[0m\u001b[34m   ⠿ c30352492317 Pull complete                                            3.3s\n",
      "\u001b[0m\u001b[34m   ⠿ 2e707cb76875 Pull complete                                            3.4s\n",
      "\u001b[0m\u001b[37m   ⠼ 41a20ff430bc Extracting  32.77kB/345kB                                3.5s\n",
      "\u001b[0m\u001b[37m   ⠼ d326b14c5477 Downloading  9.583kB/944.6kB                             3.5s\n",
      "\u001b[0m\u001b[37m   ⠼ 00477ff4bbe5 Pulling fs layer                                         3.5s\n",
      "\u001b[0m\u001b[37m   ⠼ 970a5a4847d9 Waiting                                                  3.5s\n",
      "\u001b[0m\u001b[37m   ⠼ 4f4fb700ef54 Waiting                                                  3.5s\n",
      "\u001b[0m\u001b[37m   ⠼ f1bbb1bc1e67 Waiting                                                  3.5s\n",
      "\u001b[0m\u001b[?25h\u001b[1A\u001b[1A\u001b[1A\u001b[1A\u001b[1A\u001b[1A\u001b[1A\u001b[1A\u001b[1A\u001b[1A\u001b[0G\u001b[?25l[+] Running 3/9\n",
      "\u001b[37m ⠧ redis Pulling                                                           8.8s\n",
      "\u001b[0m\u001b[34m   ⠿ c30352492317 Pull complete                                            3.3s\n",
      "\u001b[0m\u001b[34m   ⠿ 2e707cb76875 Pull complete                                            3.4s\n",
      "\u001b[0m\u001b[34m   ⠿ 41a20ff430bc Pull complete                                            3.6s\n",
      "\u001b[0m\u001b[37m   ⠴ d326b14c5477 Downloading  131.1kB/944.6kB                             3.6s\n",
      "\u001b[0m\u001b[37m   ⠴ 00477ff4bbe5 Pulling fs layer                                         3.6s\n",
      "\u001b[0m\u001b[37m   ⠴ 970a5a4847d9 Waiting                                                  3.6s\n",
      "\u001b[0m\u001b[37m   ⠴ 4f4fb700ef54 Waiting                                                  3.6s\n",
      "\u001b[0m\u001b[37m   ⠴ f1bbb1bc1e67 Waiting                                                  3.6s\n",
      "\u001b[0m\u001b[?25h\u001b[1A\u001b[1A\u001b[1A\u001b[1A\u001b[1A\u001b[1A\u001b[1A\u001b[1A\u001b[1A\u001b[1A\u001b[0G\u001b[?25l[+] Running 3/9\n",
      "\u001b[37m ⠇ redis Pulling                                                           8.9s\n",
      "\u001b[0m\u001b[34m   ⠿ c30352492317 Pull complete                                            3.3s\n",
      "\u001b[0m\u001b[34m   ⠿ 2e707cb76875 Pull complete                                            3.4s\n",
      "\u001b[0m\u001b[34m   ⠿ 41a20ff430bc Pull complete                                            3.6s\n",
      "\u001b[0m\u001b[37m   ⠦ d326b14c5477 Downloading  131.1kB/944.6kB                             3.7s\n",
      "\u001b[0m\u001b[37m   ⠦ 00477ff4bbe5 Pulling fs layer                                         3.7s\n",
      "\u001b[0m\u001b[37m   ⠦ 970a5a4847d9 Waiting                                                  3.7s\n",
      "\u001b[0m\u001b[37m   ⠦ 4f4fb700ef54 Waiting                                                  3.7s\n",
      "\u001b[0m\u001b[37m   ⠦ f1bbb1bc1e67 Waiting                                                  3.7s\n",
      "\u001b[0m\u001b[?25h\u001b[1A\u001b[1A\u001b[1A\u001b[1A\u001b[1A\u001b[1A\u001b[1A\u001b[1A\u001b[1A\u001b[1A\u001b[0G\u001b[?25l[+] Running 3/9\n",
      "\u001b[37m ⠏ redis Pulling                                                           9.0s\n",
      "\u001b[0m\u001b[34m   ⠿ c30352492317 Pull complete                                            3.3s\n",
      "\u001b[0m\u001b[34m   ⠿ 2e707cb76875 Pull complete                                            3.4s\n",
      "\u001b[0m\u001b[34m   ⠿ 41a20ff430bc Pull complete                                            3.6s\n",
      "\u001b[0m\u001b[37m   ⠧ d326b14c5477 Downloading  262.1kB/944.6kB                             3.8s\n",
      "\u001b[0m\u001b[37m   ⠧ 00477ff4bbe5 Pulling fs layer                                         3.8s\n",
      "\u001b[0m\u001b[37m   ⠧ 970a5a4847d9 Waiting                                                  3.8s\n",
      "\u001b[0m\u001b[37m   ⠧ 4f4fb700ef54 Waiting                                                  3.8s\n",
      "\u001b[0m\u001b[37m   ⠧ f1bbb1bc1e67 Waiting                                                  3.8s\n",
      "\u001b[0m\u001b[?25h\u001b[1A\u001b[1A\u001b[1A\u001b[1A\u001b[1A\u001b[1A\u001b[1A\u001b[1A\u001b[1A\u001b[1A\u001b[0G\u001b[?25l[+] Running 3/9\n",
      "\u001b[37m ⠋ redis Pulling                                                           9.1s\n",
      "\u001b[0m\u001b[34m   ⠿ c30352492317 Pull complete                                            3.3s\n",
      "\u001b[0m\u001b[34m   ⠿ 2e707cb76875 Pull complete                                            3.4s\n",
      "\u001b[0m\u001b[34m   ⠿ 41a20ff430bc Pull complete                                            3.6s\n",
      "\u001b[0m\u001b[37m   ⠇ d326b14c5477 Downloading  262.1kB/944.6kB                             3.9s\n",
      "\u001b[0m\u001b[37m   ⠇ 00477ff4bbe5 Pulling fs layer                                         3.9s\n",
      "\u001b[0m\u001b[37m   ⠇ 970a5a4847d9 Waiting                                                  3.9s\n",
      "\u001b[0m\u001b[37m   ⠇ 4f4fb700ef54 Waiting                                                  3.9s\n",
      "\u001b[0m\u001b[37m   ⠇ f1bbb1bc1e67 Waiting                                                  3.9s\n",
      "\u001b[0m\u001b[?25h\u001b[1A\u001b[1A\u001b[1A\u001b[1A\u001b[1A\u001b[1A\u001b[1A\u001b[1A\u001b[1A\u001b[1A\u001b[0G\u001b[?25l[+] Running 3/9\n",
      "\u001b[37m ⠙ redis Pulling                                                           9.2s\n",
      "\u001b[0m\u001b[34m   ⠿ c30352492317 Pull complete                                            3.3s\n",
      "\u001b[0m\u001b[34m   ⠿ 2e707cb76875 Pull complete                                            3.4s\n",
      "\u001b[0m\u001b[34m   ⠿ 41a20ff430bc Pull complete                                            3.6s\n",
      "\u001b[0m\u001b[37m   ⠏ d326b14c5477 Downloading  655.4kB/944.6kB                             4.0s\n",
      "\u001b[0m\u001b[37m   ⠏ 00477ff4bbe5 Downloading  122.9kB/12.15MB                             4.0s\n",
      "\u001b[0m\u001b[37m   ⠏ 970a5a4847d9 Waiting                                                  4.0s\n",
      "\u001b[0m\u001b[37m   ⠏ 4f4fb700ef54 Waiting                                                  4.0s\n",
      "\u001b[0m\u001b[37m   ⠏ f1bbb1bc1e67 Waiting                                                  4.0s\n",
      "\u001b[0m\u001b[?25h\u001b[1A\u001b[1A\u001b[1A\u001b[1A\u001b[1A\u001b[1A\u001b[1A\u001b[1A\u001b[1A\u001b[1A\u001b[0G\u001b[?25l[+] Running 3/9\n",
      "\u001b[37m ⠹ redis Pulling                                                           9.3s\n",
      "\u001b[0m\u001b[34m   ⠿ c30352492317 Pull complete                                            3.3s\n",
      "\u001b[0m\u001b[34m   ⠿ 2e707cb76875 Pull complete                                            3.4s\n",
      "\u001b[0m\u001b[34m   ⠿ 41a20ff430bc Pull complete                                            3.6s\n",
      "\u001b[0m\u001b[37m   ⠋ d326b14c5477 Extracting  32.77kB/944.6kB                              4.1s\n",
      "\u001b[0m\u001b[37m   ⠋ 00477ff4bbe5 Downloading  122.9kB/12.15MB                             4.1s\n",
      "\u001b[0m\u001b[37m   ⠋ 970a5a4847d9 Waiting                                                  4.1s\n",
      "\u001b[0m\u001b[37m   ⠋ 4f4fb700ef54 Waiting                                                  4.1s\n",
      "\u001b[0m\u001b[37m   ⠋ f1bbb1bc1e67 Waiting                                                  4.1s\n",
      "\u001b[0m\u001b[?25h\u001b[1A\u001b[1A\u001b[1A\u001b[1A\u001b[1A\u001b[1A\u001b[1A\u001b[1A\u001b[1A\u001b[1A\u001b[0G\u001b[?25l[+] Running 4/9\n",
      "\u001b[37m ⠸ redis Pulling                                                           9.4s\n",
      "\u001b[0m\u001b[34m   ⠿ c30352492317 Pull complete                                            3.3s\n",
      "\u001b[0m\u001b[34m   ⠿ 2e707cb76875 Pull complete                                            3.4s\n",
      "\u001b[0m\u001b[34m   ⠿ 41a20ff430bc Pull complete                                            3.6s\n",
      "\u001b[0m\u001b[34m   ⠿ d326b14c5477 Pull complete                                            4.1s\n",
      "\u001b[0m\u001b[37m   ⠙ 00477ff4bbe5 Downloading  257.2kB/12.15MB                             4.2s\n",
      "\u001b[0m\u001b[37m   ⠙ 970a5a4847d9 Waiting                                                  4.2s\n",
      "\u001b[0m\u001b[37m   ⠙ 4f4fb700ef54 Waiting                                                  4.2s\n",
      "\u001b[0m\u001b[37m   ⠙ f1bbb1bc1e67 Waiting                                                  4.2s\n",
      "\u001b[0m\u001b[?25h\u001b[1A\u001b[1A\u001b[1A\u001b[1A\u001b[1A\u001b[1A\u001b[1A\u001b[1A\u001b[1A\u001b[1A\u001b[0G\u001b[?25l[+] Running 4/9\n",
      "\u001b[37m ⠼ redis Pulling                                                           9.5s\n",
      "\u001b[0m\u001b[34m   ⠿ c30352492317 Pull complete                                            3.3s\n",
      "\u001b[0m\u001b[34m   ⠿ 2e707cb76875 Pull complete                                            3.4s\n",
      "\u001b[0m\u001b[34m   ⠿ 41a20ff430bc Pull complete                                            3.6s\n",
      "\u001b[0m\u001b[34m   ⠿ d326b14c5477 Pull complete                                            4.1s\n",
      "\u001b[0m\u001b[37m   ⠹ 00477ff4bbe5 Downloading  388.3kB/12.15MB                             4.3s\n",
      "\u001b[0m\u001b[37m   ⠹ 970a5a4847d9 Waiting                                                  4.3s\n",
      "\u001b[0m\u001b[37m   ⠹ 4f4fb700ef54 Waiting                                                  4.3s\n",
      "\u001b[0m\u001b[37m   ⠹ f1bbb1bc1e67 Waiting                                                  4.3s\n",
      "\u001b[0m\u001b[?25h\u001b[1A\u001b[1A\u001b[1A\u001b[1A\u001b[1A\u001b[1A\u001b[1A\u001b[1A\u001b[1A\u001b[1A\u001b[0G\u001b[?25l[+] Running 4/9\n",
      "\u001b[37m ⠴ redis Pulling                                                           9.6s\n",
      "\u001b[0m\u001b[34m   ⠿ c30352492317 Pull complete                                            3.3s\n",
      "\u001b[0m\u001b[34m   ⠿ 2e707cb76875 Pull complete                                            3.4s\n",
      "\u001b[0m\u001b[34m   ⠿ 41a20ff430bc Pull complete                                            3.6s\n",
      "\u001b[0m\u001b[34m   ⠿ d326b14c5477 Pull complete                                            4.1s\n",
      "\u001b[0m\u001b[37m   ⠸ 00477ff4bbe5 Downloading  650.5kB/12.15MB                             4.4s\n",
      "\u001b[0m\u001b[37m   ⠸ 970a5a4847d9 Waiting                                                  4.4s\n",
      "\u001b[0m\u001b[37m   ⠸ 4f4fb700ef54 Waiting                                                  4.4s\n",
      "\u001b[0m\u001b[37m   ⠸ f1bbb1bc1e67 Waiting                                                  4.4s\n",
      "\u001b[0m\u001b[?25h\u001b[1A\u001b[1A\u001b[1A\u001b[1A\u001b[1A\u001b[1A\u001b[1A\u001b[1A\u001b[1A\u001b[1A\u001b[0G\u001b[?25l[+] Running 4/9\n",
      "\u001b[37m ⠦ redis Pulling                                                           9.7s\n",
      "\u001b[0m\u001b[34m   ⠿ c30352492317 Pull complete                                            3.3s\n",
      "\u001b[0m\u001b[34m   ⠿ 2e707cb76875 Pull complete                                            3.4s\n",
      "\u001b[0m\u001b[34m   ⠿ 41a20ff430bc Pull complete                                            3.6s\n",
      "\u001b[0m\u001b[34m   ⠿ d326b14c5477 Pull complete                                            4.1s\n",
      "\u001b[0m\u001b[37m   ⠼ 00477ff4bbe5 Downloading  1.044MB/12.15MB                             4.5s\n",
      "\u001b[0m\u001b[37m   ⠼ 970a5a4847d9 Waiting                                                  4.5s\n",
      "\u001b[0m\u001b[37m   ⠼ 4f4fb700ef54 Waiting                                                  4.5s\n",
      "\u001b[0m\u001b[37m   ⠼ f1bbb1bc1e67 Waiting                                                  4.5s\n",
      "\u001b[0m\u001b[?25h\u001b[1A\u001b[1A\u001b[1A\u001b[1A\u001b[1A\u001b[1A\u001b[1A\u001b[1A\u001b[1A\u001b[1A\u001b[0G\u001b[?25l[+] Running 4/9\n",
      "\u001b[37m ⠧ redis Pulling                                                           9.8s\n",
      "\u001b[0m\u001b[34m   ⠿ c30352492317 Pull complete                                            3.3s\n",
      "\u001b[0m\u001b[34m   ⠿ 2e707cb76875 Pull complete                                            3.4s\n",
      "\u001b[0m\u001b[34m   ⠿ 41a20ff430bc Pull complete                                            3.6s\n",
      "\u001b[0m\u001b[34m   ⠿ d326b14c5477 Pull complete                                            4.1s\n",
      "\u001b[0m\u001b[37m   ⠴ 00477ff4bbe5 Downloading  1.044MB/12.15MB                             4.6s\n",
      "\u001b[0m\u001b[37m   ⠴ 970a5a4847d9 Waiting                                                  4.6s\n",
      "\u001b[0m\u001b[37m   ⠴ 4f4fb700ef54 Waiting                                                  4.6s\n",
      "\u001b[0m\u001b[37m   ⠴ f1bbb1bc1e67 Waiting                                                  4.6s\n",
      "\u001b[0m\u001b[?25h\u001b[1A\u001b[1A\u001b[1A\u001b[1A\u001b[1A\u001b[1A\u001b[1A\u001b[1A\u001b[1A\u001b[1A\u001b[0G\u001b[?25l[+] Running 4/9\n",
      "\u001b[37m ⠇ redis Pulling                                                           9.9s\n",
      "\u001b[0m\u001b[34m   ⠿ c30352492317 Pull complete                                            3.3s\n",
      "\u001b[0m\u001b[34m   ⠿ 2e707cb76875 Pull complete                                            3.4s\n",
      "\u001b[0m\u001b[34m   ⠿ 41a20ff430bc Pull complete                                            3.6s\n",
      "\u001b[0m\u001b[34m   ⠿ d326b14c5477 Pull complete                                            4.1s\n",
      "\u001b[0m\u001b[37m   ⠦ 00477ff4bbe5 Downloading  1.568MB/12.15MB                             4.7s\n",
      "\u001b[0m\u001b[37m   ⠦ 970a5a4847d9 Download complete                                        4.7s\n",
      "\u001b[0m\u001b[37m   ⠦ 4f4fb700ef54 Waiting                                                  4.7s\n",
      "\u001b[0m\u001b[37m   ⠦ f1bbb1bc1e67 Waiting                                                  4.7s\n",
      "\u001b[0m\u001b[?25h\u001b[1A\u001b[1A\u001b[1A\u001b[1A\u001b[1A\u001b[1A\u001b[1A\u001b[1A\u001b[1A\u001b[1A\u001b[0G\u001b[?25l[+] Running 4/9\n",
      "\u001b[37m ⠏ redis Pulling                                                          10.0s\n",
      "\u001b[0m\u001b[34m   ⠿ c30352492317 Pull complete                                            3.3s\n",
      "\u001b[0m\u001b[34m   ⠿ 2e707cb76875 Pull complete                                            3.4s\n",
      "\u001b[0m\u001b[34m   ⠿ 41a20ff430bc Pull complete                                            3.6s\n",
      "\u001b[0m\u001b[34m   ⠿ d326b14c5477 Pull complete                                            4.1s\n",
      "\u001b[0m\u001b[37m   ⠧ 00477ff4bbe5 Downloading  2.219MB/12.15MB                             4.8s\n",
      "\u001b[0m\u001b[37m   ⠧ 970a5a4847d9 Download complete                                        4.8s\n",
      "\u001b[0m\u001b[37m   ⠧ 4f4fb700ef54 Waiting                                                  4.8s\n",
      "\u001b[0m\u001b[37m   ⠧ f1bbb1bc1e67 Waiting                                                  4.8s\n",
      "\u001b[0m\u001b[?25h\u001b[1A\u001b[1A\u001b[1A\u001b[1A\u001b[1A\u001b[1A\u001b[1A\u001b[1A\u001b[1A\u001b[1A\u001b[0G\u001b[?25l[+] Running 4/9\n",
      "\u001b[37m ⠋ redis Pulling                                                          10.1s\n",
      "\u001b[0m\u001b[34m   ⠿ c30352492317 Pull complete                                            3.3s\n",
      "\u001b[0m\u001b[34m   ⠿ 2e707cb76875 Pull complete                                            3.4s\n",
      "\u001b[0m\u001b[34m   ⠿ 41a20ff430bc Pull complete                                            3.6s\n",
      "\u001b[0m\u001b[34m   ⠿ d326b14c5477 Pull complete                                            4.1s\n",
      "\u001b[0m\u001b[37m   ⠇ 00477ff4bbe5 Downloading  2.219MB/12.15MB                             4.9s\n",
      "\u001b[0m\u001b[37m   ⠇ 970a5a4847d9 Download complete                                        4.9s\n",
      "\u001b[0m\u001b[37m   ⠇ 4f4fb700ef54 Waiting                                                  4.9s\n",
      "\u001b[0m\u001b[37m   ⠇ f1bbb1bc1e67 Waiting                                                  4.9s\n",
      "\u001b[0m\u001b[?25h\u001b[1A\u001b[1A\u001b[1A\u001b[1A\u001b[1A\u001b[1A\u001b[1A\u001b[1A\u001b[1A\u001b[1A\u001b[0G\u001b[?25l[+] Running 4/9\n",
      "\u001b[37m ⠙ redis Pulling                                                          10.2s\n",
      "\u001b[0m\u001b[34m   ⠿ c30352492317 Pull complete                                            3.3s\n",
      "\u001b[0m\u001b[34m   ⠿ 2e707cb76875 Pull complete                                            3.4s\n",
      "\u001b[0m\u001b[34m   ⠿ 41a20ff430bc Pull complete                                            3.6s\n",
      "\u001b[0m\u001b[34m   ⠿ d326b14c5477 Pull complete                                            4.1s\n",
      "\u001b[0m\u001b[37m   ⠏ 00477ff4bbe5 Downloading  2.219MB/12.15MB                             5.0s\n",
      "\u001b[0m\u001b[37m   ⠏ 970a5a4847d9 Download complete                                        5.0s\n",
      "\u001b[0m\u001b[37m   ⠏ 4f4fb700ef54 Waiting                                                  5.0s\n",
      "\u001b[0m\u001b[37m   ⠏ f1bbb1bc1e67 Waiting                                                  5.0s\n",
      "\u001b[0m\u001b[?25h\u001b[1A\u001b[1A\u001b[1A\u001b[1A\u001b[1A\u001b[1A\u001b[1A\u001b[1A\u001b[1A\u001b[1A\u001b[0G\u001b[?25l[+] Running 4/9\n",
      "\u001b[37m ⠹ redis Pulling                                                          10.3s\n",
      "\u001b[0m\u001b[34m   ⠿ c30352492317 Pull complete                                            3.3s\n",
      "\u001b[0m\u001b[34m   ⠿ 2e707cb76875 Pull complete                                            3.4s\n",
      "\u001b[0m\u001b[34m   ⠿ 41a20ff430bc Pull complete                                            3.6s\n",
      "\u001b[0m\u001b[34m   ⠿ d326b14c5477 Pull complete                                            4.1s\n",
      "\u001b[0m\u001b[37m   ⠋ 00477ff4bbe5 Downloading  2.219MB/12.15MB                             5.1s\n",
      "\u001b[0m\u001b[37m   ⠋ 970a5a4847d9 Download complete                                        5.1s\n",
      "\u001b[0m\u001b[37m   ⠋ 4f4fb700ef54 Waiting                                                  5.1s\n",
      "\u001b[0m\u001b[37m   ⠋ f1bbb1bc1e67 Waiting                                                  5.1s\n",
      "\u001b[0m\u001b[?25h\u001b[1A\u001b[1A\u001b[1A\u001b[1A\u001b[1A\u001b[1A\u001b[1A\u001b[1A\u001b[1A\u001b[1A\u001b[0G\u001b[?25l[+] Running 4/9\n",
      "\u001b[37m ⠸ redis Pulling                                                          10.4s\n",
      "\u001b[0m\u001b[34m   ⠿ c30352492317 Pull complete                                            3.3s\n",
      "\u001b[0m\u001b[34m   ⠿ 2e707cb76875 Pull complete                                            3.4s\n",
      "\u001b[0m\u001b[34m   ⠿ 41a20ff430bc Pull complete                                            3.6s\n",
      "\u001b[0m\u001b[34m   ⠿ d326b14c5477 Pull complete                                            4.1s\n",
      "\u001b[0m\u001b[37m   ⠙ 00477ff4bbe5 Downloading  2.219MB/12.15MB                             5.2s\n",
      "\u001b[0m\u001b[37m   ⠙ 970a5a4847d9 Download complete                                        5.2s\n",
      "\u001b[0m\u001b[37m   ⠙ 4f4fb700ef54 Waiting                                                  5.2s\n",
      "\u001b[0m\u001b[37m   ⠙ f1bbb1bc1e67 Waiting                                                  5.2s\n",
      "\u001b[0m\u001b[?25h\u001b[1A\u001b[1A\u001b[1A\u001b[1A\u001b[1A\u001b[1A\u001b[1A\u001b[1A\u001b[1A\u001b[1A\u001b[0G\u001b[?25l[+] Running 4/9\n",
      "\u001b[37m ⠼ redis Pulling                                                          10.5s\n",
      "\u001b[0m\u001b[34m   ⠿ c30352492317 Pull complete                                            3.3s\n",
      "\u001b[0m\u001b[34m   ⠿ 2e707cb76875 Pull complete                                            3.4s\n",
      "\u001b[0m\u001b[34m   ⠿ 41a20ff430bc Pull complete                                            3.6s\n",
      "\u001b[0m\u001b[34m   ⠿ d326b14c5477 Pull complete                                            4.1s\n",
      "\u001b[0m\u001b[37m   ⠹ 00477ff4bbe5 Downloading  2.219MB/12.15MB                             5.3s\n",
      "\u001b[0m\u001b[37m   ⠹ 970a5a4847d9 Download complete                                        5.3s\n",
      "\u001b[0m\u001b[37m   ⠹ 4f4fb700ef54 Waiting                                                  5.3s\n",
      "\u001b[0m\u001b[37m   ⠹ f1bbb1bc1e67 Waiting                                                  5.3s\n",
      "\u001b[0m\u001b[?25h\u001b[1A\u001b[1A\u001b[1A\u001b[1A\u001b[1A\u001b[1A\u001b[1A\u001b[1A\u001b[1A\u001b[1A\u001b[0G\u001b[?25l[+] Running 4/9\n",
      "\u001b[37m ⠴ redis Pulling                                                          10.6s\n",
      "\u001b[0m\u001b[34m   ⠿ c30352492317 Pull complete                                            3.3s\n",
      "\u001b[0m\u001b[34m   ⠿ 2e707cb76875 Pull complete                                            3.4s\n",
      "\u001b[0m\u001b[34m   ⠿ 41a20ff430bc Pull complete                                            3.6s\n",
      "\u001b[0m\u001b[34m   ⠿ d326b14c5477 Pull complete                                            4.1s\n",
      "\u001b[0m\u001b[37m   ⠸ 00477ff4bbe5 Downloading  2.744MB/12.15MB                             5.4s\n",
      "\u001b[0m\u001b[37m   ⠸ 970a5a4847d9 Download complete                                        5.4s\n",
      "\u001b[0m\u001b[37m   ⠸ 4f4fb700ef54 Waiting                                                  5.4s\n",
      "\u001b[0m\u001b[37m   ⠸ f1bbb1bc1e67 Waiting                                                  5.4s\n",
      "\u001b[0m\u001b[?25h\u001b[1A\u001b[1A\u001b[1A\u001b[1A\u001b[1A\u001b[1A\u001b[1A\u001b[1A\u001b[1A\u001b[1A\u001b[0G\u001b[?25l[+] Running 4/9\n",
      "\u001b[37m ⠦ redis Pulling                                                          10.7s\n",
      "\u001b[0m\u001b[34m   ⠿ c30352492317 Pull complete                                            3.3s\n",
      "\u001b[0m\u001b[34m   ⠿ 2e707cb76875 Pull complete                                            3.4s\n",
      "\u001b[0m\u001b[34m   ⠿ 41a20ff430bc Pull complete                                            3.6s\n",
      "\u001b[0m\u001b[34m   ⠿ d326b14c5477 Pull complete                                            4.1s\n",
      "\u001b[0m\u001b[37m   ⠼ 00477ff4bbe5 Downloading  2.744MB/12.15MB                             5.5s\n",
      "\u001b[0m\u001b[37m   ⠼ 970a5a4847d9 Download complete                                        5.5s\n",
      "\u001b[0m\u001b[37m   ⠼ 4f4fb700ef54 Waiting                                                  5.5s\n",
      "\u001b[0m\u001b[37m   ⠼ f1bbb1bc1e67 Waiting                                                  5.5s\n",
      "\u001b[0m\u001b[?25h\u001b[1A\u001b[1A\u001b[1A\u001b[1A\u001b[1A\u001b[1A\u001b[1A\u001b[1A\u001b[1A\u001b[1A\u001b[0G\u001b[?25l[+] Running 4/9\n",
      "\u001b[37m ⠧ redis Pulling                                                          10.8s\n",
      "\u001b[0m\u001b[34m   ⠿ c30352492317 Pull complete                                            3.3s\n",
      "\u001b[0m\u001b[34m   ⠿ 2e707cb76875 Pull complete                                            3.4s\n",
      "\u001b[0m\u001b[34m   ⠿ 41a20ff430bc Pull complete                                            3.6s\n",
      "\u001b[0m\u001b[34m   ⠿ d326b14c5477 Pull complete                                            4.1s\n",
      "\u001b[0m\u001b[37m   ⠴ 00477ff4bbe5 Downloading  5.614MB/12.15MB                             5.6s\n",
      "\u001b[0m\u001b[37m   ⠴ 970a5a4847d9 Download complete                                        5.6s\n",
      "\u001b[0m\u001b[37m   ⠴ 4f4fb700ef54 Waiting                                                  5.6s\n",
      "\u001b[0m\u001b[37m   ⠴ f1bbb1bc1e67 Waiting                                                  5.6s\n",
      "\u001b[0m\u001b[?25h\u001b[1A\u001b[1A\u001b[1A\u001b[1A\u001b[1A\u001b[1A\u001b[1A\u001b[1A\u001b[1A\u001b[1A\u001b[0G\u001b[?25l[+] Running 4/9\n",
      "\u001b[37m ⠇ redis Pulling                                                          10.9s\n",
      "\u001b[0m\u001b[34m   ⠿ c30352492317 Pull complete                                            3.3s\n",
      "\u001b[0m\u001b[34m   ⠿ 2e707cb76875 Pull complete                                            3.4s\n",
      "\u001b[0m\u001b[34m   ⠿ 41a20ff430bc Pull complete                                            3.6s\n",
      "\u001b[0m\u001b[34m   ⠿ d326b14c5477 Pull complete                                            4.1s\n",
      "\u001b[0m\u001b[37m   ⠦ 00477ff4bbe5 Downloading  5.614MB/12.15MB                             5.7s\n",
      "\u001b[0m\u001b[37m   ⠦ 970a5a4847d9 Download complete                                        5.7s\n",
      "\u001b[0m\u001b[37m   ⠦ 4f4fb700ef54 Waiting                                                  5.7s\n",
      "\u001b[0m\u001b[37m   ⠦ f1bbb1bc1e67 Waiting                                                  5.7s\n",
      "\u001b[0m\u001b[?25h\u001b[1A\u001b[1A\u001b[1A\u001b[1A\u001b[1A\u001b[1A\u001b[1A\u001b[1A\u001b[1A\u001b[1A\u001b[0G\u001b[?25l[+] Running 4/9\n",
      "\u001b[37m ⠏ redis Pulling                                                          11.0s\n",
      "\u001b[0m\u001b[34m   ⠿ c30352492317 Pull complete                                            3.3s\n",
      "\u001b[0m\u001b[34m   ⠿ 2e707cb76875 Pull complete                                            3.4s\n",
      "\u001b[0m\u001b[34m   ⠿ 41a20ff430bc Pull complete                                            3.6s\n",
      "\u001b[0m\u001b[34m   ⠿ d326b14c5477 Pull complete                                            4.1s\n",
      "\u001b[0m\u001b[37m   ⠧ 00477ff4bbe5 Downloading  5.614MB/12.15MB                             5.8s\n",
      "\u001b[0m\u001b[37m   ⠧ 970a5a4847d9 Download complete                                        5.8s\n",
      "\u001b[0m\u001b[37m   ⠧ 4f4fb700ef54 Waiting                                                  5.8s\n",
      "\u001b[0m\u001b[37m   ⠧ f1bbb1bc1e67 Waiting                                                  5.8s\n",
      "\u001b[0m\u001b[?25h\u001b[1A\u001b[1A\u001b[1A\u001b[1A\u001b[1A\u001b[1A\u001b[1A\u001b[1A\u001b[1A\u001b[1A\u001b[0G\u001b[?25l[+] Running 4/9\n",
      "\u001b[37m ⠋ redis Pulling                                                          11.1s\n",
      "\u001b[0m\u001b[34m   ⠿ c30352492317 Pull complete                                            3.3s\n",
      "\u001b[0m\u001b[34m   ⠿ 2e707cb76875 Pull complete                                            3.4s\n",
      "\u001b[0m\u001b[34m   ⠿ 41a20ff430bc Pull complete                                            3.6s\n",
      "\u001b[0m\u001b[34m   ⠿ d326b14c5477 Pull complete                                            4.1s\n",
      "\u001b[0m\u001b[37m   ⠇ 00477ff4bbe5 Downloading  5.614MB/12.15MB                             5.9s\n",
      "\u001b[0m\u001b[37m   ⠇ 970a5a4847d9 Download complete                                        5.9s\n",
      "\u001b[0m\u001b[37m   ⠇ 4f4fb700ef54 Waiting                                                  5.9s\n",
      "\u001b[0m\u001b[37m   ⠇ f1bbb1bc1e67 Waiting                                                  5.9s\n",
      "\u001b[0m\u001b[?25h\u001b[1A\u001b[1A\u001b[1A\u001b[1A\u001b[1A\u001b[1A\u001b[1A\u001b[1A\u001b[1A\u001b[1A\u001b[0G\u001b[?25l[+] Running 4/9\n",
      "\u001b[37m ⠙ redis Pulling                                                          11.2s\n",
      "\u001b[0m\u001b[34m   ⠿ c30352492317 Pull complete                                            3.3s\n",
      "\u001b[0m\u001b[34m   ⠿ 2e707cb76875 Pull complete                                            3.4s\n",
      "\u001b[0m\u001b[34m   ⠿ 41a20ff430bc Pull complete                                            3.6s\n",
      "\u001b[0m\u001b[34m   ⠿ d326b14c5477 Pull complete                                            4.1s\n",
      "\u001b[0m\u001b[37m   ⠏ 00477ff4bbe5 Downloading  5.745MB/12.15MB                             6.0s\n",
      "\u001b[0m\u001b[37m   ⠏ 970a5a4847d9 Download complete                                        6.0s\n",
      "\u001b[0m\u001b[37m   ⠏ 4f4fb700ef54 Waiting                                                  6.0s\n",
      "\u001b[0m\u001b[37m   ⠏ f1bbb1bc1e67 Waiting                                                  6.0s\n",
      "\u001b[0m\u001b[?25h\u001b[1A\u001b[1A\u001b[1A\u001b[1A\u001b[1A\u001b[1A\u001b[1A\u001b[1A\u001b[1A\u001b[1A\u001b[0G\u001b[?25l[+] Running 4/9\n",
      "\u001b[37m ⠹ redis Pulling                                                          11.3s\n",
      "\u001b[0m\u001b[34m   ⠿ c30352492317 Pull complete                                            3.3s\n",
      "\u001b[0m\u001b[34m   ⠿ 2e707cb76875 Pull complete                                            3.4s\n",
      "\u001b[0m\u001b[34m   ⠿ 41a20ff430bc Pull complete                                            3.6s\n",
      "\u001b[0m\u001b[34m   ⠿ d326b14c5477 Pull complete                                            4.1s\n",
      "\u001b[0m\u001b[37m   ⠋ 00477ff4bbe5 Downloading  8.502MB/12.15MB                             6.1s\n",
      "\u001b[0m\u001b[37m   ⠋ 970a5a4847d9 Download complete                                        6.1s\n",
      "\u001b[0m\u001b[37m   ⠋ 4f4fb700ef54 Waiting                                                  6.1s\n",
      "\u001b[0m\u001b[37m   ⠋ f1bbb1bc1e67 Waiting                                                  6.1s\n",
      "\u001b[0m\u001b[?25h\u001b[1A\u001b[1A\u001b[1A\u001b[1A\u001b[1A\u001b[1A\u001b[1A\u001b[1A\u001b[1A\u001b[1A\u001b[0G\u001b[?25l[+] Running 4/9\n",
      "\u001b[37m ⠸ redis Pulling                                                          11.4s\n",
      "\u001b[0m\u001b[34m   ⠿ c30352492317 Pull complete                                            3.3s\n",
      "\u001b[0m\u001b[34m   ⠿ 2e707cb76875 Pull complete                                            3.4s\n",
      "\u001b[0m\u001b[34m   ⠿ 41a20ff430bc Pull complete                                            3.6s\n",
      "\u001b[0m\u001b[34m   ⠿ d326b14c5477 Pull complete                                            4.1s\n",
      "\u001b[0m\u001b[37m   ⠙ 00477ff4bbe5 Downloading  8.502MB/12.15MB                             6.2s\n",
      "\u001b[0m\u001b[37m   ⠙ 970a5a4847d9 Download complete                                        6.2s\n",
      "\u001b[0m\u001b[37m   ⠙ 4f4fb700ef54 Waiting                                                  6.2s\n",
      "\u001b[0m\u001b[37m   ⠙ f1bbb1bc1e67 Waiting                                                  6.2s\n",
      "\u001b[0m\u001b[?25h\u001b[1A\u001b[1A\u001b[1A\u001b[1A\u001b[1A\u001b[1A\u001b[1A\u001b[1A\u001b[1A\u001b[1A\u001b[0G\u001b[?25l[+] Running 4/9\n",
      "\u001b[37m ⠼ redis Pulling                                                          11.5s\n",
      "\u001b[0m\u001b[34m   ⠿ c30352492317 Pull complete                                            3.3s\n",
      "\u001b[0m\u001b[34m   ⠿ 2e707cb76875 Pull complete                                            3.4s\n",
      "\u001b[0m\u001b[34m   ⠿ 41a20ff430bc Pull complete                                            3.6s\n",
      "\u001b[0m\u001b[34m   ⠿ d326b14c5477 Pull complete                                            4.1s\n",
      "\u001b[0m\u001b[37m   ⠹ 00477ff4bbe5 Downloading  9.288MB/12.15MB                             6.3s\n",
      "\u001b[0m\u001b[37m   ⠹ 970a5a4847d9 Download complete                                        6.3s\n",
      "\u001b[0m\u001b[37m   ⠹ 4f4fb700ef54 Waiting                                                  6.3s\n",
      "\u001b[0m\u001b[37m   ⠹ f1bbb1bc1e67 Waiting                                                  6.3s\n",
      "\u001b[0m\u001b[?25h\u001b[1A\u001b[1A\u001b[1A\u001b[1A\u001b[1A\u001b[1A\u001b[1A\u001b[1A\u001b[1A\u001b[1A\u001b[0G\u001b[?25l[+] Running 4/9\n",
      "\u001b[37m ⠴ redis Pulling                                                          11.6s\n",
      "\u001b[0m\u001b[34m   ⠿ c30352492317 Pull complete                                            3.3s\n",
      "\u001b[0m\u001b[34m   ⠿ 2e707cb76875 Pull complete                                            3.4s\n",
      "\u001b[0m\u001b[34m   ⠿ 41a20ff430bc Pull complete                                            3.6s\n",
      "\u001b[0m\u001b[34m   ⠿ d326b14c5477 Pull complete                                            4.1s\n",
      "\u001b[0m\u001b[37m   ⠸ 00477ff4bbe5 Downloading  9.681MB/12.15MB                             6.4s\n",
      "\u001b[0m\u001b[37m   ⠸ 970a5a4847d9 Download complete                                        6.4s\n",
      "\u001b[0m\u001b[37m   ⠸ 4f4fb700ef54 Waiting                                                  6.4s\n",
      "\u001b[0m\u001b[37m   ⠸ f1bbb1bc1e67 Waiting                                                  6.4s\n",
      "\u001b[0m\u001b[?25h\u001b[1A\u001b[1A\u001b[1A\u001b[1A\u001b[1A\u001b[1A\u001b[1A\u001b[1A\u001b[1A\u001b[1A\u001b[0G\u001b[?25l[+] Running 4/9\n",
      "\u001b[37m ⠦ redis Pulling                                                          11.7s\n",
      "\u001b[0m\u001b[34m   ⠿ c30352492317 Pull complete                                            3.3s\n",
      "\u001b[0m\u001b[34m   ⠿ 2e707cb76875 Pull complete                                            3.4s\n",
      "\u001b[0m\u001b[34m   ⠿ 41a20ff430bc Pull complete                                            3.6s\n",
      "\u001b[0m\u001b[34m   ⠿ d326b14c5477 Pull complete                                            4.1s\n",
      "\u001b[0m\u001b[37m   ⠼ 00477ff4bbe5 Downloading   10.2MB/12.15MB                             6.5s\n",
      "\u001b[0m\u001b[37m   ⠼ 970a5a4847d9 Download complete                                        6.5s\n",
      "\u001b[0m\u001b[37m   ⠼ 4f4fb700ef54 Waiting                                                  6.5s\n",
      "\u001b[0m\u001b[37m   ⠼ f1bbb1bc1e67 Waiting                                                  6.5s\n",
      "\u001b[0m\u001b[?25h\u001b[1A\u001b[1A\u001b[1A\u001b[1A\u001b[1A\u001b[1A\u001b[1A\u001b[1A\u001b[1A\u001b[1A\u001b[0G\u001b[?25l[+] Running 4/9\n",
      "\u001b[37m ⠧ redis Pulling                                                          11.8s\n",
      "\u001b[0m\u001b[34m   ⠿ c30352492317 Pull complete                                            3.3s\n",
      "\u001b[0m\u001b[34m   ⠿ 2e707cb76875 Pull complete                                            3.4s\n",
      "\u001b[0m\u001b[34m   ⠿ 41a20ff430bc Pull complete                                            3.6s\n",
      "\u001b[0m\u001b[34m   ⠿ d326b14c5477 Pull complete                                            4.1s\n",
      "\u001b[0m\u001b[37m   ⠴ 00477ff4bbe5 Downloading  10.72MB/12.15MB                             6.6s\n",
      "\u001b[0m\u001b[37m   ⠴ 970a5a4847d9 Download complete                                        6.6s\n",
      "\u001b[0m\u001b[37m   ⠴ 4f4fb700ef54 Waiting                                                  6.6s\n",
      "\u001b[0m\u001b[37m   ⠴ f1bbb1bc1e67 Waiting                                                  6.6s\n",
      "\u001b[0m\u001b[?25h\u001b[1A\u001b[1A\u001b[1A\u001b[1A\u001b[1A\u001b[1A\u001b[1A\u001b[1A\u001b[1A\u001b[1A\u001b[0G\u001b[?25l[+] Running 4/9\n",
      "\u001b[37m ⠇ redis Pulling                                                          11.9s\n",
      "\u001b[0m\u001b[34m   ⠿ c30352492317 Pull complete                                            3.3s\n",
      "\u001b[0m\u001b[34m   ⠿ 2e707cb76875 Pull complete                                            3.4s\n",
      "\u001b[0m\u001b[34m   ⠿ 41a20ff430bc Pull complete                                            3.6s\n",
      "\u001b[0m\u001b[34m   ⠿ d326b14c5477 Pull complete                                            4.1s\n",
      "\u001b[0m\u001b[37m   ⠦ 00477ff4bbe5 Downloading  10.72MB/12.15MB                             6.7s\n",
      "\u001b[0m\u001b[37m   ⠦ 970a5a4847d9 Download complete                                        6.7s\n",
      "\u001b[0m\u001b[37m   ⠦ 4f4fb700ef54 Waiting                                                  6.7s\n",
      "\u001b[0m\u001b[37m   ⠦ f1bbb1bc1e67 Waiting                                                  6.7s\n",
      "\u001b[0m\u001b[?25h\u001b[1A\u001b[1A\u001b[1A\u001b[1A\u001b[1A\u001b[1A\u001b[1A\u001b[1A\u001b[1A\u001b[1A\u001b[0G\u001b[?25l[+] Running 4/9\n",
      "\u001b[37m ⠏ redis Pulling                                                          12.0s\n",
      "\u001b[0m\u001b[34m   ⠿ c30352492317 Pull complete                                            3.3s\n",
      "\u001b[0m\u001b[34m   ⠿ 2e707cb76875 Pull complete                                            3.4s\n",
      "\u001b[0m\u001b[34m   ⠿ 41a20ff430bc Pull complete                                            3.6s\n",
      "\u001b[0m\u001b[34m   ⠿ d326b14c5477 Pull complete                                            4.1s\n",
      "\u001b[0m\u001b[37m   ⠧ 00477ff4bbe5 Downloading    10.72MB/12.15M...                         6.8s\n",
      "\u001b[0m\u001b[37m   ⠧ 970a5a4847d9 Download complete                                        6.8s\n",
      "\u001b[0m\u001b[37m   ⠧ 4f4fb700ef54 Download complete                                        6.8s\n",
      "\u001b[0m\u001b[37m   ⠧ f1bbb1bc1e67 Waiting                                                  6.8s\n",
      "\u001b[0m\u001b[?25h\u001b[1A\u001b[1A\u001b[1A\u001b[1A\u001b[1A\u001b[1A\u001b[1A\u001b[1A\u001b[1A\u001b[1A\u001b[0G\u001b[?25l[+] Running 4/9\n",
      "\u001b[37m ⠋ redis Pulling                                                          12.1s\n",
      "\u001b[0m\u001b[34m   ⠿ c30352492317 Pull complete                                            3.3s\n",
      "\u001b[0m\u001b[34m   ⠿ 2e707cb76875 Pull complete                                            3.4s\n",
      "\u001b[0m\u001b[34m   ⠿ 41a20ff430bc Pull complete                                            3.6s\n",
      "\u001b[0m\u001b[34m   ⠿ d326b14c5477 Pull complete                                            4.1s\n",
      "\u001b[0m\u001b[37m   ⠇ 00477ff4bbe5 Downloading    11.64MB/12.15M...                         6.9s\n",
      "\u001b[0m\u001b[37m   ⠇ 970a5a4847d9 Download complete                                        6.9s\n",
      "\u001b[0m\u001b[37m   ⠇ 4f4fb700ef54 Download complete                                        6.9s\n",
      "\u001b[0m\u001b[37m   ⠇ f1bbb1bc1e67 Waiting                                                  6.9s\n",
      "\u001b[0m\u001b[?25h\u001b[1A\u001b[1A\u001b[1A\u001b[1A\u001b[1A\u001b[1A\u001b[1A\u001b[1A\u001b[1A\u001b[1A\u001b[0G\u001b[?25l[+] Running 4/9\n",
      "\u001b[37m ⠙ redis Pulling                                                          12.2s\n",
      "\u001b[0m\u001b[34m   ⠿ c30352492317 Pull complete                                            3.3s\n",
      "\u001b[0m\u001b[34m   ⠿ 2e707cb76875 Pull complete                                            3.4s\n",
      "\u001b[0m\u001b[34m   ⠿ 41a20ff430bc Pull complete                                            3.6s\n",
      "\u001b[0m\u001b[34m   ⠿ d326b14c5477 Pull complete                                            4.1s\n",
      "\u001b[0m\u001b[37m   ⠏ 00477ff4bbe5 Downloading     11.9MB/12.15M...                         7.0s\n",
      "\u001b[0m\u001b[37m   ⠏ 970a5a4847d9 Download complete                                        7.0s\n",
      "\u001b[0m\u001b[37m   ⠏ 4f4fb700ef54 Download complete                                        7.0s\n",
      "\u001b[0m\u001b[37m   ⠏ f1bbb1bc1e67 Waiting                                                  7.0s\n",
      "\u001b[0m\u001b[?25h\u001b[1A\u001b[1A\u001b[1A\u001b[1A\u001b[1A\u001b[1A\u001b[1A\u001b[1A\u001b[1A\u001b[1A\u001b[0G\u001b[?25l[+] Running 4/9\n",
      "\u001b[37m ⠹ redis Pulling                                                          12.3s\n",
      "\u001b[0m\u001b[34m   ⠿ c30352492317 Pull complete                                            3.3s\n",
      "\u001b[0m\u001b[34m   ⠿ 2e707cb76875 Pull complete                                            3.4s\n",
      "\u001b[0m\u001b[34m   ⠿ 41a20ff430bc Pull complete                                            3.6s\n",
      "\u001b[0m\u001b[34m   ⠿ d326b14c5477 Pull complete                                            4.1s\n",
      "\u001b[0m\u001b[37m   ⠋ 00477ff4bbe5 Extracting     131.1kB/12.15MB                           7.1s\n",
      "\u001b[0m\u001b[37m   ⠋ 970a5a4847d9 Download complete                                        7.1s\n",
      "\u001b[0m\u001b[37m   ⠋ 4f4fb700ef54 Download complete                                        7.1s\n",
      "\u001b[0m\u001b[37m   ⠋ f1bbb1bc1e67 Waiting                                                  7.1s\n",
      "\u001b[0m\u001b[?25h\u001b[1A\u001b[1A\u001b[1A\u001b[1A\u001b[1A\u001b[1A\u001b[1A\u001b[1A\u001b[1A\u001b[1A\u001b[0G\u001b[?25l[+] Running 4/9\n",
      "\u001b[37m ⠸ redis Pulling                                                          12.4s\n",
      "\u001b[0m\u001b[34m   ⠿ c30352492317 Pull complete                                            3.3s\n",
      "\u001b[0m\u001b[34m   ⠿ 2e707cb76875 Pull complete                                            3.4s\n",
      "\u001b[0m\u001b[34m   ⠿ 41a20ff430bc Pull complete                                            3.6s\n",
      "\u001b[0m\u001b[34m   ⠿ d326b14c5477 Pull complete                                            4.1s\n",
      "\u001b[0m\u001b[37m   ⠙ 00477ff4bbe5 Extracting     262.1kB/12.15MB                           7.2s\n",
      "\u001b[0m\u001b[37m   ⠙ 970a5a4847d9 Download complete                                        7.2s\n",
      "\u001b[0m\u001b[37m   ⠙ 4f4fb700ef54 Download complete                                        7.2s\n",
      "\u001b[0m\u001b[37m   ⠙ f1bbb1bc1e67 Waiting                                                  7.2s\n",
      "\u001b[0m\u001b[?25h\u001b[1A\u001b[1A\u001b[1A\u001b[1A\u001b[1A\u001b[1A\u001b[1A\u001b[1A\u001b[1A\u001b[1A\u001b[0G\u001b[?25l[+] Running 4/9\n",
      "\u001b[37m ⠼ redis Pulling                                                          12.5s\n",
      "\u001b[0m\u001b[34m   ⠿ c30352492317 Pull complete                                            3.3s\n",
      "\u001b[0m\u001b[34m   ⠿ 2e707cb76875 Pull complete                                            3.4s\n",
      "\u001b[0m\u001b[34m   ⠿ 41a20ff430bc Pull complete                                            3.6s\n",
      "\u001b[0m\u001b[34m   ⠿ d326b14c5477 Pull complete                                            4.1s\n",
      "\u001b[0m\u001b[37m   ⠹ 00477ff4bbe5 Extracting       5.767MB/12.15...                        7.3s\n",
      "\u001b[0m\u001b[37m   ⠹ 970a5a4847d9 Download complete                                        7.3s\n",
      "\u001b[0m\u001b[37m   ⠹ 4f4fb700ef54 Download complete                                        7.3s\n",
      "\u001b[0m\u001b[37m   ⠹ f1bbb1bc1e67 Download complete                                        7.3s\n",
      "\u001b[0m\u001b[?25h\u001b[1A\u001b[1A\u001b[1A\u001b[1A\u001b[1A\u001b[1A\u001b[1A\u001b[1A\u001b[1A\u001b[1A\u001b[0G\u001b[?25l[+] Running 4/9\n",
      "\u001b[37m ⠴ redis Pulling                                                          12.6s\n",
      "\u001b[0m\u001b[34m   ⠿ c30352492317 Pull complete                                            3.3s\n",
      "\u001b[0m\u001b[34m   ⠿ 2e707cb76875 Pull complete                                            3.4s\n",
      "\u001b[0m\u001b[34m   ⠿ 41a20ff430bc Pull complete                                            3.6s\n",
      "\u001b[0m\u001b[34m   ⠿ d326b14c5477 Pull complete                                            4.1s\n",
      "\u001b[0m\u001b[37m   ⠸ 00477ff4bbe5 Extracting       12.15MB/12.15...                        7.4s\n",
      "\u001b[0m\u001b[37m   ⠸ 970a5a4847d9 Download complete                                        7.4s\n",
      "\u001b[0m\u001b[37m   ⠸ 4f4fb700ef54 Download complete                                        7.4s\n",
      "\u001b[0m\u001b[37m   ⠸ f1bbb1bc1e67 Download complete                                        7.4s\n",
      "\u001b[0m\u001b[?25h\u001b[1A\u001b[1A\u001b[1A\u001b[1A\u001b[1A\u001b[1A\u001b[1A\u001b[1A\u001b[1A\u001b[1A\u001b[0G\u001b[?25l[+] Running 6/9\n",
      "\u001b[37m ⠦ redis Pulling                                                          12.7s\n",
      "\u001b[0m\u001b[34m   ⠿ c30352492317 Pull complete                                            3.3s\n",
      "\u001b[0m\u001b[34m   ⠿ 2e707cb76875 Pull complete                                            3.4s\n",
      "\u001b[0m\u001b[34m   ⠿ 41a20ff430bc Pull complete                                            3.6s\n",
      "\u001b[0m\u001b[34m   ⠿ d326b14c5477 Pull complete                                            4.1s\n",
      "\u001b[0m\u001b[34m   ⠿ 00477ff4bbe5 Pull complete                                            7.4s\n",
      "\u001b[0m\u001b[34m   ⠿ 970a5a4847d9 Pull complete                                            7.5s\n",
      "\u001b[0m\u001b[37m   ⠼ 4f4fb700ef54 Extracting           32B/32B                             7.5s\n",
      "\u001b[0m\u001b[37m   ⠼ f1bbb1bc1e67 Download complete                                        7.5s\n",
      "\u001b[0m\u001b[?25h\u001b[1A\u001b[1A\u001b[1A\u001b[1A\u001b[1A\u001b[1A\u001b[1A\u001b[1A\u001b[1A\u001b[1A\u001b[0G\u001b[?25l\u001b[34m[+] Running 9/9\u001b[0m\n",
      "\u001b[34m ⠿ redis Pulled                                                           12.8s\n",
      "\u001b[0m\u001b[34m   ⠿ c30352492317 Pull complete                                            3.3s\n",
      "\u001b[0m\u001b[34m   ⠿ 2e707cb76875 Pull complete                                            3.4s\n",
      "\u001b[0m\u001b[34m   ⠿ 41a20ff430bc Pull complete                                            3.6s\n",
      "\u001b[0m\u001b[34m   ⠿ d326b14c5477 Pull complete                                            4.1s\n",
      "\u001b[0m\u001b[34m   ⠿ 00477ff4bbe5 Pull complete                                            7.4s\n",
      "\u001b[0m\u001b[34m   ⠿ 970a5a4847d9 Pull complete                                            7.5s\n",
      "\u001b[0m\u001b[34m   ⠿ 4f4fb700ef54 Pull complete                                            7.5s\n",
      "\u001b[0m\u001b[34m   ⠿ f1bbb1bc1e67 Pull complete                                            7.6s\n",
      "\u001b[0m\u001b[?25h\u001b[1A\u001b[1B\u001b[0G\u001b[?25l[+] Building 0.0s (0/0)                                                         \n",
      "\u001b[?25h\u001b[1A\u001b[0G\u001b[?25l[+] Building 0.0s (0/0)                                                         \n",
      "\u001b[?25h\u001b[1A\u001b[0G\u001b[?25l[+] Building 0.0s (0/1)                                                         \n",
      "\u001b[?25h\u001b[1A\u001b[0G\u001b[?25l[+] Building 0.1s (2/3)                                                         \n",
      "\u001b[34m => [internal] load build definition from Dockerfile                       0.0s\n",
      "\u001b[0m\u001b[34m => => transferring dockerfile: 32B                                        0.0s\n",
      "\u001b[0m\u001b[34m => [internal] load .dockerignore                                          0.0s\n",
      "\u001b[0m\u001b[34m => => transferring context: 2B                                            0.0s\n",
      "\u001b[0m => [internal] load metadata for docker.io/library/python:3.10-slim        0.0s\n",
      "\u001b[?25h\u001b[1A\u001b[1A\u001b[1A\u001b[1A\u001b[1A\u001b[1A\u001b[0G\u001b[?25l[+] Building 0.3s (2/3)                                                         \n",
      "\u001b[34m => [internal] load build definition from Dockerfile                       0.0s\n",
      "\u001b[0m\u001b[34m => => transferring dockerfile: 32B                                        0.0s\n",
      "\u001b[0m\u001b[34m => [internal] load .dockerignore                                          0.0s\n",
      "\u001b[0m\u001b[34m => => transferring context: 2B                                            0.0s\n",
      "\u001b[0m => [internal] load metadata for docker.io/library/python:3.10-slim        0.2s\n",
      "\u001b[?25h\u001b[1A\u001b[1A\u001b[1A\u001b[1A\u001b[1A\u001b[1A\u001b[0G\u001b[?25l[+] Building 0.4s (2/3)                                                         \n",
      "\u001b[34m => [internal] load build definition from Dockerfile                       0.0s\n",
      "\u001b[0m\u001b[34m => => transferring dockerfile: 32B                                        0.0s\n",
      "\u001b[0m\u001b[34m => [internal] load .dockerignore                                          0.0s\n",
      "\u001b[0m\u001b[34m => => transferring context: 2B                                            0.0s\n",
      "\u001b[0m => [internal] load metadata for docker.io/library/python:3.10-slim        0.3s\n",
      "\u001b[?25h\u001b[1A\u001b[1A\u001b[1A\u001b[1A\u001b[1A\u001b[1A\u001b[0G\u001b[?25l[+] Building 0.6s (2/3)                                                         \n",
      "\u001b[34m => [internal] load build definition from Dockerfile                       0.0s\n",
      "\u001b[0m\u001b[34m => => transferring dockerfile: 32B                                        0.0s\n",
      "\u001b[0m\u001b[34m => [internal] load .dockerignore                                          0.0s\n",
      "\u001b[0m\u001b[34m => => transferring context: 2B                                            0.0s\n",
      "\u001b[0m => [internal] load metadata for docker.io/library/python:3.10-slim        0.5s\n",
      "\u001b[?25h\u001b[1A\u001b[1A\u001b[1A\u001b[1A\u001b[1A\u001b[1A\u001b[0G\u001b[?25l[+] Building 0.7s (2/3)                                                         \n",
      "\u001b[34m => [internal] load build definition from Dockerfile                       0.0s\n",
      "\u001b[0m\u001b[34m => => transferring dockerfile: 32B                                        0.0s\n",
      "\u001b[0m\u001b[34m => [internal] load .dockerignore                                          0.0s\n",
      "\u001b[0m\u001b[34m => => transferring context: 2B                                            0.0s\n",
      "\u001b[0m => [internal] load metadata for docker.io/library/python:3.10-slim        0.6s\n",
      "\u001b[?25h\u001b[1A\u001b[1A\u001b[1A\u001b[1A\u001b[1A\u001b[1A\u001b[0G\u001b[?25l[+] Building 0.9s (2/3)                                                         \n",
      "\u001b[34m => [internal] load build definition from Dockerfile                       0.0s\n",
      "\u001b[0m\u001b[34m => => transferring dockerfile: 32B                                        0.0s\n",
      "\u001b[0m\u001b[34m => [internal] load .dockerignore                                          0.0s\n",
      "\u001b[0m\u001b[34m => => transferring context: 2B                                            0.0s\n",
      "\u001b[0m => [internal] load metadata for docker.io/library/python:3.10-slim        0.8s\n",
      "\u001b[?25h\u001b[1A\u001b[1A\u001b[1A\u001b[1A\u001b[1A\u001b[1A\u001b[0G\u001b[?25l[+] Building 1.0s (2/3)                                                         \n",
      "\u001b[34m => [internal] load build definition from Dockerfile                       0.0s\n",
      "\u001b[0m\u001b[34m => => transferring dockerfile: 32B                                        0.0s\n",
      "\u001b[0m\u001b[34m => [internal] load .dockerignore                                          0.0s\n",
      "\u001b[0m\u001b[34m => => transferring context: 2B                                            0.0s\n",
      "\u001b[0m => [internal] load metadata for docker.io/library/python:3.10-slim        0.9s\n",
      "\u001b[?25h\u001b[1A\u001b[1A\u001b[1A\u001b[1A\u001b[1A\u001b[1A\u001b[0G\u001b[?25l[+] Building 1.2s (2/3)                                                         \n",
      "\u001b[34m => [internal] load build definition from Dockerfile                       0.0s\n",
      "\u001b[0m\u001b[34m => => transferring dockerfile: 32B                                        0.0s\n",
      "\u001b[0m\u001b[34m => [internal] load .dockerignore                                          0.0s\n",
      "\u001b[0m\u001b[34m => => transferring context: 2B                                            0.0s\n",
      "\u001b[0m => [internal] load metadata for docker.io/library/python:3.10-slim        1.1s\n",
      "\u001b[?25h\u001b[1A\u001b[1A\u001b[1A\u001b[1A\u001b[1A\u001b[1A\u001b[0G\u001b[?25l[+] Building 1.3s (2/3)                                                         \n",
      "\u001b[34m => [internal] load build definition from Dockerfile                       0.0s\n",
      "\u001b[0m\u001b[34m => => transferring dockerfile: 32B                                        0.0s\n",
      "\u001b[0m\u001b[34m => [internal] load .dockerignore                                          0.0s\n",
      "\u001b[0m\u001b[34m => => transferring context: 2B                                            0.0s\n",
      "\u001b[0m => [internal] load metadata for docker.io/library/python:3.10-slim        1.2s\n",
      "\u001b[?25h\u001b[1A\u001b[1A\u001b[1A\u001b[1A\u001b[1A\u001b[1A\u001b[0G\u001b[?25l[+] Building 1.3s (10/10) FINISHED                                              \n",
      "\u001b[34m => [internal] load build definition from Dockerfile                       0.0s\n",
      "\u001b[0m\u001b[34m => => transferring dockerfile: 32B                                        0.0s\n",
      "\u001b[0m\u001b[34m => [internal] load .dockerignore                                          0.0s\n",
      "\u001b[0m\u001b[34m => => transferring context: 2B                                            0.0s\n",
      "\u001b[0m\u001b[34m => [internal] load metadata for docker.io/library/python:3.10-slim        1.2s\n",
      "\u001b[0m\u001b[34m => [internal] load build context                                          0.0s\n",
      "\u001b[0m\u001b[34m => => transferring context: 182B                                          0.0s\n",
      "\u001b[0m\u001b[34m => [1/5] FROM docker.io/library/python:3.10-slim@sha256:25f03d17398b3f00  0.0s\n",
      "\u001b[0m\u001b[34m => CACHED [2/5] WORKDIR /code                                             0.0s\n",
      "\u001b[0m\u001b[34m => CACHED [3/5] COPY ./requirements.txt ./                                0.0s\n",
      "\u001b[0m\u001b[34m => CACHED [4/5] RUN pip install --no-cache-dir --upgrade -r requirements  0.0s\n",
      "\u001b[0m\u001b[34m => CACHED [5/5] COPY ./src ./src                                          0.0s\n",
      "\u001b[0m\u001b[34m => exporting to image                                                     0.0s\n",
      "\u001b[0m\u001b[34m => => exporting layers                                                    0.0s\n",
      "\u001b[0m\u001b[34m => => writing image sha256:8004a4733fb6c9f68021262f00e403d8ae8d408a64ed6  0.0s\n",
      "\u001b[0m\u001b[34m => => naming to docker.io/library/compose-fastapi-server                  0.0s\n",
      "\u001b[0m\u001b[?25h\u001b[1A\u001b[1B\u001b[0G\u001b[?25l[+] Running 0/0\n",
      "\u001b[37m ⠋ Network compose_default  Creating                                       0.0s\n",
      "\u001b[0m\u001b[?25h\u001b[1A\u001b[1A\u001b[0G\u001b[?25l\u001b[34m[+] Running 1/1\u001b[0m\n",
      "\u001b[34m ⠿ Network compose_default    Created                                      0.0s\n",
      "\u001b[0m\u001b[37m ⠋ Container compose-redis-1  Creating                                     0.1s\n",
      "\u001b[0m\u001b[?25h\u001b[1A\u001b[1A\u001b[1A\u001b[0G\u001b[?25l\u001b[34m[+] Running 2/2\u001b[0m\n",
      "\u001b[34m ⠿ Network compose_default             Create...                           0.0s\n",
      "\u001b[0m\u001b[34m ⠿ Container compose-redis-1           Crea...                             0.2s\n",
      "\u001b[0m\u001b[37m ⠋ Container compose-fastapi-server-1  Creating                            0.0s\n",
      "\u001b[0m\u001b[?25h\u001b[1A\u001b[1A\u001b[1A\u001b[1A\u001b[0G\u001b[?25l[+] Running 2/3\n",
      "\u001b[34m ⠿ Network compose_default             Create...                           0.0s\n",
      "\u001b[0m\u001b[37m ⠿ Container compose-redis-1           Star...                             0.3s\n",
      "\u001b[0m\u001b[34m ⠿ Container compose-fastapi-server-1  Created                             0.1s\n",
      "\u001b[0m\u001b[?25h\u001b[1A\u001b[1A\u001b[1A\u001b[1A\u001b[0G\u001b[?25l[+] Running 2/3\n",
      "\u001b[34m ⠿ Network compose_default             Create...                           0.0s\n",
      "\u001b[0m\u001b[37m ⠿ Container compose-redis-1           Star...                             0.4s\n",
      "\u001b[0m\u001b[34m ⠿ Container compose-fastapi-server-1  Created                             0.1s\n",
      "\u001b[0m\u001b[?25h\u001b[1A\u001b[1A\u001b[1A\u001b[1A\u001b[0G\u001b[?25l[+] Running 2/3\n",
      "\u001b[34m ⠿ Network compose_default             Create...                           0.0s\n",
      "\u001b[0m\u001b[37m ⠿ Container compose-redis-1           Star...                             0.5s\n",
      "\u001b[0m\u001b[34m ⠿ Container compose-fastapi-server-1  Created                             0.1s\n",
      "\u001b[0m\u001b[?25h\u001b[1A\u001b[1A\u001b[1A\u001b[1A\u001b[0G\u001b[?25l[+] Running 2/3\n",
      "\u001b[34m ⠿ Network compose_default             Create...                           0.0s\n",
      "\u001b[0m\u001b[37m ⠿ Container compose-redis-1           Star...                             0.6s\n",
      "\u001b[0m\u001b[34m ⠿ Container compose-fastapi-server-1  Created                             0.1s\n",
      "\u001b[0m\u001b[?25h\u001b[1A\u001b[1A\u001b[1A\u001b[1A\u001b[0G\u001b[?25l[+] Running 2/3\n",
      "\u001b[34m ⠿ Network compose_default             Create...                           0.0s\n",
      "\u001b[0m\u001b[37m ⠿ Container compose-redis-1           Star...                             0.7s\n",
      "\u001b[0m\u001b[34m ⠿ Container compose-fastapi-server-1  Created                             0.1s\n",
      "\u001b[0m\u001b[?25h\u001b[1A\u001b[1A\u001b[1A\u001b[1A\u001b[0G\u001b[?25l[+] Running 2/3\n",
      "\u001b[34m ⠿ Network compose_default             Create...                           0.0s\n",
      "\u001b[0m\u001b[34m ⠿ Container compose-redis-1           Star...                             0.7s\n",
      "\u001b[0m\u001b[37m ⠿ Container compose-fastapi-server-1  Starting                            0.6s\n",
      "\u001b[0m\u001b[?25h\u001b[1A\u001b[1A\u001b[1A\u001b[1A\u001b[0G\u001b[?25l[+] Running 2/3\n",
      "\u001b[34m ⠿ Network compose_default             Create...                           0.0s\n",
      "\u001b[0m\u001b[34m ⠿ Container compose-redis-1           Star...                             0.7s\n",
      "\u001b[0m\u001b[37m ⠿ Container compose-fastapi-server-1  Starting                            0.7s\n",
      "\u001b[0m\u001b[?25h\u001b[1A\u001b[1A\u001b[1A\u001b[1A\u001b[0G\u001b[?25l[+] Running 2/3\n",
      "\u001b[34m ⠿ Network compose_default             Create...                           0.0s\n",
      "\u001b[0m\u001b[34m ⠿ Container compose-redis-1           Star...                             0.7s\n",
      "\u001b[0m\u001b[37m ⠿ Container compose-fastapi-server-1  Starting                            0.8s\n",
      "\u001b[0m\u001b[?25h\u001b[1A\u001b[1A\u001b[1A\u001b[1A\u001b[0G\u001b[?25l[+] Running 2/3\n",
      "\u001b[34m ⠿ Network compose_default             Create...                           0.0s\n",
      "\u001b[0m\u001b[34m ⠿ Container compose-redis-1           Star...                             0.7s\n",
      "\u001b[0m\u001b[37m ⠿ Container compose-fastapi-server-1  Starting                            0.9s\n",
      "\u001b[0m\u001b[?25h\u001b[1A\u001b[1A\u001b[1A\u001b[1A\u001b[0G\u001b[?25l\u001b[34m[+] Running 3/3\u001b[0m\n",
      "\u001b[34m ⠿ Network compose_default             Create...                           0.0s\n",
      "\u001b[0m\u001b[34m ⠿ Container compose-redis-1           Star...                             0.7s\n",
      "\u001b[0m\u001b[34m ⠿ Container compose-fastapi-server-1  Started                             0.9s\n",
      "\u001b[0m\u001b[?25h"
     ]
    }
   ],
   "source": [
    "!docker-compose -f \"./containers/compose/docker-compose.yml\" up -d --build"
   ]
  },
  {
   "cell_type": "markdown",
   "metadata": {},
   "source": [
    "**Remark.** Services which are still up will not be rebuilt. As such, these services can persist data and state while rebuilt services have reset state."
   ]
  },
  {
   "cell_type": "code",
   "execution_count": 29,
   "metadata": {},
   "outputs": [
    {
     "name": "stdout",
     "output_type": "stream",
     "text": [
      "NAME                       IMAGE                    COMMAND                  SERVICE             CREATED             STATUS                  PORTS\n",
      "compose-fastapi-server-1   compose-fastapi-server   \"uvicorn src.main:ap…\"   fastapi-server      1 second ago        Up Less than a second   0.0.0.0:5678->5678/tcp, 0.0.0.0:8080->80/tcp\n",
      "compose-redis-1            redis:alpine             \"docker-entrypoint.s…\"   redis               1 second ago        Up Less than a second   6379/tcp\n"
     ]
    }
   ],
   "source": [
    "!docker compose -f \"./containers/compose/docker-compose.yml\" ps"
   ]
  },
  {
   "cell_type": "code",
   "execution_count": 30,
   "metadata": {
    "tags": [
     "remove-cell"
    ]
   },
   "outputs": [],
   "source": [
    "time.sleep(3)"
   ]
  },
  {
   "cell_type": "markdown",
   "metadata": {},
   "source": [
    "Making a request:"
   ]
  },
  {
   "cell_type": "code",
   "execution_count": 31,
   "metadata": {},
   "outputs": [
    {
     "name": "stdout",
     "output_type": "stream",
     "text": [
      "\u001b[34mHTTP\u001b[39;49;00m/\u001b[34m1.1\u001b[39;49;00m \u001b[34m200\u001b[39;49;00m \u001b[36mOK\u001b[39;49;00m\n",
      "\u001b[36mcontent-length\u001b[39;49;00m: 44\n",
      "\u001b[36mcontent-type\u001b[39;49;00m: application/json\n",
      "\u001b[36mdate\u001b[39;49;00m: Wed, 27 Dec 2023 17:31:15 GMT\n",
      "\u001b[36mserver\u001b[39;49;00m: uvicorn\n",
      "\n",
      "{\u001b[37m\u001b[39;49;00m\n",
      "\u001b[37m    \u001b[39;49;00m\u001b[94m\"message\"\u001b[39;49;00m:\u001b[37m \u001b[39;49;00m\u001b[33m\"Hello world!\"\u001b[39;49;00m,\u001b[37m\u001b[39;49;00m\n",
      "\u001b[37m    \u001b[39;49;00m\u001b[94m\"visit_count\"\u001b[39;49;00m:\u001b[37m \u001b[39;49;00m\u001b[33m\"1\"\u001b[39;49;00m\u001b[37m\u001b[39;49;00m\n",
      "}\u001b[37m\u001b[39;49;00m\n",
      "\n",
      "\n"
     ]
    }
   ],
   "source": [
    "!http :8080"
   ]
  },
  {
   "cell_type": "code",
   "execution_count": 32,
   "metadata": {},
   "outputs": [
    {
     "name": "stdout",
     "output_type": "stream",
     "text": [
      "\u001b[34mHTTP\u001b[39;49;00m/\u001b[34m1.1\u001b[39;49;00m \u001b[34m200\u001b[39;49;00m \u001b[36mOK\u001b[39;49;00m\n",
      "\u001b[36mcontent-length\u001b[39;49;00m: 44\n",
      "\u001b[36mcontent-type\u001b[39;49;00m: application/json\n",
      "\u001b[36mdate\u001b[39;49;00m: Wed, 27 Dec 2023 17:31:16 GMT\n",
      "\u001b[36mserver\u001b[39;49;00m: uvicorn\n",
      "\n",
      "{\u001b[37m\u001b[39;49;00m\n",
      "\u001b[37m    \u001b[39;49;00m\u001b[94m\"message\"\u001b[39;49;00m:\u001b[37m \u001b[39;49;00m\u001b[33m\"Hello world!\"\u001b[39;49;00m,\u001b[37m\u001b[39;49;00m\n",
      "\u001b[37m    \u001b[39;49;00m\u001b[94m\"visit_count\"\u001b[39;49;00m:\u001b[37m \u001b[39;49;00m\u001b[33m\"2\"\u001b[39;49;00m\u001b[37m\u001b[39;49;00m\n",
      "}\u001b[37m\u001b[39;49;00m\n",
      "\n",
      "\n"
     ]
    }
   ],
   "source": [
    "!http :8080"
   ]
  },
  {
   "cell_type": "markdown",
   "metadata": {},
   "source": [
    "Monitoring running services resource usage:"
   ]
  },
  {
   "cell_type": "code",
   "execution_count": 33,
   "metadata": {},
   "outputs": [
    {
     "name": "stdout",
     "output_type": "stream",
     "text": [
      "CONTAINER ID   NAME                       CPU %     MEM USAGE / LIMIT     MEM %     NET I/O           BLOCK I/O    PIDS\n",
      "e975c3e4023e   compose-fastapi-server-1   1.35%     54.91MiB / 3.841GiB   1.40%     3.57kB / 2.89kB   0B / 197kB   4\n",
      "86f5c9df191d   compose-redis-1            0.37%     2.812MiB / 3.841GiB   0.07%     2.97kB / 1.36kB   0B / 0B      5\n"
     ]
    }
   ],
   "source": [
    "!docker stats --no-stream $(docker ps --format \"{{.Names}}\" | grep -w 'compose')"
   ]
  },
  {
   "cell_type": "markdown",
   "metadata": {},
   "source": [
    "Teardown:"
   ]
  },
  {
   "cell_type": "code",
   "execution_count": 34,
   "metadata": {
    "tags": [
     "hide-output"
    ]
   },
   "outputs": [
    {
     "name": "stdout",
     "output_type": "stream",
     "text": [
      "\u001b[1A\u001b[1B\u001b[0G\u001b[?25l[+] Running 0/0\n",
      "\u001b[37m ⠋ Container compose-fastapi-server-1  Stopping                            0.1s\n",
      "\u001b[0m\u001b[?25h\u001b[1A\u001b[1A\u001b[0G\u001b[?25l[+] Running 0/1\n",
      "\u001b[37m ⠙ Container compose-fastapi-server-1  Stopping                            0.2s\n",
      "\u001b[0m\u001b[?25h\u001b[1A\u001b[1A\u001b[0G\u001b[?25l[+] Running 0/1\n",
      "\u001b[37m ⠹ Container compose-fastapi-server-1  Stopping                            0.3s\n",
      "\u001b[0m\u001b[?25h\u001b[1A\u001b[1A\u001b[0G\u001b[?25l[+] Running 0/1\n",
      "\u001b[37m ⠸ Container compose-fastapi-server-1  Stopping                            0.4s\n",
      "\u001b[0m\u001b[?25h\u001b[1A\u001b[1A\u001b[0G\u001b[?25l[+] Running 0/1\n",
      "\u001b[37m ⠼ Container compose-fastapi-server-1  Stopping                            0.5s\n",
      "\u001b[0m\u001b[?25h\u001b[1A\u001b[1A\u001b[0G\u001b[?25l\u001b[34m[+] Running 1/1\u001b[0m\n",
      "\u001b[34m ⠿ Container compose-fastapi-server-1  Removed                             0.5s\n",
      "\u001b[0m\u001b[37m ⠋ Container compose-redis-1           Stop...                             0.1s\n",
      "\u001b[0m\u001b[?25h\u001b[1A\u001b[1A\u001b[1A\u001b[0G\u001b[?25l[+] Running 1/2\n",
      "\u001b[34m ⠿ Container compose-fastapi-server-1  Removed                             0.5s\n",
      "\u001b[0m\u001b[37m ⠙ Container compose-redis-1           Stop...                             0.2s\n",
      "\u001b[0m\u001b[?25h\u001b[1A\u001b[1A\u001b[1A\u001b[0G\u001b[?25l\u001b[34m[+] Running 2/2\u001b[0m\n",
      "\u001b[34m ⠿ Container compose-fastapi-server-1  Removed                             0.5s\n",
      "\u001b[0m\u001b[34m ⠿ Container compose-redis-1           Remo...                             0.2s\n",
      "\u001b[0m\u001b[37m ⠋ Network compose_default             Removi...                           0.0s\n",
      "\u001b[0m\u001b[?25h\u001b[1A\u001b[1A\u001b[1A\u001b[1A\u001b[0G\u001b[?25l\u001b[34m[+] Running 3/3\u001b[0m\n",
      "\u001b[34m ⠿ Container compose-fastapi-server-1  Removed                             0.5s\n",
      "\u001b[0m\u001b[34m ⠿ Container compose-redis-1           Remo...                             0.2s\n",
      "\u001b[0m\u001b[34m ⠿ Network compose_default             Remove...                           0.1s\n",
      "\u001b[0m\u001b[?25h"
     ]
    }
   ],
   "source": [
    "!docker compose -f \"./containers/compose/docker-compose.yml\" down"
   ]
  },
  {
   "cell_type": "markdown",
   "metadata": {},
   "source": [
    "## Readings: Best practices"
   ]
  },
  {
   "cell_type": "markdown",
   "metadata": {},
   "source": [
    "* [What is the best way to pass AWS credentials to a Docker container?](https://stackoverflow.com/a/76191745/1091950)\n",
    "* [Security best practices](https://docs.docker.com/develop/security-best-practices/)\n",
    "* [Optimizing builds with cache management](https://docs.docker.com/build/cache/)\n",
    "* [Docker Best Practices for Python Developers](https://testdriven.io/blog/docker-best-practices/)"
   ]
  }
 ],
 "metadata": {
  "kernelspec": {
   "display_name": "ai",
   "language": "python",
   "name": "python3"
  },
  "language_info": {
   "codemirror_mode": {
    "name": "ipython",
    "version": 3
   },
   "file_extension": ".py",
   "mimetype": "text/x-python",
   "name": "python",
   "nbconvert_exporter": "python",
   "pygments_lexer": "ipython3",
   "version": "3.9.15"
  }
 },
 "nbformat": 4,
 "nbformat_minor": 2
}
