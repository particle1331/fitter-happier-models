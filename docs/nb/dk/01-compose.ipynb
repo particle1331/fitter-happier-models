{
 "cells": [
  {
   "attachments": {},
   "cell_type": "markdown",
   "metadata": {},
   "source": [
    "# Docker Compose"
   ]
  },
  {
   "attachments": {},
   "cell_type": "markdown",
   "metadata": {},
   "source": [
    "![Status](https://img.shields.io/static/v1.svg?label=Status&message=Finished&color=brightgreen)\n",
    "[![Source](https://img.shields.io/static/v1.svg?label=GitHub&message=Source&color=181717&logo=GitHub)](https://github.com/particle1331/ok-transformer/blob/master/docs/nb/dk/01-compose.ipynb)\n",
    "[![Stars](https://img.shields.io/github/stars/particle1331/ok-transformer?style=social)](https://github.com/particle1331/ok-transformer)\n",
    "\n",
    "---\n",
    "\n",
    "## Introduction"
   ]
  },
  {
   "attachments": {},
   "cell_type": "markdown",
   "metadata": {},
   "source": [
    "Multi-container application requires setting up run and builds, volumes, as well as networking between multiple services. This can be tedious to setup and teardown for each build and run, e.g. during development when refactoring related interfaces between services. \n",
    "[Docker Compose](https://docs.docker.com/compose/) allows us to collect all of this in an intuitive and human-readable format using a `docker-compose.yaml` file. Docker Compose also automatically takes care of networking between containers as well as logs and status for the whole ensemble. The idea is that multiple containers which function as a single entity should be managed as a single entity. To demonstrate a use case, we create two services consisting of a simple web application and a [redis](https://redis.io/) server as in-memory database."
   ]
  },
  {
   "attachments": {},
   "cell_type": "markdown",
   "metadata": {},
   "source": [
    "## FastAPI app"
   ]
  },
  {
   "attachments": {},
   "cell_type": "markdown",
   "metadata": {},
   "source": [
    "First we create a simple FastAPI web app. This installs pipenv on system python which is generally not recommended, but is fine here because of container isolation. This will demonstrate how to run a web application using Docker. This app defines a single endpoint: "
   ]
  },
  {
   "attachments": {},
   "cell_type": "markdown",
   "metadata": {},
   "source": [
    "```python\n",
    "@app.get(\"/\")\n",
    "def hello():\n",
    "    return {\"message\": \"hello, world!\"}\n",
    "```"
   ]
  },
  {
   "attachments": {},
   "cell_type": "markdown",
   "metadata": {},
   "source": [
    "### Build"
   ]
  },
  {
   "attachments": {},
   "cell_type": "markdown",
   "metadata": {},
   "source": [
    "Setting `/usr/app` as the **working directory**. This is where all subsequent build commands will be executed. The copy command can be confusing. See the following figure. Note that we structure the application so that source files are separated in a `/src` folder while the other project files are in the root folder."
   ]
  },
  {
   "cell_type": "code",
   "execution_count": 78,
   "metadata": {},
   "outputs": [
    {
     "name": "stdout",
     "output_type": "stream",
     "text": [
      "FROM python:3.9.15-slim\n",
      "\n",
      "RUN pip install -U pip\n",
      "RUN pip install pipenv\n",
      "\n",
      "WORKDIR /usr/app\n",
      "\n",
      "COPY Pipfile Pipfile.lock ./\n",
      "RUN pipenv install --system --deploy\n",
      "\n",
      "COPY ./src/ ./src/\n",
      "\n",
      "CMD uvicorn src.main:app --port 8080 --host 0.0.0.0\n"
     ]
    }
   ],
   "source": [
    "!cat simple-web/Dockerfile"
   ]
  },
  {
   "attachments": {},
   "cell_type": "markdown",
   "metadata": {},
   "source": [
    "```{figure} diagrams/01-copy.svg\n",
    "---\n",
    "width: 330px\n",
    "name: copy\n",
    "---\n",
    "Copies files from a local path to a path inside the container. The trailing `/` is important.\n",
    "```"
   ]
  },
  {
   "attachments": {},
   "cell_type": "markdown",
   "metadata": {},
   "source": [
    "Building:"
   ]
  },
  {
   "cell_type": "code",
   "execution_count": 90,
   "metadata": {
    "tags": []
   },
   "outputs": [
    {
     "name": "stdout",
     "output_type": "stream",
     "text": [
      "sha256:b24449de78e7f20e0956c0fcec900608e09778c01d00c03b6f13a5eb22a1e447\n",
      "fc22c2dee362fd29039db28f0521aa7691cb6459ceade203f00a3c050b10775f\n"
     ]
    }
   ],
   "source": [
    "!docker build simple-web -t okt/simple-web --quiet\n",
    "!docker run --rm -d okt/simple-web:latest"
   ]
  },
  {
   "attachments": {},
   "cell_type": "markdown",
   "metadata": {},
   "source": [
    "Checking if the file structure is as intended:"
   ]
  },
  {
   "cell_type": "code",
   "execution_count": 88,
   "metadata": {},
   "outputs": [
    {
     "name": "stdout",
     "output_type": "stream",
     "text": [
      "\u001b[01;34msimple-web\u001b[0m\n",
      "├── \u001b[00mDockerfile\u001b[0m\n",
      "├── \u001b[00mPipfile\u001b[0m\n",
      "├── \u001b[00mPipfile.lock\u001b[0m\n",
      "└── \u001b[01;34msrc\u001b[0m\n",
      "    └── \u001b[00mmain.py\u001b[0m\n",
      "\n",
      "2 directories, 4 files\n"
     ]
    }
   ],
   "source": [
    "!tree simple-web"
   ]
  },
  {
   "cell_type": "code",
   "execution_count": 91,
   "metadata": {
    "tags": []
   },
   "outputs": [
    {
     "name": "stdout",
     "output_type": "stream",
     "text": [
      ".\n",
      "├── Pipfile\n",
      "├── Pipfile.lock\n",
      "└── src\n",
      "    ├── __pycache__\n",
      "    │   └── main.cpython-39.pyc\n",
      "    └── main.py\n",
      "\n",
      "2 directories, 4 files\n"
     ]
    }
   ],
   "source": [
    "!docker exec fc22c2dee362 apt update > /dev/null\n",
    "!docker exec fc22c2dee362 apt install tree > /dev/null\n",
    "!docker exec fc22c2dee362 tree"
   ]
  },
  {
   "attachments": {},
   "cell_type": "markdown",
   "metadata": {},
   "source": [
    "### Setting up ports"
   ]
  },
  {
   "cell_type": "code",
   "execution_count": 92,
   "metadata": {},
   "outputs": [
    {
     "name": "stdout",
     "output_type": "stream",
     "text": [
      "INFO:     Started server process [7]\n",
      "INFO:     Waiting for application startup.\n",
      "INFO:     Application startup complete.\n",
      "INFO:     Uvicorn running on http://0.0.0.0:8080 (Press CTRL+C to quit)\n"
     ]
    }
   ],
   "source": [
    "!docker logs fc22c2dee362"
   ]
  },
  {
   "attachments": {},
   "cell_type": "markdown",
   "metadata": {},
   "source": [
    "Note that this port is not accessible to us. To access this, we have to publish ports:"
   ]
  },
  {
   "cell_type": "code",
   "execution_count": 93,
   "metadata": {},
   "outputs": [
    {
     "name": "stdout",
     "output_type": "stream",
     "text": [
      "\u001b[31m\n",
      "http: LogLevel.ERROR: ConnectionError: HTTPConnectionPool(host='localhost', port=8080): Max retries exceeded with url: / (Caused by NewConnectionError('<urllib3.connection.HTTPConnection object at 0x1060cdbd0>: Failed to establish a new connection: [Errno 61] Connection refused')) while doing a GET request to URL: http://localhost:8080/\n",
      "\n",
      "\u001b[0m\u001b[31m\n",
      "\u001b[0m"
     ]
    }
   ],
   "source": [
    "!http :8080/"
   ]
  },
  {
   "cell_type": "markdown",
   "metadata": {},
   "source": [
    "<br>\n",
    "\n",
    "```{figure} diagrams/01-port-mapping.svg\n",
    "---\n",
    "width: 800px\n",
    "name: port\n",
    "---\n",
    "Route incoming requests to port 3000 on local host to port 8080 inside the container.\n",
    "```"
   ]
  },
  {
   "cell_type": "code",
   "execution_count": 98,
   "metadata": {},
   "outputs": [
    {
     "name": "stdout",
     "output_type": "stream",
     "text": [
      "9cc1e3571ce17a64ec55cc24dfaa22f27280ed85e8fd519aaf7c90550227b5ee\n"
     ]
    }
   ],
   "source": [
    "!docker run --rm -d -p 3000:8080 okt/simple-web:latest"
   ]
  },
  {
   "cell_type": "code",
   "execution_count": 100,
   "metadata": {},
   "outputs": [
    {
     "name": "stdout",
     "output_type": "stream",
     "text": [
      "\u001b[34mHTTP\u001b[39;49;00m/\u001b[34m1.1\u001b[39;49;00m \u001b[34m200\u001b[39;49;00m \u001b[36mOK\u001b[39;49;00m\n",
      "\u001b[36mcontent-length\u001b[39;49;00m: 27\n",
      "\u001b[36mcontent-type\u001b[39;49;00m: application/json\n",
      "\u001b[36mdate\u001b[39;49;00m: Fri, 24 Mar 2023 16:42:58 GMT\n",
      "\u001b[36mserver\u001b[39;49;00m: uvicorn\n",
      "\n",
      "{\u001b[37m\u001b[39;49;00m\n",
      "\u001b[37m    \u001b[39;49;00m\u001b[94m\"message\"\u001b[39;49;00m:\u001b[37m \u001b[39;49;00m\u001b[33m\"hello, world!\"\u001b[39;49;00m\u001b[37m\u001b[39;49;00m\n",
      "}\u001b[37m\u001b[39;49;00m\n",
      "\n",
      "\n"
     ]
    }
   ],
   "source": [
    "!http GET :3000/"
   ]
  },
  {
   "cell_type": "code",
   "execution_count": 101,
   "metadata": {
    "tags": [
     "hide-cell",
     "remove-cell"
    ]
   },
   "outputs": [
    {
     "name": "stdout",
     "output_type": "stream",
     "text": [
      "9cc1e3571\n"
     ]
    }
   ],
   "source": [
    "!docker stop 9cc1e3571"
   ]
  },
  {
   "attachments": {},
   "cell_type": "markdown",
   "metadata": {},
   "source": [
    "## Multiple services"
   ]
  },
  {
   "attachments": {},
   "cell_type": "markdown",
   "metadata": {},
   "source": [
    "Here we will build a web server which extends a bit the above simple web app to display the number of visits of a page. This responds to HTTP requests and generates HTML to show inside a browser. To actually store the number of times a page is visited, we will make use of a little redis server. Note that we can install the redis server inside the web server itself. But this setup does not scale well, e.g. to having multiple servers that depend on the same number of visits value. Also, we lose all our data when the web server fails. So this is a more robust setup."
   ]
  },
  {
   "attachments": {},
   "cell_type": "markdown",
   "metadata": {},
   "source": [
    "### Web server"
   ]
  },
  {
   "attachments": {},
   "cell_type": "markdown",
   "metadata": {},
   "source": [
    "Our web server will implement the following endpoint. Notice that the host is `redis-server` instead of a URL. This is one magic of using `docker-compose` where we only need to specify the name of our service. This is discussed in the next section."
   ]
  },
  {
   "attachments": {},
   "cell_type": "markdown",
   "metadata": {},
   "source": [
    "```python\n",
    "app = FastAPI()\n",
    "r = redis.Redis(host='redis-server', port=6379)\n",
    "if not r.exists('visits'):\n",
    "    r.set('visits', 0)\n",
    "\n",
    "\n",
    "@app.get(\"/\", response_class=HTMLResponse)\n",
    "def home():\n",
    "    visits = int(r.get('visits')) + 1\n",
    "    r.set('visits', visits)\n",
    "    return f\"Number of visits: {visits}\"\n",
    "```"
   ]
  },
  {
   "attachments": {},
   "cell_type": "markdown",
   "metadata": {},
   "source": [
    "The Dockerfile for this service is almost the same as our simple web app above. Note that we deploy using [gunicorn with uvicorn workers](https://fastapi.tiangolo.com/deployment/server-workers/) as recommended in the docs. "
   ]
  },
  {
   "cell_type": "code",
   "execution_count": 165,
   "metadata": {},
   "outputs": [
    {
     "name": "stdout",
     "output_type": "stream",
     "text": [
      "FROM python:3.9.15-slim\n",
      "\n",
      "RUN pip install -U pip\n",
      "RUN pip install pipenv\n",
      "\n",
      "WORKDIR /usr/app\n",
      "\n",
      "COPY Pipfile Pipfile.lock ./\n",
      "RUN pipenv install --system --deploy\n",
      "\n",
      "COPY ./src/ ./src/\n",
      "\n",
      "CMD gunicorn src.main:app --workers 1 --worker-class uvicorn.workers.UvicornWorker --bind 0.0.0.0:8081\n"
     ]
    }
   ],
   "source": [
    "!cat visits/app/Dockerfile"
   ]
  },
  {
   "attachments": {},
   "cell_type": "markdown",
   "metadata": {},
   "source": [
    "### Redis DB"
   ]
  },
  {
   "attachments": {},
   "cell_type": "markdown",
   "metadata": {},
   "source": [
    "For our redis server, we simply pull the image from Docker Hub."
   ]
  },
  {
   "cell_type": "code",
   "execution_count": 102,
   "metadata": {},
   "outputs": [
    {
     "name": "stdout",
     "output_type": "stream",
     "text": [
      "10035603adf079b136d42c013e8b86fb7037806aa2f2f93945efec0263b4e939\n"
     ]
    }
   ],
   "source": [
    "!docker run --rm -d redis"
   ]
  },
  {
   "cell_type": "code",
   "execution_count": 103,
   "metadata": {},
   "outputs": [
    {
     "name": "stdout",
     "output_type": "stream",
     "text": [
      "1:C 24 Mar 2023 19:08:17.571 # oO0OoO0OoO0Oo Redis is starting oO0OoO0OoO0Oo\n",
      "1:C 24 Mar 2023 19:08:17.572 # Redis version=7.0.10, bits=64, commit=00000000, modified=0, pid=1, just started\n",
      "1:C 24 Mar 2023 19:08:17.572 # Warning: no config file specified, using the default config. In order to specify a config file use redis-server /path/to/redis.conf\n",
      "1:M 24 Mar 2023 19:08:17.572 * monotonic clock: POSIX clock_gettime\n",
      "1:M 24 Mar 2023 19:08:17.573 * Running mode=standalone, port=6379.\n",
      "1:M 24 Mar 2023 19:08:17.573 # Server initialized\n",
      "1:M 24 Mar 2023 19:08:17.576 * Ready to accept connections\n"
     ]
    }
   ],
   "source": [
    "!docker logs 10035603ad"
   ]
  },
  {
   "attachments": {},
   "cell_type": "markdown",
   "metadata": {},
   "source": [
    "Setting visit count initially to zero:"
   ]
  },
  {
   "cell_type": "code",
   "execution_count": 105,
   "metadata": {},
   "outputs": [
    {
     "name": "stdout",
     "output_type": "stream",
     "text": [
      "OK\n"
     ]
    }
   ],
   "source": [
    "!docker exec 10035603ad redis-cli set visits 0"
   ]
  },
  {
   "cell_type": "code",
   "execution_count": 106,
   "metadata": {},
   "outputs": [
    {
     "name": "stdout",
     "output_type": "stream",
     "text": [
      "0\n"
     ]
    }
   ],
   "source": [
    "!docker exec 10035603ad redis-cli get visits"
   ]
  },
  {
   "attachments": {},
   "cell_type": "markdown",
   "metadata": {},
   "source": [
    "## Docker Compose"
   ]
  },
  {
   "attachments": {},
   "cell_type": "markdown",
   "metadata": {},
   "source": [
    "As mentioned, to manage our two services easily, we use `docker-compose` version 3. Here services means our two containers which perform two specific purposes. To configure, we have to specify a `docker-compose.yml` file. "
   ]
  },
  {
   "cell_type": "code",
   "execution_count": 166,
   "metadata": {},
   "outputs": [
    {
     "name": "stdout",
     "output_type": "stream",
     "text": [
      "version: '3'\n",
      "services:\n",
      "  redis-server:\n",
      "    image: redis\n",
      "  web-server:\n",
      "    restart: on-failure\n",
      "    build: app\n",
      "    ports:\n",
      "      - 3001:8081\n"
     ]
    }
   ],
   "source": [
    "!cat visits/docker-compose.yml"
   ]
  },
  {
   "attachments": {},
   "cell_type": "markdown",
   "metadata": {},
   "source": [
    "As mentioned above, the redis server built from the `redis` image (pulled if not locally available) will be hosted on the host `'redis-server'` which will be accessible from the `web-server` app. The build path `app/` specifies the location of the Dockerfile for this service relative to the YAML file. Finally, we have to publish the container port 8081 to 3001 on our local machine which runs the Docker server. The ports is a list as indicated by `-`, so we can publish as many ports as we want."
   ]
  },
  {
   "cell_type": "code",
   "execution_count": 167,
   "metadata": {},
   "outputs": [
    {
     "name": "stdout",
     "output_type": "stream",
     "text": [
      "\u001b[01;34mvisits\u001b[0m\n",
      "├── \u001b[01;34mapp\u001b[0m\n",
      "│   ├── \u001b[00mDockerfile\u001b[0m\n",
      "│   ├── \u001b[00mPipfile\u001b[0m\n",
      "│   ├── \u001b[00mPipfile.lock\u001b[0m\n",
      "│   └── \u001b[01;34msrc\u001b[0m\n",
      "│       └── \u001b[00mmain.py\u001b[0m\n",
      "└── \u001b[00mdocker-compose.yml\u001b[0m\n",
      "\n",
      "3 directories, 5 files\n"
     ]
    }
   ],
   "source": [
    "!tree visits"
   ]
  },
  {
   "attachments": {},
   "cell_type": "markdown",
   "metadata": {},
   "source": [
    "If we have another service that we manually build (i.e. not simply pull), it will be in the same level as `app/`. The `docker-compose.yml` file is on the same level as the service directories. Here we only have one."
   ]
  },
  {
   "attachments": {},
   "cell_type": "markdown",
   "metadata": {},
   "source": [
    "### Compose up"
   ]
  },
  {
   "attachments": {},
   "cell_type": "markdown",
   "metadata": {},
   "source": [
    "The `--build` flag rebuilds the images. This is not really necessary for a first build since the images are automatically built with `docker-compose up` if the images are not available. Running the entire ensemble:"
   ]
  },
  {
   "cell_type": "code",
   "execution_count": 181,
   "metadata": {
    "tags": [
     "hide-output"
    ]
   },
   "outputs": [
    {
     "name": "stdout",
     "output_type": "stream",
     "text": [
      "\u001b[1A\u001b[1B\u001b[0G\u001b[?25l[+] Building 0.0s (0/0)                                                         \n",
      "\u001b[?25h\u001b[1A\u001b[0G\u001b[?25l[+] Building 0.0s (0/1)                                                         \n",
      "\u001b[?25h\u001b[1A\u001b[0G\u001b[?25l[+] Building 0.2s (2/3)                                                         \n",
      "\u001b[34m => [internal] load build definition from Dockerfile                       0.0s\n",
      "\u001b[0m\u001b[34m => => transferring dockerfile: 32B                                        0.0s\n",
      "\u001b[0m\u001b[34m => [internal] load .dockerignore                                          0.0s\n",
      "\u001b[0m\u001b[34m => => transferring context: 2B                                            0.0s\n",
      "\u001b[0m => [internal] load metadata for docker.io/library/python:3.9.15-slim      0.1s\n",
      "\u001b[?25h\u001b[1A\u001b[1A\u001b[1A\u001b[1A\u001b[1A\u001b[1A\u001b[0G\u001b[?25l[+] Building 0.3s (2/3)                                                         \n",
      "\u001b[34m => [internal] load build definition from Dockerfile                       0.0s\n",
      "\u001b[0m\u001b[34m => => transferring dockerfile: 32B                                        0.0s\n",
      "\u001b[0m\u001b[34m => [internal] load .dockerignore                                          0.0s\n",
      "\u001b[0m\u001b[34m => => transferring context: 2B                                            0.0s\n",
      "\u001b[0m => [internal] load metadata for docker.io/library/python:3.9.15-slim      0.2s\n",
      "\u001b[?25h\u001b[1A\u001b[1A\u001b[1A\u001b[1A\u001b[1A\u001b[1A\u001b[0G\u001b[?25l[+] Building 0.5s (2/3)                                                         \n",
      "\u001b[34m => [internal] load build definition from Dockerfile                       0.0s\n",
      "\u001b[0m\u001b[34m => => transferring dockerfile: 32B                                        0.0s\n",
      "\u001b[0m\u001b[34m => [internal] load .dockerignore                                          0.0s\n",
      "\u001b[0m\u001b[34m => => transferring context: 2B                                            0.0s\n",
      "\u001b[0m => [internal] load metadata for docker.io/library/python:3.9.15-slim      0.4s\n",
      "\u001b[?25h\u001b[1A\u001b[1A\u001b[1A\u001b[1A\u001b[1A\u001b[1A\u001b[0G\u001b[?25l[+] Building 0.6s (2/3)                                                         \n",
      "\u001b[34m => [internal] load build definition from Dockerfile                       0.0s\n",
      "\u001b[0m\u001b[34m => => transferring dockerfile: 32B                                        0.0s\n",
      "\u001b[0m\u001b[34m => [internal] load .dockerignore                                          0.0s\n",
      "\u001b[0m\u001b[34m => => transferring context: 2B                                            0.0s\n",
      "\u001b[0m => [internal] load metadata for docker.io/library/python:3.9.15-slim      0.5s\n",
      "\u001b[?25h\u001b[1A\u001b[1A\u001b[1A\u001b[1A\u001b[1A\u001b[1A\u001b[0G\u001b[?25l[+] Building 0.8s (2/3)                                                         \n",
      "\u001b[34m => [internal] load build definition from Dockerfile                       0.0s\n",
      "\u001b[0m\u001b[34m => => transferring dockerfile: 32B                                        0.0s\n",
      "\u001b[0m\u001b[34m => [internal] load .dockerignore                                          0.0s\n",
      "\u001b[0m\u001b[34m => => transferring context: 2B                                            0.0s\n",
      "\u001b[0m => [internal] load metadata for docker.io/library/python:3.9.15-slim      0.7s\n",
      "\u001b[?25h\u001b[1A\u001b[1A\u001b[1A\u001b[1A\u001b[1A\u001b[1A\u001b[0G\u001b[?25l[+] Building 0.9s (2/3)                                                         \n",
      "\u001b[34m => [internal] load build definition from Dockerfile                       0.0s\n",
      "\u001b[0m\u001b[34m => => transferring dockerfile: 32B                                        0.0s\n",
      "\u001b[0m\u001b[34m => [internal] load .dockerignore                                          0.0s\n",
      "\u001b[0m\u001b[34m => => transferring context: 2B                                            0.0s\n",
      "\u001b[0m => [internal] load metadata for docker.io/library/python:3.9.15-slim      0.8s\n",
      "\u001b[?25h\u001b[1A\u001b[1A\u001b[1A\u001b[1A\u001b[1A\u001b[1A\u001b[0G\u001b[?25l[+] Building 1.1s (2/3)                                                         \n",
      "\u001b[34m => [internal] load build definition from Dockerfile                       0.0s\n",
      "\u001b[0m\u001b[34m => => transferring dockerfile: 32B                                        0.0s\n",
      "\u001b[0m\u001b[34m => [internal] load .dockerignore                                          0.0s\n",
      "\u001b[0m\u001b[34m => => transferring context: 2B                                            0.0s\n",
      "\u001b[0m => [internal] load metadata for docker.io/library/python:3.9.15-slim      1.0s\n",
      "\u001b[?25h\u001b[1A\u001b[1A\u001b[1A\u001b[1A\u001b[1A\u001b[1A\u001b[0G\u001b[?25l[+] Building 1.2s (2/3)                                                         \n",
      "\u001b[34m => [internal] load build definition from Dockerfile                       0.0s\n",
      "\u001b[0m\u001b[34m => => transferring dockerfile: 32B                                        0.0s\n",
      "\u001b[0m\u001b[34m => [internal] load .dockerignore                                          0.0s\n",
      "\u001b[0m\u001b[34m => => transferring context: 2B                                            0.0s\n",
      "\u001b[0m => [internal] load metadata for docker.io/library/python:3.9.15-slim      1.1s\n",
      "\u001b[?25h\u001b[1A\u001b[1A\u001b[1A\u001b[1A\u001b[1A\u001b[1A\u001b[0G\u001b[?25l[+] Building 1.2s (12/12) FINISHED                                              \n",
      "\u001b[34m => [internal] load build definition from Dockerfile                       0.0s\n",
      "\u001b[0m\u001b[34m => => transferring dockerfile: 32B                                        0.0s\n",
      "\u001b[0m\u001b[34m => [internal] load .dockerignore                                          0.0s\n",
      "\u001b[0m\u001b[34m => => transferring context: 2B                                            0.0s\n",
      "\u001b[0m\u001b[34m => [internal] load metadata for docker.io/library/python:3.9.15-slim      1.1s\n",
      "\u001b[0m\u001b[34m => [1/7] FROM docker.io/library/python:3.9.15-slim@sha256:ffc6cb648d6993  0.0s\n",
      "\u001b[0m\u001b[34m => [internal] load build context                                          0.0s\n",
      "\u001b[0m\u001b[34m => => transferring context: 116B                                          0.0s\n",
      "\u001b[0m\u001b[34m => CACHED [2/7] RUN pip install -U pip                                    0.0s\n",
      "\u001b[0m\u001b[34m => CACHED [3/7] RUN pip install pipenv                                    0.0s\n",
      "\u001b[0m\u001b[34m => CACHED [4/7] WORKDIR /usr/app                                          0.0s\n",
      "\u001b[0m\u001b[34m => CACHED [5/7] COPY Pipfile Pipfile.lock ./                              0.0s\n",
      "\u001b[0m\u001b[34m => CACHED [6/7] RUN pipenv install --system --deploy                      0.0s\n",
      "\u001b[0m\u001b[34m => CACHED [7/7] COPY ./src/ ./src/                                        0.0s\n",
      "\u001b[0m\u001b[34m => exporting to image                                                     0.0s\n",
      "\u001b[0m\u001b[34m => => exporting layers                                                    0.0s\n",
      "\u001b[0m\u001b[34m => => writing image sha256:c84827e864cf0600280e8973db8dde8f2532ec99db6c6  0.0s\n",
      "\u001b[0m\u001b[34m => => naming to docker.io/library/visits-web-server                       0.0s\n",
      "\u001b[0m\u001b[?25h\u001b[1A\u001b[1B\u001b[0G\u001b[?25l[+] Running 0/0\n",
      "\u001b[37m ⠋ Network visits_default  Creating                                        0.0s\n",
      "\u001b[0m\u001b[?25h\u001b[1A\u001b[1A\u001b[0G\u001b[?25l\u001b[34m[+] Running 1/1\u001b[0m\n",
      "\u001b[34m ⠿ Network visits_default           Created                                0.0s\n",
      "\u001b[0m\u001b[37m ⠿ Container visits-redis-server-1  S...                                   0.1s\n",
      "\u001b[0m\u001b[37m ⠿ Container visits-web-server-1    Sta...                                 0.1s\n",
      "\u001b[0m\u001b[?25h\u001b[1A\u001b[1A\u001b[1A\u001b[1A\u001b[0G\u001b[?25l[+] Running 1/3\n",
      "\u001b[34m ⠿ Network visits_default           Created                                0.0s\n",
      "\u001b[0m\u001b[37m ⠿ Container visits-redis-server-1  S...                                   0.2s\n",
      "\u001b[0m\u001b[37m ⠿ Container visits-web-server-1    Sta...                                 0.2s\n",
      "\u001b[0m\u001b[?25h\u001b[1A\u001b[1A\u001b[1A\u001b[1A\u001b[0G\u001b[?25l[+] Running 1/3\n",
      "\u001b[34m ⠿ Network visits_default           Created                                0.0s\n",
      "\u001b[0m\u001b[37m ⠿ Container visits-redis-server-1  S...                                   0.3s\n",
      "\u001b[0m\u001b[37m ⠿ Container visits-web-server-1    Sta...                                 0.3s\n",
      "\u001b[0m\u001b[?25h\u001b[1A\u001b[1A\u001b[1A\u001b[1A\u001b[0G\u001b[?25l[+] Running 1/3\n",
      "\u001b[34m ⠿ Network visits_default           Created                                0.0s\n",
      "\u001b[0m\u001b[37m ⠿ Container visits-redis-server-1  S...                                   0.4s\n",
      "\u001b[0m\u001b[37m ⠿ Container visits-web-server-1    Sta...                                 0.4s\n",
      "\u001b[0m\u001b[?25h\u001b[1A\u001b[1A\u001b[1A\u001b[1A\u001b[0G\u001b[?25l[+] Running 2/3\n",
      "\u001b[34m ⠿ Network visits_default           Created                                0.0s\n",
      "\u001b[0m\u001b[34m ⠿ Container visits-redis-server-1  S...                                   0.5s\n",
      "\u001b[0m\u001b[37m ⠿ Container visits-web-server-1    Sta...                                 0.5s\n",
      "\u001b[0m\u001b[?25h\u001b[1A\u001b[1A\u001b[1A\u001b[1A\u001b[0G\u001b[?25l\u001b[34m[+] Running 3/3\u001b[0m\n",
      "\u001b[34m ⠿ Network visits_default           Created                                0.0s\n",
      "\u001b[0m\u001b[34m ⠿ Container visits-redis-server-1  S...                                   0.5s\n",
      "\u001b[0m\u001b[34m ⠿ Container visits-web-server-1    Sta...                                 0.5s\n",
      "\u001b[0m\u001b[?25h"
     ]
    }
   ],
   "source": [
    "!docker-compose --project-directory visits up -d --build"
   ]
  },
  {
   "attachments": {},
   "cell_type": "markdown",
   "metadata": {},
   "source": [
    "It is important to note the other services which has no change will not be rebuilt. These services can persist data and state while rebuilt services have reset state. To view running processes, we use:"
   ]
  },
  {
   "cell_type": "code",
   "execution_count": 182,
   "metadata": {},
   "outputs": [
    {
     "name": "stdout",
     "output_type": "stream",
     "text": [
      "NAME                    COMMAND                  SERVICE             STATUS              PORTS\n",
      "visits-redis-server-1   \"docker-entrypoint.s…\"   redis-server        running             6379/tcp\n",
      "visits-web-server-1     \"/bin/sh -c 'gunicor…\"   web-server          running             0.0.0.0:3001->8081/tcp\n"
     ]
    }
   ],
   "source": [
    "!docker-compose --project-directory visits ps"
   ]
  },
  {
   "attachments": {},
   "cell_type": "markdown",
   "metadata": {},
   "source": [
    "Due to container isolation, a fresh redis DB is instantiated when the services are up:"
   ]
  },
  {
   "cell_type": "code",
   "execution_count": 183,
   "metadata": {},
   "outputs": [
    {
     "name": "stdout",
     "output_type": "stream",
     "text": [
      "\u001b[34mHTTP\u001b[39;49;00m/\u001b[34m1.1\u001b[39;49;00m \u001b[34m200\u001b[39;49;00m \u001b[36mOK\u001b[39;49;00m\n",
      "\u001b[36mcontent-length\u001b[39;49;00m: 19\n",
      "\u001b[36mcontent-type\u001b[39;49;00m: text/html; charset=utf-8\n",
      "\u001b[36mdate\u001b[39;49;00m: Fri, 24 Mar 2023 20:15:32 GMT\n",
      "\u001b[36mserver\u001b[39;49;00m: uvicorn\n",
      "\n",
      "Number of visits: 1\n",
      "\n",
      "\n"
     ]
    }
   ],
   "source": [
    "!http :3001"
   ]
  },
  {
   "cell_type": "code",
   "execution_count": 184,
   "metadata": {},
   "outputs": [
    {
     "name": "stdout",
     "output_type": "stream",
     "text": [
      "\u001b[34mHTTP\u001b[39;49;00m/\u001b[34m1.1\u001b[39;49;00m \u001b[34m200\u001b[39;49;00m \u001b[36mOK\u001b[39;49;00m\n",
      "\u001b[36mcontent-length\u001b[39;49;00m: 19\n",
      "\u001b[36mcontent-type\u001b[39;49;00m: text/html; charset=utf-8\n",
      "\u001b[36mdate\u001b[39;49;00m: Fri, 24 Mar 2023 20:15:32 GMT\n",
      "\u001b[36mserver\u001b[39;49;00m: uvicorn\n",
      "\n",
      "Number of visits: 2\n",
      "\n",
      "\n"
     ]
    }
   ],
   "source": [
    "!http :3001"
   ]
  },
  {
   "attachments": {},
   "cell_type": "markdown",
   "metadata": {},
   "source": [
    "<br>\n",
    "\n",
    "```{figure} diagrams/01-containers.png\n",
    "---\n",
    "name: containers\n",
    "---\n",
    "Running composed services from Docker Desktop.\n",
    "```"
   ]
  },
  {
   "attachments": {},
   "cell_type": "markdown",
   "metadata": {},
   "source": [
    "\n",
    "```{figure} diagrams/01-compose-monitoring.png\n",
    "---\n",
    "name: compose-monitoring\n",
    "---\n",
    "Monitoring running services. Note that a terminal can also be opened from inside the container.\n",
    "```"
   ]
  },
  {
   "attachments": {},
   "cell_type": "markdown",
   "metadata": {},
   "source": [
    "### Restart policies"
   ]
  },
  {
   "attachments": {},
   "cell_type": "markdown",
   "metadata": {},
   "source": [
    "Note that a web service typically crashes for a variety of reasons. Oftentimes this can happen rarely so that we want to restart one particular service immediately after it crashes. In the `docker-compose.yml` we specified `on-failure` as the restart policy. This means the service is restarted every time it fails with nonzero exit status, this is different from being stopped which has exit status `0`."
   ]
  },
  {
   "attachments": {},
   "cell_type": "markdown",
   "metadata": {},
   "source": [
    "<br>\n",
    "\n",
    "```{figure} diagrams/01-restart-policies.png\n",
    "---\n",
    "width: 650px\n",
    "name: restart-policies\n",
    "---\n",
    "[Restart policies](https://docs.docker.com/config/containers/start-containers-automatically/#use-a-restart-policy) for containers in Docker.\n",
    "```"
   ]
  },
  {
   "attachments": {},
   "cell_type": "markdown",
   "metadata": {},
   "source": [
    "To demonstrate, we defined an endpoint which results in a failure as described:"
   ]
  },
  {
   "attachments": {},
   "cell_type": "markdown",
   "metadata": {},
   "source": [
    "```python\n",
    "@app.get(\"/kill\")\n",
    "async def kill_uvicorn():\n",
    "    parent_pid = os.getppid()\n",
    "    os.kill(parent_pid, 9)\n",
    "```"
   ]
  },
  {
   "cell_type": "code",
   "execution_count": 185,
   "metadata": {},
   "outputs": [
    {
     "name": "stdout",
     "output_type": "stream",
     "text": [
      "\u001b[34mHTTP\u001b[39;49;00m/\u001b[34m1.1\u001b[39;49;00m \u001b[34m200\u001b[39;49;00m \u001b[36mOK\u001b[39;49;00m\n",
      "\u001b[36mcontent-length\u001b[39;49;00m: 4\n",
      "\u001b[36mcontent-type\u001b[39;49;00m: application/json\n",
      "\u001b[36mdate\u001b[39;49;00m: Fri, 24 Mar 2023 20:15:38 GMT\n",
      "\u001b[36mserver\u001b[39;49;00m: uvicorn\n",
      "\n",
      "\u001b[34mnull\u001b[39;49;00m\u001b[37m\u001b[39;49;00m\n",
      "\n",
      "\n"
     ]
    }
   ],
   "source": [
    "!http :3001/kill"
   ]
  },
  {
   "cell_type": "code",
   "execution_count": 186,
   "metadata": {},
   "outputs": [
    {
     "name": "stdout",
     "output_type": "stream",
     "text": [
      "NAME                    COMMAND                  SERVICE             STATUS              PORTS\n",
      "visits-redis-server-1   \"docker-entrypoint.s…\"   redis-server        running             6379/tcp\n",
      "visits-web-server-1     \"/bin/sh -c 'gunicor…\"   web-server          restarting          \n"
     ]
    }
   ],
   "source": [
    "!docker-compose --project-directory visits ps"
   ]
  },
  {
   "attachments": {},
   "cell_type": "markdown",
   "metadata": {},
   "source": [
    "Note restarting status. After the service starts, the previous number of visits is persisted:"
   ]
  },
  {
   "cell_type": "code",
   "execution_count": 187,
   "metadata": {},
   "outputs": [
    {
     "name": "stdout",
     "output_type": "stream",
     "text": [
      "\u001b[34mHTTP\u001b[39;49;00m/\u001b[34m1.1\u001b[39;49;00m \u001b[34m200\u001b[39;49;00m \u001b[36mOK\u001b[39;49;00m\n",
      "\u001b[36mcontent-length\u001b[39;49;00m: 19\n",
      "\u001b[36mcontent-type\u001b[39;49;00m: text/html; charset=utf-8\n",
      "\u001b[36mdate\u001b[39;49;00m: Fri, 24 Mar 2023 20:15:42 GMT\n",
      "\u001b[36mserver\u001b[39;49;00m: uvicorn\n",
      "\n",
      "Number of visits: 3\n",
      "\n",
      "\n"
     ]
    }
   ],
   "source": [
    "!http :3001/"
   ]
  },
  {
   "cell_type": "markdown",
   "metadata": {},
   "source": [
    "<br>\n",
    "\n",
    "```{figure} diagrams/01-restart-failure.png\n",
    "---\n",
    "width: 650px\n",
    "name: 01-restart-failure\n",
    "---\n",
    "Logs when the web service exits with code 173. Notice it immediately restarts.\n",
    "```"
   ]
  },
  {
   "attachments": {},
   "cell_type": "markdown",
   "metadata": {},
   "source": [
    "Stopping does not start the service. For this we need the other restart policies."
   ]
  },
  {
   "cell_type": "code",
   "execution_count": 188,
   "metadata": {},
   "outputs": [
    {
     "name": "stdout",
     "output_type": "stream",
     "text": [
      "4fdf0034399b797818684e15acfa93ac87205a348d4a22cbd887d568e66ef9d8\n"
     ]
    }
   ],
   "source": [
    "!docker-compose --project-directory visits ps -q web-server"
   ]
  },
  {
   "cell_type": "code",
   "execution_count": 189,
   "metadata": {},
   "outputs": [
    {
     "name": "stdout",
     "output_type": "stream",
     "text": [
      "4fdf0034399b7\n"
     ]
    }
   ],
   "source": [
    "!docker stop 4fdf0034399b7"
   ]
  },
  {
   "cell_type": "code",
   "execution_count": 190,
   "metadata": {},
   "outputs": [
    {
     "name": "stdout",
     "output_type": "stream",
     "text": [
      "NAME                    COMMAND                  SERVICE             STATUS              PORTS\n",
      "visits-redis-server-1   \"docker-entrypoint.s…\"   redis-server        running             6379/tcp\n",
      "visits-web-server-1     \"/bin/sh -c 'gunicor…\"   web-server          exited (137)        \n"
     ]
    }
   ],
   "source": [
    "!docker-compose --project-directory visits ps"
   ]
  },
  {
   "attachments": {},
   "cell_type": "markdown",
   "metadata": {},
   "source": [
    "### Compose down"
   ]
  },
  {
   "attachments": {},
   "cell_type": "markdown",
   "metadata": {},
   "source": [
    "Stopping and teardown of all the services:"
   ]
  },
  {
   "cell_type": "code",
   "execution_count": 191,
   "metadata": {
    "tags": [
     "hide-output"
    ]
   },
   "outputs": [
    {
     "name": "stdout",
     "output_type": "stream",
     "text": [
      "\u001b[1A\u001b[1B\u001b[0G\u001b[?25l[+] Running 1/0\n",
      "\u001b[34m ⠿ Container visits-web-server-1    Rem...                                 0.0s\n",
      "\u001b[0m\u001b[37m ⠋ Container visits-redis-server-1  S...                                   0.1s\n",
      "\u001b[0m\u001b[?25h\u001b[1A\u001b[1A\u001b[1A\u001b[0G\u001b[?25l[+] Running 1/2\n",
      "\u001b[34m ⠿ Container visits-web-server-1    Rem...                                 0.0s\n",
      "\u001b[0m\u001b[37m ⠙ Container visits-redis-server-1  S...                                   0.2s\n",
      "\u001b[0m\u001b[?25h\u001b[1A\u001b[1A\u001b[1A\u001b[0G\u001b[?25l\u001b[34m[+] Running 2/2\u001b[0m\n",
      "\u001b[34m ⠿ Container visits-web-server-1    Rem...                                 0.0s\n",
      "\u001b[0m\u001b[34m ⠿ Container visits-redis-server-1  R...                                   0.2s\n",
      "\u001b[0m\u001b[37m ⠋ Network visits_default           Removing                               0.0s\n",
      "\u001b[0m\u001b[?25h\u001b[1A\u001b[1A\u001b[1A\u001b[1A\u001b[0G\u001b[?25l\u001b[34m[+] Running 3/3\u001b[0m\n",
      "\u001b[34m ⠿ Container visits-web-server-1    Rem...                                 0.0s\n",
      "\u001b[0m\u001b[34m ⠿ Container visits-redis-server-1  R...                                   0.2s\n",
      "\u001b[0m\u001b[34m ⠿ Network visits_default           Removed                                0.1s\n",
      "\u001b[0m\u001b[?25h"
     ]
    }
   ],
   "source": [
    "!docker-compose --project-directory visits down"
   ]
  },
  {
   "cell_type": "code",
   "execution_count": null,
   "metadata": {},
   "outputs": [],
   "source": []
  }
 ],
 "metadata": {
  "kernelspec": {
   "display_name": "ai",
   "language": "python",
   "name": "python3"
  },
  "language_info": {
   "codemirror_mode": {
    "name": "ipython",
    "version": 3
   },
   "file_extension": ".py",
   "mimetype": "text/x-python",
   "name": "python",
   "nbconvert_exporter": "python",
   "pygments_lexer": "ipython3",
   "version": "3.9.15"
  },
  "orig_nbformat": 4
 },
 "nbformat": 4,
 "nbformat_minor": 2
}
