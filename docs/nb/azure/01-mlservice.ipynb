{
 "cells": [
  {
   "cell_type": "markdown",
   "metadata": {},
   "source": [
    "# Azure Machine Learning Service"
   ]
  },
  {
   "cell_type": "markdown",
   "metadata": {},
   "source": [
    "Azure Machine Learning (AML) is Microsoft’s cloud service designed to support the entire data science lifecycle, enabling model development, training, and deployment. It provides a collaborative environment with MLOps capabilities to monitor, retrain, evaluate, and redeploy models. This chapter focuses on deploying an AML workspace, which integrates Azure resources to create an environment for managing AML assets. \n",
    "\n",
    "Deployment can be done in three ways: (1) **Guided User Interface** (GUI) within the [Azure Portal](https://azure.microsoft.com/en-us/get-started/azure-portal), (2) **Azure CLI**  [`ml` extension (v2)](https://learn.microsoft.com/en-us/azure/machine-learning/how-to-configure-cli?view=azureml-api-2&tabs=public) for operations via the terminal, and (3) **Azure Resource Management** (ARM) templates. Key resources deployed include:\n",
    "\n",
    "| Resource                  | Purpose                                   |\n",
    "|---------------------------|-------------------------------------------|\n",
    "| AML Studio            | A portal for managing workloads.          |\n",
    "| Azure Key Vault       | For storing sensitive information.        |\n",
    "| Application Insights  | For logging and monitoring.               |\n",
    "| Azure Container Registry | For storing Docker images.             |\n",
    "| Azure Storage Account | For holding data.                         |\n",
    "\n",
    "These resources support activities like creating compute resources and coding in preferred IDEs such as Jupyter Notebook, Jupyter Lab, and VS Code. AML streamlines the entire ML workflow, from development to deployment, in a scalable and efficient manner."
   ]
  },
  {
   "cell_type": "markdown",
   "metadata": {},
   "source": [
    "<br>\n",
    "\n",
    "## Creating an AMLS workspace"
   ]
  },
  {
   "cell_type": "markdown",
   "metadata": {},
   "source": [
    "Every workspace must be assigned to an Azure subscription, which is where billing happens. You use resource groups like folders to organize and manage resources, including the workspace you're about to create."
   ]
  },
  {
   "cell_type": "markdown",
   "metadata": {},
   "source": [
    "```{figure} ../../img/azure/01-create-workspace.png\n",
    "---\n",
    "name: 01-create-workspace\n",
    "width: 90%\n",
    "align: center\n",
    "---\n",
    "Creating a workspace via the GUI. Clicking on the **Review + create** button validates the filled in values, before resources are deployed.\n",
    "```"
   ]
  },
  {
   "cell_type": "markdown",
   "metadata": {},
   "source": [
    "Every workspace is assigned under an **Azure subscription**, which is a single billing unit for services under the same logical grouping as required by business or technical considerations. Next, **resource groups** are like folders used to organize and manage resources. For example, different environments such as *dev*, *staging*, and *prod* can have its own resource group. As we deploy the AMLS workspace, the resources will be deployed into this resource group. This allows us, for example, to easily delete the resources after performing this exercise."
   ]
  },
  {
   "cell_type": "markdown",
   "metadata": {},
   "source": [
    "```{figure} ../../img/azure/01-resource-visualizer.png\n",
    "---\n",
    "name: 01-resource-visualizer\n",
    "width: 100%\n",
    "align: center\n",
    "---\n",
    "Visualizing services under the resource group.\n",
    "```\n",
    "\n",
    "Clicking **Launch studio** in the workspace leads you to the Azure Machine Learning service. You may have to update Public network access to add your client IP address if you modified network access during creation. Once inside, you can scroll down to create a **compute instance** ({numref}`01-compute-instance`) which is simply an [Azure virtual machine](https://learn.microsoft.com/en-us/azure/virtual-machines/overview) (VM). Note that VMs of [different sizes](https://learn.microsoft.com/en-us/azure/virtual-machines/sizes/overview)[^1] are available.\n",
    "\n",
    "[^1]: The choice of VM depends on the use-case. For example, whether to use a high number of cores for multiprocessing. RAM of a VM is also important: a good rule of\n",
    "thumb is to have 20 times the amount of RAM as the size of your data in CSV format. And similarly for other parameters. In general, VMs are classified as either, general purpose, or compute or memory optimized."
   ]
  },
  {
   "cell_type": "markdown",
   "metadata": {},
   "source": [
    "<br>\n",
    "\n",
    "```{figure} ../../img/azure/01-compute-instance.png\n",
    "---\n",
    "name: 01-compute-instance\n",
    "width: 100%\n",
    "align: center\n",
    "---\n",
    "Launching VS Code in a compute instance.\n",
    "```\n",
    "\n",
    "```{note}\n",
    "A compute instance in AML has a dedicated **assigned user** who has root access. This single-user assignment ensures that all actions performed on the compute instance use that user's identity for Azure RBAC (Role-Based Access Control) and attribution of experiment jobs.\n",
    "```"
   ]
  },
  {
   "cell_type": "markdown",
   "metadata": {},
   "source": [
    "### CLI"
   ]
  },
  {
   "cell_type": "markdown",
   "metadata": {},
   "source": [
    "The [Azure CLI](https://learn.microsoft.com/en-us/cli/azure/) allows a user to connect to Azure and execute administrative commands on Azure resources via the terminal. It allows the execution of terminal commands using interactive prompts or a script. CLI commands follow the format:\n",
    "\n",
    "```\n",
    "az ml <noun> <verb> <options>\n",
    "```"
   ]
  },
  {
   "cell_type": "markdown",
   "metadata": {},
   "source": [
    "Note CLI version must be ≥2.15.0 to use the `ml` extension installed as follows:"
   ]
  },
  {
   "cell_type": "markdown",
   "metadata": {},
   "source": [
    "| Command                                      | Description                                                                 |\n",
    "|----------------------------------------------|-----------------------------------------------------------------------------|\n",
    "| `az version` | Show version of the installed Azure CLI. |\n",
    "| `az extension remove -n ml`                  | Remove any existing installation of the `ml` extension.                     |\n",
    "| `az extension add -n ml`                     | Install the `ml` extension.                                                 |\n",
    "| `az ml -h`                                   | Help command to verify installation and list subcommands.  |\n",
    "| `az extension update -n ml`                  | Upgrade the `ml` extension to the latest version.                           |"
   ]
  },
  {
   "cell_type": "markdown",
   "metadata": {},
   "source": [
    "The following command opens a window to automatically log into the Azure CLI:"
   ]
  },
  {
   "cell_type": "markdown",
   "metadata": {},
   "source": [
    "```zsh\n",
    "az login\n",
    "```"
   ]
  },
  {
   "cell_type": "markdown",
   "metadata": {},
   "source": [
    "Then, we can create the workspace and its resource group as follows:"
   ]
  },
  {
   "cell_type": "markdown",
   "metadata": {},
   "source": [
    "```zsh\n",
    "export LOC=\"eastus2\"\n",
    "export GROUP=\"aml-resource-group-cli-test\"\n",
    "export WORKSPACE=\"aml-workspace-cli-test\"\n",
    "\n",
    "az group create --name $GROUP --location $LOC\n",
    "az ml workspace create -n $WORKSPACE -g $GROUP -l $LOC\n",
    "```"
   ]
  },
  {
   "cell_type": "markdown",
   "metadata": {},
   "source": [
    "To create a compute instance:"
   ]
  },
  {
   "cell_type": "markdown",
   "metadata": {},
   "source": [
    "```bash\n",
    "az ml compute create --name compute-cli \\\n",
    "    --size STANDARD_D3_V2 --type ComputeInstance \\\n",
    "    --resource-group $GROUP --workspace-name $WORKSPACE\n",
    "```"
   ]
  },
  {
   "cell_type": "markdown",
   "metadata": {},
   "source": [
    "The resulting workspace has public network access enabled by default, which can later be changed via the GUI once created. The next approach offers further customization using [declarative syntax](https://en.wikipedia.org/wiki/Declarative_programming)."
   ]
  },
  {
   "cell_type": "markdown",
   "metadata": {},
   "source": [
    "### ARM templates\n",
    "\n",
    "ARM templates provides a convenient and repeatable method to automate and parameterize the creation of Azure resources. Here we write a simple ARM template to build an AMLS workspace deployed using the Azure CLI. Note that [Quickstart Templates](https://github.com/Azure/azure-quickstart-templates/tree/master/quickstarts/microsoft.machinelearningservices/machine-learning-workspace) are available in GitHub."
   ]
  },
  {
   "cell_type": "code",
   "execution_count": 2,
   "metadata": {
    "tags": [
     "hide-output"
    ]
   },
   "outputs": [
    {
     "name": "stderr",
     "output_type": "stream",
     "text": [
      "  % Total    % Received % Xferd  Average Speed   Time    Time     Time  Current\n",
      "                                 Dload  Upload   Total   Spent    Left  Speed\n",
      "100  5015  100  5015    0     0   112k      0 --:--:-- --:--:-- --:--:--  113k\n"
     ]
    },
    {
     "name": "stdout",
     "output_type": "stream",
     "text": [
      "{\n",
      "  \"$schema\": \"https://schema.management.azure.com/schemas/2019-04-01/deploymentTemplate.json#\",\n",
      "  \"contentVersion\": \"1.0.0.0\",\n",
      "  \"metadata\": {\n",
      "    \"_generator\": {\n",
      "      \"name\": \"bicep\",\n",
      "      \"version\": \"0.13.1.58284\",\n",
      "      \"templateHash\": \"17277793070204216233\"\n",
      "    }\n",
      "  },\n",
      "  \"parameters\": {\n",
      "    \"name\": {\n",
      "      \"type\": \"string\",\n",
      "      \"metadata\": {\n",
      "        \"description\": \"Specifies the name of the deployment.\"\n",
      "      }\n",
      "    },\n",
      "    \"environment\": {\n",
      "      \"type\": \"string\",\n",
      "      \"metadata\": {\n",
      "        \"description\": \"Specifies the name of the environment.\"\n",
      "      }\n",
      "    },\n",
      "    \"location\": {\n",
      "      \"type\": \"string\",\n",
      "      \"allowedValues\": [\n",
      "        \"australiaeast\",\n",
      "        \"brazilsouth\",\n",
      "        \"canadacentral\",\n",
      "        \"centralus\",\n",
      "        \"eastasia\",\n",
      "        \"eastus\",\n",
      "        \"eastus2\",\n",
      "        \"francecentral\",\n",
      "        \"japaneast\",\n",
      "        \"koreacentral\",\n",
      "        \"northcentralus\",\n",
      "        \"northeurope\",\n",
      "        \"southeastasia\",\n",
      "        \"southcentralus\",\n",
      "        \"uksouth\",\n",
      "        \"westcentralus\",\n",
      "        \"westus\",\n",
      "        \"westus2\",\n",
      "        \"westeurope\",\n",
      "        \"usgovvirginia\"\n",
      "      ],\n",
      "      \"metadata\": {\n",
      "        \"description\": \"Specifies the location of the Azure Machine Learning workspace and dependent resources.\"\n",
      "      }\n",
      "    }\n",
      "  },\n",
      "  \"variables\": {\n",
      "    \"tenantId\": \"[subscription().tenantId]\",\n",
      "    \"storageAccountName\": \"[format('st{0}{1}', parameters('name'), parameters('environment'))]\",\n",
      "    \"keyVaultName\": \"[format('kv-{0}-{1}', parameters('name'), parameters('environment'))]\",\n",
      "    \"applicationInsightsName\": \"[format('appi-{0}-{1}', parameters('name'), parameters('environment'))]\",\n",
      "    \"containerRegistryName\": \"[format('cr{0}{1}', parameters('name'), parameters('environment'))]\",\n",
      "    \"workspaceName\": \"[format('mlw{0}{1}', parameters('name'), parameters('environment'))]\",\n",
      "    \"storageAccountId\": \"[resourceId('Microsoft.Storage/storageAccounts', variables('storageAccountName'))]\",\n",
      "    \"keyVaultId\": \"[resourceId('Microsoft.KeyVault/vaults', variables('keyVaultName'))]\",\n",
      "    \"applicationInsightId\": \"[resourceId('Microsoft.Insights/components', variables('applicationInsightsName'))]\",\n",
      "    \"containerRegistryId\": \"[resourceId('Microsoft.ContainerRegistry/registries', variables('containerRegistryName'))]\"\n",
      "  },\n",
      "  \"resources\": [\n",
      "    {\n",
      "      \"type\": \"Microsoft.Storage/storageAccounts\",\n",
      "      \"apiVersion\": \"2022-05-01\",\n",
      "      \"name\": \"[variables('storageAccountName')]\",\n",
      "      \"location\": \"[parameters('location')]\",\n",
      "      \"sku\": {\n",
      "        \"name\": \"Standard_RAGRS\"\n",
      "      },\n",
      "      \"kind\": \"StorageV2\",\n",
      "      \"properties\": {\n",
      "        \"encryption\": {\n",
      "          \"services\": {\n",
      "            \"blob\": {\n",
      "              \"enabled\": true\n",
      "            },\n",
      "            \"file\": {\n",
      "              \"enabled\": true\n",
      "            }\n",
      "          },\n",
      "          \"keySource\": \"Microsoft.Storage\"\n",
      "        },\n",
      "        \"supportsHttpsTrafficOnly\": true,\n",
      "        \"minimumTlsVersion\": \"TLS1_2\",\n",
      "        \"allowBlobPublicAccess\": false,\n",
      "        \"networkAcls\": {\n",
      "          \"defaultAction\": \"Deny\"\n",
      "        }\n",
      "      }\n",
      "    },\n",
      "    {\n",
      "      \"type\": \"Microsoft.KeyVault/vaults\",\n",
      "      \"apiVersion\": \"2022-07-01\",\n",
      "      \"name\": \"[variables('keyVaultName')]\",\n",
      "      \"location\": \"[parameters('location')]\",\n",
      "      \"properties\": {\n",
      "        \"tenantId\": \"[variables('tenantId')]\",\n",
      "        \"sku\": {\n",
      "          \"name\": \"standard\",\n",
      "          \"family\": \"A\"\n",
      "        },\n",
      "        \"accessPolicies\": [],\n",
      "        \"enableSoftDelete\": true\n",
      "      }\n",
      "    },\n",
      "    {\n",
      "      \"type\": \"Microsoft.Insights/components\",\n",
      "      \"apiVersion\": \"2020-02-02\",\n",
      "      \"name\": \"[variables('applicationInsightsName')]\",\n",
      "      \"location\": \"[parameters('location')]\",\n",
      "      \"kind\": \"web\",\n",
      "      \"properties\": {\n",
      "        \"Application_Type\": \"web\"\n",
      "      }\n",
      "    },\n",
      "    {\n",
      "      \"type\": \"Microsoft.ContainerRegistry/registries\",\n",
      "      \"apiVersion\": \"2022-02-01-preview\",\n",
      "      \"name\": \"[variables('containerRegistryName')]\",\n",
      "      \"sku\": {\n",
      "        \"name\": \"Standard\"\n",
      "      },\n",
      "      \"location\": \"[parameters('location')]\",\n",
      "      \"properties\": {\n",
      "        \"adminUserEnabled\": false\n",
      "      }\n",
      "    },\n",
      "    {\n",
      "      \"type\": \"Microsoft.MachineLearningServices/workspaces\",\n",
      "      \"apiVersion\": \"2022-10-01\",\n",
      "      \"name\": \"[variables('workspaceName')]\",\n",
      "      \"identity\": {\n",
      "        \"type\": \"SystemAssigned\"\n",
      "      },\n",
      "      \"location\": \"[parameters('location')]\",\n",
      "      \"properties\": {\n",
      "        \"friendlyName\": \"[variables('workspaceName')]\",\n",
      "        \"storageAccount\": \"[variables('storageAccountId')]\",\n",
      "        \"keyVault\": \"[variables('keyVaultId')]\",\n",
      "        \"applicationInsights\": \"[variables('applicationInsightId')]\",\n",
      "        \"containerRegistry\": \"[variables('containerRegistryId')]\"\n",
      "      },\n",
      "      \"dependsOn\": [\n",
      "        \"[resourceId('Microsoft.Insights/components', variables('applicationInsightsName'))]\",\n",
      "        \"[resourceId('Microsoft.ContainerRegistry/registries', variables('containerRegistryName'))]\",\n",
      "        \"[resourceId('Microsoft.Storage/storageAccounts', variables('storageAccountName'))]\",\n",
      "        \"[resourceId('Microsoft.KeyVault/vaults', variables('keyVaultName'))]\"\n",
      "      ]\n",
      "    }\n",
      "  ]\n",
      "}\n"
     ]
    }
   ],
   "source": [
    "%%bash\n",
    "curl -O https://raw.githubusercontent.com/Azure/azure-quickstart-templates/refs/heads/master/quickstarts/microsoft.machinelearningservices/machine-learning-workspace/azuredeploy.json &&\n",
    "cat azuredeploy.json | jq"
   ]
  },
  {
   "cell_type": "markdown",
   "metadata": {},
   "source": [
    "This configuration describes the minimal set of resources you require to create an AML workspace. It has two main parts, required `parameters` and  `resources`. It creates the following Azure services that is associated to the AML workspace:"
   ]
  },
  {
   "cell_type": "markdown",
   "metadata": {},
   "source": [
    "| Provider and type | Service instance |\n",
    "| - | - |\n",
    "| `Microsoft.Insights/components` | Azure Application Insights |\n",
    "| `Microsoft.KeyVault/vaults` | Azure Key Vault |\n",
    "| `Microsoft.Storage/storageAccounts` | Azure Storage |\n",
    "| `Microsoft.ContainerRegistry/registries` | Azure Container Registry |\n",
    "| `Microsoft.MachineLearningServices/workspaces` | Azure Machine Learning workspace |\n"
   ]
  },
  {
   "cell_type": "markdown",
   "metadata": {},
   "source": [
    "The sample template has three parameters: `name`, `environment`, and `location`. We now create the workspace using Azure CLI. First, create the **resource group**, and then **deploy** the ARM template. Note that the name parameter has to be *globally* unique. The following creates the entire stack:"
   ]
  },
  {
   "cell_type": "markdown",
   "metadata": {},
   "source": [
    "```bash\n",
    "export DEPLOYMENT_NAME=\"example-deployment\"\n",
    "export GROUP=\"aml-resource-group-arm-test\"\n",
    "export NAME=\"un1qu3\"\n",
    "export ENV=\"test\"\n",
    "export LOC=\"eastus2\"\n",
    "\n",
    "az group create --name $GROUP --location $LOC\n",
    "az deployment group create \\\n",
    "    --name $DEPLOYMENT_NAME --resource-group $GROUP \\\n",
    "    --template-file \"azuredeploy.json\" \\\n",
    "    --parameters name=$NAME environment=$ENV location=$LOC\n",
    "```"
   ]
  },
  {
   "cell_type": "markdown",
   "metadata": {},
   "source": [
    "Workspace configuration can be manually changed in the GUI, then the updated ARM template can be exported under **Automation>Export Template**. For example, enable public network access from selected IP addresses in **Settings>Networking**. This adds the following in the resulting ARM which can then be added in `workspace-deploy.json`:\n",
    "\n",
    "```json\n",
    "\"properties\": {\n",
    "    \"publicNetworkAccess\": \"Enabled\",\n",
    "    \"ipAllowlist\": [\n",
    "        \"123.123.8.123/32\"\n",
    "    ],\n",
    "}\n",
    "```"
   ]
  },
  {
   "cell_type": "markdown",
   "metadata": {},
   "source": [
    "The deployments can be found by accessing the resource group **Setting>Deployments**:\n"
   ]
  },
  {
   "cell_type": "markdown",
   "metadata": {},
   "source": [
    "```{figure} ../../img/azure/01-deployments.png\n",
    "---\n",
    "name: 01-deployments\n",
    "width: 100%\n",
    "align: center\n",
    "---\n",
    "```\n"
   ]
  },
  {
   "cell_type": "code",
   "execution_count": null,
   "metadata": {},
   "outputs": [],
   "source": []
  }
 ],
 "metadata": {
  "kernelspec": {
   "display_name": ".venv",
   "language": "python",
   "name": "python3"
  },
  "language_info": {
   "codemirror_mode": {
    "name": "ipython",
    "version": 3
   },
   "file_extension": ".py",
   "mimetype": "text/x-python",
   "name": "python",
   "nbconvert_exporter": "python",
   "pygments_lexer": "ipython3",
   "version": "3.12.5"
  }
 },
 "nbformat": 4,
 "nbformat_minor": 2
}
