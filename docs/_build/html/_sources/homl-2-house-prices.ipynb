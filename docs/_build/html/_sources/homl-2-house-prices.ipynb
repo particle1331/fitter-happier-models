{
 "cells": [
  {
   "cell_type": "markdown",
   "source": [
    "# End-to-End ML Project"
   ],
   "metadata": {}
  },
  {
   "cell_type": "markdown",
   "source": [
    "Main steps to an ML project:\n",
    "\n",
    "1. Look at the big picture.\n",
    "2. Get the data.\n",
    "3. Discover and visualize the data to gain insights.\n",
    "4. Prepare the data for Machine Learning algorithms.\n",
    "5. Select a model and train it.\n",
    "6. Fine-tune your model.\n",
    "7. Present your solution.\n",
    "8. Launch, monitor, and maintain your system.\n"
   ],
   "metadata": {}
  },
  {
   "cell_type": "markdown",
   "source": [
    "## Looking at the big picture\n",
    "\n",
    "Your first task is to use California census data to build a model of housing prices in the state. This data includes\n",
    "metrics such as the population, median income, and median housing price for each\n",
    "block group in California. Block groups are the smallest geographical unit for which\n",
    "the US Census Bureau publishes sample data (a block group typically has a population of 600 to 3,000 people). We will call them “districts” for short.\n",
    "Your model should learn from this data and be able to predict the **median housing price** in any district, given all the other metrics.\n",
    "\n",
    "The first question to ask your boss is what exactly the business objective is. Building a\n",
    "model is probably not the end goal. How does the company expect to use and benefit\n",
    "from this model? Knowing the objective is important because it will determine how\n",
    "you frame the problem, which algorithms you will select, which performance measure you will use to evaluate your model, and how much effort you will spend tweaking it.\n",
    "\n",
    "Your boss answers that your model’s output (a prediction of a district’s median housing price) will be fed to another Machine Learning system, along\n",
    "with many other signals. This downstream system will determine whether it is worth investing in a given area or not. Getting this right is critical, as it directly affects revenue.\n"
   ],
   "metadata": {}
  },
  {
   "cell_type": "markdown",
   "source": [
    "```{figure} ../img/ml_pipeline.png\n",
    "---\n",
    "width: 35em\n",
    "name: ml_pipeline\n",
    "---\n",
    "A Machine Learning pipeline for real estate investments. Situated within is the ML model currently being developed.\n",
    "```\n"
   ],
   "metadata": {}
  },
  {
   "cell_type": "markdown",
   "source": [
    "## Getting the data"
   ],
   "metadata": {}
  },
  {
   "cell_type": "code",
   "execution_count": null,
   "source": [],
   "outputs": [],
   "metadata": {}
  }
 ],
 "metadata": {
  "kernelspec": {
   "display_name": "Python 3.7.11 (homl)",
   "language": "python",
   "name": "homl"
  },
  "language_info": {
   "codemirror_mode": {
    "name": "ipython",
    "version": 3
   },
   "file_extension": ".py",
   "mimetype": "text/x-python",
   "name": "python",
   "nbconvert_exporter": "python",
   "pygments_lexer": "ipython3",
   "version": "3.7.11"
  }
 },
 "nbformat": 4,
 "nbformat_minor": 4
}