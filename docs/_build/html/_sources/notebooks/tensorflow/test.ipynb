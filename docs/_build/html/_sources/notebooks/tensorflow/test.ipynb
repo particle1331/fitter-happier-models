{
 "cells": [
  {
   "cell_type": "code",
   "execution_count": 20,
   "metadata": {},
   "outputs": [],
   "source": [
    "import tensorflow as tf\n",
    "import tensorflow.keras as k\n",
    "from inefficient_networks.config import config\n",
    "\n",
    "(x_train, y_train), (x_test, y_test) = k.datasets.mnist.load_data()"
   ]
  },
  {
   "cell_type": "code",
   "execution_count": 40,
   "metadata": {},
   "outputs": [
    {
     "name": "stdout",
     "output_type": "stream",
     "text": [
      "Epoch 1/2\n",
      "  24/1875 [..............................] - ETA: 8s - loss: 11.4690 - accuracy: 0.0964"
     ]
    },
    {
     "name": "stderr",
     "output_type": "stream",
     "text": [
      "2022-04-11 17:16:04.240699: I tensorflow/core/grappler/optimizers/custom_graph_optimizer_registry.cc:112] Plugin optimizer for device_type GPU is enabled.\n"
     ]
    },
    {
     "name": "stdout",
     "output_type": "stream",
     "text": [
      "1875/1875 [==============================] - 9s 5ms/step - loss: 14.0938 - accuracy: 0.1065\n",
      "Epoch 2/2\n",
      "1875/1875 [==============================] - 10s 5ms/step - loss: 13.7638 - accuracy: 0.1164\n"
     ]
    },
    {
     "data": {
      "text/plain": [
       "<keras.callbacks.History at 0x2ce7ac3d0>"
      ]
     },
     "execution_count": 40,
     "metadata": {},
     "output_type": "execute_result"
    }
   ],
   "source": [
    "config.set_tensorflow_seeds(4)\n",
    "model = k.Sequential()\n",
    "model.add(k.layers.Dense(512, 'relu'))\n",
    "model.add(k.layers.Dense(10))\n",
    "\n",
    "model.compile(\n",
    "    metrics='accuracy',\n",
    "    optimizer='adam',\n",
    "    loss=k.losses.SparseCategoricalCrossentropy()\n",
    ")\n",
    "\n",
    "model.fit(x_train.reshape(-1, 784), y_train, epochs=2, batch_size=32)"
   ]
  },
  {
   "cell_type": "code",
   "execution_count": 41,
   "metadata": {},
   "outputs": [
    {
     "name": "stdout",
     "output_type": "stream",
     "text": [
      "Epoch 1/2\n",
      "  12/1875 [..............................] - ETA: 8s - loss: 60.0240 - accuracy: 0.4635   "
     ]
    },
    {
     "name": "stderr",
     "output_type": "stream",
     "text": [
      "/Users/particle1331/miniforge3/envs/ml/lib/python3.8/site-packages/tensorflow/python/util/dispatch.py:1096: UserWarning: \"`sparse_categorical_crossentropy` received `from_logits=True`, but the `output` argument was produced by a sigmoid or softmax activation and thus does not represent logits. Was this intended?\"\n",
      "  return dispatch_target(*args, **kwargs)\n",
      "2022-04-11 17:16:24.819628: I tensorflow/core/grappler/optimizers/custom_graph_optimizer_registry.cc:112] Plugin optimizer for device_type GPU is enabled.\n"
     ]
    },
    {
     "name": "stdout",
     "output_type": "stream",
     "text": [
      "1875/1875 [==============================] - 9s 5ms/step - loss: 2.6508 - accuracy: 0.9084\n",
      "Epoch 2/2\n",
      "1875/1875 [==============================] - 9s 5ms/step - loss: 0.3410 - accuracy: 0.9387\n"
     ]
    },
    {
     "data": {
      "text/plain": [
       "<keras.callbacks.History at 0x2d20bbd00>"
      ]
     },
     "execution_count": 41,
     "metadata": {},
     "output_type": "execute_result"
    }
   ],
   "source": [
    "config.set_tensorflow_seeds(4)\n",
    "model = k.Sequential()\n",
    "model.add(k.layers.Dense(512, 'relu'))\n",
    "model.add(k.layers.Dense(10, 'softmax'))\n",
    "\n",
    "model.compile(\n",
    "    metrics='accuracy',\n",
    "    optimizer='adam',\n",
    "    loss=k.losses.SparseCategoricalCrossentropy(from_logits=True)\n",
    ")\n",
    "\n",
    "model.fit(x_train.reshape(-1, 784), y_train, epochs=2, batch_size=32)"
   ]
  },
  {
   "cell_type": "code",
   "execution_count": 37,
   "metadata": {},
   "outputs": [
    {
     "data": {
      "text/plain": [
       "<tf.Tensor: shape=(), dtype=float32, numpy=1.0>"
      ]
     },
     "execution_count": 37,
     "metadata": {},
     "output_type": "execute_result"
    }
   ],
   "source": [
    "tf.reduce_sum(model(x_train.reshape(-1, 784))[3])\n",
    "# model.fit(x_train.reshape(-1, 784), y_train, epochs=2, batch_size=32)"
   ]
  },
  {
   "cell_type": "code",
   "execution_count": 36,
   "metadata": {},
   "outputs": [
    {
     "data": {
      "text/plain": [
       "<tf.Tensor: shape=(10,), dtype=float32, numpy=\n",
       "array([0.08533674, 0.23196931, 0.08533674, 0.08533674, 0.08533674,\n",
       "       0.08533674, 0.08533674, 0.08533674, 0.08533674, 0.08533674],\n",
       "      dtype=float32)>"
      ]
     },
     "execution_count": 36,
     "metadata": {},
     "output_type": "execute_result"
    }
   ],
   "source": [
    "k.activations.softmax(model(x_train.reshape(-1, 784)))[3]\n"
   ]
  },
  {
   "cell_type": "code",
   "execution_count": 26,
   "metadata": {},
   "outputs": [
    {
     "data": {
      "text/plain": [
       "<tf.Tensor: shape=(10000, 10), dtype=float32, numpy=\n",
       "array([[0.7292609 , 0.7308539 , 0.73105   , ..., 0.7310586 , 0.5020167 ,\n",
       "        0.73105705],\n",
       "       [0.5037693 , 0.7305503 , 0.7310586 , ..., 0.7309286 , 0.7166949 ,\n",
       "        0.50014967],\n",
       "       [0.7310481 , 0.7310586 , 0.50360113, ..., 0.7310525 , 0.7310585 ,\n",
       "        0.72551274],\n",
       "       ...,\n",
       "       [0.5       , 0.50000006, 0.5       , ..., 0.5352798 , 0.5000821 ,\n",
       "        0.7310584 ],\n",
       "       [0.7310586 , 0.7296226 , 0.73102   , ..., 0.7117257 , 0.7310586 ,\n",
       "        0.7310539 ],\n",
       "       [0.7310586 , 0.5000198 , 0.7310418 , ..., 0.5000738 , 0.7310586 ,\n",
       "        0.7268566 ]], dtype=float32)>"
      ]
     },
     "execution_count": 26,
     "metadata": {},
     "output_type": "execute_result"
    }
   ],
   "source": [
    "k.activations.sigmoid(model(x_test.reshape(-1, 784)))"
   ]
  },
  {
   "cell_type": "code",
   "execution_count": null,
   "metadata": {},
   "outputs": [],
   "source": []
  },
  {
   "cell_type": "code",
   "execution_count": null,
   "metadata": {},
   "outputs": [],
   "source": []
  }
 ],
 "metadata": {
  "interpreter": {
   "hash": "a55a0d1272a360f93e747858d443ec26da69f69eac36db3e567a961ca624a861"
  },
  "kernelspec": {
   "display_name": "Python 3.8.12 ('ml')",
   "language": "python",
   "name": "python3"
  },
  "language_info": {
   "codemirror_mode": {
    "name": "ipython",
    "version": 3
   },
   "file_extension": ".py",
   "mimetype": "text/x-python",
   "name": "python",
   "nbconvert_exporter": "python",
   "pygments_lexer": "ipython3",
   "version": "3.8.12"
  },
  "orig_nbformat": 4
 },
 "nbformat": 4,
 "nbformat_minor": 2
}
