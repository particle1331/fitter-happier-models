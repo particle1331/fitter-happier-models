{
 "cells": [
  {
   "cell_type": "markdown",
   "metadata": {},
   "source": [
    "# Managing Pydantic Data Models"
   ]
  },
  {
   "cell_type": "markdown",
   "metadata": {},
   "source": [
    "```{admonition} Attribution\n",
    "This notebook follows Chapter 4: *Managing Pydantic Data Models in FastAPI* of {cite}`Voron2021`. Source files for running the background local servers can be found [here](https://github.com/particle1331/machine-learning/tree/master/docs/notebooks/fastapi/src/chapter4).\n",
    "```"
   ]
  },
  {
   "cell_type": "markdown",
   "metadata": {},
   "source": [
    "This chapter will cover in more detail the definition of a data model with Pydantic, the \n",
    "underlying data validation library used by FastAPI.  We'll explain how to implement\n",
    "variations of the same model without repeating the same code again and again, thanks to\n",
    "class inheritance. Finally, we'll show how to implement custom data validation logic into\n",
    "Pydantic models."
   ]
  },
  {
   "cell_type": "markdown",
   "metadata": {},
   "source": [
    "## Defining models and their field types with Pydantic"
   ]
  },
  {
   "cell_type": "markdown",
   "metadata": {},
   "source": [
    "Pydantic is a powerful library for defining data models using Python classes and type \n",
    "hints. This approach makes those classes completely compatible with static type checking.\n",
    "Moreover, since there are regular Python classes, we can use inheritance and also define our\n",
    "very own methods to add custom logic."
   ]
  },
  {
   "cell_type": "markdown",
   "metadata": {},
   "source": [
    "### Standard field types"
   ]
  },
  {
   "cell_type": "markdown",
   "metadata": {},
   "source": [
    "We can have quite quite complex field types &mdash; usual static field types (`int`, `str`, `float`), dynamic field types (`list[str]`, `date`), as well as fields which are themselves Pydantic models."
   ]
  },
  {
   "cell_type": "code",
   "execution_count": 1,
   "metadata": {},
   "outputs": [],
   "source": [
    "from datetime import date\n",
    "from enum import Enum\n",
    "from pydantic import BaseModel\n",
    "\n",
    "\n",
    "class Gender(str, Enum):\n",
    "    MALE = \"male\"\n",
    "    FEMALE = \"female\"\n",
    "    NON_BINARY = \"non-binary\"\n",
    "\n",
    "class Address(BaseModel):\n",
    "    street_address: str\n",
    "    postal_code: str\n",
    "    city: str\n",
    "    country: str\n",
    "\n",
    "class Person(BaseModel):\n",
    "    id: int\n",
    "    first_name: str\n",
    "    last_name: str\n",
    "    address: Address\n",
    "    gender: Gender\n",
    "    birthdate: date \n",
    "    interests: list[str]"
   ]
  },
  {
   "cell_type": "markdown",
   "metadata": {},
   "source": [
    "Let's instantiate one example:"
   ]
  },
  {
   "cell_type": "code",
   "execution_count": 2,
   "metadata": {},
   "outputs": [
    {
     "data": {
      "text/plain": [
       "Person(id=3, first_name='Ron', last_name='Medina', address=Address(street_address='#1 Street', postal_code='333', city='City', country='Country'), gender=<Gender.MALE: 'male'>, birthdate=datetime.date(2021, 7, 21), interests=[])"
      ]
     },
     "execution_count": 2,
     "metadata": {},
     "output_type": "execute_result"
    }
   ],
   "source": [
    "Person(\n",
    "    id=3,\n",
    "    first_name=\"Ron\", \n",
    "    last_name=\"Medina\", \n",
    "    address=Address(\n",
    "        street_address=\"#1 Street\",\n",
    "        postal_code=\"333\",\n",
    "        city=\"City\",\n",
    "        country=\"Country\"),\n",
    "    gender=Gender.MALE,\n",
    "    birthdate=date(2021, 7, 21), # YYYY-MM-DD\n",
    "    interests=[],\n",
    ")"
   ]
  },
  {
   "cell_type": "markdown",
   "metadata": {},
   "source": [
    "Observe that the Pydantic model performs automatic validation and type conversion:"
   ]
  },
  {
   "cell_type": "code",
   "execution_count": 3,
   "metadata": {},
   "outputs": [
    {
     "data": {
      "text/plain": [
       "Person(id=3, first_name='Ron', last_name='Medina', address=Address(street_address='#1 Street', postal_code='333', city='City', country='Country'), gender=<Gender.MALE: 'male'>, birthdate=datetime.date(2021, 7, 21), interests=[])"
      ]
     },
     "execution_count": 3,
     "metadata": {},
     "output_type": "execute_result"
    }
   ],
   "source": [
    "Person(\n",
    "    id=\"3\",\n",
    "    first_name=\"Ron\", \n",
    "    last_name=\"Medina\", \n",
    "    gender=\"male\",\n",
    "    birthdate=\"2021-07-21\",\n",
    "    interests=[],\n",
    "    address={\n",
    "        \"street_address\": \"#1 Street\",\n",
    "        \"postal_code\": \"333\",\n",
    "        \"city\": \"City\",\n",
    "        \"country\": \"Country\",\n",
    "    }\n",
    ")"
   ]
  },
  {
   "cell_type": "markdown",
   "metadata": {},
   "source": [
    "### Optional fields and default values"
   ]
  },
  {
   "cell_type": "markdown",
   "metadata": {},
   "source": [
    "Be careful: don't assign default values that\n",
    "    are dynamic types such as datetimes. By doing so, the datetime instantiation will be \n",
    "    evaluated *only once* when the model is imported. The effect of this is that all the \n",
    "    objects you'll instantiate will then share the same value instead of having a fresh value. This is a known Python gotcha. \n"
   ]
  },
  {
   "cell_type": "code",
   "execution_count": 4,
   "metadata": {},
   "outputs": [
    {
     "name": "stdout",
     "output_type": "stream",
     "text": [
      "0.0\n"
     ]
    }
   ],
   "source": [
    "import time \n",
    "from datetime import datetime\n",
    "from typing import Optional\n",
    "\n",
    "class Post(BaseModel):\n",
    "    date_created: date = datetime.now()\n",
    "    tag: Optional[str]\n",
    "\n",
    "\n",
    "post1 = Post()\n",
    "time.sleep(3)\n",
    "post2 = Post()\n",
    "print((post1.date_created - post2.date_created).total_seconds())"
   ]
  },
  {
   "cell_type": "markdown",
   "metadata": {},
   "source": [
    "Fortunately, Pydantic provides a `Field` \n",
    "function that allows us to set some advanced options on our fields, including one to set \n",
    "a factory for creating dynamic values."
   ]
  },
  {
   "cell_type": "markdown",
   "metadata": {},
   "source": [
    "### Field validation"
   ]
  },
  {
   "cell_type": "markdown",
   "metadata": {},
   "source": [
    "It turns out that the validation for request parameters come directly from Pydantic. The syntax is very similar to the one we saw for `Path`, `Query`, and `Body`. The `Field` function validates the data fields of a Pydantic model. For optional fields (`age`), validation only applies if a value is supplied. "
   ]
  },
  {
   "cell_type": "code",
   "execution_count": 5,
   "metadata": {},
   "outputs": [],
   "source": [
    "from pydantic import BaseModel, Field, ValidationError\n",
    "\n",
    "class Person(BaseModel):\n",
    "    first_name: str = Field(..., min_length=3)\n",
    "    last_name: str = Field(..., min_length=3)\n",
    "    age: Optional[int] = Field(ge=0, le=120)"
   ]
  },
  {
   "cell_type": "markdown",
   "metadata": {},
   "source": [
    "Let's trigger an error with first name of length zero."
   ]
  },
  {
   "cell_type": "code",
   "execution_count": 6,
   "metadata": {},
   "outputs": [
    {
     "name": "stdout",
     "output_type": "stream",
     "text": [
      "1 validation error for Person\n",
      "first_name\n",
      "  ensure this value has at least 3 characters (type=value_error.any_str.min_length; limit_value=3)\n"
     ]
    }
   ],
   "source": [
    "try:\n",
    "    p = Person(first_name=\"\", last_name=\"Shorttail\")\n",
    "except ValidationError as e:\n",
    "    print(e)"
   ]
  },
  {
   "cell_type": "markdown",
   "metadata": {},
   "source": [
    "#### Default factories for dynamic default values"
   ]
  },
  {
   "cell_type": "markdown",
   "metadata": {},
   "source": [
    "Recall gotcha with dynamic or mutable default values. Pydantic provides the `default_factory` argument on the `Field` function to cover this use case. This argument expects you to pass a function that will be \n",
    "called during model instantiation. Thus, the resulting object will be evaluated at runtime \n",
    "each time you create a new object. "
   ]
  },
  {
   "cell_type": "code",
   "execution_count": 7,
   "metadata": {},
   "outputs": [
    {
     "name": "stdout",
     "output_type": "stream",
     "text": [
      "3.00542\n"
     ]
    }
   ],
   "source": [
    "class Post(BaseModel):\n",
    "    date_created: date = Field(default_factory=lambda: datetime.now())\n",
    "    tag: Optional[str]\n",
    "\n",
    "post1 = Post()\n",
    "time.sleep(3)\n",
    "post2 = Post()\n",
    "print((post2.date_created - post1.date_created).total_seconds())"
   ]
  },
  {
   "cell_type": "markdown",
   "metadata": {},
   "source": [
    "The factory function should have no arguments. Moreover, there is no need to set default values in the `Field` functions (which is reasonable)."
   ]
  },
  {
   "cell_type": "markdown",
   "metadata": {},
   "source": [
    "### Validating email addresses and URLs with Pydantic types"
   ]
  },
  {
   "cell_type": "markdown",
   "metadata": {},
   "source": [
    "For this to work, you may need `email-validator` which can be installed using `pip`. "
   ]
  },
  {
   "cell_type": "code",
   "execution_count": 8,
   "metadata": {},
   "outputs": [
    {
     "name": "stdout",
     "output_type": "stream",
     "text": [
      "Requirement already satisfied: email-validator in /Users/particle1331/miniforge3/envs/ml-cpu/lib/python3.9/site-packages (1.1.3)\n",
      "Requirement already satisfied: idna>=2.0.0 in /Users/particle1331/miniforge3/envs/ml-cpu/lib/python3.9/site-packages (from email-validator) (3.1)\n",
      "Requirement already satisfied: dnspython>=1.15.0 in /Users/particle1331/miniforge3/envs/ml-cpu/lib/python3.9/site-packages (from email-validator) (2.1.0)\n"
     ]
    }
   ],
   "source": [
    "!pip install email-validator"
   ]
  },
  {
   "cell_type": "code",
   "execution_count": 9,
   "metadata": {},
   "outputs": [],
   "source": [
    "from pydantic import BaseModel, EmailStr, HttpUrl, ValidationError\n",
    "\n",
    "class User(BaseModel):\n",
    "    email: EmailStr\n",
    "    website: HttpUrl"
   ]
  },
  {
   "cell_type": "markdown",
   "metadata": {},
   "source": [
    "In the following script, we use `ValidationError` as our exception class:"
   ]
  },
  {
   "cell_type": "code",
   "execution_count": 10,
   "metadata": {},
   "outputs": [
    {
     "name": "stdout",
     "output_type": "stream",
     "text": [
      "1 validation error for User\n",
      "email\n",
      "  value is not a valid email address (type=value_error.email)\n"
     ]
    }
   ],
   "source": [
    "try:\n",
    "    User(email=\"user@email,com\", website=\"https://www.example.com\")\n",
    "except ValidationError as e:\n",
    "    print(str(e))"
   ]
  },
  {
   "cell_type": "code",
   "execution_count": 11,
   "metadata": {},
   "outputs": [
    {
     "name": "stdout",
     "output_type": "stream",
     "text": [
      "1 validation error for User\n",
      "website\n",
      "  URL host invalid (type=value_error.url.host)\n"
     ]
    }
   ],
   "source": [
    "try:\n",
    "    User(email=\"user@email.com\", website=\"https://www.example,com\")\n",
    "except ValidationError as e:\n",
    "    print(str(e))"
   ]
  },
  {
   "cell_type": "markdown",
   "metadata": {},
   "source": [
    "When valid, we get the following parsing for the URL:"
   ]
  },
  {
   "cell_type": "code",
   "execution_count": 12,
   "metadata": {},
   "outputs": [
    {
     "data": {
      "text/plain": [
       "User(email='jdoe@example.com', website=HttpUrl('https://www.example.com', scheme='https', host='www.example.com', tld='com', host_type='domain'))"
      ]
     },
     "execution_count": 12,
     "metadata": {},
     "output_type": "execute_result"
    }
   ],
   "source": [
    "User(email=\"jdoe@example.com\", website=\"https://www.example.com\")"
   ]
  },
  {
   "cell_type": "markdown",
   "metadata": {},
   "source": [
    "## Creating model variations with class inheritance"
   ]
  },
  {
   "cell_type": "markdown",
   "metadata": {},
   "source": [
    "Recall in the previous notebook, we saw a case where we needed to \n",
    "define two variations of a Pydantic model in order to split between (1) the data we want to \n",
    "store in the backend and (2) the data we want to show to the user. We can another model which represents (3) the data needed to create an object. This is a common pattern \n",
    "in FastAPI: you define one model for **creation**, one for the **response** and one for the **database entry**."
   ]
  },
  {
   "cell_type": "code",
   "execution_count": 13,
   "metadata": {},
   "outputs": [],
   "source": [
    "class PostBase(BaseModel):\n",
    "    title: str\n",
    "    content: str\n",
    "\n",
    "class PostCreate(PostBase):\n",
    "    pass\n",
    "\n",
    "class PostPublic(PostBase):\n",
    "    id: int\n",
    "\n",
    "class PostDB(PostBase):\n",
    "    id: int\n",
    "    nb_views: int = 0\n"
   ]
  },
  {
   "cell_type": "markdown",
   "metadata": {},
   "source": [
    "These models cover the three situations described above. `PostCreate` will be used for a POST endpoint to create a new post. We expect the user to give the title and the content, while the **identifier** `id` will be automatically determined by the database. `PostPublic` will be used when we retrieve the data of a post. We want its title and content, of course, but also its associated ID in the database. `PostDB` will carry all the data we wish to store in the database. Here, we also want\n",
    "to store the number of views, but we want to keep this secret to make our own statistics internally."
   ]
  },
  {
   "cell_type": "markdown",
   "metadata": {},
   "source": [
    "We use class inheritance to adhere to the [DRY principle](https://en.wikipedia.org/wiki/Don't_repeat_yourself). Here the three models depend on a single base model. Note that we can also add methods on the base model which will be inherited by the derived models."
   ]
  },
  {
   "cell_type": "markdown",
   "metadata": {},
   "source": [
    "## Adding custom data validation with Pydantic"
   ]
  },
  {
   "cell_type": "markdown",
   "metadata": {},
   "source": [
    "In a real-world project, though,\n",
    "you'll probably need to add your own custom validation logic for your specific case.\n",
    "Pydantic allows this by defining **validators**, which are methods on the model that can be\n",
    "applied at a field level or an object level."
   ]
  },
  {
   "cell_type": "markdown",
   "metadata": {},
   "source": [
    "### Appying validation at a field level"
   ]
  },
  {
   "cell_type": "code",
   "execution_count": 14,
   "metadata": {},
   "outputs": [],
   "source": [
    "from datetime import date\n",
    "from pydantic import BaseModel, validator\n",
    "\n",
    "class Person(BaseModel):\n",
    "    first_name: str\n",
    "    last_name: str\n",
    "    birthdate: date\n",
    "\n",
    "    @validator(\"birthdate\")\n",
    "    def valid_birthdate(cls, v: date): # classmethod\n",
    "        delta = date.today() - v\n",
    "        age = delta.days / 365\n",
    "        if age > 120:\n",
    "            raise ValueError(\"You seem a bit too old!\")\n",
    "        return v"
   ]
  },
  {
   "cell_type": "markdown",
   "metadata": {},
   "source": [
    "Let's test with a person born in the 1800s."
   ]
  },
  {
   "cell_type": "code",
   "execution_count": 15,
   "metadata": {},
   "outputs": [
    {
     "name": "stdout",
     "output_type": "stream",
     "text": [
      "1 validation error for Person\n",
      "birthdate\n",
      "  You seem a bit too old! (type=value_error)\n"
     ]
    }
   ],
   "source": [
    "try:\n",
    "    Person(first_name=\"John\", last_name=\"Doe\", birthdate=\"1800-01-01\")\n",
    "except ValidationError as e:\n",
    "    print(e)"
   ]
  },
  {
   "cell_type": "code",
   "execution_count": 16,
   "metadata": {},
   "outputs": [
    {
     "name": "stdout",
     "output_type": "stream",
     "text": [
      "first_name='John' last_name='Doe' birthdate=datetime.date(1991, 1, 1)\n"
     ]
    }
   ],
   "source": [
    "person = Person(first_name=\"John\", last_name=\"Doe\", birthdate=\"1991-01-01\")\n",
    "print(person)"
   ]
  },
  {
   "cell_type": "markdown",
   "metadata": {},
   "source": [
    "Pydantic expects two things for this method. If the value is not valid according to your logic, you should raise a **`ValueError`** error with an explicit error message. Otherwise, you should return the value that will be assigned in the model. Notice that it doesn't need to be the same as the input value: you can very well change it\n",
    "to fit your needs."
   ]
  },
  {
   "cell_type": "markdown",
   "metadata": {},
   "source": [
    "### Applying validation at an object level"
   ]
  },
  {
   "cell_type": "markdown",
   "metadata": {},
   "source": [
    "It happens quite often that the validation of one field is dependent on another &mdash; for\n",
    "example, to check if a password confirmation matches the password or to enforce a field\n",
    "to be required in certain circumstances. To allow this kind of validation, we need to access\n",
    "the *whole* object data. For this, Pydantic provides the `root_validator` decorator,\n",
    "which is illustrated in the following code example:"
   ]
  },
  {
   "cell_type": "code",
   "execution_count": 17,
   "metadata": {},
   "outputs": [],
   "source": [
    "from pydantic import BaseModel, root_validator, EmailStr, ValidationError\n",
    "\n",
    "class UserRegistration(BaseModel):\n",
    "    email: EmailStr\n",
    "    password: str\n",
    "    password_confirmation: str\n",
    "\n",
    "    @root_validator()\n",
    "    def passwords_match(cls, values):\n",
    "        password1 = values.get(\"password\")\n",
    "        password2 = values.get(\"password_confirmation\")\n",
    "        if password1 != password2:\n",
    "            raise ValueError(\"Password don't match.\") # not ValidationError!\n",
    "        return values"
   ]
  },
  {
   "cell_type": "markdown",
   "metadata": {},
   "source": [
    "Test with password that don't match:"
   ]
  },
  {
   "cell_type": "code",
   "execution_count": 18,
   "metadata": {},
   "outputs": [
    {
     "name": "stdout",
     "output_type": "stream",
     "text": [
      "1 validation error for UserRegistration\n",
      "__root__\n",
      "  Password don't match. (type=value_error)\n"
     ]
    }
   ],
   "source": [
    "try:\n",
    "    # invalid\n",
    "    registration = UserRegistration(\n",
    "        email=\"user@email.com\", \n",
    "        password=\"123456\", \n",
    "        password_confirmation=\"1234567\"\n",
    "    )\n",
    "except ValidationError as e:\n",
    "    print(e)"
   ]
  },
  {
   "cell_type": "markdown",
   "metadata": {},
   "source": [
    "Test with passwords that do match:"
   ]
  },
  {
   "cell_type": "code",
   "execution_count": 19,
   "metadata": {},
   "outputs": [],
   "source": [
    "try:\n",
    "    # valid\n",
    "    registration = UserRegistration(\n",
    "        email=\"user@email.com\", \n",
    "        password=\"123456\", \n",
    "        password_confirmation=\"123456\"\n",
    "    )\n",
    "except ValidationError as e:\n",
    "    print(e)"
   ]
  },
  {
   "cell_type": "markdown",
   "metadata": {},
   "source": [
    "The usage of this decorator is similar to the `validator` decorator. The static class\n",
    "method is called along with the `values` argument, which is a dictionary containing all\n",
    "the fields. Thus, you can retrieve each one of them and implement your logic.\n",
    "\n",
    "Once again, Pydantic expects two things for this method. If the values are not valid according to your logic, you should raise a **`ValueError`** error with an explicit error message. Otherwise, you should return a values dictionary that will be assigned to the model. Notice that you could change the values in this dictionary to fit your needs."
   ]
  },
  {
   "cell_type": "markdown",
   "metadata": {},
   "source": [
    "### Applying validation before Pydantic parsing"
   ]
  },
  {
   "cell_type": "markdown",
   "metadata": {},
   "source": [
    "By default, your validators are run after Pydantic has done its parsing work. This means\n",
    "that the value you get already conforms to the type of field you specified. If the type is\n",
    "incorrect, Pydantic raises an error without calling your validator. Indeed, the following code attempts to perform `int(\"a3\")[1:]`."
   ]
  },
  {
   "cell_type": "code",
   "execution_count": 20,
   "metadata": {},
   "outputs": [
    {
     "name": "stdout",
     "output_type": "stream",
     "text": [
      "1 validation error for Test\n",
      "x\n",
      "  value is not a valid integer (type=type_error.integer)\n"
     ]
    }
   ],
   "source": [
    "class Test(BaseModel):\n",
    "    x: int\n",
    "\n",
    "    @validator(\"x\")\n",
    "    def x_type(cls, v):\n",
    "        return v[1:]\n",
    "\n",
    "try:    \n",
    "    t = Test(x=\"a3\")\n",
    "except ValidationError as e:\n",
    "    print(e)"
   ]
  },
  {
   "cell_type": "markdown",
   "metadata": {},
   "source": [
    "To run the validator before Pydantic parses the data, use the setting `pre=True` in the decorator. Here, validation pushes through before type conversion &mdash; essentially performing `int(\"a3\"[1:])` which results to the integer `3`. "
   ]
  },
  {
   "cell_type": "code",
   "execution_count": 21,
   "metadata": {},
   "outputs": [
    {
     "name": "stdout",
     "output_type": "stream",
     "text": [
      "3\n"
     ]
    }
   ],
   "source": [
    "class Test(BaseModel):\n",
    "    x: int\n",
    "\n",
    "    @validator(\"x\", pre=True)\n",
    "    def x_type(cls, v):\n",
    "        return v[1:]\n",
    "\n",
    "try:\n",
    "    t = Test(x=\"a3\")\n",
    "    print(t.x)\n",
    "except ValidationError as e:\n",
    "    print(e)\n"
   ]
  },
  {
   "cell_type": "markdown",
   "metadata": {},
   "source": [
    "This can be useful if we have preprocessing on a field that will not work if the field has already been converted to its specified type. "
   ]
  },
  {
   "cell_type": "markdown",
   "metadata": {},
   "source": [
    "## Working with Pydantic objects"
   ]
  },
  {
   "cell_type": "markdown",
   "metadata": {},
   "source": [
    "When developing API endpoints with FastAPI, you'll likely get a lot of Pydantic model\n",
    "instances to handle. It's then up to you to implement the logic to make a link between those\n",
    "objects and your services, such as your database or your **machine learning** (**ML**) model. The trick is to work with Pydantic models as dictionaries when working across different services. Fortunately, Pydantic provides methods to make this very easy. "
   ]
  },
  {
   "cell_type": "markdown",
   "metadata": {},
   "source": [
    "### Converting an object into a dictionary"
   ]
  },
  {
   "cell_type": "code",
   "execution_count": 22,
   "metadata": {},
   "outputs": [],
   "source": [
    "class S(BaseModel):\n",
    "    x: str\n",
    "    y: str\n",
    "\n",
    "class T(BaseModel):\n",
    "    a: int\n",
    "    b: int\n",
    "    c: S\n",
    "    d: int = -99\n",
    "\n",
    "t = T(a=\"0\", b=\"-1\", c=S(x=\"x\", y=\"y\"))"
   ]
  },
  {
   "cell_type": "markdown",
   "metadata": {},
   "source": [
    "Note that this recursively applies `.dict` to all submodels. Moreover, it provides parameters `include` and `exclude` that expect a set with the keys of the fields you want\n",
    "to include or exclude."
   ]
  },
  {
   "cell_type": "code",
   "execution_count": 23,
   "metadata": {},
   "outputs": [
    {
     "data": {
      "text/plain": [
       "{'a': 0, 'c': {'x': 'x', 'y': 'y'}}"
      ]
     },
     "execution_count": 23,
     "metadata": {},
     "output_type": "execute_result"
    }
   ],
   "source": [
    "t.dict(include={\"a\", \"b\", \"c\"}, exclude={\"b\"}) # {\"a\", \"b\", \"c\"} - {\"b\"}"
   ]
  },
  {
   "cell_type": "markdown",
   "metadata": {},
   "source": [
    "We can also apply include or exclude for higher order keys as follows:"
   ]
  },
  {
   "cell_type": "code",
   "execution_count": 24,
   "metadata": {},
   "outputs": [
    {
     "data": {
      "text/plain": [
       "{'a': 0, 'b': -1, 'c': {'x': 'x'}}"
      ]
     },
     "execution_count": 24,
     "metadata": {},
     "output_type": "execute_result"
    }
   ],
   "source": [
    "t.dict(include={\n",
    "        \"a\": ..., \n",
    "        \"b\": ..., \n",
    "        \"c\": {\"x\"},\n",
    "    }\n",
    ")"
   ]
  },
  {
   "cell_type": "markdown",
   "metadata": {},
   "source": [
    "### Creating an instance from a subclass object"
   ]
  },
  {
   "cell_type": "markdown",
   "metadata": {},
   "source": [
    "Since `PostDB` has fields that include the fields of `PostCreate` as a subset, we can create a database object from a post creation object by simply including values from the post creation object's fields. In our case, we do `PostDB(id=new_id, **post_create.dict())` which extracts the key-value pairs to instantiate the fields. "
   ]
  },
  {
   "cell_type": "markdown",
   "metadata": {},
   "source": [
    "```python\n",
    "class DummyDatabase:\n",
    "    posts: Dict[int, PostDB] = {}\n",
    "\n",
    "db = DummyDatabase()\n",
    "\n",
    "@app.post(\"/posts\", status_code=status.HTTP_201_CREATED, response_model=PostPublic)\n",
    "async def create(post_create: PostCreate):\n",
    "    new_id = max(db.posts.keys() or (0,)) + 1\n",
    "    post = PostDB(id=new_id, **post_create.dict())\n",
    "    db.posts[new_id] = post\n",
    "    return post # PostDB object returned, but JSON response uses fields from PostPublic.\n",
    "```"
   ]
  },
  {
   "cell_type": "markdown",
   "metadata": {},
   "source": [
    "Notice also that we set the `response_model` argument on the path operation\n",
    "decorator. Basically, it prompts FastAPI to build a **JSON response** with only the fields of\n",
    "`PostPublic`, even though we return a PostDB instance at the end of the function."
   ]
  },
  {
   "cell_type": "markdown",
   "metadata": {},
   "source": [
    "### Updating an instance with a partial one"
   ]
  },
  {
   "cell_type": "markdown",
   "metadata": {},
   "source": [
    "In some situations, you'll want to allow **partial updates**. In other words, you'll allow the\n",
    "end user to only send the fields they want to change to your API and omit the ones that\n",
    "shouldn't change. This is the usual way of implementing a PATCH endpoint."
   ]
  },
  {
   "cell_type": "markdown",
   "metadata": {},
   "source": [
    "To do this, you would first need a special Pydantic model with all the fields marked as\n",
    "optional so that no error is raised when a field is missing. Let's see what this looks like\n",
    "with our `Post` example, as follows:"
   ]
  },
  {
   "cell_type": "code",
   "execution_count": 25,
   "metadata": {},
   "outputs": [],
   "source": [
    "class PostBase(BaseModel):\n",
    "    title: str\n",
    "    content: str\n",
    "    \n",
    "class PostPartialUpdate(BaseModel):\n",
    "    title: Optional[str] = None\n",
    "    content: Optional[str] = None"
   ]
  },
  {
   "cell_type": "markdown",
   "metadata": {},
   "source": [
    "We are now able to implement an endpoint that will accept a subset of our `Post` fields.\n",
    "Since it's an update, we'll **retrieve** an existing post in the database thanks to its ID. Then,\n",
    "we'll have to find a way to only update the fields in the payload and keep the others\n",
    "untouched. Fortunately, Pydantic once again has this covered, with handy methods\n",
    "and options."
   ]
  },
  {
   "cell_type": "markdown",
   "metadata": {},
   "source": [
    "```python\n",
    "@app.patch(\"/posts/{id}\", response_model=PostPublic)\n",
    "async def partial_update(id: int, post_update: PostPartialUpdate):\n",
    "    try:\n",
    "        post_db = db.posts[id]        \n",
    "    except KeyError:\n",
    "        raise HTTPException(status.HTTP_404_NOT_FOUND)\n",
    "\n",
    "    updated_fields = post_update.dict(exclude_unset=True)\n",
    "    updated_post = post_db.copy(update=updated_fields)\n",
    "\n",
    "    db.posts[id] = updated_post\n",
    "    return updated_post\n",
    "```"
   ]
  },
  {
   "cell_type": "markdown",
   "metadata": {},
   "source": [
    "Since we are updating, we first check whether the key exists in the database, otherwise we raise a `KeyError` along with a 404 status code. We update the retrieved `post_db` by applying `.copy(update=updated_fields)` where `updated_fields` is a dictionary that maps fields to new values. The update values are sent via a PATCH request; we use `exclude_unset=True` so that fields not sent in the payload of the PATCH request are ignored in the resulting dictionary. Finally, a JSON response for a public post is returned, and the database object is updated as a side-effect."
   ]
  },
  {
   "cell_type": "code",
   "execution_count": 26,
   "metadata": {},
   "outputs": [
    {
     "name": "stdout",
     "output_type": "stream",
     "text": [
      "Map of updated fields: {'title': 'New Title'}\n"
     ]
    }
   ],
   "source": [
    "post_retrieved = PostCreate(title=\"Old Title\", content=\"Old Content.\")  # From DB\n",
    "post_update = PostPartialUpdate(title=\"New Title\")                      # From PATCH request payload \n",
    "\n",
    "print(\"Map of updated fields:\", post_update.dict(exclude_unset=True))"
   ]
  },
  {
   "cell_type": "code",
   "execution_count": 27,
   "metadata": {},
   "outputs": [
    {
     "data": {
      "text/plain": [
       "PostCreate(title='New Title', content='Old Content.')"
      ]
     },
     "execution_count": 27,
     "metadata": {},
     "output_type": "execute_result"
    }
   ],
   "source": [
    "post_retrieved.copy(update=post_update.dict(exclude_unset=True))"
   ]
  },
  {
   "cell_type": "markdown",
   "metadata": {},
   "source": [
    "```{tip}\n",
    "You will probably use the `exclude_unset` argument and the `copy` method\n",
    "quite often while developing with FastAPI. So be sure to keep them in mind &mdash; they'll make your life easier!\n",
    "```\n"
   ]
  },
  {
   "cell_type": "markdown",
   "metadata": {},
   "source": []
  }
 ],
 "metadata": {
  "interpreter": {
   "hash": "19fbd03dd40cd05d53fcb3d59bf70c2c1ea089b0d5f32d55a89d34fe976eebeb"
  },
  "kernelspec": {
   "display_name": "Python 3.9.9 64-bit ('ml-cpu': conda)",
   "language": "python",
   "name": "python3"
  },
  "language_info": {
   "codemirror_mode": {
    "name": "ipython",
    "version": 3
   },
   "file_extension": ".py",
   "mimetype": "text/x-python",
   "name": "python",
   "nbconvert_exporter": "python",
   "pygments_lexer": "ipython3",
   "version": "3.9.9"
  }
 },
 "nbformat": 4,
 "nbformat_minor": 2
}